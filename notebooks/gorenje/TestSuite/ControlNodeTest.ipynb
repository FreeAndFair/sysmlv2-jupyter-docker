{
 "cells": [
  {
   "cell_type": "markdown",
   "id": "39e89277",
   "metadata": {},
   "source": [
    "# SysML v2 Test Suite\n",
    "\n",
    "This can notebook can be cleared using menu `Edit --> Clear All Outputs` and then all cells can be\n",
    "run using menu `Run --> Run All Cells`.\n",
    "\n",
    "**WARNING**: This file is generated, all modifications here will be ignored.\n"
   ]
  },
  {
   "cell_type": "markdown",
   "id": "2c69baa9",
   "metadata": {},
   "source": [
    "## File: ../../sysml/src/examples/Simple Tests/ControlNodeTest.sysml"
   ]
  },
  {
   "cell_type": "code",
   "execution_count": 1,
   "id": "8863b23b",
   "metadata": {
    "execution": {
     "iopub.execute_input": "2024-12-16T14:20:22.531247Z",
     "iopub.status.busy": "2024-12-16T14:20:22.530455Z",
     "iopub.status.idle": "2024-12-16T14:20:22.851668Z",
     "shell.execute_reply": "2024-12-16T14:20:22.851830Z"
    }
   },
   "outputs": [
    {
     "data": {
      "text/plain": [
       "ActionDefinition ControlNodeTest (fb29792e-912d-4ab4-a64b-8ae4f88f6031)\n"
      ]
     },
     "execution_count": 1,
     "metadata": {},
     "output_type": "execute_result"
    }
   ],
   "source": [
    "action def ControlNodeTest {\n",
    "\taction A1;\n",
    "\tthen J;\n",
    "\t\n",
    "\taction A2;\n",
    "\tthen J;\n",
    "\t\n",
    "\tjoin J;\n",
    "\tthen fork F;\n",
    "\tthen B1;\n",
    "\tthen B2;\n",
    "\t\t\n",
    "\taction B1;\n",
    "\taction B2;\n",
    "}"
   ]
  },
  {
   "cell_type": "code",
   "execution_count": 2,
   "id": "3a9b32f0",
   "metadata": {
    "execution": {
     "iopub.execute_input": "2024-12-16T14:20:22.907109Z",
     "iopub.status.busy": "2024-12-16T14:20:22.906881Z",
     "iopub.status.idle": "2024-12-16T14:20:23.325128Z",
     "shell.execute_reply": "2024-12-16T14:20:23.324960Z"
    }
   },
   "outputs": [
    {
     "data": {
      "image/svg+xml": [
       "<?xml version=\"1.0\" encoding=\"UTF-8\" standalone=\"no\"?><svg xmlns=\"http://www.w3.org/2000/svg\" xmlns:xlink=\"http://www.w3.org/1999/xlink\" contentStyleType=\"text/css\" height=\"366px\" preserveAspectRatio=\"none\" style=\"width:201px;height:366px;background:#FFFFFF;\" version=\"1.1\" viewBox=\"0 0 201 366\" width=\"201px\" zoomAndPan=\"magnify\"><defs/><g><!--MD5=[fbc87193dbaf4d95561dea2c320d4a47]\n",
       "cluster E1--><g id=\"cluster_E1\"><a href=\"psysml:fb29792e-912d-4ab4-a64b-8ae4f88f6031\" target=\"_top\" title=\"psysml:fb29792e-912d-4ab4-a64b-8ae4f88f6031\" xlink:actuate=\"onRequest\" xlink:href=\"psysml:fb29792e-912d-4ab4-a64b-8ae4f88f6031\" xlink:show=\"new\" xlink:title=\"psysml:fb29792e-912d-4ab4-a64b-8ae4f88f6031\" xlink:type=\"simple\"><rect fill=\"#FFFFFF\" height=\"353\" id=\"E1\" style=\"stroke:#383838;stroke-width:1.5;\" width=\"187\" x=\"7\" y=\"7\"/><text fill=\"#000000\" font-family=\"sans-serif\" font-size=\"12\" font-style=\"italic\" lengthAdjust=\"spacing\" textLength=\"81\" x=\"60\" y=\"23.1387\">«action  def»</text><text fill=\"#000000\" font-family=\"sans-serif\" font-size=\"14\" lengthAdjust=\"spacing\" textLength=\"118\" x=\"41.5\" y=\"38.9639\">ControlNodeTest</text><line style=\"stroke:#383838;stroke-width:1.0;\" x1=\"7\" x2=\"194\" y1=\"47.2656\" y2=\"47.2656\"/></a></g><rect fill=\"#555555\" height=\"8\" style=\"stroke:none;stroke-width:1.0;\" width=\"80\" x=\"60\" y=\"163\"/><rect fill=\"#555555\" height=\"8\" style=\"stroke:none;stroke-width:1.0;\" width=\"80\" x=\"60\" y=\"231\"/><g><a href=\"psysml:fe1ec0cc-95d8-48f7-a7e5-aef83e3da3f9\" target=\"_top\" title=\"psysml:fe1ec0cc-95d8-48f7-a7e5-aef83e3da3f9\" xlink:actuate=\"onRequest\" xlink:href=\"psysml:fe1ec0cc-95d8-48f7-a7e5-aef83e3da3f9\" xlink:show=\"new\" xlink:title=\"psysml:fe1ec0cc-95d8-48f7-a7e5-aef83e3da3f9\" xlink:type=\"simple\"><rect fill=\"#FFFFFF\" height=\"45.2656\" id=\"E2\" rx=\"10\" ry=\"10\" style=\"stroke:#383838;stroke-width:1.5;\" width=\"60\" x=\"118\" y=\"58\"/><text fill=\"#000000\" font-family=\"sans-serif\" font-size=\"12\" font-style=\"italic\" lengthAdjust=\"spacing\" textLength=\"53\" x=\"121.5\" y=\"74.1387\">«action»</text><text fill=\"#000000\" font-family=\"sans-serif\" font-size=\"14\" lengthAdjust=\"spacing\" textLength=\"18\" x=\"139\" y=\"89.9639\">A1</text></a></g><g><a href=\"psysml:c0a5c6df-be9c-4195-8c1c-0f8f015b3130\" target=\"_top\" title=\"psysml:c0a5c6df-be9c-4195-8c1c-0f8f015b3130\" xlink:actuate=\"onRequest\" xlink:href=\"psysml:c0a5c6df-be9c-4195-8c1c-0f8f015b3130\" xlink:show=\"new\" xlink:title=\"psysml:c0a5c6df-be9c-4195-8c1c-0f8f015b3130\" xlink:type=\"simple\"><rect fill=\"#FFFFFF\" height=\"45.2656\" id=\"E3\" rx=\"10\" ry=\"10\" style=\"stroke:#383838;stroke-width:1.5;\" width=\"60\" x=\"23\" y=\"58\"/><text fill=\"#000000\" font-family=\"sans-serif\" font-size=\"12\" font-style=\"italic\" lengthAdjust=\"spacing\" textLength=\"53\" x=\"26.5\" y=\"74.1387\">«action»</text><text fill=\"#000000\" font-family=\"sans-serif\" font-size=\"14\" lengthAdjust=\"spacing\" textLength=\"18\" x=\"44\" y=\"89.9639\">A2</text></a></g><g><a href=\"psysml:2e4137e4-9d77-4a25-b719-c29e464dbfc7\" target=\"_top\" title=\"psysml:2e4137e4-9d77-4a25-b719-c29e464dbfc7\" xlink:actuate=\"onRequest\" xlink:href=\"psysml:2e4137e4-9d77-4a25-b719-c29e464dbfc7\" xlink:show=\"new\" xlink:title=\"psysml:2e4137e4-9d77-4a25-b719-c29e464dbfc7\" xlink:type=\"simple\"><rect fill=\"#FFFFFF\" height=\"45.2656\" id=\"E6\" rx=\"10\" ry=\"10\" style=\"stroke:#383838;stroke-width:1.5;\" width=\"60\" x=\"23\" y=\"299\"/><text fill=\"#000000\" font-family=\"sans-serif\" font-size=\"12\" font-style=\"italic\" lengthAdjust=\"spacing\" textLength=\"53\" x=\"26.5\" y=\"315.1387\">«action»</text><text fill=\"#000000\" font-family=\"sans-serif\" font-size=\"14\" lengthAdjust=\"spacing\" textLength=\"19\" x=\"43.5\" y=\"330.9639\">B1</text></a></g><g><a href=\"psysml:22fc935b-3ced-457d-8850-10eb2e62808c\" target=\"_top\" title=\"psysml:22fc935b-3ced-457d-8850-10eb2e62808c\" xlink:actuate=\"onRequest\" xlink:href=\"psysml:22fc935b-3ced-457d-8850-10eb2e62808c\" xlink:show=\"new\" xlink:title=\"psysml:22fc935b-3ced-457d-8850-10eb2e62808c\" xlink:type=\"simple\"><rect fill=\"#FFFFFF\" height=\"45.2656\" id=\"E7\" rx=\"10\" ry=\"10\" style=\"stroke:#383838;stroke-width:1.5;\" width=\"60\" x=\"118\" y=\"299\"/><text fill=\"#000000\" font-family=\"sans-serif\" font-size=\"12\" font-style=\"italic\" lengthAdjust=\"spacing\" textLength=\"53\" x=\"121.5\" y=\"315.1387\">«action»</text><text fill=\"#000000\" font-family=\"sans-serif\" font-size=\"14\" lengthAdjust=\"spacing\" textLength=\"19\" x=\"138.5\" y=\"330.9639\">B2</text></a></g><!--MD5=[4d03bb2d0377dc85ccfab60ff574652b]\n",
       "link E2 to E4--><g id=\"link_E2_E4\"><a href=\"psysml:f9bcfb7b-138a-4058-8879-7210022ba40a\" target=\"_top\" title=\"psysml:f9bcfb7b-138a-4058-8879-7210022ba40a\" xlink:actuate=\"onRequest\" xlink:href=\"psysml:f9bcfb7b-138a-4058-8879-7210022ba40a\" xlink:show=\"new\" xlink:title=\"psysml:f9bcfb7b-138a-4058-8879-7210022ba40a\" xlink:type=\"simple\"><path d=\"M135.64,103.26 C125.33,121.4 111.25,146.19 104.28,158.47 \" fill=\"none\" id=\"E2-to-E4\" style=\"stroke:#181818;stroke-width:1.0;\"/><polygon fill=\"#181818\" points=\"101.75,162.91,109.6779,157.0663,104.223,158.5644,102.7249,153.1095,101.75,162.91\" style=\"stroke:#181818;stroke-width:1.0;\"/></a></g><!--MD5=[af87c684e3b0d8be13c1a698a818ef1e]\n",
       "link E3 to E4--><g id=\"link_E3_E4\"><a href=\"psysml:6481bc83-60df-4dde-906c-a5becb339116\" target=\"_top\" title=\"psysml:6481bc83-60df-4dde-906c-a5becb339116\" xlink:actuate=\"onRequest\" xlink:href=\"psysml:6481bc83-60df-4dde-906c-a5becb339116\" xlink:show=\"new\" xlink:title=\"psysml:6481bc83-60df-4dde-906c-a5becb339116\" xlink:type=\"simple\"><path d=\"M65.1,103.26 C75.19,121.4 88.98,146.19 95.81,158.47 \" fill=\"none\" id=\"E3-to-E4\" style=\"stroke:#181818;stroke-width:1.0;\"/><polygon fill=\"#181818\" points=\"98.28,162.91,97.3814,153.1022,95.8409,158.5453,90.3978,157.0048,98.28,162.91\" style=\"stroke:#181818;stroke-width:1.0;\"/></a></g><!--MD5=[1b7591eae5389033d8d09a9d6721a717]\n",
       "link E4 to E5--><g id=\"link_E4_E5\"><a href=\"psysml:091dd6b1-b372-46ae-b0ca-4e4aa94aac13\" target=\"_top\" title=\"psysml:091dd6b1-b372-46ae-b0ca-4e4aa94aac13\" xlink:actuate=\"onRequest\" xlink:href=\"psysml:091dd6b1-b372-46ae-b0ca-4e4aa94aac13\" xlink:show=\"new\" xlink:title=\"psysml:091dd6b1-b372-46ae-b0ca-4e4aa94aac13\" xlink:type=\"simple\"><path d=\"M100,171.18 C100,180.92 100,210.52 100,225.34 \" fill=\"none\" id=\"E4-to-E5\" style=\"stroke:#181818;stroke-width:1.0;\"/><polygon fill=\"#181818\" points=\"100,230.69,104,221.69,100,225.69,96,221.69,100,230.69\" style=\"stroke:#181818;stroke-width:1.0;\"/></a></g><!--MD5=[9120cf2e5df3bff93db8f754bbbc09b4]\n",
       "link E5 to E6--><g id=\"link_E5_E6\"><a href=\"psysml:418b7d58-d850-4614-9e9d-1c793842a2dd\" target=\"_top\" title=\"psysml:418b7d58-d850-4614-9e9d-1c793842a2dd\" xlink:actuate=\"onRequest\" xlink:href=\"psysml:418b7d58-d850-4614-9e9d-1c793842a2dd\" xlink:show=\"new\" xlink:title=\"psysml:418b7d58-d850-4614-9e9d-1c793842a2dd\" xlink:type=\"simple\"><path d=\"M98.21,239.21 C93.23,248.18 78.77,274.17 67.53,294.37 \" fill=\"none\" id=\"E5-to-E6\" style=\"stroke:#181818;stroke-width:1.0;\"/><polygon fill=\"#181818\" points=\"65.04,298.85,72.9074,292.9252,67.4682,294.4792,65.9142,289.04,65.04,298.85\" style=\"stroke:#181818;stroke-width:1.0;\"/></a></g><!--MD5=[3a9b96bfbf6b6ad89c494e81751bda47]\n",
       "link E5 to E7--><g id=\"link_E5_E7\"><a href=\"psysml:a0ea5228-fdc9-49fd-bb96-6ce22cf44d00\" target=\"_top\" title=\"psysml:a0ea5228-fdc9-49fd-bb96-6ce22cf44d00\" xlink:actuate=\"onRequest\" xlink:href=\"psysml:a0ea5228-fdc9-49fd-bb96-6ce22cf44d00\" xlink:show=\"new\" xlink:title=\"psysml:a0ea5228-fdc9-49fd-bb96-6ce22cf44d00\" xlink:type=\"simple\"><path d=\"M101.82,239.21 C106.92,248.18 121.68,274.17 133.16,294.37 \" fill=\"none\" id=\"E5-to-E7\" style=\"stroke:#181818;stroke-width:1.0;\"/><polygon fill=\"#181818\" points=\"135.7,298.85,134.7251,289.0495,133.227,294.5044,127.7721,293.0063,135.7,298.85\" style=\"stroke:#181818;stroke-width:1.0;\"/></a></g><!--MD5=[574e8ac82f25e1c75b91fb754881fb68]\n",
       "@startuml\r\n",
       "skin sysmlbw\r\n",
       "skinparam monochrome true\r\n",
       "skinparam wrapWidth 300\r\n",
       "hide circle\r\n",
       " \r\n",
       "rec def \"ControlNodeTest\" as E1  <<(T,blue) action  def>> [[psysml:fb29792e-912d-4ab4-a64b-8ae4f88f6031 ]] {\r\n",
       "rec usage \"A1\" as E2  <<(T,blue) action>> [[psysml:fe1ec0cc-95d8-48f7-a7e5-aef83e3da3f9 ]] {\r\n",
       "}\r\n",
       "\r\n",
       "rec usage \"A2\" as E3  <<(T,blue) action>> [[psysml:c0a5c6df-be9c-4195-8c1c-0f8f015b3130 ]] {\r\n",
       "}\r\n",
       "\r\n",
       "join \"J\" as E4  [[psysml:3bd09aec-2544-46ae-936d-01aed8eb96e7 ]] \r\n",
       "fork \"F\" as E5  [[psysml:17702565-4e67-4d00-9c2e-cf91774b37d5 ]] \r\n",
       "rec usage \"B1\" as E6  <<(T,blue) action>> [[psysml:2e4137e4-9d77-4a25-b719-c29e464dbfc7 ]] {\r\n",
       "}\r\n",
       "\r\n",
       "rec usage \"B2\" as E7  <<(T,blue) action>> [[psysml:22fc935b-3ced-457d-8850-10eb2e62808c ]] {\r\n",
       "}\r\n",
       "\r\n",
       "}\r\n",
       "\r\n",
       "E2 - -> E4 [[psysml:f9bcfb7b-138a-4058-8879-7210022ba40a ]] \r\n",
       "E3 - -> E4 [[psysml:6481bc83-60df-4dde-906c-a5becb339116 ]] \r\n",
       "E4 - -> E5 [[psysml:091dd6b1-b372-46ae-b0ca-4e4aa94aac13 ]] \r\n",
       "E5 - -> E6 [[psysml:418b7d58-d850-4614-9e9d-1c793842a2dd ]] \r\n",
       "E5 - -> E7 [[psysml:a0ea5228-fdc9-49fd-bb96-6ce22cf44d00 ]] \r\n",
       "@enduml\r\n",
       "\n",
       "PlantUML version 1.2022.7(Mon Aug 22 17:01:30 UTC 2022)\n",
       "(EPL source distribution)\n",
       "Java Runtime: OpenJDK Runtime Environment\n",
       "JVM: OpenJDK 64-Bit Server VM\n",
       "Default Encoding: UTF-8\n",
       "Language: en\n",
       "Country: null\n",
       "--></g></svg>"
      ]
     },
     "execution_count": 2,
     "metadata": {},
     "output_type": "execute_result"
    }
   ],
   "source": [
    "%viz --style=\"COMPTREE\" --view=\"Default\" \"ControlNodeTest\""
   ]
  },
  {
   "cell_type": "code",
   "execution_count": 3,
   "id": "444aa444",
   "metadata": {
    "execution": {
     "iopub.execute_input": "2024-12-16T14:20:23.378456Z",
     "iopub.status.busy": "2024-12-16T14:20:23.378233Z",
     "iopub.status.idle": "2024-12-16T14:20:23.459903Z",
     "shell.execute_reply": "2024-12-16T14:20:23.459470Z"
    }
   },
   "outputs": [
    {
     "data": {
      "image/svg+xml": [
       "<?xml version=\"1.0\" encoding=\"UTF-8\" standalone=\"no\"?><svg xmlns=\"http://www.w3.org/2000/svg\" xmlns:xlink=\"http://www.w3.org/1999/xlink\" contentStyleType=\"text/css\" height=\"586px\" preserveAspectRatio=\"none\" style=\"width:396px;height:586px;background:#FFFFFF;\" version=\"1.1\" viewBox=\"0 0 396 586\" width=\"396px\" zoomAndPan=\"magnify\"><defs/><g><!--MD5=[43c9051892ef23e1a46a86907403d788]\n",
       "class E1--><a href=\"psysml:fb29792e-912d-4ab4-a64b-8ae4f88f6031\" target=\"_top\" title=\"psysml:fb29792e-912d-4ab4-a64b-8ae4f88f6031\" xlink:actuate=\"onRequest\" xlink:href=\"psysml:fb29792e-912d-4ab4-a64b-8ae4f88f6031\" xlink:show=\"new\" xlink:title=\"psysml:fb29792e-912d-4ab4-a64b-8ae4f88f6031\" xlink:type=\"simple\"><g id=\"elem_E1\"><rect fill=\"#FFFFFF\" height=\"140.2688\" id=\"E1\" style=\"stroke:#181818;stroke-width:0.5;\" width=\"169\" x=\"157.41\" y=\"7\"/><text fill=\"#000000\" font-family=\"sans-serif\" font-size=\"12\" font-style=\"italic\" lengthAdjust=\"spacing\" textLength=\"81\" x=\"201.41\" y=\"23.1387\">«action  def»</text><text fill=\"#000000\" font-family=\"sans-serif\" font-size=\"14\" lengthAdjust=\"spacing\" textLength=\"118\" x=\"182.91\" y=\"38.9639\">ControlNodeTest</text><line style=\"stroke:#181818;stroke-width:0.5;\" x1=\"158.41\" x2=\"325.41\" y1=\"47.2656\" y2=\"47.2656\"/><text fill=\"#000000\" font-family=\"sans-serif\" font-size=\"14\" lengthAdjust=\"spacing\" textLength=\"151\" x=\"163.41\" y=\"74.7795\">noname first A1 then J</text><text fill=\"#000000\" font-family=\"sans-serif\" font-size=\"14\" lengthAdjust=\"spacing\" textLength=\"151\" x=\"163.41\" y=\"91.0764\">noname first A2 then J</text><text fill=\"#000000\" font-family=\"sans-serif\" font-size=\"14\" lengthAdjust=\"spacing\" textLength=\"141\" x=\"163.41\" y=\"107.3732\">noname first J then F</text><text fill=\"#000000\" font-family=\"sans-serif\" font-size=\"14\" lengthAdjust=\"spacing\" textLength=\"157\" x=\"163.41\" y=\"123.6701\">noname first F then B1</text><text fill=\"#000000\" font-family=\"sans-serif\" font-size=\"14\" lengthAdjust=\"spacing\" textLength=\"157\" x=\"163.41\" y=\"139.967\">noname first F then B2</text><text fill=\"#000000\" font-family=\"sans-serif\" font-size=\"14\" font-style=\"italic\" lengthAdjust=\"spacing\" textLength=\"87\" x=\"198.41\" y=\"59.6123\">successions</text></g></a><!--MD5=[b4997ac47864f28c2f74865a473b2911]\n",
       "class E2--><a href=\"psysml:fe1ec0cc-95d8-48f7-a7e5-aef83e3da3f9\" target=\"_top\" title=\"psysml:fe1ec0cc-95d8-48f7-a7e5-aef83e3da3f9\" xlink:actuate=\"onRequest\" xlink:href=\"psysml:fe1ec0cc-95d8-48f7-a7e5-aef83e3da3f9\" xlink:show=\"new\" xlink:title=\"psysml:fe1ec0cc-95d8-48f7-a7e5-aef83e3da3f9\" xlink:type=\"simple\"><g id=\"elem_E2\"><rect fill=\"#FFFFFF\" height=\"48.2656\" id=\"E2\" rx=\"10\" ry=\"10\" style=\"stroke:#181818;stroke-width:0.5;\" width=\"55\" x=\"84.41\" y=\"207\"/><text fill=\"#000000\" font-family=\"sans-serif\" font-size=\"12\" font-style=\"italic\" lengthAdjust=\"spacing\" textLength=\"53\" x=\"85.41\" y=\"223.1387\">«action»</text><text fill=\"#000000\" font-family=\"sans-serif\" font-size=\"14\" lengthAdjust=\"spacing\" textLength=\"18\" x=\"98.91\" y=\"238.9639\">A1</text><line style=\"stroke:#181818;stroke-width:0.5;\" x1=\"85.41\" x2=\"138.41\" y1=\"247.2656\" y2=\"247.2656\"/></g></a><!--MD5=[09b614a08d8cba4a07c9adeb5e0fee81]\n",
       "class E3--><a href=\"psysml:c0a5c6df-be9c-4195-8c1c-0f8f015b3130\" target=\"_top\" title=\"psysml:c0a5c6df-be9c-4195-8c1c-0f8f015b3130\" xlink:actuate=\"onRequest\" xlink:href=\"psysml:c0a5c6df-be9c-4195-8c1c-0f8f015b3130\" xlink:show=\"new\" xlink:title=\"psysml:c0a5c6df-be9c-4195-8c1c-0f8f015b3130\" xlink:type=\"simple\"><g id=\"elem_E3\"><rect fill=\"#FFFFFF\" height=\"48.2656\" id=\"E3\" rx=\"10\" ry=\"10\" style=\"stroke:#181818;stroke-width:0.5;\" width=\"55\" x=\"174.41\" y=\"207\"/><text fill=\"#000000\" font-family=\"sans-serif\" font-size=\"12\" font-style=\"italic\" lengthAdjust=\"spacing\" textLength=\"53\" x=\"175.41\" y=\"223.1387\">«action»</text><text fill=\"#000000\" font-family=\"sans-serif\" font-size=\"14\" lengthAdjust=\"spacing\" textLength=\"18\" x=\"188.91\" y=\"238.9639\">A2</text><line style=\"stroke:#181818;stroke-width:0.5;\" x1=\"175.41\" x2=\"228.41\" y1=\"247.2656\" y2=\"247.2656\"/></g></a><!--MD5=[ebbe1d658d1005bcc118a6aa81145e00]\n",
       "class E4--><a href=\"psysml:3bd09aec-2544-46ae-936d-01aed8eb96e7\" target=\"_top\" title=\"psysml:3bd09aec-2544-46ae-936d-01aed8eb96e7\" xlink:actuate=\"onRequest\" xlink:href=\"psysml:3bd09aec-2544-46ae-936d-01aed8eb96e7\" xlink:show=\"new\" xlink:title=\"psysml:3bd09aec-2544-46ae-936d-01aed8eb96e7\" xlink:type=\"simple\"><g id=\"elem_E4\"><rect fill=\"#FFFFFF\" height=\"48.2656\" id=\"E4\" rx=\"10\" ry=\"10\" style=\"stroke:#181818;stroke-width:0.5;\" width=\"74\" x=\"195.91\" y=\"315\"/><text fill=\"#000000\" font-family=\"sans-serif\" font-size=\"12\" font-style=\"italic\" lengthAdjust=\"spacing\" textLength=\"72\" x=\"196.91\" y=\"331.1387\">«join node»</text><text fill=\"#000000\" font-family=\"sans-serif\" font-size=\"14\" lengthAdjust=\"spacing\" textLength=\"3\" x=\"227.41\" y=\"346.9639\">J</text><line style=\"stroke:#181818;stroke-width:0.5;\" x1=\"196.91\" x2=\"268.91\" y1=\"355.2656\" y2=\"355.2656\"/></g></a><!--MD5=[270fce915f116d4de14055a7c1d9a0f3]\n",
       "class E5--><a href=\"psysml:17702565-4e67-4d00-9c2e-cf91774b37d5\" target=\"_top\" title=\"psysml:17702565-4e67-4d00-9c2e-cf91774b37d5\" xlink:actuate=\"onRequest\" xlink:href=\"psysml:17702565-4e67-4d00-9c2e-cf91774b37d5\" xlink:show=\"new\" xlink:title=\"psysml:17702565-4e67-4d00-9c2e-cf91774b37d5\" xlink:type=\"simple\"><g id=\"elem_E5\"><rect fill=\"#FFFFFF\" height=\"48.2656\" id=\"E5\" rx=\"10\" ry=\"10\" style=\"stroke:#181818;stroke-width:0.5;\" width=\"76\" x=\"260.91\" y=\"423\"/><text fill=\"#000000\" font-family=\"sans-serif\" font-size=\"12\" font-style=\"italic\" lengthAdjust=\"spacing\" textLength=\"74\" x=\"261.91\" y=\"439.1387\">«fork node»</text><text fill=\"#000000\" font-family=\"sans-serif\" font-size=\"14\" lengthAdjust=\"spacing\" textLength=\"8\" x=\"290.91\" y=\"454.9639\">F</text><line style=\"stroke:#181818;stroke-width:0.5;\" x1=\"261.91\" x2=\"335.91\" y1=\"463.2656\" y2=\"463.2656\"/></g></a><!--MD5=[60a26617385b1d2d0262a64233df1f8d]\n",
       "class E6--><a href=\"psysml:2e4137e4-9d77-4a25-b719-c29e464dbfc7\" target=\"_top\" title=\"psysml:2e4137e4-9d77-4a25-b719-c29e464dbfc7\" xlink:actuate=\"onRequest\" xlink:href=\"psysml:2e4137e4-9d77-4a25-b719-c29e464dbfc7\" xlink:show=\"new\" xlink:title=\"psysml:2e4137e4-9d77-4a25-b719-c29e464dbfc7\" xlink:type=\"simple\"><g id=\"elem_E6\"><rect fill=\"#FFFFFF\" height=\"48.2656\" id=\"E6\" rx=\"10\" ry=\"10\" style=\"stroke:#181818;stroke-width:0.5;\" width=\"55\" x=\"204.41\" y=\"531\"/><text fill=\"#000000\" font-family=\"sans-serif\" font-size=\"12\" font-style=\"italic\" lengthAdjust=\"spacing\" textLength=\"53\" x=\"205.41\" y=\"547.1387\">«action»</text><text fill=\"#000000\" font-family=\"sans-serif\" font-size=\"14\" lengthAdjust=\"spacing\" textLength=\"19\" x=\"218.41\" y=\"562.9639\">B1</text><line style=\"stroke:#181818;stroke-width:0.5;\" x1=\"205.41\" x2=\"258.41\" y1=\"571.2656\" y2=\"571.2656\"/></g></a><!--MD5=[2156ba9850f5573cc1fc38a6a4b2f02b]\n",
       "class E7--><a href=\"psysml:22fc935b-3ced-457d-8850-10eb2e62808c\" target=\"_top\" title=\"psysml:22fc935b-3ced-457d-8850-10eb2e62808c\" xlink:actuate=\"onRequest\" xlink:href=\"psysml:22fc935b-3ced-457d-8850-10eb2e62808c\" xlink:show=\"new\" xlink:title=\"psysml:22fc935b-3ced-457d-8850-10eb2e62808c\" xlink:type=\"simple\"><g id=\"elem_E7\"><rect fill=\"#FFFFFF\" height=\"48.2656\" id=\"E7\" rx=\"10\" ry=\"10\" style=\"stroke:#181818;stroke-width:0.5;\" width=\"55\" x=\"334.41\" y=\"531\"/><text fill=\"#000000\" font-family=\"sans-serif\" font-size=\"12\" font-style=\"italic\" lengthAdjust=\"spacing\" textLength=\"53\" x=\"335.41\" y=\"547.1387\">«action»</text><text fill=\"#000000\" font-family=\"sans-serif\" font-size=\"14\" lengthAdjust=\"spacing\" textLength=\"19\" x=\"348.41\" y=\"562.9639\">B2</text><line style=\"stroke:#181818;stroke-width:0.5;\" x1=\"335.41\" x2=\"388.41\" y1=\"571.2656\" y2=\"571.2656\"/></g></a><!--MD5=[a523cb2a0b79ecf9065ad8783f96c320]\n",
       "reverse link E1 to E2--><g id=\"link_E1_E2\"><a href=\"psysml:9306702f-37ef-4fdd-b535-5b953ffb2d58\" target=\"_top\" title=\"psysml:9306702f-37ef-4fdd-b535-5b953ffb2d58\" xlink:actuate=\"onRequest\" xlink:href=\"psysml:9306702f-37ef-4fdd-b535-5b953ffb2d58\" xlink:show=\"new\" xlink:title=\"psysml:9306702f-37ef-4fdd-b535-5b953ffb2d58\" xlink:type=\"simple\"><path d=\"M173.99,157.41 C158.47,175.56 143.18,193.45 131.65,206.92 \" fill=\"none\" id=\"E1-backto-E2\" style=\"stroke:#181818;stroke-width:1.0;\"/><polygon fill=\"#181818\" points=\"182.62,147.33,175.6817,149.2948,174.8268,156.455,181.7651,154.4902,182.62,147.33\" style=\"stroke:#181818;stroke-width:1.0;\"/></a></g><!--MD5=[5d7b3810b1dd9b5164bea1151b29b665]\n",
       "reverse link E1 to E3--><g id=\"link_E1_E3\"><a href=\"psysml:ff946dee-4dd2-48de-88dc-ec164dbbdf2e\" target=\"_top\" title=\"psysml:ff946dee-4dd2-48de-88dc-ec164dbbdf2e\" xlink:actuate=\"onRequest\" xlink:href=\"psysml:ff946dee-4dd2-48de-88dc-ec164dbbdf2e\" xlink:show=\"new\" xlink:title=\"psysml:ff946dee-4dd2-48de-88dc-ec164dbbdf2e\" xlink:type=\"simple\"><path d=\"M220.35,159.93 C215.81,177.2 211.37,194.07 207.98,206.92 \" fill=\"none\" id=\"E1-backto-E3\" style=\"stroke:#181818;stroke-width:1.0;\"/><polygon fill=\"#181818\" points=\"223.67,147.33,218.2726,152.1121,220.6109,158.9335,226.0083,154.1515,223.67,147.33\" style=\"stroke:#181818;stroke-width:1.0;\"/></a></g><!--MD5=[4d03bb2d0377dc85ccfab60ff574652b]\n",
       "link E2 to E4--><g id=\"link_E2_E4\"><a href=\"psysml:f9bcfb7b-138a-4058-8879-7210022ba40a\" target=\"_top\" title=\"psysml:f9bcfb7b-138a-4058-8879-7210022ba40a\" xlink:actuate=\"onRequest\" xlink:href=\"psysml:f9bcfb7b-138a-4058-8879-7210022ba40a\" xlink:show=\"new\" xlink:title=\"psysml:f9bcfb7b-138a-4058-8879-7210022ba40a\" xlink:type=\"simple\"><path d=\"M138.17,255 C157.06,271.55 182.61,293.93 202.41,311.28 \" fill=\"none\" id=\"E2-to-E4\" style=\"stroke:#181818;stroke-width:1.0;\"/><polygon fill=\"#181818\" points=\"206.29,314.68,202.1484,305.7443,202.5262,311.3885,196.882,311.7663,206.29,314.68\" style=\"stroke:#181818;stroke-width:1.0;\"/></a></g><!--MD5=[af87c684e3b0d8be13c1a698a818ef1e]\n",
       "link E3 to E4--><g id=\"link_E3_E4\"><a href=\"psysml:6481bc83-60df-4dde-906c-a5becb339116\" target=\"_top\" title=\"psysml:6481bc83-60df-4dde-906c-a5becb339116\" xlink:actuate=\"onRequest\" xlink:href=\"psysml:6481bc83-60df-4dde-906c-a5becb339116\" xlink:show=\"new\" xlink:title=\"psysml:6481bc83-60df-4dde-906c-a5becb339116\" xlink:type=\"simple\"><path d=\"M208.64,255 C213.32,271 219.59,292.45 224.58,309.53 \" fill=\"none\" id=\"E3-to-E4\" style=\"stroke:#181818;stroke-width:1.0;\"/><polygon fill=\"#181818\" points=\"226.09,314.68,227.41,304.92,224.69,309.88,219.73,307.16,226.09,314.68\" style=\"stroke:#181818;stroke-width:1.0;\"/></a></g><!--MD5=[f2c5c03aa1e8c0ba21c10a05e6444b8e]\n",
       "reverse link E1 to E4--><g id=\"link_E1_E4\"><a href=\"psysml:c17bb3db-0b7d-4d5b-b917-165c66d3be23\" target=\"_top\" title=\"psysml:c17bb3db-0b7d-4d5b-b917-165c66d3be23\" xlink:actuate=\"onRequest\" xlink:href=\"psysml:c17bb3db-0b7d-4d5b-b917-165c66d3be23\" xlink:show=\"new\" xlink:title=\"psysml:c17bb3db-0b7d-4d5b-b917-165c66d3be23\" xlink:type=\"simple\"><path d=\"M248.04,160.02 C249.27,189.95 249.5,224.05 246.91,255 C245.2,275.39 241.18,298.3 237.88,314.88 \" fill=\"none\" id=\"E1-backto-E4\" style=\"stroke:#181818;stroke-width:1.0;\"/><polygon fill=\"#181818\" points=\"247.43,147.03,243.7112,153.2082,247.9839,159.0172,251.7027,152.839,247.43,147.03\" style=\"stroke:#181818;stroke-width:1.0;\"/></a></g><!--MD5=[1b7591eae5389033d8d09a9d6721a717]\n",
       "link E4 to E5--><g id=\"link_E4_E5\"><a href=\"psysml:091dd6b1-b372-46ae-b0ca-4e4aa94aac13\" target=\"_top\" title=\"psysml:091dd6b1-b372-46ae-b0ca-4e4aa94aac13\" xlink:actuate=\"onRequest\" xlink:href=\"psysml:091dd6b1-b372-46ae-b0ca-4e4aa94aac13\" xlink:show=\"new\" xlink:title=\"psysml:091dd6b1-b372-46ae-b0ca-4e4aa94aac13\" xlink:type=\"simple\"><path d=\"M247.23,363 C257.37,379.28 271.01,401.19 281.73,418.41 \" fill=\"none\" id=\"E4-to-E5\" style=\"stroke:#181818;stroke-width:1.0;\"/><polygon fill=\"#181818\" points=\"284.39,422.68,283.0268,412.9259,281.7464,418.436,276.2364,417.1557,284.39,422.68\" style=\"stroke:#181818;stroke-width:1.0;\"/></a></g><!--MD5=[33238bef88d6431a141d8bc8fb12bca0]\n",
       "reverse link E1 to E5--><g id=\"link_E1_E5\"><a href=\"psysml:75ce6460-81e3-4fd8-b178-253d08d4aaea\" target=\"_top\" title=\"psysml:75ce6460-81e3-4fd8-b178-253d08d4aaea\" xlink:actuate=\"onRequest\" xlink:href=\"psysml:75ce6460-81e3-4fd8-b178-253d08d4aaea\" xlink:show=\"new\" xlink:title=\"psysml:75ce6460-81e3-4fd8-b178-253d08d4aaea\" xlink:type=\"simple\"><path d=\"M262.87,159.92 C266.49,175.5 270.02,191.71 272.91,207 C287.73,285.33 294.91,379.82 297.6,422.75 \" fill=\"none\" id=\"E1-backto-E5\" style=\"stroke:#181818;stroke-width:1.0;\"/><polygon fill=\"#181818\" points=\"259.82,147.02,257.3116,153.7808,262.5876,158.6965,265.0959,151.9357,259.82,147.02\" style=\"stroke:#181818;stroke-width:1.0;\"/></a></g><!--MD5=[9120cf2e5df3bff93db8f754bbbc09b4]\n",
       "link E5 to E6--><g id=\"link_E5_E6\"><a href=\"psysml:418b7d58-d850-4614-9e9d-1c793842a2dd\" target=\"_top\" title=\"psysml:418b7d58-d850-4614-9e9d-1c793842a2dd\" xlink:actuate=\"onRequest\" xlink:href=\"psysml:418b7d58-d850-4614-9e9d-1c793842a2dd\" xlink:show=\"new\" xlink:title=\"psysml:418b7d58-d850-4614-9e9d-1c793842a2dd\" xlink:type=\"simple\"><path d=\"M284.37,471 C274.08,487.28 260.24,509.19 249.35,526.41 \" fill=\"none\" id=\"E5-to-E6\" style=\"stroke:#181818;stroke-width:1.0;\"/><polygon fill=\"#181818\" points=\"246.65,530.68,254.8386,525.2076,249.3205,526.4529,248.0752,520.9348,246.65,530.68\" style=\"stroke:#181818;stroke-width:1.0;\"/></a></g><!--MD5=[aca2ef284c2b1b90e17e73bf3f292c07]\n",
       "reverse link E1 to E6--><g id=\"link_E1_E6\"><a href=\"psysml:cbe5f5cb-386f-45e5-9c39-bb1873a128f8\" target=\"_top\" title=\"psysml:cbe5f5cb-386f-45e5-9c39-bb1873a128f8\" xlink:actuate=\"onRequest\" xlink:href=\"psysml:cbe5f5cb-386f-45e5-9c39-bb1873a128f8\" xlink:show=\"new\" xlink:title=\"psysml:cbe5f5cb-386f-45e5-9c39-bb1873a128f8\" xlink:type=\"simple\"><path d=\"M146.12,125.13 C115.02,145.67 84.12,172.95 66.91,207 C6,327.57 144.69,474.51 205.32,530.67 \" fill=\"none\" id=\"E1-backto-E6\" style=\"stroke:#181818;stroke-width:1.0;\"/><polygon fill=\"#181818\" points=\"157.1,118.15,149.8906,117.9917,146.9717,124.5857,154.1811,124.7439,157.1,118.15\" style=\"stroke:#181818;stroke-width:1.0;\"/></a></g><!--MD5=[3a9b96bfbf6b6ad89c494e81751bda47]\n",
       "link E5 to E7--><g id=\"link_E5_E7\"><a href=\"psysml:a0ea5228-fdc9-49fd-bb96-6ce22cf44d00\" target=\"_top\" title=\"psysml:a0ea5228-fdc9-49fd-bb96-6ce22cf44d00\" xlink:actuate=\"onRequest\" xlink:href=\"psysml:a0ea5228-fdc9-49fd-bb96-6ce22cf44d00\" xlink:show=\"new\" xlink:title=\"psysml:a0ea5228-fdc9-49fd-bb96-6ce22cf44d00\" xlink:type=\"simple\"><path d=\"M312.58,471 C322.17,487.14 335.06,508.82 345.25,525.97 \" fill=\"none\" id=\"E5-to-E7\" style=\"stroke:#181818;stroke-width:1.0;\"/><polygon fill=\"#181818\" points=\"348.05,530.68,346.9119,520.8971,345.5049,526.3762,340.0258,524.9693,348.05,530.68\" style=\"stroke:#181818;stroke-width:1.0;\"/></a></g><!--MD5=[fc9706a6b2cf8c0e423679d303750d3f]\n",
       "reverse link E1 to E7--><g id=\"link_E1_E7\"><a href=\"psysml:65a1f468-5d54-43ed-9b56-c01a515fc6bb\" target=\"_top\" title=\"psysml:65a1f468-5d54-43ed-9b56-c01a515fc6bb\" xlink:actuate=\"onRequest\" xlink:href=\"psysml:65a1f468-5d54-43ed-9b56-c01a515fc6bb\" xlink:show=\"new\" xlink:title=\"psysml:65a1f468-5d54-43ed-9b56-c01a515fc6bb\" xlink:type=\"simple\"><path d=\"M282.74,159.54 C289.69,175.08 296.42,191.37 301.91,207 C334.69,300.26 340.43,325.22 354.91,423 C360.45,460.4 361.75,504.38 361.98,530.68 \" fill=\"none\" id=\"E1-backto-E7\" style=\"stroke:#181818;stroke-width:1.0;\"/><polygon fill=\"#181818\" points=\"277.14,147.27,275.9859,154.3881,282.1126,158.1912,283.2667,151.0731,277.14,147.27\" style=\"stroke:#181818;stroke-width:1.0;\"/></a></g><!--MD5=[fcf209eaa243e7717f5462519179f2aa]\n",
       "@startuml\r\n",
       "skin sysmlbw\r\n",
       "skinparam monochrome true\r\n",
       "skinparam wrapWidth 300\r\n",
       "hide circle\r\n",
       " \r\n",
       "comp def \"ControlNodeTest\" as E1  <<(T,blue) action  def>> [[psysml:fb29792e-912d-4ab4-a64b-8ae4f88f6031 ]] {\r\n",
       "##//successions//##\r\n",
       "noname first A1 then J\r\n",
       "noname first A2 then J\r\n",
       "noname first J then F\r\n",
       "noname first F then B1\r\n",
       "noname first F then B2\r\n",
       "}\r\n",
       "comp usage \"A1  \" as E2  <<(T,blue) action>> [[psysml:fe1ec0cc-95d8-48f7-a7e5-aef83e3da3f9 ]] {\r\n",
       "}\r\n",
       "comp usage \"A2  \" as E3  <<(T,blue) action>> [[psysml:c0a5c6df-be9c-4195-8c1c-0f8f015b3130 ]] {\r\n",
       "}\r\n",
       "comp usage \"J  \" as E4  <<(T,blue) join node>> [[psysml:3bd09aec-2544-46ae-936d-01aed8eb96e7 ]] {\r\n",
       "}\r\n",
       "comp usage \"F  \" as E5  <<(T,blue) fork node>> [[psysml:17702565-4e67-4d00-9c2e-cf91774b37d5 ]] {\r\n",
       "}\r\n",
       "comp usage \"B1  \" as E6  <<(T,blue) action>> [[psysml:2e4137e4-9d77-4a25-b719-c29e464dbfc7 ]] {\r\n",
       "}\r\n",
       "comp usage \"B2  \" as E7  <<(T,blue) action>> [[psysml:22fc935b-3ced-457d-8850-10eb2e62808c ]] {\r\n",
       "}\r\n",
       "E1 *- - E2 [[psysml:9306702f-37ef-4fdd-b535-5b953ffb2d58 ]] \r\n",
       "E1 *- - E3 [[psysml:ff946dee-4dd2-48de-88dc-ec164dbbdf2e ]] \r\n",
       "E2 - -> E4 [[psysml:f9bcfb7b-138a-4058-8879-7210022ba40a ]] \r\n",
       "E3 - -> E4 [[psysml:6481bc83-60df-4dde-906c-a5becb339116 ]] \r\n",
       "E1 *- - E4 [[psysml:c17bb3db-0b7d-4d5b-b917-165c66d3be23 ]] \r\n",
       "E4 - -> E5 [[psysml:091dd6b1-b372-46ae-b0ca-4e4aa94aac13 ]] \r\n",
       "E1 *- - E5 [[psysml:75ce6460-81e3-4fd8-b178-253d08d4aaea ]] \r\n",
       "E5 - -> E6 [[psysml:418b7d58-d850-4614-9e9d-1c793842a2dd ]] \r\n",
       "E1 *- - E6 [[psysml:cbe5f5cb-386f-45e5-9c39-bb1873a128f8 ]] \r\n",
       "E5 - -> E7 [[psysml:a0ea5228-fdc9-49fd-bb96-6ce22cf44d00 ]] \r\n",
       "E1 *- - E7 [[psysml:65a1f468-5d54-43ed-9b56-c01a515fc6bb ]] \r\n",
       "@enduml\r\n",
       "\n",
       "PlantUML version 1.2022.7(Mon Aug 22 17:01:30 UTC 2022)\n",
       "(EPL source distribution)\n",
       "Java Runtime: OpenJDK Runtime Environment\n",
       "JVM: OpenJDK 64-Bit Server VM\n",
       "Default Encoding: UTF-8\n",
       "Language: en\n",
       "Country: null\n",
       "--></g></svg>"
      ]
     },
     "execution_count": 3,
     "metadata": {},
     "output_type": "execute_result"
    }
   ],
   "source": [
    "%viz --style=\"COMPTREE\" --view=\"Tree\" \"ControlNodeTest\""
   ]
  },
  {
   "cell_type": "code",
   "execution_count": 4,
   "id": "e5839c08",
   "metadata": {
    "execution": {
     "iopub.execute_input": "2024-12-16T14:20:23.512258Z",
     "iopub.status.busy": "2024-12-16T14:20:23.512030Z",
     "iopub.status.idle": "2024-12-16T14:20:23.518946Z",
     "shell.execute_reply": "2024-12-16T14:20:23.518784Z"
    }
   },
   "outputs": [
    {
     "data": {
      "image/svg+xml": [
       "<?xml version=\"1.0\" encoding=\"UTF-8\" standalone=\"no\"?><svg xmlns=\"http://www.w3.org/2000/svg\" xmlns:xlink=\"http://www.w3.org/1999/xlink\" contentStyleType=\"text/css\" height=\"10px\" preserveAspectRatio=\"none\" style=\"width:10px;height:10px;background:#FFFFFF;\" version=\"1.1\" viewBox=\"0 0 10 10\" width=\"10px\" zoomAndPan=\"magnify\"><defs/><g><!--MD5=[ee07d3037018df61283447c7fdb4a44f]\n",
       "@startuml\r\n",
       "skin sysmlbw\r\n",
       "skinparam monochrome true\r\n",
       "skinparam wrapWidth 300\r\n",
       "hide circle\r\n",
       " \r\n",
       "@enduml\r\n",
       "\n",
       "PlantUML version 1.2022.7(Mon Aug 22 17:01:30 UTC 2022)\n",
       "(EPL source distribution)\n",
       "Java Runtime: OpenJDK Runtime Environment\n",
       "JVM: OpenJDK 64-Bit Server VM\n",
       "Default Encoding: UTF-8\n",
       "Language: en\n",
       "Country: null\n",
       "--></g></svg>"
      ]
     },
     "execution_count": 4,
     "metadata": {},
     "output_type": "execute_result"
    }
   ],
   "source": [
    "%viz --style=\"COMPTREE\" --view=\"State\" \"ControlNodeTest\""
   ]
  },
  {
   "cell_type": "code",
   "execution_count": 5,
   "id": "da4d18ff",
   "metadata": {
    "execution": {
     "iopub.execute_input": "2024-12-16T14:20:23.576012Z",
     "iopub.status.busy": "2024-12-16T14:20:23.575705Z",
     "iopub.status.idle": "2024-12-16T14:20:23.607526Z",
     "shell.execute_reply": "2024-12-16T14:20:23.607363Z"
    }
   },
   "outputs": [
    {
     "data": {
      "image/svg+xml": [
       "<?xml version=\"1.0\" encoding=\"UTF-8\" standalone=\"no\"?><svg xmlns=\"http://www.w3.org/2000/svg\" xmlns:xlink=\"http://www.w3.org/1999/xlink\" contentStyleType=\"text/css\" height=\"216px\" preserveAspectRatio=\"none\" style=\"width:201px;height:216px;background:#FFFFFF;\" version=\"1.1\" viewBox=\"0 0 201 216\" width=\"201px\" zoomAndPan=\"magnify\"><defs/><g><!--MD5=[fbc87193dbaf4d95561dea2c320d4a47]\n",
       "cluster E1--><g id=\"cluster_E1\"><a href=\"psysml:fb29792e-912d-4ab4-a64b-8ae4f88f6031\" target=\"_top\" title=\"psysml:fb29792e-912d-4ab4-a64b-8ae4f88f6031\" xlink:actuate=\"onRequest\" xlink:href=\"psysml:fb29792e-912d-4ab4-a64b-8ae4f88f6031\" xlink:show=\"new\" xlink:title=\"psysml:fb29792e-912d-4ab4-a64b-8ae4f88f6031\" xlink:type=\"simple\"><rect fill=\"#FFFFFF\" height=\"203\" id=\"E1\" style=\"stroke:#383838;stroke-width:1.5;\" width=\"187\" x=\"7\" y=\"7\"/><text fill=\"#000000\" font-family=\"sans-serif\" font-size=\"12\" font-style=\"italic\" lengthAdjust=\"spacing\" textLength=\"81\" x=\"60\" y=\"23.1387\">«action  def»</text><text fill=\"#000000\" font-family=\"sans-serif\" font-size=\"14\" lengthAdjust=\"spacing\" textLength=\"118\" x=\"41.5\" y=\"38.9639\">ControlNodeTest</text><line style=\"stroke:#383838;stroke-width:1.0;\" x1=\"7\" x2=\"194\" y1=\"47.2656\" y2=\"47.2656\"/></a></g><rect fill=\"#555555\" height=\"8\" style=\"stroke:none;stroke-width:1.0;\" width=\"80\" x=\"60\" y=\"113\"/><rect fill=\"#555555\" height=\"8\" style=\"stroke:none;stroke-width:1.0;\" width=\"80\" x=\"60\" y=\"131\"/><g><a href=\"psysml:fe1ec0cc-95d8-48f7-a7e5-aef83e3da3f9\" target=\"_top\" title=\"psysml:fe1ec0cc-95d8-48f7-a7e5-aef83e3da3f9\" xlink:actuate=\"onRequest\" xlink:href=\"psysml:fe1ec0cc-95d8-48f7-a7e5-aef83e3da3f9\" xlink:show=\"new\" xlink:title=\"psysml:fe1ec0cc-95d8-48f7-a7e5-aef83e3da3f9\" xlink:type=\"simple\"><rect fill=\"#FFFFFF\" height=\"45.2656\" id=\"E2\" rx=\"10\" ry=\"10\" style=\"stroke:#383838;stroke-width:1.5;\" width=\"60\" x=\"118\" y=\"58\"/><text fill=\"#000000\" font-family=\"sans-serif\" font-size=\"12\" font-style=\"italic\" lengthAdjust=\"spacing\" textLength=\"53\" x=\"121.5\" y=\"74.1387\">«action»</text><text fill=\"#000000\" font-family=\"sans-serif\" font-size=\"14\" lengthAdjust=\"spacing\" textLength=\"18\" x=\"139\" y=\"89.9639\">A1</text></a></g><g><a href=\"psysml:c0a5c6df-be9c-4195-8c1c-0f8f015b3130\" target=\"_top\" title=\"psysml:c0a5c6df-be9c-4195-8c1c-0f8f015b3130\" xlink:actuate=\"onRequest\" xlink:href=\"psysml:c0a5c6df-be9c-4195-8c1c-0f8f015b3130\" xlink:show=\"new\" xlink:title=\"psysml:c0a5c6df-be9c-4195-8c1c-0f8f015b3130\" xlink:type=\"simple\"><rect fill=\"#FFFFFF\" height=\"45.2656\" id=\"E3\" rx=\"10\" ry=\"10\" style=\"stroke:#383838;stroke-width:1.5;\" width=\"60\" x=\"23\" y=\"58\"/><text fill=\"#000000\" font-family=\"sans-serif\" font-size=\"12\" font-style=\"italic\" lengthAdjust=\"spacing\" textLength=\"53\" x=\"26.5\" y=\"74.1387\">«action»</text><text fill=\"#000000\" font-family=\"sans-serif\" font-size=\"14\" lengthAdjust=\"spacing\" textLength=\"18\" x=\"44\" y=\"89.9639\">A2</text></a></g><g><a href=\"psysml:2e4137e4-9d77-4a25-b719-c29e464dbfc7\" target=\"_top\" title=\"psysml:2e4137e4-9d77-4a25-b719-c29e464dbfc7\" xlink:actuate=\"onRequest\" xlink:href=\"psysml:2e4137e4-9d77-4a25-b719-c29e464dbfc7\" xlink:show=\"new\" xlink:title=\"psysml:2e4137e4-9d77-4a25-b719-c29e464dbfc7\" xlink:type=\"simple\"><rect fill=\"#FFFFFF\" height=\"45.2656\" id=\"E6\" rx=\"10\" ry=\"10\" style=\"stroke:#383838;stroke-width:1.5;\" width=\"60\" x=\"23\" y=\"149\"/><text fill=\"#000000\" font-family=\"sans-serif\" font-size=\"12\" font-style=\"italic\" lengthAdjust=\"spacing\" textLength=\"53\" x=\"26.5\" y=\"165.1387\">«action»</text><text fill=\"#000000\" font-family=\"sans-serif\" font-size=\"14\" lengthAdjust=\"spacing\" textLength=\"19\" x=\"43.5\" y=\"180.9639\">B1</text></a></g><g><a href=\"psysml:22fc935b-3ced-457d-8850-10eb2e62808c\" target=\"_top\" title=\"psysml:22fc935b-3ced-457d-8850-10eb2e62808c\" xlink:actuate=\"onRequest\" xlink:href=\"psysml:22fc935b-3ced-457d-8850-10eb2e62808c\" xlink:show=\"new\" xlink:title=\"psysml:22fc935b-3ced-457d-8850-10eb2e62808c\" xlink:type=\"simple\"><rect fill=\"#FFFFFF\" height=\"45.2656\" id=\"E7\" rx=\"10\" ry=\"10\" style=\"stroke:#383838;stroke-width:1.5;\" width=\"60\" x=\"118\" y=\"149\"/><text fill=\"#000000\" font-family=\"sans-serif\" font-size=\"12\" font-style=\"italic\" lengthAdjust=\"spacing\" textLength=\"53\" x=\"121.5\" y=\"165.1387\">«action»</text><text fill=\"#000000\" font-family=\"sans-serif\" font-size=\"14\" lengthAdjust=\"spacing\" textLength=\"19\" x=\"138.5\" y=\"180.9639\">B2</text></a></g><!--MD5=[4d03bb2d0377dc85ccfab60ff574652b]\n",
       "link E2 to E4--><g id=\"link_E2_E4\"><a href=\"psysml:f9bcfb7b-138a-4058-8879-7210022ba40a\" target=\"_top\" title=\"psysml:f9bcfb7b-138a-4058-8879-7210022ba40a\" xlink:actuate=\"onRequest\" xlink:href=\"psysml:f9bcfb7b-138a-4058-8879-7210022ba40a\" xlink:show=\"new\" xlink:title=\"psysml:f9bcfb7b-138a-4058-8879-7210022ba40a\" xlink:type=\"simple\"><path d=\"M117.87,103.15 C114.58,105.52 111.45,107.77 108.75,109.71 \" fill=\"none\" id=\"E2-to-E4\" style=\"stroke:#181818;stroke-width:1.0;\"/><polygon fill=\"#181818\" points=\"104.44,112.81,114.082,110.8019,108.499,109.8904,109.4105,104.3074,104.44,112.81\" style=\"stroke:#181818;stroke-width:1.0;\"/></a></g><!--MD5=[af87c684e3b0d8be13c1a698a818ef1e]\n",
       "link E3 to E4--><g id=\"link_E3_E4\"><a href=\"psysml:6481bc83-60df-4dde-906c-a5becb339116\" target=\"_top\" title=\"psysml:6481bc83-60df-4dde-906c-a5becb339116\" xlink:actuate=\"onRequest\" xlink:href=\"psysml:6481bc83-60df-4dde-906c-a5becb339116\" xlink:show=\"new\" xlink:title=\"psysml:6481bc83-60df-4dde-906c-a5becb339116\" xlink:type=\"simple\"><path d=\"M82.5,103.15 C85.73,105.52 88.79,107.77 91.43,109.71 \" fill=\"none\" id=\"E3-to-E4\" style=\"stroke:#181818;stroke-width:1.0;\"/><polygon fill=\"#181818\" points=\"95.66,112.81,90.7718,104.2599,91.6293,109.8513,86.0379,110.7089,95.66,112.81\" style=\"stroke:#181818;stroke-width:1.0;\"/></a></g><!--MD5=[1b7591eae5389033d8d09a9d6721a717]\n",
       "link E4 to E5--><g id=\"link_E4_E5\"><a href=\"psysml:091dd6b1-b372-46ae-b0ca-4e4aa94aac13\" target=\"_top\" title=\"psysml:091dd6b1-b372-46ae-b0ca-4e4aa94aac13\" xlink:actuate=\"onRequest\" xlink:href=\"psysml:091dd6b1-b372-46ae-b0ca-4e4aa94aac13\" xlink:show=\"new\" xlink:title=\"psysml:091dd6b1-b372-46ae-b0ca-4e4aa94aac13\" xlink:type=\"simple\"><path d=\"M100,121.08 C100,122.38 100,123.95 100,125.55 \" fill=\"none\" id=\"E4-to-E5\" style=\"stroke:#181818;stroke-width:1.0;\"/><polygon fill=\"#181818\" points=\"100,130.7,104,121.7,100,125.7,96,121.7,100,130.7\" style=\"stroke:#181818;stroke-width:1.0;\"/></a></g><!--MD5=[9120cf2e5df3bff93db8f754bbbc09b4]\n",
       "link E5 to E6--><g id=\"link_E5_E6\"><a href=\"psysml:418b7d58-d850-4614-9e9d-1c793842a2dd\" target=\"_top\" title=\"psysml:418b7d58-d850-4614-9e9d-1c793842a2dd\" xlink:actuate=\"onRequest\" xlink:href=\"psysml:418b7d58-d850-4614-9e9d-1c793842a2dd\" xlink:show=\"new\" xlink:title=\"psysml:418b7d58-d850-4614-9e9d-1c793842a2dd\" xlink:type=\"simple\"><path d=\"M95.66,139.18 C93.31,140.91 90.17,143.22 86.65,145.8 \" fill=\"none\" id=\"E5-to-E6\" style=\"stroke:#181818;stroke-width:1.0;\"/><polygon fill=\"#181818\" points=\"82.37,148.94,91.9921,146.8389,86.4007,145.9813,87.2582,140.3899,82.37,148.94\" style=\"stroke:#181818;stroke-width:1.0;\"/></a></g><!--MD5=[3a9b96bfbf6b6ad89c494e81751bda47]\n",
       "link E5 to E7--><g id=\"link_E5_E7\"><a href=\"psysml:a0ea5228-fdc9-49fd-bb96-6ce22cf44d00\" target=\"_top\" title=\"psysml:a0ea5228-fdc9-49fd-bb96-6ce22cf44d00\" xlink:actuate=\"onRequest\" xlink:href=\"psysml:a0ea5228-fdc9-49fd-bb96-6ce22cf44d00\" xlink:show=\"new\" xlink:title=\"psysml:a0ea5228-fdc9-49fd-bb96-6ce22cf44d00\" xlink:type=\"simple\"><path d=\"M104.43,139.18 C106.83,140.91 110.04,143.22 113.64,145.8 \" fill=\"none\" id=\"E5-to-E7\" style=\"stroke:#181818;stroke-width:1.0;\"/><polygon fill=\"#181818\" points=\"118.01,148.94,113.0339,140.4407,113.9491,146.023,108.3667,146.9381,118.01,148.94\" style=\"stroke:#181818;stroke-width:1.0;\"/></a></g><!--MD5=[14eee26cf684890fe54da2da8b8144dd]\n",
       "@startuml\r\n",
       "skin sysmlbw\r\n",
       "skinparam monochrome true\r\n",
       "skinparam wrapWidth 300\r\n",
       "hide circle\r\n",
       " skinparam ranksep 10\r\n",
       "skinparam rectangle {\r\n",
       " backgroundColor<<block>> LightGreen\r\n",
       "}\r\n",
       "\r\n",
       "rec def \"ControlNodeTest\" as E1  <<(T,blue) action  def>> [[psysml:fb29792e-912d-4ab4-a64b-8ae4f88f6031 ]] {\r\n",
       "rec usage \"A1\" as E2  <<(T,blue) action>> [[psysml:fe1ec0cc-95d8-48f7-a7e5-aef83e3da3f9 ]] {\r\n",
       "}\r\n",
       "\r\n",
       "rec usage \"A2\" as E3  <<(T,blue) action>> [[psysml:c0a5c6df-be9c-4195-8c1c-0f8f015b3130 ]] {\r\n",
       "}\r\n",
       "\r\n",
       "join \"J\" as E4  [[psysml:3bd09aec-2544-46ae-936d-01aed8eb96e7 ]] \r\n",
       "fork \"F\" as E5  [[psysml:17702565-4e67-4d00-9c2e-cf91774b37d5 ]] \r\n",
       "rec usage \"B1\" as E6  <<(T,blue) action>> [[psysml:2e4137e4-9d77-4a25-b719-c29e464dbfc7 ]] {\r\n",
       "}\r\n",
       "\r\n",
       "rec usage \"B2\" as E7  <<(T,blue) action>> [[psysml:22fc935b-3ced-457d-8850-10eb2e62808c ]] {\r\n",
       "}\r\n",
       "\r\n",
       "}\r\n",
       "\r\n",
       "E2 - -> E4 [[psysml:f9bcfb7b-138a-4058-8879-7210022ba40a ]] \r\n",
       "E3 - -> E4 [[psysml:6481bc83-60df-4dde-906c-a5becb339116 ]] \r\n",
       "E4 - -> E5 [[psysml:091dd6b1-b372-46ae-b0ca-4e4aa94aac13 ]] \r\n",
       "E5 - -> E6 [[psysml:418b7d58-d850-4614-9e9d-1c793842a2dd ]] \r\n",
       "E5 - -> E7 [[psysml:a0ea5228-fdc9-49fd-bb96-6ce22cf44d00 ]] \r\n",
       "@enduml\r\n",
       "\n",
       "PlantUML version 1.2022.7(Mon Aug 22 17:01:30 UTC 2022)\n",
       "(EPL source distribution)\n",
       "Java Runtime: OpenJDK Runtime Environment\n",
       "JVM: OpenJDK 64-Bit Server VM\n",
       "Default Encoding: UTF-8\n",
       "Language: en\n",
       "Country: null\n",
       "--></g></svg>"
      ]
     },
     "execution_count": 5,
     "metadata": {},
     "output_type": "execute_result"
    }
   ],
   "source": [
    "%viz --style=\"COMPTREE\" --view=\"Interconnection\" \"ControlNodeTest\""
   ]
  },
  {
   "cell_type": "code",
   "execution_count": 6,
   "id": "ddcb248d",
   "metadata": {
    "execution": {
     "iopub.execute_input": "2024-12-16T14:20:23.663162Z",
     "iopub.status.busy": "2024-12-16T14:20:23.662940Z",
     "iopub.status.idle": "2024-12-16T14:20:23.686374Z",
     "shell.execute_reply": "2024-12-16T14:20:23.685665Z"
    }
   },
   "outputs": [
    {
     "data": {
      "image/svg+xml": [
       "<?xml version=\"1.0\" encoding=\"UTF-8\" standalone=\"no\"?><svg xmlns=\"http://www.w3.org/2000/svg\" xmlns:xlink=\"http://www.w3.org/1999/xlink\" contentStyleType=\"text/css\" height=\"210px\" preserveAspectRatio=\"none\" style=\"width:201px;height:210px;background:#FFFFFF;\" version=\"1.1\" viewBox=\"0 0 201 210\" width=\"201px\" zoomAndPan=\"magnify\"><defs/><g><!--MD5=[fbc87193dbaf4d95561dea2c320d4a47]\n",
       "cluster E1--><g id=\"cluster_E1\"><a href=\"psysml:fb29792e-912d-4ab4-a64b-8ae4f88f6031\" target=\"_top\" title=\"psysml:fb29792e-912d-4ab4-a64b-8ae4f88f6031\" xlink:actuate=\"onRequest\" xlink:href=\"psysml:fb29792e-912d-4ab4-a64b-8ae4f88f6031\" xlink:show=\"new\" xlink:title=\"psysml:fb29792e-912d-4ab4-a64b-8ae4f88f6031\" xlink:type=\"simple\"><rect fill=\"#FFFFFF\" height=\"197\" id=\"E1\" style=\"stroke:#383838;stroke-width:1.5;\" width=\"187\" x=\"7\" y=\"7\"/><text fill=\"#000000\" font-family=\"sans-serif\" font-size=\"12\" font-style=\"italic\" lengthAdjust=\"spacing\" textLength=\"81\" x=\"60\" y=\"23.1387\">«action  def»</text><text fill=\"#000000\" font-family=\"sans-serif\" font-size=\"14\" lengthAdjust=\"spacing\" textLength=\"118\" x=\"41.5\" y=\"38.9639\">ControlNodeTest</text><line style=\"stroke:#383838;stroke-width:1.0;\" x1=\"7\" x2=\"194\" y1=\"47.2656\" y2=\"47.2656\"/></a></g><rect fill=\"#555555\" height=\"8\" style=\"stroke:none;stroke-width:1.0;\" width=\"80\" x=\"60\" y=\"111\"/><rect fill=\"#555555\" height=\"8\" style=\"stroke:none;stroke-width:1.0;\" width=\"80\" x=\"60\" y=\"127\"/><g><a href=\"psysml:fe1ec0cc-95d8-48f7-a7e5-aef83e3da3f9\" target=\"_top\" title=\"psysml:fe1ec0cc-95d8-48f7-a7e5-aef83e3da3f9\" xlink:actuate=\"onRequest\" xlink:href=\"psysml:fe1ec0cc-95d8-48f7-a7e5-aef83e3da3f9\" xlink:show=\"new\" xlink:title=\"psysml:fe1ec0cc-95d8-48f7-a7e5-aef83e3da3f9\" xlink:type=\"simple\"><rect fill=\"#FFFFFF\" height=\"45.2656\" id=\"E2\" rx=\"10\" ry=\"10\" style=\"stroke:#383838;stroke-width:1.5;\" width=\"60\" x=\"118\" y=\"58\"/><text fill=\"#000000\" font-family=\"sans-serif\" font-size=\"12\" font-style=\"italic\" lengthAdjust=\"spacing\" textLength=\"53\" x=\"121.5\" y=\"74.1387\">«action»</text><text fill=\"#000000\" font-family=\"sans-serif\" font-size=\"14\" lengthAdjust=\"spacing\" textLength=\"18\" x=\"139\" y=\"89.9639\">A1</text></a></g><g><a href=\"psysml:c0a5c6df-be9c-4195-8c1c-0f8f015b3130\" target=\"_top\" title=\"psysml:c0a5c6df-be9c-4195-8c1c-0f8f015b3130\" xlink:actuate=\"onRequest\" xlink:href=\"psysml:c0a5c6df-be9c-4195-8c1c-0f8f015b3130\" xlink:show=\"new\" xlink:title=\"psysml:c0a5c6df-be9c-4195-8c1c-0f8f015b3130\" xlink:type=\"simple\"><rect fill=\"#FFFFFF\" height=\"45.2656\" id=\"E3\" rx=\"10\" ry=\"10\" style=\"stroke:#383838;stroke-width:1.5;\" width=\"60\" x=\"23\" y=\"58\"/><text fill=\"#000000\" font-family=\"sans-serif\" font-size=\"12\" font-style=\"italic\" lengthAdjust=\"spacing\" textLength=\"53\" x=\"26.5\" y=\"74.1387\">«action»</text><text fill=\"#000000\" font-family=\"sans-serif\" font-size=\"14\" lengthAdjust=\"spacing\" textLength=\"18\" x=\"44\" y=\"89.9639\">A2</text></a></g><g><a href=\"psysml:2e4137e4-9d77-4a25-b719-c29e464dbfc7\" target=\"_top\" title=\"psysml:2e4137e4-9d77-4a25-b719-c29e464dbfc7\" xlink:actuate=\"onRequest\" xlink:href=\"psysml:2e4137e4-9d77-4a25-b719-c29e464dbfc7\" xlink:show=\"new\" xlink:title=\"psysml:2e4137e4-9d77-4a25-b719-c29e464dbfc7\" xlink:type=\"simple\"><rect fill=\"#FFFFFF\" height=\"45.2656\" id=\"E6\" rx=\"10\" ry=\"10\" style=\"stroke:#383838;stroke-width:1.5;\" width=\"60\" x=\"23\" y=\"143\"/><text fill=\"#000000\" font-family=\"sans-serif\" font-size=\"12\" font-style=\"italic\" lengthAdjust=\"spacing\" textLength=\"53\" x=\"26.5\" y=\"159.1387\">«action»</text><text fill=\"#000000\" font-family=\"sans-serif\" font-size=\"14\" lengthAdjust=\"spacing\" textLength=\"19\" x=\"43.5\" y=\"174.9639\">B1</text></a></g><g><a href=\"psysml:22fc935b-3ced-457d-8850-10eb2e62808c\" target=\"_top\" title=\"psysml:22fc935b-3ced-457d-8850-10eb2e62808c\" xlink:actuate=\"onRequest\" xlink:href=\"psysml:22fc935b-3ced-457d-8850-10eb2e62808c\" xlink:show=\"new\" xlink:title=\"psysml:22fc935b-3ced-457d-8850-10eb2e62808c\" xlink:type=\"simple\"><rect fill=\"#FFFFFF\" height=\"45.2656\" id=\"E7\" rx=\"10\" ry=\"10\" style=\"stroke:#383838;stroke-width:1.5;\" width=\"60\" x=\"118\" y=\"143\"/><text fill=\"#000000\" font-family=\"sans-serif\" font-size=\"12\" font-style=\"italic\" lengthAdjust=\"spacing\" textLength=\"53\" x=\"121.5\" y=\"159.1387\">«action»</text><text fill=\"#000000\" font-family=\"sans-serif\" font-size=\"14\" lengthAdjust=\"spacing\" textLength=\"19\" x=\"138.5\" y=\"174.9639\">B2</text></a></g><!--MD5=[4d03bb2d0377dc85ccfab60ff574652b]\n",
       "link E2 to E4--><g id=\"link_E2_E4\"><a href=\"psysml:f9bcfb7b-138a-4058-8879-7210022ba40a\" target=\"_top\" title=\"psysml:f9bcfb7b-138a-4058-8879-7210022ba40a\" xlink:actuate=\"onRequest\" xlink:href=\"psysml:f9bcfb7b-138a-4058-8879-7210022ba40a\" xlink:show=\"new\" xlink:title=\"psysml:f9bcfb7b-138a-4058-8879-7210022ba40a\" xlink:type=\"simple\"><path d=\"M117.87,101.9 C114.58,104.13 111.45,106.25 108.75,108.07 \" fill=\"none\" id=\"E2-to-E4\" style=\"stroke:#181818;stroke-width:1.0;stroke-dasharray:7.0,7.0;\"/><polygon fill=\"#181818\" points=\"104.44,111,114.1324,109.2515,108.576,108.1904,109.637,102.634,104.44,111\" style=\"stroke:#181818;stroke-width:1.0;\"/></a></g><!--MD5=[af87c684e3b0d8be13c1a698a818ef1e]\n",
       "link E3 to E4--><g id=\"link_E3_E4\"><a href=\"psysml:6481bc83-60df-4dde-906c-a5becb339116\" target=\"_top\" title=\"psysml:6481bc83-60df-4dde-906c-a5becb339116\" xlink:actuate=\"onRequest\" xlink:href=\"psysml:6481bc83-60df-4dde-906c-a5becb339116\" xlink:show=\"new\" xlink:title=\"psysml:6481bc83-60df-4dde-906c-a5becb339116\" xlink:type=\"simple\"><path d=\"M83.03,102.27 C85.94,104.28 88.7,106.18 91.12,107.86 \" fill=\"none\" id=\"E3-to-E4\" style=\"stroke:#181818;stroke-width:1.0;stroke-dasharray:7.0,7.0;\"/><polygon fill=\"#181818\" points=\"95.54,110.91,90.4095,102.503,91.4265,108.0677,85.8618,109.0846,95.54,110.91\" style=\"stroke:#181818;stroke-width:1.0;\"/></a></g><!--MD5=[1b7591eae5389033d8d09a9d6721a717]\n",
       "link E4 to E5--><g id=\"link_E4_E5\"><a href=\"psysml:091dd6b1-b372-46ae-b0ca-4e4aa94aac13\" target=\"_top\" title=\"psysml:091dd6b1-b372-46ae-b0ca-4e4aa94aac13\" xlink:actuate=\"onRequest\" xlink:href=\"psysml:091dd6b1-b372-46ae-b0ca-4e4aa94aac13\" xlink:show=\"new\" xlink:title=\"psysml:091dd6b1-b372-46ae-b0ca-4e4aa94aac13\" xlink:type=\"simple\"><path d=\"M100,119.25 C100,120.05 100,120.94 100,121.86 \" fill=\"none\" id=\"E4-to-E5\" style=\"stroke:#181818;stroke-width:1.0;stroke-dasharray:7.0,7.0;\"/><polygon fill=\"#181818\" points=\"100,126.96,104,117.96,100,121.96,96,117.96,100,126.96\" style=\"stroke:#181818;stroke-width:1.0;\"/></a></g><!--MD5=[9120cf2e5df3bff93db8f754bbbc09b4]\n",
       "link E5 to E6--><g id=\"link_E5_E6\"><a href=\"psysml:418b7d58-d850-4614-9e9d-1c793842a2dd\" target=\"_top\" title=\"psysml:418b7d58-d850-4614-9e9d-1c793842a2dd\" xlink:actuate=\"onRequest\" xlink:href=\"psysml:418b7d58-d850-4614-9e9d-1c793842a2dd\" xlink:show=\"new\" xlink:title=\"psysml:418b7d58-d850-4614-9e9d-1c793842a2dd\" xlink:type=\"simple\"><path d=\"M95.32,135.24 C93.21,136.69 90.52,138.55 87.53,140.63 \" fill=\"none\" id=\"E5-to-E6\" style=\"stroke:#181818;stroke-width:1.0;stroke-dasharray:7.0,7.0;\"/><polygon fill=\"#181818\" points=\"83.27,143.57,92.9482,141.7446,87.3835,140.7277,88.4005,135.163,83.27,143.57\" style=\"stroke:#181818;stroke-width:1.0;\"/></a></g><!--MD5=[3a9b96bfbf6b6ad89c494e81751bda47]\n",
       "link E5 to E7--><g id=\"link_E5_E7\"><a href=\"psysml:a0ea5228-fdc9-49fd-bb96-6ce22cf44d00\" target=\"_top\" title=\"psysml:a0ea5228-fdc9-49fd-bb96-6ce22cf44d00\" xlink:actuate=\"onRequest\" xlink:href=\"psysml:a0ea5228-fdc9-49fd-bb96-6ce22cf44d00\" xlink:show=\"new\" xlink:title=\"psysml:a0ea5228-fdc9-49fd-bb96-6ce22cf44d00\" xlink:type=\"simple\"><path d=\"M104.78,135.24 C107.16,136.85 110.28,138.96 113.75,141.31 \" fill=\"none\" id=\"E5-to-E7\" style=\"stroke:#181818;stroke-width:1.0;stroke-dasharray:7.0,7.0;\"/><polygon fill=\"#181818\" points=\"117.96,144.16,112.7432,135.8063,113.8174,141.3602,108.2635,142.4344,117.96,144.16\" style=\"stroke:#181818;stroke-width:1.0;\"/></a></g><!--MD5=[e76c7915ae25a349b533db376d0bc753]\n",
       "@startuml\r\n",
       "skin sysmlbw\r\n",
       "skinparam monochrome true\r\n",
       "skinparam wrapWidth 300\r\n",
       "hide circle\r\n",
       " skinparam ranksep 8\r\n",
       "\r\n",
       "rec def \"ControlNodeTest\" as E1  <<(T,blue) action  def>> [[psysml:fb29792e-912d-4ab4-a64b-8ae4f88f6031 ]] {\r\n",
       "rec usage \"A1\" as E2  <<(T,blue) action>> [[psysml:fe1ec0cc-95d8-48f7-a7e5-aef83e3da3f9 ]] {\r\n",
       "}\r\n",
       "\r\n",
       "rec usage \"A2\" as E3  <<(T,blue) action>> [[psysml:c0a5c6df-be9c-4195-8c1c-0f8f015b3130 ]] {\r\n",
       "}\r\n",
       "\r\n",
       "join \"J\" as E4  [[psysml:3bd09aec-2544-46ae-936d-01aed8eb96e7 ]] \r\n",
       "fork \"F\" as E5  [[psysml:17702565-4e67-4d00-9c2e-cf91774b37d5 ]] \r\n",
       "rec usage \"B1\" as E6  <<(T,blue) action>> [[psysml:2e4137e4-9d77-4a25-b719-c29e464dbfc7 ]] {\r\n",
       "}\r\n",
       "\r\n",
       "rec usage \"B2\" as E7  <<(T,blue) action>> [[psysml:22fc935b-3ced-457d-8850-10eb2e62808c ]] {\r\n",
       "}\r\n",
       "\r\n",
       "}\r\n",
       "\r\n",
       "E2 ..> E4 [[psysml:f9bcfb7b-138a-4058-8879-7210022ba40a ]] \r\n",
       "E3 ..> E4 [[psysml:6481bc83-60df-4dde-906c-a5becb339116 ]] \r\n",
       "E4 ..> E5 [[psysml:091dd6b1-b372-46ae-b0ca-4e4aa94aac13 ]] \r\n",
       "E5 ..> E6 [[psysml:418b7d58-d850-4614-9e9d-1c793842a2dd ]] \r\n",
       "E5 ..> E7 [[psysml:a0ea5228-fdc9-49fd-bb96-6ce22cf44d00 ]] \r\n",
       "@enduml\r\n",
       "\n",
       "PlantUML version 1.2022.7(Mon Aug 22 17:01:30 UTC 2022)\n",
       "(EPL source distribution)\n",
       "Java Runtime: OpenJDK Runtime Environment\n",
       "JVM: OpenJDK 64-Bit Server VM\n",
       "Default Encoding: UTF-8\n",
       "Language: en\n",
       "Country: null\n",
       "--></g></svg>"
      ]
     },
     "execution_count": 6,
     "metadata": {},
     "output_type": "execute_result"
    }
   ],
   "source": [
    "%viz --style=\"COMPTREE\" --view=\"Action\" \"ControlNodeTest\""
   ]
  },
  {
   "cell_type": "code",
   "execution_count": 7,
   "id": "76b31f3f",
   "metadata": {
    "execution": {
     "iopub.execute_input": "2024-12-16T14:20:23.742561Z",
     "iopub.status.busy": "2024-12-16T14:20:23.742312Z",
     "iopub.status.idle": "2024-12-16T14:20:23.760646Z",
     "shell.execute_reply": "2024-12-16T14:20:23.760466Z"
    }
   },
   "outputs": [
    {
     "data": {
      "image/svg+xml": [
       "<?xml version=\"1.0\" encoding=\"UTF-8\" standalone=\"no\"?><svg xmlns=\"http://www.w3.org/2000/svg\" xmlns:xlink=\"http://www.w3.org/1999/xlink\" contentStyleType=\"text/css\" height=\"10px\" preserveAspectRatio=\"none\" style=\"width:10px;height:10px;background:#FFFFFF;\" version=\"1.1\" viewBox=\"0 0 10 10\" width=\"10px\" zoomAndPan=\"magnify\"><defs/><g><!--MD5=[f5e9abf0a6c8dccaf40d0172f495ca0b]\n",
       "@startuml\r\n",
       "skin sysmlbw\r\n",
       "skinparam monochrome true\r\n",
       "skinparam wrapWidth 300\r\n",
       "hide circle\r\n",
       " skinparam roundcorner 20\r\n",
       "skinparam BoxPadding 20\r\n",
       "skinparam SequenceBoxBackgroundColor #white\r\n",
       "skinparam style strictuml\r\n",
       "skinparam maxMessageSize 100\r\n",
       "\r\n",
       "@enduml\r\n",
       "\n",
       "PlantUML version 1.2022.7(Mon Aug 22 17:01:30 UTC 2022)\n",
       "(EPL source distribution)\n",
       "Java Runtime: OpenJDK Runtime Environment\n",
       "JVM: OpenJDK 64-Bit Server VM\n",
       "Default Encoding: UTF-8\n",
       "Language: en\n",
       "Country: null\n",
       "--></g></svg>"
      ]
     },
     "execution_count": 7,
     "metadata": {},
     "output_type": "execute_result"
    }
   ],
   "source": [
    "%viz --style=\"COMPTREE\" --view=\"Sequence\" \"ControlNodeTest\""
   ]
  },
  {
   "cell_type": "code",
   "execution_count": 8,
   "id": "20a87afb",
   "metadata": {
    "execution": {
     "iopub.execute_input": "2024-12-16T14:20:23.812950Z",
     "iopub.status.busy": "2024-12-16T14:20:23.812627Z",
     "iopub.status.idle": "2024-12-16T14:20:23.836217Z",
     "shell.execute_reply": "2024-12-16T14:20:23.836052Z"
    }
   },
   "outputs": [
    {
     "data": {
      "image/svg+xml": [
       "<?xml version=\"1.0\" encoding=\"UTF-8\" standalone=\"no\"?><svg xmlns=\"http://www.w3.org/2000/svg\" xmlns:xlink=\"http://www.w3.org/1999/xlink\" contentStyleType=\"text/css\" height=\"366px\" preserveAspectRatio=\"none\" style=\"width:201px;height:366px;background:#FFFFFF;\" version=\"1.1\" viewBox=\"0 0 201 366\" width=\"201px\" zoomAndPan=\"magnify\"><defs/><g><!--MD5=[fbc87193dbaf4d95561dea2c320d4a47]\n",
       "cluster E1--><g id=\"cluster_E1\"><a href=\"psysml:fb29792e-912d-4ab4-a64b-8ae4f88f6031\" target=\"_top\" title=\"psysml:fb29792e-912d-4ab4-a64b-8ae4f88f6031\" xlink:actuate=\"onRequest\" xlink:href=\"psysml:fb29792e-912d-4ab4-a64b-8ae4f88f6031\" xlink:show=\"new\" xlink:title=\"psysml:fb29792e-912d-4ab4-a64b-8ae4f88f6031\" xlink:type=\"simple\"><rect fill=\"#FFFFFF\" height=\"353\" id=\"E1\" style=\"stroke:#383838;stroke-width:1.5;\" width=\"187\" x=\"7\" y=\"7\"/><text fill=\"#000000\" font-family=\"sans-serif\" font-size=\"12\" font-style=\"italic\" lengthAdjust=\"spacing\" textLength=\"81\" x=\"60\" y=\"23.1387\">«action  def»</text><text fill=\"#000000\" font-family=\"sans-serif\" font-size=\"14\" lengthAdjust=\"spacing\" textLength=\"118\" x=\"41.5\" y=\"38.9639\">ControlNodeTest</text><line style=\"stroke:#383838;stroke-width:1.0;\" x1=\"7\" x2=\"194\" y1=\"47.2656\" y2=\"47.2656\"/></a></g><rect fill=\"#555555\" height=\"8\" style=\"stroke:none;stroke-width:1.0;\" width=\"80\" x=\"60\" y=\"163\"/><rect fill=\"#555555\" height=\"8\" style=\"stroke:none;stroke-width:1.0;\" width=\"80\" x=\"60\" y=\"231\"/><g><a href=\"psysml:fe1ec0cc-95d8-48f7-a7e5-aef83e3da3f9\" target=\"_top\" title=\"psysml:fe1ec0cc-95d8-48f7-a7e5-aef83e3da3f9\" xlink:actuate=\"onRequest\" xlink:href=\"psysml:fe1ec0cc-95d8-48f7-a7e5-aef83e3da3f9\" xlink:show=\"new\" xlink:title=\"psysml:fe1ec0cc-95d8-48f7-a7e5-aef83e3da3f9\" xlink:type=\"simple\"><rect fill=\"#FFFFFF\" height=\"45.2656\" id=\"E2\" rx=\"10\" ry=\"10\" style=\"stroke:#383838;stroke-width:1.5;\" width=\"60\" x=\"118\" y=\"58\"/><text fill=\"#000000\" font-family=\"sans-serif\" font-size=\"12\" font-style=\"italic\" lengthAdjust=\"spacing\" textLength=\"53\" x=\"121.5\" y=\"74.1387\">«action»</text><text fill=\"#000000\" font-family=\"sans-serif\" font-size=\"14\" lengthAdjust=\"spacing\" textLength=\"18\" x=\"139\" y=\"89.9639\">A1</text></a></g><g><a href=\"psysml:c0a5c6df-be9c-4195-8c1c-0f8f015b3130\" target=\"_top\" title=\"psysml:c0a5c6df-be9c-4195-8c1c-0f8f015b3130\" xlink:actuate=\"onRequest\" xlink:href=\"psysml:c0a5c6df-be9c-4195-8c1c-0f8f015b3130\" xlink:show=\"new\" xlink:title=\"psysml:c0a5c6df-be9c-4195-8c1c-0f8f015b3130\" xlink:type=\"simple\"><rect fill=\"#FFFFFF\" height=\"45.2656\" id=\"E3\" rx=\"10\" ry=\"10\" style=\"stroke:#383838;stroke-width:1.5;\" width=\"60\" x=\"23\" y=\"58\"/><text fill=\"#000000\" font-family=\"sans-serif\" font-size=\"12\" font-style=\"italic\" lengthAdjust=\"spacing\" textLength=\"53\" x=\"26.5\" y=\"74.1387\">«action»</text><text fill=\"#000000\" font-family=\"sans-serif\" font-size=\"14\" lengthAdjust=\"spacing\" textLength=\"18\" x=\"44\" y=\"89.9639\">A2</text></a></g><g><a href=\"psysml:2e4137e4-9d77-4a25-b719-c29e464dbfc7\" target=\"_top\" title=\"psysml:2e4137e4-9d77-4a25-b719-c29e464dbfc7\" xlink:actuate=\"onRequest\" xlink:href=\"psysml:2e4137e4-9d77-4a25-b719-c29e464dbfc7\" xlink:show=\"new\" xlink:title=\"psysml:2e4137e4-9d77-4a25-b719-c29e464dbfc7\" xlink:type=\"simple\"><rect fill=\"#FFFFFF\" height=\"45.2656\" id=\"E6\" rx=\"10\" ry=\"10\" style=\"stroke:#383838;stroke-width:1.5;\" width=\"60\" x=\"23\" y=\"299\"/><text fill=\"#000000\" font-family=\"sans-serif\" font-size=\"12\" font-style=\"italic\" lengthAdjust=\"spacing\" textLength=\"53\" x=\"26.5\" y=\"315.1387\">«action»</text><text fill=\"#000000\" font-family=\"sans-serif\" font-size=\"14\" lengthAdjust=\"spacing\" textLength=\"19\" x=\"43.5\" y=\"330.9639\">B1</text></a></g><g><a href=\"psysml:22fc935b-3ced-457d-8850-10eb2e62808c\" target=\"_top\" title=\"psysml:22fc935b-3ced-457d-8850-10eb2e62808c\" xlink:actuate=\"onRequest\" xlink:href=\"psysml:22fc935b-3ced-457d-8850-10eb2e62808c\" xlink:show=\"new\" xlink:title=\"psysml:22fc935b-3ced-457d-8850-10eb2e62808c\" xlink:type=\"simple\"><rect fill=\"#FFFFFF\" height=\"45.2656\" id=\"E7\" rx=\"10\" ry=\"10\" style=\"stroke:#383838;stroke-width:1.5;\" width=\"60\" x=\"118\" y=\"299\"/><text fill=\"#000000\" font-family=\"sans-serif\" font-size=\"12\" font-style=\"italic\" lengthAdjust=\"spacing\" textLength=\"53\" x=\"121.5\" y=\"315.1387\">«action»</text><text fill=\"#000000\" font-family=\"sans-serif\" font-size=\"14\" lengthAdjust=\"spacing\" textLength=\"19\" x=\"138.5\" y=\"330.9639\">B2</text></a></g><!--MD5=[4d03bb2d0377dc85ccfab60ff574652b]\n",
       "link E2 to E4--><g id=\"link_E2_E4\"><a href=\"psysml:f9bcfb7b-138a-4058-8879-7210022ba40a\" target=\"_top\" title=\"psysml:f9bcfb7b-138a-4058-8879-7210022ba40a\" xlink:actuate=\"onRequest\" xlink:href=\"psysml:f9bcfb7b-138a-4058-8879-7210022ba40a\" xlink:show=\"new\" xlink:title=\"psysml:f9bcfb7b-138a-4058-8879-7210022ba40a\" xlink:type=\"simple\"><path d=\"M135.64,103.26 C125.33,121.4 111.25,146.19 104.28,158.47 \" fill=\"none\" id=\"E2-to-E4\" style=\"stroke:#181818;stroke-width:1.0;\"/><polygon fill=\"#181818\" points=\"101.75,162.91,109.6779,157.0663,104.223,158.5644,102.7249,153.1095,101.75,162.91\" style=\"stroke:#181818;stroke-width:1.0;\"/></a></g><!--MD5=[af87c684e3b0d8be13c1a698a818ef1e]\n",
       "link E3 to E4--><g id=\"link_E3_E4\"><a href=\"psysml:6481bc83-60df-4dde-906c-a5becb339116\" target=\"_top\" title=\"psysml:6481bc83-60df-4dde-906c-a5becb339116\" xlink:actuate=\"onRequest\" xlink:href=\"psysml:6481bc83-60df-4dde-906c-a5becb339116\" xlink:show=\"new\" xlink:title=\"psysml:6481bc83-60df-4dde-906c-a5becb339116\" xlink:type=\"simple\"><path d=\"M65.1,103.26 C75.19,121.4 88.98,146.19 95.81,158.47 \" fill=\"none\" id=\"E3-to-E4\" style=\"stroke:#181818;stroke-width:1.0;\"/><polygon fill=\"#181818\" points=\"98.28,162.91,97.3814,153.1022,95.8409,158.5453,90.3978,157.0048,98.28,162.91\" style=\"stroke:#181818;stroke-width:1.0;\"/></a></g><!--MD5=[1b7591eae5389033d8d09a9d6721a717]\n",
       "link E4 to E5--><g id=\"link_E4_E5\"><a href=\"psysml:091dd6b1-b372-46ae-b0ca-4e4aa94aac13\" target=\"_top\" title=\"psysml:091dd6b1-b372-46ae-b0ca-4e4aa94aac13\" xlink:actuate=\"onRequest\" xlink:href=\"psysml:091dd6b1-b372-46ae-b0ca-4e4aa94aac13\" xlink:show=\"new\" xlink:title=\"psysml:091dd6b1-b372-46ae-b0ca-4e4aa94aac13\" xlink:type=\"simple\"><path d=\"M100,171.18 C100,180.92 100,210.52 100,225.34 \" fill=\"none\" id=\"E4-to-E5\" style=\"stroke:#181818;stroke-width:1.0;\"/><polygon fill=\"#181818\" points=\"100,230.69,104,221.69,100,225.69,96,221.69,100,230.69\" style=\"stroke:#181818;stroke-width:1.0;\"/></a></g><!--MD5=[9120cf2e5df3bff93db8f754bbbc09b4]\n",
       "link E5 to E6--><g id=\"link_E5_E6\"><a href=\"psysml:418b7d58-d850-4614-9e9d-1c793842a2dd\" target=\"_top\" title=\"psysml:418b7d58-d850-4614-9e9d-1c793842a2dd\" xlink:actuate=\"onRequest\" xlink:href=\"psysml:418b7d58-d850-4614-9e9d-1c793842a2dd\" xlink:show=\"new\" xlink:title=\"psysml:418b7d58-d850-4614-9e9d-1c793842a2dd\" xlink:type=\"simple\"><path d=\"M98.21,239.21 C93.23,248.18 78.77,274.17 67.53,294.37 \" fill=\"none\" id=\"E5-to-E6\" style=\"stroke:#181818;stroke-width:1.0;\"/><polygon fill=\"#181818\" points=\"65.04,298.85,72.9074,292.9252,67.4682,294.4792,65.9142,289.04,65.04,298.85\" style=\"stroke:#181818;stroke-width:1.0;\"/></a></g><!--MD5=[3a9b96bfbf6b6ad89c494e81751bda47]\n",
       "link E5 to E7--><g id=\"link_E5_E7\"><a href=\"psysml:a0ea5228-fdc9-49fd-bb96-6ce22cf44d00\" target=\"_top\" title=\"psysml:a0ea5228-fdc9-49fd-bb96-6ce22cf44d00\" xlink:actuate=\"onRequest\" xlink:href=\"psysml:a0ea5228-fdc9-49fd-bb96-6ce22cf44d00\" xlink:show=\"new\" xlink:title=\"psysml:a0ea5228-fdc9-49fd-bb96-6ce22cf44d00\" xlink:type=\"simple\"><path d=\"M101.82,239.21 C106.92,248.18 121.68,274.17 133.16,294.37 \" fill=\"none\" id=\"E5-to-E7\" style=\"stroke:#181818;stroke-width:1.0;\"/><polygon fill=\"#181818\" points=\"135.7,298.85,134.7251,289.0495,133.227,294.5044,127.7721,293.0063,135.7,298.85\" style=\"stroke:#181818;stroke-width:1.0;\"/></a></g><!--MD5=[574e8ac82f25e1c75b91fb754881fb68]\n",
       "@startuml\r\n",
       "skin sysmlbw\r\n",
       "skinparam monochrome true\r\n",
       "skinparam wrapWidth 300\r\n",
       "hide circle\r\n",
       " \r\n",
       "rec def \"ControlNodeTest\" as E1  <<(T,blue) action  def>> [[psysml:fb29792e-912d-4ab4-a64b-8ae4f88f6031 ]] {\r\n",
       "rec usage \"A1\" as E2  <<(T,blue) action>> [[psysml:fe1ec0cc-95d8-48f7-a7e5-aef83e3da3f9 ]] {\r\n",
       "}\r\n",
       "\r\n",
       "rec usage \"A2\" as E3  <<(T,blue) action>> [[psysml:c0a5c6df-be9c-4195-8c1c-0f8f015b3130 ]] {\r\n",
       "}\r\n",
       "\r\n",
       "join \"J\" as E4  [[psysml:3bd09aec-2544-46ae-936d-01aed8eb96e7 ]] \r\n",
       "fork \"F\" as E5  [[psysml:17702565-4e67-4d00-9c2e-cf91774b37d5 ]] \r\n",
       "rec usage \"B1\" as E6  <<(T,blue) action>> [[psysml:2e4137e4-9d77-4a25-b719-c29e464dbfc7 ]] {\r\n",
       "}\r\n",
       "\r\n",
       "rec usage \"B2\" as E7  <<(T,blue) action>> [[psysml:22fc935b-3ced-457d-8850-10eb2e62808c ]] {\r\n",
       "}\r\n",
       "\r\n",
       "}\r\n",
       "\r\n",
       "E2 - -> E4 [[psysml:f9bcfb7b-138a-4058-8879-7210022ba40a ]] \r\n",
       "E3 - -> E4 [[psysml:6481bc83-60df-4dde-906c-a5becb339116 ]] \r\n",
       "E4 - -> E5 [[psysml:091dd6b1-b372-46ae-b0ca-4e4aa94aac13 ]] \r\n",
       "E5 - -> E6 [[psysml:418b7d58-d850-4614-9e9d-1c793842a2dd ]] \r\n",
       "E5 - -> E7 [[psysml:a0ea5228-fdc9-49fd-bb96-6ce22cf44d00 ]] \r\n",
       "@enduml\r\n",
       "\n",
       "PlantUML version 1.2022.7(Mon Aug 22 17:01:30 UTC 2022)\n",
       "(EPL source distribution)\n",
       "Java Runtime: OpenJDK Runtime Environment\n",
       "JVM: OpenJDK 64-Bit Server VM\n",
       "Default Encoding: UTF-8\n",
       "Language: en\n",
       "Country: null\n",
       "--></g></svg>"
      ]
     },
     "execution_count": 8,
     "metadata": {},
     "output_type": "execute_result"
    }
   ],
   "source": [
    "%viz --style=\"COMPTREE\" --view=\"MIXED\" \"ControlNodeTest\""
   ]
  },
  {
   "cell_type": "code",
   "execution_count": 9,
   "id": "ffd3ba3c",
   "metadata": {
    "execution": {
     "iopub.execute_input": "2024-12-16T14:20:23.892414Z",
     "iopub.status.busy": "2024-12-16T14:20:23.892139Z",
     "iopub.status.idle": "2024-12-16T14:20:23.915623Z",
     "shell.execute_reply": "2024-12-16T14:20:23.915434Z"
    }
   },
   "outputs": [
    {
     "data": {
      "image/svg+xml": [
       "<?xml version=\"1.0\" encoding=\"UTF-8\" standalone=\"no\"?><svg xmlns=\"http://www.w3.org/2000/svg\" xmlns:xlink=\"http://www.w3.org/1999/xlink\" contentStyleType=\"text/css\" height=\"366px\" preserveAspectRatio=\"none\" style=\"width:201px;height:366px;background:#FFFFFF;\" version=\"1.1\" viewBox=\"0 0 201 366\" width=\"201px\" zoomAndPan=\"magnify\"><defs/><g><!--MD5=[fbc87193dbaf4d95561dea2c320d4a47]\n",
       "cluster E1--><g id=\"cluster_E1\"><a href=\"psysml:fb29792e-912d-4ab4-a64b-8ae4f88f6031\" target=\"_top\" title=\"psysml:fb29792e-912d-4ab4-a64b-8ae4f88f6031\" xlink:actuate=\"onRequest\" xlink:href=\"psysml:fb29792e-912d-4ab4-a64b-8ae4f88f6031\" xlink:show=\"new\" xlink:title=\"psysml:fb29792e-912d-4ab4-a64b-8ae4f88f6031\" xlink:type=\"simple\"><rect fill=\"#FFFFFF\" height=\"353\" id=\"E1\" style=\"stroke:#383838;stroke-width:1.5;\" width=\"187\" x=\"7\" y=\"7\"/><text fill=\"#000000\" font-family=\"sans-serif\" font-size=\"12\" font-style=\"italic\" lengthAdjust=\"spacing\" textLength=\"81\" x=\"60\" y=\"23.1387\">«action  def»</text><text fill=\"#000000\" font-family=\"sans-serif\" font-size=\"14\" lengthAdjust=\"spacing\" textLength=\"118\" x=\"41.5\" y=\"38.9639\">ControlNodeTest</text><line style=\"stroke:#383838;stroke-width:1.0;\" x1=\"7\" x2=\"194\" y1=\"47.2656\" y2=\"47.2656\"/></a></g><rect fill=\"#555555\" height=\"8\" style=\"stroke:none;stroke-width:1.0;\" width=\"80\" x=\"60\" y=\"163\"/><rect fill=\"#555555\" height=\"8\" style=\"stroke:none;stroke-width:1.0;\" width=\"80\" x=\"60\" y=\"231\"/><g><a href=\"psysml:fe1ec0cc-95d8-48f7-a7e5-aef83e3da3f9\" target=\"_top\" title=\"psysml:fe1ec0cc-95d8-48f7-a7e5-aef83e3da3f9\" xlink:actuate=\"onRequest\" xlink:href=\"psysml:fe1ec0cc-95d8-48f7-a7e5-aef83e3da3f9\" xlink:show=\"new\" xlink:title=\"psysml:fe1ec0cc-95d8-48f7-a7e5-aef83e3da3f9\" xlink:type=\"simple\"><rect fill=\"#FFFFFF\" height=\"45.2656\" id=\"E2\" rx=\"10\" ry=\"10\" style=\"stroke:#383838;stroke-width:1.5;\" width=\"60\" x=\"118\" y=\"58\"/><text fill=\"#000000\" font-family=\"sans-serif\" font-size=\"12\" font-style=\"italic\" lengthAdjust=\"spacing\" textLength=\"53\" x=\"121.5\" y=\"74.1387\">«action»</text><text fill=\"#000000\" font-family=\"sans-serif\" font-size=\"14\" lengthAdjust=\"spacing\" textLength=\"18\" x=\"139\" y=\"89.9639\">A1</text></a></g><g><a href=\"psysml:c0a5c6df-be9c-4195-8c1c-0f8f015b3130\" target=\"_top\" title=\"psysml:c0a5c6df-be9c-4195-8c1c-0f8f015b3130\" xlink:actuate=\"onRequest\" xlink:href=\"psysml:c0a5c6df-be9c-4195-8c1c-0f8f015b3130\" xlink:show=\"new\" xlink:title=\"psysml:c0a5c6df-be9c-4195-8c1c-0f8f015b3130\" xlink:type=\"simple\"><rect fill=\"#FFFFFF\" height=\"45.2656\" id=\"E3\" rx=\"10\" ry=\"10\" style=\"stroke:#383838;stroke-width:1.5;\" width=\"60\" x=\"23\" y=\"58\"/><text fill=\"#000000\" font-family=\"sans-serif\" font-size=\"12\" font-style=\"italic\" lengthAdjust=\"spacing\" textLength=\"53\" x=\"26.5\" y=\"74.1387\">«action»</text><text fill=\"#000000\" font-family=\"sans-serif\" font-size=\"14\" lengthAdjust=\"spacing\" textLength=\"18\" x=\"44\" y=\"89.9639\">A2</text></a></g><g><a href=\"psysml:2e4137e4-9d77-4a25-b719-c29e464dbfc7\" target=\"_top\" title=\"psysml:2e4137e4-9d77-4a25-b719-c29e464dbfc7\" xlink:actuate=\"onRequest\" xlink:href=\"psysml:2e4137e4-9d77-4a25-b719-c29e464dbfc7\" xlink:show=\"new\" xlink:title=\"psysml:2e4137e4-9d77-4a25-b719-c29e464dbfc7\" xlink:type=\"simple\"><rect fill=\"#FFFFFF\" height=\"45.2656\" id=\"E6\" rx=\"10\" ry=\"10\" style=\"stroke:#383838;stroke-width:1.5;\" width=\"60\" x=\"23\" y=\"299\"/><text fill=\"#000000\" font-family=\"sans-serif\" font-size=\"12\" font-style=\"italic\" lengthAdjust=\"spacing\" textLength=\"53\" x=\"26.5\" y=\"315.1387\">«action»</text><text fill=\"#000000\" font-family=\"sans-serif\" font-size=\"14\" lengthAdjust=\"spacing\" textLength=\"19\" x=\"43.5\" y=\"330.9639\">B1</text></a></g><g><a href=\"psysml:22fc935b-3ced-457d-8850-10eb2e62808c\" target=\"_top\" title=\"psysml:22fc935b-3ced-457d-8850-10eb2e62808c\" xlink:actuate=\"onRequest\" xlink:href=\"psysml:22fc935b-3ced-457d-8850-10eb2e62808c\" xlink:show=\"new\" xlink:title=\"psysml:22fc935b-3ced-457d-8850-10eb2e62808c\" xlink:type=\"simple\"><rect fill=\"#FFFFFF\" height=\"45.2656\" id=\"E7\" rx=\"10\" ry=\"10\" style=\"stroke:#383838;stroke-width:1.5;\" width=\"60\" x=\"118\" y=\"299\"/><text fill=\"#000000\" font-family=\"sans-serif\" font-size=\"12\" font-style=\"italic\" lengthAdjust=\"spacing\" textLength=\"53\" x=\"121.5\" y=\"315.1387\">«action»</text><text fill=\"#000000\" font-family=\"sans-serif\" font-size=\"14\" lengthAdjust=\"spacing\" textLength=\"19\" x=\"138.5\" y=\"330.9639\">B2</text></a></g><!--MD5=[4d03bb2d0377dc85ccfab60ff574652b]\n",
       "link E2 to E4--><g id=\"link_E2_E4\"><a href=\"psysml:f9bcfb7b-138a-4058-8879-7210022ba40a\" target=\"_top\" title=\"psysml:f9bcfb7b-138a-4058-8879-7210022ba40a\" xlink:actuate=\"onRequest\" xlink:href=\"psysml:f9bcfb7b-138a-4058-8879-7210022ba40a\" xlink:show=\"new\" xlink:title=\"psysml:f9bcfb7b-138a-4058-8879-7210022ba40a\" xlink:type=\"simple\"><path d=\"M135.64,103.26 C125.33,121.4 111.25,146.19 104.28,158.47 \" fill=\"none\" id=\"E2-to-E4\" style=\"stroke:#181818;stroke-width:1.0;\"/><polygon fill=\"#181818\" points=\"101.75,162.91,109.6779,157.0663,104.223,158.5644,102.7249,153.1095,101.75,162.91\" style=\"stroke:#181818;stroke-width:1.0;\"/></a></g><!--MD5=[af87c684e3b0d8be13c1a698a818ef1e]\n",
       "link E3 to E4--><g id=\"link_E3_E4\"><a href=\"psysml:6481bc83-60df-4dde-906c-a5becb339116\" target=\"_top\" title=\"psysml:6481bc83-60df-4dde-906c-a5becb339116\" xlink:actuate=\"onRequest\" xlink:href=\"psysml:6481bc83-60df-4dde-906c-a5becb339116\" xlink:show=\"new\" xlink:title=\"psysml:6481bc83-60df-4dde-906c-a5becb339116\" xlink:type=\"simple\"><path d=\"M65.1,103.26 C75.19,121.4 88.98,146.19 95.81,158.47 \" fill=\"none\" id=\"E3-to-E4\" style=\"stroke:#181818;stroke-width:1.0;\"/><polygon fill=\"#181818\" points=\"98.28,162.91,97.3814,153.1022,95.8409,158.5453,90.3978,157.0048,98.28,162.91\" style=\"stroke:#181818;stroke-width:1.0;\"/></a></g><!--MD5=[1b7591eae5389033d8d09a9d6721a717]\n",
       "link E4 to E5--><g id=\"link_E4_E5\"><a href=\"psysml:091dd6b1-b372-46ae-b0ca-4e4aa94aac13\" target=\"_top\" title=\"psysml:091dd6b1-b372-46ae-b0ca-4e4aa94aac13\" xlink:actuate=\"onRequest\" xlink:href=\"psysml:091dd6b1-b372-46ae-b0ca-4e4aa94aac13\" xlink:show=\"new\" xlink:title=\"psysml:091dd6b1-b372-46ae-b0ca-4e4aa94aac13\" xlink:type=\"simple\"><path d=\"M100,171.18 C100,180.92 100,210.52 100,225.34 \" fill=\"none\" id=\"E4-to-E5\" style=\"stroke:#181818;stroke-width:1.0;\"/><polygon fill=\"#181818\" points=\"100,230.69,104,221.69,100,225.69,96,221.69,100,230.69\" style=\"stroke:#181818;stroke-width:1.0;\"/></a></g><!--MD5=[9120cf2e5df3bff93db8f754bbbc09b4]\n",
       "link E5 to E6--><g id=\"link_E5_E6\"><a href=\"psysml:418b7d58-d850-4614-9e9d-1c793842a2dd\" target=\"_top\" title=\"psysml:418b7d58-d850-4614-9e9d-1c793842a2dd\" xlink:actuate=\"onRequest\" xlink:href=\"psysml:418b7d58-d850-4614-9e9d-1c793842a2dd\" xlink:show=\"new\" xlink:title=\"psysml:418b7d58-d850-4614-9e9d-1c793842a2dd\" xlink:type=\"simple\"><path d=\"M98.21,239.21 C93.23,248.18 78.77,274.17 67.53,294.37 \" fill=\"none\" id=\"E5-to-E6\" style=\"stroke:#181818;stroke-width:1.0;\"/><polygon fill=\"#181818\" points=\"65.04,298.85,72.9074,292.9252,67.4682,294.4792,65.9142,289.04,65.04,298.85\" style=\"stroke:#181818;stroke-width:1.0;\"/></a></g><!--MD5=[3a9b96bfbf6b6ad89c494e81751bda47]\n",
       "link E5 to E7--><g id=\"link_E5_E7\"><a href=\"psysml:a0ea5228-fdc9-49fd-bb96-6ce22cf44d00\" target=\"_top\" title=\"psysml:a0ea5228-fdc9-49fd-bb96-6ce22cf44d00\" xlink:actuate=\"onRequest\" xlink:href=\"psysml:a0ea5228-fdc9-49fd-bb96-6ce22cf44d00\" xlink:show=\"new\" xlink:title=\"psysml:a0ea5228-fdc9-49fd-bb96-6ce22cf44d00\" xlink:type=\"simple\"><path d=\"M101.82,239.21 C106.92,248.18 121.68,274.17 133.16,294.37 \" fill=\"none\" id=\"E5-to-E7\" style=\"stroke:#181818;stroke-width:1.0;\"/><polygon fill=\"#181818\" points=\"135.7,298.85,134.7251,289.0495,133.227,294.5044,127.7721,293.0063,135.7,298.85\" style=\"stroke:#181818;stroke-width:1.0;\"/></a></g><!--MD5=[86bfb667dcc1bd614c5b240e1d88709c]\n",
       "@startuml\r\n",
       "skin sysmlbw\r\n",
       "skinparam monochrome true\r\n",
       "skinparam wrapWidth 300\r\n",
       "hide circle\r\n",
       "skinparam linetype polyline\r\n",
       "\r\n",
       "rec def \"ControlNodeTest\" as E1  <<(T,blue) action  def>> [[psysml:fb29792e-912d-4ab4-a64b-8ae4f88f6031 ]] {\r\n",
       "rec usage \"A1\" as E2  <<(T,blue) action>> [[psysml:fe1ec0cc-95d8-48f7-a7e5-aef83e3da3f9 ]] {\r\n",
       "}\r\n",
       "\r\n",
       "rec usage \"A2\" as E3  <<(T,blue) action>> [[psysml:c0a5c6df-be9c-4195-8c1c-0f8f015b3130 ]] {\r\n",
       "}\r\n",
       "\r\n",
       "join \"J\" as E4  [[psysml:3bd09aec-2544-46ae-936d-01aed8eb96e7 ]] \r\n",
       "fork \"F\" as E5  [[psysml:17702565-4e67-4d00-9c2e-cf91774b37d5 ]] \r\n",
       "rec usage \"B1\" as E6  <<(T,blue) action>> [[psysml:2e4137e4-9d77-4a25-b719-c29e464dbfc7 ]] {\r\n",
       "}\r\n",
       "\r\n",
       "rec usage \"B2\" as E7  <<(T,blue) action>> [[psysml:22fc935b-3ced-457d-8850-10eb2e62808c ]] {\r\n",
       "}\r\n",
       "\r\n",
       "}\r\n",
       "\r\n",
       "E2 - -> E4 [[psysml:f9bcfb7b-138a-4058-8879-7210022ba40a ]] \r\n",
       "E3 - -> E4 [[psysml:6481bc83-60df-4dde-906c-a5becb339116 ]] \r\n",
       "E4 - -> E5 [[psysml:091dd6b1-b372-46ae-b0ca-4e4aa94aac13 ]] \r\n",
       "E5 - -> E6 [[psysml:418b7d58-d850-4614-9e9d-1c793842a2dd ]] \r\n",
       "E5 - -> E7 [[psysml:a0ea5228-fdc9-49fd-bb96-6ce22cf44d00 ]] \r\n",
       "@enduml\r\n",
       "\n",
       "PlantUML version 1.2022.7(Mon Aug 22 17:01:30 UTC 2022)\n",
       "(EPL source distribution)\n",
       "Java Runtime: OpenJDK Runtime Environment\n",
       "JVM: OpenJDK 64-Bit Server VM\n",
       "Default Encoding: UTF-8\n",
       "Language: en\n",
       "Country: null\n",
       "--></g></svg>"
      ]
     },
     "execution_count": 9,
     "metadata": {},
     "output_type": "execute_result"
    }
   ],
   "source": [
    "%viz --style=\"POLYLINE\" --view=\"Default\" \"ControlNodeTest\""
   ]
  },
  {
   "cell_type": "code",
   "execution_count": 10,
   "id": "b2127360",
   "metadata": {
    "execution": {
     "iopub.execute_input": "2024-12-16T14:20:23.967933Z",
     "iopub.status.busy": "2024-12-16T14:20:23.967617Z",
     "iopub.status.idle": "2024-12-16T14:20:24.008744Z",
     "shell.execute_reply": "2024-12-16T14:20:24.007899Z"
    }
   },
   "outputs": [
    {
     "data": {
      "image/svg+xml": [
       "<?xml version=\"1.0\" encoding=\"UTF-8\" standalone=\"no\"?><svg xmlns=\"http://www.w3.org/2000/svg\" xmlns:xlink=\"http://www.w3.org/1999/xlink\" contentStyleType=\"text/css\" height=\"586px\" preserveAspectRatio=\"none\" style=\"width:335px;height:586px;background:#FFFFFF;\" version=\"1.1\" viewBox=\"0 0 335 586\" width=\"335px\" zoomAndPan=\"magnify\"><defs/><g><!--MD5=[43c9051892ef23e1a46a86907403d788]\n",
       "class E1--><a href=\"psysml:fb29792e-912d-4ab4-a64b-8ae4f88f6031\" target=\"_top\" title=\"psysml:fb29792e-912d-4ab4-a64b-8ae4f88f6031\" xlink:actuate=\"onRequest\" xlink:href=\"psysml:fb29792e-912d-4ab4-a64b-8ae4f88f6031\" xlink:show=\"new\" xlink:title=\"psysml:fb29792e-912d-4ab4-a64b-8ae4f88f6031\" xlink:type=\"simple\"><g id=\"elem_E1\"><rect fill=\"#FFFFFF\" height=\"140.2688\" id=\"E1\" style=\"stroke:#181818;stroke-width:0.5;\" width=\"169\" x=\"96.5\" y=\"7\"/><text fill=\"#000000\" font-family=\"sans-serif\" font-size=\"12\" font-style=\"italic\" lengthAdjust=\"spacing\" textLength=\"81\" x=\"140.5\" y=\"23.1387\">«action  def»</text><text fill=\"#000000\" font-family=\"sans-serif\" font-size=\"14\" lengthAdjust=\"spacing\" textLength=\"118\" x=\"122\" y=\"38.9639\">ControlNodeTest</text><line style=\"stroke:#181818;stroke-width:0.5;\" x1=\"97.5\" x2=\"264.5\" y1=\"47.2656\" y2=\"47.2656\"/><text fill=\"#000000\" font-family=\"sans-serif\" font-size=\"14\" lengthAdjust=\"spacing\" textLength=\"151\" x=\"102.5\" y=\"74.7795\">noname first A1 then J</text><text fill=\"#000000\" font-family=\"sans-serif\" font-size=\"14\" lengthAdjust=\"spacing\" textLength=\"151\" x=\"102.5\" y=\"91.0764\">noname first A2 then J</text><text fill=\"#000000\" font-family=\"sans-serif\" font-size=\"14\" lengthAdjust=\"spacing\" textLength=\"141\" x=\"102.5\" y=\"107.3732\">noname first J then F</text><text fill=\"#000000\" font-family=\"sans-serif\" font-size=\"14\" lengthAdjust=\"spacing\" textLength=\"157\" x=\"102.5\" y=\"123.6701\">noname first F then B1</text><text fill=\"#000000\" font-family=\"sans-serif\" font-size=\"14\" lengthAdjust=\"spacing\" textLength=\"157\" x=\"102.5\" y=\"139.967\">noname first F then B2</text><text fill=\"#000000\" font-family=\"sans-serif\" font-size=\"14\" font-style=\"italic\" lengthAdjust=\"spacing\" textLength=\"87\" x=\"137.5\" y=\"59.6123\">successions</text></g></a><!--MD5=[b4997ac47864f28c2f74865a473b2911]\n",
       "class E2--><a href=\"psysml:fe1ec0cc-95d8-48f7-a7e5-aef83e3da3f9\" target=\"_top\" title=\"psysml:fe1ec0cc-95d8-48f7-a7e5-aef83e3da3f9\" xlink:actuate=\"onRequest\" xlink:href=\"psysml:fe1ec0cc-95d8-48f7-a7e5-aef83e3da3f9\" xlink:show=\"new\" xlink:title=\"psysml:fe1ec0cc-95d8-48f7-a7e5-aef83e3da3f9\" xlink:type=\"simple\"><g id=\"elem_E2\"><rect fill=\"#FFFFFF\" height=\"48.2656\" id=\"E2\" rx=\"10\" ry=\"10\" style=\"stroke:#181818;stroke-width:0.5;\" width=\"55\" x=\"23.5\" y=\"207\"/><text fill=\"#000000\" font-family=\"sans-serif\" font-size=\"12\" font-style=\"italic\" lengthAdjust=\"spacing\" textLength=\"53\" x=\"24.5\" y=\"223.1387\">«action»</text><text fill=\"#000000\" font-family=\"sans-serif\" font-size=\"14\" lengthAdjust=\"spacing\" textLength=\"18\" x=\"38\" y=\"238.9639\">A1</text><line style=\"stroke:#181818;stroke-width:0.5;\" x1=\"24.5\" x2=\"77.5\" y1=\"247.2656\" y2=\"247.2656\"/></g></a><!--MD5=[09b614a08d8cba4a07c9adeb5e0fee81]\n",
       "class E3--><a href=\"psysml:c0a5c6df-be9c-4195-8c1c-0f8f015b3130\" target=\"_top\" title=\"psysml:c0a5c6df-be9c-4195-8c1c-0f8f015b3130\" xlink:actuate=\"onRequest\" xlink:href=\"psysml:c0a5c6df-be9c-4195-8c1c-0f8f015b3130\" xlink:show=\"new\" xlink:title=\"psysml:c0a5c6df-be9c-4195-8c1c-0f8f015b3130\" xlink:type=\"simple\"><g id=\"elem_E3\"><rect fill=\"#FFFFFF\" height=\"48.2656\" id=\"E3\" rx=\"10\" ry=\"10\" style=\"stroke:#181818;stroke-width:0.5;\" width=\"55\" x=\"113.5\" y=\"207\"/><text fill=\"#000000\" font-family=\"sans-serif\" font-size=\"12\" font-style=\"italic\" lengthAdjust=\"spacing\" textLength=\"53\" x=\"114.5\" y=\"223.1387\">«action»</text><text fill=\"#000000\" font-family=\"sans-serif\" font-size=\"14\" lengthAdjust=\"spacing\" textLength=\"18\" x=\"128\" y=\"238.9639\">A2</text><line style=\"stroke:#181818;stroke-width:0.5;\" x1=\"114.5\" x2=\"167.5\" y1=\"247.2656\" y2=\"247.2656\"/></g></a><!--MD5=[ebbe1d658d1005bcc118a6aa81145e00]\n",
       "class E4--><a href=\"psysml:3bd09aec-2544-46ae-936d-01aed8eb96e7\" target=\"_top\" title=\"psysml:3bd09aec-2544-46ae-936d-01aed8eb96e7\" xlink:actuate=\"onRequest\" xlink:href=\"psysml:3bd09aec-2544-46ae-936d-01aed8eb96e7\" xlink:show=\"new\" xlink:title=\"psysml:3bd09aec-2544-46ae-936d-01aed8eb96e7\" xlink:type=\"simple\"><g id=\"elem_E4\"><rect fill=\"#FFFFFF\" height=\"48.2656\" id=\"E4\" rx=\"10\" ry=\"10\" style=\"stroke:#181818;stroke-width:0.5;\" width=\"74\" x=\"135\" y=\"315\"/><text fill=\"#000000\" font-family=\"sans-serif\" font-size=\"12\" font-style=\"italic\" lengthAdjust=\"spacing\" textLength=\"72\" x=\"136\" y=\"331.1387\">«join node»</text><text fill=\"#000000\" font-family=\"sans-serif\" font-size=\"14\" lengthAdjust=\"spacing\" textLength=\"3\" x=\"166.5\" y=\"346.9639\">J</text><line style=\"stroke:#181818;stroke-width:0.5;\" x1=\"136\" x2=\"208\" y1=\"355.2656\" y2=\"355.2656\"/></g></a><!--MD5=[270fce915f116d4de14055a7c1d9a0f3]\n",
       "class E5--><a href=\"psysml:17702565-4e67-4d00-9c2e-cf91774b37d5\" target=\"_top\" title=\"psysml:17702565-4e67-4d00-9c2e-cf91774b37d5\" xlink:actuate=\"onRequest\" xlink:href=\"psysml:17702565-4e67-4d00-9c2e-cf91774b37d5\" xlink:show=\"new\" xlink:title=\"psysml:17702565-4e67-4d00-9c2e-cf91774b37d5\" xlink:type=\"simple\"><g id=\"elem_E5\"><rect fill=\"#FFFFFF\" height=\"48.2656\" id=\"E5\" rx=\"10\" ry=\"10\" style=\"stroke:#181818;stroke-width:0.5;\" width=\"76\" x=\"200\" y=\"423\"/><text fill=\"#000000\" font-family=\"sans-serif\" font-size=\"12\" font-style=\"italic\" lengthAdjust=\"spacing\" textLength=\"74\" x=\"201\" y=\"439.1387\">«fork node»</text><text fill=\"#000000\" font-family=\"sans-serif\" font-size=\"14\" lengthAdjust=\"spacing\" textLength=\"8\" x=\"230\" y=\"454.9639\">F</text><line style=\"stroke:#181818;stroke-width:0.5;\" x1=\"201\" x2=\"275\" y1=\"463.2656\" y2=\"463.2656\"/></g></a><!--MD5=[60a26617385b1d2d0262a64233df1f8d]\n",
       "class E6--><a href=\"psysml:2e4137e4-9d77-4a25-b719-c29e464dbfc7\" target=\"_top\" title=\"psysml:2e4137e4-9d77-4a25-b719-c29e464dbfc7\" xlink:actuate=\"onRequest\" xlink:href=\"psysml:2e4137e4-9d77-4a25-b719-c29e464dbfc7\" xlink:show=\"new\" xlink:title=\"psysml:2e4137e4-9d77-4a25-b719-c29e464dbfc7\" xlink:type=\"simple\"><g id=\"elem_E6\"><rect fill=\"#FFFFFF\" height=\"48.2656\" id=\"E6\" rx=\"10\" ry=\"10\" style=\"stroke:#181818;stroke-width:0.5;\" width=\"55\" x=\"143.5\" y=\"531\"/><text fill=\"#000000\" font-family=\"sans-serif\" font-size=\"12\" font-style=\"italic\" lengthAdjust=\"spacing\" textLength=\"53\" x=\"144.5\" y=\"547.1387\">«action»</text><text fill=\"#000000\" font-family=\"sans-serif\" font-size=\"14\" lengthAdjust=\"spacing\" textLength=\"19\" x=\"157.5\" y=\"562.9639\">B1</text><line style=\"stroke:#181818;stroke-width:0.5;\" x1=\"144.5\" x2=\"197.5\" y1=\"571.2656\" y2=\"571.2656\"/></g></a><!--MD5=[2156ba9850f5573cc1fc38a6a4b2f02b]\n",
       "class E7--><a href=\"psysml:22fc935b-3ced-457d-8850-10eb2e62808c\" target=\"_top\" title=\"psysml:22fc935b-3ced-457d-8850-10eb2e62808c\" xlink:actuate=\"onRequest\" xlink:href=\"psysml:22fc935b-3ced-457d-8850-10eb2e62808c\" xlink:show=\"new\" xlink:title=\"psysml:22fc935b-3ced-457d-8850-10eb2e62808c\" xlink:type=\"simple\"><g id=\"elem_E7\"><rect fill=\"#FFFFFF\" height=\"48.2656\" id=\"E7\" rx=\"10\" ry=\"10\" style=\"stroke:#181818;stroke-width:0.5;\" width=\"55\" x=\"273.5\" y=\"531\"/><text fill=\"#000000\" font-family=\"sans-serif\" font-size=\"12\" font-style=\"italic\" lengthAdjust=\"spacing\" textLength=\"53\" x=\"274.5\" y=\"547.1387\">«action»</text><text fill=\"#000000\" font-family=\"sans-serif\" font-size=\"14\" lengthAdjust=\"spacing\" textLength=\"19\" x=\"287.5\" y=\"562.9639\">B2</text><line style=\"stroke:#181818;stroke-width:0.5;\" x1=\"274.5\" x2=\"327.5\" y1=\"571.2656\" y2=\"571.2656\"/></g></a><!--MD5=[a523cb2a0b79ecf9065ad8783f96c320]\n",
       "reverse link E1 to E2--><g id=\"link_E1_E2\"><a href=\"psysml:9306702f-37ef-4fdd-b535-5b953ffb2d58\" target=\"_top\" title=\"psysml:9306702f-37ef-4fdd-b535-5b953ffb2d58\" xlink:actuate=\"onRequest\" xlink:href=\"psysml:9306702f-37ef-4fdd-b535-5b953ffb2d58\" xlink:show=\"new\" xlink:title=\"psysml:9306702f-37ef-4fdd-b535-5b953ffb2d58\" xlink:type=\"simple\"><path d=\"M113.08,157.41 C97.56,175.56 82.26,193.45 70.74,206.92 \" fill=\"none\" id=\"E1-backto-E2\" style=\"stroke:#181818;stroke-width:1.0;\"/><polygon fill=\"#181818\" points=\"121.71,147.33,114.7703,149.2898,113.9103,156.4495,120.85,154.4896,121.71,147.33\" style=\"stroke:#181818;stroke-width:1.0;\"/></a></g><!--MD5=[5d7b3810b1dd9b5164bea1151b29b665]\n",
       "reverse link E1 to E3--><g id=\"link_E1_E3\"><a href=\"psysml:ff946dee-4dd2-48de-88dc-ec164dbbdf2e\" target=\"_top\" title=\"psysml:ff946dee-4dd2-48de-88dc-ec164dbbdf2e\" xlink:actuate=\"onRequest\" xlink:href=\"psysml:ff946dee-4dd2-48de-88dc-ec164dbbdf2e\" xlink:show=\"new\" xlink:title=\"psysml:ff946dee-4dd2-48de-88dc-ec164dbbdf2e\" xlink:type=\"simple\"><path d=\"M159.44,159.93 C154.89,177.2 150.46,194.07 147.07,206.92 \" fill=\"none\" id=\"E1-backto-E3\" style=\"stroke:#181818;stroke-width:1.0;\"/><polygon fill=\"#181818\" points=\"162.76,147.33,157.3626,152.1121,159.7009,158.9335,165.0983,154.1515,162.76,147.33\" style=\"stroke:#181818;stroke-width:1.0;\"/></a></g><!--MD5=[4d03bb2d0377dc85ccfab60ff574652b]\n",
       "link E2 to E4--><g id=\"link_E2_E4\"><a href=\"psysml:f9bcfb7b-138a-4058-8879-7210022ba40a\" target=\"_top\" title=\"psysml:f9bcfb7b-138a-4058-8879-7210022ba40a\" xlink:actuate=\"onRequest\" xlink:href=\"psysml:f9bcfb7b-138a-4058-8879-7210022ba40a\" xlink:show=\"new\" xlink:title=\"psysml:f9bcfb7b-138a-4058-8879-7210022ba40a\" xlink:type=\"simple\"><path d=\"M77.26,255 C96.15,271.55 121.7,293.93 141.5,311.28 \" fill=\"none\" id=\"E2-to-E4\" style=\"stroke:#181818;stroke-width:1.0;\"/><polygon fill=\"#181818\" points=\"145.38,314.68,141.2576,305.7354,141.6233,311.3804,135.9783,311.7461,145.38,314.68\" style=\"stroke:#181818;stroke-width:1.0;\"/></a></g><!--MD5=[af87c684e3b0d8be13c1a698a818ef1e]\n",
       "link E3 to E4--><g id=\"link_E3_E4\"><a href=\"psysml:6481bc83-60df-4dde-906c-a5becb339116\" target=\"_top\" title=\"psysml:6481bc83-60df-4dde-906c-a5becb339116\" xlink:actuate=\"onRequest\" xlink:href=\"psysml:6481bc83-60df-4dde-906c-a5becb339116\" xlink:show=\"new\" xlink:title=\"psysml:6481bc83-60df-4dde-906c-a5becb339116\" xlink:type=\"simple\"><path d=\"M147.73,255 C152.41,271 158.68,292.45 163.67,309.53 \" fill=\"none\" id=\"E3-to-E4\" style=\"stroke:#181818;stroke-width:1.0;\"/><polygon fill=\"#181818\" points=\"165.18,314.68,166.5,304.92,163.78,309.88,158.82,307.16,165.18,314.68\" style=\"stroke:#181818;stroke-width:1.0;\"/></a></g><!--MD5=[f2c5c03aa1e8c0ba21c10a05e6444b8e]\n",
       "reverse link E1 to E4--><g id=\"link_E1_E4\"><a href=\"psysml:c17bb3db-0b7d-4d5b-b917-165c66d3be23\" target=\"_top\" title=\"psysml:c17bb3db-0b7d-4d5b-b917-165c66d3be23\" xlink:actuate=\"onRequest\" xlink:href=\"psysml:c17bb3db-0b7d-4d5b-b917-165c66d3be23\" xlink:show=\"new\" xlink:title=\"psysml:c17bb3db-0b7d-4d5b-b917-165c66d3be23\" xlink:type=\"simple\"><path d=\"M184.18,160.16 C185.17,185.56 186,207 186,207 C186,207 186,255 186,255 C186,255 180.04,290.32 175.9,314.88 \" fill=\"none\" id=\"E1-backto-E4\" style=\"stroke:#181818;stroke-width:1.0;\"/><polygon fill=\"#181818\" points=\"183.68,147.03,179.9136,153.1793,184.1412,159.0211,187.9076,152.8718,183.68,147.03\" style=\"stroke:#181818;stroke-width:1.0;\"/></a></g><!--MD5=[1b7591eae5389033d8d09a9d6721a717]\n",
       "link E4 to E5--><g id=\"link_E4_E5\"><a href=\"psysml:091dd6b1-b372-46ae-b0ca-4e4aa94aac13\" target=\"_top\" title=\"psysml:091dd6b1-b372-46ae-b0ca-4e4aa94aac13\" xlink:actuate=\"onRequest\" xlink:href=\"psysml:091dd6b1-b372-46ae-b0ca-4e4aa94aac13\" xlink:show=\"new\" xlink:title=\"psysml:091dd6b1-b372-46ae-b0ca-4e4aa94aac13\" xlink:type=\"simple\"><path d=\"M186.32,363 C196.46,379.28 210.1,401.19 220.82,418.41 \" fill=\"none\" id=\"E4-to-E5\" style=\"stroke:#181818;stroke-width:1.0;\"/><polygon fill=\"#181818\" points=\"223.48,422.68,222.1168,412.9259,220.8364,418.436,215.3264,417.1557,223.48,422.68\" style=\"stroke:#181818;stroke-width:1.0;\"/></a></g><!--MD5=[33238bef88d6431a141d8bc8fb12bca0]\n",
       "reverse link E1 to E5--><g id=\"link_E1_E5\"><a href=\"psysml:75ce6460-81e3-4fd8-b178-253d08d4aaea\" target=\"_top\" title=\"psysml:75ce6460-81e3-4fd8-b178-253d08d4aaea\" xlink:actuate=\"onRequest\" xlink:href=\"psysml:75ce6460-81e3-4fd8-b178-253d08d4aaea\" xlink:show=\"new\" xlink:title=\"psysml:75ce6460-81e3-4fd8-b178-253d08d4aaea\" xlink:type=\"simple\"><path d=\"M200.66,159.81 C206.8,185.36 212,207 212,207 C212,207 227,315 227,315 C227,315 232.9,385.27 236.06,422.88 \" fill=\"none\" id=\"E1-backto-E5\" style=\"stroke:#181818;stroke-width:1.0;\"/><polygon fill=\"#181818\" points=\"197.59,147.03,195.105,153.7994,200.398,158.6969,202.8829,151.9274,197.59,147.03\" style=\"stroke:#181818;stroke-width:1.0;\"/></a></g><!--MD5=[9120cf2e5df3bff93db8f754bbbc09b4]\n",
       "link E5 to E6--><g id=\"link_E5_E6\"><a href=\"psysml:418b7d58-d850-4614-9e9d-1c793842a2dd\" target=\"_top\" title=\"psysml:418b7d58-d850-4614-9e9d-1c793842a2dd\" xlink:actuate=\"onRequest\" xlink:href=\"psysml:418b7d58-d850-4614-9e9d-1c793842a2dd\" xlink:show=\"new\" xlink:title=\"psysml:418b7d58-d850-4614-9e9d-1c793842a2dd\" xlink:type=\"simple\"><path d=\"M223.46,471 C213.17,487.28 199.33,509.19 188.44,526.41 \" fill=\"none\" id=\"E5-to-E6\" style=\"stroke:#181818;stroke-width:1.0;\"/><polygon fill=\"#181818\" points=\"185.74,530.68,193.9286,525.2076,188.4105,526.4529,187.1652,520.9348,185.74,530.68\" style=\"stroke:#181818;stroke-width:1.0;\"/></a></g><!--MD5=[aca2ef284c2b1b90e17e73bf3f292c07]\n",
       "reverse link E1 to E6--><g id=\"link_E1_E6\"><a href=\"psysml:cbe5f5cb-386f-45e5-9c39-bb1873a128f8\" target=\"_top\" title=\"psysml:cbe5f5cb-386f-45e5-9c39-bb1873a128f8\" xlink:actuate=\"onRequest\" xlink:href=\"psysml:cbe5f5cb-386f-45e5-9c39-bb1873a128f8\" xlink:show=\"new\" xlink:title=\"psysml:cbe5f5cb-386f-45e5-9c39-bb1873a128f8\" xlink:type=\"simple\"><path d=\"M85.85,148.14 C44.8,178.4 6,207 6,207 C6,207 6,255 6,255 C6,255 119.16,460.05 158.05,530.54 \" fill=\"none\" id=\"E1-backto-E6\" style=\"stroke:#181818;stroke-width:1.0;\"/><polygon fill=\"#181818\" points=\"96.32,140.42,89.1165,140.7519,86.6524,147.5289,93.8558,147.197,96.32,140.42\" style=\"stroke:#181818;stroke-width:1.0;\"/></a></g><!--MD5=[3a9b96bfbf6b6ad89c494e81751bda47]\n",
       "link E5 to E7--><g id=\"link_E5_E7\"><a href=\"psysml:a0ea5228-fdc9-49fd-bb96-6ce22cf44d00\" target=\"_top\" title=\"psysml:a0ea5228-fdc9-49fd-bb96-6ce22cf44d00\" xlink:actuate=\"onRequest\" xlink:href=\"psysml:a0ea5228-fdc9-49fd-bb96-6ce22cf44d00\" xlink:show=\"new\" xlink:title=\"psysml:a0ea5228-fdc9-49fd-bb96-6ce22cf44d00\" xlink:type=\"simple\"><path d=\"M251.67,471 C261.26,487.14 274.15,508.82 284.34,525.97 \" fill=\"none\" id=\"E5-to-E7\" style=\"stroke:#181818;stroke-width:1.0;\"/><polygon fill=\"#181818\" points=\"287.14,530.68,286.0019,520.8971,284.5949,526.3762,279.1158,524.9693,287.14,530.68\" style=\"stroke:#181818;stroke-width:1.0;\"/></a></g><!--MD5=[fc9706a6b2cf8c0e423679d303750d3f]\n",
       "reverse link E1 to E7--><g id=\"link_E1_E7\"><a href=\"psysml:65a1f468-5d54-43ed-9b56-c01a515fc6bb\" target=\"_top\" title=\"psysml:65a1f468-5d54-43ed-9b56-c01a515fc6bb\" xlink:actuate=\"onRequest\" xlink:href=\"psysml:65a1f468-5d54-43ed-9b56-c01a515fc6bb\" xlink:show=\"new\" xlink:title=\"psysml:65a1f468-5d54-43ed-9b56-c01a515fc6bb\" xlink:type=\"simple\"><path d=\"M218.73,159.11 C230.75,184.97 241,207 241,207 C241,207 294,423 294,423 C294,423 297.76,493.27 299.76,530.88 \" fill=\"none\" id=\"E1-backto-E7\" style=\"stroke:#181818;stroke-width:1.0;\"/><polygon fill=\"#181818\" points=\"213.11,147.03,212.0122,154.157,218.1688,157.9116,219.2666,150.7845,213.11,147.03\" style=\"stroke:#181818;stroke-width:1.0;\"/></a></g><!--MD5=[f4aaa6da3bc8847590f95c5234b3ff62]\n",
       "@startuml\r\n",
       "skin sysmlbw\r\n",
       "skinparam monochrome true\r\n",
       "skinparam wrapWidth 300\r\n",
       "hide circle\r\n",
       "skinparam linetype polyline\r\n",
       "\r\n",
       "comp def \"ControlNodeTest\" as E1  <<(T,blue) action  def>> [[psysml:fb29792e-912d-4ab4-a64b-8ae4f88f6031 ]] {\r\n",
       "##//successions//##\r\n",
       "noname first A1 then J\r\n",
       "noname first A2 then J\r\n",
       "noname first J then F\r\n",
       "noname first F then B1\r\n",
       "noname first F then B2\r\n",
       "}\r\n",
       "comp usage \"A1  \" as E2  <<(T,blue) action>> [[psysml:fe1ec0cc-95d8-48f7-a7e5-aef83e3da3f9 ]] {\r\n",
       "}\r\n",
       "comp usage \"A2  \" as E3  <<(T,blue) action>> [[psysml:c0a5c6df-be9c-4195-8c1c-0f8f015b3130 ]] {\r\n",
       "}\r\n",
       "comp usage \"J  \" as E4  <<(T,blue) join node>> [[psysml:3bd09aec-2544-46ae-936d-01aed8eb96e7 ]] {\r\n",
       "}\r\n",
       "comp usage \"F  \" as E5  <<(T,blue) fork node>> [[psysml:17702565-4e67-4d00-9c2e-cf91774b37d5 ]] {\r\n",
       "}\r\n",
       "comp usage \"B1  \" as E6  <<(T,blue) action>> [[psysml:2e4137e4-9d77-4a25-b719-c29e464dbfc7 ]] {\r\n",
       "}\r\n",
       "comp usage \"B2  \" as E7  <<(T,blue) action>> [[psysml:22fc935b-3ced-457d-8850-10eb2e62808c ]] {\r\n",
       "}\r\n",
       "E1 *- - E2 [[psysml:9306702f-37ef-4fdd-b535-5b953ffb2d58 ]] \r\n",
       "E1 *- - E3 [[psysml:ff946dee-4dd2-48de-88dc-ec164dbbdf2e ]] \r\n",
       "E2 - -> E4 [[psysml:f9bcfb7b-138a-4058-8879-7210022ba40a ]] \r\n",
       "E3 - -> E4 [[psysml:6481bc83-60df-4dde-906c-a5becb339116 ]] \r\n",
       "E1 *- - E4 [[psysml:c17bb3db-0b7d-4d5b-b917-165c66d3be23 ]] \r\n",
       "E4 - -> E5 [[psysml:091dd6b1-b372-46ae-b0ca-4e4aa94aac13 ]] \r\n",
       "E1 *- - E5 [[psysml:75ce6460-81e3-4fd8-b178-253d08d4aaea ]] \r\n",
       "E5 - -> E6 [[psysml:418b7d58-d850-4614-9e9d-1c793842a2dd ]] \r\n",
       "E1 *- - E6 [[psysml:cbe5f5cb-386f-45e5-9c39-bb1873a128f8 ]] \r\n",
       "E5 - -> E7 [[psysml:a0ea5228-fdc9-49fd-bb96-6ce22cf44d00 ]] \r\n",
       "E1 *- - E7 [[psysml:65a1f468-5d54-43ed-9b56-c01a515fc6bb ]] \r\n",
       "@enduml\r\n",
       "\n",
       "PlantUML version 1.2022.7(Mon Aug 22 17:01:30 UTC 2022)\n",
       "(EPL source distribution)\n",
       "Java Runtime: OpenJDK Runtime Environment\n",
       "JVM: OpenJDK 64-Bit Server VM\n",
       "Default Encoding: UTF-8\n",
       "Language: en\n",
       "Country: null\n",
       "--></g></svg>"
      ]
     },
     "execution_count": 10,
     "metadata": {},
     "output_type": "execute_result"
    }
   ],
   "source": [
    "%viz --style=\"POLYLINE\" --view=\"Tree\" \"ControlNodeTest\""
   ]
  },
  {
   "cell_type": "code",
   "execution_count": 11,
   "id": "8d03dd70",
   "metadata": {
    "execution": {
     "iopub.execute_input": "2024-12-16T14:20:24.064412Z",
     "iopub.status.busy": "2024-12-16T14:20:24.064218Z",
     "iopub.status.idle": "2024-12-16T14:20:24.069755Z",
     "shell.execute_reply": "2024-12-16T14:20:24.069894Z"
    }
   },
   "outputs": [
    {
     "data": {
      "image/svg+xml": [
       "<?xml version=\"1.0\" encoding=\"UTF-8\" standalone=\"no\"?><svg xmlns=\"http://www.w3.org/2000/svg\" xmlns:xlink=\"http://www.w3.org/1999/xlink\" contentStyleType=\"text/css\" height=\"10px\" preserveAspectRatio=\"none\" style=\"width:10px;height:10px;background:#FFFFFF;\" version=\"1.1\" viewBox=\"0 0 10 10\" width=\"10px\" zoomAndPan=\"magnify\"><defs/><g><!--MD5=[20bed88d98f2aabbefdc8661420d403d]\n",
       "@startuml\r\n",
       "skin sysmlbw\r\n",
       "skinparam monochrome true\r\n",
       "skinparam wrapWidth 300\r\n",
       "hide circle\r\n",
       "skinparam linetype polyline\r\n",
       "\r\n",
       "@enduml\r\n",
       "\n",
       "PlantUML version 1.2022.7(Mon Aug 22 17:01:30 UTC 2022)\n",
       "(EPL source distribution)\n",
       "Java Runtime: OpenJDK Runtime Environment\n",
       "JVM: OpenJDK 64-Bit Server VM\n",
       "Default Encoding: UTF-8\n",
       "Language: en\n",
       "Country: null\n",
       "--></g></svg>"
      ]
     },
     "execution_count": 11,
     "metadata": {},
     "output_type": "execute_result"
    }
   ],
   "source": [
    "%viz --style=\"POLYLINE\" --view=\"State\" \"ControlNodeTest\""
   ]
  },
  {
   "cell_type": "code",
   "execution_count": 12,
   "id": "363ca774",
   "metadata": {
    "execution": {
     "iopub.execute_input": "2024-12-16T14:20:24.121388Z",
     "iopub.status.busy": "2024-12-16T14:20:24.121175Z",
     "iopub.status.idle": "2024-12-16T14:20:24.144435Z",
     "shell.execute_reply": "2024-12-16T14:20:24.144273Z"
    }
   },
   "outputs": [
    {
     "data": {
      "image/svg+xml": [
       "<?xml version=\"1.0\" encoding=\"UTF-8\" standalone=\"no\"?><svg xmlns=\"http://www.w3.org/2000/svg\" xmlns:xlink=\"http://www.w3.org/1999/xlink\" contentStyleType=\"text/css\" height=\"216px\" preserveAspectRatio=\"none\" style=\"width:201px;height:216px;background:#FFFFFF;\" version=\"1.1\" viewBox=\"0 0 201 216\" width=\"201px\" zoomAndPan=\"magnify\"><defs/><g><!--MD5=[fbc87193dbaf4d95561dea2c320d4a47]\n",
       "cluster E1--><g id=\"cluster_E1\"><a href=\"psysml:fb29792e-912d-4ab4-a64b-8ae4f88f6031\" target=\"_top\" title=\"psysml:fb29792e-912d-4ab4-a64b-8ae4f88f6031\" xlink:actuate=\"onRequest\" xlink:href=\"psysml:fb29792e-912d-4ab4-a64b-8ae4f88f6031\" xlink:show=\"new\" xlink:title=\"psysml:fb29792e-912d-4ab4-a64b-8ae4f88f6031\" xlink:type=\"simple\"><rect fill=\"#FFFFFF\" height=\"203\" id=\"E1\" style=\"stroke:#383838;stroke-width:1.5;\" width=\"187\" x=\"7\" y=\"7\"/><text fill=\"#000000\" font-family=\"sans-serif\" font-size=\"12\" font-style=\"italic\" lengthAdjust=\"spacing\" textLength=\"81\" x=\"60\" y=\"23.1387\">«action  def»</text><text fill=\"#000000\" font-family=\"sans-serif\" font-size=\"14\" lengthAdjust=\"spacing\" textLength=\"118\" x=\"41.5\" y=\"38.9639\">ControlNodeTest</text><line style=\"stroke:#383838;stroke-width:1.0;\" x1=\"7\" x2=\"194\" y1=\"47.2656\" y2=\"47.2656\"/></a></g><rect fill=\"#555555\" height=\"8\" style=\"stroke:none;stroke-width:1.0;\" width=\"80\" x=\"60\" y=\"113\"/><rect fill=\"#555555\" height=\"8\" style=\"stroke:none;stroke-width:1.0;\" width=\"80\" x=\"60\" y=\"131\"/><g><a href=\"psysml:fe1ec0cc-95d8-48f7-a7e5-aef83e3da3f9\" target=\"_top\" title=\"psysml:fe1ec0cc-95d8-48f7-a7e5-aef83e3da3f9\" xlink:actuate=\"onRequest\" xlink:href=\"psysml:fe1ec0cc-95d8-48f7-a7e5-aef83e3da3f9\" xlink:show=\"new\" xlink:title=\"psysml:fe1ec0cc-95d8-48f7-a7e5-aef83e3da3f9\" xlink:type=\"simple\"><rect fill=\"#FFFFFF\" height=\"45.2656\" id=\"E2\" rx=\"10\" ry=\"10\" style=\"stroke:#383838;stroke-width:1.5;\" width=\"60\" x=\"118\" y=\"58\"/><text fill=\"#000000\" font-family=\"sans-serif\" font-size=\"12\" font-style=\"italic\" lengthAdjust=\"spacing\" textLength=\"53\" x=\"121.5\" y=\"74.1387\">«action»</text><text fill=\"#000000\" font-family=\"sans-serif\" font-size=\"14\" lengthAdjust=\"spacing\" textLength=\"18\" x=\"139\" y=\"89.9639\">A1</text></a></g><g><a href=\"psysml:c0a5c6df-be9c-4195-8c1c-0f8f015b3130\" target=\"_top\" title=\"psysml:c0a5c6df-be9c-4195-8c1c-0f8f015b3130\" xlink:actuate=\"onRequest\" xlink:href=\"psysml:c0a5c6df-be9c-4195-8c1c-0f8f015b3130\" xlink:show=\"new\" xlink:title=\"psysml:c0a5c6df-be9c-4195-8c1c-0f8f015b3130\" xlink:type=\"simple\"><rect fill=\"#FFFFFF\" height=\"45.2656\" id=\"E3\" rx=\"10\" ry=\"10\" style=\"stroke:#383838;stroke-width:1.5;\" width=\"60\" x=\"23\" y=\"58\"/><text fill=\"#000000\" font-family=\"sans-serif\" font-size=\"12\" font-style=\"italic\" lengthAdjust=\"spacing\" textLength=\"53\" x=\"26.5\" y=\"74.1387\">«action»</text><text fill=\"#000000\" font-family=\"sans-serif\" font-size=\"14\" lengthAdjust=\"spacing\" textLength=\"18\" x=\"44\" y=\"89.9639\">A2</text></a></g><g><a href=\"psysml:2e4137e4-9d77-4a25-b719-c29e464dbfc7\" target=\"_top\" title=\"psysml:2e4137e4-9d77-4a25-b719-c29e464dbfc7\" xlink:actuate=\"onRequest\" xlink:href=\"psysml:2e4137e4-9d77-4a25-b719-c29e464dbfc7\" xlink:show=\"new\" xlink:title=\"psysml:2e4137e4-9d77-4a25-b719-c29e464dbfc7\" xlink:type=\"simple\"><rect fill=\"#FFFFFF\" height=\"45.2656\" id=\"E6\" rx=\"10\" ry=\"10\" style=\"stroke:#383838;stroke-width:1.5;\" width=\"60\" x=\"23\" y=\"149\"/><text fill=\"#000000\" font-family=\"sans-serif\" font-size=\"12\" font-style=\"italic\" lengthAdjust=\"spacing\" textLength=\"53\" x=\"26.5\" y=\"165.1387\">«action»</text><text fill=\"#000000\" font-family=\"sans-serif\" font-size=\"14\" lengthAdjust=\"spacing\" textLength=\"19\" x=\"43.5\" y=\"180.9639\">B1</text></a></g><g><a href=\"psysml:22fc935b-3ced-457d-8850-10eb2e62808c\" target=\"_top\" title=\"psysml:22fc935b-3ced-457d-8850-10eb2e62808c\" xlink:actuate=\"onRequest\" xlink:href=\"psysml:22fc935b-3ced-457d-8850-10eb2e62808c\" xlink:show=\"new\" xlink:title=\"psysml:22fc935b-3ced-457d-8850-10eb2e62808c\" xlink:type=\"simple\"><rect fill=\"#FFFFFF\" height=\"45.2656\" id=\"E7\" rx=\"10\" ry=\"10\" style=\"stroke:#383838;stroke-width:1.5;\" width=\"60\" x=\"118\" y=\"149\"/><text fill=\"#000000\" font-family=\"sans-serif\" font-size=\"12\" font-style=\"italic\" lengthAdjust=\"spacing\" textLength=\"53\" x=\"121.5\" y=\"165.1387\">«action»</text><text fill=\"#000000\" font-family=\"sans-serif\" font-size=\"14\" lengthAdjust=\"spacing\" textLength=\"19\" x=\"138.5\" y=\"180.9639\">B2</text></a></g><!--MD5=[4d03bb2d0377dc85ccfab60ff574652b]\n",
       "link E2 to E4--><g id=\"link_E2_E4\"><a href=\"psysml:f9bcfb7b-138a-4058-8879-7210022ba40a\" target=\"_top\" title=\"psysml:f9bcfb7b-138a-4058-8879-7210022ba40a\" xlink:actuate=\"onRequest\" xlink:href=\"psysml:f9bcfb7b-138a-4058-8879-7210022ba40a\" xlink:show=\"new\" xlink:title=\"psysml:f9bcfb7b-138a-4058-8879-7210022ba40a\" xlink:type=\"simple\"><path d=\"M117.87,103.15 C114.58,105.52 111.45,107.77 108.75,109.71 \" fill=\"none\" id=\"E2-to-E4\" style=\"stroke:#181818;stroke-width:1.0;\"/><polygon fill=\"#181818\" points=\"104.44,112.81,114.082,110.8019,108.499,109.8904,109.4105,104.3074,104.44,112.81\" style=\"stroke:#181818;stroke-width:1.0;\"/></a></g><!--MD5=[af87c684e3b0d8be13c1a698a818ef1e]\n",
       "link E3 to E4--><g id=\"link_E3_E4\"><a href=\"psysml:6481bc83-60df-4dde-906c-a5becb339116\" target=\"_top\" title=\"psysml:6481bc83-60df-4dde-906c-a5becb339116\" xlink:actuate=\"onRequest\" xlink:href=\"psysml:6481bc83-60df-4dde-906c-a5becb339116\" xlink:show=\"new\" xlink:title=\"psysml:6481bc83-60df-4dde-906c-a5becb339116\" xlink:type=\"simple\"><path d=\"M82.5,103.15 C85.73,105.52 88.79,107.77 91.43,109.71 \" fill=\"none\" id=\"E3-to-E4\" style=\"stroke:#181818;stroke-width:1.0;\"/><polygon fill=\"#181818\" points=\"95.66,112.81,90.7718,104.2599,91.6293,109.8513,86.0379,110.7089,95.66,112.81\" style=\"stroke:#181818;stroke-width:1.0;\"/></a></g><!--MD5=[1b7591eae5389033d8d09a9d6721a717]\n",
       "link E4 to E5--><g id=\"link_E4_E5\"><a href=\"psysml:091dd6b1-b372-46ae-b0ca-4e4aa94aac13\" target=\"_top\" title=\"psysml:091dd6b1-b372-46ae-b0ca-4e4aa94aac13\" xlink:actuate=\"onRequest\" xlink:href=\"psysml:091dd6b1-b372-46ae-b0ca-4e4aa94aac13\" xlink:show=\"new\" xlink:title=\"psysml:091dd6b1-b372-46ae-b0ca-4e4aa94aac13\" xlink:type=\"simple\"><path d=\"M100,121.08 C100,122.38 100,123.95 100,125.55 \" fill=\"none\" id=\"E4-to-E5\" style=\"stroke:#181818;stroke-width:1.0;\"/><polygon fill=\"#181818\" points=\"100,130.7,104,121.7,100,125.7,96,121.7,100,130.7\" style=\"stroke:#181818;stroke-width:1.0;\"/></a></g><!--MD5=[9120cf2e5df3bff93db8f754bbbc09b4]\n",
       "link E5 to E6--><g id=\"link_E5_E6\"><a href=\"psysml:418b7d58-d850-4614-9e9d-1c793842a2dd\" target=\"_top\" title=\"psysml:418b7d58-d850-4614-9e9d-1c793842a2dd\" xlink:actuate=\"onRequest\" xlink:href=\"psysml:418b7d58-d850-4614-9e9d-1c793842a2dd\" xlink:show=\"new\" xlink:title=\"psysml:418b7d58-d850-4614-9e9d-1c793842a2dd\" xlink:type=\"simple\"><path d=\"M95.66,139.18 C93.31,140.91 90.17,143.22 86.65,145.8 \" fill=\"none\" id=\"E5-to-E6\" style=\"stroke:#181818;stroke-width:1.0;\"/><polygon fill=\"#181818\" points=\"82.37,148.94,91.9921,146.8389,86.4007,145.9813,87.2582,140.3899,82.37,148.94\" style=\"stroke:#181818;stroke-width:1.0;\"/></a></g><!--MD5=[3a9b96bfbf6b6ad89c494e81751bda47]\n",
       "link E5 to E7--><g id=\"link_E5_E7\"><a href=\"psysml:a0ea5228-fdc9-49fd-bb96-6ce22cf44d00\" target=\"_top\" title=\"psysml:a0ea5228-fdc9-49fd-bb96-6ce22cf44d00\" xlink:actuate=\"onRequest\" xlink:href=\"psysml:a0ea5228-fdc9-49fd-bb96-6ce22cf44d00\" xlink:show=\"new\" xlink:title=\"psysml:a0ea5228-fdc9-49fd-bb96-6ce22cf44d00\" xlink:type=\"simple\"><path d=\"M104.43,139.18 C106.83,140.91 110.04,143.22 113.64,145.8 \" fill=\"none\" id=\"E5-to-E7\" style=\"stroke:#181818;stroke-width:1.0;\"/><polygon fill=\"#181818\" points=\"118.01,148.94,113.0339,140.4407,113.9491,146.023,108.3667,146.9381,118.01,148.94\" style=\"stroke:#181818;stroke-width:1.0;\"/></a></g><!--MD5=[07505afc0abc31bce011a44b20afe25e]\n",
       "@startuml\r\n",
       "skin sysmlbw\r\n",
       "skinparam monochrome true\r\n",
       "skinparam wrapWidth 300\r\n",
       "hide circle\r\n",
       "skinparam linetype polyline\r\n",
       "skinparam ranksep 10\r\n",
       "skinparam rectangle {\r\n",
       " backgroundColor<<block>> LightGreen\r\n",
       "}\r\n",
       "\r\n",
       "rec def \"ControlNodeTest\" as E1  <<(T,blue) action  def>> [[psysml:fb29792e-912d-4ab4-a64b-8ae4f88f6031 ]] {\r\n",
       "rec usage \"A1\" as E2  <<(T,blue) action>> [[psysml:fe1ec0cc-95d8-48f7-a7e5-aef83e3da3f9 ]] {\r\n",
       "}\r\n",
       "\r\n",
       "rec usage \"A2\" as E3  <<(T,blue) action>> [[psysml:c0a5c6df-be9c-4195-8c1c-0f8f015b3130 ]] {\r\n",
       "}\r\n",
       "\r\n",
       "join \"J\" as E4  [[psysml:3bd09aec-2544-46ae-936d-01aed8eb96e7 ]] \r\n",
       "fork \"F\" as E5  [[psysml:17702565-4e67-4d00-9c2e-cf91774b37d5 ]] \r\n",
       "rec usage \"B1\" as E6  <<(T,blue) action>> [[psysml:2e4137e4-9d77-4a25-b719-c29e464dbfc7 ]] {\r\n",
       "}\r\n",
       "\r\n",
       "rec usage \"B2\" as E7  <<(T,blue) action>> [[psysml:22fc935b-3ced-457d-8850-10eb2e62808c ]] {\r\n",
       "}\r\n",
       "\r\n",
       "}\r\n",
       "\r\n",
       "E2 - -> E4 [[psysml:f9bcfb7b-138a-4058-8879-7210022ba40a ]] \r\n",
       "E3 - -> E4 [[psysml:6481bc83-60df-4dde-906c-a5becb339116 ]] \r\n",
       "E4 - -> E5 [[psysml:091dd6b1-b372-46ae-b0ca-4e4aa94aac13 ]] \r\n",
       "E5 - -> E6 [[psysml:418b7d58-d850-4614-9e9d-1c793842a2dd ]] \r\n",
       "E5 - -> E7 [[psysml:a0ea5228-fdc9-49fd-bb96-6ce22cf44d00 ]] \r\n",
       "@enduml\r\n",
       "\n",
       "PlantUML version 1.2022.7(Mon Aug 22 17:01:30 UTC 2022)\n",
       "(EPL source distribution)\n",
       "Java Runtime: OpenJDK Runtime Environment\n",
       "JVM: OpenJDK 64-Bit Server VM\n",
       "Default Encoding: UTF-8\n",
       "Language: en\n",
       "Country: null\n",
       "--></g></svg>"
      ]
     },
     "execution_count": 12,
     "metadata": {},
     "output_type": "execute_result"
    }
   ],
   "source": [
    "%viz --style=\"POLYLINE\" --view=\"Interconnection\" \"ControlNodeTest\""
   ]
  },
  {
   "cell_type": "code",
   "execution_count": 13,
   "id": "c8a80fac",
   "metadata": {
    "execution": {
     "iopub.execute_input": "2024-12-16T14:20:24.197008Z",
     "iopub.status.busy": "2024-12-16T14:20:24.196762Z",
     "iopub.status.idle": "2024-12-16T14:20:24.217366Z",
     "shell.execute_reply": "2024-12-16T14:20:24.217182Z"
    }
   },
   "outputs": [
    {
     "data": {
      "image/svg+xml": [
       "<?xml version=\"1.0\" encoding=\"UTF-8\" standalone=\"no\"?><svg xmlns=\"http://www.w3.org/2000/svg\" xmlns:xlink=\"http://www.w3.org/1999/xlink\" contentStyleType=\"text/css\" height=\"210px\" preserveAspectRatio=\"none\" style=\"width:201px;height:210px;background:#FFFFFF;\" version=\"1.1\" viewBox=\"0 0 201 210\" width=\"201px\" zoomAndPan=\"magnify\"><defs/><g><!--MD5=[fbc87193dbaf4d95561dea2c320d4a47]\n",
       "cluster E1--><g id=\"cluster_E1\"><a href=\"psysml:fb29792e-912d-4ab4-a64b-8ae4f88f6031\" target=\"_top\" title=\"psysml:fb29792e-912d-4ab4-a64b-8ae4f88f6031\" xlink:actuate=\"onRequest\" xlink:href=\"psysml:fb29792e-912d-4ab4-a64b-8ae4f88f6031\" xlink:show=\"new\" xlink:title=\"psysml:fb29792e-912d-4ab4-a64b-8ae4f88f6031\" xlink:type=\"simple\"><rect fill=\"#FFFFFF\" height=\"197\" id=\"E1\" style=\"stroke:#383838;stroke-width:1.5;\" width=\"187\" x=\"7\" y=\"7\"/><text fill=\"#000000\" font-family=\"sans-serif\" font-size=\"12\" font-style=\"italic\" lengthAdjust=\"spacing\" textLength=\"81\" x=\"60\" y=\"23.1387\">«action  def»</text><text fill=\"#000000\" font-family=\"sans-serif\" font-size=\"14\" lengthAdjust=\"spacing\" textLength=\"118\" x=\"41.5\" y=\"38.9639\">ControlNodeTest</text><line style=\"stroke:#383838;stroke-width:1.0;\" x1=\"7\" x2=\"194\" y1=\"47.2656\" y2=\"47.2656\"/></a></g><rect fill=\"#555555\" height=\"8\" style=\"stroke:none;stroke-width:1.0;\" width=\"80\" x=\"60\" y=\"111\"/><rect fill=\"#555555\" height=\"8\" style=\"stroke:none;stroke-width:1.0;\" width=\"80\" x=\"60\" y=\"127\"/><g><a href=\"psysml:fe1ec0cc-95d8-48f7-a7e5-aef83e3da3f9\" target=\"_top\" title=\"psysml:fe1ec0cc-95d8-48f7-a7e5-aef83e3da3f9\" xlink:actuate=\"onRequest\" xlink:href=\"psysml:fe1ec0cc-95d8-48f7-a7e5-aef83e3da3f9\" xlink:show=\"new\" xlink:title=\"psysml:fe1ec0cc-95d8-48f7-a7e5-aef83e3da3f9\" xlink:type=\"simple\"><rect fill=\"#FFFFFF\" height=\"45.2656\" id=\"E2\" rx=\"10\" ry=\"10\" style=\"stroke:#383838;stroke-width:1.5;\" width=\"60\" x=\"118\" y=\"58\"/><text fill=\"#000000\" font-family=\"sans-serif\" font-size=\"12\" font-style=\"italic\" lengthAdjust=\"spacing\" textLength=\"53\" x=\"121.5\" y=\"74.1387\">«action»</text><text fill=\"#000000\" font-family=\"sans-serif\" font-size=\"14\" lengthAdjust=\"spacing\" textLength=\"18\" x=\"139\" y=\"89.9639\">A1</text></a></g><g><a href=\"psysml:c0a5c6df-be9c-4195-8c1c-0f8f015b3130\" target=\"_top\" title=\"psysml:c0a5c6df-be9c-4195-8c1c-0f8f015b3130\" xlink:actuate=\"onRequest\" xlink:href=\"psysml:c0a5c6df-be9c-4195-8c1c-0f8f015b3130\" xlink:show=\"new\" xlink:title=\"psysml:c0a5c6df-be9c-4195-8c1c-0f8f015b3130\" xlink:type=\"simple\"><rect fill=\"#FFFFFF\" height=\"45.2656\" id=\"E3\" rx=\"10\" ry=\"10\" style=\"stroke:#383838;stroke-width:1.5;\" width=\"60\" x=\"23\" y=\"58\"/><text fill=\"#000000\" font-family=\"sans-serif\" font-size=\"12\" font-style=\"italic\" lengthAdjust=\"spacing\" textLength=\"53\" x=\"26.5\" y=\"74.1387\">«action»</text><text fill=\"#000000\" font-family=\"sans-serif\" font-size=\"14\" lengthAdjust=\"spacing\" textLength=\"18\" x=\"44\" y=\"89.9639\">A2</text></a></g><g><a href=\"psysml:2e4137e4-9d77-4a25-b719-c29e464dbfc7\" target=\"_top\" title=\"psysml:2e4137e4-9d77-4a25-b719-c29e464dbfc7\" xlink:actuate=\"onRequest\" xlink:href=\"psysml:2e4137e4-9d77-4a25-b719-c29e464dbfc7\" xlink:show=\"new\" xlink:title=\"psysml:2e4137e4-9d77-4a25-b719-c29e464dbfc7\" xlink:type=\"simple\"><rect fill=\"#FFFFFF\" height=\"45.2656\" id=\"E6\" rx=\"10\" ry=\"10\" style=\"stroke:#383838;stroke-width:1.5;\" width=\"60\" x=\"23\" y=\"143\"/><text fill=\"#000000\" font-family=\"sans-serif\" font-size=\"12\" font-style=\"italic\" lengthAdjust=\"spacing\" textLength=\"53\" x=\"26.5\" y=\"159.1387\">«action»</text><text fill=\"#000000\" font-family=\"sans-serif\" font-size=\"14\" lengthAdjust=\"spacing\" textLength=\"19\" x=\"43.5\" y=\"174.9639\">B1</text></a></g><g><a href=\"psysml:22fc935b-3ced-457d-8850-10eb2e62808c\" target=\"_top\" title=\"psysml:22fc935b-3ced-457d-8850-10eb2e62808c\" xlink:actuate=\"onRequest\" xlink:href=\"psysml:22fc935b-3ced-457d-8850-10eb2e62808c\" xlink:show=\"new\" xlink:title=\"psysml:22fc935b-3ced-457d-8850-10eb2e62808c\" xlink:type=\"simple\"><rect fill=\"#FFFFFF\" height=\"45.2656\" id=\"E7\" rx=\"10\" ry=\"10\" style=\"stroke:#383838;stroke-width:1.5;\" width=\"60\" x=\"118\" y=\"143\"/><text fill=\"#000000\" font-family=\"sans-serif\" font-size=\"12\" font-style=\"italic\" lengthAdjust=\"spacing\" textLength=\"53\" x=\"121.5\" y=\"159.1387\">«action»</text><text fill=\"#000000\" font-family=\"sans-serif\" font-size=\"14\" lengthAdjust=\"spacing\" textLength=\"19\" x=\"138.5\" y=\"174.9639\">B2</text></a></g><!--MD5=[4d03bb2d0377dc85ccfab60ff574652b]\n",
       "link E2 to E4--><g id=\"link_E2_E4\"><a href=\"psysml:f9bcfb7b-138a-4058-8879-7210022ba40a\" target=\"_top\" title=\"psysml:f9bcfb7b-138a-4058-8879-7210022ba40a\" xlink:actuate=\"onRequest\" xlink:href=\"psysml:f9bcfb7b-138a-4058-8879-7210022ba40a\" xlink:show=\"new\" xlink:title=\"psysml:f9bcfb7b-138a-4058-8879-7210022ba40a\" xlink:type=\"simple\"><path d=\"M117.87,101.9 C114.58,104.13 111.45,106.25 108.75,108.07 \" fill=\"none\" id=\"E2-to-E4\" style=\"stroke:#181818;stroke-width:1.0;stroke-dasharray:7.0,7.0;\"/><polygon fill=\"#181818\" points=\"104.44,111,114.1324,109.2515,108.576,108.1904,109.637,102.634,104.44,111\" style=\"stroke:#181818;stroke-width:1.0;\"/></a></g><!--MD5=[af87c684e3b0d8be13c1a698a818ef1e]\n",
       "link E3 to E4--><g id=\"link_E3_E4\"><a href=\"psysml:6481bc83-60df-4dde-906c-a5becb339116\" target=\"_top\" title=\"psysml:6481bc83-60df-4dde-906c-a5becb339116\" xlink:actuate=\"onRequest\" xlink:href=\"psysml:6481bc83-60df-4dde-906c-a5becb339116\" xlink:show=\"new\" xlink:title=\"psysml:6481bc83-60df-4dde-906c-a5becb339116\" xlink:type=\"simple\"><path d=\"M83.03,102.27 C85.94,104.28 88.7,106.18 91.12,107.86 \" fill=\"none\" id=\"E3-to-E4\" style=\"stroke:#181818;stroke-width:1.0;stroke-dasharray:7.0,7.0;\"/><polygon fill=\"#181818\" points=\"95.54,110.91,90.4095,102.503,91.4265,108.0677,85.8618,109.0846,95.54,110.91\" style=\"stroke:#181818;stroke-width:1.0;\"/></a></g><!--MD5=[1b7591eae5389033d8d09a9d6721a717]\n",
       "link E4 to E5--><g id=\"link_E4_E5\"><a href=\"psysml:091dd6b1-b372-46ae-b0ca-4e4aa94aac13\" target=\"_top\" title=\"psysml:091dd6b1-b372-46ae-b0ca-4e4aa94aac13\" xlink:actuate=\"onRequest\" xlink:href=\"psysml:091dd6b1-b372-46ae-b0ca-4e4aa94aac13\" xlink:show=\"new\" xlink:title=\"psysml:091dd6b1-b372-46ae-b0ca-4e4aa94aac13\" xlink:type=\"simple\"><path d=\"M100,119.25 C100,120.05 100,120.94 100,121.86 \" fill=\"none\" id=\"E4-to-E5\" style=\"stroke:#181818;stroke-width:1.0;stroke-dasharray:7.0,7.0;\"/><polygon fill=\"#181818\" points=\"100,126.96,104,117.96,100,121.96,96,117.96,100,126.96\" style=\"stroke:#181818;stroke-width:1.0;\"/></a></g><!--MD5=[9120cf2e5df3bff93db8f754bbbc09b4]\n",
       "link E5 to E6--><g id=\"link_E5_E6\"><a href=\"psysml:418b7d58-d850-4614-9e9d-1c793842a2dd\" target=\"_top\" title=\"psysml:418b7d58-d850-4614-9e9d-1c793842a2dd\" xlink:actuate=\"onRequest\" xlink:href=\"psysml:418b7d58-d850-4614-9e9d-1c793842a2dd\" xlink:show=\"new\" xlink:title=\"psysml:418b7d58-d850-4614-9e9d-1c793842a2dd\" xlink:type=\"simple\"><path d=\"M95.32,135.24 C93.21,136.69 90.52,138.55 87.53,140.63 \" fill=\"none\" id=\"E5-to-E6\" style=\"stroke:#181818;stroke-width:1.0;stroke-dasharray:7.0,7.0;\"/><polygon fill=\"#181818\" points=\"83.27,143.57,92.9482,141.7446,87.3835,140.7277,88.4005,135.163,83.27,143.57\" style=\"stroke:#181818;stroke-width:1.0;\"/></a></g><!--MD5=[3a9b96bfbf6b6ad89c494e81751bda47]\n",
       "link E5 to E7--><g id=\"link_E5_E7\"><a href=\"psysml:a0ea5228-fdc9-49fd-bb96-6ce22cf44d00\" target=\"_top\" title=\"psysml:a0ea5228-fdc9-49fd-bb96-6ce22cf44d00\" xlink:actuate=\"onRequest\" xlink:href=\"psysml:a0ea5228-fdc9-49fd-bb96-6ce22cf44d00\" xlink:show=\"new\" xlink:title=\"psysml:a0ea5228-fdc9-49fd-bb96-6ce22cf44d00\" xlink:type=\"simple\"><path d=\"M104.78,135.24 C107.16,136.85 110.28,138.96 113.75,141.31 \" fill=\"none\" id=\"E5-to-E7\" style=\"stroke:#181818;stroke-width:1.0;stroke-dasharray:7.0,7.0;\"/><polygon fill=\"#181818\" points=\"117.96,144.16,112.7432,135.8063,113.8174,141.3602,108.2635,142.4344,117.96,144.16\" style=\"stroke:#181818;stroke-width:1.0;\"/></a></g><!--MD5=[514d38458a36ce9ca9a5b518b0a36e7e]\n",
       "@startuml\r\n",
       "skin sysmlbw\r\n",
       "skinparam monochrome true\r\n",
       "skinparam wrapWidth 300\r\n",
       "hide circle\r\n",
       "skinparam linetype polyline\r\n",
       "skinparam ranksep 8\r\n",
       "\r\n",
       "rec def \"ControlNodeTest\" as E1  <<(T,blue) action  def>> [[psysml:fb29792e-912d-4ab4-a64b-8ae4f88f6031 ]] {\r\n",
       "rec usage \"A1\" as E2  <<(T,blue) action>> [[psysml:fe1ec0cc-95d8-48f7-a7e5-aef83e3da3f9 ]] {\r\n",
       "}\r\n",
       "\r\n",
       "rec usage \"A2\" as E3  <<(T,blue) action>> [[psysml:c0a5c6df-be9c-4195-8c1c-0f8f015b3130 ]] {\r\n",
       "}\r\n",
       "\r\n",
       "join \"J\" as E4  [[psysml:3bd09aec-2544-46ae-936d-01aed8eb96e7 ]] \r\n",
       "fork \"F\" as E5  [[psysml:17702565-4e67-4d00-9c2e-cf91774b37d5 ]] \r\n",
       "rec usage \"B1\" as E6  <<(T,blue) action>> [[psysml:2e4137e4-9d77-4a25-b719-c29e464dbfc7 ]] {\r\n",
       "}\r\n",
       "\r\n",
       "rec usage \"B2\" as E7  <<(T,blue) action>> [[psysml:22fc935b-3ced-457d-8850-10eb2e62808c ]] {\r\n",
       "}\r\n",
       "\r\n",
       "}\r\n",
       "\r\n",
       "E2 ..> E4 [[psysml:f9bcfb7b-138a-4058-8879-7210022ba40a ]] \r\n",
       "E3 ..> E4 [[psysml:6481bc83-60df-4dde-906c-a5becb339116 ]] \r\n",
       "E4 ..> E5 [[psysml:091dd6b1-b372-46ae-b0ca-4e4aa94aac13 ]] \r\n",
       "E5 ..> E6 [[psysml:418b7d58-d850-4614-9e9d-1c793842a2dd ]] \r\n",
       "E5 ..> E7 [[psysml:a0ea5228-fdc9-49fd-bb96-6ce22cf44d00 ]] \r\n",
       "@enduml\r\n",
       "\n",
       "PlantUML version 1.2022.7(Mon Aug 22 17:01:30 UTC 2022)\n",
       "(EPL source distribution)\n",
       "Java Runtime: OpenJDK Runtime Environment\n",
       "JVM: OpenJDK 64-Bit Server VM\n",
       "Default Encoding: UTF-8\n",
       "Language: en\n",
       "Country: null\n",
       "--></g></svg>"
      ]
     },
     "execution_count": 13,
     "metadata": {},
     "output_type": "execute_result"
    }
   ],
   "source": [
    "%viz --style=\"POLYLINE\" --view=\"Action\" \"ControlNodeTest\""
   ]
  },
  {
   "cell_type": "code",
   "execution_count": 14,
   "id": "d391db20",
   "metadata": {
    "execution": {
     "iopub.execute_input": "2024-12-16T14:20:24.271312Z",
     "iopub.status.busy": "2024-12-16T14:20:24.271086Z",
     "iopub.status.idle": "2024-12-16T14:20:24.277403Z",
     "shell.execute_reply": "2024-12-16T14:20:24.277535Z"
    }
   },
   "outputs": [
    {
     "data": {
      "image/svg+xml": [
       "<?xml version=\"1.0\" encoding=\"UTF-8\" standalone=\"no\"?><svg xmlns=\"http://www.w3.org/2000/svg\" xmlns:xlink=\"http://www.w3.org/1999/xlink\" contentStyleType=\"text/css\" height=\"10px\" preserveAspectRatio=\"none\" style=\"width:10px;height:10px;background:#FFFFFF;\" version=\"1.1\" viewBox=\"0 0 10 10\" width=\"10px\" zoomAndPan=\"magnify\"><defs/><g><!--MD5=[efefafbf36b45173e0355713d9054f90]\n",
       "@startuml\r\n",
       "skin sysmlbw\r\n",
       "skinparam monochrome true\r\n",
       "skinparam wrapWidth 300\r\n",
       "hide circle\r\n",
       "skinparam linetype polyline\r\n",
       "skinparam roundcorner 20\r\n",
       "skinparam BoxPadding 20\r\n",
       "skinparam SequenceBoxBackgroundColor #white\r\n",
       "skinparam style strictuml\r\n",
       "skinparam maxMessageSize 100\r\n",
       "\r\n",
       "@enduml\r\n",
       "\n",
       "PlantUML version 1.2022.7(Mon Aug 22 17:01:30 UTC 2022)\n",
       "(EPL source distribution)\n",
       "Java Runtime: OpenJDK Runtime Environment\n",
       "JVM: OpenJDK 64-Bit Server VM\n",
       "Default Encoding: UTF-8\n",
       "Language: en\n",
       "Country: null\n",
       "--></g></svg>"
      ]
     },
     "execution_count": 14,
     "metadata": {},
     "output_type": "execute_result"
    }
   ],
   "source": [
    "%viz --style=\"POLYLINE\" --view=\"Sequence\" \"ControlNodeTest\""
   ]
  },
  {
   "cell_type": "code",
   "execution_count": 15,
   "id": "c0020703",
   "metadata": {
    "execution": {
     "iopub.execute_input": "2024-12-16T14:20:24.332238Z",
     "iopub.status.busy": "2024-12-16T14:20:24.331987Z",
     "iopub.status.idle": "2024-12-16T14:20:24.351250Z",
     "shell.execute_reply": "2024-12-16T14:20:24.350520Z"
    }
   },
   "outputs": [
    {
     "data": {
      "image/svg+xml": [
       "<?xml version=\"1.0\" encoding=\"UTF-8\" standalone=\"no\"?><svg xmlns=\"http://www.w3.org/2000/svg\" xmlns:xlink=\"http://www.w3.org/1999/xlink\" contentStyleType=\"text/css\" height=\"366px\" preserveAspectRatio=\"none\" style=\"width:201px;height:366px;background:#FFFFFF;\" version=\"1.1\" viewBox=\"0 0 201 366\" width=\"201px\" zoomAndPan=\"magnify\"><defs/><g><!--MD5=[fbc87193dbaf4d95561dea2c320d4a47]\n",
       "cluster E1--><g id=\"cluster_E1\"><a href=\"psysml:fb29792e-912d-4ab4-a64b-8ae4f88f6031\" target=\"_top\" title=\"psysml:fb29792e-912d-4ab4-a64b-8ae4f88f6031\" xlink:actuate=\"onRequest\" xlink:href=\"psysml:fb29792e-912d-4ab4-a64b-8ae4f88f6031\" xlink:show=\"new\" xlink:title=\"psysml:fb29792e-912d-4ab4-a64b-8ae4f88f6031\" xlink:type=\"simple\"><rect fill=\"#FFFFFF\" height=\"353\" id=\"E1\" style=\"stroke:#383838;stroke-width:1.5;\" width=\"187\" x=\"7\" y=\"7\"/><text fill=\"#000000\" font-family=\"sans-serif\" font-size=\"12\" font-style=\"italic\" lengthAdjust=\"spacing\" textLength=\"81\" x=\"60\" y=\"23.1387\">«action  def»</text><text fill=\"#000000\" font-family=\"sans-serif\" font-size=\"14\" lengthAdjust=\"spacing\" textLength=\"118\" x=\"41.5\" y=\"38.9639\">ControlNodeTest</text><line style=\"stroke:#383838;stroke-width:1.0;\" x1=\"7\" x2=\"194\" y1=\"47.2656\" y2=\"47.2656\"/></a></g><rect fill=\"#555555\" height=\"8\" style=\"stroke:none;stroke-width:1.0;\" width=\"80\" x=\"60\" y=\"163\"/><rect fill=\"#555555\" height=\"8\" style=\"stroke:none;stroke-width:1.0;\" width=\"80\" x=\"60\" y=\"231\"/><g><a href=\"psysml:fe1ec0cc-95d8-48f7-a7e5-aef83e3da3f9\" target=\"_top\" title=\"psysml:fe1ec0cc-95d8-48f7-a7e5-aef83e3da3f9\" xlink:actuate=\"onRequest\" xlink:href=\"psysml:fe1ec0cc-95d8-48f7-a7e5-aef83e3da3f9\" xlink:show=\"new\" xlink:title=\"psysml:fe1ec0cc-95d8-48f7-a7e5-aef83e3da3f9\" xlink:type=\"simple\"><rect fill=\"#FFFFFF\" height=\"45.2656\" id=\"E2\" rx=\"10\" ry=\"10\" style=\"stroke:#383838;stroke-width:1.5;\" width=\"60\" x=\"118\" y=\"58\"/><text fill=\"#000000\" font-family=\"sans-serif\" font-size=\"12\" font-style=\"italic\" lengthAdjust=\"spacing\" textLength=\"53\" x=\"121.5\" y=\"74.1387\">«action»</text><text fill=\"#000000\" font-family=\"sans-serif\" font-size=\"14\" lengthAdjust=\"spacing\" textLength=\"18\" x=\"139\" y=\"89.9639\">A1</text></a></g><g><a href=\"psysml:c0a5c6df-be9c-4195-8c1c-0f8f015b3130\" target=\"_top\" title=\"psysml:c0a5c6df-be9c-4195-8c1c-0f8f015b3130\" xlink:actuate=\"onRequest\" xlink:href=\"psysml:c0a5c6df-be9c-4195-8c1c-0f8f015b3130\" xlink:show=\"new\" xlink:title=\"psysml:c0a5c6df-be9c-4195-8c1c-0f8f015b3130\" xlink:type=\"simple\"><rect fill=\"#FFFFFF\" height=\"45.2656\" id=\"E3\" rx=\"10\" ry=\"10\" style=\"stroke:#383838;stroke-width:1.5;\" width=\"60\" x=\"23\" y=\"58\"/><text fill=\"#000000\" font-family=\"sans-serif\" font-size=\"12\" font-style=\"italic\" lengthAdjust=\"spacing\" textLength=\"53\" x=\"26.5\" y=\"74.1387\">«action»</text><text fill=\"#000000\" font-family=\"sans-serif\" font-size=\"14\" lengthAdjust=\"spacing\" textLength=\"18\" x=\"44\" y=\"89.9639\">A2</text></a></g><g><a href=\"psysml:2e4137e4-9d77-4a25-b719-c29e464dbfc7\" target=\"_top\" title=\"psysml:2e4137e4-9d77-4a25-b719-c29e464dbfc7\" xlink:actuate=\"onRequest\" xlink:href=\"psysml:2e4137e4-9d77-4a25-b719-c29e464dbfc7\" xlink:show=\"new\" xlink:title=\"psysml:2e4137e4-9d77-4a25-b719-c29e464dbfc7\" xlink:type=\"simple\"><rect fill=\"#FFFFFF\" height=\"45.2656\" id=\"E6\" rx=\"10\" ry=\"10\" style=\"stroke:#383838;stroke-width:1.5;\" width=\"60\" x=\"23\" y=\"299\"/><text fill=\"#000000\" font-family=\"sans-serif\" font-size=\"12\" font-style=\"italic\" lengthAdjust=\"spacing\" textLength=\"53\" x=\"26.5\" y=\"315.1387\">«action»</text><text fill=\"#000000\" font-family=\"sans-serif\" font-size=\"14\" lengthAdjust=\"spacing\" textLength=\"19\" x=\"43.5\" y=\"330.9639\">B1</text></a></g><g><a href=\"psysml:22fc935b-3ced-457d-8850-10eb2e62808c\" target=\"_top\" title=\"psysml:22fc935b-3ced-457d-8850-10eb2e62808c\" xlink:actuate=\"onRequest\" xlink:href=\"psysml:22fc935b-3ced-457d-8850-10eb2e62808c\" xlink:show=\"new\" xlink:title=\"psysml:22fc935b-3ced-457d-8850-10eb2e62808c\" xlink:type=\"simple\"><rect fill=\"#FFFFFF\" height=\"45.2656\" id=\"E7\" rx=\"10\" ry=\"10\" style=\"stroke:#383838;stroke-width:1.5;\" width=\"60\" x=\"118\" y=\"299\"/><text fill=\"#000000\" font-family=\"sans-serif\" font-size=\"12\" font-style=\"italic\" lengthAdjust=\"spacing\" textLength=\"53\" x=\"121.5\" y=\"315.1387\">«action»</text><text fill=\"#000000\" font-family=\"sans-serif\" font-size=\"14\" lengthAdjust=\"spacing\" textLength=\"19\" x=\"138.5\" y=\"330.9639\">B2</text></a></g><!--MD5=[4d03bb2d0377dc85ccfab60ff574652b]\n",
       "link E2 to E4--><g id=\"link_E2_E4\"><a href=\"psysml:f9bcfb7b-138a-4058-8879-7210022ba40a\" target=\"_top\" title=\"psysml:f9bcfb7b-138a-4058-8879-7210022ba40a\" xlink:actuate=\"onRequest\" xlink:href=\"psysml:f9bcfb7b-138a-4058-8879-7210022ba40a\" xlink:show=\"new\" xlink:title=\"psysml:f9bcfb7b-138a-4058-8879-7210022ba40a\" xlink:type=\"simple\"><path d=\"M135.64,103.26 C125.33,121.4 111.25,146.19 104.28,158.47 \" fill=\"none\" id=\"E2-to-E4\" style=\"stroke:#181818;stroke-width:1.0;\"/><polygon fill=\"#181818\" points=\"101.75,162.91,109.6779,157.0663,104.223,158.5644,102.7249,153.1095,101.75,162.91\" style=\"stroke:#181818;stroke-width:1.0;\"/></a></g><!--MD5=[af87c684e3b0d8be13c1a698a818ef1e]\n",
       "link E3 to E4--><g id=\"link_E3_E4\"><a href=\"psysml:6481bc83-60df-4dde-906c-a5becb339116\" target=\"_top\" title=\"psysml:6481bc83-60df-4dde-906c-a5becb339116\" xlink:actuate=\"onRequest\" xlink:href=\"psysml:6481bc83-60df-4dde-906c-a5becb339116\" xlink:show=\"new\" xlink:title=\"psysml:6481bc83-60df-4dde-906c-a5becb339116\" xlink:type=\"simple\"><path d=\"M65.1,103.26 C75.19,121.4 88.98,146.19 95.81,158.47 \" fill=\"none\" id=\"E3-to-E4\" style=\"stroke:#181818;stroke-width:1.0;\"/><polygon fill=\"#181818\" points=\"98.28,162.91,97.3814,153.1022,95.8409,158.5453,90.3978,157.0048,98.28,162.91\" style=\"stroke:#181818;stroke-width:1.0;\"/></a></g><!--MD5=[1b7591eae5389033d8d09a9d6721a717]\n",
       "link E4 to E5--><g id=\"link_E4_E5\"><a href=\"psysml:091dd6b1-b372-46ae-b0ca-4e4aa94aac13\" target=\"_top\" title=\"psysml:091dd6b1-b372-46ae-b0ca-4e4aa94aac13\" xlink:actuate=\"onRequest\" xlink:href=\"psysml:091dd6b1-b372-46ae-b0ca-4e4aa94aac13\" xlink:show=\"new\" xlink:title=\"psysml:091dd6b1-b372-46ae-b0ca-4e4aa94aac13\" xlink:type=\"simple\"><path d=\"M100,171.18 C100,180.92 100,210.52 100,225.34 \" fill=\"none\" id=\"E4-to-E5\" style=\"stroke:#181818;stroke-width:1.0;\"/><polygon fill=\"#181818\" points=\"100,230.69,104,221.69,100,225.69,96,221.69,100,230.69\" style=\"stroke:#181818;stroke-width:1.0;\"/></a></g><!--MD5=[9120cf2e5df3bff93db8f754bbbc09b4]\n",
       "link E5 to E6--><g id=\"link_E5_E6\"><a href=\"psysml:418b7d58-d850-4614-9e9d-1c793842a2dd\" target=\"_top\" title=\"psysml:418b7d58-d850-4614-9e9d-1c793842a2dd\" xlink:actuate=\"onRequest\" xlink:href=\"psysml:418b7d58-d850-4614-9e9d-1c793842a2dd\" xlink:show=\"new\" xlink:title=\"psysml:418b7d58-d850-4614-9e9d-1c793842a2dd\" xlink:type=\"simple\"><path d=\"M98.21,239.21 C93.23,248.18 78.77,274.17 67.53,294.37 \" fill=\"none\" id=\"E5-to-E6\" style=\"stroke:#181818;stroke-width:1.0;\"/><polygon fill=\"#181818\" points=\"65.04,298.85,72.9074,292.9252,67.4682,294.4792,65.9142,289.04,65.04,298.85\" style=\"stroke:#181818;stroke-width:1.0;\"/></a></g><!--MD5=[3a9b96bfbf6b6ad89c494e81751bda47]\n",
       "link E5 to E7--><g id=\"link_E5_E7\"><a href=\"psysml:a0ea5228-fdc9-49fd-bb96-6ce22cf44d00\" target=\"_top\" title=\"psysml:a0ea5228-fdc9-49fd-bb96-6ce22cf44d00\" xlink:actuate=\"onRequest\" xlink:href=\"psysml:a0ea5228-fdc9-49fd-bb96-6ce22cf44d00\" xlink:show=\"new\" xlink:title=\"psysml:a0ea5228-fdc9-49fd-bb96-6ce22cf44d00\" xlink:type=\"simple\"><path d=\"M101.82,239.21 C106.92,248.18 121.68,274.17 133.16,294.37 \" fill=\"none\" id=\"E5-to-E7\" style=\"stroke:#181818;stroke-width:1.0;\"/><polygon fill=\"#181818\" points=\"135.7,298.85,134.7251,289.0495,133.227,294.5044,127.7721,293.0063,135.7,298.85\" style=\"stroke:#181818;stroke-width:1.0;\"/></a></g><!--MD5=[86bfb667dcc1bd614c5b240e1d88709c]\n",
       "@startuml\r\n",
       "skin sysmlbw\r\n",
       "skinparam monochrome true\r\n",
       "skinparam wrapWidth 300\r\n",
       "hide circle\r\n",
       "skinparam linetype polyline\r\n",
       "\r\n",
       "rec def \"ControlNodeTest\" as E1  <<(T,blue) action  def>> [[psysml:fb29792e-912d-4ab4-a64b-8ae4f88f6031 ]] {\r\n",
       "rec usage \"A1\" as E2  <<(T,blue) action>> [[psysml:fe1ec0cc-95d8-48f7-a7e5-aef83e3da3f9 ]] {\r\n",
       "}\r\n",
       "\r\n",
       "rec usage \"A2\" as E3  <<(T,blue) action>> [[psysml:c0a5c6df-be9c-4195-8c1c-0f8f015b3130 ]] {\r\n",
       "}\r\n",
       "\r\n",
       "join \"J\" as E4  [[psysml:3bd09aec-2544-46ae-936d-01aed8eb96e7 ]] \r\n",
       "fork \"F\" as E5  [[psysml:17702565-4e67-4d00-9c2e-cf91774b37d5 ]] \r\n",
       "rec usage \"B1\" as E6  <<(T,blue) action>> [[psysml:2e4137e4-9d77-4a25-b719-c29e464dbfc7 ]] {\r\n",
       "}\r\n",
       "\r\n",
       "rec usage \"B2\" as E7  <<(T,blue) action>> [[psysml:22fc935b-3ced-457d-8850-10eb2e62808c ]] {\r\n",
       "}\r\n",
       "\r\n",
       "}\r\n",
       "\r\n",
       "E2 - -> E4 [[psysml:f9bcfb7b-138a-4058-8879-7210022ba40a ]] \r\n",
       "E3 - -> E4 [[psysml:6481bc83-60df-4dde-906c-a5becb339116 ]] \r\n",
       "E4 - -> E5 [[psysml:091dd6b1-b372-46ae-b0ca-4e4aa94aac13 ]] \r\n",
       "E5 - -> E6 [[psysml:418b7d58-d850-4614-9e9d-1c793842a2dd ]] \r\n",
       "E5 - -> E7 [[psysml:a0ea5228-fdc9-49fd-bb96-6ce22cf44d00 ]] \r\n",
       "@enduml\r\n",
       "\n",
       "PlantUML version 1.2022.7(Mon Aug 22 17:01:30 UTC 2022)\n",
       "(EPL source distribution)\n",
       "Java Runtime: OpenJDK Runtime Environment\n",
       "JVM: OpenJDK 64-Bit Server VM\n",
       "Default Encoding: UTF-8\n",
       "Language: en\n",
       "Country: null\n",
       "--></g></svg>"
      ]
     },
     "execution_count": 15,
     "metadata": {},
     "output_type": "execute_result"
    }
   ],
   "source": [
    "%viz --style=\"POLYLINE\" --view=\"MIXED\" \"ControlNodeTest\""
   ]
  },
  {
   "cell_type": "code",
   "execution_count": 16,
   "id": "bd19c6e8",
   "metadata": {
    "execution": {
     "iopub.execute_input": "2024-12-16T14:20:24.402427Z",
     "iopub.status.busy": "2024-12-16T14:20:24.402199Z",
     "iopub.status.idle": "2024-12-16T14:20:24.421134Z",
     "shell.execute_reply": "2024-12-16T14:20:24.420259Z"
    }
   },
   "outputs": [
    {
     "data": {
      "image/svg+xml": [
       "<?xml version=\"1.0\" encoding=\"UTF-8\" standalone=\"no\"?><svg xmlns=\"http://www.w3.org/2000/svg\" xmlns:xlink=\"http://www.w3.org/1999/xlink\" contentStyleType=\"text/css\" height=\"206px\" preserveAspectRatio=\"none\" style=\"width:362px;height:206px;background:#FFFFFF;\" version=\"1.1\" viewBox=\"0 0 362 206\" width=\"362px\" zoomAndPan=\"magnify\"><defs/><g><!--MD5=[fbc87193dbaf4d95561dea2c320d4a47]\n",
       "cluster E1--><g id=\"cluster_E1\"><a href=\"psysml:fb29792e-912d-4ab4-a64b-8ae4f88f6031\" target=\"_top\" title=\"psysml:fb29792e-912d-4ab4-a64b-8ae4f88f6031\" xlink:actuate=\"onRequest\" xlink:href=\"psysml:fb29792e-912d-4ab4-a64b-8ae4f88f6031\" xlink:show=\"new\" xlink:title=\"psysml:fb29792e-912d-4ab4-a64b-8ae4f88f6031\" xlink:type=\"simple\"><rect fill=\"#FFFFFF\" height=\"193\" id=\"E1\" style=\"stroke:#383838;stroke-width:1.5;\" width=\"348\" x=\"7\" y=\"7\"/><text fill=\"#000000\" font-family=\"sans-serif\" font-size=\"12\" font-style=\"italic\" lengthAdjust=\"spacing\" textLength=\"81\" x=\"140.5\" y=\"23.1387\">«action  def»</text><text fill=\"#000000\" font-family=\"sans-serif\" font-size=\"14\" lengthAdjust=\"spacing\" textLength=\"118\" x=\"122\" y=\"38.9639\">ControlNodeTest</text><line style=\"stroke:#383838;stroke-width:1.0;\" x1=\"7\" x2=\"355\" y1=\"47.2656\" y2=\"47.2656\"/></a></g><rect fill=\"#555555\" height=\"80\" style=\"stroke:none;stroke-width:1.0;\" width=\"8\" x=\"143\" y=\"81\"/><rect fill=\"#555555\" height=\"80\" style=\"stroke:none;stroke-width:1.0;\" width=\"8\" x=\"211\" y=\"81\"/><g><a href=\"psysml:fe1ec0cc-95d8-48f7-a7e5-aef83e3da3f9\" target=\"_top\" title=\"psysml:fe1ec0cc-95d8-48f7-a7e5-aef83e3da3f9\" xlink:actuate=\"onRequest\" xlink:href=\"psysml:fe1ec0cc-95d8-48f7-a7e5-aef83e3da3f9\" xlink:show=\"new\" xlink:title=\"psysml:fe1ec0cc-95d8-48f7-a7e5-aef83e3da3f9\" xlink:type=\"simple\"><rect fill=\"#FFFFFF\" height=\"45.2656\" id=\"E2\" rx=\"10\" ry=\"10\" style=\"stroke:#383838;stroke-width:1.5;\" width=\"60\" x=\"23\" y=\"58.5\"/><text fill=\"#000000\" font-family=\"sans-serif\" font-size=\"12\" font-style=\"italic\" lengthAdjust=\"spacing\" textLength=\"53\" x=\"26.5\" y=\"74.6387\">«action»</text><text fill=\"#000000\" font-family=\"sans-serif\" font-size=\"14\" lengthAdjust=\"spacing\" textLength=\"18\" x=\"44\" y=\"90.4639\">A1</text></a></g><g><a href=\"psysml:c0a5c6df-be9c-4195-8c1c-0f8f015b3130\" target=\"_top\" title=\"psysml:c0a5c6df-be9c-4195-8c1c-0f8f015b3130\" xlink:actuate=\"onRequest\" xlink:href=\"psysml:c0a5c6df-be9c-4195-8c1c-0f8f015b3130\" xlink:show=\"new\" xlink:title=\"psysml:c0a5c6df-be9c-4195-8c1c-0f8f015b3130\" xlink:type=\"simple\"><rect fill=\"#FFFFFF\" height=\"45.2656\" id=\"E3\" rx=\"10\" ry=\"10\" style=\"stroke:#383838;stroke-width:1.5;\" width=\"60\" x=\"23\" y=\"138.5\"/><text fill=\"#000000\" font-family=\"sans-serif\" font-size=\"12\" font-style=\"italic\" lengthAdjust=\"spacing\" textLength=\"53\" x=\"26.5\" y=\"154.6387\">«action»</text><text fill=\"#000000\" font-family=\"sans-serif\" font-size=\"14\" lengthAdjust=\"spacing\" textLength=\"18\" x=\"44\" y=\"170.4639\">A2</text></a></g><g><a href=\"psysml:2e4137e4-9d77-4a25-b719-c29e464dbfc7\" target=\"_top\" title=\"psysml:2e4137e4-9d77-4a25-b719-c29e464dbfc7\" xlink:actuate=\"onRequest\" xlink:href=\"psysml:2e4137e4-9d77-4a25-b719-c29e464dbfc7\" xlink:show=\"new\" xlink:title=\"psysml:2e4137e4-9d77-4a25-b719-c29e464dbfc7\" xlink:type=\"simple\"><rect fill=\"#FFFFFF\" height=\"45.2656\" id=\"E6\" rx=\"10\" ry=\"10\" style=\"stroke:#383838;stroke-width:1.5;\" width=\"60\" x=\"279\" y=\"138.5\"/><text fill=\"#000000\" font-family=\"sans-serif\" font-size=\"12\" font-style=\"italic\" lengthAdjust=\"spacing\" textLength=\"53\" x=\"282.5\" y=\"154.6387\">«action»</text><text fill=\"#000000\" font-family=\"sans-serif\" font-size=\"14\" lengthAdjust=\"spacing\" textLength=\"19\" x=\"299.5\" y=\"170.4639\">B1</text></a></g><g><a href=\"psysml:22fc935b-3ced-457d-8850-10eb2e62808c\" target=\"_top\" title=\"psysml:22fc935b-3ced-457d-8850-10eb2e62808c\" xlink:actuate=\"onRequest\" xlink:href=\"psysml:22fc935b-3ced-457d-8850-10eb2e62808c\" xlink:show=\"new\" xlink:title=\"psysml:22fc935b-3ced-457d-8850-10eb2e62808c\" xlink:type=\"simple\"><rect fill=\"#FFFFFF\" height=\"45.2656\" id=\"E7\" rx=\"10\" ry=\"10\" style=\"stroke:#383838;stroke-width:1.5;\" width=\"60\" x=\"279\" y=\"58.5\"/><text fill=\"#000000\" font-family=\"sans-serif\" font-size=\"12\" font-style=\"italic\" lengthAdjust=\"spacing\" textLength=\"53\" x=\"282.5\" y=\"74.6387\">«action»</text><text fill=\"#000000\" font-family=\"sans-serif\" font-size=\"14\" lengthAdjust=\"spacing\" textLength=\"19\" x=\"299.5\" y=\"90.4639\">B2</text></a></g><!--MD5=[4d03bb2d0377dc85ccfab60ff574652b]\n",
       "link E2 to E4--><g id=\"link_E2_E4\"><a href=\"psysml:f9bcfb7b-138a-4058-8879-7210022ba40a\" target=\"_top\" title=\"psysml:f9bcfb7b-138a-4058-8879-7210022ba40a\" xlink:actuate=\"onRequest\" xlink:href=\"psysml:f9bcfb7b-138a-4058-8879-7210022ba40a\" xlink:show=\"new\" xlink:title=\"psysml:f9bcfb7b-138a-4058-8879-7210022ba40a\" xlink:type=\"simple\"><path d=\"M83.11,93.66 C102.1,101.91 125.55,112.11 137.75,117.41 \" fill=\"none\" id=\"E2-to-E4\" style=\"stroke:#181818;stroke-width:1.0;\"/><polygon fill=\"#181818\" points=\"142.51,119.48,135.8595,112.2156,137.9269,117.4812,132.6614,119.5485,142.51,119.48\" style=\"stroke:#181818;stroke-width:1.0;\"/></a></g><!--MD5=[af87c684e3b0d8be13c1a698a818ef1e]\n",
       "link E3 to E4--><g id=\"link_E3_E4\"><a href=\"psysml:6481bc83-60df-4dde-906c-a5becb339116\" target=\"_top\" title=\"psysml:6481bc83-60df-4dde-906c-a5becb339116\" xlink:actuate=\"onRequest\" xlink:href=\"psysml:6481bc83-60df-4dde-906c-a5becb339116\" xlink:show=\"new\" xlink:title=\"psysml:6481bc83-60df-4dde-906c-a5becb339116\" xlink:type=\"simple\"><path d=\"M83.11,148.34 C102.1,140.09 125.55,129.89 137.75,124.59 \" fill=\"none\" id=\"E3-to-E4\" style=\"stroke:#181818;stroke-width:1.0;\"/><polygon fill=\"#181818\" points=\"142.51,122.52,132.6614,122.4515,137.9269,124.5188,135.8595,129.7844,142.51,122.52\" style=\"stroke:#181818;stroke-width:1.0;\"/></a></g><!--MD5=[1b7591eae5389033d8d09a9d6721a717]\n",
       "link E4 to E5--><g id=\"link_E4_E5\"><a href=\"psysml:091dd6b1-b372-46ae-b0ca-4e4aa94aac13\" target=\"_top\" title=\"psysml:091dd6b1-b372-46ae-b0ca-4e4aa94aac13\" xlink:actuate=\"onRequest\" xlink:href=\"psysml:091dd6b1-b372-46ae-b0ca-4e4aa94aac13\" xlink:show=\"new\" xlink:title=\"psysml:091dd6b1-b372-46ae-b0ca-4e4aa94aac13\" xlink:type=\"simple\"><path d=\"M151.18,121 C160.92,121 190.52,121 205.34,121 \" fill=\"none\" id=\"E4-to-E5\" style=\"stroke:#181818;stroke-width:1.0;\"/><polygon fill=\"#181818\" points=\"210.69,121,201.69,117,205.69,121,201.69,125,210.69,121\" style=\"stroke:#181818;stroke-width:1.0;\"/></a></g><!--MD5=[9120cf2e5df3bff93db8f754bbbc09b4]\n",
       "link E5 to E6--><g id=\"link_E5_E6\"><a href=\"psysml:418b7d58-d850-4614-9e9d-1c793842a2dd\" target=\"_top\" title=\"psysml:418b7d58-d850-4614-9e9d-1c793842a2dd\" xlink:actuate=\"onRequest\" xlink:href=\"psysml:418b7d58-d850-4614-9e9d-1c793842a2dd\" xlink:show=\"new\" xlink:title=\"psysml:418b7d58-d850-4614-9e9d-1c793842a2dd\" xlink:type=\"simple\"><path d=\"M219.06,122.33 C227.64,126.06 252.69,136.95 274.03,146.23 \" fill=\"none\" id=\"E5-to-E6\" style=\"stroke:#181818;stroke-width:1.0;\"/><polygon fill=\"#181818\" points=\"278.8,148.3,272.1495,141.0356,274.2169,146.3012,268.9514,148.3685,278.8,148.3\" style=\"stroke:#181818;stroke-width:1.0;\"/></a></g><!--MD5=[3a9b96bfbf6b6ad89c494e81751bda47]\n",
       "link E5 to E7--><g id=\"link_E5_E7\"><a href=\"psysml:a0ea5228-fdc9-49fd-bb96-6ce22cf44d00\" target=\"_top\" title=\"psysml:a0ea5228-fdc9-49fd-bb96-6ce22cf44d00\" xlink:actuate=\"onRequest\" xlink:href=\"psysml:a0ea5228-fdc9-49fd-bb96-6ce22cf44d00\" xlink:show=\"new\" xlink:title=\"psysml:a0ea5228-fdc9-49fd-bb96-6ce22cf44d00\" xlink:type=\"simple\"><path d=\"M219.06,119.67 C227.64,115.94 252.69,105.05 274.03,95.77 \" fill=\"none\" id=\"E5-to-E7\" style=\"stroke:#181818;stroke-width:1.0;\"/><polygon fill=\"#181818\" points=\"278.8,93.7,268.9514,93.6315,274.2169,95.6988,272.1495,100.9644,278.8,93.7\" style=\"stroke:#181818;stroke-width:1.0;\"/></a></g><!--MD5=[32af27e3505625f22cdd7d3f056ad309]\n",
       "@startuml\r\n",
       "skin sysmlbw\r\n",
       "skinparam monochrome true\r\n",
       "skinparam wrapWidth 300\r\n",
       "hide circle\r\n",
       "left to right direction\r\n",
       "\r\n",
       "rec def \"ControlNodeTest\" as E1  <<(T,blue) action  def>> [[psysml:fb29792e-912d-4ab4-a64b-8ae4f88f6031 ]] {\r\n",
       "rec usage \"A1\" as E2  <<(T,blue) action>> [[psysml:fe1ec0cc-95d8-48f7-a7e5-aef83e3da3f9 ]] {\r\n",
       "}\r\n",
       "\r\n",
       "rec usage \"A2\" as E3  <<(T,blue) action>> [[psysml:c0a5c6df-be9c-4195-8c1c-0f8f015b3130 ]] {\r\n",
       "}\r\n",
       "\r\n",
       "join \"J\" as E4  [[psysml:3bd09aec-2544-46ae-936d-01aed8eb96e7 ]] \r\n",
       "fork \"F\" as E5  [[psysml:17702565-4e67-4d00-9c2e-cf91774b37d5 ]] \r\n",
       "rec usage \"B1\" as E6  <<(T,blue) action>> [[psysml:2e4137e4-9d77-4a25-b719-c29e464dbfc7 ]] {\r\n",
       "}\r\n",
       "\r\n",
       "rec usage \"B2\" as E7  <<(T,blue) action>> [[psysml:22fc935b-3ced-457d-8850-10eb2e62808c ]] {\r\n",
       "}\r\n",
       "\r\n",
       "}\r\n",
       "\r\n",
       "E2 - -> E4 [[psysml:f9bcfb7b-138a-4058-8879-7210022ba40a ]] \r\n",
       "E3 - -> E4 [[psysml:6481bc83-60df-4dde-906c-a5becb339116 ]] \r\n",
       "E4 - -> E5 [[psysml:091dd6b1-b372-46ae-b0ca-4e4aa94aac13 ]] \r\n",
       "E5 - -> E6 [[psysml:418b7d58-d850-4614-9e9d-1c793842a2dd ]] \r\n",
       "E5 - -> E7 [[psysml:a0ea5228-fdc9-49fd-bb96-6ce22cf44d00 ]] \r\n",
       "@enduml\r\n",
       "\n",
       "PlantUML version 1.2022.7(Mon Aug 22 17:01:30 UTC 2022)\n",
       "(EPL source distribution)\n",
       "Java Runtime: OpenJDK Runtime Environment\n",
       "JVM: OpenJDK 64-Bit Server VM\n",
       "Default Encoding: UTF-8\n",
       "Language: en\n",
       "Country: null\n",
       "--></g></svg>"
      ]
     },
     "execution_count": 16,
     "metadata": {},
     "output_type": "execute_result"
    }
   ],
   "source": [
    "%viz --style=\"LR\" --view=\"Default\" \"ControlNodeTest\""
   ]
  },
  {
   "cell_type": "code",
   "execution_count": 17,
   "id": "cdb45610",
   "metadata": {
    "execution": {
     "iopub.execute_input": "2024-12-16T14:20:24.477347Z",
     "iopub.status.busy": "2024-12-16T14:20:24.477078Z",
     "iopub.status.idle": "2024-12-16T14:20:24.508576Z",
     "shell.execute_reply": "2024-12-16T14:20:24.507708Z"
    }
   },
   "outputs": [
    {
     "data": {
      "image/svg+xml": [
       "<?xml version=\"1.0\" encoding=\"UTF-8\" standalone=\"no\"?><svg xmlns=\"http://www.w3.org/2000/svg\" xmlns:xlink=\"http://www.w3.org/1999/xlink\" contentStyleType=\"text/css\" height=\"349px\" preserveAspectRatio=\"none\" style=\"width:683px;height:349px;background:#FFFFFF;\" version=\"1.1\" viewBox=\"0 0 683 349\" width=\"683px\" zoomAndPan=\"magnify\"><defs/><g><!--MD5=[43c9051892ef23e1a46a86907403d788]\n",
       "class E1--><a href=\"psysml:fb29792e-912d-4ab4-a64b-8ae4f88f6031\" target=\"_top\" title=\"psysml:fb29792e-912d-4ab4-a64b-8ae4f88f6031\" xlink:actuate=\"onRequest\" xlink:href=\"psysml:fb29792e-912d-4ab4-a64b-8ae4f88f6031\" xlink:show=\"new\" xlink:title=\"psysml:fb29792e-912d-4ab4-a64b-8ae4f88f6031\" xlink:type=\"simple\"><g id=\"elem_E1\"><rect fill=\"#FFFFFF\" height=\"140.2688\" id=\"E1\" style=\"stroke:#181818;stroke-width:0.5;\" width=\"169\" x=\"7\" y=\"50\"/><text fill=\"#000000\" font-family=\"sans-serif\" font-size=\"12\" font-style=\"italic\" lengthAdjust=\"spacing\" textLength=\"81\" x=\"51\" y=\"66.1387\">«action  def»</text><text fill=\"#000000\" font-family=\"sans-serif\" font-size=\"14\" lengthAdjust=\"spacing\" textLength=\"118\" x=\"32.5\" y=\"81.9639\">ControlNodeTest</text><line style=\"stroke:#181818;stroke-width:0.5;\" x1=\"8\" x2=\"175\" y1=\"90.2656\" y2=\"90.2656\"/><text fill=\"#000000\" font-family=\"sans-serif\" font-size=\"14\" lengthAdjust=\"spacing\" textLength=\"151\" x=\"13\" y=\"117.7795\">noname first A1 then J</text><text fill=\"#000000\" font-family=\"sans-serif\" font-size=\"14\" lengthAdjust=\"spacing\" textLength=\"151\" x=\"13\" y=\"134.0764\">noname first A2 then J</text><text fill=\"#000000\" font-family=\"sans-serif\" font-size=\"14\" lengthAdjust=\"spacing\" textLength=\"141\" x=\"13\" y=\"150.3732\">noname first J then F</text><text fill=\"#000000\" font-family=\"sans-serif\" font-size=\"14\" lengthAdjust=\"spacing\" textLength=\"157\" x=\"13\" y=\"166.6701\">noname first F then B1</text><text fill=\"#000000\" font-family=\"sans-serif\" font-size=\"14\" lengthAdjust=\"spacing\" textLength=\"157\" x=\"13\" y=\"182.967\">noname first F then B2</text><text fill=\"#000000\" font-family=\"sans-serif\" font-size=\"14\" font-style=\"italic\" lengthAdjust=\"spacing\" textLength=\"87\" x=\"48\" y=\"102.6123\">successions</text></g></a><!--MD5=[b4997ac47864f28c2f74865a473b2911]\n",
       "class E2--><a href=\"psysml:fe1ec0cc-95d8-48f7-a7e5-aef83e3da3f9\" target=\"_top\" title=\"psysml:fe1ec0cc-95d8-48f7-a7e5-aef83e3da3f9\" xlink:actuate=\"onRequest\" xlink:href=\"psysml:fe1ec0cc-95d8-48f7-a7e5-aef83e3da3f9\" xlink:show=\"new\" xlink:title=\"psysml:fe1ec0cc-95d8-48f7-a7e5-aef83e3da3f9\" xlink:type=\"simple\"><g id=\"elem_E2\"><rect fill=\"#FFFFFF\" height=\"48.2656\" id=\"E2\" rx=\"10\" ry=\"10\" style=\"stroke:#181818;stroke-width:0.5;\" width=\"55\" x=\"236\" y=\"134\"/><text fill=\"#000000\" font-family=\"sans-serif\" font-size=\"12\" font-style=\"italic\" lengthAdjust=\"spacing\" textLength=\"53\" x=\"237\" y=\"150.1387\">«action»</text><text fill=\"#000000\" font-family=\"sans-serif\" font-size=\"14\" lengthAdjust=\"spacing\" textLength=\"18\" x=\"250.5\" y=\"165.9639\">A1</text><line style=\"stroke:#181818;stroke-width:0.5;\" x1=\"237\" x2=\"290\" y1=\"174.2656\" y2=\"174.2656\"/></g></a><!--MD5=[09b614a08d8cba4a07c9adeb5e0fee81]\n",
       "class E3--><a href=\"psysml:c0a5c6df-be9c-4195-8c1c-0f8f015b3130\" target=\"_top\" title=\"psysml:c0a5c6df-be9c-4195-8c1c-0f8f015b3130\" xlink:actuate=\"onRequest\" xlink:href=\"psysml:c0a5c6df-be9c-4195-8c1c-0f8f015b3130\" xlink:show=\"new\" xlink:title=\"psysml:c0a5c6df-be9c-4195-8c1c-0f8f015b3130\" xlink:type=\"simple\"><g id=\"elem_E3\"><rect fill=\"#FFFFFF\" height=\"48.2656\" id=\"E3\" rx=\"10\" ry=\"10\" style=\"stroke:#181818;stroke-width:0.5;\" width=\"55\" x=\"236\" y=\"217\"/><text fill=\"#000000\" font-family=\"sans-serif\" font-size=\"12\" font-style=\"italic\" lengthAdjust=\"spacing\" textLength=\"53\" x=\"237\" y=\"233.1387\">«action»</text><text fill=\"#000000\" font-family=\"sans-serif\" font-size=\"14\" lengthAdjust=\"spacing\" textLength=\"18\" x=\"250.5\" y=\"248.9639\">A2</text><line style=\"stroke:#181818;stroke-width:0.5;\" x1=\"237\" x2=\"290\" y1=\"257.2656\" y2=\"257.2656\"/></g></a><!--MD5=[ebbe1d658d1005bcc118a6aa81145e00]\n",
       "class E4--><a href=\"psysml:3bd09aec-2544-46ae-936d-01aed8eb96e7\" target=\"_top\" title=\"psysml:3bd09aec-2544-46ae-936d-01aed8eb96e7\" xlink:actuate=\"onRequest\" xlink:href=\"psysml:3bd09aec-2544-46ae-936d-01aed8eb96e7\" xlink:show=\"new\" xlink:title=\"psysml:3bd09aec-2544-46ae-936d-01aed8eb96e7\" xlink:type=\"simple\"><g id=\"elem_E4\"><rect fill=\"#FFFFFF\" height=\"48.2656\" id=\"E4\" rx=\"10\" ry=\"10\" style=\"stroke:#181818;stroke-width:0.5;\" width=\"74\" x=\"351\" y=\"98\"/><text fill=\"#000000\" font-family=\"sans-serif\" font-size=\"12\" font-style=\"italic\" lengthAdjust=\"spacing\" textLength=\"72\" x=\"352\" y=\"114.1387\">«join node»</text><text fill=\"#000000\" font-family=\"sans-serif\" font-size=\"14\" lengthAdjust=\"spacing\" textLength=\"3\" x=\"382.5\" y=\"129.9639\">J</text><line style=\"stroke:#181818;stroke-width:0.5;\" x1=\"352\" x2=\"424\" y1=\"138.2656\" y2=\"138.2656\"/></g></a><!--MD5=[270fce915f116d4de14055a7c1d9a0f3]\n",
       "class E5--><a href=\"psysml:17702565-4e67-4d00-9c2e-cf91774b37d5\" target=\"_top\" title=\"psysml:17702565-4e67-4d00-9c2e-cf91774b37d5\" xlink:actuate=\"onRequest\" xlink:href=\"psysml:17702565-4e67-4d00-9c2e-cf91774b37d5\" xlink:show=\"new\" xlink:title=\"psysml:17702565-4e67-4d00-9c2e-cf91774b37d5\" xlink:type=\"simple\"><g id=\"elem_E5\"><rect fill=\"#FFFFFF\" height=\"48.2656\" id=\"E5\" rx=\"10\" ry=\"10\" style=\"stroke:#181818;stroke-width:0.5;\" width=\"76\" x=\"485\" y=\"45\"/><text fill=\"#000000\" font-family=\"sans-serif\" font-size=\"12\" font-style=\"italic\" lengthAdjust=\"spacing\" textLength=\"74\" x=\"486\" y=\"61.1387\">«fork node»</text><text fill=\"#000000\" font-family=\"sans-serif\" font-size=\"14\" lengthAdjust=\"spacing\" textLength=\"8\" x=\"515\" y=\"76.9639\">F</text><line style=\"stroke:#181818;stroke-width:0.5;\" x1=\"486\" x2=\"560\" y1=\"85.2656\" y2=\"85.2656\"/></g></a><!--MD5=[60a26617385b1d2d0262a64233df1f8d]\n",
       "class E6--><a href=\"psysml:2e4137e4-9d77-4a25-b719-c29e464dbfc7\" target=\"_top\" title=\"psysml:2e4137e4-9d77-4a25-b719-c29e464dbfc7\" xlink:actuate=\"onRequest\" xlink:href=\"psysml:2e4137e4-9d77-4a25-b719-c29e464dbfc7\" xlink:show=\"new\" xlink:title=\"psysml:2e4137e4-9d77-4a25-b719-c29e464dbfc7\" xlink:type=\"simple\"><g id=\"elem_E6\"><rect fill=\"#FFFFFF\" height=\"48.2656\" id=\"E6\" rx=\"10\" ry=\"10\" style=\"stroke:#181818;stroke-width:0.5;\" width=\"55\" x=\"621\" y=\"7\"/><text fill=\"#000000\" font-family=\"sans-serif\" font-size=\"12\" font-style=\"italic\" lengthAdjust=\"spacing\" textLength=\"53\" x=\"622\" y=\"23.1387\">«action»</text><text fill=\"#000000\" font-family=\"sans-serif\" font-size=\"14\" lengthAdjust=\"spacing\" textLength=\"19\" x=\"635\" y=\"38.9639\">B1</text><line style=\"stroke:#181818;stroke-width:0.5;\" x1=\"622\" x2=\"675\" y1=\"47.2656\" y2=\"47.2656\"/></g></a><!--MD5=[2156ba9850f5573cc1fc38a6a4b2f02b]\n",
       "class E7--><a href=\"psysml:22fc935b-3ced-457d-8850-10eb2e62808c\" target=\"_top\" title=\"psysml:22fc935b-3ced-457d-8850-10eb2e62808c\" xlink:actuate=\"onRequest\" xlink:href=\"psysml:22fc935b-3ced-457d-8850-10eb2e62808c\" xlink:show=\"new\" xlink:title=\"psysml:22fc935b-3ced-457d-8850-10eb2e62808c\" xlink:type=\"simple\"><g id=\"elem_E7\"><rect fill=\"#FFFFFF\" height=\"48.2656\" id=\"E7\" rx=\"10\" ry=\"10\" style=\"stroke:#181818;stroke-width:0.5;\" width=\"55\" x=\"621\" y=\"199\"/><text fill=\"#000000\" font-family=\"sans-serif\" font-size=\"12\" font-style=\"italic\" lengthAdjust=\"spacing\" textLength=\"53\" x=\"622\" y=\"215.1387\">«action»</text><text fill=\"#000000\" font-family=\"sans-serif\" font-size=\"14\" lengthAdjust=\"spacing\" textLength=\"19\" x=\"635\" y=\"230.9639\">B2</text><line style=\"stroke:#181818;stroke-width:0.5;\" x1=\"622\" x2=\"675\" y1=\"239.2656\" y2=\"239.2656\"/></g></a><!--MD5=[a523cb2a0b79ecf9065ad8783f96c320]\n",
       "reverse link E1 to E2--><g id=\"link_E1_E2\"><a href=\"psysml:9306702f-37ef-4fdd-b535-5b953ffb2d58\" target=\"_top\" title=\"psysml:9306702f-37ef-4fdd-b535-5b953ffb2d58\" xlink:actuate=\"onRequest\" xlink:href=\"psysml:9306702f-37ef-4fdd-b535-5b953ffb2d58\" xlink:show=\"new\" xlink:title=\"psysml:9306702f-37ef-4fdd-b535-5b953ffb2d58\" xlink:type=\"simple\"><path d=\"M188.92,141.56 C206.13,145.41 222.71,149.11 235.75,152.03 \" fill=\"none\" id=\"E1-backto-E2\" style=\"stroke:#181818;stroke-width:1.0;\"/><polygon fill=\"#181818\" points=\"176.01,138.67,180.9901,143.8852,187.7196,141.2941,182.7395,136.0789,176.01,138.67\" style=\"stroke:#181818;stroke-width:1.0;\"/></a></g><!--MD5=[5d7b3810b1dd9b5164bea1151b29b665]\n",
       "reverse link E1 to E3--><g id=\"link_E1_E3\"><a href=\"psysml:ff946dee-4dd2-48de-88dc-ec164dbbdf2e\" target=\"_top\" title=\"psysml:ff946dee-4dd2-48de-88dc-ec164dbbdf2e\" xlink:actuate=\"onRequest\" xlink:href=\"psysml:ff946dee-4dd2-48de-88dc-ec164dbbdf2e\" xlink:show=\"new\" xlink:title=\"psysml:ff946dee-4dd2-48de-88dc-ec164dbbdf2e\" xlink:type=\"simple\"><path d=\"M186.65,187.02 C204.67,199.85 222.14,212.28 235.75,221.97 \" fill=\"none\" id=\"E1-backto-E3\" style=\"stroke:#181818;stroke-width:1.0;\"/><polygon fill=\"#181818\" points=\"176.01,179.44,178.5795,186.1778,185.7873,186.3974,183.2178,179.6596,176.01,179.44\" style=\"stroke:#181818;stroke-width:1.0;\"/></a></g><!--MD5=[4d03bb2d0377dc85ccfab60ff574652b]\n",
       "link E2 to E4--><g id=\"link_E2_E4\"><a href=\"psysml:f9bcfb7b-138a-4058-8879-7210022ba40a\" target=\"_top\" title=\"psysml:f9bcfb7b-138a-4058-8879-7210022ba40a\" xlink:actuate=\"onRequest\" xlink:href=\"psysml:f9bcfb7b-138a-4058-8879-7210022ba40a\" xlink:show=\"new\" xlink:title=\"psysml:f9bcfb7b-138a-4058-8879-7210022ba40a\" xlink:type=\"simple\"><path d=\"M291.08,150.19 C307.03,145.51 327.66,139.44 345.7,134.14 \" fill=\"none\" id=\"E2-to-E4\" style=\"stroke:#181818;stroke-width:1.0;\"/><polygon fill=\"#181818\" points=\"350.71,132.67,340.9464,131.3768,345.9139,134.0831,343.2075,139.0506,350.71,132.67\" style=\"stroke:#181818;stroke-width:1.0;\"/></a></g><!--MD5=[af87c684e3b0d8be13c1a698a818ef1e]\n",
       "link E3 to E4--><g id=\"link_E3_E4\"><a href=\"psysml:6481bc83-60df-4dde-906c-a5becb339116\" target=\"_top\" title=\"psysml:6481bc83-60df-4dde-906c-a5becb339116\" xlink:actuate=\"onRequest\" xlink:href=\"psysml:6481bc83-60df-4dde-906c-a5becb339116\" xlink:show=\"new\" xlink:title=\"psysml:6481bc83-60df-4dde-906c-a5becb339116\" xlink:type=\"simple\"><path d=\"M289.29,216.92 C309.3,197.49 337.47,170.12 358.42,149.77 \" fill=\"none\" id=\"E3-to-E4\" style=\"stroke:#181818;stroke-width:1.0;\"/><polygon fill=\"#181818\" points=\"362.25,146.05,353.0085,149.4552,358.6648,149.5352,358.5848,155.1915,362.25,146.05\" style=\"stroke:#181818;stroke-width:1.0;\"/></a></g><!--MD5=[f2c5c03aa1e8c0ba21c10a05e6444b8e]\n",
       "reverse link E1 to E4--><g id=\"link_E1_E4\"><a href=\"psysml:c17bb3db-0b7d-4d5b-b917-165c66d3be23\" target=\"_top\" title=\"psysml:c17bb3db-0b7d-4d5b-b917-165c66d3be23\" xlink:actuate=\"onRequest\" xlink:href=\"psysml:c17bb3db-0b7d-4d5b-b917-165c66d3be23\" xlink:show=\"new\" xlink:title=\"psysml:c17bb3db-0b7d-4d5b-b917-165c66d3be23\" xlink:type=\"simple\"><path d=\"M189.19,116.07 C221.56,115.28 257.84,114.97 291,116 C310.7,116.62 332.63,117.94 350.56,119.19 \" fill=\"none\" id=\"E1-backto-E4\" style=\"stroke:#181818;stroke-width:1.0;\"/><polygon fill=\"#181818\" points=\"176.05,116.42,182.1534,120.2604,188.0458,116.1036,181.9425,112.2632,176.05,116.42\" style=\"stroke:#181818;stroke-width:1.0;\"/></a></g><!--MD5=[1b7591eae5389033d8d09a9d6721a717]\n",
       "link E4 to E5--><g id=\"link_E4_E5\"><a href=\"psysml:091dd6b1-b372-46ae-b0ca-4e4aa94aac13\" target=\"_top\" title=\"psysml:091dd6b1-b372-46ae-b0ca-4e4aa94aac13\" xlink:actuate=\"onRequest\" xlink:href=\"psysml:091dd6b1-b372-46ae-b0ca-4e4aa94aac13\" xlink:show=\"new\" xlink:title=\"psysml:091dd6b1-b372-46ae-b0ca-4e4aa94aac13\" xlink:type=\"simple\"><path d=\"M425.34,107.52 C442.22,100.8 462.37,92.77 479.91,85.78 \" fill=\"none\" id=\"E4-to-E5\" style=\"stroke:#181818;stroke-width:1.0;\"/><polygon fill=\"#181818\" points=\"484.78,83.84,474.9385,83.4582,480.1357,85.692,477.9018,90.8891,484.78,83.84\" style=\"stroke:#181818;stroke-width:1.0;\"/></a></g><!--MD5=[33238bef88d6431a141d8bc8fb12bca0]\n",
       "reverse link E1 to E5--><g id=\"link_E1_E5\"><a href=\"psysml:75ce6460-81e3-4fd8-b178-253d08d4aaea\" target=\"_top\" title=\"psysml:75ce6460-81e3-4fd8-b178-253d08d4aaea\" xlink:actuate=\"onRequest\" xlink:href=\"psysml:75ce6460-81e3-4fd8-b178-253d08d4aaea\" xlink:show=\"new\" xlink:title=\"psysml:75ce6460-81e3-4fd8-b178-253d08d4aaea\" xlink:type=\"simple\"><path d=\"M189.06,98.18 C204.69,95.12 220.75,92.25 236,90 C324.66,76.93 430.03,71.86 484.79,70 \" fill=\"none\" id=\"E1-backto-E5\" style=\"stroke:#181818;stroke-width:1.0;\"/><polygon fill=\"#181818\" points=\"176.05,100.79,182.7197,103.5313,187.8154,98.429,181.1457,95.6877,176.05,100.79\" style=\"stroke:#181818;stroke-width:1.0;\"/></a></g><!--MD5=[9120cf2e5df3bff93db8f754bbbc09b4]\n",
       "link E5 to E6--><g id=\"link_E5_E6\"><a href=\"psysml:418b7d58-d850-4614-9e9d-1c793842a2dd\" target=\"_top\" title=\"psysml:418b7d58-d850-4614-9e9d-1c793842a2dd\" xlink:actuate=\"onRequest\" xlink:href=\"psysml:418b7d58-d850-4614-9e9d-1c793842a2dd\" xlink:show=\"new\" xlink:title=\"psysml:418b7d58-d850-4614-9e9d-1c793842a2dd\" xlink:type=\"simple\"><path d=\"M561.05,57.6 C578.44,52.25 598.95,45.94 615.63,40.81 \" fill=\"none\" id=\"E5-to-E6\" style=\"stroke:#181818;stroke-width:1.0;\"/><polygon fill=\"#181818\" points=\"620.68,39.26,610.9009,38.0898,615.902,40.7334,613.2584,45.7346,620.68,39.26\" style=\"stroke:#181818;stroke-width:1.0;\"/></a></g><!--MD5=[aca2ef284c2b1b90e17e73bf3f292c07]\n",
       "reverse link E1 to E6--><g id=\"link_E1_E6\"><a href=\"psysml:cbe5f5cb-386f-45e5-9c39-bb1873a128f8\" target=\"_top\" title=\"psysml:cbe5f5cb-386f-45e5-9c39-bb1873a128f8\" xlink:actuate=\"onRequest\" xlink:href=\"psysml:cbe5f5cb-386f-45e5-9c39-bb1873a128f8\" xlink:show=\"new\" xlink:title=\"psysml:cbe5f5cb-386f-45e5-9c39-bb1873a128f8\" xlink:type=\"simple\"><path d=\"M188.63,76.59 C204.24,70.67 220.4,65.2 236,61 C376.24,23.26 415.81,23.65 561,27 C580.99,27.47 603.56,28.53 620.63,29.44 \" fill=\"none\" id=\"E1-backto-E6\" style=\"stroke:#181818;stroke-width:1.0;\"/><polygon fill=\"#181818\" points=\"176.25,81.41,183.2922,82.9617,187.4331,77.0581,180.3909,75.5064,176.25,81.41\" style=\"stroke:#181818;stroke-width:1.0;\"/></a></g><!--MD5=[3a9b96bfbf6b6ad89c494e81751bda47]\n",
       "link E5 to E7--><g id=\"link_E5_E7\"><a href=\"psysml:a0ea5228-fdc9-49fd-bb96-6ce22cf44d00\" target=\"_top\" title=\"psysml:a0ea5228-fdc9-49fd-bb96-6ce22cf44d00\" xlink:actuate=\"onRequest\" xlink:href=\"psysml:a0ea5228-fdc9-49fd-bb96-6ce22cf44d00\" xlink:show=\"new\" xlink:title=\"psysml:a0ea5228-fdc9-49fd-bb96-6ce22cf44d00\" xlink:type=\"simple\"><path d=\"M543.3,93.07 C565.35,120.56 601.39,165.51 624.78,194.67 \" fill=\"none\" id=\"E5-to-E7\" style=\"stroke:#181818;stroke-width:1.0;\"/><polygon fill=\"#181818\" points=\"628.14,198.86,625.6285,189.3368,625.0113,194.9598,619.3882,194.3427,628.14,198.86\" style=\"stroke:#181818;stroke-width:1.0;\"/></a></g><!--MD5=[fc9706a6b2cf8c0e423679d303750d3f]\n",
       "reverse link E1 to E7--><g id=\"link_E1_E7\"><a href=\"psysml:65a1f468-5d54-43ed-9b56-c01a515fc6bb\" target=\"_top\" title=\"psysml:65a1f468-5d54-43ed-9b56-c01a515fc6bb\" xlink:actuate=\"onRequest\" xlink:href=\"psysml:65a1f468-5d54-43ed-9b56-c01a515fc6bb\" xlink:show=\"new\" xlink:title=\"psysml:65a1f468-5d54-43ed-9b56-c01a515fc6bb\" xlink:type=\"simple\"><path d=\"M142.18,200.99 C166.22,232.45 198.14,264.96 236,282 C370.59,342.58 552.74,268.73 620.58,236.56 \" fill=\"none\" id=\"E1-backto-E7\" style=\"stroke:#181818;stroke-width:1.0;\"/><polygon fill=\"#181818\" points=\"134.33,190.39,134.6841,197.5924,141.4686,200.0357,141.1146,192.8333,134.33,190.39\" style=\"stroke:#181818;stroke-width:1.0;\"/></a></g><!--MD5=[272c5ed3468bb35773c53f799e01713e]\n",
       "@startuml\r\n",
       "skin sysmlbw\r\n",
       "skinparam monochrome true\r\n",
       "skinparam wrapWidth 300\r\n",
       "hide circle\r\n",
       "left to right direction\r\n",
       "\r\n",
       "comp def \"ControlNodeTest\" as E1  <<(T,blue) action  def>> [[psysml:fb29792e-912d-4ab4-a64b-8ae4f88f6031 ]] {\r\n",
       "##//successions//##\r\n",
       "noname first A1 then J\r\n",
       "noname first A2 then J\r\n",
       "noname first J then F\r\n",
       "noname first F then B1\r\n",
       "noname first F then B2\r\n",
       "}\r\n",
       "comp usage \"A1  \" as E2  <<(T,blue) action>> [[psysml:fe1ec0cc-95d8-48f7-a7e5-aef83e3da3f9 ]] {\r\n",
       "}\r\n",
       "comp usage \"A2  \" as E3  <<(T,blue) action>> [[psysml:c0a5c6df-be9c-4195-8c1c-0f8f015b3130 ]] {\r\n",
       "}\r\n",
       "comp usage \"J  \" as E4  <<(T,blue) join node>> [[psysml:3bd09aec-2544-46ae-936d-01aed8eb96e7 ]] {\r\n",
       "}\r\n",
       "comp usage \"F  \" as E5  <<(T,blue) fork node>> [[psysml:17702565-4e67-4d00-9c2e-cf91774b37d5 ]] {\r\n",
       "}\r\n",
       "comp usage \"B1  \" as E6  <<(T,blue) action>> [[psysml:2e4137e4-9d77-4a25-b719-c29e464dbfc7 ]] {\r\n",
       "}\r\n",
       "comp usage \"B2  \" as E7  <<(T,blue) action>> [[psysml:22fc935b-3ced-457d-8850-10eb2e62808c ]] {\r\n",
       "}\r\n",
       "E1 *- - E2 [[psysml:9306702f-37ef-4fdd-b535-5b953ffb2d58 ]] \r\n",
       "E1 *- - E3 [[psysml:ff946dee-4dd2-48de-88dc-ec164dbbdf2e ]] \r\n",
       "E2 - -> E4 [[psysml:f9bcfb7b-138a-4058-8879-7210022ba40a ]] \r\n",
       "E3 - -> E4 [[psysml:6481bc83-60df-4dde-906c-a5becb339116 ]] \r\n",
       "E1 *- - E4 [[psysml:c17bb3db-0b7d-4d5b-b917-165c66d3be23 ]] \r\n",
       "E4 - -> E5 [[psysml:091dd6b1-b372-46ae-b0ca-4e4aa94aac13 ]] \r\n",
       "E1 *- - E5 [[psysml:75ce6460-81e3-4fd8-b178-253d08d4aaea ]] \r\n",
       "E5 - -> E6 [[psysml:418b7d58-d850-4614-9e9d-1c793842a2dd ]] \r\n",
       "E1 *- - E6 [[psysml:cbe5f5cb-386f-45e5-9c39-bb1873a128f8 ]] \r\n",
       "E5 - -> E7 [[psysml:a0ea5228-fdc9-49fd-bb96-6ce22cf44d00 ]] \r\n",
       "E1 *- - E7 [[psysml:65a1f468-5d54-43ed-9b56-c01a515fc6bb ]] \r\n",
       "@enduml\r\n",
       "\n",
       "PlantUML version 1.2022.7(Mon Aug 22 17:01:30 UTC 2022)\n",
       "(EPL source distribution)\n",
       "Java Runtime: OpenJDK Runtime Environment\n",
       "JVM: OpenJDK 64-Bit Server VM\n",
       "Default Encoding: UTF-8\n",
       "Language: en\n",
       "Country: null\n",
       "--></g></svg>"
      ]
     },
     "execution_count": 17,
     "metadata": {},
     "output_type": "execute_result"
    }
   ],
   "source": [
    "%viz --style=\"LR\" --view=\"Tree\" \"ControlNodeTest\""
   ]
  },
  {
   "cell_type": "code",
   "execution_count": 18,
   "id": "7ea7dd83",
   "metadata": {
    "execution": {
     "iopub.execute_input": "2024-12-16T14:20:24.564473Z",
     "iopub.status.busy": "2024-12-16T14:20:24.564173Z",
     "iopub.status.idle": "2024-12-16T14:20:24.569357Z",
     "shell.execute_reply": "2024-12-16T14:20:24.569178Z"
    }
   },
   "outputs": [
    {
     "data": {
      "image/svg+xml": [
       "<?xml version=\"1.0\" encoding=\"UTF-8\" standalone=\"no\"?><svg xmlns=\"http://www.w3.org/2000/svg\" xmlns:xlink=\"http://www.w3.org/1999/xlink\" contentStyleType=\"text/css\" height=\"10px\" preserveAspectRatio=\"none\" style=\"width:10px;height:10px;background:#FFFFFF;\" version=\"1.1\" viewBox=\"0 0 10 10\" width=\"10px\" zoomAndPan=\"magnify\"><defs/><g><!--MD5=[fb420fbd7a91d32138f4344b927a323c]\n",
       "@startuml\r\n",
       "skin sysmlbw\r\n",
       "skinparam monochrome true\r\n",
       "skinparam wrapWidth 300\r\n",
       "hide circle\r\n",
       "left to right direction\r\n",
       "\r\n",
       "@enduml\r\n",
       "\n",
       "PlantUML version 1.2022.7(Mon Aug 22 17:01:30 UTC 2022)\n",
       "(EPL source distribution)\n",
       "Java Runtime: OpenJDK Runtime Environment\n",
       "JVM: OpenJDK 64-Bit Server VM\n",
       "Default Encoding: UTF-8\n",
       "Language: en\n",
       "Country: null\n",
       "--></g></svg>"
      ]
     },
     "execution_count": 18,
     "metadata": {},
     "output_type": "execute_result"
    }
   ],
   "source": [
    "%viz --style=\"LR\" --view=\"State\" \"ControlNodeTest\""
   ]
  },
  {
   "cell_type": "code",
   "execution_count": 19,
   "id": "e33034c5",
   "metadata": {
    "execution": {
     "iopub.execute_input": "2024-12-16T14:20:24.625860Z",
     "iopub.status.busy": "2024-12-16T14:20:24.625613Z",
     "iopub.status.idle": "2024-12-16T14:20:24.648612Z",
     "shell.execute_reply": "2024-12-16T14:20:24.647701Z"
    }
   },
   "outputs": [
    {
     "data": {
      "image/svg+xml": [
       "<?xml version=\"1.0\" encoding=\"UTF-8\" standalone=\"no\"?><svg xmlns=\"http://www.w3.org/2000/svg\" xmlns:xlink=\"http://www.w3.org/1999/xlink\" contentStyleType=\"text/css\" height=\"206px\" preserveAspectRatio=\"none\" style=\"width:212px;height:206px;background:#FFFFFF;\" version=\"1.1\" viewBox=\"0 0 212 206\" width=\"212px\" zoomAndPan=\"magnify\"><defs/><g><!--MD5=[fbc87193dbaf4d95561dea2c320d4a47]\n",
       "cluster E1--><g id=\"cluster_E1\"><a href=\"psysml:fb29792e-912d-4ab4-a64b-8ae4f88f6031\" target=\"_top\" title=\"psysml:fb29792e-912d-4ab4-a64b-8ae4f88f6031\" xlink:actuate=\"onRequest\" xlink:href=\"psysml:fb29792e-912d-4ab4-a64b-8ae4f88f6031\" xlink:show=\"new\" xlink:title=\"psysml:fb29792e-912d-4ab4-a64b-8ae4f88f6031\" xlink:type=\"simple\"><rect fill=\"#FFFFFF\" height=\"193\" id=\"E1\" style=\"stroke:#383838;stroke-width:1.5;\" width=\"198\" x=\"7\" y=\"7\"/><text fill=\"#000000\" font-family=\"sans-serif\" font-size=\"12\" font-style=\"italic\" lengthAdjust=\"spacing\" textLength=\"81\" x=\"65.5\" y=\"23.1387\">«action  def»</text><text fill=\"#000000\" font-family=\"sans-serif\" font-size=\"14\" lengthAdjust=\"spacing\" textLength=\"118\" x=\"47\" y=\"38.9639\">ControlNodeTest</text><line style=\"stroke:#383838;stroke-width:1.0;\" x1=\"7\" x2=\"205\" y1=\"47.2656\" y2=\"47.2656\"/></a></g><rect fill=\"#555555\" height=\"80\" style=\"stroke:none;stroke-width:1.0;\" width=\"8\" x=\"93\" y=\"81\"/><rect fill=\"#555555\" height=\"80\" style=\"stroke:none;stroke-width:1.0;\" width=\"8\" x=\"111\" y=\"81\"/><g><a href=\"psysml:fe1ec0cc-95d8-48f7-a7e5-aef83e3da3f9\" target=\"_top\" title=\"psysml:fe1ec0cc-95d8-48f7-a7e5-aef83e3da3f9\" xlink:actuate=\"onRequest\" xlink:href=\"psysml:fe1ec0cc-95d8-48f7-a7e5-aef83e3da3f9\" xlink:show=\"new\" xlink:title=\"psysml:fe1ec0cc-95d8-48f7-a7e5-aef83e3da3f9\" xlink:type=\"simple\"><rect fill=\"#FFFFFF\" height=\"45.2656\" id=\"E2\" rx=\"10\" ry=\"10\" style=\"stroke:#383838;stroke-width:1.5;\" width=\"60\" x=\"23\" y=\"58.5\"/><text fill=\"#000000\" font-family=\"sans-serif\" font-size=\"12\" font-style=\"italic\" lengthAdjust=\"spacing\" textLength=\"53\" x=\"26.5\" y=\"74.6387\">«action»</text><text fill=\"#000000\" font-family=\"sans-serif\" font-size=\"14\" lengthAdjust=\"spacing\" textLength=\"18\" x=\"44\" y=\"90.4639\">A1</text></a></g><g><a href=\"psysml:c0a5c6df-be9c-4195-8c1c-0f8f015b3130\" target=\"_top\" title=\"psysml:c0a5c6df-be9c-4195-8c1c-0f8f015b3130\" xlink:actuate=\"onRequest\" xlink:href=\"psysml:c0a5c6df-be9c-4195-8c1c-0f8f015b3130\" xlink:show=\"new\" xlink:title=\"psysml:c0a5c6df-be9c-4195-8c1c-0f8f015b3130\" xlink:type=\"simple\"><rect fill=\"#FFFFFF\" height=\"45.2656\" id=\"E3\" rx=\"10\" ry=\"10\" style=\"stroke:#383838;stroke-width:1.5;\" width=\"60\" x=\"23\" y=\"138.5\"/><text fill=\"#000000\" font-family=\"sans-serif\" font-size=\"12\" font-style=\"italic\" lengthAdjust=\"spacing\" textLength=\"53\" x=\"26.5\" y=\"154.6387\">«action»</text><text fill=\"#000000\" font-family=\"sans-serif\" font-size=\"14\" lengthAdjust=\"spacing\" textLength=\"18\" x=\"44\" y=\"170.4639\">A2</text></a></g><g><a href=\"psysml:2e4137e4-9d77-4a25-b719-c29e464dbfc7\" target=\"_top\" title=\"psysml:2e4137e4-9d77-4a25-b719-c29e464dbfc7\" xlink:actuate=\"onRequest\" xlink:href=\"psysml:2e4137e4-9d77-4a25-b719-c29e464dbfc7\" xlink:show=\"new\" xlink:title=\"psysml:2e4137e4-9d77-4a25-b719-c29e464dbfc7\" xlink:type=\"simple\"><rect fill=\"#FFFFFF\" height=\"45.2656\" id=\"E6\" rx=\"10\" ry=\"10\" style=\"stroke:#383838;stroke-width:1.5;\" width=\"60\" x=\"129\" y=\"138.5\"/><text fill=\"#000000\" font-family=\"sans-serif\" font-size=\"12\" font-style=\"italic\" lengthAdjust=\"spacing\" textLength=\"53\" x=\"132.5\" y=\"154.6387\">«action»</text><text fill=\"#000000\" font-family=\"sans-serif\" font-size=\"14\" lengthAdjust=\"spacing\" textLength=\"19\" x=\"149.5\" y=\"170.4639\">B1</text></a></g><g><a href=\"psysml:22fc935b-3ced-457d-8850-10eb2e62808c\" target=\"_top\" title=\"psysml:22fc935b-3ced-457d-8850-10eb2e62808c\" xlink:actuate=\"onRequest\" xlink:href=\"psysml:22fc935b-3ced-457d-8850-10eb2e62808c\" xlink:show=\"new\" xlink:title=\"psysml:22fc935b-3ced-457d-8850-10eb2e62808c\" xlink:type=\"simple\"><rect fill=\"#FFFFFF\" height=\"45.2656\" id=\"E7\" rx=\"10\" ry=\"10\" style=\"stroke:#383838;stroke-width:1.5;\" width=\"60\" x=\"129\" y=\"58.5\"/><text fill=\"#000000\" font-family=\"sans-serif\" font-size=\"12\" font-style=\"italic\" lengthAdjust=\"spacing\" textLength=\"53\" x=\"132.5\" y=\"74.6387\">«action»</text><text fill=\"#000000\" font-family=\"sans-serif\" font-size=\"14\" lengthAdjust=\"spacing\" textLength=\"19\" x=\"149.5\" y=\"90.4639\">B2</text></a></g><!--MD5=[4d03bb2d0377dc85ccfab60ff574652b]\n",
       "link E2 to E4--><g id=\"link_E2_E4\"><a href=\"psysml:f9bcfb7b-138a-4058-8879-7210022ba40a\" target=\"_top\" title=\"psysml:f9bcfb7b-138a-4058-8879-7210022ba40a\" xlink:actuate=\"onRequest\" xlink:href=\"psysml:f9bcfb7b-138a-4058-8879-7210022ba40a\" xlink:show=\"new\" xlink:title=\"psysml:f9bcfb7b-138a-4058-8879-7210022ba40a\" xlink:type=\"simple\"><path d=\"M77.94,103.8 C82,107.66 85.9,111.38 89.04,114.37 \" fill=\"none\" id=\"E2-to-E4\" style=\"stroke:#181818;stroke-width:1.0;\"/><polygon fill=\"#181818\" points=\"92.77,117.93,88.9944,108.8336,89.1429,114.4885,83.488,114.637,92.77,117.93\" style=\"stroke:#181818;stroke-width:1.0;\"/></a></g><!--MD5=[af87c684e3b0d8be13c1a698a818ef1e]\n",
       "link E3 to E4--><g id=\"link_E3_E4\"><a href=\"psysml:6481bc83-60df-4dde-906c-a5becb339116\" target=\"_top\" title=\"psysml:6481bc83-60df-4dde-906c-a5becb339116\" xlink:actuate=\"onRequest\" xlink:href=\"psysml:6481bc83-60df-4dde-906c-a5becb339116\" xlink:show=\"new\" xlink:title=\"psysml:6481bc83-60df-4dde-906c-a5becb339116\" xlink:type=\"simple\"><path d=\"M77.94,138.2 C82,134.34 85.9,130.62 89.04,127.63 \" fill=\"none\" id=\"E3-to-E4\" style=\"stroke:#181818;stroke-width:1.0;\"/><polygon fill=\"#181818\" points=\"92.77,124.07,83.488,127.363,89.1429,127.5115,88.9944,133.1664,92.77,124.07\" style=\"stroke:#181818;stroke-width:1.0;\"/></a></g><!--MD5=[1b7591eae5389033d8d09a9d6721a717]\n",
       "link E4 to E5--><g id=\"link_E4_E5\"><a href=\"psysml:091dd6b1-b372-46ae-b0ca-4e4aa94aac13\" target=\"_top\" title=\"psysml:091dd6b1-b372-46ae-b0ca-4e4aa94aac13\" xlink:actuate=\"onRequest\" xlink:href=\"psysml:091dd6b1-b372-46ae-b0ca-4e4aa94aac13\" xlink:show=\"new\" xlink:title=\"psysml:091dd6b1-b372-46ae-b0ca-4e4aa94aac13\" xlink:type=\"simple\"><path d=\"M101.08,121 C102.38,121 103.95,121 105.55,121 \" fill=\"none\" id=\"E4-to-E5\" style=\"stroke:#181818;stroke-width:1.0;\"/><polygon fill=\"#181818\" points=\"110.7,121,101.7,117,105.7,121,101.7,125,110.7,121\" style=\"stroke:#181818;stroke-width:1.0;\"/></a></g><!--MD5=[9120cf2e5df3bff93db8f754bbbc09b4]\n",
       "link E5 to E6--><g id=\"link_E5_E6\"><a href=\"psysml:418b7d58-d850-4614-9e9d-1c793842a2dd\" target=\"_top\" title=\"psysml:418b7d58-d850-4614-9e9d-1c793842a2dd\" xlink:actuate=\"onRequest\" xlink:href=\"psysml:418b7d58-d850-4614-9e9d-1c793842a2dd\" xlink:show=\"new\" xlink:title=\"psysml:418b7d58-d850-4614-9e9d-1c793842a2dd\" xlink:type=\"simple\"><path d=\"M119.02,123.88 C121.72,126.45 125.96,130.49 130.68,134.98 \" fill=\"none\" id=\"E5-to-E6\" style=\"stroke:#181818;stroke-width:1.0;\"/><polygon fill=\"#181818\" points=\"134.36,138.48,130.6023,129.3762,130.7397,135.0314,125.0845,135.1687,134.36,138.48\" style=\"stroke:#181818;stroke-width:1.0;\"/></a></g><!--MD5=[3a9b96bfbf6b6ad89c494e81751bda47]\n",
       "link E5 to E7--><g id=\"link_E5_E7\"><a href=\"psysml:a0ea5228-fdc9-49fd-bb96-6ce22cf44d00\" target=\"_top\" title=\"psysml:a0ea5228-fdc9-49fd-bb96-6ce22cf44d00\" xlink:actuate=\"onRequest\" xlink:href=\"psysml:a0ea5228-fdc9-49fd-bb96-6ce22cf44d00\" xlink:show=\"new\" xlink:title=\"psysml:a0ea5228-fdc9-49fd-bb96-6ce22cf44d00\" xlink:type=\"simple\"><path d=\"M119.02,118.12 C121.72,115.55 125.96,111.51 130.68,107.02 \" fill=\"none\" id=\"E5-to-E7\" style=\"stroke:#181818;stroke-width:1.0;\"/><polygon fill=\"#181818\" points=\"134.36,103.52,125.0845,106.8313,130.7397,106.9686,130.6023,112.6238,134.36,103.52\" style=\"stroke:#181818;stroke-width:1.0;\"/></a></g><!--MD5=[c0be113009cd8a0f5368fdf34a7d27e0]\n",
       "@startuml\r\n",
       "skin sysmlbw\r\n",
       "skinparam monochrome true\r\n",
       "skinparam wrapWidth 300\r\n",
       "hide circle\r\n",
       "left to right direction\r\n",
       "skinparam ranksep 10\r\n",
       "skinparam rectangle {\r\n",
       " backgroundColor<<block>> LightGreen\r\n",
       "}\r\n",
       "\r\n",
       "rec def \"ControlNodeTest\" as E1  <<(T,blue) action  def>> [[psysml:fb29792e-912d-4ab4-a64b-8ae4f88f6031 ]] {\r\n",
       "rec usage \"A1\" as E2  <<(T,blue) action>> [[psysml:fe1ec0cc-95d8-48f7-a7e5-aef83e3da3f9 ]] {\r\n",
       "}\r\n",
       "\r\n",
       "rec usage \"A2\" as E3  <<(T,blue) action>> [[psysml:c0a5c6df-be9c-4195-8c1c-0f8f015b3130 ]] {\r\n",
       "}\r\n",
       "\r\n",
       "join \"J\" as E4  [[psysml:3bd09aec-2544-46ae-936d-01aed8eb96e7 ]] \r\n",
       "fork \"F\" as E5  [[psysml:17702565-4e67-4d00-9c2e-cf91774b37d5 ]] \r\n",
       "rec usage \"B1\" as E6  <<(T,blue) action>> [[psysml:2e4137e4-9d77-4a25-b719-c29e464dbfc7 ]] {\r\n",
       "}\r\n",
       "\r\n",
       "rec usage \"B2\" as E7  <<(T,blue) action>> [[psysml:22fc935b-3ced-457d-8850-10eb2e62808c ]] {\r\n",
       "}\r\n",
       "\r\n",
       "}\r\n",
       "\r\n",
       "E2 - -> E4 [[psysml:f9bcfb7b-138a-4058-8879-7210022ba40a ]] \r\n",
       "E3 - -> E4 [[psysml:6481bc83-60df-4dde-906c-a5becb339116 ]] \r\n",
       "E4 - -> E5 [[psysml:091dd6b1-b372-46ae-b0ca-4e4aa94aac13 ]] \r\n",
       "E5 - -> E6 [[psysml:418b7d58-d850-4614-9e9d-1c793842a2dd ]] \r\n",
       "E5 - -> E7 [[psysml:a0ea5228-fdc9-49fd-bb96-6ce22cf44d00 ]] \r\n",
       "@enduml\r\n",
       "\n",
       "PlantUML version 1.2022.7(Mon Aug 22 17:01:30 UTC 2022)\n",
       "(EPL source distribution)\n",
       "Java Runtime: OpenJDK Runtime Environment\n",
       "JVM: OpenJDK 64-Bit Server VM\n",
       "Default Encoding: UTF-8\n",
       "Language: en\n",
       "Country: null\n",
       "--></g></svg>"
      ]
     },
     "execution_count": 19,
     "metadata": {},
     "output_type": "execute_result"
    }
   ],
   "source": [
    "%viz --style=\"LR\" --view=\"Interconnection\" \"ControlNodeTest\""
   ]
  },
  {
   "cell_type": "code",
   "execution_count": 20,
   "id": "32bc2d79",
   "metadata": {
    "execution": {
     "iopub.execute_input": "2024-12-16T14:20:24.704028Z",
     "iopub.status.busy": "2024-12-16T14:20:24.703789Z",
     "iopub.status.idle": "2024-12-16T14:20:24.721835Z",
     "shell.execute_reply": "2024-12-16T14:20:24.721073Z"
    }
   },
   "outputs": [
    {
     "data": {
      "image/svg+xml": [
       "<?xml version=\"1.0\" encoding=\"UTF-8\" standalone=\"no\"?><svg xmlns=\"http://www.w3.org/2000/svg\" xmlns:xlink=\"http://www.w3.org/1999/xlink\" contentStyleType=\"text/css\" height=\"206px\" preserveAspectRatio=\"none\" style=\"width:206px;height:206px;background:#FFFFFF;\" version=\"1.1\" viewBox=\"0 0 206 206\" width=\"206px\" zoomAndPan=\"magnify\"><defs/><g><!--MD5=[fbc87193dbaf4d95561dea2c320d4a47]\n",
       "cluster E1--><g id=\"cluster_E1\"><a href=\"psysml:fb29792e-912d-4ab4-a64b-8ae4f88f6031\" target=\"_top\" title=\"psysml:fb29792e-912d-4ab4-a64b-8ae4f88f6031\" xlink:actuate=\"onRequest\" xlink:href=\"psysml:fb29792e-912d-4ab4-a64b-8ae4f88f6031\" xlink:show=\"new\" xlink:title=\"psysml:fb29792e-912d-4ab4-a64b-8ae4f88f6031\" xlink:type=\"simple\"><rect fill=\"#FFFFFF\" height=\"193\" id=\"E1\" style=\"stroke:#383838;stroke-width:1.5;\" width=\"192\" x=\"7\" y=\"7\"/><text fill=\"#000000\" font-family=\"sans-serif\" font-size=\"12\" font-style=\"italic\" lengthAdjust=\"spacing\" textLength=\"81\" x=\"62.5\" y=\"23.1387\">«action  def»</text><text fill=\"#000000\" font-family=\"sans-serif\" font-size=\"14\" lengthAdjust=\"spacing\" textLength=\"118\" x=\"44\" y=\"38.9639\">ControlNodeTest</text><line style=\"stroke:#383838;stroke-width:1.0;\" x1=\"7\" x2=\"199\" y1=\"47.2656\" y2=\"47.2656\"/></a></g><rect fill=\"#555555\" height=\"80\" style=\"stroke:none;stroke-width:1.0;\" width=\"8\" x=\"91\" y=\"81\"/><rect fill=\"#555555\" height=\"80\" style=\"stroke:none;stroke-width:1.0;\" width=\"8\" x=\"107\" y=\"81\"/><g><a href=\"psysml:fe1ec0cc-95d8-48f7-a7e5-aef83e3da3f9\" target=\"_top\" title=\"psysml:fe1ec0cc-95d8-48f7-a7e5-aef83e3da3f9\" xlink:actuate=\"onRequest\" xlink:href=\"psysml:fe1ec0cc-95d8-48f7-a7e5-aef83e3da3f9\" xlink:show=\"new\" xlink:title=\"psysml:fe1ec0cc-95d8-48f7-a7e5-aef83e3da3f9\" xlink:type=\"simple\"><rect fill=\"#FFFFFF\" height=\"45.2656\" id=\"E2\" rx=\"10\" ry=\"10\" style=\"stroke:#383838;stroke-width:1.5;\" width=\"60\" x=\"23\" y=\"58.5\"/><text fill=\"#000000\" font-family=\"sans-serif\" font-size=\"12\" font-style=\"italic\" lengthAdjust=\"spacing\" textLength=\"53\" x=\"26.5\" y=\"74.6387\">«action»</text><text fill=\"#000000\" font-family=\"sans-serif\" font-size=\"14\" lengthAdjust=\"spacing\" textLength=\"18\" x=\"44\" y=\"90.4639\">A1</text></a></g><g><a href=\"psysml:c0a5c6df-be9c-4195-8c1c-0f8f015b3130\" target=\"_top\" title=\"psysml:c0a5c6df-be9c-4195-8c1c-0f8f015b3130\" xlink:actuate=\"onRequest\" xlink:href=\"psysml:c0a5c6df-be9c-4195-8c1c-0f8f015b3130\" xlink:show=\"new\" xlink:title=\"psysml:c0a5c6df-be9c-4195-8c1c-0f8f015b3130\" xlink:type=\"simple\"><rect fill=\"#FFFFFF\" height=\"45.2656\" id=\"E3\" rx=\"10\" ry=\"10\" style=\"stroke:#383838;stroke-width:1.5;\" width=\"60\" x=\"23\" y=\"138.5\"/><text fill=\"#000000\" font-family=\"sans-serif\" font-size=\"12\" font-style=\"italic\" lengthAdjust=\"spacing\" textLength=\"53\" x=\"26.5\" y=\"154.6387\">«action»</text><text fill=\"#000000\" font-family=\"sans-serif\" font-size=\"14\" lengthAdjust=\"spacing\" textLength=\"18\" x=\"44\" y=\"170.4639\">A2</text></a></g><g><a href=\"psysml:2e4137e4-9d77-4a25-b719-c29e464dbfc7\" target=\"_top\" title=\"psysml:2e4137e4-9d77-4a25-b719-c29e464dbfc7\" xlink:actuate=\"onRequest\" xlink:href=\"psysml:2e4137e4-9d77-4a25-b719-c29e464dbfc7\" xlink:show=\"new\" xlink:title=\"psysml:2e4137e4-9d77-4a25-b719-c29e464dbfc7\" xlink:type=\"simple\"><rect fill=\"#FFFFFF\" height=\"45.2656\" id=\"E6\" rx=\"10\" ry=\"10\" style=\"stroke:#383838;stroke-width:1.5;\" width=\"60\" x=\"123\" y=\"138.5\"/><text fill=\"#000000\" font-family=\"sans-serif\" font-size=\"12\" font-style=\"italic\" lengthAdjust=\"spacing\" textLength=\"53\" x=\"126.5\" y=\"154.6387\">«action»</text><text fill=\"#000000\" font-family=\"sans-serif\" font-size=\"14\" lengthAdjust=\"spacing\" textLength=\"19\" x=\"143.5\" y=\"170.4639\">B1</text></a></g><g><a href=\"psysml:22fc935b-3ced-457d-8850-10eb2e62808c\" target=\"_top\" title=\"psysml:22fc935b-3ced-457d-8850-10eb2e62808c\" xlink:actuate=\"onRequest\" xlink:href=\"psysml:22fc935b-3ced-457d-8850-10eb2e62808c\" xlink:show=\"new\" xlink:title=\"psysml:22fc935b-3ced-457d-8850-10eb2e62808c\" xlink:type=\"simple\"><rect fill=\"#FFFFFF\" height=\"45.2656\" id=\"E7\" rx=\"10\" ry=\"10\" style=\"stroke:#383838;stroke-width:1.5;\" width=\"60\" x=\"123\" y=\"58.5\"/><text fill=\"#000000\" font-family=\"sans-serif\" font-size=\"12\" font-style=\"italic\" lengthAdjust=\"spacing\" textLength=\"53\" x=\"126.5\" y=\"74.6387\">«action»</text><text fill=\"#000000\" font-family=\"sans-serif\" font-size=\"14\" lengthAdjust=\"spacing\" textLength=\"19\" x=\"143.5\" y=\"90.4639\">B2</text></a></g><!--MD5=[4d03bb2d0377dc85ccfab60ff574652b]\n",
       "link E2 to E4--><g id=\"link_E2_E4\"><a href=\"psysml:f9bcfb7b-138a-4058-8879-7210022ba40a\" target=\"_top\" title=\"psysml:f9bcfb7b-138a-4058-8879-7210022ba40a\" xlink:actuate=\"onRequest\" xlink:href=\"psysml:f9bcfb7b-138a-4058-8879-7210022ba40a\" xlink:show=\"new\" xlink:title=\"psysml:f9bcfb7b-138a-4058-8879-7210022ba40a\" xlink:type=\"simple\"><path d=\"M76.8,103.8 C80.66,107.66 84.38,111.38 87.37,114.37 \" fill=\"none\" id=\"E2-to-E4\" style=\"stroke:#181818;stroke-width:1.0;stroke-dasharray:7.0,7.0;\"/><polygon fill=\"#181818\" points=\"90.93,117.93,87.3945,108.7376,87.3945,114.3945,81.7376,114.3945,90.93,117.93\" style=\"stroke:#181818;stroke-width:1.0;\"/></a></g><!--MD5=[af87c684e3b0d8be13c1a698a818ef1e]\n",
       "link E3 to E4--><g id=\"link_E3_E4\"><a href=\"psysml:6481bc83-60df-4dde-906c-a5becb339116\" target=\"_top\" title=\"psysml:6481bc83-60df-4dde-906c-a5becb339116\" xlink:actuate=\"onRequest\" xlink:href=\"psysml:6481bc83-60df-4dde-906c-a5becb339116\" xlink:show=\"new\" xlink:title=\"psysml:6481bc83-60df-4dde-906c-a5becb339116\" xlink:type=\"simple\"><path d=\"M76.8,138.2 C80.66,134.34 84.38,130.62 87.37,127.63 \" fill=\"none\" id=\"E3-to-E4\" style=\"stroke:#181818;stroke-width:1.0;stroke-dasharray:7.0,7.0;\"/><polygon fill=\"#181818\" points=\"90.93,124.07,81.7376,127.6055,87.3945,127.6055,87.3945,133.2624,90.93,124.07\" style=\"stroke:#181818;stroke-width:1.0;\"/></a></g><!--MD5=[1b7591eae5389033d8d09a9d6721a717]\n",
       "link E4 to E5--><g id=\"link_E4_E5\"><a href=\"psysml:091dd6b1-b372-46ae-b0ca-4e4aa94aac13\" target=\"_top\" title=\"psysml:091dd6b1-b372-46ae-b0ca-4e4aa94aac13\" xlink:actuate=\"onRequest\" xlink:href=\"psysml:091dd6b1-b372-46ae-b0ca-4e4aa94aac13\" xlink:show=\"new\" xlink:title=\"psysml:091dd6b1-b372-46ae-b0ca-4e4aa94aac13\" xlink:type=\"simple\"><path d=\"M99.25,121 C100.05,121 100.94,121 101.86,121 \" fill=\"none\" id=\"E4-to-E5\" style=\"stroke:#181818;stroke-width:1.0;stroke-dasharray:7.0,7.0;\"/><polygon fill=\"#181818\" points=\"106.96,121,97.96,117,101.96,121,97.96,125,106.96,121\" style=\"stroke:#181818;stroke-width:1.0;\"/></a></g><!--MD5=[9120cf2e5df3bff93db8f754bbbc09b4]\n",
       "link E5 to E6--><g id=\"link_E5_E6\"><a href=\"psysml:418b7d58-d850-4614-9e9d-1c793842a2dd\" target=\"_top\" title=\"psysml:418b7d58-d850-4614-9e9d-1c793842a2dd\" xlink:actuate=\"onRequest\" xlink:href=\"psysml:418b7d58-d850-4614-9e9d-1c793842a2dd\" xlink:show=\"new\" xlink:title=\"psysml:418b7d58-d850-4614-9e9d-1c793842a2dd\" xlink:type=\"simple\"><path d=\"M115.14,124.14 C117.67,126.67 121.5,130.5 125.75,134.75 \" fill=\"none\" id=\"E5-to-E6\" style=\"stroke:#181818;stroke-width:1.0;stroke-dasharray:7.0,7.0;\"/><polygon fill=\"#181818\" points=\"129.4,138.4,125.8645,129.2076,125.8645,134.8645,120.2076,134.8645,129.4,138.4\" style=\"stroke:#181818;stroke-width:1.0;\"/></a></g><!--MD5=[3a9b96bfbf6b6ad89c494e81751bda47]\n",
       "link E5 to E7--><g id=\"link_E5_E7\"><a href=\"psysml:a0ea5228-fdc9-49fd-bb96-6ce22cf44d00\" target=\"_top\" title=\"psysml:a0ea5228-fdc9-49fd-bb96-6ce22cf44d00\" xlink:actuate=\"onRequest\" xlink:href=\"psysml:a0ea5228-fdc9-49fd-bb96-6ce22cf44d00\" xlink:show=\"new\" xlink:title=\"psysml:a0ea5228-fdc9-49fd-bb96-6ce22cf44d00\" xlink:type=\"simple\"><path d=\"M115.14,117.86 C117.67,115.33 121.5,111.5 125.75,107.25 \" fill=\"none\" id=\"E5-to-E7\" style=\"stroke:#181818;stroke-width:1.0;stroke-dasharray:7.0,7.0;\"/><polygon fill=\"#181818\" points=\"129.4,103.6,120.2076,107.1355,125.8645,107.1355,125.8645,112.7924,129.4,103.6\" style=\"stroke:#181818;stroke-width:1.0;\"/></a></g><!--MD5=[a1e6dcadde28424d263a40deb34a4260]\n",
       "@startuml\r\n",
       "skin sysmlbw\r\n",
       "skinparam monochrome true\r\n",
       "skinparam wrapWidth 300\r\n",
       "hide circle\r\n",
       "left to right direction\r\n",
       "skinparam ranksep 8\r\n",
       "\r\n",
       "rec def \"ControlNodeTest\" as E1  <<(T,blue) action  def>> [[psysml:fb29792e-912d-4ab4-a64b-8ae4f88f6031 ]] {\r\n",
       "rec usage \"A1\" as E2  <<(T,blue) action>> [[psysml:fe1ec0cc-95d8-48f7-a7e5-aef83e3da3f9 ]] {\r\n",
       "}\r\n",
       "\r\n",
       "rec usage \"A2\" as E3  <<(T,blue) action>> [[psysml:c0a5c6df-be9c-4195-8c1c-0f8f015b3130 ]] {\r\n",
       "}\r\n",
       "\r\n",
       "join \"J\" as E4  [[psysml:3bd09aec-2544-46ae-936d-01aed8eb96e7 ]] \r\n",
       "fork \"F\" as E5  [[psysml:17702565-4e67-4d00-9c2e-cf91774b37d5 ]] \r\n",
       "rec usage \"B1\" as E6  <<(T,blue) action>> [[psysml:2e4137e4-9d77-4a25-b719-c29e464dbfc7 ]] {\r\n",
       "}\r\n",
       "\r\n",
       "rec usage \"B2\" as E7  <<(T,blue) action>> [[psysml:22fc935b-3ced-457d-8850-10eb2e62808c ]] {\r\n",
       "}\r\n",
       "\r\n",
       "}\r\n",
       "\r\n",
       "E2 ..> E4 [[psysml:f9bcfb7b-138a-4058-8879-7210022ba40a ]] \r\n",
       "E3 ..> E4 [[psysml:6481bc83-60df-4dde-906c-a5becb339116 ]] \r\n",
       "E4 ..> E5 [[psysml:091dd6b1-b372-46ae-b0ca-4e4aa94aac13 ]] \r\n",
       "E5 ..> E6 [[psysml:418b7d58-d850-4614-9e9d-1c793842a2dd ]] \r\n",
       "E5 ..> E7 [[psysml:a0ea5228-fdc9-49fd-bb96-6ce22cf44d00 ]] \r\n",
       "@enduml\r\n",
       "\n",
       "PlantUML version 1.2022.7(Mon Aug 22 17:01:30 UTC 2022)\n",
       "(EPL source distribution)\n",
       "Java Runtime: OpenJDK Runtime Environment\n",
       "JVM: OpenJDK 64-Bit Server VM\n",
       "Default Encoding: UTF-8\n",
       "Language: en\n",
       "Country: null\n",
       "--></g></svg>"
      ]
     },
     "execution_count": 20,
     "metadata": {},
     "output_type": "execute_result"
    }
   ],
   "source": [
    "%viz --style=\"LR\" --view=\"Action\" \"ControlNodeTest\""
   ]
  },
  {
   "cell_type": "code",
   "execution_count": 21,
   "id": "c09406e7",
   "metadata": {
    "execution": {
     "iopub.execute_input": "2024-12-16T14:20:24.776051Z",
     "iopub.status.busy": "2024-12-16T14:20:24.775805Z",
     "iopub.status.idle": "2024-12-16T14:20:24.781769Z",
     "shell.execute_reply": "2024-12-16T14:20:24.781599Z"
    }
   },
   "outputs": [
    {
     "data": {
      "image/svg+xml": [
       "<?xml version=\"1.0\" encoding=\"UTF-8\" standalone=\"no\"?><svg xmlns=\"http://www.w3.org/2000/svg\" xmlns:xlink=\"http://www.w3.org/1999/xlink\" contentStyleType=\"text/css\" height=\"10px\" preserveAspectRatio=\"none\" style=\"width:10px;height:10px;background:#FFFFFF;\" version=\"1.1\" viewBox=\"0 0 10 10\" width=\"10px\" zoomAndPan=\"magnify\"><defs/><g><!--MD5=[3d7abb46b795db4c9d99c7acf425de78]\n",
       "@startuml\r\n",
       "skin sysmlbw\r\n",
       "skinparam monochrome true\r\n",
       "skinparam wrapWidth 300\r\n",
       "hide circle\r\n",
       "left to right direction\r\n",
       "skinparam roundcorner 20\r\n",
       "skinparam BoxPadding 20\r\n",
       "skinparam SequenceBoxBackgroundColor #white\r\n",
       "skinparam style strictuml\r\n",
       "skinparam maxMessageSize 100\r\n",
       "\r\n",
       "@enduml\r\n",
       "\n",
       "PlantUML version 1.2022.7(Mon Aug 22 17:01:30 UTC 2022)\n",
       "(EPL source distribution)\n",
       "Java Runtime: OpenJDK Runtime Environment\n",
       "JVM: OpenJDK 64-Bit Server VM\n",
       "Default Encoding: UTF-8\n",
       "Language: en\n",
       "Country: null\n",
       "--></g></svg>"
      ]
     },
     "execution_count": 21,
     "metadata": {},
     "output_type": "execute_result"
    }
   ],
   "source": [
    "%viz --style=\"LR\" --view=\"Sequence\" \"ControlNodeTest\""
   ]
  },
  {
   "cell_type": "code",
   "execution_count": 22,
   "id": "76e23f9f",
   "metadata": {
    "execution": {
     "iopub.execute_input": "2024-12-16T14:20:24.838040Z",
     "iopub.status.busy": "2024-12-16T14:20:24.837788Z",
     "iopub.status.idle": "2024-12-16T14:20:24.855272Z",
     "shell.execute_reply": "2024-12-16T14:20:24.855096Z"
    }
   },
   "outputs": [
    {
     "data": {
      "image/svg+xml": [
       "<?xml version=\"1.0\" encoding=\"UTF-8\" standalone=\"no\"?><svg xmlns=\"http://www.w3.org/2000/svg\" xmlns:xlink=\"http://www.w3.org/1999/xlink\" contentStyleType=\"text/css\" height=\"206px\" preserveAspectRatio=\"none\" style=\"width:362px;height:206px;background:#FFFFFF;\" version=\"1.1\" viewBox=\"0 0 362 206\" width=\"362px\" zoomAndPan=\"magnify\"><defs/><g><!--MD5=[fbc87193dbaf4d95561dea2c320d4a47]\n",
       "cluster E1--><g id=\"cluster_E1\"><a href=\"psysml:fb29792e-912d-4ab4-a64b-8ae4f88f6031\" target=\"_top\" title=\"psysml:fb29792e-912d-4ab4-a64b-8ae4f88f6031\" xlink:actuate=\"onRequest\" xlink:href=\"psysml:fb29792e-912d-4ab4-a64b-8ae4f88f6031\" xlink:show=\"new\" xlink:title=\"psysml:fb29792e-912d-4ab4-a64b-8ae4f88f6031\" xlink:type=\"simple\"><rect fill=\"#FFFFFF\" height=\"193\" id=\"E1\" style=\"stroke:#383838;stroke-width:1.5;\" width=\"348\" x=\"7\" y=\"7\"/><text fill=\"#000000\" font-family=\"sans-serif\" font-size=\"12\" font-style=\"italic\" lengthAdjust=\"spacing\" textLength=\"81\" x=\"140.5\" y=\"23.1387\">«action  def»</text><text fill=\"#000000\" font-family=\"sans-serif\" font-size=\"14\" lengthAdjust=\"spacing\" textLength=\"118\" x=\"122\" y=\"38.9639\">ControlNodeTest</text><line style=\"stroke:#383838;stroke-width:1.0;\" x1=\"7\" x2=\"355\" y1=\"47.2656\" y2=\"47.2656\"/></a></g><rect fill=\"#555555\" height=\"80\" style=\"stroke:none;stroke-width:1.0;\" width=\"8\" x=\"143\" y=\"81\"/><rect fill=\"#555555\" height=\"80\" style=\"stroke:none;stroke-width:1.0;\" width=\"8\" x=\"211\" y=\"81\"/><g><a href=\"psysml:fe1ec0cc-95d8-48f7-a7e5-aef83e3da3f9\" target=\"_top\" title=\"psysml:fe1ec0cc-95d8-48f7-a7e5-aef83e3da3f9\" xlink:actuate=\"onRequest\" xlink:href=\"psysml:fe1ec0cc-95d8-48f7-a7e5-aef83e3da3f9\" xlink:show=\"new\" xlink:title=\"psysml:fe1ec0cc-95d8-48f7-a7e5-aef83e3da3f9\" xlink:type=\"simple\"><rect fill=\"#FFFFFF\" height=\"45.2656\" id=\"E2\" rx=\"10\" ry=\"10\" style=\"stroke:#383838;stroke-width:1.5;\" width=\"60\" x=\"23\" y=\"58.5\"/><text fill=\"#000000\" font-family=\"sans-serif\" font-size=\"12\" font-style=\"italic\" lengthAdjust=\"spacing\" textLength=\"53\" x=\"26.5\" y=\"74.6387\">«action»</text><text fill=\"#000000\" font-family=\"sans-serif\" font-size=\"14\" lengthAdjust=\"spacing\" textLength=\"18\" x=\"44\" y=\"90.4639\">A1</text></a></g><g><a href=\"psysml:c0a5c6df-be9c-4195-8c1c-0f8f015b3130\" target=\"_top\" title=\"psysml:c0a5c6df-be9c-4195-8c1c-0f8f015b3130\" xlink:actuate=\"onRequest\" xlink:href=\"psysml:c0a5c6df-be9c-4195-8c1c-0f8f015b3130\" xlink:show=\"new\" xlink:title=\"psysml:c0a5c6df-be9c-4195-8c1c-0f8f015b3130\" xlink:type=\"simple\"><rect fill=\"#FFFFFF\" height=\"45.2656\" id=\"E3\" rx=\"10\" ry=\"10\" style=\"stroke:#383838;stroke-width:1.5;\" width=\"60\" x=\"23\" y=\"138.5\"/><text fill=\"#000000\" font-family=\"sans-serif\" font-size=\"12\" font-style=\"italic\" lengthAdjust=\"spacing\" textLength=\"53\" x=\"26.5\" y=\"154.6387\">«action»</text><text fill=\"#000000\" font-family=\"sans-serif\" font-size=\"14\" lengthAdjust=\"spacing\" textLength=\"18\" x=\"44\" y=\"170.4639\">A2</text></a></g><g><a href=\"psysml:2e4137e4-9d77-4a25-b719-c29e464dbfc7\" target=\"_top\" title=\"psysml:2e4137e4-9d77-4a25-b719-c29e464dbfc7\" xlink:actuate=\"onRequest\" xlink:href=\"psysml:2e4137e4-9d77-4a25-b719-c29e464dbfc7\" xlink:show=\"new\" xlink:title=\"psysml:2e4137e4-9d77-4a25-b719-c29e464dbfc7\" xlink:type=\"simple\"><rect fill=\"#FFFFFF\" height=\"45.2656\" id=\"E6\" rx=\"10\" ry=\"10\" style=\"stroke:#383838;stroke-width:1.5;\" width=\"60\" x=\"279\" y=\"138.5\"/><text fill=\"#000000\" font-family=\"sans-serif\" font-size=\"12\" font-style=\"italic\" lengthAdjust=\"spacing\" textLength=\"53\" x=\"282.5\" y=\"154.6387\">«action»</text><text fill=\"#000000\" font-family=\"sans-serif\" font-size=\"14\" lengthAdjust=\"spacing\" textLength=\"19\" x=\"299.5\" y=\"170.4639\">B1</text></a></g><g><a href=\"psysml:22fc935b-3ced-457d-8850-10eb2e62808c\" target=\"_top\" title=\"psysml:22fc935b-3ced-457d-8850-10eb2e62808c\" xlink:actuate=\"onRequest\" xlink:href=\"psysml:22fc935b-3ced-457d-8850-10eb2e62808c\" xlink:show=\"new\" xlink:title=\"psysml:22fc935b-3ced-457d-8850-10eb2e62808c\" xlink:type=\"simple\"><rect fill=\"#FFFFFF\" height=\"45.2656\" id=\"E7\" rx=\"10\" ry=\"10\" style=\"stroke:#383838;stroke-width:1.5;\" width=\"60\" x=\"279\" y=\"58.5\"/><text fill=\"#000000\" font-family=\"sans-serif\" font-size=\"12\" font-style=\"italic\" lengthAdjust=\"spacing\" textLength=\"53\" x=\"282.5\" y=\"74.6387\">«action»</text><text fill=\"#000000\" font-family=\"sans-serif\" font-size=\"14\" lengthAdjust=\"spacing\" textLength=\"19\" x=\"299.5\" y=\"90.4639\">B2</text></a></g><!--MD5=[4d03bb2d0377dc85ccfab60ff574652b]\n",
       "link E2 to E4--><g id=\"link_E2_E4\"><a href=\"psysml:f9bcfb7b-138a-4058-8879-7210022ba40a\" target=\"_top\" title=\"psysml:f9bcfb7b-138a-4058-8879-7210022ba40a\" xlink:actuate=\"onRequest\" xlink:href=\"psysml:f9bcfb7b-138a-4058-8879-7210022ba40a\" xlink:show=\"new\" xlink:title=\"psysml:f9bcfb7b-138a-4058-8879-7210022ba40a\" xlink:type=\"simple\"><path d=\"M83.11,93.66 C102.1,101.91 125.55,112.11 137.75,117.41 \" fill=\"none\" id=\"E2-to-E4\" style=\"stroke:#181818;stroke-width:1.0;\"/><polygon fill=\"#181818\" points=\"142.51,119.48,135.8595,112.2156,137.9269,117.4812,132.6614,119.5485,142.51,119.48\" style=\"stroke:#181818;stroke-width:1.0;\"/></a></g><!--MD5=[af87c684e3b0d8be13c1a698a818ef1e]\n",
       "link E3 to E4--><g id=\"link_E3_E4\"><a href=\"psysml:6481bc83-60df-4dde-906c-a5becb339116\" target=\"_top\" title=\"psysml:6481bc83-60df-4dde-906c-a5becb339116\" xlink:actuate=\"onRequest\" xlink:href=\"psysml:6481bc83-60df-4dde-906c-a5becb339116\" xlink:show=\"new\" xlink:title=\"psysml:6481bc83-60df-4dde-906c-a5becb339116\" xlink:type=\"simple\"><path d=\"M83.11,148.34 C102.1,140.09 125.55,129.89 137.75,124.59 \" fill=\"none\" id=\"E3-to-E4\" style=\"stroke:#181818;stroke-width:1.0;\"/><polygon fill=\"#181818\" points=\"142.51,122.52,132.6614,122.4515,137.9269,124.5188,135.8595,129.7844,142.51,122.52\" style=\"stroke:#181818;stroke-width:1.0;\"/></a></g><!--MD5=[1b7591eae5389033d8d09a9d6721a717]\n",
       "link E4 to E5--><g id=\"link_E4_E5\"><a href=\"psysml:091dd6b1-b372-46ae-b0ca-4e4aa94aac13\" target=\"_top\" title=\"psysml:091dd6b1-b372-46ae-b0ca-4e4aa94aac13\" xlink:actuate=\"onRequest\" xlink:href=\"psysml:091dd6b1-b372-46ae-b0ca-4e4aa94aac13\" xlink:show=\"new\" xlink:title=\"psysml:091dd6b1-b372-46ae-b0ca-4e4aa94aac13\" xlink:type=\"simple\"><path d=\"M151.18,121 C160.92,121 190.52,121 205.34,121 \" fill=\"none\" id=\"E4-to-E5\" style=\"stroke:#181818;stroke-width:1.0;\"/><polygon fill=\"#181818\" points=\"210.69,121,201.69,117,205.69,121,201.69,125,210.69,121\" style=\"stroke:#181818;stroke-width:1.0;\"/></a></g><!--MD5=[9120cf2e5df3bff93db8f754bbbc09b4]\n",
       "link E5 to E6--><g id=\"link_E5_E6\"><a href=\"psysml:418b7d58-d850-4614-9e9d-1c793842a2dd\" target=\"_top\" title=\"psysml:418b7d58-d850-4614-9e9d-1c793842a2dd\" xlink:actuate=\"onRequest\" xlink:href=\"psysml:418b7d58-d850-4614-9e9d-1c793842a2dd\" xlink:show=\"new\" xlink:title=\"psysml:418b7d58-d850-4614-9e9d-1c793842a2dd\" xlink:type=\"simple\"><path d=\"M219.06,122.33 C227.64,126.06 252.69,136.95 274.03,146.23 \" fill=\"none\" id=\"E5-to-E6\" style=\"stroke:#181818;stroke-width:1.0;\"/><polygon fill=\"#181818\" points=\"278.8,148.3,272.1495,141.0356,274.2169,146.3012,268.9514,148.3685,278.8,148.3\" style=\"stroke:#181818;stroke-width:1.0;\"/></a></g><!--MD5=[3a9b96bfbf6b6ad89c494e81751bda47]\n",
       "link E5 to E7--><g id=\"link_E5_E7\"><a href=\"psysml:a0ea5228-fdc9-49fd-bb96-6ce22cf44d00\" target=\"_top\" title=\"psysml:a0ea5228-fdc9-49fd-bb96-6ce22cf44d00\" xlink:actuate=\"onRequest\" xlink:href=\"psysml:a0ea5228-fdc9-49fd-bb96-6ce22cf44d00\" xlink:show=\"new\" xlink:title=\"psysml:a0ea5228-fdc9-49fd-bb96-6ce22cf44d00\" xlink:type=\"simple\"><path d=\"M219.06,119.67 C227.64,115.94 252.69,105.05 274.03,95.77 \" fill=\"none\" id=\"E5-to-E7\" style=\"stroke:#181818;stroke-width:1.0;\"/><polygon fill=\"#181818\" points=\"278.8,93.7,268.9514,93.6315,274.2169,95.6988,272.1495,100.9644,278.8,93.7\" style=\"stroke:#181818;stroke-width:1.0;\"/></a></g><!--MD5=[32af27e3505625f22cdd7d3f056ad309]\n",
       "@startuml\r\n",
       "skin sysmlbw\r\n",
       "skinparam monochrome true\r\n",
       "skinparam wrapWidth 300\r\n",
       "hide circle\r\n",
       "left to right direction\r\n",
       "\r\n",
       "rec def \"ControlNodeTest\" as E1  <<(T,blue) action  def>> [[psysml:fb29792e-912d-4ab4-a64b-8ae4f88f6031 ]] {\r\n",
       "rec usage \"A1\" as E2  <<(T,blue) action>> [[psysml:fe1ec0cc-95d8-48f7-a7e5-aef83e3da3f9 ]] {\r\n",
       "}\r\n",
       "\r\n",
       "rec usage \"A2\" as E3  <<(T,blue) action>> [[psysml:c0a5c6df-be9c-4195-8c1c-0f8f015b3130 ]] {\r\n",
       "}\r\n",
       "\r\n",
       "join \"J\" as E4  [[psysml:3bd09aec-2544-46ae-936d-01aed8eb96e7 ]] \r\n",
       "fork \"F\" as E5  [[psysml:17702565-4e67-4d00-9c2e-cf91774b37d5 ]] \r\n",
       "rec usage \"B1\" as E6  <<(T,blue) action>> [[psysml:2e4137e4-9d77-4a25-b719-c29e464dbfc7 ]] {\r\n",
       "}\r\n",
       "\r\n",
       "rec usage \"B2\" as E7  <<(T,blue) action>> [[psysml:22fc935b-3ced-457d-8850-10eb2e62808c ]] {\r\n",
       "}\r\n",
       "\r\n",
       "}\r\n",
       "\r\n",
       "E2 - -> E4 [[psysml:f9bcfb7b-138a-4058-8879-7210022ba40a ]] \r\n",
       "E3 - -> E4 [[psysml:6481bc83-60df-4dde-906c-a5becb339116 ]] \r\n",
       "E4 - -> E5 [[psysml:091dd6b1-b372-46ae-b0ca-4e4aa94aac13 ]] \r\n",
       "E5 - -> E6 [[psysml:418b7d58-d850-4614-9e9d-1c793842a2dd ]] \r\n",
       "E5 - -> E7 [[psysml:a0ea5228-fdc9-49fd-bb96-6ce22cf44d00 ]] \r\n",
       "@enduml\r\n",
       "\n",
       "PlantUML version 1.2022.7(Mon Aug 22 17:01:30 UTC 2022)\n",
       "(EPL source distribution)\n",
       "Java Runtime: OpenJDK Runtime Environment\n",
       "JVM: OpenJDK 64-Bit Server VM\n",
       "Default Encoding: UTF-8\n",
       "Language: en\n",
       "Country: null\n",
       "--></g></svg>"
      ]
     },
     "execution_count": 22,
     "metadata": {},
     "output_type": "execute_result"
    }
   ],
   "source": [
    "%viz --style=\"LR\" --view=\"MIXED\" \"ControlNodeTest\""
   ]
  },
  {
   "cell_type": "code",
   "execution_count": 23,
   "id": "1148f112",
   "metadata": {
    "execution": {
     "iopub.execute_input": "2024-12-16T14:20:24.911512Z",
     "iopub.status.busy": "2024-12-16T14:20:24.911271Z",
     "iopub.status.idle": "2024-12-16T14:20:24.933330Z",
     "shell.execute_reply": "2024-12-16T14:20:24.932477Z"
    }
   },
   "outputs": [
    {
     "data": {
      "image/svg+xml": [
       "<?xml version=\"1.0\" encoding=\"UTF-8\" standalone=\"no\"?><svg xmlns=\"http://www.w3.org/2000/svg\" xmlns:xlink=\"http://www.w3.org/1999/xlink\" contentStyleType=\"text/css\" height=\"372px\" preserveAspectRatio=\"none\" style=\"width:206px;height:372px;background:#FFFFFF;\" version=\"1.1\" viewBox=\"0 0 206 372\" width=\"206px\" zoomAndPan=\"magnify\"><defs><filter height=\"300%\" id=\"f1cc4kn8h4ka44\" width=\"300%\" x=\"-1\" y=\"-1\"><feGaussianBlur result=\"blurOut\" stdDeviation=\"2.0\"/><feColorMatrix in=\"blurOut\" result=\"blurOut2\" type=\"matrix\" values=\"0 0 0 0 0 0 0 0 0 0 0 0 0 0 0 0 0 0 .4 0\"/><feOffset dx=\"4.0\" dy=\"4.0\" in=\"blurOut2\" result=\"blurOut3\"/><feBlend in=\"SourceGraphic\" in2=\"blurOut3\" mode=\"normal\"/></filter></defs><g><!--MD5=[fbc87193dbaf4d95561dea2c320d4a47]\n",
       "cluster E1--><g id=\"cluster_E1\"><a href=\"psysml:fb29792e-912d-4ab4-a64b-8ae4f88f6031\" target=\"_top\" title=\"psysml:fb29792e-912d-4ab4-a64b-8ae4f88f6031\" xlink:actuate=\"onRequest\" xlink:href=\"psysml:fb29792e-912d-4ab4-a64b-8ae4f88f6031\" xlink:show=\"new\" xlink:title=\"psysml:fb29792e-912d-4ab4-a64b-8ae4f88f6031\" xlink:type=\"simple\"><rect fill=\"#FFFFFF\" filter=\"url(#f1cc4kn8h4ka44)\" height=\"353\" id=\"E1\" style=\"stroke:#A80036;stroke-width:1.5;\" width=\"187\" x=\"7\" y=\"7\"/><rect fill=\"#FFFACD\" height=\"40.2656\" style=\"stroke:#A80036;stroke-width:1.5;\" width=\"187\" x=\"7\" y=\"7\"/><text fill=\"#000000\" font-family=\"sans-serif\" font-size=\"12\" font-style=\"italic\" lengthAdjust=\"spacing\" textLength=\"81\" x=\"60\" y=\"23.1387\">«action  def»</text><text fill=\"#000000\" font-family=\"sans-serif\" font-size=\"14\" lengthAdjust=\"spacing\" textLength=\"118\" x=\"41.5\" y=\"38.9639\">ControlNodeTest</text></a></g><rect fill=\"#555555\" filter=\"url(#f1cc4kn8h4ka44)\" height=\"8\" style=\"stroke:none;stroke-width:1.0;\" width=\"80\" x=\"60\" y=\"163\"/><rect fill=\"#555555\" filter=\"url(#f1cc4kn8h4ka44)\" height=\"8\" style=\"stroke:none;stroke-width:1.0;\" width=\"80\" x=\"60\" y=\"231\"/><g><a href=\"psysml:fe1ec0cc-95d8-48f7-a7e5-aef83e3da3f9\" target=\"_top\" title=\"psysml:fe1ec0cc-95d8-48f7-a7e5-aef83e3da3f9\" xlink:actuate=\"onRequest\" xlink:href=\"psysml:fe1ec0cc-95d8-48f7-a7e5-aef83e3da3f9\" xlink:show=\"new\" xlink:title=\"psysml:fe1ec0cc-95d8-48f7-a7e5-aef83e3da3f9\" xlink:type=\"simple\"><rect fill=\"#FFFACD\" filter=\"url(#f1cc4kn8h4ka44)\" height=\"45.2656\" id=\"E2\" rx=\"10\" ry=\"10\" style=\"stroke:#A80036;stroke-width:1.5;\" width=\"60\" x=\"118\" y=\"58\"/><text fill=\"#000000\" font-family=\"sans-serif\" font-size=\"12\" font-style=\"italic\" lengthAdjust=\"spacing\" textLength=\"53\" x=\"121.5\" y=\"74.1387\">«action»</text><text fill=\"#000000\" font-family=\"sans-serif\" font-size=\"14\" lengthAdjust=\"spacing\" textLength=\"18\" x=\"139\" y=\"89.9639\">A1</text></a></g><g><a href=\"psysml:c0a5c6df-be9c-4195-8c1c-0f8f015b3130\" target=\"_top\" title=\"psysml:c0a5c6df-be9c-4195-8c1c-0f8f015b3130\" xlink:actuate=\"onRequest\" xlink:href=\"psysml:c0a5c6df-be9c-4195-8c1c-0f8f015b3130\" xlink:show=\"new\" xlink:title=\"psysml:c0a5c6df-be9c-4195-8c1c-0f8f015b3130\" xlink:type=\"simple\"><rect fill=\"#FFFACD\" filter=\"url(#f1cc4kn8h4ka44)\" height=\"45.2656\" id=\"E3\" rx=\"10\" ry=\"10\" style=\"stroke:#A80036;stroke-width:1.5;\" width=\"60\" x=\"23\" y=\"58\"/><text fill=\"#000000\" font-family=\"sans-serif\" font-size=\"12\" font-style=\"italic\" lengthAdjust=\"spacing\" textLength=\"53\" x=\"26.5\" y=\"74.1387\">«action»</text><text fill=\"#000000\" font-family=\"sans-serif\" font-size=\"14\" lengthAdjust=\"spacing\" textLength=\"18\" x=\"44\" y=\"89.9639\">A2</text></a></g><g><a href=\"psysml:2e4137e4-9d77-4a25-b719-c29e464dbfc7\" target=\"_top\" title=\"psysml:2e4137e4-9d77-4a25-b719-c29e464dbfc7\" xlink:actuate=\"onRequest\" xlink:href=\"psysml:2e4137e4-9d77-4a25-b719-c29e464dbfc7\" xlink:show=\"new\" xlink:title=\"psysml:2e4137e4-9d77-4a25-b719-c29e464dbfc7\" xlink:type=\"simple\"><rect fill=\"#FFFACD\" filter=\"url(#f1cc4kn8h4ka44)\" height=\"45.2656\" id=\"E6\" rx=\"10\" ry=\"10\" style=\"stroke:#A80036;stroke-width:1.5;\" width=\"60\" x=\"23\" y=\"299\"/><text fill=\"#000000\" font-family=\"sans-serif\" font-size=\"12\" font-style=\"italic\" lengthAdjust=\"spacing\" textLength=\"53\" x=\"26.5\" y=\"315.1387\">«action»</text><text fill=\"#000000\" font-family=\"sans-serif\" font-size=\"14\" lengthAdjust=\"spacing\" textLength=\"19\" x=\"43.5\" y=\"330.9639\">B1</text></a></g><g><a href=\"psysml:22fc935b-3ced-457d-8850-10eb2e62808c\" target=\"_top\" title=\"psysml:22fc935b-3ced-457d-8850-10eb2e62808c\" xlink:actuate=\"onRequest\" xlink:href=\"psysml:22fc935b-3ced-457d-8850-10eb2e62808c\" xlink:show=\"new\" xlink:title=\"psysml:22fc935b-3ced-457d-8850-10eb2e62808c\" xlink:type=\"simple\"><rect fill=\"#FFFACD\" filter=\"url(#f1cc4kn8h4ka44)\" height=\"45.2656\" id=\"E7\" rx=\"10\" ry=\"10\" style=\"stroke:#A80036;stroke-width:1.5;\" width=\"60\" x=\"118\" y=\"299\"/><text fill=\"#000000\" font-family=\"sans-serif\" font-size=\"12\" font-style=\"italic\" lengthAdjust=\"spacing\" textLength=\"53\" x=\"121.5\" y=\"315.1387\">«action»</text><text fill=\"#000000\" font-family=\"sans-serif\" font-size=\"14\" lengthAdjust=\"spacing\" textLength=\"19\" x=\"138.5\" y=\"330.9639\">B2</text></a></g><!--MD5=[4d03bb2d0377dc85ccfab60ff574652b]\n",
       "link E2 to E4--><g id=\"link_E2_E4\"><a href=\"psysml:f9bcfb7b-138a-4058-8879-7210022ba40a\" target=\"_top\" title=\"psysml:f9bcfb7b-138a-4058-8879-7210022ba40a\" xlink:actuate=\"onRequest\" xlink:href=\"psysml:f9bcfb7b-138a-4058-8879-7210022ba40a\" xlink:show=\"new\" xlink:title=\"psysml:f9bcfb7b-138a-4058-8879-7210022ba40a\" xlink:type=\"simple\"><path d=\"M135.64,103.26 C125.33,121.4 111.25,146.19 104.28,158.47 \" fill=\"none\" id=\"E2-to-E4\" style=\"stroke:#181818;stroke-width:1.0;\"/><polygon fill=\"#181818\" points=\"101.75,162.91,109.6779,157.0663,104.223,158.5644,102.7249,153.1095,101.75,162.91\" style=\"stroke:#181818;stroke-width:1.0;\"/></a></g><!--MD5=[af87c684e3b0d8be13c1a698a818ef1e]\n",
       "link E3 to E4--><g id=\"link_E3_E4\"><a href=\"psysml:6481bc83-60df-4dde-906c-a5becb339116\" target=\"_top\" title=\"psysml:6481bc83-60df-4dde-906c-a5becb339116\" xlink:actuate=\"onRequest\" xlink:href=\"psysml:6481bc83-60df-4dde-906c-a5becb339116\" xlink:show=\"new\" xlink:title=\"psysml:6481bc83-60df-4dde-906c-a5becb339116\" xlink:type=\"simple\"><path d=\"M65.1,103.26 C75.19,121.4 88.98,146.19 95.81,158.47 \" fill=\"none\" id=\"E3-to-E4\" style=\"stroke:#181818;stroke-width:1.0;\"/><polygon fill=\"#181818\" points=\"98.28,162.91,97.3814,153.1022,95.8409,158.5453,90.3978,157.0048,98.28,162.91\" style=\"stroke:#181818;stroke-width:1.0;\"/></a></g><!--MD5=[1b7591eae5389033d8d09a9d6721a717]\n",
       "link E4 to E5--><g id=\"link_E4_E5\"><a href=\"psysml:091dd6b1-b372-46ae-b0ca-4e4aa94aac13\" target=\"_top\" title=\"psysml:091dd6b1-b372-46ae-b0ca-4e4aa94aac13\" xlink:actuate=\"onRequest\" xlink:href=\"psysml:091dd6b1-b372-46ae-b0ca-4e4aa94aac13\" xlink:show=\"new\" xlink:title=\"psysml:091dd6b1-b372-46ae-b0ca-4e4aa94aac13\" xlink:type=\"simple\"><path d=\"M100,171.18 C100,180.92 100,210.52 100,225.34 \" fill=\"none\" id=\"E4-to-E5\" style=\"stroke:#181818;stroke-width:1.0;\"/><polygon fill=\"#181818\" points=\"100,230.69,104,221.69,100,225.69,96,221.69,100,230.69\" style=\"stroke:#181818;stroke-width:1.0;\"/></a></g><!--MD5=[9120cf2e5df3bff93db8f754bbbc09b4]\n",
       "link E5 to E6--><g id=\"link_E5_E6\"><a href=\"psysml:418b7d58-d850-4614-9e9d-1c793842a2dd\" target=\"_top\" title=\"psysml:418b7d58-d850-4614-9e9d-1c793842a2dd\" xlink:actuate=\"onRequest\" xlink:href=\"psysml:418b7d58-d850-4614-9e9d-1c793842a2dd\" xlink:show=\"new\" xlink:title=\"psysml:418b7d58-d850-4614-9e9d-1c793842a2dd\" xlink:type=\"simple\"><path d=\"M98.21,239.21 C93.23,248.18 78.77,274.17 67.53,294.37 \" fill=\"none\" id=\"E5-to-E6\" style=\"stroke:#181818;stroke-width:1.0;\"/><polygon fill=\"#181818\" points=\"65.04,298.85,72.9074,292.9252,67.4682,294.4792,65.9142,289.04,65.04,298.85\" style=\"stroke:#181818;stroke-width:1.0;\"/></a></g><!--MD5=[3a9b96bfbf6b6ad89c494e81751bda47]\n",
       "link E5 to E7--><g id=\"link_E5_E7\"><a href=\"psysml:a0ea5228-fdc9-49fd-bb96-6ce22cf44d00\" target=\"_top\" title=\"psysml:a0ea5228-fdc9-49fd-bb96-6ce22cf44d00\" xlink:actuate=\"onRequest\" xlink:href=\"psysml:a0ea5228-fdc9-49fd-bb96-6ce22cf44d00\" xlink:show=\"new\" xlink:title=\"psysml:a0ea5228-fdc9-49fd-bb96-6ce22cf44d00\" xlink:type=\"simple\"><path d=\"M101.82,239.21 C106.92,248.18 121.68,274.17 133.16,294.37 \" fill=\"none\" id=\"E5-to-E7\" style=\"stroke:#181818;stroke-width:1.0;\"/><polygon fill=\"#181818\" points=\"135.7,298.85,134.7251,289.0495,133.227,294.5044,127.7721,293.0063,135.7,298.85\" style=\"stroke:#181818;stroke-width:1.0;\"/></a></g><!--MD5=[55ab44200c58140b41b6d92ba6bdc208]\n",
       "@startuml\r\n",
       "skin sysmlc\r\n",
       "skinparam wrapWidth 300\r\n",
       "hide circle\r\n",
       "\r\n",
       "rec def \"ControlNodeTest\" as E1  <<(T,blue) action  def>> [[psysml:fb29792e-912d-4ab4-a64b-8ae4f88f6031 ]] {\r\n",
       "rec usage \"A1\" as E2  <<(T,blue) action>> [[psysml:fe1ec0cc-95d8-48f7-a7e5-aef83e3da3f9 ]] {\r\n",
       "}\r\n",
       "\r\n",
       "rec usage \"A2\" as E3  <<(T,blue) action>> [[psysml:c0a5c6df-be9c-4195-8c1c-0f8f015b3130 ]] {\r\n",
       "}\r\n",
       "\r\n",
       "join \"J\" as E4  [[psysml:3bd09aec-2544-46ae-936d-01aed8eb96e7 ]] \r\n",
       "fork \"F\" as E5  [[psysml:17702565-4e67-4d00-9c2e-cf91774b37d5 ]] \r\n",
       "rec usage \"B1\" as E6  <<(T,blue) action>> [[psysml:2e4137e4-9d77-4a25-b719-c29e464dbfc7 ]] {\r\n",
       "}\r\n",
       "\r\n",
       "rec usage \"B2\" as E7  <<(T,blue) action>> [[psysml:22fc935b-3ced-457d-8850-10eb2e62808c ]] {\r\n",
       "}\r\n",
       "\r\n",
       "}\r\n",
       "\r\n",
       "E2 - -> E4 [[psysml:f9bcfb7b-138a-4058-8879-7210022ba40a ]] \r\n",
       "E3 - -> E4 [[psysml:6481bc83-60df-4dde-906c-a5becb339116 ]] \r\n",
       "E4 - -> E5 [[psysml:091dd6b1-b372-46ae-b0ca-4e4aa94aac13 ]] \r\n",
       "E5 - -> E6 [[psysml:418b7d58-d850-4614-9e9d-1c793842a2dd ]] \r\n",
       "E5 - -> E7 [[psysml:a0ea5228-fdc9-49fd-bb96-6ce22cf44d00 ]] \r\n",
       "@enduml\r\n",
       "\n",
       "PlantUML version 1.2022.7(Mon Aug 22 17:01:30 UTC 2022)\n",
       "(EPL source distribution)\n",
       "Java Runtime: OpenJDK Runtime Environment\n",
       "JVM: OpenJDK 64-Bit Server VM\n",
       "Default Encoding: UTF-8\n",
       "Language: en\n",
       "Country: null\n",
       "--></g></svg>"
      ]
     },
     "execution_count": 23,
     "metadata": {},
     "output_type": "execute_result"
    }
   ],
   "source": [
    "%viz --style=\"STDCOLOR\" --view=\"Default\" \"ControlNodeTest\""
   ]
  },
  {
   "cell_type": "code",
   "execution_count": 24,
   "id": "19e10b52",
   "metadata": {
    "execution": {
     "iopub.execute_input": "2024-12-16T14:20:24.986010Z",
     "iopub.status.busy": "2024-12-16T14:20:24.985795Z",
     "iopub.status.idle": "2024-12-16T14:20:25.012458Z",
     "shell.execute_reply": "2024-12-16T14:20:25.011600Z"
    }
   },
   "outputs": [
    {
     "data": {
      "image/svg+xml": [
       "<?xml version=\"1.0\" encoding=\"UTF-8\" standalone=\"no\"?><svg xmlns=\"http://www.w3.org/2000/svg\" xmlns:xlink=\"http://www.w3.org/1999/xlink\" contentStyleType=\"text/css\" height=\"591px\" preserveAspectRatio=\"none\" style=\"width:401px;height:591px;background:#FFFFFF;\" version=\"1.1\" viewBox=\"0 0 401 591\" width=\"401px\" zoomAndPan=\"magnify\"><defs><filter height=\"300%\" id=\"fk50nc20vzbad\" width=\"300%\" x=\"-1\" y=\"-1\"><feGaussianBlur result=\"blurOut\" stdDeviation=\"2.0\"/><feColorMatrix in=\"blurOut\" result=\"blurOut2\" type=\"matrix\" values=\"0 0 0 0 0 0 0 0 0 0 0 0 0 0 0 0 0 0 .4 0\"/><feOffset dx=\"4.0\" dy=\"4.0\" in=\"blurOut2\" result=\"blurOut3\"/><feBlend in=\"SourceGraphic\" in2=\"blurOut3\" mode=\"normal\"/></filter></defs><g><!--MD5=[43c9051892ef23e1a46a86907403d788]\n",
       "class E1--><a href=\"psysml:fb29792e-912d-4ab4-a64b-8ae4f88f6031\" target=\"_top\" title=\"psysml:fb29792e-912d-4ab4-a64b-8ae4f88f6031\" xlink:actuate=\"onRequest\" xlink:href=\"psysml:fb29792e-912d-4ab4-a64b-8ae4f88f6031\" xlink:show=\"new\" xlink:title=\"psysml:fb29792e-912d-4ab4-a64b-8ae4f88f6031\" xlink:type=\"simple\"><g id=\"elem_E1\"><rect fill=\"#FFFACD\" filter=\"url(#fk50nc20vzbad)\" height=\"140.2688\" id=\"E1\" style=\"stroke:#181818;stroke-width:0.5;\" width=\"169\" x=\"157.41\" y=\"7\"/><text fill=\"#000000\" font-family=\"sans-serif\" font-size=\"12\" font-style=\"italic\" lengthAdjust=\"spacing\" textLength=\"81\" x=\"201.41\" y=\"23.1387\">«action  def»</text><text fill=\"#000000\" font-family=\"sans-serif\" font-size=\"14\" lengthAdjust=\"spacing\" textLength=\"118\" x=\"182.91\" y=\"38.9639\">ControlNodeTest</text><line style=\"stroke:#181818;stroke-width:0.5;\" x1=\"158.41\" x2=\"325.41\" y1=\"47.2656\" y2=\"47.2656\"/><text fill=\"#000000\" font-family=\"sans-serif\" font-size=\"14\" lengthAdjust=\"spacing\" textLength=\"151\" x=\"163.41\" y=\"74.7795\">noname first A1 then J</text><text fill=\"#000000\" font-family=\"sans-serif\" font-size=\"14\" lengthAdjust=\"spacing\" textLength=\"151\" x=\"163.41\" y=\"91.0764\">noname first A2 then J</text><text fill=\"#000000\" font-family=\"sans-serif\" font-size=\"14\" lengthAdjust=\"spacing\" textLength=\"141\" x=\"163.41\" y=\"107.3732\">noname first J then F</text><text fill=\"#000000\" font-family=\"sans-serif\" font-size=\"14\" lengthAdjust=\"spacing\" textLength=\"157\" x=\"163.41\" y=\"123.6701\">noname first F then B1</text><text fill=\"#000000\" font-family=\"sans-serif\" font-size=\"14\" lengthAdjust=\"spacing\" textLength=\"157\" x=\"163.41\" y=\"139.967\">noname first F then B2</text><text fill=\"#000000\" font-family=\"sans-serif\" font-size=\"14\" font-style=\"italic\" lengthAdjust=\"spacing\" textLength=\"87\" x=\"198.41\" y=\"59.6123\">successions</text></g></a><!--MD5=[b4997ac47864f28c2f74865a473b2911]\n",
       "class E2--><a href=\"psysml:fe1ec0cc-95d8-48f7-a7e5-aef83e3da3f9\" target=\"_top\" title=\"psysml:fe1ec0cc-95d8-48f7-a7e5-aef83e3da3f9\" xlink:actuate=\"onRequest\" xlink:href=\"psysml:fe1ec0cc-95d8-48f7-a7e5-aef83e3da3f9\" xlink:show=\"new\" xlink:title=\"psysml:fe1ec0cc-95d8-48f7-a7e5-aef83e3da3f9\" xlink:type=\"simple\"><g id=\"elem_E2\"><rect fill=\"#FFFACD\" filter=\"url(#fk50nc20vzbad)\" height=\"48.2656\" id=\"E2\" rx=\"10\" ry=\"10\" style=\"stroke:#181818;stroke-width:0.5;\" width=\"55\" x=\"84.41\" y=\"207\"/><text fill=\"#000000\" font-family=\"sans-serif\" font-size=\"12\" font-style=\"italic\" lengthAdjust=\"spacing\" textLength=\"53\" x=\"85.41\" y=\"223.1387\">«action»</text><text fill=\"#000000\" font-family=\"sans-serif\" font-size=\"14\" lengthAdjust=\"spacing\" textLength=\"18\" x=\"98.91\" y=\"238.9639\">A1</text><line style=\"stroke:#181818;stroke-width:0.5;\" x1=\"85.41\" x2=\"138.41\" y1=\"247.2656\" y2=\"247.2656\"/></g></a><!--MD5=[09b614a08d8cba4a07c9adeb5e0fee81]\n",
       "class E3--><a href=\"psysml:c0a5c6df-be9c-4195-8c1c-0f8f015b3130\" target=\"_top\" title=\"psysml:c0a5c6df-be9c-4195-8c1c-0f8f015b3130\" xlink:actuate=\"onRequest\" xlink:href=\"psysml:c0a5c6df-be9c-4195-8c1c-0f8f015b3130\" xlink:show=\"new\" xlink:title=\"psysml:c0a5c6df-be9c-4195-8c1c-0f8f015b3130\" xlink:type=\"simple\"><g id=\"elem_E3\"><rect fill=\"#FFFACD\" filter=\"url(#fk50nc20vzbad)\" height=\"48.2656\" id=\"E3\" rx=\"10\" ry=\"10\" style=\"stroke:#181818;stroke-width:0.5;\" width=\"55\" x=\"174.41\" y=\"207\"/><text fill=\"#000000\" font-family=\"sans-serif\" font-size=\"12\" font-style=\"italic\" lengthAdjust=\"spacing\" textLength=\"53\" x=\"175.41\" y=\"223.1387\">«action»</text><text fill=\"#000000\" font-family=\"sans-serif\" font-size=\"14\" lengthAdjust=\"spacing\" textLength=\"18\" x=\"188.91\" y=\"238.9639\">A2</text><line style=\"stroke:#181818;stroke-width:0.5;\" x1=\"175.41\" x2=\"228.41\" y1=\"247.2656\" y2=\"247.2656\"/></g></a><!--MD5=[ebbe1d658d1005bcc118a6aa81145e00]\n",
       "class E4--><a href=\"psysml:3bd09aec-2544-46ae-936d-01aed8eb96e7\" target=\"_top\" title=\"psysml:3bd09aec-2544-46ae-936d-01aed8eb96e7\" xlink:actuate=\"onRequest\" xlink:href=\"psysml:3bd09aec-2544-46ae-936d-01aed8eb96e7\" xlink:show=\"new\" xlink:title=\"psysml:3bd09aec-2544-46ae-936d-01aed8eb96e7\" xlink:type=\"simple\"><g id=\"elem_E4\"><rect fill=\"#FFFACD\" filter=\"url(#fk50nc20vzbad)\" height=\"48.2656\" id=\"E4\" rx=\"10\" ry=\"10\" style=\"stroke:#181818;stroke-width:0.5;\" width=\"74\" x=\"195.91\" y=\"315\"/><text fill=\"#000000\" font-family=\"sans-serif\" font-size=\"12\" font-style=\"italic\" lengthAdjust=\"spacing\" textLength=\"72\" x=\"196.91\" y=\"331.1387\">«join node»</text><text fill=\"#000000\" font-family=\"sans-serif\" font-size=\"14\" lengthAdjust=\"spacing\" textLength=\"3\" x=\"227.41\" y=\"346.9639\">J</text><line style=\"stroke:#181818;stroke-width:0.5;\" x1=\"196.91\" x2=\"268.91\" y1=\"355.2656\" y2=\"355.2656\"/></g></a><!--MD5=[270fce915f116d4de14055a7c1d9a0f3]\n",
       "class E5--><a href=\"psysml:17702565-4e67-4d00-9c2e-cf91774b37d5\" target=\"_top\" title=\"psysml:17702565-4e67-4d00-9c2e-cf91774b37d5\" xlink:actuate=\"onRequest\" xlink:href=\"psysml:17702565-4e67-4d00-9c2e-cf91774b37d5\" xlink:show=\"new\" xlink:title=\"psysml:17702565-4e67-4d00-9c2e-cf91774b37d5\" xlink:type=\"simple\"><g id=\"elem_E5\"><rect fill=\"#FFFACD\" filter=\"url(#fk50nc20vzbad)\" height=\"48.2656\" id=\"E5\" rx=\"10\" ry=\"10\" style=\"stroke:#181818;stroke-width:0.5;\" width=\"76\" x=\"260.91\" y=\"423\"/><text fill=\"#000000\" font-family=\"sans-serif\" font-size=\"12\" font-style=\"italic\" lengthAdjust=\"spacing\" textLength=\"74\" x=\"261.91\" y=\"439.1387\">«fork node»</text><text fill=\"#000000\" font-family=\"sans-serif\" font-size=\"14\" lengthAdjust=\"spacing\" textLength=\"8\" x=\"290.91\" y=\"454.9639\">F</text><line style=\"stroke:#181818;stroke-width:0.5;\" x1=\"261.91\" x2=\"335.91\" y1=\"463.2656\" y2=\"463.2656\"/></g></a><!--MD5=[60a26617385b1d2d0262a64233df1f8d]\n",
       "class E6--><a href=\"psysml:2e4137e4-9d77-4a25-b719-c29e464dbfc7\" target=\"_top\" title=\"psysml:2e4137e4-9d77-4a25-b719-c29e464dbfc7\" xlink:actuate=\"onRequest\" xlink:href=\"psysml:2e4137e4-9d77-4a25-b719-c29e464dbfc7\" xlink:show=\"new\" xlink:title=\"psysml:2e4137e4-9d77-4a25-b719-c29e464dbfc7\" xlink:type=\"simple\"><g id=\"elem_E6\"><rect fill=\"#FFFACD\" filter=\"url(#fk50nc20vzbad)\" height=\"48.2656\" id=\"E6\" rx=\"10\" ry=\"10\" style=\"stroke:#181818;stroke-width:0.5;\" width=\"55\" x=\"204.41\" y=\"531\"/><text fill=\"#000000\" font-family=\"sans-serif\" font-size=\"12\" font-style=\"italic\" lengthAdjust=\"spacing\" textLength=\"53\" x=\"205.41\" y=\"547.1387\">«action»</text><text fill=\"#000000\" font-family=\"sans-serif\" font-size=\"14\" lengthAdjust=\"spacing\" textLength=\"19\" x=\"218.41\" y=\"562.9639\">B1</text><line style=\"stroke:#181818;stroke-width:0.5;\" x1=\"205.41\" x2=\"258.41\" y1=\"571.2656\" y2=\"571.2656\"/></g></a><!--MD5=[2156ba9850f5573cc1fc38a6a4b2f02b]\n",
       "class E7--><a href=\"psysml:22fc935b-3ced-457d-8850-10eb2e62808c\" target=\"_top\" title=\"psysml:22fc935b-3ced-457d-8850-10eb2e62808c\" xlink:actuate=\"onRequest\" xlink:href=\"psysml:22fc935b-3ced-457d-8850-10eb2e62808c\" xlink:show=\"new\" xlink:title=\"psysml:22fc935b-3ced-457d-8850-10eb2e62808c\" xlink:type=\"simple\"><g id=\"elem_E7\"><rect fill=\"#FFFACD\" filter=\"url(#fk50nc20vzbad)\" height=\"48.2656\" id=\"E7\" rx=\"10\" ry=\"10\" style=\"stroke:#181818;stroke-width:0.5;\" width=\"55\" x=\"334.41\" y=\"531\"/><text fill=\"#000000\" font-family=\"sans-serif\" font-size=\"12\" font-style=\"italic\" lengthAdjust=\"spacing\" textLength=\"53\" x=\"335.41\" y=\"547.1387\">«action»</text><text fill=\"#000000\" font-family=\"sans-serif\" font-size=\"14\" lengthAdjust=\"spacing\" textLength=\"19\" x=\"348.41\" y=\"562.9639\">B2</text><line style=\"stroke:#181818;stroke-width:0.5;\" x1=\"335.41\" x2=\"388.41\" y1=\"571.2656\" y2=\"571.2656\"/></g></a><!--MD5=[a523cb2a0b79ecf9065ad8783f96c320]\n",
       "reverse link E1 to E2--><g id=\"link_E1_E2\"><a href=\"psysml:9306702f-37ef-4fdd-b535-5b953ffb2d58\" target=\"_top\" title=\"psysml:9306702f-37ef-4fdd-b535-5b953ffb2d58\" xlink:actuate=\"onRequest\" xlink:href=\"psysml:9306702f-37ef-4fdd-b535-5b953ffb2d58\" xlink:show=\"new\" xlink:title=\"psysml:9306702f-37ef-4fdd-b535-5b953ffb2d58\" xlink:type=\"simple\"><path d=\"M173.99,157.41 C158.47,175.56 143.18,193.45 131.65,206.92 \" fill=\"none\" id=\"E1-backto-E2\" style=\"stroke:#181818;stroke-width:1.0;\"/><polygon fill=\"#181818\" points=\"182.62,147.33,175.6817,149.2948,174.8268,156.455,181.7651,154.4902,182.62,147.33\" style=\"stroke:#181818;stroke-width:1.0;\"/></a></g><!--MD5=[5d7b3810b1dd9b5164bea1151b29b665]\n",
       "reverse link E1 to E3--><g id=\"link_E1_E3\"><a href=\"psysml:ff946dee-4dd2-48de-88dc-ec164dbbdf2e\" target=\"_top\" title=\"psysml:ff946dee-4dd2-48de-88dc-ec164dbbdf2e\" xlink:actuate=\"onRequest\" xlink:href=\"psysml:ff946dee-4dd2-48de-88dc-ec164dbbdf2e\" xlink:show=\"new\" xlink:title=\"psysml:ff946dee-4dd2-48de-88dc-ec164dbbdf2e\" xlink:type=\"simple\"><path d=\"M220.35,159.93 C215.81,177.2 211.37,194.07 207.98,206.92 \" fill=\"none\" id=\"E1-backto-E3\" style=\"stroke:#181818;stroke-width:1.0;\"/><polygon fill=\"#181818\" points=\"223.67,147.33,218.2726,152.1121,220.6109,158.9335,226.0083,154.1515,223.67,147.33\" style=\"stroke:#181818;stroke-width:1.0;\"/></a></g><!--MD5=[4d03bb2d0377dc85ccfab60ff574652b]\n",
       "link E2 to E4--><g id=\"link_E2_E4\"><a href=\"psysml:f9bcfb7b-138a-4058-8879-7210022ba40a\" target=\"_top\" title=\"psysml:f9bcfb7b-138a-4058-8879-7210022ba40a\" xlink:actuate=\"onRequest\" xlink:href=\"psysml:f9bcfb7b-138a-4058-8879-7210022ba40a\" xlink:show=\"new\" xlink:title=\"psysml:f9bcfb7b-138a-4058-8879-7210022ba40a\" xlink:type=\"simple\"><path d=\"M138.17,255 C157.06,271.55 182.61,293.93 202.41,311.28 \" fill=\"none\" id=\"E2-to-E4\" style=\"stroke:#181818;stroke-width:1.0;\"/><polygon fill=\"#181818\" points=\"206.29,314.68,202.1484,305.7443,202.5262,311.3885,196.882,311.7663,206.29,314.68\" style=\"stroke:#181818;stroke-width:1.0;\"/></a></g><!--MD5=[af87c684e3b0d8be13c1a698a818ef1e]\n",
       "link E3 to E4--><g id=\"link_E3_E4\"><a href=\"psysml:6481bc83-60df-4dde-906c-a5becb339116\" target=\"_top\" title=\"psysml:6481bc83-60df-4dde-906c-a5becb339116\" xlink:actuate=\"onRequest\" xlink:href=\"psysml:6481bc83-60df-4dde-906c-a5becb339116\" xlink:show=\"new\" xlink:title=\"psysml:6481bc83-60df-4dde-906c-a5becb339116\" xlink:type=\"simple\"><path d=\"M208.64,255 C213.32,271 219.59,292.45 224.58,309.53 \" fill=\"none\" id=\"E3-to-E4\" style=\"stroke:#181818;stroke-width:1.0;\"/><polygon fill=\"#181818\" points=\"226.09,314.68,227.41,304.92,224.69,309.88,219.73,307.16,226.09,314.68\" style=\"stroke:#181818;stroke-width:1.0;\"/></a></g><!--MD5=[f2c5c03aa1e8c0ba21c10a05e6444b8e]\n",
       "reverse link E1 to E4--><g id=\"link_E1_E4\"><a href=\"psysml:c17bb3db-0b7d-4d5b-b917-165c66d3be23\" target=\"_top\" title=\"psysml:c17bb3db-0b7d-4d5b-b917-165c66d3be23\" xlink:actuate=\"onRequest\" xlink:href=\"psysml:c17bb3db-0b7d-4d5b-b917-165c66d3be23\" xlink:show=\"new\" xlink:title=\"psysml:c17bb3db-0b7d-4d5b-b917-165c66d3be23\" xlink:type=\"simple\"><path d=\"M248.04,160.02 C249.27,189.95 249.5,224.05 246.91,255 C245.2,275.39 241.18,298.3 237.88,314.88 \" fill=\"none\" id=\"E1-backto-E4\" style=\"stroke:#181818;stroke-width:1.0;\"/><polygon fill=\"#181818\" points=\"247.43,147.03,243.7112,153.2082,247.9839,159.0172,251.7027,152.839,247.43,147.03\" style=\"stroke:#181818;stroke-width:1.0;\"/></a></g><!--MD5=[1b7591eae5389033d8d09a9d6721a717]\n",
       "link E4 to E5--><g id=\"link_E4_E5\"><a href=\"psysml:091dd6b1-b372-46ae-b0ca-4e4aa94aac13\" target=\"_top\" title=\"psysml:091dd6b1-b372-46ae-b0ca-4e4aa94aac13\" xlink:actuate=\"onRequest\" xlink:href=\"psysml:091dd6b1-b372-46ae-b0ca-4e4aa94aac13\" xlink:show=\"new\" xlink:title=\"psysml:091dd6b1-b372-46ae-b0ca-4e4aa94aac13\" xlink:type=\"simple\"><path d=\"M247.23,363 C257.37,379.28 271.01,401.19 281.73,418.41 \" fill=\"none\" id=\"E4-to-E5\" style=\"stroke:#181818;stroke-width:1.0;\"/><polygon fill=\"#181818\" points=\"284.39,422.68,283.0268,412.9259,281.7464,418.436,276.2364,417.1557,284.39,422.68\" style=\"stroke:#181818;stroke-width:1.0;\"/></a></g><!--MD5=[33238bef88d6431a141d8bc8fb12bca0]\n",
       "reverse link E1 to E5--><g id=\"link_E1_E5\"><a href=\"psysml:75ce6460-81e3-4fd8-b178-253d08d4aaea\" target=\"_top\" title=\"psysml:75ce6460-81e3-4fd8-b178-253d08d4aaea\" xlink:actuate=\"onRequest\" xlink:href=\"psysml:75ce6460-81e3-4fd8-b178-253d08d4aaea\" xlink:show=\"new\" xlink:title=\"psysml:75ce6460-81e3-4fd8-b178-253d08d4aaea\" xlink:type=\"simple\"><path d=\"M262.87,159.92 C266.49,175.5 270.02,191.71 272.91,207 C287.73,285.33 294.91,379.82 297.6,422.75 \" fill=\"none\" id=\"E1-backto-E5\" style=\"stroke:#181818;stroke-width:1.0;\"/><polygon fill=\"#181818\" points=\"259.82,147.02,257.3116,153.7808,262.5876,158.6965,265.0959,151.9357,259.82,147.02\" style=\"stroke:#181818;stroke-width:1.0;\"/></a></g><!--MD5=[9120cf2e5df3bff93db8f754bbbc09b4]\n",
       "link E5 to E6--><g id=\"link_E5_E6\"><a href=\"psysml:418b7d58-d850-4614-9e9d-1c793842a2dd\" target=\"_top\" title=\"psysml:418b7d58-d850-4614-9e9d-1c793842a2dd\" xlink:actuate=\"onRequest\" xlink:href=\"psysml:418b7d58-d850-4614-9e9d-1c793842a2dd\" xlink:show=\"new\" xlink:title=\"psysml:418b7d58-d850-4614-9e9d-1c793842a2dd\" xlink:type=\"simple\"><path d=\"M284.37,471 C274.08,487.28 260.24,509.19 249.35,526.41 \" fill=\"none\" id=\"E5-to-E6\" style=\"stroke:#181818;stroke-width:1.0;\"/><polygon fill=\"#181818\" points=\"246.65,530.68,254.8386,525.2076,249.3205,526.4529,248.0752,520.9348,246.65,530.68\" style=\"stroke:#181818;stroke-width:1.0;\"/></a></g><!--MD5=[aca2ef284c2b1b90e17e73bf3f292c07]\n",
       "reverse link E1 to E6--><g id=\"link_E1_E6\"><a href=\"psysml:cbe5f5cb-386f-45e5-9c39-bb1873a128f8\" target=\"_top\" title=\"psysml:cbe5f5cb-386f-45e5-9c39-bb1873a128f8\" xlink:actuate=\"onRequest\" xlink:href=\"psysml:cbe5f5cb-386f-45e5-9c39-bb1873a128f8\" xlink:show=\"new\" xlink:title=\"psysml:cbe5f5cb-386f-45e5-9c39-bb1873a128f8\" xlink:type=\"simple\"><path d=\"M146.12,125.13 C115.02,145.67 84.12,172.95 66.91,207 C6,327.57 144.69,474.51 205.32,530.67 \" fill=\"none\" id=\"E1-backto-E6\" style=\"stroke:#181818;stroke-width:1.0;\"/><polygon fill=\"#181818\" points=\"157.1,118.15,149.8906,117.9917,146.9717,124.5857,154.1811,124.7439,157.1,118.15\" style=\"stroke:#181818;stroke-width:1.0;\"/></a></g><!--MD5=[3a9b96bfbf6b6ad89c494e81751bda47]\n",
       "link E5 to E7--><g id=\"link_E5_E7\"><a href=\"psysml:a0ea5228-fdc9-49fd-bb96-6ce22cf44d00\" target=\"_top\" title=\"psysml:a0ea5228-fdc9-49fd-bb96-6ce22cf44d00\" xlink:actuate=\"onRequest\" xlink:href=\"psysml:a0ea5228-fdc9-49fd-bb96-6ce22cf44d00\" xlink:show=\"new\" xlink:title=\"psysml:a0ea5228-fdc9-49fd-bb96-6ce22cf44d00\" xlink:type=\"simple\"><path d=\"M312.58,471 C322.17,487.14 335.06,508.82 345.25,525.97 \" fill=\"none\" id=\"E5-to-E7\" style=\"stroke:#181818;stroke-width:1.0;\"/><polygon fill=\"#181818\" points=\"348.05,530.68,346.9119,520.8971,345.5049,526.3762,340.0258,524.9693,348.05,530.68\" style=\"stroke:#181818;stroke-width:1.0;\"/></a></g><!--MD5=[fc9706a6b2cf8c0e423679d303750d3f]\n",
       "reverse link E1 to E7--><g id=\"link_E1_E7\"><a href=\"psysml:65a1f468-5d54-43ed-9b56-c01a515fc6bb\" target=\"_top\" title=\"psysml:65a1f468-5d54-43ed-9b56-c01a515fc6bb\" xlink:actuate=\"onRequest\" xlink:href=\"psysml:65a1f468-5d54-43ed-9b56-c01a515fc6bb\" xlink:show=\"new\" xlink:title=\"psysml:65a1f468-5d54-43ed-9b56-c01a515fc6bb\" xlink:type=\"simple\"><path d=\"M282.74,159.54 C289.69,175.08 296.42,191.37 301.91,207 C334.69,300.26 340.43,325.22 354.91,423 C360.45,460.4 361.75,504.38 361.98,530.68 \" fill=\"none\" id=\"E1-backto-E7\" style=\"stroke:#181818;stroke-width:1.0;\"/><polygon fill=\"#181818\" points=\"277.14,147.27,275.9859,154.3881,282.1126,158.1912,283.2667,151.0731,277.14,147.27\" style=\"stroke:#181818;stroke-width:1.0;\"/></a></g><!--MD5=[650b4c48267ea0de2681819f1073ad59]\n",
       "@startuml\r\n",
       "skin sysmlc\r\n",
       "skinparam wrapWidth 300\r\n",
       "hide circle\r\n",
       "\r\n",
       "comp def \"ControlNodeTest\" as E1  <<(T,blue) action  def>> [[psysml:fb29792e-912d-4ab4-a64b-8ae4f88f6031 ]] {\r\n",
       "##//successions//##\r\n",
       "noname first A1 then J\r\n",
       "noname first A2 then J\r\n",
       "noname first J then F\r\n",
       "noname first F then B1\r\n",
       "noname first F then B2\r\n",
       "}\r\n",
       "comp usage \"A1  \" as E2  <<(T,blue) action>> [[psysml:fe1ec0cc-95d8-48f7-a7e5-aef83e3da3f9 ]] {\r\n",
       "}\r\n",
       "comp usage \"A2  \" as E3  <<(T,blue) action>> [[psysml:c0a5c6df-be9c-4195-8c1c-0f8f015b3130 ]] {\r\n",
       "}\r\n",
       "comp usage \"J  \" as E4  <<(T,blue) join node>> [[psysml:3bd09aec-2544-46ae-936d-01aed8eb96e7 ]] {\r\n",
       "}\r\n",
       "comp usage \"F  \" as E5  <<(T,blue) fork node>> [[psysml:17702565-4e67-4d00-9c2e-cf91774b37d5 ]] {\r\n",
       "}\r\n",
       "comp usage \"B1  \" as E6  <<(T,blue) action>> [[psysml:2e4137e4-9d77-4a25-b719-c29e464dbfc7 ]] {\r\n",
       "}\r\n",
       "comp usage \"B2  \" as E7  <<(T,blue) action>> [[psysml:22fc935b-3ced-457d-8850-10eb2e62808c ]] {\r\n",
       "}\r\n",
       "E1 *- - E2 [[psysml:9306702f-37ef-4fdd-b535-5b953ffb2d58 ]] \r\n",
       "E1 *- - E3 [[psysml:ff946dee-4dd2-48de-88dc-ec164dbbdf2e ]] \r\n",
       "E2 - -> E4 [[psysml:f9bcfb7b-138a-4058-8879-7210022ba40a ]] \r\n",
       "E3 - -> E4 [[psysml:6481bc83-60df-4dde-906c-a5becb339116 ]] \r\n",
       "E1 *- - E4 [[psysml:c17bb3db-0b7d-4d5b-b917-165c66d3be23 ]] \r\n",
       "E4 - -> E5 [[psysml:091dd6b1-b372-46ae-b0ca-4e4aa94aac13 ]] \r\n",
       "E1 *- - E5 [[psysml:75ce6460-81e3-4fd8-b178-253d08d4aaea ]] \r\n",
       "E5 - -> E6 [[psysml:418b7d58-d850-4614-9e9d-1c793842a2dd ]] \r\n",
       "E1 *- - E6 [[psysml:cbe5f5cb-386f-45e5-9c39-bb1873a128f8 ]] \r\n",
       "E5 - -> E7 [[psysml:a0ea5228-fdc9-49fd-bb96-6ce22cf44d00 ]] \r\n",
       "E1 *- - E7 [[psysml:65a1f468-5d54-43ed-9b56-c01a515fc6bb ]] \r\n",
       "@enduml\r\n",
       "\n",
       "PlantUML version 1.2022.7(Mon Aug 22 17:01:30 UTC 2022)\n",
       "(EPL source distribution)\n",
       "Java Runtime: OpenJDK Runtime Environment\n",
       "JVM: OpenJDK 64-Bit Server VM\n",
       "Default Encoding: UTF-8\n",
       "Language: en\n",
       "Country: null\n",
       "--></g></svg>"
      ]
     },
     "execution_count": 24,
     "metadata": {},
     "output_type": "execute_result"
    }
   ],
   "source": [
    "%viz --style=\"STDCOLOR\" --view=\"Tree\" \"ControlNodeTest\""
   ]
  },
  {
   "cell_type": "code",
   "execution_count": 25,
   "id": "ad0fcb21",
   "metadata": {
    "execution": {
     "iopub.execute_input": "2024-12-16T14:20:25.064069Z",
     "iopub.status.busy": "2024-12-16T14:20:25.063831Z",
     "iopub.status.idle": "2024-12-16T14:20:25.070066Z",
     "shell.execute_reply": "2024-12-16T14:20:25.069894Z"
    }
   },
   "outputs": [
    {
     "data": {
      "image/svg+xml": [
       "<?xml version=\"1.0\" encoding=\"UTF-8\" standalone=\"no\"?><svg xmlns=\"http://www.w3.org/2000/svg\" xmlns:xlink=\"http://www.w3.org/1999/xlink\" contentStyleType=\"text/css\" height=\"10px\" preserveAspectRatio=\"none\" style=\"width:10px;height:10px;background:#FFFFFF;\" version=\"1.1\" viewBox=\"0 0 10 10\" width=\"10px\" zoomAndPan=\"magnify\"><defs/><g><!--MD5=[a1048f16c75022af837d4b7065e6f600]\n",
       "@startuml\r\n",
       "skin sysmlc\r\n",
       "skinparam wrapWidth 300\r\n",
       "hide circle\r\n",
       "\r\n",
       "@enduml\r\n",
       "\n",
       "PlantUML version 1.2022.7(Mon Aug 22 17:01:30 UTC 2022)\n",
       "(EPL source distribution)\n",
       "Java Runtime: OpenJDK Runtime Environment\n",
       "JVM: OpenJDK 64-Bit Server VM\n",
       "Default Encoding: UTF-8\n",
       "Language: en\n",
       "Country: null\n",
       "--></g></svg>"
      ]
     },
     "execution_count": 25,
     "metadata": {},
     "output_type": "execute_result"
    }
   ],
   "source": [
    "%viz --style=\"STDCOLOR\" --view=\"State\" \"ControlNodeTest\""
   ]
  },
  {
   "cell_type": "code",
   "execution_count": 26,
   "id": "380c3c4d",
   "metadata": {
    "execution": {
     "iopub.execute_input": "2024-12-16T14:20:25.123704Z",
     "iopub.status.busy": "2024-12-16T14:20:25.123388Z",
     "iopub.status.idle": "2024-12-16T14:20:25.147185Z",
     "shell.execute_reply": "2024-12-16T14:20:25.146249Z"
    }
   },
   "outputs": [
    {
     "data": {
      "image/svg+xml": [
       "<?xml version=\"1.0\" encoding=\"UTF-8\" standalone=\"no\"?><svg xmlns=\"http://www.w3.org/2000/svg\" xmlns:xlink=\"http://www.w3.org/1999/xlink\" contentStyleType=\"text/css\" height=\"222px\" preserveAspectRatio=\"none\" style=\"width:206px;height:222px;background:#FFFFFF;\" version=\"1.1\" viewBox=\"0 0 206 222\" width=\"206px\" zoomAndPan=\"magnify\"><defs><filter height=\"300%\" id=\"fqydxkn30mlwp\" width=\"300%\" x=\"-1\" y=\"-1\"><feGaussianBlur result=\"blurOut\" stdDeviation=\"2.0\"/><feColorMatrix in=\"blurOut\" result=\"blurOut2\" type=\"matrix\" values=\"0 0 0 0 0 0 0 0 0 0 0 0 0 0 0 0 0 0 .4 0\"/><feOffset dx=\"4.0\" dy=\"4.0\" in=\"blurOut2\" result=\"blurOut3\"/><feBlend in=\"SourceGraphic\" in2=\"blurOut3\" mode=\"normal\"/></filter></defs><g><!--MD5=[fbc87193dbaf4d95561dea2c320d4a47]\n",
       "cluster E1--><g id=\"cluster_E1\"><a href=\"psysml:fb29792e-912d-4ab4-a64b-8ae4f88f6031\" target=\"_top\" title=\"psysml:fb29792e-912d-4ab4-a64b-8ae4f88f6031\" xlink:actuate=\"onRequest\" xlink:href=\"psysml:fb29792e-912d-4ab4-a64b-8ae4f88f6031\" xlink:show=\"new\" xlink:title=\"psysml:fb29792e-912d-4ab4-a64b-8ae4f88f6031\" xlink:type=\"simple\"><rect fill=\"#FFFFFF\" filter=\"url(#fqydxkn30mlwp)\" height=\"203\" id=\"E1\" style=\"stroke:#A80036;stroke-width:1.5;\" width=\"187\" x=\"7\" y=\"7\"/><rect fill=\"#FFFACD\" height=\"40.2656\" style=\"stroke:#A80036;stroke-width:1.5;\" width=\"187\" x=\"7\" y=\"7\"/><text fill=\"#000000\" font-family=\"sans-serif\" font-size=\"12\" font-style=\"italic\" lengthAdjust=\"spacing\" textLength=\"81\" x=\"60\" y=\"23.1387\">«action  def»</text><text fill=\"#000000\" font-family=\"sans-serif\" font-size=\"14\" lengthAdjust=\"spacing\" textLength=\"118\" x=\"41.5\" y=\"38.9639\">ControlNodeTest</text></a></g><rect fill=\"#555555\" filter=\"url(#fqydxkn30mlwp)\" height=\"8\" style=\"stroke:none;stroke-width:1.0;\" width=\"80\" x=\"60\" y=\"113\"/><rect fill=\"#555555\" filter=\"url(#fqydxkn30mlwp)\" height=\"8\" style=\"stroke:none;stroke-width:1.0;\" width=\"80\" x=\"60\" y=\"131\"/><g><a href=\"psysml:fe1ec0cc-95d8-48f7-a7e5-aef83e3da3f9\" target=\"_top\" title=\"psysml:fe1ec0cc-95d8-48f7-a7e5-aef83e3da3f9\" xlink:actuate=\"onRequest\" xlink:href=\"psysml:fe1ec0cc-95d8-48f7-a7e5-aef83e3da3f9\" xlink:show=\"new\" xlink:title=\"psysml:fe1ec0cc-95d8-48f7-a7e5-aef83e3da3f9\" xlink:type=\"simple\"><rect fill=\"#FFFACD\" filter=\"url(#fqydxkn30mlwp)\" height=\"45.2656\" id=\"E2\" rx=\"10\" ry=\"10\" style=\"stroke:#A80036;stroke-width:1.5;\" width=\"60\" x=\"118\" y=\"58\"/><text fill=\"#000000\" font-family=\"sans-serif\" font-size=\"12\" font-style=\"italic\" lengthAdjust=\"spacing\" textLength=\"53\" x=\"121.5\" y=\"74.1387\">«action»</text><text fill=\"#000000\" font-family=\"sans-serif\" font-size=\"14\" lengthAdjust=\"spacing\" textLength=\"18\" x=\"139\" y=\"89.9639\">A1</text></a></g><g><a href=\"psysml:c0a5c6df-be9c-4195-8c1c-0f8f015b3130\" target=\"_top\" title=\"psysml:c0a5c6df-be9c-4195-8c1c-0f8f015b3130\" xlink:actuate=\"onRequest\" xlink:href=\"psysml:c0a5c6df-be9c-4195-8c1c-0f8f015b3130\" xlink:show=\"new\" xlink:title=\"psysml:c0a5c6df-be9c-4195-8c1c-0f8f015b3130\" xlink:type=\"simple\"><rect fill=\"#FFFACD\" filter=\"url(#fqydxkn30mlwp)\" height=\"45.2656\" id=\"E3\" rx=\"10\" ry=\"10\" style=\"stroke:#A80036;stroke-width:1.5;\" width=\"60\" x=\"23\" y=\"58\"/><text fill=\"#000000\" font-family=\"sans-serif\" font-size=\"12\" font-style=\"italic\" lengthAdjust=\"spacing\" textLength=\"53\" x=\"26.5\" y=\"74.1387\">«action»</text><text fill=\"#000000\" font-family=\"sans-serif\" font-size=\"14\" lengthAdjust=\"spacing\" textLength=\"18\" x=\"44\" y=\"89.9639\">A2</text></a></g><g><a href=\"psysml:2e4137e4-9d77-4a25-b719-c29e464dbfc7\" target=\"_top\" title=\"psysml:2e4137e4-9d77-4a25-b719-c29e464dbfc7\" xlink:actuate=\"onRequest\" xlink:href=\"psysml:2e4137e4-9d77-4a25-b719-c29e464dbfc7\" xlink:show=\"new\" xlink:title=\"psysml:2e4137e4-9d77-4a25-b719-c29e464dbfc7\" xlink:type=\"simple\"><rect fill=\"#FFFACD\" filter=\"url(#fqydxkn30mlwp)\" height=\"45.2656\" id=\"E6\" rx=\"10\" ry=\"10\" style=\"stroke:#A80036;stroke-width:1.5;\" width=\"60\" x=\"23\" y=\"149\"/><text fill=\"#000000\" font-family=\"sans-serif\" font-size=\"12\" font-style=\"italic\" lengthAdjust=\"spacing\" textLength=\"53\" x=\"26.5\" y=\"165.1387\">«action»</text><text fill=\"#000000\" font-family=\"sans-serif\" font-size=\"14\" lengthAdjust=\"spacing\" textLength=\"19\" x=\"43.5\" y=\"180.9639\">B1</text></a></g><g><a href=\"psysml:22fc935b-3ced-457d-8850-10eb2e62808c\" target=\"_top\" title=\"psysml:22fc935b-3ced-457d-8850-10eb2e62808c\" xlink:actuate=\"onRequest\" xlink:href=\"psysml:22fc935b-3ced-457d-8850-10eb2e62808c\" xlink:show=\"new\" xlink:title=\"psysml:22fc935b-3ced-457d-8850-10eb2e62808c\" xlink:type=\"simple\"><rect fill=\"#FFFACD\" filter=\"url(#fqydxkn30mlwp)\" height=\"45.2656\" id=\"E7\" rx=\"10\" ry=\"10\" style=\"stroke:#A80036;stroke-width:1.5;\" width=\"60\" x=\"118\" y=\"149\"/><text fill=\"#000000\" font-family=\"sans-serif\" font-size=\"12\" font-style=\"italic\" lengthAdjust=\"spacing\" textLength=\"53\" x=\"121.5\" y=\"165.1387\">«action»</text><text fill=\"#000000\" font-family=\"sans-serif\" font-size=\"14\" lengthAdjust=\"spacing\" textLength=\"19\" x=\"138.5\" y=\"180.9639\">B2</text></a></g><!--MD5=[4d03bb2d0377dc85ccfab60ff574652b]\n",
       "link E2 to E4--><g id=\"link_E2_E4\"><a href=\"psysml:f9bcfb7b-138a-4058-8879-7210022ba40a\" target=\"_top\" title=\"psysml:f9bcfb7b-138a-4058-8879-7210022ba40a\" xlink:actuate=\"onRequest\" xlink:href=\"psysml:f9bcfb7b-138a-4058-8879-7210022ba40a\" xlink:show=\"new\" xlink:title=\"psysml:f9bcfb7b-138a-4058-8879-7210022ba40a\" xlink:type=\"simple\"><path d=\"M117.87,103.15 C114.58,105.52 111.45,107.77 108.75,109.71 \" fill=\"none\" id=\"E2-to-E4\" style=\"stroke:#181818;stroke-width:1.0;\"/><polygon fill=\"#181818\" points=\"104.44,112.81,114.082,110.8019,108.499,109.8904,109.4105,104.3074,104.44,112.81\" style=\"stroke:#181818;stroke-width:1.0;\"/></a></g><!--MD5=[af87c684e3b0d8be13c1a698a818ef1e]\n",
       "link E3 to E4--><g id=\"link_E3_E4\"><a href=\"psysml:6481bc83-60df-4dde-906c-a5becb339116\" target=\"_top\" title=\"psysml:6481bc83-60df-4dde-906c-a5becb339116\" xlink:actuate=\"onRequest\" xlink:href=\"psysml:6481bc83-60df-4dde-906c-a5becb339116\" xlink:show=\"new\" xlink:title=\"psysml:6481bc83-60df-4dde-906c-a5becb339116\" xlink:type=\"simple\"><path d=\"M82.5,103.15 C85.73,105.52 88.79,107.77 91.43,109.71 \" fill=\"none\" id=\"E3-to-E4\" style=\"stroke:#181818;stroke-width:1.0;\"/><polygon fill=\"#181818\" points=\"95.66,112.81,90.7718,104.2599,91.6293,109.8513,86.0379,110.7089,95.66,112.81\" style=\"stroke:#181818;stroke-width:1.0;\"/></a></g><!--MD5=[1b7591eae5389033d8d09a9d6721a717]\n",
       "link E4 to E5--><g id=\"link_E4_E5\"><a href=\"psysml:091dd6b1-b372-46ae-b0ca-4e4aa94aac13\" target=\"_top\" title=\"psysml:091dd6b1-b372-46ae-b0ca-4e4aa94aac13\" xlink:actuate=\"onRequest\" xlink:href=\"psysml:091dd6b1-b372-46ae-b0ca-4e4aa94aac13\" xlink:show=\"new\" xlink:title=\"psysml:091dd6b1-b372-46ae-b0ca-4e4aa94aac13\" xlink:type=\"simple\"><path d=\"M100,121.08 C100,122.38 100,123.95 100,125.55 \" fill=\"none\" id=\"E4-to-E5\" style=\"stroke:#181818;stroke-width:1.0;\"/><polygon fill=\"#181818\" points=\"100,130.7,104,121.7,100,125.7,96,121.7,100,130.7\" style=\"stroke:#181818;stroke-width:1.0;\"/></a></g><!--MD5=[9120cf2e5df3bff93db8f754bbbc09b4]\n",
       "link E5 to E6--><g id=\"link_E5_E6\"><a href=\"psysml:418b7d58-d850-4614-9e9d-1c793842a2dd\" target=\"_top\" title=\"psysml:418b7d58-d850-4614-9e9d-1c793842a2dd\" xlink:actuate=\"onRequest\" xlink:href=\"psysml:418b7d58-d850-4614-9e9d-1c793842a2dd\" xlink:show=\"new\" xlink:title=\"psysml:418b7d58-d850-4614-9e9d-1c793842a2dd\" xlink:type=\"simple\"><path d=\"M95.66,139.18 C93.31,140.91 90.17,143.22 86.65,145.8 \" fill=\"none\" id=\"E5-to-E6\" style=\"stroke:#181818;stroke-width:1.0;\"/><polygon fill=\"#181818\" points=\"82.37,148.94,91.9921,146.8389,86.4007,145.9813,87.2582,140.3899,82.37,148.94\" style=\"stroke:#181818;stroke-width:1.0;\"/></a></g><!--MD5=[3a9b96bfbf6b6ad89c494e81751bda47]\n",
       "link E5 to E7--><g id=\"link_E5_E7\"><a href=\"psysml:a0ea5228-fdc9-49fd-bb96-6ce22cf44d00\" target=\"_top\" title=\"psysml:a0ea5228-fdc9-49fd-bb96-6ce22cf44d00\" xlink:actuate=\"onRequest\" xlink:href=\"psysml:a0ea5228-fdc9-49fd-bb96-6ce22cf44d00\" xlink:show=\"new\" xlink:title=\"psysml:a0ea5228-fdc9-49fd-bb96-6ce22cf44d00\" xlink:type=\"simple\"><path d=\"M104.43,139.18 C106.83,140.91 110.04,143.22 113.64,145.8 \" fill=\"none\" id=\"E5-to-E7\" style=\"stroke:#181818;stroke-width:1.0;\"/><polygon fill=\"#181818\" points=\"118.01,148.94,113.0339,140.4407,113.9491,146.023,108.3667,146.9381,118.01,148.94\" style=\"stroke:#181818;stroke-width:1.0;\"/></a></g><!--MD5=[9ff3938a122abbcc909af9092245d2a2]\n",
       "@startuml\r\n",
       "skin sysmlc\r\n",
       "skinparam wrapWidth 300\r\n",
       "hide circle\r\n",
       "skinparam ranksep 10\r\n",
       "skinparam rectangle {\r\n",
       " backgroundColor<<block>> LightGreen\r\n",
       "}\r\n",
       "\r\n",
       "rec def \"ControlNodeTest\" as E1  <<(T,blue) action  def>> [[psysml:fb29792e-912d-4ab4-a64b-8ae4f88f6031 ]] {\r\n",
       "rec usage \"A1\" as E2  <<(T,blue) action>> [[psysml:fe1ec0cc-95d8-48f7-a7e5-aef83e3da3f9 ]] {\r\n",
       "}\r\n",
       "\r\n",
       "rec usage \"A2\" as E3  <<(T,blue) action>> [[psysml:c0a5c6df-be9c-4195-8c1c-0f8f015b3130 ]] {\r\n",
       "}\r\n",
       "\r\n",
       "join \"J\" as E4  [[psysml:3bd09aec-2544-46ae-936d-01aed8eb96e7 ]] \r\n",
       "fork \"F\" as E5  [[psysml:17702565-4e67-4d00-9c2e-cf91774b37d5 ]] \r\n",
       "rec usage \"B1\" as E6  <<(T,blue) action>> [[psysml:2e4137e4-9d77-4a25-b719-c29e464dbfc7 ]] {\r\n",
       "}\r\n",
       "\r\n",
       "rec usage \"B2\" as E7  <<(T,blue) action>> [[psysml:22fc935b-3ced-457d-8850-10eb2e62808c ]] {\r\n",
       "}\r\n",
       "\r\n",
       "}\r\n",
       "\r\n",
       "E2 - -> E4 [[psysml:f9bcfb7b-138a-4058-8879-7210022ba40a ]] \r\n",
       "E3 - -> E4 [[psysml:6481bc83-60df-4dde-906c-a5becb339116 ]] \r\n",
       "E4 - -> E5 [[psysml:091dd6b1-b372-46ae-b0ca-4e4aa94aac13 ]] \r\n",
       "E5 - -> E6 [[psysml:418b7d58-d850-4614-9e9d-1c793842a2dd ]] \r\n",
       "E5 - -> E7 [[psysml:a0ea5228-fdc9-49fd-bb96-6ce22cf44d00 ]] \r\n",
       "@enduml\r\n",
       "\n",
       "PlantUML version 1.2022.7(Mon Aug 22 17:01:30 UTC 2022)\n",
       "(EPL source distribution)\n",
       "Java Runtime: OpenJDK Runtime Environment\n",
       "JVM: OpenJDK 64-Bit Server VM\n",
       "Default Encoding: UTF-8\n",
       "Language: en\n",
       "Country: null\n",
       "--></g></svg>"
      ]
     },
     "execution_count": 26,
     "metadata": {},
     "output_type": "execute_result"
    }
   ],
   "source": [
    "%viz --style=\"STDCOLOR\" --view=\"Interconnection\" \"ControlNodeTest\""
   ]
  },
  {
   "cell_type": "code",
   "execution_count": 27,
   "id": "20455964",
   "metadata": {
    "execution": {
     "iopub.execute_input": "2024-12-16T14:20:25.200889Z",
     "iopub.status.busy": "2024-12-16T14:20:25.200640Z",
     "iopub.status.idle": "2024-12-16T14:20:25.217862Z",
     "shell.execute_reply": "2024-12-16T14:20:25.217023Z"
    }
   },
   "outputs": [
    {
     "data": {
      "image/svg+xml": [
       "<?xml version=\"1.0\" encoding=\"UTF-8\" standalone=\"no\"?><svg xmlns=\"http://www.w3.org/2000/svg\" xmlns:xlink=\"http://www.w3.org/1999/xlink\" contentStyleType=\"text/css\" height=\"216px\" preserveAspectRatio=\"none\" style=\"width:206px;height:216px;background:#FFFFFF;\" version=\"1.1\" viewBox=\"0 0 206 216\" width=\"206px\" zoomAndPan=\"magnify\"><defs><filter height=\"300%\" id=\"fj8nxxtdynm6j\" width=\"300%\" x=\"-1\" y=\"-1\"><feGaussianBlur result=\"blurOut\" stdDeviation=\"2.0\"/><feColorMatrix in=\"blurOut\" result=\"blurOut2\" type=\"matrix\" values=\"0 0 0 0 0 0 0 0 0 0 0 0 0 0 0 0 0 0 .4 0\"/><feOffset dx=\"4.0\" dy=\"4.0\" in=\"blurOut2\" result=\"blurOut3\"/><feBlend in=\"SourceGraphic\" in2=\"blurOut3\" mode=\"normal\"/></filter></defs><g><!--MD5=[fbc87193dbaf4d95561dea2c320d4a47]\n",
       "cluster E1--><g id=\"cluster_E1\"><a href=\"psysml:fb29792e-912d-4ab4-a64b-8ae4f88f6031\" target=\"_top\" title=\"psysml:fb29792e-912d-4ab4-a64b-8ae4f88f6031\" xlink:actuate=\"onRequest\" xlink:href=\"psysml:fb29792e-912d-4ab4-a64b-8ae4f88f6031\" xlink:show=\"new\" xlink:title=\"psysml:fb29792e-912d-4ab4-a64b-8ae4f88f6031\" xlink:type=\"simple\"><rect fill=\"#FFFFFF\" filter=\"url(#fj8nxxtdynm6j)\" height=\"197\" id=\"E1\" style=\"stroke:#A80036;stroke-width:1.5;\" width=\"187\" x=\"7\" y=\"7\"/><rect fill=\"#FFFACD\" height=\"40.2656\" style=\"stroke:#A80036;stroke-width:1.5;\" width=\"187\" x=\"7\" y=\"7\"/><text fill=\"#000000\" font-family=\"sans-serif\" font-size=\"12\" font-style=\"italic\" lengthAdjust=\"spacing\" textLength=\"81\" x=\"60\" y=\"23.1387\">«action  def»</text><text fill=\"#000000\" font-family=\"sans-serif\" font-size=\"14\" lengthAdjust=\"spacing\" textLength=\"118\" x=\"41.5\" y=\"38.9639\">ControlNodeTest</text></a></g><rect fill=\"#555555\" filter=\"url(#fj8nxxtdynm6j)\" height=\"8\" style=\"stroke:none;stroke-width:1.0;\" width=\"80\" x=\"60\" y=\"111\"/><rect fill=\"#555555\" filter=\"url(#fj8nxxtdynm6j)\" height=\"8\" style=\"stroke:none;stroke-width:1.0;\" width=\"80\" x=\"60\" y=\"127\"/><g><a href=\"psysml:fe1ec0cc-95d8-48f7-a7e5-aef83e3da3f9\" target=\"_top\" title=\"psysml:fe1ec0cc-95d8-48f7-a7e5-aef83e3da3f9\" xlink:actuate=\"onRequest\" xlink:href=\"psysml:fe1ec0cc-95d8-48f7-a7e5-aef83e3da3f9\" xlink:show=\"new\" xlink:title=\"psysml:fe1ec0cc-95d8-48f7-a7e5-aef83e3da3f9\" xlink:type=\"simple\"><rect fill=\"#FFFACD\" filter=\"url(#fj8nxxtdynm6j)\" height=\"45.2656\" id=\"E2\" rx=\"10\" ry=\"10\" style=\"stroke:#A80036;stroke-width:1.5;\" width=\"60\" x=\"118\" y=\"58\"/><text fill=\"#000000\" font-family=\"sans-serif\" font-size=\"12\" font-style=\"italic\" lengthAdjust=\"spacing\" textLength=\"53\" x=\"121.5\" y=\"74.1387\">«action»</text><text fill=\"#000000\" font-family=\"sans-serif\" font-size=\"14\" lengthAdjust=\"spacing\" textLength=\"18\" x=\"139\" y=\"89.9639\">A1</text></a></g><g><a href=\"psysml:c0a5c6df-be9c-4195-8c1c-0f8f015b3130\" target=\"_top\" title=\"psysml:c0a5c6df-be9c-4195-8c1c-0f8f015b3130\" xlink:actuate=\"onRequest\" xlink:href=\"psysml:c0a5c6df-be9c-4195-8c1c-0f8f015b3130\" xlink:show=\"new\" xlink:title=\"psysml:c0a5c6df-be9c-4195-8c1c-0f8f015b3130\" xlink:type=\"simple\"><rect fill=\"#FFFACD\" filter=\"url(#fj8nxxtdynm6j)\" height=\"45.2656\" id=\"E3\" rx=\"10\" ry=\"10\" style=\"stroke:#A80036;stroke-width:1.5;\" width=\"60\" x=\"23\" y=\"58\"/><text fill=\"#000000\" font-family=\"sans-serif\" font-size=\"12\" font-style=\"italic\" lengthAdjust=\"spacing\" textLength=\"53\" x=\"26.5\" y=\"74.1387\">«action»</text><text fill=\"#000000\" font-family=\"sans-serif\" font-size=\"14\" lengthAdjust=\"spacing\" textLength=\"18\" x=\"44\" y=\"89.9639\">A2</text></a></g><g><a href=\"psysml:2e4137e4-9d77-4a25-b719-c29e464dbfc7\" target=\"_top\" title=\"psysml:2e4137e4-9d77-4a25-b719-c29e464dbfc7\" xlink:actuate=\"onRequest\" xlink:href=\"psysml:2e4137e4-9d77-4a25-b719-c29e464dbfc7\" xlink:show=\"new\" xlink:title=\"psysml:2e4137e4-9d77-4a25-b719-c29e464dbfc7\" xlink:type=\"simple\"><rect fill=\"#FFFACD\" filter=\"url(#fj8nxxtdynm6j)\" height=\"45.2656\" id=\"E6\" rx=\"10\" ry=\"10\" style=\"stroke:#A80036;stroke-width:1.5;\" width=\"60\" x=\"23\" y=\"143\"/><text fill=\"#000000\" font-family=\"sans-serif\" font-size=\"12\" font-style=\"italic\" lengthAdjust=\"spacing\" textLength=\"53\" x=\"26.5\" y=\"159.1387\">«action»</text><text fill=\"#000000\" font-family=\"sans-serif\" font-size=\"14\" lengthAdjust=\"spacing\" textLength=\"19\" x=\"43.5\" y=\"174.9639\">B1</text></a></g><g><a href=\"psysml:22fc935b-3ced-457d-8850-10eb2e62808c\" target=\"_top\" title=\"psysml:22fc935b-3ced-457d-8850-10eb2e62808c\" xlink:actuate=\"onRequest\" xlink:href=\"psysml:22fc935b-3ced-457d-8850-10eb2e62808c\" xlink:show=\"new\" xlink:title=\"psysml:22fc935b-3ced-457d-8850-10eb2e62808c\" xlink:type=\"simple\"><rect fill=\"#FFFACD\" filter=\"url(#fj8nxxtdynm6j)\" height=\"45.2656\" id=\"E7\" rx=\"10\" ry=\"10\" style=\"stroke:#A80036;stroke-width:1.5;\" width=\"60\" x=\"118\" y=\"143\"/><text fill=\"#000000\" font-family=\"sans-serif\" font-size=\"12\" font-style=\"italic\" lengthAdjust=\"spacing\" textLength=\"53\" x=\"121.5\" y=\"159.1387\">«action»</text><text fill=\"#000000\" font-family=\"sans-serif\" font-size=\"14\" lengthAdjust=\"spacing\" textLength=\"19\" x=\"138.5\" y=\"174.9639\">B2</text></a></g><!--MD5=[4d03bb2d0377dc85ccfab60ff574652b]\n",
       "link E2 to E4--><g id=\"link_E2_E4\"><a href=\"psysml:f9bcfb7b-138a-4058-8879-7210022ba40a\" target=\"_top\" title=\"psysml:f9bcfb7b-138a-4058-8879-7210022ba40a\" xlink:actuate=\"onRequest\" xlink:href=\"psysml:f9bcfb7b-138a-4058-8879-7210022ba40a\" xlink:show=\"new\" xlink:title=\"psysml:f9bcfb7b-138a-4058-8879-7210022ba40a\" xlink:type=\"simple\"><path d=\"M117.87,101.9 C114.58,104.13 111.45,106.25 108.75,108.07 \" fill=\"none\" id=\"E2-to-E4\" style=\"stroke:#181818;stroke-width:1.0;stroke-dasharray:7.0,7.0;\"/><polygon fill=\"#181818\" points=\"104.44,111,114.1324,109.2515,108.576,108.1904,109.637,102.634,104.44,111\" style=\"stroke:#181818;stroke-width:1.0;\"/></a></g><!--MD5=[af87c684e3b0d8be13c1a698a818ef1e]\n",
       "link E3 to E4--><g id=\"link_E3_E4\"><a href=\"psysml:6481bc83-60df-4dde-906c-a5becb339116\" target=\"_top\" title=\"psysml:6481bc83-60df-4dde-906c-a5becb339116\" xlink:actuate=\"onRequest\" xlink:href=\"psysml:6481bc83-60df-4dde-906c-a5becb339116\" xlink:show=\"new\" xlink:title=\"psysml:6481bc83-60df-4dde-906c-a5becb339116\" xlink:type=\"simple\"><path d=\"M83.03,102.27 C85.94,104.28 88.7,106.18 91.12,107.86 \" fill=\"none\" id=\"E3-to-E4\" style=\"stroke:#181818;stroke-width:1.0;stroke-dasharray:7.0,7.0;\"/><polygon fill=\"#181818\" points=\"95.54,110.91,90.4095,102.503,91.4265,108.0677,85.8618,109.0846,95.54,110.91\" style=\"stroke:#181818;stroke-width:1.0;\"/></a></g><!--MD5=[1b7591eae5389033d8d09a9d6721a717]\n",
       "link E4 to E5--><g id=\"link_E4_E5\"><a href=\"psysml:091dd6b1-b372-46ae-b0ca-4e4aa94aac13\" target=\"_top\" title=\"psysml:091dd6b1-b372-46ae-b0ca-4e4aa94aac13\" xlink:actuate=\"onRequest\" xlink:href=\"psysml:091dd6b1-b372-46ae-b0ca-4e4aa94aac13\" xlink:show=\"new\" xlink:title=\"psysml:091dd6b1-b372-46ae-b0ca-4e4aa94aac13\" xlink:type=\"simple\"><path d=\"M100,119.25 C100,120.05 100,120.94 100,121.86 \" fill=\"none\" id=\"E4-to-E5\" style=\"stroke:#181818;stroke-width:1.0;stroke-dasharray:7.0,7.0;\"/><polygon fill=\"#181818\" points=\"100,126.96,104,117.96,100,121.96,96,117.96,100,126.96\" style=\"stroke:#181818;stroke-width:1.0;\"/></a></g><!--MD5=[9120cf2e5df3bff93db8f754bbbc09b4]\n",
       "link E5 to E6--><g id=\"link_E5_E6\"><a href=\"psysml:418b7d58-d850-4614-9e9d-1c793842a2dd\" target=\"_top\" title=\"psysml:418b7d58-d850-4614-9e9d-1c793842a2dd\" xlink:actuate=\"onRequest\" xlink:href=\"psysml:418b7d58-d850-4614-9e9d-1c793842a2dd\" xlink:show=\"new\" xlink:title=\"psysml:418b7d58-d850-4614-9e9d-1c793842a2dd\" xlink:type=\"simple\"><path d=\"M95.32,135.24 C93.21,136.69 90.52,138.55 87.53,140.63 \" fill=\"none\" id=\"E5-to-E6\" style=\"stroke:#181818;stroke-width:1.0;stroke-dasharray:7.0,7.0;\"/><polygon fill=\"#181818\" points=\"83.27,143.57,92.9482,141.7446,87.3835,140.7277,88.4005,135.163,83.27,143.57\" style=\"stroke:#181818;stroke-width:1.0;\"/></a></g><!--MD5=[3a9b96bfbf6b6ad89c494e81751bda47]\n",
       "link E5 to E7--><g id=\"link_E5_E7\"><a href=\"psysml:a0ea5228-fdc9-49fd-bb96-6ce22cf44d00\" target=\"_top\" title=\"psysml:a0ea5228-fdc9-49fd-bb96-6ce22cf44d00\" xlink:actuate=\"onRequest\" xlink:href=\"psysml:a0ea5228-fdc9-49fd-bb96-6ce22cf44d00\" xlink:show=\"new\" xlink:title=\"psysml:a0ea5228-fdc9-49fd-bb96-6ce22cf44d00\" xlink:type=\"simple\"><path d=\"M104.78,135.24 C107.16,136.85 110.28,138.96 113.75,141.31 \" fill=\"none\" id=\"E5-to-E7\" style=\"stroke:#181818;stroke-width:1.0;stroke-dasharray:7.0,7.0;\"/><polygon fill=\"#181818\" points=\"117.96,144.16,112.7432,135.8063,113.8174,141.3602,108.2635,142.4344,117.96,144.16\" style=\"stroke:#181818;stroke-width:1.0;\"/></a></g><!--MD5=[b852e56e1324dbca99233277c5ce7a1e]\n",
       "@startuml\r\n",
       "skin sysmlc\r\n",
       "skinparam wrapWidth 300\r\n",
       "hide circle\r\n",
       "skinparam ranksep 8\r\n",
       "\r\n",
       "rec def \"ControlNodeTest\" as E1  <<(T,blue) action  def>> [[psysml:fb29792e-912d-4ab4-a64b-8ae4f88f6031 ]] {\r\n",
       "rec usage \"A1\" as E2  <<(T,blue) action>> [[psysml:fe1ec0cc-95d8-48f7-a7e5-aef83e3da3f9 ]] {\r\n",
       "}\r\n",
       "\r\n",
       "rec usage \"A2\" as E3  <<(T,blue) action>> [[psysml:c0a5c6df-be9c-4195-8c1c-0f8f015b3130 ]] {\r\n",
       "}\r\n",
       "\r\n",
       "join \"J\" as E4  [[psysml:3bd09aec-2544-46ae-936d-01aed8eb96e7 ]] \r\n",
       "fork \"F\" as E5  [[psysml:17702565-4e67-4d00-9c2e-cf91774b37d5 ]] \r\n",
       "rec usage \"B1\" as E6  <<(T,blue) action>> [[psysml:2e4137e4-9d77-4a25-b719-c29e464dbfc7 ]] {\r\n",
       "}\r\n",
       "\r\n",
       "rec usage \"B2\" as E7  <<(T,blue) action>> [[psysml:22fc935b-3ced-457d-8850-10eb2e62808c ]] {\r\n",
       "}\r\n",
       "\r\n",
       "}\r\n",
       "\r\n",
       "E2 ..> E4 [[psysml:f9bcfb7b-138a-4058-8879-7210022ba40a ]] \r\n",
       "E3 ..> E4 [[psysml:6481bc83-60df-4dde-906c-a5becb339116 ]] \r\n",
       "E4 ..> E5 [[psysml:091dd6b1-b372-46ae-b0ca-4e4aa94aac13 ]] \r\n",
       "E5 ..> E6 [[psysml:418b7d58-d850-4614-9e9d-1c793842a2dd ]] \r\n",
       "E5 ..> E7 [[psysml:a0ea5228-fdc9-49fd-bb96-6ce22cf44d00 ]] \r\n",
       "@enduml\r\n",
       "\n",
       "PlantUML version 1.2022.7(Mon Aug 22 17:01:30 UTC 2022)\n",
       "(EPL source distribution)\n",
       "Java Runtime: OpenJDK Runtime Environment\n",
       "JVM: OpenJDK 64-Bit Server VM\n",
       "Default Encoding: UTF-8\n",
       "Language: en\n",
       "Country: null\n",
       "--></g></svg>"
      ]
     },
     "execution_count": 27,
     "metadata": {},
     "output_type": "execute_result"
    }
   ],
   "source": [
    "%viz --style=\"STDCOLOR\" --view=\"Action\" \"ControlNodeTest\""
   ]
  },
  {
   "cell_type": "code",
   "execution_count": 28,
   "id": "d3b8f85e",
   "metadata": {
    "execution": {
     "iopub.execute_input": "2024-12-16T14:20:25.273514Z",
     "iopub.status.busy": "2024-12-16T14:20:25.273280Z",
     "iopub.status.idle": "2024-12-16T14:20:25.280479Z",
     "shell.execute_reply": "2024-12-16T14:20:25.280250Z"
    }
   },
   "outputs": [
    {
     "data": {
      "image/svg+xml": [
       "<?xml version=\"1.0\" encoding=\"UTF-8\" standalone=\"no\"?><svg xmlns=\"http://www.w3.org/2000/svg\" xmlns:xlink=\"http://www.w3.org/1999/xlink\" contentStyleType=\"text/css\" height=\"10px\" preserveAspectRatio=\"none\" style=\"width:10px;height:10px;background:#FFFFFF;\" version=\"1.1\" viewBox=\"0 0 10 10\" width=\"10px\" zoomAndPan=\"magnify\"><defs/><g><!--MD5=[e54413e611bf323face5c486cd3a32bb]\n",
       "@startuml\r\n",
       "skin sysmlc\r\n",
       "skinparam wrapWidth 300\r\n",
       "hide circle\r\n",
       "skinparam roundcorner 20\r\n",
       "skinparam BoxPadding 20\r\n",
       "skinparam SequenceBoxBackgroundColor #white\r\n",
       "skinparam style strictuml\r\n",
       "skinparam maxMessageSize 100\r\n",
       "\r\n",
       "@enduml\r\n",
       "\n",
       "PlantUML version 1.2022.7(Mon Aug 22 17:01:30 UTC 2022)\n",
       "(EPL source distribution)\n",
       "Java Runtime: OpenJDK Runtime Environment\n",
       "JVM: OpenJDK 64-Bit Server VM\n",
       "Default Encoding: UTF-8\n",
       "Language: en\n",
       "Country: null\n",
       "--></g></svg>"
      ]
     },
     "execution_count": 28,
     "metadata": {},
     "output_type": "execute_result"
    }
   ],
   "source": [
    "%viz --style=\"STDCOLOR\" --view=\"Sequence\" \"ControlNodeTest\""
   ]
  },
  {
   "cell_type": "code",
   "execution_count": 29,
   "id": "41e53583",
   "metadata": {
    "execution": {
     "iopub.execute_input": "2024-12-16T14:20:25.336242Z",
     "iopub.status.busy": "2024-12-16T14:20:25.335998Z",
     "iopub.status.idle": "2024-12-16T14:20:25.354319Z",
     "shell.execute_reply": "2024-12-16T14:20:25.353519Z"
    }
   },
   "outputs": [
    {
     "data": {
      "image/svg+xml": [
       "<?xml version=\"1.0\" encoding=\"UTF-8\" standalone=\"no\"?><svg xmlns=\"http://www.w3.org/2000/svg\" xmlns:xlink=\"http://www.w3.org/1999/xlink\" contentStyleType=\"text/css\" height=\"372px\" preserveAspectRatio=\"none\" style=\"width:206px;height:372px;background:#FFFFFF;\" version=\"1.1\" viewBox=\"0 0 206 372\" width=\"206px\" zoomAndPan=\"magnify\"><defs><filter height=\"300%\" id=\"f1cc4kn8h4ka44\" width=\"300%\" x=\"-1\" y=\"-1\"><feGaussianBlur result=\"blurOut\" stdDeviation=\"2.0\"/><feColorMatrix in=\"blurOut\" result=\"blurOut2\" type=\"matrix\" values=\"0 0 0 0 0 0 0 0 0 0 0 0 0 0 0 0 0 0 .4 0\"/><feOffset dx=\"4.0\" dy=\"4.0\" in=\"blurOut2\" result=\"blurOut3\"/><feBlend in=\"SourceGraphic\" in2=\"blurOut3\" mode=\"normal\"/></filter></defs><g><!--MD5=[fbc87193dbaf4d95561dea2c320d4a47]\n",
       "cluster E1--><g id=\"cluster_E1\"><a href=\"psysml:fb29792e-912d-4ab4-a64b-8ae4f88f6031\" target=\"_top\" title=\"psysml:fb29792e-912d-4ab4-a64b-8ae4f88f6031\" xlink:actuate=\"onRequest\" xlink:href=\"psysml:fb29792e-912d-4ab4-a64b-8ae4f88f6031\" xlink:show=\"new\" xlink:title=\"psysml:fb29792e-912d-4ab4-a64b-8ae4f88f6031\" xlink:type=\"simple\"><rect fill=\"#FFFFFF\" filter=\"url(#f1cc4kn8h4ka44)\" height=\"353\" id=\"E1\" style=\"stroke:#A80036;stroke-width:1.5;\" width=\"187\" x=\"7\" y=\"7\"/><rect fill=\"#FFFACD\" height=\"40.2656\" style=\"stroke:#A80036;stroke-width:1.5;\" width=\"187\" x=\"7\" y=\"7\"/><text fill=\"#000000\" font-family=\"sans-serif\" font-size=\"12\" font-style=\"italic\" lengthAdjust=\"spacing\" textLength=\"81\" x=\"60\" y=\"23.1387\">«action  def»</text><text fill=\"#000000\" font-family=\"sans-serif\" font-size=\"14\" lengthAdjust=\"spacing\" textLength=\"118\" x=\"41.5\" y=\"38.9639\">ControlNodeTest</text></a></g><rect fill=\"#555555\" filter=\"url(#f1cc4kn8h4ka44)\" height=\"8\" style=\"stroke:none;stroke-width:1.0;\" width=\"80\" x=\"60\" y=\"163\"/><rect fill=\"#555555\" filter=\"url(#f1cc4kn8h4ka44)\" height=\"8\" style=\"stroke:none;stroke-width:1.0;\" width=\"80\" x=\"60\" y=\"231\"/><g><a href=\"psysml:fe1ec0cc-95d8-48f7-a7e5-aef83e3da3f9\" target=\"_top\" title=\"psysml:fe1ec0cc-95d8-48f7-a7e5-aef83e3da3f9\" xlink:actuate=\"onRequest\" xlink:href=\"psysml:fe1ec0cc-95d8-48f7-a7e5-aef83e3da3f9\" xlink:show=\"new\" xlink:title=\"psysml:fe1ec0cc-95d8-48f7-a7e5-aef83e3da3f9\" xlink:type=\"simple\"><rect fill=\"#FFFACD\" filter=\"url(#f1cc4kn8h4ka44)\" height=\"45.2656\" id=\"E2\" rx=\"10\" ry=\"10\" style=\"stroke:#A80036;stroke-width:1.5;\" width=\"60\" x=\"118\" y=\"58\"/><text fill=\"#000000\" font-family=\"sans-serif\" font-size=\"12\" font-style=\"italic\" lengthAdjust=\"spacing\" textLength=\"53\" x=\"121.5\" y=\"74.1387\">«action»</text><text fill=\"#000000\" font-family=\"sans-serif\" font-size=\"14\" lengthAdjust=\"spacing\" textLength=\"18\" x=\"139\" y=\"89.9639\">A1</text></a></g><g><a href=\"psysml:c0a5c6df-be9c-4195-8c1c-0f8f015b3130\" target=\"_top\" title=\"psysml:c0a5c6df-be9c-4195-8c1c-0f8f015b3130\" xlink:actuate=\"onRequest\" xlink:href=\"psysml:c0a5c6df-be9c-4195-8c1c-0f8f015b3130\" xlink:show=\"new\" xlink:title=\"psysml:c0a5c6df-be9c-4195-8c1c-0f8f015b3130\" xlink:type=\"simple\"><rect fill=\"#FFFACD\" filter=\"url(#f1cc4kn8h4ka44)\" height=\"45.2656\" id=\"E3\" rx=\"10\" ry=\"10\" style=\"stroke:#A80036;stroke-width:1.5;\" width=\"60\" x=\"23\" y=\"58\"/><text fill=\"#000000\" font-family=\"sans-serif\" font-size=\"12\" font-style=\"italic\" lengthAdjust=\"spacing\" textLength=\"53\" x=\"26.5\" y=\"74.1387\">«action»</text><text fill=\"#000000\" font-family=\"sans-serif\" font-size=\"14\" lengthAdjust=\"spacing\" textLength=\"18\" x=\"44\" y=\"89.9639\">A2</text></a></g><g><a href=\"psysml:2e4137e4-9d77-4a25-b719-c29e464dbfc7\" target=\"_top\" title=\"psysml:2e4137e4-9d77-4a25-b719-c29e464dbfc7\" xlink:actuate=\"onRequest\" xlink:href=\"psysml:2e4137e4-9d77-4a25-b719-c29e464dbfc7\" xlink:show=\"new\" xlink:title=\"psysml:2e4137e4-9d77-4a25-b719-c29e464dbfc7\" xlink:type=\"simple\"><rect fill=\"#FFFACD\" filter=\"url(#f1cc4kn8h4ka44)\" height=\"45.2656\" id=\"E6\" rx=\"10\" ry=\"10\" style=\"stroke:#A80036;stroke-width:1.5;\" width=\"60\" x=\"23\" y=\"299\"/><text fill=\"#000000\" font-family=\"sans-serif\" font-size=\"12\" font-style=\"italic\" lengthAdjust=\"spacing\" textLength=\"53\" x=\"26.5\" y=\"315.1387\">«action»</text><text fill=\"#000000\" font-family=\"sans-serif\" font-size=\"14\" lengthAdjust=\"spacing\" textLength=\"19\" x=\"43.5\" y=\"330.9639\">B1</text></a></g><g><a href=\"psysml:22fc935b-3ced-457d-8850-10eb2e62808c\" target=\"_top\" title=\"psysml:22fc935b-3ced-457d-8850-10eb2e62808c\" xlink:actuate=\"onRequest\" xlink:href=\"psysml:22fc935b-3ced-457d-8850-10eb2e62808c\" xlink:show=\"new\" xlink:title=\"psysml:22fc935b-3ced-457d-8850-10eb2e62808c\" xlink:type=\"simple\"><rect fill=\"#FFFACD\" filter=\"url(#f1cc4kn8h4ka44)\" height=\"45.2656\" id=\"E7\" rx=\"10\" ry=\"10\" style=\"stroke:#A80036;stroke-width:1.5;\" width=\"60\" x=\"118\" y=\"299\"/><text fill=\"#000000\" font-family=\"sans-serif\" font-size=\"12\" font-style=\"italic\" lengthAdjust=\"spacing\" textLength=\"53\" x=\"121.5\" y=\"315.1387\">«action»</text><text fill=\"#000000\" font-family=\"sans-serif\" font-size=\"14\" lengthAdjust=\"spacing\" textLength=\"19\" x=\"138.5\" y=\"330.9639\">B2</text></a></g><!--MD5=[4d03bb2d0377dc85ccfab60ff574652b]\n",
       "link E2 to E4--><g id=\"link_E2_E4\"><a href=\"psysml:f9bcfb7b-138a-4058-8879-7210022ba40a\" target=\"_top\" title=\"psysml:f9bcfb7b-138a-4058-8879-7210022ba40a\" xlink:actuate=\"onRequest\" xlink:href=\"psysml:f9bcfb7b-138a-4058-8879-7210022ba40a\" xlink:show=\"new\" xlink:title=\"psysml:f9bcfb7b-138a-4058-8879-7210022ba40a\" xlink:type=\"simple\"><path d=\"M135.64,103.26 C125.33,121.4 111.25,146.19 104.28,158.47 \" fill=\"none\" id=\"E2-to-E4\" style=\"stroke:#181818;stroke-width:1.0;\"/><polygon fill=\"#181818\" points=\"101.75,162.91,109.6779,157.0663,104.223,158.5644,102.7249,153.1095,101.75,162.91\" style=\"stroke:#181818;stroke-width:1.0;\"/></a></g><!--MD5=[af87c684e3b0d8be13c1a698a818ef1e]\n",
       "link E3 to E4--><g id=\"link_E3_E4\"><a href=\"psysml:6481bc83-60df-4dde-906c-a5becb339116\" target=\"_top\" title=\"psysml:6481bc83-60df-4dde-906c-a5becb339116\" xlink:actuate=\"onRequest\" xlink:href=\"psysml:6481bc83-60df-4dde-906c-a5becb339116\" xlink:show=\"new\" xlink:title=\"psysml:6481bc83-60df-4dde-906c-a5becb339116\" xlink:type=\"simple\"><path d=\"M65.1,103.26 C75.19,121.4 88.98,146.19 95.81,158.47 \" fill=\"none\" id=\"E3-to-E4\" style=\"stroke:#181818;stroke-width:1.0;\"/><polygon fill=\"#181818\" points=\"98.28,162.91,97.3814,153.1022,95.8409,158.5453,90.3978,157.0048,98.28,162.91\" style=\"stroke:#181818;stroke-width:1.0;\"/></a></g><!--MD5=[1b7591eae5389033d8d09a9d6721a717]\n",
       "link E4 to E5--><g id=\"link_E4_E5\"><a href=\"psysml:091dd6b1-b372-46ae-b0ca-4e4aa94aac13\" target=\"_top\" title=\"psysml:091dd6b1-b372-46ae-b0ca-4e4aa94aac13\" xlink:actuate=\"onRequest\" xlink:href=\"psysml:091dd6b1-b372-46ae-b0ca-4e4aa94aac13\" xlink:show=\"new\" xlink:title=\"psysml:091dd6b1-b372-46ae-b0ca-4e4aa94aac13\" xlink:type=\"simple\"><path d=\"M100,171.18 C100,180.92 100,210.52 100,225.34 \" fill=\"none\" id=\"E4-to-E5\" style=\"stroke:#181818;stroke-width:1.0;\"/><polygon fill=\"#181818\" points=\"100,230.69,104,221.69,100,225.69,96,221.69,100,230.69\" style=\"stroke:#181818;stroke-width:1.0;\"/></a></g><!--MD5=[9120cf2e5df3bff93db8f754bbbc09b4]\n",
       "link E5 to E6--><g id=\"link_E5_E6\"><a href=\"psysml:418b7d58-d850-4614-9e9d-1c793842a2dd\" target=\"_top\" title=\"psysml:418b7d58-d850-4614-9e9d-1c793842a2dd\" xlink:actuate=\"onRequest\" xlink:href=\"psysml:418b7d58-d850-4614-9e9d-1c793842a2dd\" xlink:show=\"new\" xlink:title=\"psysml:418b7d58-d850-4614-9e9d-1c793842a2dd\" xlink:type=\"simple\"><path d=\"M98.21,239.21 C93.23,248.18 78.77,274.17 67.53,294.37 \" fill=\"none\" id=\"E5-to-E6\" style=\"stroke:#181818;stroke-width:1.0;\"/><polygon fill=\"#181818\" points=\"65.04,298.85,72.9074,292.9252,67.4682,294.4792,65.9142,289.04,65.04,298.85\" style=\"stroke:#181818;stroke-width:1.0;\"/></a></g><!--MD5=[3a9b96bfbf6b6ad89c494e81751bda47]\n",
       "link E5 to E7--><g id=\"link_E5_E7\"><a href=\"psysml:a0ea5228-fdc9-49fd-bb96-6ce22cf44d00\" target=\"_top\" title=\"psysml:a0ea5228-fdc9-49fd-bb96-6ce22cf44d00\" xlink:actuate=\"onRequest\" xlink:href=\"psysml:a0ea5228-fdc9-49fd-bb96-6ce22cf44d00\" xlink:show=\"new\" xlink:title=\"psysml:a0ea5228-fdc9-49fd-bb96-6ce22cf44d00\" xlink:type=\"simple\"><path d=\"M101.82,239.21 C106.92,248.18 121.68,274.17 133.16,294.37 \" fill=\"none\" id=\"E5-to-E7\" style=\"stroke:#181818;stroke-width:1.0;\"/><polygon fill=\"#181818\" points=\"135.7,298.85,134.7251,289.0495,133.227,294.5044,127.7721,293.0063,135.7,298.85\" style=\"stroke:#181818;stroke-width:1.0;\"/></a></g><!--MD5=[55ab44200c58140b41b6d92ba6bdc208]\n",
       "@startuml\r\n",
       "skin sysmlc\r\n",
       "skinparam wrapWidth 300\r\n",
       "hide circle\r\n",
       "\r\n",
       "rec def \"ControlNodeTest\" as E1  <<(T,blue) action  def>> [[psysml:fb29792e-912d-4ab4-a64b-8ae4f88f6031 ]] {\r\n",
       "rec usage \"A1\" as E2  <<(T,blue) action>> [[psysml:fe1ec0cc-95d8-48f7-a7e5-aef83e3da3f9 ]] {\r\n",
       "}\r\n",
       "\r\n",
       "rec usage \"A2\" as E3  <<(T,blue) action>> [[psysml:c0a5c6df-be9c-4195-8c1c-0f8f015b3130 ]] {\r\n",
       "}\r\n",
       "\r\n",
       "join \"J\" as E4  [[psysml:3bd09aec-2544-46ae-936d-01aed8eb96e7 ]] \r\n",
       "fork \"F\" as E5  [[psysml:17702565-4e67-4d00-9c2e-cf91774b37d5 ]] \r\n",
       "rec usage \"B1\" as E6  <<(T,blue) action>> [[psysml:2e4137e4-9d77-4a25-b719-c29e464dbfc7 ]] {\r\n",
       "}\r\n",
       "\r\n",
       "rec usage \"B2\" as E7  <<(T,blue) action>> [[psysml:22fc935b-3ced-457d-8850-10eb2e62808c ]] {\r\n",
       "}\r\n",
       "\r\n",
       "}\r\n",
       "\r\n",
       "E2 - -> E4 [[psysml:f9bcfb7b-138a-4058-8879-7210022ba40a ]] \r\n",
       "E3 - -> E4 [[psysml:6481bc83-60df-4dde-906c-a5becb339116 ]] \r\n",
       "E4 - -> E5 [[psysml:091dd6b1-b372-46ae-b0ca-4e4aa94aac13 ]] \r\n",
       "E5 - -> E6 [[psysml:418b7d58-d850-4614-9e9d-1c793842a2dd ]] \r\n",
       "E5 - -> E7 [[psysml:a0ea5228-fdc9-49fd-bb96-6ce22cf44d00 ]] \r\n",
       "@enduml\r\n",
       "\n",
       "PlantUML version 1.2022.7(Mon Aug 22 17:01:30 UTC 2022)\n",
       "(EPL source distribution)\n",
       "Java Runtime: OpenJDK Runtime Environment\n",
       "JVM: OpenJDK 64-Bit Server VM\n",
       "Default Encoding: UTF-8\n",
       "Language: en\n",
       "Country: null\n",
       "--></g></svg>"
      ]
     },
     "execution_count": 29,
     "metadata": {},
     "output_type": "execute_result"
    }
   ],
   "source": [
    "%viz --style=\"STDCOLOR\" --view=\"MIXED\" \"ControlNodeTest\""
   ]
  },
  {
   "cell_type": "code",
   "execution_count": 30,
   "id": "76b28b2e",
   "metadata": {
    "execution": {
     "iopub.execute_input": "2024-12-16T14:20:25.406303Z",
     "iopub.status.busy": "2024-12-16T14:20:25.406079Z",
     "iopub.status.idle": "2024-12-16T14:20:25.539570Z",
     "shell.execute_reply": "2024-12-16T14:20:25.539391Z"
    }
   },
   "outputs": [
    {
     "data": {
      "image/svg+xml": [
       "<?xml version=\"1.0\" encoding=\"UTF-8\" standalone=\"no\"?><svg xmlns=\"http://www.w3.org/2000/svg\" xmlns:xlink=\"http://www.w3.org/1999/xlink\" contentStyleType=\"text/css\" height=\"366px\" preserveAspectRatio=\"none\" style=\"width:252px;height:366px;background:#FFFFFF;\" version=\"1.1\" viewBox=\"0 0 252 366\" width=\"252px\" zoomAndPan=\"magnify\"><defs/><g><!--MD5=[fbc87193dbaf4d95561dea2c320d4a47]\n",
       "cluster E1--><g id=\"cluster_E1\"><a href=\"psysml:fb29792e-912d-4ab4-a64b-8ae4f88f6031\" target=\"_top\" title=\"psysml:fb29792e-912d-4ab4-a64b-8ae4f88f6031\" xlink:actuate=\"onRequest\" xlink:href=\"psysml:fb29792e-912d-4ab4-a64b-8ae4f88f6031\" xlink:show=\"new\" xlink:title=\"psysml:fb29792e-912d-4ab4-a64b-8ae4f88f6031\" xlink:type=\"simple\"><rect fill=\"#FFFFFF\" height=\"353\" id=\"E1\" style=\"stroke:#A80036;stroke-width:1.5;\" width=\"239\" x=\"7\" y=\"7\"/><rect fill=\"#F1F1F1\" height=\"40.2656\" style=\"stroke:#A80036;stroke-width:1.5;\" width=\"239\" x=\"7\" y=\"7\"/><text fill=\"#000000\" font-family=\"sans-serif\" font-size=\"12\" font-style=\"italic\" lengthAdjust=\"spacing\" textLength=\"81\" x=\"86\" y=\"23.1387\">«action  def»</text><text fill=\"#000000\" font-family=\"sans-serif\" font-size=\"14\" lengthAdjust=\"spacing\" textLength=\"118\" x=\"67.5\" y=\"38.9639\">ControlNodeTest</text></a></g><rect fill=\"#555555\" height=\"8\" style=\"stroke:none;stroke-width:1.0;\" width=\"80\" x=\"86\" y=\"163\"/><rect fill=\"#555555\" height=\"8\" style=\"stroke:none;stroke-width:1.0;\" width=\"80\" x=\"86\" y=\"231\"/><g><a href=\"psysml:fe1ec0cc-95d8-48f7-a7e5-aef83e3da3f9\" target=\"_top\" title=\"psysml:fe1ec0cc-95d8-48f7-a7e5-aef83e3da3f9\" xlink:actuate=\"onRequest\" xlink:href=\"psysml:fe1ec0cc-95d8-48f7-a7e5-aef83e3da3f9\" xlink:show=\"new\" xlink:title=\"psysml:fe1ec0cc-95d8-48f7-a7e5-aef83e3da3f9\" xlink:type=\"simple\"><rect fill=\"#F1F1F1\" height=\"45.2656\" id=\"E2\" rx=\"10\" ry=\"10\" style=\"stroke:#A80036;stroke-width:1.5;\" width=\"86\" x=\"144\" y=\"58\"/><ellipse cx=\"161.25\" cy=\"78.1328\" fill=\"#FFA500\" rx=\"11\" ry=\"11\" style=\"stroke:#181818;stroke-width:1.0;\"/><path d=\"M161.3125,85.3047 Q159.2031,85.3047 158.1094,84.1797 Q157.0156,83.0547 157.0156,81.0078 L157.0156,72.9922 L159.4844,72.9922 L159.4844,80.5703 Q159.4844,82.0078 159.9375,82.6016 Q160.3906,83.1797 161.3438,83.1797 Q162.3594,83.1797 162.7813,82.5703 Q163.2188,81.9609 163.2188,80.5547 L163.2188,72.9922 L165.6875,72.9922 L165.6875,80.9922 Q165.6875,82.9766 164.5938,84.1484 Q163.5156,85.3047 161.3125,85.3047 Z \" fill=\"#000000\"/><text fill=\"#000000\" font-family=\"sans-serif\" font-size=\"12\" font-style=\"italic\" lengthAdjust=\"spacing\" textLength=\"53\" x=\"173.75\" y=\"74.1387\">«action»</text><text fill=\"#000000\" font-family=\"sans-serif\" font-size=\"14\" lengthAdjust=\"spacing\" textLength=\"18\" x=\"191.25\" y=\"89.9639\">A1</text></a></g><g><a href=\"psysml:c0a5c6df-be9c-4195-8c1c-0f8f015b3130\" target=\"_top\" title=\"psysml:c0a5c6df-be9c-4195-8c1c-0f8f015b3130\" xlink:actuate=\"onRequest\" xlink:href=\"psysml:c0a5c6df-be9c-4195-8c1c-0f8f015b3130\" xlink:show=\"new\" xlink:title=\"psysml:c0a5c6df-be9c-4195-8c1c-0f8f015b3130\" xlink:type=\"simple\"><rect fill=\"#F1F1F1\" height=\"45.2656\" id=\"E3\" rx=\"10\" ry=\"10\" style=\"stroke:#A80036;stroke-width:1.5;\" width=\"86\" x=\"23\" y=\"58\"/><ellipse cx=\"40.25\" cy=\"78.1328\" fill=\"#FFA500\" rx=\"11\" ry=\"11\" style=\"stroke:#181818;stroke-width:1.0;\"/><path d=\"M40.3125,85.3047 Q38.2031,85.3047 37.1094,84.1797 Q36.0156,83.0547 36.0156,81.0078 L36.0156,72.9922 L38.4844,72.9922 L38.4844,80.5703 Q38.4844,82.0078 38.9375,82.6016 Q39.3906,83.1797 40.3438,83.1797 Q41.3594,83.1797 41.7813,82.5703 Q42.2188,81.9609 42.2188,80.5547 L42.2188,72.9922 L44.6875,72.9922 L44.6875,80.9922 Q44.6875,82.9766 43.5938,84.1484 Q42.5156,85.3047 40.3125,85.3047 Z \" fill=\"#000000\"/><text fill=\"#000000\" font-family=\"sans-serif\" font-size=\"12\" font-style=\"italic\" lengthAdjust=\"spacing\" textLength=\"53\" x=\"52.75\" y=\"74.1387\">«action»</text><text fill=\"#000000\" font-family=\"sans-serif\" font-size=\"14\" lengthAdjust=\"spacing\" textLength=\"18\" x=\"70.25\" y=\"89.9639\">A2</text></a></g><g><a href=\"psysml:2e4137e4-9d77-4a25-b719-c29e464dbfc7\" target=\"_top\" title=\"psysml:2e4137e4-9d77-4a25-b719-c29e464dbfc7\" xlink:actuate=\"onRequest\" xlink:href=\"psysml:2e4137e4-9d77-4a25-b719-c29e464dbfc7\" xlink:show=\"new\" xlink:title=\"psysml:2e4137e4-9d77-4a25-b719-c29e464dbfc7\" xlink:type=\"simple\"><rect fill=\"#F1F1F1\" height=\"45.2656\" id=\"E6\" rx=\"10\" ry=\"10\" style=\"stroke:#A80036;stroke-width:1.5;\" width=\"86\" x=\"23\" y=\"299\"/><ellipse cx=\"40.25\" cy=\"319.1328\" fill=\"#FFA500\" rx=\"11\" ry=\"11\" style=\"stroke:#181818;stroke-width:1.0;\"/><path d=\"M40.3125,326.3047 Q38.2031,326.3047 37.1094,325.1797 Q36.0156,324.0547 36.0156,322.0078 L36.0156,313.9922 L38.4844,313.9922 L38.4844,321.5703 Q38.4844,323.0078 38.9375,323.6016 Q39.3906,324.1797 40.3438,324.1797 Q41.3594,324.1797 41.7813,323.5703 Q42.2188,322.9609 42.2188,321.5547 L42.2188,313.9922 L44.6875,313.9922 L44.6875,321.9922 Q44.6875,323.9766 43.5938,325.1484 Q42.5156,326.3047 40.3125,326.3047 Z \" fill=\"#000000\"/><text fill=\"#000000\" font-family=\"sans-serif\" font-size=\"12\" font-style=\"italic\" lengthAdjust=\"spacing\" textLength=\"53\" x=\"52.75\" y=\"315.1387\">«action»</text><text fill=\"#000000\" font-family=\"sans-serif\" font-size=\"14\" lengthAdjust=\"spacing\" textLength=\"19\" x=\"69.75\" y=\"330.9639\">B1</text></a></g><g><a href=\"psysml:22fc935b-3ced-457d-8850-10eb2e62808c\" target=\"_top\" title=\"psysml:22fc935b-3ced-457d-8850-10eb2e62808c\" xlink:actuate=\"onRequest\" xlink:href=\"psysml:22fc935b-3ced-457d-8850-10eb2e62808c\" xlink:show=\"new\" xlink:title=\"psysml:22fc935b-3ced-457d-8850-10eb2e62808c\" xlink:type=\"simple\"><rect fill=\"#F1F1F1\" height=\"45.2656\" id=\"E7\" rx=\"10\" ry=\"10\" style=\"stroke:#A80036;stroke-width:1.5;\" width=\"86\" x=\"144\" y=\"299\"/><ellipse cx=\"161.25\" cy=\"319.1328\" fill=\"#FFA500\" rx=\"11\" ry=\"11\" style=\"stroke:#181818;stroke-width:1.0;\"/><path d=\"M161.3125,326.3047 Q159.2031,326.3047 158.1094,325.1797 Q157.0156,324.0547 157.0156,322.0078 L157.0156,313.9922 L159.4844,313.9922 L159.4844,321.5703 Q159.4844,323.0078 159.9375,323.6016 Q160.3906,324.1797 161.3438,324.1797 Q162.3594,324.1797 162.7813,323.5703 Q163.2188,322.9609 163.2188,321.5547 L163.2188,313.9922 L165.6875,313.9922 L165.6875,321.9922 Q165.6875,323.9766 164.5938,325.1484 Q163.5156,326.3047 161.3125,326.3047 Z \" fill=\"#000000\"/><text fill=\"#000000\" font-family=\"sans-serif\" font-size=\"12\" font-style=\"italic\" lengthAdjust=\"spacing\" textLength=\"53\" x=\"173.75\" y=\"315.1387\">«action»</text><text fill=\"#000000\" font-family=\"sans-serif\" font-size=\"14\" lengthAdjust=\"spacing\" textLength=\"19\" x=\"190.75\" y=\"330.9639\">B2</text></a></g><!--MD5=[4d03bb2d0377dc85ccfab60ff574652b]\n",
       "link E2 to E4--><g id=\"link_E2_E4\"><a href=\"psysml:f9bcfb7b-138a-4058-8879-7210022ba40a\" target=\"_top\" title=\"psysml:f9bcfb7b-138a-4058-8879-7210022ba40a\" xlink:actuate=\"onRequest\" xlink:href=\"psysml:f9bcfb7b-138a-4058-8879-7210022ba40a\" xlink:show=\"new\" xlink:title=\"psysml:f9bcfb7b-138a-4058-8879-7210022ba40a\" xlink:type=\"simple\"><path d=\"M171.29,103.26 C158.08,121.56 139.98,146.64 131.2,158.8 \" fill=\"none\" id=\"E2-to-E4\" style=\"stroke:#181818;stroke-width:1.0;\"/><polygon fill=\"#181818\" points=\"128.23,162.91,136.7377,157.9482,131.1538,158.854,130.248,153.2701,128.23,162.91\" style=\"stroke:#181818;stroke-width:1.0;\"/></a></g><!--MD5=[af87c684e3b0d8be13c1a698a818ef1e]\n",
       "link E3 to E4--><g id=\"link_E3_E4\"><a href=\"psysml:6481bc83-60df-4dde-906c-a5becb339116\" target=\"_top\" title=\"psysml:6481bc83-60df-4dde-906c-a5becb339116\" xlink:actuate=\"onRequest\" xlink:href=\"psysml:6481bc83-60df-4dde-906c-a5becb339116\" xlink:show=\"new\" xlink:title=\"psysml:6481bc83-60df-4dde-906c-a5becb339116\" xlink:type=\"simple\"><path d=\"M81.45,103.26 C94.45,121.56 112.25,146.64 120.89,158.8 \" fill=\"none\" id=\"E3-to-E4\" style=\"stroke:#181818;stroke-width:1.0;\"/><polygon fill=\"#181818\" points=\"123.81,162.91,121.8466,153.2588,120.9092,158.8375,115.3306,157.9001,123.81,162.91\" style=\"stroke:#181818;stroke-width:1.0;\"/></a></g><!--MD5=[1b7591eae5389033d8d09a9d6721a717]\n",
       "link E4 to E5--><g id=\"link_E4_E5\"><a href=\"psysml:091dd6b1-b372-46ae-b0ca-4e4aa94aac13\" target=\"_top\" title=\"psysml:091dd6b1-b372-46ae-b0ca-4e4aa94aac13\" xlink:actuate=\"onRequest\" xlink:href=\"psysml:091dd6b1-b372-46ae-b0ca-4e4aa94aac13\" xlink:show=\"new\" xlink:title=\"psysml:091dd6b1-b372-46ae-b0ca-4e4aa94aac13\" xlink:type=\"simple\"><path d=\"M126,171.18 C126,180.92 126,210.52 126,225.34 \" fill=\"none\" id=\"E4-to-E5\" style=\"stroke:#181818;stroke-width:1.0;\"/><polygon fill=\"#181818\" points=\"126,230.69,130,221.69,126,225.69,122,221.69,126,230.69\" style=\"stroke:#181818;stroke-width:1.0;\"/></a></g><!--MD5=[9120cf2e5df3bff93db8f754bbbc09b4]\n",
       "link E5 to E6--><g id=\"link_E5_E6\"><a href=\"psysml:418b7d58-d850-4614-9e9d-1c793842a2dd\" target=\"_top\" title=\"psysml:418b7d58-d850-4614-9e9d-1c793842a2dd\" xlink:actuate=\"onRequest\" xlink:href=\"psysml:418b7d58-d850-4614-9e9d-1c793842a2dd\" xlink:show=\"new\" xlink:title=\"psysml:418b7d58-d850-4614-9e9d-1c793842a2dd\" xlink:type=\"simple\"><path d=\"M123.72,239.21 C117.33,248.22 98.74,274.39 84.37,294.63 \" fill=\"none\" id=\"E5-to-E6\" style=\"stroke:#181818;stroke-width:1.0;\"/><polygon fill=\"#181818\" points=\"81.37,298.85,89.8411,293.8261,84.264,294.7727,83.3174,289.1956,81.37,298.85\" style=\"stroke:#181818;stroke-width:1.0;\"/></a></g><!--MD5=[3a9b96bfbf6b6ad89c494e81751bda47]\n",
       "link E5 to E7--><g id=\"link_E5_E7\"><a href=\"psysml:a0ea5228-fdc9-49fd-bb96-6ce22cf44d00\" target=\"_top\" title=\"psysml:a0ea5228-fdc9-49fd-bb96-6ce22cf44d00\" xlink:actuate=\"onRequest\" xlink:href=\"psysml:a0ea5228-fdc9-49fd-bb96-6ce22cf44d00\" xlink:show=\"new\" xlink:title=\"psysml:a0ea5228-fdc9-49fd-bb96-6ce22cf44d00\" xlink:type=\"simple\"><path d=\"M128.32,239.21 C134.82,248.22 153.71,274.39 168.32,294.63 \" fill=\"none\" id=\"E5-to-E7\" style=\"stroke:#181818;stroke-width:1.0;\"/><polygon fill=\"#181818\" points=\"171.37,298.85,169.3458,289.2114,168.4436,294.7959,162.8591,293.8937,171.37,298.85\" style=\"stroke:#181818;stroke-width:1.0;\"/></a></g><!--MD5=[8461389c2de6290b4496d84fd5d85350]\n",
       "@startuml\r\n",
       " \r\n",
       "rec def \"ControlNodeTest\" as E1  << <<(B,lemonchiffon) action  def>> [[psysml:fb29792e-912d-4ab4-a64b-8ae4f88f6031 ]] {\r\n",
       "rec usage \"A1\" as E2  << <<(U,orange) action>> [[psysml:fe1ec0cc-95d8-48f7-a7e5-aef83e3da3f9 ]] {\r\n",
       "}\r\n",
       "\r\n",
       "rec usage \"A2\" as E3  << <<(U,orange) action>> [[psysml:c0a5c6df-be9c-4195-8c1c-0f8f015b3130 ]] {\r\n",
       "}\r\n",
       "\r\n",
       "join \"J\" as E4  [[psysml:3bd09aec-2544-46ae-936d-01aed8eb96e7 ]] \r\n",
       "fork \"F\" as E5  [[psysml:17702565-4e67-4d00-9c2e-cf91774b37d5 ]] \r\n",
       "rec usage \"B1\" as E6  << <<(U,orange) action>> [[psysml:2e4137e4-9d77-4a25-b719-c29e464dbfc7 ]] {\r\n",
       "}\r\n",
       "\r\n",
       "rec usage \"B2\" as E7  << <<(U,orange) action>> [[psysml:22fc935b-3ced-457d-8850-10eb2e62808c ]] {\r\n",
       "}\r\n",
       "\r\n",
       "}\r\n",
       "\r\n",
       "E2 - -> E4 [[psysml:f9bcfb7b-138a-4058-8879-7210022ba40a ]] \r\n",
       "E3 - -> E4 [[psysml:6481bc83-60df-4dde-906c-a5becb339116 ]] \r\n",
       "E4 - -> E5 [[psysml:091dd6b1-b372-46ae-b0ca-4e4aa94aac13 ]] \r\n",
       "E5 - -> E6 [[psysml:418b7d58-d850-4614-9e9d-1c793842a2dd ]] \r\n",
       "E5 - -> E7 [[psysml:a0ea5228-fdc9-49fd-bb96-6ce22cf44d00 ]] \r\n",
       "@enduml\r\n",
       "\n",
       "PlantUML version 1.2022.7(Mon Aug 22 17:01:30 UTC 2022)\n",
       "(EPL source distribution)\n",
       "Java Runtime: OpenJDK Runtime Environment\n",
       "JVM: OpenJDK 64-Bit Server VM\n",
       "Default Encoding: UTF-8\n",
       "Language: en\n",
       "Country: null\n",
       "--></g></svg>"
      ]
     },
     "execution_count": 30,
     "metadata": {},
     "output_type": "execute_result"
    }
   ],
   "source": [
    "%viz --style=\"PLANTUML\" --view=\"Default\" \"ControlNodeTest\""
   ]
  },
  {
   "cell_type": "code",
   "execution_count": 31,
   "id": "8bda400c",
   "metadata": {
    "execution": {
     "iopub.execute_input": "2024-12-16T14:20:25.595381Z",
     "iopub.status.busy": "2024-12-16T14:20:25.595149Z",
     "iopub.status.idle": "2024-12-16T14:20:25.628302Z",
     "shell.execute_reply": "2024-12-16T14:20:25.627407Z"
    }
   },
   "outputs": [
    {
     "data": {
      "image/svg+xml": [
       "<?xml version=\"1.0\" encoding=\"UTF-8\" standalone=\"no\"?><svg xmlns=\"http://www.w3.org/2000/svg\" xmlns:xlink=\"http://www.w3.org/1999/xlink\" contentStyleType=\"text/css\" height=\"586px\" preserveAspectRatio=\"none\" style=\"width:407px;height:586px;background:#FFFFFF;\" version=\"1.1\" viewBox=\"0 0 407 586\" width=\"407px\" zoomAndPan=\"magnify\"><defs/><g><!--MD5=[43c9051892ef23e1a46a86907403d788]\n",
       "class E1--><a href=\"psysml:fb29792e-912d-4ab4-a64b-8ae4f88f6031\" target=\"_top\" title=\"psysml:fb29792e-912d-4ab4-a64b-8ae4f88f6031\" xlink:actuate=\"onRequest\" xlink:href=\"psysml:fb29792e-912d-4ab4-a64b-8ae4f88f6031\" xlink:show=\"new\" xlink:title=\"psysml:fb29792e-912d-4ab4-a64b-8ae4f88f6031\" xlink:type=\"simple\"><g id=\"elem_E1\"><rect fill=\"#F1F1F1\" height=\"140.2688\" id=\"E1\" rx=\"2.5\" ry=\"2.5\" style=\"stroke:#181818;stroke-width:0.5;\" width=\"169\" x=\"204.84\" y=\"7\"/><ellipse cx=\"228.39\" cy=\"27.1328\" fill=\"#FFFACD\" rx=\"11\" ry=\"11\" style=\"stroke:#181818;stroke-width:1.0;\"/><path d=\"M225.2494,33.6328 L225.2494,21.4922 L229.0463,21.4922 Q231.0463,21.4922 232.0931,22.1953 Q233.1556,22.8984 233.1556,24.4766 Q233.1556,25.5703 232.6556,26.2891 Q232.1713,27.0078 231.3431,27.1953 L231.3431,27.2734 Q232.265,27.4922 232.8275,28.1641 Q233.4056,28.8203 233.4056,30.0859 Q233.4056,31.7422 232.3588,32.6953 Q231.3119,33.6328 229.4525,33.6328 L225.2494,33.6328 Z M229.0306,26.2734 Q229.9213,26.2734 230.2806,25.9453 Q230.6556,25.6016 230.6556,24.8984 Q230.6556,24.1641 230.265,23.8516 Q229.8744,23.5234 228.9369,23.5234 L227.5463,23.5234 L227.5463,26.2734 L229.0306,26.2734 Z M229.2181,31.6172 Q230.1244,31.6172 230.4838,31.1797 Q230.8431,30.7266 230.8431,29.9453 Q230.8431,29.1641 230.4681,28.7734 Q230.1088,28.3672 229.1244,28.3672 L227.5463,28.3672 L227.5463,31.6172 L229.2181,31.6172 Z \" fill=\"#000000\"/><text fill=\"#000000\" font-family=\"sans-serif\" font-size=\"12\" font-style=\"italic\" lengthAdjust=\"spacing\" textLength=\"81\" x=\"262.79\" y=\"23.1387\">«action  def»</text><text fill=\"#000000\" font-family=\"sans-serif\" font-size=\"14\" lengthAdjust=\"spacing\" textLength=\"118\" x=\"244.29\" y=\"38.9639\">ControlNodeTest</text><line style=\"stroke:#181818;stroke-width:0.5;\" x1=\"205.84\" x2=\"372.84\" y1=\"47.2656\" y2=\"47.2656\"/><text fill=\"#000000\" font-family=\"sans-serif\" font-size=\"14\" lengthAdjust=\"spacing\" textLength=\"151\" x=\"210.84\" y=\"74.7795\">noname first A1 then J</text><text fill=\"#000000\" font-family=\"sans-serif\" font-size=\"14\" lengthAdjust=\"spacing\" textLength=\"151\" x=\"210.84\" y=\"91.0764\">noname first A2 then J</text><text fill=\"#000000\" font-family=\"sans-serif\" font-size=\"14\" lengthAdjust=\"spacing\" textLength=\"141\" x=\"210.84\" y=\"107.3732\">noname first J then F</text><text fill=\"#000000\" font-family=\"sans-serif\" font-size=\"14\" lengthAdjust=\"spacing\" textLength=\"157\" x=\"210.84\" y=\"123.6701\">noname first F then B1</text><text fill=\"#000000\" font-family=\"sans-serif\" font-size=\"14\" lengthAdjust=\"spacing\" textLength=\"157\" x=\"210.84\" y=\"139.967\">noname first F then B2</text><text fill=\"#000000\" font-family=\"sans-serif\" font-size=\"14\" font-style=\"italic\" lengthAdjust=\"spacing\" textLength=\"87\" x=\"245.84\" y=\"59.6123\">successions</text></g></a><!--MD5=[b4997ac47864f28c2f74865a473b2911]\n",
       "class E2--><a href=\"psysml:fe1ec0cc-95d8-48f7-a7e5-aef83e3da3f9\" target=\"_top\" title=\"psysml:fe1ec0cc-95d8-48f7-a7e5-aef83e3da3f9\" xlink:actuate=\"onRequest\" xlink:href=\"psysml:fe1ec0cc-95d8-48f7-a7e5-aef83e3da3f9\" xlink:show=\"new\" xlink:title=\"psysml:fe1ec0cc-95d8-48f7-a7e5-aef83e3da3f9\" xlink:type=\"simple\"><g id=\"elem_E2\"><rect fill=\"#F1F1F1\" height=\"48.2656\" id=\"E2\" rx=\"10\" ry=\"10\" style=\"stroke:#181818;stroke-width:0.5;\" width=\"81\" x=\"85.84\" y=\"207\"/><ellipse cx=\"100.84\" cy=\"227.1328\" fill=\"#FFA500\" rx=\"11\" ry=\"11\" style=\"stroke:#181818;stroke-width:1.0;\"/><path d=\"M100.9025,234.3047 Q98.7931,234.3047 97.6994,233.1797 Q96.6056,232.0547 96.6056,230.0078 L96.6056,221.9922 L99.0744,221.9922 L99.0744,229.5703 Q99.0744,231.0078 99.5275,231.6016 Q99.9806,232.1797 100.9338,232.1797 Q101.9494,232.1797 102.3713,231.5703 Q102.8088,230.9609 102.8088,229.5547 L102.8088,221.9922 L105.2775,221.9922 L105.2775,229.9922 Q105.2775,231.9766 104.1838,233.1484 Q103.1056,234.3047 100.9025,234.3047 Z \" fill=\"#000000\"/><text fill=\"#000000\" font-family=\"sans-serif\" font-size=\"12\" font-style=\"italic\" lengthAdjust=\"spacing\" textLength=\"53\" x=\"112.84\" y=\"223.1387\">«action»</text><text fill=\"#000000\" font-family=\"sans-serif\" font-size=\"14\" lengthAdjust=\"spacing\" textLength=\"18\" x=\"126.34\" y=\"238.9639\">A1</text><line style=\"stroke:#181818;stroke-width:0.5;\" x1=\"86.84\" x2=\"165.84\" y1=\"247.2656\" y2=\"247.2656\"/></g></a><!--MD5=[09b614a08d8cba4a07c9adeb5e0fee81]\n",
       "class E3--><a href=\"psysml:c0a5c6df-be9c-4195-8c1c-0f8f015b3130\" target=\"_top\" title=\"psysml:c0a5c6df-be9c-4195-8c1c-0f8f015b3130\" xlink:actuate=\"onRequest\" xlink:href=\"psysml:c0a5c6df-be9c-4195-8c1c-0f8f015b3130\" xlink:show=\"new\" xlink:title=\"psysml:c0a5c6df-be9c-4195-8c1c-0f8f015b3130\" xlink:type=\"simple\"><g id=\"elem_E3\"><rect fill=\"#F1F1F1\" height=\"48.2656\" id=\"E3\" rx=\"10\" ry=\"10\" style=\"stroke:#181818;stroke-width:0.5;\" width=\"81\" x=\"201.84\" y=\"207\"/><ellipse cx=\"216.84\" cy=\"227.1328\" fill=\"#FFA500\" rx=\"11\" ry=\"11\" style=\"stroke:#181818;stroke-width:1.0;\"/><path d=\"M216.9025,234.3047 Q214.7931,234.3047 213.6994,233.1797 Q212.6056,232.0547 212.6056,230.0078 L212.6056,221.9922 L215.0744,221.9922 L215.0744,229.5703 Q215.0744,231.0078 215.5275,231.6016 Q215.9806,232.1797 216.9338,232.1797 Q217.9494,232.1797 218.3713,231.5703 Q218.8088,230.9609 218.8088,229.5547 L218.8088,221.9922 L221.2775,221.9922 L221.2775,229.9922 Q221.2775,231.9766 220.1838,233.1484 Q219.1056,234.3047 216.9025,234.3047 Z \" fill=\"#000000\"/><text fill=\"#000000\" font-family=\"sans-serif\" font-size=\"12\" font-style=\"italic\" lengthAdjust=\"spacing\" textLength=\"53\" x=\"228.84\" y=\"223.1387\">«action»</text><text fill=\"#000000\" font-family=\"sans-serif\" font-size=\"14\" lengthAdjust=\"spacing\" textLength=\"18\" x=\"242.34\" y=\"238.9639\">A2</text><line style=\"stroke:#181818;stroke-width:0.5;\" x1=\"202.84\" x2=\"281.84\" y1=\"247.2656\" y2=\"247.2656\"/></g></a><!--MD5=[ebbe1d658d1005bcc118a6aa81145e00]\n",
       "class E4--><a href=\"psysml:3bd09aec-2544-46ae-936d-01aed8eb96e7\" target=\"_top\" title=\"psysml:3bd09aec-2544-46ae-936d-01aed8eb96e7\" xlink:actuate=\"onRequest\" xlink:href=\"psysml:3bd09aec-2544-46ae-936d-01aed8eb96e7\" xlink:show=\"new\" xlink:title=\"psysml:3bd09aec-2544-46ae-936d-01aed8eb96e7\" xlink:type=\"simple\"><g id=\"elem_E4\"><rect fill=\"#F1F1F1\" height=\"48.2656\" id=\"E4\" rx=\"10\" ry=\"10\" style=\"stroke:#181818;stroke-width:0.5;\" width=\"100\" x=\"223.34\" y=\"315\"/><ellipse cx=\"238.34\" cy=\"335.1328\" fill=\"#FFA500\" rx=\"11\" ry=\"11\" style=\"stroke:#181818;stroke-width:1.0;\"/><path d=\"M238.4025,342.3047 Q236.2931,342.3047 235.1994,341.1797 Q234.1056,340.0547 234.1056,338.0078 L234.1056,329.9922 L236.5744,329.9922 L236.5744,337.5703 Q236.5744,339.0078 237.0275,339.6016 Q237.4806,340.1797 238.4338,340.1797 Q239.4494,340.1797 239.8713,339.5703 Q240.3088,338.9609 240.3088,337.5547 L240.3088,329.9922 L242.7775,329.9922 L242.7775,337.9922 Q242.7775,339.9766 241.6838,341.1484 Q240.6056,342.3047 238.4025,342.3047 Z \" fill=\"#000000\"/><text fill=\"#000000\" font-family=\"sans-serif\" font-size=\"12\" font-style=\"italic\" lengthAdjust=\"spacing\" textLength=\"72\" x=\"250.34\" y=\"331.1387\">«join node»</text><text fill=\"#000000\" font-family=\"sans-serif\" font-size=\"14\" lengthAdjust=\"spacing\" textLength=\"3\" x=\"280.84\" y=\"346.9639\">J</text><line style=\"stroke:#181818;stroke-width:0.5;\" x1=\"224.34\" x2=\"322.34\" y1=\"355.2656\" y2=\"355.2656\"/></g></a><!--MD5=[270fce915f116d4de14055a7c1d9a0f3]\n",
       "class E5--><a href=\"psysml:17702565-4e67-4d00-9c2e-cf91774b37d5\" target=\"_top\" title=\"psysml:17702565-4e67-4d00-9c2e-cf91774b37d5\" xlink:actuate=\"onRequest\" xlink:href=\"psysml:17702565-4e67-4d00-9c2e-cf91774b37d5\" xlink:show=\"new\" xlink:title=\"psysml:17702565-4e67-4d00-9c2e-cf91774b37d5\" xlink:type=\"simple\"><g id=\"elem_E5\"><rect fill=\"#F1F1F1\" height=\"48.2656\" id=\"E5\" rx=\"10\" ry=\"10\" style=\"stroke:#181818;stroke-width:0.5;\" width=\"102\" x=\"257.34\" y=\"423\"/><ellipse cx=\"272.34\" cy=\"443.1328\" fill=\"#FFA500\" rx=\"11\" ry=\"11\" style=\"stroke:#181818;stroke-width:1.0;\"/><path d=\"M272.4025,450.3047 Q270.2931,450.3047 269.1994,449.1797 Q268.1056,448.0547 268.1056,446.0078 L268.1056,437.9922 L270.5744,437.9922 L270.5744,445.5703 Q270.5744,447.0078 271.0275,447.6016 Q271.4806,448.1797 272.4338,448.1797 Q273.4494,448.1797 273.8713,447.5703 Q274.3088,446.9609 274.3088,445.5547 L274.3088,437.9922 L276.7775,437.9922 L276.7775,445.9922 Q276.7775,447.9766 275.6838,449.1484 Q274.6056,450.3047 272.4025,450.3047 Z \" fill=\"#000000\"/><text fill=\"#000000\" font-family=\"sans-serif\" font-size=\"12\" font-style=\"italic\" lengthAdjust=\"spacing\" textLength=\"74\" x=\"284.34\" y=\"439.1387\">«fork node»</text><text fill=\"#000000\" font-family=\"sans-serif\" font-size=\"14\" lengthAdjust=\"spacing\" textLength=\"8\" x=\"313.34\" y=\"454.9639\">F</text><line style=\"stroke:#181818;stroke-width:0.5;\" x1=\"258.34\" x2=\"358.34\" y1=\"463.2656\" y2=\"463.2656\"/></g></a><!--MD5=[60a26617385b1d2d0262a64233df1f8d]\n",
       "class E6--><a href=\"psysml:2e4137e4-9d77-4a25-b719-c29e464dbfc7\" target=\"_top\" title=\"psysml:2e4137e4-9d77-4a25-b719-c29e464dbfc7\" xlink:actuate=\"onRequest\" xlink:href=\"psysml:2e4137e4-9d77-4a25-b719-c29e464dbfc7\" xlink:show=\"new\" xlink:title=\"psysml:2e4137e4-9d77-4a25-b719-c29e464dbfc7\" xlink:type=\"simple\"><g id=\"elem_E6\"><rect fill=\"#F1F1F1\" height=\"48.2656\" id=\"E6\" rx=\"10\" ry=\"10\" style=\"stroke:#181818;stroke-width:0.5;\" width=\"81\" x=\"90.84\" y=\"531\"/><ellipse cx=\"105.84\" cy=\"551.1328\" fill=\"#FFA500\" rx=\"11\" ry=\"11\" style=\"stroke:#181818;stroke-width:1.0;\"/><path d=\"M105.9025,558.3047 Q103.7931,558.3047 102.6994,557.1797 Q101.6056,556.0547 101.6056,554.0078 L101.6056,545.9922 L104.0744,545.9922 L104.0744,553.5703 Q104.0744,555.0078 104.5275,555.6016 Q104.9806,556.1797 105.9338,556.1797 Q106.9494,556.1797 107.3713,555.5703 Q107.8088,554.9609 107.8088,553.5547 L107.8088,545.9922 L110.2775,545.9922 L110.2775,553.9922 Q110.2775,555.9766 109.1838,557.1484 Q108.1056,558.3047 105.9025,558.3047 Z \" fill=\"#000000\"/><text fill=\"#000000\" font-family=\"sans-serif\" font-size=\"12\" font-style=\"italic\" lengthAdjust=\"spacing\" textLength=\"53\" x=\"117.84\" y=\"547.1387\">«action»</text><text fill=\"#000000\" font-family=\"sans-serif\" font-size=\"14\" lengthAdjust=\"spacing\" textLength=\"19\" x=\"130.84\" y=\"562.9639\">B1</text><line style=\"stroke:#181818;stroke-width:0.5;\" x1=\"91.84\" x2=\"170.84\" y1=\"571.2656\" y2=\"571.2656\"/></g></a><!--MD5=[2156ba9850f5573cc1fc38a6a4b2f02b]\n",
       "class E7--><a href=\"psysml:22fc935b-3ced-457d-8850-10eb2e62808c\" target=\"_top\" title=\"psysml:22fc935b-3ced-457d-8850-10eb2e62808c\" xlink:actuate=\"onRequest\" xlink:href=\"psysml:22fc935b-3ced-457d-8850-10eb2e62808c\" xlink:show=\"new\" xlink:title=\"psysml:22fc935b-3ced-457d-8850-10eb2e62808c\" xlink:type=\"simple\"><g id=\"elem_E7\"><rect fill=\"#F1F1F1\" height=\"48.2656\" id=\"E7\" rx=\"10\" ry=\"10\" style=\"stroke:#181818;stroke-width:0.5;\" width=\"81\" x=\"319.84\" y=\"531\"/><ellipse cx=\"334.84\" cy=\"551.1328\" fill=\"#FFA500\" rx=\"11\" ry=\"11\" style=\"stroke:#181818;stroke-width:1.0;\"/><path d=\"M334.9025,558.3047 Q332.7931,558.3047 331.6994,557.1797 Q330.6056,556.0547 330.6056,554.0078 L330.6056,545.9922 L333.0744,545.9922 L333.0744,553.5703 Q333.0744,555.0078 333.5275,555.6016 Q333.9806,556.1797 334.9338,556.1797 Q335.9494,556.1797 336.3713,555.5703 Q336.8088,554.9609 336.8088,553.5547 L336.8088,545.9922 L339.2775,545.9922 L339.2775,553.9922 Q339.2775,555.9766 338.1838,557.1484 Q337.1056,558.3047 334.9025,558.3047 Z \" fill=\"#000000\"/><text fill=\"#000000\" font-family=\"sans-serif\" font-size=\"12\" font-style=\"italic\" lengthAdjust=\"spacing\" textLength=\"53\" x=\"346.84\" y=\"547.1387\">«action»</text><text fill=\"#000000\" font-family=\"sans-serif\" font-size=\"14\" lengthAdjust=\"spacing\" textLength=\"19\" x=\"359.84\" y=\"562.9639\">B2</text><line style=\"stroke:#181818;stroke-width:0.5;\" x1=\"320.84\" x2=\"399.84\" y1=\"571.2656\" y2=\"571.2656\"/></g></a><!--MD5=[a523cb2a0b79ecf9065ad8783f96c320]\n",
       "reverse link E1 to E2--><g id=\"link_E1_E2\"><a href=\"psysml:9306702f-37ef-4fdd-b535-5b953ffb2d58\" target=\"_top\" title=\"psysml:9306702f-37ef-4fdd-b535-5b953ffb2d58\" xlink:actuate=\"onRequest\" xlink:href=\"psysml:9306702f-37ef-4fdd-b535-5b953ffb2d58\" xlink:show=\"new\" xlink:title=\"psysml:9306702f-37ef-4fdd-b535-5b953ffb2d58\" xlink:type=\"simple\"><path d=\"M205.27,156.4 C185.44,174.89 165.81,193.2 151.09,206.92 \" fill=\"none\" id=\"E1-backto-E2\" style=\"stroke:#181818;stroke-width:1.0;\"/><polygon fill=\"#181818\" points=\"215,147.33,207.8838,148.4959,206.2229,155.5131,213.3392,154.3472,215,147.33\" style=\"stroke:#181818;stroke-width:1.0;\"/></a></g><!--MD5=[5d7b3810b1dd9b5164bea1151b29b665]\n",
       "reverse link E1 to E3--><g id=\"link_E1_E3\"><a href=\"psysml:ff946dee-4dd2-48de-88dc-ec164dbbdf2e\" target=\"_top\" title=\"psysml:ff946dee-4dd2-48de-88dc-ec164dbbdf2e\" xlink:actuate=\"onRequest\" xlink:href=\"psysml:ff946dee-4dd2-48de-88dc-ec164dbbdf2e\" xlink:show=\"new\" xlink:title=\"psysml:ff946dee-4dd2-48de-88dc-ec164dbbdf2e\" xlink:type=\"simple\"><path d=\"M264.01,159.93 C258.67,177.2 253.45,194.07 249.48,206.92 \" fill=\"none\" id=\"E1-backto-E3\" style=\"stroke:#181818;stroke-width:1.0;\"/><polygon fill=\"#181818\" points=\"267.91,147.33,262.3146,151.8788,264.3615,158.7933,269.9569,154.2445,267.91,147.33\" style=\"stroke:#181818;stroke-width:1.0;\"/></a></g><!--MD5=[4d03bb2d0377dc85ccfab60ff574652b]\n",
       "link E2 to E4--><g id=\"link_E2_E4\"><a href=\"psysml:f9bcfb7b-138a-4058-8879-7210022ba40a\" target=\"_top\" title=\"psysml:f9bcfb7b-138a-4058-8879-7210022ba40a\" xlink:actuate=\"onRequest\" xlink:href=\"psysml:f9bcfb7b-138a-4058-8879-7210022ba40a\" xlink:show=\"new\" xlink:title=\"psysml:f9bcfb7b-138a-4058-8879-7210022ba40a\" xlink:type=\"simple\"><path d=\"M158.24,255 C181.47,271.75 212.96,294.46 237.14,311.89 \" fill=\"none\" id=\"E2-to-E4\" style=\"stroke:#181818;stroke-width:1.0;\"/><polygon fill=\"#181818\" points=\"241.26,314.86,236.2839,306.3607,237.1991,311.943,231.6167,312.8581,241.26,314.86\" style=\"stroke:#181818;stroke-width:1.0;\"/></a></g><!--MD5=[af87c684e3b0d8be13c1a698a818ef1e]\n",
       "link E3 to E4--><g id=\"link_E3_E4\"><a href=\"psysml:6481bc83-60df-4dde-906c-a5becb339116\" target=\"_top\" title=\"psysml:6481bc83-60df-4dde-906c-a5becb339116\" xlink:actuate=\"onRequest\" xlink:href=\"psysml:6481bc83-60df-4dde-906c-a5becb339116\" xlink:show=\"new\" xlink:title=\"psysml:6481bc83-60df-4dde-906c-a5becb339116\" xlink:type=\"simple\"><path d=\"M249.07,255 C253.75,271 260.02,292.45 265.02,309.53 \" fill=\"none\" id=\"E3-to-E4\" style=\"stroke:#181818;stroke-width:1.0;\"/><polygon fill=\"#181818\" points=\"266.52,314.68,267.84,304.92,265.12,309.88,260.16,307.16,266.52,314.68\" style=\"stroke:#181818;stroke-width:1.0;\"/></a></g><!--MD5=[f2c5c03aa1e8c0ba21c10a05e6444b8e]\n",
       "reverse link E1 to E4--><g id=\"link_E1_E4\"><a href=\"psysml:c17bb3db-0b7d-4d5b-b917-165c66d3be23\" target=\"_top\" title=\"psysml:c17bb3db-0b7d-4d5b-b917-165c66d3be23\" xlink:actuate=\"onRequest\" xlink:href=\"psysml:c17bb3db-0b7d-4d5b-b917-165c66d3be23\" xlink:show=\"new\" xlink:title=\"psysml:c17bb3db-0b7d-4d5b-b917-165c66d3be23\" xlink:type=\"simple\"><path d=\"M301.91,160.27 C304.53,190.23 305.22,224.27 300.34,255 C297.05,275.8 289.37,298.48 283.04,314.87 \" fill=\"none\" id=\"E1-backto-E4\" style=\"stroke:#181818;stroke-width:1.0;\"/><polygon fill=\"#181818\" points=\"300.63,147.26,297.2364,153.6227,301.8044,159.2024,305.198,152.8397,300.63,147.26\" style=\"stroke:#181818;stroke-width:1.0;\"/></a></g><!--MD5=[1b7591eae5389033d8d09a9d6721a717]\n",
       "link E4 to E5--><g id=\"link_E4_E5\"><a href=\"psysml:091dd6b1-b372-46ae-b0ca-4e4aa94aac13\" target=\"_top\" title=\"psysml:091dd6b1-b372-46ae-b0ca-4e4aa94aac13\" xlink:actuate=\"onRequest\" xlink:href=\"psysml:091dd6b1-b372-46ae-b0ca-4e4aa94aac13\" xlink:show=\"new\" xlink:title=\"psysml:091dd6b1-b372-46ae-b0ca-4e4aa94aac13\" xlink:type=\"simple\"><path d=\"M280.94,363 C286.22,379 293.3,400.45 298.94,417.53 \" fill=\"none\" id=\"E4-to-E5\" style=\"stroke:#181818;stroke-width:1.0;\"/><polygon fill=\"#181818\" points=\"300.64,422.68,301.6152,412.8795,299.0717,417.9323,294.0189,415.3888,300.64,422.68\" style=\"stroke:#181818;stroke-width:1.0;\"/></a></g><!--MD5=[33238bef88d6431a141d8bc8fb12bca0]\n",
       "reverse link E1 to E5--><g id=\"link_E1_E5\"><a href=\"psysml:75ce6460-81e3-4fd8-b178-253d08d4aaea\" target=\"_top\" title=\"psysml:75ce6460-81e3-4fd8-b178-253d08d4aaea\" xlink:actuate=\"onRequest\" xlink:href=\"psysml:75ce6460-81e3-4fd8-b178-253d08d4aaea\" xlink:show=\"new\" xlink:title=\"psysml:75ce6460-81e3-4fd8-b178-253d08d4aaea\" xlink:type=\"simple\"><path d=\"M320.42,159.74 C338.15,216.75 354.45,294.57 341.34,363 C337.32,384.02 328.04,406.49 320.35,422.75 \" fill=\"none\" id=\"E1-backto-E5\" style=\"stroke:#181818;stroke-width:1.0;\"/><polygon fill=\"#181818\" points=\"316.39,147.17,314.413,154.1048,320.054,158.5969,322.031,151.6621,316.39,147.17\" style=\"stroke:#181818;stroke-width:1.0;\"/></a></g><!--MD5=[9120cf2e5df3bff93db8f754bbbc09b4]\n",
       "link E5 to E6--><g id=\"link_E5_E6\"><a href=\"psysml:418b7d58-d850-4614-9e9d-1c793842a2dd\" target=\"_top\" title=\"psysml:418b7d58-d850-4614-9e9d-1c793842a2dd\" xlink:actuate=\"onRequest\" xlink:href=\"psysml:418b7d58-d850-4614-9e9d-1c793842a2dd\" xlink:show=\"new\" xlink:title=\"psysml:418b7d58-d850-4614-9e9d-1c793842a2dd\" xlink:type=\"simple\"><path d=\"M269.94,471 C241.85,487.82 203.73,510.65 174.58,528.11 \" fill=\"none\" id=\"E5-to-E6\" style=\"stroke:#181818;stroke-width:1.0;\"/><polygon fill=\"#181818\" points=\"169.98,530.86,179.7554,529.6595,174.2675,528.2875,175.6395,522.7996,169.98,530.86\" style=\"stroke:#181818;stroke-width:1.0;\"/></a></g><!--MD5=[aca2ef284c2b1b90e17e73bf3f292c07]\n",
       "reverse link E1 to E6--><g id=\"link_E1_E6\"><a href=\"psysml:cbe5f5cb-386f-45e5-9c39-bb1873a128f8\" target=\"_top\" title=\"psysml:cbe5f5cb-386f-45e5-9c39-bb1873a128f8\" xlink:actuate=\"onRequest\" xlink:href=\"psysml:cbe5f5cb-386f-45e5-9c39-bb1873a128f8\" xlink:show=\"new\" xlink:title=\"psysml:cbe5f5cb-386f-45e5-9c39-bb1873a128f8\" xlink:type=\"simple\"><path d=\"M192.32,108.81 C146.09,128.92 95.15,160.32 68.34,207 C6,315.58 83.46,472.12 117.15,530.7 \" fill=\"none\" id=\"E1-backto-E6\" style=\"stroke:#181818;stroke-width:1.0;\"/><polygon fill=\"#181818\" points=\"204.57,103.68,197.4917,102.3026,193.4978,108.3066,200.5761,109.6841,204.57,103.68\" style=\"stroke:#181818;stroke-width:1.0;\"/></a></g><!--MD5=[3a9b96bfbf6b6ad89c494e81751bda47]\n",
       "link E5 to E7--><g id=\"link_E5_E7\"><a href=\"psysml:a0ea5228-fdc9-49fd-bb96-6ce22cf44d00\" target=\"_top\" title=\"psysml:a0ea5228-fdc9-49fd-bb96-6ce22cf44d00\" xlink:actuate=\"onRequest\" xlink:href=\"psysml:a0ea5228-fdc9-49fd-bb96-6ce22cf44d00\" xlink:show=\"new\" xlink:title=\"psysml:a0ea5228-fdc9-49fd-bb96-6ce22cf44d00\" xlink:type=\"simple\"><path d=\"M319.63,471 C327.55,487.14 338.18,508.82 346.59,525.97 \" fill=\"none\" id=\"E5-to-E7\" style=\"stroke:#181818;stroke-width:1.0;\"/><polygon fill=\"#181818\" points=\"348.9,530.68,348.5283,520.8382,346.6983,526.1908,341.3456,524.3609,348.9,530.68\" style=\"stroke:#181818;stroke-width:1.0;\"/></a></g><!--MD5=[fc9706a6b2cf8c0e423679d303750d3f]\n",
       "reverse link E1 to E7--><g id=\"link_E1_E7\"><a href=\"psysml:65a1f468-5d54-43ed-9b56-c01a515fc6bb\" target=\"_top\" title=\"psysml:65a1f468-5d54-43ed-9b56-c01a515fc6bb\" xlink:actuate=\"onRequest\" xlink:href=\"psysml:65a1f468-5d54-43ed-9b56-c01a515fc6bb\" xlink:show=\"new\" xlink:title=\"psysml:65a1f468-5d54-43ed-9b56-c01a515fc6bb\" xlink:type=\"simple\"><path d=\"M342.95,158.64 C351.09,174.14 358.42,190.65 363.34,207 C397.25,319.5 389.19,354.1 377.34,471 C375.27,491.49 370.38,514.39 366.37,530.94 \" fill=\"none\" id=\"E1-backto-E7\" style=\"stroke:#181818;stroke-width:1.0;\"/><polygon fill=\"#181818\" points=\"336.58,147,335.9535,154.1838,342.3438,157.5252,342.9703,150.3413,336.58,147\" style=\"stroke:#181818;stroke-width:1.0;\"/></a></g><!--MD5=[d7a9964fca8783d03305f56c11c0a750]\n",
       "@startuml\r\n",
       " \r\n",
       "comp def \"ControlNodeTest\" as E1  << <<(B,lemonchiffon) action  def>> [[psysml:fb29792e-912d-4ab4-a64b-8ae4f88f6031 ]] {\r\n",
       "##//successions//##\r\n",
       "noname first A1 then J\r\n",
       "noname first A2 then J\r\n",
       "noname first J then F\r\n",
       "noname first F then B1\r\n",
       "noname first F then B2\r\n",
       "}\r\n",
       "comp usage \"A1  \" as E2  << <<(U,orange) action>> [[psysml:fe1ec0cc-95d8-48f7-a7e5-aef83e3da3f9 ]] {\r\n",
       "}\r\n",
       "comp usage \"A2  \" as E3  << <<(U,orange) action>> [[psysml:c0a5c6df-be9c-4195-8c1c-0f8f015b3130 ]] {\r\n",
       "}\r\n",
       "comp usage \"J  \" as E4  << <<(U,orange) join node>> [[psysml:3bd09aec-2544-46ae-936d-01aed8eb96e7 ]] {\r\n",
       "}\r\n",
       "comp usage \"F  \" as E5  << <<(U,orange) fork node>> [[psysml:17702565-4e67-4d00-9c2e-cf91774b37d5 ]] {\r\n",
       "}\r\n",
       "comp usage \"B1  \" as E6  << <<(U,orange) action>> [[psysml:2e4137e4-9d77-4a25-b719-c29e464dbfc7 ]] {\r\n",
       "}\r\n",
       "comp usage \"B2  \" as E7  << <<(U,orange) action>> [[psysml:22fc935b-3ced-457d-8850-10eb2e62808c ]] {\r\n",
       "}\r\n",
       "E1 *- - E2 [[psysml:9306702f-37ef-4fdd-b535-5b953ffb2d58 ]] \r\n",
       "E1 *- - E3 [[psysml:ff946dee-4dd2-48de-88dc-ec164dbbdf2e ]] \r\n",
       "E2 - -> E4 [[psysml:f9bcfb7b-138a-4058-8879-7210022ba40a ]] \r\n",
       "E3 - -> E4 [[psysml:6481bc83-60df-4dde-906c-a5becb339116 ]] \r\n",
       "E1 *- - E4 [[psysml:c17bb3db-0b7d-4d5b-b917-165c66d3be23 ]] \r\n",
       "E4 - -> E5 [[psysml:091dd6b1-b372-46ae-b0ca-4e4aa94aac13 ]] \r\n",
       "E1 *- - E5 [[psysml:75ce6460-81e3-4fd8-b178-253d08d4aaea ]] \r\n",
       "E5 - -> E6 [[psysml:418b7d58-d850-4614-9e9d-1c793842a2dd ]] \r\n",
       "E1 *- - E6 [[psysml:cbe5f5cb-386f-45e5-9c39-bb1873a128f8 ]] \r\n",
       "E5 - -> E7 [[psysml:a0ea5228-fdc9-49fd-bb96-6ce22cf44d00 ]] \r\n",
       "E1 *- - E7 [[psysml:65a1f468-5d54-43ed-9b56-c01a515fc6bb ]] \r\n",
       "@enduml\r\n",
       "\n",
       "PlantUML version 1.2022.7(Mon Aug 22 17:01:30 UTC 2022)\n",
       "(EPL source distribution)\n",
       "Java Runtime: OpenJDK Runtime Environment\n",
       "JVM: OpenJDK 64-Bit Server VM\n",
       "Default Encoding: UTF-8\n",
       "Language: en\n",
       "Country: null\n",
       "--></g></svg>"
      ]
     },
     "execution_count": 31,
     "metadata": {},
     "output_type": "execute_result"
    }
   ],
   "source": [
    "%viz --style=\"PLANTUML\" --view=\"Tree\" \"ControlNodeTest\""
   ]
  },
  {
   "cell_type": "code",
   "execution_count": 32,
   "id": "13c11752",
   "metadata": {
    "execution": {
     "iopub.execute_input": "2024-12-16T14:20:25.682074Z",
     "iopub.status.busy": "2024-12-16T14:20:25.681874Z",
     "iopub.status.idle": "2024-12-16T14:20:25.730325Z",
     "shell.execute_reply": "2024-12-16T14:20:25.729435Z"
    }
   },
   "outputs": [
    {
     "data": {
      "image/svg+xml": [
       "<?xml version=\"1.0\" encoding=\"UTF-8\" standalone=\"no\"?><svg xmlns=\"http://www.w3.org/2000/svg\" xmlns:xlink=\"http://www.w3.org/1999/xlink\" contentStyleType=\"text/css\" height=\"389px\" preserveAspectRatio=\"none\" style=\"width:603px;height:389px;background:#000000;\" version=\"1.1\" viewBox=\"0 0 603 389\" width=\"603px\" zoomAndPan=\"magnify\"><defs/><g><rect fill=\"#0B1406\" height=\"1\" style=\"stroke:#0B1406;stroke-width:1.0;\" width=\"1\" x=\"0\" y=\"0\"/><rect fill=\"#FFFFFF\" height=\"226.6573\" style=\"stroke:#FFFFFF;stroke-width:1.0;\" width=\"602\" x=\"0\" y=\"0\"/><text fill=\"#000000\" font-family=\"sans-serif\" font-size=\"12\" font-weight=\"bold\" lengthAdjust=\"spacing\" textLength=\"145.75\" x=\"5\" y=\"16.1387\">Welcome to PlantUML!</text><text fill=\"#000000\" font-family=\"sans-serif\" font-size=\"12\" lengthAdjust=\"spacing\" textLength=\"4\" x=\"5\" y=\"30.1074\"> </text><text fill=\"#000000\" font-family=\"sans-serif\" font-size=\"12\" lengthAdjust=\"spacing\" textLength=\"283\" x=\"5\" y=\"44.0762\">You can start with a simple UML Diagram like:</text><text fill=\"#000000\" font-family=\"sans-serif\" font-size=\"12\" lengthAdjust=\"spacing\" textLength=\"4\" x=\"5\" y=\"58.0449\"> </text><text fill=\"#000000\" font-family=\"monospace\" font-size=\"12\" lengthAdjust=\"spacing\" textLength=\"119\" x=\"5\" y=\"73.7031\">Bob-&gt;Alice: Hello</text><text fill=\"#000000\" font-family=\"sans-serif\" font-size=\"12\" lengthAdjust=\"spacing\" textLength=\"4\" x=\"5\" y=\"88.3578\"> </text><text fill=\"#000000\" font-family=\"sans-serif\" font-size=\"12\" lengthAdjust=\"spacing\" textLength=\"14\" x=\"5\" y=\"102.3265\">Or</text><text fill=\"#000000\" font-family=\"sans-serif\" font-size=\"12\" lengthAdjust=\"spacing\" textLength=\"4\" x=\"5\" y=\"116.2953\"> </text><text fill=\"#000000\" font-family=\"monospace\" font-size=\"12\" lengthAdjust=\"spacing\" textLength=\"91\" x=\"5\" y=\"131.9535\">class Example</text><text fill=\"#000000\" font-family=\"sans-serif\" font-size=\"12\" lengthAdjust=\"spacing\" textLength=\"4\" x=\"5\" y=\"146.6082\"> </text><text fill=\"#000000\" font-family=\"sans-serif\" font-size=\"12\" lengthAdjust=\"spacing\" textLength=\"349\" x=\"5\" y=\"160.5769\">You will find more information about PlantUML syntax on</text><text fill=\"#000000\" font-family=\"sans-serif\" font-size=\"12\" lengthAdjust=\"spacing\" text-decoration=\"underline\" textLength=\"129\" x=\"358\" y=\"160.5769\">https://plantuml.com</text><text fill=\"#000000\" font-family=\"sans-serif\" font-size=\"12\" lengthAdjust=\"spacing\" textLength=\"4\" x=\"5\" y=\"174.5457\"> </text><text fill=\"#000000\" font-family=\"sans-serif\" font-size=\"12\" lengthAdjust=\"spacing\" textLength=\"299\" x=\"5\" y=\"188.5144\">(If you use this software, you accept its license)</text><text fill=\"#000000\" font-family=\"sans-serif\" font-size=\"12\" lengthAdjust=\"spacing\" textLength=\"108\" x=\"5\" y=\"204.8585\">(Details by typing</text><text fill=\"#000000\" font-family=\"monospace\" font-size=\"12\" lengthAdjust=\"spacing\" textLength=\"49\" x=\"117\" y=\"204.1726\">license</text><text fill=\"#000000\" font-family=\"sans-serif\" font-size=\"12\" lengthAdjust=\"spacing\" textLength=\"56\" x=\"170\" y=\"204.8585\">keyword)</text><text fill=\"#000000\" font-family=\"sans-serif\" font-size=\"12\" lengthAdjust=\"spacing\" textLength=\"4\" x=\"5\" y=\"218.8273\"> </text><image height=\"71\" width=\"80\" x=\"516\" xlink:href=\"data:image/png;base64,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\" y=\"6\"/><rect fill=\"#000000\" height=\"160.3594\" style=\"stroke:#000000;stroke-width:1.0;\" width=\"602\" x=\"0\" y=\"226.6573\"/><text fill=\"#33FF02\" font-family=\"sans-serif\" font-size=\"12\" font-style=\"italic\" font-weight=\"bold\" lengthAdjust=\"spacing\" textLength=\"123\" x=\"5\" y=\"243.6573\">PlantUML 1.2022.7</text><text fill=\"#33FF02\" font-family=\"sans-serif\" font-size=\"12\" font-style=\"italic\" font-weight=\"bold\" lengthAdjust=\"spacing\" textLength=\"4\" x=\"5\" y=\"257.6261\"> </text><text fill=\"#33FF02\" font-family=\"sans-serif\" font-size=\"12\" font-style=\"italic\" font-weight=\"bold\" lengthAdjust=\"spacing\" textLength=\"390\" x=\"5\" y=\"271.5948\">&lt;b&gt;This version of PlantUML is 846 days old, so you should</text><text fill=\"#33FF02\" font-family=\"sans-serif\" font-size=\"12\" font-style=\"italic\" font-weight=\"bold\" lengthAdjust=\"spacing\" textLength=\"398.875\" x=\"5\" y=\"285.5636\">&lt;b&gt;consider upgrading from https://plantuml.com/download</text><rect fill=\"#33FF02\" height=\"21.2969\" style=\"stroke:#33FF02;stroke-width:1.0;\" width=\"153.3125\" x=\"5\" y=\"295.5323\"/><text fill=\"#000000\" font-family=\"sans-serif\" font-size=\"14\" font-weight=\"bold\" lengthAdjust=\"spacing\" textLength=\"151.3125\" x=\"6\" y=\"310.5323\">[From string (line 2) ]</text><text fill=\"#33FF02\" font-family=\"sans-serif\" font-size=\"14\" font-weight=\"bold\" lengthAdjust=\"spacing\" textLength=\"4\" x=\"5\" y=\"330.8292\"> </text><text fill=\"#33FF02\" font-family=\"sans-serif\" font-size=\"14\" font-weight=\"bold\" lengthAdjust=\"spacing\" textLength=\"73.9375\" x=\"5\" y=\"347.1261\">@startuml</text><text fill=\"#33FF02\" font-family=\"sans-serif\" font-size=\"14\" font-weight=\"bold\" lengthAdjust=\"spacing\" text-decoration=\"wavy underline\" textLength=\"4\" x=\"5\" y=\"363.423\"> </text><text fill=\"#FF0000\" font-family=\"sans-serif\" font-size=\"14\" font-weight=\"bold\" lengthAdjust=\"spacing\" textLength=\"131\" x=\"9\" y=\"379.7198\">Empty description</text><!--MD5=[5b6570bdd48fecdb4121f0162c378f28]\n",
       "@startuml\r\n",
       " \r\n",
       "@enduml\r\n",
       "\n",
       "PlantUML version 1.2022.7(Mon Aug 22 17:01:30 UTC 2022)\n",
       "(EPL source distribution)\n",
       "Java Runtime: OpenJDK Runtime Environment\n",
       "JVM: OpenJDK 64-Bit Server VM\n",
       "Default Encoding: UTF-8\n",
       "Language: en\n",
       "Country: null\n",
       "--></g></svg>"
      ]
     },
     "execution_count": 32,
     "metadata": {},
     "output_type": "execute_result"
    }
   ],
   "source": [
    "%viz --style=\"PLANTUML\" --view=\"State\" \"ControlNodeTest\""
   ]
  },
  {
   "cell_type": "code",
   "execution_count": 33,
   "id": "80f36b89",
   "metadata": {
    "execution": {
     "iopub.execute_input": "2024-12-16T14:20:25.781519Z",
     "iopub.status.busy": "2024-12-16T14:20:25.781292Z",
     "iopub.status.idle": "2024-12-16T14:20:25.801594Z",
     "shell.execute_reply": "2024-12-16T14:20:25.800817Z"
    }
   },
   "outputs": [
    {
     "data": {
      "image/svg+xml": [
       "<?xml version=\"1.0\" encoding=\"UTF-8\" standalone=\"no\"?><svg xmlns=\"http://www.w3.org/2000/svg\" xmlns:xlink=\"http://www.w3.org/1999/xlink\" contentStyleType=\"text/css\" height=\"216px\" preserveAspectRatio=\"none\" style=\"width:252px;height:216px;background:#FFFFFF;\" version=\"1.1\" viewBox=\"0 0 252 216\" width=\"252px\" zoomAndPan=\"magnify\"><defs/><g><!--MD5=[fbc87193dbaf4d95561dea2c320d4a47]\n",
       "cluster E1--><g id=\"cluster_E1\"><a href=\"psysml:fb29792e-912d-4ab4-a64b-8ae4f88f6031\" target=\"_top\" title=\"psysml:fb29792e-912d-4ab4-a64b-8ae4f88f6031\" xlink:actuate=\"onRequest\" xlink:href=\"psysml:fb29792e-912d-4ab4-a64b-8ae4f88f6031\" xlink:show=\"new\" xlink:title=\"psysml:fb29792e-912d-4ab4-a64b-8ae4f88f6031\" xlink:type=\"simple\"><rect fill=\"#FFFFFF\" height=\"203\" id=\"E1\" style=\"stroke:#A80036;stroke-width:1.5;\" width=\"239\" x=\"7\" y=\"7\"/><rect fill=\"#F1F1F1\" height=\"40.2656\" style=\"stroke:#A80036;stroke-width:1.5;\" width=\"239\" x=\"7\" y=\"7\"/><text fill=\"#000000\" font-family=\"sans-serif\" font-size=\"12\" font-style=\"italic\" lengthAdjust=\"spacing\" textLength=\"81\" x=\"86\" y=\"23.1387\">«action  def»</text><text fill=\"#000000\" font-family=\"sans-serif\" font-size=\"14\" lengthAdjust=\"spacing\" textLength=\"118\" x=\"67.5\" y=\"38.9639\">ControlNodeTest</text></a></g><rect fill=\"#555555\" height=\"8\" style=\"stroke:none;stroke-width:1.0;\" width=\"80\" x=\"86\" y=\"113\"/><rect fill=\"#555555\" height=\"8\" style=\"stroke:none;stroke-width:1.0;\" width=\"80\" x=\"86\" y=\"131\"/><g><a href=\"psysml:fe1ec0cc-95d8-48f7-a7e5-aef83e3da3f9\" target=\"_top\" title=\"psysml:fe1ec0cc-95d8-48f7-a7e5-aef83e3da3f9\" xlink:actuate=\"onRequest\" xlink:href=\"psysml:fe1ec0cc-95d8-48f7-a7e5-aef83e3da3f9\" xlink:show=\"new\" xlink:title=\"psysml:fe1ec0cc-95d8-48f7-a7e5-aef83e3da3f9\" xlink:type=\"simple\"><rect fill=\"#F1F1F1\" height=\"45.2656\" id=\"E2\" rx=\"10\" ry=\"10\" style=\"stroke:#A80036;stroke-width:1.5;\" width=\"86\" x=\"144\" y=\"58\"/><ellipse cx=\"161.25\" cy=\"78.1328\" fill=\"#FFA500\" rx=\"11\" ry=\"11\" style=\"stroke:#181818;stroke-width:1.0;\"/><path d=\"M161.3125,85.3047 Q159.2031,85.3047 158.1094,84.1797 Q157.0156,83.0547 157.0156,81.0078 L157.0156,72.9922 L159.4844,72.9922 L159.4844,80.5703 Q159.4844,82.0078 159.9375,82.6016 Q160.3906,83.1797 161.3438,83.1797 Q162.3594,83.1797 162.7813,82.5703 Q163.2188,81.9609 163.2188,80.5547 L163.2188,72.9922 L165.6875,72.9922 L165.6875,80.9922 Q165.6875,82.9766 164.5938,84.1484 Q163.5156,85.3047 161.3125,85.3047 Z \" fill=\"#000000\"/><text fill=\"#000000\" font-family=\"sans-serif\" font-size=\"12\" font-style=\"italic\" lengthAdjust=\"spacing\" textLength=\"53\" x=\"173.75\" y=\"74.1387\">«action»</text><text fill=\"#000000\" font-family=\"sans-serif\" font-size=\"14\" lengthAdjust=\"spacing\" textLength=\"18\" x=\"191.25\" y=\"89.9639\">A1</text></a></g><g><a href=\"psysml:c0a5c6df-be9c-4195-8c1c-0f8f015b3130\" target=\"_top\" title=\"psysml:c0a5c6df-be9c-4195-8c1c-0f8f015b3130\" xlink:actuate=\"onRequest\" xlink:href=\"psysml:c0a5c6df-be9c-4195-8c1c-0f8f015b3130\" xlink:show=\"new\" xlink:title=\"psysml:c0a5c6df-be9c-4195-8c1c-0f8f015b3130\" xlink:type=\"simple\"><rect fill=\"#F1F1F1\" height=\"45.2656\" id=\"E3\" rx=\"10\" ry=\"10\" style=\"stroke:#A80036;stroke-width:1.5;\" width=\"86\" x=\"23\" y=\"58\"/><ellipse cx=\"40.25\" cy=\"78.1328\" fill=\"#FFA500\" rx=\"11\" ry=\"11\" style=\"stroke:#181818;stroke-width:1.0;\"/><path d=\"M40.3125,85.3047 Q38.2031,85.3047 37.1094,84.1797 Q36.0156,83.0547 36.0156,81.0078 L36.0156,72.9922 L38.4844,72.9922 L38.4844,80.5703 Q38.4844,82.0078 38.9375,82.6016 Q39.3906,83.1797 40.3438,83.1797 Q41.3594,83.1797 41.7813,82.5703 Q42.2188,81.9609 42.2188,80.5547 L42.2188,72.9922 L44.6875,72.9922 L44.6875,80.9922 Q44.6875,82.9766 43.5938,84.1484 Q42.5156,85.3047 40.3125,85.3047 Z \" fill=\"#000000\"/><text fill=\"#000000\" font-family=\"sans-serif\" font-size=\"12\" font-style=\"italic\" lengthAdjust=\"spacing\" textLength=\"53\" x=\"52.75\" y=\"74.1387\">«action»</text><text fill=\"#000000\" font-family=\"sans-serif\" font-size=\"14\" lengthAdjust=\"spacing\" textLength=\"18\" x=\"70.25\" y=\"89.9639\">A2</text></a></g><g><a href=\"psysml:2e4137e4-9d77-4a25-b719-c29e464dbfc7\" target=\"_top\" title=\"psysml:2e4137e4-9d77-4a25-b719-c29e464dbfc7\" xlink:actuate=\"onRequest\" xlink:href=\"psysml:2e4137e4-9d77-4a25-b719-c29e464dbfc7\" xlink:show=\"new\" xlink:title=\"psysml:2e4137e4-9d77-4a25-b719-c29e464dbfc7\" xlink:type=\"simple\"><rect fill=\"#F1F1F1\" height=\"45.2656\" id=\"E6\" rx=\"10\" ry=\"10\" style=\"stroke:#A80036;stroke-width:1.5;\" width=\"86\" x=\"23\" y=\"149\"/><ellipse cx=\"40.25\" cy=\"169.1328\" fill=\"#FFA500\" rx=\"11\" ry=\"11\" style=\"stroke:#181818;stroke-width:1.0;\"/><path d=\"M40.3125,176.3047 Q38.2031,176.3047 37.1094,175.1797 Q36.0156,174.0547 36.0156,172.0078 L36.0156,163.9922 L38.4844,163.9922 L38.4844,171.5703 Q38.4844,173.0078 38.9375,173.6016 Q39.3906,174.1797 40.3438,174.1797 Q41.3594,174.1797 41.7813,173.5703 Q42.2188,172.9609 42.2188,171.5547 L42.2188,163.9922 L44.6875,163.9922 L44.6875,171.9922 Q44.6875,173.9766 43.5938,175.1484 Q42.5156,176.3047 40.3125,176.3047 Z \" fill=\"#000000\"/><text fill=\"#000000\" font-family=\"sans-serif\" font-size=\"12\" font-style=\"italic\" lengthAdjust=\"spacing\" textLength=\"53\" x=\"52.75\" y=\"165.1387\">«action»</text><text fill=\"#000000\" font-family=\"sans-serif\" font-size=\"14\" lengthAdjust=\"spacing\" textLength=\"19\" x=\"69.75\" y=\"180.9639\">B1</text></a></g><g><a href=\"psysml:22fc935b-3ced-457d-8850-10eb2e62808c\" target=\"_top\" title=\"psysml:22fc935b-3ced-457d-8850-10eb2e62808c\" xlink:actuate=\"onRequest\" xlink:href=\"psysml:22fc935b-3ced-457d-8850-10eb2e62808c\" xlink:show=\"new\" xlink:title=\"psysml:22fc935b-3ced-457d-8850-10eb2e62808c\" xlink:type=\"simple\"><rect fill=\"#F1F1F1\" height=\"45.2656\" id=\"E7\" rx=\"10\" ry=\"10\" style=\"stroke:#A80036;stroke-width:1.5;\" width=\"86\" x=\"144\" y=\"149\"/><ellipse cx=\"161.25\" cy=\"169.1328\" fill=\"#FFA500\" rx=\"11\" ry=\"11\" style=\"stroke:#181818;stroke-width:1.0;\"/><path d=\"M161.3125,176.3047 Q159.2031,176.3047 158.1094,175.1797 Q157.0156,174.0547 157.0156,172.0078 L157.0156,163.9922 L159.4844,163.9922 L159.4844,171.5703 Q159.4844,173.0078 159.9375,173.6016 Q160.3906,174.1797 161.3438,174.1797 Q162.3594,174.1797 162.7813,173.5703 Q163.2188,172.9609 163.2188,171.5547 L163.2188,163.9922 L165.6875,163.9922 L165.6875,171.9922 Q165.6875,173.9766 164.5938,175.1484 Q163.5156,176.3047 161.3125,176.3047 Z \" fill=\"#000000\"/><text fill=\"#000000\" font-family=\"sans-serif\" font-size=\"12\" font-style=\"italic\" lengthAdjust=\"spacing\" textLength=\"53\" x=\"173.75\" y=\"165.1387\">«action»</text><text fill=\"#000000\" font-family=\"sans-serif\" font-size=\"14\" lengthAdjust=\"spacing\" textLength=\"19\" x=\"190.75\" y=\"180.9639\">B2</text></a></g><!--MD5=[4d03bb2d0377dc85ccfab60ff574652b]\n",
       "link E2 to E4--><g id=\"link_E2_E4\"><a href=\"psysml:f9bcfb7b-138a-4058-8879-7210022ba40a\" target=\"_top\" title=\"psysml:f9bcfb7b-138a-4058-8879-7210022ba40a\" xlink:actuate=\"onRequest\" xlink:href=\"psysml:f9bcfb7b-138a-4058-8879-7210022ba40a\" xlink:show=\"new\" xlink:title=\"psysml:f9bcfb7b-138a-4058-8879-7210022ba40a\" xlink:type=\"simple\"><path d=\"M148.71,103.15 C144.11,105.76 139.75,108.22 136.11,110.28 \" fill=\"none\" id=\"E2-to-E4\" style=\"stroke:#181818;stroke-width:1.0;\"/><polygon fill=\"#181818\" points=\"131.64,112.81,141.4429,111.8595,135.9917,110.3478,137.5034,104.8967,131.64,112.81\" style=\"stroke:#181818;stroke-width:1.0;\"/></a></g><!--MD5=[af87c684e3b0d8be13c1a698a818ef1e]\n",
       "link E3 to E4--><g id=\"link_E3_E4\"><a href=\"psysml:6481bc83-60df-4dde-906c-a5becb339116\" target=\"_top\" title=\"psysml:6481bc83-60df-4dde-906c-a5becb339116\" xlink:actuate=\"onRequest\" xlink:href=\"psysml:6481bc83-60df-4dde-906c-a5becb339116\" xlink:show=\"new\" xlink:title=\"psysml:6481bc83-60df-4dde-906c-a5becb339116\" xlink:type=\"simple\"><path d=\"M103.66,103.15 C108.19,105.76 112.47,108.22 116.05,110.28 \" fill=\"none\" id=\"E3-to-E4\" style=\"stroke:#181818;stroke-width:1.0;\"/><polygon fill=\"#181818\" points=\"120.46,112.81,114.636,104.8677,116.1205,110.3262,110.662,111.8108,120.46,112.81\" style=\"stroke:#181818;stroke-width:1.0;\"/></a></g><!--MD5=[1b7591eae5389033d8d09a9d6721a717]\n",
       "link E4 to E5--><g id=\"link_E4_E5\"><a href=\"psysml:091dd6b1-b372-46ae-b0ca-4e4aa94aac13\" target=\"_top\" title=\"psysml:091dd6b1-b372-46ae-b0ca-4e4aa94aac13\" xlink:actuate=\"onRequest\" xlink:href=\"psysml:091dd6b1-b372-46ae-b0ca-4e4aa94aac13\" xlink:show=\"new\" xlink:title=\"psysml:091dd6b1-b372-46ae-b0ca-4e4aa94aac13\" xlink:type=\"simple\"><path d=\"M126,121.08 C126,122.38 126,123.95 126,125.55 \" fill=\"none\" id=\"E4-to-E5\" style=\"stroke:#181818;stroke-width:1.0;\"/><polygon fill=\"#181818\" points=\"126,130.7,130,121.7,126,125.7,122,121.7,126,130.7\" style=\"stroke:#181818;stroke-width:1.0;\"/></a></g><!--MD5=[9120cf2e5df3bff93db8f754bbbc09b4]\n",
       "link E5 to E6--><g id=\"link_E5_E6\"><a href=\"psysml:418b7d58-d850-4614-9e9d-1c793842a2dd\" target=\"_top\" title=\"psysml:418b7d58-d850-4614-9e9d-1c793842a2dd\" xlink:actuate=\"onRequest\" xlink:href=\"psysml:418b7d58-d850-4614-9e9d-1c793842a2dd\" xlink:show=\"new\" xlink:title=\"psysml:418b7d58-d850-4614-9e9d-1c793842a2dd\" xlink:type=\"simple\"><path d=\"M120.46,139.18 C117.26,141.02 112.92,143.52 108.07,146.31 \" fill=\"none\" id=\"E5-to-E6\" style=\"stroke:#181818;stroke-width:1.0;\"/><polygon fill=\"#181818\" points=\"103.49,148.94,113.2866,147.9269,107.8259,146.4501,109.3027,140.9894,103.49,148.94\" style=\"stroke:#181818;stroke-width:1.0;\"/></a></g><!--MD5=[3a9b96bfbf6b6ad89c494e81751bda47]\n",
       "link E5 to E7--><g id=\"link_E5_E7\"><a href=\"psysml:a0ea5228-fdc9-49fd-bb96-6ce22cf44d00\" target=\"_top\" title=\"psysml:a0ea5228-fdc9-49fd-bb96-6ce22cf44d00\" xlink:actuate=\"onRequest\" xlink:href=\"psysml:a0ea5228-fdc9-49fd-bb96-6ce22cf44d00\" xlink:show=\"new\" xlink:title=\"psysml:a0ea5228-fdc9-49fd-bb96-6ce22cf44d00\" xlink:type=\"simple\"><path d=\"M131.63,139.18 C134.95,141.06 139.48,143.62 144.53,146.48 \" fill=\"none\" id=\"E5-to-E7\" style=\"stroke:#181818;stroke-width:1.0;\"/><polygon fill=\"#181818\" points=\"148.89,148.94,143.0351,141.0204,144.5409,146.4731,139.0881,147.9789,148.89,148.94\" style=\"stroke:#181818;stroke-width:1.0;\"/></a></g><!--MD5=[c768d468e2cd603a012a4297dcfd8a13]\n",
       "@startuml\r\n",
       " skinparam ranksep 10\r\n",
       "skinparam rectangle {\r\n",
       " backgroundColor<<block>> LightGreen\r\n",
       "}\r\n",
       "\r\n",
       "rec def \"ControlNodeTest\" as E1  << <<(B,lemonchiffon) action  def>> [[psysml:fb29792e-912d-4ab4-a64b-8ae4f88f6031 ]] {\r\n",
       "rec usage \"A1\" as E2  << <<(U,orange) action>> [[psysml:fe1ec0cc-95d8-48f7-a7e5-aef83e3da3f9 ]] {\r\n",
       "}\r\n",
       "\r\n",
       "rec usage \"A2\" as E3  << <<(U,orange) action>> [[psysml:c0a5c6df-be9c-4195-8c1c-0f8f015b3130 ]] {\r\n",
       "}\r\n",
       "\r\n",
       "join \"J\" as E4  [[psysml:3bd09aec-2544-46ae-936d-01aed8eb96e7 ]] \r\n",
       "fork \"F\" as E5  [[psysml:17702565-4e67-4d00-9c2e-cf91774b37d5 ]] \r\n",
       "rec usage \"B1\" as E6  << <<(U,orange) action>> [[psysml:2e4137e4-9d77-4a25-b719-c29e464dbfc7 ]] {\r\n",
       "}\r\n",
       "\r\n",
       "rec usage \"B2\" as E7  << <<(U,orange) action>> [[psysml:22fc935b-3ced-457d-8850-10eb2e62808c ]] {\r\n",
       "}\r\n",
       "\r\n",
       "}\r\n",
       "\r\n",
       "E2 - -> E4 [[psysml:f9bcfb7b-138a-4058-8879-7210022ba40a ]] \r\n",
       "E3 - -> E4 [[psysml:6481bc83-60df-4dde-906c-a5becb339116 ]] \r\n",
       "E4 - -> E5 [[psysml:091dd6b1-b372-46ae-b0ca-4e4aa94aac13 ]] \r\n",
       "E5 - -> E6 [[psysml:418b7d58-d850-4614-9e9d-1c793842a2dd ]] \r\n",
       "E5 - -> E7 [[psysml:a0ea5228-fdc9-49fd-bb96-6ce22cf44d00 ]] \r\n",
       "@enduml\r\n",
       "\n",
       "PlantUML version 1.2022.7(Mon Aug 22 17:01:30 UTC 2022)\n",
       "(EPL source distribution)\n",
       "Java Runtime: OpenJDK Runtime Environment\n",
       "JVM: OpenJDK 64-Bit Server VM\n",
       "Default Encoding: UTF-8\n",
       "Language: en\n",
       "Country: null\n",
       "--></g></svg>"
      ]
     },
     "execution_count": 33,
     "metadata": {},
     "output_type": "execute_result"
    }
   ],
   "source": [
    "%viz --style=\"PLANTUML\" --view=\"Interconnection\" \"ControlNodeTest\""
   ]
  },
  {
   "cell_type": "code",
   "execution_count": 34,
   "id": "b39f771c",
   "metadata": {
    "execution": {
     "iopub.execute_input": "2024-12-16T14:20:25.853231Z",
     "iopub.status.busy": "2024-12-16T14:20:25.853003Z",
     "iopub.status.idle": "2024-12-16T14:20:25.870879Z",
     "shell.execute_reply": "2024-12-16T14:20:25.870084Z"
    }
   },
   "outputs": [
    {
     "data": {
      "image/svg+xml": [
       "<?xml version=\"1.0\" encoding=\"UTF-8\" standalone=\"no\"?><svg xmlns=\"http://www.w3.org/2000/svg\" xmlns:xlink=\"http://www.w3.org/1999/xlink\" contentStyleType=\"text/css\" height=\"210px\" preserveAspectRatio=\"none\" style=\"width:252px;height:210px;background:#FFFFFF;\" version=\"1.1\" viewBox=\"0 0 252 210\" width=\"252px\" zoomAndPan=\"magnify\"><defs/><g><!--MD5=[fbc87193dbaf4d95561dea2c320d4a47]\n",
       "cluster E1--><g id=\"cluster_E1\"><a href=\"psysml:fb29792e-912d-4ab4-a64b-8ae4f88f6031\" target=\"_top\" title=\"psysml:fb29792e-912d-4ab4-a64b-8ae4f88f6031\" xlink:actuate=\"onRequest\" xlink:href=\"psysml:fb29792e-912d-4ab4-a64b-8ae4f88f6031\" xlink:show=\"new\" xlink:title=\"psysml:fb29792e-912d-4ab4-a64b-8ae4f88f6031\" xlink:type=\"simple\"><rect fill=\"#FFFFFF\" height=\"197\" id=\"E1\" style=\"stroke:#A80036;stroke-width:1.5;\" width=\"239\" x=\"7\" y=\"7\"/><rect fill=\"#F1F1F1\" height=\"40.2656\" style=\"stroke:#A80036;stroke-width:1.5;\" width=\"239\" x=\"7\" y=\"7\"/><text fill=\"#000000\" font-family=\"sans-serif\" font-size=\"12\" font-style=\"italic\" lengthAdjust=\"spacing\" textLength=\"81\" x=\"86\" y=\"23.1387\">«action  def»</text><text fill=\"#000000\" font-family=\"sans-serif\" font-size=\"14\" lengthAdjust=\"spacing\" textLength=\"118\" x=\"67.5\" y=\"38.9639\">ControlNodeTest</text></a></g><rect fill=\"#555555\" height=\"8\" style=\"stroke:none;stroke-width:1.0;\" width=\"80\" x=\"86\" y=\"111\"/><rect fill=\"#555555\" height=\"8\" style=\"stroke:none;stroke-width:1.0;\" width=\"80\" x=\"86\" y=\"127\"/><g><a href=\"psysml:fe1ec0cc-95d8-48f7-a7e5-aef83e3da3f9\" target=\"_top\" title=\"psysml:fe1ec0cc-95d8-48f7-a7e5-aef83e3da3f9\" xlink:actuate=\"onRequest\" xlink:href=\"psysml:fe1ec0cc-95d8-48f7-a7e5-aef83e3da3f9\" xlink:show=\"new\" xlink:title=\"psysml:fe1ec0cc-95d8-48f7-a7e5-aef83e3da3f9\" xlink:type=\"simple\"><rect fill=\"#F1F1F1\" height=\"45.2656\" id=\"E2\" rx=\"10\" ry=\"10\" style=\"stroke:#A80036;stroke-width:1.5;\" width=\"86\" x=\"144\" y=\"58\"/><ellipse cx=\"161.25\" cy=\"78.1328\" fill=\"#FFA500\" rx=\"11\" ry=\"11\" style=\"stroke:#181818;stroke-width:1.0;\"/><path d=\"M161.3125,85.3047 Q159.2031,85.3047 158.1094,84.1797 Q157.0156,83.0547 157.0156,81.0078 L157.0156,72.9922 L159.4844,72.9922 L159.4844,80.5703 Q159.4844,82.0078 159.9375,82.6016 Q160.3906,83.1797 161.3438,83.1797 Q162.3594,83.1797 162.7813,82.5703 Q163.2188,81.9609 163.2188,80.5547 L163.2188,72.9922 L165.6875,72.9922 L165.6875,80.9922 Q165.6875,82.9766 164.5938,84.1484 Q163.5156,85.3047 161.3125,85.3047 Z \" fill=\"#000000\"/><text fill=\"#000000\" font-family=\"sans-serif\" font-size=\"12\" font-style=\"italic\" lengthAdjust=\"spacing\" textLength=\"53\" x=\"173.75\" y=\"74.1387\">«action»</text><text fill=\"#000000\" font-family=\"sans-serif\" font-size=\"14\" lengthAdjust=\"spacing\" textLength=\"18\" x=\"191.25\" y=\"89.9639\">A1</text></a></g><g><a href=\"psysml:c0a5c6df-be9c-4195-8c1c-0f8f015b3130\" target=\"_top\" title=\"psysml:c0a5c6df-be9c-4195-8c1c-0f8f015b3130\" xlink:actuate=\"onRequest\" xlink:href=\"psysml:c0a5c6df-be9c-4195-8c1c-0f8f015b3130\" xlink:show=\"new\" xlink:title=\"psysml:c0a5c6df-be9c-4195-8c1c-0f8f015b3130\" xlink:type=\"simple\"><rect fill=\"#F1F1F1\" height=\"45.2656\" id=\"E3\" rx=\"10\" ry=\"10\" style=\"stroke:#A80036;stroke-width:1.5;\" width=\"86\" x=\"23\" y=\"58\"/><ellipse cx=\"40.25\" cy=\"78.1328\" fill=\"#FFA500\" rx=\"11\" ry=\"11\" style=\"stroke:#181818;stroke-width:1.0;\"/><path d=\"M40.3125,85.3047 Q38.2031,85.3047 37.1094,84.1797 Q36.0156,83.0547 36.0156,81.0078 L36.0156,72.9922 L38.4844,72.9922 L38.4844,80.5703 Q38.4844,82.0078 38.9375,82.6016 Q39.3906,83.1797 40.3438,83.1797 Q41.3594,83.1797 41.7813,82.5703 Q42.2188,81.9609 42.2188,80.5547 L42.2188,72.9922 L44.6875,72.9922 L44.6875,80.9922 Q44.6875,82.9766 43.5938,84.1484 Q42.5156,85.3047 40.3125,85.3047 Z \" fill=\"#000000\"/><text fill=\"#000000\" font-family=\"sans-serif\" font-size=\"12\" font-style=\"italic\" lengthAdjust=\"spacing\" textLength=\"53\" x=\"52.75\" y=\"74.1387\">«action»</text><text fill=\"#000000\" font-family=\"sans-serif\" font-size=\"14\" lengthAdjust=\"spacing\" textLength=\"18\" x=\"70.25\" y=\"89.9639\">A2</text></a></g><g><a href=\"psysml:2e4137e4-9d77-4a25-b719-c29e464dbfc7\" target=\"_top\" title=\"psysml:2e4137e4-9d77-4a25-b719-c29e464dbfc7\" xlink:actuate=\"onRequest\" xlink:href=\"psysml:2e4137e4-9d77-4a25-b719-c29e464dbfc7\" xlink:show=\"new\" xlink:title=\"psysml:2e4137e4-9d77-4a25-b719-c29e464dbfc7\" xlink:type=\"simple\"><rect fill=\"#F1F1F1\" height=\"45.2656\" id=\"E6\" rx=\"10\" ry=\"10\" style=\"stroke:#A80036;stroke-width:1.5;\" width=\"86\" x=\"23\" y=\"143\"/><ellipse cx=\"40.25\" cy=\"163.1328\" fill=\"#FFA500\" rx=\"11\" ry=\"11\" style=\"stroke:#181818;stroke-width:1.0;\"/><path d=\"M40.3125,170.3047 Q38.2031,170.3047 37.1094,169.1797 Q36.0156,168.0547 36.0156,166.0078 L36.0156,157.9922 L38.4844,157.9922 L38.4844,165.5703 Q38.4844,167.0078 38.9375,167.6016 Q39.3906,168.1797 40.3438,168.1797 Q41.3594,168.1797 41.7813,167.5703 Q42.2188,166.9609 42.2188,165.5547 L42.2188,157.9922 L44.6875,157.9922 L44.6875,165.9922 Q44.6875,167.9766 43.5938,169.1484 Q42.5156,170.3047 40.3125,170.3047 Z \" fill=\"#000000\"/><text fill=\"#000000\" font-family=\"sans-serif\" font-size=\"12\" font-style=\"italic\" lengthAdjust=\"spacing\" textLength=\"53\" x=\"52.75\" y=\"159.1387\">«action»</text><text fill=\"#000000\" font-family=\"sans-serif\" font-size=\"14\" lengthAdjust=\"spacing\" textLength=\"19\" x=\"69.75\" y=\"174.9639\">B1</text></a></g><g><a href=\"psysml:22fc935b-3ced-457d-8850-10eb2e62808c\" target=\"_top\" title=\"psysml:22fc935b-3ced-457d-8850-10eb2e62808c\" xlink:actuate=\"onRequest\" xlink:href=\"psysml:22fc935b-3ced-457d-8850-10eb2e62808c\" xlink:show=\"new\" xlink:title=\"psysml:22fc935b-3ced-457d-8850-10eb2e62808c\" xlink:type=\"simple\"><rect fill=\"#F1F1F1\" height=\"45.2656\" id=\"E7\" rx=\"10\" ry=\"10\" style=\"stroke:#A80036;stroke-width:1.5;\" width=\"86\" x=\"144\" y=\"143\"/><ellipse cx=\"161.25\" cy=\"163.1328\" fill=\"#FFA500\" rx=\"11\" ry=\"11\" style=\"stroke:#181818;stroke-width:1.0;\"/><path d=\"M161.3125,170.3047 Q159.2031,170.3047 158.1094,169.1797 Q157.0156,168.0547 157.0156,166.0078 L157.0156,157.9922 L159.4844,157.9922 L159.4844,165.5703 Q159.4844,167.0078 159.9375,167.6016 Q160.3906,168.1797 161.3438,168.1797 Q162.3594,168.1797 162.7813,167.5703 Q163.2188,166.9609 163.2188,165.5547 L163.2188,157.9922 L165.6875,157.9922 L165.6875,165.9922 Q165.6875,167.9766 164.5938,169.1484 Q163.5156,170.3047 161.3125,170.3047 Z \" fill=\"#000000\"/><text fill=\"#000000\" font-family=\"sans-serif\" font-size=\"12\" font-style=\"italic\" lengthAdjust=\"spacing\" textLength=\"53\" x=\"173.75\" y=\"159.1387\">«action»</text><text fill=\"#000000\" font-family=\"sans-serif\" font-size=\"14\" lengthAdjust=\"spacing\" textLength=\"19\" x=\"190.75\" y=\"174.9639\">B2</text></a></g><!--MD5=[4d03bb2d0377dc85ccfab60ff574652b]\n",
       "link E2 to E4--><g id=\"link_E2_E4\"><a href=\"psysml:f9bcfb7b-138a-4058-8879-7210022ba40a\" target=\"_top\" title=\"psysml:f9bcfb7b-138a-4058-8879-7210022ba40a\" xlink:actuate=\"onRequest\" xlink:href=\"psysml:f9bcfb7b-138a-4058-8879-7210022ba40a\" xlink:show=\"new\" xlink:title=\"psysml:f9bcfb7b-138a-4058-8879-7210022ba40a\" xlink:type=\"simple\"><path d=\"M146.31,103.18 C142.82,105.04 139.52,106.8 136.64,108.33 \" fill=\"none\" id=\"E2-to-E4\" style=\"stroke:#181818;stroke-width:1.0;stroke-dasharray:7.0,7.0;\"/><polygon fill=\"#181818\" points=\"131.96,110.82,141.7832,110.1092,136.3706,108.4648,138.0149,103.0522,131.96,110.82\" style=\"stroke:#181818;stroke-width:1.0;\"/></a></g><!--MD5=[af87c684e3b0d8be13c1a698a818ef1e]\n",
       "link E3 to E4--><g id=\"link_E3_E4\"><a href=\"psysml:6481bc83-60df-4dde-906c-a5becb339116\" target=\"_top\" title=\"psysml:6481bc83-60df-4dde-906c-a5becb339116\" xlink:actuate=\"onRequest\" xlink:href=\"psysml:6481bc83-60df-4dde-906c-a5becb339116\" xlink:show=\"new\" xlink:title=\"psysml:6481bc83-60df-4dde-906c-a5becb339116\" xlink:type=\"simple\"><path d=\"M106.02,103.18 C109.46,105.04 112.7,106.8 115.53,108.33 \" fill=\"none\" id=\"E3-to-E4\" style=\"stroke:#181818;stroke-width:1.0;stroke-dasharray:7.0,7.0;\"/><polygon fill=\"#181818\" points=\"120.14,110.82,114.1152,103.0289,115.7386,108.4478,110.3196,110.0712,120.14,110.82\" style=\"stroke:#181818;stroke-width:1.0;\"/></a></g><!--MD5=[1b7591eae5389033d8d09a9d6721a717]\n",
       "link E4 to E5--><g id=\"link_E4_E5\"><a href=\"psysml:091dd6b1-b372-46ae-b0ca-4e4aa94aac13\" target=\"_top\" title=\"psysml:091dd6b1-b372-46ae-b0ca-4e4aa94aac13\" xlink:actuate=\"onRequest\" xlink:href=\"psysml:091dd6b1-b372-46ae-b0ca-4e4aa94aac13\" xlink:show=\"new\" xlink:title=\"psysml:091dd6b1-b372-46ae-b0ca-4e4aa94aac13\" xlink:type=\"simple\"><path d=\"M126,119.25 C126,120.05 126,120.94 126,121.86 \" fill=\"none\" id=\"E4-to-E5\" style=\"stroke:#181818;stroke-width:1.0;stroke-dasharray:7.0,7.0;\"/><polygon fill=\"#181818\" points=\"126,126.96,130,117.96,126,121.96,122,117.96,126,126.96\" style=\"stroke:#181818;stroke-width:1.0;\"/></a></g><!--MD5=[9120cf2e5df3bff93db8f754bbbc09b4]\n",
       "link E5 to E6--><g id=\"link_E5_E6\"><a href=\"psysml:418b7d58-d850-4614-9e9d-1c793842a2dd\" target=\"_top\" title=\"psysml:418b7d58-d850-4614-9e9d-1c793842a2dd\" xlink:actuate=\"onRequest\" xlink:href=\"psysml:418b7d58-d850-4614-9e9d-1c793842a2dd\" xlink:show=\"new\" xlink:title=\"psysml:418b7d58-d850-4614-9e9d-1c793842a2dd\" xlink:type=\"simple\"><path d=\"M120.03,135.24 C117.39,136.67 114.03,138.49 110.28,140.52 \" fill=\"none\" id=\"E5-to-E6\" style=\"stroke:#181818;stroke-width:1.0;stroke-dasharray:7.0,7.0;\"/><polygon fill=\"#181818\" points=\"105.72,142.98,115.5404,142.2312,110.1214,140.6078,111.7448,135.1889,105.72,142.98\" style=\"stroke:#181818;stroke-width:1.0;\"/></a></g><!--MD5=[3a9b96bfbf6b6ad89c494e81751bda47]\n",
       "link E5 to E7--><g id=\"link_E5_E7\"><a href=\"psysml:a0ea5228-fdc9-49fd-bb96-6ce22cf44d00\" target=\"_top\" title=\"psysml:a0ea5228-fdc9-49fd-bb96-6ce22cf44d00\" xlink:actuate=\"onRequest\" xlink:href=\"psysml:a0ea5228-fdc9-49fd-bb96-6ce22cf44d00\" xlink:show=\"new\" xlink:title=\"psysml:a0ea5228-fdc9-49fd-bb96-6ce22cf44d00\" xlink:type=\"simple\"><path d=\"M132.07,135.24 C134.76,136.67 138.17,138.49 141.98,140.52 \" fill=\"none\" id=\"E5-to-E7\" style=\"stroke:#181818;stroke-width:1.0;stroke-dasharray:7.0,7.0;\"/><polygon fill=\"#181818\" points=\"146.61,142.98,140.5355,135.2275,142.1935,140.636,136.7851,142.2939,146.61,142.98\" style=\"stroke:#181818;stroke-width:1.0;\"/></a></g><!--MD5=[daeb4fc93ebb2213154dd39e0b50bb3e]\n",
       "@startuml\r\n",
       " skinparam ranksep 8\r\n",
       "\r\n",
       "rec def \"ControlNodeTest\" as E1  << <<(B,lemonchiffon) action  def>> [[psysml:fb29792e-912d-4ab4-a64b-8ae4f88f6031 ]] {\r\n",
       "rec usage \"A1\" as E2  << <<(U,orange) action>> [[psysml:fe1ec0cc-95d8-48f7-a7e5-aef83e3da3f9 ]] {\r\n",
       "}\r\n",
       "\r\n",
       "rec usage \"A2\" as E3  << <<(U,orange) action>> [[psysml:c0a5c6df-be9c-4195-8c1c-0f8f015b3130 ]] {\r\n",
       "}\r\n",
       "\r\n",
       "join \"J\" as E4  [[psysml:3bd09aec-2544-46ae-936d-01aed8eb96e7 ]] \r\n",
       "fork \"F\" as E5  [[psysml:17702565-4e67-4d00-9c2e-cf91774b37d5 ]] \r\n",
       "rec usage \"B1\" as E6  << <<(U,orange) action>> [[psysml:2e4137e4-9d77-4a25-b719-c29e464dbfc7 ]] {\r\n",
       "}\r\n",
       "\r\n",
       "rec usage \"B2\" as E7  << <<(U,orange) action>> [[psysml:22fc935b-3ced-457d-8850-10eb2e62808c ]] {\r\n",
       "}\r\n",
       "\r\n",
       "}\r\n",
       "\r\n",
       "E2 ..> E4 [[psysml:f9bcfb7b-138a-4058-8879-7210022ba40a ]] \r\n",
       "E3 ..> E4 [[psysml:6481bc83-60df-4dde-906c-a5becb339116 ]] \r\n",
       "E4 ..> E5 [[psysml:091dd6b1-b372-46ae-b0ca-4e4aa94aac13 ]] \r\n",
       "E5 ..> E6 [[psysml:418b7d58-d850-4614-9e9d-1c793842a2dd ]] \r\n",
       "E5 ..> E7 [[psysml:a0ea5228-fdc9-49fd-bb96-6ce22cf44d00 ]] \r\n",
       "@enduml\r\n",
       "\n",
       "PlantUML version 1.2022.7(Mon Aug 22 17:01:30 UTC 2022)\n",
       "(EPL source distribution)\n",
       "Java Runtime: OpenJDK Runtime Environment\n",
       "JVM: OpenJDK 64-Bit Server VM\n",
       "Default Encoding: UTF-8\n",
       "Language: en\n",
       "Country: null\n",
       "--></g></svg>"
      ]
     },
     "execution_count": 34,
     "metadata": {},
     "output_type": "execute_result"
    }
   ],
   "source": [
    "%viz --style=\"PLANTUML\" --view=\"Action\" \"ControlNodeTest\""
   ]
  },
  {
   "cell_type": "code",
   "execution_count": 35,
   "id": "a6ac9bcf",
   "metadata": {
    "execution": {
     "iopub.execute_input": "2024-12-16T14:20:25.921992Z",
     "iopub.status.busy": "2024-12-16T14:20:25.921691Z",
     "iopub.status.idle": "2024-12-16T14:20:25.927651Z",
     "shell.execute_reply": "2024-12-16T14:20:25.927480Z"
    }
   },
   "outputs": [
    {
     "data": {
      "image/svg+xml": [
       "<?xml version=\"1.0\" encoding=\"UTF-8\" standalone=\"no\"?><svg xmlns=\"http://www.w3.org/2000/svg\" xmlns:xlink=\"http://www.w3.org/1999/xlink\" contentStyleType=\"text/css\" height=\"10px\" preserveAspectRatio=\"none\" style=\"width:10px;height:10px;background:#FFFFFF;\" version=\"1.1\" viewBox=\"0 0 10 10\" width=\"10px\" zoomAndPan=\"magnify\"><defs/><g><!--MD5=[395e82ba475bd2e80052467b56fa0251]\n",
       "@startuml\r\n",
       " skinparam roundcorner 20\r\n",
       "skinparam BoxPadding 20\r\n",
       "skinparam SequenceBoxBackgroundColor #white\r\n",
       "skinparam style strictuml\r\n",
       "skinparam maxMessageSize 100\r\n",
       "\r\n",
       "@enduml\r\n",
       "\n",
       "PlantUML version 1.2022.7(Mon Aug 22 17:01:30 UTC 2022)\n",
       "(EPL source distribution)\n",
       "Java Runtime: OpenJDK Runtime Environment\n",
       "JVM: OpenJDK 64-Bit Server VM\n",
       "Default Encoding: UTF-8\n",
       "Language: en\n",
       "Country: null\n",
       "--></g></svg>"
      ]
     },
     "execution_count": 35,
     "metadata": {},
     "output_type": "execute_result"
    }
   ],
   "source": [
    "%viz --style=\"PLANTUML\" --view=\"Sequence\" \"ControlNodeTest\""
   ]
  },
  {
   "cell_type": "code",
   "execution_count": 36,
   "id": "fc5af9a1",
   "metadata": {
    "execution": {
     "iopub.execute_input": "2024-12-16T14:20:25.983454Z",
     "iopub.status.busy": "2024-12-16T14:20:25.983189Z",
     "iopub.status.idle": "2024-12-16T14:20:26.007480Z",
     "shell.execute_reply": "2024-12-16T14:20:26.006638Z"
    }
   },
   "outputs": [
    {
     "data": {
      "image/svg+xml": [
       "<?xml version=\"1.0\" encoding=\"UTF-8\" standalone=\"no\"?><svg xmlns=\"http://www.w3.org/2000/svg\" xmlns:xlink=\"http://www.w3.org/1999/xlink\" contentStyleType=\"text/css\" height=\"366px\" preserveAspectRatio=\"none\" style=\"width:252px;height:366px;background:#FFFFFF;\" version=\"1.1\" viewBox=\"0 0 252 366\" width=\"252px\" zoomAndPan=\"magnify\"><defs/><g><!--MD5=[fbc87193dbaf4d95561dea2c320d4a47]\n",
       "cluster E1--><g id=\"cluster_E1\"><a href=\"psysml:fb29792e-912d-4ab4-a64b-8ae4f88f6031\" target=\"_top\" title=\"psysml:fb29792e-912d-4ab4-a64b-8ae4f88f6031\" xlink:actuate=\"onRequest\" xlink:href=\"psysml:fb29792e-912d-4ab4-a64b-8ae4f88f6031\" xlink:show=\"new\" xlink:title=\"psysml:fb29792e-912d-4ab4-a64b-8ae4f88f6031\" xlink:type=\"simple\"><rect fill=\"#FFFFFF\" height=\"353\" id=\"E1\" style=\"stroke:#A80036;stroke-width:1.5;\" width=\"239\" x=\"7\" y=\"7\"/><rect fill=\"#F1F1F1\" height=\"40.2656\" style=\"stroke:#A80036;stroke-width:1.5;\" width=\"239\" x=\"7\" y=\"7\"/><text fill=\"#000000\" font-family=\"sans-serif\" font-size=\"12\" font-style=\"italic\" lengthAdjust=\"spacing\" textLength=\"81\" x=\"86\" y=\"23.1387\">«action  def»</text><text fill=\"#000000\" font-family=\"sans-serif\" font-size=\"14\" lengthAdjust=\"spacing\" textLength=\"118\" x=\"67.5\" y=\"38.9639\">ControlNodeTest</text></a></g><rect fill=\"#555555\" height=\"8\" style=\"stroke:none;stroke-width:1.0;\" width=\"80\" x=\"86\" y=\"163\"/><rect fill=\"#555555\" height=\"8\" style=\"stroke:none;stroke-width:1.0;\" width=\"80\" x=\"86\" y=\"231\"/><g><a href=\"psysml:fe1ec0cc-95d8-48f7-a7e5-aef83e3da3f9\" target=\"_top\" title=\"psysml:fe1ec0cc-95d8-48f7-a7e5-aef83e3da3f9\" xlink:actuate=\"onRequest\" xlink:href=\"psysml:fe1ec0cc-95d8-48f7-a7e5-aef83e3da3f9\" xlink:show=\"new\" xlink:title=\"psysml:fe1ec0cc-95d8-48f7-a7e5-aef83e3da3f9\" xlink:type=\"simple\"><rect fill=\"#F1F1F1\" height=\"45.2656\" id=\"E2\" rx=\"10\" ry=\"10\" style=\"stroke:#A80036;stroke-width:1.5;\" width=\"86\" x=\"144\" y=\"58\"/><ellipse cx=\"161.25\" cy=\"78.1328\" fill=\"#FFA500\" rx=\"11\" ry=\"11\" style=\"stroke:#181818;stroke-width:1.0;\"/><path d=\"M161.3125,85.3047 Q159.2031,85.3047 158.1094,84.1797 Q157.0156,83.0547 157.0156,81.0078 L157.0156,72.9922 L159.4844,72.9922 L159.4844,80.5703 Q159.4844,82.0078 159.9375,82.6016 Q160.3906,83.1797 161.3438,83.1797 Q162.3594,83.1797 162.7813,82.5703 Q163.2188,81.9609 163.2188,80.5547 L163.2188,72.9922 L165.6875,72.9922 L165.6875,80.9922 Q165.6875,82.9766 164.5938,84.1484 Q163.5156,85.3047 161.3125,85.3047 Z \" fill=\"#000000\"/><text fill=\"#000000\" font-family=\"sans-serif\" font-size=\"12\" font-style=\"italic\" lengthAdjust=\"spacing\" textLength=\"53\" x=\"173.75\" y=\"74.1387\">«action»</text><text fill=\"#000000\" font-family=\"sans-serif\" font-size=\"14\" lengthAdjust=\"spacing\" textLength=\"18\" x=\"191.25\" y=\"89.9639\">A1</text></a></g><g><a href=\"psysml:c0a5c6df-be9c-4195-8c1c-0f8f015b3130\" target=\"_top\" title=\"psysml:c0a5c6df-be9c-4195-8c1c-0f8f015b3130\" xlink:actuate=\"onRequest\" xlink:href=\"psysml:c0a5c6df-be9c-4195-8c1c-0f8f015b3130\" xlink:show=\"new\" xlink:title=\"psysml:c0a5c6df-be9c-4195-8c1c-0f8f015b3130\" xlink:type=\"simple\"><rect fill=\"#F1F1F1\" height=\"45.2656\" id=\"E3\" rx=\"10\" ry=\"10\" style=\"stroke:#A80036;stroke-width:1.5;\" width=\"86\" x=\"23\" y=\"58\"/><ellipse cx=\"40.25\" cy=\"78.1328\" fill=\"#FFA500\" rx=\"11\" ry=\"11\" style=\"stroke:#181818;stroke-width:1.0;\"/><path d=\"M40.3125,85.3047 Q38.2031,85.3047 37.1094,84.1797 Q36.0156,83.0547 36.0156,81.0078 L36.0156,72.9922 L38.4844,72.9922 L38.4844,80.5703 Q38.4844,82.0078 38.9375,82.6016 Q39.3906,83.1797 40.3438,83.1797 Q41.3594,83.1797 41.7813,82.5703 Q42.2188,81.9609 42.2188,80.5547 L42.2188,72.9922 L44.6875,72.9922 L44.6875,80.9922 Q44.6875,82.9766 43.5938,84.1484 Q42.5156,85.3047 40.3125,85.3047 Z \" fill=\"#000000\"/><text fill=\"#000000\" font-family=\"sans-serif\" font-size=\"12\" font-style=\"italic\" lengthAdjust=\"spacing\" textLength=\"53\" x=\"52.75\" y=\"74.1387\">«action»</text><text fill=\"#000000\" font-family=\"sans-serif\" font-size=\"14\" lengthAdjust=\"spacing\" textLength=\"18\" x=\"70.25\" y=\"89.9639\">A2</text></a></g><g><a href=\"psysml:2e4137e4-9d77-4a25-b719-c29e464dbfc7\" target=\"_top\" title=\"psysml:2e4137e4-9d77-4a25-b719-c29e464dbfc7\" xlink:actuate=\"onRequest\" xlink:href=\"psysml:2e4137e4-9d77-4a25-b719-c29e464dbfc7\" xlink:show=\"new\" xlink:title=\"psysml:2e4137e4-9d77-4a25-b719-c29e464dbfc7\" xlink:type=\"simple\"><rect fill=\"#F1F1F1\" height=\"45.2656\" id=\"E6\" rx=\"10\" ry=\"10\" style=\"stroke:#A80036;stroke-width:1.5;\" width=\"86\" x=\"23\" y=\"299\"/><ellipse cx=\"40.25\" cy=\"319.1328\" fill=\"#FFA500\" rx=\"11\" ry=\"11\" style=\"stroke:#181818;stroke-width:1.0;\"/><path d=\"M40.3125,326.3047 Q38.2031,326.3047 37.1094,325.1797 Q36.0156,324.0547 36.0156,322.0078 L36.0156,313.9922 L38.4844,313.9922 L38.4844,321.5703 Q38.4844,323.0078 38.9375,323.6016 Q39.3906,324.1797 40.3438,324.1797 Q41.3594,324.1797 41.7813,323.5703 Q42.2188,322.9609 42.2188,321.5547 L42.2188,313.9922 L44.6875,313.9922 L44.6875,321.9922 Q44.6875,323.9766 43.5938,325.1484 Q42.5156,326.3047 40.3125,326.3047 Z \" fill=\"#000000\"/><text fill=\"#000000\" font-family=\"sans-serif\" font-size=\"12\" font-style=\"italic\" lengthAdjust=\"spacing\" textLength=\"53\" x=\"52.75\" y=\"315.1387\">«action»</text><text fill=\"#000000\" font-family=\"sans-serif\" font-size=\"14\" lengthAdjust=\"spacing\" textLength=\"19\" x=\"69.75\" y=\"330.9639\">B1</text></a></g><g><a href=\"psysml:22fc935b-3ced-457d-8850-10eb2e62808c\" target=\"_top\" title=\"psysml:22fc935b-3ced-457d-8850-10eb2e62808c\" xlink:actuate=\"onRequest\" xlink:href=\"psysml:22fc935b-3ced-457d-8850-10eb2e62808c\" xlink:show=\"new\" xlink:title=\"psysml:22fc935b-3ced-457d-8850-10eb2e62808c\" xlink:type=\"simple\"><rect fill=\"#F1F1F1\" height=\"45.2656\" id=\"E7\" rx=\"10\" ry=\"10\" style=\"stroke:#A80036;stroke-width:1.5;\" width=\"86\" x=\"144\" y=\"299\"/><ellipse cx=\"161.25\" cy=\"319.1328\" fill=\"#FFA500\" rx=\"11\" ry=\"11\" style=\"stroke:#181818;stroke-width:1.0;\"/><path d=\"M161.3125,326.3047 Q159.2031,326.3047 158.1094,325.1797 Q157.0156,324.0547 157.0156,322.0078 L157.0156,313.9922 L159.4844,313.9922 L159.4844,321.5703 Q159.4844,323.0078 159.9375,323.6016 Q160.3906,324.1797 161.3438,324.1797 Q162.3594,324.1797 162.7813,323.5703 Q163.2188,322.9609 163.2188,321.5547 L163.2188,313.9922 L165.6875,313.9922 L165.6875,321.9922 Q165.6875,323.9766 164.5938,325.1484 Q163.5156,326.3047 161.3125,326.3047 Z \" fill=\"#000000\"/><text fill=\"#000000\" font-family=\"sans-serif\" font-size=\"12\" font-style=\"italic\" lengthAdjust=\"spacing\" textLength=\"53\" x=\"173.75\" y=\"315.1387\">«action»</text><text fill=\"#000000\" font-family=\"sans-serif\" font-size=\"14\" lengthAdjust=\"spacing\" textLength=\"19\" x=\"190.75\" y=\"330.9639\">B2</text></a></g><!--MD5=[4d03bb2d0377dc85ccfab60ff574652b]\n",
       "link E2 to E4--><g id=\"link_E2_E4\"><a href=\"psysml:f9bcfb7b-138a-4058-8879-7210022ba40a\" target=\"_top\" title=\"psysml:f9bcfb7b-138a-4058-8879-7210022ba40a\" xlink:actuate=\"onRequest\" xlink:href=\"psysml:f9bcfb7b-138a-4058-8879-7210022ba40a\" xlink:show=\"new\" xlink:title=\"psysml:f9bcfb7b-138a-4058-8879-7210022ba40a\" xlink:type=\"simple\"><path d=\"M171.29,103.26 C158.08,121.56 139.98,146.64 131.2,158.8 \" fill=\"none\" id=\"E2-to-E4\" style=\"stroke:#181818;stroke-width:1.0;\"/><polygon fill=\"#181818\" points=\"128.23,162.91,136.7377,157.9482,131.1538,158.854,130.248,153.2701,128.23,162.91\" style=\"stroke:#181818;stroke-width:1.0;\"/></a></g><!--MD5=[af87c684e3b0d8be13c1a698a818ef1e]\n",
       "link E3 to E4--><g id=\"link_E3_E4\"><a href=\"psysml:6481bc83-60df-4dde-906c-a5becb339116\" target=\"_top\" title=\"psysml:6481bc83-60df-4dde-906c-a5becb339116\" xlink:actuate=\"onRequest\" xlink:href=\"psysml:6481bc83-60df-4dde-906c-a5becb339116\" xlink:show=\"new\" xlink:title=\"psysml:6481bc83-60df-4dde-906c-a5becb339116\" xlink:type=\"simple\"><path d=\"M81.45,103.26 C94.45,121.56 112.25,146.64 120.89,158.8 \" fill=\"none\" id=\"E3-to-E4\" style=\"stroke:#181818;stroke-width:1.0;\"/><polygon fill=\"#181818\" points=\"123.81,162.91,121.8466,153.2588,120.9092,158.8375,115.3306,157.9001,123.81,162.91\" style=\"stroke:#181818;stroke-width:1.0;\"/></a></g><!--MD5=[1b7591eae5389033d8d09a9d6721a717]\n",
       "link E4 to E5--><g id=\"link_E4_E5\"><a href=\"psysml:091dd6b1-b372-46ae-b0ca-4e4aa94aac13\" target=\"_top\" title=\"psysml:091dd6b1-b372-46ae-b0ca-4e4aa94aac13\" xlink:actuate=\"onRequest\" xlink:href=\"psysml:091dd6b1-b372-46ae-b0ca-4e4aa94aac13\" xlink:show=\"new\" xlink:title=\"psysml:091dd6b1-b372-46ae-b0ca-4e4aa94aac13\" xlink:type=\"simple\"><path d=\"M126,171.18 C126,180.92 126,210.52 126,225.34 \" fill=\"none\" id=\"E4-to-E5\" style=\"stroke:#181818;stroke-width:1.0;\"/><polygon fill=\"#181818\" points=\"126,230.69,130,221.69,126,225.69,122,221.69,126,230.69\" style=\"stroke:#181818;stroke-width:1.0;\"/></a></g><!--MD5=[9120cf2e5df3bff93db8f754bbbc09b4]\n",
       "link E5 to E6--><g id=\"link_E5_E6\"><a href=\"psysml:418b7d58-d850-4614-9e9d-1c793842a2dd\" target=\"_top\" title=\"psysml:418b7d58-d850-4614-9e9d-1c793842a2dd\" xlink:actuate=\"onRequest\" xlink:href=\"psysml:418b7d58-d850-4614-9e9d-1c793842a2dd\" xlink:show=\"new\" xlink:title=\"psysml:418b7d58-d850-4614-9e9d-1c793842a2dd\" xlink:type=\"simple\"><path d=\"M123.72,239.21 C117.33,248.22 98.74,274.39 84.37,294.63 \" fill=\"none\" id=\"E5-to-E6\" style=\"stroke:#181818;stroke-width:1.0;\"/><polygon fill=\"#181818\" points=\"81.37,298.85,89.8411,293.8261,84.264,294.7727,83.3174,289.1956,81.37,298.85\" style=\"stroke:#181818;stroke-width:1.0;\"/></a></g><!--MD5=[3a9b96bfbf6b6ad89c494e81751bda47]\n",
       "link E5 to E7--><g id=\"link_E5_E7\"><a href=\"psysml:a0ea5228-fdc9-49fd-bb96-6ce22cf44d00\" target=\"_top\" title=\"psysml:a0ea5228-fdc9-49fd-bb96-6ce22cf44d00\" xlink:actuate=\"onRequest\" xlink:href=\"psysml:a0ea5228-fdc9-49fd-bb96-6ce22cf44d00\" xlink:show=\"new\" xlink:title=\"psysml:a0ea5228-fdc9-49fd-bb96-6ce22cf44d00\" xlink:type=\"simple\"><path d=\"M128.32,239.21 C134.82,248.22 153.71,274.39 168.32,294.63 \" fill=\"none\" id=\"E5-to-E7\" style=\"stroke:#181818;stroke-width:1.0;\"/><polygon fill=\"#181818\" points=\"171.37,298.85,169.3458,289.2114,168.4436,294.7959,162.8591,293.8937,171.37,298.85\" style=\"stroke:#181818;stroke-width:1.0;\"/></a></g><!--MD5=[8461389c2de6290b4496d84fd5d85350]\n",
       "@startuml\r\n",
       " \r\n",
       "rec def \"ControlNodeTest\" as E1  << <<(B,lemonchiffon) action  def>> [[psysml:fb29792e-912d-4ab4-a64b-8ae4f88f6031 ]] {\r\n",
       "rec usage \"A1\" as E2  << <<(U,orange) action>> [[psysml:fe1ec0cc-95d8-48f7-a7e5-aef83e3da3f9 ]] {\r\n",
       "}\r\n",
       "\r\n",
       "rec usage \"A2\" as E3  << <<(U,orange) action>> [[psysml:c0a5c6df-be9c-4195-8c1c-0f8f015b3130 ]] {\r\n",
       "}\r\n",
       "\r\n",
       "join \"J\" as E4  [[psysml:3bd09aec-2544-46ae-936d-01aed8eb96e7 ]] \r\n",
       "fork \"F\" as E5  [[psysml:17702565-4e67-4d00-9c2e-cf91774b37d5 ]] \r\n",
       "rec usage \"B1\" as E6  << <<(U,orange) action>> [[psysml:2e4137e4-9d77-4a25-b719-c29e464dbfc7 ]] {\r\n",
       "}\r\n",
       "\r\n",
       "rec usage \"B2\" as E7  << <<(U,orange) action>> [[psysml:22fc935b-3ced-457d-8850-10eb2e62808c ]] {\r\n",
       "}\r\n",
       "\r\n",
       "}\r\n",
       "\r\n",
       "E2 - -> E4 [[psysml:f9bcfb7b-138a-4058-8879-7210022ba40a ]] \r\n",
       "E3 - -> E4 [[psysml:6481bc83-60df-4dde-906c-a5becb339116 ]] \r\n",
       "E4 - -> E5 [[psysml:091dd6b1-b372-46ae-b0ca-4e4aa94aac13 ]] \r\n",
       "E5 - -> E6 [[psysml:418b7d58-d850-4614-9e9d-1c793842a2dd ]] \r\n",
       "E5 - -> E7 [[psysml:a0ea5228-fdc9-49fd-bb96-6ce22cf44d00 ]] \r\n",
       "@enduml\r\n",
       "\n",
       "PlantUML version 1.2022.7(Mon Aug 22 17:01:30 UTC 2022)\n",
       "(EPL source distribution)\n",
       "Java Runtime: OpenJDK Runtime Environment\n",
       "JVM: OpenJDK 64-Bit Server VM\n",
       "Default Encoding: UTF-8\n",
       "Language: en\n",
       "Country: null\n",
       "--></g></svg>"
      ]
     },
     "execution_count": 36,
     "metadata": {},
     "output_type": "execute_result"
    }
   ],
   "source": [
    "%viz --style=\"PLANTUML\" --view=\"MIXED\" \"ControlNodeTest\""
   ]
  },
  {
   "cell_type": "code",
   "execution_count": 37,
   "id": "dbff932a",
   "metadata": {
    "execution": {
     "iopub.execute_input": "2024-12-16T14:20:26.063244Z",
     "iopub.status.busy": "2024-12-16T14:20:26.062913Z",
     "iopub.status.idle": "2024-12-16T14:20:26.079155Z",
     "shell.execute_reply": "2024-12-16T14:20:26.078982Z"
    }
   },
   "outputs": [
    {
     "data": {
      "image/svg+xml": [
       "<?xml version=\"1.0\" encoding=\"UTF-8\" standalone=\"no\"?><svg xmlns=\"http://www.w3.org/2000/svg\" xmlns:xlink=\"http://www.w3.org/1999/xlink\" contentStyleType=\"text/css\" height=\"366px\" preserveAspectRatio=\"none\" style=\"width:201px;height:366px;background:#FFFFFF;\" version=\"1.1\" viewBox=\"0 0 201 366\" width=\"201px\" zoomAndPan=\"magnify\"><defs/><g><!--MD5=[fbc87193dbaf4d95561dea2c320d4a47]\n",
       "cluster E1--><g id=\"cluster_E1\"><a href=\"psysml:fb29792e-912d-4ab4-a64b-8ae4f88f6031\" target=\"_top\" title=\"psysml:fb29792e-912d-4ab4-a64b-8ae4f88f6031\" xlink:actuate=\"onRequest\" xlink:href=\"psysml:fb29792e-912d-4ab4-a64b-8ae4f88f6031\" xlink:show=\"new\" xlink:title=\"psysml:fb29792e-912d-4ab4-a64b-8ae4f88f6031\" xlink:type=\"simple\"><rect fill=\"#FFFFFF\" height=\"353\" id=\"E1\" style=\"stroke:#383838;stroke-width:1.5;\" width=\"187\" x=\"7\" y=\"7\"/><text fill=\"#000000\" font-family=\"sans-serif\" font-size=\"12\" font-style=\"italic\" lengthAdjust=\"spacing\" textLength=\"81\" x=\"60\" y=\"23.1387\">«action  def»</text><text fill=\"#000000\" font-family=\"sans-serif\" font-size=\"14\" lengthAdjust=\"spacing\" textLength=\"118\" x=\"41.5\" y=\"38.9639\">ControlNodeTest</text><line style=\"stroke:#383838;stroke-width:1.0;\" x1=\"7\" x2=\"194\" y1=\"47.2656\" y2=\"47.2656\"/></a></g><rect fill=\"#555555\" height=\"8\" style=\"stroke:none;stroke-width:1.0;\" width=\"80\" x=\"60\" y=\"163\"/><rect fill=\"#555555\" height=\"8\" style=\"stroke:none;stroke-width:1.0;\" width=\"80\" x=\"60\" y=\"231\"/><g><a href=\"psysml:fe1ec0cc-95d8-48f7-a7e5-aef83e3da3f9\" target=\"_top\" title=\"psysml:fe1ec0cc-95d8-48f7-a7e5-aef83e3da3f9\" xlink:actuate=\"onRequest\" xlink:href=\"psysml:fe1ec0cc-95d8-48f7-a7e5-aef83e3da3f9\" xlink:show=\"new\" xlink:title=\"psysml:fe1ec0cc-95d8-48f7-a7e5-aef83e3da3f9\" xlink:type=\"simple\"><rect fill=\"#FFFFFF\" height=\"45.2656\" id=\"E2\" rx=\"10\" ry=\"10\" style=\"stroke:#383838;stroke-width:1.5;\" width=\"60\" x=\"118\" y=\"58\"/><text fill=\"#000000\" font-family=\"sans-serif\" font-size=\"12\" font-style=\"italic\" lengthAdjust=\"spacing\" textLength=\"53\" x=\"121.5\" y=\"74.1387\">«action»</text><text fill=\"#000000\" font-family=\"sans-serif\" font-size=\"14\" lengthAdjust=\"spacing\" textLength=\"18\" x=\"139\" y=\"89.9639\">A1</text></a></g><g><a href=\"psysml:c0a5c6df-be9c-4195-8c1c-0f8f015b3130\" target=\"_top\" title=\"psysml:c0a5c6df-be9c-4195-8c1c-0f8f015b3130\" xlink:actuate=\"onRequest\" xlink:href=\"psysml:c0a5c6df-be9c-4195-8c1c-0f8f015b3130\" xlink:show=\"new\" xlink:title=\"psysml:c0a5c6df-be9c-4195-8c1c-0f8f015b3130\" xlink:type=\"simple\"><rect fill=\"#FFFFFF\" height=\"45.2656\" id=\"E3\" rx=\"10\" ry=\"10\" style=\"stroke:#383838;stroke-width:1.5;\" width=\"60\" x=\"23\" y=\"58\"/><text fill=\"#000000\" font-family=\"sans-serif\" font-size=\"12\" font-style=\"italic\" lengthAdjust=\"spacing\" textLength=\"53\" x=\"26.5\" y=\"74.1387\">«action»</text><text fill=\"#000000\" font-family=\"sans-serif\" font-size=\"14\" lengthAdjust=\"spacing\" textLength=\"18\" x=\"44\" y=\"89.9639\">A2</text></a></g><g><a href=\"psysml:2e4137e4-9d77-4a25-b719-c29e464dbfc7\" target=\"_top\" title=\"psysml:2e4137e4-9d77-4a25-b719-c29e464dbfc7\" xlink:actuate=\"onRequest\" xlink:href=\"psysml:2e4137e4-9d77-4a25-b719-c29e464dbfc7\" xlink:show=\"new\" xlink:title=\"psysml:2e4137e4-9d77-4a25-b719-c29e464dbfc7\" xlink:type=\"simple\"><rect fill=\"#FFFFFF\" height=\"45.2656\" id=\"E6\" rx=\"10\" ry=\"10\" style=\"stroke:#383838;stroke-width:1.5;\" width=\"60\" x=\"23\" y=\"299\"/><text fill=\"#000000\" font-family=\"sans-serif\" font-size=\"12\" font-style=\"italic\" lengthAdjust=\"spacing\" textLength=\"53\" x=\"26.5\" y=\"315.1387\">«action»</text><text fill=\"#000000\" font-family=\"sans-serif\" font-size=\"14\" lengthAdjust=\"spacing\" textLength=\"19\" x=\"43.5\" y=\"330.9639\">B1</text></a></g><g><a href=\"psysml:22fc935b-3ced-457d-8850-10eb2e62808c\" target=\"_top\" title=\"psysml:22fc935b-3ced-457d-8850-10eb2e62808c\" xlink:actuate=\"onRequest\" xlink:href=\"psysml:22fc935b-3ced-457d-8850-10eb2e62808c\" xlink:show=\"new\" xlink:title=\"psysml:22fc935b-3ced-457d-8850-10eb2e62808c\" xlink:type=\"simple\"><rect fill=\"#FFFFFF\" height=\"45.2656\" id=\"E7\" rx=\"10\" ry=\"10\" style=\"stroke:#383838;stroke-width:1.5;\" width=\"60\" x=\"118\" y=\"299\"/><text fill=\"#000000\" font-family=\"sans-serif\" font-size=\"12\" font-style=\"italic\" lengthAdjust=\"spacing\" textLength=\"53\" x=\"121.5\" y=\"315.1387\">«action»</text><text fill=\"#000000\" font-family=\"sans-serif\" font-size=\"14\" lengthAdjust=\"spacing\" textLength=\"19\" x=\"138.5\" y=\"330.9639\">B2</text></a></g><!--MD5=[4d03bb2d0377dc85ccfab60ff574652b]\n",
       "link E2 to E4--><g id=\"link_E2_E4\"><a href=\"psysml:f9bcfb7b-138a-4058-8879-7210022ba40a\" target=\"_top\" title=\"psysml:f9bcfb7b-138a-4058-8879-7210022ba40a\" xlink:actuate=\"onRequest\" xlink:href=\"psysml:f9bcfb7b-138a-4058-8879-7210022ba40a\" xlink:show=\"new\" xlink:title=\"psysml:f9bcfb7b-138a-4058-8879-7210022ba40a\" xlink:type=\"simple\"><path d=\"M135.64,103.26 C125.33,121.4 111.25,146.19 104.28,158.47 \" fill=\"none\" id=\"E2-to-E4\" style=\"stroke:#181818;stroke-width:1.0;\"/><polygon fill=\"#181818\" points=\"101.75,162.91,109.6779,157.0663,104.223,158.5644,102.7249,153.1095,101.75,162.91\" style=\"stroke:#181818;stroke-width:1.0;\"/></a></g><!--MD5=[af87c684e3b0d8be13c1a698a818ef1e]\n",
       "link E3 to E4--><g id=\"link_E3_E4\"><a href=\"psysml:6481bc83-60df-4dde-906c-a5becb339116\" target=\"_top\" title=\"psysml:6481bc83-60df-4dde-906c-a5becb339116\" xlink:actuate=\"onRequest\" xlink:href=\"psysml:6481bc83-60df-4dde-906c-a5becb339116\" xlink:show=\"new\" xlink:title=\"psysml:6481bc83-60df-4dde-906c-a5becb339116\" xlink:type=\"simple\"><path d=\"M65.1,103.26 C75.19,121.4 88.98,146.19 95.81,158.47 \" fill=\"none\" id=\"E3-to-E4\" style=\"stroke:#181818;stroke-width:1.0;\"/><polygon fill=\"#181818\" points=\"98.28,162.91,97.3814,153.1022,95.8409,158.5453,90.3978,157.0048,98.28,162.91\" style=\"stroke:#181818;stroke-width:1.0;\"/></a></g><!--MD5=[1b7591eae5389033d8d09a9d6721a717]\n",
       "link E4 to E5--><g id=\"link_E4_E5\"><a href=\"psysml:091dd6b1-b372-46ae-b0ca-4e4aa94aac13\" target=\"_top\" title=\"psysml:091dd6b1-b372-46ae-b0ca-4e4aa94aac13\" xlink:actuate=\"onRequest\" xlink:href=\"psysml:091dd6b1-b372-46ae-b0ca-4e4aa94aac13\" xlink:show=\"new\" xlink:title=\"psysml:091dd6b1-b372-46ae-b0ca-4e4aa94aac13\" xlink:type=\"simple\"><path d=\"M100,171.18 C100,180.92 100,210.52 100,225.34 \" fill=\"none\" id=\"E4-to-E5\" style=\"stroke:#181818;stroke-width:1.0;\"/><polygon fill=\"#181818\" points=\"100,230.69,104,221.69,100,225.69,96,221.69,100,230.69\" style=\"stroke:#181818;stroke-width:1.0;\"/></a></g><!--MD5=[9120cf2e5df3bff93db8f754bbbc09b4]\n",
       "link E5 to E6--><g id=\"link_E5_E6\"><a href=\"psysml:418b7d58-d850-4614-9e9d-1c793842a2dd\" target=\"_top\" title=\"psysml:418b7d58-d850-4614-9e9d-1c793842a2dd\" xlink:actuate=\"onRequest\" xlink:href=\"psysml:418b7d58-d850-4614-9e9d-1c793842a2dd\" xlink:show=\"new\" xlink:title=\"psysml:418b7d58-d850-4614-9e9d-1c793842a2dd\" xlink:type=\"simple\"><path d=\"M98.21,239.21 C93.23,248.18 78.77,274.17 67.53,294.37 \" fill=\"none\" id=\"E5-to-E6\" style=\"stroke:#181818;stroke-width:1.0;\"/><polygon fill=\"#181818\" points=\"65.04,298.85,72.9074,292.9252,67.4682,294.4792,65.9142,289.04,65.04,298.85\" style=\"stroke:#181818;stroke-width:1.0;\"/></a></g><!--MD5=[3a9b96bfbf6b6ad89c494e81751bda47]\n",
       "link E5 to E7--><g id=\"link_E5_E7\"><a href=\"psysml:a0ea5228-fdc9-49fd-bb96-6ce22cf44d00\" target=\"_top\" title=\"psysml:a0ea5228-fdc9-49fd-bb96-6ce22cf44d00\" xlink:actuate=\"onRequest\" xlink:href=\"psysml:a0ea5228-fdc9-49fd-bb96-6ce22cf44d00\" xlink:show=\"new\" xlink:title=\"psysml:a0ea5228-fdc9-49fd-bb96-6ce22cf44d00\" xlink:type=\"simple\"><path d=\"M101.82,239.21 C106.92,248.18 121.68,274.17 133.16,294.37 \" fill=\"none\" id=\"E5-to-E7\" style=\"stroke:#181818;stroke-width:1.0;\"/><polygon fill=\"#181818\" points=\"135.7,298.85,134.7251,289.0495,133.227,294.5044,127.7721,293.0063,135.7,298.85\" style=\"stroke:#181818;stroke-width:1.0;\"/></a></g><!--MD5=[8d7a93f8e91e35d948adc24f08f9a0ce]\n",
       "@startuml\r\n",
       "skin sysmlbw\r\n",
       "skinparam monochrome true\r\n",
       "skinparam wrapWidth 300\r\n",
       "hide circle\r\n",
       "\r\n",
       "rec def \"ControlNodeTest\" as E1  <<(T,blue) action  def>> [[psysml:fb29792e-912d-4ab4-a64b-8ae4f88f6031 ]] {\r\n",
       "rec usage \"A1\" as E2  <<(T,blue) action>> [[psysml:fe1ec0cc-95d8-48f7-a7e5-aef83e3da3f9 ]] {\r\n",
       "}\r\n",
       "\r\n",
       "rec usage \"A2\" as E3  <<(T,blue) action>> [[psysml:c0a5c6df-be9c-4195-8c1c-0f8f015b3130 ]] {\r\n",
       "}\r\n",
       "\r\n",
       "join \"J\" as E4  [[psysml:3bd09aec-2544-46ae-936d-01aed8eb96e7 ]] \r\n",
       "fork \"F\" as E5  [[psysml:17702565-4e67-4d00-9c2e-cf91774b37d5 ]] \r\n",
       "rec usage \"B1\" as E6  <<(T,blue) action>> [[psysml:2e4137e4-9d77-4a25-b719-c29e464dbfc7 ]] {\r\n",
       "}\r\n",
       "\r\n",
       "rec usage \"B2\" as E7  <<(T,blue) action>> [[psysml:22fc935b-3ced-457d-8850-10eb2e62808c ]] {\r\n",
       "}\r\n",
       "\r\n",
       "}\r\n",
       "\r\n",
       "E2 - -> E4 [[psysml:f9bcfb7b-138a-4058-8879-7210022ba40a ]] \r\n",
       "E3 - -> E4 [[psysml:6481bc83-60df-4dde-906c-a5becb339116 ]] \r\n",
       "E4 - -> E5 [[psysml:091dd6b1-b372-46ae-b0ca-4e4aa94aac13 ]] \r\n",
       "E5 - -> E6 [[psysml:418b7d58-d850-4614-9e9d-1c793842a2dd ]] \r\n",
       "E5 - -> E7 [[psysml:a0ea5228-fdc9-49fd-bb96-6ce22cf44d00 ]] \r\n",
       "@enduml\r\n",
       "\n",
       "PlantUML version 1.2022.7(Mon Aug 22 17:01:30 UTC 2022)\n",
       "(EPL source distribution)\n",
       "Java Runtime: OpenJDK Runtime Environment\n",
       "JVM: OpenJDK 64-Bit Server VM\n",
       "Default Encoding: UTF-8\n",
       "Language: en\n",
       "Country: null\n",
       "--></g></svg>"
      ]
     },
     "execution_count": 37,
     "metadata": {},
     "output_type": "execute_result"
    }
   ],
   "source": [
    "%viz --style=\"DEFAULT\" --view=\"Default\" \"ControlNodeTest\""
   ]
  },
  {
   "cell_type": "code",
   "execution_count": 38,
   "id": "6b639736",
   "metadata": {
    "execution": {
     "iopub.execute_input": "2024-12-16T14:20:26.130568Z",
     "iopub.status.busy": "2024-12-16T14:20:26.130228Z",
     "iopub.status.idle": "2024-12-16T14:20:26.153761Z",
     "shell.execute_reply": "2024-12-16T14:20:26.152837Z"
    }
   },
   "outputs": [
    {
     "data": {
      "image/svg+xml": [
       "<?xml version=\"1.0\" encoding=\"UTF-8\" standalone=\"no\"?><svg xmlns=\"http://www.w3.org/2000/svg\" xmlns:xlink=\"http://www.w3.org/1999/xlink\" contentStyleType=\"text/css\" height=\"586px\" preserveAspectRatio=\"none\" style=\"width:396px;height:586px;background:#FFFFFF;\" version=\"1.1\" viewBox=\"0 0 396 586\" width=\"396px\" zoomAndPan=\"magnify\"><defs/><g><!--MD5=[43c9051892ef23e1a46a86907403d788]\n",
       "class E1--><a href=\"psysml:fb29792e-912d-4ab4-a64b-8ae4f88f6031\" target=\"_top\" title=\"psysml:fb29792e-912d-4ab4-a64b-8ae4f88f6031\" xlink:actuate=\"onRequest\" xlink:href=\"psysml:fb29792e-912d-4ab4-a64b-8ae4f88f6031\" xlink:show=\"new\" xlink:title=\"psysml:fb29792e-912d-4ab4-a64b-8ae4f88f6031\" xlink:type=\"simple\"><g id=\"elem_E1\"><rect fill=\"#FFFFFF\" height=\"140.2688\" id=\"E1\" style=\"stroke:#181818;stroke-width:0.5;\" width=\"169\" x=\"157.41\" y=\"7\"/><text fill=\"#000000\" font-family=\"sans-serif\" font-size=\"12\" font-style=\"italic\" lengthAdjust=\"spacing\" textLength=\"81\" x=\"201.41\" y=\"23.1387\">«action  def»</text><text fill=\"#000000\" font-family=\"sans-serif\" font-size=\"14\" lengthAdjust=\"spacing\" textLength=\"118\" x=\"182.91\" y=\"38.9639\">ControlNodeTest</text><line style=\"stroke:#181818;stroke-width:0.5;\" x1=\"158.41\" x2=\"325.41\" y1=\"47.2656\" y2=\"47.2656\"/><text fill=\"#000000\" font-family=\"sans-serif\" font-size=\"14\" lengthAdjust=\"spacing\" textLength=\"151\" x=\"163.41\" y=\"74.7795\">noname first A1 then J</text><text fill=\"#000000\" font-family=\"sans-serif\" font-size=\"14\" lengthAdjust=\"spacing\" textLength=\"151\" x=\"163.41\" y=\"91.0764\">noname first A2 then J</text><text fill=\"#000000\" font-family=\"sans-serif\" font-size=\"14\" lengthAdjust=\"spacing\" textLength=\"141\" x=\"163.41\" y=\"107.3732\">noname first J then F</text><text fill=\"#000000\" font-family=\"sans-serif\" font-size=\"14\" lengthAdjust=\"spacing\" textLength=\"157\" x=\"163.41\" y=\"123.6701\">noname first F then B1</text><text fill=\"#000000\" font-family=\"sans-serif\" font-size=\"14\" lengthAdjust=\"spacing\" textLength=\"157\" x=\"163.41\" y=\"139.967\">noname first F then B2</text><text fill=\"#000000\" font-family=\"sans-serif\" font-size=\"14\" font-style=\"italic\" lengthAdjust=\"spacing\" textLength=\"87\" x=\"198.41\" y=\"59.6123\">successions</text></g></a><!--MD5=[b4997ac47864f28c2f74865a473b2911]\n",
       "class E2--><a href=\"psysml:fe1ec0cc-95d8-48f7-a7e5-aef83e3da3f9\" target=\"_top\" title=\"psysml:fe1ec0cc-95d8-48f7-a7e5-aef83e3da3f9\" xlink:actuate=\"onRequest\" xlink:href=\"psysml:fe1ec0cc-95d8-48f7-a7e5-aef83e3da3f9\" xlink:show=\"new\" xlink:title=\"psysml:fe1ec0cc-95d8-48f7-a7e5-aef83e3da3f9\" xlink:type=\"simple\"><g id=\"elem_E2\"><rect fill=\"#FFFFFF\" height=\"48.2656\" id=\"E2\" rx=\"10\" ry=\"10\" style=\"stroke:#181818;stroke-width:0.5;\" width=\"55\" x=\"84.41\" y=\"207\"/><text fill=\"#000000\" font-family=\"sans-serif\" font-size=\"12\" font-style=\"italic\" lengthAdjust=\"spacing\" textLength=\"53\" x=\"85.41\" y=\"223.1387\">«action»</text><text fill=\"#000000\" font-family=\"sans-serif\" font-size=\"14\" lengthAdjust=\"spacing\" textLength=\"18\" x=\"98.91\" y=\"238.9639\">A1</text><line style=\"stroke:#181818;stroke-width:0.5;\" x1=\"85.41\" x2=\"138.41\" y1=\"247.2656\" y2=\"247.2656\"/></g></a><!--MD5=[09b614a08d8cba4a07c9adeb5e0fee81]\n",
       "class E3--><a href=\"psysml:c0a5c6df-be9c-4195-8c1c-0f8f015b3130\" target=\"_top\" title=\"psysml:c0a5c6df-be9c-4195-8c1c-0f8f015b3130\" xlink:actuate=\"onRequest\" xlink:href=\"psysml:c0a5c6df-be9c-4195-8c1c-0f8f015b3130\" xlink:show=\"new\" xlink:title=\"psysml:c0a5c6df-be9c-4195-8c1c-0f8f015b3130\" xlink:type=\"simple\"><g id=\"elem_E3\"><rect fill=\"#FFFFFF\" height=\"48.2656\" id=\"E3\" rx=\"10\" ry=\"10\" style=\"stroke:#181818;stroke-width:0.5;\" width=\"55\" x=\"174.41\" y=\"207\"/><text fill=\"#000000\" font-family=\"sans-serif\" font-size=\"12\" font-style=\"italic\" lengthAdjust=\"spacing\" textLength=\"53\" x=\"175.41\" y=\"223.1387\">«action»</text><text fill=\"#000000\" font-family=\"sans-serif\" font-size=\"14\" lengthAdjust=\"spacing\" textLength=\"18\" x=\"188.91\" y=\"238.9639\">A2</text><line style=\"stroke:#181818;stroke-width:0.5;\" x1=\"175.41\" x2=\"228.41\" y1=\"247.2656\" y2=\"247.2656\"/></g></a><!--MD5=[ebbe1d658d1005bcc118a6aa81145e00]\n",
       "class E4--><a href=\"psysml:3bd09aec-2544-46ae-936d-01aed8eb96e7\" target=\"_top\" title=\"psysml:3bd09aec-2544-46ae-936d-01aed8eb96e7\" xlink:actuate=\"onRequest\" xlink:href=\"psysml:3bd09aec-2544-46ae-936d-01aed8eb96e7\" xlink:show=\"new\" xlink:title=\"psysml:3bd09aec-2544-46ae-936d-01aed8eb96e7\" xlink:type=\"simple\"><g id=\"elem_E4\"><rect fill=\"#FFFFFF\" height=\"48.2656\" id=\"E4\" rx=\"10\" ry=\"10\" style=\"stroke:#181818;stroke-width:0.5;\" width=\"74\" x=\"195.91\" y=\"315\"/><text fill=\"#000000\" font-family=\"sans-serif\" font-size=\"12\" font-style=\"italic\" lengthAdjust=\"spacing\" textLength=\"72\" x=\"196.91\" y=\"331.1387\">«join node»</text><text fill=\"#000000\" font-family=\"sans-serif\" font-size=\"14\" lengthAdjust=\"spacing\" textLength=\"3\" x=\"227.41\" y=\"346.9639\">J</text><line style=\"stroke:#181818;stroke-width:0.5;\" x1=\"196.91\" x2=\"268.91\" y1=\"355.2656\" y2=\"355.2656\"/></g></a><!--MD5=[270fce915f116d4de14055a7c1d9a0f3]\n",
       "class E5--><a href=\"psysml:17702565-4e67-4d00-9c2e-cf91774b37d5\" target=\"_top\" title=\"psysml:17702565-4e67-4d00-9c2e-cf91774b37d5\" xlink:actuate=\"onRequest\" xlink:href=\"psysml:17702565-4e67-4d00-9c2e-cf91774b37d5\" xlink:show=\"new\" xlink:title=\"psysml:17702565-4e67-4d00-9c2e-cf91774b37d5\" xlink:type=\"simple\"><g id=\"elem_E5\"><rect fill=\"#FFFFFF\" height=\"48.2656\" id=\"E5\" rx=\"10\" ry=\"10\" style=\"stroke:#181818;stroke-width:0.5;\" width=\"76\" x=\"260.91\" y=\"423\"/><text fill=\"#000000\" font-family=\"sans-serif\" font-size=\"12\" font-style=\"italic\" lengthAdjust=\"spacing\" textLength=\"74\" x=\"261.91\" y=\"439.1387\">«fork node»</text><text fill=\"#000000\" font-family=\"sans-serif\" font-size=\"14\" lengthAdjust=\"spacing\" textLength=\"8\" x=\"290.91\" y=\"454.9639\">F</text><line style=\"stroke:#181818;stroke-width:0.5;\" x1=\"261.91\" x2=\"335.91\" y1=\"463.2656\" y2=\"463.2656\"/></g></a><!--MD5=[60a26617385b1d2d0262a64233df1f8d]\n",
       "class E6--><a href=\"psysml:2e4137e4-9d77-4a25-b719-c29e464dbfc7\" target=\"_top\" title=\"psysml:2e4137e4-9d77-4a25-b719-c29e464dbfc7\" xlink:actuate=\"onRequest\" xlink:href=\"psysml:2e4137e4-9d77-4a25-b719-c29e464dbfc7\" xlink:show=\"new\" xlink:title=\"psysml:2e4137e4-9d77-4a25-b719-c29e464dbfc7\" xlink:type=\"simple\"><g id=\"elem_E6\"><rect fill=\"#FFFFFF\" height=\"48.2656\" id=\"E6\" rx=\"10\" ry=\"10\" style=\"stroke:#181818;stroke-width:0.5;\" width=\"55\" x=\"204.41\" y=\"531\"/><text fill=\"#000000\" font-family=\"sans-serif\" font-size=\"12\" font-style=\"italic\" lengthAdjust=\"spacing\" textLength=\"53\" x=\"205.41\" y=\"547.1387\">«action»</text><text fill=\"#000000\" font-family=\"sans-serif\" font-size=\"14\" lengthAdjust=\"spacing\" textLength=\"19\" x=\"218.41\" y=\"562.9639\">B1</text><line style=\"stroke:#181818;stroke-width:0.5;\" x1=\"205.41\" x2=\"258.41\" y1=\"571.2656\" y2=\"571.2656\"/></g></a><!--MD5=[2156ba9850f5573cc1fc38a6a4b2f02b]\n",
       "class E7--><a href=\"psysml:22fc935b-3ced-457d-8850-10eb2e62808c\" target=\"_top\" title=\"psysml:22fc935b-3ced-457d-8850-10eb2e62808c\" xlink:actuate=\"onRequest\" xlink:href=\"psysml:22fc935b-3ced-457d-8850-10eb2e62808c\" xlink:show=\"new\" xlink:title=\"psysml:22fc935b-3ced-457d-8850-10eb2e62808c\" xlink:type=\"simple\"><g id=\"elem_E7\"><rect fill=\"#FFFFFF\" height=\"48.2656\" id=\"E7\" rx=\"10\" ry=\"10\" style=\"stroke:#181818;stroke-width:0.5;\" width=\"55\" x=\"334.41\" y=\"531\"/><text fill=\"#000000\" font-family=\"sans-serif\" font-size=\"12\" font-style=\"italic\" lengthAdjust=\"spacing\" textLength=\"53\" x=\"335.41\" y=\"547.1387\">«action»</text><text fill=\"#000000\" font-family=\"sans-serif\" font-size=\"14\" lengthAdjust=\"spacing\" textLength=\"19\" x=\"348.41\" y=\"562.9639\">B2</text><line style=\"stroke:#181818;stroke-width:0.5;\" x1=\"335.41\" x2=\"388.41\" y1=\"571.2656\" y2=\"571.2656\"/></g></a><!--MD5=[a523cb2a0b79ecf9065ad8783f96c320]\n",
       "reverse link E1 to E2--><g id=\"link_E1_E2\"><a href=\"psysml:9306702f-37ef-4fdd-b535-5b953ffb2d58\" target=\"_top\" title=\"psysml:9306702f-37ef-4fdd-b535-5b953ffb2d58\" xlink:actuate=\"onRequest\" xlink:href=\"psysml:9306702f-37ef-4fdd-b535-5b953ffb2d58\" xlink:show=\"new\" xlink:title=\"psysml:9306702f-37ef-4fdd-b535-5b953ffb2d58\" xlink:type=\"simple\"><path d=\"M173.99,157.41 C158.47,175.56 143.18,193.45 131.65,206.92 \" fill=\"none\" id=\"E1-backto-E2\" style=\"stroke:#181818;stroke-width:1.0;\"/><polygon fill=\"#181818\" points=\"182.62,147.33,175.6817,149.2948,174.8268,156.455,181.7651,154.4902,182.62,147.33\" style=\"stroke:#181818;stroke-width:1.0;\"/></a></g><!--MD5=[5d7b3810b1dd9b5164bea1151b29b665]\n",
       "reverse link E1 to E3--><g id=\"link_E1_E3\"><a href=\"psysml:ff946dee-4dd2-48de-88dc-ec164dbbdf2e\" target=\"_top\" title=\"psysml:ff946dee-4dd2-48de-88dc-ec164dbbdf2e\" xlink:actuate=\"onRequest\" xlink:href=\"psysml:ff946dee-4dd2-48de-88dc-ec164dbbdf2e\" xlink:show=\"new\" xlink:title=\"psysml:ff946dee-4dd2-48de-88dc-ec164dbbdf2e\" xlink:type=\"simple\"><path d=\"M220.35,159.93 C215.81,177.2 211.37,194.07 207.98,206.92 \" fill=\"none\" id=\"E1-backto-E3\" style=\"stroke:#181818;stroke-width:1.0;\"/><polygon fill=\"#181818\" points=\"223.67,147.33,218.2726,152.1121,220.6109,158.9335,226.0083,154.1515,223.67,147.33\" style=\"stroke:#181818;stroke-width:1.0;\"/></a></g><!--MD5=[4d03bb2d0377dc85ccfab60ff574652b]\n",
       "link E2 to E4--><g id=\"link_E2_E4\"><a href=\"psysml:f9bcfb7b-138a-4058-8879-7210022ba40a\" target=\"_top\" title=\"psysml:f9bcfb7b-138a-4058-8879-7210022ba40a\" xlink:actuate=\"onRequest\" xlink:href=\"psysml:f9bcfb7b-138a-4058-8879-7210022ba40a\" xlink:show=\"new\" xlink:title=\"psysml:f9bcfb7b-138a-4058-8879-7210022ba40a\" xlink:type=\"simple\"><path d=\"M138.17,255 C157.06,271.55 182.61,293.93 202.41,311.28 \" fill=\"none\" id=\"E2-to-E4\" style=\"stroke:#181818;stroke-width:1.0;\"/><polygon fill=\"#181818\" points=\"206.29,314.68,202.1484,305.7443,202.5262,311.3885,196.882,311.7663,206.29,314.68\" style=\"stroke:#181818;stroke-width:1.0;\"/></a></g><!--MD5=[af87c684e3b0d8be13c1a698a818ef1e]\n",
       "link E3 to E4--><g id=\"link_E3_E4\"><a href=\"psysml:6481bc83-60df-4dde-906c-a5becb339116\" target=\"_top\" title=\"psysml:6481bc83-60df-4dde-906c-a5becb339116\" xlink:actuate=\"onRequest\" xlink:href=\"psysml:6481bc83-60df-4dde-906c-a5becb339116\" xlink:show=\"new\" xlink:title=\"psysml:6481bc83-60df-4dde-906c-a5becb339116\" xlink:type=\"simple\"><path d=\"M208.64,255 C213.32,271 219.59,292.45 224.58,309.53 \" fill=\"none\" id=\"E3-to-E4\" style=\"stroke:#181818;stroke-width:1.0;\"/><polygon fill=\"#181818\" points=\"226.09,314.68,227.41,304.92,224.69,309.88,219.73,307.16,226.09,314.68\" style=\"stroke:#181818;stroke-width:1.0;\"/></a></g><!--MD5=[f2c5c03aa1e8c0ba21c10a05e6444b8e]\n",
       "reverse link E1 to E4--><g id=\"link_E1_E4\"><a href=\"psysml:c17bb3db-0b7d-4d5b-b917-165c66d3be23\" target=\"_top\" title=\"psysml:c17bb3db-0b7d-4d5b-b917-165c66d3be23\" xlink:actuate=\"onRequest\" xlink:href=\"psysml:c17bb3db-0b7d-4d5b-b917-165c66d3be23\" xlink:show=\"new\" xlink:title=\"psysml:c17bb3db-0b7d-4d5b-b917-165c66d3be23\" xlink:type=\"simple\"><path d=\"M248.04,160.02 C249.27,189.95 249.5,224.05 246.91,255 C245.2,275.39 241.18,298.3 237.88,314.88 \" fill=\"none\" id=\"E1-backto-E4\" style=\"stroke:#181818;stroke-width:1.0;\"/><polygon fill=\"#181818\" points=\"247.43,147.03,243.7112,153.2082,247.9839,159.0172,251.7027,152.839,247.43,147.03\" style=\"stroke:#181818;stroke-width:1.0;\"/></a></g><!--MD5=[1b7591eae5389033d8d09a9d6721a717]\n",
       "link E4 to E5--><g id=\"link_E4_E5\"><a href=\"psysml:091dd6b1-b372-46ae-b0ca-4e4aa94aac13\" target=\"_top\" title=\"psysml:091dd6b1-b372-46ae-b0ca-4e4aa94aac13\" xlink:actuate=\"onRequest\" xlink:href=\"psysml:091dd6b1-b372-46ae-b0ca-4e4aa94aac13\" xlink:show=\"new\" xlink:title=\"psysml:091dd6b1-b372-46ae-b0ca-4e4aa94aac13\" xlink:type=\"simple\"><path d=\"M247.23,363 C257.37,379.28 271.01,401.19 281.73,418.41 \" fill=\"none\" id=\"E4-to-E5\" style=\"stroke:#181818;stroke-width:1.0;\"/><polygon fill=\"#181818\" points=\"284.39,422.68,283.0268,412.9259,281.7464,418.436,276.2364,417.1557,284.39,422.68\" style=\"stroke:#181818;stroke-width:1.0;\"/></a></g><!--MD5=[33238bef88d6431a141d8bc8fb12bca0]\n",
       "reverse link E1 to E5--><g id=\"link_E1_E5\"><a href=\"psysml:75ce6460-81e3-4fd8-b178-253d08d4aaea\" target=\"_top\" title=\"psysml:75ce6460-81e3-4fd8-b178-253d08d4aaea\" xlink:actuate=\"onRequest\" xlink:href=\"psysml:75ce6460-81e3-4fd8-b178-253d08d4aaea\" xlink:show=\"new\" xlink:title=\"psysml:75ce6460-81e3-4fd8-b178-253d08d4aaea\" xlink:type=\"simple\"><path d=\"M262.87,159.92 C266.49,175.5 270.02,191.71 272.91,207 C287.73,285.33 294.91,379.82 297.6,422.75 \" fill=\"none\" id=\"E1-backto-E5\" style=\"stroke:#181818;stroke-width:1.0;\"/><polygon fill=\"#181818\" points=\"259.82,147.02,257.3116,153.7808,262.5876,158.6965,265.0959,151.9357,259.82,147.02\" style=\"stroke:#181818;stroke-width:1.0;\"/></a></g><!--MD5=[9120cf2e5df3bff93db8f754bbbc09b4]\n",
       "link E5 to E6--><g id=\"link_E5_E6\"><a href=\"psysml:418b7d58-d850-4614-9e9d-1c793842a2dd\" target=\"_top\" title=\"psysml:418b7d58-d850-4614-9e9d-1c793842a2dd\" xlink:actuate=\"onRequest\" xlink:href=\"psysml:418b7d58-d850-4614-9e9d-1c793842a2dd\" xlink:show=\"new\" xlink:title=\"psysml:418b7d58-d850-4614-9e9d-1c793842a2dd\" xlink:type=\"simple\"><path d=\"M284.37,471 C274.08,487.28 260.24,509.19 249.35,526.41 \" fill=\"none\" id=\"E5-to-E6\" style=\"stroke:#181818;stroke-width:1.0;\"/><polygon fill=\"#181818\" points=\"246.65,530.68,254.8386,525.2076,249.3205,526.4529,248.0752,520.9348,246.65,530.68\" style=\"stroke:#181818;stroke-width:1.0;\"/></a></g><!--MD5=[aca2ef284c2b1b90e17e73bf3f292c07]\n",
       "reverse link E1 to E6--><g id=\"link_E1_E6\"><a href=\"psysml:cbe5f5cb-386f-45e5-9c39-bb1873a128f8\" target=\"_top\" title=\"psysml:cbe5f5cb-386f-45e5-9c39-bb1873a128f8\" xlink:actuate=\"onRequest\" xlink:href=\"psysml:cbe5f5cb-386f-45e5-9c39-bb1873a128f8\" xlink:show=\"new\" xlink:title=\"psysml:cbe5f5cb-386f-45e5-9c39-bb1873a128f8\" xlink:type=\"simple\"><path d=\"M146.12,125.13 C115.02,145.67 84.12,172.95 66.91,207 C6,327.57 144.69,474.51 205.32,530.67 \" fill=\"none\" id=\"E1-backto-E6\" style=\"stroke:#181818;stroke-width:1.0;\"/><polygon fill=\"#181818\" points=\"157.1,118.15,149.8906,117.9917,146.9717,124.5857,154.1811,124.7439,157.1,118.15\" style=\"stroke:#181818;stroke-width:1.0;\"/></a></g><!--MD5=[3a9b96bfbf6b6ad89c494e81751bda47]\n",
       "link E5 to E7--><g id=\"link_E5_E7\"><a href=\"psysml:a0ea5228-fdc9-49fd-bb96-6ce22cf44d00\" target=\"_top\" title=\"psysml:a0ea5228-fdc9-49fd-bb96-6ce22cf44d00\" xlink:actuate=\"onRequest\" xlink:href=\"psysml:a0ea5228-fdc9-49fd-bb96-6ce22cf44d00\" xlink:show=\"new\" xlink:title=\"psysml:a0ea5228-fdc9-49fd-bb96-6ce22cf44d00\" xlink:type=\"simple\"><path d=\"M312.58,471 C322.17,487.14 335.06,508.82 345.25,525.97 \" fill=\"none\" id=\"E5-to-E7\" style=\"stroke:#181818;stroke-width:1.0;\"/><polygon fill=\"#181818\" points=\"348.05,530.68,346.9119,520.8971,345.5049,526.3762,340.0258,524.9693,348.05,530.68\" style=\"stroke:#181818;stroke-width:1.0;\"/></a></g><!--MD5=[fc9706a6b2cf8c0e423679d303750d3f]\n",
       "reverse link E1 to E7--><g id=\"link_E1_E7\"><a href=\"psysml:65a1f468-5d54-43ed-9b56-c01a515fc6bb\" target=\"_top\" title=\"psysml:65a1f468-5d54-43ed-9b56-c01a515fc6bb\" xlink:actuate=\"onRequest\" xlink:href=\"psysml:65a1f468-5d54-43ed-9b56-c01a515fc6bb\" xlink:show=\"new\" xlink:title=\"psysml:65a1f468-5d54-43ed-9b56-c01a515fc6bb\" xlink:type=\"simple\"><path d=\"M282.74,159.54 C289.69,175.08 296.42,191.37 301.91,207 C334.69,300.26 340.43,325.22 354.91,423 C360.45,460.4 361.75,504.38 361.98,530.68 \" fill=\"none\" id=\"E1-backto-E7\" style=\"stroke:#181818;stroke-width:1.0;\"/><polygon fill=\"#181818\" points=\"277.14,147.27,275.9859,154.3881,282.1126,158.1912,283.2667,151.0731,277.14,147.27\" style=\"stroke:#181818;stroke-width:1.0;\"/></a></g><!--MD5=[74e5c86313cc67e6bb31e283d4ef644f]\n",
       "@startuml\r\n",
       "skin sysmlbw\r\n",
       "skinparam monochrome true\r\n",
       "skinparam wrapWidth 300\r\n",
       "hide circle\r\n",
       "\r\n",
       "comp def \"ControlNodeTest\" as E1  <<(T,blue) action  def>> [[psysml:fb29792e-912d-4ab4-a64b-8ae4f88f6031 ]] {\r\n",
       "##//successions//##\r\n",
       "noname first A1 then J\r\n",
       "noname first A2 then J\r\n",
       "noname first J then F\r\n",
       "noname first F then B1\r\n",
       "noname first F then B2\r\n",
       "}\r\n",
       "comp usage \"A1  \" as E2  <<(T,blue) action>> [[psysml:fe1ec0cc-95d8-48f7-a7e5-aef83e3da3f9 ]] {\r\n",
       "}\r\n",
       "comp usage \"A2  \" as E3  <<(T,blue) action>> [[psysml:c0a5c6df-be9c-4195-8c1c-0f8f015b3130 ]] {\r\n",
       "}\r\n",
       "comp usage \"J  \" as E4  <<(T,blue) join node>> [[psysml:3bd09aec-2544-46ae-936d-01aed8eb96e7 ]] {\r\n",
       "}\r\n",
       "comp usage \"F  \" as E5  <<(T,blue) fork node>> [[psysml:17702565-4e67-4d00-9c2e-cf91774b37d5 ]] {\r\n",
       "}\r\n",
       "comp usage \"B1  \" as E6  <<(T,blue) action>> [[psysml:2e4137e4-9d77-4a25-b719-c29e464dbfc7 ]] {\r\n",
       "}\r\n",
       "comp usage \"B2  \" as E7  <<(T,blue) action>> [[psysml:22fc935b-3ced-457d-8850-10eb2e62808c ]] {\r\n",
       "}\r\n",
       "E1 *- - E2 [[psysml:9306702f-37ef-4fdd-b535-5b953ffb2d58 ]] \r\n",
       "E1 *- - E3 [[psysml:ff946dee-4dd2-48de-88dc-ec164dbbdf2e ]] \r\n",
       "E2 - -> E4 [[psysml:f9bcfb7b-138a-4058-8879-7210022ba40a ]] \r\n",
       "E3 - -> E4 [[psysml:6481bc83-60df-4dde-906c-a5becb339116 ]] \r\n",
       "E1 *- - E4 [[psysml:c17bb3db-0b7d-4d5b-b917-165c66d3be23 ]] \r\n",
       "E4 - -> E5 [[psysml:091dd6b1-b372-46ae-b0ca-4e4aa94aac13 ]] \r\n",
       "E1 *- - E5 [[psysml:75ce6460-81e3-4fd8-b178-253d08d4aaea ]] \r\n",
       "E5 - -> E6 [[psysml:418b7d58-d850-4614-9e9d-1c793842a2dd ]] \r\n",
       "E1 *- - E6 [[psysml:cbe5f5cb-386f-45e5-9c39-bb1873a128f8 ]] \r\n",
       "E5 - -> E7 [[psysml:a0ea5228-fdc9-49fd-bb96-6ce22cf44d00 ]] \r\n",
       "E1 *- - E7 [[psysml:65a1f468-5d54-43ed-9b56-c01a515fc6bb ]] \r\n",
       "@enduml\r\n",
       "\n",
       "PlantUML version 1.2022.7(Mon Aug 22 17:01:30 UTC 2022)\n",
       "(EPL source distribution)\n",
       "Java Runtime: OpenJDK Runtime Environment\n",
       "JVM: OpenJDK 64-Bit Server VM\n",
       "Default Encoding: UTF-8\n",
       "Language: en\n",
       "Country: null\n",
       "--></g></svg>"
      ]
     },
     "execution_count": 38,
     "metadata": {},
     "output_type": "execute_result"
    }
   ],
   "source": [
    "%viz --style=\"DEFAULT\" --view=\"Tree\" \"ControlNodeTest\""
   ]
  },
  {
   "cell_type": "code",
   "execution_count": 39,
   "id": "96dae561",
   "metadata": {
    "execution": {
     "iopub.execute_input": "2024-12-16T14:20:26.208194Z",
     "iopub.status.busy": "2024-12-16T14:20:26.207956Z",
     "iopub.status.idle": "2024-12-16T14:20:26.212787Z",
     "shell.execute_reply": "2024-12-16T14:20:26.212602Z"
    }
   },
   "outputs": [
    {
     "data": {
      "image/svg+xml": [
       "<?xml version=\"1.0\" encoding=\"UTF-8\" standalone=\"no\"?><svg xmlns=\"http://www.w3.org/2000/svg\" xmlns:xlink=\"http://www.w3.org/1999/xlink\" contentStyleType=\"text/css\" height=\"10px\" preserveAspectRatio=\"none\" style=\"width:10px;height:10px;background:#FFFFFF;\" version=\"1.1\" viewBox=\"0 0 10 10\" width=\"10px\" zoomAndPan=\"magnify\"><defs/><g><!--MD5=[ac12e6954f3af68464267ee74ddf8a9f]\n",
       "@startuml\r\n",
       "skin sysmlbw\r\n",
       "skinparam monochrome true\r\n",
       "skinparam wrapWidth 300\r\n",
       "hide circle\r\n",
       "\r\n",
       "@enduml\r\n",
       "\n",
       "PlantUML version 1.2022.7(Mon Aug 22 17:01:30 UTC 2022)\n",
       "(EPL source distribution)\n",
       "Java Runtime: OpenJDK Runtime Environment\n",
       "JVM: OpenJDK 64-Bit Server VM\n",
       "Default Encoding: UTF-8\n",
       "Language: en\n",
       "Country: null\n",
       "--></g></svg>"
      ]
     },
     "execution_count": 39,
     "metadata": {},
     "output_type": "execute_result"
    }
   ],
   "source": [
    "%viz --style=\"DEFAULT\" --view=\"State\" \"ControlNodeTest\""
   ]
  },
  {
   "cell_type": "code",
   "execution_count": 40,
   "id": "3b5930a0",
   "metadata": {
    "execution": {
     "iopub.execute_input": "2024-12-16T14:20:26.265559Z",
     "iopub.status.busy": "2024-12-16T14:20:26.265302Z",
     "iopub.status.idle": "2024-12-16T14:20:26.284405Z",
     "shell.execute_reply": "2024-12-16T14:20:26.283578Z"
    }
   },
   "outputs": [
    {
     "data": {
      "image/svg+xml": [
       "<?xml version=\"1.0\" encoding=\"UTF-8\" standalone=\"no\"?><svg xmlns=\"http://www.w3.org/2000/svg\" xmlns:xlink=\"http://www.w3.org/1999/xlink\" contentStyleType=\"text/css\" height=\"216px\" preserveAspectRatio=\"none\" style=\"width:201px;height:216px;background:#FFFFFF;\" version=\"1.1\" viewBox=\"0 0 201 216\" width=\"201px\" zoomAndPan=\"magnify\"><defs/><g><!--MD5=[fbc87193dbaf4d95561dea2c320d4a47]\n",
       "cluster E1--><g id=\"cluster_E1\"><a href=\"psysml:fb29792e-912d-4ab4-a64b-8ae4f88f6031\" target=\"_top\" title=\"psysml:fb29792e-912d-4ab4-a64b-8ae4f88f6031\" xlink:actuate=\"onRequest\" xlink:href=\"psysml:fb29792e-912d-4ab4-a64b-8ae4f88f6031\" xlink:show=\"new\" xlink:title=\"psysml:fb29792e-912d-4ab4-a64b-8ae4f88f6031\" xlink:type=\"simple\"><rect fill=\"#FFFFFF\" height=\"203\" id=\"E1\" style=\"stroke:#383838;stroke-width:1.5;\" width=\"187\" x=\"7\" y=\"7\"/><text fill=\"#000000\" font-family=\"sans-serif\" font-size=\"12\" font-style=\"italic\" lengthAdjust=\"spacing\" textLength=\"81\" x=\"60\" y=\"23.1387\">«action  def»</text><text fill=\"#000000\" font-family=\"sans-serif\" font-size=\"14\" lengthAdjust=\"spacing\" textLength=\"118\" x=\"41.5\" y=\"38.9639\">ControlNodeTest</text><line style=\"stroke:#383838;stroke-width:1.0;\" x1=\"7\" x2=\"194\" y1=\"47.2656\" y2=\"47.2656\"/></a></g><rect fill=\"#555555\" height=\"8\" style=\"stroke:none;stroke-width:1.0;\" width=\"80\" x=\"60\" y=\"113\"/><rect fill=\"#555555\" height=\"8\" style=\"stroke:none;stroke-width:1.0;\" width=\"80\" x=\"60\" y=\"131\"/><g><a href=\"psysml:fe1ec0cc-95d8-48f7-a7e5-aef83e3da3f9\" target=\"_top\" title=\"psysml:fe1ec0cc-95d8-48f7-a7e5-aef83e3da3f9\" xlink:actuate=\"onRequest\" xlink:href=\"psysml:fe1ec0cc-95d8-48f7-a7e5-aef83e3da3f9\" xlink:show=\"new\" xlink:title=\"psysml:fe1ec0cc-95d8-48f7-a7e5-aef83e3da3f9\" xlink:type=\"simple\"><rect fill=\"#FFFFFF\" height=\"45.2656\" id=\"E2\" rx=\"10\" ry=\"10\" style=\"stroke:#383838;stroke-width:1.5;\" width=\"60\" x=\"118\" y=\"58\"/><text fill=\"#000000\" font-family=\"sans-serif\" font-size=\"12\" font-style=\"italic\" lengthAdjust=\"spacing\" textLength=\"53\" x=\"121.5\" y=\"74.1387\">«action»</text><text fill=\"#000000\" font-family=\"sans-serif\" font-size=\"14\" lengthAdjust=\"spacing\" textLength=\"18\" x=\"139\" y=\"89.9639\">A1</text></a></g><g><a href=\"psysml:c0a5c6df-be9c-4195-8c1c-0f8f015b3130\" target=\"_top\" title=\"psysml:c0a5c6df-be9c-4195-8c1c-0f8f015b3130\" xlink:actuate=\"onRequest\" xlink:href=\"psysml:c0a5c6df-be9c-4195-8c1c-0f8f015b3130\" xlink:show=\"new\" xlink:title=\"psysml:c0a5c6df-be9c-4195-8c1c-0f8f015b3130\" xlink:type=\"simple\"><rect fill=\"#FFFFFF\" height=\"45.2656\" id=\"E3\" rx=\"10\" ry=\"10\" style=\"stroke:#383838;stroke-width:1.5;\" width=\"60\" x=\"23\" y=\"58\"/><text fill=\"#000000\" font-family=\"sans-serif\" font-size=\"12\" font-style=\"italic\" lengthAdjust=\"spacing\" textLength=\"53\" x=\"26.5\" y=\"74.1387\">«action»</text><text fill=\"#000000\" font-family=\"sans-serif\" font-size=\"14\" lengthAdjust=\"spacing\" textLength=\"18\" x=\"44\" y=\"89.9639\">A2</text></a></g><g><a href=\"psysml:2e4137e4-9d77-4a25-b719-c29e464dbfc7\" target=\"_top\" title=\"psysml:2e4137e4-9d77-4a25-b719-c29e464dbfc7\" xlink:actuate=\"onRequest\" xlink:href=\"psysml:2e4137e4-9d77-4a25-b719-c29e464dbfc7\" xlink:show=\"new\" xlink:title=\"psysml:2e4137e4-9d77-4a25-b719-c29e464dbfc7\" xlink:type=\"simple\"><rect fill=\"#FFFFFF\" height=\"45.2656\" id=\"E6\" rx=\"10\" ry=\"10\" style=\"stroke:#383838;stroke-width:1.5;\" width=\"60\" x=\"23\" y=\"149\"/><text fill=\"#000000\" font-family=\"sans-serif\" font-size=\"12\" font-style=\"italic\" lengthAdjust=\"spacing\" textLength=\"53\" x=\"26.5\" y=\"165.1387\">«action»</text><text fill=\"#000000\" font-family=\"sans-serif\" font-size=\"14\" lengthAdjust=\"spacing\" textLength=\"19\" x=\"43.5\" y=\"180.9639\">B1</text></a></g><g><a href=\"psysml:22fc935b-3ced-457d-8850-10eb2e62808c\" target=\"_top\" title=\"psysml:22fc935b-3ced-457d-8850-10eb2e62808c\" xlink:actuate=\"onRequest\" xlink:href=\"psysml:22fc935b-3ced-457d-8850-10eb2e62808c\" xlink:show=\"new\" xlink:title=\"psysml:22fc935b-3ced-457d-8850-10eb2e62808c\" xlink:type=\"simple\"><rect fill=\"#FFFFFF\" height=\"45.2656\" id=\"E7\" rx=\"10\" ry=\"10\" style=\"stroke:#383838;stroke-width:1.5;\" width=\"60\" x=\"118\" y=\"149\"/><text fill=\"#000000\" font-family=\"sans-serif\" font-size=\"12\" font-style=\"italic\" lengthAdjust=\"spacing\" textLength=\"53\" x=\"121.5\" y=\"165.1387\">«action»</text><text fill=\"#000000\" font-family=\"sans-serif\" font-size=\"14\" lengthAdjust=\"spacing\" textLength=\"19\" x=\"138.5\" y=\"180.9639\">B2</text></a></g><!--MD5=[4d03bb2d0377dc85ccfab60ff574652b]\n",
       "link E2 to E4--><g id=\"link_E2_E4\"><a href=\"psysml:f9bcfb7b-138a-4058-8879-7210022ba40a\" target=\"_top\" title=\"psysml:f9bcfb7b-138a-4058-8879-7210022ba40a\" xlink:actuate=\"onRequest\" xlink:href=\"psysml:f9bcfb7b-138a-4058-8879-7210022ba40a\" xlink:show=\"new\" xlink:title=\"psysml:f9bcfb7b-138a-4058-8879-7210022ba40a\" xlink:type=\"simple\"><path d=\"M117.87,103.15 C114.58,105.52 111.45,107.77 108.75,109.71 \" fill=\"none\" id=\"E2-to-E4\" style=\"stroke:#181818;stroke-width:1.0;\"/><polygon fill=\"#181818\" points=\"104.44,112.81,114.082,110.8019,108.499,109.8904,109.4105,104.3074,104.44,112.81\" style=\"stroke:#181818;stroke-width:1.0;\"/></a></g><!--MD5=[af87c684e3b0d8be13c1a698a818ef1e]\n",
       "link E3 to E4--><g id=\"link_E3_E4\"><a href=\"psysml:6481bc83-60df-4dde-906c-a5becb339116\" target=\"_top\" title=\"psysml:6481bc83-60df-4dde-906c-a5becb339116\" xlink:actuate=\"onRequest\" xlink:href=\"psysml:6481bc83-60df-4dde-906c-a5becb339116\" xlink:show=\"new\" xlink:title=\"psysml:6481bc83-60df-4dde-906c-a5becb339116\" xlink:type=\"simple\"><path d=\"M82.5,103.15 C85.73,105.52 88.79,107.77 91.43,109.71 \" fill=\"none\" id=\"E3-to-E4\" style=\"stroke:#181818;stroke-width:1.0;\"/><polygon fill=\"#181818\" points=\"95.66,112.81,90.7718,104.2599,91.6293,109.8513,86.0379,110.7089,95.66,112.81\" style=\"stroke:#181818;stroke-width:1.0;\"/></a></g><!--MD5=[1b7591eae5389033d8d09a9d6721a717]\n",
       "link E4 to E5--><g id=\"link_E4_E5\"><a href=\"psysml:091dd6b1-b372-46ae-b0ca-4e4aa94aac13\" target=\"_top\" title=\"psysml:091dd6b1-b372-46ae-b0ca-4e4aa94aac13\" xlink:actuate=\"onRequest\" xlink:href=\"psysml:091dd6b1-b372-46ae-b0ca-4e4aa94aac13\" xlink:show=\"new\" xlink:title=\"psysml:091dd6b1-b372-46ae-b0ca-4e4aa94aac13\" xlink:type=\"simple\"><path d=\"M100,121.08 C100,122.38 100,123.95 100,125.55 \" fill=\"none\" id=\"E4-to-E5\" style=\"stroke:#181818;stroke-width:1.0;\"/><polygon fill=\"#181818\" points=\"100,130.7,104,121.7,100,125.7,96,121.7,100,130.7\" style=\"stroke:#181818;stroke-width:1.0;\"/></a></g><!--MD5=[9120cf2e5df3bff93db8f754bbbc09b4]\n",
       "link E5 to E6--><g id=\"link_E5_E6\"><a href=\"psysml:418b7d58-d850-4614-9e9d-1c793842a2dd\" target=\"_top\" title=\"psysml:418b7d58-d850-4614-9e9d-1c793842a2dd\" xlink:actuate=\"onRequest\" xlink:href=\"psysml:418b7d58-d850-4614-9e9d-1c793842a2dd\" xlink:show=\"new\" xlink:title=\"psysml:418b7d58-d850-4614-9e9d-1c793842a2dd\" xlink:type=\"simple\"><path d=\"M95.66,139.18 C93.31,140.91 90.17,143.22 86.65,145.8 \" fill=\"none\" id=\"E5-to-E6\" style=\"stroke:#181818;stroke-width:1.0;\"/><polygon fill=\"#181818\" points=\"82.37,148.94,91.9921,146.8389,86.4007,145.9813,87.2582,140.3899,82.37,148.94\" style=\"stroke:#181818;stroke-width:1.0;\"/></a></g><!--MD5=[3a9b96bfbf6b6ad89c494e81751bda47]\n",
       "link E5 to E7--><g id=\"link_E5_E7\"><a href=\"psysml:a0ea5228-fdc9-49fd-bb96-6ce22cf44d00\" target=\"_top\" title=\"psysml:a0ea5228-fdc9-49fd-bb96-6ce22cf44d00\" xlink:actuate=\"onRequest\" xlink:href=\"psysml:a0ea5228-fdc9-49fd-bb96-6ce22cf44d00\" xlink:show=\"new\" xlink:title=\"psysml:a0ea5228-fdc9-49fd-bb96-6ce22cf44d00\" xlink:type=\"simple\"><path d=\"M104.43,139.18 C106.83,140.91 110.04,143.22 113.64,145.8 \" fill=\"none\" id=\"E5-to-E7\" style=\"stroke:#181818;stroke-width:1.0;\"/><polygon fill=\"#181818\" points=\"118.01,148.94,113.0339,140.4407,113.9491,146.023,108.3667,146.9381,118.01,148.94\" style=\"stroke:#181818;stroke-width:1.0;\"/></a></g><!--MD5=[1714242abfb54e3540e526241d3d901d]\n",
       "@startuml\r\n",
       "skin sysmlbw\r\n",
       "skinparam monochrome true\r\n",
       "skinparam wrapWidth 300\r\n",
       "hide circle\r\n",
       "skinparam ranksep 10\r\n",
       "skinparam rectangle {\r\n",
       " backgroundColor<<block>> LightGreen\r\n",
       "}\r\n",
       "\r\n",
       "rec def \"ControlNodeTest\" as E1  <<(T,blue) action  def>> [[psysml:fb29792e-912d-4ab4-a64b-8ae4f88f6031 ]] {\r\n",
       "rec usage \"A1\" as E2  <<(T,blue) action>> [[psysml:fe1ec0cc-95d8-48f7-a7e5-aef83e3da3f9 ]] {\r\n",
       "}\r\n",
       "\r\n",
       "rec usage \"A2\" as E3  <<(T,blue) action>> [[psysml:c0a5c6df-be9c-4195-8c1c-0f8f015b3130 ]] {\r\n",
       "}\r\n",
       "\r\n",
       "join \"J\" as E4  [[psysml:3bd09aec-2544-46ae-936d-01aed8eb96e7 ]] \r\n",
       "fork \"F\" as E5  [[psysml:17702565-4e67-4d00-9c2e-cf91774b37d5 ]] \r\n",
       "rec usage \"B1\" as E6  <<(T,blue) action>> [[psysml:2e4137e4-9d77-4a25-b719-c29e464dbfc7 ]] {\r\n",
       "}\r\n",
       "\r\n",
       "rec usage \"B2\" as E7  <<(T,blue) action>> [[psysml:22fc935b-3ced-457d-8850-10eb2e62808c ]] {\r\n",
       "}\r\n",
       "\r\n",
       "}\r\n",
       "\r\n",
       "E2 - -> E4 [[psysml:f9bcfb7b-138a-4058-8879-7210022ba40a ]] \r\n",
       "E3 - -> E4 [[psysml:6481bc83-60df-4dde-906c-a5becb339116 ]] \r\n",
       "E4 - -> E5 [[psysml:091dd6b1-b372-46ae-b0ca-4e4aa94aac13 ]] \r\n",
       "E5 - -> E6 [[psysml:418b7d58-d850-4614-9e9d-1c793842a2dd ]] \r\n",
       "E5 - -> E7 [[psysml:a0ea5228-fdc9-49fd-bb96-6ce22cf44d00 ]] \r\n",
       "@enduml\r\n",
       "\n",
       "PlantUML version 1.2022.7(Mon Aug 22 17:01:30 UTC 2022)\n",
       "(EPL source distribution)\n",
       "Java Runtime: OpenJDK Runtime Environment\n",
       "JVM: OpenJDK 64-Bit Server VM\n",
       "Default Encoding: UTF-8\n",
       "Language: en\n",
       "Country: null\n",
       "--></g></svg>"
      ]
     },
     "execution_count": 40,
     "metadata": {},
     "output_type": "execute_result"
    }
   ],
   "source": [
    "%viz --style=\"DEFAULT\" --view=\"Interconnection\" \"ControlNodeTest\""
   ]
  },
  {
   "cell_type": "code",
   "execution_count": 41,
   "id": "0e254b25",
   "metadata": {
    "execution": {
     "iopub.execute_input": "2024-12-16T14:20:26.336800Z",
     "iopub.status.busy": "2024-12-16T14:20:26.336534Z",
     "iopub.status.idle": "2024-12-16T14:20:26.354482Z",
     "shell.execute_reply": "2024-12-16T14:20:26.354294Z"
    }
   },
   "outputs": [
    {
     "data": {
      "image/svg+xml": [
       "<?xml version=\"1.0\" encoding=\"UTF-8\" standalone=\"no\"?><svg xmlns=\"http://www.w3.org/2000/svg\" xmlns:xlink=\"http://www.w3.org/1999/xlink\" contentStyleType=\"text/css\" height=\"210px\" preserveAspectRatio=\"none\" style=\"width:201px;height:210px;background:#FFFFFF;\" version=\"1.1\" viewBox=\"0 0 201 210\" width=\"201px\" zoomAndPan=\"magnify\"><defs/><g><!--MD5=[fbc87193dbaf4d95561dea2c320d4a47]\n",
       "cluster E1--><g id=\"cluster_E1\"><a href=\"psysml:fb29792e-912d-4ab4-a64b-8ae4f88f6031\" target=\"_top\" title=\"psysml:fb29792e-912d-4ab4-a64b-8ae4f88f6031\" xlink:actuate=\"onRequest\" xlink:href=\"psysml:fb29792e-912d-4ab4-a64b-8ae4f88f6031\" xlink:show=\"new\" xlink:title=\"psysml:fb29792e-912d-4ab4-a64b-8ae4f88f6031\" xlink:type=\"simple\"><rect fill=\"#FFFFFF\" height=\"197\" id=\"E1\" style=\"stroke:#383838;stroke-width:1.5;\" width=\"187\" x=\"7\" y=\"7\"/><text fill=\"#000000\" font-family=\"sans-serif\" font-size=\"12\" font-style=\"italic\" lengthAdjust=\"spacing\" textLength=\"81\" x=\"60\" y=\"23.1387\">«action  def»</text><text fill=\"#000000\" font-family=\"sans-serif\" font-size=\"14\" lengthAdjust=\"spacing\" textLength=\"118\" x=\"41.5\" y=\"38.9639\">ControlNodeTest</text><line style=\"stroke:#383838;stroke-width:1.0;\" x1=\"7\" x2=\"194\" y1=\"47.2656\" y2=\"47.2656\"/></a></g><rect fill=\"#555555\" height=\"8\" style=\"stroke:none;stroke-width:1.0;\" width=\"80\" x=\"60\" y=\"111\"/><rect fill=\"#555555\" height=\"8\" style=\"stroke:none;stroke-width:1.0;\" width=\"80\" x=\"60\" y=\"127\"/><g><a href=\"psysml:fe1ec0cc-95d8-48f7-a7e5-aef83e3da3f9\" target=\"_top\" title=\"psysml:fe1ec0cc-95d8-48f7-a7e5-aef83e3da3f9\" xlink:actuate=\"onRequest\" xlink:href=\"psysml:fe1ec0cc-95d8-48f7-a7e5-aef83e3da3f9\" xlink:show=\"new\" xlink:title=\"psysml:fe1ec0cc-95d8-48f7-a7e5-aef83e3da3f9\" xlink:type=\"simple\"><rect fill=\"#FFFFFF\" height=\"45.2656\" id=\"E2\" rx=\"10\" ry=\"10\" style=\"stroke:#383838;stroke-width:1.5;\" width=\"60\" x=\"118\" y=\"58\"/><text fill=\"#000000\" font-family=\"sans-serif\" font-size=\"12\" font-style=\"italic\" lengthAdjust=\"spacing\" textLength=\"53\" x=\"121.5\" y=\"74.1387\">«action»</text><text fill=\"#000000\" font-family=\"sans-serif\" font-size=\"14\" lengthAdjust=\"spacing\" textLength=\"18\" x=\"139\" y=\"89.9639\">A1</text></a></g><g><a href=\"psysml:c0a5c6df-be9c-4195-8c1c-0f8f015b3130\" target=\"_top\" title=\"psysml:c0a5c6df-be9c-4195-8c1c-0f8f015b3130\" xlink:actuate=\"onRequest\" xlink:href=\"psysml:c0a5c6df-be9c-4195-8c1c-0f8f015b3130\" xlink:show=\"new\" xlink:title=\"psysml:c0a5c6df-be9c-4195-8c1c-0f8f015b3130\" xlink:type=\"simple\"><rect fill=\"#FFFFFF\" height=\"45.2656\" id=\"E3\" rx=\"10\" ry=\"10\" style=\"stroke:#383838;stroke-width:1.5;\" width=\"60\" x=\"23\" y=\"58\"/><text fill=\"#000000\" font-family=\"sans-serif\" font-size=\"12\" font-style=\"italic\" lengthAdjust=\"spacing\" textLength=\"53\" x=\"26.5\" y=\"74.1387\">«action»</text><text fill=\"#000000\" font-family=\"sans-serif\" font-size=\"14\" lengthAdjust=\"spacing\" textLength=\"18\" x=\"44\" y=\"89.9639\">A2</text></a></g><g><a href=\"psysml:2e4137e4-9d77-4a25-b719-c29e464dbfc7\" target=\"_top\" title=\"psysml:2e4137e4-9d77-4a25-b719-c29e464dbfc7\" xlink:actuate=\"onRequest\" xlink:href=\"psysml:2e4137e4-9d77-4a25-b719-c29e464dbfc7\" xlink:show=\"new\" xlink:title=\"psysml:2e4137e4-9d77-4a25-b719-c29e464dbfc7\" xlink:type=\"simple\"><rect fill=\"#FFFFFF\" height=\"45.2656\" id=\"E6\" rx=\"10\" ry=\"10\" style=\"stroke:#383838;stroke-width:1.5;\" width=\"60\" x=\"23\" y=\"143\"/><text fill=\"#000000\" font-family=\"sans-serif\" font-size=\"12\" font-style=\"italic\" lengthAdjust=\"spacing\" textLength=\"53\" x=\"26.5\" y=\"159.1387\">«action»</text><text fill=\"#000000\" font-family=\"sans-serif\" font-size=\"14\" lengthAdjust=\"spacing\" textLength=\"19\" x=\"43.5\" y=\"174.9639\">B1</text></a></g><g><a href=\"psysml:22fc935b-3ced-457d-8850-10eb2e62808c\" target=\"_top\" title=\"psysml:22fc935b-3ced-457d-8850-10eb2e62808c\" xlink:actuate=\"onRequest\" xlink:href=\"psysml:22fc935b-3ced-457d-8850-10eb2e62808c\" xlink:show=\"new\" xlink:title=\"psysml:22fc935b-3ced-457d-8850-10eb2e62808c\" xlink:type=\"simple\"><rect fill=\"#FFFFFF\" height=\"45.2656\" id=\"E7\" rx=\"10\" ry=\"10\" style=\"stroke:#383838;stroke-width:1.5;\" width=\"60\" x=\"118\" y=\"143\"/><text fill=\"#000000\" font-family=\"sans-serif\" font-size=\"12\" font-style=\"italic\" lengthAdjust=\"spacing\" textLength=\"53\" x=\"121.5\" y=\"159.1387\">«action»</text><text fill=\"#000000\" font-family=\"sans-serif\" font-size=\"14\" lengthAdjust=\"spacing\" textLength=\"19\" x=\"138.5\" y=\"174.9639\">B2</text></a></g><!--MD5=[4d03bb2d0377dc85ccfab60ff574652b]\n",
       "link E2 to E4--><g id=\"link_E2_E4\"><a href=\"psysml:f9bcfb7b-138a-4058-8879-7210022ba40a\" target=\"_top\" title=\"psysml:f9bcfb7b-138a-4058-8879-7210022ba40a\" xlink:actuate=\"onRequest\" xlink:href=\"psysml:f9bcfb7b-138a-4058-8879-7210022ba40a\" xlink:show=\"new\" xlink:title=\"psysml:f9bcfb7b-138a-4058-8879-7210022ba40a\" xlink:type=\"simple\"><path d=\"M117.87,101.9 C114.58,104.13 111.45,106.25 108.75,108.07 \" fill=\"none\" id=\"E2-to-E4\" style=\"stroke:#181818;stroke-width:1.0;stroke-dasharray:7.0,7.0;\"/><polygon fill=\"#181818\" points=\"104.44,111,114.1324,109.2515,108.576,108.1904,109.637,102.634,104.44,111\" style=\"stroke:#181818;stroke-width:1.0;\"/></a></g><!--MD5=[af87c684e3b0d8be13c1a698a818ef1e]\n",
       "link E3 to E4--><g id=\"link_E3_E4\"><a href=\"psysml:6481bc83-60df-4dde-906c-a5becb339116\" target=\"_top\" title=\"psysml:6481bc83-60df-4dde-906c-a5becb339116\" xlink:actuate=\"onRequest\" xlink:href=\"psysml:6481bc83-60df-4dde-906c-a5becb339116\" xlink:show=\"new\" xlink:title=\"psysml:6481bc83-60df-4dde-906c-a5becb339116\" xlink:type=\"simple\"><path d=\"M83.03,102.27 C85.94,104.28 88.7,106.18 91.12,107.86 \" fill=\"none\" id=\"E3-to-E4\" style=\"stroke:#181818;stroke-width:1.0;stroke-dasharray:7.0,7.0;\"/><polygon fill=\"#181818\" points=\"95.54,110.91,90.4095,102.503,91.4265,108.0677,85.8618,109.0846,95.54,110.91\" style=\"stroke:#181818;stroke-width:1.0;\"/></a></g><!--MD5=[1b7591eae5389033d8d09a9d6721a717]\n",
       "link E4 to E5--><g id=\"link_E4_E5\"><a href=\"psysml:091dd6b1-b372-46ae-b0ca-4e4aa94aac13\" target=\"_top\" title=\"psysml:091dd6b1-b372-46ae-b0ca-4e4aa94aac13\" xlink:actuate=\"onRequest\" xlink:href=\"psysml:091dd6b1-b372-46ae-b0ca-4e4aa94aac13\" xlink:show=\"new\" xlink:title=\"psysml:091dd6b1-b372-46ae-b0ca-4e4aa94aac13\" xlink:type=\"simple\"><path d=\"M100,119.25 C100,120.05 100,120.94 100,121.86 \" fill=\"none\" id=\"E4-to-E5\" style=\"stroke:#181818;stroke-width:1.0;stroke-dasharray:7.0,7.0;\"/><polygon fill=\"#181818\" points=\"100,126.96,104,117.96,100,121.96,96,117.96,100,126.96\" style=\"stroke:#181818;stroke-width:1.0;\"/></a></g><!--MD5=[9120cf2e5df3bff93db8f754bbbc09b4]\n",
       "link E5 to E6--><g id=\"link_E5_E6\"><a href=\"psysml:418b7d58-d850-4614-9e9d-1c793842a2dd\" target=\"_top\" title=\"psysml:418b7d58-d850-4614-9e9d-1c793842a2dd\" xlink:actuate=\"onRequest\" xlink:href=\"psysml:418b7d58-d850-4614-9e9d-1c793842a2dd\" xlink:show=\"new\" xlink:title=\"psysml:418b7d58-d850-4614-9e9d-1c793842a2dd\" xlink:type=\"simple\"><path d=\"M95.32,135.24 C93.21,136.69 90.52,138.55 87.53,140.63 \" fill=\"none\" id=\"E5-to-E6\" style=\"stroke:#181818;stroke-width:1.0;stroke-dasharray:7.0,7.0;\"/><polygon fill=\"#181818\" points=\"83.27,143.57,92.9482,141.7446,87.3835,140.7277,88.4005,135.163,83.27,143.57\" style=\"stroke:#181818;stroke-width:1.0;\"/></a></g><!--MD5=[3a9b96bfbf6b6ad89c494e81751bda47]\n",
       "link E5 to E7--><g id=\"link_E5_E7\"><a href=\"psysml:a0ea5228-fdc9-49fd-bb96-6ce22cf44d00\" target=\"_top\" title=\"psysml:a0ea5228-fdc9-49fd-bb96-6ce22cf44d00\" xlink:actuate=\"onRequest\" xlink:href=\"psysml:a0ea5228-fdc9-49fd-bb96-6ce22cf44d00\" xlink:show=\"new\" xlink:title=\"psysml:a0ea5228-fdc9-49fd-bb96-6ce22cf44d00\" xlink:type=\"simple\"><path d=\"M104.78,135.24 C107.16,136.85 110.28,138.96 113.75,141.31 \" fill=\"none\" id=\"E5-to-E7\" style=\"stroke:#181818;stroke-width:1.0;stroke-dasharray:7.0,7.0;\"/><polygon fill=\"#181818\" points=\"117.96,144.16,112.7432,135.8063,113.8174,141.3602,108.2635,142.4344,117.96,144.16\" style=\"stroke:#181818;stroke-width:1.0;\"/></a></g><!--MD5=[dc8f325d0f21a34a0b499fc567764ad6]\n",
       "@startuml\r\n",
       "skin sysmlbw\r\n",
       "skinparam monochrome true\r\n",
       "skinparam wrapWidth 300\r\n",
       "hide circle\r\n",
       "skinparam ranksep 8\r\n",
       "\r\n",
       "rec def \"ControlNodeTest\" as E1  <<(T,blue) action  def>> [[psysml:fb29792e-912d-4ab4-a64b-8ae4f88f6031 ]] {\r\n",
       "rec usage \"A1\" as E2  <<(T,blue) action>> [[psysml:fe1ec0cc-95d8-48f7-a7e5-aef83e3da3f9 ]] {\r\n",
       "}\r\n",
       "\r\n",
       "rec usage \"A2\" as E3  <<(T,blue) action>> [[psysml:c0a5c6df-be9c-4195-8c1c-0f8f015b3130 ]] {\r\n",
       "}\r\n",
       "\r\n",
       "join \"J\" as E4  [[psysml:3bd09aec-2544-46ae-936d-01aed8eb96e7 ]] \r\n",
       "fork \"F\" as E5  [[psysml:17702565-4e67-4d00-9c2e-cf91774b37d5 ]] \r\n",
       "rec usage \"B1\" as E6  <<(T,blue) action>> [[psysml:2e4137e4-9d77-4a25-b719-c29e464dbfc7 ]] {\r\n",
       "}\r\n",
       "\r\n",
       "rec usage \"B2\" as E7  <<(T,blue) action>> [[psysml:22fc935b-3ced-457d-8850-10eb2e62808c ]] {\r\n",
       "}\r\n",
       "\r\n",
       "}\r\n",
       "\r\n",
       "E2 ..> E4 [[psysml:f9bcfb7b-138a-4058-8879-7210022ba40a ]] \r\n",
       "E3 ..> E4 [[psysml:6481bc83-60df-4dde-906c-a5becb339116 ]] \r\n",
       "E4 ..> E5 [[psysml:091dd6b1-b372-46ae-b0ca-4e4aa94aac13 ]] \r\n",
       "E5 ..> E6 [[psysml:418b7d58-d850-4614-9e9d-1c793842a2dd ]] \r\n",
       "E5 ..> E7 [[psysml:a0ea5228-fdc9-49fd-bb96-6ce22cf44d00 ]] \r\n",
       "@enduml\r\n",
       "\n",
       "PlantUML version 1.2022.7(Mon Aug 22 17:01:30 UTC 2022)\n",
       "(EPL source distribution)\n",
       "Java Runtime: OpenJDK Runtime Environment\n",
       "JVM: OpenJDK 64-Bit Server VM\n",
       "Default Encoding: UTF-8\n",
       "Language: en\n",
       "Country: null\n",
       "--></g></svg>"
      ]
     },
     "execution_count": 41,
     "metadata": {},
     "output_type": "execute_result"
    }
   ],
   "source": [
    "%viz --style=\"DEFAULT\" --view=\"Action\" \"ControlNodeTest\""
   ]
  },
  {
   "cell_type": "code",
   "execution_count": 42,
   "id": "15f0789b",
   "metadata": {
    "execution": {
     "iopub.execute_input": "2024-12-16T14:20:26.406745Z",
     "iopub.status.busy": "2024-12-16T14:20:26.406476Z",
     "iopub.status.idle": "2024-12-16T14:20:26.412661Z",
     "shell.execute_reply": "2024-12-16T14:20:26.412468Z"
    }
   },
   "outputs": [
    {
     "data": {
      "image/svg+xml": [
       "<?xml version=\"1.0\" encoding=\"UTF-8\" standalone=\"no\"?><svg xmlns=\"http://www.w3.org/2000/svg\" xmlns:xlink=\"http://www.w3.org/1999/xlink\" contentStyleType=\"text/css\" height=\"10px\" preserveAspectRatio=\"none\" style=\"width:10px;height:10px;background:#FFFFFF;\" version=\"1.1\" viewBox=\"0 0 10 10\" width=\"10px\" zoomAndPan=\"magnify\"><defs/><g><!--MD5=[075159388321915a295a256e9638f934]\n",
       "@startuml\r\n",
       "skin sysmlbw\r\n",
       "skinparam monochrome true\r\n",
       "skinparam wrapWidth 300\r\n",
       "hide circle\r\n",
       "skinparam roundcorner 20\r\n",
       "skinparam BoxPadding 20\r\n",
       "skinparam SequenceBoxBackgroundColor #white\r\n",
       "skinparam style strictuml\r\n",
       "skinparam maxMessageSize 100\r\n",
       "\r\n",
       "@enduml\r\n",
       "\n",
       "PlantUML version 1.2022.7(Mon Aug 22 17:01:30 UTC 2022)\n",
       "(EPL source distribution)\n",
       "Java Runtime: OpenJDK Runtime Environment\n",
       "JVM: OpenJDK 64-Bit Server VM\n",
       "Default Encoding: UTF-8\n",
       "Language: en\n",
       "Country: null\n",
       "--></g></svg>"
      ]
     },
     "execution_count": 42,
     "metadata": {},
     "output_type": "execute_result"
    }
   ],
   "source": [
    "%viz --style=\"DEFAULT\" --view=\"Sequence\" \"ControlNodeTest\""
   ]
  },
  {
   "cell_type": "code",
   "execution_count": 43,
   "id": "a4390a3b",
   "metadata": {
    "execution": {
     "iopub.execute_input": "2024-12-16T14:20:26.468910Z",
     "iopub.status.busy": "2024-12-16T14:20:26.468596Z",
     "iopub.status.idle": "2024-12-16T14:20:26.487533Z",
     "shell.execute_reply": "2024-12-16T14:20:26.486402Z"
    }
   },
   "outputs": [
    {
     "data": {
      "image/svg+xml": [
       "<?xml version=\"1.0\" encoding=\"UTF-8\" standalone=\"no\"?><svg xmlns=\"http://www.w3.org/2000/svg\" xmlns:xlink=\"http://www.w3.org/1999/xlink\" contentStyleType=\"text/css\" height=\"366px\" preserveAspectRatio=\"none\" style=\"width:201px;height:366px;background:#FFFFFF;\" version=\"1.1\" viewBox=\"0 0 201 366\" width=\"201px\" zoomAndPan=\"magnify\"><defs/><g><!--MD5=[fbc87193dbaf4d95561dea2c320d4a47]\n",
       "cluster E1--><g id=\"cluster_E1\"><a href=\"psysml:fb29792e-912d-4ab4-a64b-8ae4f88f6031\" target=\"_top\" title=\"psysml:fb29792e-912d-4ab4-a64b-8ae4f88f6031\" xlink:actuate=\"onRequest\" xlink:href=\"psysml:fb29792e-912d-4ab4-a64b-8ae4f88f6031\" xlink:show=\"new\" xlink:title=\"psysml:fb29792e-912d-4ab4-a64b-8ae4f88f6031\" xlink:type=\"simple\"><rect fill=\"#FFFFFF\" height=\"353\" id=\"E1\" style=\"stroke:#383838;stroke-width:1.5;\" width=\"187\" x=\"7\" y=\"7\"/><text fill=\"#000000\" font-family=\"sans-serif\" font-size=\"12\" font-style=\"italic\" lengthAdjust=\"spacing\" textLength=\"81\" x=\"60\" y=\"23.1387\">«action  def»</text><text fill=\"#000000\" font-family=\"sans-serif\" font-size=\"14\" lengthAdjust=\"spacing\" textLength=\"118\" x=\"41.5\" y=\"38.9639\">ControlNodeTest</text><line style=\"stroke:#383838;stroke-width:1.0;\" x1=\"7\" x2=\"194\" y1=\"47.2656\" y2=\"47.2656\"/></a></g><rect fill=\"#555555\" height=\"8\" style=\"stroke:none;stroke-width:1.0;\" width=\"80\" x=\"60\" y=\"163\"/><rect fill=\"#555555\" height=\"8\" style=\"stroke:none;stroke-width:1.0;\" width=\"80\" x=\"60\" y=\"231\"/><g><a href=\"psysml:fe1ec0cc-95d8-48f7-a7e5-aef83e3da3f9\" target=\"_top\" title=\"psysml:fe1ec0cc-95d8-48f7-a7e5-aef83e3da3f9\" xlink:actuate=\"onRequest\" xlink:href=\"psysml:fe1ec0cc-95d8-48f7-a7e5-aef83e3da3f9\" xlink:show=\"new\" xlink:title=\"psysml:fe1ec0cc-95d8-48f7-a7e5-aef83e3da3f9\" xlink:type=\"simple\"><rect fill=\"#FFFFFF\" height=\"45.2656\" id=\"E2\" rx=\"10\" ry=\"10\" style=\"stroke:#383838;stroke-width:1.5;\" width=\"60\" x=\"118\" y=\"58\"/><text fill=\"#000000\" font-family=\"sans-serif\" font-size=\"12\" font-style=\"italic\" lengthAdjust=\"spacing\" textLength=\"53\" x=\"121.5\" y=\"74.1387\">«action»</text><text fill=\"#000000\" font-family=\"sans-serif\" font-size=\"14\" lengthAdjust=\"spacing\" textLength=\"18\" x=\"139\" y=\"89.9639\">A1</text></a></g><g><a href=\"psysml:c0a5c6df-be9c-4195-8c1c-0f8f015b3130\" target=\"_top\" title=\"psysml:c0a5c6df-be9c-4195-8c1c-0f8f015b3130\" xlink:actuate=\"onRequest\" xlink:href=\"psysml:c0a5c6df-be9c-4195-8c1c-0f8f015b3130\" xlink:show=\"new\" xlink:title=\"psysml:c0a5c6df-be9c-4195-8c1c-0f8f015b3130\" xlink:type=\"simple\"><rect fill=\"#FFFFFF\" height=\"45.2656\" id=\"E3\" rx=\"10\" ry=\"10\" style=\"stroke:#383838;stroke-width:1.5;\" width=\"60\" x=\"23\" y=\"58\"/><text fill=\"#000000\" font-family=\"sans-serif\" font-size=\"12\" font-style=\"italic\" lengthAdjust=\"spacing\" textLength=\"53\" x=\"26.5\" y=\"74.1387\">«action»</text><text fill=\"#000000\" font-family=\"sans-serif\" font-size=\"14\" lengthAdjust=\"spacing\" textLength=\"18\" x=\"44\" y=\"89.9639\">A2</text></a></g><g><a href=\"psysml:2e4137e4-9d77-4a25-b719-c29e464dbfc7\" target=\"_top\" title=\"psysml:2e4137e4-9d77-4a25-b719-c29e464dbfc7\" xlink:actuate=\"onRequest\" xlink:href=\"psysml:2e4137e4-9d77-4a25-b719-c29e464dbfc7\" xlink:show=\"new\" xlink:title=\"psysml:2e4137e4-9d77-4a25-b719-c29e464dbfc7\" xlink:type=\"simple\"><rect fill=\"#FFFFFF\" height=\"45.2656\" id=\"E6\" rx=\"10\" ry=\"10\" style=\"stroke:#383838;stroke-width:1.5;\" width=\"60\" x=\"23\" y=\"299\"/><text fill=\"#000000\" font-family=\"sans-serif\" font-size=\"12\" font-style=\"italic\" lengthAdjust=\"spacing\" textLength=\"53\" x=\"26.5\" y=\"315.1387\">«action»</text><text fill=\"#000000\" font-family=\"sans-serif\" font-size=\"14\" lengthAdjust=\"spacing\" textLength=\"19\" x=\"43.5\" y=\"330.9639\">B1</text></a></g><g><a href=\"psysml:22fc935b-3ced-457d-8850-10eb2e62808c\" target=\"_top\" title=\"psysml:22fc935b-3ced-457d-8850-10eb2e62808c\" xlink:actuate=\"onRequest\" xlink:href=\"psysml:22fc935b-3ced-457d-8850-10eb2e62808c\" xlink:show=\"new\" xlink:title=\"psysml:22fc935b-3ced-457d-8850-10eb2e62808c\" xlink:type=\"simple\"><rect fill=\"#FFFFFF\" height=\"45.2656\" id=\"E7\" rx=\"10\" ry=\"10\" style=\"stroke:#383838;stroke-width:1.5;\" width=\"60\" x=\"118\" y=\"299\"/><text fill=\"#000000\" font-family=\"sans-serif\" font-size=\"12\" font-style=\"italic\" lengthAdjust=\"spacing\" textLength=\"53\" x=\"121.5\" y=\"315.1387\">«action»</text><text fill=\"#000000\" font-family=\"sans-serif\" font-size=\"14\" lengthAdjust=\"spacing\" textLength=\"19\" x=\"138.5\" y=\"330.9639\">B2</text></a></g><!--MD5=[4d03bb2d0377dc85ccfab60ff574652b]\n",
       "link E2 to E4--><g id=\"link_E2_E4\"><a href=\"psysml:f9bcfb7b-138a-4058-8879-7210022ba40a\" target=\"_top\" title=\"psysml:f9bcfb7b-138a-4058-8879-7210022ba40a\" xlink:actuate=\"onRequest\" xlink:href=\"psysml:f9bcfb7b-138a-4058-8879-7210022ba40a\" xlink:show=\"new\" xlink:title=\"psysml:f9bcfb7b-138a-4058-8879-7210022ba40a\" xlink:type=\"simple\"><path d=\"M135.64,103.26 C125.33,121.4 111.25,146.19 104.28,158.47 \" fill=\"none\" id=\"E2-to-E4\" style=\"stroke:#181818;stroke-width:1.0;\"/><polygon fill=\"#181818\" points=\"101.75,162.91,109.6779,157.0663,104.223,158.5644,102.7249,153.1095,101.75,162.91\" style=\"stroke:#181818;stroke-width:1.0;\"/></a></g><!--MD5=[af87c684e3b0d8be13c1a698a818ef1e]\n",
       "link E3 to E4--><g id=\"link_E3_E4\"><a href=\"psysml:6481bc83-60df-4dde-906c-a5becb339116\" target=\"_top\" title=\"psysml:6481bc83-60df-4dde-906c-a5becb339116\" xlink:actuate=\"onRequest\" xlink:href=\"psysml:6481bc83-60df-4dde-906c-a5becb339116\" xlink:show=\"new\" xlink:title=\"psysml:6481bc83-60df-4dde-906c-a5becb339116\" xlink:type=\"simple\"><path d=\"M65.1,103.26 C75.19,121.4 88.98,146.19 95.81,158.47 \" fill=\"none\" id=\"E3-to-E4\" style=\"stroke:#181818;stroke-width:1.0;\"/><polygon fill=\"#181818\" points=\"98.28,162.91,97.3814,153.1022,95.8409,158.5453,90.3978,157.0048,98.28,162.91\" style=\"stroke:#181818;stroke-width:1.0;\"/></a></g><!--MD5=[1b7591eae5389033d8d09a9d6721a717]\n",
       "link E4 to E5--><g id=\"link_E4_E5\"><a href=\"psysml:091dd6b1-b372-46ae-b0ca-4e4aa94aac13\" target=\"_top\" title=\"psysml:091dd6b1-b372-46ae-b0ca-4e4aa94aac13\" xlink:actuate=\"onRequest\" xlink:href=\"psysml:091dd6b1-b372-46ae-b0ca-4e4aa94aac13\" xlink:show=\"new\" xlink:title=\"psysml:091dd6b1-b372-46ae-b0ca-4e4aa94aac13\" xlink:type=\"simple\"><path d=\"M100,171.18 C100,180.92 100,210.52 100,225.34 \" fill=\"none\" id=\"E4-to-E5\" style=\"stroke:#181818;stroke-width:1.0;\"/><polygon fill=\"#181818\" points=\"100,230.69,104,221.69,100,225.69,96,221.69,100,230.69\" style=\"stroke:#181818;stroke-width:1.0;\"/></a></g><!--MD5=[9120cf2e5df3bff93db8f754bbbc09b4]\n",
       "link E5 to E6--><g id=\"link_E5_E6\"><a href=\"psysml:418b7d58-d850-4614-9e9d-1c793842a2dd\" target=\"_top\" title=\"psysml:418b7d58-d850-4614-9e9d-1c793842a2dd\" xlink:actuate=\"onRequest\" xlink:href=\"psysml:418b7d58-d850-4614-9e9d-1c793842a2dd\" xlink:show=\"new\" xlink:title=\"psysml:418b7d58-d850-4614-9e9d-1c793842a2dd\" xlink:type=\"simple\"><path d=\"M98.21,239.21 C93.23,248.18 78.77,274.17 67.53,294.37 \" fill=\"none\" id=\"E5-to-E6\" style=\"stroke:#181818;stroke-width:1.0;\"/><polygon fill=\"#181818\" points=\"65.04,298.85,72.9074,292.9252,67.4682,294.4792,65.9142,289.04,65.04,298.85\" style=\"stroke:#181818;stroke-width:1.0;\"/></a></g><!--MD5=[3a9b96bfbf6b6ad89c494e81751bda47]\n",
       "link E5 to E7--><g id=\"link_E5_E7\"><a href=\"psysml:a0ea5228-fdc9-49fd-bb96-6ce22cf44d00\" target=\"_top\" title=\"psysml:a0ea5228-fdc9-49fd-bb96-6ce22cf44d00\" xlink:actuate=\"onRequest\" xlink:href=\"psysml:a0ea5228-fdc9-49fd-bb96-6ce22cf44d00\" xlink:show=\"new\" xlink:title=\"psysml:a0ea5228-fdc9-49fd-bb96-6ce22cf44d00\" xlink:type=\"simple\"><path d=\"M101.82,239.21 C106.92,248.18 121.68,274.17 133.16,294.37 \" fill=\"none\" id=\"E5-to-E7\" style=\"stroke:#181818;stroke-width:1.0;\"/><polygon fill=\"#181818\" points=\"135.7,298.85,134.7251,289.0495,133.227,294.5044,127.7721,293.0063,135.7,298.85\" style=\"stroke:#181818;stroke-width:1.0;\"/></a></g><!--MD5=[8d7a93f8e91e35d948adc24f08f9a0ce]\n",
       "@startuml\r\n",
       "skin sysmlbw\r\n",
       "skinparam monochrome true\r\n",
       "skinparam wrapWidth 300\r\n",
       "hide circle\r\n",
       "\r\n",
       "rec def \"ControlNodeTest\" as E1  <<(T,blue) action  def>> [[psysml:fb29792e-912d-4ab4-a64b-8ae4f88f6031 ]] {\r\n",
       "rec usage \"A1\" as E2  <<(T,blue) action>> [[psysml:fe1ec0cc-95d8-48f7-a7e5-aef83e3da3f9 ]] {\r\n",
       "}\r\n",
       "\r\n",
       "rec usage \"A2\" as E3  <<(T,blue) action>> [[psysml:c0a5c6df-be9c-4195-8c1c-0f8f015b3130 ]] {\r\n",
       "}\r\n",
       "\r\n",
       "join \"J\" as E4  [[psysml:3bd09aec-2544-46ae-936d-01aed8eb96e7 ]] \r\n",
       "fork \"F\" as E5  [[psysml:17702565-4e67-4d00-9c2e-cf91774b37d5 ]] \r\n",
       "rec usage \"B1\" as E6  <<(T,blue) action>> [[psysml:2e4137e4-9d77-4a25-b719-c29e464dbfc7 ]] {\r\n",
       "}\r\n",
       "\r\n",
       "rec usage \"B2\" as E7  <<(T,blue) action>> [[psysml:22fc935b-3ced-457d-8850-10eb2e62808c ]] {\r\n",
       "}\r\n",
       "\r\n",
       "}\r\n",
       "\r\n",
       "E2 - -> E4 [[psysml:f9bcfb7b-138a-4058-8879-7210022ba40a ]] \r\n",
       "E3 - -> E4 [[psysml:6481bc83-60df-4dde-906c-a5becb339116 ]] \r\n",
       "E4 - -> E5 [[psysml:091dd6b1-b372-46ae-b0ca-4e4aa94aac13 ]] \r\n",
       "E5 - -> E6 [[psysml:418b7d58-d850-4614-9e9d-1c793842a2dd ]] \r\n",
       "E5 - -> E7 [[psysml:a0ea5228-fdc9-49fd-bb96-6ce22cf44d00 ]] \r\n",
       "@enduml\r\n",
       "\n",
       "PlantUML version 1.2022.7(Mon Aug 22 17:01:30 UTC 2022)\n",
       "(EPL source distribution)\n",
       "Java Runtime: OpenJDK Runtime Environment\n",
       "JVM: OpenJDK 64-Bit Server VM\n",
       "Default Encoding: UTF-8\n",
       "Language: en\n",
       "Country: null\n",
       "--></g></svg>"
      ]
     },
     "execution_count": 43,
     "metadata": {},
     "output_type": "execute_result"
    }
   ],
   "source": [
    "%viz --style=\"DEFAULT\" --view=\"MIXED\" \"ControlNodeTest\""
   ]
  },
  {
   "cell_type": "code",
   "execution_count": 44,
   "id": "ca9253b8",
   "metadata": {
    "execution": {
     "iopub.execute_input": "2024-12-16T14:20:26.540295Z",
     "iopub.status.busy": "2024-12-16T14:20:26.540084Z",
     "iopub.status.idle": "2024-12-16T14:20:26.559389Z",
     "shell.execute_reply": "2024-12-16T14:20:26.558584Z"
    }
   },
   "outputs": [
    {
     "data": {
      "image/svg+xml": [
       "<?xml version=\"1.0\" encoding=\"UTF-8\" standalone=\"no\"?><svg xmlns=\"http://www.w3.org/2000/svg\" xmlns:xlink=\"http://www.w3.org/1999/xlink\" contentStyleType=\"text/css\" height=\"366px\" preserveAspectRatio=\"none\" style=\"width:201px;height:366px;background:#FFFFFF;\" version=\"1.1\" viewBox=\"0 0 201 366\" width=\"201px\" zoomAndPan=\"magnify\"><defs/><g><!--MD5=[fbc87193dbaf4d95561dea2c320d4a47]\n",
       "cluster E1--><g id=\"cluster_E1\"><a href=\"psysml:fb29792e-912d-4ab4-a64b-8ae4f88f6031\" target=\"_top\" title=\"psysml:fb29792e-912d-4ab4-a64b-8ae4f88f6031\" xlink:actuate=\"onRequest\" xlink:href=\"psysml:fb29792e-912d-4ab4-a64b-8ae4f88f6031\" xlink:show=\"new\" xlink:title=\"psysml:fb29792e-912d-4ab4-a64b-8ae4f88f6031\" xlink:type=\"simple\"><rect fill=\"#FFFFFF\" height=\"353\" id=\"E1\" style=\"stroke:#383838;stroke-width:1.5;\" width=\"187\" x=\"7\" y=\"7\"/><text fill=\"#000000\" font-family=\"sans-serif\" font-size=\"12\" font-style=\"italic\" lengthAdjust=\"spacing\" textLength=\"81\" x=\"60\" y=\"23.1387\">«action  def»</text><text fill=\"#000000\" font-family=\"sans-serif\" font-size=\"14\" lengthAdjust=\"spacing\" textLength=\"118\" x=\"41.5\" y=\"38.9639\">ControlNodeTest</text><line style=\"stroke:#383838;stroke-width:1.0;\" x1=\"7\" x2=\"194\" y1=\"47.2656\" y2=\"47.2656\"/></a></g><rect fill=\"#555555\" height=\"8\" style=\"stroke:none;stroke-width:1.0;\" width=\"80\" x=\"60\" y=\"163\"/><rect fill=\"#555555\" height=\"8\" style=\"stroke:none;stroke-width:1.0;\" width=\"80\" x=\"60\" y=\"231\"/><g><a href=\"psysml:fe1ec0cc-95d8-48f7-a7e5-aef83e3da3f9\" target=\"_top\" title=\"psysml:fe1ec0cc-95d8-48f7-a7e5-aef83e3da3f9\" xlink:actuate=\"onRequest\" xlink:href=\"psysml:fe1ec0cc-95d8-48f7-a7e5-aef83e3da3f9\" xlink:show=\"new\" xlink:title=\"psysml:fe1ec0cc-95d8-48f7-a7e5-aef83e3da3f9\" xlink:type=\"simple\"><rect fill=\"#FFFFFF\" height=\"45.2656\" id=\"E2\" rx=\"10\" ry=\"10\" style=\"stroke:#383838;stroke-width:1.5;\" width=\"60\" x=\"118\" y=\"58\"/><text fill=\"#000000\" font-family=\"sans-serif\" font-size=\"12\" font-style=\"italic\" lengthAdjust=\"spacing\" textLength=\"53\" x=\"121.5\" y=\"74.1387\">«action»</text><text fill=\"#000000\" font-family=\"sans-serif\" font-size=\"14\" lengthAdjust=\"spacing\" textLength=\"18\" x=\"139\" y=\"89.9639\">A1</text></a></g><g><a href=\"psysml:c0a5c6df-be9c-4195-8c1c-0f8f015b3130\" target=\"_top\" title=\"psysml:c0a5c6df-be9c-4195-8c1c-0f8f015b3130\" xlink:actuate=\"onRequest\" xlink:href=\"psysml:c0a5c6df-be9c-4195-8c1c-0f8f015b3130\" xlink:show=\"new\" xlink:title=\"psysml:c0a5c6df-be9c-4195-8c1c-0f8f015b3130\" xlink:type=\"simple\"><rect fill=\"#FFFFFF\" height=\"45.2656\" id=\"E3\" rx=\"10\" ry=\"10\" style=\"stroke:#383838;stroke-width:1.5;\" width=\"60\" x=\"23\" y=\"58\"/><text fill=\"#000000\" font-family=\"sans-serif\" font-size=\"12\" font-style=\"italic\" lengthAdjust=\"spacing\" textLength=\"53\" x=\"26.5\" y=\"74.1387\">«action»</text><text fill=\"#000000\" font-family=\"sans-serif\" font-size=\"14\" lengthAdjust=\"spacing\" textLength=\"18\" x=\"44\" y=\"89.9639\">A2</text></a></g><g><a href=\"psysml:2e4137e4-9d77-4a25-b719-c29e464dbfc7\" target=\"_top\" title=\"psysml:2e4137e4-9d77-4a25-b719-c29e464dbfc7\" xlink:actuate=\"onRequest\" xlink:href=\"psysml:2e4137e4-9d77-4a25-b719-c29e464dbfc7\" xlink:show=\"new\" xlink:title=\"psysml:2e4137e4-9d77-4a25-b719-c29e464dbfc7\" xlink:type=\"simple\"><rect fill=\"#FFFFFF\" height=\"45.2656\" id=\"E6\" rx=\"10\" ry=\"10\" style=\"stroke:#383838;stroke-width:1.5;\" width=\"60\" x=\"23\" y=\"299\"/><text fill=\"#000000\" font-family=\"sans-serif\" font-size=\"12\" font-style=\"italic\" lengthAdjust=\"spacing\" textLength=\"53\" x=\"26.5\" y=\"315.1387\">«action»</text><text fill=\"#000000\" font-family=\"sans-serif\" font-size=\"14\" lengthAdjust=\"spacing\" textLength=\"19\" x=\"43.5\" y=\"330.9639\">B1</text></a></g><g><a href=\"psysml:22fc935b-3ced-457d-8850-10eb2e62808c\" target=\"_top\" title=\"psysml:22fc935b-3ced-457d-8850-10eb2e62808c\" xlink:actuate=\"onRequest\" xlink:href=\"psysml:22fc935b-3ced-457d-8850-10eb2e62808c\" xlink:show=\"new\" xlink:title=\"psysml:22fc935b-3ced-457d-8850-10eb2e62808c\" xlink:type=\"simple\"><rect fill=\"#FFFFFF\" height=\"45.2656\" id=\"E7\" rx=\"10\" ry=\"10\" style=\"stroke:#383838;stroke-width:1.5;\" width=\"60\" x=\"118\" y=\"299\"/><text fill=\"#000000\" font-family=\"sans-serif\" font-size=\"12\" font-style=\"italic\" lengthAdjust=\"spacing\" textLength=\"53\" x=\"121.5\" y=\"315.1387\">«action»</text><text fill=\"#000000\" font-family=\"sans-serif\" font-size=\"14\" lengthAdjust=\"spacing\" textLength=\"19\" x=\"138.5\" y=\"330.9639\">B2</text></a></g><!--MD5=[4d03bb2d0377dc85ccfab60ff574652b]\n",
       "link E2 to E4--><g id=\"link_E2_E4\"><a href=\"psysml:f9bcfb7b-138a-4058-8879-7210022ba40a\" target=\"_top\" title=\"psysml:f9bcfb7b-138a-4058-8879-7210022ba40a\" xlink:actuate=\"onRequest\" xlink:href=\"psysml:f9bcfb7b-138a-4058-8879-7210022ba40a\" xlink:show=\"new\" xlink:title=\"psysml:f9bcfb7b-138a-4058-8879-7210022ba40a\" xlink:type=\"simple\"><path d=\"M135.64,103.26 C125.33,121.4 111.25,146.19 104.28,158.47 \" fill=\"none\" id=\"E2-to-E4\" style=\"stroke:#181818;stroke-width:1.0;\"/><polygon fill=\"#181818\" points=\"101.75,162.91,109.6779,157.0663,104.223,158.5644,102.7249,153.1095,101.75,162.91\" style=\"stroke:#181818;stroke-width:1.0;\"/></a></g><!--MD5=[af87c684e3b0d8be13c1a698a818ef1e]\n",
       "link E3 to E4--><g id=\"link_E3_E4\"><a href=\"psysml:6481bc83-60df-4dde-906c-a5becb339116\" target=\"_top\" title=\"psysml:6481bc83-60df-4dde-906c-a5becb339116\" xlink:actuate=\"onRequest\" xlink:href=\"psysml:6481bc83-60df-4dde-906c-a5becb339116\" xlink:show=\"new\" xlink:title=\"psysml:6481bc83-60df-4dde-906c-a5becb339116\" xlink:type=\"simple\"><path d=\"M65.1,103.26 C75.19,121.4 88.98,146.19 95.81,158.47 \" fill=\"none\" id=\"E3-to-E4\" style=\"stroke:#181818;stroke-width:1.0;\"/><polygon fill=\"#181818\" points=\"98.28,162.91,97.3814,153.1022,95.8409,158.5453,90.3978,157.0048,98.28,162.91\" style=\"stroke:#181818;stroke-width:1.0;\"/></a></g><!--MD5=[1b7591eae5389033d8d09a9d6721a717]\n",
       "link E4 to E5--><g id=\"link_E4_E5\"><a href=\"psysml:091dd6b1-b372-46ae-b0ca-4e4aa94aac13\" target=\"_top\" title=\"psysml:091dd6b1-b372-46ae-b0ca-4e4aa94aac13\" xlink:actuate=\"onRequest\" xlink:href=\"psysml:091dd6b1-b372-46ae-b0ca-4e4aa94aac13\" xlink:show=\"new\" xlink:title=\"psysml:091dd6b1-b372-46ae-b0ca-4e4aa94aac13\" xlink:type=\"simple\"><path d=\"M100,171.18 C100,180.92 100,210.52 100,225.34 \" fill=\"none\" id=\"E4-to-E5\" style=\"stroke:#181818;stroke-width:1.0;\"/><polygon fill=\"#181818\" points=\"100,230.69,104,221.69,100,225.69,96,221.69,100,230.69\" style=\"stroke:#181818;stroke-width:1.0;\"/></a></g><!--MD5=[9120cf2e5df3bff93db8f754bbbc09b4]\n",
       "link E5 to E6--><g id=\"link_E5_E6\"><a href=\"psysml:418b7d58-d850-4614-9e9d-1c793842a2dd\" target=\"_top\" title=\"psysml:418b7d58-d850-4614-9e9d-1c793842a2dd\" xlink:actuate=\"onRequest\" xlink:href=\"psysml:418b7d58-d850-4614-9e9d-1c793842a2dd\" xlink:show=\"new\" xlink:title=\"psysml:418b7d58-d850-4614-9e9d-1c793842a2dd\" xlink:type=\"simple\"><path d=\"M98.21,239.21 C93.23,248.18 78.77,274.17 67.53,294.37 \" fill=\"none\" id=\"E5-to-E6\" style=\"stroke:#181818;stroke-width:1.0;\"/><polygon fill=\"#181818\" points=\"65.04,298.85,72.9074,292.9252,67.4682,294.4792,65.9142,289.04,65.04,298.85\" style=\"stroke:#181818;stroke-width:1.0;\"/></a></g><!--MD5=[3a9b96bfbf6b6ad89c494e81751bda47]\n",
       "link E5 to E7--><g id=\"link_E5_E7\"><a href=\"psysml:a0ea5228-fdc9-49fd-bb96-6ce22cf44d00\" target=\"_top\" title=\"psysml:a0ea5228-fdc9-49fd-bb96-6ce22cf44d00\" xlink:actuate=\"onRequest\" xlink:href=\"psysml:a0ea5228-fdc9-49fd-bb96-6ce22cf44d00\" xlink:show=\"new\" xlink:title=\"psysml:a0ea5228-fdc9-49fd-bb96-6ce22cf44d00\" xlink:type=\"simple\"><path d=\"M101.82,239.21 C106.92,248.18 121.68,274.17 133.16,294.37 \" fill=\"none\" id=\"E5-to-E7\" style=\"stroke:#181818;stroke-width:1.0;\"/><polygon fill=\"#181818\" points=\"135.7,298.85,134.7251,289.0495,133.227,294.5044,127.7721,293.0063,135.7,298.85\" style=\"stroke:#181818;stroke-width:1.0;\"/></a></g><!--MD5=[c1eacb38c7f48f630e539ea19b69b994]\n",
       "@startuml\r\n",
       "skin sysmlbw\r\n",
       "skinparam monochrome true\r\n",
       "skinparam wrapWidth 300\r\n",
       "hide circle\r\n",
       "top to bottom direction\r\n",
       "\r\n",
       "rec def \"ControlNodeTest\" as E1  <<(T,blue) action  def>> [[psysml:fb29792e-912d-4ab4-a64b-8ae4f88f6031 ]] {\r\n",
       "rec usage \"A1\" as E2  <<(T,blue) action>> [[psysml:fe1ec0cc-95d8-48f7-a7e5-aef83e3da3f9 ]] {\r\n",
       "}\r\n",
       "\r\n",
       "rec usage \"A2\" as E3  <<(T,blue) action>> [[psysml:c0a5c6df-be9c-4195-8c1c-0f8f015b3130 ]] {\r\n",
       "}\r\n",
       "\r\n",
       "join \"J\" as E4  [[psysml:3bd09aec-2544-46ae-936d-01aed8eb96e7 ]] \r\n",
       "fork \"F\" as E5  [[psysml:17702565-4e67-4d00-9c2e-cf91774b37d5 ]] \r\n",
       "rec usage \"B1\" as E6  <<(T,blue) action>> [[psysml:2e4137e4-9d77-4a25-b719-c29e464dbfc7 ]] {\r\n",
       "}\r\n",
       "\r\n",
       "rec usage \"B2\" as E7  <<(T,blue) action>> [[psysml:22fc935b-3ced-457d-8850-10eb2e62808c ]] {\r\n",
       "}\r\n",
       "\r\n",
       "}\r\n",
       "\r\n",
       "E2 - -> E4 [[psysml:f9bcfb7b-138a-4058-8879-7210022ba40a ]] \r\n",
       "E3 - -> E4 [[psysml:6481bc83-60df-4dde-906c-a5becb339116 ]] \r\n",
       "E4 - -> E5 [[psysml:091dd6b1-b372-46ae-b0ca-4e4aa94aac13 ]] \r\n",
       "E5 - -> E6 [[psysml:418b7d58-d850-4614-9e9d-1c793842a2dd ]] \r\n",
       "E5 - -> E7 [[psysml:a0ea5228-fdc9-49fd-bb96-6ce22cf44d00 ]] \r\n",
       "@enduml\r\n",
       "\n",
       "PlantUML version 1.2022.7(Mon Aug 22 17:01:30 UTC 2022)\n",
       "(EPL source distribution)\n",
       "Java Runtime: OpenJDK Runtime Environment\n",
       "JVM: OpenJDK 64-Bit Server VM\n",
       "Default Encoding: UTF-8\n",
       "Language: en\n",
       "Country: null\n",
       "--></g></svg>"
      ]
     },
     "execution_count": 44,
     "metadata": {},
     "output_type": "execute_result"
    }
   ],
   "source": [
    "%viz --style=\"TB\" --view=\"Default\" \"ControlNodeTest\""
   ]
  },
  {
   "cell_type": "code",
   "execution_count": 45,
   "id": "77b84f9e",
   "metadata": {
    "execution": {
     "iopub.execute_input": "2024-12-16T14:20:26.615417Z",
     "iopub.status.busy": "2024-12-16T14:20:26.615175Z",
     "iopub.status.idle": "2024-12-16T14:20:26.636814Z",
     "shell.execute_reply": "2024-12-16T14:20:26.635748Z"
    }
   },
   "outputs": [
    {
     "data": {
      "image/svg+xml": [
       "<?xml version=\"1.0\" encoding=\"UTF-8\" standalone=\"no\"?><svg xmlns=\"http://www.w3.org/2000/svg\" xmlns:xlink=\"http://www.w3.org/1999/xlink\" contentStyleType=\"text/css\" height=\"586px\" preserveAspectRatio=\"none\" style=\"width:396px;height:586px;background:#FFFFFF;\" version=\"1.1\" viewBox=\"0 0 396 586\" width=\"396px\" zoomAndPan=\"magnify\"><defs/><g><!--MD5=[43c9051892ef23e1a46a86907403d788]\n",
       "class E1--><a href=\"psysml:fb29792e-912d-4ab4-a64b-8ae4f88f6031\" target=\"_top\" title=\"psysml:fb29792e-912d-4ab4-a64b-8ae4f88f6031\" xlink:actuate=\"onRequest\" xlink:href=\"psysml:fb29792e-912d-4ab4-a64b-8ae4f88f6031\" xlink:show=\"new\" xlink:title=\"psysml:fb29792e-912d-4ab4-a64b-8ae4f88f6031\" xlink:type=\"simple\"><g id=\"elem_E1\"><rect fill=\"#FFFFFF\" height=\"140.2688\" id=\"E1\" style=\"stroke:#181818;stroke-width:0.5;\" width=\"169\" x=\"157.41\" y=\"7\"/><text fill=\"#000000\" font-family=\"sans-serif\" font-size=\"12\" font-style=\"italic\" lengthAdjust=\"spacing\" textLength=\"81\" x=\"201.41\" y=\"23.1387\">«action  def»</text><text fill=\"#000000\" font-family=\"sans-serif\" font-size=\"14\" lengthAdjust=\"spacing\" textLength=\"118\" x=\"182.91\" y=\"38.9639\">ControlNodeTest</text><line style=\"stroke:#181818;stroke-width:0.5;\" x1=\"158.41\" x2=\"325.41\" y1=\"47.2656\" y2=\"47.2656\"/><text fill=\"#000000\" font-family=\"sans-serif\" font-size=\"14\" lengthAdjust=\"spacing\" textLength=\"151\" x=\"163.41\" y=\"74.7795\">noname first A1 then J</text><text fill=\"#000000\" font-family=\"sans-serif\" font-size=\"14\" lengthAdjust=\"spacing\" textLength=\"151\" x=\"163.41\" y=\"91.0764\">noname first A2 then J</text><text fill=\"#000000\" font-family=\"sans-serif\" font-size=\"14\" lengthAdjust=\"spacing\" textLength=\"141\" x=\"163.41\" y=\"107.3732\">noname first J then F</text><text fill=\"#000000\" font-family=\"sans-serif\" font-size=\"14\" lengthAdjust=\"spacing\" textLength=\"157\" x=\"163.41\" y=\"123.6701\">noname first F then B1</text><text fill=\"#000000\" font-family=\"sans-serif\" font-size=\"14\" lengthAdjust=\"spacing\" textLength=\"157\" x=\"163.41\" y=\"139.967\">noname first F then B2</text><text fill=\"#000000\" font-family=\"sans-serif\" font-size=\"14\" font-style=\"italic\" lengthAdjust=\"spacing\" textLength=\"87\" x=\"198.41\" y=\"59.6123\">successions</text></g></a><!--MD5=[b4997ac47864f28c2f74865a473b2911]\n",
       "class E2--><a href=\"psysml:fe1ec0cc-95d8-48f7-a7e5-aef83e3da3f9\" target=\"_top\" title=\"psysml:fe1ec0cc-95d8-48f7-a7e5-aef83e3da3f9\" xlink:actuate=\"onRequest\" xlink:href=\"psysml:fe1ec0cc-95d8-48f7-a7e5-aef83e3da3f9\" xlink:show=\"new\" xlink:title=\"psysml:fe1ec0cc-95d8-48f7-a7e5-aef83e3da3f9\" xlink:type=\"simple\"><g id=\"elem_E2\"><rect fill=\"#FFFFFF\" height=\"48.2656\" id=\"E2\" rx=\"10\" ry=\"10\" style=\"stroke:#181818;stroke-width:0.5;\" width=\"55\" x=\"84.41\" y=\"207\"/><text fill=\"#000000\" font-family=\"sans-serif\" font-size=\"12\" font-style=\"italic\" lengthAdjust=\"spacing\" textLength=\"53\" x=\"85.41\" y=\"223.1387\">«action»</text><text fill=\"#000000\" font-family=\"sans-serif\" font-size=\"14\" lengthAdjust=\"spacing\" textLength=\"18\" x=\"98.91\" y=\"238.9639\">A1</text><line style=\"stroke:#181818;stroke-width:0.5;\" x1=\"85.41\" x2=\"138.41\" y1=\"247.2656\" y2=\"247.2656\"/></g></a><!--MD5=[09b614a08d8cba4a07c9adeb5e0fee81]\n",
       "class E3--><a href=\"psysml:c0a5c6df-be9c-4195-8c1c-0f8f015b3130\" target=\"_top\" title=\"psysml:c0a5c6df-be9c-4195-8c1c-0f8f015b3130\" xlink:actuate=\"onRequest\" xlink:href=\"psysml:c0a5c6df-be9c-4195-8c1c-0f8f015b3130\" xlink:show=\"new\" xlink:title=\"psysml:c0a5c6df-be9c-4195-8c1c-0f8f015b3130\" xlink:type=\"simple\"><g id=\"elem_E3\"><rect fill=\"#FFFFFF\" height=\"48.2656\" id=\"E3\" rx=\"10\" ry=\"10\" style=\"stroke:#181818;stroke-width:0.5;\" width=\"55\" x=\"174.41\" y=\"207\"/><text fill=\"#000000\" font-family=\"sans-serif\" font-size=\"12\" font-style=\"italic\" lengthAdjust=\"spacing\" textLength=\"53\" x=\"175.41\" y=\"223.1387\">«action»</text><text fill=\"#000000\" font-family=\"sans-serif\" font-size=\"14\" lengthAdjust=\"spacing\" textLength=\"18\" x=\"188.91\" y=\"238.9639\">A2</text><line style=\"stroke:#181818;stroke-width:0.5;\" x1=\"175.41\" x2=\"228.41\" y1=\"247.2656\" y2=\"247.2656\"/></g></a><!--MD5=[ebbe1d658d1005bcc118a6aa81145e00]\n",
       "class E4--><a href=\"psysml:3bd09aec-2544-46ae-936d-01aed8eb96e7\" target=\"_top\" title=\"psysml:3bd09aec-2544-46ae-936d-01aed8eb96e7\" xlink:actuate=\"onRequest\" xlink:href=\"psysml:3bd09aec-2544-46ae-936d-01aed8eb96e7\" xlink:show=\"new\" xlink:title=\"psysml:3bd09aec-2544-46ae-936d-01aed8eb96e7\" xlink:type=\"simple\"><g id=\"elem_E4\"><rect fill=\"#FFFFFF\" height=\"48.2656\" id=\"E4\" rx=\"10\" ry=\"10\" style=\"stroke:#181818;stroke-width:0.5;\" width=\"74\" x=\"195.91\" y=\"315\"/><text fill=\"#000000\" font-family=\"sans-serif\" font-size=\"12\" font-style=\"italic\" lengthAdjust=\"spacing\" textLength=\"72\" x=\"196.91\" y=\"331.1387\">«join node»</text><text fill=\"#000000\" font-family=\"sans-serif\" font-size=\"14\" lengthAdjust=\"spacing\" textLength=\"3\" x=\"227.41\" y=\"346.9639\">J</text><line style=\"stroke:#181818;stroke-width:0.5;\" x1=\"196.91\" x2=\"268.91\" y1=\"355.2656\" y2=\"355.2656\"/></g></a><!--MD5=[270fce915f116d4de14055a7c1d9a0f3]\n",
       "class E5--><a href=\"psysml:17702565-4e67-4d00-9c2e-cf91774b37d5\" target=\"_top\" title=\"psysml:17702565-4e67-4d00-9c2e-cf91774b37d5\" xlink:actuate=\"onRequest\" xlink:href=\"psysml:17702565-4e67-4d00-9c2e-cf91774b37d5\" xlink:show=\"new\" xlink:title=\"psysml:17702565-4e67-4d00-9c2e-cf91774b37d5\" xlink:type=\"simple\"><g id=\"elem_E5\"><rect fill=\"#FFFFFF\" height=\"48.2656\" id=\"E5\" rx=\"10\" ry=\"10\" style=\"stroke:#181818;stroke-width:0.5;\" width=\"76\" x=\"260.91\" y=\"423\"/><text fill=\"#000000\" font-family=\"sans-serif\" font-size=\"12\" font-style=\"italic\" lengthAdjust=\"spacing\" textLength=\"74\" x=\"261.91\" y=\"439.1387\">«fork node»</text><text fill=\"#000000\" font-family=\"sans-serif\" font-size=\"14\" lengthAdjust=\"spacing\" textLength=\"8\" x=\"290.91\" y=\"454.9639\">F</text><line style=\"stroke:#181818;stroke-width:0.5;\" x1=\"261.91\" x2=\"335.91\" y1=\"463.2656\" y2=\"463.2656\"/></g></a><!--MD5=[60a26617385b1d2d0262a64233df1f8d]\n",
       "class E6--><a href=\"psysml:2e4137e4-9d77-4a25-b719-c29e464dbfc7\" target=\"_top\" title=\"psysml:2e4137e4-9d77-4a25-b719-c29e464dbfc7\" xlink:actuate=\"onRequest\" xlink:href=\"psysml:2e4137e4-9d77-4a25-b719-c29e464dbfc7\" xlink:show=\"new\" xlink:title=\"psysml:2e4137e4-9d77-4a25-b719-c29e464dbfc7\" xlink:type=\"simple\"><g id=\"elem_E6\"><rect fill=\"#FFFFFF\" height=\"48.2656\" id=\"E6\" rx=\"10\" ry=\"10\" style=\"stroke:#181818;stroke-width:0.5;\" width=\"55\" x=\"204.41\" y=\"531\"/><text fill=\"#000000\" font-family=\"sans-serif\" font-size=\"12\" font-style=\"italic\" lengthAdjust=\"spacing\" textLength=\"53\" x=\"205.41\" y=\"547.1387\">«action»</text><text fill=\"#000000\" font-family=\"sans-serif\" font-size=\"14\" lengthAdjust=\"spacing\" textLength=\"19\" x=\"218.41\" y=\"562.9639\">B1</text><line style=\"stroke:#181818;stroke-width:0.5;\" x1=\"205.41\" x2=\"258.41\" y1=\"571.2656\" y2=\"571.2656\"/></g></a><!--MD5=[2156ba9850f5573cc1fc38a6a4b2f02b]\n",
       "class E7--><a href=\"psysml:22fc935b-3ced-457d-8850-10eb2e62808c\" target=\"_top\" title=\"psysml:22fc935b-3ced-457d-8850-10eb2e62808c\" xlink:actuate=\"onRequest\" xlink:href=\"psysml:22fc935b-3ced-457d-8850-10eb2e62808c\" xlink:show=\"new\" xlink:title=\"psysml:22fc935b-3ced-457d-8850-10eb2e62808c\" xlink:type=\"simple\"><g id=\"elem_E7\"><rect fill=\"#FFFFFF\" height=\"48.2656\" id=\"E7\" rx=\"10\" ry=\"10\" style=\"stroke:#181818;stroke-width:0.5;\" width=\"55\" x=\"334.41\" y=\"531\"/><text fill=\"#000000\" font-family=\"sans-serif\" font-size=\"12\" font-style=\"italic\" lengthAdjust=\"spacing\" textLength=\"53\" x=\"335.41\" y=\"547.1387\">«action»</text><text fill=\"#000000\" font-family=\"sans-serif\" font-size=\"14\" lengthAdjust=\"spacing\" textLength=\"19\" x=\"348.41\" y=\"562.9639\">B2</text><line style=\"stroke:#181818;stroke-width:0.5;\" x1=\"335.41\" x2=\"388.41\" y1=\"571.2656\" y2=\"571.2656\"/></g></a><!--MD5=[a523cb2a0b79ecf9065ad8783f96c320]\n",
       "reverse link E1 to E2--><g id=\"link_E1_E2\"><a href=\"psysml:9306702f-37ef-4fdd-b535-5b953ffb2d58\" target=\"_top\" title=\"psysml:9306702f-37ef-4fdd-b535-5b953ffb2d58\" xlink:actuate=\"onRequest\" xlink:href=\"psysml:9306702f-37ef-4fdd-b535-5b953ffb2d58\" xlink:show=\"new\" xlink:title=\"psysml:9306702f-37ef-4fdd-b535-5b953ffb2d58\" xlink:type=\"simple\"><path d=\"M173.99,157.41 C158.47,175.56 143.18,193.45 131.65,206.92 \" fill=\"none\" id=\"E1-backto-E2\" style=\"stroke:#181818;stroke-width:1.0;\"/><polygon fill=\"#181818\" points=\"182.62,147.33,175.6817,149.2948,174.8268,156.455,181.7651,154.4902,182.62,147.33\" style=\"stroke:#181818;stroke-width:1.0;\"/></a></g><!--MD5=[5d7b3810b1dd9b5164bea1151b29b665]\n",
       "reverse link E1 to E3--><g id=\"link_E1_E3\"><a href=\"psysml:ff946dee-4dd2-48de-88dc-ec164dbbdf2e\" target=\"_top\" title=\"psysml:ff946dee-4dd2-48de-88dc-ec164dbbdf2e\" xlink:actuate=\"onRequest\" xlink:href=\"psysml:ff946dee-4dd2-48de-88dc-ec164dbbdf2e\" xlink:show=\"new\" xlink:title=\"psysml:ff946dee-4dd2-48de-88dc-ec164dbbdf2e\" xlink:type=\"simple\"><path d=\"M220.35,159.93 C215.81,177.2 211.37,194.07 207.98,206.92 \" fill=\"none\" id=\"E1-backto-E3\" style=\"stroke:#181818;stroke-width:1.0;\"/><polygon fill=\"#181818\" points=\"223.67,147.33,218.2726,152.1121,220.6109,158.9335,226.0083,154.1515,223.67,147.33\" style=\"stroke:#181818;stroke-width:1.0;\"/></a></g><!--MD5=[4d03bb2d0377dc85ccfab60ff574652b]\n",
       "link E2 to E4--><g id=\"link_E2_E4\"><a href=\"psysml:f9bcfb7b-138a-4058-8879-7210022ba40a\" target=\"_top\" title=\"psysml:f9bcfb7b-138a-4058-8879-7210022ba40a\" xlink:actuate=\"onRequest\" xlink:href=\"psysml:f9bcfb7b-138a-4058-8879-7210022ba40a\" xlink:show=\"new\" xlink:title=\"psysml:f9bcfb7b-138a-4058-8879-7210022ba40a\" xlink:type=\"simple\"><path d=\"M138.17,255 C157.06,271.55 182.61,293.93 202.41,311.28 \" fill=\"none\" id=\"E2-to-E4\" style=\"stroke:#181818;stroke-width:1.0;\"/><polygon fill=\"#181818\" points=\"206.29,314.68,202.1484,305.7443,202.5262,311.3885,196.882,311.7663,206.29,314.68\" style=\"stroke:#181818;stroke-width:1.0;\"/></a></g><!--MD5=[af87c684e3b0d8be13c1a698a818ef1e]\n",
       "link E3 to E4--><g id=\"link_E3_E4\"><a href=\"psysml:6481bc83-60df-4dde-906c-a5becb339116\" target=\"_top\" title=\"psysml:6481bc83-60df-4dde-906c-a5becb339116\" xlink:actuate=\"onRequest\" xlink:href=\"psysml:6481bc83-60df-4dde-906c-a5becb339116\" xlink:show=\"new\" xlink:title=\"psysml:6481bc83-60df-4dde-906c-a5becb339116\" xlink:type=\"simple\"><path d=\"M208.64,255 C213.32,271 219.59,292.45 224.58,309.53 \" fill=\"none\" id=\"E3-to-E4\" style=\"stroke:#181818;stroke-width:1.0;\"/><polygon fill=\"#181818\" points=\"226.09,314.68,227.41,304.92,224.69,309.88,219.73,307.16,226.09,314.68\" style=\"stroke:#181818;stroke-width:1.0;\"/></a></g><!--MD5=[f2c5c03aa1e8c0ba21c10a05e6444b8e]\n",
       "reverse link E1 to E4--><g id=\"link_E1_E4\"><a href=\"psysml:c17bb3db-0b7d-4d5b-b917-165c66d3be23\" target=\"_top\" title=\"psysml:c17bb3db-0b7d-4d5b-b917-165c66d3be23\" xlink:actuate=\"onRequest\" xlink:href=\"psysml:c17bb3db-0b7d-4d5b-b917-165c66d3be23\" xlink:show=\"new\" xlink:title=\"psysml:c17bb3db-0b7d-4d5b-b917-165c66d3be23\" xlink:type=\"simple\"><path d=\"M248.04,160.02 C249.27,189.95 249.5,224.05 246.91,255 C245.2,275.39 241.18,298.3 237.88,314.88 \" fill=\"none\" id=\"E1-backto-E4\" style=\"stroke:#181818;stroke-width:1.0;\"/><polygon fill=\"#181818\" points=\"247.43,147.03,243.7112,153.2082,247.9839,159.0172,251.7027,152.839,247.43,147.03\" style=\"stroke:#181818;stroke-width:1.0;\"/></a></g><!--MD5=[1b7591eae5389033d8d09a9d6721a717]\n",
       "link E4 to E5--><g id=\"link_E4_E5\"><a href=\"psysml:091dd6b1-b372-46ae-b0ca-4e4aa94aac13\" target=\"_top\" title=\"psysml:091dd6b1-b372-46ae-b0ca-4e4aa94aac13\" xlink:actuate=\"onRequest\" xlink:href=\"psysml:091dd6b1-b372-46ae-b0ca-4e4aa94aac13\" xlink:show=\"new\" xlink:title=\"psysml:091dd6b1-b372-46ae-b0ca-4e4aa94aac13\" xlink:type=\"simple\"><path d=\"M247.23,363 C257.37,379.28 271.01,401.19 281.73,418.41 \" fill=\"none\" id=\"E4-to-E5\" style=\"stroke:#181818;stroke-width:1.0;\"/><polygon fill=\"#181818\" points=\"284.39,422.68,283.0268,412.9259,281.7464,418.436,276.2364,417.1557,284.39,422.68\" style=\"stroke:#181818;stroke-width:1.0;\"/></a></g><!--MD5=[33238bef88d6431a141d8bc8fb12bca0]\n",
       "reverse link E1 to E5--><g id=\"link_E1_E5\"><a href=\"psysml:75ce6460-81e3-4fd8-b178-253d08d4aaea\" target=\"_top\" title=\"psysml:75ce6460-81e3-4fd8-b178-253d08d4aaea\" xlink:actuate=\"onRequest\" xlink:href=\"psysml:75ce6460-81e3-4fd8-b178-253d08d4aaea\" xlink:show=\"new\" xlink:title=\"psysml:75ce6460-81e3-4fd8-b178-253d08d4aaea\" xlink:type=\"simple\"><path d=\"M262.87,159.92 C266.49,175.5 270.02,191.71 272.91,207 C287.73,285.33 294.91,379.82 297.6,422.75 \" fill=\"none\" id=\"E1-backto-E5\" style=\"stroke:#181818;stroke-width:1.0;\"/><polygon fill=\"#181818\" points=\"259.82,147.02,257.3116,153.7808,262.5876,158.6965,265.0959,151.9357,259.82,147.02\" style=\"stroke:#181818;stroke-width:1.0;\"/></a></g><!--MD5=[9120cf2e5df3bff93db8f754bbbc09b4]\n",
       "link E5 to E6--><g id=\"link_E5_E6\"><a href=\"psysml:418b7d58-d850-4614-9e9d-1c793842a2dd\" target=\"_top\" title=\"psysml:418b7d58-d850-4614-9e9d-1c793842a2dd\" xlink:actuate=\"onRequest\" xlink:href=\"psysml:418b7d58-d850-4614-9e9d-1c793842a2dd\" xlink:show=\"new\" xlink:title=\"psysml:418b7d58-d850-4614-9e9d-1c793842a2dd\" xlink:type=\"simple\"><path d=\"M284.37,471 C274.08,487.28 260.24,509.19 249.35,526.41 \" fill=\"none\" id=\"E5-to-E6\" style=\"stroke:#181818;stroke-width:1.0;\"/><polygon fill=\"#181818\" points=\"246.65,530.68,254.8386,525.2076,249.3205,526.4529,248.0752,520.9348,246.65,530.68\" style=\"stroke:#181818;stroke-width:1.0;\"/></a></g><!--MD5=[aca2ef284c2b1b90e17e73bf3f292c07]\n",
       "reverse link E1 to E6--><g id=\"link_E1_E6\"><a href=\"psysml:cbe5f5cb-386f-45e5-9c39-bb1873a128f8\" target=\"_top\" title=\"psysml:cbe5f5cb-386f-45e5-9c39-bb1873a128f8\" xlink:actuate=\"onRequest\" xlink:href=\"psysml:cbe5f5cb-386f-45e5-9c39-bb1873a128f8\" xlink:show=\"new\" xlink:title=\"psysml:cbe5f5cb-386f-45e5-9c39-bb1873a128f8\" xlink:type=\"simple\"><path d=\"M146.12,125.13 C115.02,145.67 84.12,172.95 66.91,207 C6,327.57 144.69,474.51 205.32,530.67 \" fill=\"none\" id=\"E1-backto-E6\" style=\"stroke:#181818;stroke-width:1.0;\"/><polygon fill=\"#181818\" points=\"157.1,118.15,149.8906,117.9917,146.9717,124.5857,154.1811,124.7439,157.1,118.15\" style=\"stroke:#181818;stroke-width:1.0;\"/></a></g><!--MD5=[3a9b96bfbf6b6ad89c494e81751bda47]\n",
       "link E5 to E7--><g id=\"link_E5_E7\"><a href=\"psysml:a0ea5228-fdc9-49fd-bb96-6ce22cf44d00\" target=\"_top\" title=\"psysml:a0ea5228-fdc9-49fd-bb96-6ce22cf44d00\" xlink:actuate=\"onRequest\" xlink:href=\"psysml:a0ea5228-fdc9-49fd-bb96-6ce22cf44d00\" xlink:show=\"new\" xlink:title=\"psysml:a0ea5228-fdc9-49fd-bb96-6ce22cf44d00\" xlink:type=\"simple\"><path d=\"M312.58,471 C322.17,487.14 335.06,508.82 345.25,525.97 \" fill=\"none\" id=\"E5-to-E7\" style=\"stroke:#181818;stroke-width:1.0;\"/><polygon fill=\"#181818\" points=\"348.05,530.68,346.9119,520.8971,345.5049,526.3762,340.0258,524.9693,348.05,530.68\" style=\"stroke:#181818;stroke-width:1.0;\"/></a></g><!--MD5=[fc9706a6b2cf8c0e423679d303750d3f]\n",
       "reverse link E1 to E7--><g id=\"link_E1_E7\"><a href=\"psysml:65a1f468-5d54-43ed-9b56-c01a515fc6bb\" target=\"_top\" title=\"psysml:65a1f468-5d54-43ed-9b56-c01a515fc6bb\" xlink:actuate=\"onRequest\" xlink:href=\"psysml:65a1f468-5d54-43ed-9b56-c01a515fc6bb\" xlink:show=\"new\" xlink:title=\"psysml:65a1f468-5d54-43ed-9b56-c01a515fc6bb\" xlink:type=\"simple\"><path d=\"M282.74,159.54 C289.69,175.08 296.42,191.37 301.91,207 C334.69,300.26 340.43,325.22 354.91,423 C360.45,460.4 361.75,504.38 361.98,530.68 \" fill=\"none\" id=\"E1-backto-E7\" style=\"stroke:#181818;stroke-width:1.0;\"/><polygon fill=\"#181818\" points=\"277.14,147.27,275.9859,154.3881,282.1126,158.1912,283.2667,151.0731,277.14,147.27\" style=\"stroke:#181818;stroke-width:1.0;\"/></a></g><!--MD5=[2b266b631e2f1f3bfe5d1586b558235e]\n",
       "@startuml\r\n",
       "skin sysmlbw\r\n",
       "skinparam monochrome true\r\n",
       "skinparam wrapWidth 300\r\n",
       "hide circle\r\n",
       "top to bottom direction\r\n",
       "\r\n",
       "comp def \"ControlNodeTest\" as E1  <<(T,blue) action  def>> [[psysml:fb29792e-912d-4ab4-a64b-8ae4f88f6031 ]] {\r\n",
       "##//successions//##\r\n",
       "noname first A1 then J\r\n",
       "noname first A2 then J\r\n",
       "noname first J then F\r\n",
       "noname first F then B1\r\n",
       "noname first F then B2\r\n",
       "}\r\n",
       "comp usage \"A1  \" as E2  <<(T,blue) action>> [[psysml:fe1ec0cc-95d8-48f7-a7e5-aef83e3da3f9 ]] {\r\n",
       "}\r\n",
       "comp usage \"A2  \" as E3  <<(T,blue) action>> [[psysml:c0a5c6df-be9c-4195-8c1c-0f8f015b3130 ]] {\r\n",
       "}\r\n",
       "comp usage \"J  \" as E4  <<(T,blue) join node>> [[psysml:3bd09aec-2544-46ae-936d-01aed8eb96e7 ]] {\r\n",
       "}\r\n",
       "comp usage \"F  \" as E5  <<(T,blue) fork node>> [[psysml:17702565-4e67-4d00-9c2e-cf91774b37d5 ]] {\r\n",
       "}\r\n",
       "comp usage \"B1  \" as E6  <<(T,blue) action>> [[psysml:2e4137e4-9d77-4a25-b719-c29e464dbfc7 ]] {\r\n",
       "}\r\n",
       "comp usage \"B2  \" as E7  <<(T,blue) action>> [[psysml:22fc935b-3ced-457d-8850-10eb2e62808c ]] {\r\n",
       "}\r\n",
       "E1 *- - E2 [[psysml:9306702f-37ef-4fdd-b535-5b953ffb2d58 ]] \r\n",
       "E1 *- - E3 [[psysml:ff946dee-4dd2-48de-88dc-ec164dbbdf2e ]] \r\n",
       "E2 - -> E4 [[psysml:f9bcfb7b-138a-4058-8879-7210022ba40a ]] \r\n",
       "E3 - -> E4 [[psysml:6481bc83-60df-4dde-906c-a5becb339116 ]] \r\n",
       "E1 *- - E4 [[psysml:c17bb3db-0b7d-4d5b-b917-165c66d3be23 ]] \r\n",
       "E4 - -> E5 [[psysml:091dd6b1-b372-46ae-b0ca-4e4aa94aac13 ]] \r\n",
       "E1 *- - E5 [[psysml:75ce6460-81e3-4fd8-b178-253d08d4aaea ]] \r\n",
       "E5 - -> E6 [[psysml:418b7d58-d850-4614-9e9d-1c793842a2dd ]] \r\n",
       "E1 *- - E6 [[psysml:cbe5f5cb-386f-45e5-9c39-bb1873a128f8 ]] \r\n",
       "E5 - -> E7 [[psysml:a0ea5228-fdc9-49fd-bb96-6ce22cf44d00 ]] \r\n",
       "E1 *- - E7 [[psysml:65a1f468-5d54-43ed-9b56-c01a515fc6bb ]] \r\n",
       "@enduml\r\n",
       "\n",
       "PlantUML version 1.2022.7(Mon Aug 22 17:01:30 UTC 2022)\n",
       "(EPL source distribution)\n",
       "Java Runtime: OpenJDK Runtime Environment\n",
       "JVM: OpenJDK 64-Bit Server VM\n",
       "Default Encoding: UTF-8\n",
       "Language: en\n",
       "Country: null\n",
       "--></g></svg>"
      ]
     },
     "execution_count": 45,
     "metadata": {},
     "output_type": "execute_result"
    }
   ],
   "source": [
    "%viz --style=\"TB\" --view=\"Tree\" \"ControlNodeTest\""
   ]
  },
  {
   "cell_type": "code",
   "execution_count": 46,
   "id": "270f79d7",
   "metadata": {
    "execution": {
     "iopub.execute_input": "2024-12-16T14:20:26.690048Z",
     "iopub.status.busy": "2024-12-16T14:20:26.689831Z",
     "iopub.status.idle": "2024-12-16T14:20:26.694027Z",
     "shell.execute_reply": "2024-12-16T14:20:26.693844Z"
    }
   },
   "outputs": [
    {
     "data": {
      "image/svg+xml": [
       "<?xml version=\"1.0\" encoding=\"UTF-8\" standalone=\"no\"?><svg xmlns=\"http://www.w3.org/2000/svg\" xmlns:xlink=\"http://www.w3.org/1999/xlink\" contentStyleType=\"text/css\" height=\"10px\" preserveAspectRatio=\"none\" style=\"width:10px;height:10px;background:#FFFFFF;\" version=\"1.1\" viewBox=\"0 0 10 10\" width=\"10px\" zoomAndPan=\"magnify\"><defs/><g><!--MD5=[457d54036ad86991b1ebb71db2c9a3b1]\n",
       "@startuml\r\n",
       "skin sysmlbw\r\n",
       "skinparam monochrome true\r\n",
       "skinparam wrapWidth 300\r\n",
       "hide circle\r\n",
       "top to bottom direction\r\n",
       "\r\n",
       "@enduml\r\n",
       "\n",
       "PlantUML version 1.2022.7(Mon Aug 22 17:01:30 UTC 2022)\n",
       "(EPL source distribution)\n",
       "Java Runtime: OpenJDK Runtime Environment\n",
       "JVM: OpenJDK 64-Bit Server VM\n",
       "Default Encoding: UTF-8\n",
       "Language: en\n",
       "Country: null\n",
       "--></g></svg>"
      ]
     },
     "execution_count": 46,
     "metadata": {},
     "output_type": "execute_result"
    }
   ],
   "source": [
    "%viz --style=\"TB\" --view=\"State\" \"ControlNodeTest\""
   ]
  },
  {
   "cell_type": "code",
   "execution_count": 47,
   "id": "1295795c",
   "metadata": {
    "execution": {
     "iopub.execute_input": "2024-12-16T14:20:26.750304Z",
     "iopub.status.busy": "2024-12-16T14:20:26.750066Z",
     "iopub.status.idle": "2024-12-16T14:20:26.770328Z",
     "shell.execute_reply": "2024-12-16T14:20:26.769482Z"
    }
   },
   "outputs": [
    {
     "data": {
      "image/svg+xml": [
       "<?xml version=\"1.0\" encoding=\"UTF-8\" standalone=\"no\"?><svg xmlns=\"http://www.w3.org/2000/svg\" xmlns:xlink=\"http://www.w3.org/1999/xlink\" contentStyleType=\"text/css\" height=\"216px\" preserveAspectRatio=\"none\" style=\"width:201px;height:216px;background:#FFFFFF;\" version=\"1.1\" viewBox=\"0 0 201 216\" width=\"201px\" zoomAndPan=\"magnify\"><defs/><g><!--MD5=[fbc87193dbaf4d95561dea2c320d4a47]\n",
       "cluster E1--><g id=\"cluster_E1\"><a href=\"psysml:fb29792e-912d-4ab4-a64b-8ae4f88f6031\" target=\"_top\" title=\"psysml:fb29792e-912d-4ab4-a64b-8ae4f88f6031\" xlink:actuate=\"onRequest\" xlink:href=\"psysml:fb29792e-912d-4ab4-a64b-8ae4f88f6031\" xlink:show=\"new\" xlink:title=\"psysml:fb29792e-912d-4ab4-a64b-8ae4f88f6031\" xlink:type=\"simple\"><rect fill=\"#FFFFFF\" height=\"203\" id=\"E1\" style=\"stroke:#383838;stroke-width:1.5;\" width=\"187\" x=\"7\" y=\"7\"/><text fill=\"#000000\" font-family=\"sans-serif\" font-size=\"12\" font-style=\"italic\" lengthAdjust=\"spacing\" textLength=\"81\" x=\"60\" y=\"23.1387\">«action  def»</text><text fill=\"#000000\" font-family=\"sans-serif\" font-size=\"14\" lengthAdjust=\"spacing\" textLength=\"118\" x=\"41.5\" y=\"38.9639\">ControlNodeTest</text><line style=\"stroke:#383838;stroke-width:1.0;\" x1=\"7\" x2=\"194\" y1=\"47.2656\" y2=\"47.2656\"/></a></g><rect fill=\"#555555\" height=\"8\" style=\"stroke:none;stroke-width:1.0;\" width=\"80\" x=\"60\" y=\"113\"/><rect fill=\"#555555\" height=\"8\" style=\"stroke:none;stroke-width:1.0;\" width=\"80\" x=\"60\" y=\"131\"/><g><a href=\"psysml:fe1ec0cc-95d8-48f7-a7e5-aef83e3da3f9\" target=\"_top\" title=\"psysml:fe1ec0cc-95d8-48f7-a7e5-aef83e3da3f9\" xlink:actuate=\"onRequest\" xlink:href=\"psysml:fe1ec0cc-95d8-48f7-a7e5-aef83e3da3f9\" xlink:show=\"new\" xlink:title=\"psysml:fe1ec0cc-95d8-48f7-a7e5-aef83e3da3f9\" xlink:type=\"simple\"><rect fill=\"#FFFFFF\" height=\"45.2656\" id=\"E2\" rx=\"10\" ry=\"10\" style=\"stroke:#383838;stroke-width:1.5;\" width=\"60\" x=\"118\" y=\"58\"/><text fill=\"#000000\" font-family=\"sans-serif\" font-size=\"12\" font-style=\"italic\" lengthAdjust=\"spacing\" textLength=\"53\" x=\"121.5\" y=\"74.1387\">«action»</text><text fill=\"#000000\" font-family=\"sans-serif\" font-size=\"14\" lengthAdjust=\"spacing\" textLength=\"18\" x=\"139\" y=\"89.9639\">A1</text></a></g><g><a href=\"psysml:c0a5c6df-be9c-4195-8c1c-0f8f015b3130\" target=\"_top\" title=\"psysml:c0a5c6df-be9c-4195-8c1c-0f8f015b3130\" xlink:actuate=\"onRequest\" xlink:href=\"psysml:c0a5c6df-be9c-4195-8c1c-0f8f015b3130\" xlink:show=\"new\" xlink:title=\"psysml:c0a5c6df-be9c-4195-8c1c-0f8f015b3130\" xlink:type=\"simple\"><rect fill=\"#FFFFFF\" height=\"45.2656\" id=\"E3\" rx=\"10\" ry=\"10\" style=\"stroke:#383838;stroke-width:1.5;\" width=\"60\" x=\"23\" y=\"58\"/><text fill=\"#000000\" font-family=\"sans-serif\" font-size=\"12\" font-style=\"italic\" lengthAdjust=\"spacing\" textLength=\"53\" x=\"26.5\" y=\"74.1387\">«action»</text><text fill=\"#000000\" font-family=\"sans-serif\" font-size=\"14\" lengthAdjust=\"spacing\" textLength=\"18\" x=\"44\" y=\"89.9639\">A2</text></a></g><g><a href=\"psysml:2e4137e4-9d77-4a25-b719-c29e464dbfc7\" target=\"_top\" title=\"psysml:2e4137e4-9d77-4a25-b719-c29e464dbfc7\" xlink:actuate=\"onRequest\" xlink:href=\"psysml:2e4137e4-9d77-4a25-b719-c29e464dbfc7\" xlink:show=\"new\" xlink:title=\"psysml:2e4137e4-9d77-4a25-b719-c29e464dbfc7\" xlink:type=\"simple\"><rect fill=\"#FFFFFF\" height=\"45.2656\" id=\"E6\" rx=\"10\" ry=\"10\" style=\"stroke:#383838;stroke-width:1.5;\" width=\"60\" x=\"23\" y=\"149\"/><text fill=\"#000000\" font-family=\"sans-serif\" font-size=\"12\" font-style=\"italic\" lengthAdjust=\"spacing\" textLength=\"53\" x=\"26.5\" y=\"165.1387\">«action»</text><text fill=\"#000000\" font-family=\"sans-serif\" font-size=\"14\" lengthAdjust=\"spacing\" textLength=\"19\" x=\"43.5\" y=\"180.9639\">B1</text></a></g><g><a href=\"psysml:22fc935b-3ced-457d-8850-10eb2e62808c\" target=\"_top\" title=\"psysml:22fc935b-3ced-457d-8850-10eb2e62808c\" xlink:actuate=\"onRequest\" xlink:href=\"psysml:22fc935b-3ced-457d-8850-10eb2e62808c\" xlink:show=\"new\" xlink:title=\"psysml:22fc935b-3ced-457d-8850-10eb2e62808c\" xlink:type=\"simple\"><rect fill=\"#FFFFFF\" height=\"45.2656\" id=\"E7\" rx=\"10\" ry=\"10\" style=\"stroke:#383838;stroke-width:1.5;\" width=\"60\" x=\"118\" y=\"149\"/><text fill=\"#000000\" font-family=\"sans-serif\" font-size=\"12\" font-style=\"italic\" lengthAdjust=\"spacing\" textLength=\"53\" x=\"121.5\" y=\"165.1387\">«action»</text><text fill=\"#000000\" font-family=\"sans-serif\" font-size=\"14\" lengthAdjust=\"spacing\" textLength=\"19\" x=\"138.5\" y=\"180.9639\">B2</text></a></g><!--MD5=[4d03bb2d0377dc85ccfab60ff574652b]\n",
       "link E2 to E4--><g id=\"link_E2_E4\"><a href=\"psysml:f9bcfb7b-138a-4058-8879-7210022ba40a\" target=\"_top\" title=\"psysml:f9bcfb7b-138a-4058-8879-7210022ba40a\" xlink:actuate=\"onRequest\" xlink:href=\"psysml:f9bcfb7b-138a-4058-8879-7210022ba40a\" xlink:show=\"new\" xlink:title=\"psysml:f9bcfb7b-138a-4058-8879-7210022ba40a\" xlink:type=\"simple\"><path d=\"M117.87,103.15 C114.58,105.52 111.45,107.77 108.75,109.71 \" fill=\"none\" id=\"E2-to-E4\" style=\"stroke:#181818;stroke-width:1.0;\"/><polygon fill=\"#181818\" points=\"104.44,112.81,114.082,110.8019,108.499,109.8904,109.4105,104.3074,104.44,112.81\" style=\"stroke:#181818;stroke-width:1.0;\"/></a></g><!--MD5=[af87c684e3b0d8be13c1a698a818ef1e]\n",
       "link E3 to E4--><g id=\"link_E3_E4\"><a href=\"psysml:6481bc83-60df-4dde-906c-a5becb339116\" target=\"_top\" title=\"psysml:6481bc83-60df-4dde-906c-a5becb339116\" xlink:actuate=\"onRequest\" xlink:href=\"psysml:6481bc83-60df-4dde-906c-a5becb339116\" xlink:show=\"new\" xlink:title=\"psysml:6481bc83-60df-4dde-906c-a5becb339116\" xlink:type=\"simple\"><path d=\"M82.5,103.15 C85.73,105.52 88.79,107.77 91.43,109.71 \" fill=\"none\" id=\"E3-to-E4\" style=\"stroke:#181818;stroke-width:1.0;\"/><polygon fill=\"#181818\" points=\"95.66,112.81,90.7718,104.2599,91.6293,109.8513,86.0379,110.7089,95.66,112.81\" style=\"stroke:#181818;stroke-width:1.0;\"/></a></g><!--MD5=[1b7591eae5389033d8d09a9d6721a717]\n",
       "link E4 to E5--><g id=\"link_E4_E5\"><a href=\"psysml:091dd6b1-b372-46ae-b0ca-4e4aa94aac13\" target=\"_top\" title=\"psysml:091dd6b1-b372-46ae-b0ca-4e4aa94aac13\" xlink:actuate=\"onRequest\" xlink:href=\"psysml:091dd6b1-b372-46ae-b0ca-4e4aa94aac13\" xlink:show=\"new\" xlink:title=\"psysml:091dd6b1-b372-46ae-b0ca-4e4aa94aac13\" xlink:type=\"simple\"><path d=\"M100,121.08 C100,122.38 100,123.95 100,125.55 \" fill=\"none\" id=\"E4-to-E5\" style=\"stroke:#181818;stroke-width:1.0;\"/><polygon fill=\"#181818\" points=\"100,130.7,104,121.7,100,125.7,96,121.7,100,130.7\" style=\"stroke:#181818;stroke-width:1.0;\"/></a></g><!--MD5=[9120cf2e5df3bff93db8f754bbbc09b4]\n",
       "link E5 to E6--><g id=\"link_E5_E6\"><a href=\"psysml:418b7d58-d850-4614-9e9d-1c793842a2dd\" target=\"_top\" title=\"psysml:418b7d58-d850-4614-9e9d-1c793842a2dd\" xlink:actuate=\"onRequest\" xlink:href=\"psysml:418b7d58-d850-4614-9e9d-1c793842a2dd\" xlink:show=\"new\" xlink:title=\"psysml:418b7d58-d850-4614-9e9d-1c793842a2dd\" xlink:type=\"simple\"><path d=\"M95.66,139.18 C93.31,140.91 90.17,143.22 86.65,145.8 \" fill=\"none\" id=\"E5-to-E6\" style=\"stroke:#181818;stroke-width:1.0;\"/><polygon fill=\"#181818\" points=\"82.37,148.94,91.9921,146.8389,86.4007,145.9813,87.2582,140.3899,82.37,148.94\" style=\"stroke:#181818;stroke-width:1.0;\"/></a></g><!--MD5=[3a9b96bfbf6b6ad89c494e81751bda47]\n",
       "link E5 to E7--><g id=\"link_E5_E7\"><a href=\"psysml:a0ea5228-fdc9-49fd-bb96-6ce22cf44d00\" target=\"_top\" title=\"psysml:a0ea5228-fdc9-49fd-bb96-6ce22cf44d00\" xlink:actuate=\"onRequest\" xlink:href=\"psysml:a0ea5228-fdc9-49fd-bb96-6ce22cf44d00\" xlink:show=\"new\" xlink:title=\"psysml:a0ea5228-fdc9-49fd-bb96-6ce22cf44d00\" xlink:type=\"simple\"><path d=\"M104.43,139.18 C106.83,140.91 110.04,143.22 113.64,145.8 \" fill=\"none\" id=\"E5-to-E7\" style=\"stroke:#181818;stroke-width:1.0;\"/><polygon fill=\"#181818\" points=\"118.01,148.94,113.0339,140.4407,113.9491,146.023,108.3667,146.9381,118.01,148.94\" style=\"stroke:#181818;stroke-width:1.0;\"/></a></g><!--MD5=[e93682ffaff552172c46ad918d3e4841]\n",
       "@startuml\r\n",
       "skin sysmlbw\r\n",
       "skinparam monochrome true\r\n",
       "skinparam wrapWidth 300\r\n",
       "hide circle\r\n",
       "top to bottom direction\r\n",
       "skinparam ranksep 10\r\n",
       "skinparam rectangle {\r\n",
       " backgroundColor<<block>> LightGreen\r\n",
       "}\r\n",
       "\r\n",
       "rec def \"ControlNodeTest\" as E1  <<(T,blue) action  def>> [[psysml:fb29792e-912d-4ab4-a64b-8ae4f88f6031 ]] {\r\n",
       "rec usage \"A1\" as E2  <<(T,blue) action>> [[psysml:fe1ec0cc-95d8-48f7-a7e5-aef83e3da3f9 ]] {\r\n",
       "}\r\n",
       "\r\n",
       "rec usage \"A2\" as E3  <<(T,blue) action>> [[psysml:c0a5c6df-be9c-4195-8c1c-0f8f015b3130 ]] {\r\n",
       "}\r\n",
       "\r\n",
       "join \"J\" as E4  [[psysml:3bd09aec-2544-46ae-936d-01aed8eb96e7 ]] \r\n",
       "fork \"F\" as E5  [[psysml:17702565-4e67-4d00-9c2e-cf91774b37d5 ]] \r\n",
       "rec usage \"B1\" as E6  <<(T,blue) action>> [[psysml:2e4137e4-9d77-4a25-b719-c29e464dbfc7 ]] {\r\n",
       "}\r\n",
       "\r\n",
       "rec usage \"B2\" as E7  <<(T,blue) action>> [[psysml:22fc935b-3ced-457d-8850-10eb2e62808c ]] {\r\n",
       "}\r\n",
       "\r\n",
       "}\r\n",
       "\r\n",
       "E2 - -> E4 [[psysml:f9bcfb7b-138a-4058-8879-7210022ba40a ]] \r\n",
       "E3 - -> E4 [[psysml:6481bc83-60df-4dde-906c-a5becb339116 ]] \r\n",
       "E4 - -> E5 [[psysml:091dd6b1-b372-46ae-b0ca-4e4aa94aac13 ]] \r\n",
       "E5 - -> E6 [[psysml:418b7d58-d850-4614-9e9d-1c793842a2dd ]] \r\n",
       "E5 - -> E7 [[psysml:a0ea5228-fdc9-49fd-bb96-6ce22cf44d00 ]] \r\n",
       "@enduml\r\n",
       "\n",
       "PlantUML version 1.2022.7(Mon Aug 22 17:01:30 UTC 2022)\n",
       "(EPL source distribution)\n",
       "Java Runtime: OpenJDK Runtime Environment\n",
       "JVM: OpenJDK 64-Bit Server VM\n",
       "Default Encoding: UTF-8\n",
       "Language: en\n",
       "Country: null\n",
       "--></g></svg>"
      ]
     },
     "execution_count": 47,
     "metadata": {},
     "output_type": "execute_result"
    }
   ],
   "source": [
    "%viz --style=\"TB\" --view=\"Interconnection\" \"ControlNodeTest\""
   ]
  },
  {
   "cell_type": "code",
   "execution_count": 48,
   "id": "a9c68f8a",
   "metadata": {
    "execution": {
     "iopub.execute_input": "2024-12-16T14:20:26.826363Z",
     "iopub.status.busy": "2024-12-16T14:20:26.826130Z",
     "iopub.status.idle": "2024-12-16T14:20:26.841753Z",
     "shell.execute_reply": "2024-12-16T14:20:26.841002Z"
    }
   },
   "outputs": [
    {
     "data": {
      "image/svg+xml": [
       "<?xml version=\"1.0\" encoding=\"UTF-8\" standalone=\"no\"?><svg xmlns=\"http://www.w3.org/2000/svg\" xmlns:xlink=\"http://www.w3.org/1999/xlink\" contentStyleType=\"text/css\" height=\"210px\" preserveAspectRatio=\"none\" style=\"width:201px;height:210px;background:#FFFFFF;\" version=\"1.1\" viewBox=\"0 0 201 210\" width=\"201px\" zoomAndPan=\"magnify\"><defs/><g><!--MD5=[fbc87193dbaf4d95561dea2c320d4a47]\n",
       "cluster E1--><g id=\"cluster_E1\"><a href=\"psysml:fb29792e-912d-4ab4-a64b-8ae4f88f6031\" target=\"_top\" title=\"psysml:fb29792e-912d-4ab4-a64b-8ae4f88f6031\" xlink:actuate=\"onRequest\" xlink:href=\"psysml:fb29792e-912d-4ab4-a64b-8ae4f88f6031\" xlink:show=\"new\" xlink:title=\"psysml:fb29792e-912d-4ab4-a64b-8ae4f88f6031\" xlink:type=\"simple\"><rect fill=\"#FFFFFF\" height=\"197\" id=\"E1\" style=\"stroke:#383838;stroke-width:1.5;\" width=\"187\" x=\"7\" y=\"7\"/><text fill=\"#000000\" font-family=\"sans-serif\" font-size=\"12\" font-style=\"italic\" lengthAdjust=\"spacing\" textLength=\"81\" x=\"60\" y=\"23.1387\">«action  def»</text><text fill=\"#000000\" font-family=\"sans-serif\" font-size=\"14\" lengthAdjust=\"spacing\" textLength=\"118\" x=\"41.5\" y=\"38.9639\">ControlNodeTest</text><line style=\"stroke:#383838;stroke-width:1.0;\" x1=\"7\" x2=\"194\" y1=\"47.2656\" y2=\"47.2656\"/></a></g><rect fill=\"#555555\" height=\"8\" style=\"stroke:none;stroke-width:1.0;\" width=\"80\" x=\"60\" y=\"111\"/><rect fill=\"#555555\" height=\"8\" style=\"stroke:none;stroke-width:1.0;\" width=\"80\" x=\"60\" y=\"127\"/><g><a href=\"psysml:fe1ec0cc-95d8-48f7-a7e5-aef83e3da3f9\" target=\"_top\" title=\"psysml:fe1ec0cc-95d8-48f7-a7e5-aef83e3da3f9\" xlink:actuate=\"onRequest\" xlink:href=\"psysml:fe1ec0cc-95d8-48f7-a7e5-aef83e3da3f9\" xlink:show=\"new\" xlink:title=\"psysml:fe1ec0cc-95d8-48f7-a7e5-aef83e3da3f9\" xlink:type=\"simple\"><rect fill=\"#FFFFFF\" height=\"45.2656\" id=\"E2\" rx=\"10\" ry=\"10\" style=\"stroke:#383838;stroke-width:1.5;\" width=\"60\" x=\"118\" y=\"58\"/><text fill=\"#000000\" font-family=\"sans-serif\" font-size=\"12\" font-style=\"italic\" lengthAdjust=\"spacing\" textLength=\"53\" x=\"121.5\" y=\"74.1387\">«action»</text><text fill=\"#000000\" font-family=\"sans-serif\" font-size=\"14\" lengthAdjust=\"spacing\" textLength=\"18\" x=\"139\" y=\"89.9639\">A1</text></a></g><g><a href=\"psysml:c0a5c6df-be9c-4195-8c1c-0f8f015b3130\" target=\"_top\" title=\"psysml:c0a5c6df-be9c-4195-8c1c-0f8f015b3130\" xlink:actuate=\"onRequest\" xlink:href=\"psysml:c0a5c6df-be9c-4195-8c1c-0f8f015b3130\" xlink:show=\"new\" xlink:title=\"psysml:c0a5c6df-be9c-4195-8c1c-0f8f015b3130\" xlink:type=\"simple\"><rect fill=\"#FFFFFF\" height=\"45.2656\" id=\"E3\" rx=\"10\" ry=\"10\" style=\"stroke:#383838;stroke-width:1.5;\" width=\"60\" x=\"23\" y=\"58\"/><text fill=\"#000000\" font-family=\"sans-serif\" font-size=\"12\" font-style=\"italic\" lengthAdjust=\"spacing\" textLength=\"53\" x=\"26.5\" y=\"74.1387\">«action»</text><text fill=\"#000000\" font-family=\"sans-serif\" font-size=\"14\" lengthAdjust=\"spacing\" textLength=\"18\" x=\"44\" y=\"89.9639\">A2</text></a></g><g><a href=\"psysml:2e4137e4-9d77-4a25-b719-c29e464dbfc7\" target=\"_top\" title=\"psysml:2e4137e4-9d77-4a25-b719-c29e464dbfc7\" xlink:actuate=\"onRequest\" xlink:href=\"psysml:2e4137e4-9d77-4a25-b719-c29e464dbfc7\" xlink:show=\"new\" xlink:title=\"psysml:2e4137e4-9d77-4a25-b719-c29e464dbfc7\" xlink:type=\"simple\"><rect fill=\"#FFFFFF\" height=\"45.2656\" id=\"E6\" rx=\"10\" ry=\"10\" style=\"stroke:#383838;stroke-width:1.5;\" width=\"60\" x=\"23\" y=\"143\"/><text fill=\"#000000\" font-family=\"sans-serif\" font-size=\"12\" font-style=\"italic\" lengthAdjust=\"spacing\" textLength=\"53\" x=\"26.5\" y=\"159.1387\">«action»</text><text fill=\"#000000\" font-family=\"sans-serif\" font-size=\"14\" lengthAdjust=\"spacing\" textLength=\"19\" x=\"43.5\" y=\"174.9639\">B1</text></a></g><g><a href=\"psysml:22fc935b-3ced-457d-8850-10eb2e62808c\" target=\"_top\" title=\"psysml:22fc935b-3ced-457d-8850-10eb2e62808c\" xlink:actuate=\"onRequest\" xlink:href=\"psysml:22fc935b-3ced-457d-8850-10eb2e62808c\" xlink:show=\"new\" xlink:title=\"psysml:22fc935b-3ced-457d-8850-10eb2e62808c\" xlink:type=\"simple\"><rect fill=\"#FFFFFF\" height=\"45.2656\" id=\"E7\" rx=\"10\" ry=\"10\" style=\"stroke:#383838;stroke-width:1.5;\" width=\"60\" x=\"118\" y=\"143\"/><text fill=\"#000000\" font-family=\"sans-serif\" font-size=\"12\" font-style=\"italic\" lengthAdjust=\"spacing\" textLength=\"53\" x=\"121.5\" y=\"159.1387\">«action»</text><text fill=\"#000000\" font-family=\"sans-serif\" font-size=\"14\" lengthAdjust=\"spacing\" textLength=\"19\" x=\"138.5\" y=\"174.9639\">B2</text></a></g><!--MD5=[4d03bb2d0377dc85ccfab60ff574652b]\n",
       "link E2 to E4--><g id=\"link_E2_E4\"><a href=\"psysml:f9bcfb7b-138a-4058-8879-7210022ba40a\" target=\"_top\" title=\"psysml:f9bcfb7b-138a-4058-8879-7210022ba40a\" xlink:actuate=\"onRequest\" xlink:href=\"psysml:f9bcfb7b-138a-4058-8879-7210022ba40a\" xlink:show=\"new\" xlink:title=\"psysml:f9bcfb7b-138a-4058-8879-7210022ba40a\" xlink:type=\"simple\"><path d=\"M117.87,101.9 C114.58,104.13 111.45,106.25 108.75,108.07 \" fill=\"none\" id=\"E2-to-E4\" style=\"stroke:#181818;stroke-width:1.0;stroke-dasharray:7.0,7.0;\"/><polygon fill=\"#181818\" points=\"104.44,111,114.1324,109.2515,108.576,108.1904,109.637,102.634,104.44,111\" style=\"stroke:#181818;stroke-width:1.0;\"/></a></g><!--MD5=[af87c684e3b0d8be13c1a698a818ef1e]\n",
       "link E3 to E4--><g id=\"link_E3_E4\"><a href=\"psysml:6481bc83-60df-4dde-906c-a5becb339116\" target=\"_top\" title=\"psysml:6481bc83-60df-4dde-906c-a5becb339116\" xlink:actuate=\"onRequest\" xlink:href=\"psysml:6481bc83-60df-4dde-906c-a5becb339116\" xlink:show=\"new\" xlink:title=\"psysml:6481bc83-60df-4dde-906c-a5becb339116\" xlink:type=\"simple\"><path d=\"M83.03,102.27 C85.94,104.28 88.7,106.18 91.12,107.86 \" fill=\"none\" id=\"E3-to-E4\" style=\"stroke:#181818;stroke-width:1.0;stroke-dasharray:7.0,7.0;\"/><polygon fill=\"#181818\" points=\"95.54,110.91,90.4095,102.503,91.4265,108.0677,85.8618,109.0846,95.54,110.91\" style=\"stroke:#181818;stroke-width:1.0;\"/></a></g><!--MD5=[1b7591eae5389033d8d09a9d6721a717]\n",
       "link E4 to E5--><g id=\"link_E4_E5\"><a href=\"psysml:091dd6b1-b372-46ae-b0ca-4e4aa94aac13\" target=\"_top\" title=\"psysml:091dd6b1-b372-46ae-b0ca-4e4aa94aac13\" xlink:actuate=\"onRequest\" xlink:href=\"psysml:091dd6b1-b372-46ae-b0ca-4e4aa94aac13\" xlink:show=\"new\" xlink:title=\"psysml:091dd6b1-b372-46ae-b0ca-4e4aa94aac13\" xlink:type=\"simple\"><path d=\"M100,119.25 C100,120.05 100,120.94 100,121.86 \" fill=\"none\" id=\"E4-to-E5\" style=\"stroke:#181818;stroke-width:1.0;stroke-dasharray:7.0,7.0;\"/><polygon fill=\"#181818\" points=\"100,126.96,104,117.96,100,121.96,96,117.96,100,126.96\" style=\"stroke:#181818;stroke-width:1.0;\"/></a></g><!--MD5=[9120cf2e5df3bff93db8f754bbbc09b4]\n",
       "link E5 to E6--><g id=\"link_E5_E6\"><a href=\"psysml:418b7d58-d850-4614-9e9d-1c793842a2dd\" target=\"_top\" title=\"psysml:418b7d58-d850-4614-9e9d-1c793842a2dd\" xlink:actuate=\"onRequest\" xlink:href=\"psysml:418b7d58-d850-4614-9e9d-1c793842a2dd\" xlink:show=\"new\" xlink:title=\"psysml:418b7d58-d850-4614-9e9d-1c793842a2dd\" xlink:type=\"simple\"><path d=\"M95.32,135.24 C93.21,136.69 90.52,138.55 87.53,140.63 \" fill=\"none\" id=\"E5-to-E6\" style=\"stroke:#181818;stroke-width:1.0;stroke-dasharray:7.0,7.0;\"/><polygon fill=\"#181818\" points=\"83.27,143.57,92.9482,141.7446,87.3835,140.7277,88.4005,135.163,83.27,143.57\" style=\"stroke:#181818;stroke-width:1.0;\"/></a></g><!--MD5=[3a9b96bfbf6b6ad89c494e81751bda47]\n",
       "link E5 to E7--><g id=\"link_E5_E7\"><a href=\"psysml:a0ea5228-fdc9-49fd-bb96-6ce22cf44d00\" target=\"_top\" title=\"psysml:a0ea5228-fdc9-49fd-bb96-6ce22cf44d00\" xlink:actuate=\"onRequest\" xlink:href=\"psysml:a0ea5228-fdc9-49fd-bb96-6ce22cf44d00\" xlink:show=\"new\" xlink:title=\"psysml:a0ea5228-fdc9-49fd-bb96-6ce22cf44d00\" xlink:type=\"simple\"><path d=\"M104.78,135.24 C107.16,136.85 110.28,138.96 113.75,141.31 \" fill=\"none\" id=\"E5-to-E7\" style=\"stroke:#181818;stroke-width:1.0;stroke-dasharray:7.0,7.0;\"/><polygon fill=\"#181818\" points=\"117.96,144.16,112.7432,135.8063,113.8174,141.3602,108.2635,142.4344,117.96,144.16\" style=\"stroke:#181818;stroke-width:1.0;\"/></a></g><!--MD5=[f3ab4c017e9673578dca974eee71494f]\n",
       "@startuml\r\n",
       "skin sysmlbw\r\n",
       "skinparam monochrome true\r\n",
       "skinparam wrapWidth 300\r\n",
       "hide circle\r\n",
       "top to bottom direction\r\n",
       "skinparam ranksep 8\r\n",
       "\r\n",
       "rec def \"ControlNodeTest\" as E1  <<(T,blue) action  def>> [[psysml:fb29792e-912d-4ab4-a64b-8ae4f88f6031 ]] {\r\n",
       "rec usage \"A1\" as E2  <<(T,blue) action>> [[psysml:fe1ec0cc-95d8-48f7-a7e5-aef83e3da3f9 ]] {\r\n",
       "}\r\n",
       "\r\n",
       "rec usage \"A2\" as E3  <<(T,blue) action>> [[psysml:c0a5c6df-be9c-4195-8c1c-0f8f015b3130 ]] {\r\n",
       "}\r\n",
       "\r\n",
       "join \"J\" as E4  [[psysml:3bd09aec-2544-46ae-936d-01aed8eb96e7 ]] \r\n",
       "fork \"F\" as E5  [[psysml:17702565-4e67-4d00-9c2e-cf91774b37d5 ]] \r\n",
       "rec usage \"B1\" as E6  <<(T,blue) action>> [[psysml:2e4137e4-9d77-4a25-b719-c29e464dbfc7 ]] {\r\n",
       "}\r\n",
       "\r\n",
       "rec usage \"B2\" as E7  <<(T,blue) action>> [[psysml:22fc935b-3ced-457d-8850-10eb2e62808c ]] {\r\n",
       "}\r\n",
       "\r\n",
       "}\r\n",
       "\r\n",
       "E2 ..> E4 [[psysml:f9bcfb7b-138a-4058-8879-7210022ba40a ]] \r\n",
       "E3 ..> E4 [[psysml:6481bc83-60df-4dde-906c-a5becb339116 ]] \r\n",
       "E4 ..> E5 [[psysml:091dd6b1-b372-46ae-b0ca-4e4aa94aac13 ]] \r\n",
       "E5 ..> E6 [[psysml:418b7d58-d850-4614-9e9d-1c793842a2dd ]] \r\n",
       "E5 ..> E7 [[psysml:a0ea5228-fdc9-49fd-bb96-6ce22cf44d00 ]] \r\n",
       "@enduml\r\n",
       "\n",
       "PlantUML version 1.2022.7(Mon Aug 22 17:01:30 UTC 2022)\n",
       "(EPL source distribution)\n",
       "Java Runtime: OpenJDK Runtime Environment\n",
       "JVM: OpenJDK 64-Bit Server VM\n",
       "Default Encoding: UTF-8\n",
       "Language: en\n",
       "Country: null\n",
       "--></g></svg>"
      ]
     },
     "execution_count": 48,
     "metadata": {},
     "output_type": "execute_result"
    }
   ],
   "source": [
    "%viz --style=\"TB\" --view=\"Action\" \"ControlNodeTest\""
   ]
  },
  {
   "cell_type": "code",
   "execution_count": 49,
   "id": "72c1f29e",
   "metadata": {
    "execution": {
     "iopub.execute_input": "2024-12-16T14:20:26.894780Z",
     "iopub.status.busy": "2024-12-16T14:20:26.894498Z",
     "iopub.status.idle": "2024-12-16T14:20:26.900538Z",
     "shell.execute_reply": "2024-12-16T14:20:26.900344Z"
    }
   },
   "outputs": [
    {
     "data": {
      "image/svg+xml": [
       "<?xml version=\"1.0\" encoding=\"UTF-8\" standalone=\"no\"?><svg xmlns=\"http://www.w3.org/2000/svg\" xmlns:xlink=\"http://www.w3.org/1999/xlink\" contentStyleType=\"text/css\" height=\"10px\" preserveAspectRatio=\"none\" style=\"width:10px;height:10px;background:#FFFFFF;\" version=\"1.1\" viewBox=\"0 0 10 10\" width=\"10px\" zoomAndPan=\"magnify\"><defs/><g><!--MD5=[228a58293b408a2cee091b1559da5a28]\n",
       "@startuml\r\n",
       "skin sysmlbw\r\n",
       "skinparam monochrome true\r\n",
       "skinparam wrapWidth 300\r\n",
       "hide circle\r\n",
       "top to bottom direction\r\n",
       "skinparam roundcorner 20\r\n",
       "skinparam BoxPadding 20\r\n",
       "skinparam SequenceBoxBackgroundColor #white\r\n",
       "skinparam style strictuml\r\n",
       "skinparam maxMessageSize 100\r\n",
       "\r\n",
       "@enduml\r\n",
       "\n",
       "PlantUML version 1.2022.7(Mon Aug 22 17:01:30 UTC 2022)\n",
       "(EPL source distribution)\n",
       "Java Runtime: OpenJDK Runtime Environment\n",
       "JVM: OpenJDK 64-Bit Server VM\n",
       "Default Encoding: UTF-8\n",
       "Language: en\n",
       "Country: null\n",
       "--></g></svg>"
      ]
     },
     "execution_count": 49,
     "metadata": {},
     "output_type": "execute_result"
    }
   ],
   "source": [
    "%viz --style=\"TB\" --view=\"Sequence\" \"ControlNodeTest\""
   ]
  },
  {
   "cell_type": "code",
   "execution_count": 50,
   "id": "6a7fe5d9",
   "metadata": {
    "execution": {
     "iopub.execute_input": "2024-12-16T14:20:26.953204Z",
     "iopub.status.busy": "2024-12-16T14:20:26.952902Z",
     "iopub.status.idle": "2024-12-16T14:20:26.971764Z",
     "shell.execute_reply": "2024-12-16T14:20:26.970810Z"
    }
   },
   "outputs": [
    {
     "data": {
      "image/svg+xml": [
       "<?xml version=\"1.0\" encoding=\"UTF-8\" standalone=\"no\"?><svg xmlns=\"http://www.w3.org/2000/svg\" xmlns:xlink=\"http://www.w3.org/1999/xlink\" contentStyleType=\"text/css\" height=\"366px\" preserveAspectRatio=\"none\" style=\"width:201px;height:366px;background:#FFFFFF;\" version=\"1.1\" viewBox=\"0 0 201 366\" width=\"201px\" zoomAndPan=\"magnify\"><defs/><g><!--MD5=[fbc87193dbaf4d95561dea2c320d4a47]\n",
       "cluster E1--><g id=\"cluster_E1\"><a href=\"psysml:fb29792e-912d-4ab4-a64b-8ae4f88f6031\" target=\"_top\" title=\"psysml:fb29792e-912d-4ab4-a64b-8ae4f88f6031\" xlink:actuate=\"onRequest\" xlink:href=\"psysml:fb29792e-912d-4ab4-a64b-8ae4f88f6031\" xlink:show=\"new\" xlink:title=\"psysml:fb29792e-912d-4ab4-a64b-8ae4f88f6031\" xlink:type=\"simple\"><rect fill=\"#FFFFFF\" height=\"353\" id=\"E1\" style=\"stroke:#383838;stroke-width:1.5;\" width=\"187\" x=\"7\" y=\"7\"/><text fill=\"#000000\" font-family=\"sans-serif\" font-size=\"12\" font-style=\"italic\" lengthAdjust=\"spacing\" textLength=\"81\" x=\"60\" y=\"23.1387\">«action  def»</text><text fill=\"#000000\" font-family=\"sans-serif\" font-size=\"14\" lengthAdjust=\"spacing\" textLength=\"118\" x=\"41.5\" y=\"38.9639\">ControlNodeTest</text><line style=\"stroke:#383838;stroke-width:1.0;\" x1=\"7\" x2=\"194\" y1=\"47.2656\" y2=\"47.2656\"/></a></g><rect fill=\"#555555\" height=\"8\" style=\"stroke:none;stroke-width:1.0;\" width=\"80\" x=\"60\" y=\"163\"/><rect fill=\"#555555\" height=\"8\" style=\"stroke:none;stroke-width:1.0;\" width=\"80\" x=\"60\" y=\"231\"/><g><a href=\"psysml:fe1ec0cc-95d8-48f7-a7e5-aef83e3da3f9\" target=\"_top\" title=\"psysml:fe1ec0cc-95d8-48f7-a7e5-aef83e3da3f9\" xlink:actuate=\"onRequest\" xlink:href=\"psysml:fe1ec0cc-95d8-48f7-a7e5-aef83e3da3f9\" xlink:show=\"new\" xlink:title=\"psysml:fe1ec0cc-95d8-48f7-a7e5-aef83e3da3f9\" xlink:type=\"simple\"><rect fill=\"#FFFFFF\" height=\"45.2656\" id=\"E2\" rx=\"10\" ry=\"10\" style=\"stroke:#383838;stroke-width:1.5;\" width=\"60\" x=\"118\" y=\"58\"/><text fill=\"#000000\" font-family=\"sans-serif\" font-size=\"12\" font-style=\"italic\" lengthAdjust=\"spacing\" textLength=\"53\" x=\"121.5\" y=\"74.1387\">«action»</text><text fill=\"#000000\" font-family=\"sans-serif\" font-size=\"14\" lengthAdjust=\"spacing\" textLength=\"18\" x=\"139\" y=\"89.9639\">A1</text></a></g><g><a href=\"psysml:c0a5c6df-be9c-4195-8c1c-0f8f015b3130\" target=\"_top\" title=\"psysml:c0a5c6df-be9c-4195-8c1c-0f8f015b3130\" xlink:actuate=\"onRequest\" xlink:href=\"psysml:c0a5c6df-be9c-4195-8c1c-0f8f015b3130\" xlink:show=\"new\" xlink:title=\"psysml:c0a5c6df-be9c-4195-8c1c-0f8f015b3130\" xlink:type=\"simple\"><rect fill=\"#FFFFFF\" height=\"45.2656\" id=\"E3\" rx=\"10\" ry=\"10\" style=\"stroke:#383838;stroke-width:1.5;\" width=\"60\" x=\"23\" y=\"58\"/><text fill=\"#000000\" font-family=\"sans-serif\" font-size=\"12\" font-style=\"italic\" lengthAdjust=\"spacing\" textLength=\"53\" x=\"26.5\" y=\"74.1387\">«action»</text><text fill=\"#000000\" font-family=\"sans-serif\" font-size=\"14\" lengthAdjust=\"spacing\" textLength=\"18\" x=\"44\" y=\"89.9639\">A2</text></a></g><g><a href=\"psysml:2e4137e4-9d77-4a25-b719-c29e464dbfc7\" target=\"_top\" title=\"psysml:2e4137e4-9d77-4a25-b719-c29e464dbfc7\" xlink:actuate=\"onRequest\" xlink:href=\"psysml:2e4137e4-9d77-4a25-b719-c29e464dbfc7\" xlink:show=\"new\" xlink:title=\"psysml:2e4137e4-9d77-4a25-b719-c29e464dbfc7\" xlink:type=\"simple\"><rect fill=\"#FFFFFF\" height=\"45.2656\" id=\"E6\" rx=\"10\" ry=\"10\" style=\"stroke:#383838;stroke-width:1.5;\" width=\"60\" x=\"23\" y=\"299\"/><text fill=\"#000000\" font-family=\"sans-serif\" font-size=\"12\" font-style=\"italic\" lengthAdjust=\"spacing\" textLength=\"53\" x=\"26.5\" y=\"315.1387\">«action»</text><text fill=\"#000000\" font-family=\"sans-serif\" font-size=\"14\" lengthAdjust=\"spacing\" textLength=\"19\" x=\"43.5\" y=\"330.9639\">B1</text></a></g><g><a href=\"psysml:22fc935b-3ced-457d-8850-10eb2e62808c\" target=\"_top\" title=\"psysml:22fc935b-3ced-457d-8850-10eb2e62808c\" xlink:actuate=\"onRequest\" xlink:href=\"psysml:22fc935b-3ced-457d-8850-10eb2e62808c\" xlink:show=\"new\" xlink:title=\"psysml:22fc935b-3ced-457d-8850-10eb2e62808c\" xlink:type=\"simple\"><rect fill=\"#FFFFFF\" height=\"45.2656\" id=\"E7\" rx=\"10\" ry=\"10\" style=\"stroke:#383838;stroke-width:1.5;\" width=\"60\" x=\"118\" y=\"299\"/><text fill=\"#000000\" font-family=\"sans-serif\" font-size=\"12\" font-style=\"italic\" lengthAdjust=\"spacing\" textLength=\"53\" x=\"121.5\" y=\"315.1387\">«action»</text><text fill=\"#000000\" font-family=\"sans-serif\" font-size=\"14\" lengthAdjust=\"spacing\" textLength=\"19\" x=\"138.5\" y=\"330.9639\">B2</text></a></g><!--MD5=[4d03bb2d0377dc85ccfab60ff574652b]\n",
       "link E2 to E4--><g id=\"link_E2_E4\"><a href=\"psysml:f9bcfb7b-138a-4058-8879-7210022ba40a\" target=\"_top\" title=\"psysml:f9bcfb7b-138a-4058-8879-7210022ba40a\" xlink:actuate=\"onRequest\" xlink:href=\"psysml:f9bcfb7b-138a-4058-8879-7210022ba40a\" xlink:show=\"new\" xlink:title=\"psysml:f9bcfb7b-138a-4058-8879-7210022ba40a\" xlink:type=\"simple\"><path d=\"M135.64,103.26 C125.33,121.4 111.25,146.19 104.28,158.47 \" fill=\"none\" id=\"E2-to-E4\" style=\"stroke:#181818;stroke-width:1.0;\"/><polygon fill=\"#181818\" points=\"101.75,162.91,109.6779,157.0663,104.223,158.5644,102.7249,153.1095,101.75,162.91\" style=\"stroke:#181818;stroke-width:1.0;\"/></a></g><!--MD5=[af87c684e3b0d8be13c1a698a818ef1e]\n",
       "link E3 to E4--><g id=\"link_E3_E4\"><a href=\"psysml:6481bc83-60df-4dde-906c-a5becb339116\" target=\"_top\" title=\"psysml:6481bc83-60df-4dde-906c-a5becb339116\" xlink:actuate=\"onRequest\" xlink:href=\"psysml:6481bc83-60df-4dde-906c-a5becb339116\" xlink:show=\"new\" xlink:title=\"psysml:6481bc83-60df-4dde-906c-a5becb339116\" xlink:type=\"simple\"><path d=\"M65.1,103.26 C75.19,121.4 88.98,146.19 95.81,158.47 \" fill=\"none\" id=\"E3-to-E4\" style=\"stroke:#181818;stroke-width:1.0;\"/><polygon fill=\"#181818\" points=\"98.28,162.91,97.3814,153.1022,95.8409,158.5453,90.3978,157.0048,98.28,162.91\" style=\"stroke:#181818;stroke-width:1.0;\"/></a></g><!--MD5=[1b7591eae5389033d8d09a9d6721a717]\n",
       "link E4 to E5--><g id=\"link_E4_E5\"><a href=\"psysml:091dd6b1-b372-46ae-b0ca-4e4aa94aac13\" target=\"_top\" title=\"psysml:091dd6b1-b372-46ae-b0ca-4e4aa94aac13\" xlink:actuate=\"onRequest\" xlink:href=\"psysml:091dd6b1-b372-46ae-b0ca-4e4aa94aac13\" xlink:show=\"new\" xlink:title=\"psysml:091dd6b1-b372-46ae-b0ca-4e4aa94aac13\" xlink:type=\"simple\"><path d=\"M100,171.18 C100,180.92 100,210.52 100,225.34 \" fill=\"none\" id=\"E4-to-E5\" style=\"stroke:#181818;stroke-width:1.0;\"/><polygon fill=\"#181818\" points=\"100,230.69,104,221.69,100,225.69,96,221.69,100,230.69\" style=\"stroke:#181818;stroke-width:1.0;\"/></a></g><!--MD5=[9120cf2e5df3bff93db8f754bbbc09b4]\n",
       "link E5 to E6--><g id=\"link_E5_E6\"><a href=\"psysml:418b7d58-d850-4614-9e9d-1c793842a2dd\" target=\"_top\" title=\"psysml:418b7d58-d850-4614-9e9d-1c793842a2dd\" xlink:actuate=\"onRequest\" xlink:href=\"psysml:418b7d58-d850-4614-9e9d-1c793842a2dd\" xlink:show=\"new\" xlink:title=\"psysml:418b7d58-d850-4614-9e9d-1c793842a2dd\" xlink:type=\"simple\"><path d=\"M98.21,239.21 C93.23,248.18 78.77,274.17 67.53,294.37 \" fill=\"none\" id=\"E5-to-E6\" style=\"stroke:#181818;stroke-width:1.0;\"/><polygon fill=\"#181818\" points=\"65.04,298.85,72.9074,292.9252,67.4682,294.4792,65.9142,289.04,65.04,298.85\" style=\"stroke:#181818;stroke-width:1.0;\"/></a></g><!--MD5=[3a9b96bfbf6b6ad89c494e81751bda47]\n",
       "link E5 to E7--><g id=\"link_E5_E7\"><a href=\"psysml:a0ea5228-fdc9-49fd-bb96-6ce22cf44d00\" target=\"_top\" title=\"psysml:a0ea5228-fdc9-49fd-bb96-6ce22cf44d00\" xlink:actuate=\"onRequest\" xlink:href=\"psysml:a0ea5228-fdc9-49fd-bb96-6ce22cf44d00\" xlink:show=\"new\" xlink:title=\"psysml:a0ea5228-fdc9-49fd-bb96-6ce22cf44d00\" xlink:type=\"simple\"><path d=\"M101.82,239.21 C106.92,248.18 121.68,274.17 133.16,294.37 \" fill=\"none\" id=\"E5-to-E7\" style=\"stroke:#181818;stroke-width:1.0;\"/><polygon fill=\"#181818\" points=\"135.7,298.85,134.7251,289.0495,133.227,294.5044,127.7721,293.0063,135.7,298.85\" style=\"stroke:#181818;stroke-width:1.0;\"/></a></g><!--MD5=[c1eacb38c7f48f630e539ea19b69b994]\n",
       "@startuml\r\n",
       "skin sysmlbw\r\n",
       "skinparam monochrome true\r\n",
       "skinparam wrapWidth 300\r\n",
       "hide circle\r\n",
       "top to bottom direction\r\n",
       "\r\n",
       "rec def \"ControlNodeTest\" as E1  <<(T,blue) action  def>> [[psysml:fb29792e-912d-4ab4-a64b-8ae4f88f6031 ]] {\r\n",
       "rec usage \"A1\" as E2  <<(T,blue) action>> [[psysml:fe1ec0cc-95d8-48f7-a7e5-aef83e3da3f9 ]] {\r\n",
       "}\r\n",
       "\r\n",
       "rec usage \"A2\" as E3  <<(T,blue) action>> [[psysml:c0a5c6df-be9c-4195-8c1c-0f8f015b3130 ]] {\r\n",
       "}\r\n",
       "\r\n",
       "join \"J\" as E4  [[psysml:3bd09aec-2544-46ae-936d-01aed8eb96e7 ]] \r\n",
       "fork \"F\" as E5  [[psysml:17702565-4e67-4d00-9c2e-cf91774b37d5 ]] \r\n",
       "rec usage \"B1\" as E6  <<(T,blue) action>> [[psysml:2e4137e4-9d77-4a25-b719-c29e464dbfc7 ]] {\r\n",
       "}\r\n",
       "\r\n",
       "rec usage \"B2\" as E7  <<(T,blue) action>> [[psysml:22fc935b-3ced-457d-8850-10eb2e62808c ]] {\r\n",
       "}\r\n",
       "\r\n",
       "}\r\n",
       "\r\n",
       "E2 - -> E4 [[psysml:f9bcfb7b-138a-4058-8879-7210022ba40a ]] \r\n",
       "E3 - -> E4 [[psysml:6481bc83-60df-4dde-906c-a5becb339116 ]] \r\n",
       "E4 - -> E5 [[psysml:091dd6b1-b372-46ae-b0ca-4e4aa94aac13 ]] \r\n",
       "E5 - -> E6 [[psysml:418b7d58-d850-4614-9e9d-1c793842a2dd ]] \r\n",
       "E5 - -> E7 [[psysml:a0ea5228-fdc9-49fd-bb96-6ce22cf44d00 ]] \r\n",
       "@enduml\r\n",
       "\n",
       "PlantUML version 1.2022.7(Mon Aug 22 17:01:30 UTC 2022)\n",
       "(EPL source distribution)\n",
       "Java Runtime: OpenJDK Runtime Environment\n",
       "JVM: OpenJDK 64-Bit Server VM\n",
       "Default Encoding: UTF-8\n",
       "Language: en\n",
       "Country: null\n",
       "--></g></svg>"
      ]
     },
     "execution_count": 50,
     "metadata": {},
     "output_type": "execute_result"
    }
   ],
   "source": [
    "%viz --style=\"TB\" --view=\"MIXED\" \"ControlNodeTest\""
   ]
  },
  {
   "cell_type": "code",
   "execution_count": 51,
   "id": "b0c64075",
   "metadata": {
    "execution": {
     "iopub.execute_input": "2024-12-16T14:20:27.027471Z",
     "iopub.status.busy": "2024-12-16T14:20:27.027227Z",
     "iopub.status.idle": "2024-12-16T14:20:27.046396Z",
     "shell.execute_reply": "2024-12-16T14:20:27.045535Z"
    }
   },
   "outputs": [
    {
     "data": {
      "image/svg+xml": [
       "<?xml version=\"1.0\" encoding=\"UTF-8\" standalone=\"no\"?><svg xmlns=\"http://www.w3.org/2000/svg\" xmlns:xlink=\"http://www.w3.org/1999/xlink\" contentStyleType=\"text/css\" height=\"366px\" preserveAspectRatio=\"none\" style=\"width:201px;height:366px;background:#FFFFFF;\" version=\"1.1\" viewBox=\"0 0 201 366\" width=\"201px\" zoomAndPan=\"magnify\"><defs/><g><!--MD5=[fbc87193dbaf4d95561dea2c320d4a47]\n",
       "cluster E1--><g id=\"cluster_E1\"><a href=\"psysml:fb29792e-912d-4ab4-a64b-8ae4f88f6031\" target=\"_top\" title=\"psysml:fb29792e-912d-4ab4-a64b-8ae4f88f6031\" xlink:actuate=\"onRequest\" xlink:href=\"psysml:fb29792e-912d-4ab4-a64b-8ae4f88f6031\" xlink:show=\"new\" xlink:title=\"psysml:fb29792e-912d-4ab4-a64b-8ae4f88f6031\" xlink:type=\"simple\"><rect fill=\"#FFFFFF\" height=\"353\" id=\"E1\" style=\"stroke:#383838;stroke-width:1.5;\" width=\"187\" x=\"7\" y=\"7\"/><text fill=\"#000000\" font-family=\"sans-serif\" font-size=\"12\" font-style=\"italic\" lengthAdjust=\"spacing\" textLength=\"81\" x=\"60\" y=\"23.1387\">«action  def»</text><text fill=\"#000000\" font-family=\"sans-serif\" font-size=\"14\" lengthAdjust=\"spacing\" textLength=\"118\" x=\"41.5\" y=\"38.9639\">ControlNodeTest</text><line style=\"stroke:#383838;stroke-width:1.0;\" x1=\"7\" x2=\"194\" y1=\"47.2656\" y2=\"47.2656\"/></a></g><rect fill=\"#555555\" height=\"8\" style=\"stroke:none;stroke-width:1.0;\" width=\"80\" x=\"60\" y=\"163\"/><rect fill=\"#555555\" height=\"8\" style=\"stroke:none;stroke-width:1.0;\" width=\"80\" x=\"60\" y=\"231\"/><g><a href=\"psysml:fe1ec0cc-95d8-48f7-a7e5-aef83e3da3f9\" target=\"_top\" title=\"psysml:fe1ec0cc-95d8-48f7-a7e5-aef83e3da3f9\" xlink:actuate=\"onRequest\" xlink:href=\"psysml:fe1ec0cc-95d8-48f7-a7e5-aef83e3da3f9\" xlink:show=\"new\" xlink:title=\"psysml:fe1ec0cc-95d8-48f7-a7e5-aef83e3da3f9\" xlink:type=\"simple\"><rect fill=\"#FFFFFF\" height=\"45.2656\" id=\"E2\" rx=\"10\" ry=\"10\" style=\"stroke:#383838;stroke-width:1.5;\" width=\"60\" x=\"118\" y=\"58\"/><text fill=\"#000000\" font-family=\"sans-serif\" font-size=\"12\" font-style=\"italic\" lengthAdjust=\"spacing\" textLength=\"53\" x=\"121.5\" y=\"74.1387\">«action»</text><text fill=\"#000000\" font-family=\"sans-serif\" font-size=\"14\" lengthAdjust=\"spacing\" textLength=\"18\" x=\"139\" y=\"89.9639\">A1</text></a></g><g><a href=\"psysml:c0a5c6df-be9c-4195-8c1c-0f8f015b3130\" target=\"_top\" title=\"psysml:c0a5c6df-be9c-4195-8c1c-0f8f015b3130\" xlink:actuate=\"onRequest\" xlink:href=\"psysml:c0a5c6df-be9c-4195-8c1c-0f8f015b3130\" xlink:show=\"new\" xlink:title=\"psysml:c0a5c6df-be9c-4195-8c1c-0f8f015b3130\" xlink:type=\"simple\"><rect fill=\"#FFFFFF\" height=\"45.2656\" id=\"E3\" rx=\"10\" ry=\"10\" style=\"stroke:#383838;stroke-width:1.5;\" width=\"60\" x=\"23\" y=\"58\"/><text fill=\"#000000\" font-family=\"sans-serif\" font-size=\"12\" font-style=\"italic\" lengthAdjust=\"spacing\" textLength=\"53\" x=\"26.5\" y=\"74.1387\">«action»</text><text fill=\"#000000\" font-family=\"sans-serif\" font-size=\"14\" lengthAdjust=\"spacing\" textLength=\"18\" x=\"44\" y=\"89.9639\">A2</text></a></g><g><a href=\"psysml:2e4137e4-9d77-4a25-b719-c29e464dbfc7\" target=\"_top\" title=\"psysml:2e4137e4-9d77-4a25-b719-c29e464dbfc7\" xlink:actuate=\"onRequest\" xlink:href=\"psysml:2e4137e4-9d77-4a25-b719-c29e464dbfc7\" xlink:show=\"new\" xlink:title=\"psysml:2e4137e4-9d77-4a25-b719-c29e464dbfc7\" xlink:type=\"simple\"><rect fill=\"#FFFFFF\" height=\"45.2656\" id=\"E6\" rx=\"10\" ry=\"10\" style=\"stroke:#383838;stroke-width:1.5;\" width=\"60\" x=\"23\" y=\"299\"/><text fill=\"#000000\" font-family=\"sans-serif\" font-size=\"12\" font-style=\"italic\" lengthAdjust=\"spacing\" textLength=\"53\" x=\"26.5\" y=\"315.1387\">«action»</text><text fill=\"#000000\" font-family=\"sans-serif\" font-size=\"14\" lengthAdjust=\"spacing\" textLength=\"19\" x=\"43.5\" y=\"330.9639\">B1</text></a></g><g><a href=\"psysml:22fc935b-3ced-457d-8850-10eb2e62808c\" target=\"_top\" title=\"psysml:22fc935b-3ced-457d-8850-10eb2e62808c\" xlink:actuate=\"onRequest\" xlink:href=\"psysml:22fc935b-3ced-457d-8850-10eb2e62808c\" xlink:show=\"new\" xlink:title=\"psysml:22fc935b-3ced-457d-8850-10eb2e62808c\" xlink:type=\"simple\"><rect fill=\"#FFFFFF\" height=\"45.2656\" id=\"E7\" rx=\"10\" ry=\"10\" style=\"stroke:#383838;stroke-width:1.5;\" width=\"60\" x=\"118\" y=\"299\"/><text fill=\"#000000\" font-family=\"sans-serif\" font-size=\"12\" font-style=\"italic\" lengthAdjust=\"spacing\" textLength=\"53\" x=\"121.5\" y=\"315.1387\">«action»</text><text fill=\"#000000\" font-family=\"sans-serif\" font-size=\"14\" lengthAdjust=\"spacing\" textLength=\"19\" x=\"138.5\" y=\"330.9639\">B2</text></a></g><!--MD5=[4d03bb2d0377dc85ccfab60ff574652b]\n",
       "link E2 to E4--><g id=\"link_E2_E4\"><a href=\"psysml:f9bcfb7b-138a-4058-8879-7210022ba40a\" target=\"_top\" title=\"psysml:f9bcfb7b-138a-4058-8879-7210022ba40a\" xlink:actuate=\"onRequest\" xlink:href=\"psysml:f9bcfb7b-138a-4058-8879-7210022ba40a\" xlink:show=\"new\" xlink:title=\"psysml:f9bcfb7b-138a-4058-8879-7210022ba40a\" xlink:type=\"simple\"><path d=\"M129,103.23 C129,103.23 129,157.7 129,157.7 \" fill=\"none\" id=\"E2-to-E4\" style=\"stroke:#181818;stroke-width:1.0;\"/><polygon fill=\"#181818\" points=\"129,162.7,133,153.7,129,157.7,125,153.7,129,162.7\" style=\"stroke:#181818;stroke-width:1.0;\"/></a></g><!--MD5=[af87c684e3b0d8be13c1a698a818ef1e]\n",
       "link E3 to E4--><g id=\"link_E3_E4\"><a href=\"psysml:6481bc83-60df-4dde-906c-a5becb339116\" target=\"_top\" title=\"psysml:6481bc83-60df-4dde-906c-a5becb339116\" xlink:actuate=\"onRequest\" xlink:href=\"psysml:6481bc83-60df-4dde-906c-a5becb339116\" xlink:show=\"new\" xlink:title=\"psysml:6481bc83-60df-4dde-906c-a5becb339116\" xlink:type=\"simple\"><path d=\"M71.5,103.23 C71.5,103.23 71.5,157.7 71.5,157.7 \" fill=\"none\" id=\"E3-to-E4\" style=\"stroke:#181818;stroke-width:1.0;\"/><polygon fill=\"#181818\" points=\"71.5,162.7,75.5,153.7,71.5,157.7,67.5,153.7,71.5,162.7\" style=\"stroke:#181818;stroke-width:1.0;\"/></a></g><!--MD5=[1b7591eae5389033d8d09a9d6721a717]\n",
       "link E4 to E5--><g id=\"link_E4_E5\"><a href=\"psysml:091dd6b1-b372-46ae-b0ca-4e4aa94aac13\" target=\"_top\" title=\"psysml:091dd6b1-b372-46ae-b0ca-4e4aa94aac13\" xlink:actuate=\"onRequest\" xlink:href=\"psysml:091dd6b1-b372-46ae-b0ca-4e4aa94aac13\" xlink:show=\"new\" xlink:title=\"psysml:091dd6b1-b372-46ae-b0ca-4e4aa94aac13\" xlink:type=\"simple\"><path d=\"M100,171.05 C100,171.05 100,225.71 100,225.71 \" fill=\"none\" id=\"E4-to-E5\" style=\"stroke:#181818;stroke-width:1.0;\"/><polygon fill=\"#181818\" points=\"100,230.71,104,221.71,100,225.71,96,221.71,100,230.71\" style=\"stroke:#181818;stroke-width:1.0;\"/></a></g><!--MD5=[9120cf2e5df3bff93db8f754bbbc09b4]\n",
       "link E5 to E6--><g id=\"link_E5_E6\"><a href=\"psysml:418b7d58-d850-4614-9e9d-1c793842a2dd\" target=\"_top\" title=\"psysml:418b7d58-d850-4614-9e9d-1c793842a2dd\" xlink:actuate=\"onRequest\" xlink:href=\"psysml:418b7d58-d850-4614-9e9d-1c793842a2dd\" xlink:show=\"new\" xlink:title=\"psysml:418b7d58-d850-4614-9e9d-1c793842a2dd\" xlink:type=\"simple\"><path d=\"M71.5,239.17 C71.5,239.17 71.5,293.84 71.5,293.84 \" fill=\"none\" id=\"E5-to-E6\" style=\"stroke:#181818;stroke-width:1.0;\"/><polygon fill=\"#181818\" points=\"71.5,298.84,75.5,289.84,71.5,293.84,67.5,289.84,71.5,298.84\" style=\"stroke:#181818;stroke-width:1.0;\"/></a></g><!--MD5=[3a9b96bfbf6b6ad89c494e81751bda47]\n",
       "link E5 to E7--><g id=\"link_E5_E7\"><a href=\"psysml:a0ea5228-fdc9-49fd-bb96-6ce22cf44d00\" target=\"_top\" title=\"psysml:a0ea5228-fdc9-49fd-bb96-6ce22cf44d00\" xlink:actuate=\"onRequest\" xlink:href=\"psysml:a0ea5228-fdc9-49fd-bb96-6ce22cf44d00\" xlink:show=\"new\" xlink:title=\"psysml:a0ea5228-fdc9-49fd-bb96-6ce22cf44d00\" xlink:type=\"simple\"><path d=\"M129,239.17 C129,239.17 129,293.84 129,293.84 \" fill=\"none\" id=\"E5-to-E7\" style=\"stroke:#181818;stroke-width:1.0;\"/><polygon fill=\"#181818\" points=\"129,298.84,133,289.84,129,293.84,125,289.84,129,298.84\" style=\"stroke:#181818;stroke-width:1.0;\"/></a></g><!--MD5=[1101c2afcafd229b312e8312d81b031f]\n",
       "@startuml\r\n",
       "skin sysmlbw\r\n",
       "skinparam monochrome true\r\n",
       "skinparam wrapWidth 300\r\n",
       "hide circle\r\n",
       "skinparam linetype ortho\r\n",
       "\r\n",
       "rec def \"ControlNodeTest\" as E1  <<(T,blue) action  def>> [[psysml:fb29792e-912d-4ab4-a64b-8ae4f88f6031 ]] {\r\n",
       "rec usage \"A1\" as E2  <<(T,blue) action>> [[psysml:fe1ec0cc-95d8-48f7-a7e5-aef83e3da3f9 ]] {\r\n",
       "}\r\n",
       "\r\n",
       "rec usage \"A2\" as E3  <<(T,blue) action>> [[psysml:c0a5c6df-be9c-4195-8c1c-0f8f015b3130 ]] {\r\n",
       "}\r\n",
       "\r\n",
       "join \"J\" as E4  [[psysml:3bd09aec-2544-46ae-936d-01aed8eb96e7 ]] \r\n",
       "fork \"F\" as E5  [[psysml:17702565-4e67-4d00-9c2e-cf91774b37d5 ]] \r\n",
       "rec usage \"B1\" as E6  <<(T,blue) action>> [[psysml:2e4137e4-9d77-4a25-b719-c29e464dbfc7 ]] {\r\n",
       "}\r\n",
       "\r\n",
       "rec usage \"B2\" as E7  <<(T,blue) action>> [[psysml:22fc935b-3ced-457d-8850-10eb2e62808c ]] {\r\n",
       "}\r\n",
       "\r\n",
       "}\r\n",
       "\r\n",
       "E2 - -> E4 [[psysml:f9bcfb7b-138a-4058-8879-7210022ba40a ]] \r\n",
       "E3 - -> E4 [[psysml:6481bc83-60df-4dde-906c-a5becb339116 ]] \r\n",
       "E4 - -> E5 [[psysml:091dd6b1-b372-46ae-b0ca-4e4aa94aac13 ]] \r\n",
       "E5 - -> E6 [[psysml:418b7d58-d850-4614-9e9d-1c793842a2dd ]] \r\n",
       "E5 - -> E7 [[psysml:a0ea5228-fdc9-49fd-bb96-6ce22cf44d00 ]] \r\n",
       "@enduml\r\n",
       "\n",
       "PlantUML version 1.2022.7(Mon Aug 22 17:01:30 UTC 2022)\n",
       "(EPL source distribution)\n",
       "Java Runtime: OpenJDK Runtime Environment\n",
       "JVM: OpenJDK 64-Bit Server VM\n",
       "Default Encoding: UTF-8\n",
       "Language: en\n",
       "Country: null\n",
       "--></g></svg>"
      ]
     },
     "execution_count": 51,
     "metadata": {},
     "output_type": "execute_result"
    }
   ],
   "source": [
    "%viz --style=\"ORTHOLINE\" --view=\"Default\" \"ControlNodeTest\""
   ]
  },
  {
   "cell_type": "code",
   "execution_count": 52,
   "id": "0e1443b6",
   "metadata": {
    "execution": {
     "iopub.execute_input": "2024-12-16T14:20:27.099765Z",
     "iopub.status.busy": "2024-12-16T14:20:27.099485Z",
     "iopub.status.idle": "2024-12-16T14:20:27.123762Z",
     "shell.execute_reply": "2024-12-16T14:20:27.122809Z"
    }
   },
   "outputs": [
    {
     "data": {
      "image/svg+xml": [
       "<?xml version=\"1.0\" encoding=\"UTF-8\" standalone=\"no\"?><svg xmlns=\"http://www.w3.org/2000/svg\" xmlns:xlink=\"http://www.w3.org/1999/xlink\" contentStyleType=\"text/css\" height=\"586px\" preserveAspectRatio=\"none\" style=\"width:319px;height:586px;background:#FFFFFF;\" version=\"1.1\" viewBox=\"0 0 319 586\" width=\"319px\" zoomAndPan=\"magnify\"><defs/><g><!--MD5=[43c9051892ef23e1a46a86907403d788]\n",
       "class E1--><a href=\"psysml:fb29792e-912d-4ab4-a64b-8ae4f88f6031\" target=\"_top\" title=\"psysml:fb29792e-912d-4ab4-a64b-8ae4f88f6031\" xlink:actuate=\"onRequest\" xlink:href=\"psysml:fb29792e-912d-4ab4-a64b-8ae4f88f6031\" xlink:show=\"new\" xlink:title=\"psysml:fb29792e-912d-4ab4-a64b-8ae4f88f6031\" xlink:type=\"simple\"><g id=\"elem_E1\"><rect fill=\"#FFFFFF\" height=\"140.2688\" id=\"E1\" style=\"stroke:#181818;stroke-width:0.5;\" width=\"169\" x=\"80\" y=\"7\"/><text fill=\"#000000\" font-family=\"sans-serif\" font-size=\"12\" font-style=\"italic\" lengthAdjust=\"spacing\" textLength=\"81\" x=\"124\" y=\"23.1387\">«action  def»</text><text fill=\"#000000\" font-family=\"sans-serif\" font-size=\"14\" lengthAdjust=\"spacing\" textLength=\"118\" x=\"105.5\" y=\"38.9639\">ControlNodeTest</text><line style=\"stroke:#181818;stroke-width:0.5;\" x1=\"81\" x2=\"248\" y1=\"47.2656\" y2=\"47.2656\"/><text fill=\"#000000\" font-family=\"sans-serif\" font-size=\"14\" lengthAdjust=\"spacing\" textLength=\"151\" x=\"86\" y=\"74.7795\">noname first A1 then J</text><text fill=\"#000000\" font-family=\"sans-serif\" font-size=\"14\" lengthAdjust=\"spacing\" textLength=\"151\" x=\"86\" y=\"91.0764\">noname first A2 then J</text><text fill=\"#000000\" font-family=\"sans-serif\" font-size=\"14\" lengthAdjust=\"spacing\" textLength=\"141\" x=\"86\" y=\"107.3732\">noname first J then F</text><text fill=\"#000000\" font-family=\"sans-serif\" font-size=\"14\" lengthAdjust=\"spacing\" textLength=\"157\" x=\"86\" y=\"123.6701\">noname first F then B1</text><text fill=\"#000000\" font-family=\"sans-serif\" font-size=\"14\" lengthAdjust=\"spacing\" textLength=\"157\" x=\"86\" y=\"139.967\">noname first F then B2</text><text fill=\"#000000\" font-family=\"sans-serif\" font-size=\"14\" font-style=\"italic\" lengthAdjust=\"spacing\" textLength=\"87\" x=\"121\" y=\"59.6123\">successions</text></g></a><!--MD5=[b4997ac47864f28c2f74865a473b2911]\n",
       "class E2--><a href=\"psysml:fe1ec0cc-95d8-48f7-a7e5-aef83e3da3f9\" target=\"_top\" title=\"psysml:fe1ec0cc-95d8-48f7-a7e5-aef83e3da3f9\" xlink:actuate=\"onRequest\" xlink:href=\"psysml:fe1ec0cc-95d8-48f7-a7e5-aef83e3da3f9\" xlink:show=\"new\" xlink:title=\"psysml:fe1ec0cc-95d8-48f7-a7e5-aef83e3da3f9\" xlink:type=\"simple\"><g id=\"elem_E2\"><rect fill=\"#FFFFFF\" height=\"48.2656\" id=\"E2\" rx=\"10\" ry=\"10\" style=\"stroke:#181818;stroke-width:0.5;\" width=\"55\" x=\"7\" y=\"207\"/><text fill=\"#000000\" font-family=\"sans-serif\" font-size=\"12\" font-style=\"italic\" lengthAdjust=\"spacing\" textLength=\"53\" x=\"8\" y=\"223.1387\">«action»</text><text fill=\"#000000\" font-family=\"sans-serif\" font-size=\"14\" lengthAdjust=\"spacing\" textLength=\"18\" x=\"21.5\" y=\"238.9639\">A1</text><line style=\"stroke:#181818;stroke-width:0.5;\" x1=\"8\" x2=\"61\" y1=\"247.2656\" y2=\"247.2656\"/></g></a><!--MD5=[09b614a08d8cba4a07c9adeb5e0fee81]\n",
       "class E3--><a href=\"psysml:c0a5c6df-be9c-4195-8c1c-0f8f015b3130\" target=\"_top\" title=\"psysml:c0a5c6df-be9c-4195-8c1c-0f8f015b3130\" xlink:actuate=\"onRequest\" xlink:href=\"psysml:c0a5c6df-be9c-4195-8c1c-0f8f015b3130\" xlink:show=\"new\" xlink:title=\"psysml:c0a5c6df-be9c-4195-8c1c-0f8f015b3130\" xlink:type=\"simple\"><g id=\"elem_E3\"><rect fill=\"#FFFFFF\" height=\"48.2656\" id=\"E3\" rx=\"10\" ry=\"10\" style=\"stroke:#181818;stroke-width:0.5;\" width=\"55\" x=\"97\" y=\"207\"/><text fill=\"#000000\" font-family=\"sans-serif\" font-size=\"12\" font-style=\"italic\" lengthAdjust=\"spacing\" textLength=\"53\" x=\"98\" y=\"223.1387\">«action»</text><text fill=\"#000000\" font-family=\"sans-serif\" font-size=\"14\" lengthAdjust=\"spacing\" textLength=\"18\" x=\"111.5\" y=\"238.9639\">A2</text><line style=\"stroke:#181818;stroke-width:0.5;\" x1=\"98\" x2=\"151\" y1=\"247.2656\" y2=\"247.2656\"/></g></a><!--MD5=[ebbe1d658d1005bcc118a6aa81145e00]\n",
       "class E4--><a href=\"psysml:3bd09aec-2544-46ae-936d-01aed8eb96e7\" target=\"_top\" title=\"psysml:3bd09aec-2544-46ae-936d-01aed8eb96e7\" xlink:actuate=\"onRequest\" xlink:href=\"psysml:3bd09aec-2544-46ae-936d-01aed8eb96e7\" xlink:show=\"new\" xlink:title=\"psysml:3bd09aec-2544-46ae-936d-01aed8eb96e7\" xlink:type=\"simple\"><g id=\"elem_E4\"><rect fill=\"#FFFFFF\" height=\"48.2656\" id=\"E4\" rx=\"10\" ry=\"10\" style=\"stroke:#181818;stroke-width:0.5;\" width=\"74\" x=\"118.5\" y=\"315\"/><text fill=\"#000000\" font-family=\"sans-serif\" font-size=\"12\" font-style=\"italic\" lengthAdjust=\"spacing\" textLength=\"72\" x=\"119.5\" y=\"331.1387\">«join node»</text><text fill=\"#000000\" font-family=\"sans-serif\" font-size=\"14\" lengthAdjust=\"spacing\" textLength=\"3\" x=\"150\" y=\"346.9639\">J</text><line style=\"stroke:#181818;stroke-width:0.5;\" x1=\"119.5\" x2=\"191.5\" y1=\"355.2656\" y2=\"355.2656\"/></g></a><!--MD5=[270fce915f116d4de14055a7c1d9a0f3]\n",
       "class E5--><a href=\"psysml:17702565-4e67-4d00-9c2e-cf91774b37d5\" target=\"_top\" title=\"psysml:17702565-4e67-4d00-9c2e-cf91774b37d5\" xlink:actuate=\"onRequest\" xlink:href=\"psysml:17702565-4e67-4d00-9c2e-cf91774b37d5\" xlink:show=\"new\" xlink:title=\"psysml:17702565-4e67-4d00-9c2e-cf91774b37d5\" xlink:type=\"simple\"><g id=\"elem_E5\"><rect fill=\"#FFFFFF\" height=\"48.2656\" id=\"E5\" rx=\"10\" ry=\"10\" style=\"stroke:#181818;stroke-width:0.5;\" width=\"76\" x=\"183.5\" y=\"423\"/><text fill=\"#000000\" font-family=\"sans-serif\" font-size=\"12\" font-style=\"italic\" lengthAdjust=\"spacing\" textLength=\"74\" x=\"184.5\" y=\"439.1387\">«fork node»</text><text fill=\"#000000\" font-family=\"sans-serif\" font-size=\"14\" lengthAdjust=\"spacing\" textLength=\"8\" x=\"213.5\" y=\"454.9639\">F</text><line style=\"stroke:#181818;stroke-width:0.5;\" x1=\"184.5\" x2=\"258.5\" y1=\"463.2656\" y2=\"463.2656\"/></g></a><!--MD5=[60a26617385b1d2d0262a64233df1f8d]\n",
       "class E6--><a href=\"psysml:2e4137e4-9d77-4a25-b719-c29e464dbfc7\" target=\"_top\" title=\"psysml:2e4137e4-9d77-4a25-b719-c29e464dbfc7\" xlink:actuate=\"onRequest\" xlink:href=\"psysml:2e4137e4-9d77-4a25-b719-c29e464dbfc7\" xlink:show=\"new\" xlink:title=\"psysml:2e4137e4-9d77-4a25-b719-c29e464dbfc7\" xlink:type=\"simple\"><g id=\"elem_E6\"><rect fill=\"#FFFFFF\" height=\"48.2656\" id=\"E6\" rx=\"10\" ry=\"10\" style=\"stroke:#181818;stroke-width:0.5;\" width=\"55\" x=\"127\" y=\"531\"/><text fill=\"#000000\" font-family=\"sans-serif\" font-size=\"12\" font-style=\"italic\" lengthAdjust=\"spacing\" textLength=\"53\" x=\"128\" y=\"547.1387\">«action»</text><text fill=\"#000000\" font-family=\"sans-serif\" font-size=\"14\" lengthAdjust=\"spacing\" textLength=\"19\" x=\"141\" y=\"562.9639\">B1</text><line style=\"stroke:#181818;stroke-width:0.5;\" x1=\"128\" x2=\"181\" y1=\"571.2656\" y2=\"571.2656\"/></g></a><!--MD5=[2156ba9850f5573cc1fc38a6a4b2f02b]\n",
       "class E7--><a href=\"psysml:22fc935b-3ced-457d-8850-10eb2e62808c\" target=\"_top\" title=\"psysml:22fc935b-3ced-457d-8850-10eb2e62808c\" xlink:actuate=\"onRequest\" xlink:href=\"psysml:22fc935b-3ced-457d-8850-10eb2e62808c\" xlink:show=\"new\" xlink:title=\"psysml:22fc935b-3ced-457d-8850-10eb2e62808c\" xlink:type=\"simple\"><g id=\"elem_E7\"><rect fill=\"#FFFFFF\" height=\"48.2656\" id=\"E7\" rx=\"10\" ry=\"10\" style=\"stroke:#181818;stroke-width:0.5;\" width=\"55\" x=\"257\" y=\"531\"/><text fill=\"#000000\" font-family=\"sans-serif\" font-size=\"12\" font-style=\"italic\" lengthAdjust=\"spacing\" textLength=\"53\" x=\"258\" y=\"547.1387\">«action»</text><text fill=\"#000000\" font-family=\"sans-serif\" font-size=\"14\" lengthAdjust=\"spacing\" textLength=\"19\" x=\"271\" y=\"562.9639\">B2</text><line style=\"stroke:#181818;stroke-width:0.5;\" x1=\"258\" x2=\"311\" y1=\"571.2656\" y2=\"571.2656\"/></g></a><!--MD5=[a523cb2a0b79ecf9065ad8783f96c320]\n",
       "reverse link E1 to E2--><g id=\"link_E1_E2\"><a href=\"psysml:9306702f-37ef-4fdd-b535-5b953ffb2d58\" target=\"_top\" title=\"psysml:9306702f-37ef-4fdd-b535-5b953ffb2d58\" xlink:actuate=\"onRequest\" xlink:href=\"psysml:9306702f-37ef-4fdd-b535-5b953ffb2d58\" xlink:show=\"new\" xlink:title=\"psysml:9306702f-37ef-4fdd-b535-5b953ffb2d58\" xlink:type=\"simple\"><path d=\"M85.67,160.24 C85.67,160.24 85.67,231 85.67,231 C85.67,231 74.24,231 62.18,231 \" fill=\"none\" id=\"E1-backto-E2\" style=\"stroke:#181818;stroke-width:1.0;\"/><polygon fill=\"#181818\" points=\"85.67,147.24,81.67,153.24,85.67,159.24,89.67,153.24,85.67,147.24\" style=\"stroke:#181818;stroke-width:1.0;\"/></a></g><!--MD5=[5d7b3810b1dd9b5164bea1151b29b665]\n",
       "reverse link E1 to E3--><g id=\"link_E1_E3\"><a href=\"psysml:ff946dee-4dd2-48de-88dc-ec164dbbdf2e\" target=\"_top\" title=\"psysml:ff946dee-4dd2-48de-88dc-ec164dbbdf2e\" xlink:actuate=\"onRequest\" xlink:href=\"psysml:ff946dee-4dd2-48de-88dc-ec164dbbdf2e\" xlink:show=\"new\" xlink:title=\"psysml:ff946dee-4dd2-48de-88dc-ec164dbbdf2e\" xlink:type=\"simple\"><path d=\"M124.5,160.24 C124.5,160.24 124.5,206.91 124.5,206.91 \" fill=\"none\" id=\"E1-backto-E3\" style=\"stroke:#181818;stroke-width:1.0;\"/><polygon fill=\"#181818\" points=\"124.5,147.24,120.5,153.24,124.5,159.24,128.5,153.24,124.5,147.24\" style=\"stroke:#181818;stroke-width:1.0;\"/></a></g><!--MD5=[4d03bb2d0377dc85ccfab60ff574652b]\n",
       "link E2 to E4--><g id=\"link_E2_E4\"><a href=\"psysml:f9bcfb7b-138a-4058-8879-7210022ba40a\" target=\"_top\" title=\"psysml:f9bcfb7b-138a-4058-8879-7210022ba40a\" xlink:actuate=\"onRequest\" xlink:href=\"psysml:f9bcfb7b-138a-4058-8879-7210022ba40a\" xlink:show=\"new\" xlink:title=\"psysml:f9bcfb7b-138a-4058-8879-7210022ba40a\" xlink:type=\"simple\"><path d=\"M34.5,255.24 C34.5,287.08 34.5,339 34.5,339 C34.5,339 113.21,339 113.21,339 \" fill=\"none\" id=\"E2-to-E4\" style=\"stroke:#181818;stroke-width:1.0;\"/><polygon fill=\"#181818\" points=\"118.21,339,109.21,335,113.21,339,109.21,343,118.21,339\" style=\"stroke:#181818;stroke-width:1.0;\"/></a></g><!--MD5=[af87c684e3b0d8be13c1a698a818ef1e]\n",
       "link E3 to E4--><g id=\"link_E3_E4\"><a href=\"psysml:6481bc83-60df-4dde-906c-a5becb339116\" target=\"_top\" title=\"psysml:6481bc83-60df-4dde-906c-a5becb339116\" xlink:actuate=\"onRequest\" xlink:href=\"psysml:6481bc83-60df-4dde-906c-a5becb339116\" xlink:show=\"new\" xlink:title=\"psysml:6481bc83-60df-4dde-906c-a5becb339116\" xlink:type=\"simple\"><path d=\"M135.25,255.24 C135.25,255.24 135.25,309.84 135.25,309.84 \" fill=\"none\" id=\"E3-to-E4\" style=\"stroke:#181818;stroke-width:1.0;\"/><polygon fill=\"#181818\" points=\"135.25,314.84,139.25,305.84,135.25,309.84,131.25,305.84,135.25,314.84\" style=\"stroke:#181818;stroke-width:1.0;\"/></a></g><!--MD5=[f2c5c03aa1e8c0ba21c10a05e6444b8e]\n",
       "reverse link E1 to E4--><g id=\"link_E1_E4\"><a href=\"psysml:c17bb3db-0b7d-4d5b-b917-165c66d3be23\" target=\"_top\" title=\"psysml:c17bb3db-0b7d-4d5b-b917-165c66d3be23\" xlink:actuate=\"onRequest\" xlink:href=\"psysml:c17bb3db-0b7d-4d5b-b917-165c66d3be23\" xlink:show=\"new\" xlink:title=\"psysml:c17bb3db-0b7d-4d5b-b917-165c66d3be23\" xlink:type=\"simple\"><path d=\"M172.25,160.21 C172.25,160.21 172.25,314.95 172.25,314.95 \" fill=\"none\" id=\"E1-backto-E4\" style=\"stroke:#181818;stroke-width:1.0;\"/><polygon fill=\"#181818\" points=\"172.25,147.21,168.25,153.21,172.25,159.21,176.25,153.21,172.25,147.21\" style=\"stroke:#181818;stroke-width:1.0;\"/></a></g><!--MD5=[1b7591eae5389033d8d09a9d6721a717]\n",
       "link E4 to E5--><g id=\"link_E4_E5\"><a href=\"psysml:091dd6b1-b372-46ae-b0ca-4e4aa94aac13\" target=\"_top\" title=\"psysml:091dd6b1-b372-46ae-b0ca-4e4aa94aac13\" xlink:actuate=\"onRequest\" xlink:href=\"psysml:091dd6b1-b372-46ae-b0ca-4e4aa94aac13\" xlink:show=\"new\" xlink:title=\"psysml:091dd6b1-b372-46ae-b0ca-4e4aa94aac13\" xlink:type=\"simple\"><path d=\"M188,363.24 C188,363.24 188,417.84 188,417.84 \" fill=\"none\" id=\"E4-to-E5\" style=\"stroke:#181818;stroke-width:1.0;\"/><polygon fill=\"#181818\" points=\"188,422.84,192,413.84,188,417.84,184,413.84,188,422.84\" style=\"stroke:#181818;stroke-width:1.0;\"/></a></g><!--MD5=[33238bef88d6431a141d8bc8fb12bca0]\n",
       "reverse link E1 to E5--><g id=\"link_E1_E5\"><a href=\"psysml:75ce6460-81e3-4fd8-b178-253d08d4aaea\" target=\"_top\" title=\"psysml:75ce6460-81e3-4fd8-b178-253d08d4aaea\" xlink:actuate=\"onRequest\" xlink:href=\"psysml:75ce6460-81e3-4fd8-b178-253d08d4aaea\" xlink:show=\"new\" xlink:title=\"psysml:75ce6460-81e3-4fd8-b178-253d08d4aaea\" xlink:type=\"simple\"><path d=\"M220.75,160.03 C220.75,160.03 220.75,422.66 220.75,422.66 \" fill=\"none\" id=\"E1-backto-E5\" style=\"stroke:#181818;stroke-width:1.0;\"/><polygon fill=\"#181818\" points=\"220.75,147.03,216.75,153.03,220.75,159.03,224.75,153.03,220.75,147.03\" style=\"stroke:#181818;stroke-width:1.0;\"/></a></g><!--MD5=[9120cf2e5df3bff93db8f754bbbc09b4]\n",
       "link E5 to E6--><g id=\"link_E5_E6\"><a href=\"psysml:418b7d58-d850-4614-9e9d-1c793842a2dd\" target=\"_top\" title=\"psysml:418b7d58-d850-4614-9e9d-1c793842a2dd\" xlink:actuate=\"onRequest\" xlink:href=\"psysml:418b7d58-d850-4614-9e9d-1c793842a2dd\" xlink:show=\"new\" xlink:title=\"psysml:418b7d58-d850-4614-9e9d-1c793842a2dd\" xlink:type=\"simple\"><path d=\"M183.3,447 C168.26,447 154.5,447 154.5,447 C154.5,447 154.5,525.76 154.5,525.76 \" fill=\"none\" id=\"E5-to-E6\" style=\"stroke:#181818;stroke-width:1.0;\"/><polygon fill=\"#181818\" points=\"154.5,530.76,158.5,521.76,154.5,525.76,150.5,521.76,154.5,530.76\" style=\"stroke:#181818;stroke-width:1.0;\"/></a></g><!--MD5=[aca2ef284c2b1b90e17e73bf3f292c07]\n",
       "reverse link E1 to E6--><g id=\"link_E1_E6\"><a href=\"psysml:cbe5f5cb-386f-45e5-9c39-bb1873a128f8\" target=\"_top\" title=\"psysml:cbe5f5cb-386f-45e5-9c39-bb1873a128f8\" xlink:actuate=\"onRequest\" xlink:href=\"psysml:cbe5f5cb-386f-45e5-9c39-bb1873a128f8\" xlink:show=\"new\" xlink:title=\"psysml:cbe5f5cb-386f-45e5-9c39-bb1873a128f8\" xlink:type=\"simple\"><path d=\"M91.33,160.02 C91.33,160.02 91.33,555 91.33,555 C91.33,555 109.96,555 126.98,555 \" fill=\"none\" id=\"E1-backto-E6\" style=\"stroke:#181818;stroke-width:1.0;\"/><polygon fill=\"#181818\" points=\"91.33,147.02,87.33,153.02,91.33,159.02,95.33,153.02,91.33,147.02\" style=\"stroke:#181818;stroke-width:1.0;\"/></a></g><!--MD5=[3a9b96bfbf6b6ad89c494e81751bda47]\n",
       "link E5 to E7--><g id=\"link_E5_E7\"><a href=\"psysml:a0ea5228-fdc9-49fd-bb96-6ce22cf44d00\" target=\"_top\" title=\"psysml:a0ea5228-fdc9-49fd-bb96-6ce22cf44d00\" xlink:actuate=\"onRequest\" xlink:href=\"psysml:a0ea5228-fdc9-49fd-bb96-6ce22cf44d00\" xlink:show=\"new\" xlink:title=\"psysml:a0ea5228-fdc9-49fd-bb96-6ce22cf44d00\" xlink:type=\"simple\"><path d=\"M259.74,447 C269.36,447 277,447 277,447 C277,447 277,525.76 277,525.76 \" fill=\"none\" id=\"E5-to-E7\" style=\"stroke:#181818;stroke-width:1.0;\"/><polygon fill=\"#181818\" points=\"277,530.76,281,521.76,277,525.76,273,521.76,277,530.76\" style=\"stroke:#181818;stroke-width:1.0;\"/></a></g><!--MD5=[fc9706a6b2cf8c0e423679d303750d3f]\n",
       "reverse link E1 to E7--><g id=\"link_E1_E7\"><a href=\"psysml:65a1f468-5d54-43ed-9b56-c01a515fc6bb\" target=\"_top\" title=\"psysml:65a1f468-5d54-43ed-9b56-c01a515fc6bb\" xlink:actuate=\"onRequest\" xlink:href=\"psysml:65a1f468-5d54-43ed-9b56-c01a515fc6bb\" xlink:show=\"new\" xlink:title=\"psysml:65a1f468-5d54-43ed-9b56-c01a515fc6bb\" xlink:type=\"simple\"><path d=\"M262.03,77 C262.03,77 294.5,77 294.5,77 C294.5,77 294.5,434.04 294.5,530.97 \" fill=\"none\" id=\"E1-backto-E7\" style=\"stroke:#181818;stroke-width:1.0;\"/><polygon fill=\"#181818\" points=\"249.03,77,255.03,81,261.03,77,255.03,73,249.03,77\" style=\"stroke:#181818;stroke-width:1.0;\"/></a></g><!--MD5=[111346c6f839caf1ed8ccde8e6edcfd3]\n",
       "@startuml\r\n",
       "skin sysmlbw\r\n",
       "skinparam monochrome true\r\n",
       "skinparam wrapWidth 300\r\n",
       "hide circle\r\n",
       "skinparam linetype ortho\r\n",
       "\r\n",
       "comp def \"ControlNodeTest\" as E1  <<(T,blue) action  def>> [[psysml:fb29792e-912d-4ab4-a64b-8ae4f88f6031 ]] {\r\n",
       "##//successions//##\r\n",
       "noname first A1 then J\r\n",
       "noname first A2 then J\r\n",
       "noname first J then F\r\n",
       "noname first F then B1\r\n",
       "noname first F then B2\r\n",
       "}\r\n",
       "comp usage \"A1  \" as E2  <<(T,blue) action>> [[psysml:fe1ec0cc-95d8-48f7-a7e5-aef83e3da3f9 ]] {\r\n",
       "}\r\n",
       "comp usage \"A2  \" as E3  <<(T,blue) action>> [[psysml:c0a5c6df-be9c-4195-8c1c-0f8f015b3130 ]] {\r\n",
       "}\r\n",
       "comp usage \"J  \" as E4  <<(T,blue) join node>> [[psysml:3bd09aec-2544-46ae-936d-01aed8eb96e7 ]] {\r\n",
       "}\r\n",
       "comp usage \"F  \" as E5  <<(T,blue) fork node>> [[psysml:17702565-4e67-4d00-9c2e-cf91774b37d5 ]] {\r\n",
       "}\r\n",
       "comp usage \"B1  \" as E6  <<(T,blue) action>> [[psysml:2e4137e4-9d77-4a25-b719-c29e464dbfc7 ]] {\r\n",
       "}\r\n",
       "comp usage \"B2  \" as E7  <<(T,blue) action>> [[psysml:22fc935b-3ced-457d-8850-10eb2e62808c ]] {\r\n",
       "}\r\n",
       "E1 *- - E2 [[psysml:9306702f-37ef-4fdd-b535-5b953ffb2d58 ]] \r\n",
       "E1 *- - E3 [[psysml:ff946dee-4dd2-48de-88dc-ec164dbbdf2e ]] \r\n",
       "E2 - -> E4 [[psysml:f9bcfb7b-138a-4058-8879-7210022ba40a ]] \r\n",
       "E3 - -> E4 [[psysml:6481bc83-60df-4dde-906c-a5becb339116 ]] \r\n",
       "E1 *- - E4 [[psysml:c17bb3db-0b7d-4d5b-b917-165c66d3be23 ]] \r\n",
       "E4 - -> E5 [[psysml:091dd6b1-b372-46ae-b0ca-4e4aa94aac13 ]] \r\n",
       "E1 *- - E5 [[psysml:75ce6460-81e3-4fd8-b178-253d08d4aaea ]] \r\n",
       "E5 - -> E6 [[psysml:418b7d58-d850-4614-9e9d-1c793842a2dd ]] \r\n",
       "E1 *- - E6 [[psysml:cbe5f5cb-386f-45e5-9c39-bb1873a128f8 ]] \r\n",
       "E5 - -> E7 [[psysml:a0ea5228-fdc9-49fd-bb96-6ce22cf44d00 ]] \r\n",
       "E1 *- - E7 [[psysml:65a1f468-5d54-43ed-9b56-c01a515fc6bb ]] \r\n",
       "@enduml\r\n",
       "\n",
       "PlantUML version 1.2022.7(Mon Aug 22 17:01:30 UTC 2022)\n",
       "(EPL source distribution)\n",
       "Java Runtime: OpenJDK Runtime Environment\n",
       "JVM: OpenJDK 64-Bit Server VM\n",
       "Default Encoding: UTF-8\n",
       "Language: en\n",
       "Country: null\n",
       "--></g></svg>"
      ]
     },
     "execution_count": 52,
     "metadata": {},
     "output_type": "execute_result"
    }
   ],
   "source": [
    "%viz --style=\"ORTHOLINE\" --view=\"Tree\" \"ControlNodeTest\""
   ]
  },
  {
   "cell_type": "code",
   "execution_count": 53,
   "id": "886833e7",
   "metadata": {
    "execution": {
     "iopub.execute_input": "2024-12-16T14:20:27.175114Z",
     "iopub.status.busy": "2024-12-16T14:20:27.174900Z",
     "iopub.status.idle": "2024-12-16T14:20:27.180101Z",
     "shell.execute_reply": "2024-12-16T14:20:27.179900Z"
    }
   },
   "outputs": [
    {
     "data": {
      "image/svg+xml": [
       "<?xml version=\"1.0\" encoding=\"UTF-8\" standalone=\"no\"?><svg xmlns=\"http://www.w3.org/2000/svg\" xmlns:xlink=\"http://www.w3.org/1999/xlink\" contentStyleType=\"text/css\" height=\"10px\" preserveAspectRatio=\"none\" style=\"width:10px;height:10px;background:#FFFFFF;\" version=\"1.1\" viewBox=\"0 0 10 10\" width=\"10px\" zoomAndPan=\"magnify\"><defs/><g><!--MD5=[db5337d1ba6fd3a35e07e04988169323]\n",
       "@startuml\r\n",
       "skin sysmlbw\r\n",
       "skinparam monochrome true\r\n",
       "skinparam wrapWidth 300\r\n",
       "hide circle\r\n",
       "skinparam linetype ortho\r\n",
       "\r\n",
       "@enduml\r\n",
       "\n",
       "PlantUML version 1.2022.7(Mon Aug 22 17:01:30 UTC 2022)\n",
       "(EPL source distribution)\n",
       "Java Runtime: OpenJDK Runtime Environment\n",
       "JVM: OpenJDK 64-Bit Server VM\n",
       "Default Encoding: UTF-8\n",
       "Language: en\n",
       "Country: null\n",
       "--></g></svg>"
      ]
     },
     "execution_count": 53,
     "metadata": {},
     "output_type": "execute_result"
    }
   ],
   "source": [
    "%viz --style=\"ORTHOLINE\" --view=\"State\" \"ControlNodeTest\""
   ]
  },
  {
   "cell_type": "code",
   "execution_count": 54,
   "id": "28cf9129",
   "metadata": {
    "execution": {
     "iopub.execute_input": "2024-12-16T14:20:27.233438Z",
     "iopub.status.busy": "2024-12-16T14:20:27.233203Z",
     "iopub.status.idle": "2024-12-16T14:20:27.248977Z",
     "shell.execute_reply": "2024-12-16T14:20:27.248193Z"
    }
   },
   "outputs": [
    {
     "data": {
      "image/svg+xml": [
       "<?xml version=\"1.0\" encoding=\"UTF-8\" standalone=\"no\"?><svg xmlns=\"http://www.w3.org/2000/svg\" xmlns:xlink=\"http://www.w3.org/1999/xlink\" contentStyleType=\"text/css\" height=\"216px\" preserveAspectRatio=\"none\" style=\"width:201px;height:216px;background:#FFFFFF;\" version=\"1.1\" viewBox=\"0 0 201 216\" width=\"201px\" zoomAndPan=\"magnify\"><defs/><g><!--MD5=[fbc87193dbaf4d95561dea2c320d4a47]\n",
       "cluster E1--><g id=\"cluster_E1\"><a href=\"psysml:fb29792e-912d-4ab4-a64b-8ae4f88f6031\" target=\"_top\" title=\"psysml:fb29792e-912d-4ab4-a64b-8ae4f88f6031\" xlink:actuate=\"onRequest\" xlink:href=\"psysml:fb29792e-912d-4ab4-a64b-8ae4f88f6031\" xlink:show=\"new\" xlink:title=\"psysml:fb29792e-912d-4ab4-a64b-8ae4f88f6031\" xlink:type=\"simple\"><rect fill=\"#FFFFFF\" height=\"203\" id=\"E1\" style=\"stroke:#383838;stroke-width:1.5;\" width=\"187\" x=\"7\" y=\"7\"/><text fill=\"#000000\" font-family=\"sans-serif\" font-size=\"12\" font-style=\"italic\" lengthAdjust=\"spacing\" textLength=\"81\" x=\"60\" y=\"23.1387\">«action  def»</text><text fill=\"#000000\" font-family=\"sans-serif\" font-size=\"14\" lengthAdjust=\"spacing\" textLength=\"118\" x=\"41.5\" y=\"38.9639\">ControlNodeTest</text><line style=\"stroke:#383838;stroke-width:1.0;\" x1=\"7\" x2=\"194\" y1=\"47.2656\" y2=\"47.2656\"/></a></g><rect fill=\"#555555\" height=\"8\" style=\"stroke:none;stroke-width:1.0;\" width=\"80\" x=\"60\" y=\"113\"/><rect fill=\"#555555\" height=\"8\" style=\"stroke:none;stroke-width:1.0;\" width=\"80\" x=\"60\" y=\"131\"/><g><a href=\"psysml:fe1ec0cc-95d8-48f7-a7e5-aef83e3da3f9\" target=\"_top\" title=\"psysml:fe1ec0cc-95d8-48f7-a7e5-aef83e3da3f9\" xlink:actuate=\"onRequest\" xlink:href=\"psysml:fe1ec0cc-95d8-48f7-a7e5-aef83e3da3f9\" xlink:show=\"new\" xlink:title=\"psysml:fe1ec0cc-95d8-48f7-a7e5-aef83e3da3f9\" xlink:type=\"simple\"><rect fill=\"#FFFFFF\" height=\"45.2656\" id=\"E2\" rx=\"10\" ry=\"10\" style=\"stroke:#383838;stroke-width:1.5;\" width=\"60\" x=\"118\" y=\"58\"/><text fill=\"#000000\" font-family=\"sans-serif\" font-size=\"12\" font-style=\"italic\" lengthAdjust=\"spacing\" textLength=\"53\" x=\"121.5\" y=\"74.1387\">«action»</text><text fill=\"#000000\" font-family=\"sans-serif\" font-size=\"14\" lengthAdjust=\"spacing\" textLength=\"18\" x=\"139\" y=\"89.9639\">A1</text></a></g><g><a href=\"psysml:c0a5c6df-be9c-4195-8c1c-0f8f015b3130\" target=\"_top\" title=\"psysml:c0a5c6df-be9c-4195-8c1c-0f8f015b3130\" xlink:actuate=\"onRequest\" xlink:href=\"psysml:c0a5c6df-be9c-4195-8c1c-0f8f015b3130\" xlink:show=\"new\" xlink:title=\"psysml:c0a5c6df-be9c-4195-8c1c-0f8f015b3130\" xlink:type=\"simple\"><rect fill=\"#FFFFFF\" height=\"45.2656\" id=\"E3\" rx=\"10\" ry=\"10\" style=\"stroke:#383838;stroke-width:1.5;\" width=\"60\" x=\"23\" y=\"58\"/><text fill=\"#000000\" font-family=\"sans-serif\" font-size=\"12\" font-style=\"italic\" lengthAdjust=\"spacing\" textLength=\"53\" x=\"26.5\" y=\"74.1387\">«action»</text><text fill=\"#000000\" font-family=\"sans-serif\" font-size=\"14\" lengthAdjust=\"spacing\" textLength=\"18\" x=\"44\" y=\"89.9639\">A2</text></a></g><g><a href=\"psysml:2e4137e4-9d77-4a25-b719-c29e464dbfc7\" target=\"_top\" title=\"psysml:2e4137e4-9d77-4a25-b719-c29e464dbfc7\" xlink:actuate=\"onRequest\" xlink:href=\"psysml:2e4137e4-9d77-4a25-b719-c29e464dbfc7\" xlink:show=\"new\" xlink:title=\"psysml:2e4137e4-9d77-4a25-b719-c29e464dbfc7\" xlink:type=\"simple\"><rect fill=\"#FFFFFF\" height=\"45.2656\" id=\"E6\" rx=\"10\" ry=\"10\" style=\"stroke:#383838;stroke-width:1.5;\" width=\"60\" x=\"23\" y=\"149\"/><text fill=\"#000000\" font-family=\"sans-serif\" font-size=\"12\" font-style=\"italic\" lengthAdjust=\"spacing\" textLength=\"53\" x=\"26.5\" y=\"165.1387\">«action»</text><text fill=\"#000000\" font-family=\"sans-serif\" font-size=\"14\" lengthAdjust=\"spacing\" textLength=\"19\" x=\"43.5\" y=\"180.9639\">B1</text></a></g><g><a href=\"psysml:22fc935b-3ced-457d-8850-10eb2e62808c\" target=\"_top\" title=\"psysml:22fc935b-3ced-457d-8850-10eb2e62808c\" xlink:actuate=\"onRequest\" xlink:href=\"psysml:22fc935b-3ced-457d-8850-10eb2e62808c\" xlink:show=\"new\" xlink:title=\"psysml:22fc935b-3ced-457d-8850-10eb2e62808c\" xlink:type=\"simple\"><rect fill=\"#FFFFFF\" height=\"45.2656\" id=\"E7\" rx=\"10\" ry=\"10\" style=\"stroke:#383838;stroke-width:1.5;\" width=\"60\" x=\"118\" y=\"149\"/><text fill=\"#000000\" font-family=\"sans-serif\" font-size=\"12\" font-style=\"italic\" lengthAdjust=\"spacing\" textLength=\"53\" x=\"121.5\" y=\"165.1387\">«action»</text><text fill=\"#000000\" font-family=\"sans-serif\" font-size=\"14\" lengthAdjust=\"spacing\" textLength=\"19\" x=\"138.5\" y=\"180.9639\">B2</text></a></g><!--MD5=[4d03bb2d0377dc85ccfab60ff574652b]\n",
       "link E2 to E4--><g id=\"link_E2_E4\"><a href=\"psysml:f9bcfb7b-138a-4058-8879-7210022ba40a\" target=\"_top\" title=\"psysml:f9bcfb7b-138a-4058-8879-7210022ba40a\" xlink:actuate=\"onRequest\" xlink:href=\"psysml:f9bcfb7b-138a-4058-8879-7210022ba40a\" xlink:show=\"new\" xlink:title=\"psysml:f9bcfb7b-138a-4058-8879-7210022ba40a\" xlink:type=\"simple\"><path d=\"M129,103.41 C129,103.41 129,107.95 129,107.95 \" fill=\"none\" id=\"E2-to-E4\" style=\"stroke:#181818;stroke-width:1.0;\"/><polygon fill=\"#181818\" points=\"129,112.95,133,103.95,129,107.95,125,103.95,129,112.95\" style=\"stroke:#181818;stroke-width:1.0;\"/></a></g><!--MD5=[af87c684e3b0d8be13c1a698a818ef1e]\n",
       "link E3 to E4--><g id=\"link_E3_E4\"><a href=\"psysml:6481bc83-60df-4dde-906c-a5becb339116\" target=\"_top\" title=\"psysml:6481bc83-60df-4dde-906c-a5becb339116\" xlink:actuate=\"onRequest\" xlink:href=\"psysml:6481bc83-60df-4dde-906c-a5becb339116\" xlink:show=\"new\" xlink:title=\"psysml:6481bc83-60df-4dde-906c-a5becb339116\" xlink:type=\"simple\"><path d=\"M71.5,103.41 C71.5,103.41 71.5,107.95 71.5,107.95 \" fill=\"none\" id=\"E3-to-E4\" style=\"stroke:#181818;stroke-width:1.0;\"/><polygon fill=\"#181818\" points=\"71.5,112.95,75.5,103.95,71.5,107.95,67.5,103.95,71.5,112.95\" style=\"stroke:#181818;stroke-width:1.0;\"/></a></g><!--MD5=[1b7591eae5389033d8d09a9d6721a717]\n",
       "link E4 to E5--><g id=\"link_E4_E5\"><a href=\"psysml:091dd6b1-b372-46ae-b0ca-4e4aa94aac13\" target=\"_top\" title=\"psysml:091dd6b1-b372-46ae-b0ca-4e4aa94aac13\" xlink:actuate=\"onRequest\" xlink:href=\"psysml:091dd6b1-b372-46ae-b0ca-4e4aa94aac13\" xlink:show=\"new\" xlink:title=\"psysml:091dd6b1-b372-46ae-b0ca-4e4aa94aac13\" xlink:type=\"simple\"><path d=\"M100,121.17 C100,121.17 100,125.6 100,125.6 \" fill=\"none\" id=\"E4-to-E5\" style=\"stroke:#181818;stroke-width:1.0;\"/><polygon fill=\"#181818\" points=\"100,130.6,104,121.6,100,125.6,96,121.6,100,130.6\" style=\"stroke:#181818;stroke-width:1.0;\"/></a></g><!--MD5=[9120cf2e5df3bff93db8f754bbbc09b4]\n",
       "link E5 to E6--><g id=\"link_E5_E6\"><a href=\"psysml:418b7d58-d850-4614-9e9d-1c793842a2dd\" target=\"_top\" title=\"psysml:418b7d58-d850-4614-9e9d-1c793842a2dd\" xlink:actuate=\"onRequest\" xlink:href=\"psysml:418b7d58-d850-4614-9e9d-1c793842a2dd\" xlink:show=\"new\" xlink:title=\"psysml:418b7d58-d850-4614-9e9d-1c793842a2dd\" xlink:type=\"simple\"><path d=\"M71.5,139.19 C71.5,139.19 71.5,143.94 71.5,143.94 \" fill=\"none\" id=\"E5-to-E6\" style=\"stroke:#181818;stroke-width:1.0;\"/><polygon fill=\"#181818\" points=\"71.5,148.94,75.5,139.94,71.5,143.94,67.5,139.94,71.5,148.94\" style=\"stroke:#181818;stroke-width:1.0;\"/></a></g><!--MD5=[3a9b96bfbf6b6ad89c494e81751bda47]\n",
       "link E5 to E7--><g id=\"link_E5_E7\"><a href=\"psysml:a0ea5228-fdc9-49fd-bb96-6ce22cf44d00\" target=\"_top\" title=\"psysml:a0ea5228-fdc9-49fd-bb96-6ce22cf44d00\" xlink:actuate=\"onRequest\" xlink:href=\"psysml:a0ea5228-fdc9-49fd-bb96-6ce22cf44d00\" xlink:show=\"new\" xlink:title=\"psysml:a0ea5228-fdc9-49fd-bb96-6ce22cf44d00\" xlink:type=\"simple\"><path d=\"M129,139.19 C129,139.19 129,143.94 129,143.94 \" fill=\"none\" id=\"E5-to-E7\" style=\"stroke:#181818;stroke-width:1.0;\"/><polygon fill=\"#181818\" points=\"129,148.94,133,139.94,129,143.94,125,139.94,129,148.94\" style=\"stroke:#181818;stroke-width:1.0;\"/></a></g><!--MD5=[52a9486888d6b0226c1193e71ea31042]\n",
       "@startuml\r\n",
       "skin sysmlbw\r\n",
       "skinparam monochrome true\r\n",
       "skinparam wrapWidth 300\r\n",
       "hide circle\r\n",
       "skinparam linetype ortho\r\n",
       "skinparam ranksep 10\r\n",
       "skinparam rectangle {\r\n",
       " backgroundColor<<block>> LightGreen\r\n",
       "}\r\n",
       "\r\n",
       "rec def \"ControlNodeTest\" as E1  <<(T,blue) action  def>> [[psysml:fb29792e-912d-4ab4-a64b-8ae4f88f6031 ]] {\r\n",
       "rec usage \"A1\" as E2  <<(T,blue) action>> [[psysml:fe1ec0cc-95d8-48f7-a7e5-aef83e3da3f9 ]] {\r\n",
       "}\r\n",
       "\r\n",
       "rec usage \"A2\" as E3  <<(T,blue) action>> [[psysml:c0a5c6df-be9c-4195-8c1c-0f8f015b3130 ]] {\r\n",
       "}\r\n",
       "\r\n",
       "join \"J\" as E4  [[psysml:3bd09aec-2544-46ae-936d-01aed8eb96e7 ]] \r\n",
       "fork \"F\" as E5  [[psysml:17702565-4e67-4d00-9c2e-cf91774b37d5 ]] \r\n",
       "rec usage \"B1\" as E6  <<(T,blue) action>> [[psysml:2e4137e4-9d77-4a25-b719-c29e464dbfc7 ]] {\r\n",
       "}\r\n",
       "\r\n",
       "rec usage \"B2\" as E7  <<(T,blue) action>> [[psysml:22fc935b-3ced-457d-8850-10eb2e62808c ]] {\r\n",
       "}\r\n",
       "\r\n",
       "}\r\n",
       "\r\n",
       "E2 - -> E4 [[psysml:f9bcfb7b-138a-4058-8879-7210022ba40a ]] \r\n",
       "E3 - -> E4 [[psysml:6481bc83-60df-4dde-906c-a5becb339116 ]] \r\n",
       "E4 - -> E5 [[psysml:091dd6b1-b372-46ae-b0ca-4e4aa94aac13 ]] \r\n",
       "E5 - -> E6 [[psysml:418b7d58-d850-4614-9e9d-1c793842a2dd ]] \r\n",
       "E5 - -> E7 [[psysml:a0ea5228-fdc9-49fd-bb96-6ce22cf44d00 ]] \r\n",
       "@enduml\r\n",
       "\n",
       "PlantUML version 1.2022.7(Mon Aug 22 17:01:30 UTC 2022)\n",
       "(EPL source distribution)\n",
       "Java Runtime: OpenJDK Runtime Environment\n",
       "JVM: OpenJDK 64-Bit Server VM\n",
       "Default Encoding: UTF-8\n",
       "Language: en\n",
       "Country: null\n",
       "--></g></svg>"
      ]
     },
     "execution_count": 54,
     "metadata": {},
     "output_type": "execute_result"
    }
   ],
   "source": [
    "%viz --style=\"ORTHOLINE\" --view=\"Interconnection\" \"ControlNodeTest\""
   ]
  },
  {
   "cell_type": "code",
   "execution_count": 55,
   "id": "5df1ca0f",
   "metadata": {
    "execution": {
     "iopub.execute_input": "2024-12-16T14:20:27.305127Z",
     "iopub.status.busy": "2024-12-16T14:20:27.304868Z",
     "iopub.status.idle": "2024-12-16T14:20:27.322424Z",
     "shell.execute_reply": "2024-12-16T14:20:27.321517Z"
    }
   },
   "outputs": [
    {
     "data": {
      "image/svg+xml": [
       "<?xml version=\"1.0\" encoding=\"UTF-8\" standalone=\"no\"?><svg xmlns=\"http://www.w3.org/2000/svg\" xmlns:xlink=\"http://www.w3.org/1999/xlink\" contentStyleType=\"text/css\" height=\"210px\" preserveAspectRatio=\"none\" style=\"width:201px;height:210px;background:#FFFFFF;\" version=\"1.1\" viewBox=\"0 0 201 210\" width=\"201px\" zoomAndPan=\"magnify\"><defs/><g><!--MD5=[fbc87193dbaf4d95561dea2c320d4a47]\n",
       "cluster E1--><g id=\"cluster_E1\"><a href=\"psysml:fb29792e-912d-4ab4-a64b-8ae4f88f6031\" target=\"_top\" title=\"psysml:fb29792e-912d-4ab4-a64b-8ae4f88f6031\" xlink:actuate=\"onRequest\" xlink:href=\"psysml:fb29792e-912d-4ab4-a64b-8ae4f88f6031\" xlink:show=\"new\" xlink:title=\"psysml:fb29792e-912d-4ab4-a64b-8ae4f88f6031\" xlink:type=\"simple\"><rect fill=\"#FFFFFF\" height=\"197\" id=\"E1\" style=\"stroke:#383838;stroke-width:1.5;\" width=\"187\" x=\"7\" y=\"7\"/><text fill=\"#000000\" font-family=\"sans-serif\" font-size=\"12\" font-style=\"italic\" lengthAdjust=\"spacing\" textLength=\"81\" x=\"60\" y=\"23.1387\">«action  def»</text><text fill=\"#000000\" font-family=\"sans-serif\" font-size=\"14\" lengthAdjust=\"spacing\" textLength=\"118\" x=\"41.5\" y=\"38.9639\">ControlNodeTest</text><line style=\"stroke:#383838;stroke-width:1.0;\" x1=\"7\" x2=\"194\" y1=\"47.2656\" y2=\"47.2656\"/></a></g><rect fill=\"#555555\" height=\"8\" style=\"stroke:none;stroke-width:1.0;\" width=\"80\" x=\"60\" y=\"111\"/><rect fill=\"#555555\" height=\"8\" style=\"stroke:none;stroke-width:1.0;\" width=\"80\" x=\"60\" y=\"127\"/><g><a href=\"psysml:fe1ec0cc-95d8-48f7-a7e5-aef83e3da3f9\" target=\"_top\" title=\"psysml:fe1ec0cc-95d8-48f7-a7e5-aef83e3da3f9\" xlink:actuate=\"onRequest\" xlink:href=\"psysml:fe1ec0cc-95d8-48f7-a7e5-aef83e3da3f9\" xlink:show=\"new\" xlink:title=\"psysml:fe1ec0cc-95d8-48f7-a7e5-aef83e3da3f9\" xlink:type=\"simple\"><rect fill=\"#FFFFFF\" height=\"45.2656\" id=\"E2\" rx=\"10\" ry=\"10\" style=\"stroke:#383838;stroke-width:1.5;\" width=\"60\" x=\"118\" y=\"58\"/><text fill=\"#000000\" font-family=\"sans-serif\" font-size=\"12\" font-style=\"italic\" lengthAdjust=\"spacing\" textLength=\"53\" x=\"121.5\" y=\"74.1387\">«action»</text><text fill=\"#000000\" font-family=\"sans-serif\" font-size=\"14\" lengthAdjust=\"spacing\" textLength=\"18\" x=\"139\" y=\"89.9639\">A1</text></a></g><g><a href=\"psysml:c0a5c6df-be9c-4195-8c1c-0f8f015b3130\" target=\"_top\" title=\"psysml:c0a5c6df-be9c-4195-8c1c-0f8f015b3130\" xlink:actuate=\"onRequest\" xlink:href=\"psysml:c0a5c6df-be9c-4195-8c1c-0f8f015b3130\" xlink:show=\"new\" xlink:title=\"psysml:c0a5c6df-be9c-4195-8c1c-0f8f015b3130\" xlink:type=\"simple\"><rect fill=\"#FFFFFF\" height=\"45.2656\" id=\"E3\" rx=\"10\" ry=\"10\" style=\"stroke:#383838;stroke-width:1.5;\" width=\"60\" x=\"23\" y=\"58\"/><text fill=\"#000000\" font-family=\"sans-serif\" font-size=\"12\" font-style=\"italic\" lengthAdjust=\"spacing\" textLength=\"53\" x=\"26.5\" y=\"74.1387\">«action»</text><text fill=\"#000000\" font-family=\"sans-serif\" font-size=\"14\" lengthAdjust=\"spacing\" textLength=\"18\" x=\"44\" y=\"89.9639\">A2</text></a></g><g><a href=\"psysml:2e4137e4-9d77-4a25-b719-c29e464dbfc7\" target=\"_top\" title=\"psysml:2e4137e4-9d77-4a25-b719-c29e464dbfc7\" xlink:actuate=\"onRequest\" xlink:href=\"psysml:2e4137e4-9d77-4a25-b719-c29e464dbfc7\" xlink:show=\"new\" xlink:title=\"psysml:2e4137e4-9d77-4a25-b719-c29e464dbfc7\" xlink:type=\"simple\"><rect fill=\"#FFFFFF\" height=\"45.2656\" id=\"E6\" rx=\"10\" ry=\"10\" style=\"stroke:#383838;stroke-width:1.5;\" width=\"60\" x=\"23\" y=\"143\"/><text fill=\"#000000\" font-family=\"sans-serif\" font-size=\"12\" font-style=\"italic\" lengthAdjust=\"spacing\" textLength=\"53\" x=\"26.5\" y=\"159.1387\">«action»</text><text fill=\"#000000\" font-family=\"sans-serif\" font-size=\"14\" lengthAdjust=\"spacing\" textLength=\"19\" x=\"43.5\" y=\"174.9639\">B1</text></a></g><g><a href=\"psysml:22fc935b-3ced-457d-8850-10eb2e62808c\" target=\"_top\" title=\"psysml:22fc935b-3ced-457d-8850-10eb2e62808c\" xlink:actuate=\"onRequest\" xlink:href=\"psysml:22fc935b-3ced-457d-8850-10eb2e62808c\" xlink:show=\"new\" xlink:title=\"psysml:22fc935b-3ced-457d-8850-10eb2e62808c\" xlink:type=\"simple\"><rect fill=\"#FFFFFF\" height=\"45.2656\" id=\"E7\" rx=\"10\" ry=\"10\" style=\"stroke:#383838;stroke-width:1.5;\" width=\"60\" x=\"118\" y=\"143\"/><text fill=\"#000000\" font-family=\"sans-serif\" font-size=\"12\" font-style=\"italic\" lengthAdjust=\"spacing\" textLength=\"53\" x=\"121.5\" y=\"159.1387\">«action»</text><text fill=\"#000000\" font-family=\"sans-serif\" font-size=\"14\" lengthAdjust=\"spacing\" textLength=\"19\" x=\"138.5\" y=\"174.9639\">B2</text></a></g><!--MD5=[4d03bb2d0377dc85ccfab60ff574652b]\n",
       "link E2 to E4--><g id=\"link_E2_E4\"><a href=\"psysml:f9bcfb7b-138a-4058-8879-7210022ba40a\" target=\"_top\" title=\"psysml:f9bcfb7b-138a-4058-8879-7210022ba40a\" xlink:actuate=\"onRequest\" xlink:href=\"psysml:f9bcfb7b-138a-4058-8879-7210022ba40a\" xlink:show=\"new\" xlink:title=\"psysml:f9bcfb7b-138a-4058-8879-7210022ba40a\" xlink:type=\"simple\"><path d=\"M129,103.32 C129,103.32 129,105.74 129,105.74 \" fill=\"none\" id=\"E2-to-E4\" style=\"stroke:#181818;stroke-width:1.0;stroke-dasharray:7.0,7.0;\"/><polygon fill=\"#181818\" points=\"129,110.74,133.0257,101.7515,129.0143,105.74,125.0257,101.7286,129,110.74\" style=\"stroke:#181818;stroke-width:1.0;\"/></a></g><!--MD5=[af87c684e3b0d8be13c1a698a818ef1e]\n",
       "link E3 to E4--><g id=\"link_E3_E4\"><a href=\"psysml:6481bc83-60df-4dde-906c-a5becb339116\" target=\"_top\" title=\"psysml:6481bc83-60df-4dde-906c-a5becb339116\" xlink:actuate=\"onRequest\" xlink:href=\"psysml:6481bc83-60df-4dde-906c-a5becb339116\" xlink:show=\"new\" xlink:title=\"psysml:6481bc83-60df-4dde-906c-a5becb339116\" xlink:type=\"simple\"><path d=\"M71.5,103.32 C71.5,103.32 71.5,105.74 71.5,105.74 \" fill=\"none\" id=\"E3-to-E4\" style=\"stroke:#181818;stroke-width:1.0;stroke-dasharray:7.0,7.0;\"/><polygon fill=\"#181818\" points=\"71.5,110.74,75.5257,101.7515,71.5143,105.74,67.5257,101.7286,71.5,110.74\" style=\"stroke:#181818;stroke-width:1.0;\"/></a></g><!--MD5=[1b7591eae5389033d8d09a9d6721a717]\n",
       "link E4 to E5--><g id=\"link_E4_E5\"><a href=\"psysml:091dd6b1-b372-46ae-b0ca-4e4aa94aac13\" target=\"_top\" title=\"psysml:091dd6b1-b372-46ae-b0ca-4e4aa94aac13\" xlink:actuate=\"onRequest\" xlink:href=\"psysml:091dd6b1-b372-46ae-b0ca-4e4aa94aac13\" xlink:show=\"new\" xlink:title=\"psysml:091dd6b1-b372-46ae-b0ca-4e4aa94aac13\" xlink:type=\"simple\"><path d=\"M100,119.04 C100,119.04 100,121.8 100,121.8 \" fill=\"none\" id=\"E4-to-E5\" style=\"stroke:#181818;stroke-width:1.0;stroke-dasharray:7.0,7.0;\"/><polygon fill=\"#181818\" points=\"100,126.8,104,117.8,100,121.8,96,117.8,100,126.8\" style=\"stroke:#181818;stroke-width:1.0;\"/></a></g><!--MD5=[9120cf2e5df3bff93db8f754bbbc09b4]\n",
       "link E5 to E6--><g id=\"link_E5_E6\"><a href=\"psysml:418b7d58-d850-4614-9e9d-1c793842a2dd\" target=\"_top\" title=\"psysml:418b7d58-d850-4614-9e9d-1c793842a2dd\" xlink:actuate=\"onRequest\" xlink:href=\"psysml:418b7d58-d850-4614-9e9d-1c793842a2dd\" xlink:show=\"new\" xlink:title=\"psysml:418b7d58-d850-4614-9e9d-1c793842a2dd\" xlink:type=\"simple\"><path d=\"M71.5,135.23 C71.5,135.23 71.5,137.93 71.5,137.93 \" fill=\"none\" id=\"E5-to-E6\" style=\"stroke:#181818;stroke-width:1.0;stroke-dasharray:7.0,7.0;\"/><polygon fill=\"#181818\" points=\"71.5,142.93,75.5,133.93,71.5,137.93,67.5,133.93,71.5,142.93\" style=\"stroke:#181818;stroke-width:1.0;\"/></a></g><!--MD5=[3a9b96bfbf6b6ad89c494e81751bda47]\n",
       "link E5 to E7--><g id=\"link_E5_E7\"><a href=\"psysml:a0ea5228-fdc9-49fd-bb96-6ce22cf44d00\" target=\"_top\" title=\"psysml:a0ea5228-fdc9-49fd-bb96-6ce22cf44d00\" xlink:actuate=\"onRequest\" xlink:href=\"psysml:a0ea5228-fdc9-49fd-bb96-6ce22cf44d00\" xlink:show=\"new\" xlink:title=\"psysml:a0ea5228-fdc9-49fd-bb96-6ce22cf44d00\" xlink:type=\"simple\"><path d=\"M129,135.23 C129,135.23 129,137.93 129,137.93 \" fill=\"none\" id=\"E5-to-E7\" style=\"stroke:#181818;stroke-width:1.0;stroke-dasharray:7.0,7.0;\"/><polygon fill=\"#181818\" points=\"129,142.93,133,133.93,129,137.93,125,133.93,129,142.93\" style=\"stroke:#181818;stroke-width:1.0;\"/></a></g><!--MD5=[217c82c576d7115a83dfd42f4bb32a43]\n",
       "@startuml\r\n",
       "skin sysmlbw\r\n",
       "skinparam monochrome true\r\n",
       "skinparam wrapWidth 300\r\n",
       "hide circle\r\n",
       "skinparam linetype ortho\r\n",
       "skinparam ranksep 8\r\n",
       "\r\n",
       "rec def \"ControlNodeTest\" as E1  <<(T,blue) action  def>> [[psysml:fb29792e-912d-4ab4-a64b-8ae4f88f6031 ]] {\r\n",
       "rec usage \"A1\" as E2  <<(T,blue) action>> [[psysml:fe1ec0cc-95d8-48f7-a7e5-aef83e3da3f9 ]] {\r\n",
       "}\r\n",
       "\r\n",
       "rec usage \"A2\" as E3  <<(T,blue) action>> [[psysml:c0a5c6df-be9c-4195-8c1c-0f8f015b3130 ]] {\r\n",
       "}\r\n",
       "\r\n",
       "join \"J\" as E4  [[psysml:3bd09aec-2544-46ae-936d-01aed8eb96e7 ]] \r\n",
       "fork \"F\" as E5  [[psysml:17702565-4e67-4d00-9c2e-cf91774b37d5 ]] \r\n",
       "rec usage \"B1\" as E6  <<(T,blue) action>> [[psysml:2e4137e4-9d77-4a25-b719-c29e464dbfc7 ]] {\r\n",
       "}\r\n",
       "\r\n",
       "rec usage \"B2\" as E7  <<(T,blue) action>> [[psysml:22fc935b-3ced-457d-8850-10eb2e62808c ]] {\r\n",
       "}\r\n",
       "\r\n",
       "}\r\n",
       "\r\n",
       "E2 ..> E4 [[psysml:f9bcfb7b-138a-4058-8879-7210022ba40a ]] \r\n",
       "E3 ..> E4 [[psysml:6481bc83-60df-4dde-906c-a5becb339116 ]] \r\n",
       "E4 ..> E5 [[psysml:091dd6b1-b372-46ae-b0ca-4e4aa94aac13 ]] \r\n",
       "E5 ..> E6 [[psysml:418b7d58-d850-4614-9e9d-1c793842a2dd ]] \r\n",
       "E5 ..> E7 [[psysml:a0ea5228-fdc9-49fd-bb96-6ce22cf44d00 ]] \r\n",
       "@enduml\r\n",
       "\n",
       "PlantUML version 1.2022.7(Mon Aug 22 17:01:30 UTC 2022)\n",
       "(EPL source distribution)\n",
       "Java Runtime: OpenJDK Runtime Environment\n",
       "JVM: OpenJDK 64-Bit Server VM\n",
       "Default Encoding: UTF-8\n",
       "Language: en\n",
       "Country: null\n",
       "--></g></svg>"
      ]
     },
     "execution_count": 55,
     "metadata": {},
     "output_type": "execute_result"
    }
   ],
   "source": [
    "%viz --style=\"ORTHOLINE\" --view=\"Action\" \"ControlNodeTest\""
   ]
  },
  {
   "cell_type": "code",
   "execution_count": 56,
   "id": "7b47f33c",
   "metadata": {
    "execution": {
     "iopub.execute_input": "2024-12-16T14:20:27.374946Z",
     "iopub.status.busy": "2024-12-16T14:20:27.374700Z",
     "iopub.status.idle": "2024-12-16T14:20:27.379692Z",
     "shell.execute_reply": "2024-12-16T14:20:27.379509Z"
    }
   },
   "outputs": [
    {
     "data": {
      "image/svg+xml": [
       "<?xml version=\"1.0\" encoding=\"UTF-8\" standalone=\"no\"?><svg xmlns=\"http://www.w3.org/2000/svg\" xmlns:xlink=\"http://www.w3.org/1999/xlink\" contentStyleType=\"text/css\" height=\"10px\" preserveAspectRatio=\"none\" style=\"width:10px;height:10px;background:#FFFFFF;\" version=\"1.1\" viewBox=\"0 0 10 10\" width=\"10px\" zoomAndPan=\"magnify\"><defs/><g><!--MD5=[5b6eb85285460e34b0e63326afe72cc5]\n",
       "@startuml\r\n",
       "skin sysmlbw\r\n",
       "skinparam monochrome true\r\n",
       "skinparam wrapWidth 300\r\n",
       "hide circle\r\n",
       "skinparam linetype ortho\r\n",
       "skinparam roundcorner 20\r\n",
       "skinparam BoxPadding 20\r\n",
       "skinparam SequenceBoxBackgroundColor #white\r\n",
       "skinparam style strictuml\r\n",
       "skinparam maxMessageSize 100\r\n",
       "\r\n",
       "@enduml\r\n",
       "\n",
       "PlantUML version 1.2022.7(Mon Aug 22 17:01:30 UTC 2022)\n",
       "(EPL source distribution)\n",
       "Java Runtime: OpenJDK Runtime Environment\n",
       "JVM: OpenJDK 64-Bit Server VM\n",
       "Default Encoding: UTF-8\n",
       "Language: en\n",
       "Country: null\n",
       "--></g></svg>"
      ]
     },
     "execution_count": 56,
     "metadata": {},
     "output_type": "execute_result"
    }
   ],
   "source": [
    "%viz --style=\"ORTHOLINE\" --view=\"Sequence\" \"ControlNodeTest\""
   ]
  },
  {
   "cell_type": "code",
   "execution_count": 57,
   "id": "056f123b",
   "metadata": {
    "execution": {
     "iopub.execute_input": "2024-12-16T14:20:27.430837Z",
     "iopub.status.busy": "2024-12-16T14:20:27.430587Z",
     "iopub.status.idle": "2024-12-16T14:20:27.447366Z",
     "shell.execute_reply": "2024-12-16T14:20:27.446425Z"
    }
   },
   "outputs": [
    {
     "data": {
      "image/svg+xml": [
       "<?xml version=\"1.0\" encoding=\"UTF-8\" standalone=\"no\"?><svg xmlns=\"http://www.w3.org/2000/svg\" xmlns:xlink=\"http://www.w3.org/1999/xlink\" contentStyleType=\"text/css\" height=\"366px\" preserveAspectRatio=\"none\" style=\"width:201px;height:366px;background:#FFFFFF;\" version=\"1.1\" viewBox=\"0 0 201 366\" width=\"201px\" zoomAndPan=\"magnify\"><defs/><g><!--MD5=[fbc87193dbaf4d95561dea2c320d4a47]\n",
       "cluster E1--><g id=\"cluster_E1\"><a href=\"psysml:fb29792e-912d-4ab4-a64b-8ae4f88f6031\" target=\"_top\" title=\"psysml:fb29792e-912d-4ab4-a64b-8ae4f88f6031\" xlink:actuate=\"onRequest\" xlink:href=\"psysml:fb29792e-912d-4ab4-a64b-8ae4f88f6031\" xlink:show=\"new\" xlink:title=\"psysml:fb29792e-912d-4ab4-a64b-8ae4f88f6031\" xlink:type=\"simple\"><rect fill=\"#FFFFFF\" height=\"353\" id=\"E1\" style=\"stroke:#383838;stroke-width:1.5;\" width=\"187\" x=\"7\" y=\"7\"/><text fill=\"#000000\" font-family=\"sans-serif\" font-size=\"12\" font-style=\"italic\" lengthAdjust=\"spacing\" textLength=\"81\" x=\"60\" y=\"23.1387\">«action  def»</text><text fill=\"#000000\" font-family=\"sans-serif\" font-size=\"14\" lengthAdjust=\"spacing\" textLength=\"118\" x=\"41.5\" y=\"38.9639\">ControlNodeTest</text><line style=\"stroke:#383838;stroke-width:1.0;\" x1=\"7\" x2=\"194\" y1=\"47.2656\" y2=\"47.2656\"/></a></g><rect fill=\"#555555\" height=\"8\" style=\"stroke:none;stroke-width:1.0;\" width=\"80\" x=\"60\" y=\"163\"/><rect fill=\"#555555\" height=\"8\" style=\"stroke:none;stroke-width:1.0;\" width=\"80\" x=\"60\" y=\"231\"/><g><a href=\"psysml:fe1ec0cc-95d8-48f7-a7e5-aef83e3da3f9\" target=\"_top\" title=\"psysml:fe1ec0cc-95d8-48f7-a7e5-aef83e3da3f9\" xlink:actuate=\"onRequest\" xlink:href=\"psysml:fe1ec0cc-95d8-48f7-a7e5-aef83e3da3f9\" xlink:show=\"new\" xlink:title=\"psysml:fe1ec0cc-95d8-48f7-a7e5-aef83e3da3f9\" xlink:type=\"simple\"><rect fill=\"#FFFFFF\" height=\"45.2656\" id=\"E2\" rx=\"10\" ry=\"10\" style=\"stroke:#383838;stroke-width:1.5;\" width=\"60\" x=\"118\" y=\"58\"/><text fill=\"#000000\" font-family=\"sans-serif\" font-size=\"12\" font-style=\"italic\" lengthAdjust=\"spacing\" textLength=\"53\" x=\"121.5\" y=\"74.1387\">«action»</text><text fill=\"#000000\" font-family=\"sans-serif\" font-size=\"14\" lengthAdjust=\"spacing\" textLength=\"18\" x=\"139\" y=\"89.9639\">A1</text></a></g><g><a href=\"psysml:c0a5c6df-be9c-4195-8c1c-0f8f015b3130\" target=\"_top\" title=\"psysml:c0a5c6df-be9c-4195-8c1c-0f8f015b3130\" xlink:actuate=\"onRequest\" xlink:href=\"psysml:c0a5c6df-be9c-4195-8c1c-0f8f015b3130\" xlink:show=\"new\" xlink:title=\"psysml:c0a5c6df-be9c-4195-8c1c-0f8f015b3130\" xlink:type=\"simple\"><rect fill=\"#FFFFFF\" height=\"45.2656\" id=\"E3\" rx=\"10\" ry=\"10\" style=\"stroke:#383838;stroke-width:1.5;\" width=\"60\" x=\"23\" y=\"58\"/><text fill=\"#000000\" font-family=\"sans-serif\" font-size=\"12\" font-style=\"italic\" lengthAdjust=\"spacing\" textLength=\"53\" x=\"26.5\" y=\"74.1387\">«action»</text><text fill=\"#000000\" font-family=\"sans-serif\" font-size=\"14\" lengthAdjust=\"spacing\" textLength=\"18\" x=\"44\" y=\"89.9639\">A2</text></a></g><g><a href=\"psysml:2e4137e4-9d77-4a25-b719-c29e464dbfc7\" target=\"_top\" title=\"psysml:2e4137e4-9d77-4a25-b719-c29e464dbfc7\" xlink:actuate=\"onRequest\" xlink:href=\"psysml:2e4137e4-9d77-4a25-b719-c29e464dbfc7\" xlink:show=\"new\" xlink:title=\"psysml:2e4137e4-9d77-4a25-b719-c29e464dbfc7\" xlink:type=\"simple\"><rect fill=\"#FFFFFF\" height=\"45.2656\" id=\"E6\" rx=\"10\" ry=\"10\" style=\"stroke:#383838;stroke-width:1.5;\" width=\"60\" x=\"23\" y=\"299\"/><text fill=\"#000000\" font-family=\"sans-serif\" font-size=\"12\" font-style=\"italic\" lengthAdjust=\"spacing\" textLength=\"53\" x=\"26.5\" y=\"315.1387\">«action»</text><text fill=\"#000000\" font-family=\"sans-serif\" font-size=\"14\" lengthAdjust=\"spacing\" textLength=\"19\" x=\"43.5\" y=\"330.9639\">B1</text></a></g><g><a href=\"psysml:22fc935b-3ced-457d-8850-10eb2e62808c\" target=\"_top\" title=\"psysml:22fc935b-3ced-457d-8850-10eb2e62808c\" xlink:actuate=\"onRequest\" xlink:href=\"psysml:22fc935b-3ced-457d-8850-10eb2e62808c\" xlink:show=\"new\" xlink:title=\"psysml:22fc935b-3ced-457d-8850-10eb2e62808c\" xlink:type=\"simple\"><rect fill=\"#FFFFFF\" height=\"45.2656\" id=\"E7\" rx=\"10\" ry=\"10\" style=\"stroke:#383838;stroke-width:1.5;\" width=\"60\" x=\"118\" y=\"299\"/><text fill=\"#000000\" font-family=\"sans-serif\" font-size=\"12\" font-style=\"italic\" lengthAdjust=\"spacing\" textLength=\"53\" x=\"121.5\" y=\"315.1387\">«action»</text><text fill=\"#000000\" font-family=\"sans-serif\" font-size=\"14\" lengthAdjust=\"spacing\" textLength=\"19\" x=\"138.5\" y=\"330.9639\">B2</text></a></g><!--MD5=[4d03bb2d0377dc85ccfab60ff574652b]\n",
       "link E2 to E4--><g id=\"link_E2_E4\"><a href=\"psysml:f9bcfb7b-138a-4058-8879-7210022ba40a\" target=\"_top\" title=\"psysml:f9bcfb7b-138a-4058-8879-7210022ba40a\" xlink:actuate=\"onRequest\" xlink:href=\"psysml:f9bcfb7b-138a-4058-8879-7210022ba40a\" xlink:show=\"new\" xlink:title=\"psysml:f9bcfb7b-138a-4058-8879-7210022ba40a\" xlink:type=\"simple\"><path d=\"M129,103.23 C129,103.23 129,157.7 129,157.7 \" fill=\"none\" id=\"E2-to-E4\" style=\"stroke:#181818;stroke-width:1.0;\"/><polygon fill=\"#181818\" points=\"129,162.7,133,153.7,129,157.7,125,153.7,129,162.7\" style=\"stroke:#181818;stroke-width:1.0;\"/></a></g><!--MD5=[af87c684e3b0d8be13c1a698a818ef1e]\n",
       "link E3 to E4--><g id=\"link_E3_E4\"><a href=\"psysml:6481bc83-60df-4dde-906c-a5becb339116\" target=\"_top\" title=\"psysml:6481bc83-60df-4dde-906c-a5becb339116\" xlink:actuate=\"onRequest\" xlink:href=\"psysml:6481bc83-60df-4dde-906c-a5becb339116\" xlink:show=\"new\" xlink:title=\"psysml:6481bc83-60df-4dde-906c-a5becb339116\" xlink:type=\"simple\"><path d=\"M71.5,103.23 C71.5,103.23 71.5,157.7 71.5,157.7 \" fill=\"none\" id=\"E3-to-E4\" style=\"stroke:#181818;stroke-width:1.0;\"/><polygon fill=\"#181818\" points=\"71.5,162.7,75.5,153.7,71.5,157.7,67.5,153.7,71.5,162.7\" style=\"stroke:#181818;stroke-width:1.0;\"/></a></g><!--MD5=[1b7591eae5389033d8d09a9d6721a717]\n",
       "link E4 to E5--><g id=\"link_E4_E5\"><a href=\"psysml:091dd6b1-b372-46ae-b0ca-4e4aa94aac13\" target=\"_top\" title=\"psysml:091dd6b1-b372-46ae-b0ca-4e4aa94aac13\" xlink:actuate=\"onRequest\" xlink:href=\"psysml:091dd6b1-b372-46ae-b0ca-4e4aa94aac13\" xlink:show=\"new\" xlink:title=\"psysml:091dd6b1-b372-46ae-b0ca-4e4aa94aac13\" xlink:type=\"simple\"><path d=\"M100,171.05 C100,171.05 100,225.71 100,225.71 \" fill=\"none\" id=\"E4-to-E5\" style=\"stroke:#181818;stroke-width:1.0;\"/><polygon fill=\"#181818\" points=\"100,230.71,104,221.71,100,225.71,96,221.71,100,230.71\" style=\"stroke:#181818;stroke-width:1.0;\"/></a></g><!--MD5=[9120cf2e5df3bff93db8f754bbbc09b4]\n",
       "link E5 to E6--><g id=\"link_E5_E6\"><a href=\"psysml:418b7d58-d850-4614-9e9d-1c793842a2dd\" target=\"_top\" title=\"psysml:418b7d58-d850-4614-9e9d-1c793842a2dd\" xlink:actuate=\"onRequest\" xlink:href=\"psysml:418b7d58-d850-4614-9e9d-1c793842a2dd\" xlink:show=\"new\" xlink:title=\"psysml:418b7d58-d850-4614-9e9d-1c793842a2dd\" xlink:type=\"simple\"><path d=\"M71.5,239.17 C71.5,239.17 71.5,293.84 71.5,293.84 \" fill=\"none\" id=\"E5-to-E6\" style=\"stroke:#181818;stroke-width:1.0;\"/><polygon fill=\"#181818\" points=\"71.5,298.84,75.5,289.84,71.5,293.84,67.5,289.84,71.5,298.84\" style=\"stroke:#181818;stroke-width:1.0;\"/></a></g><!--MD5=[3a9b96bfbf6b6ad89c494e81751bda47]\n",
       "link E5 to E7--><g id=\"link_E5_E7\"><a href=\"psysml:a0ea5228-fdc9-49fd-bb96-6ce22cf44d00\" target=\"_top\" title=\"psysml:a0ea5228-fdc9-49fd-bb96-6ce22cf44d00\" xlink:actuate=\"onRequest\" xlink:href=\"psysml:a0ea5228-fdc9-49fd-bb96-6ce22cf44d00\" xlink:show=\"new\" xlink:title=\"psysml:a0ea5228-fdc9-49fd-bb96-6ce22cf44d00\" xlink:type=\"simple\"><path d=\"M129,239.17 C129,239.17 129,293.84 129,293.84 \" fill=\"none\" id=\"E5-to-E7\" style=\"stroke:#181818;stroke-width:1.0;\"/><polygon fill=\"#181818\" points=\"129,298.84,133,289.84,129,293.84,125,289.84,129,298.84\" style=\"stroke:#181818;stroke-width:1.0;\"/></a></g><!--MD5=[1101c2afcafd229b312e8312d81b031f]\n",
       "@startuml\r\n",
       "skin sysmlbw\r\n",
       "skinparam monochrome true\r\n",
       "skinparam wrapWidth 300\r\n",
       "hide circle\r\n",
       "skinparam linetype ortho\r\n",
       "\r\n",
       "rec def \"ControlNodeTest\" as E1  <<(T,blue) action  def>> [[psysml:fb29792e-912d-4ab4-a64b-8ae4f88f6031 ]] {\r\n",
       "rec usage \"A1\" as E2  <<(T,blue) action>> [[psysml:fe1ec0cc-95d8-48f7-a7e5-aef83e3da3f9 ]] {\r\n",
       "}\r\n",
       "\r\n",
       "rec usage \"A2\" as E3  <<(T,blue) action>> [[psysml:c0a5c6df-be9c-4195-8c1c-0f8f015b3130 ]] {\r\n",
       "}\r\n",
       "\r\n",
       "join \"J\" as E4  [[psysml:3bd09aec-2544-46ae-936d-01aed8eb96e7 ]] \r\n",
       "fork \"F\" as E5  [[psysml:17702565-4e67-4d00-9c2e-cf91774b37d5 ]] \r\n",
       "rec usage \"B1\" as E6  <<(T,blue) action>> [[psysml:2e4137e4-9d77-4a25-b719-c29e464dbfc7 ]] {\r\n",
       "}\r\n",
       "\r\n",
       "rec usage \"B2\" as E7  <<(T,blue) action>> [[psysml:22fc935b-3ced-457d-8850-10eb2e62808c ]] {\r\n",
       "}\r\n",
       "\r\n",
       "}\r\n",
       "\r\n",
       "E2 - -> E4 [[psysml:f9bcfb7b-138a-4058-8879-7210022ba40a ]] \r\n",
       "E3 - -> E4 [[psysml:6481bc83-60df-4dde-906c-a5becb339116 ]] \r\n",
       "E4 - -> E5 [[psysml:091dd6b1-b372-46ae-b0ca-4e4aa94aac13 ]] \r\n",
       "E5 - -> E6 [[psysml:418b7d58-d850-4614-9e9d-1c793842a2dd ]] \r\n",
       "E5 - -> E7 [[psysml:a0ea5228-fdc9-49fd-bb96-6ce22cf44d00 ]] \r\n",
       "@enduml\r\n",
       "\n",
       "PlantUML version 1.2022.7(Mon Aug 22 17:01:30 UTC 2022)\n",
       "(EPL source distribution)\n",
       "Java Runtime: OpenJDK Runtime Environment\n",
       "JVM: OpenJDK 64-Bit Server VM\n",
       "Default Encoding: UTF-8\n",
       "Language: en\n",
       "Country: null\n",
       "--></g></svg>"
      ]
     },
     "execution_count": 57,
     "metadata": {},
     "output_type": "execute_result"
    }
   ],
   "source": [
    "%viz --style=\"ORTHOLINE\" --view=\"MIXED\" \"ControlNodeTest\""
   ]
  }
 ],
 "metadata": {
  "kernelspec": {
   "display_name": "SysML",
   "language": "sysml",
   "name": "sysml"
  },
  "language_info": {
   "codemirror_mode": "sysml",
   "file_extension": ".sysml",
   "mimetype": "text/x-sysml",
   "name": "SysML",
   "pygments_lexer": "java",
   "version": "1.0.0"
  }
 },
 "nbformat": 4,
 "nbformat_minor": 5
}
