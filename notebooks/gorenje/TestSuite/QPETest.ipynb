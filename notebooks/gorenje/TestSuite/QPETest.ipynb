{
 "cells": [
  {
   "cell_type": "markdown",
   "id": "dd583f63",
   "metadata": {},
   "source": [
    "# SysML v2 Test Suite\n",
    "\n",
    "This can notebook can be cleared using menu `Edit --> Clear All Outputs` and then all cells can be\n",
    "run using menu `Run --> Run All Cells`.\n",
    "\n",
    "**WARNING**: This file is generated, all modifications here will be ignored.\n"
   ]
  },
  {
   "cell_type": "markdown",
   "id": "91200450",
   "metadata": {},
   "source": [
    "## File: ../../sysml/src/examples/Simple Tests/QPETest.sysml"
   ]
  },
  {
   "cell_type": "code",
   "execution_count": 1,
   "id": "a5d1818e",
   "metadata": {
    "execution": {
     "iopub.execute_input": "2021-04-21T20:20:58.703582Z",
     "iopub.status.busy": "2021-04-21T20:20:58.702614Z",
     "iopub.status.idle": "2021-04-21T20:20:59.016586Z",
     "shell.execute_reply": "2021-04-21T20:20:59.016004Z"
    }
   },
   "outputs": [
    {
     "data": {
      "text/plain": [
       "Package Q (db5795e0-d647-49b8-8629-13f0849589f6)\n"
      ]
     },
     "execution_count": 1,
     "metadata": {},
     "output_type": "execute_result"
    }
   ],
   "source": [
    "package Q {\n",
    "  part f {\n",
    "  \tpart a;\n",
    "  }\n",
    "  part def C {\n",
    "    part g = ./f/a; \n",
    "  }\n",
    "}\n"
   ]
  },
  {
   "cell_type": "code",
   "execution_count": 2,
   "id": "c459a086",
   "metadata": {
    "execution": {
     "iopub.execute_input": "2021-04-21T20:20:59.068582Z",
     "iopub.status.busy": "2021-04-21T20:20:59.067859Z",
     "iopub.status.idle": "2021-04-21T20:20:59.773086Z",
     "shell.execute_reply": "2021-04-21T20:20:59.772624Z"
    }
   },
   "outputs": [
    {
     "data": {
      "image/svg+xml": [
       "<?xml version=\"1.0\" encoding=\"UTF-8\" standalone=\"no\"?><svg xmlns=\"http://www.w3.org/2000/svg\" xmlns:xlink=\"http://www.w3.org/1999/xlink\" contentScriptType=\"application/ecmascript\" contentStyleType=\"text/css\" height=\"221px\" preserveAspectRatio=\"none\" style=\"width:213px;height:221px;\" version=\"1.1\" viewBox=\"0 0 213 221\" width=\"213px\" zoomAndPan=\"magnify\"><defs/><g><!--MD5=[fbc87193dbaf4d95561dea2c320d4a47]\n",
       "cluster E1--><a href=\"psysml:48e9f940-1f69-4218-811f-6a29c7cbfcb6\" target=\"_top\" title=\"psysml:48e9f940-1f69-4218-811f-6a29c7cbfcb6\" xlink:actuate=\"onRequest\" xlink:href=\"psysml:48e9f940-1f69-4218-811f-6a29c7cbfcb6\" xlink:show=\"new\" xlink:title=\"psysml:48e9f940-1f69-4218-811f-6a29c7cbfcb6\" xlink:type=\"simple\"><polygon fill=\"#FFFFFF\" points=\"16,6,34,6,41,28.2969,191,28.2969,191,209,16,209,16,6\" style=\"stroke: #000000; stroke-width: 1.5;\"/><line style=\"stroke: #000000; stroke-width: 1.5;\" x1=\"16\" x2=\"41\" y1=\"28.2969\" y2=\"28.2969\"/><text fill=\"#000000\" font-family=\"sans-serif\" font-size=\"14\" font-weight=\"bold\" lengthAdjust=\"spacingAndGlyphs\" textLength=\"12\" x=\"20\" y=\"20.9951\">Q</text></a><!--MD5=[b4997ac47864f28c2f74865a473b2911]\n",
       "class E2--><a href=\"psysml:a224f497-53a8-4c97-a678-1669f6411a1a\" target=\"_top\" title=\"psysml:a224f497-53a8-4c97-a678-1669f6411a1a\" xlink:actuate=\"onRequest\" xlink:href=\"psysml:a224f497-53a8-4c97-a678-1669f6411a1a\" xlink:show=\"new\" xlink:title=\"psysml:a224f497-53a8-4c97-a678-1669f6411a1a\" xlink:type=\"simple\"><rect fill=\"#FFFFFF\" height=\"45.9375\" id=\"E2\" rx=\"10\" ry=\"10\" style=\"stroke: #383838; stroke-width: 1.5;\" width=\"42\" x=\"133\" y=\"41\"/><text fill=\"#000000\" font-family=\"sans-serif\" font-size=\"12\" font-style=\"italic\" lengthAdjust=\"spacingAndGlyphs\" textLength=\"40\" x=\"134\" y=\"57.1387\">«part»</text><text fill=\"#000000\" font-family=\"sans-serif\" font-size=\"12\" lengthAdjust=\"spacingAndGlyphs\" textLength=\"4\" x=\"152\" y=\"71.1074\">f</text><line style=\"stroke: #383838; stroke-width: 1.5;\" x1=\"134\" x2=\"174\" y1=\"78.9375\" y2=\"78.9375\"/></a><!--MD5=[09b614a08d8cba4a07c9adeb5e0fee81]\n",
       "class E3--><a href=\"psysml:692e246d-2e17-48ff-a8f3-1c9cda9639f6\" target=\"_top\" title=\"psysml:692e246d-2e17-48ff-a8f3-1c9cda9639f6\" xlink:actuate=\"onRequest\" xlink:href=\"psysml:692e246d-2e17-48ff-a8f3-1c9cda9639f6\" xlink:show=\"new\" xlink:title=\"psysml:692e246d-2e17-48ff-a8f3-1c9cda9639f6\" xlink:type=\"simple\"><rect fill=\"#FFFFFF\" height=\"45.9375\" id=\"E3\" rx=\"10\" ry=\"10\" style=\"stroke: #383838; stroke-width: 1.5;\" width=\"42\" x=\"133\" y=\"147\"/><text fill=\"#000000\" font-family=\"sans-serif\" font-size=\"12\" font-style=\"italic\" lengthAdjust=\"spacingAndGlyphs\" textLength=\"40\" x=\"134\" y=\"163.1387\">«part»</text><text fill=\"#000000\" font-family=\"sans-serif\" font-size=\"12\" lengthAdjust=\"spacingAndGlyphs\" textLength=\"8\" x=\"150\" y=\"177.1074\">a</text><line style=\"stroke: #383838; stroke-width: 1.5;\" x1=\"134\" x2=\"174\" y1=\"184.9375\" y2=\"184.9375\"/></a><!--MD5=[ebbe1d658d1005bcc118a6aa81145e00]\n",
       "class E4--><a href=\"psysml:8521a391-022b-403d-ab54-4e64ea01dd3a\" target=\"_top\" title=\"psysml:8521a391-022b-403d-ab54-4e64ea01dd3a\" xlink:actuate=\"onRequest\" xlink:href=\"psysml:8521a391-022b-403d-ab54-4e64ea01dd3a\" xlink:show=\"new\" xlink:title=\"psysml:8521a391-022b-403d-ab54-4e64ea01dd3a\" xlink:type=\"simple\"><rect fill=\"#FFFFFF\" height=\"45.9375\" id=\"E4\" style=\"stroke: #383838; stroke-width: 1.5;\" width=\"66\" x=\"32\" y=\"41\"/><text fill=\"#000000\" font-family=\"sans-serif\" font-size=\"12\" font-style=\"italic\" lengthAdjust=\"spacingAndGlyphs\" textLength=\"64\" x=\"33\" y=\"57.1387\">«part def»</text><text fill=\"#000000\" font-family=\"sans-serif\" font-size=\"12\" lengthAdjust=\"spacingAndGlyphs\" textLength=\"8\" x=\"61\" y=\"71.1074\">C</text><line style=\"stroke: #383838; stroke-width: 1.5;\" x1=\"33\" x2=\"97\" y1=\"78.9375\" y2=\"78.9375\"/></a><!--MD5=[270fce915f116d4de14055a7c1d9a0f3]\n",
       "class E5--><a href=\"psysml:7c666d7d-6a66-4269-8e3a-229640bb6ad0\" target=\"_top\" title=\"psysml:7c666d7d-6a66-4269-8e3a-229640bb6ad0\" xlink:actuate=\"onRequest\" xlink:href=\"psysml:7c666d7d-6a66-4269-8e3a-229640bb6ad0\" xlink:show=\"new\" xlink:title=\"psysml:7c666d7d-6a66-4269-8e3a-229640bb6ad0\" xlink:type=\"simple\"><rect fill=\"#FFFFFF\" height=\"45.9375\" id=\"E5\" rx=\"10\" ry=\"10\" style=\"stroke: #383838; stroke-width: 1.5;\" width=\"42\" x=\"44\" y=\"147\"/><text fill=\"#000000\" font-family=\"sans-serif\" font-size=\"12\" font-style=\"italic\" lengthAdjust=\"spacingAndGlyphs\" textLength=\"40\" x=\"45\" y=\"163.1387\">«part»</text><text fill=\"#000000\" font-family=\"sans-serif\" font-size=\"12\" lengthAdjust=\"spacingAndGlyphs\" textLength=\"8\" x=\"61\" y=\"177.1074\">g</text><line style=\"stroke: #383838; stroke-width: 1.5;\" x1=\"45\" x2=\"85\" y1=\"184.9375\" y2=\"184.9375\"/></a><!--MD5=[209b3feb70ccb6233bfe1053d122c12c]\n",
       "reverse link E2 to E3--><a href=\"psysml:71ed813c-2f6a-4d13-b6a9-9d55dbb4d689\" target=\"_top\" title=\"psysml:71ed813c-2f6a-4d13-b6a9-9d55dbb4d689\" xlink:actuate=\"onRequest\" xlink:href=\"psysml:71ed813c-2f6a-4d13-b6a9-9d55dbb4d689\" xlink:show=\"new\" xlink:title=\"psysml:71ed813c-2f6a-4d13-b6a9-9d55dbb4d689\" xlink:type=\"simple\"><path d=\"M154,100.44 C154,115.87 154,133.47 154,146.98 \" fill=\"none\" id=\"E2&lt;-E3\" style=\"stroke: #383838; stroke-width: 1.0;\"/><polygon fill=\"#383838\" points=\"154,87.06,150,93.06,154,99.06,158,93.06,154,87.06\" style=\"stroke: #383838; stroke-width: 1.0;\"/></a><!--MD5=[62aa6af11e70f752912c1cb0466f24f7]\n",
       "reverse link E4 to E5--><a href=\"psysml:66a9662c-d0de-409c-b1e7-d598996fdcb0\" target=\"_top\" title=\"psysml:66a9662c-d0de-409c-b1e7-d598996fdcb0\" xlink:actuate=\"onRequest\" xlink:href=\"psysml:66a9662c-d0de-409c-b1e7-d598996fdcb0\" xlink:show=\"new\" xlink:title=\"psysml:66a9662c-d0de-409c-b1e7-d598996fdcb0\" xlink:type=\"simple\"><path d=\"M65,100.44 C65,115.87 65,133.47 65,146.98 \" fill=\"none\" id=\"E4&lt;-E5\" style=\"stroke: #383838; stroke-width: 1.0;\"/><polygon fill=\"#383838\" points=\"65,87.06,61,93.06,65,99.06,69,93.06,65,87.06\" style=\"stroke: #383838; stroke-width: 1.0;\"/></a><!--MD5=[262d542238e35ad1e1cea204ae40d33e]\n",
       "@startuml\r\n",
       " skinparam monochrome true\r\n",
       "skinparam classbackgroundcolor white\r\n",
       "skinparam shadowing false\r\n",
       "skinparam wrapWidth 300\r\n",
       "hide circle\r\n",
       "\r\n",
       "package \"Q\" as E1  [[psysml:48e9f940-1f69-4218-811f-6a29c7cbfcb6 ]]  {\r\n",
       "comp usage \"f\" as E2  <<(T,blue)part>> [[psysml:a224f497-53a8-4c97-a678-1669f6411a1a ]] {\r\n",
       "}\r\n",
       "comp usage \"a\" as E3  <<(T,blue)part>> [[psysml:692e246d-2e17-48ff-a8f3-1c9cda9639f6 ]] {\r\n",
       "}\r\n",
       "comp def \"C\" as E4  <<(T,blue)part def>> [[psysml:8521a391-022b-403d-ab54-4e64ea01dd3a ]] {\r\n",
       "}\r\n",
       "comp usage \"g\" as E5  <<(T,blue)part>> [[psysml:7c666d7d-6a66-4269-8e3a-229640bb6ad0 ]] {\r\n",
       "}\r\n",
       "E2 *- - E3 [[psysml:71ed813c-2f6a-4d13-b6a9-9d55dbb4d689 ]] \r\n",
       "E4 *- - E5 [[psysml:66a9662c-d0de-409c-b1e7-d598996fdcb0 ]] \r\n",
       "}\r\n",
       "@enduml\r\n",
       "\n",
       "PlantUML version 1.2020.13(Sat Jun 13 12:26:38 UTC 2020)\n",
       "(EPL source distribution)\n",
       "Java Runtime: OpenJDK Runtime Environment\n",
       "JVM: OpenJDK 64-Bit Server VM\n",
       "Default Encoding: UTF-8\n",
       "Language: en\n",
       "Country: null\n",
       "--></g></svg>"
      ]
     },
     "execution_count": 2,
     "metadata": {},
     "output_type": "execute_result"
    }
   ],
   "source": [
    "%viz --style=\"COMPTREE\" --view=\"Default\" \"Q\""
   ]
  },
  {
   "cell_type": "code",
   "execution_count": 3,
   "id": "9739202b",
   "metadata": {
    "execution": {
     "iopub.execute_input": "2021-04-21T20:20:59.823433Z",
     "iopub.status.busy": "2021-04-21T20:20:59.823012Z",
     "iopub.status.idle": "2021-04-21T20:20:59.900567Z",
     "shell.execute_reply": "2021-04-21T20:20:59.900183Z"
    }
   },
   "outputs": [
    {
     "data": {
      "image/svg+xml": [
       "<?xml version=\"1.0\" encoding=\"UTF-8\" standalone=\"no\"?><svg xmlns=\"http://www.w3.org/2000/svg\" xmlns:xlink=\"http://www.w3.org/1999/xlink\" contentScriptType=\"application/ecmascript\" contentStyleType=\"text/css\" height=\"221px\" preserveAspectRatio=\"none\" style=\"width:213px;height:221px;\" version=\"1.1\" viewBox=\"0 0 213 221\" width=\"213px\" zoomAndPan=\"magnify\"><defs/><g><!--MD5=[fbc87193dbaf4d95561dea2c320d4a47]\n",
       "cluster E1--><a href=\"psysml:48e9f940-1f69-4218-811f-6a29c7cbfcb6\" target=\"_top\" title=\"psysml:48e9f940-1f69-4218-811f-6a29c7cbfcb6\" xlink:actuate=\"onRequest\" xlink:href=\"psysml:48e9f940-1f69-4218-811f-6a29c7cbfcb6\" xlink:show=\"new\" xlink:title=\"psysml:48e9f940-1f69-4218-811f-6a29c7cbfcb6\" xlink:type=\"simple\"><polygon fill=\"#FFFFFF\" points=\"16,6,34,6,41,28.2969,191,28.2969,191,209,16,209,16,6\" style=\"stroke: #000000; stroke-width: 1.5;\"/><line style=\"stroke: #000000; stroke-width: 1.5;\" x1=\"16\" x2=\"41\" y1=\"28.2969\" y2=\"28.2969\"/><text fill=\"#000000\" font-family=\"sans-serif\" font-size=\"14\" font-weight=\"bold\" lengthAdjust=\"spacingAndGlyphs\" textLength=\"12\" x=\"20\" y=\"20.9951\">Q</text></a><!--MD5=[b4997ac47864f28c2f74865a473b2911]\n",
       "class E2--><a href=\"psysml:a224f497-53a8-4c97-a678-1669f6411a1a\" target=\"_top\" title=\"psysml:a224f497-53a8-4c97-a678-1669f6411a1a\" xlink:actuate=\"onRequest\" xlink:href=\"psysml:a224f497-53a8-4c97-a678-1669f6411a1a\" xlink:show=\"new\" xlink:title=\"psysml:a224f497-53a8-4c97-a678-1669f6411a1a\" xlink:type=\"simple\"><rect fill=\"#FFFFFF\" height=\"45.9375\" id=\"E2\" rx=\"10\" ry=\"10\" style=\"stroke: #383838; stroke-width: 1.5;\" width=\"42\" x=\"133\" y=\"41\"/><text fill=\"#000000\" font-family=\"sans-serif\" font-size=\"12\" font-style=\"italic\" lengthAdjust=\"spacingAndGlyphs\" textLength=\"40\" x=\"134\" y=\"57.1387\">«part»</text><text fill=\"#000000\" font-family=\"sans-serif\" font-size=\"12\" lengthAdjust=\"spacingAndGlyphs\" textLength=\"4\" x=\"152\" y=\"71.1074\">f</text><line style=\"stroke: #383838; stroke-width: 1.5;\" x1=\"134\" x2=\"174\" y1=\"78.9375\" y2=\"78.9375\"/></a><!--MD5=[09b614a08d8cba4a07c9adeb5e0fee81]\n",
       "class E3--><a href=\"psysml:692e246d-2e17-48ff-a8f3-1c9cda9639f6\" target=\"_top\" title=\"psysml:692e246d-2e17-48ff-a8f3-1c9cda9639f6\" xlink:actuate=\"onRequest\" xlink:href=\"psysml:692e246d-2e17-48ff-a8f3-1c9cda9639f6\" xlink:show=\"new\" xlink:title=\"psysml:692e246d-2e17-48ff-a8f3-1c9cda9639f6\" xlink:type=\"simple\"><rect fill=\"#FFFFFF\" height=\"45.9375\" id=\"E3\" rx=\"10\" ry=\"10\" style=\"stroke: #383838; stroke-width: 1.5;\" width=\"42\" x=\"133\" y=\"147\"/><text fill=\"#000000\" font-family=\"sans-serif\" font-size=\"12\" font-style=\"italic\" lengthAdjust=\"spacingAndGlyphs\" textLength=\"40\" x=\"134\" y=\"163.1387\">«part»</text><text fill=\"#000000\" font-family=\"sans-serif\" font-size=\"12\" lengthAdjust=\"spacingAndGlyphs\" textLength=\"8\" x=\"150\" y=\"177.1074\">a</text><line style=\"stroke: #383838; stroke-width: 1.5;\" x1=\"134\" x2=\"174\" y1=\"184.9375\" y2=\"184.9375\"/></a><!--MD5=[ebbe1d658d1005bcc118a6aa81145e00]\n",
       "class E4--><a href=\"psysml:8521a391-022b-403d-ab54-4e64ea01dd3a\" target=\"_top\" title=\"psysml:8521a391-022b-403d-ab54-4e64ea01dd3a\" xlink:actuate=\"onRequest\" xlink:href=\"psysml:8521a391-022b-403d-ab54-4e64ea01dd3a\" xlink:show=\"new\" xlink:title=\"psysml:8521a391-022b-403d-ab54-4e64ea01dd3a\" xlink:type=\"simple\"><rect fill=\"#FFFFFF\" height=\"45.9375\" id=\"E4\" style=\"stroke: #383838; stroke-width: 1.5;\" width=\"66\" x=\"32\" y=\"41\"/><text fill=\"#000000\" font-family=\"sans-serif\" font-size=\"12\" font-style=\"italic\" lengthAdjust=\"spacingAndGlyphs\" textLength=\"64\" x=\"33\" y=\"57.1387\">«part def»</text><text fill=\"#000000\" font-family=\"sans-serif\" font-size=\"12\" lengthAdjust=\"spacingAndGlyphs\" textLength=\"8\" x=\"61\" y=\"71.1074\">C</text><line style=\"stroke: #383838; stroke-width: 1.5;\" x1=\"33\" x2=\"97\" y1=\"78.9375\" y2=\"78.9375\"/></a><!--MD5=[270fce915f116d4de14055a7c1d9a0f3]\n",
       "class E5--><a href=\"psysml:7c666d7d-6a66-4269-8e3a-229640bb6ad0\" target=\"_top\" title=\"psysml:7c666d7d-6a66-4269-8e3a-229640bb6ad0\" xlink:actuate=\"onRequest\" xlink:href=\"psysml:7c666d7d-6a66-4269-8e3a-229640bb6ad0\" xlink:show=\"new\" xlink:title=\"psysml:7c666d7d-6a66-4269-8e3a-229640bb6ad0\" xlink:type=\"simple\"><rect fill=\"#FFFFFF\" height=\"45.9375\" id=\"E5\" rx=\"10\" ry=\"10\" style=\"stroke: #383838; stroke-width: 1.5;\" width=\"42\" x=\"44\" y=\"147\"/><text fill=\"#000000\" font-family=\"sans-serif\" font-size=\"12\" font-style=\"italic\" lengthAdjust=\"spacingAndGlyphs\" textLength=\"40\" x=\"45\" y=\"163.1387\">«part»</text><text fill=\"#000000\" font-family=\"sans-serif\" font-size=\"12\" lengthAdjust=\"spacingAndGlyphs\" textLength=\"8\" x=\"61\" y=\"177.1074\">g</text><line style=\"stroke: #383838; stroke-width: 1.5;\" x1=\"45\" x2=\"85\" y1=\"184.9375\" y2=\"184.9375\"/></a><!--MD5=[209b3feb70ccb6233bfe1053d122c12c]\n",
       "reverse link E2 to E3--><a href=\"psysml:71ed813c-2f6a-4d13-b6a9-9d55dbb4d689\" target=\"_top\" title=\"psysml:71ed813c-2f6a-4d13-b6a9-9d55dbb4d689\" xlink:actuate=\"onRequest\" xlink:href=\"psysml:71ed813c-2f6a-4d13-b6a9-9d55dbb4d689\" xlink:show=\"new\" xlink:title=\"psysml:71ed813c-2f6a-4d13-b6a9-9d55dbb4d689\" xlink:type=\"simple\"><path d=\"M154,100.44 C154,115.87 154,133.47 154,146.98 \" fill=\"none\" id=\"E2&lt;-E3\" style=\"stroke: #383838; stroke-width: 1.0;\"/><polygon fill=\"#383838\" points=\"154,87.06,150,93.06,154,99.06,158,93.06,154,87.06\" style=\"stroke: #383838; stroke-width: 1.0;\"/></a><!--MD5=[62aa6af11e70f752912c1cb0466f24f7]\n",
       "reverse link E4 to E5--><a href=\"psysml:66a9662c-d0de-409c-b1e7-d598996fdcb0\" target=\"_top\" title=\"psysml:66a9662c-d0de-409c-b1e7-d598996fdcb0\" xlink:actuate=\"onRequest\" xlink:href=\"psysml:66a9662c-d0de-409c-b1e7-d598996fdcb0\" xlink:show=\"new\" xlink:title=\"psysml:66a9662c-d0de-409c-b1e7-d598996fdcb0\" xlink:type=\"simple\"><path d=\"M65,100.44 C65,115.87 65,133.47 65,146.98 \" fill=\"none\" id=\"E4&lt;-E5\" style=\"stroke: #383838; stroke-width: 1.0;\"/><polygon fill=\"#383838\" points=\"65,87.06,61,93.06,65,99.06,69,93.06,65,87.06\" style=\"stroke: #383838; stroke-width: 1.0;\"/></a><!--MD5=[262d542238e35ad1e1cea204ae40d33e]\n",
       "@startuml\r\n",
       " skinparam monochrome true\r\n",
       "skinparam classbackgroundcolor white\r\n",
       "skinparam shadowing false\r\n",
       "skinparam wrapWidth 300\r\n",
       "hide circle\r\n",
       "\r\n",
       "package \"Q\" as E1  [[psysml:48e9f940-1f69-4218-811f-6a29c7cbfcb6 ]]  {\r\n",
       "comp usage \"f\" as E2  <<(T,blue)part>> [[psysml:a224f497-53a8-4c97-a678-1669f6411a1a ]] {\r\n",
       "}\r\n",
       "comp usage \"a\" as E3  <<(T,blue)part>> [[psysml:692e246d-2e17-48ff-a8f3-1c9cda9639f6 ]] {\r\n",
       "}\r\n",
       "comp def \"C\" as E4  <<(T,blue)part def>> [[psysml:8521a391-022b-403d-ab54-4e64ea01dd3a ]] {\r\n",
       "}\r\n",
       "comp usage \"g\" as E5  <<(T,blue)part>> [[psysml:7c666d7d-6a66-4269-8e3a-229640bb6ad0 ]] {\r\n",
       "}\r\n",
       "E2 *- - E3 [[psysml:71ed813c-2f6a-4d13-b6a9-9d55dbb4d689 ]] \r\n",
       "E4 *- - E5 [[psysml:66a9662c-d0de-409c-b1e7-d598996fdcb0 ]] \r\n",
       "}\r\n",
       "@enduml\r\n",
       "\n",
       "PlantUML version 1.2020.13(Sat Jun 13 12:26:38 UTC 2020)\n",
       "(EPL source distribution)\n",
       "Java Runtime: OpenJDK Runtime Environment\n",
       "JVM: OpenJDK 64-Bit Server VM\n",
       "Default Encoding: UTF-8\n",
       "Language: en\n",
       "Country: null\n",
       "--></g></svg>"
      ]
     },
     "execution_count": 3,
     "metadata": {},
     "output_type": "execute_result"
    }
   ],
   "source": [
    "%viz --style=\"COMPTREE\" --view=\"Tree\" \"Q\""
   ]
  },
  {
   "cell_type": "code",
   "execution_count": 4,
   "id": "bb10ec02",
   "metadata": {
    "execution": {
     "iopub.execute_input": "2021-04-21T20:20:59.951913Z",
     "iopub.status.busy": "2021-04-21T20:20:59.951407Z",
     "iopub.status.idle": "2021-04-21T20:20:59.962449Z",
     "shell.execute_reply": "2021-04-21T20:20:59.962816Z"
    }
   },
   "outputs": [
    {
     "data": {
      "image/svg+xml": [
       "<?xml version=\"1.0\" encoding=\"UTF-8\" standalone=\"no\"?><svg xmlns=\"http://www.w3.org/2000/svg\" xmlns:xlink=\"http://www.w3.org/1999/xlink\" contentScriptType=\"application/ecmascript\" contentStyleType=\"text/css\" height=\"12px\" preserveAspectRatio=\"none\" style=\"width:12px;height:12px;\" version=\"1.1\" viewBox=\"0 0 12 12\" width=\"12px\" zoomAndPan=\"magnify\"><defs/><g><!--MD5=[f19188ef49e11757b5c46753f95d9edc]\n",
       "@startuml\r\n",
       " skinparam monochrome true\r\n",
       "skinparam classbackgroundcolor white\r\n",
       "skinparam shadowing false\r\n",
       "skinparam wrapWidth 300\r\n",
       "hide circle\r\n",
       "\r\n",
       "@enduml\r\n",
       "\n",
       "PlantUML version 1.2020.13(Sat Jun 13 12:26:38 UTC 2020)\n",
       "(EPL source distribution)\n",
       "Java Runtime: OpenJDK Runtime Environment\n",
       "JVM: OpenJDK 64-Bit Server VM\n",
       "Default Encoding: UTF-8\n",
       "Language: en\n",
       "Country: null\n",
       "--></g></svg>"
      ]
     },
     "execution_count": 4,
     "metadata": {},
     "output_type": "execute_result"
    }
   ],
   "source": [
    "%viz --style=\"COMPTREE\" --view=\"State\" \"Q\""
   ]
  },
  {
   "cell_type": "code",
   "execution_count": 5,
   "id": "3fe279bb",
   "metadata": {
    "execution": {
     "iopub.execute_input": "2021-04-21T20:21:00.014432Z",
     "iopub.status.busy": "2021-04-21T20:21:00.013988Z",
     "iopub.status.idle": "2021-04-21T20:21:00.080321Z",
     "shell.execute_reply": "2021-04-21T20:21:00.079921Z"
    }
   },
   "outputs": [
    {
     "data": {
      "image/svg+xml": [
       "<?xml version=\"1.0\" encoding=\"UTF-8\" standalone=\"no\"?><svg xmlns=\"http://www.w3.org/2000/svg\" xmlns:xlink=\"http://www.w3.org/1999/xlink\" contentScriptType=\"application/ecmascript\" contentStyleType=\"text/css\" height=\"192px\" preserveAspectRatio=\"none\" style=\"width:286px;height:192px;\" version=\"1.1\" viewBox=\"0 0 286 192\" width=\"286px\" zoomAndPan=\"magnify\"><defs/><g><!--MD5=[fbc87193dbaf4d95561dea2c320d4a47]\n",
       "cluster E1--><a href=\"psysml:48e9f940-1f69-4218-811f-6a29c7cbfcb6\" target=\"_top\" title=\"psysml:48e9f940-1f69-4218-811f-6a29c7cbfcb6\" xlink:actuate=\"onRequest\" xlink:href=\"psysml:48e9f940-1f69-4218-811f-6a29c7cbfcb6\" xlink:show=\"new\" xlink:title=\"psysml:48e9f940-1f69-4218-811f-6a29c7cbfcb6\" xlink:type=\"simple\"><polygon fill=\"#FFFFFF\" points=\"16,6,34,6,41,28.2969,264,28.2969,264,180,16,180,16,6\" style=\"stroke: #000000; stroke-width: 1.5;\"/><line style=\"stroke: #000000; stroke-width: 1.5;\" x1=\"16\" x2=\"41\" y1=\"28.2969\" y2=\"28.2969\"/><text fill=\"#000000\" font-family=\"sans-serif\" font-size=\"14\" font-weight=\"bold\" lengthAdjust=\"spacingAndGlyphs\" textLength=\"12\" x=\"20\" y=\"20.9951\">Q</text></a><!--MD5=[e4f7fae6ed58524ba242bb0b0d3be6b7]\n",
       "cluster E2--><a href=\"psysml:a224f497-53a8-4c97-a678-1669f6411a1a\" target=\"_top\" title=\"psysml:a224f497-53a8-4c97-a678-1669f6411a1a\" xlink:actuate=\"onRequest\" xlink:href=\"psysml:a224f497-53a8-4c97-a678-1669f6411a1a\" xlink:show=\"new\" xlink:title=\"psysml:a224f497-53a8-4c97-a678-1669f6411a1a\" xlink:type=\"simple\"><rect fill=\"#FFFFFF\" height=\"91\" id=\"E2\" rx=\"10\" ry=\"10\" style=\"stroke: #383838; stroke-width: 1.5;\" width=\"82\" x=\"158\" y=\"65\"/><rect fill=\"#F8F8F8\" height=\"23.9688\" rx=\"10\" ry=\"10\" style=\"stroke: #F8F8F8; stroke-width: 1.5;\" width=\"82\" x=\"158\" y=\"65\"/><rect fill=\"#F8F8F8\" height=\"10\" style=\"stroke: #F8F8F8; stroke-width: 1.5;\" width=\"82\" x=\"158\" y=\"78.9688\"/><rect fill=\"none\" height=\"91\" id=\"E2\" rx=\"10\" ry=\"10\" style=\"stroke: #383838; stroke-width: 1.5;\" width=\"82\" x=\"158\" y=\"65\"/><text fill=\"#000000\" font-family=\"sans-serif\" font-size=\"12\" lengthAdjust=\"spacingAndGlyphs\" textLength=\"4\" x=\"197\" y=\"81.1387\">f</text><line style=\"stroke: #383838; stroke-width: 1.0;\" x1=\"158\" x2=\"240\" y1=\"88.9688\" y2=\"88.9688\"/></a><!--MD5=[f6df4d0ebaf0b5dfb2ced0ae5af7c670]\n",
       "cluster E4--><a href=\"psysml:8521a391-022b-403d-ab54-4e64ea01dd3a\" target=\"_top\" title=\"psysml:8521a391-022b-403d-ab54-4e64ea01dd3a\" xlink:actuate=\"onRequest\" xlink:href=\"psysml:8521a391-022b-403d-ab54-4e64ea01dd3a\" xlink:show=\"new\" xlink:title=\"psysml:8521a391-022b-403d-ab54-4e64ea01dd3a\" xlink:type=\"simple\"><rect fill=\"#FFFFFF\" height=\"107\" id=\"E4\" style=\"stroke: #383838; stroke-width: 1.5;\" width=\"94\" x=\"40\" y=\"49\"/><rect fill=\"#F8F8F8\" height=\"37.9375\" style=\"stroke: #383838; stroke-width: 1.5;\" width=\"94\" x=\"40\" y=\"49\"/><text fill=\"#000000\" font-family=\"sans-serif\" font-size=\"12\" font-style=\"italic\" lengthAdjust=\"spacingAndGlyphs\" textLength=\"64\" x=\"55\" y=\"65.1387\">«part def»</text><text fill=\"#000000\" font-family=\"sans-serif\" font-size=\"12\" lengthAdjust=\"spacingAndGlyphs\" textLength=\"8\" x=\"83\" y=\"79.1074\">C</text></a><g id=\"E1.E2.E3\"><a href=\"psysml:692e246d-2e17-48ff-a8f3-1c9cda9639f6\" target=\"_top\" title=\"psysml:692e246d-2e17-48ff-a8f3-1c9cda9639f6\" xlink:actuate=\"onRequest\" xlink:href=\"psysml:692e246d-2e17-48ff-a8f3-1c9cda9639f6\" xlink:show=\"new\" xlink:title=\"psysml:692e246d-2e17-48ff-a8f3-1c9cda9639f6\" xlink:type=\"simple\"><rect fill=\"#FFFFFF\" height=\"40\" id=\"E3\" rx=\"10\" ry=\"10\" style=\"stroke: #383838; stroke-width: 1.5;\" width=\"50\" x=\"174\" y=\"100\"/><rect fill=\"#F8F8F8\" height=\"23.9688\" rx=\"10\" ry=\"10\" style=\"stroke: #F8F8F8; stroke-width: 1.5;\" width=\"50\" x=\"174\" y=\"100\"/><rect fill=\"#F8F8F8\" height=\"10\" style=\"stroke: #F8F8F8; stroke-width: 1.5;\" width=\"50\" x=\"174\" y=\"113.9688\"/><rect fill=\"none\" height=\"40\" id=\"E3\" rx=\"10\" ry=\"10\" style=\"stroke: #383838; stroke-width: 1.5;\" width=\"50\" x=\"174\" y=\"100\"/><text fill=\"#000000\" font-family=\"sans-serif\" font-size=\"12\" lengthAdjust=\"spacingAndGlyphs\" textLength=\"8\" x=\"195\" y=\"116.1387\">a</text></a></g><g id=\"E1.E4.E5\"><a href=\"psysml:7c666d7d-6a66-4269-8e3a-229640bb6ad0\" target=\"_top\" title=\"psysml:7c666d7d-6a66-4269-8e3a-229640bb6ad0\" xlink:actuate=\"onRequest\" xlink:href=\"psysml:7c666d7d-6a66-4269-8e3a-229640bb6ad0\" xlink:show=\"new\" xlink:title=\"psysml:7c666d7d-6a66-4269-8e3a-229640bb6ad0\" xlink:type=\"simple\"><rect fill=\"#FFFFFF\" height=\"40\" id=\"E5\" rx=\"10\" ry=\"10\" style=\"stroke: #383838; stroke-width: 1.5;\" width=\"61\" x=\"56.5\" y=\"100\"/><rect fill=\"#F8F8F8\" height=\"23.9688\" rx=\"10\" ry=\"10\" style=\"stroke: #F8F8F8; stroke-width: 1.5;\" width=\"61\" x=\"56.5\" y=\"100\"/><rect fill=\"#F8F8F8\" height=\"10\" style=\"stroke: #F8F8F8; stroke-width: 1.5;\" width=\"61\" x=\"56.5\" y=\"113.9688\"/><rect fill=\"none\" height=\"40\" id=\"E5\" rx=\"10\" ry=\"10\" style=\"stroke: #383838; stroke-width: 1.5;\" width=\"61\" x=\"56.5\" y=\"100\"/><text fill=\"#000000\" font-family=\"sans-serif\" font-size=\"12\" lengthAdjust=\"spacingAndGlyphs\" textLength=\"46\" x=\"62\" y=\"116.1387\">g=./f/a;</text></a></g><!--MD5=[a904d3b290e164b02bc7bcd789ffb7f3]\n",
       "@startuml\r\n",
       "skinparam ranksep 10\r\n",
       "skinparam rectangle {\r\n",
       " backgroundColor<<block>> LightGreen\r\n",
       "}\r\n",
       " skinparam monochrome true\r\n",
       "skinparam classbackgroundcolor white\r\n",
       "skinparam shadowing false\r\n",
       "skinparam wrapWidth 300\r\n",
       "hide circle\r\n",
       "\r\n",
       "package \"Q\" as E1  [[psysml:48e9f940-1f69-4218-811f-6a29c7cbfcb6 ]]  {\r\n",
       "rec usage \"f\" as E2  [[psysml:a224f497-53a8-4c97-a678-1669f6411a1a ]] {\r\n",
       "rec usage \"a\" as E3  [[psysml:692e246d-2e17-48ff-a8f3-1c9cda9639f6 ]] {\r\n",
       "}\r\n",
       "}\r\n",
       "rec def \"C\" as E4  <<(T,blue)part def>> [[psysml:8521a391-022b-403d-ab54-4e64ea01dd3a ]] {\r\n",
       "rec usage \"g=./f/a; \" as E5  [[psysml:7c666d7d-6a66-4269-8e3a-229640bb6ad0 ]] {\r\n",
       "}\r\n",
       "}\r\n",
       "}\r\n",
       "@enduml\r\n",
       "\n",
       "PlantUML version 1.2020.13(Sat Jun 13 12:26:38 UTC 2020)\n",
       "(EPL source distribution)\n",
       "Java Runtime: OpenJDK Runtime Environment\n",
       "JVM: OpenJDK 64-Bit Server VM\n",
       "Default Encoding: UTF-8\n",
       "Language: en\n",
       "Country: null\n",
       "--></g></svg>"
      ]
     },
     "execution_count": 5,
     "metadata": {},
     "output_type": "execute_result"
    }
   ],
   "source": [
    "%viz --style=\"COMPTREE\" --view=\"Interconnection\" \"Q\""
   ]
  },
  {
   "cell_type": "code",
   "execution_count": 6,
   "id": "c69a48b0",
   "metadata": {
    "execution": {
     "iopub.execute_input": "2021-04-21T20:21:00.131020Z",
     "iopub.status.busy": "2021-04-21T20:21:00.130474Z",
     "iopub.status.idle": "2021-04-21T20:21:00.141588Z",
     "shell.execute_reply": "2021-04-21T20:21:00.142027Z"
    }
   },
   "outputs": [
    {
     "data": {
      "image/svg+xml": [
       "<?xml version=\"1.0\" encoding=\"UTF-8\" standalone=\"no\"?><svg xmlns=\"http://www.w3.org/2000/svg\" xmlns:xlink=\"http://www.w3.org/1999/xlink\" contentScriptType=\"application/ecmascript\" contentStyleType=\"text/css\" height=\"12px\" preserveAspectRatio=\"none\" style=\"width:12px;height:12px;\" version=\"1.1\" viewBox=\"0 0 12 12\" width=\"12px\" zoomAndPan=\"magnify\"><defs/><g><!--MD5=[655b888544ca4751ea36af1068543f84]\n",
       "@startuml\r\n",
       "skinparam ranksep 8\r\n",
       " skinparam monochrome true\r\n",
       "skinparam classbackgroundcolor white\r\n",
       "skinparam shadowing false\r\n",
       "skinparam wrapWidth 300\r\n",
       "hide circle\r\n",
       "\r\n",
       "@enduml\r\n",
       "\n",
       "PlantUML version 1.2020.13(Sat Jun 13 12:26:38 UTC 2020)\n",
       "(EPL source distribution)\n",
       "Java Runtime: OpenJDK Runtime Environment\n",
       "JVM: OpenJDK 64-Bit Server VM\n",
       "Default Encoding: UTF-8\n",
       "Language: en\n",
       "Country: null\n",
       "--></g></svg>"
      ]
     },
     "execution_count": 6,
     "metadata": {},
     "output_type": "execute_result"
    }
   ],
   "source": [
    "%viz --style=\"COMPTREE\" --view=\"Action\" \"Q\""
   ]
  },
  {
   "cell_type": "code",
   "execution_count": 7,
   "id": "1c8ec70d",
   "metadata": {
    "execution": {
     "iopub.execute_input": "2021-04-21T20:21:00.192308Z",
     "iopub.status.busy": "2021-04-21T20:21:00.191877Z",
     "iopub.status.idle": "2021-04-21T20:21:00.245321Z",
     "shell.execute_reply": "2021-04-21T20:21:00.243891Z"
    }
   },
   "outputs": [
    {
     "data": {
      "image/svg+xml": [
       "<?xml version=\"1.0\" encoding=\"UTF-8\" standalone=\"no\"?><svg xmlns=\"http://www.w3.org/2000/svg\" xmlns:xlink=\"http://www.w3.org/1999/xlink\" contentScriptType=\"application/ecmascript\" contentStyleType=\"text/css\" height=\"221px\" preserveAspectRatio=\"none\" style=\"width:213px;height:221px;\" version=\"1.1\" viewBox=\"0 0 213 221\" width=\"213px\" zoomAndPan=\"magnify\"><defs/><g><!--MD5=[fbc87193dbaf4d95561dea2c320d4a47]\n",
       "cluster E1--><a href=\"psysml:48e9f940-1f69-4218-811f-6a29c7cbfcb6\" target=\"_top\" title=\"psysml:48e9f940-1f69-4218-811f-6a29c7cbfcb6\" xlink:actuate=\"onRequest\" xlink:href=\"psysml:48e9f940-1f69-4218-811f-6a29c7cbfcb6\" xlink:show=\"new\" xlink:title=\"psysml:48e9f940-1f69-4218-811f-6a29c7cbfcb6\" xlink:type=\"simple\"><polygon fill=\"#FFFFFF\" points=\"16,6,34,6,41,28.2969,191,28.2969,191,209,16,209,16,6\" style=\"stroke: #000000; stroke-width: 1.5;\"/><line style=\"stroke: #000000; stroke-width: 1.5;\" x1=\"16\" x2=\"41\" y1=\"28.2969\" y2=\"28.2969\"/><text fill=\"#000000\" font-family=\"sans-serif\" font-size=\"14\" font-weight=\"bold\" lengthAdjust=\"spacingAndGlyphs\" textLength=\"12\" x=\"20\" y=\"20.9951\">Q</text></a><!--MD5=[b4997ac47864f28c2f74865a473b2911]\n",
       "class E2--><a href=\"psysml:a224f497-53a8-4c97-a678-1669f6411a1a\" target=\"_top\" title=\"psysml:a224f497-53a8-4c97-a678-1669f6411a1a\" xlink:actuate=\"onRequest\" xlink:href=\"psysml:a224f497-53a8-4c97-a678-1669f6411a1a\" xlink:show=\"new\" xlink:title=\"psysml:a224f497-53a8-4c97-a678-1669f6411a1a\" xlink:type=\"simple\"><rect fill=\"#FFFFFF\" height=\"45.9375\" id=\"E2\" rx=\"10\" ry=\"10\" style=\"stroke: #383838; stroke-width: 1.5;\" width=\"42\" x=\"133\" y=\"41\"/><text fill=\"#000000\" font-family=\"sans-serif\" font-size=\"12\" font-style=\"italic\" lengthAdjust=\"spacingAndGlyphs\" textLength=\"40\" x=\"134\" y=\"57.1387\">«part»</text><text fill=\"#000000\" font-family=\"sans-serif\" font-size=\"12\" lengthAdjust=\"spacingAndGlyphs\" textLength=\"4\" x=\"152\" y=\"71.1074\">f</text><line style=\"stroke: #383838; stroke-width: 1.5;\" x1=\"134\" x2=\"174\" y1=\"78.9375\" y2=\"78.9375\"/></a><!--MD5=[09b614a08d8cba4a07c9adeb5e0fee81]\n",
       "class E3--><a href=\"psysml:692e246d-2e17-48ff-a8f3-1c9cda9639f6\" target=\"_top\" title=\"psysml:692e246d-2e17-48ff-a8f3-1c9cda9639f6\" xlink:actuate=\"onRequest\" xlink:href=\"psysml:692e246d-2e17-48ff-a8f3-1c9cda9639f6\" xlink:show=\"new\" xlink:title=\"psysml:692e246d-2e17-48ff-a8f3-1c9cda9639f6\" xlink:type=\"simple\"><rect fill=\"#FFFFFF\" height=\"45.9375\" id=\"E3\" rx=\"10\" ry=\"10\" style=\"stroke: #383838; stroke-width: 1.5;\" width=\"42\" x=\"133\" y=\"147\"/><text fill=\"#000000\" font-family=\"sans-serif\" font-size=\"12\" font-style=\"italic\" lengthAdjust=\"spacingAndGlyphs\" textLength=\"40\" x=\"134\" y=\"163.1387\">«part»</text><text fill=\"#000000\" font-family=\"sans-serif\" font-size=\"12\" lengthAdjust=\"spacingAndGlyphs\" textLength=\"8\" x=\"150\" y=\"177.1074\">a</text><line style=\"stroke: #383838; stroke-width: 1.5;\" x1=\"134\" x2=\"174\" y1=\"184.9375\" y2=\"184.9375\"/></a><!--MD5=[ebbe1d658d1005bcc118a6aa81145e00]\n",
       "class E4--><a href=\"psysml:8521a391-022b-403d-ab54-4e64ea01dd3a\" target=\"_top\" title=\"psysml:8521a391-022b-403d-ab54-4e64ea01dd3a\" xlink:actuate=\"onRequest\" xlink:href=\"psysml:8521a391-022b-403d-ab54-4e64ea01dd3a\" xlink:show=\"new\" xlink:title=\"psysml:8521a391-022b-403d-ab54-4e64ea01dd3a\" xlink:type=\"simple\"><rect fill=\"#FFFFFF\" height=\"45.9375\" id=\"E4\" style=\"stroke: #383838; stroke-width: 1.5;\" width=\"66\" x=\"32\" y=\"41\"/><text fill=\"#000000\" font-family=\"sans-serif\" font-size=\"12\" font-style=\"italic\" lengthAdjust=\"spacingAndGlyphs\" textLength=\"64\" x=\"33\" y=\"57.1387\">«part def»</text><text fill=\"#000000\" font-family=\"sans-serif\" font-size=\"12\" lengthAdjust=\"spacingAndGlyphs\" textLength=\"8\" x=\"61\" y=\"71.1074\">C</text><line style=\"stroke: #383838; stroke-width: 1.5;\" x1=\"33\" x2=\"97\" y1=\"78.9375\" y2=\"78.9375\"/></a><!--MD5=[270fce915f116d4de14055a7c1d9a0f3]\n",
       "class E5--><a href=\"psysml:7c666d7d-6a66-4269-8e3a-229640bb6ad0\" target=\"_top\" title=\"psysml:7c666d7d-6a66-4269-8e3a-229640bb6ad0\" xlink:actuate=\"onRequest\" xlink:href=\"psysml:7c666d7d-6a66-4269-8e3a-229640bb6ad0\" xlink:show=\"new\" xlink:title=\"psysml:7c666d7d-6a66-4269-8e3a-229640bb6ad0\" xlink:type=\"simple\"><rect fill=\"#FFFFFF\" height=\"45.9375\" id=\"E5\" rx=\"10\" ry=\"10\" style=\"stroke: #383838; stroke-width: 1.5;\" width=\"42\" x=\"44\" y=\"147\"/><text fill=\"#000000\" font-family=\"sans-serif\" font-size=\"12\" font-style=\"italic\" lengthAdjust=\"spacingAndGlyphs\" textLength=\"40\" x=\"45\" y=\"163.1387\">«part»</text><text fill=\"#000000\" font-family=\"sans-serif\" font-size=\"12\" lengthAdjust=\"spacingAndGlyphs\" textLength=\"8\" x=\"61\" y=\"177.1074\">g</text><line style=\"stroke: #383838; stroke-width: 1.5;\" x1=\"45\" x2=\"85\" y1=\"184.9375\" y2=\"184.9375\"/></a><!--MD5=[209b3feb70ccb6233bfe1053d122c12c]\n",
       "reverse link E2 to E3--><a href=\"psysml:71ed813c-2f6a-4d13-b6a9-9d55dbb4d689\" target=\"_top\" title=\"psysml:71ed813c-2f6a-4d13-b6a9-9d55dbb4d689\" xlink:actuate=\"onRequest\" xlink:href=\"psysml:71ed813c-2f6a-4d13-b6a9-9d55dbb4d689\" xlink:show=\"new\" xlink:title=\"psysml:71ed813c-2f6a-4d13-b6a9-9d55dbb4d689\" xlink:type=\"simple\"><path d=\"M154,100.44 C154,115.87 154,133.47 154,146.98 \" fill=\"none\" id=\"E2&lt;-E3\" style=\"stroke: #383838; stroke-width: 1.0;\"/><polygon fill=\"#383838\" points=\"154,87.06,150,93.06,154,99.06,158,93.06,154,87.06\" style=\"stroke: #383838; stroke-width: 1.0;\"/></a><!--MD5=[62aa6af11e70f752912c1cb0466f24f7]\n",
       "reverse link E4 to E5--><a href=\"psysml:66a9662c-d0de-409c-b1e7-d598996fdcb0\" target=\"_top\" title=\"psysml:66a9662c-d0de-409c-b1e7-d598996fdcb0\" xlink:actuate=\"onRequest\" xlink:href=\"psysml:66a9662c-d0de-409c-b1e7-d598996fdcb0\" xlink:show=\"new\" xlink:title=\"psysml:66a9662c-d0de-409c-b1e7-d598996fdcb0\" xlink:type=\"simple\"><path d=\"M65,100.44 C65,115.87 65,133.47 65,146.98 \" fill=\"none\" id=\"E4&lt;-E5\" style=\"stroke: #383838; stroke-width: 1.0;\"/><polygon fill=\"#383838\" points=\"65,87.06,61,93.06,65,99.06,69,93.06,65,87.06\" style=\"stroke: #383838; stroke-width: 1.0;\"/></a><!--MD5=[262d542238e35ad1e1cea204ae40d33e]\n",
       "@startuml\r\n",
       " skinparam monochrome true\r\n",
       "skinparam classbackgroundcolor white\r\n",
       "skinparam shadowing false\r\n",
       "skinparam wrapWidth 300\r\n",
       "hide circle\r\n",
       "\r\n",
       "package \"Q\" as E1  [[psysml:48e9f940-1f69-4218-811f-6a29c7cbfcb6 ]]  {\r\n",
       "comp usage \"f\" as E2  <<(T,blue)part>> [[psysml:a224f497-53a8-4c97-a678-1669f6411a1a ]] {\r\n",
       "}\r\n",
       "comp usage \"a\" as E3  <<(T,blue)part>> [[psysml:692e246d-2e17-48ff-a8f3-1c9cda9639f6 ]] {\r\n",
       "}\r\n",
       "comp def \"C\" as E4  <<(T,blue)part def>> [[psysml:8521a391-022b-403d-ab54-4e64ea01dd3a ]] {\r\n",
       "}\r\n",
       "comp usage \"g\" as E5  <<(T,blue)part>> [[psysml:7c666d7d-6a66-4269-8e3a-229640bb6ad0 ]] {\r\n",
       "}\r\n",
       "E2 *- - E3 [[psysml:71ed813c-2f6a-4d13-b6a9-9d55dbb4d689 ]] \r\n",
       "E4 *- - E5 [[psysml:66a9662c-d0de-409c-b1e7-d598996fdcb0 ]] \r\n",
       "}\r\n",
       "@enduml\r\n",
       "\n",
       "PlantUML version 1.2020.13(Sat Jun 13 12:26:38 UTC 2020)\n",
       "(EPL source distribution)\n",
       "Java Runtime: OpenJDK Runtime Environment\n",
       "JVM: OpenJDK 64-Bit Server VM\n",
       "Default Encoding: UTF-8\n",
       "Language: en\n",
       "Country: null\n",
       "--></g></svg>"
      ]
     },
     "execution_count": 7,
     "metadata": {},
     "output_type": "execute_result"
    }
   ],
   "source": [
    "%viz --style=\"COMPTREE\" --view=\"Sequence\" \"Q\""
   ]
  },
  {
   "cell_type": "code",
   "execution_count": 8,
   "id": "b113c5fe",
   "metadata": {
    "execution": {
     "iopub.execute_input": "2021-04-21T20:21:00.296053Z",
     "iopub.status.busy": "2021-04-21T20:21:00.294875Z",
     "iopub.status.idle": "2021-04-21T20:21:00.345513Z",
     "shell.execute_reply": "2021-04-21T20:21:00.345159Z"
    }
   },
   "outputs": [
    {
     "data": {
      "image/svg+xml": [
       "<?xml version=\"1.0\" encoding=\"UTF-8\" standalone=\"no\"?><svg xmlns=\"http://www.w3.org/2000/svg\" xmlns:xlink=\"http://www.w3.org/1999/xlink\" contentScriptType=\"application/ecmascript\" contentStyleType=\"text/css\" height=\"221px\" preserveAspectRatio=\"none\" style=\"width:213px;height:221px;\" version=\"1.1\" viewBox=\"0 0 213 221\" width=\"213px\" zoomAndPan=\"magnify\"><defs/><g><!--MD5=[fbc87193dbaf4d95561dea2c320d4a47]\n",
       "cluster E1--><a href=\"psysml:48e9f940-1f69-4218-811f-6a29c7cbfcb6\" target=\"_top\" title=\"psysml:48e9f940-1f69-4218-811f-6a29c7cbfcb6\" xlink:actuate=\"onRequest\" xlink:href=\"psysml:48e9f940-1f69-4218-811f-6a29c7cbfcb6\" xlink:show=\"new\" xlink:title=\"psysml:48e9f940-1f69-4218-811f-6a29c7cbfcb6\" xlink:type=\"simple\"><polygon fill=\"#FFFFFF\" points=\"16,6,34,6,41,28.2969,191,28.2969,191,209,16,209,16,6\" style=\"stroke: #000000; stroke-width: 1.5;\"/><line style=\"stroke: #000000; stroke-width: 1.5;\" x1=\"16\" x2=\"41\" y1=\"28.2969\" y2=\"28.2969\"/><text fill=\"#000000\" font-family=\"sans-serif\" font-size=\"14\" font-weight=\"bold\" lengthAdjust=\"spacingAndGlyphs\" textLength=\"12\" x=\"20\" y=\"20.9951\">Q</text></a><!--MD5=[b4997ac47864f28c2f74865a473b2911]\n",
       "class E2--><a href=\"psysml:a224f497-53a8-4c97-a678-1669f6411a1a\" target=\"_top\" title=\"psysml:a224f497-53a8-4c97-a678-1669f6411a1a\" xlink:actuate=\"onRequest\" xlink:href=\"psysml:a224f497-53a8-4c97-a678-1669f6411a1a\" xlink:show=\"new\" xlink:title=\"psysml:a224f497-53a8-4c97-a678-1669f6411a1a\" xlink:type=\"simple\"><rect fill=\"#FFFFFF\" height=\"45.9375\" id=\"E2\" rx=\"10\" ry=\"10\" style=\"stroke: #383838; stroke-width: 1.5;\" width=\"42\" x=\"133\" y=\"41\"/><text fill=\"#000000\" font-family=\"sans-serif\" font-size=\"12\" font-style=\"italic\" lengthAdjust=\"spacingAndGlyphs\" textLength=\"40\" x=\"134\" y=\"57.1387\">«part»</text><text fill=\"#000000\" font-family=\"sans-serif\" font-size=\"12\" lengthAdjust=\"spacingAndGlyphs\" textLength=\"4\" x=\"152\" y=\"71.1074\">f</text><line style=\"stroke: #383838; stroke-width: 1.5;\" x1=\"134\" x2=\"174\" y1=\"78.9375\" y2=\"78.9375\"/></a><!--MD5=[09b614a08d8cba4a07c9adeb5e0fee81]\n",
       "class E3--><a href=\"psysml:692e246d-2e17-48ff-a8f3-1c9cda9639f6\" target=\"_top\" title=\"psysml:692e246d-2e17-48ff-a8f3-1c9cda9639f6\" xlink:actuate=\"onRequest\" xlink:href=\"psysml:692e246d-2e17-48ff-a8f3-1c9cda9639f6\" xlink:show=\"new\" xlink:title=\"psysml:692e246d-2e17-48ff-a8f3-1c9cda9639f6\" xlink:type=\"simple\"><rect fill=\"#FFFFFF\" height=\"45.9375\" id=\"E3\" rx=\"10\" ry=\"10\" style=\"stroke: #383838; stroke-width: 1.5;\" width=\"42\" x=\"133\" y=\"147\"/><text fill=\"#000000\" font-family=\"sans-serif\" font-size=\"12\" font-style=\"italic\" lengthAdjust=\"spacingAndGlyphs\" textLength=\"40\" x=\"134\" y=\"163.1387\">«part»</text><text fill=\"#000000\" font-family=\"sans-serif\" font-size=\"12\" lengthAdjust=\"spacingAndGlyphs\" textLength=\"8\" x=\"150\" y=\"177.1074\">a</text><line style=\"stroke: #383838; stroke-width: 1.5;\" x1=\"134\" x2=\"174\" y1=\"184.9375\" y2=\"184.9375\"/></a><!--MD5=[ebbe1d658d1005bcc118a6aa81145e00]\n",
       "class E4--><a href=\"psysml:8521a391-022b-403d-ab54-4e64ea01dd3a\" target=\"_top\" title=\"psysml:8521a391-022b-403d-ab54-4e64ea01dd3a\" xlink:actuate=\"onRequest\" xlink:href=\"psysml:8521a391-022b-403d-ab54-4e64ea01dd3a\" xlink:show=\"new\" xlink:title=\"psysml:8521a391-022b-403d-ab54-4e64ea01dd3a\" xlink:type=\"simple\"><rect fill=\"#FFFFFF\" height=\"45.9375\" id=\"E4\" style=\"stroke: #383838; stroke-width: 1.5;\" width=\"66\" x=\"32\" y=\"41\"/><text fill=\"#000000\" font-family=\"sans-serif\" font-size=\"12\" font-style=\"italic\" lengthAdjust=\"spacingAndGlyphs\" textLength=\"64\" x=\"33\" y=\"57.1387\">«part def»</text><text fill=\"#000000\" font-family=\"sans-serif\" font-size=\"12\" lengthAdjust=\"spacingAndGlyphs\" textLength=\"8\" x=\"61\" y=\"71.1074\">C</text><line style=\"stroke: #383838; stroke-width: 1.5;\" x1=\"33\" x2=\"97\" y1=\"78.9375\" y2=\"78.9375\"/></a><!--MD5=[270fce915f116d4de14055a7c1d9a0f3]\n",
       "class E5--><a href=\"psysml:7c666d7d-6a66-4269-8e3a-229640bb6ad0\" target=\"_top\" title=\"psysml:7c666d7d-6a66-4269-8e3a-229640bb6ad0\" xlink:actuate=\"onRequest\" xlink:href=\"psysml:7c666d7d-6a66-4269-8e3a-229640bb6ad0\" xlink:show=\"new\" xlink:title=\"psysml:7c666d7d-6a66-4269-8e3a-229640bb6ad0\" xlink:type=\"simple\"><rect fill=\"#FFFFFF\" height=\"45.9375\" id=\"E5\" rx=\"10\" ry=\"10\" style=\"stroke: #383838; stroke-width: 1.5;\" width=\"42\" x=\"44\" y=\"147\"/><text fill=\"#000000\" font-family=\"sans-serif\" font-size=\"12\" font-style=\"italic\" lengthAdjust=\"spacingAndGlyphs\" textLength=\"40\" x=\"45\" y=\"163.1387\">«part»</text><text fill=\"#000000\" font-family=\"sans-serif\" font-size=\"12\" lengthAdjust=\"spacingAndGlyphs\" textLength=\"8\" x=\"61\" y=\"177.1074\">g</text><line style=\"stroke: #383838; stroke-width: 1.5;\" x1=\"45\" x2=\"85\" y1=\"184.9375\" y2=\"184.9375\"/></a><!--MD5=[209b3feb70ccb6233bfe1053d122c12c]\n",
       "reverse link E2 to E3--><a href=\"psysml:71ed813c-2f6a-4d13-b6a9-9d55dbb4d689\" target=\"_top\" title=\"psysml:71ed813c-2f6a-4d13-b6a9-9d55dbb4d689\" xlink:actuate=\"onRequest\" xlink:href=\"psysml:71ed813c-2f6a-4d13-b6a9-9d55dbb4d689\" xlink:show=\"new\" xlink:title=\"psysml:71ed813c-2f6a-4d13-b6a9-9d55dbb4d689\" xlink:type=\"simple\"><path d=\"M154,100.44 C154,115.87 154,133.47 154,146.98 \" fill=\"none\" id=\"E2&lt;-E3\" style=\"stroke: #383838; stroke-width: 1.0;\"/><polygon fill=\"#383838\" points=\"154,87.06,150,93.06,154,99.06,158,93.06,154,87.06\" style=\"stroke: #383838; stroke-width: 1.0;\"/></a><!--MD5=[62aa6af11e70f752912c1cb0466f24f7]\n",
       "reverse link E4 to E5--><a href=\"psysml:66a9662c-d0de-409c-b1e7-d598996fdcb0\" target=\"_top\" title=\"psysml:66a9662c-d0de-409c-b1e7-d598996fdcb0\" xlink:actuate=\"onRequest\" xlink:href=\"psysml:66a9662c-d0de-409c-b1e7-d598996fdcb0\" xlink:show=\"new\" xlink:title=\"psysml:66a9662c-d0de-409c-b1e7-d598996fdcb0\" xlink:type=\"simple\"><path d=\"M65,100.44 C65,115.87 65,133.47 65,146.98 \" fill=\"none\" id=\"E4&lt;-E5\" style=\"stroke: #383838; stroke-width: 1.0;\"/><polygon fill=\"#383838\" points=\"65,87.06,61,93.06,65,99.06,69,93.06,65,87.06\" style=\"stroke: #383838; stroke-width: 1.0;\"/></a><!--MD5=[262d542238e35ad1e1cea204ae40d33e]\n",
       "@startuml\r\n",
       " skinparam monochrome true\r\n",
       "skinparam classbackgroundcolor white\r\n",
       "skinparam shadowing false\r\n",
       "skinparam wrapWidth 300\r\n",
       "hide circle\r\n",
       "\r\n",
       "package \"Q\" as E1  [[psysml:48e9f940-1f69-4218-811f-6a29c7cbfcb6 ]]  {\r\n",
       "comp usage \"f\" as E2  <<(T,blue)part>> [[psysml:a224f497-53a8-4c97-a678-1669f6411a1a ]] {\r\n",
       "}\r\n",
       "comp usage \"a\" as E3  <<(T,blue)part>> [[psysml:692e246d-2e17-48ff-a8f3-1c9cda9639f6 ]] {\r\n",
       "}\r\n",
       "comp def \"C\" as E4  <<(T,blue)part def>> [[psysml:8521a391-022b-403d-ab54-4e64ea01dd3a ]] {\r\n",
       "}\r\n",
       "comp usage \"g\" as E5  <<(T,blue)part>> [[psysml:7c666d7d-6a66-4269-8e3a-229640bb6ad0 ]] {\r\n",
       "}\r\n",
       "E2 *- - E3 [[psysml:71ed813c-2f6a-4d13-b6a9-9d55dbb4d689 ]] \r\n",
       "E4 *- - E5 [[psysml:66a9662c-d0de-409c-b1e7-d598996fdcb0 ]] \r\n",
       "}\r\n",
       "@enduml\r\n",
       "\n",
       "PlantUML version 1.2020.13(Sat Jun 13 12:26:38 UTC 2020)\n",
       "(EPL source distribution)\n",
       "Java Runtime: OpenJDK Runtime Environment\n",
       "JVM: OpenJDK 64-Bit Server VM\n",
       "Default Encoding: UTF-8\n",
       "Language: en\n",
       "Country: null\n",
       "--></g></svg>"
      ]
     },
     "execution_count": 8,
     "metadata": {},
     "output_type": "execute_result"
    }
   ],
   "source": [
    "%viz --style=\"COMPTREE\" --view=\"MIXED\" \"Q\""
   ]
  },
  {
   "cell_type": "code",
   "execution_count": 9,
   "id": "9d5effe5",
   "metadata": {
    "execution": {
     "iopub.execute_input": "2021-04-21T20:21:00.395672Z",
     "iopub.status.busy": "2021-04-21T20:21:00.394998Z",
     "iopub.status.idle": "2021-04-21T20:21:00.450057Z",
     "shell.execute_reply": "2021-04-21T20:21:00.448132Z"
    }
   },
   "outputs": [
    {
     "data": {
      "image/svg+xml": [
       "<?xml version=\"1.0\" encoding=\"UTF-8\" standalone=\"no\"?><svg xmlns=\"http://www.w3.org/2000/svg\" xmlns:xlink=\"http://www.w3.org/1999/xlink\" contentScriptType=\"application/ecmascript\" contentStyleType=\"text/css\" height=\"221px\" preserveAspectRatio=\"none\" style=\"width:213px;height:221px;\" version=\"1.1\" viewBox=\"0 0 213 221\" width=\"213px\" zoomAndPan=\"magnify\"><defs/><g><!--MD5=[fbc87193dbaf4d95561dea2c320d4a47]\n",
       "cluster E1--><a href=\"psysml:48e9f940-1f69-4218-811f-6a29c7cbfcb6\" target=\"_top\" title=\"psysml:48e9f940-1f69-4218-811f-6a29c7cbfcb6\" xlink:actuate=\"onRequest\" xlink:href=\"psysml:48e9f940-1f69-4218-811f-6a29c7cbfcb6\" xlink:show=\"new\" xlink:title=\"psysml:48e9f940-1f69-4218-811f-6a29c7cbfcb6\" xlink:type=\"simple\"><polygon fill=\"#FFFFFF\" points=\"16,6,34,6,41,28.2969,191,28.2969,191,209,16,209,16,6\" style=\"stroke: #000000; stroke-width: 1.5;\"/><line style=\"stroke: #000000; stroke-width: 1.5;\" x1=\"16\" x2=\"41\" y1=\"28.2969\" y2=\"28.2969\"/><text fill=\"#000000\" font-family=\"sans-serif\" font-size=\"14\" font-weight=\"bold\" lengthAdjust=\"spacingAndGlyphs\" textLength=\"12\" x=\"20\" y=\"20.9951\">Q</text></a><!--MD5=[b4997ac47864f28c2f74865a473b2911]\n",
       "class E2--><a href=\"psysml:a224f497-53a8-4c97-a678-1669f6411a1a\" target=\"_top\" title=\"psysml:a224f497-53a8-4c97-a678-1669f6411a1a\" xlink:actuate=\"onRequest\" xlink:href=\"psysml:a224f497-53a8-4c97-a678-1669f6411a1a\" xlink:show=\"new\" xlink:title=\"psysml:a224f497-53a8-4c97-a678-1669f6411a1a\" xlink:type=\"simple\"><rect fill=\"#FFFFFF\" height=\"45.9375\" id=\"E2\" rx=\"10\" ry=\"10\" style=\"stroke: #383838; stroke-width: 1.5;\" width=\"42\" x=\"133\" y=\"41\"/><text fill=\"#000000\" font-family=\"sans-serif\" font-size=\"12\" font-style=\"italic\" lengthAdjust=\"spacingAndGlyphs\" textLength=\"40\" x=\"134\" y=\"57.1387\">«part»</text><text fill=\"#000000\" font-family=\"sans-serif\" font-size=\"12\" lengthAdjust=\"spacingAndGlyphs\" textLength=\"4\" x=\"152\" y=\"71.1074\">f</text><line style=\"stroke: #383838; stroke-width: 1.5;\" x1=\"134\" x2=\"174\" y1=\"78.9375\" y2=\"78.9375\"/></a><!--MD5=[09b614a08d8cba4a07c9adeb5e0fee81]\n",
       "class E3--><a href=\"psysml:692e246d-2e17-48ff-a8f3-1c9cda9639f6\" target=\"_top\" title=\"psysml:692e246d-2e17-48ff-a8f3-1c9cda9639f6\" xlink:actuate=\"onRequest\" xlink:href=\"psysml:692e246d-2e17-48ff-a8f3-1c9cda9639f6\" xlink:show=\"new\" xlink:title=\"psysml:692e246d-2e17-48ff-a8f3-1c9cda9639f6\" xlink:type=\"simple\"><rect fill=\"#FFFFFF\" height=\"45.9375\" id=\"E3\" rx=\"10\" ry=\"10\" style=\"stroke: #383838; stroke-width: 1.5;\" width=\"42\" x=\"133\" y=\"147\"/><text fill=\"#000000\" font-family=\"sans-serif\" font-size=\"12\" font-style=\"italic\" lengthAdjust=\"spacingAndGlyphs\" textLength=\"40\" x=\"134\" y=\"163.1387\">«part»</text><text fill=\"#000000\" font-family=\"sans-serif\" font-size=\"12\" lengthAdjust=\"spacingAndGlyphs\" textLength=\"8\" x=\"150\" y=\"177.1074\">a</text><line style=\"stroke: #383838; stroke-width: 1.5;\" x1=\"134\" x2=\"174\" y1=\"184.9375\" y2=\"184.9375\"/></a><!--MD5=[ebbe1d658d1005bcc118a6aa81145e00]\n",
       "class E4--><a href=\"psysml:8521a391-022b-403d-ab54-4e64ea01dd3a\" target=\"_top\" title=\"psysml:8521a391-022b-403d-ab54-4e64ea01dd3a\" xlink:actuate=\"onRequest\" xlink:href=\"psysml:8521a391-022b-403d-ab54-4e64ea01dd3a\" xlink:show=\"new\" xlink:title=\"psysml:8521a391-022b-403d-ab54-4e64ea01dd3a\" xlink:type=\"simple\"><rect fill=\"#FFFFFF\" height=\"45.9375\" id=\"E4\" style=\"stroke: #383838; stroke-width: 1.5;\" width=\"66\" x=\"32\" y=\"41\"/><text fill=\"#000000\" font-family=\"sans-serif\" font-size=\"12\" font-style=\"italic\" lengthAdjust=\"spacingAndGlyphs\" textLength=\"64\" x=\"33\" y=\"57.1387\">«part def»</text><text fill=\"#000000\" font-family=\"sans-serif\" font-size=\"12\" lengthAdjust=\"spacingAndGlyphs\" textLength=\"8\" x=\"61\" y=\"71.1074\">C</text><line style=\"stroke: #383838; stroke-width: 1.5;\" x1=\"33\" x2=\"97\" y1=\"78.9375\" y2=\"78.9375\"/></a><!--MD5=[270fce915f116d4de14055a7c1d9a0f3]\n",
       "class E5--><a href=\"psysml:7c666d7d-6a66-4269-8e3a-229640bb6ad0\" target=\"_top\" title=\"psysml:7c666d7d-6a66-4269-8e3a-229640bb6ad0\" xlink:actuate=\"onRequest\" xlink:href=\"psysml:7c666d7d-6a66-4269-8e3a-229640bb6ad0\" xlink:show=\"new\" xlink:title=\"psysml:7c666d7d-6a66-4269-8e3a-229640bb6ad0\" xlink:type=\"simple\"><rect fill=\"#FFFFFF\" height=\"45.9375\" id=\"E5\" rx=\"10\" ry=\"10\" style=\"stroke: #383838; stroke-width: 1.5;\" width=\"42\" x=\"44\" y=\"147\"/><text fill=\"#000000\" font-family=\"sans-serif\" font-size=\"12\" font-style=\"italic\" lengthAdjust=\"spacingAndGlyphs\" textLength=\"40\" x=\"45\" y=\"163.1387\">«part»</text><text fill=\"#000000\" font-family=\"sans-serif\" font-size=\"12\" lengthAdjust=\"spacingAndGlyphs\" textLength=\"8\" x=\"61\" y=\"177.1074\">g</text><line style=\"stroke: #383838; stroke-width: 1.5;\" x1=\"45\" x2=\"85\" y1=\"184.9375\" y2=\"184.9375\"/></a><!--MD5=[209b3feb70ccb6233bfe1053d122c12c]\n",
       "reverse link E2 to E3--><a href=\"psysml:71ed813c-2f6a-4d13-b6a9-9d55dbb4d689\" target=\"_top\" title=\"psysml:71ed813c-2f6a-4d13-b6a9-9d55dbb4d689\" xlink:actuate=\"onRequest\" xlink:href=\"psysml:71ed813c-2f6a-4d13-b6a9-9d55dbb4d689\" xlink:show=\"new\" xlink:title=\"psysml:71ed813c-2f6a-4d13-b6a9-9d55dbb4d689\" xlink:type=\"simple\"><path d=\"M154,100.44 C154,115.87 154,133.47 154,146.98 \" fill=\"none\" id=\"E2&lt;-E3\" style=\"stroke: #383838; stroke-width: 1.0;\"/><polygon fill=\"#383838\" points=\"154,87.06,150,93.06,154,99.06,158,93.06,154,87.06\" style=\"stroke: #383838; stroke-width: 1.0;\"/></a><!--MD5=[62aa6af11e70f752912c1cb0466f24f7]\n",
       "reverse link E4 to E5--><a href=\"psysml:66a9662c-d0de-409c-b1e7-d598996fdcb0\" target=\"_top\" title=\"psysml:66a9662c-d0de-409c-b1e7-d598996fdcb0\" xlink:actuate=\"onRequest\" xlink:href=\"psysml:66a9662c-d0de-409c-b1e7-d598996fdcb0\" xlink:show=\"new\" xlink:title=\"psysml:66a9662c-d0de-409c-b1e7-d598996fdcb0\" xlink:type=\"simple\"><path d=\"M65,100.44 C65,115.87 65,133.47 65,146.98 \" fill=\"none\" id=\"E4&lt;-E5\" style=\"stroke: #383838; stroke-width: 1.0;\"/><polygon fill=\"#383838\" points=\"65,87.06,61,93.06,65,99.06,69,93.06,65,87.06\" style=\"stroke: #383838; stroke-width: 1.0;\"/></a><!--MD5=[b972cfcf92a3e7b1b1fa0868dca34836]\n",
       "@startuml\r\n",
       "skinparam linetype polyline\r\n",
       "skinparam monochrome true\r\n",
       "skinparam classbackgroundcolor white\r\n",
       "skinparam shadowing false\r\n",
       "skinparam wrapWidth 300\r\n",
       "hide circle\r\n",
       "\r\n",
       "package \"Q\" as E1  [[psysml:48e9f940-1f69-4218-811f-6a29c7cbfcb6 ]]  {\r\n",
       "comp usage \"f\" as E2  <<(T,blue)part>> [[psysml:a224f497-53a8-4c97-a678-1669f6411a1a ]] {\r\n",
       "}\r\n",
       "comp usage \"a\" as E3  <<(T,blue)part>> [[psysml:692e246d-2e17-48ff-a8f3-1c9cda9639f6 ]] {\r\n",
       "}\r\n",
       "comp def \"C\" as E4  <<(T,blue)part def>> [[psysml:8521a391-022b-403d-ab54-4e64ea01dd3a ]] {\r\n",
       "}\r\n",
       "comp usage \"g\" as E5  <<(T,blue)part>> [[psysml:7c666d7d-6a66-4269-8e3a-229640bb6ad0 ]] {\r\n",
       "}\r\n",
       "E2 *- - E3 [[psysml:71ed813c-2f6a-4d13-b6a9-9d55dbb4d689 ]] \r\n",
       "E4 *- - E5 [[psysml:66a9662c-d0de-409c-b1e7-d598996fdcb0 ]] \r\n",
       "}\r\n",
       "@enduml\r\n",
       "\n",
       "PlantUML version 1.2020.13(Sat Jun 13 12:26:38 UTC 2020)\n",
       "(EPL source distribution)\n",
       "Java Runtime: OpenJDK Runtime Environment\n",
       "JVM: OpenJDK 64-Bit Server VM\n",
       "Default Encoding: UTF-8\n",
       "Language: en\n",
       "Country: null\n",
       "--></g></svg>"
      ]
     },
     "execution_count": 9,
     "metadata": {},
     "output_type": "execute_result"
    }
   ],
   "source": [
    "%viz --style=\"POLYLINE\" --view=\"Default\" \"Q\""
   ]
  },
  {
   "cell_type": "code",
   "execution_count": 10,
   "id": "d14a164a",
   "metadata": {
    "execution": {
     "iopub.execute_input": "2021-04-21T20:21:00.498683Z",
     "iopub.status.busy": "2021-04-21T20:21:00.498284Z",
     "iopub.status.idle": "2021-04-21T20:21:00.547688Z",
     "shell.execute_reply": "2021-04-21T20:21:00.547276Z"
    }
   },
   "outputs": [
    {
     "data": {
      "image/svg+xml": [
       "<?xml version=\"1.0\" encoding=\"UTF-8\" standalone=\"no\"?><svg xmlns=\"http://www.w3.org/2000/svg\" xmlns:xlink=\"http://www.w3.org/1999/xlink\" contentScriptType=\"application/ecmascript\" contentStyleType=\"text/css\" height=\"221px\" preserveAspectRatio=\"none\" style=\"width:213px;height:221px;\" version=\"1.1\" viewBox=\"0 0 213 221\" width=\"213px\" zoomAndPan=\"magnify\"><defs/><g><!--MD5=[fbc87193dbaf4d95561dea2c320d4a47]\n",
       "cluster E1--><a href=\"psysml:48e9f940-1f69-4218-811f-6a29c7cbfcb6\" target=\"_top\" title=\"psysml:48e9f940-1f69-4218-811f-6a29c7cbfcb6\" xlink:actuate=\"onRequest\" xlink:href=\"psysml:48e9f940-1f69-4218-811f-6a29c7cbfcb6\" xlink:show=\"new\" xlink:title=\"psysml:48e9f940-1f69-4218-811f-6a29c7cbfcb6\" xlink:type=\"simple\"><polygon fill=\"#FFFFFF\" points=\"16,6,34,6,41,28.2969,191,28.2969,191,209,16,209,16,6\" style=\"stroke: #000000; stroke-width: 1.5;\"/><line style=\"stroke: #000000; stroke-width: 1.5;\" x1=\"16\" x2=\"41\" y1=\"28.2969\" y2=\"28.2969\"/><text fill=\"#000000\" font-family=\"sans-serif\" font-size=\"14\" font-weight=\"bold\" lengthAdjust=\"spacingAndGlyphs\" textLength=\"12\" x=\"20\" y=\"20.9951\">Q</text></a><!--MD5=[b4997ac47864f28c2f74865a473b2911]\n",
       "class E2--><a href=\"psysml:a224f497-53a8-4c97-a678-1669f6411a1a\" target=\"_top\" title=\"psysml:a224f497-53a8-4c97-a678-1669f6411a1a\" xlink:actuate=\"onRequest\" xlink:href=\"psysml:a224f497-53a8-4c97-a678-1669f6411a1a\" xlink:show=\"new\" xlink:title=\"psysml:a224f497-53a8-4c97-a678-1669f6411a1a\" xlink:type=\"simple\"><rect fill=\"#FFFFFF\" height=\"45.9375\" id=\"E2\" rx=\"10\" ry=\"10\" style=\"stroke: #383838; stroke-width: 1.5;\" width=\"42\" x=\"133\" y=\"41\"/><text fill=\"#000000\" font-family=\"sans-serif\" font-size=\"12\" font-style=\"italic\" lengthAdjust=\"spacingAndGlyphs\" textLength=\"40\" x=\"134\" y=\"57.1387\">«part»</text><text fill=\"#000000\" font-family=\"sans-serif\" font-size=\"12\" lengthAdjust=\"spacingAndGlyphs\" textLength=\"4\" x=\"152\" y=\"71.1074\">f</text><line style=\"stroke: #383838; stroke-width: 1.5;\" x1=\"134\" x2=\"174\" y1=\"78.9375\" y2=\"78.9375\"/></a><!--MD5=[09b614a08d8cba4a07c9adeb5e0fee81]\n",
       "class E3--><a href=\"psysml:692e246d-2e17-48ff-a8f3-1c9cda9639f6\" target=\"_top\" title=\"psysml:692e246d-2e17-48ff-a8f3-1c9cda9639f6\" xlink:actuate=\"onRequest\" xlink:href=\"psysml:692e246d-2e17-48ff-a8f3-1c9cda9639f6\" xlink:show=\"new\" xlink:title=\"psysml:692e246d-2e17-48ff-a8f3-1c9cda9639f6\" xlink:type=\"simple\"><rect fill=\"#FFFFFF\" height=\"45.9375\" id=\"E3\" rx=\"10\" ry=\"10\" style=\"stroke: #383838; stroke-width: 1.5;\" width=\"42\" x=\"133\" y=\"147\"/><text fill=\"#000000\" font-family=\"sans-serif\" font-size=\"12\" font-style=\"italic\" lengthAdjust=\"spacingAndGlyphs\" textLength=\"40\" x=\"134\" y=\"163.1387\">«part»</text><text fill=\"#000000\" font-family=\"sans-serif\" font-size=\"12\" lengthAdjust=\"spacingAndGlyphs\" textLength=\"8\" x=\"150\" y=\"177.1074\">a</text><line style=\"stroke: #383838; stroke-width: 1.5;\" x1=\"134\" x2=\"174\" y1=\"184.9375\" y2=\"184.9375\"/></a><!--MD5=[ebbe1d658d1005bcc118a6aa81145e00]\n",
       "class E4--><a href=\"psysml:8521a391-022b-403d-ab54-4e64ea01dd3a\" target=\"_top\" title=\"psysml:8521a391-022b-403d-ab54-4e64ea01dd3a\" xlink:actuate=\"onRequest\" xlink:href=\"psysml:8521a391-022b-403d-ab54-4e64ea01dd3a\" xlink:show=\"new\" xlink:title=\"psysml:8521a391-022b-403d-ab54-4e64ea01dd3a\" xlink:type=\"simple\"><rect fill=\"#FFFFFF\" height=\"45.9375\" id=\"E4\" style=\"stroke: #383838; stroke-width: 1.5;\" width=\"66\" x=\"32\" y=\"41\"/><text fill=\"#000000\" font-family=\"sans-serif\" font-size=\"12\" font-style=\"italic\" lengthAdjust=\"spacingAndGlyphs\" textLength=\"64\" x=\"33\" y=\"57.1387\">«part def»</text><text fill=\"#000000\" font-family=\"sans-serif\" font-size=\"12\" lengthAdjust=\"spacingAndGlyphs\" textLength=\"8\" x=\"61\" y=\"71.1074\">C</text><line style=\"stroke: #383838; stroke-width: 1.5;\" x1=\"33\" x2=\"97\" y1=\"78.9375\" y2=\"78.9375\"/></a><!--MD5=[270fce915f116d4de14055a7c1d9a0f3]\n",
       "class E5--><a href=\"psysml:7c666d7d-6a66-4269-8e3a-229640bb6ad0\" target=\"_top\" title=\"psysml:7c666d7d-6a66-4269-8e3a-229640bb6ad0\" xlink:actuate=\"onRequest\" xlink:href=\"psysml:7c666d7d-6a66-4269-8e3a-229640bb6ad0\" xlink:show=\"new\" xlink:title=\"psysml:7c666d7d-6a66-4269-8e3a-229640bb6ad0\" xlink:type=\"simple\"><rect fill=\"#FFFFFF\" height=\"45.9375\" id=\"E5\" rx=\"10\" ry=\"10\" style=\"stroke: #383838; stroke-width: 1.5;\" width=\"42\" x=\"44\" y=\"147\"/><text fill=\"#000000\" font-family=\"sans-serif\" font-size=\"12\" font-style=\"italic\" lengthAdjust=\"spacingAndGlyphs\" textLength=\"40\" x=\"45\" y=\"163.1387\">«part»</text><text fill=\"#000000\" font-family=\"sans-serif\" font-size=\"12\" lengthAdjust=\"spacingAndGlyphs\" textLength=\"8\" x=\"61\" y=\"177.1074\">g</text><line style=\"stroke: #383838; stroke-width: 1.5;\" x1=\"45\" x2=\"85\" y1=\"184.9375\" y2=\"184.9375\"/></a><!--MD5=[209b3feb70ccb6233bfe1053d122c12c]\n",
       "reverse link E2 to E3--><a href=\"psysml:71ed813c-2f6a-4d13-b6a9-9d55dbb4d689\" target=\"_top\" title=\"psysml:71ed813c-2f6a-4d13-b6a9-9d55dbb4d689\" xlink:actuate=\"onRequest\" xlink:href=\"psysml:71ed813c-2f6a-4d13-b6a9-9d55dbb4d689\" xlink:show=\"new\" xlink:title=\"psysml:71ed813c-2f6a-4d13-b6a9-9d55dbb4d689\" xlink:type=\"simple\"><path d=\"M154,100.44 C154,115.87 154,133.47 154,146.98 \" fill=\"none\" id=\"E2&lt;-E3\" style=\"stroke: #383838; stroke-width: 1.0;\"/><polygon fill=\"#383838\" points=\"154,87.06,150,93.06,154,99.06,158,93.06,154,87.06\" style=\"stroke: #383838; stroke-width: 1.0;\"/></a><!--MD5=[62aa6af11e70f752912c1cb0466f24f7]\n",
       "reverse link E4 to E5--><a href=\"psysml:66a9662c-d0de-409c-b1e7-d598996fdcb0\" target=\"_top\" title=\"psysml:66a9662c-d0de-409c-b1e7-d598996fdcb0\" xlink:actuate=\"onRequest\" xlink:href=\"psysml:66a9662c-d0de-409c-b1e7-d598996fdcb0\" xlink:show=\"new\" xlink:title=\"psysml:66a9662c-d0de-409c-b1e7-d598996fdcb0\" xlink:type=\"simple\"><path d=\"M65,100.44 C65,115.87 65,133.47 65,146.98 \" fill=\"none\" id=\"E4&lt;-E5\" style=\"stroke: #383838; stroke-width: 1.0;\"/><polygon fill=\"#383838\" points=\"65,87.06,61,93.06,65,99.06,69,93.06,65,87.06\" style=\"stroke: #383838; stroke-width: 1.0;\"/></a><!--MD5=[b972cfcf92a3e7b1b1fa0868dca34836]\n",
       "@startuml\r\n",
       "skinparam linetype polyline\r\n",
       "skinparam monochrome true\r\n",
       "skinparam classbackgroundcolor white\r\n",
       "skinparam shadowing false\r\n",
       "skinparam wrapWidth 300\r\n",
       "hide circle\r\n",
       "\r\n",
       "package \"Q\" as E1  [[psysml:48e9f940-1f69-4218-811f-6a29c7cbfcb6 ]]  {\r\n",
       "comp usage \"f\" as E2  <<(T,blue)part>> [[psysml:a224f497-53a8-4c97-a678-1669f6411a1a ]] {\r\n",
       "}\r\n",
       "comp usage \"a\" as E3  <<(T,blue)part>> [[psysml:692e246d-2e17-48ff-a8f3-1c9cda9639f6 ]] {\r\n",
       "}\r\n",
       "comp def \"C\" as E4  <<(T,blue)part def>> [[psysml:8521a391-022b-403d-ab54-4e64ea01dd3a ]] {\r\n",
       "}\r\n",
       "comp usage \"g\" as E5  <<(T,blue)part>> [[psysml:7c666d7d-6a66-4269-8e3a-229640bb6ad0 ]] {\r\n",
       "}\r\n",
       "E2 *- - E3 [[psysml:71ed813c-2f6a-4d13-b6a9-9d55dbb4d689 ]] \r\n",
       "E4 *- - E5 [[psysml:66a9662c-d0de-409c-b1e7-d598996fdcb0 ]] \r\n",
       "}\r\n",
       "@enduml\r\n",
       "\n",
       "PlantUML version 1.2020.13(Sat Jun 13 12:26:38 UTC 2020)\n",
       "(EPL source distribution)\n",
       "Java Runtime: OpenJDK Runtime Environment\n",
       "JVM: OpenJDK 64-Bit Server VM\n",
       "Default Encoding: UTF-8\n",
       "Language: en\n",
       "Country: null\n",
       "--></g></svg>"
      ]
     },
     "execution_count": 10,
     "metadata": {},
     "output_type": "execute_result"
    }
   ],
   "source": [
    "%viz --style=\"POLYLINE\" --view=\"Tree\" \"Q\""
   ]
  },
  {
   "cell_type": "code",
   "execution_count": 11,
   "id": "1c5b1f96",
   "metadata": {
    "execution": {
     "iopub.execute_input": "2021-04-21T20:21:00.598066Z",
     "iopub.status.busy": "2021-04-21T20:21:00.597105Z",
     "iopub.status.idle": "2021-04-21T20:21:00.604979Z",
     "shell.execute_reply": "2021-04-21T20:21:00.604606Z"
    }
   },
   "outputs": [
    {
     "data": {
      "image/svg+xml": [
       "<?xml version=\"1.0\" encoding=\"UTF-8\" standalone=\"no\"?><svg xmlns=\"http://www.w3.org/2000/svg\" xmlns:xlink=\"http://www.w3.org/1999/xlink\" contentScriptType=\"application/ecmascript\" contentStyleType=\"text/css\" height=\"12px\" preserveAspectRatio=\"none\" style=\"width:12px;height:12px;\" version=\"1.1\" viewBox=\"0 0 12 12\" width=\"12px\" zoomAndPan=\"magnify\"><defs/><g><!--MD5=[896ac0e7a515d8dd7765a661cb4ee08b]\n",
       "@startuml\r\n",
       "skinparam linetype polyline\r\n",
       "skinparam monochrome true\r\n",
       "skinparam classbackgroundcolor white\r\n",
       "skinparam shadowing false\r\n",
       "skinparam wrapWidth 300\r\n",
       "hide circle\r\n",
       "\r\n",
       "@enduml\r\n",
       "\n",
       "PlantUML version 1.2020.13(Sat Jun 13 12:26:38 UTC 2020)\n",
       "(EPL source distribution)\n",
       "Java Runtime: OpenJDK Runtime Environment\n",
       "JVM: OpenJDK 64-Bit Server VM\n",
       "Default Encoding: UTF-8\n",
       "Language: en\n",
       "Country: null\n",
       "--></g></svg>"
      ]
     },
     "execution_count": 11,
     "metadata": {},
     "output_type": "execute_result"
    }
   ],
   "source": [
    "%viz --style=\"POLYLINE\" --view=\"State\" \"Q\""
   ]
  },
  {
   "cell_type": "code",
   "execution_count": 12,
   "id": "432d8420",
   "metadata": {
    "execution": {
     "iopub.execute_input": "2021-04-21T20:21:00.655587Z",
     "iopub.status.busy": "2021-04-21T20:21:00.655195Z",
     "iopub.status.idle": "2021-04-21T20:21:00.699730Z",
     "shell.execute_reply": "2021-04-21T20:21:00.699269Z"
    }
   },
   "outputs": [
    {
     "data": {
      "image/svg+xml": [
       "<?xml version=\"1.0\" encoding=\"UTF-8\" standalone=\"no\"?><svg xmlns=\"http://www.w3.org/2000/svg\" xmlns:xlink=\"http://www.w3.org/1999/xlink\" contentScriptType=\"application/ecmascript\" contentStyleType=\"text/css\" height=\"192px\" preserveAspectRatio=\"none\" style=\"width:286px;height:192px;\" version=\"1.1\" viewBox=\"0 0 286 192\" width=\"286px\" zoomAndPan=\"magnify\"><defs/><g><!--MD5=[fbc87193dbaf4d95561dea2c320d4a47]\n",
       "cluster E1--><a href=\"psysml:48e9f940-1f69-4218-811f-6a29c7cbfcb6\" target=\"_top\" title=\"psysml:48e9f940-1f69-4218-811f-6a29c7cbfcb6\" xlink:actuate=\"onRequest\" xlink:href=\"psysml:48e9f940-1f69-4218-811f-6a29c7cbfcb6\" xlink:show=\"new\" xlink:title=\"psysml:48e9f940-1f69-4218-811f-6a29c7cbfcb6\" xlink:type=\"simple\"><polygon fill=\"#FFFFFF\" points=\"16,6,34,6,41,28.2969,264,28.2969,264,180,16,180,16,6\" style=\"stroke: #000000; stroke-width: 1.5;\"/><line style=\"stroke: #000000; stroke-width: 1.5;\" x1=\"16\" x2=\"41\" y1=\"28.2969\" y2=\"28.2969\"/><text fill=\"#000000\" font-family=\"sans-serif\" font-size=\"14\" font-weight=\"bold\" lengthAdjust=\"spacingAndGlyphs\" textLength=\"12\" x=\"20\" y=\"20.9951\">Q</text></a><!--MD5=[e4f7fae6ed58524ba242bb0b0d3be6b7]\n",
       "cluster E2--><a href=\"psysml:a224f497-53a8-4c97-a678-1669f6411a1a\" target=\"_top\" title=\"psysml:a224f497-53a8-4c97-a678-1669f6411a1a\" xlink:actuate=\"onRequest\" xlink:href=\"psysml:a224f497-53a8-4c97-a678-1669f6411a1a\" xlink:show=\"new\" xlink:title=\"psysml:a224f497-53a8-4c97-a678-1669f6411a1a\" xlink:type=\"simple\"><rect fill=\"#FFFFFF\" height=\"91\" id=\"E2\" rx=\"10\" ry=\"10\" style=\"stroke: #383838; stroke-width: 1.5;\" width=\"82\" x=\"158\" y=\"65\"/><rect fill=\"#F8F8F8\" height=\"23.9688\" rx=\"10\" ry=\"10\" style=\"stroke: #F8F8F8; stroke-width: 1.5;\" width=\"82\" x=\"158\" y=\"65\"/><rect fill=\"#F8F8F8\" height=\"10\" style=\"stroke: #F8F8F8; stroke-width: 1.5;\" width=\"82\" x=\"158\" y=\"78.9688\"/><rect fill=\"none\" height=\"91\" id=\"E2\" rx=\"10\" ry=\"10\" style=\"stroke: #383838; stroke-width: 1.5;\" width=\"82\" x=\"158\" y=\"65\"/><text fill=\"#000000\" font-family=\"sans-serif\" font-size=\"12\" lengthAdjust=\"spacingAndGlyphs\" textLength=\"4\" x=\"197\" y=\"81.1387\">f</text><line style=\"stroke: #383838; stroke-width: 1.0;\" x1=\"158\" x2=\"240\" y1=\"88.9688\" y2=\"88.9688\"/></a><!--MD5=[f6df4d0ebaf0b5dfb2ced0ae5af7c670]\n",
       "cluster E4--><a href=\"psysml:8521a391-022b-403d-ab54-4e64ea01dd3a\" target=\"_top\" title=\"psysml:8521a391-022b-403d-ab54-4e64ea01dd3a\" xlink:actuate=\"onRequest\" xlink:href=\"psysml:8521a391-022b-403d-ab54-4e64ea01dd3a\" xlink:show=\"new\" xlink:title=\"psysml:8521a391-022b-403d-ab54-4e64ea01dd3a\" xlink:type=\"simple\"><rect fill=\"#FFFFFF\" height=\"107\" id=\"E4\" style=\"stroke: #383838; stroke-width: 1.5;\" width=\"94\" x=\"40\" y=\"49\"/><rect fill=\"#F8F8F8\" height=\"37.9375\" style=\"stroke: #383838; stroke-width: 1.5;\" width=\"94\" x=\"40\" y=\"49\"/><text fill=\"#000000\" font-family=\"sans-serif\" font-size=\"12\" font-style=\"italic\" lengthAdjust=\"spacingAndGlyphs\" textLength=\"64\" x=\"55\" y=\"65.1387\">«part def»</text><text fill=\"#000000\" font-family=\"sans-serif\" font-size=\"12\" lengthAdjust=\"spacingAndGlyphs\" textLength=\"8\" x=\"83\" y=\"79.1074\">C</text></a><g id=\"E1.E2.E3\"><a href=\"psysml:692e246d-2e17-48ff-a8f3-1c9cda9639f6\" target=\"_top\" title=\"psysml:692e246d-2e17-48ff-a8f3-1c9cda9639f6\" xlink:actuate=\"onRequest\" xlink:href=\"psysml:692e246d-2e17-48ff-a8f3-1c9cda9639f6\" xlink:show=\"new\" xlink:title=\"psysml:692e246d-2e17-48ff-a8f3-1c9cda9639f6\" xlink:type=\"simple\"><rect fill=\"#FFFFFF\" height=\"40\" id=\"E3\" rx=\"10\" ry=\"10\" style=\"stroke: #383838; stroke-width: 1.5;\" width=\"50\" x=\"174\" y=\"100\"/><rect fill=\"#F8F8F8\" height=\"23.9688\" rx=\"10\" ry=\"10\" style=\"stroke: #F8F8F8; stroke-width: 1.5;\" width=\"50\" x=\"174\" y=\"100\"/><rect fill=\"#F8F8F8\" height=\"10\" style=\"stroke: #F8F8F8; stroke-width: 1.5;\" width=\"50\" x=\"174\" y=\"113.9688\"/><rect fill=\"none\" height=\"40\" id=\"E3\" rx=\"10\" ry=\"10\" style=\"stroke: #383838; stroke-width: 1.5;\" width=\"50\" x=\"174\" y=\"100\"/><text fill=\"#000000\" font-family=\"sans-serif\" font-size=\"12\" lengthAdjust=\"spacingAndGlyphs\" textLength=\"8\" x=\"195\" y=\"116.1387\">a</text></a></g><g id=\"E1.E4.E5\"><a href=\"psysml:7c666d7d-6a66-4269-8e3a-229640bb6ad0\" target=\"_top\" title=\"psysml:7c666d7d-6a66-4269-8e3a-229640bb6ad0\" xlink:actuate=\"onRequest\" xlink:href=\"psysml:7c666d7d-6a66-4269-8e3a-229640bb6ad0\" xlink:show=\"new\" xlink:title=\"psysml:7c666d7d-6a66-4269-8e3a-229640bb6ad0\" xlink:type=\"simple\"><rect fill=\"#FFFFFF\" height=\"40\" id=\"E5\" rx=\"10\" ry=\"10\" style=\"stroke: #383838; stroke-width: 1.5;\" width=\"61\" x=\"56.5\" y=\"100\"/><rect fill=\"#F8F8F8\" height=\"23.9688\" rx=\"10\" ry=\"10\" style=\"stroke: #F8F8F8; stroke-width: 1.5;\" width=\"61\" x=\"56.5\" y=\"100\"/><rect fill=\"#F8F8F8\" height=\"10\" style=\"stroke: #F8F8F8; stroke-width: 1.5;\" width=\"61\" x=\"56.5\" y=\"113.9688\"/><rect fill=\"none\" height=\"40\" id=\"E5\" rx=\"10\" ry=\"10\" style=\"stroke: #383838; stroke-width: 1.5;\" width=\"61\" x=\"56.5\" y=\"100\"/><text fill=\"#000000\" font-family=\"sans-serif\" font-size=\"12\" lengthAdjust=\"spacingAndGlyphs\" textLength=\"46\" x=\"62\" y=\"116.1387\">g=./f/a;</text></a></g><!--MD5=[a93d2b5ac47cf3b3ee7501bf167bff68]\n",
       "@startuml\r\n",
       "skinparam ranksep 10\r\n",
       "skinparam rectangle {\r\n",
       " backgroundColor<<block>> LightGreen\r\n",
       "}\r\n",
       "skinparam linetype polyline\r\n",
       "skinparam monochrome true\r\n",
       "skinparam classbackgroundcolor white\r\n",
       "skinparam shadowing false\r\n",
       "skinparam wrapWidth 300\r\n",
       "hide circle\r\n",
       "\r\n",
       "package \"Q\" as E1  [[psysml:48e9f940-1f69-4218-811f-6a29c7cbfcb6 ]]  {\r\n",
       "rec usage \"f\" as E2  [[psysml:a224f497-53a8-4c97-a678-1669f6411a1a ]] {\r\n",
       "rec usage \"a\" as E3  [[psysml:692e246d-2e17-48ff-a8f3-1c9cda9639f6 ]] {\r\n",
       "}\r\n",
       "}\r\n",
       "rec def \"C\" as E4  <<(T,blue)part def>> [[psysml:8521a391-022b-403d-ab54-4e64ea01dd3a ]] {\r\n",
       "rec usage \"g=./f/a; \" as E5  [[psysml:7c666d7d-6a66-4269-8e3a-229640bb6ad0 ]] {\r\n",
       "}\r\n",
       "}\r\n",
       "}\r\n",
       "@enduml\r\n",
       "\n",
       "PlantUML version 1.2020.13(Sat Jun 13 12:26:38 UTC 2020)\n",
       "(EPL source distribution)\n",
       "Java Runtime: OpenJDK Runtime Environment\n",
       "JVM: OpenJDK 64-Bit Server VM\n",
       "Default Encoding: UTF-8\n",
       "Language: en\n",
       "Country: null\n",
       "--></g></svg>"
      ]
     },
     "execution_count": 12,
     "metadata": {},
     "output_type": "execute_result"
    }
   ],
   "source": [
    "%viz --style=\"POLYLINE\" --view=\"Interconnection\" \"Q\""
   ]
  },
  {
   "cell_type": "code",
   "execution_count": 13,
   "id": "6465a20c",
   "metadata": {
    "execution": {
     "iopub.execute_input": "2021-04-21T20:21:00.748951Z",
     "iopub.status.busy": "2021-04-21T20:21:00.748263Z",
     "iopub.status.idle": "2021-04-21T20:21:00.756212Z",
     "shell.execute_reply": "2021-04-21T20:21:00.756703Z"
    }
   },
   "outputs": [
    {
     "data": {
      "image/svg+xml": [
       "<?xml version=\"1.0\" encoding=\"UTF-8\" standalone=\"no\"?><svg xmlns=\"http://www.w3.org/2000/svg\" xmlns:xlink=\"http://www.w3.org/1999/xlink\" contentScriptType=\"application/ecmascript\" contentStyleType=\"text/css\" height=\"12px\" preserveAspectRatio=\"none\" style=\"width:12px;height:12px;\" version=\"1.1\" viewBox=\"0 0 12 12\" width=\"12px\" zoomAndPan=\"magnify\"><defs/><g><!--MD5=[97bbf32f66ccd50cbc40d92ea8f5a65e]\n",
       "@startuml\r\n",
       "skinparam ranksep 8\r\n",
       "skinparam linetype polyline\r\n",
       "skinparam monochrome true\r\n",
       "skinparam classbackgroundcolor white\r\n",
       "skinparam shadowing false\r\n",
       "skinparam wrapWidth 300\r\n",
       "hide circle\r\n",
       "\r\n",
       "@enduml\r\n",
       "\n",
       "PlantUML version 1.2020.13(Sat Jun 13 12:26:38 UTC 2020)\n",
       "(EPL source distribution)\n",
       "Java Runtime: OpenJDK Runtime Environment\n",
       "JVM: OpenJDK 64-Bit Server VM\n",
       "Default Encoding: UTF-8\n",
       "Language: en\n",
       "Country: null\n",
       "--></g></svg>"
      ]
     },
     "execution_count": 13,
     "metadata": {},
     "output_type": "execute_result"
    }
   ],
   "source": [
    "%viz --style=\"POLYLINE\" --view=\"Action\" \"Q\""
   ]
  },
  {
   "cell_type": "code",
   "execution_count": 14,
   "id": "6b68b930",
   "metadata": {
    "execution": {
     "iopub.execute_input": "2021-04-21T20:21:00.807618Z",
     "iopub.status.busy": "2021-04-21T20:21:00.806725Z",
     "iopub.status.idle": "2021-04-21T20:21:00.855424Z",
     "shell.execute_reply": "2021-04-21T20:21:00.855035Z"
    }
   },
   "outputs": [
    {
     "data": {
      "image/svg+xml": [
       "<?xml version=\"1.0\" encoding=\"UTF-8\" standalone=\"no\"?><svg xmlns=\"http://www.w3.org/2000/svg\" xmlns:xlink=\"http://www.w3.org/1999/xlink\" contentScriptType=\"application/ecmascript\" contentStyleType=\"text/css\" height=\"221px\" preserveAspectRatio=\"none\" style=\"width:213px;height:221px;\" version=\"1.1\" viewBox=\"0 0 213 221\" width=\"213px\" zoomAndPan=\"magnify\"><defs/><g><!--MD5=[fbc87193dbaf4d95561dea2c320d4a47]\n",
       "cluster E1--><a href=\"psysml:48e9f940-1f69-4218-811f-6a29c7cbfcb6\" target=\"_top\" title=\"psysml:48e9f940-1f69-4218-811f-6a29c7cbfcb6\" xlink:actuate=\"onRequest\" xlink:href=\"psysml:48e9f940-1f69-4218-811f-6a29c7cbfcb6\" xlink:show=\"new\" xlink:title=\"psysml:48e9f940-1f69-4218-811f-6a29c7cbfcb6\" xlink:type=\"simple\"><polygon fill=\"#FFFFFF\" points=\"16,6,34,6,41,28.2969,191,28.2969,191,209,16,209,16,6\" style=\"stroke: #000000; stroke-width: 1.5;\"/><line style=\"stroke: #000000; stroke-width: 1.5;\" x1=\"16\" x2=\"41\" y1=\"28.2969\" y2=\"28.2969\"/><text fill=\"#000000\" font-family=\"sans-serif\" font-size=\"14\" font-weight=\"bold\" lengthAdjust=\"spacingAndGlyphs\" textLength=\"12\" x=\"20\" y=\"20.9951\">Q</text></a><!--MD5=[b4997ac47864f28c2f74865a473b2911]\n",
       "class E2--><a href=\"psysml:a224f497-53a8-4c97-a678-1669f6411a1a\" target=\"_top\" title=\"psysml:a224f497-53a8-4c97-a678-1669f6411a1a\" xlink:actuate=\"onRequest\" xlink:href=\"psysml:a224f497-53a8-4c97-a678-1669f6411a1a\" xlink:show=\"new\" xlink:title=\"psysml:a224f497-53a8-4c97-a678-1669f6411a1a\" xlink:type=\"simple\"><rect fill=\"#FFFFFF\" height=\"45.9375\" id=\"E2\" rx=\"10\" ry=\"10\" style=\"stroke: #383838; stroke-width: 1.5;\" width=\"42\" x=\"133\" y=\"41\"/><text fill=\"#000000\" font-family=\"sans-serif\" font-size=\"12\" font-style=\"italic\" lengthAdjust=\"spacingAndGlyphs\" textLength=\"40\" x=\"134\" y=\"57.1387\">«part»</text><text fill=\"#000000\" font-family=\"sans-serif\" font-size=\"12\" lengthAdjust=\"spacingAndGlyphs\" textLength=\"4\" x=\"152\" y=\"71.1074\">f</text><line style=\"stroke: #383838; stroke-width: 1.5;\" x1=\"134\" x2=\"174\" y1=\"78.9375\" y2=\"78.9375\"/></a><!--MD5=[09b614a08d8cba4a07c9adeb5e0fee81]\n",
       "class E3--><a href=\"psysml:692e246d-2e17-48ff-a8f3-1c9cda9639f6\" target=\"_top\" title=\"psysml:692e246d-2e17-48ff-a8f3-1c9cda9639f6\" xlink:actuate=\"onRequest\" xlink:href=\"psysml:692e246d-2e17-48ff-a8f3-1c9cda9639f6\" xlink:show=\"new\" xlink:title=\"psysml:692e246d-2e17-48ff-a8f3-1c9cda9639f6\" xlink:type=\"simple\"><rect fill=\"#FFFFFF\" height=\"45.9375\" id=\"E3\" rx=\"10\" ry=\"10\" style=\"stroke: #383838; stroke-width: 1.5;\" width=\"42\" x=\"133\" y=\"147\"/><text fill=\"#000000\" font-family=\"sans-serif\" font-size=\"12\" font-style=\"italic\" lengthAdjust=\"spacingAndGlyphs\" textLength=\"40\" x=\"134\" y=\"163.1387\">«part»</text><text fill=\"#000000\" font-family=\"sans-serif\" font-size=\"12\" lengthAdjust=\"spacingAndGlyphs\" textLength=\"8\" x=\"150\" y=\"177.1074\">a</text><line style=\"stroke: #383838; stroke-width: 1.5;\" x1=\"134\" x2=\"174\" y1=\"184.9375\" y2=\"184.9375\"/></a><!--MD5=[ebbe1d658d1005bcc118a6aa81145e00]\n",
       "class E4--><a href=\"psysml:8521a391-022b-403d-ab54-4e64ea01dd3a\" target=\"_top\" title=\"psysml:8521a391-022b-403d-ab54-4e64ea01dd3a\" xlink:actuate=\"onRequest\" xlink:href=\"psysml:8521a391-022b-403d-ab54-4e64ea01dd3a\" xlink:show=\"new\" xlink:title=\"psysml:8521a391-022b-403d-ab54-4e64ea01dd3a\" xlink:type=\"simple\"><rect fill=\"#FFFFFF\" height=\"45.9375\" id=\"E4\" style=\"stroke: #383838; stroke-width: 1.5;\" width=\"66\" x=\"32\" y=\"41\"/><text fill=\"#000000\" font-family=\"sans-serif\" font-size=\"12\" font-style=\"italic\" lengthAdjust=\"spacingAndGlyphs\" textLength=\"64\" x=\"33\" y=\"57.1387\">«part def»</text><text fill=\"#000000\" font-family=\"sans-serif\" font-size=\"12\" lengthAdjust=\"spacingAndGlyphs\" textLength=\"8\" x=\"61\" y=\"71.1074\">C</text><line style=\"stroke: #383838; stroke-width: 1.5;\" x1=\"33\" x2=\"97\" y1=\"78.9375\" y2=\"78.9375\"/></a><!--MD5=[270fce915f116d4de14055a7c1d9a0f3]\n",
       "class E5--><a href=\"psysml:7c666d7d-6a66-4269-8e3a-229640bb6ad0\" target=\"_top\" title=\"psysml:7c666d7d-6a66-4269-8e3a-229640bb6ad0\" xlink:actuate=\"onRequest\" xlink:href=\"psysml:7c666d7d-6a66-4269-8e3a-229640bb6ad0\" xlink:show=\"new\" xlink:title=\"psysml:7c666d7d-6a66-4269-8e3a-229640bb6ad0\" xlink:type=\"simple\"><rect fill=\"#FFFFFF\" height=\"45.9375\" id=\"E5\" rx=\"10\" ry=\"10\" style=\"stroke: #383838; stroke-width: 1.5;\" width=\"42\" x=\"44\" y=\"147\"/><text fill=\"#000000\" font-family=\"sans-serif\" font-size=\"12\" font-style=\"italic\" lengthAdjust=\"spacingAndGlyphs\" textLength=\"40\" x=\"45\" y=\"163.1387\">«part»</text><text fill=\"#000000\" font-family=\"sans-serif\" font-size=\"12\" lengthAdjust=\"spacingAndGlyphs\" textLength=\"8\" x=\"61\" y=\"177.1074\">g</text><line style=\"stroke: #383838; stroke-width: 1.5;\" x1=\"45\" x2=\"85\" y1=\"184.9375\" y2=\"184.9375\"/></a><!--MD5=[209b3feb70ccb6233bfe1053d122c12c]\n",
       "reverse link E2 to E3--><a href=\"psysml:71ed813c-2f6a-4d13-b6a9-9d55dbb4d689\" target=\"_top\" title=\"psysml:71ed813c-2f6a-4d13-b6a9-9d55dbb4d689\" xlink:actuate=\"onRequest\" xlink:href=\"psysml:71ed813c-2f6a-4d13-b6a9-9d55dbb4d689\" xlink:show=\"new\" xlink:title=\"psysml:71ed813c-2f6a-4d13-b6a9-9d55dbb4d689\" xlink:type=\"simple\"><path d=\"M154,100.44 C154,115.87 154,133.47 154,146.98 \" fill=\"none\" id=\"E2&lt;-E3\" style=\"stroke: #383838; stroke-width: 1.0;\"/><polygon fill=\"#383838\" points=\"154,87.06,150,93.06,154,99.06,158,93.06,154,87.06\" style=\"stroke: #383838; stroke-width: 1.0;\"/></a><!--MD5=[62aa6af11e70f752912c1cb0466f24f7]\n",
       "reverse link E4 to E5--><a href=\"psysml:66a9662c-d0de-409c-b1e7-d598996fdcb0\" target=\"_top\" title=\"psysml:66a9662c-d0de-409c-b1e7-d598996fdcb0\" xlink:actuate=\"onRequest\" xlink:href=\"psysml:66a9662c-d0de-409c-b1e7-d598996fdcb0\" xlink:show=\"new\" xlink:title=\"psysml:66a9662c-d0de-409c-b1e7-d598996fdcb0\" xlink:type=\"simple\"><path d=\"M65,100.44 C65,115.87 65,133.47 65,146.98 \" fill=\"none\" id=\"E4&lt;-E5\" style=\"stroke: #383838; stroke-width: 1.0;\"/><polygon fill=\"#383838\" points=\"65,87.06,61,93.06,65,99.06,69,93.06,65,87.06\" style=\"stroke: #383838; stroke-width: 1.0;\"/></a><!--MD5=[b972cfcf92a3e7b1b1fa0868dca34836]\n",
       "@startuml\r\n",
       "skinparam linetype polyline\r\n",
       "skinparam monochrome true\r\n",
       "skinparam classbackgroundcolor white\r\n",
       "skinparam shadowing false\r\n",
       "skinparam wrapWidth 300\r\n",
       "hide circle\r\n",
       "\r\n",
       "package \"Q\" as E1  [[psysml:48e9f940-1f69-4218-811f-6a29c7cbfcb6 ]]  {\r\n",
       "comp usage \"f\" as E2  <<(T,blue)part>> [[psysml:a224f497-53a8-4c97-a678-1669f6411a1a ]] {\r\n",
       "}\r\n",
       "comp usage \"a\" as E3  <<(T,blue)part>> [[psysml:692e246d-2e17-48ff-a8f3-1c9cda9639f6 ]] {\r\n",
       "}\r\n",
       "comp def \"C\" as E4  <<(T,blue)part def>> [[psysml:8521a391-022b-403d-ab54-4e64ea01dd3a ]] {\r\n",
       "}\r\n",
       "comp usage \"g\" as E5  <<(T,blue)part>> [[psysml:7c666d7d-6a66-4269-8e3a-229640bb6ad0 ]] {\r\n",
       "}\r\n",
       "E2 *- - E3 [[psysml:71ed813c-2f6a-4d13-b6a9-9d55dbb4d689 ]] \r\n",
       "E4 *- - E5 [[psysml:66a9662c-d0de-409c-b1e7-d598996fdcb0 ]] \r\n",
       "}\r\n",
       "@enduml\r\n",
       "\n",
       "PlantUML version 1.2020.13(Sat Jun 13 12:26:38 UTC 2020)\n",
       "(EPL source distribution)\n",
       "Java Runtime: OpenJDK Runtime Environment\n",
       "JVM: OpenJDK 64-Bit Server VM\n",
       "Default Encoding: UTF-8\n",
       "Language: en\n",
       "Country: null\n",
       "--></g></svg>"
      ]
     },
     "execution_count": 14,
     "metadata": {},
     "output_type": "execute_result"
    }
   ],
   "source": [
    "%viz --style=\"POLYLINE\" --view=\"Sequence\" \"Q\""
   ]
  },
  {
   "cell_type": "code",
   "execution_count": 15,
   "id": "497be6f7",
   "metadata": {
    "execution": {
     "iopub.execute_input": "2021-04-21T20:21:00.906553Z",
     "iopub.status.busy": "2021-04-21T20:21:00.905820Z",
     "iopub.status.idle": "2021-04-21T20:21:00.956250Z",
     "shell.execute_reply": "2021-04-21T20:21:00.955733Z"
    }
   },
   "outputs": [
    {
     "data": {
      "image/svg+xml": [
       "<?xml version=\"1.0\" encoding=\"UTF-8\" standalone=\"no\"?><svg xmlns=\"http://www.w3.org/2000/svg\" xmlns:xlink=\"http://www.w3.org/1999/xlink\" contentScriptType=\"application/ecmascript\" contentStyleType=\"text/css\" height=\"221px\" preserveAspectRatio=\"none\" style=\"width:213px;height:221px;\" version=\"1.1\" viewBox=\"0 0 213 221\" width=\"213px\" zoomAndPan=\"magnify\"><defs/><g><!--MD5=[fbc87193dbaf4d95561dea2c320d4a47]\n",
       "cluster E1--><a href=\"psysml:48e9f940-1f69-4218-811f-6a29c7cbfcb6\" target=\"_top\" title=\"psysml:48e9f940-1f69-4218-811f-6a29c7cbfcb6\" xlink:actuate=\"onRequest\" xlink:href=\"psysml:48e9f940-1f69-4218-811f-6a29c7cbfcb6\" xlink:show=\"new\" xlink:title=\"psysml:48e9f940-1f69-4218-811f-6a29c7cbfcb6\" xlink:type=\"simple\"><polygon fill=\"#FFFFFF\" points=\"16,6,34,6,41,28.2969,191,28.2969,191,209,16,209,16,6\" style=\"stroke: #000000; stroke-width: 1.5;\"/><line style=\"stroke: #000000; stroke-width: 1.5;\" x1=\"16\" x2=\"41\" y1=\"28.2969\" y2=\"28.2969\"/><text fill=\"#000000\" font-family=\"sans-serif\" font-size=\"14\" font-weight=\"bold\" lengthAdjust=\"spacingAndGlyphs\" textLength=\"12\" x=\"20\" y=\"20.9951\">Q</text></a><!--MD5=[b4997ac47864f28c2f74865a473b2911]\n",
       "class E2--><a href=\"psysml:a224f497-53a8-4c97-a678-1669f6411a1a\" target=\"_top\" title=\"psysml:a224f497-53a8-4c97-a678-1669f6411a1a\" xlink:actuate=\"onRequest\" xlink:href=\"psysml:a224f497-53a8-4c97-a678-1669f6411a1a\" xlink:show=\"new\" xlink:title=\"psysml:a224f497-53a8-4c97-a678-1669f6411a1a\" xlink:type=\"simple\"><rect fill=\"#FFFFFF\" height=\"45.9375\" id=\"E2\" rx=\"10\" ry=\"10\" style=\"stroke: #383838; stroke-width: 1.5;\" width=\"42\" x=\"133\" y=\"41\"/><text fill=\"#000000\" font-family=\"sans-serif\" font-size=\"12\" font-style=\"italic\" lengthAdjust=\"spacingAndGlyphs\" textLength=\"40\" x=\"134\" y=\"57.1387\">«part»</text><text fill=\"#000000\" font-family=\"sans-serif\" font-size=\"12\" lengthAdjust=\"spacingAndGlyphs\" textLength=\"4\" x=\"152\" y=\"71.1074\">f</text><line style=\"stroke: #383838; stroke-width: 1.5;\" x1=\"134\" x2=\"174\" y1=\"78.9375\" y2=\"78.9375\"/></a><!--MD5=[09b614a08d8cba4a07c9adeb5e0fee81]\n",
       "class E3--><a href=\"psysml:692e246d-2e17-48ff-a8f3-1c9cda9639f6\" target=\"_top\" title=\"psysml:692e246d-2e17-48ff-a8f3-1c9cda9639f6\" xlink:actuate=\"onRequest\" xlink:href=\"psysml:692e246d-2e17-48ff-a8f3-1c9cda9639f6\" xlink:show=\"new\" xlink:title=\"psysml:692e246d-2e17-48ff-a8f3-1c9cda9639f6\" xlink:type=\"simple\"><rect fill=\"#FFFFFF\" height=\"45.9375\" id=\"E3\" rx=\"10\" ry=\"10\" style=\"stroke: #383838; stroke-width: 1.5;\" width=\"42\" x=\"133\" y=\"147\"/><text fill=\"#000000\" font-family=\"sans-serif\" font-size=\"12\" font-style=\"italic\" lengthAdjust=\"spacingAndGlyphs\" textLength=\"40\" x=\"134\" y=\"163.1387\">«part»</text><text fill=\"#000000\" font-family=\"sans-serif\" font-size=\"12\" lengthAdjust=\"spacingAndGlyphs\" textLength=\"8\" x=\"150\" y=\"177.1074\">a</text><line style=\"stroke: #383838; stroke-width: 1.5;\" x1=\"134\" x2=\"174\" y1=\"184.9375\" y2=\"184.9375\"/></a><!--MD5=[ebbe1d658d1005bcc118a6aa81145e00]\n",
       "class E4--><a href=\"psysml:8521a391-022b-403d-ab54-4e64ea01dd3a\" target=\"_top\" title=\"psysml:8521a391-022b-403d-ab54-4e64ea01dd3a\" xlink:actuate=\"onRequest\" xlink:href=\"psysml:8521a391-022b-403d-ab54-4e64ea01dd3a\" xlink:show=\"new\" xlink:title=\"psysml:8521a391-022b-403d-ab54-4e64ea01dd3a\" xlink:type=\"simple\"><rect fill=\"#FFFFFF\" height=\"45.9375\" id=\"E4\" style=\"stroke: #383838; stroke-width: 1.5;\" width=\"66\" x=\"32\" y=\"41\"/><text fill=\"#000000\" font-family=\"sans-serif\" font-size=\"12\" font-style=\"italic\" lengthAdjust=\"spacingAndGlyphs\" textLength=\"64\" x=\"33\" y=\"57.1387\">«part def»</text><text fill=\"#000000\" font-family=\"sans-serif\" font-size=\"12\" lengthAdjust=\"spacingAndGlyphs\" textLength=\"8\" x=\"61\" y=\"71.1074\">C</text><line style=\"stroke: #383838; stroke-width: 1.5;\" x1=\"33\" x2=\"97\" y1=\"78.9375\" y2=\"78.9375\"/></a><!--MD5=[270fce915f116d4de14055a7c1d9a0f3]\n",
       "class E5--><a href=\"psysml:7c666d7d-6a66-4269-8e3a-229640bb6ad0\" target=\"_top\" title=\"psysml:7c666d7d-6a66-4269-8e3a-229640bb6ad0\" xlink:actuate=\"onRequest\" xlink:href=\"psysml:7c666d7d-6a66-4269-8e3a-229640bb6ad0\" xlink:show=\"new\" xlink:title=\"psysml:7c666d7d-6a66-4269-8e3a-229640bb6ad0\" xlink:type=\"simple\"><rect fill=\"#FFFFFF\" height=\"45.9375\" id=\"E5\" rx=\"10\" ry=\"10\" style=\"stroke: #383838; stroke-width: 1.5;\" width=\"42\" x=\"44\" y=\"147\"/><text fill=\"#000000\" font-family=\"sans-serif\" font-size=\"12\" font-style=\"italic\" lengthAdjust=\"spacingAndGlyphs\" textLength=\"40\" x=\"45\" y=\"163.1387\">«part»</text><text fill=\"#000000\" font-family=\"sans-serif\" font-size=\"12\" lengthAdjust=\"spacingAndGlyphs\" textLength=\"8\" x=\"61\" y=\"177.1074\">g</text><line style=\"stroke: #383838; stroke-width: 1.5;\" x1=\"45\" x2=\"85\" y1=\"184.9375\" y2=\"184.9375\"/></a><!--MD5=[209b3feb70ccb6233bfe1053d122c12c]\n",
       "reverse link E2 to E3--><a href=\"psysml:71ed813c-2f6a-4d13-b6a9-9d55dbb4d689\" target=\"_top\" title=\"psysml:71ed813c-2f6a-4d13-b6a9-9d55dbb4d689\" xlink:actuate=\"onRequest\" xlink:href=\"psysml:71ed813c-2f6a-4d13-b6a9-9d55dbb4d689\" xlink:show=\"new\" xlink:title=\"psysml:71ed813c-2f6a-4d13-b6a9-9d55dbb4d689\" xlink:type=\"simple\"><path d=\"M154,100.44 C154,115.87 154,133.47 154,146.98 \" fill=\"none\" id=\"E2&lt;-E3\" style=\"stroke: #383838; stroke-width: 1.0;\"/><polygon fill=\"#383838\" points=\"154,87.06,150,93.06,154,99.06,158,93.06,154,87.06\" style=\"stroke: #383838; stroke-width: 1.0;\"/></a><!--MD5=[62aa6af11e70f752912c1cb0466f24f7]\n",
       "reverse link E4 to E5--><a href=\"psysml:66a9662c-d0de-409c-b1e7-d598996fdcb0\" target=\"_top\" title=\"psysml:66a9662c-d0de-409c-b1e7-d598996fdcb0\" xlink:actuate=\"onRequest\" xlink:href=\"psysml:66a9662c-d0de-409c-b1e7-d598996fdcb0\" xlink:show=\"new\" xlink:title=\"psysml:66a9662c-d0de-409c-b1e7-d598996fdcb0\" xlink:type=\"simple\"><path d=\"M65,100.44 C65,115.87 65,133.47 65,146.98 \" fill=\"none\" id=\"E4&lt;-E5\" style=\"stroke: #383838; stroke-width: 1.0;\"/><polygon fill=\"#383838\" points=\"65,87.06,61,93.06,65,99.06,69,93.06,65,87.06\" style=\"stroke: #383838; stroke-width: 1.0;\"/></a><!--MD5=[b972cfcf92a3e7b1b1fa0868dca34836]\n",
       "@startuml\r\n",
       "skinparam linetype polyline\r\n",
       "skinparam monochrome true\r\n",
       "skinparam classbackgroundcolor white\r\n",
       "skinparam shadowing false\r\n",
       "skinparam wrapWidth 300\r\n",
       "hide circle\r\n",
       "\r\n",
       "package \"Q\" as E1  [[psysml:48e9f940-1f69-4218-811f-6a29c7cbfcb6 ]]  {\r\n",
       "comp usage \"f\" as E2  <<(T,blue)part>> [[psysml:a224f497-53a8-4c97-a678-1669f6411a1a ]] {\r\n",
       "}\r\n",
       "comp usage \"a\" as E3  <<(T,blue)part>> [[psysml:692e246d-2e17-48ff-a8f3-1c9cda9639f6 ]] {\r\n",
       "}\r\n",
       "comp def \"C\" as E4  <<(T,blue)part def>> [[psysml:8521a391-022b-403d-ab54-4e64ea01dd3a ]] {\r\n",
       "}\r\n",
       "comp usage \"g\" as E5  <<(T,blue)part>> [[psysml:7c666d7d-6a66-4269-8e3a-229640bb6ad0 ]] {\r\n",
       "}\r\n",
       "E2 *- - E3 [[psysml:71ed813c-2f6a-4d13-b6a9-9d55dbb4d689 ]] \r\n",
       "E4 *- - E5 [[psysml:66a9662c-d0de-409c-b1e7-d598996fdcb0 ]] \r\n",
       "}\r\n",
       "@enduml\r\n",
       "\n",
       "PlantUML version 1.2020.13(Sat Jun 13 12:26:38 UTC 2020)\n",
       "(EPL source distribution)\n",
       "Java Runtime: OpenJDK Runtime Environment\n",
       "JVM: OpenJDK 64-Bit Server VM\n",
       "Default Encoding: UTF-8\n",
       "Language: en\n",
       "Country: null\n",
       "--></g></svg>"
      ]
     },
     "execution_count": 15,
     "metadata": {},
     "output_type": "execute_result"
    }
   ],
   "source": [
    "%viz --style=\"POLYLINE\" --view=\"MIXED\" \"Q\""
   ]
  },
  {
   "cell_type": "code",
   "execution_count": 16,
   "id": "a248a00a",
   "metadata": {
    "execution": {
     "iopub.execute_input": "2021-04-21T20:21:01.006707Z",
     "iopub.status.busy": "2021-04-21T20:21:01.006289Z",
     "iopub.status.idle": "2021-04-21T20:21:01.077173Z",
     "shell.execute_reply": "2021-04-21T20:21:01.076694Z"
    }
   },
   "outputs": [
    {
     "data": {
      "image/svg+xml": [
       "<?xml version=\"1.0\" encoding=\"UTF-8\" standalone=\"no\"?><svg xmlns=\"http://www.w3.org/2000/svg\" xmlns:xlink=\"http://www.w3.org/1999/xlink\" contentScriptType=\"application/ecmascript\" contentStyleType=\"text/css\" height=\"196px\" preserveAspectRatio=\"none\" style=\"width:238px;height:196px;\" version=\"1.1\" viewBox=\"0 0 238 196\" width=\"238px\" zoomAndPan=\"magnify\"><defs/><g><!--MD5=[fbc87193dbaf4d95561dea2c320d4a47]\n",
       "cluster E1--><a href=\"psysml:48e9f940-1f69-4218-811f-6a29c7cbfcb6\" target=\"_top\" title=\"psysml:48e9f940-1f69-4218-811f-6a29c7cbfcb6\" xlink:actuate=\"onRequest\" xlink:href=\"psysml:48e9f940-1f69-4218-811f-6a29c7cbfcb6\" xlink:show=\"new\" xlink:title=\"psysml:48e9f940-1f69-4218-811f-6a29c7cbfcb6\" xlink:type=\"simple\"><polygon fill=\"#FFFFFF\" points=\"16,6,34,6,41,28.2969,216,28.2969,216,184,16,184,16,6\" style=\"stroke: #000000; stroke-width: 1.5;\"/><line style=\"stroke: #000000; stroke-width: 1.5;\" x1=\"16\" x2=\"41\" y1=\"28.2969\" y2=\"28.2969\"/><text fill=\"#000000\" font-family=\"sans-serif\" font-size=\"14\" font-weight=\"bold\" lengthAdjust=\"spacingAndGlyphs\" textLength=\"12\" x=\"20\" y=\"20.9951\">Q</text></a><!--MD5=[b4997ac47864f28c2f74865a473b2911]\n",
       "class E2--><a href=\"psysml:a224f497-53a8-4c97-a678-1669f6411a1a\" target=\"_top\" title=\"psysml:a224f497-53a8-4c97-a678-1669f6411a1a\" xlink:actuate=\"onRequest\" xlink:href=\"psysml:a224f497-53a8-4c97-a678-1669f6411a1a\" xlink:show=\"new\" xlink:title=\"psysml:a224f497-53a8-4c97-a678-1669f6411a1a\" xlink:type=\"simple\"><rect fill=\"#FFFFFF\" height=\"45.9375\" id=\"E2\" rx=\"10\" ry=\"10\" style=\"stroke: #383838; stroke-width: 1.5;\" width=\"42\" x=\"44\" y=\"41\"/><text fill=\"#000000\" font-family=\"sans-serif\" font-size=\"12\" font-style=\"italic\" lengthAdjust=\"spacingAndGlyphs\" textLength=\"40\" x=\"45\" y=\"57.1387\">«part»</text><text fill=\"#000000\" font-family=\"sans-serif\" font-size=\"12\" lengthAdjust=\"spacingAndGlyphs\" textLength=\"4\" x=\"63\" y=\"71.1074\">f</text><line style=\"stroke: #383838; stroke-width: 1.5;\" x1=\"45\" x2=\"85\" y1=\"78.9375\" y2=\"78.9375\"/></a><!--MD5=[09b614a08d8cba4a07c9adeb5e0fee81]\n",
       "class E3--><a href=\"psysml:692e246d-2e17-48ff-a8f3-1c9cda9639f6\" target=\"_top\" title=\"psysml:692e246d-2e17-48ff-a8f3-1c9cda9639f6\" xlink:actuate=\"onRequest\" xlink:href=\"psysml:692e246d-2e17-48ff-a8f3-1c9cda9639f6\" xlink:show=\"new\" xlink:title=\"psysml:692e246d-2e17-48ff-a8f3-1c9cda9639f6\" xlink:type=\"simple\"><rect fill=\"#FFFFFF\" height=\"45.9375\" id=\"E3\" rx=\"10\" ry=\"10\" style=\"stroke: #383838; stroke-width: 1.5;\" width=\"42\" x=\"158\" y=\"41\"/><text fill=\"#000000\" font-family=\"sans-serif\" font-size=\"12\" font-style=\"italic\" lengthAdjust=\"spacingAndGlyphs\" textLength=\"40\" x=\"159\" y=\"57.1387\">«part»</text><text fill=\"#000000\" font-family=\"sans-serif\" font-size=\"12\" lengthAdjust=\"spacingAndGlyphs\" textLength=\"8\" x=\"175\" y=\"71.1074\">a</text><line style=\"stroke: #383838; stroke-width: 1.5;\" x1=\"159\" x2=\"199\" y1=\"78.9375\" y2=\"78.9375\"/></a><!--MD5=[ebbe1d658d1005bcc118a6aa81145e00]\n",
       "class E4--><a href=\"psysml:8521a391-022b-403d-ab54-4e64ea01dd3a\" target=\"_top\" title=\"psysml:8521a391-022b-403d-ab54-4e64ea01dd3a\" xlink:actuate=\"onRequest\" xlink:href=\"psysml:8521a391-022b-403d-ab54-4e64ea01dd3a\" xlink:show=\"new\" xlink:title=\"psysml:8521a391-022b-403d-ab54-4e64ea01dd3a\" xlink:type=\"simple\"><rect fill=\"#FFFFFF\" height=\"45.9375\" id=\"E4\" style=\"stroke: #383838; stroke-width: 1.5;\" width=\"66\" x=\"32\" y=\"122\"/><text fill=\"#000000\" font-family=\"sans-serif\" font-size=\"12\" font-style=\"italic\" lengthAdjust=\"spacingAndGlyphs\" textLength=\"64\" x=\"33\" y=\"138.1387\">«part def»</text><text fill=\"#000000\" font-family=\"sans-serif\" font-size=\"12\" lengthAdjust=\"spacingAndGlyphs\" textLength=\"8\" x=\"61\" y=\"152.1074\">C</text><line style=\"stroke: #383838; stroke-width: 1.5;\" x1=\"33\" x2=\"97\" y1=\"159.9375\" y2=\"159.9375\"/></a><!--MD5=[270fce915f116d4de14055a7c1d9a0f3]\n",
       "class E5--><a href=\"psysml:7c666d7d-6a66-4269-8e3a-229640bb6ad0\" target=\"_top\" title=\"psysml:7c666d7d-6a66-4269-8e3a-229640bb6ad0\" xlink:actuate=\"onRequest\" xlink:href=\"psysml:7c666d7d-6a66-4269-8e3a-229640bb6ad0\" xlink:show=\"new\" xlink:title=\"psysml:7c666d7d-6a66-4269-8e3a-229640bb6ad0\" xlink:type=\"simple\"><rect fill=\"#FFFFFF\" height=\"45.9375\" id=\"E5\" rx=\"10\" ry=\"10\" style=\"stroke: #383838; stroke-width: 1.5;\" width=\"42\" x=\"158\" y=\"122\"/><text fill=\"#000000\" font-family=\"sans-serif\" font-size=\"12\" font-style=\"italic\" lengthAdjust=\"spacingAndGlyphs\" textLength=\"40\" x=\"159\" y=\"138.1387\">«part»</text><text fill=\"#000000\" font-family=\"sans-serif\" font-size=\"12\" lengthAdjust=\"spacingAndGlyphs\" textLength=\"8\" x=\"175\" y=\"152.1074\">g</text><line style=\"stroke: #383838; stroke-width: 1.5;\" x1=\"159\" x2=\"199\" y1=\"159.9375\" y2=\"159.9375\"/></a><!--MD5=[209b3feb70ccb6233bfe1053d122c12c]\n",
       "reverse link E2 to E3--><a href=\"psysml:71ed813c-2f6a-4d13-b6a9-9d55dbb4d689\" target=\"_top\" title=\"psysml:71ed813c-2f6a-4d13-b6a9-9d55dbb4d689\" xlink:actuate=\"onRequest\" xlink:href=\"psysml:71ed813c-2f6a-4d13-b6a9-9d55dbb4d689\" xlink:show=\"new\" xlink:title=\"psysml:71ed813c-2f6a-4d13-b6a9-9d55dbb4d689\" xlink:type=\"simple\"><path d=\"M99.26,64 C118.27,64 141.49,64 157.77,64 \" fill=\"none\" id=\"E2&lt;-E3\" style=\"stroke: #383838; stroke-width: 1.0;\"/><polygon fill=\"#383838\" points=\"86.02,64,92.02,68,98.02,64,92.02,60,86.02,64\" style=\"stroke: #383838; stroke-width: 1.0;\"/></a><!--MD5=[62aa6af11e70f752912c1cb0466f24f7]\n",
       "reverse link E4 to E5--><a href=\"psysml:66a9662c-d0de-409c-b1e7-d598996fdcb0\" target=\"_top\" title=\"psysml:66a9662c-d0de-409c-b1e7-d598996fdcb0\" xlink:actuate=\"onRequest\" xlink:href=\"psysml:66a9662c-d0de-409c-b1e7-d598996fdcb0\" xlink:show=\"new\" xlink:title=\"psysml:66a9662c-d0de-409c-b1e7-d598996fdcb0\" xlink:type=\"simple\"><path d=\"M111.28,145 C127.47,145 144.9,145 157.89,145 \" fill=\"none\" id=\"E4&lt;-E5\" style=\"stroke: #383838; stroke-width: 1.0;\"/><polygon fill=\"#383838\" points=\"98.09,145,104.09,149,110.09,145,104.09,141,98.09,145\" style=\"stroke: #383838; stroke-width: 1.0;\"/></a><!--MD5=[1af66fd5aea774f9cd8e0415f7529f72]\n",
       "@startuml\r\n",
       "left to right direction\r\n",
       "skinparam monochrome true\r\n",
       "skinparam classbackgroundcolor white\r\n",
       "skinparam shadowing false\r\n",
       "skinparam wrapWidth 300\r\n",
       "hide circle\r\n",
       "\r\n",
       "package \"Q\" as E1  [[psysml:48e9f940-1f69-4218-811f-6a29c7cbfcb6 ]]  {\r\n",
       "comp usage \"f\" as E2  <<(T,blue)part>> [[psysml:a224f497-53a8-4c97-a678-1669f6411a1a ]] {\r\n",
       "}\r\n",
       "comp usage \"a\" as E3  <<(T,blue)part>> [[psysml:692e246d-2e17-48ff-a8f3-1c9cda9639f6 ]] {\r\n",
       "}\r\n",
       "comp def \"C\" as E4  <<(T,blue)part def>> [[psysml:8521a391-022b-403d-ab54-4e64ea01dd3a ]] {\r\n",
       "}\r\n",
       "comp usage \"g\" as E5  <<(T,blue)part>> [[psysml:7c666d7d-6a66-4269-8e3a-229640bb6ad0 ]] {\r\n",
       "}\r\n",
       "E2 *- - E3 [[psysml:71ed813c-2f6a-4d13-b6a9-9d55dbb4d689 ]] \r\n",
       "E4 *- - E5 [[psysml:66a9662c-d0de-409c-b1e7-d598996fdcb0 ]] \r\n",
       "}\r\n",
       "@enduml\r\n",
       "\n",
       "PlantUML version 1.2020.13(Sat Jun 13 12:26:38 UTC 2020)\n",
       "(EPL source distribution)\n",
       "Java Runtime: OpenJDK Runtime Environment\n",
       "JVM: OpenJDK 64-Bit Server VM\n",
       "Default Encoding: UTF-8\n",
       "Language: en\n",
       "Country: null\n",
       "--></g></svg>"
      ]
     },
     "execution_count": 16,
     "metadata": {},
     "output_type": "execute_result"
    }
   ],
   "source": [
    "%viz --style=\"LR\" --view=\"Default\" \"Q\""
   ]
  },
  {
   "cell_type": "code",
   "execution_count": 17,
   "id": "f3760c5f",
   "metadata": {
    "execution": {
     "iopub.execute_input": "2021-04-21T20:21:01.151427Z",
     "iopub.status.busy": "2021-04-21T20:21:01.150429Z",
     "iopub.status.idle": "2021-04-21T20:21:01.211704Z",
     "shell.execute_reply": "2021-04-21T20:21:01.210204Z"
    }
   },
   "outputs": [
    {
     "data": {
      "image/svg+xml": [
       "<?xml version=\"1.0\" encoding=\"UTF-8\" standalone=\"no\"?><svg xmlns=\"http://www.w3.org/2000/svg\" xmlns:xlink=\"http://www.w3.org/1999/xlink\" contentScriptType=\"application/ecmascript\" contentStyleType=\"text/css\" height=\"196px\" preserveAspectRatio=\"none\" style=\"width:238px;height:196px;\" version=\"1.1\" viewBox=\"0 0 238 196\" width=\"238px\" zoomAndPan=\"magnify\"><defs/><g><!--MD5=[fbc87193dbaf4d95561dea2c320d4a47]\n",
       "cluster E1--><a href=\"psysml:48e9f940-1f69-4218-811f-6a29c7cbfcb6\" target=\"_top\" title=\"psysml:48e9f940-1f69-4218-811f-6a29c7cbfcb6\" xlink:actuate=\"onRequest\" xlink:href=\"psysml:48e9f940-1f69-4218-811f-6a29c7cbfcb6\" xlink:show=\"new\" xlink:title=\"psysml:48e9f940-1f69-4218-811f-6a29c7cbfcb6\" xlink:type=\"simple\"><polygon fill=\"#FFFFFF\" points=\"16,6,34,6,41,28.2969,216,28.2969,216,184,16,184,16,6\" style=\"stroke: #000000; stroke-width: 1.5;\"/><line style=\"stroke: #000000; stroke-width: 1.5;\" x1=\"16\" x2=\"41\" y1=\"28.2969\" y2=\"28.2969\"/><text fill=\"#000000\" font-family=\"sans-serif\" font-size=\"14\" font-weight=\"bold\" lengthAdjust=\"spacingAndGlyphs\" textLength=\"12\" x=\"20\" y=\"20.9951\">Q</text></a><!--MD5=[b4997ac47864f28c2f74865a473b2911]\n",
       "class E2--><a href=\"psysml:a224f497-53a8-4c97-a678-1669f6411a1a\" target=\"_top\" title=\"psysml:a224f497-53a8-4c97-a678-1669f6411a1a\" xlink:actuate=\"onRequest\" xlink:href=\"psysml:a224f497-53a8-4c97-a678-1669f6411a1a\" xlink:show=\"new\" xlink:title=\"psysml:a224f497-53a8-4c97-a678-1669f6411a1a\" xlink:type=\"simple\"><rect fill=\"#FFFFFF\" height=\"45.9375\" id=\"E2\" rx=\"10\" ry=\"10\" style=\"stroke: #383838; stroke-width: 1.5;\" width=\"42\" x=\"44\" y=\"41\"/><text fill=\"#000000\" font-family=\"sans-serif\" font-size=\"12\" font-style=\"italic\" lengthAdjust=\"spacingAndGlyphs\" textLength=\"40\" x=\"45\" y=\"57.1387\">«part»</text><text fill=\"#000000\" font-family=\"sans-serif\" font-size=\"12\" lengthAdjust=\"spacingAndGlyphs\" textLength=\"4\" x=\"63\" y=\"71.1074\">f</text><line style=\"stroke: #383838; stroke-width: 1.5;\" x1=\"45\" x2=\"85\" y1=\"78.9375\" y2=\"78.9375\"/></a><!--MD5=[09b614a08d8cba4a07c9adeb5e0fee81]\n",
       "class E3--><a href=\"psysml:692e246d-2e17-48ff-a8f3-1c9cda9639f6\" target=\"_top\" title=\"psysml:692e246d-2e17-48ff-a8f3-1c9cda9639f6\" xlink:actuate=\"onRequest\" xlink:href=\"psysml:692e246d-2e17-48ff-a8f3-1c9cda9639f6\" xlink:show=\"new\" xlink:title=\"psysml:692e246d-2e17-48ff-a8f3-1c9cda9639f6\" xlink:type=\"simple\"><rect fill=\"#FFFFFF\" height=\"45.9375\" id=\"E3\" rx=\"10\" ry=\"10\" style=\"stroke: #383838; stroke-width: 1.5;\" width=\"42\" x=\"158\" y=\"41\"/><text fill=\"#000000\" font-family=\"sans-serif\" font-size=\"12\" font-style=\"italic\" lengthAdjust=\"spacingAndGlyphs\" textLength=\"40\" x=\"159\" y=\"57.1387\">«part»</text><text fill=\"#000000\" font-family=\"sans-serif\" font-size=\"12\" lengthAdjust=\"spacingAndGlyphs\" textLength=\"8\" x=\"175\" y=\"71.1074\">a</text><line style=\"stroke: #383838; stroke-width: 1.5;\" x1=\"159\" x2=\"199\" y1=\"78.9375\" y2=\"78.9375\"/></a><!--MD5=[ebbe1d658d1005bcc118a6aa81145e00]\n",
       "class E4--><a href=\"psysml:8521a391-022b-403d-ab54-4e64ea01dd3a\" target=\"_top\" title=\"psysml:8521a391-022b-403d-ab54-4e64ea01dd3a\" xlink:actuate=\"onRequest\" xlink:href=\"psysml:8521a391-022b-403d-ab54-4e64ea01dd3a\" xlink:show=\"new\" xlink:title=\"psysml:8521a391-022b-403d-ab54-4e64ea01dd3a\" xlink:type=\"simple\"><rect fill=\"#FFFFFF\" height=\"45.9375\" id=\"E4\" style=\"stroke: #383838; stroke-width: 1.5;\" width=\"66\" x=\"32\" y=\"122\"/><text fill=\"#000000\" font-family=\"sans-serif\" font-size=\"12\" font-style=\"italic\" lengthAdjust=\"spacingAndGlyphs\" textLength=\"64\" x=\"33\" y=\"138.1387\">«part def»</text><text fill=\"#000000\" font-family=\"sans-serif\" font-size=\"12\" lengthAdjust=\"spacingAndGlyphs\" textLength=\"8\" x=\"61\" y=\"152.1074\">C</text><line style=\"stroke: #383838; stroke-width: 1.5;\" x1=\"33\" x2=\"97\" y1=\"159.9375\" y2=\"159.9375\"/></a><!--MD5=[270fce915f116d4de14055a7c1d9a0f3]\n",
       "class E5--><a href=\"psysml:7c666d7d-6a66-4269-8e3a-229640bb6ad0\" target=\"_top\" title=\"psysml:7c666d7d-6a66-4269-8e3a-229640bb6ad0\" xlink:actuate=\"onRequest\" xlink:href=\"psysml:7c666d7d-6a66-4269-8e3a-229640bb6ad0\" xlink:show=\"new\" xlink:title=\"psysml:7c666d7d-6a66-4269-8e3a-229640bb6ad0\" xlink:type=\"simple\"><rect fill=\"#FFFFFF\" height=\"45.9375\" id=\"E5\" rx=\"10\" ry=\"10\" style=\"stroke: #383838; stroke-width: 1.5;\" width=\"42\" x=\"158\" y=\"122\"/><text fill=\"#000000\" font-family=\"sans-serif\" font-size=\"12\" font-style=\"italic\" lengthAdjust=\"spacingAndGlyphs\" textLength=\"40\" x=\"159\" y=\"138.1387\">«part»</text><text fill=\"#000000\" font-family=\"sans-serif\" font-size=\"12\" lengthAdjust=\"spacingAndGlyphs\" textLength=\"8\" x=\"175\" y=\"152.1074\">g</text><line style=\"stroke: #383838; stroke-width: 1.5;\" x1=\"159\" x2=\"199\" y1=\"159.9375\" y2=\"159.9375\"/></a><!--MD5=[209b3feb70ccb6233bfe1053d122c12c]\n",
       "reverse link E2 to E3--><a href=\"psysml:71ed813c-2f6a-4d13-b6a9-9d55dbb4d689\" target=\"_top\" title=\"psysml:71ed813c-2f6a-4d13-b6a9-9d55dbb4d689\" xlink:actuate=\"onRequest\" xlink:href=\"psysml:71ed813c-2f6a-4d13-b6a9-9d55dbb4d689\" xlink:show=\"new\" xlink:title=\"psysml:71ed813c-2f6a-4d13-b6a9-9d55dbb4d689\" xlink:type=\"simple\"><path d=\"M99.26,64 C118.27,64 141.49,64 157.77,64 \" fill=\"none\" id=\"E2&lt;-E3\" style=\"stroke: #383838; stroke-width: 1.0;\"/><polygon fill=\"#383838\" points=\"86.02,64,92.02,68,98.02,64,92.02,60,86.02,64\" style=\"stroke: #383838; stroke-width: 1.0;\"/></a><!--MD5=[62aa6af11e70f752912c1cb0466f24f7]\n",
       "reverse link E4 to E5--><a href=\"psysml:66a9662c-d0de-409c-b1e7-d598996fdcb0\" target=\"_top\" title=\"psysml:66a9662c-d0de-409c-b1e7-d598996fdcb0\" xlink:actuate=\"onRequest\" xlink:href=\"psysml:66a9662c-d0de-409c-b1e7-d598996fdcb0\" xlink:show=\"new\" xlink:title=\"psysml:66a9662c-d0de-409c-b1e7-d598996fdcb0\" xlink:type=\"simple\"><path d=\"M111.28,145 C127.47,145 144.9,145 157.89,145 \" fill=\"none\" id=\"E4&lt;-E5\" style=\"stroke: #383838; stroke-width: 1.0;\"/><polygon fill=\"#383838\" points=\"98.09,145,104.09,149,110.09,145,104.09,141,98.09,145\" style=\"stroke: #383838; stroke-width: 1.0;\"/></a><!--MD5=[1af66fd5aea774f9cd8e0415f7529f72]\n",
       "@startuml\r\n",
       "left to right direction\r\n",
       "skinparam monochrome true\r\n",
       "skinparam classbackgroundcolor white\r\n",
       "skinparam shadowing false\r\n",
       "skinparam wrapWidth 300\r\n",
       "hide circle\r\n",
       "\r\n",
       "package \"Q\" as E1  [[psysml:48e9f940-1f69-4218-811f-6a29c7cbfcb6 ]]  {\r\n",
       "comp usage \"f\" as E2  <<(T,blue)part>> [[psysml:a224f497-53a8-4c97-a678-1669f6411a1a ]] {\r\n",
       "}\r\n",
       "comp usage \"a\" as E3  <<(T,blue)part>> [[psysml:692e246d-2e17-48ff-a8f3-1c9cda9639f6 ]] {\r\n",
       "}\r\n",
       "comp def \"C\" as E4  <<(T,blue)part def>> [[psysml:8521a391-022b-403d-ab54-4e64ea01dd3a ]] {\r\n",
       "}\r\n",
       "comp usage \"g\" as E5  <<(T,blue)part>> [[psysml:7c666d7d-6a66-4269-8e3a-229640bb6ad0 ]] {\r\n",
       "}\r\n",
       "E2 *- - E3 [[psysml:71ed813c-2f6a-4d13-b6a9-9d55dbb4d689 ]] \r\n",
       "E4 *- - E5 [[psysml:66a9662c-d0de-409c-b1e7-d598996fdcb0 ]] \r\n",
       "}\r\n",
       "@enduml\r\n",
       "\n",
       "PlantUML version 1.2020.13(Sat Jun 13 12:26:38 UTC 2020)\n",
       "(EPL source distribution)\n",
       "Java Runtime: OpenJDK Runtime Environment\n",
       "JVM: OpenJDK 64-Bit Server VM\n",
       "Default Encoding: UTF-8\n",
       "Language: en\n",
       "Country: null\n",
       "--></g></svg>"
      ]
     },
     "execution_count": 17,
     "metadata": {},
     "output_type": "execute_result"
    }
   ],
   "source": [
    "%viz --style=\"LR\" --view=\"Tree\" \"Q\""
   ]
  },
  {
   "cell_type": "code",
   "execution_count": 18,
   "id": "5b95d7db",
   "metadata": {
    "execution": {
     "iopub.execute_input": "2021-04-21T20:21:01.266359Z",
     "iopub.status.busy": "2021-04-21T20:21:01.262481Z",
     "iopub.status.idle": "2021-04-21T20:21:01.282296Z",
     "shell.execute_reply": "2021-04-21T20:21:01.281927Z"
    }
   },
   "outputs": [
    {
     "data": {
      "image/svg+xml": [
       "<?xml version=\"1.0\" encoding=\"UTF-8\" standalone=\"no\"?><svg xmlns=\"http://www.w3.org/2000/svg\" xmlns:xlink=\"http://www.w3.org/1999/xlink\" contentScriptType=\"application/ecmascript\" contentStyleType=\"text/css\" height=\"12px\" preserveAspectRatio=\"none\" style=\"width:12px;height:12px;\" version=\"1.1\" viewBox=\"0 0 12 12\" width=\"12px\" zoomAndPan=\"magnify\"><defs/><g><!--MD5=[19d285c9d72a204eba4e2cd117d745e8]\n",
       "@startuml\r\n",
       "left to right direction\r\n",
       "skinparam monochrome true\r\n",
       "skinparam classbackgroundcolor white\r\n",
       "skinparam shadowing false\r\n",
       "skinparam wrapWidth 300\r\n",
       "hide circle\r\n",
       "\r\n",
       "@enduml\r\n",
       "\n",
       "PlantUML version 1.2020.13(Sat Jun 13 12:26:38 UTC 2020)\n",
       "(EPL source distribution)\n",
       "Java Runtime: OpenJDK Runtime Environment\n",
       "JVM: OpenJDK 64-Bit Server VM\n",
       "Default Encoding: UTF-8\n",
       "Language: en\n",
       "Country: null\n",
       "--></g></svg>"
      ]
     },
     "execution_count": 18,
     "metadata": {},
     "output_type": "execute_result"
    }
   ],
   "source": [
    "%viz --style=\"LR\" --view=\"State\" \"Q\""
   ]
  },
  {
   "cell_type": "code",
   "execution_count": 19,
   "id": "035fcb27",
   "metadata": {
    "execution": {
     "iopub.execute_input": "2021-04-21T20:21:01.333739Z",
     "iopub.status.busy": "2021-04-21T20:21:01.333319Z",
     "iopub.status.idle": "2021-04-21T20:21:01.374851Z",
     "shell.execute_reply": "2021-04-21T20:21:01.373536Z"
    }
   },
   "outputs": [
    {
     "data": {
      "image/svg+xml": [
       "<?xml version=\"1.0\" encoding=\"UTF-8\" standalone=\"no\"?><svg xmlns=\"http://www.w3.org/2000/svg\" xmlns:xlink=\"http://www.w3.org/1999/xlink\" contentScriptType=\"application/ecmascript\" contentStyleType=\"text/css\" height=\"307px\" preserveAspectRatio=\"none\" style=\"width:179px;height:307px;\" version=\"1.1\" viewBox=\"0 0 179 307\" width=\"179px\" zoomAndPan=\"magnify\"><defs/><g><!--MD5=[fbc87193dbaf4d95561dea2c320d4a47]\n",
       "cluster E1--><a href=\"psysml:48e9f940-1f69-4218-811f-6a29c7cbfcb6\" target=\"_top\" title=\"psysml:48e9f940-1f69-4218-811f-6a29c7cbfcb6\" xlink:actuate=\"onRequest\" xlink:href=\"psysml:48e9f940-1f69-4218-811f-6a29c7cbfcb6\" xlink:show=\"new\" xlink:title=\"psysml:48e9f940-1f69-4218-811f-6a29c7cbfcb6\" xlink:type=\"simple\"><polygon fill=\"#FFFFFF\" points=\"16,6,34,6,41,28.2969,157,28.2969,157,295,16,295,16,6\" style=\"stroke: #000000; stroke-width: 1.5;\"/><line style=\"stroke: #000000; stroke-width: 1.5;\" x1=\"16\" x2=\"41\" y1=\"28.2969\" y2=\"28.2969\"/><text fill=\"#000000\" font-family=\"sans-serif\" font-size=\"14\" font-weight=\"bold\" lengthAdjust=\"spacingAndGlyphs\" textLength=\"12\" x=\"20\" y=\"20.9951\">Q</text></a><!--MD5=[e4f7fae6ed58524ba242bb0b0d3be6b7]\n",
       "cluster E2--><a href=\"psysml:a224f497-53a8-4c97-a678-1669f6411a1a\" target=\"_top\" title=\"psysml:a224f497-53a8-4c97-a678-1669f6411a1a\" xlink:actuate=\"onRequest\" xlink:href=\"psysml:a224f497-53a8-4c97-a678-1669f6411a1a\" xlink:show=\"new\" xlink:title=\"psysml:a224f497-53a8-4c97-a678-1669f6411a1a\" xlink:type=\"simple\"><rect fill=\"#FFFFFF\" height=\"91\" id=\"E2\" rx=\"10\" ry=\"10\" style=\"stroke: #383838; stroke-width: 1.5;\" width=\"82\" x=\"45.5\" y=\"49\"/><rect fill=\"#F8F8F8\" height=\"23.9688\" rx=\"10\" ry=\"10\" style=\"stroke: #F8F8F8; stroke-width: 1.5;\" width=\"82\" x=\"45.5\" y=\"49\"/><rect fill=\"#F8F8F8\" height=\"10\" style=\"stroke: #F8F8F8; stroke-width: 1.5;\" width=\"82\" x=\"45.5\" y=\"62.9688\"/><rect fill=\"none\" height=\"91\" id=\"E2\" rx=\"10\" ry=\"10\" style=\"stroke: #383838; stroke-width: 1.5;\" width=\"82\" x=\"45.5\" y=\"49\"/><text fill=\"#000000\" font-family=\"sans-serif\" font-size=\"12\" lengthAdjust=\"spacingAndGlyphs\" textLength=\"4\" x=\"84.5\" y=\"65.1387\">f</text><line style=\"stroke: #383838; stroke-width: 1.0;\" x1=\"45.5\" x2=\"127.5\" y1=\"72.9688\" y2=\"72.9688\"/></a><!--MD5=[f6df4d0ebaf0b5dfb2ced0ae5af7c670]\n",
       "cluster E4--><a href=\"psysml:8521a391-022b-403d-ab54-4e64ea01dd3a\" target=\"_top\" title=\"psysml:8521a391-022b-403d-ab54-4e64ea01dd3a\" xlink:actuate=\"onRequest\" xlink:href=\"psysml:8521a391-022b-403d-ab54-4e64ea01dd3a\" xlink:show=\"new\" xlink:title=\"psysml:8521a391-022b-403d-ab54-4e64ea01dd3a\" xlink:type=\"simple\"><rect fill=\"#FFFFFF\" height=\"107\" id=\"E4\" style=\"stroke: #383838; stroke-width: 1.5;\" width=\"93\" x=\"40\" y=\"164\"/><rect fill=\"#F8F8F8\" height=\"37.9375\" style=\"stroke: #383838; stroke-width: 1.5;\" width=\"93\" x=\"40\" y=\"164\"/><text fill=\"#000000\" font-family=\"sans-serif\" font-size=\"12\" font-style=\"italic\" lengthAdjust=\"spacingAndGlyphs\" textLength=\"64\" x=\"54.5\" y=\"180.1387\">«part def»</text><text fill=\"#000000\" font-family=\"sans-serif\" font-size=\"12\" lengthAdjust=\"spacingAndGlyphs\" textLength=\"8\" x=\"82.5\" y=\"194.1074\">C</text></a><g id=\"E1.E2.E3\"><a href=\"psysml:692e246d-2e17-48ff-a8f3-1c9cda9639f6\" target=\"_top\" title=\"psysml:692e246d-2e17-48ff-a8f3-1c9cda9639f6\" xlink:actuate=\"onRequest\" xlink:href=\"psysml:692e246d-2e17-48ff-a8f3-1c9cda9639f6\" xlink:show=\"new\" xlink:title=\"psysml:692e246d-2e17-48ff-a8f3-1c9cda9639f6\" xlink:type=\"simple\"><rect fill=\"#FFFFFF\" height=\"40\" id=\"E3\" rx=\"10\" ry=\"10\" style=\"stroke: #383838; stroke-width: 1.5;\" width=\"50\" x=\"61.5\" y=\"84\"/><rect fill=\"#F8F8F8\" height=\"23.9688\" rx=\"10\" ry=\"10\" style=\"stroke: #F8F8F8; stroke-width: 1.5;\" width=\"50\" x=\"61.5\" y=\"84\"/><rect fill=\"#F8F8F8\" height=\"10\" style=\"stroke: #F8F8F8; stroke-width: 1.5;\" width=\"50\" x=\"61.5\" y=\"97.9688\"/><rect fill=\"none\" height=\"40\" id=\"E3\" rx=\"10\" ry=\"10\" style=\"stroke: #383838; stroke-width: 1.5;\" width=\"50\" x=\"61.5\" y=\"84\"/><text fill=\"#000000\" font-family=\"sans-serif\" font-size=\"12\" lengthAdjust=\"spacingAndGlyphs\" textLength=\"8\" x=\"82.5\" y=\"100.1387\">a</text></a></g><g id=\"E1.E4.E5\"><a href=\"psysml:7c666d7d-6a66-4269-8e3a-229640bb6ad0\" target=\"_top\" title=\"psysml:7c666d7d-6a66-4269-8e3a-229640bb6ad0\" xlink:actuate=\"onRequest\" xlink:href=\"psysml:7c666d7d-6a66-4269-8e3a-229640bb6ad0\" xlink:show=\"new\" xlink:title=\"psysml:7c666d7d-6a66-4269-8e3a-229640bb6ad0\" xlink:type=\"simple\"><rect fill=\"#FFFFFF\" height=\"40\" id=\"E5\" rx=\"10\" ry=\"10\" style=\"stroke: #383838; stroke-width: 1.5;\" width=\"61\" x=\"56\" y=\"215\"/><rect fill=\"#F8F8F8\" height=\"23.9688\" rx=\"10\" ry=\"10\" style=\"stroke: #F8F8F8; stroke-width: 1.5;\" width=\"61\" x=\"56\" y=\"215\"/><rect fill=\"#F8F8F8\" height=\"10\" style=\"stroke: #F8F8F8; stroke-width: 1.5;\" width=\"61\" x=\"56\" y=\"228.9688\"/><rect fill=\"none\" height=\"40\" id=\"E5\" rx=\"10\" ry=\"10\" style=\"stroke: #383838; stroke-width: 1.5;\" width=\"61\" x=\"56\" y=\"215\"/><text fill=\"#000000\" font-family=\"sans-serif\" font-size=\"12\" lengthAdjust=\"spacingAndGlyphs\" textLength=\"46\" x=\"61.5\" y=\"231.1387\">g=./f/a;</text></a></g><!--MD5=[6edb7e4ac02990ca62d84cf69be5b87f]\n",
       "@startuml\r\n",
       "skinparam ranksep 10\r\n",
       "skinparam rectangle {\r\n",
       " backgroundColor<<block>> LightGreen\r\n",
       "}\r\n",
       "left to right direction\r\n",
       "skinparam monochrome true\r\n",
       "skinparam classbackgroundcolor white\r\n",
       "skinparam shadowing false\r\n",
       "skinparam wrapWidth 300\r\n",
       "hide circle\r\n",
       "\r\n",
       "package \"Q\" as E1  [[psysml:48e9f940-1f69-4218-811f-6a29c7cbfcb6 ]]  {\r\n",
       "rec usage \"f\" as E2  [[psysml:a224f497-53a8-4c97-a678-1669f6411a1a ]] {\r\n",
       "rec usage \"a\" as E3  [[psysml:692e246d-2e17-48ff-a8f3-1c9cda9639f6 ]] {\r\n",
       "}\r\n",
       "}\r\n",
       "rec def \"C\" as E4  <<(T,blue)part def>> [[psysml:8521a391-022b-403d-ab54-4e64ea01dd3a ]] {\r\n",
       "rec usage \"g=./f/a; \" as E5  [[psysml:7c666d7d-6a66-4269-8e3a-229640bb6ad0 ]] {\r\n",
       "}\r\n",
       "}\r\n",
       "}\r\n",
       "@enduml\r\n",
       "\n",
       "PlantUML version 1.2020.13(Sat Jun 13 12:26:38 UTC 2020)\n",
       "(EPL source distribution)\n",
       "Java Runtime: OpenJDK Runtime Environment\n",
       "JVM: OpenJDK 64-Bit Server VM\n",
       "Default Encoding: UTF-8\n",
       "Language: en\n",
       "Country: null\n",
       "--></g></svg>"
      ]
     },
     "execution_count": 19,
     "metadata": {},
     "output_type": "execute_result"
    }
   ],
   "source": [
    "%viz --style=\"LR\" --view=\"Interconnection\" \"Q\""
   ]
  },
  {
   "cell_type": "code",
   "execution_count": 20,
   "id": "a159e18c",
   "metadata": {
    "execution": {
     "iopub.execute_input": "2021-04-21T20:21:01.426319Z",
     "iopub.status.busy": "2021-04-21T20:21:01.425376Z",
     "iopub.status.idle": "2021-04-21T20:21:01.433993Z",
     "shell.execute_reply": "2021-04-21T20:21:01.434277Z"
    }
   },
   "outputs": [
    {
     "data": {
      "image/svg+xml": [
       "<?xml version=\"1.0\" encoding=\"UTF-8\" standalone=\"no\"?><svg xmlns=\"http://www.w3.org/2000/svg\" xmlns:xlink=\"http://www.w3.org/1999/xlink\" contentScriptType=\"application/ecmascript\" contentStyleType=\"text/css\" height=\"12px\" preserveAspectRatio=\"none\" style=\"width:12px;height:12px;\" version=\"1.1\" viewBox=\"0 0 12 12\" width=\"12px\" zoomAndPan=\"magnify\"><defs/><g><!--MD5=[7aeb398939421629f6affaa4a1a7b125]\n",
       "@startuml\r\n",
       "skinparam ranksep 8\r\n",
       "left to right direction\r\n",
       "skinparam monochrome true\r\n",
       "skinparam classbackgroundcolor white\r\n",
       "skinparam shadowing false\r\n",
       "skinparam wrapWidth 300\r\n",
       "hide circle\r\n",
       "\r\n",
       "@enduml\r\n",
       "\n",
       "PlantUML version 1.2020.13(Sat Jun 13 12:26:38 UTC 2020)\n",
       "(EPL source distribution)\n",
       "Java Runtime: OpenJDK Runtime Environment\n",
       "JVM: OpenJDK 64-Bit Server VM\n",
       "Default Encoding: UTF-8\n",
       "Language: en\n",
       "Country: null\n",
       "--></g></svg>"
      ]
     },
     "execution_count": 20,
     "metadata": {},
     "output_type": "execute_result"
    }
   ],
   "source": [
    "%viz --style=\"LR\" --view=\"Action\" \"Q\""
   ]
  },
  {
   "cell_type": "code",
   "execution_count": 21,
   "id": "f7dcb57a",
   "metadata": {
    "execution": {
     "iopub.execute_input": "2021-04-21T20:21:01.485803Z",
     "iopub.status.busy": "2021-04-21T20:21:01.485436Z",
     "iopub.status.idle": "2021-04-21T20:21:01.536887Z",
     "shell.execute_reply": "2021-04-21T20:21:01.534732Z"
    }
   },
   "outputs": [
    {
     "data": {
      "image/svg+xml": [
       "<?xml version=\"1.0\" encoding=\"UTF-8\" standalone=\"no\"?><svg xmlns=\"http://www.w3.org/2000/svg\" xmlns:xlink=\"http://www.w3.org/1999/xlink\" contentScriptType=\"application/ecmascript\" contentStyleType=\"text/css\" height=\"196px\" preserveAspectRatio=\"none\" style=\"width:238px;height:196px;\" version=\"1.1\" viewBox=\"0 0 238 196\" width=\"238px\" zoomAndPan=\"magnify\"><defs/><g><!--MD5=[fbc87193dbaf4d95561dea2c320d4a47]\n",
       "cluster E1--><a href=\"psysml:48e9f940-1f69-4218-811f-6a29c7cbfcb6\" target=\"_top\" title=\"psysml:48e9f940-1f69-4218-811f-6a29c7cbfcb6\" xlink:actuate=\"onRequest\" xlink:href=\"psysml:48e9f940-1f69-4218-811f-6a29c7cbfcb6\" xlink:show=\"new\" xlink:title=\"psysml:48e9f940-1f69-4218-811f-6a29c7cbfcb6\" xlink:type=\"simple\"><polygon fill=\"#FFFFFF\" points=\"16,6,34,6,41,28.2969,216,28.2969,216,184,16,184,16,6\" style=\"stroke: #000000; stroke-width: 1.5;\"/><line style=\"stroke: #000000; stroke-width: 1.5;\" x1=\"16\" x2=\"41\" y1=\"28.2969\" y2=\"28.2969\"/><text fill=\"#000000\" font-family=\"sans-serif\" font-size=\"14\" font-weight=\"bold\" lengthAdjust=\"spacingAndGlyphs\" textLength=\"12\" x=\"20\" y=\"20.9951\">Q</text></a><!--MD5=[b4997ac47864f28c2f74865a473b2911]\n",
       "class E2--><a href=\"psysml:a224f497-53a8-4c97-a678-1669f6411a1a\" target=\"_top\" title=\"psysml:a224f497-53a8-4c97-a678-1669f6411a1a\" xlink:actuate=\"onRequest\" xlink:href=\"psysml:a224f497-53a8-4c97-a678-1669f6411a1a\" xlink:show=\"new\" xlink:title=\"psysml:a224f497-53a8-4c97-a678-1669f6411a1a\" xlink:type=\"simple\"><rect fill=\"#FFFFFF\" height=\"45.9375\" id=\"E2\" rx=\"10\" ry=\"10\" style=\"stroke: #383838; stroke-width: 1.5;\" width=\"42\" x=\"44\" y=\"41\"/><text fill=\"#000000\" font-family=\"sans-serif\" font-size=\"12\" font-style=\"italic\" lengthAdjust=\"spacingAndGlyphs\" textLength=\"40\" x=\"45\" y=\"57.1387\">«part»</text><text fill=\"#000000\" font-family=\"sans-serif\" font-size=\"12\" lengthAdjust=\"spacingAndGlyphs\" textLength=\"4\" x=\"63\" y=\"71.1074\">f</text><line style=\"stroke: #383838; stroke-width: 1.5;\" x1=\"45\" x2=\"85\" y1=\"78.9375\" y2=\"78.9375\"/></a><!--MD5=[09b614a08d8cba4a07c9adeb5e0fee81]\n",
       "class E3--><a href=\"psysml:692e246d-2e17-48ff-a8f3-1c9cda9639f6\" target=\"_top\" title=\"psysml:692e246d-2e17-48ff-a8f3-1c9cda9639f6\" xlink:actuate=\"onRequest\" xlink:href=\"psysml:692e246d-2e17-48ff-a8f3-1c9cda9639f6\" xlink:show=\"new\" xlink:title=\"psysml:692e246d-2e17-48ff-a8f3-1c9cda9639f6\" xlink:type=\"simple\"><rect fill=\"#FFFFFF\" height=\"45.9375\" id=\"E3\" rx=\"10\" ry=\"10\" style=\"stroke: #383838; stroke-width: 1.5;\" width=\"42\" x=\"158\" y=\"41\"/><text fill=\"#000000\" font-family=\"sans-serif\" font-size=\"12\" font-style=\"italic\" lengthAdjust=\"spacingAndGlyphs\" textLength=\"40\" x=\"159\" y=\"57.1387\">«part»</text><text fill=\"#000000\" font-family=\"sans-serif\" font-size=\"12\" lengthAdjust=\"spacingAndGlyphs\" textLength=\"8\" x=\"175\" y=\"71.1074\">a</text><line style=\"stroke: #383838; stroke-width: 1.5;\" x1=\"159\" x2=\"199\" y1=\"78.9375\" y2=\"78.9375\"/></a><!--MD5=[ebbe1d658d1005bcc118a6aa81145e00]\n",
       "class E4--><a href=\"psysml:8521a391-022b-403d-ab54-4e64ea01dd3a\" target=\"_top\" title=\"psysml:8521a391-022b-403d-ab54-4e64ea01dd3a\" xlink:actuate=\"onRequest\" xlink:href=\"psysml:8521a391-022b-403d-ab54-4e64ea01dd3a\" xlink:show=\"new\" xlink:title=\"psysml:8521a391-022b-403d-ab54-4e64ea01dd3a\" xlink:type=\"simple\"><rect fill=\"#FFFFFF\" height=\"45.9375\" id=\"E4\" style=\"stroke: #383838; stroke-width: 1.5;\" width=\"66\" x=\"32\" y=\"122\"/><text fill=\"#000000\" font-family=\"sans-serif\" font-size=\"12\" font-style=\"italic\" lengthAdjust=\"spacingAndGlyphs\" textLength=\"64\" x=\"33\" y=\"138.1387\">«part def»</text><text fill=\"#000000\" font-family=\"sans-serif\" font-size=\"12\" lengthAdjust=\"spacingAndGlyphs\" textLength=\"8\" x=\"61\" y=\"152.1074\">C</text><line style=\"stroke: #383838; stroke-width: 1.5;\" x1=\"33\" x2=\"97\" y1=\"159.9375\" y2=\"159.9375\"/></a><!--MD5=[270fce915f116d4de14055a7c1d9a0f3]\n",
       "class E5--><a href=\"psysml:7c666d7d-6a66-4269-8e3a-229640bb6ad0\" target=\"_top\" title=\"psysml:7c666d7d-6a66-4269-8e3a-229640bb6ad0\" xlink:actuate=\"onRequest\" xlink:href=\"psysml:7c666d7d-6a66-4269-8e3a-229640bb6ad0\" xlink:show=\"new\" xlink:title=\"psysml:7c666d7d-6a66-4269-8e3a-229640bb6ad0\" xlink:type=\"simple\"><rect fill=\"#FFFFFF\" height=\"45.9375\" id=\"E5\" rx=\"10\" ry=\"10\" style=\"stroke: #383838; stroke-width: 1.5;\" width=\"42\" x=\"158\" y=\"122\"/><text fill=\"#000000\" font-family=\"sans-serif\" font-size=\"12\" font-style=\"italic\" lengthAdjust=\"spacingAndGlyphs\" textLength=\"40\" x=\"159\" y=\"138.1387\">«part»</text><text fill=\"#000000\" font-family=\"sans-serif\" font-size=\"12\" lengthAdjust=\"spacingAndGlyphs\" textLength=\"8\" x=\"175\" y=\"152.1074\">g</text><line style=\"stroke: #383838; stroke-width: 1.5;\" x1=\"159\" x2=\"199\" y1=\"159.9375\" y2=\"159.9375\"/></a><!--MD5=[209b3feb70ccb6233bfe1053d122c12c]\n",
       "reverse link E2 to E3--><a href=\"psysml:71ed813c-2f6a-4d13-b6a9-9d55dbb4d689\" target=\"_top\" title=\"psysml:71ed813c-2f6a-4d13-b6a9-9d55dbb4d689\" xlink:actuate=\"onRequest\" xlink:href=\"psysml:71ed813c-2f6a-4d13-b6a9-9d55dbb4d689\" xlink:show=\"new\" xlink:title=\"psysml:71ed813c-2f6a-4d13-b6a9-9d55dbb4d689\" xlink:type=\"simple\"><path d=\"M99.26,64 C118.27,64 141.49,64 157.77,64 \" fill=\"none\" id=\"E2&lt;-E3\" style=\"stroke: #383838; stroke-width: 1.0;\"/><polygon fill=\"#383838\" points=\"86.02,64,92.02,68,98.02,64,92.02,60,86.02,64\" style=\"stroke: #383838; stroke-width: 1.0;\"/></a><!--MD5=[62aa6af11e70f752912c1cb0466f24f7]\n",
       "reverse link E4 to E5--><a href=\"psysml:66a9662c-d0de-409c-b1e7-d598996fdcb0\" target=\"_top\" title=\"psysml:66a9662c-d0de-409c-b1e7-d598996fdcb0\" xlink:actuate=\"onRequest\" xlink:href=\"psysml:66a9662c-d0de-409c-b1e7-d598996fdcb0\" xlink:show=\"new\" xlink:title=\"psysml:66a9662c-d0de-409c-b1e7-d598996fdcb0\" xlink:type=\"simple\"><path d=\"M111.28,145 C127.47,145 144.9,145 157.89,145 \" fill=\"none\" id=\"E4&lt;-E5\" style=\"stroke: #383838; stroke-width: 1.0;\"/><polygon fill=\"#383838\" points=\"98.09,145,104.09,149,110.09,145,104.09,141,98.09,145\" style=\"stroke: #383838; stroke-width: 1.0;\"/></a><!--MD5=[1af66fd5aea774f9cd8e0415f7529f72]\n",
       "@startuml\r\n",
       "left to right direction\r\n",
       "skinparam monochrome true\r\n",
       "skinparam classbackgroundcolor white\r\n",
       "skinparam shadowing false\r\n",
       "skinparam wrapWidth 300\r\n",
       "hide circle\r\n",
       "\r\n",
       "package \"Q\" as E1  [[psysml:48e9f940-1f69-4218-811f-6a29c7cbfcb6 ]]  {\r\n",
       "comp usage \"f\" as E2  <<(T,blue)part>> [[psysml:a224f497-53a8-4c97-a678-1669f6411a1a ]] {\r\n",
       "}\r\n",
       "comp usage \"a\" as E3  <<(T,blue)part>> [[psysml:692e246d-2e17-48ff-a8f3-1c9cda9639f6 ]] {\r\n",
       "}\r\n",
       "comp def \"C\" as E4  <<(T,blue)part def>> [[psysml:8521a391-022b-403d-ab54-4e64ea01dd3a ]] {\r\n",
       "}\r\n",
       "comp usage \"g\" as E5  <<(T,blue)part>> [[psysml:7c666d7d-6a66-4269-8e3a-229640bb6ad0 ]] {\r\n",
       "}\r\n",
       "E2 *- - E3 [[psysml:71ed813c-2f6a-4d13-b6a9-9d55dbb4d689 ]] \r\n",
       "E4 *- - E5 [[psysml:66a9662c-d0de-409c-b1e7-d598996fdcb0 ]] \r\n",
       "}\r\n",
       "@enduml\r\n",
       "\n",
       "PlantUML version 1.2020.13(Sat Jun 13 12:26:38 UTC 2020)\n",
       "(EPL source distribution)\n",
       "Java Runtime: OpenJDK Runtime Environment\n",
       "JVM: OpenJDK 64-Bit Server VM\n",
       "Default Encoding: UTF-8\n",
       "Language: en\n",
       "Country: null\n",
       "--></g></svg>"
      ]
     },
     "execution_count": 21,
     "metadata": {},
     "output_type": "execute_result"
    }
   ],
   "source": [
    "%viz --style=\"LR\" --view=\"Sequence\" \"Q\""
   ]
  },
  {
   "cell_type": "code",
   "execution_count": 22,
   "id": "1364cec6",
   "metadata": {
    "execution": {
     "iopub.execute_input": "2021-04-21T20:21:01.588246Z",
     "iopub.status.busy": "2021-04-21T20:21:01.587633Z",
     "iopub.status.idle": "2021-04-21T20:21:01.636672Z",
     "shell.execute_reply": "2021-04-21T20:21:01.634740Z"
    }
   },
   "outputs": [
    {
     "data": {
      "image/svg+xml": [
       "<?xml version=\"1.0\" encoding=\"UTF-8\" standalone=\"no\"?><svg xmlns=\"http://www.w3.org/2000/svg\" xmlns:xlink=\"http://www.w3.org/1999/xlink\" contentScriptType=\"application/ecmascript\" contentStyleType=\"text/css\" height=\"196px\" preserveAspectRatio=\"none\" style=\"width:238px;height:196px;\" version=\"1.1\" viewBox=\"0 0 238 196\" width=\"238px\" zoomAndPan=\"magnify\"><defs/><g><!--MD5=[fbc87193dbaf4d95561dea2c320d4a47]\n",
       "cluster E1--><a href=\"psysml:48e9f940-1f69-4218-811f-6a29c7cbfcb6\" target=\"_top\" title=\"psysml:48e9f940-1f69-4218-811f-6a29c7cbfcb6\" xlink:actuate=\"onRequest\" xlink:href=\"psysml:48e9f940-1f69-4218-811f-6a29c7cbfcb6\" xlink:show=\"new\" xlink:title=\"psysml:48e9f940-1f69-4218-811f-6a29c7cbfcb6\" xlink:type=\"simple\"><polygon fill=\"#FFFFFF\" points=\"16,6,34,6,41,28.2969,216,28.2969,216,184,16,184,16,6\" style=\"stroke: #000000; stroke-width: 1.5;\"/><line style=\"stroke: #000000; stroke-width: 1.5;\" x1=\"16\" x2=\"41\" y1=\"28.2969\" y2=\"28.2969\"/><text fill=\"#000000\" font-family=\"sans-serif\" font-size=\"14\" font-weight=\"bold\" lengthAdjust=\"spacingAndGlyphs\" textLength=\"12\" x=\"20\" y=\"20.9951\">Q</text></a><!--MD5=[b4997ac47864f28c2f74865a473b2911]\n",
       "class E2--><a href=\"psysml:a224f497-53a8-4c97-a678-1669f6411a1a\" target=\"_top\" title=\"psysml:a224f497-53a8-4c97-a678-1669f6411a1a\" xlink:actuate=\"onRequest\" xlink:href=\"psysml:a224f497-53a8-4c97-a678-1669f6411a1a\" xlink:show=\"new\" xlink:title=\"psysml:a224f497-53a8-4c97-a678-1669f6411a1a\" xlink:type=\"simple\"><rect fill=\"#FFFFFF\" height=\"45.9375\" id=\"E2\" rx=\"10\" ry=\"10\" style=\"stroke: #383838; stroke-width: 1.5;\" width=\"42\" x=\"44\" y=\"41\"/><text fill=\"#000000\" font-family=\"sans-serif\" font-size=\"12\" font-style=\"italic\" lengthAdjust=\"spacingAndGlyphs\" textLength=\"40\" x=\"45\" y=\"57.1387\">«part»</text><text fill=\"#000000\" font-family=\"sans-serif\" font-size=\"12\" lengthAdjust=\"spacingAndGlyphs\" textLength=\"4\" x=\"63\" y=\"71.1074\">f</text><line style=\"stroke: #383838; stroke-width: 1.5;\" x1=\"45\" x2=\"85\" y1=\"78.9375\" y2=\"78.9375\"/></a><!--MD5=[09b614a08d8cba4a07c9adeb5e0fee81]\n",
       "class E3--><a href=\"psysml:692e246d-2e17-48ff-a8f3-1c9cda9639f6\" target=\"_top\" title=\"psysml:692e246d-2e17-48ff-a8f3-1c9cda9639f6\" xlink:actuate=\"onRequest\" xlink:href=\"psysml:692e246d-2e17-48ff-a8f3-1c9cda9639f6\" xlink:show=\"new\" xlink:title=\"psysml:692e246d-2e17-48ff-a8f3-1c9cda9639f6\" xlink:type=\"simple\"><rect fill=\"#FFFFFF\" height=\"45.9375\" id=\"E3\" rx=\"10\" ry=\"10\" style=\"stroke: #383838; stroke-width: 1.5;\" width=\"42\" x=\"158\" y=\"41\"/><text fill=\"#000000\" font-family=\"sans-serif\" font-size=\"12\" font-style=\"italic\" lengthAdjust=\"spacingAndGlyphs\" textLength=\"40\" x=\"159\" y=\"57.1387\">«part»</text><text fill=\"#000000\" font-family=\"sans-serif\" font-size=\"12\" lengthAdjust=\"spacingAndGlyphs\" textLength=\"8\" x=\"175\" y=\"71.1074\">a</text><line style=\"stroke: #383838; stroke-width: 1.5;\" x1=\"159\" x2=\"199\" y1=\"78.9375\" y2=\"78.9375\"/></a><!--MD5=[ebbe1d658d1005bcc118a6aa81145e00]\n",
       "class E4--><a href=\"psysml:8521a391-022b-403d-ab54-4e64ea01dd3a\" target=\"_top\" title=\"psysml:8521a391-022b-403d-ab54-4e64ea01dd3a\" xlink:actuate=\"onRequest\" xlink:href=\"psysml:8521a391-022b-403d-ab54-4e64ea01dd3a\" xlink:show=\"new\" xlink:title=\"psysml:8521a391-022b-403d-ab54-4e64ea01dd3a\" xlink:type=\"simple\"><rect fill=\"#FFFFFF\" height=\"45.9375\" id=\"E4\" style=\"stroke: #383838; stroke-width: 1.5;\" width=\"66\" x=\"32\" y=\"122\"/><text fill=\"#000000\" font-family=\"sans-serif\" font-size=\"12\" font-style=\"italic\" lengthAdjust=\"spacingAndGlyphs\" textLength=\"64\" x=\"33\" y=\"138.1387\">«part def»</text><text fill=\"#000000\" font-family=\"sans-serif\" font-size=\"12\" lengthAdjust=\"spacingAndGlyphs\" textLength=\"8\" x=\"61\" y=\"152.1074\">C</text><line style=\"stroke: #383838; stroke-width: 1.5;\" x1=\"33\" x2=\"97\" y1=\"159.9375\" y2=\"159.9375\"/></a><!--MD5=[270fce915f116d4de14055a7c1d9a0f3]\n",
       "class E5--><a href=\"psysml:7c666d7d-6a66-4269-8e3a-229640bb6ad0\" target=\"_top\" title=\"psysml:7c666d7d-6a66-4269-8e3a-229640bb6ad0\" xlink:actuate=\"onRequest\" xlink:href=\"psysml:7c666d7d-6a66-4269-8e3a-229640bb6ad0\" xlink:show=\"new\" xlink:title=\"psysml:7c666d7d-6a66-4269-8e3a-229640bb6ad0\" xlink:type=\"simple\"><rect fill=\"#FFFFFF\" height=\"45.9375\" id=\"E5\" rx=\"10\" ry=\"10\" style=\"stroke: #383838; stroke-width: 1.5;\" width=\"42\" x=\"158\" y=\"122\"/><text fill=\"#000000\" font-family=\"sans-serif\" font-size=\"12\" font-style=\"italic\" lengthAdjust=\"spacingAndGlyphs\" textLength=\"40\" x=\"159\" y=\"138.1387\">«part»</text><text fill=\"#000000\" font-family=\"sans-serif\" font-size=\"12\" lengthAdjust=\"spacingAndGlyphs\" textLength=\"8\" x=\"175\" y=\"152.1074\">g</text><line style=\"stroke: #383838; stroke-width: 1.5;\" x1=\"159\" x2=\"199\" y1=\"159.9375\" y2=\"159.9375\"/></a><!--MD5=[209b3feb70ccb6233bfe1053d122c12c]\n",
       "reverse link E2 to E3--><a href=\"psysml:71ed813c-2f6a-4d13-b6a9-9d55dbb4d689\" target=\"_top\" title=\"psysml:71ed813c-2f6a-4d13-b6a9-9d55dbb4d689\" xlink:actuate=\"onRequest\" xlink:href=\"psysml:71ed813c-2f6a-4d13-b6a9-9d55dbb4d689\" xlink:show=\"new\" xlink:title=\"psysml:71ed813c-2f6a-4d13-b6a9-9d55dbb4d689\" xlink:type=\"simple\"><path d=\"M99.26,64 C118.27,64 141.49,64 157.77,64 \" fill=\"none\" id=\"E2&lt;-E3\" style=\"stroke: #383838; stroke-width: 1.0;\"/><polygon fill=\"#383838\" points=\"86.02,64,92.02,68,98.02,64,92.02,60,86.02,64\" style=\"stroke: #383838; stroke-width: 1.0;\"/></a><!--MD5=[62aa6af11e70f752912c1cb0466f24f7]\n",
       "reverse link E4 to E5--><a href=\"psysml:66a9662c-d0de-409c-b1e7-d598996fdcb0\" target=\"_top\" title=\"psysml:66a9662c-d0de-409c-b1e7-d598996fdcb0\" xlink:actuate=\"onRequest\" xlink:href=\"psysml:66a9662c-d0de-409c-b1e7-d598996fdcb0\" xlink:show=\"new\" xlink:title=\"psysml:66a9662c-d0de-409c-b1e7-d598996fdcb0\" xlink:type=\"simple\"><path d=\"M111.28,145 C127.47,145 144.9,145 157.89,145 \" fill=\"none\" id=\"E4&lt;-E5\" style=\"stroke: #383838; stroke-width: 1.0;\"/><polygon fill=\"#383838\" points=\"98.09,145,104.09,149,110.09,145,104.09,141,98.09,145\" style=\"stroke: #383838; stroke-width: 1.0;\"/></a><!--MD5=[1af66fd5aea774f9cd8e0415f7529f72]\n",
       "@startuml\r\n",
       "left to right direction\r\n",
       "skinparam monochrome true\r\n",
       "skinparam classbackgroundcolor white\r\n",
       "skinparam shadowing false\r\n",
       "skinparam wrapWidth 300\r\n",
       "hide circle\r\n",
       "\r\n",
       "package \"Q\" as E1  [[psysml:48e9f940-1f69-4218-811f-6a29c7cbfcb6 ]]  {\r\n",
       "comp usage \"f\" as E2  <<(T,blue)part>> [[psysml:a224f497-53a8-4c97-a678-1669f6411a1a ]] {\r\n",
       "}\r\n",
       "comp usage \"a\" as E3  <<(T,blue)part>> [[psysml:692e246d-2e17-48ff-a8f3-1c9cda9639f6 ]] {\r\n",
       "}\r\n",
       "comp def \"C\" as E4  <<(T,blue)part def>> [[psysml:8521a391-022b-403d-ab54-4e64ea01dd3a ]] {\r\n",
       "}\r\n",
       "comp usage \"g\" as E5  <<(T,blue)part>> [[psysml:7c666d7d-6a66-4269-8e3a-229640bb6ad0 ]] {\r\n",
       "}\r\n",
       "E2 *- - E3 [[psysml:71ed813c-2f6a-4d13-b6a9-9d55dbb4d689 ]] \r\n",
       "E4 *- - E5 [[psysml:66a9662c-d0de-409c-b1e7-d598996fdcb0 ]] \r\n",
       "}\r\n",
       "@enduml\r\n",
       "\n",
       "PlantUML version 1.2020.13(Sat Jun 13 12:26:38 UTC 2020)\n",
       "(EPL source distribution)\n",
       "Java Runtime: OpenJDK Runtime Environment\n",
       "JVM: OpenJDK 64-Bit Server VM\n",
       "Default Encoding: UTF-8\n",
       "Language: en\n",
       "Country: null\n",
       "--></g></svg>"
      ]
     },
     "execution_count": 22,
     "metadata": {},
     "output_type": "execute_result"
    }
   ],
   "source": [
    "%viz --style=\"LR\" --view=\"MIXED\" \"Q\""
   ]
  },
  {
   "cell_type": "code",
   "execution_count": 23,
   "id": "2649cc56",
   "metadata": {
    "execution": {
     "iopub.execute_input": "2021-04-21T20:21:01.689964Z",
     "iopub.status.busy": "2021-04-21T20:21:01.689168Z",
     "iopub.status.idle": "2021-04-21T20:21:01.736410Z",
     "shell.execute_reply": "2021-04-21T20:21:01.734563Z"
    }
   },
   "outputs": [
    {
     "data": {
      "image/svg+xml": [
       "<?xml version=\"1.0\" encoding=\"UTF-8\" standalone=\"no\"?><svg xmlns=\"http://www.w3.org/2000/svg\" xmlns:xlink=\"http://www.w3.org/1999/xlink\" contentScriptType=\"application/ecmascript\" contentStyleType=\"text/css\" height=\"221px\" preserveAspectRatio=\"none\" style=\"width:213px;height:221px;\" version=\"1.1\" viewBox=\"0 0 213 221\" width=\"213px\" zoomAndPan=\"magnify\"><defs><filter height=\"300%\" id=\"f10rstc5mxzf0a\" width=\"300%\" x=\"-1\" y=\"-1\"><feGaussianBlur result=\"blurOut\" stdDeviation=\"2.0\"/><feColorMatrix in=\"blurOut\" result=\"blurOut2\" type=\"matrix\" values=\"0 0 0 0 0 0 0 0 0 0 0 0 0 0 0 0 0 0 .4 0\"/><feOffset dx=\"4.0\" dy=\"4.0\" in=\"blurOut2\" result=\"blurOut3\"/><feBlend in=\"SourceGraphic\" in2=\"blurOut3\" mode=\"normal\"/></filter></defs><g><!--MD5=[fbc87193dbaf4d95561dea2c320d4a47]\n",
       "cluster E1--><a href=\"psysml:48e9f940-1f69-4218-811f-6a29c7cbfcb6\" target=\"_top\" title=\"psysml:48e9f940-1f69-4218-811f-6a29c7cbfcb6\" xlink:actuate=\"onRequest\" xlink:href=\"psysml:48e9f940-1f69-4218-811f-6a29c7cbfcb6\" xlink:show=\"new\" xlink:title=\"psysml:48e9f940-1f69-4218-811f-6a29c7cbfcb6\" xlink:type=\"simple\"><polygon fill=\"#FFFFFF\" filter=\"url(#f10rstc5mxzf0a)\" points=\"16,6,34,6,41,28.2969,191,28.2969,191,209,16,209,16,6\" style=\"stroke: #000000; stroke-width: 1.5;\"/><line style=\"stroke: #000000; stroke-width: 1.5;\" x1=\"16\" x2=\"41\" y1=\"28.2969\" y2=\"28.2969\"/><text fill=\"#000000\" font-family=\"sans-serif\" font-size=\"14\" font-weight=\"bold\" lengthAdjust=\"spacingAndGlyphs\" textLength=\"12\" x=\"20\" y=\"20.9951\">Q</text></a><!--MD5=[b4997ac47864f28c2f74865a473b2911]\n",
       "class E2--><a href=\"psysml:a224f497-53a8-4c97-a678-1669f6411a1a\" target=\"_top\" title=\"psysml:a224f497-53a8-4c97-a678-1669f6411a1a\" xlink:actuate=\"onRequest\" xlink:href=\"psysml:a224f497-53a8-4c97-a678-1669f6411a1a\" xlink:show=\"new\" xlink:title=\"psysml:a224f497-53a8-4c97-a678-1669f6411a1a\" xlink:type=\"simple\"><rect fill=\"#FEFECE\" filter=\"url(#f10rstc5mxzf0a)\" height=\"45.9375\" id=\"E2\" rx=\"10\" ry=\"10\" style=\"stroke: #A80036; stroke-width: 1.5;\" width=\"42\" x=\"133\" y=\"41\"/><text fill=\"#000000\" font-family=\"sans-serif\" font-size=\"12\" font-style=\"italic\" lengthAdjust=\"spacingAndGlyphs\" textLength=\"40\" x=\"134\" y=\"57.1387\">«part»</text><text fill=\"#000000\" font-family=\"sans-serif\" font-size=\"12\" lengthAdjust=\"spacingAndGlyphs\" textLength=\"4\" x=\"152\" y=\"71.1074\">f</text><line style=\"stroke: #A80036; stroke-width: 1.5;\" x1=\"134\" x2=\"174\" y1=\"78.9375\" y2=\"78.9375\"/></a><!--MD5=[09b614a08d8cba4a07c9adeb5e0fee81]\n",
       "class E3--><a href=\"psysml:692e246d-2e17-48ff-a8f3-1c9cda9639f6\" target=\"_top\" title=\"psysml:692e246d-2e17-48ff-a8f3-1c9cda9639f6\" xlink:actuate=\"onRequest\" xlink:href=\"psysml:692e246d-2e17-48ff-a8f3-1c9cda9639f6\" xlink:show=\"new\" xlink:title=\"psysml:692e246d-2e17-48ff-a8f3-1c9cda9639f6\" xlink:type=\"simple\"><rect fill=\"#FEFECE\" filter=\"url(#f10rstc5mxzf0a)\" height=\"45.9375\" id=\"E3\" rx=\"10\" ry=\"10\" style=\"stroke: #A80036; stroke-width: 1.5;\" width=\"42\" x=\"133\" y=\"147\"/><text fill=\"#000000\" font-family=\"sans-serif\" font-size=\"12\" font-style=\"italic\" lengthAdjust=\"spacingAndGlyphs\" textLength=\"40\" x=\"134\" y=\"163.1387\">«part»</text><text fill=\"#000000\" font-family=\"sans-serif\" font-size=\"12\" lengthAdjust=\"spacingAndGlyphs\" textLength=\"8\" x=\"150\" y=\"177.1074\">a</text><line style=\"stroke: #A80036; stroke-width: 1.5;\" x1=\"134\" x2=\"174\" y1=\"184.9375\" y2=\"184.9375\"/></a><!--MD5=[ebbe1d658d1005bcc118a6aa81145e00]\n",
       "class E4--><a href=\"psysml:8521a391-022b-403d-ab54-4e64ea01dd3a\" target=\"_top\" title=\"psysml:8521a391-022b-403d-ab54-4e64ea01dd3a\" xlink:actuate=\"onRequest\" xlink:href=\"psysml:8521a391-022b-403d-ab54-4e64ea01dd3a\" xlink:show=\"new\" xlink:title=\"psysml:8521a391-022b-403d-ab54-4e64ea01dd3a\" xlink:type=\"simple\"><rect fill=\"#FEFECE\" filter=\"url(#f10rstc5mxzf0a)\" height=\"45.9375\" id=\"E4\" style=\"stroke: #A80036; stroke-width: 1.5;\" width=\"66\" x=\"32\" y=\"41\"/><text fill=\"#000000\" font-family=\"sans-serif\" font-size=\"12\" font-style=\"italic\" lengthAdjust=\"spacingAndGlyphs\" textLength=\"64\" x=\"33\" y=\"57.1387\">«part def»</text><text fill=\"#000000\" font-family=\"sans-serif\" font-size=\"12\" lengthAdjust=\"spacingAndGlyphs\" textLength=\"8\" x=\"61\" y=\"71.1074\">C</text><line style=\"stroke: #A80036; stroke-width: 1.5;\" x1=\"33\" x2=\"97\" y1=\"78.9375\" y2=\"78.9375\"/></a><!--MD5=[270fce915f116d4de14055a7c1d9a0f3]\n",
       "class E5--><a href=\"psysml:7c666d7d-6a66-4269-8e3a-229640bb6ad0\" target=\"_top\" title=\"psysml:7c666d7d-6a66-4269-8e3a-229640bb6ad0\" xlink:actuate=\"onRequest\" xlink:href=\"psysml:7c666d7d-6a66-4269-8e3a-229640bb6ad0\" xlink:show=\"new\" xlink:title=\"psysml:7c666d7d-6a66-4269-8e3a-229640bb6ad0\" xlink:type=\"simple\"><rect fill=\"#FEFECE\" filter=\"url(#f10rstc5mxzf0a)\" height=\"45.9375\" id=\"E5\" rx=\"10\" ry=\"10\" style=\"stroke: #A80036; stroke-width: 1.5;\" width=\"42\" x=\"44\" y=\"147\"/><text fill=\"#000000\" font-family=\"sans-serif\" font-size=\"12\" font-style=\"italic\" lengthAdjust=\"spacingAndGlyphs\" textLength=\"40\" x=\"45\" y=\"163.1387\">«part»</text><text fill=\"#000000\" font-family=\"sans-serif\" font-size=\"12\" lengthAdjust=\"spacingAndGlyphs\" textLength=\"8\" x=\"61\" y=\"177.1074\">g</text><line style=\"stroke: #A80036; stroke-width: 1.5;\" x1=\"45\" x2=\"85\" y1=\"184.9375\" y2=\"184.9375\"/></a><!--MD5=[209b3feb70ccb6233bfe1053d122c12c]\n",
       "reverse link E2 to E3--><a href=\"psysml:71ed813c-2f6a-4d13-b6a9-9d55dbb4d689\" target=\"_top\" title=\"psysml:71ed813c-2f6a-4d13-b6a9-9d55dbb4d689\" xlink:actuate=\"onRequest\" xlink:href=\"psysml:71ed813c-2f6a-4d13-b6a9-9d55dbb4d689\" xlink:show=\"new\" xlink:title=\"psysml:71ed813c-2f6a-4d13-b6a9-9d55dbb4d689\" xlink:type=\"simple\"><path d=\"M154,100.44 C154,115.87 154,133.47 154,146.98 \" fill=\"none\" id=\"E2&lt;-E3\" style=\"stroke: #A80036; stroke-width: 1.0;\"/><polygon fill=\"#A80036\" points=\"154,87.06,150,93.06,154,99.06,158,93.06,154,87.06\" style=\"stroke: #A80036; stroke-width: 1.0;\"/></a><!--MD5=[62aa6af11e70f752912c1cb0466f24f7]\n",
       "reverse link E4 to E5--><a href=\"psysml:66a9662c-d0de-409c-b1e7-d598996fdcb0\" target=\"_top\" title=\"psysml:66a9662c-d0de-409c-b1e7-d598996fdcb0\" xlink:actuate=\"onRequest\" xlink:href=\"psysml:66a9662c-d0de-409c-b1e7-d598996fdcb0\" xlink:show=\"new\" xlink:title=\"psysml:66a9662c-d0de-409c-b1e7-d598996fdcb0\" xlink:type=\"simple\"><path d=\"M65,100.44 C65,115.87 65,133.47 65,146.98 \" fill=\"none\" id=\"E4&lt;-E5\" style=\"stroke: #A80036; stroke-width: 1.0;\"/><polygon fill=\"#A80036\" points=\"65,87.06,61,93.06,65,99.06,69,93.06,65,87.06\" style=\"stroke: #A80036; stroke-width: 1.0;\"/></a><!--MD5=[a1a7537700ea8cc75e29ac7dd15c11da]\n",
       "@startuml\r\n",
       "skinparam wrapWidth 300\r\n",
       "hide circle\r\n",
       "\r\n",
       "package \"Q\" as E1  [[psysml:48e9f940-1f69-4218-811f-6a29c7cbfcb6 ]]  {\r\n",
       "comp usage \"f\" as E2  <<(T,blue)part>> [[psysml:a224f497-53a8-4c97-a678-1669f6411a1a ]] {\r\n",
       "}\r\n",
       "comp usage \"a\" as E3  <<(T,blue)part>> [[psysml:692e246d-2e17-48ff-a8f3-1c9cda9639f6 ]] {\r\n",
       "}\r\n",
       "comp def \"C\" as E4  <<(T,blue)part def>> [[psysml:8521a391-022b-403d-ab54-4e64ea01dd3a ]] {\r\n",
       "}\r\n",
       "comp usage \"g\" as E5  <<(T,blue)part>> [[psysml:7c666d7d-6a66-4269-8e3a-229640bb6ad0 ]] {\r\n",
       "}\r\n",
       "E2 *- - E3 [[psysml:71ed813c-2f6a-4d13-b6a9-9d55dbb4d689 ]] \r\n",
       "E4 *- - E5 [[psysml:66a9662c-d0de-409c-b1e7-d598996fdcb0 ]] \r\n",
       "}\r\n",
       "@enduml\r\n",
       "\n",
       "PlantUML version 1.2020.13(Sat Jun 13 12:26:38 UTC 2020)\n",
       "(EPL source distribution)\n",
       "Java Runtime: OpenJDK Runtime Environment\n",
       "JVM: OpenJDK 64-Bit Server VM\n",
       "Default Encoding: UTF-8\n",
       "Language: en\n",
       "Country: null\n",
       "--></g></svg>"
      ]
     },
     "execution_count": 23,
     "metadata": {},
     "output_type": "execute_result"
    }
   ],
   "source": [
    "%viz --style=\"STDCOLOR\" --view=\"Default\" \"Q\""
   ]
  },
  {
   "cell_type": "code",
   "execution_count": 24,
   "id": "206a46de",
   "metadata": {
    "execution": {
     "iopub.execute_input": "2021-04-21T20:21:01.789752Z",
     "iopub.status.busy": "2021-04-21T20:21:01.789275Z",
     "iopub.status.idle": "2021-04-21T20:21:01.830681Z",
     "shell.execute_reply": "2021-04-21T20:21:01.829076Z"
    }
   },
   "outputs": [
    {
     "data": {
      "image/svg+xml": [
       "<?xml version=\"1.0\" encoding=\"UTF-8\" standalone=\"no\"?><svg xmlns=\"http://www.w3.org/2000/svg\" xmlns:xlink=\"http://www.w3.org/1999/xlink\" contentScriptType=\"application/ecmascript\" contentStyleType=\"text/css\" height=\"221px\" preserveAspectRatio=\"none\" style=\"width:213px;height:221px;\" version=\"1.1\" viewBox=\"0 0 213 221\" width=\"213px\" zoomAndPan=\"magnify\"><defs><filter height=\"300%\" id=\"f10rstc5mxzf0a\" width=\"300%\" x=\"-1\" y=\"-1\"><feGaussianBlur result=\"blurOut\" stdDeviation=\"2.0\"/><feColorMatrix in=\"blurOut\" result=\"blurOut2\" type=\"matrix\" values=\"0 0 0 0 0 0 0 0 0 0 0 0 0 0 0 0 0 0 .4 0\"/><feOffset dx=\"4.0\" dy=\"4.0\" in=\"blurOut2\" result=\"blurOut3\"/><feBlend in=\"SourceGraphic\" in2=\"blurOut3\" mode=\"normal\"/></filter></defs><g><!--MD5=[fbc87193dbaf4d95561dea2c320d4a47]\n",
       "cluster E1--><a href=\"psysml:48e9f940-1f69-4218-811f-6a29c7cbfcb6\" target=\"_top\" title=\"psysml:48e9f940-1f69-4218-811f-6a29c7cbfcb6\" xlink:actuate=\"onRequest\" xlink:href=\"psysml:48e9f940-1f69-4218-811f-6a29c7cbfcb6\" xlink:show=\"new\" xlink:title=\"psysml:48e9f940-1f69-4218-811f-6a29c7cbfcb6\" xlink:type=\"simple\"><polygon fill=\"#FFFFFF\" filter=\"url(#f10rstc5mxzf0a)\" points=\"16,6,34,6,41,28.2969,191,28.2969,191,209,16,209,16,6\" style=\"stroke: #000000; stroke-width: 1.5;\"/><line style=\"stroke: #000000; stroke-width: 1.5;\" x1=\"16\" x2=\"41\" y1=\"28.2969\" y2=\"28.2969\"/><text fill=\"#000000\" font-family=\"sans-serif\" font-size=\"14\" font-weight=\"bold\" lengthAdjust=\"spacingAndGlyphs\" textLength=\"12\" x=\"20\" y=\"20.9951\">Q</text></a><!--MD5=[b4997ac47864f28c2f74865a473b2911]\n",
       "class E2--><a href=\"psysml:a224f497-53a8-4c97-a678-1669f6411a1a\" target=\"_top\" title=\"psysml:a224f497-53a8-4c97-a678-1669f6411a1a\" xlink:actuate=\"onRequest\" xlink:href=\"psysml:a224f497-53a8-4c97-a678-1669f6411a1a\" xlink:show=\"new\" xlink:title=\"psysml:a224f497-53a8-4c97-a678-1669f6411a1a\" xlink:type=\"simple\"><rect fill=\"#FEFECE\" filter=\"url(#f10rstc5mxzf0a)\" height=\"45.9375\" id=\"E2\" rx=\"10\" ry=\"10\" style=\"stroke: #A80036; stroke-width: 1.5;\" width=\"42\" x=\"133\" y=\"41\"/><text fill=\"#000000\" font-family=\"sans-serif\" font-size=\"12\" font-style=\"italic\" lengthAdjust=\"spacingAndGlyphs\" textLength=\"40\" x=\"134\" y=\"57.1387\">«part»</text><text fill=\"#000000\" font-family=\"sans-serif\" font-size=\"12\" lengthAdjust=\"spacingAndGlyphs\" textLength=\"4\" x=\"152\" y=\"71.1074\">f</text><line style=\"stroke: #A80036; stroke-width: 1.5;\" x1=\"134\" x2=\"174\" y1=\"78.9375\" y2=\"78.9375\"/></a><!--MD5=[09b614a08d8cba4a07c9adeb5e0fee81]\n",
       "class E3--><a href=\"psysml:692e246d-2e17-48ff-a8f3-1c9cda9639f6\" target=\"_top\" title=\"psysml:692e246d-2e17-48ff-a8f3-1c9cda9639f6\" xlink:actuate=\"onRequest\" xlink:href=\"psysml:692e246d-2e17-48ff-a8f3-1c9cda9639f6\" xlink:show=\"new\" xlink:title=\"psysml:692e246d-2e17-48ff-a8f3-1c9cda9639f6\" xlink:type=\"simple\"><rect fill=\"#FEFECE\" filter=\"url(#f10rstc5mxzf0a)\" height=\"45.9375\" id=\"E3\" rx=\"10\" ry=\"10\" style=\"stroke: #A80036; stroke-width: 1.5;\" width=\"42\" x=\"133\" y=\"147\"/><text fill=\"#000000\" font-family=\"sans-serif\" font-size=\"12\" font-style=\"italic\" lengthAdjust=\"spacingAndGlyphs\" textLength=\"40\" x=\"134\" y=\"163.1387\">«part»</text><text fill=\"#000000\" font-family=\"sans-serif\" font-size=\"12\" lengthAdjust=\"spacingAndGlyphs\" textLength=\"8\" x=\"150\" y=\"177.1074\">a</text><line style=\"stroke: #A80036; stroke-width: 1.5;\" x1=\"134\" x2=\"174\" y1=\"184.9375\" y2=\"184.9375\"/></a><!--MD5=[ebbe1d658d1005bcc118a6aa81145e00]\n",
       "class E4--><a href=\"psysml:8521a391-022b-403d-ab54-4e64ea01dd3a\" target=\"_top\" title=\"psysml:8521a391-022b-403d-ab54-4e64ea01dd3a\" xlink:actuate=\"onRequest\" xlink:href=\"psysml:8521a391-022b-403d-ab54-4e64ea01dd3a\" xlink:show=\"new\" xlink:title=\"psysml:8521a391-022b-403d-ab54-4e64ea01dd3a\" xlink:type=\"simple\"><rect fill=\"#FEFECE\" filter=\"url(#f10rstc5mxzf0a)\" height=\"45.9375\" id=\"E4\" style=\"stroke: #A80036; stroke-width: 1.5;\" width=\"66\" x=\"32\" y=\"41\"/><text fill=\"#000000\" font-family=\"sans-serif\" font-size=\"12\" font-style=\"italic\" lengthAdjust=\"spacingAndGlyphs\" textLength=\"64\" x=\"33\" y=\"57.1387\">«part def»</text><text fill=\"#000000\" font-family=\"sans-serif\" font-size=\"12\" lengthAdjust=\"spacingAndGlyphs\" textLength=\"8\" x=\"61\" y=\"71.1074\">C</text><line style=\"stroke: #A80036; stroke-width: 1.5;\" x1=\"33\" x2=\"97\" y1=\"78.9375\" y2=\"78.9375\"/></a><!--MD5=[270fce915f116d4de14055a7c1d9a0f3]\n",
       "class E5--><a href=\"psysml:7c666d7d-6a66-4269-8e3a-229640bb6ad0\" target=\"_top\" title=\"psysml:7c666d7d-6a66-4269-8e3a-229640bb6ad0\" xlink:actuate=\"onRequest\" xlink:href=\"psysml:7c666d7d-6a66-4269-8e3a-229640bb6ad0\" xlink:show=\"new\" xlink:title=\"psysml:7c666d7d-6a66-4269-8e3a-229640bb6ad0\" xlink:type=\"simple\"><rect fill=\"#FEFECE\" filter=\"url(#f10rstc5mxzf0a)\" height=\"45.9375\" id=\"E5\" rx=\"10\" ry=\"10\" style=\"stroke: #A80036; stroke-width: 1.5;\" width=\"42\" x=\"44\" y=\"147\"/><text fill=\"#000000\" font-family=\"sans-serif\" font-size=\"12\" font-style=\"italic\" lengthAdjust=\"spacingAndGlyphs\" textLength=\"40\" x=\"45\" y=\"163.1387\">«part»</text><text fill=\"#000000\" font-family=\"sans-serif\" font-size=\"12\" lengthAdjust=\"spacingAndGlyphs\" textLength=\"8\" x=\"61\" y=\"177.1074\">g</text><line style=\"stroke: #A80036; stroke-width: 1.5;\" x1=\"45\" x2=\"85\" y1=\"184.9375\" y2=\"184.9375\"/></a><!--MD5=[209b3feb70ccb6233bfe1053d122c12c]\n",
       "reverse link E2 to E3--><a href=\"psysml:71ed813c-2f6a-4d13-b6a9-9d55dbb4d689\" target=\"_top\" title=\"psysml:71ed813c-2f6a-4d13-b6a9-9d55dbb4d689\" xlink:actuate=\"onRequest\" xlink:href=\"psysml:71ed813c-2f6a-4d13-b6a9-9d55dbb4d689\" xlink:show=\"new\" xlink:title=\"psysml:71ed813c-2f6a-4d13-b6a9-9d55dbb4d689\" xlink:type=\"simple\"><path d=\"M154,100.44 C154,115.87 154,133.47 154,146.98 \" fill=\"none\" id=\"E2&lt;-E3\" style=\"stroke: #A80036; stroke-width: 1.0;\"/><polygon fill=\"#A80036\" points=\"154,87.06,150,93.06,154,99.06,158,93.06,154,87.06\" style=\"stroke: #A80036; stroke-width: 1.0;\"/></a><!--MD5=[62aa6af11e70f752912c1cb0466f24f7]\n",
       "reverse link E4 to E5--><a href=\"psysml:66a9662c-d0de-409c-b1e7-d598996fdcb0\" target=\"_top\" title=\"psysml:66a9662c-d0de-409c-b1e7-d598996fdcb0\" xlink:actuate=\"onRequest\" xlink:href=\"psysml:66a9662c-d0de-409c-b1e7-d598996fdcb0\" xlink:show=\"new\" xlink:title=\"psysml:66a9662c-d0de-409c-b1e7-d598996fdcb0\" xlink:type=\"simple\"><path d=\"M65,100.44 C65,115.87 65,133.47 65,146.98 \" fill=\"none\" id=\"E4&lt;-E5\" style=\"stroke: #A80036; stroke-width: 1.0;\"/><polygon fill=\"#A80036\" points=\"65,87.06,61,93.06,65,99.06,69,93.06,65,87.06\" style=\"stroke: #A80036; stroke-width: 1.0;\"/></a><!--MD5=[a1a7537700ea8cc75e29ac7dd15c11da]\n",
       "@startuml\r\n",
       "skinparam wrapWidth 300\r\n",
       "hide circle\r\n",
       "\r\n",
       "package \"Q\" as E1  [[psysml:48e9f940-1f69-4218-811f-6a29c7cbfcb6 ]]  {\r\n",
       "comp usage \"f\" as E2  <<(T,blue)part>> [[psysml:a224f497-53a8-4c97-a678-1669f6411a1a ]] {\r\n",
       "}\r\n",
       "comp usage \"a\" as E3  <<(T,blue)part>> [[psysml:692e246d-2e17-48ff-a8f3-1c9cda9639f6 ]] {\r\n",
       "}\r\n",
       "comp def \"C\" as E4  <<(T,blue)part def>> [[psysml:8521a391-022b-403d-ab54-4e64ea01dd3a ]] {\r\n",
       "}\r\n",
       "comp usage \"g\" as E5  <<(T,blue)part>> [[psysml:7c666d7d-6a66-4269-8e3a-229640bb6ad0 ]] {\r\n",
       "}\r\n",
       "E2 *- - E3 [[psysml:71ed813c-2f6a-4d13-b6a9-9d55dbb4d689 ]] \r\n",
       "E4 *- - E5 [[psysml:66a9662c-d0de-409c-b1e7-d598996fdcb0 ]] \r\n",
       "}\r\n",
       "@enduml\r\n",
       "\n",
       "PlantUML version 1.2020.13(Sat Jun 13 12:26:38 UTC 2020)\n",
       "(EPL source distribution)\n",
       "Java Runtime: OpenJDK Runtime Environment\n",
       "JVM: OpenJDK 64-Bit Server VM\n",
       "Default Encoding: UTF-8\n",
       "Language: en\n",
       "Country: null\n",
       "--></g></svg>"
      ]
     },
     "execution_count": 24,
     "metadata": {},
     "output_type": "execute_result"
    }
   ],
   "source": [
    "%viz --style=\"STDCOLOR\" --view=\"Tree\" \"Q\""
   ]
  },
  {
   "cell_type": "code",
   "execution_count": 25,
   "id": "9e0bfb88",
   "metadata": {
    "execution": {
     "iopub.execute_input": "2021-04-21T20:21:01.880779Z",
     "iopub.status.busy": "2021-04-21T20:21:01.880167Z",
     "iopub.status.idle": "2021-04-21T20:21:01.887295Z",
     "shell.execute_reply": "2021-04-21T20:21:01.886673Z"
    }
   },
   "outputs": [
    {
     "data": {
      "image/svg+xml": [
       "<?xml version=\"1.0\" encoding=\"UTF-8\" standalone=\"no\"?><svg xmlns=\"http://www.w3.org/2000/svg\" xmlns:xlink=\"http://www.w3.org/1999/xlink\" contentScriptType=\"application/ecmascript\" contentStyleType=\"text/css\" height=\"12px\" preserveAspectRatio=\"none\" style=\"width:12px;height:12px;\" version=\"1.1\" viewBox=\"0 0 12 12\" width=\"12px\" zoomAndPan=\"magnify\"><defs/><g><!--MD5=[aeeef50f102b80d730deb6443d14f702]\n",
       "@startuml\r\n",
       "skinparam wrapWidth 300\r\n",
       "hide circle\r\n",
       "\r\n",
       "@enduml\r\n",
       "\n",
       "PlantUML version 1.2020.13(Sat Jun 13 12:26:38 UTC 2020)\n",
       "(EPL source distribution)\n",
       "Java Runtime: OpenJDK Runtime Environment\n",
       "JVM: OpenJDK 64-Bit Server VM\n",
       "Default Encoding: UTF-8\n",
       "Language: en\n",
       "Country: null\n",
       "--></g></svg>"
      ]
     },
     "execution_count": 25,
     "metadata": {},
     "output_type": "execute_result"
    }
   ],
   "source": [
    "%viz --style=\"STDCOLOR\" --view=\"State\" \"Q\""
   ]
  },
  {
   "cell_type": "code",
   "execution_count": 26,
   "id": "b024c727",
   "metadata": {
    "execution": {
     "iopub.execute_input": "2021-04-21T20:21:01.938261Z",
     "iopub.status.busy": "2021-04-21T20:21:01.937653Z",
     "iopub.status.idle": "2021-04-21T20:21:01.968026Z",
     "shell.execute_reply": "2021-04-21T20:21:01.966554Z"
    }
   },
   "outputs": [
    {
     "data": {
      "image/svg+xml": [
       "<?xml version=\"1.0\" encoding=\"UTF-8\" standalone=\"no\"?><svg xmlns=\"http://www.w3.org/2000/svg\" xmlns:xlink=\"http://www.w3.org/1999/xlink\" contentScriptType=\"application/ecmascript\" contentStyleType=\"text/css\" height=\"192px\" preserveAspectRatio=\"none\" style=\"width:286px;height:192px;\" version=\"1.1\" viewBox=\"0 0 286 192\" width=\"286px\" zoomAndPan=\"magnify\"><defs><filter height=\"300%\" id=\"f1rvw9b341ot2v\" width=\"300%\" x=\"-1\" y=\"-1\"><feGaussianBlur result=\"blurOut\" stdDeviation=\"2.0\"/><feColorMatrix in=\"blurOut\" result=\"blurOut2\" type=\"matrix\" values=\"0 0 0 0 0 0 0 0 0 0 0 0 0 0 0 0 0 0 .4 0\"/><feOffset dx=\"4.0\" dy=\"4.0\" in=\"blurOut2\" result=\"blurOut3\"/><feBlend in=\"SourceGraphic\" in2=\"blurOut3\" mode=\"normal\"/></filter></defs><g><!--MD5=[fbc87193dbaf4d95561dea2c320d4a47]\n",
       "cluster E1--><a href=\"psysml:48e9f940-1f69-4218-811f-6a29c7cbfcb6\" target=\"_top\" title=\"psysml:48e9f940-1f69-4218-811f-6a29c7cbfcb6\" xlink:actuate=\"onRequest\" xlink:href=\"psysml:48e9f940-1f69-4218-811f-6a29c7cbfcb6\" xlink:show=\"new\" xlink:title=\"psysml:48e9f940-1f69-4218-811f-6a29c7cbfcb6\" xlink:type=\"simple\"><polygon fill=\"#FFFFFF\" filter=\"url(#f1rvw9b341ot2v)\" points=\"16,6,34,6,41,28.2969,264,28.2969,264,180,16,180,16,6\" style=\"stroke: #000000; stroke-width: 1.5;\"/><line style=\"stroke: #000000; stroke-width: 1.5;\" x1=\"16\" x2=\"41\" y1=\"28.2969\" y2=\"28.2969\"/><text fill=\"#000000\" font-family=\"sans-serif\" font-size=\"14\" font-weight=\"bold\" lengthAdjust=\"spacingAndGlyphs\" textLength=\"12\" x=\"20\" y=\"20.9951\">Q</text></a><!--MD5=[e4f7fae6ed58524ba242bb0b0d3be6b7]\n",
       "cluster E2--><a href=\"psysml:a224f497-53a8-4c97-a678-1669f6411a1a\" target=\"_top\" title=\"psysml:a224f497-53a8-4c97-a678-1669f6411a1a\" xlink:actuate=\"onRequest\" xlink:href=\"psysml:a224f497-53a8-4c97-a678-1669f6411a1a\" xlink:show=\"new\" xlink:title=\"psysml:a224f497-53a8-4c97-a678-1669f6411a1a\" xlink:type=\"simple\"><rect fill=\"#FFFFFF\" filter=\"url(#f1rvw9b341ot2v)\" height=\"91\" id=\"E2\" rx=\"10\" ry=\"10\" style=\"stroke: #A80036; stroke-width: 1.5;\" width=\"82\" x=\"158\" y=\"65\"/><rect fill=\"#FEFECE\" height=\"23.9688\" rx=\"10\" ry=\"10\" style=\"stroke: #FEFECE; stroke-width: 1.5;\" width=\"82\" x=\"158\" y=\"65\"/><rect fill=\"#FEFECE\" height=\"10\" style=\"stroke: #FEFECE; stroke-width: 1.5;\" width=\"82\" x=\"158\" y=\"78.9688\"/><rect fill=\"none\" height=\"91\" id=\"E2\" rx=\"10\" ry=\"10\" style=\"stroke: #A80036; stroke-width: 1.5;\" width=\"82\" x=\"158\" y=\"65\"/><text fill=\"#000000\" font-family=\"sans-serif\" font-size=\"12\" lengthAdjust=\"spacingAndGlyphs\" textLength=\"4\" x=\"197\" y=\"81.1387\">f</text><line style=\"stroke: #A80036; stroke-width: 1.0;\" x1=\"158\" x2=\"240\" y1=\"88.9688\" y2=\"88.9688\"/></a><!--MD5=[f6df4d0ebaf0b5dfb2ced0ae5af7c670]\n",
       "cluster E4--><a href=\"psysml:8521a391-022b-403d-ab54-4e64ea01dd3a\" target=\"_top\" title=\"psysml:8521a391-022b-403d-ab54-4e64ea01dd3a\" xlink:actuate=\"onRequest\" xlink:href=\"psysml:8521a391-022b-403d-ab54-4e64ea01dd3a\" xlink:show=\"new\" xlink:title=\"psysml:8521a391-022b-403d-ab54-4e64ea01dd3a\" xlink:type=\"simple\"><rect fill=\"#FFFFFF\" filter=\"url(#f1rvw9b341ot2v)\" height=\"107\" id=\"E4\" style=\"stroke: #A80036; stroke-width: 1.5;\" width=\"94\" x=\"40\" y=\"49\"/><rect fill=\"#FEFECE\" height=\"37.9375\" style=\"stroke: #A80036; stroke-width: 1.5;\" width=\"94\" x=\"40\" y=\"49\"/><text fill=\"#000000\" font-family=\"sans-serif\" font-size=\"12\" font-style=\"italic\" lengthAdjust=\"spacingAndGlyphs\" textLength=\"64\" x=\"55\" y=\"65.1387\">«part def»</text><text fill=\"#000000\" font-family=\"sans-serif\" font-size=\"12\" lengthAdjust=\"spacingAndGlyphs\" textLength=\"8\" x=\"83\" y=\"79.1074\">C</text></a><g id=\"E1.E2.E3\"><a href=\"psysml:692e246d-2e17-48ff-a8f3-1c9cda9639f6\" target=\"_top\" title=\"psysml:692e246d-2e17-48ff-a8f3-1c9cda9639f6\" xlink:actuate=\"onRequest\" xlink:href=\"psysml:692e246d-2e17-48ff-a8f3-1c9cda9639f6\" xlink:show=\"new\" xlink:title=\"psysml:692e246d-2e17-48ff-a8f3-1c9cda9639f6\" xlink:type=\"simple\"><rect fill=\"#FEFECE\" filter=\"url(#f1rvw9b341ot2v)\" height=\"40\" id=\"E3\" rx=\"10\" ry=\"10\" style=\"stroke: #A80036; stroke-width: 1.5;\" width=\"50\" x=\"174\" y=\"100\"/><text fill=\"#000000\" font-family=\"sans-serif\" font-size=\"12\" lengthAdjust=\"spacingAndGlyphs\" textLength=\"8\" x=\"195\" y=\"116.1387\">a</text></a></g><g id=\"E1.E4.E5\"><a href=\"psysml:7c666d7d-6a66-4269-8e3a-229640bb6ad0\" target=\"_top\" title=\"psysml:7c666d7d-6a66-4269-8e3a-229640bb6ad0\" xlink:actuate=\"onRequest\" xlink:href=\"psysml:7c666d7d-6a66-4269-8e3a-229640bb6ad0\" xlink:show=\"new\" xlink:title=\"psysml:7c666d7d-6a66-4269-8e3a-229640bb6ad0\" xlink:type=\"simple\"><rect fill=\"#FEFECE\" filter=\"url(#f1rvw9b341ot2v)\" height=\"40\" id=\"E5\" rx=\"10\" ry=\"10\" style=\"stroke: #A80036; stroke-width: 1.5;\" width=\"61\" x=\"56.5\" y=\"100\"/><text fill=\"#000000\" font-family=\"sans-serif\" font-size=\"12\" lengthAdjust=\"spacingAndGlyphs\" textLength=\"46\" x=\"62\" y=\"116.1387\">g=./f/a;</text></a></g><!--MD5=[9432612dbf6a255f1b7a3885496a977b]\n",
       "@startuml\r\n",
       "skinparam ranksep 10\r\n",
       "skinparam rectangle {\r\n",
       " backgroundColor<<block>> LightGreen\r\n",
       "}\r\n",
       "skinparam wrapWidth 300\r\n",
       "hide circle\r\n",
       "\r\n",
       "package \"Q\" as E1  [[psysml:48e9f940-1f69-4218-811f-6a29c7cbfcb6 ]]  {\r\n",
       "rec usage \"f\" as E2  [[psysml:a224f497-53a8-4c97-a678-1669f6411a1a ]] {\r\n",
       "rec usage \"a\" as E3  [[psysml:692e246d-2e17-48ff-a8f3-1c9cda9639f6 ]] {\r\n",
       "}\r\n",
       "}\r\n",
       "rec def \"C\" as E4  <<(T,blue)part def>> [[psysml:8521a391-022b-403d-ab54-4e64ea01dd3a ]] {\r\n",
       "rec usage \"g=./f/a; \" as E5  [[psysml:7c666d7d-6a66-4269-8e3a-229640bb6ad0 ]] {\r\n",
       "}\r\n",
       "}\r\n",
       "}\r\n",
       "@enduml\r\n",
       "\n",
       "PlantUML version 1.2020.13(Sat Jun 13 12:26:38 UTC 2020)\n",
       "(EPL source distribution)\n",
       "Java Runtime: OpenJDK Runtime Environment\n",
       "JVM: OpenJDK 64-Bit Server VM\n",
       "Default Encoding: UTF-8\n",
       "Language: en\n",
       "Country: null\n",
       "--></g></svg>"
      ]
     },
     "execution_count": 26,
     "metadata": {},
     "output_type": "execute_result"
    }
   ],
   "source": [
    "%viz --style=\"STDCOLOR\" --view=\"Interconnection\" \"Q\""
   ]
  },
  {
   "cell_type": "code",
   "execution_count": 27,
   "id": "412a5c41",
   "metadata": {
    "execution": {
     "iopub.execute_input": "2021-04-21T20:21:02.018665Z",
     "iopub.status.busy": "2021-04-21T20:21:02.018286Z",
     "iopub.status.idle": "2021-04-21T20:21:02.023835Z",
     "shell.execute_reply": "2021-04-21T20:21:02.024095Z"
    }
   },
   "outputs": [
    {
     "data": {
      "image/svg+xml": [
       "<?xml version=\"1.0\" encoding=\"UTF-8\" standalone=\"no\"?><svg xmlns=\"http://www.w3.org/2000/svg\" xmlns:xlink=\"http://www.w3.org/1999/xlink\" contentScriptType=\"application/ecmascript\" contentStyleType=\"text/css\" height=\"12px\" preserveAspectRatio=\"none\" style=\"width:12px;height:12px;\" version=\"1.1\" viewBox=\"0 0 12 12\" width=\"12px\" zoomAndPan=\"magnify\"><defs/><g><!--MD5=[9863325348a96a77dacc89509d8ee65e]\n",
       "@startuml\r\n",
       "skinparam ranksep 8\r\n",
       "skinparam wrapWidth 300\r\n",
       "hide circle\r\n",
       "\r\n",
       "@enduml\r\n",
       "\n",
       "PlantUML version 1.2020.13(Sat Jun 13 12:26:38 UTC 2020)\n",
       "(EPL source distribution)\n",
       "Java Runtime: OpenJDK Runtime Environment\n",
       "JVM: OpenJDK 64-Bit Server VM\n",
       "Default Encoding: UTF-8\n",
       "Language: en\n",
       "Country: null\n",
       "--></g></svg>"
      ]
     },
     "execution_count": 27,
     "metadata": {},
     "output_type": "execute_result"
    }
   ],
   "source": [
    "%viz --style=\"STDCOLOR\" --view=\"Action\" \"Q\""
   ]
  },
  {
   "cell_type": "code",
   "execution_count": 28,
   "id": "48afd040",
   "metadata": {
    "execution": {
     "iopub.execute_input": "2021-04-21T20:21:02.075976Z",
     "iopub.status.busy": "2021-04-21T20:21:02.075404Z",
     "iopub.status.idle": "2021-04-21T20:21:02.105379Z",
     "shell.execute_reply": "2021-04-21T20:21:02.105708Z"
    }
   },
   "outputs": [
    {
     "data": {
      "image/svg+xml": [
       "<?xml version=\"1.0\" encoding=\"UTF-8\" standalone=\"no\"?><svg xmlns=\"http://www.w3.org/2000/svg\" xmlns:xlink=\"http://www.w3.org/1999/xlink\" contentScriptType=\"application/ecmascript\" contentStyleType=\"text/css\" height=\"221px\" preserveAspectRatio=\"none\" style=\"width:213px;height:221px;\" version=\"1.1\" viewBox=\"0 0 213 221\" width=\"213px\" zoomAndPan=\"magnify\"><defs><filter height=\"300%\" id=\"f10rstc5mxzf0a\" width=\"300%\" x=\"-1\" y=\"-1\"><feGaussianBlur result=\"blurOut\" stdDeviation=\"2.0\"/><feColorMatrix in=\"blurOut\" result=\"blurOut2\" type=\"matrix\" values=\"0 0 0 0 0 0 0 0 0 0 0 0 0 0 0 0 0 0 .4 0\"/><feOffset dx=\"4.0\" dy=\"4.0\" in=\"blurOut2\" result=\"blurOut3\"/><feBlend in=\"SourceGraphic\" in2=\"blurOut3\" mode=\"normal\"/></filter></defs><g><!--MD5=[fbc87193dbaf4d95561dea2c320d4a47]\n",
       "cluster E1--><a href=\"psysml:48e9f940-1f69-4218-811f-6a29c7cbfcb6\" target=\"_top\" title=\"psysml:48e9f940-1f69-4218-811f-6a29c7cbfcb6\" xlink:actuate=\"onRequest\" xlink:href=\"psysml:48e9f940-1f69-4218-811f-6a29c7cbfcb6\" xlink:show=\"new\" xlink:title=\"psysml:48e9f940-1f69-4218-811f-6a29c7cbfcb6\" xlink:type=\"simple\"><polygon fill=\"#FFFFFF\" filter=\"url(#f10rstc5mxzf0a)\" points=\"16,6,34,6,41,28.2969,191,28.2969,191,209,16,209,16,6\" style=\"stroke: #000000; stroke-width: 1.5;\"/><line style=\"stroke: #000000; stroke-width: 1.5;\" x1=\"16\" x2=\"41\" y1=\"28.2969\" y2=\"28.2969\"/><text fill=\"#000000\" font-family=\"sans-serif\" font-size=\"14\" font-weight=\"bold\" lengthAdjust=\"spacingAndGlyphs\" textLength=\"12\" x=\"20\" y=\"20.9951\">Q</text></a><!--MD5=[b4997ac47864f28c2f74865a473b2911]\n",
       "class E2--><a href=\"psysml:a224f497-53a8-4c97-a678-1669f6411a1a\" target=\"_top\" title=\"psysml:a224f497-53a8-4c97-a678-1669f6411a1a\" xlink:actuate=\"onRequest\" xlink:href=\"psysml:a224f497-53a8-4c97-a678-1669f6411a1a\" xlink:show=\"new\" xlink:title=\"psysml:a224f497-53a8-4c97-a678-1669f6411a1a\" xlink:type=\"simple\"><rect fill=\"#FEFECE\" filter=\"url(#f10rstc5mxzf0a)\" height=\"45.9375\" id=\"E2\" rx=\"10\" ry=\"10\" style=\"stroke: #A80036; stroke-width: 1.5;\" width=\"42\" x=\"133\" y=\"41\"/><text fill=\"#000000\" font-family=\"sans-serif\" font-size=\"12\" font-style=\"italic\" lengthAdjust=\"spacingAndGlyphs\" textLength=\"40\" x=\"134\" y=\"57.1387\">«part»</text><text fill=\"#000000\" font-family=\"sans-serif\" font-size=\"12\" lengthAdjust=\"spacingAndGlyphs\" textLength=\"4\" x=\"152\" y=\"71.1074\">f</text><line style=\"stroke: #A80036; stroke-width: 1.5;\" x1=\"134\" x2=\"174\" y1=\"78.9375\" y2=\"78.9375\"/></a><!--MD5=[09b614a08d8cba4a07c9adeb5e0fee81]\n",
       "class E3--><a href=\"psysml:692e246d-2e17-48ff-a8f3-1c9cda9639f6\" target=\"_top\" title=\"psysml:692e246d-2e17-48ff-a8f3-1c9cda9639f6\" xlink:actuate=\"onRequest\" xlink:href=\"psysml:692e246d-2e17-48ff-a8f3-1c9cda9639f6\" xlink:show=\"new\" xlink:title=\"psysml:692e246d-2e17-48ff-a8f3-1c9cda9639f6\" xlink:type=\"simple\"><rect fill=\"#FEFECE\" filter=\"url(#f10rstc5mxzf0a)\" height=\"45.9375\" id=\"E3\" rx=\"10\" ry=\"10\" style=\"stroke: #A80036; stroke-width: 1.5;\" width=\"42\" x=\"133\" y=\"147\"/><text fill=\"#000000\" font-family=\"sans-serif\" font-size=\"12\" font-style=\"italic\" lengthAdjust=\"spacingAndGlyphs\" textLength=\"40\" x=\"134\" y=\"163.1387\">«part»</text><text fill=\"#000000\" font-family=\"sans-serif\" font-size=\"12\" lengthAdjust=\"spacingAndGlyphs\" textLength=\"8\" x=\"150\" y=\"177.1074\">a</text><line style=\"stroke: #A80036; stroke-width: 1.5;\" x1=\"134\" x2=\"174\" y1=\"184.9375\" y2=\"184.9375\"/></a><!--MD5=[ebbe1d658d1005bcc118a6aa81145e00]\n",
       "class E4--><a href=\"psysml:8521a391-022b-403d-ab54-4e64ea01dd3a\" target=\"_top\" title=\"psysml:8521a391-022b-403d-ab54-4e64ea01dd3a\" xlink:actuate=\"onRequest\" xlink:href=\"psysml:8521a391-022b-403d-ab54-4e64ea01dd3a\" xlink:show=\"new\" xlink:title=\"psysml:8521a391-022b-403d-ab54-4e64ea01dd3a\" xlink:type=\"simple\"><rect fill=\"#FEFECE\" filter=\"url(#f10rstc5mxzf0a)\" height=\"45.9375\" id=\"E4\" style=\"stroke: #A80036; stroke-width: 1.5;\" width=\"66\" x=\"32\" y=\"41\"/><text fill=\"#000000\" font-family=\"sans-serif\" font-size=\"12\" font-style=\"italic\" lengthAdjust=\"spacingAndGlyphs\" textLength=\"64\" x=\"33\" y=\"57.1387\">«part def»</text><text fill=\"#000000\" font-family=\"sans-serif\" font-size=\"12\" lengthAdjust=\"spacingAndGlyphs\" textLength=\"8\" x=\"61\" y=\"71.1074\">C</text><line style=\"stroke: #A80036; stroke-width: 1.5;\" x1=\"33\" x2=\"97\" y1=\"78.9375\" y2=\"78.9375\"/></a><!--MD5=[270fce915f116d4de14055a7c1d9a0f3]\n",
       "class E5--><a href=\"psysml:7c666d7d-6a66-4269-8e3a-229640bb6ad0\" target=\"_top\" title=\"psysml:7c666d7d-6a66-4269-8e3a-229640bb6ad0\" xlink:actuate=\"onRequest\" xlink:href=\"psysml:7c666d7d-6a66-4269-8e3a-229640bb6ad0\" xlink:show=\"new\" xlink:title=\"psysml:7c666d7d-6a66-4269-8e3a-229640bb6ad0\" xlink:type=\"simple\"><rect fill=\"#FEFECE\" filter=\"url(#f10rstc5mxzf0a)\" height=\"45.9375\" id=\"E5\" rx=\"10\" ry=\"10\" style=\"stroke: #A80036; stroke-width: 1.5;\" width=\"42\" x=\"44\" y=\"147\"/><text fill=\"#000000\" font-family=\"sans-serif\" font-size=\"12\" font-style=\"italic\" lengthAdjust=\"spacingAndGlyphs\" textLength=\"40\" x=\"45\" y=\"163.1387\">«part»</text><text fill=\"#000000\" font-family=\"sans-serif\" font-size=\"12\" lengthAdjust=\"spacingAndGlyphs\" textLength=\"8\" x=\"61\" y=\"177.1074\">g</text><line style=\"stroke: #A80036; stroke-width: 1.5;\" x1=\"45\" x2=\"85\" y1=\"184.9375\" y2=\"184.9375\"/></a><!--MD5=[209b3feb70ccb6233bfe1053d122c12c]\n",
       "reverse link E2 to E3--><a href=\"psysml:71ed813c-2f6a-4d13-b6a9-9d55dbb4d689\" target=\"_top\" title=\"psysml:71ed813c-2f6a-4d13-b6a9-9d55dbb4d689\" xlink:actuate=\"onRequest\" xlink:href=\"psysml:71ed813c-2f6a-4d13-b6a9-9d55dbb4d689\" xlink:show=\"new\" xlink:title=\"psysml:71ed813c-2f6a-4d13-b6a9-9d55dbb4d689\" xlink:type=\"simple\"><path d=\"M154,100.44 C154,115.87 154,133.47 154,146.98 \" fill=\"none\" id=\"E2&lt;-E3\" style=\"stroke: #A80036; stroke-width: 1.0;\"/><polygon fill=\"#A80036\" points=\"154,87.06,150,93.06,154,99.06,158,93.06,154,87.06\" style=\"stroke: #A80036; stroke-width: 1.0;\"/></a><!--MD5=[62aa6af11e70f752912c1cb0466f24f7]\n",
       "reverse link E4 to E5--><a href=\"psysml:66a9662c-d0de-409c-b1e7-d598996fdcb0\" target=\"_top\" title=\"psysml:66a9662c-d0de-409c-b1e7-d598996fdcb0\" xlink:actuate=\"onRequest\" xlink:href=\"psysml:66a9662c-d0de-409c-b1e7-d598996fdcb0\" xlink:show=\"new\" xlink:title=\"psysml:66a9662c-d0de-409c-b1e7-d598996fdcb0\" xlink:type=\"simple\"><path d=\"M65,100.44 C65,115.87 65,133.47 65,146.98 \" fill=\"none\" id=\"E4&lt;-E5\" style=\"stroke: #A80036; stroke-width: 1.0;\"/><polygon fill=\"#A80036\" points=\"65,87.06,61,93.06,65,99.06,69,93.06,65,87.06\" style=\"stroke: #A80036; stroke-width: 1.0;\"/></a><!--MD5=[a1a7537700ea8cc75e29ac7dd15c11da]\n",
       "@startuml\r\n",
       "skinparam wrapWidth 300\r\n",
       "hide circle\r\n",
       "\r\n",
       "package \"Q\" as E1  [[psysml:48e9f940-1f69-4218-811f-6a29c7cbfcb6 ]]  {\r\n",
       "comp usage \"f\" as E2  <<(T,blue)part>> [[psysml:a224f497-53a8-4c97-a678-1669f6411a1a ]] {\r\n",
       "}\r\n",
       "comp usage \"a\" as E3  <<(T,blue)part>> [[psysml:692e246d-2e17-48ff-a8f3-1c9cda9639f6 ]] {\r\n",
       "}\r\n",
       "comp def \"C\" as E4  <<(T,blue)part def>> [[psysml:8521a391-022b-403d-ab54-4e64ea01dd3a ]] {\r\n",
       "}\r\n",
       "comp usage \"g\" as E5  <<(T,blue)part>> [[psysml:7c666d7d-6a66-4269-8e3a-229640bb6ad0 ]] {\r\n",
       "}\r\n",
       "E2 *- - E3 [[psysml:71ed813c-2f6a-4d13-b6a9-9d55dbb4d689 ]] \r\n",
       "E4 *- - E5 [[psysml:66a9662c-d0de-409c-b1e7-d598996fdcb0 ]] \r\n",
       "}\r\n",
       "@enduml\r\n",
       "\n",
       "PlantUML version 1.2020.13(Sat Jun 13 12:26:38 UTC 2020)\n",
       "(EPL source distribution)\n",
       "Java Runtime: OpenJDK Runtime Environment\n",
       "JVM: OpenJDK 64-Bit Server VM\n",
       "Default Encoding: UTF-8\n",
       "Language: en\n",
       "Country: null\n",
       "--></g></svg>"
      ]
     },
     "execution_count": 28,
     "metadata": {},
     "output_type": "execute_result"
    }
   ],
   "source": [
    "%viz --style=\"STDCOLOR\" --view=\"Sequence\" \"Q\""
   ]
  },
  {
   "cell_type": "code",
   "execution_count": 29,
   "id": "c0d7e76f",
   "metadata": {
    "execution": {
     "iopub.execute_input": "2021-04-21T20:21:02.156813Z",
     "iopub.status.busy": "2021-04-21T20:21:02.156159Z",
     "iopub.status.idle": "2021-04-21T20:21:02.190134Z",
     "shell.execute_reply": "2021-04-21T20:21:02.189822Z"
    }
   },
   "outputs": [
    {
     "data": {
      "image/svg+xml": [
       "<?xml version=\"1.0\" encoding=\"UTF-8\" standalone=\"no\"?><svg xmlns=\"http://www.w3.org/2000/svg\" xmlns:xlink=\"http://www.w3.org/1999/xlink\" contentScriptType=\"application/ecmascript\" contentStyleType=\"text/css\" height=\"221px\" preserveAspectRatio=\"none\" style=\"width:213px;height:221px;\" version=\"1.1\" viewBox=\"0 0 213 221\" width=\"213px\" zoomAndPan=\"magnify\"><defs><filter height=\"300%\" id=\"f10rstc5mxzf0a\" width=\"300%\" x=\"-1\" y=\"-1\"><feGaussianBlur result=\"blurOut\" stdDeviation=\"2.0\"/><feColorMatrix in=\"blurOut\" result=\"blurOut2\" type=\"matrix\" values=\"0 0 0 0 0 0 0 0 0 0 0 0 0 0 0 0 0 0 .4 0\"/><feOffset dx=\"4.0\" dy=\"4.0\" in=\"blurOut2\" result=\"blurOut3\"/><feBlend in=\"SourceGraphic\" in2=\"blurOut3\" mode=\"normal\"/></filter></defs><g><!--MD5=[fbc87193dbaf4d95561dea2c320d4a47]\n",
       "cluster E1--><a href=\"psysml:48e9f940-1f69-4218-811f-6a29c7cbfcb6\" target=\"_top\" title=\"psysml:48e9f940-1f69-4218-811f-6a29c7cbfcb6\" xlink:actuate=\"onRequest\" xlink:href=\"psysml:48e9f940-1f69-4218-811f-6a29c7cbfcb6\" xlink:show=\"new\" xlink:title=\"psysml:48e9f940-1f69-4218-811f-6a29c7cbfcb6\" xlink:type=\"simple\"><polygon fill=\"#FFFFFF\" filter=\"url(#f10rstc5mxzf0a)\" points=\"16,6,34,6,41,28.2969,191,28.2969,191,209,16,209,16,6\" style=\"stroke: #000000; stroke-width: 1.5;\"/><line style=\"stroke: #000000; stroke-width: 1.5;\" x1=\"16\" x2=\"41\" y1=\"28.2969\" y2=\"28.2969\"/><text fill=\"#000000\" font-family=\"sans-serif\" font-size=\"14\" font-weight=\"bold\" lengthAdjust=\"spacingAndGlyphs\" textLength=\"12\" x=\"20\" y=\"20.9951\">Q</text></a><!--MD5=[b4997ac47864f28c2f74865a473b2911]\n",
       "class E2--><a href=\"psysml:a224f497-53a8-4c97-a678-1669f6411a1a\" target=\"_top\" title=\"psysml:a224f497-53a8-4c97-a678-1669f6411a1a\" xlink:actuate=\"onRequest\" xlink:href=\"psysml:a224f497-53a8-4c97-a678-1669f6411a1a\" xlink:show=\"new\" xlink:title=\"psysml:a224f497-53a8-4c97-a678-1669f6411a1a\" xlink:type=\"simple\"><rect fill=\"#FEFECE\" filter=\"url(#f10rstc5mxzf0a)\" height=\"45.9375\" id=\"E2\" rx=\"10\" ry=\"10\" style=\"stroke: #A80036; stroke-width: 1.5;\" width=\"42\" x=\"133\" y=\"41\"/><text fill=\"#000000\" font-family=\"sans-serif\" font-size=\"12\" font-style=\"italic\" lengthAdjust=\"spacingAndGlyphs\" textLength=\"40\" x=\"134\" y=\"57.1387\">«part»</text><text fill=\"#000000\" font-family=\"sans-serif\" font-size=\"12\" lengthAdjust=\"spacingAndGlyphs\" textLength=\"4\" x=\"152\" y=\"71.1074\">f</text><line style=\"stroke: #A80036; stroke-width: 1.5;\" x1=\"134\" x2=\"174\" y1=\"78.9375\" y2=\"78.9375\"/></a><!--MD5=[09b614a08d8cba4a07c9adeb5e0fee81]\n",
       "class E3--><a href=\"psysml:692e246d-2e17-48ff-a8f3-1c9cda9639f6\" target=\"_top\" title=\"psysml:692e246d-2e17-48ff-a8f3-1c9cda9639f6\" xlink:actuate=\"onRequest\" xlink:href=\"psysml:692e246d-2e17-48ff-a8f3-1c9cda9639f6\" xlink:show=\"new\" xlink:title=\"psysml:692e246d-2e17-48ff-a8f3-1c9cda9639f6\" xlink:type=\"simple\"><rect fill=\"#FEFECE\" filter=\"url(#f10rstc5mxzf0a)\" height=\"45.9375\" id=\"E3\" rx=\"10\" ry=\"10\" style=\"stroke: #A80036; stroke-width: 1.5;\" width=\"42\" x=\"133\" y=\"147\"/><text fill=\"#000000\" font-family=\"sans-serif\" font-size=\"12\" font-style=\"italic\" lengthAdjust=\"spacingAndGlyphs\" textLength=\"40\" x=\"134\" y=\"163.1387\">«part»</text><text fill=\"#000000\" font-family=\"sans-serif\" font-size=\"12\" lengthAdjust=\"spacingAndGlyphs\" textLength=\"8\" x=\"150\" y=\"177.1074\">a</text><line style=\"stroke: #A80036; stroke-width: 1.5;\" x1=\"134\" x2=\"174\" y1=\"184.9375\" y2=\"184.9375\"/></a><!--MD5=[ebbe1d658d1005bcc118a6aa81145e00]\n",
       "class E4--><a href=\"psysml:8521a391-022b-403d-ab54-4e64ea01dd3a\" target=\"_top\" title=\"psysml:8521a391-022b-403d-ab54-4e64ea01dd3a\" xlink:actuate=\"onRequest\" xlink:href=\"psysml:8521a391-022b-403d-ab54-4e64ea01dd3a\" xlink:show=\"new\" xlink:title=\"psysml:8521a391-022b-403d-ab54-4e64ea01dd3a\" xlink:type=\"simple\"><rect fill=\"#FEFECE\" filter=\"url(#f10rstc5mxzf0a)\" height=\"45.9375\" id=\"E4\" style=\"stroke: #A80036; stroke-width: 1.5;\" width=\"66\" x=\"32\" y=\"41\"/><text fill=\"#000000\" font-family=\"sans-serif\" font-size=\"12\" font-style=\"italic\" lengthAdjust=\"spacingAndGlyphs\" textLength=\"64\" x=\"33\" y=\"57.1387\">«part def»</text><text fill=\"#000000\" font-family=\"sans-serif\" font-size=\"12\" lengthAdjust=\"spacingAndGlyphs\" textLength=\"8\" x=\"61\" y=\"71.1074\">C</text><line style=\"stroke: #A80036; stroke-width: 1.5;\" x1=\"33\" x2=\"97\" y1=\"78.9375\" y2=\"78.9375\"/></a><!--MD5=[270fce915f116d4de14055a7c1d9a0f3]\n",
       "class E5--><a href=\"psysml:7c666d7d-6a66-4269-8e3a-229640bb6ad0\" target=\"_top\" title=\"psysml:7c666d7d-6a66-4269-8e3a-229640bb6ad0\" xlink:actuate=\"onRequest\" xlink:href=\"psysml:7c666d7d-6a66-4269-8e3a-229640bb6ad0\" xlink:show=\"new\" xlink:title=\"psysml:7c666d7d-6a66-4269-8e3a-229640bb6ad0\" xlink:type=\"simple\"><rect fill=\"#FEFECE\" filter=\"url(#f10rstc5mxzf0a)\" height=\"45.9375\" id=\"E5\" rx=\"10\" ry=\"10\" style=\"stroke: #A80036; stroke-width: 1.5;\" width=\"42\" x=\"44\" y=\"147\"/><text fill=\"#000000\" font-family=\"sans-serif\" font-size=\"12\" font-style=\"italic\" lengthAdjust=\"spacingAndGlyphs\" textLength=\"40\" x=\"45\" y=\"163.1387\">«part»</text><text fill=\"#000000\" font-family=\"sans-serif\" font-size=\"12\" lengthAdjust=\"spacingAndGlyphs\" textLength=\"8\" x=\"61\" y=\"177.1074\">g</text><line style=\"stroke: #A80036; stroke-width: 1.5;\" x1=\"45\" x2=\"85\" y1=\"184.9375\" y2=\"184.9375\"/></a><!--MD5=[209b3feb70ccb6233bfe1053d122c12c]\n",
       "reverse link E2 to E3--><a href=\"psysml:71ed813c-2f6a-4d13-b6a9-9d55dbb4d689\" target=\"_top\" title=\"psysml:71ed813c-2f6a-4d13-b6a9-9d55dbb4d689\" xlink:actuate=\"onRequest\" xlink:href=\"psysml:71ed813c-2f6a-4d13-b6a9-9d55dbb4d689\" xlink:show=\"new\" xlink:title=\"psysml:71ed813c-2f6a-4d13-b6a9-9d55dbb4d689\" xlink:type=\"simple\"><path d=\"M154,100.44 C154,115.87 154,133.47 154,146.98 \" fill=\"none\" id=\"E2&lt;-E3\" style=\"stroke: #A80036; stroke-width: 1.0;\"/><polygon fill=\"#A80036\" points=\"154,87.06,150,93.06,154,99.06,158,93.06,154,87.06\" style=\"stroke: #A80036; stroke-width: 1.0;\"/></a><!--MD5=[62aa6af11e70f752912c1cb0466f24f7]\n",
       "reverse link E4 to E5--><a href=\"psysml:66a9662c-d0de-409c-b1e7-d598996fdcb0\" target=\"_top\" title=\"psysml:66a9662c-d0de-409c-b1e7-d598996fdcb0\" xlink:actuate=\"onRequest\" xlink:href=\"psysml:66a9662c-d0de-409c-b1e7-d598996fdcb0\" xlink:show=\"new\" xlink:title=\"psysml:66a9662c-d0de-409c-b1e7-d598996fdcb0\" xlink:type=\"simple\"><path d=\"M65,100.44 C65,115.87 65,133.47 65,146.98 \" fill=\"none\" id=\"E4&lt;-E5\" style=\"stroke: #A80036; stroke-width: 1.0;\"/><polygon fill=\"#A80036\" points=\"65,87.06,61,93.06,65,99.06,69,93.06,65,87.06\" style=\"stroke: #A80036; stroke-width: 1.0;\"/></a><!--MD5=[a1a7537700ea8cc75e29ac7dd15c11da]\n",
       "@startuml\r\n",
       "skinparam wrapWidth 300\r\n",
       "hide circle\r\n",
       "\r\n",
       "package \"Q\" as E1  [[psysml:48e9f940-1f69-4218-811f-6a29c7cbfcb6 ]]  {\r\n",
       "comp usage \"f\" as E2  <<(T,blue)part>> [[psysml:a224f497-53a8-4c97-a678-1669f6411a1a ]] {\r\n",
       "}\r\n",
       "comp usage \"a\" as E3  <<(T,blue)part>> [[psysml:692e246d-2e17-48ff-a8f3-1c9cda9639f6 ]] {\r\n",
       "}\r\n",
       "comp def \"C\" as E4  <<(T,blue)part def>> [[psysml:8521a391-022b-403d-ab54-4e64ea01dd3a ]] {\r\n",
       "}\r\n",
       "comp usage \"g\" as E5  <<(T,blue)part>> [[psysml:7c666d7d-6a66-4269-8e3a-229640bb6ad0 ]] {\r\n",
       "}\r\n",
       "E2 *- - E3 [[psysml:71ed813c-2f6a-4d13-b6a9-9d55dbb4d689 ]] \r\n",
       "E4 *- - E5 [[psysml:66a9662c-d0de-409c-b1e7-d598996fdcb0 ]] \r\n",
       "}\r\n",
       "@enduml\r\n",
       "\n",
       "PlantUML version 1.2020.13(Sat Jun 13 12:26:38 UTC 2020)\n",
       "(EPL source distribution)\n",
       "Java Runtime: OpenJDK Runtime Environment\n",
       "JVM: OpenJDK 64-Bit Server VM\n",
       "Default Encoding: UTF-8\n",
       "Language: en\n",
       "Country: null\n",
       "--></g></svg>"
      ]
     },
     "execution_count": 29,
     "metadata": {},
     "output_type": "execute_result"
    }
   ],
   "source": [
    "%viz --style=\"STDCOLOR\" --view=\"MIXED\" \"Q\""
   ]
  },
  {
   "cell_type": "code",
   "execution_count": 30,
   "id": "1f4e7707",
   "metadata": {
    "execution": {
     "iopub.execute_input": "2021-04-21T20:21:02.241075Z",
     "iopub.status.busy": "2021-04-21T20:21:02.240533Z",
     "iopub.status.idle": "2021-04-21T20:21:02.295860Z",
     "shell.execute_reply": "2021-04-21T20:21:02.295548Z"
    }
   },
   "outputs": [
    {
     "data": {
      "image/svg+xml": [
       "<?xml version=\"1.0\" encoding=\"UTF-8\" standalone=\"no\"?><svg xmlns=\"http://www.w3.org/2000/svg\" xmlns:xlink=\"http://www.w3.org/1999/xlink\" contentScriptType=\"application/ecmascript\" contentStyleType=\"text/css\" height=\"221px\" preserveAspectRatio=\"none\" style=\"width:241px;height:221px;\" version=\"1.1\" viewBox=\"0 0 241 221\" width=\"241px\" zoomAndPan=\"magnify\"><defs><filter height=\"300%\" id=\"fa1gmdnup8yoc\" width=\"300%\" x=\"-1\" y=\"-1\"><feGaussianBlur result=\"blurOut\" stdDeviation=\"2.0\"/><feColorMatrix in=\"blurOut\" result=\"blurOut2\" type=\"matrix\" values=\"0 0 0 0 0 0 0 0 0 0 0 0 0 0 0 0 0 0 .4 0\"/><feOffset dx=\"4.0\" dy=\"4.0\" in=\"blurOut2\" result=\"blurOut3\"/><feBlend in=\"SourceGraphic\" in2=\"blurOut3\" mode=\"normal\"/></filter></defs><g><!--MD5=[fbc87193dbaf4d95561dea2c320d4a47]\n",
       "cluster E1--><a href=\"psysml:48e9f940-1f69-4218-811f-6a29c7cbfcb6\" target=\"_top\" title=\"psysml:48e9f940-1f69-4218-811f-6a29c7cbfcb6\" xlink:actuate=\"onRequest\" xlink:href=\"psysml:48e9f940-1f69-4218-811f-6a29c7cbfcb6\" xlink:show=\"new\" xlink:title=\"psysml:48e9f940-1f69-4218-811f-6a29c7cbfcb6\" xlink:type=\"simple\"><polygon fill=\"#FFFFFF\" filter=\"url(#fa1gmdnup8yoc)\" points=\"16,6,34,6,41,28.2969,219,28.2969,219,209,16,209,16,6\" style=\"stroke: #000000; stroke-width: 1.5;\"/><line style=\"stroke: #000000; stroke-width: 1.5;\" x1=\"16\" x2=\"41\" y1=\"28.2969\" y2=\"28.2969\"/><text fill=\"#000000\" font-family=\"sans-serif\" font-size=\"14\" font-weight=\"bold\" lengthAdjust=\"spacingAndGlyphs\" textLength=\"12\" x=\"20\" y=\"20.9951\">Q</text></a><!--MD5=[b4997ac47864f28c2f74865a473b2911]\n",
       "class E2--><a href=\"psysml:a224f497-53a8-4c97-a678-1669f6411a1a\" target=\"_top\" title=\"psysml:a224f497-53a8-4c97-a678-1669f6411a1a\" xlink:actuate=\"onRequest\" xlink:href=\"psysml:a224f497-53a8-4c97-a678-1669f6411a1a\" xlink:show=\"new\" xlink:title=\"psysml:a224f497-53a8-4c97-a678-1669f6411a1a\" xlink:type=\"simple\"><rect fill=\"#FEFECE\" filter=\"url(#fa1gmdnup8yoc)\" height=\"45.9375\" id=\"E2\" rx=\"10\" ry=\"10\" style=\"stroke: #A80036; stroke-width: 1.5;\" width=\"68\" x=\"135\" y=\"41\"/><ellipse cx=\"150\" cy=\"59.9688\" fill=\"#32CD32\" rx=\"11\" ry=\"11\" style=\"stroke: #A80036; stroke-width: 1.0;\"/><path d=\"M149.7969,55.6406 L149.7969,59.2656 L150.7969,59.2656 Q152,59.2656 152.4844,58.8594 Q152.9688,58.4531 152.9688,57.4531 Q152.9688,56.4531 152.4844,56.0469 Q152,55.6406 150.7969,55.6406 L149.7969,55.6406 Z M147.3438,53.5781 L150.7031,53.5781 Q153.2656,53.5781 154.3906,54.5 Q155.5156,55.4063 155.5156,57.4531 Q155.5156,59.5 154.3906,60.4219 Q153.2656,61.3281 150.7031,61.3281 L149.7969,61.3281 L149.7969,65.9688 L147.3438,65.9688 L147.3438,53.5781 Z \"/><text fill=\"#000000\" font-family=\"sans-serif\" font-size=\"12\" font-style=\"italic\" lengthAdjust=\"spacingAndGlyphs\" textLength=\"40\" x=\"162\" y=\"57.1387\">«part»</text><text fill=\"#000000\" font-family=\"sans-serif\" font-size=\"12\" lengthAdjust=\"spacingAndGlyphs\" textLength=\"4\" x=\"180\" y=\"71.1074\">f</text><line style=\"stroke: #A80036; stroke-width: 1.5;\" x1=\"136\" x2=\"202\" y1=\"78.9375\" y2=\"78.9375\"/></a><!--MD5=[09b614a08d8cba4a07c9adeb5e0fee81]\n",
       "class E3--><a href=\"psysml:692e246d-2e17-48ff-a8f3-1c9cda9639f6\" target=\"_top\" title=\"psysml:692e246d-2e17-48ff-a8f3-1c9cda9639f6\" xlink:actuate=\"onRequest\" xlink:href=\"psysml:692e246d-2e17-48ff-a8f3-1c9cda9639f6\" xlink:show=\"new\" xlink:title=\"psysml:692e246d-2e17-48ff-a8f3-1c9cda9639f6\" xlink:type=\"simple\"><rect fill=\"#FEFECE\" filter=\"url(#fa1gmdnup8yoc)\" height=\"45.9375\" id=\"E3\" rx=\"10\" ry=\"10\" style=\"stroke: #A80036; stroke-width: 1.5;\" width=\"68\" x=\"135\" y=\"147\"/><ellipse cx=\"150\" cy=\"165.9688\" fill=\"#32CD32\" rx=\"11\" ry=\"11\" style=\"stroke: #A80036; stroke-width: 1.0;\"/><path d=\"M149.7969,161.6406 L149.7969,165.2656 L150.7969,165.2656 Q152,165.2656 152.4844,164.8594 Q152.9688,164.4531 152.9688,163.4531 Q152.9688,162.4531 152.4844,162.0469 Q152,161.6406 150.7969,161.6406 L149.7969,161.6406 Z M147.3438,159.5781 L150.7031,159.5781 Q153.2656,159.5781 154.3906,160.5 Q155.5156,161.4063 155.5156,163.4531 Q155.5156,165.5 154.3906,166.4219 Q153.2656,167.3281 150.7031,167.3281 L149.7969,167.3281 L149.7969,171.9688 L147.3438,171.9688 L147.3438,159.5781 Z \"/><text fill=\"#000000\" font-family=\"sans-serif\" font-size=\"12\" font-style=\"italic\" lengthAdjust=\"spacingAndGlyphs\" textLength=\"40\" x=\"162\" y=\"163.1387\">«part»</text><text fill=\"#000000\" font-family=\"sans-serif\" font-size=\"12\" lengthAdjust=\"spacingAndGlyphs\" textLength=\"8\" x=\"178\" y=\"177.1074\">a</text><line style=\"stroke: #A80036; stroke-width: 1.5;\" x1=\"136\" x2=\"202\" y1=\"184.9375\" y2=\"184.9375\"/></a><!--MD5=[ebbe1d658d1005bcc118a6aa81145e00]\n",
       "class E4--><a href=\"psysml:8521a391-022b-403d-ab54-4e64ea01dd3a\" target=\"_top\" title=\"psysml:8521a391-022b-403d-ab54-4e64ea01dd3a\" xlink:actuate=\"onRequest\" xlink:href=\"psysml:8521a391-022b-403d-ab54-4e64ea01dd3a\" xlink:show=\"new\" xlink:title=\"psysml:8521a391-022b-403d-ab54-4e64ea01dd3a\" xlink:type=\"simple\"><rect fill=\"#FEFECE\" filter=\"url(#fa1gmdnup8yoc)\" height=\"40\" id=\"E4\" style=\"stroke: #A80036; stroke-width: 1.5;\" width=\"40\" x=\"46\" y=\"44\"/><ellipse cx=\"61\" cy=\"60\" fill=\"#008000\" rx=\"11\" ry=\"11\" style=\"stroke: #A80036; stroke-width: 1.0;\"/><path d=\"M59.9063,60.375 L59.9063,64.0469 L61.5313,64.0469 Q62.7031,64.0469 63.1719,63.6563 Q63.6406,63.25 63.6406,62.25 Q63.6406,61.25 63.1406,60.8125 Q62.6563,60.375 61.5313,60.375 L59.9063,60.375 Z M59.9063,55.5469 L59.9063,58.4219 L61.5313,58.4219 Q62.4531,58.4219 62.8438,58.0938 Q63.25,57.75 63.25,57 Q63.25,56.2344 62.8438,55.8906 Q62.4375,55.5469 61.5313,55.5469 L59.9063,55.5469 Z M57.5313,53.5938 L61.5313,53.5938 Q63.5938,53.5938 64.6406,54.375 Q65.6875,55.1563 65.6875,56.7188 Q65.6875,57.9219 65.0625,58.5938 Q64.4531,59.2656 63.2656,59.375 Q64.6875,59.5156 65.4063,60.3281 Q66.125,61.1406 66.125,62.5938 Q66.125,64.3906 65.0469,65.2031 Q63.9688,66 61.5313,66 L57.5313,66 L57.5313,53.5938 Z \"/><text fill=\"#000000\" font-family=\"sans-serif\" font-size=\"12\" lengthAdjust=\"spacingAndGlyphs\" textLength=\"8\" x=\"75\" y=\"64.1543\">C</text><line style=\"stroke: #A80036; stroke-width: 1.5;\" x1=\"47\" x2=\"85\" y1=\"76\" y2=\"76\"/></a><!--MD5=[270fce915f116d4de14055a7c1d9a0f3]\n",
       "class E5--><a href=\"psysml:7c666d7d-6a66-4269-8e3a-229640bb6ad0\" target=\"_top\" title=\"psysml:7c666d7d-6a66-4269-8e3a-229640bb6ad0\" xlink:actuate=\"onRequest\" xlink:href=\"psysml:7c666d7d-6a66-4269-8e3a-229640bb6ad0\" xlink:show=\"new\" xlink:title=\"psysml:7c666d7d-6a66-4269-8e3a-229640bb6ad0\" xlink:type=\"simple\"><rect fill=\"#FEFECE\" filter=\"url(#fa1gmdnup8yoc)\" height=\"45.9375\" id=\"E5\" rx=\"10\" ry=\"10\" style=\"stroke: #A80036; stroke-width: 1.5;\" width=\"68\" x=\"32\" y=\"147\"/><ellipse cx=\"47\" cy=\"165.9688\" fill=\"#32CD32\" rx=\"11\" ry=\"11\" style=\"stroke: #A80036; stroke-width: 1.0;\"/><path d=\"M46.7969,161.6406 L46.7969,165.2656 L47.7969,165.2656 Q49,165.2656 49.4844,164.8594 Q49.9688,164.4531 49.9688,163.4531 Q49.9688,162.4531 49.4844,162.0469 Q49,161.6406 47.7969,161.6406 L46.7969,161.6406 Z M44.3438,159.5781 L47.7031,159.5781 Q50.2656,159.5781 51.3906,160.5 Q52.5156,161.4063 52.5156,163.4531 Q52.5156,165.5 51.3906,166.4219 Q50.2656,167.3281 47.7031,167.3281 L46.7969,167.3281 L46.7969,171.9688 L44.3438,171.9688 L44.3438,159.5781 Z \"/><text fill=\"#000000\" font-family=\"sans-serif\" font-size=\"12\" font-style=\"italic\" lengthAdjust=\"spacingAndGlyphs\" textLength=\"40\" x=\"59\" y=\"163.1387\">«part»</text><text fill=\"#000000\" font-family=\"sans-serif\" font-size=\"12\" lengthAdjust=\"spacingAndGlyphs\" textLength=\"8\" x=\"75\" y=\"177.1074\">g</text><line style=\"stroke: #A80036; stroke-width: 1.5;\" x1=\"33\" x2=\"99\" y1=\"184.9375\" y2=\"184.9375\"/></a><!--MD5=[209b3feb70ccb6233bfe1053d122c12c]\n",
       "reverse link E2 to E3--><a href=\"psysml:71ed813c-2f6a-4d13-b6a9-9d55dbb4d689\" target=\"_top\" title=\"psysml:71ed813c-2f6a-4d13-b6a9-9d55dbb4d689\" xlink:actuate=\"onRequest\" xlink:href=\"psysml:71ed813c-2f6a-4d13-b6a9-9d55dbb4d689\" xlink:show=\"new\" xlink:title=\"psysml:71ed813c-2f6a-4d13-b6a9-9d55dbb4d689\" xlink:type=\"simple\"><path d=\"M169,100.44 C169,115.87 169,133.47 169,146.98 \" fill=\"none\" id=\"E2&lt;-E3\" style=\"stroke: #A80036; stroke-width: 1.0;\"/><polygon fill=\"#A80036\" points=\"169,87.06,165,93.06,169,99.06,173,93.06,169,87.06\" style=\"stroke: #A80036; stroke-width: 1.0;\"/></a><!--MD5=[62aa6af11e70f752912c1cb0466f24f7]\n",
       "reverse link E4 to E5--><a href=\"psysml:66a9662c-d0de-409c-b1e7-d598996fdcb0\" target=\"_top\" title=\"psysml:66a9662c-d0de-409c-b1e7-d598996fdcb0\" xlink:actuate=\"onRequest\" xlink:href=\"psysml:66a9662c-d0de-409c-b1e7-d598996fdcb0\" xlink:show=\"new\" xlink:title=\"psysml:66a9662c-d0de-409c-b1e7-d598996fdcb0\" xlink:type=\"simple\"><path d=\"M66,97.25 C66,113.33 66,132.37 66,146.8 \" fill=\"none\" id=\"E4&lt;-E5\" style=\"stroke: #A80036; stroke-width: 1.0;\"/><polygon fill=\"#A80036\" points=\"66,84.08,62,90.08,66,96.08,70,90.08,66,84.08\" style=\"stroke: #A80036; stroke-width: 1.0;\"/></a><!--MD5=[2985a5db7179dcbe9655b1da80f544d0]\n",
       "@startuml\r\n",
       " \r\n",
       "package \"Q\" as E1  [[psysml:48e9f940-1f69-4218-811f-6a29c7cbfcb6 ]]  {\r\n",
       "comp usage \"f\" as E2  << (P,limegreen) part>> [[psysml:a224f497-53a8-4c97-a678-1669f6411a1a ]] {\r\n",
       "}\r\n",
       "comp usage \"a\" as E3  << (P,limegreen) part>> [[psysml:692e246d-2e17-48ff-a8f3-1c9cda9639f6 ]] {\r\n",
       "}\r\n",
       "comp def \"C\" as E4  << (B,green) >> [[psysml:8521a391-022b-403d-ab54-4e64ea01dd3a ]] {\r\n",
       "}\r\n",
       "comp usage \"g\" as E5  << (P,limegreen) part>> [[psysml:7c666d7d-6a66-4269-8e3a-229640bb6ad0 ]] {\r\n",
       "}\r\n",
       "E2 *- - E3 [[psysml:71ed813c-2f6a-4d13-b6a9-9d55dbb4d689 ]] \r\n",
       "E4 *- - E5 [[psysml:66a9662c-d0de-409c-b1e7-d598996fdcb0 ]] \r\n",
       "}\r\n",
       "@enduml\r\n",
       "\n",
       "PlantUML version 1.2020.13(Sat Jun 13 12:26:38 UTC 2020)\n",
       "(EPL source distribution)\n",
       "Java Runtime: OpenJDK Runtime Environment\n",
       "JVM: OpenJDK 64-Bit Server VM\n",
       "Default Encoding: UTF-8\n",
       "Language: en\n",
       "Country: null\n",
       "--></g></svg>"
      ]
     },
     "execution_count": 30,
     "metadata": {},
     "output_type": "execute_result"
    }
   ],
   "source": [
    "%viz --style=\"PLANTUML\" --view=\"Default\" \"Q\""
   ]
  },
  {
   "cell_type": "code",
   "execution_count": 31,
   "id": "1423601e",
   "metadata": {
    "execution": {
     "iopub.execute_input": "2021-04-21T20:21:02.346573Z",
     "iopub.status.busy": "2021-04-21T20:21:02.346149Z",
     "iopub.status.idle": "2021-04-21T20:21:02.385723Z",
     "shell.execute_reply": "2021-04-21T20:21:02.384215Z"
    }
   },
   "outputs": [
    {
     "data": {
      "image/svg+xml": [
       "<?xml version=\"1.0\" encoding=\"UTF-8\" standalone=\"no\"?><svg xmlns=\"http://www.w3.org/2000/svg\" xmlns:xlink=\"http://www.w3.org/1999/xlink\" contentScriptType=\"application/ecmascript\" contentStyleType=\"text/css\" height=\"221px\" preserveAspectRatio=\"none\" style=\"width:241px;height:221px;\" version=\"1.1\" viewBox=\"0 0 241 221\" width=\"241px\" zoomAndPan=\"magnify\"><defs><filter height=\"300%\" id=\"fa1gmdnup8yoc\" width=\"300%\" x=\"-1\" y=\"-1\"><feGaussianBlur result=\"blurOut\" stdDeviation=\"2.0\"/><feColorMatrix in=\"blurOut\" result=\"blurOut2\" type=\"matrix\" values=\"0 0 0 0 0 0 0 0 0 0 0 0 0 0 0 0 0 0 .4 0\"/><feOffset dx=\"4.0\" dy=\"4.0\" in=\"blurOut2\" result=\"blurOut3\"/><feBlend in=\"SourceGraphic\" in2=\"blurOut3\" mode=\"normal\"/></filter></defs><g><!--MD5=[fbc87193dbaf4d95561dea2c320d4a47]\n",
       "cluster E1--><a href=\"psysml:48e9f940-1f69-4218-811f-6a29c7cbfcb6\" target=\"_top\" title=\"psysml:48e9f940-1f69-4218-811f-6a29c7cbfcb6\" xlink:actuate=\"onRequest\" xlink:href=\"psysml:48e9f940-1f69-4218-811f-6a29c7cbfcb6\" xlink:show=\"new\" xlink:title=\"psysml:48e9f940-1f69-4218-811f-6a29c7cbfcb6\" xlink:type=\"simple\"><polygon fill=\"#FFFFFF\" filter=\"url(#fa1gmdnup8yoc)\" points=\"16,6,34,6,41,28.2969,219,28.2969,219,209,16,209,16,6\" style=\"stroke: #000000; stroke-width: 1.5;\"/><line style=\"stroke: #000000; stroke-width: 1.5;\" x1=\"16\" x2=\"41\" y1=\"28.2969\" y2=\"28.2969\"/><text fill=\"#000000\" font-family=\"sans-serif\" font-size=\"14\" font-weight=\"bold\" lengthAdjust=\"spacingAndGlyphs\" textLength=\"12\" x=\"20\" y=\"20.9951\">Q</text></a><!--MD5=[b4997ac47864f28c2f74865a473b2911]\n",
       "class E2--><a href=\"psysml:a224f497-53a8-4c97-a678-1669f6411a1a\" target=\"_top\" title=\"psysml:a224f497-53a8-4c97-a678-1669f6411a1a\" xlink:actuate=\"onRequest\" xlink:href=\"psysml:a224f497-53a8-4c97-a678-1669f6411a1a\" xlink:show=\"new\" xlink:title=\"psysml:a224f497-53a8-4c97-a678-1669f6411a1a\" xlink:type=\"simple\"><rect fill=\"#FEFECE\" filter=\"url(#fa1gmdnup8yoc)\" height=\"45.9375\" id=\"E2\" rx=\"10\" ry=\"10\" style=\"stroke: #A80036; stroke-width: 1.5;\" width=\"68\" x=\"135\" y=\"41\"/><ellipse cx=\"150\" cy=\"59.9688\" fill=\"#32CD32\" rx=\"11\" ry=\"11\" style=\"stroke: #A80036; stroke-width: 1.0;\"/><path d=\"M149.7969,55.6406 L149.7969,59.2656 L150.7969,59.2656 Q152,59.2656 152.4844,58.8594 Q152.9688,58.4531 152.9688,57.4531 Q152.9688,56.4531 152.4844,56.0469 Q152,55.6406 150.7969,55.6406 L149.7969,55.6406 Z M147.3438,53.5781 L150.7031,53.5781 Q153.2656,53.5781 154.3906,54.5 Q155.5156,55.4063 155.5156,57.4531 Q155.5156,59.5 154.3906,60.4219 Q153.2656,61.3281 150.7031,61.3281 L149.7969,61.3281 L149.7969,65.9688 L147.3438,65.9688 L147.3438,53.5781 Z \"/><text fill=\"#000000\" font-family=\"sans-serif\" font-size=\"12\" font-style=\"italic\" lengthAdjust=\"spacingAndGlyphs\" textLength=\"40\" x=\"162\" y=\"57.1387\">«part»</text><text fill=\"#000000\" font-family=\"sans-serif\" font-size=\"12\" lengthAdjust=\"spacingAndGlyphs\" textLength=\"4\" x=\"180\" y=\"71.1074\">f</text><line style=\"stroke: #A80036; stroke-width: 1.5;\" x1=\"136\" x2=\"202\" y1=\"78.9375\" y2=\"78.9375\"/></a><!--MD5=[09b614a08d8cba4a07c9adeb5e0fee81]\n",
       "class E3--><a href=\"psysml:692e246d-2e17-48ff-a8f3-1c9cda9639f6\" target=\"_top\" title=\"psysml:692e246d-2e17-48ff-a8f3-1c9cda9639f6\" xlink:actuate=\"onRequest\" xlink:href=\"psysml:692e246d-2e17-48ff-a8f3-1c9cda9639f6\" xlink:show=\"new\" xlink:title=\"psysml:692e246d-2e17-48ff-a8f3-1c9cda9639f6\" xlink:type=\"simple\"><rect fill=\"#FEFECE\" filter=\"url(#fa1gmdnup8yoc)\" height=\"45.9375\" id=\"E3\" rx=\"10\" ry=\"10\" style=\"stroke: #A80036; stroke-width: 1.5;\" width=\"68\" x=\"135\" y=\"147\"/><ellipse cx=\"150\" cy=\"165.9688\" fill=\"#32CD32\" rx=\"11\" ry=\"11\" style=\"stroke: #A80036; stroke-width: 1.0;\"/><path d=\"M149.7969,161.6406 L149.7969,165.2656 L150.7969,165.2656 Q152,165.2656 152.4844,164.8594 Q152.9688,164.4531 152.9688,163.4531 Q152.9688,162.4531 152.4844,162.0469 Q152,161.6406 150.7969,161.6406 L149.7969,161.6406 Z M147.3438,159.5781 L150.7031,159.5781 Q153.2656,159.5781 154.3906,160.5 Q155.5156,161.4063 155.5156,163.4531 Q155.5156,165.5 154.3906,166.4219 Q153.2656,167.3281 150.7031,167.3281 L149.7969,167.3281 L149.7969,171.9688 L147.3438,171.9688 L147.3438,159.5781 Z \"/><text fill=\"#000000\" font-family=\"sans-serif\" font-size=\"12\" font-style=\"italic\" lengthAdjust=\"spacingAndGlyphs\" textLength=\"40\" x=\"162\" y=\"163.1387\">«part»</text><text fill=\"#000000\" font-family=\"sans-serif\" font-size=\"12\" lengthAdjust=\"spacingAndGlyphs\" textLength=\"8\" x=\"178\" y=\"177.1074\">a</text><line style=\"stroke: #A80036; stroke-width: 1.5;\" x1=\"136\" x2=\"202\" y1=\"184.9375\" y2=\"184.9375\"/></a><!--MD5=[ebbe1d658d1005bcc118a6aa81145e00]\n",
       "class E4--><a href=\"psysml:8521a391-022b-403d-ab54-4e64ea01dd3a\" target=\"_top\" title=\"psysml:8521a391-022b-403d-ab54-4e64ea01dd3a\" xlink:actuate=\"onRequest\" xlink:href=\"psysml:8521a391-022b-403d-ab54-4e64ea01dd3a\" xlink:show=\"new\" xlink:title=\"psysml:8521a391-022b-403d-ab54-4e64ea01dd3a\" xlink:type=\"simple\"><rect fill=\"#FEFECE\" filter=\"url(#fa1gmdnup8yoc)\" height=\"40\" id=\"E4\" style=\"stroke: #A80036; stroke-width: 1.5;\" width=\"40\" x=\"46\" y=\"44\"/><ellipse cx=\"61\" cy=\"60\" fill=\"#008000\" rx=\"11\" ry=\"11\" style=\"stroke: #A80036; stroke-width: 1.0;\"/><path d=\"M59.9063,60.375 L59.9063,64.0469 L61.5313,64.0469 Q62.7031,64.0469 63.1719,63.6563 Q63.6406,63.25 63.6406,62.25 Q63.6406,61.25 63.1406,60.8125 Q62.6563,60.375 61.5313,60.375 L59.9063,60.375 Z M59.9063,55.5469 L59.9063,58.4219 L61.5313,58.4219 Q62.4531,58.4219 62.8438,58.0938 Q63.25,57.75 63.25,57 Q63.25,56.2344 62.8438,55.8906 Q62.4375,55.5469 61.5313,55.5469 L59.9063,55.5469 Z M57.5313,53.5938 L61.5313,53.5938 Q63.5938,53.5938 64.6406,54.375 Q65.6875,55.1563 65.6875,56.7188 Q65.6875,57.9219 65.0625,58.5938 Q64.4531,59.2656 63.2656,59.375 Q64.6875,59.5156 65.4063,60.3281 Q66.125,61.1406 66.125,62.5938 Q66.125,64.3906 65.0469,65.2031 Q63.9688,66 61.5313,66 L57.5313,66 L57.5313,53.5938 Z \"/><text fill=\"#000000\" font-family=\"sans-serif\" font-size=\"12\" lengthAdjust=\"spacingAndGlyphs\" textLength=\"8\" x=\"75\" y=\"64.1543\">C</text><line style=\"stroke: #A80036; stroke-width: 1.5;\" x1=\"47\" x2=\"85\" y1=\"76\" y2=\"76\"/></a><!--MD5=[270fce915f116d4de14055a7c1d9a0f3]\n",
       "class E5--><a href=\"psysml:7c666d7d-6a66-4269-8e3a-229640bb6ad0\" target=\"_top\" title=\"psysml:7c666d7d-6a66-4269-8e3a-229640bb6ad0\" xlink:actuate=\"onRequest\" xlink:href=\"psysml:7c666d7d-6a66-4269-8e3a-229640bb6ad0\" xlink:show=\"new\" xlink:title=\"psysml:7c666d7d-6a66-4269-8e3a-229640bb6ad0\" xlink:type=\"simple\"><rect fill=\"#FEFECE\" filter=\"url(#fa1gmdnup8yoc)\" height=\"45.9375\" id=\"E5\" rx=\"10\" ry=\"10\" style=\"stroke: #A80036; stroke-width: 1.5;\" width=\"68\" x=\"32\" y=\"147\"/><ellipse cx=\"47\" cy=\"165.9688\" fill=\"#32CD32\" rx=\"11\" ry=\"11\" style=\"stroke: #A80036; stroke-width: 1.0;\"/><path d=\"M46.7969,161.6406 L46.7969,165.2656 L47.7969,165.2656 Q49,165.2656 49.4844,164.8594 Q49.9688,164.4531 49.9688,163.4531 Q49.9688,162.4531 49.4844,162.0469 Q49,161.6406 47.7969,161.6406 L46.7969,161.6406 Z M44.3438,159.5781 L47.7031,159.5781 Q50.2656,159.5781 51.3906,160.5 Q52.5156,161.4063 52.5156,163.4531 Q52.5156,165.5 51.3906,166.4219 Q50.2656,167.3281 47.7031,167.3281 L46.7969,167.3281 L46.7969,171.9688 L44.3438,171.9688 L44.3438,159.5781 Z \"/><text fill=\"#000000\" font-family=\"sans-serif\" font-size=\"12\" font-style=\"italic\" lengthAdjust=\"spacingAndGlyphs\" textLength=\"40\" x=\"59\" y=\"163.1387\">«part»</text><text fill=\"#000000\" font-family=\"sans-serif\" font-size=\"12\" lengthAdjust=\"spacingAndGlyphs\" textLength=\"8\" x=\"75\" y=\"177.1074\">g</text><line style=\"stroke: #A80036; stroke-width: 1.5;\" x1=\"33\" x2=\"99\" y1=\"184.9375\" y2=\"184.9375\"/></a><!--MD5=[209b3feb70ccb6233bfe1053d122c12c]\n",
       "reverse link E2 to E3--><a href=\"psysml:71ed813c-2f6a-4d13-b6a9-9d55dbb4d689\" target=\"_top\" title=\"psysml:71ed813c-2f6a-4d13-b6a9-9d55dbb4d689\" xlink:actuate=\"onRequest\" xlink:href=\"psysml:71ed813c-2f6a-4d13-b6a9-9d55dbb4d689\" xlink:show=\"new\" xlink:title=\"psysml:71ed813c-2f6a-4d13-b6a9-9d55dbb4d689\" xlink:type=\"simple\"><path d=\"M169,100.44 C169,115.87 169,133.47 169,146.98 \" fill=\"none\" id=\"E2&lt;-E3\" style=\"stroke: #A80036; stroke-width: 1.0;\"/><polygon fill=\"#A80036\" points=\"169,87.06,165,93.06,169,99.06,173,93.06,169,87.06\" style=\"stroke: #A80036; stroke-width: 1.0;\"/></a><!--MD5=[62aa6af11e70f752912c1cb0466f24f7]\n",
       "reverse link E4 to E5--><a href=\"psysml:66a9662c-d0de-409c-b1e7-d598996fdcb0\" target=\"_top\" title=\"psysml:66a9662c-d0de-409c-b1e7-d598996fdcb0\" xlink:actuate=\"onRequest\" xlink:href=\"psysml:66a9662c-d0de-409c-b1e7-d598996fdcb0\" xlink:show=\"new\" xlink:title=\"psysml:66a9662c-d0de-409c-b1e7-d598996fdcb0\" xlink:type=\"simple\"><path d=\"M66,97.25 C66,113.33 66,132.37 66,146.8 \" fill=\"none\" id=\"E4&lt;-E5\" style=\"stroke: #A80036; stroke-width: 1.0;\"/><polygon fill=\"#A80036\" points=\"66,84.08,62,90.08,66,96.08,70,90.08,66,84.08\" style=\"stroke: #A80036; stroke-width: 1.0;\"/></a><!--MD5=[2985a5db7179dcbe9655b1da80f544d0]\n",
       "@startuml\r\n",
       " \r\n",
       "package \"Q\" as E1  [[psysml:48e9f940-1f69-4218-811f-6a29c7cbfcb6 ]]  {\r\n",
       "comp usage \"f\" as E2  << (P,limegreen) part>> [[psysml:a224f497-53a8-4c97-a678-1669f6411a1a ]] {\r\n",
       "}\r\n",
       "comp usage \"a\" as E3  << (P,limegreen) part>> [[psysml:692e246d-2e17-48ff-a8f3-1c9cda9639f6 ]] {\r\n",
       "}\r\n",
       "comp def \"C\" as E4  << (B,green) >> [[psysml:8521a391-022b-403d-ab54-4e64ea01dd3a ]] {\r\n",
       "}\r\n",
       "comp usage \"g\" as E5  << (P,limegreen) part>> [[psysml:7c666d7d-6a66-4269-8e3a-229640bb6ad0 ]] {\r\n",
       "}\r\n",
       "E2 *- - E3 [[psysml:71ed813c-2f6a-4d13-b6a9-9d55dbb4d689 ]] \r\n",
       "E4 *- - E5 [[psysml:66a9662c-d0de-409c-b1e7-d598996fdcb0 ]] \r\n",
       "}\r\n",
       "@enduml\r\n",
       "\n",
       "PlantUML version 1.2020.13(Sat Jun 13 12:26:38 UTC 2020)\n",
       "(EPL source distribution)\n",
       "Java Runtime: OpenJDK Runtime Environment\n",
       "JVM: OpenJDK 64-Bit Server VM\n",
       "Default Encoding: UTF-8\n",
       "Language: en\n",
       "Country: null\n",
       "--></g></svg>"
      ]
     },
     "execution_count": 31,
     "metadata": {},
     "output_type": "execute_result"
    }
   ],
   "source": [
    "%viz --style=\"PLANTUML\" --view=\"Tree\" \"Q\""
   ]
  },
  {
   "cell_type": "code",
   "execution_count": 32,
   "id": "f70fadec",
   "metadata": {
    "execution": {
     "iopub.execute_input": "2021-04-21T20:21:02.435165Z",
     "iopub.status.busy": "2021-04-21T20:21:02.434531Z",
     "iopub.status.idle": "2021-04-21T20:21:02.560930Z",
     "shell.execute_reply": "2021-04-21T20:21:02.561556Z"
    }
   },
   "outputs": [
    {
     "data": {
      "image/svg+xml": [
       "<?xml version=\"1.0\" encoding=\"UTF-8\" standalone=\"no\"?><svg xmlns=\"http://www.w3.org/2000/svg\" xmlns:xlink=\"http://www.w3.org/1999/xlink\" contentScriptType=\"application/ecmascript\" contentStyleType=\"text/css\" height=\"303px\" preserveAspectRatio=\"none\" style=\"width:603px;height:303px;background:#000000;\" version=\"1.1\" viewBox=\"0 0 603 303\" width=\"603px\" zoomAndPan=\"magnify\"><defs/><g><rect fill=\"#1D1E25\" height=\"1\" style=\"stroke: #1D1E25; stroke-width: 1.0;\" width=\"1\" x=\"0\" y=\"0\"/><rect fill=\"#FFFFFF\" height=\"205.5625\" style=\"stroke: #FFFFFF; stroke-width: 1.0;\" width=\"602\" x=\"0\" y=\"0\"/><text fill=\"#000000\" font-family=\"sans-serif\" font-size=\"12\" font-weight=\"bold\" lengthAdjust=\"spacingAndGlyphs\" textLength=\"159\" x=\"5\" y=\"16.1387\">Welcome to PlantUML!</text><text fill=\"#000000\" font-family=\"sans-serif\" font-size=\"12\" lengthAdjust=\"spacingAndGlyphs\" textLength=\"0\" x=\"9\" y=\"30.1074\"/><text fill=\"#000000\" font-family=\"sans-serif\" font-size=\"12\" lengthAdjust=\"spacingAndGlyphs\" textLength=\"293\" x=\"5\" y=\"44.0762\">If you use this software, you accept its license.</text><text fill=\"#000000\" font-family=\"sans-serif\" font-size=\"12\" lengthAdjust=\"spacingAndGlyphs\" textLength=\"107\" x=\"5\" y=\"58.0449\">(details by typing</text><text fill=\"#000000\" font-family=\"monospace\" font-size=\"12\" lengthAdjust=\"spacingAndGlyphs\" textLength=\"49\" x=\"116\" y=\"58.0449\">license</text><text fill=\"#000000\" font-family=\"sans-serif\" font-size=\"12\" lengthAdjust=\"spacingAndGlyphs\" textLength=\"56\" x=\"169\" y=\"58.0449\">keyword)</text><text fill=\"#000000\" font-family=\"sans-serif\" font-size=\"12\" lengthAdjust=\"spacingAndGlyphs\" textLength=\"0\" x=\"9\" y=\"72.0137\"/><text fill=\"#000000\" font-family=\"sans-serif\" font-size=\"12\" lengthAdjust=\"spacingAndGlyphs\" textLength=\"283\" x=\"5\" y=\"85.9824\">You can start with a simple UML Diagram like:</text><text fill=\"#000000\" font-family=\"sans-serif\" font-size=\"12\" lengthAdjust=\"spacingAndGlyphs\" textLength=\"0\" x=\"9\" y=\"99.9512\"/><text fill=\"#000000\" font-family=\"monospace\" font-size=\"12\" lengthAdjust=\"spacingAndGlyphs\" textLength=\"119\" x=\"5\" y=\"113.9199\">Bob-&gt;Alice: Hello</text><text fill=\"#000000\" font-family=\"sans-serif\" font-size=\"12\" lengthAdjust=\"spacingAndGlyphs\" textLength=\"0\" x=\"9\" y=\"127.8887\"/><text fill=\"#000000\" font-family=\"sans-serif\" font-size=\"12\" lengthAdjust=\"spacingAndGlyphs\" textLength=\"14\" x=\"5\" y=\"141.8574\">Or</text><text fill=\"#000000\" font-family=\"sans-serif\" font-size=\"12\" lengthAdjust=\"spacingAndGlyphs\" textLength=\"0\" x=\"9\" y=\"155.8262\"/><text fill=\"#000000\" font-family=\"monospace\" font-size=\"12\" lengthAdjust=\"spacingAndGlyphs\" textLength=\"91\" x=\"5\" y=\"169.7949\">class Example</text><text fill=\"#000000\" font-family=\"sans-serif\" font-size=\"12\" lengthAdjust=\"spacingAndGlyphs\" textLength=\"0\" x=\"9\" y=\"183.7637\"/><text fill=\"#000000\" font-family=\"sans-serif\" font-size=\"12\" lengthAdjust=\"spacingAndGlyphs\" textLength=\"349\" x=\"5\" y=\"197.7324\">You will find more information about PlantUML syntax on</text><text fill=\"#000000\" font-family=\"sans-serif\" font-size=\"12\" lengthAdjust=\"spacingAndGlyphs\" text-decoration=\"underline\" textLength=\"129\" x=\"358\" y=\"197.7324\">https://plantuml.com</text><image height=\"71\" width=\"80\" x=\"516\" xlink:href=\"data:image/png;base64,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\" y=\"6\"/><rect fill=\"#000000\" height=\"96.4844\" style=\"stroke: #000000; stroke-width: 1.0;\" width=\"602\" x=\"0\" y=\"205.5625\"/><rect fill=\"#33FF02\" height=\"21.2969\" style=\"stroke: #33FF02; stroke-width: 1.0;\" width=\"170\" x=\"5\" y=\"210.5625\"/><text fill=\"#000000\" font-family=\"sans-serif\" font-size=\"14\" font-weight=\"bold\" lengthAdjust=\"spacingAndGlyphs\" textLength=\"168\" x=\"6\" y=\"225.5625\">[From string (line 2) ]</text><text fill=\"#33FF02\" font-family=\"sans-serif\" font-size=\"14\" font-weight=\"bold\" lengthAdjust=\"spacingAndGlyphs\" textLength=\"0\" x=\"10\" y=\"245.8594\"/><text fill=\"#33FF02\" font-family=\"sans-serif\" font-size=\"14\" font-weight=\"bold\" lengthAdjust=\"spacingAndGlyphs\" textLength=\"79\" x=\"5\" y=\"262.1563\">@startuml</text><text fill=\"#33FF02\" font-family=\"sans-serif\" font-size=\"14\" font-weight=\"bold\" lengthAdjust=\"spacingAndGlyphs\" textLength=\"0\" x=\"10\" y=\"278.4531\"/><text fill=\"#FF0000\" font-family=\"sans-serif\" font-size=\"14\" font-weight=\"bold\" lengthAdjust=\"spacingAndGlyphs\" textLength=\"142\" x=\"10\" y=\"294.75\">Empty description</text><!--MD5=[f59edd8218d337f74d0c332fc6737304]\n",
       "@startuml\r\n",
       " \r\n",
       "@enduml\r\n",
       "\n",
       "PlantUML version 1.2020.13(Sat Jun 13 12:26:38 UTC 2020)\n",
       "(EPL source distribution)\n",
       "Java Runtime: OpenJDK Runtime Environment\n",
       "JVM: OpenJDK 64-Bit Server VM\n",
       "Default Encoding: UTF-8\n",
       "Language: en\n",
       "Country: null\n",
       "--></g></svg>"
      ]
     },
     "execution_count": 32,
     "metadata": {},
     "output_type": "execute_result"
    }
   ],
   "source": [
    "%viz --style=\"PLANTUML\" --view=\"State\" \"Q\""
   ]
  },
  {
   "cell_type": "code",
   "execution_count": 33,
   "id": "c7cae1b1",
   "metadata": {
    "execution": {
     "iopub.execute_input": "2021-04-21T20:21:02.606407Z",
     "iopub.status.busy": "2021-04-21T20:21:02.606004Z",
     "iopub.status.idle": "2021-04-21T20:21:02.641437Z",
     "shell.execute_reply": "2021-04-21T20:21:02.641046Z"
    }
   },
   "outputs": [
    {
     "data": {
      "image/svg+xml": [
       "<?xml version=\"1.0\" encoding=\"UTF-8\" standalone=\"no\"?><svg xmlns=\"http://www.w3.org/2000/svg\" xmlns:xlink=\"http://www.w3.org/1999/xlink\" contentScriptType=\"application/ecmascript\" contentStyleType=\"text/css\" height=\"176px\" preserveAspectRatio=\"none\" style=\"width:312px;height:176px;\" version=\"1.1\" viewBox=\"0 0 312 176\" width=\"312px\" zoomAndPan=\"magnify\"><defs><filter height=\"300%\" id=\"fo08rrrnu75nz\" width=\"300%\" x=\"-1\" y=\"-1\"><feGaussianBlur result=\"blurOut\" stdDeviation=\"2.0\"/><feColorMatrix in=\"blurOut\" result=\"blurOut2\" type=\"matrix\" values=\"0 0 0 0 0 0 0 0 0 0 0 0 0 0 0 0 0 0 .4 0\"/><feOffset dx=\"4.0\" dy=\"4.0\" in=\"blurOut2\" result=\"blurOut3\"/><feBlend in=\"SourceGraphic\" in2=\"blurOut3\" mode=\"normal\"/></filter></defs><g><!--MD5=[fbc87193dbaf4d95561dea2c320d4a47]\n",
       "cluster E1--><a href=\"psysml:48e9f940-1f69-4218-811f-6a29c7cbfcb6\" target=\"_top\" title=\"psysml:48e9f940-1f69-4218-811f-6a29c7cbfcb6\" xlink:actuate=\"onRequest\" xlink:href=\"psysml:48e9f940-1f69-4218-811f-6a29c7cbfcb6\" xlink:show=\"new\" xlink:title=\"psysml:48e9f940-1f69-4218-811f-6a29c7cbfcb6\" xlink:type=\"simple\"><polygon fill=\"#FFFFFF\" filter=\"url(#fo08rrrnu75nz)\" points=\"16,6,34,6,41,28.2969,290,28.2969,290,164,16,164,16,6\" style=\"stroke: #000000; stroke-width: 1.5;\"/><line style=\"stroke: #000000; stroke-width: 1.5;\" x1=\"16\" x2=\"41\" y1=\"28.2969\" y2=\"28.2969\"/><text fill=\"#000000\" font-family=\"sans-serif\" font-size=\"14\" font-weight=\"bold\" lengthAdjust=\"spacingAndGlyphs\" textLength=\"12\" x=\"20\" y=\"20.9951\">Q</text></a><!--MD5=[e4f7fae6ed58524ba242bb0b0d3be6b7]\n",
       "cluster E2--><a href=\"psysml:a224f497-53a8-4c97-a678-1669f6411a1a\" target=\"_top\" title=\"psysml:a224f497-53a8-4c97-a678-1669f6411a1a\" xlink:actuate=\"onRequest\" xlink:href=\"psysml:a224f497-53a8-4c97-a678-1669f6411a1a\" xlink:show=\"new\" xlink:title=\"psysml:a224f497-53a8-4c97-a678-1669f6411a1a\" xlink:type=\"simple\"><rect fill=\"#FFFFFF\" filter=\"url(#fo08rrrnu75nz)\" height=\"91\" id=\"E2\" rx=\"10\" ry=\"10\" style=\"stroke: #A80036; stroke-width: 1.5;\" width=\"82\" x=\"184\" y=\"49\"/><rect fill=\"#FEFECE\" height=\"23.9688\" rx=\"10\" ry=\"10\" style=\"stroke: #FEFECE; stroke-width: 1.5;\" width=\"82\" x=\"184\" y=\"49\"/><rect fill=\"#FEFECE\" height=\"10\" style=\"stroke: #FEFECE; stroke-width: 1.5;\" width=\"82\" x=\"184\" y=\"62.9688\"/><rect fill=\"none\" height=\"91\" id=\"E2\" rx=\"10\" ry=\"10\" style=\"stroke: #A80036; stroke-width: 1.5;\" width=\"82\" x=\"184\" y=\"49\"/><text fill=\"#000000\" font-family=\"sans-serif\" font-size=\"12\" lengthAdjust=\"spacingAndGlyphs\" textLength=\"4\" x=\"223\" y=\"65.1387\">f</text><line style=\"stroke: #A80036; stroke-width: 1.0;\" x1=\"184\" x2=\"266\" y1=\"72.9688\" y2=\"72.9688\"/></a><!--MD5=[f6df4d0ebaf0b5dfb2ced0ae5af7c670]\n",
       "cluster E4--><a href=\"psysml:8521a391-022b-403d-ab54-4e64ea01dd3a\" target=\"_top\" title=\"psysml:8521a391-022b-403d-ab54-4e64ea01dd3a\" xlink:actuate=\"onRequest\" xlink:href=\"psysml:8521a391-022b-403d-ab54-4e64ea01dd3a\" xlink:show=\"new\" xlink:title=\"psysml:8521a391-022b-403d-ab54-4e64ea01dd3a\" xlink:type=\"simple\"><rect fill=\"#FFFFFF\" filter=\"url(#fo08rrrnu75nz)\" height=\"91\" id=\"E4\" style=\"stroke: #A80036; stroke-width: 1.5;\" width=\"120\" x=\"40\" y=\"49\"/><rect fill=\"#FEFECE\" height=\"23.9688\" style=\"stroke: #A80036; stroke-width: 1.5;\" width=\"120\" x=\"40\" y=\"49\"/><text fill=\"#000000\" font-family=\"sans-serif\" font-size=\"12\" lengthAdjust=\"spacingAndGlyphs\" textLength=\"8\" x=\"96\" y=\"65.1387\">C</text></a><g id=\"E1.E2.E3\"><a href=\"psysml:692e246d-2e17-48ff-a8f3-1c9cda9639f6\" target=\"_top\" title=\"psysml:692e246d-2e17-48ff-a8f3-1c9cda9639f6\" xlink:actuate=\"onRequest\" xlink:href=\"psysml:692e246d-2e17-48ff-a8f3-1c9cda9639f6\" xlink:show=\"new\" xlink:title=\"psysml:692e246d-2e17-48ff-a8f3-1c9cda9639f6\" xlink:type=\"simple\"><rect fill=\"#FEFECE\" filter=\"url(#fo08rrrnu75nz)\" height=\"40\" id=\"E3\" rx=\"10\" ry=\"10\" style=\"stroke: #A80036; stroke-width: 1.5;\" width=\"50\" x=\"200\" y=\"84\"/><ellipse cx=\"219.5\" cy=\"100\" fill=\"#B6DBBB\" rx=\"11\" ry=\"11\" style=\"stroke: #A80036; stroke-width: 1.0;\"/><path d=\"M215.375,101.9219 L215.375,94.1094 L217.8281,94.1094 L217.8281,102.5469 Q217.8281,103.4688 218.2969,104 Q218.7813,104.5313 219.6094,104.5313 Q220.4531,104.5313 220.9219,104 Q221.3906,103.4688 221.3906,102.5469 L221.3906,94.1094 L223.8438,94.1094 L223.8438,101.9219 Q223.8438,104.4531 222.8438,105.5938 Q221.8438,106.7344 219.6094,106.7344 Q217.3906,106.7344 216.375,105.5938 Q215.375,104.4531 215.375,101.9219 Z \"/><text fill=\"#000000\" font-family=\"sans-serif\" font-size=\"12\" lengthAdjust=\"spacingAndGlyphs\" textLength=\"8\" x=\"234.5\" y=\"104.1543\">a</text></a></g><g id=\"E1.E4.E5\"><a href=\"psysml:7c666d7d-6a66-4269-8e3a-229640bb6ad0\" target=\"_top\" title=\"psysml:7c666d7d-6a66-4269-8e3a-229640bb6ad0\" xlink:actuate=\"onRequest\" xlink:href=\"psysml:7c666d7d-6a66-4269-8e3a-229640bb6ad0\" xlink:show=\"new\" xlink:title=\"psysml:7c666d7d-6a66-4269-8e3a-229640bb6ad0\" xlink:type=\"simple\"><rect fill=\"#FEFECE\" filter=\"url(#fo08rrrnu75nz)\" height=\"40\" id=\"E5\" rx=\"10\" ry=\"10\" style=\"stroke: #A80036; stroke-width: 1.5;\" width=\"87\" x=\"56.5\" y=\"84\"/><ellipse cx=\"73.75\" cy=\"100\" fill=\"#B6DBBB\" rx=\"11\" ry=\"11\" style=\"stroke: #A80036; stroke-width: 1.0;\"/><path d=\"M69.625,101.9219 L69.625,94.1094 L72.0781,94.1094 L72.0781,102.5469 Q72.0781,103.4688 72.5469,104 Q73.0313,104.5313 73.8594,104.5313 Q74.7031,104.5313 75.1719,104 Q75.6406,103.4688 75.6406,102.5469 L75.6406,94.1094 L78.0938,94.1094 L78.0938,101.9219 Q78.0938,104.4531 77.0938,105.5938 Q76.0938,106.7344 73.8594,106.7344 Q71.6406,106.7344 70.625,105.5938 Q69.625,104.4531 69.625,101.9219 Z \"/><text fill=\"#000000\" font-family=\"sans-serif\" font-size=\"12\" lengthAdjust=\"spacingAndGlyphs\" textLength=\"46\" x=\"88.25\" y=\"104.1543\">g=./f/a;</text></a></g><!--MD5=[84388a8814b86c55cac947016bdaee13]\n",
       "@startuml\r\n",
       "skinparam ranksep 10\r\n",
       "skinparam rectangle {\r\n",
       " backgroundColor<<block>> LightGreen\r\n",
       "}\r\n",
       " \r\n",
       "package \"Q\" as E1  [[psysml:48e9f940-1f69-4218-811f-6a29c7cbfcb6 ]]  {\r\n",
       "rec usage \"f\" as E2  [[psysml:a224f497-53a8-4c97-a678-1669f6411a1a ]] {\r\n",
       "rec usage \"a\" as E3  [[psysml:692e246d-2e17-48ff-a8f3-1c9cda9639f6 ]] {\r\n",
       "}\r\n",
       "}\r\n",
       "rec def \"C\" as E4  << (B,green) >> [[psysml:8521a391-022b-403d-ab54-4e64ea01dd3a ]] {\r\n",
       "rec usage \"g=./f/a; \" as E5  [[psysml:7c666d7d-6a66-4269-8e3a-229640bb6ad0 ]] {\r\n",
       "}\r\n",
       "}\r\n",
       "}\r\n",
       "@enduml\r\n",
       "\n",
       "PlantUML version 1.2020.13(Sat Jun 13 12:26:38 UTC 2020)\n",
       "(EPL source distribution)\n",
       "Java Runtime: OpenJDK Runtime Environment\n",
       "JVM: OpenJDK 64-Bit Server VM\n",
       "Default Encoding: UTF-8\n",
       "Language: en\n",
       "Country: null\n",
       "--></g></svg>"
      ]
     },
     "execution_count": 33,
     "metadata": {},
     "output_type": "execute_result"
    }
   ],
   "source": [
    "%viz --style=\"PLANTUML\" --view=\"Interconnection\" \"Q\""
   ]
  },
  {
   "cell_type": "code",
   "execution_count": 34,
   "id": "140358c8",
   "metadata": {
    "execution": {
     "iopub.execute_input": "2021-04-21T20:21:02.692034Z",
     "iopub.status.busy": "2021-04-21T20:21:02.691511Z",
     "iopub.status.idle": "2021-04-21T20:21:02.696162Z",
     "shell.execute_reply": "2021-04-21T20:21:02.695841Z"
    }
   },
   "outputs": [
    {
     "data": {
      "image/svg+xml": [
       "<?xml version=\"1.0\" encoding=\"UTF-8\" standalone=\"no\"?><svg xmlns=\"http://www.w3.org/2000/svg\" xmlns:xlink=\"http://www.w3.org/1999/xlink\" contentScriptType=\"application/ecmascript\" contentStyleType=\"text/css\" height=\"12px\" preserveAspectRatio=\"none\" style=\"width:12px;height:12px;\" version=\"1.1\" viewBox=\"0 0 12 12\" width=\"12px\" zoomAndPan=\"magnify\"><defs/><g><!--MD5=[6a4cb978cab31700e1ce5529f947a75d]\n",
       "@startuml\r\n",
       "skinparam ranksep 8\r\n",
       " \r\n",
       "@enduml\r\n",
       "\n",
       "PlantUML version 1.2020.13(Sat Jun 13 12:26:38 UTC 2020)\n",
       "(EPL source distribution)\n",
       "Java Runtime: OpenJDK Runtime Environment\n",
       "JVM: OpenJDK 64-Bit Server VM\n",
       "Default Encoding: UTF-8\n",
       "Language: en\n",
       "Country: null\n",
       "--></g></svg>"
      ]
     },
     "execution_count": 34,
     "metadata": {},
     "output_type": "execute_result"
    }
   ],
   "source": [
    "%viz --style=\"PLANTUML\" --view=\"Action\" \"Q\""
   ]
  },
  {
   "cell_type": "code",
   "execution_count": 35,
   "id": "b4eca44a",
   "metadata": {
    "execution": {
     "iopub.execute_input": "2021-04-21T20:21:02.747623Z",
     "iopub.status.busy": "2021-04-21T20:21:02.746972Z",
     "iopub.status.idle": "2021-04-21T20:21:02.776241Z",
     "shell.execute_reply": "2021-04-21T20:21:02.775798Z"
    }
   },
   "outputs": [
    {
     "data": {
      "image/svg+xml": [
       "<?xml version=\"1.0\" encoding=\"UTF-8\" standalone=\"no\"?><svg xmlns=\"http://www.w3.org/2000/svg\" xmlns:xlink=\"http://www.w3.org/1999/xlink\" contentScriptType=\"application/ecmascript\" contentStyleType=\"text/css\" height=\"221px\" preserveAspectRatio=\"none\" style=\"width:241px;height:221px;\" version=\"1.1\" viewBox=\"0 0 241 221\" width=\"241px\" zoomAndPan=\"magnify\"><defs><filter height=\"300%\" id=\"fa1gmdnup8yoc\" width=\"300%\" x=\"-1\" y=\"-1\"><feGaussianBlur result=\"blurOut\" stdDeviation=\"2.0\"/><feColorMatrix in=\"blurOut\" result=\"blurOut2\" type=\"matrix\" values=\"0 0 0 0 0 0 0 0 0 0 0 0 0 0 0 0 0 0 .4 0\"/><feOffset dx=\"4.0\" dy=\"4.0\" in=\"blurOut2\" result=\"blurOut3\"/><feBlend in=\"SourceGraphic\" in2=\"blurOut3\" mode=\"normal\"/></filter></defs><g><!--MD5=[fbc87193dbaf4d95561dea2c320d4a47]\n",
       "cluster E1--><a href=\"psysml:48e9f940-1f69-4218-811f-6a29c7cbfcb6\" target=\"_top\" title=\"psysml:48e9f940-1f69-4218-811f-6a29c7cbfcb6\" xlink:actuate=\"onRequest\" xlink:href=\"psysml:48e9f940-1f69-4218-811f-6a29c7cbfcb6\" xlink:show=\"new\" xlink:title=\"psysml:48e9f940-1f69-4218-811f-6a29c7cbfcb6\" xlink:type=\"simple\"><polygon fill=\"#FFFFFF\" filter=\"url(#fa1gmdnup8yoc)\" points=\"16,6,34,6,41,28.2969,219,28.2969,219,209,16,209,16,6\" style=\"stroke: #000000; stroke-width: 1.5;\"/><line style=\"stroke: #000000; stroke-width: 1.5;\" x1=\"16\" x2=\"41\" y1=\"28.2969\" y2=\"28.2969\"/><text fill=\"#000000\" font-family=\"sans-serif\" font-size=\"14\" font-weight=\"bold\" lengthAdjust=\"spacingAndGlyphs\" textLength=\"12\" x=\"20\" y=\"20.9951\">Q</text></a><!--MD5=[b4997ac47864f28c2f74865a473b2911]\n",
       "class E2--><a href=\"psysml:a224f497-53a8-4c97-a678-1669f6411a1a\" target=\"_top\" title=\"psysml:a224f497-53a8-4c97-a678-1669f6411a1a\" xlink:actuate=\"onRequest\" xlink:href=\"psysml:a224f497-53a8-4c97-a678-1669f6411a1a\" xlink:show=\"new\" xlink:title=\"psysml:a224f497-53a8-4c97-a678-1669f6411a1a\" xlink:type=\"simple\"><rect fill=\"#FEFECE\" filter=\"url(#fa1gmdnup8yoc)\" height=\"45.9375\" id=\"E2\" rx=\"10\" ry=\"10\" style=\"stroke: #A80036; stroke-width: 1.5;\" width=\"68\" x=\"135\" y=\"41\"/><ellipse cx=\"150\" cy=\"59.9688\" fill=\"#32CD32\" rx=\"11\" ry=\"11\" style=\"stroke: #A80036; stroke-width: 1.0;\"/><path d=\"M149.7969,55.6406 L149.7969,59.2656 L150.7969,59.2656 Q152,59.2656 152.4844,58.8594 Q152.9688,58.4531 152.9688,57.4531 Q152.9688,56.4531 152.4844,56.0469 Q152,55.6406 150.7969,55.6406 L149.7969,55.6406 Z M147.3438,53.5781 L150.7031,53.5781 Q153.2656,53.5781 154.3906,54.5 Q155.5156,55.4063 155.5156,57.4531 Q155.5156,59.5 154.3906,60.4219 Q153.2656,61.3281 150.7031,61.3281 L149.7969,61.3281 L149.7969,65.9688 L147.3438,65.9688 L147.3438,53.5781 Z \"/><text fill=\"#000000\" font-family=\"sans-serif\" font-size=\"12\" font-style=\"italic\" lengthAdjust=\"spacingAndGlyphs\" textLength=\"40\" x=\"162\" y=\"57.1387\">«part»</text><text fill=\"#000000\" font-family=\"sans-serif\" font-size=\"12\" lengthAdjust=\"spacingAndGlyphs\" textLength=\"4\" x=\"180\" y=\"71.1074\">f</text><line style=\"stroke: #A80036; stroke-width: 1.5;\" x1=\"136\" x2=\"202\" y1=\"78.9375\" y2=\"78.9375\"/></a><!--MD5=[09b614a08d8cba4a07c9adeb5e0fee81]\n",
       "class E3--><a href=\"psysml:692e246d-2e17-48ff-a8f3-1c9cda9639f6\" target=\"_top\" title=\"psysml:692e246d-2e17-48ff-a8f3-1c9cda9639f6\" xlink:actuate=\"onRequest\" xlink:href=\"psysml:692e246d-2e17-48ff-a8f3-1c9cda9639f6\" xlink:show=\"new\" xlink:title=\"psysml:692e246d-2e17-48ff-a8f3-1c9cda9639f6\" xlink:type=\"simple\"><rect fill=\"#FEFECE\" filter=\"url(#fa1gmdnup8yoc)\" height=\"45.9375\" id=\"E3\" rx=\"10\" ry=\"10\" style=\"stroke: #A80036; stroke-width: 1.5;\" width=\"68\" x=\"135\" y=\"147\"/><ellipse cx=\"150\" cy=\"165.9688\" fill=\"#32CD32\" rx=\"11\" ry=\"11\" style=\"stroke: #A80036; stroke-width: 1.0;\"/><path d=\"M149.7969,161.6406 L149.7969,165.2656 L150.7969,165.2656 Q152,165.2656 152.4844,164.8594 Q152.9688,164.4531 152.9688,163.4531 Q152.9688,162.4531 152.4844,162.0469 Q152,161.6406 150.7969,161.6406 L149.7969,161.6406 Z M147.3438,159.5781 L150.7031,159.5781 Q153.2656,159.5781 154.3906,160.5 Q155.5156,161.4063 155.5156,163.4531 Q155.5156,165.5 154.3906,166.4219 Q153.2656,167.3281 150.7031,167.3281 L149.7969,167.3281 L149.7969,171.9688 L147.3438,171.9688 L147.3438,159.5781 Z \"/><text fill=\"#000000\" font-family=\"sans-serif\" font-size=\"12\" font-style=\"italic\" lengthAdjust=\"spacingAndGlyphs\" textLength=\"40\" x=\"162\" y=\"163.1387\">«part»</text><text fill=\"#000000\" font-family=\"sans-serif\" font-size=\"12\" lengthAdjust=\"spacingAndGlyphs\" textLength=\"8\" x=\"178\" y=\"177.1074\">a</text><line style=\"stroke: #A80036; stroke-width: 1.5;\" x1=\"136\" x2=\"202\" y1=\"184.9375\" y2=\"184.9375\"/></a><!--MD5=[ebbe1d658d1005bcc118a6aa81145e00]\n",
       "class E4--><a href=\"psysml:8521a391-022b-403d-ab54-4e64ea01dd3a\" target=\"_top\" title=\"psysml:8521a391-022b-403d-ab54-4e64ea01dd3a\" xlink:actuate=\"onRequest\" xlink:href=\"psysml:8521a391-022b-403d-ab54-4e64ea01dd3a\" xlink:show=\"new\" xlink:title=\"psysml:8521a391-022b-403d-ab54-4e64ea01dd3a\" xlink:type=\"simple\"><rect fill=\"#FEFECE\" filter=\"url(#fa1gmdnup8yoc)\" height=\"40\" id=\"E4\" style=\"stroke: #A80036; stroke-width: 1.5;\" width=\"40\" x=\"46\" y=\"44\"/><ellipse cx=\"61\" cy=\"60\" fill=\"#008000\" rx=\"11\" ry=\"11\" style=\"stroke: #A80036; stroke-width: 1.0;\"/><path d=\"M59.9063,60.375 L59.9063,64.0469 L61.5313,64.0469 Q62.7031,64.0469 63.1719,63.6563 Q63.6406,63.25 63.6406,62.25 Q63.6406,61.25 63.1406,60.8125 Q62.6563,60.375 61.5313,60.375 L59.9063,60.375 Z M59.9063,55.5469 L59.9063,58.4219 L61.5313,58.4219 Q62.4531,58.4219 62.8438,58.0938 Q63.25,57.75 63.25,57 Q63.25,56.2344 62.8438,55.8906 Q62.4375,55.5469 61.5313,55.5469 L59.9063,55.5469 Z M57.5313,53.5938 L61.5313,53.5938 Q63.5938,53.5938 64.6406,54.375 Q65.6875,55.1563 65.6875,56.7188 Q65.6875,57.9219 65.0625,58.5938 Q64.4531,59.2656 63.2656,59.375 Q64.6875,59.5156 65.4063,60.3281 Q66.125,61.1406 66.125,62.5938 Q66.125,64.3906 65.0469,65.2031 Q63.9688,66 61.5313,66 L57.5313,66 L57.5313,53.5938 Z \"/><text fill=\"#000000\" font-family=\"sans-serif\" font-size=\"12\" lengthAdjust=\"spacingAndGlyphs\" textLength=\"8\" x=\"75\" y=\"64.1543\">C</text><line style=\"stroke: #A80036; stroke-width: 1.5;\" x1=\"47\" x2=\"85\" y1=\"76\" y2=\"76\"/></a><!--MD5=[270fce915f116d4de14055a7c1d9a0f3]\n",
       "class E5--><a href=\"psysml:7c666d7d-6a66-4269-8e3a-229640bb6ad0\" target=\"_top\" title=\"psysml:7c666d7d-6a66-4269-8e3a-229640bb6ad0\" xlink:actuate=\"onRequest\" xlink:href=\"psysml:7c666d7d-6a66-4269-8e3a-229640bb6ad0\" xlink:show=\"new\" xlink:title=\"psysml:7c666d7d-6a66-4269-8e3a-229640bb6ad0\" xlink:type=\"simple\"><rect fill=\"#FEFECE\" filter=\"url(#fa1gmdnup8yoc)\" height=\"45.9375\" id=\"E5\" rx=\"10\" ry=\"10\" style=\"stroke: #A80036; stroke-width: 1.5;\" width=\"68\" x=\"32\" y=\"147\"/><ellipse cx=\"47\" cy=\"165.9688\" fill=\"#32CD32\" rx=\"11\" ry=\"11\" style=\"stroke: #A80036; stroke-width: 1.0;\"/><path d=\"M46.7969,161.6406 L46.7969,165.2656 L47.7969,165.2656 Q49,165.2656 49.4844,164.8594 Q49.9688,164.4531 49.9688,163.4531 Q49.9688,162.4531 49.4844,162.0469 Q49,161.6406 47.7969,161.6406 L46.7969,161.6406 Z M44.3438,159.5781 L47.7031,159.5781 Q50.2656,159.5781 51.3906,160.5 Q52.5156,161.4063 52.5156,163.4531 Q52.5156,165.5 51.3906,166.4219 Q50.2656,167.3281 47.7031,167.3281 L46.7969,167.3281 L46.7969,171.9688 L44.3438,171.9688 L44.3438,159.5781 Z \"/><text fill=\"#000000\" font-family=\"sans-serif\" font-size=\"12\" font-style=\"italic\" lengthAdjust=\"spacingAndGlyphs\" textLength=\"40\" x=\"59\" y=\"163.1387\">«part»</text><text fill=\"#000000\" font-family=\"sans-serif\" font-size=\"12\" lengthAdjust=\"spacingAndGlyphs\" textLength=\"8\" x=\"75\" y=\"177.1074\">g</text><line style=\"stroke: #A80036; stroke-width: 1.5;\" x1=\"33\" x2=\"99\" y1=\"184.9375\" y2=\"184.9375\"/></a><!--MD5=[209b3feb70ccb6233bfe1053d122c12c]\n",
       "reverse link E2 to E3--><a href=\"psysml:71ed813c-2f6a-4d13-b6a9-9d55dbb4d689\" target=\"_top\" title=\"psysml:71ed813c-2f6a-4d13-b6a9-9d55dbb4d689\" xlink:actuate=\"onRequest\" xlink:href=\"psysml:71ed813c-2f6a-4d13-b6a9-9d55dbb4d689\" xlink:show=\"new\" xlink:title=\"psysml:71ed813c-2f6a-4d13-b6a9-9d55dbb4d689\" xlink:type=\"simple\"><path d=\"M169,100.44 C169,115.87 169,133.47 169,146.98 \" fill=\"none\" id=\"E2&lt;-E3\" style=\"stroke: #A80036; stroke-width: 1.0;\"/><polygon fill=\"#A80036\" points=\"169,87.06,165,93.06,169,99.06,173,93.06,169,87.06\" style=\"stroke: #A80036; stroke-width: 1.0;\"/></a><!--MD5=[62aa6af11e70f752912c1cb0466f24f7]\n",
       "reverse link E4 to E5--><a href=\"psysml:66a9662c-d0de-409c-b1e7-d598996fdcb0\" target=\"_top\" title=\"psysml:66a9662c-d0de-409c-b1e7-d598996fdcb0\" xlink:actuate=\"onRequest\" xlink:href=\"psysml:66a9662c-d0de-409c-b1e7-d598996fdcb0\" xlink:show=\"new\" xlink:title=\"psysml:66a9662c-d0de-409c-b1e7-d598996fdcb0\" xlink:type=\"simple\"><path d=\"M66,97.25 C66,113.33 66,132.37 66,146.8 \" fill=\"none\" id=\"E4&lt;-E5\" style=\"stroke: #A80036; stroke-width: 1.0;\"/><polygon fill=\"#A80036\" points=\"66,84.08,62,90.08,66,96.08,70,90.08,66,84.08\" style=\"stroke: #A80036; stroke-width: 1.0;\"/></a><!--MD5=[2985a5db7179dcbe9655b1da80f544d0]\n",
       "@startuml\r\n",
       " \r\n",
       "package \"Q\" as E1  [[psysml:48e9f940-1f69-4218-811f-6a29c7cbfcb6 ]]  {\r\n",
       "comp usage \"f\" as E2  << (P,limegreen) part>> [[psysml:a224f497-53a8-4c97-a678-1669f6411a1a ]] {\r\n",
       "}\r\n",
       "comp usage \"a\" as E3  << (P,limegreen) part>> [[psysml:692e246d-2e17-48ff-a8f3-1c9cda9639f6 ]] {\r\n",
       "}\r\n",
       "comp def \"C\" as E4  << (B,green) >> [[psysml:8521a391-022b-403d-ab54-4e64ea01dd3a ]] {\r\n",
       "}\r\n",
       "comp usage \"g\" as E5  << (P,limegreen) part>> [[psysml:7c666d7d-6a66-4269-8e3a-229640bb6ad0 ]] {\r\n",
       "}\r\n",
       "E2 *- - E3 [[psysml:71ed813c-2f6a-4d13-b6a9-9d55dbb4d689 ]] \r\n",
       "E4 *- - E5 [[psysml:66a9662c-d0de-409c-b1e7-d598996fdcb0 ]] \r\n",
       "}\r\n",
       "@enduml\r\n",
       "\n",
       "PlantUML version 1.2020.13(Sat Jun 13 12:26:38 UTC 2020)\n",
       "(EPL source distribution)\n",
       "Java Runtime: OpenJDK Runtime Environment\n",
       "JVM: OpenJDK 64-Bit Server VM\n",
       "Default Encoding: UTF-8\n",
       "Language: en\n",
       "Country: null\n",
       "--></g></svg>"
      ]
     },
     "execution_count": 35,
     "metadata": {},
     "output_type": "execute_result"
    }
   ],
   "source": [
    "%viz --style=\"PLANTUML\" --view=\"Sequence\" \"Q\""
   ]
  },
  {
   "cell_type": "code",
   "execution_count": 36,
   "id": "f4c5c304",
   "metadata": {
    "execution": {
     "iopub.execute_input": "2021-04-21T20:21:02.827136Z",
     "iopub.status.busy": "2021-04-21T20:21:02.826566Z",
     "iopub.status.idle": "2021-04-21T20:21:02.856321Z",
     "shell.execute_reply": "2021-04-21T20:21:02.855891Z"
    }
   },
   "outputs": [
    {
     "data": {
      "image/svg+xml": [
       "<?xml version=\"1.0\" encoding=\"UTF-8\" standalone=\"no\"?><svg xmlns=\"http://www.w3.org/2000/svg\" xmlns:xlink=\"http://www.w3.org/1999/xlink\" contentScriptType=\"application/ecmascript\" contentStyleType=\"text/css\" height=\"221px\" preserveAspectRatio=\"none\" style=\"width:241px;height:221px;\" version=\"1.1\" viewBox=\"0 0 241 221\" width=\"241px\" zoomAndPan=\"magnify\"><defs><filter height=\"300%\" id=\"fa1gmdnup8yoc\" width=\"300%\" x=\"-1\" y=\"-1\"><feGaussianBlur result=\"blurOut\" stdDeviation=\"2.0\"/><feColorMatrix in=\"blurOut\" result=\"blurOut2\" type=\"matrix\" values=\"0 0 0 0 0 0 0 0 0 0 0 0 0 0 0 0 0 0 .4 0\"/><feOffset dx=\"4.0\" dy=\"4.0\" in=\"blurOut2\" result=\"blurOut3\"/><feBlend in=\"SourceGraphic\" in2=\"blurOut3\" mode=\"normal\"/></filter></defs><g><!--MD5=[fbc87193dbaf4d95561dea2c320d4a47]\n",
       "cluster E1--><a href=\"psysml:48e9f940-1f69-4218-811f-6a29c7cbfcb6\" target=\"_top\" title=\"psysml:48e9f940-1f69-4218-811f-6a29c7cbfcb6\" xlink:actuate=\"onRequest\" xlink:href=\"psysml:48e9f940-1f69-4218-811f-6a29c7cbfcb6\" xlink:show=\"new\" xlink:title=\"psysml:48e9f940-1f69-4218-811f-6a29c7cbfcb6\" xlink:type=\"simple\"><polygon fill=\"#FFFFFF\" filter=\"url(#fa1gmdnup8yoc)\" points=\"16,6,34,6,41,28.2969,219,28.2969,219,209,16,209,16,6\" style=\"stroke: #000000; stroke-width: 1.5;\"/><line style=\"stroke: #000000; stroke-width: 1.5;\" x1=\"16\" x2=\"41\" y1=\"28.2969\" y2=\"28.2969\"/><text fill=\"#000000\" font-family=\"sans-serif\" font-size=\"14\" font-weight=\"bold\" lengthAdjust=\"spacingAndGlyphs\" textLength=\"12\" x=\"20\" y=\"20.9951\">Q</text></a><!--MD5=[b4997ac47864f28c2f74865a473b2911]\n",
       "class E2--><a href=\"psysml:a224f497-53a8-4c97-a678-1669f6411a1a\" target=\"_top\" title=\"psysml:a224f497-53a8-4c97-a678-1669f6411a1a\" xlink:actuate=\"onRequest\" xlink:href=\"psysml:a224f497-53a8-4c97-a678-1669f6411a1a\" xlink:show=\"new\" xlink:title=\"psysml:a224f497-53a8-4c97-a678-1669f6411a1a\" xlink:type=\"simple\"><rect fill=\"#FEFECE\" filter=\"url(#fa1gmdnup8yoc)\" height=\"45.9375\" id=\"E2\" rx=\"10\" ry=\"10\" style=\"stroke: #A80036; stroke-width: 1.5;\" width=\"68\" x=\"135\" y=\"41\"/><ellipse cx=\"150\" cy=\"59.9688\" fill=\"#32CD32\" rx=\"11\" ry=\"11\" style=\"stroke: #A80036; stroke-width: 1.0;\"/><path d=\"M149.7969,55.6406 L149.7969,59.2656 L150.7969,59.2656 Q152,59.2656 152.4844,58.8594 Q152.9688,58.4531 152.9688,57.4531 Q152.9688,56.4531 152.4844,56.0469 Q152,55.6406 150.7969,55.6406 L149.7969,55.6406 Z M147.3438,53.5781 L150.7031,53.5781 Q153.2656,53.5781 154.3906,54.5 Q155.5156,55.4063 155.5156,57.4531 Q155.5156,59.5 154.3906,60.4219 Q153.2656,61.3281 150.7031,61.3281 L149.7969,61.3281 L149.7969,65.9688 L147.3438,65.9688 L147.3438,53.5781 Z \"/><text fill=\"#000000\" font-family=\"sans-serif\" font-size=\"12\" font-style=\"italic\" lengthAdjust=\"spacingAndGlyphs\" textLength=\"40\" x=\"162\" y=\"57.1387\">«part»</text><text fill=\"#000000\" font-family=\"sans-serif\" font-size=\"12\" lengthAdjust=\"spacingAndGlyphs\" textLength=\"4\" x=\"180\" y=\"71.1074\">f</text><line style=\"stroke: #A80036; stroke-width: 1.5;\" x1=\"136\" x2=\"202\" y1=\"78.9375\" y2=\"78.9375\"/></a><!--MD5=[09b614a08d8cba4a07c9adeb5e0fee81]\n",
       "class E3--><a href=\"psysml:692e246d-2e17-48ff-a8f3-1c9cda9639f6\" target=\"_top\" title=\"psysml:692e246d-2e17-48ff-a8f3-1c9cda9639f6\" xlink:actuate=\"onRequest\" xlink:href=\"psysml:692e246d-2e17-48ff-a8f3-1c9cda9639f6\" xlink:show=\"new\" xlink:title=\"psysml:692e246d-2e17-48ff-a8f3-1c9cda9639f6\" xlink:type=\"simple\"><rect fill=\"#FEFECE\" filter=\"url(#fa1gmdnup8yoc)\" height=\"45.9375\" id=\"E3\" rx=\"10\" ry=\"10\" style=\"stroke: #A80036; stroke-width: 1.5;\" width=\"68\" x=\"135\" y=\"147\"/><ellipse cx=\"150\" cy=\"165.9688\" fill=\"#32CD32\" rx=\"11\" ry=\"11\" style=\"stroke: #A80036; stroke-width: 1.0;\"/><path d=\"M149.7969,161.6406 L149.7969,165.2656 L150.7969,165.2656 Q152,165.2656 152.4844,164.8594 Q152.9688,164.4531 152.9688,163.4531 Q152.9688,162.4531 152.4844,162.0469 Q152,161.6406 150.7969,161.6406 L149.7969,161.6406 Z M147.3438,159.5781 L150.7031,159.5781 Q153.2656,159.5781 154.3906,160.5 Q155.5156,161.4063 155.5156,163.4531 Q155.5156,165.5 154.3906,166.4219 Q153.2656,167.3281 150.7031,167.3281 L149.7969,167.3281 L149.7969,171.9688 L147.3438,171.9688 L147.3438,159.5781 Z \"/><text fill=\"#000000\" font-family=\"sans-serif\" font-size=\"12\" font-style=\"italic\" lengthAdjust=\"spacingAndGlyphs\" textLength=\"40\" x=\"162\" y=\"163.1387\">«part»</text><text fill=\"#000000\" font-family=\"sans-serif\" font-size=\"12\" lengthAdjust=\"spacingAndGlyphs\" textLength=\"8\" x=\"178\" y=\"177.1074\">a</text><line style=\"stroke: #A80036; stroke-width: 1.5;\" x1=\"136\" x2=\"202\" y1=\"184.9375\" y2=\"184.9375\"/></a><!--MD5=[ebbe1d658d1005bcc118a6aa81145e00]\n",
       "class E4--><a href=\"psysml:8521a391-022b-403d-ab54-4e64ea01dd3a\" target=\"_top\" title=\"psysml:8521a391-022b-403d-ab54-4e64ea01dd3a\" xlink:actuate=\"onRequest\" xlink:href=\"psysml:8521a391-022b-403d-ab54-4e64ea01dd3a\" xlink:show=\"new\" xlink:title=\"psysml:8521a391-022b-403d-ab54-4e64ea01dd3a\" xlink:type=\"simple\"><rect fill=\"#FEFECE\" filter=\"url(#fa1gmdnup8yoc)\" height=\"40\" id=\"E4\" style=\"stroke: #A80036; stroke-width: 1.5;\" width=\"40\" x=\"46\" y=\"44\"/><ellipse cx=\"61\" cy=\"60\" fill=\"#008000\" rx=\"11\" ry=\"11\" style=\"stroke: #A80036; stroke-width: 1.0;\"/><path d=\"M59.9063,60.375 L59.9063,64.0469 L61.5313,64.0469 Q62.7031,64.0469 63.1719,63.6563 Q63.6406,63.25 63.6406,62.25 Q63.6406,61.25 63.1406,60.8125 Q62.6563,60.375 61.5313,60.375 L59.9063,60.375 Z M59.9063,55.5469 L59.9063,58.4219 L61.5313,58.4219 Q62.4531,58.4219 62.8438,58.0938 Q63.25,57.75 63.25,57 Q63.25,56.2344 62.8438,55.8906 Q62.4375,55.5469 61.5313,55.5469 L59.9063,55.5469 Z M57.5313,53.5938 L61.5313,53.5938 Q63.5938,53.5938 64.6406,54.375 Q65.6875,55.1563 65.6875,56.7188 Q65.6875,57.9219 65.0625,58.5938 Q64.4531,59.2656 63.2656,59.375 Q64.6875,59.5156 65.4063,60.3281 Q66.125,61.1406 66.125,62.5938 Q66.125,64.3906 65.0469,65.2031 Q63.9688,66 61.5313,66 L57.5313,66 L57.5313,53.5938 Z \"/><text fill=\"#000000\" font-family=\"sans-serif\" font-size=\"12\" lengthAdjust=\"spacingAndGlyphs\" textLength=\"8\" x=\"75\" y=\"64.1543\">C</text><line style=\"stroke: #A80036; stroke-width: 1.5;\" x1=\"47\" x2=\"85\" y1=\"76\" y2=\"76\"/></a><!--MD5=[270fce915f116d4de14055a7c1d9a0f3]\n",
       "class E5--><a href=\"psysml:7c666d7d-6a66-4269-8e3a-229640bb6ad0\" target=\"_top\" title=\"psysml:7c666d7d-6a66-4269-8e3a-229640bb6ad0\" xlink:actuate=\"onRequest\" xlink:href=\"psysml:7c666d7d-6a66-4269-8e3a-229640bb6ad0\" xlink:show=\"new\" xlink:title=\"psysml:7c666d7d-6a66-4269-8e3a-229640bb6ad0\" xlink:type=\"simple\"><rect fill=\"#FEFECE\" filter=\"url(#fa1gmdnup8yoc)\" height=\"45.9375\" id=\"E5\" rx=\"10\" ry=\"10\" style=\"stroke: #A80036; stroke-width: 1.5;\" width=\"68\" x=\"32\" y=\"147\"/><ellipse cx=\"47\" cy=\"165.9688\" fill=\"#32CD32\" rx=\"11\" ry=\"11\" style=\"stroke: #A80036; stroke-width: 1.0;\"/><path d=\"M46.7969,161.6406 L46.7969,165.2656 L47.7969,165.2656 Q49,165.2656 49.4844,164.8594 Q49.9688,164.4531 49.9688,163.4531 Q49.9688,162.4531 49.4844,162.0469 Q49,161.6406 47.7969,161.6406 L46.7969,161.6406 Z M44.3438,159.5781 L47.7031,159.5781 Q50.2656,159.5781 51.3906,160.5 Q52.5156,161.4063 52.5156,163.4531 Q52.5156,165.5 51.3906,166.4219 Q50.2656,167.3281 47.7031,167.3281 L46.7969,167.3281 L46.7969,171.9688 L44.3438,171.9688 L44.3438,159.5781 Z \"/><text fill=\"#000000\" font-family=\"sans-serif\" font-size=\"12\" font-style=\"italic\" lengthAdjust=\"spacingAndGlyphs\" textLength=\"40\" x=\"59\" y=\"163.1387\">«part»</text><text fill=\"#000000\" font-family=\"sans-serif\" font-size=\"12\" lengthAdjust=\"spacingAndGlyphs\" textLength=\"8\" x=\"75\" y=\"177.1074\">g</text><line style=\"stroke: #A80036; stroke-width: 1.5;\" x1=\"33\" x2=\"99\" y1=\"184.9375\" y2=\"184.9375\"/></a><!--MD5=[209b3feb70ccb6233bfe1053d122c12c]\n",
       "reverse link E2 to E3--><a href=\"psysml:71ed813c-2f6a-4d13-b6a9-9d55dbb4d689\" target=\"_top\" title=\"psysml:71ed813c-2f6a-4d13-b6a9-9d55dbb4d689\" xlink:actuate=\"onRequest\" xlink:href=\"psysml:71ed813c-2f6a-4d13-b6a9-9d55dbb4d689\" xlink:show=\"new\" xlink:title=\"psysml:71ed813c-2f6a-4d13-b6a9-9d55dbb4d689\" xlink:type=\"simple\"><path d=\"M169,100.44 C169,115.87 169,133.47 169,146.98 \" fill=\"none\" id=\"E2&lt;-E3\" style=\"stroke: #A80036; stroke-width: 1.0;\"/><polygon fill=\"#A80036\" points=\"169,87.06,165,93.06,169,99.06,173,93.06,169,87.06\" style=\"stroke: #A80036; stroke-width: 1.0;\"/></a><!--MD5=[62aa6af11e70f752912c1cb0466f24f7]\n",
       "reverse link E4 to E5--><a href=\"psysml:66a9662c-d0de-409c-b1e7-d598996fdcb0\" target=\"_top\" title=\"psysml:66a9662c-d0de-409c-b1e7-d598996fdcb0\" xlink:actuate=\"onRequest\" xlink:href=\"psysml:66a9662c-d0de-409c-b1e7-d598996fdcb0\" xlink:show=\"new\" xlink:title=\"psysml:66a9662c-d0de-409c-b1e7-d598996fdcb0\" xlink:type=\"simple\"><path d=\"M66,97.25 C66,113.33 66,132.37 66,146.8 \" fill=\"none\" id=\"E4&lt;-E5\" style=\"stroke: #A80036; stroke-width: 1.0;\"/><polygon fill=\"#A80036\" points=\"66,84.08,62,90.08,66,96.08,70,90.08,66,84.08\" style=\"stroke: #A80036; stroke-width: 1.0;\"/></a><!--MD5=[2985a5db7179dcbe9655b1da80f544d0]\n",
       "@startuml\r\n",
       " \r\n",
       "package \"Q\" as E1  [[psysml:48e9f940-1f69-4218-811f-6a29c7cbfcb6 ]]  {\r\n",
       "comp usage \"f\" as E2  << (P,limegreen) part>> [[psysml:a224f497-53a8-4c97-a678-1669f6411a1a ]] {\r\n",
       "}\r\n",
       "comp usage \"a\" as E3  << (P,limegreen) part>> [[psysml:692e246d-2e17-48ff-a8f3-1c9cda9639f6 ]] {\r\n",
       "}\r\n",
       "comp def \"C\" as E4  << (B,green) >> [[psysml:8521a391-022b-403d-ab54-4e64ea01dd3a ]] {\r\n",
       "}\r\n",
       "comp usage \"g\" as E5  << (P,limegreen) part>> [[psysml:7c666d7d-6a66-4269-8e3a-229640bb6ad0 ]] {\r\n",
       "}\r\n",
       "E2 *- - E3 [[psysml:71ed813c-2f6a-4d13-b6a9-9d55dbb4d689 ]] \r\n",
       "E4 *- - E5 [[psysml:66a9662c-d0de-409c-b1e7-d598996fdcb0 ]] \r\n",
       "}\r\n",
       "@enduml\r\n",
       "\n",
       "PlantUML version 1.2020.13(Sat Jun 13 12:26:38 UTC 2020)\n",
       "(EPL source distribution)\n",
       "Java Runtime: OpenJDK Runtime Environment\n",
       "JVM: OpenJDK 64-Bit Server VM\n",
       "Default Encoding: UTF-8\n",
       "Language: en\n",
       "Country: null\n",
       "--></g></svg>"
      ]
     },
     "execution_count": 36,
     "metadata": {},
     "output_type": "execute_result"
    }
   ],
   "source": [
    "%viz --style=\"PLANTUML\" --view=\"MIXED\" \"Q\""
   ]
  },
  {
   "cell_type": "code",
   "execution_count": 37,
   "id": "a56ef8f4",
   "metadata": {
    "execution": {
     "iopub.execute_input": "2021-04-21T20:21:02.905780Z",
     "iopub.status.busy": "2021-04-21T20:21:02.905370Z",
     "iopub.status.idle": "2021-04-21T20:21:02.933809Z",
     "shell.execute_reply": "2021-04-21T20:21:02.931341Z"
    }
   },
   "outputs": [
    {
     "data": {
      "image/svg+xml": [
       "<?xml version=\"1.0\" encoding=\"UTF-8\" standalone=\"no\"?><svg xmlns=\"http://www.w3.org/2000/svg\" xmlns:xlink=\"http://www.w3.org/1999/xlink\" contentScriptType=\"application/ecmascript\" contentStyleType=\"text/css\" height=\"221px\" preserveAspectRatio=\"none\" style=\"width:213px;height:221px;\" version=\"1.1\" viewBox=\"0 0 213 221\" width=\"213px\" zoomAndPan=\"magnify\"><defs/><g><!--MD5=[fbc87193dbaf4d95561dea2c320d4a47]\n",
       "cluster E1--><a href=\"psysml:48e9f940-1f69-4218-811f-6a29c7cbfcb6\" target=\"_top\" title=\"psysml:48e9f940-1f69-4218-811f-6a29c7cbfcb6\" xlink:actuate=\"onRequest\" xlink:href=\"psysml:48e9f940-1f69-4218-811f-6a29c7cbfcb6\" xlink:show=\"new\" xlink:title=\"psysml:48e9f940-1f69-4218-811f-6a29c7cbfcb6\" xlink:type=\"simple\"><polygon fill=\"#FFFFFF\" points=\"16,6,34,6,41,28.2969,191,28.2969,191,209,16,209,16,6\" style=\"stroke: #000000; stroke-width: 1.5;\"/><line style=\"stroke: #000000; stroke-width: 1.5;\" x1=\"16\" x2=\"41\" y1=\"28.2969\" y2=\"28.2969\"/><text fill=\"#000000\" font-family=\"sans-serif\" font-size=\"14\" font-weight=\"bold\" lengthAdjust=\"spacingAndGlyphs\" textLength=\"12\" x=\"20\" y=\"20.9951\">Q</text></a><!--MD5=[b4997ac47864f28c2f74865a473b2911]\n",
       "class E2--><a href=\"psysml:a224f497-53a8-4c97-a678-1669f6411a1a\" target=\"_top\" title=\"psysml:a224f497-53a8-4c97-a678-1669f6411a1a\" xlink:actuate=\"onRequest\" xlink:href=\"psysml:a224f497-53a8-4c97-a678-1669f6411a1a\" xlink:show=\"new\" xlink:title=\"psysml:a224f497-53a8-4c97-a678-1669f6411a1a\" xlink:type=\"simple\"><rect fill=\"#FFFFFF\" height=\"45.9375\" id=\"E2\" rx=\"10\" ry=\"10\" style=\"stroke: #383838; stroke-width: 1.5;\" width=\"42\" x=\"133\" y=\"41\"/><text fill=\"#000000\" font-family=\"sans-serif\" font-size=\"12\" font-style=\"italic\" lengthAdjust=\"spacingAndGlyphs\" textLength=\"40\" x=\"134\" y=\"57.1387\">«part»</text><text fill=\"#000000\" font-family=\"sans-serif\" font-size=\"12\" lengthAdjust=\"spacingAndGlyphs\" textLength=\"4\" x=\"152\" y=\"71.1074\">f</text><line style=\"stroke: #383838; stroke-width: 1.5;\" x1=\"134\" x2=\"174\" y1=\"78.9375\" y2=\"78.9375\"/></a><!--MD5=[09b614a08d8cba4a07c9adeb5e0fee81]\n",
       "class E3--><a href=\"psysml:692e246d-2e17-48ff-a8f3-1c9cda9639f6\" target=\"_top\" title=\"psysml:692e246d-2e17-48ff-a8f3-1c9cda9639f6\" xlink:actuate=\"onRequest\" xlink:href=\"psysml:692e246d-2e17-48ff-a8f3-1c9cda9639f6\" xlink:show=\"new\" xlink:title=\"psysml:692e246d-2e17-48ff-a8f3-1c9cda9639f6\" xlink:type=\"simple\"><rect fill=\"#FFFFFF\" height=\"45.9375\" id=\"E3\" rx=\"10\" ry=\"10\" style=\"stroke: #383838; stroke-width: 1.5;\" width=\"42\" x=\"133\" y=\"147\"/><text fill=\"#000000\" font-family=\"sans-serif\" font-size=\"12\" font-style=\"italic\" lengthAdjust=\"spacingAndGlyphs\" textLength=\"40\" x=\"134\" y=\"163.1387\">«part»</text><text fill=\"#000000\" font-family=\"sans-serif\" font-size=\"12\" lengthAdjust=\"spacingAndGlyphs\" textLength=\"8\" x=\"150\" y=\"177.1074\">a</text><line style=\"stroke: #383838; stroke-width: 1.5;\" x1=\"134\" x2=\"174\" y1=\"184.9375\" y2=\"184.9375\"/></a><!--MD5=[ebbe1d658d1005bcc118a6aa81145e00]\n",
       "class E4--><a href=\"psysml:8521a391-022b-403d-ab54-4e64ea01dd3a\" target=\"_top\" title=\"psysml:8521a391-022b-403d-ab54-4e64ea01dd3a\" xlink:actuate=\"onRequest\" xlink:href=\"psysml:8521a391-022b-403d-ab54-4e64ea01dd3a\" xlink:show=\"new\" xlink:title=\"psysml:8521a391-022b-403d-ab54-4e64ea01dd3a\" xlink:type=\"simple\"><rect fill=\"#FFFFFF\" height=\"45.9375\" id=\"E4\" style=\"stroke: #383838; stroke-width: 1.5;\" width=\"66\" x=\"32\" y=\"41\"/><text fill=\"#000000\" font-family=\"sans-serif\" font-size=\"12\" font-style=\"italic\" lengthAdjust=\"spacingAndGlyphs\" textLength=\"64\" x=\"33\" y=\"57.1387\">«part def»</text><text fill=\"#000000\" font-family=\"sans-serif\" font-size=\"12\" lengthAdjust=\"spacingAndGlyphs\" textLength=\"8\" x=\"61\" y=\"71.1074\">C</text><line style=\"stroke: #383838; stroke-width: 1.5;\" x1=\"33\" x2=\"97\" y1=\"78.9375\" y2=\"78.9375\"/></a><!--MD5=[270fce915f116d4de14055a7c1d9a0f3]\n",
       "class E5--><a href=\"psysml:7c666d7d-6a66-4269-8e3a-229640bb6ad0\" target=\"_top\" title=\"psysml:7c666d7d-6a66-4269-8e3a-229640bb6ad0\" xlink:actuate=\"onRequest\" xlink:href=\"psysml:7c666d7d-6a66-4269-8e3a-229640bb6ad0\" xlink:show=\"new\" xlink:title=\"psysml:7c666d7d-6a66-4269-8e3a-229640bb6ad0\" xlink:type=\"simple\"><rect fill=\"#FFFFFF\" height=\"45.9375\" id=\"E5\" rx=\"10\" ry=\"10\" style=\"stroke: #383838; stroke-width: 1.5;\" width=\"42\" x=\"44\" y=\"147\"/><text fill=\"#000000\" font-family=\"sans-serif\" font-size=\"12\" font-style=\"italic\" lengthAdjust=\"spacingAndGlyphs\" textLength=\"40\" x=\"45\" y=\"163.1387\">«part»</text><text fill=\"#000000\" font-family=\"sans-serif\" font-size=\"12\" lengthAdjust=\"spacingAndGlyphs\" textLength=\"8\" x=\"61\" y=\"177.1074\">g</text><line style=\"stroke: #383838; stroke-width: 1.5;\" x1=\"45\" x2=\"85\" y1=\"184.9375\" y2=\"184.9375\"/></a><!--MD5=[209b3feb70ccb6233bfe1053d122c12c]\n",
       "reverse link E2 to E3--><a href=\"psysml:71ed813c-2f6a-4d13-b6a9-9d55dbb4d689\" target=\"_top\" title=\"psysml:71ed813c-2f6a-4d13-b6a9-9d55dbb4d689\" xlink:actuate=\"onRequest\" xlink:href=\"psysml:71ed813c-2f6a-4d13-b6a9-9d55dbb4d689\" xlink:show=\"new\" xlink:title=\"psysml:71ed813c-2f6a-4d13-b6a9-9d55dbb4d689\" xlink:type=\"simple\"><path d=\"M154,100.44 C154,115.87 154,133.47 154,146.98 \" fill=\"none\" id=\"E2&lt;-E3\" style=\"stroke: #383838; stroke-width: 1.0;\"/><polygon fill=\"#383838\" points=\"154,87.06,150,93.06,154,99.06,158,93.06,154,87.06\" style=\"stroke: #383838; stroke-width: 1.0;\"/></a><!--MD5=[62aa6af11e70f752912c1cb0466f24f7]\n",
       "reverse link E4 to E5--><a href=\"psysml:66a9662c-d0de-409c-b1e7-d598996fdcb0\" target=\"_top\" title=\"psysml:66a9662c-d0de-409c-b1e7-d598996fdcb0\" xlink:actuate=\"onRequest\" xlink:href=\"psysml:66a9662c-d0de-409c-b1e7-d598996fdcb0\" xlink:show=\"new\" xlink:title=\"psysml:66a9662c-d0de-409c-b1e7-d598996fdcb0\" xlink:type=\"simple\"><path d=\"M65,100.44 C65,115.87 65,133.47 65,146.98 \" fill=\"none\" id=\"E4&lt;-E5\" style=\"stroke: #383838; stroke-width: 1.0;\"/><polygon fill=\"#383838\" points=\"65,87.06,61,93.06,65,99.06,69,93.06,65,87.06\" style=\"stroke: #383838; stroke-width: 1.0;\"/></a><!--MD5=[e6e143b8c04f4f7cc06dbe8bc99e068c]\n",
       "@startuml\r\n",
       "skinparam monochrome true\r\n",
       "skinparam classbackgroundcolor white\r\n",
       "skinparam shadowing false\r\n",
       "skinparam wrapWidth 300\r\n",
       "hide circle\r\n",
       "\r\n",
       "package \"Q\" as E1  [[psysml:48e9f940-1f69-4218-811f-6a29c7cbfcb6 ]]  {\r\n",
       "comp usage \"f\" as E2  <<(T,blue)part>> [[psysml:a224f497-53a8-4c97-a678-1669f6411a1a ]] {\r\n",
       "}\r\n",
       "comp usage \"a\" as E3  <<(T,blue)part>> [[psysml:692e246d-2e17-48ff-a8f3-1c9cda9639f6 ]] {\r\n",
       "}\r\n",
       "comp def \"C\" as E4  <<(T,blue)part def>> [[psysml:8521a391-022b-403d-ab54-4e64ea01dd3a ]] {\r\n",
       "}\r\n",
       "comp usage \"g\" as E5  <<(T,blue)part>> [[psysml:7c666d7d-6a66-4269-8e3a-229640bb6ad0 ]] {\r\n",
       "}\r\n",
       "E2 *- - E3 [[psysml:71ed813c-2f6a-4d13-b6a9-9d55dbb4d689 ]] \r\n",
       "E4 *- - E5 [[psysml:66a9662c-d0de-409c-b1e7-d598996fdcb0 ]] \r\n",
       "}\r\n",
       "@enduml\r\n",
       "\n",
       "PlantUML version 1.2020.13(Sat Jun 13 12:26:38 UTC 2020)\n",
       "(EPL source distribution)\n",
       "Java Runtime: OpenJDK Runtime Environment\n",
       "JVM: OpenJDK 64-Bit Server VM\n",
       "Default Encoding: UTF-8\n",
       "Language: en\n",
       "Country: null\n",
       "--></g></svg>"
      ]
     },
     "execution_count": 37,
     "metadata": {},
     "output_type": "execute_result"
    }
   ],
   "source": [
    "%viz --style=\"DEFAULT\" --view=\"Default\" \"Q\""
   ]
  },
  {
   "cell_type": "code",
   "execution_count": 38,
   "id": "e0a62ed6",
   "metadata": {
    "execution": {
     "iopub.execute_input": "2021-04-21T20:21:02.987283Z",
     "iopub.status.busy": "2021-04-21T20:21:02.984759Z",
     "iopub.status.idle": "2021-04-21T20:21:03.059956Z",
     "shell.execute_reply": "2021-04-21T20:21:03.059458Z"
    }
   },
   "outputs": [
    {
     "data": {
      "image/svg+xml": [
       "<?xml version=\"1.0\" encoding=\"UTF-8\" standalone=\"no\"?><svg xmlns=\"http://www.w3.org/2000/svg\" xmlns:xlink=\"http://www.w3.org/1999/xlink\" contentScriptType=\"application/ecmascript\" contentStyleType=\"text/css\" height=\"221px\" preserveAspectRatio=\"none\" style=\"width:213px;height:221px;\" version=\"1.1\" viewBox=\"0 0 213 221\" width=\"213px\" zoomAndPan=\"magnify\"><defs/><g><!--MD5=[fbc87193dbaf4d95561dea2c320d4a47]\n",
       "cluster E1--><a href=\"psysml:48e9f940-1f69-4218-811f-6a29c7cbfcb6\" target=\"_top\" title=\"psysml:48e9f940-1f69-4218-811f-6a29c7cbfcb6\" xlink:actuate=\"onRequest\" xlink:href=\"psysml:48e9f940-1f69-4218-811f-6a29c7cbfcb6\" xlink:show=\"new\" xlink:title=\"psysml:48e9f940-1f69-4218-811f-6a29c7cbfcb6\" xlink:type=\"simple\"><polygon fill=\"#FFFFFF\" points=\"16,6,34,6,41,28.2969,191,28.2969,191,209,16,209,16,6\" style=\"stroke: #000000; stroke-width: 1.5;\"/><line style=\"stroke: #000000; stroke-width: 1.5;\" x1=\"16\" x2=\"41\" y1=\"28.2969\" y2=\"28.2969\"/><text fill=\"#000000\" font-family=\"sans-serif\" font-size=\"14\" font-weight=\"bold\" lengthAdjust=\"spacingAndGlyphs\" textLength=\"12\" x=\"20\" y=\"20.9951\">Q</text></a><!--MD5=[b4997ac47864f28c2f74865a473b2911]\n",
       "class E2--><a href=\"psysml:a224f497-53a8-4c97-a678-1669f6411a1a\" target=\"_top\" title=\"psysml:a224f497-53a8-4c97-a678-1669f6411a1a\" xlink:actuate=\"onRequest\" xlink:href=\"psysml:a224f497-53a8-4c97-a678-1669f6411a1a\" xlink:show=\"new\" xlink:title=\"psysml:a224f497-53a8-4c97-a678-1669f6411a1a\" xlink:type=\"simple\"><rect fill=\"#FFFFFF\" height=\"45.9375\" id=\"E2\" rx=\"10\" ry=\"10\" style=\"stroke: #383838; stroke-width: 1.5;\" width=\"42\" x=\"133\" y=\"41\"/><text fill=\"#000000\" font-family=\"sans-serif\" font-size=\"12\" font-style=\"italic\" lengthAdjust=\"spacingAndGlyphs\" textLength=\"40\" x=\"134\" y=\"57.1387\">«part»</text><text fill=\"#000000\" font-family=\"sans-serif\" font-size=\"12\" lengthAdjust=\"spacingAndGlyphs\" textLength=\"4\" x=\"152\" y=\"71.1074\">f</text><line style=\"stroke: #383838; stroke-width: 1.5;\" x1=\"134\" x2=\"174\" y1=\"78.9375\" y2=\"78.9375\"/></a><!--MD5=[09b614a08d8cba4a07c9adeb5e0fee81]\n",
       "class E3--><a href=\"psysml:692e246d-2e17-48ff-a8f3-1c9cda9639f6\" target=\"_top\" title=\"psysml:692e246d-2e17-48ff-a8f3-1c9cda9639f6\" xlink:actuate=\"onRequest\" xlink:href=\"psysml:692e246d-2e17-48ff-a8f3-1c9cda9639f6\" xlink:show=\"new\" xlink:title=\"psysml:692e246d-2e17-48ff-a8f3-1c9cda9639f6\" xlink:type=\"simple\"><rect fill=\"#FFFFFF\" height=\"45.9375\" id=\"E3\" rx=\"10\" ry=\"10\" style=\"stroke: #383838; stroke-width: 1.5;\" width=\"42\" x=\"133\" y=\"147\"/><text fill=\"#000000\" font-family=\"sans-serif\" font-size=\"12\" font-style=\"italic\" lengthAdjust=\"spacingAndGlyphs\" textLength=\"40\" x=\"134\" y=\"163.1387\">«part»</text><text fill=\"#000000\" font-family=\"sans-serif\" font-size=\"12\" lengthAdjust=\"spacingAndGlyphs\" textLength=\"8\" x=\"150\" y=\"177.1074\">a</text><line style=\"stroke: #383838; stroke-width: 1.5;\" x1=\"134\" x2=\"174\" y1=\"184.9375\" y2=\"184.9375\"/></a><!--MD5=[ebbe1d658d1005bcc118a6aa81145e00]\n",
       "class E4--><a href=\"psysml:8521a391-022b-403d-ab54-4e64ea01dd3a\" target=\"_top\" title=\"psysml:8521a391-022b-403d-ab54-4e64ea01dd3a\" xlink:actuate=\"onRequest\" xlink:href=\"psysml:8521a391-022b-403d-ab54-4e64ea01dd3a\" xlink:show=\"new\" xlink:title=\"psysml:8521a391-022b-403d-ab54-4e64ea01dd3a\" xlink:type=\"simple\"><rect fill=\"#FFFFFF\" height=\"45.9375\" id=\"E4\" style=\"stroke: #383838; stroke-width: 1.5;\" width=\"66\" x=\"32\" y=\"41\"/><text fill=\"#000000\" font-family=\"sans-serif\" font-size=\"12\" font-style=\"italic\" lengthAdjust=\"spacingAndGlyphs\" textLength=\"64\" x=\"33\" y=\"57.1387\">«part def»</text><text fill=\"#000000\" font-family=\"sans-serif\" font-size=\"12\" lengthAdjust=\"spacingAndGlyphs\" textLength=\"8\" x=\"61\" y=\"71.1074\">C</text><line style=\"stroke: #383838; stroke-width: 1.5;\" x1=\"33\" x2=\"97\" y1=\"78.9375\" y2=\"78.9375\"/></a><!--MD5=[270fce915f116d4de14055a7c1d9a0f3]\n",
       "class E5--><a href=\"psysml:7c666d7d-6a66-4269-8e3a-229640bb6ad0\" target=\"_top\" title=\"psysml:7c666d7d-6a66-4269-8e3a-229640bb6ad0\" xlink:actuate=\"onRequest\" xlink:href=\"psysml:7c666d7d-6a66-4269-8e3a-229640bb6ad0\" xlink:show=\"new\" xlink:title=\"psysml:7c666d7d-6a66-4269-8e3a-229640bb6ad0\" xlink:type=\"simple\"><rect fill=\"#FFFFFF\" height=\"45.9375\" id=\"E5\" rx=\"10\" ry=\"10\" style=\"stroke: #383838; stroke-width: 1.5;\" width=\"42\" x=\"44\" y=\"147\"/><text fill=\"#000000\" font-family=\"sans-serif\" font-size=\"12\" font-style=\"italic\" lengthAdjust=\"spacingAndGlyphs\" textLength=\"40\" x=\"45\" y=\"163.1387\">«part»</text><text fill=\"#000000\" font-family=\"sans-serif\" font-size=\"12\" lengthAdjust=\"spacingAndGlyphs\" textLength=\"8\" x=\"61\" y=\"177.1074\">g</text><line style=\"stroke: #383838; stroke-width: 1.5;\" x1=\"45\" x2=\"85\" y1=\"184.9375\" y2=\"184.9375\"/></a><!--MD5=[209b3feb70ccb6233bfe1053d122c12c]\n",
       "reverse link E2 to E3--><a href=\"psysml:71ed813c-2f6a-4d13-b6a9-9d55dbb4d689\" target=\"_top\" title=\"psysml:71ed813c-2f6a-4d13-b6a9-9d55dbb4d689\" xlink:actuate=\"onRequest\" xlink:href=\"psysml:71ed813c-2f6a-4d13-b6a9-9d55dbb4d689\" xlink:show=\"new\" xlink:title=\"psysml:71ed813c-2f6a-4d13-b6a9-9d55dbb4d689\" xlink:type=\"simple\"><path d=\"M154,100.44 C154,115.87 154,133.47 154,146.98 \" fill=\"none\" id=\"E2&lt;-E3\" style=\"stroke: #383838; stroke-width: 1.0;\"/><polygon fill=\"#383838\" points=\"154,87.06,150,93.06,154,99.06,158,93.06,154,87.06\" style=\"stroke: #383838; stroke-width: 1.0;\"/></a><!--MD5=[62aa6af11e70f752912c1cb0466f24f7]\n",
       "reverse link E4 to E5--><a href=\"psysml:66a9662c-d0de-409c-b1e7-d598996fdcb0\" target=\"_top\" title=\"psysml:66a9662c-d0de-409c-b1e7-d598996fdcb0\" xlink:actuate=\"onRequest\" xlink:href=\"psysml:66a9662c-d0de-409c-b1e7-d598996fdcb0\" xlink:show=\"new\" xlink:title=\"psysml:66a9662c-d0de-409c-b1e7-d598996fdcb0\" xlink:type=\"simple\"><path d=\"M65,100.44 C65,115.87 65,133.47 65,146.98 \" fill=\"none\" id=\"E4&lt;-E5\" style=\"stroke: #383838; stroke-width: 1.0;\"/><polygon fill=\"#383838\" points=\"65,87.06,61,93.06,65,99.06,69,93.06,65,87.06\" style=\"stroke: #383838; stroke-width: 1.0;\"/></a><!--MD5=[e6e143b8c04f4f7cc06dbe8bc99e068c]\n",
       "@startuml\r\n",
       "skinparam monochrome true\r\n",
       "skinparam classbackgroundcolor white\r\n",
       "skinparam shadowing false\r\n",
       "skinparam wrapWidth 300\r\n",
       "hide circle\r\n",
       "\r\n",
       "package \"Q\" as E1  [[psysml:48e9f940-1f69-4218-811f-6a29c7cbfcb6 ]]  {\r\n",
       "comp usage \"f\" as E2  <<(T,blue)part>> [[psysml:a224f497-53a8-4c97-a678-1669f6411a1a ]] {\r\n",
       "}\r\n",
       "comp usage \"a\" as E3  <<(T,blue)part>> [[psysml:692e246d-2e17-48ff-a8f3-1c9cda9639f6 ]] {\r\n",
       "}\r\n",
       "comp def \"C\" as E4  <<(T,blue)part def>> [[psysml:8521a391-022b-403d-ab54-4e64ea01dd3a ]] {\r\n",
       "}\r\n",
       "comp usage \"g\" as E5  <<(T,blue)part>> [[psysml:7c666d7d-6a66-4269-8e3a-229640bb6ad0 ]] {\r\n",
       "}\r\n",
       "E2 *- - E3 [[psysml:71ed813c-2f6a-4d13-b6a9-9d55dbb4d689 ]] \r\n",
       "E4 *- - E5 [[psysml:66a9662c-d0de-409c-b1e7-d598996fdcb0 ]] \r\n",
       "}\r\n",
       "@enduml\r\n",
       "\n",
       "PlantUML version 1.2020.13(Sat Jun 13 12:26:38 UTC 2020)\n",
       "(EPL source distribution)\n",
       "Java Runtime: OpenJDK Runtime Environment\n",
       "JVM: OpenJDK 64-Bit Server VM\n",
       "Default Encoding: UTF-8\n",
       "Language: en\n",
       "Country: null\n",
       "--></g></svg>"
      ]
     },
     "execution_count": 38,
     "metadata": {},
     "output_type": "execute_result"
    }
   ],
   "source": [
    "%viz --style=\"DEFAULT\" --view=\"Tree\" \"Q\""
   ]
  },
  {
   "cell_type": "code",
   "execution_count": 39,
   "id": "33773935",
   "metadata": {
    "execution": {
     "iopub.execute_input": "2021-04-21T20:21:03.109463Z",
     "iopub.status.busy": "2021-04-21T20:21:03.108849Z",
     "iopub.status.idle": "2021-04-21T20:21:03.114373Z",
     "shell.execute_reply": "2021-04-21T20:21:03.114004Z"
    }
   },
   "outputs": [
    {
     "data": {
      "image/svg+xml": [
       "<?xml version=\"1.0\" encoding=\"UTF-8\" standalone=\"no\"?><svg xmlns=\"http://www.w3.org/2000/svg\" xmlns:xlink=\"http://www.w3.org/1999/xlink\" contentScriptType=\"application/ecmascript\" contentStyleType=\"text/css\" height=\"12px\" preserveAspectRatio=\"none\" style=\"width:12px;height:12px;\" version=\"1.1\" viewBox=\"0 0 12 12\" width=\"12px\" zoomAndPan=\"magnify\"><defs/><g><!--MD5=[c5f280e076d0d61ccf4b0f27871bda1d]\n",
       "@startuml\r\n",
       "skinparam monochrome true\r\n",
       "skinparam classbackgroundcolor white\r\n",
       "skinparam shadowing false\r\n",
       "skinparam wrapWidth 300\r\n",
       "hide circle\r\n",
       "\r\n",
       "@enduml\r\n",
       "\n",
       "PlantUML version 1.2020.13(Sat Jun 13 12:26:38 UTC 2020)\n",
       "(EPL source distribution)\n",
       "Java Runtime: OpenJDK Runtime Environment\n",
       "JVM: OpenJDK 64-Bit Server VM\n",
       "Default Encoding: UTF-8\n",
       "Language: en\n",
       "Country: null\n",
       "--></g></svg>"
      ]
     },
     "execution_count": 39,
     "metadata": {},
     "output_type": "execute_result"
    }
   ],
   "source": [
    "%viz --style=\"DEFAULT\" --view=\"State\" \"Q\""
   ]
  },
  {
   "cell_type": "code",
   "execution_count": 40,
   "id": "ae7e4699",
   "metadata": {
    "execution": {
     "iopub.execute_input": "2021-04-21T20:21:03.166232Z",
     "iopub.status.busy": "2021-04-21T20:21:03.165302Z",
     "iopub.status.idle": "2021-04-21T20:21:03.201648Z",
     "shell.execute_reply": "2021-04-21T20:21:03.200300Z"
    }
   },
   "outputs": [
    {
     "data": {
      "image/svg+xml": [
       "<?xml version=\"1.0\" encoding=\"UTF-8\" standalone=\"no\"?><svg xmlns=\"http://www.w3.org/2000/svg\" xmlns:xlink=\"http://www.w3.org/1999/xlink\" contentScriptType=\"application/ecmascript\" contentStyleType=\"text/css\" height=\"192px\" preserveAspectRatio=\"none\" style=\"width:286px;height:192px;\" version=\"1.1\" viewBox=\"0 0 286 192\" width=\"286px\" zoomAndPan=\"magnify\"><defs/><g><!--MD5=[fbc87193dbaf4d95561dea2c320d4a47]\n",
       "cluster E1--><a href=\"psysml:48e9f940-1f69-4218-811f-6a29c7cbfcb6\" target=\"_top\" title=\"psysml:48e9f940-1f69-4218-811f-6a29c7cbfcb6\" xlink:actuate=\"onRequest\" xlink:href=\"psysml:48e9f940-1f69-4218-811f-6a29c7cbfcb6\" xlink:show=\"new\" xlink:title=\"psysml:48e9f940-1f69-4218-811f-6a29c7cbfcb6\" xlink:type=\"simple\"><polygon fill=\"#FFFFFF\" points=\"16,6,34,6,41,28.2969,264,28.2969,264,180,16,180,16,6\" style=\"stroke: #000000; stroke-width: 1.5;\"/><line style=\"stroke: #000000; stroke-width: 1.5;\" x1=\"16\" x2=\"41\" y1=\"28.2969\" y2=\"28.2969\"/><text fill=\"#000000\" font-family=\"sans-serif\" font-size=\"14\" font-weight=\"bold\" lengthAdjust=\"spacingAndGlyphs\" textLength=\"12\" x=\"20\" y=\"20.9951\">Q</text></a><!--MD5=[e4f7fae6ed58524ba242bb0b0d3be6b7]\n",
       "cluster E2--><a href=\"psysml:a224f497-53a8-4c97-a678-1669f6411a1a\" target=\"_top\" title=\"psysml:a224f497-53a8-4c97-a678-1669f6411a1a\" xlink:actuate=\"onRequest\" xlink:href=\"psysml:a224f497-53a8-4c97-a678-1669f6411a1a\" xlink:show=\"new\" xlink:title=\"psysml:a224f497-53a8-4c97-a678-1669f6411a1a\" xlink:type=\"simple\"><rect fill=\"#FFFFFF\" height=\"91\" id=\"E2\" rx=\"10\" ry=\"10\" style=\"stroke: #383838; stroke-width: 1.5;\" width=\"82\" x=\"158\" y=\"65\"/><rect fill=\"#F8F8F8\" height=\"23.9688\" rx=\"10\" ry=\"10\" style=\"stroke: #F8F8F8; stroke-width: 1.5;\" width=\"82\" x=\"158\" y=\"65\"/><rect fill=\"#F8F8F8\" height=\"10\" style=\"stroke: #F8F8F8; stroke-width: 1.5;\" width=\"82\" x=\"158\" y=\"78.9688\"/><rect fill=\"none\" height=\"91\" id=\"E2\" rx=\"10\" ry=\"10\" style=\"stroke: #383838; stroke-width: 1.5;\" width=\"82\" x=\"158\" y=\"65\"/><text fill=\"#000000\" font-family=\"sans-serif\" font-size=\"12\" lengthAdjust=\"spacingAndGlyphs\" textLength=\"4\" x=\"197\" y=\"81.1387\">f</text><line style=\"stroke: #383838; stroke-width: 1.0;\" x1=\"158\" x2=\"240\" y1=\"88.9688\" y2=\"88.9688\"/></a><!--MD5=[f6df4d0ebaf0b5dfb2ced0ae5af7c670]\n",
       "cluster E4--><a href=\"psysml:8521a391-022b-403d-ab54-4e64ea01dd3a\" target=\"_top\" title=\"psysml:8521a391-022b-403d-ab54-4e64ea01dd3a\" xlink:actuate=\"onRequest\" xlink:href=\"psysml:8521a391-022b-403d-ab54-4e64ea01dd3a\" xlink:show=\"new\" xlink:title=\"psysml:8521a391-022b-403d-ab54-4e64ea01dd3a\" xlink:type=\"simple\"><rect fill=\"#FFFFFF\" height=\"107\" id=\"E4\" style=\"stroke: #383838; stroke-width: 1.5;\" width=\"94\" x=\"40\" y=\"49\"/><rect fill=\"#F8F8F8\" height=\"37.9375\" style=\"stroke: #383838; stroke-width: 1.5;\" width=\"94\" x=\"40\" y=\"49\"/><text fill=\"#000000\" font-family=\"sans-serif\" font-size=\"12\" font-style=\"italic\" lengthAdjust=\"spacingAndGlyphs\" textLength=\"64\" x=\"55\" y=\"65.1387\">«part def»</text><text fill=\"#000000\" font-family=\"sans-serif\" font-size=\"12\" lengthAdjust=\"spacingAndGlyphs\" textLength=\"8\" x=\"83\" y=\"79.1074\">C</text></a><g id=\"E1.E2.E3\"><a href=\"psysml:692e246d-2e17-48ff-a8f3-1c9cda9639f6\" target=\"_top\" title=\"psysml:692e246d-2e17-48ff-a8f3-1c9cda9639f6\" xlink:actuate=\"onRequest\" xlink:href=\"psysml:692e246d-2e17-48ff-a8f3-1c9cda9639f6\" xlink:show=\"new\" xlink:title=\"psysml:692e246d-2e17-48ff-a8f3-1c9cda9639f6\" xlink:type=\"simple\"><rect fill=\"#FFFFFF\" height=\"40\" id=\"E3\" rx=\"10\" ry=\"10\" style=\"stroke: #383838; stroke-width: 1.5;\" width=\"50\" x=\"174\" y=\"100\"/><rect fill=\"#F8F8F8\" height=\"23.9688\" rx=\"10\" ry=\"10\" style=\"stroke: #F8F8F8; stroke-width: 1.5;\" width=\"50\" x=\"174\" y=\"100\"/><rect fill=\"#F8F8F8\" height=\"10\" style=\"stroke: #F8F8F8; stroke-width: 1.5;\" width=\"50\" x=\"174\" y=\"113.9688\"/><rect fill=\"none\" height=\"40\" id=\"E3\" rx=\"10\" ry=\"10\" style=\"stroke: #383838; stroke-width: 1.5;\" width=\"50\" x=\"174\" y=\"100\"/><text fill=\"#000000\" font-family=\"sans-serif\" font-size=\"12\" lengthAdjust=\"spacingAndGlyphs\" textLength=\"8\" x=\"195\" y=\"116.1387\">a</text></a></g><g id=\"E1.E4.E5\"><a href=\"psysml:7c666d7d-6a66-4269-8e3a-229640bb6ad0\" target=\"_top\" title=\"psysml:7c666d7d-6a66-4269-8e3a-229640bb6ad0\" xlink:actuate=\"onRequest\" xlink:href=\"psysml:7c666d7d-6a66-4269-8e3a-229640bb6ad0\" xlink:show=\"new\" xlink:title=\"psysml:7c666d7d-6a66-4269-8e3a-229640bb6ad0\" xlink:type=\"simple\"><rect fill=\"#FFFFFF\" height=\"40\" id=\"E5\" rx=\"10\" ry=\"10\" style=\"stroke: #383838; stroke-width: 1.5;\" width=\"61\" x=\"56.5\" y=\"100\"/><rect fill=\"#F8F8F8\" height=\"23.9688\" rx=\"10\" ry=\"10\" style=\"stroke: #F8F8F8; stroke-width: 1.5;\" width=\"61\" x=\"56.5\" y=\"100\"/><rect fill=\"#F8F8F8\" height=\"10\" style=\"stroke: #F8F8F8; stroke-width: 1.5;\" width=\"61\" x=\"56.5\" y=\"113.9688\"/><rect fill=\"none\" height=\"40\" id=\"E5\" rx=\"10\" ry=\"10\" style=\"stroke: #383838; stroke-width: 1.5;\" width=\"61\" x=\"56.5\" y=\"100\"/><text fill=\"#000000\" font-family=\"sans-serif\" font-size=\"12\" lengthAdjust=\"spacingAndGlyphs\" textLength=\"46\" x=\"62\" y=\"116.1387\">g=./f/a;</text></a></g><!--MD5=[4690d92bd2aee1765d5ea50c9f42a0a5]\n",
       "@startuml\r\n",
       "skinparam ranksep 10\r\n",
       "skinparam rectangle {\r\n",
       " backgroundColor<<block>> LightGreen\r\n",
       "}\r\n",
       "skinparam monochrome true\r\n",
       "skinparam classbackgroundcolor white\r\n",
       "skinparam shadowing false\r\n",
       "skinparam wrapWidth 300\r\n",
       "hide circle\r\n",
       "\r\n",
       "package \"Q\" as E1  [[psysml:48e9f940-1f69-4218-811f-6a29c7cbfcb6 ]]  {\r\n",
       "rec usage \"f\" as E2  [[psysml:a224f497-53a8-4c97-a678-1669f6411a1a ]] {\r\n",
       "rec usage \"a\" as E3  [[psysml:692e246d-2e17-48ff-a8f3-1c9cda9639f6 ]] {\r\n",
       "}\r\n",
       "}\r\n",
       "rec def \"C\" as E4  <<(T,blue)part def>> [[psysml:8521a391-022b-403d-ab54-4e64ea01dd3a ]] {\r\n",
       "rec usage \"g=./f/a; \" as E5  [[psysml:7c666d7d-6a66-4269-8e3a-229640bb6ad0 ]] {\r\n",
       "}\r\n",
       "}\r\n",
       "}\r\n",
       "@enduml\r\n",
       "\n",
       "PlantUML version 1.2020.13(Sat Jun 13 12:26:38 UTC 2020)\n",
       "(EPL source distribution)\n",
       "Java Runtime: OpenJDK Runtime Environment\n",
       "JVM: OpenJDK 64-Bit Server VM\n",
       "Default Encoding: UTF-8\n",
       "Language: en\n",
       "Country: null\n",
       "--></g></svg>"
      ]
     },
     "execution_count": 40,
     "metadata": {},
     "output_type": "execute_result"
    }
   ],
   "source": [
    "%viz --style=\"DEFAULT\" --view=\"Interconnection\" \"Q\""
   ]
  },
  {
   "cell_type": "code",
   "execution_count": 41,
   "id": "6adf49fd",
   "metadata": {
    "execution": {
     "iopub.execute_input": "2021-04-21T20:21:03.252721Z",
     "iopub.status.busy": "2021-04-21T20:21:03.252192Z",
     "iopub.status.idle": "2021-04-21T20:21:03.257193Z",
     "shell.execute_reply": "2021-04-21T20:21:03.256897Z"
    }
   },
   "outputs": [
    {
     "data": {
      "image/svg+xml": [
       "<?xml version=\"1.0\" encoding=\"UTF-8\" standalone=\"no\"?><svg xmlns=\"http://www.w3.org/2000/svg\" xmlns:xlink=\"http://www.w3.org/1999/xlink\" contentScriptType=\"application/ecmascript\" contentStyleType=\"text/css\" height=\"12px\" preserveAspectRatio=\"none\" style=\"width:12px;height:12px;\" version=\"1.1\" viewBox=\"0 0 12 12\" width=\"12px\" zoomAndPan=\"magnify\"><defs/><g><!--MD5=[388f21188e31bfdd97050473b19af356]\n",
       "@startuml\r\n",
       "skinparam ranksep 8\r\n",
       "skinparam monochrome true\r\n",
       "skinparam classbackgroundcolor white\r\n",
       "skinparam shadowing false\r\n",
       "skinparam wrapWidth 300\r\n",
       "hide circle\r\n",
       "\r\n",
       "@enduml\r\n",
       "\n",
       "PlantUML version 1.2020.13(Sat Jun 13 12:26:38 UTC 2020)\n",
       "(EPL source distribution)\n",
       "Java Runtime: OpenJDK Runtime Environment\n",
       "JVM: OpenJDK 64-Bit Server VM\n",
       "Default Encoding: UTF-8\n",
       "Language: en\n",
       "Country: null\n",
       "--></g></svg>"
      ]
     },
     "execution_count": 41,
     "metadata": {},
     "output_type": "execute_result"
    }
   ],
   "source": [
    "%viz --style=\"DEFAULT\" --view=\"Action\" \"Q\""
   ]
  },
  {
   "cell_type": "code",
   "execution_count": 42,
   "id": "b0ae3c12",
   "metadata": {
    "execution": {
     "iopub.execute_input": "2021-04-21T20:21:03.308492Z",
     "iopub.status.busy": "2021-04-21T20:21:03.308104Z",
     "iopub.status.idle": "2021-04-21T20:21:03.338391Z",
     "shell.execute_reply": "2021-04-21T20:21:03.336742Z"
    }
   },
   "outputs": [
    {
     "data": {
      "image/svg+xml": [
       "<?xml version=\"1.0\" encoding=\"UTF-8\" standalone=\"no\"?><svg xmlns=\"http://www.w3.org/2000/svg\" xmlns:xlink=\"http://www.w3.org/1999/xlink\" contentScriptType=\"application/ecmascript\" contentStyleType=\"text/css\" height=\"221px\" preserveAspectRatio=\"none\" style=\"width:213px;height:221px;\" version=\"1.1\" viewBox=\"0 0 213 221\" width=\"213px\" zoomAndPan=\"magnify\"><defs/><g><!--MD5=[fbc87193dbaf4d95561dea2c320d4a47]\n",
       "cluster E1--><a href=\"psysml:48e9f940-1f69-4218-811f-6a29c7cbfcb6\" target=\"_top\" title=\"psysml:48e9f940-1f69-4218-811f-6a29c7cbfcb6\" xlink:actuate=\"onRequest\" xlink:href=\"psysml:48e9f940-1f69-4218-811f-6a29c7cbfcb6\" xlink:show=\"new\" xlink:title=\"psysml:48e9f940-1f69-4218-811f-6a29c7cbfcb6\" xlink:type=\"simple\"><polygon fill=\"#FFFFFF\" points=\"16,6,34,6,41,28.2969,191,28.2969,191,209,16,209,16,6\" style=\"stroke: #000000; stroke-width: 1.5;\"/><line style=\"stroke: #000000; stroke-width: 1.5;\" x1=\"16\" x2=\"41\" y1=\"28.2969\" y2=\"28.2969\"/><text fill=\"#000000\" font-family=\"sans-serif\" font-size=\"14\" font-weight=\"bold\" lengthAdjust=\"spacingAndGlyphs\" textLength=\"12\" x=\"20\" y=\"20.9951\">Q</text></a><!--MD5=[b4997ac47864f28c2f74865a473b2911]\n",
       "class E2--><a href=\"psysml:a224f497-53a8-4c97-a678-1669f6411a1a\" target=\"_top\" title=\"psysml:a224f497-53a8-4c97-a678-1669f6411a1a\" xlink:actuate=\"onRequest\" xlink:href=\"psysml:a224f497-53a8-4c97-a678-1669f6411a1a\" xlink:show=\"new\" xlink:title=\"psysml:a224f497-53a8-4c97-a678-1669f6411a1a\" xlink:type=\"simple\"><rect fill=\"#FFFFFF\" height=\"45.9375\" id=\"E2\" rx=\"10\" ry=\"10\" style=\"stroke: #383838; stroke-width: 1.5;\" width=\"42\" x=\"133\" y=\"41\"/><text fill=\"#000000\" font-family=\"sans-serif\" font-size=\"12\" font-style=\"italic\" lengthAdjust=\"spacingAndGlyphs\" textLength=\"40\" x=\"134\" y=\"57.1387\">«part»</text><text fill=\"#000000\" font-family=\"sans-serif\" font-size=\"12\" lengthAdjust=\"spacingAndGlyphs\" textLength=\"4\" x=\"152\" y=\"71.1074\">f</text><line style=\"stroke: #383838; stroke-width: 1.5;\" x1=\"134\" x2=\"174\" y1=\"78.9375\" y2=\"78.9375\"/></a><!--MD5=[09b614a08d8cba4a07c9adeb5e0fee81]\n",
       "class E3--><a href=\"psysml:692e246d-2e17-48ff-a8f3-1c9cda9639f6\" target=\"_top\" title=\"psysml:692e246d-2e17-48ff-a8f3-1c9cda9639f6\" xlink:actuate=\"onRequest\" xlink:href=\"psysml:692e246d-2e17-48ff-a8f3-1c9cda9639f6\" xlink:show=\"new\" xlink:title=\"psysml:692e246d-2e17-48ff-a8f3-1c9cda9639f6\" xlink:type=\"simple\"><rect fill=\"#FFFFFF\" height=\"45.9375\" id=\"E3\" rx=\"10\" ry=\"10\" style=\"stroke: #383838; stroke-width: 1.5;\" width=\"42\" x=\"133\" y=\"147\"/><text fill=\"#000000\" font-family=\"sans-serif\" font-size=\"12\" font-style=\"italic\" lengthAdjust=\"spacingAndGlyphs\" textLength=\"40\" x=\"134\" y=\"163.1387\">«part»</text><text fill=\"#000000\" font-family=\"sans-serif\" font-size=\"12\" lengthAdjust=\"spacingAndGlyphs\" textLength=\"8\" x=\"150\" y=\"177.1074\">a</text><line style=\"stroke: #383838; stroke-width: 1.5;\" x1=\"134\" x2=\"174\" y1=\"184.9375\" y2=\"184.9375\"/></a><!--MD5=[ebbe1d658d1005bcc118a6aa81145e00]\n",
       "class E4--><a href=\"psysml:8521a391-022b-403d-ab54-4e64ea01dd3a\" target=\"_top\" title=\"psysml:8521a391-022b-403d-ab54-4e64ea01dd3a\" xlink:actuate=\"onRequest\" xlink:href=\"psysml:8521a391-022b-403d-ab54-4e64ea01dd3a\" xlink:show=\"new\" xlink:title=\"psysml:8521a391-022b-403d-ab54-4e64ea01dd3a\" xlink:type=\"simple\"><rect fill=\"#FFFFFF\" height=\"45.9375\" id=\"E4\" style=\"stroke: #383838; stroke-width: 1.5;\" width=\"66\" x=\"32\" y=\"41\"/><text fill=\"#000000\" font-family=\"sans-serif\" font-size=\"12\" font-style=\"italic\" lengthAdjust=\"spacingAndGlyphs\" textLength=\"64\" x=\"33\" y=\"57.1387\">«part def»</text><text fill=\"#000000\" font-family=\"sans-serif\" font-size=\"12\" lengthAdjust=\"spacingAndGlyphs\" textLength=\"8\" x=\"61\" y=\"71.1074\">C</text><line style=\"stroke: #383838; stroke-width: 1.5;\" x1=\"33\" x2=\"97\" y1=\"78.9375\" y2=\"78.9375\"/></a><!--MD5=[270fce915f116d4de14055a7c1d9a0f3]\n",
       "class E5--><a href=\"psysml:7c666d7d-6a66-4269-8e3a-229640bb6ad0\" target=\"_top\" title=\"psysml:7c666d7d-6a66-4269-8e3a-229640bb6ad0\" xlink:actuate=\"onRequest\" xlink:href=\"psysml:7c666d7d-6a66-4269-8e3a-229640bb6ad0\" xlink:show=\"new\" xlink:title=\"psysml:7c666d7d-6a66-4269-8e3a-229640bb6ad0\" xlink:type=\"simple\"><rect fill=\"#FFFFFF\" height=\"45.9375\" id=\"E5\" rx=\"10\" ry=\"10\" style=\"stroke: #383838; stroke-width: 1.5;\" width=\"42\" x=\"44\" y=\"147\"/><text fill=\"#000000\" font-family=\"sans-serif\" font-size=\"12\" font-style=\"italic\" lengthAdjust=\"spacingAndGlyphs\" textLength=\"40\" x=\"45\" y=\"163.1387\">«part»</text><text fill=\"#000000\" font-family=\"sans-serif\" font-size=\"12\" lengthAdjust=\"spacingAndGlyphs\" textLength=\"8\" x=\"61\" y=\"177.1074\">g</text><line style=\"stroke: #383838; stroke-width: 1.5;\" x1=\"45\" x2=\"85\" y1=\"184.9375\" y2=\"184.9375\"/></a><!--MD5=[209b3feb70ccb6233bfe1053d122c12c]\n",
       "reverse link E2 to E3--><a href=\"psysml:71ed813c-2f6a-4d13-b6a9-9d55dbb4d689\" target=\"_top\" title=\"psysml:71ed813c-2f6a-4d13-b6a9-9d55dbb4d689\" xlink:actuate=\"onRequest\" xlink:href=\"psysml:71ed813c-2f6a-4d13-b6a9-9d55dbb4d689\" xlink:show=\"new\" xlink:title=\"psysml:71ed813c-2f6a-4d13-b6a9-9d55dbb4d689\" xlink:type=\"simple\"><path d=\"M154,100.44 C154,115.87 154,133.47 154,146.98 \" fill=\"none\" id=\"E2&lt;-E3\" style=\"stroke: #383838; stroke-width: 1.0;\"/><polygon fill=\"#383838\" points=\"154,87.06,150,93.06,154,99.06,158,93.06,154,87.06\" style=\"stroke: #383838; stroke-width: 1.0;\"/></a><!--MD5=[62aa6af11e70f752912c1cb0466f24f7]\n",
       "reverse link E4 to E5--><a href=\"psysml:66a9662c-d0de-409c-b1e7-d598996fdcb0\" target=\"_top\" title=\"psysml:66a9662c-d0de-409c-b1e7-d598996fdcb0\" xlink:actuate=\"onRequest\" xlink:href=\"psysml:66a9662c-d0de-409c-b1e7-d598996fdcb0\" xlink:show=\"new\" xlink:title=\"psysml:66a9662c-d0de-409c-b1e7-d598996fdcb0\" xlink:type=\"simple\"><path d=\"M65,100.44 C65,115.87 65,133.47 65,146.98 \" fill=\"none\" id=\"E4&lt;-E5\" style=\"stroke: #383838; stroke-width: 1.0;\"/><polygon fill=\"#383838\" points=\"65,87.06,61,93.06,65,99.06,69,93.06,65,87.06\" style=\"stroke: #383838; stroke-width: 1.0;\"/></a><!--MD5=[e6e143b8c04f4f7cc06dbe8bc99e068c]\n",
       "@startuml\r\n",
       "skinparam monochrome true\r\n",
       "skinparam classbackgroundcolor white\r\n",
       "skinparam shadowing false\r\n",
       "skinparam wrapWidth 300\r\n",
       "hide circle\r\n",
       "\r\n",
       "package \"Q\" as E1  [[psysml:48e9f940-1f69-4218-811f-6a29c7cbfcb6 ]]  {\r\n",
       "comp usage \"f\" as E2  <<(T,blue)part>> [[psysml:a224f497-53a8-4c97-a678-1669f6411a1a ]] {\r\n",
       "}\r\n",
       "comp usage \"a\" as E3  <<(T,blue)part>> [[psysml:692e246d-2e17-48ff-a8f3-1c9cda9639f6 ]] {\r\n",
       "}\r\n",
       "comp def \"C\" as E4  <<(T,blue)part def>> [[psysml:8521a391-022b-403d-ab54-4e64ea01dd3a ]] {\r\n",
       "}\r\n",
       "comp usage \"g\" as E5  <<(T,blue)part>> [[psysml:7c666d7d-6a66-4269-8e3a-229640bb6ad0 ]] {\r\n",
       "}\r\n",
       "E2 *- - E3 [[psysml:71ed813c-2f6a-4d13-b6a9-9d55dbb4d689 ]] \r\n",
       "E4 *- - E5 [[psysml:66a9662c-d0de-409c-b1e7-d598996fdcb0 ]] \r\n",
       "}\r\n",
       "@enduml\r\n",
       "\n",
       "PlantUML version 1.2020.13(Sat Jun 13 12:26:38 UTC 2020)\n",
       "(EPL source distribution)\n",
       "Java Runtime: OpenJDK Runtime Environment\n",
       "JVM: OpenJDK 64-Bit Server VM\n",
       "Default Encoding: UTF-8\n",
       "Language: en\n",
       "Country: null\n",
       "--></g></svg>"
      ]
     },
     "execution_count": 42,
     "metadata": {},
     "output_type": "execute_result"
    }
   ],
   "source": [
    "%viz --style=\"DEFAULT\" --view=\"Sequence\" \"Q\""
   ]
  },
  {
   "cell_type": "code",
   "execution_count": 43,
   "id": "2bffea4b",
   "metadata": {
    "execution": {
     "iopub.execute_input": "2021-04-21T20:21:03.384458Z",
     "iopub.status.busy": "2021-04-21T20:21:03.384064Z",
     "iopub.status.idle": "2021-04-21T20:21:03.411915Z",
     "shell.execute_reply": "2021-04-21T20:21:03.410600Z"
    }
   },
   "outputs": [
    {
     "data": {
      "image/svg+xml": [
       "<?xml version=\"1.0\" encoding=\"UTF-8\" standalone=\"no\"?><svg xmlns=\"http://www.w3.org/2000/svg\" xmlns:xlink=\"http://www.w3.org/1999/xlink\" contentScriptType=\"application/ecmascript\" contentStyleType=\"text/css\" height=\"221px\" preserveAspectRatio=\"none\" style=\"width:213px;height:221px;\" version=\"1.1\" viewBox=\"0 0 213 221\" width=\"213px\" zoomAndPan=\"magnify\"><defs/><g><!--MD5=[fbc87193dbaf4d95561dea2c320d4a47]\n",
       "cluster E1--><a href=\"psysml:48e9f940-1f69-4218-811f-6a29c7cbfcb6\" target=\"_top\" title=\"psysml:48e9f940-1f69-4218-811f-6a29c7cbfcb6\" xlink:actuate=\"onRequest\" xlink:href=\"psysml:48e9f940-1f69-4218-811f-6a29c7cbfcb6\" xlink:show=\"new\" xlink:title=\"psysml:48e9f940-1f69-4218-811f-6a29c7cbfcb6\" xlink:type=\"simple\"><polygon fill=\"#FFFFFF\" points=\"16,6,34,6,41,28.2969,191,28.2969,191,209,16,209,16,6\" style=\"stroke: #000000; stroke-width: 1.5;\"/><line style=\"stroke: #000000; stroke-width: 1.5;\" x1=\"16\" x2=\"41\" y1=\"28.2969\" y2=\"28.2969\"/><text fill=\"#000000\" font-family=\"sans-serif\" font-size=\"14\" font-weight=\"bold\" lengthAdjust=\"spacingAndGlyphs\" textLength=\"12\" x=\"20\" y=\"20.9951\">Q</text></a><!--MD5=[b4997ac47864f28c2f74865a473b2911]\n",
       "class E2--><a href=\"psysml:a224f497-53a8-4c97-a678-1669f6411a1a\" target=\"_top\" title=\"psysml:a224f497-53a8-4c97-a678-1669f6411a1a\" xlink:actuate=\"onRequest\" xlink:href=\"psysml:a224f497-53a8-4c97-a678-1669f6411a1a\" xlink:show=\"new\" xlink:title=\"psysml:a224f497-53a8-4c97-a678-1669f6411a1a\" xlink:type=\"simple\"><rect fill=\"#FFFFFF\" height=\"45.9375\" id=\"E2\" rx=\"10\" ry=\"10\" style=\"stroke: #383838; stroke-width: 1.5;\" width=\"42\" x=\"133\" y=\"41\"/><text fill=\"#000000\" font-family=\"sans-serif\" font-size=\"12\" font-style=\"italic\" lengthAdjust=\"spacingAndGlyphs\" textLength=\"40\" x=\"134\" y=\"57.1387\">«part»</text><text fill=\"#000000\" font-family=\"sans-serif\" font-size=\"12\" lengthAdjust=\"spacingAndGlyphs\" textLength=\"4\" x=\"152\" y=\"71.1074\">f</text><line style=\"stroke: #383838; stroke-width: 1.5;\" x1=\"134\" x2=\"174\" y1=\"78.9375\" y2=\"78.9375\"/></a><!--MD5=[09b614a08d8cba4a07c9adeb5e0fee81]\n",
       "class E3--><a href=\"psysml:692e246d-2e17-48ff-a8f3-1c9cda9639f6\" target=\"_top\" title=\"psysml:692e246d-2e17-48ff-a8f3-1c9cda9639f6\" xlink:actuate=\"onRequest\" xlink:href=\"psysml:692e246d-2e17-48ff-a8f3-1c9cda9639f6\" xlink:show=\"new\" xlink:title=\"psysml:692e246d-2e17-48ff-a8f3-1c9cda9639f6\" xlink:type=\"simple\"><rect fill=\"#FFFFFF\" height=\"45.9375\" id=\"E3\" rx=\"10\" ry=\"10\" style=\"stroke: #383838; stroke-width: 1.5;\" width=\"42\" x=\"133\" y=\"147\"/><text fill=\"#000000\" font-family=\"sans-serif\" font-size=\"12\" font-style=\"italic\" lengthAdjust=\"spacingAndGlyphs\" textLength=\"40\" x=\"134\" y=\"163.1387\">«part»</text><text fill=\"#000000\" font-family=\"sans-serif\" font-size=\"12\" lengthAdjust=\"spacingAndGlyphs\" textLength=\"8\" x=\"150\" y=\"177.1074\">a</text><line style=\"stroke: #383838; stroke-width: 1.5;\" x1=\"134\" x2=\"174\" y1=\"184.9375\" y2=\"184.9375\"/></a><!--MD5=[ebbe1d658d1005bcc118a6aa81145e00]\n",
       "class E4--><a href=\"psysml:8521a391-022b-403d-ab54-4e64ea01dd3a\" target=\"_top\" title=\"psysml:8521a391-022b-403d-ab54-4e64ea01dd3a\" xlink:actuate=\"onRequest\" xlink:href=\"psysml:8521a391-022b-403d-ab54-4e64ea01dd3a\" xlink:show=\"new\" xlink:title=\"psysml:8521a391-022b-403d-ab54-4e64ea01dd3a\" xlink:type=\"simple\"><rect fill=\"#FFFFFF\" height=\"45.9375\" id=\"E4\" style=\"stroke: #383838; stroke-width: 1.5;\" width=\"66\" x=\"32\" y=\"41\"/><text fill=\"#000000\" font-family=\"sans-serif\" font-size=\"12\" font-style=\"italic\" lengthAdjust=\"spacingAndGlyphs\" textLength=\"64\" x=\"33\" y=\"57.1387\">«part def»</text><text fill=\"#000000\" font-family=\"sans-serif\" font-size=\"12\" lengthAdjust=\"spacingAndGlyphs\" textLength=\"8\" x=\"61\" y=\"71.1074\">C</text><line style=\"stroke: #383838; stroke-width: 1.5;\" x1=\"33\" x2=\"97\" y1=\"78.9375\" y2=\"78.9375\"/></a><!--MD5=[270fce915f116d4de14055a7c1d9a0f3]\n",
       "class E5--><a href=\"psysml:7c666d7d-6a66-4269-8e3a-229640bb6ad0\" target=\"_top\" title=\"psysml:7c666d7d-6a66-4269-8e3a-229640bb6ad0\" xlink:actuate=\"onRequest\" xlink:href=\"psysml:7c666d7d-6a66-4269-8e3a-229640bb6ad0\" xlink:show=\"new\" xlink:title=\"psysml:7c666d7d-6a66-4269-8e3a-229640bb6ad0\" xlink:type=\"simple\"><rect fill=\"#FFFFFF\" height=\"45.9375\" id=\"E5\" rx=\"10\" ry=\"10\" style=\"stroke: #383838; stroke-width: 1.5;\" width=\"42\" x=\"44\" y=\"147\"/><text fill=\"#000000\" font-family=\"sans-serif\" font-size=\"12\" font-style=\"italic\" lengthAdjust=\"spacingAndGlyphs\" textLength=\"40\" x=\"45\" y=\"163.1387\">«part»</text><text fill=\"#000000\" font-family=\"sans-serif\" font-size=\"12\" lengthAdjust=\"spacingAndGlyphs\" textLength=\"8\" x=\"61\" y=\"177.1074\">g</text><line style=\"stroke: #383838; stroke-width: 1.5;\" x1=\"45\" x2=\"85\" y1=\"184.9375\" y2=\"184.9375\"/></a><!--MD5=[209b3feb70ccb6233bfe1053d122c12c]\n",
       "reverse link E2 to E3--><a href=\"psysml:71ed813c-2f6a-4d13-b6a9-9d55dbb4d689\" target=\"_top\" title=\"psysml:71ed813c-2f6a-4d13-b6a9-9d55dbb4d689\" xlink:actuate=\"onRequest\" xlink:href=\"psysml:71ed813c-2f6a-4d13-b6a9-9d55dbb4d689\" xlink:show=\"new\" xlink:title=\"psysml:71ed813c-2f6a-4d13-b6a9-9d55dbb4d689\" xlink:type=\"simple\"><path d=\"M154,100.44 C154,115.87 154,133.47 154,146.98 \" fill=\"none\" id=\"E2&lt;-E3\" style=\"stroke: #383838; stroke-width: 1.0;\"/><polygon fill=\"#383838\" points=\"154,87.06,150,93.06,154,99.06,158,93.06,154,87.06\" style=\"stroke: #383838; stroke-width: 1.0;\"/></a><!--MD5=[62aa6af11e70f752912c1cb0466f24f7]\n",
       "reverse link E4 to E5--><a href=\"psysml:66a9662c-d0de-409c-b1e7-d598996fdcb0\" target=\"_top\" title=\"psysml:66a9662c-d0de-409c-b1e7-d598996fdcb0\" xlink:actuate=\"onRequest\" xlink:href=\"psysml:66a9662c-d0de-409c-b1e7-d598996fdcb0\" xlink:show=\"new\" xlink:title=\"psysml:66a9662c-d0de-409c-b1e7-d598996fdcb0\" xlink:type=\"simple\"><path d=\"M65,100.44 C65,115.87 65,133.47 65,146.98 \" fill=\"none\" id=\"E4&lt;-E5\" style=\"stroke: #383838; stroke-width: 1.0;\"/><polygon fill=\"#383838\" points=\"65,87.06,61,93.06,65,99.06,69,93.06,65,87.06\" style=\"stroke: #383838; stroke-width: 1.0;\"/></a><!--MD5=[e6e143b8c04f4f7cc06dbe8bc99e068c]\n",
       "@startuml\r\n",
       "skinparam monochrome true\r\n",
       "skinparam classbackgroundcolor white\r\n",
       "skinparam shadowing false\r\n",
       "skinparam wrapWidth 300\r\n",
       "hide circle\r\n",
       "\r\n",
       "package \"Q\" as E1  [[psysml:48e9f940-1f69-4218-811f-6a29c7cbfcb6 ]]  {\r\n",
       "comp usage \"f\" as E2  <<(T,blue)part>> [[psysml:a224f497-53a8-4c97-a678-1669f6411a1a ]] {\r\n",
       "}\r\n",
       "comp usage \"a\" as E3  <<(T,blue)part>> [[psysml:692e246d-2e17-48ff-a8f3-1c9cda9639f6 ]] {\r\n",
       "}\r\n",
       "comp def \"C\" as E4  <<(T,blue)part def>> [[psysml:8521a391-022b-403d-ab54-4e64ea01dd3a ]] {\r\n",
       "}\r\n",
       "comp usage \"g\" as E5  <<(T,blue)part>> [[psysml:7c666d7d-6a66-4269-8e3a-229640bb6ad0 ]] {\r\n",
       "}\r\n",
       "E2 *- - E3 [[psysml:71ed813c-2f6a-4d13-b6a9-9d55dbb4d689 ]] \r\n",
       "E4 *- - E5 [[psysml:66a9662c-d0de-409c-b1e7-d598996fdcb0 ]] \r\n",
       "}\r\n",
       "@enduml\r\n",
       "\n",
       "PlantUML version 1.2020.13(Sat Jun 13 12:26:38 UTC 2020)\n",
       "(EPL source distribution)\n",
       "Java Runtime: OpenJDK Runtime Environment\n",
       "JVM: OpenJDK 64-Bit Server VM\n",
       "Default Encoding: UTF-8\n",
       "Language: en\n",
       "Country: null\n",
       "--></g></svg>"
      ]
     },
     "execution_count": 43,
     "metadata": {},
     "output_type": "execute_result"
    }
   ],
   "source": [
    "%viz --style=\"DEFAULT\" --view=\"MIXED\" \"Q\""
   ]
  },
  {
   "cell_type": "code",
   "execution_count": 44,
   "id": "60be2e72",
   "metadata": {
    "execution": {
     "iopub.execute_input": "2021-04-21T20:21:03.462180Z",
     "iopub.status.busy": "2021-04-21T20:21:03.461793Z",
     "iopub.status.idle": "2021-04-21T20:21:03.503519Z",
     "shell.execute_reply": "2021-04-21T20:21:03.503159Z"
    }
   },
   "outputs": [
    {
     "data": {
      "image/svg+xml": [
       "<?xml version=\"1.0\" encoding=\"UTF-8\" standalone=\"no\"?><svg xmlns=\"http://www.w3.org/2000/svg\" xmlns:xlink=\"http://www.w3.org/1999/xlink\" contentScriptType=\"application/ecmascript\" contentStyleType=\"text/css\" height=\"221px\" preserveAspectRatio=\"none\" style=\"width:213px;height:221px;\" version=\"1.1\" viewBox=\"0 0 213 221\" width=\"213px\" zoomAndPan=\"magnify\"><defs/><g><!--MD5=[fbc87193dbaf4d95561dea2c320d4a47]\n",
       "cluster E1--><a href=\"psysml:48e9f940-1f69-4218-811f-6a29c7cbfcb6\" target=\"_top\" title=\"psysml:48e9f940-1f69-4218-811f-6a29c7cbfcb6\" xlink:actuate=\"onRequest\" xlink:href=\"psysml:48e9f940-1f69-4218-811f-6a29c7cbfcb6\" xlink:show=\"new\" xlink:title=\"psysml:48e9f940-1f69-4218-811f-6a29c7cbfcb6\" xlink:type=\"simple\"><polygon fill=\"#FFFFFF\" points=\"16,6,34,6,41,28.2969,191,28.2969,191,209,16,209,16,6\" style=\"stroke: #000000; stroke-width: 1.5;\"/><line style=\"stroke: #000000; stroke-width: 1.5;\" x1=\"16\" x2=\"41\" y1=\"28.2969\" y2=\"28.2969\"/><text fill=\"#000000\" font-family=\"sans-serif\" font-size=\"14\" font-weight=\"bold\" lengthAdjust=\"spacingAndGlyphs\" textLength=\"12\" x=\"20\" y=\"20.9951\">Q</text></a><!--MD5=[b4997ac47864f28c2f74865a473b2911]\n",
       "class E2--><a href=\"psysml:a224f497-53a8-4c97-a678-1669f6411a1a\" target=\"_top\" title=\"psysml:a224f497-53a8-4c97-a678-1669f6411a1a\" xlink:actuate=\"onRequest\" xlink:href=\"psysml:a224f497-53a8-4c97-a678-1669f6411a1a\" xlink:show=\"new\" xlink:title=\"psysml:a224f497-53a8-4c97-a678-1669f6411a1a\" xlink:type=\"simple\"><rect fill=\"#FFFFFF\" height=\"45.9375\" id=\"E2\" rx=\"10\" ry=\"10\" style=\"stroke: #383838; stroke-width: 1.5;\" width=\"42\" x=\"133\" y=\"41\"/><text fill=\"#000000\" font-family=\"sans-serif\" font-size=\"12\" font-style=\"italic\" lengthAdjust=\"spacingAndGlyphs\" textLength=\"40\" x=\"134\" y=\"57.1387\">«part»</text><text fill=\"#000000\" font-family=\"sans-serif\" font-size=\"12\" lengthAdjust=\"spacingAndGlyphs\" textLength=\"4\" x=\"152\" y=\"71.1074\">f</text><line style=\"stroke: #383838; stroke-width: 1.5;\" x1=\"134\" x2=\"174\" y1=\"78.9375\" y2=\"78.9375\"/></a><!--MD5=[09b614a08d8cba4a07c9adeb5e0fee81]\n",
       "class E3--><a href=\"psysml:692e246d-2e17-48ff-a8f3-1c9cda9639f6\" target=\"_top\" title=\"psysml:692e246d-2e17-48ff-a8f3-1c9cda9639f6\" xlink:actuate=\"onRequest\" xlink:href=\"psysml:692e246d-2e17-48ff-a8f3-1c9cda9639f6\" xlink:show=\"new\" xlink:title=\"psysml:692e246d-2e17-48ff-a8f3-1c9cda9639f6\" xlink:type=\"simple\"><rect fill=\"#FFFFFF\" height=\"45.9375\" id=\"E3\" rx=\"10\" ry=\"10\" style=\"stroke: #383838; stroke-width: 1.5;\" width=\"42\" x=\"133\" y=\"147\"/><text fill=\"#000000\" font-family=\"sans-serif\" font-size=\"12\" font-style=\"italic\" lengthAdjust=\"spacingAndGlyphs\" textLength=\"40\" x=\"134\" y=\"163.1387\">«part»</text><text fill=\"#000000\" font-family=\"sans-serif\" font-size=\"12\" lengthAdjust=\"spacingAndGlyphs\" textLength=\"8\" x=\"150\" y=\"177.1074\">a</text><line style=\"stroke: #383838; stroke-width: 1.5;\" x1=\"134\" x2=\"174\" y1=\"184.9375\" y2=\"184.9375\"/></a><!--MD5=[ebbe1d658d1005bcc118a6aa81145e00]\n",
       "class E4--><a href=\"psysml:8521a391-022b-403d-ab54-4e64ea01dd3a\" target=\"_top\" title=\"psysml:8521a391-022b-403d-ab54-4e64ea01dd3a\" xlink:actuate=\"onRequest\" xlink:href=\"psysml:8521a391-022b-403d-ab54-4e64ea01dd3a\" xlink:show=\"new\" xlink:title=\"psysml:8521a391-022b-403d-ab54-4e64ea01dd3a\" xlink:type=\"simple\"><rect fill=\"#FFFFFF\" height=\"45.9375\" id=\"E4\" style=\"stroke: #383838; stroke-width: 1.5;\" width=\"66\" x=\"32\" y=\"41\"/><text fill=\"#000000\" font-family=\"sans-serif\" font-size=\"12\" font-style=\"italic\" lengthAdjust=\"spacingAndGlyphs\" textLength=\"64\" x=\"33\" y=\"57.1387\">«part def»</text><text fill=\"#000000\" font-family=\"sans-serif\" font-size=\"12\" lengthAdjust=\"spacingAndGlyphs\" textLength=\"8\" x=\"61\" y=\"71.1074\">C</text><line style=\"stroke: #383838; stroke-width: 1.5;\" x1=\"33\" x2=\"97\" y1=\"78.9375\" y2=\"78.9375\"/></a><!--MD5=[270fce915f116d4de14055a7c1d9a0f3]\n",
       "class E5--><a href=\"psysml:7c666d7d-6a66-4269-8e3a-229640bb6ad0\" target=\"_top\" title=\"psysml:7c666d7d-6a66-4269-8e3a-229640bb6ad0\" xlink:actuate=\"onRequest\" xlink:href=\"psysml:7c666d7d-6a66-4269-8e3a-229640bb6ad0\" xlink:show=\"new\" xlink:title=\"psysml:7c666d7d-6a66-4269-8e3a-229640bb6ad0\" xlink:type=\"simple\"><rect fill=\"#FFFFFF\" height=\"45.9375\" id=\"E5\" rx=\"10\" ry=\"10\" style=\"stroke: #383838; stroke-width: 1.5;\" width=\"42\" x=\"44\" y=\"147\"/><text fill=\"#000000\" font-family=\"sans-serif\" font-size=\"12\" font-style=\"italic\" lengthAdjust=\"spacingAndGlyphs\" textLength=\"40\" x=\"45\" y=\"163.1387\">«part»</text><text fill=\"#000000\" font-family=\"sans-serif\" font-size=\"12\" lengthAdjust=\"spacingAndGlyphs\" textLength=\"8\" x=\"61\" y=\"177.1074\">g</text><line style=\"stroke: #383838; stroke-width: 1.5;\" x1=\"45\" x2=\"85\" y1=\"184.9375\" y2=\"184.9375\"/></a><!--MD5=[209b3feb70ccb6233bfe1053d122c12c]\n",
       "reverse link E2 to E3--><a href=\"psysml:71ed813c-2f6a-4d13-b6a9-9d55dbb4d689\" target=\"_top\" title=\"psysml:71ed813c-2f6a-4d13-b6a9-9d55dbb4d689\" xlink:actuate=\"onRequest\" xlink:href=\"psysml:71ed813c-2f6a-4d13-b6a9-9d55dbb4d689\" xlink:show=\"new\" xlink:title=\"psysml:71ed813c-2f6a-4d13-b6a9-9d55dbb4d689\" xlink:type=\"simple\"><path d=\"M154,100.44 C154,115.87 154,133.47 154,146.98 \" fill=\"none\" id=\"E2&lt;-E3\" style=\"stroke: #383838; stroke-width: 1.0;\"/><polygon fill=\"#383838\" points=\"154,87.06,150,93.06,154,99.06,158,93.06,154,87.06\" style=\"stroke: #383838; stroke-width: 1.0;\"/></a><!--MD5=[62aa6af11e70f752912c1cb0466f24f7]\n",
       "reverse link E4 to E5--><a href=\"psysml:66a9662c-d0de-409c-b1e7-d598996fdcb0\" target=\"_top\" title=\"psysml:66a9662c-d0de-409c-b1e7-d598996fdcb0\" xlink:actuate=\"onRequest\" xlink:href=\"psysml:66a9662c-d0de-409c-b1e7-d598996fdcb0\" xlink:show=\"new\" xlink:title=\"psysml:66a9662c-d0de-409c-b1e7-d598996fdcb0\" xlink:type=\"simple\"><path d=\"M65,100.44 C65,115.87 65,133.47 65,146.98 \" fill=\"none\" id=\"E4&lt;-E5\" style=\"stroke: #383838; stroke-width: 1.0;\"/><polygon fill=\"#383838\" points=\"65,87.06,61,93.06,65,99.06,69,93.06,65,87.06\" style=\"stroke: #383838; stroke-width: 1.0;\"/></a><!--MD5=[78d9fc3421348c05b12d6dabaf4b0f53]\n",
       "@startuml\r\n",
       "top to bottom direction\r\n",
       "skinparam monochrome true\r\n",
       "skinparam classbackgroundcolor white\r\n",
       "skinparam shadowing false\r\n",
       "skinparam wrapWidth 300\r\n",
       "hide circle\r\n",
       "\r\n",
       "package \"Q\" as E1  [[psysml:48e9f940-1f69-4218-811f-6a29c7cbfcb6 ]]  {\r\n",
       "comp usage \"f\" as E2  <<(T,blue)part>> [[psysml:a224f497-53a8-4c97-a678-1669f6411a1a ]] {\r\n",
       "}\r\n",
       "comp usage \"a\" as E3  <<(T,blue)part>> [[psysml:692e246d-2e17-48ff-a8f3-1c9cda9639f6 ]] {\r\n",
       "}\r\n",
       "comp def \"C\" as E4  <<(T,blue)part def>> [[psysml:8521a391-022b-403d-ab54-4e64ea01dd3a ]] {\r\n",
       "}\r\n",
       "comp usage \"g\" as E5  <<(T,blue)part>> [[psysml:7c666d7d-6a66-4269-8e3a-229640bb6ad0 ]] {\r\n",
       "}\r\n",
       "E2 *- - E3 [[psysml:71ed813c-2f6a-4d13-b6a9-9d55dbb4d689 ]] \r\n",
       "E4 *- - E5 [[psysml:66a9662c-d0de-409c-b1e7-d598996fdcb0 ]] \r\n",
       "}\r\n",
       "@enduml\r\n",
       "\n",
       "PlantUML version 1.2020.13(Sat Jun 13 12:26:38 UTC 2020)\n",
       "(EPL source distribution)\n",
       "Java Runtime: OpenJDK Runtime Environment\n",
       "JVM: OpenJDK 64-Bit Server VM\n",
       "Default Encoding: UTF-8\n",
       "Language: en\n",
       "Country: null\n",
       "--></g></svg>"
      ]
     },
     "execution_count": 44,
     "metadata": {},
     "output_type": "execute_result"
    }
   ],
   "source": [
    "%viz --style=\"TB\" --view=\"Default\" \"Q\""
   ]
  },
  {
   "cell_type": "code",
   "execution_count": 45,
   "id": "9d6b0fa3",
   "metadata": {
    "execution": {
     "iopub.execute_input": "2021-04-21T20:21:03.555359Z",
     "iopub.status.busy": "2021-04-21T20:21:03.554938Z",
     "iopub.status.idle": "2021-04-21T20:21:03.591389Z",
     "shell.execute_reply": "2021-04-21T20:21:03.589499Z"
    }
   },
   "outputs": [
    {
     "data": {
      "image/svg+xml": [
       "<?xml version=\"1.0\" encoding=\"UTF-8\" standalone=\"no\"?><svg xmlns=\"http://www.w3.org/2000/svg\" xmlns:xlink=\"http://www.w3.org/1999/xlink\" contentScriptType=\"application/ecmascript\" contentStyleType=\"text/css\" height=\"221px\" preserveAspectRatio=\"none\" style=\"width:213px;height:221px;\" version=\"1.1\" viewBox=\"0 0 213 221\" width=\"213px\" zoomAndPan=\"magnify\"><defs/><g><!--MD5=[fbc87193dbaf4d95561dea2c320d4a47]\n",
       "cluster E1--><a href=\"psysml:48e9f940-1f69-4218-811f-6a29c7cbfcb6\" target=\"_top\" title=\"psysml:48e9f940-1f69-4218-811f-6a29c7cbfcb6\" xlink:actuate=\"onRequest\" xlink:href=\"psysml:48e9f940-1f69-4218-811f-6a29c7cbfcb6\" xlink:show=\"new\" xlink:title=\"psysml:48e9f940-1f69-4218-811f-6a29c7cbfcb6\" xlink:type=\"simple\"><polygon fill=\"#FFFFFF\" points=\"16,6,34,6,41,28.2969,191,28.2969,191,209,16,209,16,6\" style=\"stroke: #000000; stroke-width: 1.5;\"/><line style=\"stroke: #000000; stroke-width: 1.5;\" x1=\"16\" x2=\"41\" y1=\"28.2969\" y2=\"28.2969\"/><text fill=\"#000000\" font-family=\"sans-serif\" font-size=\"14\" font-weight=\"bold\" lengthAdjust=\"spacingAndGlyphs\" textLength=\"12\" x=\"20\" y=\"20.9951\">Q</text></a><!--MD5=[b4997ac47864f28c2f74865a473b2911]\n",
       "class E2--><a href=\"psysml:a224f497-53a8-4c97-a678-1669f6411a1a\" target=\"_top\" title=\"psysml:a224f497-53a8-4c97-a678-1669f6411a1a\" xlink:actuate=\"onRequest\" xlink:href=\"psysml:a224f497-53a8-4c97-a678-1669f6411a1a\" xlink:show=\"new\" xlink:title=\"psysml:a224f497-53a8-4c97-a678-1669f6411a1a\" xlink:type=\"simple\"><rect fill=\"#FFFFFF\" height=\"45.9375\" id=\"E2\" rx=\"10\" ry=\"10\" style=\"stroke: #383838; stroke-width: 1.5;\" width=\"42\" x=\"133\" y=\"41\"/><text fill=\"#000000\" font-family=\"sans-serif\" font-size=\"12\" font-style=\"italic\" lengthAdjust=\"spacingAndGlyphs\" textLength=\"40\" x=\"134\" y=\"57.1387\">«part»</text><text fill=\"#000000\" font-family=\"sans-serif\" font-size=\"12\" lengthAdjust=\"spacingAndGlyphs\" textLength=\"4\" x=\"152\" y=\"71.1074\">f</text><line style=\"stroke: #383838; stroke-width: 1.5;\" x1=\"134\" x2=\"174\" y1=\"78.9375\" y2=\"78.9375\"/></a><!--MD5=[09b614a08d8cba4a07c9adeb5e0fee81]\n",
       "class E3--><a href=\"psysml:692e246d-2e17-48ff-a8f3-1c9cda9639f6\" target=\"_top\" title=\"psysml:692e246d-2e17-48ff-a8f3-1c9cda9639f6\" xlink:actuate=\"onRequest\" xlink:href=\"psysml:692e246d-2e17-48ff-a8f3-1c9cda9639f6\" xlink:show=\"new\" xlink:title=\"psysml:692e246d-2e17-48ff-a8f3-1c9cda9639f6\" xlink:type=\"simple\"><rect fill=\"#FFFFFF\" height=\"45.9375\" id=\"E3\" rx=\"10\" ry=\"10\" style=\"stroke: #383838; stroke-width: 1.5;\" width=\"42\" x=\"133\" y=\"147\"/><text fill=\"#000000\" font-family=\"sans-serif\" font-size=\"12\" font-style=\"italic\" lengthAdjust=\"spacingAndGlyphs\" textLength=\"40\" x=\"134\" y=\"163.1387\">«part»</text><text fill=\"#000000\" font-family=\"sans-serif\" font-size=\"12\" lengthAdjust=\"spacingAndGlyphs\" textLength=\"8\" x=\"150\" y=\"177.1074\">a</text><line style=\"stroke: #383838; stroke-width: 1.5;\" x1=\"134\" x2=\"174\" y1=\"184.9375\" y2=\"184.9375\"/></a><!--MD5=[ebbe1d658d1005bcc118a6aa81145e00]\n",
       "class E4--><a href=\"psysml:8521a391-022b-403d-ab54-4e64ea01dd3a\" target=\"_top\" title=\"psysml:8521a391-022b-403d-ab54-4e64ea01dd3a\" xlink:actuate=\"onRequest\" xlink:href=\"psysml:8521a391-022b-403d-ab54-4e64ea01dd3a\" xlink:show=\"new\" xlink:title=\"psysml:8521a391-022b-403d-ab54-4e64ea01dd3a\" xlink:type=\"simple\"><rect fill=\"#FFFFFF\" height=\"45.9375\" id=\"E4\" style=\"stroke: #383838; stroke-width: 1.5;\" width=\"66\" x=\"32\" y=\"41\"/><text fill=\"#000000\" font-family=\"sans-serif\" font-size=\"12\" font-style=\"italic\" lengthAdjust=\"spacingAndGlyphs\" textLength=\"64\" x=\"33\" y=\"57.1387\">«part def»</text><text fill=\"#000000\" font-family=\"sans-serif\" font-size=\"12\" lengthAdjust=\"spacingAndGlyphs\" textLength=\"8\" x=\"61\" y=\"71.1074\">C</text><line style=\"stroke: #383838; stroke-width: 1.5;\" x1=\"33\" x2=\"97\" y1=\"78.9375\" y2=\"78.9375\"/></a><!--MD5=[270fce915f116d4de14055a7c1d9a0f3]\n",
       "class E5--><a href=\"psysml:7c666d7d-6a66-4269-8e3a-229640bb6ad0\" target=\"_top\" title=\"psysml:7c666d7d-6a66-4269-8e3a-229640bb6ad0\" xlink:actuate=\"onRequest\" xlink:href=\"psysml:7c666d7d-6a66-4269-8e3a-229640bb6ad0\" xlink:show=\"new\" xlink:title=\"psysml:7c666d7d-6a66-4269-8e3a-229640bb6ad0\" xlink:type=\"simple\"><rect fill=\"#FFFFFF\" height=\"45.9375\" id=\"E5\" rx=\"10\" ry=\"10\" style=\"stroke: #383838; stroke-width: 1.5;\" width=\"42\" x=\"44\" y=\"147\"/><text fill=\"#000000\" font-family=\"sans-serif\" font-size=\"12\" font-style=\"italic\" lengthAdjust=\"spacingAndGlyphs\" textLength=\"40\" x=\"45\" y=\"163.1387\">«part»</text><text fill=\"#000000\" font-family=\"sans-serif\" font-size=\"12\" lengthAdjust=\"spacingAndGlyphs\" textLength=\"8\" x=\"61\" y=\"177.1074\">g</text><line style=\"stroke: #383838; stroke-width: 1.5;\" x1=\"45\" x2=\"85\" y1=\"184.9375\" y2=\"184.9375\"/></a><!--MD5=[209b3feb70ccb6233bfe1053d122c12c]\n",
       "reverse link E2 to E3--><a href=\"psysml:71ed813c-2f6a-4d13-b6a9-9d55dbb4d689\" target=\"_top\" title=\"psysml:71ed813c-2f6a-4d13-b6a9-9d55dbb4d689\" xlink:actuate=\"onRequest\" xlink:href=\"psysml:71ed813c-2f6a-4d13-b6a9-9d55dbb4d689\" xlink:show=\"new\" xlink:title=\"psysml:71ed813c-2f6a-4d13-b6a9-9d55dbb4d689\" xlink:type=\"simple\"><path d=\"M154,100.44 C154,115.87 154,133.47 154,146.98 \" fill=\"none\" id=\"E2&lt;-E3\" style=\"stroke: #383838; stroke-width: 1.0;\"/><polygon fill=\"#383838\" points=\"154,87.06,150,93.06,154,99.06,158,93.06,154,87.06\" style=\"stroke: #383838; stroke-width: 1.0;\"/></a><!--MD5=[62aa6af11e70f752912c1cb0466f24f7]\n",
       "reverse link E4 to E5--><a href=\"psysml:66a9662c-d0de-409c-b1e7-d598996fdcb0\" target=\"_top\" title=\"psysml:66a9662c-d0de-409c-b1e7-d598996fdcb0\" xlink:actuate=\"onRequest\" xlink:href=\"psysml:66a9662c-d0de-409c-b1e7-d598996fdcb0\" xlink:show=\"new\" xlink:title=\"psysml:66a9662c-d0de-409c-b1e7-d598996fdcb0\" xlink:type=\"simple\"><path d=\"M65,100.44 C65,115.87 65,133.47 65,146.98 \" fill=\"none\" id=\"E4&lt;-E5\" style=\"stroke: #383838; stroke-width: 1.0;\"/><polygon fill=\"#383838\" points=\"65,87.06,61,93.06,65,99.06,69,93.06,65,87.06\" style=\"stroke: #383838; stroke-width: 1.0;\"/></a><!--MD5=[78d9fc3421348c05b12d6dabaf4b0f53]\n",
       "@startuml\r\n",
       "top to bottom direction\r\n",
       "skinparam monochrome true\r\n",
       "skinparam classbackgroundcolor white\r\n",
       "skinparam shadowing false\r\n",
       "skinparam wrapWidth 300\r\n",
       "hide circle\r\n",
       "\r\n",
       "package \"Q\" as E1  [[psysml:48e9f940-1f69-4218-811f-6a29c7cbfcb6 ]]  {\r\n",
       "comp usage \"f\" as E2  <<(T,blue)part>> [[psysml:a224f497-53a8-4c97-a678-1669f6411a1a ]] {\r\n",
       "}\r\n",
       "comp usage \"a\" as E3  <<(T,blue)part>> [[psysml:692e246d-2e17-48ff-a8f3-1c9cda9639f6 ]] {\r\n",
       "}\r\n",
       "comp def \"C\" as E4  <<(T,blue)part def>> [[psysml:8521a391-022b-403d-ab54-4e64ea01dd3a ]] {\r\n",
       "}\r\n",
       "comp usage \"g\" as E5  <<(T,blue)part>> [[psysml:7c666d7d-6a66-4269-8e3a-229640bb6ad0 ]] {\r\n",
       "}\r\n",
       "E2 *- - E3 [[psysml:71ed813c-2f6a-4d13-b6a9-9d55dbb4d689 ]] \r\n",
       "E4 *- - E5 [[psysml:66a9662c-d0de-409c-b1e7-d598996fdcb0 ]] \r\n",
       "}\r\n",
       "@enduml\r\n",
       "\n",
       "PlantUML version 1.2020.13(Sat Jun 13 12:26:38 UTC 2020)\n",
       "(EPL source distribution)\n",
       "Java Runtime: OpenJDK Runtime Environment\n",
       "JVM: OpenJDK 64-Bit Server VM\n",
       "Default Encoding: UTF-8\n",
       "Language: en\n",
       "Country: null\n",
       "--></g></svg>"
      ]
     },
     "execution_count": 45,
     "metadata": {},
     "output_type": "execute_result"
    }
   ],
   "source": [
    "%viz --style=\"TB\" --view=\"Tree\" \"Q\""
   ]
  },
  {
   "cell_type": "code",
   "execution_count": 46,
   "id": "7d1b4dee",
   "metadata": {
    "execution": {
     "iopub.execute_input": "2021-04-21T20:21:03.644248Z",
     "iopub.status.busy": "2021-04-21T20:21:03.643862Z",
     "iopub.status.idle": "2021-04-21T20:21:03.651694Z",
     "shell.execute_reply": "2021-04-21T20:21:03.651366Z"
    }
   },
   "outputs": [
    {
     "data": {
      "image/svg+xml": [
       "<?xml version=\"1.0\" encoding=\"UTF-8\" standalone=\"no\"?><svg xmlns=\"http://www.w3.org/2000/svg\" xmlns:xlink=\"http://www.w3.org/1999/xlink\" contentScriptType=\"application/ecmascript\" contentStyleType=\"text/css\" height=\"12px\" preserveAspectRatio=\"none\" style=\"width:12px;height:12px;\" version=\"1.1\" viewBox=\"0 0 12 12\" width=\"12px\" zoomAndPan=\"magnify\"><defs/><g><!--MD5=[f4ee21bc66e489b5061b7c3e9601fdef]\n",
       "@startuml\r\n",
       "top to bottom direction\r\n",
       "skinparam monochrome true\r\n",
       "skinparam classbackgroundcolor white\r\n",
       "skinparam shadowing false\r\n",
       "skinparam wrapWidth 300\r\n",
       "hide circle\r\n",
       "\r\n",
       "@enduml\r\n",
       "\n",
       "PlantUML version 1.2020.13(Sat Jun 13 12:26:38 UTC 2020)\n",
       "(EPL source distribution)\n",
       "Java Runtime: OpenJDK Runtime Environment\n",
       "JVM: OpenJDK 64-Bit Server VM\n",
       "Default Encoding: UTF-8\n",
       "Language: en\n",
       "Country: null\n",
       "--></g></svg>"
      ]
     },
     "execution_count": 46,
     "metadata": {},
     "output_type": "execute_result"
    }
   ],
   "source": [
    "%viz --style=\"TB\" --view=\"State\" \"Q\""
   ]
  },
  {
   "cell_type": "code",
   "execution_count": 47,
   "id": "245b2284",
   "metadata": {
    "execution": {
     "iopub.execute_input": "2021-04-21T20:21:03.705503Z",
     "iopub.status.busy": "2021-04-21T20:21:03.705123Z",
     "iopub.status.idle": "2021-04-21T20:21:03.732259Z",
     "shell.execute_reply": "2021-04-21T20:21:03.731918Z"
    }
   },
   "outputs": [
    {
     "data": {
      "image/svg+xml": [
       "<?xml version=\"1.0\" encoding=\"UTF-8\" standalone=\"no\"?><svg xmlns=\"http://www.w3.org/2000/svg\" xmlns:xlink=\"http://www.w3.org/1999/xlink\" contentScriptType=\"application/ecmascript\" contentStyleType=\"text/css\" height=\"192px\" preserveAspectRatio=\"none\" style=\"width:286px;height:192px;\" version=\"1.1\" viewBox=\"0 0 286 192\" width=\"286px\" zoomAndPan=\"magnify\"><defs/><g><!--MD5=[fbc87193dbaf4d95561dea2c320d4a47]\n",
       "cluster E1--><a href=\"psysml:48e9f940-1f69-4218-811f-6a29c7cbfcb6\" target=\"_top\" title=\"psysml:48e9f940-1f69-4218-811f-6a29c7cbfcb6\" xlink:actuate=\"onRequest\" xlink:href=\"psysml:48e9f940-1f69-4218-811f-6a29c7cbfcb6\" xlink:show=\"new\" xlink:title=\"psysml:48e9f940-1f69-4218-811f-6a29c7cbfcb6\" xlink:type=\"simple\"><polygon fill=\"#FFFFFF\" points=\"16,6,34,6,41,28.2969,264,28.2969,264,180,16,180,16,6\" style=\"stroke: #000000; stroke-width: 1.5;\"/><line style=\"stroke: #000000; stroke-width: 1.5;\" x1=\"16\" x2=\"41\" y1=\"28.2969\" y2=\"28.2969\"/><text fill=\"#000000\" font-family=\"sans-serif\" font-size=\"14\" font-weight=\"bold\" lengthAdjust=\"spacingAndGlyphs\" textLength=\"12\" x=\"20\" y=\"20.9951\">Q</text></a><!--MD5=[e4f7fae6ed58524ba242bb0b0d3be6b7]\n",
       "cluster E2--><a href=\"psysml:a224f497-53a8-4c97-a678-1669f6411a1a\" target=\"_top\" title=\"psysml:a224f497-53a8-4c97-a678-1669f6411a1a\" xlink:actuate=\"onRequest\" xlink:href=\"psysml:a224f497-53a8-4c97-a678-1669f6411a1a\" xlink:show=\"new\" xlink:title=\"psysml:a224f497-53a8-4c97-a678-1669f6411a1a\" xlink:type=\"simple\"><rect fill=\"#FFFFFF\" height=\"91\" id=\"E2\" rx=\"10\" ry=\"10\" style=\"stroke: #383838; stroke-width: 1.5;\" width=\"82\" x=\"158\" y=\"65\"/><rect fill=\"#F8F8F8\" height=\"23.9688\" rx=\"10\" ry=\"10\" style=\"stroke: #F8F8F8; stroke-width: 1.5;\" width=\"82\" x=\"158\" y=\"65\"/><rect fill=\"#F8F8F8\" height=\"10\" style=\"stroke: #F8F8F8; stroke-width: 1.5;\" width=\"82\" x=\"158\" y=\"78.9688\"/><rect fill=\"none\" height=\"91\" id=\"E2\" rx=\"10\" ry=\"10\" style=\"stroke: #383838; stroke-width: 1.5;\" width=\"82\" x=\"158\" y=\"65\"/><text fill=\"#000000\" font-family=\"sans-serif\" font-size=\"12\" lengthAdjust=\"spacingAndGlyphs\" textLength=\"4\" x=\"197\" y=\"81.1387\">f</text><line style=\"stroke: #383838; stroke-width: 1.0;\" x1=\"158\" x2=\"240\" y1=\"88.9688\" y2=\"88.9688\"/></a><!--MD5=[f6df4d0ebaf0b5dfb2ced0ae5af7c670]\n",
       "cluster E4--><a href=\"psysml:8521a391-022b-403d-ab54-4e64ea01dd3a\" target=\"_top\" title=\"psysml:8521a391-022b-403d-ab54-4e64ea01dd3a\" xlink:actuate=\"onRequest\" xlink:href=\"psysml:8521a391-022b-403d-ab54-4e64ea01dd3a\" xlink:show=\"new\" xlink:title=\"psysml:8521a391-022b-403d-ab54-4e64ea01dd3a\" xlink:type=\"simple\"><rect fill=\"#FFFFFF\" height=\"107\" id=\"E4\" style=\"stroke: #383838; stroke-width: 1.5;\" width=\"94\" x=\"40\" y=\"49\"/><rect fill=\"#F8F8F8\" height=\"37.9375\" style=\"stroke: #383838; stroke-width: 1.5;\" width=\"94\" x=\"40\" y=\"49\"/><text fill=\"#000000\" font-family=\"sans-serif\" font-size=\"12\" font-style=\"italic\" lengthAdjust=\"spacingAndGlyphs\" textLength=\"64\" x=\"55\" y=\"65.1387\">«part def»</text><text fill=\"#000000\" font-family=\"sans-serif\" font-size=\"12\" lengthAdjust=\"spacingAndGlyphs\" textLength=\"8\" x=\"83\" y=\"79.1074\">C</text></a><g id=\"E1.E2.E3\"><a href=\"psysml:692e246d-2e17-48ff-a8f3-1c9cda9639f6\" target=\"_top\" title=\"psysml:692e246d-2e17-48ff-a8f3-1c9cda9639f6\" xlink:actuate=\"onRequest\" xlink:href=\"psysml:692e246d-2e17-48ff-a8f3-1c9cda9639f6\" xlink:show=\"new\" xlink:title=\"psysml:692e246d-2e17-48ff-a8f3-1c9cda9639f6\" xlink:type=\"simple\"><rect fill=\"#FFFFFF\" height=\"40\" id=\"E3\" rx=\"10\" ry=\"10\" style=\"stroke: #383838; stroke-width: 1.5;\" width=\"50\" x=\"174\" y=\"100\"/><rect fill=\"#F8F8F8\" height=\"23.9688\" rx=\"10\" ry=\"10\" style=\"stroke: #F8F8F8; stroke-width: 1.5;\" width=\"50\" x=\"174\" y=\"100\"/><rect fill=\"#F8F8F8\" height=\"10\" style=\"stroke: #F8F8F8; stroke-width: 1.5;\" width=\"50\" x=\"174\" y=\"113.9688\"/><rect fill=\"none\" height=\"40\" id=\"E3\" rx=\"10\" ry=\"10\" style=\"stroke: #383838; stroke-width: 1.5;\" width=\"50\" x=\"174\" y=\"100\"/><text fill=\"#000000\" font-family=\"sans-serif\" font-size=\"12\" lengthAdjust=\"spacingAndGlyphs\" textLength=\"8\" x=\"195\" y=\"116.1387\">a</text></a></g><g id=\"E1.E4.E5\"><a href=\"psysml:7c666d7d-6a66-4269-8e3a-229640bb6ad0\" target=\"_top\" title=\"psysml:7c666d7d-6a66-4269-8e3a-229640bb6ad0\" xlink:actuate=\"onRequest\" xlink:href=\"psysml:7c666d7d-6a66-4269-8e3a-229640bb6ad0\" xlink:show=\"new\" xlink:title=\"psysml:7c666d7d-6a66-4269-8e3a-229640bb6ad0\" xlink:type=\"simple\"><rect fill=\"#FFFFFF\" height=\"40\" id=\"E5\" rx=\"10\" ry=\"10\" style=\"stroke: #383838; stroke-width: 1.5;\" width=\"61\" x=\"56.5\" y=\"100\"/><rect fill=\"#F8F8F8\" height=\"23.9688\" rx=\"10\" ry=\"10\" style=\"stroke: #F8F8F8; stroke-width: 1.5;\" width=\"61\" x=\"56.5\" y=\"100\"/><rect fill=\"#F8F8F8\" height=\"10\" style=\"stroke: #F8F8F8; stroke-width: 1.5;\" width=\"61\" x=\"56.5\" y=\"113.9688\"/><rect fill=\"none\" height=\"40\" id=\"E5\" rx=\"10\" ry=\"10\" style=\"stroke: #383838; stroke-width: 1.5;\" width=\"61\" x=\"56.5\" y=\"100\"/><text fill=\"#000000\" font-family=\"sans-serif\" font-size=\"12\" lengthAdjust=\"spacingAndGlyphs\" textLength=\"46\" x=\"62\" y=\"116.1387\">g=./f/a;</text></a></g><!--MD5=[f0f3d2b3e576c2683b5b80e4c4a64959]\n",
       "@startuml\r\n",
       "skinparam ranksep 10\r\n",
       "skinparam rectangle {\r\n",
       " backgroundColor<<block>> LightGreen\r\n",
       "}\r\n",
       "top to bottom direction\r\n",
       "skinparam monochrome true\r\n",
       "skinparam classbackgroundcolor white\r\n",
       "skinparam shadowing false\r\n",
       "skinparam wrapWidth 300\r\n",
       "hide circle\r\n",
       "\r\n",
       "package \"Q\" as E1  [[psysml:48e9f940-1f69-4218-811f-6a29c7cbfcb6 ]]  {\r\n",
       "rec usage \"f\" as E2  [[psysml:a224f497-53a8-4c97-a678-1669f6411a1a ]] {\r\n",
       "rec usage \"a\" as E3  [[psysml:692e246d-2e17-48ff-a8f3-1c9cda9639f6 ]] {\r\n",
       "}\r\n",
       "}\r\n",
       "rec def \"C\" as E4  <<(T,blue)part def>> [[psysml:8521a391-022b-403d-ab54-4e64ea01dd3a ]] {\r\n",
       "rec usage \"g=./f/a; \" as E5  [[psysml:7c666d7d-6a66-4269-8e3a-229640bb6ad0 ]] {\r\n",
       "}\r\n",
       "}\r\n",
       "}\r\n",
       "@enduml\r\n",
       "\n",
       "PlantUML version 1.2020.13(Sat Jun 13 12:26:38 UTC 2020)\n",
       "(EPL source distribution)\n",
       "Java Runtime: OpenJDK Runtime Environment\n",
       "JVM: OpenJDK 64-Bit Server VM\n",
       "Default Encoding: UTF-8\n",
       "Language: en\n",
       "Country: null\n",
       "--></g></svg>"
      ]
     },
     "execution_count": 47,
     "metadata": {},
     "output_type": "execute_result"
    }
   ],
   "source": [
    "%viz --style=\"TB\" --view=\"Interconnection\" \"Q\""
   ]
  },
  {
   "cell_type": "code",
   "execution_count": 48,
   "id": "6fac1bfd",
   "metadata": {
    "execution": {
     "iopub.execute_input": "2021-04-21T20:21:03.783454Z",
     "iopub.status.busy": "2021-04-21T20:21:03.782925Z",
     "iopub.status.idle": "2021-04-21T20:21:03.788593Z",
     "shell.execute_reply": "2021-04-21T20:21:03.788261Z"
    }
   },
   "outputs": [
    {
     "data": {
      "image/svg+xml": [
       "<?xml version=\"1.0\" encoding=\"UTF-8\" standalone=\"no\"?><svg xmlns=\"http://www.w3.org/2000/svg\" xmlns:xlink=\"http://www.w3.org/1999/xlink\" contentScriptType=\"application/ecmascript\" contentStyleType=\"text/css\" height=\"12px\" preserveAspectRatio=\"none\" style=\"width:12px;height:12px;\" version=\"1.1\" viewBox=\"0 0 12 12\" width=\"12px\" zoomAndPan=\"magnify\"><defs/><g><!--MD5=[06afc254b03ac5e9d9fb7773b07d0800]\n",
       "@startuml\r\n",
       "skinparam ranksep 8\r\n",
       "top to bottom direction\r\n",
       "skinparam monochrome true\r\n",
       "skinparam classbackgroundcolor white\r\n",
       "skinparam shadowing false\r\n",
       "skinparam wrapWidth 300\r\n",
       "hide circle\r\n",
       "\r\n",
       "@enduml\r\n",
       "\n",
       "PlantUML version 1.2020.13(Sat Jun 13 12:26:38 UTC 2020)\n",
       "(EPL source distribution)\n",
       "Java Runtime: OpenJDK Runtime Environment\n",
       "JVM: OpenJDK 64-Bit Server VM\n",
       "Default Encoding: UTF-8\n",
       "Language: en\n",
       "Country: null\n",
       "--></g></svg>"
      ]
     },
     "execution_count": 48,
     "metadata": {},
     "output_type": "execute_result"
    }
   ],
   "source": [
    "%viz --style=\"TB\" --view=\"Action\" \"Q\""
   ]
  },
  {
   "cell_type": "code",
   "execution_count": 49,
   "id": "36342fad",
   "metadata": {
    "execution": {
     "iopub.execute_input": "2021-04-21T20:21:03.839223Z",
     "iopub.status.busy": "2021-04-21T20:21:03.838838Z",
     "iopub.status.idle": "2021-04-21T20:21:03.867228Z",
     "shell.execute_reply": "2021-04-21T20:21:03.866097Z"
    }
   },
   "outputs": [
    {
     "data": {
      "image/svg+xml": [
       "<?xml version=\"1.0\" encoding=\"UTF-8\" standalone=\"no\"?><svg xmlns=\"http://www.w3.org/2000/svg\" xmlns:xlink=\"http://www.w3.org/1999/xlink\" contentScriptType=\"application/ecmascript\" contentStyleType=\"text/css\" height=\"221px\" preserveAspectRatio=\"none\" style=\"width:213px;height:221px;\" version=\"1.1\" viewBox=\"0 0 213 221\" width=\"213px\" zoomAndPan=\"magnify\"><defs/><g><!--MD5=[fbc87193dbaf4d95561dea2c320d4a47]\n",
       "cluster E1--><a href=\"psysml:48e9f940-1f69-4218-811f-6a29c7cbfcb6\" target=\"_top\" title=\"psysml:48e9f940-1f69-4218-811f-6a29c7cbfcb6\" xlink:actuate=\"onRequest\" xlink:href=\"psysml:48e9f940-1f69-4218-811f-6a29c7cbfcb6\" xlink:show=\"new\" xlink:title=\"psysml:48e9f940-1f69-4218-811f-6a29c7cbfcb6\" xlink:type=\"simple\"><polygon fill=\"#FFFFFF\" points=\"16,6,34,6,41,28.2969,191,28.2969,191,209,16,209,16,6\" style=\"stroke: #000000; stroke-width: 1.5;\"/><line style=\"stroke: #000000; stroke-width: 1.5;\" x1=\"16\" x2=\"41\" y1=\"28.2969\" y2=\"28.2969\"/><text fill=\"#000000\" font-family=\"sans-serif\" font-size=\"14\" font-weight=\"bold\" lengthAdjust=\"spacingAndGlyphs\" textLength=\"12\" x=\"20\" y=\"20.9951\">Q</text></a><!--MD5=[b4997ac47864f28c2f74865a473b2911]\n",
       "class E2--><a href=\"psysml:a224f497-53a8-4c97-a678-1669f6411a1a\" target=\"_top\" title=\"psysml:a224f497-53a8-4c97-a678-1669f6411a1a\" xlink:actuate=\"onRequest\" xlink:href=\"psysml:a224f497-53a8-4c97-a678-1669f6411a1a\" xlink:show=\"new\" xlink:title=\"psysml:a224f497-53a8-4c97-a678-1669f6411a1a\" xlink:type=\"simple\"><rect fill=\"#FFFFFF\" height=\"45.9375\" id=\"E2\" rx=\"10\" ry=\"10\" style=\"stroke: #383838; stroke-width: 1.5;\" width=\"42\" x=\"133\" y=\"41\"/><text fill=\"#000000\" font-family=\"sans-serif\" font-size=\"12\" font-style=\"italic\" lengthAdjust=\"spacingAndGlyphs\" textLength=\"40\" x=\"134\" y=\"57.1387\">«part»</text><text fill=\"#000000\" font-family=\"sans-serif\" font-size=\"12\" lengthAdjust=\"spacingAndGlyphs\" textLength=\"4\" x=\"152\" y=\"71.1074\">f</text><line style=\"stroke: #383838; stroke-width: 1.5;\" x1=\"134\" x2=\"174\" y1=\"78.9375\" y2=\"78.9375\"/></a><!--MD5=[09b614a08d8cba4a07c9adeb5e0fee81]\n",
       "class E3--><a href=\"psysml:692e246d-2e17-48ff-a8f3-1c9cda9639f6\" target=\"_top\" title=\"psysml:692e246d-2e17-48ff-a8f3-1c9cda9639f6\" xlink:actuate=\"onRequest\" xlink:href=\"psysml:692e246d-2e17-48ff-a8f3-1c9cda9639f6\" xlink:show=\"new\" xlink:title=\"psysml:692e246d-2e17-48ff-a8f3-1c9cda9639f6\" xlink:type=\"simple\"><rect fill=\"#FFFFFF\" height=\"45.9375\" id=\"E3\" rx=\"10\" ry=\"10\" style=\"stroke: #383838; stroke-width: 1.5;\" width=\"42\" x=\"133\" y=\"147\"/><text fill=\"#000000\" font-family=\"sans-serif\" font-size=\"12\" font-style=\"italic\" lengthAdjust=\"spacingAndGlyphs\" textLength=\"40\" x=\"134\" y=\"163.1387\">«part»</text><text fill=\"#000000\" font-family=\"sans-serif\" font-size=\"12\" lengthAdjust=\"spacingAndGlyphs\" textLength=\"8\" x=\"150\" y=\"177.1074\">a</text><line style=\"stroke: #383838; stroke-width: 1.5;\" x1=\"134\" x2=\"174\" y1=\"184.9375\" y2=\"184.9375\"/></a><!--MD5=[ebbe1d658d1005bcc118a6aa81145e00]\n",
       "class E4--><a href=\"psysml:8521a391-022b-403d-ab54-4e64ea01dd3a\" target=\"_top\" title=\"psysml:8521a391-022b-403d-ab54-4e64ea01dd3a\" xlink:actuate=\"onRequest\" xlink:href=\"psysml:8521a391-022b-403d-ab54-4e64ea01dd3a\" xlink:show=\"new\" xlink:title=\"psysml:8521a391-022b-403d-ab54-4e64ea01dd3a\" xlink:type=\"simple\"><rect fill=\"#FFFFFF\" height=\"45.9375\" id=\"E4\" style=\"stroke: #383838; stroke-width: 1.5;\" width=\"66\" x=\"32\" y=\"41\"/><text fill=\"#000000\" font-family=\"sans-serif\" font-size=\"12\" font-style=\"italic\" lengthAdjust=\"spacingAndGlyphs\" textLength=\"64\" x=\"33\" y=\"57.1387\">«part def»</text><text fill=\"#000000\" font-family=\"sans-serif\" font-size=\"12\" lengthAdjust=\"spacingAndGlyphs\" textLength=\"8\" x=\"61\" y=\"71.1074\">C</text><line style=\"stroke: #383838; stroke-width: 1.5;\" x1=\"33\" x2=\"97\" y1=\"78.9375\" y2=\"78.9375\"/></a><!--MD5=[270fce915f116d4de14055a7c1d9a0f3]\n",
       "class E5--><a href=\"psysml:7c666d7d-6a66-4269-8e3a-229640bb6ad0\" target=\"_top\" title=\"psysml:7c666d7d-6a66-4269-8e3a-229640bb6ad0\" xlink:actuate=\"onRequest\" xlink:href=\"psysml:7c666d7d-6a66-4269-8e3a-229640bb6ad0\" xlink:show=\"new\" xlink:title=\"psysml:7c666d7d-6a66-4269-8e3a-229640bb6ad0\" xlink:type=\"simple\"><rect fill=\"#FFFFFF\" height=\"45.9375\" id=\"E5\" rx=\"10\" ry=\"10\" style=\"stroke: #383838; stroke-width: 1.5;\" width=\"42\" x=\"44\" y=\"147\"/><text fill=\"#000000\" font-family=\"sans-serif\" font-size=\"12\" font-style=\"italic\" lengthAdjust=\"spacingAndGlyphs\" textLength=\"40\" x=\"45\" y=\"163.1387\">«part»</text><text fill=\"#000000\" font-family=\"sans-serif\" font-size=\"12\" lengthAdjust=\"spacingAndGlyphs\" textLength=\"8\" x=\"61\" y=\"177.1074\">g</text><line style=\"stroke: #383838; stroke-width: 1.5;\" x1=\"45\" x2=\"85\" y1=\"184.9375\" y2=\"184.9375\"/></a><!--MD5=[209b3feb70ccb6233bfe1053d122c12c]\n",
       "reverse link E2 to E3--><a href=\"psysml:71ed813c-2f6a-4d13-b6a9-9d55dbb4d689\" target=\"_top\" title=\"psysml:71ed813c-2f6a-4d13-b6a9-9d55dbb4d689\" xlink:actuate=\"onRequest\" xlink:href=\"psysml:71ed813c-2f6a-4d13-b6a9-9d55dbb4d689\" xlink:show=\"new\" xlink:title=\"psysml:71ed813c-2f6a-4d13-b6a9-9d55dbb4d689\" xlink:type=\"simple\"><path d=\"M154,100.44 C154,115.87 154,133.47 154,146.98 \" fill=\"none\" id=\"E2&lt;-E3\" style=\"stroke: #383838; stroke-width: 1.0;\"/><polygon fill=\"#383838\" points=\"154,87.06,150,93.06,154,99.06,158,93.06,154,87.06\" style=\"stroke: #383838; stroke-width: 1.0;\"/></a><!--MD5=[62aa6af11e70f752912c1cb0466f24f7]\n",
       "reverse link E4 to E5--><a href=\"psysml:66a9662c-d0de-409c-b1e7-d598996fdcb0\" target=\"_top\" title=\"psysml:66a9662c-d0de-409c-b1e7-d598996fdcb0\" xlink:actuate=\"onRequest\" xlink:href=\"psysml:66a9662c-d0de-409c-b1e7-d598996fdcb0\" xlink:show=\"new\" xlink:title=\"psysml:66a9662c-d0de-409c-b1e7-d598996fdcb0\" xlink:type=\"simple\"><path d=\"M65,100.44 C65,115.87 65,133.47 65,146.98 \" fill=\"none\" id=\"E4&lt;-E5\" style=\"stroke: #383838; stroke-width: 1.0;\"/><polygon fill=\"#383838\" points=\"65,87.06,61,93.06,65,99.06,69,93.06,65,87.06\" style=\"stroke: #383838; stroke-width: 1.0;\"/></a><!--MD5=[78d9fc3421348c05b12d6dabaf4b0f53]\n",
       "@startuml\r\n",
       "top to bottom direction\r\n",
       "skinparam monochrome true\r\n",
       "skinparam classbackgroundcolor white\r\n",
       "skinparam shadowing false\r\n",
       "skinparam wrapWidth 300\r\n",
       "hide circle\r\n",
       "\r\n",
       "package \"Q\" as E1  [[psysml:48e9f940-1f69-4218-811f-6a29c7cbfcb6 ]]  {\r\n",
       "comp usage \"f\" as E2  <<(T,blue)part>> [[psysml:a224f497-53a8-4c97-a678-1669f6411a1a ]] {\r\n",
       "}\r\n",
       "comp usage \"a\" as E3  <<(T,blue)part>> [[psysml:692e246d-2e17-48ff-a8f3-1c9cda9639f6 ]] {\r\n",
       "}\r\n",
       "comp def \"C\" as E4  <<(T,blue)part def>> [[psysml:8521a391-022b-403d-ab54-4e64ea01dd3a ]] {\r\n",
       "}\r\n",
       "comp usage \"g\" as E5  <<(T,blue)part>> [[psysml:7c666d7d-6a66-4269-8e3a-229640bb6ad0 ]] {\r\n",
       "}\r\n",
       "E2 *- - E3 [[psysml:71ed813c-2f6a-4d13-b6a9-9d55dbb4d689 ]] \r\n",
       "E4 *- - E5 [[psysml:66a9662c-d0de-409c-b1e7-d598996fdcb0 ]] \r\n",
       "}\r\n",
       "@enduml\r\n",
       "\n",
       "PlantUML version 1.2020.13(Sat Jun 13 12:26:38 UTC 2020)\n",
       "(EPL source distribution)\n",
       "Java Runtime: OpenJDK Runtime Environment\n",
       "JVM: OpenJDK 64-Bit Server VM\n",
       "Default Encoding: UTF-8\n",
       "Language: en\n",
       "Country: null\n",
       "--></g></svg>"
      ]
     },
     "execution_count": 49,
     "metadata": {},
     "output_type": "execute_result"
    }
   ],
   "source": [
    "%viz --style=\"TB\" --view=\"Sequence\" \"Q\""
   ]
  },
  {
   "cell_type": "code",
   "execution_count": 50,
   "id": "026c011a",
   "metadata": {
    "execution": {
     "iopub.execute_input": "2021-04-21T20:21:03.918112Z",
     "iopub.status.busy": "2021-04-21T20:21:03.917619Z",
     "iopub.status.idle": "2021-04-21T20:21:03.943079Z",
     "shell.execute_reply": "2021-04-21T20:21:03.941929Z"
    }
   },
   "outputs": [
    {
     "data": {
      "image/svg+xml": [
       "<?xml version=\"1.0\" encoding=\"UTF-8\" standalone=\"no\"?><svg xmlns=\"http://www.w3.org/2000/svg\" xmlns:xlink=\"http://www.w3.org/1999/xlink\" contentScriptType=\"application/ecmascript\" contentStyleType=\"text/css\" height=\"221px\" preserveAspectRatio=\"none\" style=\"width:213px;height:221px;\" version=\"1.1\" viewBox=\"0 0 213 221\" width=\"213px\" zoomAndPan=\"magnify\"><defs/><g><!--MD5=[fbc87193dbaf4d95561dea2c320d4a47]\n",
       "cluster E1--><a href=\"psysml:48e9f940-1f69-4218-811f-6a29c7cbfcb6\" target=\"_top\" title=\"psysml:48e9f940-1f69-4218-811f-6a29c7cbfcb6\" xlink:actuate=\"onRequest\" xlink:href=\"psysml:48e9f940-1f69-4218-811f-6a29c7cbfcb6\" xlink:show=\"new\" xlink:title=\"psysml:48e9f940-1f69-4218-811f-6a29c7cbfcb6\" xlink:type=\"simple\"><polygon fill=\"#FFFFFF\" points=\"16,6,34,6,41,28.2969,191,28.2969,191,209,16,209,16,6\" style=\"stroke: #000000; stroke-width: 1.5;\"/><line style=\"stroke: #000000; stroke-width: 1.5;\" x1=\"16\" x2=\"41\" y1=\"28.2969\" y2=\"28.2969\"/><text fill=\"#000000\" font-family=\"sans-serif\" font-size=\"14\" font-weight=\"bold\" lengthAdjust=\"spacingAndGlyphs\" textLength=\"12\" x=\"20\" y=\"20.9951\">Q</text></a><!--MD5=[b4997ac47864f28c2f74865a473b2911]\n",
       "class E2--><a href=\"psysml:a224f497-53a8-4c97-a678-1669f6411a1a\" target=\"_top\" title=\"psysml:a224f497-53a8-4c97-a678-1669f6411a1a\" xlink:actuate=\"onRequest\" xlink:href=\"psysml:a224f497-53a8-4c97-a678-1669f6411a1a\" xlink:show=\"new\" xlink:title=\"psysml:a224f497-53a8-4c97-a678-1669f6411a1a\" xlink:type=\"simple\"><rect fill=\"#FFFFFF\" height=\"45.9375\" id=\"E2\" rx=\"10\" ry=\"10\" style=\"stroke: #383838; stroke-width: 1.5;\" width=\"42\" x=\"133\" y=\"41\"/><text fill=\"#000000\" font-family=\"sans-serif\" font-size=\"12\" font-style=\"italic\" lengthAdjust=\"spacingAndGlyphs\" textLength=\"40\" x=\"134\" y=\"57.1387\">«part»</text><text fill=\"#000000\" font-family=\"sans-serif\" font-size=\"12\" lengthAdjust=\"spacingAndGlyphs\" textLength=\"4\" x=\"152\" y=\"71.1074\">f</text><line style=\"stroke: #383838; stroke-width: 1.5;\" x1=\"134\" x2=\"174\" y1=\"78.9375\" y2=\"78.9375\"/></a><!--MD5=[09b614a08d8cba4a07c9adeb5e0fee81]\n",
       "class E3--><a href=\"psysml:692e246d-2e17-48ff-a8f3-1c9cda9639f6\" target=\"_top\" title=\"psysml:692e246d-2e17-48ff-a8f3-1c9cda9639f6\" xlink:actuate=\"onRequest\" xlink:href=\"psysml:692e246d-2e17-48ff-a8f3-1c9cda9639f6\" xlink:show=\"new\" xlink:title=\"psysml:692e246d-2e17-48ff-a8f3-1c9cda9639f6\" xlink:type=\"simple\"><rect fill=\"#FFFFFF\" height=\"45.9375\" id=\"E3\" rx=\"10\" ry=\"10\" style=\"stroke: #383838; stroke-width: 1.5;\" width=\"42\" x=\"133\" y=\"147\"/><text fill=\"#000000\" font-family=\"sans-serif\" font-size=\"12\" font-style=\"italic\" lengthAdjust=\"spacingAndGlyphs\" textLength=\"40\" x=\"134\" y=\"163.1387\">«part»</text><text fill=\"#000000\" font-family=\"sans-serif\" font-size=\"12\" lengthAdjust=\"spacingAndGlyphs\" textLength=\"8\" x=\"150\" y=\"177.1074\">a</text><line style=\"stroke: #383838; stroke-width: 1.5;\" x1=\"134\" x2=\"174\" y1=\"184.9375\" y2=\"184.9375\"/></a><!--MD5=[ebbe1d658d1005bcc118a6aa81145e00]\n",
       "class E4--><a href=\"psysml:8521a391-022b-403d-ab54-4e64ea01dd3a\" target=\"_top\" title=\"psysml:8521a391-022b-403d-ab54-4e64ea01dd3a\" xlink:actuate=\"onRequest\" xlink:href=\"psysml:8521a391-022b-403d-ab54-4e64ea01dd3a\" xlink:show=\"new\" xlink:title=\"psysml:8521a391-022b-403d-ab54-4e64ea01dd3a\" xlink:type=\"simple\"><rect fill=\"#FFFFFF\" height=\"45.9375\" id=\"E4\" style=\"stroke: #383838; stroke-width: 1.5;\" width=\"66\" x=\"32\" y=\"41\"/><text fill=\"#000000\" font-family=\"sans-serif\" font-size=\"12\" font-style=\"italic\" lengthAdjust=\"spacingAndGlyphs\" textLength=\"64\" x=\"33\" y=\"57.1387\">«part def»</text><text fill=\"#000000\" font-family=\"sans-serif\" font-size=\"12\" lengthAdjust=\"spacingAndGlyphs\" textLength=\"8\" x=\"61\" y=\"71.1074\">C</text><line style=\"stroke: #383838; stroke-width: 1.5;\" x1=\"33\" x2=\"97\" y1=\"78.9375\" y2=\"78.9375\"/></a><!--MD5=[270fce915f116d4de14055a7c1d9a0f3]\n",
       "class E5--><a href=\"psysml:7c666d7d-6a66-4269-8e3a-229640bb6ad0\" target=\"_top\" title=\"psysml:7c666d7d-6a66-4269-8e3a-229640bb6ad0\" xlink:actuate=\"onRequest\" xlink:href=\"psysml:7c666d7d-6a66-4269-8e3a-229640bb6ad0\" xlink:show=\"new\" xlink:title=\"psysml:7c666d7d-6a66-4269-8e3a-229640bb6ad0\" xlink:type=\"simple\"><rect fill=\"#FFFFFF\" height=\"45.9375\" id=\"E5\" rx=\"10\" ry=\"10\" style=\"stroke: #383838; stroke-width: 1.5;\" width=\"42\" x=\"44\" y=\"147\"/><text fill=\"#000000\" font-family=\"sans-serif\" font-size=\"12\" font-style=\"italic\" lengthAdjust=\"spacingAndGlyphs\" textLength=\"40\" x=\"45\" y=\"163.1387\">«part»</text><text fill=\"#000000\" font-family=\"sans-serif\" font-size=\"12\" lengthAdjust=\"spacingAndGlyphs\" textLength=\"8\" x=\"61\" y=\"177.1074\">g</text><line style=\"stroke: #383838; stroke-width: 1.5;\" x1=\"45\" x2=\"85\" y1=\"184.9375\" y2=\"184.9375\"/></a><!--MD5=[209b3feb70ccb6233bfe1053d122c12c]\n",
       "reverse link E2 to E3--><a href=\"psysml:71ed813c-2f6a-4d13-b6a9-9d55dbb4d689\" target=\"_top\" title=\"psysml:71ed813c-2f6a-4d13-b6a9-9d55dbb4d689\" xlink:actuate=\"onRequest\" xlink:href=\"psysml:71ed813c-2f6a-4d13-b6a9-9d55dbb4d689\" xlink:show=\"new\" xlink:title=\"psysml:71ed813c-2f6a-4d13-b6a9-9d55dbb4d689\" xlink:type=\"simple\"><path d=\"M154,100.44 C154,115.87 154,133.47 154,146.98 \" fill=\"none\" id=\"E2&lt;-E3\" style=\"stroke: #383838; stroke-width: 1.0;\"/><polygon fill=\"#383838\" points=\"154,87.06,150,93.06,154,99.06,158,93.06,154,87.06\" style=\"stroke: #383838; stroke-width: 1.0;\"/></a><!--MD5=[62aa6af11e70f752912c1cb0466f24f7]\n",
       "reverse link E4 to E5--><a href=\"psysml:66a9662c-d0de-409c-b1e7-d598996fdcb0\" target=\"_top\" title=\"psysml:66a9662c-d0de-409c-b1e7-d598996fdcb0\" xlink:actuate=\"onRequest\" xlink:href=\"psysml:66a9662c-d0de-409c-b1e7-d598996fdcb0\" xlink:show=\"new\" xlink:title=\"psysml:66a9662c-d0de-409c-b1e7-d598996fdcb0\" xlink:type=\"simple\"><path d=\"M65,100.44 C65,115.87 65,133.47 65,146.98 \" fill=\"none\" id=\"E4&lt;-E5\" style=\"stroke: #383838; stroke-width: 1.0;\"/><polygon fill=\"#383838\" points=\"65,87.06,61,93.06,65,99.06,69,93.06,65,87.06\" style=\"stroke: #383838; stroke-width: 1.0;\"/></a><!--MD5=[78d9fc3421348c05b12d6dabaf4b0f53]\n",
       "@startuml\r\n",
       "top to bottom direction\r\n",
       "skinparam monochrome true\r\n",
       "skinparam classbackgroundcolor white\r\n",
       "skinparam shadowing false\r\n",
       "skinparam wrapWidth 300\r\n",
       "hide circle\r\n",
       "\r\n",
       "package \"Q\" as E1  [[psysml:48e9f940-1f69-4218-811f-6a29c7cbfcb6 ]]  {\r\n",
       "comp usage \"f\" as E2  <<(T,blue)part>> [[psysml:a224f497-53a8-4c97-a678-1669f6411a1a ]] {\r\n",
       "}\r\n",
       "comp usage \"a\" as E3  <<(T,blue)part>> [[psysml:692e246d-2e17-48ff-a8f3-1c9cda9639f6 ]] {\r\n",
       "}\r\n",
       "comp def \"C\" as E4  <<(T,blue)part def>> [[psysml:8521a391-022b-403d-ab54-4e64ea01dd3a ]] {\r\n",
       "}\r\n",
       "comp usage \"g\" as E5  <<(T,blue)part>> [[psysml:7c666d7d-6a66-4269-8e3a-229640bb6ad0 ]] {\r\n",
       "}\r\n",
       "E2 *- - E3 [[psysml:71ed813c-2f6a-4d13-b6a9-9d55dbb4d689 ]] \r\n",
       "E4 *- - E5 [[psysml:66a9662c-d0de-409c-b1e7-d598996fdcb0 ]] \r\n",
       "}\r\n",
       "@enduml\r\n",
       "\n",
       "PlantUML version 1.2020.13(Sat Jun 13 12:26:38 UTC 2020)\n",
       "(EPL source distribution)\n",
       "Java Runtime: OpenJDK Runtime Environment\n",
       "JVM: OpenJDK 64-Bit Server VM\n",
       "Default Encoding: UTF-8\n",
       "Language: en\n",
       "Country: null\n",
       "--></g></svg>"
      ]
     },
     "execution_count": 50,
     "metadata": {},
     "output_type": "execute_result"
    }
   ],
   "source": [
    "%viz --style=\"TB\" --view=\"MIXED\" \"Q\""
   ]
  },
  {
   "cell_type": "code",
   "execution_count": 51,
   "id": "19a91d4c",
   "metadata": {
    "execution": {
     "iopub.execute_input": "2021-04-21T20:21:03.994017Z",
     "iopub.status.busy": "2021-04-21T20:21:03.993577Z",
     "iopub.status.idle": "2021-04-21T20:21:04.020284Z",
     "shell.execute_reply": "2021-04-21T20:21:04.019080Z"
    }
   },
   "outputs": [
    {
     "data": {
      "image/svg+xml": [
       "<?xml version=\"1.0\" encoding=\"UTF-8\" standalone=\"no\"?><svg xmlns=\"http://www.w3.org/2000/svg\" xmlns:xlink=\"http://www.w3.org/1999/xlink\" contentScriptType=\"application/ecmascript\" contentStyleType=\"text/css\" height=\"221px\" preserveAspectRatio=\"none\" style=\"width:213px;height:221px;\" version=\"1.1\" viewBox=\"0 0 213 221\" width=\"213px\" zoomAndPan=\"magnify\"><defs/><g><!--MD5=[fbc87193dbaf4d95561dea2c320d4a47]\n",
       "cluster E1--><a href=\"psysml:48e9f940-1f69-4218-811f-6a29c7cbfcb6\" target=\"_top\" title=\"psysml:48e9f940-1f69-4218-811f-6a29c7cbfcb6\" xlink:actuate=\"onRequest\" xlink:href=\"psysml:48e9f940-1f69-4218-811f-6a29c7cbfcb6\" xlink:show=\"new\" xlink:title=\"psysml:48e9f940-1f69-4218-811f-6a29c7cbfcb6\" xlink:type=\"simple\"><polygon fill=\"#FFFFFF\" points=\"16,6,34,6,41,28.2969,191,28.2969,191,209,16,209,16,6\" style=\"stroke: #000000; stroke-width: 1.5;\"/><line style=\"stroke: #000000; stroke-width: 1.5;\" x1=\"16\" x2=\"41\" y1=\"28.2969\" y2=\"28.2969\"/><text fill=\"#000000\" font-family=\"sans-serif\" font-size=\"14\" font-weight=\"bold\" lengthAdjust=\"spacingAndGlyphs\" textLength=\"12\" x=\"20\" y=\"20.9951\">Q</text></a><!--MD5=[b4997ac47864f28c2f74865a473b2911]\n",
       "class E2--><a href=\"psysml:a224f497-53a8-4c97-a678-1669f6411a1a\" target=\"_top\" title=\"psysml:a224f497-53a8-4c97-a678-1669f6411a1a\" xlink:actuate=\"onRequest\" xlink:href=\"psysml:a224f497-53a8-4c97-a678-1669f6411a1a\" xlink:show=\"new\" xlink:title=\"psysml:a224f497-53a8-4c97-a678-1669f6411a1a\" xlink:type=\"simple\"><rect fill=\"#FFFFFF\" height=\"45.9375\" id=\"E2\" rx=\"10\" ry=\"10\" style=\"stroke: #383838; stroke-width: 1.5;\" width=\"42\" x=\"133\" y=\"41\"/><text fill=\"#000000\" font-family=\"sans-serif\" font-size=\"12\" font-style=\"italic\" lengthAdjust=\"spacingAndGlyphs\" textLength=\"40\" x=\"134\" y=\"57.1387\">«part»</text><text fill=\"#000000\" font-family=\"sans-serif\" font-size=\"12\" lengthAdjust=\"spacingAndGlyphs\" textLength=\"4\" x=\"152\" y=\"71.1074\">f</text><line style=\"stroke: #383838; stroke-width: 1.5;\" x1=\"134\" x2=\"174\" y1=\"78.9375\" y2=\"78.9375\"/></a><!--MD5=[09b614a08d8cba4a07c9adeb5e0fee81]\n",
       "class E3--><a href=\"psysml:692e246d-2e17-48ff-a8f3-1c9cda9639f6\" target=\"_top\" title=\"psysml:692e246d-2e17-48ff-a8f3-1c9cda9639f6\" xlink:actuate=\"onRequest\" xlink:href=\"psysml:692e246d-2e17-48ff-a8f3-1c9cda9639f6\" xlink:show=\"new\" xlink:title=\"psysml:692e246d-2e17-48ff-a8f3-1c9cda9639f6\" xlink:type=\"simple\"><rect fill=\"#FFFFFF\" height=\"45.9375\" id=\"E3\" rx=\"10\" ry=\"10\" style=\"stroke: #383838; stroke-width: 1.5;\" width=\"42\" x=\"133\" y=\"147\"/><text fill=\"#000000\" font-family=\"sans-serif\" font-size=\"12\" font-style=\"italic\" lengthAdjust=\"spacingAndGlyphs\" textLength=\"40\" x=\"134\" y=\"163.1387\">«part»</text><text fill=\"#000000\" font-family=\"sans-serif\" font-size=\"12\" lengthAdjust=\"spacingAndGlyphs\" textLength=\"8\" x=\"150\" y=\"177.1074\">a</text><line style=\"stroke: #383838; stroke-width: 1.5;\" x1=\"134\" x2=\"174\" y1=\"184.9375\" y2=\"184.9375\"/></a><!--MD5=[ebbe1d658d1005bcc118a6aa81145e00]\n",
       "class E4--><a href=\"psysml:8521a391-022b-403d-ab54-4e64ea01dd3a\" target=\"_top\" title=\"psysml:8521a391-022b-403d-ab54-4e64ea01dd3a\" xlink:actuate=\"onRequest\" xlink:href=\"psysml:8521a391-022b-403d-ab54-4e64ea01dd3a\" xlink:show=\"new\" xlink:title=\"psysml:8521a391-022b-403d-ab54-4e64ea01dd3a\" xlink:type=\"simple\"><rect fill=\"#FFFFFF\" height=\"45.9375\" id=\"E4\" style=\"stroke: #383838; stroke-width: 1.5;\" width=\"66\" x=\"32\" y=\"41\"/><text fill=\"#000000\" font-family=\"sans-serif\" font-size=\"12\" font-style=\"italic\" lengthAdjust=\"spacingAndGlyphs\" textLength=\"64\" x=\"33\" y=\"57.1387\">«part def»</text><text fill=\"#000000\" font-family=\"sans-serif\" font-size=\"12\" lengthAdjust=\"spacingAndGlyphs\" textLength=\"8\" x=\"61\" y=\"71.1074\">C</text><line style=\"stroke: #383838; stroke-width: 1.5;\" x1=\"33\" x2=\"97\" y1=\"78.9375\" y2=\"78.9375\"/></a><!--MD5=[270fce915f116d4de14055a7c1d9a0f3]\n",
       "class E5--><a href=\"psysml:7c666d7d-6a66-4269-8e3a-229640bb6ad0\" target=\"_top\" title=\"psysml:7c666d7d-6a66-4269-8e3a-229640bb6ad0\" xlink:actuate=\"onRequest\" xlink:href=\"psysml:7c666d7d-6a66-4269-8e3a-229640bb6ad0\" xlink:show=\"new\" xlink:title=\"psysml:7c666d7d-6a66-4269-8e3a-229640bb6ad0\" xlink:type=\"simple\"><rect fill=\"#FFFFFF\" height=\"45.9375\" id=\"E5\" rx=\"10\" ry=\"10\" style=\"stroke: #383838; stroke-width: 1.5;\" width=\"42\" x=\"44\" y=\"147\"/><text fill=\"#000000\" font-family=\"sans-serif\" font-size=\"12\" font-style=\"italic\" lengthAdjust=\"spacingAndGlyphs\" textLength=\"40\" x=\"45\" y=\"163.1387\">«part»</text><text fill=\"#000000\" font-family=\"sans-serif\" font-size=\"12\" lengthAdjust=\"spacingAndGlyphs\" textLength=\"8\" x=\"61\" y=\"177.1074\">g</text><line style=\"stroke: #383838; stroke-width: 1.5;\" x1=\"45\" x2=\"85\" y1=\"184.9375\" y2=\"184.9375\"/></a><!--MD5=[209b3feb70ccb6233bfe1053d122c12c]\n",
       "reverse link E2 to E3--><a href=\"psysml:71ed813c-2f6a-4d13-b6a9-9d55dbb4d689\" target=\"_top\" title=\"psysml:71ed813c-2f6a-4d13-b6a9-9d55dbb4d689\" xlink:actuate=\"onRequest\" xlink:href=\"psysml:71ed813c-2f6a-4d13-b6a9-9d55dbb4d689\" xlink:show=\"new\" xlink:title=\"psysml:71ed813c-2f6a-4d13-b6a9-9d55dbb4d689\" xlink:type=\"simple\"><path d=\"M154,100 C154,100 154,146.68 154,146.68 \" fill=\"none\" id=\"E2&lt;-E3\" style=\"stroke: #383838; stroke-width: 1.0;\"/><polygon fill=\"#383838\" points=\"154,87,150,93,154,99,158,93,154,87\" style=\"stroke: #383838; stroke-width: 1.0;\"/></a><!--MD5=[62aa6af11e70f752912c1cb0466f24f7]\n",
       "reverse link E4 to E5--><a href=\"psysml:66a9662c-d0de-409c-b1e7-d598996fdcb0\" target=\"_top\" title=\"psysml:66a9662c-d0de-409c-b1e7-d598996fdcb0\" xlink:actuate=\"onRequest\" xlink:href=\"psysml:66a9662c-d0de-409c-b1e7-d598996fdcb0\" xlink:show=\"new\" xlink:title=\"psysml:66a9662c-d0de-409c-b1e7-d598996fdcb0\" xlink:type=\"simple\"><path d=\"M65,100 C65,100 65,146.68 65,146.68 \" fill=\"none\" id=\"E4&lt;-E5\" style=\"stroke: #383838; stroke-width: 1.0;\"/><polygon fill=\"#383838\" points=\"65,87,61,93,65,99,69,93,65,87\" style=\"stroke: #383838; stroke-width: 1.0;\"/></a><!--MD5=[695ae2eb3761ba5613bd68135c2e4349]\n",
       "@startuml\r\n",
       "skinparam linetype ortho\r\n",
       "skinparam monochrome true\r\n",
       "skinparam classbackgroundcolor white\r\n",
       "skinparam shadowing false\r\n",
       "skinparam wrapWidth 300\r\n",
       "hide circle\r\n",
       "\r\n",
       "package \"Q\" as E1  [[psysml:48e9f940-1f69-4218-811f-6a29c7cbfcb6 ]]  {\r\n",
       "comp usage \"f\" as E2  <<(T,blue)part>> [[psysml:a224f497-53a8-4c97-a678-1669f6411a1a ]] {\r\n",
       "}\r\n",
       "comp usage \"a\" as E3  <<(T,blue)part>> [[psysml:692e246d-2e17-48ff-a8f3-1c9cda9639f6 ]] {\r\n",
       "}\r\n",
       "comp def \"C\" as E4  <<(T,blue)part def>> [[psysml:8521a391-022b-403d-ab54-4e64ea01dd3a ]] {\r\n",
       "}\r\n",
       "comp usage \"g\" as E5  <<(T,blue)part>> [[psysml:7c666d7d-6a66-4269-8e3a-229640bb6ad0 ]] {\r\n",
       "}\r\n",
       "E2 *- - E3 [[psysml:71ed813c-2f6a-4d13-b6a9-9d55dbb4d689 ]] \r\n",
       "E4 *- - E5 [[psysml:66a9662c-d0de-409c-b1e7-d598996fdcb0 ]] \r\n",
       "}\r\n",
       "@enduml\r\n",
       "\n",
       "PlantUML version 1.2020.13(Sat Jun 13 12:26:38 UTC 2020)\n",
       "(EPL source distribution)\n",
       "Java Runtime: OpenJDK Runtime Environment\n",
       "JVM: OpenJDK 64-Bit Server VM\n",
       "Default Encoding: UTF-8\n",
       "Language: en\n",
       "Country: null\n",
       "--></g></svg>"
      ]
     },
     "execution_count": 51,
     "metadata": {},
     "output_type": "execute_result"
    }
   ],
   "source": [
    "%viz --style=\"ORTHOLINE\" --view=\"Default\" \"Q\""
   ]
  },
  {
   "cell_type": "code",
   "execution_count": 52,
   "id": "4685174c",
   "metadata": {
    "execution": {
     "iopub.execute_input": "2021-04-21T20:21:04.068682Z",
     "iopub.status.busy": "2021-04-21T20:21:04.068229Z",
     "iopub.status.idle": "2021-04-21T20:21:04.110290Z",
     "shell.execute_reply": "2021-04-21T20:21:04.109026Z"
    }
   },
   "outputs": [
    {
     "data": {
      "image/svg+xml": [
       "<?xml version=\"1.0\" encoding=\"UTF-8\" standalone=\"no\"?><svg xmlns=\"http://www.w3.org/2000/svg\" xmlns:xlink=\"http://www.w3.org/1999/xlink\" contentScriptType=\"application/ecmascript\" contentStyleType=\"text/css\" height=\"221px\" preserveAspectRatio=\"none\" style=\"width:213px;height:221px;\" version=\"1.1\" viewBox=\"0 0 213 221\" width=\"213px\" zoomAndPan=\"magnify\"><defs/><g><!--MD5=[fbc87193dbaf4d95561dea2c320d4a47]\n",
       "cluster E1--><a href=\"psysml:48e9f940-1f69-4218-811f-6a29c7cbfcb6\" target=\"_top\" title=\"psysml:48e9f940-1f69-4218-811f-6a29c7cbfcb6\" xlink:actuate=\"onRequest\" xlink:href=\"psysml:48e9f940-1f69-4218-811f-6a29c7cbfcb6\" xlink:show=\"new\" xlink:title=\"psysml:48e9f940-1f69-4218-811f-6a29c7cbfcb6\" xlink:type=\"simple\"><polygon fill=\"#FFFFFF\" points=\"16,6,34,6,41,28.2969,191,28.2969,191,209,16,209,16,6\" style=\"stroke: #000000; stroke-width: 1.5;\"/><line style=\"stroke: #000000; stroke-width: 1.5;\" x1=\"16\" x2=\"41\" y1=\"28.2969\" y2=\"28.2969\"/><text fill=\"#000000\" font-family=\"sans-serif\" font-size=\"14\" font-weight=\"bold\" lengthAdjust=\"spacingAndGlyphs\" textLength=\"12\" x=\"20\" y=\"20.9951\">Q</text></a><!--MD5=[b4997ac47864f28c2f74865a473b2911]\n",
       "class E2--><a href=\"psysml:a224f497-53a8-4c97-a678-1669f6411a1a\" target=\"_top\" title=\"psysml:a224f497-53a8-4c97-a678-1669f6411a1a\" xlink:actuate=\"onRequest\" xlink:href=\"psysml:a224f497-53a8-4c97-a678-1669f6411a1a\" xlink:show=\"new\" xlink:title=\"psysml:a224f497-53a8-4c97-a678-1669f6411a1a\" xlink:type=\"simple\"><rect fill=\"#FFFFFF\" height=\"45.9375\" id=\"E2\" rx=\"10\" ry=\"10\" style=\"stroke: #383838; stroke-width: 1.5;\" width=\"42\" x=\"133\" y=\"41\"/><text fill=\"#000000\" font-family=\"sans-serif\" font-size=\"12\" font-style=\"italic\" lengthAdjust=\"spacingAndGlyphs\" textLength=\"40\" x=\"134\" y=\"57.1387\">«part»</text><text fill=\"#000000\" font-family=\"sans-serif\" font-size=\"12\" lengthAdjust=\"spacingAndGlyphs\" textLength=\"4\" x=\"152\" y=\"71.1074\">f</text><line style=\"stroke: #383838; stroke-width: 1.5;\" x1=\"134\" x2=\"174\" y1=\"78.9375\" y2=\"78.9375\"/></a><!--MD5=[09b614a08d8cba4a07c9adeb5e0fee81]\n",
       "class E3--><a href=\"psysml:692e246d-2e17-48ff-a8f3-1c9cda9639f6\" target=\"_top\" title=\"psysml:692e246d-2e17-48ff-a8f3-1c9cda9639f6\" xlink:actuate=\"onRequest\" xlink:href=\"psysml:692e246d-2e17-48ff-a8f3-1c9cda9639f6\" xlink:show=\"new\" xlink:title=\"psysml:692e246d-2e17-48ff-a8f3-1c9cda9639f6\" xlink:type=\"simple\"><rect fill=\"#FFFFFF\" height=\"45.9375\" id=\"E3\" rx=\"10\" ry=\"10\" style=\"stroke: #383838; stroke-width: 1.5;\" width=\"42\" x=\"133\" y=\"147\"/><text fill=\"#000000\" font-family=\"sans-serif\" font-size=\"12\" font-style=\"italic\" lengthAdjust=\"spacingAndGlyphs\" textLength=\"40\" x=\"134\" y=\"163.1387\">«part»</text><text fill=\"#000000\" font-family=\"sans-serif\" font-size=\"12\" lengthAdjust=\"spacingAndGlyphs\" textLength=\"8\" x=\"150\" y=\"177.1074\">a</text><line style=\"stroke: #383838; stroke-width: 1.5;\" x1=\"134\" x2=\"174\" y1=\"184.9375\" y2=\"184.9375\"/></a><!--MD5=[ebbe1d658d1005bcc118a6aa81145e00]\n",
       "class E4--><a href=\"psysml:8521a391-022b-403d-ab54-4e64ea01dd3a\" target=\"_top\" title=\"psysml:8521a391-022b-403d-ab54-4e64ea01dd3a\" xlink:actuate=\"onRequest\" xlink:href=\"psysml:8521a391-022b-403d-ab54-4e64ea01dd3a\" xlink:show=\"new\" xlink:title=\"psysml:8521a391-022b-403d-ab54-4e64ea01dd3a\" xlink:type=\"simple\"><rect fill=\"#FFFFFF\" height=\"45.9375\" id=\"E4\" style=\"stroke: #383838; stroke-width: 1.5;\" width=\"66\" x=\"32\" y=\"41\"/><text fill=\"#000000\" font-family=\"sans-serif\" font-size=\"12\" font-style=\"italic\" lengthAdjust=\"spacingAndGlyphs\" textLength=\"64\" x=\"33\" y=\"57.1387\">«part def»</text><text fill=\"#000000\" font-family=\"sans-serif\" font-size=\"12\" lengthAdjust=\"spacingAndGlyphs\" textLength=\"8\" x=\"61\" y=\"71.1074\">C</text><line style=\"stroke: #383838; stroke-width: 1.5;\" x1=\"33\" x2=\"97\" y1=\"78.9375\" y2=\"78.9375\"/></a><!--MD5=[270fce915f116d4de14055a7c1d9a0f3]\n",
       "class E5--><a href=\"psysml:7c666d7d-6a66-4269-8e3a-229640bb6ad0\" target=\"_top\" title=\"psysml:7c666d7d-6a66-4269-8e3a-229640bb6ad0\" xlink:actuate=\"onRequest\" xlink:href=\"psysml:7c666d7d-6a66-4269-8e3a-229640bb6ad0\" xlink:show=\"new\" xlink:title=\"psysml:7c666d7d-6a66-4269-8e3a-229640bb6ad0\" xlink:type=\"simple\"><rect fill=\"#FFFFFF\" height=\"45.9375\" id=\"E5\" rx=\"10\" ry=\"10\" style=\"stroke: #383838; stroke-width: 1.5;\" width=\"42\" x=\"44\" y=\"147\"/><text fill=\"#000000\" font-family=\"sans-serif\" font-size=\"12\" font-style=\"italic\" lengthAdjust=\"spacingAndGlyphs\" textLength=\"40\" x=\"45\" y=\"163.1387\">«part»</text><text fill=\"#000000\" font-family=\"sans-serif\" font-size=\"12\" lengthAdjust=\"spacingAndGlyphs\" textLength=\"8\" x=\"61\" y=\"177.1074\">g</text><line style=\"stroke: #383838; stroke-width: 1.5;\" x1=\"45\" x2=\"85\" y1=\"184.9375\" y2=\"184.9375\"/></a><!--MD5=[209b3feb70ccb6233bfe1053d122c12c]\n",
       "reverse link E2 to E3--><a href=\"psysml:71ed813c-2f6a-4d13-b6a9-9d55dbb4d689\" target=\"_top\" title=\"psysml:71ed813c-2f6a-4d13-b6a9-9d55dbb4d689\" xlink:actuate=\"onRequest\" xlink:href=\"psysml:71ed813c-2f6a-4d13-b6a9-9d55dbb4d689\" xlink:show=\"new\" xlink:title=\"psysml:71ed813c-2f6a-4d13-b6a9-9d55dbb4d689\" xlink:type=\"simple\"><path d=\"M154,100 C154,100 154,146.68 154,146.68 \" fill=\"none\" id=\"E2&lt;-E3\" style=\"stroke: #383838; stroke-width: 1.0;\"/><polygon fill=\"#383838\" points=\"154,87,150,93,154,99,158,93,154,87\" style=\"stroke: #383838; stroke-width: 1.0;\"/></a><!--MD5=[62aa6af11e70f752912c1cb0466f24f7]\n",
       "reverse link E4 to E5--><a href=\"psysml:66a9662c-d0de-409c-b1e7-d598996fdcb0\" target=\"_top\" title=\"psysml:66a9662c-d0de-409c-b1e7-d598996fdcb0\" xlink:actuate=\"onRequest\" xlink:href=\"psysml:66a9662c-d0de-409c-b1e7-d598996fdcb0\" xlink:show=\"new\" xlink:title=\"psysml:66a9662c-d0de-409c-b1e7-d598996fdcb0\" xlink:type=\"simple\"><path d=\"M65,100 C65,100 65,146.68 65,146.68 \" fill=\"none\" id=\"E4&lt;-E5\" style=\"stroke: #383838; stroke-width: 1.0;\"/><polygon fill=\"#383838\" points=\"65,87,61,93,65,99,69,93,65,87\" style=\"stroke: #383838; stroke-width: 1.0;\"/></a><!--MD5=[695ae2eb3761ba5613bd68135c2e4349]\n",
       "@startuml\r\n",
       "skinparam linetype ortho\r\n",
       "skinparam monochrome true\r\n",
       "skinparam classbackgroundcolor white\r\n",
       "skinparam shadowing false\r\n",
       "skinparam wrapWidth 300\r\n",
       "hide circle\r\n",
       "\r\n",
       "package \"Q\" as E1  [[psysml:48e9f940-1f69-4218-811f-6a29c7cbfcb6 ]]  {\r\n",
       "comp usage \"f\" as E2  <<(T,blue)part>> [[psysml:a224f497-53a8-4c97-a678-1669f6411a1a ]] {\r\n",
       "}\r\n",
       "comp usage \"a\" as E3  <<(T,blue)part>> [[psysml:692e246d-2e17-48ff-a8f3-1c9cda9639f6 ]] {\r\n",
       "}\r\n",
       "comp def \"C\" as E4  <<(T,blue)part def>> [[psysml:8521a391-022b-403d-ab54-4e64ea01dd3a ]] {\r\n",
       "}\r\n",
       "comp usage \"g\" as E5  <<(T,blue)part>> [[psysml:7c666d7d-6a66-4269-8e3a-229640bb6ad0 ]] {\r\n",
       "}\r\n",
       "E2 *- - E3 [[psysml:71ed813c-2f6a-4d13-b6a9-9d55dbb4d689 ]] \r\n",
       "E4 *- - E5 [[psysml:66a9662c-d0de-409c-b1e7-d598996fdcb0 ]] \r\n",
       "}\r\n",
       "@enduml\r\n",
       "\n",
       "PlantUML version 1.2020.13(Sat Jun 13 12:26:38 UTC 2020)\n",
       "(EPL source distribution)\n",
       "Java Runtime: OpenJDK Runtime Environment\n",
       "JVM: OpenJDK 64-Bit Server VM\n",
       "Default Encoding: UTF-8\n",
       "Language: en\n",
       "Country: null\n",
       "--></g></svg>"
      ]
     },
     "execution_count": 52,
     "metadata": {},
     "output_type": "execute_result"
    }
   ],
   "source": [
    "%viz --style=\"ORTHOLINE\" --view=\"Tree\" \"Q\""
   ]
  },
  {
   "cell_type": "code",
   "execution_count": 53,
   "id": "f42d499a",
   "metadata": {
    "execution": {
     "iopub.execute_input": "2021-04-21T20:21:04.161060Z",
     "iopub.status.busy": "2021-04-21T20:21:04.160640Z",
     "iopub.status.idle": "2021-04-21T20:21:04.163953Z",
     "shell.execute_reply": "2021-04-21T20:21:04.163603Z"
    }
   },
   "outputs": [
    {
     "data": {
      "image/svg+xml": [
       "<?xml version=\"1.0\" encoding=\"UTF-8\" standalone=\"no\"?><svg xmlns=\"http://www.w3.org/2000/svg\" xmlns:xlink=\"http://www.w3.org/1999/xlink\" contentScriptType=\"application/ecmascript\" contentStyleType=\"text/css\" height=\"12px\" preserveAspectRatio=\"none\" style=\"width:12px;height:12px;\" version=\"1.1\" viewBox=\"0 0 12 12\" width=\"12px\" zoomAndPan=\"magnify\"><defs/><g><!--MD5=[97d6f38768b311333d388e66b2b27985]\n",
       "@startuml\r\n",
       "skinparam linetype ortho\r\n",
       "skinparam monochrome true\r\n",
       "skinparam classbackgroundcolor white\r\n",
       "skinparam shadowing false\r\n",
       "skinparam wrapWidth 300\r\n",
       "hide circle\r\n",
       "\r\n",
       "@enduml\r\n",
       "\n",
       "PlantUML version 1.2020.13(Sat Jun 13 12:26:38 UTC 2020)\n",
       "(EPL source distribution)\n",
       "Java Runtime: OpenJDK Runtime Environment\n",
       "JVM: OpenJDK 64-Bit Server VM\n",
       "Default Encoding: UTF-8\n",
       "Language: en\n",
       "Country: null\n",
       "--></g></svg>"
      ]
     },
     "execution_count": 53,
     "metadata": {},
     "output_type": "execute_result"
    }
   ],
   "source": [
    "%viz --style=\"ORTHOLINE\" --view=\"State\" \"Q\""
   ]
  },
  {
   "cell_type": "code",
   "execution_count": 54,
   "id": "a155e3db",
   "metadata": {
    "execution": {
     "iopub.execute_input": "2021-04-21T20:21:04.215087Z",
     "iopub.status.busy": "2021-04-21T20:21:04.214581Z",
     "iopub.status.idle": "2021-04-21T20:21:04.241153Z",
     "shell.execute_reply": "2021-04-21T20:21:04.239996Z"
    }
   },
   "outputs": [
    {
     "data": {
      "image/svg+xml": [
       "<?xml version=\"1.0\" encoding=\"UTF-8\" standalone=\"no\"?><svg xmlns=\"http://www.w3.org/2000/svg\" xmlns:xlink=\"http://www.w3.org/1999/xlink\" contentScriptType=\"application/ecmascript\" contentStyleType=\"text/css\" height=\"192px\" preserveAspectRatio=\"none\" style=\"width:286px;height:192px;\" version=\"1.1\" viewBox=\"0 0 286 192\" width=\"286px\" zoomAndPan=\"magnify\"><defs/><g><!--MD5=[fbc87193dbaf4d95561dea2c320d4a47]\n",
       "cluster E1--><a href=\"psysml:48e9f940-1f69-4218-811f-6a29c7cbfcb6\" target=\"_top\" title=\"psysml:48e9f940-1f69-4218-811f-6a29c7cbfcb6\" xlink:actuate=\"onRequest\" xlink:href=\"psysml:48e9f940-1f69-4218-811f-6a29c7cbfcb6\" xlink:show=\"new\" xlink:title=\"psysml:48e9f940-1f69-4218-811f-6a29c7cbfcb6\" xlink:type=\"simple\"><polygon fill=\"#FFFFFF\" points=\"16,6,34,6,41,28.2969,264,28.2969,264,180,16,180,16,6\" style=\"stroke: #000000; stroke-width: 1.5;\"/><line style=\"stroke: #000000; stroke-width: 1.5;\" x1=\"16\" x2=\"41\" y1=\"28.2969\" y2=\"28.2969\"/><text fill=\"#000000\" font-family=\"sans-serif\" font-size=\"14\" font-weight=\"bold\" lengthAdjust=\"spacingAndGlyphs\" textLength=\"12\" x=\"20\" y=\"20.9951\">Q</text></a><!--MD5=[e4f7fae6ed58524ba242bb0b0d3be6b7]\n",
       "cluster E2--><a href=\"psysml:a224f497-53a8-4c97-a678-1669f6411a1a\" target=\"_top\" title=\"psysml:a224f497-53a8-4c97-a678-1669f6411a1a\" xlink:actuate=\"onRequest\" xlink:href=\"psysml:a224f497-53a8-4c97-a678-1669f6411a1a\" xlink:show=\"new\" xlink:title=\"psysml:a224f497-53a8-4c97-a678-1669f6411a1a\" xlink:type=\"simple\"><rect fill=\"#FFFFFF\" height=\"91\" id=\"E2\" rx=\"10\" ry=\"10\" style=\"stroke: #383838; stroke-width: 1.5;\" width=\"82\" x=\"158\" y=\"65\"/><rect fill=\"#F8F8F8\" height=\"23.9688\" rx=\"10\" ry=\"10\" style=\"stroke: #F8F8F8; stroke-width: 1.5;\" width=\"82\" x=\"158\" y=\"65\"/><rect fill=\"#F8F8F8\" height=\"10\" style=\"stroke: #F8F8F8; stroke-width: 1.5;\" width=\"82\" x=\"158\" y=\"78.9688\"/><rect fill=\"none\" height=\"91\" id=\"E2\" rx=\"10\" ry=\"10\" style=\"stroke: #383838; stroke-width: 1.5;\" width=\"82\" x=\"158\" y=\"65\"/><text fill=\"#000000\" font-family=\"sans-serif\" font-size=\"12\" lengthAdjust=\"spacingAndGlyphs\" textLength=\"4\" x=\"197\" y=\"81.1387\">f</text><line style=\"stroke: #383838; stroke-width: 1.0;\" x1=\"158\" x2=\"240\" y1=\"88.9688\" y2=\"88.9688\"/></a><!--MD5=[f6df4d0ebaf0b5dfb2ced0ae5af7c670]\n",
       "cluster E4--><a href=\"psysml:8521a391-022b-403d-ab54-4e64ea01dd3a\" target=\"_top\" title=\"psysml:8521a391-022b-403d-ab54-4e64ea01dd3a\" xlink:actuate=\"onRequest\" xlink:href=\"psysml:8521a391-022b-403d-ab54-4e64ea01dd3a\" xlink:show=\"new\" xlink:title=\"psysml:8521a391-022b-403d-ab54-4e64ea01dd3a\" xlink:type=\"simple\"><rect fill=\"#FFFFFF\" height=\"107\" id=\"E4\" style=\"stroke: #383838; stroke-width: 1.5;\" width=\"94\" x=\"40\" y=\"49\"/><rect fill=\"#F8F8F8\" height=\"37.9375\" style=\"stroke: #383838; stroke-width: 1.5;\" width=\"94\" x=\"40\" y=\"49\"/><text fill=\"#000000\" font-family=\"sans-serif\" font-size=\"12\" font-style=\"italic\" lengthAdjust=\"spacingAndGlyphs\" textLength=\"64\" x=\"55\" y=\"65.1387\">«part def»</text><text fill=\"#000000\" font-family=\"sans-serif\" font-size=\"12\" lengthAdjust=\"spacingAndGlyphs\" textLength=\"8\" x=\"83\" y=\"79.1074\">C</text></a><g id=\"E1.E2.E3\"><a href=\"psysml:692e246d-2e17-48ff-a8f3-1c9cda9639f6\" target=\"_top\" title=\"psysml:692e246d-2e17-48ff-a8f3-1c9cda9639f6\" xlink:actuate=\"onRequest\" xlink:href=\"psysml:692e246d-2e17-48ff-a8f3-1c9cda9639f6\" xlink:show=\"new\" xlink:title=\"psysml:692e246d-2e17-48ff-a8f3-1c9cda9639f6\" xlink:type=\"simple\"><rect fill=\"#FFFFFF\" height=\"40\" id=\"E3\" rx=\"10\" ry=\"10\" style=\"stroke: #383838; stroke-width: 1.5;\" width=\"50\" x=\"174\" y=\"100\"/><rect fill=\"#F8F8F8\" height=\"23.9688\" rx=\"10\" ry=\"10\" style=\"stroke: #F8F8F8; stroke-width: 1.5;\" width=\"50\" x=\"174\" y=\"100\"/><rect fill=\"#F8F8F8\" height=\"10\" style=\"stroke: #F8F8F8; stroke-width: 1.5;\" width=\"50\" x=\"174\" y=\"113.9688\"/><rect fill=\"none\" height=\"40\" id=\"E3\" rx=\"10\" ry=\"10\" style=\"stroke: #383838; stroke-width: 1.5;\" width=\"50\" x=\"174\" y=\"100\"/><text fill=\"#000000\" font-family=\"sans-serif\" font-size=\"12\" lengthAdjust=\"spacingAndGlyphs\" textLength=\"8\" x=\"195\" y=\"116.1387\">a</text></a></g><g id=\"E1.E4.E5\"><a href=\"psysml:7c666d7d-6a66-4269-8e3a-229640bb6ad0\" target=\"_top\" title=\"psysml:7c666d7d-6a66-4269-8e3a-229640bb6ad0\" xlink:actuate=\"onRequest\" xlink:href=\"psysml:7c666d7d-6a66-4269-8e3a-229640bb6ad0\" xlink:show=\"new\" xlink:title=\"psysml:7c666d7d-6a66-4269-8e3a-229640bb6ad0\" xlink:type=\"simple\"><rect fill=\"#FFFFFF\" height=\"40\" id=\"E5\" rx=\"10\" ry=\"10\" style=\"stroke: #383838; stroke-width: 1.5;\" width=\"61\" x=\"56.5\" y=\"100\"/><rect fill=\"#F8F8F8\" height=\"23.9688\" rx=\"10\" ry=\"10\" style=\"stroke: #F8F8F8; stroke-width: 1.5;\" width=\"61\" x=\"56.5\" y=\"100\"/><rect fill=\"#F8F8F8\" height=\"10\" style=\"stroke: #F8F8F8; stroke-width: 1.5;\" width=\"61\" x=\"56.5\" y=\"113.9688\"/><rect fill=\"none\" height=\"40\" id=\"E5\" rx=\"10\" ry=\"10\" style=\"stroke: #383838; stroke-width: 1.5;\" width=\"61\" x=\"56.5\" y=\"100\"/><text fill=\"#000000\" font-family=\"sans-serif\" font-size=\"12\" lengthAdjust=\"spacingAndGlyphs\" textLength=\"46\" x=\"62\" y=\"116.1387\">g=./f/a;</text></a></g><!--MD5=[128d1e444d31fa7dfbfc85b7cd223f2d]\n",
       "@startuml\r\n",
       "skinparam ranksep 10\r\n",
       "skinparam rectangle {\r\n",
       " backgroundColor<<block>> LightGreen\r\n",
       "}\r\n",
       "skinparam linetype ortho\r\n",
       "skinparam monochrome true\r\n",
       "skinparam classbackgroundcolor white\r\n",
       "skinparam shadowing false\r\n",
       "skinparam wrapWidth 300\r\n",
       "hide circle\r\n",
       "\r\n",
       "package \"Q\" as E1  [[psysml:48e9f940-1f69-4218-811f-6a29c7cbfcb6 ]]  {\r\n",
       "rec usage \"f\" as E2  [[psysml:a224f497-53a8-4c97-a678-1669f6411a1a ]] {\r\n",
       "rec usage \"a\" as E3  [[psysml:692e246d-2e17-48ff-a8f3-1c9cda9639f6 ]] {\r\n",
       "}\r\n",
       "}\r\n",
       "rec def \"C\" as E4  <<(T,blue)part def>> [[psysml:8521a391-022b-403d-ab54-4e64ea01dd3a ]] {\r\n",
       "rec usage \"g=./f/a; \" as E5  [[psysml:7c666d7d-6a66-4269-8e3a-229640bb6ad0 ]] {\r\n",
       "}\r\n",
       "}\r\n",
       "}\r\n",
       "@enduml\r\n",
       "\n",
       "PlantUML version 1.2020.13(Sat Jun 13 12:26:38 UTC 2020)\n",
       "(EPL source distribution)\n",
       "Java Runtime: OpenJDK Runtime Environment\n",
       "JVM: OpenJDK 64-Bit Server VM\n",
       "Default Encoding: UTF-8\n",
       "Language: en\n",
       "Country: null\n",
       "--></g></svg>"
      ]
     },
     "execution_count": 54,
     "metadata": {},
     "output_type": "execute_result"
    }
   ],
   "source": [
    "%viz --style=\"ORTHOLINE\" --view=\"Interconnection\" \"Q\""
   ]
  },
  {
   "cell_type": "code",
   "execution_count": 55,
   "id": "c7845f1f",
   "metadata": {
    "execution": {
     "iopub.execute_input": "2021-04-21T20:21:04.292285Z",
     "iopub.status.busy": "2021-04-21T20:21:04.291828Z",
     "iopub.status.idle": "2021-04-21T20:21:04.296901Z",
     "shell.execute_reply": "2021-04-21T20:21:04.296521Z"
    }
   },
   "outputs": [
    {
     "data": {
      "image/svg+xml": [
       "<?xml version=\"1.0\" encoding=\"UTF-8\" standalone=\"no\"?><svg xmlns=\"http://www.w3.org/2000/svg\" xmlns:xlink=\"http://www.w3.org/1999/xlink\" contentScriptType=\"application/ecmascript\" contentStyleType=\"text/css\" height=\"12px\" preserveAspectRatio=\"none\" style=\"width:12px;height:12px;\" version=\"1.1\" viewBox=\"0 0 12 12\" width=\"12px\" zoomAndPan=\"magnify\"><defs/><g><!--MD5=[72934c63077099a26744516a776b4749]\n",
       "@startuml\r\n",
       "skinparam ranksep 8\r\n",
       "skinparam linetype ortho\r\n",
       "skinparam monochrome true\r\n",
       "skinparam classbackgroundcolor white\r\n",
       "skinparam shadowing false\r\n",
       "skinparam wrapWidth 300\r\n",
       "hide circle\r\n",
       "\r\n",
       "@enduml\r\n",
       "\n",
       "PlantUML version 1.2020.13(Sat Jun 13 12:26:38 UTC 2020)\n",
       "(EPL source distribution)\n",
       "Java Runtime: OpenJDK Runtime Environment\n",
       "JVM: OpenJDK 64-Bit Server VM\n",
       "Default Encoding: UTF-8\n",
       "Language: en\n",
       "Country: null\n",
       "--></g></svg>"
      ]
     },
     "execution_count": 55,
     "metadata": {},
     "output_type": "execute_result"
    }
   ],
   "source": [
    "%viz --style=\"ORTHOLINE\" --view=\"Action\" \"Q\""
   ]
  },
  {
   "cell_type": "code",
   "execution_count": 56,
   "id": "dca3cc3e",
   "metadata": {
    "execution": {
     "iopub.execute_input": "2021-04-21T20:21:04.348063Z",
     "iopub.status.busy": "2021-04-21T20:21:04.347593Z",
     "iopub.status.idle": "2021-04-21T20:21:04.378475Z",
     "shell.execute_reply": "2021-04-21T20:21:04.377310Z"
    }
   },
   "outputs": [
    {
     "data": {
      "image/svg+xml": [
       "<?xml version=\"1.0\" encoding=\"UTF-8\" standalone=\"no\"?><svg xmlns=\"http://www.w3.org/2000/svg\" xmlns:xlink=\"http://www.w3.org/1999/xlink\" contentScriptType=\"application/ecmascript\" contentStyleType=\"text/css\" height=\"221px\" preserveAspectRatio=\"none\" style=\"width:213px;height:221px;\" version=\"1.1\" viewBox=\"0 0 213 221\" width=\"213px\" zoomAndPan=\"magnify\"><defs/><g><!--MD5=[fbc87193dbaf4d95561dea2c320d4a47]\n",
       "cluster E1--><a href=\"psysml:48e9f940-1f69-4218-811f-6a29c7cbfcb6\" target=\"_top\" title=\"psysml:48e9f940-1f69-4218-811f-6a29c7cbfcb6\" xlink:actuate=\"onRequest\" xlink:href=\"psysml:48e9f940-1f69-4218-811f-6a29c7cbfcb6\" xlink:show=\"new\" xlink:title=\"psysml:48e9f940-1f69-4218-811f-6a29c7cbfcb6\" xlink:type=\"simple\"><polygon fill=\"#FFFFFF\" points=\"16,6,34,6,41,28.2969,191,28.2969,191,209,16,209,16,6\" style=\"stroke: #000000; stroke-width: 1.5;\"/><line style=\"stroke: #000000; stroke-width: 1.5;\" x1=\"16\" x2=\"41\" y1=\"28.2969\" y2=\"28.2969\"/><text fill=\"#000000\" font-family=\"sans-serif\" font-size=\"14\" font-weight=\"bold\" lengthAdjust=\"spacingAndGlyphs\" textLength=\"12\" x=\"20\" y=\"20.9951\">Q</text></a><!--MD5=[b4997ac47864f28c2f74865a473b2911]\n",
       "class E2--><a href=\"psysml:a224f497-53a8-4c97-a678-1669f6411a1a\" target=\"_top\" title=\"psysml:a224f497-53a8-4c97-a678-1669f6411a1a\" xlink:actuate=\"onRequest\" xlink:href=\"psysml:a224f497-53a8-4c97-a678-1669f6411a1a\" xlink:show=\"new\" xlink:title=\"psysml:a224f497-53a8-4c97-a678-1669f6411a1a\" xlink:type=\"simple\"><rect fill=\"#FFFFFF\" height=\"45.9375\" id=\"E2\" rx=\"10\" ry=\"10\" style=\"stroke: #383838; stroke-width: 1.5;\" width=\"42\" x=\"133\" y=\"41\"/><text fill=\"#000000\" font-family=\"sans-serif\" font-size=\"12\" font-style=\"italic\" lengthAdjust=\"spacingAndGlyphs\" textLength=\"40\" x=\"134\" y=\"57.1387\">«part»</text><text fill=\"#000000\" font-family=\"sans-serif\" font-size=\"12\" lengthAdjust=\"spacingAndGlyphs\" textLength=\"4\" x=\"152\" y=\"71.1074\">f</text><line style=\"stroke: #383838; stroke-width: 1.5;\" x1=\"134\" x2=\"174\" y1=\"78.9375\" y2=\"78.9375\"/></a><!--MD5=[09b614a08d8cba4a07c9adeb5e0fee81]\n",
       "class E3--><a href=\"psysml:692e246d-2e17-48ff-a8f3-1c9cda9639f6\" target=\"_top\" title=\"psysml:692e246d-2e17-48ff-a8f3-1c9cda9639f6\" xlink:actuate=\"onRequest\" xlink:href=\"psysml:692e246d-2e17-48ff-a8f3-1c9cda9639f6\" xlink:show=\"new\" xlink:title=\"psysml:692e246d-2e17-48ff-a8f3-1c9cda9639f6\" xlink:type=\"simple\"><rect fill=\"#FFFFFF\" height=\"45.9375\" id=\"E3\" rx=\"10\" ry=\"10\" style=\"stroke: #383838; stroke-width: 1.5;\" width=\"42\" x=\"133\" y=\"147\"/><text fill=\"#000000\" font-family=\"sans-serif\" font-size=\"12\" font-style=\"italic\" lengthAdjust=\"spacingAndGlyphs\" textLength=\"40\" x=\"134\" y=\"163.1387\">«part»</text><text fill=\"#000000\" font-family=\"sans-serif\" font-size=\"12\" lengthAdjust=\"spacingAndGlyphs\" textLength=\"8\" x=\"150\" y=\"177.1074\">a</text><line style=\"stroke: #383838; stroke-width: 1.5;\" x1=\"134\" x2=\"174\" y1=\"184.9375\" y2=\"184.9375\"/></a><!--MD5=[ebbe1d658d1005bcc118a6aa81145e00]\n",
       "class E4--><a href=\"psysml:8521a391-022b-403d-ab54-4e64ea01dd3a\" target=\"_top\" title=\"psysml:8521a391-022b-403d-ab54-4e64ea01dd3a\" xlink:actuate=\"onRequest\" xlink:href=\"psysml:8521a391-022b-403d-ab54-4e64ea01dd3a\" xlink:show=\"new\" xlink:title=\"psysml:8521a391-022b-403d-ab54-4e64ea01dd3a\" xlink:type=\"simple\"><rect fill=\"#FFFFFF\" height=\"45.9375\" id=\"E4\" style=\"stroke: #383838; stroke-width: 1.5;\" width=\"66\" x=\"32\" y=\"41\"/><text fill=\"#000000\" font-family=\"sans-serif\" font-size=\"12\" font-style=\"italic\" lengthAdjust=\"spacingAndGlyphs\" textLength=\"64\" x=\"33\" y=\"57.1387\">«part def»</text><text fill=\"#000000\" font-family=\"sans-serif\" font-size=\"12\" lengthAdjust=\"spacingAndGlyphs\" textLength=\"8\" x=\"61\" y=\"71.1074\">C</text><line style=\"stroke: #383838; stroke-width: 1.5;\" x1=\"33\" x2=\"97\" y1=\"78.9375\" y2=\"78.9375\"/></a><!--MD5=[270fce915f116d4de14055a7c1d9a0f3]\n",
       "class E5--><a href=\"psysml:7c666d7d-6a66-4269-8e3a-229640bb6ad0\" target=\"_top\" title=\"psysml:7c666d7d-6a66-4269-8e3a-229640bb6ad0\" xlink:actuate=\"onRequest\" xlink:href=\"psysml:7c666d7d-6a66-4269-8e3a-229640bb6ad0\" xlink:show=\"new\" xlink:title=\"psysml:7c666d7d-6a66-4269-8e3a-229640bb6ad0\" xlink:type=\"simple\"><rect fill=\"#FFFFFF\" height=\"45.9375\" id=\"E5\" rx=\"10\" ry=\"10\" style=\"stroke: #383838; stroke-width: 1.5;\" width=\"42\" x=\"44\" y=\"147\"/><text fill=\"#000000\" font-family=\"sans-serif\" font-size=\"12\" font-style=\"italic\" lengthAdjust=\"spacingAndGlyphs\" textLength=\"40\" x=\"45\" y=\"163.1387\">«part»</text><text fill=\"#000000\" font-family=\"sans-serif\" font-size=\"12\" lengthAdjust=\"spacingAndGlyphs\" textLength=\"8\" x=\"61\" y=\"177.1074\">g</text><line style=\"stroke: #383838; stroke-width: 1.5;\" x1=\"45\" x2=\"85\" y1=\"184.9375\" y2=\"184.9375\"/></a><!--MD5=[209b3feb70ccb6233bfe1053d122c12c]\n",
       "reverse link E2 to E3--><a href=\"psysml:71ed813c-2f6a-4d13-b6a9-9d55dbb4d689\" target=\"_top\" title=\"psysml:71ed813c-2f6a-4d13-b6a9-9d55dbb4d689\" xlink:actuate=\"onRequest\" xlink:href=\"psysml:71ed813c-2f6a-4d13-b6a9-9d55dbb4d689\" xlink:show=\"new\" xlink:title=\"psysml:71ed813c-2f6a-4d13-b6a9-9d55dbb4d689\" xlink:type=\"simple\"><path d=\"M154,100 C154,100 154,146.68 154,146.68 \" fill=\"none\" id=\"E2&lt;-E3\" style=\"stroke: #383838; stroke-width: 1.0;\"/><polygon fill=\"#383838\" points=\"154,87,150,93,154,99,158,93,154,87\" style=\"stroke: #383838; stroke-width: 1.0;\"/></a><!--MD5=[62aa6af11e70f752912c1cb0466f24f7]\n",
       "reverse link E4 to E5--><a href=\"psysml:66a9662c-d0de-409c-b1e7-d598996fdcb0\" target=\"_top\" title=\"psysml:66a9662c-d0de-409c-b1e7-d598996fdcb0\" xlink:actuate=\"onRequest\" xlink:href=\"psysml:66a9662c-d0de-409c-b1e7-d598996fdcb0\" xlink:show=\"new\" xlink:title=\"psysml:66a9662c-d0de-409c-b1e7-d598996fdcb0\" xlink:type=\"simple\"><path d=\"M65,100 C65,100 65,146.68 65,146.68 \" fill=\"none\" id=\"E4&lt;-E5\" style=\"stroke: #383838; stroke-width: 1.0;\"/><polygon fill=\"#383838\" points=\"65,87,61,93,65,99,69,93,65,87\" style=\"stroke: #383838; stroke-width: 1.0;\"/></a><!--MD5=[695ae2eb3761ba5613bd68135c2e4349]\n",
       "@startuml\r\n",
       "skinparam linetype ortho\r\n",
       "skinparam monochrome true\r\n",
       "skinparam classbackgroundcolor white\r\n",
       "skinparam shadowing false\r\n",
       "skinparam wrapWidth 300\r\n",
       "hide circle\r\n",
       "\r\n",
       "package \"Q\" as E1  [[psysml:48e9f940-1f69-4218-811f-6a29c7cbfcb6 ]]  {\r\n",
       "comp usage \"f\" as E2  <<(T,blue)part>> [[psysml:a224f497-53a8-4c97-a678-1669f6411a1a ]] {\r\n",
       "}\r\n",
       "comp usage \"a\" as E3  <<(T,blue)part>> [[psysml:692e246d-2e17-48ff-a8f3-1c9cda9639f6 ]] {\r\n",
       "}\r\n",
       "comp def \"C\" as E4  <<(T,blue)part def>> [[psysml:8521a391-022b-403d-ab54-4e64ea01dd3a ]] {\r\n",
       "}\r\n",
       "comp usage \"g\" as E5  <<(T,blue)part>> [[psysml:7c666d7d-6a66-4269-8e3a-229640bb6ad0 ]] {\r\n",
       "}\r\n",
       "E2 *- - E3 [[psysml:71ed813c-2f6a-4d13-b6a9-9d55dbb4d689 ]] \r\n",
       "E4 *- - E5 [[psysml:66a9662c-d0de-409c-b1e7-d598996fdcb0 ]] \r\n",
       "}\r\n",
       "@enduml\r\n",
       "\n",
       "PlantUML version 1.2020.13(Sat Jun 13 12:26:38 UTC 2020)\n",
       "(EPL source distribution)\n",
       "Java Runtime: OpenJDK Runtime Environment\n",
       "JVM: OpenJDK 64-Bit Server VM\n",
       "Default Encoding: UTF-8\n",
       "Language: en\n",
       "Country: null\n",
       "--></g></svg>"
      ]
     },
     "execution_count": 56,
     "metadata": {},
     "output_type": "execute_result"
    }
   ],
   "source": [
    "%viz --style=\"ORTHOLINE\" --view=\"Sequence\" \"Q\""
   ]
  },
  {
   "cell_type": "code",
   "execution_count": 57,
   "id": "5f1584f7",
   "metadata": {
    "execution": {
     "iopub.execute_input": "2021-04-21T20:21:04.428438Z",
     "iopub.status.busy": "2021-04-21T20:21:04.428057Z",
     "iopub.status.idle": "2021-04-21T20:21:04.456718Z",
     "shell.execute_reply": "2021-04-21T20:21:04.456309Z"
    }
   },
   "outputs": [
    {
     "data": {
      "image/svg+xml": [
       "<?xml version=\"1.0\" encoding=\"UTF-8\" standalone=\"no\"?><svg xmlns=\"http://www.w3.org/2000/svg\" xmlns:xlink=\"http://www.w3.org/1999/xlink\" contentScriptType=\"application/ecmascript\" contentStyleType=\"text/css\" height=\"221px\" preserveAspectRatio=\"none\" style=\"width:213px;height:221px;\" version=\"1.1\" viewBox=\"0 0 213 221\" width=\"213px\" zoomAndPan=\"magnify\"><defs/><g><!--MD5=[fbc87193dbaf4d95561dea2c320d4a47]\n",
       "cluster E1--><a href=\"psysml:48e9f940-1f69-4218-811f-6a29c7cbfcb6\" target=\"_top\" title=\"psysml:48e9f940-1f69-4218-811f-6a29c7cbfcb6\" xlink:actuate=\"onRequest\" xlink:href=\"psysml:48e9f940-1f69-4218-811f-6a29c7cbfcb6\" xlink:show=\"new\" xlink:title=\"psysml:48e9f940-1f69-4218-811f-6a29c7cbfcb6\" xlink:type=\"simple\"><polygon fill=\"#FFFFFF\" points=\"16,6,34,6,41,28.2969,191,28.2969,191,209,16,209,16,6\" style=\"stroke: #000000; stroke-width: 1.5;\"/><line style=\"stroke: #000000; stroke-width: 1.5;\" x1=\"16\" x2=\"41\" y1=\"28.2969\" y2=\"28.2969\"/><text fill=\"#000000\" font-family=\"sans-serif\" font-size=\"14\" font-weight=\"bold\" lengthAdjust=\"spacingAndGlyphs\" textLength=\"12\" x=\"20\" y=\"20.9951\">Q</text></a><!--MD5=[b4997ac47864f28c2f74865a473b2911]\n",
       "class E2--><a href=\"psysml:a224f497-53a8-4c97-a678-1669f6411a1a\" target=\"_top\" title=\"psysml:a224f497-53a8-4c97-a678-1669f6411a1a\" xlink:actuate=\"onRequest\" xlink:href=\"psysml:a224f497-53a8-4c97-a678-1669f6411a1a\" xlink:show=\"new\" xlink:title=\"psysml:a224f497-53a8-4c97-a678-1669f6411a1a\" xlink:type=\"simple\"><rect fill=\"#FFFFFF\" height=\"45.9375\" id=\"E2\" rx=\"10\" ry=\"10\" style=\"stroke: #383838; stroke-width: 1.5;\" width=\"42\" x=\"133\" y=\"41\"/><text fill=\"#000000\" font-family=\"sans-serif\" font-size=\"12\" font-style=\"italic\" lengthAdjust=\"spacingAndGlyphs\" textLength=\"40\" x=\"134\" y=\"57.1387\">«part»</text><text fill=\"#000000\" font-family=\"sans-serif\" font-size=\"12\" lengthAdjust=\"spacingAndGlyphs\" textLength=\"4\" x=\"152\" y=\"71.1074\">f</text><line style=\"stroke: #383838; stroke-width: 1.5;\" x1=\"134\" x2=\"174\" y1=\"78.9375\" y2=\"78.9375\"/></a><!--MD5=[09b614a08d8cba4a07c9adeb5e0fee81]\n",
       "class E3--><a href=\"psysml:692e246d-2e17-48ff-a8f3-1c9cda9639f6\" target=\"_top\" title=\"psysml:692e246d-2e17-48ff-a8f3-1c9cda9639f6\" xlink:actuate=\"onRequest\" xlink:href=\"psysml:692e246d-2e17-48ff-a8f3-1c9cda9639f6\" xlink:show=\"new\" xlink:title=\"psysml:692e246d-2e17-48ff-a8f3-1c9cda9639f6\" xlink:type=\"simple\"><rect fill=\"#FFFFFF\" height=\"45.9375\" id=\"E3\" rx=\"10\" ry=\"10\" style=\"stroke: #383838; stroke-width: 1.5;\" width=\"42\" x=\"133\" y=\"147\"/><text fill=\"#000000\" font-family=\"sans-serif\" font-size=\"12\" font-style=\"italic\" lengthAdjust=\"spacingAndGlyphs\" textLength=\"40\" x=\"134\" y=\"163.1387\">«part»</text><text fill=\"#000000\" font-family=\"sans-serif\" font-size=\"12\" lengthAdjust=\"spacingAndGlyphs\" textLength=\"8\" x=\"150\" y=\"177.1074\">a</text><line style=\"stroke: #383838; stroke-width: 1.5;\" x1=\"134\" x2=\"174\" y1=\"184.9375\" y2=\"184.9375\"/></a><!--MD5=[ebbe1d658d1005bcc118a6aa81145e00]\n",
       "class E4--><a href=\"psysml:8521a391-022b-403d-ab54-4e64ea01dd3a\" target=\"_top\" title=\"psysml:8521a391-022b-403d-ab54-4e64ea01dd3a\" xlink:actuate=\"onRequest\" xlink:href=\"psysml:8521a391-022b-403d-ab54-4e64ea01dd3a\" xlink:show=\"new\" xlink:title=\"psysml:8521a391-022b-403d-ab54-4e64ea01dd3a\" xlink:type=\"simple\"><rect fill=\"#FFFFFF\" height=\"45.9375\" id=\"E4\" style=\"stroke: #383838; stroke-width: 1.5;\" width=\"66\" x=\"32\" y=\"41\"/><text fill=\"#000000\" font-family=\"sans-serif\" font-size=\"12\" font-style=\"italic\" lengthAdjust=\"spacingAndGlyphs\" textLength=\"64\" x=\"33\" y=\"57.1387\">«part def»</text><text fill=\"#000000\" font-family=\"sans-serif\" font-size=\"12\" lengthAdjust=\"spacingAndGlyphs\" textLength=\"8\" x=\"61\" y=\"71.1074\">C</text><line style=\"stroke: #383838; stroke-width: 1.5;\" x1=\"33\" x2=\"97\" y1=\"78.9375\" y2=\"78.9375\"/></a><!--MD5=[270fce915f116d4de14055a7c1d9a0f3]\n",
       "class E5--><a href=\"psysml:7c666d7d-6a66-4269-8e3a-229640bb6ad0\" target=\"_top\" title=\"psysml:7c666d7d-6a66-4269-8e3a-229640bb6ad0\" xlink:actuate=\"onRequest\" xlink:href=\"psysml:7c666d7d-6a66-4269-8e3a-229640bb6ad0\" xlink:show=\"new\" xlink:title=\"psysml:7c666d7d-6a66-4269-8e3a-229640bb6ad0\" xlink:type=\"simple\"><rect fill=\"#FFFFFF\" height=\"45.9375\" id=\"E5\" rx=\"10\" ry=\"10\" style=\"stroke: #383838; stroke-width: 1.5;\" width=\"42\" x=\"44\" y=\"147\"/><text fill=\"#000000\" font-family=\"sans-serif\" font-size=\"12\" font-style=\"italic\" lengthAdjust=\"spacingAndGlyphs\" textLength=\"40\" x=\"45\" y=\"163.1387\">«part»</text><text fill=\"#000000\" font-family=\"sans-serif\" font-size=\"12\" lengthAdjust=\"spacingAndGlyphs\" textLength=\"8\" x=\"61\" y=\"177.1074\">g</text><line style=\"stroke: #383838; stroke-width: 1.5;\" x1=\"45\" x2=\"85\" y1=\"184.9375\" y2=\"184.9375\"/></a><!--MD5=[209b3feb70ccb6233bfe1053d122c12c]\n",
       "reverse link E2 to E3--><a href=\"psysml:71ed813c-2f6a-4d13-b6a9-9d55dbb4d689\" target=\"_top\" title=\"psysml:71ed813c-2f6a-4d13-b6a9-9d55dbb4d689\" xlink:actuate=\"onRequest\" xlink:href=\"psysml:71ed813c-2f6a-4d13-b6a9-9d55dbb4d689\" xlink:show=\"new\" xlink:title=\"psysml:71ed813c-2f6a-4d13-b6a9-9d55dbb4d689\" xlink:type=\"simple\"><path d=\"M154,100 C154,100 154,146.68 154,146.68 \" fill=\"none\" id=\"E2&lt;-E3\" style=\"stroke: #383838; stroke-width: 1.0;\"/><polygon fill=\"#383838\" points=\"154,87,150,93,154,99,158,93,154,87\" style=\"stroke: #383838; stroke-width: 1.0;\"/></a><!--MD5=[62aa6af11e70f752912c1cb0466f24f7]\n",
       "reverse link E4 to E5--><a href=\"psysml:66a9662c-d0de-409c-b1e7-d598996fdcb0\" target=\"_top\" title=\"psysml:66a9662c-d0de-409c-b1e7-d598996fdcb0\" xlink:actuate=\"onRequest\" xlink:href=\"psysml:66a9662c-d0de-409c-b1e7-d598996fdcb0\" xlink:show=\"new\" xlink:title=\"psysml:66a9662c-d0de-409c-b1e7-d598996fdcb0\" xlink:type=\"simple\"><path d=\"M65,100 C65,100 65,146.68 65,146.68 \" fill=\"none\" id=\"E4&lt;-E5\" style=\"stroke: #383838; stroke-width: 1.0;\"/><polygon fill=\"#383838\" points=\"65,87,61,93,65,99,69,93,65,87\" style=\"stroke: #383838; stroke-width: 1.0;\"/></a><!--MD5=[695ae2eb3761ba5613bd68135c2e4349]\n",
       "@startuml\r\n",
       "skinparam linetype ortho\r\n",
       "skinparam monochrome true\r\n",
       "skinparam classbackgroundcolor white\r\n",
       "skinparam shadowing false\r\n",
       "skinparam wrapWidth 300\r\n",
       "hide circle\r\n",
       "\r\n",
       "package \"Q\" as E1  [[psysml:48e9f940-1f69-4218-811f-6a29c7cbfcb6 ]]  {\r\n",
       "comp usage \"f\" as E2  <<(T,blue)part>> [[psysml:a224f497-53a8-4c97-a678-1669f6411a1a ]] {\r\n",
       "}\r\n",
       "comp usage \"a\" as E3  <<(T,blue)part>> [[psysml:692e246d-2e17-48ff-a8f3-1c9cda9639f6 ]] {\r\n",
       "}\r\n",
       "comp def \"C\" as E4  <<(T,blue)part def>> [[psysml:8521a391-022b-403d-ab54-4e64ea01dd3a ]] {\r\n",
       "}\r\n",
       "comp usage \"g\" as E5  <<(T,blue)part>> [[psysml:7c666d7d-6a66-4269-8e3a-229640bb6ad0 ]] {\r\n",
       "}\r\n",
       "E2 *- - E3 [[psysml:71ed813c-2f6a-4d13-b6a9-9d55dbb4d689 ]] \r\n",
       "E4 *- - E5 [[psysml:66a9662c-d0de-409c-b1e7-d598996fdcb0 ]] \r\n",
       "}\r\n",
       "@enduml\r\n",
       "\n",
       "PlantUML version 1.2020.13(Sat Jun 13 12:26:38 UTC 2020)\n",
       "(EPL source distribution)\n",
       "Java Runtime: OpenJDK Runtime Environment\n",
       "JVM: OpenJDK 64-Bit Server VM\n",
       "Default Encoding: UTF-8\n",
       "Language: en\n",
       "Country: null\n",
       "--></g></svg>"
      ]
     },
     "execution_count": 57,
     "metadata": {},
     "output_type": "execute_result"
    }
   ],
   "source": [
    "%viz --style=\"ORTHOLINE\" --view=\"MIXED\" \"Q\""
   ]
  }
 ],
 "metadata": {
  "kernelspec": {
   "display_name": "SysML",
   "language": "sysml",
   "name": "sysml"
  },
  "language_info": {
   "codemirror_mode": "sysml",
   "file_extension": ".sysml",
   "mimetype": "text/x-sysml",
   "name": "SysML",
   "pygments_lexer": "java",
   "version": "1.0.0"
  }
 },
 "nbformat": 4,
 "nbformat_minor": 5
}
