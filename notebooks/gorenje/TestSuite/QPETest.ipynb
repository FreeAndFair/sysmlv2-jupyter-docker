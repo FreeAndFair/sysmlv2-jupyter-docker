{
 "cells": [
  {
   "cell_type": "markdown",
   "id": "objective-henry",
   "metadata": {},
   "source": [
    "# SysML v2 Test Suite\n",
    "\n",
    "This can notebook can be cleared using menu `Edit --> Clear All Outputs` and then all cells can be\n",
    "run using menu `Run --> Run All Cells`.\n",
    "\n",
    "**WARNING**: This file is generated, all modifications here will be ignored.\n"
   ]
  },
  {
   "cell_type": "markdown",
   "id": "alpine-compilation",
   "metadata": {},
   "source": [
    "## File: ../../sysml/src/examples/Simple Tests/QPETest.sysml"
   ]
  },
  {
   "cell_type": "code",
   "execution_count": 1,
   "id": "helpful-housing",
   "metadata": {
    "execution": {
     "iopub.execute_input": "2021-03-25T15:00:51.819624Z",
     "iopub.status.busy": "2021-03-25T15:00:51.818961Z",
     "iopub.status.idle": "2021-03-25T15:00:52.290671Z",
     "shell.execute_reply": "2021-03-25T15:00:52.290133Z"
    }
   },
   "outputs": [
    {
     "data": {
      "text/plain": [
       "Package Q (1d555159-3a73-4585-9095-90c7fc220430)\n"
      ]
     },
     "execution_count": 1,
     "metadata": {},
     "output_type": "execute_result"
    }
   ],
   "source": [
    "package Q {\n",
    "  part f {\n",
    "  \tpart a;\n",
    "  }\n",
    "  part def C {\n",
    "    part g = ./f/a; \n",
    "  }\n",
    "}\n"
   ]
  },
  {
   "cell_type": "code",
   "execution_count": 2,
   "id": "extra-conditions",
   "metadata": {
    "execution": {
     "iopub.execute_input": "2021-03-25T15:00:52.347528Z",
     "iopub.status.busy": "2021-03-25T15:00:52.346586Z",
     "iopub.status.idle": "2021-03-25T15:00:53.283407Z",
     "shell.execute_reply": "2021-03-25T15:00:53.283933Z"
    }
   },
   "outputs": [
    {
     "data": {
      "image/svg+xml": [
       "<?xml version=\"1.0\" encoding=\"UTF-8\" standalone=\"no\"?><svg xmlns=\"http://www.w3.org/2000/svg\" xmlns:xlink=\"http://www.w3.org/1999/xlink\" contentScriptType=\"application/ecmascript\" contentStyleType=\"text/css\" height=\"221px\" preserveAspectRatio=\"none\" style=\"width:265px;height:221px;\" version=\"1.1\" viewBox=\"0 0 265 221\" width=\"265px\" zoomAndPan=\"magnify\"><defs><filter height=\"300%\" id=\"f1j1rywb5j8akn\" width=\"300%\" x=\"-1\" y=\"-1\"><feGaussianBlur result=\"blurOut\" stdDeviation=\"2.0\"/><feColorMatrix in=\"blurOut\" result=\"blurOut2\" type=\"matrix\" values=\"0 0 0 0 0 0 0 0 0 0 0 0 0 0 0 0 0 0 .4 0\"/><feOffset dx=\"4.0\" dy=\"4.0\" in=\"blurOut2\" result=\"blurOut3\"/><feBlend in=\"SourceGraphic\" in2=\"blurOut3\" mode=\"normal\"/></filter></defs><g><!--MD5=[fbc87193dbaf4d95561dea2c320d4a47]\n",
       "cluster E1--><a href=\"psysml:1ca4998e-7283-4312-8b1a-8c25c589ba37\" target=\"_top\" title=\"psysml:1ca4998e-7283-4312-8b1a-8c25c589ba37\" xlink:actuate=\"onRequest\" xlink:href=\"psysml:1ca4998e-7283-4312-8b1a-8c25c589ba37\" xlink:show=\"new\" xlink:title=\"psysml:1ca4998e-7283-4312-8b1a-8c25c589ba37\" xlink:type=\"simple\"><polygon fill=\"#FFFFFF\" filter=\"url(#f1j1rywb5j8akn)\" points=\"16,6,34,6,41,28.2969,243,28.2969,243,209,16,209,16,6\" style=\"stroke: #000000; stroke-width: 1.5;\"/><line style=\"stroke: #000000; stroke-width: 1.5;\" x1=\"16\" x2=\"41\" y1=\"28.2969\" y2=\"28.2969\"/><text fill=\"#000000\" font-family=\"sans-serif\" font-size=\"14\" font-weight=\"bold\" lengthAdjust=\"spacingAndGlyphs\" textLength=\"12\" x=\"20\" y=\"20.9951\">Q</text></a><!--MD5=[b4997ac47864f28c2f74865a473b2911]\n",
       "class E2--><a href=\"psysml:9f0b35e2-e039-4fc1-a74b-e29bd15d28ff\" target=\"_top\" title=\"psysml:9f0b35e2-e039-4fc1-a74b-e29bd15d28ff\" xlink:actuate=\"onRequest\" xlink:href=\"psysml:9f0b35e2-e039-4fc1-a74b-e29bd15d28ff\" xlink:show=\"new\" xlink:title=\"psysml:9f0b35e2-e039-4fc1-a74b-e29bd15d28ff\" xlink:type=\"simple\"><rect fill=\"#FEFECE\" filter=\"url(#f1j1rywb5j8akn)\" height=\"45.9375\" id=\"E2\" rx=\"10\" ry=\"10\" style=\"stroke: #A80036; stroke-width: 1.5;\" width=\"68\" x=\"159\" y=\"41\"/><ellipse cx=\"174\" cy=\"59.9688\" fill=\"#0000FF\" rx=\"11\" ry=\"11\" style=\"stroke: #A80036; stroke-width: 1.0;\"/><path d=\"M174.8438,66.7188 L172.3906,66.7188 L172.3906,56.4688 L169.25,56.4688 L169.25,54.3281 L177.9844,54.3281 L177.9844,56.4688 L174.8438,56.4688 L174.8438,66.7188 Z \"/><text fill=\"#000000\" font-family=\"sans-serif\" font-size=\"12\" font-style=\"italic\" lengthAdjust=\"spacingAndGlyphs\" textLength=\"40\" x=\"186\" y=\"57.1387\">«part»</text><text fill=\"#000000\" font-family=\"sans-serif\" font-size=\"12\" lengthAdjust=\"spacingAndGlyphs\" textLength=\"4\" x=\"204\" y=\"71.1074\">f</text><line style=\"stroke: #A80036; stroke-width: 1.5;\" x1=\"160\" x2=\"226\" y1=\"78.9375\" y2=\"78.9375\"/></a><!--MD5=[09b614a08d8cba4a07c9adeb5e0fee81]\n",
       "class E3--><a href=\"psysml:9a16e398-0ba6-448d-aba1-0f88a9a52804\" target=\"_top\" title=\"psysml:9a16e398-0ba6-448d-aba1-0f88a9a52804\" xlink:actuate=\"onRequest\" xlink:href=\"psysml:9a16e398-0ba6-448d-aba1-0f88a9a52804\" xlink:show=\"new\" xlink:title=\"psysml:9a16e398-0ba6-448d-aba1-0f88a9a52804\" xlink:type=\"simple\"><rect fill=\"#FEFECE\" filter=\"url(#f1j1rywb5j8akn)\" height=\"45.9375\" id=\"E3\" rx=\"10\" ry=\"10\" style=\"stroke: #A80036; stroke-width: 1.5;\" width=\"68\" x=\"159\" y=\"147\"/><ellipse cx=\"174\" cy=\"165.9688\" fill=\"#0000FF\" rx=\"11\" ry=\"11\" style=\"stroke: #A80036; stroke-width: 1.0;\"/><path d=\"M174.8438,172.7188 L172.3906,172.7188 L172.3906,162.4688 L169.25,162.4688 L169.25,160.3281 L177.9844,160.3281 L177.9844,162.4688 L174.8438,162.4688 L174.8438,172.7188 Z \"/><text fill=\"#000000\" font-family=\"sans-serif\" font-size=\"12\" font-style=\"italic\" lengthAdjust=\"spacingAndGlyphs\" textLength=\"40\" x=\"186\" y=\"163.1387\">«part»</text><text fill=\"#000000\" font-family=\"sans-serif\" font-size=\"12\" lengthAdjust=\"spacingAndGlyphs\" textLength=\"8\" x=\"202\" y=\"177.1074\">a</text><line style=\"stroke: #A80036; stroke-width: 1.5;\" x1=\"160\" x2=\"226\" y1=\"184.9375\" y2=\"184.9375\"/></a><!--MD5=[ebbe1d658d1005bcc118a6aa81145e00]\n",
       "class E4--><a href=\"psysml:17ca64f8-f38a-4aec-8c02-fbca076b4a28\" target=\"_top\" title=\"psysml:17ca64f8-f38a-4aec-8c02-fbca076b4a28\" xlink:actuate=\"onRequest\" xlink:href=\"psysml:17ca64f8-f38a-4aec-8c02-fbca076b4a28\" xlink:show=\"new\" xlink:title=\"psysml:17ca64f8-f38a-4aec-8c02-fbca076b4a28\" xlink:type=\"simple\"><rect fill=\"#FEFECE\" filter=\"url(#f1j1rywb5j8akn)\" height=\"45.9375\" id=\"E4\" style=\"stroke: #A80036; stroke-width: 1.5;\" width=\"92\" x=\"32\" y=\"41\"/><ellipse cx=\"47\" cy=\"59.9688\" fill=\"#0000FF\" rx=\"11\" ry=\"11\" style=\"stroke: #A80036; stroke-width: 1.0;\"/><path d=\"M47.8438,66.7188 L45.3906,66.7188 L45.3906,56.4688 L42.25,56.4688 L42.25,54.3281 L50.9844,54.3281 L50.9844,56.4688 L47.8438,56.4688 L47.8438,66.7188 Z \"/><text fill=\"#000000\" font-family=\"sans-serif\" font-size=\"12\" font-style=\"italic\" lengthAdjust=\"spacingAndGlyphs\" textLength=\"64\" x=\"59\" y=\"57.1387\">«part def»</text><text fill=\"#000000\" font-family=\"sans-serif\" font-size=\"12\" lengthAdjust=\"spacingAndGlyphs\" textLength=\"8\" x=\"87\" y=\"71.1074\">C</text><line style=\"stroke: #A80036; stroke-width: 1.5;\" x1=\"33\" x2=\"123\" y1=\"78.9375\" y2=\"78.9375\"/></a><!--MD5=[270fce915f116d4de14055a7c1d9a0f3]\n",
       "class E5--><a href=\"psysml:43d8af85-10f5-4c20-8018-948df50254a5\" target=\"_top\" title=\"psysml:43d8af85-10f5-4c20-8018-948df50254a5\" xlink:actuate=\"onRequest\" xlink:href=\"psysml:43d8af85-10f5-4c20-8018-948df50254a5\" xlink:show=\"new\" xlink:title=\"psysml:43d8af85-10f5-4c20-8018-948df50254a5\" xlink:type=\"simple\"><rect fill=\"#FEFECE\" filter=\"url(#f1j1rywb5j8akn)\" height=\"45.9375\" id=\"E5\" rx=\"10\" ry=\"10\" style=\"stroke: #A80036; stroke-width: 1.5;\" width=\"68\" x=\"44\" y=\"147\"/><ellipse cx=\"59\" cy=\"165.9688\" fill=\"#0000FF\" rx=\"11\" ry=\"11\" style=\"stroke: #A80036; stroke-width: 1.0;\"/><path d=\"M59.8438,172.7188 L57.3906,172.7188 L57.3906,162.4688 L54.25,162.4688 L54.25,160.3281 L62.9844,160.3281 L62.9844,162.4688 L59.8438,162.4688 L59.8438,172.7188 Z \"/><text fill=\"#000000\" font-family=\"sans-serif\" font-size=\"12\" font-style=\"italic\" lengthAdjust=\"spacingAndGlyphs\" textLength=\"40\" x=\"71\" y=\"163.1387\">«part»</text><text fill=\"#000000\" font-family=\"sans-serif\" font-size=\"12\" lengthAdjust=\"spacingAndGlyphs\" textLength=\"8\" x=\"87\" y=\"177.1074\">g</text><line style=\"stroke: #A80036; stroke-width: 1.5;\" x1=\"45\" x2=\"111\" y1=\"184.9375\" y2=\"184.9375\"/></a><!--MD5=[209b3feb70ccb6233bfe1053d122c12c]\n",
       "reverse link E2 to E3--><a href=\"psysml:9a16e398-0ba6-448d-aba1-0f88a9a52804\" target=\"_top\" title=\"psysml:9a16e398-0ba6-448d-aba1-0f88a9a52804\" xlink:actuate=\"onRequest\" xlink:href=\"psysml:9a16e398-0ba6-448d-aba1-0f88a9a52804\" xlink:show=\"new\" xlink:title=\"psysml:9a16e398-0ba6-448d-aba1-0f88a9a52804\" xlink:type=\"simple\"><path d=\"M193,100.44 C193,115.87 193,133.47 193,146.98 \" fill=\"none\" id=\"E2&lt;-E3\" style=\"stroke: #A80036; stroke-width: 1.0;\"/><polygon fill=\"#A80036\" points=\"193,87.06,189,93.06,193,99.06,197,93.06,193,87.06\" style=\"stroke: #A80036; stroke-width: 1.0;\"/></a><!--MD5=[62aa6af11e70f752912c1cb0466f24f7]\n",
       "reverse link E4 to E5--><a href=\"psysml:43d8af85-10f5-4c20-8018-948df50254a5\" target=\"_top\" title=\"psysml:43d8af85-10f5-4c20-8018-948df50254a5\" xlink:actuate=\"onRequest\" xlink:href=\"psysml:43d8af85-10f5-4c20-8018-948df50254a5\" xlink:show=\"new\" xlink:title=\"psysml:43d8af85-10f5-4c20-8018-948df50254a5\" xlink:type=\"simple\"><path d=\"M78,100.44 C78,115.87 78,133.47 78,146.98 \" fill=\"none\" id=\"E4&lt;-E5\" style=\"stroke: #A80036; stroke-width: 1.0;\"/><polygon fill=\"#A80036\" points=\"78,87.06,74,93.06,78,99.06,82,93.06,78,87.06\" style=\"stroke: #A80036; stroke-width: 1.0;\"/></a><!--MD5=[c182b13390bd11e58b8f320bc5b17914]\n",
       "@startuml\r\n",
       " \r\n",
       "package \"Q\" as E1  [[psysml:1ca4998e-7283-4312-8b1a-8c25c589ba37 ]]  {\r\n",
       "comp usage \"f\" as E2  <<(T,blue)part>> [[psysml:9f0b35e2-e039-4fc1-a74b-e29bd15d28ff ]] {\r\n",
       "}\r\n",
       "comp usage \"a\" as E3  <<(T,blue)part>> [[psysml:9a16e398-0ba6-448d-aba1-0f88a9a52804 ]] {\r\n",
       "}\r\n",
       "comp def \"C\" as E4  <<(T,blue)part def>> [[psysml:17ca64f8-f38a-4aec-8c02-fbca076b4a28 ]] {\r\n",
       "}\r\n",
       "comp usage \"g\" as E5  <<(T,blue)part>> [[psysml:43d8af85-10f5-4c20-8018-948df50254a5 ]] {\r\n",
       "}\r\n",
       "E2 *- - E3 [[psysml:9a16e398-0ba6-448d-aba1-0f88a9a52804 ]] \r\n",
       "E4 *- - E5 [[psysml:43d8af85-10f5-4c20-8018-948df50254a5 ]] \r\n",
       "}\r\n",
       "@enduml\r\n",
       "\n",
       "PlantUML version 1.2020.13(Sat Jun 13 12:26:38 UTC 2020)\n",
       "(EPL source distribution)\n",
       "Java Runtime: OpenJDK Runtime Environment\n",
       "JVM: OpenJDK 64-Bit Server VM\n",
       "Default Encoding: UTF-8\n",
       "Language: en\n",
       "Country: null\n",
       "--></g></svg>"
      ]
     },
     "execution_count": 2,
     "metadata": {},
     "output_type": "execute_result"
    }
   ],
   "source": [
    "%viz --style=\"COMPTREE\" --view=\"Default\" \"Q\""
   ]
  },
  {
   "cell_type": "code",
   "execution_count": 3,
   "id": "removed-wilson",
   "metadata": {
    "execution": {
     "iopub.execute_input": "2021-03-25T15:00:53.335349Z",
     "iopub.status.busy": "2021-03-25T15:00:53.334059Z",
     "iopub.status.idle": "2021-03-25T15:00:53.441156Z",
     "shell.execute_reply": "2021-03-25T15:00:53.441791Z"
    }
   },
   "outputs": [
    {
     "data": {
      "image/svg+xml": [
       "<?xml version=\"1.0\" encoding=\"UTF-8\" standalone=\"no\"?><svg xmlns=\"http://www.w3.org/2000/svg\" xmlns:xlink=\"http://www.w3.org/1999/xlink\" contentScriptType=\"application/ecmascript\" contentStyleType=\"text/css\" height=\"221px\" preserveAspectRatio=\"none\" style=\"width:265px;height:221px;\" version=\"1.1\" viewBox=\"0 0 265 221\" width=\"265px\" zoomAndPan=\"magnify\"><defs><filter height=\"300%\" id=\"f1j1rywb5j8akn\" width=\"300%\" x=\"-1\" y=\"-1\"><feGaussianBlur result=\"blurOut\" stdDeviation=\"2.0\"/><feColorMatrix in=\"blurOut\" result=\"blurOut2\" type=\"matrix\" values=\"0 0 0 0 0 0 0 0 0 0 0 0 0 0 0 0 0 0 .4 0\"/><feOffset dx=\"4.0\" dy=\"4.0\" in=\"blurOut2\" result=\"blurOut3\"/><feBlend in=\"SourceGraphic\" in2=\"blurOut3\" mode=\"normal\"/></filter></defs><g><!--MD5=[fbc87193dbaf4d95561dea2c320d4a47]\n",
       "cluster E1--><a href=\"psysml:1ca4998e-7283-4312-8b1a-8c25c589ba37\" target=\"_top\" title=\"psysml:1ca4998e-7283-4312-8b1a-8c25c589ba37\" xlink:actuate=\"onRequest\" xlink:href=\"psysml:1ca4998e-7283-4312-8b1a-8c25c589ba37\" xlink:show=\"new\" xlink:title=\"psysml:1ca4998e-7283-4312-8b1a-8c25c589ba37\" xlink:type=\"simple\"><polygon fill=\"#FFFFFF\" filter=\"url(#f1j1rywb5j8akn)\" points=\"16,6,34,6,41,28.2969,243,28.2969,243,209,16,209,16,6\" style=\"stroke: #000000; stroke-width: 1.5;\"/><line style=\"stroke: #000000; stroke-width: 1.5;\" x1=\"16\" x2=\"41\" y1=\"28.2969\" y2=\"28.2969\"/><text fill=\"#000000\" font-family=\"sans-serif\" font-size=\"14\" font-weight=\"bold\" lengthAdjust=\"spacingAndGlyphs\" textLength=\"12\" x=\"20\" y=\"20.9951\">Q</text></a><!--MD5=[b4997ac47864f28c2f74865a473b2911]\n",
       "class E2--><a href=\"psysml:9f0b35e2-e039-4fc1-a74b-e29bd15d28ff\" target=\"_top\" title=\"psysml:9f0b35e2-e039-4fc1-a74b-e29bd15d28ff\" xlink:actuate=\"onRequest\" xlink:href=\"psysml:9f0b35e2-e039-4fc1-a74b-e29bd15d28ff\" xlink:show=\"new\" xlink:title=\"psysml:9f0b35e2-e039-4fc1-a74b-e29bd15d28ff\" xlink:type=\"simple\"><rect fill=\"#FEFECE\" filter=\"url(#f1j1rywb5j8akn)\" height=\"45.9375\" id=\"E2\" rx=\"10\" ry=\"10\" style=\"stroke: #A80036; stroke-width: 1.5;\" width=\"68\" x=\"159\" y=\"41\"/><ellipse cx=\"174\" cy=\"59.9688\" fill=\"#0000FF\" rx=\"11\" ry=\"11\" style=\"stroke: #A80036; stroke-width: 1.0;\"/><path d=\"M174.8438,66.7188 L172.3906,66.7188 L172.3906,56.4688 L169.25,56.4688 L169.25,54.3281 L177.9844,54.3281 L177.9844,56.4688 L174.8438,56.4688 L174.8438,66.7188 Z \"/><text fill=\"#000000\" font-family=\"sans-serif\" font-size=\"12\" font-style=\"italic\" lengthAdjust=\"spacingAndGlyphs\" textLength=\"40\" x=\"186\" y=\"57.1387\">«part»</text><text fill=\"#000000\" font-family=\"sans-serif\" font-size=\"12\" lengthAdjust=\"spacingAndGlyphs\" textLength=\"4\" x=\"204\" y=\"71.1074\">f</text><line style=\"stroke: #A80036; stroke-width: 1.5;\" x1=\"160\" x2=\"226\" y1=\"78.9375\" y2=\"78.9375\"/></a><!--MD5=[09b614a08d8cba4a07c9adeb5e0fee81]\n",
       "class E3--><a href=\"psysml:9a16e398-0ba6-448d-aba1-0f88a9a52804\" target=\"_top\" title=\"psysml:9a16e398-0ba6-448d-aba1-0f88a9a52804\" xlink:actuate=\"onRequest\" xlink:href=\"psysml:9a16e398-0ba6-448d-aba1-0f88a9a52804\" xlink:show=\"new\" xlink:title=\"psysml:9a16e398-0ba6-448d-aba1-0f88a9a52804\" xlink:type=\"simple\"><rect fill=\"#FEFECE\" filter=\"url(#f1j1rywb5j8akn)\" height=\"45.9375\" id=\"E3\" rx=\"10\" ry=\"10\" style=\"stroke: #A80036; stroke-width: 1.5;\" width=\"68\" x=\"159\" y=\"147\"/><ellipse cx=\"174\" cy=\"165.9688\" fill=\"#0000FF\" rx=\"11\" ry=\"11\" style=\"stroke: #A80036; stroke-width: 1.0;\"/><path d=\"M174.8438,172.7188 L172.3906,172.7188 L172.3906,162.4688 L169.25,162.4688 L169.25,160.3281 L177.9844,160.3281 L177.9844,162.4688 L174.8438,162.4688 L174.8438,172.7188 Z \"/><text fill=\"#000000\" font-family=\"sans-serif\" font-size=\"12\" font-style=\"italic\" lengthAdjust=\"spacingAndGlyphs\" textLength=\"40\" x=\"186\" y=\"163.1387\">«part»</text><text fill=\"#000000\" font-family=\"sans-serif\" font-size=\"12\" lengthAdjust=\"spacingAndGlyphs\" textLength=\"8\" x=\"202\" y=\"177.1074\">a</text><line style=\"stroke: #A80036; stroke-width: 1.5;\" x1=\"160\" x2=\"226\" y1=\"184.9375\" y2=\"184.9375\"/></a><!--MD5=[ebbe1d658d1005bcc118a6aa81145e00]\n",
       "class E4--><a href=\"psysml:17ca64f8-f38a-4aec-8c02-fbca076b4a28\" target=\"_top\" title=\"psysml:17ca64f8-f38a-4aec-8c02-fbca076b4a28\" xlink:actuate=\"onRequest\" xlink:href=\"psysml:17ca64f8-f38a-4aec-8c02-fbca076b4a28\" xlink:show=\"new\" xlink:title=\"psysml:17ca64f8-f38a-4aec-8c02-fbca076b4a28\" xlink:type=\"simple\"><rect fill=\"#FEFECE\" filter=\"url(#f1j1rywb5j8akn)\" height=\"45.9375\" id=\"E4\" style=\"stroke: #A80036; stroke-width: 1.5;\" width=\"92\" x=\"32\" y=\"41\"/><ellipse cx=\"47\" cy=\"59.9688\" fill=\"#0000FF\" rx=\"11\" ry=\"11\" style=\"stroke: #A80036; stroke-width: 1.0;\"/><path d=\"M47.8438,66.7188 L45.3906,66.7188 L45.3906,56.4688 L42.25,56.4688 L42.25,54.3281 L50.9844,54.3281 L50.9844,56.4688 L47.8438,56.4688 L47.8438,66.7188 Z \"/><text fill=\"#000000\" font-family=\"sans-serif\" font-size=\"12\" font-style=\"italic\" lengthAdjust=\"spacingAndGlyphs\" textLength=\"64\" x=\"59\" y=\"57.1387\">«part def»</text><text fill=\"#000000\" font-family=\"sans-serif\" font-size=\"12\" lengthAdjust=\"spacingAndGlyphs\" textLength=\"8\" x=\"87\" y=\"71.1074\">C</text><line style=\"stroke: #A80036; stroke-width: 1.5;\" x1=\"33\" x2=\"123\" y1=\"78.9375\" y2=\"78.9375\"/></a><!--MD5=[270fce915f116d4de14055a7c1d9a0f3]\n",
       "class E5--><a href=\"psysml:43d8af85-10f5-4c20-8018-948df50254a5\" target=\"_top\" title=\"psysml:43d8af85-10f5-4c20-8018-948df50254a5\" xlink:actuate=\"onRequest\" xlink:href=\"psysml:43d8af85-10f5-4c20-8018-948df50254a5\" xlink:show=\"new\" xlink:title=\"psysml:43d8af85-10f5-4c20-8018-948df50254a5\" xlink:type=\"simple\"><rect fill=\"#FEFECE\" filter=\"url(#f1j1rywb5j8akn)\" height=\"45.9375\" id=\"E5\" rx=\"10\" ry=\"10\" style=\"stroke: #A80036; stroke-width: 1.5;\" width=\"68\" x=\"44\" y=\"147\"/><ellipse cx=\"59\" cy=\"165.9688\" fill=\"#0000FF\" rx=\"11\" ry=\"11\" style=\"stroke: #A80036; stroke-width: 1.0;\"/><path d=\"M59.8438,172.7188 L57.3906,172.7188 L57.3906,162.4688 L54.25,162.4688 L54.25,160.3281 L62.9844,160.3281 L62.9844,162.4688 L59.8438,162.4688 L59.8438,172.7188 Z \"/><text fill=\"#000000\" font-family=\"sans-serif\" font-size=\"12\" font-style=\"italic\" lengthAdjust=\"spacingAndGlyphs\" textLength=\"40\" x=\"71\" y=\"163.1387\">«part»</text><text fill=\"#000000\" font-family=\"sans-serif\" font-size=\"12\" lengthAdjust=\"spacingAndGlyphs\" textLength=\"8\" x=\"87\" y=\"177.1074\">g</text><line style=\"stroke: #A80036; stroke-width: 1.5;\" x1=\"45\" x2=\"111\" y1=\"184.9375\" y2=\"184.9375\"/></a><!--MD5=[209b3feb70ccb6233bfe1053d122c12c]\n",
       "reverse link E2 to E3--><a href=\"psysml:9a16e398-0ba6-448d-aba1-0f88a9a52804\" target=\"_top\" title=\"psysml:9a16e398-0ba6-448d-aba1-0f88a9a52804\" xlink:actuate=\"onRequest\" xlink:href=\"psysml:9a16e398-0ba6-448d-aba1-0f88a9a52804\" xlink:show=\"new\" xlink:title=\"psysml:9a16e398-0ba6-448d-aba1-0f88a9a52804\" xlink:type=\"simple\"><path d=\"M193,100.44 C193,115.87 193,133.47 193,146.98 \" fill=\"none\" id=\"E2&lt;-E3\" style=\"stroke: #A80036; stroke-width: 1.0;\"/><polygon fill=\"#A80036\" points=\"193,87.06,189,93.06,193,99.06,197,93.06,193,87.06\" style=\"stroke: #A80036; stroke-width: 1.0;\"/></a><!--MD5=[62aa6af11e70f752912c1cb0466f24f7]\n",
       "reverse link E4 to E5--><a href=\"psysml:43d8af85-10f5-4c20-8018-948df50254a5\" target=\"_top\" title=\"psysml:43d8af85-10f5-4c20-8018-948df50254a5\" xlink:actuate=\"onRequest\" xlink:href=\"psysml:43d8af85-10f5-4c20-8018-948df50254a5\" xlink:show=\"new\" xlink:title=\"psysml:43d8af85-10f5-4c20-8018-948df50254a5\" xlink:type=\"simple\"><path d=\"M78,100.44 C78,115.87 78,133.47 78,146.98 \" fill=\"none\" id=\"E4&lt;-E5\" style=\"stroke: #A80036; stroke-width: 1.0;\"/><polygon fill=\"#A80036\" points=\"78,87.06,74,93.06,78,99.06,82,93.06,78,87.06\" style=\"stroke: #A80036; stroke-width: 1.0;\"/></a><!--MD5=[c182b13390bd11e58b8f320bc5b17914]\n",
       "@startuml\r\n",
       " \r\n",
       "package \"Q\" as E1  [[psysml:1ca4998e-7283-4312-8b1a-8c25c589ba37 ]]  {\r\n",
       "comp usage \"f\" as E2  <<(T,blue)part>> [[psysml:9f0b35e2-e039-4fc1-a74b-e29bd15d28ff ]] {\r\n",
       "}\r\n",
       "comp usage \"a\" as E3  <<(T,blue)part>> [[psysml:9a16e398-0ba6-448d-aba1-0f88a9a52804 ]] {\r\n",
       "}\r\n",
       "comp def \"C\" as E4  <<(T,blue)part def>> [[psysml:17ca64f8-f38a-4aec-8c02-fbca076b4a28 ]] {\r\n",
       "}\r\n",
       "comp usage \"g\" as E5  <<(T,blue)part>> [[psysml:43d8af85-10f5-4c20-8018-948df50254a5 ]] {\r\n",
       "}\r\n",
       "E2 *- - E3 [[psysml:9a16e398-0ba6-448d-aba1-0f88a9a52804 ]] \r\n",
       "E4 *- - E5 [[psysml:43d8af85-10f5-4c20-8018-948df50254a5 ]] \r\n",
       "}\r\n",
       "@enduml\r\n",
       "\n",
       "PlantUML version 1.2020.13(Sat Jun 13 12:26:38 UTC 2020)\n",
       "(EPL source distribution)\n",
       "Java Runtime: OpenJDK Runtime Environment\n",
       "JVM: OpenJDK 64-Bit Server VM\n",
       "Default Encoding: UTF-8\n",
       "Language: en\n",
       "Country: null\n",
       "--></g></svg>"
      ]
     },
     "execution_count": 3,
     "metadata": {},
     "output_type": "execute_result"
    }
   ],
   "source": [
    "%viz --style=\"COMPTREE\" --view=\"Tree\" \"Q\""
   ]
  },
  {
   "cell_type": "code",
   "execution_count": 4,
   "id": "characteristic-harvard",
   "metadata": {
    "execution": {
     "iopub.execute_input": "2021-03-25T15:00:53.492455Z",
     "iopub.status.busy": "2021-03-25T15:00:53.491865Z",
     "iopub.status.idle": "2021-03-25T15:00:54.622552Z",
     "shell.execute_reply": "2021-03-25T15:00:54.622021Z"
    }
   },
   "outputs": [
    {
     "data": {
      "image/svg+xml": [
       "<?xml version=\"1.0\" encoding=\"UTF-8\" standalone=\"no\"?><svg xmlns=\"http://www.w3.org/2000/svg\" xmlns:xlink=\"http://www.w3.org/1999/xlink\" contentScriptType=\"application/ecmascript\" contentStyleType=\"text/css\" height=\"303px\" preserveAspectRatio=\"none\" style=\"width:603px;height:303px;background:#000000;\" version=\"1.1\" viewBox=\"0 0 603 303\" width=\"603px\" zoomAndPan=\"magnify\"><defs/><g><rect fill=\"#241216\" height=\"1\" style=\"stroke: #241216; stroke-width: 1.0;\" width=\"1\" x=\"0\" y=\"0\"/><rect fill=\"#FFFFFF\" height=\"205.5625\" style=\"stroke: #FFFFFF; stroke-width: 1.0;\" width=\"602\" x=\"0\" y=\"0\"/><text fill=\"#000000\" font-family=\"sans-serif\" font-size=\"12\" font-weight=\"bold\" lengthAdjust=\"spacingAndGlyphs\" textLength=\"159\" x=\"5\" y=\"16.1387\">Welcome to PlantUML!</text><text fill=\"#000000\" font-family=\"sans-serif\" font-size=\"12\" lengthAdjust=\"spacingAndGlyphs\" textLength=\"0\" x=\"9\" y=\"30.1074\"/><text fill=\"#000000\" font-family=\"sans-serif\" font-size=\"12\" lengthAdjust=\"spacingAndGlyphs\" textLength=\"293\" x=\"5\" y=\"44.0762\">If you use this software, you accept its license.</text><text fill=\"#000000\" font-family=\"sans-serif\" font-size=\"12\" lengthAdjust=\"spacingAndGlyphs\" textLength=\"107\" x=\"5\" y=\"58.0449\">(details by typing</text><text fill=\"#000000\" font-family=\"monospace\" font-size=\"12\" lengthAdjust=\"spacingAndGlyphs\" textLength=\"49\" x=\"116\" y=\"58.0449\">license</text><text fill=\"#000000\" font-family=\"sans-serif\" font-size=\"12\" lengthAdjust=\"spacingAndGlyphs\" textLength=\"56\" x=\"169\" y=\"58.0449\">keyword)</text><text fill=\"#000000\" font-family=\"sans-serif\" font-size=\"12\" lengthAdjust=\"spacingAndGlyphs\" textLength=\"0\" x=\"9\" y=\"72.0137\"/><text fill=\"#000000\" font-family=\"sans-serif\" font-size=\"12\" lengthAdjust=\"spacingAndGlyphs\" textLength=\"283\" x=\"5\" y=\"85.9824\">You can start with a simple UML Diagram like:</text><text fill=\"#000000\" font-family=\"sans-serif\" font-size=\"12\" lengthAdjust=\"spacingAndGlyphs\" textLength=\"0\" x=\"9\" y=\"99.9512\"/><text fill=\"#000000\" font-family=\"monospace\" font-size=\"12\" lengthAdjust=\"spacingAndGlyphs\" textLength=\"119\" x=\"5\" y=\"113.9199\">Bob-&gt;Alice: Hello</text><text fill=\"#000000\" font-family=\"sans-serif\" font-size=\"12\" lengthAdjust=\"spacingAndGlyphs\" textLength=\"0\" x=\"9\" y=\"127.8887\"/><text fill=\"#000000\" font-family=\"sans-serif\" font-size=\"12\" lengthAdjust=\"spacingAndGlyphs\" textLength=\"14\" x=\"5\" y=\"141.8574\">Or</text><text fill=\"#000000\" font-family=\"sans-serif\" font-size=\"12\" lengthAdjust=\"spacingAndGlyphs\" textLength=\"0\" x=\"9\" y=\"155.8262\"/><text fill=\"#000000\" font-family=\"monospace\" font-size=\"12\" lengthAdjust=\"spacingAndGlyphs\" textLength=\"91\" x=\"5\" y=\"169.7949\">class Example</text><text fill=\"#000000\" font-family=\"sans-serif\" font-size=\"12\" lengthAdjust=\"spacingAndGlyphs\" textLength=\"0\" x=\"9\" y=\"183.7637\"/><text fill=\"#000000\" font-family=\"sans-serif\" font-size=\"12\" lengthAdjust=\"spacingAndGlyphs\" textLength=\"349\" x=\"5\" y=\"197.7324\">You will find more information about PlantUML syntax on</text><text fill=\"#000000\" font-family=\"sans-serif\" font-size=\"12\" lengthAdjust=\"spacingAndGlyphs\" text-decoration=\"underline\" textLength=\"129\" x=\"358\" y=\"197.7324\">https://plantuml.com</text><image height=\"71\" width=\"80\" x=\"516\" xlink:href=\"data:image/png;base64,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\" y=\"6\"/><rect fill=\"#000000\" height=\"96.4844\" style=\"stroke: #000000; stroke-width: 1.0;\" width=\"602\" x=\"0\" y=\"205.5625\"/><rect fill=\"#33FF02\" height=\"21.2969\" style=\"stroke: #33FF02; stroke-width: 1.0;\" width=\"170\" x=\"5\" y=\"210.5625\"/><text fill=\"#000000\" font-family=\"sans-serif\" font-size=\"14\" font-weight=\"bold\" lengthAdjust=\"spacingAndGlyphs\" textLength=\"168\" x=\"6\" y=\"225.5625\">[From string (line 2) ]</text><text fill=\"#33FF02\" font-family=\"sans-serif\" font-size=\"14\" font-weight=\"bold\" lengthAdjust=\"spacingAndGlyphs\" textLength=\"0\" x=\"10\" y=\"245.8594\"/><text fill=\"#33FF02\" font-family=\"sans-serif\" font-size=\"14\" font-weight=\"bold\" lengthAdjust=\"spacingAndGlyphs\" textLength=\"79\" x=\"5\" y=\"262.1563\">@startuml</text><text fill=\"#33FF02\" font-family=\"sans-serif\" font-size=\"14\" font-weight=\"bold\" lengthAdjust=\"spacingAndGlyphs\" textLength=\"0\" x=\"10\" y=\"278.4531\"/><text fill=\"#FF0000\" font-family=\"sans-serif\" font-size=\"14\" font-weight=\"bold\" lengthAdjust=\"spacingAndGlyphs\" textLength=\"142\" x=\"10\" y=\"294.75\">Empty description</text><!--MD5=[f59edd8218d337f74d0c332fc6737304]\n",
       "@startuml\r\n",
       " \r\n",
       "@enduml\r\n",
       "\n",
       "PlantUML version 1.2020.13(Sat Jun 13 12:26:38 UTC 2020)\n",
       "(EPL source distribution)\n",
       "Java Runtime: OpenJDK Runtime Environment\n",
       "JVM: OpenJDK 64-Bit Server VM\n",
       "Default Encoding: UTF-8\n",
       "Language: en\n",
       "Country: null\n",
       "--></g></svg>"
      ]
     },
     "execution_count": 4,
     "metadata": {},
     "output_type": "execute_result"
    }
   ],
   "source": [
    "%viz --style=\"COMPTREE\" --view=\"State\" \"Q\""
   ]
  },
  {
   "cell_type": "code",
   "execution_count": 5,
   "id": "curious-anger",
   "metadata": {
    "execution": {
     "iopub.execute_input": "2021-03-25T15:00:54.672395Z",
     "iopub.status.busy": "2021-03-25T15:00:54.671615Z",
     "iopub.status.idle": "2021-03-25T15:00:54.780465Z",
     "shell.execute_reply": "2021-03-25T15:00:54.778926Z"
    }
   },
   "outputs": [
    {
     "data": {
      "image/svg+xml": [
       "<?xml version=\"1.0\" encoding=\"UTF-8\" standalone=\"no\"?><svg xmlns=\"http://www.w3.org/2000/svg\" xmlns:xlink=\"http://www.w3.org/1999/xlink\" contentScriptType=\"application/ecmascript\" contentStyleType=\"text/css\" height=\"192px\" preserveAspectRatio=\"none\" style=\"width:279px;height:192px;\" version=\"1.1\" viewBox=\"0 0 279 192\" width=\"279px\" zoomAndPan=\"magnify\"><defs><filter height=\"300%\" id=\"f12tfvhd9hn51j\" width=\"300%\" x=\"-1\" y=\"-1\"><feGaussianBlur result=\"blurOut\" stdDeviation=\"2.0\"/><feColorMatrix in=\"blurOut\" result=\"blurOut2\" type=\"matrix\" values=\"0 0 0 0 0 0 0 0 0 0 0 0 0 0 0 0 0 0 .4 0\"/><feOffset dx=\"4.0\" dy=\"4.0\" in=\"blurOut2\" result=\"blurOut3\"/><feBlend in=\"SourceGraphic\" in2=\"blurOut3\" mode=\"normal\"/></filter></defs><g><!--MD5=[fbc87193dbaf4d95561dea2c320d4a47]\n",
       "cluster E1--><a href=\"psysml:1ca4998e-7283-4312-8b1a-8c25c589ba37\" target=\"_top\" title=\"psysml:1ca4998e-7283-4312-8b1a-8c25c589ba37\" xlink:actuate=\"onRequest\" xlink:href=\"psysml:1ca4998e-7283-4312-8b1a-8c25c589ba37\" xlink:show=\"new\" xlink:title=\"psysml:1ca4998e-7283-4312-8b1a-8c25c589ba37\" xlink:type=\"simple\"><polygon fill=\"#FFFFFF\" filter=\"url(#f12tfvhd9hn51j)\" points=\"16,6,34,6,41,28.2969,257,28.2969,257,180,16,180,16,6\" style=\"stroke: #000000; stroke-width: 1.5;\"/><line style=\"stroke: #000000; stroke-width: 1.5;\" x1=\"16\" x2=\"41\" y1=\"28.2969\" y2=\"28.2969\"/><text fill=\"#000000\" font-family=\"sans-serif\" font-size=\"14\" font-weight=\"bold\" lengthAdjust=\"spacingAndGlyphs\" textLength=\"12\" x=\"20\" y=\"20.9951\">Q</text></a><!--MD5=[e4f7fae6ed58524ba242bb0b0d3be6b7]\n",
       "cluster E2--><a href=\"psysml:9f0b35e2-e039-4fc1-a74b-e29bd15d28ff\" target=\"_top\" title=\"psysml:9f0b35e2-e039-4fc1-a74b-e29bd15d28ff\" xlink:actuate=\"onRequest\" xlink:href=\"psysml:9f0b35e2-e039-4fc1-a74b-e29bd15d28ff\" xlink:show=\"new\" xlink:title=\"psysml:9f0b35e2-e039-4fc1-a74b-e29bd15d28ff\" xlink:type=\"simple\"><rect fill=\"#FFFFFF\" filter=\"url(#f12tfvhd9hn51j)\" height=\"91\" id=\"E2\" rx=\"10\" ry=\"10\" style=\"stroke: #A80036; stroke-width: 1.5;\" width=\"82\" x=\"151\" y=\"65\"/><rect fill=\"#FEFECE\" height=\"23.9688\" rx=\"10\" ry=\"10\" style=\"stroke: #FEFECE; stroke-width: 1.5;\" width=\"82\" x=\"151\" y=\"65\"/><rect fill=\"#FEFECE\" height=\"10\" style=\"stroke: #FEFECE; stroke-width: 1.5;\" width=\"82\" x=\"151\" y=\"78.9688\"/><rect fill=\"none\" height=\"91\" id=\"E2\" rx=\"10\" ry=\"10\" style=\"stroke: #A80036; stroke-width: 1.5;\" width=\"82\" x=\"151\" y=\"65\"/><text fill=\"#000000\" font-family=\"sans-serif\" font-size=\"12\" lengthAdjust=\"spacingAndGlyphs\" textLength=\"4\" x=\"190\" y=\"81.1387\">f</text><line style=\"stroke: #A80036; stroke-width: 1.0;\" x1=\"151\" x2=\"233\" y1=\"88.9688\" y2=\"88.9688\"/></a><!--MD5=[f6df4d0ebaf0b5dfb2ced0ae5af7c670]\n",
       "cluster E4--><a href=\"psysml:17ca64f8-f38a-4aec-8c02-fbca076b4a28\" target=\"_top\" title=\"psysml:17ca64f8-f38a-4aec-8c02-fbca076b4a28\" xlink:actuate=\"onRequest\" xlink:href=\"psysml:17ca64f8-f38a-4aec-8c02-fbca076b4a28\" xlink:show=\"new\" xlink:title=\"psysml:17ca64f8-f38a-4aec-8c02-fbca076b4a28\" xlink:type=\"simple\"><rect fill=\"#FFFFFF\" filter=\"url(#f12tfvhd9hn51j)\" height=\"107\" id=\"E4\" style=\"stroke: #A80036; stroke-width: 1.5;\" width=\"87\" x=\"40\" y=\"49\"/><rect fill=\"#FEFECE\" height=\"37.9375\" style=\"stroke: #A80036; stroke-width: 1.5;\" width=\"87\" x=\"40\" y=\"49\"/><text fill=\"#000000\" font-family=\"sans-serif\" font-size=\"12\" font-style=\"italic\" lengthAdjust=\"spacingAndGlyphs\" textLength=\"64\" x=\"51.5\" y=\"65.1387\">«part def»</text><text fill=\"#000000\" font-family=\"sans-serif\" font-size=\"12\" lengthAdjust=\"spacingAndGlyphs\" textLength=\"8\" x=\"79.5\" y=\"79.1074\">C</text></a><g id=\"E1.E2.E3\"><a href=\"psysml:9a16e398-0ba6-448d-aba1-0f88a9a52804\" target=\"_top\" title=\"psysml:9a16e398-0ba6-448d-aba1-0f88a9a52804\" xlink:actuate=\"onRequest\" xlink:href=\"psysml:9a16e398-0ba6-448d-aba1-0f88a9a52804\" xlink:show=\"new\" xlink:title=\"psysml:9a16e398-0ba6-448d-aba1-0f88a9a52804\" xlink:type=\"simple\"><rect fill=\"#FEFECE\" filter=\"url(#f12tfvhd9hn51j)\" height=\"40\" id=\"E3\" rx=\"10\" ry=\"10\" style=\"stroke: #A80036; stroke-width: 1.5;\" width=\"50\" x=\"167\" y=\"100\"/><ellipse cx=\"186.5\" cy=\"116\" fill=\"#B6DBBB\" rx=\"11\" ry=\"11\" style=\"stroke: #A80036; stroke-width: 1.0;\"/><path d=\"M182.375,117.9219 L182.375,110.1094 L184.8281,110.1094 L184.8281,118.5469 Q184.8281,119.4688 185.2969,120 Q185.7813,120.5313 186.6094,120.5313 Q187.4531,120.5313 187.9219,120 Q188.3906,119.4688 188.3906,118.5469 L188.3906,110.1094 L190.8438,110.1094 L190.8438,117.9219 Q190.8438,120.4531 189.8438,121.5938 Q188.8438,122.7344 186.6094,122.7344 Q184.3906,122.7344 183.375,121.5938 Q182.375,120.4531 182.375,117.9219 Z \"/><text fill=\"#000000\" font-family=\"sans-serif\" font-size=\"12\" lengthAdjust=\"spacingAndGlyphs\" textLength=\"8\" x=\"201.5\" y=\"120.1543\">a</text></a></g><g id=\"E1.E4.E5\"><a href=\"psysml:43d8af85-10f5-4c20-8018-948df50254a5\" target=\"_top\" title=\"psysml:43d8af85-10f5-4c20-8018-948df50254a5\" xlink:actuate=\"onRequest\" xlink:href=\"psysml:43d8af85-10f5-4c20-8018-948df50254a5\" xlink:show=\"new\" xlink:title=\"psysml:43d8af85-10f5-4c20-8018-948df50254a5\" xlink:type=\"simple\"><rect fill=\"#FEFECE\" filter=\"url(#f12tfvhd9hn51j)\" height=\"40\" id=\"E5\" rx=\"10\" ry=\"10\" style=\"stroke: #A80036; stroke-width: 1.5;\" width=\"50\" x=\"58\" y=\"100\"/><ellipse cx=\"77.5\" cy=\"116\" fill=\"#B6DBBB\" rx=\"11\" ry=\"11\" style=\"stroke: #A80036; stroke-width: 1.0;\"/><path d=\"M73.375,117.9219 L73.375,110.1094 L75.8281,110.1094 L75.8281,118.5469 Q75.8281,119.4688 76.2969,120 Q76.7813,120.5313 77.6094,120.5313 Q78.4531,120.5313 78.9219,120 Q79.3906,119.4688 79.3906,118.5469 L79.3906,110.1094 L81.8438,110.1094 L81.8438,117.9219 Q81.8438,120.4531 80.8438,121.5938 Q79.8438,122.7344 77.6094,122.7344 Q75.3906,122.7344 74.375,121.5938 Q73.375,120.4531 73.375,117.9219 Z \"/><text fill=\"#000000\" font-family=\"sans-serif\" font-size=\"12\" lengthAdjust=\"spacingAndGlyphs\" textLength=\"8\" x=\"92.5\" y=\"120.1543\">g</text></a></g><!--MD5=[4aefd24227e3563c3b50e03f09d84677]\n",
       "@startuml\r\n",
       "skinparam ranksep 8\r\n",
       "skinparam rectangle {\r\n",
       " backgroundColor<<block>> LightGreen\r\n",
       "}\r\n",
       " \r\n",
       "package \"Q\" as E1  [[psysml:1ca4998e-7283-4312-8b1a-8c25c589ba37 ]]  {\r\n",
       "rec usage \"f\" as E2  [[psysml:9f0b35e2-e039-4fc1-a74b-e29bd15d28ff ]] {\r\n",
       "rec usage \"a\" as E3  [[psysml:9a16e398-0ba6-448d-aba1-0f88a9a52804 ]] {\r\n",
       "}\r\n",
       "}\r\n",
       "rec def \"C\" as E4  <<(T,blue)part def>> [[psysml:17ca64f8-f38a-4aec-8c02-fbca076b4a28 ]] {\r\n",
       "rec usage \"g\" as E5  [[psysml:43d8af85-10f5-4c20-8018-948df50254a5 ]] {\r\n",
       "}\r\n",
       "}\r\n",
       "}\r\n",
       "@enduml\r\n",
       "\n",
       "PlantUML version 1.2020.13(Sat Jun 13 12:26:38 UTC 2020)\n",
       "(EPL source distribution)\n",
       "Java Runtime: OpenJDK Runtime Environment\n",
       "JVM: OpenJDK 64-Bit Server VM\n",
       "Default Encoding: UTF-8\n",
       "Language: en\n",
       "Country: null\n",
       "--></g></svg>"
      ]
     },
     "execution_count": 5,
     "metadata": {},
     "output_type": "execute_result"
    }
   ],
   "source": [
    "%viz --style=\"COMPTREE\" --view=\"Interconnection\" \"Q\""
   ]
  },
  {
   "cell_type": "code",
   "execution_count": 6,
   "id": "public-shower",
   "metadata": {
    "execution": {
     "iopub.execute_input": "2021-03-25T15:00:54.828862Z",
     "iopub.status.busy": "2021-03-25T15:00:54.828041Z",
     "iopub.status.idle": "2021-03-25T15:00:54.839111Z",
     "shell.execute_reply": "2021-03-25T15:00:54.839677Z"
    }
   },
   "outputs": [
    {
     "data": {
      "image/svg+xml": [
       "<?xml version=\"1.0\" encoding=\"UTF-8\" standalone=\"no\"?><svg xmlns=\"http://www.w3.org/2000/svg\" xmlns:xlink=\"http://www.w3.org/1999/xlink\" contentScriptType=\"application/ecmascript\" contentStyleType=\"text/css\" height=\"12px\" preserveAspectRatio=\"none\" style=\"width:12px;height:12px;\" version=\"1.1\" viewBox=\"0 0 12 12\" width=\"12px\" zoomAndPan=\"magnify\"><defs/><g><!--MD5=[6a4cb978cab31700e1ce5529f947a75d]\n",
       "@startuml\r\n",
       "skinparam ranksep 8\r\n",
       " \r\n",
       "@enduml\r\n",
       "\n",
       "PlantUML version 1.2020.13(Sat Jun 13 12:26:38 UTC 2020)\n",
       "(EPL source distribution)\n",
       "Java Runtime: OpenJDK Runtime Environment\n",
       "JVM: OpenJDK 64-Bit Server VM\n",
       "Default Encoding: UTF-8\n",
       "Language: en\n",
       "Country: null\n",
       "--></g></svg>"
      ]
     },
     "execution_count": 6,
     "metadata": {},
     "output_type": "execute_result"
    }
   ],
   "source": [
    "%viz --style=\"COMPTREE\" --view=\"Action\" \"Q\""
   ]
  },
  {
   "cell_type": "code",
   "execution_count": 7,
   "id": "physical-latitude",
   "metadata": {
    "execution": {
     "iopub.execute_input": "2021-03-25T15:00:54.891993Z",
     "iopub.status.busy": "2021-03-25T15:00:54.891505Z",
     "iopub.status.idle": "2021-03-25T15:00:54.975863Z",
     "shell.execute_reply": "2021-03-25T15:00:54.974289Z"
    }
   },
   "outputs": [
    {
     "data": {
      "image/svg+xml": [
       "<?xml version=\"1.0\" encoding=\"UTF-8\" standalone=\"no\"?><svg xmlns=\"http://www.w3.org/2000/svg\" xmlns:xlink=\"http://www.w3.org/1999/xlink\" contentScriptType=\"application/ecmascript\" contentStyleType=\"text/css\" height=\"221px\" preserveAspectRatio=\"none\" style=\"width:265px;height:221px;\" version=\"1.1\" viewBox=\"0 0 265 221\" width=\"265px\" zoomAndPan=\"magnify\"><defs><filter height=\"300%\" id=\"f1j1rywb5j8akn\" width=\"300%\" x=\"-1\" y=\"-1\"><feGaussianBlur result=\"blurOut\" stdDeviation=\"2.0\"/><feColorMatrix in=\"blurOut\" result=\"blurOut2\" type=\"matrix\" values=\"0 0 0 0 0 0 0 0 0 0 0 0 0 0 0 0 0 0 .4 0\"/><feOffset dx=\"4.0\" dy=\"4.0\" in=\"blurOut2\" result=\"blurOut3\"/><feBlend in=\"SourceGraphic\" in2=\"blurOut3\" mode=\"normal\"/></filter></defs><g><!--MD5=[fbc87193dbaf4d95561dea2c320d4a47]\n",
       "cluster E1--><a href=\"psysml:1ca4998e-7283-4312-8b1a-8c25c589ba37\" target=\"_top\" title=\"psysml:1ca4998e-7283-4312-8b1a-8c25c589ba37\" xlink:actuate=\"onRequest\" xlink:href=\"psysml:1ca4998e-7283-4312-8b1a-8c25c589ba37\" xlink:show=\"new\" xlink:title=\"psysml:1ca4998e-7283-4312-8b1a-8c25c589ba37\" xlink:type=\"simple\"><polygon fill=\"#FFFFFF\" filter=\"url(#f1j1rywb5j8akn)\" points=\"16,6,34,6,41,28.2969,243,28.2969,243,209,16,209,16,6\" style=\"stroke: #000000; stroke-width: 1.5;\"/><line style=\"stroke: #000000; stroke-width: 1.5;\" x1=\"16\" x2=\"41\" y1=\"28.2969\" y2=\"28.2969\"/><text fill=\"#000000\" font-family=\"sans-serif\" font-size=\"14\" font-weight=\"bold\" lengthAdjust=\"spacingAndGlyphs\" textLength=\"12\" x=\"20\" y=\"20.9951\">Q</text></a><!--MD5=[b4997ac47864f28c2f74865a473b2911]\n",
       "class E2--><a href=\"psysml:9f0b35e2-e039-4fc1-a74b-e29bd15d28ff\" target=\"_top\" title=\"psysml:9f0b35e2-e039-4fc1-a74b-e29bd15d28ff\" xlink:actuate=\"onRequest\" xlink:href=\"psysml:9f0b35e2-e039-4fc1-a74b-e29bd15d28ff\" xlink:show=\"new\" xlink:title=\"psysml:9f0b35e2-e039-4fc1-a74b-e29bd15d28ff\" xlink:type=\"simple\"><rect fill=\"#FEFECE\" filter=\"url(#f1j1rywb5j8akn)\" height=\"45.9375\" id=\"E2\" rx=\"10\" ry=\"10\" style=\"stroke: #A80036; stroke-width: 1.5;\" width=\"68\" x=\"159\" y=\"41\"/><ellipse cx=\"174\" cy=\"59.9688\" fill=\"#0000FF\" rx=\"11\" ry=\"11\" style=\"stroke: #A80036; stroke-width: 1.0;\"/><path d=\"M174.8438,66.7188 L172.3906,66.7188 L172.3906,56.4688 L169.25,56.4688 L169.25,54.3281 L177.9844,54.3281 L177.9844,56.4688 L174.8438,56.4688 L174.8438,66.7188 Z \"/><text fill=\"#000000\" font-family=\"sans-serif\" font-size=\"12\" font-style=\"italic\" lengthAdjust=\"spacingAndGlyphs\" textLength=\"40\" x=\"186\" y=\"57.1387\">«part»</text><text fill=\"#000000\" font-family=\"sans-serif\" font-size=\"12\" lengthAdjust=\"spacingAndGlyphs\" textLength=\"4\" x=\"204\" y=\"71.1074\">f</text><line style=\"stroke: #A80036; stroke-width: 1.5;\" x1=\"160\" x2=\"226\" y1=\"78.9375\" y2=\"78.9375\"/></a><!--MD5=[09b614a08d8cba4a07c9adeb5e0fee81]\n",
       "class E3--><a href=\"psysml:9a16e398-0ba6-448d-aba1-0f88a9a52804\" target=\"_top\" title=\"psysml:9a16e398-0ba6-448d-aba1-0f88a9a52804\" xlink:actuate=\"onRequest\" xlink:href=\"psysml:9a16e398-0ba6-448d-aba1-0f88a9a52804\" xlink:show=\"new\" xlink:title=\"psysml:9a16e398-0ba6-448d-aba1-0f88a9a52804\" xlink:type=\"simple\"><rect fill=\"#FEFECE\" filter=\"url(#f1j1rywb5j8akn)\" height=\"45.9375\" id=\"E3\" rx=\"10\" ry=\"10\" style=\"stroke: #A80036; stroke-width: 1.5;\" width=\"68\" x=\"159\" y=\"147\"/><ellipse cx=\"174\" cy=\"165.9688\" fill=\"#0000FF\" rx=\"11\" ry=\"11\" style=\"stroke: #A80036; stroke-width: 1.0;\"/><path d=\"M174.8438,172.7188 L172.3906,172.7188 L172.3906,162.4688 L169.25,162.4688 L169.25,160.3281 L177.9844,160.3281 L177.9844,162.4688 L174.8438,162.4688 L174.8438,172.7188 Z \"/><text fill=\"#000000\" font-family=\"sans-serif\" font-size=\"12\" font-style=\"italic\" lengthAdjust=\"spacingAndGlyphs\" textLength=\"40\" x=\"186\" y=\"163.1387\">«part»</text><text fill=\"#000000\" font-family=\"sans-serif\" font-size=\"12\" lengthAdjust=\"spacingAndGlyphs\" textLength=\"8\" x=\"202\" y=\"177.1074\">a</text><line style=\"stroke: #A80036; stroke-width: 1.5;\" x1=\"160\" x2=\"226\" y1=\"184.9375\" y2=\"184.9375\"/></a><!--MD5=[ebbe1d658d1005bcc118a6aa81145e00]\n",
       "class E4--><a href=\"psysml:17ca64f8-f38a-4aec-8c02-fbca076b4a28\" target=\"_top\" title=\"psysml:17ca64f8-f38a-4aec-8c02-fbca076b4a28\" xlink:actuate=\"onRequest\" xlink:href=\"psysml:17ca64f8-f38a-4aec-8c02-fbca076b4a28\" xlink:show=\"new\" xlink:title=\"psysml:17ca64f8-f38a-4aec-8c02-fbca076b4a28\" xlink:type=\"simple\"><rect fill=\"#FEFECE\" filter=\"url(#f1j1rywb5j8akn)\" height=\"45.9375\" id=\"E4\" style=\"stroke: #A80036; stroke-width: 1.5;\" width=\"92\" x=\"32\" y=\"41\"/><ellipse cx=\"47\" cy=\"59.9688\" fill=\"#0000FF\" rx=\"11\" ry=\"11\" style=\"stroke: #A80036; stroke-width: 1.0;\"/><path d=\"M47.8438,66.7188 L45.3906,66.7188 L45.3906,56.4688 L42.25,56.4688 L42.25,54.3281 L50.9844,54.3281 L50.9844,56.4688 L47.8438,56.4688 L47.8438,66.7188 Z \"/><text fill=\"#000000\" font-family=\"sans-serif\" font-size=\"12\" font-style=\"italic\" lengthAdjust=\"spacingAndGlyphs\" textLength=\"64\" x=\"59\" y=\"57.1387\">«part def»</text><text fill=\"#000000\" font-family=\"sans-serif\" font-size=\"12\" lengthAdjust=\"spacingAndGlyphs\" textLength=\"8\" x=\"87\" y=\"71.1074\">C</text><line style=\"stroke: #A80036; stroke-width: 1.5;\" x1=\"33\" x2=\"123\" y1=\"78.9375\" y2=\"78.9375\"/></a><!--MD5=[270fce915f116d4de14055a7c1d9a0f3]\n",
       "class E5--><a href=\"psysml:43d8af85-10f5-4c20-8018-948df50254a5\" target=\"_top\" title=\"psysml:43d8af85-10f5-4c20-8018-948df50254a5\" xlink:actuate=\"onRequest\" xlink:href=\"psysml:43d8af85-10f5-4c20-8018-948df50254a5\" xlink:show=\"new\" xlink:title=\"psysml:43d8af85-10f5-4c20-8018-948df50254a5\" xlink:type=\"simple\"><rect fill=\"#FEFECE\" filter=\"url(#f1j1rywb5j8akn)\" height=\"45.9375\" id=\"E5\" rx=\"10\" ry=\"10\" style=\"stroke: #A80036; stroke-width: 1.5;\" width=\"68\" x=\"44\" y=\"147\"/><ellipse cx=\"59\" cy=\"165.9688\" fill=\"#0000FF\" rx=\"11\" ry=\"11\" style=\"stroke: #A80036; stroke-width: 1.0;\"/><path d=\"M59.8438,172.7188 L57.3906,172.7188 L57.3906,162.4688 L54.25,162.4688 L54.25,160.3281 L62.9844,160.3281 L62.9844,162.4688 L59.8438,162.4688 L59.8438,172.7188 Z \"/><text fill=\"#000000\" font-family=\"sans-serif\" font-size=\"12\" font-style=\"italic\" lengthAdjust=\"spacingAndGlyphs\" textLength=\"40\" x=\"71\" y=\"163.1387\">«part»</text><text fill=\"#000000\" font-family=\"sans-serif\" font-size=\"12\" lengthAdjust=\"spacingAndGlyphs\" textLength=\"8\" x=\"87\" y=\"177.1074\">g</text><line style=\"stroke: #A80036; stroke-width: 1.5;\" x1=\"45\" x2=\"111\" y1=\"184.9375\" y2=\"184.9375\"/></a><!--MD5=[209b3feb70ccb6233bfe1053d122c12c]\n",
       "reverse link E2 to E3--><a href=\"psysml:9a16e398-0ba6-448d-aba1-0f88a9a52804\" target=\"_top\" title=\"psysml:9a16e398-0ba6-448d-aba1-0f88a9a52804\" xlink:actuate=\"onRequest\" xlink:href=\"psysml:9a16e398-0ba6-448d-aba1-0f88a9a52804\" xlink:show=\"new\" xlink:title=\"psysml:9a16e398-0ba6-448d-aba1-0f88a9a52804\" xlink:type=\"simple\"><path d=\"M193,100.44 C193,115.87 193,133.47 193,146.98 \" fill=\"none\" id=\"E2&lt;-E3\" style=\"stroke: #A80036; stroke-width: 1.0;\"/><polygon fill=\"#A80036\" points=\"193,87.06,189,93.06,193,99.06,197,93.06,193,87.06\" style=\"stroke: #A80036; stroke-width: 1.0;\"/></a><!--MD5=[62aa6af11e70f752912c1cb0466f24f7]\n",
       "reverse link E4 to E5--><a href=\"psysml:43d8af85-10f5-4c20-8018-948df50254a5\" target=\"_top\" title=\"psysml:43d8af85-10f5-4c20-8018-948df50254a5\" xlink:actuate=\"onRequest\" xlink:href=\"psysml:43d8af85-10f5-4c20-8018-948df50254a5\" xlink:show=\"new\" xlink:title=\"psysml:43d8af85-10f5-4c20-8018-948df50254a5\" xlink:type=\"simple\"><path d=\"M78,100.44 C78,115.87 78,133.47 78,146.98 \" fill=\"none\" id=\"E4&lt;-E5\" style=\"stroke: #A80036; stroke-width: 1.0;\"/><polygon fill=\"#A80036\" points=\"78,87.06,74,93.06,78,99.06,82,93.06,78,87.06\" style=\"stroke: #A80036; stroke-width: 1.0;\"/></a><!--MD5=[c182b13390bd11e58b8f320bc5b17914]\n",
       "@startuml\r\n",
       " \r\n",
       "package \"Q\" as E1  [[psysml:1ca4998e-7283-4312-8b1a-8c25c589ba37 ]]  {\r\n",
       "comp usage \"f\" as E2  <<(T,blue)part>> [[psysml:9f0b35e2-e039-4fc1-a74b-e29bd15d28ff ]] {\r\n",
       "}\r\n",
       "comp usage \"a\" as E3  <<(T,blue)part>> [[psysml:9a16e398-0ba6-448d-aba1-0f88a9a52804 ]] {\r\n",
       "}\r\n",
       "comp def \"C\" as E4  <<(T,blue)part def>> [[psysml:17ca64f8-f38a-4aec-8c02-fbca076b4a28 ]] {\r\n",
       "}\r\n",
       "comp usage \"g\" as E5  <<(T,blue)part>> [[psysml:43d8af85-10f5-4c20-8018-948df50254a5 ]] {\r\n",
       "}\r\n",
       "E2 *- - E3 [[psysml:9a16e398-0ba6-448d-aba1-0f88a9a52804 ]] \r\n",
       "E4 *- - E5 [[psysml:43d8af85-10f5-4c20-8018-948df50254a5 ]] \r\n",
       "}\r\n",
       "@enduml\r\n",
       "\n",
       "PlantUML version 1.2020.13(Sat Jun 13 12:26:38 UTC 2020)\n",
       "(EPL source distribution)\n",
       "Java Runtime: OpenJDK Runtime Environment\n",
       "JVM: OpenJDK 64-Bit Server VM\n",
       "Default Encoding: UTF-8\n",
       "Language: en\n",
       "Country: null\n",
       "--></g></svg>"
      ]
     },
     "execution_count": 7,
     "metadata": {},
     "output_type": "execute_result"
    }
   ],
   "source": [
    "%viz --style=\"COMPTREE\" --view=\"Sequence\" \"Q\""
   ]
  },
  {
   "cell_type": "code",
   "execution_count": 8,
   "id": "lonely-album",
   "metadata": {
    "execution": {
     "iopub.execute_input": "2021-03-25T15:00:55.026845Z",
     "iopub.status.busy": "2021-03-25T15:00:55.025602Z",
     "iopub.status.idle": "2021-03-25T15:00:55.116465Z",
     "shell.execute_reply": "2021-03-25T15:00:55.113707Z"
    }
   },
   "outputs": [
    {
     "data": {
      "image/svg+xml": [
       "<?xml version=\"1.0\" encoding=\"UTF-8\" standalone=\"no\"?><svg xmlns=\"http://www.w3.org/2000/svg\" xmlns:xlink=\"http://www.w3.org/1999/xlink\" contentScriptType=\"application/ecmascript\" contentStyleType=\"text/css\" height=\"221px\" preserveAspectRatio=\"none\" style=\"width:265px;height:221px;\" version=\"1.1\" viewBox=\"0 0 265 221\" width=\"265px\" zoomAndPan=\"magnify\"><defs><filter height=\"300%\" id=\"f1j1rywb5j8akn\" width=\"300%\" x=\"-1\" y=\"-1\"><feGaussianBlur result=\"blurOut\" stdDeviation=\"2.0\"/><feColorMatrix in=\"blurOut\" result=\"blurOut2\" type=\"matrix\" values=\"0 0 0 0 0 0 0 0 0 0 0 0 0 0 0 0 0 0 .4 0\"/><feOffset dx=\"4.0\" dy=\"4.0\" in=\"blurOut2\" result=\"blurOut3\"/><feBlend in=\"SourceGraphic\" in2=\"blurOut3\" mode=\"normal\"/></filter></defs><g><!--MD5=[fbc87193dbaf4d95561dea2c320d4a47]\n",
       "cluster E1--><a href=\"psysml:1ca4998e-7283-4312-8b1a-8c25c589ba37\" target=\"_top\" title=\"psysml:1ca4998e-7283-4312-8b1a-8c25c589ba37\" xlink:actuate=\"onRequest\" xlink:href=\"psysml:1ca4998e-7283-4312-8b1a-8c25c589ba37\" xlink:show=\"new\" xlink:title=\"psysml:1ca4998e-7283-4312-8b1a-8c25c589ba37\" xlink:type=\"simple\"><polygon fill=\"#FFFFFF\" filter=\"url(#f1j1rywb5j8akn)\" points=\"16,6,34,6,41,28.2969,243,28.2969,243,209,16,209,16,6\" style=\"stroke: #000000; stroke-width: 1.5;\"/><line style=\"stroke: #000000; stroke-width: 1.5;\" x1=\"16\" x2=\"41\" y1=\"28.2969\" y2=\"28.2969\"/><text fill=\"#000000\" font-family=\"sans-serif\" font-size=\"14\" font-weight=\"bold\" lengthAdjust=\"spacingAndGlyphs\" textLength=\"12\" x=\"20\" y=\"20.9951\">Q</text></a><!--MD5=[b4997ac47864f28c2f74865a473b2911]\n",
       "class E2--><a href=\"psysml:9f0b35e2-e039-4fc1-a74b-e29bd15d28ff\" target=\"_top\" title=\"psysml:9f0b35e2-e039-4fc1-a74b-e29bd15d28ff\" xlink:actuate=\"onRequest\" xlink:href=\"psysml:9f0b35e2-e039-4fc1-a74b-e29bd15d28ff\" xlink:show=\"new\" xlink:title=\"psysml:9f0b35e2-e039-4fc1-a74b-e29bd15d28ff\" xlink:type=\"simple\"><rect fill=\"#FEFECE\" filter=\"url(#f1j1rywb5j8akn)\" height=\"45.9375\" id=\"E2\" rx=\"10\" ry=\"10\" style=\"stroke: #A80036; stroke-width: 1.5;\" width=\"68\" x=\"159\" y=\"41\"/><ellipse cx=\"174\" cy=\"59.9688\" fill=\"#0000FF\" rx=\"11\" ry=\"11\" style=\"stroke: #A80036; stroke-width: 1.0;\"/><path d=\"M174.8438,66.7188 L172.3906,66.7188 L172.3906,56.4688 L169.25,56.4688 L169.25,54.3281 L177.9844,54.3281 L177.9844,56.4688 L174.8438,56.4688 L174.8438,66.7188 Z \"/><text fill=\"#000000\" font-family=\"sans-serif\" font-size=\"12\" font-style=\"italic\" lengthAdjust=\"spacingAndGlyphs\" textLength=\"40\" x=\"186\" y=\"57.1387\">«part»</text><text fill=\"#000000\" font-family=\"sans-serif\" font-size=\"12\" lengthAdjust=\"spacingAndGlyphs\" textLength=\"4\" x=\"204\" y=\"71.1074\">f</text><line style=\"stroke: #A80036; stroke-width: 1.5;\" x1=\"160\" x2=\"226\" y1=\"78.9375\" y2=\"78.9375\"/></a><!--MD5=[09b614a08d8cba4a07c9adeb5e0fee81]\n",
       "class E3--><a href=\"psysml:9a16e398-0ba6-448d-aba1-0f88a9a52804\" target=\"_top\" title=\"psysml:9a16e398-0ba6-448d-aba1-0f88a9a52804\" xlink:actuate=\"onRequest\" xlink:href=\"psysml:9a16e398-0ba6-448d-aba1-0f88a9a52804\" xlink:show=\"new\" xlink:title=\"psysml:9a16e398-0ba6-448d-aba1-0f88a9a52804\" xlink:type=\"simple\"><rect fill=\"#FEFECE\" filter=\"url(#f1j1rywb5j8akn)\" height=\"45.9375\" id=\"E3\" rx=\"10\" ry=\"10\" style=\"stroke: #A80036; stroke-width: 1.5;\" width=\"68\" x=\"159\" y=\"147\"/><ellipse cx=\"174\" cy=\"165.9688\" fill=\"#0000FF\" rx=\"11\" ry=\"11\" style=\"stroke: #A80036; stroke-width: 1.0;\"/><path d=\"M174.8438,172.7188 L172.3906,172.7188 L172.3906,162.4688 L169.25,162.4688 L169.25,160.3281 L177.9844,160.3281 L177.9844,162.4688 L174.8438,162.4688 L174.8438,172.7188 Z \"/><text fill=\"#000000\" font-family=\"sans-serif\" font-size=\"12\" font-style=\"italic\" lengthAdjust=\"spacingAndGlyphs\" textLength=\"40\" x=\"186\" y=\"163.1387\">«part»</text><text fill=\"#000000\" font-family=\"sans-serif\" font-size=\"12\" lengthAdjust=\"spacingAndGlyphs\" textLength=\"8\" x=\"202\" y=\"177.1074\">a</text><line style=\"stroke: #A80036; stroke-width: 1.5;\" x1=\"160\" x2=\"226\" y1=\"184.9375\" y2=\"184.9375\"/></a><!--MD5=[ebbe1d658d1005bcc118a6aa81145e00]\n",
       "class E4--><a href=\"psysml:17ca64f8-f38a-4aec-8c02-fbca076b4a28\" target=\"_top\" title=\"psysml:17ca64f8-f38a-4aec-8c02-fbca076b4a28\" xlink:actuate=\"onRequest\" xlink:href=\"psysml:17ca64f8-f38a-4aec-8c02-fbca076b4a28\" xlink:show=\"new\" xlink:title=\"psysml:17ca64f8-f38a-4aec-8c02-fbca076b4a28\" xlink:type=\"simple\"><rect fill=\"#FEFECE\" filter=\"url(#f1j1rywb5j8akn)\" height=\"45.9375\" id=\"E4\" style=\"stroke: #A80036; stroke-width: 1.5;\" width=\"92\" x=\"32\" y=\"41\"/><ellipse cx=\"47\" cy=\"59.9688\" fill=\"#0000FF\" rx=\"11\" ry=\"11\" style=\"stroke: #A80036; stroke-width: 1.0;\"/><path d=\"M47.8438,66.7188 L45.3906,66.7188 L45.3906,56.4688 L42.25,56.4688 L42.25,54.3281 L50.9844,54.3281 L50.9844,56.4688 L47.8438,56.4688 L47.8438,66.7188 Z \"/><text fill=\"#000000\" font-family=\"sans-serif\" font-size=\"12\" font-style=\"italic\" lengthAdjust=\"spacingAndGlyphs\" textLength=\"64\" x=\"59\" y=\"57.1387\">«part def»</text><text fill=\"#000000\" font-family=\"sans-serif\" font-size=\"12\" lengthAdjust=\"spacingAndGlyphs\" textLength=\"8\" x=\"87\" y=\"71.1074\">C</text><line style=\"stroke: #A80036; stroke-width: 1.5;\" x1=\"33\" x2=\"123\" y1=\"78.9375\" y2=\"78.9375\"/></a><!--MD5=[270fce915f116d4de14055a7c1d9a0f3]\n",
       "class E5--><a href=\"psysml:43d8af85-10f5-4c20-8018-948df50254a5\" target=\"_top\" title=\"psysml:43d8af85-10f5-4c20-8018-948df50254a5\" xlink:actuate=\"onRequest\" xlink:href=\"psysml:43d8af85-10f5-4c20-8018-948df50254a5\" xlink:show=\"new\" xlink:title=\"psysml:43d8af85-10f5-4c20-8018-948df50254a5\" xlink:type=\"simple\"><rect fill=\"#FEFECE\" filter=\"url(#f1j1rywb5j8akn)\" height=\"45.9375\" id=\"E5\" rx=\"10\" ry=\"10\" style=\"stroke: #A80036; stroke-width: 1.5;\" width=\"68\" x=\"44\" y=\"147\"/><ellipse cx=\"59\" cy=\"165.9688\" fill=\"#0000FF\" rx=\"11\" ry=\"11\" style=\"stroke: #A80036; stroke-width: 1.0;\"/><path d=\"M59.8438,172.7188 L57.3906,172.7188 L57.3906,162.4688 L54.25,162.4688 L54.25,160.3281 L62.9844,160.3281 L62.9844,162.4688 L59.8438,162.4688 L59.8438,172.7188 Z \"/><text fill=\"#000000\" font-family=\"sans-serif\" font-size=\"12\" font-style=\"italic\" lengthAdjust=\"spacingAndGlyphs\" textLength=\"40\" x=\"71\" y=\"163.1387\">«part»</text><text fill=\"#000000\" font-family=\"sans-serif\" font-size=\"12\" lengthAdjust=\"spacingAndGlyphs\" textLength=\"8\" x=\"87\" y=\"177.1074\">g</text><line style=\"stroke: #A80036; stroke-width: 1.5;\" x1=\"45\" x2=\"111\" y1=\"184.9375\" y2=\"184.9375\"/></a><!--MD5=[209b3feb70ccb6233bfe1053d122c12c]\n",
       "reverse link E2 to E3--><a href=\"psysml:9a16e398-0ba6-448d-aba1-0f88a9a52804\" target=\"_top\" title=\"psysml:9a16e398-0ba6-448d-aba1-0f88a9a52804\" xlink:actuate=\"onRequest\" xlink:href=\"psysml:9a16e398-0ba6-448d-aba1-0f88a9a52804\" xlink:show=\"new\" xlink:title=\"psysml:9a16e398-0ba6-448d-aba1-0f88a9a52804\" xlink:type=\"simple\"><path d=\"M193,100.44 C193,115.87 193,133.47 193,146.98 \" fill=\"none\" id=\"E2&lt;-E3\" style=\"stroke: #A80036; stroke-width: 1.0;\"/><polygon fill=\"#A80036\" points=\"193,87.06,189,93.06,193,99.06,197,93.06,193,87.06\" style=\"stroke: #A80036; stroke-width: 1.0;\"/></a><!--MD5=[62aa6af11e70f752912c1cb0466f24f7]\n",
       "reverse link E4 to E5--><a href=\"psysml:43d8af85-10f5-4c20-8018-948df50254a5\" target=\"_top\" title=\"psysml:43d8af85-10f5-4c20-8018-948df50254a5\" xlink:actuate=\"onRequest\" xlink:href=\"psysml:43d8af85-10f5-4c20-8018-948df50254a5\" xlink:show=\"new\" xlink:title=\"psysml:43d8af85-10f5-4c20-8018-948df50254a5\" xlink:type=\"simple\"><path d=\"M78,100.44 C78,115.87 78,133.47 78,146.98 \" fill=\"none\" id=\"E4&lt;-E5\" style=\"stroke: #A80036; stroke-width: 1.0;\"/><polygon fill=\"#A80036\" points=\"78,87.06,74,93.06,78,99.06,82,93.06,78,87.06\" style=\"stroke: #A80036; stroke-width: 1.0;\"/></a><!--MD5=[c182b13390bd11e58b8f320bc5b17914]\n",
       "@startuml\r\n",
       " \r\n",
       "package \"Q\" as E1  [[psysml:1ca4998e-7283-4312-8b1a-8c25c589ba37 ]]  {\r\n",
       "comp usage \"f\" as E2  <<(T,blue)part>> [[psysml:9f0b35e2-e039-4fc1-a74b-e29bd15d28ff ]] {\r\n",
       "}\r\n",
       "comp usage \"a\" as E3  <<(T,blue)part>> [[psysml:9a16e398-0ba6-448d-aba1-0f88a9a52804 ]] {\r\n",
       "}\r\n",
       "comp def \"C\" as E4  <<(T,blue)part def>> [[psysml:17ca64f8-f38a-4aec-8c02-fbca076b4a28 ]] {\r\n",
       "}\r\n",
       "comp usage \"g\" as E5  <<(T,blue)part>> [[psysml:43d8af85-10f5-4c20-8018-948df50254a5 ]] {\r\n",
       "}\r\n",
       "E2 *- - E3 [[psysml:9a16e398-0ba6-448d-aba1-0f88a9a52804 ]] \r\n",
       "E4 *- - E5 [[psysml:43d8af85-10f5-4c20-8018-948df50254a5 ]] \r\n",
       "}\r\n",
       "@enduml\r\n",
       "\n",
       "PlantUML version 1.2020.13(Sat Jun 13 12:26:38 UTC 2020)\n",
       "(EPL source distribution)\n",
       "Java Runtime: OpenJDK Runtime Environment\n",
       "JVM: OpenJDK 64-Bit Server VM\n",
       "Default Encoding: UTF-8\n",
       "Language: en\n",
       "Country: null\n",
       "--></g></svg>"
      ]
     },
     "execution_count": 8,
     "metadata": {},
     "output_type": "execute_result"
    }
   ],
   "source": [
    "%viz --style=\"COMPTREE\" --view=\"MIXED\" \"Q\""
   ]
  },
  {
   "cell_type": "code",
   "execution_count": 9,
   "id": "vocal-microphone",
   "metadata": {
    "execution": {
     "iopub.execute_input": "2021-03-25T15:00:55.166324Z",
     "iopub.status.busy": "2021-03-25T15:00:55.165693Z",
     "iopub.status.idle": "2021-03-25T15:00:55.279974Z",
     "shell.execute_reply": "2021-03-25T15:00:55.280655Z"
    }
   },
   "outputs": [
    {
     "data": {
      "image/svg+xml": [
       "<?xml version=\"1.0\" encoding=\"UTF-8\" standalone=\"no\"?><svg xmlns=\"http://www.w3.org/2000/svg\" xmlns:xlink=\"http://www.w3.org/1999/xlink\" contentScriptType=\"application/ecmascript\" contentStyleType=\"text/css\" height=\"221px\" preserveAspectRatio=\"none\" style=\"width:213px;height:221px;\" version=\"1.1\" viewBox=\"0 0 213 221\" width=\"213px\" zoomAndPan=\"magnify\"><defs/><g><!--MD5=[fbc87193dbaf4d95561dea2c320d4a47]\n",
       "cluster E1--><a href=\"psysml:1ca4998e-7283-4312-8b1a-8c25c589ba37\" target=\"_top\" title=\"psysml:1ca4998e-7283-4312-8b1a-8c25c589ba37\" xlink:actuate=\"onRequest\" xlink:href=\"psysml:1ca4998e-7283-4312-8b1a-8c25c589ba37\" xlink:show=\"new\" xlink:title=\"psysml:1ca4998e-7283-4312-8b1a-8c25c589ba37\" xlink:type=\"simple\"><polygon fill=\"#FFFFFF\" points=\"16,6,34,6,41,28.2969,191,28.2969,191,209,16,209,16,6\" style=\"stroke: #000000; stroke-width: 1.5;\"/><line style=\"stroke: #000000; stroke-width: 1.5;\" x1=\"16\" x2=\"41\" y1=\"28.2969\" y2=\"28.2969\"/><text fill=\"#000000\" font-family=\"sans-serif\" font-size=\"14\" font-weight=\"bold\" lengthAdjust=\"spacingAndGlyphs\" textLength=\"12\" x=\"20\" y=\"20.9951\">Q</text></a><!--MD5=[b4997ac47864f28c2f74865a473b2911]\n",
       "class E2--><a href=\"psysml:9f0b35e2-e039-4fc1-a74b-e29bd15d28ff\" target=\"_top\" title=\"psysml:9f0b35e2-e039-4fc1-a74b-e29bd15d28ff\" xlink:actuate=\"onRequest\" xlink:href=\"psysml:9f0b35e2-e039-4fc1-a74b-e29bd15d28ff\" xlink:show=\"new\" xlink:title=\"psysml:9f0b35e2-e039-4fc1-a74b-e29bd15d28ff\" xlink:type=\"simple\"><rect fill=\"#FFFFFF\" height=\"45.9375\" id=\"E2\" rx=\"10\" ry=\"10\" style=\"stroke: #383838; stroke-width: 1.5;\" width=\"42\" x=\"133\" y=\"41\"/><text fill=\"#000000\" font-family=\"sans-serif\" font-size=\"12\" font-style=\"italic\" lengthAdjust=\"spacingAndGlyphs\" textLength=\"40\" x=\"134\" y=\"57.1387\">«part»</text><text fill=\"#000000\" font-family=\"sans-serif\" font-size=\"12\" lengthAdjust=\"spacingAndGlyphs\" textLength=\"4\" x=\"152\" y=\"71.1074\">f</text><line style=\"stroke: #383838; stroke-width: 1.5;\" x1=\"134\" x2=\"174\" y1=\"78.9375\" y2=\"78.9375\"/></a><!--MD5=[09b614a08d8cba4a07c9adeb5e0fee81]\n",
       "class E3--><a href=\"psysml:9a16e398-0ba6-448d-aba1-0f88a9a52804\" target=\"_top\" title=\"psysml:9a16e398-0ba6-448d-aba1-0f88a9a52804\" xlink:actuate=\"onRequest\" xlink:href=\"psysml:9a16e398-0ba6-448d-aba1-0f88a9a52804\" xlink:show=\"new\" xlink:title=\"psysml:9a16e398-0ba6-448d-aba1-0f88a9a52804\" xlink:type=\"simple\"><rect fill=\"#FFFFFF\" height=\"45.9375\" id=\"E3\" rx=\"10\" ry=\"10\" style=\"stroke: #383838; stroke-width: 1.5;\" width=\"42\" x=\"133\" y=\"147\"/><text fill=\"#000000\" font-family=\"sans-serif\" font-size=\"12\" font-style=\"italic\" lengthAdjust=\"spacingAndGlyphs\" textLength=\"40\" x=\"134\" y=\"163.1387\">«part»</text><text fill=\"#000000\" font-family=\"sans-serif\" font-size=\"12\" lengthAdjust=\"spacingAndGlyphs\" textLength=\"8\" x=\"150\" y=\"177.1074\">a</text><line style=\"stroke: #383838; stroke-width: 1.5;\" x1=\"134\" x2=\"174\" y1=\"184.9375\" y2=\"184.9375\"/></a><!--MD5=[ebbe1d658d1005bcc118a6aa81145e00]\n",
       "class E4--><a href=\"psysml:17ca64f8-f38a-4aec-8c02-fbca076b4a28\" target=\"_top\" title=\"psysml:17ca64f8-f38a-4aec-8c02-fbca076b4a28\" xlink:actuate=\"onRequest\" xlink:href=\"psysml:17ca64f8-f38a-4aec-8c02-fbca076b4a28\" xlink:show=\"new\" xlink:title=\"psysml:17ca64f8-f38a-4aec-8c02-fbca076b4a28\" xlink:type=\"simple\"><rect fill=\"#FFFFFF\" height=\"45.9375\" id=\"E4\" style=\"stroke: #383838; stroke-width: 1.5;\" width=\"66\" x=\"32\" y=\"41\"/><text fill=\"#000000\" font-family=\"sans-serif\" font-size=\"12\" font-style=\"italic\" lengthAdjust=\"spacingAndGlyphs\" textLength=\"64\" x=\"33\" y=\"57.1387\">«part def»</text><text fill=\"#000000\" font-family=\"sans-serif\" font-size=\"12\" lengthAdjust=\"spacingAndGlyphs\" textLength=\"8\" x=\"61\" y=\"71.1074\">C</text><line style=\"stroke: #383838; stroke-width: 1.5;\" x1=\"33\" x2=\"97\" y1=\"78.9375\" y2=\"78.9375\"/></a><!--MD5=[270fce915f116d4de14055a7c1d9a0f3]\n",
       "class E5--><a href=\"psysml:43d8af85-10f5-4c20-8018-948df50254a5\" target=\"_top\" title=\"psysml:43d8af85-10f5-4c20-8018-948df50254a5\" xlink:actuate=\"onRequest\" xlink:href=\"psysml:43d8af85-10f5-4c20-8018-948df50254a5\" xlink:show=\"new\" xlink:title=\"psysml:43d8af85-10f5-4c20-8018-948df50254a5\" xlink:type=\"simple\"><rect fill=\"#FFFFFF\" height=\"45.9375\" id=\"E5\" rx=\"10\" ry=\"10\" style=\"stroke: #383838; stroke-width: 1.5;\" width=\"42\" x=\"44\" y=\"147\"/><text fill=\"#000000\" font-family=\"sans-serif\" font-size=\"12\" font-style=\"italic\" lengthAdjust=\"spacingAndGlyphs\" textLength=\"40\" x=\"45\" y=\"163.1387\">«part»</text><text fill=\"#000000\" font-family=\"sans-serif\" font-size=\"12\" lengthAdjust=\"spacingAndGlyphs\" textLength=\"8\" x=\"61\" y=\"177.1074\">g</text><line style=\"stroke: #383838; stroke-width: 1.5;\" x1=\"45\" x2=\"85\" y1=\"184.9375\" y2=\"184.9375\"/></a><!--MD5=[209b3feb70ccb6233bfe1053d122c12c]\n",
       "reverse link E2 to E3--><a href=\"psysml:9a16e398-0ba6-448d-aba1-0f88a9a52804\" target=\"_top\" title=\"psysml:9a16e398-0ba6-448d-aba1-0f88a9a52804\" xlink:actuate=\"onRequest\" xlink:href=\"psysml:9a16e398-0ba6-448d-aba1-0f88a9a52804\" xlink:show=\"new\" xlink:title=\"psysml:9a16e398-0ba6-448d-aba1-0f88a9a52804\" xlink:type=\"simple\"><path d=\"M154,100.44 C154,115.87 154,133.47 154,146.98 \" fill=\"none\" id=\"E2&lt;-E3\" style=\"stroke: #383838; stroke-width: 1.0;\"/><polygon fill=\"#383838\" points=\"154,87.06,150,93.06,154,99.06,158,93.06,154,87.06\" style=\"stroke: #383838; stroke-width: 1.0;\"/></a><!--MD5=[62aa6af11e70f752912c1cb0466f24f7]\n",
       "reverse link E4 to E5--><a href=\"psysml:43d8af85-10f5-4c20-8018-948df50254a5\" target=\"_top\" title=\"psysml:43d8af85-10f5-4c20-8018-948df50254a5\" xlink:actuate=\"onRequest\" xlink:href=\"psysml:43d8af85-10f5-4c20-8018-948df50254a5\" xlink:show=\"new\" xlink:title=\"psysml:43d8af85-10f5-4c20-8018-948df50254a5\" xlink:type=\"simple\"><path d=\"M65,100.44 C65,115.87 65,133.47 65,146.98 \" fill=\"none\" id=\"E4&lt;-E5\" style=\"stroke: #383838; stroke-width: 1.0;\"/><polygon fill=\"#383838\" points=\"65,87.06,61,93.06,65,99.06,69,93.06,65,87.06\" style=\"stroke: #383838; stroke-width: 1.0;\"/></a><!--MD5=[b60e8a5bf3f70869800e019907842fba]\n",
       "@startuml\r\n",
       "skinparam linetype polyline\r\n",
       "skinparam monochrome true\r\n",
       "skinparam classbackgroundcolor white\r\n",
       "skinparam shadowing false\r\n",
       "skinparam wrapWidth 300\r\n",
       "hide circle\r\n",
       "\r\n",
       "package \"Q\" as E1  [[psysml:1ca4998e-7283-4312-8b1a-8c25c589ba37 ]]  {\r\n",
       "comp usage \"f\" as E2  <<(T,blue)part>> [[psysml:9f0b35e2-e039-4fc1-a74b-e29bd15d28ff ]] {\r\n",
       "}\r\n",
       "comp usage \"a\" as E3  <<(T,blue)part>> [[psysml:9a16e398-0ba6-448d-aba1-0f88a9a52804 ]] {\r\n",
       "}\r\n",
       "comp def \"C\" as E4  <<(T,blue)part def>> [[psysml:17ca64f8-f38a-4aec-8c02-fbca076b4a28 ]] {\r\n",
       "}\r\n",
       "comp usage \"g\" as E5  <<(T,blue)part>> [[psysml:43d8af85-10f5-4c20-8018-948df50254a5 ]] {\r\n",
       "}\r\n",
       "E2 *- - E3 [[psysml:9a16e398-0ba6-448d-aba1-0f88a9a52804 ]] \r\n",
       "E4 *- - E5 [[psysml:43d8af85-10f5-4c20-8018-948df50254a5 ]] \r\n",
       "}\r\n",
       "@enduml\r\n",
       "\n",
       "PlantUML version 1.2020.13(Sat Jun 13 12:26:38 UTC 2020)\n",
       "(EPL source distribution)\n",
       "Java Runtime: OpenJDK Runtime Environment\n",
       "JVM: OpenJDK 64-Bit Server VM\n",
       "Default Encoding: UTF-8\n",
       "Language: en\n",
       "Country: null\n",
       "--></g></svg>"
      ]
     },
     "execution_count": 9,
     "metadata": {},
     "output_type": "execute_result"
    }
   ],
   "source": [
    "%viz --style=\"POLYLINE\" --view=\"Default\" \"Q\""
   ]
  },
  {
   "cell_type": "code",
   "execution_count": 10,
   "id": "round-commander",
   "metadata": {
    "execution": {
     "iopub.execute_input": "2021-03-25T15:00:55.331931Z",
     "iopub.status.busy": "2021-03-25T15:00:55.331038Z",
     "iopub.status.idle": "2021-03-25T15:00:55.510133Z",
     "shell.execute_reply": "2021-03-25T15:00:55.503882Z"
    }
   },
   "outputs": [
    {
     "data": {
      "image/svg+xml": [
       "<?xml version=\"1.0\" encoding=\"UTF-8\" standalone=\"no\"?><svg xmlns=\"http://www.w3.org/2000/svg\" xmlns:xlink=\"http://www.w3.org/1999/xlink\" contentScriptType=\"application/ecmascript\" contentStyleType=\"text/css\" height=\"221px\" preserveAspectRatio=\"none\" style=\"width:213px;height:221px;\" version=\"1.1\" viewBox=\"0 0 213 221\" width=\"213px\" zoomAndPan=\"magnify\"><defs/><g><!--MD5=[fbc87193dbaf4d95561dea2c320d4a47]\n",
       "cluster E1--><a href=\"psysml:1ca4998e-7283-4312-8b1a-8c25c589ba37\" target=\"_top\" title=\"psysml:1ca4998e-7283-4312-8b1a-8c25c589ba37\" xlink:actuate=\"onRequest\" xlink:href=\"psysml:1ca4998e-7283-4312-8b1a-8c25c589ba37\" xlink:show=\"new\" xlink:title=\"psysml:1ca4998e-7283-4312-8b1a-8c25c589ba37\" xlink:type=\"simple\"><polygon fill=\"#FFFFFF\" points=\"16,6,34,6,41,28.2969,191,28.2969,191,209,16,209,16,6\" style=\"stroke: #000000; stroke-width: 1.5;\"/><line style=\"stroke: #000000; stroke-width: 1.5;\" x1=\"16\" x2=\"41\" y1=\"28.2969\" y2=\"28.2969\"/><text fill=\"#000000\" font-family=\"sans-serif\" font-size=\"14\" font-weight=\"bold\" lengthAdjust=\"spacingAndGlyphs\" textLength=\"12\" x=\"20\" y=\"20.9951\">Q</text></a><!--MD5=[b4997ac47864f28c2f74865a473b2911]\n",
       "class E2--><a href=\"psysml:9f0b35e2-e039-4fc1-a74b-e29bd15d28ff\" target=\"_top\" title=\"psysml:9f0b35e2-e039-4fc1-a74b-e29bd15d28ff\" xlink:actuate=\"onRequest\" xlink:href=\"psysml:9f0b35e2-e039-4fc1-a74b-e29bd15d28ff\" xlink:show=\"new\" xlink:title=\"psysml:9f0b35e2-e039-4fc1-a74b-e29bd15d28ff\" xlink:type=\"simple\"><rect fill=\"#FFFFFF\" height=\"45.9375\" id=\"E2\" rx=\"10\" ry=\"10\" style=\"stroke: #383838; stroke-width: 1.5;\" width=\"42\" x=\"133\" y=\"41\"/><text fill=\"#000000\" font-family=\"sans-serif\" font-size=\"12\" font-style=\"italic\" lengthAdjust=\"spacingAndGlyphs\" textLength=\"40\" x=\"134\" y=\"57.1387\">«part»</text><text fill=\"#000000\" font-family=\"sans-serif\" font-size=\"12\" lengthAdjust=\"spacingAndGlyphs\" textLength=\"4\" x=\"152\" y=\"71.1074\">f</text><line style=\"stroke: #383838; stroke-width: 1.5;\" x1=\"134\" x2=\"174\" y1=\"78.9375\" y2=\"78.9375\"/></a><!--MD5=[09b614a08d8cba4a07c9adeb5e0fee81]\n",
       "class E3--><a href=\"psysml:9a16e398-0ba6-448d-aba1-0f88a9a52804\" target=\"_top\" title=\"psysml:9a16e398-0ba6-448d-aba1-0f88a9a52804\" xlink:actuate=\"onRequest\" xlink:href=\"psysml:9a16e398-0ba6-448d-aba1-0f88a9a52804\" xlink:show=\"new\" xlink:title=\"psysml:9a16e398-0ba6-448d-aba1-0f88a9a52804\" xlink:type=\"simple\"><rect fill=\"#FFFFFF\" height=\"45.9375\" id=\"E3\" rx=\"10\" ry=\"10\" style=\"stroke: #383838; stroke-width: 1.5;\" width=\"42\" x=\"133\" y=\"147\"/><text fill=\"#000000\" font-family=\"sans-serif\" font-size=\"12\" font-style=\"italic\" lengthAdjust=\"spacingAndGlyphs\" textLength=\"40\" x=\"134\" y=\"163.1387\">«part»</text><text fill=\"#000000\" font-family=\"sans-serif\" font-size=\"12\" lengthAdjust=\"spacingAndGlyphs\" textLength=\"8\" x=\"150\" y=\"177.1074\">a</text><line style=\"stroke: #383838; stroke-width: 1.5;\" x1=\"134\" x2=\"174\" y1=\"184.9375\" y2=\"184.9375\"/></a><!--MD5=[ebbe1d658d1005bcc118a6aa81145e00]\n",
       "class E4--><a href=\"psysml:17ca64f8-f38a-4aec-8c02-fbca076b4a28\" target=\"_top\" title=\"psysml:17ca64f8-f38a-4aec-8c02-fbca076b4a28\" xlink:actuate=\"onRequest\" xlink:href=\"psysml:17ca64f8-f38a-4aec-8c02-fbca076b4a28\" xlink:show=\"new\" xlink:title=\"psysml:17ca64f8-f38a-4aec-8c02-fbca076b4a28\" xlink:type=\"simple\"><rect fill=\"#FFFFFF\" height=\"45.9375\" id=\"E4\" style=\"stroke: #383838; stroke-width: 1.5;\" width=\"66\" x=\"32\" y=\"41\"/><text fill=\"#000000\" font-family=\"sans-serif\" font-size=\"12\" font-style=\"italic\" lengthAdjust=\"spacingAndGlyphs\" textLength=\"64\" x=\"33\" y=\"57.1387\">«part def»</text><text fill=\"#000000\" font-family=\"sans-serif\" font-size=\"12\" lengthAdjust=\"spacingAndGlyphs\" textLength=\"8\" x=\"61\" y=\"71.1074\">C</text><line style=\"stroke: #383838; stroke-width: 1.5;\" x1=\"33\" x2=\"97\" y1=\"78.9375\" y2=\"78.9375\"/></a><!--MD5=[270fce915f116d4de14055a7c1d9a0f3]\n",
       "class E5--><a href=\"psysml:43d8af85-10f5-4c20-8018-948df50254a5\" target=\"_top\" title=\"psysml:43d8af85-10f5-4c20-8018-948df50254a5\" xlink:actuate=\"onRequest\" xlink:href=\"psysml:43d8af85-10f5-4c20-8018-948df50254a5\" xlink:show=\"new\" xlink:title=\"psysml:43d8af85-10f5-4c20-8018-948df50254a5\" xlink:type=\"simple\"><rect fill=\"#FFFFFF\" height=\"45.9375\" id=\"E5\" rx=\"10\" ry=\"10\" style=\"stroke: #383838; stroke-width: 1.5;\" width=\"42\" x=\"44\" y=\"147\"/><text fill=\"#000000\" font-family=\"sans-serif\" font-size=\"12\" font-style=\"italic\" lengthAdjust=\"spacingAndGlyphs\" textLength=\"40\" x=\"45\" y=\"163.1387\">«part»</text><text fill=\"#000000\" font-family=\"sans-serif\" font-size=\"12\" lengthAdjust=\"spacingAndGlyphs\" textLength=\"8\" x=\"61\" y=\"177.1074\">g</text><line style=\"stroke: #383838; stroke-width: 1.5;\" x1=\"45\" x2=\"85\" y1=\"184.9375\" y2=\"184.9375\"/></a><!--MD5=[209b3feb70ccb6233bfe1053d122c12c]\n",
       "reverse link E2 to E3--><a href=\"psysml:9a16e398-0ba6-448d-aba1-0f88a9a52804\" target=\"_top\" title=\"psysml:9a16e398-0ba6-448d-aba1-0f88a9a52804\" xlink:actuate=\"onRequest\" xlink:href=\"psysml:9a16e398-0ba6-448d-aba1-0f88a9a52804\" xlink:show=\"new\" xlink:title=\"psysml:9a16e398-0ba6-448d-aba1-0f88a9a52804\" xlink:type=\"simple\"><path d=\"M154,100.44 C154,115.87 154,133.47 154,146.98 \" fill=\"none\" id=\"E2&lt;-E3\" style=\"stroke: #383838; stroke-width: 1.0;\"/><polygon fill=\"#383838\" points=\"154,87.06,150,93.06,154,99.06,158,93.06,154,87.06\" style=\"stroke: #383838; stroke-width: 1.0;\"/></a><!--MD5=[62aa6af11e70f752912c1cb0466f24f7]\n",
       "reverse link E4 to E5--><a href=\"psysml:43d8af85-10f5-4c20-8018-948df50254a5\" target=\"_top\" title=\"psysml:43d8af85-10f5-4c20-8018-948df50254a5\" xlink:actuate=\"onRequest\" xlink:href=\"psysml:43d8af85-10f5-4c20-8018-948df50254a5\" xlink:show=\"new\" xlink:title=\"psysml:43d8af85-10f5-4c20-8018-948df50254a5\" xlink:type=\"simple\"><path d=\"M65,100.44 C65,115.87 65,133.47 65,146.98 \" fill=\"none\" id=\"E4&lt;-E5\" style=\"stroke: #383838; stroke-width: 1.0;\"/><polygon fill=\"#383838\" points=\"65,87.06,61,93.06,65,99.06,69,93.06,65,87.06\" style=\"stroke: #383838; stroke-width: 1.0;\"/></a><!--MD5=[b60e8a5bf3f70869800e019907842fba]\n",
       "@startuml\r\n",
       "skinparam linetype polyline\r\n",
       "skinparam monochrome true\r\n",
       "skinparam classbackgroundcolor white\r\n",
       "skinparam shadowing false\r\n",
       "skinparam wrapWidth 300\r\n",
       "hide circle\r\n",
       "\r\n",
       "package \"Q\" as E1  [[psysml:1ca4998e-7283-4312-8b1a-8c25c589ba37 ]]  {\r\n",
       "comp usage \"f\" as E2  <<(T,blue)part>> [[psysml:9f0b35e2-e039-4fc1-a74b-e29bd15d28ff ]] {\r\n",
       "}\r\n",
       "comp usage \"a\" as E3  <<(T,blue)part>> [[psysml:9a16e398-0ba6-448d-aba1-0f88a9a52804 ]] {\r\n",
       "}\r\n",
       "comp def \"C\" as E4  <<(T,blue)part def>> [[psysml:17ca64f8-f38a-4aec-8c02-fbca076b4a28 ]] {\r\n",
       "}\r\n",
       "comp usage \"g\" as E5  <<(T,blue)part>> [[psysml:43d8af85-10f5-4c20-8018-948df50254a5 ]] {\r\n",
       "}\r\n",
       "E2 *- - E3 [[psysml:9a16e398-0ba6-448d-aba1-0f88a9a52804 ]] \r\n",
       "E4 *- - E5 [[psysml:43d8af85-10f5-4c20-8018-948df50254a5 ]] \r\n",
       "}\r\n",
       "@enduml\r\n",
       "\n",
       "PlantUML version 1.2020.13(Sat Jun 13 12:26:38 UTC 2020)\n",
       "(EPL source distribution)\n",
       "Java Runtime: OpenJDK Runtime Environment\n",
       "JVM: OpenJDK 64-Bit Server VM\n",
       "Default Encoding: UTF-8\n",
       "Language: en\n",
       "Country: null\n",
       "--></g></svg>"
      ]
     },
     "execution_count": 10,
     "metadata": {},
     "output_type": "execute_result"
    }
   ],
   "source": [
    "%viz --style=\"POLYLINE\" --view=\"Tree\" \"Q\""
   ]
  },
  {
   "cell_type": "code",
   "execution_count": 11,
   "id": "desperate-complexity",
   "metadata": {
    "execution": {
     "iopub.execute_input": "2021-03-25T15:00:55.557924Z",
     "iopub.status.busy": "2021-03-25T15:00:55.557308Z",
     "iopub.status.idle": "2021-03-25T15:00:55.574908Z",
     "shell.execute_reply": "2021-03-25T15:00:55.574074Z"
    }
   },
   "outputs": [
    {
     "data": {
      "image/svg+xml": [
       "<?xml version=\"1.0\" encoding=\"UTF-8\" standalone=\"no\"?><svg xmlns=\"http://www.w3.org/2000/svg\" xmlns:xlink=\"http://www.w3.org/1999/xlink\" contentScriptType=\"application/ecmascript\" contentStyleType=\"text/css\" height=\"12px\" preserveAspectRatio=\"none\" style=\"width:12px;height:12px;\" version=\"1.1\" viewBox=\"0 0 12 12\" width=\"12px\" zoomAndPan=\"magnify\"><defs/><g><!--MD5=[896ac0e7a515d8dd7765a661cb4ee08b]\n",
       "@startuml\r\n",
       "skinparam linetype polyline\r\n",
       "skinparam monochrome true\r\n",
       "skinparam classbackgroundcolor white\r\n",
       "skinparam shadowing false\r\n",
       "skinparam wrapWidth 300\r\n",
       "hide circle\r\n",
       "\r\n",
       "@enduml\r\n",
       "\n",
       "PlantUML version 1.2020.13(Sat Jun 13 12:26:38 UTC 2020)\n",
       "(EPL source distribution)\n",
       "Java Runtime: OpenJDK Runtime Environment\n",
       "JVM: OpenJDK 64-Bit Server VM\n",
       "Default Encoding: UTF-8\n",
       "Language: en\n",
       "Country: null\n",
       "--></g></svg>"
      ]
     },
     "execution_count": 11,
     "metadata": {},
     "output_type": "execute_result"
    }
   ],
   "source": [
    "%viz --style=\"POLYLINE\" --view=\"State\" \"Q\""
   ]
  },
  {
   "cell_type": "code",
   "execution_count": 12,
   "id": "christian-payment",
   "metadata": {
    "execution": {
     "iopub.execute_input": "2021-03-25T15:00:55.625985Z",
     "iopub.status.busy": "2021-03-25T15:00:55.625134Z",
     "iopub.status.idle": "2021-03-25T15:00:55.748616Z",
     "shell.execute_reply": "2021-03-25T15:00:55.746730Z"
    }
   },
   "outputs": [
    {
     "data": {
      "image/svg+xml": [
       "<?xml version=\"1.0\" encoding=\"UTF-8\" standalone=\"no\"?><svg xmlns=\"http://www.w3.org/2000/svg\" xmlns:xlink=\"http://www.w3.org/1999/xlink\" contentScriptType=\"application/ecmascript\" contentStyleType=\"text/css\" height=\"192px\" preserveAspectRatio=\"none\" style=\"width:279px;height:192px;\" version=\"1.1\" viewBox=\"0 0 279 192\" width=\"279px\" zoomAndPan=\"magnify\"><defs/><g><!--MD5=[fbc87193dbaf4d95561dea2c320d4a47]\n",
       "cluster E1--><a href=\"psysml:1ca4998e-7283-4312-8b1a-8c25c589ba37\" target=\"_top\" title=\"psysml:1ca4998e-7283-4312-8b1a-8c25c589ba37\" xlink:actuate=\"onRequest\" xlink:href=\"psysml:1ca4998e-7283-4312-8b1a-8c25c589ba37\" xlink:show=\"new\" xlink:title=\"psysml:1ca4998e-7283-4312-8b1a-8c25c589ba37\" xlink:type=\"simple\"><polygon fill=\"#FFFFFF\" points=\"16,6,34,6,41,28.2969,257,28.2969,257,180,16,180,16,6\" style=\"stroke: #000000; stroke-width: 1.5;\"/><line style=\"stroke: #000000; stroke-width: 1.5;\" x1=\"16\" x2=\"41\" y1=\"28.2969\" y2=\"28.2969\"/><text fill=\"#000000\" font-family=\"sans-serif\" font-size=\"14\" font-weight=\"bold\" lengthAdjust=\"spacingAndGlyphs\" textLength=\"12\" x=\"20\" y=\"20.9951\">Q</text></a><!--MD5=[e4f7fae6ed58524ba242bb0b0d3be6b7]\n",
       "cluster E2--><a href=\"psysml:9f0b35e2-e039-4fc1-a74b-e29bd15d28ff\" target=\"_top\" title=\"psysml:9f0b35e2-e039-4fc1-a74b-e29bd15d28ff\" xlink:actuate=\"onRequest\" xlink:href=\"psysml:9f0b35e2-e039-4fc1-a74b-e29bd15d28ff\" xlink:show=\"new\" xlink:title=\"psysml:9f0b35e2-e039-4fc1-a74b-e29bd15d28ff\" xlink:type=\"simple\"><rect fill=\"#FFFFFF\" height=\"91\" id=\"E2\" rx=\"10\" ry=\"10\" style=\"stroke: #383838; stroke-width: 1.5;\" width=\"82\" x=\"151\" y=\"65\"/><rect fill=\"#F8F8F8\" height=\"23.9688\" rx=\"10\" ry=\"10\" style=\"stroke: #F8F8F8; stroke-width: 1.5;\" width=\"82\" x=\"151\" y=\"65\"/><rect fill=\"#F8F8F8\" height=\"10\" style=\"stroke: #F8F8F8; stroke-width: 1.5;\" width=\"82\" x=\"151\" y=\"78.9688\"/><rect fill=\"none\" height=\"91\" id=\"E2\" rx=\"10\" ry=\"10\" style=\"stroke: #383838; stroke-width: 1.5;\" width=\"82\" x=\"151\" y=\"65\"/><text fill=\"#000000\" font-family=\"sans-serif\" font-size=\"12\" lengthAdjust=\"spacingAndGlyphs\" textLength=\"4\" x=\"190\" y=\"81.1387\">f</text><line style=\"stroke: #383838; stroke-width: 1.0;\" x1=\"151\" x2=\"233\" y1=\"88.9688\" y2=\"88.9688\"/></a><!--MD5=[f6df4d0ebaf0b5dfb2ced0ae5af7c670]\n",
       "cluster E4--><a href=\"psysml:17ca64f8-f38a-4aec-8c02-fbca076b4a28\" target=\"_top\" title=\"psysml:17ca64f8-f38a-4aec-8c02-fbca076b4a28\" xlink:actuate=\"onRequest\" xlink:href=\"psysml:17ca64f8-f38a-4aec-8c02-fbca076b4a28\" xlink:show=\"new\" xlink:title=\"psysml:17ca64f8-f38a-4aec-8c02-fbca076b4a28\" xlink:type=\"simple\"><rect fill=\"#FFFFFF\" height=\"107\" id=\"E4\" style=\"stroke: #383838; stroke-width: 1.5;\" width=\"87\" x=\"40\" y=\"49\"/><rect fill=\"#F8F8F8\" height=\"37.9375\" style=\"stroke: #383838; stroke-width: 1.5;\" width=\"87\" x=\"40\" y=\"49\"/><text fill=\"#000000\" font-family=\"sans-serif\" font-size=\"12\" font-style=\"italic\" lengthAdjust=\"spacingAndGlyphs\" textLength=\"64\" x=\"51.5\" y=\"65.1387\">«part def»</text><text fill=\"#000000\" font-family=\"sans-serif\" font-size=\"12\" lengthAdjust=\"spacingAndGlyphs\" textLength=\"8\" x=\"79.5\" y=\"79.1074\">C</text></a><g id=\"E1.E2.E3\"><a href=\"psysml:9a16e398-0ba6-448d-aba1-0f88a9a52804\" target=\"_top\" title=\"psysml:9a16e398-0ba6-448d-aba1-0f88a9a52804\" xlink:actuate=\"onRequest\" xlink:href=\"psysml:9a16e398-0ba6-448d-aba1-0f88a9a52804\" xlink:show=\"new\" xlink:title=\"psysml:9a16e398-0ba6-448d-aba1-0f88a9a52804\" xlink:type=\"simple\"><rect fill=\"#FFFFFF\" height=\"40\" id=\"E3\" rx=\"10\" ry=\"10\" style=\"stroke: #383838; stroke-width: 1.5;\" width=\"50\" x=\"167\" y=\"100\"/><rect fill=\"#F8F8F8\" height=\"23.9688\" rx=\"10\" ry=\"10\" style=\"stroke: #F8F8F8; stroke-width: 1.5;\" width=\"50\" x=\"167\" y=\"100\"/><rect fill=\"#F8F8F8\" height=\"10\" style=\"stroke: #F8F8F8; stroke-width: 1.5;\" width=\"50\" x=\"167\" y=\"113.9688\"/><rect fill=\"none\" height=\"40\" id=\"E3\" rx=\"10\" ry=\"10\" style=\"stroke: #383838; stroke-width: 1.5;\" width=\"50\" x=\"167\" y=\"100\"/><text fill=\"#000000\" font-family=\"sans-serif\" font-size=\"12\" lengthAdjust=\"spacingAndGlyphs\" textLength=\"8\" x=\"188\" y=\"116.1387\">a</text></a></g><g id=\"E1.E4.E5\"><a href=\"psysml:43d8af85-10f5-4c20-8018-948df50254a5\" target=\"_top\" title=\"psysml:43d8af85-10f5-4c20-8018-948df50254a5\" xlink:actuate=\"onRequest\" xlink:href=\"psysml:43d8af85-10f5-4c20-8018-948df50254a5\" xlink:show=\"new\" xlink:title=\"psysml:43d8af85-10f5-4c20-8018-948df50254a5\" xlink:type=\"simple\"><rect fill=\"#FFFFFF\" height=\"40\" id=\"E5\" rx=\"10\" ry=\"10\" style=\"stroke: #383838; stroke-width: 1.5;\" width=\"50\" x=\"58\" y=\"100\"/><rect fill=\"#F8F8F8\" height=\"23.9688\" rx=\"10\" ry=\"10\" style=\"stroke: #F8F8F8; stroke-width: 1.5;\" width=\"50\" x=\"58\" y=\"100\"/><rect fill=\"#F8F8F8\" height=\"10\" style=\"stroke: #F8F8F8; stroke-width: 1.5;\" width=\"50\" x=\"58\" y=\"113.9688\"/><rect fill=\"none\" height=\"40\" id=\"E5\" rx=\"10\" ry=\"10\" style=\"stroke: #383838; stroke-width: 1.5;\" width=\"50\" x=\"58\" y=\"100\"/><text fill=\"#000000\" font-family=\"sans-serif\" font-size=\"12\" lengthAdjust=\"spacingAndGlyphs\" textLength=\"8\" x=\"79\" y=\"116.1387\">g</text></a></g><!--MD5=[b6c2458f08a4d61d074bf80cb4a7c7cb]\n",
       "@startuml\r\n",
       "skinparam ranksep 8\r\n",
       "skinparam rectangle {\r\n",
       " backgroundColor<<block>> LightGreen\r\n",
       "}\r\n",
       "skinparam linetype polyline\r\n",
       "skinparam monochrome true\r\n",
       "skinparam classbackgroundcolor white\r\n",
       "skinparam shadowing false\r\n",
       "skinparam wrapWidth 300\r\n",
       "hide circle\r\n",
       "\r\n",
       "package \"Q\" as E1  [[psysml:1ca4998e-7283-4312-8b1a-8c25c589ba37 ]]  {\r\n",
       "rec usage \"f\" as E2  [[psysml:9f0b35e2-e039-4fc1-a74b-e29bd15d28ff ]] {\r\n",
       "rec usage \"a\" as E3  [[psysml:9a16e398-0ba6-448d-aba1-0f88a9a52804 ]] {\r\n",
       "}\r\n",
       "}\r\n",
       "rec def \"C\" as E4  <<(T,blue)part def>> [[psysml:17ca64f8-f38a-4aec-8c02-fbca076b4a28 ]] {\r\n",
       "rec usage \"g\" as E5  [[psysml:43d8af85-10f5-4c20-8018-948df50254a5 ]] {\r\n",
       "}\r\n",
       "}\r\n",
       "}\r\n",
       "@enduml\r\n",
       "\n",
       "PlantUML version 1.2020.13(Sat Jun 13 12:26:38 UTC 2020)\n",
       "(EPL source distribution)\n",
       "Java Runtime: OpenJDK Runtime Environment\n",
       "JVM: OpenJDK 64-Bit Server VM\n",
       "Default Encoding: UTF-8\n",
       "Language: en\n",
       "Country: null\n",
       "--></g></svg>"
      ]
     },
     "execution_count": 12,
     "metadata": {},
     "output_type": "execute_result"
    }
   ],
   "source": [
    "%viz --style=\"POLYLINE\" --view=\"Interconnection\" \"Q\""
   ]
  },
  {
   "cell_type": "code",
   "execution_count": 13,
   "id": "framed-donor",
   "metadata": {
    "execution": {
     "iopub.execute_input": "2021-03-25T15:00:55.800852Z",
     "iopub.status.busy": "2021-03-25T15:00:55.799222Z",
     "iopub.status.idle": "2021-03-25T15:00:55.816540Z",
     "shell.execute_reply": "2021-03-25T15:00:55.816051Z"
    }
   },
   "outputs": [
    {
     "data": {
      "image/svg+xml": [
       "<?xml version=\"1.0\" encoding=\"UTF-8\" standalone=\"no\"?><svg xmlns=\"http://www.w3.org/2000/svg\" xmlns:xlink=\"http://www.w3.org/1999/xlink\" contentScriptType=\"application/ecmascript\" contentStyleType=\"text/css\" height=\"12px\" preserveAspectRatio=\"none\" style=\"width:12px;height:12px;\" version=\"1.1\" viewBox=\"0 0 12 12\" width=\"12px\" zoomAndPan=\"magnify\"><defs/><g><!--MD5=[97bbf32f66ccd50cbc40d92ea8f5a65e]\n",
       "@startuml\r\n",
       "skinparam ranksep 8\r\n",
       "skinparam linetype polyline\r\n",
       "skinparam monochrome true\r\n",
       "skinparam classbackgroundcolor white\r\n",
       "skinparam shadowing false\r\n",
       "skinparam wrapWidth 300\r\n",
       "hide circle\r\n",
       "\r\n",
       "@enduml\r\n",
       "\n",
       "PlantUML version 1.2020.13(Sat Jun 13 12:26:38 UTC 2020)\n",
       "(EPL source distribution)\n",
       "Java Runtime: OpenJDK Runtime Environment\n",
       "JVM: OpenJDK 64-Bit Server VM\n",
       "Default Encoding: UTF-8\n",
       "Language: en\n",
       "Country: null\n",
       "--></g></svg>"
      ]
     },
     "execution_count": 13,
     "metadata": {},
     "output_type": "execute_result"
    }
   ],
   "source": [
    "%viz --style=\"POLYLINE\" --view=\"Action\" \"Q\""
   ]
  },
  {
   "cell_type": "code",
   "execution_count": 14,
   "id": "familiar-supervision",
   "metadata": {
    "execution": {
     "iopub.execute_input": "2021-03-25T15:00:55.867995Z",
     "iopub.status.busy": "2021-03-25T15:00:55.866654Z",
     "iopub.status.idle": "2021-03-25T15:00:55.953429Z",
     "shell.execute_reply": "2021-03-25T15:00:55.950454Z"
    }
   },
   "outputs": [
    {
     "data": {
      "image/svg+xml": [
       "<?xml version=\"1.0\" encoding=\"UTF-8\" standalone=\"no\"?><svg xmlns=\"http://www.w3.org/2000/svg\" xmlns:xlink=\"http://www.w3.org/1999/xlink\" contentScriptType=\"application/ecmascript\" contentStyleType=\"text/css\" height=\"221px\" preserveAspectRatio=\"none\" style=\"width:213px;height:221px;\" version=\"1.1\" viewBox=\"0 0 213 221\" width=\"213px\" zoomAndPan=\"magnify\"><defs/><g><!--MD5=[fbc87193dbaf4d95561dea2c320d4a47]\n",
       "cluster E1--><a href=\"psysml:1ca4998e-7283-4312-8b1a-8c25c589ba37\" target=\"_top\" title=\"psysml:1ca4998e-7283-4312-8b1a-8c25c589ba37\" xlink:actuate=\"onRequest\" xlink:href=\"psysml:1ca4998e-7283-4312-8b1a-8c25c589ba37\" xlink:show=\"new\" xlink:title=\"psysml:1ca4998e-7283-4312-8b1a-8c25c589ba37\" xlink:type=\"simple\"><polygon fill=\"#FFFFFF\" points=\"16,6,34,6,41,28.2969,191,28.2969,191,209,16,209,16,6\" style=\"stroke: #000000; stroke-width: 1.5;\"/><line style=\"stroke: #000000; stroke-width: 1.5;\" x1=\"16\" x2=\"41\" y1=\"28.2969\" y2=\"28.2969\"/><text fill=\"#000000\" font-family=\"sans-serif\" font-size=\"14\" font-weight=\"bold\" lengthAdjust=\"spacingAndGlyphs\" textLength=\"12\" x=\"20\" y=\"20.9951\">Q</text></a><!--MD5=[b4997ac47864f28c2f74865a473b2911]\n",
       "class E2--><a href=\"psysml:9f0b35e2-e039-4fc1-a74b-e29bd15d28ff\" target=\"_top\" title=\"psysml:9f0b35e2-e039-4fc1-a74b-e29bd15d28ff\" xlink:actuate=\"onRequest\" xlink:href=\"psysml:9f0b35e2-e039-4fc1-a74b-e29bd15d28ff\" xlink:show=\"new\" xlink:title=\"psysml:9f0b35e2-e039-4fc1-a74b-e29bd15d28ff\" xlink:type=\"simple\"><rect fill=\"#FFFFFF\" height=\"45.9375\" id=\"E2\" rx=\"10\" ry=\"10\" style=\"stroke: #383838; stroke-width: 1.5;\" width=\"42\" x=\"133\" y=\"41\"/><text fill=\"#000000\" font-family=\"sans-serif\" font-size=\"12\" font-style=\"italic\" lengthAdjust=\"spacingAndGlyphs\" textLength=\"40\" x=\"134\" y=\"57.1387\">«part»</text><text fill=\"#000000\" font-family=\"sans-serif\" font-size=\"12\" lengthAdjust=\"spacingAndGlyphs\" textLength=\"4\" x=\"152\" y=\"71.1074\">f</text><line style=\"stroke: #383838; stroke-width: 1.5;\" x1=\"134\" x2=\"174\" y1=\"78.9375\" y2=\"78.9375\"/></a><!--MD5=[09b614a08d8cba4a07c9adeb5e0fee81]\n",
       "class E3--><a href=\"psysml:9a16e398-0ba6-448d-aba1-0f88a9a52804\" target=\"_top\" title=\"psysml:9a16e398-0ba6-448d-aba1-0f88a9a52804\" xlink:actuate=\"onRequest\" xlink:href=\"psysml:9a16e398-0ba6-448d-aba1-0f88a9a52804\" xlink:show=\"new\" xlink:title=\"psysml:9a16e398-0ba6-448d-aba1-0f88a9a52804\" xlink:type=\"simple\"><rect fill=\"#FFFFFF\" height=\"45.9375\" id=\"E3\" rx=\"10\" ry=\"10\" style=\"stroke: #383838; stroke-width: 1.5;\" width=\"42\" x=\"133\" y=\"147\"/><text fill=\"#000000\" font-family=\"sans-serif\" font-size=\"12\" font-style=\"italic\" lengthAdjust=\"spacingAndGlyphs\" textLength=\"40\" x=\"134\" y=\"163.1387\">«part»</text><text fill=\"#000000\" font-family=\"sans-serif\" font-size=\"12\" lengthAdjust=\"spacingAndGlyphs\" textLength=\"8\" x=\"150\" y=\"177.1074\">a</text><line style=\"stroke: #383838; stroke-width: 1.5;\" x1=\"134\" x2=\"174\" y1=\"184.9375\" y2=\"184.9375\"/></a><!--MD5=[ebbe1d658d1005bcc118a6aa81145e00]\n",
       "class E4--><a href=\"psysml:17ca64f8-f38a-4aec-8c02-fbca076b4a28\" target=\"_top\" title=\"psysml:17ca64f8-f38a-4aec-8c02-fbca076b4a28\" xlink:actuate=\"onRequest\" xlink:href=\"psysml:17ca64f8-f38a-4aec-8c02-fbca076b4a28\" xlink:show=\"new\" xlink:title=\"psysml:17ca64f8-f38a-4aec-8c02-fbca076b4a28\" xlink:type=\"simple\"><rect fill=\"#FFFFFF\" height=\"45.9375\" id=\"E4\" style=\"stroke: #383838; stroke-width: 1.5;\" width=\"66\" x=\"32\" y=\"41\"/><text fill=\"#000000\" font-family=\"sans-serif\" font-size=\"12\" font-style=\"italic\" lengthAdjust=\"spacingAndGlyphs\" textLength=\"64\" x=\"33\" y=\"57.1387\">«part def»</text><text fill=\"#000000\" font-family=\"sans-serif\" font-size=\"12\" lengthAdjust=\"spacingAndGlyphs\" textLength=\"8\" x=\"61\" y=\"71.1074\">C</text><line style=\"stroke: #383838; stroke-width: 1.5;\" x1=\"33\" x2=\"97\" y1=\"78.9375\" y2=\"78.9375\"/></a><!--MD5=[270fce915f116d4de14055a7c1d9a0f3]\n",
       "class E5--><a href=\"psysml:43d8af85-10f5-4c20-8018-948df50254a5\" target=\"_top\" title=\"psysml:43d8af85-10f5-4c20-8018-948df50254a5\" xlink:actuate=\"onRequest\" xlink:href=\"psysml:43d8af85-10f5-4c20-8018-948df50254a5\" xlink:show=\"new\" xlink:title=\"psysml:43d8af85-10f5-4c20-8018-948df50254a5\" xlink:type=\"simple\"><rect fill=\"#FFFFFF\" height=\"45.9375\" id=\"E5\" rx=\"10\" ry=\"10\" style=\"stroke: #383838; stroke-width: 1.5;\" width=\"42\" x=\"44\" y=\"147\"/><text fill=\"#000000\" font-family=\"sans-serif\" font-size=\"12\" font-style=\"italic\" lengthAdjust=\"spacingAndGlyphs\" textLength=\"40\" x=\"45\" y=\"163.1387\">«part»</text><text fill=\"#000000\" font-family=\"sans-serif\" font-size=\"12\" lengthAdjust=\"spacingAndGlyphs\" textLength=\"8\" x=\"61\" y=\"177.1074\">g</text><line style=\"stroke: #383838; stroke-width: 1.5;\" x1=\"45\" x2=\"85\" y1=\"184.9375\" y2=\"184.9375\"/></a><!--MD5=[209b3feb70ccb6233bfe1053d122c12c]\n",
       "reverse link E2 to E3--><a href=\"psysml:9a16e398-0ba6-448d-aba1-0f88a9a52804\" target=\"_top\" title=\"psysml:9a16e398-0ba6-448d-aba1-0f88a9a52804\" xlink:actuate=\"onRequest\" xlink:href=\"psysml:9a16e398-0ba6-448d-aba1-0f88a9a52804\" xlink:show=\"new\" xlink:title=\"psysml:9a16e398-0ba6-448d-aba1-0f88a9a52804\" xlink:type=\"simple\"><path d=\"M154,100.44 C154,115.87 154,133.47 154,146.98 \" fill=\"none\" id=\"E2&lt;-E3\" style=\"stroke: #383838; stroke-width: 1.0;\"/><polygon fill=\"#383838\" points=\"154,87.06,150,93.06,154,99.06,158,93.06,154,87.06\" style=\"stroke: #383838; stroke-width: 1.0;\"/></a><!--MD5=[62aa6af11e70f752912c1cb0466f24f7]\n",
       "reverse link E4 to E5--><a href=\"psysml:43d8af85-10f5-4c20-8018-948df50254a5\" target=\"_top\" title=\"psysml:43d8af85-10f5-4c20-8018-948df50254a5\" xlink:actuate=\"onRequest\" xlink:href=\"psysml:43d8af85-10f5-4c20-8018-948df50254a5\" xlink:show=\"new\" xlink:title=\"psysml:43d8af85-10f5-4c20-8018-948df50254a5\" xlink:type=\"simple\"><path d=\"M65,100.44 C65,115.87 65,133.47 65,146.98 \" fill=\"none\" id=\"E4&lt;-E5\" style=\"stroke: #383838; stroke-width: 1.0;\"/><polygon fill=\"#383838\" points=\"65,87.06,61,93.06,65,99.06,69,93.06,65,87.06\" style=\"stroke: #383838; stroke-width: 1.0;\"/></a><!--MD5=[b60e8a5bf3f70869800e019907842fba]\n",
       "@startuml\r\n",
       "skinparam linetype polyline\r\n",
       "skinparam monochrome true\r\n",
       "skinparam classbackgroundcolor white\r\n",
       "skinparam shadowing false\r\n",
       "skinparam wrapWidth 300\r\n",
       "hide circle\r\n",
       "\r\n",
       "package \"Q\" as E1  [[psysml:1ca4998e-7283-4312-8b1a-8c25c589ba37 ]]  {\r\n",
       "comp usage \"f\" as E2  <<(T,blue)part>> [[psysml:9f0b35e2-e039-4fc1-a74b-e29bd15d28ff ]] {\r\n",
       "}\r\n",
       "comp usage \"a\" as E3  <<(T,blue)part>> [[psysml:9a16e398-0ba6-448d-aba1-0f88a9a52804 ]] {\r\n",
       "}\r\n",
       "comp def \"C\" as E4  <<(T,blue)part def>> [[psysml:17ca64f8-f38a-4aec-8c02-fbca076b4a28 ]] {\r\n",
       "}\r\n",
       "comp usage \"g\" as E5  <<(T,blue)part>> [[psysml:43d8af85-10f5-4c20-8018-948df50254a5 ]] {\r\n",
       "}\r\n",
       "E2 *- - E3 [[psysml:9a16e398-0ba6-448d-aba1-0f88a9a52804 ]] \r\n",
       "E4 *- - E5 [[psysml:43d8af85-10f5-4c20-8018-948df50254a5 ]] \r\n",
       "}\r\n",
       "@enduml\r\n",
       "\n",
       "PlantUML version 1.2020.13(Sat Jun 13 12:26:38 UTC 2020)\n",
       "(EPL source distribution)\n",
       "Java Runtime: OpenJDK Runtime Environment\n",
       "JVM: OpenJDK 64-Bit Server VM\n",
       "Default Encoding: UTF-8\n",
       "Language: en\n",
       "Country: null\n",
       "--></g></svg>"
      ]
     },
     "execution_count": 14,
     "metadata": {},
     "output_type": "execute_result"
    }
   ],
   "source": [
    "%viz --style=\"POLYLINE\" --view=\"Sequence\" \"Q\""
   ]
  },
  {
   "cell_type": "code",
   "execution_count": 15,
   "id": "artificial-prefix",
   "metadata": {
    "execution": {
     "iopub.execute_input": "2021-03-25T15:00:56.001506Z",
     "iopub.status.busy": "2021-03-25T15:00:56.001065Z",
     "iopub.status.idle": "2021-03-25T15:00:56.086497Z",
     "shell.execute_reply": "2021-03-25T15:00:56.085989Z"
    }
   },
   "outputs": [
    {
     "data": {
      "image/svg+xml": [
       "<?xml version=\"1.0\" encoding=\"UTF-8\" standalone=\"no\"?><svg xmlns=\"http://www.w3.org/2000/svg\" xmlns:xlink=\"http://www.w3.org/1999/xlink\" contentScriptType=\"application/ecmascript\" contentStyleType=\"text/css\" height=\"221px\" preserveAspectRatio=\"none\" style=\"width:213px;height:221px;\" version=\"1.1\" viewBox=\"0 0 213 221\" width=\"213px\" zoomAndPan=\"magnify\"><defs/><g><!--MD5=[fbc87193dbaf4d95561dea2c320d4a47]\n",
       "cluster E1--><a href=\"psysml:1ca4998e-7283-4312-8b1a-8c25c589ba37\" target=\"_top\" title=\"psysml:1ca4998e-7283-4312-8b1a-8c25c589ba37\" xlink:actuate=\"onRequest\" xlink:href=\"psysml:1ca4998e-7283-4312-8b1a-8c25c589ba37\" xlink:show=\"new\" xlink:title=\"psysml:1ca4998e-7283-4312-8b1a-8c25c589ba37\" xlink:type=\"simple\"><polygon fill=\"#FFFFFF\" points=\"16,6,34,6,41,28.2969,191,28.2969,191,209,16,209,16,6\" style=\"stroke: #000000; stroke-width: 1.5;\"/><line style=\"stroke: #000000; stroke-width: 1.5;\" x1=\"16\" x2=\"41\" y1=\"28.2969\" y2=\"28.2969\"/><text fill=\"#000000\" font-family=\"sans-serif\" font-size=\"14\" font-weight=\"bold\" lengthAdjust=\"spacingAndGlyphs\" textLength=\"12\" x=\"20\" y=\"20.9951\">Q</text></a><!--MD5=[b4997ac47864f28c2f74865a473b2911]\n",
       "class E2--><a href=\"psysml:9f0b35e2-e039-4fc1-a74b-e29bd15d28ff\" target=\"_top\" title=\"psysml:9f0b35e2-e039-4fc1-a74b-e29bd15d28ff\" xlink:actuate=\"onRequest\" xlink:href=\"psysml:9f0b35e2-e039-4fc1-a74b-e29bd15d28ff\" xlink:show=\"new\" xlink:title=\"psysml:9f0b35e2-e039-4fc1-a74b-e29bd15d28ff\" xlink:type=\"simple\"><rect fill=\"#FFFFFF\" height=\"45.9375\" id=\"E2\" rx=\"10\" ry=\"10\" style=\"stroke: #383838; stroke-width: 1.5;\" width=\"42\" x=\"133\" y=\"41\"/><text fill=\"#000000\" font-family=\"sans-serif\" font-size=\"12\" font-style=\"italic\" lengthAdjust=\"spacingAndGlyphs\" textLength=\"40\" x=\"134\" y=\"57.1387\">«part»</text><text fill=\"#000000\" font-family=\"sans-serif\" font-size=\"12\" lengthAdjust=\"spacingAndGlyphs\" textLength=\"4\" x=\"152\" y=\"71.1074\">f</text><line style=\"stroke: #383838; stroke-width: 1.5;\" x1=\"134\" x2=\"174\" y1=\"78.9375\" y2=\"78.9375\"/></a><!--MD5=[09b614a08d8cba4a07c9adeb5e0fee81]\n",
       "class E3--><a href=\"psysml:9a16e398-0ba6-448d-aba1-0f88a9a52804\" target=\"_top\" title=\"psysml:9a16e398-0ba6-448d-aba1-0f88a9a52804\" xlink:actuate=\"onRequest\" xlink:href=\"psysml:9a16e398-0ba6-448d-aba1-0f88a9a52804\" xlink:show=\"new\" xlink:title=\"psysml:9a16e398-0ba6-448d-aba1-0f88a9a52804\" xlink:type=\"simple\"><rect fill=\"#FFFFFF\" height=\"45.9375\" id=\"E3\" rx=\"10\" ry=\"10\" style=\"stroke: #383838; stroke-width: 1.5;\" width=\"42\" x=\"133\" y=\"147\"/><text fill=\"#000000\" font-family=\"sans-serif\" font-size=\"12\" font-style=\"italic\" lengthAdjust=\"spacingAndGlyphs\" textLength=\"40\" x=\"134\" y=\"163.1387\">«part»</text><text fill=\"#000000\" font-family=\"sans-serif\" font-size=\"12\" lengthAdjust=\"spacingAndGlyphs\" textLength=\"8\" x=\"150\" y=\"177.1074\">a</text><line style=\"stroke: #383838; stroke-width: 1.5;\" x1=\"134\" x2=\"174\" y1=\"184.9375\" y2=\"184.9375\"/></a><!--MD5=[ebbe1d658d1005bcc118a6aa81145e00]\n",
       "class E4--><a href=\"psysml:17ca64f8-f38a-4aec-8c02-fbca076b4a28\" target=\"_top\" title=\"psysml:17ca64f8-f38a-4aec-8c02-fbca076b4a28\" xlink:actuate=\"onRequest\" xlink:href=\"psysml:17ca64f8-f38a-4aec-8c02-fbca076b4a28\" xlink:show=\"new\" xlink:title=\"psysml:17ca64f8-f38a-4aec-8c02-fbca076b4a28\" xlink:type=\"simple\"><rect fill=\"#FFFFFF\" height=\"45.9375\" id=\"E4\" style=\"stroke: #383838; stroke-width: 1.5;\" width=\"66\" x=\"32\" y=\"41\"/><text fill=\"#000000\" font-family=\"sans-serif\" font-size=\"12\" font-style=\"italic\" lengthAdjust=\"spacingAndGlyphs\" textLength=\"64\" x=\"33\" y=\"57.1387\">«part def»</text><text fill=\"#000000\" font-family=\"sans-serif\" font-size=\"12\" lengthAdjust=\"spacingAndGlyphs\" textLength=\"8\" x=\"61\" y=\"71.1074\">C</text><line style=\"stroke: #383838; stroke-width: 1.5;\" x1=\"33\" x2=\"97\" y1=\"78.9375\" y2=\"78.9375\"/></a><!--MD5=[270fce915f116d4de14055a7c1d9a0f3]\n",
       "class E5--><a href=\"psysml:43d8af85-10f5-4c20-8018-948df50254a5\" target=\"_top\" title=\"psysml:43d8af85-10f5-4c20-8018-948df50254a5\" xlink:actuate=\"onRequest\" xlink:href=\"psysml:43d8af85-10f5-4c20-8018-948df50254a5\" xlink:show=\"new\" xlink:title=\"psysml:43d8af85-10f5-4c20-8018-948df50254a5\" xlink:type=\"simple\"><rect fill=\"#FFFFFF\" height=\"45.9375\" id=\"E5\" rx=\"10\" ry=\"10\" style=\"stroke: #383838; stroke-width: 1.5;\" width=\"42\" x=\"44\" y=\"147\"/><text fill=\"#000000\" font-family=\"sans-serif\" font-size=\"12\" font-style=\"italic\" lengthAdjust=\"spacingAndGlyphs\" textLength=\"40\" x=\"45\" y=\"163.1387\">«part»</text><text fill=\"#000000\" font-family=\"sans-serif\" font-size=\"12\" lengthAdjust=\"spacingAndGlyphs\" textLength=\"8\" x=\"61\" y=\"177.1074\">g</text><line style=\"stroke: #383838; stroke-width: 1.5;\" x1=\"45\" x2=\"85\" y1=\"184.9375\" y2=\"184.9375\"/></a><!--MD5=[209b3feb70ccb6233bfe1053d122c12c]\n",
       "reverse link E2 to E3--><a href=\"psysml:9a16e398-0ba6-448d-aba1-0f88a9a52804\" target=\"_top\" title=\"psysml:9a16e398-0ba6-448d-aba1-0f88a9a52804\" xlink:actuate=\"onRequest\" xlink:href=\"psysml:9a16e398-0ba6-448d-aba1-0f88a9a52804\" xlink:show=\"new\" xlink:title=\"psysml:9a16e398-0ba6-448d-aba1-0f88a9a52804\" xlink:type=\"simple\"><path d=\"M154,100.44 C154,115.87 154,133.47 154,146.98 \" fill=\"none\" id=\"E2&lt;-E3\" style=\"stroke: #383838; stroke-width: 1.0;\"/><polygon fill=\"#383838\" points=\"154,87.06,150,93.06,154,99.06,158,93.06,154,87.06\" style=\"stroke: #383838; stroke-width: 1.0;\"/></a><!--MD5=[62aa6af11e70f752912c1cb0466f24f7]\n",
       "reverse link E4 to E5--><a href=\"psysml:43d8af85-10f5-4c20-8018-948df50254a5\" target=\"_top\" title=\"psysml:43d8af85-10f5-4c20-8018-948df50254a5\" xlink:actuate=\"onRequest\" xlink:href=\"psysml:43d8af85-10f5-4c20-8018-948df50254a5\" xlink:show=\"new\" xlink:title=\"psysml:43d8af85-10f5-4c20-8018-948df50254a5\" xlink:type=\"simple\"><path d=\"M65,100.44 C65,115.87 65,133.47 65,146.98 \" fill=\"none\" id=\"E4&lt;-E5\" style=\"stroke: #383838; stroke-width: 1.0;\"/><polygon fill=\"#383838\" points=\"65,87.06,61,93.06,65,99.06,69,93.06,65,87.06\" style=\"stroke: #383838; stroke-width: 1.0;\"/></a><!--MD5=[b60e8a5bf3f70869800e019907842fba]\n",
       "@startuml\r\n",
       "skinparam linetype polyline\r\n",
       "skinparam monochrome true\r\n",
       "skinparam classbackgroundcolor white\r\n",
       "skinparam shadowing false\r\n",
       "skinparam wrapWidth 300\r\n",
       "hide circle\r\n",
       "\r\n",
       "package \"Q\" as E1  [[psysml:1ca4998e-7283-4312-8b1a-8c25c589ba37 ]]  {\r\n",
       "comp usage \"f\" as E2  <<(T,blue)part>> [[psysml:9f0b35e2-e039-4fc1-a74b-e29bd15d28ff ]] {\r\n",
       "}\r\n",
       "comp usage \"a\" as E3  <<(T,blue)part>> [[psysml:9a16e398-0ba6-448d-aba1-0f88a9a52804 ]] {\r\n",
       "}\r\n",
       "comp def \"C\" as E4  <<(T,blue)part def>> [[psysml:17ca64f8-f38a-4aec-8c02-fbca076b4a28 ]] {\r\n",
       "}\r\n",
       "comp usage \"g\" as E5  <<(T,blue)part>> [[psysml:43d8af85-10f5-4c20-8018-948df50254a5 ]] {\r\n",
       "}\r\n",
       "E2 *- - E3 [[psysml:9a16e398-0ba6-448d-aba1-0f88a9a52804 ]] \r\n",
       "E4 *- - E5 [[psysml:43d8af85-10f5-4c20-8018-948df50254a5 ]] \r\n",
       "}\r\n",
       "@enduml\r\n",
       "\n",
       "PlantUML version 1.2020.13(Sat Jun 13 12:26:38 UTC 2020)\n",
       "(EPL source distribution)\n",
       "Java Runtime: OpenJDK Runtime Environment\n",
       "JVM: OpenJDK 64-Bit Server VM\n",
       "Default Encoding: UTF-8\n",
       "Language: en\n",
       "Country: null\n",
       "--></g></svg>"
      ]
     },
     "execution_count": 15,
     "metadata": {},
     "output_type": "execute_result"
    }
   ],
   "source": [
    "%viz --style=\"POLYLINE\" --view=\"MIXED\" \"Q\""
   ]
  },
  {
   "cell_type": "code",
   "execution_count": 16,
   "id": "particular-insulin",
   "metadata": {
    "execution": {
     "iopub.execute_input": "2021-03-25T15:00:56.138092Z",
     "iopub.status.busy": "2021-03-25T15:00:56.137015Z",
     "iopub.status.idle": "2021-03-25T15:00:56.249388Z",
     "shell.execute_reply": "2021-03-25T15:00:56.248574Z"
    }
   },
   "outputs": [
    {
     "data": {
      "image/svg+xml": [
       "<?xml version=\"1.0\" encoding=\"UTF-8\" standalone=\"no\"?><svg xmlns=\"http://www.w3.org/2000/svg\" xmlns:xlink=\"http://www.w3.org/1999/xlink\" contentScriptType=\"application/ecmascript\" contentStyleType=\"text/css\" height=\"196px\" preserveAspectRatio=\"none\" style=\"width:238px;height:196px;\" version=\"1.1\" viewBox=\"0 0 238 196\" width=\"238px\" zoomAndPan=\"magnify\"><defs/><g><!--MD5=[fbc87193dbaf4d95561dea2c320d4a47]\n",
       "cluster E1--><a href=\"psysml:1ca4998e-7283-4312-8b1a-8c25c589ba37\" target=\"_top\" title=\"psysml:1ca4998e-7283-4312-8b1a-8c25c589ba37\" xlink:actuate=\"onRequest\" xlink:href=\"psysml:1ca4998e-7283-4312-8b1a-8c25c589ba37\" xlink:show=\"new\" xlink:title=\"psysml:1ca4998e-7283-4312-8b1a-8c25c589ba37\" xlink:type=\"simple\"><polygon fill=\"#FFFFFF\" points=\"16,6,34,6,41,28.2969,216,28.2969,216,184,16,184,16,6\" style=\"stroke: #000000; stroke-width: 1.5;\"/><line style=\"stroke: #000000; stroke-width: 1.5;\" x1=\"16\" x2=\"41\" y1=\"28.2969\" y2=\"28.2969\"/><text fill=\"#000000\" font-family=\"sans-serif\" font-size=\"14\" font-weight=\"bold\" lengthAdjust=\"spacingAndGlyphs\" textLength=\"12\" x=\"20\" y=\"20.9951\">Q</text></a><!--MD5=[b4997ac47864f28c2f74865a473b2911]\n",
       "class E2--><a href=\"psysml:9f0b35e2-e039-4fc1-a74b-e29bd15d28ff\" target=\"_top\" title=\"psysml:9f0b35e2-e039-4fc1-a74b-e29bd15d28ff\" xlink:actuate=\"onRequest\" xlink:href=\"psysml:9f0b35e2-e039-4fc1-a74b-e29bd15d28ff\" xlink:show=\"new\" xlink:title=\"psysml:9f0b35e2-e039-4fc1-a74b-e29bd15d28ff\" xlink:type=\"simple\"><rect fill=\"#FFFFFF\" height=\"45.9375\" id=\"E2\" rx=\"10\" ry=\"10\" style=\"stroke: #383838; stroke-width: 1.5;\" width=\"42\" x=\"44\" y=\"41\"/><text fill=\"#000000\" font-family=\"sans-serif\" font-size=\"12\" font-style=\"italic\" lengthAdjust=\"spacingAndGlyphs\" textLength=\"40\" x=\"45\" y=\"57.1387\">«part»</text><text fill=\"#000000\" font-family=\"sans-serif\" font-size=\"12\" lengthAdjust=\"spacingAndGlyphs\" textLength=\"4\" x=\"63\" y=\"71.1074\">f</text><line style=\"stroke: #383838; stroke-width: 1.5;\" x1=\"45\" x2=\"85\" y1=\"78.9375\" y2=\"78.9375\"/></a><!--MD5=[09b614a08d8cba4a07c9adeb5e0fee81]\n",
       "class E3--><a href=\"psysml:9a16e398-0ba6-448d-aba1-0f88a9a52804\" target=\"_top\" title=\"psysml:9a16e398-0ba6-448d-aba1-0f88a9a52804\" xlink:actuate=\"onRequest\" xlink:href=\"psysml:9a16e398-0ba6-448d-aba1-0f88a9a52804\" xlink:show=\"new\" xlink:title=\"psysml:9a16e398-0ba6-448d-aba1-0f88a9a52804\" xlink:type=\"simple\"><rect fill=\"#FFFFFF\" height=\"45.9375\" id=\"E3\" rx=\"10\" ry=\"10\" style=\"stroke: #383838; stroke-width: 1.5;\" width=\"42\" x=\"158\" y=\"41\"/><text fill=\"#000000\" font-family=\"sans-serif\" font-size=\"12\" font-style=\"italic\" lengthAdjust=\"spacingAndGlyphs\" textLength=\"40\" x=\"159\" y=\"57.1387\">«part»</text><text fill=\"#000000\" font-family=\"sans-serif\" font-size=\"12\" lengthAdjust=\"spacingAndGlyphs\" textLength=\"8\" x=\"175\" y=\"71.1074\">a</text><line style=\"stroke: #383838; stroke-width: 1.5;\" x1=\"159\" x2=\"199\" y1=\"78.9375\" y2=\"78.9375\"/></a><!--MD5=[ebbe1d658d1005bcc118a6aa81145e00]\n",
       "class E4--><a href=\"psysml:17ca64f8-f38a-4aec-8c02-fbca076b4a28\" target=\"_top\" title=\"psysml:17ca64f8-f38a-4aec-8c02-fbca076b4a28\" xlink:actuate=\"onRequest\" xlink:href=\"psysml:17ca64f8-f38a-4aec-8c02-fbca076b4a28\" xlink:show=\"new\" xlink:title=\"psysml:17ca64f8-f38a-4aec-8c02-fbca076b4a28\" xlink:type=\"simple\"><rect fill=\"#FFFFFF\" height=\"45.9375\" id=\"E4\" style=\"stroke: #383838; stroke-width: 1.5;\" width=\"66\" x=\"32\" y=\"122\"/><text fill=\"#000000\" font-family=\"sans-serif\" font-size=\"12\" font-style=\"italic\" lengthAdjust=\"spacingAndGlyphs\" textLength=\"64\" x=\"33\" y=\"138.1387\">«part def»</text><text fill=\"#000000\" font-family=\"sans-serif\" font-size=\"12\" lengthAdjust=\"spacingAndGlyphs\" textLength=\"8\" x=\"61\" y=\"152.1074\">C</text><line style=\"stroke: #383838; stroke-width: 1.5;\" x1=\"33\" x2=\"97\" y1=\"159.9375\" y2=\"159.9375\"/></a><!--MD5=[270fce915f116d4de14055a7c1d9a0f3]\n",
       "class E5--><a href=\"psysml:43d8af85-10f5-4c20-8018-948df50254a5\" target=\"_top\" title=\"psysml:43d8af85-10f5-4c20-8018-948df50254a5\" xlink:actuate=\"onRequest\" xlink:href=\"psysml:43d8af85-10f5-4c20-8018-948df50254a5\" xlink:show=\"new\" xlink:title=\"psysml:43d8af85-10f5-4c20-8018-948df50254a5\" xlink:type=\"simple\"><rect fill=\"#FFFFFF\" height=\"45.9375\" id=\"E5\" rx=\"10\" ry=\"10\" style=\"stroke: #383838; stroke-width: 1.5;\" width=\"42\" x=\"158\" y=\"122\"/><text fill=\"#000000\" font-family=\"sans-serif\" font-size=\"12\" font-style=\"italic\" lengthAdjust=\"spacingAndGlyphs\" textLength=\"40\" x=\"159\" y=\"138.1387\">«part»</text><text fill=\"#000000\" font-family=\"sans-serif\" font-size=\"12\" lengthAdjust=\"spacingAndGlyphs\" textLength=\"8\" x=\"175\" y=\"152.1074\">g</text><line style=\"stroke: #383838; stroke-width: 1.5;\" x1=\"159\" x2=\"199\" y1=\"159.9375\" y2=\"159.9375\"/></a><!--MD5=[209b3feb70ccb6233bfe1053d122c12c]\n",
       "reverse link E2 to E3--><a href=\"psysml:9a16e398-0ba6-448d-aba1-0f88a9a52804\" target=\"_top\" title=\"psysml:9a16e398-0ba6-448d-aba1-0f88a9a52804\" xlink:actuate=\"onRequest\" xlink:href=\"psysml:9a16e398-0ba6-448d-aba1-0f88a9a52804\" xlink:show=\"new\" xlink:title=\"psysml:9a16e398-0ba6-448d-aba1-0f88a9a52804\" xlink:type=\"simple\"><path d=\"M99.26,64 C118.27,64 141.49,64 157.77,64 \" fill=\"none\" id=\"E2&lt;-E3\" style=\"stroke: #383838; stroke-width: 1.0;\"/><polygon fill=\"#383838\" points=\"86.02,64,92.02,68,98.02,64,92.02,60,86.02,64\" style=\"stroke: #383838; stroke-width: 1.0;\"/></a><!--MD5=[62aa6af11e70f752912c1cb0466f24f7]\n",
       "reverse link E4 to E5--><a href=\"psysml:43d8af85-10f5-4c20-8018-948df50254a5\" target=\"_top\" title=\"psysml:43d8af85-10f5-4c20-8018-948df50254a5\" xlink:actuate=\"onRequest\" xlink:href=\"psysml:43d8af85-10f5-4c20-8018-948df50254a5\" xlink:show=\"new\" xlink:title=\"psysml:43d8af85-10f5-4c20-8018-948df50254a5\" xlink:type=\"simple\"><path d=\"M111.28,145 C127.47,145 144.9,145 157.89,145 \" fill=\"none\" id=\"E4&lt;-E5\" style=\"stroke: #383838; stroke-width: 1.0;\"/><polygon fill=\"#383838\" points=\"98.09,145,104.09,149,110.09,145,104.09,141,98.09,145\" style=\"stroke: #383838; stroke-width: 1.0;\"/></a><!--MD5=[80dd3be518b05f1fa3a37b90aec2d58f]\n",
       "@startuml\r\n",
       "left to right direction\r\n",
       "skinparam monochrome true\r\n",
       "skinparam classbackgroundcolor white\r\n",
       "skinparam shadowing false\r\n",
       "skinparam wrapWidth 300\r\n",
       "hide circle\r\n",
       "\r\n",
       "package \"Q\" as E1  [[psysml:1ca4998e-7283-4312-8b1a-8c25c589ba37 ]]  {\r\n",
       "comp usage \"f\" as E2  <<(T,blue)part>> [[psysml:9f0b35e2-e039-4fc1-a74b-e29bd15d28ff ]] {\r\n",
       "}\r\n",
       "comp usage \"a\" as E3  <<(T,blue)part>> [[psysml:9a16e398-0ba6-448d-aba1-0f88a9a52804 ]] {\r\n",
       "}\r\n",
       "comp def \"C\" as E4  <<(T,blue)part def>> [[psysml:17ca64f8-f38a-4aec-8c02-fbca076b4a28 ]] {\r\n",
       "}\r\n",
       "comp usage \"g\" as E5  <<(T,blue)part>> [[psysml:43d8af85-10f5-4c20-8018-948df50254a5 ]] {\r\n",
       "}\r\n",
       "E2 *- - E3 [[psysml:9a16e398-0ba6-448d-aba1-0f88a9a52804 ]] \r\n",
       "E4 *- - E5 [[psysml:43d8af85-10f5-4c20-8018-948df50254a5 ]] \r\n",
       "}\r\n",
       "@enduml\r\n",
       "\n",
       "PlantUML version 1.2020.13(Sat Jun 13 12:26:38 UTC 2020)\n",
       "(EPL source distribution)\n",
       "Java Runtime: OpenJDK Runtime Environment\n",
       "JVM: OpenJDK 64-Bit Server VM\n",
       "Default Encoding: UTF-8\n",
       "Language: en\n",
       "Country: null\n",
       "--></g></svg>"
      ]
     },
     "execution_count": 16,
     "metadata": {},
     "output_type": "execute_result"
    }
   ],
   "source": [
    "%viz --style=\"LR\" --view=\"Default\" \"Q\""
   ]
  },
  {
   "cell_type": "code",
   "execution_count": 17,
   "id": "weighted-concert",
   "metadata": {
    "execution": {
     "iopub.execute_input": "2021-03-25T15:00:56.302106Z",
     "iopub.status.busy": "2021-03-25T15:00:56.300721Z",
     "iopub.status.idle": "2021-03-25T15:00:56.415767Z",
     "shell.execute_reply": "2021-03-25T15:00:56.413427Z"
    }
   },
   "outputs": [
    {
     "data": {
      "image/svg+xml": [
       "<?xml version=\"1.0\" encoding=\"UTF-8\" standalone=\"no\"?><svg xmlns=\"http://www.w3.org/2000/svg\" xmlns:xlink=\"http://www.w3.org/1999/xlink\" contentScriptType=\"application/ecmascript\" contentStyleType=\"text/css\" height=\"196px\" preserveAspectRatio=\"none\" style=\"width:238px;height:196px;\" version=\"1.1\" viewBox=\"0 0 238 196\" width=\"238px\" zoomAndPan=\"magnify\"><defs/><g><!--MD5=[fbc87193dbaf4d95561dea2c320d4a47]\n",
       "cluster E1--><a href=\"psysml:1ca4998e-7283-4312-8b1a-8c25c589ba37\" target=\"_top\" title=\"psysml:1ca4998e-7283-4312-8b1a-8c25c589ba37\" xlink:actuate=\"onRequest\" xlink:href=\"psysml:1ca4998e-7283-4312-8b1a-8c25c589ba37\" xlink:show=\"new\" xlink:title=\"psysml:1ca4998e-7283-4312-8b1a-8c25c589ba37\" xlink:type=\"simple\"><polygon fill=\"#FFFFFF\" points=\"16,6,34,6,41,28.2969,216,28.2969,216,184,16,184,16,6\" style=\"stroke: #000000; stroke-width: 1.5;\"/><line style=\"stroke: #000000; stroke-width: 1.5;\" x1=\"16\" x2=\"41\" y1=\"28.2969\" y2=\"28.2969\"/><text fill=\"#000000\" font-family=\"sans-serif\" font-size=\"14\" font-weight=\"bold\" lengthAdjust=\"spacingAndGlyphs\" textLength=\"12\" x=\"20\" y=\"20.9951\">Q</text></a><!--MD5=[b4997ac47864f28c2f74865a473b2911]\n",
       "class E2--><a href=\"psysml:9f0b35e2-e039-4fc1-a74b-e29bd15d28ff\" target=\"_top\" title=\"psysml:9f0b35e2-e039-4fc1-a74b-e29bd15d28ff\" xlink:actuate=\"onRequest\" xlink:href=\"psysml:9f0b35e2-e039-4fc1-a74b-e29bd15d28ff\" xlink:show=\"new\" xlink:title=\"psysml:9f0b35e2-e039-4fc1-a74b-e29bd15d28ff\" xlink:type=\"simple\"><rect fill=\"#FFFFFF\" height=\"45.9375\" id=\"E2\" rx=\"10\" ry=\"10\" style=\"stroke: #383838; stroke-width: 1.5;\" width=\"42\" x=\"44\" y=\"41\"/><text fill=\"#000000\" font-family=\"sans-serif\" font-size=\"12\" font-style=\"italic\" lengthAdjust=\"spacingAndGlyphs\" textLength=\"40\" x=\"45\" y=\"57.1387\">«part»</text><text fill=\"#000000\" font-family=\"sans-serif\" font-size=\"12\" lengthAdjust=\"spacingAndGlyphs\" textLength=\"4\" x=\"63\" y=\"71.1074\">f</text><line style=\"stroke: #383838; stroke-width: 1.5;\" x1=\"45\" x2=\"85\" y1=\"78.9375\" y2=\"78.9375\"/></a><!--MD5=[09b614a08d8cba4a07c9adeb5e0fee81]\n",
       "class E3--><a href=\"psysml:9a16e398-0ba6-448d-aba1-0f88a9a52804\" target=\"_top\" title=\"psysml:9a16e398-0ba6-448d-aba1-0f88a9a52804\" xlink:actuate=\"onRequest\" xlink:href=\"psysml:9a16e398-0ba6-448d-aba1-0f88a9a52804\" xlink:show=\"new\" xlink:title=\"psysml:9a16e398-0ba6-448d-aba1-0f88a9a52804\" xlink:type=\"simple\"><rect fill=\"#FFFFFF\" height=\"45.9375\" id=\"E3\" rx=\"10\" ry=\"10\" style=\"stroke: #383838; stroke-width: 1.5;\" width=\"42\" x=\"158\" y=\"41\"/><text fill=\"#000000\" font-family=\"sans-serif\" font-size=\"12\" font-style=\"italic\" lengthAdjust=\"spacingAndGlyphs\" textLength=\"40\" x=\"159\" y=\"57.1387\">«part»</text><text fill=\"#000000\" font-family=\"sans-serif\" font-size=\"12\" lengthAdjust=\"spacingAndGlyphs\" textLength=\"8\" x=\"175\" y=\"71.1074\">a</text><line style=\"stroke: #383838; stroke-width: 1.5;\" x1=\"159\" x2=\"199\" y1=\"78.9375\" y2=\"78.9375\"/></a><!--MD5=[ebbe1d658d1005bcc118a6aa81145e00]\n",
       "class E4--><a href=\"psysml:17ca64f8-f38a-4aec-8c02-fbca076b4a28\" target=\"_top\" title=\"psysml:17ca64f8-f38a-4aec-8c02-fbca076b4a28\" xlink:actuate=\"onRequest\" xlink:href=\"psysml:17ca64f8-f38a-4aec-8c02-fbca076b4a28\" xlink:show=\"new\" xlink:title=\"psysml:17ca64f8-f38a-4aec-8c02-fbca076b4a28\" xlink:type=\"simple\"><rect fill=\"#FFFFFF\" height=\"45.9375\" id=\"E4\" style=\"stroke: #383838; stroke-width: 1.5;\" width=\"66\" x=\"32\" y=\"122\"/><text fill=\"#000000\" font-family=\"sans-serif\" font-size=\"12\" font-style=\"italic\" lengthAdjust=\"spacingAndGlyphs\" textLength=\"64\" x=\"33\" y=\"138.1387\">«part def»</text><text fill=\"#000000\" font-family=\"sans-serif\" font-size=\"12\" lengthAdjust=\"spacingAndGlyphs\" textLength=\"8\" x=\"61\" y=\"152.1074\">C</text><line style=\"stroke: #383838; stroke-width: 1.5;\" x1=\"33\" x2=\"97\" y1=\"159.9375\" y2=\"159.9375\"/></a><!--MD5=[270fce915f116d4de14055a7c1d9a0f3]\n",
       "class E5--><a href=\"psysml:43d8af85-10f5-4c20-8018-948df50254a5\" target=\"_top\" title=\"psysml:43d8af85-10f5-4c20-8018-948df50254a5\" xlink:actuate=\"onRequest\" xlink:href=\"psysml:43d8af85-10f5-4c20-8018-948df50254a5\" xlink:show=\"new\" xlink:title=\"psysml:43d8af85-10f5-4c20-8018-948df50254a5\" xlink:type=\"simple\"><rect fill=\"#FFFFFF\" height=\"45.9375\" id=\"E5\" rx=\"10\" ry=\"10\" style=\"stroke: #383838; stroke-width: 1.5;\" width=\"42\" x=\"158\" y=\"122\"/><text fill=\"#000000\" font-family=\"sans-serif\" font-size=\"12\" font-style=\"italic\" lengthAdjust=\"spacingAndGlyphs\" textLength=\"40\" x=\"159\" y=\"138.1387\">«part»</text><text fill=\"#000000\" font-family=\"sans-serif\" font-size=\"12\" lengthAdjust=\"spacingAndGlyphs\" textLength=\"8\" x=\"175\" y=\"152.1074\">g</text><line style=\"stroke: #383838; stroke-width: 1.5;\" x1=\"159\" x2=\"199\" y1=\"159.9375\" y2=\"159.9375\"/></a><!--MD5=[209b3feb70ccb6233bfe1053d122c12c]\n",
       "reverse link E2 to E3--><a href=\"psysml:9a16e398-0ba6-448d-aba1-0f88a9a52804\" target=\"_top\" title=\"psysml:9a16e398-0ba6-448d-aba1-0f88a9a52804\" xlink:actuate=\"onRequest\" xlink:href=\"psysml:9a16e398-0ba6-448d-aba1-0f88a9a52804\" xlink:show=\"new\" xlink:title=\"psysml:9a16e398-0ba6-448d-aba1-0f88a9a52804\" xlink:type=\"simple\"><path d=\"M99.26,64 C118.27,64 141.49,64 157.77,64 \" fill=\"none\" id=\"E2&lt;-E3\" style=\"stroke: #383838; stroke-width: 1.0;\"/><polygon fill=\"#383838\" points=\"86.02,64,92.02,68,98.02,64,92.02,60,86.02,64\" style=\"stroke: #383838; stroke-width: 1.0;\"/></a><!--MD5=[62aa6af11e70f752912c1cb0466f24f7]\n",
       "reverse link E4 to E5--><a href=\"psysml:43d8af85-10f5-4c20-8018-948df50254a5\" target=\"_top\" title=\"psysml:43d8af85-10f5-4c20-8018-948df50254a5\" xlink:actuate=\"onRequest\" xlink:href=\"psysml:43d8af85-10f5-4c20-8018-948df50254a5\" xlink:show=\"new\" xlink:title=\"psysml:43d8af85-10f5-4c20-8018-948df50254a5\" xlink:type=\"simple\"><path d=\"M111.28,145 C127.47,145 144.9,145 157.89,145 \" fill=\"none\" id=\"E4&lt;-E5\" style=\"stroke: #383838; stroke-width: 1.0;\"/><polygon fill=\"#383838\" points=\"98.09,145,104.09,149,110.09,145,104.09,141,98.09,145\" style=\"stroke: #383838; stroke-width: 1.0;\"/></a><!--MD5=[80dd3be518b05f1fa3a37b90aec2d58f]\n",
       "@startuml\r\n",
       "left to right direction\r\n",
       "skinparam monochrome true\r\n",
       "skinparam classbackgroundcolor white\r\n",
       "skinparam shadowing false\r\n",
       "skinparam wrapWidth 300\r\n",
       "hide circle\r\n",
       "\r\n",
       "package \"Q\" as E1  [[psysml:1ca4998e-7283-4312-8b1a-8c25c589ba37 ]]  {\r\n",
       "comp usage \"f\" as E2  <<(T,blue)part>> [[psysml:9f0b35e2-e039-4fc1-a74b-e29bd15d28ff ]] {\r\n",
       "}\r\n",
       "comp usage \"a\" as E3  <<(T,blue)part>> [[psysml:9a16e398-0ba6-448d-aba1-0f88a9a52804 ]] {\r\n",
       "}\r\n",
       "comp def \"C\" as E4  <<(T,blue)part def>> [[psysml:17ca64f8-f38a-4aec-8c02-fbca076b4a28 ]] {\r\n",
       "}\r\n",
       "comp usage \"g\" as E5  <<(T,blue)part>> [[psysml:43d8af85-10f5-4c20-8018-948df50254a5 ]] {\r\n",
       "}\r\n",
       "E2 *- - E3 [[psysml:9a16e398-0ba6-448d-aba1-0f88a9a52804 ]] \r\n",
       "E4 *- - E5 [[psysml:43d8af85-10f5-4c20-8018-948df50254a5 ]] \r\n",
       "}\r\n",
       "@enduml\r\n",
       "\n",
       "PlantUML version 1.2020.13(Sat Jun 13 12:26:38 UTC 2020)\n",
       "(EPL source distribution)\n",
       "Java Runtime: OpenJDK Runtime Environment\n",
       "JVM: OpenJDK 64-Bit Server VM\n",
       "Default Encoding: UTF-8\n",
       "Language: en\n",
       "Country: null\n",
       "--></g></svg>"
      ]
     },
     "execution_count": 17,
     "metadata": {},
     "output_type": "execute_result"
    }
   ],
   "source": [
    "%viz --style=\"LR\" --view=\"Tree\" \"Q\""
   ]
  },
  {
   "cell_type": "code",
   "execution_count": 18,
   "id": "british-coach",
   "metadata": {
    "execution": {
     "iopub.execute_input": "2021-03-25T15:00:56.466264Z",
     "iopub.status.busy": "2021-03-25T15:00:56.464605Z",
     "iopub.status.idle": "2021-03-25T15:00:56.474986Z",
     "shell.execute_reply": "2021-03-25T15:00:56.474465Z"
    }
   },
   "outputs": [
    {
     "data": {
      "image/svg+xml": [
       "<?xml version=\"1.0\" encoding=\"UTF-8\" standalone=\"no\"?><svg xmlns=\"http://www.w3.org/2000/svg\" xmlns:xlink=\"http://www.w3.org/1999/xlink\" contentScriptType=\"application/ecmascript\" contentStyleType=\"text/css\" height=\"12px\" preserveAspectRatio=\"none\" style=\"width:12px;height:12px;\" version=\"1.1\" viewBox=\"0 0 12 12\" width=\"12px\" zoomAndPan=\"magnify\"><defs/><g><!--MD5=[19d285c9d72a204eba4e2cd117d745e8]\n",
       "@startuml\r\n",
       "left to right direction\r\n",
       "skinparam monochrome true\r\n",
       "skinparam classbackgroundcolor white\r\n",
       "skinparam shadowing false\r\n",
       "skinparam wrapWidth 300\r\n",
       "hide circle\r\n",
       "\r\n",
       "@enduml\r\n",
       "\n",
       "PlantUML version 1.2020.13(Sat Jun 13 12:26:38 UTC 2020)\n",
       "(EPL source distribution)\n",
       "Java Runtime: OpenJDK Runtime Environment\n",
       "JVM: OpenJDK 64-Bit Server VM\n",
       "Default Encoding: UTF-8\n",
       "Language: en\n",
       "Country: null\n",
       "--></g></svg>"
      ]
     },
     "execution_count": 18,
     "metadata": {},
     "output_type": "execute_result"
    }
   ],
   "source": [
    "%viz --style=\"LR\" --view=\"State\" \"Q\""
   ]
  },
  {
   "cell_type": "code",
   "execution_count": 19,
   "id": "disabled-optimization",
   "metadata": {
    "execution": {
     "iopub.execute_input": "2021-03-25T15:00:56.525933Z",
     "iopub.status.busy": "2021-03-25T15:00:56.525452Z",
     "iopub.status.idle": "2021-03-25T15:00:56.618470Z",
     "shell.execute_reply": "2021-03-25T15:00:56.615797Z"
    }
   },
   "outputs": [
    {
     "data": {
      "image/svg+xml": [
       "<?xml version=\"1.0\" encoding=\"UTF-8\" standalone=\"no\"?><svg xmlns=\"http://www.w3.org/2000/svg\" xmlns:xlink=\"http://www.w3.org/1999/xlink\" contentScriptType=\"application/ecmascript\" contentStyleType=\"text/css\" height=\"307px\" preserveAspectRatio=\"none\" style=\"width:173px;height:307px;\" version=\"1.1\" viewBox=\"0 0 173 307\" width=\"173px\" zoomAndPan=\"magnify\"><defs/><g><!--MD5=[fbc87193dbaf4d95561dea2c320d4a47]\n",
       "cluster E1--><a href=\"psysml:1ca4998e-7283-4312-8b1a-8c25c589ba37\" target=\"_top\" title=\"psysml:1ca4998e-7283-4312-8b1a-8c25c589ba37\" xlink:actuate=\"onRequest\" xlink:href=\"psysml:1ca4998e-7283-4312-8b1a-8c25c589ba37\" xlink:show=\"new\" xlink:title=\"psysml:1ca4998e-7283-4312-8b1a-8c25c589ba37\" xlink:type=\"simple\"><polygon fill=\"#FFFFFF\" points=\"16,6,34,6,41,28.2969,151,28.2969,151,295,16,295,16,6\" style=\"stroke: #000000; stroke-width: 1.5;\"/><line style=\"stroke: #000000; stroke-width: 1.5;\" x1=\"16\" x2=\"41\" y1=\"28.2969\" y2=\"28.2969\"/><text fill=\"#000000\" font-family=\"sans-serif\" font-size=\"14\" font-weight=\"bold\" lengthAdjust=\"spacingAndGlyphs\" textLength=\"12\" x=\"20\" y=\"20.9951\">Q</text></a><!--MD5=[e4f7fae6ed58524ba242bb0b0d3be6b7]\n",
       "cluster E2--><a href=\"psysml:9f0b35e2-e039-4fc1-a74b-e29bd15d28ff\" target=\"_top\" title=\"psysml:9f0b35e2-e039-4fc1-a74b-e29bd15d28ff\" xlink:actuate=\"onRequest\" xlink:href=\"psysml:9f0b35e2-e039-4fc1-a74b-e29bd15d28ff\" xlink:show=\"new\" xlink:title=\"psysml:9f0b35e2-e039-4fc1-a74b-e29bd15d28ff\" xlink:type=\"simple\"><rect fill=\"#FFFFFF\" height=\"91\" id=\"E2\" rx=\"10\" ry=\"10\" style=\"stroke: #383838; stroke-width: 1.5;\" width=\"82\" x=\"42\" y=\"49\"/><rect fill=\"#F8F8F8\" height=\"23.9688\" rx=\"10\" ry=\"10\" style=\"stroke: #F8F8F8; stroke-width: 1.5;\" width=\"82\" x=\"42\" y=\"49\"/><rect fill=\"#F8F8F8\" height=\"10\" style=\"stroke: #F8F8F8; stroke-width: 1.5;\" width=\"82\" x=\"42\" y=\"62.9688\"/><rect fill=\"none\" height=\"91\" id=\"E2\" rx=\"10\" ry=\"10\" style=\"stroke: #383838; stroke-width: 1.5;\" width=\"82\" x=\"42\" y=\"49\"/><text fill=\"#000000\" font-family=\"sans-serif\" font-size=\"12\" lengthAdjust=\"spacingAndGlyphs\" textLength=\"4\" x=\"81\" y=\"65.1387\">f</text><line style=\"stroke: #383838; stroke-width: 1.0;\" x1=\"42\" x2=\"124\" y1=\"72.9688\" y2=\"72.9688\"/></a><!--MD5=[f6df4d0ebaf0b5dfb2ced0ae5af7c670]\n",
       "cluster E4--><a href=\"psysml:17ca64f8-f38a-4aec-8c02-fbca076b4a28\" target=\"_top\" title=\"psysml:17ca64f8-f38a-4aec-8c02-fbca076b4a28\" xlink:actuate=\"onRequest\" xlink:href=\"psysml:17ca64f8-f38a-4aec-8c02-fbca076b4a28\" xlink:show=\"new\" xlink:title=\"psysml:17ca64f8-f38a-4aec-8c02-fbca076b4a28\" xlink:type=\"simple\"><rect fill=\"#FFFFFF\" height=\"107\" id=\"E4\" style=\"stroke: #383838; stroke-width: 1.5;\" width=\"87\" x=\"40\" y=\"164\"/><rect fill=\"#F8F8F8\" height=\"37.9375\" style=\"stroke: #383838; stroke-width: 1.5;\" width=\"87\" x=\"40\" y=\"164\"/><text fill=\"#000000\" font-family=\"sans-serif\" font-size=\"12\" font-style=\"italic\" lengthAdjust=\"spacingAndGlyphs\" textLength=\"64\" x=\"51.5\" y=\"180.1387\">«part def»</text><text fill=\"#000000\" font-family=\"sans-serif\" font-size=\"12\" lengthAdjust=\"spacingAndGlyphs\" textLength=\"8\" x=\"79.5\" y=\"194.1074\">C</text></a><g id=\"E1.E2.E3\"><a href=\"psysml:9a16e398-0ba6-448d-aba1-0f88a9a52804\" target=\"_top\" title=\"psysml:9a16e398-0ba6-448d-aba1-0f88a9a52804\" xlink:actuate=\"onRequest\" xlink:href=\"psysml:9a16e398-0ba6-448d-aba1-0f88a9a52804\" xlink:show=\"new\" xlink:title=\"psysml:9a16e398-0ba6-448d-aba1-0f88a9a52804\" xlink:type=\"simple\"><rect fill=\"#FFFFFF\" height=\"40\" id=\"E3\" rx=\"10\" ry=\"10\" style=\"stroke: #383838; stroke-width: 1.5;\" width=\"50\" x=\"58\" y=\"84\"/><rect fill=\"#F8F8F8\" height=\"23.9688\" rx=\"10\" ry=\"10\" style=\"stroke: #F8F8F8; stroke-width: 1.5;\" width=\"50\" x=\"58\" y=\"84\"/><rect fill=\"#F8F8F8\" height=\"10\" style=\"stroke: #F8F8F8; stroke-width: 1.5;\" width=\"50\" x=\"58\" y=\"97.9688\"/><rect fill=\"none\" height=\"40\" id=\"E3\" rx=\"10\" ry=\"10\" style=\"stroke: #383838; stroke-width: 1.5;\" width=\"50\" x=\"58\" y=\"84\"/><text fill=\"#000000\" font-family=\"sans-serif\" font-size=\"12\" lengthAdjust=\"spacingAndGlyphs\" textLength=\"8\" x=\"79\" y=\"100.1387\">a</text></a></g><g id=\"E1.E4.E5\"><a href=\"psysml:43d8af85-10f5-4c20-8018-948df50254a5\" target=\"_top\" title=\"psysml:43d8af85-10f5-4c20-8018-948df50254a5\" xlink:actuate=\"onRequest\" xlink:href=\"psysml:43d8af85-10f5-4c20-8018-948df50254a5\" xlink:show=\"new\" xlink:title=\"psysml:43d8af85-10f5-4c20-8018-948df50254a5\" xlink:type=\"simple\"><rect fill=\"#FFFFFF\" height=\"40\" id=\"E5\" rx=\"10\" ry=\"10\" style=\"stroke: #383838; stroke-width: 1.5;\" width=\"50\" x=\"58\" y=\"215\"/><rect fill=\"#F8F8F8\" height=\"23.9688\" rx=\"10\" ry=\"10\" style=\"stroke: #F8F8F8; stroke-width: 1.5;\" width=\"50\" x=\"58\" y=\"215\"/><rect fill=\"#F8F8F8\" height=\"10\" style=\"stroke: #F8F8F8; stroke-width: 1.5;\" width=\"50\" x=\"58\" y=\"228.9688\"/><rect fill=\"none\" height=\"40\" id=\"E5\" rx=\"10\" ry=\"10\" style=\"stroke: #383838; stroke-width: 1.5;\" width=\"50\" x=\"58\" y=\"215\"/><text fill=\"#000000\" font-family=\"sans-serif\" font-size=\"12\" lengthAdjust=\"spacingAndGlyphs\" textLength=\"8\" x=\"79\" y=\"231.1387\">g</text></a></g><!--MD5=[a3498719edc6fde92e0eb236d31b222c]\n",
       "@startuml\r\n",
       "skinparam ranksep 8\r\n",
       "skinparam rectangle {\r\n",
       " backgroundColor<<block>> LightGreen\r\n",
       "}\r\n",
       "left to right direction\r\n",
       "skinparam monochrome true\r\n",
       "skinparam classbackgroundcolor white\r\n",
       "skinparam shadowing false\r\n",
       "skinparam wrapWidth 300\r\n",
       "hide circle\r\n",
       "\r\n",
       "package \"Q\" as E1  [[psysml:1ca4998e-7283-4312-8b1a-8c25c589ba37 ]]  {\r\n",
       "rec usage \"f\" as E2  [[psysml:9f0b35e2-e039-4fc1-a74b-e29bd15d28ff ]] {\r\n",
       "rec usage \"a\" as E3  [[psysml:9a16e398-0ba6-448d-aba1-0f88a9a52804 ]] {\r\n",
       "}\r\n",
       "}\r\n",
       "rec def \"C\" as E4  <<(T,blue)part def>> [[psysml:17ca64f8-f38a-4aec-8c02-fbca076b4a28 ]] {\r\n",
       "rec usage \"g\" as E5  [[psysml:43d8af85-10f5-4c20-8018-948df50254a5 ]] {\r\n",
       "}\r\n",
       "}\r\n",
       "}\r\n",
       "@enduml\r\n",
       "\n",
       "PlantUML version 1.2020.13(Sat Jun 13 12:26:38 UTC 2020)\n",
       "(EPL source distribution)\n",
       "Java Runtime: OpenJDK Runtime Environment\n",
       "JVM: OpenJDK 64-Bit Server VM\n",
       "Default Encoding: UTF-8\n",
       "Language: en\n",
       "Country: null\n",
       "--></g></svg>"
      ]
     },
     "execution_count": 19,
     "metadata": {},
     "output_type": "execute_result"
    }
   ],
   "source": [
    "%viz --style=\"LR\" --view=\"Interconnection\" \"Q\""
   ]
  },
  {
   "cell_type": "code",
   "execution_count": 20,
   "id": "underlying-portfolio",
   "metadata": {
    "execution": {
     "iopub.execute_input": "2021-03-25T15:00:56.668617Z",
     "iopub.status.busy": "2021-03-25T15:00:56.667361Z",
     "iopub.status.idle": "2021-03-25T15:00:56.680706Z",
     "shell.execute_reply": "2021-03-25T15:00:56.680204Z"
    }
   },
   "outputs": [
    {
     "data": {
      "image/svg+xml": [
       "<?xml version=\"1.0\" encoding=\"UTF-8\" standalone=\"no\"?><svg xmlns=\"http://www.w3.org/2000/svg\" xmlns:xlink=\"http://www.w3.org/1999/xlink\" contentScriptType=\"application/ecmascript\" contentStyleType=\"text/css\" height=\"12px\" preserveAspectRatio=\"none\" style=\"width:12px;height:12px;\" version=\"1.1\" viewBox=\"0 0 12 12\" width=\"12px\" zoomAndPan=\"magnify\"><defs/><g><!--MD5=[7aeb398939421629f6affaa4a1a7b125]\n",
       "@startuml\r\n",
       "skinparam ranksep 8\r\n",
       "left to right direction\r\n",
       "skinparam monochrome true\r\n",
       "skinparam classbackgroundcolor white\r\n",
       "skinparam shadowing false\r\n",
       "skinparam wrapWidth 300\r\n",
       "hide circle\r\n",
       "\r\n",
       "@enduml\r\n",
       "\n",
       "PlantUML version 1.2020.13(Sat Jun 13 12:26:38 UTC 2020)\n",
       "(EPL source distribution)\n",
       "Java Runtime: OpenJDK Runtime Environment\n",
       "JVM: OpenJDK 64-Bit Server VM\n",
       "Default Encoding: UTF-8\n",
       "Language: en\n",
       "Country: null\n",
       "--></g></svg>"
      ]
     },
     "execution_count": 20,
     "metadata": {},
     "output_type": "execute_result"
    }
   ],
   "source": [
    "%viz --style=\"LR\" --view=\"Action\" \"Q\""
   ]
  },
  {
   "cell_type": "code",
   "execution_count": 21,
   "id": "balanced-caution",
   "metadata": {
    "execution": {
     "iopub.execute_input": "2021-03-25T15:00:56.731646Z",
     "iopub.status.busy": "2021-03-25T15:00:56.730958Z",
     "iopub.status.idle": "2021-03-25T15:00:56.812802Z",
     "shell.execute_reply": "2021-03-25T15:00:56.810919Z"
    }
   },
   "outputs": [
    {
     "data": {
      "image/svg+xml": [
       "<?xml version=\"1.0\" encoding=\"UTF-8\" standalone=\"no\"?><svg xmlns=\"http://www.w3.org/2000/svg\" xmlns:xlink=\"http://www.w3.org/1999/xlink\" contentScriptType=\"application/ecmascript\" contentStyleType=\"text/css\" height=\"196px\" preserveAspectRatio=\"none\" style=\"width:238px;height:196px;\" version=\"1.1\" viewBox=\"0 0 238 196\" width=\"238px\" zoomAndPan=\"magnify\"><defs/><g><!--MD5=[fbc87193dbaf4d95561dea2c320d4a47]\n",
       "cluster E1--><a href=\"psysml:1ca4998e-7283-4312-8b1a-8c25c589ba37\" target=\"_top\" title=\"psysml:1ca4998e-7283-4312-8b1a-8c25c589ba37\" xlink:actuate=\"onRequest\" xlink:href=\"psysml:1ca4998e-7283-4312-8b1a-8c25c589ba37\" xlink:show=\"new\" xlink:title=\"psysml:1ca4998e-7283-4312-8b1a-8c25c589ba37\" xlink:type=\"simple\"><polygon fill=\"#FFFFFF\" points=\"16,6,34,6,41,28.2969,216,28.2969,216,184,16,184,16,6\" style=\"stroke: #000000; stroke-width: 1.5;\"/><line style=\"stroke: #000000; stroke-width: 1.5;\" x1=\"16\" x2=\"41\" y1=\"28.2969\" y2=\"28.2969\"/><text fill=\"#000000\" font-family=\"sans-serif\" font-size=\"14\" font-weight=\"bold\" lengthAdjust=\"spacingAndGlyphs\" textLength=\"12\" x=\"20\" y=\"20.9951\">Q</text></a><!--MD5=[b4997ac47864f28c2f74865a473b2911]\n",
       "class E2--><a href=\"psysml:9f0b35e2-e039-4fc1-a74b-e29bd15d28ff\" target=\"_top\" title=\"psysml:9f0b35e2-e039-4fc1-a74b-e29bd15d28ff\" xlink:actuate=\"onRequest\" xlink:href=\"psysml:9f0b35e2-e039-4fc1-a74b-e29bd15d28ff\" xlink:show=\"new\" xlink:title=\"psysml:9f0b35e2-e039-4fc1-a74b-e29bd15d28ff\" xlink:type=\"simple\"><rect fill=\"#FFFFFF\" height=\"45.9375\" id=\"E2\" rx=\"10\" ry=\"10\" style=\"stroke: #383838; stroke-width: 1.5;\" width=\"42\" x=\"44\" y=\"41\"/><text fill=\"#000000\" font-family=\"sans-serif\" font-size=\"12\" font-style=\"italic\" lengthAdjust=\"spacingAndGlyphs\" textLength=\"40\" x=\"45\" y=\"57.1387\">«part»</text><text fill=\"#000000\" font-family=\"sans-serif\" font-size=\"12\" lengthAdjust=\"spacingAndGlyphs\" textLength=\"4\" x=\"63\" y=\"71.1074\">f</text><line style=\"stroke: #383838; stroke-width: 1.5;\" x1=\"45\" x2=\"85\" y1=\"78.9375\" y2=\"78.9375\"/></a><!--MD5=[09b614a08d8cba4a07c9adeb5e0fee81]\n",
       "class E3--><a href=\"psysml:9a16e398-0ba6-448d-aba1-0f88a9a52804\" target=\"_top\" title=\"psysml:9a16e398-0ba6-448d-aba1-0f88a9a52804\" xlink:actuate=\"onRequest\" xlink:href=\"psysml:9a16e398-0ba6-448d-aba1-0f88a9a52804\" xlink:show=\"new\" xlink:title=\"psysml:9a16e398-0ba6-448d-aba1-0f88a9a52804\" xlink:type=\"simple\"><rect fill=\"#FFFFFF\" height=\"45.9375\" id=\"E3\" rx=\"10\" ry=\"10\" style=\"stroke: #383838; stroke-width: 1.5;\" width=\"42\" x=\"158\" y=\"41\"/><text fill=\"#000000\" font-family=\"sans-serif\" font-size=\"12\" font-style=\"italic\" lengthAdjust=\"spacingAndGlyphs\" textLength=\"40\" x=\"159\" y=\"57.1387\">«part»</text><text fill=\"#000000\" font-family=\"sans-serif\" font-size=\"12\" lengthAdjust=\"spacingAndGlyphs\" textLength=\"8\" x=\"175\" y=\"71.1074\">a</text><line style=\"stroke: #383838; stroke-width: 1.5;\" x1=\"159\" x2=\"199\" y1=\"78.9375\" y2=\"78.9375\"/></a><!--MD5=[ebbe1d658d1005bcc118a6aa81145e00]\n",
       "class E4--><a href=\"psysml:17ca64f8-f38a-4aec-8c02-fbca076b4a28\" target=\"_top\" title=\"psysml:17ca64f8-f38a-4aec-8c02-fbca076b4a28\" xlink:actuate=\"onRequest\" xlink:href=\"psysml:17ca64f8-f38a-4aec-8c02-fbca076b4a28\" xlink:show=\"new\" xlink:title=\"psysml:17ca64f8-f38a-4aec-8c02-fbca076b4a28\" xlink:type=\"simple\"><rect fill=\"#FFFFFF\" height=\"45.9375\" id=\"E4\" style=\"stroke: #383838; stroke-width: 1.5;\" width=\"66\" x=\"32\" y=\"122\"/><text fill=\"#000000\" font-family=\"sans-serif\" font-size=\"12\" font-style=\"italic\" lengthAdjust=\"spacingAndGlyphs\" textLength=\"64\" x=\"33\" y=\"138.1387\">«part def»</text><text fill=\"#000000\" font-family=\"sans-serif\" font-size=\"12\" lengthAdjust=\"spacingAndGlyphs\" textLength=\"8\" x=\"61\" y=\"152.1074\">C</text><line style=\"stroke: #383838; stroke-width: 1.5;\" x1=\"33\" x2=\"97\" y1=\"159.9375\" y2=\"159.9375\"/></a><!--MD5=[270fce915f116d4de14055a7c1d9a0f3]\n",
       "class E5--><a href=\"psysml:43d8af85-10f5-4c20-8018-948df50254a5\" target=\"_top\" title=\"psysml:43d8af85-10f5-4c20-8018-948df50254a5\" xlink:actuate=\"onRequest\" xlink:href=\"psysml:43d8af85-10f5-4c20-8018-948df50254a5\" xlink:show=\"new\" xlink:title=\"psysml:43d8af85-10f5-4c20-8018-948df50254a5\" xlink:type=\"simple\"><rect fill=\"#FFFFFF\" height=\"45.9375\" id=\"E5\" rx=\"10\" ry=\"10\" style=\"stroke: #383838; stroke-width: 1.5;\" width=\"42\" x=\"158\" y=\"122\"/><text fill=\"#000000\" font-family=\"sans-serif\" font-size=\"12\" font-style=\"italic\" lengthAdjust=\"spacingAndGlyphs\" textLength=\"40\" x=\"159\" y=\"138.1387\">«part»</text><text fill=\"#000000\" font-family=\"sans-serif\" font-size=\"12\" lengthAdjust=\"spacingAndGlyphs\" textLength=\"8\" x=\"175\" y=\"152.1074\">g</text><line style=\"stroke: #383838; stroke-width: 1.5;\" x1=\"159\" x2=\"199\" y1=\"159.9375\" y2=\"159.9375\"/></a><!--MD5=[209b3feb70ccb6233bfe1053d122c12c]\n",
       "reverse link E2 to E3--><a href=\"psysml:9a16e398-0ba6-448d-aba1-0f88a9a52804\" target=\"_top\" title=\"psysml:9a16e398-0ba6-448d-aba1-0f88a9a52804\" xlink:actuate=\"onRequest\" xlink:href=\"psysml:9a16e398-0ba6-448d-aba1-0f88a9a52804\" xlink:show=\"new\" xlink:title=\"psysml:9a16e398-0ba6-448d-aba1-0f88a9a52804\" xlink:type=\"simple\"><path d=\"M99.26,64 C118.27,64 141.49,64 157.77,64 \" fill=\"none\" id=\"E2&lt;-E3\" style=\"stroke: #383838; stroke-width: 1.0;\"/><polygon fill=\"#383838\" points=\"86.02,64,92.02,68,98.02,64,92.02,60,86.02,64\" style=\"stroke: #383838; stroke-width: 1.0;\"/></a><!--MD5=[62aa6af11e70f752912c1cb0466f24f7]\n",
       "reverse link E4 to E5--><a href=\"psysml:43d8af85-10f5-4c20-8018-948df50254a5\" target=\"_top\" title=\"psysml:43d8af85-10f5-4c20-8018-948df50254a5\" xlink:actuate=\"onRequest\" xlink:href=\"psysml:43d8af85-10f5-4c20-8018-948df50254a5\" xlink:show=\"new\" xlink:title=\"psysml:43d8af85-10f5-4c20-8018-948df50254a5\" xlink:type=\"simple\"><path d=\"M111.28,145 C127.47,145 144.9,145 157.89,145 \" fill=\"none\" id=\"E4&lt;-E5\" style=\"stroke: #383838; stroke-width: 1.0;\"/><polygon fill=\"#383838\" points=\"98.09,145,104.09,149,110.09,145,104.09,141,98.09,145\" style=\"stroke: #383838; stroke-width: 1.0;\"/></a><!--MD5=[80dd3be518b05f1fa3a37b90aec2d58f]\n",
       "@startuml\r\n",
       "left to right direction\r\n",
       "skinparam monochrome true\r\n",
       "skinparam classbackgroundcolor white\r\n",
       "skinparam shadowing false\r\n",
       "skinparam wrapWidth 300\r\n",
       "hide circle\r\n",
       "\r\n",
       "package \"Q\" as E1  [[psysml:1ca4998e-7283-4312-8b1a-8c25c589ba37 ]]  {\r\n",
       "comp usage \"f\" as E2  <<(T,blue)part>> [[psysml:9f0b35e2-e039-4fc1-a74b-e29bd15d28ff ]] {\r\n",
       "}\r\n",
       "comp usage \"a\" as E3  <<(T,blue)part>> [[psysml:9a16e398-0ba6-448d-aba1-0f88a9a52804 ]] {\r\n",
       "}\r\n",
       "comp def \"C\" as E4  <<(T,blue)part def>> [[psysml:17ca64f8-f38a-4aec-8c02-fbca076b4a28 ]] {\r\n",
       "}\r\n",
       "comp usage \"g\" as E5  <<(T,blue)part>> [[psysml:43d8af85-10f5-4c20-8018-948df50254a5 ]] {\r\n",
       "}\r\n",
       "E2 *- - E3 [[psysml:9a16e398-0ba6-448d-aba1-0f88a9a52804 ]] \r\n",
       "E4 *- - E5 [[psysml:43d8af85-10f5-4c20-8018-948df50254a5 ]] \r\n",
       "}\r\n",
       "@enduml\r\n",
       "\n",
       "PlantUML version 1.2020.13(Sat Jun 13 12:26:38 UTC 2020)\n",
       "(EPL source distribution)\n",
       "Java Runtime: OpenJDK Runtime Environment\n",
       "JVM: OpenJDK 64-Bit Server VM\n",
       "Default Encoding: UTF-8\n",
       "Language: en\n",
       "Country: null\n",
       "--></g></svg>"
      ]
     },
     "execution_count": 21,
     "metadata": {},
     "output_type": "execute_result"
    }
   ],
   "source": [
    "%viz --style=\"LR\" --view=\"Sequence\" \"Q\""
   ]
  },
  {
   "cell_type": "code",
   "execution_count": 22,
   "id": "contrary-france",
   "metadata": {
    "execution": {
     "iopub.execute_input": "2021-03-25T15:00:56.862647Z",
     "iopub.status.busy": "2021-03-25T15:00:56.861747Z",
     "iopub.status.idle": "2021-03-25T15:00:56.942635Z",
     "shell.execute_reply": "2021-03-25T15:00:56.940386Z"
    }
   },
   "outputs": [
    {
     "data": {
      "image/svg+xml": [
       "<?xml version=\"1.0\" encoding=\"UTF-8\" standalone=\"no\"?><svg xmlns=\"http://www.w3.org/2000/svg\" xmlns:xlink=\"http://www.w3.org/1999/xlink\" contentScriptType=\"application/ecmascript\" contentStyleType=\"text/css\" height=\"196px\" preserveAspectRatio=\"none\" style=\"width:238px;height:196px;\" version=\"1.1\" viewBox=\"0 0 238 196\" width=\"238px\" zoomAndPan=\"magnify\"><defs/><g><!--MD5=[fbc87193dbaf4d95561dea2c320d4a47]\n",
       "cluster E1--><a href=\"psysml:1ca4998e-7283-4312-8b1a-8c25c589ba37\" target=\"_top\" title=\"psysml:1ca4998e-7283-4312-8b1a-8c25c589ba37\" xlink:actuate=\"onRequest\" xlink:href=\"psysml:1ca4998e-7283-4312-8b1a-8c25c589ba37\" xlink:show=\"new\" xlink:title=\"psysml:1ca4998e-7283-4312-8b1a-8c25c589ba37\" xlink:type=\"simple\"><polygon fill=\"#FFFFFF\" points=\"16,6,34,6,41,28.2969,216,28.2969,216,184,16,184,16,6\" style=\"stroke: #000000; stroke-width: 1.5;\"/><line style=\"stroke: #000000; stroke-width: 1.5;\" x1=\"16\" x2=\"41\" y1=\"28.2969\" y2=\"28.2969\"/><text fill=\"#000000\" font-family=\"sans-serif\" font-size=\"14\" font-weight=\"bold\" lengthAdjust=\"spacingAndGlyphs\" textLength=\"12\" x=\"20\" y=\"20.9951\">Q</text></a><!--MD5=[b4997ac47864f28c2f74865a473b2911]\n",
       "class E2--><a href=\"psysml:9f0b35e2-e039-4fc1-a74b-e29bd15d28ff\" target=\"_top\" title=\"psysml:9f0b35e2-e039-4fc1-a74b-e29bd15d28ff\" xlink:actuate=\"onRequest\" xlink:href=\"psysml:9f0b35e2-e039-4fc1-a74b-e29bd15d28ff\" xlink:show=\"new\" xlink:title=\"psysml:9f0b35e2-e039-4fc1-a74b-e29bd15d28ff\" xlink:type=\"simple\"><rect fill=\"#FFFFFF\" height=\"45.9375\" id=\"E2\" rx=\"10\" ry=\"10\" style=\"stroke: #383838; stroke-width: 1.5;\" width=\"42\" x=\"44\" y=\"41\"/><text fill=\"#000000\" font-family=\"sans-serif\" font-size=\"12\" font-style=\"italic\" lengthAdjust=\"spacingAndGlyphs\" textLength=\"40\" x=\"45\" y=\"57.1387\">«part»</text><text fill=\"#000000\" font-family=\"sans-serif\" font-size=\"12\" lengthAdjust=\"spacingAndGlyphs\" textLength=\"4\" x=\"63\" y=\"71.1074\">f</text><line style=\"stroke: #383838; stroke-width: 1.5;\" x1=\"45\" x2=\"85\" y1=\"78.9375\" y2=\"78.9375\"/></a><!--MD5=[09b614a08d8cba4a07c9adeb5e0fee81]\n",
       "class E3--><a href=\"psysml:9a16e398-0ba6-448d-aba1-0f88a9a52804\" target=\"_top\" title=\"psysml:9a16e398-0ba6-448d-aba1-0f88a9a52804\" xlink:actuate=\"onRequest\" xlink:href=\"psysml:9a16e398-0ba6-448d-aba1-0f88a9a52804\" xlink:show=\"new\" xlink:title=\"psysml:9a16e398-0ba6-448d-aba1-0f88a9a52804\" xlink:type=\"simple\"><rect fill=\"#FFFFFF\" height=\"45.9375\" id=\"E3\" rx=\"10\" ry=\"10\" style=\"stroke: #383838; stroke-width: 1.5;\" width=\"42\" x=\"158\" y=\"41\"/><text fill=\"#000000\" font-family=\"sans-serif\" font-size=\"12\" font-style=\"italic\" lengthAdjust=\"spacingAndGlyphs\" textLength=\"40\" x=\"159\" y=\"57.1387\">«part»</text><text fill=\"#000000\" font-family=\"sans-serif\" font-size=\"12\" lengthAdjust=\"spacingAndGlyphs\" textLength=\"8\" x=\"175\" y=\"71.1074\">a</text><line style=\"stroke: #383838; stroke-width: 1.5;\" x1=\"159\" x2=\"199\" y1=\"78.9375\" y2=\"78.9375\"/></a><!--MD5=[ebbe1d658d1005bcc118a6aa81145e00]\n",
       "class E4--><a href=\"psysml:17ca64f8-f38a-4aec-8c02-fbca076b4a28\" target=\"_top\" title=\"psysml:17ca64f8-f38a-4aec-8c02-fbca076b4a28\" xlink:actuate=\"onRequest\" xlink:href=\"psysml:17ca64f8-f38a-4aec-8c02-fbca076b4a28\" xlink:show=\"new\" xlink:title=\"psysml:17ca64f8-f38a-4aec-8c02-fbca076b4a28\" xlink:type=\"simple\"><rect fill=\"#FFFFFF\" height=\"45.9375\" id=\"E4\" style=\"stroke: #383838; stroke-width: 1.5;\" width=\"66\" x=\"32\" y=\"122\"/><text fill=\"#000000\" font-family=\"sans-serif\" font-size=\"12\" font-style=\"italic\" lengthAdjust=\"spacingAndGlyphs\" textLength=\"64\" x=\"33\" y=\"138.1387\">«part def»</text><text fill=\"#000000\" font-family=\"sans-serif\" font-size=\"12\" lengthAdjust=\"spacingAndGlyphs\" textLength=\"8\" x=\"61\" y=\"152.1074\">C</text><line style=\"stroke: #383838; stroke-width: 1.5;\" x1=\"33\" x2=\"97\" y1=\"159.9375\" y2=\"159.9375\"/></a><!--MD5=[270fce915f116d4de14055a7c1d9a0f3]\n",
       "class E5--><a href=\"psysml:43d8af85-10f5-4c20-8018-948df50254a5\" target=\"_top\" title=\"psysml:43d8af85-10f5-4c20-8018-948df50254a5\" xlink:actuate=\"onRequest\" xlink:href=\"psysml:43d8af85-10f5-4c20-8018-948df50254a5\" xlink:show=\"new\" xlink:title=\"psysml:43d8af85-10f5-4c20-8018-948df50254a5\" xlink:type=\"simple\"><rect fill=\"#FFFFFF\" height=\"45.9375\" id=\"E5\" rx=\"10\" ry=\"10\" style=\"stroke: #383838; stroke-width: 1.5;\" width=\"42\" x=\"158\" y=\"122\"/><text fill=\"#000000\" font-family=\"sans-serif\" font-size=\"12\" font-style=\"italic\" lengthAdjust=\"spacingAndGlyphs\" textLength=\"40\" x=\"159\" y=\"138.1387\">«part»</text><text fill=\"#000000\" font-family=\"sans-serif\" font-size=\"12\" lengthAdjust=\"spacingAndGlyphs\" textLength=\"8\" x=\"175\" y=\"152.1074\">g</text><line style=\"stroke: #383838; stroke-width: 1.5;\" x1=\"159\" x2=\"199\" y1=\"159.9375\" y2=\"159.9375\"/></a><!--MD5=[209b3feb70ccb6233bfe1053d122c12c]\n",
       "reverse link E2 to E3--><a href=\"psysml:9a16e398-0ba6-448d-aba1-0f88a9a52804\" target=\"_top\" title=\"psysml:9a16e398-0ba6-448d-aba1-0f88a9a52804\" xlink:actuate=\"onRequest\" xlink:href=\"psysml:9a16e398-0ba6-448d-aba1-0f88a9a52804\" xlink:show=\"new\" xlink:title=\"psysml:9a16e398-0ba6-448d-aba1-0f88a9a52804\" xlink:type=\"simple\"><path d=\"M99.26,64 C118.27,64 141.49,64 157.77,64 \" fill=\"none\" id=\"E2&lt;-E3\" style=\"stroke: #383838; stroke-width: 1.0;\"/><polygon fill=\"#383838\" points=\"86.02,64,92.02,68,98.02,64,92.02,60,86.02,64\" style=\"stroke: #383838; stroke-width: 1.0;\"/></a><!--MD5=[62aa6af11e70f752912c1cb0466f24f7]\n",
       "reverse link E4 to E5--><a href=\"psysml:43d8af85-10f5-4c20-8018-948df50254a5\" target=\"_top\" title=\"psysml:43d8af85-10f5-4c20-8018-948df50254a5\" xlink:actuate=\"onRequest\" xlink:href=\"psysml:43d8af85-10f5-4c20-8018-948df50254a5\" xlink:show=\"new\" xlink:title=\"psysml:43d8af85-10f5-4c20-8018-948df50254a5\" xlink:type=\"simple\"><path d=\"M111.28,145 C127.47,145 144.9,145 157.89,145 \" fill=\"none\" id=\"E4&lt;-E5\" style=\"stroke: #383838; stroke-width: 1.0;\"/><polygon fill=\"#383838\" points=\"98.09,145,104.09,149,110.09,145,104.09,141,98.09,145\" style=\"stroke: #383838; stroke-width: 1.0;\"/></a><!--MD5=[80dd3be518b05f1fa3a37b90aec2d58f]\n",
       "@startuml\r\n",
       "left to right direction\r\n",
       "skinparam monochrome true\r\n",
       "skinparam classbackgroundcolor white\r\n",
       "skinparam shadowing false\r\n",
       "skinparam wrapWidth 300\r\n",
       "hide circle\r\n",
       "\r\n",
       "package \"Q\" as E1  [[psysml:1ca4998e-7283-4312-8b1a-8c25c589ba37 ]]  {\r\n",
       "comp usage \"f\" as E2  <<(T,blue)part>> [[psysml:9f0b35e2-e039-4fc1-a74b-e29bd15d28ff ]] {\r\n",
       "}\r\n",
       "comp usage \"a\" as E3  <<(T,blue)part>> [[psysml:9a16e398-0ba6-448d-aba1-0f88a9a52804 ]] {\r\n",
       "}\r\n",
       "comp def \"C\" as E4  <<(T,blue)part def>> [[psysml:17ca64f8-f38a-4aec-8c02-fbca076b4a28 ]] {\r\n",
       "}\r\n",
       "comp usage \"g\" as E5  <<(T,blue)part>> [[psysml:43d8af85-10f5-4c20-8018-948df50254a5 ]] {\r\n",
       "}\r\n",
       "E2 *- - E3 [[psysml:9a16e398-0ba6-448d-aba1-0f88a9a52804 ]] \r\n",
       "E4 *- - E5 [[psysml:43d8af85-10f5-4c20-8018-948df50254a5 ]] \r\n",
       "}\r\n",
       "@enduml\r\n",
       "\n",
       "PlantUML version 1.2020.13(Sat Jun 13 12:26:38 UTC 2020)\n",
       "(EPL source distribution)\n",
       "Java Runtime: OpenJDK Runtime Environment\n",
       "JVM: OpenJDK 64-Bit Server VM\n",
       "Default Encoding: UTF-8\n",
       "Language: en\n",
       "Country: null\n",
       "--></g></svg>"
      ]
     },
     "execution_count": 22,
     "metadata": {},
     "output_type": "execute_result"
    }
   ],
   "source": [
    "%viz --style=\"LR\" --view=\"MIXED\" \"Q\""
   ]
  },
  {
   "cell_type": "code",
   "execution_count": 23,
   "id": "supreme-original",
   "metadata": {
    "execution": {
     "iopub.execute_input": "2021-03-25T15:00:56.992287Z",
     "iopub.status.busy": "2021-03-25T15:00:56.991688Z",
     "iopub.status.idle": "2021-03-25T15:00:57.061970Z",
     "shell.execute_reply": "2021-03-25T15:00:57.060375Z"
    }
   },
   "outputs": [
    {
     "data": {
      "image/svg+xml": [
       "<?xml version=\"1.0\" encoding=\"UTF-8\" standalone=\"no\"?><svg xmlns=\"http://www.w3.org/2000/svg\" xmlns:xlink=\"http://www.w3.org/1999/xlink\" contentScriptType=\"application/ecmascript\" contentStyleType=\"text/css\" height=\"221px\" preserveAspectRatio=\"none\" style=\"width:213px;height:221px;\" version=\"1.1\" viewBox=\"0 0 213 221\" width=\"213px\" zoomAndPan=\"magnify\"><defs><filter height=\"300%\" id=\"fjwg27i9dggfe\" width=\"300%\" x=\"-1\" y=\"-1\"><feGaussianBlur result=\"blurOut\" stdDeviation=\"2.0\"/><feColorMatrix in=\"blurOut\" result=\"blurOut2\" type=\"matrix\" values=\"0 0 0 0 0 0 0 0 0 0 0 0 0 0 0 0 0 0 .4 0\"/><feOffset dx=\"4.0\" dy=\"4.0\" in=\"blurOut2\" result=\"blurOut3\"/><feBlend in=\"SourceGraphic\" in2=\"blurOut3\" mode=\"normal\"/></filter></defs><g><!--MD5=[fbc87193dbaf4d95561dea2c320d4a47]\n",
       "cluster E1--><a href=\"psysml:1ca4998e-7283-4312-8b1a-8c25c589ba37\" target=\"_top\" title=\"psysml:1ca4998e-7283-4312-8b1a-8c25c589ba37\" xlink:actuate=\"onRequest\" xlink:href=\"psysml:1ca4998e-7283-4312-8b1a-8c25c589ba37\" xlink:show=\"new\" xlink:title=\"psysml:1ca4998e-7283-4312-8b1a-8c25c589ba37\" xlink:type=\"simple\"><polygon fill=\"#FFFFFF\" filter=\"url(#fjwg27i9dggfe)\" points=\"16,6,34,6,41,28.2969,191,28.2969,191,209,16,209,16,6\" style=\"stroke: #000000; stroke-width: 1.5;\"/><line style=\"stroke: #000000; stroke-width: 1.5;\" x1=\"16\" x2=\"41\" y1=\"28.2969\" y2=\"28.2969\"/><text fill=\"#000000\" font-family=\"sans-serif\" font-size=\"14\" font-weight=\"bold\" lengthAdjust=\"spacingAndGlyphs\" textLength=\"12\" x=\"20\" y=\"20.9951\">Q</text></a><!--MD5=[b4997ac47864f28c2f74865a473b2911]\n",
       "class E2--><a href=\"psysml:9f0b35e2-e039-4fc1-a74b-e29bd15d28ff\" target=\"_top\" title=\"psysml:9f0b35e2-e039-4fc1-a74b-e29bd15d28ff\" xlink:actuate=\"onRequest\" xlink:href=\"psysml:9f0b35e2-e039-4fc1-a74b-e29bd15d28ff\" xlink:show=\"new\" xlink:title=\"psysml:9f0b35e2-e039-4fc1-a74b-e29bd15d28ff\" xlink:type=\"simple\"><rect fill=\"#FEFECE\" filter=\"url(#fjwg27i9dggfe)\" height=\"45.9375\" id=\"E2\" rx=\"10\" ry=\"10\" style=\"stroke: #A80036; stroke-width: 1.5;\" width=\"42\" x=\"133\" y=\"41\"/><text fill=\"#000000\" font-family=\"sans-serif\" font-size=\"12\" font-style=\"italic\" lengthAdjust=\"spacingAndGlyphs\" textLength=\"40\" x=\"134\" y=\"57.1387\">«part»</text><text fill=\"#000000\" font-family=\"sans-serif\" font-size=\"12\" lengthAdjust=\"spacingAndGlyphs\" textLength=\"4\" x=\"152\" y=\"71.1074\">f</text><line style=\"stroke: #A80036; stroke-width: 1.5;\" x1=\"134\" x2=\"174\" y1=\"78.9375\" y2=\"78.9375\"/></a><!--MD5=[09b614a08d8cba4a07c9adeb5e0fee81]\n",
       "class E3--><a href=\"psysml:9a16e398-0ba6-448d-aba1-0f88a9a52804\" target=\"_top\" title=\"psysml:9a16e398-0ba6-448d-aba1-0f88a9a52804\" xlink:actuate=\"onRequest\" xlink:href=\"psysml:9a16e398-0ba6-448d-aba1-0f88a9a52804\" xlink:show=\"new\" xlink:title=\"psysml:9a16e398-0ba6-448d-aba1-0f88a9a52804\" xlink:type=\"simple\"><rect fill=\"#FEFECE\" filter=\"url(#fjwg27i9dggfe)\" height=\"45.9375\" id=\"E3\" rx=\"10\" ry=\"10\" style=\"stroke: #A80036; stroke-width: 1.5;\" width=\"42\" x=\"133\" y=\"147\"/><text fill=\"#000000\" font-family=\"sans-serif\" font-size=\"12\" font-style=\"italic\" lengthAdjust=\"spacingAndGlyphs\" textLength=\"40\" x=\"134\" y=\"163.1387\">«part»</text><text fill=\"#000000\" font-family=\"sans-serif\" font-size=\"12\" lengthAdjust=\"spacingAndGlyphs\" textLength=\"8\" x=\"150\" y=\"177.1074\">a</text><line style=\"stroke: #A80036; stroke-width: 1.5;\" x1=\"134\" x2=\"174\" y1=\"184.9375\" y2=\"184.9375\"/></a><!--MD5=[ebbe1d658d1005bcc118a6aa81145e00]\n",
       "class E4--><a href=\"psysml:17ca64f8-f38a-4aec-8c02-fbca076b4a28\" target=\"_top\" title=\"psysml:17ca64f8-f38a-4aec-8c02-fbca076b4a28\" xlink:actuate=\"onRequest\" xlink:href=\"psysml:17ca64f8-f38a-4aec-8c02-fbca076b4a28\" xlink:show=\"new\" xlink:title=\"psysml:17ca64f8-f38a-4aec-8c02-fbca076b4a28\" xlink:type=\"simple\"><rect fill=\"#FEFECE\" filter=\"url(#fjwg27i9dggfe)\" height=\"45.9375\" id=\"E4\" style=\"stroke: #A80036; stroke-width: 1.5;\" width=\"66\" x=\"32\" y=\"41\"/><text fill=\"#000000\" font-family=\"sans-serif\" font-size=\"12\" font-style=\"italic\" lengthAdjust=\"spacingAndGlyphs\" textLength=\"64\" x=\"33\" y=\"57.1387\">«part def»</text><text fill=\"#000000\" font-family=\"sans-serif\" font-size=\"12\" lengthAdjust=\"spacingAndGlyphs\" textLength=\"8\" x=\"61\" y=\"71.1074\">C</text><line style=\"stroke: #A80036; stroke-width: 1.5;\" x1=\"33\" x2=\"97\" y1=\"78.9375\" y2=\"78.9375\"/></a><!--MD5=[270fce915f116d4de14055a7c1d9a0f3]\n",
       "class E5--><a href=\"psysml:43d8af85-10f5-4c20-8018-948df50254a5\" target=\"_top\" title=\"psysml:43d8af85-10f5-4c20-8018-948df50254a5\" xlink:actuate=\"onRequest\" xlink:href=\"psysml:43d8af85-10f5-4c20-8018-948df50254a5\" xlink:show=\"new\" xlink:title=\"psysml:43d8af85-10f5-4c20-8018-948df50254a5\" xlink:type=\"simple\"><rect fill=\"#FEFECE\" filter=\"url(#fjwg27i9dggfe)\" height=\"45.9375\" id=\"E5\" rx=\"10\" ry=\"10\" style=\"stroke: #A80036; stroke-width: 1.5;\" width=\"42\" x=\"44\" y=\"147\"/><text fill=\"#000000\" font-family=\"sans-serif\" font-size=\"12\" font-style=\"italic\" lengthAdjust=\"spacingAndGlyphs\" textLength=\"40\" x=\"45\" y=\"163.1387\">«part»</text><text fill=\"#000000\" font-family=\"sans-serif\" font-size=\"12\" lengthAdjust=\"spacingAndGlyphs\" textLength=\"8\" x=\"61\" y=\"177.1074\">g</text><line style=\"stroke: #A80036; stroke-width: 1.5;\" x1=\"45\" x2=\"85\" y1=\"184.9375\" y2=\"184.9375\"/></a><!--MD5=[209b3feb70ccb6233bfe1053d122c12c]\n",
       "reverse link E2 to E3--><a href=\"psysml:9a16e398-0ba6-448d-aba1-0f88a9a52804\" target=\"_top\" title=\"psysml:9a16e398-0ba6-448d-aba1-0f88a9a52804\" xlink:actuate=\"onRequest\" xlink:href=\"psysml:9a16e398-0ba6-448d-aba1-0f88a9a52804\" xlink:show=\"new\" xlink:title=\"psysml:9a16e398-0ba6-448d-aba1-0f88a9a52804\" xlink:type=\"simple\"><path d=\"M154,100.44 C154,115.87 154,133.47 154,146.98 \" fill=\"none\" id=\"E2&lt;-E3\" style=\"stroke: #A80036; stroke-width: 1.0;\"/><polygon fill=\"#A80036\" points=\"154,87.06,150,93.06,154,99.06,158,93.06,154,87.06\" style=\"stroke: #A80036; stroke-width: 1.0;\"/></a><!--MD5=[62aa6af11e70f752912c1cb0466f24f7]\n",
       "reverse link E4 to E5--><a href=\"psysml:43d8af85-10f5-4c20-8018-948df50254a5\" target=\"_top\" title=\"psysml:43d8af85-10f5-4c20-8018-948df50254a5\" xlink:actuate=\"onRequest\" xlink:href=\"psysml:43d8af85-10f5-4c20-8018-948df50254a5\" xlink:show=\"new\" xlink:title=\"psysml:43d8af85-10f5-4c20-8018-948df50254a5\" xlink:type=\"simple\"><path d=\"M65,100.44 C65,115.87 65,133.47 65,146.98 \" fill=\"none\" id=\"E4&lt;-E5\" style=\"stroke: #A80036; stroke-width: 1.0;\"/><polygon fill=\"#A80036\" points=\"65,87.06,61,93.06,65,99.06,69,93.06,65,87.06\" style=\"stroke: #A80036; stroke-width: 1.0;\"/></a><!--MD5=[fc28609c7507c968112e967b31f87015]\n",
       "@startuml\r\n",
       "skinparam wrapWidth 300\r\n",
       "hide circle\r\n",
       "\r\n",
       "package \"Q\" as E1  [[psysml:1ca4998e-7283-4312-8b1a-8c25c589ba37 ]]  {\r\n",
       "comp usage \"f\" as E2  <<(T,blue)part>> [[psysml:9f0b35e2-e039-4fc1-a74b-e29bd15d28ff ]] {\r\n",
       "}\r\n",
       "comp usage \"a\" as E3  <<(T,blue)part>> [[psysml:9a16e398-0ba6-448d-aba1-0f88a9a52804 ]] {\r\n",
       "}\r\n",
       "comp def \"C\" as E4  <<(T,blue)part def>> [[psysml:17ca64f8-f38a-4aec-8c02-fbca076b4a28 ]] {\r\n",
       "}\r\n",
       "comp usage \"g\" as E5  <<(T,blue)part>> [[psysml:43d8af85-10f5-4c20-8018-948df50254a5 ]] {\r\n",
       "}\r\n",
       "E2 *- - E3 [[psysml:9a16e398-0ba6-448d-aba1-0f88a9a52804 ]] \r\n",
       "E4 *- - E5 [[psysml:43d8af85-10f5-4c20-8018-948df50254a5 ]] \r\n",
       "}\r\n",
       "@enduml\r\n",
       "\n",
       "PlantUML version 1.2020.13(Sat Jun 13 12:26:38 UTC 2020)\n",
       "(EPL source distribution)\n",
       "Java Runtime: OpenJDK Runtime Environment\n",
       "JVM: OpenJDK 64-Bit Server VM\n",
       "Default Encoding: UTF-8\n",
       "Language: en\n",
       "Country: null\n",
       "--></g></svg>"
      ]
     },
     "execution_count": 23,
     "metadata": {},
     "output_type": "execute_result"
    }
   ],
   "source": [
    "%viz --style=\"STDCOLOR\" --view=\"Default\" \"Q\""
   ]
  },
  {
   "cell_type": "code",
   "execution_count": 24,
   "id": "final-albuquerque",
   "metadata": {
    "execution": {
     "iopub.execute_input": "2021-03-25T15:00:57.112283Z",
     "iopub.status.busy": "2021-03-25T15:00:57.111540Z",
     "iopub.status.idle": "2021-03-25T15:00:57.183726Z",
     "shell.execute_reply": "2021-03-25T15:00:57.181928Z"
    }
   },
   "outputs": [
    {
     "data": {
      "image/svg+xml": [
       "<?xml version=\"1.0\" encoding=\"UTF-8\" standalone=\"no\"?><svg xmlns=\"http://www.w3.org/2000/svg\" xmlns:xlink=\"http://www.w3.org/1999/xlink\" contentScriptType=\"application/ecmascript\" contentStyleType=\"text/css\" height=\"221px\" preserveAspectRatio=\"none\" style=\"width:213px;height:221px;\" version=\"1.1\" viewBox=\"0 0 213 221\" width=\"213px\" zoomAndPan=\"magnify\"><defs><filter height=\"300%\" id=\"fjwg27i9dggfe\" width=\"300%\" x=\"-1\" y=\"-1\"><feGaussianBlur result=\"blurOut\" stdDeviation=\"2.0\"/><feColorMatrix in=\"blurOut\" result=\"blurOut2\" type=\"matrix\" values=\"0 0 0 0 0 0 0 0 0 0 0 0 0 0 0 0 0 0 .4 0\"/><feOffset dx=\"4.0\" dy=\"4.0\" in=\"blurOut2\" result=\"blurOut3\"/><feBlend in=\"SourceGraphic\" in2=\"blurOut3\" mode=\"normal\"/></filter></defs><g><!--MD5=[fbc87193dbaf4d95561dea2c320d4a47]\n",
       "cluster E1--><a href=\"psysml:1ca4998e-7283-4312-8b1a-8c25c589ba37\" target=\"_top\" title=\"psysml:1ca4998e-7283-4312-8b1a-8c25c589ba37\" xlink:actuate=\"onRequest\" xlink:href=\"psysml:1ca4998e-7283-4312-8b1a-8c25c589ba37\" xlink:show=\"new\" xlink:title=\"psysml:1ca4998e-7283-4312-8b1a-8c25c589ba37\" xlink:type=\"simple\"><polygon fill=\"#FFFFFF\" filter=\"url(#fjwg27i9dggfe)\" points=\"16,6,34,6,41,28.2969,191,28.2969,191,209,16,209,16,6\" style=\"stroke: #000000; stroke-width: 1.5;\"/><line style=\"stroke: #000000; stroke-width: 1.5;\" x1=\"16\" x2=\"41\" y1=\"28.2969\" y2=\"28.2969\"/><text fill=\"#000000\" font-family=\"sans-serif\" font-size=\"14\" font-weight=\"bold\" lengthAdjust=\"spacingAndGlyphs\" textLength=\"12\" x=\"20\" y=\"20.9951\">Q</text></a><!--MD5=[b4997ac47864f28c2f74865a473b2911]\n",
       "class E2--><a href=\"psysml:9f0b35e2-e039-4fc1-a74b-e29bd15d28ff\" target=\"_top\" title=\"psysml:9f0b35e2-e039-4fc1-a74b-e29bd15d28ff\" xlink:actuate=\"onRequest\" xlink:href=\"psysml:9f0b35e2-e039-4fc1-a74b-e29bd15d28ff\" xlink:show=\"new\" xlink:title=\"psysml:9f0b35e2-e039-4fc1-a74b-e29bd15d28ff\" xlink:type=\"simple\"><rect fill=\"#FEFECE\" filter=\"url(#fjwg27i9dggfe)\" height=\"45.9375\" id=\"E2\" rx=\"10\" ry=\"10\" style=\"stroke: #A80036; stroke-width: 1.5;\" width=\"42\" x=\"133\" y=\"41\"/><text fill=\"#000000\" font-family=\"sans-serif\" font-size=\"12\" font-style=\"italic\" lengthAdjust=\"spacingAndGlyphs\" textLength=\"40\" x=\"134\" y=\"57.1387\">«part»</text><text fill=\"#000000\" font-family=\"sans-serif\" font-size=\"12\" lengthAdjust=\"spacingAndGlyphs\" textLength=\"4\" x=\"152\" y=\"71.1074\">f</text><line style=\"stroke: #A80036; stroke-width: 1.5;\" x1=\"134\" x2=\"174\" y1=\"78.9375\" y2=\"78.9375\"/></a><!--MD5=[09b614a08d8cba4a07c9adeb5e0fee81]\n",
       "class E3--><a href=\"psysml:9a16e398-0ba6-448d-aba1-0f88a9a52804\" target=\"_top\" title=\"psysml:9a16e398-0ba6-448d-aba1-0f88a9a52804\" xlink:actuate=\"onRequest\" xlink:href=\"psysml:9a16e398-0ba6-448d-aba1-0f88a9a52804\" xlink:show=\"new\" xlink:title=\"psysml:9a16e398-0ba6-448d-aba1-0f88a9a52804\" xlink:type=\"simple\"><rect fill=\"#FEFECE\" filter=\"url(#fjwg27i9dggfe)\" height=\"45.9375\" id=\"E3\" rx=\"10\" ry=\"10\" style=\"stroke: #A80036; stroke-width: 1.5;\" width=\"42\" x=\"133\" y=\"147\"/><text fill=\"#000000\" font-family=\"sans-serif\" font-size=\"12\" font-style=\"italic\" lengthAdjust=\"spacingAndGlyphs\" textLength=\"40\" x=\"134\" y=\"163.1387\">«part»</text><text fill=\"#000000\" font-family=\"sans-serif\" font-size=\"12\" lengthAdjust=\"spacingAndGlyphs\" textLength=\"8\" x=\"150\" y=\"177.1074\">a</text><line style=\"stroke: #A80036; stroke-width: 1.5;\" x1=\"134\" x2=\"174\" y1=\"184.9375\" y2=\"184.9375\"/></a><!--MD5=[ebbe1d658d1005bcc118a6aa81145e00]\n",
       "class E4--><a href=\"psysml:17ca64f8-f38a-4aec-8c02-fbca076b4a28\" target=\"_top\" title=\"psysml:17ca64f8-f38a-4aec-8c02-fbca076b4a28\" xlink:actuate=\"onRequest\" xlink:href=\"psysml:17ca64f8-f38a-4aec-8c02-fbca076b4a28\" xlink:show=\"new\" xlink:title=\"psysml:17ca64f8-f38a-4aec-8c02-fbca076b4a28\" xlink:type=\"simple\"><rect fill=\"#FEFECE\" filter=\"url(#fjwg27i9dggfe)\" height=\"45.9375\" id=\"E4\" style=\"stroke: #A80036; stroke-width: 1.5;\" width=\"66\" x=\"32\" y=\"41\"/><text fill=\"#000000\" font-family=\"sans-serif\" font-size=\"12\" font-style=\"italic\" lengthAdjust=\"spacingAndGlyphs\" textLength=\"64\" x=\"33\" y=\"57.1387\">«part def»</text><text fill=\"#000000\" font-family=\"sans-serif\" font-size=\"12\" lengthAdjust=\"spacingAndGlyphs\" textLength=\"8\" x=\"61\" y=\"71.1074\">C</text><line style=\"stroke: #A80036; stroke-width: 1.5;\" x1=\"33\" x2=\"97\" y1=\"78.9375\" y2=\"78.9375\"/></a><!--MD5=[270fce915f116d4de14055a7c1d9a0f3]\n",
       "class E5--><a href=\"psysml:43d8af85-10f5-4c20-8018-948df50254a5\" target=\"_top\" title=\"psysml:43d8af85-10f5-4c20-8018-948df50254a5\" xlink:actuate=\"onRequest\" xlink:href=\"psysml:43d8af85-10f5-4c20-8018-948df50254a5\" xlink:show=\"new\" xlink:title=\"psysml:43d8af85-10f5-4c20-8018-948df50254a5\" xlink:type=\"simple\"><rect fill=\"#FEFECE\" filter=\"url(#fjwg27i9dggfe)\" height=\"45.9375\" id=\"E5\" rx=\"10\" ry=\"10\" style=\"stroke: #A80036; stroke-width: 1.5;\" width=\"42\" x=\"44\" y=\"147\"/><text fill=\"#000000\" font-family=\"sans-serif\" font-size=\"12\" font-style=\"italic\" lengthAdjust=\"spacingAndGlyphs\" textLength=\"40\" x=\"45\" y=\"163.1387\">«part»</text><text fill=\"#000000\" font-family=\"sans-serif\" font-size=\"12\" lengthAdjust=\"spacingAndGlyphs\" textLength=\"8\" x=\"61\" y=\"177.1074\">g</text><line style=\"stroke: #A80036; stroke-width: 1.5;\" x1=\"45\" x2=\"85\" y1=\"184.9375\" y2=\"184.9375\"/></a><!--MD5=[209b3feb70ccb6233bfe1053d122c12c]\n",
       "reverse link E2 to E3--><a href=\"psysml:9a16e398-0ba6-448d-aba1-0f88a9a52804\" target=\"_top\" title=\"psysml:9a16e398-0ba6-448d-aba1-0f88a9a52804\" xlink:actuate=\"onRequest\" xlink:href=\"psysml:9a16e398-0ba6-448d-aba1-0f88a9a52804\" xlink:show=\"new\" xlink:title=\"psysml:9a16e398-0ba6-448d-aba1-0f88a9a52804\" xlink:type=\"simple\"><path d=\"M154,100.44 C154,115.87 154,133.47 154,146.98 \" fill=\"none\" id=\"E2&lt;-E3\" style=\"stroke: #A80036; stroke-width: 1.0;\"/><polygon fill=\"#A80036\" points=\"154,87.06,150,93.06,154,99.06,158,93.06,154,87.06\" style=\"stroke: #A80036; stroke-width: 1.0;\"/></a><!--MD5=[62aa6af11e70f752912c1cb0466f24f7]\n",
       "reverse link E4 to E5--><a href=\"psysml:43d8af85-10f5-4c20-8018-948df50254a5\" target=\"_top\" title=\"psysml:43d8af85-10f5-4c20-8018-948df50254a5\" xlink:actuate=\"onRequest\" xlink:href=\"psysml:43d8af85-10f5-4c20-8018-948df50254a5\" xlink:show=\"new\" xlink:title=\"psysml:43d8af85-10f5-4c20-8018-948df50254a5\" xlink:type=\"simple\"><path d=\"M65,100.44 C65,115.87 65,133.47 65,146.98 \" fill=\"none\" id=\"E4&lt;-E5\" style=\"stroke: #A80036; stroke-width: 1.0;\"/><polygon fill=\"#A80036\" points=\"65,87.06,61,93.06,65,99.06,69,93.06,65,87.06\" style=\"stroke: #A80036; stroke-width: 1.0;\"/></a><!--MD5=[fc28609c7507c968112e967b31f87015]\n",
       "@startuml\r\n",
       "skinparam wrapWidth 300\r\n",
       "hide circle\r\n",
       "\r\n",
       "package \"Q\" as E1  [[psysml:1ca4998e-7283-4312-8b1a-8c25c589ba37 ]]  {\r\n",
       "comp usage \"f\" as E2  <<(T,blue)part>> [[psysml:9f0b35e2-e039-4fc1-a74b-e29bd15d28ff ]] {\r\n",
       "}\r\n",
       "comp usage \"a\" as E3  <<(T,blue)part>> [[psysml:9a16e398-0ba6-448d-aba1-0f88a9a52804 ]] {\r\n",
       "}\r\n",
       "comp def \"C\" as E4  <<(T,blue)part def>> [[psysml:17ca64f8-f38a-4aec-8c02-fbca076b4a28 ]] {\r\n",
       "}\r\n",
       "comp usage \"g\" as E5  <<(T,blue)part>> [[psysml:43d8af85-10f5-4c20-8018-948df50254a5 ]] {\r\n",
       "}\r\n",
       "E2 *- - E3 [[psysml:9a16e398-0ba6-448d-aba1-0f88a9a52804 ]] \r\n",
       "E4 *- - E5 [[psysml:43d8af85-10f5-4c20-8018-948df50254a5 ]] \r\n",
       "}\r\n",
       "@enduml\r\n",
       "\n",
       "PlantUML version 1.2020.13(Sat Jun 13 12:26:38 UTC 2020)\n",
       "(EPL source distribution)\n",
       "Java Runtime: OpenJDK Runtime Environment\n",
       "JVM: OpenJDK 64-Bit Server VM\n",
       "Default Encoding: UTF-8\n",
       "Language: en\n",
       "Country: null\n",
       "--></g></svg>"
      ]
     },
     "execution_count": 24,
     "metadata": {},
     "output_type": "execute_result"
    }
   ],
   "source": [
    "%viz --style=\"STDCOLOR\" --view=\"Tree\" \"Q\""
   ]
  },
  {
   "cell_type": "code",
   "execution_count": 25,
   "id": "french-meaning",
   "metadata": {
    "execution": {
     "iopub.execute_input": "2021-03-25T15:00:57.233849Z",
     "iopub.status.busy": "2021-03-25T15:00:57.233348Z",
     "iopub.status.idle": "2021-03-25T15:00:57.241479Z",
     "shell.execute_reply": "2021-03-25T15:00:57.240886Z"
    }
   },
   "outputs": [
    {
     "data": {
      "image/svg+xml": [
       "<?xml version=\"1.0\" encoding=\"UTF-8\" standalone=\"no\"?><svg xmlns=\"http://www.w3.org/2000/svg\" xmlns:xlink=\"http://www.w3.org/1999/xlink\" contentScriptType=\"application/ecmascript\" contentStyleType=\"text/css\" height=\"12px\" preserveAspectRatio=\"none\" style=\"width:12px;height:12px;\" version=\"1.1\" viewBox=\"0 0 12 12\" width=\"12px\" zoomAndPan=\"magnify\"><defs/><g><!--MD5=[aeeef50f102b80d730deb6443d14f702]\n",
       "@startuml\r\n",
       "skinparam wrapWidth 300\r\n",
       "hide circle\r\n",
       "\r\n",
       "@enduml\r\n",
       "\n",
       "PlantUML version 1.2020.13(Sat Jun 13 12:26:38 UTC 2020)\n",
       "(EPL source distribution)\n",
       "Java Runtime: OpenJDK Runtime Environment\n",
       "JVM: OpenJDK 64-Bit Server VM\n",
       "Default Encoding: UTF-8\n",
       "Language: en\n",
       "Country: null\n",
       "--></g></svg>"
      ]
     },
     "execution_count": 25,
     "metadata": {},
     "output_type": "execute_result"
    }
   ],
   "source": [
    "%viz --style=\"STDCOLOR\" --view=\"State\" \"Q\""
   ]
  },
  {
   "cell_type": "code",
   "execution_count": 26,
   "id": "juvenile-rebel",
   "metadata": {
    "execution": {
     "iopub.execute_input": "2021-03-25T15:00:57.291571Z",
     "iopub.status.busy": "2021-03-25T15:00:57.290839Z",
     "iopub.status.idle": "2021-03-25T15:00:57.395451Z",
     "shell.execute_reply": "2021-03-25T15:00:57.395020Z"
    }
   },
   "outputs": [
    {
     "data": {
      "image/svg+xml": [
       "<?xml version=\"1.0\" encoding=\"UTF-8\" standalone=\"no\"?><svg xmlns=\"http://www.w3.org/2000/svg\" xmlns:xlink=\"http://www.w3.org/1999/xlink\" contentScriptType=\"application/ecmascript\" contentStyleType=\"text/css\" height=\"192px\" preserveAspectRatio=\"none\" style=\"width:279px;height:192px;\" version=\"1.1\" viewBox=\"0 0 279 192\" width=\"279px\" zoomAndPan=\"magnify\"><defs><filter height=\"300%\" id=\"f1n4i769bzk1ji\" width=\"300%\" x=\"-1\" y=\"-1\"><feGaussianBlur result=\"blurOut\" stdDeviation=\"2.0\"/><feColorMatrix in=\"blurOut\" result=\"blurOut2\" type=\"matrix\" values=\"0 0 0 0 0 0 0 0 0 0 0 0 0 0 0 0 0 0 .4 0\"/><feOffset dx=\"4.0\" dy=\"4.0\" in=\"blurOut2\" result=\"blurOut3\"/><feBlend in=\"SourceGraphic\" in2=\"blurOut3\" mode=\"normal\"/></filter></defs><g><!--MD5=[fbc87193dbaf4d95561dea2c320d4a47]\n",
       "cluster E1--><a href=\"psysml:1ca4998e-7283-4312-8b1a-8c25c589ba37\" target=\"_top\" title=\"psysml:1ca4998e-7283-4312-8b1a-8c25c589ba37\" xlink:actuate=\"onRequest\" xlink:href=\"psysml:1ca4998e-7283-4312-8b1a-8c25c589ba37\" xlink:show=\"new\" xlink:title=\"psysml:1ca4998e-7283-4312-8b1a-8c25c589ba37\" xlink:type=\"simple\"><polygon fill=\"#FFFFFF\" filter=\"url(#f1n4i769bzk1ji)\" points=\"16,6,34,6,41,28.2969,257,28.2969,257,180,16,180,16,6\" style=\"stroke: #000000; stroke-width: 1.5;\"/><line style=\"stroke: #000000; stroke-width: 1.5;\" x1=\"16\" x2=\"41\" y1=\"28.2969\" y2=\"28.2969\"/><text fill=\"#000000\" font-family=\"sans-serif\" font-size=\"14\" font-weight=\"bold\" lengthAdjust=\"spacingAndGlyphs\" textLength=\"12\" x=\"20\" y=\"20.9951\">Q</text></a><!--MD5=[e4f7fae6ed58524ba242bb0b0d3be6b7]\n",
       "cluster E2--><a href=\"psysml:9f0b35e2-e039-4fc1-a74b-e29bd15d28ff\" target=\"_top\" title=\"psysml:9f0b35e2-e039-4fc1-a74b-e29bd15d28ff\" xlink:actuate=\"onRequest\" xlink:href=\"psysml:9f0b35e2-e039-4fc1-a74b-e29bd15d28ff\" xlink:show=\"new\" xlink:title=\"psysml:9f0b35e2-e039-4fc1-a74b-e29bd15d28ff\" xlink:type=\"simple\"><rect fill=\"#FFFFFF\" filter=\"url(#f1n4i769bzk1ji)\" height=\"91\" id=\"E2\" rx=\"10\" ry=\"10\" style=\"stroke: #A80036; stroke-width: 1.5;\" width=\"82\" x=\"151\" y=\"65\"/><rect fill=\"#FEFECE\" height=\"23.9688\" rx=\"10\" ry=\"10\" style=\"stroke: #FEFECE; stroke-width: 1.5;\" width=\"82\" x=\"151\" y=\"65\"/><rect fill=\"#FEFECE\" height=\"10\" style=\"stroke: #FEFECE; stroke-width: 1.5;\" width=\"82\" x=\"151\" y=\"78.9688\"/><rect fill=\"none\" height=\"91\" id=\"E2\" rx=\"10\" ry=\"10\" style=\"stroke: #A80036; stroke-width: 1.5;\" width=\"82\" x=\"151\" y=\"65\"/><text fill=\"#000000\" font-family=\"sans-serif\" font-size=\"12\" lengthAdjust=\"spacingAndGlyphs\" textLength=\"4\" x=\"190\" y=\"81.1387\">f</text><line style=\"stroke: #A80036; stroke-width: 1.0;\" x1=\"151\" x2=\"233\" y1=\"88.9688\" y2=\"88.9688\"/></a><!--MD5=[f6df4d0ebaf0b5dfb2ced0ae5af7c670]\n",
       "cluster E4--><a href=\"psysml:17ca64f8-f38a-4aec-8c02-fbca076b4a28\" target=\"_top\" title=\"psysml:17ca64f8-f38a-4aec-8c02-fbca076b4a28\" xlink:actuate=\"onRequest\" xlink:href=\"psysml:17ca64f8-f38a-4aec-8c02-fbca076b4a28\" xlink:show=\"new\" xlink:title=\"psysml:17ca64f8-f38a-4aec-8c02-fbca076b4a28\" xlink:type=\"simple\"><rect fill=\"#FFFFFF\" filter=\"url(#f1n4i769bzk1ji)\" height=\"107\" id=\"E4\" style=\"stroke: #A80036; stroke-width: 1.5;\" width=\"87\" x=\"40\" y=\"49\"/><rect fill=\"#FEFECE\" height=\"37.9375\" style=\"stroke: #A80036; stroke-width: 1.5;\" width=\"87\" x=\"40\" y=\"49\"/><text fill=\"#000000\" font-family=\"sans-serif\" font-size=\"12\" font-style=\"italic\" lengthAdjust=\"spacingAndGlyphs\" textLength=\"64\" x=\"51.5\" y=\"65.1387\">«part def»</text><text fill=\"#000000\" font-family=\"sans-serif\" font-size=\"12\" lengthAdjust=\"spacingAndGlyphs\" textLength=\"8\" x=\"79.5\" y=\"79.1074\">C</text></a><g id=\"E1.E2.E3\"><a href=\"psysml:9a16e398-0ba6-448d-aba1-0f88a9a52804\" target=\"_top\" title=\"psysml:9a16e398-0ba6-448d-aba1-0f88a9a52804\" xlink:actuate=\"onRequest\" xlink:href=\"psysml:9a16e398-0ba6-448d-aba1-0f88a9a52804\" xlink:show=\"new\" xlink:title=\"psysml:9a16e398-0ba6-448d-aba1-0f88a9a52804\" xlink:type=\"simple\"><rect fill=\"#FEFECE\" filter=\"url(#f1n4i769bzk1ji)\" height=\"40\" id=\"E3\" rx=\"10\" ry=\"10\" style=\"stroke: #A80036; stroke-width: 1.5;\" width=\"50\" x=\"167\" y=\"100\"/><text fill=\"#000000\" font-family=\"sans-serif\" font-size=\"12\" lengthAdjust=\"spacingAndGlyphs\" textLength=\"8\" x=\"188\" y=\"116.1387\">a</text></a></g><g id=\"E1.E4.E5\"><a href=\"psysml:43d8af85-10f5-4c20-8018-948df50254a5\" target=\"_top\" title=\"psysml:43d8af85-10f5-4c20-8018-948df50254a5\" xlink:actuate=\"onRequest\" xlink:href=\"psysml:43d8af85-10f5-4c20-8018-948df50254a5\" xlink:show=\"new\" xlink:title=\"psysml:43d8af85-10f5-4c20-8018-948df50254a5\" xlink:type=\"simple\"><rect fill=\"#FEFECE\" filter=\"url(#f1n4i769bzk1ji)\" height=\"40\" id=\"E5\" rx=\"10\" ry=\"10\" style=\"stroke: #A80036; stroke-width: 1.5;\" width=\"50\" x=\"58\" y=\"100\"/><text fill=\"#000000\" font-family=\"sans-serif\" font-size=\"12\" lengthAdjust=\"spacingAndGlyphs\" textLength=\"8\" x=\"79\" y=\"116.1387\">g</text></a></g><!--MD5=[bc5493d1860d24a16d95054e220715f7]\n",
       "@startuml\r\n",
       "skinparam ranksep 8\r\n",
       "skinparam rectangle {\r\n",
       " backgroundColor<<block>> LightGreen\r\n",
       "}\r\n",
       "skinparam wrapWidth 300\r\n",
       "hide circle\r\n",
       "\r\n",
       "package \"Q\" as E1  [[psysml:1ca4998e-7283-4312-8b1a-8c25c589ba37 ]]  {\r\n",
       "rec usage \"f\" as E2  [[psysml:9f0b35e2-e039-4fc1-a74b-e29bd15d28ff ]] {\r\n",
       "rec usage \"a\" as E3  [[psysml:9a16e398-0ba6-448d-aba1-0f88a9a52804 ]] {\r\n",
       "}\r\n",
       "}\r\n",
       "rec def \"C\" as E4  <<(T,blue)part def>> [[psysml:17ca64f8-f38a-4aec-8c02-fbca076b4a28 ]] {\r\n",
       "rec usage \"g\" as E5  [[psysml:43d8af85-10f5-4c20-8018-948df50254a5 ]] {\r\n",
       "}\r\n",
       "}\r\n",
       "}\r\n",
       "@enduml\r\n",
       "\n",
       "PlantUML version 1.2020.13(Sat Jun 13 12:26:38 UTC 2020)\n",
       "(EPL source distribution)\n",
       "Java Runtime: OpenJDK Runtime Environment\n",
       "JVM: OpenJDK 64-Bit Server VM\n",
       "Default Encoding: UTF-8\n",
       "Language: en\n",
       "Country: null\n",
       "--></g></svg>"
      ]
     },
     "execution_count": 26,
     "metadata": {},
     "output_type": "execute_result"
    }
   ],
   "source": [
    "%viz --style=\"STDCOLOR\" --view=\"Interconnection\" \"Q\""
   ]
  },
  {
   "cell_type": "code",
   "execution_count": 27,
   "id": "opened-hebrew",
   "metadata": {
    "execution": {
     "iopub.execute_input": "2021-03-25T15:00:57.445031Z",
     "iopub.status.busy": "2021-03-25T15:00:57.444333Z",
     "iopub.status.idle": "2021-03-25T15:00:57.451368Z",
     "shell.execute_reply": "2021-03-25T15:00:57.450875Z"
    }
   },
   "outputs": [
    {
     "data": {
      "image/svg+xml": [
       "<?xml version=\"1.0\" encoding=\"UTF-8\" standalone=\"no\"?><svg xmlns=\"http://www.w3.org/2000/svg\" xmlns:xlink=\"http://www.w3.org/1999/xlink\" contentScriptType=\"application/ecmascript\" contentStyleType=\"text/css\" height=\"12px\" preserveAspectRatio=\"none\" style=\"width:12px;height:12px;\" version=\"1.1\" viewBox=\"0 0 12 12\" width=\"12px\" zoomAndPan=\"magnify\"><defs/><g><!--MD5=[9863325348a96a77dacc89509d8ee65e]\n",
       "@startuml\r\n",
       "skinparam ranksep 8\r\n",
       "skinparam wrapWidth 300\r\n",
       "hide circle\r\n",
       "\r\n",
       "@enduml\r\n",
       "\n",
       "PlantUML version 1.2020.13(Sat Jun 13 12:26:38 UTC 2020)\n",
       "(EPL source distribution)\n",
       "Java Runtime: OpenJDK Runtime Environment\n",
       "JVM: OpenJDK 64-Bit Server VM\n",
       "Default Encoding: UTF-8\n",
       "Language: en\n",
       "Country: null\n",
       "--></g></svg>"
      ]
     },
     "execution_count": 27,
     "metadata": {},
     "output_type": "execute_result"
    }
   ],
   "source": [
    "%viz --style=\"STDCOLOR\" --view=\"Action\" \"Q\""
   ]
  },
  {
   "cell_type": "code",
   "execution_count": 28,
   "id": "colonial-removal",
   "metadata": {
    "execution": {
     "iopub.execute_input": "2021-03-25T15:00:57.503180Z",
     "iopub.status.busy": "2021-03-25T15:00:57.502608Z",
     "iopub.status.idle": "2021-03-25T15:00:57.571299Z",
     "shell.execute_reply": "2021-03-25T15:00:57.570961Z"
    }
   },
   "outputs": [
    {
     "data": {
      "image/svg+xml": [
       "<?xml version=\"1.0\" encoding=\"UTF-8\" standalone=\"no\"?><svg xmlns=\"http://www.w3.org/2000/svg\" xmlns:xlink=\"http://www.w3.org/1999/xlink\" contentScriptType=\"application/ecmascript\" contentStyleType=\"text/css\" height=\"221px\" preserveAspectRatio=\"none\" style=\"width:213px;height:221px;\" version=\"1.1\" viewBox=\"0 0 213 221\" width=\"213px\" zoomAndPan=\"magnify\"><defs><filter height=\"300%\" id=\"fjwg27i9dggfe\" width=\"300%\" x=\"-1\" y=\"-1\"><feGaussianBlur result=\"blurOut\" stdDeviation=\"2.0\"/><feColorMatrix in=\"blurOut\" result=\"blurOut2\" type=\"matrix\" values=\"0 0 0 0 0 0 0 0 0 0 0 0 0 0 0 0 0 0 .4 0\"/><feOffset dx=\"4.0\" dy=\"4.0\" in=\"blurOut2\" result=\"blurOut3\"/><feBlend in=\"SourceGraphic\" in2=\"blurOut3\" mode=\"normal\"/></filter></defs><g><!--MD5=[fbc87193dbaf4d95561dea2c320d4a47]\n",
       "cluster E1--><a href=\"psysml:1ca4998e-7283-4312-8b1a-8c25c589ba37\" target=\"_top\" title=\"psysml:1ca4998e-7283-4312-8b1a-8c25c589ba37\" xlink:actuate=\"onRequest\" xlink:href=\"psysml:1ca4998e-7283-4312-8b1a-8c25c589ba37\" xlink:show=\"new\" xlink:title=\"psysml:1ca4998e-7283-4312-8b1a-8c25c589ba37\" xlink:type=\"simple\"><polygon fill=\"#FFFFFF\" filter=\"url(#fjwg27i9dggfe)\" points=\"16,6,34,6,41,28.2969,191,28.2969,191,209,16,209,16,6\" style=\"stroke: #000000; stroke-width: 1.5;\"/><line style=\"stroke: #000000; stroke-width: 1.5;\" x1=\"16\" x2=\"41\" y1=\"28.2969\" y2=\"28.2969\"/><text fill=\"#000000\" font-family=\"sans-serif\" font-size=\"14\" font-weight=\"bold\" lengthAdjust=\"spacingAndGlyphs\" textLength=\"12\" x=\"20\" y=\"20.9951\">Q</text></a><!--MD5=[b4997ac47864f28c2f74865a473b2911]\n",
       "class E2--><a href=\"psysml:9f0b35e2-e039-4fc1-a74b-e29bd15d28ff\" target=\"_top\" title=\"psysml:9f0b35e2-e039-4fc1-a74b-e29bd15d28ff\" xlink:actuate=\"onRequest\" xlink:href=\"psysml:9f0b35e2-e039-4fc1-a74b-e29bd15d28ff\" xlink:show=\"new\" xlink:title=\"psysml:9f0b35e2-e039-4fc1-a74b-e29bd15d28ff\" xlink:type=\"simple\"><rect fill=\"#FEFECE\" filter=\"url(#fjwg27i9dggfe)\" height=\"45.9375\" id=\"E2\" rx=\"10\" ry=\"10\" style=\"stroke: #A80036; stroke-width: 1.5;\" width=\"42\" x=\"133\" y=\"41\"/><text fill=\"#000000\" font-family=\"sans-serif\" font-size=\"12\" font-style=\"italic\" lengthAdjust=\"spacingAndGlyphs\" textLength=\"40\" x=\"134\" y=\"57.1387\">«part»</text><text fill=\"#000000\" font-family=\"sans-serif\" font-size=\"12\" lengthAdjust=\"spacingAndGlyphs\" textLength=\"4\" x=\"152\" y=\"71.1074\">f</text><line style=\"stroke: #A80036; stroke-width: 1.5;\" x1=\"134\" x2=\"174\" y1=\"78.9375\" y2=\"78.9375\"/></a><!--MD5=[09b614a08d8cba4a07c9adeb5e0fee81]\n",
       "class E3--><a href=\"psysml:9a16e398-0ba6-448d-aba1-0f88a9a52804\" target=\"_top\" title=\"psysml:9a16e398-0ba6-448d-aba1-0f88a9a52804\" xlink:actuate=\"onRequest\" xlink:href=\"psysml:9a16e398-0ba6-448d-aba1-0f88a9a52804\" xlink:show=\"new\" xlink:title=\"psysml:9a16e398-0ba6-448d-aba1-0f88a9a52804\" xlink:type=\"simple\"><rect fill=\"#FEFECE\" filter=\"url(#fjwg27i9dggfe)\" height=\"45.9375\" id=\"E3\" rx=\"10\" ry=\"10\" style=\"stroke: #A80036; stroke-width: 1.5;\" width=\"42\" x=\"133\" y=\"147\"/><text fill=\"#000000\" font-family=\"sans-serif\" font-size=\"12\" font-style=\"italic\" lengthAdjust=\"spacingAndGlyphs\" textLength=\"40\" x=\"134\" y=\"163.1387\">«part»</text><text fill=\"#000000\" font-family=\"sans-serif\" font-size=\"12\" lengthAdjust=\"spacingAndGlyphs\" textLength=\"8\" x=\"150\" y=\"177.1074\">a</text><line style=\"stroke: #A80036; stroke-width: 1.5;\" x1=\"134\" x2=\"174\" y1=\"184.9375\" y2=\"184.9375\"/></a><!--MD5=[ebbe1d658d1005bcc118a6aa81145e00]\n",
       "class E4--><a href=\"psysml:17ca64f8-f38a-4aec-8c02-fbca076b4a28\" target=\"_top\" title=\"psysml:17ca64f8-f38a-4aec-8c02-fbca076b4a28\" xlink:actuate=\"onRequest\" xlink:href=\"psysml:17ca64f8-f38a-4aec-8c02-fbca076b4a28\" xlink:show=\"new\" xlink:title=\"psysml:17ca64f8-f38a-4aec-8c02-fbca076b4a28\" xlink:type=\"simple\"><rect fill=\"#FEFECE\" filter=\"url(#fjwg27i9dggfe)\" height=\"45.9375\" id=\"E4\" style=\"stroke: #A80036; stroke-width: 1.5;\" width=\"66\" x=\"32\" y=\"41\"/><text fill=\"#000000\" font-family=\"sans-serif\" font-size=\"12\" font-style=\"italic\" lengthAdjust=\"spacingAndGlyphs\" textLength=\"64\" x=\"33\" y=\"57.1387\">«part def»</text><text fill=\"#000000\" font-family=\"sans-serif\" font-size=\"12\" lengthAdjust=\"spacingAndGlyphs\" textLength=\"8\" x=\"61\" y=\"71.1074\">C</text><line style=\"stroke: #A80036; stroke-width: 1.5;\" x1=\"33\" x2=\"97\" y1=\"78.9375\" y2=\"78.9375\"/></a><!--MD5=[270fce915f116d4de14055a7c1d9a0f3]\n",
       "class E5--><a href=\"psysml:43d8af85-10f5-4c20-8018-948df50254a5\" target=\"_top\" title=\"psysml:43d8af85-10f5-4c20-8018-948df50254a5\" xlink:actuate=\"onRequest\" xlink:href=\"psysml:43d8af85-10f5-4c20-8018-948df50254a5\" xlink:show=\"new\" xlink:title=\"psysml:43d8af85-10f5-4c20-8018-948df50254a5\" xlink:type=\"simple\"><rect fill=\"#FEFECE\" filter=\"url(#fjwg27i9dggfe)\" height=\"45.9375\" id=\"E5\" rx=\"10\" ry=\"10\" style=\"stroke: #A80036; stroke-width: 1.5;\" width=\"42\" x=\"44\" y=\"147\"/><text fill=\"#000000\" font-family=\"sans-serif\" font-size=\"12\" font-style=\"italic\" lengthAdjust=\"spacingAndGlyphs\" textLength=\"40\" x=\"45\" y=\"163.1387\">«part»</text><text fill=\"#000000\" font-family=\"sans-serif\" font-size=\"12\" lengthAdjust=\"spacingAndGlyphs\" textLength=\"8\" x=\"61\" y=\"177.1074\">g</text><line style=\"stroke: #A80036; stroke-width: 1.5;\" x1=\"45\" x2=\"85\" y1=\"184.9375\" y2=\"184.9375\"/></a><!--MD5=[209b3feb70ccb6233bfe1053d122c12c]\n",
       "reverse link E2 to E3--><a href=\"psysml:9a16e398-0ba6-448d-aba1-0f88a9a52804\" target=\"_top\" title=\"psysml:9a16e398-0ba6-448d-aba1-0f88a9a52804\" xlink:actuate=\"onRequest\" xlink:href=\"psysml:9a16e398-0ba6-448d-aba1-0f88a9a52804\" xlink:show=\"new\" xlink:title=\"psysml:9a16e398-0ba6-448d-aba1-0f88a9a52804\" xlink:type=\"simple\"><path d=\"M154,100.44 C154,115.87 154,133.47 154,146.98 \" fill=\"none\" id=\"E2&lt;-E3\" style=\"stroke: #A80036; stroke-width: 1.0;\"/><polygon fill=\"#A80036\" points=\"154,87.06,150,93.06,154,99.06,158,93.06,154,87.06\" style=\"stroke: #A80036; stroke-width: 1.0;\"/></a><!--MD5=[62aa6af11e70f752912c1cb0466f24f7]\n",
       "reverse link E4 to E5--><a href=\"psysml:43d8af85-10f5-4c20-8018-948df50254a5\" target=\"_top\" title=\"psysml:43d8af85-10f5-4c20-8018-948df50254a5\" xlink:actuate=\"onRequest\" xlink:href=\"psysml:43d8af85-10f5-4c20-8018-948df50254a5\" xlink:show=\"new\" xlink:title=\"psysml:43d8af85-10f5-4c20-8018-948df50254a5\" xlink:type=\"simple\"><path d=\"M65,100.44 C65,115.87 65,133.47 65,146.98 \" fill=\"none\" id=\"E4&lt;-E5\" style=\"stroke: #A80036; stroke-width: 1.0;\"/><polygon fill=\"#A80036\" points=\"65,87.06,61,93.06,65,99.06,69,93.06,65,87.06\" style=\"stroke: #A80036; stroke-width: 1.0;\"/></a><!--MD5=[fc28609c7507c968112e967b31f87015]\n",
       "@startuml\r\n",
       "skinparam wrapWidth 300\r\n",
       "hide circle\r\n",
       "\r\n",
       "package \"Q\" as E1  [[psysml:1ca4998e-7283-4312-8b1a-8c25c589ba37 ]]  {\r\n",
       "comp usage \"f\" as E2  <<(T,blue)part>> [[psysml:9f0b35e2-e039-4fc1-a74b-e29bd15d28ff ]] {\r\n",
       "}\r\n",
       "comp usage \"a\" as E3  <<(T,blue)part>> [[psysml:9a16e398-0ba6-448d-aba1-0f88a9a52804 ]] {\r\n",
       "}\r\n",
       "comp def \"C\" as E4  <<(T,blue)part def>> [[psysml:17ca64f8-f38a-4aec-8c02-fbca076b4a28 ]] {\r\n",
       "}\r\n",
       "comp usage \"g\" as E5  <<(T,blue)part>> [[psysml:43d8af85-10f5-4c20-8018-948df50254a5 ]] {\r\n",
       "}\r\n",
       "E2 *- - E3 [[psysml:9a16e398-0ba6-448d-aba1-0f88a9a52804 ]] \r\n",
       "E4 *- - E5 [[psysml:43d8af85-10f5-4c20-8018-948df50254a5 ]] \r\n",
       "}\r\n",
       "@enduml\r\n",
       "\n",
       "PlantUML version 1.2020.13(Sat Jun 13 12:26:38 UTC 2020)\n",
       "(EPL source distribution)\n",
       "Java Runtime: OpenJDK Runtime Environment\n",
       "JVM: OpenJDK 64-Bit Server VM\n",
       "Default Encoding: UTF-8\n",
       "Language: en\n",
       "Country: null\n",
       "--></g></svg>"
      ]
     },
     "execution_count": 28,
     "metadata": {},
     "output_type": "execute_result"
    }
   ],
   "source": [
    "%viz --style=\"STDCOLOR\" --view=\"Sequence\" \"Q\""
   ]
  },
  {
   "cell_type": "code",
   "execution_count": 29,
   "id": "developed-search",
   "metadata": {
    "execution": {
     "iopub.execute_input": "2021-03-25T15:00:57.624551Z",
     "iopub.status.busy": "2021-03-25T15:00:57.623412Z",
     "iopub.status.idle": "2021-03-25T15:00:57.696940Z",
     "shell.execute_reply": "2021-03-25T15:00:57.697406Z"
    }
   },
   "outputs": [
    {
     "data": {
      "image/svg+xml": [
       "<?xml version=\"1.0\" encoding=\"UTF-8\" standalone=\"no\"?><svg xmlns=\"http://www.w3.org/2000/svg\" xmlns:xlink=\"http://www.w3.org/1999/xlink\" contentScriptType=\"application/ecmascript\" contentStyleType=\"text/css\" height=\"221px\" preserveAspectRatio=\"none\" style=\"width:213px;height:221px;\" version=\"1.1\" viewBox=\"0 0 213 221\" width=\"213px\" zoomAndPan=\"magnify\"><defs><filter height=\"300%\" id=\"fjwg27i9dggfe\" width=\"300%\" x=\"-1\" y=\"-1\"><feGaussianBlur result=\"blurOut\" stdDeviation=\"2.0\"/><feColorMatrix in=\"blurOut\" result=\"blurOut2\" type=\"matrix\" values=\"0 0 0 0 0 0 0 0 0 0 0 0 0 0 0 0 0 0 .4 0\"/><feOffset dx=\"4.0\" dy=\"4.0\" in=\"blurOut2\" result=\"blurOut3\"/><feBlend in=\"SourceGraphic\" in2=\"blurOut3\" mode=\"normal\"/></filter></defs><g><!--MD5=[fbc87193dbaf4d95561dea2c320d4a47]\n",
       "cluster E1--><a href=\"psysml:1ca4998e-7283-4312-8b1a-8c25c589ba37\" target=\"_top\" title=\"psysml:1ca4998e-7283-4312-8b1a-8c25c589ba37\" xlink:actuate=\"onRequest\" xlink:href=\"psysml:1ca4998e-7283-4312-8b1a-8c25c589ba37\" xlink:show=\"new\" xlink:title=\"psysml:1ca4998e-7283-4312-8b1a-8c25c589ba37\" xlink:type=\"simple\"><polygon fill=\"#FFFFFF\" filter=\"url(#fjwg27i9dggfe)\" points=\"16,6,34,6,41,28.2969,191,28.2969,191,209,16,209,16,6\" style=\"stroke: #000000; stroke-width: 1.5;\"/><line style=\"stroke: #000000; stroke-width: 1.5;\" x1=\"16\" x2=\"41\" y1=\"28.2969\" y2=\"28.2969\"/><text fill=\"#000000\" font-family=\"sans-serif\" font-size=\"14\" font-weight=\"bold\" lengthAdjust=\"spacingAndGlyphs\" textLength=\"12\" x=\"20\" y=\"20.9951\">Q</text></a><!--MD5=[b4997ac47864f28c2f74865a473b2911]\n",
       "class E2--><a href=\"psysml:9f0b35e2-e039-4fc1-a74b-e29bd15d28ff\" target=\"_top\" title=\"psysml:9f0b35e2-e039-4fc1-a74b-e29bd15d28ff\" xlink:actuate=\"onRequest\" xlink:href=\"psysml:9f0b35e2-e039-4fc1-a74b-e29bd15d28ff\" xlink:show=\"new\" xlink:title=\"psysml:9f0b35e2-e039-4fc1-a74b-e29bd15d28ff\" xlink:type=\"simple\"><rect fill=\"#FEFECE\" filter=\"url(#fjwg27i9dggfe)\" height=\"45.9375\" id=\"E2\" rx=\"10\" ry=\"10\" style=\"stroke: #A80036; stroke-width: 1.5;\" width=\"42\" x=\"133\" y=\"41\"/><text fill=\"#000000\" font-family=\"sans-serif\" font-size=\"12\" font-style=\"italic\" lengthAdjust=\"spacingAndGlyphs\" textLength=\"40\" x=\"134\" y=\"57.1387\">«part»</text><text fill=\"#000000\" font-family=\"sans-serif\" font-size=\"12\" lengthAdjust=\"spacingAndGlyphs\" textLength=\"4\" x=\"152\" y=\"71.1074\">f</text><line style=\"stroke: #A80036; stroke-width: 1.5;\" x1=\"134\" x2=\"174\" y1=\"78.9375\" y2=\"78.9375\"/></a><!--MD5=[09b614a08d8cba4a07c9adeb5e0fee81]\n",
       "class E3--><a href=\"psysml:9a16e398-0ba6-448d-aba1-0f88a9a52804\" target=\"_top\" title=\"psysml:9a16e398-0ba6-448d-aba1-0f88a9a52804\" xlink:actuate=\"onRequest\" xlink:href=\"psysml:9a16e398-0ba6-448d-aba1-0f88a9a52804\" xlink:show=\"new\" xlink:title=\"psysml:9a16e398-0ba6-448d-aba1-0f88a9a52804\" xlink:type=\"simple\"><rect fill=\"#FEFECE\" filter=\"url(#fjwg27i9dggfe)\" height=\"45.9375\" id=\"E3\" rx=\"10\" ry=\"10\" style=\"stroke: #A80036; stroke-width: 1.5;\" width=\"42\" x=\"133\" y=\"147\"/><text fill=\"#000000\" font-family=\"sans-serif\" font-size=\"12\" font-style=\"italic\" lengthAdjust=\"spacingAndGlyphs\" textLength=\"40\" x=\"134\" y=\"163.1387\">«part»</text><text fill=\"#000000\" font-family=\"sans-serif\" font-size=\"12\" lengthAdjust=\"spacingAndGlyphs\" textLength=\"8\" x=\"150\" y=\"177.1074\">a</text><line style=\"stroke: #A80036; stroke-width: 1.5;\" x1=\"134\" x2=\"174\" y1=\"184.9375\" y2=\"184.9375\"/></a><!--MD5=[ebbe1d658d1005bcc118a6aa81145e00]\n",
       "class E4--><a href=\"psysml:17ca64f8-f38a-4aec-8c02-fbca076b4a28\" target=\"_top\" title=\"psysml:17ca64f8-f38a-4aec-8c02-fbca076b4a28\" xlink:actuate=\"onRequest\" xlink:href=\"psysml:17ca64f8-f38a-4aec-8c02-fbca076b4a28\" xlink:show=\"new\" xlink:title=\"psysml:17ca64f8-f38a-4aec-8c02-fbca076b4a28\" xlink:type=\"simple\"><rect fill=\"#FEFECE\" filter=\"url(#fjwg27i9dggfe)\" height=\"45.9375\" id=\"E4\" style=\"stroke: #A80036; stroke-width: 1.5;\" width=\"66\" x=\"32\" y=\"41\"/><text fill=\"#000000\" font-family=\"sans-serif\" font-size=\"12\" font-style=\"italic\" lengthAdjust=\"spacingAndGlyphs\" textLength=\"64\" x=\"33\" y=\"57.1387\">«part def»</text><text fill=\"#000000\" font-family=\"sans-serif\" font-size=\"12\" lengthAdjust=\"spacingAndGlyphs\" textLength=\"8\" x=\"61\" y=\"71.1074\">C</text><line style=\"stroke: #A80036; stroke-width: 1.5;\" x1=\"33\" x2=\"97\" y1=\"78.9375\" y2=\"78.9375\"/></a><!--MD5=[270fce915f116d4de14055a7c1d9a0f3]\n",
       "class E5--><a href=\"psysml:43d8af85-10f5-4c20-8018-948df50254a5\" target=\"_top\" title=\"psysml:43d8af85-10f5-4c20-8018-948df50254a5\" xlink:actuate=\"onRequest\" xlink:href=\"psysml:43d8af85-10f5-4c20-8018-948df50254a5\" xlink:show=\"new\" xlink:title=\"psysml:43d8af85-10f5-4c20-8018-948df50254a5\" xlink:type=\"simple\"><rect fill=\"#FEFECE\" filter=\"url(#fjwg27i9dggfe)\" height=\"45.9375\" id=\"E5\" rx=\"10\" ry=\"10\" style=\"stroke: #A80036; stroke-width: 1.5;\" width=\"42\" x=\"44\" y=\"147\"/><text fill=\"#000000\" font-family=\"sans-serif\" font-size=\"12\" font-style=\"italic\" lengthAdjust=\"spacingAndGlyphs\" textLength=\"40\" x=\"45\" y=\"163.1387\">«part»</text><text fill=\"#000000\" font-family=\"sans-serif\" font-size=\"12\" lengthAdjust=\"spacingAndGlyphs\" textLength=\"8\" x=\"61\" y=\"177.1074\">g</text><line style=\"stroke: #A80036; stroke-width: 1.5;\" x1=\"45\" x2=\"85\" y1=\"184.9375\" y2=\"184.9375\"/></a><!--MD5=[209b3feb70ccb6233bfe1053d122c12c]\n",
       "reverse link E2 to E3--><a href=\"psysml:9a16e398-0ba6-448d-aba1-0f88a9a52804\" target=\"_top\" title=\"psysml:9a16e398-0ba6-448d-aba1-0f88a9a52804\" xlink:actuate=\"onRequest\" xlink:href=\"psysml:9a16e398-0ba6-448d-aba1-0f88a9a52804\" xlink:show=\"new\" xlink:title=\"psysml:9a16e398-0ba6-448d-aba1-0f88a9a52804\" xlink:type=\"simple\"><path d=\"M154,100.44 C154,115.87 154,133.47 154,146.98 \" fill=\"none\" id=\"E2&lt;-E3\" style=\"stroke: #A80036; stroke-width: 1.0;\"/><polygon fill=\"#A80036\" points=\"154,87.06,150,93.06,154,99.06,158,93.06,154,87.06\" style=\"stroke: #A80036; stroke-width: 1.0;\"/></a><!--MD5=[62aa6af11e70f752912c1cb0466f24f7]\n",
       "reverse link E4 to E5--><a href=\"psysml:43d8af85-10f5-4c20-8018-948df50254a5\" target=\"_top\" title=\"psysml:43d8af85-10f5-4c20-8018-948df50254a5\" xlink:actuate=\"onRequest\" xlink:href=\"psysml:43d8af85-10f5-4c20-8018-948df50254a5\" xlink:show=\"new\" xlink:title=\"psysml:43d8af85-10f5-4c20-8018-948df50254a5\" xlink:type=\"simple\"><path d=\"M65,100.44 C65,115.87 65,133.47 65,146.98 \" fill=\"none\" id=\"E4&lt;-E5\" style=\"stroke: #A80036; stroke-width: 1.0;\"/><polygon fill=\"#A80036\" points=\"65,87.06,61,93.06,65,99.06,69,93.06,65,87.06\" style=\"stroke: #A80036; stroke-width: 1.0;\"/></a><!--MD5=[fc28609c7507c968112e967b31f87015]\n",
       "@startuml\r\n",
       "skinparam wrapWidth 300\r\n",
       "hide circle\r\n",
       "\r\n",
       "package \"Q\" as E1  [[psysml:1ca4998e-7283-4312-8b1a-8c25c589ba37 ]]  {\r\n",
       "comp usage \"f\" as E2  <<(T,blue)part>> [[psysml:9f0b35e2-e039-4fc1-a74b-e29bd15d28ff ]] {\r\n",
       "}\r\n",
       "comp usage \"a\" as E3  <<(T,blue)part>> [[psysml:9a16e398-0ba6-448d-aba1-0f88a9a52804 ]] {\r\n",
       "}\r\n",
       "comp def \"C\" as E4  <<(T,blue)part def>> [[psysml:17ca64f8-f38a-4aec-8c02-fbca076b4a28 ]] {\r\n",
       "}\r\n",
       "comp usage \"g\" as E5  <<(T,blue)part>> [[psysml:43d8af85-10f5-4c20-8018-948df50254a5 ]] {\r\n",
       "}\r\n",
       "E2 *- - E3 [[psysml:9a16e398-0ba6-448d-aba1-0f88a9a52804 ]] \r\n",
       "E4 *- - E5 [[psysml:43d8af85-10f5-4c20-8018-948df50254a5 ]] \r\n",
       "}\r\n",
       "@enduml\r\n",
       "\n",
       "PlantUML version 1.2020.13(Sat Jun 13 12:26:38 UTC 2020)\n",
       "(EPL source distribution)\n",
       "Java Runtime: OpenJDK Runtime Environment\n",
       "JVM: OpenJDK 64-Bit Server VM\n",
       "Default Encoding: UTF-8\n",
       "Language: en\n",
       "Country: null\n",
       "--></g></svg>"
      ]
     },
     "execution_count": 29,
     "metadata": {},
     "output_type": "execute_result"
    }
   ],
   "source": [
    "%viz --style=\"STDCOLOR\" --view=\"MIXED\" \"Q\""
   ]
  },
  {
   "cell_type": "code",
   "execution_count": 30,
   "id": "polar-ultimate",
   "metadata": {
    "execution": {
     "iopub.execute_input": "2021-03-25T15:00:57.749937Z",
     "iopub.status.busy": "2021-03-25T15:00:57.748803Z",
     "iopub.status.idle": "2021-03-25T15:00:57.821056Z",
     "shell.execute_reply": "2021-03-25T15:00:57.819028Z"
    }
   },
   "outputs": [
    {
     "data": {
      "image/svg+xml": [
       "<?xml version=\"1.0\" encoding=\"UTF-8\" standalone=\"no\"?><svg xmlns=\"http://www.w3.org/2000/svg\" xmlns:xlink=\"http://www.w3.org/1999/xlink\" contentScriptType=\"application/ecmascript\" contentStyleType=\"text/css\" height=\"221px\" preserveAspectRatio=\"none\" style=\"width:241px;height:221px;\" version=\"1.1\" viewBox=\"0 0 241 221\" width=\"241px\" zoomAndPan=\"magnify\"><defs><filter height=\"300%\" id=\"f55q08q92uc3s\" width=\"300%\" x=\"-1\" y=\"-1\"><feGaussianBlur result=\"blurOut\" stdDeviation=\"2.0\"/><feColorMatrix in=\"blurOut\" result=\"blurOut2\" type=\"matrix\" values=\"0 0 0 0 0 0 0 0 0 0 0 0 0 0 0 0 0 0 .4 0\"/><feOffset dx=\"4.0\" dy=\"4.0\" in=\"blurOut2\" result=\"blurOut3\"/><feBlend in=\"SourceGraphic\" in2=\"blurOut3\" mode=\"normal\"/></filter></defs><g><!--MD5=[fbc87193dbaf4d95561dea2c320d4a47]\n",
       "cluster E1--><a href=\"psysml:1ca4998e-7283-4312-8b1a-8c25c589ba37\" target=\"_top\" title=\"psysml:1ca4998e-7283-4312-8b1a-8c25c589ba37\" xlink:actuate=\"onRequest\" xlink:href=\"psysml:1ca4998e-7283-4312-8b1a-8c25c589ba37\" xlink:show=\"new\" xlink:title=\"psysml:1ca4998e-7283-4312-8b1a-8c25c589ba37\" xlink:type=\"simple\"><polygon fill=\"#FFFFFF\" filter=\"url(#f55q08q92uc3s)\" points=\"16,6,34,6,41,28.2969,219,28.2969,219,209,16,209,16,6\" style=\"stroke: #000000; stroke-width: 1.5;\"/><line style=\"stroke: #000000; stroke-width: 1.5;\" x1=\"16\" x2=\"41\" y1=\"28.2969\" y2=\"28.2969\"/><text fill=\"#000000\" font-family=\"sans-serif\" font-size=\"14\" font-weight=\"bold\" lengthAdjust=\"spacingAndGlyphs\" textLength=\"12\" x=\"20\" y=\"20.9951\">Q</text></a><!--MD5=[b4997ac47864f28c2f74865a473b2911]\n",
       "class E2--><a href=\"psysml:9f0b35e2-e039-4fc1-a74b-e29bd15d28ff\" target=\"_top\" title=\"psysml:9f0b35e2-e039-4fc1-a74b-e29bd15d28ff\" xlink:actuate=\"onRequest\" xlink:href=\"psysml:9f0b35e2-e039-4fc1-a74b-e29bd15d28ff\" xlink:show=\"new\" xlink:title=\"psysml:9f0b35e2-e039-4fc1-a74b-e29bd15d28ff\" xlink:type=\"simple\"><rect fill=\"#FEFECE\" filter=\"url(#f55q08q92uc3s)\" height=\"45.9375\" id=\"E2\" rx=\"10\" ry=\"10\" style=\"stroke: #A80036; stroke-width: 1.5;\" width=\"68\" x=\"135\" y=\"41\"/><ellipse cx=\"150\" cy=\"59.9688\" fill=\"#32CD32\" rx=\"11\" ry=\"11\" style=\"stroke: #A80036; stroke-width: 1.0;\"/><path d=\"M149.7969,55.6406 L149.7969,59.2656 L150.7969,59.2656 Q152,59.2656 152.4844,58.8594 Q152.9688,58.4531 152.9688,57.4531 Q152.9688,56.4531 152.4844,56.0469 Q152,55.6406 150.7969,55.6406 L149.7969,55.6406 Z M147.3438,53.5781 L150.7031,53.5781 Q153.2656,53.5781 154.3906,54.5 Q155.5156,55.4063 155.5156,57.4531 Q155.5156,59.5 154.3906,60.4219 Q153.2656,61.3281 150.7031,61.3281 L149.7969,61.3281 L149.7969,65.9688 L147.3438,65.9688 L147.3438,53.5781 Z \"/><text fill=\"#000000\" font-family=\"sans-serif\" font-size=\"12\" font-style=\"italic\" lengthAdjust=\"spacingAndGlyphs\" textLength=\"40\" x=\"162\" y=\"57.1387\">«part»</text><text fill=\"#000000\" font-family=\"sans-serif\" font-size=\"12\" lengthAdjust=\"spacingAndGlyphs\" textLength=\"4\" x=\"180\" y=\"71.1074\">f</text><line style=\"stroke: #A80036; stroke-width: 1.5;\" x1=\"136\" x2=\"202\" y1=\"78.9375\" y2=\"78.9375\"/></a><!--MD5=[09b614a08d8cba4a07c9adeb5e0fee81]\n",
       "class E3--><a href=\"psysml:9a16e398-0ba6-448d-aba1-0f88a9a52804\" target=\"_top\" title=\"psysml:9a16e398-0ba6-448d-aba1-0f88a9a52804\" xlink:actuate=\"onRequest\" xlink:href=\"psysml:9a16e398-0ba6-448d-aba1-0f88a9a52804\" xlink:show=\"new\" xlink:title=\"psysml:9a16e398-0ba6-448d-aba1-0f88a9a52804\" xlink:type=\"simple\"><rect fill=\"#FEFECE\" filter=\"url(#f55q08q92uc3s)\" height=\"45.9375\" id=\"E3\" rx=\"10\" ry=\"10\" style=\"stroke: #A80036; stroke-width: 1.5;\" width=\"68\" x=\"135\" y=\"147\"/><ellipse cx=\"150\" cy=\"165.9688\" fill=\"#32CD32\" rx=\"11\" ry=\"11\" style=\"stroke: #A80036; stroke-width: 1.0;\"/><path d=\"M149.7969,161.6406 L149.7969,165.2656 L150.7969,165.2656 Q152,165.2656 152.4844,164.8594 Q152.9688,164.4531 152.9688,163.4531 Q152.9688,162.4531 152.4844,162.0469 Q152,161.6406 150.7969,161.6406 L149.7969,161.6406 Z M147.3438,159.5781 L150.7031,159.5781 Q153.2656,159.5781 154.3906,160.5 Q155.5156,161.4063 155.5156,163.4531 Q155.5156,165.5 154.3906,166.4219 Q153.2656,167.3281 150.7031,167.3281 L149.7969,167.3281 L149.7969,171.9688 L147.3438,171.9688 L147.3438,159.5781 Z \"/><text fill=\"#000000\" font-family=\"sans-serif\" font-size=\"12\" font-style=\"italic\" lengthAdjust=\"spacingAndGlyphs\" textLength=\"40\" x=\"162\" y=\"163.1387\">«part»</text><text fill=\"#000000\" font-family=\"sans-serif\" font-size=\"12\" lengthAdjust=\"spacingAndGlyphs\" textLength=\"8\" x=\"178\" y=\"177.1074\">a</text><line style=\"stroke: #A80036; stroke-width: 1.5;\" x1=\"136\" x2=\"202\" y1=\"184.9375\" y2=\"184.9375\"/></a><!--MD5=[ebbe1d658d1005bcc118a6aa81145e00]\n",
       "class E4--><a href=\"psysml:17ca64f8-f38a-4aec-8c02-fbca076b4a28\" target=\"_top\" title=\"psysml:17ca64f8-f38a-4aec-8c02-fbca076b4a28\" xlink:actuate=\"onRequest\" xlink:href=\"psysml:17ca64f8-f38a-4aec-8c02-fbca076b4a28\" xlink:show=\"new\" xlink:title=\"psysml:17ca64f8-f38a-4aec-8c02-fbca076b4a28\" xlink:type=\"simple\"><rect fill=\"#FEFECE\" filter=\"url(#f55q08q92uc3s)\" height=\"40\" id=\"E4\" style=\"stroke: #A80036; stroke-width: 1.5;\" width=\"40\" x=\"46\" y=\"44\"/><ellipse cx=\"61\" cy=\"60\" fill=\"#008000\" rx=\"11\" ry=\"11\" style=\"stroke: #A80036; stroke-width: 1.0;\"/><path d=\"M59.9063,60.375 L59.9063,64.0469 L61.5313,64.0469 Q62.7031,64.0469 63.1719,63.6563 Q63.6406,63.25 63.6406,62.25 Q63.6406,61.25 63.1406,60.8125 Q62.6563,60.375 61.5313,60.375 L59.9063,60.375 Z M59.9063,55.5469 L59.9063,58.4219 L61.5313,58.4219 Q62.4531,58.4219 62.8438,58.0938 Q63.25,57.75 63.25,57 Q63.25,56.2344 62.8438,55.8906 Q62.4375,55.5469 61.5313,55.5469 L59.9063,55.5469 Z M57.5313,53.5938 L61.5313,53.5938 Q63.5938,53.5938 64.6406,54.375 Q65.6875,55.1563 65.6875,56.7188 Q65.6875,57.9219 65.0625,58.5938 Q64.4531,59.2656 63.2656,59.375 Q64.6875,59.5156 65.4063,60.3281 Q66.125,61.1406 66.125,62.5938 Q66.125,64.3906 65.0469,65.2031 Q63.9688,66 61.5313,66 L57.5313,66 L57.5313,53.5938 Z \"/><text fill=\"#000000\" font-family=\"sans-serif\" font-size=\"12\" lengthAdjust=\"spacingAndGlyphs\" textLength=\"8\" x=\"75\" y=\"64.1543\">C</text><line style=\"stroke: #A80036; stroke-width: 1.5;\" x1=\"47\" x2=\"85\" y1=\"76\" y2=\"76\"/></a><!--MD5=[270fce915f116d4de14055a7c1d9a0f3]\n",
       "class E5--><a href=\"psysml:43d8af85-10f5-4c20-8018-948df50254a5\" target=\"_top\" title=\"psysml:43d8af85-10f5-4c20-8018-948df50254a5\" xlink:actuate=\"onRequest\" xlink:href=\"psysml:43d8af85-10f5-4c20-8018-948df50254a5\" xlink:show=\"new\" xlink:title=\"psysml:43d8af85-10f5-4c20-8018-948df50254a5\" xlink:type=\"simple\"><rect fill=\"#FEFECE\" filter=\"url(#f55q08q92uc3s)\" height=\"45.9375\" id=\"E5\" rx=\"10\" ry=\"10\" style=\"stroke: #A80036; stroke-width: 1.5;\" width=\"68\" x=\"32\" y=\"147\"/><ellipse cx=\"47\" cy=\"165.9688\" fill=\"#32CD32\" rx=\"11\" ry=\"11\" style=\"stroke: #A80036; stroke-width: 1.0;\"/><path d=\"M46.7969,161.6406 L46.7969,165.2656 L47.7969,165.2656 Q49,165.2656 49.4844,164.8594 Q49.9688,164.4531 49.9688,163.4531 Q49.9688,162.4531 49.4844,162.0469 Q49,161.6406 47.7969,161.6406 L46.7969,161.6406 Z M44.3438,159.5781 L47.7031,159.5781 Q50.2656,159.5781 51.3906,160.5 Q52.5156,161.4063 52.5156,163.4531 Q52.5156,165.5 51.3906,166.4219 Q50.2656,167.3281 47.7031,167.3281 L46.7969,167.3281 L46.7969,171.9688 L44.3438,171.9688 L44.3438,159.5781 Z \"/><text fill=\"#000000\" font-family=\"sans-serif\" font-size=\"12\" font-style=\"italic\" lengthAdjust=\"spacingAndGlyphs\" textLength=\"40\" x=\"59\" y=\"163.1387\">«part»</text><text fill=\"#000000\" font-family=\"sans-serif\" font-size=\"12\" lengthAdjust=\"spacingAndGlyphs\" textLength=\"8\" x=\"75\" y=\"177.1074\">g</text><line style=\"stroke: #A80036; stroke-width: 1.5;\" x1=\"33\" x2=\"99\" y1=\"184.9375\" y2=\"184.9375\"/></a><!--MD5=[209b3feb70ccb6233bfe1053d122c12c]\n",
       "reverse link E2 to E3--><a href=\"psysml:9a16e398-0ba6-448d-aba1-0f88a9a52804\" target=\"_top\" title=\"psysml:9a16e398-0ba6-448d-aba1-0f88a9a52804\" xlink:actuate=\"onRequest\" xlink:href=\"psysml:9a16e398-0ba6-448d-aba1-0f88a9a52804\" xlink:show=\"new\" xlink:title=\"psysml:9a16e398-0ba6-448d-aba1-0f88a9a52804\" xlink:type=\"simple\"><path d=\"M169,100.44 C169,115.87 169,133.47 169,146.98 \" fill=\"none\" id=\"E2&lt;-E3\" style=\"stroke: #A80036; stroke-width: 1.0;\"/><polygon fill=\"#A80036\" points=\"169,87.06,165,93.06,169,99.06,173,93.06,169,87.06\" style=\"stroke: #A80036; stroke-width: 1.0;\"/></a><!--MD5=[62aa6af11e70f752912c1cb0466f24f7]\n",
       "reverse link E4 to E5--><a href=\"psysml:43d8af85-10f5-4c20-8018-948df50254a5\" target=\"_top\" title=\"psysml:43d8af85-10f5-4c20-8018-948df50254a5\" xlink:actuate=\"onRequest\" xlink:href=\"psysml:43d8af85-10f5-4c20-8018-948df50254a5\" xlink:show=\"new\" xlink:title=\"psysml:43d8af85-10f5-4c20-8018-948df50254a5\" xlink:type=\"simple\"><path d=\"M66,97.25 C66,113.33 66,132.37 66,146.8 \" fill=\"none\" id=\"E4&lt;-E5\" style=\"stroke: #A80036; stroke-width: 1.0;\"/><polygon fill=\"#A80036\" points=\"66,84.08,62,90.08,66,96.08,70,90.08,66,84.08\" style=\"stroke: #A80036; stroke-width: 1.0;\"/></a><!--MD5=[92936da69b51b3a457d22d7e5792551c]\n",
       "@startuml\r\n",
       " \r\n",
       "package \"Q\" as E1  [[psysml:1ca4998e-7283-4312-8b1a-8c25c589ba37 ]]  {\r\n",
       "comp usage \"f\" as E2  << (P,limegreen) part>> [[psysml:9f0b35e2-e039-4fc1-a74b-e29bd15d28ff ]] {\r\n",
       "}\r\n",
       "comp usage \"a\" as E3  << (P,limegreen) part>> [[psysml:9a16e398-0ba6-448d-aba1-0f88a9a52804 ]] {\r\n",
       "}\r\n",
       "comp def \"C\" as E4  << (B,green) >> [[psysml:17ca64f8-f38a-4aec-8c02-fbca076b4a28 ]] {\r\n",
       "}\r\n",
       "comp usage \"g\" as E5  << (P,limegreen) part>> [[psysml:43d8af85-10f5-4c20-8018-948df50254a5 ]] {\r\n",
       "}\r\n",
       "E2 *- - E3 [[psysml:9a16e398-0ba6-448d-aba1-0f88a9a52804 ]] \r\n",
       "E4 *- - E5 [[psysml:43d8af85-10f5-4c20-8018-948df50254a5 ]] \r\n",
       "}\r\n",
       "@enduml\r\n",
       "\n",
       "PlantUML version 1.2020.13(Sat Jun 13 12:26:38 UTC 2020)\n",
       "(EPL source distribution)\n",
       "Java Runtime: OpenJDK Runtime Environment\n",
       "JVM: OpenJDK 64-Bit Server VM\n",
       "Default Encoding: UTF-8\n",
       "Language: en\n",
       "Country: null\n",
       "--></g></svg>"
      ]
     },
     "execution_count": 30,
     "metadata": {},
     "output_type": "execute_result"
    }
   ],
   "source": [
    "%viz --style=\"PLANTUML\" --view=\"Default\" \"Q\""
   ]
  },
  {
   "cell_type": "code",
   "execution_count": 31,
   "id": "disabled-applicant",
   "metadata": {
    "execution": {
     "iopub.execute_input": "2021-03-25T15:00:57.872230Z",
     "iopub.status.busy": "2021-03-25T15:00:57.871608Z",
     "iopub.status.idle": "2021-03-25T15:00:57.936078Z",
     "shell.execute_reply": "2021-03-25T15:00:57.935745Z"
    }
   },
   "outputs": [
    {
     "data": {
      "image/svg+xml": [
       "<?xml version=\"1.0\" encoding=\"UTF-8\" standalone=\"no\"?><svg xmlns=\"http://www.w3.org/2000/svg\" xmlns:xlink=\"http://www.w3.org/1999/xlink\" contentScriptType=\"application/ecmascript\" contentStyleType=\"text/css\" height=\"221px\" preserveAspectRatio=\"none\" style=\"width:241px;height:221px;\" version=\"1.1\" viewBox=\"0 0 241 221\" width=\"241px\" zoomAndPan=\"magnify\"><defs><filter height=\"300%\" id=\"f55q08q92uc3s\" width=\"300%\" x=\"-1\" y=\"-1\"><feGaussianBlur result=\"blurOut\" stdDeviation=\"2.0\"/><feColorMatrix in=\"blurOut\" result=\"blurOut2\" type=\"matrix\" values=\"0 0 0 0 0 0 0 0 0 0 0 0 0 0 0 0 0 0 .4 0\"/><feOffset dx=\"4.0\" dy=\"4.0\" in=\"blurOut2\" result=\"blurOut3\"/><feBlend in=\"SourceGraphic\" in2=\"blurOut3\" mode=\"normal\"/></filter></defs><g><!--MD5=[fbc87193dbaf4d95561dea2c320d4a47]\n",
       "cluster E1--><a href=\"psysml:1ca4998e-7283-4312-8b1a-8c25c589ba37\" target=\"_top\" title=\"psysml:1ca4998e-7283-4312-8b1a-8c25c589ba37\" xlink:actuate=\"onRequest\" xlink:href=\"psysml:1ca4998e-7283-4312-8b1a-8c25c589ba37\" xlink:show=\"new\" xlink:title=\"psysml:1ca4998e-7283-4312-8b1a-8c25c589ba37\" xlink:type=\"simple\"><polygon fill=\"#FFFFFF\" filter=\"url(#f55q08q92uc3s)\" points=\"16,6,34,6,41,28.2969,219,28.2969,219,209,16,209,16,6\" style=\"stroke: #000000; stroke-width: 1.5;\"/><line style=\"stroke: #000000; stroke-width: 1.5;\" x1=\"16\" x2=\"41\" y1=\"28.2969\" y2=\"28.2969\"/><text fill=\"#000000\" font-family=\"sans-serif\" font-size=\"14\" font-weight=\"bold\" lengthAdjust=\"spacingAndGlyphs\" textLength=\"12\" x=\"20\" y=\"20.9951\">Q</text></a><!--MD5=[b4997ac47864f28c2f74865a473b2911]\n",
       "class E2--><a href=\"psysml:9f0b35e2-e039-4fc1-a74b-e29bd15d28ff\" target=\"_top\" title=\"psysml:9f0b35e2-e039-4fc1-a74b-e29bd15d28ff\" xlink:actuate=\"onRequest\" xlink:href=\"psysml:9f0b35e2-e039-4fc1-a74b-e29bd15d28ff\" xlink:show=\"new\" xlink:title=\"psysml:9f0b35e2-e039-4fc1-a74b-e29bd15d28ff\" xlink:type=\"simple\"><rect fill=\"#FEFECE\" filter=\"url(#f55q08q92uc3s)\" height=\"45.9375\" id=\"E2\" rx=\"10\" ry=\"10\" style=\"stroke: #A80036; stroke-width: 1.5;\" width=\"68\" x=\"135\" y=\"41\"/><ellipse cx=\"150\" cy=\"59.9688\" fill=\"#32CD32\" rx=\"11\" ry=\"11\" style=\"stroke: #A80036; stroke-width: 1.0;\"/><path d=\"M149.7969,55.6406 L149.7969,59.2656 L150.7969,59.2656 Q152,59.2656 152.4844,58.8594 Q152.9688,58.4531 152.9688,57.4531 Q152.9688,56.4531 152.4844,56.0469 Q152,55.6406 150.7969,55.6406 L149.7969,55.6406 Z M147.3438,53.5781 L150.7031,53.5781 Q153.2656,53.5781 154.3906,54.5 Q155.5156,55.4063 155.5156,57.4531 Q155.5156,59.5 154.3906,60.4219 Q153.2656,61.3281 150.7031,61.3281 L149.7969,61.3281 L149.7969,65.9688 L147.3438,65.9688 L147.3438,53.5781 Z \"/><text fill=\"#000000\" font-family=\"sans-serif\" font-size=\"12\" font-style=\"italic\" lengthAdjust=\"spacingAndGlyphs\" textLength=\"40\" x=\"162\" y=\"57.1387\">«part»</text><text fill=\"#000000\" font-family=\"sans-serif\" font-size=\"12\" lengthAdjust=\"spacingAndGlyphs\" textLength=\"4\" x=\"180\" y=\"71.1074\">f</text><line style=\"stroke: #A80036; stroke-width: 1.5;\" x1=\"136\" x2=\"202\" y1=\"78.9375\" y2=\"78.9375\"/></a><!--MD5=[09b614a08d8cba4a07c9adeb5e0fee81]\n",
       "class E3--><a href=\"psysml:9a16e398-0ba6-448d-aba1-0f88a9a52804\" target=\"_top\" title=\"psysml:9a16e398-0ba6-448d-aba1-0f88a9a52804\" xlink:actuate=\"onRequest\" xlink:href=\"psysml:9a16e398-0ba6-448d-aba1-0f88a9a52804\" xlink:show=\"new\" xlink:title=\"psysml:9a16e398-0ba6-448d-aba1-0f88a9a52804\" xlink:type=\"simple\"><rect fill=\"#FEFECE\" filter=\"url(#f55q08q92uc3s)\" height=\"45.9375\" id=\"E3\" rx=\"10\" ry=\"10\" style=\"stroke: #A80036; stroke-width: 1.5;\" width=\"68\" x=\"135\" y=\"147\"/><ellipse cx=\"150\" cy=\"165.9688\" fill=\"#32CD32\" rx=\"11\" ry=\"11\" style=\"stroke: #A80036; stroke-width: 1.0;\"/><path d=\"M149.7969,161.6406 L149.7969,165.2656 L150.7969,165.2656 Q152,165.2656 152.4844,164.8594 Q152.9688,164.4531 152.9688,163.4531 Q152.9688,162.4531 152.4844,162.0469 Q152,161.6406 150.7969,161.6406 L149.7969,161.6406 Z M147.3438,159.5781 L150.7031,159.5781 Q153.2656,159.5781 154.3906,160.5 Q155.5156,161.4063 155.5156,163.4531 Q155.5156,165.5 154.3906,166.4219 Q153.2656,167.3281 150.7031,167.3281 L149.7969,167.3281 L149.7969,171.9688 L147.3438,171.9688 L147.3438,159.5781 Z \"/><text fill=\"#000000\" font-family=\"sans-serif\" font-size=\"12\" font-style=\"italic\" lengthAdjust=\"spacingAndGlyphs\" textLength=\"40\" x=\"162\" y=\"163.1387\">«part»</text><text fill=\"#000000\" font-family=\"sans-serif\" font-size=\"12\" lengthAdjust=\"spacingAndGlyphs\" textLength=\"8\" x=\"178\" y=\"177.1074\">a</text><line style=\"stroke: #A80036; stroke-width: 1.5;\" x1=\"136\" x2=\"202\" y1=\"184.9375\" y2=\"184.9375\"/></a><!--MD5=[ebbe1d658d1005bcc118a6aa81145e00]\n",
       "class E4--><a href=\"psysml:17ca64f8-f38a-4aec-8c02-fbca076b4a28\" target=\"_top\" title=\"psysml:17ca64f8-f38a-4aec-8c02-fbca076b4a28\" xlink:actuate=\"onRequest\" xlink:href=\"psysml:17ca64f8-f38a-4aec-8c02-fbca076b4a28\" xlink:show=\"new\" xlink:title=\"psysml:17ca64f8-f38a-4aec-8c02-fbca076b4a28\" xlink:type=\"simple\"><rect fill=\"#FEFECE\" filter=\"url(#f55q08q92uc3s)\" height=\"40\" id=\"E4\" style=\"stroke: #A80036; stroke-width: 1.5;\" width=\"40\" x=\"46\" y=\"44\"/><ellipse cx=\"61\" cy=\"60\" fill=\"#008000\" rx=\"11\" ry=\"11\" style=\"stroke: #A80036; stroke-width: 1.0;\"/><path d=\"M59.9063,60.375 L59.9063,64.0469 L61.5313,64.0469 Q62.7031,64.0469 63.1719,63.6563 Q63.6406,63.25 63.6406,62.25 Q63.6406,61.25 63.1406,60.8125 Q62.6563,60.375 61.5313,60.375 L59.9063,60.375 Z M59.9063,55.5469 L59.9063,58.4219 L61.5313,58.4219 Q62.4531,58.4219 62.8438,58.0938 Q63.25,57.75 63.25,57 Q63.25,56.2344 62.8438,55.8906 Q62.4375,55.5469 61.5313,55.5469 L59.9063,55.5469 Z M57.5313,53.5938 L61.5313,53.5938 Q63.5938,53.5938 64.6406,54.375 Q65.6875,55.1563 65.6875,56.7188 Q65.6875,57.9219 65.0625,58.5938 Q64.4531,59.2656 63.2656,59.375 Q64.6875,59.5156 65.4063,60.3281 Q66.125,61.1406 66.125,62.5938 Q66.125,64.3906 65.0469,65.2031 Q63.9688,66 61.5313,66 L57.5313,66 L57.5313,53.5938 Z \"/><text fill=\"#000000\" font-family=\"sans-serif\" font-size=\"12\" lengthAdjust=\"spacingAndGlyphs\" textLength=\"8\" x=\"75\" y=\"64.1543\">C</text><line style=\"stroke: #A80036; stroke-width: 1.5;\" x1=\"47\" x2=\"85\" y1=\"76\" y2=\"76\"/></a><!--MD5=[270fce915f116d4de14055a7c1d9a0f3]\n",
       "class E5--><a href=\"psysml:43d8af85-10f5-4c20-8018-948df50254a5\" target=\"_top\" title=\"psysml:43d8af85-10f5-4c20-8018-948df50254a5\" xlink:actuate=\"onRequest\" xlink:href=\"psysml:43d8af85-10f5-4c20-8018-948df50254a5\" xlink:show=\"new\" xlink:title=\"psysml:43d8af85-10f5-4c20-8018-948df50254a5\" xlink:type=\"simple\"><rect fill=\"#FEFECE\" filter=\"url(#f55q08q92uc3s)\" height=\"45.9375\" id=\"E5\" rx=\"10\" ry=\"10\" style=\"stroke: #A80036; stroke-width: 1.5;\" width=\"68\" x=\"32\" y=\"147\"/><ellipse cx=\"47\" cy=\"165.9688\" fill=\"#32CD32\" rx=\"11\" ry=\"11\" style=\"stroke: #A80036; stroke-width: 1.0;\"/><path d=\"M46.7969,161.6406 L46.7969,165.2656 L47.7969,165.2656 Q49,165.2656 49.4844,164.8594 Q49.9688,164.4531 49.9688,163.4531 Q49.9688,162.4531 49.4844,162.0469 Q49,161.6406 47.7969,161.6406 L46.7969,161.6406 Z M44.3438,159.5781 L47.7031,159.5781 Q50.2656,159.5781 51.3906,160.5 Q52.5156,161.4063 52.5156,163.4531 Q52.5156,165.5 51.3906,166.4219 Q50.2656,167.3281 47.7031,167.3281 L46.7969,167.3281 L46.7969,171.9688 L44.3438,171.9688 L44.3438,159.5781 Z \"/><text fill=\"#000000\" font-family=\"sans-serif\" font-size=\"12\" font-style=\"italic\" lengthAdjust=\"spacingAndGlyphs\" textLength=\"40\" x=\"59\" y=\"163.1387\">«part»</text><text fill=\"#000000\" font-family=\"sans-serif\" font-size=\"12\" lengthAdjust=\"spacingAndGlyphs\" textLength=\"8\" x=\"75\" y=\"177.1074\">g</text><line style=\"stroke: #A80036; stroke-width: 1.5;\" x1=\"33\" x2=\"99\" y1=\"184.9375\" y2=\"184.9375\"/></a><!--MD5=[209b3feb70ccb6233bfe1053d122c12c]\n",
       "reverse link E2 to E3--><a href=\"psysml:9a16e398-0ba6-448d-aba1-0f88a9a52804\" target=\"_top\" title=\"psysml:9a16e398-0ba6-448d-aba1-0f88a9a52804\" xlink:actuate=\"onRequest\" xlink:href=\"psysml:9a16e398-0ba6-448d-aba1-0f88a9a52804\" xlink:show=\"new\" xlink:title=\"psysml:9a16e398-0ba6-448d-aba1-0f88a9a52804\" xlink:type=\"simple\"><path d=\"M169,100.44 C169,115.87 169,133.47 169,146.98 \" fill=\"none\" id=\"E2&lt;-E3\" style=\"stroke: #A80036; stroke-width: 1.0;\"/><polygon fill=\"#A80036\" points=\"169,87.06,165,93.06,169,99.06,173,93.06,169,87.06\" style=\"stroke: #A80036; stroke-width: 1.0;\"/></a><!--MD5=[62aa6af11e70f752912c1cb0466f24f7]\n",
       "reverse link E4 to E5--><a href=\"psysml:43d8af85-10f5-4c20-8018-948df50254a5\" target=\"_top\" title=\"psysml:43d8af85-10f5-4c20-8018-948df50254a5\" xlink:actuate=\"onRequest\" xlink:href=\"psysml:43d8af85-10f5-4c20-8018-948df50254a5\" xlink:show=\"new\" xlink:title=\"psysml:43d8af85-10f5-4c20-8018-948df50254a5\" xlink:type=\"simple\"><path d=\"M66,97.25 C66,113.33 66,132.37 66,146.8 \" fill=\"none\" id=\"E4&lt;-E5\" style=\"stroke: #A80036; stroke-width: 1.0;\"/><polygon fill=\"#A80036\" points=\"66,84.08,62,90.08,66,96.08,70,90.08,66,84.08\" style=\"stroke: #A80036; stroke-width: 1.0;\"/></a><!--MD5=[92936da69b51b3a457d22d7e5792551c]\n",
       "@startuml\r\n",
       " \r\n",
       "package \"Q\" as E1  [[psysml:1ca4998e-7283-4312-8b1a-8c25c589ba37 ]]  {\r\n",
       "comp usage \"f\" as E2  << (P,limegreen) part>> [[psysml:9f0b35e2-e039-4fc1-a74b-e29bd15d28ff ]] {\r\n",
       "}\r\n",
       "comp usage \"a\" as E3  << (P,limegreen) part>> [[psysml:9a16e398-0ba6-448d-aba1-0f88a9a52804 ]] {\r\n",
       "}\r\n",
       "comp def \"C\" as E4  << (B,green) >> [[psysml:17ca64f8-f38a-4aec-8c02-fbca076b4a28 ]] {\r\n",
       "}\r\n",
       "comp usage \"g\" as E5  << (P,limegreen) part>> [[psysml:43d8af85-10f5-4c20-8018-948df50254a5 ]] {\r\n",
       "}\r\n",
       "E2 *- - E3 [[psysml:9a16e398-0ba6-448d-aba1-0f88a9a52804 ]] \r\n",
       "E4 *- - E5 [[psysml:43d8af85-10f5-4c20-8018-948df50254a5 ]] \r\n",
       "}\r\n",
       "@enduml\r\n",
       "\n",
       "PlantUML version 1.2020.13(Sat Jun 13 12:26:38 UTC 2020)\n",
       "(EPL source distribution)\n",
       "Java Runtime: OpenJDK Runtime Environment\n",
       "JVM: OpenJDK 64-Bit Server VM\n",
       "Default Encoding: UTF-8\n",
       "Language: en\n",
       "Country: null\n",
       "--></g></svg>"
      ]
     },
     "execution_count": 31,
     "metadata": {},
     "output_type": "execute_result"
    }
   ],
   "source": [
    "%viz --style=\"PLANTUML\" --view=\"Tree\" \"Q\""
   ]
  },
  {
   "cell_type": "code",
   "execution_count": 32,
   "id": "adjustable-minister",
   "metadata": {
    "execution": {
     "iopub.execute_input": "2021-03-25T15:00:57.986805Z",
     "iopub.status.busy": "2021-03-25T15:00:57.986377Z",
     "iopub.status.idle": "2021-03-25T15:00:58.952091Z",
     "shell.execute_reply": "2021-03-25T15:00:58.950873Z"
    }
   },
   "outputs": [
    {
     "data": {
      "image/svg+xml": [
       "<?xml version=\"1.0\" encoding=\"UTF-8\" standalone=\"no\"?><svg xmlns=\"http://www.w3.org/2000/svg\" xmlns:xlink=\"http://www.w3.org/1999/xlink\" contentScriptType=\"application/ecmascript\" contentStyleType=\"text/css\" height=\"303px\" preserveAspectRatio=\"none\" style=\"width:603px;height:303px;background:#000000;\" version=\"1.1\" viewBox=\"0 0 603 303\" width=\"603px\" zoomAndPan=\"magnify\"><defs/><g><rect fill=\"#0A0D11\" height=\"1\" style=\"stroke: #0A0D11; stroke-width: 1.0;\" width=\"1\" x=\"0\" y=\"0\"/><rect fill=\"#FFFFFF\" height=\"205.5625\" style=\"stroke: #FFFFFF; stroke-width: 1.0;\" width=\"602\" x=\"0\" y=\"0\"/><text fill=\"#000000\" font-family=\"sans-serif\" font-size=\"12\" font-weight=\"bold\" lengthAdjust=\"spacingAndGlyphs\" textLength=\"159\" x=\"5\" y=\"16.1387\">Welcome to PlantUML!</text><text fill=\"#000000\" font-family=\"sans-serif\" font-size=\"12\" lengthAdjust=\"spacingAndGlyphs\" textLength=\"0\" x=\"9\" y=\"30.1074\"/><text fill=\"#000000\" font-family=\"sans-serif\" font-size=\"12\" lengthAdjust=\"spacingAndGlyphs\" textLength=\"293\" x=\"5\" y=\"44.0762\">If you use this software, you accept its license.</text><text fill=\"#000000\" font-family=\"sans-serif\" font-size=\"12\" lengthAdjust=\"spacingAndGlyphs\" textLength=\"107\" x=\"5\" y=\"58.0449\">(details by typing</text><text fill=\"#000000\" font-family=\"monospace\" font-size=\"12\" lengthAdjust=\"spacingAndGlyphs\" textLength=\"49\" x=\"116\" y=\"58.0449\">license</text><text fill=\"#000000\" font-family=\"sans-serif\" font-size=\"12\" lengthAdjust=\"spacingAndGlyphs\" textLength=\"56\" x=\"169\" y=\"58.0449\">keyword)</text><text fill=\"#000000\" font-family=\"sans-serif\" font-size=\"12\" lengthAdjust=\"spacingAndGlyphs\" textLength=\"0\" x=\"9\" y=\"72.0137\"/><text fill=\"#000000\" font-family=\"sans-serif\" font-size=\"12\" lengthAdjust=\"spacingAndGlyphs\" textLength=\"283\" x=\"5\" y=\"85.9824\">You can start with a simple UML Diagram like:</text><text fill=\"#000000\" font-family=\"sans-serif\" font-size=\"12\" lengthAdjust=\"spacingAndGlyphs\" textLength=\"0\" x=\"9\" y=\"99.9512\"/><text fill=\"#000000\" font-family=\"monospace\" font-size=\"12\" lengthAdjust=\"spacingAndGlyphs\" textLength=\"119\" x=\"5\" y=\"113.9199\">Bob-&gt;Alice: Hello</text><text fill=\"#000000\" font-family=\"sans-serif\" font-size=\"12\" lengthAdjust=\"spacingAndGlyphs\" textLength=\"0\" x=\"9\" y=\"127.8887\"/><text fill=\"#000000\" font-family=\"sans-serif\" font-size=\"12\" lengthAdjust=\"spacingAndGlyphs\" textLength=\"14\" x=\"5\" y=\"141.8574\">Or</text><text fill=\"#000000\" font-family=\"sans-serif\" font-size=\"12\" lengthAdjust=\"spacingAndGlyphs\" textLength=\"0\" x=\"9\" y=\"155.8262\"/><text fill=\"#000000\" font-family=\"monospace\" font-size=\"12\" lengthAdjust=\"spacingAndGlyphs\" textLength=\"91\" x=\"5\" y=\"169.7949\">class Example</text><text fill=\"#000000\" font-family=\"sans-serif\" font-size=\"12\" lengthAdjust=\"spacingAndGlyphs\" textLength=\"0\" x=\"9\" y=\"183.7637\"/><text fill=\"#000000\" font-family=\"sans-serif\" font-size=\"12\" lengthAdjust=\"spacingAndGlyphs\" textLength=\"349\" x=\"5\" y=\"197.7324\">You will find more information about PlantUML syntax on</text><text fill=\"#000000\" font-family=\"sans-serif\" font-size=\"12\" lengthAdjust=\"spacingAndGlyphs\" text-decoration=\"underline\" textLength=\"129\" x=\"358\" y=\"197.7324\">https://plantuml.com</text><image height=\"71\" width=\"80\" x=\"516\" xlink:href=\"data:image/png;base64,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\" y=\"6\"/><rect fill=\"#000000\" height=\"96.4844\" style=\"stroke: #000000; stroke-width: 1.0;\" width=\"602\" x=\"0\" y=\"205.5625\"/><rect fill=\"#33FF02\" height=\"21.2969\" style=\"stroke: #33FF02; stroke-width: 1.0;\" width=\"170\" x=\"5\" y=\"210.5625\"/><text fill=\"#000000\" font-family=\"sans-serif\" font-size=\"14\" font-weight=\"bold\" lengthAdjust=\"spacingAndGlyphs\" textLength=\"168\" x=\"6\" y=\"225.5625\">[From string (line 2) ]</text><text fill=\"#33FF02\" font-family=\"sans-serif\" font-size=\"14\" font-weight=\"bold\" lengthAdjust=\"spacingAndGlyphs\" textLength=\"0\" x=\"10\" y=\"245.8594\"/><text fill=\"#33FF02\" font-family=\"sans-serif\" font-size=\"14\" font-weight=\"bold\" lengthAdjust=\"spacingAndGlyphs\" textLength=\"79\" x=\"5\" y=\"262.1563\">@startuml</text><text fill=\"#33FF02\" font-family=\"sans-serif\" font-size=\"14\" font-weight=\"bold\" lengthAdjust=\"spacingAndGlyphs\" textLength=\"0\" x=\"10\" y=\"278.4531\"/><text fill=\"#FF0000\" font-family=\"sans-serif\" font-size=\"14\" font-weight=\"bold\" lengthAdjust=\"spacingAndGlyphs\" textLength=\"142\" x=\"10\" y=\"294.75\">Empty description</text><!--MD5=[f59edd8218d337f74d0c332fc6737304]\n",
       "@startuml\r\n",
       " \r\n",
       "@enduml\r\n",
       "\n",
       "PlantUML version 1.2020.13(Sat Jun 13 12:26:38 UTC 2020)\n",
       "(EPL source distribution)\n",
       "Java Runtime: OpenJDK Runtime Environment\n",
       "JVM: OpenJDK 64-Bit Server VM\n",
       "Default Encoding: UTF-8\n",
       "Language: en\n",
       "Country: null\n",
       "--></g></svg>"
      ]
     },
     "execution_count": 32,
     "metadata": {},
     "output_type": "execute_result"
    }
   ],
   "source": [
    "%viz --style=\"PLANTUML\" --view=\"State\" \"Q\""
   ]
  },
  {
   "cell_type": "code",
   "execution_count": 33,
   "id": "parental-character",
   "metadata": {
    "execution": {
     "iopub.execute_input": "2021-03-25T15:00:59.003208Z",
     "iopub.status.busy": "2021-03-25T15:00:59.002700Z",
     "iopub.status.idle": "2021-03-25T15:00:59.056011Z",
     "shell.execute_reply": "2021-03-25T15:00:59.054749Z"
    }
   },
   "outputs": [
    {
     "data": {
      "image/svg+xml": [
       "<?xml version=\"1.0\" encoding=\"UTF-8\" standalone=\"no\"?><svg xmlns=\"http://www.w3.org/2000/svg\" xmlns:xlink=\"http://www.w3.org/1999/xlink\" contentScriptType=\"application/ecmascript\" contentStyleType=\"text/css\" height=\"176px\" preserveAspectRatio=\"none\" style=\"width:274px;height:176px;\" version=\"1.1\" viewBox=\"0 0 274 176\" width=\"274px\" zoomAndPan=\"magnify\"><defs><filter height=\"300%\" id=\"fh6sqr7f1raa\" width=\"300%\" x=\"-1\" y=\"-1\"><feGaussianBlur result=\"blurOut\" stdDeviation=\"2.0\"/><feColorMatrix in=\"blurOut\" result=\"blurOut2\" type=\"matrix\" values=\"0 0 0 0 0 0 0 0 0 0 0 0 0 0 0 0 0 0 .4 0\"/><feOffset dx=\"4.0\" dy=\"4.0\" in=\"blurOut2\" result=\"blurOut3\"/><feBlend in=\"SourceGraphic\" in2=\"blurOut3\" mode=\"normal\"/></filter></defs><g><!--MD5=[fbc87193dbaf4d95561dea2c320d4a47]\n",
       "cluster E1--><a href=\"psysml:1ca4998e-7283-4312-8b1a-8c25c589ba37\" target=\"_top\" title=\"psysml:1ca4998e-7283-4312-8b1a-8c25c589ba37\" xlink:actuate=\"onRequest\" xlink:href=\"psysml:1ca4998e-7283-4312-8b1a-8c25c589ba37\" xlink:show=\"new\" xlink:title=\"psysml:1ca4998e-7283-4312-8b1a-8c25c589ba37\" xlink:type=\"simple\"><polygon fill=\"#FFFFFF\" filter=\"url(#fh6sqr7f1raa)\" points=\"16,6,34,6,41,28.2969,252,28.2969,252,164,16,164,16,6\" style=\"stroke: #000000; stroke-width: 1.5;\"/><line style=\"stroke: #000000; stroke-width: 1.5;\" x1=\"16\" x2=\"41\" y1=\"28.2969\" y2=\"28.2969\"/><text fill=\"#000000\" font-family=\"sans-serif\" font-size=\"14\" font-weight=\"bold\" lengthAdjust=\"spacingAndGlyphs\" textLength=\"12\" x=\"20\" y=\"20.9951\">Q</text></a><!--MD5=[e4f7fae6ed58524ba242bb0b0d3be6b7]\n",
       "cluster E2--><a href=\"psysml:9f0b35e2-e039-4fc1-a74b-e29bd15d28ff\" target=\"_top\" title=\"psysml:9f0b35e2-e039-4fc1-a74b-e29bd15d28ff\" xlink:actuate=\"onRequest\" xlink:href=\"psysml:9f0b35e2-e039-4fc1-a74b-e29bd15d28ff\" xlink:show=\"new\" xlink:title=\"psysml:9f0b35e2-e039-4fc1-a74b-e29bd15d28ff\" xlink:type=\"simple\"><rect fill=\"#FFFFFF\" filter=\"url(#fh6sqr7f1raa)\" height=\"91\" id=\"E2\" rx=\"10\" ry=\"10\" style=\"stroke: #A80036; stroke-width: 1.5;\" width=\"82\" x=\"146\" y=\"49\"/><rect fill=\"#FEFECE\" height=\"23.9688\" rx=\"10\" ry=\"10\" style=\"stroke: #FEFECE; stroke-width: 1.5;\" width=\"82\" x=\"146\" y=\"49\"/><rect fill=\"#FEFECE\" height=\"10\" style=\"stroke: #FEFECE; stroke-width: 1.5;\" width=\"82\" x=\"146\" y=\"62.9688\"/><rect fill=\"none\" height=\"91\" id=\"E2\" rx=\"10\" ry=\"10\" style=\"stroke: #A80036; stroke-width: 1.5;\" width=\"82\" x=\"146\" y=\"49\"/><text fill=\"#000000\" font-family=\"sans-serif\" font-size=\"12\" lengthAdjust=\"spacingAndGlyphs\" textLength=\"4\" x=\"185\" y=\"65.1387\">f</text><line style=\"stroke: #A80036; stroke-width: 1.0;\" x1=\"146\" x2=\"228\" y1=\"72.9688\" y2=\"72.9688\"/></a><!--MD5=[f6df4d0ebaf0b5dfb2ced0ae5af7c670]\n",
       "cluster E4--><a href=\"psysml:17ca64f8-f38a-4aec-8c02-fbca076b4a28\" target=\"_top\" title=\"psysml:17ca64f8-f38a-4aec-8c02-fbca076b4a28\" xlink:actuate=\"onRequest\" xlink:href=\"psysml:17ca64f8-f38a-4aec-8c02-fbca076b4a28\" xlink:show=\"new\" xlink:title=\"psysml:17ca64f8-f38a-4aec-8c02-fbca076b4a28\" xlink:type=\"simple\"><rect fill=\"#FFFFFF\" filter=\"url(#fh6sqr7f1raa)\" height=\"91\" id=\"E4\" style=\"stroke: #A80036; stroke-width: 1.5;\" width=\"82\" x=\"40\" y=\"49\"/><rect fill=\"#FEFECE\" height=\"23.9688\" style=\"stroke: #A80036; stroke-width: 1.5;\" width=\"82\" x=\"40\" y=\"49\"/><text fill=\"#000000\" font-family=\"sans-serif\" font-size=\"12\" lengthAdjust=\"spacingAndGlyphs\" textLength=\"8\" x=\"77\" y=\"65.1387\">C</text></a><g id=\"E1.E2.E3\"><a href=\"psysml:9a16e398-0ba6-448d-aba1-0f88a9a52804\" target=\"_top\" title=\"psysml:9a16e398-0ba6-448d-aba1-0f88a9a52804\" xlink:actuate=\"onRequest\" xlink:href=\"psysml:9a16e398-0ba6-448d-aba1-0f88a9a52804\" xlink:show=\"new\" xlink:title=\"psysml:9a16e398-0ba6-448d-aba1-0f88a9a52804\" xlink:type=\"simple\"><rect fill=\"#FEFECE\" filter=\"url(#fh6sqr7f1raa)\" height=\"40\" id=\"E3\" rx=\"10\" ry=\"10\" style=\"stroke: #A80036; stroke-width: 1.5;\" width=\"50\" x=\"162\" y=\"84\"/><ellipse cx=\"181.5\" cy=\"100\" fill=\"#B6DBBB\" rx=\"11\" ry=\"11\" style=\"stroke: #A80036; stroke-width: 1.0;\"/><path d=\"M177.375,101.9219 L177.375,94.1094 L179.8281,94.1094 L179.8281,102.5469 Q179.8281,103.4688 180.2969,104 Q180.7813,104.5313 181.6094,104.5313 Q182.4531,104.5313 182.9219,104 Q183.3906,103.4688 183.3906,102.5469 L183.3906,94.1094 L185.8438,94.1094 L185.8438,101.9219 Q185.8438,104.4531 184.8438,105.5938 Q183.8438,106.7344 181.6094,106.7344 Q179.3906,106.7344 178.375,105.5938 Q177.375,104.4531 177.375,101.9219 Z \"/><text fill=\"#000000\" font-family=\"sans-serif\" font-size=\"12\" lengthAdjust=\"spacingAndGlyphs\" textLength=\"8\" x=\"196.5\" y=\"104.1543\">a</text></a></g><g id=\"E1.E4.E5\"><a href=\"psysml:43d8af85-10f5-4c20-8018-948df50254a5\" target=\"_top\" title=\"psysml:43d8af85-10f5-4c20-8018-948df50254a5\" xlink:actuate=\"onRequest\" xlink:href=\"psysml:43d8af85-10f5-4c20-8018-948df50254a5\" xlink:show=\"new\" xlink:title=\"psysml:43d8af85-10f5-4c20-8018-948df50254a5\" xlink:type=\"simple\"><rect fill=\"#FEFECE\" filter=\"url(#fh6sqr7f1raa)\" height=\"40\" id=\"E5\" rx=\"10\" ry=\"10\" style=\"stroke: #A80036; stroke-width: 1.5;\" width=\"50\" x=\"56\" y=\"84\"/><ellipse cx=\"75.5\" cy=\"100\" fill=\"#B6DBBB\" rx=\"11\" ry=\"11\" style=\"stroke: #A80036; stroke-width: 1.0;\"/><path d=\"M71.375,101.9219 L71.375,94.1094 L73.8281,94.1094 L73.8281,102.5469 Q73.8281,103.4688 74.2969,104 Q74.7813,104.5313 75.6094,104.5313 Q76.4531,104.5313 76.9219,104 Q77.3906,103.4688 77.3906,102.5469 L77.3906,94.1094 L79.8438,94.1094 L79.8438,101.9219 Q79.8438,104.4531 78.8438,105.5938 Q77.8438,106.7344 75.6094,106.7344 Q73.3906,106.7344 72.375,105.5938 Q71.375,104.4531 71.375,101.9219 Z \"/><text fill=\"#000000\" font-family=\"sans-serif\" font-size=\"12\" lengthAdjust=\"spacingAndGlyphs\" textLength=\"8\" x=\"90.5\" y=\"104.1543\">g</text></a></g><!--MD5=[f97ecb76da6307d4a787e99b979a5ea5]\n",
       "@startuml\r\n",
       "skinparam ranksep 8\r\n",
       "skinparam rectangle {\r\n",
       " backgroundColor<<block>> LightGreen\r\n",
       "}\r\n",
       " \r\n",
       "package \"Q\" as E1  [[psysml:1ca4998e-7283-4312-8b1a-8c25c589ba37 ]]  {\r\n",
       "rec usage \"f\" as E2  [[psysml:9f0b35e2-e039-4fc1-a74b-e29bd15d28ff ]] {\r\n",
       "rec usage \"a\" as E3  [[psysml:9a16e398-0ba6-448d-aba1-0f88a9a52804 ]] {\r\n",
       "}\r\n",
       "}\r\n",
       "rec def \"C\" as E4  << (B,green) >> [[psysml:17ca64f8-f38a-4aec-8c02-fbca076b4a28 ]] {\r\n",
       "rec usage \"g\" as E5  [[psysml:43d8af85-10f5-4c20-8018-948df50254a5 ]] {\r\n",
       "}\r\n",
       "}\r\n",
       "}\r\n",
       "@enduml\r\n",
       "\n",
       "PlantUML version 1.2020.13(Sat Jun 13 12:26:38 UTC 2020)\n",
       "(EPL source distribution)\n",
       "Java Runtime: OpenJDK Runtime Environment\n",
       "JVM: OpenJDK 64-Bit Server VM\n",
       "Default Encoding: UTF-8\n",
       "Language: en\n",
       "Country: null\n",
       "--></g></svg>"
      ]
     },
     "execution_count": 33,
     "metadata": {},
     "output_type": "execute_result"
    }
   ],
   "source": [
    "%viz --style=\"PLANTUML\" --view=\"Interconnection\" \"Q\""
   ]
  },
  {
   "cell_type": "code",
   "execution_count": 34,
   "id": "enhanced-artwork",
   "metadata": {
    "execution": {
     "iopub.execute_input": "2021-03-25T15:00:59.107521Z",
     "iopub.status.busy": "2021-03-25T15:00:59.106956Z",
     "iopub.status.idle": "2021-03-25T15:00:59.113560Z",
     "shell.execute_reply": "2021-03-25T15:00:59.113137Z"
    }
   },
   "outputs": [
    {
     "data": {
      "image/svg+xml": [
       "<?xml version=\"1.0\" encoding=\"UTF-8\" standalone=\"no\"?><svg xmlns=\"http://www.w3.org/2000/svg\" xmlns:xlink=\"http://www.w3.org/1999/xlink\" contentScriptType=\"application/ecmascript\" contentStyleType=\"text/css\" height=\"12px\" preserveAspectRatio=\"none\" style=\"width:12px;height:12px;\" version=\"1.1\" viewBox=\"0 0 12 12\" width=\"12px\" zoomAndPan=\"magnify\"><defs/><g><!--MD5=[6a4cb978cab31700e1ce5529f947a75d]\n",
       "@startuml\r\n",
       "skinparam ranksep 8\r\n",
       " \r\n",
       "@enduml\r\n",
       "\n",
       "PlantUML version 1.2020.13(Sat Jun 13 12:26:38 UTC 2020)\n",
       "(EPL source distribution)\n",
       "Java Runtime: OpenJDK Runtime Environment\n",
       "JVM: OpenJDK 64-Bit Server VM\n",
       "Default Encoding: UTF-8\n",
       "Language: en\n",
       "Country: null\n",
       "--></g></svg>"
      ]
     },
     "execution_count": 34,
     "metadata": {},
     "output_type": "execute_result"
    }
   ],
   "source": [
    "%viz --style=\"PLANTUML\" --view=\"Action\" \"Q\""
   ]
  },
  {
   "cell_type": "code",
   "execution_count": 35,
   "id": "economic-house",
   "metadata": {
    "execution": {
     "iopub.execute_input": "2021-03-25T15:00:59.166019Z",
     "iopub.status.busy": "2021-03-25T15:00:59.165626Z",
     "iopub.status.idle": "2021-03-25T15:00:59.288169Z",
     "shell.execute_reply": "2021-03-25T15:00:59.286809Z"
    }
   },
   "outputs": [
    {
     "data": {
      "image/svg+xml": [
       "<?xml version=\"1.0\" encoding=\"UTF-8\" standalone=\"no\"?><svg xmlns=\"http://www.w3.org/2000/svg\" xmlns:xlink=\"http://www.w3.org/1999/xlink\" contentScriptType=\"application/ecmascript\" contentStyleType=\"text/css\" height=\"221px\" preserveAspectRatio=\"none\" style=\"width:241px;height:221px;\" version=\"1.1\" viewBox=\"0 0 241 221\" width=\"241px\" zoomAndPan=\"magnify\"><defs><filter height=\"300%\" id=\"f55q08q92uc3s\" width=\"300%\" x=\"-1\" y=\"-1\"><feGaussianBlur result=\"blurOut\" stdDeviation=\"2.0\"/><feColorMatrix in=\"blurOut\" result=\"blurOut2\" type=\"matrix\" values=\"0 0 0 0 0 0 0 0 0 0 0 0 0 0 0 0 0 0 .4 0\"/><feOffset dx=\"4.0\" dy=\"4.0\" in=\"blurOut2\" result=\"blurOut3\"/><feBlend in=\"SourceGraphic\" in2=\"blurOut3\" mode=\"normal\"/></filter></defs><g><!--MD5=[fbc87193dbaf4d95561dea2c320d4a47]\n",
       "cluster E1--><a href=\"psysml:1ca4998e-7283-4312-8b1a-8c25c589ba37\" target=\"_top\" title=\"psysml:1ca4998e-7283-4312-8b1a-8c25c589ba37\" xlink:actuate=\"onRequest\" xlink:href=\"psysml:1ca4998e-7283-4312-8b1a-8c25c589ba37\" xlink:show=\"new\" xlink:title=\"psysml:1ca4998e-7283-4312-8b1a-8c25c589ba37\" xlink:type=\"simple\"><polygon fill=\"#FFFFFF\" filter=\"url(#f55q08q92uc3s)\" points=\"16,6,34,6,41,28.2969,219,28.2969,219,209,16,209,16,6\" style=\"stroke: #000000; stroke-width: 1.5;\"/><line style=\"stroke: #000000; stroke-width: 1.5;\" x1=\"16\" x2=\"41\" y1=\"28.2969\" y2=\"28.2969\"/><text fill=\"#000000\" font-family=\"sans-serif\" font-size=\"14\" font-weight=\"bold\" lengthAdjust=\"spacingAndGlyphs\" textLength=\"12\" x=\"20\" y=\"20.9951\">Q</text></a><!--MD5=[b4997ac47864f28c2f74865a473b2911]\n",
       "class E2--><a href=\"psysml:9f0b35e2-e039-4fc1-a74b-e29bd15d28ff\" target=\"_top\" title=\"psysml:9f0b35e2-e039-4fc1-a74b-e29bd15d28ff\" xlink:actuate=\"onRequest\" xlink:href=\"psysml:9f0b35e2-e039-4fc1-a74b-e29bd15d28ff\" xlink:show=\"new\" xlink:title=\"psysml:9f0b35e2-e039-4fc1-a74b-e29bd15d28ff\" xlink:type=\"simple\"><rect fill=\"#FEFECE\" filter=\"url(#f55q08q92uc3s)\" height=\"45.9375\" id=\"E2\" rx=\"10\" ry=\"10\" style=\"stroke: #A80036; stroke-width: 1.5;\" width=\"68\" x=\"135\" y=\"41\"/><ellipse cx=\"150\" cy=\"59.9688\" fill=\"#32CD32\" rx=\"11\" ry=\"11\" style=\"stroke: #A80036; stroke-width: 1.0;\"/><path d=\"M149.7969,55.6406 L149.7969,59.2656 L150.7969,59.2656 Q152,59.2656 152.4844,58.8594 Q152.9688,58.4531 152.9688,57.4531 Q152.9688,56.4531 152.4844,56.0469 Q152,55.6406 150.7969,55.6406 L149.7969,55.6406 Z M147.3438,53.5781 L150.7031,53.5781 Q153.2656,53.5781 154.3906,54.5 Q155.5156,55.4063 155.5156,57.4531 Q155.5156,59.5 154.3906,60.4219 Q153.2656,61.3281 150.7031,61.3281 L149.7969,61.3281 L149.7969,65.9688 L147.3438,65.9688 L147.3438,53.5781 Z \"/><text fill=\"#000000\" font-family=\"sans-serif\" font-size=\"12\" font-style=\"italic\" lengthAdjust=\"spacingAndGlyphs\" textLength=\"40\" x=\"162\" y=\"57.1387\">«part»</text><text fill=\"#000000\" font-family=\"sans-serif\" font-size=\"12\" lengthAdjust=\"spacingAndGlyphs\" textLength=\"4\" x=\"180\" y=\"71.1074\">f</text><line style=\"stroke: #A80036; stroke-width: 1.5;\" x1=\"136\" x2=\"202\" y1=\"78.9375\" y2=\"78.9375\"/></a><!--MD5=[09b614a08d8cba4a07c9adeb5e0fee81]\n",
       "class E3--><a href=\"psysml:9a16e398-0ba6-448d-aba1-0f88a9a52804\" target=\"_top\" title=\"psysml:9a16e398-0ba6-448d-aba1-0f88a9a52804\" xlink:actuate=\"onRequest\" xlink:href=\"psysml:9a16e398-0ba6-448d-aba1-0f88a9a52804\" xlink:show=\"new\" xlink:title=\"psysml:9a16e398-0ba6-448d-aba1-0f88a9a52804\" xlink:type=\"simple\"><rect fill=\"#FEFECE\" filter=\"url(#f55q08q92uc3s)\" height=\"45.9375\" id=\"E3\" rx=\"10\" ry=\"10\" style=\"stroke: #A80036; stroke-width: 1.5;\" width=\"68\" x=\"135\" y=\"147\"/><ellipse cx=\"150\" cy=\"165.9688\" fill=\"#32CD32\" rx=\"11\" ry=\"11\" style=\"stroke: #A80036; stroke-width: 1.0;\"/><path d=\"M149.7969,161.6406 L149.7969,165.2656 L150.7969,165.2656 Q152,165.2656 152.4844,164.8594 Q152.9688,164.4531 152.9688,163.4531 Q152.9688,162.4531 152.4844,162.0469 Q152,161.6406 150.7969,161.6406 L149.7969,161.6406 Z M147.3438,159.5781 L150.7031,159.5781 Q153.2656,159.5781 154.3906,160.5 Q155.5156,161.4063 155.5156,163.4531 Q155.5156,165.5 154.3906,166.4219 Q153.2656,167.3281 150.7031,167.3281 L149.7969,167.3281 L149.7969,171.9688 L147.3438,171.9688 L147.3438,159.5781 Z \"/><text fill=\"#000000\" font-family=\"sans-serif\" font-size=\"12\" font-style=\"italic\" lengthAdjust=\"spacingAndGlyphs\" textLength=\"40\" x=\"162\" y=\"163.1387\">«part»</text><text fill=\"#000000\" font-family=\"sans-serif\" font-size=\"12\" lengthAdjust=\"spacingAndGlyphs\" textLength=\"8\" x=\"178\" y=\"177.1074\">a</text><line style=\"stroke: #A80036; stroke-width: 1.5;\" x1=\"136\" x2=\"202\" y1=\"184.9375\" y2=\"184.9375\"/></a><!--MD5=[ebbe1d658d1005bcc118a6aa81145e00]\n",
       "class E4--><a href=\"psysml:17ca64f8-f38a-4aec-8c02-fbca076b4a28\" target=\"_top\" title=\"psysml:17ca64f8-f38a-4aec-8c02-fbca076b4a28\" xlink:actuate=\"onRequest\" xlink:href=\"psysml:17ca64f8-f38a-4aec-8c02-fbca076b4a28\" xlink:show=\"new\" xlink:title=\"psysml:17ca64f8-f38a-4aec-8c02-fbca076b4a28\" xlink:type=\"simple\"><rect fill=\"#FEFECE\" filter=\"url(#f55q08q92uc3s)\" height=\"40\" id=\"E4\" style=\"stroke: #A80036; stroke-width: 1.5;\" width=\"40\" x=\"46\" y=\"44\"/><ellipse cx=\"61\" cy=\"60\" fill=\"#008000\" rx=\"11\" ry=\"11\" style=\"stroke: #A80036; stroke-width: 1.0;\"/><path d=\"M59.9063,60.375 L59.9063,64.0469 L61.5313,64.0469 Q62.7031,64.0469 63.1719,63.6563 Q63.6406,63.25 63.6406,62.25 Q63.6406,61.25 63.1406,60.8125 Q62.6563,60.375 61.5313,60.375 L59.9063,60.375 Z M59.9063,55.5469 L59.9063,58.4219 L61.5313,58.4219 Q62.4531,58.4219 62.8438,58.0938 Q63.25,57.75 63.25,57 Q63.25,56.2344 62.8438,55.8906 Q62.4375,55.5469 61.5313,55.5469 L59.9063,55.5469 Z M57.5313,53.5938 L61.5313,53.5938 Q63.5938,53.5938 64.6406,54.375 Q65.6875,55.1563 65.6875,56.7188 Q65.6875,57.9219 65.0625,58.5938 Q64.4531,59.2656 63.2656,59.375 Q64.6875,59.5156 65.4063,60.3281 Q66.125,61.1406 66.125,62.5938 Q66.125,64.3906 65.0469,65.2031 Q63.9688,66 61.5313,66 L57.5313,66 L57.5313,53.5938 Z \"/><text fill=\"#000000\" font-family=\"sans-serif\" font-size=\"12\" lengthAdjust=\"spacingAndGlyphs\" textLength=\"8\" x=\"75\" y=\"64.1543\">C</text><line style=\"stroke: #A80036; stroke-width: 1.5;\" x1=\"47\" x2=\"85\" y1=\"76\" y2=\"76\"/></a><!--MD5=[270fce915f116d4de14055a7c1d9a0f3]\n",
       "class E5--><a href=\"psysml:43d8af85-10f5-4c20-8018-948df50254a5\" target=\"_top\" title=\"psysml:43d8af85-10f5-4c20-8018-948df50254a5\" xlink:actuate=\"onRequest\" xlink:href=\"psysml:43d8af85-10f5-4c20-8018-948df50254a5\" xlink:show=\"new\" xlink:title=\"psysml:43d8af85-10f5-4c20-8018-948df50254a5\" xlink:type=\"simple\"><rect fill=\"#FEFECE\" filter=\"url(#f55q08q92uc3s)\" height=\"45.9375\" id=\"E5\" rx=\"10\" ry=\"10\" style=\"stroke: #A80036; stroke-width: 1.5;\" width=\"68\" x=\"32\" y=\"147\"/><ellipse cx=\"47\" cy=\"165.9688\" fill=\"#32CD32\" rx=\"11\" ry=\"11\" style=\"stroke: #A80036; stroke-width: 1.0;\"/><path d=\"M46.7969,161.6406 L46.7969,165.2656 L47.7969,165.2656 Q49,165.2656 49.4844,164.8594 Q49.9688,164.4531 49.9688,163.4531 Q49.9688,162.4531 49.4844,162.0469 Q49,161.6406 47.7969,161.6406 L46.7969,161.6406 Z M44.3438,159.5781 L47.7031,159.5781 Q50.2656,159.5781 51.3906,160.5 Q52.5156,161.4063 52.5156,163.4531 Q52.5156,165.5 51.3906,166.4219 Q50.2656,167.3281 47.7031,167.3281 L46.7969,167.3281 L46.7969,171.9688 L44.3438,171.9688 L44.3438,159.5781 Z \"/><text fill=\"#000000\" font-family=\"sans-serif\" font-size=\"12\" font-style=\"italic\" lengthAdjust=\"spacingAndGlyphs\" textLength=\"40\" x=\"59\" y=\"163.1387\">«part»</text><text fill=\"#000000\" font-family=\"sans-serif\" font-size=\"12\" lengthAdjust=\"spacingAndGlyphs\" textLength=\"8\" x=\"75\" y=\"177.1074\">g</text><line style=\"stroke: #A80036; stroke-width: 1.5;\" x1=\"33\" x2=\"99\" y1=\"184.9375\" y2=\"184.9375\"/></a><!--MD5=[209b3feb70ccb6233bfe1053d122c12c]\n",
       "reverse link E2 to E3--><a href=\"psysml:9a16e398-0ba6-448d-aba1-0f88a9a52804\" target=\"_top\" title=\"psysml:9a16e398-0ba6-448d-aba1-0f88a9a52804\" xlink:actuate=\"onRequest\" xlink:href=\"psysml:9a16e398-0ba6-448d-aba1-0f88a9a52804\" xlink:show=\"new\" xlink:title=\"psysml:9a16e398-0ba6-448d-aba1-0f88a9a52804\" xlink:type=\"simple\"><path d=\"M169,100.44 C169,115.87 169,133.47 169,146.98 \" fill=\"none\" id=\"E2&lt;-E3\" style=\"stroke: #A80036; stroke-width: 1.0;\"/><polygon fill=\"#A80036\" points=\"169,87.06,165,93.06,169,99.06,173,93.06,169,87.06\" style=\"stroke: #A80036; stroke-width: 1.0;\"/></a><!--MD5=[62aa6af11e70f752912c1cb0466f24f7]\n",
       "reverse link E4 to E5--><a href=\"psysml:43d8af85-10f5-4c20-8018-948df50254a5\" target=\"_top\" title=\"psysml:43d8af85-10f5-4c20-8018-948df50254a5\" xlink:actuate=\"onRequest\" xlink:href=\"psysml:43d8af85-10f5-4c20-8018-948df50254a5\" xlink:show=\"new\" xlink:title=\"psysml:43d8af85-10f5-4c20-8018-948df50254a5\" xlink:type=\"simple\"><path d=\"M66,97.25 C66,113.33 66,132.37 66,146.8 \" fill=\"none\" id=\"E4&lt;-E5\" style=\"stroke: #A80036; stroke-width: 1.0;\"/><polygon fill=\"#A80036\" points=\"66,84.08,62,90.08,66,96.08,70,90.08,66,84.08\" style=\"stroke: #A80036; stroke-width: 1.0;\"/></a><!--MD5=[92936da69b51b3a457d22d7e5792551c]\n",
       "@startuml\r\n",
       " \r\n",
       "package \"Q\" as E1  [[psysml:1ca4998e-7283-4312-8b1a-8c25c589ba37 ]]  {\r\n",
       "comp usage \"f\" as E2  << (P,limegreen) part>> [[psysml:9f0b35e2-e039-4fc1-a74b-e29bd15d28ff ]] {\r\n",
       "}\r\n",
       "comp usage \"a\" as E3  << (P,limegreen) part>> [[psysml:9a16e398-0ba6-448d-aba1-0f88a9a52804 ]] {\r\n",
       "}\r\n",
       "comp def \"C\" as E4  << (B,green) >> [[psysml:17ca64f8-f38a-4aec-8c02-fbca076b4a28 ]] {\r\n",
       "}\r\n",
       "comp usage \"g\" as E5  << (P,limegreen) part>> [[psysml:43d8af85-10f5-4c20-8018-948df50254a5 ]] {\r\n",
       "}\r\n",
       "E2 *- - E3 [[psysml:9a16e398-0ba6-448d-aba1-0f88a9a52804 ]] \r\n",
       "E4 *- - E5 [[psysml:43d8af85-10f5-4c20-8018-948df50254a5 ]] \r\n",
       "}\r\n",
       "@enduml\r\n",
       "\n",
       "PlantUML version 1.2020.13(Sat Jun 13 12:26:38 UTC 2020)\n",
       "(EPL source distribution)\n",
       "Java Runtime: OpenJDK Runtime Environment\n",
       "JVM: OpenJDK 64-Bit Server VM\n",
       "Default Encoding: UTF-8\n",
       "Language: en\n",
       "Country: null\n",
       "--></g></svg>"
      ]
     },
     "execution_count": 35,
     "metadata": {},
     "output_type": "execute_result"
    }
   ],
   "source": [
    "%viz --style=\"PLANTUML\" --view=\"Sequence\" \"Q\""
   ]
  },
  {
   "cell_type": "code",
   "execution_count": 36,
   "id": "continuous-drama",
   "metadata": {
    "execution": {
     "iopub.execute_input": "2021-03-25T15:00:59.340088Z",
     "iopub.status.busy": "2021-03-25T15:00:59.339248Z",
     "iopub.status.idle": "2021-03-25T15:00:59.389970Z",
     "shell.execute_reply": "2021-03-25T15:00:59.389577Z"
    }
   },
   "outputs": [
    {
     "data": {
      "image/svg+xml": [
       "<?xml version=\"1.0\" encoding=\"UTF-8\" standalone=\"no\"?><svg xmlns=\"http://www.w3.org/2000/svg\" xmlns:xlink=\"http://www.w3.org/1999/xlink\" contentScriptType=\"application/ecmascript\" contentStyleType=\"text/css\" height=\"221px\" preserveAspectRatio=\"none\" style=\"width:241px;height:221px;\" version=\"1.1\" viewBox=\"0 0 241 221\" width=\"241px\" zoomAndPan=\"magnify\"><defs><filter height=\"300%\" id=\"f55q08q92uc3s\" width=\"300%\" x=\"-1\" y=\"-1\"><feGaussianBlur result=\"blurOut\" stdDeviation=\"2.0\"/><feColorMatrix in=\"blurOut\" result=\"blurOut2\" type=\"matrix\" values=\"0 0 0 0 0 0 0 0 0 0 0 0 0 0 0 0 0 0 .4 0\"/><feOffset dx=\"4.0\" dy=\"4.0\" in=\"blurOut2\" result=\"blurOut3\"/><feBlend in=\"SourceGraphic\" in2=\"blurOut3\" mode=\"normal\"/></filter></defs><g><!--MD5=[fbc87193dbaf4d95561dea2c320d4a47]\n",
       "cluster E1--><a href=\"psysml:1ca4998e-7283-4312-8b1a-8c25c589ba37\" target=\"_top\" title=\"psysml:1ca4998e-7283-4312-8b1a-8c25c589ba37\" xlink:actuate=\"onRequest\" xlink:href=\"psysml:1ca4998e-7283-4312-8b1a-8c25c589ba37\" xlink:show=\"new\" xlink:title=\"psysml:1ca4998e-7283-4312-8b1a-8c25c589ba37\" xlink:type=\"simple\"><polygon fill=\"#FFFFFF\" filter=\"url(#f55q08q92uc3s)\" points=\"16,6,34,6,41,28.2969,219,28.2969,219,209,16,209,16,6\" style=\"stroke: #000000; stroke-width: 1.5;\"/><line style=\"stroke: #000000; stroke-width: 1.5;\" x1=\"16\" x2=\"41\" y1=\"28.2969\" y2=\"28.2969\"/><text fill=\"#000000\" font-family=\"sans-serif\" font-size=\"14\" font-weight=\"bold\" lengthAdjust=\"spacingAndGlyphs\" textLength=\"12\" x=\"20\" y=\"20.9951\">Q</text></a><!--MD5=[b4997ac47864f28c2f74865a473b2911]\n",
       "class E2--><a href=\"psysml:9f0b35e2-e039-4fc1-a74b-e29bd15d28ff\" target=\"_top\" title=\"psysml:9f0b35e2-e039-4fc1-a74b-e29bd15d28ff\" xlink:actuate=\"onRequest\" xlink:href=\"psysml:9f0b35e2-e039-4fc1-a74b-e29bd15d28ff\" xlink:show=\"new\" xlink:title=\"psysml:9f0b35e2-e039-4fc1-a74b-e29bd15d28ff\" xlink:type=\"simple\"><rect fill=\"#FEFECE\" filter=\"url(#f55q08q92uc3s)\" height=\"45.9375\" id=\"E2\" rx=\"10\" ry=\"10\" style=\"stroke: #A80036; stroke-width: 1.5;\" width=\"68\" x=\"135\" y=\"41\"/><ellipse cx=\"150\" cy=\"59.9688\" fill=\"#32CD32\" rx=\"11\" ry=\"11\" style=\"stroke: #A80036; stroke-width: 1.0;\"/><path d=\"M149.7969,55.6406 L149.7969,59.2656 L150.7969,59.2656 Q152,59.2656 152.4844,58.8594 Q152.9688,58.4531 152.9688,57.4531 Q152.9688,56.4531 152.4844,56.0469 Q152,55.6406 150.7969,55.6406 L149.7969,55.6406 Z M147.3438,53.5781 L150.7031,53.5781 Q153.2656,53.5781 154.3906,54.5 Q155.5156,55.4063 155.5156,57.4531 Q155.5156,59.5 154.3906,60.4219 Q153.2656,61.3281 150.7031,61.3281 L149.7969,61.3281 L149.7969,65.9688 L147.3438,65.9688 L147.3438,53.5781 Z \"/><text fill=\"#000000\" font-family=\"sans-serif\" font-size=\"12\" font-style=\"italic\" lengthAdjust=\"spacingAndGlyphs\" textLength=\"40\" x=\"162\" y=\"57.1387\">«part»</text><text fill=\"#000000\" font-family=\"sans-serif\" font-size=\"12\" lengthAdjust=\"spacingAndGlyphs\" textLength=\"4\" x=\"180\" y=\"71.1074\">f</text><line style=\"stroke: #A80036; stroke-width: 1.5;\" x1=\"136\" x2=\"202\" y1=\"78.9375\" y2=\"78.9375\"/></a><!--MD5=[09b614a08d8cba4a07c9adeb5e0fee81]\n",
       "class E3--><a href=\"psysml:9a16e398-0ba6-448d-aba1-0f88a9a52804\" target=\"_top\" title=\"psysml:9a16e398-0ba6-448d-aba1-0f88a9a52804\" xlink:actuate=\"onRequest\" xlink:href=\"psysml:9a16e398-0ba6-448d-aba1-0f88a9a52804\" xlink:show=\"new\" xlink:title=\"psysml:9a16e398-0ba6-448d-aba1-0f88a9a52804\" xlink:type=\"simple\"><rect fill=\"#FEFECE\" filter=\"url(#f55q08q92uc3s)\" height=\"45.9375\" id=\"E3\" rx=\"10\" ry=\"10\" style=\"stroke: #A80036; stroke-width: 1.5;\" width=\"68\" x=\"135\" y=\"147\"/><ellipse cx=\"150\" cy=\"165.9688\" fill=\"#32CD32\" rx=\"11\" ry=\"11\" style=\"stroke: #A80036; stroke-width: 1.0;\"/><path d=\"M149.7969,161.6406 L149.7969,165.2656 L150.7969,165.2656 Q152,165.2656 152.4844,164.8594 Q152.9688,164.4531 152.9688,163.4531 Q152.9688,162.4531 152.4844,162.0469 Q152,161.6406 150.7969,161.6406 L149.7969,161.6406 Z M147.3438,159.5781 L150.7031,159.5781 Q153.2656,159.5781 154.3906,160.5 Q155.5156,161.4063 155.5156,163.4531 Q155.5156,165.5 154.3906,166.4219 Q153.2656,167.3281 150.7031,167.3281 L149.7969,167.3281 L149.7969,171.9688 L147.3438,171.9688 L147.3438,159.5781 Z \"/><text fill=\"#000000\" font-family=\"sans-serif\" font-size=\"12\" font-style=\"italic\" lengthAdjust=\"spacingAndGlyphs\" textLength=\"40\" x=\"162\" y=\"163.1387\">«part»</text><text fill=\"#000000\" font-family=\"sans-serif\" font-size=\"12\" lengthAdjust=\"spacingAndGlyphs\" textLength=\"8\" x=\"178\" y=\"177.1074\">a</text><line style=\"stroke: #A80036; stroke-width: 1.5;\" x1=\"136\" x2=\"202\" y1=\"184.9375\" y2=\"184.9375\"/></a><!--MD5=[ebbe1d658d1005bcc118a6aa81145e00]\n",
       "class E4--><a href=\"psysml:17ca64f8-f38a-4aec-8c02-fbca076b4a28\" target=\"_top\" title=\"psysml:17ca64f8-f38a-4aec-8c02-fbca076b4a28\" xlink:actuate=\"onRequest\" xlink:href=\"psysml:17ca64f8-f38a-4aec-8c02-fbca076b4a28\" xlink:show=\"new\" xlink:title=\"psysml:17ca64f8-f38a-4aec-8c02-fbca076b4a28\" xlink:type=\"simple\"><rect fill=\"#FEFECE\" filter=\"url(#f55q08q92uc3s)\" height=\"40\" id=\"E4\" style=\"stroke: #A80036; stroke-width: 1.5;\" width=\"40\" x=\"46\" y=\"44\"/><ellipse cx=\"61\" cy=\"60\" fill=\"#008000\" rx=\"11\" ry=\"11\" style=\"stroke: #A80036; stroke-width: 1.0;\"/><path d=\"M59.9063,60.375 L59.9063,64.0469 L61.5313,64.0469 Q62.7031,64.0469 63.1719,63.6563 Q63.6406,63.25 63.6406,62.25 Q63.6406,61.25 63.1406,60.8125 Q62.6563,60.375 61.5313,60.375 L59.9063,60.375 Z M59.9063,55.5469 L59.9063,58.4219 L61.5313,58.4219 Q62.4531,58.4219 62.8438,58.0938 Q63.25,57.75 63.25,57 Q63.25,56.2344 62.8438,55.8906 Q62.4375,55.5469 61.5313,55.5469 L59.9063,55.5469 Z M57.5313,53.5938 L61.5313,53.5938 Q63.5938,53.5938 64.6406,54.375 Q65.6875,55.1563 65.6875,56.7188 Q65.6875,57.9219 65.0625,58.5938 Q64.4531,59.2656 63.2656,59.375 Q64.6875,59.5156 65.4063,60.3281 Q66.125,61.1406 66.125,62.5938 Q66.125,64.3906 65.0469,65.2031 Q63.9688,66 61.5313,66 L57.5313,66 L57.5313,53.5938 Z \"/><text fill=\"#000000\" font-family=\"sans-serif\" font-size=\"12\" lengthAdjust=\"spacingAndGlyphs\" textLength=\"8\" x=\"75\" y=\"64.1543\">C</text><line style=\"stroke: #A80036; stroke-width: 1.5;\" x1=\"47\" x2=\"85\" y1=\"76\" y2=\"76\"/></a><!--MD5=[270fce915f116d4de14055a7c1d9a0f3]\n",
       "class E5--><a href=\"psysml:43d8af85-10f5-4c20-8018-948df50254a5\" target=\"_top\" title=\"psysml:43d8af85-10f5-4c20-8018-948df50254a5\" xlink:actuate=\"onRequest\" xlink:href=\"psysml:43d8af85-10f5-4c20-8018-948df50254a5\" xlink:show=\"new\" xlink:title=\"psysml:43d8af85-10f5-4c20-8018-948df50254a5\" xlink:type=\"simple\"><rect fill=\"#FEFECE\" filter=\"url(#f55q08q92uc3s)\" height=\"45.9375\" id=\"E5\" rx=\"10\" ry=\"10\" style=\"stroke: #A80036; stroke-width: 1.5;\" width=\"68\" x=\"32\" y=\"147\"/><ellipse cx=\"47\" cy=\"165.9688\" fill=\"#32CD32\" rx=\"11\" ry=\"11\" style=\"stroke: #A80036; stroke-width: 1.0;\"/><path d=\"M46.7969,161.6406 L46.7969,165.2656 L47.7969,165.2656 Q49,165.2656 49.4844,164.8594 Q49.9688,164.4531 49.9688,163.4531 Q49.9688,162.4531 49.4844,162.0469 Q49,161.6406 47.7969,161.6406 L46.7969,161.6406 Z M44.3438,159.5781 L47.7031,159.5781 Q50.2656,159.5781 51.3906,160.5 Q52.5156,161.4063 52.5156,163.4531 Q52.5156,165.5 51.3906,166.4219 Q50.2656,167.3281 47.7031,167.3281 L46.7969,167.3281 L46.7969,171.9688 L44.3438,171.9688 L44.3438,159.5781 Z \"/><text fill=\"#000000\" font-family=\"sans-serif\" font-size=\"12\" font-style=\"italic\" lengthAdjust=\"spacingAndGlyphs\" textLength=\"40\" x=\"59\" y=\"163.1387\">«part»</text><text fill=\"#000000\" font-family=\"sans-serif\" font-size=\"12\" lengthAdjust=\"spacingAndGlyphs\" textLength=\"8\" x=\"75\" y=\"177.1074\">g</text><line style=\"stroke: #A80036; stroke-width: 1.5;\" x1=\"33\" x2=\"99\" y1=\"184.9375\" y2=\"184.9375\"/></a><!--MD5=[209b3feb70ccb6233bfe1053d122c12c]\n",
       "reverse link E2 to E3--><a href=\"psysml:9a16e398-0ba6-448d-aba1-0f88a9a52804\" target=\"_top\" title=\"psysml:9a16e398-0ba6-448d-aba1-0f88a9a52804\" xlink:actuate=\"onRequest\" xlink:href=\"psysml:9a16e398-0ba6-448d-aba1-0f88a9a52804\" xlink:show=\"new\" xlink:title=\"psysml:9a16e398-0ba6-448d-aba1-0f88a9a52804\" xlink:type=\"simple\"><path d=\"M169,100.44 C169,115.87 169,133.47 169,146.98 \" fill=\"none\" id=\"E2&lt;-E3\" style=\"stroke: #A80036; stroke-width: 1.0;\"/><polygon fill=\"#A80036\" points=\"169,87.06,165,93.06,169,99.06,173,93.06,169,87.06\" style=\"stroke: #A80036; stroke-width: 1.0;\"/></a><!--MD5=[62aa6af11e70f752912c1cb0466f24f7]\n",
       "reverse link E4 to E5--><a href=\"psysml:43d8af85-10f5-4c20-8018-948df50254a5\" target=\"_top\" title=\"psysml:43d8af85-10f5-4c20-8018-948df50254a5\" xlink:actuate=\"onRequest\" xlink:href=\"psysml:43d8af85-10f5-4c20-8018-948df50254a5\" xlink:show=\"new\" xlink:title=\"psysml:43d8af85-10f5-4c20-8018-948df50254a5\" xlink:type=\"simple\"><path d=\"M66,97.25 C66,113.33 66,132.37 66,146.8 \" fill=\"none\" id=\"E4&lt;-E5\" style=\"stroke: #A80036; stroke-width: 1.0;\"/><polygon fill=\"#A80036\" points=\"66,84.08,62,90.08,66,96.08,70,90.08,66,84.08\" style=\"stroke: #A80036; stroke-width: 1.0;\"/></a><!--MD5=[92936da69b51b3a457d22d7e5792551c]\n",
       "@startuml\r\n",
       " \r\n",
       "package \"Q\" as E1  [[psysml:1ca4998e-7283-4312-8b1a-8c25c589ba37 ]]  {\r\n",
       "comp usage \"f\" as E2  << (P,limegreen) part>> [[psysml:9f0b35e2-e039-4fc1-a74b-e29bd15d28ff ]] {\r\n",
       "}\r\n",
       "comp usage \"a\" as E3  << (P,limegreen) part>> [[psysml:9a16e398-0ba6-448d-aba1-0f88a9a52804 ]] {\r\n",
       "}\r\n",
       "comp def \"C\" as E4  << (B,green) >> [[psysml:17ca64f8-f38a-4aec-8c02-fbca076b4a28 ]] {\r\n",
       "}\r\n",
       "comp usage \"g\" as E5  << (P,limegreen) part>> [[psysml:43d8af85-10f5-4c20-8018-948df50254a5 ]] {\r\n",
       "}\r\n",
       "E2 *- - E3 [[psysml:9a16e398-0ba6-448d-aba1-0f88a9a52804 ]] \r\n",
       "E4 *- - E5 [[psysml:43d8af85-10f5-4c20-8018-948df50254a5 ]] \r\n",
       "}\r\n",
       "@enduml\r\n",
       "\n",
       "PlantUML version 1.2020.13(Sat Jun 13 12:26:38 UTC 2020)\n",
       "(EPL source distribution)\n",
       "Java Runtime: OpenJDK Runtime Environment\n",
       "JVM: OpenJDK 64-Bit Server VM\n",
       "Default Encoding: UTF-8\n",
       "Language: en\n",
       "Country: null\n",
       "--></g></svg>"
      ]
     },
     "execution_count": 36,
     "metadata": {},
     "output_type": "execute_result"
    }
   ],
   "source": [
    "%viz --style=\"PLANTUML\" --view=\"MIXED\" \"Q\""
   ]
  },
  {
   "cell_type": "code",
   "execution_count": 37,
   "id": "objective-conviction",
   "metadata": {
    "execution": {
     "iopub.execute_input": "2021-03-25T15:00:59.440385Z",
     "iopub.status.busy": "2021-03-25T15:00:59.439882Z",
     "iopub.status.idle": "2021-03-25T15:00:59.498786Z",
     "shell.execute_reply": "2021-03-25T15:00:59.497587Z"
    }
   },
   "outputs": [
    {
     "data": {
      "image/svg+xml": [
       "<?xml version=\"1.0\" encoding=\"UTF-8\" standalone=\"no\"?><svg xmlns=\"http://www.w3.org/2000/svg\" xmlns:xlink=\"http://www.w3.org/1999/xlink\" contentScriptType=\"application/ecmascript\" contentStyleType=\"text/css\" height=\"221px\" preserveAspectRatio=\"none\" style=\"width:213px;height:221px;\" version=\"1.1\" viewBox=\"0 0 213 221\" width=\"213px\" zoomAndPan=\"magnify\"><defs/><g><!--MD5=[fbc87193dbaf4d95561dea2c320d4a47]\n",
       "cluster E1--><a href=\"psysml:1ca4998e-7283-4312-8b1a-8c25c589ba37\" target=\"_top\" title=\"psysml:1ca4998e-7283-4312-8b1a-8c25c589ba37\" xlink:actuate=\"onRequest\" xlink:href=\"psysml:1ca4998e-7283-4312-8b1a-8c25c589ba37\" xlink:show=\"new\" xlink:title=\"psysml:1ca4998e-7283-4312-8b1a-8c25c589ba37\" xlink:type=\"simple\"><polygon fill=\"#FFFFFF\" points=\"16,6,34,6,41,28.2969,191,28.2969,191,209,16,209,16,6\" style=\"stroke: #000000; stroke-width: 1.5;\"/><line style=\"stroke: #000000; stroke-width: 1.5;\" x1=\"16\" x2=\"41\" y1=\"28.2969\" y2=\"28.2969\"/><text fill=\"#000000\" font-family=\"sans-serif\" font-size=\"14\" font-weight=\"bold\" lengthAdjust=\"spacingAndGlyphs\" textLength=\"12\" x=\"20\" y=\"20.9951\">Q</text></a><!--MD5=[b4997ac47864f28c2f74865a473b2911]\n",
       "class E2--><a href=\"psysml:9f0b35e2-e039-4fc1-a74b-e29bd15d28ff\" target=\"_top\" title=\"psysml:9f0b35e2-e039-4fc1-a74b-e29bd15d28ff\" xlink:actuate=\"onRequest\" xlink:href=\"psysml:9f0b35e2-e039-4fc1-a74b-e29bd15d28ff\" xlink:show=\"new\" xlink:title=\"psysml:9f0b35e2-e039-4fc1-a74b-e29bd15d28ff\" xlink:type=\"simple\"><rect fill=\"#FFFFFF\" height=\"45.9375\" id=\"E2\" rx=\"10\" ry=\"10\" style=\"stroke: #383838; stroke-width: 1.5;\" width=\"42\" x=\"133\" y=\"41\"/><text fill=\"#000000\" font-family=\"sans-serif\" font-size=\"12\" font-style=\"italic\" lengthAdjust=\"spacingAndGlyphs\" textLength=\"40\" x=\"134\" y=\"57.1387\">«part»</text><text fill=\"#000000\" font-family=\"sans-serif\" font-size=\"12\" lengthAdjust=\"spacingAndGlyphs\" textLength=\"4\" x=\"152\" y=\"71.1074\">f</text><line style=\"stroke: #383838; stroke-width: 1.5;\" x1=\"134\" x2=\"174\" y1=\"78.9375\" y2=\"78.9375\"/></a><!--MD5=[09b614a08d8cba4a07c9adeb5e0fee81]\n",
       "class E3--><a href=\"psysml:9a16e398-0ba6-448d-aba1-0f88a9a52804\" target=\"_top\" title=\"psysml:9a16e398-0ba6-448d-aba1-0f88a9a52804\" xlink:actuate=\"onRequest\" xlink:href=\"psysml:9a16e398-0ba6-448d-aba1-0f88a9a52804\" xlink:show=\"new\" xlink:title=\"psysml:9a16e398-0ba6-448d-aba1-0f88a9a52804\" xlink:type=\"simple\"><rect fill=\"#FFFFFF\" height=\"45.9375\" id=\"E3\" rx=\"10\" ry=\"10\" style=\"stroke: #383838; stroke-width: 1.5;\" width=\"42\" x=\"133\" y=\"147\"/><text fill=\"#000000\" font-family=\"sans-serif\" font-size=\"12\" font-style=\"italic\" lengthAdjust=\"spacingAndGlyphs\" textLength=\"40\" x=\"134\" y=\"163.1387\">«part»</text><text fill=\"#000000\" font-family=\"sans-serif\" font-size=\"12\" lengthAdjust=\"spacingAndGlyphs\" textLength=\"8\" x=\"150\" y=\"177.1074\">a</text><line style=\"stroke: #383838; stroke-width: 1.5;\" x1=\"134\" x2=\"174\" y1=\"184.9375\" y2=\"184.9375\"/></a><!--MD5=[ebbe1d658d1005bcc118a6aa81145e00]\n",
       "class E4--><a href=\"psysml:17ca64f8-f38a-4aec-8c02-fbca076b4a28\" target=\"_top\" title=\"psysml:17ca64f8-f38a-4aec-8c02-fbca076b4a28\" xlink:actuate=\"onRequest\" xlink:href=\"psysml:17ca64f8-f38a-4aec-8c02-fbca076b4a28\" xlink:show=\"new\" xlink:title=\"psysml:17ca64f8-f38a-4aec-8c02-fbca076b4a28\" xlink:type=\"simple\"><rect fill=\"#FFFFFF\" height=\"45.9375\" id=\"E4\" style=\"stroke: #383838; stroke-width: 1.5;\" width=\"66\" x=\"32\" y=\"41\"/><text fill=\"#000000\" font-family=\"sans-serif\" font-size=\"12\" font-style=\"italic\" lengthAdjust=\"spacingAndGlyphs\" textLength=\"64\" x=\"33\" y=\"57.1387\">«part def»</text><text fill=\"#000000\" font-family=\"sans-serif\" font-size=\"12\" lengthAdjust=\"spacingAndGlyphs\" textLength=\"8\" x=\"61\" y=\"71.1074\">C</text><line style=\"stroke: #383838; stroke-width: 1.5;\" x1=\"33\" x2=\"97\" y1=\"78.9375\" y2=\"78.9375\"/></a><!--MD5=[270fce915f116d4de14055a7c1d9a0f3]\n",
       "class E5--><a href=\"psysml:43d8af85-10f5-4c20-8018-948df50254a5\" target=\"_top\" title=\"psysml:43d8af85-10f5-4c20-8018-948df50254a5\" xlink:actuate=\"onRequest\" xlink:href=\"psysml:43d8af85-10f5-4c20-8018-948df50254a5\" xlink:show=\"new\" xlink:title=\"psysml:43d8af85-10f5-4c20-8018-948df50254a5\" xlink:type=\"simple\"><rect fill=\"#FFFFFF\" height=\"45.9375\" id=\"E5\" rx=\"10\" ry=\"10\" style=\"stroke: #383838; stroke-width: 1.5;\" width=\"42\" x=\"44\" y=\"147\"/><text fill=\"#000000\" font-family=\"sans-serif\" font-size=\"12\" font-style=\"italic\" lengthAdjust=\"spacingAndGlyphs\" textLength=\"40\" x=\"45\" y=\"163.1387\">«part»</text><text fill=\"#000000\" font-family=\"sans-serif\" font-size=\"12\" lengthAdjust=\"spacingAndGlyphs\" textLength=\"8\" x=\"61\" y=\"177.1074\">g</text><line style=\"stroke: #383838; stroke-width: 1.5;\" x1=\"45\" x2=\"85\" y1=\"184.9375\" y2=\"184.9375\"/></a><!--MD5=[209b3feb70ccb6233bfe1053d122c12c]\n",
       "reverse link E2 to E3--><a href=\"psysml:9a16e398-0ba6-448d-aba1-0f88a9a52804\" target=\"_top\" title=\"psysml:9a16e398-0ba6-448d-aba1-0f88a9a52804\" xlink:actuate=\"onRequest\" xlink:href=\"psysml:9a16e398-0ba6-448d-aba1-0f88a9a52804\" xlink:show=\"new\" xlink:title=\"psysml:9a16e398-0ba6-448d-aba1-0f88a9a52804\" xlink:type=\"simple\"><path d=\"M154,100.44 C154,115.87 154,133.47 154,146.98 \" fill=\"none\" id=\"E2&lt;-E3\" style=\"stroke: #383838; stroke-width: 1.0;\"/><polygon fill=\"#383838\" points=\"154,87.06,150,93.06,154,99.06,158,93.06,154,87.06\" style=\"stroke: #383838; stroke-width: 1.0;\"/></a><!--MD5=[62aa6af11e70f752912c1cb0466f24f7]\n",
       "reverse link E4 to E5--><a href=\"psysml:43d8af85-10f5-4c20-8018-948df50254a5\" target=\"_top\" title=\"psysml:43d8af85-10f5-4c20-8018-948df50254a5\" xlink:actuate=\"onRequest\" xlink:href=\"psysml:43d8af85-10f5-4c20-8018-948df50254a5\" xlink:show=\"new\" xlink:title=\"psysml:43d8af85-10f5-4c20-8018-948df50254a5\" xlink:type=\"simple\"><path d=\"M65,100.44 C65,115.87 65,133.47 65,146.98 \" fill=\"none\" id=\"E4&lt;-E5\" style=\"stroke: #383838; stroke-width: 1.0;\"/><polygon fill=\"#383838\" points=\"65,87.06,61,93.06,65,99.06,69,93.06,65,87.06\" style=\"stroke: #383838; stroke-width: 1.0;\"/></a><!--MD5=[28dc423a463df5409b31ab39bc17bd6d]\n",
       "@startuml\r\n",
       "skinparam monochrome true\r\n",
       "skinparam classbackgroundcolor white\r\n",
       "skinparam shadowing false\r\n",
       "skinparam wrapWidth 300\r\n",
       "hide circle\r\n",
       "\r\n",
       "package \"Q\" as E1  [[psysml:1ca4998e-7283-4312-8b1a-8c25c589ba37 ]]  {\r\n",
       "comp usage \"f\" as E2  <<(T,blue)part>> [[psysml:9f0b35e2-e039-4fc1-a74b-e29bd15d28ff ]] {\r\n",
       "}\r\n",
       "comp usage \"a\" as E3  <<(T,blue)part>> [[psysml:9a16e398-0ba6-448d-aba1-0f88a9a52804 ]] {\r\n",
       "}\r\n",
       "comp def \"C\" as E4  <<(T,blue)part def>> [[psysml:17ca64f8-f38a-4aec-8c02-fbca076b4a28 ]] {\r\n",
       "}\r\n",
       "comp usage \"g\" as E5  <<(T,blue)part>> [[psysml:43d8af85-10f5-4c20-8018-948df50254a5 ]] {\r\n",
       "}\r\n",
       "E2 *- - E3 [[psysml:9a16e398-0ba6-448d-aba1-0f88a9a52804 ]] \r\n",
       "E4 *- - E5 [[psysml:43d8af85-10f5-4c20-8018-948df50254a5 ]] \r\n",
       "}\r\n",
       "@enduml\r\n",
       "\n",
       "PlantUML version 1.2020.13(Sat Jun 13 12:26:38 UTC 2020)\n",
       "(EPL source distribution)\n",
       "Java Runtime: OpenJDK Runtime Environment\n",
       "JVM: OpenJDK 64-Bit Server VM\n",
       "Default Encoding: UTF-8\n",
       "Language: en\n",
       "Country: null\n",
       "--></g></svg>"
      ]
     },
     "execution_count": 37,
     "metadata": {},
     "output_type": "execute_result"
    }
   ],
   "source": [
    "%viz --style=\"DEFAULT\" --view=\"Default\" \"Q\""
   ]
  },
  {
   "cell_type": "code",
   "execution_count": 38,
   "id": "informed-cache",
   "metadata": {
    "execution": {
     "iopub.execute_input": "2021-03-25T15:00:59.549191Z",
     "iopub.status.busy": "2021-03-25T15:00:59.548820Z",
     "iopub.status.idle": "2021-03-25T15:00:59.600035Z",
     "shell.execute_reply": "2021-03-25T15:00:59.598708Z"
    }
   },
   "outputs": [
    {
     "data": {
      "image/svg+xml": [
       "<?xml version=\"1.0\" encoding=\"UTF-8\" standalone=\"no\"?><svg xmlns=\"http://www.w3.org/2000/svg\" xmlns:xlink=\"http://www.w3.org/1999/xlink\" contentScriptType=\"application/ecmascript\" contentStyleType=\"text/css\" height=\"221px\" preserveAspectRatio=\"none\" style=\"width:213px;height:221px;\" version=\"1.1\" viewBox=\"0 0 213 221\" width=\"213px\" zoomAndPan=\"magnify\"><defs/><g><!--MD5=[fbc87193dbaf4d95561dea2c320d4a47]\n",
       "cluster E1--><a href=\"psysml:1ca4998e-7283-4312-8b1a-8c25c589ba37\" target=\"_top\" title=\"psysml:1ca4998e-7283-4312-8b1a-8c25c589ba37\" xlink:actuate=\"onRequest\" xlink:href=\"psysml:1ca4998e-7283-4312-8b1a-8c25c589ba37\" xlink:show=\"new\" xlink:title=\"psysml:1ca4998e-7283-4312-8b1a-8c25c589ba37\" xlink:type=\"simple\"><polygon fill=\"#FFFFFF\" points=\"16,6,34,6,41,28.2969,191,28.2969,191,209,16,209,16,6\" style=\"stroke: #000000; stroke-width: 1.5;\"/><line style=\"stroke: #000000; stroke-width: 1.5;\" x1=\"16\" x2=\"41\" y1=\"28.2969\" y2=\"28.2969\"/><text fill=\"#000000\" font-family=\"sans-serif\" font-size=\"14\" font-weight=\"bold\" lengthAdjust=\"spacingAndGlyphs\" textLength=\"12\" x=\"20\" y=\"20.9951\">Q</text></a><!--MD5=[b4997ac47864f28c2f74865a473b2911]\n",
       "class E2--><a href=\"psysml:9f0b35e2-e039-4fc1-a74b-e29bd15d28ff\" target=\"_top\" title=\"psysml:9f0b35e2-e039-4fc1-a74b-e29bd15d28ff\" xlink:actuate=\"onRequest\" xlink:href=\"psysml:9f0b35e2-e039-4fc1-a74b-e29bd15d28ff\" xlink:show=\"new\" xlink:title=\"psysml:9f0b35e2-e039-4fc1-a74b-e29bd15d28ff\" xlink:type=\"simple\"><rect fill=\"#FFFFFF\" height=\"45.9375\" id=\"E2\" rx=\"10\" ry=\"10\" style=\"stroke: #383838; stroke-width: 1.5;\" width=\"42\" x=\"133\" y=\"41\"/><text fill=\"#000000\" font-family=\"sans-serif\" font-size=\"12\" font-style=\"italic\" lengthAdjust=\"spacingAndGlyphs\" textLength=\"40\" x=\"134\" y=\"57.1387\">«part»</text><text fill=\"#000000\" font-family=\"sans-serif\" font-size=\"12\" lengthAdjust=\"spacingAndGlyphs\" textLength=\"4\" x=\"152\" y=\"71.1074\">f</text><line style=\"stroke: #383838; stroke-width: 1.5;\" x1=\"134\" x2=\"174\" y1=\"78.9375\" y2=\"78.9375\"/></a><!--MD5=[09b614a08d8cba4a07c9adeb5e0fee81]\n",
       "class E3--><a href=\"psysml:9a16e398-0ba6-448d-aba1-0f88a9a52804\" target=\"_top\" title=\"psysml:9a16e398-0ba6-448d-aba1-0f88a9a52804\" xlink:actuate=\"onRequest\" xlink:href=\"psysml:9a16e398-0ba6-448d-aba1-0f88a9a52804\" xlink:show=\"new\" xlink:title=\"psysml:9a16e398-0ba6-448d-aba1-0f88a9a52804\" xlink:type=\"simple\"><rect fill=\"#FFFFFF\" height=\"45.9375\" id=\"E3\" rx=\"10\" ry=\"10\" style=\"stroke: #383838; stroke-width: 1.5;\" width=\"42\" x=\"133\" y=\"147\"/><text fill=\"#000000\" font-family=\"sans-serif\" font-size=\"12\" font-style=\"italic\" lengthAdjust=\"spacingAndGlyphs\" textLength=\"40\" x=\"134\" y=\"163.1387\">«part»</text><text fill=\"#000000\" font-family=\"sans-serif\" font-size=\"12\" lengthAdjust=\"spacingAndGlyphs\" textLength=\"8\" x=\"150\" y=\"177.1074\">a</text><line style=\"stroke: #383838; stroke-width: 1.5;\" x1=\"134\" x2=\"174\" y1=\"184.9375\" y2=\"184.9375\"/></a><!--MD5=[ebbe1d658d1005bcc118a6aa81145e00]\n",
       "class E4--><a href=\"psysml:17ca64f8-f38a-4aec-8c02-fbca076b4a28\" target=\"_top\" title=\"psysml:17ca64f8-f38a-4aec-8c02-fbca076b4a28\" xlink:actuate=\"onRequest\" xlink:href=\"psysml:17ca64f8-f38a-4aec-8c02-fbca076b4a28\" xlink:show=\"new\" xlink:title=\"psysml:17ca64f8-f38a-4aec-8c02-fbca076b4a28\" xlink:type=\"simple\"><rect fill=\"#FFFFFF\" height=\"45.9375\" id=\"E4\" style=\"stroke: #383838; stroke-width: 1.5;\" width=\"66\" x=\"32\" y=\"41\"/><text fill=\"#000000\" font-family=\"sans-serif\" font-size=\"12\" font-style=\"italic\" lengthAdjust=\"spacingAndGlyphs\" textLength=\"64\" x=\"33\" y=\"57.1387\">«part def»</text><text fill=\"#000000\" font-family=\"sans-serif\" font-size=\"12\" lengthAdjust=\"spacingAndGlyphs\" textLength=\"8\" x=\"61\" y=\"71.1074\">C</text><line style=\"stroke: #383838; stroke-width: 1.5;\" x1=\"33\" x2=\"97\" y1=\"78.9375\" y2=\"78.9375\"/></a><!--MD5=[270fce915f116d4de14055a7c1d9a0f3]\n",
       "class E5--><a href=\"psysml:43d8af85-10f5-4c20-8018-948df50254a5\" target=\"_top\" title=\"psysml:43d8af85-10f5-4c20-8018-948df50254a5\" xlink:actuate=\"onRequest\" xlink:href=\"psysml:43d8af85-10f5-4c20-8018-948df50254a5\" xlink:show=\"new\" xlink:title=\"psysml:43d8af85-10f5-4c20-8018-948df50254a5\" xlink:type=\"simple\"><rect fill=\"#FFFFFF\" height=\"45.9375\" id=\"E5\" rx=\"10\" ry=\"10\" style=\"stroke: #383838; stroke-width: 1.5;\" width=\"42\" x=\"44\" y=\"147\"/><text fill=\"#000000\" font-family=\"sans-serif\" font-size=\"12\" font-style=\"italic\" lengthAdjust=\"spacingAndGlyphs\" textLength=\"40\" x=\"45\" y=\"163.1387\">«part»</text><text fill=\"#000000\" font-family=\"sans-serif\" font-size=\"12\" lengthAdjust=\"spacingAndGlyphs\" textLength=\"8\" x=\"61\" y=\"177.1074\">g</text><line style=\"stroke: #383838; stroke-width: 1.5;\" x1=\"45\" x2=\"85\" y1=\"184.9375\" y2=\"184.9375\"/></a><!--MD5=[209b3feb70ccb6233bfe1053d122c12c]\n",
       "reverse link E2 to E3--><a href=\"psysml:9a16e398-0ba6-448d-aba1-0f88a9a52804\" target=\"_top\" title=\"psysml:9a16e398-0ba6-448d-aba1-0f88a9a52804\" xlink:actuate=\"onRequest\" xlink:href=\"psysml:9a16e398-0ba6-448d-aba1-0f88a9a52804\" xlink:show=\"new\" xlink:title=\"psysml:9a16e398-0ba6-448d-aba1-0f88a9a52804\" xlink:type=\"simple\"><path d=\"M154,100.44 C154,115.87 154,133.47 154,146.98 \" fill=\"none\" id=\"E2&lt;-E3\" style=\"stroke: #383838; stroke-width: 1.0;\"/><polygon fill=\"#383838\" points=\"154,87.06,150,93.06,154,99.06,158,93.06,154,87.06\" style=\"stroke: #383838; stroke-width: 1.0;\"/></a><!--MD5=[62aa6af11e70f752912c1cb0466f24f7]\n",
       "reverse link E4 to E5--><a href=\"psysml:43d8af85-10f5-4c20-8018-948df50254a5\" target=\"_top\" title=\"psysml:43d8af85-10f5-4c20-8018-948df50254a5\" xlink:actuate=\"onRequest\" xlink:href=\"psysml:43d8af85-10f5-4c20-8018-948df50254a5\" xlink:show=\"new\" xlink:title=\"psysml:43d8af85-10f5-4c20-8018-948df50254a5\" xlink:type=\"simple\"><path d=\"M65,100.44 C65,115.87 65,133.47 65,146.98 \" fill=\"none\" id=\"E4&lt;-E5\" style=\"stroke: #383838; stroke-width: 1.0;\"/><polygon fill=\"#383838\" points=\"65,87.06,61,93.06,65,99.06,69,93.06,65,87.06\" style=\"stroke: #383838; stroke-width: 1.0;\"/></a><!--MD5=[28dc423a463df5409b31ab39bc17bd6d]\n",
       "@startuml\r\n",
       "skinparam monochrome true\r\n",
       "skinparam classbackgroundcolor white\r\n",
       "skinparam shadowing false\r\n",
       "skinparam wrapWidth 300\r\n",
       "hide circle\r\n",
       "\r\n",
       "package \"Q\" as E1  [[psysml:1ca4998e-7283-4312-8b1a-8c25c589ba37 ]]  {\r\n",
       "comp usage \"f\" as E2  <<(T,blue)part>> [[psysml:9f0b35e2-e039-4fc1-a74b-e29bd15d28ff ]] {\r\n",
       "}\r\n",
       "comp usage \"a\" as E3  <<(T,blue)part>> [[psysml:9a16e398-0ba6-448d-aba1-0f88a9a52804 ]] {\r\n",
       "}\r\n",
       "comp def \"C\" as E4  <<(T,blue)part def>> [[psysml:17ca64f8-f38a-4aec-8c02-fbca076b4a28 ]] {\r\n",
       "}\r\n",
       "comp usage \"g\" as E5  <<(T,blue)part>> [[psysml:43d8af85-10f5-4c20-8018-948df50254a5 ]] {\r\n",
       "}\r\n",
       "E2 *- - E3 [[psysml:9a16e398-0ba6-448d-aba1-0f88a9a52804 ]] \r\n",
       "E4 *- - E5 [[psysml:43d8af85-10f5-4c20-8018-948df50254a5 ]] \r\n",
       "}\r\n",
       "@enduml\r\n",
       "\n",
       "PlantUML version 1.2020.13(Sat Jun 13 12:26:38 UTC 2020)\n",
       "(EPL source distribution)\n",
       "Java Runtime: OpenJDK Runtime Environment\n",
       "JVM: OpenJDK 64-Bit Server VM\n",
       "Default Encoding: UTF-8\n",
       "Language: en\n",
       "Country: null\n",
       "--></g></svg>"
      ]
     },
     "execution_count": 38,
     "metadata": {},
     "output_type": "execute_result"
    }
   ],
   "source": [
    "%viz --style=\"DEFAULT\" --view=\"Tree\" \"Q\""
   ]
  },
  {
   "cell_type": "code",
   "execution_count": 39,
   "id": "color-dependence",
   "metadata": {
    "execution": {
     "iopub.execute_input": "2021-03-25T15:00:59.649451Z",
     "iopub.status.busy": "2021-03-25T15:00:59.649008Z",
     "iopub.status.idle": "2021-03-25T15:00:59.657648Z",
     "shell.execute_reply": "2021-03-25T15:00:59.656996Z"
    }
   },
   "outputs": [
    {
     "data": {
      "image/svg+xml": [
       "<?xml version=\"1.0\" encoding=\"UTF-8\" standalone=\"no\"?><svg xmlns=\"http://www.w3.org/2000/svg\" xmlns:xlink=\"http://www.w3.org/1999/xlink\" contentScriptType=\"application/ecmascript\" contentStyleType=\"text/css\" height=\"12px\" preserveAspectRatio=\"none\" style=\"width:12px;height:12px;\" version=\"1.1\" viewBox=\"0 0 12 12\" width=\"12px\" zoomAndPan=\"magnify\"><defs/><g><!--MD5=[c5f280e076d0d61ccf4b0f27871bda1d]\n",
       "@startuml\r\n",
       "skinparam monochrome true\r\n",
       "skinparam classbackgroundcolor white\r\n",
       "skinparam shadowing false\r\n",
       "skinparam wrapWidth 300\r\n",
       "hide circle\r\n",
       "\r\n",
       "@enduml\r\n",
       "\n",
       "PlantUML version 1.2020.13(Sat Jun 13 12:26:38 UTC 2020)\n",
       "(EPL source distribution)\n",
       "Java Runtime: OpenJDK Runtime Environment\n",
       "JVM: OpenJDK 64-Bit Server VM\n",
       "Default Encoding: UTF-8\n",
       "Language: en\n",
       "Country: null\n",
       "--></g></svg>"
      ]
     },
     "execution_count": 39,
     "metadata": {},
     "output_type": "execute_result"
    }
   ],
   "source": [
    "%viz --style=\"DEFAULT\" --view=\"State\" \"Q\""
   ]
  },
  {
   "cell_type": "code",
   "execution_count": 40,
   "id": "judicial-desktop",
   "metadata": {
    "execution": {
     "iopub.execute_input": "2021-03-25T15:00:59.708614Z",
     "iopub.status.busy": "2021-03-25T15:00:59.707861Z",
     "iopub.status.idle": "2021-03-25T15:00:59.769209Z",
     "shell.execute_reply": "2021-03-25T15:00:59.768865Z"
    }
   },
   "outputs": [
    {
     "data": {
      "image/svg+xml": [
       "<?xml version=\"1.0\" encoding=\"UTF-8\" standalone=\"no\"?><svg xmlns=\"http://www.w3.org/2000/svg\" xmlns:xlink=\"http://www.w3.org/1999/xlink\" contentScriptType=\"application/ecmascript\" contentStyleType=\"text/css\" height=\"192px\" preserveAspectRatio=\"none\" style=\"width:279px;height:192px;\" version=\"1.1\" viewBox=\"0 0 279 192\" width=\"279px\" zoomAndPan=\"magnify\"><defs/><g><!--MD5=[fbc87193dbaf4d95561dea2c320d4a47]\n",
       "cluster E1--><a href=\"psysml:1ca4998e-7283-4312-8b1a-8c25c589ba37\" target=\"_top\" title=\"psysml:1ca4998e-7283-4312-8b1a-8c25c589ba37\" xlink:actuate=\"onRequest\" xlink:href=\"psysml:1ca4998e-7283-4312-8b1a-8c25c589ba37\" xlink:show=\"new\" xlink:title=\"psysml:1ca4998e-7283-4312-8b1a-8c25c589ba37\" xlink:type=\"simple\"><polygon fill=\"#FFFFFF\" points=\"16,6,34,6,41,28.2969,257,28.2969,257,180,16,180,16,6\" style=\"stroke: #000000; stroke-width: 1.5;\"/><line style=\"stroke: #000000; stroke-width: 1.5;\" x1=\"16\" x2=\"41\" y1=\"28.2969\" y2=\"28.2969\"/><text fill=\"#000000\" font-family=\"sans-serif\" font-size=\"14\" font-weight=\"bold\" lengthAdjust=\"spacingAndGlyphs\" textLength=\"12\" x=\"20\" y=\"20.9951\">Q</text></a><!--MD5=[e4f7fae6ed58524ba242bb0b0d3be6b7]\n",
       "cluster E2--><a href=\"psysml:9f0b35e2-e039-4fc1-a74b-e29bd15d28ff\" target=\"_top\" title=\"psysml:9f0b35e2-e039-4fc1-a74b-e29bd15d28ff\" xlink:actuate=\"onRequest\" xlink:href=\"psysml:9f0b35e2-e039-4fc1-a74b-e29bd15d28ff\" xlink:show=\"new\" xlink:title=\"psysml:9f0b35e2-e039-4fc1-a74b-e29bd15d28ff\" xlink:type=\"simple\"><rect fill=\"#FFFFFF\" height=\"91\" id=\"E2\" rx=\"10\" ry=\"10\" style=\"stroke: #383838; stroke-width: 1.5;\" width=\"82\" x=\"151\" y=\"65\"/><rect fill=\"#F8F8F8\" height=\"23.9688\" rx=\"10\" ry=\"10\" style=\"stroke: #F8F8F8; stroke-width: 1.5;\" width=\"82\" x=\"151\" y=\"65\"/><rect fill=\"#F8F8F8\" height=\"10\" style=\"stroke: #F8F8F8; stroke-width: 1.5;\" width=\"82\" x=\"151\" y=\"78.9688\"/><rect fill=\"none\" height=\"91\" id=\"E2\" rx=\"10\" ry=\"10\" style=\"stroke: #383838; stroke-width: 1.5;\" width=\"82\" x=\"151\" y=\"65\"/><text fill=\"#000000\" font-family=\"sans-serif\" font-size=\"12\" lengthAdjust=\"spacingAndGlyphs\" textLength=\"4\" x=\"190\" y=\"81.1387\">f</text><line style=\"stroke: #383838; stroke-width: 1.0;\" x1=\"151\" x2=\"233\" y1=\"88.9688\" y2=\"88.9688\"/></a><!--MD5=[f6df4d0ebaf0b5dfb2ced0ae5af7c670]\n",
       "cluster E4--><a href=\"psysml:17ca64f8-f38a-4aec-8c02-fbca076b4a28\" target=\"_top\" title=\"psysml:17ca64f8-f38a-4aec-8c02-fbca076b4a28\" xlink:actuate=\"onRequest\" xlink:href=\"psysml:17ca64f8-f38a-4aec-8c02-fbca076b4a28\" xlink:show=\"new\" xlink:title=\"psysml:17ca64f8-f38a-4aec-8c02-fbca076b4a28\" xlink:type=\"simple\"><rect fill=\"#FFFFFF\" height=\"107\" id=\"E4\" style=\"stroke: #383838; stroke-width: 1.5;\" width=\"87\" x=\"40\" y=\"49\"/><rect fill=\"#F8F8F8\" height=\"37.9375\" style=\"stroke: #383838; stroke-width: 1.5;\" width=\"87\" x=\"40\" y=\"49\"/><text fill=\"#000000\" font-family=\"sans-serif\" font-size=\"12\" font-style=\"italic\" lengthAdjust=\"spacingAndGlyphs\" textLength=\"64\" x=\"51.5\" y=\"65.1387\">«part def»</text><text fill=\"#000000\" font-family=\"sans-serif\" font-size=\"12\" lengthAdjust=\"spacingAndGlyphs\" textLength=\"8\" x=\"79.5\" y=\"79.1074\">C</text></a><g id=\"E1.E2.E3\"><a href=\"psysml:9a16e398-0ba6-448d-aba1-0f88a9a52804\" target=\"_top\" title=\"psysml:9a16e398-0ba6-448d-aba1-0f88a9a52804\" xlink:actuate=\"onRequest\" xlink:href=\"psysml:9a16e398-0ba6-448d-aba1-0f88a9a52804\" xlink:show=\"new\" xlink:title=\"psysml:9a16e398-0ba6-448d-aba1-0f88a9a52804\" xlink:type=\"simple\"><rect fill=\"#FFFFFF\" height=\"40\" id=\"E3\" rx=\"10\" ry=\"10\" style=\"stroke: #383838; stroke-width: 1.5;\" width=\"50\" x=\"167\" y=\"100\"/><rect fill=\"#F8F8F8\" height=\"23.9688\" rx=\"10\" ry=\"10\" style=\"stroke: #F8F8F8; stroke-width: 1.5;\" width=\"50\" x=\"167\" y=\"100\"/><rect fill=\"#F8F8F8\" height=\"10\" style=\"stroke: #F8F8F8; stroke-width: 1.5;\" width=\"50\" x=\"167\" y=\"113.9688\"/><rect fill=\"none\" height=\"40\" id=\"E3\" rx=\"10\" ry=\"10\" style=\"stroke: #383838; stroke-width: 1.5;\" width=\"50\" x=\"167\" y=\"100\"/><text fill=\"#000000\" font-family=\"sans-serif\" font-size=\"12\" lengthAdjust=\"spacingAndGlyphs\" textLength=\"8\" x=\"188\" y=\"116.1387\">a</text></a></g><g id=\"E1.E4.E5\"><a href=\"psysml:43d8af85-10f5-4c20-8018-948df50254a5\" target=\"_top\" title=\"psysml:43d8af85-10f5-4c20-8018-948df50254a5\" xlink:actuate=\"onRequest\" xlink:href=\"psysml:43d8af85-10f5-4c20-8018-948df50254a5\" xlink:show=\"new\" xlink:title=\"psysml:43d8af85-10f5-4c20-8018-948df50254a5\" xlink:type=\"simple\"><rect fill=\"#FFFFFF\" height=\"40\" id=\"E5\" rx=\"10\" ry=\"10\" style=\"stroke: #383838; stroke-width: 1.5;\" width=\"50\" x=\"58\" y=\"100\"/><rect fill=\"#F8F8F8\" height=\"23.9688\" rx=\"10\" ry=\"10\" style=\"stroke: #F8F8F8; stroke-width: 1.5;\" width=\"50\" x=\"58\" y=\"100\"/><rect fill=\"#F8F8F8\" height=\"10\" style=\"stroke: #F8F8F8; stroke-width: 1.5;\" width=\"50\" x=\"58\" y=\"113.9688\"/><rect fill=\"none\" height=\"40\" id=\"E5\" rx=\"10\" ry=\"10\" style=\"stroke: #383838; stroke-width: 1.5;\" width=\"50\" x=\"58\" y=\"100\"/><text fill=\"#000000\" font-family=\"sans-serif\" font-size=\"12\" lengthAdjust=\"spacingAndGlyphs\" textLength=\"8\" x=\"79\" y=\"116.1387\">g</text></a></g><!--MD5=[5993562855c5297f73858f7c867d4d27]\n",
       "@startuml\r\n",
       "skinparam ranksep 8\r\n",
       "skinparam rectangle {\r\n",
       " backgroundColor<<block>> LightGreen\r\n",
       "}\r\n",
       "skinparam monochrome true\r\n",
       "skinparam classbackgroundcolor white\r\n",
       "skinparam shadowing false\r\n",
       "skinparam wrapWidth 300\r\n",
       "hide circle\r\n",
       "\r\n",
       "package \"Q\" as E1  [[psysml:1ca4998e-7283-4312-8b1a-8c25c589ba37 ]]  {\r\n",
       "rec usage \"f\" as E2  [[psysml:9f0b35e2-e039-4fc1-a74b-e29bd15d28ff ]] {\r\n",
       "rec usage \"a\" as E3  [[psysml:9a16e398-0ba6-448d-aba1-0f88a9a52804 ]] {\r\n",
       "}\r\n",
       "}\r\n",
       "rec def \"C\" as E4  <<(T,blue)part def>> [[psysml:17ca64f8-f38a-4aec-8c02-fbca076b4a28 ]] {\r\n",
       "rec usage \"g\" as E5  [[psysml:43d8af85-10f5-4c20-8018-948df50254a5 ]] {\r\n",
       "}\r\n",
       "}\r\n",
       "}\r\n",
       "@enduml\r\n",
       "\n",
       "PlantUML version 1.2020.13(Sat Jun 13 12:26:38 UTC 2020)\n",
       "(EPL source distribution)\n",
       "Java Runtime: OpenJDK Runtime Environment\n",
       "JVM: OpenJDK 64-Bit Server VM\n",
       "Default Encoding: UTF-8\n",
       "Language: en\n",
       "Country: null\n",
       "--></g></svg>"
      ]
     },
     "execution_count": 40,
     "metadata": {},
     "output_type": "execute_result"
    }
   ],
   "source": [
    "%viz --style=\"DEFAULT\" --view=\"Interconnection\" \"Q\""
   ]
  },
  {
   "cell_type": "code",
   "execution_count": 41,
   "id": "constitutional-denial",
   "metadata": {
    "execution": {
     "iopub.execute_input": "2021-03-25T15:00:59.819285Z",
     "iopub.status.busy": "2021-03-25T15:00:59.818906Z",
     "iopub.status.idle": "2021-03-25T15:00:59.826086Z",
     "shell.execute_reply": "2021-03-25T15:00:59.825789Z"
    }
   },
   "outputs": [
    {
     "data": {
      "image/svg+xml": [
       "<?xml version=\"1.0\" encoding=\"UTF-8\" standalone=\"no\"?><svg xmlns=\"http://www.w3.org/2000/svg\" xmlns:xlink=\"http://www.w3.org/1999/xlink\" contentScriptType=\"application/ecmascript\" contentStyleType=\"text/css\" height=\"12px\" preserveAspectRatio=\"none\" style=\"width:12px;height:12px;\" version=\"1.1\" viewBox=\"0 0 12 12\" width=\"12px\" zoomAndPan=\"magnify\"><defs/><g><!--MD5=[388f21188e31bfdd97050473b19af356]\n",
       "@startuml\r\n",
       "skinparam ranksep 8\r\n",
       "skinparam monochrome true\r\n",
       "skinparam classbackgroundcolor white\r\n",
       "skinparam shadowing false\r\n",
       "skinparam wrapWidth 300\r\n",
       "hide circle\r\n",
       "\r\n",
       "@enduml\r\n",
       "\n",
       "PlantUML version 1.2020.13(Sat Jun 13 12:26:38 UTC 2020)\n",
       "(EPL source distribution)\n",
       "Java Runtime: OpenJDK Runtime Environment\n",
       "JVM: OpenJDK 64-Bit Server VM\n",
       "Default Encoding: UTF-8\n",
       "Language: en\n",
       "Country: null\n",
       "--></g></svg>"
      ]
     },
     "execution_count": 41,
     "metadata": {},
     "output_type": "execute_result"
    }
   ],
   "source": [
    "%viz --style=\"DEFAULT\" --view=\"Action\" \"Q\""
   ]
  },
  {
   "cell_type": "code",
   "execution_count": 42,
   "id": "cathedral-orchestra",
   "metadata": {
    "execution": {
     "iopub.execute_input": "2021-03-25T15:00:59.876341Z",
     "iopub.status.busy": "2021-03-25T15:00:59.875932Z",
     "iopub.status.idle": "2021-03-25T15:00:59.931113Z",
     "shell.execute_reply": "2021-03-25T15:00:59.928310Z"
    }
   },
   "outputs": [
    {
     "data": {
      "image/svg+xml": [
       "<?xml version=\"1.0\" encoding=\"UTF-8\" standalone=\"no\"?><svg xmlns=\"http://www.w3.org/2000/svg\" xmlns:xlink=\"http://www.w3.org/1999/xlink\" contentScriptType=\"application/ecmascript\" contentStyleType=\"text/css\" height=\"221px\" preserveAspectRatio=\"none\" style=\"width:213px;height:221px;\" version=\"1.1\" viewBox=\"0 0 213 221\" width=\"213px\" zoomAndPan=\"magnify\"><defs/><g><!--MD5=[fbc87193dbaf4d95561dea2c320d4a47]\n",
       "cluster E1--><a href=\"psysml:1ca4998e-7283-4312-8b1a-8c25c589ba37\" target=\"_top\" title=\"psysml:1ca4998e-7283-4312-8b1a-8c25c589ba37\" xlink:actuate=\"onRequest\" xlink:href=\"psysml:1ca4998e-7283-4312-8b1a-8c25c589ba37\" xlink:show=\"new\" xlink:title=\"psysml:1ca4998e-7283-4312-8b1a-8c25c589ba37\" xlink:type=\"simple\"><polygon fill=\"#FFFFFF\" points=\"16,6,34,6,41,28.2969,191,28.2969,191,209,16,209,16,6\" style=\"stroke: #000000; stroke-width: 1.5;\"/><line style=\"stroke: #000000; stroke-width: 1.5;\" x1=\"16\" x2=\"41\" y1=\"28.2969\" y2=\"28.2969\"/><text fill=\"#000000\" font-family=\"sans-serif\" font-size=\"14\" font-weight=\"bold\" lengthAdjust=\"spacingAndGlyphs\" textLength=\"12\" x=\"20\" y=\"20.9951\">Q</text></a><!--MD5=[b4997ac47864f28c2f74865a473b2911]\n",
       "class E2--><a href=\"psysml:9f0b35e2-e039-4fc1-a74b-e29bd15d28ff\" target=\"_top\" title=\"psysml:9f0b35e2-e039-4fc1-a74b-e29bd15d28ff\" xlink:actuate=\"onRequest\" xlink:href=\"psysml:9f0b35e2-e039-4fc1-a74b-e29bd15d28ff\" xlink:show=\"new\" xlink:title=\"psysml:9f0b35e2-e039-4fc1-a74b-e29bd15d28ff\" xlink:type=\"simple\"><rect fill=\"#FFFFFF\" height=\"45.9375\" id=\"E2\" rx=\"10\" ry=\"10\" style=\"stroke: #383838; stroke-width: 1.5;\" width=\"42\" x=\"133\" y=\"41\"/><text fill=\"#000000\" font-family=\"sans-serif\" font-size=\"12\" font-style=\"italic\" lengthAdjust=\"spacingAndGlyphs\" textLength=\"40\" x=\"134\" y=\"57.1387\">«part»</text><text fill=\"#000000\" font-family=\"sans-serif\" font-size=\"12\" lengthAdjust=\"spacingAndGlyphs\" textLength=\"4\" x=\"152\" y=\"71.1074\">f</text><line style=\"stroke: #383838; stroke-width: 1.5;\" x1=\"134\" x2=\"174\" y1=\"78.9375\" y2=\"78.9375\"/></a><!--MD5=[09b614a08d8cba4a07c9adeb5e0fee81]\n",
       "class E3--><a href=\"psysml:9a16e398-0ba6-448d-aba1-0f88a9a52804\" target=\"_top\" title=\"psysml:9a16e398-0ba6-448d-aba1-0f88a9a52804\" xlink:actuate=\"onRequest\" xlink:href=\"psysml:9a16e398-0ba6-448d-aba1-0f88a9a52804\" xlink:show=\"new\" xlink:title=\"psysml:9a16e398-0ba6-448d-aba1-0f88a9a52804\" xlink:type=\"simple\"><rect fill=\"#FFFFFF\" height=\"45.9375\" id=\"E3\" rx=\"10\" ry=\"10\" style=\"stroke: #383838; stroke-width: 1.5;\" width=\"42\" x=\"133\" y=\"147\"/><text fill=\"#000000\" font-family=\"sans-serif\" font-size=\"12\" font-style=\"italic\" lengthAdjust=\"spacingAndGlyphs\" textLength=\"40\" x=\"134\" y=\"163.1387\">«part»</text><text fill=\"#000000\" font-family=\"sans-serif\" font-size=\"12\" lengthAdjust=\"spacingAndGlyphs\" textLength=\"8\" x=\"150\" y=\"177.1074\">a</text><line style=\"stroke: #383838; stroke-width: 1.5;\" x1=\"134\" x2=\"174\" y1=\"184.9375\" y2=\"184.9375\"/></a><!--MD5=[ebbe1d658d1005bcc118a6aa81145e00]\n",
       "class E4--><a href=\"psysml:17ca64f8-f38a-4aec-8c02-fbca076b4a28\" target=\"_top\" title=\"psysml:17ca64f8-f38a-4aec-8c02-fbca076b4a28\" xlink:actuate=\"onRequest\" xlink:href=\"psysml:17ca64f8-f38a-4aec-8c02-fbca076b4a28\" xlink:show=\"new\" xlink:title=\"psysml:17ca64f8-f38a-4aec-8c02-fbca076b4a28\" xlink:type=\"simple\"><rect fill=\"#FFFFFF\" height=\"45.9375\" id=\"E4\" style=\"stroke: #383838; stroke-width: 1.5;\" width=\"66\" x=\"32\" y=\"41\"/><text fill=\"#000000\" font-family=\"sans-serif\" font-size=\"12\" font-style=\"italic\" lengthAdjust=\"spacingAndGlyphs\" textLength=\"64\" x=\"33\" y=\"57.1387\">«part def»</text><text fill=\"#000000\" font-family=\"sans-serif\" font-size=\"12\" lengthAdjust=\"spacingAndGlyphs\" textLength=\"8\" x=\"61\" y=\"71.1074\">C</text><line style=\"stroke: #383838; stroke-width: 1.5;\" x1=\"33\" x2=\"97\" y1=\"78.9375\" y2=\"78.9375\"/></a><!--MD5=[270fce915f116d4de14055a7c1d9a0f3]\n",
       "class E5--><a href=\"psysml:43d8af85-10f5-4c20-8018-948df50254a5\" target=\"_top\" title=\"psysml:43d8af85-10f5-4c20-8018-948df50254a5\" xlink:actuate=\"onRequest\" xlink:href=\"psysml:43d8af85-10f5-4c20-8018-948df50254a5\" xlink:show=\"new\" xlink:title=\"psysml:43d8af85-10f5-4c20-8018-948df50254a5\" xlink:type=\"simple\"><rect fill=\"#FFFFFF\" height=\"45.9375\" id=\"E5\" rx=\"10\" ry=\"10\" style=\"stroke: #383838; stroke-width: 1.5;\" width=\"42\" x=\"44\" y=\"147\"/><text fill=\"#000000\" font-family=\"sans-serif\" font-size=\"12\" font-style=\"italic\" lengthAdjust=\"spacingAndGlyphs\" textLength=\"40\" x=\"45\" y=\"163.1387\">«part»</text><text fill=\"#000000\" font-family=\"sans-serif\" font-size=\"12\" lengthAdjust=\"spacingAndGlyphs\" textLength=\"8\" x=\"61\" y=\"177.1074\">g</text><line style=\"stroke: #383838; stroke-width: 1.5;\" x1=\"45\" x2=\"85\" y1=\"184.9375\" y2=\"184.9375\"/></a><!--MD5=[209b3feb70ccb6233bfe1053d122c12c]\n",
       "reverse link E2 to E3--><a href=\"psysml:9a16e398-0ba6-448d-aba1-0f88a9a52804\" target=\"_top\" title=\"psysml:9a16e398-0ba6-448d-aba1-0f88a9a52804\" xlink:actuate=\"onRequest\" xlink:href=\"psysml:9a16e398-0ba6-448d-aba1-0f88a9a52804\" xlink:show=\"new\" xlink:title=\"psysml:9a16e398-0ba6-448d-aba1-0f88a9a52804\" xlink:type=\"simple\"><path d=\"M154,100.44 C154,115.87 154,133.47 154,146.98 \" fill=\"none\" id=\"E2&lt;-E3\" style=\"stroke: #383838; stroke-width: 1.0;\"/><polygon fill=\"#383838\" points=\"154,87.06,150,93.06,154,99.06,158,93.06,154,87.06\" style=\"stroke: #383838; stroke-width: 1.0;\"/></a><!--MD5=[62aa6af11e70f752912c1cb0466f24f7]\n",
       "reverse link E4 to E5--><a href=\"psysml:43d8af85-10f5-4c20-8018-948df50254a5\" target=\"_top\" title=\"psysml:43d8af85-10f5-4c20-8018-948df50254a5\" xlink:actuate=\"onRequest\" xlink:href=\"psysml:43d8af85-10f5-4c20-8018-948df50254a5\" xlink:show=\"new\" xlink:title=\"psysml:43d8af85-10f5-4c20-8018-948df50254a5\" xlink:type=\"simple\"><path d=\"M65,100.44 C65,115.87 65,133.47 65,146.98 \" fill=\"none\" id=\"E4&lt;-E5\" style=\"stroke: #383838; stroke-width: 1.0;\"/><polygon fill=\"#383838\" points=\"65,87.06,61,93.06,65,99.06,69,93.06,65,87.06\" style=\"stroke: #383838; stroke-width: 1.0;\"/></a><!--MD5=[28dc423a463df5409b31ab39bc17bd6d]\n",
       "@startuml\r\n",
       "skinparam monochrome true\r\n",
       "skinparam classbackgroundcolor white\r\n",
       "skinparam shadowing false\r\n",
       "skinparam wrapWidth 300\r\n",
       "hide circle\r\n",
       "\r\n",
       "package \"Q\" as E1  [[psysml:1ca4998e-7283-4312-8b1a-8c25c589ba37 ]]  {\r\n",
       "comp usage \"f\" as E2  <<(T,blue)part>> [[psysml:9f0b35e2-e039-4fc1-a74b-e29bd15d28ff ]] {\r\n",
       "}\r\n",
       "comp usage \"a\" as E3  <<(T,blue)part>> [[psysml:9a16e398-0ba6-448d-aba1-0f88a9a52804 ]] {\r\n",
       "}\r\n",
       "comp def \"C\" as E4  <<(T,blue)part def>> [[psysml:17ca64f8-f38a-4aec-8c02-fbca076b4a28 ]] {\r\n",
       "}\r\n",
       "comp usage \"g\" as E5  <<(T,blue)part>> [[psysml:43d8af85-10f5-4c20-8018-948df50254a5 ]] {\r\n",
       "}\r\n",
       "E2 *- - E3 [[psysml:9a16e398-0ba6-448d-aba1-0f88a9a52804 ]] \r\n",
       "E4 *- - E5 [[psysml:43d8af85-10f5-4c20-8018-948df50254a5 ]] \r\n",
       "}\r\n",
       "@enduml\r\n",
       "\n",
       "PlantUML version 1.2020.13(Sat Jun 13 12:26:38 UTC 2020)\n",
       "(EPL source distribution)\n",
       "Java Runtime: OpenJDK Runtime Environment\n",
       "JVM: OpenJDK 64-Bit Server VM\n",
       "Default Encoding: UTF-8\n",
       "Language: en\n",
       "Country: null\n",
       "--></g></svg>"
      ]
     },
     "execution_count": 42,
     "metadata": {},
     "output_type": "execute_result"
    }
   ],
   "source": [
    "%viz --style=\"DEFAULT\" --view=\"Sequence\" \"Q\""
   ]
  },
  {
   "cell_type": "code",
   "execution_count": 43,
   "id": "animated-agenda",
   "metadata": {
    "execution": {
     "iopub.execute_input": "2021-03-25T15:00:59.980775Z",
     "iopub.status.busy": "2021-03-25T15:00:59.980380Z",
     "iopub.status.idle": "2021-03-25T15:01:00.030778Z",
     "shell.execute_reply": "2021-03-25T15:01:00.029064Z"
    }
   },
   "outputs": [
    {
     "data": {
      "image/svg+xml": [
       "<?xml version=\"1.0\" encoding=\"UTF-8\" standalone=\"no\"?><svg xmlns=\"http://www.w3.org/2000/svg\" xmlns:xlink=\"http://www.w3.org/1999/xlink\" contentScriptType=\"application/ecmascript\" contentStyleType=\"text/css\" height=\"221px\" preserveAspectRatio=\"none\" style=\"width:213px;height:221px;\" version=\"1.1\" viewBox=\"0 0 213 221\" width=\"213px\" zoomAndPan=\"magnify\"><defs/><g><!--MD5=[fbc87193dbaf4d95561dea2c320d4a47]\n",
       "cluster E1--><a href=\"psysml:1ca4998e-7283-4312-8b1a-8c25c589ba37\" target=\"_top\" title=\"psysml:1ca4998e-7283-4312-8b1a-8c25c589ba37\" xlink:actuate=\"onRequest\" xlink:href=\"psysml:1ca4998e-7283-4312-8b1a-8c25c589ba37\" xlink:show=\"new\" xlink:title=\"psysml:1ca4998e-7283-4312-8b1a-8c25c589ba37\" xlink:type=\"simple\"><polygon fill=\"#FFFFFF\" points=\"16,6,34,6,41,28.2969,191,28.2969,191,209,16,209,16,6\" style=\"stroke: #000000; stroke-width: 1.5;\"/><line style=\"stroke: #000000; stroke-width: 1.5;\" x1=\"16\" x2=\"41\" y1=\"28.2969\" y2=\"28.2969\"/><text fill=\"#000000\" font-family=\"sans-serif\" font-size=\"14\" font-weight=\"bold\" lengthAdjust=\"spacingAndGlyphs\" textLength=\"12\" x=\"20\" y=\"20.9951\">Q</text></a><!--MD5=[b4997ac47864f28c2f74865a473b2911]\n",
       "class E2--><a href=\"psysml:9f0b35e2-e039-4fc1-a74b-e29bd15d28ff\" target=\"_top\" title=\"psysml:9f0b35e2-e039-4fc1-a74b-e29bd15d28ff\" xlink:actuate=\"onRequest\" xlink:href=\"psysml:9f0b35e2-e039-4fc1-a74b-e29bd15d28ff\" xlink:show=\"new\" xlink:title=\"psysml:9f0b35e2-e039-4fc1-a74b-e29bd15d28ff\" xlink:type=\"simple\"><rect fill=\"#FFFFFF\" height=\"45.9375\" id=\"E2\" rx=\"10\" ry=\"10\" style=\"stroke: #383838; stroke-width: 1.5;\" width=\"42\" x=\"133\" y=\"41\"/><text fill=\"#000000\" font-family=\"sans-serif\" font-size=\"12\" font-style=\"italic\" lengthAdjust=\"spacingAndGlyphs\" textLength=\"40\" x=\"134\" y=\"57.1387\">«part»</text><text fill=\"#000000\" font-family=\"sans-serif\" font-size=\"12\" lengthAdjust=\"spacingAndGlyphs\" textLength=\"4\" x=\"152\" y=\"71.1074\">f</text><line style=\"stroke: #383838; stroke-width: 1.5;\" x1=\"134\" x2=\"174\" y1=\"78.9375\" y2=\"78.9375\"/></a><!--MD5=[09b614a08d8cba4a07c9adeb5e0fee81]\n",
       "class E3--><a href=\"psysml:9a16e398-0ba6-448d-aba1-0f88a9a52804\" target=\"_top\" title=\"psysml:9a16e398-0ba6-448d-aba1-0f88a9a52804\" xlink:actuate=\"onRequest\" xlink:href=\"psysml:9a16e398-0ba6-448d-aba1-0f88a9a52804\" xlink:show=\"new\" xlink:title=\"psysml:9a16e398-0ba6-448d-aba1-0f88a9a52804\" xlink:type=\"simple\"><rect fill=\"#FFFFFF\" height=\"45.9375\" id=\"E3\" rx=\"10\" ry=\"10\" style=\"stroke: #383838; stroke-width: 1.5;\" width=\"42\" x=\"133\" y=\"147\"/><text fill=\"#000000\" font-family=\"sans-serif\" font-size=\"12\" font-style=\"italic\" lengthAdjust=\"spacingAndGlyphs\" textLength=\"40\" x=\"134\" y=\"163.1387\">«part»</text><text fill=\"#000000\" font-family=\"sans-serif\" font-size=\"12\" lengthAdjust=\"spacingAndGlyphs\" textLength=\"8\" x=\"150\" y=\"177.1074\">a</text><line style=\"stroke: #383838; stroke-width: 1.5;\" x1=\"134\" x2=\"174\" y1=\"184.9375\" y2=\"184.9375\"/></a><!--MD5=[ebbe1d658d1005bcc118a6aa81145e00]\n",
       "class E4--><a href=\"psysml:17ca64f8-f38a-4aec-8c02-fbca076b4a28\" target=\"_top\" title=\"psysml:17ca64f8-f38a-4aec-8c02-fbca076b4a28\" xlink:actuate=\"onRequest\" xlink:href=\"psysml:17ca64f8-f38a-4aec-8c02-fbca076b4a28\" xlink:show=\"new\" xlink:title=\"psysml:17ca64f8-f38a-4aec-8c02-fbca076b4a28\" xlink:type=\"simple\"><rect fill=\"#FFFFFF\" height=\"45.9375\" id=\"E4\" style=\"stroke: #383838; stroke-width: 1.5;\" width=\"66\" x=\"32\" y=\"41\"/><text fill=\"#000000\" font-family=\"sans-serif\" font-size=\"12\" font-style=\"italic\" lengthAdjust=\"spacingAndGlyphs\" textLength=\"64\" x=\"33\" y=\"57.1387\">«part def»</text><text fill=\"#000000\" font-family=\"sans-serif\" font-size=\"12\" lengthAdjust=\"spacingAndGlyphs\" textLength=\"8\" x=\"61\" y=\"71.1074\">C</text><line style=\"stroke: #383838; stroke-width: 1.5;\" x1=\"33\" x2=\"97\" y1=\"78.9375\" y2=\"78.9375\"/></a><!--MD5=[270fce915f116d4de14055a7c1d9a0f3]\n",
       "class E5--><a href=\"psysml:43d8af85-10f5-4c20-8018-948df50254a5\" target=\"_top\" title=\"psysml:43d8af85-10f5-4c20-8018-948df50254a5\" xlink:actuate=\"onRequest\" xlink:href=\"psysml:43d8af85-10f5-4c20-8018-948df50254a5\" xlink:show=\"new\" xlink:title=\"psysml:43d8af85-10f5-4c20-8018-948df50254a5\" xlink:type=\"simple\"><rect fill=\"#FFFFFF\" height=\"45.9375\" id=\"E5\" rx=\"10\" ry=\"10\" style=\"stroke: #383838; stroke-width: 1.5;\" width=\"42\" x=\"44\" y=\"147\"/><text fill=\"#000000\" font-family=\"sans-serif\" font-size=\"12\" font-style=\"italic\" lengthAdjust=\"spacingAndGlyphs\" textLength=\"40\" x=\"45\" y=\"163.1387\">«part»</text><text fill=\"#000000\" font-family=\"sans-serif\" font-size=\"12\" lengthAdjust=\"spacingAndGlyphs\" textLength=\"8\" x=\"61\" y=\"177.1074\">g</text><line style=\"stroke: #383838; stroke-width: 1.5;\" x1=\"45\" x2=\"85\" y1=\"184.9375\" y2=\"184.9375\"/></a><!--MD5=[209b3feb70ccb6233bfe1053d122c12c]\n",
       "reverse link E2 to E3--><a href=\"psysml:9a16e398-0ba6-448d-aba1-0f88a9a52804\" target=\"_top\" title=\"psysml:9a16e398-0ba6-448d-aba1-0f88a9a52804\" xlink:actuate=\"onRequest\" xlink:href=\"psysml:9a16e398-0ba6-448d-aba1-0f88a9a52804\" xlink:show=\"new\" xlink:title=\"psysml:9a16e398-0ba6-448d-aba1-0f88a9a52804\" xlink:type=\"simple\"><path d=\"M154,100.44 C154,115.87 154,133.47 154,146.98 \" fill=\"none\" id=\"E2&lt;-E3\" style=\"stroke: #383838; stroke-width: 1.0;\"/><polygon fill=\"#383838\" points=\"154,87.06,150,93.06,154,99.06,158,93.06,154,87.06\" style=\"stroke: #383838; stroke-width: 1.0;\"/></a><!--MD5=[62aa6af11e70f752912c1cb0466f24f7]\n",
       "reverse link E4 to E5--><a href=\"psysml:43d8af85-10f5-4c20-8018-948df50254a5\" target=\"_top\" title=\"psysml:43d8af85-10f5-4c20-8018-948df50254a5\" xlink:actuate=\"onRequest\" xlink:href=\"psysml:43d8af85-10f5-4c20-8018-948df50254a5\" xlink:show=\"new\" xlink:title=\"psysml:43d8af85-10f5-4c20-8018-948df50254a5\" xlink:type=\"simple\"><path d=\"M65,100.44 C65,115.87 65,133.47 65,146.98 \" fill=\"none\" id=\"E4&lt;-E5\" style=\"stroke: #383838; stroke-width: 1.0;\"/><polygon fill=\"#383838\" points=\"65,87.06,61,93.06,65,99.06,69,93.06,65,87.06\" style=\"stroke: #383838; stroke-width: 1.0;\"/></a><!--MD5=[28dc423a463df5409b31ab39bc17bd6d]\n",
       "@startuml\r\n",
       "skinparam monochrome true\r\n",
       "skinparam classbackgroundcolor white\r\n",
       "skinparam shadowing false\r\n",
       "skinparam wrapWidth 300\r\n",
       "hide circle\r\n",
       "\r\n",
       "package \"Q\" as E1  [[psysml:1ca4998e-7283-4312-8b1a-8c25c589ba37 ]]  {\r\n",
       "comp usage \"f\" as E2  <<(T,blue)part>> [[psysml:9f0b35e2-e039-4fc1-a74b-e29bd15d28ff ]] {\r\n",
       "}\r\n",
       "comp usage \"a\" as E3  <<(T,blue)part>> [[psysml:9a16e398-0ba6-448d-aba1-0f88a9a52804 ]] {\r\n",
       "}\r\n",
       "comp def \"C\" as E4  <<(T,blue)part def>> [[psysml:17ca64f8-f38a-4aec-8c02-fbca076b4a28 ]] {\r\n",
       "}\r\n",
       "comp usage \"g\" as E5  <<(T,blue)part>> [[psysml:43d8af85-10f5-4c20-8018-948df50254a5 ]] {\r\n",
       "}\r\n",
       "E2 *- - E3 [[psysml:9a16e398-0ba6-448d-aba1-0f88a9a52804 ]] \r\n",
       "E4 *- - E5 [[psysml:43d8af85-10f5-4c20-8018-948df50254a5 ]] \r\n",
       "}\r\n",
       "@enduml\r\n",
       "\n",
       "PlantUML version 1.2020.13(Sat Jun 13 12:26:38 UTC 2020)\n",
       "(EPL source distribution)\n",
       "Java Runtime: OpenJDK Runtime Environment\n",
       "JVM: OpenJDK 64-Bit Server VM\n",
       "Default Encoding: UTF-8\n",
       "Language: en\n",
       "Country: null\n",
       "--></g></svg>"
      ]
     },
     "execution_count": 43,
     "metadata": {},
     "output_type": "execute_result"
    }
   ],
   "source": [
    "%viz --style=\"DEFAULT\" --view=\"MIXED\" \"Q\""
   ]
  },
  {
   "cell_type": "code",
   "execution_count": 44,
   "id": "dedicated-abortion",
   "metadata": {
    "execution": {
     "iopub.execute_input": "2021-03-25T15:01:00.080770Z",
     "iopub.status.busy": "2021-03-25T15:01:00.080264Z",
     "iopub.status.idle": "2021-03-25T15:01:00.128420Z",
     "shell.execute_reply": "2021-03-25T15:01:00.126959Z"
    }
   },
   "outputs": [
    {
     "data": {
      "image/svg+xml": [
       "<?xml version=\"1.0\" encoding=\"UTF-8\" standalone=\"no\"?><svg xmlns=\"http://www.w3.org/2000/svg\" xmlns:xlink=\"http://www.w3.org/1999/xlink\" contentScriptType=\"application/ecmascript\" contentStyleType=\"text/css\" height=\"221px\" preserveAspectRatio=\"none\" style=\"width:213px;height:221px;\" version=\"1.1\" viewBox=\"0 0 213 221\" width=\"213px\" zoomAndPan=\"magnify\"><defs/><g><!--MD5=[fbc87193dbaf4d95561dea2c320d4a47]\n",
       "cluster E1--><a href=\"psysml:1ca4998e-7283-4312-8b1a-8c25c589ba37\" target=\"_top\" title=\"psysml:1ca4998e-7283-4312-8b1a-8c25c589ba37\" xlink:actuate=\"onRequest\" xlink:href=\"psysml:1ca4998e-7283-4312-8b1a-8c25c589ba37\" xlink:show=\"new\" xlink:title=\"psysml:1ca4998e-7283-4312-8b1a-8c25c589ba37\" xlink:type=\"simple\"><polygon fill=\"#FFFFFF\" points=\"16,6,34,6,41,28.2969,191,28.2969,191,209,16,209,16,6\" style=\"stroke: #000000; stroke-width: 1.5;\"/><line style=\"stroke: #000000; stroke-width: 1.5;\" x1=\"16\" x2=\"41\" y1=\"28.2969\" y2=\"28.2969\"/><text fill=\"#000000\" font-family=\"sans-serif\" font-size=\"14\" font-weight=\"bold\" lengthAdjust=\"spacingAndGlyphs\" textLength=\"12\" x=\"20\" y=\"20.9951\">Q</text></a><!--MD5=[b4997ac47864f28c2f74865a473b2911]\n",
       "class E2--><a href=\"psysml:9f0b35e2-e039-4fc1-a74b-e29bd15d28ff\" target=\"_top\" title=\"psysml:9f0b35e2-e039-4fc1-a74b-e29bd15d28ff\" xlink:actuate=\"onRequest\" xlink:href=\"psysml:9f0b35e2-e039-4fc1-a74b-e29bd15d28ff\" xlink:show=\"new\" xlink:title=\"psysml:9f0b35e2-e039-4fc1-a74b-e29bd15d28ff\" xlink:type=\"simple\"><rect fill=\"#FFFFFF\" height=\"45.9375\" id=\"E2\" rx=\"10\" ry=\"10\" style=\"stroke: #383838; stroke-width: 1.5;\" width=\"42\" x=\"133\" y=\"41\"/><text fill=\"#000000\" font-family=\"sans-serif\" font-size=\"12\" font-style=\"italic\" lengthAdjust=\"spacingAndGlyphs\" textLength=\"40\" x=\"134\" y=\"57.1387\">«part»</text><text fill=\"#000000\" font-family=\"sans-serif\" font-size=\"12\" lengthAdjust=\"spacingAndGlyphs\" textLength=\"4\" x=\"152\" y=\"71.1074\">f</text><line style=\"stroke: #383838; stroke-width: 1.5;\" x1=\"134\" x2=\"174\" y1=\"78.9375\" y2=\"78.9375\"/></a><!--MD5=[09b614a08d8cba4a07c9adeb5e0fee81]\n",
       "class E3--><a href=\"psysml:9a16e398-0ba6-448d-aba1-0f88a9a52804\" target=\"_top\" title=\"psysml:9a16e398-0ba6-448d-aba1-0f88a9a52804\" xlink:actuate=\"onRequest\" xlink:href=\"psysml:9a16e398-0ba6-448d-aba1-0f88a9a52804\" xlink:show=\"new\" xlink:title=\"psysml:9a16e398-0ba6-448d-aba1-0f88a9a52804\" xlink:type=\"simple\"><rect fill=\"#FFFFFF\" height=\"45.9375\" id=\"E3\" rx=\"10\" ry=\"10\" style=\"stroke: #383838; stroke-width: 1.5;\" width=\"42\" x=\"133\" y=\"147\"/><text fill=\"#000000\" font-family=\"sans-serif\" font-size=\"12\" font-style=\"italic\" lengthAdjust=\"spacingAndGlyphs\" textLength=\"40\" x=\"134\" y=\"163.1387\">«part»</text><text fill=\"#000000\" font-family=\"sans-serif\" font-size=\"12\" lengthAdjust=\"spacingAndGlyphs\" textLength=\"8\" x=\"150\" y=\"177.1074\">a</text><line style=\"stroke: #383838; stroke-width: 1.5;\" x1=\"134\" x2=\"174\" y1=\"184.9375\" y2=\"184.9375\"/></a><!--MD5=[ebbe1d658d1005bcc118a6aa81145e00]\n",
       "class E4--><a href=\"psysml:17ca64f8-f38a-4aec-8c02-fbca076b4a28\" target=\"_top\" title=\"psysml:17ca64f8-f38a-4aec-8c02-fbca076b4a28\" xlink:actuate=\"onRequest\" xlink:href=\"psysml:17ca64f8-f38a-4aec-8c02-fbca076b4a28\" xlink:show=\"new\" xlink:title=\"psysml:17ca64f8-f38a-4aec-8c02-fbca076b4a28\" xlink:type=\"simple\"><rect fill=\"#FFFFFF\" height=\"45.9375\" id=\"E4\" style=\"stroke: #383838; stroke-width: 1.5;\" width=\"66\" x=\"32\" y=\"41\"/><text fill=\"#000000\" font-family=\"sans-serif\" font-size=\"12\" font-style=\"italic\" lengthAdjust=\"spacingAndGlyphs\" textLength=\"64\" x=\"33\" y=\"57.1387\">«part def»</text><text fill=\"#000000\" font-family=\"sans-serif\" font-size=\"12\" lengthAdjust=\"spacingAndGlyphs\" textLength=\"8\" x=\"61\" y=\"71.1074\">C</text><line style=\"stroke: #383838; stroke-width: 1.5;\" x1=\"33\" x2=\"97\" y1=\"78.9375\" y2=\"78.9375\"/></a><!--MD5=[270fce915f116d4de14055a7c1d9a0f3]\n",
       "class E5--><a href=\"psysml:43d8af85-10f5-4c20-8018-948df50254a5\" target=\"_top\" title=\"psysml:43d8af85-10f5-4c20-8018-948df50254a5\" xlink:actuate=\"onRequest\" xlink:href=\"psysml:43d8af85-10f5-4c20-8018-948df50254a5\" xlink:show=\"new\" xlink:title=\"psysml:43d8af85-10f5-4c20-8018-948df50254a5\" xlink:type=\"simple\"><rect fill=\"#FFFFFF\" height=\"45.9375\" id=\"E5\" rx=\"10\" ry=\"10\" style=\"stroke: #383838; stroke-width: 1.5;\" width=\"42\" x=\"44\" y=\"147\"/><text fill=\"#000000\" font-family=\"sans-serif\" font-size=\"12\" font-style=\"italic\" lengthAdjust=\"spacingAndGlyphs\" textLength=\"40\" x=\"45\" y=\"163.1387\">«part»</text><text fill=\"#000000\" font-family=\"sans-serif\" font-size=\"12\" lengthAdjust=\"spacingAndGlyphs\" textLength=\"8\" x=\"61\" y=\"177.1074\">g</text><line style=\"stroke: #383838; stroke-width: 1.5;\" x1=\"45\" x2=\"85\" y1=\"184.9375\" y2=\"184.9375\"/></a><!--MD5=[209b3feb70ccb6233bfe1053d122c12c]\n",
       "reverse link E2 to E3--><a href=\"psysml:9a16e398-0ba6-448d-aba1-0f88a9a52804\" target=\"_top\" title=\"psysml:9a16e398-0ba6-448d-aba1-0f88a9a52804\" xlink:actuate=\"onRequest\" xlink:href=\"psysml:9a16e398-0ba6-448d-aba1-0f88a9a52804\" xlink:show=\"new\" xlink:title=\"psysml:9a16e398-0ba6-448d-aba1-0f88a9a52804\" xlink:type=\"simple\"><path d=\"M154,100.44 C154,115.87 154,133.47 154,146.98 \" fill=\"none\" id=\"E2&lt;-E3\" style=\"stroke: #383838; stroke-width: 1.0;\"/><polygon fill=\"#383838\" points=\"154,87.06,150,93.06,154,99.06,158,93.06,154,87.06\" style=\"stroke: #383838; stroke-width: 1.0;\"/></a><!--MD5=[62aa6af11e70f752912c1cb0466f24f7]\n",
       "reverse link E4 to E5--><a href=\"psysml:43d8af85-10f5-4c20-8018-948df50254a5\" target=\"_top\" title=\"psysml:43d8af85-10f5-4c20-8018-948df50254a5\" xlink:actuate=\"onRequest\" xlink:href=\"psysml:43d8af85-10f5-4c20-8018-948df50254a5\" xlink:show=\"new\" xlink:title=\"psysml:43d8af85-10f5-4c20-8018-948df50254a5\" xlink:type=\"simple\"><path d=\"M65,100.44 C65,115.87 65,133.47 65,146.98 \" fill=\"none\" id=\"E4&lt;-E5\" style=\"stroke: #383838; stroke-width: 1.0;\"/><polygon fill=\"#383838\" points=\"65,87.06,61,93.06,65,99.06,69,93.06,65,87.06\" style=\"stroke: #383838; stroke-width: 1.0;\"/></a><!--MD5=[ecce554b5b3284dd7ef467a467e232ee]\n",
       "@startuml\r\n",
       "top to bottom direction\r\n",
       "skinparam monochrome true\r\n",
       "skinparam classbackgroundcolor white\r\n",
       "skinparam shadowing false\r\n",
       "skinparam wrapWidth 300\r\n",
       "hide circle\r\n",
       "\r\n",
       "package \"Q\" as E1  [[psysml:1ca4998e-7283-4312-8b1a-8c25c589ba37 ]]  {\r\n",
       "comp usage \"f\" as E2  <<(T,blue)part>> [[psysml:9f0b35e2-e039-4fc1-a74b-e29bd15d28ff ]] {\r\n",
       "}\r\n",
       "comp usage \"a\" as E3  <<(T,blue)part>> [[psysml:9a16e398-0ba6-448d-aba1-0f88a9a52804 ]] {\r\n",
       "}\r\n",
       "comp def \"C\" as E4  <<(T,blue)part def>> [[psysml:17ca64f8-f38a-4aec-8c02-fbca076b4a28 ]] {\r\n",
       "}\r\n",
       "comp usage \"g\" as E5  <<(T,blue)part>> [[psysml:43d8af85-10f5-4c20-8018-948df50254a5 ]] {\r\n",
       "}\r\n",
       "E2 *- - E3 [[psysml:9a16e398-0ba6-448d-aba1-0f88a9a52804 ]] \r\n",
       "E4 *- - E5 [[psysml:43d8af85-10f5-4c20-8018-948df50254a5 ]] \r\n",
       "}\r\n",
       "@enduml\r\n",
       "\n",
       "PlantUML version 1.2020.13(Sat Jun 13 12:26:38 UTC 2020)\n",
       "(EPL source distribution)\n",
       "Java Runtime: OpenJDK Runtime Environment\n",
       "JVM: OpenJDK 64-Bit Server VM\n",
       "Default Encoding: UTF-8\n",
       "Language: en\n",
       "Country: null\n",
       "--></g></svg>"
      ]
     },
     "execution_count": 44,
     "metadata": {},
     "output_type": "execute_result"
    }
   ],
   "source": [
    "%viz --style=\"TB\" --view=\"Default\" \"Q\""
   ]
  },
  {
   "cell_type": "code",
   "execution_count": 45,
   "id": "whole-anatomy",
   "metadata": {
    "execution": {
     "iopub.execute_input": "2021-03-25T15:01:00.178163Z",
     "iopub.status.busy": "2021-03-25T15:01:00.177796Z",
     "iopub.status.idle": "2021-03-25T15:01:00.227897Z",
     "shell.execute_reply": "2021-03-25T15:01:00.226325Z"
    }
   },
   "outputs": [
    {
     "data": {
      "image/svg+xml": [
       "<?xml version=\"1.0\" encoding=\"UTF-8\" standalone=\"no\"?><svg xmlns=\"http://www.w3.org/2000/svg\" xmlns:xlink=\"http://www.w3.org/1999/xlink\" contentScriptType=\"application/ecmascript\" contentStyleType=\"text/css\" height=\"221px\" preserveAspectRatio=\"none\" style=\"width:213px;height:221px;\" version=\"1.1\" viewBox=\"0 0 213 221\" width=\"213px\" zoomAndPan=\"magnify\"><defs/><g><!--MD5=[fbc87193dbaf4d95561dea2c320d4a47]\n",
       "cluster E1--><a href=\"psysml:1ca4998e-7283-4312-8b1a-8c25c589ba37\" target=\"_top\" title=\"psysml:1ca4998e-7283-4312-8b1a-8c25c589ba37\" xlink:actuate=\"onRequest\" xlink:href=\"psysml:1ca4998e-7283-4312-8b1a-8c25c589ba37\" xlink:show=\"new\" xlink:title=\"psysml:1ca4998e-7283-4312-8b1a-8c25c589ba37\" xlink:type=\"simple\"><polygon fill=\"#FFFFFF\" points=\"16,6,34,6,41,28.2969,191,28.2969,191,209,16,209,16,6\" style=\"stroke: #000000; stroke-width: 1.5;\"/><line style=\"stroke: #000000; stroke-width: 1.5;\" x1=\"16\" x2=\"41\" y1=\"28.2969\" y2=\"28.2969\"/><text fill=\"#000000\" font-family=\"sans-serif\" font-size=\"14\" font-weight=\"bold\" lengthAdjust=\"spacingAndGlyphs\" textLength=\"12\" x=\"20\" y=\"20.9951\">Q</text></a><!--MD5=[b4997ac47864f28c2f74865a473b2911]\n",
       "class E2--><a href=\"psysml:9f0b35e2-e039-4fc1-a74b-e29bd15d28ff\" target=\"_top\" title=\"psysml:9f0b35e2-e039-4fc1-a74b-e29bd15d28ff\" xlink:actuate=\"onRequest\" xlink:href=\"psysml:9f0b35e2-e039-4fc1-a74b-e29bd15d28ff\" xlink:show=\"new\" xlink:title=\"psysml:9f0b35e2-e039-4fc1-a74b-e29bd15d28ff\" xlink:type=\"simple\"><rect fill=\"#FFFFFF\" height=\"45.9375\" id=\"E2\" rx=\"10\" ry=\"10\" style=\"stroke: #383838; stroke-width: 1.5;\" width=\"42\" x=\"133\" y=\"41\"/><text fill=\"#000000\" font-family=\"sans-serif\" font-size=\"12\" font-style=\"italic\" lengthAdjust=\"spacingAndGlyphs\" textLength=\"40\" x=\"134\" y=\"57.1387\">«part»</text><text fill=\"#000000\" font-family=\"sans-serif\" font-size=\"12\" lengthAdjust=\"spacingAndGlyphs\" textLength=\"4\" x=\"152\" y=\"71.1074\">f</text><line style=\"stroke: #383838; stroke-width: 1.5;\" x1=\"134\" x2=\"174\" y1=\"78.9375\" y2=\"78.9375\"/></a><!--MD5=[09b614a08d8cba4a07c9adeb5e0fee81]\n",
       "class E3--><a href=\"psysml:9a16e398-0ba6-448d-aba1-0f88a9a52804\" target=\"_top\" title=\"psysml:9a16e398-0ba6-448d-aba1-0f88a9a52804\" xlink:actuate=\"onRequest\" xlink:href=\"psysml:9a16e398-0ba6-448d-aba1-0f88a9a52804\" xlink:show=\"new\" xlink:title=\"psysml:9a16e398-0ba6-448d-aba1-0f88a9a52804\" xlink:type=\"simple\"><rect fill=\"#FFFFFF\" height=\"45.9375\" id=\"E3\" rx=\"10\" ry=\"10\" style=\"stroke: #383838; stroke-width: 1.5;\" width=\"42\" x=\"133\" y=\"147\"/><text fill=\"#000000\" font-family=\"sans-serif\" font-size=\"12\" font-style=\"italic\" lengthAdjust=\"spacingAndGlyphs\" textLength=\"40\" x=\"134\" y=\"163.1387\">«part»</text><text fill=\"#000000\" font-family=\"sans-serif\" font-size=\"12\" lengthAdjust=\"spacingAndGlyphs\" textLength=\"8\" x=\"150\" y=\"177.1074\">a</text><line style=\"stroke: #383838; stroke-width: 1.5;\" x1=\"134\" x2=\"174\" y1=\"184.9375\" y2=\"184.9375\"/></a><!--MD5=[ebbe1d658d1005bcc118a6aa81145e00]\n",
       "class E4--><a href=\"psysml:17ca64f8-f38a-4aec-8c02-fbca076b4a28\" target=\"_top\" title=\"psysml:17ca64f8-f38a-4aec-8c02-fbca076b4a28\" xlink:actuate=\"onRequest\" xlink:href=\"psysml:17ca64f8-f38a-4aec-8c02-fbca076b4a28\" xlink:show=\"new\" xlink:title=\"psysml:17ca64f8-f38a-4aec-8c02-fbca076b4a28\" xlink:type=\"simple\"><rect fill=\"#FFFFFF\" height=\"45.9375\" id=\"E4\" style=\"stroke: #383838; stroke-width: 1.5;\" width=\"66\" x=\"32\" y=\"41\"/><text fill=\"#000000\" font-family=\"sans-serif\" font-size=\"12\" font-style=\"italic\" lengthAdjust=\"spacingAndGlyphs\" textLength=\"64\" x=\"33\" y=\"57.1387\">«part def»</text><text fill=\"#000000\" font-family=\"sans-serif\" font-size=\"12\" lengthAdjust=\"spacingAndGlyphs\" textLength=\"8\" x=\"61\" y=\"71.1074\">C</text><line style=\"stroke: #383838; stroke-width: 1.5;\" x1=\"33\" x2=\"97\" y1=\"78.9375\" y2=\"78.9375\"/></a><!--MD5=[270fce915f116d4de14055a7c1d9a0f3]\n",
       "class E5--><a href=\"psysml:43d8af85-10f5-4c20-8018-948df50254a5\" target=\"_top\" title=\"psysml:43d8af85-10f5-4c20-8018-948df50254a5\" xlink:actuate=\"onRequest\" xlink:href=\"psysml:43d8af85-10f5-4c20-8018-948df50254a5\" xlink:show=\"new\" xlink:title=\"psysml:43d8af85-10f5-4c20-8018-948df50254a5\" xlink:type=\"simple\"><rect fill=\"#FFFFFF\" height=\"45.9375\" id=\"E5\" rx=\"10\" ry=\"10\" style=\"stroke: #383838; stroke-width: 1.5;\" width=\"42\" x=\"44\" y=\"147\"/><text fill=\"#000000\" font-family=\"sans-serif\" font-size=\"12\" font-style=\"italic\" lengthAdjust=\"spacingAndGlyphs\" textLength=\"40\" x=\"45\" y=\"163.1387\">«part»</text><text fill=\"#000000\" font-family=\"sans-serif\" font-size=\"12\" lengthAdjust=\"spacingAndGlyphs\" textLength=\"8\" x=\"61\" y=\"177.1074\">g</text><line style=\"stroke: #383838; stroke-width: 1.5;\" x1=\"45\" x2=\"85\" y1=\"184.9375\" y2=\"184.9375\"/></a><!--MD5=[209b3feb70ccb6233bfe1053d122c12c]\n",
       "reverse link E2 to E3--><a href=\"psysml:9a16e398-0ba6-448d-aba1-0f88a9a52804\" target=\"_top\" title=\"psysml:9a16e398-0ba6-448d-aba1-0f88a9a52804\" xlink:actuate=\"onRequest\" xlink:href=\"psysml:9a16e398-0ba6-448d-aba1-0f88a9a52804\" xlink:show=\"new\" xlink:title=\"psysml:9a16e398-0ba6-448d-aba1-0f88a9a52804\" xlink:type=\"simple\"><path d=\"M154,100.44 C154,115.87 154,133.47 154,146.98 \" fill=\"none\" id=\"E2&lt;-E3\" style=\"stroke: #383838; stroke-width: 1.0;\"/><polygon fill=\"#383838\" points=\"154,87.06,150,93.06,154,99.06,158,93.06,154,87.06\" style=\"stroke: #383838; stroke-width: 1.0;\"/></a><!--MD5=[62aa6af11e70f752912c1cb0466f24f7]\n",
       "reverse link E4 to E5--><a href=\"psysml:43d8af85-10f5-4c20-8018-948df50254a5\" target=\"_top\" title=\"psysml:43d8af85-10f5-4c20-8018-948df50254a5\" xlink:actuate=\"onRequest\" xlink:href=\"psysml:43d8af85-10f5-4c20-8018-948df50254a5\" xlink:show=\"new\" xlink:title=\"psysml:43d8af85-10f5-4c20-8018-948df50254a5\" xlink:type=\"simple\"><path d=\"M65,100.44 C65,115.87 65,133.47 65,146.98 \" fill=\"none\" id=\"E4&lt;-E5\" style=\"stroke: #383838; stroke-width: 1.0;\"/><polygon fill=\"#383838\" points=\"65,87.06,61,93.06,65,99.06,69,93.06,65,87.06\" style=\"stroke: #383838; stroke-width: 1.0;\"/></a><!--MD5=[ecce554b5b3284dd7ef467a467e232ee]\n",
       "@startuml\r\n",
       "top to bottom direction\r\n",
       "skinparam monochrome true\r\n",
       "skinparam classbackgroundcolor white\r\n",
       "skinparam shadowing false\r\n",
       "skinparam wrapWidth 300\r\n",
       "hide circle\r\n",
       "\r\n",
       "package \"Q\" as E1  [[psysml:1ca4998e-7283-4312-8b1a-8c25c589ba37 ]]  {\r\n",
       "comp usage \"f\" as E2  <<(T,blue)part>> [[psysml:9f0b35e2-e039-4fc1-a74b-e29bd15d28ff ]] {\r\n",
       "}\r\n",
       "comp usage \"a\" as E3  <<(T,blue)part>> [[psysml:9a16e398-0ba6-448d-aba1-0f88a9a52804 ]] {\r\n",
       "}\r\n",
       "comp def \"C\" as E4  <<(T,blue)part def>> [[psysml:17ca64f8-f38a-4aec-8c02-fbca076b4a28 ]] {\r\n",
       "}\r\n",
       "comp usage \"g\" as E5  <<(T,blue)part>> [[psysml:43d8af85-10f5-4c20-8018-948df50254a5 ]] {\r\n",
       "}\r\n",
       "E2 *- - E3 [[psysml:9a16e398-0ba6-448d-aba1-0f88a9a52804 ]] \r\n",
       "E4 *- - E5 [[psysml:43d8af85-10f5-4c20-8018-948df50254a5 ]] \r\n",
       "}\r\n",
       "@enduml\r\n",
       "\n",
       "PlantUML version 1.2020.13(Sat Jun 13 12:26:38 UTC 2020)\n",
       "(EPL source distribution)\n",
       "Java Runtime: OpenJDK Runtime Environment\n",
       "JVM: OpenJDK 64-Bit Server VM\n",
       "Default Encoding: UTF-8\n",
       "Language: en\n",
       "Country: null\n",
       "--></g></svg>"
      ]
     },
     "execution_count": 45,
     "metadata": {},
     "output_type": "execute_result"
    }
   ],
   "source": [
    "%viz --style=\"TB\" --view=\"Tree\" \"Q\""
   ]
  },
  {
   "cell_type": "code",
   "execution_count": 46,
   "id": "engaging-grove",
   "metadata": {
    "execution": {
     "iopub.execute_input": "2021-03-25T15:01:00.278169Z",
     "iopub.status.busy": "2021-03-25T15:01:00.277507Z",
     "iopub.status.idle": "2021-03-25T15:01:00.284280Z",
     "shell.execute_reply": "2021-03-25T15:01:00.283948Z"
    }
   },
   "outputs": [
    {
     "data": {
      "image/svg+xml": [
       "<?xml version=\"1.0\" encoding=\"UTF-8\" standalone=\"no\"?><svg xmlns=\"http://www.w3.org/2000/svg\" xmlns:xlink=\"http://www.w3.org/1999/xlink\" contentScriptType=\"application/ecmascript\" contentStyleType=\"text/css\" height=\"12px\" preserveAspectRatio=\"none\" style=\"width:12px;height:12px;\" version=\"1.1\" viewBox=\"0 0 12 12\" width=\"12px\" zoomAndPan=\"magnify\"><defs/><g><!--MD5=[f4ee21bc66e489b5061b7c3e9601fdef]\n",
       "@startuml\r\n",
       "top to bottom direction\r\n",
       "skinparam monochrome true\r\n",
       "skinparam classbackgroundcolor white\r\n",
       "skinparam shadowing false\r\n",
       "skinparam wrapWidth 300\r\n",
       "hide circle\r\n",
       "\r\n",
       "@enduml\r\n",
       "\n",
       "PlantUML version 1.2020.13(Sat Jun 13 12:26:38 UTC 2020)\n",
       "(EPL source distribution)\n",
       "Java Runtime: OpenJDK Runtime Environment\n",
       "JVM: OpenJDK 64-Bit Server VM\n",
       "Default Encoding: UTF-8\n",
       "Language: en\n",
       "Country: null\n",
       "--></g></svg>"
      ]
     },
     "execution_count": 46,
     "metadata": {},
     "output_type": "execute_result"
    }
   ],
   "source": [
    "%viz --style=\"TB\" --view=\"State\" \"Q\""
   ]
  },
  {
   "cell_type": "code",
   "execution_count": 47,
   "id": "virtual-stock",
   "metadata": {
    "execution": {
     "iopub.execute_input": "2021-03-25T15:01:00.334725Z",
     "iopub.status.busy": "2021-03-25T15:01:00.334209Z",
     "iopub.status.idle": "2021-03-25T15:01:00.392690Z",
     "shell.execute_reply": "2021-03-25T15:01:00.391345Z"
    }
   },
   "outputs": [
    {
     "data": {
      "image/svg+xml": [
       "<?xml version=\"1.0\" encoding=\"UTF-8\" standalone=\"no\"?><svg xmlns=\"http://www.w3.org/2000/svg\" xmlns:xlink=\"http://www.w3.org/1999/xlink\" contentScriptType=\"application/ecmascript\" contentStyleType=\"text/css\" height=\"192px\" preserveAspectRatio=\"none\" style=\"width:279px;height:192px;\" version=\"1.1\" viewBox=\"0 0 279 192\" width=\"279px\" zoomAndPan=\"magnify\"><defs/><g><!--MD5=[fbc87193dbaf4d95561dea2c320d4a47]\n",
       "cluster E1--><a href=\"psysml:1ca4998e-7283-4312-8b1a-8c25c589ba37\" target=\"_top\" title=\"psysml:1ca4998e-7283-4312-8b1a-8c25c589ba37\" xlink:actuate=\"onRequest\" xlink:href=\"psysml:1ca4998e-7283-4312-8b1a-8c25c589ba37\" xlink:show=\"new\" xlink:title=\"psysml:1ca4998e-7283-4312-8b1a-8c25c589ba37\" xlink:type=\"simple\"><polygon fill=\"#FFFFFF\" points=\"16,6,34,6,41,28.2969,257,28.2969,257,180,16,180,16,6\" style=\"stroke: #000000; stroke-width: 1.5;\"/><line style=\"stroke: #000000; stroke-width: 1.5;\" x1=\"16\" x2=\"41\" y1=\"28.2969\" y2=\"28.2969\"/><text fill=\"#000000\" font-family=\"sans-serif\" font-size=\"14\" font-weight=\"bold\" lengthAdjust=\"spacingAndGlyphs\" textLength=\"12\" x=\"20\" y=\"20.9951\">Q</text></a><!--MD5=[e4f7fae6ed58524ba242bb0b0d3be6b7]\n",
       "cluster E2--><a href=\"psysml:9f0b35e2-e039-4fc1-a74b-e29bd15d28ff\" target=\"_top\" title=\"psysml:9f0b35e2-e039-4fc1-a74b-e29bd15d28ff\" xlink:actuate=\"onRequest\" xlink:href=\"psysml:9f0b35e2-e039-4fc1-a74b-e29bd15d28ff\" xlink:show=\"new\" xlink:title=\"psysml:9f0b35e2-e039-4fc1-a74b-e29bd15d28ff\" xlink:type=\"simple\"><rect fill=\"#FFFFFF\" height=\"91\" id=\"E2\" rx=\"10\" ry=\"10\" style=\"stroke: #383838; stroke-width: 1.5;\" width=\"82\" x=\"151\" y=\"65\"/><rect fill=\"#F8F8F8\" height=\"23.9688\" rx=\"10\" ry=\"10\" style=\"stroke: #F8F8F8; stroke-width: 1.5;\" width=\"82\" x=\"151\" y=\"65\"/><rect fill=\"#F8F8F8\" height=\"10\" style=\"stroke: #F8F8F8; stroke-width: 1.5;\" width=\"82\" x=\"151\" y=\"78.9688\"/><rect fill=\"none\" height=\"91\" id=\"E2\" rx=\"10\" ry=\"10\" style=\"stroke: #383838; stroke-width: 1.5;\" width=\"82\" x=\"151\" y=\"65\"/><text fill=\"#000000\" font-family=\"sans-serif\" font-size=\"12\" lengthAdjust=\"spacingAndGlyphs\" textLength=\"4\" x=\"190\" y=\"81.1387\">f</text><line style=\"stroke: #383838; stroke-width: 1.0;\" x1=\"151\" x2=\"233\" y1=\"88.9688\" y2=\"88.9688\"/></a><!--MD5=[f6df4d0ebaf0b5dfb2ced0ae5af7c670]\n",
       "cluster E4--><a href=\"psysml:17ca64f8-f38a-4aec-8c02-fbca076b4a28\" target=\"_top\" title=\"psysml:17ca64f8-f38a-4aec-8c02-fbca076b4a28\" xlink:actuate=\"onRequest\" xlink:href=\"psysml:17ca64f8-f38a-4aec-8c02-fbca076b4a28\" xlink:show=\"new\" xlink:title=\"psysml:17ca64f8-f38a-4aec-8c02-fbca076b4a28\" xlink:type=\"simple\"><rect fill=\"#FFFFFF\" height=\"107\" id=\"E4\" style=\"stroke: #383838; stroke-width: 1.5;\" width=\"87\" x=\"40\" y=\"49\"/><rect fill=\"#F8F8F8\" height=\"37.9375\" style=\"stroke: #383838; stroke-width: 1.5;\" width=\"87\" x=\"40\" y=\"49\"/><text fill=\"#000000\" font-family=\"sans-serif\" font-size=\"12\" font-style=\"italic\" lengthAdjust=\"spacingAndGlyphs\" textLength=\"64\" x=\"51.5\" y=\"65.1387\">«part def»</text><text fill=\"#000000\" font-family=\"sans-serif\" font-size=\"12\" lengthAdjust=\"spacingAndGlyphs\" textLength=\"8\" x=\"79.5\" y=\"79.1074\">C</text></a><g id=\"E1.E2.E3\"><a href=\"psysml:9a16e398-0ba6-448d-aba1-0f88a9a52804\" target=\"_top\" title=\"psysml:9a16e398-0ba6-448d-aba1-0f88a9a52804\" xlink:actuate=\"onRequest\" xlink:href=\"psysml:9a16e398-0ba6-448d-aba1-0f88a9a52804\" xlink:show=\"new\" xlink:title=\"psysml:9a16e398-0ba6-448d-aba1-0f88a9a52804\" xlink:type=\"simple\"><rect fill=\"#FFFFFF\" height=\"40\" id=\"E3\" rx=\"10\" ry=\"10\" style=\"stroke: #383838; stroke-width: 1.5;\" width=\"50\" x=\"167\" y=\"100\"/><rect fill=\"#F8F8F8\" height=\"23.9688\" rx=\"10\" ry=\"10\" style=\"stroke: #F8F8F8; stroke-width: 1.5;\" width=\"50\" x=\"167\" y=\"100\"/><rect fill=\"#F8F8F8\" height=\"10\" style=\"stroke: #F8F8F8; stroke-width: 1.5;\" width=\"50\" x=\"167\" y=\"113.9688\"/><rect fill=\"none\" height=\"40\" id=\"E3\" rx=\"10\" ry=\"10\" style=\"stroke: #383838; stroke-width: 1.5;\" width=\"50\" x=\"167\" y=\"100\"/><text fill=\"#000000\" font-family=\"sans-serif\" font-size=\"12\" lengthAdjust=\"spacingAndGlyphs\" textLength=\"8\" x=\"188\" y=\"116.1387\">a</text></a></g><g id=\"E1.E4.E5\"><a href=\"psysml:43d8af85-10f5-4c20-8018-948df50254a5\" target=\"_top\" title=\"psysml:43d8af85-10f5-4c20-8018-948df50254a5\" xlink:actuate=\"onRequest\" xlink:href=\"psysml:43d8af85-10f5-4c20-8018-948df50254a5\" xlink:show=\"new\" xlink:title=\"psysml:43d8af85-10f5-4c20-8018-948df50254a5\" xlink:type=\"simple\"><rect fill=\"#FFFFFF\" height=\"40\" id=\"E5\" rx=\"10\" ry=\"10\" style=\"stroke: #383838; stroke-width: 1.5;\" width=\"50\" x=\"58\" y=\"100\"/><rect fill=\"#F8F8F8\" height=\"23.9688\" rx=\"10\" ry=\"10\" style=\"stroke: #F8F8F8; stroke-width: 1.5;\" width=\"50\" x=\"58\" y=\"100\"/><rect fill=\"#F8F8F8\" height=\"10\" style=\"stroke: #F8F8F8; stroke-width: 1.5;\" width=\"50\" x=\"58\" y=\"113.9688\"/><rect fill=\"none\" height=\"40\" id=\"E5\" rx=\"10\" ry=\"10\" style=\"stroke: #383838; stroke-width: 1.5;\" width=\"50\" x=\"58\" y=\"100\"/><text fill=\"#000000\" font-family=\"sans-serif\" font-size=\"12\" lengthAdjust=\"spacingAndGlyphs\" textLength=\"8\" x=\"79\" y=\"116.1387\">g</text></a></g><!--MD5=[47a5331d6286028ee64e6fdf21510897]\n",
       "@startuml\r\n",
       "skinparam ranksep 8\r\n",
       "skinparam rectangle {\r\n",
       " backgroundColor<<block>> LightGreen\r\n",
       "}\r\n",
       "top to bottom direction\r\n",
       "skinparam monochrome true\r\n",
       "skinparam classbackgroundcolor white\r\n",
       "skinparam shadowing false\r\n",
       "skinparam wrapWidth 300\r\n",
       "hide circle\r\n",
       "\r\n",
       "package \"Q\" as E1  [[psysml:1ca4998e-7283-4312-8b1a-8c25c589ba37 ]]  {\r\n",
       "rec usage \"f\" as E2  [[psysml:9f0b35e2-e039-4fc1-a74b-e29bd15d28ff ]] {\r\n",
       "rec usage \"a\" as E3  [[psysml:9a16e398-0ba6-448d-aba1-0f88a9a52804 ]] {\r\n",
       "}\r\n",
       "}\r\n",
       "rec def \"C\" as E4  <<(T,blue)part def>> [[psysml:17ca64f8-f38a-4aec-8c02-fbca076b4a28 ]] {\r\n",
       "rec usage \"g\" as E5  [[psysml:43d8af85-10f5-4c20-8018-948df50254a5 ]] {\r\n",
       "}\r\n",
       "}\r\n",
       "}\r\n",
       "@enduml\r\n",
       "\n",
       "PlantUML version 1.2020.13(Sat Jun 13 12:26:38 UTC 2020)\n",
       "(EPL source distribution)\n",
       "Java Runtime: OpenJDK Runtime Environment\n",
       "JVM: OpenJDK 64-Bit Server VM\n",
       "Default Encoding: UTF-8\n",
       "Language: en\n",
       "Country: null\n",
       "--></g></svg>"
      ]
     },
     "execution_count": 47,
     "metadata": {},
     "output_type": "execute_result"
    }
   ],
   "source": [
    "%viz --style=\"TB\" --view=\"Interconnection\" \"Q\""
   ]
  },
  {
   "cell_type": "code",
   "execution_count": 48,
   "id": "human-watch",
   "metadata": {
    "execution": {
     "iopub.execute_input": "2021-03-25T15:01:00.442614Z",
     "iopub.status.busy": "2021-03-25T15:01:00.442084Z",
     "iopub.status.idle": "2021-03-25T15:01:00.450682Z",
     "shell.execute_reply": "2021-03-25T15:01:00.450010Z"
    }
   },
   "outputs": [
    {
     "data": {
      "image/svg+xml": [
       "<?xml version=\"1.0\" encoding=\"UTF-8\" standalone=\"no\"?><svg xmlns=\"http://www.w3.org/2000/svg\" xmlns:xlink=\"http://www.w3.org/1999/xlink\" contentScriptType=\"application/ecmascript\" contentStyleType=\"text/css\" height=\"12px\" preserveAspectRatio=\"none\" style=\"width:12px;height:12px;\" version=\"1.1\" viewBox=\"0 0 12 12\" width=\"12px\" zoomAndPan=\"magnify\"><defs/><g><!--MD5=[06afc254b03ac5e9d9fb7773b07d0800]\n",
       "@startuml\r\n",
       "skinparam ranksep 8\r\n",
       "top to bottom direction\r\n",
       "skinparam monochrome true\r\n",
       "skinparam classbackgroundcolor white\r\n",
       "skinparam shadowing false\r\n",
       "skinparam wrapWidth 300\r\n",
       "hide circle\r\n",
       "\r\n",
       "@enduml\r\n",
       "\n",
       "PlantUML version 1.2020.13(Sat Jun 13 12:26:38 UTC 2020)\n",
       "(EPL source distribution)\n",
       "Java Runtime: OpenJDK Runtime Environment\n",
       "JVM: OpenJDK 64-Bit Server VM\n",
       "Default Encoding: UTF-8\n",
       "Language: en\n",
       "Country: null\n",
       "--></g></svg>"
      ]
     },
     "execution_count": 48,
     "metadata": {},
     "output_type": "execute_result"
    }
   ],
   "source": [
    "%viz --style=\"TB\" --view=\"Action\" \"Q\""
   ]
  },
  {
   "cell_type": "code",
   "execution_count": 49,
   "id": "first-volume",
   "metadata": {
    "execution": {
     "iopub.execute_input": "2021-03-25T15:01:00.500505Z",
     "iopub.status.busy": "2021-03-25T15:01:00.500093Z",
     "iopub.status.idle": "2021-03-25T15:01:00.550557Z",
     "shell.execute_reply": "2021-03-25T15:01:00.548602Z"
    }
   },
   "outputs": [
    {
     "data": {
      "image/svg+xml": [
       "<?xml version=\"1.0\" encoding=\"UTF-8\" standalone=\"no\"?><svg xmlns=\"http://www.w3.org/2000/svg\" xmlns:xlink=\"http://www.w3.org/1999/xlink\" contentScriptType=\"application/ecmascript\" contentStyleType=\"text/css\" height=\"221px\" preserveAspectRatio=\"none\" style=\"width:213px;height:221px;\" version=\"1.1\" viewBox=\"0 0 213 221\" width=\"213px\" zoomAndPan=\"magnify\"><defs/><g><!--MD5=[fbc87193dbaf4d95561dea2c320d4a47]\n",
       "cluster E1--><a href=\"psysml:1ca4998e-7283-4312-8b1a-8c25c589ba37\" target=\"_top\" title=\"psysml:1ca4998e-7283-4312-8b1a-8c25c589ba37\" xlink:actuate=\"onRequest\" xlink:href=\"psysml:1ca4998e-7283-4312-8b1a-8c25c589ba37\" xlink:show=\"new\" xlink:title=\"psysml:1ca4998e-7283-4312-8b1a-8c25c589ba37\" xlink:type=\"simple\"><polygon fill=\"#FFFFFF\" points=\"16,6,34,6,41,28.2969,191,28.2969,191,209,16,209,16,6\" style=\"stroke: #000000; stroke-width: 1.5;\"/><line style=\"stroke: #000000; stroke-width: 1.5;\" x1=\"16\" x2=\"41\" y1=\"28.2969\" y2=\"28.2969\"/><text fill=\"#000000\" font-family=\"sans-serif\" font-size=\"14\" font-weight=\"bold\" lengthAdjust=\"spacingAndGlyphs\" textLength=\"12\" x=\"20\" y=\"20.9951\">Q</text></a><!--MD5=[b4997ac47864f28c2f74865a473b2911]\n",
       "class E2--><a href=\"psysml:9f0b35e2-e039-4fc1-a74b-e29bd15d28ff\" target=\"_top\" title=\"psysml:9f0b35e2-e039-4fc1-a74b-e29bd15d28ff\" xlink:actuate=\"onRequest\" xlink:href=\"psysml:9f0b35e2-e039-4fc1-a74b-e29bd15d28ff\" xlink:show=\"new\" xlink:title=\"psysml:9f0b35e2-e039-4fc1-a74b-e29bd15d28ff\" xlink:type=\"simple\"><rect fill=\"#FFFFFF\" height=\"45.9375\" id=\"E2\" rx=\"10\" ry=\"10\" style=\"stroke: #383838; stroke-width: 1.5;\" width=\"42\" x=\"133\" y=\"41\"/><text fill=\"#000000\" font-family=\"sans-serif\" font-size=\"12\" font-style=\"italic\" lengthAdjust=\"spacingAndGlyphs\" textLength=\"40\" x=\"134\" y=\"57.1387\">«part»</text><text fill=\"#000000\" font-family=\"sans-serif\" font-size=\"12\" lengthAdjust=\"spacingAndGlyphs\" textLength=\"4\" x=\"152\" y=\"71.1074\">f</text><line style=\"stroke: #383838; stroke-width: 1.5;\" x1=\"134\" x2=\"174\" y1=\"78.9375\" y2=\"78.9375\"/></a><!--MD5=[09b614a08d8cba4a07c9adeb5e0fee81]\n",
       "class E3--><a href=\"psysml:9a16e398-0ba6-448d-aba1-0f88a9a52804\" target=\"_top\" title=\"psysml:9a16e398-0ba6-448d-aba1-0f88a9a52804\" xlink:actuate=\"onRequest\" xlink:href=\"psysml:9a16e398-0ba6-448d-aba1-0f88a9a52804\" xlink:show=\"new\" xlink:title=\"psysml:9a16e398-0ba6-448d-aba1-0f88a9a52804\" xlink:type=\"simple\"><rect fill=\"#FFFFFF\" height=\"45.9375\" id=\"E3\" rx=\"10\" ry=\"10\" style=\"stroke: #383838; stroke-width: 1.5;\" width=\"42\" x=\"133\" y=\"147\"/><text fill=\"#000000\" font-family=\"sans-serif\" font-size=\"12\" font-style=\"italic\" lengthAdjust=\"spacingAndGlyphs\" textLength=\"40\" x=\"134\" y=\"163.1387\">«part»</text><text fill=\"#000000\" font-family=\"sans-serif\" font-size=\"12\" lengthAdjust=\"spacingAndGlyphs\" textLength=\"8\" x=\"150\" y=\"177.1074\">a</text><line style=\"stroke: #383838; stroke-width: 1.5;\" x1=\"134\" x2=\"174\" y1=\"184.9375\" y2=\"184.9375\"/></a><!--MD5=[ebbe1d658d1005bcc118a6aa81145e00]\n",
       "class E4--><a href=\"psysml:17ca64f8-f38a-4aec-8c02-fbca076b4a28\" target=\"_top\" title=\"psysml:17ca64f8-f38a-4aec-8c02-fbca076b4a28\" xlink:actuate=\"onRequest\" xlink:href=\"psysml:17ca64f8-f38a-4aec-8c02-fbca076b4a28\" xlink:show=\"new\" xlink:title=\"psysml:17ca64f8-f38a-4aec-8c02-fbca076b4a28\" xlink:type=\"simple\"><rect fill=\"#FFFFFF\" height=\"45.9375\" id=\"E4\" style=\"stroke: #383838; stroke-width: 1.5;\" width=\"66\" x=\"32\" y=\"41\"/><text fill=\"#000000\" font-family=\"sans-serif\" font-size=\"12\" font-style=\"italic\" lengthAdjust=\"spacingAndGlyphs\" textLength=\"64\" x=\"33\" y=\"57.1387\">«part def»</text><text fill=\"#000000\" font-family=\"sans-serif\" font-size=\"12\" lengthAdjust=\"spacingAndGlyphs\" textLength=\"8\" x=\"61\" y=\"71.1074\">C</text><line style=\"stroke: #383838; stroke-width: 1.5;\" x1=\"33\" x2=\"97\" y1=\"78.9375\" y2=\"78.9375\"/></a><!--MD5=[270fce915f116d4de14055a7c1d9a0f3]\n",
       "class E5--><a href=\"psysml:43d8af85-10f5-4c20-8018-948df50254a5\" target=\"_top\" title=\"psysml:43d8af85-10f5-4c20-8018-948df50254a5\" xlink:actuate=\"onRequest\" xlink:href=\"psysml:43d8af85-10f5-4c20-8018-948df50254a5\" xlink:show=\"new\" xlink:title=\"psysml:43d8af85-10f5-4c20-8018-948df50254a5\" xlink:type=\"simple\"><rect fill=\"#FFFFFF\" height=\"45.9375\" id=\"E5\" rx=\"10\" ry=\"10\" style=\"stroke: #383838; stroke-width: 1.5;\" width=\"42\" x=\"44\" y=\"147\"/><text fill=\"#000000\" font-family=\"sans-serif\" font-size=\"12\" font-style=\"italic\" lengthAdjust=\"spacingAndGlyphs\" textLength=\"40\" x=\"45\" y=\"163.1387\">«part»</text><text fill=\"#000000\" font-family=\"sans-serif\" font-size=\"12\" lengthAdjust=\"spacingAndGlyphs\" textLength=\"8\" x=\"61\" y=\"177.1074\">g</text><line style=\"stroke: #383838; stroke-width: 1.5;\" x1=\"45\" x2=\"85\" y1=\"184.9375\" y2=\"184.9375\"/></a><!--MD5=[209b3feb70ccb6233bfe1053d122c12c]\n",
       "reverse link E2 to E3--><a href=\"psysml:9a16e398-0ba6-448d-aba1-0f88a9a52804\" target=\"_top\" title=\"psysml:9a16e398-0ba6-448d-aba1-0f88a9a52804\" xlink:actuate=\"onRequest\" xlink:href=\"psysml:9a16e398-0ba6-448d-aba1-0f88a9a52804\" xlink:show=\"new\" xlink:title=\"psysml:9a16e398-0ba6-448d-aba1-0f88a9a52804\" xlink:type=\"simple\"><path d=\"M154,100.44 C154,115.87 154,133.47 154,146.98 \" fill=\"none\" id=\"E2&lt;-E3\" style=\"stroke: #383838; stroke-width: 1.0;\"/><polygon fill=\"#383838\" points=\"154,87.06,150,93.06,154,99.06,158,93.06,154,87.06\" style=\"stroke: #383838; stroke-width: 1.0;\"/></a><!--MD5=[62aa6af11e70f752912c1cb0466f24f7]\n",
       "reverse link E4 to E5--><a href=\"psysml:43d8af85-10f5-4c20-8018-948df50254a5\" target=\"_top\" title=\"psysml:43d8af85-10f5-4c20-8018-948df50254a5\" xlink:actuate=\"onRequest\" xlink:href=\"psysml:43d8af85-10f5-4c20-8018-948df50254a5\" xlink:show=\"new\" xlink:title=\"psysml:43d8af85-10f5-4c20-8018-948df50254a5\" xlink:type=\"simple\"><path d=\"M65,100.44 C65,115.87 65,133.47 65,146.98 \" fill=\"none\" id=\"E4&lt;-E5\" style=\"stroke: #383838; stroke-width: 1.0;\"/><polygon fill=\"#383838\" points=\"65,87.06,61,93.06,65,99.06,69,93.06,65,87.06\" style=\"stroke: #383838; stroke-width: 1.0;\"/></a><!--MD5=[ecce554b5b3284dd7ef467a467e232ee]\n",
       "@startuml\r\n",
       "top to bottom direction\r\n",
       "skinparam monochrome true\r\n",
       "skinparam classbackgroundcolor white\r\n",
       "skinparam shadowing false\r\n",
       "skinparam wrapWidth 300\r\n",
       "hide circle\r\n",
       "\r\n",
       "package \"Q\" as E1  [[psysml:1ca4998e-7283-4312-8b1a-8c25c589ba37 ]]  {\r\n",
       "comp usage \"f\" as E2  <<(T,blue)part>> [[psysml:9f0b35e2-e039-4fc1-a74b-e29bd15d28ff ]] {\r\n",
       "}\r\n",
       "comp usage \"a\" as E3  <<(T,blue)part>> [[psysml:9a16e398-0ba6-448d-aba1-0f88a9a52804 ]] {\r\n",
       "}\r\n",
       "comp def \"C\" as E4  <<(T,blue)part def>> [[psysml:17ca64f8-f38a-4aec-8c02-fbca076b4a28 ]] {\r\n",
       "}\r\n",
       "comp usage \"g\" as E5  <<(T,blue)part>> [[psysml:43d8af85-10f5-4c20-8018-948df50254a5 ]] {\r\n",
       "}\r\n",
       "E2 *- - E3 [[psysml:9a16e398-0ba6-448d-aba1-0f88a9a52804 ]] \r\n",
       "E4 *- - E5 [[psysml:43d8af85-10f5-4c20-8018-948df50254a5 ]] \r\n",
       "}\r\n",
       "@enduml\r\n",
       "\n",
       "PlantUML version 1.2020.13(Sat Jun 13 12:26:38 UTC 2020)\n",
       "(EPL source distribution)\n",
       "Java Runtime: OpenJDK Runtime Environment\n",
       "JVM: OpenJDK 64-Bit Server VM\n",
       "Default Encoding: UTF-8\n",
       "Language: en\n",
       "Country: null\n",
       "--></g></svg>"
      ]
     },
     "execution_count": 49,
     "metadata": {},
     "output_type": "execute_result"
    }
   ],
   "source": [
    "%viz --style=\"TB\" --view=\"Sequence\" \"Q\""
   ]
  },
  {
   "cell_type": "code",
   "execution_count": 50,
   "id": "juvenile-hands",
   "metadata": {
    "execution": {
     "iopub.execute_input": "2021-03-25T15:01:00.600832Z",
     "iopub.status.busy": "2021-03-25T15:01:00.600399Z",
     "iopub.status.idle": "2021-03-25T15:01:00.662547Z",
     "shell.execute_reply": "2021-03-25T15:01:00.660811Z"
    }
   },
   "outputs": [
    {
     "data": {
      "image/svg+xml": [
       "<?xml version=\"1.0\" encoding=\"UTF-8\" standalone=\"no\"?><svg xmlns=\"http://www.w3.org/2000/svg\" xmlns:xlink=\"http://www.w3.org/1999/xlink\" contentScriptType=\"application/ecmascript\" contentStyleType=\"text/css\" height=\"221px\" preserveAspectRatio=\"none\" style=\"width:213px;height:221px;\" version=\"1.1\" viewBox=\"0 0 213 221\" width=\"213px\" zoomAndPan=\"magnify\"><defs/><g><!--MD5=[fbc87193dbaf4d95561dea2c320d4a47]\n",
       "cluster E1--><a href=\"psysml:1ca4998e-7283-4312-8b1a-8c25c589ba37\" target=\"_top\" title=\"psysml:1ca4998e-7283-4312-8b1a-8c25c589ba37\" xlink:actuate=\"onRequest\" xlink:href=\"psysml:1ca4998e-7283-4312-8b1a-8c25c589ba37\" xlink:show=\"new\" xlink:title=\"psysml:1ca4998e-7283-4312-8b1a-8c25c589ba37\" xlink:type=\"simple\"><polygon fill=\"#FFFFFF\" points=\"16,6,34,6,41,28.2969,191,28.2969,191,209,16,209,16,6\" style=\"stroke: #000000; stroke-width: 1.5;\"/><line style=\"stroke: #000000; stroke-width: 1.5;\" x1=\"16\" x2=\"41\" y1=\"28.2969\" y2=\"28.2969\"/><text fill=\"#000000\" font-family=\"sans-serif\" font-size=\"14\" font-weight=\"bold\" lengthAdjust=\"spacingAndGlyphs\" textLength=\"12\" x=\"20\" y=\"20.9951\">Q</text></a><!--MD5=[b4997ac47864f28c2f74865a473b2911]\n",
       "class E2--><a href=\"psysml:9f0b35e2-e039-4fc1-a74b-e29bd15d28ff\" target=\"_top\" title=\"psysml:9f0b35e2-e039-4fc1-a74b-e29bd15d28ff\" xlink:actuate=\"onRequest\" xlink:href=\"psysml:9f0b35e2-e039-4fc1-a74b-e29bd15d28ff\" xlink:show=\"new\" xlink:title=\"psysml:9f0b35e2-e039-4fc1-a74b-e29bd15d28ff\" xlink:type=\"simple\"><rect fill=\"#FFFFFF\" height=\"45.9375\" id=\"E2\" rx=\"10\" ry=\"10\" style=\"stroke: #383838; stroke-width: 1.5;\" width=\"42\" x=\"133\" y=\"41\"/><text fill=\"#000000\" font-family=\"sans-serif\" font-size=\"12\" font-style=\"italic\" lengthAdjust=\"spacingAndGlyphs\" textLength=\"40\" x=\"134\" y=\"57.1387\">«part»</text><text fill=\"#000000\" font-family=\"sans-serif\" font-size=\"12\" lengthAdjust=\"spacingAndGlyphs\" textLength=\"4\" x=\"152\" y=\"71.1074\">f</text><line style=\"stroke: #383838; stroke-width: 1.5;\" x1=\"134\" x2=\"174\" y1=\"78.9375\" y2=\"78.9375\"/></a><!--MD5=[09b614a08d8cba4a07c9adeb5e0fee81]\n",
       "class E3--><a href=\"psysml:9a16e398-0ba6-448d-aba1-0f88a9a52804\" target=\"_top\" title=\"psysml:9a16e398-0ba6-448d-aba1-0f88a9a52804\" xlink:actuate=\"onRequest\" xlink:href=\"psysml:9a16e398-0ba6-448d-aba1-0f88a9a52804\" xlink:show=\"new\" xlink:title=\"psysml:9a16e398-0ba6-448d-aba1-0f88a9a52804\" xlink:type=\"simple\"><rect fill=\"#FFFFFF\" height=\"45.9375\" id=\"E3\" rx=\"10\" ry=\"10\" style=\"stroke: #383838; stroke-width: 1.5;\" width=\"42\" x=\"133\" y=\"147\"/><text fill=\"#000000\" font-family=\"sans-serif\" font-size=\"12\" font-style=\"italic\" lengthAdjust=\"spacingAndGlyphs\" textLength=\"40\" x=\"134\" y=\"163.1387\">«part»</text><text fill=\"#000000\" font-family=\"sans-serif\" font-size=\"12\" lengthAdjust=\"spacingAndGlyphs\" textLength=\"8\" x=\"150\" y=\"177.1074\">a</text><line style=\"stroke: #383838; stroke-width: 1.5;\" x1=\"134\" x2=\"174\" y1=\"184.9375\" y2=\"184.9375\"/></a><!--MD5=[ebbe1d658d1005bcc118a6aa81145e00]\n",
       "class E4--><a href=\"psysml:17ca64f8-f38a-4aec-8c02-fbca076b4a28\" target=\"_top\" title=\"psysml:17ca64f8-f38a-4aec-8c02-fbca076b4a28\" xlink:actuate=\"onRequest\" xlink:href=\"psysml:17ca64f8-f38a-4aec-8c02-fbca076b4a28\" xlink:show=\"new\" xlink:title=\"psysml:17ca64f8-f38a-4aec-8c02-fbca076b4a28\" xlink:type=\"simple\"><rect fill=\"#FFFFFF\" height=\"45.9375\" id=\"E4\" style=\"stroke: #383838; stroke-width: 1.5;\" width=\"66\" x=\"32\" y=\"41\"/><text fill=\"#000000\" font-family=\"sans-serif\" font-size=\"12\" font-style=\"italic\" lengthAdjust=\"spacingAndGlyphs\" textLength=\"64\" x=\"33\" y=\"57.1387\">«part def»</text><text fill=\"#000000\" font-family=\"sans-serif\" font-size=\"12\" lengthAdjust=\"spacingAndGlyphs\" textLength=\"8\" x=\"61\" y=\"71.1074\">C</text><line style=\"stroke: #383838; stroke-width: 1.5;\" x1=\"33\" x2=\"97\" y1=\"78.9375\" y2=\"78.9375\"/></a><!--MD5=[270fce915f116d4de14055a7c1d9a0f3]\n",
       "class E5--><a href=\"psysml:43d8af85-10f5-4c20-8018-948df50254a5\" target=\"_top\" title=\"psysml:43d8af85-10f5-4c20-8018-948df50254a5\" xlink:actuate=\"onRequest\" xlink:href=\"psysml:43d8af85-10f5-4c20-8018-948df50254a5\" xlink:show=\"new\" xlink:title=\"psysml:43d8af85-10f5-4c20-8018-948df50254a5\" xlink:type=\"simple\"><rect fill=\"#FFFFFF\" height=\"45.9375\" id=\"E5\" rx=\"10\" ry=\"10\" style=\"stroke: #383838; stroke-width: 1.5;\" width=\"42\" x=\"44\" y=\"147\"/><text fill=\"#000000\" font-family=\"sans-serif\" font-size=\"12\" font-style=\"italic\" lengthAdjust=\"spacingAndGlyphs\" textLength=\"40\" x=\"45\" y=\"163.1387\">«part»</text><text fill=\"#000000\" font-family=\"sans-serif\" font-size=\"12\" lengthAdjust=\"spacingAndGlyphs\" textLength=\"8\" x=\"61\" y=\"177.1074\">g</text><line style=\"stroke: #383838; stroke-width: 1.5;\" x1=\"45\" x2=\"85\" y1=\"184.9375\" y2=\"184.9375\"/></a><!--MD5=[209b3feb70ccb6233bfe1053d122c12c]\n",
       "reverse link E2 to E3--><a href=\"psysml:9a16e398-0ba6-448d-aba1-0f88a9a52804\" target=\"_top\" title=\"psysml:9a16e398-0ba6-448d-aba1-0f88a9a52804\" xlink:actuate=\"onRequest\" xlink:href=\"psysml:9a16e398-0ba6-448d-aba1-0f88a9a52804\" xlink:show=\"new\" xlink:title=\"psysml:9a16e398-0ba6-448d-aba1-0f88a9a52804\" xlink:type=\"simple\"><path d=\"M154,100.44 C154,115.87 154,133.47 154,146.98 \" fill=\"none\" id=\"E2&lt;-E3\" style=\"stroke: #383838; stroke-width: 1.0;\"/><polygon fill=\"#383838\" points=\"154,87.06,150,93.06,154,99.06,158,93.06,154,87.06\" style=\"stroke: #383838; stroke-width: 1.0;\"/></a><!--MD5=[62aa6af11e70f752912c1cb0466f24f7]\n",
       "reverse link E4 to E5--><a href=\"psysml:43d8af85-10f5-4c20-8018-948df50254a5\" target=\"_top\" title=\"psysml:43d8af85-10f5-4c20-8018-948df50254a5\" xlink:actuate=\"onRequest\" xlink:href=\"psysml:43d8af85-10f5-4c20-8018-948df50254a5\" xlink:show=\"new\" xlink:title=\"psysml:43d8af85-10f5-4c20-8018-948df50254a5\" xlink:type=\"simple\"><path d=\"M65,100.44 C65,115.87 65,133.47 65,146.98 \" fill=\"none\" id=\"E4&lt;-E5\" style=\"stroke: #383838; stroke-width: 1.0;\"/><polygon fill=\"#383838\" points=\"65,87.06,61,93.06,65,99.06,69,93.06,65,87.06\" style=\"stroke: #383838; stroke-width: 1.0;\"/></a><!--MD5=[ecce554b5b3284dd7ef467a467e232ee]\n",
       "@startuml\r\n",
       "top to bottom direction\r\n",
       "skinparam monochrome true\r\n",
       "skinparam classbackgroundcolor white\r\n",
       "skinparam shadowing false\r\n",
       "skinparam wrapWidth 300\r\n",
       "hide circle\r\n",
       "\r\n",
       "package \"Q\" as E1  [[psysml:1ca4998e-7283-4312-8b1a-8c25c589ba37 ]]  {\r\n",
       "comp usage \"f\" as E2  <<(T,blue)part>> [[psysml:9f0b35e2-e039-4fc1-a74b-e29bd15d28ff ]] {\r\n",
       "}\r\n",
       "comp usage \"a\" as E3  <<(T,blue)part>> [[psysml:9a16e398-0ba6-448d-aba1-0f88a9a52804 ]] {\r\n",
       "}\r\n",
       "comp def \"C\" as E4  <<(T,blue)part def>> [[psysml:17ca64f8-f38a-4aec-8c02-fbca076b4a28 ]] {\r\n",
       "}\r\n",
       "comp usage \"g\" as E5  <<(T,blue)part>> [[psysml:43d8af85-10f5-4c20-8018-948df50254a5 ]] {\r\n",
       "}\r\n",
       "E2 *- - E3 [[psysml:9a16e398-0ba6-448d-aba1-0f88a9a52804 ]] \r\n",
       "E4 *- - E5 [[psysml:43d8af85-10f5-4c20-8018-948df50254a5 ]] \r\n",
       "}\r\n",
       "@enduml\r\n",
       "\n",
       "PlantUML version 1.2020.13(Sat Jun 13 12:26:38 UTC 2020)\n",
       "(EPL source distribution)\n",
       "Java Runtime: OpenJDK Runtime Environment\n",
       "JVM: OpenJDK 64-Bit Server VM\n",
       "Default Encoding: UTF-8\n",
       "Language: en\n",
       "Country: null\n",
       "--></g></svg>"
      ]
     },
     "execution_count": 50,
     "metadata": {},
     "output_type": "execute_result"
    }
   ],
   "source": [
    "%viz --style=\"TB\" --view=\"MIXED\" \"Q\""
   ]
  },
  {
   "cell_type": "code",
   "execution_count": 51,
   "id": "southern-shock",
   "metadata": {
    "execution": {
     "iopub.execute_input": "2021-03-25T15:01:00.712153Z",
     "iopub.status.busy": "2021-03-25T15:01:00.711462Z",
     "iopub.status.idle": "2021-03-25T15:01:00.766258Z",
     "shell.execute_reply": "2021-03-25T15:01:00.765075Z"
    }
   },
   "outputs": [
    {
     "data": {
      "image/svg+xml": [
       "<?xml version=\"1.0\" encoding=\"UTF-8\" standalone=\"no\"?><svg xmlns=\"http://www.w3.org/2000/svg\" xmlns:xlink=\"http://www.w3.org/1999/xlink\" contentScriptType=\"application/ecmascript\" contentStyleType=\"text/css\" height=\"221px\" preserveAspectRatio=\"none\" style=\"width:213px;height:221px;\" version=\"1.1\" viewBox=\"0 0 213 221\" width=\"213px\" zoomAndPan=\"magnify\"><defs/><g><!--MD5=[fbc87193dbaf4d95561dea2c320d4a47]\n",
       "cluster E1--><a href=\"psysml:1ca4998e-7283-4312-8b1a-8c25c589ba37\" target=\"_top\" title=\"psysml:1ca4998e-7283-4312-8b1a-8c25c589ba37\" xlink:actuate=\"onRequest\" xlink:href=\"psysml:1ca4998e-7283-4312-8b1a-8c25c589ba37\" xlink:show=\"new\" xlink:title=\"psysml:1ca4998e-7283-4312-8b1a-8c25c589ba37\" xlink:type=\"simple\"><polygon fill=\"#FFFFFF\" points=\"16,6,34,6,41,28.2969,191,28.2969,191,209,16,209,16,6\" style=\"stroke: #000000; stroke-width: 1.5;\"/><line style=\"stroke: #000000; stroke-width: 1.5;\" x1=\"16\" x2=\"41\" y1=\"28.2969\" y2=\"28.2969\"/><text fill=\"#000000\" font-family=\"sans-serif\" font-size=\"14\" font-weight=\"bold\" lengthAdjust=\"spacingAndGlyphs\" textLength=\"12\" x=\"20\" y=\"20.9951\">Q</text></a><!--MD5=[b4997ac47864f28c2f74865a473b2911]\n",
       "class E2--><a href=\"psysml:9f0b35e2-e039-4fc1-a74b-e29bd15d28ff\" target=\"_top\" title=\"psysml:9f0b35e2-e039-4fc1-a74b-e29bd15d28ff\" xlink:actuate=\"onRequest\" xlink:href=\"psysml:9f0b35e2-e039-4fc1-a74b-e29bd15d28ff\" xlink:show=\"new\" xlink:title=\"psysml:9f0b35e2-e039-4fc1-a74b-e29bd15d28ff\" xlink:type=\"simple\"><rect fill=\"#FFFFFF\" height=\"45.9375\" id=\"E2\" rx=\"10\" ry=\"10\" style=\"stroke: #383838; stroke-width: 1.5;\" width=\"42\" x=\"133\" y=\"41\"/><text fill=\"#000000\" font-family=\"sans-serif\" font-size=\"12\" font-style=\"italic\" lengthAdjust=\"spacingAndGlyphs\" textLength=\"40\" x=\"134\" y=\"57.1387\">«part»</text><text fill=\"#000000\" font-family=\"sans-serif\" font-size=\"12\" lengthAdjust=\"spacingAndGlyphs\" textLength=\"4\" x=\"152\" y=\"71.1074\">f</text><line style=\"stroke: #383838; stroke-width: 1.5;\" x1=\"134\" x2=\"174\" y1=\"78.9375\" y2=\"78.9375\"/></a><!--MD5=[09b614a08d8cba4a07c9adeb5e0fee81]\n",
       "class E3--><a href=\"psysml:9a16e398-0ba6-448d-aba1-0f88a9a52804\" target=\"_top\" title=\"psysml:9a16e398-0ba6-448d-aba1-0f88a9a52804\" xlink:actuate=\"onRequest\" xlink:href=\"psysml:9a16e398-0ba6-448d-aba1-0f88a9a52804\" xlink:show=\"new\" xlink:title=\"psysml:9a16e398-0ba6-448d-aba1-0f88a9a52804\" xlink:type=\"simple\"><rect fill=\"#FFFFFF\" height=\"45.9375\" id=\"E3\" rx=\"10\" ry=\"10\" style=\"stroke: #383838; stroke-width: 1.5;\" width=\"42\" x=\"133\" y=\"147\"/><text fill=\"#000000\" font-family=\"sans-serif\" font-size=\"12\" font-style=\"italic\" lengthAdjust=\"spacingAndGlyphs\" textLength=\"40\" x=\"134\" y=\"163.1387\">«part»</text><text fill=\"#000000\" font-family=\"sans-serif\" font-size=\"12\" lengthAdjust=\"spacingAndGlyphs\" textLength=\"8\" x=\"150\" y=\"177.1074\">a</text><line style=\"stroke: #383838; stroke-width: 1.5;\" x1=\"134\" x2=\"174\" y1=\"184.9375\" y2=\"184.9375\"/></a><!--MD5=[ebbe1d658d1005bcc118a6aa81145e00]\n",
       "class E4--><a href=\"psysml:17ca64f8-f38a-4aec-8c02-fbca076b4a28\" target=\"_top\" title=\"psysml:17ca64f8-f38a-4aec-8c02-fbca076b4a28\" xlink:actuate=\"onRequest\" xlink:href=\"psysml:17ca64f8-f38a-4aec-8c02-fbca076b4a28\" xlink:show=\"new\" xlink:title=\"psysml:17ca64f8-f38a-4aec-8c02-fbca076b4a28\" xlink:type=\"simple\"><rect fill=\"#FFFFFF\" height=\"45.9375\" id=\"E4\" style=\"stroke: #383838; stroke-width: 1.5;\" width=\"66\" x=\"32\" y=\"41\"/><text fill=\"#000000\" font-family=\"sans-serif\" font-size=\"12\" font-style=\"italic\" lengthAdjust=\"spacingAndGlyphs\" textLength=\"64\" x=\"33\" y=\"57.1387\">«part def»</text><text fill=\"#000000\" font-family=\"sans-serif\" font-size=\"12\" lengthAdjust=\"spacingAndGlyphs\" textLength=\"8\" x=\"61\" y=\"71.1074\">C</text><line style=\"stroke: #383838; stroke-width: 1.5;\" x1=\"33\" x2=\"97\" y1=\"78.9375\" y2=\"78.9375\"/></a><!--MD5=[270fce915f116d4de14055a7c1d9a0f3]\n",
       "class E5--><a href=\"psysml:43d8af85-10f5-4c20-8018-948df50254a5\" target=\"_top\" title=\"psysml:43d8af85-10f5-4c20-8018-948df50254a5\" xlink:actuate=\"onRequest\" xlink:href=\"psysml:43d8af85-10f5-4c20-8018-948df50254a5\" xlink:show=\"new\" xlink:title=\"psysml:43d8af85-10f5-4c20-8018-948df50254a5\" xlink:type=\"simple\"><rect fill=\"#FFFFFF\" height=\"45.9375\" id=\"E5\" rx=\"10\" ry=\"10\" style=\"stroke: #383838; stroke-width: 1.5;\" width=\"42\" x=\"44\" y=\"147\"/><text fill=\"#000000\" font-family=\"sans-serif\" font-size=\"12\" font-style=\"italic\" lengthAdjust=\"spacingAndGlyphs\" textLength=\"40\" x=\"45\" y=\"163.1387\">«part»</text><text fill=\"#000000\" font-family=\"sans-serif\" font-size=\"12\" lengthAdjust=\"spacingAndGlyphs\" textLength=\"8\" x=\"61\" y=\"177.1074\">g</text><line style=\"stroke: #383838; stroke-width: 1.5;\" x1=\"45\" x2=\"85\" y1=\"184.9375\" y2=\"184.9375\"/></a><!--MD5=[209b3feb70ccb6233bfe1053d122c12c]\n",
       "reverse link E2 to E3--><a href=\"psysml:9a16e398-0ba6-448d-aba1-0f88a9a52804\" target=\"_top\" title=\"psysml:9a16e398-0ba6-448d-aba1-0f88a9a52804\" xlink:actuate=\"onRequest\" xlink:href=\"psysml:9a16e398-0ba6-448d-aba1-0f88a9a52804\" xlink:show=\"new\" xlink:title=\"psysml:9a16e398-0ba6-448d-aba1-0f88a9a52804\" xlink:type=\"simple\"><path d=\"M154,100 C154,100 154,146.68 154,146.68 \" fill=\"none\" id=\"E2&lt;-E3\" style=\"stroke: #383838; stroke-width: 1.0;\"/><polygon fill=\"#383838\" points=\"154,87,150,93,154,99,158,93,154,87\" style=\"stroke: #383838; stroke-width: 1.0;\"/></a><!--MD5=[62aa6af11e70f752912c1cb0466f24f7]\n",
       "reverse link E4 to E5--><a href=\"psysml:43d8af85-10f5-4c20-8018-948df50254a5\" target=\"_top\" title=\"psysml:43d8af85-10f5-4c20-8018-948df50254a5\" xlink:actuate=\"onRequest\" xlink:href=\"psysml:43d8af85-10f5-4c20-8018-948df50254a5\" xlink:show=\"new\" xlink:title=\"psysml:43d8af85-10f5-4c20-8018-948df50254a5\" xlink:type=\"simple\"><path d=\"M65,100 C65,100 65,146.68 65,146.68 \" fill=\"none\" id=\"E4&lt;-E5\" style=\"stroke: #383838; stroke-width: 1.0;\"/><polygon fill=\"#383838\" points=\"65,87,61,93,65,99,69,93,65,87\" style=\"stroke: #383838; stroke-width: 1.0;\"/></a><!--MD5=[dc19fee09fcc5c928d5fc042cd4eca1c]\n",
       "@startuml\r\n",
       "skinparam linetype ortho\r\n",
       "skinparam monochrome true\r\n",
       "skinparam classbackgroundcolor white\r\n",
       "skinparam shadowing false\r\n",
       "skinparam wrapWidth 300\r\n",
       "hide circle\r\n",
       "\r\n",
       "package \"Q\" as E1  [[psysml:1ca4998e-7283-4312-8b1a-8c25c589ba37 ]]  {\r\n",
       "comp usage \"f\" as E2  <<(T,blue)part>> [[psysml:9f0b35e2-e039-4fc1-a74b-e29bd15d28ff ]] {\r\n",
       "}\r\n",
       "comp usage \"a\" as E3  <<(T,blue)part>> [[psysml:9a16e398-0ba6-448d-aba1-0f88a9a52804 ]] {\r\n",
       "}\r\n",
       "comp def \"C\" as E4  <<(T,blue)part def>> [[psysml:17ca64f8-f38a-4aec-8c02-fbca076b4a28 ]] {\r\n",
       "}\r\n",
       "comp usage \"g\" as E5  <<(T,blue)part>> [[psysml:43d8af85-10f5-4c20-8018-948df50254a5 ]] {\r\n",
       "}\r\n",
       "E2 *- - E3 [[psysml:9a16e398-0ba6-448d-aba1-0f88a9a52804 ]] \r\n",
       "E4 *- - E5 [[psysml:43d8af85-10f5-4c20-8018-948df50254a5 ]] \r\n",
       "}\r\n",
       "@enduml\r\n",
       "\n",
       "PlantUML version 1.2020.13(Sat Jun 13 12:26:38 UTC 2020)\n",
       "(EPL source distribution)\n",
       "Java Runtime: OpenJDK Runtime Environment\n",
       "JVM: OpenJDK 64-Bit Server VM\n",
       "Default Encoding: UTF-8\n",
       "Language: en\n",
       "Country: null\n",
       "--></g></svg>"
      ]
     },
     "execution_count": 51,
     "metadata": {},
     "output_type": "execute_result"
    }
   ],
   "source": [
    "%viz --style=\"ORTHOLINE\" --view=\"Default\" \"Q\""
   ]
  },
  {
   "cell_type": "code",
   "execution_count": 52,
   "id": "combined-fellowship",
   "metadata": {
    "execution": {
     "iopub.execute_input": "2021-03-25T15:01:00.816626Z",
     "iopub.status.busy": "2021-03-25T15:01:00.815870Z",
     "iopub.status.idle": "2021-03-25T15:01:00.868735Z",
     "shell.execute_reply": "2021-03-25T15:01:00.867606Z"
    }
   },
   "outputs": [
    {
     "data": {
      "image/svg+xml": [
       "<?xml version=\"1.0\" encoding=\"UTF-8\" standalone=\"no\"?><svg xmlns=\"http://www.w3.org/2000/svg\" xmlns:xlink=\"http://www.w3.org/1999/xlink\" contentScriptType=\"application/ecmascript\" contentStyleType=\"text/css\" height=\"221px\" preserveAspectRatio=\"none\" style=\"width:213px;height:221px;\" version=\"1.1\" viewBox=\"0 0 213 221\" width=\"213px\" zoomAndPan=\"magnify\"><defs/><g><!--MD5=[fbc87193dbaf4d95561dea2c320d4a47]\n",
       "cluster E1--><a href=\"psysml:1ca4998e-7283-4312-8b1a-8c25c589ba37\" target=\"_top\" title=\"psysml:1ca4998e-7283-4312-8b1a-8c25c589ba37\" xlink:actuate=\"onRequest\" xlink:href=\"psysml:1ca4998e-7283-4312-8b1a-8c25c589ba37\" xlink:show=\"new\" xlink:title=\"psysml:1ca4998e-7283-4312-8b1a-8c25c589ba37\" xlink:type=\"simple\"><polygon fill=\"#FFFFFF\" points=\"16,6,34,6,41,28.2969,191,28.2969,191,209,16,209,16,6\" style=\"stroke: #000000; stroke-width: 1.5;\"/><line style=\"stroke: #000000; stroke-width: 1.5;\" x1=\"16\" x2=\"41\" y1=\"28.2969\" y2=\"28.2969\"/><text fill=\"#000000\" font-family=\"sans-serif\" font-size=\"14\" font-weight=\"bold\" lengthAdjust=\"spacingAndGlyphs\" textLength=\"12\" x=\"20\" y=\"20.9951\">Q</text></a><!--MD5=[b4997ac47864f28c2f74865a473b2911]\n",
       "class E2--><a href=\"psysml:9f0b35e2-e039-4fc1-a74b-e29bd15d28ff\" target=\"_top\" title=\"psysml:9f0b35e2-e039-4fc1-a74b-e29bd15d28ff\" xlink:actuate=\"onRequest\" xlink:href=\"psysml:9f0b35e2-e039-4fc1-a74b-e29bd15d28ff\" xlink:show=\"new\" xlink:title=\"psysml:9f0b35e2-e039-4fc1-a74b-e29bd15d28ff\" xlink:type=\"simple\"><rect fill=\"#FFFFFF\" height=\"45.9375\" id=\"E2\" rx=\"10\" ry=\"10\" style=\"stroke: #383838; stroke-width: 1.5;\" width=\"42\" x=\"133\" y=\"41\"/><text fill=\"#000000\" font-family=\"sans-serif\" font-size=\"12\" font-style=\"italic\" lengthAdjust=\"spacingAndGlyphs\" textLength=\"40\" x=\"134\" y=\"57.1387\">«part»</text><text fill=\"#000000\" font-family=\"sans-serif\" font-size=\"12\" lengthAdjust=\"spacingAndGlyphs\" textLength=\"4\" x=\"152\" y=\"71.1074\">f</text><line style=\"stroke: #383838; stroke-width: 1.5;\" x1=\"134\" x2=\"174\" y1=\"78.9375\" y2=\"78.9375\"/></a><!--MD5=[09b614a08d8cba4a07c9adeb5e0fee81]\n",
       "class E3--><a href=\"psysml:9a16e398-0ba6-448d-aba1-0f88a9a52804\" target=\"_top\" title=\"psysml:9a16e398-0ba6-448d-aba1-0f88a9a52804\" xlink:actuate=\"onRequest\" xlink:href=\"psysml:9a16e398-0ba6-448d-aba1-0f88a9a52804\" xlink:show=\"new\" xlink:title=\"psysml:9a16e398-0ba6-448d-aba1-0f88a9a52804\" xlink:type=\"simple\"><rect fill=\"#FFFFFF\" height=\"45.9375\" id=\"E3\" rx=\"10\" ry=\"10\" style=\"stroke: #383838; stroke-width: 1.5;\" width=\"42\" x=\"133\" y=\"147\"/><text fill=\"#000000\" font-family=\"sans-serif\" font-size=\"12\" font-style=\"italic\" lengthAdjust=\"spacingAndGlyphs\" textLength=\"40\" x=\"134\" y=\"163.1387\">«part»</text><text fill=\"#000000\" font-family=\"sans-serif\" font-size=\"12\" lengthAdjust=\"spacingAndGlyphs\" textLength=\"8\" x=\"150\" y=\"177.1074\">a</text><line style=\"stroke: #383838; stroke-width: 1.5;\" x1=\"134\" x2=\"174\" y1=\"184.9375\" y2=\"184.9375\"/></a><!--MD5=[ebbe1d658d1005bcc118a6aa81145e00]\n",
       "class E4--><a href=\"psysml:17ca64f8-f38a-4aec-8c02-fbca076b4a28\" target=\"_top\" title=\"psysml:17ca64f8-f38a-4aec-8c02-fbca076b4a28\" xlink:actuate=\"onRequest\" xlink:href=\"psysml:17ca64f8-f38a-4aec-8c02-fbca076b4a28\" xlink:show=\"new\" xlink:title=\"psysml:17ca64f8-f38a-4aec-8c02-fbca076b4a28\" xlink:type=\"simple\"><rect fill=\"#FFFFFF\" height=\"45.9375\" id=\"E4\" style=\"stroke: #383838; stroke-width: 1.5;\" width=\"66\" x=\"32\" y=\"41\"/><text fill=\"#000000\" font-family=\"sans-serif\" font-size=\"12\" font-style=\"italic\" lengthAdjust=\"spacingAndGlyphs\" textLength=\"64\" x=\"33\" y=\"57.1387\">«part def»</text><text fill=\"#000000\" font-family=\"sans-serif\" font-size=\"12\" lengthAdjust=\"spacingAndGlyphs\" textLength=\"8\" x=\"61\" y=\"71.1074\">C</text><line style=\"stroke: #383838; stroke-width: 1.5;\" x1=\"33\" x2=\"97\" y1=\"78.9375\" y2=\"78.9375\"/></a><!--MD5=[270fce915f116d4de14055a7c1d9a0f3]\n",
       "class E5--><a href=\"psysml:43d8af85-10f5-4c20-8018-948df50254a5\" target=\"_top\" title=\"psysml:43d8af85-10f5-4c20-8018-948df50254a5\" xlink:actuate=\"onRequest\" xlink:href=\"psysml:43d8af85-10f5-4c20-8018-948df50254a5\" xlink:show=\"new\" xlink:title=\"psysml:43d8af85-10f5-4c20-8018-948df50254a5\" xlink:type=\"simple\"><rect fill=\"#FFFFFF\" height=\"45.9375\" id=\"E5\" rx=\"10\" ry=\"10\" style=\"stroke: #383838; stroke-width: 1.5;\" width=\"42\" x=\"44\" y=\"147\"/><text fill=\"#000000\" font-family=\"sans-serif\" font-size=\"12\" font-style=\"italic\" lengthAdjust=\"spacingAndGlyphs\" textLength=\"40\" x=\"45\" y=\"163.1387\">«part»</text><text fill=\"#000000\" font-family=\"sans-serif\" font-size=\"12\" lengthAdjust=\"spacingAndGlyphs\" textLength=\"8\" x=\"61\" y=\"177.1074\">g</text><line style=\"stroke: #383838; stroke-width: 1.5;\" x1=\"45\" x2=\"85\" y1=\"184.9375\" y2=\"184.9375\"/></a><!--MD5=[209b3feb70ccb6233bfe1053d122c12c]\n",
       "reverse link E2 to E3--><a href=\"psysml:9a16e398-0ba6-448d-aba1-0f88a9a52804\" target=\"_top\" title=\"psysml:9a16e398-0ba6-448d-aba1-0f88a9a52804\" xlink:actuate=\"onRequest\" xlink:href=\"psysml:9a16e398-0ba6-448d-aba1-0f88a9a52804\" xlink:show=\"new\" xlink:title=\"psysml:9a16e398-0ba6-448d-aba1-0f88a9a52804\" xlink:type=\"simple\"><path d=\"M154,100 C154,100 154,146.68 154,146.68 \" fill=\"none\" id=\"E2&lt;-E3\" style=\"stroke: #383838; stroke-width: 1.0;\"/><polygon fill=\"#383838\" points=\"154,87,150,93,154,99,158,93,154,87\" style=\"stroke: #383838; stroke-width: 1.0;\"/></a><!--MD5=[62aa6af11e70f752912c1cb0466f24f7]\n",
       "reverse link E4 to E5--><a href=\"psysml:43d8af85-10f5-4c20-8018-948df50254a5\" target=\"_top\" title=\"psysml:43d8af85-10f5-4c20-8018-948df50254a5\" xlink:actuate=\"onRequest\" xlink:href=\"psysml:43d8af85-10f5-4c20-8018-948df50254a5\" xlink:show=\"new\" xlink:title=\"psysml:43d8af85-10f5-4c20-8018-948df50254a5\" xlink:type=\"simple\"><path d=\"M65,100 C65,100 65,146.68 65,146.68 \" fill=\"none\" id=\"E4&lt;-E5\" style=\"stroke: #383838; stroke-width: 1.0;\"/><polygon fill=\"#383838\" points=\"65,87,61,93,65,99,69,93,65,87\" style=\"stroke: #383838; stroke-width: 1.0;\"/></a><!--MD5=[dc19fee09fcc5c928d5fc042cd4eca1c]\n",
       "@startuml\r\n",
       "skinparam linetype ortho\r\n",
       "skinparam monochrome true\r\n",
       "skinparam classbackgroundcolor white\r\n",
       "skinparam shadowing false\r\n",
       "skinparam wrapWidth 300\r\n",
       "hide circle\r\n",
       "\r\n",
       "package \"Q\" as E1  [[psysml:1ca4998e-7283-4312-8b1a-8c25c589ba37 ]]  {\r\n",
       "comp usage \"f\" as E2  <<(T,blue)part>> [[psysml:9f0b35e2-e039-4fc1-a74b-e29bd15d28ff ]] {\r\n",
       "}\r\n",
       "comp usage \"a\" as E3  <<(T,blue)part>> [[psysml:9a16e398-0ba6-448d-aba1-0f88a9a52804 ]] {\r\n",
       "}\r\n",
       "comp def \"C\" as E4  <<(T,blue)part def>> [[psysml:17ca64f8-f38a-4aec-8c02-fbca076b4a28 ]] {\r\n",
       "}\r\n",
       "comp usage \"g\" as E5  <<(T,blue)part>> [[psysml:43d8af85-10f5-4c20-8018-948df50254a5 ]] {\r\n",
       "}\r\n",
       "E2 *- - E3 [[psysml:9a16e398-0ba6-448d-aba1-0f88a9a52804 ]] \r\n",
       "E4 *- - E5 [[psysml:43d8af85-10f5-4c20-8018-948df50254a5 ]] \r\n",
       "}\r\n",
       "@enduml\r\n",
       "\n",
       "PlantUML version 1.2020.13(Sat Jun 13 12:26:38 UTC 2020)\n",
       "(EPL source distribution)\n",
       "Java Runtime: OpenJDK Runtime Environment\n",
       "JVM: OpenJDK 64-Bit Server VM\n",
       "Default Encoding: UTF-8\n",
       "Language: en\n",
       "Country: null\n",
       "--></g></svg>"
      ]
     },
     "execution_count": 52,
     "metadata": {},
     "output_type": "execute_result"
    }
   ],
   "source": [
    "%viz --style=\"ORTHOLINE\" --view=\"Tree\" \"Q\""
   ]
  },
  {
   "cell_type": "code",
   "execution_count": 53,
   "id": "protected-integer",
   "metadata": {
    "execution": {
     "iopub.execute_input": "2021-03-25T15:01:00.918666Z",
     "iopub.status.busy": "2021-03-25T15:01:00.918158Z",
     "iopub.status.idle": "2021-03-25T15:01:00.925814Z",
     "shell.execute_reply": "2021-03-25T15:01:00.925468Z"
    }
   },
   "outputs": [
    {
     "data": {
      "image/svg+xml": [
       "<?xml version=\"1.0\" encoding=\"UTF-8\" standalone=\"no\"?><svg xmlns=\"http://www.w3.org/2000/svg\" xmlns:xlink=\"http://www.w3.org/1999/xlink\" contentScriptType=\"application/ecmascript\" contentStyleType=\"text/css\" height=\"12px\" preserveAspectRatio=\"none\" style=\"width:12px;height:12px;\" version=\"1.1\" viewBox=\"0 0 12 12\" width=\"12px\" zoomAndPan=\"magnify\"><defs/><g><!--MD5=[97d6f38768b311333d388e66b2b27985]\n",
       "@startuml\r\n",
       "skinparam linetype ortho\r\n",
       "skinparam monochrome true\r\n",
       "skinparam classbackgroundcolor white\r\n",
       "skinparam shadowing false\r\n",
       "skinparam wrapWidth 300\r\n",
       "hide circle\r\n",
       "\r\n",
       "@enduml\r\n",
       "\n",
       "PlantUML version 1.2020.13(Sat Jun 13 12:26:38 UTC 2020)\n",
       "(EPL source distribution)\n",
       "Java Runtime: OpenJDK Runtime Environment\n",
       "JVM: OpenJDK 64-Bit Server VM\n",
       "Default Encoding: UTF-8\n",
       "Language: en\n",
       "Country: null\n",
       "--></g></svg>"
      ]
     },
     "execution_count": 53,
     "metadata": {},
     "output_type": "execute_result"
    }
   ],
   "source": [
    "%viz --style=\"ORTHOLINE\" --view=\"State\" \"Q\""
   ]
  },
  {
   "cell_type": "code",
   "execution_count": 54,
   "id": "simplified-elephant",
   "metadata": {
    "execution": {
     "iopub.execute_input": "2021-03-25T15:01:00.976016Z",
     "iopub.status.busy": "2021-03-25T15:01:00.975640Z",
     "iopub.status.idle": "2021-03-25T15:01:01.036406Z",
     "shell.execute_reply": "2021-03-25T15:01:01.034684Z"
    }
   },
   "outputs": [
    {
     "data": {
      "image/svg+xml": [
       "<?xml version=\"1.0\" encoding=\"UTF-8\" standalone=\"no\"?><svg xmlns=\"http://www.w3.org/2000/svg\" xmlns:xlink=\"http://www.w3.org/1999/xlink\" contentScriptType=\"application/ecmascript\" contentStyleType=\"text/css\" height=\"192px\" preserveAspectRatio=\"none\" style=\"width:279px;height:192px;\" version=\"1.1\" viewBox=\"0 0 279 192\" width=\"279px\" zoomAndPan=\"magnify\"><defs/><g><!--MD5=[fbc87193dbaf4d95561dea2c320d4a47]\n",
       "cluster E1--><a href=\"psysml:1ca4998e-7283-4312-8b1a-8c25c589ba37\" target=\"_top\" title=\"psysml:1ca4998e-7283-4312-8b1a-8c25c589ba37\" xlink:actuate=\"onRequest\" xlink:href=\"psysml:1ca4998e-7283-4312-8b1a-8c25c589ba37\" xlink:show=\"new\" xlink:title=\"psysml:1ca4998e-7283-4312-8b1a-8c25c589ba37\" xlink:type=\"simple\"><polygon fill=\"#FFFFFF\" points=\"16,6,34,6,41,28.2969,257,28.2969,257,180,16,180,16,6\" style=\"stroke: #000000; stroke-width: 1.5;\"/><line style=\"stroke: #000000; stroke-width: 1.5;\" x1=\"16\" x2=\"41\" y1=\"28.2969\" y2=\"28.2969\"/><text fill=\"#000000\" font-family=\"sans-serif\" font-size=\"14\" font-weight=\"bold\" lengthAdjust=\"spacingAndGlyphs\" textLength=\"12\" x=\"20\" y=\"20.9951\">Q</text></a><!--MD5=[e4f7fae6ed58524ba242bb0b0d3be6b7]\n",
       "cluster E2--><a href=\"psysml:9f0b35e2-e039-4fc1-a74b-e29bd15d28ff\" target=\"_top\" title=\"psysml:9f0b35e2-e039-4fc1-a74b-e29bd15d28ff\" xlink:actuate=\"onRequest\" xlink:href=\"psysml:9f0b35e2-e039-4fc1-a74b-e29bd15d28ff\" xlink:show=\"new\" xlink:title=\"psysml:9f0b35e2-e039-4fc1-a74b-e29bd15d28ff\" xlink:type=\"simple\"><rect fill=\"#FFFFFF\" height=\"91\" id=\"E2\" rx=\"10\" ry=\"10\" style=\"stroke: #383838; stroke-width: 1.5;\" width=\"82\" x=\"151\" y=\"65\"/><rect fill=\"#F8F8F8\" height=\"23.9688\" rx=\"10\" ry=\"10\" style=\"stroke: #F8F8F8; stroke-width: 1.5;\" width=\"82\" x=\"151\" y=\"65\"/><rect fill=\"#F8F8F8\" height=\"10\" style=\"stroke: #F8F8F8; stroke-width: 1.5;\" width=\"82\" x=\"151\" y=\"78.9688\"/><rect fill=\"none\" height=\"91\" id=\"E2\" rx=\"10\" ry=\"10\" style=\"stroke: #383838; stroke-width: 1.5;\" width=\"82\" x=\"151\" y=\"65\"/><text fill=\"#000000\" font-family=\"sans-serif\" font-size=\"12\" lengthAdjust=\"spacingAndGlyphs\" textLength=\"4\" x=\"190\" y=\"81.1387\">f</text><line style=\"stroke: #383838; stroke-width: 1.0;\" x1=\"151\" x2=\"233\" y1=\"88.9688\" y2=\"88.9688\"/></a><!--MD5=[f6df4d0ebaf0b5dfb2ced0ae5af7c670]\n",
       "cluster E4--><a href=\"psysml:17ca64f8-f38a-4aec-8c02-fbca076b4a28\" target=\"_top\" title=\"psysml:17ca64f8-f38a-4aec-8c02-fbca076b4a28\" xlink:actuate=\"onRequest\" xlink:href=\"psysml:17ca64f8-f38a-4aec-8c02-fbca076b4a28\" xlink:show=\"new\" xlink:title=\"psysml:17ca64f8-f38a-4aec-8c02-fbca076b4a28\" xlink:type=\"simple\"><rect fill=\"#FFFFFF\" height=\"107\" id=\"E4\" style=\"stroke: #383838; stroke-width: 1.5;\" width=\"87\" x=\"40\" y=\"49\"/><rect fill=\"#F8F8F8\" height=\"37.9375\" style=\"stroke: #383838; stroke-width: 1.5;\" width=\"87\" x=\"40\" y=\"49\"/><text fill=\"#000000\" font-family=\"sans-serif\" font-size=\"12\" font-style=\"italic\" lengthAdjust=\"spacingAndGlyphs\" textLength=\"64\" x=\"51.5\" y=\"65.1387\">«part def»</text><text fill=\"#000000\" font-family=\"sans-serif\" font-size=\"12\" lengthAdjust=\"spacingAndGlyphs\" textLength=\"8\" x=\"79.5\" y=\"79.1074\">C</text></a><g id=\"E1.E2.E3\"><a href=\"psysml:9a16e398-0ba6-448d-aba1-0f88a9a52804\" target=\"_top\" title=\"psysml:9a16e398-0ba6-448d-aba1-0f88a9a52804\" xlink:actuate=\"onRequest\" xlink:href=\"psysml:9a16e398-0ba6-448d-aba1-0f88a9a52804\" xlink:show=\"new\" xlink:title=\"psysml:9a16e398-0ba6-448d-aba1-0f88a9a52804\" xlink:type=\"simple\"><rect fill=\"#FFFFFF\" height=\"40\" id=\"E3\" rx=\"10\" ry=\"10\" style=\"stroke: #383838; stroke-width: 1.5;\" width=\"50\" x=\"167\" y=\"100\"/><rect fill=\"#F8F8F8\" height=\"23.9688\" rx=\"10\" ry=\"10\" style=\"stroke: #F8F8F8; stroke-width: 1.5;\" width=\"50\" x=\"167\" y=\"100\"/><rect fill=\"#F8F8F8\" height=\"10\" style=\"stroke: #F8F8F8; stroke-width: 1.5;\" width=\"50\" x=\"167\" y=\"113.9688\"/><rect fill=\"none\" height=\"40\" id=\"E3\" rx=\"10\" ry=\"10\" style=\"stroke: #383838; stroke-width: 1.5;\" width=\"50\" x=\"167\" y=\"100\"/><text fill=\"#000000\" font-family=\"sans-serif\" font-size=\"12\" lengthAdjust=\"spacingAndGlyphs\" textLength=\"8\" x=\"188\" y=\"116.1387\">a</text></a></g><g id=\"E1.E4.E5\"><a href=\"psysml:43d8af85-10f5-4c20-8018-948df50254a5\" target=\"_top\" title=\"psysml:43d8af85-10f5-4c20-8018-948df50254a5\" xlink:actuate=\"onRequest\" xlink:href=\"psysml:43d8af85-10f5-4c20-8018-948df50254a5\" xlink:show=\"new\" xlink:title=\"psysml:43d8af85-10f5-4c20-8018-948df50254a5\" xlink:type=\"simple\"><rect fill=\"#FFFFFF\" height=\"40\" id=\"E5\" rx=\"10\" ry=\"10\" style=\"stroke: #383838; stroke-width: 1.5;\" width=\"50\" x=\"58\" y=\"100\"/><rect fill=\"#F8F8F8\" height=\"23.9688\" rx=\"10\" ry=\"10\" style=\"stroke: #F8F8F8; stroke-width: 1.5;\" width=\"50\" x=\"58\" y=\"100\"/><rect fill=\"#F8F8F8\" height=\"10\" style=\"stroke: #F8F8F8; stroke-width: 1.5;\" width=\"50\" x=\"58\" y=\"113.9688\"/><rect fill=\"none\" height=\"40\" id=\"E5\" rx=\"10\" ry=\"10\" style=\"stroke: #383838; stroke-width: 1.5;\" width=\"50\" x=\"58\" y=\"100\"/><text fill=\"#000000\" font-family=\"sans-serif\" font-size=\"12\" lengthAdjust=\"spacingAndGlyphs\" textLength=\"8\" x=\"79\" y=\"116.1387\">g</text></a></g><!--MD5=[beb264e8b0472b99e2a3a81ecfa202fc]\n",
       "@startuml\r\n",
       "skinparam ranksep 8\r\n",
       "skinparam rectangle {\r\n",
       " backgroundColor<<block>> LightGreen\r\n",
       "}\r\n",
       "skinparam linetype ortho\r\n",
       "skinparam monochrome true\r\n",
       "skinparam classbackgroundcolor white\r\n",
       "skinparam shadowing false\r\n",
       "skinparam wrapWidth 300\r\n",
       "hide circle\r\n",
       "\r\n",
       "package \"Q\" as E1  [[psysml:1ca4998e-7283-4312-8b1a-8c25c589ba37 ]]  {\r\n",
       "rec usage \"f\" as E2  [[psysml:9f0b35e2-e039-4fc1-a74b-e29bd15d28ff ]] {\r\n",
       "rec usage \"a\" as E3  [[psysml:9a16e398-0ba6-448d-aba1-0f88a9a52804 ]] {\r\n",
       "}\r\n",
       "}\r\n",
       "rec def \"C\" as E4  <<(T,blue)part def>> [[psysml:17ca64f8-f38a-4aec-8c02-fbca076b4a28 ]] {\r\n",
       "rec usage \"g\" as E5  [[psysml:43d8af85-10f5-4c20-8018-948df50254a5 ]] {\r\n",
       "}\r\n",
       "}\r\n",
       "}\r\n",
       "@enduml\r\n",
       "\n",
       "PlantUML version 1.2020.13(Sat Jun 13 12:26:38 UTC 2020)\n",
       "(EPL source distribution)\n",
       "Java Runtime: OpenJDK Runtime Environment\n",
       "JVM: OpenJDK 64-Bit Server VM\n",
       "Default Encoding: UTF-8\n",
       "Language: en\n",
       "Country: null\n",
       "--></g></svg>"
      ]
     },
     "execution_count": 54,
     "metadata": {},
     "output_type": "execute_result"
    }
   ],
   "source": [
    "%viz --style=\"ORTHOLINE\" --view=\"Interconnection\" \"Q\""
   ]
  },
  {
   "cell_type": "code",
   "execution_count": 55,
   "id": "opposed-prospect",
   "metadata": {
    "execution": {
     "iopub.execute_input": "2021-03-25T15:01:01.086628Z",
     "iopub.status.busy": "2021-03-25T15:01:01.085299Z",
     "iopub.status.idle": "2021-03-25T15:01:01.094677Z",
     "shell.execute_reply": "2021-03-25T15:01:01.094263Z"
    }
   },
   "outputs": [
    {
     "data": {
      "image/svg+xml": [
       "<?xml version=\"1.0\" encoding=\"UTF-8\" standalone=\"no\"?><svg xmlns=\"http://www.w3.org/2000/svg\" xmlns:xlink=\"http://www.w3.org/1999/xlink\" contentScriptType=\"application/ecmascript\" contentStyleType=\"text/css\" height=\"12px\" preserveAspectRatio=\"none\" style=\"width:12px;height:12px;\" version=\"1.1\" viewBox=\"0 0 12 12\" width=\"12px\" zoomAndPan=\"magnify\"><defs/><g><!--MD5=[72934c63077099a26744516a776b4749]\n",
       "@startuml\r\n",
       "skinparam ranksep 8\r\n",
       "skinparam linetype ortho\r\n",
       "skinparam monochrome true\r\n",
       "skinparam classbackgroundcolor white\r\n",
       "skinparam shadowing false\r\n",
       "skinparam wrapWidth 300\r\n",
       "hide circle\r\n",
       "\r\n",
       "@enduml\r\n",
       "\n",
       "PlantUML version 1.2020.13(Sat Jun 13 12:26:38 UTC 2020)\n",
       "(EPL source distribution)\n",
       "Java Runtime: OpenJDK Runtime Environment\n",
       "JVM: OpenJDK 64-Bit Server VM\n",
       "Default Encoding: UTF-8\n",
       "Language: en\n",
       "Country: null\n",
       "--></g></svg>"
      ]
     },
     "execution_count": 55,
     "metadata": {},
     "output_type": "execute_result"
    }
   ],
   "source": [
    "%viz --style=\"ORTHOLINE\" --view=\"Action\" \"Q\""
   ]
  },
  {
   "cell_type": "code",
   "execution_count": 56,
   "id": "found-deviation",
   "metadata": {
    "execution": {
     "iopub.execute_input": "2021-03-25T15:01:01.144602Z",
     "iopub.status.busy": "2021-03-25T15:01:01.144171Z",
     "iopub.status.idle": "2021-03-25T15:01:01.206919Z",
     "shell.execute_reply": "2021-03-25T15:01:01.205458Z"
    }
   },
   "outputs": [
    {
     "data": {
      "image/svg+xml": [
       "<?xml version=\"1.0\" encoding=\"UTF-8\" standalone=\"no\"?><svg xmlns=\"http://www.w3.org/2000/svg\" xmlns:xlink=\"http://www.w3.org/1999/xlink\" contentScriptType=\"application/ecmascript\" contentStyleType=\"text/css\" height=\"221px\" preserveAspectRatio=\"none\" style=\"width:213px;height:221px;\" version=\"1.1\" viewBox=\"0 0 213 221\" width=\"213px\" zoomAndPan=\"magnify\"><defs/><g><!--MD5=[fbc87193dbaf4d95561dea2c320d4a47]\n",
       "cluster E1--><a href=\"psysml:1ca4998e-7283-4312-8b1a-8c25c589ba37\" target=\"_top\" title=\"psysml:1ca4998e-7283-4312-8b1a-8c25c589ba37\" xlink:actuate=\"onRequest\" xlink:href=\"psysml:1ca4998e-7283-4312-8b1a-8c25c589ba37\" xlink:show=\"new\" xlink:title=\"psysml:1ca4998e-7283-4312-8b1a-8c25c589ba37\" xlink:type=\"simple\"><polygon fill=\"#FFFFFF\" points=\"16,6,34,6,41,28.2969,191,28.2969,191,209,16,209,16,6\" style=\"stroke: #000000; stroke-width: 1.5;\"/><line style=\"stroke: #000000; stroke-width: 1.5;\" x1=\"16\" x2=\"41\" y1=\"28.2969\" y2=\"28.2969\"/><text fill=\"#000000\" font-family=\"sans-serif\" font-size=\"14\" font-weight=\"bold\" lengthAdjust=\"spacingAndGlyphs\" textLength=\"12\" x=\"20\" y=\"20.9951\">Q</text></a><!--MD5=[b4997ac47864f28c2f74865a473b2911]\n",
       "class E2--><a href=\"psysml:9f0b35e2-e039-4fc1-a74b-e29bd15d28ff\" target=\"_top\" title=\"psysml:9f0b35e2-e039-4fc1-a74b-e29bd15d28ff\" xlink:actuate=\"onRequest\" xlink:href=\"psysml:9f0b35e2-e039-4fc1-a74b-e29bd15d28ff\" xlink:show=\"new\" xlink:title=\"psysml:9f0b35e2-e039-4fc1-a74b-e29bd15d28ff\" xlink:type=\"simple\"><rect fill=\"#FFFFFF\" height=\"45.9375\" id=\"E2\" rx=\"10\" ry=\"10\" style=\"stroke: #383838; stroke-width: 1.5;\" width=\"42\" x=\"133\" y=\"41\"/><text fill=\"#000000\" font-family=\"sans-serif\" font-size=\"12\" font-style=\"italic\" lengthAdjust=\"spacingAndGlyphs\" textLength=\"40\" x=\"134\" y=\"57.1387\">«part»</text><text fill=\"#000000\" font-family=\"sans-serif\" font-size=\"12\" lengthAdjust=\"spacingAndGlyphs\" textLength=\"4\" x=\"152\" y=\"71.1074\">f</text><line style=\"stroke: #383838; stroke-width: 1.5;\" x1=\"134\" x2=\"174\" y1=\"78.9375\" y2=\"78.9375\"/></a><!--MD5=[09b614a08d8cba4a07c9adeb5e0fee81]\n",
       "class E3--><a href=\"psysml:9a16e398-0ba6-448d-aba1-0f88a9a52804\" target=\"_top\" title=\"psysml:9a16e398-0ba6-448d-aba1-0f88a9a52804\" xlink:actuate=\"onRequest\" xlink:href=\"psysml:9a16e398-0ba6-448d-aba1-0f88a9a52804\" xlink:show=\"new\" xlink:title=\"psysml:9a16e398-0ba6-448d-aba1-0f88a9a52804\" xlink:type=\"simple\"><rect fill=\"#FFFFFF\" height=\"45.9375\" id=\"E3\" rx=\"10\" ry=\"10\" style=\"stroke: #383838; stroke-width: 1.5;\" width=\"42\" x=\"133\" y=\"147\"/><text fill=\"#000000\" font-family=\"sans-serif\" font-size=\"12\" font-style=\"italic\" lengthAdjust=\"spacingAndGlyphs\" textLength=\"40\" x=\"134\" y=\"163.1387\">«part»</text><text fill=\"#000000\" font-family=\"sans-serif\" font-size=\"12\" lengthAdjust=\"spacingAndGlyphs\" textLength=\"8\" x=\"150\" y=\"177.1074\">a</text><line style=\"stroke: #383838; stroke-width: 1.5;\" x1=\"134\" x2=\"174\" y1=\"184.9375\" y2=\"184.9375\"/></a><!--MD5=[ebbe1d658d1005bcc118a6aa81145e00]\n",
       "class E4--><a href=\"psysml:17ca64f8-f38a-4aec-8c02-fbca076b4a28\" target=\"_top\" title=\"psysml:17ca64f8-f38a-4aec-8c02-fbca076b4a28\" xlink:actuate=\"onRequest\" xlink:href=\"psysml:17ca64f8-f38a-4aec-8c02-fbca076b4a28\" xlink:show=\"new\" xlink:title=\"psysml:17ca64f8-f38a-4aec-8c02-fbca076b4a28\" xlink:type=\"simple\"><rect fill=\"#FFFFFF\" height=\"45.9375\" id=\"E4\" style=\"stroke: #383838; stroke-width: 1.5;\" width=\"66\" x=\"32\" y=\"41\"/><text fill=\"#000000\" font-family=\"sans-serif\" font-size=\"12\" font-style=\"italic\" lengthAdjust=\"spacingAndGlyphs\" textLength=\"64\" x=\"33\" y=\"57.1387\">«part def»</text><text fill=\"#000000\" font-family=\"sans-serif\" font-size=\"12\" lengthAdjust=\"spacingAndGlyphs\" textLength=\"8\" x=\"61\" y=\"71.1074\">C</text><line style=\"stroke: #383838; stroke-width: 1.5;\" x1=\"33\" x2=\"97\" y1=\"78.9375\" y2=\"78.9375\"/></a><!--MD5=[270fce915f116d4de14055a7c1d9a0f3]\n",
       "class E5--><a href=\"psysml:43d8af85-10f5-4c20-8018-948df50254a5\" target=\"_top\" title=\"psysml:43d8af85-10f5-4c20-8018-948df50254a5\" xlink:actuate=\"onRequest\" xlink:href=\"psysml:43d8af85-10f5-4c20-8018-948df50254a5\" xlink:show=\"new\" xlink:title=\"psysml:43d8af85-10f5-4c20-8018-948df50254a5\" xlink:type=\"simple\"><rect fill=\"#FFFFFF\" height=\"45.9375\" id=\"E5\" rx=\"10\" ry=\"10\" style=\"stroke: #383838; stroke-width: 1.5;\" width=\"42\" x=\"44\" y=\"147\"/><text fill=\"#000000\" font-family=\"sans-serif\" font-size=\"12\" font-style=\"italic\" lengthAdjust=\"spacingAndGlyphs\" textLength=\"40\" x=\"45\" y=\"163.1387\">«part»</text><text fill=\"#000000\" font-family=\"sans-serif\" font-size=\"12\" lengthAdjust=\"spacingAndGlyphs\" textLength=\"8\" x=\"61\" y=\"177.1074\">g</text><line style=\"stroke: #383838; stroke-width: 1.5;\" x1=\"45\" x2=\"85\" y1=\"184.9375\" y2=\"184.9375\"/></a><!--MD5=[209b3feb70ccb6233bfe1053d122c12c]\n",
       "reverse link E2 to E3--><a href=\"psysml:9a16e398-0ba6-448d-aba1-0f88a9a52804\" target=\"_top\" title=\"psysml:9a16e398-0ba6-448d-aba1-0f88a9a52804\" xlink:actuate=\"onRequest\" xlink:href=\"psysml:9a16e398-0ba6-448d-aba1-0f88a9a52804\" xlink:show=\"new\" xlink:title=\"psysml:9a16e398-0ba6-448d-aba1-0f88a9a52804\" xlink:type=\"simple\"><path d=\"M154,100 C154,100 154,146.68 154,146.68 \" fill=\"none\" id=\"E2&lt;-E3\" style=\"stroke: #383838; stroke-width: 1.0;\"/><polygon fill=\"#383838\" points=\"154,87,150,93,154,99,158,93,154,87\" style=\"stroke: #383838; stroke-width: 1.0;\"/></a><!--MD5=[62aa6af11e70f752912c1cb0466f24f7]\n",
       "reverse link E4 to E5--><a href=\"psysml:43d8af85-10f5-4c20-8018-948df50254a5\" target=\"_top\" title=\"psysml:43d8af85-10f5-4c20-8018-948df50254a5\" xlink:actuate=\"onRequest\" xlink:href=\"psysml:43d8af85-10f5-4c20-8018-948df50254a5\" xlink:show=\"new\" xlink:title=\"psysml:43d8af85-10f5-4c20-8018-948df50254a5\" xlink:type=\"simple\"><path d=\"M65,100 C65,100 65,146.68 65,146.68 \" fill=\"none\" id=\"E4&lt;-E5\" style=\"stroke: #383838; stroke-width: 1.0;\"/><polygon fill=\"#383838\" points=\"65,87,61,93,65,99,69,93,65,87\" style=\"stroke: #383838; stroke-width: 1.0;\"/></a><!--MD5=[dc19fee09fcc5c928d5fc042cd4eca1c]\n",
       "@startuml\r\n",
       "skinparam linetype ortho\r\n",
       "skinparam monochrome true\r\n",
       "skinparam classbackgroundcolor white\r\n",
       "skinparam shadowing false\r\n",
       "skinparam wrapWidth 300\r\n",
       "hide circle\r\n",
       "\r\n",
       "package \"Q\" as E1  [[psysml:1ca4998e-7283-4312-8b1a-8c25c589ba37 ]]  {\r\n",
       "comp usage \"f\" as E2  <<(T,blue)part>> [[psysml:9f0b35e2-e039-4fc1-a74b-e29bd15d28ff ]] {\r\n",
       "}\r\n",
       "comp usage \"a\" as E3  <<(T,blue)part>> [[psysml:9a16e398-0ba6-448d-aba1-0f88a9a52804 ]] {\r\n",
       "}\r\n",
       "comp def \"C\" as E4  <<(T,blue)part def>> [[psysml:17ca64f8-f38a-4aec-8c02-fbca076b4a28 ]] {\r\n",
       "}\r\n",
       "comp usage \"g\" as E5  <<(T,blue)part>> [[psysml:43d8af85-10f5-4c20-8018-948df50254a5 ]] {\r\n",
       "}\r\n",
       "E2 *- - E3 [[psysml:9a16e398-0ba6-448d-aba1-0f88a9a52804 ]] \r\n",
       "E4 *- - E5 [[psysml:43d8af85-10f5-4c20-8018-948df50254a5 ]] \r\n",
       "}\r\n",
       "@enduml\r\n",
       "\n",
       "PlantUML version 1.2020.13(Sat Jun 13 12:26:38 UTC 2020)\n",
       "(EPL source distribution)\n",
       "Java Runtime: OpenJDK Runtime Environment\n",
       "JVM: OpenJDK 64-Bit Server VM\n",
       "Default Encoding: UTF-8\n",
       "Language: en\n",
       "Country: null\n",
       "--></g></svg>"
      ]
     },
     "execution_count": 56,
     "metadata": {},
     "output_type": "execute_result"
    }
   ],
   "source": [
    "%viz --style=\"ORTHOLINE\" --view=\"Sequence\" \"Q\""
   ]
  },
  {
   "cell_type": "code",
   "execution_count": 57,
   "id": "relative-equity",
   "metadata": {
    "execution": {
     "iopub.execute_input": "2021-03-25T15:01:01.257782Z",
     "iopub.status.busy": "2021-03-25T15:01:01.257246Z",
     "iopub.status.idle": "2021-03-25T15:01:01.275592Z",
     "shell.execute_reply": "2021-03-25T15:01:01.274038Z"
    }
   },
   "outputs": [
    {
     "data": {
      "image/svg+xml": [
       "<?xml version=\"1.0\" encoding=\"UTF-8\" standalone=\"no\"?><svg xmlns=\"http://www.w3.org/2000/svg\" xmlns:xlink=\"http://www.w3.org/1999/xlink\" contentScriptType=\"application/ecmascript\" contentStyleType=\"text/css\" height=\"221px\" preserveAspectRatio=\"none\" style=\"width:213px;height:221px;\" version=\"1.1\" viewBox=\"0 0 213 221\" width=\"213px\" zoomAndPan=\"magnify\"><defs/><g><!--MD5=[fbc87193dbaf4d95561dea2c320d4a47]\n",
       "cluster E1--><a href=\"psysml:1ca4998e-7283-4312-8b1a-8c25c589ba37\" target=\"_top\" title=\"psysml:1ca4998e-7283-4312-8b1a-8c25c589ba37\" xlink:actuate=\"onRequest\" xlink:href=\"psysml:1ca4998e-7283-4312-8b1a-8c25c589ba37\" xlink:show=\"new\" xlink:title=\"psysml:1ca4998e-7283-4312-8b1a-8c25c589ba37\" xlink:type=\"simple\"><polygon fill=\"#FFFFFF\" points=\"16,6,34,6,41,28.2969,191,28.2969,191,209,16,209,16,6\" style=\"stroke: #000000; stroke-width: 1.5;\"/><line style=\"stroke: #000000; stroke-width: 1.5;\" x1=\"16\" x2=\"41\" y1=\"28.2969\" y2=\"28.2969\"/><text fill=\"#000000\" font-family=\"sans-serif\" font-size=\"14\" font-weight=\"bold\" lengthAdjust=\"spacingAndGlyphs\" textLength=\"12\" x=\"20\" y=\"20.9951\">Q</text></a><!--MD5=[b4997ac47864f28c2f74865a473b2911]\n",
       "class E2--><a href=\"psysml:9f0b35e2-e039-4fc1-a74b-e29bd15d28ff\" target=\"_top\" title=\"psysml:9f0b35e2-e039-4fc1-a74b-e29bd15d28ff\" xlink:actuate=\"onRequest\" xlink:href=\"psysml:9f0b35e2-e039-4fc1-a74b-e29bd15d28ff\" xlink:show=\"new\" xlink:title=\"psysml:9f0b35e2-e039-4fc1-a74b-e29bd15d28ff\" xlink:type=\"simple\"><rect fill=\"#FFFFFF\" height=\"45.9375\" id=\"E2\" rx=\"10\" ry=\"10\" style=\"stroke: #383838; stroke-width: 1.5;\" width=\"42\" x=\"133\" y=\"41\"/><text fill=\"#000000\" font-family=\"sans-serif\" font-size=\"12\" font-style=\"italic\" lengthAdjust=\"spacingAndGlyphs\" textLength=\"40\" x=\"134\" y=\"57.1387\">«part»</text><text fill=\"#000000\" font-family=\"sans-serif\" font-size=\"12\" lengthAdjust=\"spacingAndGlyphs\" textLength=\"4\" x=\"152\" y=\"71.1074\">f</text><line style=\"stroke: #383838; stroke-width: 1.5;\" x1=\"134\" x2=\"174\" y1=\"78.9375\" y2=\"78.9375\"/></a><!--MD5=[09b614a08d8cba4a07c9adeb5e0fee81]\n",
       "class E3--><a href=\"psysml:9a16e398-0ba6-448d-aba1-0f88a9a52804\" target=\"_top\" title=\"psysml:9a16e398-0ba6-448d-aba1-0f88a9a52804\" xlink:actuate=\"onRequest\" xlink:href=\"psysml:9a16e398-0ba6-448d-aba1-0f88a9a52804\" xlink:show=\"new\" xlink:title=\"psysml:9a16e398-0ba6-448d-aba1-0f88a9a52804\" xlink:type=\"simple\"><rect fill=\"#FFFFFF\" height=\"45.9375\" id=\"E3\" rx=\"10\" ry=\"10\" style=\"stroke: #383838; stroke-width: 1.5;\" width=\"42\" x=\"133\" y=\"147\"/><text fill=\"#000000\" font-family=\"sans-serif\" font-size=\"12\" font-style=\"italic\" lengthAdjust=\"spacingAndGlyphs\" textLength=\"40\" x=\"134\" y=\"163.1387\">«part»</text><text fill=\"#000000\" font-family=\"sans-serif\" font-size=\"12\" lengthAdjust=\"spacingAndGlyphs\" textLength=\"8\" x=\"150\" y=\"177.1074\">a</text><line style=\"stroke: #383838; stroke-width: 1.5;\" x1=\"134\" x2=\"174\" y1=\"184.9375\" y2=\"184.9375\"/></a><!--MD5=[ebbe1d658d1005bcc118a6aa81145e00]\n",
       "class E4--><a href=\"psysml:17ca64f8-f38a-4aec-8c02-fbca076b4a28\" target=\"_top\" title=\"psysml:17ca64f8-f38a-4aec-8c02-fbca076b4a28\" xlink:actuate=\"onRequest\" xlink:href=\"psysml:17ca64f8-f38a-4aec-8c02-fbca076b4a28\" xlink:show=\"new\" xlink:title=\"psysml:17ca64f8-f38a-4aec-8c02-fbca076b4a28\" xlink:type=\"simple\"><rect fill=\"#FFFFFF\" height=\"45.9375\" id=\"E4\" style=\"stroke: #383838; stroke-width: 1.5;\" width=\"66\" x=\"32\" y=\"41\"/><text fill=\"#000000\" font-family=\"sans-serif\" font-size=\"12\" font-style=\"italic\" lengthAdjust=\"spacingAndGlyphs\" textLength=\"64\" x=\"33\" y=\"57.1387\">«part def»</text><text fill=\"#000000\" font-family=\"sans-serif\" font-size=\"12\" lengthAdjust=\"spacingAndGlyphs\" textLength=\"8\" x=\"61\" y=\"71.1074\">C</text><line style=\"stroke: #383838; stroke-width: 1.5;\" x1=\"33\" x2=\"97\" y1=\"78.9375\" y2=\"78.9375\"/></a><!--MD5=[270fce915f116d4de14055a7c1d9a0f3]\n",
       "class E5--><a href=\"psysml:43d8af85-10f5-4c20-8018-948df50254a5\" target=\"_top\" title=\"psysml:43d8af85-10f5-4c20-8018-948df50254a5\" xlink:actuate=\"onRequest\" xlink:href=\"psysml:43d8af85-10f5-4c20-8018-948df50254a5\" xlink:show=\"new\" xlink:title=\"psysml:43d8af85-10f5-4c20-8018-948df50254a5\" xlink:type=\"simple\"><rect fill=\"#FFFFFF\" height=\"45.9375\" id=\"E5\" rx=\"10\" ry=\"10\" style=\"stroke: #383838; stroke-width: 1.5;\" width=\"42\" x=\"44\" y=\"147\"/><text fill=\"#000000\" font-family=\"sans-serif\" font-size=\"12\" font-style=\"italic\" lengthAdjust=\"spacingAndGlyphs\" textLength=\"40\" x=\"45\" y=\"163.1387\">«part»</text><text fill=\"#000000\" font-family=\"sans-serif\" font-size=\"12\" lengthAdjust=\"spacingAndGlyphs\" textLength=\"8\" x=\"61\" y=\"177.1074\">g</text><line style=\"stroke: #383838; stroke-width: 1.5;\" x1=\"45\" x2=\"85\" y1=\"184.9375\" y2=\"184.9375\"/></a><!--MD5=[209b3feb70ccb6233bfe1053d122c12c]\n",
       "reverse link E2 to E3--><a href=\"psysml:9a16e398-0ba6-448d-aba1-0f88a9a52804\" target=\"_top\" title=\"psysml:9a16e398-0ba6-448d-aba1-0f88a9a52804\" xlink:actuate=\"onRequest\" xlink:href=\"psysml:9a16e398-0ba6-448d-aba1-0f88a9a52804\" xlink:show=\"new\" xlink:title=\"psysml:9a16e398-0ba6-448d-aba1-0f88a9a52804\" xlink:type=\"simple\"><path d=\"M154,100 C154,100 154,146.68 154,146.68 \" fill=\"none\" id=\"E2&lt;-E3\" style=\"stroke: #383838; stroke-width: 1.0;\"/><polygon fill=\"#383838\" points=\"154,87,150,93,154,99,158,93,154,87\" style=\"stroke: #383838; stroke-width: 1.0;\"/></a><!--MD5=[62aa6af11e70f752912c1cb0466f24f7]\n",
       "reverse link E4 to E5--><a href=\"psysml:43d8af85-10f5-4c20-8018-948df50254a5\" target=\"_top\" title=\"psysml:43d8af85-10f5-4c20-8018-948df50254a5\" xlink:actuate=\"onRequest\" xlink:href=\"psysml:43d8af85-10f5-4c20-8018-948df50254a5\" xlink:show=\"new\" xlink:title=\"psysml:43d8af85-10f5-4c20-8018-948df50254a5\" xlink:type=\"simple\"><path d=\"M65,100 C65,100 65,146.68 65,146.68 \" fill=\"none\" id=\"E4&lt;-E5\" style=\"stroke: #383838; stroke-width: 1.0;\"/><polygon fill=\"#383838\" points=\"65,87,61,93,65,99,69,93,65,87\" style=\"stroke: #383838; stroke-width: 1.0;\"/></a><!--MD5=[dc19fee09fcc5c928d5fc042cd4eca1c]\n",
       "@startuml\r\n",
       "skinparam linetype ortho\r\n",
       "skinparam monochrome true\r\n",
       "skinparam classbackgroundcolor white\r\n",
       "skinparam shadowing false\r\n",
       "skinparam wrapWidth 300\r\n",
       "hide circle\r\n",
       "\r\n",
       "package \"Q\" as E1  [[psysml:1ca4998e-7283-4312-8b1a-8c25c589ba37 ]]  {\r\n",
       "comp usage \"f\" as E2  <<(T,blue)part>> [[psysml:9f0b35e2-e039-4fc1-a74b-e29bd15d28ff ]] {\r\n",
       "}\r\n",
       "comp usage \"a\" as E3  <<(T,blue)part>> [[psysml:9a16e398-0ba6-448d-aba1-0f88a9a52804 ]] {\r\n",
       "}\r\n",
       "comp def \"C\" as E4  <<(T,blue)part def>> [[psysml:17ca64f8-f38a-4aec-8c02-fbca076b4a28 ]] {\r\n",
       "}\r\n",
       "comp usage \"g\" as E5  <<(T,blue)part>> [[psysml:43d8af85-10f5-4c20-8018-948df50254a5 ]] {\r\n",
       "}\r\n",
       "E2 *- - E3 [[psysml:9a16e398-0ba6-448d-aba1-0f88a9a52804 ]] \r\n",
       "E4 *- - E5 [[psysml:43d8af85-10f5-4c20-8018-948df50254a5 ]] \r\n",
       "}\r\n",
       "@enduml\r\n",
       "\n",
       "PlantUML version 1.2020.13(Sat Jun 13 12:26:38 UTC 2020)\n",
       "(EPL source distribution)\n",
       "Java Runtime: OpenJDK Runtime Environment\n",
       "JVM: OpenJDK 64-Bit Server VM\n",
       "Default Encoding: UTF-8\n",
       "Language: en\n",
       "Country: null\n",
       "--></g></svg>"
      ]
     },
     "execution_count": 57,
     "metadata": {},
     "output_type": "execute_result"
    }
   ],
   "source": [
    "%viz --style=\"ORTHOLINE\" --view=\"MIXED\" \"Q\""
   ]
  }
 ],
 "metadata": {
  "kernelspec": {
   "display_name": "SysML",
   "language": "sysml",
   "name": "sysml"
  },
  "language_info": {
   "codemirror_mode": "sysml",
   "file_extension": ".sysml",
   "mimetype": "text/x-sysml",
   "name": "SysML",
   "pygments_lexer": "java",
   "version": "1.0.0"
  }
 },
 "nbformat": 4,
 "nbformat_minor": 5
}
