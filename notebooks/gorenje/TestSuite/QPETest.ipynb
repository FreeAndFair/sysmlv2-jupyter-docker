{
 "cells": [
  {
   "cell_type": "markdown",
   "id": "august-digit",
   "metadata": {},
   "source": [
    "# SysML v2 Test Suite\n",
    "\n",
    "This can notebook can be cleared using menu `Edit --> Clear All Outputs` and then all cells can be\n",
    "run using menu `Run --> Run All Cells`.\n",
    "\n",
    "**WARNING**: This file is generated, all modifications here will be ignored.\n"
   ]
  },
  {
   "cell_type": "markdown",
   "id": "identical-operations",
   "metadata": {},
   "source": [
    "## File: ../../sysml/src/examples/Simple Tests/QPETest.sysml"
   ]
  },
  {
   "cell_type": "code",
   "execution_count": 1,
   "id": "tight-recommendation",
   "metadata": {
    "execution": {
     "iopub.execute_input": "2021-03-26T15:40:52.293863Z",
     "iopub.status.busy": "2021-03-26T15:40:52.292733Z",
     "iopub.status.idle": "2021-03-26T15:40:52.506648Z",
     "shell.execute_reply": "2021-03-26T15:40:52.505891Z"
    }
   },
   "outputs": [
    {
     "data": {
      "text/plain": [
       "Package Q (263f6a51-bb4b-4e9b-a2e7-0e82e1c89b56)\n"
      ]
     },
     "execution_count": 1,
     "metadata": {},
     "output_type": "execute_result"
    }
   ],
   "source": [
    "package Q {\n",
    "  part f {\n",
    "  \tpart a;\n",
    "  }\n",
    "  part def C {\n",
    "    part g = ./f/a; \n",
    "  }\n",
    "}\n"
   ]
  },
  {
   "cell_type": "code",
   "execution_count": 2,
   "id": "unknown-course",
   "metadata": {
    "execution": {
     "iopub.execute_input": "2021-03-26T15:40:52.559280Z",
     "iopub.status.busy": "2021-03-26T15:40:52.557834Z",
     "iopub.status.idle": "2021-03-26T15:40:53.105775Z",
     "shell.execute_reply": "2021-03-26T15:40:53.105373Z"
    }
   },
   "outputs": [
    {
     "data": {
      "image/svg+xml": [
       "<?xml version=\"1.0\" encoding=\"UTF-8\" standalone=\"no\"?><svg xmlns=\"http://www.w3.org/2000/svg\" xmlns:xlink=\"http://www.w3.org/1999/xlink\" contentScriptType=\"application/ecmascript\" contentStyleType=\"text/css\" height=\"221px\" preserveAspectRatio=\"none\" style=\"width:213px;height:221px;\" version=\"1.1\" viewBox=\"0 0 213 221\" width=\"213px\" zoomAndPan=\"magnify\"><defs/><g><!--MD5=[fbc87193dbaf4d95561dea2c320d4a47]\n",
       "cluster E1--><a href=\"psysml:de03711e-1ba4-461c-851a-9c9209031323\" target=\"_top\" title=\"psysml:de03711e-1ba4-461c-851a-9c9209031323\" xlink:actuate=\"onRequest\" xlink:href=\"psysml:de03711e-1ba4-461c-851a-9c9209031323\" xlink:show=\"new\" xlink:title=\"psysml:de03711e-1ba4-461c-851a-9c9209031323\" xlink:type=\"simple\"><polygon fill=\"#FFFFFF\" points=\"16,6,34,6,41,28.2969,191,28.2969,191,209,16,209,16,6\" style=\"stroke: #000000; stroke-width: 1.5;\"/><line style=\"stroke: #000000; stroke-width: 1.5;\" x1=\"16\" x2=\"41\" y1=\"28.2969\" y2=\"28.2969\"/><text fill=\"#000000\" font-family=\"sans-serif\" font-size=\"14\" font-weight=\"bold\" lengthAdjust=\"spacingAndGlyphs\" textLength=\"12\" x=\"20\" y=\"20.9951\">Q</text></a><!--MD5=[b4997ac47864f28c2f74865a473b2911]\n",
       "class E2--><a href=\"psysml:b9260bcb-04ce-4f8f-94f7-4786232d6bfb\" target=\"_top\" title=\"psysml:b9260bcb-04ce-4f8f-94f7-4786232d6bfb\" xlink:actuate=\"onRequest\" xlink:href=\"psysml:b9260bcb-04ce-4f8f-94f7-4786232d6bfb\" xlink:show=\"new\" xlink:title=\"psysml:b9260bcb-04ce-4f8f-94f7-4786232d6bfb\" xlink:type=\"simple\"><rect fill=\"#FFFFFF\" height=\"45.9375\" id=\"E2\" rx=\"10\" ry=\"10\" style=\"stroke: #383838; stroke-width: 1.5;\" width=\"42\" x=\"133\" y=\"41\"/><text fill=\"#000000\" font-family=\"sans-serif\" font-size=\"12\" font-style=\"italic\" lengthAdjust=\"spacingAndGlyphs\" textLength=\"40\" x=\"134\" y=\"57.1387\">«part»</text><text fill=\"#000000\" font-family=\"sans-serif\" font-size=\"12\" lengthAdjust=\"spacingAndGlyphs\" textLength=\"4\" x=\"152\" y=\"71.1074\">f</text><line style=\"stroke: #383838; stroke-width: 1.5;\" x1=\"134\" x2=\"174\" y1=\"78.9375\" y2=\"78.9375\"/></a><!--MD5=[09b614a08d8cba4a07c9adeb5e0fee81]\n",
       "class E3--><a href=\"psysml:76fd413b-d5f3-4ecc-bac0-2db3dc6a9c5a\" target=\"_top\" title=\"psysml:76fd413b-d5f3-4ecc-bac0-2db3dc6a9c5a\" xlink:actuate=\"onRequest\" xlink:href=\"psysml:76fd413b-d5f3-4ecc-bac0-2db3dc6a9c5a\" xlink:show=\"new\" xlink:title=\"psysml:76fd413b-d5f3-4ecc-bac0-2db3dc6a9c5a\" xlink:type=\"simple\"><rect fill=\"#FFFFFF\" height=\"45.9375\" id=\"E3\" rx=\"10\" ry=\"10\" style=\"stroke: #383838; stroke-width: 1.5;\" width=\"42\" x=\"133\" y=\"147\"/><text fill=\"#000000\" font-family=\"sans-serif\" font-size=\"12\" font-style=\"italic\" lengthAdjust=\"spacingAndGlyphs\" textLength=\"40\" x=\"134\" y=\"163.1387\">«part»</text><text fill=\"#000000\" font-family=\"sans-serif\" font-size=\"12\" lengthAdjust=\"spacingAndGlyphs\" textLength=\"8\" x=\"150\" y=\"177.1074\">a</text><line style=\"stroke: #383838; stroke-width: 1.5;\" x1=\"134\" x2=\"174\" y1=\"184.9375\" y2=\"184.9375\"/></a><!--MD5=[ebbe1d658d1005bcc118a6aa81145e00]\n",
       "class E4--><a href=\"psysml:c1aefab3-4a15-416c-b89a-8b36fd883d33\" target=\"_top\" title=\"psysml:c1aefab3-4a15-416c-b89a-8b36fd883d33\" xlink:actuate=\"onRequest\" xlink:href=\"psysml:c1aefab3-4a15-416c-b89a-8b36fd883d33\" xlink:show=\"new\" xlink:title=\"psysml:c1aefab3-4a15-416c-b89a-8b36fd883d33\" xlink:type=\"simple\"><rect fill=\"#FFFFFF\" height=\"45.9375\" id=\"E4\" style=\"stroke: #383838; stroke-width: 1.5;\" width=\"66\" x=\"32\" y=\"41\"/><text fill=\"#000000\" font-family=\"sans-serif\" font-size=\"12\" font-style=\"italic\" lengthAdjust=\"spacingAndGlyphs\" textLength=\"64\" x=\"33\" y=\"57.1387\">«part def»</text><text fill=\"#000000\" font-family=\"sans-serif\" font-size=\"12\" lengthAdjust=\"spacingAndGlyphs\" textLength=\"8\" x=\"61\" y=\"71.1074\">C</text><line style=\"stroke: #383838; stroke-width: 1.5;\" x1=\"33\" x2=\"97\" y1=\"78.9375\" y2=\"78.9375\"/></a><!--MD5=[270fce915f116d4de14055a7c1d9a0f3]\n",
       "class E5--><a href=\"psysml:7432dd52-7523-413e-a125-d9cab4f86aea\" target=\"_top\" title=\"psysml:7432dd52-7523-413e-a125-d9cab4f86aea\" xlink:actuate=\"onRequest\" xlink:href=\"psysml:7432dd52-7523-413e-a125-d9cab4f86aea\" xlink:show=\"new\" xlink:title=\"psysml:7432dd52-7523-413e-a125-d9cab4f86aea\" xlink:type=\"simple\"><rect fill=\"#FFFFFF\" height=\"45.9375\" id=\"E5\" rx=\"10\" ry=\"10\" style=\"stroke: #383838; stroke-width: 1.5;\" width=\"42\" x=\"44\" y=\"147\"/><text fill=\"#000000\" font-family=\"sans-serif\" font-size=\"12\" font-style=\"italic\" lengthAdjust=\"spacingAndGlyphs\" textLength=\"40\" x=\"45\" y=\"163.1387\">«part»</text><text fill=\"#000000\" font-family=\"sans-serif\" font-size=\"12\" lengthAdjust=\"spacingAndGlyphs\" textLength=\"8\" x=\"61\" y=\"177.1074\">g</text><line style=\"stroke: #383838; stroke-width: 1.5;\" x1=\"45\" x2=\"85\" y1=\"184.9375\" y2=\"184.9375\"/></a><!--MD5=[209b3feb70ccb6233bfe1053d122c12c]\n",
       "reverse link E2 to E3--><a href=\"psysml:76fd413b-d5f3-4ecc-bac0-2db3dc6a9c5a\" target=\"_top\" title=\"psysml:76fd413b-d5f3-4ecc-bac0-2db3dc6a9c5a\" xlink:actuate=\"onRequest\" xlink:href=\"psysml:76fd413b-d5f3-4ecc-bac0-2db3dc6a9c5a\" xlink:show=\"new\" xlink:title=\"psysml:76fd413b-d5f3-4ecc-bac0-2db3dc6a9c5a\" xlink:type=\"simple\"><path d=\"M154,100.44 C154,115.87 154,133.47 154,146.98 \" fill=\"none\" id=\"E2&lt;-E3\" style=\"stroke: #383838; stroke-width: 1.0;\"/><polygon fill=\"#383838\" points=\"154,87.06,150,93.06,154,99.06,158,93.06,154,87.06\" style=\"stroke: #383838; stroke-width: 1.0;\"/></a><!--MD5=[62aa6af11e70f752912c1cb0466f24f7]\n",
       "reverse link E4 to E5--><a href=\"psysml:7432dd52-7523-413e-a125-d9cab4f86aea\" target=\"_top\" title=\"psysml:7432dd52-7523-413e-a125-d9cab4f86aea\" xlink:actuate=\"onRequest\" xlink:href=\"psysml:7432dd52-7523-413e-a125-d9cab4f86aea\" xlink:show=\"new\" xlink:title=\"psysml:7432dd52-7523-413e-a125-d9cab4f86aea\" xlink:type=\"simple\"><path d=\"M65,100.44 C65,115.87 65,133.47 65,146.98 \" fill=\"none\" id=\"E4&lt;-E5\" style=\"stroke: #383838; stroke-width: 1.0;\"/><polygon fill=\"#383838\" points=\"65,87.06,61,93.06,65,99.06,69,93.06,65,87.06\" style=\"stroke: #383838; stroke-width: 1.0;\"/></a><!--MD5=[d17b9bdd53933cccb2f0058a57161e70]\n",
       "@startuml\r\n",
       " skinparam monochrome true\r\n",
       "skinparam classbackgroundcolor white\r\n",
       "skinparam shadowing false\r\n",
       "skinparam wrapWidth 300\r\n",
       "hide circle\r\n",
       "\r\n",
       "package \"Q\" as E1  [[psysml:de03711e-1ba4-461c-851a-9c9209031323 ]]  {\r\n",
       "comp usage \"f\" as E2  <<(T,blue)part>> [[psysml:b9260bcb-04ce-4f8f-94f7-4786232d6bfb ]] {\r\n",
       "}\r\n",
       "comp usage \"a\" as E3  <<(T,blue)part>> [[psysml:76fd413b-d5f3-4ecc-bac0-2db3dc6a9c5a ]] {\r\n",
       "}\r\n",
       "comp def \"C\" as E4  <<(T,blue)part def>> [[psysml:c1aefab3-4a15-416c-b89a-8b36fd883d33 ]] {\r\n",
       "}\r\n",
       "comp usage \"g\" as E5  <<(T,blue)part>> [[psysml:7432dd52-7523-413e-a125-d9cab4f86aea ]] {\r\n",
       "}\r\n",
       "E2 *- - E3 [[psysml:76fd413b-d5f3-4ecc-bac0-2db3dc6a9c5a ]] \r\n",
       "E4 *- - E5 [[psysml:7432dd52-7523-413e-a125-d9cab4f86aea ]] \r\n",
       "}\r\n",
       "@enduml\r\n",
       "\n",
       "PlantUML version 1.2020.13(Sat Jun 13 12:26:38 UTC 2020)\n",
       "(EPL source distribution)\n",
       "Java Runtime: OpenJDK Runtime Environment\n",
       "JVM: OpenJDK 64-Bit Server VM\n",
       "Default Encoding: UTF-8\n",
       "Language: en\n",
       "Country: null\n",
       "--></g></svg>"
      ]
     },
     "execution_count": 2,
     "metadata": {},
     "output_type": "execute_result"
    }
   ],
   "source": [
    "%viz --style=\"COMPTREE\" --view=\"Default\" \"Q\""
   ]
  },
  {
   "cell_type": "code",
   "execution_count": 3,
   "id": "documented-freight",
   "metadata": {
    "execution": {
     "iopub.execute_input": "2021-03-26T15:40:53.156053Z",
     "iopub.status.busy": "2021-03-26T15:40:53.155417Z",
     "iopub.status.idle": "2021-03-26T15:40:53.210087Z",
     "shell.execute_reply": "2021-03-26T15:40:53.209715Z"
    }
   },
   "outputs": [
    {
     "data": {
      "image/svg+xml": [
       "<?xml version=\"1.0\" encoding=\"UTF-8\" standalone=\"no\"?><svg xmlns=\"http://www.w3.org/2000/svg\" xmlns:xlink=\"http://www.w3.org/1999/xlink\" contentScriptType=\"application/ecmascript\" contentStyleType=\"text/css\" height=\"221px\" preserveAspectRatio=\"none\" style=\"width:213px;height:221px;\" version=\"1.1\" viewBox=\"0 0 213 221\" width=\"213px\" zoomAndPan=\"magnify\"><defs/><g><!--MD5=[fbc87193dbaf4d95561dea2c320d4a47]\n",
       "cluster E1--><a href=\"psysml:de03711e-1ba4-461c-851a-9c9209031323\" target=\"_top\" title=\"psysml:de03711e-1ba4-461c-851a-9c9209031323\" xlink:actuate=\"onRequest\" xlink:href=\"psysml:de03711e-1ba4-461c-851a-9c9209031323\" xlink:show=\"new\" xlink:title=\"psysml:de03711e-1ba4-461c-851a-9c9209031323\" xlink:type=\"simple\"><polygon fill=\"#FFFFFF\" points=\"16,6,34,6,41,28.2969,191,28.2969,191,209,16,209,16,6\" style=\"stroke: #000000; stroke-width: 1.5;\"/><line style=\"stroke: #000000; stroke-width: 1.5;\" x1=\"16\" x2=\"41\" y1=\"28.2969\" y2=\"28.2969\"/><text fill=\"#000000\" font-family=\"sans-serif\" font-size=\"14\" font-weight=\"bold\" lengthAdjust=\"spacingAndGlyphs\" textLength=\"12\" x=\"20\" y=\"20.9951\">Q</text></a><!--MD5=[b4997ac47864f28c2f74865a473b2911]\n",
       "class E2--><a href=\"psysml:b9260bcb-04ce-4f8f-94f7-4786232d6bfb\" target=\"_top\" title=\"psysml:b9260bcb-04ce-4f8f-94f7-4786232d6bfb\" xlink:actuate=\"onRequest\" xlink:href=\"psysml:b9260bcb-04ce-4f8f-94f7-4786232d6bfb\" xlink:show=\"new\" xlink:title=\"psysml:b9260bcb-04ce-4f8f-94f7-4786232d6bfb\" xlink:type=\"simple\"><rect fill=\"#FFFFFF\" height=\"45.9375\" id=\"E2\" rx=\"10\" ry=\"10\" style=\"stroke: #383838; stroke-width: 1.5;\" width=\"42\" x=\"133\" y=\"41\"/><text fill=\"#000000\" font-family=\"sans-serif\" font-size=\"12\" font-style=\"italic\" lengthAdjust=\"spacingAndGlyphs\" textLength=\"40\" x=\"134\" y=\"57.1387\">«part»</text><text fill=\"#000000\" font-family=\"sans-serif\" font-size=\"12\" lengthAdjust=\"spacingAndGlyphs\" textLength=\"4\" x=\"152\" y=\"71.1074\">f</text><line style=\"stroke: #383838; stroke-width: 1.5;\" x1=\"134\" x2=\"174\" y1=\"78.9375\" y2=\"78.9375\"/></a><!--MD5=[09b614a08d8cba4a07c9adeb5e0fee81]\n",
       "class E3--><a href=\"psysml:76fd413b-d5f3-4ecc-bac0-2db3dc6a9c5a\" target=\"_top\" title=\"psysml:76fd413b-d5f3-4ecc-bac0-2db3dc6a9c5a\" xlink:actuate=\"onRequest\" xlink:href=\"psysml:76fd413b-d5f3-4ecc-bac0-2db3dc6a9c5a\" xlink:show=\"new\" xlink:title=\"psysml:76fd413b-d5f3-4ecc-bac0-2db3dc6a9c5a\" xlink:type=\"simple\"><rect fill=\"#FFFFFF\" height=\"45.9375\" id=\"E3\" rx=\"10\" ry=\"10\" style=\"stroke: #383838; stroke-width: 1.5;\" width=\"42\" x=\"133\" y=\"147\"/><text fill=\"#000000\" font-family=\"sans-serif\" font-size=\"12\" font-style=\"italic\" lengthAdjust=\"spacingAndGlyphs\" textLength=\"40\" x=\"134\" y=\"163.1387\">«part»</text><text fill=\"#000000\" font-family=\"sans-serif\" font-size=\"12\" lengthAdjust=\"spacingAndGlyphs\" textLength=\"8\" x=\"150\" y=\"177.1074\">a</text><line style=\"stroke: #383838; stroke-width: 1.5;\" x1=\"134\" x2=\"174\" y1=\"184.9375\" y2=\"184.9375\"/></a><!--MD5=[ebbe1d658d1005bcc118a6aa81145e00]\n",
       "class E4--><a href=\"psysml:c1aefab3-4a15-416c-b89a-8b36fd883d33\" target=\"_top\" title=\"psysml:c1aefab3-4a15-416c-b89a-8b36fd883d33\" xlink:actuate=\"onRequest\" xlink:href=\"psysml:c1aefab3-4a15-416c-b89a-8b36fd883d33\" xlink:show=\"new\" xlink:title=\"psysml:c1aefab3-4a15-416c-b89a-8b36fd883d33\" xlink:type=\"simple\"><rect fill=\"#FFFFFF\" height=\"45.9375\" id=\"E4\" style=\"stroke: #383838; stroke-width: 1.5;\" width=\"66\" x=\"32\" y=\"41\"/><text fill=\"#000000\" font-family=\"sans-serif\" font-size=\"12\" font-style=\"italic\" lengthAdjust=\"spacingAndGlyphs\" textLength=\"64\" x=\"33\" y=\"57.1387\">«part def»</text><text fill=\"#000000\" font-family=\"sans-serif\" font-size=\"12\" lengthAdjust=\"spacingAndGlyphs\" textLength=\"8\" x=\"61\" y=\"71.1074\">C</text><line style=\"stroke: #383838; stroke-width: 1.5;\" x1=\"33\" x2=\"97\" y1=\"78.9375\" y2=\"78.9375\"/></a><!--MD5=[270fce915f116d4de14055a7c1d9a0f3]\n",
       "class E5--><a href=\"psysml:7432dd52-7523-413e-a125-d9cab4f86aea\" target=\"_top\" title=\"psysml:7432dd52-7523-413e-a125-d9cab4f86aea\" xlink:actuate=\"onRequest\" xlink:href=\"psysml:7432dd52-7523-413e-a125-d9cab4f86aea\" xlink:show=\"new\" xlink:title=\"psysml:7432dd52-7523-413e-a125-d9cab4f86aea\" xlink:type=\"simple\"><rect fill=\"#FFFFFF\" height=\"45.9375\" id=\"E5\" rx=\"10\" ry=\"10\" style=\"stroke: #383838; stroke-width: 1.5;\" width=\"42\" x=\"44\" y=\"147\"/><text fill=\"#000000\" font-family=\"sans-serif\" font-size=\"12\" font-style=\"italic\" lengthAdjust=\"spacingAndGlyphs\" textLength=\"40\" x=\"45\" y=\"163.1387\">«part»</text><text fill=\"#000000\" font-family=\"sans-serif\" font-size=\"12\" lengthAdjust=\"spacingAndGlyphs\" textLength=\"8\" x=\"61\" y=\"177.1074\">g</text><line style=\"stroke: #383838; stroke-width: 1.5;\" x1=\"45\" x2=\"85\" y1=\"184.9375\" y2=\"184.9375\"/></a><!--MD5=[209b3feb70ccb6233bfe1053d122c12c]\n",
       "reverse link E2 to E3--><a href=\"psysml:76fd413b-d5f3-4ecc-bac0-2db3dc6a9c5a\" target=\"_top\" title=\"psysml:76fd413b-d5f3-4ecc-bac0-2db3dc6a9c5a\" xlink:actuate=\"onRequest\" xlink:href=\"psysml:76fd413b-d5f3-4ecc-bac0-2db3dc6a9c5a\" xlink:show=\"new\" xlink:title=\"psysml:76fd413b-d5f3-4ecc-bac0-2db3dc6a9c5a\" xlink:type=\"simple\"><path d=\"M154,100.44 C154,115.87 154,133.47 154,146.98 \" fill=\"none\" id=\"E2&lt;-E3\" style=\"stroke: #383838; stroke-width: 1.0;\"/><polygon fill=\"#383838\" points=\"154,87.06,150,93.06,154,99.06,158,93.06,154,87.06\" style=\"stroke: #383838; stroke-width: 1.0;\"/></a><!--MD5=[62aa6af11e70f752912c1cb0466f24f7]\n",
       "reverse link E4 to E5--><a href=\"psysml:7432dd52-7523-413e-a125-d9cab4f86aea\" target=\"_top\" title=\"psysml:7432dd52-7523-413e-a125-d9cab4f86aea\" xlink:actuate=\"onRequest\" xlink:href=\"psysml:7432dd52-7523-413e-a125-d9cab4f86aea\" xlink:show=\"new\" xlink:title=\"psysml:7432dd52-7523-413e-a125-d9cab4f86aea\" xlink:type=\"simple\"><path d=\"M65,100.44 C65,115.87 65,133.47 65,146.98 \" fill=\"none\" id=\"E4&lt;-E5\" style=\"stroke: #383838; stroke-width: 1.0;\"/><polygon fill=\"#383838\" points=\"65,87.06,61,93.06,65,99.06,69,93.06,65,87.06\" style=\"stroke: #383838; stroke-width: 1.0;\"/></a><!--MD5=[d17b9bdd53933cccb2f0058a57161e70]\n",
       "@startuml\r\n",
       " skinparam monochrome true\r\n",
       "skinparam classbackgroundcolor white\r\n",
       "skinparam shadowing false\r\n",
       "skinparam wrapWidth 300\r\n",
       "hide circle\r\n",
       "\r\n",
       "package \"Q\" as E1  [[psysml:de03711e-1ba4-461c-851a-9c9209031323 ]]  {\r\n",
       "comp usage \"f\" as E2  <<(T,blue)part>> [[psysml:b9260bcb-04ce-4f8f-94f7-4786232d6bfb ]] {\r\n",
       "}\r\n",
       "comp usage \"a\" as E3  <<(T,blue)part>> [[psysml:76fd413b-d5f3-4ecc-bac0-2db3dc6a9c5a ]] {\r\n",
       "}\r\n",
       "comp def \"C\" as E4  <<(T,blue)part def>> [[psysml:c1aefab3-4a15-416c-b89a-8b36fd883d33 ]] {\r\n",
       "}\r\n",
       "comp usage \"g\" as E5  <<(T,blue)part>> [[psysml:7432dd52-7523-413e-a125-d9cab4f86aea ]] {\r\n",
       "}\r\n",
       "E2 *- - E3 [[psysml:76fd413b-d5f3-4ecc-bac0-2db3dc6a9c5a ]] \r\n",
       "E4 *- - E5 [[psysml:7432dd52-7523-413e-a125-d9cab4f86aea ]] \r\n",
       "}\r\n",
       "@enduml\r\n",
       "\n",
       "PlantUML version 1.2020.13(Sat Jun 13 12:26:38 UTC 2020)\n",
       "(EPL source distribution)\n",
       "Java Runtime: OpenJDK Runtime Environment\n",
       "JVM: OpenJDK 64-Bit Server VM\n",
       "Default Encoding: UTF-8\n",
       "Language: en\n",
       "Country: null\n",
       "--></g></svg>"
      ]
     },
     "execution_count": 3,
     "metadata": {},
     "output_type": "execute_result"
    }
   ],
   "source": [
    "%viz --style=\"COMPTREE\" --view=\"Tree\" \"Q\""
   ]
  },
  {
   "cell_type": "code",
   "execution_count": 4,
   "id": "subtle-landscape",
   "metadata": {
    "execution": {
     "iopub.execute_input": "2021-03-26T15:40:53.260533Z",
     "iopub.status.busy": "2021-03-26T15:40:53.260213Z",
     "iopub.status.idle": "2021-03-26T15:40:53.269499Z",
     "shell.execute_reply": "2021-03-26T15:40:53.269236Z"
    }
   },
   "outputs": [
    {
     "data": {
      "image/svg+xml": [
       "<?xml version=\"1.0\" encoding=\"UTF-8\" standalone=\"no\"?><svg xmlns=\"http://www.w3.org/2000/svg\" xmlns:xlink=\"http://www.w3.org/1999/xlink\" contentScriptType=\"application/ecmascript\" contentStyleType=\"text/css\" height=\"12px\" preserveAspectRatio=\"none\" style=\"width:12px;height:12px;\" version=\"1.1\" viewBox=\"0 0 12 12\" width=\"12px\" zoomAndPan=\"magnify\"><defs/><g><!--MD5=[f19188ef49e11757b5c46753f95d9edc]\n",
       "@startuml\r\n",
       " skinparam monochrome true\r\n",
       "skinparam classbackgroundcolor white\r\n",
       "skinparam shadowing false\r\n",
       "skinparam wrapWidth 300\r\n",
       "hide circle\r\n",
       "\r\n",
       "@enduml\r\n",
       "\n",
       "PlantUML version 1.2020.13(Sat Jun 13 12:26:38 UTC 2020)\n",
       "(EPL source distribution)\n",
       "Java Runtime: OpenJDK Runtime Environment\n",
       "JVM: OpenJDK 64-Bit Server VM\n",
       "Default Encoding: UTF-8\n",
       "Language: en\n",
       "Country: null\n",
       "--></g></svg>"
      ]
     },
     "execution_count": 4,
     "metadata": {},
     "output_type": "execute_result"
    }
   ],
   "source": [
    "%viz --style=\"COMPTREE\" --view=\"State\" \"Q\""
   ]
  },
  {
   "cell_type": "code",
   "execution_count": 5,
   "id": "young-escape",
   "metadata": {
    "execution": {
     "iopub.execute_input": "2021-03-26T15:40:53.323021Z",
     "iopub.status.busy": "2021-03-26T15:40:53.322457Z",
     "iopub.status.idle": "2021-03-26T15:40:53.376106Z",
     "shell.execute_reply": "2021-03-26T15:40:53.376477Z"
    }
   },
   "outputs": [
    {
     "data": {
      "image/svg+xml": [
       "<?xml version=\"1.0\" encoding=\"UTF-8\" standalone=\"no\"?><svg xmlns=\"http://www.w3.org/2000/svg\" xmlns:xlink=\"http://www.w3.org/1999/xlink\" contentScriptType=\"application/ecmascript\" contentStyleType=\"text/css\" height=\"192px\" preserveAspectRatio=\"none\" style=\"width:286px;height:192px;\" version=\"1.1\" viewBox=\"0 0 286 192\" width=\"286px\" zoomAndPan=\"magnify\"><defs/><g><!--MD5=[fbc87193dbaf4d95561dea2c320d4a47]\n",
       "cluster E1--><a href=\"psysml:de03711e-1ba4-461c-851a-9c9209031323\" target=\"_top\" title=\"psysml:de03711e-1ba4-461c-851a-9c9209031323\" xlink:actuate=\"onRequest\" xlink:href=\"psysml:de03711e-1ba4-461c-851a-9c9209031323\" xlink:show=\"new\" xlink:title=\"psysml:de03711e-1ba4-461c-851a-9c9209031323\" xlink:type=\"simple\"><polygon fill=\"#FFFFFF\" points=\"16,6,34,6,41,28.2969,264,28.2969,264,180,16,180,16,6\" style=\"stroke: #000000; stroke-width: 1.5;\"/><line style=\"stroke: #000000; stroke-width: 1.5;\" x1=\"16\" x2=\"41\" y1=\"28.2969\" y2=\"28.2969\"/><text fill=\"#000000\" font-family=\"sans-serif\" font-size=\"14\" font-weight=\"bold\" lengthAdjust=\"spacingAndGlyphs\" textLength=\"12\" x=\"20\" y=\"20.9951\">Q</text></a><!--MD5=[e4f7fae6ed58524ba242bb0b0d3be6b7]\n",
       "cluster E2--><a href=\"psysml:b9260bcb-04ce-4f8f-94f7-4786232d6bfb\" target=\"_top\" title=\"psysml:b9260bcb-04ce-4f8f-94f7-4786232d6bfb\" xlink:actuate=\"onRequest\" xlink:href=\"psysml:b9260bcb-04ce-4f8f-94f7-4786232d6bfb\" xlink:show=\"new\" xlink:title=\"psysml:b9260bcb-04ce-4f8f-94f7-4786232d6bfb\" xlink:type=\"simple\"><rect fill=\"#FFFFFF\" height=\"91\" id=\"E2\" rx=\"10\" ry=\"10\" style=\"stroke: #383838; stroke-width: 1.5;\" width=\"82\" x=\"158\" y=\"65\"/><rect fill=\"#F8F8F8\" height=\"23.9688\" rx=\"10\" ry=\"10\" style=\"stroke: #F8F8F8; stroke-width: 1.5;\" width=\"82\" x=\"158\" y=\"65\"/><rect fill=\"#F8F8F8\" height=\"10\" style=\"stroke: #F8F8F8; stroke-width: 1.5;\" width=\"82\" x=\"158\" y=\"78.9688\"/><rect fill=\"none\" height=\"91\" id=\"E2\" rx=\"10\" ry=\"10\" style=\"stroke: #383838; stroke-width: 1.5;\" width=\"82\" x=\"158\" y=\"65\"/><text fill=\"#000000\" font-family=\"sans-serif\" font-size=\"12\" lengthAdjust=\"spacingAndGlyphs\" textLength=\"4\" x=\"197\" y=\"81.1387\">f</text><line style=\"stroke: #383838; stroke-width: 1.0;\" x1=\"158\" x2=\"240\" y1=\"88.9688\" y2=\"88.9688\"/></a><!--MD5=[f6df4d0ebaf0b5dfb2ced0ae5af7c670]\n",
       "cluster E4--><a href=\"psysml:c1aefab3-4a15-416c-b89a-8b36fd883d33\" target=\"_top\" title=\"psysml:c1aefab3-4a15-416c-b89a-8b36fd883d33\" xlink:actuate=\"onRequest\" xlink:href=\"psysml:c1aefab3-4a15-416c-b89a-8b36fd883d33\" xlink:show=\"new\" xlink:title=\"psysml:c1aefab3-4a15-416c-b89a-8b36fd883d33\" xlink:type=\"simple\"><rect fill=\"#FFFFFF\" height=\"107\" id=\"E4\" style=\"stroke: #383838; stroke-width: 1.5;\" width=\"94\" x=\"40\" y=\"49\"/><rect fill=\"#F8F8F8\" height=\"37.9375\" style=\"stroke: #383838; stroke-width: 1.5;\" width=\"94\" x=\"40\" y=\"49\"/><text fill=\"#000000\" font-family=\"sans-serif\" font-size=\"12\" font-style=\"italic\" lengthAdjust=\"spacingAndGlyphs\" textLength=\"64\" x=\"55\" y=\"65.1387\">«part def»</text><text fill=\"#000000\" font-family=\"sans-serif\" font-size=\"12\" lengthAdjust=\"spacingAndGlyphs\" textLength=\"8\" x=\"83\" y=\"79.1074\">C</text></a><g id=\"E1.E2.E3\"><a href=\"psysml:76fd413b-d5f3-4ecc-bac0-2db3dc6a9c5a\" target=\"_top\" title=\"psysml:76fd413b-d5f3-4ecc-bac0-2db3dc6a9c5a\" xlink:actuate=\"onRequest\" xlink:href=\"psysml:76fd413b-d5f3-4ecc-bac0-2db3dc6a9c5a\" xlink:show=\"new\" xlink:title=\"psysml:76fd413b-d5f3-4ecc-bac0-2db3dc6a9c5a\" xlink:type=\"simple\"><rect fill=\"#FFFFFF\" height=\"40\" id=\"E3\" rx=\"10\" ry=\"10\" style=\"stroke: #383838; stroke-width: 1.5;\" width=\"50\" x=\"174\" y=\"100\"/><rect fill=\"#F8F8F8\" height=\"23.9688\" rx=\"10\" ry=\"10\" style=\"stroke: #F8F8F8; stroke-width: 1.5;\" width=\"50\" x=\"174\" y=\"100\"/><rect fill=\"#F8F8F8\" height=\"10\" style=\"stroke: #F8F8F8; stroke-width: 1.5;\" width=\"50\" x=\"174\" y=\"113.9688\"/><rect fill=\"none\" height=\"40\" id=\"E3\" rx=\"10\" ry=\"10\" style=\"stroke: #383838; stroke-width: 1.5;\" width=\"50\" x=\"174\" y=\"100\"/><text fill=\"#000000\" font-family=\"sans-serif\" font-size=\"12\" lengthAdjust=\"spacingAndGlyphs\" textLength=\"8\" x=\"195\" y=\"116.1387\">a</text></a></g><g id=\"E1.E4.E5\"><a href=\"psysml:7432dd52-7523-413e-a125-d9cab4f86aea\" target=\"_top\" title=\"psysml:7432dd52-7523-413e-a125-d9cab4f86aea\" xlink:actuate=\"onRequest\" xlink:href=\"psysml:7432dd52-7523-413e-a125-d9cab4f86aea\" xlink:show=\"new\" xlink:title=\"psysml:7432dd52-7523-413e-a125-d9cab4f86aea\" xlink:type=\"simple\"><rect fill=\"#FFFFFF\" height=\"40\" id=\"E5\" rx=\"10\" ry=\"10\" style=\"stroke: #383838; stroke-width: 1.5;\" width=\"61\" x=\"56.5\" y=\"100\"/><rect fill=\"#F8F8F8\" height=\"23.9688\" rx=\"10\" ry=\"10\" style=\"stroke: #F8F8F8; stroke-width: 1.5;\" width=\"61\" x=\"56.5\" y=\"100\"/><rect fill=\"#F8F8F8\" height=\"10\" style=\"stroke: #F8F8F8; stroke-width: 1.5;\" width=\"61\" x=\"56.5\" y=\"113.9688\"/><rect fill=\"none\" height=\"40\" id=\"E5\" rx=\"10\" ry=\"10\" style=\"stroke: #383838; stroke-width: 1.5;\" width=\"61\" x=\"56.5\" y=\"100\"/><text fill=\"#000000\" font-family=\"sans-serif\" font-size=\"12\" lengthAdjust=\"spacingAndGlyphs\" textLength=\"46\" x=\"62\" y=\"116.1387\">g=./f/a;</text></a></g><!--MD5=[ddc80e9e480ee4f740aba2ccd84ee026]\n",
       "@startuml\r\n",
       "skinparam ranksep 10\r\n",
       "skinparam rectangle {\r\n",
       " backgroundColor<<block>> LightGreen\r\n",
       "}\r\n",
       " skinparam monochrome true\r\n",
       "skinparam classbackgroundcolor white\r\n",
       "skinparam shadowing false\r\n",
       "skinparam wrapWidth 300\r\n",
       "hide circle\r\n",
       "\r\n",
       "package \"Q\" as E1  [[psysml:de03711e-1ba4-461c-851a-9c9209031323 ]]  {\r\n",
       "rec usage \"f\" as E2  [[psysml:b9260bcb-04ce-4f8f-94f7-4786232d6bfb ]] {\r\n",
       "rec usage \"a\" as E3  [[psysml:76fd413b-d5f3-4ecc-bac0-2db3dc6a9c5a ]] {\r\n",
       "}\r\n",
       "}\r\n",
       "rec def \"C\" as E4  <<(T,blue)part def>> [[psysml:c1aefab3-4a15-416c-b89a-8b36fd883d33 ]] {\r\n",
       "rec usage \"g=./f/a; \" as E5  [[psysml:7432dd52-7523-413e-a125-d9cab4f86aea ]] {\r\n",
       "}\r\n",
       "}\r\n",
       "}\r\n",
       "@enduml\r\n",
       "\n",
       "PlantUML version 1.2020.13(Sat Jun 13 12:26:38 UTC 2020)\n",
       "(EPL source distribution)\n",
       "Java Runtime: OpenJDK Runtime Environment\n",
       "JVM: OpenJDK 64-Bit Server VM\n",
       "Default Encoding: UTF-8\n",
       "Language: en\n",
       "Country: null\n",
       "--></g></svg>"
      ]
     },
     "execution_count": 5,
     "metadata": {},
     "output_type": "execute_result"
    }
   ],
   "source": [
    "%viz --style=\"COMPTREE\" --view=\"Interconnection\" \"Q\""
   ]
  },
  {
   "cell_type": "code",
   "execution_count": 6,
   "id": "hispanic-meditation",
   "metadata": {
    "execution": {
     "iopub.execute_input": "2021-03-26T15:40:53.427053Z",
     "iopub.status.busy": "2021-03-26T15:40:53.426339Z",
     "iopub.status.idle": "2021-03-26T15:40:53.433787Z",
     "shell.execute_reply": "2021-03-26T15:40:53.433507Z"
    }
   },
   "outputs": [
    {
     "data": {
      "image/svg+xml": [
       "<?xml version=\"1.0\" encoding=\"UTF-8\" standalone=\"no\"?><svg xmlns=\"http://www.w3.org/2000/svg\" xmlns:xlink=\"http://www.w3.org/1999/xlink\" contentScriptType=\"application/ecmascript\" contentStyleType=\"text/css\" height=\"12px\" preserveAspectRatio=\"none\" style=\"width:12px;height:12px;\" version=\"1.1\" viewBox=\"0 0 12 12\" width=\"12px\" zoomAndPan=\"magnify\"><defs/><g><!--MD5=[655b888544ca4751ea36af1068543f84]\n",
       "@startuml\r\n",
       "skinparam ranksep 8\r\n",
       " skinparam monochrome true\r\n",
       "skinparam classbackgroundcolor white\r\n",
       "skinparam shadowing false\r\n",
       "skinparam wrapWidth 300\r\n",
       "hide circle\r\n",
       "\r\n",
       "@enduml\r\n",
       "\n",
       "PlantUML version 1.2020.13(Sat Jun 13 12:26:38 UTC 2020)\n",
       "(EPL source distribution)\n",
       "Java Runtime: OpenJDK Runtime Environment\n",
       "JVM: OpenJDK 64-Bit Server VM\n",
       "Default Encoding: UTF-8\n",
       "Language: en\n",
       "Country: null\n",
       "--></g></svg>"
      ]
     },
     "execution_count": 6,
     "metadata": {},
     "output_type": "execute_result"
    }
   ],
   "source": [
    "%viz --style=\"COMPTREE\" --view=\"Action\" \"Q\""
   ]
  },
  {
   "cell_type": "code",
   "execution_count": 7,
   "id": "fresh-coaching",
   "metadata": {
    "execution": {
     "iopub.execute_input": "2021-03-26T15:40:53.484407Z",
     "iopub.status.busy": "2021-03-26T15:40:53.484011Z",
     "iopub.status.idle": "2021-03-26T15:40:53.524939Z",
     "shell.execute_reply": "2021-03-26T15:40:53.524585Z"
    }
   },
   "outputs": [
    {
     "data": {
      "image/svg+xml": [
       "<?xml version=\"1.0\" encoding=\"UTF-8\" standalone=\"no\"?><svg xmlns=\"http://www.w3.org/2000/svg\" xmlns:xlink=\"http://www.w3.org/1999/xlink\" contentScriptType=\"application/ecmascript\" contentStyleType=\"text/css\" height=\"221px\" preserveAspectRatio=\"none\" style=\"width:213px;height:221px;\" version=\"1.1\" viewBox=\"0 0 213 221\" width=\"213px\" zoomAndPan=\"magnify\"><defs/><g><!--MD5=[fbc87193dbaf4d95561dea2c320d4a47]\n",
       "cluster E1--><a href=\"psysml:de03711e-1ba4-461c-851a-9c9209031323\" target=\"_top\" title=\"psysml:de03711e-1ba4-461c-851a-9c9209031323\" xlink:actuate=\"onRequest\" xlink:href=\"psysml:de03711e-1ba4-461c-851a-9c9209031323\" xlink:show=\"new\" xlink:title=\"psysml:de03711e-1ba4-461c-851a-9c9209031323\" xlink:type=\"simple\"><polygon fill=\"#FFFFFF\" points=\"16,6,34,6,41,28.2969,191,28.2969,191,209,16,209,16,6\" style=\"stroke: #000000; stroke-width: 1.5;\"/><line style=\"stroke: #000000; stroke-width: 1.5;\" x1=\"16\" x2=\"41\" y1=\"28.2969\" y2=\"28.2969\"/><text fill=\"#000000\" font-family=\"sans-serif\" font-size=\"14\" font-weight=\"bold\" lengthAdjust=\"spacingAndGlyphs\" textLength=\"12\" x=\"20\" y=\"20.9951\">Q</text></a><!--MD5=[b4997ac47864f28c2f74865a473b2911]\n",
       "class E2--><a href=\"psysml:b9260bcb-04ce-4f8f-94f7-4786232d6bfb\" target=\"_top\" title=\"psysml:b9260bcb-04ce-4f8f-94f7-4786232d6bfb\" xlink:actuate=\"onRequest\" xlink:href=\"psysml:b9260bcb-04ce-4f8f-94f7-4786232d6bfb\" xlink:show=\"new\" xlink:title=\"psysml:b9260bcb-04ce-4f8f-94f7-4786232d6bfb\" xlink:type=\"simple\"><rect fill=\"#FFFFFF\" height=\"45.9375\" id=\"E2\" rx=\"10\" ry=\"10\" style=\"stroke: #383838; stroke-width: 1.5;\" width=\"42\" x=\"133\" y=\"41\"/><text fill=\"#000000\" font-family=\"sans-serif\" font-size=\"12\" font-style=\"italic\" lengthAdjust=\"spacingAndGlyphs\" textLength=\"40\" x=\"134\" y=\"57.1387\">«part»</text><text fill=\"#000000\" font-family=\"sans-serif\" font-size=\"12\" lengthAdjust=\"spacingAndGlyphs\" textLength=\"4\" x=\"152\" y=\"71.1074\">f</text><line style=\"stroke: #383838; stroke-width: 1.5;\" x1=\"134\" x2=\"174\" y1=\"78.9375\" y2=\"78.9375\"/></a><!--MD5=[09b614a08d8cba4a07c9adeb5e0fee81]\n",
       "class E3--><a href=\"psysml:76fd413b-d5f3-4ecc-bac0-2db3dc6a9c5a\" target=\"_top\" title=\"psysml:76fd413b-d5f3-4ecc-bac0-2db3dc6a9c5a\" xlink:actuate=\"onRequest\" xlink:href=\"psysml:76fd413b-d5f3-4ecc-bac0-2db3dc6a9c5a\" xlink:show=\"new\" xlink:title=\"psysml:76fd413b-d5f3-4ecc-bac0-2db3dc6a9c5a\" xlink:type=\"simple\"><rect fill=\"#FFFFFF\" height=\"45.9375\" id=\"E3\" rx=\"10\" ry=\"10\" style=\"stroke: #383838; stroke-width: 1.5;\" width=\"42\" x=\"133\" y=\"147\"/><text fill=\"#000000\" font-family=\"sans-serif\" font-size=\"12\" font-style=\"italic\" lengthAdjust=\"spacingAndGlyphs\" textLength=\"40\" x=\"134\" y=\"163.1387\">«part»</text><text fill=\"#000000\" font-family=\"sans-serif\" font-size=\"12\" lengthAdjust=\"spacingAndGlyphs\" textLength=\"8\" x=\"150\" y=\"177.1074\">a</text><line style=\"stroke: #383838; stroke-width: 1.5;\" x1=\"134\" x2=\"174\" y1=\"184.9375\" y2=\"184.9375\"/></a><!--MD5=[ebbe1d658d1005bcc118a6aa81145e00]\n",
       "class E4--><a href=\"psysml:c1aefab3-4a15-416c-b89a-8b36fd883d33\" target=\"_top\" title=\"psysml:c1aefab3-4a15-416c-b89a-8b36fd883d33\" xlink:actuate=\"onRequest\" xlink:href=\"psysml:c1aefab3-4a15-416c-b89a-8b36fd883d33\" xlink:show=\"new\" xlink:title=\"psysml:c1aefab3-4a15-416c-b89a-8b36fd883d33\" xlink:type=\"simple\"><rect fill=\"#FFFFFF\" height=\"45.9375\" id=\"E4\" style=\"stroke: #383838; stroke-width: 1.5;\" width=\"66\" x=\"32\" y=\"41\"/><text fill=\"#000000\" font-family=\"sans-serif\" font-size=\"12\" font-style=\"italic\" lengthAdjust=\"spacingAndGlyphs\" textLength=\"64\" x=\"33\" y=\"57.1387\">«part def»</text><text fill=\"#000000\" font-family=\"sans-serif\" font-size=\"12\" lengthAdjust=\"spacingAndGlyphs\" textLength=\"8\" x=\"61\" y=\"71.1074\">C</text><line style=\"stroke: #383838; stroke-width: 1.5;\" x1=\"33\" x2=\"97\" y1=\"78.9375\" y2=\"78.9375\"/></a><!--MD5=[270fce915f116d4de14055a7c1d9a0f3]\n",
       "class E5--><a href=\"psysml:7432dd52-7523-413e-a125-d9cab4f86aea\" target=\"_top\" title=\"psysml:7432dd52-7523-413e-a125-d9cab4f86aea\" xlink:actuate=\"onRequest\" xlink:href=\"psysml:7432dd52-7523-413e-a125-d9cab4f86aea\" xlink:show=\"new\" xlink:title=\"psysml:7432dd52-7523-413e-a125-d9cab4f86aea\" xlink:type=\"simple\"><rect fill=\"#FFFFFF\" height=\"45.9375\" id=\"E5\" rx=\"10\" ry=\"10\" style=\"stroke: #383838; stroke-width: 1.5;\" width=\"42\" x=\"44\" y=\"147\"/><text fill=\"#000000\" font-family=\"sans-serif\" font-size=\"12\" font-style=\"italic\" lengthAdjust=\"spacingAndGlyphs\" textLength=\"40\" x=\"45\" y=\"163.1387\">«part»</text><text fill=\"#000000\" font-family=\"sans-serif\" font-size=\"12\" lengthAdjust=\"spacingAndGlyphs\" textLength=\"8\" x=\"61\" y=\"177.1074\">g</text><line style=\"stroke: #383838; stroke-width: 1.5;\" x1=\"45\" x2=\"85\" y1=\"184.9375\" y2=\"184.9375\"/></a><!--MD5=[209b3feb70ccb6233bfe1053d122c12c]\n",
       "reverse link E2 to E3--><a href=\"psysml:76fd413b-d5f3-4ecc-bac0-2db3dc6a9c5a\" target=\"_top\" title=\"psysml:76fd413b-d5f3-4ecc-bac0-2db3dc6a9c5a\" xlink:actuate=\"onRequest\" xlink:href=\"psysml:76fd413b-d5f3-4ecc-bac0-2db3dc6a9c5a\" xlink:show=\"new\" xlink:title=\"psysml:76fd413b-d5f3-4ecc-bac0-2db3dc6a9c5a\" xlink:type=\"simple\"><path d=\"M154,100.44 C154,115.87 154,133.47 154,146.98 \" fill=\"none\" id=\"E2&lt;-E3\" style=\"stroke: #383838; stroke-width: 1.0;\"/><polygon fill=\"#383838\" points=\"154,87.06,150,93.06,154,99.06,158,93.06,154,87.06\" style=\"stroke: #383838; stroke-width: 1.0;\"/></a><!--MD5=[62aa6af11e70f752912c1cb0466f24f7]\n",
       "reverse link E4 to E5--><a href=\"psysml:7432dd52-7523-413e-a125-d9cab4f86aea\" target=\"_top\" title=\"psysml:7432dd52-7523-413e-a125-d9cab4f86aea\" xlink:actuate=\"onRequest\" xlink:href=\"psysml:7432dd52-7523-413e-a125-d9cab4f86aea\" xlink:show=\"new\" xlink:title=\"psysml:7432dd52-7523-413e-a125-d9cab4f86aea\" xlink:type=\"simple\"><path d=\"M65,100.44 C65,115.87 65,133.47 65,146.98 \" fill=\"none\" id=\"E4&lt;-E5\" style=\"stroke: #383838; stroke-width: 1.0;\"/><polygon fill=\"#383838\" points=\"65,87.06,61,93.06,65,99.06,69,93.06,65,87.06\" style=\"stroke: #383838; stroke-width: 1.0;\"/></a><!--MD5=[d17b9bdd53933cccb2f0058a57161e70]\n",
       "@startuml\r\n",
       " skinparam monochrome true\r\n",
       "skinparam classbackgroundcolor white\r\n",
       "skinparam shadowing false\r\n",
       "skinparam wrapWidth 300\r\n",
       "hide circle\r\n",
       "\r\n",
       "package \"Q\" as E1  [[psysml:de03711e-1ba4-461c-851a-9c9209031323 ]]  {\r\n",
       "comp usage \"f\" as E2  <<(T,blue)part>> [[psysml:b9260bcb-04ce-4f8f-94f7-4786232d6bfb ]] {\r\n",
       "}\r\n",
       "comp usage \"a\" as E3  <<(T,blue)part>> [[psysml:76fd413b-d5f3-4ecc-bac0-2db3dc6a9c5a ]] {\r\n",
       "}\r\n",
       "comp def \"C\" as E4  <<(T,blue)part def>> [[psysml:c1aefab3-4a15-416c-b89a-8b36fd883d33 ]] {\r\n",
       "}\r\n",
       "comp usage \"g\" as E5  <<(T,blue)part>> [[psysml:7432dd52-7523-413e-a125-d9cab4f86aea ]] {\r\n",
       "}\r\n",
       "E2 *- - E3 [[psysml:76fd413b-d5f3-4ecc-bac0-2db3dc6a9c5a ]] \r\n",
       "E4 *- - E5 [[psysml:7432dd52-7523-413e-a125-d9cab4f86aea ]] \r\n",
       "}\r\n",
       "@enduml\r\n",
       "\n",
       "PlantUML version 1.2020.13(Sat Jun 13 12:26:38 UTC 2020)\n",
       "(EPL source distribution)\n",
       "Java Runtime: OpenJDK Runtime Environment\n",
       "JVM: OpenJDK 64-Bit Server VM\n",
       "Default Encoding: UTF-8\n",
       "Language: en\n",
       "Country: null\n",
       "--></g></svg>"
      ]
     },
     "execution_count": 7,
     "metadata": {},
     "output_type": "execute_result"
    }
   ],
   "source": [
    "%viz --style=\"COMPTREE\" --view=\"Sequence\" \"Q\""
   ]
  },
  {
   "cell_type": "code",
   "execution_count": 8,
   "id": "corporate-engagement",
   "metadata": {
    "execution": {
     "iopub.execute_input": "2021-03-26T15:40:53.575488Z",
     "iopub.status.busy": "2021-03-26T15:40:53.575002Z",
     "iopub.status.idle": "2021-03-26T15:40:53.610425Z",
     "shell.execute_reply": "2021-03-26T15:40:53.610806Z"
    }
   },
   "outputs": [
    {
     "data": {
      "image/svg+xml": [
       "<?xml version=\"1.0\" encoding=\"UTF-8\" standalone=\"no\"?><svg xmlns=\"http://www.w3.org/2000/svg\" xmlns:xlink=\"http://www.w3.org/1999/xlink\" contentScriptType=\"application/ecmascript\" contentStyleType=\"text/css\" height=\"221px\" preserveAspectRatio=\"none\" style=\"width:213px;height:221px;\" version=\"1.1\" viewBox=\"0 0 213 221\" width=\"213px\" zoomAndPan=\"magnify\"><defs/><g><!--MD5=[fbc87193dbaf4d95561dea2c320d4a47]\n",
       "cluster E1--><a href=\"psysml:de03711e-1ba4-461c-851a-9c9209031323\" target=\"_top\" title=\"psysml:de03711e-1ba4-461c-851a-9c9209031323\" xlink:actuate=\"onRequest\" xlink:href=\"psysml:de03711e-1ba4-461c-851a-9c9209031323\" xlink:show=\"new\" xlink:title=\"psysml:de03711e-1ba4-461c-851a-9c9209031323\" xlink:type=\"simple\"><polygon fill=\"#FFFFFF\" points=\"16,6,34,6,41,28.2969,191,28.2969,191,209,16,209,16,6\" style=\"stroke: #000000; stroke-width: 1.5;\"/><line style=\"stroke: #000000; stroke-width: 1.5;\" x1=\"16\" x2=\"41\" y1=\"28.2969\" y2=\"28.2969\"/><text fill=\"#000000\" font-family=\"sans-serif\" font-size=\"14\" font-weight=\"bold\" lengthAdjust=\"spacingAndGlyphs\" textLength=\"12\" x=\"20\" y=\"20.9951\">Q</text></a><!--MD5=[b4997ac47864f28c2f74865a473b2911]\n",
       "class E2--><a href=\"psysml:b9260bcb-04ce-4f8f-94f7-4786232d6bfb\" target=\"_top\" title=\"psysml:b9260bcb-04ce-4f8f-94f7-4786232d6bfb\" xlink:actuate=\"onRequest\" xlink:href=\"psysml:b9260bcb-04ce-4f8f-94f7-4786232d6bfb\" xlink:show=\"new\" xlink:title=\"psysml:b9260bcb-04ce-4f8f-94f7-4786232d6bfb\" xlink:type=\"simple\"><rect fill=\"#FFFFFF\" height=\"45.9375\" id=\"E2\" rx=\"10\" ry=\"10\" style=\"stroke: #383838; stroke-width: 1.5;\" width=\"42\" x=\"133\" y=\"41\"/><text fill=\"#000000\" font-family=\"sans-serif\" font-size=\"12\" font-style=\"italic\" lengthAdjust=\"spacingAndGlyphs\" textLength=\"40\" x=\"134\" y=\"57.1387\">«part»</text><text fill=\"#000000\" font-family=\"sans-serif\" font-size=\"12\" lengthAdjust=\"spacingAndGlyphs\" textLength=\"4\" x=\"152\" y=\"71.1074\">f</text><line style=\"stroke: #383838; stroke-width: 1.5;\" x1=\"134\" x2=\"174\" y1=\"78.9375\" y2=\"78.9375\"/></a><!--MD5=[09b614a08d8cba4a07c9adeb5e0fee81]\n",
       "class E3--><a href=\"psysml:76fd413b-d5f3-4ecc-bac0-2db3dc6a9c5a\" target=\"_top\" title=\"psysml:76fd413b-d5f3-4ecc-bac0-2db3dc6a9c5a\" xlink:actuate=\"onRequest\" xlink:href=\"psysml:76fd413b-d5f3-4ecc-bac0-2db3dc6a9c5a\" xlink:show=\"new\" xlink:title=\"psysml:76fd413b-d5f3-4ecc-bac0-2db3dc6a9c5a\" xlink:type=\"simple\"><rect fill=\"#FFFFFF\" height=\"45.9375\" id=\"E3\" rx=\"10\" ry=\"10\" style=\"stroke: #383838; stroke-width: 1.5;\" width=\"42\" x=\"133\" y=\"147\"/><text fill=\"#000000\" font-family=\"sans-serif\" font-size=\"12\" font-style=\"italic\" lengthAdjust=\"spacingAndGlyphs\" textLength=\"40\" x=\"134\" y=\"163.1387\">«part»</text><text fill=\"#000000\" font-family=\"sans-serif\" font-size=\"12\" lengthAdjust=\"spacingAndGlyphs\" textLength=\"8\" x=\"150\" y=\"177.1074\">a</text><line style=\"stroke: #383838; stroke-width: 1.5;\" x1=\"134\" x2=\"174\" y1=\"184.9375\" y2=\"184.9375\"/></a><!--MD5=[ebbe1d658d1005bcc118a6aa81145e00]\n",
       "class E4--><a href=\"psysml:c1aefab3-4a15-416c-b89a-8b36fd883d33\" target=\"_top\" title=\"psysml:c1aefab3-4a15-416c-b89a-8b36fd883d33\" xlink:actuate=\"onRequest\" xlink:href=\"psysml:c1aefab3-4a15-416c-b89a-8b36fd883d33\" xlink:show=\"new\" xlink:title=\"psysml:c1aefab3-4a15-416c-b89a-8b36fd883d33\" xlink:type=\"simple\"><rect fill=\"#FFFFFF\" height=\"45.9375\" id=\"E4\" style=\"stroke: #383838; stroke-width: 1.5;\" width=\"66\" x=\"32\" y=\"41\"/><text fill=\"#000000\" font-family=\"sans-serif\" font-size=\"12\" font-style=\"italic\" lengthAdjust=\"spacingAndGlyphs\" textLength=\"64\" x=\"33\" y=\"57.1387\">«part def»</text><text fill=\"#000000\" font-family=\"sans-serif\" font-size=\"12\" lengthAdjust=\"spacingAndGlyphs\" textLength=\"8\" x=\"61\" y=\"71.1074\">C</text><line style=\"stroke: #383838; stroke-width: 1.5;\" x1=\"33\" x2=\"97\" y1=\"78.9375\" y2=\"78.9375\"/></a><!--MD5=[270fce915f116d4de14055a7c1d9a0f3]\n",
       "class E5--><a href=\"psysml:7432dd52-7523-413e-a125-d9cab4f86aea\" target=\"_top\" title=\"psysml:7432dd52-7523-413e-a125-d9cab4f86aea\" xlink:actuate=\"onRequest\" xlink:href=\"psysml:7432dd52-7523-413e-a125-d9cab4f86aea\" xlink:show=\"new\" xlink:title=\"psysml:7432dd52-7523-413e-a125-d9cab4f86aea\" xlink:type=\"simple\"><rect fill=\"#FFFFFF\" height=\"45.9375\" id=\"E5\" rx=\"10\" ry=\"10\" style=\"stroke: #383838; stroke-width: 1.5;\" width=\"42\" x=\"44\" y=\"147\"/><text fill=\"#000000\" font-family=\"sans-serif\" font-size=\"12\" font-style=\"italic\" lengthAdjust=\"spacingAndGlyphs\" textLength=\"40\" x=\"45\" y=\"163.1387\">«part»</text><text fill=\"#000000\" font-family=\"sans-serif\" font-size=\"12\" lengthAdjust=\"spacingAndGlyphs\" textLength=\"8\" x=\"61\" y=\"177.1074\">g</text><line style=\"stroke: #383838; stroke-width: 1.5;\" x1=\"45\" x2=\"85\" y1=\"184.9375\" y2=\"184.9375\"/></a><!--MD5=[209b3feb70ccb6233bfe1053d122c12c]\n",
       "reverse link E2 to E3--><a href=\"psysml:76fd413b-d5f3-4ecc-bac0-2db3dc6a9c5a\" target=\"_top\" title=\"psysml:76fd413b-d5f3-4ecc-bac0-2db3dc6a9c5a\" xlink:actuate=\"onRequest\" xlink:href=\"psysml:76fd413b-d5f3-4ecc-bac0-2db3dc6a9c5a\" xlink:show=\"new\" xlink:title=\"psysml:76fd413b-d5f3-4ecc-bac0-2db3dc6a9c5a\" xlink:type=\"simple\"><path d=\"M154,100.44 C154,115.87 154,133.47 154,146.98 \" fill=\"none\" id=\"E2&lt;-E3\" style=\"stroke: #383838; stroke-width: 1.0;\"/><polygon fill=\"#383838\" points=\"154,87.06,150,93.06,154,99.06,158,93.06,154,87.06\" style=\"stroke: #383838; stroke-width: 1.0;\"/></a><!--MD5=[62aa6af11e70f752912c1cb0466f24f7]\n",
       "reverse link E4 to E5--><a href=\"psysml:7432dd52-7523-413e-a125-d9cab4f86aea\" target=\"_top\" title=\"psysml:7432dd52-7523-413e-a125-d9cab4f86aea\" xlink:actuate=\"onRequest\" xlink:href=\"psysml:7432dd52-7523-413e-a125-d9cab4f86aea\" xlink:show=\"new\" xlink:title=\"psysml:7432dd52-7523-413e-a125-d9cab4f86aea\" xlink:type=\"simple\"><path d=\"M65,100.44 C65,115.87 65,133.47 65,146.98 \" fill=\"none\" id=\"E4&lt;-E5\" style=\"stroke: #383838; stroke-width: 1.0;\"/><polygon fill=\"#383838\" points=\"65,87.06,61,93.06,65,99.06,69,93.06,65,87.06\" style=\"stroke: #383838; stroke-width: 1.0;\"/></a><!--MD5=[d17b9bdd53933cccb2f0058a57161e70]\n",
       "@startuml\r\n",
       " skinparam monochrome true\r\n",
       "skinparam classbackgroundcolor white\r\n",
       "skinparam shadowing false\r\n",
       "skinparam wrapWidth 300\r\n",
       "hide circle\r\n",
       "\r\n",
       "package \"Q\" as E1  [[psysml:de03711e-1ba4-461c-851a-9c9209031323 ]]  {\r\n",
       "comp usage \"f\" as E2  <<(T,blue)part>> [[psysml:b9260bcb-04ce-4f8f-94f7-4786232d6bfb ]] {\r\n",
       "}\r\n",
       "comp usage \"a\" as E3  <<(T,blue)part>> [[psysml:76fd413b-d5f3-4ecc-bac0-2db3dc6a9c5a ]] {\r\n",
       "}\r\n",
       "comp def \"C\" as E4  <<(T,blue)part def>> [[psysml:c1aefab3-4a15-416c-b89a-8b36fd883d33 ]] {\r\n",
       "}\r\n",
       "comp usage \"g\" as E5  <<(T,blue)part>> [[psysml:7432dd52-7523-413e-a125-d9cab4f86aea ]] {\r\n",
       "}\r\n",
       "E2 *- - E3 [[psysml:76fd413b-d5f3-4ecc-bac0-2db3dc6a9c5a ]] \r\n",
       "E4 *- - E5 [[psysml:7432dd52-7523-413e-a125-d9cab4f86aea ]] \r\n",
       "}\r\n",
       "@enduml\r\n",
       "\n",
       "PlantUML version 1.2020.13(Sat Jun 13 12:26:38 UTC 2020)\n",
       "(EPL source distribution)\n",
       "Java Runtime: OpenJDK Runtime Environment\n",
       "JVM: OpenJDK 64-Bit Server VM\n",
       "Default Encoding: UTF-8\n",
       "Language: en\n",
       "Country: null\n",
       "--></g></svg>"
      ]
     },
     "execution_count": 8,
     "metadata": {},
     "output_type": "execute_result"
    }
   ],
   "source": [
    "%viz --style=\"COMPTREE\" --view=\"MIXED\" \"Q\""
   ]
  },
  {
   "cell_type": "code",
   "execution_count": 9,
   "id": "combined-statement",
   "metadata": {
    "execution": {
     "iopub.execute_input": "2021-03-26T15:40:53.663685Z",
     "iopub.status.busy": "2021-03-26T15:40:53.662723Z",
     "iopub.status.idle": "2021-03-26T15:40:53.705415Z",
     "shell.execute_reply": "2021-03-26T15:40:53.704258Z"
    }
   },
   "outputs": [
    {
     "data": {
      "image/svg+xml": [
       "<?xml version=\"1.0\" encoding=\"UTF-8\" standalone=\"no\"?><svg xmlns=\"http://www.w3.org/2000/svg\" xmlns:xlink=\"http://www.w3.org/1999/xlink\" contentScriptType=\"application/ecmascript\" contentStyleType=\"text/css\" height=\"221px\" preserveAspectRatio=\"none\" style=\"width:213px;height:221px;\" version=\"1.1\" viewBox=\"0 0 213 221\" width=\"213px\" zoomAndPan=\"magnify\"><defs/><g><!--MD5=[fbc87193dbaf4d95561dea2c320d4a47]\n",
       "cluster E1--><a href=\"psysml:de03711e-1ba4-461c-851a-9c9209031323\" target=\"_top\" title=\"psysml:de03711e-1ba4-461c-851a-9c9209031323\" xlink:actuate=\"onRequest\" xlink:href=\"psysml:de03711e-1ba4-461c-851a-9c9209031323\" xlink:show=\"new\" xlink:title=\"psysml:de03711e-1ba4-461c-851a-9c9209031323\" xlink:type=\"simple\"><polygon fill=\"#FFFFFF\" points=\"16,6,34,6,41,28.2969,191,28.2969,191,209,16,209,16,6\" style=\"stroke: #000000; stroke-width: 1.5;\"/><line style=\"stroke: #000000; stroke-width: 1.5;\" x1=\"16\" x2=\"41\" y1=\"28.2969\" y2=\"28.2969\"/><text fill=\"#000000\" font-family=\"sans-serif\" font-size=\"14\" font-weight=\"bold\" lengthAdjust=\"spacingAndGlyphs\" textLength=\"12\" x=\"20\" y=\"20.9951\">Q</text></a><!--MD5=[b4997ac47864f28c2f74865a473b2911]\n",
       "class E2--><a href=\"psysml:b9260bcb-04ce-4f8f-94f7-4786232d6bfb\" target=\"_top\" title=\"psysml:b9260bcb-04ce-4f8f-94f7-4786232d6bfb\" xlink:actuate=\"onRequest\" xlink:href=\"psysml:b9260bcb-04ce-4f8f-94f7-4786232d6bfb\" xlink:show=\"new\" xlink:title=\"psysml:b9260bcb-04ce-4f8f-94f7-4786232d6bfb\" xlink:type=\"simple\"><rect fill=\"#FFFFFF\" height=\"45.9375\" id=\"E2\" rx=\"10\" ry=\"10\" style=\"stroke: #383838; stroke-width: 1.5;\" width=\"42\" x=\"133\" y=\"41\"/><text fill=\"#000000\" font-family=\"sans-serif\" font-size=\"12\" font-style=\"italic\" lengthAdjust=\"spacingAndGlyphs\" textLength=\"40\" x=\"134\" y=\"57.1387\">«part»</text><text fill=\"#000000\" font-family=\"sans-serif\" font-size=\"12\" lengthAdjust=\"spacingAndGlyphs\" textLength=\"4\" x=\"152\" y=\"71.1074\">f</text><line style=\"stroke: #383838; stroke-width: 1.5;\" x1=\"134\" x2=\"174\" y1=\"78.9375\" y2=\"78.9375\"/></a><!--MD5=[09b614a08d8cba4a07c9adeb5e0fee81]\n",
       "class E3--><a href=\"psysml:76fd413b-d5f3-4ecc-bac0-2db3dc6a9c5a\" target=\"_top\" title=\"psysml:76fd413b-d5f3-4ecc-bac0-2db3dc6a9c5a\" xlink:actuate=\"onRequest\" xlink:href=\"psysml:76fd413b-d5f3-4ecc-bac0-2db3dc6a9c5a\" xlink:show=\"new\" xlink:title=\"psysml:76fd413b-d5f3-4ecc-bac0-2db3dc6a9c5a\" xlink:type=\"simple\"><rect fill=\"#FFFFFF\" height=\"45.9375\" id=\"E3\" rx=\"10\" ry=\"10\" style=\"stroke: #383838; stroke-width: 1.5;\" width=\"42\" x=\"133\" y=\"147\"/><text fill=\"#000000\" font-family=\"sans-serif\" font-size=\"12\" font-style=\"italic\" lengthAdjust=\"spacingAndGlyphs\" textLength=\"40\" x=\"134\" y=\"163.1387\">«part»</text><text fill=\"#000000\" font-family=\"sans-serif\" font-size=\"12\" lengthAdjust=\"spacingAndGlyphs\" textLength=\"8\" x=\"150\" y=\"177.1074\">a</text><line style=\"stroke: #383838; stroke-width: 1.5;\" x1=\"134\" x2=\"174\" y1=\"184.9375\" y2=\"184.9375\"/></a><!--MD5=[ebbe1d658d1005bcc118a6aa81145e00]\n",
       "class E4--><a href=\"psysml:c1aefab3-4a15-416c-b89a-8b36fd883d33\" target=\"_top\" title=\"psysml:c1aefab3-4a15-416c-b89a-8b36fd883d33\" xlink:actuate=\"onRequest\" xlink:href=\"psysml:c1aefab3-4a15-416c-b89a-8b36fd883d33\" xlink:show=\"new\" xlink:title=\"psysml:c1aefab3-4a15-416c-b89a-8b36fd883d33\" xlink:type=\"simple\"><rect fill=\"#FFFFFF\" height=\"45.9375\" id=\"E4\" style=\"stroke: #383838; stroke-width: 1.5;\" width=\"66\" x=\"32\" y=\"41\"/><text fill=\"#000000\" font-family=\"sans-serif\" font-size=\"12\" font-style=\"italic\" lengthAdjust=\"spacingAndGlyphs\" textLength=\"64\" x=\"33\" y=\"57.1387\">«part def»</text><text fill=\"#000000\" font-family=\"sans-serif\" font-size=\"12\" lengthAdjust=\"spacingAndGlyphs\" textLength=\"8\" x=\"61\" y=\"71.1074\">C</text><line style=\"stroke: #383838; stroke-width: 1.5;\" x1=\"33\" x2=\"97\" y1=\"78.9375\" y2=\"78.9375\"/></a><!--MD5=[270fce915f116d4de14055a7c1d9a0f3]\n",
       "class E5--><a href=\"psysml:7432dd52-7523-413e-a125-d9cab4f86aea\" target=\"_top\" title=\"psysml:7432dd52-7523-413e-a125-d9cab4f86aea\" xlink:actuate=\"onRequest\" xlink:href=\"psysml:7432dd52-7523-413e-a125-d9cab4f86aea\" xlink:show=\"new\" xlink:title=\"psysml:7432dd52-7523-413e-a125-d9cab4f86aea\" xlink:type=\"simple\"><rect fill=\"#FFFFFF\" height=\"45.9375\" id=\"E5\" rx=\"10\" ry=\"10\" style=\"stroke: #383838; stroke-width: 1.5;\" width=\"42\" x=\"44\" y=\"147\"/><text fill=\"#000000\" font-family=\"sans-serif\" font-size=\"12\" font-style=\"italic\" lengthAdjust=\"spacingAndGlyphs\" textLength=\"40\" x=\"45\" y=\"163.1387\">«part»</text><text fill=\"#000000\" font-family=\"sans-serif\" font-size=\"12\" lengthAdjust=\"spacingAndGlyphs\" textLength=\"8\" x=\"61\" y=\"177.1074\">g</text><line style=\"stroke: #383838; stroke-width: 1.5;\" x1=\"45\" x2=\"85\" y1=\"184.9375\" y2=\"184.9375\"/></a><!--MD5=[209b3feb70ccb6233bfe1053d122c12c]\n",
       "reverse link E2 to E3--><a href=\"psysml:76fd413b-d5f3-4ecc-bac0-2db3dc6a9c5a\" target=\"_top\" title=\"psysml:76fd413b-d5f3-4ecc-bac0-2db3dc6a9c5a\" xlink:actuate=\"onRequest\" xlink:href=\"psysml:76fd413b-d5f3-4ecc-bac0-2db3dc6a9c5a\" xlink:show=\"new\" xlink:title=\"psysml:76fd413b-d5f3-4ecc-bac0-2db3dc6a9c5a\" xlink:type=\"simple\"><path d=\"M154,100.44 C154,115.87 154,133.47 154,146.98 \" fill=\"none\" id=\"E2&lt;-E3\" style=\"stroke: #383838; stroke-width: 1.0;\"/><polygon fill=\"#383838\" points=\"154,87.06,150,93.06,154,99.06,158,93.06,154,87.06\" style=\"stroke: #383838; stroke-width: 1.0;\"/></a><!--MD5=[62aa6af11e70f752912c1cb0466f24f7]\n",
       "reverse link E4 to E5--><a href=\"psysml:7432dd52-7523-413e-a125-d9cab4f86aea\" target=\"_top\" title=\"psysml:7432dd52-7523-413e-a125-d9cab4f86aea\" xlink:actuate=\"onRequest\" xlink:href=\"psysml:7432dd52-7523-413e-a125-d9cab4f86aea\" xlink:show=\"new\" xlink:title=\"psysml:7432dd52-7523-413e-a125-d9cab4f86aea\" xlink:type=\"simple\"><path d=\"M65,100.44 C65,115.87 65,133.47 65,146.98 \" fill=\"none\" id=\"E4&lt;-E5\" style=\"stroke: #383838; stroke-width: 1.0;\"/><polygon fill=\"#383838\" points=\"65,87.06,61,93.06,65,99.06,69,93.06,65,87.06\" style=\"stroke: #383838; stroke-width: 1.0;\"/></a><!--MD5=[997fd5d54c11dd75eec7ff51a2b3bb9f]\n",
       "@startuml\r\n",
       "skinparam linetype polyline\r\n",
       "skinparam monochrome true\r\n",
       "skinparam classbackgroundcolor white\r\n",
       "skinparam shadowing false\r\n",
       "skinparam wrapWidth 300\r\n",
       "hide circle\r\n",
       "\r\n",
       "package \"Q\" as E1  [[psysml:de03711e-1ba4-461c-851a-9c9209031323 ]]  {\r\n",
       "comp usage \"f\" as E2  <<(T,blue)part>> [[psysml:b9260bcb-04ce-4f8f-94f7-4786232d6bfb ]] {\r\n",
       "}\r\n",
       "comp usage \"a\" as E3  <<(T,blue)part>> [[psysml:76fd413b-d5f3-4ecc-bac0-2db3dc6a9c5a ]] {\r\n",
       "}\r\n",
       "comp def \"C\" as E4  <<(T,blue)part def>> [[psysml:c1aefab3-4a15-416c-b89a-8b36fd883d33 ]] {\r\n",
       "}\r\n",
       "comp usage \"g\" as E5  <<(T,blue)part>> [[psysml:7432dd52-7523-413e-a125-d9cab4f86aea ]] {\r\n",
       "}\r\n",
       "E2 *- - E3 [[psysml:76fd413b-d5f3-4ecc-bac0-2db3dc6a9c5a ]] \r\n",
       "E4 *- - E5 [[psysml:7432dd52-7523-413e-a125-d9cab4f86aea ]] \r\n",
       "}\r\n",
       "@enduml\r\n",
       "\n",
       "PlantUML version 1.2020.13(Sat Jun 13 12:26:38 UTC 2020)\n",
       "(EPL source distribution)\n",
       "Java Runtime: OpenJDK Runtime Environment\n",
       "JVM: OpenJDK 64-Bit Server VM\n",
       "Default Encoding: UTF-8\n",
       "Language: en\n",
       "Country: null\n",
       "--></g></svg>"
      ]
     },
     "execution_count": 9,
     "metadata": {},
     "output_type": "execute_result"
    }
   ],
   "source": [
    "%viz --style=\"POLYLINE\" --view=\"Default\" \"Q\""
   ]
  },
  {
   "cell_type": "code",
   "execution_count": 10,
   "id": "transparent-honolulu",
   "metadata": {
    "execution": {
     "iopub.execute_input": "2021-03-26T15:40:53.758453Z",
     "iopub.status.busy": "2021-03-26T15:40:53.757730Z",
     "iopub.status.idle": "2021-03-26T15:40:53.801772Z",
     "shell.execute_reply": "2021-03-26T15:40:53.802100Z"
    }
   },
   "outputs": [
    {
     "data": {
      "image/svg+xml": [
       "<?xml version=\"1.0\" encoding=\"UTF-8\" standalone=\"no\"?><svg xmlns=\"http://www.w3.org/2000/svg\" xmlns:xlink=\"http://www.w3.org/1999/xlink\" contentScriptType=\"application/ecmascript\" contentStyleType=\"text/css\" height=\"221px\" preserveAspectRatio=\"none\" style=\"width:213px;height:221px;\" version=\"1.1\" viewBox=\"0 0 213 221\" width=\"213px\" zoomAndPan=\"magnify\"><defs/><g><!--MD5=[fbc87193dbaf4d95561dea2c320d4a47]\n",
       "cluster E1--><a href=\"psysml:de03711e-1ba4-461c-851a-9c9209031323\" target=\"_top\" title=\"psysml:de03711e-1ba4-461c-851a-9c9209031323\" xlink:actuate=\"onRequest\" xlink:href=\"psysml:de03711e-1ba4-461c-851a-9c9209031323\" xlink:show=\"new\" xlink:title=\"psysml:de03711e-1ba4-461c-851a-9c9209031323\" xlink:type=\"simple\"><polygon fill=\"#FFFFFF\" points=\"16,6,34,6,41,28.2969,191,28.2969,191,209,16,209,16,6\" style=\"stroke: #000000; stroke-width: 1.5;\"/><line style=\"stroke: #000000; stroke-width: 1.5;\" x1=\"16\" x2=\"41\" y1=\"28.2969\" y2=\"28.2969\"/><text fill=\"#000000\" font-family=\"sans-serif\" font-size=\"14\" font-weight=\"bold\" lengthAdjust=\"spacingAndGlyphs\" textLength=\"12\" x=\"20\" y=\"20.9951\">Q</text></a><!--MD5=[b4997ac47864f28c2f74865a473b2911]\n",
       "class E2--><a href=\"psysml:b9260bcb-04ce-4f8f-94f7-4786232d6bfb\" target=\"_top\" title=\"psysml:b9260bcb-04ce-4f8f-94f7-4786232d6bfb\" xlink:actuate=\"onRequest\" xlink:href=\"psysml:b9260bcb-04ce-4f8f-94f7-4786232d6bfb\" xlink:show=\"new\" xlink:title=\"psysml:b9260bcb-04ce-4f8f-94f7-4786232d6bfb\" xlink:type=\"simple\"><rect fill=\"#FFFFFF\" height=\"45.9375\" id=\"E2\" rx=\"10\" ry=\"10\" style=\"stroke: #383838; stroke-width: 1.5;\" width=\"42\" x=\"133\" y=\"41\"/><text fill=\"#000000\" font-family=\"sans-serif\" font-size=\"12\" font-style=\"italic\" lengthAdjust=\"spacingAndGlyphs\" textLength=\"40\" x=\"134\" y=\"57.1387\">«part»</text><text fill=\"#000000\" font-family=\"sans-serif\" font-size=\"12\" lengthAdjust=\"spacingAndGlyphs\" textLength=\"4\" x=\"152\" y=\"71.1074\">f</text><line style=\"stroke: #383838; stroke-width: 1.5;\" x1=\"134\" x2=\"174\" y1=\"78.9375\" y2=\"78.9375\"/></a><!--MD5=[09b614a08d8cba4a07c9adeb5e0fee81]\n",
       "class E3--><a href=\"psysml:76fd413b-d5f3-4ecc-bac0-2db3dc6a9c5a\" target=\"_top\" title=\"psysml:76fd413b-d5f3-4ecc-bac0-2db3dc6a9c5a\" xlink:actuate=\"onRequest\" xlink:href=\"psysml:76fd413b-d5f3-4ecc-bac0-2db3dc6a9c5a\" xlink:show=\"new\" xlink:title=\"psysml:76fd413b-d5f3-4ecc-bac0-2db3dc6a9c5a\" xlink:type=\"simple\"><rect fill=\"#FFFFFF\" height=\"45.9375\" id=\"E3\" rx=\"10\" ry=\"10\" style=\"stroke: #383838; stroke-width: 1.5;\" width=\"42\" x=\"133\" y=\"147\"/><text fill=\"#000000\" font-family=\"sans-serif\" font-size=\"12\" font-style=\"italic\" lengthAdjust=\"spacingAndGlyphs\" textLength=\"40\" x=\"134\" y=\"163.1387\">«part»</text><text fill=\"#000000\" font-family=\"sans-serif\" font-size=\"12\" lengthAdjust=\"spacingAndGlyphs\" textLength=\"8\" x=\"150\" y=\"177.1074\">a</text><line style=\"stroke: #383838; stroke-width: 1.5;\" x1=\"134\" x2=\"174\" y1=\"184.9375\" y2=\"184.9375\"/></a><!--MD5=[ebbe1d658d1005bcc118a6aa81145e00]\n",
       "class E4--><a href=\"psysml:c1aefab3-4a15-416c-b89a-8b36fd883d33\" target=\"_top\" title=\"psysml:c1aefab3-4a15-416c-b89a-8b36fd883d33\" xlink:actuate=\"onRequest\" xlink:href=\"psysml:c1aefab3-4a15-416c-b89a-8b36fd883d33\" xlink:show=\"new\" xlink:title=\"psysml:c1aefab3-4a15-416c-b89a-8b36fd883d33\" xlink:type=\"simple\"><rect fill=\"#FFFFFF\" height=\"45.9375\" id=\"E4\" style=\"stroke: #383838; stroke-width: 1.5;\" width=\"66\" x=\"32\" y=\"41\"/><text fill=\"#000000\" font-family=\"sans-serif\" font-size=\"12\" font-style=\"italic\" lengthAdjust=\"spacingAndGlyphs\" textLength=\"64\" x=\"33\" y=\"57.1387\">«part def»</text><text fill=\"#000000\" font-family=\"sans-serif\" font-size=\"12\" lengthAdjust=\"spacingAndGlyphs\" textLength=\"8\" x=\"61\" y=\"71.1074\">C</text><line style=\"stroke: #383838; stroke-width: 1.5;\" x1=\"33\" x2=\"97\" y1=\"78.9375\" y2=\"78.9375\"/></a><!--MD5=[270fce915f116d4de14055a7c1d9a0f3]\n",
       "class E5--><a href=\"psysml:7432dd52-7523-413e-a125-d9cab4f86aea\" target=\"_top\" title=\"psysml:7432dd52-7523-413e-a125-d9cab4f86aea\" xlink:actuate=\"onRequest\" xlink:href=\"psysml:7432dd52-7523-413e-a125-d9cab4f86aea\" xlink:show=\"new\" xlink:title=\"psysml:7432dd52-7523-413e-a125-d9cab4f86aea\" xlink:type=\"simple\"><rect fill=\"#FFFFFF\" height=\"45.9375\" id=\"E5\" rx=\"10\" ry=\"10\" style=\"stroke: #383838; stroke-width: 1.5;\" width=\"42\" x=\"44\" y=\"147\"/><text fill=\"#000000\" font-family=\"sans-serif\" font-size=\"12\" font-style=\"italic\" lengthAdjust=\"spacingAndGlyphs\" textLength=\"40\" x=\"45\" y=\"163.1387\">«part»</text><text fill=\"#000000\" font-family=\"sans-serif\" font-size=\"12\" lengthAdjust=\"spacingAndGlyphs\" textLength=\"8\" x=\"61\" y=\"177.1074\">g</text><line style=\"stroke: #383838; stroke-width: 1.5;\" x1=\"45\" x2=\"85\" y1=\"184.9375\" y2=\"184.9375\"/></a><!--MD5=[209b3feb70ccb6233bfe1053d122c12c]\n",
       "reverse link E2 to E3--><a href=\"psysml:76fd413b-d5f3-4ecc-bac0-2db3dc6a9c5a\" target=\"_top\" title=\"psysml:76fd413b-d5f3-4ecc-bac0-2db3dc6a9c5a\" xlink:actuate=\"onRequest\" xlink:href=\"psysml:76fd413b-d5f3-4ecc-bac0-2db3dc6a9c5a\" xlink:show=\"new\" xlink:title=\"psysml:76fd413b-d5f3-4ecc-bac0-2db3dc6a9c5a\" xlink:type=\"simple\"><path d=\"M154,100.44 C154,115.87 154,133.47 154,146.98 \" fill=\"none\" id=\"E2&lt;-E3\" style=\"stroke: #383838; stroke-width: 1.0;\"/><polygon fill=\"#383838\" points=\"154,87.06,150,93.06,154,99.06,158,93.06,154,87.06\" style=\"stroke: #383838; stroke-width: 1.0;\"/></a><!--MD5=[62aa6af11e70f752912c1cb0466f24f7]\n",
       "reverse link E4 to E5--><a href=\"psysml:7432dd52-7523-413e-a125-d9cab4f86aea\" target=\"_top\" title=\"psysml:7432dd52-7523-413e-a125-d9cab4f86aea\" xlink:actuate=\"onRequest\" xlink:href=\"psysml:7432dd52-7523-413e-a125-d9cab4f86aea\" xlink:show=\"new\" xlink:title=\"psysml:7432dd52-7523-413e-a125-d9cab4f86aea\" xlink:type=\"simple\"><path d=\"M65,100.44 C65,115.87 65,133.47 65,146.98 \" fill=\"none\" id=\"E4&lt;-E5\" style=\"stroke: #383838; stroke-width: 1.0;\"/><polygon fill=\"#383838\" points=\"65,87.06,61,93.06,65,99.06,69,93.06,65,87.06\" style=\"stroke: #383838; stroke-width: 1.0;\"/></a><!--MD5=[997fd5d54c11dd75eec7ff51a2b3bb9f]\n",
       "@startuml\r\n",
       "skinparam linetype polyline\r\n",
       "skinparam monochrome true\r\n",
       "skinparam classbackgroundcolor white\r\n",
       "skinparam shadowing false\r\n",
       "skinparam wrapWidth 300\r\n",
       "hide circle\r\n",
       "\r\n",
       "package \"Q\" as E1  [[psysml:de03711e-1ba4-461c-851a-9c9209031323 ]]  {\r\n",
       "comp usage \"f\" as E2  <<(T,blue)part>> [[psysml:b9260bcb-04ce-4f8f-94f7-4786232d6bfb ]] {\r\n",
       "}\r\n",
       "comp usage \"a\" as E3  <<(T,blue)part>> [[psysml:76fd413b-d5f3-4ecc-bac0-2db3dc6a9c5a ]] {\r\n",
       "}\r\n",
       "comp def \"C\" as E4  <<(T,blue)part def>> [[psysml:c1aefab3-4a15-416c-b89a-8b36fd883d33 ]] {\r\n",
       "}\r\n",
       "comp usage \"g\" as E5  <<(T,blue)part>> [[psysml:7432dd52-7523-413e-a125-d9cab4f86aea ]] {\r\n",
       "}\r\n",
       "E2 *- - E3 [[psysml:76fd413b-d5f3-4ecc-bac0-2db3dc6a9c5a ]] \r\n",
       "E4 *- - E5 [[psysml:7432dd52-7523-413e-a125-d9cab4f86aea ]] \r\n",
       "}\r\n",
       "@enduml\r\n",
       "\n",
       "PlantUML version 1.2020.13(Sat Jun 13 12:26:38 UTC 2020)\n",
       "(EPL source distribution)\n",
       "Java Runtime: OpenJDK Runtime Environment\n",
       "JVM: OpenJDK 64-Bit Server VM\n",
       "Default Encoding: UTF-8\n",
       "Language: en\n",
       "Country: null\n",
       "--></g></svg>"
      ]
     },
     "execution_count": 10,
     "metadata": {},
     "output_type": "execute_result"
    }
   ],
   "source": [
    "%viz --style=\"POLYLINE\" --view=\"Tree\" \"Q\""
   ]
  },
  {
   "cell_type": "code",
   "execution_count": 11,
   "id": "flying-philippines",
   "metadata": {
    "execution": {
     "iopub.execute_input": "2021-03-26T15:40:53.852380Z",
     "iopub.status.busy": "2021-03-26T15:40:53.852015Z",
     "iopub.status.idle": "2021-03-26T15:40:53.858104Z",
     "shell.execute_reply": "2021-03-26T15:40:53.858428Z"
    }
   },
   "outputs": [
    {
     "data": {
      "image/svg+xml": [
       "<?xml version=\"1.0\" encoding=\"UTF-8\" standalone=\"no\"?><svg xmlns=\"http://www.w3.org/2000/svg\" xmlns:xlink=\"http://www.w3.org/1999/xlink\" contentScriptType=\"application/ecmascript\" contentStyleType=\"text/css\" height=\"12px\" preserveAspectRatio=\"none\" style=\"width:12px;height:12px;\" version=\"1.1\" viewBox=\"0 0 12 12\" width=\"12px\" zoomAndPan=\"magnify\"><defs/><g><!--MD5=[896ac0e7a515d8dd7765a661cb4ee08b]\n",
       "@startuml\r\n",
       "skinparam linetype polyline\r\n",
       "skinparam monochrome true\r\n",
       "skinparam classbackgroundcolor white\r\n",
       "skinparam shadowing false\r\n",
       "skinparam wrapWidth 300\r\n",
       "hide circle\r\n",
       "\r\n",
       "@enduml\r\n",
       "\n",
       "PlantUML version 1.2020.13(Sat Jun 13 12:26:38 UTC 2020)\n",
       "(EPL source distribution)\n",
       "Java Runtime: OpenJDK Runtime Environment\n",
       "JVM: OpenJDK 64-Bit Server VM\n",
       "Default Encoding: UTF-8\n",
       "Language: en\n",
       "Country: null\n",
       "--></g></svg>"
      ]
     },
     "execution_count": 11,
     "metadata": {},
     "output_type": "execute_result"
    }
   ],
   "source": [
    "%viz --style=\"POLYLINE\" --view=\"State\" \"Q\""
   ]
  },
  {
   "cell_type": "code",
   "execution_count": 12,
   "id": "compact-skating",
   "metadata": {
    "execution": {
     "iopub.execute_input": "2021-03-26T15:40:53.909391Z",
     "iopub.status.busy": "2021-03-26T15:40:53.909047Z",
     "iopub.status.idle": "2021-03-26T15:40:53.944606Z",
     "shell.execute_reply": "2021-03-26T15:40:53.945042Z"
    }
   },
   "outputs": [
    {
     "data": {
      "image/svg+xml": [
       "<?xml version=\"1.0\" encoding=\"UTF-8\" standalone=\"no\"?><svg xmlns=\"http://www.w3.org/2000/svg\" xmlns:xlink=\"http://www.w3.org/1999/xlink\" contentScriptType=\"application/ecmascript\" contentStyleType=\"text/css\" height=\"192px\" preserveAspectRatio=\"none\" style=\"width:286px;height:192px;\" version=\"1.1\" viewBox=\"0 0 286 192\" width=\"286px\" zoomAndPan=\"magnify\"><defs/><g><!--MD5=[fbc87193dbaf4d95561dea2c320d4a47]\n",
       "cluster E1--><a href=\"psysml:de03711e-1ba4-461c-851a-9c9209031323\" target=\"_top\" title=\"psysml:de03711e-1ba4-461c-851a-9c9209031323\" xlink:actuate=\"onRequest\" xlink:href=\"psysml:de03711e-1ba4-461c-851a-9c9209031323\" xlink:show=\"new\" xlink:title=\"psysml:de03711e-1ba4-461c-851a-9c9209031323\" xlink:type=\"simple\"><polygon fill=\"#FFFFFF\" points=\"16,6,34,6,41,28.2969,264,28.2969,264,180,16,180,16,6\" style=\"stroke: #000000; stroke-width: 1.5;\"/><line style=\"stroke: #000000; stroke-width: 1.5;\" x1=\"16\" x2=\"41\" y1=\"28.2969\" y2=\"28.2969\"/><text fill=\"#000000\" font-family=\"sans-serif\" font-size=\"14\" font-weight=\"bold\" lengthAdjust=\"spacingAndGlyphs\" textLength=\"12\" x=\"20\" y=\"20.9951\">Q</text></a><!--MD5=[e4f7fae6ed58524ba242bb0b0d3be6b7]\n",
       "cluster E2--><a href=\"psysml:b9260bcb-04ce-4f8f-94f7-4786232d6bfb\" target=\"_top\" title=\"psysml:b9260bcb-04ce-4f8f-94f7-4786232d6bfb\" xlink:actuate=\"onRequest\" xlink:href=\"psysml:b9260bcb-04ce-4f8f-94f7-4786232d6bfb\" xlink:show=\"new\" xlink:title=\"psysml:b9260bcb-04ce-4f8f-94f7-4786232d6bfb\" xlink:type=\"simple\"><rect fill=\"#FFFFFF\" height=\"91\" id=\"E2\" rx=\"10\" ry=\"10\" style=\"stroke: #383838; stroke-width: 1.5;\" width=\"82\" x=\"158\" y=\"65\"/><rect fill=\"#F8F8F8\" height=\"23.9688\" rx=\"10\" ry=\"10\" style=\"stroke: #F8F8F8; stroke-width: 1.5;\" width=\"82\" x=\"158\" y=\"65\"/><rect fill=\"#F8F8F8\" height=\"10\" style=\"stroke: #F8F8F8; stroke-width: 1.5;\" width=\"82\" x=\"158\" y=\"78.9688\"/><rect fill=\"none\" height=\"91\" id=\"E2\" rx=\"10\" ry=\"10\" style=\"stroke: #383838; stroke-width: 1.5;\" width=\"82\" x=\"158\" y=\"65\"/><text fill=\"#000000\" font-family=\"sans-serif\" font-size=\"12\" lengthAdjust=\"spacingAndGlyphs\" textLength=\"4\" x=\"197\" y=\"81.1387\">f</text><line style=\"stroke: #383838; stroke-width: 1.0;\" x1=\"158\" x2=\"240\" y1=\"88.9688\" y2=\"88.9688\"/></a><!--MD5=[f6df4d0ebaf0b5dfb2ced0ae5af7c670]\n",
       "cluster E4--><a href=\"psysml:c1aefab3-4a15-416c-b89a-8b36fd883d33\" target=\"_top\" title=\"psysml:c1aefab3-4a15-416c-b89a-8b36fd883d33\" xlink:actuate=\"onRequest\" xlink:href=\"psysml:c1aefab3-4a15-416c-b89a-8b36fd883d33\" xlink:show=\"new\" xlink:title=\"psysml:c1aefab3-4a15-416c-b89a-8b36fd883d33\" xlink:type=\"simple\"><rect fill=\"#FFFFFF\" height=\"107\" id=\"E4\" style=\"stroke: #383838; stroke-width: 1.5;\" width=\"94\" x=\"40\" y=\"49\"/><rect fill=\"#F8F8F8\" height=\"37.9375\" style=\"stroke: #383838; stroke-width: 1.5;\" width=\"94\" x=\"40\" y=\"49\"/><text fill=\"#000000\" font-family=\"sans-serif\" font-size=\"12\" font-style=\"italic\" lengthAdjust=\"spacingAndGlyphs\" textLength=\"64\" x=\"55\" y=\"65.1387\">«part def»</text><text fill=\"#000000\" font-family=\"sans-serif\" font-size=\"12\" lengthAdjust=\"spacingAndGlyphs\" textLength=\"8\" x=\"83\" y=\"79.1074\">C</text></a><g id=\"E1.E2.E3\"><a href=\"psysml:76fd413b-d5f3-4ecc-bac0-2db3dc6a9c5a\" target=\"_top\" title=\"psysml:76fd413b-d5f3-4ecc-bac0-2db3dc6a9c5a\" xlink:actuate=\"onRequest\" xlink:href=\"psysml:76fd413b-d5f3-4ecc-bac0-2db3dc6a9c5a\" xlink:show=\"new\" xlink:title=\"psysml:76fd413b-d5f3-4ecc-bac0-2db3dc6a9c5a\" xlink:type=\"simple\"><rect fill=\"#FFFFFF\" height=\"40\" id=\"E3\" rx=\"10\" ry=\"10\" style=\"stroke: #383838; stroke-width: 1.5;\" width=\"50\" x=\"174\" y=\"100\"/><rect fill=\"#F8F8F8\" height=\"23.9688\" rx=\"10\" ry=\"10\" style=\"stroke: #F8F8F8; stroke-width: 1.5;\" width=\"50\" x=\"174\" y=\"100\"/><rect fill=\"#F8F8F8\" height=\"10\" style=\"stroke: #F8F8F8; stroke-width: 1.5;\" width=\"50\" x=\"174\" y=\"113.9688\"/><rect fill=\"none\" height=\"40\" id=\"E3\" rx=\"10\" ry=\"10\" style=\"stroke: #383838; stroke-width: 1.5;\" width=\"50\" x=\"174\" y=\"100\"/><text fill=\"#000000\" font-family=\"sans-serif\" font-size=\"12\" lengthAdjust=\"spacingAndGlyphs\" textLength=\"8\" x=\"195\" y=\"116.1387\">a</text></a></g><g id=\"E1.E4.E5\"><a href=\"psysml:7432dd52-7523-413e-a125-d9cab4f86aea\" target=\"_top\" title=\"psysml:7432dd52-7523-413e-a125-d9cab4f86aea\" xlink:actuate=\"onRequest\" xlink:href=\"psysml:7432dd52-7523-413e-a125-d9cab4f86aea\" xlink:show=\"new\" xlink:title=\"psysml:7432dd52-7523-413e-a125-d9cab4f86aea\" xlink:type=\"simple\"><rect fill=\"#FFFFFF\" height=\"40\" id=\"E5\" rx=\"10\" ry=\"10\" style=\"stroke: #383838; stroke-width: 1.5;\" width=\"61\" x=\"56.5\" y=\"100\"/><rect fill=\"#F8F8F8\" height=\"23.9688\" rx=\"10\" ry=\"10\" style=\"stroke: #F8F8F8; stroke-width: 1.5;\" width=\"61\" x=\"56.5\" y=\"100\"/><rect fill=\"#F8F8F8\" height=\"10\" style=\"stroke: #F8F8F8; stroke-width: 1.5;\" width=\"61\" x=\"56.5\" y=\"113.9688\"/><rect fill=\"none\" height=\"40\" id=\"E5\" rx=\"10\" ry=\"10\" style=\"stroke: #383838; stroke-width: 1.5;\" width=\"61\" x=\"56.5\" y=\"100\"/><text fill=\"#000000\" font-family=\"sans-serif\" font-size=\"12\" lengthAdjust=\"spacingAndGlyphs\" textLength=\"46\" x=\"62\" y=\"116.1387\">g=./f/a;</text></a></g><!--MD5=[0ed027e26820a5d838f53539a7c36a47]\n",
       "@startuml\r\n",
       "skinparam ranksep 10\r\n",
       "skinparam rectangle {\r\n",
       " backgroundColor<<block>> LightGreen\r\n",
       "}\r\n",
       "skinparam linetype polyline\r\n",
       "skinparam monochrome true\r\n",
       "skinparam classbackgroundcolor white\r\n",
       "skinparam shadowing false\r\n",
       "skinparam wrapWidth 300\r\n",
       "hide circle\r\n",
       "\r\n",
       "package \"Q\" as E1  [[psysml:de03711e-1ba4-461c-851a-9c9209031323 ]]  {\r\n",
       "rec usage \"f\" as E2  [[psysml:b9260bcb-04ce-4f8f-94f7-4786232d6bfb ]] {\r\n",
       "rec usage \"a\" as E3  [[psysml:76fd413b-d5f3-4ecc-bac0-2db3dc6a9c5a ]] {\r\n",
       "}\r\n",
       "}\r\n",
       "rec def \"C\" as E4  <<(T,blue)part def>> [[psysml:c1aefab3-4a15-416c-b89a-8b36fd883d33 ]] {\r\n",
       "rec usage \"g=./f/a; \" as E5  [[psysml:7432dd52-7523-413e-a125-d9cab4f86aea ]] {\r\n",
       "}\r\n",
       "}\r\n",
       "}\r\n",
       "@enduml\r\n",
       "\n",
       "PlantUML version 1.2020.13(Sat Jun 13 12:26:38 UTC 2020)\n",
       "(EPL source distribution)\n",
       "Java Runtime: OpenJDK Runtime Environment\n",
       "JVM: OpenJDK 64-Bit Server VM\n",
       "Default Encoding: UTF-8\n",
       "Language: en\n",
       "Country: null\n",
       "--></g></svg>"
      ]
     },
     "execution_count": 12,
     "metadata": {},
     "output_type": "execute_result"
    }
   ],
   "source": [
    "%viz --style=\"POLYLINE\" --view=\"Interconnection\" \"Q\""
   ]
  },
  {
   "cell_type": "code",
   "execution_count": 13,
   "id": "specialized-extension",
   "metadata": {
    "execution": {
     "iopub.execute_input": "2021-03-26T15:40:53.997462Z",
     "iopub.status.busy": "2021-03-26T15:40:53.996952Z",
     "iopub.status.idle": "2021-03-26T15:40:54.005283Z",
     "shell.execute_reply": "2021-03-26T15:40:54.004942Z"
    }
   },
   "outputs": [
    {
     "data": {
      "image/svg+xml": [
       "<?xml version=\"1.0\" encoding=\"UTF-8\" standalone=\"no\"?><svg xmlns=\"http://www.w3.org/2000/svg\" xmlns:xlink=\"http://www.w3.org/1999/xlink\" contentScriptType=\"application/ecmascript\" contentStyleType=\"text/css\" height=\"12px\" preserveAspectRatio=\"none\" style=\"width:12px;height:12px;\" version=\"1.1\" viewBox=\"0 0 12 12\" width=\"12px\" zoomAndPan=\"magnify\"><defs/><g><!--MD5=[97bbf32f66ccd50cbc40d92ea8f5a65e]\n",
       "@startuml\r\n",
       "skinparam ranksep 8\r\n",
       "skinparam linetype polyline\r\n",
       "skinparam monochrome true\r\n",
       "skinparam classbackgroundcolor white\r\n",
       "skinparam shadowing false\r\n",
       "skinparam wrapWidth 300\r\n",
       "hide circle\r\n",
       "\r\n",
       "@enduml\r\n",
       "\n",
       "PlantUML version 1.2020.13(Sat Jun 13 12:26:38 UTC 2020)\n",
       "(EPL source distribution)\n",
       "Java Runtime: OpenJDK Runtime Environment\n",
       "JVM: OpenJDK 64-Bit Server VM\n",
       "Default Encoding: UTF-8\n",
       "Language: en\n",
       "Country: null\n",
       "--></g></svg>"
      ]
     },
     "execution_count": 13,
     "metadata": {},
     "output_type": "execute_result"
    }
   ],
   "source": [
    "%viz --style=\"POLYLINE\" --view=\"Action\" \"Q\""
   ]
  },
  {
   "cell_type": "code",
   "execution_count": 14,
   "id": "invalid-friendship",
   "metadata": {
    "execution": {
     "iopub.execute_input": "2021-03-26T15:40:54.057317Z",
     "iopub.status.busy": "2021-03-26T15:40:54.056830Z",
     "iopub.status.idle": "2021-03-26T15:40:54.096137Z",
     "shell.execute_reply": "2021-03-26T15:40:54.096455Z"
    }
   },
   "outputs": [
    {
     "data": {
      "image/svg+xml": [
       "<?xml version=\"1.0\" encoding=\"UTF-8\" standalone=\"no\"?><svg xmlns=\"http://www.w3.org/2000/svg\" xmlns:xlink=\"http://www.w3.org/1999/xlink\" contentScriptType=\"application/ecmascript\" contentStyleType=\"text/css\" height=\"221px\" preserveAspectRatio=\"none\" style=\"width:213px;height:221px;\" version=\"1.1\" viewBox=\"0 0 213 221\" width=\"213px\" zoomAndPan=\"magnify\"><defs/><g><!--MD5=[fbc87193dbaf4d95561dea2c320d4a47]\n",
       "cluster E1--><a href=\"psysml:de03711e-1ba4-461c-851a-9c9209031323\" target=\"_top\" title=\"psysml:de03711e-1ba4-461c-851a-9c9209031323\" xlink:actuate=\"onRequest\" xlink:href=\"psysml:de03711e-1ba4-461c-851a-9c9209031323\" xlink:show=\"new\" xlink:title=\"psysml:de03711e-1ba4-461c-851a-9c9209031323\" xlink:type=\"simple\"><polygon fill=\"#FFFFFF\" points=\"16,6,34,6,41,28.2969,191,28.2969,191,209,16,209,16,6\" style=\"stroke: #000000; stroke-width: 1.5;\"/><line style=\"stroke: #000000; stroke-width: 1.5;\" x1=\"16\" x2=\"41\" y1=\"28.2969\" y2=\"28.2969\"/><text fill=\"#000000\" font-family=\"sans-serif\" font-size=\"14\" font-weight=\"bold\" lengthAdjust=\"spacingAndGlyphs\" textLength=\"12\" x=\"20\" y=\"20.9951\">Q</text></a><!--MD5=[b4997ac47864f28c2f74865a473b2911]\n",
       "class E2--><a href=\"psysml:b9260bcb-04ce-4f8f-94f7-4786232d6bfb\" target=\"_top\" title=\"psysml:b9260bcb-04ce-4f8f-94f7-4786232d6bfb\" xlink:actuate=\"onRequest\" xlink:href=\"psysml:b9260bcb-04ce-4f8f-94f7-4786232d6bfb\" xlink:show=\"new\" xlink:title=\"psysml:b9260bcb-04ce-4f8f-94f7-4786232d6bfb\" xlink:type=\"simple\"><rect fill=\"#FFFFFF\" height=\"45.9375\" id=\"E2\" rx=\"10\" ry=\"10\" style=\"stroke: #383838; stroke-width: 1.5;\" width=\"42\" x=\"133\" y=\"41\"/><text fill=\"#000000\" font-family=\"sans-serif\" font-size=\"12\" font-style=\"italic\" lengthAdjust=\"spacingAndGlyphs\" textLength=\"40\" x=\"134\" y=\"57.1387\">«part»</text><text fill=\"#000000\" font-family=\"sans-serif\" font-size=\"12\" lengthAdjust=\"spacingAndGlyphs\" textLength=\"4\" x=\"152\" y=\"71.1074\">f</text><line style=\"stroke: #383838; stroke-width: 1.5;\" x1=\"134\" x2=\"174\" y1=\"78.9375\" y2=\"78.9375\"/></a><!--MD5=[09b614a08d8cba4a07c9adeb5e0fee81]\n",
       "class E3--><a href=\"psysml:76fd413b-d5f3-4ecc-bac0-2db3dc6a9c5a\" target=\"_top\" title=\"psysml:76fd413b-d5f3-4ecc-bac0-2db3dc6a9c5a\" xlink:actuate=\"onRequest\" xlink:href=\"psysml:76fd413b-d5f3-4ecc-bac0-2db3dc6a9c5a\" xlink:show=\"new\" xlink:title=\"psysml:76fd413b-d5f3-4ecc-bac0-2db3dc6a9c5a\" xlink:type=\"simple\"><rect fill=\"#FFFFFF\" height=\"45.9375\" id=\"E3\" rx=\"10\" ry=\"10\" style=\"stroke: #383838; stroke-width: 1.5;\" width=\"42\" x=\"133\" y=\"147\"/><text fill=\"#000000\" font-family=\"sans-serif\" font-size=\"12\" font-style=\"italic\" lengthAdjust=\"spacingAndGlyphs\" textLength=\"40\" x=\"134\" y=\"163.1387\">«part»</text><text fill=\"#000000\" font-family=\"sans-serif\" font-size=\"12\" lengthAdjust=\"spacingAndGlyphs\" textLength=\"8\" x=\"150\" y=\"177.1074\">a</text><line style=\"stroke: #383838; stroke-width: 1.5;\" x1=\"134\" x2=\"174\" y1=\"184.9375\" y2=\"184.9375\"/></a><!--MD5=[ebbe1d658d1005bcc118a6aa81145e00]\n",
       "class E4--><a href=\"psysml:c1aefab3-4a15-416c-b89a-8b36fd883d33\" target=\"_top\" title=\"psysml:c1aefab3-4a15-416c-b89a-8b36fd883d33\" xlink:actuate=\"onRequest\" xlink:href=\"psysml:c1aefab3-4a15-416c-b89a-8b36fd883d33\" xlink:show=\"new\" xlink:title=\"psysml:c1aefab3-4a15-416c-b89a-8b36fd883d33\" xlink:type=\"simple\"><rect fill=\"#FFFFFF\" height=\"45.9375\" id=\"E4\" style=\"stroke: #383838; stroke-width: 1.5;\" width=\"66\" x=\"32\" y=\"41\"/><text fill=\"#000000\" font-family=\"sans-serif\" font-size=\"12\" font-style=\"italic\" lengthAdjust=\"spacingAndGlyphs\" textLength=\"64\" x=\"33\" y=\"57.1387\">«part def»</text><text fill=\"#000000\" font-family=\"sans-serif\" font-size=\"12\" lengthAdjust=\"spacingAndGlyphs\" textLength=\"8\" x=\"61\" y=\"71.1074\">C</text><line style=\"stroke: #383838; stroke-width: 1.5;\" x1=\"33\" x2=\"97\" y1=\"78.9375\" y2=\"78.9375\"/></a><!--MD5=[270fce915f116d4de14055a7c1d9a0f3]\n",
       "class E5--><a href=\"psysml:7432dd52-7523-413e-a125-d9cab4f86aea\" target=\"_top\" title=\"psysml:7432dd52-7523-413e-a125-d9cab4f86aea\" xlink:actuate=\"onRequest\" xlink:href=\"psysml:7432dd52-7523-413e-a125-d9cab4f86aea\" xlink:show=\"new\" xlink:title=\"psysml:7432dd52-7523-413e-a125-d9cab4f86aea\" xlink:type=\"simple\"><rect fill=\"#FFFFFF\" height=\"45.9375\" id=\"E5\" rx=\"10\" ry=\"10\" style=\"stroke: #383838; stroke-width: 1.5;\" width=\"42\" x=\"44\" y=\"147\"/><text fill=\"#000000\" font-family=\"sans-serif\" font-size=\"12\" font-style=\"italic\" lengthAdjust=\"spacingAndGlyphs\" textLength=\"40\" x=\"45\" y=\"163.1387\">«part»</text><text fill=\"#000000\" font-family=\"sans-serif\" font-size=\"12\" lengthAdjust=\"spacingAndGlyphs\" textLength=\"8\" x=\"61\" y=\"177.1074\">g</text><line style=\"stroke: #383838; stroke-width: 1.5;\" x1=\"45\" x2=\"85\" y1=\"184.9375\" y2=\"184.9375\"/></a><!--MD5=[209b3feb70ccb6233bfe1053d122c12c]\n",
       "reverse link E2 to E3--><a href=\"psysml:76fd413b-d5f3-4ecc-bac0-2db3dc6a9c5a\" target=\"_top\" title=\"psysml:76fd413b-d5f3-4ecc-bac0-2db3dc6a9c5a\" xlink:actuate=\"onRequest\" xlink:href=\"psysml:76fd413b-d5f3-4ecc-bac0-2db3dc6a9c5a\" xlink:show=\"new\" xlink:title=\"psysml:76fd413b-d5f3-4ecc-bac0-2db3dc6a9c5a\" xlink:type=\"simple\"><path d=\"M154,100.44 C154,115.87 154,133.47 154,146.98 \" fill=\"none\" id=\"E2&lt;-E3\" style=\"stroke: #383838; stroke-width: 1.0;\"/><polygon fill=\"#383838\" points=\"154,87.06,150,93.06,154,99.06,158,93.06,154,87.06\" style=\"stroke: #383838; stroke-width: 1.0;\"/></a><!--MD5=[62aa6af11e70f752912c1cb0466f24f7]\n",
       "reverse link E4 to E5--><a href=\"psysml:7432dd52-7523-413e-a125-d9cab4f86aea\" target=\"_top\" title=\"psysml:7432dd52-7523-413e-a125-d9cab4f86aea\" xlink:actuate=\"onRequest\" xlink:href=\"psysml:7432dd52-7523-413e-a125-d9cab4f86aea\" xlink:show=\"new\" xlink:title=\"psysml:7432dd52-7523-413e-a125-d9cab4f86aea\" xlink:type=\"simple\"><path d=\"M65,100.44 C65,115.87 65,133.47 65,146.98 \" fill=\"none\" id=\"E4&lt;-E5\" style=\"stroke: #383838; stroke-width: 1.0;\"/><polygon fill=\"#383838\" points=\"65,87.06,61,93.06,65,99.06,69,93.06,65,87.06\" style=\"stroke: #383838; stroke-width: 1.0;\"/></a><!--MD5=[997fd5d54c11dd75eec7ff51a2b3bb9f]\n",
       "@startuml\r\n",
       "skinparam linetype polyline\r\n",
       "skinparam monochrome true\r\n",
       "skinparam classbackgroundcolor white\r\n",
       "skinparam shadowing false\r\n",
       "skinparam wrapWidth 300\r\n",
       "hide circle\r\n",
       "\r\n",
       "package \"Q\" as E1  [[psysml:de03711e-1ba4-461c-851a-9c9209031323 ]]  {\r\n",
       "comp usage \"f\" as E2  <<(T,blue)part>> [[psysml:b9260bcb-04ce-4f8f-94f7-4786232d6bfb ]] {\r\n",
       "}\r\n",
       "comp usage \"a\" as E3  <<(T,blue)part>> [[psysml:76fd413b-d5f3-4ecc-bac0-2db3dc6a9c5a ]] {\r\n",
       "}\r\n",
       "comp def \"C\" as E4  <<(T,blue)part def>> [[psysml:c1aefab3-4a15-416c-b89a-8b36fd883d33 ]] {\r\n",
       "}\r\n",
       "comp usage \"g\" as E5  <<(T,blue)part>> [[psysml:7432dd52-7523-413e-a125-d9cab4f86aea ]] {\r\n",
       "}\r\n",
       "E2 *- - E3 [[psysml:76fd413b-d5f3-4ecc-bac0-2db3dc6a9c5a ]] \r\n",
       "E4 *- - E5 [[psysml:7432dd52-7523-413e-a125-d9cab4f86aea ]] \r\n",
       "}\r\n",
       "@enduml\r\n",
       "\n",
       "PlantUML version 1.2020.13(Sat Jun 13 12:26:38 UTC 2020)\n",
       "(EPL source distribution)\n",
       "Java Runtime: OpenJDK Runtime Environment\n",
       "JVM: OpenJDK 64-Bit Server VM\n",
       "Default Encoding: UTF-8\n",
       "Language: en\n",
       "Country: null\n",
       "--></g></svg>"
      ]
     },
     "execution_count": 14,
     "metadata": {},
     "output_type": "execute_result"
    }
   ],
   "source": [
    "%viz --style=\"POLYLINE\" --view=\"Sequence\" \"Q\""
   ]
  },
  {
   "cell_type": "code",
   "execution_count": 15,
   "id": "expensive-constraint",
   "metadata": {
    "execution": {
     "iopub.execute_input": "2021-03-26T15:40:54.147086Z",
     "iopub.status.busy": "2021-03-26T15:40:54.146736Z",
     "iopub.status.idle": "2021-03-26T15:40:54.176274Z",
     "shell.execute_reply": "2021-03-26T15:40:54.176596Z"
    }
   },
   "outputs": [
    {
     "data": {
      "image/svg+xml": [
       "<?xml version=\"1.0\" encoding=\"UTF-8\" standalone=\"no\"?><svg xmlns=\"http://www.w3.org/2000/svg\" xmlns:xlink=\"http://www.w3.org/1999/xlink\" contentScriptType=\"application/ecmascript\" contentStyleType=\"text/css\" height=\"221px\" preserveAspectRatio=\"none\" style=\"width:213px;height:221px;\" version=\"1.1\" viewBox=\"0 0 213 221\" width=\"213px\" zoomAndPan=\"magnify\"><defs/><g><!--MD5=[fbc87193dbaf4d95561dea2c320d4a47]\n",
       "cluster E1--><a href=\"psysml:de03711e-1ba4-461c-851a-9c9209031323\" target=\"_top\" title=\"psysml:de03711e-1ba4-461c-851a-9c9209031323\" xlink:actuate=\"onRequest\" xlink:href=\"psysml:de03711e-1ba4-461c-851a-9c9209031323\" xlink:show=\"new\" xlink:title=\"psysml:de03711e-1ba4-461c-851a-9c9209031323\" xlink:type=\"simple\"><polygon fill=\"#FFFFFF\" points=\"16,6,34,6,41,28.2969,191,28.2969,191,209,16,209,16,6\" style=\"stroke: #000000; stroke-width: 1.5;\"/><line style=\"stroke: #000000; stroke-width: 1.5;\" x1=\"16\" x2=\"41\" y1=\"28.2969\" y2=\"28.2969\"/><text fill=\"#000000\" font-family=\"sans-serif\" font-size=\"14\" font-weight=\"bold\" lengthAdjust=\"spacingAndGlyphs\" textLength=\"12\" x=\"20\" y=\"20.9951\">Q</text></a><!--MD5=[b4997ac47864f28c2f74865a473b2911]\n",
       "class E2--><a href=\"psysml:b9260bcb-04ce-4f8f-94f7-4786232d6bfb\" target=\"_top\" title=\"psysml:b9260bcb-04ce-4f8f-94f7-4786232d6bfb\" xlink:actuate=\"onRequest\" xlink:href=\"psysml:b9260bcb-04ce-4f8f-94f7-4786232d6bfb\" xlink:show=\"new\" xlink:title=\"psysml:b9260bcb-04ce-4f8f-94f7-4786232d6bfb\" xlink:type=\"simple\"><rect fill=\"#FFFFFF\" height=\"45.9375\" id=\"E2\" rx=\"10\" ry=\"10\" style=\"stroke: #383838; stroke-width: 1.5;\" width=\"42\" x=\"133\" y=\"41\"/><text fill=\"#000000\" font-family=\"sans-serif\" font-size=\"12\" font-style=\"italic\" lengthAdjust=\"spacingAndGlyphs\" textLength=\"40\" x=\"134\" y=\"57.1387\">«part»</text><text fill=\"#000000\" font-family=\"sans-serif\" font-size=\"12\" lengthAdjust=\"spacingAndGlyphs\" textLength=\"4\" x=\"152\" y=\"71.1074\">f</text><line style=\"stroke: #383838; stroke-width: 1.5;\" x1=\"134\" x2=\"174\" y1=\"78.9375\" y2=\"78.9375\"/></a><!--MD5=[09b614a08d8cba4a07c9adeb5e0fee81]\n",
       "class E3--><a href=\"psysml:76fd413b-d5f3-4ecc-bac0-2db3dc6a9c5a\" target=\"_top\" title=\"psysml:76fd413b-d5f3-4ecc-bac0-2db3dc6a9c5a\" xlink:actuate=\"onRequest\" xlink:href=\"psysml:76fd413b-d5f3-4ecc-bac0-2db3dc6a9c5a\" xlink:show=\"new\" xlink:title=\"psysml:76fd413b-d5f3-4ecc-bac0-2db3dc6a9c5a\" xlink:type=\"simple\"><rect fill=\"#FFFFFF\" height=\"45.9375\" id=\"E3\" rx=\"10\" ry=\"10\" style=\"stroke: #383838; stroke-width: 1.5;\" width=\"42\" x=\"133\" y=\"147\"/><text fill=\"#000000\" font-family=\"sans-serif\" font-size=\"12\" font-style=\"italic\" lengthAdjust=\"spacingAndGlyphs\" textLength=\"40\" x=\"134\" y=\"163.1387\">«part»</text><text fill=\"#000000\" font-family=\"sans-serif\" font-size=\"12\" lengthAdjust=\"spacingAndGlyphs\" textLength=\"8\" x=\"150\" y=\"177.1074\">a</text><line style=\"stroke: #383838; stroke-width: 1.5;\" x1=\"134\" x2=\"174\" y1=\"184.9375\" y2=\"184.9375\"/></a><!--MD5=[ebbe1d658d1005bcc118a6aa81145e00]\n",
       "class E4--><a href=\"psysml:c1aefab3-4a15-416c-b89a-8b36fd883d33\" target=\"_top\" title=\"psysml:c1aefab3-4a15-416c-b89a-8b36fd883d33\" xlink:actuate=\"onRequest\" xlink:href=\"psysml:c1aefab3-4a15-416c-b89a-8b36fd883d33\" xlink:show=\"new\" xlink:title=\"psysml:c1aefab3-4a15-416c-b89a-8b36fd883d33\" xlink:type=\"simple\"><rect fill=\"#FFFFFF\" height=\"45.9375\" id=\"E4\" style=\"stroke: #383838; stroke-width: 1.5;\" width=\"66\" x=\"32\" y=\"41\"/><text fill=\"#000000\" font-family=\"sans-serif\" font-size=\"12\" font-style=\"italic\" lengthAdjust=\"spacingAndGlyphs\" textLength=\"64\" x=\"33\" y=\"57.1387\">«part def»</text><text fill=\"#000000\" font-family=\"sans-serif\" font-size=\"12\" lengthAdjust=\"spacingAndGlyphs\" textLength=\"8\" x=\"61\" y=\"71.1074\">C</text><line style=\"stroke: #383838; stroke-width: 1.5;\" x1=\"33\" x2=\"97\" y1=\"78.9375\" y2=\"78.9375\"/></a><!--MD5=[270fce915f116d4de14055a7c1d9a0f3]\n",
       "class E5--><a href=\"psysml:7432dd52-7523-413e-a125-d9cab4f86aea\" target=\"_top\" title=\"psysml:7432dd52-7523-413e-a125-d9cab4f86aea\" xlink:actuate=\"onRequest\" xlink:href=\"psysml:7432dd52-7523-413e-a125-d9cab4f86aea\" xlink:show=\"new\" xlink:title=\"psysml:7432dd52-7523-413e-a125-d9cab4f86aea\" xlink:type=\"simple\"><rect fill=\"#FFFFFF\" height=\"45.9375\" id=\"E5\" rx=\"10\" ry=\"10\" style=\"stroke: #383838; stroke-width: 1.5;\" width=\"42\" x=\"44\" y=\"147\"/><text fill=\"#000000\" font-family=\"sans-serif\" font-size=\"12\" font-style=\"italic\" lengthAdjust=\"spacingAndGlyphs\" textLength=\"40\" x=\"45\" y=\"163.1387\">«part»</text><text fill=\"#000000\" font-family=\"sans-serif\" font-size=\"12\" lengthAdjust=\"spacingAndGlyphs\" textLength=\"8\" x=\"61\" y=\"177.1074\">g</text><line style=\"stroke: #383838; stroke-width: 1.5;\" x1=\"45\" x2=\"85\" y1=\"184.9375\" y2=\"184.9375\"/></a><!--MD5=[209b3feb70ccb6233bfe1053d122c12c]\n",
       "reverse link E2 to E3--><a href=\"psysml:76fd413b-d5f3-4ecc-bac0-2db3dc6a9c5a\" target=\"_top\" title=\"psysml:76fd413b-d5f3-4ecc-bac0-2db3dc6a9c5a\" xlink:actuate=\"onRequest\" xlink:href=\"psysml:76fd413b-d5f3-4ecc-bac0-2db3dc6a9c5a\" xlink:show=\"new\" xlink:title=\"psysml:76fd413b-d5f3-4ecc-bac0-2db3dc6a9c5a\" xlink:type=\"simple\"><path d=\"M154,100.44 C154,115.87 154,133.47 154,146.98 \" fill=\"none\" id=\"E2&lt;-E3\" style=\"stroke: #383838; stroke-width: 1.0;\"/><polygon fill=\"#383838\" points=\"154,87.06,150,93.06,154,99.06,158,93.06,154,87.06\" style=\"stroke: #383838; stroke-width: 1.0;\"/></a><!--MD5=[62aa6af11e70f752912c1cb0466f24f7]\n",
       "reverse link E4 to E5--><a href=\"psysml:7432dd52-7523-413e-a125-d9cab4f86aea\" target=\"_top\" title=\"psysml:7432dd52-7523-413e-a125-d9cab4f86aea\" xlink:actuate=\"onRequest\" xlink:href=\"psysml:7432dd52-7523-413e-a125-d9cab4f86aea\" xlink:show=\"new\" xlink:title=\"psysml:7432dd52-7523-413e-a125-d9cab4f86aea\" xlink:type=\"simple\"><path d=\"M65,100.44 C65,115.87 65,133.47 65,146.98 \" fill=\"none\" id=\"E4&lt;-E5\" style=\"stroke: #383838; stroke-width: 1.0;\"/><polygon fill=\"#383838\" points=\"65,87.06,61,93.06,65,99.06,69,93.06,65,87.06\" style=\"stroke: #383838; stroke-width: 1.0;\"/></a><!--MD5=[997fd5d54c11dd75eec7ff51a2b3bb9f]\n",
       "@startuml\r\n",
       "skinparam linetype polyline\r\n",
       "skinparam monochrome true\r\n",
       "skinparam classbackgroundcolor white\r\n",
       "skinparam shadowing false\r\n",
       "skinparam wrapWidth 300\r\n",
       "hide circle\r\n",
       "\r\n",
       "package \"Q\" as E1  [[psysml:de03711e-1ba4-461c-851a-9c9209031323 ]]  {\r\n",
       "comp usage \"f\" as E2  <<(T,blue)part>> [[psysml:b9260bcb-04ce-4f8f-94f7-4786232d6bfb ]] {\r\n",
       "}\r\n",
       "comp usage \"a\" as E3  <<(T,blue)part>> [[psysml:76fd413b-d5f3-4ecc-bac0-2db3dc6a9c5a ]] {\r\n",
       "}\r\n",
       "comp def \"C\" as E4  <<(T,blue)part def>> [[psysml:c1aefab3-4a15-416c-b89a-8b36fd883d33 ]] {\r\n",
       "}\r\n",
       "comp usage \"g\" as E5  <<(T,blue)part>> [[psysml:7432dd52-7523-413e-a125-d9cab4f86aea ]] {\r\n",
       "}\r\n",
       "E2 *- - E3 [[psysml:76fd413b-d5f3-4ecc-bac0-2db3dc6a9c5a ]] \r\n",
       "E4 *- - E5 [[psysml:7432dd52-7523-413e-a125-d9cab4f86aea ]] \r\n",
       "}\r\n",
       "@enduml\r\n",
       "\n",
       "PlantUML version 1.2020.13(Sat Jun 13 12:26:38 UTC 2020)\n",
       "(EPL source distribution)\n",
       "Java Runtime: OpenJDK Runtime Environment\n",
       "JVM: OpenJDK 64-Bit Server VM\n",
       "Default Encoding: UTF-8\n",
       "Language: en\n",
       "Country: null\n",
       "--></g></svg>"
      ]
     },
     "execution_count": 15,
     "metadata": {},
     "output_type": "execute_result"
    }
   ],
   "source": [
    "%viz --style=\"POLYLINE\" --view=\"MIXED\" \"Q\""
   ]
  },
  {
   "cell_type": "code",
   "execution_count": 16,
   "id": "french-ozone",
   "metadata": {
    "execution": {
     "iopub.execute_input": "2021-03-26T15:40:54.227559Z",
     "iopub.status.busy": "2021-03-26T15:40:54.227157Z",
     "iopub.status.idle": "2021-03-26T15:40:54.289713Z",
     "shell.execute_reply": "2021-03-26T15:40:54.290264Z"
    }
   },
   "outputs": [
    {
     "data": {
      "image/svg+xml": [
       "<?xml version=\"1.0\" encoding=\"UTF-8\" standalone=\"no\"?><svg xmlns=\"http://www.w3.org/2000/svg\" xmlns:xlink=\"http://www.w3.org/1999/xlink\" contentScriptType=\"application/ecmascript\" contentStyleType=\"text/css\" height=\"196px\" preserveAspectRatio=\"none\" style=\"width:238px;height:196px;\" version=\"1.1\" viewBox=\"0 0 238 196\" width=\"238px\" zoomAndPan=\"magnify\"><defs/><g><!--MD5=[fbc87193dbaf4d95561dea2c320d4a47]\n",
       "cluster E1--><a href=\"psysml:de03711e-1ba4-461c-851a-9c9209031323\" target=\"_top\" title=\"psysml:de03711e-1ba4-461c-851a-9c9209031323\" xlink:actuate=\"onRequest\" xlink:href=\"psysml:de03711e-1ba4-461c-851a-9c9209031323\" xlink:show=\"new\" xlink:title=\"psysml:de03711e-1ba4-461c-851a-9c9209031323\" xlink:type=\"simple\"><polygon fill=\"#FFFFFF\" points=\"16,6,34,6,41,28.2969,216,28.2969,216,184,16,184,16,6\" style=\"stroke: #000000; stroke-width: 1.5;\"/><line style=\"stroke: #000000; stroke-width: 1.5;\" x1=\"16\" x2=\"41\" y1=\"28.2969\" y2=\"28.2969\"/><text fill=\"#000000\" font-family=\"sans-serif\" font-size=\"14\" font-weight=\"bold\" lengthAdjust=\"spacingAndGlyphs\" textLength=\"12\" x=\"20\" y=\"20.9951\">Q</text></a><!--MD5=[b4997ac47864f28c2f74865a473b2911]\n",
       "class E2--><a href=\"psysml:b9260bcb-04ce-4f8f-94f7-4786232d6bfb\" target=\"_top\" title=\"psysml:b9260bcb-04ce-4f8f-94f7-4786232d6bfb\" xlink:actuate=\"onRequest\" xlink:href=\"psysml:b9260bcb-04ce-4f8f-94f7-4786232d6bfb\" xlink:show=\"new\" xlink:title=\"psysml:b9260bcb-04ce-4f8f-94f7-4786232d6bfb\" xlink:type=\"simple\"><rect fill=\"#FFFFFF\" height=\"45.9375\" id=\"E2\" rx=\"10\" ry=\"10\" style=\"stroke: #383838; stroke-width: 1.5;\" width=\"42\" x=\"44\" y=\"41\"/><text fill=\"#000000\" font-family=\"sans-serif\" font-size=\"12\" font-style=\"italic\" lengthAdjust=\"spacingAndGlyphs\" textLength=\"40\" x=\"45\" y=\"57.1387\">«part»</text><text fill=\"#000000\" font-family=\"sans-serif\" font-size=\"12\" lengthAdjust=\"spacingAndGlyphs\" textLength=\"4\" x=\"63\" y=\"71.1074\">f</text><line style=\"stroke: #383838; stroke-width: 1.5;\" x1=\"45\" x2=\"85\" y1=\"78.9375\" y2=\"78.9375\"/></a><!--MD5=[09b614a08d8cba4a07c9adeb5e0fee81]\n",
       "class E3--><a href=\"psysml:76fd413b-d5f3-4ecc-bac0-2db3dc6a9c5a\" target=\"_top\" title=\"psysml:76fd413b-d5f3-4ecc-bac0-2db3dc6a9c5a\" xlink:actuate=\"onRequest\" xlink:href=\"psysml:76fd413b-d5f3-4ecc-bac0-2db3dc6a9c5a\" xlink:show=\"new\" xlink:title=\"psysml:76fd413b-d5f3-4ecc-bac0-2db3dc6a9c5a\" xlink:type=\"simple\"><rect fill=\"#FFFFFF\" height=\"45.9375\" id=\"E3\" rx=\"10\" ry=\"10\" style=\"stroke: #383838; stroke-width: 1.5;\" width=\"42\" x=\"158\" y=\"41\"/><text fill=\"#000000\" font-family=\"sans-serif\" font-size=\"12\" font-style=\"italic\" lengthAdjust=\"spacingAndGlyphs\" textLength=\"40\" x=\"159\" y=\"57.1387\">«part»</text><text fill=\"#000000\" font-family=\"sans-serif\" font-size=\"12\" lengthAdjust=\"spacingAndGlyphs\" textLength=\"8\" x=\"175\" y=\"71.1074\">a</text><line style=\"stroke: #383838; stroke-width: 1.5;\" x1=\"159\" x2=\"199\" y1=\"78.9375\" y2=\"78.9375\"/></a><!--MD5=[ebbe1d658d1005bcc118a6aa81145e00]\n",
       "class E4--><a href=\"psysml:c1aefab3-4a15-416c-b89a-8b36fd883d33\" target=\"_top\" title=\"psysml:c1aefab3-4a15-416c-b89a-8b36fd883d33\" xlink:actuate=\"onRequest\" xlink:href=\"psysml:c1aefab3-4a15-416c-b89a-8b36fd883d33\" xlink:show=\"new\" xlink:title=\"psysml:c1aefab3-4a15-416c-b89a-8b36fd883d33\" xlink:type=\"simple\"><rect fill=\"#FFFFFF\" height=\"45.9375\" id=\"E4\" style=\"stroke: #383838; stroke-width: 1.5;\" width=\"66\" x=\"32\" y=\"122\"/><text fill=\"#000000\" font-family=\"sans-serif\" font-size=\"12\" font-style=\"italic\" lengthAdjust=\"spacingAndGlyphs\" textLength=\"64\" x=\"33\" y=\"138.1387\">«part def»</text><text fill=\"#000000\" font-family=\"sans-serif\" font-size=\"12\" lengthAdjust=\"spacingAndGlyphs\" textLength=\"8\" x=\"61\" y=\"152.1074\">C</text><line style=\"stroke: #383838; stroke-width: 1.5;\" x1=\"33\" x2=\"97\" y1=\"159.9375\" y2=\"159.9375\"/></a><!--MD5=[270fce915f116d4de14055a7c1d9a0f3]\n",
       "class E5--><a href=\"psysml:7432dd52-7523-413e-a125-d9cab4f86aea\" target=\"_top\" title=\"psysml:7432dd52-7523-413e-a125-d9cab4f86aea\" xlink:actuate=\"onRequest\" xlink:href=\"psysml:7432dd52-7523-413e-a125-d9cab4f86aea\" xlink:show=\"new\" xlink:title=\"psysml:7432dd52-7523-413e-a125-d9cab4f86aea\" xlink:type=\"simple\"><rect fill=\"#FFFFFF\" height=\"45.9375\" id=\"E5\" rx=\"10\" ry=\"10\" style=\"stroke: #383838; stroke-width: 1.5;\" width=\"42\" x=\"158\" y=\"122\"/><text fill=\"#000000\" font-family=\"sans-serif\" font-size=\"12\" font-style=\"italic\" lengthAdjust=\"spacingAndGlyphs\" textLength=\"40\" x=\"159\" y=\"138.1387\">«part»</text><text fill=\"#000000\" font-family=\"sans-serif\" font-size=\"12\" lengthAdjust=\"spacingAndGlyphs\" textLength=\"8\" x=\"175\" y=\"152.1074\">g</text><line style=\"stroke: #383838; stroke-width: 1.5;\" x1=\"159\" x2=\"199\" y1=\"159.9375\" y2=\"159.9375\"/></a><!--MD5=[209b3feb70ccb6233bfe1053d122c12c]\n",
       "reverse link E2 to E3--><a href=\"psysml:76fd413b-d5f3-4ecc-bac0-2db3dc6a9c5a\" target=\"_top\" title=\"psysml:76fd413b-d5f3-4ecc-bac0-2db3dc6a9c5a\" xlink:actuate=\"onRequest\" xlink:href=\"psysml:76fd413b-d5f3-4ecc-bac0-2db3dc6a9c5a\" xlink:show=\"new\" xlink:title=\"psysml:76fd413b-d5f3-4ecc-bac0-2db3dc6a9c5a\" xlink:type=\"simple\"><path d=\"M99.26,64 C118.27,64 141.49,64 157.77,64 \" fill=\"none\" id=\"E2&lt;-E3\" style=\"stroke: #383838; stroke-width: 1.0;\"/><polygon fill=\"#383838\" points=\"86.02,64,92.02,68,98.02,64,92.02,60,86.02,64\" style=\"stroke: #383838; stroke-width: 1.0;\"/></a><!--MD5=[62aa6af11e70f752912c1cb0466f24f7]\n",
       "reverse link E4 to E5--><a href=\"psysml:7432dd52-7523-413e-a125-d9cab4f86aea\" target=\"_top\" title=\"psysml:7432dd52-7523-413e-a125-d9cab4f86aea\" xlink:actuate=\"onRequest\" xlink:href=\"psysml:7432dd52-7523-413e-a125-d9cab4f86aea\" xlink:show=\"new\" xlink:title=\"psysml:7432dd52-7523-413e-a125-d9cab4f86aea\" xlink:type=\"simple\"><path d=\"M111.28,145 C127.47,145 144.9,145 157.89,145 \" fill=\"none\" id=\"E4&lt;-E5\" style=\"stroke: #383838; stroke-width: 1.0;\"/><polygon fill=\"#383838\" points=\"98.09,145,104.09,149,110.09,145,104.09,141,98.09,145\" style=\"stroke: #383838; stroke-width: 1.0;\"/></a><!--MD5=[b02274d66a8cca4f6e3712b8f26490a0]\n",
       "@startuml\r\n",
       "left to right direction\r\n",
       "skinparam monochrome true\r\n",
       "skinparam classbackgroundcolor white\r\n",
       "skinparam shadowing false\r\n",
       "skinparam wrapWidth 300\r\n",
       "hide circle\r\n",
       "\r\n",
       "package \"Q\" as E1  [[psysml:de03711e-1ba4-461c-851a-9c9209031323 ]]  {\r\n",
       "comp usage \"f\" as E2  <<(T,blue)part>> [[psysml:b9260bcb-04ce-4f8f-94f7-4786232d6bfb ]] {\r\n",
       "}\r\n",
       "comp usage \"a\" as E3  <<(T,blue)part>> [[psysml:76fd413b-d5f3-4ecc-bac0-2db3dc6a9c5a ]] {\r\n",
       "}\r\n",
       "comp def \"C\" as E4  <<(T,blue)part def>> [[psysml:c1aefab3-4a15-416c-b89a-8b36fd883d33 ]] {\r\n",
       "}\r\n",
       "comp usage \"g\" as E5  <<(T,blue)part>> [[psysml:7432dd52-7523-413e-a125-d9cab4f86aea ]] {\r\n",
       "}\r\n",
       "E2 *- - E3 [[psysml:76fd413b-d5f3-4ecc-bac0-2db3dc6a9c5a ]] \r\n",
       "E4 *- - E5 [[psysml:7432dd52-7523-413e-a125-d9cab4f86aea ]] \r\n",
       "}\r\n",
       "@enduml\r\n",
       "\n",
       "PlantUML version 1.2020.13(Sat Jun 13 12:26:38 UTC 2020)\n",
       "(EPL source distribution)\n",
       "Java Runtime: OpenJDK Runtime Environment\n",
       "JVM: OpenJDK 64-Bit Server VM\n",
       "Default Encoding: UTF-8\n",
       "Language: en\n",
       "Country: null\n",
       "--></g></svg>"
      ]
     },
     "execution_count": 16,
     "metadata": {},
     "output_type": "execute_result"
    }
   ],
   "source": [
    "%viz --style=\"LR\" --view=\"Default\" \"Q\""
   ]
  },
  {
   "cell_type": "code",
   "execution_count": 17,
   "id": "dated-coordinate",
   "metadata": {
    "execution": {
     "iopub.execute_input": "2021-03-26T15:40:54.344941Z",
     "iopub.status.busy": "2021-03-26T15:40:54.344566Z",
     "iopub.status.idle": "2021-03-26T15:40:54.376507Z",
     "shell.execute_reply": "2021-03-26T15:40:54.376896Z"
    }
   },
   "outputs": [
    {
     "data": {
      "image/svg+xml": [
       "<?xml version=\"1.0\" encoding=\"UTF-8\" standalone=\"no\"?><svg xmlns=\"http://www.w3.org/2000/svg\" xmlns:xlink=\"http://www.w3.org/1999/xlink\" contentScriptType=\"application/ecmascript\" contentStyleType=\"text/css\" height=\"196px\" preserveAspectRatio=\"none\" style=\"width:238px;height:196px;\" version=\"1.1\" viewBox=\"0 0 238 196\" width=\"238px\" zoomAndPan=\"magnify\"><defs/><g><!--MD5=[fbc87193dbaf4d95561dea2c320d4a47]\n",
       "cluster E1--><a href=\"psysml:de03711e-1ba4-461c-851a-9c9209031323\" target=\"_top\" title=\"psysml:de03711e-1ba4-461c-851a-9c9209031323\" xlink:actuate=\"onRequest\" xlink:href=\"psysml:de03711e-1ba4-461c-851a-9c9209031323\" xlink:show=\"new\" xlink:title=\"psysml:de03711e-1ba4-461c-851a-9c9209031323\" xlink:type=\"simple\"><polygon fill=\"#FFFFFF\" points=\"16,6,34,6,41,28.2969,216,28.2969,216,184,16,184,16,6\" style=\"stroke: #000000; stroke-width: 1.5;\"/><line style=\"stroke: #000000; stroke-width: 1.5;\" x1=\"16\" x2=\"41\" y1=\"28.2969\" y2=\"28.2969\"/><text fill=\"#000000\" font-family=\"sans-serif\" font-size=\"14\" font-weight=\"bold\" lengthAdjust=\"spacingAndGlyphs\" textLength=\"12\" x=\"20\" y=\"20.9951\">Q</text></a><!--MD5=[b4997ac47864f28c2f74865a473b2911]\n",
       "class E2--><a href=\"psysml:b9260bcb-04ce-4f8f-94f7-4786232d6bfb\" target=\"_top\" title=\"psysml:b9260bcb-04ce-4f8f-94f7-4786232d6bfb\" xlink:actuate=\"onRequest\" xlink:href=\"psysml:b9260bcb-04ce-4f8f-94f7-4786232d6bfb\" xlink:show=\"new\" xlink:title=\"psysml:b9260bcb-04ce-4f8f-94f7-4786232d6bfb\" xlink:type=\"simple\"><rect fill=\"#FFFFFF\" height=\"45.9375\" id=\"E2\" rx=\"10\" ry=\"10\" style=\"stroke: #383838; stroke-width: 1.5;\" width=\"42\" x=\"44\" y=\"41\"/><text fill=\"#000000\" font-family=\"sans-serif\" font-size=\"12\" font-style=\"italic\" lengthAdjust=\"spacingAndGlyphs\" textLength=\"40\" x=\"45\" y=\"57.1387\">«part»</text><text fill=\"#000000\" font-family=\"sans-serif\" font-size=\"12\" lengthAdjust=\"spacingAndGlyphs\" textLength=\"4\" x=\"63\" y=\"71.1074\">f</text><line style=\"stroke: #383838; stroke-width: 1.5;\" x1=\"45\" x2=\"85\" y1=\"78.9375\" y2=\"78.9375\"/></a><!--MD5=[09b614a08d8cba4a07c9adeb5e0fee81]\n",
       "class E3--><a href=\"psysml:76fd413b-d5f3-4ecc-bac0-2db3dc6a9c5a\" target=\"_top\" title=\"psysml:76fd413b-d5f3-4ecc-bac0-2db3dc6a9c5a\" xlink:actuate=\"onRequest\" xlink:href=\"psysml:76fd413b-d5f3-4ecc-bac0-2db3dc6a9c5a\" xlink:show=\"new\" xlink:title=\"psysml:76fd413b-d5f3-4ecc-bac0-2db3dc6a9c5a\" xlink:type=\"simple\"><rect fill=\"#FFFFFF\" height=\"45.9375\" id=\"E3\" rx=\"10\" ry=\"10\" style=\"stroke: #383838; stroke-width: 1.5;\" width=\"42\" x=\"158\" y=\"41\"/><text fill=\"#000000\" font-family=\"sans-serif\" font-size=\"12\" font-style=\"italic\" lengthAdjust=\"spacingAndGlyphs\" textLength=\"40\" x=\"159\" y=\"57.1387\">«part»</text><text fill=\"#000000\" font-family=\"sans-serif\" font-size=\"12\" lengthAdjust=\"spacingAndGlyphs\" textLength=\"8\" x=\"175\" y=\"71.1074\">a</text><line style=\"stroke: #383838; stroke-width: 1.5;\" x1=\"159\" x2=\"199\" y1=\"78.9375\" y2=\"78.9375\"/></a><!--MD5=[ebbe1d658d1005bcc118a6aa81145e00]\n",
       "class E4--><a href=\"psysml:c1aefab3-4a15-416c-b89a-8b36fd883d33\" target=\"_top\" title=\"psysml:c1aefab3-4a15-416c-b89a-8b36fd883d33\" xlink:actuate=\"onRequest\" xlink:href=\"psysml:c1aefab3-4a15-416c-b89a-8b36fd883d33\" xlink:show=\"new\" xlink:title=\"psysml:c1aefab3-4a15-416c-b89a-8b36fd883d33\" xlink:type=\"simple\"><rect fill=\"#FFFFFF\" height=\"45.9375\" id=\"E4\" style=\"stroke: #383838; stroke-width: 1.5;\" width=\"66\" x=\"32\" y=\"122\"/><text fill=\"#000000\" font-family=\"sans-serif\" font-size=\"12\" font-style=\"italic\" lengthAdjust=\"spacingAndGlyphs\" textLength=\"64\" x=\"33\" y=\"138.1387\">«part def»</text><text fill=\"#000000\" font-family=\"sans-serif\" font-size=\"12\" lengthAdjust=\"spacingAndGlyphs\" textLength=\"8\" x=\"61\" y=\"152.1074\">C</text><line style=\"stroke: #383838; stroke-width: 1.5;\" x1=\"33\" x2=\"97\" y1=\"159.9375\" y2=\"159.9375\"/></a><!--MD5=[270fce915f116d4de14055a7c1d9a0f3]\n",
       "class E5--><a href=\"psysml:7432dd52-7523-413e-a125-d9cab4f86aea\" target=\"_top\" title=\"psysml:7432dd52-7523-413e-a125-d9cab4f86aea\" xlink:actuate=\"onRequest\" xlink:href=\"psysml:7432dd52-7523-413e-a125-d9cab4f86aea\" xlink:show=\"new\" xlink:title=\"psysml:7432dd52-7523-413e-a125-d9cab4f86aea\" xlink:type=\"simple\"><rect fill=\"#FFFFFF\" height=\"45.9375\" id=\"E5\" rx=\"10\" ry=\"10\" style=\"stroke: #383838; stroke-width: 1.5;\" width=\"42\" x=\"158\" y=\"122\"/><text fill=\"#000000\" font-family=\"sans-serif\" font-size=\"12\" font-style=\"italic\" lengthAdjust=\"spacingAndGlyphs\" textLength=\"40\" x=\"159\" y=\"138.1387\">«part»</text><text fill=\"#000000\" font-family=\"sans-serif\" font-size=\"12\" lengthAdjust=\"spacingAndGlyphs\" textLength=\"8\" x=\"175\" y=\"152.1074\">g</text><line style=\"stroke: #383838; stroke-width: 1.5;\" x1=\"159\" x2=\"199\" y1=\"159.9375\" y2=\"159.9375\"/></a><!--MD5=[209b3feb70ccb6233bfe1053d122c12c]\n",
       "reverse link E2 to E3--><a href=\"psysml:76fd413b-d5f3-4ecc-bac0-2db3dc6a9c5a\" target=\"_top\" title=\"psysml:76fd413b-d5f3-4ecc-bac0-2db3dc6a9c5a\" xlink:actuate=\"onRequest\" xlink:href=\"psysml:76fd413b-d5f3-4ecc-bac0-2db3dc6a9c5a\" xlink:show=\"new\" xlink:title=\"psysml:76fd413b-d5f3-4ecc-bac0-2db3dc6a9c5a\" xlink:type=\"simple\"><path d=\"M99.26,64 C118.27,64 141.49,64 157.77,64 \" fill=\"none\" id=\"E2&lt;-E3\" style=\"stroke: #383838; stroke-width: 1.0;\"/><polygon fill=\"#383838\" points=\"86.02,64,92.02,68,98.02,64,92.02,60,86.02,64\" style=\"stroke: #383838; stroke-width: 1.0;\"/></a><!--MD5=[62aa6af11e70f752912c1cb0466f24f7]\n",
       "reverse link E4 to E5--><a href=\"psysml:7432dd52-7523-413e-a125-d9cab4f86aea\" target=\"_top\" title=\"psysml:7432dd52-7523-413e-a125-d9cab4f86aea\" xlink:actuate=\"onRequest\" xlink:href=\"psysml:7432dd52-7523-413e-a125-d9cab4f86aea\" xlink:show=\"new\" xlink:title=\"psysml:7432dd52-7523-413e-a125-d9cab4f86aea\" xlink:type=\"simple\"><path d=\"M111.28,145 C127.47,145 144.9,145 157.89,145 \" fill=\"none\" id=\"E4&lt;-E5\" style=\"stroke: #383838; stroke-width: 1.0;\"/><polygon fill=\"#383838\" points=\"98.09,145,104.09,149,110.09,145,104.09,141,98.09,145\" style=\"stroke: #383838; stroke-width: 1.0;\"/></a><!--MD5=[b02274d66a8cca4f6e3712b8f26490a0]\n",
       "@startuml\r\n",
       "left to right direction\r\n",
       "skinparam monochrome true\r\n",
       "skinparam classbackgroundcolor white\r\n",
       "skinparam shadowing false\r\n",
       "skinparam wrapWidth 300\r\n",
       "hide circle\r\n",
       "\r\n",
       "package \"Q\" as E1  [[psysml:de03711e-1ba4-461c-851a-9c9209031323 ]]  {\r\n",
       "comp usage \"f\" as E2  <<(T,blue)part>> [[psysml:b9260bcb-04ce-4f8f-94f7-4786232d6bfb ]] {\r\n",
       "}\r\n",
       "comp usage \"a\" as E3  <<(T,blue)part>> [[psysml:76fd413b-d5f3-4ecc-bac0-2db3dc6a9c5a ]] {\r\n",
       "}\r\n",
       "comp def \"C\" as E4  <<(T,blue)part def>> [[psysml:c1aefab3-4a15-416c-b89a-8b36fd883d33 ]] {\r\n",
       "}\r\n",
       "comp usage \"g\" as E5  <<(T,blue)part>> [[psysml:7432dd52-7523-413e-a125-d9cab4f86aea ]] {\r\n",
       "}\r\n",
       "E2 *- - E3 [[psysml:76fd413b-d5f3-4ecc-bac0-2db3dc6a9c5a ]] \r\n",
       "E4 *- - E5 [[psysml:7432dd52-7523-413e-a125-d9cab4f86aea ]] \r\n",
       "}\r\n",
       "@enduml\r\n",
       "\n",
       "PlantUML version 1.2020.13(Sat Jun 13 12:26:38 UTC 2020)\n",
       "(EPL source distribution)\n",
       "Java Runtime: OpenJDK Runtime Environment\n",
       "JVM: OpenJDK 64-Bit Server VM\n",
       "Default Encoding: UTF-8\n",
       "Language: en\n",
       "Country: null\n",
       "--></g></svg>"
      ]
     },
     "execution_count": 17,
     "metadata": {},
     "output_type": "execute_result"
    }
   ],
   "source": [
    "%viz --style=\"LR\" --view=\"Tree\" \"Q\""
   ]
  },
  {
   "cell_type": "code",
   "execution_count": 18,
   "id": "abandoned-hawaii",
   "metadata": {
    "execution": {
     "iopub.execute_input": "2021-03-26T15:40:54.427635Z",
     "iopub.status.busy": "2021-03-26T15:40:54.427141Z",
     "iopub.status.idle": "2021-03-26T15:40:54.433508Z",
     "shell.execute_reply": "2021-03-26T15:40:54.432848Z"
    }
   },
   "outputs": [
    {
     "data": {
      "image/svg+xml": [
       "<?xml version=\"1.0\" encoding=\"UTF-8\" standalone=\"no\"?><svg xmlns=\"http://www.w3.org/2000/svg\" xmlns:xlink=\"http://www.w3.org/1999/xlink\" contentScriptType=\"application/ecmascript\" contentStyleType=\"text/css\" height=\"12px\" preserveAspectRatio=\"none\" style=\"width:12px;height:12px;\" version=\"1.1\" viewBox=\"0 0 12 12\" width=\"12px\" zoomAndPan=\"magnify\"><defs/><g><!--MD5=[19d285c9d72a204eba4e2cd117d745e8]\n",
       "@startuml\r\n",
       "left to right direction\r\n",
       "skinparam monochrome true\r\n",
       "skinparam classbackgroundcolor white\r\n",
       "skinparam shadowing false\r\n",
       "skinparam wrapWidth 300\r\n",
       "hide circle\r\n",
       "\r\n",
       "@enduml\r\n",
       "\n",
       "PlantUML version 1.2020.13(Sat Jun 13 12:26:38 UTC 2020)\n",
       "(EPL source distribution)\n",
       "Java Runtime: OpenJDK Runtime Environment\n",
       "JVM: OpenJDK 64-Bit Server VM\n",
       "Default Encoding: UTF-8\n",
       "Language: en\n",
       "Country: null\n",
       "--></g></svg>"
      ]
     },
     "execution_count": 18,
     "metadata": {},
     "output_type": "execute_result"
    }
   ],
   "source": [
    "%viz --style=\"LR\" --view=\"State\" \"Q\""
   ]
  },
  {
   "cell_type": "code",
   "execution_count": 19,
   "id": "supreme-chart",
   "metadata": {
    "execution": {
     "iopub.execute_input": "2021-03-26T15:40:54.485321Z",
     "iopub.status.busy": "2021-03-26T15:40:54.484727Z",
     "iopub.status.idle": "2021-03-26T15:40:54.526421Z",
     "shell.execute_reply": "2021-03-26T15:40:54.525269Z"
    }
   },
   "outputs": [
    {
     "data": {
      "image/svg+xml": [
       "<?xml version=\"1.0\" encoding=\"UTF-8\" standalone=\"no\"?><svg xmlns=\"http://www.w3.org/2000/svg\" xmlns:xlink=\"http://www.w3.org/1999/xlink\" contentScriptType=\"application/ecmascript\" contentStyleType=\"text/css\" height=\"307px\" preserveAspectRatio=\"none\" style=\"width:179px;height:307px;\" version=\"1.1\" viewBox=\"0 0 179 307\" width=\"179px\" zoomAndPan=\"magnify\"><defs/><g><!--MD5=[fbc87193dbaf4d95561dea2c320d4a47]\n",
       "cluster E1--><a href=\"psysml:de03711e-1ba4-461c-851a-9c9209031323\" target=\"_top\" title=\"psysml:de03711e-1ba4-461c-851a-9c9209031323\" xlink:actuate=\"onRequest\" xlink:href=\"psysml:de03711e-1ba4-461c-851a-9c9209031323\" xlink:show=\"new\" xlink:title=\"psysml:de03711e-1ba4-461c-851a-9c9209031323\" xlink:type=\"simple\"><polygon fill=\"#FFFFFF\" points=\"16,6,34,6,41,28.2969,157,28.2969,157,295,16,295,16,6\" style=\"stroke: #000000; stroke-width: 1.5;\"/><line style=\"stroke: #000000; stroke-width: 1.5;\" x1=\"16\" x2=\"41\" y1=\"28.2969\" y2=\"28.2969\"/><text fill=\"#000000\" font-family=\"sans-serif\" font-size=\"14\" font-weight=\"bold\" lengthAdjust=\"spacingAndGlyphs\" textLength=\"12\" x=\"20\" y=\"20.9951\">Q</text></a><!--MD5=[e4f7fae6ed58524ba242bb0b0d3be6b7]\n",
       "cluster E2--><a href=\"psysml:b9260bcb-04ce-4f8f-94f7-4786232d6bfb\" target=\"_top\" title=\"psysml:b9260bcb-04ce-4f8f-94f7-4786232d6bfb\" xlink:actuate=\"onRequest\" xlink:href=\"psysml:b9260bcb-04ce-4f8f-94f7-4786232d6bfb\" xlink:show=\"new\" xlink:title=\"psysml:b9260bcb-04ce-4f8f-94f7-4786232d6bfb\" xlink:type=\"simple\"><rect fill=\"#FFFFFF\" height=\"91\" id=\"E2\" rx=\"10\" ry=\"10\" style=\"stroke: #383838; stroke-width: 1.5;\" width=\"82\" x=\"45.5\" y=\"49\"/><rect fill=\"#F8F8F8\" height=\"23.9688\" rx=\"10\" ry=\"10\" style=\"stroke: #F8F8F8; stroke-width: 1.5;\" width=\"82\" x=\"45.5\" y=\"49\"/><rect fill=\"#F8F8F8\" height=\"10\" style=\"stroke: #F8F8F8; stroke-width: 1.5;\" width=\"82\" x=\"45.5\" y=\"62.9688\"/><rect fill=\"none\" height=\"91\" id=\"E2\" rx=\"10\" ry=\"10\" style=\"stroke: #383838; stroke-width: 1.5;\" width=\"82\" x=\"45.5\" y=\"49\"/><text fill=\"#000000\" font-family=\"sans-serif\" font-size=\"12\" lengthAdjust=\"spacingAndGlyphs\" textLength=\"4\" x=\"84.5\" y=\"65.1387\">f</text><line style=\"stroke: #383838; stroke-width: 1.0;\" x1=\"45.5\" x2=\"127.5\" y1=\"72.9688\" y2=\"72.9688\"/></a><!--MD5=[f6df4d0ebaf0b5dfb2ced0ae5af7c670]\n",
       "cluster E4--><a href=\"psysml:c1aefab3-4a15-416c-b89a-8b36fd883d33\" target=\"_top\" title=\"psysml:c1aefab3-4a15-416c-b89a-8b36fd883d33\" xlink:actuate=\"onRequest\" xlink:href=\"psysml:c1aefab3-4a15-416c-b89a-8b36fd883d33\" xlink:show=\"new\" xlink:title=\"psysml:c1aefab3-4a15-416c-b89a-8b36fd883d33\" xlink:type=\"simple\"><rect fill=\"#FFFFFF\" height=\"107\" id=\"E4\" style=\"stroke: #383838; stroke-width: 1.5;\" width=\"93\" x=\"40\" y=\"164\"/><rect fill=\"#F8F8F8\" height=\"37.9375\" style=\"stroke: #383838; stroke-width: 1.5;\" width=\"93\" x=\"40\" y=\"164\"/><text fill=\"#000000\" font-family=\"sans-serif\" font-size=\"12\" font-style=\"italic\" lengthAdjust=\"spacingAndGlyphs\" textLength=\"64\" x=\"54.5\" y=\"180.1387\">«part def»</text><text fill=\"#000000\" font-family=\"sans-serif\" font-size=\"12\" lengthAdjust=\"spacingAndGlyphs\" textLength=\"8\" x=\"82.5\" y=\"194.1074\">C</text></a><g id=\"E1.E2.E3\"><a href=\"psysml:76fd413b-d5f3-4ecc-bac0-2db3dc6a9c5a\" target=\"_top\" title=\"psysml:76fd413b-d5f3-4ecc-bac0-2db3dc6a9c5a\" xlink:actuate=\"onRequest\" xlink:href=\"psysml:76fd413b-d5f3-4ecc-bac0-2db3dc6a9c5a\" xlink:show=\"new\" xlink:title=\"psysml:76fd413b-d5f3-4ecc-bac0-2db3dc6a9c5a\" xlink:type=\"simple\"><rect fill=\"#FFFFFF\" height=\"40\" id=\"E3\" rx=\"10\" ry=\"10\" style=\"stroke: #383838; stroke-width: 1.5;\" width=\"50\" x=\"61.5\" y=\"84\"/><rect fill=\"#F8F8F8\" height=\"23.9688\" rx=\"10\" ry=\"10\" style=\"stroke: #F8F8F8; stroke-width: 1.5;\" width=\"50\" x=\"61.5\" y=\"84\"/><rect fill=\"#F8F8F8\" height=\"10\" style=\"stroke: #F8F8F8; stroke-width: 1.5;\" width=\"50\" x=\"61.5\" y=\"97.9688\"/><rect fill=\"none\" height=\"40\" id=\"E3\" rx=\"10\" ry=\"10\" style=\"stroke: #383838; stroke-width: 1.5;\" width=\"50\" x=\"61.5\" y=\"84\"/><text fill=\"#000000\" font-family=\"sans-serif\" font-size=\"12\" lengthAdjust=\"spacingAndGlyphs\" textLength=\"8\" x=\"82.5\" y=\"100.1387\">a</text></a></g><g id=\"E1.E4.E5\"><a href=\"psysml:7432dd52-7523-413e-a125-d9cab4f86aea\" target=\"_top\" title=\"psysml:7432dd52-7523-413e-a125-d9cab4f86aea\" xlink:actuate=\"onRequest\" xlink:href=\"psysml:7432dd52-7523-413e-a125-d9cab4f86aea\" xlink:show=\"new\" xlink:title=\"psysml:7432dd52-7523-413e-a125-d9cab4f86aea\" xlink:type=\"simple\"><rect fill=\"#FFFFFF\" height=\"40\" id=\"E5\" rx=\"10\" ry=\"10\" style=\"stroke: #383838; stroke-width: 1.5;\" width=\"61\" x=\"56\" y=\"215\"/><rect fill=\"#F8F8F8\" height=\"23.9688\" rx=\"10\" ry=\"10\" style=\"stroke: #F8F8F8; stroke-width: 1.5;\" width=\"61\" x=\"56\" y=\"215\"/><rect fill=\"#F8F8F8\" height=\"10\" style=\"stroke: #F8F8F8; stroke-width: 1.5;\" width=\"61\" x=\"56\" y=\"228.9688\"/><rect fill=\"none\" height=\"40\" id=\"E5\" rx=\"10\" ry=\"10\" style=\"stroke: #383838; stroke-width: 1.5;\" width=\"61\" x=\"56\" y=\"215\"/><text fill=\"#000000\" font-family=\"sans-serif\" font-size=\"12\" lengthAdjust=\"spacingAndGlyphs\" textLength=\"46\" x=\"61.5\" y=\"231.1387\">g=./f/a;</text></a></g><!--MD5=[52b18d337c56d62fbf3dbfa27f839917]\n",
       "@startuml\r\n",
       "skinparam ranksep 10\r\n",
       "skinparam rectangle {\r\n",
       " backgroundColor<<block>> LightGreen\r\n",
       "}\r\n",
       "left to right direction\r\n",
       "skinparam monochrome true\r\n",
       "skinparam classbackgroundcolor white\r\n",
       "skinparam shadowing false\r\n",
       "skinparam wrapWidth 300\r\n",
       "hide circle\r\n",
       "\r\n",
       "package \"Q\" as E1  [[psysml:de03711e-1ba4-461c-851a-9c9209031323 ]]  {\r\n",
       "rec usage \"f\" as E2  [[psysml:b9260bcb-04ce-4f8f-94f7-4786232d6bfb ]] {\r\n",
       "rec usage \"a\" as E3  [[psysml:76fd413b-d5f3-4ecc-bac0-2db3dc6a9c5a ]] {\r\n",
       "}\r\n",
       "}\r\n",
       "rec def \"C\" as E4  <<(T,blue)part def>> [[psysml:c1aefab3-4a15-416c-b89a-8b36fd883d33 ]] {\r\n",
       "rec usage \"g=./f/a; \" as E5  [[psysml:7432dd52-7523-413e-a125-d9cab4f86aea ]] {\r\n",
       "}\r\n",
       "}\r\n",
       "}\r\n",
       "@enduml\r\n",
       "\n",
       "PlantUML version 1.2020.13(Sat Jun 13 12:26:38 UTC 2020)\n",
       "(EPL source distribution)\n",
       "Java Runtime: OpenJDK Runtime Environment\n",
       "JVM: OpenJDK 64-Bit Server VM\n",
       "Default Encoding: UTF-8\n",
       "Language: en\n",
       "Country: null\n",
       "--></g></svg>"
      ]
     },
     "execution_count": 19,
     "metadata": {},
     "output_type": "execute_result"
    }
   ],
   "source": [
    "%viz --style=\"LR\" --view=\"Interconnection\" \"Q\""
   ]
  },
  {
   "cell_type": "code",
   "execution_count": 20,
   "id": "upset-validity",
   "metadata": {
    "execution": {
     "iopub.execute_input": "2021-03-26T15:40:54.578174Z",
     "iopub.status.busy": "2021-03-26T15:40:54.577679Z",
     "iopub.status.idle": "2021-03-26T15:40:54.584189Z",
     "shell.execute_reply": "2021-03-26T15:40:54.583853Z"
    }
   },
   "outputs": [
    {
     "data": {
      "image/svg+xml": [
       "<?xml version=\"1.0\" encoding=\"UTF-8\" standalone=\"no\"?><svg xmlns=\"http://www.w3.org/2000/svg\" xmlns:xlink=\"http://www.w3.org/1999/xlink\" contentScriptType=\"application/ecmascript\" contentStyleType=\"text/css\" height=\"12px\" preserveAspectRatio=\"none\" style=\"width:12px;height:12px;\" version=\"1.1\" viewBox=\"0 0 12 12\" width=\"12px\" zoomAndPan=\"magnify\"><defs/><g><!--MD5=[7aeb398939421629f6affaa4a1a7b125]\n",
       "@startuml\r\n",
       "skinparam ranksep 8\r\n",
       "left to right direction\r\n",
       "skinparam monochrome true\r\n",
       "skinparam classbackgroundcolor white\r\n",
       "skinparam shadowing false\r\n",
       "skinparam wrapWidth 300\r\n",
       "hide circle\r\n",
       "\r\n",
       "@enduml\r\n",
       "\n",
       "PlantUML version 1.2020.13(Sat Jun 13 12:26:38 UTC 2020)\n",
       "(EPL source distribution)\n",
       "Java Runtime: OpenJDK Runtime Environment\n",
       "JVM: OpenJDK 64-Bit Server VM\n",
       "Default Encoding: UTF-8\n",
       "Language: en\n",
       "Country: null\n",
       "--></g></svg>"
      ]
     },
     "execution_count": 20,
     "metadata": {},
     "output_type": "execute_result"
    }
   ],
   "source": [
    "%viz --style=\"LR\" --view=\"Action\" \"Q\""
   ]
  },
  {
   "cell_type": "code",
   "execution_count": 21,
   "id": "alien-guard",
   "metadata": {
    "execution": {
     "iopub.execute_input": "2021-03-26T15:40:54.635325Z",
     "iopub.status.busy": "2021-03-26T15:40:54.634503Z",
     "iopub.status.idle": "2021-03-26T15:40:54.666414Z",
     "shell.execute_reply": "2021-03-26T15:40:54.665821Z"
    }
   },
   "outputs": [
    {
     "data": {
      "image/svg+xml": [
       "<?xml version=\"1.0\" encoding=\"UTF-8\" standalone=\"no\"?><svg xmlns=\"http://www.w3.org/2000/svg\" xmlns:xlink=\"http://www.w3.org/1999/xlink\" contentScriptType=\"application/ecmascript\" contentStyleType=\"text/css\" height=\"196px\" preserveAspectRatio=\"none\" style=\"width:238px;height:196px;\" version=\"1.1\" viewBox=\"0 0 238 196\" width=\"238px\" zoomAndPan=\"magnify\"><defs/><g><!--MD5=[fbc87193dbaf4d95561dea2c320d4a47]\n",
       "cluster E1--><a href=\"psysml:de03711e-1ba4-461c-851a-9c9209031323\" target=\"_top\" title=\"psysml:de03711e-1ba4-461c-851a-9c9209031323\" xlink:actuate=\"onRequest\" xlink:href=\"psysml:de03711e-1ba4-461c-851a-9c9209031323\" xlink:show=\"new\" xlink:title=\"psysml:de03711e-1ba4-461c-851a-9c9209031323\" xlink:type=\"simple\"><polygon fill=\"#FFFFFF\" points=\"16,6,34,6,41,28.2969,216,28.2969,216,184,16,184,16,6\" style=\"stroke: #000000; stroke-width: 1.5;\"/><line style=\"stroke: #000000; stroke-width: 1.5;\" x1=\"16\" x2=\"41\" y1=\"28.2969\" y2=\"28.2969\"/><text fill=\"#000000\" font-family=\"sans-serif\" font-size=\"14\" font-weight=\"bold\" lengthAdjust=\"spacingAndGlyphs\" textLength=\"12\" x=\"20\" y=\"20.9951\">Q</text></a><!--MD5=[b4997ac47864f28c2f74865a473b2911]\n",
       "class E2--><a href=\"psysml:b9260bcb-04ce-4f8f-94f7-4786232d6bfb\" target=\"_top\" title=\"psysml:b9260bcb-04ce-4f8f-94f7-4786232d6bfb\" xlink:actuate=\"onRequest\" xlink:href=\"psysml:b9260bcb-04ce-4f8f-94f7-4786232d6bfb\" xlink:show=\"new\" xlink:title=\"psysml:b9260bcb-04ce-4f8f-94f7-4786232d6bfb\" xlink:type=\"simple\"><rect fill=\"#FFFFFF\" height=\"45.9375\" id=\"E2\" rx=\"10\" ry=\"10\" style=\"stroke: #383838; stroke-width: 1.5;\" width=\"42\" x=\"44\" y=\"41\"/><text fill=\"#000000\" font-family=\"sans-serif\" font-size=\"12\" font-style=\"italic\" lengthAdjust=\"spacingAndGlyphs\" textLength=\"40\" x=\"45\" y=\"57.1387\">«part»</text><text fill=\"#000000\" font-family=\"sans-serif\" font-size=\"12\" lengthAdjust=\"spacingAndGlyphs\" textLength=\"4\" x=\"63\" y=\"71.1074\">f</text><line style=\"stroke: #383838; stroke-width: 1.5;\" x1=\"45\" x2=\"85\" y1=\"78.9375\" y2=\"78.9375\"/></a><!--MD5=[09b614a08d8cba4a07c9adeb5e0fee81]\n",
       "class E3--><a href=\"psysml:76fd413b-d5f3-4ecc-bac0-2db3dc6a9c5a\" target=\"_top\" title=\"psysml:76fd413b-d5f3-4ecc-bac0-2db3dc6a9c5a\" xlink:actuate=\"onRequest\" xlink:href=\"psysml:76fd413b-d5f3-4ecc-bac0-2db3dc6a9c5a\" xlink:show=\"new\" xlink:title=\"psysml:76fd413b-d5f3-4ecc-bac0-2db3dc6a9c5a\" xlink:type=\"simple\"><rect fill=\"#FFFFFF\" height=\"45.9375\" id=\"E3\" rx=\"10\" ry=\"10\" style=\"stroke: #383838; stroke-width: 1.5;\" width=\"42\" x=\"158\" y=\"41\"/><text fill=\"#000000\" font-family=\"sans-serif\" font-size=\"12\" font-style=\"italic\" lengthAdjust=\"spacingAndGlyphs\" textLength=\"40\" x=\"159\" y=\"57.1387\">«part»</text><text fill=\"#000000\" font-family=\"sans-serif\" font-size=\"12\" lengthAdjust=\"spacingAndGlyphs\" textLength=\"8\" x=\"175\" y=\"71.1074\">a</text><line style=\"stroke: #383838; stroke-width: 1.5;\" x1=\"159\" x2=\"199\" y1=\"78.9375\" y2=\"78.9375\"/></a><!--MD5=[ebbe1d658d1005bcc118a6aa81145e00]\n",
       "class E4--><a href=\"psysml:c1aefab3-4a15-416c-b89a-8b36fd883d33\" target=\"_top\" title=\"psysml:c1aefab3-4a15-416c-b89a-8b36fd883d33\" xlink:actuate=\"onRequest\" xlink:href=\"psysml:c1aefab3-4a15-416c-b89a-8b36fd883d33\" xlink:show=\"new\" xlink:title=\"psysml:c1aefab3-4a15-416c-b89a-8b36fd883d33\" xlink:type=\"simple\"><rect fill=\"#FFFFFF\" height=\"45.9375\" id=\"E4\" style=\"stroke: #383838; stroke-width: 1.5;\" width=\"66\" x=\"32\" y=\"122\"/><text fill=\"#000000\" font-family=\"sans-serif\" font-size=\"12\" font-style=\"italic\" lengthAdjust=\"spacingAndGlyphs\" textLength=\"64\" x=\"33\" y=\"138.1387\">«part def»</text><text fill=\"#000000\" font-family=\"sans-serif\" font-size=\"12\" lengthAdjust=\"spacingAndGlyphs\" textLength=\"8\" x=\"61\" y=\"152.1074\">C</text><line style=\"stroke: #383838; stroke-width: 1.5;\" x1=\"33\" x2=\"97\" y1=\"159.9375\" y2=\"159.9375\"/></a><!--MD5=[270fce915f116d4de14055a7c1d9a0f3]\n",
       "class E5--><a href=\"psysml:7432dd52-7523-413e-a125-d9cab4f86aea\" target=\"_top\" title=\"psysml:7432dd52-7523-413e-a125-d9cab4f86aea\" xlink:actuate=\"onRequest\" xlink:href=\"psysml:7432dd52-7523-413e-a125-d9cab4f86aea\" xlink:show=\"new\" xlink:title=\"psysml:7432dd52-7523-413e-a125-d9cab4f86aea\" xlink:type=\"simple\"><rect fill=\"#FFFFFF\" height=\"45.9375\" id=\"E5\" rx=\"10\" ry=\"10\" style=\"stroke: #383838; stroke-width: 1.5;\" width=\"42\" x=\"158\" y=\"122\"/><text fill=\"#000000\" font-family=\"sans-serif\" font-size=\"12\" font-style=\"italic\" lengthAdjust=\"spacingAndGlyphs\" textLength=\"40\" x=\"159\" y=\"138.1387\">«part»</text><text fill=\"#000000\" font-family=\"sans-serif\" font-size=\"12\" lengthAdjust=\"spacingAndGlyphs\" textLength=\"8\" x=\"175\" y=\"152.1074\">g</text><line style=\"stroke: #383838; stroke-width: 1.5;\" x1=\"159\" x2=\"199\" y1=\"159.9375\" y2=\"159.9375\"/></a><!--MD5=[209b3feb70ccb6233bfe1053d122c12c]\n",
       "reverse link E2 to E3--><a href=\"psysml:76fd413b-d5f3-4ecc-bac0-2db3dc6a9c5a\" target=\"_top\" title=\"psysml:76fd413b-d5f3-4ecc-bac0-2db3dc6a9c5a\" xlink:actuate=\"onRequest\" xlink:href=\"psysml:76fd413b-d5f3-4ecc-bac0-2db3dc6a9c5a\" xlink:show=\"new\" xlink:title=\"psysml:76fd413b-d5f3-4ecc-bac0-2db3dc6a9c5a\" xlink:type=\"simple\"><path d=\"M99.26,64 C118.27,64 141.49,64 157.77,64 \" fill=\"none\" id=\"E2&lt;-E3\" style=\"stroke: #383838; stroke-width: 1.0;\"/><polygon fill=\"#383838\" points=\"86.02,64,92.02,68,98.02,64,92.02,60,86.02,64\" style=\"stroke: #383838; stroke-width: 1.0;\"/></a><!--MD5=[62aa6af11e70f752912c1cb0466f24f7]\n",
       "reverse link E4 to E5--><a href=\"psysml:7432dd52-7523-413e-a125-d9cab4f86aea\" target=\"_top\" title=\"psysml:7432dd52-7523-413e-a125-d9cab4f86aea\" xlink:actuate=\"onRequest\" xlink:href=\"psysml:7432dd52-7523-413e-a125-d9cab4f86aea\" xlink:show=\"new\" xlink:title=\"psysml:7432dd52-7523-413e-a125-d9cab4f86aea\" xlink:type=\"simple\"><path d=\"M111.28,145 C127.47,145 144.9,145 157.89,145 \" fill=\"none\" id=\"E4&lt;-E5\" style=\"stroke: #383838; stroke-width: 1.0;\"/><polygon fill=\"#383838\" points=\"98.09,145,104.09,149,110.09,145,104.09,141,98.09,145\" style=\"stroke: #383838; stroke-width: 1.0;\"/></a><!--MD5=[b02274d66a8cca4f6e3712b8f26490a0]\n",
       "@startuml\r\n",
       "left to right direction\r\n",
       "skinparam monochrome true\r\n",
       "skinparam classbackgroundcolor white\r\n",
       "skinparam shadowing false\r\n",
       "skinparam wrapWidth 300\r\n",
       "hide circle\r\n",
       "\r\n",
       "package \"Q\" as E1  [[psysml:de03711e-1ba4-461c-851a-9c9209031323 ]]  {\r\n",
       "comp usage \"f\" as E2  <<(T,blue)part>> [[psysml:b9260bcb-04ce-4f8f-94f7-4786232d6bfb ]] {\r\n",
       "}\r\n",
       "comp usage \"a\" as E3  <<(T,blue)part>> [[psysml:76fd413b-d5f3-4ecc-bac0-2db3dc6a9c5a ]] {\r\n",
       "}\r\n",
       "comp def \"C\" as E4  <<(T,blue)part def>> [[psysml:c1aefab3-4a15-416c-b89a-8b36fd883d33 ]] {\r\n",
       "}\r\n",
       "comp usage \"g\" as E5  <<(T,blue)part>> [[psysml:7432dd52-7523-413e-a125-d9cab4f86aea ]] {\r\n",
       "}\r\n",
       "E2 *- - E3 [[psysml:76fd413b-d5f3-4ecc-bac0-2db3dc6a9c5a ]] \r\n",
       "E4 *- - E5 [[psysml:7432dd52-7523-413e-a125-d9cab4f86aea ]] \r\n",
       "}\r\n",
       "@enduml\r\n",
       "\n",
       "PlantUML version 1.2020.13(Sat Jun 13 12:26:38 UTC 2020)\n",
       "(EPL source distribution)\n",
       "Java Runtime: OpenJDK Runtime Environment\n",
       "JVM: OpenJDK 64-Bit Server VM\n",
       "Default Encoding: UTF-8\n",
       "Language: en\n",
       "Country: null\n",
       "--></g></svg>"
      ]
     },
     "execution_count": 21,
     "metadata": {},
     "output_type": "execute_result"
    }
   ],
   "source": [
    "%viz --style=\"LR\" --view=\"Sequence\" \"Q\""
   ]
  },
  {
   "cell_type": "code",
   "execution_count": 22,
   "id": "hundred-coating",
   "metadata": {
    "execution": {
     "iopub.execute_input": "2021-03-26T15:40:54.719142Z",
     "iopub.status.busy": "2021-03-26T15:40:54.717893Z",
     "iopub.status.idle": "2021-03-26T15:40:54.749829Z",
     "shell.execute_reply": "2021-03-26T15:40:54.747488Z"
    }
   },
   "outputs": [
    {
     "data": {
      "image/svg+xml": [
       "<?xml version=\"1.0\" encoding=\"UTF-8\" standalone=\"no\"?><svg xmlns=\"http://www.w3.org/2000/svg\" xmlns:xlink=\"http://www.w3.org/1999/xlink\" contentScriptType=\"application/ecmascript\" contentStyleType=\"text/css\" height=\"196px\" preserveAspectRatio=\"none\" style=\"width:238px;height:196px;\" version=\"1.1\" viewBox=\"0 0 238 196\" width=\"238px\" zoomAndPan=\"magnify\"><defs/><g><!--MD5=[fbc87193dbaf4d95561dea2c320d4a47]\n",
       "cluster E1--><a href=\"psysml:de03711e-1ba4-461c-851a-9c9209031323\" target=\"_top\" title=\"psysml:de03711e-1ba4-461c-851a-9c9209031323\" xlink:actuate=\"onRequest\" xlink:href=\"psysml:de03711e-1ba4-461c-851a-9c9209031323\" xlink:show=\"new\" xlink:title=\"psysml:de03711e-1ba4-461c-851a-9c9209031323\" xlink:type=\"simple\"><polygon fill=\"#FFFFFF\" points=\"16,6,34,6,41,28.2969,216,28.2969,216,184,16,184,16,6\" style=\"stroke: #000000; stroke-width: 1.5;\"/><line style=\"stroke: #000000; stroke-width: 1.5;\" x1=\"16\" x2=\"41\" y1=\"28.2969\" y2=\"28.2969\"/><text fill=\"#000000\" font-family=\"sans-serif\" font-size=\"14\" font-weight=\"bold\" lengthAdjust=\"spacingAndGlyphs\" textLength=\"12\" x=\"20\" y=\"20.9951\">Q</text></a><!--MD5=[b4997ac47864f28c2f74865a473b2911]\n",
       "class E2--><a href=\"psysml:b9260bcb-04ce-4f8f-94f7-4786232d6bfb\" target=\"_top\" title=\"psysml:b9260bcb-04ce-4f8f-94f7-4786232d6bfb\" xlink:actuate=\"onRequest\" xlink:href=\"psysml:b9260bcb-04ce-4f8f-94f7-4786232d6bfb\" xlink:show=\"new\" xlink:title=\"psysml:b9260bcb-04ce-4f8f-94f7-4786232d6bfb\" xlink:type=\"simple\"><rect fill=\"#FFFFFF\" height=\"45.9375\" id=\"E2\" rx=\"10\" ry=\"10\" style=\"stroke: #383838; stroke-width: 1.5;\" width=\"42\" x=\"44\" y=\"41\"/><text fill=\"#000000\" font-family=\"sans-serif\" font-size=\"12\" font-style=\"italic\" lengthAdjust=\"spacingAndGlyphs\" textLength=\"40\" x=\"45\" y=\"57.1387\">«part»</text><text fill=\"#000000\" font-family=\"sans-serif\" font-size=\"12\" lengthAdjust=\"spacingAndGlyphs\" textLength=\"4\" x=\"63\" y=\"71.1074\">f</text><line style=\"stroke: #383838; stroke-width: 1.5;\" x1=\"45\" x2=\"85\" y1=\"78.9375\" y2=\"78.9375\"/></a><!--MD5=[09b614a08d8cba4a07c9adeb5e0fee81]\n",
       "class E3--><a href=\"psysml:76fd413b-d5f3-4ecc-bac0-2db3dc6a9c5a\" target=\"_top\" title=\"psysml:76fd413b-d5f3-4ecc-bac0-2db3dc6a9c5a\" xlink:actuate=\"onRequest\" xlink:href=\"psysml:76fd413b-d5f3-4ecc-bac0-2db3dc6a9c5a\" xlink:show=\"new\" xlink:title=\"psysml:76fd413b-d5f3-4ecc-bac0-2db3dc6a9c5a\" xlink:type=\"simple\"><rect fill=\"#FFFFFF\" height=\"45.9375\" id=\"E3\" rx=\"10\" ry=\"10\" style=\"stroke: #383838; stroke-width: 1.5;\" width=\"42\" x=\"158\" y=\"41\"/><text fill=\"#000000\" font-family=\"sans-serif\" font-size=\"12\" font-style=\"italic\" lengthAdjust=\"spacingAndGlyphs\" textLength=\"40\" x=\"159\" y=\"57.1387\">«part»</text><text fill=\"#000000\" font-family=\"sans-serif\" font-size=\"12\" lengthAdjust=\"spacingAndGlyphs\" textLength=\"8\" x=\"175\" y=\"71.1074\">a</text><line style=\"stroke: #383838; stroke-width: 1.5;\" x1=\"159\" x2=\"199\" y1=\"78.9375\" y2=\"78.9375\"/></a><!--MD5=[ebbe1d658d1005bcc118a6aa81145e00]\n",
       "class E4--><a href=\"psysml:c1aefab3-4a15-416c-b89a-8b36fd883d33\" target=\"_top\" title=\"psysml:c1aefab3-4a15-416c-b89a-8b36fd883d33\" xlink:actuate=\"onRequest\" xlink:href=\"psysml:c1aefab3-4a15-416c-b89a-8b36fd883d33\" xlink:show=\"new\" xlink:title=\"psysml:c1aefab3-4a15-416c-b89a-8b36fd883d33\" xlink:type=\"simple\"><rect fill=\"#FFFFFF\" height=\"45.9375\" id=\"E4\" style=\"stroke: #383838; stroke-width: 1.5;\" width=\"66\" x=\"32\" y=\"122\"/><text fill=\"#000000\" font-family=\"sans-serif\" font-size=\"12\" font-style=\"italic\" lengthAdjust=\"spacingAndGlyphs\" textLength=\"64\" x=\"33\" y=\"138.1387\">«part def»</text><text fill=\"#000000\" font-family=\"sans-serif\" font-size=\"12\" lengthAdjust=\"spacingAndGlyphs\" textLength=\"8\" x=\"61\" y=\"152.1074\">C</text><line style=\"stroke: #383838; stroke-width: 1.5;\" x1=\"33\" x2=\"97\" y1=\"159.9375\" y2=\"159.9375\"/></a><!--MD5=[270fce915f116d4de14055a7c1d9a0f3]\n",
       "class E5--><a href=\"psysml:7432dd52-7523-413e-a125-d9cab4f86aea\" target=\"_top\" title=\"psysml:7432dd52-7523-413e-a125-d9cab4f86aea\" xlink:actuate=\"onRequest\" xlink:href=\"psysml:7432dd52-7523-413e-a125-d9cab4f86aea\" xlink:show=\"new\" xlink:title=\"psysml:7432dd52-7523-413e-a125-d9cab4f86aea\" xlink:type=\"simple\"><rect fill=\"#FFFFFF\" height=\"45.9375\" id=\"E5\" rx=\"10\" ry=\"10\" style=\"stroke: #383838; stroke-width: 1.5;\" width=\"42\" x=\"158\" y=\"122\"/><text fill=\"#000000\" font-family=\"sans-serif\" font-size=\"12\" font-style=\"italic\" lengthAdjust=\"spacingAndGlyphs\" textLength=\"40\" x=\"159\" y=\"138.1387\">«part»</text><text fill=\"#000000\" font-family=\"sans-serif\" font-size=\"12\" lengthAdjust=\"spacingAndGlyphs\" textLength=\"8\" x=\"175\" y=\"152.1074\">g</text><line style=\"stroke: #383838; stroke-width: 1.5;\" x1=\"159\" x2=\"199\" y1=\"159.9375\" y2=\"159.9375\"/></a><!--MD5=[209b3feb70ccb6233bfe1053d122c12c]\n",
       "reverse link E2 to E3--><a href=\"psysml:76fd413b-d5f3-4ecc-bac0-2db3dc6a9c5a\" target=\"_top\" title=\"psysml:76fd413b-d5f3-4ecc-bac0-2db3dc6a9c5a\" xlink:actuate=\"onRequest\" xlink:href=\"psysml:76fd413b-d5f3-4ecc-bac0-2db3dc6a9c5a\" xlink:show=\"new\" xlink:title=\"psysml:76fd413b-d5f3-4ecc-bac0-2db3dc6a9c5a\" xlink:type=\"simple\"><path d=\"M99.26,64 C118.27,64 141.49,64 157.77,64 \" fill=\"none\" id=\"E2&lt;-E3\" style=\"stroke: #383838; stroke-width: 1.0;\"/><polygon fill=\"#383838\" points=\"86.02,64,92.02,68,98.02,64,92.02,60,86.02,64\" style=\"stroke: #383838; stroke-width: 1.0;\"/></a><!--MD5=[62aa6af11e70f752912c1cb0466f24f7]\n",
       "reverse link E4 to E5--><a href=\"psysml:7432dd52-7523-413e-a125-d9cab4f86aea\" target=\"_top\" title=\"psysml:7432dd52-7523-413e-a125-d9cab4f86aea\" xlink:actuate=\"onRequest\" xlink:href=\"psysml:7432dd52-7523-413e-a125-d9cab4f86aea\" xlink:show=\"new\" xlink:title=\"psysml:7432dd52-7523-413e-a125-d9cab4f86aea\" xlink:type=\"simple\"><path d=\"M111.28,145 C127.47,145 144.9,145 157.89,145 \" fill=\"none\" id=\"E4&lt;-E5\" style=\"stroke: #383838; stroke-width: 1.0;\"/><polygon fill=\"#383838\" points=\"98.09,145,104.09,149,110.09,145,104.09,141,98.09,145\" style=\"stroke: #383838; stroke-width: 1.0;\"/></a><!--MD5=[b02274d66a8cca4f6e3712b8f26490a0]\n",
       "@startuml\r\n",
       "left to right direction\r\n",
       "skinparam monochrome true\r\n",
       "skinparam classbackgroundcolor white\r\n",
       "skinparam shadowing false\r\n",
       "skinparam wrapWidth 300\r\n",
       "hide circle\r\n",
       "\r\n",
       "package \"Q\" as E1  [[psysml:de03711e-1ba4-461c-851a-9c9209031323 ]]  {\r\n",
       "comp usage \"f\" as E2  <<(T,blue)part>> [[psysml:b9260bcb-04ce-4f8f-94f7-4786232d6bfb ]] {\r\n",
       "}\r\n",
       "comp usage \"a\" as E3  <<(T,blue)part>> [[psysml:76fd413b-d5f3-4ecc-bac0-2db3dc6a9c5a ]] {\r\n",
       "}\r\n",
       "comp def \"C\" as E4  <<(T,blue)part def>> [[psysml:c1aefab3-4a15-416c-b89a-8b36fd883d33 ]] {\r\n",
       "}\r\n",
       "comp usage \"g\" as E5  <<(T,blue)part>> [[psysml:7432dd52-7523-413e-a125-d9cab4f86aea ]] {\r\n",
       "}\r\n",
       "E2 *- - E3 [[psysml:76fd413b-d5f3-4ecc-bac0-2db3dc6a9c5a ]] \r\n",
       "E4 *- - E5 [[psysml:7432dd52-7523-413e-a125-d9cab4f86aea ]] \r\n",
       "}\r\n",
       "@enduml\r\n",
       "\n",
       "PlantUML version 1.2020.13(Sat Jun 13 12:26:38 UTC 2020)\n",
       "(EPL source distribution)\n",
       "Java Runtime: OpenJDK Runtime Environment\n",
       "JVM: OpenJDK 64-Bit Server VM\n",
       "Default Encoding: UTF-8\n",
       "Language: en\n",
       "Country: null\n",
       "--></g></svg>"
      ]
     },
     "execution_count": 22,
     "metadata": {},
     "output_type": "execute_result"
    }
   ],
   "source": [
    "%viz --style=\"LR\" --view=\"MIXED\" \"Q\""
   ]
  },
  {
   "cell_type": "code",
   "execution_count": 23,
   "id": "fitted-chassis",
   "metadata": {
    "execution": {
     "iopub.execute_input": "2021-03-26T15:40:54.802135Z",
     "iopub.status.busy": "2021-03-26T15:40:54.801346Z",
     "iopub.status.idle": "2021-03-26T15:40:54.832513Z",
     "shell.execute_reply": "2021-03-26T15:40:54.831022Z"
    }
   },
   "outputs": [
    {
     "data": {
      "image/svg+xml": [
       "<?xml version=\"1.0\" encoding=\"UTF-8\" standalone=\"no\"?><svg xmlns=\"http://www.w3.org/2000/svg\" xmlns:xlink=\"http://www.w3.org/1999/xlink\" contentScriptType=\"application/ecmascript\" contentStyleType=\"text/css\" height=\"221px\" preserveAspectRatio=\"none\" style=\"width:213px;height:221px;\" version=\"1.1\" viewBox=\"0 0 213 221\" width=\"213px\" zoomAndPan=\"magnify\"><defs><filter height=\"300%\" id=\"fpaa9v4svl4lr\" width=\"300%\" x=\"-1\" y=\"-1\"><feGaussianBlur result=\"blurOut\" stdDeviation=\"2.0\"/><feColorMatrix in=\"blurOut\" result=\"blurOut2\" type=\"matrix\" values=\"0 0 0 0 0 0 0 0 0 0 0 0 0 0 0 0 0 0 .4 0\"/><feOffset dx=\"4.0\" dy=\"4.0\" in=\"blurOut2\" result=\"blurOut3\"/><feBlend in=\"SourceGraphic\" in2=\"blurOut3\" mode=\"normal\"/></filter></defs><g><!--MD5=[fbc87193dbaf4d95561dea2c320d4a47]\n",
       "cluster E1--><a href=\"psysml:de03711e-1ba4-461c-851a-9c9209031323\" target=\"_top\" title=\"psysml:de03711e-1ba4-461c-851a-9c9209031323\" xlink:actuate=\"onRequest\" xlink:href=\"psysml:de03711e-1ba4-461c-851a-9c9209031323\" xlink:show=\"new\" xlink:title=\"psysml:de03711e-1ba4-461c-851a-9c9209031323\" xlink:type=\"simple\"><polygon fill=\"#FFFFFF\" filter=\"url(#fpaa9v4svl4lr)\" points=\"16,6,34,6,41,28.2969,191,28.2969,191,209,16,209,16,6\" style=\"stroke: #000000; stroke-width: 1.5;\"/><line style=\"stroke: #000000; stroke-width: 1.5;\" x1=\"16\" x2=\"41\" y1=\"28.2969\" y2=\"28.2969\"/><text fill=\"#000000\" font-family=\"sans-serif\" font-size=\"14\" font-weight=\"bold\" lengthAdjust=\"spacingAndGlyphs\" textLength=\"12\" x=\"20\" y=\"20.9951\">Q</text></a><!--MD5=[b4997ac47864f28c2f74865a473b2911]\n",
       "class E2--><a href=\"psysml:b9260bcb-04ce-4f8f-94f7-4786232d6bfb\" target=\"_top\" title=\"psysml:b9260bcb-04ce-4f8f-94f7-4786232d6bfb\" xlink:actuate=\"onRequest\" xlink:href=\"psysml:b9260bcb-04ce-4f8f-94f7-4786232d6bfb\" xlink:show=\"new\" xlink:title=\"psysml:b9260bcb-04ce-4f8f-94f7-4786232d6bfb\" xlink:type=\"simple\"><rect fill=\"#FEFECE\" filter=\"url(#fpaa9v4svl4lr)\" height=\"45.9375\" id=\"E2\" rx=\"10\" ry=\"10\" style=\"stroke: #A80036; stroke-width: 1.5;\" width=\"42\" x=\"133\" y=\"41\"/><text fill=\"#000000\" font-family=\"sans-serif\" font-size=\"12\" font-style=\"italic\" lengthAdjust=\"spacingAndGlyphs\" textLength=\"40\" x=\"134\" y=\"57.1387\">«part»</text><text fill=\"#000000\" font-family=\"sans-serif\" font-size=\"12\" lengthAdjust=\"spacingAndGlyphs\" textLength=\"4\" x=\"152\" y=\"71.1074\">f</text><line style=\"stroke: #A80036; stroke-width: 1.5;\" x1=\"134\" x2=\"174\" y1=\"78.9375\" y2=\"78.9375\"/></a><!--MD5=[09b614a08d8cba4a07c9adeb5e0fee81]\n",
       "class E3--><a href=\"psysml:76fd413b-d5f3-4ecc-bac0-2db3dc6a9c5a\" target=\"_top\" title=\"psysml:76fd413b-d5f3-4ecc-bac0-2db3dc6a9c5a\" xlink:actuate=\"onRequest\" xlink:href=\"psysml:76fd413b-d5f3-4ecc-bac0-2db3dc6a9c5a\" xlink:show=\"new\" xlink:title=\"psysml:76fd413b-d5f3-4ecc-bac0-2db3dc6a9c5a\" xlink:type=\"simple\"><rect fill=\"#FEFECE\" filter=\"url(#fpaa9v4svl4lr)\" height=\"45.9375\" id=\"E3\" rx=\"10\" ry=\"10\" style=\"stroke: #A80036; stroke-width: 1.5;\" width=\"42\" x=\"133\" y=\"147\"/><text fill=\"#000000\" font-family=\"sans-serif\" font-size=\"12\" font-style=\"italic\" lengthAdjust=\"spacingAndGlyphs\" textLength=\"40\" x=\"134\" y=\"163.1387\">«part»</text><text fill=\"#000000\" font-family=\"sans-serif\" font-size=\"12\" lengthAdjust=\"spacingAndGlyphs\" textLength=\"8\" x=\"150\" y=\"177.1074\">a</text><line style=\"stroke: #A80036; stroke-width: 1.5;\" x1=\"134\" x2=\"174\" y1=\"184.9375\" y2=\"184.9375\"/></a><!--MD5=[ebbe1d658d1005bcc118a6aa81145e00]\n",
       "class E4--><a href=\"psysml:c1aefab3-4a15-416c-b89a-8b36fd883d33\" target=\"_top\" title=\"psysml:c1aefab3-4a15-416c-b89a-8b36fd883d33\" xlink:actuate=\"onRequest\" xlink:href=\"psysml:c1aefab3-4a15-416c-b89a-8b36fd883d33\" xlink:show=\"new\" xlink:title=\"psysml:c1aefab3-4a15-416c-b89a-8b36fd883d33\" xlink:type=\"simple\"><rect fill=\"#FEFECE\" filter=\"url(#fpaa9v4svl4lr)\" height=\"45.9375\" id=\"E4\" style=\"stroke: #A80036; stroke-width: 1.5;\" width=\"66\" x=\"32\" y=\"41\"/><text fill=\"#000000\" font-family=\"sans-serif\" font-size=\"12\" font-style=\"italic\" lengthAdjust=\"spacingAndGlyphs\" textLength=\"64\" x=\"33\" y=\"57.1387\">«part def»</text><text fill=\"#000000\" font-family=\"sans-serif\" font-size=\"12\" lengthAdjust=\"spacingAndGlyphs\" textLength=\"8\" x=\"61\" y=\"71.1074\">C</text><line style=\"stroke: #A80036; stroke-width: 1.5;\" x1=\"33\" x2=\"97\" y1=\"78.9375\" y2=\"78.9375\"/></a><!--MD5=[270fce915f116d4de14055a7c1d9a0f3]\n",
       "class E5--><a href=\"psysml:7432dd52-7523-413e-a125-d9cab4f86aea\" target=\"_top\" title=\"psysml:7432dd52-7523-413e-a125-d9cab4f86aea\" xlink:actuate=\"onRequest\" xlink:href=\"psysml:7432dd52-7523-413e-a125-d9cab4f86aea\" xlink:show=\"new\" xlink:title=\"psysml:7432dd52-7523-413e-a125-d9cab4f86aea\" xlink:type=\"simple\"><rect fill=\"#FEFECE\" filter=\"url(#fpaa9v4svl4lr)\" height=\"45.9375\" id=\"E5\" rx=\"10\" ry=\"10\" style=\"stroke: #A80036; stroke-width: 1.5;\" width=\"42\" x=\"44\" y=\"147\"/><text fill=\"#000000\" font-family=\"sans-serif\" font-size=\"12\" font-style=\"italic\" lengthAdjust=\"spacingAndGlyphs\" textLength=\"40\" x=\"45\" y=\"163.1387\">«part»</text><text fill=\"#000000\" font-family=\"sans-serif\" font-size=\"12\" lengthAdjust=\"spacingAndGlyphs\" textLength=\"8\" x=\"61\" y=\"177.1074\">g</text><line style=\"stroke: #A80036; stroke-width: 1.5;\" x1=\"45\" x2=\"85\" y1=\"184.9375\" y2=\"184.9375\"/></a><!--MD5=[209b3feb70ccb6233bfe1053d122c12c]\n",
       "reverse link E2 to E3--><a href=\"psysml:76fd413b-d5f3-4ecc-bac0-2db3dc6a9c5a\" target=\"_top\" title=\"psysml:76fd413b-d5f3-4ecc-bac0-2db3dc6a9c5a\" xlink:actuate=\"onRequest\" xlink:href=\"psysml:76fd413b-d5f3-4ecc-bac0-2db3dc6a9c5a\" xlink:show=\"new\" xlink:title=\"psysml:76fd413b-d5f3-4ecc-bac0-2db3dc6a9c5a\" xlink:type=\"simple\"><path d=\"M154,100.44 C154,115.87 154,133.47 154,146.98 \" fill=\"none\" id=\"E2&lt;-E3\" style=\"stroke: #A80036; stroke-width: 1.0;\"/><polygon fill=\"#A80036\" points=\"154,87.06,150,93.06,154,99.06,158,93.06,154,87.06\" style=\"stroke: #A80036; stroke-width: 1.0;\"/></a><!--MD5=[62aa6af11e70f752912c1cb0466f24f7]\n",
       "reverse link E4 to E5--><a href=\"psysml:7432dd52-7523-413e-a125-d9cab4f86aea\" target=\"_top\" title=\"psysml:7432dd52-7523-413e-a125-d9cab4f86aea\" xlink:actuate=\"onRequest\" xlink:href=\"psysml:7432dd52-7523-413e-a125-d9cab4f86aea\" xlink:show=\"new\" xlink:title=\"psysml:7432dd52-7523-413e-a125-d9cab4f86aea\" xlink:type=\"simple\"><path d=\"M65,100.44 C65,115.87 65,133.47 65,146.98 \" fill=\"none\" id=\"E4&lt;-E5\" style=\"stroke: #A80036; stroke-width: 1.0;\"/><polygon fill=\"#A80036\" points=\"65,87.06,61,93.06,65,99.06,69,93.06,65,87.06\" style=\"stroke: #A80036; stroke-width: 1.0;\"/></a><!--MD5=[760f8d7871c006db4fd0b086073892a3]\n",
       "@startuml\r\n",
       "skinparam wrapWidth 300\r\n",
       "hide circle\r\n",
       "\r\n",
       "package \"Q\" as E1  [[psysml:de03711e-1ba4-461c-851a-9c9209031323 ]]  {\r\n",
       "comp usage \"f\" as E2  <<(T,blue)part>> [[psysml:b9260bcb-04ce-4f8f-94f7-4786232d6bfb ]] {\r\n",
       "}\r\n",
       "comp usage \"a\" as E3  <<(T,blue)part>> [[psysml:76fd413b-d5f3-4ecc-bac0-2db3dc6a9c5a ]] {\r\n",
       "}\r\n",
       "comp def \"C\" as E4  <<(T,blue)part def>> [[psysml:c1aefab3-4a15-416c-b89a-8b36fd883d33 ]] {\r\n",
       "}\r\n",
       "comp usage \"g\" as E5  <<(T,blue)part>> [[psysml:7432dd52-7523-413e-a125-d9cab4f86aea ]] {\r\n",
       "}\r\n",
       "E2 *- - E3 [[psysml:76fd413b-d5f3-4ecc-bac0-2db3dc6a9c5a ]] \r\n",
       "E4 *- - E5 [[psysml:7432dd52-7523-413e-a125-d9cab4f86aea ]] \r\n",
       "}\r\n",
       "@enduml\r\n",
       "\n",
       "PlantUML version 1.2020.13(Sat Jun 13 12:26:38 UTC 2020)\n",
       "(EPL source distribution)\n",
       "Java Runtime: OpenJDK Runtime Environment\n",
       "JVM: OpenJDK 64-Bit Server VM\n",
       "Default Encoding: UTF-8\n",
       "Language: en\n",
       "Country: null\n",
       "--></g></svg>"
      ]
     },
     "execution_count": 23,
     "metadata": {},
     "output_type": "execute_result"
    }
   ],
   "source": [
    "%viz --style=\"STDCOLOR\" --view=\"Default\" \"Q\""
   ]
  },
  {
   "cell_type": "code",
   "execution_count": 24,
   "id": "lucky-drama",
   "metadata": {
    "execution": {
     "iopub.execute_input": "2021-03-26T15:40:54.884424Z",
     "iopub.status.busy": "2021-03-26T15:40:54.883585Z",
     "iopub.status.idle": "2021-03-26T15:40:54.913397Z",
     "shell.execute_reply": "2021-03-26T15:40:54.911974Z"
    }
   },
   "outputs": [
    {
     "data": {
      "image/svg+xml": [
       "<?xml version=\"1.0\" encoding=\"UTF-8\" standalone=\"no\"?><svg xmlns=\"http://www.w3.org/2000/svg\" xmlns:xlink=\"http://www.w3.org/1999/xlink\" contentScriptType=\"application/ecmascript\" contentStyleType=\"text/css\" height=\"221px\" preserveAspectRatio=\"none\" style=\"width:213px;height:221px;\" version=\"1.1\" viewBox=\"0 0 213 221\" width=\"213px\" zoomAndPan=\"magnify\"><defs><filter height=\"300%\" id=\"fpaa9v4svl4lr\" width=\"300%\" x=\"-1\" y=\"-1\"><feGaussianBlur result=\"blurOut\" stdDeviation=\"2.0\"/><feColorMatrix in=\"blurOut\" result=\"blurOut2\" type=\"matrix\" values=\"0 0 0 0 0 0 0 0 0 0 0 0 0 0 0 0 0 0 .4 0\"/><feOffset dx=\"4.0\" dy=\"4.0\" in=\"blurOut2\" result=\"blurOut3\"/><feBlend in=\"SourceGraphic\" in2=\"blurOut3\" mode=\"normal\"/></filter></defs><g><!--MD5=[fbc87193dbaf4d95561dea2c320d4a47]\n",
       "cluster E1--><a href=\"psysml:de03711e-1ba4-461c-851a-9c9209031323\" target=\"_top\" title=\"psysml:de03711e-1ba4-461c-851a-9c9209031323\" xlink:actuate=\"onRequest\" xlink:href=\"psysml:de03711e-1ba4-461c-851a-9c9209031323\" xlink:show=\"new\" xlink:title=\"psysml:de03711e-1ba4-461c-851a-9c9209031323\" xlink:type=\"simple\"><polygon fill=\"#FFFFFF\" filter=\"url(#fpaa9v4svl4lr)\" points=\"16,6,34,6,41,28.2969,191,28.2969,191,209,16,209,16,6\" style=\"stroke: #000000; stroke-width: 1.5;\"/><line style=\"stroke: #000000; stroke-width: 1.5;\" x1=\"16\" x2=\"41\" y1=\"28.2969\" y2=\"28.2969\"/><text fill=\"#000000\" font-family=\"sans-serif\" font-size=\"14\" font-weight=\"bold\" lengthAdjust=\"spacingAndGlyphs\" textLength=\"12\" x=\"20\" y=\"20.9951\">Q</text></a><!--MD5=[b4997ac47864f28c2f74865a473b2911]\n",
       "class E2--><a href=\"psysml:b9260bcb-04ce-4f8f-94f7-4786232d6bfb\" target=\"_top\" title=\"psysml:b9260bcb-04ce-4f8f-94f7-4786232d6bfb\" xlink:actuate=\"onRequest\" xlink:href=\"psysml:b9260bcb-04ce-4f8f-94f7-4786232d6bfb\" xlink:show=\"new\" xlink:title=\"psysml:b9260bcb-04ce-4f8f-94f7-4786232d6bfb\" xlink:type=\"simple\"><rect fill=\"#FEFECE\" filter=\"url(#fpaa9v4svl4lr)\" height=\"45.9375\" id=\"E2\" rx=\"10\" ry=\"10\" style=\"stroke: #A80036; stroke-width: 1.5;\" width=\"42\" x=\"133\" y=\"41\"/><text fill=\"#000000\" font-family=\"sans-serif\" font-size=\"12\" font-style=\"italic\" lengthAdjust=\"spacingAndGlyphs\" textLength=\"40\" x=\"134\" y=\"57.1387\">«part»</text><text fill=\"#000000\" font-family=\"sans-serif\" font-size=\"12\" lengthAdjust=\"spacingAndGlyphs\" textLength=\"4\" x=\"152\" y=\"71.1074\">f</text><line style=\"stroke: #A80036; stroke-width: 1.5;\" x1=\"134\" x2=\"174\" y1=\"78.9375\" y2=\"78.9375\"/></a><!--MD5=[09b614a08d8cba4a07c9adeb5e0fee81]\n",
       "class E3--><a href=\"psysml:76fd413b-d5f3-4ecc-bac0-2db3dc6a9c5a\" target=\"_top\" title=\"psysml:76fd413b-d5f3-4ecc-bac0-2db3dc6a9c5a\" xlink:actuate=\"onRequest\" xlink:href=\"psysml:76fd413b-d5f3-4ecc-bac0-2db3dc6a9c5a\" xlink:show=\"new\" xlink:title=\"psysml:76fd413b-d5f3-4ecc-bac0-2db3dc6a9c5a\" xlink:type=\"simple\"><rect fill=\"#FEFECE\" filter=\"url(#fpaa9v4svl4lr)\" height=\"45.9375\" id=\"E3\" rx=\"10\" ry=\"10\" style=\"stroke: #A80036; stroke-width: 1.5;\" width=\"42\" x=\"133\" y=\"147\"/><text fill=\"#000000\" font-family=\"sans-serif\" font-size=\"12\" font-style=\"italic\" lengthAdjust=\"spacingAndGlyphs\" textLength=\"40\" x=\"134\" y=\"163.1387\">«part»</text><text fill=\"#000000\" font-family=\"sans-serif\" font-size=\"12\" lengthAdjust=\"spacingAndGlyphs\" textLength=\"8\" x=\"150\" y=\"177.1074\">a</text><line style=\"stroke: #A80036; stroke-width: 1.5;\" x1=\"134\" x2=\"174\" y1=\"184.9375\" y2=\"184.9375\"/></a><!--MD5=[ebbe1d658d1005bcc118a6aa81145e00]\n",
       "class E4--><a href=\"psysml:c1aefab3-4a15-416c-b89a-8b36fd883d33\" target=\"_top\" title=\"psysml:c1aefab3-4a15-416c-b89a-8b36fd883d33\" xlink:actuate=\"onRequest\" xlink:href=\"psysml:c1aefab3-4a15-416c-b89a-8b36fd883d33\" xlink:show=\"new\" xlink:title=\"psysml:c1aefab3-4a15-416c-b89a-8b36fd883d33\" xlink:type=\"simple\"><rect fill=\"#FEFECE\" filter=\"url(#fpaa9v4svl4lr)\" height=\"45.9375\" id=\"E4\" style=\"stroke: #A80036; stroke-width: 1.5;\" width=\"66\" x=\"32\" y=\"41\"/><text fill=\"#000000\" font-family=\"sans-serif\" font-size=\"12\" font-style=\"italic\" lengthAdjust=\"spacingAndGlyphs\" textLength=\"64\" x=\"33\" y=\"57.1387\">«part def»</text><text fill=\"#000000\" font-family=\"sans-serif\" font-size=\"12\" lengthAdjust=\"spacingAndGlyphs\" textLength=\"8\" x=\"61\" y=\"71.1074\">C</text><line style=\"stroke: #A80036; stroke-width: 1.5;\" x1=\"33\" x2=\"97\" y1=\"78.9375\" y2=\"78.9375\"/></a><!--MD5=[270fce915f116d4de14055a7c1d9a0f3]\n",
       "class E5--><a href=\"psysml:7432dd52-7523-413e-a125-d9cab4f86aea\" target=\"_top\" title=\"psysml:7432dd52-7523-413e-a125-d9cab4f86aea\" xlink:actuate=\"onRequest\" xlink:href=\"psysml:7432dd52-7523-413e-a125-d9cab4f86aea\" xlink:show=\"new\" xlink:title=\"psysml:7432dd52-7523-413e-a125-d9cab4f86aea\" xlink:type=\"simple\"><rect fill=\"#FEFECE\" filter=\"url(#fpaa9v4svl4lr)\" height=\"45.9375\" id=\"E5\" rx=\"10\" ry=\"10\" style=\"stroke: #A80036; stroke-width: 1.5;\" width=\"42\" x=\"44\" y=\"147\"/><text fill=\"#000000\" font-family=\"sans-serif\" font-size=\"12\" font-style=\"italic\" lengthAdjust=\"spacingAndGlyphs\" textLength=\"40\" x=\"45\" y=\"163.1387\">«part»</text><text fill=\"#000000\" font-family=\"sans-serif\" font-size=\"12\" lengthAdjust=\"spacingAndGlyphs\" textLength=\"8\" x=\"61\" y=\"177.1074\">g</text><line style=\"stroke: #A80036; stroke-width: 1.5;\" x1=\"45\" x2=\"85\" y1=\"184.9375\" y2=\"184.9375\"/></a><!--MD5=[209b3feb70ccb6233bfe1053d122c12c]\n",
       "reverse link E2 to E3--><a href=\"psysml:76fd413b-d5f3-4ecc-bac0-2db3dc6a9c5a\" target=\"_top\" title=\"psysml:76fd413b-d5f3-4ecc-bac0-2db3dc6a9c5a\" xlink:actuate=\"onRequest\" xlink:href=\"psysml:76fd413b-d5f3-4ecc-bac0-2db3dc6a9c5a\" xlink:show=\"new\" xlink:title=\"psysml:76fd413b-d5f3-4ecc-bac0-2db3dc6a9c5a\" xlink:type=\"simple\"><path d=\"M154,100.44 C154,115.87 154,133.47 154,146.98 \" fill=\"none\" id=\"E2&lt;-E3\" style=\"stroke: #A80036; stroke-width: 1.0;\"/><polygon fill=\"#A80036\" points=\"154,87.06,150,93.06,154,99.06,158,93.06,154,87.06\" style=\"stroke: #A80036; stroke-width: 1.0;\"/></a><!--MD5=[62aa6af11e70f752912c1cb0466f24f7]\n",
       "reverse link E4 to E5--><a href=\"psysml:7432dd52-7523-413e-a125-d9cab4f86aea\" target=\"_top\" title=\"psysml:7432dd52-7523-413e-a125-d9cab4f86aea\" xlink:actuate=\"onRequest\" xlink:href=\"psysml:7432dd52-7523-413e-a125-d9cab4f86aea\" xlink:show=\"new\" xlink:title=\"psysml:7432dd52-7523-413e-a125-d9cab4f86aea\" xlink:type=\"simple\"><path d=\"M65,100.44 C65,115.87 65,133.47 65,146.98 \" fill=\"none\" id=\"E4&lt;-E5\" style=\"stroke: #A80036; stroke-width: 1.0;\"/><polygon fill=\"#A80036\" points=\"65,87.06,61,93.06,65,99.06,69,93.06,65,87.06\" style=\"stroke: #A80036; stroke-width: 1.0;\"/></a><!--MD5=[760f8d7871c006db4fd0b086073892a3]\n",
       "@startuml\r\n",
       "skinparam wrapWidth 300\r\n",
       "hide circle\r\n",
       "\r\n",
       "package \"Q\" as E1  [[psysml:de03711e-1ba4-461c-851a-9c9209031323 ]]  {\r\n",
       "comp usage \"f\" as E2  <<(T,blue)part>> [[psysml:b9260bcb-04ce-4f8f-94f7-4786232d6bfb ]] {\r\n",
       "}\r\n",
       "comp usage \"a\" as E3  <<(T,blue)part>> [[psysml:76fd413b-d5f3-4ecc-bac0-2db3dc6a9c5a ]] {\r\n",
       "}\r\n",
       "comp def \"C\" as E4  <<(T,blue)part def>> [[psysml:c1aefab3-4a15-416c-b89a-8b36fd883d33 ]] {\r\n",
       "}\r\n",
       "comp usage \"g\" as E5  <<(T,blue)part>> [[psysml:7432dd52-7523-413e-a125-d9cab4f86aea ]] {\r\n",
       "}\r\n",
       "E2 *- - E3 [[psysml:76fd413b-d5f3-4ecc-bac0-2db3dc6a9c5a ]] \r\n",
       "E4 *- - E5 [[psysml:7432dd52-7523-413e-a125-d9cab4f86aea ]] \r\n",
       "}\r\n",
       "@enduml\r\n",
       "\n",
       "PlantUML version 1.2020.13(Sat Jun 13 12:26:38 UTC 2020)\n",
       "(EPL source distribution)\n",
       "Java Runtime: OpenJDK Runtime Environment\n",
       "JVM: OpenJDK 64-Bit Server VM\n",
       "Default Encoding: UTF-8\n",
       "Language: en\n",
       "Country: null\n",
       "--></g></svg>"
      ]
     },
     "execution_count": 24,
     "metadata": {},
     "output_type": "execute_result"
    }
   ],
   "source": [
    "%viz --style=\"STDCOLOR\" --view=\"Tree\" \"Q\""
   ]
  },
  {
   "cell_type": "code",
   "execution_count": 25,
   "id": "local-alabama",
   "metadata": {
    "execution": {
     "iopub.execute_input": "2021-03-26T15:40:54.966831Z",
     "iopub.status.busy": "2021-03-26T15:40:54.965455Z",
     "iopub.status.idle": "2021-03-26T15:40:54.974230Z",
     "shell.execute_reply": "2021-03-26T15:40:54.973397Z"
    }
   },
   "outputs": [
    {
     "data": {
      "image/svg+xml": [
       "<?xml version=\"1.0\" encoding=\"UTF-8\" standalone=\"no\"?><svg xmlns=\"http://www.w3.org/2000/svg\" xmlns:xlink=\"http://www.w3.org/1999/xlink\" contentScriptType=\"application/ecmascript\" contentStyleType=\"text/css\" height=\"12px\" preserveAspectRatio=\"none\" style=\"width:12px;height:12px;\" version=\"1.1\" viewBox=\"0 0 12 12\" width=\"12px\" zoomAndPan=\"magnify\"><defs/><g><!--MD5=[aeeef50f102b80d730deb6443d14f702]\n",
       "@startuml\r\n",
       "skinparam wrapWidth 300\r\n",
       "hide circle\r\n",
       "\r\n",
       "@enduml\r\n",
       "\n",
       "PlantUML version 1.2020.13(Sat Jun 13 12:26:38 UTC 2020)\n",
       "(EPL source distribution)\n",
       "Java Runtime: OpenJDK Runtime Environment\n",
       "JVM: OpenJDK 64-Bit Server VM\n",
       "Default Encoding: UTF-8\n",
       "Language: en\n",
       "Country: null\n",
       "--></g></svg>"
      ]
     },
     "execution_count": 25,
     "metadata": {},
     "output_type": "execute_result"
    }
   ],
   "source": [
    "%viz --style=\"STDCOLOR\" --view=\"State\" \"Q\""
   ]
  },
  {
   "cell_type": "code",
   "execution_count": 26,
   "id": "underlying-glenn",
   "metadata": {
    "execution": {
     "iopub.execute_input": "2021-03-26T15:40:55.028199Z",
     "iopub.status.busy": "2021-03-26T15:40:55.027446Z",
     "iopub.status.idle": "2021-03-26T15:40:55.065219Z",
     "shell.execute_reply": "2021-03-26T15:40:55.064912Z"
    }
   },
   "outputs": [
    {
     "data": {
      "image/svg+xml": [
       "<?xml version=\"1.0\" encoding=\"UTF-8\" standalone=\"no\"?><svg xmlns=\"http://www.w3.org/2000/svg\" xmlns:xlink=\"http://www.w3.org/1999/xlink\" contentScriptType=\"application/ecmascript\" contentStyleType=\"text/css\" height=\"192px\" preserveAspectRatio=\"none\" style=\"width:286px;height:192px;\" version=\"1.1\" viewBox=\"0 0 286 192\" width=\"286px\" zoomAndPan=\"magnify\"><defs><filter height=\"300%\" id=\"f1v9o11426pq4w\" width=\"300%\" x=\"-1\" y=\"-1\"><feGaussianBlur result=\"blurOut\" stdDeviation=\"2.0\"/><feColorMatrix in=\"blurOut\" result=\"blurOut2\" type=\"matrix\" values=\"0 0 0 0 0 0 0 0 0 0 0 0 0 0 0 0 0 0 .4 0\"/><feOffset dx=\"4.0\" dy=\"4.0\" in=\"blurOut2\" result=\"blurOut3\"/><feBlend in=\"SourceGraphic\" in2=\"blurOut3\" mode=\"normal\"/></filter></defs><g><!--MD5=[fbc87193dbaf4d95561dea2c320d4a47]\n",
       "cluster E1--><a href=\"psysml:de03711e-1ba4-461c-851a-9c9209031323\" target=\"_top\" title=\"psysml:de03711e-1ba4-461c-851a-9c9209031323\" xlink:actuate=\"onRequest\" xlink:href=\"psysml:de03711e-1ba4-461c-851a-9c9209031323\" xlink:show=\"new\" xlink:title=\"psysml:de03711e-1ba4-461c-851a-9c9209031323\" xlink:type=\"simple\"><polygon fill=\"#FFFFFF\" filter=\"url(#f1v9o11426pq4w)\" points=\"16,6,34,6,41,28.2969,264,28.2969,264,180,16,180,16,6\" style=\"stroke: #000000; stroke-width: 1.5;\"/><line style=\"stroke: #000000; stroke-width: 1.5;\" x1=\"16\" x2=\"41\" y1=\"28.2969\" y2=\"28.2969\"/><text fill=\"#000000\" font-family=\"sans-serif\" font-size=\"14\" font-weight=\"bold\" lengthAdjust=\"spacingAndGlyphs\" textLength=\"12\" x=\"20\" y=\"20.9951\">Q</text></a><!--MD5=[e4f7fae6ed58524ba242bb0b0d3be6b7]\n",
       "cluster E2--><a href=\"psysml:b9260bcb-04ce-4f8f-94f7-4786232d6bfb\" target=\"_top\" title=\"psysml:b9260bcb-04ce-4f8f-94f7-4786232d6bfb\" xlink:actuate=\"onRequest\" xlink:href=\"psysml:b9260bcb-04ce-4f8f-94f7-4786232d6bfb\" xlink:show=\"new\" xlink:title=\"psysml:b9260bcb-04ce-4f8f-94f7-4786232d6bfb\" xlink:type=\"simple\"><rect fill=\"#FFFFFF\" filter=\"url(#f1v9o11426pq4w)\" height=\"91\" id=\"E2\" rx=\"10\" ry=\"10\" style=\"stroke: #A80036; stroke-width: 1.5;\" width=\"82\" x=\"158\" y=\"65\"/><rect fill=\"#FEFECE\" height=\"23.9688\" rx=\"10\" ry=\"10\" style=\"stroke: #FEFECE; stroke-width: 1.5;\" width=\"82\" x=\"158\" y=\"65\"/><rect fill=\"#FEFECE\" height=\"10\" style=\"stroke: #FEFECE; stroke-width: 1.5;\" width=\"82\" x=\"158\" y=\"78.9688\"/><rect fill=\"none\" height=\"91\" id=\"E2\" rx=\"10\" ry=\"10\" style=\"stroke: #A80036; stroke-width: 1.5;\" width=\"82\" x=\"158\" y=\"65\"/><text fill=\"#000000\" font-family=\"sans-serif\" font-size=\"12\" lengthAdjust=\"spacingAndGlyphs\" textLength=\"4\" x=\"197\" y=\"81.1387\">f</text><line style=\"stroke: #A80036; stroke-width: 1.0;\" x1=\"158\" x2=\"240\" y1=\"88.9688\" y2=\"88.9688\"/></a><!--MD5=[f6df4d0ebaf0b5dfb2ced0ae5af7c670]\n",
       "cluster E4--><a href=\"psysml:c1aefab3-4a15-416c-b89a-8b36fd883d33\" target=\"_top\" title=\"psysml:c1aefab3-4a15-416c-b89a-8b36fd883d33\" xlink:actuate=\"onRequest\" xlink:href=\"psysml:c1aefab3-4a15-416c-b89a-8b36fd883d33\" xlink:show=\"new\" xlink:title=\"psysml:c1aefab3-4a15-416c-b89a-8b36fd883d33\" xlink:type=\"simple\"><rect fill=\"#FFFFFF\" filter=\"url(#f1v9o11426pq4w)\" height=\"107\" id=\"E4\" style=\"stroke: #A80036; stroke-width: 1.5;\" width=\"94\" x=\"40\" y=\"49\"/><rect fill=\"#FEFECE\" height=\"37.9375\" style=\"stroke: #A80036; stroke-width: 1.5;\" width=\"94\" x=\"40\" y=\"49\"/><text fill=\"#000000\" font-family=\"sans-serif\" font-size=\"12\" font-style=\"italic\" lengthAdjust=\"spacingAndGlyphs\" textLength=\"64\" x=\"55\" y=\"65.1387\">«part def»</text><text fill=\"#000000\" font-family=\"sans-serif\" font-size=\"12\" lengthAdjust=\"spacingAndGlyphs\" textLength=\"8\" x=\"83\" y=\"79.1074\">C</text></a><g id=\"E1.E2.E3\"><a href=\"psysml:76fd413b-d5f3-4ecc-bac0-2db3dc6a9c5a\" target=\"_top\" title=\"psysml:76fd413b-d5f3-4ecc-bac0-2db3dc6a9c5a\" xlink:actuate=\"onRequest\" xlink:href=\"psysml:76fd413b-d5f3-4ecc-bac0-2db3dc6a9c5a\" xlink:show=\"new\" xlink:title=\"psysml:76fd413b-d5f3-4ecc-bac0-2db3dc6a9c5a\" xlink:type=\"simple\"><rect fill=\"#FEFECE\" filter=\"url(#f1v9o11426pq4w)\" height=\"40\" id=\"E3\" rx=\"10\" ry=\"10\" style=\"stroke: #A80036; stroke-width: 1.5;\" width=\"50\" x=\"174\" y=\"100\"/><text fill=\"#000000\" font-family=\"sans-serif\" font-size=\"12\" lengthAdjust=\"spacingAndGlyphs\" textLength=\"8\" x=\"195\" y=\"116.1387\">a</text></a></g><g id=\"E1.E4.E5\"><a href=\"psysml:7432dd52-7523-413e-a125-d9cab4f86aea\" target=\"_top\" title=\"psysml:7432dd52-7523-413e-a125-d9cab4f86aea\" xlink:actuate=\"onRequest\" xlink:href=\"psysml:7432dd52-7523-413e-a125-d9cab4f86aea\" xlink:show=\"new\" xlink:title=\"psysml:7432dd52-7523-413e-a125-d9cab4f86aea\" xlink:type=\"simple\"><rect fill=\"#FEFECE\" filter=\"url(#f1v9o11426pq4w)\" height=\"40\" id=\"E5\" rx=\"10\" ry=\"10\" style=\"stroke: #A80036; stroke-width: 1.5;\" width=\"61\" x=\"56.5\" y=\"100\"/><text fill=\"#000000\" font-family=\"sans-serif\" font-size=\"12\" lengthAdjust=\"spacingAndGlyphs\" textLength=\"46\" x=\"62\" y=\"116.1387\">g=./f/a;</text></a></g><!--MD5=[8d71724b860d23526ffba88ba40bd298]\n",
       "@startuml\r\n",
       "skinparam ranksep 10\r\n",
       "skinparam rectangle {\r\n",
       " backgroundColor<<block>> LightGreen\r\n",
       "}\r\n",
       "skinparam wrapWidth 300\r\n",
       "hide circle\r\n",
       "\r\n",
       "package \"Q\" as E1  [[psysml:de03711e-1ba4-461c-851a-9c9209031323 ]]  {\r\n",
       "rec usage \"f\" as E2  [[psysml:b9260bcb-04ce-4f8f-94f7-4786232d6bfb ]] {\r\n",
       "rec usage \"a\" as E3  [[psysml:76fd413b-d5f3-4ecc-bac0-2db3dc6a9c5a ]] {\r\n",
       "}\r\n",
       "}\r\n",
       "rec def \"C\" as E4  <<(T,blue)part def>> [[psysml:c1aefab3-4a15-416c-b89a-8b36fd883d33 ]] {\r\n",
       "rec usage \"g=./f/a; \" as E5  [[psysml:7432dd52-7523-413e-a125-d9cab4f86aea ]] {\r\n",
       "}\r\n",
       "}\r\n",
       "}\r\n",
       "@enduml\r\n",
       "\n",
       "PlantUML version 1.2020.13(Sat Jun 13 12:26:38 UTC 2020)\n",
       "(EPL source distribution)\n",
       "Java Runtime: OpenJDK Runtime Environment\n",
       "JVM: OpenJDK 64-Bit Server VM\n",
       "Default Encoding: UTF-8\n",
       "Language: en\n",
       "Country: null\n",
       "--></g></svg>"
      ]
     },
     "execution_count": 26,
     "metadata": {},
     "output_type": "execute_result"
    }
   ],
   "source": [
    "%viz --style=\"STDCOLOR\" --view=\"Interconnection\" \"Q\""
   ]
  },
  {
   "cell_type": "code",
   "execution_count": 27,
   "id": "judicial-certificate",
   "metadata": {
    "execution": {
     "iopub.execute_input": "2021-03-26T15:40:55.117139Z",
     "iopub.status.busy": "2021-03-26T15:40:55.116809Z",
     "iopub.status.idle": "2021-03-26T15:40:55.121086Z",
     "shell.execute_reply": "2021-03-26T15:40:55.120739Z"
    }
   },
   "outputs": [
    {
     "data": {
      "image/svg+xml": [
       "<?xml version=\"1.0\" encoding=\"UTF-8\" standalone=\"no\"?><svg xmlns=\"http://www.w3.org/2000/svg\" xmlns:xlink=\"http://www.w3.org/1999/xlink\" contentScriptType=\"application/ecmascript\" contentStyleType=\"text/css\" height=\"12px\" preserveAspectRatio=\"none\" style=\"width:12px;height:12px;\" version=\"1.1\" viewBox=\"0 0 12 12\" width=\"12px\" zoomAndPan=\"magnify\"><defs/><g><!--MD5=[9863325348a96a77dacc89509d8ee65e]\n",
       "@startuml\r\n",
       "skinparam ranksep 8\r\n",
       "skinparam wrapWidth 300\r\n",
       "hide circle\r\n",
       "\r\n",
       "@enduml\r\n",
       "\n",
       "PlantUML version 1.2020.13(Sat Jun 13 12:26:38 UTC 2020)\n",
       "(EPL source distribution)\n",
       "Java Runtime: OpenJDK Runtime Environment\n",
       "JVM: OpenJDK 64-Bit Server VM\n",
       "Default Encoding: UTF-8\n",
       "Language: en\n",
       "Country: null\n",
       "--></g></svg>"
      ]
     },
     "execution_count": 27,
     "metadata": {},
     "output_type": "execute_result"
    }
   ],
   "source": [
    "%viz --style=\"STDCOLOR\" --view=\"Action\" \"Q\""
   ]
  },
  {
   "cell_type": "code",
   "execution_count": 28,
   "id": "controversial-repair",
   "metadata": {
    "execution": {
     "iopub.execute_input": "2021-03-26T15:40:55.174302Z",
     "iopub.status.busy": "2021-03-26T15:40:55.173471Z",
     "iopub.status.idle": "2021-03-26T15:40:55.205367Z",
     "shell.execute_reply": "2021-03-26T15:40:55.205085Z"
    }
   },
   "outputs": [
    {
     "data": {
      "image/svg+xml": [
       "<?xml version=\"1.0\" encoding=\"UTF-8\" standalone=\"no\"?><svg xmlns=\"http://www.w3.org/2000/svg\" xmlns:xlink=\"http://www.w3.org/1999/xlink\" contentScriptType=\"application/ecmascript\" contentStyleType=\"text/css\" height=\"221px\" preserveAspectRatio=\"none\" style=\"width:213px;height:221px;\" version=\"1.1\" viewBox=\"0 0 213 221\" width=\"213px\" zoomAndPan=\"magnify\"><defs><filter height=\"300%\" id=\"fpaa9v4svl4lr\" width=\"300%\" x=\"-1\" y=\"-1\"><feGaussianBlur result=\"blurOut\" stdDeviation=\"2.0\"/><feColorMatrix in=\"blurOut\" result=\"blurOut2\" type=\"matrix\" values=\"0 0 0 0 0 0 0 0 0 0 0 0 0 0 0 0 0 0 .4 0\"/><feOffset dx=\"4.0\" dy=\"4.0\" in=\"blurOut2\" result=\"blurOut3\"/><feBlend in=\"SourceGraphic\" in2=\"blurOut3\" mode=\"normal\"/></filter></defs><g><!--MD5=[fbc87193dbaf4d95561dea2c320d4a47]\n",
       "cluster E1--><a href=\"psysml:de03711e-1ba4-461c-851a-9c9209031323\" target=\"_top\" title=\"psysml:de03711e-1ba4-461c-851a-9c9209031323\" xlink:actuate=\"onRequest\" xlink:href=\"psysml:de03711e-1ba4-461c-851a-9c9209031323\" xlink:show=\"new\" xlink:title=\"psysml:de03711e-1ba4-461c-851a-9c9209031323\" xlink:type=\"simple\"><polygon fill=\"#FFFFFF\" filter=\"url(#fpaa9v4svl4lr)\" points=\"16,6,34,6,41,28.2969,191,28.2969,191,209,16,209,16,6\" style=\"stroke: #000000; stroke-width: 1.5;\"/><line style=\"stroke: #000000; stroke-width: 1.5;\" x1=\"16\" x2=\"41\" y1=\"28.2969\" y2=\"28.2969\"/><text fill=\"#000000\" font-family=\"sans-serif\" font-size=\"14\" font-weight=\"bold\" lengthAdjust=\"spacingAndGlyphs\" textLength=\"12\" x=\"20\" y=\"20.9951\">Q</text></a><!--MD5=[b4997ac47864f28c2f74865a473b2911]\n",
       "class E2--><a href=\"psysml:b9260bcb-04ce-4f8f-94f7-4786232d6bfb\" target=\"_top\" title=\"psysml:b9260bcb-04ce-4f8f-94f7-4786232d6bfb\" xlink:actuate=\"onRequest\" xlink:href=\"psysml:b9260bcb-04ce-4f8f-94f7-4786232d6bfb\" xlink:show=\"new\" xlink:title=\"psysml:b9260bcb-04ce-4f8f-94f7-4786232d6bfb\" xlink:type=\"simple\"><rect fill=\"#FEFECE\" filter=\"url(#fpaa9v4svl4lr)\" height=\"45.9375\" id=\"E2\" rx=\"10\" ry=\"10\" style=\"stroke: #A80036; stroke-width: 1.5;\" width=\"42\" x=\"133\" y=\"41\"/><text fill=\"#000000\" font-family=\"sans-serif\" font-size=\"12\" font-style=\"italic\" lengthAdjust=\"spacingAndGlyphs\" textLength=\"40\" x=\"134\" y=\"57.1387\">«part»</text><text fill=\"#000000\" font-family=\"sans-serif\" font-size=\"12\" lengthAdjust=\"spacingAndGlyphs\" textLength=\"4\" x=\"152\" y=\"71.1074\">f</text><line style=\"stroke: #A80036; stroke-width: 1.5;\" x1=\"134\" x2=\"174\" y1=\"78.9375\" y2=\"78.9375\"/></a><!--MD5=[09b614a08d8cba4a07c9adeb5e0fee81]\n",
       "class E3--><a href=\"psysml:76fd413b-d5f3-4ecc-bac0-2db3dc6a9c5a\" target=\"_top\" title=\"psysml:76fd413b-d5f3-4ecc-bac0-2db3dc6a9c5a\" xlink:actuate=\"onRequest\" xlink:href=\"psysml:76fd413b-d5f3-4ecc-bac0-2db3dc6a9c5a\" xlink:show=\"new\" xlink:title=\"psysml:76fd413b-d5f3-4ecc-bac0-2db3dc6a9c5a\" xlink:type=\"simple\"><rect fill=\"#FEFECE\" filter=\"url(#fpaa9v4svl4lr)\" height=\"45.9375\" id=\"E3\" rx=\"10\" ry=\"10\" style=\"stroke: #A80036; stroke-width: 1.5;\" width=\"42\" x=\"133\" y=\"147\"/><text fill=\"#000000\" font-family=\"sans-serif\" font-size=\"12\" font-style=\"italic\" lengthAdjust=\"spacingAndGlyphs\" textLength=\"40\" x=\"134\" y=\"163.1387\">«part»</text><text fill=\"#000000\" font-family=\"sans-serif\" font-size=\"12\" lengthAdjust=\"spacingAndGlyphs\" textLength=\"8\" x=\"150\" y=\"177.1074\">a</text><line style=\"stroke: #A80036; stroke-width: 1.5;\" x1=\"134\" x2=\"174\" y1=\"184.9375\" y2=\"184.9375\"/></a><!--MD5=[ebbe1d658d1005bcc118a6aa81145e00]\n",
       "class E4--><a href=\"psysml:c1aefab3-4a15-416c-b89a-8b36fd883d33\" target=\"_top\" title=\"psysml:c1aefab3-4a15-416c-b89a-8b36fd883d33\" xlink:actuate=\"onRequest\" xlink:href=\"psysml:c1aefab3-4a15-416c-b89a-8b36fd883d33\" xlink:show=\"new\" xlink:title=\"psysml:c1aefab3-4a15-416c-b89a-8b36fd883d33\" xlink:type=\"simple\"><rect fill=\"#FEFECE\" filter=\"url(#fpaa9v4svl4lr)\" height=\"45.9375\" id=\"E4\" style=\"stroke: #A80036; stroke-width: 1.5;\" width=\"66\" x=\"32\" y=\"41\"/><text fill=\"#000000\" font-family=\"sans-serif\" font-size=\"12\" font-style=\"italic\" lengthAdjust=\"spacingAndGlyphs\" textLength=\"64\" x=\"33\" y=\"57.1387\">«part def»</text><text fill=\"#000000\" font-family=\"sans-serif\" font-size=\"12\" lengthAdjust=\"spacingAndGlyphs\" textLength=\"8\" x=\"61\" y=\"71.1074\">C</text><line style=\"stroke: #A80036; stroke-width: 1.5;\" x1=\"33\" x2=\"97\" y1=\"78.9375\" y2=\"78.9375\"/></a><!--MD5=[270fce915f116d4de14055a7c1d9a0f3]\n",
       "class E5--><a href=\"psysml:7432dd52-7523-413e-a125-d9cab4f86aea\" target=\"_top\" title=\"psysml:7432dd52-7523-413e-a125-d9cab4f86aea\" xlink:actuate=\"onRequest\" xlink:href=\"psysml:7432dd52-7523-413e-a125-d9cab4f86aea\" xlink:show=\"new\" xlink:title=\"psysml:7432dd52-7523-413e-a125-d9cab4f86aea\" xlink:type=\"simple\"><rect fill=\"#FEFECE\" filter=\"url(#fpaa9v4svl4lr)\" height=\"45.9375\" id=\"E5\" rx=\"10\" ry=\"10\" style=\"stroke: #A80036; stroke-width: 1.5;\" width=\"42\" x=\"44\" y=\"147\"/><text fill=\"#000000\" font-family=\"sans-serif\" font-size=\"12\" font-style=\"italic\" lengthAdjust=\"spacingAndGlyphs\" textLength=\"40\" x=\"45\" y=\"163.1387\">«part»</text><text fill=\"#000000\" font-family=\"sans-serif\" font-size=\"12\" lengthAdjust=\"spacingAndGlyphs\" textLength=\"8\" x=\"61\" y=\"177.1074\">g</text><line style=\"stroke: #A80036; stroke-width: 1.5;\" x1=\"45\" x2=\"85\" y1=\"184.9375\" y2=\"184.9375\"/></a><!--MD5=[209b3feb70ccb6233bfe1053d122c12c]\n",
       "reverse link E2 to E3--><a href=\"psysml:76fd413b-d5f3-4ecc-bac0-2db3dc6a9c5a\" target=\"_top\" title=\"psysml:76fd413b-d5f3-4ecc-bac0-2db3dc6a9c5a\" xlink:actuate=\"onRequest\" xlink:href=\"psysml:76fd413b-d5f3-4ecc-bac0-2db3dc6a9c5a\" xlink:show=\"new\" xlink:title=\"psysml:76fd413b-d5f3-4ecc-bac0-2db3dc6a9c5a\" xlink:type=\"simple\"><path d=\"M154,100.44 C154,115.87 154,133.47 154,146.98 \" fill=\"none\" id=\"E2&lt;-E3\" style=\"stroke: #A80036; stroke-width: 1.0;\"/><polygon fill=\"#A80036\" points=\"154,87.06,150,93.06,154,99.06,158,93.06,154,87.06\" style=\"stroke: #A80036; stroke-width: 1.0;\"/></a><!--MD5=[62aa6af11e70f752912c1cb0466f24f7]\n",
       "reverse link E4 to E5--><a href=\"psysml:7432dd52-7523-413e-a125-d9cab4f86aea\" target=\"_top\" title=\"psysml:7432dd52-7523-413e-a125-d9cab4f86aea\" xlink:actuate=\"onRequest\" xlink:href=\"psysml:7432dd52-7523-413e-a125-d9cab4f86aea\" xlink:show=\"new\" xlink:title=\"psysml:7432dd52-7523-413e-a125-d9cab4f86aea\" xlink:type=\"simple\"><path d=\"M65,100.44 C65,115.87 65,133.47 65,146.98 \" fill=\"none\" id=\"E4&lt;-E5\" style=\"stroke: #A80036; stroke-width: 1.0;\"/><polygon fill=\"#A80036\" points=\"65,87.06,61,93.06,65,99.06,69,93.06,65,87.06\" style=\"stroke: #A80036; stroke-width: 1.0;\"/></a><!--MD5=[760f8d7871c006db4fd0b086073892a3]\n",
       "@startuml\r\n",
       "skinparam wrapWidth 300\r\n",
       "hide circle\r\n",
       "\r\n",
       "package \"Q\" as E1  [[psysml:de03711e-1ba4-461c-851a-9c9209031323 ]]  {\r\n",
       "comp usage \"f\" as E2  <<(T,blue)part>> [[psysml:b9260bcb-04ce-4f8f-94f7-4786232d6bfb ]] {\r\n",
       "}\r\n",
       "comp usage \"a\" as E3  <<(T,blue)part>> [[psysml:76fd413b-d5f3-4ecc-bac0-2db3dc6a9c5a ]] {\r\n",
       "}\r\n",
       "comp def \"C\" as E4  <<(T,blue)part def>> [[psysml:c1aefab3-4a15-416c-b89a-8b36fd883d33 ]] {\r\n",
       "}\r\n",
       "comp usage \"g\" as E5  <<(T,blue)part>> [[psysml:7432dd52-7523-413e-a125-d9cab4f86aea ]] {\r\n",
       "}\r\n",
       "E2 *- - E3 [[psysml:76fd413b-d5f3-4ecc-bac0-2db3dc6a9c5a ]] \r\n",
       "E4 *- - E5 [[psysml:7432dd52-7523-413e-a125-d9cab4f86aea ]] \r\n",
       "}\r\n",
       "@enduml\r\n",
       "\n",
       "PlantUML version 1.2020.13(Sat Jun 13 12:26:38 UTC 2020)\n",
       "(EPL source distribution)\n",
       "Java Runtime: OpenJDK Runtime Environment\n",
       "JVM: OpenJDK 64-Bit Server VM\n",
       "Default Encoding: UTF-8\n",
       "Language: en\n",
       "Country: null\n",
       "--></g></svg>"
      ]
     },
     "execution_count": 28,
     "metadata": {},
     "output_type": "execute_result"
    }
   ],
   "source": [
    "%viz --style=\"STDCOLOR\" --view=\"Sequence\" \"Q\""
   ]
  },
  {
   "cell_type": "code",
   "execution_count": 29,
   "id": "opened-armor",
   "metadata": {
    "execution": {
     "iopub.execute_input": "2021-03-26T15:40:55.259431Z",
     "iopub.status.busy": "2021-03-26T15:40:55.258017Z",
     "iopub.status.idle": "2021-03-26T15:40:55.291106Z",
     "shell.execute_reply": "2021-03-26T15:40:55.290010Z"
    }
   },
   "outputs": [
    {
     "data": {
      "image/svg+xml": [
       "<?xml version=\"1.0\" encoding=\"UTF-8\" standalone=\"no\"?><svg xmlns=\"http://www.w3.org/2000/svg\" xmlns:xlink=\"http://www.w3.org/1999/xlink\" contentScriptType=\"application/ecmascript\" contentStyleType=\"text/css\" height=\"221px\" preserveAspectRatio=\"none\" style=\"width:213px;height:221px;\" version=\"1.1\" viewBox=\"0 0 213 221\" width=\"213px\" zoomAndPan=\"magnify\"><defs><filter height=\"300%\" id=\"fpaa9v4svl4lr\" width=\"300%\" x=\"-1\" y=\"-1\"><feGaussianBlur result=\"blurOut\" stdDeviation=\"2.0\"/><feColorMatrix in=\"blurOut\" result=\"blurOut2\" type=\"matrix\" values=\"0 0 0 0 0 0 0 0 0 0 0 0 0 0 0 0 0 0 .4 0\"/><feOffset dx=\"4.0\" dy=\"4.0\" in=\"blurOut2\" result=\"blurOut3\"/><feBlend in=\"SourceGraphic\" in2=\"blurOut3\" mode=\"normal\"/></filter></defs><g><!--MD5=[fbc87193dbaf4d95561dea2c320d4a47]\n",
       "cluster E1--><a href=\"psysml:de03711e-1ba4-461c-851a-9c9209031323\" target=\"_top\" title=\"psysml:de03711e-1ba4-461c-851a-9c9209031323\" xlink:actuate=\"onRequest\" xlink:href=\"psysml:de03711e-1ba4-461c-851a-9c9209031323\" xlink:show=\"new\" xlink:title=\"psysml:de03711e-1ba4-461c-851a-9c9209031323\" xlink:type=\"simple\"><polygon fill=\"#FFFFFF\" filter=\"url(#fpaa9v4svl4lr)\" points=\"16,6,34,6,41,28.2969,191,28.2969,191,209,16,209,16,6\" style=\"stroke: #000000; stroke-width: 1.5;\"/><line style=\"stroke: #000000; stroke-width: 1.5;\" x1=\"16\" x2=\"41\" y1=\"28.2969\" y2=\"28.2969\"/><text fill=\"#000000\" font-family=\"sans-serif\" font-size=\"14\" font-weight=\"bold\" lengthAdjust=\"spacingAndGlyphs\" textLength=\"12\" x=\"20\" y=\"20.9951\">Q</text></a><!--MD5=[b4997ac47864f28c2f74865a473b2911]\n",
       "class E2--><a href=\"psysml:b9260bcb-04ce-4f8f-94f7-4786232d6bfb\" target=\"_top\" title=\"psysml:b9260bcb-04ce-4f8f-94f7-4786232d6bfb\" xlink:actuate=\"onRequest\" xlink:href=\"psysml:b9260bcb-04ce-4f8f-94f7-4786232d6bfb\" xlink:show=\"new\" xlink:title=\"psysml:b9260bcb-04ce-4f8f-94f7-4786232d6bfb\" xlink:type=\"simple\"><rect fill=\"#FEFECE\" filter=\"url(#fpaa9v4svl4lr)\" height=\"45.9375\" id=\"E2\" rx=\"10\" ry=\"10\" style=\"stroke: #A80036; stroke-width: 1.5;\" width=\"42\" x=\"133\" y=\"41\"/><text fill=\"#000000\" font-family=\"sans-serif\" font-size=\"12\" font-style=\"italic\" lengthAdjust=\"spacingAndGlyphs\" textLength=\"40\" x=\"134\" y=\"57.1387\">«part»</text><text fill=\"#000000\" font-family=\"sans-serif\" font-size=\"12\" lengthAdjust=\"spacingAndGlyphs\" textLength=\"4\" x=\"152\" y=\"71.1074\">f</text><line style=\"stroke: #A80036; stroke-width: 1.5;\" x1=\"134\" x2=\"174\" y1=\"78.9375\" y2=\"78.9375\"/></a><!--MD5=[09b614a08d8cba4a07c9adeb5e0fee81]\n",
       "class E3--><a href=\"psysml:76fd413b-d5f3-4ecc-bac0-2db3dc6a9c5a\" target=\"_top\" title=\"psysml:76fd413b-d5f3-4ecc-bac0-2db3dc6a9c5a\" xlink:actuate=\"onRequest\" xlink:href=\"psysml:76fd413b-d5f3-4ecc-bac0-2db3dc6a9c5a\" xlink:show=\"new\" xlink:title=\"psysml:76fd413b-d5f3-4ecc-bac0-2db3dc6a9c5a\" xlink:type=\"simple\"><rect fill=\"#FEFECE\" filter=\"url(#fpaa9v4svl4lr)\" height=\"45.9375\" id=\"E3\" rx=\"10\" ry=\"10\" style=\"stroke: #A80036; stroke-width: 1.5;\" width=\"42\" x=\"133\" y=\"147\"/><text fill=\"#000000\" font-family=\"sans-serif\" font-size=\"12\" font-style=\"italic\" lengthAdjust=\"spacingAndGlyphs\" textLength=\"40\" x=\"134\" y=\"163.1387\">«part»</text><text fill=\"#000000\" font-family=\"sans-serif\" font-size=\"12\" lengthAdjust=\"spacingAndGlyphs\" textLength=\"8\" x=\"150\" y=\"177.1074\">a</text><line style=\"stroke: #A80036; stroke-width: 1.5;\" x1=\"134\" x2=\"174\" y1=\"184.9375\" y2=\"184.9375\"/></a><!--MD5=[ebbe1d658d1005bcc118a6aa81145e00]\n",
       "class E4--><a href=\"psysml:c1aefab3-4a15-416c-b89a-8b36fd883d33\" target=\"_top\" title=\"psysml:c1aefab3-4a15-416c-b89a-8b36fd883d33\" xlink:actuate=\"onRequest\" xlink:href=\"psysml:c1aefab3-4a15-416c-b89a-8b36fd883d33\" xlink:show=\"new\" xlink:title=\"psysml:c1aefab3-4a15-416c-b89a-8b36fd883d33\" xlink:type=\"simple\"><rect fill=\"#FEFECE\" filter=\"url(#fpaa9v4svl4lr)\" height=\"45.9375\" id=\"E4\" style=\"stroke: #A80036; stroke-width: 1.5;\" width=\"66\" x=\"32\" y=\"41\"/><text fill=\"#000000\" font-family=\"sans-serif\" font-size=\"12\" font-style=\"italic\" lengthAdjust=\"spacingAndGlyphs\" textLength=\"64\" x=\"33\" y=\"57.1387\">«part def»</text><text fill=\"#000000\" font-family=\"sans-serif\" font-size=\"12\" lengthAdjust=\"spacingAndGlyphs\" textLength=\"8\" x=\"61\" y=\"71.1074\">C</text><line style=\"stroke: #A80036; stroke-width: 1.5;\" x1=\"33\" x2=\"97\" y1=\"78.9375\" y2=\"78.9375\"/></a><!--MD5=[270fce915f116d4de14055a7c1d9a0f3]\n",
       "class E5--><a href=\"psysml:7432dd52-7523-413e-a125-d9cab4f86aea\" target=\"_top\" title=\"psysml:7432dd52-7523-413e-a125-d9cab4f86aea\" xlink:actuate=\"onRequest\" xlink:href=\"psysml:7432dd52-7523-413e-a125-d9cab4f86aea\" xlink:show=\"new\" xlink:title=\"psysml:7432dd52-7523-413e-a125-d9cab4f86aea\" xlink:type=\"simple\"><rect fill=\"#FEFECE\" filter=\"url(#fpaa9v4svl4lr)\" height=\"45.9375\" id=\"E5\" rx=\"10\" ry=\"10\" style=\"stroke: #A80036; stroke-width: 1.5;\" width=\"42\" x=\"44\" y=\"147\"/><text fill=\"#000000\" font-family=\"sans-serif\" font-size=\"12\" font-style=\"italic\" lengthAdjust=\"spacingAndGlyphs\" textLength=\"40\" x=\"45\" y=\"163.1387\">«part»</text><text fill=\"#000000\" font-family=\"sans-serif\" font-size=\"12\" lengthAdjust=\"spacingAndGlyphs\" textLength=\"8\" x=\"61\" y=\"177.1074\">g</text><line style=\"stroke: #A80036; stroke-width: 1.5;\" x1=\"45\" x2=\"85\" y1=\"184.9375\" y2=\"184.9375\"/></a><!--MD5=[209b3feb70ccb6233bfe1053d122c12c]\n",
       "reverse link E2 to E3--><a href=\"psysml:76fd413b-d5f3-4ecc-bac0-2db3dc6a9c5a\" target=\"_top\" title=\"psysml:76fd413b-d5f3-4ecc-bac0-2db3dc6a9c5a\" xlink:actuate=\"onRequest\" xlink:href=\"psysml:76fd413b-d5f3-4ecc-bac0-2db3dc6a9c5a\" xlink:show=\"new\" xlink:title=\"psysml:76fd413b-d5f3-4ecc-bac0-2db3dc6a9c5a\" xlink:type=\"simple\"><path d=\"M154,100.44 C154,115.87 154,133.47 154,146.98 \" fill=\"none\" id=\"E2&lt;-E3\" style=\"stroke: #A80036; stroke-width: 1.0;\"/><polygon fill=\"#A80036\" points=\"154,87.06,150,93.06,154,99.06,158,93.06,154,87.06\" style=\"stroke: #A80036; stroke-width: 1.0;\"/></a><!--MD5=[62aa6af11e70f752912c1cb0466f24f7]\n",
       "reverse link E4 to E5--><a href=\"psysml:7432dd52-7523-413e-a125-d9cab4f86aea\" target=\"_top\" title=\"psysml:7432dd52-7523-413e-a125-d9cab4f86aea\" xlink:actuate=\"onRequest\" xlink:href=\"psysml:7432dd52-7523-413e-a125-d9cab4f86aea\" xlink:show=\"new\" xlink:title=\"psysml:7432dd52-7523-413e-a125-d9cab4f86aea\" xlink:type=\"simple\"><path d=\"M65,100.44 C65,115.87 65,133.47 65,146.98 \" fill=\"none\" id=\"E4&lt;-E5\" style=\"stroke: #A80036; stroke-width: 1.0;\"/><polygon fill=\"#A80036\" points=\"65,87.06,61,93.06,65,99.06,69,93.06,65,87.06\" style=\"stroke: #A80036; stroke-width: 1.0;\"/></a><!--MD5=[760f8d7871c006db4fd0b086073892a3]\n",
       "@startuml\r\n",
       "skinparam wrapWidth 300\r\n",
       "hide circle\r\n",
       "\r\n",
       "package \"Q\" as E1  [[psysml:de03711e-1ba4-461c-851a-9c9209031323 ]]  {\r\n",
       "comp usage \"f\" as E2  <<(T,blue)part>> [[psysml:b9260bcb-04ce-4f8f-94f7-4786232d6bfb ]] {\r\n",
       "}\r\n",
       "comp usage \"a\" as E3  <<(T,blue)part>> [[psysml:76fd413b-d5f3-4ecc-bac0-2db3dc6a9c5a ]] {\r\n",
       "}\r\n",
       "comp def \"C\" as E4  <<(T,blue)part def>> [[psysml:c1aefab3-4a15-416c-b89a-8b36fd883d33 ]] {\r\n",
       "}\r\n",
       "comp usage \"g\" as E5  <<(T,blue)part>> [[psysml:7432dd52-7523-413e-a125-d9cab4f86aea ]] {\r\n",
       "}\r\n",
       "E2 *- - E3 [[psysml:76fd413b-d5f3-4ecc-bac0-2db3dc6a9c5a ]] \r\n",
       "E4 *- - E5 [[psysml:7432dd52-7523-413e-a125-d9cab4f86aea ]] \r\n",
       "}\r\n",
       "@enduml\r\n",
       "\n",
       "PlantUML version 1.2020.13(Sat Jun 13 12:26:38 UTC 2020)\n",
       "(EPL source distribution)\n",
       "Java Runtime: OpenJDK Runtime Environment\n",
       "JVM: OpenJDK 64-Bit Server VM\n",
       "Default Encoding: UTF-8\n",
       "Language: en\n",
       "Country: null\n",
       "--></g></svg>"
      ]
     },
     "execution_count": 29,
     "metadata": {},
     "output_type": "execute_result"
    }
   ],
   "source": [
    "%viz --style=\"STDCOLOR\" --view=\"MIXED\" \"Q\""
   ]
  },
  {
   "cell_type": "code",
   "execution_count": 30,
   "id": "revised-kuwait",
   "metadata": {
    "execution": {
     "iopub.execute_input": "2021-03-26T15:40:55.343103Z",
     "iopub.status.busy": "2021-03-26T15:40:55.341794Z",
     "iopub.status.idle": "2021-03-26T15:40:55.397439Z",
     "shell.execute_reply": "2021-03-26T15:40:55.396259Z"
    }
   },
   "outputs": [
    {
     "data": {
      "image/svg+xml": [
       "<?xml version=\"1.0\" encoding=\"UTF-8\" standalone=\"no\"?><svg xmlns=\"http://www.w3.org/2000/svg\" xmlns:xlink=\"http://www.w3.org/1999/xlink\" contentScriptType=\"application/ecmascript\" contentStyleType=\"text/css\" height=\"221px\" preserveAspectRatio=\"none\" style=\"width:241px;height:221px;\" version=\"1.1\" viewBox=\"0 0 241 221\" width=\"241px\" zoomAndPan=\"magnify\"><defs><filter height=\"300%\" id=\"f4ov664kb09c3\" width=\"300%\" x=\"-1\" y=\"-1\"><feGaussianBlur result=\"blurOut\" stdDeviation=\"2.0\"/><feColorMatrix in=\"blurOut\" result=\"blurOut2\" type=\"matrix\" values=\"0 0 0 0 0 0 0 0 0 0 0 0 0 0 0 0 0 0 .4 0\"/><feOffset dx=\"4.0\" dy=\"4.0\" in=\"blurOut2\" result=\"blurOut3\"/><feBlend in=\"SourceGraphic\" in2=\"blurOut3\" mode=\"normal\"/></filter></defs><g><!--MD5=[fbc87193dbaf4d95561dea2c320d4a47]\n",
       "cluster E1--><a href=\"psysml:de03711e-1ba4-461c-851a-9c9209031323\" target=\"_top\" title=\"psysml:de03711e-1ba4-461c-851a-9c9209031323\" xlink:actuate=\"onRequest\" xlink:href=\"psysml:de03711e-1ba4-461c-851a-9c9209031323\" xlink:show=\"new\" xlink:title=\"psysml:de03711e-1ba4-461c-851a-9c9209031323\" xlink:type=\"simple\"><polygon fill=\"#FFFFFF\" filter=\"url(#f4ov664kb09c3)\" points=\"16,6,34,6,41,28.2969,219,28.2969,219,209,16,209,16,6\" style=\"stroke: #000000; stroke-width: 1.5;\"/><line style=\"stroke: #000000; stroke-width: 1.5;\" x1=\"16\" x2=\"41\" y1=\"28.2969\" y2=\"28.2969\"/><text fill=\"#000000\" font-family=\"sans-serif\" font-size=\"14\" font-weight=\"bold\" lengthAdjust=\"spacingAndGlyphs\" textLength=\"12\" x=\"20\" y=\"20.9951\">Q</text></a><!--MD5=[b4997ac47864f28c2f74865a473b2911]\n",
       "class E2--><a href=\"psysml:b9260bcb-04ce-4f8f-94f7-4786232d6bfb\" target=\"_top\" title=\"psysml:b9260bcb-04ce-4f8f-94f7-4786232d6bfb\" xlink:actuate=\"onRequest\" xlink:href=\"psysml:b9260bcb-04ce-4f8f-94f7-4786232d6bfb\" xlink:show=\"new\" xlink:title=\"psysml:b9260bcb-04ce-4f8f-94f7-4786232d6bfb\" xlink:type=\"simple\"><rect fill=\"#FEFECE\" filter=\"url(#f4ov664kb09c3)\" height=\"45.9375\" id=\"E2\" rx=\"10\" ry=\"10\" style=\"stroke: #A80036; stroke-width: 1.5;\" width=\"68\" x=\"135\" y=\"41\"/><ellipse cx=\"150\" cy=\"59.9688\" fill=\"#32CD32\" rx=\"11\" ry=\"11\" style=\"stroke: #A80036; stroke-width: 1.0;\"/><path d=\"M149.7969,55.6406 L149.7969,59.2656 L150.7969,59.2656 Q152,59.2656 152.4844,58.8594 Q152.9688,58.4531 152.9688,57.4531 Q152.9688,56.4531 152.4844,56.0469 Q152,55.6406 150.7969,55.6406 L149.7969,55.6406 Z M147.3438,53.5781 L150.7031,53.5781 Q153.2656,53.5781 154.3906,54.5 Q155.5156,55.4063 155.5156,57.4531 Q155.5156,59.5 154.3906,60.4219 Q153.2656,61.3281 150.7031,61.3281 L149.7969,61.3281 L149.7969,65.9688 L147.3438,65.9688 L147.3438,53.5781 Z \"/><text fill=\"#000000\" font-family=\"sans-serif\" font-size=\"12\" font-style=\"italic\" lengthAdjust=\"spacingAndGlyphs\" textLength=\"40\" x=\"162\" y=\"57.1387\">«part»</text><text fill=\"#000000\" font-family=\"sans-serif\" font-size=\"12\" lengthAdjust=\"spacingAndGlyphs\" textLength=\"4\" x=\"180\" y=\"71.1074\">f</text><line style=\"stroke: #A80036; stroke-width: 1.5;\" x1=\"136\" x2=\"202\" y1=\"78.9375\" y2=\"78.9375\"/></a><!--MD5=[09b614a08d8cba4a07c9adeb5e0fee81]\n",
       "class E3--><a href=\"psysml:76fd413b-d5f3-4ecc-bac0-2db3dc6a9c5a\" target=\"_top\" title=\"psysml:76fd413b-d5f3-4ecc-bac0-2db3dc6a9c5a\" xlink:actuate=\"onRequest\" xlink:href=\"psysml:76fd413b-d5f3-4ecc-bac0-2db3dc6a9c5a\" xlink:show=\"new\" xlink:title=\"psysml:76fd413b-d5f3-4ecc-bac0-2db3dc6a9c5a\" xlink:type=\"simple\"><rect fill=\"#FEFECE\" filter=\"url(#f4ov664kb09c3)\" height=\"45.9375\" id=\"E3\" rx=\"10\" ry=\"10\" style=\"stroke: #A80036; stroke-width: 1.5;\" width=\"68\" x=\"135\" y=\"147\"/><ellipse cx=\"150\" cy=\"165.9688\" fill=\"#32CD32\" rx=\"11\" ry=\"11\" style=\"stroke: #A80036; stroke-width: 1.0;\"/><path d=\"M149.7969,161.6406 L149.7969,165.2656 L150.7969,165.2656 Q152,165.2656 152.4844,164.8594 Q152.9688,164.4531 152.9688,163.4531 Q152.9688,162.4531 152.4844,162.0469 Q152,161.6406 150.7969,161.6406 L149.7969,161.6406 Z M147.3438,159.5781 L150.7031,159.5781 Q153.2656,159.5781 154.3906,160.5 Q155.5156,161.4063 155.5156,163.4531 Q155.5156,165.5 154.3906,166.4219 Q153.2656,167.3281 150.7031,167.3281 L149.7969,167.3281 L149.7969,171.9688 L147.3438,171.9688 L147.3438,159.5781 Z \"/><text fill=\"#000000\" font-family=\"sans-serif\" font-size=\"12\" font-style=\"italic\" lengthAdjust=\"spacingAndGlyphs\" textLength=\"40\" x=\"162\" y=\"163.1387\">«part»</text><text fill=\"#000000\" font-family=\"sans-serif\" font-size=\"12\" lengthAdjust=\"spacingAndGlyphs\" textLength=\"8\" x=\"178\" y=\"177.1074\">a</text><line style=\"stroke: #A80036; stroke-width: 1.5;\" x1=\"136\" x2=\"202\" y1=\"184.9375\" y2=\"184.9375\"/></a><!--MD5=[ebbe1d658d1005bcc118a6aa81145e00]\n",
       "class E4--><a href=\"psysml:c1aefab3-4a15-416c-b89a-8b36fd883d33\" target=\"_top\" title=\"psysml:c1aefab3-4a15-416c-b89a-8b36fd883d33\" xlink:actuate=\"onRequest\" xlink:href=\"psysml:c1aefab3-4a15-416c-b89a-8b36fd883d33\" xlink:show=\"new\" xlink:title=\"psysml:c1aefab3-4a15-416c-b89a-8b36fd883d33\" xlink:type=\"simple\"><rect fill=\"#FEFECE\" filter=\"url(#f4ov664kb09c3)\" height=\"40\" id=\"E4\" style=\"stroke: #A80036; stroke-width: 1.5;\" width=\"40\" x=\"46\" y=\"44\"/><ellipse cx=\"61\" cy=\"60\" fill=\"#008000\" rx=\"11\" ry=\"11\" style=\"stroke: #A80036; stroke-width: 1.0;\"/><path d=\"M59.9063,60.375 L59.9063,64.0469 L61.5313,64.0469 Q62.7031,64.0469 63.1719,63.6563 Q63.6406,63.25 63.6406,62.25 Q63.6406,61.25 63.1406,60.8125 Q62.6563,60.375 61.5313,60.375 L59.9063,60.375 Z M59.9063,55.5469 L59.9063,58.4219 L61.5313,58.4219 Q62.4531,58.4219 62.8438,58.0938 Q63.25,57.75 63.25,57 Q63.25,56.2344 62.8438,55.8906 Q62.4375,55.5469 61.5313,55.5469 L59.9063,55.5469 Z M57.5313,53.5938 L61.5313,53.5938 Q63.5938,53.5938 64.6406,54.375 Q65.6875,55.1563 65.6875,56.7188 Q65.6875,57.9219 65.0625,58.5938 Q64.4531,59.2656 63.2656,59.375 Q64.6875,59.5156 65.4063,60.3281 Q66.125,61.1406 66.125,62.5938 Q66.125,64.3906 65.0469,65.2031 Q63.9688,66 61.5313,66 L57.5313,66 L57.5313,53.5938 Z \"/><text fill=\"#000000\" font-family=\"sans-serif\" font-size=\"12\" lengthAdjust=\"spacingAndGlyphs\" textLength=\"8\" x=\"75\" y=\"64.1543\">C</text><line style=\"stroke: #A80036; stroke-width: 1.5;\" x1=\"47\" x2=\"85\" y1=\"76\" y2=\"76\"/></a><!--MD5=[270fce915f116d4de14055a7c1d9a0f3]\n",
       "class E5--><a href=\"psysml:7432dd52-7523-413e-a125-d9cab4f86aea\" target=\"_top\" title=\"psysml:7432dd52-7523-413e-a125-d9cab4f86aea\" xlink:actuate=\"onRequest\" xlink:href=\"psysml:7432dd52-7523-413e-a125-d9cab4f86aea\" xlink:show=\"new\" xlink:title=\"psysml:7432dd52-7523-413e-a125-d9cab4f86aea\" xlink:type=\"simple\"><rect fill=\"#FEFECE\" filter=\"url(#f4ov664kb09c3)\" height=\"45.9375\" id=\"E5\" rx=\"10\" ry=\"10\" style=\"stroke: #A80036; stroke-width: 1.5;\" width=\"68\" x=\"32\" y=\"147\"/><ellipse cx=\"47\" cy=\"165.9688\" fill=\"#32CD32\" rx=\"11\" ry=\"11\" style=\"stroke: #A80036; stroke-width: 1.0;\"/><path d=\"M46.7969,161.6406 L46.7969,165.2656 L47.7969,165.2656 Q49,165.2656 49.4844,164.8594 Q49.9688,164.4531 49.9688,163.4531 Q49.9688,162.4531 49.4844,162.0469 Q49,161.6406 47.7969,161.6406 L46.7969,161.6406 Z M44.3438,159.5781 L47.7031,159.5781 Q50.2656,159.5781 51.3906,160.5 Q52.5156,161.4063 52.5156,163.4531 Q52.5156,165.5 51.3906,166.4219 Q50.2656,167.3281 47.7031,167.3281 L46.7969,167.3281 L46.7969,171.9688 L44.3438,171.9688 L44.3438,159.5781 Z \"/><text fill=\"#000000\" font-family=\"sans-serif\" font-size=\"12\" font-style=\"italic\" lengthAdjust=\"spacingAndGlyphs\" textLength=\"40\" x=\"59\" y=\"163.1387\">«part»</text><text fill=\"#000000\" font-family=\"sans-serif\" font-size=\"12\" lengthAdjust=\"spacingAndGlyphs\" textLength=\"8\" x=\"75\" y=\"177.1074\">g</text><line style=\"stroke: #A80036; stroke-width: 1.5;\" x1=\"33\" x2=\"99\" y1=\"184.9375\" y2=\"184.9375\"/></a><!--MD5=[209b3feb70ccb6233bfe1053d122c12c]\n",
       "reverse link E2 to E3--><a href=\"psysml:76fd413b-d5f3-4ecc-bac0-2db3dc6a9c5a\" target=\"_top\" title=\"psysml:76fd413b-d5f3-4ecc-bac0-2db3dc6a9c5a\" xlink:actuate=\"onRequest\" xlink:href=\"psysml:76fd413b-d5f3-4ecc-bac0-2db3dc6a9c5a\" xlink:show=\"new\" xlink:title=\"psysml:76fd413b-d5f3-4ecc-bac0-2db3dc6a9c5a\" xlink:type=\"simple\"><path d=\"M169,100.44 C169,115.87 169,133.47 169,146.98 \" fill=\"none\" id=\"E2&lt;-E3\" style=\"stroke: #A80036; stroke-width: 1.0;\"/><polygon fill=\"#A80036\" points=\"169,87.06,165,93.06,169,99.06,173,93.06,169,87.06\" style=\"stroke: #A80036; stroke-width: 1.0;\"/></a><!--MD5=[62aa6af11e70f752912c1cb0466f24f7]\n",
       "reverse link E4 to E5--><a href=\"psysml:7432dd52-7523-413e-a125-d9cab4f86aea\" target=\"_top\" title=\"psysml:7432dd52-7523-413e-a125-d9cab4f86aea\" xlink:actuate=\"onRequest\" xlink:href=\"psysml:7432dd52-7523-413e-a125-d9cab4f86aea\" xlink:show=\"new\" xlink:title=\"psysml:7432dd52-7523-413e-a125-d9cab4f86aea\" xlink:type=\"simple\"><path d=\"M66,97.25 C66,113.33 66,132.37 66,146.8 \" fill=\"none\" id=\"E4&lt;-E5\" style=\"stroke: #A80036; stroke-width: 1.0;\"/><polygon fill=\"#A80036\" points=\"66,84.08,62,90.08,66,96.08,70,90.08,66,84.08\" style=\"stroke: #A80036; stroke-width: 1.0;\"/></a><!--MD5=[7f36dcb060fe7926de5432862539e43a]\n",
       "@startuml\r\n",
       " \r\n",
       "package \"Q\" as E1  [[psysml:de03711e-1ba4-461c-851a-9c9209031323 ]]  {\r\n",
       "comp usage \"f\" as E2  << (P,limegreen) part>> [[psysml:b9260bcb-04ce-4f8f-94f7-4786232d6bfb ]] {\r\n",
       "}\r\n",
       "comp usage \"a\" as E3  << (P,limegreen) part>> [[psysml:76fd413b-d5f3-4ecc-bac0-2db3dc6a9c5a ]] {\r\n",
       "}\r\n",
       "comp def \"C\" as E4  << (B,green) >> [[psysml:c1aefab3-4a15-416c-b89a-8b36fd883d33 ]] {\r\n",
       "}\r\n",
       "comp usage \"g\" as E5  << (P,limegreen) part>> [[psysml:7432dd52-7523-413e-a125-d9cab4f86aea ]] {\r\n",
       "}\r\n",
       "E2 *- - E3 [[psysml:76fd413b-d5f3-4ecc-bac0-2db3dc6a9c5a ]] \r\n",
       "E4 *- - E5 [[psysml:7432dd52-7523-413e-a125-d9cab4f86aea ]] \r\n",
       "}\r\n",
       "@enduml\r\n",
       "\n",
       "PlantUML version 1.2020.13(Sat Jun 13 12:26:38 UTC 2020)\n",
       "(EPL source distribution)\n",
       "Java Runtime: OpenJDK Runtime Environment\n",
       "JVM: OpenJDK 64-Bit Server VM\n",
       "Default Encoding: UTF-8\n",
       "Language: en\n",
       "Country: null\n",
       "--></g></svg>"
      ]
     },
     "execution_count": 30,
     "metadata": {},
     "output_type": "execute_result"
    }
   ],
   "source": [
    "%viz --style=\"PLANTUML\" --view=\"Default\" \"Q\""
   ]
  },
  {
   "cell_type": "code",
   "execution_count": 31,
   "id": "secret-adult",
   "metadata": {
    "execution": {
     "iopub.execute_input": "2021-03-26T15:40:55.450328Z",
     "iopub.status.busy": "2021-03-26T15:40:55.449533Z",
     "iopub.status.idle": "2021-03-26T15:40:55.478371Z",
     "shell.execute_reply": "2021-03-26T15:40:55.477288Z"
    }
   },
   "outputs": [
    {
     "data": {
      "image/svg+xml": [
       "<?xml version=\"1.0\" encoding=\"UTF-8\" standalone=\"no\"?><svg xmlns=\"http://www.w3.org/2000/svg\" xmlns:xlink=\"http://www.w3.org/1999/xlink\" contentScriptType=\"application/ecmascript\" contentStyleType=\"text/css\" height=\"221px\" preserveAspectRatio=\"none\" style=\"width:241px;height:221px;\" version=\"1.1\" viewBox=\"0 0 241 221\" width=\"241px\" zoomAndPan=\"magnify\"><defs><filter height=\"300%\" id=\"f4ov664kb09c3\" width=\"300%\" x=\"-1\" y=\"-1\"><feGaussianBlur result=\"blurOut\" stdDeviation=\"2.0\"/><feColorMatrix in=\"blurOut\" result=\"blurOut2\" type=\"matrix\" values=\"0 0 0 0 0 0 0 0 0 0 0 0 0 0 0 0 0 0 .4 0\"/><feOffset dx=\"4.0\" dy=\"4.0\" in=\"blurOut2\" result=\"blurOut3\"/><feBlend in=\"SourceGraphic\" in2=\"blurOut3\" mode=\"normal\"/></filter></defs><g><!--MD5=[fbc87193dbaf4d95561dea2c320d4a47]\n",
       "cluster E1--><a href=\"psysml:de03711e-1ba4-461c-851a-9c9209031323\" target=\"_top\" title=\"psysml:de03711e-1ba4-461c-851a-9c9209031323\" xlink:actuate=\"onRequest\" xlink:href=\"psysml:de03711e-1ba4-461c-851a-9c9209031323\" xlink:show=\"new\" xlink:title=\"psysml:de03711e-1ba4-461c-851a-9c9209031323\" xlink:type=\"simple\"><polygon fill=\"#FFFFFF\" filter=\"url(#f4ov664kb09c3)\" points=\"16,6,34,6,41,28.2969,219,28.2969,219,209,16,209,16,6\" style=\"stroke: #000000; stroke-width: 1.5;\"/><line style=\"stroke: #000000; stroke-width: 1.5;\" x1=\"16\" x2=\"41\" y1=\"28.2969\" y2=\"28.2969\"/><text fill=\"#000000\" font-family=\"sans-serif\" font-size=\"14\" font-weight=\"bold\" lengthAdjust=\"spacingAndGlyphs\" textLength=\"12\" x=\"20\" y=\"20.9951\">Q</text></a><!--MD5=[b4997ac47864f28c2f74865a473b2911]\n",
       "class E2--><a href=\"psysml:b9260bcb-04ce-4f8f-94f7-4786232d6bfb\" target=\"_top\" title=\"psysml:b9260bcb-04ce-4f8f-94f7-4786232d6bfb\" xlink:actuate=\"onRequest\" xlink:href=\"psysml:b9260bcb-04ce-4f8f-94f7-4786232d6bfb\" xlink:show=\"new\" xlink:title=\"psysml:b9260bcb-04ce-4f8f-94f7-4786232d6bfb\" xlink:type=\"simple\"><rect fill=\"#FEFECE\" filter=\"url(#f4ov664kb09c3)\" height=\"45.9375\" id=\"E2\" rx=\"10\" ry=\"10\" style=\"stroke: #A80036; stroke-width: 1.5;\" width=\"68\" x=\"135\" y=\"41\"/><ellipse cx=\"150\" cy=\"59.9688\" fill=\"#32CD32\" rx=\"11\" ry=\"11\" style=\"stroke: #A80036; stroke-width: 1.0;\"/><path d=\"M149.7969,55.6406 L149.7969,59.2656 L150.7969,59.2656 Q152,59.2656 152.4844,58.8594 Q152.9688,58.4531 152.9688,57.4531 Q152.9688,56.4531 152.4844,56.0469 Q152,55.6406 150.7969,55.6406 L149.7969,55.6406 Z M147.3438,53.5781 L150.7031,53.5781 Q153.2656,53.5781 154.3906,54.5 Q155.5156,55.4063 155.5156,57.4531 Q155.5156,59.5 154.3906,60.4219 Q153.2656,61.3281 150.7031,61.3281 L149.7969,61.3281 L149.7969,65.9688 L147.3438,65.9688 L147.3438,53.5781 Z \"/><text fill=\"#000000\" font-family=\"sans-serif\" font-size=\"12\" font-style=\"italic\" lengthAdjust=\"spacingAndGlyphs\" textLength=\"40\" x=\"162\" y=\"57.1387\">«part»</text><text fill=\"#000000\" font-family=\"sans-serif\" font-size=\"12\" lengthAdjust=\"spacingAndGlyphs\" textLength=\"4\" x=\"180\" y=\"71.1074\">f</text><line style=\"stroke: #A80036; stroke-width: 1.5;\" x1=\"136\" x2=\"202\" y1=\"78.9375\" y2=\"78.9375\"/></a><!--MD5=[09b614a08d8cba4a07c9adeb5e0fee81]\n",
       "class E3--><a href=\"psysml:76fd413b-d5f3-4ecc-bac0-2db3dc6a9c5a\" target=\"_top\" title=\"psysml:76fd413b-d5f3-4ecc-bac0-2db3dc6a9c5a\" xlink:actuate=\"onRequest\" xlink:href=\"psysml:76fd413b-d5f3-4ecc-bac0-2db3dc6a9c5a\" xlink:show=\"new\" xlink:title=\"psysml:76fd413b-d5f3-4ecc-bac0-2db3dc6a9c5a\" xlink:type=\"simple\"><rect fill=\"#FEFECE\" filter=\"url(#f4ov664kb09c3)\" height=\"45.9375\" id=\"E3\" rx=\"10\" ry=\"10\" style=\"stroke: #A80036; stroke-width: 1.5;\" width=\"68\" x=\"135\" y=\"147\"/><ellipse cx=\"150\" cy=\"165.9688\" fill=\"#32CD32\" rx=\"11\" ry=\"11\" style=\"stroke: #A80036; stroke-width: 1.0;\"/><path d=\"M149.7969,161.6406 L149.7969,165.2656 L150.7969,165.2656 Q152,165.2656 152.4844,164.8594 Q152.9688,164.4531 152.9688,163.4531 Q152.9688,162.4531 152.4844,162.0469 Q152,161.6406 150.7969,161.6406 L149.7969,161.6406 Z M147.3438,159.5781 L150.7031,159.5781 Q153.2656,159.5781 154.3906,160.5 Q155.5156,161.4063 155.5156,163.4531 Q155.5156,165.5 154.3906,166.4219 Q153.2656,167.3281 150.7031,167.3281 L149.7969,167.3281 L149.7969,171.9688 L147.3438,171.9688 L147.3438,159.5781 Z \"/><text fill=\"#000000\" font-family=\"sans-serif\" font-size=\"12\" font-style=\"italic\" lengthAdjust=\"spacingAndGlyphs\" textLength=\"40\" x=\"162\" y=\"163.1387\">«part»</text><text fill=\"#000000\" font-family=\"sans-serif\" font-size=\"12\" lengthAdjust=\"spacingAndGlyphs\" textLength=\"8\" x=\"178\" y=\"177.1074\">a</text><line style=\"stroke: #A80036; stroke-width: 1.5;\" x1=\"136\" x2=\"202\" y1=\"184.9375\" y2=\"184.9375\"/></a><!--MD5=[ebbe1d658d1005bcc118a6aa81145e00]\n",
       "class E4--><a href=\"psysml:c1aefab3-4a15-416c-b89a-8b36fd883d33\" target=\"_top\" title=\"psysml:c1aefab3-4a15-416c-b89a-8b36fd883d33\" xlink:actuate=\"onRequest\" xlink:href=\"psysml:c1aefab3-4a15-416c-b89a-8b36fd883d33\" xlink:show=\"new\" xlink:title=\"psysml:c1aefab3-4a15-416c-b89a-8b36fd883d33\" xlink:type=\"simple\"><rect fill=\"#FEFECE\" filter=\"url(#f4ov664kb09c3)\" height=\"40\" id=\"E4\" style=\"stroke: #A80036; stroke-width: 1.5;\" width=\"40\" x=\"46\" y=\"44\"/><ellipse cx=\"61\" cy=\"60\" fill=\"#008000\" rx=\"11\" ry=\"11\" style=\"stroke: #A80036; stroke-width: 1.0;\"/><path d=\"M59.9063,60.375 L59.9063,64.0469 L61.5313,64.0469 Q62.7031,64.0469 63.1719,63.6563 Q63.6406,63.25 63.6406,62.25 Q63.6406,61.25 63.1406,60.8125 Q62.6563,60.375 61.5313,60.375 L59.9063,60.375 Z M59.9063,55.5469 L59.9063,58.4219 L61.5313,58.4219 Q62.4531,58.4219 62.8438,58.0938 Q63.25,57.75 63.25,57 Q63.25,56.2344 62.8438,55.8906 Q62.4375,55.5469 61.5313,55.5469 L59.9063,55.5469 Z M57.5313,53.5938 L61.5313,53.5938 Q63.5938,53.5938 64.6406,54.375 Q65.6875,55.1563 65.6875,56.7188 Q65.6875,57.9219 65.0625,58.5938 Q64.4531,59.2656 63.2656,59.375 Q64.6875,59.5156 65.4063,60.3281 Q66.125,61.1406 66.125,62.5938 Q66.125,64.3906 65.0469,65.2031 Q63.9688,66 61.5313,66 L57.5313,66 L57.5313,53.5938 Z \"/><text fill=\"#000000\" font-family=\"sans-serif\" font-size=\"12\" lengthAdjust=\"spacingAndGlyphs\" textLength=\"8\" x=\"75\" y=\"64.1543\">C</text><line style=\"stroke: #A80036; stroke-width: 1.5;\" x1=\"47\" x2=\"85\" y1=\"76\" y2=\"76\"/></a><!--MD5=[270fce915f116d4de14055a7c1d9a0f3]\n",
       "class E5--><a href=\"psysml:7432dd52-7523-413e-a125-d9cab4f86aea\" target=\"_top\" title=\"psysml:7432dd52-7523-413e-a125-d9cab4f86aea\" xlink:actuate=\"onRequest\" xlink:href=\"psysml:7432dd52-7523-413e-a125-d9cab4f86aea\" xlink:show=\"new\" xlink:title=\"psysml:7432dd52-7523-413e-a125-d9cab4f86aea\" xlink:type=\"simple\"><rect fill=\"#FEFECE\" filter=\"url(#f4ov664kb09c3)\" height=\"45.9375\" id=\"E5\" rx=\"10\" ry=\"10\" style=\"stroke: #A80036; stroke-width: 1.5;\" width=\"68\" x=\"32\" y=\"147\"/><ellipse cx=\"47\" cy=\"165.9688\" fill=\"#32CD32\" rx=\"11\" ry=\"11\" style=\"stroke: #A80036; stroke-width: 1.0;\"/><path d=\"M46.7969,161.6406 L46.7969,165.2656 L47.7969,165.2656 Q49,165.2656 49.4844,164.8594 Q49.9688,164.4531 49.9688,163.4531 Q49.9688,162.4531 49.4844,162.0469 Q49,161.6406 47.7969,161.6406 L46.7969,161.6406 Z M44.3438,159.5781 L47.7031,159.5781 Q50.2656,159.5781 51.3906,160.5 Q52.5156,161.4063 52.5156,163.4531 Q52.5156,165.5 51.3906,166.4219 Q50.2656,167.3281 47.7031,167.3281 L46.7969,167.3281 L46.7969,171.9688 L44.3438,171.9688 L44.3438,159.5781 Z \"/><text fill=\"#000000\" font-family=\"sans-serif\" font-size=\"12\" font-style=\"italic\" lengthAdjust=\"spacingAndGlyphs\" textLength=\"40\" x=\"59\" y=\"163.1387\">«part»</text><text fill=\"#000000\" font-family=\"sans-serif\" font-size=\"12\" lengthAdjust=\"spacingAndGlyphs\" textLength=\"8\" x=\"75\" y=\"177.1074\">g</text><line style=\"stroke: #A80036; stroke-width: 1.5;\" x1=\"33\" x2=\"99\" y1=\"184.9375\" y2=\"184.9375\"/></a><!--MD5=[209b3feb70ccb6233bfe1053d122c12c]\n",
       "reverse link E2 to E3--><a href=\"psysml:76fd413b-d5f3-4ecc-bac0-2db3dc6a9c5a\" target=\"_top\" title=\"psysml:76fd413b-d5f3-4ecc-bac0-2db3dc6a9c5a\" xlink:actuate=\"onRequest\" xlink:href=\"psysml:76fd413b-d5f3-4ecc-bac0-2db3dc6a9c5a\" xlink:show=\"new\" xlink:title=\"psysml:76fd413b-d5f3-4ecc-bac0-2db3dc6a9c5a\" xlink:type=\"simple\"><path d=\"M169,100.44 C169,115.87 169,133.47 169,146.98 \" fill=\"none\" id=\"E2&lt;-E3\" style=\"stroke: #A80036; stroke-width: 1.0;\"/><polygon fill=\"#A80036\" points=\"169,87.06,165,93.06,169,99.06,173,93.06,169,87.06\" style=\"stroke: #A80036; stroke-width: 1.0;\"/></a><!--MD5=[62aa6af11e70f752912c1cb0466f24f7]\n",
       "reverse link E4 to E5--><a href=\"psysml:7432dd52-7523-413e-a125-d9cab4f86aea\" target=\"_top\" title=\"psysml:7432dd52-7523-413e-a125-d9cab4f86aea\" xlink:actuate=\"onRequest\" xlink:href=\"psysml:7432dd52-7523-413e-a125-d9cab4f86aea\" xlink:show=\"new\" xlink:title=\"psysml:7432dd52-7523-413e-a125-d9cab4f86aea\" xlink:type=\"simple\"><path d=\"M66,97.25 C66,113.33 66,132.37 66,146.8 \" fill=\"none\" id=\"E4&lt;-E5\" style=\"stroke: #A80036; stroke-width: 1.0;\"/><polygon fill=\"#A80036\" points=\"66,84.08,62,90.08,66,96.08,70,90.08,66,84.08\" style=\"stroke: #A80036; stroke-width: 1.0;\"/></a><!--MD5=[7f36dcb060fe7926de5432862539e43a]\n",
       "@startuml\r\n",
       " \r\n",
       "package \"Q\" as E1  [[psysml:de03711e-1ba4-461c-851a-9c9209031323 ]]  {\r\n",
       "comp usage \"f\" as E2  << (P,limegreen) part>> [[psysml:b9260bcb-04ce-4f8f-94f7-4786232d6bfb ]] {\r\n",
       "}\r\n",
       "comp usage \"a\" as E3  << (P,limegreen) part>> [[psysml:76fd413b-d5f3-4ecc-bac0-2db3dc6a9c5a ]] {\r\n",
       "}\r\n",
       "comp def \"C\" as E4  << (B,green) >> [[psysml:c1aefab3-4a15-416c-b89a-8b36fd883d33 ]] {\r\n",
       "}\r\n",
       "comp usage \"g\" as E5  << (P,limegreen) part>> [[psysml:7432dd52-7523-413e-a125-d9cab4f86aea ]] {\r\n",
       "}\r\n",
       "E2 *- - E3 [[psysml:76fd413b-d5f3-4ecc-bac0-2db3dc6a9c5a ]] \r\n",
       "E4 *- - E5 [[psysml:7432dd52-7523-413e-a125-d9cab4f86aea ]] \r\n",
       "}\r\n",
       "@enduml\r\n",
       "\n",
       "PlantUML version 1.2020.13(Sat Jun 13 12:26:38 UTC 2020)\n",
       "(EPL source distribution)\n",
       "Java Runtime: OpenJDK Runtime Environment\n",
       "JVM: OpenJDK 64-Bit Server VM\n",
       "Default Encoding: UTF-8\n",
       "Language: en\n",
       "Country: null\n",
       "--></g></svg>"
      ]
     },
     "execution_count": 31,
     "metadata": {},
     "output_type": "execute_result"
    }
   ],
   "source": [
    "%viz --style=\"PLANTUML\" --view=\"Tree\" \"Q\""
   ]
  },
  {
   "cell_type": "code",
   "execution_count": 32,
   "id": "packed-hungary",
   "metadata": {
    "execution": {
     "iopub.execute_input": "2021-03-26T15:40:55.530385Z",
     "iopub.status.busy": "2021-03-26T15:40:55.529908Z",
     "iopub.status.idle": "2021-03-26T15:40:55.610219Z",
     "shell.execute_reply": "2021-03-26T15:40:55.609151Z"
    }
   },
   "outputs": [
    {
     "data": {
      "image/svg+xml": [
       "<?xml version=\"1.0\" encoding=\"UTF-8\" standalone=\"no\"?><svg xmlns=\"http://www.w3.org/2000/svg\" xmlns:xlink=\"http://www.w3.org/1999/xlink\" contentScriptType=\"application/ecmascript\" contentStyleType=\"text/css\" height=\"303px\" preserveAspectRatio=\"none\" style=\"width:603px;height:303px;background:#000000;\" version=\"1.1\" viewBox=\"0 0 603 303\" width=\"603px\" zoomAndPan=\"magnify\"><defs/><g><rect fill=\"#180513\" height=\"1\" style=\"stroke: #180513; stroke-width: 1.0;\" width=\"1\" x=\"0\" y=\"0\"/><rect fill=\"#FFFFFF\" height=\"205.5625\" style=\"stroke: #FFFFFF; stroke-width: 1.0;\" width=\"602\" x=\"0\" y=\"0\"/><text fill=\"#000000\" font-family=\"sans-serif\" font-size=\"12\" font-weight=\"bold\" lengthAdjust=\"spacingAndGlyphs\" textLength=\"159\" x=\"5\" y=\"16.1387\">Welcome to PlantUML!</text><text fill=\"#000000\" font-family=\"sans-serif\" font-size=\"12\" lengthAdjust=\"spacingAndGlyphs\" textLength=\"0\" x=\"9\" y=\"30.1074\"/><text fill=\"#000000\" font-family=\"sans-serif\" font-size=\"12\" lengthAdjust=\"spacingAndGlyphs\" textLength=\"293\" x=\"5\" y=\"44.0762\">If you use this software, you accept its license.</text><text fill=\"#000000\" font-family=\"sans-serif\" font-size=\"12\" lengthAdjust=\"spacingAndGlyphs\" textLength=\"107\" x=\"5\" y=\"58.0449\">(details by typing</text><text fill=\"#000000\" font-family=\"monospace\" font-size=\"12\" lengthAdjust=\"spacingAndGlyphs\" textLength=\"49\" x=\"116\" y=\"58.0449\">license</text><text fill=\"#000000\" font-family=\"sans-serif\" font-size=\"12\" lengthAdjust=\"spacingAndGlyphs\" textLength=\"56\" x=\"169\" y=\"58.0449\">keyword)</text><text fill=\"#000000\" font-family=\"sans-serif\" font-size=\"12\" lengthAdjust=\"spacingAndGlyphs\" textLength=\"0\" x=\"9\" y=\"72.0137\"/><text fill=\"#000000\" font-family=\"sans-serif\" font-size=\"12\" lengthAdjust=\"spacingAndGlyphs\" textLength=\"283\" x=\"5\" y=\"85.9824\">You can start with a simple UML Diagram like:</text><text fill=\"#000000\" font-family=\"sans-serif\" font-size=\"12\" lengthAdjust=\"spacingAndGlyphs\" textLength=\"0\" x=\"9\" y=\"99.9512\"/><text fill=\"#000000\" font-family=\"monospace\" font-size=\"12\" lengthAdjust=\"spacingAndGlyphs\" textLength=\"119\" x=\"5\" y=\"113.9199\">Bob-&gt;Alice: Hello</text><text fill=\"#000000\" font-family=\"sans-serif\" font-size=\"12\" lengthAdjust=\"spacingAndGlyphs\" textLength=\"0\" x=\"9\" y=\"127.8887\"/><text fill=\"#000000\" font-family=\"sans-serif\" font-size=\"12\" lengthAdjust=\"spacingAndGlyphs\" textLength=\"14\" x=\"5\" y=\"141.8574\">Or</text><text fill=\"#000000\" font-family=\"sans-serif\" font-size=\"12\" lengthAdjust=\"spacingAndGlyphs\" textLength=\"0\" x=\"9\" y=\"155.8262\"/><text fill=\"#000000\" font-family=\"monospace\" font-size=\"12\" lengthAdjust=\"spacingAndGlyphs\" textLength=\"91\" x=\"5\" y=\"169.7949\">class Example</text><text fill=\"#000000\" font-family=\"sans-serif\" font-size=\"12\" lengthAdjust=\"spacingAndGlyphs\" textLength=\"0\" x=\"9\" y=\"183.7637\"/><text fill=\"#000000\" font-family=\"sans-serif\" font-size=\"12\" lengthAdjust=\"spacingAndGlyphs\" textLength=\"349\" x=\"5\" y=\"197.7324\">You will find more information about PlantUML syntax on</text><text fill=\"#000000\" font-family=\"sans-serif\" font-size=\"12\" lengthAdjust=\"spacingAndGlyphs\" text-decoration=\"underline\" textLength=\"129\" x=\"358\" y=\"197.7324\">https://plantuml.com</text><image height=\"71\" width=\"80\" x=\"516\" xlink:href=\"data:image/png;base64,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\" y=\"6\"/><rect fill=\"#000000\" height=\"96.4844\" style=\"stroke: #000000; stroke-width: 1.0;\" width=\"602\" x=\"0\" y=\"205.5625\"/><rect fill=\"#33FF02\" height=\"21.2969\" style=\"stroke: #33FF02; stroke-width: 1.0;\" width=\"170\" x=\"5\" y=\"210.5625\"/><text fill=\"#000000\" font-family=\"sans-serif\" font-size=\"14\" font-weight=\"bold\" lengthAdjust=\"spacingAndGlyphs\" textLength=\"168\" x=\"6\" y=\"225.5625\">[From string (line 2) ]</text><text fill=\"#33FF02\" font-family=\"sans-serif\" font-size=\"14\" font-weight=\"bold\" lengthAdjust=\"spacingAndGlyphs\" textLength=\"0\" x=\"10\" y=\"245.8594\"/><text fill=\"#33FF02\" font-family=\"sans-serif\" font-size=\"14\" font-weight=\"bold\" lengthAdjust=\"spacingAndGlyphs\" textLength=\"79\" x=\"5\" y=\"262.1563\">@startuml</text><text fill=\"#33FF02\" font-family=\"sans-serif\" font-size=\"14\" font-weight=\"bold\" lengthAdjust=\"spacingAndGlyphs\" textLength=\"0\" x=\"10\" y=\"278.4531\"/><text fill=\"#FF0000\" font-family=\"sans-serif\" font-size=\"14\" font-weight=\"bold\" lengthAdjust=\"spacingAndGlyphs\" textLength=\"142\" x=\"10\" y=\"294.75\">Empty description</text><!--MD5=[f59edd8218d337f74d0c332fc6737304]\n",
       "@startuml\r\n",
       " \r\n",
       "@enduml\r\n",
       "\n",
       "PlantUML version 1.2020.13(Sat Jun 13 12:26:38 UTC 2020)\n",
       "(EPL source distribution)\n",
       "Java Runtime: OpenJDK Runtime Environment\n",
       "JVM: OpenJDK 64-Bit Server VM\n",
       "Default Encoding: UTF-8\n",
       "Language: en\n",
       "Country: null\n",
       "--></g></svg>"
      ]
     },
     "execution_count": 32,
     "metadata": {},
     "output_type": "execute_result"
    }
   ],
   "source": [
    "%viz --style=\"PLANTUML\" --view=\"State\" \"Q\""
   ]
  },
  {
   "cell_type": "code",
   "execution_count": 33,
   "id": "embedded-interval",
   "metadata": {
    "execution": {
     "iopub.execute_input": "2021-03-26T15:40:55.661405Z",
     "iopub.status.busy": "2021-03-26T15:40:55.660675Z",
     "iopub.status.idle": "2021-03-26T15:40:55.691578Z",
     "shell.execute_reply": "2021-03-26T15:40:55.690418Z"
    }
   },
   "outputs": [
    {
     "data": {
      "image/svg+xml": [
       "<?xml version=\"1.0\" encoding=\"UTF-8\" standalone=\"no\"?><svg xmlns=\"http://www.w3.org/2000/svg\" xmlns:xlink=\"http://www.w3.org/1999/xlink\" contentScriptType=\"application/ecmascript\" contentStyleType=\"text/css\" height=\"176px\" preserveAspectRatio=\"none\" style=\"width:312px;height:176px;\" version=\"1.1\" viewBox=\"0 0 312 176\" width=\"312px\" zoomAndPan=\"magnify\"><defs><filter height=\"300%\" id=\"f1871euzxy35cq\" width=\"300%\" x=\"-1\" y=\"-1\"><feGaussianBlur result=\"blurOut\" stdDeviation=\"2.0\"/><feColorMatrix in=\"blurOut\" result=\"blurOut2\" type=\"matrix\" values=\"0 0 0 0 0 0 0 0 0 0 0 0 0 0 0 0 0 0 .4 0\"/><feOffset dx=\"4.0\" dy=\"4.0\" in=\"blurOut2\" result=\"blurOut3\"/><feBlend in=\"SourceGraphic\" in2=\"blurOut3\" mode=\"normal\"/></filter></defs><g><!--MD5=[fbc87193dbaf4d95561dea2c320d4a47]\n",
       "cluster E1--><a href=\"psysml:de03711e-1ba4-461c-851a-9c9209031323\" target=\"_top\" title=\"psysml:de03711e-1ba4-461c-851a-9c9209031323\" xlink:actuate=\"onRequest\" xlink:href=\"psysml:de03711e-1ba4-461c-851a-9c9209031323\" xlink:show=\"new\" xlink:title=\"psysml:de03711e-1ba4-461c-851a-9c9209031323\" xlink:type=\"simple\"><polygon fill=\"#FFFFFF\" filter=\"url(#f1871euzxy35cq)\" points=\"16,6,34,6,41,28.2969,290,28.2969,290,164,16,164,16,6\" style=\"stroke: #000000; stroke-width: 1.5;\"/><line style=\"stroke: #000000; stroke-width: 1.5;\" x1=\"16\" x2=\"41\" y1=\"28.2969\" y2=\"28.2969\"/><text fill=\"#000000\" font-family=\"sans-serif\" font-size=\"14\" font-weight=\"bold\" lengthAdjust=\"spacingAndGlyphs\" textLength=\"12\" x=\"20\" y=\"20.9951\">Q</text></a><!--MD5=[e4f7fae6ed58524ba242bb0b0d3be6b7]\n",
       "cluster E2--><a href=\"psysml:b9260bcb-04ce-4f8f-94f7-4786232d6bfb\" target=\"_top\" title=\"psysml:b9260bcb-04ce-4f8f-94f7-4786232d6bfb\" xlink:actuate=\"onRequest\" xlink:href=\"psysml:b9260bcb-04ce-4f8f-94f7-4786232d6bfb\" xlink:show=\"new\" xlink:title=\"psysml:b9260bcb-04ce-4f8f-94f7-4786232d6bfb\" xlink:type=\"simple\"><rect fill=\"#FFFFFF\" filter=\"url(#f1871euzxy35cq)\" height=\"91\" id=\"E2\" rx=\"10\" ry=\"10\" style=\"stroke: #A80036; stroke-width: 1.5;\" width=\"82\" x=\"184\" y=\"49\"/><rect fill=\"#FEFECE\" height=\"23.9688\" rx=\"10\" ry=\"10\" style=\"stroke: #FEFECE; stroke-width: 1.5;\" width=\"82\" x=\"184\" y=\"49\"/><rect fill=\"#FEFECE\" height=\"10\" style=\"stroke: #FEFECE; stroke-width: 1.5;\" width=\"82\" x=\"184\" y=\"62.9688\"/><rect fill=\"none\" height=\"91\" id=\"E2\" rx=\"10\" ry=\"10\" style=\"stroke: #A80036; stroke-width: 1.5;\" width=\"82\" x=\"184\" y=\"49\"/><text fill=\"#000000\" font-family=\"sans-serif\" font-size=\"12\" lengthAdjust=\"spacingAndGlyphs\" textLength=\"4\" x=\"223\" y=\"65.1387\">f</text><line style=\"stroke: #A80036; stroke-width: 1.0;\" x1=\"184\" x2=\"266\" y1=\"72.9688\" y2=\"72.9688\"/></a><!--MD5=[f6df4d0ebaf0b5dfb2ced0ae5af7c670]\n",
       "cluster E4--><a href=\"psysml:c1aefab3-4a15-416c-b89a-8b36fd883d33\" target=\"_top\" title=\"psysml:c1aefab3-4a15-416c-b89a-8b36fd883d33\" xlink:actuate=\"onRequest\" xlink:href=\"psysml:c1aefab3-4a15-416c-b89a-8b36fd883d33\" xlink:show=\"new\" xlink:title=\"psysml:c1aefab3-4a15-416c-b89a-8b36fd883d33\" xlink:type=\"simple\"><rect fill=\"#FFFFFF\" filter=\"url(#f1871euzxy35cq)\" height=\"91\" id=\"E4\" style=\"stroke: #A80036; stroke-width: 1.5;\" width=\"120\" x=\"40\" y=\"49\"/><rect fill=\"#FEFECE\" height=\"23.9688\" style=\"stroke: #A80036; stroke-width: 1.5;\" width=\"120\" x=\"40\" y=\"49\"/><text fill=\"#000000\" font-family=\"sans-serif\" font-size=\"12\" lengthAdjust=\"spacingAndGlyphs\" textLength=\"8\" x=\"96\" y=\"65.1387\">C</text></a><g id=\"E1.E2.E3\"><a href=\"psysml:76fd413b-d5f3-4ecc-bac0-2db3dc6a9c5a\" target=\"_top\" title=\"psysml:76fd413b-d5f3-4ecc-bac0-2db3dc6a9c5a\" xlink:actuate=\"onRequest\" xlink:href=\"psysml:76fd413b-d5f3-4ecc-bac0-2db3dc6a9c5a\" xlink:show=\"new\" xlink:title=\"psysml:76fd413b-d5f3-4ecc-bac0-2db3dc6a9c5a\" xlink:type=\"simple\"><rect fill=\"#FEFECE\" filter=\"url(#f1871euzxy35cq)\" height=\"40\" id=\"E3\" rx=\"10\" ry=\"10\" style=\"stroke: #A80036; stroke-width: 1.5;\" width=\"50\" x=\"200\" y=\"84\"/><ellipse cx=\"219.5\" cy=\"100\" fill=\"#B6DBBB\" rx=\"11\" ry=\"11\" style=\"stroke: #A80036; stroke-width: 1.0;\"/><path d=\"M215.375,101.9219 L215.375,94.1094 L217.8281,94.1094 L217.8281,102.5469 Q217.8281,103.4688 218.2969,104 Q218.7813,104.5313 219.6094,104.5313 Q220.4531,104.5313 220.9219,104 Q221.3906,103.4688 221.3906,102.5469 L221.3906,94.1094 L223.8438,94.1094 L223.8438,101.9219 Q223.8438,104.4531 222.8438,105.5938 Q221.8438,106.7344 219.6094,106.7344 Q217.3906,106.7344 216.375,105.5938 Q215.375,104.4531 215.375,101.9219 Z \"/><text fill=\"#000000\" font-family=\"sans-serif\" font-size=\"12\" lengthAdjust=\"spacingAndGlyphs\" textLength=\"8\" x=\"234.5\" y=\"104.1543\">a</text></a></g><g id=\"E1.E4.E5\"><a href=\"psysml:7432dd52-7523-413e-a125-d9cab4f86aea\" target=\"_top\" title=\"psysml:7432dd52-7523-413e-a125-d9cab4f86aea\" xlink:actuate=\"onRequest\" xlink:href=\"psysml:7432dd52-7523-413e-a125-d9cab4f86aea\" xlink:show=\"new\" xlink:title=\"psysml:7432dd52-7523-413e-a125-d9cab4f86aea\" xlink:type=\"simple\"><rect fill=\"#FEFECE\" filter=\"url(#f1871euzxy35cq)\" height=\"40\" id=\"E5\" rx=\"10\" ry=\"10\" style=\"stroke: #A80036; stroke-width: 1.5;\" width=\"87\" x=\"56.5\" y=\"84\"/><ellipse cx=\"73.75\" cy=\"100\" fill=\"#B6DBBB\" rx=\"11\" ry=\"11\" style=\"stroke: #A80036; stroke-width: 1.0;\"/><path d=\"M69.625,101.9219 L69.625,94.1094 L72.0781,94.1094 L72.0781,102.5469 Q72.0781,103.4688 72.5469,104 Q73.0313,104.5313 73.8594,104.5313 Q74.7031,104.5313 75.1719,104 Q75.6406,103.4688 75.6406,102.5469 L75.6406,94.1094 L78.0938,94.1094 L78.0938,101.9219 Q78.0938,104.4531 77.0938,105.5938 Q76.0938,106.7344 73.8594,106.7344 Q71.6406,106.7344 70.625,105.5938 Q69.625,104.4531 69.625,101.9219 Z \"/><text fill=\"#000000\" font-family=\"sans-serif\" font-size=\"12\" lengthAdjust=\"spacingAndGlyphs\" textLength=\"46\" x=\"88.25\" y=\"104.1543\">g=./f/a;</text></a></g><!--MD5=[51a56fe094866332ae328215dc302f29]\n",
       "@startuml\r\n",
       "skinparam ranksep 10\r\n",
       "skinparam rectangle {\r\n",
       " backgroundColor<<block>> LightGreen\r\n",
       "}\r\n",
       " \r\n",
       "package \"Q\" as E1  [[psysml:de03711e-1ba4-461c-851a-9c9209031323 ]]  {\r\n",
       "rec usage \"f\" as E2  [[psysml:b9260bcb-04ce-4f8f-94f7-4786232d6bfb ]] {\r\n",
       "rec usage \"a\" as E3  [[psysml:76fd413b-d5f3-4ecc-bac0-2db3dc6a9c5a ]] {\r\n",
       "}\r\n",
       "}\r\n",
       "rec def \"C\" as E4  << (B,green) >> [[psysml:c1aefab3-4a15-416c-b89a-8b36fd883d33 ]] {\r\n",
       "rec usage \"g=./f/a; \" as E5  [[psysml:7432dd52-7523-413e-a125-d9cab4f86aea ]] {\r\n",
       "}\r\n",
       "}\r\n",
       "}\r\n",
       "@enduml\r\n",
       "\n",
       "PlantUML version 1.2020.13(Sat Jun 13 12:26:38 UTC 2020)\n",
       "(EPL source distribution)\n",
       "Java Runtime: OpenJDK Runtime Environment\n",
       "JVM: OpenJDK 64-Bit Server VM\n",
       "Default Encoding: UTF-8\n",
       "Language: en\n",
       "Country: null\n",
       "--></g></svg>"
      ]
     },
     "execution_count": 33,
     "metadata": {},
     "output_type": "execute_result"
    }
   ],
   "source": [
    "%viz --style=\"PLANTUML\" --view=\"Interconnection\" \"Q\""
   ]
  },
  {
   "cell_type": "code",
   "execution_count": 34,
   "id": "hindu-notion",
   "metadata": {
    "execution": {
     "iopub.execute_input": "2021-03-26T15:40:55.744124Z",
     "iopub.status.busy": "2021-03-26T15:40:55.743191Z",
     "iopub.status.idle": "2021-03-26T15:40:55.749077Z",
     "shell.execute_reply": "2021-03-26T15:40:55.748681Z"
    }
   },
   "outputs": [
    {
     "data": {
      "image/svg+xml": [
       "<?xml version=\"1.0\" encoding=\"UTF-8\" standalone=\"no\"?><svg xmlns=\"http://www.w3.org/2000/svg\" xmlns:xlink=\"http://www.w3.org/1999/xlink\" contentScriptType=\"application/ecmascript\" contentStyleType=\"text/css\" height=\"12px\" preserveAspectRatio=\"none\" style=\"width:12px;height:12px;\" version=\"1.1\" viewBox=\"0 0 12 12\" width=\"12px\" zoomAndPan=\"magnify\"><defs/><g><!--MD5=[6a4cb978cab31700e1ce5529f947a75d]\n",
       "@startuml\r\n",
       "skinparam ranksep 8\r\n",
       " \r\n",
       "@enduml\r\n",
       "\n",
       "PlantUML version 1.2020.13(Sat Jun 13 12:26:38 UTC 2020)\n",
       "(EPL source distribution)\n",
       "Java Runtime: OpenJDK Runtime Environment\n",
       "JVM: OpenJDK 64-Bit Server VM\n",
       "Default Encoding: UTF-8\n",
       "Language: en\n",
       "Country: null\n",
       "--></g></svg>"
      ]
     },
     "execution_count": 34,
     "metadata": {},
     "output_type": "execute_result"
    }
   ],
   "source": [
    "%viz --style=\"PLANTUML\" --view=\"Action\" \"Q\""
   ]
  },
  {
   "cell_type": "code",
   "execution_count": 35,
   "id": "popular-river",
   "metadata": {
    "execution": {
     "iopub.execute_input": "2021-03-26T15:40:55.799790Z",
     "iopub.status.busy": "2021-03-26T15:40:55.799326Z",
     "iopub.status.idle": "2021-03-26T15:40:55.825865Z",
     "shell.execute_reply": "2021-03-26T15:40:55.824512Z"
    }
   },
   "outputs": [
    {
     "data": {
      "image/svg+xml": [
       "<?xml version=\"1.0\" encoding=\"UTF-8\" standalone=\"no\"?><svg xmlns=\"http://www.w3.org/2000/svg\" xmlns:xlink=\"http://www.w3.org/1999/xlink\" contentScriptType=\"application/ecmascript\" contentStyleType=\"text/css\" height=\"221px\" preserveAspectRatio=\"none\" style=\"width:241px;height:221px;\" version=\"1.1\" viewBox=\"0 0 241 221\" width=\"241px\" zoomAndPan=\"magnify\"><defs><filter height=\"300%\" id=\"f4ov664kb09c3\" width=\"300%\" x=\"-1\" y=\"-1\"><feGaussianBlur result=\"blurOut\" stdDeviation=\"2.0\"/><feColorMatrix in=\"blurOut\" result=\"blurOut2\" type=\"matrix\" values=\"0 0 0 0 0 0 0 0 0 0 0 0 0 0 0 0 0 0 .4 0\"/><feOffset dx=\"4.0\" dy=\"4.0\" in=\"blurOut2\" result=\"blurOut3\"/><feBlend in=\"SourceGraphic\" in2=\"blurOut3\" mode=\"normal\"/></filter></defs><g><!--MD5=[fbc87193dbaf4d95561dea2c320d4a47]\n",
       "cluster E1--><a href=\"psysml:de03711e-1ba4-461c-851a-9c9209031323\" target=\"_top\" title=\"psysml:de03711e-1ba4-461c-851a-9c9209031323\" xlink:actuate=\"onRequest\" xlink:href=\"psysml:de03711e-1ba4-461c-851a-9c9209031323\" xlink:show=\"new\" xlink:title=\"psysml:de03711e-1ba4-461c-851a-9c9209031323\" xlink:type=\"simple\"><polygon fill=\"#FFFFFF\" filter=\"url(#f4ov664kb09c3)\" points=\"16,6,34,6,41,28.2969,219,28.2969,219,209,16,209,16,6\" style=\"stroke: #000000; stroke-width: 1.5;\"/><line style=\"stroke: #000000; stroke-width: 1.5;\" x1=\"16\" x2=\"41\" y1=\"28.2969\" y2=\"28.2969\"/><text fill=\"#000000\" font-family=\"sans-serif\" font-size=\"14\" font-weight=\"bold\" lengthAdjust=\"spacingAndGlyphs\" textLength=\"12\" x=\"20\" y=\"20.9951\">Q</text></a><!--MD5=[b4997ac47864f28c2f74865a473b2911]\n",
       "class E2--><a href=\"psysml:b9260bcb-04ce-4f8f-94f7-4786232d6bfb\" target=\"_top\" title=\"psysml:b9260bcb-04ce-4f8f-94f7-4786232d6bfb\" xlink:actuate=\"onRequest\" xlink:href=\"psysml:b9260bcb-04ce-4f8f-94f7-4786232d6bfb\" xlink:show=\"new\" xlink:title=\"psysml:b9260bcb-04ce-4f8f-94f7-4786232d6bfb\" xlink:type=\"simple\"><rect fill=\"#FEFECE\" filter=\"url(#f4ov664kb09c3)\" height=\"45.9375\" id=\"E2\" rx=\"10\" ry=\"10\" style=\"stroke: #A80036; stroke-width: 1.5;\" width=\"68\" x=\"135\" y=\"41\"/><ellipse cx=\"150\" cy=\"59.9688\" fill=\"#32CD32\" rx=\"11\" ry=\"11\" style=\"stroke: #A80036; stroke-width: 1.0;\"/><path d=\"M149.7969,55.6406 L149.7969,59.2656 L150.7969,59.2656 Q152,59.2656 152.4844,58.8594 Q152.9688,58.4531 152.9688,57.4531 Q152.9688,56.4531 152.4844,56.0469 Q152,55.6406 150.7969,55.6406 L149.7969,55.6406 Z M147.3438,53.5781 L150.7031,53.5781 Q153.2656,53.5781 154.3906,54.5 Q155.5156,55.4063 155.5156,57.4531 Q155.5156,59.5 154.3906,60.4219 Q153.2656,61.3281 150.7031,61.3281 L149.7969,61.3281 L149.7969,65.9688 L147.3438,65.9688 L147.3438,53.5781 Z \"/><text fill=\"#000000\" font-family=\"sans-serif\" font-size=\"12\" font-style=\"italic\" lengthAdjust=\"spacingAndGlyphs\" textLength=\"40\" x=\"162\" y=\"57.1387\">«part»</text><text fill=\"#000000\" font-family=\"sans-serif\" font-size=\"12\" lengthAdjust=\"spacingAndGlyphs\" textLength=\"4\" x=\"180\" y=\"71.1074\">f</text><line style=\"stroke: #A80036; stroke-width: 1.5;\" x1=\"136\" x2=\"202\" y1=\"78.9375\" y2=\"78.9375\"/></a><!--MD5=[09b614a08d8cba4a07c9adeb5e0fee81]\n",
       "class E3--><a href=\"psysml:76fd413b-d5f3-4ecc-bac0-2db3dc6a9c5a\" target=\"_top\" title=\"psysml:76fd413b-d5f3-4ecc-bac0-2db3dc6a9c5a\" xlink:actuate=\"onRequest\" xlink:href=\"psysml:76fd413b-d5f3-4ecc-bac0-2db3dc6a9c5a\" xlink:show=\"new\" xlink:title=\"psysml:76fd413b-d5f3-4ecc-bac0-2db3dc6a9c5a\" xlink:type=\"simple\"><rect fill=\"#FEFECE\" filter=\"url(#f4ov664kb09c3)\" height=\"45.9375\" id=\"E3\" rx=\"10\" ry=\"10\" style=\"stroke: #A80036; stroke-width: 1.5;\" width=\"68\" x=\"135\" y=\"147\"/><ellipse cx=\"150\" cy=\"165.9688\" fill=\"#32CD32\" rx=\"11\" ry=\"11\" style=\"stroke: #A80036; stroke-width: 1.0;\"/><path d=\"M149.7969,161.6406 L149.7969,165.2656 L150.7969,165.2656 Q152,165.2656 152.4844,164.8594 Q152.9688,164.4531 152.9688,163.4531 Q152.9688,162.4531 152.4844,162.0469 Q152,161.6406 150.7969,161.6406 L149.7969,161.6406 Z M147.3438,159.5781 L150.7031,159.5781 Q153.2656,159.5781 154.3906,160.5 Q155.5156,161.4063 155.5156,163.4531 Q155.5156,165.5 154.3906,166.4219 Q153.2656,167.3281 150.7031,167.3281 L149.7969,167.3281 L149.7969,171.9688 L147.3438,171.9688 L147.3438,159.5781 Z \"/><text fill=\"#000000\" font-family=\"sans-serif\" font-size=\"12\" font-style=\"italic\" lengthAdjust=\"spacingAndGlyphs\" textLength=\"40\" x=\"162\" y=\"163.1387\">«part»</text><text fill=\"#000000\" font-family=\"sans-serif\" font-size=\"12\" lengthAdjust=\"spacingAndGlyphs\" textLength=\"8\" x=\"178\" y=\"177.1074\">a</text><line style=\"stroke: #A80036; stroke-width: 1.5;\" x1=\"136\" x2=\"202\" y1=\"184.9375\" y2=\"184.9375\"/></a><!--MD5=[ebbe1d658d1005bcc118a6aa81145e00]\n",
       "class E4--><a href=\"psysml:c1aefab3-4a15-416c-b89a-8b36fd883d33\" target=\"_top\" title=\"psysml:c1aefab3-4a15-416c-b89a-8b36fd883d33\" xlink:actuate=\"onRequest\" xlink:href=\"psysml:c1aefab3-4a15-416c-b89a-8b36fd883d33\" xlink:show=\"new\" xlink:title=\"psysml:c1aefab3-4a15-416c-b89a-8b36fd883d33\" xlink:type=\"simple\"><rect fill=\"#FEFECE\" filter=\"url(#f4ov664kb09c3)\" height=\"40\" id=\"E4\" style=\"stroke: #A80036; stroke-width: 1.5;\" width=\"40\" x=\"46\" y=\"44\"/><ellipse cx=\"61\" cy=\"60\" fill=\"#008000\" rx=\"11\" ry=\"11\" style=\"stroke: #A80036; stroke-width: 1.0;\"/><path d=\"M59.9063,60.375 L59.9063,64.0469 L61.5313,64.0469 Q62.7031,64.0469 63.1719,63.6563 Q63.6406,63.25 63.6406,62.25 Q63.6406,61.25 63.1406,60.8125 Q62.6563,60.375 61.5313,60.375 L59.9063,60.375 Z M59.9063,55.5469 L59.9063,58.4219 L61.5313,58.4219 Q62.4531,58.4219 62.8438,58.0938 Q63.25,57.75 63.25,57 Q63.25,56.2344 62.8438,55.8906 Q62.4375,55.5469 61.5313,55.5469 L59.9063,55.5469 Z M57.5313,53.5938 L61.5313,53.5938 Q63.5938,53.5938 64.6406,54.375 Q65.6875,55.1563 65.6875,56.7188 Q65.6875,57.9219 65.0625,58.5938 Q64.4531,59.2656 63.2656,59.375 Q64.6875,59.5156 65.4063,60.3281 Q66.125,61.1406 66.125,62.5938 Q66.125,64.3906 65.0469,65.2031 Q63.9688,66 61.5313,66 L57.5313,66 L57.5313,53.5938 Z \"/><text fill=\"#000000\" font-family=\"sans-serif\" font-size=\"12\" lengthAdjust=\"spacingAndGlyphs\" textLength=\"8\" x=\"75\" y=\"64.1543\">C</text><line style=\"stroke: #A80036; stroke-width: 1.5;\" x1=\"47\" x2=\"85\" y1=\"76\" y2=\"76\"/></a><!--MD5=[270fce915f116d4de14055a7c1d9a0f3]\n",
       "class E5--><a href=\"psysml:7432dd52-7523-413e-a125-d9cab4f86aea\" target=\"_top\" title=\"psysml:7432dd52-7523-413e-a125-d9cab4f86aea\" xlink:actuate=\"onRequest\" xlink:href=\"psysml:7432dd52-7523-413e-a125-d9cab4f86aea\" xlink:show=\"new\" xlink:title=\"psysml:7432dd52-7523-413e-a125-d9cab4f86aea\" xlink:type=\"simple\"><rect fill=\"#FEFECE\" filter=\"url(#f4ov664kb09c3)\" height=\"45.9375\" id=\"E5\" rx=\"10\" ry=\"10\" style=\"stroke: #A80036; stroke-width: 1.5;\" width=\"68\" x=\"32\" y=\"147\"/><ellipse cx=\"47\" cy=\"165.9688\" fill=\"#32CD32\" rx=\"11\" ry=\"11\" style=\"stroke: #A80036; stroke-width: 1.0;\"/><path d=\"M46.7969,161.6406 L46.7969,165.2656 L47.7969,165.2656 Q49,165.2656 49.4844,164.8594 Q49.9688,164.4531 49.9688,163.4531 Q49.9688,162.4531 49.4844,162.0469 Q49,161.6406 47.7969,161.6406 L46.7969,161.6406 Z M44.3438,159.5781 L47.7031,159.5781 Q50.2656,159.5781 51.3906,160.5 Q52.5156,161.4063 52.5156,163.4531 Q52.5156,165.5 51.3906,166.4219 Q50.2656,167.3281 47.7031,167.3281 L46.7969,167.3281 L46.7969,171.9688 L44.3438,171.9688 L44.3438,159.5781 Z \"/><text fill=\"#000000\" font-family=\"sans-serif\" font-size=\"12\" font-style=\"italic\" lengthAdjust=\"spacingAndGlyphs\" textLength=\"40\" x=\"59\" y=\"163.1387\">«part»</text><text fill=\"#000000\" font-family=\"sans-serif\" font-size=\"12\" lengthAdjust=\"spacingAndGlyphs\" textLength=\"8\" x=\"75\" y=\"177.1074\">g</text><line style=\"stroke: #A80036; stroke-width: 1.5;\" x1=\"33\" x2=\"99\" y1=\"184.9375\" y2=\"184.9375\"/></a><!--MD5=[209b3feb70ccb6233bfe1053d122c12c]\n",
       "reverse link E2 to E3--><a href=\"psysml:76fd413b-d5f3-4ecc-bac0-2db3dc6a9c5a\" target=\"_top\" title=\"psysml:76fd413b-d5f3-4ecc-bac0-2db3dc6a9c5a\" xlink:actuate=\"onRequest\" xlink:href=\"psysml:76fd413b-d5f3-4ecc-bac0-2db3dc6a9c5a\" xlink:show=\"new\" xlink:title=\"psysml:76fd413b-d5f3-4ecc-bac0-2db3dc6a9c5a\" xlink:type=\"simple\"><path d=\"M169,100.44 C169,115.87 169,133.47 169,146.98 \" fill=\"none\" id=\"E2&lt;-E3\" style=\"stroke: #A80036; stroke-width: 1.0;\"/><polygon fill=\"#A80036\" points=\"169,87.06,165,93.06,169,99.06,173,93.06,169,87.06\" style=\"stroke: #A80036; stroke-width: 1.0;\"/></a><!--MD5=[62aa6af11e70f752912c1cb0466f24f7]\n",
       "reverse link E4 to E5--><a href=\"psysml:7432dd52-7523-413e-a125-d9cab4f86aea\" target=\"_top\" title=\"psysml:7432dd52-7523-413e-a125-d9cab4f86aea\" xlink:actuate=\"onRequest\" xlink:href=\"psysml:7432dd52-7523-413e-a125-d9cab4f86aea\" xlink:show=\"new\" xlink:title=\"psysml:7432dd52-7523-413e-a125-d9cab4f86aea\" xlink:type=\"simple\"><path d=\"M66,97.25 C66,113.33 66,132.37 66,146.8 \" fill=\"none\" id=\"E4&lt;-E5\" style=\"stroke: #A80036; stroke-width: 1.0;\"/><polygon fill=\"#A80036\" points=\"66,84.08,62,90.08,66,96.08,70,90.08,66,84.08\" style=\"stroke: #A80036; stroke-width: 1.0;\"/></a><!--MD5=[7f36dcb060fe7926de5432862539e43a]\n",
       "@startuml\r\n",
       " \r\n",
       "package \"Q\" as E1  [[psysml:de03711e-1ba4-461c-851a-9c9209031323 ]]  {\r\n",
       "comp usage \"f\" as E2  << (P,limegreen) part>> [[psysml:b9260bcb-04ce-4f8f-94f7-4786232d6bfb ]] {\r\n",
       "}\r\n",
       "comp usage \"a\" as E3  << (P,limegreen) part>> [[psysml:76fd413b-d5f3-4ecc-bac0-2db3dc6a9c5a ]] {\r\n",
       "}\r\n",
       "comp def \"C\" as E4  << (B,green) >> [[psysml:c1aefab3-4a15-416c-b89a-8b36fd883d33 ]] {\r\n",
       "}\r\n",
       "comp usage \"g\" as E5  << (P,limegreen) part>> [[psysml:7432dd52-7523-413e-a125-d9cab4f86aea ]] {\r\n",
       "}\r\n",
       "E2 *- - E3 [[psysml:76fd413b-d5f3-4ecc-bac0-2db3dc6a9c5a ]] \r\n",
       "E4 *- - E5 [[psysml:7432dd52-7523-413e-a125-d9cab4f86aea ]] \r\n",
       "}\r\n",
       "@enduml\r\n",
       "\n",
       "PlantUML version 1.2020.13(Sat Jun 13 12:26:38 UTC 2020)\n",
       "(EPL source distribution)\n",
       "Java Runtime: OpenJDK Runtime Environment\n",
       "JVM: OpenJDK 64-Bit Server VM\n",
       "Default Encoding: UTF-8\n",
       "Language: en\n",
       "Country: null\n",
       "--></g></svg>"
      ]
     },
     "execution_count": 35,
     "metadata": {},
     "output_type": "execute_result"
    }
   ],
   "source": [
    "%viz --style=\"PLANTUML\" --view=\"Sequence\" \"Q\""
   ]
  },
  {
   "cell_type": "code",
   "execution_count": 36,
   "id": "rapid-senate",
   "metadata": {
    "execution": {
     "iopub.execute_input": "2021-03-26T15:40:55.878289Z",
     "iopub.status.busy": "2021-03-26T15:40:55.877150Z",
     "iopub.status.idle": "2021-03-26T15:40:55.905001Z",
     "shell.execute_reply": "2021-03-26T15:40:55.903887Z"
    }
   },
   "outputs": [
    {
     "data": {
      "image/svg+xml": [
       "<?xml version=\"1.0\" encoding=\"UTF-8\" standalone=\"no\"?><svg xmlns=\"http://www.w3.org/2000/svg\" xmlns:xlink=\"http://www.w3.org/1999/xlink\" contentScriptType=\"application/ecmascript\" contentStyleType=\"text/css\" height=\"221px\" preserveAspectRatio=\"none\" style=\"width:241px;height:221px;\" version=\"1.1\" viewBox=\"0 0 241 221\" width=\"241px\" zoomAndPan=\"magnify\"><defs><filter height=\"300%\" id=\"f4ov664kb09c3\" width=\"300%\" x=\"-1\" y=\"-1\"><feGaussianBlur result=\"blurOut\" stdDeviation=\"2.0\"/><feColorMatrix in=\"blurOut\" result=\"blurOut2\" type=\"matrix\" values=\"0 0 0 0 0 0 0 0 0 0 0 0 0 0 0 0 0 0 .4 0\"/><feOffset dx=\"4.0\" dy=\"4.0\" in=\"blurOut2\" result=\"blurOut3\"/><feBlend in=\"SourceGraphic\" in2=\"blurOut3\" mode=\"normal\"/></filter></defs><g><!--MD5=[fbc87193dbaf4d95561dea2c320d4a47]\n",
       "cluster E1--><a href=\"psysml:de03711e-1ba4-461c-851a-9c9209031323\" target=\"_top\" title=\"psysml:de03711e-1ba4-461c-851a-9c9209031323\" xlink:actuate=\"onRequest\" xlink:href=\"psysml:de03711e-1ba4-461c-851a-9c9209031323\" xlink:show=\"new\" xlink:title=\"psysml:de03711e-1ba4-461c-851a-9c9209031323\" xlink:type=\"simple\"><polygon fill=\"#FFFFFF\" filter=\"url(#f4ov664kb09c3)\" points=\"16,6,34,6,41,28.2969,219,28.2969,219,209,16,209,16,6\" style=\"stroke: #000000; stroke-width: 1.5;\"/><line style=\"stroke: #000000; stroke-width: 1.5;\" x1=\"16\" x2=\"41\" y1=\"28.2969\" y2=\"28.2969\"/><text fill=\"#000000\" font-family=\"sans-serif\" font-size=\"14\" font-weight=\"bold\" lengthAdjust=\"spacingAndGlyphs\" textLength=\"12\" x=\"20\" y=\"20.9951\">Q</text></a><!--MD5=[b4997ac47864f28c2f74865a473b2911]\n",
       "class E2--><a href=\"psysml:b9260bcb-04ce-4f8f-94f7-4786232d6bfb\" target=\"_top\" title=\"psysml:b9260bcb-04ce-4f8f-94f7-4786232d6bfb\" xlink:actuate=\"onRequest\" xlink:href=\"psysml:b9260bcb-04ce-4f8f-94f7-4786232d6bfb\" xlink:show=\"new\" xlink:title=\"psysml:b9260bcb-04ce-4f8f-94f7-4786232d6bfb\" xlink:type=\"simple\"><rect fill=\"#FEFECE\" filter=\"url(#f4ov664kb09c3)\" height=\"45.9375\" id=\"E2\" rx=\"10\" ry=\"10\" style=\"stroke: #A80036; stroke-width: 1.5;\" width=\"68\" x=\"135\" y=\"41\"/><ellipse cx=\"150\" cy=\"59.9688\" fill=\"#32CD32\" rx=\"11\" ry=\"11\" style=\"stroke: #A80036; stroke-width: 1.0;\"/><path d=\"M149.7969,55.6406 L149.7969,59.2656 L150.7969,59.2656 Q152,59.2656 152.4844,58.8594 Q152.9688,58.4531 152.9688,57.4531 Q152.9688,56.4531 152.4844,56.0469 Q152,55.6406 150.7969,55.6406 L149.7969,55.6406 Z M147.3438,53.5781 L150.7031,53.5781 Q153.2656,53.5781 154.3906,54.5 Q155.5156,55.4063 155.5156,57.4531 Q155.5156,59.5 154.3906,60.4219 Q153.2656,61.3281 150.7031,61.3281 L149.7969,61.3281 L149.7969,65.9688 L147.3438,65.9688 L147.3438,53.5781 Z \"/><text fill=\"#000000\" font-family=\"sans-serif\" font-size=\"12\" font-style=\"italic\" lengthAdjust=\"spacingAndGlyphs\" textLength=\"40\" x=\"162\" y=\"57.1387\">«part»</text><text fill=\"#000000\" font-family=\"sans-serif\" font-size=\"12\" lengthAdjust=\"spacingAndGlyphs\" textLength=\"4\" x=\"180\" y=\"71.1074\">f</text><line style=\"stroke: #A80036; stroke-width: 1.5;\" x1=\"136\" x2=\"202\" y1=\"78.9375\" y2=\"78.9375\"/></a><!--MD5=[09b614a08d8cba4a07c9adeb5e0fee81]\n",
       "class E3--><a href=\"psysml:76fd413b-d5f3-4ecc-bac0-2db3dc6a9c5a\" target=\"_top\" title=\"psysml:76fd413b-d5f3-4ecc-bac0-2db3dc6a9c5a\" xlink:actuate=\"onRequest\" xlink:href=\"psysml:76fd413b-d5f3-4ecc-bac0-2db3dc6a9c5a\" xlink:show=\"new\" xlink:title=\"psysml:76fd413b-d5f3-4ecc-bac0-2db3dc6a9c5a\" xlink:type=\"simple\"><rect fill=\"#FEFECE\" filter=\"url(#f4ov664kb09c3)\" height=\"45.9375\" id=\"E3\" rx=\"10\" ry=\"10\" style=\"stroke: #A80036; stroke-width: 1.5;\" width=\"68\" x=\"135\" y=\"147\"/><ellipse cx=\"150\" cy=\"165.9688\" fill=\"#32CD32\" rx=\"11\" ry=\"11\" style=\"stroke: #A80036; stroke-width: 1.0;\"/><path d=\"M149.7969,161.6406 L149.7969,165.2656 L150.7969,165.2656 Q152,165.2656 152.4844,164.8594 Q152.9688,164.4531 152.9688,163.4531 Q152.9688,162.4531 152.4844,162.0469 Q152,161.6406 150.7969,161.6406 L149.7969,161.6406 Z M147.3438,159.5781 L150.7031,159.5781 Q153.2656,159.5781 154.3906,160.5 Q155.5156,161.4063 155.5156,163.4531 Q155.5156,165.5 154.3906,166.4219 Q153.2656,167.3281 150.7031,167.3281 L149.7969,167.3281 L149.7969,171.9688 L147.3438,171.9688 L147.3438,159.5781 Z \"/><text fill=\"#000000\" font-family=\"sans-serif\" font-size=\"12\" font-style=\"italic\" lengthAdjust=\"spacingAndGlyphs\" textLength=\"40\" x=\"162\" y=\"163.1387\">«part»</text><text fill=\"#000000\" font-family=\"sans-serif\" font-size=\"12\" lengthAdjust=\"spacingAndGlyphs\" textLength=\"8\" x=\"178\" y=\"177.1074\">a</text><line style=\"stroke: #A80036; stroke-width: 1.5;\" x1=\"136\" x2=\"202\" y1=\"184.9375\" y2=\"184.9375\"/></a><!--MD5=[ebbe1d658d1005bcc118a6aa81145e00]\n",
       "class E4--><a href=\"psysml:c1aefab3-4a15-416c-b89a-8b36fd883d33\" target=\"_top\" title=\"psysml:c1aefab3-4a15-416c-b89a-8b36fd883d33\" xlink:actuate=\"onRequest\" xlink:href=\"psysml:c1aefab3-4a15-416c-b89a-8b36fd883d33\" xlink:show=\"new\" xlink:title=\"psysml:c1aefab3-4a15-416c-b89a-8b36fd883d33\" xlink:type=\"simple\"><rect fill=\"#FEFECE\" filter=\"url(#f4ov664kb09c3)\" height=\"40\" id=\"E4\" style=\"stroke: #A80036; stroke-width: 1.5;\" width=\"40\" x=\"46\" y=\"44\"/><ellipse cx=\"61\" cy=\"60\" fill=\"#008000\" rx=\"11\" ry=\"11\" style=\"stroke: #A80036; stroke-width: 1.0;\"/><path d=\"M59.9063,60.375 L59.9063,64.0469 L61.5313,64.0469 Q62.7031,64.0469 63.1719,63.6563 Q63.6406,63.25 63.6406,62.25 Q63.6406,61.25 63.1406,60.8125 Q62.6563,60.375 61.5313,60.375 L59.9063,60.375 Z M59.9063,55.5469 L59.9063,58.4219 L61.5313,58.4219 Q62.4531,58.4219 62.8438,58.0938 Q63.25,57.75 63.25,57 Q63.25,56.2344 62.8438,55.8906 Q62.4375,55.5469 61.5313,55.5469 L59.9063,55.5469 Z M57.5313,53.5938 L61.5313,53.5938 Q63.5938,53.5938 64.6406,54.375 Q65.6875,55.1563 65.6875,56.7188 Q65.6875,57.9219 65.0625,58.5938 Q64.4531,59.2656 63.2656,59.375 Q64.6875,59.5156 65.4063,60.3281 Q66.125,61.1406 66.125,62.5938 Q66.125,64.3906 65.0469,65.2031 Q63.9688,66 61.5313,66 L57.5313,66 L57.5313,53.5938 Z \"/><text fill=\"#000000\" font-family=\"sans-serif\" font-size=\"12\" lengthAdjust=\"spacingAndGlyphs\" textLength=\"8\" x=\"75\" y=\"64.1543\">C</text><line style=\"stroke: #A80036; stroke-width: 1.5;\" x1=\"47\" x2=\"85\" y1=\"76\" y2=\"76\"/></a><!--MD5=[270fce915f116d4de14055a7c1d9a0f3]\n",
       "class E5--><a href=\"psysml:7432dd52-7523-413e-a125-d9cab4f86aea\" target=\"_top\" title=\"psysml:7432dd52-7523-413e-a125-d9cab4f86aea\" xlink:actuate=\"onRequest\" xlink:href=\"psysml:7432dd52-7523-413e-a125-d9cab4f86aea\" xlink:show=\"new\" xlink:title=\"psysml:7432dd52-7523-413e-a125-d9cab4f86aea\" xlink:type=\"simple\"><rect fill=\"#FEFECE\" filter=\"url(#f4ov664kb09c3)\" height=\"45.9375\" id=\"E5\" rx=\"10\" ry=\"10\" style=\"stroke: #A80036; stroke-width: 1.5;\" width=\"68\" x=\"32\" y=\"147\"/><ellipse cx=\"47\" cy=\"165.9688\" fill=\"#32CD32\" rx=\"11\" ry=\"11\" style=\"stroke: #A80036; stroke-width: 1.0;\"/><path d=\"M46.7969,161.6406 L46.7969,165.2656 L47.7969,165.2656 Q49,165.2656 49.4844,164.8594 Q49.9688,164.4531 49.9688,163.4531 Q49.9688,162.4531 49.4844,162.0469 Q49,161.6406 47.7969,161.6406 L46.7969,161.6406 Z M44.3438,159.5781 L47.7031,159.5781 Q50.2656,159.5781 51.3906,160.5 Q52.5156,161.4063 52.5156,163.4531 Q52.5156,165.5 51.3906,166.4219 Q50.2656,167.3281 47.7031,167.3281 L46.7969,167.3281 L46.7969,171.9688 L44.3438,171.9688 L44.3438,159.5781 Z \"/><text fill=\"#000000\" font-family=\"sans-serif\" font-size=\"12\" font-style=\"italic\" lengthAdjust=\"spacingAndGlyphs\" textLength=\"40\" x=\"59\" y=\"163.1387\">«part»</text><text fill=\"#000000\" font-family=\"sans-serif\" font-size=\"12\" lengthAdjust=\"spacingAndGlyphs\" textLength=\"8\" x=\"75\" y=\"177.1074\">g</text><line style=\"stroke: #A80036; stroke-width: 1.5;\" x1=\"33\" x2=\"99\" y1=\"184.9375\" y2=\"184.9375\"/></a><!--MD5=[209b3feb70ccb6233bfe1053d122c12c]\n",
       "reverse link E2 to E3--><a href=\"psysml:76fd413b-d5f3-4ecc-bac0-2db3dc6a9c5a\" target=\"_top\" title=\"psysml:76fd413b-d5f3-4ecc-bac0-2db3dc6a9c5a\" xlink:actuate=\"onRequest\" xlink:href=\"psysml:76fd413b-d5f3-4ecc-bac0-2db3dc6a9c5a\" xlink:show=\"new\" xlink:title=\"psysml:76fd413b-d5f3-4ecc-bac0-2db3dc6a9c5a\" xlink:type=\"simple\"><path d=\"M169,100.44 C169,115.87 169,133.47 169,146.98 \" fill=\"none\" id=\"E2&lt;-E3\" style=\"stroke: #A80036; stroke-width: 1.0;\"/><polygon fill=\"#A80036\" points=\"169,87.06,165,93.06,169,99.06,173,93.06,169,87.06\" style=\"stroke: #A80036; stroke-width: 1.0;\"/></a><!--MD5=[62aa6af11e70f752912c1cb0466f24f7]\n",
       "reverse link E4 to E5--><a href=\"psysml:7432dd52-7523-413e-a125-d9cab4f86aea\" target=\"_top\" title=\"psysml:7432dd52-7523-413e-a125-d9cab4f86aea\" xlink:actuate=\"onRequest\" xlink:href=\"psysml:7432dd52-7523-413e-a125-d9cab4f86aea\" xlink:show=\"new\" xlink:title=\"psysml:7432dd52-7523-413e-a125-d9cab4f86aea\" xlink:type=\"simple\"><path d=\"M66,97.25 C66,113.33 66,132.37 66,146.8 \" fill=\"none\" id=\"E4&lt;-E5\" style=\"stroke: #A80036; stroke-width: 1.0;\"/><polygon fill=\"#A80036\" points=\"66,84.08,62,90.08,66,96.08,70,90.08,66,84.08\" style=\"stroke: #A80036; stroke-width: 1.0;\"/></a><!--MD5=[7f36dcb060fe7926de5432862539e43a]\n",
       "@startuml\r\n",
       " \r\n",
       "package \"Q\" as E1  [[psysml:de03711e-1ba4-461c-851a-9c9209031323 ]]  {\r\n",
       "comp usage \"f\" as E2  << (P,limegreen) part>> [[psysml:b9260bcb-04ce-4f8f-94f7-4786232d6bfb ]] {\r\n",
       "}\r\n",
       "comp usage \"a\" as E3  << (P,limegreen) part>> [[psysml:76fd413b-d5f3-4ecc-bac0-2db3dc6a9c5a ]] {\r\n",
       "}\r\n",
       "comp def \"C\" as E4  << (B,green) >> [[psysml:c1aefab3-4a15-416c-b89a-8b36fd883d33 ]] {\r\n",
       "}\r\n",
       "comp usage \"g\" as E5  << (P,limegreen) part>> [[psysml:7432dd52-7523-413e-a125-d9cab4f86aea ]] {\r\n",
       "}\r\n",
       "E2 *- - E3 [[psysml:76fd413b-d5f3-4ecc-bac0-2db3dc6a9c5a ]] \r\n",
       "E4 *- - E5 [[psysml:7432dd52-7523-413e-a125-d9cab4f86aea ]] \r\n",
       "}\r\n",
       "@enduml\r\n",
       "\n",
       "PlantUML version 1.2020.13(Sat Jun 13 12:26:38 UTC 2020)\n",
       "(EPL source distribution)\n",
       "Java Runtime: OpenJDK Runtime Environment\n",
       "JVM: OpenJDK 64-Bit Server VM\n",
       "Default Encoding: UTF-8\n",
       "Language: en\n",
       "Country: null\n",
       "--></g></svg>"
      ]
     },
     "execution_count": 36,
     "metadata": {},
     "output_type": "execute_result"
    }
   ],
   "source": [
    "%viz --style=\"PLANTUML\" --view=\"MIXED\" \"Q\""
   ]
  },
  {
   "cell_type": "code",
   "execution_count": 37,
   "id": "optional-lemon",
   "metadata": {
    "execution": {
     "iopub.execute_input": "2021-03-26T15:40:55.957220Z",
     "iopub.status.busy": "2021-03-26T15:40:55.956051Z",
     "iopub.status.idle": "2021-03-26T15:40:55.983478Z",
     "shell.execute_reply": "2021-03-26T15:40:55.982362Z"
    }
   },
   "outputs": [
    {
     "data": {
      "image/svg+xml": [
       "<?xml version=\"1.0\" encoding=\"UTF-8\" standalone=\"no\"?><svg xmlns=\"http://www.w3.org/2000/svg\" xmlns:xlink=\"http://www.w3.org/1999/xlink\" contentScriptType=\"application/ecmascript\" contentStyleType=\"text/css\" height=\"221px\" preserveAspectRatio=\"none\" style=\"width:213px;height:221px;\" version=\"1.1\" viewBox=\"0 0 213 221\" width=\"213px\" zoomAndPan=\"magnify\"><defs/><g><!--MD5=[fbc87193dbaf4d95561dea2c320d4a47]\n",
       "cluster E1--><a href=\"psysml:de03711e-1ba4-461c-851a-9c9209031323\" target=\"_top\" title=\"psysml:de03711e-1ba4-461c-851a-9c9209031323\" xlink:actuate=\"onRequest\" xlink:href=\"psysml:de03711e-1ba4-461c-851a-9c9209031323\" xlink:show=\"new\" xlink:title=\"psysml:de03711e-1ba4-461c-851a-9c9209031323\" xlink:type=\"simple\"><polygon fill=\"#FFFFFF\" points=\"16,6,34,6,41,28.2969,191,28.2969,191,209,16,209,16,6\" style=\"stroke: #000000; stroke-width: 1.5;\"/><line style=\"stroke: #000000; stroke-width: 1.5;\" x1=\"16\" x2=\"41\" y1=\"28.2969\" y2=\"28.2969\"/><text fill=\"#000000\" font-family=\"sans-serif\" font-size=\"14\" font-weight=\"bold\" lengthAdjust=\"spacingAndGlyphs\" textLength=\"12\" x=\"20\" y=\"20.9951\">Q</text></a><!--MD5=[b4997ac47864f28c2f74865a473b2911]\n",
       "class E2--><a href=\"psysml:b9260bcb-04ce-4f8f-94f7-4786232d6bfb\" target=\"_top\" title=\"psysml:b9260bcb-04ce-4f8f-94f7-4786232d6bfb\" xlink:actuate=\"onRequest\" xlink:href=\"psysml:b9260bcb-04ce-4f8f-94f7-4786232d6bfb\" xlink:show=\"new\" xlink:title=\"psysml:b9260bcb-04ce-4f8f-94f7-4786232d6bfb\" xlink:type=\"simple\"><rect fill=\"#FFFFFF\" height=\"45.9375\" id=\"E2\" rx=\"10\" ry=\"10\" style=\"stroke: #383838; stroke-width: 1.5;\" width=\"42\" x=\"133\" y=\"41\"/><text fill=\"#000000\" font-family=\"sans-serif\" font-size=\"12\" font-style=\"italic\" lengthAdjust=\"spacingAndGlyphs\" textLength=\"40\" x=\"134\" y=\"57.1387\">«part»</text><text fill=\"#000000\" font-family=\"sans-serif\" font-size=\"12\" lengthAdjust=\"spacingAndGlyphs\" textLength=\"4\" x=\"152\" y=\"71.1074\">f</text><line style=\"stroke: #383838; stroke-width: 1.5;\" x1=\"134\" x2=\"174\" y1=\"78.9375\" y2=\"78.9375\"/></a><!--MD5=[09b614a08d8cba4a07c9adeb5e0fee81]\n",
       "class E3--><a href=\"psysml:76fd413b-d5f3-4ecc-bac0-2db3dc6a9c5a\" target=\"_top\" title=\"psysml:76fd413b-d5f3-4ecc-bac0-2db3dc6a9c5a\" xlink:actuate=\"onRequest\" xlink:href=\"psysml:76fd413b-d5f3-4ecc-bac0-2db3dc6a9c5a\" xlink:show=\"new\" xlink:title=\"psysml:76fd413b-d5f3-4ecc-bac0-2db3dc6a9c5a\" xlink:type=\"simple\"><rect fill=\"#FFFFFF\" height=\"45.9375\" id=\"E3\" rx=\"10\" ry=\"10\" style=\"stroke: #383838; stroke-width: 1.5;\" width=\"42\" x=\"133\" y=\"147\"/><text fill=\"#000000\" font-family=\"sans-serif\" font-size=\"12\" font-style=\"italic\" lengthAdjust=\"spacingAndGlyphs\" textLength=\"40\" x=\"134\" y=\"163.1387\">«part»</text><text fill=\"#000000\" font-family=\"sans-serif\" font-size=\"12\" lengthAdjust=\"spacingAndGlyphs\" textLength=\"8\" x=\"150\" y=\"177.1074\">a</text><line style=\"stroke: #383838; stroke-width: 1.5;\" x1=\"134\" x2=\"174\" y1=\"184.9375\" y2=\"184.9375\"/></a><!--MD5=[ebbe1d658d1005bcc118a6aa81145e00]\n",
       "class E4--><a href=\"psysml:c1aefab3-4a15-416c-b89a-8b36fd883d33\" target=\"_top\" title=\"psysml:c1aefab3-4a15-416c-b89a-8b36fd883d33\" xlink:actuate=\"onRequest\" xlink:href=\"psysml:c1aefab3-4a15-416c-b89a-8b36fd883d33\" xlink:show=\"new\" xlink:title=\"psysml:c1aefab3-4a15-416c-b89a-8b36fd883d33\" xlink:type=\"simple\"><rect fill=\"#FFFFFF\" height=\"45.9375\" id=\"E4\" style=\"stroke: #383838; stroke-width: 1.5;\" width=\"66\" x=\"32\" y=\"41\"/><text fill=\"#000000\" font-family=\"sans-serif\" font-size=\"12\" font-style=\"italic\" lengthAdjust=\"spacingAndGlyphs\" textLength=\"64\" x=\"33\" y=\"57.1387\">«part def»</text><text fill=\"#000000\" font-family=\"sans-serif\" font-size=\"12\" lengthAdjust=\"spacingAndGlyphs\" textLength=\"8\" x=\"61\" y=\"71.1074\">C</text><line style=\"stroke: #383838; stroke-width: 1.5;\" x1=\"33\" x2=\"97\" y1=\"78.9375\" y2=\"78.9375\"/></a><!--MD5=[270fce915f116d4de14055a7c1d9a0f3]\n",
       "class E5--><a href=\"psysml:7432dd52-7523-413e-a125-d9cab4f86aea\" target=\"_top\" title=\"psysml:7432dd52-7523-413e-a125-d9cab4f86aea\" xlink:actuate=\"onRequest\" xlink:href=\"psysml:7432dd52-7523-413e-a125-d9cab4f86aea\" xlink:show=\"new\" xlink:title=\"psysml:7432dd52-7523-413e-a125-d9cab4f86aea\" xlink:type=\"simple\"><rect fill=\"#FFFFFF\" height=\"45.9375\" id=\"E5\" rx=\"10\" ry=\"10\" style=\"stroke: #383838; stroke-width: 1.5;\" width=\"42\" x=\"44\" y=\"147\"/><text fill=\"#000000\" font-family=\"sans-serif\" font-size=\"12\" font-style=\"italic\" lengthAdjust=\"spacingAndGlyphs\" textLength=\"40\" x=\"45\" y=\"163.1387\">«part»</text><text fill=\"#000000\" font-family=\"sans-serif\" font-size=\"12\" lengthAdjust=\"spacingAndGlyphs\" textLength=\"8\" x=\"61\" y=\"177.1074\">g</text><line style=\"stroke: #383838; stroke-width: 1.5;\" x1=\"45\" x2=\"85\" y1=\"184.9375\" y2=\"184.9375\"/></a><!--MD5=[209b3feb70ccb6233bfe1053d122c12c]\n",
       "reverse link E2 to E3--><a href=\"psysml:76fd413b-d5f3-4ecc-bac0-2db3dc6a9c5a\" target=\"_top\" title=\"psysml:76fd413b-d5f3-4ecc-bac0-2db3dc6a9c5a\" xlink:actuate=\"onRequest\" xlink:href=\"psysml:76fd413b-d5f3-4ecc-bac0-2db3dc6a9c5a\" xlink:show=\"new\" xlink:title=\"psysml:76fd413b-d5f3-4ecc-bac0-2db3dc6a9c5a\" xlink:type=\"simple\"><path d=\"M154,100.44 C154,115.87 154,133.47 154,146.98 \" fill=\"none\" id=\"E2&lt;-E3\" style=\"stroke: #383838; stroke-width: 1.0;\"/><polygon fill=\"#383838\" points=\"154,87.06,150,93.06,154,99.06,158,93.06,154,87.06\" style=\"stroke: #383838; stroke-width: 1.0;\"/></a><!--MD5=[62aa6af11e70f752912c1cb0466f24f7]\n",
       "reverse link E4 to E5--><a href=\"psysml:7432dd52-7523-413e-a125-d9cab4f86aea\" target=\"_top\" title=\"psysml:7432dd52-7523-413e-a125-d9cab4f86aea\" xlink:actuate=\"onRequest\" xlink:href=\"psysml:7432dd52-7523-413e-a125-d9cab4f86aea\" xlink:show=\"new\" xlink:title=\"psysml:7432dd52-7523-413e-a125-d9cab4f86aea\" xlink:type=\"simple\"><path d=\"M65,100.44 C65,115.87 65,133.47 65,146.98 \" fill=\"none\" id=\"E4&lt;-E5\" style=\"stroke: #383838; stroke-width: 1.0;\"/><polygon fill=\"#383838\" points=\"65,87.06,61,93.06,65,99.06,69,93.06,65,87.06\" style=\"stroke: #383838; stroke-width: 1.0;\"/></a><!--MD5=[4ed5fe4316d60482edae8f295c7ed4c9]\n",
       "@startuml\r\n",
       "skinparam monochrome true\r\n",
       "skinparam classbackgroundcolor white\r\n",
       "skinparam shadowing false\r\n",
       "skinparam wrapWidth 300\r\n",
       "hide circle\r\n",
       "\r\n",
       "package \"Q\" as E1  [[psysml:de03711e-1ba4-461c-851a-9c9209031323 ]]  {\r\n",
       "comp usage \"f\" as E2  <<(T,blue)part>> [[psysml:b9260bcb-04ce-4f8f-94f7-4786232d6bfb ]] {\r\n",
       "}\r\n",
       "comp usage \"a\" as E3  <<(T,blue)part>> [[psysml:76fd413b-d5f3-4ecc-bac0-2db3dc6a9c5a ]] {\r\n",
       "}\r\n",
       "comp def \"C\" as E4  <<(T,blue)part def>> [[psysml:c1aefab3-4a15-416c-b89a-8b36fd883d33 ]] {\r\n",
       "}\r\n",
       "comp usage \"g\" as E5  <<(T,blue)part>> [[psysml:7432dd52-7523-413e-a125-d9cab4f86aea ]] {\r\n",
       "}\r\n",
       "E2 *- - E3 [[psysml:76fd413b-d5f3-4ecc-bac0-2db3dc6a9c5a ]] \r\n",
       "E4 *- - E5 [[psysml:7432dd52-7523-413e-a125-d9cab4f86aea ]] \r\n",
       "}\r\n",
       "@enduml\r\n",
       "\n",
       "PlantUML version 1.2020.13(Sat Jun 13 12:26:38 UTC 2020)\n",
       "(EPL source distribution)\n",
       "Java Runtime: OpenJDK Runtime Environment\n",
       "JVM: OpenJDK 64-Bit Server VM\n",
       "Default Encoding: UTF-8\n",
       "Language: en\n",
       "Country: null\n",
       "--></g></svg>"
      ]
     },
     "execution_count": 37,
     "metadata": {},
     "output_type": "execute_result"
    }
   ],
   "source": [
    "%viz --style=\"DEFAULT\" --view=\"Default\" \"Q\""
   ]
  },
  {
   "cell_type": "code",
   "execution_count": 38,
   "id": "searching-mercury",
   "metadata": {
    "execution": {
     "iopub.execute_input": "2021-03-26T15:40:56.034001Z",
     "iopub.status.busy": "2021-03-26T15:40:56.033461Z",
     "iopub.status.idle": "2021-03-26T15:40:56.061480Z",
     "shell.execute_reply": "2021-03-26T15:40:56.060297Z"
    }
   },
   "outputs": [
    {
     "data": {
      "image/svg+xml": [
       "<?xml version=\"1.0\" encoding=\"UTF-8\" standalone=\"no\"?><svg xmlns=\"http://www.w3.org/2000/svg\" xmlns:xlink=\"http://www.w3.org/1999/xlink\" contentScriptType=\"application/ecmascript\" contentStyleType=\"text/css\" height=\"221px\" preserveAspectRatio=\"none\" style=\"width:213px;height:221px;\" version=\"1.1\" viewBox=\"0 0 213 221\" width=\"213px\" zoomAndPan=\"magnify\"><defs/><g><!--MD5=[fbc87193dbaf4d95561dea2c320d4a47]\n",
       "cluster E1--><a href=\"psysml:de03711e-1ba4-461c-851a-9c9209031323\" target=\"_top\" title=\"psysml:de03711e-1ba4-461c-851a-9c9209031323\" xlink:actuate=\"onRequest\" xlink:href=\"psysml:de03711e-1ba4-461c-851a-9c9209031323\" xlink:show=\"new\" xlink:title=\"psysml:de03711e-1ba4-461c-851a-9c9209031323\" xlink:type=\"simple\"><polygon fill=\"#FFFFFF\" points=\"16,6,34,6,41,28.2969,191,28.2969,191,209,16,209,16,6\" style=\"stroke: #000000; stroke-width: 1.5;\"/><line style=\"stroke: #000000; stroke-width: 1.5;\" x1=\"16\" x2=\"41\" y1=\"28.2969\" y2=\"28.2969\"/><text fill=\"#000000\" font-family=\"sans-serif\" font-size=\"14\" font-weight=\"bold\" lengthAdjust=\"spacingAndGlyphs\" textLength=\"12\" x=\"20\" y=\"20.9951\">Q</text></a><!--MD5=[b4997ac47864f28c2f74865a473b2911]\n",
       "class E2--><a href=\"psysml:b9260bcb-04ce-4f8f-94f7-4786232d6bfb\" target=\"_top\" title=\"psysml:b9260bcb-04ce-4f8f-94f7-4786232d6bfb\" xlink:actuate=\"onRequest\" xlink:href=\"psysml:b9260bcb-04ce-4f8f-94f7-4786232d6bfb\" xlink:show=\"new\" xlink:title=\"psysml:b9260bcb-04ce-4f8f-94f7-4786232d6bfb\" xlink:type=\"simple\"><rect fill=\"#FFFFFF\" height=\"45.9375\" id=\"E2\" rx=\"10\" ry=\"10\" style=\"stroke: #383838; stroke-width: 1.5;\" width=\"42\" x=\"133\" y=\"41\"/><text fill=\"#000000\" font-family=\"sans-serif\" font-size=\"12\" font-style=\"italic\" lengthAdjust=\"spacingAndGlyphs\" textLength=\"40\" x=\"134\" y=\"57.1387\">«part»</text><text fill=\"#000000\" font-family=\"sans-serif\" font-size=\"12\" lengthAdjust=\"spacingAndGlyphs\" textLength=\"4\" x=\"152\" y=\"71.1074\">f</text><line style=\"stroke: #383838; stroke-width: 1.5;\" x1=\"134\" x2=\"174\" y1=\"78.9375\" y2=\"78.9375\"/></a><!--MD5=[09b614a08d8cba4a07c9adeb5e0fee81]\n",
       "class E3--><a href=\"psysml:76fd413b-d5f3-4ecc-bac0-2db3dc6a9c5a\" target=\"_top\" title=\"psysml:76fd413b-d5f3-4ecc-bac0-2db3dc6a9c5a\" xlink:actuate=\"onRequest\" xlink:href=\"psysml:76fd413b-d5f3-4ecc-bac0-2db3dc6a9c5a\" xlink:show=\"new\" xlink:title=\"psysml:76fd413b-d5f3-4ecc-bac0-2db3dc6a9c5a\" xlink:type=\"simple\"><rect fill=\"#FFFFFF\" height=\"45.9375\" id=\"E3\" rx=\"10\" ry=\"10\" style=\"stroke: #383838; stroke-width: 1.5;\" width=\"42\" x=\"133\" y=\"147\"/><text fill=\"#000000\" font-family=\"sans-serif\" font-size=\"12\" font-style=\"italic\" lengthAdjust=\"spacingAndGlyphs\" textLength=\"40\" x=\"134\" y=\"163.1387\">«part»</text><text fill=\"#000000\" font-family=\"sans-serif\" font-size=\"12\" lengthAdjust=\"spacingAndGlyphs\" textLength=\"8\" x=\"150\" y=\"177.1074\">a</text><line style=\"stroke: #383838; stroke-width: 1.5;\" x1=\"134\" x2=\"174\" y1=\"184.9375\" y2=\"184.9375\"/></a><!--MD5=[ebbe1d658d1005bcc118a6aa81145e00]\n",
       "class E4--><a href=\"psysml:c1aefab3-4a15-416c-b89a-8b36fd883d33\" target=\"_top\" title=\"psysml:c1aefab3-4a15-416c-b89a-8b36fd883d33\" xlink:actuate=\"onRequest\" xlink:href=\"psysml:c1aefab3-4a15-416c-b89a-8b36fd883d33\" xlink:show=\"new\" xlink:title=\"psysml:c1aefab3-4a15-416c-b89a-8b36fd883d33\" xlink:type=\"simple\"><rect fill=\"#FFFFFF\" height=\"45.9375\" id=\"E4\" style=\"stroke: #383838; stroke-width: 1.5;\" width=\"66\" x=\"32\" y=\"41\"/><text fill=\"#000000\" font-family=\"sans-serif\" font-size=\"12\" font-style=\"italic\" lengthAdjust=\"spacingAndGlyphs\" textLength=\"64\" x=\"33\" y=\"57.1387\">«part def»</text><text fill=\"#000000\" font-family=\"sans-serif\" font-size=\"12\" lengthAdjust=\"spacingAndGlyphs\" textLength=\"8\" x=\"61\" y=\"71.1074\">C</text><line style=\"stroke: #383838; stroke-width: 1.5;\" x1=\"33\" x2=\"97\" y1=\"78.9375\" y2=\"78.9375\"/></a><!--MD5=[270fce915f116d4de14055a7c1d9a0f3]\n",
       "class E5--><a href=\"psysml:7432dd52-7523-413e-a125-d9cab4f86aea\" target=\"_top\" title=\"psysml:7432dd52-7523-413e-a125-d9cab4f86aea\" xlink:actuate=\"onRequest\" xlink:href=\"psysml:7432dd52-7523-413e-a125-d9cab4f86aea\" xlink:show=\"new\" xlink:title=\"psysml:7432dd52-7523-413e-a125-d9cab4f86aea\" xlink:type=\"simple\"><rect fill=\"#FFFFFF\" height=\"45.9375\" id=\"E5\" rx=\"10\" ry=\"10\" style=\"stroke: #383838; stroke-width: 1.5;\" width=\"42\" x=\"44\" y=\"147\"/><text fill=\"#000000\" font-family=\"sans-serif\" font-size=\"12\" font-style=\"italic\" lengthAdjust=\"spacingAndGlyphs\" textLength=\"40\" x=\"45\" y=\"163.1387\">«part»</text><text fill=\"#000000\" font-family=\"sans-serif\" font-size=\"12\" lengthAdjust=\"spacingAndGlyphs\" textLength=\"8\" x=\"61\" y=\"177.1074\">g</text><line style=\"stroke: #383838; stroke-width: 1.5;\" x1=\"45\" x2=\"85\" y1=\"184.9375\" y2=\"184.9375\"/></a><!--MD5=[209b3feb70ccb6233bfe1053d122c12c]\n",
       "reverse link E2 to E3--><a href=\"psysml:76fd413b-d5f3-4ecc-bac0-2db3dc6a9c5a\" target=\"_top\" title=\"psysml:76fd413b-d5f3-4ecc-bac0-2db3dc6a9c5a\" xlink:actuate=\"onRequest\" xlink:href=\"psysml:76fd413b-d5f3-4ecc-bac0-2db3dc6a9c5a\" xlink:show=\"new\" xlink:title=\"psysml:76fd413b-d5f3-4ecc-bac0-2db3dc6a9c5a\" xlink:type=\"simple\"><path d=\"M154,100.44 C154,115.87 154,133.47 154,146.98 \" fill=\"none\" id=\"E2&lt;-E3\" style=\"stroke: #383838; stroke-width: 1.0;\"/><polygon fill=\"#383838\" points=\"154,87.06,150,93.06,154,99.06,158,93.06,154,87.06\" style=\"stroke: #383838; stroke-width: 1.0;\"/></a><!--MD5=[62aa6af11e70f752912c1cb0466f24f7]\n",
       "reverse link E4 to E5--><a href=\"psysml:7432dd52-7523-413e-a125-d9cab4f86aea\" target=\"_top\" title=\"psysml:7432dd52-7523-413e-a125-d9cab4f86aea\" xlink:actuate=\"onRequest\" xlink:href=\"psysml:7432dd52-7523-413e-a125-d9cab4f86aea\" xlink:show=\"new\" xlink:title=\"psysml:7432dd52-7523-413e-a125-d9cab4f86aea\" xlink:type=\"simple\"><path d=\"M65,100.44 C65,115.87 65,133.47 65,146.98 \" fill=\"none\" id=\"E4&lt;-E5\" style=\"stroke: #383838; stroke-width: 1.0;\"/><polygon fill=\"#383838\" points=\"65,87.06,61,93.06,65,99.06,69,93.06,65,87.06\" style=\"stroke: #383838; stroke-width: 1.0;\"/></a><!--MD5=[4ed5fe4316d60482edae8f295c7ed4c9]\n",
       "@startuml\r\n",
       "skinparam monochrome true\r\n",
       "skinparam classbackgroundcolor white\r\n",
       "skinparam shadowing false\r\n",
       "skinparam wrapWidth 300\r\n",
       "hide circle\r\n",
       "\r\n",
       "package \"Q\" as E1  [[psysml:de03711e-1ba4-461c-851a-9c9209031323 ]]  {\r\n",
       "comp usage \"f\" as E2  <<(T,blue)part>> [[psysml:b9260bcb-04ce-4f8f-94f7-4786232d6bfb ]] {\r\n",
       "}\r\n",
       "comp usage \"a\" as E3  <<(T,blue)part>> [[psysml:76fd413b-d5f3-4ecc-bac0-2db3dc6a9c5a ]] {\r\n",
       "}\r\n",
       "comp def \"C\" as E4  <<(T,blue)part def>> [[psysml:c1aefab3-4a15-416c-b89a-8b36fd883d33 ]] {\r\n",
       "}\r\n",
       "comp usage \"g\" as E5  <<(T,blue)part>> [[psysml:7432dd52-7523-413e-a125-d9cab4f86aea ]] {\r\n",
       "}\r\n",
       "E2 *- - E3 [[psysml:76fd413b-d5f3-4ecc-bac0-2db3dc6a9c5a ]] \r\n",
       "E4 *- - E5 [[psysml:7432dd52-7523-413e-a125-d9cab4f86aea ]] \r\n",
       "}\r\n",
       "@enduml\r\n",
       "\n",
       "PlantUML version 1.2020.13(Sat Jun 13 12:26:38 UTC 2020)\n",
       "(EPL source distribution)\n",
       "Java Runtime: OpenJDK Runtime Environment\n",
       "JVM: OpenJDK 64-Bit Server VM\n",
       "Default Encoding: UTF-8\n",
       "Language: en\n",
       "Country: null\n",
       "--></g></svg>"
      ]
     },
     "execution_count": 38,
     "metadata": {},
     "output_type": "execute_result"
    }
   ],
   "source": [
    "%viz --style=\"DEFAULT\" --view=\"Tree\" \"Q\""
   ]
  },
  {
   "cell_type": "code",
   "execution_count": 39,
   "id": "phantom-looking",
   "metadata": {
    "execution": {
     "iopub.execute_input": "2021-03-26T15:40:56.111884Z",
     "iopub.status.busy": "2021-03-26T15:40:56.111489Z",
     "iopub.status.idle": "2021-03-26T15:40:56.116106Z",
     "shell.execute_reply": "2021-03-26T15:40:56.115720Z"
    }
   },
   "outputs": [
    {
     "data": {
      "image/svg+xml": [
       "<?xml version=\"1.0\" encoding=\"UTF-8\" standalone=\"no\"?><svg xmlns=\"http://www.w3.org/2000/svg\" xmlns:xlink=\"http://www.w3.org/1999/xlink\" contentScriptType=\"application/ecmascript\" contentStyleType=\"text/css\" height=\"12px\" preserveAspectRatio=\"none\" style=\"width:12px;height:12px;\" version=\"1.1\" viewBox=\"0 0 12 12\" width=\"12px\" zoomAndPan=\"magnify\"><defs/><g><!--MD5=[c5f280e076d0d61ccf4b0f27871bda1d]\n",
       "@startuml\r\n",
       "skinparam monochrome true\r\n",
       "skinparam classbackgroundcolor white\r\n",
       "skinparam shadowing false\r\n",
       "skinparam wrapWidth 300\r\n",
       "hide circle\r\n",
       "\r\n",
       "@enduml\r\n",
       "\n",
       "PlantUML version 1.2020.13(Sat Jun 13 12:26:38 UTC 2020)\n",
       "(EPL source distribution)\n",
       "Java Runtime: OpenJDK Runtime Environment\n",
       "JVM: OpenJDK 64-Bit Server VM\n",
       "Default Encoding: UTF-8\n",
       "Language: en\n",
       "Country: null\n",
       "--></g></svg>"
      ]
     },
     "execution_count": 39,
     "metadata": {},
     "output_type": "execute_result"
    }
   ],
   "source": [
    "%viz --style=\"DEFAULT\" --view=\"State\" \"Q\""
   ]
  },
  {
   "cell_type": "code",
   "execution_count": 40,
   "id": "straight-miller",
   "metadata": {
    "execution": {
     "iopub.execute_input": "2021-03-26T15:40:56.166970Z",
     "iopub.status.busy": "2021-03-26T15:40:56.166484Z",
     "iopub.status.idle": "2021-03-26T15:40:56.193421Z",
     "shell.execute_reply": "2021-03-26T15:40:56.192066Z"
    }
   },
   "outputs": [
    {
     "data": {
      "image/svg+xml": [
       "<?xml version=\"1.0\" encoding=\"UTF-8\" standalone=\"no\"?><svg xmlns=\"http://www.w3.org/2000/svg\" xmlns:xlink=\"http://www.w3.org/1999/xlink\" contentScriptType=\"application/ecmascript\" contentStyleType=\"text/css\" height=\"192px\" preserveAspectRatio=\"none\" style=\"width:286px;height:192px;\" version=\"1.1\" viewBox=\"0 0 286 192\" width=\"286px\" zoomAndPan=\"magnify\"><defs/><g><!--MD5=[fbc87193dbaf4d95561dea2c320d4a47]\n",
       "cluster E1--><a href=\"psysml:de03711e-1ba4-461c-851a-9c9209031323\" target=\"_top\" title=\"psysml:de03711e-1ba4-461c-851a-9c9209031323\" xlink:actuate=\"onRequest\" xlink:href=\"psysml:de03711e-1ba4-461c-851a-9c9209031323\" xlink:show=\"new\" xlink:title=\"psysml:de03711e-1ba4-461c-851a-9c9209031323\" xlink:type=\"simple\"><polygon fill=\"#FFFFFF\" points=\"16,6,34,6,41,28.2969,264,28.2969,264,180,16,180,16,6\" style=\"stroke: #000000; stroke-width: 1.5;\"/><line style=\"stroke: #000000; stroke-width: 1.5;\" x1=\"16\" x2=\"41\" y1=\"28.2969\" y2=\"28.2969\"/><text fill=\"#000000\" font-family=\"sans-serif\" font-size=\"14\" font-weight=\"bold\" lengthAdjust=\"spacingAndGlyphs\" textLength=\"12\" x=\"20\" y=\"20.9951\">Q</text></a><!--MD5=[e4f7fae6ed58524ba242bb0b0d3be6b7]\n",
       "cluster E2--><a href=\"psysml:b9260bcb-04ce-4f8f-94f7-4786232d6bfb\" target=\"_top\" title=\"psysml:b9260bcb-04ce-4f8f-94f7-4786232d6bfb\" xlink:actuate=\"onRequest\" xlink:href=\"psysml:b9260bcb-04ce-4f8f-94f7-4786232d6bfb\" xlink:show=\"new\" xlink:title=\"psysml:b9260bcb-04ce-4f8f-94f7-4786232d6bfb\" xlink:type=\"simple\"><rect fill=\"#FFFFFF\" height=\"91\" id=\"E2\" rx=\"10\" ry=\"10\" style=\"stroke: #383838; stroke-width: 1.5;\" width=\"82\" x=\"158\" y=\"65\"/><rect fill=\"#F8F8F8\" height=\"23.9688\" rx=\"10\" ry=\"10\" style=\"stroke: #F8F8F8; stroke-width: 1.5;\" width=\"82\" x=\"158\" y=\"65\"/><rect fill=\"#F8F8F8\" height=\"10\" style=\"stroke: #F8F8F8; stroke-width: 1.5;\" width=\"82\" x=\"158\" y=\"78.9688\"/><rect fill=\"none\" height=\"91\" id=\"E2\" rx=\"10\" ry=\"10\" style=\"stroke: #383838; stroke-width: 1.5;\" width=\"82\" x=\"158\" y=\"65\"/><text fill=\"#000000\" font-family=\"sans-serif\" font-size=\"12\" lengthAdjust=\"spacingAndGlyphs\" textLength=\"4\" x=\"197\" y=\"81.1387\">f</text><line style=\"stroke: #383838; stroke-width: 1.0;\" x1=\"158\" x2=\"240\" y1=\"88.9688\" y2=\"88.9688\"/></a><!--MD5=[f6df4d0ebaf0b5dfb2ced0ae5af7c670]\n",
       "cluster E4--><a href=\"psysml:c1aefab3-4a15-416c-b89a-8b36fd883d33\" target=\"_top\" title=\"psysml:c1aefab3-4a15-416c-b89a-8b36fd883d33\" xlink:actuate=\"onRequest\" xlink:href=\"psysml:c1aefab3-4a15-416c-b89a-8b36fd883d33\" xlink:show=\"new\" xlink:title=\"psysml:c1aefab3-4a15-416c-b89a-8b36fd883d33\" xlink:type=\"simple\"><rect fill=\"#FFFFFF\" height=\"107\" id=\"E4\" style=\"stroke: #383838; stroke-width: 1.5;\" width=\"94\" x=\"40\" y=\"49\"/><rect fill=\"#F8F8F8\" height=\"37.9375\" style=\"stroke: #383838; stroke-width: 1.5;\" width=\"94\" x=\"40\" y=\"49\"/><text fill=\"#000000\" font-family=\"sans-serif\" font-size=\"12\" font-style=\"italic\" lengthAdjust=\"spacingAndGlyphs\" textLength=\"64\" x=\"55\" y=\"65.1387\">«part def»</text><text fill=\"#000000\" font-family=\"sans-serif\" font-size=\"12\" lengthAdjust=\"spacingAndGlyphs\" textLength=\"8\" x=\"83\" y=\"79.1074\">C</text></a><g id=\"E1.E2.E3\"><a href=\"psysml:76fd413b-d5f3-4ecc-bac0-2db3dc6a9c5a\" target=\"_top\" title=\"psysml:76fd413b-d5f3-4ecc-bac0-2db3dc6a9c5a\" xlink:actuate=\"onRequest\" xlink:href=\"psysml:76fd413b-d5f3-4ecc-bac0-2db3dc6a9c5a\" xlink:show=\"new\" xlink:title=\"psysml:76fd413b-d5f3-4ecc-bac0-2db3dc6a9c5a\" xlink:type=\"simple\"><rect fill=\"#FFFFFF\" height=\"40\" id=\"E3\" rx=\"10\" ry=\"10\" style=\"stroke: #383838; stroke-width: 1.5;\" width=\"50\" x=\"174\" y=\"100\"/><rect fill=\"#F8F8F8\" height=\"23.9688\" rx=\"10\" ry=\"10\" style=\"stroke: #F8F8F8; stroke-width: 1.5;\" width=\"50\" x=\"174\" y=\"100\"/><rect fill=\"#F8F8F8\" height=\"10\" style=\"stroke: #F8F8F8; stroke-width: 1.5;\" width=\"50\" x=\"174\" y=\"113.9688\"/><rect fill=\"none\" height=\"40\" id=\"E3\" rx=\"10\" ry=\"10\" style=\"stroke: #383838; stroke-width: 1.5;\" width=\"50\" x=\"174\" y=\"100\"/><text fill=\"#000000\" font-family=\"sans-serif\" font-size=\"12\" lengthAdjust=\"spacingAndGlyphs\" textLength=\"8\" x=\"195\" y=\"116.1387\">a</text></a></g><g id=\"E1.E4.E5\"><a href=\"psysml:7432dd52-7523-413e-a125-d9cab4f86aea\" target=\"_top\" title=\"psysml:7432dd52-7523-413e-a125-d9cab4f86aea\" xlink:actuate=\"onRequest\" xlink:href=\"psysml:7432dd52-7523-413e-a125-d9cab4f86aea\" xlink:show=\"new\" xlink:title=\"psysml:7432dd52-7523-413e-a125-d9cab4f86aea\" xlink:type=\"simple\"><rect fill=\"#FFFFFF\" height=\"40\" id=\"E5\" rx=\"10\" ry=\"10\" style=\"stroke: #383838; stroke-width: 1.5;\" width=\"61\" x=\"56.5\" y=\"100\"/><rect fill=\"#F8F8F8\" height=\"23.9688\" rx=\"10\" ry=\"10\" style=\"stroke: #F8F8F8; stroke-width: 1.5;\" width=\"61\" x=\"56.5\" y=\"100\"/><rect fill=\"#F8F8F8\" height=\"10\" style=\"stroke: #F8F8F8; stroke-width: 1.5;\" width=\"61\" x=\"56.5\" y=\"113.9688\"/><rect fill=\"none\" height=\"40\" id=\"E5\" rx=\"10\" ry=\"10\" style=\"stroke: #383838; stroke-width: 1.5;\" width=\"61\" x=\"56.5\" y=\"100\"/><text fill=\"#000000\" font-family=\"sans-serif\" font-size=\"12\" lengthAdjust=\"spacingAndGlyphs\" textLength=\"46\" x=\"62\" y=\"116.1387\">g=./f/a;</text></a></g><!--MD5=[ff952aae0b8dade38cbc8e1c61d148b7]\n",
       "@startuml\r\n",
       "skinparam ranksep 10\r\n",
       "skinparam rectangle {\r\n",
       " backgroundColor<<block>> LightGreen\r\n",
       "}\r\n",
       "skinparam monochrome true\r\n",
       "skinparam classbackgroundcolor white\r\n",
       "skinparam shadowing false\r\n",
       "skinparam wrapWidth 300\r\n",
       "hide circle\r\n",
       "\r\n",
       "package \"Q\" as E1  [[psysml:de03711e-1ba4-461c-851a-9c9209031323 ]]  {\r\n",
       "rec usage \"f\" as E2  [[psysml:b9260bcb-04ce-4f8f-94f7-4786232d6bfb ]] {\r\n",
       "rec usage \"a\" as E3  [[psysml:76fd413b-d5f3-4ecc-bac0-2db3dc6a9c5a ]] {\r\n",
       "}\r\n",
       "}\r\n",
       "rec def \"C\" as E4  <<(T,blue)part def>> [[psysml:c1aefab3-4a15-416c-b89a-8b36fd883d33 ]] {\r\n",
       "rec usage \"g=./f/a; \" as E5  [[psysml:7432dd52-7523-413e-a125-d9cab4f86aea ]] {\r\n",
       "}\r\n",
       "}\r\n",
       "}\r\n",
       "@enduml\r\n",
       "\n",
       "PlantUML version 1.2020.13(Sat Jun 13 12:26:38 UTC 2020)\n",
       "(EPL source distribution)\n",
       "Java Runtime: OpenJDK Runtime Environment\n",
       "JVM: OpenJDK 64-Bit Server VM\n",
       "Default Encoding: UTF-8\n",
       "Language: en\n",
       "Country: null\n",
       "--></g></svg>"
      ]
     },
     "execution_count": 40,
     "metadata": {},
     "output_type": "execute_result"
    }
   ],
   "source": [
    "%viz --style=\"DEFAULT\" --view=\"Interconnection\" \"Q\""
   ]
  },
  {
   "cell_type": "code",
   "execution_count": 41,
   "id": "eight-defensive",
   "metadata": {
    "execution": {
     "iopub.execute_input": "2021-03-26T15:40:56.245258Z",
     "iopub.status.busy": "2021-03-26T15:40:56.244226Z",
     "iopub.status.idle": "2021-03-26T15:40:56.250313Z",
     "shell.execute_reply": "2021-03-26T15:40:56.249953Z"
    }
   },
   "outputs": [
    {
     "data": {
      "image/svg+xml": [
       "<?xml version=\"1.0\" encoding=\"UTF-8\" standalone=\"no\"?><svg xmlns=\"http://www.w3.org/2000/svg\" xmlns:xlink=\"http://www.w3.org/1999/xlink\" contentScriptType=\"application/ecmascript\" contentStyleType=\"text/css\" height=\"12px\" preserveAspectRatio=\"none\" style=\"width:12px;height:12px;\" version=\"1.1\" viewBox=\"0 0 12 12\" width=\"12px\" zoomAndPan=\"magnify\"><defs/><g><!--MD5=[388f21188e31bfdd97050473b19af356]\n",
       "@startuml\r\n",
       "skinparam ranksep 8\r\n",
       "skinparam monochrome true\r\n",
       "skinparam classbackgroundcolor white\r\n",
       "skinparam shadowing false\r\n",
       "skinparam wrapWidth 300\r\n",
       "hide circle\r\n",
       "\r\n",
       "@enduml\r\n",
       "\n",
       "PlantUML version 1.2020.13(Sat Jun 13 12:26:38 UTC 2020)\n",
       "(EPL source distribution)\n",
       "Java Runtime: OpenJDK Runtime Environment\n",
       "JVM: OpenJDK 64-Bit Server VM\n",
       "Default Encoding: UTF-8\n",
       "Language: en\n",
       "Country: null\n",
       "--></g></svg>"
      ]
     },
     "execution_count": 41,
     "metadata": {},
     "output_type": "execute_result"
    }
   ],
   "source": [
    "%viz --style=\"DEFAULT\" --view=\"Action\" \"Q\""
   ]
  },
  {
   "cell_type": "code",
   "execution_count": 42,
   "id": "electrical-rotation",
   "metadata": {
    "execution": {
     "iopub.execute_input": "2021-03-26T15:40:56.302343Z",
     "iopub.status.busy": "2021-03-26T15:40:56.301040Z",
     "iopub.status.idle": "2021-03-26T15:40:56.330106Z",
     "shell.execute_reply": "2021-03-26T15:40:56.328388Z"
    }
   },
   "outputs": [
    {
     "data": {
      "image/svg+xml": [
       "<?xml version=\"1.0\" encoding=\"UTF-8\" standalone=\"no\"?><svg xmlns=\"http://www.w3.org/2000/svg\" xmlns:xlink=\"http://www.w3.org/1999/xlink\" contentScriptType=\"application/ecmascript\" contentStyleType=\"text/css\" height=\"221px\" preserveAspectRatio=\"none\" style=\"width:213px;height:221px;\" version=\"1.1\" viewBox=\"0 0 213 221\" width=\"213px\" zoomAndPan=\"magnify\"><defs/><g><!--MD5=[fbc87193dbaf4d95561dea2c320d4a47]\n",
       "cluster E1--><a href=\"psysml:de03711e-1ba4-461c-851a-9c9209031323\" target=\"_top\" title=\"psysml:de03711e-1ba4-461c-851a-9c9209031323\" xlink:actuate=\"onRequest\" xlink:href=\"psysml:de03711e-1ba4-461c-851a-9c9209031323\" xlink:show=\"new\" xlink:title=\"psysml:de03711e-1ba4-461c-851a-9c9209031323\" xlink:type=\"simple\"><polygon fill=\"#FFFFFF\" points=\"16,6,34,6,41,28.2969,191,28.2969,191,209,16,209,16,6\" style=\"stroke: #000000; stroke-width: 1.5;\"/><line style=\"stroke: #000000; stroke-width: 1.5;\" x1=\"16\" x2=\"41\" y1=\"28.2969\" y2=\"28.2969\"/><text fill=\"#000000\" font-family=\"sans-serif\" font-size=\"14\" font-weight=\"bold\" lengthAdjust=\"spacingAndGlyphs\" textLength=\"12\" x=\"20\" y=\"20.9951\">Q</text></a><!--MD5=[b4997ac47864f28c2f74865a473b2911]\n",
       "class E2--><a href=\"psysml:b9260bcb-04ce-4f8f-94f7-4786232d6bfb\" target=\"_top\" title=\"psysml:b9260bcb-04ce-4f8f-94f7-4786232d6bfb\" xlink:actuate=\"onRequest\" xlink:href=\"psysml:b9260bcb-04ce-4f8f-94f7-4786232d6bfb\" xlink:show=\"new\" xlink:title=\"psysml:b9260bcb-04ce-4f8f-94f7-4786232d6bfb\" xlink:type=\"simple\"><rect fill=\"#FFFFFF\" height=\"45.9375\" id=\"E2\" rx=\"10\" ry=\"10\" style=\"stroke: #383838; stroke-width: 1.5;\" width=\"42\" x=\"133\" y=\"41\"/><text fill=\"#000000\" font-family=\"sans-serif\" font-size=\"12\" font-style=\"italic\" lengthAdjust=\"spacingAndGlyphs\" textLength=\"40\" x=\"134\" y=\"57.1387\">«part»</text><text fill=\"#000000\" font-family=\"sans-serif\" font-size=\"12\" lengthAdjust=\"spacingAndGlyphs\" textLength=\"4\" x=\"152\" y=\"71.1074\">f</text><line style=\"stroke: #383838; stroke-width: 1.5;\" x1=\"134\" x2=\"174\" y1=\"78.9375\" y2=\"78.9375\"/></a><!--MD5=[09b614a08d8cba4a07c9adeb5e0fee81]\n",
       "class E3--><a href=\"psysml:76fd413b-d5f3-4ecc-bac0-2db3dc6a9c5a\" target=\"_top\" title=\"psysml:76fd413b-d5f3-4ecc-bac0-2db3dc6a9c5a\" xlink:actuate=\"onRequest\" xlink:href=\"psysml:76fd413b-d5f3-4ecc-bac0-2db3dc6a9c5a\" xlink:show=\"new\" xlink:title=\"psysml:76fd413b-d5f3-4ecc-bac0-2db3dc6a9c5a\" xlink:type=\"simple\"><rect fill=\"#FFFFFF\" height=\"45.9375\" id=\"E3\" rx=\"10\" ry=\"10\" style=\"stroke: #383838; stroke-width: 1.5;\" width=\"42\" x=\"133\" y=\"147\"/><text fill=\"#000000\" font-family=\"sans-serif\" font-size=\"12\" font-style=\"italic\" lengthAdjust=\"spacingAndGlyphs\" textLength=\"40\" x=\"134\" y=\"163.1387\">«part»</text><text fill=\"#000000\" font-family=\"sans-serif\" font-size=\"12\" lengthAdjust=\"spacingAndGlyphs\" textLength=\"8\" x=\"150\" y=\"177.1074\">a</text><line style=\"stroke: #383838; stroke-width: 1.5;\" x1=\"134\" x2=\"174\" y1=\"184.9375\" y2=\"184.9375\"/></a><!--MD5=[ebbe1d658d1005bcc118a6aa81145e00]\n",
       "class E4--><a href=\"psysml:c1aefab3-4a15-416c-b89a-8b36fd883d33\" target=\"_top\" title=\"psysml:c1aefab3-4a15-416c-b89a-8b36fd883d33\" xlink:actuate=\"onRequest\" xlink:href=\"psysml:c1aefab3-4a15-416c-b89a-8b36fd883d33\" xlink:show=\"new\" xlink:title=\"psysml:c1aefab3-4a15-416c-b89a-8b36fd883d33\" xlink:type=\"simple\"><rect fill=\"#FFFFFF\" height=\"45.9375\" id=\"E4\" style=\"stroke: #383838; stroke-width: 1.5;\" width=\"66\" x=\"32\" y=\"41\"/><text fill=\"#000000\" font-family=\"sans-serif\" font-size=\"12\" font-style=\"italic\" lengthAdjust=\"spacingAndGlyphs\" textLength=\"64\" x=\"33\" y=\"57.1387\">«part def»</text><text fill=\"#000000\" font-family=\"sans-serif\" font-size=\"12\" lengthAdjust=\"spacingAndGlyphs\" textLength=\"8\" x=\"61\" y=\"71.1074\">C</text><line style=\"stroke: #383838; stroke-width: 1.5;\" x1=\"33\" x2=\"97\" y1=\"78.9375\" y2=\"78.9375\"/></a><!--MD5=[270fce915f116d4de14055a7c1d9a0f3]\n",
       "class E5--><a href=\"psysml:7432dd52-7523-413e-a125-d9cab4f86aea\" target=\"_top\" title=\"psysml:7432dd52-7523-413e-a125-d9cab4f86aea\" xlink:actuate=\"onRequest\" xlink:href=\"psysml:7432dd52-7523-413e-a125-d9cab4f86aea\" xlink:show=\"new\" xlink:title=\"psysml:7432dd52-7523-413e-a125-d9cab4f86aea\" xlink:type=\"simple\"><rect fill=\"#FFFFFF\" height=\"45.9375\" id=\"E5\" rx=\"10\" ry=\"10\" style=\"stroke: #383838; stroke-width: 1.5;\" width=\"42\" x=\"44\" y=\"147\"/><text fill=\"#000000\" font-family=\"sans-serif\" font-size=\"12\" font-style=\"italic\" lengthAdjust=\"spacingAndGlyphs\" textLength=\"40\" x=\"45\" y=\"163.1387\">«part»</text><text fill=\"#000000\" font-family=\"sans-serif\" font-size=\"12\" lengthAdjust=\"spacingAndGlyphs\" textLength=\"8\" x=\"61\" y=\"177.1074\">g</text><line style=\"stroke: #383838; stroke-width: 1.5;\" x1=\"45\" x2=\"85\" y1=\"184.9375\" y2=\"184.9375\"/></a><!--MD5=[209b3feb70ccb6233bfe1053d122c12c]\n",
       "reverse link E2 to E3--><a href=\"psysml:76fd413b-d5f3-4ecc-bac0-2db3dc6a9c5a\" target=\"_top\" title=\"psysml:76fd413b-d5f3-4ecc-bac0-2db3dc6a9c5a\" xlink:actuate=\"onRequest\" xlink:href=\"psysml:76fd413b-d5f3-4ecc-bac0-2db3dc6a9c5a\" xlink:show=\"new\" xlink:title=\"psysml:76fd413b-d5f3-4ecc-bac0-2db3dc6a9c5a\" xlink:type=\"simple\"><path d=\"M154,100.44 C154,115.87 154,133.47 154,146.98 \" fill=\"none\" id=\"E2&lt;-E3\" style=\"stroke: #383838; stroke-width: 1.0;\"/><polygon fill=\"#383838\" points=\"154,87.06,150,93.06,154,99.06,158,93.06,154,87.06\" style=\"stroke: #383838; stroke-width: 1.0;\"/></a><!--MD5=[62aa6af11e70f752912c1cb0466f24f7]\n",
       "reverse link E4 to E5--><a href=\"psysml:7432dd52-7523-413e-a125-d9cab4f86aea\" target=\"_top\" title=\"psysml:7432dd52-7523-413e-a125-d9cab4f86aea\" xlink:actuate=\"onRequest\" xlink:href=\"psysml:7432dd52-7523-413e-a125-d9cab4f86aea\" xlink:show=\"new\" xlink:title=\"psysml:7432dd52-7523-413e-a125-d9cab4f86aea\" xlink:type=\"simple\"><path d=\"M65,100.44 C65,115.87 65,133.47 65,146.98 \" fill=\"none\" id=\"E4&lt;-E5\" style=\"stroke: #383838; stroke-width: 1.0;\"/><polygon fill=\"#383838\" points=\"65,87.06,61,93.06,65,99.06,69,93.06,65,87.06\" style=\"stroke: #383838; stroke-width: 1.0;\"/></a><!--MD5=[4ed5fe4316d60482edae8f295c7ed4c9]\n",
       "@startuml\r\n",
       "skinparam monochrome true\r\n",
       "skinparam classbackgroundcolor white\r\n",
       "skinparam shadowing false\r\n",
       "skinparam wrapWidth 300\r\n",
       "hide circle\r\n",
       "\r\n",
       "package \"Q\" as E1  [[psysml:de03711e-1ba4-461c-851a-9c9209031323 ]]  {\r\n",
       "comp usage \"f\" as E2  <<(T,blue)part>> [[psysml:b9260bcb-04ce-4f8f-94f7-4786232d6bfb ]] {\r\n",
       "}\r\n",
       "comp usage \"a\" as E3  <<(T,blue)part>> [[psysml:76fd413b-d5f3-4ecc-bac0-2db3dc6a9c5a ]] {\r\n",
       "}\r\n",
       "comp def \"C\" as E4  <<(T,blue)part def>> [[psysml:c1aefab3-4a15-416c-b89a-8b36fd883d33 ]] {\r\n",
       "}\r\n",
       "comp usage \"g\" as E5  <<(T,blue)part>> [[psysml:7432dd52-7523-413e-a125-d9cab4f86aea ]] {\r\n",
       "}\r\n",
       "E2 *- - E3 [[psysml:76fd413b-d5f3-4ecc-bac0-2db3dc6a9c5a ]] \r\n",
       "E4 *- - E5 [[psysml:7432dd52-7523-413e-a125-d9cab4f86aea ]] \r\n",
       "}\r\n",
       "@enduml\r\n",
       "\n",
       "PlantUML version 1.2020.13(Sat Jun 13 12:26:38 UTC 2020)\n",
       "(EPL source distribution)\n",
       "Java Runtime: OpenJDK Runtime Environment\n",
       "JVM: OpenJDK 64-Bit Server VM\n",
       "Default Encoding: UTF-8\n",
       "Language: en\n",
       "Country: null\n",
       "--></g></svg>"
      ]
     },
     "execution_count": 42,
     "metadata": {},
     "output_type": "execute_result"
    }
   ],
   "source": [
    "%viz --style=\"DEFAULT\" --view=\"Sequence\" \"Q\""
   ]
  },
  {
   "cell_type": "code",
   "execution_count": 43,
   "id": "perfect-consortium",
   "metadata": {
    "execution": {
     "iopub.execute_input": "2021-03-26T15:40:56.379889Z",
     "iopub.status.busy": "2021-03-26T15:40:56.379338Z",
     "iopub.status.idle": "2021-03-26T15:40:56.407201Z",
     "shell.execute_reply": "2021-03-26T15:40:56.405867Z"
    }
   },
   "outputs": [
    {
     "data": {
      "image/svg+xml": [
       "<?xml version=\"1.0\" encoding=\"UTF-8\" standalone=\"no\"?><svg xmlns=\"http://www.w3.org/2000/svg\" xmlns:xlink=\"http://www.w3.org/1999/xlink\" contentScriptType=\"application/ecmascript\" contentStyleType=\"text/css\" height=\"221px\" preserveAspectRatio=\"none\" style=\"width:213px;height:221px;\" version=\"1.1\" viewBox=\"0 0 213 221\" width=\"213px\" zoomAndPan=\"magnify\"><defs/><g><!--MD5=[fbc87193dbaf4d95561dea2c320d4a47]\n",
       "cluster E1--><a href=\"psysml:de03711e-1ba4-461c-851a-9c9209031323\" target=\"_top\" title=\"psysml:de03711e-1ba4-461c-851a-9c9209031323\" xlink:actuate=\"onRequest\" xlink:href=\"psysml:de03711e-1ba4-461c-851a-9c9209031323\" xlink:show=\"new\" xlink:title=\"psysml:de03711e-1ba4-461c-851a-9c9209031323\" xlink:type=\"simple\"><polygon fill=\"#FFFFFF\" points=\"16,6,34,6,41,28.2969,191,28.2969,191,209,16,209,16,6\" style=\"stroke: #000000; stroke-width: 1.5;\"/><line style=\"stroke: #000000; stroke-width: 1.5;\" x1=\"16\" x2=\"41\" y1=\"28.2969\" y2=\"28.2969\"/><text fill=\"#000000\" font-family=\"sans-serif\" font-size=\"14\" font-weight=\"bold\" lengthAdjust=\"spacingAndGlyphs\" textLength=\"12\" x=\"20\" y=\"20.9951\">Q</text></a><!--MD5=[b4997ac47864f28c2f74865a473b2911]\n",
       "class E2--><a href=\"psysml:b9260bcb-04ce-4f8f-94f7-4786232d6bfb\" target=\"_top\" title=\"psysml:b9260bcb-04ce-4f8f-94f7-4786232d6bfb\" xlink:actuate=\"onRequest\" xlink:href=\"psysml:b9260bcb-04ce-4f8f-94f7-4786232d6bfb\" xlink:show=\"new\" xlink:title=\"psysml:b9260bcb-04ce-4f8f-94f7-4786232d6bfb\" xlink:type=\"simple\"><rect fill=\"#FFFFFF\" height=\"45.9375\" id=\"E2\" rx=\"10\" ry=\"10\" style=\"stroke: #383838; stroke-width: 1.5;\" width=\"42\" x=\"133\" y=\"41\"/><text fill=\"#000000\" font-family=\"sans-serif\" font-size=\"12\" font-style=\"italic\" lengthAdjust=\"spacingAndGlyphs\" textLength=\"40\" x=\"134\" y=\"57.1387\">«part»</text><text fill=\"#000000\" font-family=\"sans-serif\" font-size=\"12\" lengthAdjust=\"spacingAndGlyphs\" textLength=\"4\" x=\"152\" y=\"71.1074\">f</text><line style=\"stroke: #383838; stroke-width: 1.5;\" x1=\"134\" x2=\"174\" y1=\"78.9375\" y2=\"78.9375\"/></a><!--MD5=[09b614a08d8cba4a07c9adeb5e0fee81]\n",
       "class E3--><a href=\"psysml:76fd413b-d5f3-4ecc-bac0-2db3dc6a9c5a\" target=\"_top\" title=\"psysml:76fd413b-d5f3-4ecc-bac0-2db3dc6a9c5a\" xlink:actuate=\"onRequest\" xlink:href=\"psysml:76fd413b-d5f3-4ecc-bac0-2db3dc6a9c5a\" xlink:show=\"new\" xlink:title=\"psysml:76fd413b-d5f3-4ecc-bac0-2db3dc6a9c5a\" xlink:type=\"simple\"><rect fill=\"#FFFFFF\" height=\"45.9375\" id=\"E3\" rx=\"10\" ry=\"10\" style=\"stroke: #383838; stroke-width: 1.5;\" width=\"42\" x=\"133\" y=\"147\"/><text fill=\"#000000\" font-family=\"sans-serif\" font-size=\"12\" font-style=\"italic\" lengthAdjust=\"spacingAndGlyphs\" textLength=\"40\" x=\"134\" y=\"163.1387\">«part»</text><text fill=\"#000000\" font-family=\"sans-serif\" font-size=\"12\" lengthAdjust=\"spacingAndGlyphs\" textLength=\"8\" x=\"150\" y=\"177.1074\">a</text><line style=\"stroke: #383838; stroke-width: 1.5;\" x1=\"134\" x2=\"174\" y1=\"184.9375\" y2=\"184.9375\"/></a><!--MD5=[ebbe1d658d1005bcc118a6aa81145e00]\n",
       "class E4--><a href=\"psysml:c1aefab3-4a15-416c-b89a-8b36fd883d33\" target=\"_top\" title=\"psysml:c1aefab3-4a15-416c-b89a-8b36fd883d33\" xlink:actuate=\"onRequest\" xlink:href=\"psysml:c1aefab3-4a15-416c-b89a-8b36fd883d33\" xlink:show=\"new\" xlink:title=\"psysml:c1aefab3-4a15-416c-b89a-8b36fd883d33\" xlink:type=\"simple\"><rect fill=\"#FFFFFF\" height=\"45.9375\" id=\"E4\" style=\"stroke: #383838; stroke-width: 1.5;\" width=\"66\" x=\"32\" y=\"41\"/><text fill=\"#000000\" font-family=\"sans-serif\" font-size=\"12\" font-style=\"italic\" lengthAdjust=\"spacingAndGlyphs\" textLength=\"64\" x=\"33\" y=\"57.1387\">«part def»</text><text fill=\"#000000\" font-family=\"sans-serif\" font-size=\"12\" lengthAdjust=\"spacingAndGlyphs\" textLength=\"8\" x=\"61\" y=\"71.1074\">C</text><line style=\"stroke: #383838; stroke-width: 1.5;\" x1=\"33\" x2=\"97\" y1=\"78.9375\" y2=\"78.9375\"/></a><!--MD5=[270fce915f116d4de14055a7c1d9a0f3]\n",
       "class E5--><a href=\"psysml:7432dd52-7523-413e-a125-d9cab4f86aea\" target=\"_top\" title=\"psysml:7432dd52-7523-413e-a125-d9cab4f86aea\" xlink:actuate=\"onRequest\" xlink:href=\"psysml:7432dd52-7523-413e-a125-d9cab4f86aea\" xlink:show=\"new\" xlink:title=\"psysml:7432dd52-7523-413e-a125-d9cab4f86aea\" xlink:type=\"simple\"><rect fill=\"#FFFFFF\" height=\"45.9375\" id=\"E5\" rx=\"10\" ry=\"10\" style=\"stroke: #383838; stroke-width: 1.5;\" width=\"42\" x=\"44\" y=\"147\"/><text fill=\"#000000\" font-family=\"sans-serif\" font-size=\"12\" font-style=\"italic\" lengthAdjust=\"spacingAndGlyphs\" textLength=\"40\" x=\"45\" y=\"163.1387\">«part»</text><text fill=\"#000000\" font-family=\"sans-serif\" font-size=\"12\" lengthAdjust=\"spacingAndGlyphs\" textLength=\"8\" x=\"61\" y=\"177.1074\">g</text><line style=\"stroke: #383838; stroke-width: 1.5;\" x1=\"45\" x2=\"85\" y1=\"184.9375\" y2=\"184.9375\"/></a><!--MD5=[209b3feb70ccb6233bfe1053d122c12c]\n",
       "reverse link E2 to E3--><a href=\"psysml:76fd413b-d5f3-4ecc-bac0-2db3dc6a9c5a\" target=\"_top\" title=\"psysml:76fd413b-d5f3-4ecc-bac0-2db3dc6a9c5a\" xlink:actuate=\"onRequest\" xlink:href=\"psysml:76fd413b-d5f3-4ecc-bac0-2db3dc6a9c5a\" xlink:show=\"new\" xlink:title=\"psysml:76fd413b-d5f3-4ecc-bac0-2db3dc6a9c5a\" xlink:type=\"simple\"><path d=\"M154,100.44 C154,115.87 154,133.47 154,146.98 \" fill=\"none\" id=\"E2&lt;-E3\" style=\"stroke: #383838; stroke-width: 1.0;\"/><polygon fill=\"#383838\" points=\"154,87.06,150,93.06,154,99.06,158,93.06,154,87.06\" style=\"stroke: #383838; stroke-width: 1.0;\"/></a><!--MD5=[62aa6af11e70f752912c1cb0466f24f7]\n",
       "reverse link E4 to E5--><a href=\"psysml:7432dd52-7523-413e-a125-d9cab4f86aea\" target=\"_top\" title=\"psysml:7432dd52-7523-413e-a125-d9cab4f86aea\" xlink:actuate=\"onRequest\" xlink:href=\"psysml:7432dd52-7523-413e-a125-d9cab4f86aea\" xlink:show=\"new\" xlink:title=\"psysml:7432dd52-7523-413e-a125-d9cab4f86aea\" xlink:type=\"simple\"><path d=\"M65,100.44 C65,115.87 65,133.47 65,146.98 \" fill=\"none\" id=\"E4&lt;-E5\" style=\"stroke: #383838; stroke-width: 1.0;\"/><polygon fill=\"#383838\" points=\"65,87.06,61,93.06,65,99.06,69,93.06,65,87.06\" style=\"stroke: #383838; stroke-width: 1.0;\"/></a><!--MD5=[4ed5fe4316d60482edae8f295c7ed4c9]\n",
       "@startuml\r\n",
       "skinparam monochrome true\r\n",
       "skinparam classbackgroundcolor white\r\n",
       "skinparam shadowing false\r\n",
       "skinparam wrapWidth 300\r\n",
       "hide circle\r\n",
       "\r\n",
       "package \"Q\" as E1  [[psysml:de03711e-1ba4-461c-851a-9c9209031323 ]]  {\r\n",
       "comp usage \"f\" as E2  <<(T,blue)part>> [[psysml:b9260bcb-04ce-4f8f-94f7-4786232d6bfb ]] {\r\n",
       "}\r\n",
       "comp usage \"a\" as E3  <<(T,blue)part>> [[psysml:76fd413b-d5f3-4ecc-bac0-2db3dc6a9c5a ]] {\r\n",
       "}\r\n",
       "comp def \"C\" as E4  <<(T,blue)part def>> [[psysml:c1aefab3-4a15-416c-b89a-8b36fd883d33 ]] {\r\n",
       "}\r\n",
       "comp usage \"g\" as E5  <<(T,blue)part>> [[psysml:7432dd52-7523-413e-a125-d9cab4f86aea ]] {\r\n",
       "}\r\n",
       "E2 *- - E3 [[psysml:76fd413b-d5f3-4ecc-bac0-2db3dc6a9c5a ]] \r\n",
       "E4 *- - E5 [[psysml:7432dd52-7523-413e-a125-d9cab4f86aea ]] \r\n",
       "}\r\n",
       "@enduml\r\n",
       "\n",
       "PlantUML version 1.2020.13(Sat Jun 13 12:26:38 UTC 2020)\n",
       "(EPL source distribution)\n",
       "Java Runtime: OpenJDK Runtime Environment\n",
       "JVM: OpenJDK 64-Bit Server VM\n",
       "Default Encoding: UTF-8\n",
       "Language: en\n",
       "Country: null\n",
       "--></g></svg>"
      ]
     },
     "execution_count": 43,
     "metadata": {},
     "output_type": "execute_result"
    }
   ],
   "source": [
    "%viz --style=\"DEFAULT\" --view=\"MIXED\" \"Q\""
   ]
  },
  {
   "cell_type": "code",
   "execution_count": 44,
   "id": "rough-respect",
   "metadata": {
    "execution": {
     "iopub.execute_input": "2021-03-26T15:40:56.456668Z",
     "iopub.status.busy": "2021-03-26T15:40:56.456092Z",
     "iopub.status.idle": "2021-03-26T15:40:56.481797Z",
     "shell.execute_reply": "2021-03-26T15:40:56.480620Z"
    }
   },
   "outputs": [
    {
     "data": {
      "image/svg+xml": [
       "<?xml version=\"1.0\" encoding=\"UTF-8\" standalone=\"no\"?><svg xmlns=\"http://www.w3.org/2000/svg\" xmlns:xlink=\"http://www.w3.org/1999/xlink\" contentScriptType=\"application/ecmascript\" contentStyleType=\"text/css\" height=\"221px\" preserveAspectRatio=\"none\" style=\"width:213px;height:221px;\" version=\"1.1\" viewBox=\"0 0 213 221\" width=\"213px\" zoomAndPan=\"magnify\"><defs/><g><!--MD5=[fbc87193dbaf4d95561dea2c320d4a47]\n",
       "cluster E1--><a href=\"psysml:de03711e-1ba4-461c-851a-9c9209031323\" target=\"_top\" title=\"psysml:de03711e-1ba4-461c-851a-9c9209031323\" xlink:actuate=\"onRequest\" xlink:href=\"psysml:de03711e-1ba4-461c-851a-9c9209031323\" xlink:show=\"new\" xlink:title=\"psysml:de03711e-1ba4-461c-851a-9c9209031323\" xlink:type=\"simple\"><polygon fill=\"#FFFFFF\" points=\"16,6,34,6,41,28.2969,191,28.2969,191,209,16,209,16,6\" style=\"stroke: #000000; stroke-width: 1.5;\"/><line style=\"stroke: #000000; stroke-width: 1.5;\" x1=\"16\" x2=\"41\" y1=\"28.2969\" y2=\"28.2969\"/><text fill=\"#000000\" font-family=\"sans-serif\" font-size=\"14\" font-weight=\"bold\" lengthAdjust=\"spacingAndGlyphs\" textLength=\"12\" x=\"20\" y=\"20.9951\">Q</text></a><!--MD5=[b4997ac47864f28c2f74865a473b2911]\n",
       "class E2--><a href=\"psysml:b9260bcb-04ce-4f8f-94f7-4786232d6bfb\" target=\"_top\" title=\"psysml:b9260bcb-04ce-4f8f-94f7-4786232d6bfb\" xlink:actuate=\"onRequest\" xlink:href=\"psysml:b9260bcb-04ce-4f8f-94f7-4786232d6bfb\" xlink:show=\"new\" xlink:title=\"psysml:b9260bcb-04ce-4f8f-94f7-4786232d6bfb\" xlink:type=\"simple\"><rect fill=\"#FFFFFF\" height=\"45.9375\" id=\"E2\" rx=\"10\" ry=\"10\" style=\"stroke: #383838; stroke-width: 1.5;\" width=\"42\" x=\"133\" y=\"41\"/><text fill=\"#000000\" font-family=\"sans-serif\" font-size=\"12\" font-style=\"italic\" lengthAdjust=\"spacingAndGlyphs\" textLength=\"40\" x=\"134\" y=\"57.1387\">«part»</text><text fill=\"#000000\" font-family=\"sans-serif\" font-size=\"12\" lengthAdjust=\"spacingAndGlyphs\" textLength=\"4\" x=\"152\" y=\"71.1074\">f</text><line style=\"stroke: #383838; stroke-width: 1.5;\" x1=\"134\" x2=\"174\" y1=\"78.9375\" y2=\"78.9375\"/></a><!--MD5=[09b614a08d8cba4a07c9adeb5e0fee81]\n",
       "class E3--><a href=\"psysml:76fd413b-d5f3-4ecc-bac0-2db3dc6a9c5a\" target=\"_top\" title=\"psysml:76fd413b-d5f3-4ecc-bac0-2db3dc6a9c5a\" xlink:actuate=\"onRequest\" xlink:href=\"psysml:76fd413b-d5f3-4ecc-bac0-2db3dc6a9c5a\" xlink:show=\"new\" xlink:title=\"psysml:76fd413b-d5f3-4ecc-bac0-2db3dc6a9c5a\" xlink:type=\"simple\"><rect fill=\"#FFFFFF\" height=\"45.9375\" id=\"E3\" rx=\"10\" ry=\"10\" style=\"stroke: #383838; stroke-width: 1.5;\" width=\"42\" x=\"133\" y=\"147\"/><text fill=\"#000000\" font-family=\"sans-serif\" font-size=\"12\" font-style=\"italic\" lengthAdjust=\"spacingAndGlyphs\" textLength=\"40\" x=\"134\" y=\"163.1387\">«part»</text><text fill=\"#000000\" font-family=\"sans-serif\" font-size=\"12\" lengthAdjust=\"spacingAndGlyphs\" textLength=\"8\" x=\"150\" y=\"177.1074\">a</text><line style=\"stroke: #383838; stroke-width: 1.5;\" x1=\"134\" x2=\"174\" y1=\"184.9375\" y2=\"184.9375\"/></a><!--MD5=[ebbe1d658d1005bcc118a6aa81145e00]\n",
       "class E4--><a href=\"psysml:c1aefab3-4a15-416c-b89a-8b36fd883d33\" target=\"_top\" title=\"psysml:c1aefab3-4a15-416c-b89a-8b36fd883d33\" xlink:actuate=\"onRequest\" xlink:href=\"psysml:c1aefab3-4a15-416c-b89a-8b36fd883d33\" xlink:show=\"new\" xlink:title=\"psysml:c1aefab3-4a15-416c-b89a-8b36fd883d33\" xlink:type=\"simple\"><rect fill=\"#FFFFFF\" height=\"45.9375\" id=\"E4\" style=\"stroke: #383838; stroke-width: 1.5;\" width=\"66\" x=\"32\" y=\"41\"/><text fill=\"#000000\" font-family=\"sans-serif\" font-size=\"12\" font-style=\"italic\" lengthAdjust=\"spacingAndGlyphs\" textLength=\"64\" x=\"33\" y=\"57.1387\">«part def»</text><text fill=\"#000000\" font-family=\"sans-serif\" font-size=\"12\" lengthAdjust=\"spacingAndGlyphs\" textLength=\"8\" x=\"61\" y=\"71.1074\">C</text><line style=\"stroke: #383838; stroke-width: 1.5;\" x1=\"33\" x2=\"97\" y1=\"78.9375\" y2=\"78.9375\"/></a><!--MD5=[270fce915f116d4de14055a7c1d9a0f3]\n",
       "class E5--><a href=\"psysml:7432dd52-7523-413e-a125-d9cab4f86aea\" target=\"_top\" title=\"psysml:7432dd52-7523-413e-a125-d9cab4f86aea\" xlink:actuate=\"onRequest\" xlink:href=\"psysml:7432dd52-7523-413e-a125-d9cab4f86aea\" xlink:show=\"new\" xlink:title=\"psysml:7432dd52-7523-413e-a125-d9cab4f86aea\" xlink:type=\"simple\"><rect fill=\"#FFFFFF\" height=\"45.9375\" id=\"E5\" rx=\"10\" ry=\"10\" style=\"stroke: #383838; stroke-width: 1.5;\" width=\"42\" x=\"44\" y=\"147\"/><text fill=\"#000000\" font-family=\"sans-serif\" font-size=\"12\" font-style=\"italic\" lengthAdjust=\"spacingAndGlyphs\" textLength=\"40\" x=\"45\" y=\"163.1387\">«part»</text><text fill=\"#000000\" font-family=\"sans-serif\" font-size=\"12\" lengthAdjust=\"spacingAndGlyphs\" textLength=\"8\" x=\"61\" y=\"177.1074\">g</text><line style=\"stroke: #383838; stroke-width: 1.5;\" x1=\"45\" x2=\"85\" y1=\"184.9375\" y2=\"184.9375\"/></a><!--MD5=[209b3feb70ccb6233bfe1053d122c12c]\n",
       "reverse link E2 to E3--><a href=\"psysml:76fd413b-d5f3-4ecc-bac0-2db3dc6a9c5a\" target=\"_top\" title=\"psysml:76fd413b-d5f3-4ecc-bac0-2db3dc6a9c5a\" xlink:actuate=\"onRequest\" xlink:href=\"psysml:76fd413b-d5f3-4ecc-bac0-2db3dc6a9c5a\" xlink:show=\"new\" xlink:title=\"psysml:76fd413b-d5f3-4ecc-bac0-2db3dc6a9c5a\" xlink:type=\"simple\"><path d=\"M154,100.44 C154,115.87 154,133.47 154,146.98 \" fill=\"none\" id=\"E2&lt;-E3\" style=\"stroke: #383838; stroke-width: 1.0;\"/><polygon fill=\"#383838\" points=\"154,87.06,150,93.06,154,99.06,158,93.06,154,87.06\" style=\"stroke: #383838; stroke-width: 1.0;\"/></a><!--MD5=[62aa6af11e70f752912c1cb0466f24f7]\n",
       "reverse link E4 to E5--><a href=\"psysml:7432dd52-7523-413e-a125-d9cab4f86aea\" target=\"_top\" title=\"psysml:7432dd52-7523-413e-a125-d9cab4f86aea\" xlink:actuate=\"onRequest\" xlink:href=\"psysml:7432dd52-7523-413e-a125-d9cab4f86aea\" xlink:show=\"new\" xlink:title=\"psysml:7432dd52-7523-413e-a125-d9cab4f86aea\" xlink:type=\"simple\"><path d=\"M65,100.44 C65,115.87 65,133.47 65,146.98 \" fill=\"none\" id=\"E4&lt;-E5\" style=\"stroke: #383838; stroke-width: 1.0;\"/><polygon fill=\"#383838\" points=\"65,87.06,61,93.06,65,99.06,69,93.06,65,87.06\" style=\"stroke: #383838; stroke-width: 1.0;\"/></a><!--MD5=[0e7f7ce12ccc224cefba190f57cebe8e]\n",
       "@startuml\r\n",
       "top to bottom direction\r\n",
       "skinparam monochrome true\r\n",
       "skinparam classbackgroundcolor white\r\n",
       "skinparam shadowing false\r\n",
       "skinparam wrapWidth 300\r\n",
       "hide circle\r\n",
       "\r\n",
       "package \"Q\" as E1  [[psysml:de03711e-1ba4-461c-851a-9c9209031323 ]]  {\r\n",
       "comp usage \"f\" as E2  <<(T,blue)part>> [[psysml:b9260bcb-04ce-4f8f-94f7-4786232d6bfb ]] {\r\n",
       "}\r\n",
       "comp usage \"a\" as E3  <<(T,blue)part>> [[psysml:76fd413b-d5f3-4ecc-bac0-2db3dc6a9c5a ]] {\r\n",
       "}\r\n",
       "comp def \"C\" as E4  <<(T,blue)part def>> [[psysml:c1aefab3-4a15-416c-b89a-8b36fd883d33 ]] {\r\n",
       "}\r\n",
       "comp usage \"g\" as E5  <<(T,blue)part>> [[psysml:7432dd52-7523-413e-a125-d9cab4f86aea ]] {\r\n",
       "}\r\n",
       "E2 *- - E3 [[psysml:76fd413b-d5f3-4ecc-bac0-2db3dc6a9c5a ]] \r\n",
       "E4 *- - E5 [[psysml:7432dd52-7523-413e-a125-d9cab4f86aea ]] \r\n",
       "}\r\n",
       "@enduml\r\n",
       "\n",
       "PlantUML version 1.2020.13(Sat Jun 13 12:26:38 UTC 2020)\n",
       "(EPL source distribution)\n",
       "Java Runtime: OpenJDK Runtime Environment\n",
       "JVM: OpenJDK 64-Bit Server VM\n",
       "Default Encoding: UTF-8\n",
       "Language: en\n",
       "Country: null\n",
       "--></g></svg>"
      ]
     },
     "execution_count": 44,
     "metadata": {},
     "output_type": "execute_result"
    }
   ],
   "source": [
    "%viz --style=\"TB\" --view=\"Default\" \"Q\""
   ]
  },
  {
   "cell_type": "code",
   "execution_count": 45,
   "id": "aboriginal-butter",
   "metadata": {
    "execution": {
     "iopub.execute_input": "2021-03-26T15:40:56.531435Z",
     "iopub.status.busy": "2021-03-26T15:40:56.531100Z",
     "iopub.status.idle": "2021-03-26T15:40:56.555283Z",
     "shell.execute_reply": "2021-03-26T15:40:56.554527Z"
    }
   },
   "outputs": [
    {
     "data": {
      "image/svg+xml": [
       "<?xml version=\"1.0\" encoding=\"UTF-8\" standalone=\"no\"?><svg xmlns=\"http://www.w3.org/2000/svg\" xmlns:xlink=\"http://www.w3.org/1999/xlink\" contentScriptType=\"application/ecmascript\" contentStyleType=\"text/css\" height=\"221px\" preserveAspectRatio=\"none\" style=\"width:213px;height:221px;\" version=\"1.1\" viewBox=\"0 0 213 221\" width=\"213px\" zoomAndPan=\"magnify\"><defs/><g><!--MD5=[fbc87193dbaf4d95561dea2c320d4a47]\n",
       "cluster E1--><a href=\"psysml:de03711e-1ba4-461c-851a-9c9209031323\" target=\"_top\" title=\"psysml:de03711e-1ba4-461c-851a-9c9209031323\" xlink:actuate=\"onRequest\" xlink:href=\"psysml:de03711e-1ba4-461c-851a-9c9209031323\" xlink:show=\"new\" xlink:title=\"psysml:de03711e-1ba4-461c-851a-9c9209031323\" xlink:type=\"simple\"><polygon fill=\"#FFFFFF\" points=\"16,6,34,6,41,28.2969,191,28.2969,191,209,16,209,16,6\" style=\"stroke: #000000; stroke-width: 1.5;\"/><line style=\"stroke: #000000; stroke-width: 1.5;\" x1=\"16\" x2=\"41\" y1=\"28.2969\" y2=\"28.2969\"/><text fill=\"#000000\" font-family=\"sans-serif\" font-size=\"14\" font-weight=\"bold\" lengthAdjust=\"spacingAndGlyphs\" textLength=\"12\" x=\"20\" y=\"20.9951\">Q</text></a><!--MD5=[b4997ac47864f28c2f74865a473b2911]\n",
       "class E2--><a href=\"psysml:b9260bcb-04ce-4f8f-94f7-4786232d6bfb\" target=\"_top\" title=\"psysml:b9260bcb-04ce-4f8f-94f7-4786232d6bfb\" xlink:actuate=\"onRequest\" xlink:href=\"psysml:b9260bcb-04ce-4f8f-94f7-4786232d6bfb\" xlink:show=\"new\" xlink:title=\"psysml:b9260bcb-04ce-4f8f-94f7-4786232d6bfb\" xlink:type=\"simple\"><rect fill=\"#FFFFFF\" height=\"45.9375\" id=\"E2\" rx=\"10\" ry=\"10\" style=\"stroke: #383838; stroke-width: 1.5;\" width=\"42\" x=\"133\" y=\"41\"/><text fill=\"#000000\" font-family=\"sans-serif\" font-size=\"12\" font-style=\"italic\" lengthAdjust=\"spacingAndGlyphs\" textLength=\"40\" x=\"134\" y=\"57.1387\">«part»</text><text fill=\"#000000\" font-family=\"sans-serif\" font-size=\"12\" lengthAdjust=\"spacingAndGlyphs\" textLength=\"4\" x=\"152\" y=\"71.1074\">f</text><line style=\"stroke: #383838; stroke-width: 1.5;\" x1=\"134\" x2=\"174\" y1=\"78.9375\" y2=\"78.9375\"/></a><!--MD5=[09b614a08d8cba4a07c9adeb5e0fee81]\n",
       "class E3--><a href=\"psysml:76fd413b-d5f3-4ecc-bac0-2db3dc6a9c5a\" target=\"_top\" title=\"psysml:76fd413b-d5f3-4ecc-bac0-2db3dc6a9c5a\" xlink:actuate=\"onRequest\" xlink:href=\"psysml:76fd413b-d5f3-4ecc-bac0-2db3dc6a9c5a\" xlink:show=\"new\" xlink:title=\"psysml:76fd413b-d5f3-4ecc-bac0-2db3dc6a9c5a\" xlink:type=\"simple\"><rect fill=\"#FFFFFF\" height=\"45.9375\" id=\"E3\" rx=\"10\" ry=\"10\" style=\"stroke: #383838; stroke-width: 1.5;\" width=\"42\" x=\"133\" y=\"147\"/><text fill=\"#000000\" font-family=\"sans-serif\" font-size=\"12\" font-style=\"italic\" lengthAdjust=\"spacingAndGlyphs\" textLength=\"40\" x=\"134\" y=\"163.1387\">«part»</text><text fill=\"#000000\" font-family=\"sans-serif\" font-size=\"12\" lengthAdjust=\"spacingAndGlyphs\" textLength=\"8\" x=\"150\" y=\"177.1074\">a</text><line style=\"stroke: #383838; stroke-width: 1.5;\" x1=\"134\" x2=\"174\" y1=\"184.9375\" y2=\"184.9375\"/></a><!--MD5=[ebbe1d658d1005bcc118a6aa81145e00]\n",
       "class E4--><a href=\"psysml:c1aefab3-4a15-416c-b89a-8b36fd883d33\" target=\"_top\" title=\"psysml:c1aefab3-4a15-416c-b89a-8b36fd883d33\" xlink:actuate=\"onRequest\" xlink:href=\"psysml:c1aefab3-4a15-416c-b89a-8b36fd883d33\" xlink:show=\"new\" xlink:title=\"psysml:c1aefab3-4a15-416c-b89a-8b36fd883d33\" xlink:type=\"simple\"><rect fill=\"#FFFFFF\" height=\"45.9375\" id=\"E4\" style=\"stroke: #383838; stroke-width: 1.5;\" width=\"66\" x=\"32\" y=\"41\"/><text fill=\"#000000\" font-family=\"sans-serif\" font-size=\"12\" font-style=\"italic\" lengthAdjust=\"spacingAndGlyphs\" textLength=\"64\" x=\"33\" y=\"57.1387\">«part def»</text><text fill=\"#000000\" font-family=\"sans-serif\" font-size=\"12\" lengthAdjust=\"spacingAndGlyphs\" textLength=\"8\" x=\"61\" y=\"71.1074\">C</text><line style=\"stroke: #383838; stroke-width: 1.5;\" x1=\"33\" x2=\"97\" y1=\"78.9375\" y2=\"78.9375\"/></a><!--MD5=[270fce915f116d4de14055a7c1d9a0f3]\n",
       "class E5--><a href=\"psysml:7432dd52-7523-413e-a125-d9cab4f86aea\" target=\"_top\" title=\"psysml:7432dd52-7523-413e-a125-d9cab4f86aea\" xlink:actuate=\"onRequest\" xlink:href=\"psysml:7432dd52-7523-413e-a125-d9cab4f86aea\" xlink:show=\"new\" xlink:title=\"psysml:7432dd52-7523-413e-a125-d9cab4f86aea\" xlink:type=\"simple\"><rect fill=\"#FFFFFF\" height=\"45.9375\" id=\"E5\" rx=\"10\" ry=\"10\" style=\"stroke: #383838; stroke-width: 1.5;\" width=\"42\" x=\"44\" y=\"147\"/><text fill=\"#000000\" font-family=\"sans-serif\" font-size=\"12\" font-style=\"italic\" lengthAdjust=\"spacingAndGlyphs\" textLength=\"40\" x=\"45\" y=\"163.1387\">«part»</text><text fill=\"#000000\" font-family=\"sans-serif\" font-size=\"12\" lengthAdjust=\"spacingAndGlyphs\" textLength=\"8\" x=\"61\" y=\"177.1074\">g</text><line style=\"stroke: #383838; stroke-width: 1.5;\" x1=\"45\" x2=\"85\" y1=\"184.9375\" y2=\"184.9375\"/></a><!--MD5=[209b3feb70ccb6233bfe1053d122c12c]\n",
       "reverse link E2 to E3--><a href=\"psysml:76fd413b-d5f3-4ecc-bac0-2db3dc6a9c5a\" target=\"_top\" title=\"psysml:76fd413b-d5f3-4ecc-bac0-2db3dc6a9c5a\" xlink:actuate=\"onRequest\" xlink:href=\"psysml:76fd413b-d5f3-4ecc-bac0-2db3dc6a9c5a\" xlink:show=\"new\" xlink:title=\"psysml:76fd413b-d5f3-4ecc-bac0-2db3dc6a9c5a\" xlink:type=\"simple\"><path d=\"M154,100.44 C154,115.87 154,133.47 154,146.98 \" fill=\"none\" id=\"E2&lt;-E3\" style=\"stroke: #383838; stroke-width: 1.0;\"/><polygon fill=\"#383838\" points=\"154,87.06,150,93.06,154,99.06,158,93.06,154,87.06\" style=\"stroke: #383838; stroke-width: 1.0;\"/></a><!--MD5=[62aa6af11e70f752912c1cb0466f24f7]\n",
       "reverse link E4 to E5--><a href=\"psysml:7432dd52-7523-413e-a125-d9cab4f86aea\" target=\"_top\" title=\"psysml:7432dd52-7523-413e-a125-d9cab4f86aea\" xlink:actuate=\"onRequest\" xlink:href=\"psysml:7432dd52-7523-413e-a125-d9cab4f86aea\" xlink:show=\"new\" xlink:title=\"psysml:7432dd52-7523-413e-a125-d9cab4f86aea\" xlink:type=\"simple\"><path d=\"M65,100.44 C65,115.87 65,133.47 65,146.98 \" fill=\"none\" id=\"E4&lt;-E5\" style=\"stroke: #383838; stroke-width: 1.0;\"/><polygon fill=\"#383838\" points=\"65,87.06,61,93.06,65,99.06,69,93.06,65,87.06\" style=\"stroke: #383838; stroke-width: 1.0;\"/></a><!--MD5=[0e7f7ce12ccc224cefba190f57cebe8e]\n",
       "@startuml\r\n",
       "top to bottom direction\r\n",
       "skinparam monochrome true\r\n",
       "skinparam classbackgroundcolor white\r\n",
       "skinparam shadowing false\r\n",
       "skinparam wrapWidth 300\r\n",
       "hide circle\r\n",
       "\r\n",
       "package \"Q\" as E1  [[psysml:de03711e-1ba4-461c-851a-9c9209031323 ]]  {\r\n",
       "comp usage \"f\" as E2  <<(T,blue)part>> [[psysml:b9260bcb-04ce-4f8f-94f7-4786232d6bfb ]] {\r\n",
       "}\r\n",
       "comp usage \"a\" as E3  <<(T,blue)part>> [[psysml:76fd413b-d5f3-4ecc-bac0-2db3dc6a9c5a ]] {\r\n",
       "}\r\n",
       "comp def \"C\" as E4  <<(T,blue)part def>> [[psysml:c1aefab3-4a15-416c-b89a-8b36fd883d33 ]] {\r\n",
       "}\r\n",
       "comp usage \"g\" as E5  <<(T,blue)part>> [[psysml:7432dd52-7523-413e-a125-d9cab4f86aea ]] {\r\n",
       "}\r\n",
       "E2 *- - E3 [[psysml:76fd413b-d5f3-4ecc-bac0-2db3dc6a9c5a ]] \r\n",
       "E4 *- - E5 [[psysml:7432dd52-7523-413e-a125-d9cab4f86aea ]] \r\n",
       "}\r\n",
       "@enduml\r\n",
       "\n",
       "PlantUML version 1.2020.13(Sat Jun 13 12:26:38 UTC 2020)\n",
       "(EPL source distribution)\n",
       "Java Runtime: OpenJDK Runtime Environment\n",
       "JVM: OpenJDK 64-Bit Server VM\n",
       "Default Encoding: UTF-8\n",
       "Language: en\n",
       "Country: null\n",
       "--></g></svg>"
      ]
     },
     "execution_count": 45,
     "metadata": {},
     "output_type": "execute_result"
    }
   ],
   "source": [
    "%viz --style=\"TB\" --view=\"Tree\" \"Q\""
   ]
  },
  {
   "cell_type": "code",
   "execution_count": 46,
   "id": "modern-concord",
   "metadata": {
    "execution": {
     "iopub.execute_input": "2021-03-26T15:40:56.609409Z",
     "iopub.status.busy": "2021-03-26T15:40:56.608373Z",
     "iopub.status.idle": "2021-03-26T15:40:56.615604Z",
     "shell.execute_reply": "2021-03-26T15:40:56.615246Z"
    }
   },
   "outputs": [
    {
     "data": {
      "image/svg+xml": [
       "<?xml version=\"1.0\" encoding=\"UTF-8\" standalone=\"no\"?><svg xmlns=\"http://www.w3.org/2000/svg\" xmlns:xlink=\"http://www.w3.org/1999/xlink\" contentScriptType=\"application/ecmascript\" contentStyleType=\"text/css\" height=\"12px\" preserveAspectRatio=\"none\" style=\"width:12px;height:12px;\" version=\"1.1\" viewBox=\"0 0 12 12\" width=\"12px\" zoomAndPan=\"magnify\"><defs/><g><!--MD5=[f4ee21bc66e489b5061b7c3e9601fdef]\n",
       "@startuml\r\n",
       "top to bottom direction\r\n",
       "skinparam monochrome true\r\n",
       "skinparam classbackgroundcolor white\r\n",
       "skinparam shadowing false\r\n",
       "skinparam wrapWidth 300\r\n",
       "hide circle\r\n",
       "\r\n",
       "@enduml\r\n",
       "\n",
       "PlantUML version 1.2020.13(Sat Jun 13 12:26:38 UTC 2020)\n",
       "(EPL source distribution)\n",
       "Java Runtime: OpenJDK Runtime Environment\n",
       "JVM: OpenJDK 64-Bit Server VM\n",
       "Default Encoding: UTF-8\n",
       "Language: en\n",
       "Country: null\n",
       "--></g></svg>"
      ]
     },
     "execution_count": 46,
     "metadata": {},
     "output_type": "execute_result"
    }
   ],
   "source": [
    "%viz --style=\"TB\" --view=\"State\" \"Q\""
   ]
  },
  {
   "cell_type": "code",
   "execution_count": 47,
   "id": "palestinian-acceptance",
   "metadata": {
    "execution": {
     "iopub.execute_input": "2021-03-26T15:40:56.666906Z",
     "iopub.status.busy": "2021-03-26T15:40:56.666429Z",
     "iopub.status.idle": "2021-03-26T15:40:56.693287Z",
     "shell.execute_reply": "2021-03-26T15:40:56.692197Z"
    }
   },
   "outputs": [
    {
     "data": {
      "image/svg+xml": [
       "<?xml version=\"1.0\" encoding=\"UTF-8\" standalone=\"no\"?><svg xmlns=\"http://www.w3.org/2000/svg\" xmlns:xlink=\"http://www.w3.org/1999/xlink\" contentScriptType=\"application/ecmascript\" contentStyleType=\"text/css\" height=\"192px\" preserveAspectRatio=\"none\" style=\"width:286px;height:192px;\" version=\"1.1\" viewBox=\"0 0 286 192\" width=\"286px\" zoomAndPan=\"magnify\"><defs/><g><!--MD5=[fbc87193dbaf4d95561dea2c320d4a47]\n",
       "cluster E1--><a href=\"psysml:de03711e-1ba4-461c-851a-9c9209031323\" target=\"_top\" title=\"psysml:de03711e-1ba4-461c-851a-9c9209031323\" xlink:actuate=\"onRequest\" xlink:href=\"psysml:de03711e-1ba4-461c-851a-9c9209031323\" xlink:show=\"new\" xlink:title=\"psysml:de03711e-1ba4-461c-851a-9c9209031323\" xlink:type=\"simple\"><polygon fill=\"#FFFFFF\" points=\"16,6,34,6,41,28.2969,264,28.2969,264,180,16,180,16,6\" style=\"stroke: #000000; stroke-width: 1.5;\"/><line style=\"stroke: #000000; stroke-width: 1.5;\" x1=\"16\" x2=\"41\" y1=\"28.2969\" y2=\"28.2969\"/><text fill=\"#000000\" font-family=\"sans-serif\" font-size=\"14\" font-weight=\"bold\" lengthAdjust=\"spacingAndGlyphs\" textLength=\"12\" x=\"20\" y=\"20.9951\">Q</text></a><!--MD5=[e4f7fae6ed58524ba242bb0b0d3be6b7]\n",
       "cluster E2--><a href=\"psysml:b9260bcb-04ce-4f8f-94f7-4786232d6bfb\" target=\"_top\" title=\"psysml:b9260bcb-04ce-4f8f-94f7-4786232d6bfb\" xlink:actuate=\"onRequest\" xlink:href=\"psysml:b9260bcb-04ce-4f8f-94f7-4786232d6bfb\" xlink:show=\"new\" xlink:title=\"psysml:b9260bcb-04ce-4f8f-94f7-4786232d6bfb\" xlink:type=\"simple\"><rect fill=\"#FFFFFF\" height=\"91\" id=\"E2\" rx=\"10\" ry=\"10\" style=\"stroke: #383838; stroke-width: 1.5;\" width=\"82\" x=\"158\" y=\"65\"/><rect fill=\"#F8F8F8\" height=\"23.9688\" rx=\"10\" ry=\"10\" style=\"stroke: #F8F8F8; stroke-width: 1.5;\" width=\"82\" x=\"158\" y=\"65\"/><rect fill=\"#F8F8F8\" height=\"10\" style=\"stroke: #F8F8F8; stroke-width: 1.5;\" width=\"82\" x=\"158\" y=\"78.9688\"/><rect fill=\"none\" height=\"91\" id=\"E2\" rx=\"10\" ry=\"10\" style=\"stroke: #383838; stroke-width: 1.5;\" width=\"82\" x=\"158\" y=\"65\"/><text fill=\"#000000\" font-family=\"sans-serif\" font-size=\"12\" lengthAdjust=\"spacingAndGlyphs\" textLength=\"4\" x=\"197\" y=\"81.1387\">f</text><line style=\"stroke: #383838; stroke-width: 1.0;\" x1=\"158\" x2=\"240\" y1=\"88.9688\" y2=\"88.9688\"/></a><!--MD5=[f6df4d0ebaf0b5dfb2ced0ae5af7c670]\n",
       "cluster E4--><a href=\"psysml:c1aefab3-4a15-416c-b89a-8b36fd883d33\" target=\"_top\" title=\"psysml:c1aefab3-4a15-416c-b89a-8b36fd883d33\" xlink:actuate=\"onRequest\" xlink:href=\"psysml:c1aefab3-4a15-416c-b89a-8b36fd883d33\" xlink:show=\"new\" xlink:title=\"psysml:c1aefab3-4a15-416c-b89a-8b36fd883d33\" xlink:type=\"simple\"><rect fill=\"#FFFFFF\" height=\"107\" id=\"E4\" style=\"stroke: #383838; stroke-width: 1.5;\" width=\"94\" x=\"40\" y=\"49\"/><rect fill=\"#F8F8F8\" height=\"37.9375\" style=\"stroke: #383838; stroke-width: 1.5;\" width=\"94\" x=\"40\" y=\"49\"/><text fill=\"#000000\" font-family=\"sans-serif\" font-size=\"12\" font-style=\"italic\" lengthAdjust=\"spacingAndGlyphs\" textLength=\"64\" x=\"55\" y=\"65.1387\">«part def»</text><text fill=\"#000000\" font-family=\"sans-serif\" font-size=\"12\" lengthAdjust=\"spacingAndGlyphs\" textLength=\"8\" x=\"83\" y=\"79.1074\">C</text></a><g id=\"E1.E2.E3\"><a href=\"psysml:76fd413b-d5f3-4ecc-bac0-2db3dc6a9c5a\" target=\"_top\" title=\"psysml:76fd413b-d5f3-4ecc-bac0-2db3dc6a9c5a\" xlink:actuate=\"onRequest\" xlink:href=\"psysml:76fd413b-d5f3-4ecc-bac0-2db3dc6a9c5a\" xlink:show=\"new\" xlink:title=\"psysml:76fd413b-d5f3-4ecc-bac0-2db3dc6a9c5a\" xlink:type=\"simple\"><rect fill=\"#FFFFFF\" height=\"40\" id=\"E3\" rx=\"10\" ry=\"10\" style=\"stroke: #383838; stroke-width: 1.5;\" width=\"50\" x=\"174\" y=\"100\"/><rect fill=\"#F8F8F8\" height=\"23.9688\" rx=\"10\" ry=\"10\" style=\"stroke: #F8F8F8; stroke-width: 1.5;\" width=\"50\" x=\"174\" y=\"100\"/><rect fill=\"#F8F8F8\" height=\"10\" style=\"stroke: #F8F8F8; stroke-width: 1.5;\" width=\"50\" x=\"174\" y=\"113.9688\"/><rect fill=\"none\" height=\"40\" id=\"E3\" rx=\"10\" ry=\"10\" style=\"stroke: #383838; stroke-width: 1.5;\" width=\"50\" x=\"174\" y=\"100\"/><text fill=\"#000000\" font-family=\"sans-serif\" font-size=\"12\" lengthAdjust=\"spacingAndGlyphs\" textLength=\"8\" x=\"195\" y=\"116.1387\">a</text></a></g><g id=\"E1.E4.E5\"><a href=\"psysml:7432dd52-7523-413e-a125-d9cab4f86aea\" target=\"_top\" title=\"psysml:7432dd52-7523-413e-a125-d9cab4f86aea\" xlink:actuate=\"onRequest\" xlink:href=\"psysml:7432dd52-7523-413e-a125-d9cab4f86aea\" xlink:show=\"new\" xlink:title=\"psysml:7432dd52-7523-413e-a125-d9cab4f86aea\" xlink:type=\"simple\"><rect fill=\"#FFFFFF\" height=\"40\" id=\"E5\" rx=\"10\" ry=\"10\" style=\"stroke: #383838; stroke-width: 1.5;\" width=\"61\" x=\"56.5\" y=\"100\"/><rect fill=\"#F8F8F8\" height=\"23.9688\" rx=\"10\" ry=\"10\" style=\"stroke: #F8F8F8; stroke-width: 1.5;\" width=\"61\" x=\"56.5\" y=\"100\"/><rect fill=\"#F8F8F8\" height=\"10\" style=\"stroke: #F8F8F8; stroke-width: 1.5;\" width=\"61\" x=\"56.5\" y=\"113.9688\"/><rect fill=\"none\" height=\"40\" id=\"E5\" rx=\"10\" ry=\"10\" style=\"stroke: #383838; stroke-width: 1.5;\" width=\"61\" x=\"56.5\" y=\"100\"/><text fill=\"#000000\" font-family=\"sans-serif\" font-size=\"12\" lengthAdjust=\"spacingAndGlyphs\" textLength=\"46\" x=\"62\" y=\"116.1387\">g=./f/a;</text></a></g><!--MD5=[09da00ef1e12a546bc98ffa5d1b2bd14]\n",
       "@startuml\r\n",
       "skinparam ranksep 10\r\n",
       "skinparam rectangle {\r\n",
       " backgroundColor<<block>> LightGreen\r\n",
       "}\r\n",
       "top to bottom direction\r\n",
       "skinparam monochrome true\r\n",
       "skinparam classbackgroundcolor white\r\n",
       "skinparam shadowing false\r\n",
       "skinparam wrapWidth 300\r\n",
       "hide circle\r\n",
       "\r\n",
       "package \"Q\" as E1  [[psysml:de03711e-1ba4-461c-851a-9c9209031323 ]]  {\r\n",
       "rec usage \"f\" as E2  [[psysml:b9260bcb-04ce-4f8f-94f7-4786232d6bfb ]] {\r\n",
       "rec usage \"a\" as E3  [[psysml:76fd413b-d5f3-4ecc-bac0-2db3dc6a9c5a ]] {\r\n",
       "}\r\n",
       "}\r\n",
       "rec def \"C\" as E4  <<(T,blue)part def>> [[psysml:c1aefab3-4a15-416c-b89a-8b36fd883d33 ]] {\r\n",
       "rec usage \"g=./f/a; \" as E5  [[psysml:7432dd52-7523-413e-a125-d9cab4f86aea ]] {\r\n",
       "}\r\n",
       "}\r\n",
       "}\r\n",
       "@enduml\r\n",
       "\n",
       "PlantUML version 1.2020.13(Sat Jun 13 12:26:38 UTC 2020)\n",
       "(EPL source distribution)\n",
       "Java Runtime: OpenJDK Runtime Environment\n",
       "JVM: OpenJDK 64-Bit Server VM\n",
       "Default Encoding: UTF-8\n",
       "Language: en\n",
       "Country: null\n",
       "--></g></svg>"
      ]
     },
     "execution_count": 47,
     "metadata": {},
     "output_type": "execute_result"
    }
   ],
   "source": [
    "%viz --style=\"TB\" --view=\"Interconnection\" \"Q\""
   ]
  },
  {
   "cell_type": "code",
   "execution_count": 48,
   "id": "automatic-contrast",
   "metadata": {
    "execution": {
     "iopub.execute_input": "2021-03-26T15:40:56.745284Z",
     "iopub.status.busy": "2021-03-26T15:40:56.744620Z",
     "iopub.status.idle": "2021-03-26T15:40:56.752470Z",
     "shell.execute_reply": "2021-03-26T15:40:56.751620Z"
    }
   },
   "outputs": [
    {
     "data": {
      "image/svg+xml": [
       "<?xml version=\"1.0\" encoding=\"UTF-8\" standalone=\"no\"?><svg xmlns=\"http://www.w3.org/2000/svg\" xmlns:xlink=\"http://www.w3.org/1999/xlink\" contentScriptType=\"application/ecmascript\" contentStyleType=\"text/css\" height=\"12px\" preserveAspectRatio=\"none\" style=\"width:12px;height:12px;\" version=\"1.1\" viewBox=\"0 0 12 12\" width=\"12px\" zoomAndPan=\"magnify\"><defs/><g><!--MD5=[06afc254b03ac5e9d9fb7773b07d0800]\n",
       "@startuml\r\n",
       "skinparam ranksep 8\r\n",
       "top to bottom direction\r\n",
       "skinparam monochrome true\r\n",
       "skinparam classbackgroundcolor white\r\n",
       "skinparam shadowing false\r\n",
       "skinparam wrapWidth 300\r\n",
       "hide circle\r\n",
       "\r\n",
       "@enduml\r\n",
       "\n",
       "PlantUML version 1.2020.13(Sat Jun 13 12:26:38 UTC 2020)\n",
       "(EPL source distribution)\n",
       "Java Runtime: OpenJDK Runtime Environment\n",
       "JVM: OpenJDK 64-Bit Server VM\n",
       "Default Encoding: UTF-8\n",
       "Language: en\n",
       "Country: null\n",
       "--></g></svg>"
      ]
     },
     "execution_count": 48,
     "metadata": {},
     "output_type": "execute_result"
    }
   ],
   "source": [
    "%viz --style=\"TB\" --view=\"Action\" \"Q\""
   ]
  },
  {
   "cell_type": "code",
   "execution_count": 49,
   "id": "announced-dressing",
   "metadata": {
    "execution": {
     "iopub.execute_input": "2021-03-26T15:40:56.805702Z",
     "iopub.status.busy": "2021-03-26T15:40:56.805252Z",
     "iopub.status.idle": "2021-03-26T15:40:56.831173Z",
     "shell.execute_reply": "2021-03-26T15:40:56.830085Z"
    }
   },
   "outputs": [
    {
     "data": {
      "image/svg+xml": [
       "<?xml version=\"1.0\" encoding=\"UTF-8\" standalone=\"no\"?><svg xmlns=\"http://www.w3.org/2000/svg\" xmlns:xlink=\"http://www.w3.org/1999/xlink\" contentScriptType=\"application/ecmascript\" contentStyleType=\"text/css\" height=\"221px\" preserveAspectRatio=\"none\" style=\"width:213px;height:221px;\" version=\"1.1\" viewBox=\"0 0 213 221\" width=\"213px\" zoomAndPan=\"magnify\"><defs/><g><!--MD5=[fbc87193dbaf4d95561dea2c320d4a47]\n",
       "cluster E1--><a href=\"psysml:de03711e-1ba4-461c-851a-9c9209031323\" target=\"_top\" title=\"psysml:de03711e-1ba4-461c-851a-9c9209031323\" xlink:actuate=\"onRequest\" xlink:href=\"psysml:de03711e-1ba4-461c-851a-9c9209031323\" xlink:show=\"new\" xlink:title=\"psysml:de03711e-1ba4-461c-851a-9c9209031323\" xlink:type=\"simple\"><polygon fill=\"#FFFFFF\" points=\"16,6,34,6,41,28.2969,191,28.2969,191,209,16,209,16,6\" style=\"stroke: #000000; stroke-width: 1.5;\"/><line style=\"stroke: #000000; stroke-width: 1.5;\" x1=\"16\" x2=\"41\" y1=\"28.2969\" y2=\"28.2969\"/><text fill=\"#000000\" font-family=\"sans-serif\" font-size=\"14\" font-weight=\"bold\" lengthAdjust=\"spacingAndGlyphs\" textLength=\"12\" x=\"20\" y=\"20.9951\">Q</text></a><!--MD5=[b4997ac47864f28c2f74865a473b2911]\n",
       "class E2--><a href=\"psysml:b9260bcb-04ce-4f8f-94f7-4786232d6bfb\" target=\"_top\" title=\"psysml:b9260bcb-04ce-4f8f-94f7-4786232d6bfb\" xlink:actuate=\"onRequest\" xlink:href=\"psysml:b9260bcb-04ce-4f8f-94f7-4786232d6bfb\" xlink:show=\"new\" xlink:title=\"psysml:b9260bcb-04ce-4f8f-94f7-4786232d6bfb\" xlink:type=\"simple\"><rect fill=\"#FFFFFF\" height=\"45.9375\" id=\"E2\" rx=\"10\" ry=\"10\" style=\"stroke: #383838; stroke-width: 1.5;\" width=\"42\" x=\"133\" y=\"41\"/><text fill=\"#000000\" font-family=\"sans-serif\" font-size=\"12\" font-style=\"italic\" lengthAdjust=\"spacingAndGlyphs\" textLength=\"40\" x=\"134\" y=\"57.1387\">«part»</text><text fill=\"#000000\" font-family=\"sans-serif\" font-size=\"12\" lengthAdjust=\"spacingAndGlyphs\" textLength=\"4\" x=\"152\" y=\"71.1074\">f</text><line style=\"stroke: #383838; stroke-width: 1.5;\" x1=\"134\" x2=\"174\" y1=\"78.9375\" y2=\"78.9375\"/></a><!--MD5=[09b614a08d8cba4a07c9adeb5e0fee81]\n",
       "class E3--><a href=\"psysml:76fd413b-d5f3-4ecc-bac0-2db3dc6a9c5a\" target=\"_top\" title=\"psysml:76fd413b-d5f3-4ecc-bac0-2db3dc6a9c5a\" xlink:actuate=\"onRequest\" xlink:href=\"psysml:76fd413b-d5f3-4ecc-bac0-2db3dc6a9c5a\" xlink:show=\"new\" xlink:title=\"psysml:76fd413b-d5f3-4ecc-bac0-2db3dc6a9c5a\" xlink:type=\"simple\"><rect fill=\"#FFFFFF\" height=\"45.9375\" id=\"E3\" rx=\"10\" ry=\"10\" style=\"stroke: #383838; stroke-width: 1.5;\" width=\"42\" x=\"133\" y=\"147\"/><text fill=\"#000000\" font-family=\"sans-serif\" font-size=\"12\" font-style=\"italic\" lengthAdjust=\"spacingAndGlyphs\" textLength=\"40\" x=\"134\" y=\"163.1387\">«part»</text><text fill=\"#000000\" font-family=\"sans-serif\" font-size=\"12\" lengthAdjust=\"spacingAndGlyphs\" textLength=\"8\" x=\"150\" y=\"177.1074\">a</text><line style=\"stroke: #383838; stroke-width: 1.5;\" x1=\"134\" x2=\"174\" y1=\"184.9375\" y2=\"184.9375\"/></a><!--MD5=[ebbe1d658d1005bcc118a6aa81145e00]\n",
       "class E4--><a href=\"psysml:c1aefab3-4a15-416c-b89a-8b36fd883d33\" target=\"_top\" title=\"psysml:c1aefab3-4a15-416c-b89a-8b36fd883d33\" xlink:actuate=\"onRequest\" xlink:href=\"psysml:c1aefab3-4a15-416c-b89a-8b36fd883d33\" xlink:show=\"new\" xlink:title=\"psysml:c1aefab3-4a15-416c-b89a-8b36fd883d33\" xlink:type=\"simple\"><rect fill=\"#FFFFFF\" height=\"45.9375\" id=\"E4\" style=\"stroke: #383838; stroke-width: 1.5;\" width=\"66\" x=\"32\" y=\"41\"/><text fill=\"#000000\" font-family=\"sans-serif\" font-size=\"12\" font-style=\"italic\" lengthAdjust=\"spacingAndGlyphs\" textLength=\"64\" x=\"33\" y=\"57.1387\">«part def»</text><text fill=\"#000000\" font-family=\"sans-serif\" font-size=\"12\" lengthAdjust=\"spacingAndGlyphs\" textLength=\"8\" x=\"61\" y=\"71.1074\">C</text><line style=\"stroke: #383838; stroke-width: 1.5;\" x1=\"33\" x2=\"97\" y1=\"78.9375\" y2=\"78.9375\"/></a><!--MD5=[270fce915f116d4de14055a7c1d9a0f3]\n",
       "class E5--><a href=\"psysml:7432dd52-7523-413e-a125-d9cab4f86aea\" target=\"_top\" title=\"psysml:7432dd52-7523-413e-a125-d9cab4f86aea\" xlink:actuate=\"onRequest\" xlink:href=\"psysml:7432dd52-7523-413e-a125-d9cab4f86aea\" xlink:show=\"new\" xlink:title=\"psysml:7432dd52-7523-413e-a125-d9cab4f86aea\" xlink:type=\"simple\"><rect fill=\"#FFFFFF\" height=\"45.9375\" id=\"E5\" rx=\"10\" ry=\"10\" style=\"stroke: #383838; stroke-width: 1.5;\" width=\"42\" x=\"44\" y=\"147\"/><text fill=\"#000000\" font-family=\"sans-serif\" font-size=\"12\" font-style=\"italic\" lengthAdjust=\"spacingAndGlyphs\" textLength=\"40\" x=\"45\" y=\"163.1387\">«part»</text><text fill=\"#000000\" font-family=\"sans-serif\" font-size=\"12\" lengthAdjust=\"spacingAndGlyphs\" textLength=\"8\" x=\"61\" y=\"177.1074\">g</text><line style=\"stroke: #383838; stroke-width: 1.5;\" x1=\"45\" x2=\"85\" y1=\"184.9375\" y2=\"184.9375\"/></a><!--MD5=[209b3feb70ccb6233bfe1053d122c12c]\n",
       "reverse link E2 to E3--><a href=\"psysml:76fd413b-d5f3-4ecc-bac0-2db3dc6a9c5a\" target=\"_top\" title=\"psysml:76fd413b-d5f3-4ecc-bac0-2db3dc6a9c5a\" xlink:actuate=\"onRequest\" xlink:href=\"psysml:76fd413b-d5f3-4ecc-bac0-2db3dc6a9c5a\" xlink:show=\"new\" xlink:title=\"psysml:76fd413b-d5f3-4ecc-bac0-2db3dc6a9c5a\" xlink:type=\"simple\"><path d=\"M154,100.44 C154,115.87 154,133.47 154,146.98 \" fill=\"none\" id=\"E2&lt;-E3\" style=\"stroke: #383838; stroke-width: 1.0;\"/><polygon fill=\"#383838\" points=\"154,87.06,150,93.06,154,99.06,158,93.06,154,87.06\" style=\"stroke: #383838; stroke-width: 1.0;\"/></a><!--MD5=[62aa6af11e70f752912c1cb0466f24f7]\n",
       "reverse link E4 to E5--><a href=\"psysml:7432dd52-7523-413e-a125-d9cab4f86aea\" target=\"_top\" title=\"psysml:7432dd52-7523-413e-a125-d9cab4f86aea\" xlink:actuate=\"onRequest\" xlink:href=\"psysml:7432dd52-7523-413e-a125-d9cab4f86aea\" xlink:show=\"new\" xlink:title=\"psysml:7432dd52-7523-413e-a125-d9cab4f86aea\" xlink:type=\"simple\"><path d=\"M65,100.44 C65,115.87 65,133.47 65,146.98 \" fill=\"none\" id=\"E4&lt;-E5\" style=\"stroke: #383838; stroke-width: 1.0;\"/><polygon fill=\"#383838\" points=\"65,87.06,61,93.06,65,99.06,69,93.06,65,87.06\" style=\"stroke: #383838; stroke-width: 1.0;\"/></a><!--MD5=[0e7f7ce12ccc224cefba190f57cebe8e]\n",
       "@startuml\r\n",
       "top to bottom direction\r\n",
       "skinparam monochrome true\r\n",
       "skinparam classbackgroundcolor white\r\n",
       "skinparam shadowing false\r\n",
       "skinparam wrapWidth 300\r\n",
       "hide circle\r\n",
       "\r\n",
       "package \"Q\" as E1  [[psysml:de03711e-1ba4-461c-851a-9c9209031323 ]]  {\r\n",
       "comp usage \"f\" as E2  <<(T,blue)part>> [[psysml:b9260bcb-04ce-4f8f-94f7-4786232d6bfb ]] {\r\n",
       "}\r\n",
       "comp usage \"a\" as E3  <<(T,blue)part>> [[psysml:76fd413b-d5f3-4ecc-bac0-2db3dc6a9c5a ]] {\r\n",
       "}\r\n",
       "comp def \"C\" as E4  <<(T,blue)part def>> [[psysml:c1aefab3-4a15-416c-b89a-8b36fd883d33 ]] {\r\n",
       "}\r\n",
       "comp usage \"g\" as E5  <<(T,blue)part>> [[psysml:7432dd52-7523-413e-a125-d9cab4f86aea ]] {\r\n",
       "}\r\n",
       "E2 *- - E3 [[psysml:76fd413b-d5f3-4ecc-bac0-2db3dc6a9c5a ]] \r\n",
       "E4 *- - E5 [[psysml:7432dd52-7523-413e-a125-d9cab4f86aea ]] \r\n",
       "}\r\n",
       "@enduml\r\n",
       "\n",
       "PlantUML version 1.2020.13(Sat Jun 13 12:26:38 UTC 2020)\n",
       "(EPL source distribution)\n",
       "Java Runtime: OpenJDK Runtime Environment\n",
       "JVM: OpenJDK 64-Bit Server VM\n",
       "Default Encoding: UTF-8\n",
       "Language: en\n",
       "Country: null\n",
       "--></g></svg>"
      ]
     },
     "execution_count": 49,
     "metadata": {},
     "output_type": "execute_result"
    }
   ],
   "source": [
    "%viz --style=\"TB\" --view=\"Sequence\" \"Q\""
   ]
  },
  {
   "cell_type": "code",
   "execution_count": 50,
   "id": "desirable-certification",
   "metadata": {
    "execution": {
     "iopub.execute_input": "2021-03-26T15:40:56.883010Z",
     "iopub.status.busy": "2021-03-26T15:40:56.882412Z",
     "iopub.status.idle": "2021-03-26T15:40:56.909486Z",
     "shell.execute_reply": "2021-03-26T15:40:56.908394Z"
    }
   },
   "outputs": [
    {
     "data": {
      "image/svg+xml": [
       "<?xml version=\"1.0\" encoding=\"UTF-8\" standalone=\"no\"?><svg xmlns=\"http://www.w3.org/2000/svg\" xmlns:xlink=\"http://www.w3.org/1999/xlink\" contentScriptType=\"application/ecmascript\" contentStyleType=\"text/css\" height=\"221px\" preserveAspectRatio=\"none\" style=\"width:213px;height:221px;\" version=\"1.1\" viewBox=\"0 0 213 221\" width=\"213px\" zoomAndPan=\"magnify\"><defs/><g><!--MD5=[fbc87193dbaf4d95561dea2c320d4a47]\n",
       "cluster E1--><a href=\"psysml:de03711e-1ba4-461c-851a-9c9209031323\" target=\"_top\" title=\"psysml:de03711e-1ba4-461c-851a-9c9209031323\" xlink:actuate=\"onRequest\" xlink:href=\"psysml:de03711e-1ba4-461c-851a-9c9209031323\" xlink:show=\"new\" xlink:title=\"psysml:de03711e-1ba4-461c-851a-9c9209031323\" xlink:type=\"simple\"><polygon fill=\"#FFFFFF\" points=\"16,6,34,6,41,28.2969,191,28.2969,191,209,16,209,16,6\" style=\"stroke: #000000; stroke-width: 1.5;\"/><line style=\"stroke: #000000; stroke-width: 1.5;\" x1=\"16\" x2=\"41\" y1=\"28.2969\" y2=\"28.2969\"/><text fill=\"#000000\" font-family=\"sans-serif\" font-size=\"14\" font-weight=\"bold\" lengthAdjust=\"spacingAndGlyphs\" textLength=\"12\" x=\"20\" y=\"20.9951\">Q</text></a><!--MD5=[b4997ac47864f28c2f74865a473b2911]\n",
       "class E2--><a href=\"psysml:b9260bcb-04ce-4f8f-94f7-4786232d6bfb\" target=\"_top\" title=\"psysml:b9260bcb-04ce-4f8f-94f7-4786232d6bfb\" xlink:actuate=\"onRequest\" xlink:href=\"psysml:b9260bcb-04ce-4f8f-94f7-4786232d6bfb\" xlink:show=\"new\" xlink:title=\"psysml:b9260bcb-04ce-4f8f-94f7-4786232d6bfb\" xlink:type=\"simple\"><rect fill=\"#FFFFFF\" height=\"45.9375\" id=\"E2\" rx=\"10\" ry=\"10\" style=\"stroke: #383838; stroke-width: 1.5;\" width=\"42\" x=\"133\" y=\"41\"/><text fill=\"#000000\" font-family=\"sans-serif\" font-size=\"12\" font-style=\"italic\" lengthAdjust=\"spacingAndGlyphs\" textLength=\"40\" x=\"134\" y=\"57.1387\">«part»</text><text fill=\"#000000\" font-family=\"sans-serif\" font-size=\"12\" lengthAdjust=\"spacingAndGlyphs\" textLength=\"4\" x=\"152\" y=\"71.1074\">f</text><line style=\"stroke: #383838; stroke-width: 1.5;\" x1=\"134\" x2=\"174\" y1=\"78.9375\" y2=\"78.9375\"/></a><!--MD5=[09b614a08d8cba4a07c9adeb5e0fee81]\n",
       "class E3--><a href=\"psysml:76fd413b-d5f3-4ecc-bac0-2db3dc6a9c5a\" target=\"_top\" title=\"psysml:76fd413b-d5f3-4ecc-bac0-2db3dc6a9c5a\" xlink:actuate=\"onRequest\" xlink:href=\"psysml:76fd413b-d5f3-4ecc-bac0-2db3dc6a9c5a\" xlink:show=\"new\" xlink:title=\"psysml:76fd413b-d5f3-4ecc-bac0-2db3dc6a9c5a\" xlink:type=\"simple\"><rect fill=\"#FFFFFF\" height=\"45.9375\" id=\"E3\" rx=\"10\" ry=\"10\" style=\"stroke: #383838; stroke-width: 1.5;\" width=\"42\" x=\"133\" y=\"147\"/><text fill=\"#000000\" font-family=\"sans-serif\" font-size=\"12\" font-style=\"italic\" lengthAdjust=\"spacingAndGlyphs\" textLength=\"40\" x=\"134\" y=\"163.1387\">«part»</text><text fill=\"#000000\" font-family=\"sans-serif\" font-size=\"12\" lengthAdjust=\"spacingAndGlyphs\" textLength=\"8\" x=\"150\" y=\"177.1074\">a</text><line style=\"stroke: #383838; stroke-width: 1.5;\" x1=\"134\" x2=\"174\" y1=\"184.9375\" y2=\"184.9375\"/></a><!--MD5=[ebbe1d658d1005bcc118a6aa81145e00]\n",
       "class E4--><a href=\"psysml:c1aefab3-4a15-416c-b89a-8b36fd883d33\" target=\"_top\" title=\"psysml:c1aefab3-4a15-416c-b89a-8b36fd883d33\" xlink:actuate=\"onRequest\" xlink:href=\"psysml:c1aefab3-4a15-416c-b89a-8b36fd883d33\" xlink:show=\"new\" xlink:title=\"psysml:c1aefab3-4a15-416c-b89a-8b36fd883d33\" xlink:type=\"simple\"><rect fill=\"#FFFFFF\" height=\"45.9375\" id=\"E4\" style=\"stroke: #383838; stroke-width: 1.5;\" width=\"66\" x=\"32\" y=\"41\"/><text fill=\"#000000\" font-family=\"sans-serif\" font-size=\"12\" font-style=\"italic\" lengthAdjust=\"spacingAndGlyphs\" textLength=\"64\" x=\"33\" y=\"57.1387\">«part def»</text><text fill=\"#000000\" font-family=\"sans-serif\" font-size=\"12\" lengthAdjust=\"spacingAndGlyphs\" textLength=\"8\" x=\"61\" y=\"71.1074\">C</text><line style=\"stroke: #383838; stroke-width: 1.5;\" x1=\"33\" x2=\"97\" y1=\"78.9375\" y2=\"78.9375\"/></a><!--MD5=[270fce915f116d4de14055a7c1d9a0f3]\n",
       "class E5--><a href=\"psysml:7432dd52-7523-413e-a125-d9cab4f86aea\" target=\"_top\" title=\"psysml:7432dd52-7523-413e-a125-d9cab4f86aea\" xlink:actuate=\"onRequest\" xlink:href=\"psysml:7432dd52-7523-413e-a125-d9cab4f86aea\" xlink:show=\"new\" xlink:title=\"psysml:7432dd52-7523-413e-a125-d9cab4f86aea\" xlink:type=\"simple\"><rect fill=\"#FFFFFF\" height=\"45.9375\" id=\"E5\" rx=\"10\" ry=\"10\" style=\"stroke: #383838; stroke-width: 1.5;\" width=\"42\" x=\"44\" y=\"147\"/><text fill=\"#000000\" font-family=\"sans-serif\" font-size=\"12\" font-style=\"italic\" lengthAdjust=\"spacingAndGlyphs\" textLength=\"40\" x=\"45\" y=\"163.1387\">«part»</text><text fill=\"#000000\" font-family=\"sans-serif\" font-size=\"12\" lengthAdjust=\"spacingAndGlyphs\" textLength=\"8\" x=\"61\" y=\"177.1074\">g</text><line style=\"stroke: #383838; stroke-width: 1.5;\" x1=\"45\" x2=\"85\" y1=\"184.9375\" y2=\"184.9375\"/></a><!--MD5=[209b3feb70ccb6233bfe1053d122c12c]\n",
       "reverse link E2 to E3--><a href=\"psysml:76fd413b-d5f3-4ecc-bac0-2db3dc6a9c5a\" target=\"_top\" title=\"psysml:76fd413b-d5f3-4ecc-bac0-2db3dc6a9c5a\" xlink:actuate=\"onRequest\" xlink:href=\"psysml:76fd413b-d5f3-4ecc-bac0-2db3dc6a9c5a\" xlink:show=\"new\" xlink:title=\"psysml:76fd413b-d5f3-4ecc-bac0-2db3dc6a9c5a\" xlink:type=\"simple\"><path d=\"M154,100.44 C154,115.87 154,133.47 154,146.98 \" fill=\"none\" id=\"E2&lt;-E3\" style=\"stroke: #383838; stroke-width: 1.0;\"/><polygon fill=\"#383838\" points=\"154,87.06,150,93.06,154,99.06,158,93.06,154,87.06\" style=\"stroke: #383838; stroke-width: 1.0;\"/></a><!--MD5=[62aa6af11e70f752912c1cb0466f24f7]\n",
       "reverse link E4 to E5--><a href=\"psysml:7432dd52-7523-413e-a125-d9cab4f86aea\" target=\"_top\" title=\"psysml:7432dd52-7523-413e-a125-d9cab4f86aea\" xlink:actuate=\"onRequest\" xlink:href=\"psysml:7432dd52-7523-413e-a125-d9cab4f86aea\" xlink:show=\"new\" xlink:title=\"psysml:7432dd52-7523-413e-a125-d9cab4f86aea\" xlink:type=\"simple\"><path d=\"M65,100.44 C65,115.87 65,133.47 65,146.98 \" fill=\"none\" id=\"E4&lt;-E5\" style=\"stroke: #383838; stroke-width: 1.0;\"/><polygon fill=\"#383838\" points=\"65,87.06,61,93.06,65,99.06,69,93.06,65,87.06\" style=\"stroke: #383838; stroke-width: 1.0;\"/></a><!--MD5=[0e7f7ce12ccc224cefba190f57cebe8e]\n",
       "@startuml\r\n",
       "top to bottom direction\r\n",
       "skinparam monochrome true\r\n",
       "skinparam classbackgroundcolor white\r\n",
       "skinparam shadowing false\r\n",
       "skinparam wrapWidth 300\r\n",
       "hide circle\r\n",
       "\r\n",
       "package \"Q\" as E1  [[psysml:de03711e-1ba4-461c-851a-9c9209031323 ]]  {\r\n",
       "comp usage \"f\" as E2  <<(T,blue)part>> [[psysml:b9260bcb-04ce-4f8f-94f7-4786232d6bfb ]] {\r\n",
       "}\r\n",
       "comp usage \"a\" as E3  <<(T,blue)part>> [[psysml:76fd413b-d5f3-4ecc-bac0-2db3dc6a9c5a ]] {\r\n",
       "}\r\n",
       "comp def \"C\" as E4  <<(T,blue)part def>> [[psysml:c1aefab3-4a15-416c-b89a-8b36fd883d33 ]] {\r\n",
       "}\r\n",
       "comp usage \"g\" as E5  <<(T,blue)part>> [[psysml:7432dd52-7523-413e-a125-d9cab4f86aea ]] {\r\n",
       "}\r\n",
       "E2 *- - E3 [[psysml:76fd413b-d5f3-4ecc-bac0-2db3dc6a9c5a ]] \r\n",
       "E4 *- - E5 [[psysml:7432dd52-7523-413e-a125-d9cab4f86aea ]] \r\n",
       "}\r\n",
       "@enduml\r\n",
       "\n",
       "PlantUML version 1.2020.13(Sat Jun 13 12:26:38 UTC 2020)\n",
       "(EPL source distribution)\n",
       "Java Runtime: OpenJDK Runtime Environment\n",
       "JVM: OpenJDK 64-Bit Server VM\n",
       "Default Encoding: UTF-8\n",
       "Language: en\n",
       "Country: null\n",
       "--></g></svg>"
      ]
     },
     "execution_count": 50,
     "metadata": {},
     "output_type": "execute_result"
    }
   ],
   "source": [
    "%viz --style=\"TB\" --view=\"MIXED\" \"Q\""
   ]
  },
  {
   "cell_type": "code",
   "execution_count": 51,
   "id": "educational-piano",
   "metadata": {
    "execution": {
     "iopub.execute_input": "2021-03-26T15:40:56.961162Z",
     "iopub.status.busy": "2021-03-26T15:40:56.960312Z",
     "iopub.status.idle": "2021-03-26T15:40:56.989353Z",
     "shell.execute_reply": "2021-03-26T15:40:56.988575Z"
    }
   },
   "outputs": [
    {
     "data": {
      "image/svg+xml": [
       "<?xml version=\"1.0\" encoding=\"UTF-8\" standalone=\"no\"?><svg xmlns=\"http://www.w3.org/2000/svg\" xmlns:xlink=\"http://www.w3.org/1999/xlink\" contentScriptType=\"application/ecmascript\" contentStyleType=\"text/css\" height=\"221px\" preserveAspectRatio=\"none\" style=\"width:213px;height:221px;\" version=\"1.1\" viewBox=\"0 0 213 221\" width=\"213px\" zoomAndPan=\"magnify\"><defs/><g><!--MD5=[fbc87193dbaf4d95561dea2c320d4a47]\n",
       "cluster E1--><a href=\"psysml:de03711e-1ba4-461c-851a-9c9209031323\" target=\"_top\" title=\"psysml:de03711e-1ba4-461c-851a-9c9209031323\" xlink:actuate=\"onRequest\" xlink:href=\"psysml:de03711e-1ba4-461c-851a-9c9209031323\" xlink:show=\"new\" xlink:title=\"psysml:de03711e-1ba4-461c-851a-9c9209031323\" xlink:type=\"simple\"><polygon fill=\"#FFFFFF\" points=\"16,6,34,6,41,28.2969,191,28.2969,191,209,16,209,16,6\" style=\"stroke: #000000; stroke-width: 1.5;\"/><line style=\"stroke: #000000; stroke-width: 1.5;\" x1=\"16\" x2=\"41\" y1=\"28.2969\" y2=\"28.2969\"/><text fill=\"#000000\" font-family=\"sans-serif\" font-size=\"14\" font-weight=\"bold\" lengthAdjust=\"spacingAndGlyphs\" textLength=\"12\" x=\"20\" y=\"20.9951\">Q</text></a><!--MD5=[b4997ac47864f28c2f74865a473b2911]\n",
       "class E2--><a href=\"psysml:b9260bcb-04ce-4f8f-94f7-4786232d6bfb\" target=\"_top\" title=\"psysml:b9260bcb-04ce-4f8f-94f7-4786232d6bfb\" xlink:actuate=\"onRequest\" xlink:href=\"psysml:b9260bcb-04ce-4f8f-94f7-4786232d6bfb\" xlink:show=\"new\" xlink:title=\"psysml:b9260bcb-04ce-4f8f-94f7-4786232d6bfb\" xlink:type=\"simple\"><rect fill=\"#FFFFFF\" height=\"45.9375\" id=\"E2\" rx=\"10\" ry=\"10\" style=\"stroke: #383838; stroke-width: 1.5;\" width=\"42\" x=\"133\" y=\"41\"/><text fill=\"#000000\" font-family=\"sans-serif\" font-size=\"12\" font-style=\"italic\" lengthAdjust=\"spacingAndGlyphs\" textLength=\"40\" x=\"134\" y=\"57.1387\">«part»</text><text fill=\"#000000\" font-family=\"sans-serif\" font-size=\"12\" lengthAdjust=\"spacingAndGlyphs\" textLength=\"4\" x=\"152\" y=\"71.1074\">f</text><line style=\"stroke: #383838; stroke-width: 1.5;\" x1=\"134\" x2=\"174\" y1=\"78.9375\" y2=\"78.9375\"/></a><!--MD5=[09b614a08d8cba4a07c9adeb5e0fee81]\n",
       "class E3--><a href=\"psysml:76fd413b-d5f3-4ecc-bac0-2db3dc6a9c5a\" target=\"_top\" title=\"psysml:76fd413b-d5f3-4ecc-bac0-2db3dc6a9c5a\" xlink:actuate=\"onRequest\" xlink:href=\"psysml:76fd413b-d5f3-4ecc-bac0-2db3dc6a9c5a\" xlink:show=\"new\" xlink:title=\"psysml:76fd413b-d5f3-4ecc-bac0-2db3dc6a9c5a\" xlink:type=\"simple\"><rect fill=\"#FFFFFF\" height=\"45.9375\" id=\"E3\" rx=\"10\" ry=\"10\" style=\"stroke: #383838; stroke-width: 1.5;\" width=\"42\" x=\"133\" y=\"147\"/><text fill=\"#000000\" font-family=\"sans-serif\" font-size=\"12\" font-style=\"italic\" lengthAdjust=\"spacingAndGlyphs\" textLength=\"40\" x=\"134\" y=\"163.1387\">«part»</text><text fill=\"#000000\" font-family=\"sans-serif\" font-size=\"12\" lengthAdjust=\"spacingAndGlyphs\" textLength=\"8\" x=\"150\" y=\"177.1074\">a</text><line style=\"stroke: #383838; stroke-width: 1.5;\" x1=\"134\" x2=\"174\" y1=\"184.9375\" y2=\"184.9375\"/></a><!--MD5=[ebbe1d658d1005bcc118a6aa81145e00]\n",
       "class E4--><a href=\"psysml:c1aefab3-4a15-416c-b89a-8b36fd883d33\" target=\"_top\" title=\"psysml:c1aefab3-4a15-416c-b89a-8b36fd883d33\" xlink:actuate=\"onRequest\" xlink:href=\"psysml:c1aefab3-4a15-416c-b89a-8b36fd883d33\" xlink:show=\"new\" xlink:title=\"psysml:c1aefab3-4a15-416c-b89a-8b36fd883d33\" xlink:type=\"simple\"><rect fill=\"#FFFFFF\" height=\"45.9375\" id=\"E4\" style=\"stroke: #383838; stroke-width: 1.5;\" width=\"66\" x=\"32\" y=\"41\"/><text fill=\"#000000\" font-family=\"sans-serif\" font-size=\"12\" font-style=\"italic\" lengthAdjust=\"spacingAndGlyphs\" textLength=\"64\" x=\"33\" y=\"57.1387\">«part def»</text><text fill=\"#000000\" font-family=\"sans-serif\" font-size=\"12\" lengthAdjust=\"spacingAndGlyphs\" textLength=\"8\" x=\"61\" y=\"71.1074\">C</text><line style=\"stroke: #383838; stroke-width: 1.5;\" x1=\"33\" x2=\"97\" y1=\"78.9375\" y2=\"78.9375\"/></a><!--MD5=[270fce915f116d4de14055a7c1d9a0f3]\n",
       "class E5--><a href=\"psysml:7432dd52-7523-413e-a125-d9cab4f86aea\" target=\"_top\" title=\"psysml:7432dd52-7523-413e-a125-d9cab4f86aea\" xlink:actuate=\"onRequest\" xlink:href=\"psysml:7432dd52-7523-413e-a125-d9cab4f86aea\" xlink:show=\"new\" xlink:title=\"psysml:7432dd52-7523-413e-a125-d9cab4f86aea\" xlink:type=\"simple\"><rect fill=\"#FFFFFF\" height=\"45.9375\" id=\"E5\" rx=\"10\" ry=\"10\" style=\"stroke: #383838; stroke-width: 1.5;\" width=\"42\" x=\"44\" y=\"147\"/><text fill=\"#000000\" font-family=\"sans-serif\" font-size=\"12\" font-style=\"italic\" lengthAdjust=\"spacingAndGlyphs\" textLength=\"40\" x=\"45\" y=\"163.1387\">«part»</text><text fill=\"#000000\" font-family=\"sans-serif\" font-size=\"12\" lengthAdjust=\"spacingAndGlyphs\" textLength=\"8\" x=\"61\" y=\"177.1074\">g</text><line style=\"stroke: #383838; stroke-width: 1.5;\" x1=\"45\" x2=\"85\" y1=\"184.9375\" y2=\"184.9375\"/></a><!--MD5=[209b3feb70ccb6233bfe1053d122c12c]\n",
       "reverse link E2 to E3--><a href=\"psysml:76fd413b-d5f3-4ecc-bac0-2db3dc6a9c5a\" target=\"_top\" title=\"psysml:76fd413b-d5f3-4ecc-bac0-2db3dc6a9c5a\" xlink:actuate=\"onRequest\" xlink:href=\"psysml:76fd413b-d5f3-4ecc-bac0-2db3dc6a9c5a\" xlink:show=\"new\" xlink:title=\"psysml:76fd413b-d5f3-4ecc-bac0-2db3dc6a9c5a\" xlink:type=\"simple\"><path d=\"M154,100 C154,100 154,146.68 154,146.68 \" fill=\"none\" id=\"E2&lt;-E3\" style=\"stroke: #383838; stroke-width: 1.0;\"/><polygon fill=\"#383838\" points=\"154,87,150,93,154,99,158,93,154,87\" style=\"stroke: #383838; stroke-width: 1.0;\"/></a><!--MD5=[62aa6af11e70f752912c1cb0466f24f7]\n",
       "reverse link E4 to E5--><a href=\"psysml:7432dd52-7523-413e-a125-d9cab4f86aea\" target=\"_top\" title=\"psysml:7432dd52-7523-413e-a125-d9cab4f86aea\" xlink:actuate=\"onRequest\" xlink:href=\"psysml:7432dd52-7523-413e-a125-d9cab4f86aea\" xlink:show=\"new\" xlink:title=\"psysml:7432dd52-7523-413e-a125-d9cab4f86aea\" xlink:type=\"simple\"><path d=\"M65,100 C65,100 65,146.68 65,146.68 \" fill=\"none\" id=\"E4&lt;-E5\" style=\"stroke: #383838; stroke-width: 1.0;\"/><polygon fill=\"#383838\" points=\"65,87,61,93,65,99,69,93,65,87\" style=\"stroke: #383838; stroke-width: 1.0;\"/></a><!--MD5=[5218480ed02e7bae3ea8ed7c246d4a20]\n",
       "@startuml\r\n",
       "skinparam linetype ortho\r\n",
       "skinparam monochrome true\r\n",
       "skinparam classbackgroundcolor white\r\n",
       "skinparam shadowing false\r\n",
       "skinparam wrapWidth 300\r\n",
       "hide circle\r\n",
       "\r\n",
       "package \"Q\" as E1  [[psysml:de03711e-1ba4-461c-851a-9c9209031323 ]]  {\r\n",
       "comp usage \"f\" as E2  <<(T,blue)part>> [[psysml:b9260bcb-04ce-4f8f-94f7-4786232d6bfb ]] {\r\n",
       "}\r\n",
       "comp usage \"a\" as E3  <<(T,blue)part>> [[psysml:76fd413b-d5f3-4ecc-bac0-2db3dc6a9c5a ]] {\r\n",
       "}\r\n",
       "comp def \"C\" as E4  <<(T,blue)part def>> [[psysml:c1aefab3-4a15-416c-b89a-8b36fd883d33 ]] {\r\n",
       "}\r\n",
       "comp usage \"g\" as E5  <<(T,blue)part>> [[psysml:7432dd52-7523-413e-a125-d9cab4f86aea ]] {\r\n",
       "}\r\n",
       "E2 *- - E3 [[psysml:76fd413b-d5f3-4ecc-bac0-2db3dc6a9c5a ]] \r\n",
       "E4 *- - E5 [[psysml:7432dd52-7523-413e-a125-d9cab4f86aea ]] \r\n",
       "}\r\n",
       "@enduml\r\n",
       "\n",
       "PlantUML version 1.2020.13(Sat Jun 13 12:26:38 UTC 2020)\n",
       "(EPL source distribution)\n",
       "Java Runtime: OpenJDK Runtime Environment\n",
       "JVM: OpenJDK 64-Bit Server VM\n",
       "Default Encoding: UTF-8\n",
       "Language: en\n",
       "Country: null\n",
       "--></g></svg>"
      ]
     },
     "execution_count": 51,
     "metadata": {},
     "output_type": "execute_result"
    }
   ],
   "source": [
    "%viz --style=\"ORTHOLINE\" --view=\"Default\" \"Q\""
   ]
  },
  {
   "cell_type": "code",
   "execution_count": 52,
   "id": "decimal-breakdown",
   "metadata": {
    "execution": {
     "iopub.execute_input": "2021-03-26T15:40:57.042923Z",
     "iopub.status.busy": "2021-03-26T15:40:57.042139Z",
     "iopub.status.idle": "2021-03-26T15:40:57.069049Z",
     "shell.execute_reply": "2021-03-26T15:40:57.067955Z"
    }
   },
   "outputs": [
    {
     "data": {
      "image/svg+xml": [
       "<?xml version=\"1.0\" encoding=\"UTF-8\" standalone=\"no\"?><svg xmlns=\"http://www.w3.org/2000/svg\" xmlns:xlink=\"http://www.w3.org/1999/xlink\" contentScriptType=\"application/ecmascript\" contentStyleType=\"text/css\" height=\"221px\" preserveAspectRatio=\"none\" style=\"width:213px;height:221px;\" version=\"1.1\" viewBox=\"0 0 213 221\" width=\"213px\" zoomAndPan=\"magnify\"><defs/><g><!--MD5=[fbc87193dbaf4d95561dea2c320d4a47]\n",
       "cluster E1--><a href=\"psysml:de03711e-1ba4-461c-851a-9c9209031323\" target=\"_top\" title=\"psysml:de03711e-1ba4-461c-851a-9c9209031323\" xlink:actuate=\"onRequest\" xlink:href=\"psysml:de03711e-1ba4-461c-851a-9c9209031323\" xlink:show=\"new\" xlink:title=\"psysml:de03711e-1ba4-461c-851a-9c9209031323\" xlink:type=\"simple\"><polygon fill=\"#FFFFFF\" points=\"16,6,34,6,41,28.2969,191,28.2969,191,209,16,209,16,6\" style=\"stroke: #000000; stroke-width: 1.5;\"/><line style=\"stroke: #000000; stroke-width: 1.5;\" x1=\"16\" x2=\"41\" y1=\"28.2969\" y2=\"28.2969\"/><text fill=\"#000000\" font-family=\"sans-serif\" font-size=\"14\" font-weight=\"bold\" lengthAdjust=\"spacingAndGlyphs\" textLength=\"12\" x=\"20\" y=\"20.9951\">Q</text></a><!--MD5=[b4997ac47864f28c2f74865a473b2911]\n",
       "class E2--><a href=\"psysml:b9260bcb-04ce-4f8f-94f7-4786232d6bfb\" target=\"_top\" title=\"psysml:b9260bcb-04ce-4f8f-94f7-4786232d6bfb\" xlink:actuate=\"onRequest\" xlink:href=\"psysml:b9260bcb-04ce-4f8f-94f7-4786232d6bfb\" xlink:show=\"new\" xlink:title=\"psysml:b9260bcb-04ce-4f8f-94f7-4786232d6bfb\" xlink:type=\"simple\"><rect fill=\"#FFFFFF\" height=\"45.9375\" id=\"E2\" rx=\"10\" ry=\"10\" style=\"stroke: #383838; stroke-width: 1.5;\" width=\"42\" x=\"133\" y=\"41\"/><text fill=\"#000000\" font-family=\"sans-serif\" font-size=\"12\" font-style=\"italic\" lengthAdjust=\"spacingAndGlyphs\" textLength=\"40\" x=\"134\" y=\"57.1387\">«part»</text><text fill=\"#000000\" font-family=\"sans-serif\" font-size=\"12\" lengthAdjust=\"spacingAndGlyphs\" textLength=\"4\" x=\"152\" y=\"71.1074\">f</text><line style=\"stroke: #383838; stroke-width: 1.5;\" x1=\"134\" x2=\"174\" y1=\"78.9375\" y2=\"78.9375\"/></a><!--MD5=[09b614a08d8cba4a07c9adeb5e0fee81]\n",
       "class E3--><a href=\"psysml:76fd413b-d5f3-4ecc-bac0-2db3dc6a9c5a\" target=\"_top\" title=\"psysml:76fd413b-d5f3-4ecc-bac0-2db3dc6a9c5a\" xlink:actuate=\"onRequest\" xlink:href=\"psysml:76fd413b-d5f3-4ecc-bac0-2db3dc6a9c5a\" xlink:show=\"new\" xlink:title=\"psysml:76fd413b-d5f3-4ecc-bac0-2db3dc6a9c5a\" xlink:type=\"simple\"><rect fill=\"#FFFFFF\" height=\"45.9375\" id=\"E3\" rx=\"10\" ry=\"10\" style=\"stroke: #383838; stroke-width: 1.5;\" width=\"42\" x=\"133\" y=\"147\"/><text fill=\"#000000\" font-family=\"sans-serif\" font-size=\"12\" font-style=\"italic\" lengthAdjust=\"spacingAndGlyphs\" textLength=\"40\" x=\"134\" y=\"163.1387\">«part»</text><text fill=\"#000000\" font-family=\"sans-serif\" font-size=\"12\" lengthAdjust=\"spacingAndGlyphs\" textLength=\"8\" x=\"150\" y=\"177.1074\">a</text><line style=\"stroke: #383838; stroke-width: 1.5;\" x1=\"134\" x2=\"174\" y1=\"184.9375\" y2=\"184.9375\"/></a><!--MD5=[ebbe1d658d1005bcc118a6aa81145e00]\n",
       "class E4--><a href=\"psysml:c1aefab3-4a15-416c-b89a-8b36fd883d33\" target=\"_top\" title=\"psysml:c1aefab3-4a15-416c-b89a-8b36fd883d33\" xlink:actuate=\"onRequest\" xlink:href=\"psysml:c1aefab3-4a15-416c-b89a-8b36fd883d33\" xlink:show=\"new\" xlink:title=\"psysml:c1aefab3-4a15-416c-b89a-8b36fd883d33\" xlink:type=\"simple\"><rect fill=\"#FFFFFF\" height=\"45.9375\" id=\"E4\" style=\"stroke: #383838; stroke-width: 1.5;\" width=\"66\" x=\"32\" y=\"41\"/><text fill=\"#000000\" font-family=\"sans-serif\" font-size=\"12\" font-style=\"italic\" lengthAdjust=\"spacingAndGlyphs\" textLength=\"64\" x=\"33\" y=\"57.1387\">«part def»</text><text fill=\"#000000\" font-family=\"sans-serif\" font-size=\"12\" lengthAdjust=\"spacingAndGlyphs\" textLength=\"8\" x=\"61\" y=\"71.1074\">C</text><line style=\"stroke: #383838; stroke-width: 1.5;\" x1=\"33\" x2=\"97\" y1=\"78.9375\" y2=\"78.9375\"/></a><!--MD5=[270fce915f116d4de14055a7c1d9a0f3]\n",
       "class E5--><a href=\"psysml:7432dd52-7523-413e-a125-d9cab4f86aea\" target=\"_top\" title=\"psysml:7432dd52-7523-413e-a125-d9cab4f86aea\" xlink:actuate=\"onRequest\" xlink:href=\"psysml:7432dd52-7523-413e-a125-d9cab4f86aea\" xlink:show=\"new\" xlink:title=\"psysml:7432dd52-7523-413e-a125-d9cab4f86aea\" xlink:type=\"simple\"><rect fill=\"#FFFFFF\" height=\"45.9375\" id=\"E5\" rx=\"10\" ry=\"10\" style=\"stroke: #383838; stroke-width: 1.5;\" width=\"42\" x=\"44\" y=\"147\"/><text fill=\"#000000\" font-family=\"sans-serif\" font-size=\"12\" font-style=\"italic\" lengthAdjust=\"spacingAndGlyphs\" textLength=\"40\" x=\"45\" y=\"163.1387\">«part»</text><text fill=\"#000000\" font-family=\"sans-serif\" font-size=\"12\" lengthAdjust=\"spacingAndGlyphs\" textLength=\"8\" x=\"61\" y=\"177.1074\">g</text><line style=\"stroke: #383838; stroke-width: 1.5;\" x1=\"45\" x2=\"85\" y1=\"184.9375\" y2=\"184.9375\"/></a><!--MD5=[209b3feb70ccb6233bfe1053d122c12c]\n",
       "reverse link E2 to E3--><a href=\"psysml:76fd413b-d5f3-4ecc-bac0-2db3dc6a9c5a\" target=\"_top\" title=\"psysml:76fd413b-d5f3-4ecc-bac0-2db3dc6a9c5a\" xlink:actuate=\"onRequest\" xlink:href=\"psysml:76fd413b-d5f3-4ecc-bac0-2db3dc6a9c5a\" xlink:show=\"new\" xlink:title=\"psysml:76fd413b-d5f3-4ecc-bac0-2db3dc6a9c5a\" xlink:type=\"simple\"><path d=\"M154,100 C154,100 154,146.68 154,146.68 \" fill=\"none\" id=\"E2&lt;-E3\" style=\"stroke: #383838; stroke-width: 1.0;\"/><polygon fill=\"#383838\" points=\"154,87,150,93,154,99,158,93,154,87\" style=\"stroke: #383838; stroke-width: 1.0;\"/></a><!--MD5=[62aa6af11e70f752912c1cb0466f24f7]\n",
       "reverse link E4 to E5--><a href=\"psysml:7432dd52-7523-413e-a125-d9cab4f86aea\" target=\"_top\" title=\"psysml:7432dd52-7523-413e-a125-d9cab4f86aea\" xlink:actuate=\"onRequest\" xlink:href=\"psysml:7432dd52-7523-413e-a125-d9cab4f86aea\" xlink:show=\"new\" xlink:title=\"psysml:7432dd52-7523-413e-a125-d9cab4f86aea\" xlink:type=\"simple\"><path d=\"M65,100 C65,100 65,146.68 65,146.68 \" fill=\"none\" id=\"E4&lt;-E5\" style=\"stroke: #383838; stroke-width: 1.0;\"/><polygon fill=\"#383838\" points=\"65,87,61,93,65,99,69,93,65,87\" style=\"stroke: #383838; stroke-width: 1.0;\"/></a><!--MD5=[5218480ed02e7bae3ea8ed7c246d4a20]\n",
       "@startuml\r\n",
       "skinparam linetype ortho\r\n",
       "skinparam monochrome true\r\n",
       "skinparam classbackgroundcolor white\r\n",
       "skinparam shadowing false\r\n",
       "skinparam wrapWidth 300\r\n",
       "hide circle\r\n",
       "\r\n",
       "package \"Q\" as E1  [[psysml:de03711e-1ba4-461c-851a-9c9209031323 ]]  {\r\n",
       "comp usage \"f\" as E2  <<(T,blue)part>> [[psysml:b9260bcb-04ce-4f8f-94f7-4786232d6bfb ]] {\r\n",
       "}\r\n",
       "comp usage \"a\" as E3  <<(T,blue)part>> [[psysml:76fd413b-d5f3-4ecc-bac0-2db3dc6a9c5a ]] {\r\n",
       "}\r\n",
       "comp def \"C\" as E4  <<(T,blue)part def>> [[psysml:c1aefab3-4a15-416c-b89a-8b36fd883d33 ]] {\r\n",
       "}\r\n",
       "comp usage \"g\" as E5  <<(T,blue)part>> [[psysml:7432dd52-7523-413e-a125-d9cab4f86aea ]] {\r\n",
       "}\r\n",
       "E2 *- - E3 [[psysml:76fd413b-d5f3-4ecc-bac0-2db3dc6a9c5a ]] \r\n",
       "E4 *- - E5 [[psysml:7432dd52-7523-413e-a125-d9cab4f86aea ]] \r\n",
       "}\r\n",
       "@enduml\r\n",
       "\n",
       "PlantUML version 1.2020.13(Sat Jun 13 12:26:38 UTC 2020)\n",
       "(EPL source distribution)\n",
       "Java Runtime: OpenJDK Runtime Environment\n",
       "JVM: OpenJDK 64-Bit Server VM\n",
       "Default Encoding: UTF-8\n",
       "Language: en\n",
       "Country: null\n",
       "--></g></svg>"
      ]
     },
     "execution_count": 52,
     "metadata": {},
     "output_type": "execute_result"
    }
   ],
   "source": [
    "%viz --style=\"ORTHOLINE\" --view=\"Tree\" \"Q\""
   ]
  },
  {
   "cell_type": "code",
   "execution_count": 53,
   "id": "accomplished-alpha",
   "metadata": {
    "execution": {
     "iopub.execute_input": "2021-03-26T15:40:57.119418Z",
     "iopub.status.busy": "2021-03-26T15:40:57.119044Z",
     "iopub.status.idle": "2021-03-26T15:40:57.124688Z",
     "shell.execute_reply": "2021-03-26T15:40:57.124397Z"
    }
   },
   "outputs": [
    {
     "data": {
      "image/svg+xml": [
       "<?xml version=\"1.0\" encoding=\"UTF-8\" standalone=\"no\"?><svg xmlns=\"http://www.w3.org/2000/svg\" xmlns:xlink=\"http://www.w3.org/1999/xlink\" contentScriptType=\"application/ecmascript\" contentStyleType=\"text/css\" height=\"12px\" preserveAspectRatio=\"none\" style=\"width:12px;height:12px;\" version=\"1.1\" viewBox=\"0 0 12 12\" width=\"12px\" zoomAndPan=\"magnify\"><defs/><g><!--MD5=[97d6f38768b311333d388e66b2b27985]\n",
       "@startuml\r\n",
       "skinparam linetype ortho\r\n",
       "skinparam monochrome true\r\n",
       "skinparam classbackgroundcolor white\r\n",
       "skinparam shadowing false\r\n",
       "skinparam wrapWidth 300\r\n",
       "hide circle\r\n",
       "\r\n",
       "@enduml\r\n",
       "\n",
       "PlantUML version 1.2020.13(Sat Jun 13 12:26:38 UTC 2020)\n",
       "(EPL source distribution)\n",
       "Java Runtime: OpenJDK Runtime Environment\n",
       "JVM: OpenJDK 64-Bit Server VM\n",
       "Default Encoding: UTF-8\n",
       "Language: en\n",
       "Country: null\n",
       "--></g></svg>"
      ]
     },
     "execution_count": 53,
     "metadata": {},
     "output_type": "execute_result"
    }
   ],
   "source": [
    "%viz --style=\"ORTHOLINE\" --view=\"State\" \"Q\""
   ]
  },
  {
   "cell_type": "code",
   "execution_count": 54,
   "id": "wrong-venice",
   "metadata": {
    "execution": {
     "iopub.execute_input": "2021-03-26T15:40:57.175124Z",
     "iopub.status.busy": "2021-03-26T15:40:57.174701Z",
     "iopub.status.idle": "2021-03-26T15:40:57.203087Z",
     "shell.execute_reply": "2021-03-26T15:40:57.202007Z"
    }
   },
   "outputs": [
    {
     "data": {
      "image/svg+xml": [
       "<?xml version=\"1.0\" encoding=\"UTF-8\" standalone=\"no\"?><svg xmlns=\"http://www.w3.org/2000/svg\" xmlns:xlink=\"http://www.w3.org/1999/xlink\" contentScriptType=\"application/ecmascript\" contentStyleType=\"text/css\" height=\"192px\" preserveAspectRatio=\"none\" style=\"width:286px;height:192px;\" version=\"1.1\" viewBox=\"0 0 286 192\" width=\"286px\" zoomAndPan=\"magnify\"><defs/><g><!--MD5=[fbc87193dbaf4d95561dea2c320d4a47]\n",
       "cluster E1--><a href=\"psysml:de03711e-1ba4-461c-851a-9c9209031323\" target=\"_top\" title=\"psysml:de03711e-1ba4-461c-851a-9c9209031323\" xlink:actuate=\"onRequest\" xlink:href=\"psysml:de03711e-1ba4-461c-851a-9c9209031323\" xlink:show=\"new\" xlink:title=\"psysml:de03711e-1ba4-461c-851a-9c9209031323\" xlink:type=\"simple\"><polygon fill=\"#FFFFFF\" points=\"16,6,34,6,41,28.2969,264,28.2969,264,180,16,180,16,6\" style=\"stroke: #000000; stroke-width: 1.5;\"/><line style=\"stroke: #000000; stroke-width: 1.5;\" x1=\"16\" x2=\"41\" y1=\"28.2969\" y2=\"28.2969\"/><text fill=\"#000000\" font-family=\"sans-serif\" font-size=\"14\" font-weight=\"bold\" lengthAdjust=\"spacingAndGlyphs\" textLength=\"12\" x=\"20\" y=\"20.9951\">Q</text></a><!--MD5=[e4f7fae6ed58524ba242bb0b0d3be6b7]\n",
       "cluster E2--><a href=\"psysml:b9260bcb-04ce-4f8f-94f7-4786232d6bfb\" target=\"_top\" title=\"psysml:b9260bcb-04ce-4f8f-94f7-4786232d6bfb\" xlink:actuate=\"onRequest\" xlink:href=\"psysml:b9260bcb-04ce-4f8f-94f7-4786232d6bfb\" xlink:show=\"new\" xlink:title=\"psysml:b9260bcb-04ce-4f8f-94f7-4786232d6bfb\" xlink:type=\"simple\"><rect fill=\"#FFFFFF\" height=\"91\" id=\"E2\" rx=\"10\" ry=\"10\" style=\"stroke: #383838; stroke-width: 1.5;\" width=\"82\" x=\"158\" y=\"65\"/><rect fill=\"#F8F8F8\" height=\"23.9688\" rx=\"10\" ry=\"10\" style=\"stroke: #F8F8F8; stroke-width: 1.5;\" width=\"82\" x=\"158\" y=\"65\"/><rect fill=\"#F8F8F8\" height=\"10\" style=\"stroke: #F8F8F8; stroke-width: 1.5;\" width=\"82\" x=\"158\" y=\"78.9688\"/><rect fill=\"none\" height=\"91\" id=\"E2\" rx=\"10\" ry=\"10\" style=\"stroke: #383838; stroke-width: 1.5;\" width=\"82\" x=\"158\" y=\"65\"/><text fill=\"#000000\" font-family=\"sans-serif\" font-size=\"12\" lengthAdjust=\"spacingAndGlyphs\" textLength=\"4\" x=\"197\" y=\"81.1387\">f</text><line style=\"stroke: #383838; stroke-width: 1.0;\" x1=\"158\" x2=\"240\" y1=\"88.9688\" y2=\"88.9688\"/></a><!--MD5=[f6df4d0ebaf0b5dfb2ced0ae5af7c670]\n",
       "cluster E4--><a href=\"psysml:c1aefab3-4a15-416c-b89a-8b36fd883d33\" target=\"_top\" title=\"psysml:c1aefab3-4a15-416c-b89a-8b36fd883d33\" xlink:actuate=\"onRequest\" xlink:href=\"psysml:c1aefab3-4a15-416c-b89a-8b36fd883d33\" xlink:show=\"new\" xlink:title=\"psysml:c1aefab3-4a15-416c-b89a-8b36fd883d33\" xlink:type=\"simple\"><rect fill=\"#FFFFFF\" height=\"107\" id=\"E4\" style=\"stroke: #383838; stroke-width: 1.5;\" width=\"94\" x=\"40\" y=\"49\"/><rect fill=\"#F8F8F8\" height=\"37.9375\" style=\"stroke: #383838; stroke-width: 1.5;\" width=\"94\" x=\"40\" y=\"49\"/><text fill=\"#000000\" font-family=\"sans-serif\" font-size=\"12\" font-style=\"italic\" lengthAdjust=\"spacingAndGlyphs\" textLength=\"64\" x=\"55\" y=\"65.1387\">«part def»</text><text fill=\"#000000\" font-family=\"sans-serif\" font-size=\"12\" lengthAdjust=\"spacingAndGlyphs\" textLength=\"8\" x=\"83\" y=\"79.1074\">C</text></a><g id=\"E1.E2.E3\"><a href=\"psysml:76fd413b-d5f3-4ecc-bac0-2db3dc6a9c5a\" target=\"_top\" title=\"psysml:76fd413b-d5f3-4ecc-bac0-2db3dc6a9c5a\" xlink:actuate=\"onRequest\" xlink:href=\"psysml:76fd413b-d5f3-4ecc-bac0-2db3dc6a9c5a\" xlink:show=\"new\" xlink:title=\"psysml:76fd413b-d5f3-4ecc-bac0-2db3dc6a9c5a\" xlink:type=\"simple\"><rect fill=\"#FFFFFF\" height=\"40\" id=\"E3\" rx=\"10\" ry=\"10\" style=\"stroke: #383838; stroke-width: 1.5;\" width=\"50\" x=\"174\" y=\"100\"/><rect fill=\"#F8F8F8\" height=\"23.9688\" rx=\"10\" ry=\"10\" style=\"stroke: #F8F8F8; stroke-width: 1.5;\" width=\"50\" x=\"174\" y=\"100\"/><rect fill=\"#F8F8F8\" height=\"10\" style=\"stroke: #F8F8F8; stroke-width: 1.5;\" width=\"50\" x=\"174\" y=\"113.9688\"/><rect fill=\"none\" height=\"40\" id=\"E3\" rx=\"10\" ry=\"10\" style=\"stroke: #383838; stroke-width: 1.5;\" width=\"50\" x=\"174\" y=\"100\"/><text fill=\"#000000\" font-family=\"sans-serif\" font-size=\"12\" lengthAdjust=\"spacingAndGlyphs\" textLength=\"8\" x=\"195\" y=\"116.1387\">a</text></a></g><g id=\"E1.E4.E5\"><a href=\"psysml:7432dd52-7523-413e-a125-d9cab4f86aea\" target=\"_top\" title=\"psysml:7432dd52-7523-413e-a125-d9cab4f86aea\" xlink:actuate=\"onRequest\" xlink:href=\"psysml:7432dd52-7523-413e-a125-d9cab4f86aea\" xlink:show=\"new\" xlink:title=\"psysml:7432dd52-7523-413e-a125-d9cab4f86aea\" xlink:type=\"simple\"><rect fill=\"#FFFFFF\" height=\"40\" id=\"E5\" rx=\"10\" ry=\"10\" style=\"stroke: #383838; stroke-width: 1.5;\" width=\"61\" x=\"56.5\" y=\"100\"/><rect fill=\"#F8F8F8\" height=\"23.9688\" rx=\"10\" ry=\"10\" style=\"stroke: #F8F8F8; stroke-width: 1.5;\" width=\"61\" x=\"56.5\" y=\"100\"/><rect fill=\"#F8F8F8\" height=\"10\" style=\"stroke: #F8F8F8; stroke-width: 1.5;\" width=\"61\" x=\"56.5\" y=\"113.9688\"/><rect fill=\"none\" height=\"40\" id=\"E5\" rx=\"10\" ry=\"10\" style=\"stroke: #383838; stroke-width: 1.5;\" width=\"61\" x=\"56.5\" y=\"100\"/><text fill=\"#000000\" font-family=\"sans-serif\" font-size=\"12\" lengthAdjust=\"spacingAndGlyphs\" textLength=\"46\" x=\"62\" y=\"116.1387\">g=./f/a;</text></a></g><!--MD5=[3e9c8771299058617ca1f5efec784ffc]\n",
       "@startuml\r\n",
       "skinparam ranksep 10\r\n",
       "skinparam rectangle {\r\n",
       " backgroundColor<<block>> LightGreen\r\n",
       "}\r\n",
       "skinparam linetype ortho\r\n",
       "skinparam monochrome true\r\n",
       "skinparam classbackgroundcolor white\r\n",
       "skinparam shadowing false\r\n",
       "skinparam wrapWidth 300\r\n",
       "hide circle\r\n",
       "\r\n",
       "package \"Q\" as E1  [[psysml:de03711e-1ba4-461c-851a-9c9209031323 ]]  {\r\n",
       "rec usage \"f\" as E2  [[psysml:b9260bcb-04ce-4f8f-94f7-4786232d6bfb ]] {\r\n",
       "rec usage \"a\" as E3  [[psysml:76fd413b-d5f3-4ecc-bac0-2db3dc6a9c5a ]] {\r\n",
       "}\r\n",
       "}\r\n",
       "rec def \"C\" as E4  <<(T,blue)part def>> [[psysml:c1aefab3-4a15-416c-b89a-8b36fd883d33 ]] {\r\n",
       "rec usage \"g=./f/a; \" as E5  [[psysml:7432dd52-7523-413e-a125-d9cab4f86aea ]] {\r\n",
       "}\r\n",
       "}\r\n",
       "}\r\n",
       "@enduml\r\n",
       "\n",
       "PlantUML version 1.2020.13(Sat Jun 13 12:26:38 UTC 2020)\n",
       "(EPL source distribution)\n",
       "Java Runtime: OpenJDK Runtime Environment\n",
       "JVM: OpenJDK 64-Bit Server VM\n",
       "Default Encoding: UTF-8\n",
       "Language: en\n",
       "Country: null\n",
       "--></g></svg>"
      ]
     },
     "execution_count": 54,
     "metadata": {},
     "output_type": "execute_result"
    }
   ],
   "source": [
    "%viz --style=\"ORTHOLINE\" --view=\"Interconnection\" \"Q\""
   ]
  },
  {
   "cell_type": "code",
   "execution_count": 55,
   "id": "threaded-gender",
   "metadata": {
    "execution": {
     "iopub.execute_input": "2021-03-26T15:40:57.254946Z",
     "iopub.status.busy": "2021-03-26T15:40:57.254000Z",
     "iopub.status.idle": "2021-03-26T15:40:57.260186Z",
     "shell.execute_reply": "2021-03-26T15:40:57.259629Z"
    }
   },
   "outputs": [
    {
     "data": {
      "image/svg+xml": [
       "<?xml version=\"1.0\" encoding=\"UTF-8\" standalone=\"no\"?><svg xmlns=\"http://www.w3.org/2000/svg\" xmlns:xlink=\"http://www.w3.org/1999/xlink\" contentScriptType=\"application/ecmascript\" contentStyleType=\"text/css\" height=\"12px\" preserveAspectRatio=\"none\" style=\"width:12px;height:12px;\" version=\"1.1\" viewBox=\"0 0 12 12\" width=\"12px\" zoomAndPan=\"magnify\"><defs/><g><!--MD5=[72934c63077099a26744516a776b4749]\n",
       "@startuml\r\n",
       "skinparam ranksep 8\r\n",
       "skinparam linetype ortho\r\n",
       "skinparam monochrome true\r\n",
       "skinparam classbackgroundcolor white\r\n",
       "skinparam shadowing false\r\n",
       "skinparam wrapWidth 300\r\n",
       "hide circle\r\n",
       "\r\n",
       "@enduml\r\n",
       "\n",
       "PlantUML version 1.2020.13(Sat Jun 13 12:26:38 UTC 2020)\n",
       "(EPL source distribution)\n",
       "Java Runtime: OpenJDK Runtime Environment\n",
       "JVM: OpenJDK 64-Bit Server VM\n",
       "Default Encoding: UTF-8\n",
       "Language: en\n",
       "Country: null\n",
       "--></g></svg>"
      ]
     },
     "execution_count": 55,
     "metadata": {},
     "output_type": "execute_result"
    }
   ],
   "source": [
    "%viz --style=\"ORTHOLINE\" --view=\"Action\" \"Q\""
   ]
  },
  {
   "cell_type": "code",
   "execution_count": 56,
   "id": "billion-arkansas",
   "metadata": {
    "execution": {
     "iopub.execute_input": "2021-03-26T15:40:57.312659Z",
     "iopub.status.busy": "2021-03-26T15:40:57.312098Z",
     "iopub.status.idle": "2021-03-26T15:40:57.338021Z",
     "shell.execute_reply": "2021-03-26T15:40:57.336372Z"
    }
   },
   "outputs": [
    {
     "data": {
      "image/svg+xml": [
       "<?xml version=\"1.0\" encoding=\"UTF-8\" standalone=\"no\"?><svg xmlns=\"http://www.w3.org/2000/svg\" xmlns:xlink=\"http://www.w3.org/1999/xlink\" contentScriptType=\"application/ecmascript\" contentStyleType=\"text/css\" height=\"221px\" preserveAspectRatio=\"none\" style=\"width:213px;height:221px;\" version=\"1.1\" viewBox=\"0 0 213 221\" width=\"213px\" zoomAndPan=\"magnify\"><defs/><g><!--MD5=[fbc87193dbaf4d95561dea2c320d4a47]\n",
       "cluster E1--><a href=\"psysml:de03711e-1ba4-461c-851a-9c9209031323\" target=\"_top\" title=\"psysml:de03711e-1ba4-461c-851a-9c9209031323\" xlink:actuate=\"onRequest\" xlink:href=\"psysml:de03711e-1ba4-461c-851a-9c9209031323\" xlink:show=\"new\" xlink:title=\"psysml:de03711e-1ba4-461c-851a-9c9209031323\" xlink:type=\"simple\"><polygon fill=\"#FFFFFF\" points=\"16,6,34,6,41,28.2969,191,28.2969,191,209,16,209,16,6\" style=\"stroke: #000000; stroke-width: 1.5;\"/><line style=\"stroke: #000000; stroke-width: 1.5;\" x1=\"16\" x2=\"41\" y1=\"28.2969\" y2=\"28.2969\"/><text fill=\"#000000\" font-family=\"sans-serif\" font-size=\"14\" font-weight=\"bold\" lengthAdjust=\"spacingAndGlyphs\" textLength=\"12\" x=\"20\" y=\"20.9951\">Q</text></a><!--MD5=[b4997ac47864f28c2f74865a473b2911]\n",
       "class E2--><a href=\"psysml:b9260bcb-04ce-4f8f-94f7-4786232d6bfb\" target=\"_top\" title=\"psysml:b9260bcb-04ce-4f8f-94f7-4786232d6bfb\" xlink:actuate=\"onRequest\" xlink:href=\"psysml:b9260bcb-04ce-4f8f-94f7-4786232d6bfb\" xlink:show=\"new\" xlink:title=\"psysml:b9260bcb-04ce-4f8f-94f7-4786232d6bfb\" xlink:type=\"simple\"><rect fill=\"#FFFFFF\" height=\"45.9375\" id=\"E2\" rx=\"10\" ry=\"10\" style=\"stroke: #383838; stroke-width: 1.5;\" width=\"42\" x=\"133\" y=\"41\"/><text fill=\"#000000\" font-family=\"sans-serif\" font-size=\"12\" font-style=\"italic\" lengthAdjust=\"spacingAndGlyphs\" textLength=\"40\" x=\"134\" y=\"57.1387\">«part»</text><text fill=\"#000000\" font-family=\"sans-serif\" font-size=\"12\" lengthAdjust=\"spacingAndGlyphs\" textLength=\"4\" x=\"152\" y=\"71.1074\">f</text><line style=\"stroke: #383838; stroke-width: 1.5;\" x1=\"134\" x2=\"174\" y1=\"78.9375\" y2=\"78.9375\"/></a><!--MD5=[09b614a08d8cba4a07c9adeb5e0fee81]\n",
       "class E3--><a href=\"psysml:76fd413b-d5f3-4ecc-bac0-2db3dc6a9c5a\" target=\"_top\" title=\"psysml:76fd413b-d5f3-4ecc-bac0-2db3dc6a9c5a\" xlink:actuate=\"onRequest\" xlink:href=\"psysml:76fd413b-d5f3-4ecc-bac0-2db3dc6a9c5a\" xlink:show=\"new\" xlink:title=\"psysml:76fd413b-d5f3-4ecc-bac0-2db3dc6a9c5a\" xlink:type=\"simple\"><rect fill=\"#FFFFFF\" height=\"45.9375\" id=\"E3\" rx=\"10\" ry=\"10\" style=\"stroke: #383838; stroke-width: 1.5;\" width=\"42\" x=\"133\" y=\"147\"/><text fill=\"#000000\" font-family=\"sans-serif\" font-size=\"12\" font-style=\"italic\" lengthAdjust=\"spacingAndGlyphs\" textLength=\"40\" x=\"134\" y=\"163.1387\">«part»</text><text fill=\"#000000\" font-family=\"sans-serif\" font-size=\"12\" lengthAdjust=\"spacingAndGlyphs\" textLength=\"8\" x=\"150\" y=\"177.1074\">a</text><line style=\"stroke: #383838; stroke-width: 1.5;\" x1=\"134\" x2=\"174\" y1=\"184.9375\" y2=\"184.9375\"/></a><!--MD5=[ebbe1d658d1005bcc118a6aa81145e00]\n",
       "class E4--><a href=\"psysml:c1aefab3-4a15-416c-b89a-8b36fd883d33\" target=\"_top\" title=\"psysml:c1aefab3-4a15-416c-b89a-8b36fd883d33\" xlink:actuate=\"onRequest\" xlink:href=\"psysml:c1aefab3-4a15-416c-b89a-8b36fd883d33\" xlink:show=\"new\" xlink:title=\"psysml:c1aefab3-4a15-416c-b89a-8b36fd883d33\" xlink:type=\"simple\"><rect fill=\"#FFFFFF\" height=\"45.9375\" id=\"E4\" style=\"stroke: #383838; stroke-width: 1.5;\" width=\"66\" x=\"32\" y=\"41\"/><text fill=\"#000000\" font-family=\"sans-serif\" font-size=\"12\" font-style=\"italic\" lengthAdjust=\"spacingAndGlyphs\" textLength=\"64\" x=\"33\" y=\"57.1387\">«part def»</text><text fill=\"#000000\" font-family=\"sans-serif\" font-size=\"12\" lengthAdjust=\"spacingAndGlyphs\" textLength=\"8\" x=\"61\" y=\"71.1074\">C</text><line style=\"stroke: #383838; stroke-width: 1.5;\" x1=\"33\" x2=\"97\" y1=\"78.9375\" y2=\"78.9375\"/></a><!--MD5=[270fce915f116d4de14055a7c1d9a0f3]\n",
       "class E5--><a href=\"psysml:7432dd52-7523-413e-a125-d9cab4f86aea\" target=\"_top\" title=\"psysml:7432dd52-7523-413e-a125-d9cab4f86aea\" xlink:actuate=\"onRequest\" xlink:href=\"psysml:7432dd52-7523-413e-a125-d9cab4f86aea\" xlink:show=\"new\" xlink:title=\"psysml:7432dd52-7523-413e-a125-d9cab4f86aea\" xlink:type=\"simple\"><rect fill=\"#FFFFFF\" height=\"45.9375\" id=\"E5\" rx=\"10\" ry=\"10\" style=\"stroke: #383838; stroke-width: 1.5;\" width=\"42\" x=\"44\" y=\"147\"/><text fill=\"#000000\" font-family=\"sans-serif\" font-size=\"12\" font-style=\"italic\" lengthAdjust=\"spacingAndGlyphs\" textLength=\"40\" x=\"45\" y=\"163.1387\">«part»</text><text fill=\"#000000\" font-family=\"sans-serif\" font-size=\"12\" lengthAdjust=\"spacingAndGlyphs\" textLength=\"8\" x=\"61\" y=\"177.1074\">g</text><line style=\"stroke: #383838; stroke-width: 1.5;\" x1=\"45\" x2=\"85\" y1=\"184.9375\" y2=\"184.9375\"/></a><!--MD5=[209b3feb70ccb6233bfe1053d122c12c]\n",
       "reverse link E2 to E3--><a href=\"psysml:76fd413b-d5f3-4ecc-bac0-2db3dc6a9c5a\" target=\"_top\" title=\"psysml:76fd413b-d5f3-4ecc-bac0-2db3dc6a9c5a\" xlink:actuate=\"onRequest\" xlink:href=\"psysml:76fd413b-d5f3-4ecc-bac0-2db3dc6a9c5a\" xlink:show=\"new\" xlink:title=\"psysml:76fd413b-d5f3-4ecc-bac0-2db3dc6a9c5a\" xlink:type=\"simple\"><path d=\"M154,100 C154,100 154,146.68 154,146.68 \" fill=\"none\" id=\"E2&lt;-E3\" style=\"stroke: #383838; stroke-width: 1.0;\"/><polygon fill=\"#383838\" points=\"154,87,150,93,154,99,158,93,154,87\" style=\"stroke: #383838; stroke-width: 1.0;\"/></a><!--MD5=[62aa6af11e70f752912c1cb0466f24f7]\n",
       "reverse link E4 to E5--><a href=\"psysml:7432dd52-7523-413e-a125-d9cab4f86aea\" target=\"_top\" title=\"psysml:7432dd52-7523-413e-a125-d9cab4f86aea\" xlink:actuate=\"onRequest\" xlink:href=\"psysml:7432dd52-7523-413e-a125-d9cab4f86aea\" xlink:show=\"new\" xlink:title=\"psysml:7432dd52-7523-413e-a125-d9cab4f86aea\" xlink:type=\"simple\"><path d=\"M65,100 C65,100 65,146.68 65,146.68 \" fill=\"none\" id=\"E4&lt;-E5\" style=\"stroke: #383838; stroke-width: 1.0;\"/><polygon fill=\"#383838\" points=\"65,87,61,93,65,99,69,93,65,87\" style=\"stroke: #383838; stroke-width: 1.0;\"/></a><!--MD5=[5218480ed02e7bae3ea8ed7c246d4a20]\n",
       "@startuml\r\n",
       "skinparam linetype ortho\r\n",
       "skinparam monochrome true\r\n",
       "skinparam classbackgroundcolor white\r\n",
       "skinparam shadowing false\r\n",
       "skinparam wrapWidth 300\r\n",
       "hide circle\r\n",
       "\r\n",
       "package \"Q\" as E1  [[psysml:de03711e-1ba4-461c-851a-9c9209031323 ]]  {\r\n",
       "comp usage \"f\" as E2  <<(T,blue)part>> [[psysml:b9260bcb-04ce-4f8f-94f7-4786232d6bfb ]] {\r\n",
       "}\r\n",
       "comp usage \"a\" as E3  <<(T,blue)part>> [[psysml:76fd413b-d5f3-4ecc-bac0-2db3dc6a9c5a ]] {\r\n",
       "}\r\n",
       "comp def \"C\" as E4  <<(T,blue)part def>> [[psysml:c1aefab3-4a15-416c-b89a-8b36fd883d33 ]] {\r\n",
       "}\r\n",
       "comp usage \"g\" as E5  <<(T,blue)part>> [[psysml:7432dd52-7523-413e-a125-d9cab4f86aea ]] {\r\n",
       "}\r\n",
       "E2 *- - E3 [[psysml:76fd413b-d5f3-4ecc-bac0-2db3dc6a9c5a ]] \r\n",
       "E4 *- - E5 [[psysml:7432dd52-7523-413e-a125-d9cab4f86aea ]] \r\n",
       "}\r\n",
       "@enduml\r\n",
       "\n",
       "PlantUML version 1.2020.13(Sat Jun 13 12:26:38 UTC 2020)\n",
       "(EPL source distribution)\n",
       "Java Runtime: OpenJDK Runtime Environment\n",
       "JVM: OpenJDK 64-Bit Server VM\n",
       "Default Encoding: UTF-8\n",
       "Language: en\n",
       "Country: null\n",
       "--></g></svg>"
      ]
     },
     "execution_count": 56,
     "metadata": {},
     "output_type": "execute_result"
    }
   ],
   "source": [
    "%viz --style=\"ORTHOLINE\" --view=\"Sequence\" \"Q\""
   ]
  },
  {
   "cell_type": "code",
   "execution_count": 57,
   "id": "silver-company",
   "metadata": {
    "execution": {
     "iopub.execute_input": "2021-03-26T15:40:57.390348Z",
     "iopub.status.busy": "2021-03-26T15:40:57.389309Z",
     "iopub.status.idle": "2021-03-26T15:40:57.415944Z",
     "shell.execute_reply": "2021-03-26T15:40:57.414432Z"
    }
   },
   "outputs": [
    {
     "data": {
      "image/svg+xml": [
       "<?xml version=\"1.0\" encoding=\"UTF-8\" standalone=\"no\"?><svg xmlns=\"http://www.w3.org/2000/svg\" xmlns:xlink=\"http://www.w3.org/1999/xlink\" contentScriptType=\"application/ecmascript\" contentStyleType=\"text/css\" height=\"221px\" preserveAspectRatio=\"none\" style=\"width:213px;height:221px;\" version=\"1.1\" viewBox=\"0 0 213 221\" width=\"213px\" zoomAndPan=\"magnify\"><defs/><g><!--MD5=[fbc87193dbaf4d95561dea2c320d4a47]\n",
       "cluster E1--><a href=\"psysml:de03711e-1ba4-461c-851a-9c9209031323\" target=\"_top\" title=\"psysml:de03711e-1ba4-461c-851a-9c9209031323\" xlink:actuate=\"onRequest\" xlink:href=\"psysml:de03711e-1ba4-461c-851a-9c9209031323\" xlink:show=\"new\" xlink:title=\"psysml:de03711e-1ba4-461c-851a-9c9209031323\" xlink:type=\"simple\"><polygon fill=\"#FFFFFF\" points=\"16,6,34,6,41,28.2969,191,28.2969,191,209,16,209,16,6\" style=\"stroke: #000000; stroke-width: 1.5;\"/><line style=\"stroke: #000000; stroke-width: 1.5;\" x1=\"16\" x2=\"41\" y1=\"28.2969\" y2=\"28.2969\"/><text fill=\"#000000\" font-family=\"sans-serif\" font-size=\"14\" font-weight=\"bold\" lengthAdjust=\"spacingAndGlyphs\" textLength=\"12\" x=\"20\" y=\"20.9951\">Q</text></a><!--MD5=[b4997ac47864f28c2f74865a473b2911]\n",
       "class E2--><a href=\"psysml:b9260bcb-04ce-4f8f-94f7-4786232d6bfb\" target=\"_top\" title=\"psysml:b9260bcb-04ce-4f8f-94f7-4786232d6bfb\" xlink:actuate=\"onRequest\" xlink:href=\"psysml:b9260bcb-04ce-4f8f-94f7-4786232d6bfb\" xlink:show=\"new\" xlink:title=\"psysml:b9260bcb-04ce-4f8f-94f7-4786232d6bfb\" xlink:type=\"simple\"><rect fill=\"#FFFFFF\" height=\"45.9375\" id=\"E2\" rx=\"10\" ry=\"10\" style=\"stroke: #383838; stroke-width: 1.5;\" width=\"42\" x=\"133\" y=\"41\"/><text fill=\"#000000\" font-family=\"sans-serif\" font-size=\"12\" font-style=\"italic\" lengthAdjust=\"spacingAndGlyphs\" textLength=\"40\" x=\"134\" y=\"57.1387\">«part»</text><text fill=\"#000000\" font-family=\"sans-serif\" font-size=\"12\" lengthAdjust=\"spacingAndGlyphs\" textLength=\"4\" x=\"152\" y=\"71.1074\">f</text><line style=\"stroke: #383838; stroke-width: 1.5;\" x1=\"134\" x2=\"174\" y1=\"78.9375\" y2=\"78.9375\"/></a><!--MD5=[09b614a08d8cba4a07c9adeb5e0fee81]\n",
       "class E3--><a href=\"psysml:76fd413b-d5f3-4ecc-bac0-2db3dc6a9c5a\" target=\"_top\" title=\"psysml:76fd413b-d5f3-4ecc-bac0-2db3dc6a9c5a\" xlink:actuate=\"onRequest\" xlink:href=\"psysml:76fd413b-d5f3-4ecc-bac0-2db3dc6a9c5a\" xlink:show=\"new\" xlink:title=\"psysml:76fd413b-d5f3-4ecc-bac0-2db3dc6a9c5a\" xlink:type=\"simple\"><rect fill=\"#FFFFFF\" height=\"45.9375\" id=\"E3\" rx=\"10\" ry=\"10\" style=\"stroke: #383838; stroke-width: 1.5;\" width=\"42\" x=\"133\" y=\"147\"/><text fill=\"#000000\" font-family=\"sans-serif\" font-size=\"12\" font-style=\"italic\" lengthAdjust=\"spacingAndGlyphs\" textLength=\"40\" x=\"134\" y=\"163.1387\">«part»</text><text fill=\"#000000\" font-family=\"sans-serif\" font-size=\"12\" lengthAdjust=\"spacingAndGlyphs\" textLength=\"8\" x=\"150\" y=\"177.1074\">a</text><line style=\"stroke: #383838; stroke-width: 1.5;\" x1=\"134\" x2=\"174\" y1=\"184.9375\" y2=\"184.9375\"/></a><!--MD5=[ebbe1d658d1005bcc118a6aa81145e00]\n",
       "class E4--><a href=\"psysml:c1aefab3-4a15-416c-b89a-8b36fd883d33\" target=\"_top\" title=\"psysml:c1aefab3-4a15-416c-b89a-8b36fd883d33\" xlink:actuate=\"onRequest\" xlink:href=\"psysml:c1aefab3-4a15-416c-b89a-8b36fd883d33\" xlink:show=\"new\" xlink:title=\"psysml:c1aefab3-4a15-416c-b89a-8b36fd883d33\" xlink:type=\"simple\"><rect fill=\"#FFFFFF\" height=\"45.9375\" id=\"E4\" style=\"stroke: #383838; stroke-width: 1.5;\" width=\"66\" x=\"32\" y=\"41\"/><text fill=\"#000000\" font-family=\"sans-serif\" font-size=\"12\" font-style=\"italic\" lengthAdjust=\"spacingAndGlyphs\" textLength=\"64\" x=\"33\" y=\"57.1387\">«part def»</text><text fill=\"#000000\" font-family=\"sans-serif\" font-size=\"12\" lengthAdjust=\"spacingAndGlyphs\" textLength=\"8\" x=\"61\" y=\"71.1074\">C</text><line style=\"stroke: #383838; stroke-width: 1.5;\" x1=\"33\" x2=\"97\" y1=\"78.9375\" y2=\"78.9375\"/></a><!--MD5=[270fce915f116d4de14055a7c1d9a0f3]\n",
       "class E5--><a href=\"psysml:7432dd52-7523-413e-a125-d9cab4f86aea\" target=\"_top\" title=\"psysml:7432dd52-7523-413e-a125-d9cab4f86aea\" xlink:actuate=\"onRequest\" xlink:href=\"psysml:7432dd52-7523-413e-a125-d9cab4f86aea\" xlink:show=\"new\" xlink:title=\"psysml:7432dd52-7523-413e-a125-d9cab4f86aea\" xlink:type=\"simple\"><rect fill=\"#FFFFFF\" height=\"45.9375\" id=\"E5\" rx=\"10\" ry=\"10\" style=\"stroke: #383838; stroke-width: 1.5;\" width=\"42\" x=\"44\" y=\"147\"/><text fill=\"#000000\" font-family=\"sans-serif\" font-size=\"12\" font-style=\"italic\" lengthAdjust=\"spacingAndGlyphs\" textLength=\"40\" x=\"45\" y=\"163.1387\">«part»</text><text fill=\"#000000\" font-family=\"sans-serif\" font-size=\"12\" lengthAdjust=\"spacingAndGlyphs\" textLength=\"8\" x=\"61\" y=\"177.1074\">g</text><line style=\"stroke: #383838; stroke-width: 1.5;\" x1=\"45\" x2=\"85\" y1=\"184.9375\" y2=\"184.9375\"/></a><!--MD5=[209b3feb70ccb6233bfe1053d122c12c]\n",
       "reverse link E2 to E3--><a href=\"psysml:76fd413b-d5f3-4ecc-bac0-2db3dc6a9c5a\" target=\"_top\" title=\"psysml:76fd413b-d5f3-4ecc-bac0-2db3dc6a9c5a\" xlink:actuate=\"onRequest\" xlink:href=\"psysml:76fd413b-d5f3-4ecc-bac0-2db3dc6a9c5a\" xlink:show=\"new\" xlink:title=\"psysml:76fd413b-d5f3-4ecc-bac0-2db3dc6a9c5a\" xlink:type=\"simple\"><path d=\"M154,100 C154,100 154,146.68 154,146.68 \" fill=\"none\" id=\"E2&lt;-E3\" style=\"stroke: #383838; stroke-width: 1.0;\"/><polygon fill=\"#383838\" points=\"154,87,150,93,154,99,158,93,154,87\" style=\"stroke: #383838; stroke-width: 1.0;\"/></a><!--MD5=[62aa6af11e70f752912c1cb0466f24f7]\n",
       "reverse link E4 to E5--><a href=\"psysml:7432dd52-7523-413e-a125-d9cab4f86aea\" target=\"_top\" title=\"psysml:7432dd52-7523-413e-a125-d9cab4f86aea\" xlink:actuate=\"onRequest\" xlink:href=\"psysml:7432dd52-7523-413e-a125-d9cab4f86aea\" xlink:show=\"new\" xlink:title=\"psysml:7432dd52-7523-413e-a125-d9cab4f86aea\" xlink:type=\"simple\"><path d=\"M65,100 C65,100 65,146.68 65,146.68 \" fill=\"none\" id=\"E4&lt;-E5\" style=\"stroke: #383838; stroke-width: 1.0;\"/><polygon fill=\"#383838\" points=\"65,87,61,93,65,99,69,93,65,87\" style=\"stroke: #383838; stroke-width: 1.0;\"/></a><!--MD5=[5218480ed02e7bae3ea8ed7c246d4a20]\n",
       "@startuml\r\n",
       "skinparam linetype ortho\r\n",
       "skinparam monochrome true\r\n",
       "skinparam classbackgroundcolor white\r\n",
       "skinparam shadowing false\r\n",
       "skinparam wrapWidth 300\r\n",
       "hide circle\r\n",
       "\r\n",
       "package \"Q\" as E1  [[psysml:de03711e-1ba4-461c-851a-9c9209031323 ]]  {\r\n",
       "comp usage \"f\" as E2  <<(T,blue)part>> [[psysml:b9260bcb-04ce-4f8f-94f7-4786232d6bfb ]] {\r\n",
       "}\r\n",
       "comp usage \"a\" as E3  <<(T,blue)part>> [[psysml:76fd413b-d5f3-4ecc-bac0-2db3dc6a9c5a ]] {\r\n",
       "}\r\n",
       "comp def \"C\" as E4  <<(T,blue)part def>> [[psysml:c1aefab3-4a15-416c-b89a-8b36fd883d33 ]] {\r\n",
       "}\r\n",
       "comp usage \"g\" as E5  <<(T,blue)part>> [[psysml:7432dd52-7523-413e-a125-d9cab4f86aea ]] {\r\n",
       "}\r\n",
       "E2 *- - E3 [[psysml:76fd413b-d5f3-4ecc-bac0-2db3dc6a9c5a ]] \r\n",
       "E4 *- - E5 [[psysml:7432dd52-7523-413e-a125-d9cab4f86aea ]] \r\n",
       "}\r\n",
       "@enduml\r\n",
       "\n",
       "PlantUML version 1.2020.13(Sat Jun 13 12:26:38 UTC 2020)\n",
       "(EPL source distribution)\n",
       "Java Runtime: OpenJDK Runtime Environment\n",
       "JVM: OpenJDK 64-Bit Server VM\n",
       "Default Encoding: UTF-8\n",
       "Language: en\n",
       "Country: null\n",
       "--></g></svg>"
      ]
     },
     "execution_count": 57,
     "metadata": {},
     "output_type": "execute_result"
    }
   ],
   "source": [
    "%viz --style=\"ORTHOLINE\" --view=\"MIXED\" \"Q\""
   ]
  }
 ],
 "metadata": {
  "kernelspec": {
   "display_name": "SysML",
   "language": "sysml",
   "name": "sysml"
  },
  "language_info": {
   "codemirror_mode": "sysml",
   "file_extension": ".sysml",
   "mimetype": "text/x-sysml",
   "name": "SysML",
   "pygments_lexer": "java",
   "version": "1.0.0"
  }
 },
 "nbformat": 4,
 "nbformat_minor": 5
}
