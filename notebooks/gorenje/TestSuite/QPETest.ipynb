{
 "cells": [
  {
   "cell_type": "markdown",
   "id": "beautiful-lingerie",
   "metadata": {},
   "source": [
    "# SysML v2 Test Suite\n",
    "\n",
    "This can notebook can be cleared using menu `Edit --> Clear All Outputs` and then all cells can be\n",
    "run using menu `Run --> Run All Cells`.\n",
    "\n",
    "**WARNING**: This file is generated, all modifications here will be ignored.\n"
   ]
  },
  {
   "cell_type": "markdown",
   "id": "isolated-cherry",
   "metadata": {},
   "source": [
    "## File: ../../sysml/src/examples/Simple Tests/QPETest.sysml"
   ]
  },
  {
   "cell_type": "code",
   "execution_count": 1,
   "id": "modern-retrieval",
   "metadata": {
    "execution": {
     "iopub.execute_input": "2021-03-25T15:59:32.588995Z",
     "iopub.status.busy": "2021-03-25T15:59:32.586245Z",
     "iopub.status.idle": "2021-03-25T15:59:33.238601Z",
     "shell.execute_reply": "2021-03-25T15:59:33.236664Z"
    }
   },
   "outputs": [
    {
     "data": {
      "text/plain": [
       "Package Q (562e5c73-e6f1-4fe6-a7f8-917d73410a41)\n"
      ]
     },
     "execution_count": 1,
     "metadata": {},
     "output_type": "execute_result"
    }
   ],
   "source": [
    "package Q {\n",
    "  part f {\n",
    "  \tpart a;\n",
    "  }\n",
    "  part def C {\n",
    "    part g = ./f/a; \n",
    "  }\n",
    "}\n"
   ]
  },
  {
   "cell_type": "code",
   "execution_count": 2,
   "id": "naval-modeling",
   "metadata": {
    "execution": {
     "iopub.execute_input": "2021-03-25T15:59:33.289496Z",
     "iopub.status.busy": "2021-03-25T15:59:33.287885Z",
     "iopub.status.idle": "2021-03-25T15:59:33.306520Z",
     "shell.execute_reply": "2021-03-25T15:59:33.306062Z"
    }
   },
   "outputs": [
    {
     "data": {
      "text/plain": [
       "java.lang.IllegalArgumentException: Invalid Style: COMPTREE Possible styles: POLYLINE, LR, STDCOLOR, PLANTUML, DEFAULT, TB, ORTHOLINE\n",
       "\tat org.omg.sysml.plantuml.SysML2PlantUMLStyle.get(SysML2PlantUMLStyle.java:258)\n",
       "\tat org.omg.sysml.plantuml.SysML2PlantUMLSvc.applyStyle(SysML2PlantUMLSvc.java:73)\n",
       "\tat org.omg.sysml.plantuml.SysML2PlantUMLSvc.getPlantUMLCode(SysML2PlantUMLSvc.java:88)\n",
       "\tat org.omg.sysml.plantuml.SysML2PlantUMLSvc.getSVG(SysML2PlantUMLSvc.java:99)\n",
       "\tat org.omg.sysml.interactive.SysMLInteractive.viz(SysMLInteractive.java:294)\n",
       "\tat org.omg.sysml.jupyter.kernel.magic.Viz.viz(Viz.java:47)\n",
       "\tat java.base/jdk.internal.reflect.NativeMethodAccessorImpl.invoke0(Native Method)\n",
       "\tat java.base/jdk.internal.reflect.NativeMethodAccessorImpl.invoke(NativeMethodAccessorImpl.java:78)\n",
       "\tat java.base/jdk.internal.reflect.DelegatingMethodAccessorImpl.invoke(DelegatingMethodAccessorImpl.java:43)\n",
       "\tat java.base/java.lang.reflect.Method.invoke(Method.java:568)\n",
       "\tat io.github.spencerpark.jupyter.kernel.magic.registry.Magics.invoke(Magics.java:89)\n",
       "\tat io.github.spencerpark.jupyter.kernel.magic.registry.Magics.access$000(Magics.java:8)\n",
       "\tat io.github.spencerpark.jupyter.kernel.magic.registry.Magics$LineReflectionMagicFunction.execute(Magics.java:149)\n",
       "\tat io.github.spencerpark.jupyter.kernel.magic.registry.Magics.applyLineMagic(Magics.java:26)\n",
       "\tat org.omg.sysml.jupyter.kernel.SysMLKernel.eval(SysMLKernel.java:76)\n",
       "\tat io.github.spencerpark.jupyter.kernel.BaseKernel.handleExecuteRequest(BaseKernel.java:334)\n",
       "\tat io.github.spencerpark.jupyter.channels.ShellChannel.lambda$bind$0(ShellChannel.java:64)\n",
       "\tat io.github.spencerpark.jupyter.channels.Loop.lambda$new$0(Loop.java:21)\n",
       "\tat io.github.spencerpark.jupyter.channels.Loop.run(Loop.java:78)\n"
      ]
     },
     "execution_count": 2,
     "metadata": {},
     "output_type": "execute_result"
    }
   ],
   "source": [
    "%viz --style=\"COMPTREE\" --view=\"Default\" \"Q\""
   ]
  },
  {
   "cell_type": "code",
   "execution_count": 3,
   "id": "nervous-attachment",
   "metadata": {
    "execution": {
     "iopub.execute_input": "2021-03-25T15:59:33.358188Z",
     "iopub.status.busy": "2021-03-25T15:59:33.357527Z",
     "iopub.status.idle": "2021-03-25T15:59:33.361425Z",
     "shell.execute_reply": "2021-03-25T15:59:33.361013Z"
    }
   },
   "outputs": [
    {
     "data": {
      "text/plain": [
       "java.lang.IllegalArgumentException: Invalid Style: COMPTREE Possible styles: POLYLINE, LR, STDCOLOR, PLANTUML, DEFAULT, TB, ORTHOLINE\n",
       "\tat org.omg.sysml.plantuml.SysML2PlantUMLStyle.get(SysML2PlantUMLStyle.java:258)\n",
       "\tat org.omg.sysml.plantuml.SysML2PlantUMLSvc.applyStyle(SysML2PlantUMLSvc.java:73)\n",
       "\tat org.omg.sysml.plantuml.SysML2PlantUMLSvc.getPlantUMLCode(SysML2PlantUMLSvc.java:88)\n",
       "\tat org.omg.sysml.plantuml.SysML2PlantUMLSvc.getSVG(SysML2PlantUMLSvc.java:99)\n",
       "\tat org.omg.sysml.interactive.SysMLInteractive.viz(SysMLInteractive.java:294)\n",
       "\tat org.omg.sysml.jupyter.kernel.magic.Viz.viz(Viz.java:47)\n",
       "\tat java.base/jdk.internal.reflect.NativeMethodAccessorImpl.invoke0(Native Method)\n",
       "\tat java.base/jdk.internal.reflect.NativeMethodAccessorImpl.invoke(NativeMethodAccessorImpl.java:78)\n",
       "\tat java.base/jdk.internal.reflect.DelegatingMethodAccessorImpl.invoke(DelegatingMethodAccessorImpl.java:43)\n",
       "\tat java.base/java.lang.reflect.Method.invoke(Method.java:568)\n",
       "\tat io.github.spencerpark.jupyter.kernel.magic.registry.Magics.invoke(Magics.java:89)\n",
       "\tat io.github.spencerpark.jupyter.kernel.magic.registry.Magics.access$000(Magics.java:8)\n",
       "\tat io.github.spencerpark.jupyter.kernel.magic.registry.Magics$LineReflectionMagicFunction.execute(Magics.java:149)\n",
       "\tat io.github.spencerpark.jupyter.kernel.magic.registry.Magics.applyLineMagic(Magics.java:26)\n",
       "\tat org.omg.sysml.jupyter.kernel.SysMLKernel.eval(SysMLKernel.java:76)\n",
       "\tat io.github.spencerpark.jupyter.kernel.BaseKernel.handleExecuteRequest(BaseKernel.java:334)\n",
       "\tat io.github.spencerpark.jupyter.channels.ShellChannel.lambda$bind$0(ShellChannel.java:64)\n",
       "\tat io.github.spencerpark.jupyter.channels.Loop.lambda$new$0(Loop.java:21)\n",
       "\tat io.github.spencerpark.jupyter.channels.Loop.run(Loop.java:78)\n"
      ]
     },
     "execution_count": 3,
     "metadata": {},
     "output_type": "execute_result"
    }
   ],
   "source": [
    "%viz --style=\"COMPTREE\" --view=\"Tree\" \"Q\""
   ]
  },
  {
   "cell_type": "code",
   "execution_count": 4,
   "id": "continuous-stream",
   "metadata": {
    "execution": {
     "iopub.execute_input": "2021-03-25T15:59:33.418601Z",
     "iopub.status.busy": "2021-03-25T15:59:33.417506Z",
     "iopub.status.idle": "2021-03-25T15:59:33.420036Z",
     "shell.execute_reply": "2021-03-25T15:59:33.418043Z"
    }
   },
   "outputs": [
    {
     "data": {
      "text/plain": [
       "java.lang.IllegalArgumentException: Invalid View: State View candidates are: Default Tree StateMachine Interconnection Activity Sequence MIXED \n",
       "\tat org.omg.sysml.plantuml.SysML2PlantUMLSvc.setView(SysML2PlantUMLSvc.java:63)\n",
       "\tat org.omg.sysml.interactive.SysMLInteractive.viz(SysMLInteractive.java:286)\n",
       "\tat org.omg.sysml.jupyter.kernel.magic.Viz.viz(Viz.java:47)\n",
       "\tat java.base/jdk.internal.reflect.NativeMethodAccessorImpl.invoke0(Native Method)\n",
       "\tat java.base/jdk.internal.reflect.NativeMethodAccessorImpl.invoke(NativeMethodAccessorImpl.java:78)\n",
       "\tat java.base/jdk.internal.reflect.DelegatingMethodAccessorImpl.invoke(DelegatingMethodAccessorImpl.java:43)\n",
       "\tat java.base/java.lang.reflect.Method.invoke(Method.java:568)\n",
       "\tat io.github.spencerpark.jupyter.kernel.magic.registry.Magics.invoke(Magics.java:89)\n",
       "\tat io.github.spencerpark.jupyter.kernel.magic.registry.Magics.access$000(Magics.java:8)\n",
       "\tat io.github.spencerpark.jupyter.kernel.magic.registry.Magics$LineReflectionMagicFunction.execute(Magics.java:149)\n",
       "\tat io.github.spencerpark.jupyter.kernel.magic.registry.Magics.applyLineMagic(Magics.java:26)\n",
       "\tat org.omg.sysml.jupyter.kernel.SysMLKernel.eval(SysMLKernel.java:76)\n",
       "\tat io.github.spencerpark.jupyter.kernel.BaseKernel.handleExecuteRequest(BaseKernel.java:334)\n",
       "\tat io.github.spencerpark.jupyter.channels.ShellChannel.lambda$bind$0(ShellChannel.java:64)\n",
       "\tat io.github.spencerpark.jupyter.channels.Loop.lambda$new$0(Loop.java:21)\n",
       "\tat io.github.spencerpark.jupyter.channels.Loop.run(Loop.java:78)\n"
      ]
     },
     "execution_count": 4,
     "metadata": {},
     "output_type": "execute_result"
    }
   ],
   "source": [
    "%viz --style=\"COMPTREE\" --view=\"State\" \"Q\""
   ]
  },
  {
   "cell_type": "code",
   "execution_count": 5,
   "id": "aware-supplier",
   "metadata": {
    "execution": {
     "iopub.execute_input": "2021-03-25T15:59:33.472411Z",
     "iopub.status.busy": "2021-03-25T15:59:33.469084Z",
     "iopub.status.idle": "2021-03-25T15:59:33.474849Z",
     "shell.execute_reply": "2021-03-25T15:59:33.475532Z"
    }
   },
   "outputs": [
    {
     "data": {
      "text/plain": [
       "java.lang.IllegalArgumentException: Invalid Style: COMPTREE Possible styles: POLYLINE, LR, STDCOLOR, PLANTUML, DEFAULT, TB, ORTHOLINE\n",
       "\tat org.omg.sysml.plantuml.SysML2PlantUMLStyle.get(SysML2PlantUMLStyle.java:258)\n",
       "\tat org.omg.sysml.plantuml.SysML2PlantUMLSvc.applyStyle(SysML2PlantUMLSvc.java:73)\n",
       "\tat org.omg.sysml.plantuml.SysML2PlantUMLSvc.getPlantUMLCode(SysML2PlantUMLSvc.java:88)\n",
       "\tat org.omg.sysml.plantuml.SysML2PlantUMLSvc.getSVG(SysML2PlantUMLSvc.java:99)\n",
       "\tat org.omg.sysml.interactive.SysMLInteractive.viz(SysMLInteractive.java:294)\n",
       "\tat org.omg.sysml.jupyter.kernel.magic.Viz.viz(Viz.java:47)\n",
       "\tat java.base/jdk.internal.reflect.NativeMethodAccessorImpl.invoke0(Native Method)\n",
       "\tat java.base/jdk.internal.reflect.NativeMethodAccessorImpl.invoke(NativeMethodAccessorImpl.java:78)\n",
       "\tat java.base/jdk.internal.reflect.DelegatingMethodAccessorImpl.invoke(DelegatingMethodAccessorImpl.java:43)\n",
       "\tat java.base/java.lang.reflect.Method.invoke(Method.java:568)\n",
       "\tat io.github.spencerpark.jupyter.kernel.magic.registry.Magics.invoke(Magics.java:89)\n",
       "\tat io.github.spencerpark.jupyter.kernel.magic.registry.Magics.access$000(Magics.java:8)\n",
       "\tat io.github.spencerpark.jupyter.kernel.magic.registry.Magics$LineReflectionMagicFunction.execute(Magics.java:149)\n",
       "\tat io.github.spencerpark.jupyter.kernel.magic.registry.Magics.applyLineMagic(Magics.java:26)\n",
       "\tat org.omg.sysml.jupyter.kernel.SysMLKernel.eval(SysMLKernel.java:76)\n",
       "\tat io.github.spencerpark.jupyter.kernel.BaseKernel.handleExecuteRequest(BaseKernel.java:334)\n",
       "\tat io.github.spencerpark.jupyter.channels.ShellChannel.lambda$bind$0(ShellChannel.java:64)\n",
       "\tat io.github.spencerpark.jupyter.channels.Loop.lambda$new$0(Loop.java:21)\n",
       "\tat io.github.spencerpark.jupyter.channels.Loop.run(Loop.java:78)\n"
      ]
     },
     "execution_count": 5,
     "metadata": {},
     "output_type": "execute_result"
    }
   ],
   "source": [
    "%viz --style=\"COMPTREE\" --view=\"Interconnection\" \"Q\""
   ]
  },
  {
   "cell_type": "code",
   "execution_count": 6,
   "id": "threatened-allen",
   "metadata": {
    "execution": {
     "iopub.execute_input": "2021-03-25T15:59:33.526346Z",
     "iopub.status.busy": "2021-03-25T15:59:33.525483Z",
     "iopub.status.idle": "2021-03-25T15:59:33.532493Z",
     "shell.execute_reply": "2021-03-25T15:59:33.531905Z"
    }
   },
   "outputs": [
    {
     "data": {
      "text/plain": [
       "java.lang.IllegalArgumentException: Invalid View: Action View candidates are: Default Tree StateMachine Interconnection Activity Sequence MIXED \n",
       "\tat org.omg.sysml.plantuml.SysML2PlantUMLSvc.setView(SysML2PlantUMLSvc.java:63)\n",
       "\tat org.omg.sysml.interactive.SysMLInteractive.viz(SysMLInteractive.java:286)\n",
       "\tat org.omg.sysml.jupyter.kernel.magic.Viz.viz(Viz.java:47)\n",
       "\tat java.base/jdk.internal.reflect.NativeMethodAccessorImpl.invoke0(Native Method)\n",
       "\tat java.base/jdk.internal.reflect.NativeMethodAccessorImpl.invoke(NativeMethodAccessorImpl.java:78)\n",
       "\tat java.base/jdk.internal.reflect.DelegatingMethodAccessorImpl.invoke(DelegatingMethodAccessorImpl.java:43)\n",
       "\tat java.base/java.lang.reflect.Method.invoke(Method.java:568)\n",
       "\tat io.github.spencerpark.jupyter.kernel.magic.registry.Magics.invoke(Magics.java:89)\n",
       "\tat io.github.spencerpark.jupyter.kernel.magic.registry.Magics.access$000(Magics.java:8)\n",
       "\tat io.github.spencerpark.jupyter.kernel.magic.registry.Magics$LineReflectionMagicFunction.execute(Magics.java:149)\n",
       "\tat io.github.spencerpark.jupyter.kernel.magic.registry.Magics.applyLineMagic(Magics.java:26)\n",
       "\tat org.omg.sysml.jupyter.kernel.SysMLKernel.eval(SysMLKernel.java:76)\n",
       "\tat io.github.spencerpark.jupyter.kernel.BaseKernel.handleExecuteRequest(BaseKernel.java:334)\n",
       "\tat io.github.spencerpark.jupyter.channels.ShellChannel.lambda$bind$0(ShellChannel.java:64)\n",
       "\tat io.github.spencerpark.jupyter.channels.Loop.lambda$new$0(Loop.java:21)\n",
       "\tat io.github.spencerpark.jupyter.channels.Loop.run(Loop.java:78)\n"
      ]
     },
     "execution_count": 6,
     "metadata": {},
     "output_type": "execute_result"
    }
   ],
   "source": [
    "%viz --style=\"COMPTREE\" --view=\"Action\" \"Q\""
   ]
  },
  {
   "cell_type": "code",
   "execution_count": 7,
   "id": "reliable-negative",
   "metadata": {
    "execution": {
     "iopub.execute_input": "2021-03-25T15:59:33.586010Z",
     "iopub.status.busy": "2021-03-25T15:59:33.585094Z",
     "iopub.status.idle": "2021-03-25T15:59:33.587761Z",
     "shell.execute_reply": "2021-03-25T15:59:33.588463Z"
    }
   },
   "outputs": [
    {
     "data": {
      "text/plain": [
       "java.lang.IllegalArgumentException: Invalid Style: COMPTREE Possible styles: POLYLINE, LR, STDCOLOR, PLANTUML, DEFAULT, TB, ORTHOLINE\n",
       "\tat org.omg.sysml.plantuml.SysML2PlantUMLStyle.get(SysML2PlantUMLStyle.java:258)\n",
       "\tat org.omg.sysml.plantuml.SysML2PlantUMLSvc.applyStyle(SysML2PlantUMLSvc.java:73)\n",
       "\tat org.omg.sysml.plantuml.SysML2PlantUMLSvc.getPlantUMLCode(SysML2PlantUMLSvc.java:88)\n",
       "\tat org.omg.sysml.plantuml.SysML2PlantUMLSvc.getSVG(SysML2PlantUMLSvc.java:99)\n",
       "\tat org.omg.sysml.interactive.SysMLInteractive.viz(SysMLInteractive.java:294)\n",
       "\tat org.omg.sysml.jupyter.kernel.magic.Viz.viz(Viz.java:47)\n",
       "\tat java.base/jdk.internal.reflect.NativeMethodAccessorImpl.invoke0(Native Method)\n",
       "\tat java.base/jdk.internal.reflect.NativeMethodAccessorImpl.invoke(NativeMethodAccessorImpl.java:78)\n",
       "\tat java.base/jdk.internal.reflect.DelegatingMethodAccessorImpl.invoke(DelegatingMethodAccessorImpl.java:43)\n",
       "\tat java.base/java.lang.reflect.Method.invoke(Method.java:568)\n",
       "\tat io.github.spencerpark.jupyter.kernel.magic.registry.Magics.invoke(Magics.java:89)\n",
       "\tat io.github.spencerpark.jupyter.kernel.magic.registry.Magics.access$000(Magics.java:8)\n",
       "\tat io.github.spencerpark.jupyter.kernel.magic.registry.Magics$LineReflectionMagicFunction.execute(Magics.java:149)\n",
       "\tat io.github.spencerpark.jupyter.kernel.magic.registry.Magics.applyLineMagic(Magics.java:26)\n",
       "\tat org.omg.sysml.jupyter.kernel.SysMLKernel.eval(SysMLKernel.java:76)\n",
       "\tat io.github.spencerpark.jupyter.kernel.BaseKernel.handleExecuteRequest(BaseKernel.java:334)\n",
       "\tat io.github.spencerpark.jupyter.channels.ShellChannel.lambda$bind$0(ShellChannel.java:64)\n",
       "\tat io.github.spencerpark.jupyter.channels.Loop.lambda$new$0(Loop.java:21)\n",
       "\tat io.github.spencerpark.jupyter.channels.Loop.run(Loop.java:78)\n"
      ]
     },
     "execution_count": 7,
     "metadata": {},
     "output_type": "execute_result"
    }
   ],
   "source": [
    "%viz --style=\"COMPTREE\" --view=\"Sequence\" \"Q\""
   ]
  },
  {
   "cell_type": "code",
   "execution_count": 8,
   "id": "hearing-height",
   "metadata": {
    "execution": {
     "iopub.execute_input": "2021-03-25T15:59:33.637960Z",
     "iopub.status.busy": "2021-03-25T15:59:33.637079Z",
     "iopub.status.idle": "2021-03-25T15:59:33.643985Z",
     "shell.execute_reply": "2021-03-25T15:59:33.643259Z"
    }
   },
   "outputs": [
    {
     "data": {
      "text/plain": [
       "java.lang.IllegalArgumentException: Invalid Style: COMPTREE Possible styles: POLYLINE, LR, STDCOLOR, PLANTUML, DEFAULT, TB, ORTHOLINE\n",
       "\tat org.omg.sysml.plantuml.SysML2PlantUMLStyle.get(SysML2PlantUMLStyle.java:258)\n",
       "\tat org.omg.sysml.plantuml.SysML2PlantUMLSvc.applyStyle(SysML2PlantUMLSvc.java:73)\n",
       "\tat org.omg.sysml.plantuml.SysML2PlantUMLSvc.getPlantUMLCode(SysML2PlantUMLSvc.java:88)\n",
       "\tat org.omg.sysml.plantuml.SysML2PlantUMLSvc.getSVG(SysML2PlantUMLSvc.java:99)\n",
       "\tat org.omg.sysml.interactive.SysMLInteractive.viz(SysMLInteractive.java:294)\n",
       "\tat org.omg.sysml.jupyter.kernel.magic.Viz.viz(Viz.java:47)\n",
       "\tat java.base/jdk.internal.reflect.NativeMethodAccessorImpl.invoke0(Native Method)\n",
       "\tat java.base/jdk.internal.reflect.NativeMethodAccessorImpl.invoke(NativeMethodAccessorImpl.java:78)\n",
       "\tat java.base/jdk.internal.reflect.DelegatingMethodAccessorImpl.invoke(DelegatingMethodAccessorImpl.java:43)\n",
       "\tat java.base/java.lang.reflect.Method.invoke(Method.java:568)\n",
       "\tat io.github.spencerpark.jupyter.kernel.magic.registry.Magics.invoke(Magics.java:89)\n",
       "\tat io.github.spencerpark.jupyter.kernel.magic.registry.Magics.access$000(Magics.java:8)\n",
       "\tat io.github.spencerpark.jupyter.kernel.magic.registry.Magics$LineReflectionMagicFunction.execute(Magics.java:149)\n",
       "\tat io.github.spencerpark.jupyter.kernel.magic.registry.Magics.applyLineMagic(Magics.java:26)\n",
       "\tat org.omg.sysml.jupyter.kernel.SysMLKernel.eval(SysMLKernel.java:76)\n",
       "\tat io.github.spencerpark.jupyter.kernel.BaseKernel.handleExecuteRequest(BaseKernel.java:334)\n",
       "\tat io.github.spencerpark.jupyter.channels.ShellChannel.lambda$bind$0(ShellChannel.java:64)\n",
       "\tat io.github.spencerpark.jupyter.channels.Loop.lambda$new$0(Loop.java:21)\n",
       "\tat io.github.spencerpark.jupyter.channels.Loop.run(Loop.java:78)\n"
      ]
     },
     "execution_count": 8,
     "metadata": {},
     "output_type": "execute_result"
    }
   ],
   "source": [
    "%viz --style=\"COMPTREE\" --view=\"MIXED\" \"Q\""
   ]
  },
  {
   "cell_type": "code",
   "execution_count": 9,
   "id": "british-cleanup",
   "metadata": {
    "execution": {
     "iopub.execute_input": "2021-03-25T15:59:33.697491Z",
     "iopub.status.busy": "2021-03-25T15:59:33.697025Z",
     "iopub.status.idle": "2021-03-25T15:59:34.924592Z",
     "shell.execute_reply": "2021-03-25T15:59:34.922586Z"
    }
   },
   "outputs": [
    {
     "data": {
      "image/svg+xml": [
       "<?xml version=\"1.0\" encoding=\"UTF-8\" standalone=\"no\"?><svg xmlns=\"http://www.w3.org/2000/svg\" xmlns:xlink=\"http://www.w3.org/1999/xlink\" contentScriptType=\"application/ecmascript\" contentStyleType=\"text/css\" height=\"221px\" preserveAspectRatio=\"none\" style=\"width:215px;height:221px;\" version=\"1.1\" viewBox=\"0 0 215 221\" width=\"215px\" zoomAndPan=\"magnify\"><defs/><g><!--MD5=[fbc87193dbaf4d95561dea2c320d4a47]\n",
       "cluster E1--><polygon fill=\"#FFFFFF\" points=\"16,6,34,6,41,28.2969,193,28.2969,193,209,16,209,16,6\" style=\"stroke: #000000; stroke-width: 1.5;\"/><line style=\"stroke: #000000; stroke-width: 1.5;\" x1=\"16\" x2=\"41\" y1=\"28.2969\" y2=\"28.2969\"/><text fill=\"#000000\" font-family=\"sans-serif\" font-size=\"14\" font-weight=\"bold\" lengthAdjust=\"spacingAndGlyphs\" textLength=\"12\" x=\"20\" y=\"20.9951\">Q</text><!--MD5=[b4997ac47864f28c2f74865a473b2911]\n",
       "class E2--><rect fill=\"#FFFFFF\" height=\"45.9375\" id=\"E2\" rx=\"10\" ry=\"10\" style=\"stroke: #383838; stroke-width: 1.5;\" width=\"44\" x=\"133\" y=\"41\"/><text fill=\"#000000\" font-family=\"sans-serif\" font-size=\"12\" font-style=\"italic\" lengthAdjust=\"spacingAndGlyphs\" textLength=\"40\" x=\"135\" y=\"57.1387\">«part»</text><text fill=\"#000000\" font-family=\"sans-serif\" font-size=\"12\" lengthAdjust=\"spacingAndGlyphs\" textLength=\"38\" x=\"136\" y=\"71.1074\">f: Part</text><line style=\"stroke: #383838; stroke-width: 1.5;\" x1=\"134\" x2=\"176\" y1=\"78.9375\" y2=\"78.9375\"/><!--MD5=[09b614a08d8cba4a07c9adeb5e0fee81]\n",
       "class E3--><rect fill=\"#FFFFFF\" height=\"45.9375\" id=\"E3\" rx=\"10\" ry=\"10\" style=\"stroke: #383838; stroke-width: 1.5;\" width=\"48\" x=\"129\" y=\"147\"/><text fill=\"#000000\" font-family=\"sans-serif\" font-size=\"12\" font-style=\"italic\" lengthAdjust=\"spacingAndGlyphs\" textLength=\"40\" x=\"133\" y=\"163.1387\">«part»</text><text fill=\"#000000\" font-family=\"sans-serif\" font-size=\"12\" lengthAdjust=\"spacingAndGlyphs\" textLength=\"42\" x=\"132\" y=\"177.1074\">a: Part</text><line style=\"stroke: #383838; stroke-width: 1.5;\" x1=\"130\" x2=\"176\" y1=\"184.9375\" y2=\"184.9375\"/><!--MD5=[ebbe1d658d1005bcc118a6aa81145e00]\n",
       "class E4--><rect fill=\"#FFFFFF\" height=\"45.9375\" id=\"E4\" style=\"stroke: #383838; stroke-width: 1.5;\" width=\"66\" x=\"32\" y=\"41\"/><text fill=\"#000000\" font-family=\"sans-serif\" font-size=\"12\" font-style=\"italic\" lengthAdjust=\"spacingAndGlyphs\" textLength=\"64\" x=\"33\" y=\"57.1387\">«part def»</text><text fill=\"#000000\" font-family=\"sans-serif\" font-size=\"12\" lengthAdjust=\"spacingAndGlyphs\" textLength=\"8\" x=\"61\" y=\"71.1074\">C</text><line style=\"stroke: #383838; stroke-width: 1.5;\" x1=\"33\" x2=\"97\" y1=\"78.9375\" y2=\"78.9375\"/><!--MD5=[270fce915f116d4de14055a7c1d9a0f3]\n",
       "class E5--><rect fill=\"#FFFFFF\" height=\"45.9375\" id=\"E5\" rx=\"10\" ry=\"10\" style=\"stroke: #383838; stroke-width: 1.5;\" width=\"48\" x=\"41\" y=\"147\"/><text fill=\"#000000\" font-family=\"sans-serif\" font-size=\"12\" font-style=\"italic\" lengthAdjust=\"spacingAndGlyphs\" textLength=\"40\" x=\"45\" y=\"163.1387\">«part»</text><text fill=\"#000000\" font-family=\"sans-serif\" font-size=\"12\" lengthAdjust=\"spacingAndGlyphs\" textLength=\"42\" x=\"44\" y=\"177.1074\">g: Part</text><line style=\"stroke: #383838; stroke-width: 1.5;\" x1=\"42\" x2=\"88\" y1=\"184.9375\" y2=\"184.9375\"/><!--MD5=[209b3feb70ccb6233bfe1053d122c12c]\n",
       "reverse link E2 to E3--><path d=\"M154.32,100.44 C154.02,115.87 153.68,133.47 153.42,146.98 \" fill=\"none\" id=\"E2&lt;-E3\" style=\"stroke: #383838; stroke-width: 1.0;\"/><polygon fill=\"#383838\" points=\"154.58,87.06,150.4685,92.9842,154.3556,99.0579,158.4671,93.1337,154.58,87.06\" style=\"stroke: #383838; stroke-width: 1.0;\"/><!--MD5=[62aa6af11e70f752912c1cb0466f24f7]\n",
       "reverse link E4 to E5--><path d=\"M65,100.44 C65,115.87 65,133.47 65,146.98 \" fill=\"none\" id=\"E4&lt;-E5\" style=\"stroke: #383838; stroke-width: 1.0;\"/><polygon fill=\"#383838\" points=\"65,87.06,61,93.06,65,99.06,69,93.06,65,87.06\" style=\"stroke: #383838; stroke-width: 1.0;\"/><!--MD5=[b1bd6123138643feba70f751fbe8a9e5]\n",
       "@startuml\r\n",
       "skinparam linetype polyline\r\n",
       "skinparam monochrome true\r\n",
       "skinparam classbackgroundcolor white\r\n",
       "skinparam shadowing false\r\n",
       "skinparam wrapWidth 300\r\n",
       "hide circle\r\n",
       "\r\n",
       "package \"Q\" as E1   {\r\n",
       "comp usage \"f: Part\" as E2  <<(T,blue)part>> {\r\n",
       "}\r\n",
       "comp usage \"a: Part\" as E3  <<(T,blue)part>> {\r\n",
       "}\r\n",
       "comp def \"C\" as E4  <<(T,blue)part def>> {\r\n",
       "}\r\n",
       "comp usage \"g: Part\" as E5  <<(T,blue)part>> {\r\n",
       "}\r\n",
       "E2 *- - E3\r\n",
       "E4 *- - E5\r\n",
       "}\r\n",
       "@enduml\r\n",
       "\n",
       "PlantUML version 1.2020.13(Sat Jun 13 12:26:38 UTC 2020)\n",
       "(EPL source distribution)\n",
       "Java Runtime: OpenJDK Runtime Environment\n",
       "JVM: OpenJDK 64-Bit Server VM\n",
       "Default Encoding: UTF-8\n",
       "Language: en\n",
       "Country: null\n",
       "--></g></svg>"
      ]
     },
     "execution_count": 9,
     "metadata": {},
     "output_type": "execute_result"
    }
   ],
   "source": [
    "%viz --style=\"POLYLINE\" --view=\"Default\" \"Q\""
   ]
  },
  {
   "cell_type": "code",
   "execution_count": 10,
   "id": "manufactured-device",
   "metadata": {
    "execution": {
     "iopub.execute_input": "2021-03-25T15:59:34.977608Z",
     "iopub.status.busy": "2021-03-25T15:59:34.976050Z",
     "iopub.status.idle": "2021-03-25T15:59:35.096005Z",
     "shell.execute_reply": "2021-03-25T15:59:35.096446Z"
    }
   },
   "outputs": [
    {
     "data": {
      "image/svg+xml": [
       "<?xml version=\"1.0\" encoding=\"UTF-8\" standalone=\"no\"?><svg xmlns=\"http://www.w3.org/2000/svg\" xmlns:xlink=\"http://www.w3.org/1999/xlink\" contentScriptType=\"application/ecmascript\" contentStyleType=\"text/css\" height=\"221px\" preserveAspectRatio=\"none\" style=\"width:215px;height:221px;\" version=\"1.1\" viewBox=\"0 0 215 221\" width=\"215px\" zoomAndPan=\"magnify\"><defs/><g><!--MD5=[fbc87193dbaf4d95561dea2c320d4a47]\n",
       "cluster E1--><polygon fill=\"#FFFFFF\" points=\"16,6,34,6,41,28.2969,193,28.2969,193,209,16,209,16,6\" style=\"stroke: #000000; stroke-width: 1.5;\"/><line style=\"stroke: #000000; stroke-width: 1.5;\" x1=\"16\" x2=\"41\" y1=\"28.2969\" y2=\"28.2969\"/><text fill=\"#000000\" font-family=\"sans-serif\" font-size=\"14\" font-weight=\"bold\" lengthAdjust=\"spacingAndGlyphs\" textLength=\"12\" x=\"20\" y=\"20.9951\">Q</text><!--MD5=[b4997ac47864f28c2f74865a473b2911]\n",
       "class E2--><rect fill=\"#FFFFFF\" height=\"45.9375\" id=\"E2\" rx=\"10\" ry=\"10\" style=\"stroke: #383838; stroke-width: 1.5;\" width=\"44\" x=\"133\" y=\"41\"/><text fill=\"#000000\" font-family=\"sans-serif\" font-size=\"12\" font-style=\"italic\" lengthAdjust=\"spacingAndGlyphs\" textLength=\"40\" x=\"135\" y=\"57.1387\">«part»</text><text fill=\"#000000\" font-family=\"sans-serif\" font-size=\"12\" lengthAdjust=\"spacingAndGlyphs\" textLength=\"38\" x=\"136\" y=\"71.1074\">f: Part</text><line style=\"stroke: #383838; stroke-width: 1.5;\" x1=\"134\" x2=\"176\" y1=\"78.9375\" y2=\"78.9375\"/><!--MD5=[09b614a08d8cba4a07c9adeb5e0fee81]\n",
       "class E3--><rect fill=\"#FFFFFF\" height=\"45.9375\" id=\"E3\" rx=\"10\" ry=\"10\" style=\"stroke: #383838; stroke-width: 1.5;\" width=\"48\" x=\"129\" y=\"147\"/><text fill=\"#000000\" font-family=\"sans-serif\" font-size=\"12\" font-style=\"italic\" lengthAdjust=\"spacingAndGlyphs\" textLength=\"40\" x=\"133\" y=\"163.1387\">«part»</text><text fill=\"#000000\" font-family=\"sans-serif\" font-size=\"12\" lengthAdjust=\"spacingAndGlyphs\" textLength=\"42\" x=\"132\" y=\"177.1074\">a: Part</text><line style=\"stroke: #383838; stroke-width: 1.5;\" x1=\"130\" x2=\"176\" y1=\"184.9375\" y2=\"184.9375\"/><!--MD5=[ebbe1d658d1005bcc118a6aa81145e00]\n",
       "class E4--><rect fill=\"#FFFFFF\" height=\"45.9375\" id=\"E4\" style=\"stroke: #383838; stroke-width: 1.5;\" width=\"66\" x=\"32\" y=\"41\"/><text fill=\"#000000\" font-family=\"sans-serif\" font-size=\"12\" font-style=\"italic\" lengthAdjust=\"spacingAndGlyphs\" textLength=\"64\" x=\"33\" y=\"57.1387\">«part def»</text><text fill=\"#000000\" font-family=\"sans-serif\" font-size=\"12\" lengthAdjust=\"spacingAndGlyphs\" textLength=\"8\" x=\"61\" y=\"71.1074\">C</text><line style=\"stroke: #383838; stroke-width: 1.5;\" x1=\"33\" x2=\"97\" y1=\"78.9375\" y2=\"78.9375\"/><!--MD5=[270fce915f116d4de14055a7c1d9a0f3]\n",
       "class E5--><rect fill=\"#FFFFFF\" height=\"45.9375\" id=\"E5\" rx=\"10\" ry=\"10\" style=\"stroke: #383838; stroke-width: 1.5;\" width=\"48\" x=\"41\" y=\"147\"/><text fill=\"#000000\" font-family=\"sans-serif\" font-size=\"12\" font-style=\"italic\" lengthAdjust=\"spacingAndGlyphs\" textLength=\"40\" x=\"45\" y=\"163.1387\">«part»</text><text fill=\"#000000\" font-family=\"sans-serif\" font-size=\"12\" lengthAdjust=\"spacingAndGlyphs\" textLength=\"42\" x=\"44\" y=\"177.1074\">g: Part</text><line style=\"stroke: #383838; stroke-width: 1.5;\" x1=\"42\" x2=\"88\" y1=\"184.9375\" y2=\"184.9375\"/><!--MD5=[209b3feb70ccb6233bfe1053d122c12c]\n",
       "reverse link E2 to E3--><path d=\"M154.32,100.44 C154.02,115.87 153.68,133.47 153.42,146.98 \" fill=\"none\" id=\"E2&lt;-E3\" style=\"stroke: #383838; stroke-width: 1.0;\"/><polygon fill=\"#383838\" points=\"154.58,87.06,150.4685,92.9842,154.3556,99.0579,158.4671,93.1337,154.58,87.06\" style=\"stroke: #383838; stroke-width: 1.0;\"/><!--MD5=[62aa6af11e70f752912c1cb0466f24f7]\n",
       "reverse link E4 to E5--><path d=\"M65,100.44 C65,115.87 65,133.47 65,146.98 \" fill=\"none\" id=\"E4&lt;-E5\" style=\"stroke: #383838; stroke-width: 1.0;\"/><polygon fill=\"#383838\" points=\"65,87.06,61,93.06,65,99.06,69,93.06,65,87.06\" style=\"stroke: #383838; stroke-width: 1.0;\"/><!--MD5=[b1bd6123138643feba70f751fbe8a9e5]\n",
       "@startuml\r\n",
       "skinparam linetype polyline\r\n",
       "skinparam monochrome true\r\n",
       "skinparam classbackgroundcolor white\r\n",
       "skinparam shadowing false\r\n",
       "skinparam wrapWidth 300\r\n",
       "hide circle\r\n",
       "\r\n",
       "package \"Q\" as E1   {\r\n",
       "comp usage \"f: Part\" as E2  <<(T,blue)part>> {\r\n",
       "}\r\n",
       "comp usage \"a: Part\" as E3  <<(T,blue)part>> {\r\n",
       "}\r\n",
       "comp def \"C\" as E4  <<(T,blue)part def>> {\r\n",
       "}\r\n",
       "comp usage \"g: Part\" as E5  <<(T,blue)part>> {\r\n",
       "}\r\n",
       "E2 *- - E3\r\n",
       "E4 *- - E5\r\n",
       "}\r\n",
       "@enduml\r\n",
       "\n",
       "PlantUML version 1.2020.13(Sat Jun 13 12:26:38 UTC 2020)\n",
       "(EPL source distribution)\n",
       "Java Runtime: OpenJDK Runtime Environment\n",
       "JVM: OpenJDK 64-Bit Server VM\n",
       "Default Encoding: UTF-8\n",
       "Language: en\n",
       "Country: null\n",
       "--></g></svg>"
      ]
     },
     "execution_count": 10,
     "metadata": {},
     "output_type": "execute_result"
    }
   ],
   "source": [
    "%viz --style=\"POLYLINE\" --view=\"Tree\" \"Q\""
   ]
  },
  {
   "cell_type": "code",
   "execution_count": 11,
   "id": "raising-springfield",
   "metadata": {
    "execution": {
     "iopub.execute_input": "2021-03-25T15:59:35.147431Z",
     "iopub.status.busy": "2021-03-25T15:59:35.146979Z",
     "iopub.status.idle": "2021-03-25T15:59:35.150665Z",
     "shell.execute_reply": "2021-03-25T15:59:35.151129Z"
    }
   },
   "outputs": [
    {
     "data": {
      "text/plain": [
       "java.lang.IllegalArgumentException: Invalid View: State View candidates are: Default Tree StateMachine Interconnection Activity Sequence MIXED \n",
       "\tat org.omg.sysml.plantuml.SysML2PlantUMLSvc.setView(SysML2PlantUMLSvc.java:63)\n",
       "\tat org.omg.sysml.interactive.SysMLInteractive.viz(SysMLInteractive.java:286)\n",
       "\tat org.omg.sysml.jupyter.kernel.magic.Viz.viz(Viz.java:47)\n",
       "\tat java.base/jdk.internal.reflect.NativeMethodAccessorImpl.invoke0(Native Method)\n",
       "\tat java.base/jdk.internal.reflect.NativeMethodAccessorImpl.invoke(NativeMethodAccessorImpl.java:78)\n",
       "\tat java.base/jdk.internal.reflect.DelegatingMethodAccessorImpl.invoke(DelegatingMethodAccessorImpl.java:43)\n",
       "\tat java.base/java.lang.reflect.Method.invoke(Method.java:568)\n",
       "\tat io.github.spencerpark.jupyter.kernel.magic.registry.Magics.invoke(Magics.java:89)\n",
       "\tat io.github.spencerpark.jupyter.kernel.magic.registry.Magics.access$000(Magics.java:8)\n",
       "\tat io.github.spencerpark.jupyter.kernel.magic.registry.Magics$LineReflectionMagicFunction.execute(Magics.java:149)\n",
       "\tat io.github.spencerpark.jupyter.kernel.magic.registry.Magics.applyLineMagic(Magics.java:26)\n",
       "\tat org.omg.sysml.jupyter.kernel.SysMLKernel.eval(SysMLKernel.java:76)\n",
       "\tat io.github.spencerpark.jupyter.kernel.BaseKernel.handleExecuteRequest(BaseKernel.java:334)\n",
       "\tat io.github.spencerpark.jupyter.channels.ShellChannel.lambda$bind$0(ShellChannel.java:64)\n",
       "\tat io.github.spencerpark.jupyter.channels.Loop.lambda$new$0(Loop.java:21)\n",
       "\tat io.github.spencerpark.jupyter.channels.Loop.run(Loop.java:78)\n"
      ]
     },
     "execution_count": 11,
     "metadata": {},
     "output_type": "execute_result"
    }
   ],
   "source": [
    "%viz --style=\"POLYLINE\" --view=\"State\" \"Q\""
   ]
  },
  {
   "cell_type": "code",
   "execution_count": 12,
   "id": "direct-despite",
   "metadata": {
    "execution": {
     "iopub.execute_input": "2021-03-25T15:59:35.203391Z",
     "iopub.status.busy": "2021-03-25T15:59:35.202538Z",
     "iopub.status.idle": "2021-03-25T15:59:35.356453Z",
     "shell.execute_reply": "2021-03-25T15:59:35.355752Z"
    }
   },
   "outputs": [
    {
     "data": {
      "image/svg+xml": [
       "<?xml version=\"1.0\" encoding=\"UTF-8\" standalone=\"no\"?><svg xmlns=\"http://www.w3.org/2000/svg\" xmlns:xlink=\"http://www.w3.org/1999/xlink\" contentScriptType=\"application/ecmascript\" contentStyleType=\"text/css\" height=\"202px\" preserveAspectRatio=\"none\" style=\"width:354px;height:202px;\" version=\"1.1\" viewBox=\"0 0 354 202\" width=\"354px\" zoomAndPan=\"magnify\"><defs/><g><!--MD5=[fbc87193dbaf4d95561dea2c320d4a47]\n",
       "cluster E1--><polygon fill=\"#FFFFFF\" points=\"16,6,34,6,41,28.2969,332,28.2969,332,190,16,190,16,6\" style=\"stroke: #000000; stroke-width: 1.5;\"/><line style=\"stroke: #000000; stroke-width: 1.5;\" x1=\"16\" x2=\"41\" y1=\"28.2969\" y2=\"28.2969\"/><text fill=\"#000000\" font-family=\"sans-serif\" font-size=\"14\" font-weight=\"bold\" lengthAdjust=\"spacingAndGlyphs\" textLength=\"12\" x=\"20\" y=\"20.9951\">Q</text><!--MD5=[e4f7fae6ed58524ba242bb0b0d3be6b7]\n",
       "cluster E2--><rect fill=\"#F8F8F8\" height=\"101\" rx=\"12.5\" ry=\"12.5\" style=\"stroke: #000000; stroke-width: 1.5;\" width=\"96\" x=\"212\" y=\"65\"/><rect fill=\"#FFFFFF\" height=\"68.7031\" rx=\"12.5\" ry=\"12.5\" style=\"stroke: #FFFFFF; stroke-width: 1.0;\" width=\"90\" x=\"215\" y=\"94.2969\"/><line style=\"stroke: #000000; stroke-width: 1.5;\" x1=\"212\" x2=\"308\" y1=\"91.2969\" y2=\"91.2969\"/><text fill=\"#000000\" font-family=\"sans-serif\" font-size=\"14\" lengthAdjust=\"spacingAndGlyphs\" textLength=\"40\" x=\"240\" y=\"81.9951\">f: Part</text><!--MD5=[f6df4d0ebaf0b5dfb2ced0ae5af7c670]\n",
       "cluster E4--><rect fill=\"#FFFFFF\" height=\"117\" style=\"stroke: #000000; stroke-width: 1.5;\" width=\"148\" x=\"40\" y=\"49\"/><text fill=\"#000000\" font-family=\"sans-serif\" font-size=\"14\" font-style=\"italic\" lengthAdjust=\"spacingAndGlyphs\" textLength=\"71\" x=\"78.5\" y=\"63.9951\">«part def»</text><text fill=\"#000000\" font-family=\"sans-serif\" font-size=\"14\" font-weight=\"bold\" lengthAdjust=\"spacingAndGlyphs\" textLength=\"11\" x=\"108.5\" y=\"80.292\">C</text><g id=\"E1.E2.E3\"><rect fill=\"#FFFFFF\" height=\"50\" rx=\"12.5\" ry=\"12.5\" style=\"stroke: #383838; stroke-width: 1.5;\" width=\"64\" x=\"228\" y=\"100\"/><line style=\"stroke: #383838; stroke-width: 1.5;\" x1=\"228\" x2=\"292\" y1=\"126.2969\" y2=\"126.2969\"/><text fill=\"#000000\" font-family=\"sans-serif\" font-size=\"14\" lengthAdjust=\"spacingAndGlyphs\" textLength=\"44\" x=\"238\" y=\"117.9951\">a: Part</text></g><g id=\"E1.E4.E5\"><rect fill=\"#FFFFFF\" height=\"50\" rx=\"12.5\" ry=\"12.5\" style=\"stroke: #383838; stroke-width: 1.5;\" width=\"116\" x=\"56\" y=\"100\"/><line style=\"stroke: #383838; stroke-width: 1.5;\" x1=\"56\" x2=\"172\" y1=\"126.2969\" y2=\"126.2969\"/><text fill=\"#000000\" font-family=\"sans-serif\" font-size=\"14\" lengthAdjust=\"spacingAndGlyphs\" textLength=\"92\" x=\"66\" y=\"117.9951\">g: Part= ./f/a;</text></g><!--MD5=[dd4a97e3716020087a816539fc52d0df]\n",
       "@startuml\r\n",
       "skinparam ranksep 8\r\n",
       "skinparam rectangle {\r\n",
       " backgroundColor<<block>> LightGreen\r\n",
       "}\r\n",
       "skinparam linetype polyline\r\n",
       "skinparam monochrome true\r\n",
       "skinparam classbackgroundcolor white\r\n",
       "skinparam shadowing false\r\n",
       "skinparam wrapWidth 300\r\n",
       "hide circle\r\n",
       "\r\n",
       "package \"Q\" as E1   {\r\n",
       "rec usage \"f: Part\" as E2  {\r\n",
       "rec usage \"a: Part\" as E3  {\r\n",
       "}\r\n",
       "}\r\n",
       "rec def \"C\" as E4  <<part def>> {\r\n",
       "rec usage \"g: Part= ./f/a; \" as E5  {\r\n",
       "}\r\n",
       "}\r\n",
       "}\r\n",
       "@enduml\r\n",
       "\n",
       "PlantUML version 1.2020.13(Sat Jun 13 12:26:38 UTC 2020)\n",
       "(EPL source distribution)\n",
       "Java Runtime: OpenJDK Runtime Environment\n",
       "JVM: OpenJDK 64-Bit Server VM\n",
       "Default Encoding: UTF-8\n",
       "Language: en\n",
       "Country: null\n",
       "--></g></svg>"
      ]
     },
     "execution_count": 12,
     "metadata": {},
     "output_type": "execute_result"
    }
   ],
   "source": [
    "%viz --style=\"POLYLINE\" --view=\"Interconnection\" \"Q\""
   ]
  },
  {
   "cell_type": "code",
   "execution_count": 13,
   "id": "danish-journalism",
   "metadata": {
    "execution": {
     "iopub.execute_input": "2021-03-25T15:59:35.404517Z",
     "iopub.status.busy": "2021-03-25T15:59:35.404002Z",
     "iopub.status.idle": "2021-03-25T15:59:35.406838Z",
     "shell.execute_reply": "2021-03-25T15:59:35.407305Z"
    }
   },
   "outputs": [
    {
     "data": {
      "text/plain": [
       "java.lang.IllegalArgumentException: Invalid View: Action View candidates are: Default Tree StateMachine Interconnection Activity Sequence MIXED \n",
       "\tat org.omg.sysml.plantuml.SysML2PlantUMLSvc.setView(SysML2PlantUMLSvc.java:63)\n",
       "\tat org.omg.sysml.interactive.SysMLInteractive.viz(SysMLInteractive.java:286)\n",
       "\tat org.omg.sysml.jupyter.kernel.magic.Viz.viz(Viz.java:47)\n",
       "\tat java.base/jdk.internal.reflect.NativeMethodAccessorImpl.invoke0(Native Method)\n",
       "\tat java.base/jdk.internal.reflect.NativeMethodAccessorImpl.invoke(NativeMethodAccessorImpl.java:78)\n",
       "\tat java.base/jdk.internal.reflect.DelegatingMethodAccessorImpl.invoke(DelegatingMethodAccessorImpl.java:43)\n",
       "\tat java.base/java.lang.reflect.Method.invoke(Method.java:568)\n",
       "\tat io.github.spencerpark.jupyter.kernel.magic.registry.Magics.invoke(Magics.java:89)\n",
       "\tat io.github.spencerpark.jupyter.kernel.magic.registry.Magics.access$000(Magics.java:8)\n",
       "\tat io.github.spencerpark.jupyter.kernel.magic.registry.Magics$LineReflectionMagicFunction.execute(Magics.java:149)\n",
       "\tat io.github.spencerpark.jupyter.kernel.magic.registry.Magics.applyLineMagic(Magics.java:26)\n",
       "\tat org.omg.sysml.jupyter.kernel.SysMLKernel.eval(SysMLKernel.java:76)\n",
       "\tat io.github.spencerpark.jupyter.kernel.BaseKernel.handleExecuteRequest(BaseKernel.java:334)\n",
       "\tat io.github.spencerpark.jupyter.channels.ShellChannel.lambda$bind$0(ShellChannel.java:64)\n",
       "\tat io.github.spencerpark.jupyter.channels.Loop.lambda$new$0(Loop.java:21)\n",
       "\tat io.github.spencerpark.jupyter.channels.Loop.run(Loop.java:78)\n"
      ]
     },
     "execution_count": 13,
     "metadata": {},
     "output_type": "execute_result"
    }
   ],
   "source": [
    "%viz --style=\"POLYLINE\" --view=\"Action\" \"Q\""
   ]
  },
  {
   "cell_type": "code",
   "execution_count": 14,
   "id": "bronze-validity",
   "metadata": {
    "execution": {
     "iopub.execute_input": "2021-03-25T15:59:35.460282Z",
     "iopub.status.busy": "2021-03-25T15:59:35.459337Z",
     "iopub.status.idle": "2021-03-25T15:59:35.619957Z",
     "shell.execute_reply": "2021-03-25T15:59:35.617830Z"
    }
   },
   "outputs": [
    {
     "data": {
      "image/svg+xml": [
       "<?xml version=\"1.0\" encoding=\"UTF-8\" standalone=\"no\"?><svg xmlns=\"http://www.w3.org/2000/svg\" xmlns:xlink=\"http://www.w3.org/1999/xlink\" contentScriptType=\"application/ecmascript\" contentStyleType=\"text/css\" height=\"221px\" preserveAspectRatio=\"none\" style=\"width:215px;height:221px;\" version=\"1.1\" viewBox=\"0 0 215 221\" width=\"215px\" zoomAndPan=\"magnify\"><defs/><g><!--MD5=[fbc87193dbaf4d95561dea2c320d4a47]\n",
       "cluster E1--><polygon fill=\"#FFFFFF\" points=\"16,6,34,6,41,28.2969,193,28.2969,193,209,16,209,16,6\" style=\"stroke: #000000; stroke-width: 1.5;\"/><line style=\"stroke: #000000; stroke-width: 1.5;\" x1=\"16\" x2=\"41\" y1=\"28.2969\" y2=\"28.2969\"/><text fill=\"#000000\" font-family=\"sans-serif\" font-size=\"14\" font-weight=\"bold\" lengthAdjust=\"spacingAndGlyphs\" textLength=\"12\" x=\"20\" y=\"20.9951\">Q</text><!--MD5=[b4997ac47864f28c2f74865a473b2911]\n",
       "class E2--><rect fill=\"#FFFFFF\" height=\"45.9375\" id=\"E2\" rx=\"10\" ry=\"10\" style=\"stroke: #383838; stroke-width: 1.5;\" width=\"44\" x=\"133\" y=\"41\"/><text fill=\"#000000\" font-family=\"sans-serif\" font-size=\"12\" font-style=\"italic\" lengthAdjust=\"spacingAndGlyphs\" textLength=\"40\" x=\"135\" y=\"57.1387\">«part»</text><text fill=\"#000000\" font-family=\"sans-serif\" font-size=\"12\" lengthAdjust=\"spacingAndGlyphs\" textLength=\"38\" x=\"136\" y=\"71.1074\">f: Part</text><line style=\"stroke: #383838; stroke-width: 1.5;\" x1=\"134\" x2=\"176\" y1=\"78.9375\" y2=\"78.9375\"/><!--MD5=[09b614a08d8cba4a07c9adeb5e0fee81]\n",
       "class E3--><rect fill=\"#FFFFFF\" height=\"45.9375\" id=\"E3\" rx=\"10\" ry=\"10\" style=\"stroke: #383838; stroke-width: 1.5;\" width=\"48\" x=\"129\" y=\"147\"/><text fill=\"#000000\" font-family=\"sans-serif\" font-size=\"12\" font-style=\"italic\" lengthAdjust=\"spacingAndGlyphs\" textLength=\"40\" x=\"133\" y=\"163.1387\">«part»</text><text fill=\"#000000\" font-family=\"sans-serif\" font-size=\"12\" lengthAdjust=\"spacingAndGlyphs\" textLength=\"42\" x=\"132\" y=\"177.1074\">a: Part</text><line style=\"stroke: #383838; stroke-width: 1.5;\" x1=\"130\" x2=\"176\" y1=\"184.9375\" y2=\"184.9375\"/><!--MD5=[ebbe1d658d1005bcc118a6aa81145e00]\n",
       "class E4--><rect fill=\"#FFFFFF\" height=\"45.9375\" id=\"E4\" style=\"stroke: #383838; stroke-width: 1.5;\" width=\"66\" x=\"32\" y=\"41\"/><text fill=\"#000000\" font-family=\"sans-serif\" font-size=\"12\" font-style=\"italic\" lengthAdjust=\"spacingAndGlyphs\" textLength=\"64\" x=\"33\" y=\"57.1387\">«part def»</text><text fill=\"#000000\" font-family=\"sans-serif\" font-size=\"12\" lengthAdjust=\"spacingAndGlyphs\" textLength=\"8\" x=\"61\" y=\"71.1074\">C</text><line style=\"stroke: #383838; stroke-width: 1.5;\" x1=\"33\" x2=\"97\" y1=\"78.9375\" y2=\"78.9375\"/><!--MD5=[270fce915f116d4de14055a7c1d9a0f3]\n",
       "class E5--><rect fill=\"#FFFFFF\" height=\"45.9375\" id=\"E5\" rx=\"10\" ry=\"10\" style=\"stroke: #383838; stroke-width: 1.5;\" width=\"48\" x=\"41\" y=\"147\"/><text fill=\"#000000\" font-family=\"sans-serif\" font-size=\"12\" font-style=\"italic\" lengthAdjust=\"spacingAndGlyphs\" textLength=\"40\" x=\"45\" y=\"163.1387\">«part»</text><text fill=\"#000000\" font-family=\"sans-serif\" font-size=\"12\" lengthAdjust=\"spacingAndGlyphs\" textLength=\"42\" x=\"44\" y=\"177.1074\">g: Part</text><line style=\"stroke: #383838; stroke-width: 1.5;\" x1=\"42\" x2=\"88\" y1=\"184.9375\" y2=\"184.9375\"/><!--MD5=[209b3feb70ccb6233bfe1053d122c12c]\n",
       "reverse link E2 to E3--><path d=\"M154.32,100.44 C154.02,115.87 153.68,133.47 153.42,146.98 \" fill=\"none\" id=\"E2&lt;-E3\" style=\"stroke: #383838; stroke-width: 1.0;\"/><polygon fill=\"#383838\" points=\"154.58,87.06,150.4685,92.9842,154.3556,99.0579,158.4671,93.1337,154.58,87.06\" style=\"stroke: #383838; stroke-width: 1.0;\"/><!--MD5=[62aa6af11e70f752912c1cb0466f24f7]\n",
       "reverse link E4 to E5--><path d=\"M65,100.44 C65,115.87 65,133.47 65,146.98 \" fill=\"none\" id=\"E4&lt;-E5\" style=\"stroke: #383838; stroke-width: 1.0;\"/><polygon fill=\"#383838\" points=\"65,87.06,61,93.06,65,99.06,69,93.06,65,87.06\" style=\"stroke: #383838; stroke-width: 1.0;\"/><!--MD5=[b1bd6123138643feba70f751fbe8a9e5]\n",
       "@startuml\r\n",
       "skinparam linetype polyline\r\n",
       "skinparam monochrome true\r\n",
       "skinparam classbackgroundcolor white\r\n",
       "skinparam shadowing false\r\n",
       "skinparam wrapWidth 300\r\n",
       "hide circle\r\n",
       "\r\n",
       "package \"Q\" as E1   {\r\n",
       "comp usage \"f: Part\" as E2  <<(T,blue)part>> {\r\n",
       "}\r\n",
       "comp usage \"a: Part\" as E3  <<(T,blue)part>> {\r\n",
       "}\r\n",
       "comp def \"C\" as E4  <<(T,blue)part def>> {\r\n",
       "}\r\n",
       "comp usage \"g: Part\" as E5  <<(T,blue)part>> {\r\n",
       "}\r\n",
       "E2 *- - E3\r\n",
       "E4 *- - E5\r\n",
       "}\r\n",
       "@enduml\r\n",
       "\n",
       "PlantUML version 1.2020.13(Sat Jun 13 12:26:38 UTC 2020)\n",
       "(EPL source distribution)\n",
       "Java Runtime: OpenJDK Runtime Environment\n",
       "JVM: OpenJDK 64-Bit Server VM\n",
       "Default Encoding: UTF-8\n",
       "Language: en\n",
       "Country: null\n",
       "--></g></svg>"
      ]
     },
     "execution_count": 14,
     "metadata": {},
     "output_type": "execute_result"
    }
   ],
   "source": [
    "%viz --style=\"POLYLINE\" --view=\"Sequence\" \"Q\""
   ]
  },
  {
   "cell_type": "code",
   "execution_count": 15,
   "id": "incorporated-attendance",
   "metadata": {
    "execution": {
     "iopub.execute_input": "2021-03-25T15:59:35.669986Z",
     "iopub.status.busy": "2021-03-25T15:59:35.666003Z",
     "iopub.status.idle": "2021-03-25T15:59:35.837228Z",
     "shell.execute_reply": "2021-03-25T15:59:35.838113Z"
    }
   },
   "outputs": [
    {
     "data": {
      "image/svg+xml": [
       "<?xml version=\"1.0\" encoding=\"UTF-8\" standalone=\"no\"?><svg xmlns=\"http://www.w3.org/2000/svg\" xmlns:xlink=\"http://www.w3.org/1999/xlink\" contentScriptType=\"application/ecmascript\" contentStyleType=\"text/css\" height=\"221px\" preserveAspectRatio=\"none\" style=\"width:215px;height:221px;\" version=\"1.1\" viewBox=\"0 0 215 221\" width=\"215px\" zoomAndPan=\"magnify\"><defs/><g><!--MD5=[fbc87193dbaf4d95561dea2c320d4a47]\n",
       "cluster E1--><polygon fill=\"#FFFFFF\" points=\"16,6,34,6,41,28.2969,193,28.2969,193,209,16,209,16,6\" style=\"stroke: #000000; stroke-width: 1.5;\"/><line style=\"stroke: #000000; stroke-width: 1.5;\" x1=\"16\" x2=\"41\" y1=\"28.2969\" y2=\"28.2969\"/><text fill=\"#000000\" font-family=\"sans-serif\" font-size=\"14\" font-weight=\"bold\" lengthAdjust=\"spacingAndGlyphs\" textLength=\"12\" x=\"20\" y=\"20.9951\">Q</text><!--MD5=[b4997ac47864f28c2f74865a473b2911]\n",
       "class E2--><rect fill=\"#FFFFFF\" height=\"45.9375\" id=\"E2\" rx=\"10\" ry=\"10\" style=\"stroke: #383838; stroke-width: 1.5;\" width=\"44\" x=\"133\" y=\"41\"/><text fill=\"#000000\" font-family=\"sans-serif\" font-size=\"12\" font-style=\"italic\" lengthAdjust=\"spacingAndGlyphs\" textLength=\"40\" x=\"135\" y=\"57.1387\">«part»</text><text fill=\"#000000\" font-family=\"sans-serif\" font-size=\"12\" lengthAdjust=\"spacingAndGlyphs\" textLength=\"38\" x=\"136\" y=\"71.1074\">f: Part</text><line style=\"stroke: #383838; stroke-width: 1.5;\" x1=\"134\" x2=\"176\" y1=\"78.9375\" y2=\"78.9375\"/><!--MD5=[09b614a08d8cba4a07c9adeb5e0fee81]\n",
       "class E3--><rect fill=\"#FFFFFF\" height=\"45.9375\" id=\"E3\" rx=\"10\" ry=\"10\" style=\"stroke: #383838; stroke-width: 1.5;\" width=\"48\" x=\"129\" y=\"147\"/><text fill=\"#000000\" font-family=\"sans-serif\" font-size=\"12\" font-style=\"italic\" lengthAdjust=\"spacingAndGlyphs\" textLength=\"40\" x=\"133\" y=\"163.1387\">«part»</text><text fill=\"#000000\" font-family=\"sans-serif\" font-size=\"12\" lengthAdjust=\"spacingAndGlyphs\" textLength=\"42\" x=\"132\" y=\"177.1074\">a: Part</text><line style=\"stroke: #383838; stroke-width: 1.5;\" x1=\"130\" x2=\"176\" y1=\"184.9375\" y2=\"184.9375\"/><!--MD5=[ebbe1d658d1005bcc118a6aa81145e00]\n",
       "class E4--><rect fill=\"#FFFFFF\" height=\"45.9375\" id=\"E4\" style=\"stroke: #383838; stroke-width: 1.5;\" width=\"66\" x=\"32\" y=\"41\"/><text fill=\"#000000\" font-family=\"sans-serif\" font-size=\"12\" font-style=\"italic\" lengthAdjust=\"spacingAndGlyphs\" textLength=\"64\" x=\"33\" y=\"57.1387\">«part def»</text><text fill=\"#000000\" font-family=\"sans-serif\" font-size=\"12\" lengthAdjust=\"spacingAndGlyphs\" textLength=\"8\" x=\"61\" y=\"71.1074\">C</text><line style=\"stroke: #383838; stroke-width: 1.5;\" x1=\"33\" x2=\"97\" y1=\"78.9375\" y2=\"78.9375\"/><!--MD5=[270fce915f116d4de14055a7c1d9a0f3]\n",
       "class E5--><rect fill=\"#FFFFFF\" height=\"45.9375\" id=\"E5\" rx=\"10\" ry=\"10\" style=\"stroke: #383838; stroke-width: 1.5;\" width=\"48\" x=\"41\" y=\"147\"/><text fill=\"#000000\" font-family=\"sans-serif\" font-size=\"12\" font-style=\"italic\" lengthAdjust=\"spacingAndGlyphs\" textLength=\"40\" x=\"45\" y=\"163.1387\">«part»</text><text fill=\"#000000\" font-family=\"sans-serif\" font-size=\"12\" lengthAdjust=\"spacingAndGlyphs\" textLength=\"42\" x=\"44\" y=\"177.1074\">g: Part</text><line style=\"stroke: #383838; stroke-width: 1.5;\" x1=\"42\" x2=\"88\" y1=\"184.9375\" y2=\"184.9375\"/><!--MD5=[209b3feb70ccb6233bfe1053d122c12c]\n",
       "reverse link E2 to E3--><path d=\"M154.32,100.44 C154.02,115.87 153.68,133.47 153.42,146.98 \" fill=\"none\" id=\"E2&lt;-E3\" style=\"stroke: #383838; stroke-width: 1.0;\"/><polygon fill=\"#383838\" points=\"154.58,87.06,150.4685,92.9842,154.3556,99.0579,158.4671,93.1337,154.58,87.06\" style=\"stroke: #383838; stroke-width: 1.0;\"/><!--MD5=[62aa6af11e70f752912c1cb0466f24f7]\n",
       "reverse link E4 to E5--><path d=\"M65,100.44 C65,115.87 65,133.47 65,146.98 \" fill=\"none\" id=\"E4&lt;-E5\" style=\"stroke: #383838; stroke-width: 1.0;\"/><polygon fill=\"#383838\" points=\"65,87.06,61,93.06,65,99.06,69,93.06,65,87.06\" style=\"stroke: #383838; stroke-width: 1.0;\"/><!--MD5=[b1bd6123138643feba70f751fbe8a9e5]\n",
       "@startuml\r\n",
       "skinparam linetype polyline\r\n",
       "skinparam monochrome true\r\n",
       "skinparam classbackgroundcolor white\r\n",
       "skinparam shadowing false\r\n",
       "skinparam wrapWidth 300\r\n",
       "hide circle\r\n",
       "\r\n",
       "package \"Q\" as E1   {\r\n",
       "comp usage \"f: Part\" as E2  <<(T,blue)part>> {\r\n",
       "}\r\n",
       "comp usage \"a: Part\" as E3  <<(T,blue)part>> {\r\n",
       "}\r\n",
       "comp def \"C\" as E4  <<(T,blue)part def>> {\r\n",
       "}\r\n",
       "comp usage \"g: Part\" as E5  <<(T,blue)part>> {\r\n",
       "}\r\n",
       "E2 *- - E3\r\n",
       "E4 *- - E5\r\n",
       "}\r\n",
       "@enduml\r\n",
       "\n",
       "PlantUML version 1.2020.13(Sat Jun 13 12:26:38 UTC 2020)\n",
       "(EPL source distribution)\n",
       "Java Runtime: OpenJDK Runtime Environment\n",
       "JVM: OpenJDK 64-Bit Server VM\n",
       "Default Encoding: UTF-8\n",
       "Language: en\n",
       "Country: null\n",
       "--></g></svg>"
      ]
     },
     "execution_count": 15,
     "metadata": {},
     "output_type": "execute_result"
    }
   ],
   "source": [
    "%viz --style=\"POLYLINE\" --view=\"MIXED\" \"Q\""
   ]
  },
  {
   "cell_type": "code",
   "execution_count": 16,
   "id": "express-drama",
   "metadata": {
    "execution": {
     "iopub.execute_input": "2021-03-25T15:59:35.888957Z",
     "iopub.status.busy": "2021-03-25T15:59:35.887968Z",
     "iopub.status.idle": "2021-03-25T15:59:36.036759Z",
     "shell.execute_reply": "2021-03-25T15:59:36.035056Z"
    }
   },
   "outputs": [
    {
     "data": {
      "image/svg+xml": [
       "<?xml version=\"1.0\" encoding=\"UTF-8\" standalone=\"no\"?><svg xmlns=\"http://www.w3.org/2000/svg\" xmlns:xlink=\"http://www.w3.org/1999/xlink\" contentScriptType=\"application/ecmascript\" contentStyleType=\"text/css\" height=\"196px\" preserveAspectRatio=\"none\" style=\"width:244px;height:196px;\" version=\"1.1\" viewBox=\"0 0 244 196\" width=\"244px\" zoomAndPan=\"magnify\"><defs/><g><!--MD5=[fbc87193dbaf4d95561dea2c320d4a47]\n",
       "cluster E1--><polygon fill=\"#FFFFFF\" points=\"16,6,34,6,41,28.2969,222,28.2969,222,184,16,184,16,6\" style=\"stroke: #000000; stroke-width: 1.5;\"/><line style=\"stroke: #000000; stroke-width: 1.5;\" x1=\"16\" x2=\"41\" y1=\"28.2969\" y2=\"28.2969\"/><text fill=\"#000000\" font-family=\"sans-serif\" font-size=\"14\" font-weight=\"bold\" lengthAdjust=\"spacingAndGlyphs\" textLength=\"12\" x=\"20\" y=\"20.9951\">Q</text><!--MD5=[b4997ac47864f28c2f74865a473b2911]\n",
       "class E2--><rect fill=\"#FFFFFF\" height=\"45.9375\" id=\"E2\" rx=\"10\" ry=\"10\" style=\"stroke: #383838; stroke-width: 1.5;\" width=\"44\" x=\"43\" y=\"41\"/><text fill=\"#000000\" font-family=\"sans-serif\" font-size=\"12\" font-style=\"italic\" lengthAdjust=\"spacingAndGlyphs\" textLength=\"40\" x=\"45\" y=\"57.1387\">«part»</text><text fill=\"#000000\" font-family=\"sans-serif\" font-size=\"12\" lengthAdjust=\"spacingAndGlyphs\" textLength=\"38\" x=\"46\" y=\"71.1074\">f: Part</text><line style=\"stroke: #383838; stroke-width: 1.5;\" x1=\"44\" x2=\"86\" y1=\"78.9375\" y2=\"78.9375\"/><!--MD5=[09b614a08d8cba4a07c9adeb5e0fee81]\n",
       "class E3--><rect fill=\"#FFFFFF\" height=\"45.9375\" id=\"E3\" rx=\"10\" ry=\"10\" style=\"stroke: #383838; stroke-width: 1.5;\" width=\"48\" x=\"158\" y=\"41\"/><text fill=\"#000000\" font-family=\"sans-serif\" font-size=\"12\" font-style=\"italic\" lengthAdjust=\"spacingAndGlyphs\" textLength=\"40\" x=\"162\" y=\"57.1387\">«part»</text><text fill=\"#000000\" font-family=\"sans-serif\" font-size=\"12\" lengthAdjust=\"spacingAndGlyphs\" textLength=\"42\" x=\"161\" y=\"71.1074\">a: Part</text><line style=\"stroke: #383838; stroke-width: 1.5;\" x1=\"159\" x2=\"205\" y1=\"78.9375\" y2=\"78.9375\"/><!--MD5=[ebbe1d658d1005bcc118a6aa81145e00]\n",
       "class E4--><rect fill=\"#FFFFFF\" height=\"45.9375\" id=\"E4\" style=\"stroke: #383838; stroke-width: 1.5;\" width=\"66\" x=\"32\" y=\"122\"/><text fill=\"#000000\" font-family=\"sans-serif\" font-size=\"12\" font-style=\"italic\" lengthAdjust=\"spacingAndGlyphs\" textLength=\"64\" x=\"33\" y=\"138.1387\">«part def»</text><text fill=\"#000000\" font-family=\"sans-serif\" font-size=\"12\" lengthAdjust=\"spacingAndGlyphs\" textLength=\"8\" x=\"61\" y=\"152.1074\">C</text><line style=\"stroke: #383838; stroke-width: 1.5;\" x1=\"33\" x2=\"97\" y1=\"159.9375\" y2=\"159.9375\"/><!--MD5=[270fce915f116d4de14055a7c1d9a0f3]\n",
       "class E5--><rect fill=\"#FFFFFF\" height=\"45.9375\" id=\"E5\" rx=\"10\" ry=\"10\" style=\"stroke: #383838; stroke-width: 1.5;\" width=\"48\" x=\"158\" y=\"122\"/><text fill=\"#000000\" font-family=\"sans-serif\" font-size=\"12\" font-style=\"italic\" lengthAdjust=\"spacingAndGlyphs\" textLength=\"40\" x=\"162\" y=\"138.1387\">«part»</text><text fill=\"#000000\" font-family=\"sans-serif\" font-size=\"12\" lengthAdjust=\"spacingAndGlyphs\" textLength=\"42\" x=\"161\" y=\"152.1074\">g: Part</text><line style=\"stroke: #383838; stroke-width: 1.5;\" x1=\"159\" x2=\"205\" y1=\"159.9375\" y2=\"159.9375\"/><!--MD5=[209b3feb70ccb6233bfe1053d122c12c]\n",
       "reverse link E2 to E3--><path d=\"M100.33,64 C118.84,64 141.19,64 157.67,64 \" fill=\"none\" id=\"E2&lt;-E3\" style=\"stroke: #383838; stroke-width: 1.0;\"/><polygon fill=\"#383838\" points=\"87.09,64,93.09,68,99.09,64,93.09,60,87.09,64\" style=\"stroke: #383838; stroke-width: 1.0;\"/><!--MD5=[62aa6af11e70f752912c1cb0466f24f7]\n",
       "reverse link E4 to E5--><path d=\"M111.06,145 C127.08,145 144.46,145 157.89,145 \" fill=\"none\" id=\"E4&lt;-E5\" style=\"stroke: #383838; stroke-width: 1.0;\"/><polygon fill=\"#383838\" points=\"98.03,145,104.03,149,110.03,145,104.03,141,98.03,145\" style=\"stroke: #383838; stroke-width: 1.0;\"/><!--MD5=[52b46f34bbb99bce94483bcd1842abd1]\n",
       "@startuml\r\n",
       "left to right direction\r\n",
       "skinparam monochrome true\r\n",
       "skinparam classbackgroundcolor white\r\n",
       "skinparam shadowing false\r\n",
       "skinparam wrapWidth 300\r\n",
       "hide circle\r\n",
       "\r\n",
       "package \"Q\" as E1   {\r\n",
       "comp usage \"f: Part\" as E2  <<(T,blue)part>> {\r\n",
       "}\r\n",
       "comp usage \"a: Part\" as E3  <<(T,blue)part>> {\r\n",
       "}\r\n",
       "comp def \"C\" as E4  <<(T,blue)part def>> {\r\n",
       "}\r\n",
       "comp usage \"g: Part\" as E5  <<(T,blue)part>> {\r\n",
       "}\r\n",
       "E2 *- - E3\r\n",
       "E4 *- - E5\r\n",
       "}\r\n",
       "@enduml\r\n",
       "\n",
       "PlantUML version 1.2020.13(Sat Jun 13 12:26:38 UTC 2020)\n",
       "(EPL source distribution)\n",
       "Java Runtime: OpenJDK Runtime Environment\n",
       "JVM: OpenJDK 64-Bit Server VM\n",
       "Default Encoding: UTF-8\n",
       "Language: en\n",
       "Country: null\n",
       "--></g></svg>"
      ]
     },
     "execution_count": 16,
     "metadata": {},
     "output_type": "execute_result"
    }
   ],
   "source": [
    "%viz --style=\"LR\" --view=\"Default\" \"Q\""
   ]
  },
  {
   "cell_type": "code",
   "execution_count": 17,
   "id": "critical-check",
   "metadata": {
    "execution": {
     "iopub.execute_input": "2021-03-25T15:59:36.088878Z",
     "iopub.status.busy": "2021-03-25T15:59:36.088013Z",
     "iopub.status.idle": "2021-03-25T15:59:36.235131Z",
     "shell.execute_reply": "2021-03-25T15:59:36.235800Z"
    }
   },
   "outputs": [
    {
     "data": {
      "image/svg+xml": [
       "<?xml version=\"1.0\" encoding=\"UTF-8\" standalone=\"no\"?><svg xmlns=\"http://www.w3.org/2000/svg\" xmlns:xlink=\"http://www.w3.org/1999/xlink\" contentScriptType=\"application/ecmascript\" contentStyleType=\"text/css\" height=\"196px\" preserveAspectRatio=\"none\" style=\"width:244px;height:196px;\" version=\"1.1\" viewBox=\"0 0 244 196\" width=\"244px\" zoomAndPan=\"magnify\"><defs/><g><!--MD5=[fbc87193dbaf4d95561dea2c320d4a47]\n",
       "cluster E1--><polygon fill=\"#FFFFFF\" points=\"16,6,34,6,41,28.2969,222,28.2969,222,184,16,184,16,6\" style=\"stroke: #000000; stroke-width: 1.5;\"/><line style=\"stroke: #000000; stroke-width: 1.5;\" x1=\"16\" x2=\"41\" y1=\"28.2969\" y2=\"28.2969\"/><text fill=\"#000000\" font-family=\"sans-serif\" font-size=\"14\" font-weight=\"bold\" lengthAdjust=\"spacingAndGlyphs\" textLength=\"12\" x=\"20\" y=\"20.9951\">Q</text><!--MD5=[b4997ac47864f28c2f74865a473b2911]\n",
       "class E2--><rect fill=\"#FFFFFF\" height=\"45.9375\" id=\"E2\" rx=\"10\" ry=\"10\" style=\"stroke: #383838; stroke-width: 1.5;\" width=\"44\" x=\"43\" y=\"41\"/><text fill=\"#000000\" font-family=\"sans-serif\" font-size=\"12\" font-style=\"italic\" lengthAdjust=\"spacingAndGlyphs\" textLength=\"40\" x=\"45\" y=\"57.1387\">«part»</text><text fill=\"#000000\" font-family=\"sans-serif\" font-size=\"12\" lengthAdjust=\"spacingAndGlyphs\" textLength=\"38\" x=\"46\" y=\"71.1074\">f: Part</text><line style=\"stroke: #383838; stroke-width: 1.5;\" x1=\"44\" x2=\"86\" y1=\"78.9375\" y2=\"78.9375\"/><!--MD5=[09b614a08d8cba4a07c9adeb5e0fee81]\n",
       "class E3--><rect fill=\"#FFFFFF\" height=\"45.9375\" id=\"E3\" rx=\"10\" ry=\"10\" style=\"stroke: #383838; stroke-width: 1.5;\" width=\"48\" x=\"158\" y=\"41\"/><text fill=\"#000000\" font-family=\"sans-serif\" font-size=\"12\" font-style=\"italic\" lengthAdjust=\"spacingAndGlyphs\" textLength=\"40\" x=\"162\" y=\"57.1387\">«part»</text><text fill=\"#000000\" font-family=\"sans-serif\" font-size=\"12\" lengthAdjust=\"spacingAndGlyphs\" textLength=\"42\" x=\"161\" y=\"71.1074\">a: Part</text><line style=\"stroke: #383838; stroke-width: 1.5;\" x1=\"159\" x2=\"205\" y1=\"78.9375\" y2=\"78.9375\"/><!--MD5=[ebbe1d658d1005bcc118a6aa81145e00]\n",
       "class E4--><rect fill=\"#FFFFFF\" height=\"45.9375\" id=\"E4\" style=\"stroke: #383838; stroke-width: 1.5;\" width=\"66\" x=\"32\" y=\"122\"/><text fill=\"#000000\" font-family=\"sans-serif\" font-size=\"12\" font-style=\"italic\" lengthAdjust=\"spacingAndGlyphs\" textLength=\"64\" x=\"33\" y=\"138.1387\">«part def»</text><text fill=\"#000000\" font-family=\"sans-serif\" font-size=\"12\" lengthAdjust=\"spacingAndGlyphs\" textLength=\"8\" x=\"61\" y=\"152.1074\">C</text><line style=\"stroke: #383838; stroke-width: 1.5;\" x1=\"33\" x2=\"97\" y1=\"159.9375\" y2=\"159.9375\"/><!--MD5=[270fce915f116d4de14055a7c1d9a0f3]\n",
       "class E5--><rect fill=\"#FFFFFF\" height=\"45.9375\" id=\"E5\" rx=\"10\" ry=\"10\" style=\"stroke: #383838; stroke-width: 1.5;\" width=\"48\" x=\"158\" y=\"122\"/><text fill=\"#000000\" font-family=\"sans-serif\" font-size=\"12\" font-style=\"italic\" lengthAdjust=\"spacingAndGlyphs\" textLength=\"40\" x=\"162\" y=\"138.1387\">«part»</text><text fill=\"#000000\" font-family=\"sans-serif\" font-size=\"12\" lengthAdjust=\"spacingAndGlyphs\" textLength=\"42\" x=\"161\" y=\"152.1074\">g: Part</text><line style=\"stroke: #383838; stroke-width: 1.5;\" x1=\"159\" x2=\"205\" y1=\"159.9375\" y2=\"159.9375\"/><!--MD5=[209b3feb70ccb6233bfe1053d122c12c]\n",
       "reverse link E2 to E3--><path d=\"M100.33,64 C118.84,64 141.19,64 157.67,64 \" fill=\"none\" id=\"E2&lt;-E3\" style=\"stroke: #383838; stroke-width: 1.0;\"/><polygon fill=\"#383838\" points=\"87.09,64,93.09,68,99.09,64,93.09,60,87.09,64\" style=\"stroke: #383838; stroke-width: 1.0;\"/><!--MD5=[62aa6af11e70f752912c1cb0466f24f7]\n",
       "reverse link E4 to E5--><path d=\"M111.06,145 C127.08,145 144.46,145 157.89,145 \" fill=\"none\" id=\"E4&lt;-E5\" style=\"stroke: #383838; stroke-width: 1.0;\"/><polygon fill=\"#383838\" points=\"98.03,145,104.03,149,110.03,145,104.03,141,98.03,145\" style=\"stroke: #383838; stroke-width: 1.0;\"/><!--MD5=[52b46f34bbb99bce94483bcd1842abd1]\n",
       "@startuml\r\n",
       "left to right direction\r\n",
       "skinparam monochrome true\r\n",
       "skinparam classbackgroundcolor white\r\n",
       "skinparam shadowing false\r\n",
       "skinparam wrapWidth 300\r\n",
       "hide circle\r\n",
       "\r\n",
       "package \"Q\" as E1   {\r\n",
       "comp usage \"f: Part\" as E2  <<(T,blue)part>> {\r\n",
       "}\r\n",
       "comp usage \"a: Part\" as E3  <<(T,blue)part>> {\r\n",
       "}\r\n",
       "comp def \"C\" as E4  <<(T,blue)part def>> {\r\n",
       "}\r\n",
       "comp usage \"g: Part\" as E5  <<(T,blue)part>> {\r\n",
       "}\r\n",
       "E2 *- - E3\r\n",
       "E4 *- - E5\r\n",
       "}\r\n",
       "@enduml\r\n",
       "\n",
       "PlantUML version 1.2020.13(Sat Jun 13 12:26:38 UTC 2020)\n",
       "(EPL source distribution)\n",
       "Java Runtime: OpenJDK Runtime Environment\n",
       "JVM: OpenJDK 64-Bit Server VM\n",
       "Default Encoding: UTF-8\n",
       "Language: en\n",
       "Country: null\n",
       "--></g></svg>"
      ]
     },
     "execution_count": 17,
     "metadata": {},
     "output_type": "execute_result"
    }
   ],
   "source": [
    "%viz --style=\"LR\" --view=\"Tree\" \"Q\""
   ]
  },
  {
   "cell_type": "code",
   "execution_count": 18,
   "id": "seven-husband",
   "metadata": {
    "execution": {
     "iopub.execute_input": "2021-03-25T15:59:36.286308Z",
     "iopub.status.busy": "2021-03-25T15:59:36.285361Z",
     "iopub.status.idle": "2021-03-25T15:59:36.293312Z",
     "shell.execute_reply": "2021-03-25T15:59:36.296843Z"
    }
   },
   "outputs": [
    {
     "data": {
      "text/plain": [
       "java.lang.IllegalArgumentException: Invalid View: State View candidates are: Default Tree StateMachine Interconnection Activity Sequence MIXED \n",
       "\tat org.omg.sysml.plantuml.SysML2PlantUMLSvc.setView(SysML2PlantUMLSvc.java:63)\n",
       "\tat org.omg.sysml.interactive.SysMLInteractive.viz(SysMLInteractive.java:286)\n",
       "\tat org.omg.sysml.jupyter.kernel.magic.Viz.viz(Viz.java:47)\n",
       "\tat jdk.internal.reflect.GeneratedMethodAccessor12.invoke(Unknown Source)\n",
       "\tat java.base/jdk.internal.reflect.DelegatingMethodAccessorImpl.invoke(DelegatingMethodAccessorImpl.java:43)\n",
       "\tat java.base/java.lang.reflect.Method.invoke(Method.java:568)\n",
       "\tat io.github.spencerpark.jupyter.kernel.magic.registry.Magics.invoke(Magics.java:89)\n",
       "\tat io.github.spencerpark.jupyter.kernel.magic.registry.Magics.access$000(Magics.java:8)\n",
       "\tat io.github.spencerpark.jupyter.kernel.magic.registry.Magics$LineReflectionMagicFunction.execute(Magics.java:149)\n",
       "\tat io.github.spencerpark.jupyter.kernel.magic.registry.Magics.applyLineMagic(Magics.java:26)\n",
       "\tat org.omg.sysml.jupyter.kernel.SysMLKernel.eval(SysMLKernel.java:76)\n",
       "\tat io.github.spencerpark.jupyter.kernel.BaseKernel.handleExecuteRequest(BaseKernel.java:334)\n",
       "\tat io.github.spencerpark.jupyter.channels.ShellChannel.lambda$bind$0(ShellChannel.java:64)\n",
       "\tat io.github.spencerpark.jupyter.channels.Loop.lambda$new$0(Loop.java:21)\n",
       "\tat io.github.spencerpark.jupyter.channels.Loop.run(Loop.java:78)\n"
      ]
     },
     "execution_count": 18,
     "metadata": {},
     "output_type": "execute_result"
    }
   ],
   "source": [
    "%viz --style=\"LR\" --view=\"State\" \"Q\""
   ]
  },
  {
   "cell_type": "code",
   "execution_count": 19,
   "id": "french-durham",
   "metadata": {
    "execution": {
     "iopub.execute_input": "2021-03-25T15:59:36.342414Z",
     "iopub.status.busy": "2021-03-25T15:59:36.341565Z",
     "iopub.status.idle": "2021-03-25T15:59:36.461648Z",
     "shell.execute_reply": "2021-03-25T15:59:36.460247Z"
    }
   },
   "outputs": [
    {
     "data": {
      "image/svg+xml": [
       "<?xml version=\"1.0\" encoding=\"UTF-8\" standalone=\"no\"?><svg xmlns=\"http://www.w3.org/2000/svg\" xmlns:xlink=\"http://www.w3.org/1999/xlink\" contentScriptType=\"application/ecmascript\" contentStyleType=\"text/css\" height=\"327px\" preserveAspectRatio=\"none\" style=\"width:234px;height:327px;\" version=\"1.1\" viewBox=\"0 0 234 327\" width=\"234px\" zoomAndPan=\"magnify\"><defs/><g><!--MD5=[fbc87193dbaf4d95561dea2c320d4a47]\n",
       "cluster E1--><polygon fill=\"#FFFFFF\" points=\"16,6,34,6,41,28.2969,212,28.2969,212,315,16,315,16,6\" style=\"stroke: #000000; stroke-width: 1.5;\"/><line style=\"stroke: #000000; stroke-width: 1.5;\" x1=\"16\" x2=\"41\" y1=\"28.2969\" y2=\"28.2969\"/><text fill=\"#000000\" font-family=\"sans-serif\" font-size=\"14\" font-weight=\"bold\" lengthAdjust=\"spacingAndGlyphs\" textLength=\"12\" x=\"20\" y=\"20.9951\">Q</text><!--MD5=[e4f7fae6ed58524ba242bb0b0d3be6b7]\n",
       "cluster E2--><rect fill=\"#F8F8F8\" height=\"101\" rx=\"12.5\" ry=\"12.5\" style=\"stroke: #000000; stroke-width: 1.5;\" width=\"96\" x=\"66\" y=\"49\"/><rect fill=\"#FFFFFF\" height=\"68.7031\" rx=\"12.5\" ry=\"12.5\" style=\"stroke: #FFFFFF; stroke-width: 1.0;\" width=\"90\" x=\"69\" y=\"78.2969\"/><line style=\"stroke: #000000; stroke-width: 1.5;\" x1=\"66\" x2=\"162\" y1=\"75.2969\" y2=\"75.2969\"/><text fill=\"#000000\" font-family=\"sans-serif\" font-size=\"14\" lengthAdjust=\"spacingAndGlyphs\" textLength=\"40\" x=\"94\" y=\"65.9951\">f: Part</text><!--MD5=[f6df4d0ebaf0b5dfb2ced0ae5af7c670]\n",
       "cluster E4--><rect fill=\"#FFFFFF\" height=\"117\" style=\"stroke: #000000; stroke-width: 1.5;\" width=\"148\" x=\"40\" y=\"174\"/><text fill=\"#000000\" font-family=\"sans-serif\" font-size=\"14\" font-style=\"italic\" lengthAdjust=\"spacingAndGlyphs\" textLength=\"71\" x=\"78.5\" y=\"188.9951\">«part def»</text><text fill=\"#000000\" font-family=\"sans-serif\" font-size=\"14\" font-weight=\"bold\" lengthAdjust=\"spacingAndGlyphs\" textLength=\"11\" x=\"108.5\" y=\"205.292\">C</text><g id=\"E1.E2.E3\"><rect fill=\"#FFFFFF\" height=\"50\" rx=\"12.5\" ry=\"12.5\" style=\"stroke: #383838; stroke-width: 1.5;\" width=\"64\" x=\"82\" y=\"84\"/><line style=\"stroke: #383838; stroke-width: 1.5;\" x1=\"82\" x2=\"146\" y1=\"110.2969\" y2=\"110.2969\"/><text fill=\"#000000\" font-family=\"sans-serif\" font-size=\"14\" lengthAdjust=\"spacingAndGlyphs\" textLength=\"44\" x=\"92\" y=\"101.9951\">a: Part</text></g><g id=\"E1.E4.E5\"><rect fill=\"#FFFFFF\" height=\"50\" rx=\"12.5\" ry=\"12.5\" style=\"stroke: #383838; stroke-width: 1.5;\" width=\"116\" x=\"56\" y=\"225\"/><line style=\"stroke: #383838; stroke-width: 1.5;\" x1=\"56\" x2=\"172\" y1=\"251.2969\" y2=\"251.2969\"/><text fill=\"#000000\" font-family=\"sans-serif\" font-size=\"14\" lengthAdjust=\"spacingAndGlyphs\" textLength=\"92\" x=\"66\" y=\"242.9951\">g: Part= ./f/a;</text></g><!--MD5=[854ee5a8a9204868ea2f961b39e80da5]\n",
       "@startuml\r\n",
       "skinparam ranksep 8\r\n",
       "skinparam rectangle {\r\n",
       " backgroundColor<<block>> LightGreen\r\n",
       "}\r\n",
       "left to right direction\r\n",
       "skinparam monochrome true\r\n",
       "skinparam classbackgroundcolor white\r\n",
       "skinparam shadowing false\r\n",
       "skinparam wrapWidth 300\r\n",
       "hide circle\r\n",
       "\r\n",
       "package \"Q\" as E1   {\r\n",
       "rec usage \"f: Part\" as E2  {\r\n",
       "rec usage \"a: Part\" as E3  {\r\n",
       "}\r\n",
       "}\r\n",
       "rec def \"C\" as E4  <<part def>> {\r\n",
       "rec usage \"g: Part= ./f/a; \" as E5  {\r\n",
       "}\r\n",
       "}\r\n",
       "}\r\n",
       "@enduml\r\n",
       "\n",
       "PlantUML version 1.2020.13(Sat Jun 13 12:26:38 UTC 2020)\n",
       "(EPL source distribution)\n",
       "Java Runtime: OpenJDK Runtime Environment\n",
       "JVM: OpenJDK 64-Bit Server VM\n",
       "Default Encoding: UTF-8\n",
       "Language: en\n",
       "Country: null\n",
       "--></g></svg>"
      ]
     },
     "execution_count": 19,
     "metadata": {},
     "output_type": "execute_result"
    }
   ],
   "source": [
    "%viz --style=\"LR\" --view=\"Interconnection\" \"Q\""
   ]
  },
  {
   "cell_type": "code",
   "execution_count": 20,
   "id": "contrary-ocean",
   "metadata": {
    "execution": {
     "iopub.execute_input": "2021-03-25T15:59:36.507057Z",
     "iopub.status.busy": "2021-03-25T15:59:36.505830Z",
     "iopub.status.idle": "2021-03-25T15:59:36.510514Z",
     "shell.execute_reply": "2021-03-25T15:59:36.511505Z"
    }
   },
   "outputs": [
    {
     "data": {
      "text/plain": [
       "java.lang.IllegalArgumentException: Invalid View: Action View candidates are: Default Tree StateMachine Interconnection Activity Sequence MIXED \n",
       "\tat org.omg.sysml.plantuml.SysML2PlantUMLSvc.setView(SysML2PlantUMLSvc.java:63)\n",
       "\tat org.omg.sysml.interactive.SysMLInteractive.viz(SysMLInteractive.java:286)\n",
       "\tat org.omg.sysml.jupyter.kernel.magic.Viz.viz(Viz.java:47)\n",
       "\tat jdk.internal.reflect.GeneratedMethodAccessor12.invoke(Unknown Source)\n",
       "\tat java.base/jdk.internal.reflect.DelegatingMethodAccessorImpl.invoke(DelegatingMethodAccessorImpl.java:43)\n",
       "\tat java.base/java.lang.reflect.Method.invoke(Method.java:568)\n",
       "\tat io.github.spencerpark.jupyter.kernel.magic.registry.Magics.invoke(Magics.java:89)\n",
       "\tat io.github.spencerpark.jupyter.kernel.magic.registry.Magics.access$000(Magics.java:8)\n",
       "\tat io.github.spencerpark.jupyter.kernel.magic.registry.Magics$LineReflectionMagicFunction.execute(Magics.java:149)\n",
       "\tat io.github.spencerpark.jupyter.kernel.magic.registry.Magics.applyLineMagic(Magics.java:26)\n",
       "\tat org.omg.sysml.jupyter.kernel.SysMLKernel.eval(SysMLKernel.java:76)\n",
       "\tat io.github.spencerpark.jupyter.kernel.BaseKernel.handleExecuteRequest(BaseKernel.java:334)\n",
       "\tat io.github.spencerpark.jupyter.channels.ShellChannel.lambda$bind$0(ShellChannel.java:64)\n",
       "\tat io.github.spencerpark.jupyter.channels.Loop.lambda$new$0(Loop.java:21)\n",
       "\tat io.github.spencerpark.jupyter.channels.Loop.run(Loop.java:78)\n"
      ]
     },
     "execution_count": 20,
     "metadata": {},
     "output_type": "execute_result"
    }
   ],
   "source": [
    "%viz --style=\"LR\" --view=\"Action\" \"Q\""
   ]
  },
  {
   "cell_type": "code",
   "execution_count": 21,
   "id": "meaning-experience",
   "metadata": {
    "execution": {
     "iopub.execute_input": "2021-03-25T15:59:36.563756Z",
     "iopub.status.busy": "2021-03-25T15:59:36.562173Z",
     "iopub.status.idle": "2021-03-25T15:59:36.697791Z",
     "shell.execute_reply": "2021-03-25T15:59:36.700867Z"
    }
   },
   "outputs": [
    {
     "data": {
      "image/svg+xml": [
       "<?xml version=\"1.0\" encoding=\"UTF-8\" standalone=\"no\"?><svg xmlns=\"http://www.w3.org/2000/svg\" xmlns:xlink=\"http://www.w3.org/1999/xlink\" contentScriptType=\"application/ecmascript\" contentStyleType=\"text/css\" height=\"196px\" preserveAspectRatio=\"none\" style=\"width:244px;height:196px;\" version=\"1.1\" viewBox=\"0 0 244 196\" width=\"244px\" zoomAndPan=\"magnify\"><defs/><g><!--MD5=[fbc87193dbaf4d95561dea2c320d4a47]\n",
       "cluster E1--><polygon fill=\"#FFFFFF\" points=\"16,6,34,6,41,28.2969,222,28.2969,222,184,16,184,16,6\" style=\"stroke: #000000; stroke-width: 1.5;\"/><line style=\"stroke: #000000; stroke-width: 1.5;\" x1=\"16\" x2=\"41\" y1=\"28.2969\" y2=\"28.2969\"/><text fill=\"#000000\" font-family=\"sans-serif\" font-size=\"14\" font-weight=\"bold\" lengthAdjust=\"spacingAndGlyphs\" textLength=\"12\" x=\"20\" y=\"20.9951\">Q</text><!--MD5=[b4997ac47864f28c2f74865a473b2911]\n",
       "class E2--><rect fill=\"#FFFFFF\" height=\"45.9375\" id=\"E2\" rx=\"10\" ry=\"10\" style=\"stroke: #383838; stroke-width: 1.5;\" width=\"44\" x=\"43\" y=\"41\"/><text fill=\"#000000\" font-family=\"sans-serif\" font-size=\"12\" font-style=\"italic\" lengthAdjust=\"spacingAndGlyphs\" textLength=\"40\" x=\"45\" y=\"57.1387\">«part»</text><text fill=\"#000000\" font-family=\"sans-serif\" font-size=\"12\" lengthAdjust=\"spacingAndGlyphs\" textLength=\"38\" x=\"46\" y=\"71.1074\">f: Part</text><line style=\"stroke: #383838; stroke-width: 1.5;\" x1=\"44\" x2=\"86\" y1=\"78.9375\" y2=\"78.9375\"/><!--MD5=[09b614a08d8cba4a07c9adeb5e0fee81]\n",
       "class E3--><rect fill=\"#FFFFFF\" height=\"45.9375\" id=\"E3\" rx=\"10\" ry=\"10\" style=\"stroke: #383838; stroke-width: 1.5;\" width=\"48\" x=\"158\" y=\"41\"/><text fill=\"#000000\" font-family=\"sans-serif\" font-size=\"12\" font-style=\"italic\" lengthAdjust=\"spacingAndGlyphs\" textLength=\"40\" x=\"162\" y=\"57.1387\">«part»</text><text fill=\"#000000\" font-family=\"sans-serif\" font-size=\"12\" lengthAdjust=\"spacingAndGlyphs\" textLength=\"42\" x=\"161\" y=\"71.1074\">a: Part</text><line style=\"stroke: #383838; stroke-width: 1.5;\" x1=\"159\" x2=\"205\" y1=\"78.9375\" y2=\"78.9375\"/><!--MD5=[ebbe1d658d1005bcc118a6aa81145e00]\n",
       "class E4--><rect fill=\"#FFFFFF\" height=\"45.9375\" id=\"E4\" style=\"stroke: #383838; stroke-width: 1.5;\" width=\"66\" x=\"32\" y=\"122\"/><text fill=\"#000000\" font-family=\"sans-serif\" font-size=\"12\" font-style=\"italic\" lengthAdjust=\"spacingAndGlyphs\" textLength=\"64\" x=\"33\" y=\"138.1387\">«part def»</text><text fill=\"#000000\" font-family=\"sans-serif\" font-size=\"12\" lengthAdjust=\"spacingAndGlyphs\" textLength=\"8\" x=\"61\" y=\"152.1074\">C</text><line style=\"stroke: #383838; stroke-width: 1.5;\" x1=\"33\" x2=\"97\" y1=\"159.9375\" y2=\"159.9375\"/><!--MD5=[270fce915f116d4de14055a7c1d9a0f3]\n",
       "class E5--><rect fill=\"#FFFFFF\" height=\"45.9375\" id=\"E5\" rx=\"10\" ry=\"10\" style=\"stroke: #383838; stroke-width: 1.5;\" width=\"48\" x=\"158\" y=\"122\"/><text fill=\"#000000\" font-family=\"sans-serif\" font-size=\"12\" font-style=\"italic\" lengthAdjust=\"spacingAndGlyphs\" textLength=\"40\" x=\"162\" y=\"138.1387\">«part»</text><text fill=\"#000000\" font-family=\"sans-serif\" font-size=\"12\" lengthAdjust=\"spacingAndGlyphs\" textLength=\"42\" x=\"161\" y=\"152.1074\">g: Part</text><line style=\"stroke: #383838; stroke-width: 1.5;\" x1=\"159\" x2=\"205\" y1=\"159.9375\" y2=\"159.9375\"/><!--MD5=[209b3feb70ccb6233bfe1053d122c12c]\n",
       "reverse link E2 to E3--><path d=\"M100.33,64 C118.84,64 141.19,64 157.67,64 \" fill=\"none\" id=\"E2&lt;-E3\" style=\"stroke: #383838; stroke-width: 1.0;\"/><polygon fill=\"#383838\" points=\"87.09,64,93.09,68,99.09,64,93.09,60,87.09,64\" style=\"stroke: #383838; stroke-width: 1.0;\"/><!--MD5=[62aa6af11e70f752912c1cb0466f24f7]\n",
       "reverse link E4 to E5--><path d=\"M111.06,145 C127.08,145 144.46,145 157.89,145 \" fill=\"none\" id=\"E4&lt;-E5\" style=\"stroke: #383838; stroke-width: 1.0;\"/><polygon fill=\"#383838\" points=\"98.03,145,104.03,149,110.03,145,104.03,141,98.03,145\" style=\"stroke: #383838; stroke-width: 1.0;\"/><!--MD5=[52b46f34bbb99bce94483bcd1842abd1]\n",
       "@startuml\r\n",
       "left to right direction\r\n",
       "skinparam monochrome true\r\n",
       "skinparam classbackgroundcolor white\r\n",
       "skinparam shadowing false\r\n",
       "skinparam wrapWidth 300\r\n",
       "hide circle\r\n",
       "\r\n",
       "package \"Q\" as E1   {\r\n",
       "comp usage \"f: Part\" as E2  <<(T,blue)part>> {\r\n",
       "}\r\n",
       "comp usage \"a: Part\" as E3  <<(T,blue)part>> {\r\n",
       "}\r\n",
       "comp def \"C\" as E4  <<(T,blue)part def>> {\r\n",
       "}\r\n",
       "comp usage \"g: Part\" as E5  <<(T,blue)part>> {\r\n",
       "}\r\n",
       "E2 *- - E3\r\n",
       "E4 *- - E5\r\n",
       "}\r\n",
       "@enduml\r\n",
       "\n",
       "PlantUML version 1.2020.13(Sat Jun 13 12:26:38 UTC 2020)\n",
       "(EPL source distribution)\n",
       "Java Runtime: OpenJDK Runtime Environment\n",
       "JVM: OpenJDK 64-Bit Server VM\n",
       "Default Encoding: UTF-8\n",
       "Language: en\n",
       "Country: null\n",
       "--></g></svg>"
      ]
     },
     "execution_count": 21,
     "metadata": {},
     "output_type": "execute_result"
    }
   ],
   "source": [
    "%viz --style=\"LR\" --view=\"Sequence\" \"Q\""
   ]
  },
  {
   "cell_type": "code",
   "execution_count": 22,
   "id": "found-ozone",
   "metadata": {
    "execution": {
     "iopub.execute_input": "2021-03-25T15:59:36.745043Z",
     "iopub.status.busy": "2021-03-25T15:59:36.744063Z",
     "iopub.status.idle": "2021-03-25T15:59:36.916334Z",
     "shell.execute_reply": "2021-03-25T15:59:36.919173Z"
    }
   },
   "outputs": [
    {
     "data": {
      "image/svg+xml": [
       "<?xml version=\"1.0\" encoding=\"UTF-8\" standalone=\"no\"?><svg xmlns=\"http://www.w3.org/2000/svg\" xmlns:xlink=\"http://www.w3.org/1999/xlink\" contentScriptType=\"application/ecmascript\" contentStyleType=\"text/css\" height=\"196px\" preserveAspectRatio=\"none\" style=\"width:244px;height:196px;\" version=\"1.1\" viewBox=\"0 0 244 196\" width=\"244px\" zoomAndPan=\"magnify\"><defs/><g><!--MD5=[fbc87193dbaf4d95561dea2c320d4a47]\n",
       "cluster E1--><polygon fill=\"#FFFFFF\" points=\"16,6,34,6,41,28.2969,222,28.2969,222,184,16,184,16,6\" style=\"stroke: #000000; stroke-width: 1.5;\"/><line style=\"stroke: #000000; stroke-width: 1.5;\" x1=\"16\" x2=\"41\" y1=\"28.2969\" y2=\"28.2969\"/><text fill=\"#000000\" font-family=\"sans-serif\" font-size=\"14\" font-weight=\"bold\" lengthAdjust=\"spacingAndGlyphs\" textLength=\"12\" x=\"20\" y=\"20.9951\">Q</text><!--MD5=[b4997ac47864f28c2f74865a473b2911]\n",
       "class E2--><rect fill=\"#FFFFFF\" height=\"45.9375\" id=\"E2\" rx=\"10\" ry=\"10\" style=\"stroke: #383838; stroke-width: 1.5;\" width=\"44\" x=\"43\" y=\"41\"/><text fill=\"#000000\" font-family=\"sans-serif\" font-size=\"12\" font-style=\"italic\" lengthAdjust=\"spacingAndGlyphs\" textLength=\"40\" x=\"45\" y=\"57.1387\">«part»</text><text fill=\"#000000\" font-family=\"sans-serif\" font-size=\"12\" lengthAdjust=\"spacingAndGlyphs\" textLength=\"38\" x=\"46\" y=\"71.1074\">f: Part</text><line style=\"stroke: #383838; stroke-width: 1.5;\" x1=\"44\" x2=\"86\" y1=\"78.9375\" y2=\"78.9375\"/><!--MD5=[09b614a08d8cba4a07c9adeb5e0fee81]\n",
       "class E3--><rect fill=\"#FFFFFF\" height=\"45.9375\" id=\"E3\" rx=\"10\" ry=\"10\" style=\"stroke: #383838; stroke-width: 1.5;\" width=\"48\" x=\"158\" y=\"41\"/><text fill=\"#000000\" font-family=\"sans-serif\" font-size=\"12\" font-style=\"italic\" lengthAdjust=\"spacingAndGlyphs\" textLength=\"40\" x=\"162\" y=\"57.1387\">«part»</text><text fill=\"#000000\" font-family=\"sans-serif\" font-size=\"12\" lengthAdjust=\"spacingAndGlyphs\" textLength=\"42\" x=\"161\" y=\"71.1074\">a: Part</text><line style=\"stroke: #383838; stroke-width: 1.5;\" x1=\"159\" x2=\"205\" y1=\"78.9375\" y2=\"78.9375\"/><!--MD5=[ebbe1d658d1005bcc118a6aa81145e00]\n",
       "class E4--><rect fill=\"#FFFFFF\" height=\"45.9375\" id=\"E4\" style=\"stroke: #383838; stroke-width: 1.5;\" width=\"66\" x=\"32\" y=\"122\"/><text fill=\"#000000\" font-family=\"sans-serif\" font-size=\"12\" font-style=\"italic\" lengthAdjust=\"spacingAndGlyphs\" textLength=\"64\" x=\"33\" y=\"138.1387\">«part def»</text><text fill=\"#000000\" font-family=\"sans-serif\" font-size=\"12\" lengthAdjust=\"spacingAndGlyphs\" textLength=\"8\" x=\"61\" y=\"152.1074\">C</text><line style=\"stroke: #383838; stroke-width: 1.5;\" x1=\"33\" x2=\"97\" y1=\"159.9375\" y2=\"159.9375\"/><!--MD5=[270fce915f116d4de14055a7c1d9a0f3]\n",
       "class E5--><rect fill=\"#FFFFFF\" height=\"45.9375\" id=\"E5\" rx=\"10\" ry=\"10\" style=\"stroke: #383838; stroke-width: 1.5;\" width=\"48\" x=\"158\" y=\"122\"/><text fill=\"#000000\" font-family=\"sans-serif\" font-size=\"12\" font-style=\"italic\" lengthAdjust=\"spacingAndGlyphs\" textLength=\"40\" x=\"162\" y=\"138.1387\">«part»</text><text fill=\"#000000\" font-family=\"sans-serif\" font-size=\"12\" lengthAdjust=\"spacingAndGlyphs\" textLength=\"42\" x=\"161\" y=\"152.1074\">g: Part</text><line style=\"stroke: #383838; stroke-width: 1.5;\" x1=\"159\" x2=\"205\" y1=\"159.9375\" y2=\"159.9375\"/><!--MD5=[209b3feb70ccb6233bfe1053d122c12c]\n",
       "reverse link E2 to E3--><path d=\"M100.33,64 C118.84,64 141.19,64 157.67,64 \" fill=\"none\" id=\"E2&lt;-E3\" style=\"stroke: #383838; stroke-width: 1.0;\"/><polygon fill=\"#383838\" points=\"87.09,64,93.09,68,99.09,64,93.09,60,87.09,64\" style=\"stroke: #383838; stroke-width: 1.0;\"/><!--MD5=[62aa6af11e70f752912c1cb0466f24f7]\n",
       "reverse link E4 to E5--><path d=\"M111.06,145 C127.08,145 144.46,145 157.89,145 \" fill=\"none\" id=\"E4&lt;-E5\" style=\"stroke: #383838; stroke-width: 1.0;\"/><polygon fill=\"#383838\" points=\"98.03,145,104.03,149,110.03,145,104.03,141,98.03,145\" style=\"stroke: #383838; stroke-width: 1.0;\"/><!--MD5=[52b46f34bbb99bce94483bcd1842abd1]\n",
       "@startuml\r\n",
       "left to right direction\r\n",
       "skinparam monochrome true\r\n",
       "skinparam classbackgroundcolor white\r\n",
       "skinparam shadowing false\r\n",
       "skinparam wrapWidth 300\r\n",
       "hide circle\r\n",
       "\r\n",
       "package \"Q\" as E1   {\r\n",
       "comp usage \"f: Part\" as E2  <<(T,blue)part>> {\r\n",
       "}\r\n",
       "comp usage \"a: Part\" as E3  <<(T,blue)part>> {\r\n",
       "}\r\n",
       "comp def \"C\" as E4  <<(T,blue)part def>> {\r\n",
       "}\r\n",
       "comp usage \"g: Part\" as E5  <<(T,blue)part>> {\r\n",
       "}\r\n",
       "E2 *- - E3\r\n",
       "E4 *- - E5\r\n",
       "}\r\n",
       "@enduml\r\n",
       "\n",
       "PlantUML version 1.2020.13(Sat Jun 13 12:26:38 UTC 2020)\n",
       "(EPL source distribution)\n",
       "Java Runtime: OpenJDK Runtime Environment\n",
       "JVM: OpenJDK 64-Bit Server VM\n",
       "Default Encoding: UTF-8\n",
       "Language: en\n",
       "Country: null\n",
       "--></g></svg>"
      ]
     },
     "execution_count": 22,
     "metadata": {},
     "output_type": "execute_result"
    }
   ],
   "source": [
    "%viz --style=\"LR\" --view=\"MIXED\" \"Q\""
   ]
  },
  {
   "cell_type": "code",
   "execution_count": 23,
   "id": "integrated-rocket",
   "metadata": {
    "execution": {
     "iopub.execute_input": "2021-03-25T15:59:36.958448Z",
     "iopub.status.busy": "2021-03-25T15:59:36.957665Z",
     "iopub.status.idle": "2021-03-25T15:59:37.131841Z",
     "shell.execute_reply": "2021-03-25T15:59:37.129793Z"
    }
   },
   "outputs": [
    {
     "data": {
      "image/svg+xml": [
       "<?xml version=\"1.0\" encoding=\"UTF-8\" standalone=\"no\"?><svg xmlns=\"http://www.w3.org/2000/svg\" xmlns:xlink=\"http://www.w3.org/1999/xlink\" contentScriptType=\"application/ecmascript\" contentStyleType=\"text/css\" height=\"221px\" preserveAspectRatio=\"none\" style=\"width:215px;height:221px;\" version=\"1.1\" viewBox=\"0 0 215 221\" width=\"215px\" zoomAndPan=\"magnify\"><defs><filter height=\"300%\" id=\"fhm83pyot7fyo\" width=\"300%\" x=\"-1\" y=\"-1\"><feGaussianBlur result=\"blurOut\" stdDeviation=\"2.0\"/><feColorMatrix in=\"blurOut\" result=\"blurOut2\" type=\"matrix\" values=\"0 0 0 0 0 0 0 0 0 0 0 0 0 0 0 0 0 0 .4 0\"/><feOffset dx=\"4.0\" dy=\"4.0\" in=\"blurOut2\" result=\"blurOut3\"/><feBlend in=\"SourceGraphic\" in2=\"blurOut3\" mode=\"normal\"/></filter></defs><g><!--MD5=[fbc87193dbaf4d95561dea2c320d4a47]\n",
       "cluster E1--><polygon fill=\"#FFFFFF\" filter=\"url(#fhm83pyot7fyo)\" points=\"16,6,34,6,41,28.2969,193,28.2969,193,209,16,209,16,6\" style=\"stroke: #000000; stroke-width: 1.5;\"/><line style=\"stroke: #000000; stroke-width: 1.5;\" x1=\"16\" x2=\"41\" y1=\"28.2969\" y2=\"28.2969\"/><text fill=\"#000000\" font-family=\"sans-serif\" font-size=\"14\" font-weight=\"bold\" lengthAdjust=\"spacingAndGlyphs\" textLength=\"12\" x=\"20\" y=\"20.9951\">Q</text><!--MD5=[b4997ac47864f28c2f74865a473b2911]\n",
       "class E2--><rect fill=\"#FEFECE\" filter=\"url(#fhm83pyot7fyo)\" height=\"45.9375\" id=\"E2\" rx=\"10\" ry=\"10\" style=\"stroke: #A80036; stroke-width: 1.5;\" width=\"44\" x=\"133\" y=\"41\"/><text fill=\"#000000\" font-family=\"sans-serif\" font-size=\"12\" font-style=\"italic\" lengthAdjust=\"spacingAndGlyphs\" textLength=\"40\" x=\"135\" y=\"57.1387\">«part»</text><text fill=\"#000000\" font-family=\"sans-serif\" font-size=\"12\" lengthAdjust=\"spacingAndGlyphs\" textLength=\"38\" x=\"136\" y=\"71.1074\">f: Part</text><line style=\"stroke: #A80036; stroke-width: 1.5;\" x1=\"134\" x2=\"176\" y1=\"78.9375\" y2=\"78.9375\"/><!--MD5=[09b614a08d8cba4a07c9adeb5e0fee81]\n",
       "class E3--><rect fill=\"#FEFECE\" filter=\"url(#fhm83pyot7fyo)\" height=\"45.9375\" id=\"E3\" rx=\"10\" ry=\"10\" style=\"stroke: #A80036; stroke-width: 1.5;\" width=\"48\" x=\"129\" y=\"147\"/><text fill=\"#000000\" font-family=\"sans-serif\" font-size=\"12\" font-style=\"italic\" lengthAdjust=\"spacingAndGlyphs\" textLength=\"40\" x=\"133\" y=\"163.1387\">«part»</text><text fill=\"#000000\" font-family=\"sans-serif\" font-size=\"12\" lengthAdjust=\"spacingAndGlyphs\" textLength=\"42\" x=\"132\" y=\"177.1074\">a: Part</text><line style=\"stroke: #A80036; stroke-width: 1.5;\" x1=\"130\" x2=\"176\" y1=\"184.9375\" y2=\"184.9375\"/><!--MD5=[ebbe1d658d1005bcc118a6aa81145e00]\n",
       "class E4--><rect fill=\"#FEFECE\" filter=\"url(#fhm83pyot7fyo)\" height=\"45.9375\" id=\"E4\" style=\"stroke: #A80036; stroke-width: 1.5;\" width=\"66\" x=\"32\" y=\"41\"/><text fill=\"#000000\" font-family=\"sans-serif\" font-size=\"12\" font-style=\"italic\" lengthAdjust=\"spacingAndGlyphs\" textLength=\"64\" x=\"33\" y=\"57.1387\">«part def»</text><text fill=\"#000000\" font-family=\"sans-serif\" font-size=\"12\" lengthAdjust=\"spacingAndGlyphs\" textLength=\"8\" x=\"61\" y=\"71.1074\">C</text><line style=\"stroke: #A80036; stroke-width: 1.5;\" x1=\"33\" x2=\"97\" y1=\"78.9375\" y2=\"78.9375\"/><!--MD5=[270fce915f116d4de14055a7c1d9a0f3]\n",
       "class E5--><rect fill=\"#FEFECE\" filter=\"url(#fhm83pyot7fyo)\" height=\"45.9375\" id=\"E5\" rx=\"10\" ry=\"10\" style=\"stroke: #A80036; stroke-width: 1.5;\" width=\"48\" x=\"41\" y=\"147\"/><text fill=\"#000000\" font-family=\"sans-serif\" font-size=\"12\" font-style=\"italic\" lengthAdjust=\"spacingAndGlyphs\" textLength=\"40\" x=\"45\" y=\"163.1387\">«part»</text><text fill=\"#000000\" font-family=\"sans-serif\" font-size=\"12\" lengthAdjust=\"spacingAndGlyphs\" textLength=\"42\" x=\"44\" y=\"177.1074\">g: Part</text><line style=\"stroke: #A80036; stroke-width: 1.5;\" x1=\"42\" x2=\"88\" y1=\"184.9375\" y2=\"184.9375\"/><!--MD5=[209b3feb70ccb6233bfe1053d122c12c]\n",
       "reverse link E2 to E3--><path d=\"M154.32,100.44 C154.02,115.87 153.68,133.47 153.42,146.98 \" fill=\"none\" id=\"E2&lt;-E3\" style=\"stroke: #A80036; stroke-width: 1.0;\"/><polygon fill=\"#A80036\" points=\"154.58,87.06,150.4685,92.9842,154.3556,99.0579,158.4671,93.1337,154.58,87.06\" style=\"stroke: #A80036; stroke-width: 1.0;\"/><!--MD5=[62aa6af11e70f752912c1cb0466f24f7]\n",
       "reverse link E4 to E5--><path d=\"M65,100.44 C65,115.87 65,133.47 65,146.98 \" fill=\"none\" id=\"E4&lt;-E5\" style=\"stroke: #A80036; stroke-width: 1.0;\"/><polygon fill=\"#A80036\" points=\"65,87.06,61,93.06,65,99.06,69,93.06,65,87.06\" style=\"stroke: #A80036; stroke-width: 1.0;\"/><!--MD5=[58e1442d48ed5a0755b31e474231a5b0]\n",
       "@startuml\r\n",
       "skinparam wrapWidth 300\r\n",
       "hide circle\r\n",
       "\r\n",
       "package \"Q\" as E1   {\r\n",
       "comp usage \"f: Part\" as E2  <<(T,blue)part>> {\r\n",
       "}\r\n",
       "comp usage \"a: Part\" as E3  <<(T,blue)part>> {\r\n",
       "}\r\n",
       "comp def \"C\" as E4  <<(T,blue)part def>> {\r\n",
       "}\r\n",
       "comp usage \"g: Part\" as E5  <<(T,blue)part>> {\r\n",
       "}\r\n",
       "E2 *- - E3\r\n",
       "E4 *- - E5\r\n",
       "}\r\n",
       "@enduml\r\n",
       "\n",
       "PlantUML version 1.2020.13(Sat Jun 13 12:26:38 UTC 2020)\n",
       "(EPL source distribution)\n",
       "Java Runtime: OpenJDK Runtime Environment\n",
       "JVM: OpenJDK 64-Bit Server VM\n",
       "Default Encoding: UTF-8\n",
       "Language: en\n",
       "Country: null\n",
       "--></g></svg>"
      ]
     },
     "execution_count": 23,
     "metadata": {},
     "output_type": "execute_result"
    }
   ],
   "source": [
    "%viz --style=\"STDCOLOR\" --view=\"Default\" \"Q\""
   ]
  },
  {
   "cell_type": "code",
   "execution_count": 24,
   "id": "naughty-tuning",
   "metadata": {
    "execution": {
     "iopub.execute_input": "2021-03-25T15:59:37.175984Z",
     "iopub.status.busy": "2021-03-25T15:59:37.173071Z",
     "iopub.status.idle": "2021-03-25T15:59:37.290662Z",
     "shell.execute_reply": "2021-03-25T15:59:37.289939Z"
    }
   },
   "outputs": [
    {
     "data": {
      "image/svg+xml": [
       "<?xml version=\"1.0\" encoding=\"UTF-8\" standalone=\"no\"?><svg xmlns=\"http://www.w3.org/2000/svg\" xmlns:xlink=\"http://www.w3.org/1999/xlink\" contentScriptType=\"application/ecmascript\" contentStyleType=\"text/css\" height=\"221px\" preserveAspectRatio=\"none\" style=\"width:215px;height:221px;\" version=\"1.1\" viewBox=\"0 0 215 221\" width=\"215px\" zoomAndPan=\"magnify\"><defs><filter height=\"300%\" id=\"fhm83pyot7fyo\" width=\"300%\" x=\"-1\" y=\"-1\"><feGaussianBlur result=\"blurOut\" stdDeviation=\"2.0\"/><feColorMatrix in=\"blurOut\" result=\"blurOut2\" type=\"matrix\" values=\"0 0 0 0 0 0 0 0 0 0 0 0 0 0 0 0 0 0 .4 0\"/><feOffset dx=\"4.0\" dy=\"4.0\" in=\"blurOut2\" result=\"blurOut3\"/><feBlend in=\"SourceGraphic\" in2=\"blurOut3\" mode=\"normal\"/></filter></defs><g><!--MD5=[fbc87193dbaf4d95561dea2c320d4a47]\n",
       "cluster E1--><polygon fill=\"#FFFFFF\" filter=\"url(#fhm83pyot7fyo)\" points=\"16,6,34,6,41,28.2969,193,28.2969,193,209,16,209,16,6\" style=\"stroke: #000000; stroke-width: 1.5;\"/><line style=\"stroke: #000000; stroke-width: 1.5;\" x1=\"16\" x2=\"41\" y1=\"28.2969\" y2=\"28.2969\"/><text fill=\"#000000\" font-family=\"sans-serif\" font-size=\"14\" font-weight=\"bold\" lengthAdjust=\"spacingAndGlyphs\" textLength=\"12\" x=\"20\" y=\"20.9951\">Q</text><!--MD5=[b4997ac47864f28c2f74865a473b2911]\n",
       "class E2--><rect fill=\"#FEFECE\" filter=\"url(#fhm83pyot7fyo)\" height=\"45.9375\" id=\"E2\" rx=\"10\" ry=\"10\" style=\"stroke: #A80036; stroke-width: 1.5;\" width=\"44\" x=\"133\" y=\"41\"/><text fill=\"#000000\" font-family=\"sans-serif\" font-size=\"12\" font-style=\"italic\" lengthAdjust=\"spacingAndGlyphs\" textLength=\"40\" x=\"135\" y=\"57.1387\">«part»</text><text fill=\"#000000\" font-family=\"sans-serif\" font-size=\"12\" lengthAdjust=\"spacingAndGlyphs\" textLength=\"38\" x=\"136\" y=\"71.1074\">f: Part</text><line style=\"stroke: #A80036; stroke-width: 1.5;\" x1=\"134\" x2=\"176\" y1=\"78.9375\" y2=\"78.9375\"/><!--MD5=[09b614a08d8cba4a07c9adeb5e0fee81]\n",
       "class E3--><rect fill=\"#FEFECE\" filter=\"url(#fhm83pyot7fyo)\" height=\"45.9375\" id=\"E3\" rx=\"10\" ry=\"10\" style=\"stroke: #A80036; stroke-width: 1.5;\" width=\"48\" x=\"129\" y=\"147\"/><text fill=\"#000000\" font-family=\"sans-serif\" font-size=\"12\" font-style=\"italic\" lengthAdjust=\"spacingAndGlyphs\" textLength=\"40\" x=\"133\" y=\"163.1387\">«part»</text><text fill=\"#000000\" font-family=\"sans-serif\" font-size=\"12\" lengthAdjust=\"spacingAndGlyphs\" textLength=\"42\" x=\"132\" y=\"177.1074\">a: Part</text><line style=\"stroke: #A80036; stroke-width: 1.5;\" x1=\"130\" x2=\"176\" y1=\"184.9375\" y2=\"184.9375\"/><!--MD5=[ebbe1d658d1005bcc118a6aa81145e00]\n",
       "class E4--><rect fill=\"#FEFECE\" filter=\"url(#fhm83pyot7fyo)\" height=\"45.9375\" id=\"E4\" style=\"stroke: #A80036; stroke-width: 1.5;\" width=\"66\" x=\"32\" y=\"41\"/><text fill=\"#000000\" font-family=\"sans-serif\" font-size=\"12\" font-style=\"italic\" lengthAdjust=\"spacingAndGlyphs\" textLength=\"64\" x=\"33\" y=\"57.1387\">«part def»</text><text fill=\"#000000\" font-family=\"sans-serif\" font-size=\"12\" lengthAdjust=\"spacingAndGlyphs\" textLength=\"8\" x=\"61\" y=\"71.1074\">C</text><line style=\"stroke: #A80036; stroke-width: 1.5;\" x1=\"33\" x2=\"97\" y1=\"78.9375\" y2=\"78.9375\"/><!--MD5=[270fce915f116d4de14055a7c1d9a0f3]\n",
       "class E5--><rect fill=\"#FEFECE\" filter=\"url(#fhm83pyot7fyo)\" height=\"45.9375\" id=\"E5\" rx=\"10\" ry=\"10\" style=\"stroke: #A80036; stroke-width: 1.5;\" width=\"48\" x=\"41\" y=\"147\"/><text fill=\"#000000\" font-family=\"sans-serif\" font-size=\"12\" font-style=\"italic\" lengthAdjust=\"spacingAndGlyphs\" textLength=\"40\" x=\"45\" y=\"163.1387\">«part»</text><text fill=\"#000000\" font-family=\"sans-serif\" font-size=\"12\" lengthAdjust=\"spacingAndGlyphs\" textLength=\"42\" x=\"44\" y=\"177.1074\">g: Part</text><line style=\"stroke: #A80036; stroke-width: 1.5;\" x1=\"42\" x2=\"88\" y1=\"184.9375\" y2=\"184.9375\"/><!--MD5=[209b3feb70ccb6233bfe1053d122c12c]\n",
       "reverse link E2 to E3--><path d=\"M154.32,100.44 C154.02,115.87 153.68,133.47 153.42,146.98 \" fill=\"none\" id=\"E2&lt;-E3\" style=\"stroke: #A80036; stroke-width: 1.0;\"/><polygon fill=\"#A80036\" points=\"154.58,87.06,150.4685,92.9842,154.3556,99.0579,158.4671,93.1337,154.58,87.06\" style=\"stroke: #A80036; stroke-width: 1.0;\"/><!--MD5=[62aa6af11e70f752912c1cb0466f24f7]\n",
       "reverse link E4 to E5--><path d=\"M65,100.44 C65,115.87 65,133.47 65,146.98 \" fill=\"none\" id=\"E4&lt;-E5\" style=\"stroke: #A80036; stroke-width: 1.0;\"/><polygon fill=\"#A80036\" points=\"65,87.06,61,93.06,65,99.06,69,93.06,65,87.06\" style=\"stroke: #A80036; stroke-width: 1.0;\"/><!--MD5=[58e1442d48ed5a0755b31e474231a5b0]\n",
       "@startuml\r\n",
       "skinparam wrapWidth 300\r\n",
       "hide circle\r\n",
       "\r\n",
       "package \"Q\" as E1   {\r\n",
       "comp usage \"f: Part\" as E2  <<(T,blue)part>> {\r\n",
       "}\r\n",
       "comp usage \"a: Part\" as E3  <<(T,blue)part>> {\r\n",
       "}\r\n",
       "comp def \"C\" as E4  <<(T,blue)part def>> {\r\n",
       "}\r\n",
       "comp usage \"g: Part\" as E5  <<(T,blue)part>> {\r\n",
       "}\r\n",
       "E2 *- - E3\r\n",
       "E4 *- - E5\r\n",
       "}\r\n",
       "@enduml\r\n",
       "\n",
       "PlantUML version 1.2020.13(Sat Jun 13 12:26:38 UTC 2020)\n",
       "(EPL source distribution)\n",
       "Java Runtime: OpenJDK Runtime Environment\n",
       "JVM: OpenJDK 64-Bit Server VM\n",
       "Default Encoding: UTF-8\n",
       "Language: en\n",
       "Country: null\n",
       "--></g></svg>"
      ]
     },
     "execution_count": 24,
     "metadata": {},
     "output_type": "execute_result"
    }
   ],
   "source": [
    "%viz --style=\"STDCOLOR\" --view=\"Tree\" \"Q\""
   ]
  },
  {
   "cell_type": "code",
   "execution_count": 25,
   "id": "written-enforcement",
   "metadata": {
    "execution": {
     "iopub.execute_input": "2021-03-25T15:59:37.340885Z",
     "iopub.status.busy": "2021-03-25T15:59:37.339952Z",
     "iopub.status.idle": "2021-03-25T15:59:37.344402Z",
     "shell.execute_reply": "2021-03-25T15:59:37.344000Z"
    }
   },
   "outputs": [
    {
     "data": {
      "text/plain": [
       "java.lang.IllegalArgumentException: Invalid View: State View candidates are: Default Tree StateMachine Interconnection Activity Sequence MIXED \n",
       "\tat org.omg.sysml.plantuml.SysML2PlantUMLSvc.setView(SysML2PlantUMLSvc.java:63)\n",
       "\tat org.omg.sysml.interactive.SysMLInteractive.viz(SysMLInteractive.java:286)\n",
       "\tat org.omg.sysml.jupyter.kernel.magic.Viz.viz(Viz.java:47)\n",
       "\tat jdk.internal.reflect.GeneratedMethodAccessor12.invoke(Unknown Source)\n",
       "\tat java.base/jdk.internal.reflect.DelegatingMethodAccessorImpl.invoke(DelegatingMethodAccessorImpl.java:43)\n",
       "\tat java.base/java.lang.reflect.Method.invoke(Method.java:568)\n",
       "\tat io.github.spencerpark.jupyter.kernel.magic.registry.Magics.invoke(Magics.java:89)\n",
       "\tat io.github.spencerpark.jupyter.kernel.magic.registry.Magics.access$000(Magics.java:8)\n",
       "\tat io.github.spencerpark.jupyter.kernel.magic.registry.Magics$LineReflectionMagicFunction.execute(Magics.java:149)\n",
       "\tat io.github.spencerpark.jupyter.kernel.magic.registry.Magics.applyLineMagic(Magics.java:26)\n",
       "\tat org.omg.sysml.jupyter.kernel.SysMLKernel.eval(SysMLKernel.java:76)\n",
       "\tat io.github.spencerpark.jupyter.kernel.BaseKernel.handleExecuteRequest(BaseKernel.java:334)\n",
       "\tat io.github.spencerpark.jupyter.channels.ShellChannel.lambda$bind$0(ShellChannel.java:64)\n",
       "\tat io.github.spencerpark.jupyter.channels.Loop.lambda$new$0(Loop.java:21)\n",
       "\tat io.github.spencerpark.jupyter.channels.Loop.run(Loop.java:78)\n"
      ]
     },
     "execution_count": 25,
     "metadata": {},
     "output_type": "execute_result"
    }
   ],
   "source": [
    "%viz --style=\"STDCOLOR\" --view=\"State\" \"Q\""
   ]
  },
  {
   "cell_type": "code",
   "execution_count": 26,
   "id": "needed-brand",
   "metadata": {
    "execution": {
     "iopub.execute_input": "2021-03-25T15:59:37.395341Z",
     "iopub.status.busy": "2021-03-25T15:59:37.394549Z",
     "iopub.status.idle": "2021-03-25T15:59:37.480194Z",
     "shell.execute_reply": "2021-03-25T15:59:37.479546Z"
    }
   },
   "outputs": [
    {
     "data": {
      "image/svg+xml": [
       "<?xml version=\"1.0\" encoding=\"UTF-8\" standalone=\"no\"?><svg xmlns=\"http://www.w3.org/2000/svg\" xmlns:xlink=\"http://www.w3.org/1999/xlink\" contentScriptType=\"application/ecmascript\" contentStyleType=\"text/css\" height=\"202px\" preserveAspectRatio=\"none\" style=\"width:354px;height:202px;\" version=\"1.1\" viewBox=\"0 0 354 202\" width=\"354px\" zoomAndPan=\"magnify\"><defs><filter height=\"300%\" id=\"fj5jpf6hsfqbq\" width=\"300%\" x=\"-1\" y=\"-1\"><feGaussianBlur result=\"blurOut\" stdDeviation=\"2.0\"/><feColorMatrix in=\"blurOut\" result=\"blurOut2\" type=\"matrix\" values=\"0 0 0 0 0 0 0 0 0 0 0 0 0 0 0 0 0 0 .4 0\"/><feOffset dx=\"4.0\" dy=\"4.0\" in=\"blurOut2\" result=\"blurOut3\"/><feBlend in=\"SourceGraphic\" in2=\"blurOut3\" mode=\"normal\"/></filter></defs><g><!--MD5=[fbc87193dbaf4d95561dea2c320d4a47]\n",
       "cluster E1--><polygon fill=\"#FFFFFF\" filter=\"url(#fj5jpf6hsfqbq)\" points=\"16,6,34,6,41,28.2969,332,28.2969,332,190,16,190,16,6\" style=\"stroke: #000000; stroke-width: 1.5;\"/><line style=\"stroke: #000000; stroke-width: 1.5;\" x1=\"16\" x2=\"41\" y1=\"28.2969\" y2=\"28.2969\"/><text fill=\"#000000\" font-family=\"sans-serif\" font-size=\"14\" font-weight=\"bold\" lengthAdjust=\"spacingAndGlyphs\" textLength=\"12\" x=\"20\" y=\"20.9951\">Q</text><!--MD5=[e4f7fae6ed58524ba242bb0b0d3be6b7]\n",
       "cluster E2--><rect fill=\"#FEFECE\" filter=\"url(#fj5jpf6hsfqbq)\" height=\"101\" rx=\"12.5\" ry=\"12.5\" style=\"stroke: #000000; stroke-width: 1.5;\" width=\"96\" x=\"212\" y=\"65\"/><rect fill=\"#FFFFFF\" height=\"68.7031\" rx=\"12.5\" ry=\"12.5\" style=\"stroke: #FFFFFF; stroke-width: 1.0;\" width=\"90\" x=\"215\" y=\"94.2969\"/><line style=\"stroke: #000000; stroke-width: 1.5;\" x1=\"212\" x2=\"308\" y1=\"91.2969\" y2=\"91.2969\"/><text fill=\"#000000\" font-family=\"sans-serif\" font-size=\"14\" lengthAdjust=\"spacingAndGlyphs\" textLength=\"40\" x=\"240\" y=\"81.9951\">f: Part</text><!--MD5=[f6df4d0ebaf0b5dfb2ced0ae5af7c670]\n",
       "cluster E4--><rect fill=\"#FFFFFF\" filter=\"url(#fj5jpf6hsfqbq)\" height=\"117\" style=\"stroke: #000000; stroke-width: 1.5;\" width=\"148\" x=\"40\" y=\"49\"/><text fill=\"#000000\" font-family=\"sans-serif\" font-size=\"14\" font-style=\"italic\" lengthAdjust=\"spacingAndGlyphs\" textLength=\"71\" x=\"78.5\" y=\"63.9951\">«part def»</text><text fill=\"#000000\" font-family=\"sans-serif\" font-size=\"14\" font-weight=\"bold\" lengthAdjust=\"spacingAndGlyphs\" textLength=\"11\" x=\"108.5\" y=\"80.292\">C</text><g id=\"E1.E2.E3\"><rect fill=\"#FFFFFF\" filter=\"url(#fj5jpf6hsfqbq)\" height=\"50\" rx=\"12.5\" ry=\"12.5\" style=\"stroke: #A80036; stroke-width: 1.5;\" width=\"64\" x=\"228\" y=\"100\"/><line style=\"stroke: #A80036; stroke-width: 1.5;\" x1=\"228\" x2=\"292\" y1=\"126.2969\" y2=\"126.2969\"/><text fill=\"#000000\" font-family=\"sans-serif\" font-size=\"14\" lengthAdjust=\"spacingAndGlyphs\" textLength=\"44\" x=\"238\" y=\"117.9951\">a: Part</text></g><g id=\"E1.E4.E5\"><rect fill=\"#FFFFFF\" filter=\"url(#fj5jpf6hsfqbq)\" height=\"50\" rx=\"12.5\" ry=\"12.5\" style=\"stroke: #A80036; stroke-width: 1.5;\" width=\"116\" x=\"56\" y=\"100\"/><line style=\"stroke: #A80036; stroke-width: 1.5;\" x1=\"56\" x2=\"172\" y1=\"126.2969\" y2=\"126.2969\"/><text fill=\"#000000\" font-family=\"sans-serif\" font-size=\"14\" lengthAdjust=\"spacingAndGlyphs\" textLength=\"92\" x=\"66\" y=\"117.9951\">g: Part= ./f/a;</text></g><!--MD5=[3eb7bdd6d3c5e6b68ddae36d8f3af5ec]\n",
       "@startuml\r\n",
       "skinparam ranksep 8\r\n",
       "skinparam rectangle {\r\n",
       " backgroundColor<<block>> LightGreen\r\n",
       "}\r\n",
       "skinparam wrapWidth 300\r\n",
       "hide circle\r\n",
       "\r\n",
       "package \"Q\" as E1   {\r\n",
       "rec usage \"f: Part\" as E2  {\r\n",
       "rec usage \"a: Part\" as E3  {\r\n",
       "}\r\n",
       "}\r\n",
       "rec def \"C\" as E4  <<part def>> {\r\n",
       "rec usage \"g: Part= ./f/a; \" as E5  {\r\n",
       "}\r\n",
       "}\r\n",
       "}\r\n",
       "@enduml\r\n",
       "\n",
       "PlantUML version 1.2020.13(Sat Jun 13 12:26:38 UTC 2020)\n",
       "(EPL source distribution)\n",
       "Java Runtime: OpenJDK Runtime Environment\n",
       "JVM: OpenJDK 64-Bit Server VM\n",
       "Default Encoding: UTF-8\n",
       "Language: en\n",
       "Country: null\n",
       "--></g></svg>"
      ]
     },
     "execution_count": 26,
     "metadata": {},
     "output_type": "execute_result"
    }
   ],
   "source": [
    "%viz --style=\"STDCOLOR\" --view=\"Interconnection\" \"Q\""
   ]
  },
  {
   "cell_type": "code",
   "execution_count": 27,
   "id": "unexpected-desktop",
   "metadata": {
    "execution": {
     "iopub.execute_input": "2021-03-25T15:59:37.534814Z",
     "iopub.status.busy": "2021-03-25T15:59:37.533920Z",
     "iopub.status.idle": "2021-03-25T15:59:37.545288Z",
     "shell.execute_reply": "2021-03-25T15:59:37.546470Z"
    }
   },
   "outputs": [
    {
     "data": {
      "text/plain": [
       "java.lang.IllegalArgumentException: Invalid View: Action View candidates are: Default Tree StateMachine Interconnection Activity Sequence MIXED \n",
       "\tat org.omg.sysml.plantuml.SysML2PlantUMLSvc.setView(SysML2PlantUMLSvc.java:63)\n",
       "\tat org.omg.sysml.interactive.SysMLInteractive.viz(SysMLInteractive.java:286)\n",
       "\tat org.omg.sysml.jupyter.kernel.magic.Viz.viz(Viz.java:47)\n",
       "\tat jdk.internal.reflect.GeneratedMethodAccessor12.invoke(Unknown Source)\n",
       "\tat java.base/jdk.internal.reflect.DelegatingMethodAccessorImpl.invoke(DelegatingMethodAccessorImpl.java:43)\n",
       "\tat java.base/java.lang.reflect.Method.invoke(Method.java:568)\n",
       "\tat io.github.spencerpark.jupyter.kernel.magic.registry.Magics.invoke(Magics.java:89)\n",
       "\tat io.github.spencerpark.jupyter.kernel.magic.registry.Magics.access$000(Magics.java:8)\n",
       "\tat io.github.spencerpark.jupyter.kernel.magic.registry.Magics$LineReflectionMagicFunction.execute(Magics.java:149)\n",
       "\tat io.github.spencerpark.jupyter.kernel.magic.registry.Magics.applyLineMagic(Magics.java:26)\n",
       "\tat org.omg.sysml.jupyter.kernel.SysMLKernel.eval(SysMLKernel.java:76)\n",
       "\tat io.github.spencerpark.jupyter.kernel.BaseKernel.handleExecuteRequest(BaseKernel.java:334)\n",
       "\tat io.github.spencerpark.jupyter.channels.ShellChannel.lambda$bind$0(ShellChannel.java:64)\n",
       "\tat io.github.spencerpark.jupyter.channels.Loop.lambda$new$0(Loop.java:21)\n",
       "\tat io.github.spencerpark.jupyter.channels.Loop.run(Loop.java:78)\n"
      ]
     },
     "execution_count": 27,
     "metadata": {},
     "output_type": "execute_result"
    }
   ],
   "source": [
    "%viz --style=\"STDCOLOR\" --view=\"Action\" \"Q\""
   ]
  },
  {
   "cell_type": "code",
   "execution_count": 28,
   "id": "random-research",
   "metadata": {
    "execution": {
     "iopub.execute_input": "2021-03-25T15:59:37.598213Z",
     "iopub.status.busy": "2021-03-25T15:59:37.597577Z",
     "iopub.status.idle": "2021-03-25T15:59:37.698863Z",
     "shell.execute_reply": "2021-03-25T15:59:37.697754Z"
    }
   },
   "outputs": [
    {
     "data": {
      "image/svg+xml": [
       "<?xml version=\"1.0\" encoding=\"UTF-8\" standalone=\"no\"?><svg xmlns=\"http://www.w3.org/2000/svg\" xmlns:xlink=\"http://www.w3.org/1999/xlink\" contentScriptType=\"application/ecmascript\" contentStyleType=\"text/css\" height=\"221px\" preserveAspectRatio=\"none\" style=\"width:215px;height:221px;\" version=\"1.1\" viewBox=\"0 0 215 221\" width=\"215px\" zoomAndPan=\"magnify\"><defs><filter height=\"300%\" id=\"fhm83pyot7fyo\" width=\"300%\" x=\"-1\" y=\"-1\"><feGaussianBlur result=\"blurOut\" stdDeviation=\"2.0\"/><feColorMatrix in=\"blurOut\" result=\"blurOut2\" type=\"matrix\" values=\"0 0 0 0 0 0 0 0 0 0 0 0 0 0 0 0 0 0 .4 0\"/><feOffset dx=\"4.0\" dy=\"4.0\" in=\"blurOut2\" result=\"blurOut3\"/><feBlend in=\"SourceGraphic\" in2=\"blurOut3\" mode=\"normal\"/></filter></defs><g><!--MD5=[fbc87193dbaf4d95561dea2c320d4a47]\n",
       "cluster E1--><polygon fill=\"#FFFFFF\" filter=\"url(#fhm83pyot7fyo)\" points=\"16,6,34,6,41,28.2969,193,28.2969,193,209,16,209,16,6\" style=\"stroke: #000000; stroke-width: 1.5;\"/><line style=\"stroke: #000000; stroke-width: 1.5;\" x1=\"16\" x2=\"41\" y1=\"28.2969\" y2=\"28.2969\"/><text fill=\"#000000\" font-family=\"sans-serif\" font-size=\"14\" font-weight=\"bold\" lengthAdjust=\"spacingAndGlyphs\" textLength=\"12\" x=\"20\" y=\"20.9951\">Q</text><!--MD5=[b4997ac47864f28c2f74865a473b2911]\n",
       "class E2--><rect fill=\"#FEFECE\" filter=\"url(#fhm83pyot7fyo)\" height=\"45.9375\" id=\"E2\" rx=\"10\" ry=\"10\" style=\"stroke: #A80036; stroke-width: 1.5;\" width=\"44\" x=\"133\" y=\"41\"/><text fill=\"#000000\" font-family=\"sans-serif\" font-size=\"12\" font-style=\"italic\" lengthAdjust=\"spacingAndGlyphs\" textLength=\"40\" x=\"135\" y=\"57.1387\">«part»</text><text fill=\"#000000\" font-family=\"sans-serif\" font-size=\"12\" lengthAdjust=\"spacingAndGlyphs\" textLength=\"38\" x=\"136\" y=\"71.1074\">f: Part</text><line style=\"stroke: #A80036; stroke-width: 1.5;\" x1=\"134\" x2=\"176\" y1=\"78.9375\" y2=\"78.9375\"/><!--MD5=[09b614a08d8cba4a07c9adeb5e0fee81]\n",
       "class E3--><rect fill=\"#FEFECE\" filter=\"url(#fhm83pyot7fyo)\" height=\"45.9375\" id=\"E3\" rx=\"10\" ry=\"10\" style=\"stroke: #A80036; stroke-width: 1.5;\" width=\"48\" x=\"129\" y=\"147\"/><text fill=\"#000000\" font-family=\"sans-serif\" font-size=\"12\" font-style=\"italic\" lengthAdjust=\"spacingAndGlyphs\" textLength=\"40\" x=\"133\" y=\"163.1387\">«part»</text><text fill=\"#000000\" font-family=\"sans-serif\" font-size=\"12\" lengthAdjust=\"spacingAndGlyphs\" textLength=\"42\" x=\"132\" y=\"177.1074\">a: Part</text><line style=\"stroke: #A80036; stroke-width: 1.5;\" x1=\"130\" x2=\"176\" y1=\"184.9375\" y2=\"184.9375\"/><!--MD5=[ebbe1d658d1005bcc118a6aa81145e00]\n",
       "class E4--><rect fill=\"#FEFECE\" filter=\"url(#fhm83pyot7fyo)\" height=\"45.9375\" id=\"E4\" style=\"stroke: #A80036; stroke-width: 1.5;\" width=\"66\" x=\"32\" y=\"41\"/><text fill=\"#000000\" font-family=\"sans-serif\" font-size=\"12\" font-style=\"italic\" lengthAdjust=\"spacingAndGlyphs\" textLength=\"64\" x=\"33\" y=\"57.1387\">«part def»</text><text fill=\"#000000\" font-family=\"sans-serif\" font-size=\"12\" lengthAdjust=\"spacingAndGlyphs\" textLength=\"8\" x=\"61\" y=\"71.1074\">C</text><line style=\"stroke: #A80036; stroke-width: 1.5;\" x1=\"33\" x2=\"97\" y1=\"78.9375\" y2=\"78.9375\"/><!--MD5=[270fce915f116d4de14055a7c1d9a0f3]\n",
       "class E5--><rect fill=\"#FEFECE\" filter=\"url(#fhm83pyot7fyo)\" height=\"45.9375\" id=\"E5\" rx=\"10\" ry=\"10\" style=\"stroke: #A80036; stroke-width: 1.5;\" width=\"48\" x=\"41\" y=\"147\"/><text fill=\"#000000\" font-family=\"sans-serif\" font-size=\"12\" font-style=\"italic\" lengthAdjust=\"spacingAndGlyphs\" textLength=\"40\" x=\"45\" y=\"163.1387\">«part»</text><text fill=\"#000000\" font-family=\"sans-serif\" font-size=\"12\" lengthAdjust=\"spacingAndGlyphs\" textLength=\"42\" x=\"44\" y=\"177.1074\">g: Part</text><line style=\"stroke: #A80036; stroke-width: 1.5;\" x1=\"42\" x2=\"88\" y1=\"184.9375\" y2=\"184.9375\"/><!--MD5=[209b3feb70ccb6233bfe1053d122c12c]\n",
       "reverse link E2 to E3--><path d=\"M154.32,100.44 C154.02,115.87 153.68,133.47 153.42,146.98 \" fill=\"none\" id=\"E2&lt;-E3\" style=\"stroke: #A80036; stroke-width: 1.0;\"/><polygon fill=\"#A80036\" points=\"154.58,87.06,150.4685,92.9842,154.3556,99.0579,158.4671,93.1337,154.58,87.06\" style=\"stroke: #A80036; stroke-width: 1.0;\"/><!--MD5=[62aa6af11e70f752912c1cb0466f24f7]\n",
       "reverse link E4 to E5--><path d=\"M65,100.44 C65,115.87 65,133.47 65,146.98 \" fill=\"none\" id=\"E4&lt;-E5\" style=\"stroke: #A80036; stroke-width: 1.0;\"/><polygon fill=\"#A80036\" points=\"65,87.06,61,93.06,65,99.06,69,93.06,65,87.06\" style=\"stroke: #A80036; stroke-width: 1.0;\"/><!--MD5=[58e1442d48ed5a0755b31e474231a5b0]\n",
       "@startuml\r\n",
       "skinparam wrapWidth 300\r\n",
       "hide circle\r\n",
       "\r\n",
       "package \"Q\" as E1   {\r\n",
       "comp usage \"f: Part\" as E2  <<(T,blue)part>> {\r\n",
       "}\r\n",
       "comp usage \"a: Part\" as E3  <<(T,blue)part>> {\r\n",
       "}\r\n",
       "comp def \"C\" as E4  <<(T,blue)part def>> {\r\n",
       "}\r\n",
       "comp usage \"g: Part\" as E5  <<(T,blue)part>> {\r\n",
       "}\r\n",
       "E2 *- - E3\r\n",
       "E4 *- - E5\r\n",
       "}\r\n",
       "@enduml\r\n",
       "\n",
       "PlantUML version 1.2020.13(Sat Jun 13 12:26:38 UTC 2020)\n",
       "(EPL source distribution)\n",
       "Java Runtime: OpenJDK Runtime Environment\n",
       "JVM: OpenJDK 64-Bit Server VM\n",
       "Default Encoding: UTF-8\n",
       "Language: en\n",
       "Country: null\n",
       "--></g></svg>"
      ]
     },
     "execution_count": 28,
     "metadata": {},
     "output_type": "execute_result"
    }
   ],
   "source": [
    "%viz --style=\"STDCOLOR\" --view=\"Sequence\" \"Q\""
   ]
  },
  {
   "cell_type": "code",
   "execution_count": 29,
   "id": "limiting-insulation",
   "metadata": {
    "execution": {
     "iopub.execute_input": "2021-03-25T15:59:37.747431Z",
     "iopub.status.busy": "2021-03-25T15:59:37.746991Z",
     "iopub.status.idle": "2021-03-25T15:59:37.855105Z",
     "shell.execute_reply": "2021-03-25T15:59:37.847500Z"
    }
   },
   "outputs": [
    {
     "data": {
      "image/svg+xml": [
       "<?xml version=\"1.0\" encoding=\"UTF-8\" standalone=\"no\"?><svg xmlns=\"http://www.w3.org/2000/svg\" xmlns:xlink=\"http://www.w3.org/1999/xlink\" contentScriptType=\"application/ecmascript\" contentStyleType=\"text/css\" height=\"221px\" preserveAspectRatio=\"none\" style=\"width:215px;height:221px;\" version=\"1.1\" viewBox=\"0 0 215 221\" width=\"215px\" zoomAndPan=\"magnify\"><defs><filter height=\"300%\" id=\"fhm83pyot7fyo\" width=\"300%\" x=\"-1\" y=\"-1\"><feGaussianBlur result=\"blurOut\" stdDeviation=\"2.0\"/><feColorMatrix in=\"blurOut\" result=\"blurOut2\" type=\"matrix\" values=\"0 0 0 0 0 0 0 0 0 0 0 0 0 0 0 0 0 0 .4 0\"/><feOffset dx=\"4.0\" dy=\"4.0\" in=\"blurOut2\" result=\"blurOut3\"/><feBlend in=\"SourceGraphic\" in2=\"blurOut3\" mode=\"normal\"/></filter></defs><g><!--MD5=[fbc87193dbaf4d95561dea2c320d4a47]\n",
       "cluster E1--><polygon fill=\"#FFFFFF\" filter=\"url(#fhm83pyot7fyo)\" points=\"16,6,34,6,41,28.2969,193,28.2969,193,209,16,209,16,6\" style=\"stroke: #000000; stroke-width: 1.5;\"/><line style=\"stroke: #000000; stroke-width: 1.5;\" x1=\"16\" x2=\"41\" y1=\"28.2969\" y2=\"28.2969\"/><text fill=\"#000000\" font-family=\"sans-serif\" font-size=\"14\" font-weight=\"bold\" lengthAdjust=\"spacingAndGlyphs\" textLength=\"12\" x=\"20\" y=\"20.9951\">Q</text><!--MD5=[b4997ac47864f28c2f74865a473b2911]\n",
       "class E2--><rect fill=\"#FEFECE\" filter=\"url(#fhm83pyot7fyo)\" height=\"45.9375\" id=\"E2\" rx=\"10\" ry=\"10\" style=\"stroke: #A80036; stroke-width: 1.5;\" width=\"44\" x=\"133\" y=\"41\"/><text fill=\"#000000\" font-family=\"sans-serif\" font-size=\"12\" font-style=\"italic\" lengthAdjust=\"spacingAndGlyphs\" textLength=\"40\" x=\"135\" y=\"57.1387\">«part»</text><text fill=\"#000000\" font-family=\"sans-serif\" font-size=\"12\" lengthAdjust=\"spacingAndGlyphs\" textLength=\"38\" x=\"136\" y=\"71.1074\">f: Part</text><line style=\"stroke: #A80036; stroke-width: 1.5;\" x1=\"134\" x2=\"176\" y1=\"78.9375\" y2=\"78.9375\"/><!--MD5=[09b614a08d8cba4a07c9adeb5e0fee81]\n",
       "class E3--><rect fill=\"#FEFECE\" filter=\"url(#fhm83pyot7fyo)\" height=\"45.9375\" id=\"E3\" rx=\"10\" ry=\"10\" style=\"stroke: #A80036; stroke-width: 1.5;\" width=\"48\" x=\"129\" y=\"147\"/><text fill=\"#000000\" font-family=\"sans-serif\" font-size=\"12\" font-style=\"italic\" lengthAdjust=\"spacingAndGlyphs\" textLength=\"40\" x=\"133\" y=\"163.1387\">«part»</text><text fill=\"#000000\" font-family=\"sans-serif\" font-size=\"12\" lengthAdjust=\"spacingAndGlyphs\" textLength=\"42\" x=\"132\" y=\"177.1074\">a: Part</text><line style=\"stroke: #A80036; stroke-width: 1.5;\" x1=\"130\" x2=\"176\" y1=\"184.9375\" y2=\"184.9375\"/><!--MD5=[ebbe1d658d1005bcc118a6aa81145e00]\n",
       "class E4--><rect fill=\"#FEFECE\" filter=\"url(#fhm83pyot7fyo)\" height=\"45.9375\" id=\"E4\" style=\"stroke: #A80036; stroke-width: 1.5;\" width=\"66\" x=\"32\" y=\"41\"/><text fill=\"#000000\" font-family=\"sans-serif\" font-size=\"12\" font-style=\"italic\" lengthAdjust=\"spacingAndGlyphs\" textLength=\"64\" x=\"33\" y=\"57.1387\">«part def»</text><text fill=\"#000000\" font-family=\"sans-serif\" font-size=\"12\" lengthAdjust=\"spacingAndGlyphs\" textLength=\"8\" x=\"61\" y=\"71.1074\">C</text><line style=\"stroke: #A80036; stroke-width: 1.5;\" x1=\"33\" x2=\"97\" y1=\"78.9375\" y2=\"78.9375\"/><!--MD5=[270fce915f116d4de14055a7c1d9a0f3]\n",
       "class E5--><rect fill=\"#FEFECE\" filter=\"url(#fhm83pyot7fyo)\" height=\"45.9375\" id=\"E5\" rx=\"10\" ry=\"10\" style=\"stroke: #A80036; stroke-width: 1.5;\" width=\"48\" x=\"41\" y=\"147\"/><text fill=\"#000000\" font-family=\"sans-serif\" font-size=\"12\" font-style=\"italic\" lengthAdjust=\"spacingAndGlyphs\" textLength=\"40\" x=\"45\" y=\"163.1387\">«part»</text><text fill=\"#000000\" font-family=\"sans-serif\" font-size=\"12\" lengthAdjust=\"spacingAndGlyphs\" textLength=\"42\" x=\"44\" y=\"177.1074\">g: Part</text><line style=\"stroke: #A80036; stroke-width: 1.5;\" x1=\"42\" x2=\"88\" y1=\"184.9375\" y2=\"184.9375\"/><!--MD5=[209b3feb70ccb6233bfe1053d122c12c]\n",
       "reverse link E2 to E3--><path d=\"M154.32,100.44 C154.02,115.87 153.68,133.47 153.42,146.98 \" fill=\"none\" id=\"E2&lt;-E3\" style=\"stroke: #A80036; stroke-width: 1.0;\"/><polygon fill=\"#A80036\" points=\"154.58,87.06,150.4685,92.9842,154.3556,99.0579,158.4671,93.1337,154.58,87.06\" style=\"stroke: #A80036; stroke-width: 1.0;\"/><!--MD5=[62aa6af11e70f752912c1cb0466f24f7]\n",
       "reverse link E4 to E5--><path d=\"M65,100.44 C65,115.87 65,133.47 65,146.98 \" fill=\"none\" id=\"E4&lt;-E5\" style=\"stroke: #A80036; stroke-width: 1.0;\"/><polygon fill=\"#A80036\" points=\"65,87.06,61,93.06,65,99.06,69,93.06,65,87.06\" style=\"stroke: #A80036; stroke-width: 1.0;\"/><!--MD5=[58e1442d48ed5a0755b31e474231a5b0]\n",
       "@startuml\r\n",
       "skinparam wrapWidth 300\r\n",
       "hide circle\r\n",
       "\r\n",
       "package \"Q\" as E1   {\r\n",
       "comp usage \"f: Part\" as E2  <<(T,blue)part>> {\r\n",
       "}\r\n",
       "comp usage \"a: Part\" as E3  <<(T,blue)part>> {\r\n",
       "}\r\n",
       "comp def \"C\" as E4  <<(T,blue)part def>> {\r\n",
       "}\r\n",
       "comp usage \"g: Part\" as E5  <<(T,blue)part>> {\r\n",
       "}\r\n",
       "E2 *- - E3\r\n",
       "E4 *- - E5\r\n",
       "}\r\n",
       "@enduml\r\n",
       "\n",
       "PlantUML version 1.2020.13(Sat Jun 13 12:26:38 UTC 2020)\n",
       "(EPL source distribution)\n",
       "Java Runtime: OpenJDK Runtime Environment\n",
       "JVM: OpenJDK 64-Bit Server VM\n",
       "Default Encoding: UTF-8\n",
       "Language: en\n",
       "Country: null\n",
       "--></g></svg>"
      ]
     },
     "execution_count": 29,
     "metadata": {},
     "output_type": "execute_result"
    }
   ],
   "source": [
    "%viz --style=\"STDCOLOR\" --view=\"MIXED\" \"Q\""
   ]
  },
  {
   "cell_type": "code",
   "execution_count": 30,
   "id": "twelve-driver",
   "metadata": {
    "execution": {
     "iopub.execute_input": "2021-03-25T15:59:37.897770Z",
     "iopub.status.busy": "2021-03-25T15:59:37.896542Z",
     "iopub.status.idle": "2021-03-25T15:59:38.090520Z",
     "shell.execute_reply": "2021-03-25T15:59:38.088409Z"
    }
   },
   "outputs": [
    {
     "data": {
      "image/svg+xml": [
       "<?xml version=\"1.0\" encoding=\"UTF-8\" standalone=\"no\"?><svg xmlns=\"http://www.w3.org/2000/svg\" xmlns:xlink=\"http://www.w3.org/1999/xlink\" contentScriptType=\"application/ecmascript\" contentStyleType=\"text/css\" height=\"221px\" preserveAspectRatio=\"none\" style=\"width:253px;height:221px;\" version=\"1.1\" viewBox=\"0 0 253 221\" width=\"253px\" zoomAndPan=\"magnify\"><defs><filter height=\"300%\" id=\"fm5o1nvteg2ji\" width=\"300%\" x=\"-1\" y=\"-1\"><feGaussianBlur result=\"blurOut\" stdDeviation=\"2.0\"/><feColorMatrix in=\"blurOut\" result=\"blurOut2\" type=\"matrix\" values=\"0 0 0 0 0 0 0 0 0 0 0 0 0 0 0 0 0 0 .4 0\"/><feOffset dx=\"4.0\" dy=\"4.0\" in=\"blurOut2\" result=\"blurOut3\"/><feBlend in=\"SourceGraphic\" in2=\"blurOut3\" mode=\"normal\"/></filter></defs><g><!--MD5=[fbc87193dbaf4d95561dea2c320d4a47]\n",
       "cluster E1--><polygon fill=\"#FFFFFF\" filter=\"url(#fm5o1nvteg2ji)\" points=\"16,6,34,6,41,28.2969,231,28.2969,231,209,16,209,16,6\" style=\"stroke: #000000; stroke-width: 1.5;\"/><line style=\"stroke: #000000; stroke-width: 1.5;\" x1=\"16\" x2=\"41\" y1=\"28.2969\" y2=\"28.2969\"/><text fill=\"#000000\" font-family=\"sans-serif\" font-size=\"14\" font-weight=\"bold\" lengthAdjust=\"spacingAndGlyphs\" textLength=\"12\" x=\"20\" y=\"20.9951\">Q</text><!--MD5=[b4997ac47864f28c2f74865a473b2911]\n",
       "class E2--><rect fill=\"#FEFECE\" filter=\"url(#fm5o1nvteg2ji)\" height=\"45.9375\" id=\"E2\" rx=\"10\" ry=\"10\" style=\"stroke: #A80036; stroke-width: 1.5;\" width=\"70\" x=\"143\" y=\"41\"/><ellipse cx=\"158\" cy=\"59.9688\" fill=\"#32CD32\" rx=\"11\" ry=\"11\" style=\"stroke: #A80036; stroke-width: 1.0;\"/><path d=\"M157.7969,55.6406 L157.7969,59.2656 L158.7969,59.2656 Q160,59.2656 160.4844,58.8594 Q160.9688,58.4531 160.9688,57.4531 Q160.9688,56.4531 160.4844,56.0469 Q160,55.6406 158.7969,55.6406 L157.7969,55.6406 Z M155.3438,53.5781 L158.7031,53.5781 Q161.2656,53.5781 162.3906,54.5 Q163.5156,55.4063 163.5156,57.4531 Q163.5156,59.5 162.3906,60.4219 Q161.2656,61.3281 158.7031,61.3281 L157.7969,61.3281 L157.7969,65.9688 L155.3438,65.9688 L155.3438,53.5781 Z \"/><text fill=\"#000000\" font-family=\"sans-serif\" font-size=\"12\" font-style=\"italic\" lengthAdjust=\"spacingAndGlyphs\" textLength=\"40\" x=\"171\" y=\"57.1387\">«part»</text><text fill=\"#000000\" font-family=\"sans-serif\" font-size=\"12\" lengthAdjust=\"spacingAndGlyphs\" textLength=\"38\" x=\"172\" y=\"71.1074\">f: Part</text><line style=\"stroke: #A80036; stroke-width: 1.5;\" x1=\"144\" x2=\"212\" y1=\"78.9375\" y2=\"78.9375\"/><!--MD5=[09b614a08d8cba4a07c9adeb5e0fee81]\n",
       "class E3--><rect fill=\"#FEFECE\" filter=\"url(#fm5o1nvteg2ji)\" height=\"45.9375\" id=\"E3\" rx=\"10\" ry=\"10\" style=\"stroke: #A80036; stroke-width: 1.5;\" width=\"74\" x=\"141\" y=\"147\"/><ellipse cx=\"156\" cy=\"165.9688\" fill=\"#32CD32\" rx=\"11\" ry=\"11\" style=\"stroke: #A80036; stroke-width: 1.0;\"/><path d=\"M155.7969,161.6406 L155.7969,165.2656 L156.7969,165.2656 Q158,165.2656 158.4844,164.8594 Q158.9688,164.4531 158.9688,163.4531 Q158.9688,162.4531 158.4844,162.0469 Q158,161.6406 156.7969,161.6406 L155.7969,161.6406 Z M153.3438,159.5781 L156.7031,159.5781 Q159.2656,159.5781 160.3906,160.5 Q161.5156,161.4063 161.5156,163.4531 Q161.5156,165.5 160.3906,166.4219 Q159.2656,167.3281 156.7031,167.3281 L155.7969,167.3281 L155.7969,171.9688 L153.3438,171.9688 L153.3438,159.5781 Z \"/><text fill=\"#000000\" font-family=\"sans-serif\" font-size=\"12\" font-style=\"italic\" lengthAdjust=\"spacingAndGlyphs\" textLength=\"40\" x=\"171\" y=\"163.1387\">«part»</text><text fill=\"#000000\" font-family=\"sans-serif\" font-size=\"12\" lengthAdjust=\"spacingAndGlyphs\" textLength=\"42\" x=\"170\" y=\"177.1074\">a: Part</text><line style=\"stroke: #A80036; stroke-width: 1.5;\" x1=\"142\" x2=\"214\" y1=\"184.9375\" y2=\"184.9375\"/><!--MD5=[ebbe1d658d1005bcc118a6aa81145e00]\n",
       "class E4--><rect fill=\"#FEFECE\" filter=\"url(#fm5o1nvteg2ji)\" height=\"40\" id=\"E4\" style=\"stroke: #A80036; stroke-width: 1.5;\" width=\"40\" x=\"49\" y=\"44\"/><ellipse cx=\"64\" cy=\"60\" fill=\"#008000\" rx=\"11\" ry=\"11\" style=\"stroke: #A80036; stroke-width: 1.0;\"/><path d=\"M62.9063,60.375 L62.9063,64.0469 L64.5313,64.0469 Q65.7031,64.0469 66.1719,63.6563 Q66.6406,63.25 66.6406,62.25 Q66.6406,61.25 66.1406,60.8125 Q65.6563,60.375 64.5313,60.375 L62.9063,60.375 Z M62.9063,55.5469 L62.9063,58.4219 L64.5313,58.4219 Q65.4531,58.4219 65.8438,58.0938 Q66.25,57.75 66.25,57 Q66.25,56.2344 65.8438,55.8906 Q65.4375,55.5469 64.5313,55.5469 L62.9063,55.5469 Z M60.5313,53.5938 L64.5313,53.5938 Q66.5938,53.5938 67.6406,54.375 Q68.6875,55.1563 68.6875,56.7188 Q68.6875,57.9219 68.0625,58.5938 Q67.4531,59.2656 66.2656,59.375 Q67.6875,59.5156 68.4063,60.3281 Q69.125,61.1406 69.125,62.5938 Q69.125,64.3906 68.0469,65.2031 Q66.9688,66 64.5313,66 L60.5313,66 L60.5313,53.5938 Z \"/><text fill=\"#000000\" font-family=\"sans-serif\" font-size=\"12\" lengthAdjust=\"spacingAndGlyphs\" textLength=\"8\" x=\"78\" y=\"64.1543\">C</text><line style=\"stroke: #A80036; stroke-width: 1.5;\" x1=\"50\" x2=\"88\" y1=\"76\" y2=\"76\"/><!--MD5=[270fce915f116d4de14055a7c1d9a0f3]\n",
       "class E5--><rect fill=\"#FEFECE\" filter=\"url(#fm5o1nvteg2ji)\" height=\"45.9375\" id=\"E5\" rx=\"10\" ry=\"10\" style=\"stroke: #A80036; stroke-width: 1.5;\" width=\"74\" x=\"32\" y=\"147\"/><ellipse cx=\"47\" cy=\"165.9688\" fill=\"#32CD32\" rx=\"11\" ry=\"11\" style=\"stroke: #A80036; stroke-width: 1.0;\"/><path d=\"M46.7969,161.6406 L46.7969,165.2656 L47.7969,165.2656 Q49,165.2656 49.4844,164.8594 Q49.9688,164.4531 49.9688,163.4531 Q49.9688,162.4531 49.4844,162.0469 Q49,161.6406 47.7969,161.6406 L46.7969,161.6406 Z M44.3438,159.5781 L47.7031,159.5781 Q50.2656,159.5781 51.3906,160.5 Q52.5156,161.4063 52.5156,163.4531 Q52.5156,165.5 51.3906,166.4219 Q50.2656,167.3281 47.7031,167.3281 L46.7969,167.3281 L46.7969,171.9688 L44.3438,171.9688 L44.3438,159.5781 Z \"/><text fill=\"#000000\" font-family=\"sans-serif\" font-size=\"12\" font-style=\"italic\" lengthAdjust=\"spacingAndGlyphs\" textLength=\"40\" x=\"62\" y=\"163.1387\">«part»</text><text fill=\"#000000\" font-family=\"sans-serif\" font-size=\"12\" lengthAdjust=\"spacingAndGlyphs\" textLength=\"42\" x=\"61\" y=\"177.1074\">g: Part</text><line style=\"stroke: #A80036; stroke-width: 1.5;\" x1=\"33\" x2=\"105\" y1=\"184.9375\" y2=\"184.9375\"/><!--MD5=[209b3feb70ccb6233bfe1053d122c12c]\n",
       "reverse link E2 to E3--><path d=\"M178,100.44 C178,115.87 178,133.47 178,146.98 \" fill=\"none\" id=\"E2&lt;-E3\" style=\"stroke: #A80036; stroke-width: 1.0;\"/><polygon fill=\"#A80036\" points=\"178,87.06,174,93.06,178,99.06,182,93.06,178,87.06\" style=\"stroke: #A80036; stroke-width: 1.0;\"/><!--MD5=[62aa6af11e70f752912c1cb0466f24f7]\n",
       "reverse link E4 to E5--><path d=\"M69,97.25 C69,113.33 69,132.37 69,146.8 \" fill=\"none\" id=\"E4&lt;-E5\" style=\"stroke: #A80036; stroke-width: 1.0;\"/><polygon fill=\"#A80036\" points=\"69,84.08,65,90.08,69,96.08,73,90.08,69,84.08\" style=\"stroke: #A80036; stroke-width: 1.0;\"/><!--MD5=[d04fda4f4d1c53992ce4e1614ce8d224]\n",
       "@startuml\r\n",
       " \r\n",
       "package \"Q\" as E1   {\r\n",
       "comp usage \"f: Part\" as E2  << (P,limegreen) part>> {\r\n",
       "}\r\n",
       "comp usage \"a: Part\" as E3  << (P,limegreen) part>> {\r\n",
       "}\r\n",
       "comp def \"C\" as E4  << (B,green) >> {\r\n",
       "}\r\n",
       "comp usage \"g: Part\" as E5  << (P,limegreen) part>> {\r\n",
       "}\r\n",
       "E2 *- - E3\r\n",
       "E4 *- - E5\r\n",
       "}\r\n",
       "@enduml\r\n",
       "\n",
       "PlantUML version 1.2020.13(Sat Jun 13 12:26:38 UTC 2020)\n",
       "(EPL source distribution)\n",
       "Java Runtime: OpenJDK Runtime Environment\n",
       "JVM: OpenJDK 64-Bit Server VM\n",
       "Default Encoding: UTF-8\n",
       "Language: en\n",
       "Country: null\n",
       "--></g></svg>"
      ]
     },
     "execution_count": 30,
     "metadata": {},
     "output_type": "execute_result"
    }
   ],
   "source": [
    "%viz --style=\"PLANTUML\" --view=\"Default\" \"Q\""
   ]
  },
  {
   "cell_type": "code",
   "execution_count": 31,
   "id": "neutral-layer",
   "metadata": {
    "execution": {
     "iopub.execute_input": "2021-03-25T15:59:38.140872Z",
     "iopub.status.busy": "2021-03-25T15:59:38.139870Z",
     "iopub.status.idle": "2021-03-25T15:59:38.265492Z",
     "shell.execute_reply": "2021-03-25T15:59:38.262833Z"
    }
   },
   "outputs": [
    {
     "data": {
      "image/svg+xml": [
       "<?xml version=\"1.0\" encoding=\"UTF-8\" standalone=\"no\"?><svg xmlns=\"http://www.w3.org/2000/svg\" xmlns:xlink=\"http://www.w3.org/1999/xlink\" contentScriptType=\"application/ecmascript\" contentStyleType=\"text/css\" height=\"221px\" preserveAspectRatio=\"none\" style=\"width:253px;height:221px;\" version=\"1.1\" viewBox=\"0 0 253 221\" width=\"253px\" zoomAndPan=\"magnify\"><defs><filter height=\"300%\" id=\"fm5o1nvteg2ji\" width=\"300%\" x=\"-1\" y=\"-1\"><feGaussianBlur result=\"blurOut\" stdDeviation=\"2.0\"/><feColorMatrix in=\"blurOut\" result=\"blurOut2\" type=\"matrix\" values=\"0 0 0 0 0 0 0 0 0 0 0 0 0 0 0 0 0 0 .4 0\"/><feOffset dx=\"4.0\" dy=\"4.0\" in=\"blurOut2\" result=\"blurOut3\"/><feBlend in=\"SourceGraphic\" in2=\"blurOut3\" mode=\"normal\"/></filter></defs><g><!--MD5=[fbc87193dbaf4d95561dea2c320d4a47]\n",
       "cluster E1--><polygon fill=\"#FFFFFF\" filter=\"url(#fm5o1nvteg2ji)\" points=\"16,6,34,6,41,28.2969,231,28.2969,231,209,16,209,16,6\" style=\"stroke: #000000; stroke-width: 1.5;\"/><line style=\"stroke: #000000; stroke-width: 1.5;\" x1=\"16\" x2=\"41\" y1=\"28.2969\" y2=\"28.2969\"/><text fill=\"#000000\" font-family=\"sans-serif\" font-size=\"14\" font-weight=\"bold\" lengthAdjust=\"spacingAndGlyphs\" textLength=\"12\" x=\"20\" y=\"20.9951\">Q</text><!--MD5=[b4997ac47864f28c2f74865a473b2911]\n",
       "class E2--><rect fill=\"#FEFECE\" filter=\"url(#fm5o1nvteg2ji)\" height=\"45.9375\" id=\"E2\" rx=\"10\" ry=\"10\" style=\"stroke: #A80036; stroke-width: 1.5;\" width=\"70\" x=\"143\" y=\"41\"/><ellipse cx=\"158\" cy=\"59.9688\" fill=\"#32CD32\" rx=\"11\" ry=\"11\" style=\"stroke: #A80036; stroke-width: 1.0;\"/><path d=\"M157.7969,55.6406 L157.7969,59.2656 L158.7969,59.2656 Q160,59.2656 160.4844,58.8594 Q160.9688,58.4531 160.9688,57.4531 Q160.9688,56.4531 160.4844,56.0469 Q160,55.6406 158.7969,55.6406 L157.7969,55.6406 Z M155.3438,53.5781 L158.7031,53.5781 Q161.2656,53.5781 162.3906,54.5 Q163.5156,55.4063 163.5156,57.4531 Q163.5156,59.5 162.3906,60.4219 Q161.2656,61.3281 158.7031,61.3281 L157.7969,61.3281 L157.7969,65.9688 L155.3438,65.9688 L155.3438,53.5781 Z \"/><text fill=\"#000000\" font-family=\"sans-serif\" font-size=\"12\" font-style=\"italic\" lengthAdjust=\"spacingAndGlyphs\" textLength=\"40\" x=\"171\" y=\"57.1387\">«part»</text><text fill=\"#000000\" font-family=\"sans-serif\" font-size=\"12\" lengthAdjust=\"spacingAndGlyphs\" textLength=\"38\" x=\"172\" y=\"71.1074\">f: Part</text><line style=\"stroke: #A80036; stroke-width: 1.5;\" x1=\"144\" x2=\"212\" y1=\"78.9375\" y2=\"78.9375\"/><!--MD5=[09b614a08d8cba4a07c9adeb5e0fee81]\n",
       "class E3--><rect fill=\"#FEFECE\" filter=\"url(#fm5o1nvteg2ji)\" height=\"45.9375\" id=\"E3\" rx=\"10\" ry=\"10\" style=\"stroke: #A80036; stroke-width: 1.5;\" width=\"74\" x=\"141\" y=\"147\"/><ellipse cx=\"156\" cy=\"165.9688\" fill=\"#32CD32\" rx=\"11\" ry=\"11\" style=\"stroke: #A80036; stroke-width: 1.0;\"/><path d=\"M155.7969,161.6406 L155.7969,165.2656 L156.7969,165.2656 Q158,165.2656 158.4844,164.8594 Q158.9688,164.4531 158.9688,163.4531 Q158.9688,162.4531 158.4844,162.0469 Q158,161.6406 156.7969,161.6406 L155.7969,161.6406 Z M153.3438,159.5781 L156.7031,159.5781 Q159.2656,159.5781 160.3906,160.5 Q161.5156,161.4063 161.5156,163.4531 Q161.5156,165.5 160.3906,166.4219 Q159.2656,167.3281 156.7031,167.3281 L155.7969,167.3281 L155.7969,171.9688 L153.3438,171.9688 L153.3438,159.5781 Z \"/><text fill=\"#000000\" font-family=\"sans-serif\" font-size=\"12\" font-style=\"italic\" lengthAdjust=\"spacingAndGlyphs\" textLength=\"40\" x=\"171\" y=\"163.1387\">«part»</text><text fill=\"#000000\" font-family=\"sans-serif\" font-size=\"12\" lengthAdjust=\"spacingAndGlyphs\" textLength=\"42\" x=\"170\" y=\"177.1074\">a: Part</text><line style=\"stroke: #A80036; stroke-width: 1.5;\" x1=\"142\" x2=\"214\" y1=\"184.9375\" y2=\"184.9375\"/><!--MD5=[ebbe1d658d1005bcc118a6aa81145e00]\n",
       "class E4--><rect fill=\"#FEFECE\" filter=\"url(#fm5o1nvteg2ji)\" height=\"40\" id=\"E4\" style=\"stroke: #A80036; stroke-width: 1.5;\" width=\"40\" x=\"49\" y=\"44\"/><ellipse cx=\"64\" cy=\"60\" fill=\"#008000\" rx=\"11\" ry=\"11\" style=\"stroke: #A80036; stroke-width: 1.0;\"/><path d=\"M62.9063,60.375 L62.9063,64.0469 L64.5313,64.0469 Q65.7031,64.0469 66.1719,63.6563 Q66.6406,63.25 66.6406,62.25 Q66.6406,61.25 66.1406,60.8125 Q65.6563,60.375 64.5313,60.375 L62.9063,60.375 Z M62.9063,55.5469 L62.9063,58.4219 L64.5313,58.4219 Q65.4531,58.4219 65.8438,58.0938 Q66.25,57.75 66.25,57 Q66.25,56.2344 65.8438,55.8906 Q65.4375,55.5469 64.5313,55.5469 L62.9063,55.5469 Z M60.5313,53.5938 L64.5313,53.5938 Q66.5938,53.5938 67.6406,54.375 Q68.6875,55.1563 68.6875,56.7188 Q68.6875,57.9219 68.0625,58.5938 Q67.4531,59.2656 66.2656,59.375 Q67.6875,59.5156 68.4063,60.3281 Q69.125,61.1406 69.125,62.5938 Q69.125,64.3906 68.0469,65.2031 Q66.9688,66 64.5313,66 L60.5313,66 L60.5313,53.5938 Z \"/><text fill=\"#000000\" font-family=\"sans-serif\" font-size=\"12\" lengthAdjust=\"spacingAndGlyphs\" textLength=\"8\" x=\"78\" y=\"64.1543\">C</text><line style=\"stroke: #A80036; stroke-width: 1.5;\" x1=\"50\" x2=\"88\" y1=\"76\" y2=\"76\"/><!--MD5=[270fce915f116d4de14055a7c1d9a0f3]\n",
       "class E5--><rect fill=\"#FEFECE\" filter=\"url(#fm5o1nvteg2ji)\" height=\"45.9375\" id=\"E5\" rx=\"10\" ry=\"10\" style=\"stroke: #A80036; stroke-width: 1.5;\" width=\"74\" x=\"32\" y=\"147\"/><ellipse cx=\"47\" cy=\"165.9688\" fill=\"#32CD32\" rx=\"11\" ry=\"11\" style=\"stroke: #A80036; stroke-width: 1.0;\"/><path d=\"M46.7969,161.6406 L46.7969,165.2656 L47.7969,165.2656 Q49,165.2656 49.4844,164.8594 Q49.9688,164.4531 49.9688,163.4531 Q49.9688,162.4531 49.4844,162.0469 Q49,161.6406 47.7969,161.6406 L46.7969,161.6406 Z M44.3438,159.5781 L47.7031,159.5781 Q50.2656,159.5781 51.3906,160.5 Q52.5156,161.4063 52.5156,163.4531 Q52.5156,165.5 51.3906,166.4219 Q50.2656,167.3281 47.7031,167.3281 L46.7969,167.3281 L46.7969,171.9688 L44.3438,171.9688 L44.3438,159.5781 Z \"/><text fill=\"#000000\" font-family=\"sans-serif\" font-size=\"12\" font-style=\"italic\" lengthAdjust=\"spacingAndGlyphs\" textLength=\"40\" x=\"62\" y=\"163.1387\">«part»</text><text fill=\"#000000\" font-family=\"sans-serif\" font-size=\"12\" lengthAdjust=\"spacingAndGlyphs\" textLength=\"42\" x=\"61\" y=\"177.1074\">g: Part</text><line style=\"stroke: #A80036; stroke-width: 1.5;\" x1=\"33\" x2=\"105\" y1=\"184.9375\" y2=\"184.9375\"/><!--MD5=[209b3feb70ccb6233bfe1053d122c12c]\n",
       "reverse link E2 to E3--><path d=\"M178,100.44 C178,115.87 178,133.47 178,146.98 \" fill=\"none\" id=\"E2&lt;-E3\" style=\"stroke: #A80036; stroke-width: 1.0;\"/><polygon fill=\"#A80036\" points=\"178,87.06,174,93.06,178,99.06,182,93.06,178,87.06\" style=\"stroke: #A80036; stroke-width: 1.0;\"/><!--MD5=[62aa6af11e70f752912c1cb0466f24f7]\n",
       "reverse link E4 to E5--><path d=\"M69,97.25 C69,113.33 69,132.37 69,146.8 \" fill=\"none\" id=\"E4&lt;-E5\" style=\"stroke: #A80036; stroke-width: 1.0;\"/><polygon fill=\"#A80036\" points=\"69,84.08,65,90.08,69,96.08,73,90.08,69,84.08\" style=\"stroke: #A80036; stroke-width: 1.0;\"/><!--MD5=[d04fda4f4d1c53992ce4e1614ce8d224]\n",
       "@startuml\r\n",
       " \r\n",
       "package \"Q\" as E1   {\r\n",
       "comp usage \"f: Part\" as E2  << (P,limegreen) part>> {\r\n",
       "}\r\n",
       "comp usage \"a: Part\" as E3  << (P,limegreen) part>> {\r\n",
       "}\r\n",
       "comp def \"C\" as E4  << (B,green) >> {\r\n",
       "}\r\n",
       "comp usage \"g: Part\" as E5  << (P,limegreen) part>> {\r\n",
       "}\r\n",
       "E2 *- - E3\r\n",
       "E4 *- - E5\r\n",
       "}\r\n",
       "@enduml\r\n",
       "\n",
       "PlantUML version 1.2020.13(Sat Jun 13 12:26:38 UTC 2020)\n",
       "(EPL source distribution)\n",
       "Java Runtime: OpenJDK Runtime Environment\n",
       "JVM: OpenJDK 64-Bit Server VM\n",
       "Default Encoding: UTF-8\n",
       "Language: en\n",
       "Country: null\n",
       "--></g></svg>"
      ]
     },
     "execution_count": 31,
     "metadata": {},
     "output_type": "execute_result"
    }
   ],
   "source": [
    "%viz --style=\"PLANTUML\" --view=\"Tree\" \"Q\""
   ]
  },
  {
   "cell_type": "code",
   "execution_count": 32,
   "id": "parallel-malawi",
   "metadata": {
    "execution": {
     "iopub.execute_input": "2021-03-25T15:59:38.323593Z",
     "iopub.status.busy": "2021-03-25T15:59:38.322844Z",
     "iopub.status.idle": "2021-03-25T15:59:38.327402Z",
     "shell.execute_reply": "2021-03-25T15:59:38.328528Z"
    }
   },
   "outputs": [
    {
     "data": {
      "text/plain": [
       "java.lang.IllegalArgumentException: Invalid View: State View candidates are: Default Tree StateMachine Interconnection Activity Sequence MIXED \n",
       "\tat org.omg.sysml.plantuml.SysML2PlantUMLSvc.setView(SysML2PlantUMLSvc.java:63)\n",
       "\tat org.omg.sysml.interactive.SysMLInteractive.viz(SysMLInteractive.java:286)\n",
       "\tat org.omg.sysml.jupyter.kernel.magic.Viz.viz(Viz.java:47)\n",
       "\tat jdk.internal.reflect.GeneratedMethodAccessor12.invoke(Unknown Source)\n",
       "\tat java.base/jdk.internal.reflect.DelegatingMethodAccessorImpl.invoke(DelegatingMethodAccessorImpl.java:43)\n",
       "\tat java.base/java.lang.reflect.Method.invoke(Method.java:568)\n",
       "\tat io.github.spencerpark.jupyter.kernel.magic.registry.Magics.invoke(Magics.java:89)\n",
       "\tat io.github.spencerpark.jupyter.kernel.magic.registry.Magics.access$000(Magics.java:8)\n",
       "\tat io.github.spencerpark.jupyter.kernel.magic.registry.Magics$LineReflectionMagicFunction.execute(Magics.java:149)\n",
       "\tat io.github.spencerpark.jupyter.kernel.magic.registry.Magics.applyLineMagic(Magics.java:26)\n",
       "\tat org.omg.sysml.jupyter.kernel.SysMLKernel.eval(SysMLKernel.java:76)\n",
       "\tat io.github.spencerpark.jupyter.kernel.BaseKernel.handleExecuteRequest(BaseKernel.java:334)\n",
       "\tat io.github.spencerpark.jupyter.channels.ShellChannel.lambda$bind$0(ShellChannel.java:64)\n",
       "\tat io.github.spencerpark.jupyter.channels.Loop.lambda$new$0(Loop.java:21)\n",
       "\tat io.github.spencerpark.jupyter.channels.Loop.run(Loop.java:78)\n"
      ]
     },
     "execution_count": 32,
     "metadata": {},
     "output_type": "execute_result"
    }
   ],
   "source": [
    "%viz --style=\"PLANTUML\" --view=\"State\" \"Q\""
   ]
  },
  {
   "cell_type": "code",
   "execution_count": 33,
   "id": "suspected-condition",
   "metadata": {
    "execution": {
     "iopub.execute_input": "2021-03-25T15:59:38.379805Z",
     "iopub.status.busy": "2021-03-25T15:59:38.379311Z",
     "iopub.status.idle": "2021-03-25T15:59:38.500503Z",
     "shell.execute_reply": "2021-03-25T15:59:38.499780Z"
    }
   },
   "outputs": [
    {
     "data": {
      "image/svg+xml": [
       "<?xml version=\"1.0\" encoding=\"UTF-8\" standalone=\"no\"?><svg xmlns=\"http://www.w3.org/2000/svg\" xmlns:xlink=\"http://www.w3.org/1999/xlink\" contentScriptType=\"application/ecmascript\" contentStyleType=\"text/css\" height=\"202px\" preserveAspectRatio=\"none\" style=\"width:354px;height:202px;\" version=\"1.1\" viewBox=\"0 0 354 202\" width=\"354px\" zoomAndPan=\"magnify\"><defs><filter height=\"300%\" id=\"fp2czw3hpehcf\" width=\"300%\" x=\"-1\" y=\"-1\"><feGaussianBlur result=\"blurOut\" stdDeviation=\"2.0\"/><feColorMatrix in=\"blurOut\" result=\"blurOut2\" type=\"matrix\" values=\"0 0 0 0 0 0 0 0 0 0 0 0 0 0 0 0 0 0 .4 0\"/><feOffset dx=\"4.0\" dy=\"4.0\" in=\"blurOut2\" result=\"blurOut3\"/><feBlend in=\"SourceGraphic\" in2=\"blurOut3\" mode=\"normal\"/></filter></defs><g><!--MD5=[fbc87193dbaf4d95561dea2c320d4a47]\n",
       "cluster E1--><polygon fill=\"#FFFFFF\" filter=\"url(#fp2czw3hpehcf)\" points=\"16,6,34,6,41,28.2969,332,28.2969,332,190,16,190,16,6\" style=\"stroke: #000000; stroke-width: 1.5;\"/><line style=\"stroke: #000000; stroke-width: 1.5;\" x1=\"16\" x2=\"41\" y1=\"28.2969\" y2=\"28.2969\"/><text fill=\"#000000\" font-family=\"sans-serif\" font-size=\"14\" font-weight=\"bold\" lengthAdjust=\"spacingAndGlyphs\" textLength=\"12\" x=\"20\" y=\"20.9951\">Q</text><!--MD5=[e4f7fae6ed58524ba242bb0b0d3be6b7]\n",
       "cluster E2--><rect fill=\"#FEFECE\" filter=\"url(#fp2czw3hpehcf)\" height=\"101\" rx=\"12.5\" ry=\"12.5\" style=\"stroke: #000000; stroke-width: 1.5;\" width=\"96\" x=\"212\" y=\"65\"/><rect fill=\"#FFFFFF\" height=\"68.7031\" rx=\"12.5\" ry=\"12.5\" style=\"stroke: #FFFFFF; stroke-width: 1.0;\" width=\"90\" x=\"215\" y=\"94.2969\"/><line style=\"stroke: #000000; stroke-width: 1.5;\" x1=\"212\" x2=\"308\" y1=\"91.2969\" y2=\"91.2969\"/><text fill=\"#000000\" font-family=\"sans-serif\" font-size=\"14\" lengthAdjust=\"spacingAndGlyphs\" textLength=\"40\" x=\"240\" y=\"81.9951\">f: Part</text><!--MD5=[f6df4d0ebaf0b5dfb2ced0ae5af7c670]\n",
       "cluster E4--><rect fill=\"#FFFFFF\" filter=\"url(#fp2czw3hpehcf)\" height=\"117\" style=\"stroke: #000000; stroke-width: 1.5;\" width=\"148\" x=\"40\" y=\"49\"/><text fill=\"#000000\" font-family=\"sans-serif\" font-size=\"14\" font-style=\"italic\" lengthAdjust=\"spacingAndGlyphs\" textLength=\"71\" x=\"78.5\" y=\"63.9951\">«part def»</text><text fill=\"#000000\" font-family=\"sans-serif\" font-size=\"14\" font-weight=\"bold\" lengthAdjust=\"spacingAndGlyphs\" textLength=\"11\" x=\"108.5\" y=\"80.292\">C</text><g id=\"E1.E2.E3\"><rect fill=\"#FFFFFF\" filter=\"url(#fp2czw3hpehcf)\" height=\"50\" rx=\"12.5\" ry=\"12.5\" style=\"stroke: #A80036; stroke-width: 1.5;\" width=\"64\" x=\"228\" y=\"100\"/><line style=\"stroke: #A80036; stroke-width: 1.5;\" x1=\"228\" x2=\"292\" y1=\"126.2969\" y2=\"126.2969\"/><text fill=\"#000000\" font-family=\"sans-serif\" font-size=\"14\" lengthAdjust=\"spacingAndGlyphs\" textLength=\"44\" x=\"238\" y=\"117.9951\">a: Part</text></g><g id=\"E1.E4.E5\"><rect fill=\"#FFFFFF\" filter=\"url(#fp2czw3hpehcf)\" height=\"50\" rx=\"12.5\" ry=\"12.5\" style=\"stroke: #A80036; stroke-width: 1.5;\" width=\"116\" x=\"56\" y=\"100\"/><line style=\"stroke: #A80036; stroke-width: 1.5;\" x1=\"56\" x2=\"172\" y1=\"126.2969\" y2=\"126.2969\"/><text fill=\"#000000\" font-family=\"sans-serif\" font-size=\"14\" lengthAdjust=\"spacingAndGlyphs\" textLength=\"92\" x=\"66\" y=\"117.9951\">g: Part= ./f/a;</text></g><!--MD5=[2b8eb369d184675cb4a34fe3ef7434e1]\n",
       "@startuml\r\n",
       "skinparam ranksep 8\r\n",
       "skinparam rectangle {\r\n",
       " backgroundColor<<block>> LightGreen\r\n",
       "}\r\n",
       " \r\n",
       "package \"Q\" as E1   {\r\n",
       "rec usage \"f: Part\" as E2  {\r\n",
       "rec usage \"a: Part\" as E3  {\r\n",
       "}\r\n",
       "}\r\n",
       "rec def \"C\" as E4  <<part def>> {\r\n",
       "rec usage \"g: Part= ./f/a; \" as E5  {\r\n",
       "}\r\n",
       "}\r\n",
       "}\r\n",
       "@enduml\r\n",
       "\n",
       "PlantUML version 1.2020.13(Sat Jun 13 12:26:38 UTC 2020)\n",
       "(EPL source distribution)\n",
       "Java Runtime: OpenJDK Runtime Environment\n",
       "JVM: OpenJDK 64-Bit Server VM\n",
       "Default Encoding: UTF-8\n",
       "Language: en\n",
       "Country: null\n",
       "--></g></svg>"
      ]
     },
     "execution_count": 33,
     "metadata": {},
     "output_type": "execute_result"
    }
   ],
   "source": [
    "%viz --style=\"PLANTUML\" --view=\"Interconnection\" \"Q\""
   ]
  },
  {
   "cell_type": "code",
   "execution_count": 34,
   "id": "charged-antigua",
   "metadata": {
    "execution": {
     "iopub.execute_input": "2021-03-25T15:59:38.553137Z",
     "iopub.status.busy": "2021-03-25T15:59:38.551829Z",
     "iopub.status.idle": "2021-03-25T15:59:38.555939Z",
     "shell.execute_reply": "2021-03-25T15:59:38.557030Z"
    }
   },
   "outputs": [
    {
     "data": {
      "text/plain": [
       "java.lang.IllegalArgumentException: Invalid View: Action View candidates are: Default Tree StateMachine Interconnection Activity Sequence MIXED \n",
       "\tat org.omg.sysml.plantuml.SysML2PlantUMLSvc.setView(SysML2PlantUMLSvc.java:63)\n",
       "\tat org.omg.sysml.interactive.SysMLInteractive.viz(SysMLInteractive.java:286)\n",
       "\tat org.omg.sysml.jupyter.kernel.magic.Viz.viz(Viz.java:47)\n",
       "\tat jdk.internal.reflect.GeneratedMethodAccessor12.invoke(Unknown Source)\n",
       "\tat java.base/jdk.internal.reflect.DelegatingMethodAccessorImpl.invoke(DelegatingMethodAccessorImpl.java:43)\n",
       "\tat java.base/java.lang.reflect.Method.invoke(Method.java:568)\n",
       "\tat io.github.spencerpark.jupyter.kernel.magic.registry.Magics.invoke(Magics.java:89)\n",
       "\tat io.github.spencerpark.jupyter.kernel.magic.registry.Magics.access$000(Magics.java:8)\n",
       "\tat io.github.spencerpark.jupyter.kernel.magic.registry.Magics$LineReflectionMagicFunction.execute(Magics.java:149)\n",
       "\tat io.github.spencerpark.jupyter.kernel.magic.registry.Magics.applyLineMagic(Magics.java:26)\n",
       "\tat org.omg.sysml.jupyter.kernel.SysMLKernel.eval(SysMLKernel.java:76)\n",
       "\tat io.github.spencerpark.jupyter.kernel.BaseKernel.handleExecuteRequest(BaseKernel.java:334)\n",
       "\tat io.github.spencerpark.jupyter.channels.ShellChannel.lambda$bind$0(ShellChannel.java:64)\n",
       "\tat io.github.spencerpark.jupyter.channels.Loop.lambda$new$0(Loop.java:21)\n",
       "\tat io.github.spencerpark.jupyter.channels.Loop.run(Loop.java:78)\n"
      ]
     },
     "execution_count": 34,
     "metadata": {},
     "output_type": "execute_result"
    }
   ],
   "source": [
    "%viz --style=\"PLANTUML\" --view=\"Action\" \"Q\""
   ]
  },
  {
   "cell_type": "code",
   "execution_count": 35,
   "id": "bizarre-balance",
   "metadata": {
    "execution": {
     "iopub.execute_input": "2021-03-25T15:59:38.614909Z",
     "iopub.status.busy": "2021-03-25T15:59:38.608668Z",
     "iopub.status.idle": "2021-03-25T15:59:38.768568Z",
     "shell.execute_reply": "2021-03-25T15:59:38.765221Z"
    }
   },
   "outputs": [
    {
     "data": {
      "image/svg+xml": [
       "<?xml version=\"1.0\" encoding=\"UTF-8\" standalone=\"no\"?><svg xmlns=\"http://www.w3.org/2000/svg\" xmlns:xlink=\"http://www.w3.org/1999/xlink\" contentScriptType=\"application/ecmascript\" contentStyleType=\"text/css\" height=\"221px\" preserveAspectRatio=\"none\" style=\"width:253px;height:221px;\" version=\"1.1\" viewBox=\"0 0 253 221\" width=\"253px\" zoomAndPan=\"magnify\"><defs><filter height=\"300%\" id=\"fm5o1nvteg2ji\" width=\"300%\" x=\"-1\" y=\"-1\"><feGaussianBlur result=\"blurOut\" stdDeviation=\"2.0\"/><feColorMatrix in=\"blurOut\" result=\"blurOut2\" type=\"matrix\" values=\"0 0 0 0 0 0 0 0 0 0 0 0 0 0 0 0 0 0 .4 0\"/><feOffset dx=\"4.0\" dy=\"4.0\" in=\"blurOut2\" result=\"blurOut3\"/><feBlend in=\"SourceGraphic\" in2=\"blurOut3\" mode=\"normal\"/></filter></defs><g><!--MD5=[fbc87193dbaf4d95561dea2c320d4a47]\n",
       "cluster E1--><polygon fill=\"#FFFFFF\" filter=\"url(#fm5o1nvteg2ji)\" points=\"16,6,34,6,41,28.2969,231,28.2969,231,209,16,209,16,6\" style=\"stroke: #000000; stroke-width: 1.5;\"/><line style=\"stroke: #000000; stroke-width: 1.5;\" x1=\"16\" x2=\"41\" y1=\"28.2969\" y2=\"28.2969\"/><text fill=\"#000000\" font-family=\"sans-serif\" font-size=\"14\" font-weight=\"bold\" lengthAdjust=\"spacingAndGlyphs\" textLength=\"12\" x=\"20\" y=\"20.9951\">Q</text><!--MD5=[b4997ac47864f28c2f74865a473b2911]\n",
       "class E2--><rect fill=\"#FEFECE\" filter=\"url(#fm5o1nvteg2ji)\" height=\"45.9375\" id=\"E2\" rx=\"10\" ry=\"10\" style=\"stroke: #A80036; stroke-width: 1.5;\" width=\"70\" x=\"143\" y=\"41\"/><ellipse cx=\"158\" cy=\"59.9688\" fill=\"#32CD32\" rx=\"11\" ry=\"11\" style=\"stroke: #A80036; stroke-width: 1.0;\"/><path d=\"M157.7969,55.6406 L157.7969,59.2656 L158.7969,59.2656 Q160,59.2656 160.4844,58.8594 Q160.9688,58.4531 160.9688,57.4531 Q160.9688,56.4531 160.4844,56.0469 Q160,55.6406 158.7969,55.6406 L157.7969,55.6406 Z M155.3438,53.5781 L158.7031,53.5781 Q161.2656,53.5781 162.3906,54.5 Q163.5156,55.4063 163.5156,57.4531 Q163.5156,59.5 162.3906,60.4219 Q161.2656,61.3281 158.7031,61.3281 L157.7969,61.3281 L157.7969,65.9688 L155.3438,65.9688 L155.3438,53.5781 Z \"/><text fill=\"#000000\" font-family=\"sans-serif\" font-size=\"12\" font-style=\"italic\" lengthAdjust=\"spacingAndGlyphs\" textLength=\"40\" x=\"171\" y=\"57.1387\">«part»</text><text fill=\"#000000\" font-family=\"sans-serif\" font-size=\"12\" lengthAdjust=\"spacingAndGlyphs\" textLength=\"38\" x=\"172\" y=\"71.1074\">f: Part</text><line style=\"stroke: #A80036; stroke-width: 1.5;\" x1=\"144\" x2=\"212\" y1=\"78.9375\" y2=\"78.9375\"/><!--MD5=[09b614a08d8cba4a07c9adeb5e0fee81]\n",
       "class E3--><rect fill=\"#FEFECE\" filter=\"url(#fm5o1nvteg2ji)\" height=\"45.9375\" id=\"E3\" rx=\"10\" ry=\"10\" style=\"stroke: #A80036; stroke-width: 1.5;\" width=\"74\" x=\"141\" y=\"147\"/><ellipse cx=\"156\" cy=\"165.9688\" fill=\"#32CD32\" rx=\"11\" ry=\"11\" style=\"stroke: #A80036; stroke-width: 1.0;\"/><path d=\"M155.7969,161.6406 L155.7969,165.2656 L156.7969,165.2656 Q158,165.2656 158.4844,164.8594 Q158.9688,164.4531 158.9688,163.4531 Q158.9688,162.4531 158.4844,162.0469 Q158,161.6406 156.7969,161.6406 L155.7969,161.6406 Z M153.3438,159.5781 L156.7031,159.5781 Q159.2656,159.5781 160.3906,160.5 Q161.5156,161.4063 161.5156,163.4531 Q161.5156,165.5 160.3906,166.4219 Q159.2656,167.3281 156.7031,167.3281 L155.7969,167.3281 L155.7969,171.9688 L153.3438,171.9688 L153.3438,159.5781 Z \"/><text fill=\"#000000\" font-family=\"sans-serif\" font-size=\"12\" font-style=\"italic\" lengthAdjust=\"spacingAndGlyphs\" textLength=\"40\" x=\"171\" y=\"163.1387\">«part»</text><text fill=\"#000000\" font-family=\"sans-serif\" font-size=\"12\" lengthAdjust=\"spacingAndGlyphs\" textLength=\"42\" x=\"170\" y=\"177.1074\">a: Part</text><line style=\"stroke: #A80036; stroke-width: 1.5;\" x1=\"142\" x2=\"214\" y1=\"184.9375\" y2=\"184.9375\"/><!--MD5=[ebbe1d658d1005bcc118a6aa81145e00]\n",
       "class E4--><rect fill=\"#FEFECE\" filter=\"url(#fm5o1nvteg2ji)\" height=\"40\" id=\"E4\" style=\"stroke: #A80036; stroke-width: 1.5;\" width=\"40\" x=\"49\" y=\"44\"/><ellipse cx=\"64\" cy=\"60\" fill=\"#008000\" rx=\"11\" ry=\"11\" style=\"stroke: #A80036; stroke-width: 1.0;\"/><path d=\"M62.9063,60.375 L62.9063,64.0469 L64.5313,64.0469 Q65.7031,64.0469 66.1719,63.6563 Q66.6406,63.25 66.6406,62.25 Q66.6406,61.25 66.1406,60.8125 Q65.6563,60.375 64.5313,60.375 L62.9063,60.375 Z M62.9063,55.5469 L62.9063,58.4219 L64.5313,58.4219 Q65.4531,58.4219 65.8438,58.0938 Q66.25,57.75 66.25,57 Q66.25,56.2344 65.8438,55.8906 Q65.4375,55.5469 64.5313,55.5469 L62.9063,55.5469 Z M60.5313,53.5938 L64.5313,53.5938 Q66.5938,53.5938 67.6406,54.375 Q68.6875,55.1563 68.6875,56.7188 Q68.6875,57.9219 68.0625,58.5938 Q67.4531,59.2656 66.2656,59.375 Q67.6875,59.5156 68.4063,60.3281 Q69.125,61.1406 69.125,62.5938 Q69.125,64.3906 68.0469,65.2031 Q66.9688,66 64.5313,66 L60.5313,66 L60.5313,53.5938 Z \"/><text fill=\"#000000\" font-family=\"sans-serif\" font-size=\"12\" lengthAdjust=\"spacingAndGlyphs\" textLength=\"8\" x=\"78\" y=\"64.1543\">C</text><line style=\"stroke: #A80036; stroke-width: 1.5;\" x1=\"50\" x2=\"88\" y1=\"76\" y2=\"76\"/><!--MD5=[270fce915f116d4de14055a7c1d9a0f3]\n",
       "class E5--><rect fill=\"#FEFECE\" filter=\"url(#fm5o1nvteg2ji)\" height=\"45.9375\" id=\"E5\" rx=\"10\" ry=\"10\" style=\"stroke: #A80036; stroke-width: 1.5;\" width=\"74\" x=\"32\" y=\"147\"/><ellipse cx=\"47\" cy=\"165.9688\" fill=\"#32CD32\" rx=\"11\" ry=\"11\" style=\"stroke: #A80036; stroke-width: 1.0;\"/><path d=\"M46.7969,161.6406 L46.7969,165.2656 L47.7969,165.2656 Q49,165.2656 49.4844,164.8594 Q49.9688,164.4531 49.9688,163.4531 Q49.9688,162.4531 49.4844,162.0469 Q49,161.6406 47.7969,161.6406 L46.7969,161.6406 Z M44.3438,159.5781 L47.7031,159.5781 Q50.2656,159.5781 51.3906,160.5 Q52.5156,161.4063 52.5156,163.4531 Q52.5156,165.5 51.3906,166.4219 Q50.2656,167.3281 47.7031,167.3281 L46.7969,167.3281 L46.7969,171.9688 L44.3438,171.9688 L44.3438,159.5781 Z \"/><text fill=\"#000000\" font-family=\"sans-serif\" font-size=\"12\" font-style=\"italic\" lengthAdjust=\"spacingAndGlyphs\" textLength=\"40\" x=\"62\" y=\"163.1387\">«part»</text><text fill=\"#000000\" font-family=\"sans-serif\" font-size=\"12\" lengthAdjust=\"spacingAndGlyphs\" textLength=\"42\" x=\"61\" y=\"177.1074\">g: Part</text><line style=\"stroke: #A80036; stroke-width: 1.5;\" x1=\"33\" x2=\"105\" y1=\"184.9375\" y2=\"184.9375\"/><!--MD5=[209b3feb70ccb6233bfe1053d122c12c]\n",
       "reverse link E2 to E3--><path d=\"M178,100.44 C178,115.87 178,133.47 178,146.98 \" fill=\"none\" id=\"E2&lt;-E3\" style=\"stroke: #A80036; stroke-width: 1.0;\"/><polygon fill=\"#A80036\" points=\"178,87.06,174,93.06,178,99.06,182,93.06,178,87.06\" style=\"stroke: #A80036; stroke-width: 1.0;\"/><!--MD5=[62aa6af11e70f752912c1cb0466f24f7]\n",
       "reverse link E4 to E5--><path d=\"M69,97.25 C69,113.33 69,132.37 69,146.8 \" fill=\"none\" id=\"E4&lt;-E5\" style=\"stroke: #A80036; stroke-width: 1.0;\"/><polygon fill=\"#A80036\" points=\"69,84.08,65,90.08,69,96.08,73,90.08,69,84.08\" style=\"stroke: #A80036; stroke-width: 1.0;\"/><!--MD5=[d04fda4f4d1c53992ce4e1614ce8d224]\n",
       "@startuml\r\n",
       " \r\n",
       "package \"Q\" as E1   {\r\n",
       "comp usage \"f: Part\" as E2  << (P,limegreen) part>> {\r\n",
       "}\r\n",
       "comp usage \"a: Part\" as E3  << (P,limegreen) part>> {\r\n",
       "}\r\n",
       "comp def \"C\" as E4  << (B,green) >> {\r\n",
       "}\r\n",
       "comp usage \"g: Part\" as E5  << (P,limegreen) part>> {\r\n",
       "}\r\n",
       "E2 *- - E3\r\n",
       "E4 *- - E5\r\n",
       "}\r\n",
       "@enduml\r\n",
       "\n",
       "PlantUML version 1.2020.13(Sat Jun 13 12:26:38 UTC 2020)\n",
       "(EPL source distribution)\n",
       "Java Runtime: OpenJDK Runtime Environment\n",
       "JVM: OpenJDK 64-Bit Server VM\n",
       "Default Encoding: UTF-8\n",
       "Language: en\n",
       "Country: null\n",
       "--></g></svg>"
      ]
     },
     "execution_count": 35,
     "metadata": {},
     "output_type": "execute_result"
    }
   ],
   "source": [
    "%viz --style=\"PLANTUML\" --view=\"Sequence\" \"Q\""
   ]
  },
  {
   "cell_type": "code",
   "execution_count": 36,
   "id": "compliant-processing",
   "metadata": {
    "execution": {
     "iopub.execute_input": "2021-03-25T15:59:38.818252Z",
     "iopub.status.busy": "2021-03-25T15:59:38.817429Z",
     "iopub.status.idle": "2021-03-25T15:59:38.984185Z",
     "shell.execute_reply": "2021-03-25T15:59:38.976749Z"
    }
   },
   "outputs": [
    {
     "data": {
      "image/svg+xml": [
       "<?xml version=\"1.0\" encoding=\"UTF-8\" standalone=\"no\"?><svg xmlns=\"http://www.w3.org/2000/svg\" xmlns:xlink=\"http://www.w3.org/1999/xlink\" contentScriptType=\"application/ecmascript\" contentStyleType=\"text/css\" height=\"221px\" preserveAspectRatio=\"none\" style=\"width:253px;height:221px;\" version=\"1.1\" viewBox=\"0 0 253 221\" width=\"253px\" zoomAndPan=\"magnify\"><defs><filter height=\"300%\" id=\"fm5o1nvteg2ji\" width=\"300%\" x=\"-1\" y=\"-1\"><feGaussianBlur result=\"blurOut\" stdDeviation=\"2.0\"/><feColorMatrix in=\"blurOut\" result=\"blurOut2\" type=\"matrix\" values=\"0 0 0 0 0 0 0 0 0 0 0 0 0 0 0 0 0 0 .4 0\"/><feOffset dx=\"4.0\" dy=\"4.0\" in=\"blurOut2\" result=\"blurOut3\"/><feBlend in=\"SourceGraphic\" in2=\"blurOut3\" mode=\"normal\"/></filter></defs><g><!--MD5=[fbc87193dbaf4d95561dea2c320d4a47]\n",
       "cluster E1--><polygon fill=\"#FFFFFF\" filter=\"url(#fm5o1nvteg2ji)\" points=\"16,6,34,6,41,28.2969,231,28.2969,231,209,16,209,16,6\" style=\"stroke: #000000; stroke-width: 1.5;\"/><line style=\"stroke: #000000; stroke-width: 1.5;\" x1=\"16\" x2=\"41\" y1=\"28.2969\" y2=\"28.2969\"/><text fill=\"#000000\" font-family=\"sans-serif\" font-size=\"14\" font-weight=\"bold\" lengthAdjust=\"spacingAndGlyphs\" textLength=\"12\" x=\"20\" y=\"20.9951\">Q</text><!--MD5=[b4997ac47864f28c2f74865a473b2911]\n",
       "class E2--><rect fill=\"#FEFECE\" filter=\"url(#fm5o1nvteg2ji)\" height=\"45.9375\" id=\"E2\" rx=\"10\" ry=\"10\" style=\"stroke: #A80036; stroke-width: 1.5;\" width=\"70\" x=\"143\" y=\"41\"/><ellipse cx=\"158\" cy=\"59.9688\" fill=\"#32CD32\" rx=\"11\" ry=\"11\" style=\"stroke: #A80036; stroke-width: 1.0;\"/><path d=\"M157.7969,55.6406 L157.7969,59.2656 L158.7969,59.2656 Q160,59.2656 160.4844,58.8594 Q160.9688,58.4531 160.9688,57.4531 Q160.9688,56.4531 160.4844,56.0469 Q160,55.6406 158.7969,55.6406 L157.7969,55.6406 Z M155.3438,53.5781 L158.7031,53.5781 Q161.2656,53.5781 162.3906,54.5 Q163.5156,55.4063 163.5156,57.4531 Q163.5156,59.5 162.3906,60.4219 Q161.2656,61.3281 158.7031,61.3281 L157.7969,61.3281 L157.7969,65.9688 L155.3438,65.9688 L155.3438,53.5781 Z \"/><text fill=\"#000000\" font-family=\"sans-serif\" font-size=\"12\" font-style=\"italic\" lengthAdjust=\"spacingAndGlyphs\" textLength=\"40\" x=\"171\" y=\"57.1387\">«part»</text><text fill=\"#000000\" font-family=\"sans-serif\" font-size=\"12\" lengthAdjust=\"spacingAndGlyphs\" textLength=\"38\" x=\"172\" y=\"71.1074\">f: Part</text><line style=\"stroke: #A80036; stroke-width: 1.5;\" x1=\"144\" x2=\"212\" y1=\"78.9375\" y2=\"78.9375\"/><!--MD5=[09b614a08d8cba4a07c9adeb5e0fee81]\n",
       "class E3--><rect fill=\"#FEFECE\" filter=\"url(#fm5o1nvteg2ji)\" height=\"45.9375\" id=\"E3\" rx=\"10\" ry=\"10\" style=\"stroke: #A80036; stroke-width: 1.5;\" width=\"74\" x=\"141\" y=\"147\"/><ellipse cx=\"156\" cy=\"165.9688\" fill=\"#32CD32\" rx=\"11\" ry=\"11\" style=\"stroke: #A80036; stroke-width: 1.0;\"/><path d=\"M155.7969,161.6406 L155.7969,165.2656 L156.7969,165.2656 Q158,165.2656 158.4844,164.8594 Q158.9688,164.4531 158.9688,163.4531 Q158.9688,162.4531 158.4844,162.0469 Q158,161.6406 156.7969,161.6406 L155.7969,161.6406 Z M153.3438,159.5781 L156.7031,159.5781 Q159.2656,159.5781 160.3906,160.5 Q161.5156,161.4063 161.5156,163.4531 Q161.5156,165.5 160.3906,166.4219 Q159.2656,167.3281 156.7031,167.3281 L155.7969,167.3281 L155.7969,171.9688 L153.3438,171.9688 L153.3438,159.5781 Z \"/><text fill=\"#000000\" font-family=\"sans-serif\" font-size=\"12\" font-style=\"italic\" lengthAdjust=\"spacingAndGlyphs\" textLength=\"40\" x=\"171\" y=\"163.1387\">«part»</text><text fill=\"#000000\" font-family=\"sans-serif\" font-size=\"12\" lengthAdjust=\"spacingAndGlyphs\" textLength=\"42\" x=\"170\" y=\"177.1074\">a: Part</text><line style=\"stroke: #A80036; stroke-width: 1.5;\" x1=\"142\" x2=\"214\" y1=\"184.9375\" y2=\"184.9375\"/><!--MD5=[ebbe1d658d1005bcc118a6aa81145e00]\n",
       "class E4--><rect fill=\"#FEFECE\" filter=\"url(#fm5o1nvteg2ji)\" height=\"40\" id=\"E4\" style=\"stroke: #A80036; stroke-width: 1.5;\" width=\"40\" x=\"49\" y=\"44\"/><ellipse cx=\"64\" cy=\"60\" fill=\"#008000\" rx=\"11\" ry=\"11\" style=\"stroke: #A80036; stroke-width: 1.0;\"/><path d=\"M62.9063,60.375 L62.9063,64.0469 L64.5313,64.0469 Q65.7031,64.0469 66.1719,63.6563 Q66.6406,63.25 66.6406,62.25 Q66.6406,61.25 66.1406,60.8125 Q65.6563,60.375 64.5313,60.375 L62.9063,60.375 Z M62.9063,55.5469 L62.9063,58.4219 L64.5313,58.4219 Q65.4531,58.4219 65.8438,58.0938 Q66.25,57.75 66.25,57 Q66.25,56.2344 65.8438,55.8906 Q65.4375,55.5469 64.5313,55.5469 L62.9063,55.5469 Z M60.5313,53.5938 L64.5313,53.5938 Q66.5938,53.5938 67.6406,54.375 Q68.6875,55.1563 68.6875,56.7188 Q68.6875,57.9219 68.0625,58.5938 Q67.4531,59.2656 66.2656,59.375 Q67.6875,59.5156 68.4063,60.3281 Q69.125,61.1406 69.125,62.5938 Q69.125,64.3906 68.0469,65.2031 Q66.9688,66 64.5313,66 L60.5313,66 L60.5313,53.5938 Z \"/><text fill=\"#000000\" font-family=\"sans-serif\" font-size=\"12\" lengthAdjust=\"spacingAndGlyphs\" textLength=\"8\" x=\"78\" y=\"64.1543\">C</text><line style=\"stroke: #A80036; stroke-width: 1.5;\" x1=\"50\" x2=\"88\" y1=\"76\" y2=\"76\"/><!--MD5=[270fce915f116d4de14055a7c1d9a0f3]\n",
       "class E5--><rect fill=\"#FEFECE\" filter=\"url(#fm5o1nvteg2ji)\" height=\"45.9375\" id=\"E5\" rx=\"10\" ry=\"10\" style=\"stroke: #A80036; stroke-width: 1.5;\" width=\"74\" x=\"32\" y=\"147\"/><ellipse cx=\"47\" cy=\"165.9688\" fill=\"#32CD32\" rx=\"11\" ry=\"11\" style=\"stroke: #A80036; stroke-width: 1.0;\"/><path d=\"M46.7969,161.6406 L46.7969,165.2656 L47.7969,165.2656 Q49,165.2656 49.4844,164.8594 Q49.9688,164.4531 49.9688,163.4531 Q49.9688,162.4531 49.4844,162.0469 Q49,161.6406 47.7969,161.6406 L46.7969,161.6406 Z M44.3438,159.5781 L47.7031,159.5781 Q50.2656,159.5781 51.3906,160.5 Q52.5156,161.4063 52.5156,163.4531 Q52.5156,165.5 51.3906,166.4219 Q50.2656,167.3281 47.7031,167.3281 L46.7969,167.3281 L46.7969,171.9688 L44.3438,171.9688 L44.3438,159.5781 Z \"/><text fill=\"#000000\" font-family=\"sans-serif\" font-size=\"12\" font-style=\"italic\" lengthAdjust=\"spacingAndGlyphs\" textLength=\"40\" x=\"62\" y=\"163.1387\">«part»</text><text fill=\"#000000\" font-family=\"sans-serif\" font-size=\"12\" lengthAdjust=\"spacingAndGlyphs\" textLength=\"42\" x=\"61\" y=\"177.1074\">g: Part</text><line style=\"stroke: #A80036; stroke-width: 1.5;\" x1=\"33\" x2=\"105\" y1=\"184.9375\" y2=\"184.9375\"/><!--MD5=[209b3feb70ccb6233bfe1053d122c12c]\n",
       "reverse link E2 to E3--><path d=\"M178,100.44 C178,115.87 178,133.47 178,146.98 \" fill=\"none\" id=\"E2&lt;-E3\" style=\"stroke: #A80036; stroke-width: 1.0;\"/><polygon fill=\"#A80036\" points=\"178,87.06,174,93.06,178,99.06,182,93.06,178,87.06\" style=\"stroke: #A80036; stroke-width: 1.0;\"/><!--MD5=[62aa6af11e70f752912c1cb0466f24f7]\n",
       "reverse link E4 to E5--><path d=\"M69,97.25 C69,113.33 69,132.37 69,146.8 \" fill=\"none\" id=\"E4&lt;-E5\" style=\"stroke: #A80036; stroke-width: 1.0;\"/><polygon fill=\"#A80036\" points=\"69,84.08,65,90.08,69,96.08,73,90.08,69,84.08\" style=\"stroke: #A80036; stroke-width: 1.0;\"/><!--MD5=[d04fda4f4d1c53992ce4e1614ce8d224]\n",
       "@startuml\r\n",
       " \r\n",
       "package \"Q\" as E1   {\r\n",
       "comp usage \"f: Part\" as E2  << (P,limegreen) part>> {\r\n",
       "}\r\n",
       "comp usage \"a: Part\" as E3  << (P,limegreen) part>> {\r\n",
       "}\r\n",
       "comp def \"C\" as E4  << (B,green) >> {\r\n",
       "}\r\n",
       "comp usage \"g: Part\" as E5  << (P,limegreen) part>> {\r\n",
       "}\r\n",
       "E2 *- - E3\r\n",
       "E4 *- - E5\r\n",
       "}\r\n",
       "@enduml\r\n",
       "\n",
       "PlantUML version 1.2020.13(Sat Jun 13 12:26:38 UTC 2020)\n",
       "(EPL source distribution)\n",
       "Java Runtime: OpenJDK Runtime Environment\n",
       "JVM: OpenJDK 64-Bit Server VM\n",
       "Default Encoding: UTF-8\n",
       "Language: en\n",
       "Country: null\n",
       "--></g></svg>"
      ]
     },
     "execution_count": 36,
     "metadata": {},
     "output_type": "execute_result"
    }
   ],
   "source": [
    "%viz --style=\"PLANTUML\" --view=\"MIXED\" \"Q\""
   ]
  },
  {
   "cell_type": "code",
   "execution_count": 37,
   "id": "editorial-thing",
   "metadata": {
    "execution": {
     "iopub.execute_input": "2021-03-25T15:59:39.030320Z",
     "iopub.status.busy": "2021-03-25T15:59:39.029343Z",
     "iopub.status.idle": "2021-03-25T15:59:39.181520Z",
     "shell.execute_reply": "2021-03-25T15:59:39.181114Z"
    }
   },
   "outputs": [
    {
     "data": {
      "image/svg+xml": [
       "<?xml version=\"1.0\" encoding=\"UTF-8\" standalone=\"no\"?><svg xmlns=\"http://www.w3.org/2000/svg\" xmlns:xlink=\"http://www.w3.org/1999/xlink\" contentScriptType=\"application/ecmascript\" contentStyleType=\"text/css\" height=\"221px\" preserveAspectRatio=\"none\" style=\"width:215px;height:221px;\" version=\"1.1\" viewBox=\"0 0 215 221\" width=\"215px\" zoomAndPan=\"magnify\"><defs/><g><!--MD5=[fbc87193dbaf4d95561dea2c320d4a47]\n",
       "cluster E1--><polygon fill=\"#FFFFFF\" points=\"16,6,34,6,41,28.2969,193,28.2969,193,209,16,209,16,6\" style=\"stroke: #000000; stroke-width: 1.5;\"/><line style=\"stroke: #000000; stroke-width: 1.5;\" x1=\"16\" x2=\"41\" y1=\"28.2969\" y2=\"28.2969\"/><text fill=\"#000000\" font-family=\"sans-serif\" font-size=\"14\" font-weight=\"bold\" lengthAdjust=\"spacingAndGlyphs\" textLength=\"12\" x=\"20\" y=\"20.9951\">Q</text><!--MD5=[b4997ac47864f28c2f74865a473b2911]\n",
       "class E2--><rect fill=\"#FFFFFF\" height=\"45.9375\" id=\"E2\" rx=\"10\" ry=\"10\" style=\"stroke: #383838; stroke-width: 1.5;\" width=\"44\" x=\"133\" y=\"41\"/><text fill=\"#000000\" font-family=\"sans-serif\" font-size=\"12\" font-style=\"italic\" lengthAdjust=\"spacingAndGlyphs\" textLength=\"40\" x=\"135\" y=\"57.1387\">«part»</text><text fill=\"#000000\" font-family=\"sans-serif\" font-size=\"12\" lengthAdjust=\"spacingAndGlyphs\" textLength=\"38\" x=\"136\" y=\"71.1074\">f: Part</text><line style=\"stroke: #383838; stroke-width: 1.5;\" x1=\"134\" x2=\"176\" y1=\"78.9375\" y2=\"78.9375\"/><!--MD5=[09b614a08d8cba4a07c9adeb5e0fee81]\n",
       "class E3--><rect fill=\"#FFFFFF\" height=\"45.9375\" id=\"E3\" rx=\"10\" ry=\"10\" style=\"stroke: #383838; stroke-width: 1.5;\" width=\"48\" x=\"129\" y=\"147\"/><text fill=\"#000000\" font-family=\"sans-serif\" font-size=\"12\" font-style=\"italic\" lengthAdjust=\"spacingAndGlyphs\" textLength=\"40\" x=\"133\" y=\"163.1387\">«part»</text><text fill=\"#000000\" font-family=\"sans-serif\" font-size=\"12\" lengthAdjust=\"spacingAndGlyphs\" textLength=\"42\" x=\"132\" y=\"177.1074\">a: Part</text><line style=\"stroke: #383838; stroke-width: 1.5;\" x1=\"130\" x2=\"176\" y1=\"184.9375\" y2=\"184.9375\"/><!--MD5=[ebbe1d658d1005bcc118a6aa81145e00]\n",
       "class E4--><rect fill=\"#FFFFFF\" height=\"45.9375\" id=\"E4\" style=\"stroke: #383838; stroke-width: 1.5;\" width=\"66\" x=\"32\" y=\"41\"/><text fill=\"#000000\" font-family=\"sans-serif\" font-size=\"12\" font-style=\"italic\" lengthAdjust=\"spacingAndGlyphs\" textLength=\"64\" x=\"33\" y=\"57.1387\">«part def»</text><text fill=\"#000000\" font-family=\"sans-serif\" font-size=\"12\" lengthAdjust=\"spacingAndGlyphs\" textLength=\"8\" x=\"61\" y=\"71.1074\">C</text><line style=\"stroke: #383838; stroke-width: 1.5;\" x1=\"33\" x2=\"97\" y1=\"78.9375\" y2=\"78.9375\"/><!--MD5=[270fce915f116d4de14055a7c1d9a0f3]\n",
       "class E5--><rect fill=\"#FFFFFF\" height=\"45.9375\" id=\"E5\" rx=\"10\" ry=\"10\" style=\"stroke: #383838; stroke-width: 1.5;\" width=\"48\" x=\"41\" y=\"147\"/><text fill=\"#000000\" font-family=\"sans-serif\" font-size=\"12\" font-style=\"italic\" lengthAdjust=\"spacingAndGlyphs\" textLength=\"40\" x=\"45\" y=\"163.1387\">«part»</text><text fill=\"#000000\" font-family=\"sans-serif\" font-size=\"12\" lengthAdjust=\"spacingAndGlyphs\" textLength=\"42\" x=\"44\" y=\"177.1074\">g: Part</text><line style=\"stroke: #383838; stroke-width: 1.5;\" x1=\"42\" x2=\"88\" y1=\"184.9375\" y2=\"184.9375\"/><!--MD5=[209b3feb70ccb6233bfe1053d122c12c]\n",
       "reverse link E2 to E3--><path d=\"M154.32,100.44 C154.02,115.87 153.68,133.47 153.42,146.98 \" fill=\"none\" id=\"E2&lt;-E3\" style=\"stroke: #383838; stroke-width: 1.0;\"/><polygon fill=\"#383838\" points=\"154.58,87.06,150.4685,92.9842,154.3556,99.0579,158.4671,93.1337,154.58,87.06\" style=\"stroke: #383838; stroke-width: 1.0;\"/><!--MD5=[62aa6af11e70f752912c1cb0466f24f7]\n",
       "reverse link E4 to E5--><path d=\"M65,100.44 C65,115.87 65,133.47 65,146.98 \" fill=\"none\" id=\"E4&lt;-E5\" style=\"stroke: #383838; stroke-width: 1.0;\"/><polygon fill=\"#383838\" points=\"65,87.06,61,93.06,65,99.06,69,93.06,65,87.06\" style=\"stroke: #383838; stroke-width: 1.0;\"/><!--MD5=[b2c32b7f6e037b4a1401982159b53462]\n",
       "@startuml\r\n",
       "skinparam monochrome true\r\n",
       "skinparam classbackgroundcolor white\r\n",
       "skinparam shadowing false\r\n",
       "skinparam wrapWidth 300\r\n",
       "hide circle\r\n",
       "\r\n",
       "package \"Q\" as E1   {\r\n",
       "comp usage \"f: Part\" as E2  <<(T,blue)part>> {\r\n",
       "}\r\n",
       "comp usage \"a: Part\" as E3  <<(T,blue)part>> {\r\n",
       "}\r\n",
       "comp def \"C\" as E4  <<(T,blue)part def>> {\r\n",
       "}\r\n",
       "comp usage \"g: Part\" as E5  <<(T,blue)part>> {\r\n",
       "}\r\n",
       "E2 *- - E3\r\n",
       "E4 *- - E5\r\n",
       "}\r\n",
       "@enduml\r\n",
       "\n",
       "PlantUML version 1.2020.13(Sat Jun 13 12:26:38 UTC 2020)\n",
       "(EPL source distribution)\n",
       "Java Runtime: OpenJDK Runtime Environment\n",
       "JVM: OpenJDK 64-Bit Server VM\n",
       "Default Encoding: UTF-8\n",
       "Language: en\n",
       "Country: null\n",
       "--></g></svg>"
      ]
     },
     "execution_count": 37,
     "metadata": {},
     "output_type": "execute_result"
    }
   ],
   "source": [
    "%viz --style=\"DEFAULT\" --view=\"Default\" \"Q\""
   ]
  },
  {
   "cell_type": "code",
   "execution_count": 38,
   "id": "small-degree",
   "metadata": {
    "execution": {
     "iopub.execute_input": "2021-03-25T15:59:39.233408Z",
     "iopub.status.busy": "2021-03-25T15:59:39.232442Z",
     "iopub.status.idle": "2021-03-25T15:59:39.379763Z",
     "shell.execute_reply": "2021-03-25T15:59:39.379287Z"
    }
   },
   "outputs": [
    {
     "data": {
      "image/svg+xml": [
       "<?xml version=\"1.0\" encoding=\"UTF-8\" standalone=\"no\"?><svg xmlns=\"http://www.w3.org/2000/svg\" xmlns:xlink=\"http://www.w3.org/1999/xlink\" contentScriptType=\"application/ecmascript\" contentStyleType=\"text/css\" height=\"221px\" preserveAspectRatio=\"none\" style=\"width:215px;height:221px;\" version=\"1.1\" viewBox=\"0 0 215 221\" width=\"215px\" zoomAndPan=\"magnify\"><defs/><g><!--MD5=[fbc87193dbaf4d95561dea2c320d4a47]\n",
       "cluster E1--><polygon fill=\"#FFFFFF\" points=\"16,6,34,6,41,28.2969,193,28.2969,193,209,16,209,16,6\" style=\"stroke: #000000; stroke-width: 1.5;\"/><line style=\"stroke: #000000; stroke-width: 1.5;\" x1=\"16\" x2=\"41\" y1=\"28.2969\" y2=\"28.2969\"/><text fill=\"#000000\" font-family=\"sans-serif\" font-size=\"14\" font-weight=\"bold\" lengthAdjust=\"spacingAndGlyphs\" textLength=\"12\" x=\"20\" y=\"20.9951\">Q</text><!--MD5=[b4997ac47864f28c2f74865a473b2911]\n",
       "class E2--><rect fill=\"#FFFFFF\" height=\"45.9375\" id=\"E2\" rx=\"10\" ry=\"10\" style=\"stroke: #383838; stroke-width: 1.5;\" width=\"44\" x=\"133\" y=\"41\"/><text fill=\"#000000\" font-family=\"sans-serif\" font-size=\"12\" font-style=\"italic\" lengthAdjust=\"spacingAndGlyphs\" textLength=\"40\" x=\"135\" y=\"57.1387\">«part»</text><text fill=\"#000000\" font-family=\"sans-serif\" font-size=\"12\" lengthAdjust=\"spacingAndGlyphs\" textLength=\"38\" x=\"136\" y=\"71.1074\">f: Part</text><line style=\"stroke: #383838; stroke-width: 1.5;\" x1=\"134\" x2=\"176\" y1=\"78.9375\" y2=\"78.9375\"/><!--MD5=[09b614a08d8cba4a07c9adeb5e0fee81]\n",
       "class E3--><rect fill=\"#FFFFFF\" height=\"45.9375\" id=\"E3\" rx=\"10\" ry=\"10\" style=\"stroke: #383838; stroke-width: 1.5;\" width=\"48\" x=\"129\" y=\"147\"/><text fill=\"#000000\" font-family=\"sans-serif\" font-size=\"12\" font-style=\"italic\" lengthAdjust=\"spacingAndGlyphs\" textLength=\"40\" x=\"133\" y=\"163.1387\">«part»</text><text fill=\"#000000\" font-family=\"sans-serif\" font-size=\"12\" lengthAdjust=\"spacingAndGlyphs\" textLength=\"42\" x=\"132\" y=\"177.1074\">a: Part</text><line style=\"stroke: #383838; stroke-width: 1.5;\" x1=\"130\" x2=\"176\" y1=\"184.9375\" y2=\"184.9375\"/><!--MD5=[ebbe1d658d1005bcc118a6aa81145e00]\n",
       "class E4--><rect fill=\"#FFFFFF\" height=\"45.9375\" id=\"E4\" style=\"stroke: #383838; stroke-width: 1.5;\" width=\"66\" x=\"32\" y=\"41\"/><text fill=\"#000000\" font-family=\"sans-serif\" font-size=\"12\" font-style=\"italic\" lengthAdjust=\"spacingAndGlyphs\" textLength=\"64\" x=\"33\" y=\"57.1387\">«part def»</text><text fill=\"#000000\" font-family=\"sans-serif\" font-size=\"12\" lengthAdjust=\"spacingAndGlyphs\" textLength=\"8\" x=\"61\" y=\"71.1074\">C</text><line style=\"stroke: #383838; stroke-width: 1.5;\" x1=\"33\" x2=\"97\" y1=\"78.9375\" y2=\"78.9375\"/><!--MD5=[270fce915f116d4de14055a7c1d9a0f3]\n",
       "class E5--><rect fill=\"#FFFFFF\" height=\"45.9375\" id=\"E5\" rx=\"10\" ry=\"10\" style=\"stroke: #383838; stroke-width: 1.5;\" width=\"48\" x=\"41\" y=\"147\"/><text fill=\"#000000\" font-family=\"sans-serif\" font-size=\"12\" font-style=\"italic\" lengthAdjust=\"spacingAndGlyphs\" textLength=\"40\" x=\"45\" y=\"163.1387\">«part»</text><text fill=\"#000000\" font-family=\"sans-serif\" font-size=\"12\" lengthAdjust=\"spacingAndGlyphs\" textLength=\"42\" x=\"44\" y=\"177.1074\">g: Part</text><line style=\"stroke: #383838; stroke-width: 1.5;\" x1=\"42\" x2=\"88\" y1=\"184.9375\" y2=\"184.9375\"/><!--MD5=[209b3feb70ccb6233bfe1053d122c12c]\n",
       "reverse link E2 to E3--><path d=\"M154.32,100.44 C154.02,115.87 153.68,133.47 153.42,146.98 \" fill=\"none\" id=\"E2&lt;-E3\" style=\"stroke: #383838; stroke-width: 1.0;\"/><polygon fill=\"#383838\" points=\"154.58,87.06,150.4685,92.9842,154.3556,99.0579,158.4671,93.1337,154.58,87.06\" style=\"stroke: #383838; stroke-width: 1.0;\"/><!--MD5=[62aa6af11e70f752912c1cb0466f24f7]\n",
       "reverse link E4 to E5--><path d=\"M65,100.44 C65,115.87 65,133.47 65,146.98 \" fill=\"none\" id=\"E4&lt;-E5\" style=\"stroke: #383838; stroke-width: 1.0;\"/><polygon fill=\"#383838\" points=\"65,87.06,61,93.06,65,99.06,69,93.06,65,87.06\" style=\"stroke: #383838; stroke-width: 1.0;\"/><!--MD5=[b2c32b7f6e037b4a1401982159b53462]\n",
       "@startuml\r\n",
       "skinparam monochrome true\r\n",
       "skinparam classbackgroundcolor white\r\n",
       "skinparam shadowing false\r\n",
       "skinparam wrapWidth 300\r\n",
       "hide circle\r\n",
       "\r\n",
       "package \"Q\" as E1   {\r\n",
       "comp usage \"f: Part\" as E2  <<(T,blue)part>> {\r\n",
       "}\r\n",
       "comp usage \"a: Part\" as E3  <<(T,blue)part>> {\r\n",
       "}\r\n",
       "comp def \"C\" as E4  <<(T,blue)part def>> {\r\n",
       "}\r\n",
       "comp usage \"g: Part\" as E5  <<(T,blue)part>> {\r\n",
       "}\r\n",
       "E2 *- - E3\r\n",
       "E4 *- - E5\r\n",
       "}\r\n",
       "@enduml\r\n",
       "\n",
       "PlantUML version 1.2020.13(Sat Jun 13 12:26:38 UTC 2020)\n",
       "(EPL source distribution)\n",
       "Java Runtime: OpenJDK Runtime Environment\n",
       "JVM: OpenJDK 64-Bit Server VM\n",
       "Default Encoding: UTF-8\n",
       "Language: en\n",
       "Country: null\n",
       "--></g></svg>"
      ]
     },
     "execution_count": 38,
     "metadata": {},
     "output_type": "execute_result"
    }
   ],
   "source": [
    "%viz --style=\"DEFAULT\" --view=\"Tree\" \"Q\""
   ]
  },
  {
   "cell_type": "code",
   "execution_count": 39,
   "id": "radical-relaxation",
   "metadata": {
    "execution": {
     "iopub.execute_input": "2021-03-25T15:59:39.431386Z",
     "iopub.status.busy": "2021-03-25T15:59:39.429921Z",
     "iopub.status.idle": "2021-03-25T15:59:39.438456Z",
     "shell.execute_reply": "2021-03-25T15:59:39.441979Z"
    }
   },
   "outputs": [
    {
     "data": {
      "text/plain": [
       "java.lang.IllegalArgumentException: Invalid View: State View candidates are: Default Tree StateMachine Interconnection Activity Sequence MIXED \n",
       "\tat org.omg.sysml.plantuml.SysML2PlantUMLSvc.setView(SysML2PlantUMLSvc.java:63)\n",
       "\tat org.omg.sysml.interactive.SysMLInteractive.viz(SysMLInteractive.java:286)\n",
       "\tat org.omg.sysml.jupyter.kernel.magic.Viz.viz(Viz.java:47)\n",
       "\tat jdk.internal.reflect.GeneratedMethodAccessor12.invoke(Unknown Source)\n",
       "\tat java.base/jdk.internal.reflect.DelegatingMethodAccessorImpl.invoke(DelegatingMethodAccessorImpl.java:43)\n",
       "\tat java.base/java.lang.reflect.Method.invoke(Method.java:568)\n",
       "\tat io.github.spencerpark.jupyter.kernel.magic.registry.Magics.invoke(Magics.java:89)\n",
       "\tat io.github.spencerpark.jupyter.kernel.magic.registry.Magics.access$000(Magics.java:8)\n",
       "\tat io.github.spencerpark.jupyter.kernel.magic.registry.Magics$LineReflectionMagicFunction.execute(Magics.java:149)\n",
       "\tat io.github.spencerpark.jupyter.kernel.magic.registry.Magics.applyLineMagic(Magics.java:26)\n",
       "\tat org.omg.sysml.jupyter.kernel.SysMLKernel.eval(SysMLKernel.java:76)\n",
       "\tat io.github.spencerpark.jupyter.kernel.BaseKernel.handleExecuteRequest(BaseKernel.java:334)\n",
       "\tat io.github.spencerpark.jupyter.channels.ShellChannel.lambda$bind$0(ShellChannel.java:64)\n",
       "\tat io.github.spencerpark.jupyter.channels.Loop.lambda$new$0(Loop.java:21)\n",
       "\tat io.github.spencerpark.jupyter.channels.Loop.run(Loop.java:78)\n"
      ]
     },
     "execution_count": 39,
     "metadata": {},
     "output_type": "execute_result"
    }
   ],
   "source": [
    "%viz --style=\"DEFAULT\" --view=\"State\" \"Q\""
   ]
  },
  {
   "cell_type": "code",
   "execution_count": 40,
   "id": "insured-pursuit",
   "metadata": {
    "execution": {
     "iopub.execute_input": "2021-03-25T15:59:39.486632Z",
     "iopub.status.busy": "2021-03-25T15:59:39.485528Z",
     "iopub.status.idle": "2021-03-25T15:59:39.622016Z",
     "shell.execute_reply": "2021-03-25T15:59:39.616163Z"
    }
   },
   "outputs": [
    {
     "data": {
      "image/svg+xml": [
       "<?xml version=\"1.0\" encoding=\"UTF-8\" standalone=\"no\"?><svg xmlns=\"http://www.w3.org/2000/svg\" xmlns:xlink=\"http://www.w3.org/1999/xlink\" contentScriptType=\"application/ecmascript\" contentStyleType=\"text/css\" height=\"202px\" preserveAspectRatio=\"none\" style=\"width:354px;height:202px;\" version=\"1.1\" viewBox=\"0 0 354 202\" width=\"354px\" zoomAndPan=\"magnify\"><defs/><g><!--MD5=[fbc87193dbaf4d95561dea2c320d4a47]\n",
       "cluster E1--><polygon fill=\"#FFFFFF\" points=\"16,6,34,6,41,28.2969,332,28.2969,332,190,16,190,16,6\" style=\"stroke: #000000; stroke-width: 1.5;\"/><line style=\"stroke: #000000; stroke-width: 1.5;\" x1=\"16\" x2=\"41\" y1=\"28.2969\" y2=\"28.2969\"/><text fill=\"#000000\" font-family=\"sans-serif\" font-size=\"14\" font-weight=\"bold\" lengthAdjust=\"spacingAndGlyphs\" textLength=\"12\" x=\"20\" y=\"20.9951\">Q</text><!--MD5=[e4f7fae6ed58524ba242bb0b0d3be6b7]\n",
       "cluster E2--><rect fill=\"#F8F8F8\" height=\"101\" rx=\"12.5\" ry=\"12.5\" style=\"stroke: #000000; stroke-width: 1.5;\" width=\"96\" x=\"212\" y=\"65\"/><rect fill=\"#FFFFFF\" height=\"68.7031\" rx=\"12.5\" ry=\"12.5\" style=\"stroke: #FFFFFF; stroke-width: 1.0;\" width=\"90\" x=\"215\" y=\"94.2969\"/><line style=\"stroke: #000000; stroke-width: 1.5;\" x1=\"212\" x2=\"308\" y1=\"91.2969\" y2=\"91.2969\"/><text fill=\"#000000\" font-family=\"sans-serif\" font-size=\"14\" lengthAdjust=\"spacingAndGlyphs\" textLength=\"40\" x=\"240\" y=\"81.9951\">f: Part</text><!--MD5=[f6df4d0ebaf0b5dfb2ced0ae5af7c670]\n",
       "cluster E4--><rect fill=\"#FFFFFF\" height=\"117\" style=\"stroke: #000000; stroke-width: 1.5;\" width=\"148\" x=\"40\" y=\"49\"/><text fill=\"#000000\" font-family=\"sans-serif\" font-size=\"14\" font-style=\"italic\" lengthAdjust=\"spacingAndGlyphs\" textLength=\"71\" x=\"78.5\" y=\"63.9951\">«part def»</text><text fill=\"#000000\" font-family=\"sans-serif\" font-size=\"14\" font-weight=\"bold\" lengthAdjust=\"spacingAndGlyphs\" textLength=\"11\" x=\"108.5\" y=\"80.292\">C</text><g id=\"E1.E2.E3\"><rect fill=\"#FFFFFF\" height=\"50\" rx=\"12.5\" ry=\"12.5\" style=\"stroke: #383838; stroke-width: 1.5;\" width=\"64\" x=\"228\" y=\"100\"/><line style=\"stroke: #383838; stroke-width: 1.5;\" x1=\"228\" x2=\"292\" y1=\"126.2969\" y2=\"126.2969\"/><text fill=\"#000000\" font-family=\"sans-serif\" font-size=\"14\" lengthAdjust=\"spacingAndGlyphs\" textLength=\"44\" x=\"238\" y=\"117.9951\">a: Part</text></g><g id=\"E1.E4.E5\"><rect fill=\"#FFFFFF\" height=\"50\" rx=\"12.5\" ry=\"12.5\" style=\"stroke: #383838; stroke-width: 1.5;\" width=\"116\" x=\"56\" y=\"100\"/><line style=\"stroke: #383838; stroke-width: 1.5;\" x1=\"56\" x2=\"172\" y1=\"126.2969\" y2=\"126.2969\"/><text fill=\"#000000\" font-family=\"sans-serif\" font-size=\"14\" lengthAdjust=\"spacingAndGlyphs\" textLength=\"92\" x=\"66\" y=\"117.9951\">g: Part= ./f/a;</text></g><!--MD5=[44d0d59d5f2ace327326d01dd87e8b7e]\n",
       "@startuml\r\n",
       "skinparam ranksep 8\r\n",
       "skinparam rectangle {\r\n",
       " backgroundColor<<block>> LightGreen\r\n",
       "}\r\n",
       "skinparam monochrome true\r\n",
       "skinparam classbackgroundcolor white\r\n",
       "skinparam shadowing false\r\n",
       "skinparam wrapWidth 300\r\n",
       "hide circle\r\n",
       "\r\n",
       "package \"Q\" as E1   {\r\n",
       "rec usage \"f: Part\" as E2  {\r\n",
       "rec usage \"a: Part\" as E3  {\r\n",
       "}\r\n",
       "}\r\n",
       "rec def \"C\" as E4  <<part def>> {\r\n",
       "rec usage \"g: Part= ./f/a; \" as E5  {\r\n",
       "}\r\n",
       "}\r\n",
       "}\r\n",
       "@enduml\r\n",
       "\n",
       "PlantUML version 1.2020.13(Sat Jun 13 12:26:38 UTC 2020)\n",
       "(EPL source distribution)\n",
       "Java Runtime: OpenJDK Runtime Environment\n",
       "JVM: OpenJDK 64-Bit Server VM\n",
       "Default Encoding: UTF-8\n",
       "Language: en\n",
       "Country: null\n",
       "--></g></svg>"
      ]
     },
     "execution_count": 40,
     "metadata": {},
     "output_type": "execute_result"
    }
   ],
   "source": [
    "%viz --style=\"DEFAULT\" --view=\"Interconnection\" \"Q\""
   ]
  },
  {
   "cell_type": "code",
   "execution_count": 41,
   "id": "driving-stable",
   "metadata": {
    "execution": {
     "iopub.execute_input": "2021-03-25T15:59:39.666108Z",
     "iopub.status.busy": "2021-03-25T15:59:39.665529Z",
     "iopub.status.idle": "2021-03-25T15:59:39.668980Z",
     "shell.execute_reply": "2021-03-25T15:59:39.669514Z"
    }
   },
   "outputs": [
    {
     "data": {
      "text/plain": [
       "java.lang.IllegalArgumentException: Invalid View: Action View candidates are: Default Tree StateMachine Interconnection Activity Sequence MIXED \n",
       "\tat org.omg.sysml.plantuml.SysML2PlantUMLSvc.setView(SysML2PlantUMLSvc.java:63)\n",
       "\tat org.omg.sysml.interactive.SysMLInteractive.viz(SysMLInteractive.java:286)\n",
       "\tat org.omg.sysml.jupyter.kernel.magic.Viz.viz(Viz.java:47)\n",
       "\tat jdk.internal.reflect.GeneratedMethodAccessor12.invoke(Unknown Source)\n",
       "\tat java.base/jdk.internal.reflect.DelegatingMethodAccessorImpl.invoke(DelegatingMethodAccessorImpl.java:43)\n",
       "\tat java.base/java.lang.reflect.Method.invoke(Method.java:568)\n",
       "\tat io.github.spencerpark.jupyter.kernel.magic.registry.Magics.invoke(Magics.java:89)\n",
       "\tat io.github.spencerpark.jupyter.kernel.magic.registry.Magics.access$000(Magics.java:8)\n",
       "\tat io.github.spencerpark.jupyter.kernel.magic.registry.Magics$LineReflectionMagicFunction.execute(Magics.java:149)\n",
       "\tat io.github.spencerpark.jupyter.kernel.magic.registry.Magics.applyLineMagic(Magics.java:26)\n",
       "\tat org.omg.sysml.jupyter.kernel.SysMLKernel.eval(SysMLKernel.java:76)\n",
       "\tat io.github.spencerpark.jupyter.kernel.BaseKernel.handleExecuteRequest(BaseKernel.java:334)\n",
       "\tat io.github.spencerpark.jupyter.channels.ShellChannel.lambda$bind$0(ShellChannel.java:64)\n",
       "\tat io.github.spencerpark.jupyter.channels.Loop.lambda$new$0(Loop.java:21)\n",
       "\tat io.github.spencerpark.jupyter.channels.Loop.run(Loop.java:78)\n"
      ]
     },
     "execution_count": 41,
     "metadata": {},
     "output_type": "execute_result"
    }
   ],
   "source": [
    "%viz --style=\"DEFAULT\" --view=\"Action\" \"Q\""
   ]
  },
  {
   "cell_type": "code",
   "execution_count": 42,
   "id": "magnetic-arlington",
   "metadata": {
    "execution": {
     "iopub.execute_input": "2021-03-25T15:59:39.739777Z",
     "iopub.status.busy": "2021-03-25T15:59:39.733399Z",
     "iopub.status.idle": "2021-03-25T15:59:39.907927Z",
     "shell.execute_reply": "2021-03-25T15:59:39.910149Z"
    }
   },
   "outputs": [
    {
     "data": {
      "image/svg+xml": [
       "<?xml version=\"1.0\" encoding=\"UTF-8\" standalone=\"no\"?><svg xmlns=\"http://www.w3.org/2000/svg\" xmlns:xlink=\"http://www.w3.org/1999/xlink\" contentScriptType=\"application/ecmascript\" contentStyleType=\"text/css\" height=\"221px\" preserveAspectRatio=\"none\" style=\"width:215px;height:221px;\" version=\"1.1\" viewBox=\"0 0 215 221\" width=\"215px\" zoomAndPan=\"magnify\"><defs/><g><!--MD5=[fbc87193dbaf4d95561dea2c320d4a47]\n",
       "cluster E1--><polygon fill=\"#FFFFFF\" points=\"16,6,34,6,41,28.2969,193,28.2969,193,209,16,209,16,6\" style=\"stroke: #000000; stroke-width: 1.5;\"/><line style=\"stroke: #000000; stroke-width: 1.5;\" x1=\"16\" x2=\"41\" y1=\"28.2969\" y2=\"28.2969\"/><text fill=\"#000000\" font-family=\"sans-serif\" font-size=\"14\" font-weight=\"bold\" lengthAdjust=\"spacingAndGlyphs\" textLength=\"12\" x=\"20\" y=\"20.9951\">Q</text><!--MD5=[b4997ac47864f28c2f74865a473b2911]\n",
       "class E2--><rect fill=\"#FFFFFF\" height=\"45.9375\" id=\"E2\" rx=\"10\" ry=\"10\" style=\"stroke: #383838; stroke-width: 1.5;\" width=\"44\" x=\"133\" y=\"41\"/><text fill=\"#000000\" font-family=\"sans-serif\" font-size=\"12\" font-style=\"italic\" lengthAdjust=\"spacingAndGlyphs\" textLength=\"40\" x=\"135\" y=\"57.1387\">«part»</text><text fill=\"#000000\" font-family=\"sans-serif\" font-size=\"12\" lengthAdjust=\"spacingAndGlyphs\" textLength=\"38\" x=\"136\" y=\"71.1074\">f: Part</text><line style=\"stroke: #383838; stroke-width: 1.5;\" x1=\"134\" x2=\"176\" y1=\"78.9375\" y2=\"78.9375\"/><!--MD5=[09b614a08d8cba4a07c9adeb5e0fee81]\n",
       "class E3--><rect fill=\"#FFFFFF\" height=\"45.9375\" id=\"E3\" rx=\"10\" ry=\"10\" style=\"stroke: #383838; stroke-width: 1.5;\" width=\"48\" x=\"129\" y=\"147\"/><text fill=\"#000000\" font-family=\"sans-serif\" font-size=\"12\" font-style=\"italic\" lengthAdjust=\"spacingAndGlyphs\" textLength=\"40\" x=\"133\" y=\"163.1387\">«part»</text><text fill=\"#000000\" font-family=\"sans-serif\" font-size=\"12\" lengthAdjust=\"spacingAndGlyphs\" textLength=\"42\" x=\"132\" y=\"177.1074\">a: Part</text><line style=\"stroke: #383838; stroke-width: 1.5;\" x1=\"130\" x2=\"176\" y1=\"184.9375\" y2=\"184.9375\"/><!--MD5=[ebbe1d658d1005bcc118a6aa81145e00]\n",
       "class E4--><rect fill=\"#FFFFFF\" height=\"45.9375\" id=\"E4\" style=\"stroke: #383838; stroke-width: 1.5;\" width=\"66\" x=\"32\" y=\"41\"/><text fill=\"#000000\" font-family=\"sans-serif\" font-size=\"12\" font-style=\"italic\" lengthAdjust=\"spacingAndGlyphs\" textLength=\"64\" x=\"33\" y=\"57.1387\">«part def»</text><text fill=\"#000000\" font-family=\"sans-serif\" font-size=\"12\" lengthAdjust=\"spacingAndGlyphs\" textLength=\"8\" x=\"61\" y=\"71.1074\">C</text><line style=\"stroke: #383838; stroke-width: 1.5;\" x1=\"33\" x2=\"97\" y1=\"78.9375\" y2=\"78.9375\"/><!--MD5=[270fce915f116d4de14055a7c1d9a0f3]\n",
       "class E5--><rect fill=\"#FFFFFF\" height=\"45.9375\" id=\"E5\" rx=\"10\" ry=\"10\" style=\"stroke: #383838; stroke-width: 1.5;\" width=\"48\" x=\"41\" y=\"147\"/><text fill=\"#000000\" font-family=\"sans-serif\" font-size=\"12\" font-style=\"italic\" lengthAdjust=\"spacingAndGlyphs\" textLength=\"40\" x=\"45\" y=\"163.1387\">«part»</text><text fill=\"#000000\" font-family=\"sans-serif\" font-size=\"12\" lengthAdjust=\"spacingAndGlyphs\" textLength=\"42\" x=\"44\" y=\"177.1074\">g: Part</text><line style=\"stroke: #383838; stroke-width: 1.5;\" x1=\"42\" x2=\"88\" y1=\"184.9375\" y2=\"184.9375\"/><!--MD5=[209b3feb70ccb6233bfe1053d122c12c]\n",
       "reverse link E2 to E3--><path d=\"M154.32,100.44 C154.02,115.87 153.68,133.47 153.42,146.98 \" fill=\"none\" id=\"E2&lt;-E3\" style=\"stroke: #383838; stroke-width: 1.0;\"/><polygon fill=\"#383838\" points=\"154.58,87.06,150.4685,92.9842,154.3556,99.0579,158.4671,93.1337,154.58,87.06\" style=\"stroke: #383838; stroke-width: 1.0;\"/><!--MD5=[62aa6af11e70f752912c1cb0466f24f7]\n",
       "reverse link E4 to E5--><path d=\"M65,100.44 C65,115.87 65,133.47 65,146.98 \" fill=\"none\" id=\"E4&lt;-E5\" style=\"stroke: #383838; stroke-width: 1.0;\"/><polygon fill=\"#383838\" points=\"65,87.06,61,93.06,65,99.06,69,93.06,65,87.06\" style=\"stroke: #383838; stroke-width: 1.0;\"/><!--MD5=[b2c32b7f6e037b4a1401982159b53462]\n",
       "@startuml\r\n",
       "skinparam monochrome true\r\n",
       "skinparam classbackgroundcolor white\r\n",
       "skinparam shadowing false\r\n",
       "skinparam wrapWidth 300\r\n",
       "hide circle\r\n",
       "\r\n",
       "package \"Q\" as E1   {\r\n",
       "comp usage \"f: Part\" as E2  <<(T,blue)part>> {\r\n",
       "}\r\n",
       "comp usage \"a: Part\" as E3  <<(T,blue)part>> {\r\n",
       "}\r\n",
       "comp def \"C\" as E4  <<(T,blue)part def>> {\r\n",
       "}\r\n",
       "comp usage \"g: Part\" as E5  <<(T,blue)part>> {\r\n",
       "}\r\n",
       "E2 *- - E3\r\n",
       "E4 *- - E5\r\n",
       "}\r\n",
       "@enduml\r\n",
       "\n",
       "PlantUML version 1.2020.13(Sat Jun 13 12:26:38 UTC 2020)\n",
       "(EPL source distribution)\n",
       "Java Runtime: OpenJDK Runtime Environment\n",
       "JVM: OpenJDK 64-Bit Server VM\n",
       "Default Encoding: UTF-8\n",
       "Language: en\n",
       "Country: null\n",
       "--></g></svg>"
      ]
     },
     "execution_count": 42,
     "metadata": {},
     "output_type": "execute_result"
    }
   ],
   "source": [
    "%viz --style=\"DEFAULT\" --view=\"Sequence\" \"Q\""
   ]
  },
  {
   "cell_type": "code",
   "execution_count": 43,
   "id": "arctic-poster",
   "metadata": {
    "execution": {
     "iopub.execute_input": "2021-03-25T15:59:39.957590Z",
     "iopub.status.busy": "2021-03-25T15:59:39.956252Z",
     "iopub.status.idle": "2021-03-25T15:59:40.060958Z",
     "shell.execute_reply": "2021-03-25T15:59:40.061502Z"
    }
   },
   "outputs": [
    {
     "data": {
      "image/svg+xml": [
       "<?xml version=\"1.0\" encoding=\"UTF-8\" standalone=\"no\"?><svg xmlns=\"http://www.w3.org/2000/svg\" xmlns:xlink=\"http://www.w3.org/1999/xlink\" contentScriptType=\"application/ecmascript\" contentStyleType=\"text/css\" height=\"221px\" preserveAspectRatio=\"none\" style=\"width:215px;height:221px;\" version=\"1.1\" viewBox=\"0 0 215 221\" width=\"215px\" zoomAndPan=\"magnify\"><defs/><g><!--MD5=[fbc87193dbaf4d95561dea2c320d4a47]\n",
       "cluster E1--><polygon fill=\"#FFFFFF\" points=\"16,6,34,6,41,28.2969,193,28.2969,193,209,16,209,16,6\" style=\"stroke: #000000; stroke-width: 1.5;\"/><line style=\"stroke: #000000; stroke-width: 1.5;\" x1=\"16\" x2=\"41\" y1=\"28.2969\" y2=\"28.2969\"/><text fill=\"#000000\" font-family=\"sans-serif\" font-size=\"14\" font-weight=\"bold\" lengthAdjust=\"spacingAndGlyphs\" textLength=\"12\" x=\"20\" y=\"20.9951\">Q</text><!--MD5=[b4997ac47864f28c2f74865a473b2911]\n",
       "class E2--><rect fill=\"#FFFFFF\" height=\"45.9375\" id=\"E2\" rx=\"10\" ry=\"10\" style=\"stroke: #383838; stroke-width: 1.5;\" width=\"44\" x=\"133\" y=\"41\"/><text fill=\"#000000\" font-family=\"sans-serif\" font-size=\"12\" font-style=\"italic\" lengthAdjust=\"spacingAndGlyphs\" textLength=\"40\" x=\"135\" y=\"57.1387\">«part»</text><text fill=\"#000000\" font-family=\"sans-serif\" font-size=\"12\" lengthAdjust=\"spacingAndGlyphs\" textLength=\"38\" x=\"136\" y=\"71.1074\">f: Part</text><line style=\"stroke: #383838; stroke-width: 1.5;\" x1=\"134\" x2=\"176\" y1=\"78.9375\" y2=\"78.9375\"/><!--MD5=[09b614a08d8cba4a07c9adeb5e0fee81]\n",
       "class E3--><rect fill=\"#FFFFFF\" height=\"45.9375\" id=\"E3\" rx=\"10\" ry=\"10\" style=\"stroke: #383838; stroke-width: 1.5;\" width=\"48\" x=\"129\" y=\"147\"/><text fill=\"#000000\" font-family=\"sans-serif\" font-size=\"12\" font-style=\"italic\" lengthAdjust=\"spacingAndGlyphs\" textLength=\"40\" x=\"133\" y=\"163.1387\">«part»</text><text fill=\"#000000\" font-family=\"sans-serif\" font-size=\"12\" lengthAdjust=\"spacingAndGlyphs\" textLength=\"42\" x=\"132\" y=\"177.1074\">a: Part</text><line style=\"stroke: #383838; stroke-width: 1.5;\" x1=\"130\" x2=\"176\" y1=\"184.9375\" y2=\"184.9375\"/><!--MD5=[ebbe1d658d1005bcc118a6aa81145e00]\n",
       "class E4--><rect fill=\"#FFFFFF\" height=\"45.9375\" id=\"E4\" style=\"stroke: #383838; stroke-width: 1.5;\" width=\"66\" x=\"32\" y=\"41\"/><text fill=\"#000000\" font-family=\"sans-serif\" font-size=\"12\" font-style=\"italic\" lengthAdjust=\"spacingAndGlyphs\" textLength=\"64\" x=\"33\" y=\"57.1387\">«part def»</text><text fill=\"#000000\" font-family=\"sans-serif\" font-size=\"12\" lengthAdjust=\"spacingAndGlyphs\" textLength=\"8\" x=\"61\" y=\"71.1074\">C</text><line style=\"stroke: #383838; stroke-width: 1.5;\" x1=\"33\" x2=\"97\" y1=\"78.9375\" y2=\"78.9375\"/><!--MD5=[270fce915f116d4de14055a7c1d9a0f3]\n",
       "class E5--><rect fill=\"#FFFFFF\" height=\"45.9375\" id=\"E5\" rx=\"10\" ry=\"10\" style=\"stroke: #383838; stroke-width: 1.5;\" width=\"48\" x=\"41\" y=\"147\"/><text fill=\"#000000\" font-family=\"sans-serif\" font-size=\"12\" font-style=\"italic\" lengthAdjust=\"spacingAndGlyphs\" textLength=\"40\" x=\"45\" y=\"163.1387\">«part»</text><text fill=\"#000000\" font-family=\"sans-serif\" font-size=\"12\" lengthAdjust=\"spacingAndGlyphs\" textLength=\"42\" x=\"44\" y=\"177.1074\">g: Part</text><line style=\"stroke: #383838; stroke-width: 1.5;\" x1=\"42\" x2=\"88\" y1=\"184.9375\" y2=\"184.9375\"/><!--MD5=[209b3feb70ccb6233bfe1053d122c12c]\n",
       "reverse link E2 to E3--><path d=\"M154.32,100.44 C154.02,115.87 153.68,133.47 153.42,146.98 \" fill=\"none\" id=\"E2&lt;-E3\" style=\"stroke: #383838; stroke-width: 1.0;\"/><polygon fill=\"#383838\" points=\"154.58,87.06,150.4685,92.9842,154.3556,99.0579,158.4671,93.1337,154.58,87.06\" style=\"stroke: #383838; stroke-width: 1.0;\"/><!--MD5=[62aa6af11e70f752912c1cb0466f24f7]\n",
       "reverse link E4 to E5--><path d=\"M65,100.44 C65,115.87 65,133.47 65,146.98 \" fill=\"none\" id=\"E4&lt;-E5\" style=\"stroke: #383838; stroke-width: 1.0;\"/><polygon fill=\"#383838\" points=\"65,87.06,61,93.06,65,99.06,69,93.06,65,87.06\" style=\"stroke: #383838; stroke-width: 1.0;\"/><!--MD5=[b2c32b7f6e037b4a1401982159b53462]\n",
       "@startuml\r\n",
       "skinparam monochrome true\r\n",
       "skinparam classbackgroundcolor white\r\n",
       "skinparam shadowing false\r\n",
       "skinparam wrapWidth 300\r\n",
       "hide circle\r\n",
       "\r\n",
       "package \"Q\" as E1   {\r\n",
       "comp usage \"f: Part\" as E2  <<(T,blue)part>> {\r\n",
       "}\r\n",
       "comp usage \"a: Part\" as E3  <<(T,blue)part>> {\r\n",
       "}\r\n",
       "comp def \"C\" as E4  <<(T,blue)part def>> {\r\n",
       "}\r\n",
       "comp usage \"g: Part\" as E5  <<(T,blue)part>> {\r\n",
       "}\r\n",
       "E2 *- - E3\r\n",
       "E4 *- - E5\r\n",
       "}\r\n",
       "@enduml\r\n",
       "\n",
       "PlantUML version 1.2020.13(Sat Jun 13 12:26:38 UTC 2020)\n",
       "(EPL source distribution)\n",
       "Java Runtime: OpenJDK Runtime Environment\n",
       "JVM: OpenJDK 64-Bit Server VM\n",
       "Default Encoding: UTF-8\n",
       "Language: en\n",
       "Country: null\n",
       "--></g></svg>"
      ]
     },
     "execution_count": 43,
     "metadata": {},
     "output_type": "execute_result"
    }
   ],
   "source": [
    "%viz --style=\"DEFAULT\" --view=\"MIXED\" \"Q\""
   ]
  },
  {
   "cell_type": "code",
   "execution_count": 44,
   "id": "single-leave",
   "metadata": {
    "execution": {
     "iopub.execute_input": "2021-03-25T15:59:40.110796Z",
     "iopub.status.busy": "2021-03-25T15:59:40.110229Z",
     "iopub.status.idle": "2021-03-25T15:59:40.187623Z",
     "shell.execute_reply": "2021-03-25T15:59:40.188215Z"
    }
   },
   "outputs": [
    {
     "data": {
      "image/svg+xml": [
       "<?xml version=\"1.0\" encoding=\"UTF-8\" standalone=\"no\"?><svg xmlns=\"http://www.w3.org/2000/svg\" xmlns:xlink=\"http://www.w3.org/1999/xlink\" contentScriptType=\"application/ecmascript\" contentStyleType=\"text/css\" height=\"221px\" preserveAspectRatio=\"none\" style=\"width:215px;height:221px;\" version=\"1.1\" viewBox=\"0 0 215 221\" width=\"215px\" zoomAndPan=\"magnify\"><defs/><g><!--MD5=[fbc87193dbaf4d95561dea2c320d4a47]\n",
       "cluster E1--><polygon fill=\"#FFFFFF\" points=\"16,6,34,6,41,28.2969,193,28.2969,193,209,16,209,16,6\" style=\"stroke: #000000; stroke-width: 1.5;\"/><line style=\"stroke: #000000; stroke-width: 1.5;\" x1=\"16\" x2=\"41\" y1=\"28.2969\" y2=\"28.2969\"/><text fill=\"#000000\" font-family=\"sans-serif\" font-size=\"14\" font-weight=\"bold\" lengthAdjust=\"spacingAndGlyphs\" textLength=\"12\" x=\"20\" y=\"20.9951\">Q</text><!--MD5=[b4997ac47864f28c2f74865a473b2911]\n",
       "class E2--><rect fill=\"#FFFFFF\" height=\"45.9375\" id=\"E2\" rx=\"10\" ry=\"10\" style=\"stroke: #383838; stroke-width: 1.5;\" width=\"44\" x=\"133\" y=\"41\"/><text fill=\"#000000\" font-family=\"sans-serif\" font-size=\"12\" font-style=\"italic\" lengthAdjust=\"spacingAndGlyphs\" textLength=\"40\" x=\"135\" y=\"57.1387\">«part»</text><text fill=\"#000000\" font-family=\"sans-serif\" font-size=\"12\" lengthAdjust=\"spacingAndGlyphs\" textLength=\"38\" x=\"136\" y=\"71.1074\">f: Part</text><line style=\"stroke: #383838; stroke-width: 1.5;\" x1=\"134\" x2=\"176\" y1=\"78.9375\" y2=\"78.9375\"/><!--MD5=[09b614a08d8cba4a07c9adeb5e0fee81]\n",
       "class E3--><rect fill=\"#FFFFFF\" height=\"45.9375\" id=\"E3\" rx=\"10\" ry=\"10\" style=\"stroke: #383838; stroke-width: 1.5;\" width=\"48\" x=\"129\" y=\"147\"/><text fill=\"#000000\" font-family=\"sans-serif\" font-size=\"12\" font-style=\"italic\" lengthAdjust=\"spacingAndGlyphs\" textLength=\"40\" x=\"133\" y=\"163.1387\">«part»</text><text fill=\"#000000\" font-family=\"sans-serif\" font-size=\"12\" lengthAdjust=\"spacingAndGlyphs\" textLength=\"42\" x=\"132\" y=\"177.1074\">a: Part</text><line style=\"stroke: #383838; stroke-width: 1.5;\" x1=\"130\" x2=\"176\" y1=\"184.9375\" y2=\"184.9375\"/><!--MD5=[ebbe1d658d1005bcc118a6aa81145e00]\n",
       "class E4--><rect fill=\"#FFFFFF\" height=\"45.9375\" id=\"E4\" style=\"stroke: #383838; stroke-width: 1.5;\" width=\"66\" x=\"32\" y=\"41\"/><text fill=\"#000000\" font-family=\"sans-serif\" font-size=\"12\" font-style=\"italic\" lengthAdjust=\"spacingAndGlyphs\" textLength=\"64\" x=\"33\" y=\"57.1387\">«part def»</text><text fill=\"#000000\" font-family=\"sans-serif\" font-size=\"12\" lengthAdjust=\"spacingAndGlyphs\" textLength=\"8\" x=\"61\" y=\"71.1074\">C</text><line style=\"stroke: #383838; stroke-width: 1.5;\" x1=\"33\" x2=\"97\" y1=\"78.9375\" y2=\"78.9375\"/><!--MD5=[270fce915f116d4de14055a7c1d9a0f3]\n",
       "class E5--><rect fill=\"#FFFFFF\" height=\"45.9375\" id=\"E5\" rx=\"10\" ry=\"10\" style=\"stroke: #383838; stroke-width: 1.5;\" width=\"48\" x=\"41\" y=\"147\"/><text fill=\"#000000\" font-family=\"sans-serif\" font-size=\"12\" font-style=\"italic\" lengthAdjust=\"spacingAndGlyphs\" textLength=\"40\" x=\"45\" y=\"163.1387\">«part»</text><text fill=\"#000000\" font-family=\"sans-serif\" font-size=\"12\" lengthAdjust=\"spacingAndGlyphs\" textLength=\"42\" x=\"44\" y=\"177.1074\">g: Part</text><line style=\"stroke: #383838; stroke-width: 1.5;\" x1=\"42\" x2=\"88\" y1=\"184.9375\" y2=\"184.9375\"/><!--MD5=[209b3feb70ccb6233bfe1053d122c12c]\n",
       "reverse link E2 to E3--><path d=\"M154.32,100.44 C154.02,115.87 153.68,133.47 153.42,146.98 \" fill=\"none\" id=\"E2&lt;-E3\" style=\"stroke: #383838; stroke-width: 1.0;\"/><polygon fill=\"#383838\" points=\"154.58,87.06,150.4685,92.9842,154.3556,99.0579,158.4671,93.1337,154.58,87.06\" style=\"stroke: #383838; stroke-width: 1.0;\"/><!--MD5=[62aa6af11e70f752912c1cb0466f24f7]\n",
       "reverse link E4 to E5--><path d=\"M65,100.44 C65,115.87 65,133.47 65,146.98 \" fill=\"none\" id=\"E4&lt;-E5\" style=\"stroke: #383838; stroke-width: 1.0;\"/><polygon fill=\"#383838\" points=\"65,87.06,61,93.06,65,99.06,69,93.06,65,87.06\" style=\"stroke: #383838; stroke-width: 1.0;\"/><!--MD5=[185f2f414ed313cdf9c488f77825e8d4]\n",
       "@startuml\r\n",
       "top to bottom direction\r\n",
       "skinparam monochrome true\r\n",
       "skinparam classbackgroundcolor white\r\n",
       "skinparam shadowing false\r\n",
       "skinparam wrapWidth 300\r\n",
       "hide circle\r\n",
       "\r\n",
       "package \"Q\" as E1   {\r\n",
       "comp usage \"f: Part\" as E2  <<(T,blue)part>> {\r\n",
       "}\r\n",
       "comp usage \"a: Part\" as E3  <<(T,blue)part>> {\r\n",
       "}\r\n",
       "comp def \"C\" as E4  <<(T,blue)part def>> {\r\n",
       "}\r\n",
       "comp usage \"g: Part\" as E5  <<(T,blue)part>> {\r\n",
       "}\r\n",
       "E2 *- - E3\r\n",
       "E4 *- - E5\r\n",
       "}\r\n",
       "@enduml\r\n",
       "\n",
       "PlantUML version 1.2020.13(Sat Jun 13 12:26:38 UTC 2020)\n",
       "(EPL source distribution)\n",
       "Java Runtime: OpenJDK Runtime Environment\n",
       "JVM: OpenJDK 64-Bit Server VM\n",
       "Default Encoding: UTF-8\n",
       "Language: en\n",
       "Country: null\n",
       "--></g></svg>"
      ]
     },
     "execution_count": 44,
     "metadata": {},
     "output_type": "execute_result"
    }
   ],
   "source": [
    "%viz --style=\"TB\" --view=\"Default\" \"Q\""
   ]
  },
  {
   "cell_type": "code",
   "execution_count": 45,
   "id": "searching-ballot",
   "metadata": {
    "execution": {
     "iopub.execute_input": "2021-03-25T15:59:40.239807Z",
     "iopub.status.busy": "2021-03-25T15:59:40.238881Z",
     "iopub.status.idle": "2021-03-25T15:59:40.349421Z",
     "shell.execute_reply": "2021-03-25T15:59:40.350011Z"
    }
   },
   "outputs": [
    {
     "data": {
      "image/svg+xml": [
       "<?xml version=\"1.0\" encoding=\"UTF-8\" standalone=\"no\"?><svg xmlns=\"http://www.w3.org/2000/svg\" xmlns:xlink=\"http://www.w3.org/1999/xlink\" contentScriptType=\"application/ecmascript\" contentStyleType=\"text/css\" height=\"221px\" preserveAspectRatio=\"none\" style=\"width:215px;height:221px;\" version=\"1.1\" viewBox=\"0 0 215 221\" width=\"215px\" zoomAndPan=\"magnify\"><defs/><g><!--MD5=[fbc87193dbaf4d95561dea2c320d4a47]\n",
       "cluster E1--><polygon fill=\"#FFFFFF\" points=\"16,6,34,6,41,28.2969,193,28.2969,193,209,16,209,16,6\" style=\"stroke: #000000; stroke-width: 1.5;\"/><line style=\"stroke: #000000; stroke-width: 1.5;\" x1=\"16\" x2=\"41\" y1=\"28.2969\" y2=\"28.2969\"/><text fill=\"#000000\" font-family=\"sans-serif\" font-size=\"14\" font-weight=\"bold\" lengthAdjust=\"spacingAndGlyphs\" textLength=\"12\" x=\"20\" y=\"20.9951\">Q</text><!--MD5=[b4997ac47864f28c2f74865a473b2911]\n",
       "class E2--><rect fill=\"#FFFFFF\" height=\"45.9375\" id=\"E2\" rx=\"10\" ry=\"10\" style=\"stroke: #383838; stroke-width: 1.5;\" width=\"44\" x=\"133\" y=\"41\"/><text fill=\"#000000\" font-family=\"sans-serif\" font-size=\"12\" font-style=\"italic\" lengthAdjust=\"spacingAndGlyphs\" textLength=\"40\" x=\"135\" y=\"57.1387\">«part»</text><text fill=\"#000000\" font-family=\"sans-serif\" font-size=\"12\" lengthAdjust=\"spacingAndGlyphs\" textLength=\"38\" x=\"136\" y=\"71.1074\">f: Part</text><line style=\"stroke: #383838; stroke-width: 1.5;\" x1=\"134\" x2=\"176\" y1=\"78.9375\" y2=\"78.9375\"/><!--MD5=[09b614a08d8cba4a07c9adeb5e0fee81]\n",
       "class E3--><rect fill=\"#FFFFFF\" height=\"45.9375\" id=\"E3\" rx=\"10\" ry=\"10\" style=\"stroke: #383838; stroke-width: 1.5;\" width=\"48\" x=\"129\" y=\"147\"/><text fill=\"#000000\" font-family=\"sans-serif\" font-size=\"12\" font-style=\"italic\" lengthAdjust=\"spacingAndGlyphs\" textLength=\"40\" x=\"133\" y=\"163.1387\">«part»</text><text fill=\"#000000\" font-family=\"sans-serif\" font-size=\"12\" lengthAdjust=\"spacingAndGlyphs\" textLength=\"42\" x=\"132\" y=\"177.1074\">a: Part</text><line style=\"stroke: #383838; stroke-width: 1.5;\" x1=\"130\" x2=\"176\" y1=\"184.9375\" y2=\"184.9375\"/><!--MD5=[ebbe1d658d1005bcc118a6aa81145e00]\n",
       "class E4--><rect fill=\"#FFFFFF\" height=\"45.9375\" id=\"E4\" style=\"stroke: #383838; stroke-width: 1.5;\" width=\"66\" x=\"32\" y=\"41\"/><text fill=\"#000000\" font-family=\"sans-serif\" font-size=\"12\" font-style=\"italic\" lengthAdjust=\"spacingAndGlyphs\" textLength=\"64\" x=\"33\" y=\"57.1387\">«part def»</text><text fill=\"#000000\" font-family=\"sans-serif\" font-size=\"12\" lengthAdjust=\"spacingAndGlyphs\" textLength=\"8\" x=\"61\" y=\"71.1074\">C</text><line style=\"stroke: #383838; stroke-width: 1.5;\" x1=\"33\" x2=\"97\" y1=\"78.9375\" y2=\"78.9375\"/><!--MD5=[270fce915f116d4de14055a7c1d9a0f3]\n",
       "class E5--><rect fill=\"#FFFFFF\" height=\"45.9375\" id=\"E5\" rx=\"10\" ry=\"10\" style=\"stroke: #383838; stroke-width: 1.5;\" width=\"48\" x=\"41\" y=\"147\"/><text fill=\"#000000\" font-family=\"sans-serif\" font-size=\"12\" font-style=\"italic\" lengthAdjust=\"spacingAndGlyphs\" textLength=\"40\" x=\"45\" y=\"163.1387\">«part»</text><text fill=\"#000000\" font-family=\"sans-serif\" font-size=\"12\" lengthAdjust=\"spacingAndGlyphs\" textLength=\"42\" x=\"44\" y=\"177.1074\">g: Part</text><line style=\"stroke: #383838; stroke-width: 1.5;\" x1=\"42\" x2=\"88\" y1=\"184.9375\" y2=\"184.9375\"/><!--MD5=[209b3feb70ccb6233bfe1053d122c12c]\n",
       "reverse link E2 to E3--><path d=\"M154.32,100.44 C154.02,115.87 153.68,133.47 153.42,146.98 \" fill=\"none\" id=\"E2&lt;-E3\" style=\"stroke: #383838; stroke-width: 1.0;\"/><polygon fill=\"#383838\" points=\"154.58,87.06,150.4685,92.9842,154.3556,99.0579,158.4671,93.1337,154.58,87.06\" style=\"stroke: #383838; stroke-width: 1.0;\"/><!--MD5=[62aa6af11e70f752912c1cb0466f24f7]\n",
       "reverse link E4 to E5--><path d=\"M65,100.44 C65,115.87 65,133.47 65,146.98 \" fill=\"none\" id=\"E4&lt;-E5\" style=\"stroke: #383838; stroke-width: 1.0;\"/><polygon fill=\"#383838\" points=\"65,87.06,61,93.06,65,99.06,69,93.06,65,87.06\" style=\"stroke: #383838; stroke-width: 1.0;\"/><!--MD5=[185f2f414ed313cdf9c488f77825e8d4]\n",
       "@startuml\r\n",
       "top to bottom direction\r\n",
       "skinparam monochrome true\r\n",
       "skinparam classbackgroundcolor white\r\n",
       "skinparam shadowing false\r\n",
       "skinparam wrapWidth 300\r\n",
       "hide circle\r\n",
       "\r\n",
       "package \"Q\" as E1   {\r\n",
       "comp usage \"f: Part\" as E2  <<(T,blue)part>> {\r\n",
       "}\r\n",
       "comp usage \"a: Part\" as E3  <<(T,blue)part>> {\r\n",
       "}\r\n",
       "comp def \"C\" as E4  <<(T,blue)part def>> {\r\n",
       "}\r\n",
       "comp usage \"g: Part\" as E5  <<(T,blue)part>> {\r\n",
       "}\r\n",
       "E2 *- - E3\r\n",
       "E4 *- - E5\r\n",
       "}\r\n",
       "@enduml\r\n",
       "\n",
       "PlantUML version 1.2020.13(Sat Jun 13 12:26:38 UTC 2020)\n",
       "(EPL source distribution)\n",
       "Java Runtime: OpenJDK Runtime Environment\n",
       "JVM: OpenJDK 64-Bit Server VM\n",
       "Default Encoding: UTF-8\n",
       "Language: en\n",
       "Country: null\n",
       "--></g></svg>"
      ]
     },
     "execution_count": 45,
     "metadata": {},
     "output_type": "execute_result"
    }
   ],
   "source": [
    "%viz --style=\"TB\" --view=\"Tree\" \"Q\""
   ]
  },
  {
   "cell_type": "code",
   "execution_count": 46,
   "id": "narrative-replication",
   "metadata": {
    "execution": {
     "iopub.execute_input": "2021-03-25T15:59:40.401021Z",
     "iopub.status.busy": "2021-03-25T15:59:40.400244Z",
     "iopub.status.idle": "2021-03-25T15:59:40.402529Z",
     "shell.execute_reply": "2021-03-25T15:59:40.403029Z"
    }
   },
   "outputs": [
    {
     "data": {
      "text/plain": [
       "java.lang.IllegalArgumentException: Invalid View: State View candidates are: Default Tree StateMachine Interconnection Activity Sequence MIXED \n",
       "\tat org.omg.sysml.plantuml.SysML2PlantUMLSvc.setView(SysML2PlantUMLSvc.java:63)\n",
       "\tat org.omg.sysml.interactive.SysMLInteractive.viz(SysMLInteractive.java:286)\n",
       "\tat org.omg.sysml.jupyter.kernel.magic.Viz.viz(Viz.java:47)\n",
       "\tat jdk.internal.reflect.GeneratedMethodAccessor12.invoke(Unknown Source)\n",
       "\tat java.base/jdk.internal.reflect.DelegatingMethodAccessorImpl.invoke(DelegatingMethodAccessorImpl.java:43)\n",
       "\tat java.base/java.lang.reflect.Method.invoke(Method.java:568)\n",
       "\tat io.github.spencerpark.jupyter.kernel.magic.registry.Magics.invoke(Magics.java:89)\n",
       "\tat io.github.spencerpark.jupyter.kernel.magic.registry.Magics.access$000(Magics.java:8)\n",
       "\tat io.github.spencerpark.jupyter.kernel.magic.registry.Magics$LineReflectionMagicFunction.execute(Magics.java:149)\n",
       "\tat io.github.spencerpark.jupyter.kernel.magic.registry.Magics.applyLineMagic(Magics.java:26)\n",
       "\tat org.omg.sysml.jupyter.kernel.SysMLKernel.eval(SysMLKernel.java:76)\n",
       "\tat io.github.spencerpark.jupyter.kernel.BaseKernel.handleExecuteRequest(BaseKernel.java:334)\n",
       "\tat io.github.spencerpark.jupyter.channels.ShellChannel.lambda$bind$0(ShellChannel.java:64)\n",
       "\tat io.github.spencerpark.jupyter.channels.Loop.lambda$new$0(Loop.java:21)\n",
       "\tat io.github.spencerpark.jupyter.channels.Loop.run(Loop.java:78)\n"
      ]
     },
     "execution_count": 46,
     "metadata": {},
     "output_type": "execute_result"
    }
   ],
   "source": [
    "%viz --style=\"TB\" --view=\"State\" \"Q\""
   ]
  },
  {
   "cell_type": "code",
   "execution_count": 47,
   "id": "prostate-trace",
   "metadata": {
    "execution": {
     "iopub.execute_input": "2021-03-25T15:59:40.455593Z",
     "iopub.status.busy": "2021-03-25T15:59:40.454652Z",
     "iopub.status.idle": "2021-03-25T15:59:40.519206Z",
     "shell.execute_reply": "2021-03-25T15:59:40.518786Z"
    }
   },
   "outputs": [
    {
     "data": {
      "image/svg+xml": [
       "<?xml version=\"1.0\" encoding=\"UTF-8\" standalone=\"no\"?><svg xmlns=\"http://www.w3.org/2000/svg\" xmlns:xlink=\"http://www.w3.org/1999/xlink\" contentScriptType=\"application/ecmascript\" contentStyleType=\"text/css\" height=\"202px\" preserveAspectRatio=\"none\" style=\"width:354px;height:202px;\" version=\"1.1\" viewBox=\"0 0 354 202\" width=\"354px\" zoomAndPan=\"magnify\"><defs/><g><!--MD5=[fbc87193dbaf4d95561dea2c320d4a47]\n",
       "cluster E1--><polygon fill=\"#FFFFFF\" points=\"16,6,34,6,41,28.2969,332,28.2969,332,190,16,190,16,6\" style=\"stroke: #000000; stroke-width: 1.5;\"/><line style=\"stroke: #000000; stroke-width: 1.5;\" x1=\"16\" x2=\"41\" y1=\"28.2969\" y2=\"28.2969\"/><text fill=\"#000000\" font-family=\"sans-serif\" font-size=\"14\" font-weight=\"bold\" lengthAdjust=\"spacingAndGlyphs\" textLength=\"12\" x=\"20\" y=\"20.9951\">Q</text><!--MD5=[e4f7fae6ed58524ba242bb0b0d3be6b7]\n",
       "cluster E2--><rect fill=\"#F8F8F8\" height=\"101\" rx=\"12.5\" ry=\"12.5\" style=\"stroke: #000000; stroke-width: 1.5;\" width=\"96\" x=\"212\" y=\"65\"/><rect fill=\"#FFFFFF\" height=\"68.7031\" rx=\"12.5\" ry=\"12.5\" style=\"stroke: #FFFFFF; stroke-width: 1.0;\" width=\"90\" x=\"215\" y=\"94.2969\"/><line style=\"stroke: #000000; stroke-width: 1.5;\" x1=\"212\" x2=\"308\" y1=\"91.2969\" y2=\"91.2969\"/><text fill=\"#000000\" font-family=\"sans-serif\" font-size=\"14\" lengthAdjust=\"spacingAndGlyphs\" textLength=\"40\" x=\"240\" y=\"81.9951\">f: Part</text><!--MD5=[f6df4d0ebaf0b5dfb2ced0ae5af7c670]\n",
       "cluster E4--><rect fill=\"#FFFFFF\" height=\"117\" style=\"stroke: #000000; stroke-width: 1.5;\" width=\"148\" x=\"40\" y=\"49\"/><text fill=\"#000000\" font-family=\"sans-serif\" font-size=\"14\" font-style=\"italic\" lengthAdjust=\"spacingAndGlyphs\" textLength=\"71\" x=\"78.5\" y=\"63.9951\">«part def»</text><text fill=\"#000000\" font-family=\"sans-serif\" font-size=\"14\" font-weight=\"bold\" lengthAdjust=\"spacingAndGlyphs\" textLength=\"11\" x=\"108.5\" y=\"80.292\">C</text><g id=\"E1.E2.E3\"><rect fill=\"#FFFFFF\" height=\"50\" rx=\"12.5\" ry=\"12.5\" style=\"stroke: #383838; stroke-width: 1.5;\" width=\"64\" x=\"228\" y=\"100\"/><line style=\"stroke: #383838; stroke-width: 1.5;\" x1=\"228\" x2=\"292\" y1=\"126.2969\" y2=\"126.2969\"/><text fill=\"#000000\" font-family=\"sans-serif\" font-size=\"14\" lengthAdjust=\"spacingAndGlyphs\" textLength=\"44\" x=\"238\" y=\"117.9951\">a: Part</text></g><g id=\"E1.E4.E5\"><rect fill=\"#FFFFFF\" height=\"50\" rx=\"12.5\" ry=\"12.5\" style=\"stroke: #383838; stroke-width: 1.5;\" width=\"116\" x=\"56\" y=\"100\"/><line style=\"stroke: #383838; stroke-width: 1.5;\" x1=\"56\" x2=\"172\" y1=\"126.2969\" y2=\"126.2969\"/><text fill=\"#000000\" font-family=\"sans-serif\" font-size=\"14\" lengthAdjust=\"spacingAndGlyphs\" textLength=\"92\" x=\"66\" y=\"117.9951\">g: Part= ./f/a;</text></g><!--MD5=[4dc2bb56b903c40d62a1c9d80a5b721c]\n",
       "@startuml\r\n",
       "skinparam ranksep 8\r\n",
       "skinparam rectangle {\r\n",
       " backgroundColor<<block>> LightGreen\r\n",
       "}\r\n",
       "top to bottom direction\r\n",
       "skinparam monochrome true\r\n",
       "skinparam classbackgroundcolor white\r\n",
       "skinparam shadowing false\r\n",
       "skinparam wrapWidth 300\r\n",
       "hide circle\r\n",
       "\r\n",
       "package \"Q\" as E1   {\r\n",
       "rec usage \"f: Part\" as E2  {\r\n",
       "rec usage \"a: Part\" as E3  {\r\n",
       "}\r\n",
       "}\r\n",
       "rec def \"C\" as E4  <<part def>> {\r\n",
       "rec usage \"g: Part= ./f/a; \" as E5  {\r\n",
       "}\r\n",
       "}\r\n",
       "}\r\n",
       "@enduml\r\n",
       "\n",
       "PlantUML version 1.2020.13(Sat Jun 13 12:26:38 UTC 2020)\n",
       "(EPL source distribution)\n",
       "Java Runtime: OpenJDK Runtime Environment\n",
       "JVM: OpenJDK 64-Bit Server VM\n",
       "Default Encoding: UTF-8\n",
       "Language: en\n",
       "Country: null\n",
       "--></g></svg>"
      ]
     },
     "execution_count": 47,
     "metadata": {},
     "output_type": "execute_result"
    }
   ],
   "source": [
    "%viz --style=\"TB\" --view=\"Interconnection\" \"Q\""
   ]
  },
  {
   "cell_type": "code",
   "execution_count": 48,
   "id": "running-beaver",
   "metadata": {
    "execution": {
     "iopub.execute_input": "2021-03-25T15:59:40.569993Z",
     "iopub.status.busy": "2021-03-25T15:59:40.569419Z",
     "iopub.status.idle": "2021-03-25T15:59:40.572970Z",
     "shell.execute_reply": "2021-03-25T15:59:40.573468Z"
    }
   },
   "outputs": [
    {
     "data": {
      "text/plain": [
       "java.lang.IllegalArgumentException: Invalid View: Action View candidates are: Default Tree StateMachine Interconnection Activity Sequence MIXED \n",
       "\tat org.omg.sysml.plantuml.SysML2PlantUMLSvc.setView(SysML2PlantUMLSvc.java:63)\n",
       "\tat org.omg.sysml.interactive.SysMLInteractive.viz(SysMLInteractive.java:286)\n",
       "\tat org.omg.sysml.jupyter.kernel.magic.Viz.viz(Viz.java:47)\n",
       "\tat jdk.internal.reflect.GeneratedMethodAccessor12.invoke(Unknown Source)\n",
       "\tat java.base/jdk.internal.reflect.DelegatingMethodAccessorImpl.invoke(DelegatingMethodAccessorImpl.java:43)\n",
       "\tat java.base/java.lang.reflect.Method.invoke(Method.java:568)\n",
       "\tat io.github.spencerpark.jupyter.kernel.magic.registry.Magics.invoke(Magics.java:89)\n",
       "\tat io.github.spencerpark.jupyter.kernel.magic.registry.Magics.access$000(Magics.java:8)\n",
       "\tat io.github.spencerpark.jupyter.kernel.magic.registry.Magics$LineReflectionMagicFunction.execute(Magics.java:149)\n",
       "\tat io.github.spencerpark.jupyter.kernel.magic.registry.Magics.applyLineMagic(Magics.java:26)\n",
       "\tat org.omg.sysml.jupyter.kernel.SysMLKernel.eval(SysMLKernel.java:76)\n",
       "\tat io.github.spencerpark.jupyter.kernel.BaseKernel.handleExecuteRequest(BaseKernel.java:334)\n",
       "\tat io.github.spencerpark.jupyter.channels.ShellChannel.lambda$bind$0(ShellChannel.java:64)\n",
       "\tat io.github.spencerpark.jupyter.channels.Loop.lambda$new$0(Loop.java:21)\n",
       "\tat io.github.spencerpark.jupyter.channels.Loop.run(Loop.java:78)\n"
      ]
     },
     "execution_count": 48,
     "metadata": {},
     "output_type": "execute_result"
    }
   ],
   "source": [
    "%viz --style=\"TB\" --view=\"Action\" \"Q\""
   ]
  },
  {
   "cell_type": "code",
   "execution_count": 49,
   "id": "mineral-contractor",
   "metadata": {
    "execution": {
     "iopub.execute_input": "2021-03-25T15:59:40.624925Z",
     "iopub.status.busy": "2021-03-25T15:59:40.624131Z",
     "iopub.status.idle": "2021-03-25T15:59:40.689554Z",
     "shell.execute_reply": "2021-03-25T15:59:40.689071Z"
    }
   },
   "outputs": [
    {
     "data": {
      "image/svg+xml": [
       "<?xml version=\"1.0\" encoding=\"UTF-8\" standalone=\"no\"?><svg xmlns=\"http://www.w3.org/2000/svg\" xmlns:xlink=\"http://www.w3.org/1999/xlink\" contentScriptType=\"application/ecmascript\" contentStyleType=\"text/css\" height=\"221px\" preserveAspectRatio=\"none\" style=\"width:215px;height:221px;\" version=\"1.1\" viewBox=\"0 0 215 221\" width=\"215px\" zoomAndPan=\"magnify\"><defs/><g><!--MD5=[fbc87193dbaf4d95561dea2c320d4a47]\n",
       "cluster E1--><polygon fill=\"#FFFFFF\" points=\"16,6,34,6,41,28.2969,193,28.2969,193,209,16,209,16,6\" style=\"stroke: #000000; stroke-width: 1.5;\"/><line style=\"stroke: #000000; stroke-width: 1.5;\" x1=\"16\" x2=\"41\" y1=\"28.2969\" y2=\"28.2969\"/><text fill=\"#000000\" font-family=\"sans-serif\" font-size=\"14\" font-weight=\"bold\" lengthAdjust=\"spacingAndGlyphs\" textLength=\"12\" x=\"20\" y=\"20.9951\">Q</text><!--MD5=[b4997ac47864f28c2f74865a473b2911]\n",
       "class E2--><rect fill=\"#FFFFFF\" height=\"45.9375\" id=\"E2\" rx=\"10\" ry=\"10\" style=\"stroke: #383838; stroke-width: 1.5;\" width=\"44\" x=\"133\" y=\"41\"/><text fill=\"#000000\" font-family=\"sans-serif\" font-size=\"12\" font-style=\"italic\" lengthAdjust=\"spacingAndGlyphs\" textLength=\"40\" x=\"135\" y=\"57.1387\">«part»</text><text fill=\"#000000\" font-family=\"sans-serif\" font-size=\"12\" lengthAdjust=\"spacingAndGlyphs\" textLength=\"38\" x=\"136\" y=\"71.1074\">f: Part</text><line style=\"stroke: #383838; stroke-width: 1.5;\" x1=\"134\" x2=\"176\" y1=\"78.9375\" y2=\"78.9375\"/><!--MD5=[09b614a08d8cba4a07c9adeb5e0fee81]\n",
       "class E3--><rect fill=\"#FFFFFF\" height=\"45.9375\" id=\"E3\" rx=\"10\" ry=\"10\" style=\"stroke: #383838; stroke-width: 1.5;\" width=\"48\" x=\"129\" y=\"147\"/><text fill=\"#000000\" font-family=\"sans-serif\" font-size=\"12\" font-style=\"italic\" lengthAdjust=\"spacingAndGlyphs\" textLength=\"40\" x=\"133\" y=\"163.1387\">«part»</text><text fill=\"#000000\" font-family=\"sans-serif\" font-size=\"12\" lengthAdjust=\"spacingAndGlyphs\" textLength=\"42\" x=\"132\" y=\"177.1074\">a: Part</text><line style=\"stroke: #383838; stroke-width: 1.5;\" x1=\"130\" x2=\"176\" y1=\"184.9375\" y2=\"184.9375\"/><!--MD5=[ebbe1d658d1005bcc118a6aa81145e00]\n",
       "class E4--><rect fill=\"#FFFFFF\" height=\"45.9375\" id=\"E4\" style=\"stroke: #383838; stroke-width: 1.5;\" width=\"66\" x=\"32\" y=\"41\"/><text fill=\"#000000\" font-family=\"sans-serif\" font-size=\"12\" font-style=\"italic\" lengthAdjust=\"spacingAndGlyphs\" textLength=\"64\" x=\"33\" y=\"57.1387\">«part def»</text><text fill=\"#000000\" font-family=\"sans-serif\" font-size=\"12\" lengthAdjust=\"spacingAndGlyphs\" textLength=\"8\" x=\"61\" y=\"71.1074\">C</text><line style=\"stroke: #383838; stroke-width: 1.5;\" x1=\"33\" x2=\"97\" y1=\"78.9375\" y2=\"78.9375\"/><!--MD5=[270fce915f116d4de14055a7c1d9a0f3]\n",
       "class E5--><rect fill=\"#FFFFFF\" height=\"45.9375\" id=\"E5\" rx=\"10\" ry=\"10\" style=\"stroke: #383838; stroke-width: 1.5;\" width=\"48\" x=\"41\" y=\"147\"/><text fill=\"#000000\" font-family=\"sans-serif\" font-size=\"12\" font-style=\"italic\" lengthAdjust=\"spacingAndGlyphs\" textLength=\"40\" x=\"45\" y=\"163.1387\">«part»</text><text fill=\"#000000\" font-family=\"sans-serif\" font-size=\"12\" lengthAdjust=\"spacingAndGlyphs\" textLength=\"42\" x=\"44\" y=\"177.1074\">g: Part</text><line style=\"stroke: #383838; stroke-width: 1.5;\" x1=\"42\" x2=\"88\" y1=\"184.9375\" y2=\"184.9375\"/><!--MD5=[209b3feb70ccb6233bfe1053d122c12c]\n",
       "reverse link E2 to E3--><path d=\"M154.32,100.44 C154.02,115.87 153.68,133.47 153.42,146.98 \" fill=\"none\" id=\"E2&lt;-E3\" style=\"stroke: #383838; stroke-width: 1.0;\"/><polygon fill=\"#383838\" points=\"154.58,87.06,150.4685,92.9842,154.3556,99.0579,158.4671,93.1337,154.58,87.06\" style=\"stroke: #383838; stroke-width: 1.0;\"/><!--MD5=[62aa6af11e70f752912c1cb0466f24f7]\n",
       "reverse link E4 to E5--><path d=\"M65,100.44 C65,115.87 65,133.47 65,146.98 \" fill=\"none\" id=\"E4&lt;-E5\" style=\"stroke: #383838; stroke-width: 1.0;\"/><polygon fill=\"#383838\" points=\"65,87.06,61,93.06,65,99.06,69,93.06,65,87.06\" style=\"stroke: #383838; stroke-width: 1.0;\"/><!--MD5=[185f2f414ed313cdf9c488f77825e8d4]\n",
       "@startuml\r\n",
       "top to bottom direction\r\n",
       "skinparam monochrome true\r\n",
       "skinparam classbackgroundcolor white\r\n",
       "skinparam shadowing false\r\n",
       "skinparam wrapWidth 300\r\n",
       "hide circle\r\n",
       "\r\n",
       "package \"Q\" as E1   {\r\n",
       "comp usage \"f: Part\" as E2  <<(T,blue)part>> {\r\n",
       "}\r\n",
       "comp usage \"a: Part\" as E3  <<(T,blue)part>> {\r\n",
       "}\r\n",
       "comp def \"C\" as E4  <<(T,blue)part def>> {\r\n",
       "}\r\n",
       "comp usage \"g: Part\" as E5  <<(T,blue)part>> {\r\n",
       "}\r\n",
       "E2 *- - E3\r\n",
       "E4 *- - E5\r\n",
       "}\r\n",
       "@enduml\r\n",
       "\n",
       "PlantUML version 1.2020.13(Sat Jun 13 12:26:38 UTC 2020)\n",
       "(EPL source distribution)\n",
       "Java Runtime: OpenJDK Runtime Environment\n",
       "JVM: OpenJDK 64-Bit Server VM\n",
       "Default Encoding: UTF-8\n",
       "Language: en\n",
       "Country: null\n",
       "--></g></svg>"
      ]
     },
     "execution_count": 49,
     "metadata": {},
     "output_type": "execute_result"
    }
   ],
   "source": [
    "%viz --style=\"TB\" --view=\"Sequence\" \"Q\""
   ]
  },
  {
   "cell_type": "code",
   "execution_count": 50,
   "id": "sacred-venezuela",
   "metadata": {
    "execution": {
     "iopub.execute_input": "2021-03-25T15:59:40.741637Z",
     "iopub.status.busy": "2021-03-25T15:59:40.740838Z",
     "iopub.status.idle": "2021-03-25T15:59:40.818859Z",
     "shell.execute_reply": "2021-03-25T15:59:40.818416Z"
    }
   },
   "outputs": [
    {
     "data": {
      "image/svg+xml": [
       "<?xml version=\"1.0\" encoding=\"UTF-8\" standalone=\"no\"?><svg xmlns=\"http://www.w3.org/2000/svg\" xmlns:xlink=\"http://www.w3.org/1999/xlink\" contentScriptType=\"application/ecmascript\" contentStyleType=\"text/css\" height=\"221px\" preserveAspectRatio=\"none\" style=\"width:215px;height:221px;\" version=\"1.1\" viewBox=\"0 0 215 221\" width=\"215px\" zoomAndPan=\"magnify\"><defs/><g><!--MD5=[fbc87193dbaf4d95561dea2c320d4a47]\n",
       "cluster E1--><polygon fill=\"#FFFFFF\" points=\"16,6,34,6,41,28.2969,193,28.2969,193,209,16,209,16,6\" style=\"stroke: #000000; stroke-width: 1.5;\"/><line style=\"stroke: #000000; stroke-width: 1.5;\" x1=\"16\" x2=\"41\" y1=\"28.2969\" y2=\"28.2969\"/><text fill=\"#000000\" font-family=\"sans-serif\" font-size=\"14\" font-weight=\"bold\" lengthAdjust=\"spacingAndGlyphs\" textLength=\"12\" x=\"20\" y=\"20.9951\">Q</text><!--MD5=[b4997ac47864f28c2f74865a473b2911]\n",
       "class E2--><rect fill=\"#FFFFFF\" height=\"45.9375\" id=\"E2\" rx=\"10\" ry=\"10\" style=\"stroke: #383838; stroke-width: 1.5;\" width=\"44\" x=\"133\" y=\"41\"/><text fill=\"#000000\" font-family=\"sans-serif\" font-size=\"12\" font-style=\"italic\" lengthAdjust=\"spacingAndGlyphs\" textLength=\"40\" x=\"135\" y=\"57.1387\">«part»</text><text fill=\"#000000\" font-family=\"sans-serif\" font-size=\"12\" lengthAdjust=\"spacingAndGlyphs\" textLength=\"38\" x=\"136\" y=\"71.1074\">f: Part</text><line style=\"stroke: #383838; stroke-width: 1.5;\" x1=\"134\" x2=\"176\" y1=\"78.9375\" y2=\"78.9375\"/><!--MD5=[09b614a08d8cba4a07c9adeb5e0fee81]\n",
       "class E3--><rect fill=\"#FFFFFF\" height=\"45.9375\" id=\"E3\" rx=\"10\" ry=\"10\" style=\"stroke: #383838; stroke-width: 1.5;\" width=\"48\" x=\"129\" y=\"147\"/><text fill=\"#000000\" font-family=\"sans-serif\" font-size=\"12\" font-style=\"italic\" lengthAdjust=\"spacingAndGlyphs\" textLength=\"40\" x=\"133\" y=\"163.1387\">«part»</text><text fill=\"#000000\" font-family=\"sans-serif\" font-size=\"12\" lengthAdjust=\"spacingAndGlyphs\" textLength=\"42\" x=\"132\" y=\"177.1074\">a: Part</text><line style=\"stroke: #383838; stroke-width: 1.5;\" x1=\"130\" x2=\"176\" y1=\"184.9375\" y2=\"184.9375\"/><!--MD5=[ebbe1d658d1005bcc118a6aa81145e00]\n",
       "class E4--><rect fill=\"#FFFFFF\" height=\"45.9375\" id=\"E4\" style=\"stroke: #383838; stroke-width: 1.5;\" width=\"66\" x=\"32\" y=\"41\"/><text fill=\"#000000\" font-family=\"sans-serif\" font-size=\"12\" font-style=\"italic\" lengthAdjust=\"spacingAndGlyphs\" textLength=\"64\" x=\"33\" y=\"57.1387\">«part def»</text><text fill=\"#000000\" font-family=\"sans-serif\" font-size=\"12\" lengthAdjust=\"spacingAndGlyphs\" textLength=\"8\" x=\"61\" y=\"71.1074\">C</text><line style=\"stroke: #383838; stroke-width: 1.5;\" x1=\"33\" x2=\"97\" y1=\"78.9375\" y2=\"78.9375\"/><!--MD5=[270fce915f116d4de14055a7c1d9a0f3]\n",
       "class E5--><rect fill=\"#FFFFFF\" height=\"45.9375\" id=\"E5\" rx=\"10\" ry=\"10\" style=\"stroke: #383838; stroke-width: 1.5;\" width=\"48\" x=\"41\" y=\"147\"/><text fill=\"#000000\" font-family=\"sans-serif\" font-size=\"12\" font-style=\"italic\" lengthAdjust=\"spacingAndGlyphs\" textLength=\"40\" x=\"45\" y=\"163.1387\">«part»</text><text fill=\"#000000\" font-family=\"sans-serif\" font-size=\"12\" lengthAdjust=\"spacingAndGlyphs\" textLength=\"42\" x=\"44\" y=\"177.1074\">g: Part</text><line style=\"stroke: #383838; stroke-width: 1.5;\" x1=\"42\" x2=\"88\" y1=\"184.9375\" y2=\"184.9375\"/><!--MD5=[209b3feb70ccb6233bfe1053d122c12c]\n",
       "reverse link E2 to E3--><path d=\"M154.32,100.44 C154.02,115.87 153.68,133.47 153.42,146.98 \" fill=\"none\" id=\"E2&lt;-E3\" style=\"stroke: #383838; stroke-width: 1.0;\"/><polygon fill=\"#383838\" points=\"154.58,87.06,150.4685,92.9842,154.3556,99.0579,158.4671,93.1337,154.58,87.06\" style=\"stroke: #383838; stroke-width: 1.0;\"/><!--MD5=[62aa6af11e70f752912c1cb0466f24f7]\n",
       "reverse link E4 to E5--><path d=\"M65,100.44 C65,115.87 65,133.47 65,146.98 \" fill=\"none\" id=\"E4&lt;-E5\" style=\"stroke: #383838; stroke-width: 1.0;\"/><polygon fill=\"#383838\" points=\"65,87.06,61,93.06,65,99.06,69,93.06,65,87.06\" style=\"stroke: #383838; stroke-width: 1.0;\"/><!--MD5=[185f2f414ed313cdf9c488f77825e8d4]\n",
       "@startuml\r\n",
       "top to bottom direction\r\n",
       "skinparam monochrome true\r\n",
       "skinparam classbackgroundcolor white\r\n",
       "skinparam shadowing false\r\n",
       "skinparam wrapWidth 300\r\n",
       "hide circle\r\n",
       "\r\n",
       "package \"Q\" as E1   {\r\n",
       "comp usage \"f: Part\" as E2  <<(T,blue)part>> {\r\n",
       "}\r\n",
       "comp usage \"a: Part\" as E3  <<(T,blue)part>> {\r\n",
       "}\r\n",
       "comp def \"C\" as E4  <<(T,blue)part def>> {\r\n",
       "}\r\n",
       "comp usage \"g: Part\" as E5  <<(T,blue)part>> {\r\n",
       "}\r\n",
       "E2 *- - E3\r\n",
       "E4 *- - E5\r\n",
       "}\r\n",
       "@enduml\r\n",
       "\n",
       "PlantUML version 1.2020.13(Sat Jun 13 12:26:38 UTC 2020)\n",
       "(EPL source distribution)\n",
       "Java Runtime: OpenJDK Runtime Environment\n",
       "JVM: OpenJDK 64-Bit Server VM\n",
       "Default Encoding: UTF-8\n",
       "Language: en\n",
       "Country: null\n",
       "--></g></svg>"
      ]
     },
     "execution_count": 50,
     "metadata": {},
     "output_type": "execute_result"
    }
   ],
   "source": [
    "%viz --style=\"TB\" --view=\"MIXED\" \"Q\""
   ]
  },
  {
   "cell_type": "code",
   "execution_count": 51,
   "id": "hollywood-hobby",
   "metadata": {
    "execution": {
     "iopub.execute_input": "2021-03-25T15:59:40.870875Z",
     "iopub.status.busy": "2021-03-25T15:59:40.870186Z",
     "iopub.status.idle": "2021-03-25T15:59:40.935786Z",
     "shell.execute_reply": "2021-03-25T15:59:40.935338Z"
    }
   },
   "outputs": [
    {
     "data": {
      "image/svg+xml": [
       "<?xml version=\"1.0\" encoding=\"UTF-8\" standalone=\"no\"?><svg xmlns=\"http://www.w3.org/2000/svg\" xmlns:xlink=\"http://www.w3.org/1999/xlink\" contentScriptType=\"application/ecmascript\" contentStyleType=\"text/css\" height=\"221px\" preserveAspectRatio=\"none\" style=\"width:215px;height:221px;\" version=\"1.1\" viewBox=\"0 0 215 221\" width=\"215px\" zoomAndPan=\"magnify\"><defs/><g><!--MD5=[fbc87193dbaf4d95561dea2c320d4a47]\n",
       "cluster E1--><polygon fill=\"#FFFFFF\" points=\"16,6,34,6,41,28.2969,193,28.2969,193,209,16,209,16,6\" style=\"stroke: #000000; stroke-width: 1.5;\"/><line style=\"stroke: #000000; stroke-width: 1.5;\" x1=\"16\" x2=\"41\" y1=\"28.2969\" y2=\"28.2969\"/><text fill=\"#000000\" font-family=\"sans-serif\" font-size=\"14\" font-weight=\"bold\" lengthAdjust=\"spacingAndGlyphs\" textLength=\"12\" x=\"20\" y=\"20.9951\">Q</text><!--MD5=[b4997ac47864f28c2f74865a473b2911]\n",
       "class E2--><rect fill=\"#FFFFFF\" height=\"45.9375\" id=\"E2\" rx=\"10\" ry=\"10\" style=\"stroke: #383838; stroke-width: 1.5;\" width=\"44\" x=\"133\" y=\"41\"/><text fill=\"#000000\" font-family=\"sans-serif\" font-size=\"12\" font-style=\"italic\" lengthAdjust=\"spacingAndGlyphs\" textLength=\"40\" x=\"135\" y=\"57.1387\">«part»</text><text fill=\"#000000\" font-family=\"sans-serif\" font-size=\"12\" lengthAdjust=\"spacingAndGlyphs\" textLength=\"38\" x=\"136\" y=\"71.1074\">f: Part</text><line style=\"stroke: #383838; stroke-width: 1.5;\" x1=\"134\" x2=\"176\" y1=\"78.9375\" y2=\"78.9375\"/><!--MD5=[09b614a08d8cba4a07c9adeb5e0fee81]\n",
       "class E3--><rect fill=\"#FFFFFF\" height=\"45.9375\" id=\"E3\" rx=\"10\" ry=\"10\" style=\"stroke: #383838; stroke-width: 1.5;\" width=\"48\" x=\"129\" y=\"147\"/><text fill=\"#000000\" font-family=\"sans-serif\" font-size=\"12\" font-style=\"italic\" lengthAdjust=\"spacingAndGlyphs\" textLength=\"40\" x=\"133\" y=\"163.1387\">«part»</text><text fill=\"#000000\" font-family=\"sans-serif\" font-size=\"12\" lengthAdjust=\"spacingAndGlyphs\" textLength=\"42\" x=\"132\" y=\"177.1074\">a: Part</text><line style=\"stroke: #383838; stroke-width: 1.5;\" x1=\"130\" x2=\"176\" y1=\"184.9375\" y2=\"184.9375\"/><!--MD5=[ebbe1d658d1005bcc118a6aa81145e00]\n",
       "class E4--><rect fill=\"#FFFFFF\" height=\"45.9375\" id=\"E4\" style=\"stroke: #383838; stroke-width: 1.5;\" width=\"66\" x=\"32\" y=\"41\"/><text fill=\"#000000\" font-family=\"sans-serif\" font-size=\"12\" font-style=\"italic\" lengthAdjust=\"spacingAndGlyphs\" textLength=\"64\" x=\"33\" y=\"57.1387\">«part def»</text><text fill=\"#000000\" font-family=\"sans-serif\" font-size=\"12\" lengthAdjust=\"spacingAndGlyphs\" textLength=\"8\" x=\"61\" y=\"71.1074\">C</text><line style=\"stroke: #383838; stroke-width: 1.5;\" x1=\"33\" x2=\"97\" y1=\"78.9375\" y2=\"78.9375\"/><!--MD5=[270fce915f116d4de14055a7c1d9a0f3]\n",
       "class E5--><rect fill=\"#FFFFFF\" height=\"45.9375\" id=\"E5\" rx=\"10\" ry=\"10\" style=\"stroke: #383838; stroke-width: 1.5;\" width=\"48\" x=\"41\" y=\"147\"/><text fill=\"#000000\" font-family=\"sans-serif\" font-size=\"12\" font-style=\"italic\" lengthAdjust=\"spacingAndGlyphs\" textLength=\"40\" x=\"45\" y=\"163.1387\">«part»</text><text fill=\"#000000\" font-family=\"sans-serif\" font-size=\"12\" lengthAdjust=\"spacingAndGlyphs\" textLength=\"42\" x=\"44\" y=\"177.1074\">g: Part</text><line style=\"stroke: #383838; stroke-width: 1.5;\" x1=\"42\" x2=\"88\" y1=\"184.9375\" y2=\"184.9375\"/><!--MD5=[209b3feb70ccb6233bfe1053d122c12c]\n",
       "reverse link E2 to E3--><path d=\"M155,100 C155,100 155,146.68 155,146.68 \" fill=\"none\" id=\"E2&lt;-E3\" style=\"stroke: #383838; stroke-width: 1.0;\"/><polygon fill=\"#383838\" points=\"155,87,151,93,155,99,159,93,155,87\" style=\"stroke: #383838; stroke-width: 1.0;\"/><!--MD5=[62aa6af11e70f752912c1cb0466f24f7]\n",
       "reverse link E4 to E5--><path d=\"M65,100 C65,100 65,146.68 65,146.68 \" fill=\"none\" id=\"E4&lt;-E5\" style=\"stroke: #383838; stroke-width: 1.0;\"/><polygon fill=\"#383838\" points=\"65,87,61,93,65,99,69,93,65,87\" style=\"stroke: #383838; stroke-width: 1.0;\"/><!--MD5=[bf07ce180cb9ddb88b7c0ab691c55d35]\n",
       "@startuml\r\n",
       "skinparam linetype ortho\r\n",
       "skinparam monochrome true\r\n",
       "skinparam classbackgroundcolor white\r\n",
       "skinparam shadowing false\r\n",
       "skinparam wrapWidth 300\r\n",
       "hide circle\r\n",
       "\r\n",
       "package \"Q\" as E1   {\r\n",
       "comp usage \"f: Part\" as E2  <<(T,blue)part>> {\r\n",
       "}\r\n",
       "comp usage \"a: Part\" as E3  <<(T,blue)part>> {\r\n",
       "}\r\n",
       "comp def \"C\" as E4  <<(T,blue)part def>> {\r\n",
       "}\r\n",
       "comp usage \"g: Part\" as E5  <<(T,blue)part>> {\r\n",
       "}\r\n",
       "E2 *- - E3\r\n",
       "E4 *- - E5\r\n",
       "}\r\n",
       "@enduml\r\n",
       "\n",
       "PlantUML version 1.2020.13(Sat Jun 13 12:26:38 UTC 2020)\n",
       "(EPL source distribution)\n",
       "Java Runtime: OpenJDK Runtime Environment\n",
       "JVM: OpenJDK 64-Bit Server VM\n",
       "Default Encoding: UTF-8\n",
       "Language: en\n",
       "Country: null\n",
       "--></g></svg>"
      ]
     },
     "execution_count": 51,
     "metadata": {},
     "output_type": "execute_result"
    }
   ],
   "source": [
    "%viz --style=\"ORTHOLINE\" --view=\"Default\" \"Q\""
   ]
  },
  {
   "cell_type": "code",
   "execution_count": 52,
   "id": "molecular-technician",
   "metadata": {
    "execution": {
     "iopub.execute_input": "2021-03-25T15:59:40.986072Z",
     "iopub.status.busy": "2021-03-25T15:59:40.985477Z",
     "iopub.status.idle": "2021-03-25T15:59:41.045516Z",
     "shell.execute_reply": "2021-03-25T15:59:41.044993Z"
    }
   },
   "outputs": [
    {
     "data": {
      "image/svg+xml": [
       "<?xml version=\"1.0\" encoding=\"UTF-8\" standalone=\"no\"?><svg xmlns=\"http://www.w3.org/2000/svg\" xmlns:xlink=\"http://www.w3.org/1999/xlink\" contentScriptType=\"application/ecmascript\" contentStyleType=\"text/css\" height=\"221px\" preserveAspectRatio=\"none\" style=\"width:215px;height:221px;\" version=\"1.1\" viewBox=\"0 0 215 221\" width=\"215px\" zoomAndPan=\"magnify\"><defs/><g><!--MD5=[fbc87193dbaf4d95561dea2c320d4a47]\n",
       "cluster E1--><polygon fill=\"#FFFFFF\" points=\"16,6,34,6,41,28.2969,193,28.2969,193,209,16,209,16,6\" style=\"stroke: #000000; stroke-width: 1.5;\"/><line style=\"stroke: #000000; stroke-width: 1.5;\" x1=\"16\" x2=\"41\" y1=\"28.2969\" y2=\"28.2969\"/><text fill=\"#000000\" font-family=\"sans-serif\" font-size=\"14\" font-weight=\"bold\" lengthAdjust=\"spacingAndGlyphs\" textLength=\"12\" x=\"20\" y=\"20.9951\">Q</text><!--MD5=[b4997ac47864f28c2f74865a473b2911]\n",
       "class E2--><rect fill=\"#FFFFFF\" height=\"45.9375\" id=\"E2\" rx=\"10\" ry=\"10\" style=\"stroke: #383838; stroke-width: 1.5;\" width=\"44\" x=\"133\" y=\"41\"/><text fill=\"#000000\" font-family=\"sans-serif\" font-size=\"12\" font-style=\"italic\" lengthAdjust=\"spacingAndGlyphs\" textLength=\"40\" x=\"135\" y=\"57.1387\">«part»</text><text fill=\"#000000\" font-family=\"sans-serif\" font-size=\"12\" lengthAdjust=\"spacingAndGlyphs\" textLength=\"38\" x=\"136\" y=\"71.1074\">f: Part</text><line style=\"stroke: #383838; stroke-width: 1.5;\" x1=\"134\" x2=\"176\" y1=\"78.9375\" y2=\"78.9375\"/><!--MD5=[09b614a08d8cba4a07c9adeb5e0fee81]\n",
       "class E3--><rect fill=\"#FFFFFF\" height=\"45.9375\" id=\"E3\" rx=\"10\" ry=\"10\" style=\"stroke: #383838; stroke-width: 1.5;\" width=\"48\" x=\"129\" y=\"147\"/><text fill=\"#000000\" font-family=\"sans-serif\" font-size=\"12\" font-style=\"italic\" lengthAdjust=\"spacingAndGlyphs\" textLength=\"40\" x=\"133\" y=\"163.1387\">«part»</text><text fill=\"#000000\" font-family=\"sans-serif\" font-size=\"12\" lengthAdjust=\"spacingAndGlyphs\" textLength=\"42\" x=\"132\" y=\"177.1074\">a: Part</text><line style=\"stroke: #383838; stroke-width: 1.5;\" x1=\"130\" x2=\"176\" y1=\"184.9375\" y2=\"184.9375\"/><!--MD5=[ebbe1d658d1005bcc118a6aa81145e00]\n",
       "class E4--><rect fill=\"#FFFFFF\" height=\"45.9375\" id=\"E4\" style=\"stroke: #383838; stroke-width: 1.5;\" width=\"66\" x=\"32\" y=\"41\"/><text fill=\"#000000\" font-family=\"sans-serif\" font-size=\"12\" font-style=\"italic\" lengthAdjust=\"spacingAndGlyphs\" textLength=\"64\" x=\"33\" y=\"57.1387\">«part def»</text><text fill=\"#000000\" font-family=\"sans-serif\" font-size=\"12\" lengthAdjust=\"spacingAndGlyphs\" textLength=\"8\" x=\"61\" y=\"71.1074\">C</text><line style=\"stroke: #383838; stroke-width: 1.5;\" x1=\"33\" x2=\"97\" y1=\"78.9375\" y2=\"78.9375\"/><!--MD5=[270fce915f116d4de14055a7c1d9a0f3]\n",
       "class E5--><rect fill=\"#FFFFFF\" height=\"45.9375\" id=\"E5\" rx=\"10\" ry=\"10\" style=\"stroke: #383838; stroke-width: 1.5;\" width=\"48\" x=\"41\" y=\"147\"/><text fill=\"#000000\" font-family=\"sans-serif\" font-size=\"12\" font-style=\"italic\" lengthAdjust=\"spacingAndGlyphs\" textLength=\"40\" x=\"45\" y=\"163.1387\">«part»</text><text fill=\"#000000\" font-family=\"sans-serif\" font-size=\"12\" lengthAdjust=\"spacingAndGlyphs\" textLength=\"42\" x=\"44\" y=\"177.1074\">g: Part</text><line style=\"stroke: #383838; stroke-width: 1.5;\" x1=\"42\" x2=\"88\" y1=\"184.9375\" y2=\"184.9375\"/><!--MD5=[209b3feb70ccb6233bfe1053d122c12c]\n",
       "reverse link E2 to E3--><path d=\"M155,100 C155,100 155,146.68 155,146.68 \" fill=\"none\" id=\"E2&lt;-E3\" style=\"stroke: #383838; stroke-width: 1.0;\"/><polygon fill=\"#383838\" points=\"155,87,151,93,155,99,159,93,155,87\" style=\"stroke: #383838; stroke-width: 1.0;\"/><!--MD5=[62aa6af11e70f752912c1cb0466f24f7]\n",
       "reverse link E4 to E5--><path d=\"M65,100 C65,100 65,146.68 65,146.68 \" fill=\"none\" id=\"E4&lt;-E5\" style=\"stroke: #383838; stroke-width: 1.0;\"/><polygon fill=\"#383838\" points=\"65,87,61,93,65,99,69,93,65,87\" style=\"stroke: #383838; stroke-width: 1.0;\"/><!--MD5=[bf07ce180cb9ddb88b7c0ab691c55d35]\n",
       "@startuml\r\n",
       "skinparam linetype ortho\r\n",
       "skinparam monochrome true\r\n",
       "skinparam classbackgroundcolor white\r\n",
       "skinparam shadowing false\r\n",
       "skinparam wrapWidth 300\r\n",
       "hide circle\r\n",
       "\r\n",
       "package \"Q\" as E1   {\r\n",
       "comp usage \"f: Part\" as E2  <<(T,blue)part>> {\r\n",
       "}\r\n",
       "comp usage \"a: Part\" as E3  <<(T,blue)part>> {\r\n",
       "}\r\n",
       "comp def \"C\" as E4  <<(T,blue)part def>> {\r\n",
       "}\r\n",
       "comp usage \"g: Part\" as E5  <<(T,blue)part>> {\r\n",
       "}\r\n",
       "E2 *- - E3\r\n",
       "E4 *- - E5\r\n",
       "}\r\n",
       "@enduml\r\n",
       "\n",
       "PlantUML version 1.2020.13(Sat Jun 13 12:26:38 UTC 2020)\n",
       "(EPL source distribution)\n",
       "Java Runtime: OpenJDK Runtime Environment\n",
       "JVM: OpenJDK 64-Bit Server VM\n",
       "Default Encoding: UTF-8\n",
       "Language: en\n",
       "Country: null\n",
       "--></g></svg>"
      ]
     },
     "execution_count": 52,
     "metadata": {},
     "output_type": "execute_result"
    }
   ],
   "source": [
    "%viz --style=\"ORTHOLINE\" --view=\"Tree\" \"Q\""
   ]
  },
  {
   "cell_type": "code",
   "execution_count": 53,
   "id": "grateful-bread",
   "metadata": {
    "execution": {
     "iopub.execute_input": "2021-03-25T15:59:41.095218Z",
     "iopub.status.busy": "2021-03-25T15:59:41.094714Z",
     "iopub.status.idle": "2021-03-25T15:59:41.096918Z",
     "shell.execute_reply": "2021-03-25T15:59:41.096494Z"
    }
   },
   "outputs": [
    {
     "data": {
      "text/plain": [
       "java.lang.IllegalArgumentException: Invalid View: State View candidates are: Default Tree StateMachine Interconnection Activity Sequence MIXED \n",
       "\tat org.omg.sysml.plantuml.SysML2PlantUMLSvc.setView(SysML2PlantUMLSvc.java:63)\n",
       "\tat org.omg.sysml.interactive.SysMLInteractive.viz(SysMLInteractive.java:286)\n",
       "\tat org.omg.sysml.jupyter.kernel.magic.Viz.viz(Viz.java:47)\n",
       "\tat jdk.internal.reflect.GeneratedMethodAccessor12.invoke(Unknown Source)\n",
       "\tat java.base/jdk.internal.reflect.DelegatingMethodAccessorImpl.invoke(DelegatingMethodAccessorImpl.java:43)\n",
       "\tat java.base/java.lang.reflect.Method.invoke(Method.java:568)\n",
       "\tat io.github.spencerpark.jupyter.kernel.magic.registry.Magics.invoke(Magics.java:89)\n",
       "\tat io.github.spencerpark.jupyter.kernel.magic.registry.Magics.access$000(Magics.java:8)\n",
       "\tat io.github.spencerpark.jupyter.kernel.magic.registry.Magics$LineReflectionMagicFunction.execute(Magics.java:149)\n",
       "\tat io.github.spencerpark.jupyter.kernel.magic.registry.Magics.applyLineMagic(Magics.java:26)\n",
       "\tat org.omg.sysml.jupyter.kernel.SysMLKernel.eval(SysMLKernel.java:76)\n",
       "\tat io.github.spencerpark.jupyter.kernel.BaseKernel.handleExecuteRequest(BaseKernel.java:334)\n",
       "\tat io.github.spencerpark.jupyter.channels.ShellChannel.lambda$bind$0(ShellChannel.java:64)\n",
       "\tat io.github.spencerpark.jupyter.channels.Loop.lambda$new$0(Loop.java:21)\n",
       "\tat io.github.spencerpark.jupyter.channels.Loop.run(Loop.java:78)\n"
      ]
     },
     "execution_count": 53,
     "metadata": {},
     "output_type": "execute_result"
    }
   ],
   "source": [
    "%viz --style=\"ORTHOLINE\" --view=\"State\" \"Q\""
   ]
  },
  {
   "cell_type": "code",
   "execution_count": 54,
   "id": "large-august",
   "metadata": {
    "execution": {
     "iopub.execute_input": "2021-03-25T15:59:41.147878Z",
     "iopub.status.busy": "2021-03-25T15:59:41.147402Z",
     "iopub.status.idle": "2021-03-25T15:59:41.205625Z",
     "shell.execute_reply": "2021-03-25T15:59:41.205115Z"
    }
   },
   "outputs": [
    {
     "data": {
      "image/svg+xml": [
       "<?xml version=\"1.0\" encoding=\"UTF-8\" standalone=\"no\"?><svg xmlns=\"http://www.w3.org/2000/svg\" xmlns:xlink=\"http://www.w3.org/1999/xlink\" contentScriptType=\"application/ecmascript\" contentStyleType=\"text/css\" height=\"202px\" preserveAspectRatio=\"none\" style=\"width:354px;height:202px;\" version=\"1.1\" viewBox=\"0 0 354 202\" width=\"354px\" zoomAndPan=\"magnify\"><defs/><g><!--MD5=[fbc87193dbaf4d95561dea2c320d4a47]\n",
       "cluster E1--><polygon fill=\"#FFFFFF\" points=\"16,6,34,6,41,28.2969,332,28.2969,332,190,16,190,16,6\" style=\"stroke: #000000; stroke-width: 1.5;\"/><line style=\"stroke: #000000; stroke-width: 1.5;\" x1=\"16\" x2=\"41\" y1=\"28.2969\" y2=\"28.2969\"/><text fill=\"#000000\" font-family=\"sans-serif\" font-size=\"14\" font-weight=\"bold\" lengthAdjust=\"spacingAndGlyphs\" textLength=\"12\" x=\"20\" y=\"20.9951\">Q</text><!--MD5=[e4f7fae6ed58524ba242bb0b0d3be6b7]\n",
       "cluster E2--><rect fill=\"#F8F8F8\" height=\"101\" rx=\"12.5\" ry=\"12.5\" style=\"stroke: #000000; stroke-width: 1.5;\" width=\"96\" x=\"212\" y=\"65\"/><rect fill=\"#FFFFFF\" height=\"68.7031\" rx=\"12.5\" ry=\"12.5\" style=\"stroke: #FFFFFF; stroke-width: 1.0;\" width=\"90\" x=\"215\" y=\"94.2969\"/><line style=\"stroke: #000000; stroke-width: 1.5;\" x1=\"212\" x2=\"308\" y1=\"91.2969\" y2=\"91.2969\"/><text fill=\"#000000\" font-family=\"sans-serif\" font-size=\"14\" lengthAdjust=\"spacingAndGlyphs\" textLength=\"40\" x=\"240\" y=\"81.9951\">f: Part</text><!--MD5=[f6df4d0ebaf0b5dfb2ced0ae5af7c670]\n",
       "cluster E4--><rect fill=\"#FFFFFF\" height=\"117\" style=\"stroke: #000000; stroke-width: 1.5;\" width=\"148\" x=\"40\" y=\"49\"/><text fill=\"#000000\" font-family=\"sans-serif\" font-size=\"14\" font-style=\"italic\" lengthAdjust=\"spacingAndGlyphs\" textLength=\"71\" x=\"78.5\" y=\"63.9951\">«part def»</text><text fill=\"#000000\" font-family=\"sans-serif\" font-size=\"14\" font-weight=\"bold\" lengthAdjust=\"spacingAndGlyphs\" textLength=\"11\" x=\"108.5\" y=\"80.292\">C</text><g id=\"E1.E2.E3\"><rect fill=\"#FFFFFF\" height=\"50\" rx=\"12.5\" ry=\"12.5\" style=\"stroke: #383838; stroke-width: 1.5;\" width=\"64\" x=\"228\" y=\"100\"/><line style=\"stroke: #383838; stroke-width: 1.5;\" x1=\"228\" x2=\"292\" y1=\"126.2969\" y2=\"126.2969\"/><text fill=\"#000000\" font-family=\"sans-serif\" font-size=\"14\" lengthAdjust=\"spacingAndGlyphs\" textLength=\"44\" x=\"238\" y=\"117.9951\">a: Part</text></g><g id=\"E1.E4.E5\"><rect fill=\"#FFFFFF\" height=\"50\" rx=\"12.5\" ry=\"12.5\" style=\"stroke: #383838; stroke-width: 1.5;\" width=\"116\" x=\"56\" y=\"100\"/><line style=\"stroke: #383838; stroke-width: 1.5;\" x1=\"56\" x2=\"172\" y1=\"126.2969\" y2=\"126.2969\"/><text fill=\"#000000\" font-family=\"sans-serif\" font-size=\"14\" lengthAdjust=\"spacingAndGlyphs\" textLength=\"92\" x=\"66\" y=\"117.9951\">g: Part= ./f/a;</text></g><!--MD5=[75197553a956bf3db69de73226daacd4]\n",
       "@startuml\r\n",
       "skinparam ranksep 8\r\n",
       "skinparam rectangle {\r\n",
       " backgroundColor<<block>> LightGreen\r\n",
       "}\r\n",
       "skinparam linetype ortho\r\n",
       "skinparam monochrome true\r\n",
       "skinparam classbackgroundcolor white\r\n",
       "skinparam shadowing false\r\n",
       "skinparam wrapWidth 300\r\n",
       "hide circle\r\n",
       "\r\n",
       "package \"Q\" as E1   {\r\n",
       "rec usage \"f: Part\" as E2  {\r\n",
       "rec usage \"a: Part\" as E3  {\r\n",
       "}\r\n",
       "}\r\n",
       "rec def \"C\" as E4  <<part def>> {\r\n",
       "rec usage \"g: Part= ./f/a; \" as E5  {\r\n",
       "}\r\n",
       "}\r\n",
       "}\r\n",
       "@enduml\r\n",
       "\n",
       "PlantUML version 1.2020.13(Sat Jun 13 12:26:38 UTC 2020)\n",
       "(EPL source distribution)\n",
       "Java Runtime: OpenJDK Runtime Environment\n",
       "JVM: OpenJDK 64-Bit Server VM\n",
       "Default Encoding: UTF-8\n",
       "Language: en\n",
       "Country: null\n",
       "--></g></svg>"
      ]
     },
     "execution_count": 54,
     "metadata": {},
     "output_type": "execute_result"
    }
   ],
   "source": [
    "%viz --style=\"ORTHOLINE\" --view=\"Interconnection\" \"Q\""
   ]
  },
  {
   "cell_type": "code",
   "execution_count": 55,
   "id": "everyday-pontiac",
   "metadata": {
    "execution": {
     "iopub.execute_input": "2021-03-25T15:59:41.257501Z",
     "iopub.status.busy": "2021-03-25T15:59:41.256886Z",
     "iopub.status.idle": "2021-03-25T15:59:41.260149Z",
     "shell.execute_reply": "2021-03-25T15:59:41.259673Z"
    }
   },
   "outputs": [
    {
     "data": {
      "text/plain": [
       "java.lang.IllegalArgumentException: Invalid View: Action View candidates are: Default Tree StateMachine Interconnection Activity Sequence MIXED \n",
       "\tat org.omg.sysml.plantuml.SysML2PlantUMLSvc.setView(SysML2PlantUMLSvc.java:63)\n",
       "\tat org.omg.sysml.interactive.SysMLInteractive.viz(SysMLInteractive.java:286)\n",
       "\tat org.omg.sysml.jupyter.kernel.magic.Viz.viz(Viz.java:47)\n",
       "\tat jdk.internal.reflect.GeneratedMethodAccessor12.invoke(Unknown Source)\n",
       "\tat java.base/jdk.internal.reflect.DelegatingMethodAccessorImpl.invoke(DelegatingMethodAccessorImpl.java:43)\n",
       "\tat java.base/java.lang.reflect.Method.invoke(Method.java:568)\n",
       "\tat io.github.spencerpark.jupyter.kernel.magic.registry.Magics.invoke(Magics.java:89)\n",
       "\tat io.github.spencerpark.jupyter.kernel.magic.registry.Magics.access$000(Magics.java:8)\n",
       "\tat io.github.spencerpark.jupyter.kernel.magic.registry.Magics$LineReflectionMagicFunction.execute(Magics.java:149)\n",
       "\tat io.github.spencerpark.jupyter.kernel.magic.registry.Magics.applyLineMagic(Magics.java:26)\n",
       "\tat org.omg.sysml.jupyter.kernel.SysMLKernel.eval(SysMLKernel.java:76)\n",
       "\tat io.github.spencerpark.jupyter.kernel.BaseKernel.handleExecuteRequest(BaseKernel.java:334)\n",
       "\tat io.github.spencerpark.jupyter.channels.ShellChannel.lambda$bind$0(ShellChannel.java:64)\n",
       "\tat io.github.spencerpark.jupyter.channels.Loop.lambda$new$0(Loop.java:21)\n",
       "\tat io.github.spencerpark.jupyter.channels.Loop.run(Loop.java:78)\n"
      ]
     },
     "execution_count": 55,
     "metadata": {},
     "output_type": "execute_result"
    }
   ],
   "source": [
    "%viz --style=\"ORTHOLINE\" --view=\"Action\" \"Q\""
   ]
  },
  {
   "cell_type": "code",
   "execution_count": 56,
   "id": "protective-expansion",
   "metadata": {
    "execution": {
     "iopub.execute_input": "2021-03-25T15:59:41.310992Z",
     "iopub.status.busy": "2021-03-25T15:59:41.310518Z",
     "iopub.status.idle": "2021-03-25T15:59:41.368953Z",
     "shell.execute_reply": "2021-03-25T15:59:41.368573Z"
    }
   },
   "outputs": [
    {
     "data": {
      "image/svg+xml": [
       "<?xml version=\"1.0\" encoding=\"UTF-8\" standalone=\"no\"?><svg xmlns=\"http://www.w3.org/2000/svg\" xmlns:xlink=\"http://www.w3.org/1999/xlink\" contentScriptType=\"application/ecmascript\" contentStyleType=\"text/css\" height=\"221px\" preserveAspectRatio=\"none\" style=\"width:215px;height:221px;\" version=\"1.1\" viewBox=\"0 0 215 221\" width=\"215px\" zoomAndPan=\"magnify\"><defs/><g><!--MD5=[fbc87193dbaf4d95561dea2c320d4a47]\n",
       "cluster E1--><polygon fill=\"#FFFFFF\" points=\"16,6,34,6,41,28.2969,193,28.2969,193,209,16,209,16,6\" style=\"stroke: #000000; stroke-width: 1.5;\"/><line style=\"stroke: #000000; stroke-width: 1.5;\" x1=\"16\" x2=\"41\" y1=\"28.2969\" y2=\"28.2969\"/><text fill=\"#000000\" font-family=\"sans-serif\" font-size=\"14\" font-weight=\"bold\" lengthAdjust=\"spacingAndGlyphs\" textLength=\"12\" x=\"20\" y=\"20.9951\">Q</text><!--MD5=[b4997ac47864f28c2f74865a473b2911]\n",
       "class E2--><rect fill=\"#FFFFFF\" height=\"45.9375\" id=\"E2\" rx=\"10\" ry=\"10\" style=\"stroke: #383838; stroke-width: 1.5;\" width=\"44\" x=\"133\" y=\"41\"/><text fill=\"#000000\" font-family=\"sans-serif\" font-size=\"12\" font-style=\"italic\" lengthAdjust=\"spacingAndGlyphs\" textLength=\"40\" x=\"135\" y=\"57.1387\">«part»</text><text fill=\"#000000\" font-family=\"sans-serif\" font-size=\"12\" lengthAdjust=\"spacingAndGlyphs\" textLength=\"38\" x=\"136\" y=\"71.1074\">f: Part</text><line style=\"stroke: #383838; stroke-width: 1.5;\" x1=\"134\" x2=\"176\" y1=\"78.9375\" y2=\"78.9375\"/><!--MD5=[09b614a08d8cba4a07c9adeb5e0fee81]\n",
       "class E3--><rect fill=\"#FFFFFF\" height=\"45.9375\" id=\"E3\" rx=\"10\" ry=\"10\" style=\"stroke: #383838; stroke-width: 1.5;\" width=\"48\" x=\"129\" y=\"147\"/><text fill=\"#000000\" font-family=\"sans-serif\" font-size=\"12\" font-style=\"italic\" lengthAdjust=\"spacingAndGlyphs\" textLength=\"40\" x=\"133\" y=\"163.1387\">«part»</text><text fill=\"#000000\" font-family=\"sans-serif\" font-size=\"12\" lengthAdjust=\"spacingAndGlyphs\" textLength=\"42\" x=\"132\" y=\"177.1074\">a: Part</text><line style=\"stroke: #383838; stroke-width: 1.5;\" x1=\"130\" x2=\"176\" y1=\"184.9375\" y2=\"184.9375\"/><!--MD5=[ebbe1d658d1005bcc118a6aa81145e00]\n",
       "class E4--><rect fill=\"#FFFFFF\" height=\"45.9375\" id=\"E4\" style=\"stroke: #383838; stroke-width: 1.5;\" width=\"66\" x=\"32\" y=\"41\"/><text fill=\"#000000\" font-family=\"sans-serif\" font-size=\"12\" font-style=\"italic\" lengthAdjust=\"spacingAndGlyphs\" textLength=\"64\" x=\"33\" y=\"57.1387\">«part def»</text><text fill=\"#000000\" font-family=\"sans-serif\" font-size=\"12\" lengthAdjust=\"spacingAndGlyphs\" textLength=\"8\" x=\"61\" y=\"71.1074\">C</text><line style=\"stroke: #383838; stroke-width: 1.5;\" x1=\"33\" x2=\"97\" y1=\"78.9375\" y2=\"78.9375\"/><!--MD5=[270fce915f116d4de14055a7c1d9a0f3]\n",
       "class E5--><rect fill=\"#FFFFFF\" height=\"45.9375\" id=\"E5\" rx=\"10\" ry=\"10\" style=\"stroke: #383838; stroke-width: 1.5;\" width=\"48\" x=\"41\" y=\"147\"/><text fill=\"#000000\" font-family=\"sans-serif\" font-size=\"12\" font-style=\"italic\" lengthAdjust=\"spacingAndGlyphs\" textLength=\"40\" x=\"45\" y=\"163.1387\">«part»</text><text fill=\"#000000\" font-family=\"sans-serif\" font-size=\"12\" lengthAdjust=\"spacingAndGlyphs\" textLength=\"42\" x=\"44\" y=\"177.1074\">g: Part</text><line style=\"stroke: #383838; stroke-width: 1.5;\" x1=\"42\" x2=\"88\" y1=\"184.9375\" y2=\"184.9375\"/><!--MD5=[209b3feb70ccb6233bfe1053d122c12c]\n",
       "reverse link E2 to E3--><path d=\"M155,100 C155,100 155,146.68 155,146.68 \" fill=\"none\" id=\"E2&lt;-E3\" style=\"stroke: #383838; stroke-width: 1.0;\"/><polygon fill=\"#383838\" points=\"155,87,151,93,155,99,159,93,155,87\" style=\"stroke: #383838; stroke-width: 1.0;\"/><!--MD5=[62aa6af11e70f752912c1cb0466f24f7]\n",
       "reverse link E4 to E5--><path d=\"M65,100 C65,100 65,146.68 65,146.68 \" fill=\"none\" id=\"E4&lt;-E5\" style=\"stroke: #383838; stroke-width: 1.0;\"/><polygon fill=\"#383838\" points=\"65,87,61,93,65,99,69,93,65,87\" style=\"stroke: #383838; stroke-width: 1.0;\"/><!--MD5=[bf07ce180cb9ddb88b7c0ab691c55d35]\n",
       "@startuml\r\n",
       "skinparam linetype ortho\r\n",
       "skinparam monochrome true\r\n",
       "skinparam classbackgroundcolor white\r\n",
       "skinparam shadowing false\r\n",
       "skinparam wrapWidth 300\r\n",
       "hide circle\r\n",
       "\r\n",
       "package \"Q\" as E1   {\r\n",
       "comp usage \"f: Part\" as E2  <<(T,blue)part>> {\r\n",
       "}\r\n",
       "comp usage \"a: Part\" as E3  <<(T,blue)part>> {\r\n",
       "}\r\n",
       "comp def \"C\" as E4  <<(T,blue)part def>> {\r\n",
       "}\r\n",
       "comp usage \"g: Part\" as E5  <<(T,blue)part>> {\r\n",
       "}\r\n",
       "E2 *- - E3\r\n",
       "E4 *- - E5\r\n",
       "}\r\n",
       "@enduml\r\n",
       "\n",
       "PlantUML version 1.2020.13(Sat Jun 13 12:26:38 UTC 2020)\n",
       "(EPL source distribution)\n",
       "Java Runtime: OpenJDK Runtime Environment\n",
       "JVM: OpenJDK 64-Bit Server VM\n",
       "Default Encoding: UTF-8\n",
       "Language: en\n",
       "Country: null\n",
       "--></g></svg>"
      ]
     },
     "execution_count": 56,
     "metadata": {},
     "output_type": "execute_result"
    }
   ],
   "source": [
    "%viz --style=\"ORTHOLINE\" --view=\"Sequence\" \"Q\""
   ]
  },
  {
   "cell_type": "code",
   "execution_count": 57,
   "id": "social-israel",
   "metadata": {
    "execution": {
     "iopub.execute_input": "2021-03-25T15:59:41.420935Z",
     "iopub.status.busy": "2021-03-25T15:59:41.420356Z",
     "iopub.status.idle": "2021-03-25T15:59:41.489872Z",
     "shell.execute_reply": "2021-03-25T15:59:41.489492Z"
    }
   },
   "outputs": [
    {
     "data": {
      "image/svg+xml": [
       "<?xml version=\"1.0\" encoding=\"UTF-8\" standalone=\"no\"?><svg xmlns=\"http://www.w3.org/2000/svg\" xmlns:xlink=\"http://www.w3.org/1999/xlink\" contentScriptType=\"application/ecmascript\" contentStyleType=\"text/css\" height=\"221px\" preserveAspectRatio=\"none\" style=\"width:215px;height:221px;\" version=\"1.1\" viewBox=\"0 0 215 221\" width=\"215px\" zoomAndPan=\"magnify\"><defs/><g><!--MD5=[fbc87193dbaf4d95561dea2c320d4a47]\n",
       "cluster E1--><polygon fill=\"#FFFFFF\" points=\"16,6,34,6,41,28.2969,193,28.2969,193,209,16,209,16,6\" style=\"stroke: #000000; stroke-width: 1.5;\"/><line style=\"stroke: #000000; stroke-width: 1.5;\" x1=\"16\" x2=\"41\" y1=\"28.2969\" y2=\"28.2969\"/><text fill=\"#000000\" font-family=\"sans-serif\" font-size=\"14\" font-weight=\"bold\" lengthAdjust=\"spacingAndGlyphs\" textLength=\"12\" x=\"20\" y=\"20.9951\">Q</text><!--MD5=[b4997ac47864f28c2f74865a473b2911]\n",
       "class E2--><rect fill=\"#FFFFFF\" height=\"45.9375\" id=\"E2\" rx=\"10\" ry=\"10\" style=\"stroke: #383838; stroke-width: 1.5;\" width=\"44\" x=\"133\" y=\"41\"/><text fill=\"#000000\" font-family=\"sans-serif\" font-size=\"12\" font-style=\"italic\" lengthAdjust=\"spacingAndGlyphs\" textLength=\"40\" x=\"135\" y=\"57.1387\">«part»</text><text fill=\"#000000\" font-family=\"sans-serif\" font-size=\"12\" lengthAdjust=\"spacingAndGlyphs\" textLength=\"38\" x=\"136\" y=\"71.1074\">f: Part</text><line style=\"stroke: #383838; stroke-width: 1.5;\" x1=\"134\" x2=\"176\" y1=\"78.9375\" y2=\"78.9375\"/><!--MD5=[09b614a08d8cba4a07c9adeb5e0fee81]\n",
       "class E3--><rect fill=\"#FFFFFF\" height=\"45.9375\" id=\"E3\" rx=\"10\" ry=\"10\" style=\"stroke: #383838; stroke-width: 1.5;\" width=\"48\" x=\"129\" y=\"147\"/><text fill=\"#000000\" font-family=\"sans-serif\" font-size=\"12\" font-style=\"italic\" lengthAdjust=\"spacingAndGlyphs\" textLength=\"40\" x=\"133\" y=\"163.1387\">«part»</text><text fill=\"#000000\" font-family=\"sans-serif\" font-size=\"12\" lengthAdjust=\"spacingAndGlyphs\" textLength=\"42\" x=\"132\" y=\"177.1074\">a: Part</text><line style=\"stroke: #383838; stroke-width: 1.5;\" x1=\"130\" x2=\"176\" y1=\"184.9375\" y2=\"184.9375\"/><!--MD5=[ebbe1d658d1005bcc118a6aa81145e00]\n",
       "class E4--><rect fill=\"#FFFFFF\" height=\"45.9375\" id=\"E4\" style=\"stroke: #383838; stroke-width: 1.5;\" width=\"66\" x=\"32\" y=\"41\"/><text fill=\"#000000\" font-family=\"sans-serif\" font-size=\"12\" font-style=\"italic\" lengthAdjust=\"spacingAndGlyphs\" textLength=\"64\" x=\"33\" y=\"57.1387\">«part def»</text><text fill=\"#000000\" font-family=\"sans-serif\" font-size=\"12\" lengthAdjust=\"spacingAndGlyphs\" textLength=\"8\" x=\"61\" y=\"71.1074\">C</text><line style=\"stroke: #383838; stroke-width: 1.5;\" x1=\"33\" x2=\"97\" y1=\"78.9375\" y2=\"78.9375\"/><!--MD5=[270fce915f116d4de14055a7c1d9a0f3]\n",
       "class E5--><rect fill=\"#FFFFFF\" height=\"45.9375\" id=\"E5\" rx=\"10\" ry=\"10\" style=\"stroke: #383838; stroke-width: 1.5;\" width=\"48\" x=\"41\" y=\"147\"/><text fill=\"#000000\" font-family=\"sans-serif\" font-size=\"12\" font-style=\"italic\" lengthAdjust=\"spacingAndGlyphs\" textLength=\"40\" x=\"45\" y=\"163.1387\">«part»</text><text fill=\"#000000\" font-family=\"sans-serif\" font-size=\"12\" lengthAdjust=\"spacingAndGlyphs\" textLength=\"42\" x=\"44\" y=\"177.1074\">g: Part</text><line style=\"stroke: #383838; stroke-width: 1.5;\" x1=\"42\" x2=\"88\" y1=\"184.9375\" y2=\"184.9375\"/><!--MD5=[209b3feb70ccb6233bfe1053d122c12c]\n",
       "reverse link E2 to E3--><path d=\"M155,100 C155,100 155,146.68 155,146.68 \" fill=\"none\" id=\"E2&lt;-E3\" style=\"stroke: #383838; stroke-width: 1.0;\"/><polygon fill=\"#383838\" points=\"155,87,151,93,155,99,159,93,155,87\" style=\"stroke: #383838; stroke-width: 1.0;\"/><!--MD5=[62aa6af11e70f752912c1cb0466f24f7]\n",
       "reverse link E4 to E5--><path d=\"M65,100 C65,100 65,146.68 65,146.68 \" fill=\"none\" id=\"E4&lt;-E5\" style=\"stroke: #383838; stroke-width: 1.0;\"/><polygon fill=\"#383838\" points=\"65,87,61,93,65,99,69,93,65,87\" style=\"stroke: #383838; stroke-width: 1.0;\"/><!--MD5=[bf07ce180cb9ddb88b7c0ab691c55d35]\n",
       "@startuml\r\n",
       "skinparam linetype ortho\r\n",
       "skinparam monochrome true\r\n",
       "skinparam classbackgroundcolor white\r\n",
       "skinparam shadowing false\r\n",
       "skinparam wrapWidth 300\r\n",
       "hide circle\r\n",
       "\r\n",
       "package \"Q\" as E1   {\r\n",
       "comp usage \"f: Part\" as E2  <<(T,blue)part>> {\r\n",
       "}\r\n",
       "comp usage \"a: Part\" as E3  <<(T,blue)part>> {\r\n",
       "}\r\n",
       "comp def \"C\" as E4  <<(T,blue)part def>> {\r\n",
       "}\r\n",
       "comp usage \"g: Part\" as E5  <<(T,blue)part>> {\r\n",
       "}\r\n",
       "E2 *- - E3\r\n",
       "E4 *- - E5\r\n",
       "}\r\n",
       "@enduml\r\n",
       "\n",
       "PlantUML version 1.2020.13(Sat Jun 13 12:26:38 UTC 2020)\n",
       "(EPL source distribution)\n",
       "Java Runtime: OpenJDK Runtime Environment\n",
       "JVM: OpenJDK 64-Bit Server VM\n",
       "Default Encoding: UTF-8\n",
       "Language: en\n",
       "Country: null\n",
       "--></g></svg>"
      ]
     },
     "execution_count": 57,
     "metadata": {},
     "output_type": "execute_result"
    }
   ],
   "source": [
    "%viz --style=\"ORTHOLINE\" --view=\"MIXED\" \"Q\""
   ]
  }
 ],
 "metadata": {
  "kernelspec": {
   "display_name": "SysML",
   "language": "sysml",
   "name": "sysml"
  },
  "language_info": {
   "codemirror_mode": "sysml",
   "file_extension": ".sysml",
   "mimetype": "text/x-sysml",
   "name": "SysML",
   "pygments_lexer": "java",
   "version": "1.0.0"
  }
 },
 "nbformat": 4,
 "nbformat_minor": 5
}
