{
 "cells": [
  {
   "cell_type": "markdown",
   "id": "split-checkout",
   "metadata": {},
   "source": [
    "# SysML v2 Test Suite\n",
    "\n",
    "This can notebook can be cleared using menu `Edit --> Clear All Outputs` and then all cells can be\n",
    "run using menu `Run --> Run All Cells`.\n",
    "\n",
    "**WARNING**: This file is generated, all modifications here will be ignored.\n"
   ]
  },
  {
   "cell_type": "markdown",
   "id": "complimentary-locator",
   "metadata": {},
   "source": [
    "## File: ../../sysml/src/examples/Simple Tests/QPETest.sysml"
   ]
  },
  {
   "cell_type": "code",
   "execution_count": 1,
   "id": "clear-fields",
   "metadata": {
    "execution": {
     "iopub.execute_input": "2021-03-26T12:07:58.983244Z",
     "iopub.status.busy": "2021-03-26T12:07:58.982375Z",
     "iopub.status.idle": "2021-03-26T12:07:59.191021Z",
     "shell.execute_reply": "2021-03-26T12:07:59.190542Z"
    }
   },
   "outputs": [
    {
     "data": {
      "text/plain": [
       "Package Q (24dd1998-aaac-4d59-93f6-ab82fad12568)\n"
      ]
     },
     "execution_count": 1,
     "metadata": {},
     "output_type": "execute_result"
    }
   ],
   "source": [
    "package Q {\n",
    "  part f {\n",
    "  \tpart a;\n",
    "  }\n",
    "  part def C {\n",
    "    part g = ./f/a; \n",
    "  }\n",
    "}\n"
   ]
  },
  {
   "cell_type": "code",
   "execution_count": 2,
   "id": "deluxe-windows",
   "metadata": {
    "execution": {
     "iopub.execute_input": "2021-03-26T12:07:59.242949Z",
     "iopub.status.busy": "2021-03-26T12:07:59.242524Z",
     "iopub.status.idle": "2021-03-26T12:07:59.725615Z",
     "shell.execute_reply": "2021-03-26T12:07:59.726018Z"
    }
   },
   "outputs": [
    {
     "data": {
      "image/svg+xml": [
       "<?xml version=\"1.0\" encoding=\"UTF-8\" standalone=\"no\"?><svg xmlns=\"http://www.w3.org/2000/svg\" xmlns:xlink=\"http://www.w3.org/1999/xlink\" contentScriptType=\"application/ecmascript\" contentStyleType=\"text/css\" height=\"221px\" preserveAspectRatio=\"none\" style=\"width:213px;height:221px;\" version=\"1.1\" viewBox=\"0 0 213 221\" width=\"213px\" zoomAndPan=\"magnify\"><defs/><g><!--MD5=[fbc87193dbaf4d95561dea2c320d4a47]\n",
       "cluster E1--><a href=\"psysml:2f37afb0-cd4e-4fb5-8035-2782344ffa0d\" target=\"_top\" title=\"psysml:2f37afb0-cd4e-4fb5-8035-2782344ffa0d\" xlink:actuate=\"onRequest\" xlink:href=\"psysml:2f37afb0-cd4e-4fb5-8035-2782344ffa0d\" xlink:show=\"new\" xlink:title=\"psysml:2f37afb0-cd4e-4fb5-8035-2782344ffa0d\" xlink:type=\"simple\"><polygon fill=\"#FFFFFF\" points=\"16,6,34,6,41,28.2969,191,28.2969,191,209,16,209,16,6\" style=\"stroke: #000000; stroke-width: 1.5;\"/><line style=\"stroke: #000000; stroke-width: 1.5;\" x1=\"16\" x2=\"41\" y1=\"28.2969\" y2=\"28.2969\"/><text fill=\"#000000\" font-family=\"sans-serif\" font-size=\"14\" font-weight=\"bold\" lengthAdjust=\"spacingAndGlyphs\" textLength=\"12\" x=\"20\" y=\"20.9951\">Q</text></a><!--MD5=[b4997ac47864f28c2f74865a473b2911]\n",
       "class E2--><a href=\"psysml:808101de-d573-40e0-bd9c-1a41ac0023c1\" target=\"_top\" title=\"psysml:808101de-d573-40e0-bd9c-1a41ac0023c1\" xlink:actuate=\"onRequest\" xlink:href=\"psysml:808101de-d573-40e0-bd9c-1a41ac0023c1\" xlink:show=\"new\" xlink:title=\"psysml:808101de-d573-40e0-bd9c-1a41ac0023c1\" xlink:type=\"simple\"><rect fill=\"#FFFFFF\" height=\"45.9375\" id=\"E2\" rx=\"10\" ry=\"10\" style=\"stroke: #383838; stroke-width: 1.5;\" width=\"42\" x=\"133\" y=\"41\"/><text fill=\"#000000\" font-family=\"sans-serif\" font-size=\"12\" font-style=\"italic\" lengthAdjust=\"spacingAndGlyphs\" textLength=\"40\" x=\"134\" y=\"57.1387\">«part»</text><text fill=\"#000000\" font-family=\"sans-serif\" font-size=\"12\" lengthAdjust=\"spacingAndGlyphs\" textLength=\"4\" x=\"152\" y=\"71.1074\">f</text><line style=\"stroke: #383838; stroke-width: 1.5;\" x1=\"134\" x2=\"174\" y1=\"78.9375\" y2=\"78.9375\"/></a><!--MD5=[09b614a08d8cba4a07c9adeb5e0fee81]\n",
       "class E3--><a href=\"psysml:c0fa1ef5-beff-4377-a65a-0adbb28c5765\" target=\"_top\" title=\"psysml:c0fa1ef5-beff-4377-a65a-0adbb28c5765\" xlink:actuate=\"onRequest\" xlink:href=\"psysml:c0fa1ef5-beff-4377-a65a-0adbb28c5765\" xlink:show=\"new\" xlink:title=\"psysml:c0fa1ef5-beff-4377-a65a-0adbb28c5765\" xlink:type=\"simple\"><rect fill=\"#FFFFFF\" height=\"45.9375\" id=\"E3\" rx=\"10\" ry=\"10\" style=\"stroke: #383838; stroke-width: 1.5;\" width=\"42\" x=\"133\" y=\"147\"/><text fill=\"#000000\" font-family=\"sans-serif\" font-size=\"12\" font-style=\"italic\" lengthAdjust=\"spacingAndGlyphs\" textLength=\"40\" x=\"134\" y=\"163.1387\">«part»</text><text fill=\"#000000\" font-family=\"sans-serif\" font-size=\"12\" lengthAdjust=\"spacingAndGlyphs\" textLength=\"8\" x=\"150\" y=\"177.1074\">a</text><line style=\"stroke: #383838; stroke-width: 1.5;\" x1=\"134\" x2=\"174\" y1=\"184.9375\" y2=\"184.9375\"/></a><!--MD5=[ebbe1d658d1005bcc118a6aa81145e00]\n",
       "class E4--><a href=\"psysml:ae693b7b-cdf9-497f-b28d-123f2277c02f\" target=\"_top\" title=\"psysml:ae693b7b-cdf9-497f-b28d-123f2277c02f\" xlink:actuate=\"onRequest\" xlink:href=\"psysml:ae693b7b-cdf9-497f-b28d-123f2277c02f\" xlink:show=\"new\" xlink:title=\"psysml:ae693b7b-cdf9-497f-b28d-123f2277c02f\" xlink:type=\"simple\"><rect fill=\"#FFFFFF\" height=\"45.9375\" id=\"E4\" style=\"stroke: #383838; stroke-width: 1.5;\" width=\"66\" x=\"32\" y=\"41\"/><text fill=\"#000000\" font-family=\"sans-serif\" font-size=\"12\" font-style=\"italic\" lengthAdjust=\"spacingAndGlyphs\" textLength=\"64\" x=\"33\" y=\"57.1387\">«part def»</text><text fill=\"#000000\" font-family=\"sans-serif\" font-size=\"12\" lengthAdjust=\"spacingAndGlyphs\" textLength=\"8\" x=\"61\" y=\"71.1074\">C</text><line style=\"stroke: #383838; stroke-width: 1.5;\" x1=\"33\" x2=\"97\" y1=\"78.9375\" y2=\"78.9375\"/></a><!--MD5=[270fce915f116d4de14055a7c1d9a0f3]\n",
       "class E5--><a href=\"psysml:e9e4e094-e1ef-4d59-8b5d-bef394effc04\" target=\"_top\" title=\"psysml:e9e4e094-e1ef-4d59-8b5d-bef394effc04\" xlink:actuate=\"onRequest\" xlink:href=\"psysml:e9e4e094-e1ef-4d59-8b5d-bef394effc04\" xlink:show=\"new\" xlink:title=\"psysml:e9e4e094-e1ef-4d59-8b5d-bef394effc04\" xlink:type=\"simple\"><rect fill=\"#FFFFFF\" height=\"45.9375\" id=\"E5\" rx=\"10\" ry=\"10\" style=\"stroke: #383838; stroke-width: 1.5;\" width=\"42\" x=\"44\" y=\"147\"/><text fill=\"#000000\" font-family=\"sans-serif\" font-size=\"12\" font-style=\"italic\" lengthAdjust=\"spacingAndGlyphs\" textLength=\"40\" x=\"45\" y=\"163.1387\">«part»</text><text fill=\"#000000\" font-family=\"sans-serif\" font-size=\"12\" lengthAdjust=\"spacingAndGlyphs\" textLength=\"8\" x=\"61\" y=\"177.1074\">g</text><line style=\"stroke: #383838; stroke-width: 1.5;\" x1=\"45\" x2=\"85\" y1=\"184.9375\" y2=\"184.9375\"/></a><!--MD5=[209b3feb70ccb6233bfe1053d122c12c]\n",
       "reverse link E2 to E3--><a href=\"psysml:c0fa1ef5-beff-4377-a65a-0adbb28c5765\" target=\"_top\" title=\"psysml:c0fa1ef5-beff-4377-a65a-0adbb28c5765\" xlink:actuate=\"onRequest\" xlink:href=\"psysml:c0fa1ef5-beff-4377-a65a-0adbb28c5765\" xlink:show=\"new\" xlink:title=\"psysml:c0fa1ef5-beff-4377-a65a-0adbb28c5765\" xlink:type=\"simple\"><path d=\"M154,100.44 C154,115.87 154,133.47 154,146.98 \" fill=\"none\" id=\"E2&lt;-E3\" style=\"stroke: #383838; stroke-width: 1.0;\"/><polygon fill=\"#383838\" points=\"154,87.06,150,93.06,154,99.06,158,93.06,154,87.06\" style=\"stroke: #383838; stroke-width: 1.0;\"/></a><!--MD5=[62aa6af11e70f752912c1cb0466f24f7]\n",
       "reverse link E4 to E5--><a href=\"psysml:e9e4e094-e1ef-4d59-8b5d-bef394effc04\" target=\"_top\" title=\"psysml:e9e4e094-e1ef-4d59-8b5d-bef394effc04\" xlink:actuate=\"onRequest\" xlink:href=\"psysml:e9e4e094-e1ef-4d59-8b5d-bef394effc04\" xlink:show=\"new\" xlink:title=\"psysml:e9e4e094-e1ef-4d59-8b5d-bef394effc04\" xlink:type=\"simple\"><path d=\"M65,100.44 C65,115.87 65,133.47 65,146.98 \" fill=\"none\" id=\"E4&lt;-E5\" style=\"stroke: #383838; stroke-width: 1.0;\"/><polygon fill=\"#383838\" points=\"65,87.06,61,93.06,65,99.06,69,93.06,65,87.06\" style=\"stroke: #383838; stroke-width: 1.0;\"/></a><!--MD5=[a0a3707d14bc3a3b7a087c20675631ea]\n",
       "@startuml\r\n",
       " skinparam monochrome true\r\n",
       "skinparam classbackgroundcolor white\r\n",
       "skinparam shadowing false\r\n",
       "skinparam wrapWidth 300\r\n",
       "hide circle\r\n",
       "\r\n",
       "package \"Q\" as E1  [[psysml:2f37afb0-cd4e-4fb5-8035-2782344ffa0d ]]  {\r\n",
       "comp usage \"f\" as E2  <<(T,blue)part>> [[psysml:808101de-d573-40e0-bd9c-1a41ac0023c1 ]] {\r\n",
       "}\r\n",
       "comp usage \"a\" as E3  <<(T,blue)part>> [[psysml:c0fa1ef5-beff-4377-a65a-0adbb28c5765 ]] {\r\n",
       "}\r\n",
       "comp def \"C\" as E4  <<(T,blue)part def>> [[psysml:ae693b7b-cdf9-497f-b28d-123f2277c02f ]] {\r\n",
       "}\r\n",
       "comp usage \"g\" as E5  <<(T,blue)part>> [[psysml:e9e4e094-e1ef-4d59-8b5d-bef394effc04 ]] {\r\n",
       "}\r\n",
       "E2 *- - E3 [[psysml:c0fa1ef5-beff-4377-a65a-0adbb28c5765 ]] \r\n",
       "E4 *- - E5 [[psysml:e9e4e094-e1ef-4d59-8b5d-bef394effc04 ]] \r\n",
       "}\r\n",
       "@enduml\r\n",
       "\n",
       "PlantUML version 1.2020.13(Sat Jun 13 12:26:38 UTC 2020)\n",
       "(EPL source distribution)\n",
       "Java Runtime: OpenJDK Runtime Environment\n",
       "JVM: OpenJDK 64-Bit Server VM\n",
       "Default Encoding: UTF-8\n",
       "Language: en\n",
       "Country: null\n",
       "--></g></svg>"
      ]
     },
     "execution_count": 2,
     "metadata": {},
     "output_type": "execute_result"
    }
   ],
   "source": [
    "%viz --style=\"COMPTREE\" --view=\"Default\" \"Q\""
   ]
  },
  {
   "cell_type": "code",
   "execution_count": 3,
   "id": "disciplinary-professional",
   "metadata": {
    "execution": {
     "iopub.execute_input": "2021-03-26T12:07:59.777373Z",
     "iopub.status.busy": "2021-03-26T12:07:59.776624Z",
     "iopub.status.idle": "2021-03-26T12:07:59.825798Z",
     "shell.execute_reply": "2021-03-26T12:07:59.826131Z"
    }
   },
   "outputs": [
    {
     "data": {
      "image/svg+xml": [
       "<?xml version=\"1.0\" encoding=\"UTF-8\" standalone=\"no\"?><svg xmlns=\"http://www.w3.org/2000/svg\" xmlns:xlink=\"http://www.w3.org/1999/xlink\" contentScriptType=\"application/ecmascript\" contentStyleType=\"text/css\" height=\"221px\" preserveAspectRatio=\"none\" style=\"width:213px;height:221px;\" version=\"1.1\" viewBox=\"0 0 213 221\" width=\"213px\" zoomAndPan=\"magnify\"><defs/><g><!--MD5=[fbc87193dbaf4d95561dea2c320d4a47]\n",
       "cluster E1--><a href=\"psysml:2f37afb0-cd4e-4fb5-8035-2782344ffa0d\" target=\"_top\" title=\"psysml:2f37afb0-cd4e-4fb5-8035-2782344ffa0d\" xlink:actuate=\"onRequest\" xlink:href=\"psysml:2f37afb0-cd4e-4fb5-8035-2782344ffa0d\" xlink:show=\"new\" xlink:title=\"psysml:2f37afb0-cd4e-4fb5-8035-2782344ffa0d\" xlink:type=\"simple\"><polygon fill=\"#FFFFFF\" points=\"16,6,34,6,41,28.2969,191,28.2969,191,209,16,209,16,6\" style=\"stroke: #000000; stroke-width: 1.5;\"/><line style=\"stroke: #000000; stroke-width: 1.5;\" x1=\"16\" x2=\"41\" y1=\"28.2969\" y2=\"28.2969\"/><text fill=\"#000000\" font-family=\"sans-serif\" font-size=\"14\" font-weight=\"bold\" lengthAdjust=\"spacingAndGlyphs\" textLength=\"12\" x=\"20\" y=\"20.9951\">Q</text></a><!--MD5=[b4997ac47864f28c2f74865a473b2911]\n",
       "class E2--><a href=\"psysml:808101de-d573-40e0-bd9c-1a41ac0023c1\" target=\"_top\" title=\"psysml:808101de-d573-40e0-bd9c-1a41ac0023c1\" xlink:actuate=\"onRequest\" xlink:href=\"psysml:808101de-d573-40e0-bd9c-1a41ac0023c1\" xlink:show=\"new\" xlink:title=\"psysml:808101de-d573-40e0-bd9c-1a41ac0023c1\" xlink:type=\"simple\"><rect fill=\"#FFFFFF\" height=\"45.9375\" id=\"E2\" rx=\"10\" ry=\"10\" style=\"stroke: #383838; stroke-width: 1.5;\" width=\"42\" x=\"133\" y=\"41\"/><text fill=\"#000000\" font-family=\"sans-serif\" font-size=\"12\" font-style=\"italic\" lengthAdjust=\"spacingAndGlyphs\" textLength=\"40\" x=\"134\" y=\"57.1387\">«part»</text><text fill=\"#000000\" font-family=\"sans-serif\" font-size=\"12\" lengthAdjust=\"spacingAndGlyphs\" textLength=\"4\" x=\"152\" y=\"71.1074\">f</text><line style=\"stroke: #383838; stroke-width: 1.5;\" x1=\"134\" x2=\"174\" y1=\"78.9375\" y2=\"78.9375\"/></a><!--MD5=[09b614a08d8cba4a07c9adeb5e0fee81]\n",
       "class E3--><a href=\"psysml:c0fa1ef5-beff-4377-a65a-0adbb28c5765\" target=\"_top\" title=\"psysml:c0fa1ef5-beff-4377-a65a-0adbb28c5765\" xlink:actuate=\"onRequest\" xlink:href=\"psysml:c0fa1ef5-beff-4377-a65a-0adbb28c5765\" xlink:show=\"new\" xlink:title=\"psysml:c0fa1ef5-beff-4377-a65a-0adbb28c5765\" xlink:type=\"simple\"><rect fill=\"#FFFFFF\" height=\"45.9375\" id=\"E3\" rx=\"10\" ry=\"10\" style=\"stroke: #383838; stroke-width: 1.5;\" width=\"42\" x=\"133\" y=\"147\"/><text fill=\"#000000\" font-family=\"sans-serif\" font-size=\"12\" font-style=\"italic\" lengthAdjust=\"spacingAndGlyphs\" textLength=\"40\" x=\"134\" y=\"163.1387\">«part»</text><text fill=\"#000000\" font-family=\"sans-serif\" font-size=\"12\" lengthAdjust=\"spacingAndGlyphs\" textLength=\"8\" x=\"150\" y=\"177.1074\">a</text><line style=\"stroke: #383838; stroke-width: 1.5;\" x1=\"134\" x2=\"174\" y1=\"184.9375\" y2=\"184.9375\"/></a><!--MD5=[ebbe1d658d1005bcc118a6aa81145e00]\n",
       "class E4--><a href=\"psysml:ae693b7b-cdf9-497f-b28d-123f2277c02f\" target=\"_top\" title=\"psysml:ae693b7b-cdf9-497f-b28d-123f2277c02f\" xlink:actuate=\"onRequest\" xlink:href=\"psysml:ae693b7b-cdf9-497f-b28d-123f2277c02f\" xlink:show=\"new\" xlink:title=\"psysml:ae693b7b-cdf9-497f-b28d-123f2277c02f\" xlink:type=\"simple\"><rect fill=\"#FFFFFF\" height=\"45.9375\" id=\"E4\" style=\"stroke: #383838; stroke-width: 1.5;\" width=\"66\" x=\"32\" y=\"41\"/><text fill=\"#000000\" font-family=\"sans-serif\" font-size=\"12\" font-style=\"italic\" lengthAdjust=\"spacingAndGlyphs\" textLength=\"64\" x=\"33\" y=\"57.1387\">«part def»</text><text fill=\"#000000\" font-family=\"sans-serif\" font-size=\"12\" lengthAdjust=\"spacingAndGlyphs\" textLength=\"8\" x=\"61\" y=\"71.1074\">C</text><line style=\"stroke: #383838; stroke-width: 1.5;\" x1=\"33\" x2=\"97\" y1=\"78.9375\" y2=\"78.9375\"/></a><!--MD5=[270fce915f116d4de14055a7c1d9a0f3]\n",
       "class E5--><a href=\"psysml:e9e4e094-e1ef-4d59-8b5d-bef394effc04\" target=\"_top\" title=\"psysml:e9e4e094-e1ef-4d59-8b5d-bef394effc04\" xlink:actuate=\"onRequest\" xlink:href=\"psysml:e9e4e094-e1ef-4d59-8b5d-bef394effc04\" xlink:show=\"new\" xlink:title=\"psysml:e9e4e094-e1ef-4d59-8b5d-bef394effc04\" xlink:type=\"simple\"><rect fill=\"#FFFFFF\" height=\"45.9375\" id=\"E5\" rx=\"10\" ry=\"10\" style=\"stroke: #383838; stroke-width: 1.5;\" width=\"42\" x=\"44\" y=\"147\"/><text fill=\"#000000\" font-family=\"sans-serif\" font-size=\"12\" font-style=\"italic\" lengthAdjust=\"spacingAndGlyphs\" textLength=\"40\" x=\"45\" y=\"163.1387\">«part»</text><text fill=\"#000000\" font-family=\"sans-serif\" font-size=\"12\" lengthAdjust=\"spacingAndGlyphs\" textLength=\"8\" x=\"61\" y=\"177.1074\">g</text><line style=\"stroke: #383838; stroke-width: 1.5;\" x1=\"45\" x2=\"85\" y1=\"184.9375\" y2=\"184.9375\"/></a><!--MD5=[209b3feb70ccb6233bfe1053d122c12c]\n",
       "reverse link E2 to E3--><a href=\"psysml:c0fa1ef5-beff-4377-a65a-0adbb28c5765\" target=\"_top\" title=\"psysml:c0fa1ef5-beff-4377-a65a-0adbb28c5765\" xlink:actuate=\"onRequest\" xlink:href=\"psysml:c0fa1ef5-beff-4377-a65a-0adbb28c5765\" xlink:show=\"new\" xlink:title=\"psysml:c0fa1ef5-beff-4377-a65a-0adbb28c5765\" xlink:type=\"simple\"><path d=\"M154,100.44 C154,115.87 154,133.47 154,146.98 \" fill=\"none\" id=\"E2&lt;-E3\" style=\"stroke: #383838; stroke-width: 1.0;\"/><polygon fill=\"#383838\" points=\"154,87.06,150,93.06,154,99.06,158,93.06,154,87.06\" style=\"stroke: #383838; stroke-width: 1.0;\"/></a><!--MD5=[62aa6af11e70f752912c1cb0466f24f7]\n",
       "reverse link E4 to E5--><a href=\"psysml:e9e4e094-e1ef-4d59-8b5d-bef394effc04\" target=\"_top\" title=\"psysml:e9e4e094-e1ef-4d59-8b5d-bef394effc04\" xlink:actuate=\"onRequest\" xlink:href=\"psysml:e9e4e094-e1ef-4d59-8b5d-bef394effc04\" xlink:show=\"new\" xlink:title=\"psysml:e9e4e094-e1ef-4d59-8b5d-bef394effc04\" xlink:type=\"simple\"><path d=\"M65,100.44 C65,115.87 65,133.47 65,146.98 \" fill=\"none\" id=\"E4&lt;-E5\" style=\"stroke: #383838; stroke-width: 1.0;\"/><polygon fill=\"#383838\" points=\"65,87.06,61,93.06,65,99.06,69,93.06,65,87.06\" style=\"stroke: #383838; stroke-width: 1.0;\"/></a><!--MD5=[a0a3707d14bc3a3b7a087c20675631ea]\n",
       "@startuml\r\n",
       " skinparam monochrome true\r\n",
       "skinparam classbackgroundcolor white\r\n",
       "skinparam shadowing false\r\n",
       "skinparam wrapWidth 300\r\n",
       "hide circle\r\n",
       "\r\n",
       "package \"Q\" as E1  [[psysml:2f37afb0-cd4e-4fb5-8035-2782344ffa0d ]]  {\r\n",
       "comp usage \"f\" as E2  <<(T,blue)part>> [[psysml:808101de-d573-40e0-bd9c-1a41ac0023c1 ]] {\r\n",
       "}\r\n",
       "comp usage \"a\" as E3  <<(T,blue)part>> [[psysml:c0fa1ef5-beff-4377-a65a-0adbb28c5765 ]] {\r\n",
       "}\r\n",
       "comp def \"C\" as E4  <<(T,blue)part def>> [[psysml:ae693b7b-cdf9-497f-b28d-123f2277c02f ]] {\r\n",
       "}\r\n",
       "comp usage \"g\" as E5  <<(T,blue)part>> [[psysml:e9e4e094-e1ef-4d59-8b5d-bef394effc04 ]] {\r\n",
       "}\r\n",
       "E2 *- - E3 [[psysml:c0fa1ef5-beff-4377-a65a-0adbb28c5765 ]] \r\n",
       "E4 *- - E5 [[psysml:e9e4e094-e1ef-4d59-8b5d-bef394effc04 ]] \r\n",
       "}\r\n",
       "@enduml\r\n",
       "\n",
       "PlantUML version 1.2020.13(Sat Jun 13 12:26:38 UTC 2020)\n",
       "(EPL source distribution)\n",
       "Java Runtime: OpenJDK Runtime Environment\n",
       "JVM: OpenJDK 64-Bit Server VM\n",
       "Default Encoding: UTF-8\n",
       "Language: en\n",
       "Country: null\n",
       "--></g></svg>"
      ]
     },
     "execution_count": 3,
     "metadata": {},
     "output_type": "execute_result"
    }
   ],
   "source": [
    "%viz --style=\"COMPTREE\" --view=\"Tree\" \"Q\""
   ]
  },
  {
   "cell_type": "code",
   "execution_count": 4,
   "id": "worthy-indie",
   "metadata": {
    "execution": {
     "iopub.execute_input": "2021-03-26T12:07:59.877069Z",
     "iopub.status.busy": "2021-03-26T12:07:59.876521Z",
     "iopub.status.idle": "2021-03-26T12:07:59.884356Z",
     "shell.execute_reply": "2021-03-26T12:07:59.884678Z"
    }
   },
   "outputs": [
    {
     "data": {
      "image/svg+xml": [
       "<?xml version=\"1.0\" encoding=\"UTF-8\" standalone=\"no\"?><svg xmlns=\"http://www.w3.org/2000/svg\" xmlns:xlink=\"http://www.w3.org/1999/xlink\" contentScriptType=\"application/ecmascript\" contentStyleType=\"text/css\" height=\"12px\" preserveAspectRatio=\"none\" style=\"width:12px;height:12px;\" version=\"1.1\" viewBox=\"0 0 12 12\" width=\"12px\" zoomAndPan=\"magnify\"><defs/><g><!--MD5=[f19188ef49e11757b5c46753f95d9edc]\n",
       "@startuml\r\n",
       " skinparam monochrome true\r\n",
       "skinparam classbackgroundcolor white\r\n",
       "skinparam shadowing false\r\n",
       "skinparam wrapWidth 300\r\n",
       "hide circle\r\n",
       "\r\n",
       "@enduml\r\n",
       "\n",
       "PlantUML version 1.2020.13(Sat Jun 13 12:26:38 UTC 2020)\n",
       "(EPL source distribution)\n",
       "Java Runtime: OpenJDK Runtime Environment\n",
       "JVM: OpenJDK 64-Bit Server VM\n",
       "Default Encoding: UTF-8\n",
       "Language: en\n",
       "Country: null\n",
       "--></g></svg>"
      ]
     },
     "execution_count": 4,
     "metadata": {},
     "output_type": "execute_result"
    }
   ],
   "source": [
    "%viz --style=\"COMPTREE\" --view=\"State\" \"Q\""
   ]
  },
  {
   "cell_type": "code",
   "execution_count": 5,
   "id": "introductory-arthur",
   "metadata": {
    "execution": {
     "iopub.execute_input": "2021-03-26T12:07:59.938480Z",
     "iopub.status.busy": "2021-03-26T12:07:59.937913Z",
     "iopub.status.idle": "2021-03-26T12:08:00.000991Z",
     "shell.execute_reply": "2021-03-26T12:07:59.999603Z"
    }
   },
   "outputs": [
    {
     "data": {
      "image/svg+xml": [
       "<?xml version=\"1.0\" encoding=\"UTF-8\" standalone=\"no\"?><svg xmlns=\"http://www.w3.org/2000/svg\" xmlns:xlink=\"http://www.w3.org/1999/xlink\" contentScriptType=\"application/ecmascript\" contentStyleType=\"text/css\" height=\"192px\" preserveAspectRatio=\"none\" style=\"width:279px;height:192px;\" version=\"1.1\" viewBox=\"0 0 279 192\" width=\"279px\" zoomAndPan=\"magnify\"><defs/><g><!--MD5=[fbc87193dbaf4d95561dea2c320d4a47]\n",
       "cluster E1--><a href=\"psysml:2f37afb0-cd4e-4fb5-8035-2782344ffa0d\" target=\"_top\" title=\"psysml:2f37afb0-cd4e-4fb5-8035-2782344ffa0d\" xlink:actuate=\"onRequest\" xlink:href=\"psysml:2f37afb0-cd4e-4fb5-8035-2782344ffa0d\" xlink:show=\"new\" xlink:title=\"psysml:2f37afb0-cd4e-4fb5-8035-2782344ffa0d\" xlink:type=\"simple\"><polygon fill=\"#FFFFFF\" points=\"16,6,34,6,41,28.2969,257,28.2969,257,180,16,180,16,6\" style=\"stroke: #000000; stroke-width: 1.5;\"/><line style=\"stroke: #000000; stroke-width: 1.5;\" x1=\"16\" x2=\"41\" y1=\"28.2969\" y2=\"28.2969\"/><text fill=\"#000000\" font-family=\"sans-serif\" font-size=\"14\" font-weight=\"bold\" lengthAdjust=\"spacingAndGlyphs\" textLength=\"12\" x=\"20\" y=\"20.9951\">Q</text></a><!--MD5=[e4f7fae6ed58524ba242bb0b0d3be6b7]\n",
       "cluster E2--><a href=\"psysml:808101de-d573-40e0-bd9c-1a41ac0023c1\" target=\"_top\" title=\"psysml:808101de-d573-40e0-bd9c-1a41ac0023c1\" xlink:actuate=\"onRequest\" xlink:href=\"psysml:808101de-d573-40e0-bd9c-1a41ac0023c1\" xlink:show=\"new\" xlink:title=\"psysml:808101de-d573-40e0-bd9c-1a41ac0023c1\" xlink:type=\"simple\"><rect fill=\"#FFFFFF\" height=\"91\" id=\"E2\" rx=\"10\" ry=\"10\" style=\"stroke: #383838; stroke-width: 1.5;\" width=\"82\" x=\"151\" y=\"65\"/><rect fill=\"#F8F8F8\" height=\"23.9688\" rx=\"10\" ry=\"10\" style=\"stroke: #F8F8F8; stroke-width: 1.5;\" width=\"82\" x=\"151\" y=\"65\"/><rect fill=\"#F8F8F8\" height=\"10\" style=\"stroke: #F8F8F8; stroke-width: 1.5;\" width=\"82\" x=\"151\" y=\"78.9688\"/><rect fill=\"none\" height=\"91\" id=\"E2\" rx=\"10\" ry=\"10\" style=\"stroke: #383838; stroke-width: 1.5;\" width=\"82\" x=\"151\" y=\"65\"/><text fill=\"#000000\" font-family=\"sans-serif\" font-size=\"12\" lengthAdjust=\"spacingAndGlyphs\" textLength=\"4\" x=\"190\" y=\"81.1387\">f</text><line style=\"stroke: #383838; stroke-width: 1.0;\" x1=\"151\" x2=\"233\" y1=\"88.9688\" y2=\"88.9688\"/></a><!--MD5=[f6df4d0ebaf0b5dfb2ced0ae5af7c670]\n",
       "cluster E4--><a href=\"psysml:ae693b7b-cdf9-497f-b28d-123f2277c02f\" target=\"_top\" title=\"psysml:ae693b7b-cdf9-497f-b28d-123f2277c02f\" xlink:actuate=\"onRequest\" xlink:href=\"psysml:ae693b7b-cdf9-497f-b28d-123f2277c02f\" xlink:show=\"new\" xlink:title=\"psysml:ae693b7b-cdf9-497f-b28d-123f2277c02f\" xlink:type=\"simple\"><rect fill=\"#FFFFFF\" height=\"107\" id=\"E4\" style=\"stroke: #383838; stroke-width: 1.5;\" width=\"87\" x=\"40\" y=\"49\"/><rect fill=\"#F8F8F8\" height=\"37.9375\" style=\"stroke: #383838; stroke-width: 1.5;\" width=\"87\" x=\"40\" y=\"49\"/><text fill=\"#000000\" font-family=\"sans-serif\" font-size=\"12\" font-style=\"italic\" lengthAdjust=\"spacingAndGlyphs\" textLength=\"64\" x=\"51.5\" y=\"65.1387\">«part def»</text><text fill=\"#000000\" font-family=\"sans-serif\" font-size=\"12\" lengthAdjust=\"spacingAndGlyphs\" textLength=\"8\" x=\"79.5\" y=\"79.1074\">C</text></a><g id=\"E1.E2.E3\"><a href=\"psysml:c0fa1ef5-beff-4377-a65a-0adbb28c5765\" target=\"_top\" title=\"psysml:c0fa1ef5-beff-4377-a65a-0adbb28c5765\" xlink:actuate=\"onRequest\" xlink:href=\"psysml:c0fa1ef5-beff-4377-a65a-0adbb28c5765\" xlink:show=\"new\" xlink:title=\"psysml:c0fa1ef5-beff-4377-a65a-0adbb28c5765\" xlink:type=\"simple\"><rect fill=\"#FFFFFF\" height=\"40\" id=\"E3\" rx=\"10\" ry=\"10\" style=\"stroke: #383838; stroke-width: 1.5;\" width=\"50\" x=\"167\" y=\"100\"/><rect fill=\"#F8F8F8\" height=\"23.9688\" rx=\"10\" ry=\"10\" style=\"stroke: #F8F8F8; stroke-width: 1.5;\" width=\"50\" x=\"167\" y=\"100\"/><rect fill=\"#F8F8F8\" height=\"10\" style=\"stroke: #F8F8F8; stroke-width: 1.5;\" width=\"50\" x=\"167\" y=\"113.9688\"/><rect fill=\"none\" height=\"40\" id=\"E3\" rx=\"10\" ry=\"10\" style=\"stroke: #383838; stroke-width: 1.5;\" width=\"50\" x=\"167\" y=\"100\"/><text fill=\"#000000\" font-family=\"sans-serif\" font-size=\"12\" lengthAdjust=\"spacingAndGlyphs\" textLength=\"8\" x=\"188\" y=\"116.1387\">a</text></a></g><g id=\"E1.E4.E5\"><a href=\"psysml:e9e4e094-e1ef-4d59-8b5d-bef394effc04\" target=\"_top\" title=\"psysml:e9e4e094-e1ef-4d59-8b5d-bef394effc04\" xlink:actuate=\"onRequest\" xlink:href=\"psysml:e9e4e094-e1ef-4d59-8b5d-bef394effc04\" xlink:show=\"new\" xlink:title=\"psysml:e9e4e094-e1ef-4d59-8b5d-bef394effc04\" xlink:type=\"simple\"><rect fill=\"#FFFFFF\" height=\"40\" id=\"E5\" rx=\"10\" ry=\"10\" style=\"stroke: #383838; stroke-width: 1.5;\" width=\"50\" x=\"58\" y=\"100\"/><rect fill=\"#F8F8F8\" height=\"23.9688\" rx=\"10\" ry=\"10\" style=\"stroke: #F8F8F8; stroke-width: 1.5;\" width=\"50\" x=\"58\" y=\"100\"/><rect fill=\"#F8F8F8\" height=\"10\" style=\"stroke: #F8F8F8; stroke-width: 1.5;\" width=\"50\" x=\"58\" y=\"113.9688\"/><rect fill=\"none\" height=\"40\" id=\"E5\" rx=\"10\" ry=\"10\" style=\"stroke: #383838; stroke-width: 1.5;\" width=\"50\" x=\"58\" y=\"100\"/><text fill=\"#000000\" font-family=\"sans-serif\" font-size=\"12\" lengthAdjust=\"spacingAndGlyphs\" textLength=\"8\" x=\"79\" y=\"116.1387\">g</text></a></g><!--MD5=[b3fec7b507706412208fe404ddb4b979]\n",
       "@startuml\r\n",
       "skinparam ranksep 8\r\n",
       "skinparam rectangle {\r\n",
       " backgroundColor<<block>> LightGreen\r\n",
       "}\r\n",
       " skinparam monochrome true\r\n",
       "skinparam classbackgroundcolor white\r\n",
       "skinparam shadowing false\r\n",
       "skinparam wrapWidth 300\r\n",
       "hide circle\r\n",
       "\r\n",
       "package \"Q\" as E1  [[psysml:2f37afb0-cd4e-4fb5-8035-2782344ffa0d ]]  {\r\n",
       "rec usage \"f\" as E2  [[psysml:808101de-d573-40e0-bd9c-1a41ac0023c1 ]] {\r\n",
       "rec usage \"a\" as E3  [[psysml:c0fa1ef5-beff-4377-a65a-0adbb28c5765 ]] {\r\n",
       "}\r\n",
       "}\r\n",
       "rec def \"C\" as E4  <<(T,blue)part def>> [[psysml:ae693b7b-cdf9-497f-b28d-123f2277c02f ]] {\r\n",
       "rec usage \"g\" as E5  [[psysml:e9e4e094-e1ef-4d59-8b5d-bef394effc04 ]] {\r\n",
       "}\r\n",
       "}\r\n",
       "}\r\n",
       "@enduml\r\n",
       "\n",
       "PlantUML version 1.2020.13(Sat Jun 13 12:26:38 UTC 2020)\n",
       "(EPL source distribution)\n",
       "Java Runtime: OpenJDK Runtime Environment\n",
       "JVM: OpenJDK 64-Bit Server VM\n",
       "Default Encoding: UTF-8\n",
       "Language: en\n",
       "Country: null\n",
       "--></g></svg>"
      ]
     },
     "execution_count": 5,
     "metadata": {},
     "output_type": "execute_result"
    }
   ],
   "source": [
    "%viz --style=\"COMPTREE\" --view=\"Interconnection\" \"Q\""
   ]
  },
  {
   "cell_type": "code",
   "execution_count": 6,
   "id": "inclusive-founder",
   "metadata": {
    "execution": {
     "iopub.execute_input": "2021-03-26T12:08:00.051546Z",
     "iopub.status.busy": "2021-03-26T12:08:00.051193Z",
     "iopub.status.idle": "2021-03-26T12:08:00.058439Z",
     "shell.execute_reply": "2021-03-26T12:08:00.058790Z"
    }
   },
   "outputs": [
    {
     "data": {
      "image/svg+xml": [
       "<?xml version=\"1.0\" encoding=\"UTF-8\" standalone=\"no\"?><svg xmlns=\"http://www.w3.org/2000/svg\" xmlns:xlink=\"http://www.w3.org/1999/xlink\" contentScriptType=\"application/ecmascript\" contentStyleType=\"text/css\" height=\"12px\" preserveAspectRatio=\"none\" style=\"width:12px;height:12px;\" version=\"1.1\" viewBox=\"0 0 12 12\" width=\"12px\" zoomAndPan=\"magnify\"><defs/><g><!--MD5=[655b888544ca4751ea36af1068543f84]\n",
       "@startuml\r\n",
       "skinparam ranksep 8\r\n",
       " skinparam monochrome true\r\n",
       "skinparam classbackgroundcolor white\r\n",
       "skinparam shadowing false\r\n",
       "skinparam wrapWidth 300\r\n",
       "hide circle\r\n",
       "\r\n",
       "@enduml\r\n",
       "\n",
       "PlantUML version 1.2020.13(Sat Jun 13 12:26:38 UTC 2020)\n",
       "(EPL source distribution)\n",
       "Java Runtime: OpenJDK Runtime Environment\n",
       "JVM: OpenJDK 64-Bit Server VM\n",
       "Default Encoding: UTF-8\n",
       "Language: en\n",
       "Country: null\n",
       "--></g></svg>"
      ]
     },
     "execution_count": 6,
     "metadata": {},
     "output_type": "execute_result"
    }
   ],
   "source": [
    "%viz --style=\"COMPTREE\" --view=\"Action\" \"Q\""
   ]
  },
  {
   "cell_type": "code",
   "execution_count": 7,
   "id": "dental-ribbon",
   "metadata": {
    "execution": {
     "iopub.execute_input": "2021-03-26T12:08:00.111967Z",
     "iopub.status.busy": "2021-03-26T12:08:00.111171Z",
     "iopub.status.idle": "2021-03-26T12:08:00.152779Z",
     "shell.execute_reply": "2021-03-26T12:08:00.152431Z"
    }
   },
   "outputs": [
    {
     "data": {
      "image/svg+xml": [
       "<?xml version=\"1.0\" encoding=\"UTF-8\" standalone=\"no\"?><svg xmlns=\"http://www.w3.org/2000/svg\" xmlns:xlink=\"http://www.w3.org/1999/xlink\" contentScriptType=\"application/ecmascript\" contentStyleType=\"text/css\" height=\"221px\" preserveAspectRatio=\"none\" style=\"width:213px;height:221px;\" version=\"1.1\" viewBox=\"0 0 213 221\" width=\"213px\" zoomAndPan=\"magnify\"><defs/><g><!--MD5=[fbc87193dbaf4d95561dea2c320d4a47]\n",
       "cluster E1--><a href=\"psysml:2f37afb0-cd4e-4fb5-8035-2782344ffa0d\" target=\"_top\" title=\"psysml:2f37afb0-cd4e-4fb5-8035-2782344ffa0d\" xlink:actuate=\"onRequest\" xlink:href=\"psysml:2f37afb0-cd4e-4fb5-8035-2782344ffa0d\" xlink:show=\"new\" xlink:title=\"psysml:2f37afb0-cd4e-4fb5-8035-2782344ffa0d\" xlink:type=\"simple\"><polygon fill=\"#FFFFFF\" points=\"16,6,34,6,41,28.2969,191,28.2969,191,209,16,209,16,6\" style=\"stroke: #000000; stroke-width: 1.5;\"/><line style=\"stroke: #000000; stroke-width: 1.5;\" x1=\"16\" x2=\"41\" y1=\"28.2969\" y2=\"28.2969\"/><text fill=\"#000000\" font-family=\"sans-serif\" font-size=\"14\" font-weight=\"bold\" lengthAdjust=\"spacingAndGlyphs\" textLength=\"12\" x=\"20\" y=\"20.9951\">Q</text></a><!--MD5=[b4997ac47864f28c2f74865a473b2911]\n",
       "class E2--><a href=\"psysml:808101de-d573-40e0-bd9c-1a41ac0023c1\" target=\"_top\" title=\"psysml:808101de-d573-40e0-bd9c-1a41ac0023c1\" xlink:actuate=\"onRequest\" xlink:href=\"psysml:808101de-d573-40e0-bd9c-1a41ac0023c1\" xlink:show=\"new\" xlink:title=\"psysml:808101de-d573-40e0-bd9c-1a41ac0023c1\" xlink:type=\"simple\"><rect fill=\"#FFFFFF\" height=\"45.9375\" id=\"E2\" rx=\"10\" ry=\"10\" style=\"stroke: #383838; stroke-width: 1.5;\" width=\"42\" x=\"133\" y=\"41\"/><text fill=\"#000000\" font-family=\"sans-serif\" font-size=\"12\" font-style=\"italic\" lengthAdjust=\"spacingAndGlyphs\" textLength=\"40\" x=\"134\" y=\"57.1387\">«part»</text><text fill=\"#000000\" font-family=\"sans-serif\" font-size=\"12\" lengthAdjust=\"spacingAndGlyphs\" textLength=\"4\" x=\"152\" y=\"71.1074\">f</text><line style=\"stroke: #383838; stroke-width: 1.5;\" x1=\"134\" x2=\"174\" y1=\"78.9375\" y2=\"78.9375\"/></a><!--MD5=[09b614a08d8cba4a07c9adeb5e0fee81]\n",
       "class E3--><a href=\"psysml:c0fa1ef5-beff-4377-a65a-0adbb28c5765\" target=\"_top\" title=\"psysml:c0fa1ef5-beff-4377-a65a-0adbb28c5765\" xlink:actuate=\"onRequest\" xlink:href=\"psysml:c0fa1ef5-beff-4377-a65a-0adbb28c5765\" xlink:show=\"new\" xlink:title=\"psysml:c0fa1ef5-beff-4377-a65a-0adbb28c5765\" xlink:type=\"simple\"><rect fill=\"#FFFFFF\" height=\"45.9375\" id=\"E3\" rx=\"10\" ry=\"10\" style=\"stroke: #383838; stroke-width: 1.5;\" width=\"42\" x=\"133\" y=\"147\"/><text fill=\"#000000\" font-family=\"sans-serif\" font-size=\"12\" font-style=\"italic\" lengthAdjust=\"spacingAndGlyphs\" textLength=\"40\" x=\"134\" y=\"163.1387\">«part»</text><text fill=\"#000000\" font-family=\"sans-serif\" font-size=\"12\" lengthAdjust=\"spacingAndGlyphs\" textLength=\"8\" x=\"150\" y=\"177.1074\">a</text><line style=\"stroke: #383838; stroke-width: 1.5;\" x1=\"134\" x2=\"174\" y1=\"184.9375\" y2=\"184.9375\"/></a><!--MD5=[ebbe1d658d1005bcc118a6aa81145e00]\n",
       "class E4--><a href=\"psysml:ae693b7b-cdf9-497f-b28d-123f2277c02f\" target=\"_top\" title=\"psysml:ae693b7b-cdf9-497f-b28d-123f2277c02f\" xlink:actuate=\"onRequest\" xlink:href=\"psysml:ae693b7b-cdf9-497f-b28d-123f2277c02f\" xlink:show=\"new\" xlink:title=\"psysml:ae693b7b-cdf9-497f-b28d-123f2277c02f\" xlink:type=\"simple\"><rect fill=\"#FFFFFF\" height=\"45.9375\" id=\"E4\" style=\"stroke: #383838; stroke-width: 1.5;\" width=\"66\" x=\"32\" y=\"41\"/><text fill=\"#000000\" font-family=\"sans-serif\" font-size=\"12\" font-style=\"italic\" lengthAdjust=\"spacingAndGlyphs\" textLength=\"64\" x=\"33\" y=\"57.1387\">«part def»</text><text fill=\"#000000\" font-family=\"sans-serif\" font-size=\"12\" lengthAdjust=\"spacingAndGlyphs\" textLength=\"8\" x=\"61\" y=\"71.1074\">C</text><line style=\"stroke: #383838; stroke-width: 1.5;\" x1=\"33\" x2=\"97\" y1=\"78.9375\" y2=\"78.9375\"/></a><!--MD5=[270fce915f116d4de14055a7c1d9a0f3]\n",
       "class E5--><a href=\"psysml:e9e4e094-e1ef-4d59-8b5d-bef394effc04\" target=\"_top\" title=\"psysml:e9e4e094-e1ef-4d59-8b5d-bef394effc04\" xlink:actuate=\"onRequest\" xlink:href=\"psysml:e9e4e094-e1ef-4d59-8b5d-bef394effc04\" xlink:show=\"new\" xlink:title=\"psysml:e9e4e094-e1ef-4d59-8b5d-bef394effc04\" xlink:type=\"simple\"><rect fill=\"#FFFFFF\" height=\"45.9375\" id=\"E5\" rx=\"10\" ry=\"10\" style=\"stroke: #383838; stroke-width: 1.5;\" width=\"42\" x=\"44\" y=\"147\"/><text fill=\"#000000\" font-family=\"sans-serif\" font-size=\"12\" font-style=\"italic\" lengthAdjust=\"spacingAndGlyphs\" textLength=\"40\" x=\"45\" y=\"163.1387\">«part»</text><text fill=\"#000000\" font-family=\"sans-serif\" font-size=\"12\" lengthAdjust=\"spacingAndGlyphs\" textLength=\"8\" x=\"61\" y=\"177.1074\">g</text><line style=\"stroke: #383838; stroke-width: 1.5;\" x1=\"45\" x2=\"85\" y1=\"184.9375\" y2=\"184.9375\"/></a><!--MD5=[209b3feb70ccb6233bfe1053d122c12c]\n",
       "reverse link E2 to E3--><a href=\"psysml:c0fa1ef5-beff-4377-a65a-0adbb28c5765\" target=\"_top\" title=\"psysml:c0fa1ef5-beff-4377-a65a-0adbb28c5765\" xlink:actuate=\"onRequest\" xlink:href=\"psysml:c0fa1ef5-beff-4377-a65a-0adbb28c5765\" xlink:show=\"new\" xlink:title=\"psysml:c0fa1ef5-beff-4377-a65a-0adbb28c5765\" xlink:type=\"simple\"><path d=\"M154,100.44 C154,115.87 154,133.47 154,146.98 \" fill=\"none\" id=\"E2&lt;-E3\" style=\"stroke: #383838; stroke-width: 1.0;\"/><polygon fill=\"#383838\" points=\"154,87.06,150,93.06,154,99.06,158,93.06,154,87.06\" style=\"stroke: #383838; stroke-width: 1.0;\"/></a><!--MD5=[62aa6af11e70f752912c1cb0466f24f7]\n",
       "reverse link E4 to E5--><a href=\"psysml:e9e4e094-e1ef-4d59-8b5d-bef394effc04\" target=\"_top\" title=\"psysml:e9e4e094-e1ef-4d59-8b5d-bef394effc04\" xlink:actuate=\"onRequest\" xlink:href=\"psysml:e9e4e094-e1ef-4d59-8b5d-bef394effc04\" xlink:show=\"new\" xlink:title=\"psysml:e9e4e094-e1ef-4d59-8b5d-bef394effc04\" xlink:type=\"simple\"><path d=\"M65,100.44 C65,115.87 65,133.47 65,146.98 \" fill=\"none\" id=\"E4&lt;-E5\" style=\"stroke: #383838; stroke-width: 1.0;\"/><polygon fill=\"#383838\" points=\"65,87.06,61,93.06,65,99.06,69,93.06,65,87.06\" style=\"stroke: #383838; stroke-width: 1.0;\"/></a><!--MD5=[a0a3707d14bc3a3b7a087c20675631ea]\n",
       "@startuml\r\n",
       " skinparam monochrome true\r\n",
       "skinparam classbackgroundcolor white\r\n",
       "skinparam shadowing false\r\n",
       "skinparam wrapWidth 300\r\n",
       "hide circle\r\n",
       "\r\n",
       "package \"Q\" as E1  [[psysml:2f37afb0-cd4e-4fb5-8035-2782344ffa0d ]]  {\r\n",
       "comp usage \"f\" as E2  <<(T,blue)part>> [[psysml:808101de-d573-40e0-bd9c-1a41ac0023c1 ]] {\r\n",
       "}\r\n",
       "comp usage \"a\" as E3  <<(T,blue)part>> [[psysml:c0fa1ef5-beff-4377-a65a-0adbb28c5765 ]] {\r\n",
       "}\r\n",
       "comp def \"C\" as E4  <<(T,blue)part def>> [[psysml:ae693b7b-cdf9-497f-b28d-123f2277c02f ]] {\r\n",
       "}\r\n",
       "comp usage \"g\" as E5  <<(T,blue)part>> [[psysml:e9e4e094-e1ef-4d59-8b5d-bef394effc04 ]] {\r\n",
       "}\r\n",
       "E2 *- - E3 [[psysml:c0fa1ef5-beff-4377-a65a-0adbb28c5765 ]] \r\n",
       "E4 *- - E5 [[psysml:e9e4e094-e1ef-4d59-8b5d-bef394effc04 ]] \r\n",
       "}\r\n",
       "@enduml\r\n",
       "\n",
       "PlantUML version 1.2020.13(Sat Jun 13 12:26:38 UTC 2020)\n",
       "(EPL source distribution)\n",
       "Java Runtime: OpenJDK Runtime Environment\n",
       "JVM: OpenJDK 64-Bit Server VM\n",
       "Default Encoding: UTF-8\n",
       "Language: en\n",
       "Country: null\n",
       "--></g></svg>"
      ]
     },
     "execution_count": 7,
     "metadata": {},
     "output_type": "execute_result"
    }
   ],
   "source": [
    "%viz --style=\"COMPTREE\" --view=\"Sequence\" \"Q\""
   ]
  },
  {
   "cell_type": "code",
   "execution_count": 8,
   "id": "interested-external",
   "metadata": {
    "execution": {
     "iopub.execute_input": "2021-03-26T12:08:00.205549Z",
     "iopub.status.busy": "2021-03-26T12:08:00.204634Z",
     "iopub.status.idle": "2021-03-26T12:08:00.241684Z",
     "shell.execute_reply": "2021-03-26T12:08:00.242077Z"
    }
   },
   "outputs": [
    {
     "data": {
      "image/svg+xml": [
       "<?xml version=\"1.0\" encoding=\"UTF-8\" standalone=\"no\"?><svg xmlns=\"http://www.w3.org/2000/svg\" xmlns:xlink=\"http://www.w3.org/1999/xlink\" contentScriptType=\"application/ecmascript\" contentStyleType=\"text/css\" height=\"221px\" preserveAspectRatio=\"none\" style=\"width:213px;height:221px;\" version=\"1.1\" viewBox=\"0 0 213 221\" width=\"213px\" zoomAndPan=\"magnify\"><defs/><g><!--MD5=[fbc87193dbaf4d95561dea2c320d4a47]\n",
       "cluster E1--><a href=\"psysml:2f37afb0-cd4e-4fb5-8035-2782344ffa0d\" target=\"_top\" title=\"psysml:2f37afb0-cd4e-4fb5-8035-2782344ffa0d\" xlink:actuate=\"onRequest\" xlink:href=\"psysml:2f37afb0-cd4e-4fb5-8035-2782344ffa0d\" xlink:show=\"new\" xlink:title=\"psysml:2f37afb0-cd4e-4fb5-8035-2782344ffa0d\" xlink:type=\"simple\"><polygon fill=\"#FFFFFF\" points=\"16,6,34,6,41,28.2969,191,28.2969,191,209,16,209,16,6\" style=\"stroke: #000000; stroke-width: 1.5;\"/><line style=\"stroke: #000000; stroke-width: 1.5;\" x1=\"16\" x2=\"41\" y1=\"28.2969\" y2=\"28.2969\"/><text fill=\"#000000\" font-family=\"sans-serif\" font-size=\"14\" font-weight=\"bold\" lengthAdjust=\"spacingAndGlyphs\" textLength=\"12\" x=\"20\" y=\"20.9951\">Q</text></a><!--MD5=[b4997ac47864f28c2f74865a473b2911]\n",
       "class E2--><a href=\"psysml:808101de-d573-40e0-bd9c-1a41ac0023c1\" target=\"_top\" title=\"psysml:808101de-d573-40e0-bd9c-1a41ac0023c1\" xlink:actuate=\"onRequest\" xlink:href=\"psysml:808101de-d573-40e0-bd9c-1a41ac0023c1\" xlink:show=\"new\" xlink:title=\"psysml:808101de-d573-40e0-bd9c-1a41ac0023c1\" xlink:type=\"simple\"><rect fill=\"#FFFFFF\" height=\"45.9375\" id=\"E2\" rx=\"10\" ry=\"10\" style=\"stroke: #383838; stroke-width: 1.5;\" width=\"42\" x=\"133\" y=\"41\"/><text fill=\"#000000\" font-family=\"sans-serif\" font-size=\"12\" font-style=\"italic\" lengthAdjust=\"spacingAndGlyphs\" textLength=\"40\" x=\"134\" y=\"57.1387\">«part»</text><text fill=\"#000000\" font-family=\"sans-serif\" font-size=\"12\" lengthAdjust=\"spacingAndGlyphs\" textLength=\"4\" x=\"152\" y=\"71.1074\">f</text><line style=\"stroke: #383838; stroke-width: 1.5;\" x1=\"134\" x2=\"174\" y1=\"78.9375\" y2=\"78.9375\"/></a><!--MD5=[09b614a08d8cba4a07c9adeb5e0fee81]\n",
       "class E3--><a href=\"psysml:c0fa1ef5-beff-4377-a65a-0adbb28c5765\" target=\"_top\" title=\"psysml:c0fa1ef5-beff-4377-a65a-0adbb28c5765\" xlink:actuate=\"onRequest\" xlink:href=\"psysml:c0fa1ef5-beff-4377-a65a-0adbb28c5765\" xlink:show=\"new\" xlink:title=\"psysml:c0fa1ef5-beff-4377-a65a-0adbb28c5765\" xlink:type=\"simple\"><rect fill=\"#FFFFFF\" height=\"45.9375\" id=\"E3\" rx=\"10\" ry=\"10\" style=\"stroke: #383838; stroke-width: 1.5;\" width=\"42\" x=\"133\" y=\"147\"/><text fill=\"#000000\" font-family=\"sans-serif\" font-size=\"12\" font-style=\"italic\" lengthAdjust=\"spacingAndGlyphs\" textLength=\"40\" x=\"134\" y=\"163.1387\">«part»</text><text fill=\"#000000\" font-family=\"sans-serif\" font-size=\"12\" lengthAdjust=\"spacingAndGlyphs\" textLength=\"8\" x=\"150\" y=\"177.1074\">a</text><line style=\"stroke: #383838; stroke-width: 1.5;\" x1=\"134\" x2=\"174\" y1=\"184.9375\" y2=\"184.9375\"/></a><!--MD5=[ebbe1d658d1005bcc118a6aa81145e00]\n",
       "class E4--><a href=\"psysml:ae693b7b-cdf9-497f-b28d-123f2277c02f\" target=\"_top\" title=\"psysml:ae693b7b-cdf9-497f-b28d-123f2277c02f\" xlink:actuate=\"onRequest\" xlink:href=\"psysml:ae693b7b-cdf9-497f-b28d-123f2277c02f\" xlink:show=\"new\" xlink:title=\"psysml:ae693b7b-cdf9-497f-b28d-123f2277c02f\" xlink:type=\"simple\"><rect fill=\"#FFFFFF\" height=\"45.9375\" id=\"E4\" style=\"stroke: #383838; stroke-width: 1.5;\" width=\"66\" x=\"32\" y=\"41\"/><text fill=\"#000000\" font-family=\"sans-serif\" font-size=\"12\" font-style=\"italic\" lengthAdjust=\"spacingAndGlyphs\" textLength=\"64\" x=\"33\" y=\"57.1387\">«part def»</text><text fill=\"#000000\" font-family=\"sans-serif\" font-size=\"12\" lengthAdjust=\"spacingAndGlyphs\" textLength=\"8\" x=\"61\" y=\"71.1074\">C</text><line style=\"stroke: #383838; stroke-width: 1.5;\" x1=\"33\" x2=\"97\" y1=\"78.9375\" y2=\"78.9375\"/></a><!--MD5=[270fce915f116d4de14055a7c1d9a0f3]\n",
       "class E5--><a href=\"psysml:e9e4e094-e1ef-4d59-8b5d-bef394effc04\" target=\"_top\" title=\"psysml:e9e4e094-e1ef-4d59-8b5d-bef394effc04\" xlink:actuate=\"onRequest\" xlink:href=\"psysml:e9e4e094-e1ef-4d59-8b5d-bef394effc04\" xlink:show=\"new\" xlink:title=\"psysml:e9e4e094-e1ef-4d59-8b5d-bef394effc04\" xlink:type=\"simple\"><rect fill=\"#FFFFFF\" height=\"45.9375\" id=\"E5\" rx=\"10\" ry=\"10\" style=\"stroke: #383838; stroke-width: 1.5;\" width=\"42\" x=\"44\" y=\"147\"/><text fill=\"#000000\" font-family=\"sans-serif\" font-size=\"12\" font-style=\"italic\" lengthAdjust=\"spacingAndGlyphs\" textLength=\"40\" x=\"45\" y=\"163.1387\">«part»</text><text fill=\"#000000\" font-family=\"sans-serif\" font-size=\"12\" lengthAdjust=\"spacingAndGlyphs\" textLength=\"8\" x=\"61\" y=\"177.1074\">g</text><line style=\"stroke: #383838; stroke-width: 1.5;\" x1=\"45\" x2=\"85\" y1=\"184.9375\" y2=\"184.9375\"/></a><!--MD5=[209b3feb70ccb6233bfe1053d122c12c]\n",
       "reverse link E2 to E3--><a href=\"psysml:c0fa1ef5-beff-4377-a65a-0adbb28c5765\" target=\"_top\" title=\"psysml:c0fa1ef5-beff-4377-a65a-0adbb28c5765\" xlink:actuate=\"onRequest\" xlink:href=\"psysml:c0fa1ef5-beff-4377-a65a-0adbb28c5765\" xlink:show=\"new\" xlink:title=\"psysml:c0fa1ef5-beff-4377-a65a-0adbb28c5765\" xlink:type=\"simple\"><path d=\"M154,100.44 C154,115.87 154,133.47 154,146.98 \" fill=\"none\" id=\"E2&lt;-E3\" style=\"stroke: #383838; stroke-width: 1.0;\"/><polygon fill=\"#383838\" points=\"154,87.06,150,93.06,154,99.06,158,93.06,154,87.06\" style=\"stroke: #383838; stroke-width: 1.0;\"/></a><!--MD5=[62aa6af11e70f752912c1cb0466f24f7]\n",
       "reverse link E4 to E5--><a href=\"psysml:e9e4e094-e1ef-4d59-8b5d-bef394effc04\" target=\"_top\" title=\"psysml:e9e4e094-e1ef-4d59-8b5d-bef394effc04\" xlink:actuate=\"onRequest\" xlink:href=\"psysml:e9e4e094-e1ef-4d59-8b5d-bef394effc04\" xlink:show=\"new\" xlink:title=\"psysml:e9e4e094-e1ef-4d59-8b5d-bef394effc04\" xlink:type=\"simple\"><path d=\"M65,100.44 C65,115.87 65,133.47 65,146.98 \" fill=\"none\" id=\"E4&lt;-E5\" style=\"stroke: #383838; stroke-width: 1.0;\"/><polygon fill=\"#383838\" points=\"65,87.06,61,93.06,65,99.06,69,93.06,65,87.06\" style=\"stroke: #383838; stroke-width: 1.0;\"/></a><!--MD5=[a0a3707d14bc3a3b7a087c20675631ea]\n",
       "@startuml\r\n",
       " skinparam monochrome true\r\n",
       "skinparam classbackgroundcolor white\r\n",
       "skinparam shadowing false\r\n",
       "skinparam wrapWidth 300\r\n",
       "hide circle\r\n",
       "\r\n",
       "package \"Q\" as E1  [[psysml:2f37afb0-cd4e-4fb5-8035-2782344ffa0d ]]  {\r\n",
       "comp usage \"f\" as E2  <<(T,blue)part>> [[psysml:808101de-d573-40e0-bd9c-1a41ac0023c1 ]] {\r\n",
       "}\r\n",
       "comp usage \"a\" as E3  <<(T,blue)part>> [[psysml:c0fa1ef5-beff-4377-a65a-0adbb28c5765 ]] {\r\n",
       "}\r\n",
       "comp def \"C\" as E4  <<(T,blue)part def>> [[psysml:ae693b7b-cdf9-497f-b28d-123f2277c02f ]] {\r\n",
       "}\r\n",
       "comp usage \"g\" as E5  <<(T,blue)part>> [[psysml:e9e4e094-e1ef-4d59-8b5d-bef394effc04 ]] {\r\n",
       "}\r\n",
       "E2 *- - E3 [[psysml:c0fa1ef5-beff-4377-a65a-0adbb28c5765 ]] \r\n",
       "E4 *- - E5 [[psysml:e9e4e094-e1ef-4d59-8b5d-bef394effc04 ]] \r\n",
       "}\r\n",
       "@enduml\r\n",
       "\n",
       "PlantUML version 1.2020.13(Sat Jun 13 12:26:38 UTC 2020)\n",
       "(EPL source distribution)\n",
       "Java Runtime: OpenJDK Runtime Environment\n",
       "JVM: OpenJDK 64-Bit Server VM\n",
       "Default Encoding: UTF-8\n",
       "Language: en\n",
       "Country: null\n",
       "--></g></svg>"
      ]
     },
     "execution_count": 8,
     "metadata": {},
     "output_type": "execute_result"
    }
   ],
   "source": [
    "%viz --style=\"COMPTREE\" --view=\"MIXED\" \"Q\""
   ]
  },
  {
   "cell_type": "code",
   "execution_count": 9,
   "id": "relative-saint",
   "metadata": {
    "execution": {
     "iopub.execute_input": "2021-03-26T12:08:00.293149Z",
     "iopub.status.busy": "2021-03-26T12:08:00.292535Z",
     "iopub.status.idle": "2021-03-26T12:08:00.328108Z",
     "shell.execute_reply": "2021-03-26T12:08:00.326967Z"
    }
   },
   "outputs": [
    {
     "data": {
      "image/svg+xml": [
       "<?xml version=\"1.0\" encoding=\"UTF-8\" standalone=\"no\"?><svg xmlns=\"http://www.w3.org/2000/svg\" xmlns:xlink=\"http://www.w3.org/1999/xlink\" contentScriptType=\"application/ecmascript\" contentStyleType=\"text/css\" height=\"221px\" preserveAspectRatio=\"none\" style=\"width:213px;height:221px;\" version=\"1.1\" viewBox=\"0 0 213 221\" width=\"213px\" zoomAndPan=\"magnify\"><defs/><g><!--MD5=[fbc87193dbaf4d95561dea2c320d4a47]\n",
       "cluster E1--><a href=\"psysml:2f37afb0-cd4e-4fb5-8035-2782344ffa0d\" target=\"_top\" title=\"psysml:2f37afb0-cd4e-4fb5-8035-2782344ffa0d\" xlink:actuate=\"onRequest\" xlink:href=\"psysml:2f37afb0-cd4e-4fb5-8035-2782344ffa0d\" xlink:show=\"new\" xlink:title=\"psysml:2f37afb0-cd4e-4fb5-8035-2782344ffa0d\" xlink:type=\"simple\"><polygon fill=\"#FFFFFF\" points=\"16,6,34,6,41,28.2969,191,28.2969,191,209,16,209,16,6\" style=\"stroke: #000000; stroke-width: 1.5;\"/><line style=\"stroke: #000000; stroke-width: 1.5;\" x1=\"16\" x2=\"41\" y1=\"28.2969\" y2=\"28.2969\"/><text fill=\"#000000\" font-family=\"sans-serif\" font-size=\"14\" font-weight=\"bold\" lengthAdjust=\"spacingAndGlyphs\" textLength=\"12\" x=\"20\" y=\"20.9951\">Q</text></a><!--MD5=[b4997ac47864f28c2f74865a473b2911]\n",
       "class E2--><a href=\"psysml:808101de-d573-40e0-bd9c-1a41ac0023c1\" target=\"_top\" title=\"psysml:808101de-d573-40e0-bd9c-1a41ac0023c1\" xlink:actuate=\"onRequest\" xlink:href=\"psysml:808101de-d573-40e0-bd9c-1a41ac0023c1\" xlink:show=\"new\" xlink:title=\"psysml:808101de-d573-40e0-bd9c-1a41ac0023c1\" xlink:type=\"simple\"><rect fill=\"#FFFFFF\" height=\"45.9375\" id=\"E2\" rx=\"10\" ry=\"10\" style=\"stroke: #383838; stroke-width: 1.5;\" width=\"42\" x=\"133\" y=\"41\"/><text fill=\"#000000\" font-family=\"sans-serif\" font-size=\"12\" font-style=\"italic\" lengthAdjust=\"spacingAndGlyphs\" textLength=\"40\" x=\"134\" y=\"57.1387\">«part»</text><text fill=\"#000000\" font-family=\"sans-serif\" font-size=\"12\" lengthAdjust=\"spacingAndGlyphs\" textLength=\"4\" x=\"152\" y=\"71.1074\">f</text><line style=\"stroke: #383838; stroke-width: 1.5;\" x1=\"134\" x2=\"174\" y1=\"78.9375\" y2=\"78.9375\"/></a><!--MD5=[09b614a08d8cba4a07c9adeb5e0fee81]\n",
       "class E3--><a href=\"psysml:c0fa1ef5-beff-4377-a65a-0adbb28c5765\" target=\"_top\" title=\"psysml:c0fa1ef5-beff-4377-a65a-0adbb28c5765\" xlink:actuate=\"onRequest\" xlink:href=\"psysml:c0fa1ef5-beff-4377-a65a-0adbb28c5765\" xlink:show=\"new\" xlink:title=\"psysml:c0fa1ef5-beff-4377-a65a-0adbb28c5765\" xlink:type=\"simple\"><rect fill=\"#FFFFFF\" height=\"45.9375\" id=\"E3\" rx=\"10\" ry=\"10\" style=\"stroke: #383838; stroke-width: 1.5;\" width=\"42\" x=\"133\" y=\"147\"/><text fill=\"#000000\" font-family=\"sans-serif\" font-size=\"12\" font-style=\"italic\" lengthAdjust=\"spacingAndGlyphs\" textLength=\"40\" x=\"134\" y=\"163.1387\">«part»</text><text fill=\"#000000\" font-family=\"sans-serif\" font-size=\"12\" lengthAdjust=\"spacingAndGlyphs\" textLength=\"8\" x=\"150\" y=\"177.1074\">a</text><line style=\"stroke: #383838; stroke-width: 1.5;\" x1=\"134\" x2=\"174\" y1=\"184.9375\" y2=\"184.9375\"/></a><!--MD5=[ebbe1d658d1005bcc118a6aa81145e00]\n",
       "class E4--><a href=\"psysml:ae693b7b-cdf9-497f-b28d-123f2277c02f\" target=\"_top\" title=\"psysml:ae693b7b-cdf9-497f-b28d-123f2277c02f\" xlink:actuate=\"onRequest\" xlink:href=\"psysml:ae693b7b-cdf9-497f-b28d-123f2277c02f\" xlink:show=\"new\" xlink:title=\"psysml:ae693b7b-cdf9-497f-b28d-123f2277c02f\" xlink:type=\"simple\"><rect fill=\"#FFFFFF\" height=\"45.9375\" id=\"E4\" style=\"stroke: #383838; stroke-width: 1.5;\" width=\"66\" x=\"32\" y=\"41\"/><text fill=\"#000000\" font-family=\"sans-serif\" font-size=\"12\" font-style=\"italic\" lengthAdjust=\"spacingAndGlyphs\" textLength=\"64\" x=\"33\" y=\"57.1387\">«part def»</text><text fill=\"#000000\" font-family=\"sans-serif\" font-size=\"12\" lengthAdjust=\"spacingAndGlyphs\" textLength=\"8\" x=\"61\" y=\"71.1074\">C</text><line style=\"stroke: #383838; stroke-width: 1.5;\" x1=\"33\" x2=\"97\" y1=\"78.9375\" y2=\"78.9375\"/></a><!--MD5=[270fce915f116d4de14055a7c1d9a0f3]\n",
       "class E5--><a href=\"psysml:e9e4e094-e1ef-4d59-8b5d-bef394effc04\" target=\"_top\" title=\"psysml:e9e4e094-e1ef-4d59-8b5d-bef394effc04\" xlink:actuate=\"onRequest\" xlink:href=\"psysml:e9e4e094-e1ef-4d59-8b5d-bef394effc04\" xlink:show=\"new\" xlink:title=\"psysml:e9e4e094-e1ef-4d59-8b5d-bef394effc04\" xlink:type=\"simple\"><rect fill=\"#FFFFFF\" height=\"45.9375\" id=\"E5\" rx=\"10\" ry=\"10\" style=\"stroke: #383838; stroke-width: 1.5;\" width=\"42\" x=\"44\" y=\"147\"/><text fill=\"#000000\" font-family=\"sans-serif\" font-size=\"12\" font-style=\"italic\" lengthAdjust=\"spacingAndGlyphs\" textLength=\"40\" x=\"45\" y=\"163.1387\">«part»</text><text fill=\"#000000\" font-family=\"sans-serif\" font-size=\"12\" lengthAdjust=\"spacingAndGlyphs\" textLength=\"8\" x=\"61\" y=\"177.1074\">g</text><line style=\"stroke: #383838; stroke-width: 1.5;\" x1=\"45\" x2=\"85\" y1=\"184.9375\" y2=\"184.9375\"/></a><!--MD5=[209b3feb70ccb6233bfe1053d122c12c]\n",
       "reverse link E2 to E3--><a href=\"psysml:c0fa1ef5-beff-4377-a65a-0adbb28c5765\" target=\"_top\" title=\"psysml:c0fa1ef5-beff-4377-a65a-0adbb28c5765\" xlink:actuate=\"onRequest\" xlink:href=\"psysml:c0fa1ef5-beff-4377-a65a-0adbb28c5765\" xlink:show=\"new\" xlink:title=\"psysml:c0fa1ef5-beff-4377-a65a-0adbb28c5765\" xlink:type=\"simple\"><path d=\"M154,100.44 C154,115.87 154,133.47 154,146.98 \" fill=\"none\" id=\"E2&lt;-E3\" style=\"stroke: #383838; stroke-width: 1.0;\"/><polygon fill=\"#383838\" points=\"154,87.06,150,93.06,154,99.06,158,93.06,154,87.06\" style=\"stroke: #383838; stroke-width: 1.0;\"/></a><!--MD5=[62aa6af11e70f752912c1cb0466f24f7]\n",
       "reverse link E4 to E5--><a href=\"psysml:e9e4e094-e1ef-4d59-8b5d-bef394effc04\" target=\"_top\" title=\"psysml:e9e4e094-e1ef-4d59-8b5d-bef394effc04\" xlink:actuate=\"onRequest\" xlink:href=\"psysml:e9e4e094-e1ef-4d59-8b5d-bef394effc04\" xlink:show=\"new\" xlink:title=\"psysml:e9e4e094-e1ef-4d59-8b5d-bef394effc04\" xlink:type=\"simple\"><path d=\"M65,100.44 C65,115.87 65,133.47 65,146.98 \" fill=\"none\" id=\"E4&lt;-E5\" style=\"stroke: #383838; stroke-width: 1.0;\"/><polygon fill=\"#383838\" points=\"65,87.06,61,93.06,65,99.06,69,93.06,65,87.06\" style=\"stroke: #383838; stroke-width: 1.0;\"/></a><!--MD5=[a41cd815efdbeaeeaf72aa5b67a24b3f]\n",
       "@startuml\r\n",
       "skinparam linetype polyline\r\n",
       "skinparam monochrome true\r\n",
       "skinparam classbackgroundcolor white\r\n",
       "skinparam shadowing false\r\n",
       "skinparam wrapWidth 300\r\n",
       "hide circle\r\n",
       "\r\n",
       "package \"Q\" as E1  [[psysml:2f37afb0-cd4e-4fb5-8035-2782344ffa0d ]]  {\r\n",
       "comp usage \"f\" as E2  <<(T,blue)part>> [[psysml:808101de-d573-40e0-bd9c-1a41ac0023c1 ]] {\r\n",
       "}\r\n",
       "comp usage \"a\" as E3  <<(T,blue)part>> [[psysml:c0fa1ef5-beff-4377-a65a-0adbb28c5765 ]] {\r\n",
       "}\r\n",
       "comp def \"C\" as E4  <<(T,blue)part def>> [[psysml:ae693b7b-cdf9-497f-b28d-123f2277c02f ]] {\r\n",
       "}\r\n",
       "comp usage \"g\" as E5  <<(T,blue)part>> [[psysml:e9e4e094-e1ef-4d59-8b5d-bef394effc04 ]] {\r\n",
       "}\r\n",
       "E2 *- - E3 [[psysml:c0fa1ef5-beff-4377-a65a-0adbb28c5765 ]] \r\n",
       "E4 *- - E5 [[psysml:e9e4e094-e1ef-4d59-8b5d-bef394effc04 ]] \r\n",
       "}\r\n",
       "@enduml\r\n",
       "\n",
       "PlantUML version 1.2020.13(Sat Jun 13 12:26:38 UTC 2020)\n",
       "(EPL source distribution)\n",
       "Java Runtime: OpenJDK Runtime Environment\n",
       "JVM: OpenJDK 64-Bit Server VM\n",
       "Default Encoding: UTF-8\n",
       "Language: en\n",
       "Country: null\n",
       "--></g></svg>"
      ]
     },
     "execution_count": 9,
     "metadata": {},
     "output_type": "execute_result"
    }
   ],
   "source": [
    "%viz --style=\"POLYLINE\" --view=\"Default\" \"Q\""
   ]
  },
  {
   "cell_type": "code",
   "execution_count": 10,
   "id": "ready-parish",
   "metadata": {
    "execution": {
     "iopub.execute_input": "2021-03-26T12:08:00.380508Z",
     "iopub.status.busy": "2021-03-26T12:08:00.379622Z",
     "iopub.status.idle": "2021-03-26T12:08:00.413433Z",
     "shell.execute_reply": "2021-03-26T12:08:00.412299Z"
    }
   },
   "outputs": [
    {
     "data": {
      "image/svg+xml": [
       "<?xml version=\"1.0\" encoding=\"UTF-8\" standalone=\"no\"?><svg xmlns=\"http://www.w3.org/2000/svg\" xmlns:xlink=\"http://www.w3.org/1999/xlink\" contentScriptType=\"application/ecmascript\" contentStyleType=\"text/css\" height=\"221px\" preserveAspectRatio=\"none\" style=\"width:213px;height:221px;\" version=\"1.1\" viewBox=\"0 0 213 221\" width=\"213px\" zoomAndPan=\"magnify\"><defs/><g><!--MD5=[fbc87193dbaf4d95561dea2c320d4a47]\n",
       "cluster E1--><a href=\"psysml:2f37afb0-cd4e-4fb5-8035-2782344ffa0d\" target=\"_top\" title=\"psysml:2f37afb0-cd4e-4fb5-8035-2782344ffa0d\" xlink:actuate=\"onRequest\" xlink:href=\"psysml:2f37afb0-cd4e-4fb5-8035-2782344ffa0d\" xlink:show=\"new\" xlink:title=\"psysml:2f37afb0-cd4e-4fb5-8035-2782344ffa0d\" xlink:type=\"simple\"><polygon fill=\"#FFFFFF\" points=\"16,6,34,6,41,28.2969,191,28.2969,191,209,16,209,16,6\" style=\"stroke: #000000; stroke-width: 1.5;\"/><line style=\"stroke: #000000; stroke-width: 1.5;\" x1=\"16\" x2=\"41\" y1=\"28.2969\" y2=\"28.2969\"/><text fill=\"#000000\" font-family=\"sans-serif\" font-size=\"14\" font-weight=\"bold\" lengthAdjust=\"spacingAndGlyphs\" textLength=\"12\" x=\"20\" y=\"20.9951\">Q</text></a><!--MD5=[b4997ac47864f28c2f74865a473b2911]\n",
       "class E2--><a href=\"psysml:808101de-d573-40e0-bd9c-1a41ac0023c1\" target=\"_top\" title=\"psysml:808101de-d573-40e0-bd9c-1a41ac0023c1\" xlink:actuate=\"onRequest\" xlink:href=\"psysml:808101de-d573-40e0-bd9c-1a41ac0023c1\" xlink:show=\"new\" xlink:title=\"psysml:808101de-d573-40e0-bd9c-1a41ac0023c1\" xlink:type=\"simple\"><rect fill=\"#FFFFFF\" height=\"45.9375\" id=\"E2\" rx=\"10\" ry=\"10\" style=\"stroke: #383838; stroke-width: 1.5;\" width=\"42\" x=\"133\" y=\"41\"/><text fill=\"#000000\" font-family=\"sans-serif\" font-size=\"12\" font-style=\"italic\" lengthAdjust=\"spacingAndGlyphs\" textLength=\"40\" x=\"134\" y=\"57.1387\">«part»</text><text fill=\"#000000\" font-family=\"sans-serif\" font-size=\"12\" lengthAdjust=\"spacingAndGlyphs\" textLength=\"4\" x=\"152\" y=\"71.1074\">f</text><line style=\"stroke: #383838; stroke-width: 1.5;\" x1=\"134\" x2=\"174\" y1=\"78.9375\" y2=\"78.9375\"/></a><!--MD5=[09b614a08d8cba4a07c9adeb5e0fee81]\n",
       "class E3--><a href=\"psysml:c0fa1ef5-beff-4377-a65a-0adbb28c5765\" target=\"_top\" title=\"psysml:c0fa1ef5-beff-4377-a65a-0adbb28c5765\" xlink:actuate=\"onRequest\" xlink:href=\"psysml:c0fa1ef5-beff-4377-a65a-0adbb28c5765\" xlink:show=\"new\" xlink:title=\"psysml:c0fa1ef5-beff-4377-a65a-0adbb28c5765\" xlink:type=\"simple\"><rect fill=\"#FFFFFF\" height=\"45.9375\" id=\"E3\" rx=\"10\" ry=\"10\" style=\"stroke: #383838; stroke-width: 1.5;\" width=\"42\" x=\"133\" y=\"147\"/><text fill=\"#000000\" font-family=\"sans-serif\" font-size=\"12\" font-style=\"italic\" lengthAdjust=\"spacingAndGlyphs\" textLength=\"40\" x=\"134\" y=\"163.1387\">«part»</text><text fill=\"#000000\" font-family=\"sans-serif\" font-size=\"12\" lengthAdjust=\"spacingAndGlyphs\" textLength=\"8\" x=\"150\" y=\"177.1074\">a</text><line style=\"stroke: #383838; stroke-width: 1.5;\" x1=\"134\" x2=\"174\" y1=\"184.9375\" y2=\"184.9375\"/></a><!--MD5=[ebbe1d658d1005bcc118a6aa81145e00]\n",
       "class E4--><a href=\"psysml:ae693b7b-cdf9-497f-b28d-123f2277c02f\" target=\"_top\" title=\"psysml:ae693b7b-cdf9-497f-b28d-123f2277c02f\" xlink:actuate=\"onRequest\" xlink:href=\"psysml:ae693b7b-cdf9-497f-b28d-123f2277c02f\" xlink:show=\"new\" xlink:title=\"psysml:ae693b7b-cdf9-497f-b28d-123f2277c02f\" xlink:type=\"simple\"><rect fill=\"#FFFFFF\" height=\"45.9375\" id=\"E4\" style=\"stroke: #383838; stroke-width: 1.5;\" width=\"66\" x=\"32\" y=\"41\"/><text fill=\"#000000\" font-family=\"sans-serif\" font-size=\"12\" font-style=\"italic\" lengthAdjust=\"spacingAndGlyphs\" textLength=\"64\" x=\"33\" y=\"57.1387\">«part def»</text><text fill=\"#000000\" font-family=\"sans-serif\" font-size=\"12\" lengthAdjust=\"spacingAndGlyphs\" textLength=\"8\" x=\"61\" y=\"71.1074\">C</text><line style=\"stroke: #383838; stroke-width: 1.5;\" x1=\"33\" x2=\"97\" y1=\"78.9375\" y2=\"78.9375\"/></a><!--MD5=[270fce915f116d4de14055a7c1d9a0f3]\n",
       "class E5--><a href=\"psysml:e9e4e094-e1ef-4d59-8b5d-bef394effc04\" target=\"_top\" title=\"psysml:e9e4e094-e1ef-4d59-8b5d-bef394effc04\" xlink:actuate=\"onRequest\" xlink:href=\"psysml:e9e4e094-e1ef-4d59-8b5d-bef394effc04\" xlink:show=\"new\" xlink:title=\"psysml:e9e4e094-e1ef-4d59-8b5d-bef394effc04\" xlink:type=\"simple\"><rect fill=\"#FFFFFF\" height=\"45.9375\" id=\"E5\" rx=\"10\" ry=\"10\" style=\"stroke: #383838; stroke-width: 1.5;\" width=\"42\" x=\"44\" y=\"147\"/><text fill=\"#000000\" font-family=\"sans-serif\" font-size=\"12\" font-style=\"italic\" lengthAdjust=\"spacingAndGlyphs\" textLength=\"40\" x=\"45\" y=\"163.1387\">«part»</text><text fill=\"#000000\" font-family=\"sans-serif\" font-size=\"12\" lengthAdjust=\"spacingAndGlyphs\" textLength=\"8\" x=\"61\" y=\"177.1074\">g</text><line style=\"stroke: #383838; stroke-width: 1.5;\" x1=\"45\" x2=\"85\" y1=\"184.9375\" y2=\"184.9375\"/></a><!--MD5=[209b3feb70ccb6233bfe1053d122c12c]\n",
       "reverse link E2 to E3--><a href=\"psysml:c0fa1ef5-beff-4377-a65a-0adbb28c5765\" target=\"_top\" title=\"psysml:c0fa1ef5-beff-4377-a65a-0adbb28c5765\" xlink:actuate=\"onRequest\" xlink:href=\"psysml:c0fa1ef5-beff-4377-a65a-0adbb28c5765\" xlink:show=\"new\" xlink:title=\"psysml:c0fa1ef5-beff-4377-a65a-0adbb28c5765\" xlink:type=\"simple\"><path d=\"M154,100.44 C154,115.87 154,133.47 154,146.98 \" fill=\"none\" id=\"E2&lt;-E3\" style=\"stroke: #383838; stroke-width: 1.0;\"/><polygon fill=\"#383838\" points=\"154,87.06,150,93.06,154,99.06,158,93.06,154,87.06\" style=\"stroke: #383838; stroke-width: 1.0;\"/></a><!--MD5=[62aa6af11e70f752912c1cb0466f24f7]\n",
       "reverse link E4 to E5--><a href=\"psysml:e9e4e094-e1ef-4d59-8b5d-bef394effc04\" target=\"_top\" title=\"psysml:e9e4e094-e1ef-4d59-8b5d-bef394effc04\" xlink:actuate=\"onRequest\" xlink:href=\"psysml:e9e4e094-e1ef-4d59-8b5d-bef394effc04\" xlink:show=\"new\" xlink:title=\"psysml:e9e4e094-e1ef-4d59-8b5d-bef394effc04\" xlink:type=\"simple\"><path d=\"M65,100.44 C65,115.87 65,133.47 65,146.98 \" fill=\"none\" id=\"E4&lt;-E5\" style=\"stroke: #383838; stroke-width: 1.0;\"/><polygon fill=\"#383838\" points=\"65,87.06,61,93.06,65,99.06,69,93.06,65,87.06\" style=\"stroke: #383838; stroke-width: 1.0;\"/></a><!--MD5=[a41cd815efdbeaeeaf72aa5b67a24b3f]\n",
       "@startuml\r\n",
       "skinparam linetype polyline\r\n",
       "skinparam monochrome true\r\n",
       "skinparam classbackgroundcolor white\r\n",
       "skinparam shadowing false\r\n",
       "skinparam wrapWidth 300\r\n",
       "hide circle\r\n",
       "\r\n",
       "package \"Q\" as E1  [[psysml:2f37afb0-cd4e-4fb5-8035-2782344ffa0d ]]  {\r\n",
       "comp usage \"f\" as E2  <<(T,blue)part>> [[psysml:808101de-d573-40e0-bd9c-1a41ac0023c1 ]] {\r\n",
       "}\r\n",
       "comp usage \"a\" as E3  <<(T,blue)part>> [[psysml:c0fa1ef5-beff-4377-a65a-0adbb28c5765 ]] {\r\n",
       "}\r\n",
       "comp def \"C\" as E4  <<(T,blue)part def>> [[psysml:ae693b7b-cdf9-497f-b28d-123f2277c02f ]] {\r\n",
       "}\r\n",
       "comp usage \"g\" as E5  <<(T,blue)part>> [[psysml:e9e4e094-e1ef-4d59-8b5d-bef394effc04 ]] {\r\n",
       "}\r\n",
       "E2 *- - E3 [[psysml:c0fa1ef5-beff-4377-a65a-0adbb28c5765 ]] \r\n",
       "E4 *- - E5 [[psysml:e9e4e094-e1ef-4d59-8b5d-bef394effc04 ]] \r\n",
       "}\r\n",
       "@enduml\r\n",
       "\n",
       "PlantUML version 1.2020.13(Sat Jun 13 12:26:38 UTC 2020)\n",
       "(EPL source distribution)\n",
       "Java Runtime: OpenJDK Runtime Environment\n",
       "JVM: OpenJDK 64-Bit Server VM\n",
       "Default Encoding: UTF-8\n",
       "Language: en\n",
       "Country: null\n",
       "--></g></svg>"
      ]
     },
     "execution_count": 10,
     "metadata": {},
     "output_type": "execute_result"
    }
   ],
   "source": [
    "%viz --style=\"POLYLINE\" --view=\"Tree\" \"Q\""
   ]
  },
  {
   "cell_type": "code",
   "execution_count": 11,
   "id": "advanced-february",
   "metadata": {
    "execution": {
     "iopub.execute_input": "2021-03-26T12:08:00.465089Z",
     "iopub.status.busy": "2021-03-26T12:08:00.464577Z",
     "iopub.status.idle": "2021-03-26T12:08:00.469926Z",
     "shell.execute_reply": "2021-03-26T12:08:00.470249Z"
    }
   },
   "outputs": [
    {
     "data": {
      "image/svg+xml": [
       "<?xml version=\"1.0\" encoding=\"UTF-8\" standalone=\"no\"?><svg xmlns=\"http://www.w3.org/2000/svg\" xmlns:xlink=\"http://www.w3.org/1999/xlink\" contentScriptType=\"application/ecmascript\" contentStyleType=\"text/css\" height=\"12px\" preserveAspectRatio=\"none\" style=\"width:12px;height:12px;\" version=\"1.1\" viewBox=\"0 0 12 12\" width=\"12px\" zoomAndPan=\"magnify\"><defs/><g><!--MD5=[896ac0e7a515d8dd7765a661cb4ee08b]\n",
       "@startuml\r\n",
       "skinparam linetype polyline\r\n",
       "skinparam monochrome true\r\n",
       "skinparam classbackgroundcolor white\r\n",
       "skinparam shadowing false\r\n",
       "skinparam wrapWidth 300\r\n",
       "hide circle\r\n",
       "\r\n",
       "@enduml\r\n",
       "\n",
       "PlantUML version 1.2020.13(Sat Jun 13 12:26:38 UTC 2020)\n",
       "(EPL source distribution)\n",
       "Java Runtime: OpenJDK Runtime Environment\n",
       "JVM: OpenJDK 64-Bit Server VM\n",
       "Default Encoding: UTF-8\n",
       "Language: en\n",
       "Country: null\n",
       "--></g></svg>"
      ]
     },
     "execution_count": 11,
     "metadata": {},
     "output_type": "execute_result"
    }
   ],
   "source": [
    "%viz --style=\"POLYLINE\" --view=\"State\" \"Q\""
   ]
  },
  {
   "cell_type": "code",
   "execution_count": 12,
   "id": "typical-modeling",
   "metadata": {
    "execution": {
     "iopub.execute_input": "2021-03-26T12:08:00.521428Z",
     "iopub.status.busy": "2021-03-26T12:08:00.521038Z",
     "iopub.status.idle": "2021-03-26T12:08:00.550835Z",
     "shell.execute_reply": "2021-03-26T12:08:00.551183Z"
    }
   },
   "outputs": [
    {
     "data": {
      "image/svg+xml": [
       "<?xml version=\"1.0\" encoding=\"UTF-8\" standalone=\"no\"?><svg xmlns=\"http://www.w3.org/2000/svg\" xmlns:xlink=\"http://www.w3.org/1999/xlink\" contentScriptType=\"application/ecmascript\" contentStyleType=\"text/css\" height=\"192px\" preserveAspectRatio=\"none\" style=\"width:279px;height:192px;\" version=\"1.1\" viewBox=\"0 0 279 192\" width=\"279px\" zoomAndPan=\"magnify\"><defs/><g><!--MD5=[fbc87193dbaf4d95561dea2c320d4a47]\n",
       "cluster E1--><a href=\"psysml:2f37afb0-cd4e-4fb5-8035-2782344ffa0d\" target=\"_top\" title=\"psysml:2f37afb0-cd4e-4fb5-8035-2782344ffa0d\" xlink:actuate=\"onRequest\" xlink:href=\"psysml:2f37afb0-cd4e-4fb5-8035-2782344ffa0d\" xlink:show=\"new\" xlink:title=\"psysml:2f37afb0-cd4e-4fb5-8035-2782344ffa0d\" xlink:type=\"simple\"><polygon fill=\"#FFFFFF\" points=\"16,6,34,6,41,28.2969,257,28.2969,257,180,16,180,16,6\" style=\"stroke: #000000; stroke-width: 1.5;\"/><line style=\"stroke: #000000; stroke-width: 1.5;\" x1=\"16\" x2=\"41\" y1=\"28.2969\" y2=\"28.2969\"/><text fill=\"#000000\" font-family=\"sans-serif\" font-size=\"14\" font-weight=\"bold\" lengthAdjust=\"spacingAndGlyphs\" textLength=\"12\" x=\"20\" y=\"20.9951\">Q</text></a><!--MD5=[e4f7fae6ed58524ba242bb0b0d3be6b7]\n",
       "cluster E2--><a href=\"psysml:808101de-d573-40e0-bd9c-1a41ac0023c1\" target=\"_top\" title=\"psysml:808101de-d573-40e0-bd9c-1a41ac0023c1\" xlink:actuate=\"onRequest\" xlink:href=\"psysml:808101de-d573-40e0-bd9c-1a41ac0023c1\" xlink:show=\"new\" xlink:title=\"psysml:808101de-d573-40e0-bd9c-1a41ac0023c1\" xlink:type=\"simple\"><rect fill=\"#FFFFFF\" height=\"91\" id=\"E2\" rx=\"10\" ry=\"10\" style=\"stroke: #383838; stroke-width: 1.5;\" width=\"82\" x=\"151\" y=\"65\"/><rect fill=\"#F8F8F8\" height=\"23.9688\" rx=\"10\" ry=\"10\" style=\"stroke: #F8F8F8; stroke-width: 1.5;\" width=\"82\" x=\"151\" y=\"65\"/><rect fill=\"#F8F8F8\" height=\"10\" style=\"stroke: #F8F8F8; stroke-width: 1.5;\" width=\"82\" x=\"151\" y=\"78.9688\"/><rect fill=\"none\" height=\"91\" id=\"E2\" rx=\"10\" ry=\"10\" style=\"stroke: #383838; stroke-width: 1.5;\" width=\"82\" x=\"151\" y=\"65\"/><text fill=\"#000000\" font-family=\"sans-serif\" font-size=\"12\" lengthAdjust=\"spacingAndGlyphs\" textLength=\"4\" x=\"190\" y=\"81.1387\">f</text><line style=\"stroke: #383838; stroke-width: 1.0;\" x1=\"151\" x2=\"233\" y1=\"88.9688\" y2=\"88.9688\"/></a><!--MD5=[f6df4d0ebaf0b5dfb2ced0ae5af7c670]\n",
       "cluster E4--><a href=\"psysml:ae693b7b-cdf9-497f-b28d-123f2277c02f\" target=\"_top\" title=\"psysml:ae693b7b-cdf9-497f-b28d-123f2277c02f\" xlink:actuate=\"onRequest\" xlink:href=\"psysml:ae693b7b-cdf9-497f-b28d-123f2277c02f\" xlink:show=\"new\" xlink:title=\"psysml:ae693b7b-cdf9-497f-b28d-123f2277c02f\" xlink:type=\"simple\"><rect fill=\"#FFFFFF\" height=\"107\" id=\"E4\" style=\"stroke: #383838; stroke-width: 1.5;\" width=\"87\" x=\"40\" y=\"49\"/><rect fill=\"#F8F8F8\" height=\"37.9375\" style=\"stroke: #383838; stroke-width: 1.5;\" width=\"87\" x=\"40\" y=\"49\"/><text fill=\"#000000\" font-family=\"sans-serif\" font-size=\"12\" font-style=\"italic\" lengthAdjust=\"spacingAndGlyphs\" textLength=\"64\" x=\"51.5\" y=\"65.1387\">«part def»</text><text fill=\"#000000\" font-family=\"sans-serif\" font-size=\"12\" lengthAdjust=\"spacingAndGlyphs\" textLength=\"8\" x=\"79.5\" y=\"79.1074\">C</text></a><g id=\"E1.E2.E3\"><a href=\"psysml:c0fa1ef5-beff-4377-a65a-0adbb28c5765\" target=\"_top\" title=\"psysml:c0fa1ef5-beff-4377-a65a-0adbb28c5765\" xlink:actuate=\"onRequest\" xlink:href=\"psysml:c0fa1ef5-beff-4377-a65a-0adbb28c5765\" xlink:show=\"new\" xlink:title=\"psysml:c0fa1ef5-beff-4377-a65a-0adbb28c5765\" xlink:type=\"simple\"><rect fill=\"#FFFFFF\" height=\"40\" id=\"E3\" rx=\"10\" ry=\"10\" style=\"stroke: #383838; stroke-width: 1.5;\" width=\"50\" x=\"167\" y=\"100\"/><rect fill=\"#F8F8F8\" height=\"23.9688\" rx=\"10\" ry=\"10\" style=\"stroke: #F8F8F8; stroke-width: 1.5;\" width=\"50\" x=\"167\" y=\"100\"/><rect fill=\"#F8F8F8\" height=\"10\" style=\"stroke: #F8F8F8; stroke-width: 1.5;\" width=\"50\" x=\"167\" y=\"113.9688\"/><rect fill=\"none\" height=\"40\" id=\"E3\" rx=\"10\" ry=\"10\" style=\"stroke: #383838; stroke-width: 1.5;\" width=\"50\" x=\"167\" y=\"100\"/><text fill=\"#000000\" font-family=\"sans-serif\" font-size=\"12\" lengthAdjust=\"spacingAndGlyphs\" textLength=\"8\" x=\"188\" y=\"116.1387\">a</text></a></g><g id=\"E1.E4.E5\"><a href=\"psysml:e9e4e094-e1ef-4d59-8b5d-bef394effc04\" target=\"_top\" title=\"psysml:e9e4e094-e1ef-4d59-8b5d-bef394effc04\" xlink:actuate=\"onRequest\" xlink:href=\"psysml:e9e4e094-e1ef-4d59-8b5d-bef394effc04\" xlink:show=\"new\" xlink:title=\"psysml:e9e4e094-e1ef-4d59-8b5d-bef394effc04\" xlink:type=\"simple\"><rect fill=\"#FFFFFF\" height=\"40\" id=\"E5\" rx=\"10\" ry=\"10\" style=\"stroke: #383838; stroke-width: 1.5;\" width=\"50\" x=\"58\" y=\"100\"/><rect fill=\"#F8F8F8\" height=\"23.9688\" rx=\"10\" ry=\"10\" style=\"stroke: #F8F8F8; stroke-width: 1.5;\" width=\"50\" x=\"58\" y=\"100\"/><rect fill=\"#F8F8F8\" height=\"10\" style=\"stroke: #F8F8F8; stroke-width: 1.5;\" width=\"50\" x=\"58\" y=\"113.9688\"/><rect fill=\"none\" height=\"40\" id=\"E5\" rx=\"10\" ry=\"10\" style=\"stroke: #383838; stroke-width: 1.5;\" width=\"50\" x=\"58\" y=\"100\"/><text fill=\"#000000\" font-family=\"sans-serif\" font-size=\"12\" lengthAdjust=\"spacingAndGlyphs\" textLength=\"8\" x=\"79\" y=\"116.1387\">g</text></a></g><!--MD5=[46e1fe27a24cf5d097074466d510170c]\n",
       "@startuml\r\n",
       "skinparam ranksep 8\r\n",
       "skinparam rectangle {\r\n",
       " backgroundColor<<block>> LightGreen\r\n",
       "}\r\n",
       "skinparam linetype polyline\r\n",
       "skinparam monochrome true\r\n",
       "skinparam classbackgroundcolor white\r\n",
       "skinparam shadowing false\r\n",
       "skinparam wrapWidth 300\r\n",
       "hide circle\r\n",
       "\r\n",
       "package \"Q\" as E1  [[psysml:2f37afb0-cd4e-4fb5-8035-2782344ffa0d ]]  {\r\n",
       "rec usage \"f\" as E2  [[psysml:808101de-d573-40e0-bd9c-1a41ac0023c1 ]] {\r\n",
       "rec usage \"a\" as E3  [[psysml:c0fa1ef5-beff-4377-a65a-0adbb28c5765 ]] {\r\n",
       "}\r\n",
       "}\r\n",
       "rec def \"C\" as E4  <<(T,blue)part def>> [[psysml:ae693b7b-cdf9-497f-b28d-123f2277c02f ]] {\r\n",
       "rec usage \"g\" as E5  [[psysml:e9e4e094-e1ef-4d59-8b5d-bef394effc04 ]] {\r\n",
       "}\r\n",
       "}\r\n",
       "}\r\n",
       "@enduml\r\n",
       "\n",
       "PlantUML version 1.2020.13(Sat Jun 13 12:26:38 UTC 2020)\n",
       "(EPL source distribution)\n",
       "Java Runtime: OpenJDK Runtime Environment\n",
       "JVM: OpenJDK 64-Bit Server VM\n",
       "Default Encoding: UTF-8\n",
       "Language: en\n",
       "Country: null\n",
       "--></g></svg>"
      ]
     },
     "execution_count": 12,
     "metadata": {},
     "output_type": "execute_result"
    }
   ],
   "source": [
    "%viz --style=\"POLYLINE\" --view=\"Interconnection\" \"Q\""
   ]
  },
  {
   "cell_type": "code",
   "execution_count": 13,
   "id": "imperial-carter",
   "metadata": {
    "execution": {
     "iopub.execute_input": "2021-03-26T12:08:00.602669Z",
     "iopub.status.busy": "2021-03-26T12:08:00.602081Z",
     "iopub.status.idle": "2021-03-26T12:08:00.607431Z",
     "shell.execute_reply": "2021-03-26T12:08:00.607798Z"
    }
   },
   "outputs": [
    {
     "data": {
      "image/svg+xml": [
       "<?xml version=\"1.0\" encoding=\"UTF-8\" standalone=\"no\"?><svg xmlns=\"http://www.w3.org/2000/svg\" xmlns:xlink=\"http://www.w3.org/1999/xlink\" contentScriptType=\"application/ecmascript\" contentStyleType=\"text/css\" height=\"12px\" preserveAspectRatio=\"none\" style=\"width:12px;height:12px;\" version=\"1.1\" viewBox=\"0 0 12 12\" width=\"12px\" zoomAndPan=\"magnify\"><defs/><g><!--MD5=[97bbf32f66ccd50cbc40d92ea8f5a65e]\n",
       "@startuml\r\n",
       "skinparam ranksep 8\r\n",
       "skinparam linetype polyline\r\n",
       "skinparam monochrome true\r\n",
       "skinparam classbackgroundcolor white\r\n",
       "skinparam shadowing false\r\n",
       "skinparam wrapWidth 300\r\n",
       "hide circle\r\n",
       "\r\n",
       "@enduml\r\n",
       "\n",
       "PlantUML version 1.2020.13(Sat Jun 13 12:26:38 UTC 2020)\n",
       "(EPL source distribution)\n",
       "Java Runtime: OpenJDK Runtime Environment\n",
       "JVM: OpenJDK 64-Bit Server VM\n",
       "Default Encoding: UTF-8\n",
       "Language: en\n",
       "Country: null\n",
       "--></g></svg>"
      ]
     },
     "execution_count": 13,
     "metadata": {},
     "output_type": "execute_result"
    }
   ],
   "source": [
    "%viz --style=\"POLYLINE\" --view=\"Action\" \"Q\""
   ]
  },
  {
   "cell_type": "code",
   "execution_count": 14,
   "id": "moral-style",
   "metadata": {
    "execution": {
     "iopub.execute_input": "2021-03-26T12:08:00.659347Z",
     "iopub.status.busy": "2021-03-26T12:08:00.658894Z",
     "iopub.status.idle": "2021-03-26T12:08:00.692194Z",
     "shell.execute_reply": "2021-03-26T12:08:00.691868Z"
    }
   },
   "outputs": [
    {
     "data": {
      "image/svg+xml": [
       "<?xml version=\"1.0\" encoding=\"UTF-8\" standalone=\"no\"?><svg xmlns=\"http://www.w3.org/2000/svg\" xmlns:xlink=\"http://www.w3.org/1999/xlink\" contentScriptType=\"application/ecmascript\" contentStyleType=\"text/css\" height=\"221px\" preserveAspectRatio=\"none\" style=\"width:213px;height:221px;\" version=\"1.1\" viewBox=\"0 0 213 221\" width=\"213px\" zoomAndPan=\"magnify\"><defs/><g><!--MD5=[fbc87193dbaf4d95561dea2c320d4a47]\n",
       "cluster E1--><a href=\"psysml:2f37afb0-cd4e-4fb5-8035-2782344ffa0d\" target=\"_top\" title=\"psysml:2f37afb0-cd4e-4fb5-8035-2782344ffa0d\" xlink:actuate=\"onRequest\" xlink:href=\"psysml:2f37afb0-cd4e-4fb5-8035-2782344ffa0d\" xlink:show=\"new\" xlink:title=\"psysml:2f37afb0-cd4e-4fb5-8035-2782344ffa0d\" xlink:type=\"simple\"><polygon fill=\"#FFFFFF\" points=\"16,6,34,6,41,28.2969,191,28.2969,191,209,16,209,16,6\" style=\"stroke: #000000; stroke-width: 1.5;\"/><line style=\"stroke: #000000; stroke-width: 1.5;\" x1=\"16\" x2=\"41\" y1=\"28.2969\" y2=\"28.2969\"/><text fill=\"#000000\" font-family=\"sans-serif\" font-size=\"14\" font-weight=\"bold\" lengthAdjust=\"spacingAndGlyphs\" textLength=\"12\" x=\"20\" y=\"20.9951\">Q</text></a><!--MD5=[b4997ac47864f28c2f74865a473b2911]\n",
       "class E2--><a href=\"psysml:808101de-d573-40e0-bd9c-1a41ac0023c1\" target=\"_top\" title=\"psysml:808101de-d573-40e0-bd9c-1a41ac0023c1\" xlink:actuate=\"onRequest\" xlink:href=\"psysml:808101de-d573-40e0-bd9c-1a41ac0023c1\" xlink:show=\"new\" xlink:title=\"psysml:808101de-d573-40e0-bd9c-1a41ac0023c1\" xlink:type=\"simple\"><rect fill=\"#FFFFFF\" height=\"45.9375\" id=\"E2\" rx=\"10\" ry=\"10\" style=\"stroke: #383838; stroke-width: 1.5;\" width=\"42\" x=\"133\" y=\"41\"/><text fill=\"#000000\" font-family=\"sans-serif\" font-size=\"12\" font-style=\"italic\" lengthAdjust=\"spacingAndGlyphs\" textLength=\"40\" x=\"134\" y=\"57.1387\">«part»</text><text fill=\"#000000\" font-family=\"sans-serif\" font-size=\"12\" lengthAdjust=\"spacingAndGlyphs\" textLength=\"4\" x=\"152\" y=\"71.1074\">f</text><line style=\"stroke: #383838; stroke-width: 1.5;\" x1=\"134\" x2=\"174\" y1=\"78.9375\" y2=\"78.9375\"/></a><!--MD5=[09b614a08d8cba4a07c9adeb5e0fee81]\n",
       "class E3--><a href=\"psysml:c0fa1ef5-beff-4377-a65a-0adbb28c5765\" target=\"_top\" title=\"psysml:c0fa1ef5-beff-4377-a65a-0adbb28c5765\" xlink:actuate=\"onRequest\" xlink:href=\"psysml:c0fa1ef5-beff-4377-a65a-0adbb28c5765\" xlink:show=\"new\" xlink:title=\"psysml:c0fa1ef5-beff-4377-a65a-0adbb28c5765\" xlink:type=\"simple\"><rect fill=\"#FFFFFF\" height=\"45.9375\" id=\"E3\" rx=\"10\" ry=\"10\" style=\"stroke: #383838; stroke-width: 1.5;\" width=\"42\" x=\"133\" y=\"147\"/><text fill=\"#000000\" font-family=\"sans-serif\" font-size=\"12\" font-style=\"italic\" lengthAdjust=\"spacingAndGlyphs\" textLength=\"40\" x=\"134\" y=\"163.1387\">«part»</text><text fill=\"#000000\" font-family=\"sans-serif\" font-size=\"12\" lengthAdjust=\"spacingAndGlyphs\" textLength=\"8\" x=\"150\" y=\"177.1074\">a</text><line style=\"stroke: #383838; stroke-width: 1.5;\" x1=\"134\" x2=\"174\" y1=\"184.9375\" y2=\"184.9375\"/></a><!--MD5=[ebbe1d658d1005bcc118a6aa81145e00]\n",
       "class E4--><a href=\"psysml:ae693b7b-cdf9-497f-b28d-123f2277c02f\" target=\"_top\" title=\"psysml:ae693b7b-cdf9-497f-b28d-123f2277c02f\" xlink:actuate=\"onRequest\" xlink:href=\"psysml:ae693b7b-cdf9-497f-b28d-123f2277c02f\" xlink:show=\"new\" xlink:title=\"psysml:ae693b7b-cdf9-497f-b28d-123f2277c02f\" xlink:type=\"simple\"><rect fill=\"#FFFFFF\" height=\"45.9375\" id=\"E4\" style=\"stroke: #383838; stroke-width: 1.5;\" width=\"66\" x=\"32\" y=\"41\"/><text fill=\"#000000\" font-family=\"sans-serif\" font-size=\"12\" font-style=\"italic\" lengthAdjust=\"spacingAndGlyphs\" textLength=\"64\" x=\"33\" y=\"57.1387\">«part def»</text><text fill=\"#000000\" font-family=\"sans-serif\" font-size=\"12\" lengthAdjust=\"spacingAndGlyphs\" textLength=\"8\" x=\"61\" y=\"71.1074\">C</text><line style=\"stroke: #383838; stroke-width: 1.5;\" x1=\"33\" x2=\"97\" y1=\"78.9375\" y2=\"78.9375\"/></a><!--MD5=[270fce915f116d4de14055a7c1d9a0f3]\n",
       "class E5--><a href=\"psysml:e9e4e094-e1ef-4d59-8b5d-bef394effc04\" target=\"_top\" title=\"psysml:e9e4e094-e1ef-4d59-8b5d-bef394effc04\" xlink:actuate=\"onRequest\" xlink:href=\"psysml:e9e4e094-e1ef-4d59-8b5d-bef394effc04\" xlink:show=\"new\" xlink:title=\"psysml:e9e4e094-e1ef-4d59-8b5d-bef394effc04\" xlink:type=\"simple\"><rect fill=\"#FFFFFF\" height=\"45.9375\" id=\"E5\" rx=\"10\" ry=\"10\" style=\"stroke: #383838; stroke-width: 1.5;\" width=\"42\" x=\"44\" y=\"147\"/><text fill=\"#000000\" font-family=\"sans-serif\" font-size=\"12\" font-style=\"italic\" lengthAdjust=\"spacingAndGlyphs\" textLength=\"40\" x=\"45\" y=\"163.1387\">«part»</text><text fill=\"#000000\" font-family=\"sans-serif\" font-size=\"12\" lengthAdjust=\"spacingAndGlyphs\" textLength=\"8\" x=\"61\" y=\"177.1074\">g</text><line style=\"stroke: #383838; stroke-width: 1.5;\" x1=\"45\" x2=\"85\" y1=\"184.9375\" y2=\"184.9375\"/></a><!--MD5=[209b3feb70ccb6233bfe1053d122c12c]\n",
       "reverse link E2 to E3--><a href=\"psysml:c0fa1ef5-beff-4377-a65a-0adbb28c5765\" target=\"_top\" title=\"psysml:c0fa1ef5-beff-4377-a65a-0adbb28c5765\" xlink:actuate=\"onRequest\" xlink:href=\"psysml:c0fa1ef5-beff-4377-a65a-0adbb28c5765\" xlink:show=\"new\" xlink:title=\"psysml:c0fa1ef5-beff-4377-a65a-0adbb28c5765\" xlink:type=\"simple\"><path d=\"M154,100.44 C154,115.87 154,133.47 154,146.98 \" fill=\"none\" id=\"E2&lt;-E3\" style=\"stroke: #383838; stroke-width: 1.0;\"/><polygon fill=\"#383838\" points=\"154,87.06,150,93.06,154,99.06,158,93.06,154,87.06\" style=\"stroke: #383838; stroke-width: 1.0;\"/></a><!--MD5=[62aa6af11e70f752912c1cb0466f24f7]\n",
       "reverse link E4 to E5--><a href=\"psysml:e9e4e094-e1ef-4d59-8b5d-bef394effc04\" target=\"_top\" title=\"psysml:e9e4e094-e1ef-4d59-8b5d-bef394effc04\" xlink:actuate=\"onRequest\" xlink:href=\"psysml:e9e4e094-e1ef-4d59-8b5d-bef394effc04\" xlink:show=\"new\" xlink:title=\"psysml:e9e4e094-e1ef-4d59-8b5d-bef394effc04\" xlink:type=\"simple\"><path d=\"M65,100.44 C65,115.87 65,133.47 65,146.98 \" fill=\"none\" id=\"E4&lt;-E5\" style=\"stroke: #383838; stroke-width: 1.0;\"/><polygon fill=\"#383838\" points=\"65,87.06,61,93.06,65,99.06,69,93.06,65,87.06\" style=\"stroke: #383838; stroke-width: 1.0;\"/></a><!--MD5=[a41cd815efdbeaeeaf72aa5b67a24b3f]\n",
       "@startuml\r\n",
       "skinparam linetype polyline\r\n",
       "skinparam monochrome true\r\n",
       "skinparam classbackgroundcolor white\r\n",
       "skinparam shadowing false\r\n",
       "skinparam wrapWidth 300\r\n",
       "hide circle\r\n",
       "\r\n",
       "package \"Q\" as E1  [[psysml:2f37afb0-cd4e-4fb5-8035-2782344ffa0d ]]  {\r\n",
       "comp usage \"f\" as E2  <<(T,blue)part>> [[psysml:808101de-d573-40e0-bd9c-1a41ac0023c1 ]] {\r\n",
       "}\r\n",
       "comp usage \"a\" as E3  <<(T,blue)part>> [[psysml:c0fa1ef5-beff-4377-a65a-0adbb28c5765 ]] {\r\n",
       "}\r\n",
       "comp def \"C\" as E4  <<(T,blue)part def>> [[psysml:ae693b7b-cdf9-497f-b28d-123f2277c02f ]] {\r\n",
       "}\r\n",
       "comp usage \"g\" as E5  <<(T,blue)part>> [[psysml:e9e4e094-e1ef-4d59-8b5d-bef394effc04 ]] {\r\n",
       "}\r\n",
       "E2 *- - E3 [[psysml:c0fa1ef5-beff-4377-a65a-0adbb28c5765 ]] \r\n",
       "E4 *- - E5 [[psysml:e9e4e094-e1ef-4d59-8b5d-bef394effc04 ]] \r\n",
       "}\r\n",
       "@enduml\r\n",
       "\n",
       "PlantUML version 1.2020.13(Sat Jun 13 12:26:38 UTC 2020)\n",
       "(EPL source distribution)\n",
       "Java Runtime: OpenJDK Runtime Environment\n",
       "JVM: OpenJDK 64-Bit Server VM\n",
       "Default Encoding: UTF-8\n",
       "Language: en\n",
       "Country: null\n",
       "--></g></svg>"
      ]
     },
     "execution_count": 14,
     "metadata": {},
     "output_type": "execute_result"
    }
   ],
   "source": [
    "%viz --style=\"POLYLINE\" --view=\"Sequence\" \"Q\""
   ]
  },
  {
   "cell_type": "code",
   "execution_count": 15,
   "id": "talented-egypt",
   "metadata": {
    "execution": {
     "iopub.execute_input": "2021-03-26T12:08:00.743228Z",
     "iopub.status.busy": "2021-03-26T12:08:00.742604Z",
     "iopub.status.idle": "2021-03-26T12:08:00.783848Z",
     "shell.execute_reply": "2021-03-26T12:08:00.783432Z"
    }
   },
   "outputs": [
    {
     "data": {
      "image/svg+xml": [
       "<?xml version=\"1.0\" encoding=\"UTF-8\" standalone=\"no\"?><svg xmlns=\"http://www.w3.org/2000/svg\" xmlns:xlink=\"http://www.w3.org/1999/xlink\" contentScriptType=\"application/ecmascript\" contentStyleType=\"text/css\" height=\"221px\" preserveAspectRatio=\"none\" style=\"width:213px;height:221px;\" version=\"1.1\" viewBox=\"0 0 213 221\" width=\"213px\" zoomAndPan=\"magnify\"><defs/><g><!--MD5=[fbc87193dbaf4d95561dea2c320d4a47]\n",
       "cluster E1--><a href=\"psysml:2f37afb0-cd4e-4fb5-8035-2782344ffa0d\" target=\"_top\" title=\"psysml:2f37afb0-cd4e-4fb5-8035-2782344ffa0d\" xlink:actuate=\"onRequest\" xlink:href=\"psysml:2f37afb0-cd4e-4fb5-8035-2782344ffa0d\" xlink:show=\"new\" xlink:title=\"psysml:2f37afb0-cd4e-4fb5-8035-2782344ffa0d\" xlink:type=\"simple\"><polygon fill=\"#FFFFFF\" points=\"16,6,34,6,41,28.2969,191,28.2969,191,209,16,209,16,6\" style=\"stroke: #000000; stroke-width: 1.5;\"/><line style=\"stroke: #000000; stroke-width: 1.5;\" x1=\"16\" x2=\"41\" y1=\"28.2969\" y2=\"28.2969\"/><text fill=\"#000000\" font-family=\"sans-serif\" font-size=\"14\" font-weight=\"bold\" lengthAdjust=\"spacingAndGlyphs\" textLength=\"12\" x=\"20\" y=\"20.9951\">Q</text></a><!--MD5=[b4997ac47864f28c2f74865a473b2911]\n",
       "class E2--><a href=\"psysml:808101de-d573-40e0-bd9c-1a41ac0023c1\" target=\"_top\" title=\"psysml:808101de-d573-40e0-bd9c-1a41ac0023c1\" xlink:actuate=\"onRequest\" xlink:href=\"psysml:808101de-d573-40e0-bd9c-1a41ac0023c1\" xlink:show=\"new\" xlink:title=\"psysml:808101de-d573-40e0-bd9c-1a41ac0023c1\" xlink:type=\"simple\"><rect fill=\"#FFFFFF\" height=\"45.9375\" id=\"E2\" rx=\"10\" ry=\"10\" style=\"stroke: #383838; stroke-width: 1.5;\" width=\"42\" x=\"133\" y=\"41\"/><text fill=\"#000000\" font-family=\"sans-serif\" font-size=\"12\" font-style=\"italic\" lengthAdjust=\"spacingAndGlyphs\" textLength=\"40\" x=\"134\" y=\"57.1387\">«part»</text><text fill=\"#000000\" font-family=\"sans-serif\" font-size=\"12\" lengthAdjust=\"spacingAndGlyphs\" textLength=\"4\" x=\"152\" y=\"71.1074\">f</text><line style=\"stroke: #383838; stroke-width: 1.5;\" x1=\"134\" x2=\"174\" y1=\"78.9375\" y2=\"78.9375\"/></a><!--MD5=[09b614a08d8cba4a07c9adeb5e0fee81]\n",
       "class E3--><a href=\"psysml:c0fa1ef5-beff-4377-a65a-0adbb28c5765\" target=\"_top\" title=\"psysml:c0fa1ef5-beff-4377-a65a-0adbb28c5765\" xlink:actuate=\"onRequest\" xlink:href=\"psysml:c0fa1ef5-beff-4377-a65a-0adbb28c5765\" xlink:show=\"new\" xlink:title=\"psysml:c0fa1ef5-beff-4377-a65a-0adbb28c5765\" xlink:type=\"simple\"><rect fill=\"#FFFFFF\" height=\"45.9375\" id=\"E3\" rx=\"10\" ry=\"10\" style=\"stroke: #383838; stroke-width: 1.5;\" width=\"42\" x=\"133\" y=\"147\"/><text fill=\"#000000\" font-family=\"sans-serif\" font-size=\"12\" font-style=\"italic\" lengthAdjust=\"spacingAndGlyphs\" textLength=\"40\" x=\"134\" y=\"163.1387\">«part»</text><text fill=\"#000000\" font-family=\"sans-serif\" font-size=\"12\" lengthAdjust=\"spacingAndGlyphs\" textLength=\"8\" x=\"150\" y=\"177.1074\">a</text><line style=\"stroke: #383838; stroke-width: 1.5;\" x1=\"134\" x2=\"174\" y1=\"184.9375\" y2=\"184.9375\"/></a><!--MD5=[ebbe1d658d1005bcc118a6aa81145e00]\n",
       "class E4--><a href=\"psysml:ae693b7b-cdf9-497f-b28d-123f2277c02f\" target=\"_top\" title=\"psysml:ae693b7b-cdf9-497f-b28d-123f2277c02f\" xlink:actuate=\"onRequest\" xlink:href=\"psysml:ae693b7b-cdf9-497f-b28d-123f2277c02f\" xlink:show=\"new\" xlink:title=\"psysml:ae693b7b-cdf9-497f-b28d-123f2277c02f\" xlink:type=\"simple\"><rect fill=\"#FFFFFF\" height=\"45.9375\" id=\"E4\" style=\"stroke: #383838; stroke-width: 1.5;\" width=\"66\" x=\"32\" y=\"41\"/><text fill=\"#000000\" font-family=\"sans-serif\" font-size=\"12\" font-style=\"italic\" lengthAdjust=\"spacingAndGlyphs\" textLength=\"64\" x=\"33\" y=\"57.1387\">«part def»</text><text fill=\"#000000\" font-family=\"sans-serif\" font-size=\"12\" lengthAdjust=\"spacingAndGlyphs\" textLength=\"8\" x=\"61\" y=\"71.1074\">C</text><line style=\"stroke: #383838; stroke-width: 1.5;\" x1=\"33\" x2=\"97\" y1=\"78.9375\" y2=\"78.9375\"/></a><!--MD5=[270fce915f116d4de14055a7c1d9a0f3]\n",
       "class E5--><a href=\"psysml:e9e4e094-e1ef-4d59-8b5d-bef394effc04\" target=\"_top\" title=\"psysml:e9e4e094-e1ef-4d59-8b5d-bef394effc04\" xlink:actuate=\"onRequest\" xlink:href=\"psysml:e9e4e094-e1ef-4d59-8b5d-bef394effc04\" xlink:show=\"new\" xlink:title=\"psysml:e9e4e094-e1ef-4d59-8b5d-bef394effc04\" xlink:type=\"simple\"><rect fill=\"#FFFFFF\" height=\"45.9375\" id=\"E5\" rx=\"10\" ry=\"10\" style=\"stroke: #383838; stroke-width: 1.5;\" width=\"42\" x=\"44\" y=\"147\"/><text fill=\"#000000\" font-family=\"sans-serif\" font-size=\"12\" font-style=\"italic\" lengthAdjust=\"spacingAndGlyphs\" textLength=\"40\" x=\"45\" y=\"163.1387\">«part»</text><text fill=\"#000000\" font-family=\"sans-serif\" font-size=\"12\" lengthAdjust=\"spacingAndGlyphs\" textLength=\"8\" x=\"61\" y=\"177.1074\">g</text><line style=\"stroke: #383838; stroke-width: 1.5;\" x1=\"45\" x2=\"85\" y1=\"184.9375\" y2=\"184.9375\"/></a><!--MD5=[209b3feb70ccb6233bfe1053d122c12c]\n",
       "reverse link E2 to E3--><a href=\"psysml:c0fa1ef5-beff-4377-a65a-0adbb28c5765\" target=\"_top\" title=\"psysml:c0fa1ef5-beff-4377-a65a-0adbb28c5765\" xlink:actuate=\"onRequest\" xlink:href=\"psysml:c0fa1ef5-beff-4377-a65a-0adbb28c5765\" xlink:show=\"new\" xlink:title=\"psysml:c0fa1ef5-beff-4377-a65a-0adbb28c5765\" xlink:type=\"simple\"><path d=\"M154,100.44 C154,115.87 154,133.47 154,146.98 \" fill=\"none\" id=\"E2&lt;-E3\" style=\"stroke: #383838; stroke-width: 1.0;\"/><polygon fill=\"#383838\" points=\"154,87.06,150,93.06,154,99.06,158,93.06,154,87.06\" style=\"stroke: #383838; stroke-width: 1.0;\"/></a><!--MD5=[62aa6af11e70f752912c1cb0466f24f7]\n",
       "reverse link E4 to E5--><a href=\"psysml:e9e4e094-e1ef-4d59-8b5d-bef394effc04\" target=\"_top\" title=\"psysml:e9e4e094-e1ef-4d59-8b5d-bef394effc04\" xlink:actuate=\"onRequest\" xlink:href=\"psysml:e9e4e094-e1ef-4d59-8b5d-bef394effc04\" xlink:show=\"new\" xlink:title=\"psysml:e9e4e094-e1ef-4d59-8b5d-bef394effc04\" xlink:type=\"simple\"><path d=\"M65,100.44 C65,115.87 65,133.47 65,146.98 \" fill=\"none\" id=\"E4&lt;-E5\" style=\"stroke: #383838; stroke-width: 1.0;\"/><polygon fill=\"#383838\" points=\"65,87.06,61,93.06,65,99.06,69,93.06,65,87.06\" style=\"stroke: #383838; stroke-width: 1.0;\"/></a><!--MD5=[a41cd815efdbeaeeaf72aa5b67a24b3f]\n",
       "@startuml\r\n",
       "skinparam linetype polyline\r\n",
       "skinparam monochrome true\r\n",
       "skinparam classbackgroundcolor white\r\n",
       "skinparam shadowing false\r\n",
       "skinparam wrapWidth 300\r\n",
       "hide circle\r\n",
       "\r\n",
       "package \"Q\" as E1  [[psysml:2f37afb0-cd4e-4fb5-8035-2782344ffa0d ]]  {\r\n",
       "comp usage \"f\" as E2  <<(T,blue)part>> [[psysml:808101de-d573-40e0-bd9c-1a41ac0023c1 ]] {\r\n",
       "}\r\n",
       "comp usage \"a\" as E3  <<(T,blue)part>> [[psysml:c0fa1ef5-beff-4377-a65a-0adbb28c5765 ]] {\r\n",
       "}\r\n",
       "comp def \"C\" as E4  <<(T,blue)part def>> [[psysml:ae693b7b-cdf9-497f-b28d-123f2277c02f ]] {\r\n",
       "}\r\n",
       "comp usage \"g\" as E5  <<(T,blue)part>> [[psysml:e9e4e094-e1ef-4d59-8b5d-bef394effc04 ]] {\r\n",
       "}\r\n",
       "E2 *- - E3 [[psysml:c0fa1ef5-beff-4377-a65a-0adbb28c5765 ]] \r\n",
       "E4 *- - E5 [[psysml:e9e4e094-e1ef-4d59-8b5d-bef394effc04 ]] \r\n",
       "}\r\n",
       "@enduml\r\n",
       "\n",
       "PlantUML version 1.2020.13(Sat Jun 13 12:26:38 UTC 2020)\n",
       "(EPL source distribution)\n",
       "Java Runtime: OpenJDK Runtime Environment\n",
       "JVM: OpenJDK 64-Bit Server VM\n",
       "Default Encoding: UTF-8\n",
       "Language: en\n",
       "Country: null\n",
       "--></g></svg>"
      ]
     },
     "execution_count": 15,
     "metadata": {},
     "output_type": "execute_result"
    }
   ],
   "source": [
    "%viz --style=\"POLYLINE\" --view=\"MIXED\" \"Q\""
   ]
  },
  {
   "cell_type": "code",
   "execution_count": 16,
   "id": "logical-company",
   "metadata": {
    "execution": {
     "iopub.execute_input": "2021-03-26T12:08:00.834072Z",
     "iopub.status.busy": "2021-03-26T12:08:00.833739Z",
     "iopub.status.idle": "2021-03-26T12:08:00.861292Z",
     "shell.execute_reply": "2021-03-26T12:08:00.861593Z"
    }
   },
   "outputs": [
    {
     "data": {
      "image/svg+xml": [
       "<?xml version=\"1.0\" encoding=\"UTF-8\" standalone=\"no\"?><svg xmlns=\"http://www.w3.org/2000/svg\" xmlns:xlink=\"http://www.w3.org/1999/xlink\" contentScriptType=\"application/ecmascript\" contentStyleType=\"text/css\" height=\"196px\" preserveAspectRatio=\"none\" style=\"width:238px;height:196px;\" version=\"1.1\" viewBox=\"0 0 238 196\" width=\"238px\" zoomAndPan=\"magnify\"><defs/><g><!--MD5=[fbc87193dbaf4d95561dea2c320d4a47]\n",
       "cluster E1--><a href=\"psysml:2f37afb0-cd4e-4fb5-8035-2782344ffa0d\" target=\"_top\" title=\"psysml:2f37afb0-cd4e-4fb5-8035-2782344ffa0d\" xlink:actuate=\"onRequest\" xlink:href=\"psysml:2f37afb0-cd4e-4fb5-8035-2782344ffa0d\" xlink:show=\"new\" xlink:title=\"psysml:2f37afb0-cd4e-4fb5-8035-2782344ffa0d\" xlink:type=\"simple\"><polygon fill=\"#FFFFFF\" points=\"16,6,34,6,41,28.2969,216,28.2969,216,184,16,184,16,6\" style=\"stroke: #000000; stroke-width: 1.5;\"/><line style=\"stroke: #000000; stroke-width: 1.5;\" x1=\"16\" x2=\"41\" y1=\"28.2969\" y2=\"28.2969\"/><text fill=\"#000000\" font-family=\"sans-serif\" font-size=\"14\" font-weight=\"bold\" lengthAdjust=\"spacingAndGlyphs\" textLength=\"12\" x=\"20\" y=\"20.9951\">Q</text></a><!--MD5=[b4997ac47864f28c2f74865a473b2911]\n",
       "class E2--><a href=\"psysml:808101de-d573-40e0-bd9c-1a41ac0023c1\" target=\"_top\" title=\"psysml:808101de-d573-40e0-bd9c-1a41ac0023c1\" xlink:actuate=\"onRequest\" xlink:href=\"psysml:808101de-d573-40e0-bd9c-1a41ac0023c1\" xlink:show=\"new\" xlink:title=\"psysml:808101de-d573-40e0-bd9c-1a41ac0023c1\" xlink:type=\"simple\"><rect fill=\"#FFFFFF\" height=\"45.9375\" id=\"E2\" rx=\"10\" ry=\"10\" style=\"stroke: #383838; stroke-width: 1.5;\" width=\"42\" x=\"44\" y=\"41\"/><text fill=\"#000000\" font-family=\"sans-serif\" font-size=\"12\" font-style=\"italic\" lengthAdjust=\"spacingAndGlyphs\" textLength=\"40\" x=\"45\" y=\"57.1387\">«part»</text><text fill=\"#000000\" font-family=\"sans-serif\" font-size=\"12\" lengthAdjust=\"spacingAndGlyphs\" textLength=\"4\" x=\"63\" y=\"71.1074\">f</text><line style=\"stroke: #383838; stroke-width: 1.5;\" x1=\"45\" x2=\"85\" y1=\"78.9375\" y2=\"78.9375\"/></a><!--MD5=[09b614a08d8cba4a07c9adeb5e0fee81]\n",
       "class E3--><a href=\"psysml:c0fa1ef5-beff-4377-a65a-0adbb28c5765\" target=\"_top\" title=\"psysml:c0fa1ef5-beff-4377-a65a-0adbb28c5765\" xlink:actuate=\"onRequest\" xlink:href=\"psysml:c0fa1ef5-beff-4377-a65a-0adbb28c5765\" xlink:show=\"new\" xlink:title=\"psysml:c0fa1ef5-beff-4377-a65a-0adbb28c5765\" xlink:type=\"simple\"><rect fill=\"#FFFFFF\" height=\"45.9375\" id=\"E3\" rx=\"10\" ry=\"10\" style=\"stroke: #383838; stroke-width: 1.5;\" width=\"42\" x=\"158\" y=\"41\"/><text fill=\"#000000\" font-family=\"sans-serif\" font-size=\"12\" font-style=\"italic\" lengthAdjust=\"spacingAndGlyphs\" textLength=\"40\" x=\"159\" y=\"57.1387\">«part»</text><text fill=\"#000000\" font-family=\"sans-serif\" font-size=\"12\" lengthAdjust=\"spacingAndGlyphs\" textLength=\"8\" x=\"175\" y=\"71.1074\">a</text><line style=\"stroke: #383838; stroke-width: 1.5;\" x1=\"159\" x2=\"199\" y1=\"78.9375\" y2=\"78.9375\"/></a><!--MD5=[ebbe1d658d1005bcc118a6aa81145e00]\n",
       "class E4--><a href=\"psysml:ae693b7b-cdf9-497f-b28d-123f2277c02f\" target=\"_top\" title=\"psysml:ae693b7b-cdf9-497f-b28d-123f2277c02f\" xlink:actuate=\"onRequest\" xlink:href=\"psysml:ae693b7b-cdf9-497f-b28d-123f2277c02f\" xlink:show=\"new\" xlink:title=\"psysml:ae693b7b-cdf9-497f-b28d-123f2277c02f\" xlink:type=\"simple\"><rect fill=\"#FFFFFF\" height=\"45.9375\" id=\"E4\" style=\"stroke: #383838; stroke-width: 1.5;\" width=\"66\" x=\"32\" y=\"122\"/><text fill=\"#000000\" font-family=\"sans-serif\" font-size=\"12\" font-style=\"italic\" lengthAdjust=\"spacingAndGlyphs\" textLength=\"64\" x=\"33\" y=\"138.1387\">«part def»</text><text fill=\"#000000\" font-family=\"sans-serif\" font-size=\"12\" lengthAdjust=\"spacingAndGlyphs\" textLength=\"8\" x=\"61\" y=\"152.1074\">C</text><line style=\"stroke: #383838; stroke-width: 1.5;\" x1=\"33\" x2=\"97\" y1=\"159.9375\" y2=\"159.9375\"/></a><!--MD5=[270fce915f116d4de14055a7c1d9a0f3]\n",
       "class E5--><a href=\"psysml:e9e4e094-e1ef-4d59-8b5d-bef394effc04\" target=\"_top\" title=\"psysml:e9e4e094-e1ef-4d59-8b5d-bef394effc04\" xlink:actuate=\"onRequest\" xlink:href=\"psysml:e9e4e094-e1ef-4d59-8b5d-bef394effc04\" xlink:show=\"new\" xlink:title=\"psysml:e9e4e094-e1ef-4d59-8b5d-bef394effc04\" xlink:type=\"simple\"><rect fill=\"#FFFFFF\" height=\"45.9375\" id=\"E5\" rx=\"10\" ry=\"10\" style=\"stroke: #383838; stroke-width: 1.5;\" width=\"42\" x=\"158\" y=\"122\"/><text fill=\"#000000\" font-family=\"sans-serif\" font-size=\"12\" font-style=\"italic\" lengthAdjust=\"spacingAndGlyphs\" textLength=\"40\" x=\"159\" y=\"138.1387\">«part»</text><text fill=\"#000000\" font-family=\"sans-serif\" font-size=\"12\" lengthAdjust=\"spacingAndGlyphs\" textLength=\"8\" x=\"175\" y=\"152.1074\">g</text><line style=\"stroke: #383838; stroke-width: 1.5;\" x1=\"159\" x2=\"199\" y1=\"159.9375\" y2=\"159.9375\"/></a><!--MD5=[209b3feb70ccb6233bfe1053d122c12c]\n",
       "reverse link E2 to E3--><a href=\"psysml:c0fa1ef5-beff-4377-a65a-0adbb28c5765\" target=\"_top\" title=\"psysml:c0fa1ef5-beff-4377-a65a-0adbb28c5765\" xlink:actuate=\"onRequest\" xlink:href=\"psysml:c0fa1ef5-beff-4377-a65a-0adbb28c5765\" xlink:show=\"new\" xlink:title=\"psysml:c0fa1ef5-beff-4377-a65a-0adbb28c5765\" xlink:type=\"simple\"><path d=\"M99.26,64 C118.27,64 141.49,64 157.77,64 \" fill=\"none\" id=\"E2&lt;-E3\" style=\"stroke: #383838; stroke-width: 1.0;\"/><polygon fill=\"#383838\" points=\"86.02,64,92.02,68,98.02,64,92.02,60,86.02,64\" style=\"stroke: #383838; stroke-width: 1.0;\"/></a><!--MD5=[62aa6af11e70f752912c1cb0466f24f7]\n",
       "reverse link E4 to E5--><a href=\"psysml:e9e4e094-e1ef-4d59-8b5d-bef394effc04\" target=\"_top\" title=\"psysml:e9e4e094-e1ef-4d59-8b5d-bef394effc04\" xlink:actuate=\"onRequest\" xlink:href=\"psysml:e9e4e094-e1ef-4d59-8b5d-bef394effc04\" xlink:show=\"new\" xlink:title=\"psysml:e9e4e094-e1ef-4d59-8b5d-bef394effc04\" xlink:type=\"simple\"><path d=\"M111.28,145 C127.47,145 144.9,145 157.89,145 \" fill=\"none\" id=\"E4&lt;-E5\" style=\"stroke: #383838; stroke-width: 1.0;\"/><polygon fill=\"#383838\" points=\"98.09,145,104.09,149,110.09,145,104.09,141,98.09,145\" style=\"stroke: #383838; stroke-width: 1.0;\"/></a><!--MD5=[2c39714e7bd06e31dcc632e46b9d2787]\n",
       "@startuml\r\n",
       "left to right direction\r\n",
       "skinparam monochrome true\r\n",
       "skinparam classbackgroundcolor white\r\n",
       "skinparam shadowing false\r\n",
       "skinparam wrapWidth 300\r\n",
       "hide circle\r\n",
       "\r\n",
       "package \"Q\" as E1  [[psysml:2f37afb0-cd4e-4fb5-8035-2782344ffa0d ]]  {\r\n",
       "comp usage \"f\" as E2  <<(T,blue)part>> [[psysml:808101de-d573-40e0-bd9c-1a41ac0023c1 ]] {\r\n",
       "}\r\n",
       "comp usage \"a\" as E3  <<(T,blue)part>> [[psysml:c0fa1ef5-beff-4377-a65a-0adbb28c5765 ]] {\r\n",
       "}\r\n",
       "comp def \"C\" as E4  <<(T,blue)part def>> [[psysml:ae693b7b-cdf9-497f-b28d-123f2277c02f ]] {\r\n",
       "}\r\n",
       "comp usage \"g\" as E5  <<(T,blue)part>> [[psysml:e9e4e094-e1ef-4d59-8b5d-bef394effc04 ]] {\r\n",
       "}\r\n",
       "E2 *- - E3 [[psysml:c0fa1ef5-beff-4377-a65a-0adbb28c5765 ]] \r\n",
       "E4 *- - E5 [[psysml:e9e4e094-e1ef-4d59-8b5d-bef394effc04 ]] \r\n",
       "}\r\n",
       "@enduml\r\n",
       "\n",
       "PlantUML version 1.2020.13(Sat Jun 13 12:26:38 UTC 2020)\n",
       "(EPL source distribution)\n",
       "Java Runtime: OpenJDK Runtime Environment\n",
       "JVM: OpenJDK 64-Bit Server VM\n",
       "Default Encoding: UTF-8\n",
       "Language: en\n",
       "Country: null\n",
       "--></g></svg>"
      ]
     },
     "execution_count": 16,
     "metadata": {},
     "output_type": "execute_result"
    }
   ],
   "source": [
    "%viz --style=\"LR\" --view=\"Default\" \"Q\""
   ]
  },
  {
   "cell_type": "code",
   "execution_count": 17,
   "id": "radio-advance",
   "metadata": {
    "execution": {
     "iopub.execute_input": "2021-03-26T12:08:00.913059Z",
     "iopub.status.busy": "2021-03-26T12:08:00.912329Z",
     "iopub.status.idle": "2021-03-26T12:08:00.948822Z",
     "shell.execute_reply": "2021-03-26T12:08:00.948453Z"
    }
   },
   "outputs": [
    {
     "data": {
      "image/svg+xml": [
       "<?xml version=\"1.0\" encoding=\"UTF-8\" standalone=\"no\"?><svg xmlns=\"http://www.w3.org/2000/svg\" xmlns:xlink=\"http://www.w3.org/1999/xlink\" contentScriptType=\"application/ecmascript\" contentStyleType=\"text/css\" height=\"196px\" preserveAspectRatio=\"none\" style=\"width:238px;height:196px;\" version=\"1.1\" viewBox=\"0 0 238 196\" width=\"238px\" zoomAndPan=\"magnify\"><defs/><g><!--MD5=[fbc87193dbaf4d95561dea2c320d4a47]\n",
       "cluster E1--><a href=\"psysml:2f37afb0-cd4e-4fb5-8035-2782344ffa0d\" target=\"_top\" title=\"psysml:2f37afb0-cd4e-4fb5-8035-2782344ffa0d\" xlink:actuate=\"onRequest\" xlink:href=\"psysml:2f37afb0-cd4e-4fb5-8035-2782344ffa0d\" xlink:show=\"new\" xlink:title=\"psysml:2f37afb0-cd4e-4fb5-8035-2782344ffa0d\" xlink:type=\"simple\"><polygon fill=\"#FFFFFF\" points=\"16,6,34,6,41,28.2969,216,28.2969,216,184,16,184,16,6\" style=\"stroke: #000000; stroke-width: 1.5;\"/><line style=\"stroke: #000000; stroke-width: 1.5;\" x1=\"16\" x2=\"41\" y1=\"28.2969\" y2=\"28.2969\"/><text fill=\"#000000\" font-family=\"sans-serif\" font-size=\"14\" font-weight=\"bold\" lengthAdjust=\"spacingAndGlyphs\" textLength=\"12\" x=\"20\" y=\"20.9951\">Q</text></a><!--MD5=[b4997ac47864f28c2f74865a473b2911]\n",
       "class E2--><a href=\"psysml:808101de-d573-40e0-bd9c-1a41ac0023c1\" target=\"_top\" title=\"psysml:808101de-d573-40e0-bd9c-1a41ac0023c1\" xlink:actuate=\"onRequest\" xlink:href=\"psysml:808101de-d573-40e0-bd9c-1a41ac0023c1\" xlink:show=\"new\" xlink:title=\"psysml:808101de-d573-40e0-bd9c-1a41ac0023c1\" xlink:type=\"simple\"><rect fill=\"#FFFFFF\" height=\"45.9375\" id=\"E2\" rx=\"10\" ry=\"10\" style=\"stroke: #383838; stroke-width: 1.5;\" width=\"42\" x=\"44\" y=\"41\"/><text fill=\"#000000\" font-family=\"sans-serif\" font-size=\"12\" font-style=\"italic\" lengthAdjust=\"spacingAndGlyphs\" textLength=\"40\" x=\"45\" y=\"57.1387\">«part»</text><text fill=\"#000000\" font-family=\"sans-serif\" font-size=\"12\" lengthAdjust=\"spacingAndGlyphs\" textLength=\"4\" x=\"63\" y=\"71.1074\">f</text><line style=\"stroke: #383838; stroke-width: 1.5;\" x1=\"45\" x2=\"85\" y1=\"78.9375\" y2=\"78.9375\"/></a><!--MD5=[09b614a08d8cba4a07c9adeb5e0fee81]\n",
       "class E3--><a href=\"psysml:c0fa1ef5-beff-4377-a65a-0adbb28c5765\" target=\"_top\" title=\"psysml:c0fa1ef5-beff-4377-a65a-0adbb28c5765\" xlink:actuate=\"onRequest\" xlink:href=\"psysml:c0fa1ef5-beff-4377-a65a-0adbb28c5765\" xlink:show=\"new\" xlink:title=\"psysml:c0fa1ef5-beff-4377-a65a-0adbb28c5765\" xlink:type=\"simple\"><rect fill=\"#FFFFFF\" height=\"45.9375\" id=\"E3\" rx=\"10\" ry=\"10\" style=\"stroke: #383838; stroke-width: 1.5;\" width=\"42\" x=\"158\" y=\"41\"/><text fill=\"#000000\" font-family=\"sans-serif\" font-size=\"12\" font-style=\"italic\" lengthAdjust=\"spacingAndGlyphs\" textLength=\"40\" x=\"159\" y=\"57.1387\">«part»</text><text fill=\"#000000\" font-family=\"sans-serif\" font-size=\"12\" lengthAdjust=\"spacingAndGlyphs\" textLength=\"8\" x=\"175\" y=\"71.1074\">a</text><line style=\"stroke: #383838; stroke-width: 1.5;\" x1=\"159\" x2=\"199\" y1=\"78.9375\" y2=\"78.9375\"/></a><!--MD5=[ebbe1d658d1005bcc118a6aa81145e00]\n",
       "class E4--><a href=\"psysml:ae693b7b-cdf9-497f-b28d-123f2277c02f\" target=\"_top\" title=\"psysml:ae693b7b-cdf9-497f-b28d-123f2277c02f\" xlink:actuate=\"onRequest\" xlink:href=\"psysml:ae693b7b-cdf9-497f-b28d-123f2277c02f\" xlink:show=\"new\" xlink:title=\"psysml:ae693b7b-cdf9-497f-b28d-123f2277c02f\" xlink:type=\"simple\"><rect fill=\"#FFFFFF\" height=\"45.9375\" id=\"E4\" style=\"stroke: #383838; stroke-width: 1.5;\" width=\"66\" x=\"32\" y=\"122\"/><text fill=\"#000000\" font-family=\"sans-serif\" font-size=\"12\" font-style=\"italic\" lengthAdjust=\"spacingAndGlyphs\" textLength=\"64\" x=\"33\" y=\"138.1387\">«part def»</text><text fill=\"#000000\" font-family=\"sans-serif\" font-size=\"12\" lengthAdjust=\"spacingAndGlyphs\" textLength=\"8\" x=\"61\" y=\"152.1074\">C</text><line style=\"stroke: #383838; stroke-width: 1.5;\" x1=\"33\" x2=\"97\" y1=\"159.9375\" y2=\"159.9375\"/></a><!--MD5=[270fce915f116d4de14055a7c1d9a0f3]\n",
       "class E5--><a href=\"psysml:e9e4e094-e1ef-4d59-8b5d-bef394effc04\" target=\"_top\" title=\"psysml:e9e4e094-e1ef-4d59-8b5d-bef394effc04\" xlink:actuate=\"onRequest\" xlink:href=\"psysml:e9e4e094-e1ef-4d59-8b5d-bef394effc04\" xlink:show=\"new\" xlink:title=\"psysml:e9e4e094-e1ef-4d59-8b5d-bef394effc04\" xlink:type=\"simple\"><rect fill=\"#FFFFFF\" height=\"45.9375\" id=\"E5\" rx=\"10\" ry=\"10\" style=\"stroke: #383838; stroke-width: 1.5;\" width=\"42\" x=\"158\" y=\"122\"/><text fill=\"#000000\" font-family=\"sans-serif\" font-size=\"12\" font-style=\"italic\" lengthAdjust=\"spacingAndGlyphs\" textLength=\"40\" x=\"159\" y=\"138.1387\">«part»</text><text fill=\"#000000\" font-family=\"sans-serif\" font-size=\"12\" lengthAdjust=\"spacingAndGlyphs\" textLength=\"8\" x=\"175\" y=\"152.1074\">g</text><line style=\"stroke: #383838; stroke-width: 1.5;\" x1=\"159\" x2=\"199\" y1=\"159.9375\" y2=\"159.9375\"/></a><!--MD5=[209b3feb70ccb6233bfe1053d122c12c]\n",
       "reverse link E2 to E3--><a href=\"psysml:c0fa1ef5-beff-4377-a65a-0adbb28c5765\" target=\"_top\" title=\"psysml:c0fa1ef5-beff-4377-a65a-0adbb28c5765\" xlink:actuate=\"onRequest\" xlink:href=\"psysml:c0fa1ef5-beff-4377-a65a-0adbb28c5765\" xlink:show=\"new\" xlink:title=\"psysml:c0fa1ef5-beff-4377-a65a-0adbb28c5765\" xlink:type=\"simple\"><path d=\"M99.26,64 C118.27,64 141.49,64 157.77,64 \" fill=\"none\" id=\"E2&lt;-E3\" style=\"stroke: #383838; stroke-width: 1.0;\"/><polygon fill=\"#383838\" points=\"86.02,64,92.02,68,98.02,64,92.02,60,86.02,64\" style=\"stroke: #383838; stroke-width: 1.0;\"/></a><!--MD5=[62aa6af11e70f752912c1cb0466f24f7]\n",
       "reverse link E4 to E5--><a href=\"psysml:e9e4e094-e1ef-4d59-8b5d-bef394effc04\" target=\"_top\" title=\"psysml:e9e4e094-e1ef-4d59-8b5d-bef394effc04\" xlink:actuate=\"onRequest\" xlink:href=\"psysml:e9e4e094-e1ef-4d59-8b5d-bef394effc04\" xlink:show=\"new\" xlink:title=\"psysml:e9e4e094-e1ef-4d59-8b5d-bef394effc04\" xlink:type=\"simple\"><path d=\"M111.28,145 C127.47,145 144.9,145 157.89,145 \" fill=\"none\" id=\"E4&lt;-E5\" style=\"stroke: #383838; stroke-width: 1.0;\"/><polygon fill=\"#383838\" points=\"98.09,145,104.09,149,110.09,145,104.09,141,98.09,145\" style=\"stroke: #383838; stroke-width: 1.0;\"/></a><!--MD5=[2c39714e7bd06e31dcc632e46b9d2787]\n",
       "@startuml\r\n",
       "left to right direction\r\n",
       "skinparam monochrome true\r\n",
       "skinparam classbackgroundcolor white\r\n",
       "skinparam shadowing false\r\n",
       "skinparam wrapWidth 300\r\n",
       "hide circle\r\n",
       "\r\n",
       "package \"Q\" as E1  [[psysml:2f37afb0-cd4e-4fb5-8035-2782344ffa0d ]]  {\r\n",
       "comp usage \"f\" as E2  <<(T,blue)part>> [[psysml:808101de-d573-40e0-bd9c-1a41ac0023c1 ]] {\r\n",
       "}\r\n",
       "comp usage \"a\" as E3  <<(T,blue)part>> [[psysml:c0fa1ef5-beff-4377-a65a-0adbb28c5765 ]] {\r\n",
       "}\r\n",
       "comp def \"C\" as E4  <<(T,blue)part def>> [[psysml:ae693b7b-cdf9-497f-b28d-123f2277c02f ]] {\r\n",
       "}\r\n",
       "comp usage \"g\" as E5  <<(T,blue)part>> [[psysml:e9e4e094-e1ef-4d59-8b5d-bef394effc04 ]] {\r\n",
       "}\r\n",
       "E2 *- - E3 [[psysml:c0fa1ef5-beff-4377-a65a-0adbb28c5765 ]] \r\n",
       "E4 *- - E5 [[psysml:e9e4e094-e1ef-4d59-8b5d-bef394effc04 ]] \r\n",
       "}\r\n",
       "@enduml\r\n",
       "\n",
       "PlantUML version 1.2020.13(Sat Jun 13 12:26:38 UTC 2020)\n",
       "(EPL source distribution)\n",
       "Java Runtime: OpenJDK Runtime Environment\n",
       "JVM: OpenJDK 64-Bit Server VM\n",
       "Default Encoding: UTF-8\n",
       "Language: en\n",
       "Country: null\n",
       "--></g></svg>"
      ]
     },
     "execution_count": 17,
     "metadata": {},
     "output_type": "execute_result"
    }
   ],
   "source": [
    "%viz --style=\"LR\" --view=\"Tree\" \"Q\""
   ]
  },
  {
   "cell_type": "code",
   "execution_count": 18,
   "id": "under-appraisal",
   "metadata": {
    "execution": {
     "iopub.execute_input": "2021-03-26T12:08:01.001932Z",
     "iopub.status.busy": "2021-03-26T12:08:01.001140Z",
     "iopub.status.idle": "2021-03-26T12:08:01.008084Z",
     "shell.execute_reply": "2021-03-26T12:08:01.007604Z"
    }
   },
   "outputs": [
    {
     "data": {
      "image/svg+xml": [
       "<?xml version=\"1.0\" encoding=\"UTF-8\" standalone=\"no\"?><svg xmlns=\"http://www.w3.org/2000/svg\" xmlns:xlink=\"http://www.w3.org/1999/xlink\" contentScriptType=\"application/ecmascript\" contentStyleType=\"text/css\" height=\"12px\" preserveAspectRatio=\"none\" style=\"width:12px;height:12px;\" version=\"1.1\" viewBox=\"0 0 12 12\" width=\"12px\" zoomAndPan=\"magnify\"><defs/><g><!--MD5=[19d285c9d72a204eba4e2cd117d745e8]\n",
       "@startuml\r\n",
       "left to right direction\r\n",
       "skinparam monochrome true\r\n",
       "skinparam classbackgroundcolor white\r\n",
       "skinparam shadowing false\r\n",
       "skinparam wrapWidth 300\r\n",
       "hide circle\r\n",
       "\r\n",
       "@enduml\r\n",
       "\n",
       "PlantUML version 1.2020.13(Sat Jun 13 12:26:38 UTC 2020)\n",
       "(EPL source distribution)\n",
       "Java Runtime: OpenJDK Runtime Environment\n",
       "JVM: OpenJDK 64-Bit Server VM\n",
       "Default Encoding: UTF-8\n",
       "Language: en\n",
       "Country: null\n",
       "--></g></svg>"
      ]
     },
     "execution_count": 18,
     "metadata": {},
     "output_type": "execute_result"
    }
   ],
   "source": [
    "%viz --style=\"LR\" --view=\"State\" \"Q\""
   ]
  },
  {
   "cell_type": "code",
   "execution_count": 19,
   "id": "toxic-replacement",
   "metadata": {
    "execution": {
     "iopub.execute_input": "2021-03-26T12:08:01.060480Z",
     "iopub.status.busy": "2021-03-26T12:08:01.059714Z",
     "iopub.status.idle": "2021-03-26T12:08:01.090785Z",
     "shell.execute_reply": "2021-03-26T12:08:01.090472Z"
    }
   },
   "outputs": [
    {
     "data": {
      "image/svg+xml": [
       "<?xml version=\"1.0\" encoding=\"UTF-8\" standalone=\"no\"?><svg xmlns=\"http://www.w3.org/2000/svg\" xmlns:xlink=\"http://www.w3.org/1999/xlink\" contentScriptType=\"application/ecmascript\" contentStyleType=\"text/css\" height=\"307px\" preserveAspectRatio=\"none\" style=\"width:173px;height:307px;\" version=\"1.1\" viewBox=\"0 0 173 307\" width=\"173px\" zoomAndPan=\"magnify\"><defs/><g><!--MD5=[fbc87193dbaf4d95561dea2c320d4a47]\n",
       "cluster E1--><a href=\"psysml:2f37afb0-cd4e-4fb5-8035-2782344ffa0d\" target=\"_top\" title=\"psysml:2f37afb0-cd4e-4fb5-8035-2782344ffa0d\" xlink:actuate=\"onRequest\" xlink:href=\"psysml:2f37afb0-cd4e-4fb5-8035-2782344ffa0d\" xlink:show=\"new\" xlink:title=\"psysml:2f37afb0-cd4e-4fb5-8035-2782344ffa0d\" xlink:type=\"simple\"><polygon fill=\"#FFFFFF\" points=\"16,6,34,6,41,28.2969,151,28.2969,151,295,16,295,16,6\" style=\"stroke: #000000; stroke-width: 1.5;\"/><line style=\"stroke: #000000; stroke-width: 1.5;\" x1=\"16\" x2=\"41\" y1=\"28.2969\" y2=\"28.2969\"/><text fill=\"#000000\" font-family=\"sans-serif\" font-size=\"14\" font-weight=\"bold\" lengthAdjust=\"spacingAndGlyphs\" textLength=\"12\" x=\"20\" y=\"20.9951\">Q</text></a><!--MD5=[e4f7fae6ed58524ba242bb0b0d3be6b7]\n",
       "cluster E2--><a href=\"psysml:808101de-d573-40e0-bd9c-1a41ac0023c1\" target=\"_top\" title=\"psysml:808101de-d573-40e0-bd9c-1a41ac0023c1\" xlink:actuate=\"onRequest\" xlink:href=\"psysml:808101de-d573-40e0-bd9c-1a41ac0023c1\" xlink:show=\"new\" xlink:title=\"psysml:808101de-d573-40e0-bd9c-1a41ac0023c1\" xlink:type=\"simple\"><rect fill=\"#FFFFFF\" height=\"91\" id=\"E2\" rx=\"10\" ry=\"10\" style=\"stroke: #383838; stroke-width: 1.5;\" width=\"82\" x=\"42\" y=\"49\"/><rect fill=\"#F8F8F8\" height=\"23.9688\" rx=\"10\" ry=\"10\" style=\"stroke: #F8F8F8; stroke-width: 1.5;\" width=\"82\" x=\"42\" y=\"49\"/><rect fill=\"#F8F8F8\" height=\"10\" style=\"stroke: #F8F8F8; stroke-width: 1.5;\" width=\"82\" x=\"42\" y=\"62.9688\"/><rect fill=\"none\" height=\"91\" id=\"E2\" rx=\"10\" ry=\"10\" style=\"stroke: #383838; stroke-width: 1.5;\" width=\"82\" x=\"42\" y=\"49\"/><text fill=\"#000000\" font-family=\"sans-serif\" font-size=\"12\" lengthAdjust=\"spacingAndGlyphs\" textLength=\"4\" x=\"81\" y=\"65.1387\">f</text><line style=\"stroke: #383838; stroke-width: 1.0;\" x1=\"42\" x2=\"124\" y1=\"72.9688\" y2=\"72.9688\"/></a><!--MD5=[f6df4d0ebaf0b5dfb2ced0ae5af7c670]\n",
       "cluster E4--><a href=\"psysml:ae693b7b-cdf9-497f-b28d-123f2277c02f\" target=\"_top\" title=\"psysml:ae693b7b-cdf9-497f-b28d-123f2277c02f\" xlink:actuate=\"onRequest\" xlink:href=\"psysml:ae693b7b-cdf9-497f-b28d-123f2277c02f\" xlink:show=\"new\" xlink:title=\"psysml:ae693b7b-cdf9-497f-b28d-123f2277c02f\" xlink:type=\"simple\"><rect fill=\"#FFFFFF\" height=\"107\" id=\"E4\" style=\"stroke: #383838; stroke-width: 1.5;\" width=\"87\" x=\"40\" y=\"164\"/><rect fill=\"#F8F8F8\" height=\"37.9375\" style=\"stroke: #383838; stroke-width: 1.5;\" width=\"87\" x=\"40\" y=\"164\"/><text fill=\"#000000\" font-family=\"sans-serif\" font-size=\"12\" font-style=\"italic\" lengthAdjust=\"spacingAndGlyphs\" textLength=\"64\" x=\"51.5\" y=\"180.1387\">«part def»</text><text fill=\"#000000\" font-family=\"sans-serif\" font-size=\"12\" lengthAdjust=\"spacingAndGlyphs\" textLength=\"8\" x=\"79.5\" y=\"194.1074\">C</text></a><g id=\"E1.E2.E3\"><a href=\"psysml:c0fa1ef5-beff-4377-a65a-0adbb28c5765\" target=\"_top\" title=\"psysml:c0fa1ef5-beff-4377-a65a-0adbb28c5765\" xlink:actuate=\"onRequest\" xlink:href=\"psysml:c0fa1ef5-beff-4377-a65a-0adbb28c5765\" xlink:show=\"new\" xlink:title=\"psysml:c0fa1ef5-beff-4377-a65a-0adbb28c5765\" xlink:type=\"simple\"><rect fill=\"#FFFFFF\" height=\"40\" id=\"E3\" rx=\"10\" ry=\"10\" style=\"stroke: #383838; stroke-width: 1.5;\" width=\"50\" x=\"58\" y=\"84\"/><rect fill=\"#F8F8F8\" height=\"23.9688\" rx=\"10\" ry=\"10\" style=\"stroke: #F8F8F8; stroke-width: 1.5;\" width=\"50\" x=\"58\" y=\"84\"/><rect fill=\"#F8F8F8\" height=\"10\" style=\"stroke: #F8F8F8; stroke-width: 1.5;\" width=\"50\" x=\"58\" y=\"97.9688\"/><rect fill=\"none\" height=\"40\" id=\"E3\" rx=\"10\" ry=\"10\" style=\"stroke: #383838; stroke-width: 1.5;\" width=\"50\" x=\"58\" y=\"84\"/><text fill=\"#000000\" font-family=\"sans-serif\" font-size=\"12\" lengthAdjust=\"spacingAndGlyphs\" textLength=\"8\" x=\"79\" y=\"100.1387\">a</text></a></g><g id=\"E1.E4.E5\"><a href=\"psysml:e9e4e094-e1ef-4d59-8b5d-bef394effc04\" target=\"_top\" title=\"psysml:e9e4e094-e1ef-4d59-8b5d-bef394effc04\" xlink:actuate=\"onRequest\" xlink:href=\"psysml:e9e4e094-e1ef-4d59-8b5d-bef394effc04\" xlink:show=\"new\" xlink:title=\"psysml:e9e4e094-e1ef-4d59-8b5d-bef394effc04\" xlink:type=\"simple\"><rect fill=\"#FFFFFF\" height=\"40\" id=\"E5\" rx=\"10\" ry=\"10\" style=\"stroke: #383838; stroke-width: 1.5;\" width=\"50\" x=\"58\" y=\"215\"/><rect fill=\"#F8F8F8\" height=\"23.9688\" rx=\"10\" ry=\"10\" style=\"stroke: #F8F8F8; stroke-width: 1.5;\" width=\"50\" x=\"58\" y=\"215\"/><rect fill=\"#F8F8F8\" height=\"10\" style=\"stroke: #F8F8F8; stroke-width: 1.5;\" width=\"50\" x=\"58\" y=\"228.9688\"/><rect fill=\"none\" height=\"40\" id=\"E5\" rx=\"10\" ry=\"10\" style=\"stroke: #383838; stroke-width: 1.5;\" width=\"50\" x=\"58\" y=\"215\"/><text fill=\"#000000\" font-family=\"sans-serif\" font-size=\"12\" lengthAdjust=\"spacingAndGlyphs\" textLength=\"8\" x=\"79\" y=\"231.1387\">g</text></a></g><!--MD5=[53445269a939f7e65cf681eab7ac81a9]\n",
       "@startuml\r\n",
       "skinparam ranksep 8\r\n",
       "skinparam rectangle {\r\n",
       " backgroundColor<<block>> LightGreen\r\n",
       "}\r\n",
       "left to right direction\r\n",
       "skinparam monochrome true\r\n",
       "skinparam classbackgroundcolor white\r\n",
       "skinparam shadowing false\r\n",
       "skinparam wrapWidth 300\r\n",
       "hide circle\r\n",
       "\r\n",
       "package \"Q\" as E1  [[psysml:2f37afb0-cd4e-4fb5-8035-2782344ffa0d ]]  {\r\n",
       "rec usage \"f\" as E2  [[psysml:808101de-d573-40e0-bd9c-1a41ac0023c1 ]] {\r\n",
       "rec usage \"a\" as E3  [[psysml:c0fa1ef5-beff-4377-a65a-0adbb28c5765 ]] {\r\n",
       "}\r\n",
       "}\r\n",
       "rec def \"C\" as E4  <<(T,blue)part def>> [[psysml:ae693b7b-cdf9-497f-b28d-123f2277c02f ]] {\r\n",
       "rec usage \"g\" as E5  [[psysml:e9e4e094-e1ef-4d59-8b5d-bef394effc04 ]] {\r\n",
       "}\r\n",
       "}\r\n",
       "}\r\n",
       "@enduml\r\n",
       "\n",
       "PlantUML version 1.2020.13(Sat Jun 13 12:26:38 UTC 2020)\n",
       "(EPL source distribution)\n",
       "Java Runtime: OpenJDK Runtime Environment\n",
       "JVM: OpenJDK 64-Bit Server VM\n",
       "Default Encoding: UTF-8\n",
       "Language: en\n",
       "Country: null\n",
       "--></g></svg>"
      ]
     },
     "execution_count": 19,
     "metadata": {},
     "output_type": "execute_result"
    }
   ],
   "source": [
    "%viz --style=\"LR\" --view=\"Interconnection\" \"Q\""
   ]
  },
  {
   "cell_type": "code",
   "execution_count": 20,
   "id": "sticky-forward",
   "metadata": {
    "execution": {
     "iopub.execute_input": "2021-03-26T12:08:01.141759Z",
     "iopub.status.busy": "2021-03-26T12:08:01.141221Z",
     "iopub.status.idle": "2021-03-26T12:08:01.145597Z",
     "shell.execute_reply": "2021-03-26T12:08:01.145978Z"
    }
   },
   "outputs": [
    {
     "data": {
      "image/svg+xml": [
       "<?xml version=\"1.0\" encoding=\"UTF-8\" standalone=\"no\"?><svg xmlns=\"http://www.w3.org/2000/svg\" xmlns:xlink=\"http://www.w3.org/1999/xlink\" contentScriptType=\"application/ecmascript\" contentStyleType=\"text/css\" height=\"12px\" preserveAspectRatio=\"none\" style=\"width:12px;height:12px;\" version=\"1.1\" viewBox=\"0 0 12 12\" width=\"12px\" zoomAndPan=\"magnify\"><defs/><g><!--MD5=[7aeb398939421629f6affaa4a1a7b125]\n",
       "@startuml\r\n",
       "skinparam ranksep 8\r\n",
       "left to right direction\r\n",
       "skinparam monochrome true\r\n",
       "skinparam classbackgroundcolor white\r\n",
       "skinparam shadowing false\r\n",
       "skinparam wrapWidth 300\r\n",
       "hide circle\r\n",
       "\r\n",
       "@enduml\r\n",
       "\n",
       "PlantUML version 1.2020.13(Sat Jun 13 12:26:38 UTC 2020)\n",
       "(EPL source distribution)\n",
       "Java Runtime: OpenJDK Runtime Environment\n",
       "JVM: OpenJDK 64-Bit Server VM\n",
       "Default Encoding: UTF-8\n",
       "Language: en\n",
       "Country: null\n",
       "--></g></svg>"
      ]
     },
     "execution_count": 20,
     "metadata": {},
     "output_type": "execute_result"
    }
   ],
   "source": [
    "%viz --style=\"LR\" --view=\"Action\" \"Q\""
   ]
  },
  {
   "cell_type": "code",
   "execution_count": 21,
   "id": "alike-joining",
   "metadata": {
    "execution": {
     "iopub.execute_input": "2021-03-26T12:08:01.197494Z",
     "iopub.status.busy": "2021-03-26T12:08:01.196755Z",
     "iopub.status.idle": "2021-03-26T12:08:01.226198Z",
     "shell.execute_reply": "2021-03-26T12:08:01.225877Z"
    }
   },
   "outputs": [
    {
     "data": {
      "image/svg+xml": [
       "<?xml version=\"1.0\" encoding=\"UTF-8\" standalone=\"no\"?><svg xmlns=\"http://www.w3.org/2000/svg\" xmlns:xlink=\"http://www.w3.org/1999/xlink\" contentScriptType=\"application/ecmascript\" contentStyleType=\"text/css\" height=\"196px\" preserveAspectRatio=\"none\" style=\"width:238px;height:196px;\" version=\"1.1\" viewBox=\"0 0 238 196\" width=\"238px\" zoomAndPan=\"magnify\"><defs/><g><!--MD5=[fbc87193dbaf4d95561dea2c320d4a47]\n",
       "cluster E1--><a href=\"psysml:2f37afb0-cd4e-4fb5-8035-2782344ffa0d\" target=\"_top\" title=\"psysml:2f37afb0-cd4e-4fb5-8035-2782344ffa0d\" xlink:actuate=\"onRequest\" xlink:href=\"psysml:2f37afb0-cd4e-4fb5-8035-2782344ffa0d\" xlink:show=\"new\" xlink:title=\"psysml:2f37afb0-cd4e-4fb5-8035-2782344ffa0d\" xlink:type=\"simple\"><polygon fill=\"#FFFFFF\" points=\"16,6,34,6,41,28.2969,216,28.2969,216,184,16,184,16,6\" style=\"stroke: #000000; stroke-width: 1.5;\"/><line style=\"stroke: #000000; stroke-width: 1.5;\" x1=\"16\" x2=\"41\" y1=\"28.2969\" y2=\"28.2969\"/><text fill=\"#000000\" font-family=\"sans-serif\" font-size=\"14\" font-weight=\"bold\" lengthAdjust=\"spacingAndGlyphs\" textLength=\"12\" x=\"20\" y=\"20.9951\">Q</text></a><!--MD5=[b4997ac47864f28c2f74865a473b2911]\n",
       "class E2--><a href=\"psysml:808101de-d573-40e0-bd9c-1a41ac0023c1\" target=\"_top\" title=\"psysml:808101de-d573-40e0-bd9c-1a41ac0023c1\" xlink:actuate=\"onRequest\" xlink:href=\"psysml:808101de-d573-40e0-bd9c-1a41ac0023c1\" xlink:show=\"new\" xlink:title=\"psysml:808101de-d573-40e0-bd9c-1a41ac0023c1\" xlink:type=\"simple\"><rect fill=\"#FFFFFF\" height=\"45.9375\" id=\"E2\" rx=\"10\" ry=\"10\" style=\"stroke: #383838; stroke-width: 1.5;\" width=\"42\" x=\"44\" y=\"41\"/><text fill=\"#000000\" font-family=\"sans-serif\" font-size=\"12\" font-style=\"italic\" lengthAdjust=\"spacingAndGlyphs\" textLength=\"40\" x=\"45\" y=\"57.1387\">«part»</text><text fill=\"#000000\" font-family=\"sans-serif\" font-size=\"12\" lengthAdjust=\"spacingAndGlyphs\" textLength=\"4\" x=\"63\" y=\"71.1074\">f</text><line style=\"stroke: #383838; stroke-width: 1.5;\" x1=\"45\" x2=\"85\" y1=\"78.9375\" y2=\"78.9375\"/></a><!--MD5=[09b614a08d8cba4a07c9adeb5e0fee81]\n",
       "class E3--><a href=\"psysml:c0fa1ef5-beff-4377-a65a-0adbb28c5765\" target=\"_top\" title=\"psysml:c0fa1ef5-beff-4377-a65a-0adbb28c5765\" xlink:actuate=\"onRequest\" xlink:href=\"psysml:c0fa1ef5-beff-4377-a65a-0adbb28c5765\" xlink:show=\"new\" xlink:title=\"psysml:c0fa1ef5-beff-4377-a65a-0adbb28c5765\" xlink:type=\"simple\"><rect fill=\"#FFFFFF\" height=\"45.9375\" id=\"E3\" rx=\"10\" ry=\"10\" style=\"stroke: #383838; stroke-width: 1.5;\" width=\"42\" x=\"158\" y=\"41\"/><text fill=\"#000000\" font-family=\"sans-serif\" font-size=\"12\" font-style=\"italic\" lengthAdjust=\"spacingAndGlyphs\" textLength=\"40\" x=\"159\" y=\"57.1387\">«part»</text><text fill=\"#000000\" font-family=\"sans-serif\" font-size=\"12\" lengthAdjust=\"spacingAndGlyphs\" textLength=\"8\" x=\"175\" y=\"71.1074\">a</text><line style=\"stroke: #383838; stroke-width: 1.5;\" x1=\"159\" x2=\"199\" y1=\"78.9375\" y2=\"78.9375\"/></a><!--MD5=[ebbe1d658d1005bcc118a6aa81145e00]\n",
       "class E4--><a href=\"psysml:ae693b7b-cdf9-497f-b28d-123f2277c02f\" target=\"_top\" title=\"psysml:ae693b7b-cdf9-497f-b28d-123f2277c02f\" xlink:actuate=\"onRequest\" xlink:href=\"psysml:ae693b7b-cdf9-497f-b28d-123f2277c02f\" xlink:show=\"new\" xlink:title=\"psysml:ae693b7b-cdf9-497f-b28d-123f2277c02f\" xlink:type=\"simple\"><rect fill=\"#FFFFFF\" height=\"45.9375\" id=\"E4\" style=\"stroke: #383838; stroke-width: 1.5;\" width=\"66\" x=\"32\" y=\"122\"/><text fill=\"#000000\" font-family=\"sans-serif\" font-size=\"12\" font-style=\"italic\" lengthAdjust=\"spacingAndGlyphs\" textLength=\"64\" x=\"33\" y=\"138.1387\">«part def»</text><text fill=\"#000000\" font-family=\"sans-serif\" font-size=\"12\" lengthAdjust=\"spacingAndGlyphs\" textLength=\"8\" x=\"61\" y=\"152.1074\">C</text><line style=\"stroke: #383838; stroke-width: 1.5;\" x1=\"33\" x2=\"97\" y1=\"159.9375\" y2=\"159.9375\"/></a><!--MD5=[270fce915f116d4de14055a7c1d9a0f3]\n",
       "class E5--><a href=\"psysml:e9e4e094-e1ef-4d59-8b5d-bef394effc04\" target=\"_top\" title=\"psysml:e9e4e094-e1ef-4d59-8b5d-bef394effc04\" xlink:actuate=\"onRequest\" xlink:href=\"psysml:e9e4e094-e1ef-4d59-8b5d-bef394effc04\" xlink:show=\"new\" xlink:title=\"psysml:e9e4e094-e1ef-4d59-8b5d-bef394effc04\" xlink:type=\"simple\"><rect fill=\"#FFFFFF\" height=\"45.9375\" id=\"E5\" rx=\"10\" ry=\"10\" style=\"stroke: #383838; stroke-width: 1.5;\" width=\"42\" x=\"158\" y=\"122\"/><text fill=\"#000000\" font-family=\"sans-serif\" font-size=\"12\" font-style=\"italic\" lengthAdjust=\"spacingAndGlyphs\" textLength=\"40\" x=\"159\" y=\"138.1387\">«part»</text><text fill=\"#000000\" font-family=\"sans-serif\" font-size=\"12\" lengthAdjust=\"spacingAndGlyphs\" textLength=\"8\" x=\"175\" y=\"152.1074\">g</text><line style=\"stroke: #383838; stroke-width: 1.5;\" x1=\"159\" x2=\"199\" y1=\"159.9375\" y2=\"159.9375\"/></a><!--MD5=[209b3feb70ccb6233bfe1053d122c12c]\n",
       "reverse link E2 to E3--><a href=\"psysml:c0fa1ef5-beff-4377-a65a-0adbb28c5765\" target=\"_top\" title=\"psysml:c0fa1ef5-beff-4377-a65a-0adbb28c5765\" xlink:actuate=\"onRequest\" xlink:href=\"psysml:c0fa1ef5-beff-4377-a65a-0adbb28c5765\" xlink:show=\"new\" xlink:title=\"psysml:c0fa1ef5-beff-4377-a65a-0adbb28c5765\" xlink:type=\"simple\"><path d=\"M99.26,64 C118.27,64 141.49,64 157.77,64 \" fill=\"none\" id=\"E2&lt;-E3\" style=\"stroke: #383838; stroke-width: 1.0;\"/><polygon fill=\"#383838\" points=\"86.02,64,92.02,68,98.02,64,92.02,60,86.02,64\" style=\"stroke: #383838; stroke-width: 1.0;\"/></a><!--MD5=[62aa6af11e70f752912c1cb0466f24f7]\n",
       "reverse link E4 to E5--><a href=\"psysml:e9e4e094-e1ef-4d59-8b5d-bef394effc04\" target=\"_top\" title=\"psysml:e9e4e094-e1ef-4d59-8b5d-bef394effc04\" xlink:actuate=\"onRequest\" xlink:href=\"psysml:e9e4e094-e1ef-4d59-8b5d-bef394effc04\" xlink:show=\"new\" xlink:title=\"psysml:e9e4e094-e1ef-4d59-8b5d-bef394effc04\" xlink:type=\"simple\"><path d=\"M111.28,145 C127.47,145 144.9,145 157.89,145 \" fill=\"none\" id=\"E4&lt;-E5\" style=\"stroke: #383838; stroke-width: 1.0;\"/><polygon fill=\"#383838\" points=\"98.09,145,104.09,149,110.09,145,104.09,141,98.09,145\" style=\"stroke: #383838; stroke-width: 1.0;\"/></a><!--MD5=[2c39714e7bd06e31dcc632e46b9d2787]\n",
       "@startuml\r\n",
       "left to right direction\r\n",
       "skinparam monochrome true\r\n",
       "skinparam classbackgroundcolor white\r\n",
       "skinparam shadowing false\r\n",
       "skinparam wrapWidth 300\r\n",
       "hide circle\r\n",
       "\r\n",
       "package \"Q\" as E1  [[psysml:2f37afb0-cd4e-4fb5-8035-2782344ffa0d ]]  {\r\n",
       "comp usage \"f\" as E2  <<(T,blue)part>> [[psysml:808101de-d573-40e0-bd9c-1a41ac0023c1 ]] {\r\n",
       "}\r\n",
       "comp usage \"a\" as E3  <<(T,blue)part>> [[psysml:c0fa1ef5-beff-4377-a65a-0adbb28c5765 ]] {\r\n",
       "}\r\n",
       "comp def \"C\" as E4  <<(T,blue)part def>> [[psysml:ae693b7b-cdf9-497f-b28d-123f2277c02f ]] {\r\n",
       "}\r\n",
       "comp usage \"g\" as E5  <<(T,blue)part>> [[psysml:e9e4e094-e1ef-4d59-8b5d-bef394effc04 ]] {\r\n",
       "}\r\n",
       "E2 *- - E3 [[psysml:c0fa1ef5-beff-4377-a65a-0adbb28c5765 ]] \r\n",
       "E4 *- - E5 [[psysml:e9e4e094-e1ef-4d59-8b5d-bef394effc04 ]] \r\n",
       "}\r\n",
       "@enduml\r\n",
       "\n",
       "PlantUML version 1.2020.13(Sat Jun 13 12:26:38 UTC 2020)\n",
       "(EPL source distribution)\n",
       "Java Runtime: OpenJDK Runtime Environment\n",
       "JVM: OpenJDK 64-Bit Server VM\n",
       "Default Encoding: UTF-8\n",
       "Language: en\n",
       "Country: null\n",
       "--></g></svg>"
      ]
     },
     "execution_count": 21,
     "metadata": {},
     "output_type": "execute_result"
    }
   ],
   "source": [
    "%viz --style=\"LR\" --view=\"Sequence\" \"Q\""
   ]
  },
  {
   "cell_type": "code",
   "execution_count": 22,
   "id": "ethical-czech",
   "metadata": {
    "execution": {
     "iopub.execute_input": "2021-03-26T12:08:01.276406Z",
     "iopub.status.busy": "2021-03-26T12:08:01.276052Z",
     "iopub.status.idle": "2021-03-26T12:08:01.303576Z",
     "shell.execute_reply": "2021-03-26T12:08:01.302671Z"
    }
   },
   "outputs": [
    {
     "data": {
      "image/svg+xml": [
       "<?xml version=\"1.0\" encoding=\"UTF-8\" standalone=\"no\"?><svg xmlns=\"http://www.w3.org/2000/svg\" xmlns:xlink=\"http://www.w3.org/1999/xlink\" contentScriptType=\"application/ecmascript\" contentStyleType=\"text/css\" height=\"196px\" preserveAspectRatio=\"none\" style=\"width:238px;height:196px;\" version=\"1.1\" viewBox=\"0 0 238 196\" width=\"238px\" zoomAndPan=\"magnify\"><defs/><g><!--MD5=[fbc87193dbaf4d95561dea2c320d4a47]\n",
       "cluster E1--><a href=\"psysml:2f37afb0-cd4e-4fb5-8035-2782344ffa0d\" target=\"_top\" title=\"psysml:2f37afb0-cd4e-4fb5-8035-2782344ffa0d\" xlink:actuate=\"onRequest\" xlink:href=\"psysml:2f37afb0-cd4e-4fb5-8035-2782344ffa0d\" xlink:show=\"new\" xlink:title=\"psysml:2f37afb0-cd4e-4fb5-8035-2782344ffa0d\" xlink:type=\"simple\"><polygon fill=\"#FFFFFF\" points=\"16,6,34,6,41,28.2969,216,28.2969,216,184,16,184,16,6\" style=\"stroke: #000000; stroke-width: 1.5;\"/><line style=\"stroke: #000000; stroke-width: 1.5;\" x1=\"16\" x2=\"41\" y1=\"28.2969\" y2=\"28.2969\"/><text fill=\"#000000\" font-family=\"sans-serif\" font-size=\"14\" font-weight=\"bold\" lengthAdjust=\"spacingAndGlyphs\" textLength=\"12\" x=\"20\" y=\"20.9951\">Q</text></a><!--MD5=[b4997ac47864f28c2f74865a473b2911]\n",
       "class E2--><a href=\"psysml:808101de-d573-40e0-bd9c-1a41ac0023c1\" target=\"_top\" title=\"psysml:808101de-d573-40e0-bd9c-1a41ac0023c1\" xlink:actuate=\"onRequest\" xlink:href=\"psysml:808101de-d573-40e0-bd9c-1a41ac0023c1\" xlink:show=\"new\" xlink:title=\"psysml:808101de-d573-40e0-bd9c-1a41ac0023c1\" xlink:type=\"simple\"><rect fill=\"#FFFFFF\" height=\"45.9375\" id=\"E2\" rx=\"10\" ry=\"10\" style=\"stroke: #383838; stroke-width: 1.5;\" width=\"42\" x=\"44\" y=\"41\"/><text fill=\"#000000\" font-family=\"sans-serif\" font-size=\"12\" font-style=\"italic\" lengthAdjust=\"spacingAndGlyphs\" textLength=\"40\" x=\"45\" y=\"57.1387\">«part»</text><text fill=\"#000000\" font-family=\"sans-serif\" font-size=\"12\" lengthAdjust=\"spacingAndGlyphs\" textLength=\"4\" x=\"63\" y=\"71.1074\">f</text><line style=\"stroke: #383838; stroke-width: 1.5;\" x1=\"45\" x2=\"85\" y1=\"78.9375\" y2=\"78.9375\"/></a><!--MD5=[09b614a08d8cba4a07c9adeb5e0fee81]\n",
       "class E3--><a href=\"psysml:c0fa1ef5-beff-4377-a65a-0adbb28c5765\" target=\"_top\" title=\"psysml:c0fa1ef5-beff-4377-a65a-0adbb28c5765\" xlink:actuate=\"onRequest\" xlink:href=\"psysml:c0fa1ef5-beff-4377-a65a-0adbb28c5765\" xlink:show=\"new\" xlink:title=\"psysml:c0fa1ef5-beff-4377-a65a-0adbb28c5765\" xlink:type=\"simple\"><rect fill=\"#FFFFFF\" height=\"45.9375\" id=\"E3\" rx=\"10\" ry=\"10\" style=\"stroke: #383838; stroke-width: 1.5;\" width=\"42\" x=\"158\" y=\"41\"/><text fill=\"#000000\" font-family=\"sans-serif\" font-size=\"12\" font-style=\"italic\" lengthAdjust=\"spacingAndGlyphs\" textLength=\"40\" x=\"159\" y=\"57.1387\">«part»</text><text fill=\"#000000\" font-family=\"sans-serif\" font-size=\"12\" lengthAdjust=\"spacingAndGlyphs\" textLength=\"8\" x=\"175\" y=\"71.1074\">a</text><line style=\"stroke: #383838; stroke-width: 1.5;\" x1=\"159\" x2=\"199\" y1=\"78.9375\" y2=\"78.9375\"/></a><!--MD5=[ebbe1d658d1005bcc118a6aa81145e00]\n",
       "class E4--><a href=\"psysml:ae693b7b-cdf9-497f-b28d-123f2277c02f\" target=\"_top\" title=\"psysml:ae693b7b-cdf9-497f-b28d-123f2277c02f\" xlink:actuate=\"onRequest\" xlink:href=\"psysml:ae693b7b-cdf9-497f-b28d-123f2277c02f\" xlink:show=\"new\" xlink:title=\"psysml:ae693b7b-cdf9-497f-b28d-123f2277c02f\" xlink:type=\"simple\"><rect fill=\"#FFFFFF\" height=\"45.9375\" id=\"E4\" style=\"stroke: #383838; stroke-width: 1.5;\" width=\"66\" x=\"32\" y=\"122\"/><text fill=\"#000000\" font-family=\"sans-serif\" font-size=\"12\" font-style=\"italic\" lengthAdjust=\"spacingAndGlyphs\" textLength=\"64\" x=\"33\" y=\"138.1387\">«part def»</text><text fill=\"#000000\" font-family=\"sans-serif\" font-size=\"12\" lengthAdjust=\"spacingAndGlyphs\" textLength=\"8\" x=\"61\" y=\"152.1074\">C</text><line style=\"stroke: #383838; stroke-width: 1.5;\" x1=\"33\" x2=\"97\" y1=\"159.9375\" y2=\"159.9375\"/></a><!--MD5=[270fce915f116d4de14055a7c1d9a0f3]\n",
       "class E5--><a href=\"psysml:e9e4e094-e1ef-4d59-8b5d-bef394effc04\" target=\"_top\" title=\"psysml:e9e4e094-e1ef-4d59-8b5d-bef394effc04\" xlink:actuate=\"onRequest\" xlink:href=\"psysml:e9e4e094-e1ef-4d59-8b5d-bef394effc04\" xlink:show=\"new\" xlink:title=\"psysml:e9e4e094-e1ef-4d59-8b5d-bef394effc04\" xlink:type=\"simple\"><rect fill=\"#FFFFFF\" height=\"45.9375\" id=\"E5\" rx=\"10\" ry=\"10\" style=\"stroke: #383838; stroke-width: 1.5;\" width=\"42\" x=\"158\" y=\"122\"/><text fill=\"#000000\" font-family=\"sans-serif\" font-size=\"12\" font-style=\"italic\" lengthAdjust=\"spacingAndGlyphs\" textLength=\"40\" x=\"159\" y=\"138.1387\">«part»</text><text fill=\"#000000\" font-family=\"sans-serif\" font-size=\"12\" lengthAdjust=\"spacingAndGlyphs\" textLength=\"8\" x=\"175\" y=\"152.1074\">g</text><line style=\"stroke: #383838; stroke-width: 1.5;\" x1=\"159\" x2=\"199\" y1=\"159.9375\" y2=\"159.9375\"/></a><!--MD5=[209b3feb70ccb6233bfe1053d122c12c]\n",
       "reverse link E2 to E3--><a href=\"psysml:c0fa1ef5-beff-4377-a65a-0adbb28c5765\" target=\"_top\" title=\"psysml:c0fa1ef5-beff-4377-a65a-0adbb28c5765\" xlink:actuate=\"onRequest\" xlink:href=\"psysml:c0fa1ef5-beff-4377-a65a-0adbb28c5765\" xlink:show=\"new\" xlink:title=\"psysml:c0fa1ef5-beff-4377-a65a-0adbb28c5765\" xlink:type=\"simple\"><path d=\"M99.26,64 C118.27,64 141.49,64 157.77,64 \" fill=\"none\" id=\"E2&lt;-E3\" style=\"stroke: #383838; stroke-width: 1.0;\"/><polygon fill=\"#383838\" points=\"86.02,64,92.02,68,98.02,64,92.02,60,86.02,64\" style=\"stroke: #383838; stroke-width: 1.0;\"/></a><!--MD5=[62aa6af11e70f752912c1cb0466f24f7]\n",
       "reverse link E4 to E5--><a href=\"psysml:e9e4e094-e1ef-4d59-8b5d-bef394effc04\" target=\"_top\" title=\"psysml:e9e4e094-e1ef-4d59-8b5d-bef394effc04\" xlink:actuate=\"onRequest\" xlink:href=\"psysml:e9e4e094-e1ef-4d59-8b5d-bef394effc04\" xlink:show=\"new\" xlink:title=\"psysml:e9e4e094-e1ef-4d59-8b5d-bef394effc04\" xlink:type=\"simple\"><path d=\"M111.28,145 C127.47,145 144.9,145 157.89,145 \" fill=\"none\" id=\"E4&lt;-E5\" style=\"stroke: #383838; stroke-width: 1.0;\"/><polygon fill=\"#383838\" points=\"98.09,145,104.09,149,110.09,145,104.09,141,98.09,145\" style=\"stroke: #383838; stroke-width: 1.0;\"/></a><!--MD5=[2c39714e7bd06e31dcc632e46b9d2787]\n",
       "@startuml\r\n",
       "left to right direction\r\n",
       "skinparam monochrome true\r\n",
       "skinparam classbackgroundcolor white\r\n",
       "skinparam shadowing false\r\n",
       "skinparam wrapWidth 300\r\n",
       "hide circle\r\n",
       "\r\n",
       "package \"Q\" as E1  [[psysml:2f37afb0-cd4e-4fb5-8035-2782344ffa0d ]]  {\r\n",
       "comp usage \"f\" as E2  <<(T,blue)part>> [[psysml:808101de-d573-40e0-bd9c-1a41ac0023c1 ]] {\r\n",
       "}\r\n",
       "comp usage \"a\" as E3  <<(T,blue)part>> [[psysml:c0fa1ef5-beff-4377-a65a-0adbb28c5765 ]] {\r\n",
       "}\r\n",
       "comp def \"C\" as E4  <<(T,blue)part def>> [[psysml:ae693b7b-cdf9-497f-b28d-123f2277c02f ]] {\r\n",
       "}\r\n",
       "comp usage \"g\" as E5  <<(T,blue)part>> [[psysml:e9e4e094-e1ef-4d59-8b5d-bef394effc04 ]] {\r\n",
       "}\r\n",
       "E2 *- - E3 [[psysml:c0fa1ef5-beff-4377-a65a-0adbb28c5765 ]] \r\n",
       "E4 *- - E5 [[psysml:e9e4e094-e1ef-4d59-8b5d-bef394effc04 ]] \r\n",
       "}\r\n",
       "@enduml\r\n",
       "\n",
       "PlantUML version 1.2020.13(Sat Jun 13 12:26:38 UTC 2020)\n",
       "(EPL source distribution)\n",
       "Java Runtime: OpenJDK Runtime Environment\n",
       "JVM: OpenJDK 64-Bit Server VM\n",
       "Default Encoding: UTF-8\n",
       "Language: en\n",
       "Country: null\n",
       "--></g></svg>"
      ]
     },
     "execution_count": 22,
     "metadata": {},
     "output_type": "execute_result"
    }
   ],
   "source": [
    "%viz --style=\"LR\" --view=\"MIXED\" \"Q\""
   ]
  },
  {
   "cell_type": "code",
   "execution_count": 23,
   "id": "developed-david",
   "metadata": {
    "execution": {
     "iopub.execute_input": "2021-03-26T12:08:01.365282Z",
     "iopub.status.busy": "2021-03-26T12:08:01.364716Z",
     "iopub.status.idle": "2021-03-26T12:08:01.393222Z",
     "shell.execute_reply": "2021-03-26T12:08:01.391639Z"
    }
   },
   "outputs": [
    {
     "data": {
      "image/svg+xml": [
       "<?xml version=\"1.0\" encoding=\"UTF-8\" standalone=\"no\"?><svg xmlns=\"http://www.w3.org/2000/svg\" xmlns:xlink=\"http://www.w3.org/1999/xlink\" contentScriptType=\"application/ecmascript\" contentStyleType=\"text/css\" height=\"221px\" preserveAspectRatio=\"none\" style=\"width:213px;height:221px;\" version=\"1.1\" viewBox=\"0 0 213 221\" width=\"213px\" zoomAndPan=\"magnify\"><defs><filter height=\"300%\" id=\"ftx5a9czu3bul\" width=\"300%\" x=\"-1\" y=\"-1\"><feGaussianBlur result=\"blurOut\" stdDeviation=\"2.0\"/><feColorMatrix in=\"blurOut\" result=\"blurOut2\" type=\"matrix\" values=\"0 0 0 0 0 0 0 0 0 0 0 0 0 0 0 0 0 0 .4 0\"/><feOffset dx=\"4.0\" dy=\"4.0\" in=\"blurOut2\" result=\"blurOut3\"/><feBlend in=\"SourceGraphic\" in2=\"blurOut3\" mode=\"normal\"/></filter></defs><g><!--MD5=[fbc87193dbaf4d95561dea2c320d4a47]\n",
       "cluster E1--><a href=\"psysml:2f37afb0-cd4e-4fb5-8035-2782344ffa0d\" target=\"_top\" title=\"psysml:2f37afb0-cd4e-4fb5-8035-2782344ffa0d\" xlink:actuate=\"onRequest\" xlink:href=\"psysml:2f37afb0-cd4e-4fb5-8035-2782344ffa0d\" xlink:show=\"new\" xlink:title=\"psysml:2f37afb0-cd4e-4fb5-8035-2782344ffa0d\" xlink:type=\"simple\"><polygon fill=\"#FFFFFF\" filter=\"url(#ftx5a9czu3bul)\" points=\"16,6,34,6,41,28.2969,191,28.2969,191,209,16,209,16,6\" style=\"stroke: #000000; stroke-width: 1.5;\"/><line style=\"stroke: #000000; stroke-width: 1.5;\" x1=\"16\" x2=\"41\" y1=\"28.2969\" y2=\"28.2969\"/><text fill=\"#000000\" font-family=\"sans-serif\" font-size=\"14\" font-weight=\"bold\" lengthAdjust=\"spacingAndGlyphs\" textLength=\"12\" x=\"20\" y=\"20.9951\">Q</text></a><!--MD5=[b4997ac47864f28c2f74865a473b2911]\n",
       "class E2--><a href=\"psysml:808101de-d573-40e0-bd9c-1a41ac0023c1\" target=\"_top\" title=\"psysml:808101de-d573-40e0-bd9c-1a41ac0023c1\" xlink:actuate=\"onRequest\" xlink:href=\"psysml:808101de-d573-40e0-bd9c-1a41ac0023c1\" xlink:show=\"new\" xlink:title=\"psysml:808101de-d573-40e0-bd9c-1a41ac0023c1\" xlink:type=\"simple\"><rect fill=\"#FEFECE\" filter=\"url(#ftx5a9czu3bul)\" height=\"45.9375\" id=\"E2\" rx=\"10\" ry=\"10\" style=\"stroke: #A80036; stroke-width: 1.5;\" width=\"42\" x=\"133\" y=\"41\"/><text fill=\"#000000\" font-family=\"sans-serif\" font-size=\"12\" font-style=\"italic\" lengthAdjust=\"spacingAndGlyphs\" textLength=\"40\" x=\"134\" y=\"57.1387\">«part»</text><text fill=\"#000000\" font-family=\"sans-serif\" font-size=\"12\" lengthAdjust=\"spacingAndGlyphs\" textLength=\"4\" x=\"152\" y=\"71.1074\">f</text><line style=\"stroke: #A80036; stroke-width: 1.5;\" x1=\"134\" x2=\"174\" y1=\"78.9375\" y2=\"78.9375\"/></a><!--MD5=[09b614a08d8cba4a07c9adeb5e0fee81]\n",
       "class E3--><a href=\"psysml:c0fa1ef5-beff-4377-a65a-0adbb28c5765\" target=\"_top\" title=\"psysml:c0fa1ef5-beff-4377-a65a-0adbb28c5765\" xlink:actuate=\"onRequest\" xlink:href=\"psysml:c0fa1ef5-beff-4377-a65a-0adbb28c5765\" xlink:show=\"new\" xlink:title=\"psysml:c0fa1ef5-beff-4377-a65a-0adbb28c5765\" xlink:type=\"simple\"><rect fill=\"#FEFECE\" filter=\"url(#ftx5a9czu3bul)\" height=\"45.9375\" id=\"E3\" rx=\"10\" ry=\"10\" style=\"stroke: #A80036; stroke-width: 1.5;\" width=\"42\" x=\"133\" y=\"147\"/><text fill=\"#000000\" font-family=\"sans-serif\" font-size=\"12\" font-style=\"italic\" lengthAdjust=\"spacingAndGlyphs\" textLength=\"40\" x=\"134\" y=\"163.1387\">«part»</text><text fill=\"#000000\" font-family=\"sans-serif\" font-size=\"12\" lengthAdjust=\"spacingAndGlyphs\" textLength=\"8\" x=\"150\" y=\"177.1074\">a</text><line style=\"stroke: #A80036; stroke-width: 1.5;\" x1=\"134\" x2=\"174\" y1=\"184.9375\" y2=\"184.9375\"/></a><!--MD5=[ebbe1d658d1005bcc118a6aa81145e00]\n",
       "class E4--><a href=\"psysml:ae693b7b-cdf9-497f-b28d-123f2277c02f\" target=\"_top\" title=\"psysml:ae693b7b-cdf9-497f-b28d-123f2277c02f\" xlink:actuate=\"onRequest\" xlink:href=\"psysml:ae693b7b-cdf9-497f-b28d-123f2277c02f\" xlink:show=\"new\" xlink:title=\"psysml:ae693b7b-cdf9-497f-b28d-123f2277c02f\" xlink:type=\"simple\"><rect fill=\"#FEFECE\" filter=\"url(#ftx5a9czu3bul)\" height=\"45.9375\" id=\"E4\" style=\"stroke: #A80036; stroke-width: 1.5;\" width=\"66\" x=\"32\" y=\"41\"/><text fill=\"#000000\" font-family=\"sans-serif\" font-size=\"12\" font-style=\"italic\" lengthAdjust=\"spacingAndGlyphs\" textLength=\"64\" x=\"33\" y=\"57.1387\">«part def»</text><text fill=\"#000000\" font-family=\"sans-serif\" font-size=\"12\" lengthAdjust=\"spacingAndGlyphs\" textLength=\"8\" x=\"61\" y=\"71.1074\">C</text><line style=\"stroke: #A80036; stroke-width: 1.5;\" x1=\"33\" x2=\"97\" y1=\"78.9375\" y2=\"78.9375\"/></a><!--MD5=[270fce915f116d4de14055a7c1d9a0f3]\n",
       "class E5--><a href=\"psysml:e9e4e094-e1ef-4d59-8b5d-bef394effc04\" target=\"_top\" title=\"psysml:e9e4e094-e1ef-4d59-8b5d-bef394effc04\" xlink:actuate=\"onRequest\" xlink:href=\"psysml:e9e4e094-e1ef-4d59-8b5d-bef394effc04\" xlink:show=\"new\" xlink:title=\"psysml:e9e4e094-e1ef-4d59-8b5d-bef394effc04\" xlink:type=\"simple\"><rect fill=\"#FEFECE\" filter=\"url(#ftx5a9czu3bul)\" height=\"45.9375\" id=\"E5\" rx=\"10\" ry=\"10\" style=\"stroke: #A80036; stroke-width: 1.5;\" width=\"42\" x=\"44\" y=\"147\"/><text fill=\"#000000\" font-family=\"sans-serif\" font-size=\"12\" font-style=\"italic\" lengthAdjust=\"spacingAndGlyphs\" textLength=\"40\" x=\"45\" y=\"163.1387\">«part»</text><text fill=\"#000000\" font-family=\"sans-serif\" font-size=\"12\" lengthAdjust=\"spacingAndGlyphs\" textLength=\"8\" x=\"61\" y=\"177.1074\">g</text><line style=\"stroke: #A80036; stroke-width: 1.5;\" x1=\"45\" x2=\"85\" y1=\"184.9375\" y2=\"184.9375\"/></a><!--MD5=[209b3feb70ccb6233bfe1053d122c12c]\n",
       "reverse link E2 to E3--><a href=\"psysml:c0fa1ef5-beff-4377-a65a-0adbb28c5765\" target=\"_top\" title=\"psysml:c0fa1ef5-beff-4377-a65a-0adbb28c5765\" xlink:actuate=\"onRequest\" xlink:href=\"psysml:c0fa1ef5-beff-4377-a65a-0adbb28c5765\" xlink:show=\"new\" xlink:title=\"psysml:c0fa1ef5-beff-4377-a65a-0adbb28c5765\" xlink:type=\"simple\"><path d=\"M154,100.44 C154,115.87 154,133.47 154,146.98 \" fill=\"none\" id=\"E2&lt;-E3\" style=\"stroke: #A80036; stroke-width: 1.0;\"/><polygon fill=\"#A80036\" points=\"154,87.06,150,93.06,154,99.06,158,93.06,154,87.06\" style=\"stroke: #A80036; stroke-width: 1.0;\"/></a><!--MD5=[62aa6af11e70f752912c1cb0466f24f7]\n",
       "reverse link E4 to E5--><a href=\"psysml:e9e4e094-e1ef-4d59-8b5d-bef394effc04\" target=\"_top\" title=\"psysml:e9e4e094-e1ef-4d59-8b5d-bef394effc04\" xlink:actuate=\"onRequest\" xlink:href=\"psysml:e9e4e094-e1ef-4d59-8b5d-bef394effc04\" xlink:show=\"new\" xlink:title=\"psysml:e9e4e094-e1ef-4d59-8b5d-bef394effc04\" xlink:type=\"simple\"><path d=\"M65,100.44 C65,115.87 65,133.47 65,146.98 \" fill=\"none\" id=\"E4&lt;-E5\" style=\"stroke: #A80036; stroke-width: 1.0;\"/><polygon fill=\"#A80036\" points=\"65,87.06,61,93.06,65,99.06,69,93.06,65,87.06\" style=\"stroke: #A80036; stroke-width: 1.0;\"/></a><!--MD5=[2c02149aac63a612920d7df5978967ba]\n",
       "@startuml\r\n",
       "skinparam wrapWidth 300\r\n",
       "hide circle\r\n",
       "\r\n",
       "package \"Q\" as E1  [[psysml:2f37afb0-cd4e-4fb5-8035-2782344ffa0d ]]  {\r\n",
       "comp usage \"f\" as E2  <<(T,blue)part>> [[psysml:808101de-d573-40e0-bd9c-1a41ac0023c1 ]] {\r\n",
       "}\r\n",
       "comp usage \"a\" as E3  <<(T,blue)part>> [[psysml:c0fa1ef5-beff-4377-a65a-0adbb28c5765 ]] {\r\n",
       "}\r\n",
       "comp def \"C\" as E4  <<(T,blue)part def>> [[psysml:ae693b7b-cdf9-497f-b28d-123f2277c02f ]] {\r\n",
       "}\r\n",
       "comp usage \"g\" as E5  <<(T,blue)part>> [[psysml:e9e4e094-e1ef-4d59-8b5d-bef394effc04 ]] {\r\n",
       "}\r\n",
       "E2 *- - E3 [[psysml:c0fa1ef5-beff-4377-a65a-0adbb28c5765 ]] \r\n",
       "E4 *- - E5 [[psysml:e9e4e094-e1ef-4d59-8b5d-bef394effc04 ]] \r\n",
       "}\r\n",
       "@enduml\r\n",
       "\n",
       "PlantUML version 1.2020.13(Sat Jun 13 12:26:38 UTC 2020)\n",
       "(EPL source distribution)\n",
       "Java Runtime: OpenJDK Runtime Environment\n",
       "JVM: OpenJDK 64-Bit Server VM\n",
       "Default Encoding: UTF-8\n",
       "Language: en\n",
       "Country: null\n",
       "--></g></svg>"
      ]
     },
     "execution_count": 23,
     "metadata": {},
     "output_type": "execute_result"
    }
   ],
   "source": [
    "%viz --style=\"STDCOLOR\" --view=\"Default\" \"Q\""
   ]
  },
  {
   "cell_type": "code",
   "execution_count": 24,
   "id": "spectacular-lightweight",
   "metadata": {
    "execution": {
     "iopub.execute_input": "2021-03-26T12:08:01.447738Z",
     "iopub.status.busy": "2021-03-26T12:08:01.446967Z",
     "iopub.status.idle": "2021-03-26T12:08:01.477879Z",
     "shell.execute_reply": "2021-03-26T12:08:01.476526Z"
    }
   },
   "outputs": [
    {
     "data": {
      "image/svg+xml": [
       "<?xml version=\"1.0\" encoding=\"UTF-8\" standalone=\"no\"?><svg xmlns=\"http://www.w3.org/2000/svg\" xmlns:xlink=\"http://www.w3.org/1999/xlink\" contentScriptType=\"application/ecmascript\" contentStyleType=\"text/css\" height=\"221px\" preserveAspectRatio=\"none\" style=\"width:213px;height:221px;\" version=\"1.1\" viewBox=\"0 0 213 221\" width=\"213px\" zoomAndPan=\"magnify\"><defs><filter height=\"300%\" id=\"ftx5a9czu3bul\" width=\"300%\" x=\"-1\" y=\"-1\"><feGaussianBlur result=\"blurOut\" stdDeviation=\"2.0\"/><feColorMatrix in=\"blurOut\" result=\"blurOut2\" type=\"matrix\" values=\"0 0 0 0 0 0 0 0 0 0 0 0 0 0 0 0 0 0 .4 0\"/><feOffset dx=\"4.0\" dy=\"4.0\" in=\"blurOut2\" result=\"blurOut3\"/><feBlend in=\"SourceGraphic\" in2=\"blurOut3\" mode=\"normal\"/></filter></defs><g><!--MD5=[fbc87193dbaf4d95561dea2c320d4a47]\n",
       "cluster E1--><a href=\"psysml:2f37afb0-cd4e-4fb5-8035-2782344ffa0d\" target=\"_top\" title=\"psysml:2f37afb0-cd4e-4fb5-8035-2782344ffa0d\" xlink:actuate=\"onRequest\" xlink:href=\"psysml:2f37afb0-cd4e-4fb5-8035-2782344ffa0d\" xlink:show=\"new\" xlink:title=\"psysml:2f37afb0-cd4e-4fb5-8035-2782344ffa0d\" xlink:type=\"simple\"><polygon fill=\"#FFFFFF\" filter=\"url(#ftx5a9czu3bul)\" points=\"16,6,34,6,41,28.2969,191,28.2969,191,209,16,209,16,6\" style=\"stroke: #000000; stroke-width: 1.5;\"/><line style=\"stroke: #000000; stroke-width: 1.5;\" x1=\"16\" x2=\"41\" y1=\"28.2969\" y2=\"28.2969\"/><text fill=\"#000000\" font-family=\"sans-serif\" font-size=\"14\" font-weight=\"bold\" lengthAdjust=\"spacingAndGlyphs\" textLength=\"12\" x=\"20\" y=\"20.9951\">Q</text></a><!--MD5=[b4997ac47864f28c2f74865a473b2911]\n",
       "class E2--><a href=\"psysml:808101de-d573-40e0-bd9c-1a41ac0023c1\" target=\"_top\" title=\"psysml:808101de-d573-40e0-bd9c-1a41ac0023c1\" xlink:actuate=\"onRequest\" xlink:href=\"psysml:808101de-d573-40e0-bd9c-1a41ac0023c1\" xlink:show=\"new\" xlink:title=\"psysml:808101de-d573-40e0-bd9c-1a41ac0023c1\" xlink:type=\"simple\"><rect fill=\"#FEFECE\" filter=\"url(#ftx5a9czu3bul)\" height=\"45.9375\" id=\"E2\" rx=\"10\" ry=\"10\" style=\"stroke: #A80036; stroke-width: 1.5;\" width=\"42\" x=\"133\" y=\"41\"/><text fill=\"#000000\" font-family=\"sans-serif\" font-size=\"12\" font-style=\"italic\" lengthAdjust=\"spacingAndGlyphs\" textLength=\"40\" x=\"134\" y=\"57.1387\">«part»</text><text fill=\"#000000\" font-family=\"sans-serif\" font-size=\"12\" lengthAdjust=\"spacingAndGlyphs\" textLength=\"4\" x=\"152\" y=\"71.1074\">f</text><line style=\"stroke: #A80036; stroke-width: 1.5;\" x1=\"134\" x2=\"174\" y1=\"78.9375\" y2=\"78.9375\"/></a><!--MD5=[09b614a08d8cba4a07c9adeb5e0fee81]\n",
       "class E3--><a href=\"psysml:c0fa1ef5-beff-4377-a65a-0adbb28c5765\" target=\"_top\" title=\"psysml:c0fa1ef5-beff-4377-a65a-0adbb28c5765\" xlink:actuate=\"onRequest\" xlink:href=\"psysml:c0fa1ef5-beff-4377-a65a-0adbb28c5765\" xlink:show=\"new\" xlink:title=\"psysml:c0fa1ef5-beff-4377-a65a-0adbb28c5765\" xlink:type=\"simple\"><rect fill=\"#FEFECE\" filter=\"url(#ftx5a9czu3bul)\" height=\"45.9375\" id=\"E3\" rx=\"10\" ry=\"10\" style=\"stroke: #A80036; stroke-width: 1.5;\" width=\"42\" x=\"133\" y=\"147\"/><text fill=\"#000000\" font-family=\"sans-serif\" font-size=\"12\" font-style=\"italic\" lengthAdjust=\"spacingAndGlyphs\" textLength=\"40\" x=\"134\" y=\"163.1387\">«part»</text><text fill=\"#000000\" font-family=\"sans-serif\" font-size=\"12\" lengthAdjust=\"spacingAndGlyphs\" textLength=\"8\" x=\"150\" y=\"177.1074\">a</text><line style=\"stroke: #A80036; stroke-width: 1.5;\" x1=\"134\" x2=\"174\" y1=\"184.9375\" y2=\"184.9375\"/></a><!--MD5=[ebbe1d658d1005bcc118a6aa81145e00]\n",
       "class E4--><a href=\"psysml:ae693b7b-cdf9-497f-b28d-123f2277c02f\" target=\"_top\" title=\"psysml:ae693b7b-cdf9-497f-b28d-123f2277c02f\" xlink:actuate=\"onRequest\" xlink:href=\"psysml:ae693b7b-cdf9-497f-b28d-123f2277c02f\" xlink:show=\"new\" xlink:title=\"psysml:ae693b7b-cdf9-497f-b28d-123f2277c02f\" xlink:type=\"simple\"><rect fill=\"#FEFECE\" filter=\"url(#ftx5a9czu3bul)\" height=\"45.9375\" id=\"E4\" style=\"stroke: #A80036; stroke-width: 1.5;\" width=\"66\" x=\"32\" y=\"41\"/><text fill=\"#000000\" font-family=\"sans-serif\" font-size=\"12\" font-style=\"italic\" lengthAdjust=\"spacingAndGlyphs\" textLength=\"64\" x=\"33\" y=\"57.1387\">«part def»</text><text fill=\"#000000\" font-family=\"sans-serif\" font-size=\"12\" lengthAdjust=\"spacingAndGlyphs\" textLength=\"8\" x=\"61\" y=\"71.1074\">C</text><line style=\"stroke: #A80036; stroke-width: 1.5;\" x1=\"33\" x2=\"97\" y1=\"78.9375\" y2=\"78.9375\"/></a><!--MD5=[270fce915f116d4de14055a7c1d9a0f3]\n",
       "class E5--><a href=\"psysml:e9e4e094-e1ef-4d59-8b5d-bef394effc04\" target=\"_top\" title=\"psysml:e9e4e094-e1ef-4d59-8b5d-bef394effc04\" xlink:actuate=\"onRequest\" xlink:href=\"psysml:e9e4e094-e1ef-4d59-8b5d-bef394effc04\" xlink:show=\"new\" xlink:title=\"psysml:e9e4e094-e1ef-4d59-8b5d-bef394effc04\" xlink:type=\"simple\"><rect fill=\"#FEFECE\" filter=\"url(#ftx5a9czu3bul)\" height=\"45.9375\" id=\"E5\" rx=\"10\" ry=\"10\" style=\"stroke: #A80036; stroke-width: 1.5;\" width=\"42\" x=\"44\" y=\"147\"/><text fill=\"#000000\" font-family=\"sans-serif\" font-size=\"12\" font-style=\"italic\" lengthAdjust=\"spacingAndGlyphs\" textLength=\"40\" x=\"45\" y=\"163.1387\">«part»</text><text fill=\"#000000\" font-family=\"sans-serif\" font-size=\"12\" lengthAdjust=\"spacingAndGlyphs\" textLength=\"8\" x=\"61\" y=\"177.1074\">g</text><line style=\"stroke: #A80036; stroke-width: 1.5;\" x1=\"45\" x2=\"85\" y1=\"184.9375\" y2=\"184.9375\"/></a><!--MD5=[209b3feb70ccb6233bfe1053d122c12c]\n",
       "reverse link E2 to E3--><a href=\"psysml:c0fa1ef5-beff-4377-a65a-0adbb28c5765\" target=\"_top\" title=\"psysml:c0fa1ef5-beff-4377-a65a-0adbb28c5765\" xlink:actuate=\"onRequest\" xlink:href=\"psysml:c0fa1ef5-beff-4377-a65a-0adbb28c5765\" xlink:show=\"new\" xlink:title=\"psysml:c0fa1ef5-beff-4377-a65a-0adbb28c5765\" xlink:type=\"simple\"><path d=\"M154,100.44 C154,115.87 154,133.47 154,146.98 \" fill=\"none\" id=\"E2&lt;-E3\" style=\"stroke: #A80036; stroke-width: 1.0;\"/><polygon fill=\"#A80036\" points=\"154,87.06,150,93.06,154,99.06,158,93.06,154,87.06\" style=\"stroke: #A80036; stroke-width: 1.0;\"/></a><!--MD5=[62aa6af11e70f752912c1cb0466f24f7]\n",
       "reverse link E4 to E5--><a href=\"psysml:e9e4e094-e1ef-4d59-8b5d-bef394effc04\" target=\"_top\" title=\"psysml:e9e4e094-e1ef-4d59-8b5d-bef394effc04\" xlink:actuate=\"onRequest\" xlink:href=\"psysml:e9e4e094-e1ef-4d59-8b5d-bef394effc04\" xlink:show=\"new\" xlink:title=\"psysml:e9e4e094-e1ef-4d59-8b5d-bef394effc04\" xlink:type=\"simple\"><path d=\"M65,100.44 C65,115.87 65,133.47 65,146.98 \" fill=\"none\" id=\"E4&lt;-E5\" style=\"stroke: #A80036; stroke-width: 1.0;\"/><polygon fill=\"#A80036\" points=\"65,87.06,61,93.06,65,99.06,69,93.06,65,87.06\" style=\"stroke: #A80036; stroke-width: 1.0;\"/></a><!--MD5=[2c02149aac63a612920d7df5978967ba]\n",
       "@startuml\r\n",
       "skinparam wrapWidth 300\r\n",
       "hide circle\r\n",
       "\r\n",
       "package \"Q\" as E1  [[psysml:2f37afb0-cd4e-4fb5-8035-2782344ffa0d ]]  {\r\n",
       "comp usage \"f\" as E2  <<(T,blue)part>> [[psysml:808101de-d573-40e0-bd9c-1a41ac0023c1 ]] {\r\n",
       "}\r\n",
       "comp usage \"a\" as E3  <<(T,blue)part>> [[psysml:c0fa1ef5-beff-4377-a65a-0adbb28c5765 ]] {\r\n",
       "}\r\n",
       "comp def \"C\" as E4  <<(T,blue)part def>> [[psysml:ae693b7b-cdf9-497f-b28d-123f2277c02f ]] {\r\n",
       "}\r\n",
       "comp usage \"g\" as E5  <<(T,blue)part>> [[psysml:e9e4e094-e1ef-4d59-8b5d-bef394effc04 ]] {\r\n",
       "}\r\n",
       "E2 *- - E3 [[psysml:c0fa1ef5-beff-4377-a65a-0adbb28c5765 ]] \r\n",
       "E4 *- - E5 [[psysml:e9e4e094-e1ef-4d59-8b5d-bef394effc04 ]] \r\n",
       "}\r\n",
       "@enduml\r\n",
       "\n",
       "PlantUML version 1.2020.13(Sat Jun 13 12:26:38 UTC 2020)\n",
       "(EPL source distribution)\n",
       "Java Runtime: OpenJDK Runtime Environment\n",
       "JVM: OpenJDK 64-Bit Server VM\n",
       "Default Encoding: UTF-8\n",
       "Language: en\n",
       "Country: null\n",
       "--></g></svg>"
      ]
     },
     "execution_count": 24,
     "metadata": {},
     "output_type": "execute_result"
    }
   ],
   "source": [
    "%viz --style=\"STDCOLOR\" --view=\"Tree\" \"Q\""
   ]
  },
  {
   "cell_type": "code",
   "execution_count": 25,
   "id": "alleged-nerve",
   "metadata": {
    "execution": {
     "iopub.execute_input": "2021-03-26T12:08:01.530393Z",
     "iopub.status.busy": "2021-03-26T12:08:01.529489Z",
     "iopub.status.idle": "2021-03-26T12:08:01.536551Z",
     "shell.execute_reply": "2021-03-26T12:08:01.537015Z"
    }
   },
   "outputs": [
    {
     "data": {
      "image/svg+xml": [
       "<?xml version=\"1.0\" encoding=\"UTF-8\" standalone=\"no\"?><svg xmlns=\"http://www.w3.org/2000/svg\" xmlns:xlink=\"http://www.w3.org/1999/xlink\" contentScriptType=\"application/ecmascript\" contentStyleType=\"text/css\" height=\"12px\" preserveAspectRatio=\"none\" style=\"width:12px;height:12px;\" version=\"1.1\" viewBox=\"0 0 12 12\" width=\"12px\" zoomAndPan=\"magnify\"><defs/><g><!--MD5=[aeeef50f102b80d730deb6443d14f702]\n",
       "@startuml\r\n",
       "skinparam wrapWidth 300\r\n",
       "hide circle\r\n",
       "\r\n",
       "@enduml\r\n",
       "\n",
       "PlantUML version 1.2020.13(Sat Jun 13 12:26:38 UTC 2020)\n",
       "(EPL source distribution)\n",
       "Java Runtime: OpenJDK Runtime Environment\n",
       "JVM: OpenJDK 64-Bit Server VM\n",
       "Default Encoding: UTF-8\n",
       "Language: en\n",
       "Country: null\n",
       "--></g></svg>"
      ]
     },
     "execution_count": 25,
     "metadata": {},
     "output_type": "execute_result"
    }
   ],
   "source": [
    "%viz --style=\"STDCOLOR\" --view=\"State\" \"Q\""
   ]
  },
  {
   "cell_type": "code",
   "execution_count": 26,
   "id": "electrical-secret",
   "metadata": {
    "execution": {
     "iopub.execute_input": "2021-03-26T12:08:01.587814Z",
     "iopub.status.busy": "2021-03-26T12:08:01.587117Z",
     "iopub.status.idle": "2021-03-26T12:08:01.616343Z",
     "shell.execute_reply": "2021-03-26T12:08:01.616661Z"
    }
   },
   "outputs": [
    {
     "data": {
      "image/svg+xml": [
       "<?xml version=\"1.0\" encoding=\"UTF-8\" standalone=\"no\"?><svg xmlns=\"http://www.w3.org/2000/svg\" xmlns:xlink=\"http://www.w3.org/1999/xlink\" contentScriptType=\"application/ecmascript\" contentStyleType=\"text/css\" height=\"192px\" preserveAspectRatio=\"none\" style=\"width:279px;height:192px;\" version=\"1.1\" viewBox=\"0 0 279 192\" width=\"279px\" zoomAndPan=\"magnify\"><defs><filter height=\"300%\" id=\"fiil7m52hw3ym\" width=\"300%\" x=\"-1\" y=\"-1\"><feGaussianBlur result=\"blurOut\" stdDeviation=\"2.0\"/><feColorMatrix in=\"blurOut\" result=\"blurOut2\" type=\"matrix\" values=\"0 0 0 0 0 0 0 0 0 0 0 0 0 0 0 0 0 0 .4 0\"/><feOffset dx=\"4.0\" dy=\"4.0\" in=\"blurOut2\" result=\"blurOut3\"/><feBlend in=\"SourceGraphic\" in2=\"blurOut3\" mode=\"normal\"/></filter></defs><g><!--MD5=[fbc87193dbaf4d95561dea2c320d4a47]\n",
       "cluster E1--><a href=\"psysml:2f37afb0-cd4e-4fb5-8035-2782344ffa0d\" target=\"_top\" title=\"psysml:2f37afb0-cd4e-4fb5-8035-2782344ffa0d\" xlink:actuate=\"onRequest\" xlink:href=\"psysml:2f37afb0-cd4e-4fb5-8035-2782344ffa0d\" xlink:show=\"new\" xlink:title=\"psysml:2f37afb0-cd4e-4fb5-8035-2782344ffa0d\" xlink:type=\"simple\"><polygon fill=\"#FFFFFF\" filter=\"url(#fiil7m52hw3ym)\" points=\"16,6,34,6,41,28.2969,257,28.2969,257,180,16,180,16,6\" style=\"stroke: #000000; stroke-width: 1.5;\"/><line style=\"stroke: #000000; stroke-width: 1.5;\" x1=\"16\" x2=\"41\" y1=\"28.2969\" y2=\"28.2969\"/><text fill=\"#000000\" font-family=\"sans-serif\" font-size=\"14\" font-weight=\"bold\" lengthAdjust=\"spacingAndGlyphs\" textLength=\"12\" x=\"20\" y=\"20.9951\">Q</text></a><!--MD5=[e4f7fae6ed58524ba242bb0b0d3be6b7]\n",
       "cluster E2--><a href=\"psysml:808101de-d573-40e0-bd9c-1a41ac0023c1\" target=\"_top\" title=\"psysml:808101de-d573-40e0-bd9c-1a41ac0023c1\" xlink:actuate=\"onRequest\" xlink:href=\"psysml:808101de-d573-40e0-bd9c-1a41ac0023c1\" xlink:show=\"new\" xlink:title=\"psysml:808101de-d573-40e0-bd9c-1a41ac0023c1\" xlink:type=\"simple\"><rect fill=\"#FFFFFF\" filter=\"url(#fiil7m52hw3ym)\" height=\"91\" id=\"E2\" rx=\"10\" ry=\"10\" style=\"stroke: #A80036; stroke-width: 1.5;\" width=\"82\" x=\"151\" y=\"65\"/><rect fill=\"#FEFECE\" height=\"23.9688\" rx=\"10\" ry=\"10\" style=\"stroke: #FEFECE; stroke-width: 1.5;\" width=\"82\" x=\"151\" y=\"65\"/><rect fill=\"#FEFECE\" height=\"10\" style=\"stroke: #FEFECE; stroke-width: 1.5;\" width=\"82\" x=\"151\" y=\"78.9688\"/><rect fill=\"none\" height=\"91\" id=\"E2\" rx=\"10\" ry=\"10\" style=\"stroke: #A80036; stroke-width: 1.5;\" width=\"82\" x=\"151\" y=\"65\"/><text fill=\"#000000\" font-family=\"sans-serif\" font-size=\"12\" lengthAdjust=\"spacingAndGlyphs\" textLength=\"4\" x=\"190\" y=\"81.1387\">f</text><line style=\"stroke: #A80036; stroke-width: 1.0;\" x1=\"151\" x2=\"233\" y1=\"88.9688\" y2=\"88.9688\"/></a><!--MD5=[f6df4d0ebaf0b5dfb2ced0ae5af7c670]\n",
       "cluster E4--><a href=\"psysml:ae693b7b-cdf9-497f-b28d-123f2277c02f\" target=\"_top\" title=\"psysml:ae693b7b-cdf9-497f-b28d-123f2277c02f\" xlink:actuate=\"onRequest\" xlink:href=\"psysml:ae693b7b-cdf9-497f-b28d-123f2277c02f\" xlink:show=\"new\" xlink:title=\"psysml:ae693b7b-cdf9-497f-b28d-123f2277c02f\" xlink:type=\"simple\"><rect fill=\"#FFFFFF\" filter=\"url(#fiil7m52hw3ym)\" height=\"107\" id=\"E4\" style=\"stroke: #A80036; stroke-width: 1.5;\" width=\"87\" x=\"40\" y=\"49\"/><rect fill=\"#FEFECE\" height=\"37.9375\" style=\"stroke: #A80036; stroke-width: 1.5;\" width=\"87\" x=\"40\" y=\"49\"/><text fill=\"#000000\" font-family=\"sans-serif\" font-size=\"12\" font-style=\"italic\" lengthAdjust=\"spacingAndGlyphs\" textLength=\"64\" x=\"51.5\" y=\"65.1387\">«part def»</text><text fill=\"#000000\" font-family=\"sans-serif\" font-size=\"12\" lengthAdjust=\"spacingAndGlyphs\" textLength=\"8\" x=\"79.5\" y=\"79.1074\">C</text></a><g id=\"E1.E2.E3\"><a href=\"psysml:c0fa1ef5-beff-4377-a65a-0adbb28c5765\" target=\"_top\" title=\"psysml:c0fa1ef5-beff-4377-a65a-0adbb28c5765\" xlink:actuate=\"onRequest\" xlink:href=\"psysml:c0fa1ef5-beff-4377-a65a-0adbb28c5765\" xlink:show=\"new\" xlink:title=\"psysml:c0fa1ef5-beff-4377-a65a-0adbb28c5765\" xlink:type=\"simple\"><rect fill=\"#FEFECE\" filter=\"url(#fiil7m52hw3ym)\" height=\"40\" id=\"E3\" rx=\"10\" ry=\"10\" style=\"stroke: #A80036; stroke-width: 1.5;\" width=\"50\" x=\"167\" y=\"100\"/><text fill=\"#000000\" font-family=\"sans-serif\" font-size=\"12\" lengthAdjust=\"spacingAndGlyphs\" textLength=\"8\" x=\"188\" y=\"116.1387\">a</text></a></g><g id=\"E1.E4.E5\"><a href=\"psysml:e9e4e094-e1ef-4d59-8b5d-bef394effc04\" target=\"_top\" title=\"psysml:e9e4e094-e1ef-4d59-8b5d-bef394effc04\" xlink:actuate=\"onRequest\" xlink:href=\"psysml:e9e4e094-e1ef-4d59-8b5d-bef394effc04\" xlink:show=\"new\" xlink:title=\"psysml:e9e4e094-e1ef-4d59-8b5d-bef394effc04\" xlink:type=\"simple\"><rect fill=\"#FEFECE\" filter=\"url(#fiil7m52hw3ym)\" height=\"40\" id=\"E5\" rx=\"10\" ry=\"10\" style=\"stroke: #A80036; stroke-width: 1.5;\" width=\"50\" x=\"58\" y=\"100\"/><text fill=\"#000000\" font-family=\"sans-serif\" font-size=\"12\" lengthAdjust=\"spacingAndGlyphs\" textLength=\"8\" x=\"79\" y=\"116.1387\">g</text></a></g><!--MD5=[04d2a1e0af289c14d14c9c93bbf4d552]\n",
       "@startuml\r\n",
       "skinparam ranksep 8\r\n",
       "skinparam rectangle {\r\n",
       " backgroundColor<<block>> LightGreen\r\n",
       "}\r\n",
       "skinparam wrapWidth 300\r\n",
       "hide circle\r\n",
       "\r\n",
       "package \"Q\" as E1  [[psysml:2f37afb0-cd4e-4fb5-8035-2782344ffa0d ]]  {\r\n",
       "rec usage \"f\" as E2  [[psysml:808101de-d573-40e0-bd9c-1a41ac0023c1 ]] {\r\n",
       "rec usage \"a\" as E3  [[psysml:c0fa1ef5-beff-4377-a65a-0adbb28c5765 ]] {\r\n",
       "}\r\n",
       "}\r\n",
       "rec def \"C\" as E4  <<(T,blue)part def>> [[psysml:ae693b7b-cdf9-497f-b28d-123f2277c02f ]] {\r\n",
       "rec usage \"g\" as E5  [[psysml:e9e4e094-e1ef-4d59-8b5d-bef394effc04 ]] {\r\n",
       "}\r\n",
       "}\r\n",
       "}\r\n",
       "@enduml\r\n",
       "\n",
       "PlantUML version 1.2020.13(Sat Jun 13 12:26:38 UTC 2020)\n",
       "(EPL source distribution)\n",
       "Java Runtime: OpenJDK Runtime Environment\n",
       "JVM: OpenJDK 64-Bit Server VM\n",
       "Default Encoding: UTF-8\n",
       "Language: en\n",
       "Country: null\n",
       "--></g></svg>"
      ]
     },
     "execution_count": 26,
     "metadata": {},
     "output_type": "execute_result"
    }
   ],
   "source": [
    "%viz --style=\"STDCOLOR\" --view=\"Interconnection\" \"Q\""
   ]
  },
  {
   "cell_type": "code",
   "execution_count": 27,
   "id": "powerful-collaboration",
   "metadata": {
    "execution": {
     "iopub.execute_input": "2021-03-26T12:08:01.669110Z",
     "iopub.status.busy": "2021-03-26T12:08:01.668317Z",
     "iopub.status.idle": "2021-03-26T12:08:01.674404Z",
     "shell.execute_reply": "2021-03-26T12:08:01.674039Z"
    }
   },
   "outputs": [
    {
     "data": {
      "image/svg+xml": [
       "<?xml version=\"1.0\" encoding=\"UTF-8\" standalone=\"no\"?><svg xmlns=\"http://www.w3.org/2000/svg\" xmlns:xlink=\"http://www.w3.org/1999/xlink\" contentScriptType=\"application/ecmascript\" contentStyleType=\"text/css\" height=\"12px\" preserveAspectRatio=\"none\" style=\"width:12px;height:12px;\" version=\"1.1\" viewBox=\"0 0 12 12\" width=\"12px\" zoomAndPan=\"magnify\"><defs/><g><!--MD5=[9863325348a96a77dacc89509d8ee65e]\n",
       "@startuml\r\n",
       "skinparam ranksep 8\r\n",
       "skinparam wrapWidth 300\r\n",
       "hide circle\r\n",
       "\r\n",
       "@enduml\r\n",
       "\n",
       "PlantUML version 1.2020.13(Sat Jun 13 12:26:38 UTC 2020)\n",
       "(EPL source distribution)\n",
       "Java Runtime: OpenJDK Runtime Environment\n",
       "JVM: OpenJDK 64-Bit Server VM\n",
       "Default Encoding: UTF-8\n",
       "Language: en\n",
       "Country: null\n",
       "--></g></svg>"
      ]
     },
     "execution_count": 27,
     "metadata": {},
     "output_type": "execute_result"
    }
   ],
   "source": [
    "%viz --style=\"STDCOLOR\" --view=\"Action\" \"Q\""
   ]
  },
  {
   "cell_type": "code",
   "execution_count": 28,
   "id": "supported-hepatitis",
   "metadata": {
    "execution": {
     "iopub.execute_input": "2021-03-26T12:08:01.727438Z",
     "iopub.status.busy": "2021-03-26T12:08:01.726625Z",
     "iopub.status.idle": "2021-03-26T12:08:01.757670Z",
     "shell.execute_reply": "2021-03-26T12:08:01.756407Z"
    }
   },
   "outputs": [
    {
     "data": {
      "image/svg+xml": [
       "<?xml version=\"1.0\" encoding=\"UTF-8\" standalone=\"no\"?><svg xmlns=\"http://www.w3.org/2000/svg\" xmlns:xlink=\"http://www.w3.org/1999/xlink\" contentScriptType=\"application/ecmascript\" contentStyleType=\"text/css\" height=\"221px\" preserveAspectRatio=\"none\" style=\"width:213px;height:221px;\" version=\"1.1\" viewBox=\"0 0 213 221\" width=\"213px\" zoomAndPan=\"magnify\"><defs><filter height=\"300%\" id=\"ftx5a9czu3bul\" width=\"300%\" x=\"-1\" y=\"-1\"><feGaussianBlur result=\"blurOut\" stdDeviation=\"2.0\"/><feColorMatrix in=\"blurOut\" result=\"blurOut2\" type=\"matrix\" values=\"0 0 0 0 0 0 0 0 0 0 0 0 0 0 0 0 0 0 .4 0\"/><feOffset dx=\"4.0\" dy=\"4.0\" in=\"blurOut2\" result=\"blurOut3\"/><feBlend in=\"SourceGraphic\" in2=\"blurOut3\" mode=\"normal\"/></filter></defs><g><!--MD5=[fbc87193dbaf4d95561dea2c320d4a47]\n",
       "cluster E1--><a href=\"psysml:2f37afb0-cd4e-4fb5-8035-2782344ffa0d\" target=\"_top\" title=\"psysml:2f37afb0-cd4e-4fb5-8035-2782344ffa0d\" xlink:actuate=\"onRequest\" xlink:href=\"psysml:2f37afb0-cd4e-4fb5-8035-2782344ffa0d\" xlink:show=\"new\" xlink:title=\"psysml:2f37afb0-cd4e-4fb5-8035-2782344ffa0d\" xlink:type=\"simple\"><polygon fill=\"#FFFFFF\" filter=\"url(#ftx5a9czu3bul)\" points=\"16,6,34,6,41,28.2969,191,28.2969,191,209,16,209,16,6\" style=\"stroke: #000000; stroke-width: 1.5;\"/><line style=\"stroke: #000000; stroke-width: 1.5;\" x1=\"16\" x2=\"41\" y1=\"28.2969\" y2=\"28.2969\"/><text fill=\"#000000\" font-family=\"sans-serif\" font-size=\"14\" font-weight=\"bold\" lengthAdjust=\"spacingAndGlyphs\" textLength=\"12\" x=\"20\" y=\"20.9951\">Q</text></a><!--MD5=[b4997ac47864f28c2f74865a473b2911]\n",
       "class E2--><a href=\"psysml:808101de-d573-40e0-bd9c-1a41ac0023c1\" target=\"_top\" title=\"psysml:808101de-d573-40e0-bd9c-1a41ac0023c1\" xlink:actuate=\"onRequest\" xlink:href=\"psysml:808101de-d573-40e0-bd9c-1a41ac0023c1\" xlink:show=\"new\" xlink:title=\"psysml:808101de-d573-40e0-bd9c-1a41ac0023c1\" xlink:type=\"simple\"><rect fill=\"#FEFECE\" filter=\"url(#ftx5a9czu3bul)\" height=\"45.9375\" id=\"E2\" rx=\"10\" ry=\"10\" style=\"stroke: #A80036; stroke-width: 1.5;\" width=\"42\" x=\"133\" y=\"41\"/><text fill=\"#000000\" font-family=\"sans-serif\" font-size=\"12\" font-style=\"italic\" lengthAdjust=\"spacingAndGlyphs\" textLength=\"40\" x=\"134\" y=\"57.1387\">«part»</text><text fill=\"#000000\" font-family=\"sans-serif\" font-size=\"12\" lengthAdjust=\"spacingAndGlyphs\" textLength=\"4\" x=\"152\" y=\"71.1074\">f</text><line style=\"stroke: #A80036; stroke-width: 1.5;\" x1=\"134\" x2=\"174\" y1=\"78.9375\" y2=\"78.9375\"/></a><!--MD5=[09b614a08d8cba4a07c9adeb5e0fee81]\n",
       "class E3--><a href=\"psysml:c0fa1ef5-beff-4377-a65a-0adbb28c5765\" target=\"_top\" title=\"psysml:c0fa1ef5-beff-4377-a65a-0adbb28c5765\" xlink:actuate=\"onRequest\" xlink:href=\"psysml:c0fa1ef5-beff-4377-a65a-0adbb28c5765\" xlink:show=\"new\" xlink:title=\"psysml:c0fa1ef5-beff-4377-a65a-0adbb28c5765\" xlink:type=\"simple\"><rect fill=\"#FEFECE\" filter=\"url(#ftx5a9czu3bul)\" height=\"45.9375\" id=\"E3\" rx=\"10\" ry=\"10\" style=\"stroke: #A80036; stroke-width: 1.5;\" width=\"42\" x=\"133\" y=\"147\"/><text fill=\"#000000\" font-family=\"sans-serif\" font-size=\"12\" font-style=\"italic\" lengthAdjust=\"spacingAndGlyphs\" textLength=\"40\" x=\"134\" y=\"163.1387\">«part»</text><text fill=\"#000000\" font-family=\"sans-serif\" font-size=\"12\" lengthAdjust=\"spacingAndGlyphs\" textLength=\"8\" x=\"150\" y=\"177.1074\">a</text><line style=\"stroke: #A80036; stroke-width: 1.5;\" x1=\"134\" x2=\"174\" y1=\"184.9375\" y2=\"184.9375\"/></a><!--MD5=[ebbe1d658d1005bcc118a6aa81145e00]\n",
       "class E4--><a href=\"psysml:ae693b7b-cdf9-497f-b28d-123f2277c02f\" target=\"_top\" title=\"psysml:ae693b7b-cdf9-497f-b28d-123f2277c02f\" xlink:actuate=\"onRequest\" xlink:href=\"psysml:ae693b7b-cdf9-497f-b28d-123f2277c02f\" xlink:show=\"new\" xlink:title=\"psysml:ae693b7b-cdf9-497f-b28d-123f2277c02f\" xlink:type=\"simple\"><rect fill=\"#FEFECE\" filter=\"url(#ftx5a9czu3bul)\" height=\"45.9375\" id=\"E4\" style=\"stroke: #A80036; stroke-width: 1.5;\" width=\"66\" x=\"32\" y=\"41\"/><text fill=\"#000000\" font-family=\"sans-serif\" font-size=\"12\" font-style=\"italic\" lengthAdjust=\"spacingAndGlyphs\" textLength=\"64\" x=\"33\" y=\"57.1387\">«part def»</text><text fill=\"#000000\" font-family=\"sans-serif\" font-size=\"12\" lengthAdjust=\"spacingAndGlyphs\" textLength=\"8\" x=\"61\" y=\"71.1074\">C</text><line style=\"stroke: #A80036; stroke-width: 1.5;\" x1=\"33\" x2=\"97\" y1=\"78.9375\" y2=\"78.9375\"/></a><!--MD5=[270fce915f116d4de14055a7c1d9a0f3]\n",
       "class E5--><a href=\"psysml:e9e4e094-e1ef-4d59-8b5d-bef394effc04\" target=\"_top\" title=\"psysml:e9e4e094-e1ef-4d59-8b5d-bef394effc04\" xlink:actuate=\"onRequest\" xlink:href=\"psysml:e9e4e094-e1ef-4d59-8b5d-bef394effc04\" xlink:show=\"new\" xlink:title=\"psysml:e9e4e094-e1ef-4d59-8b5d-bef394effc04\" xlink:type=\"simple\"><rect fill=\"#FEFECE\" filter=\"url(#ftx5a9czu3bul)\" height=\"45.9375\" id=\"E5\" rx=\"10\" ry=\"10\" style=\"stroke: #A80036; stroke-width: 1.5;\" width=\"42\" x=\"44\" y=\"147\"/><text fill=\"#000000\" font-family=\"sans-serif\" font-size=\"12\" font-style=\"italic\" lengthAdjust=\"spacingAndGlyphs\" textLength=\"40\" x=\"45\" y=\"163.1387\">«part»</text><text fill=\"#000000\" font-family=\"sans-serif\" font-size=\"12\" lengthAdjust=\"spacingAndGlyphs\" textLength=\"8\" x=\"61\" y=\"177.1074\">g</text><line style=\"stroke: #A80036; stroke-width: 1.5;\" x1=\"45\" x2=\"85\" y1=\"184.9375\" y2=\"184.9375\"/></a><!--MD5=[209b3feb70ccb6233bfe1053d122c12c]\n",
       "reverse link E2 to E3--><a href=\"psysml:c0fa1ef5-beff-4377-a65a-0adbb28c5765\" target=\"_top\" title=\"psysml:c0fa1ef5-beff-4377-a65a-0adbb28c5765\" xlink:actuate=\"onRequest\" xlink:href=\"psysml:c0fa1ef5-beff-4377-a65a-0adbb28c5765\" xlink:show=\"new\" xlink:title=\"psysml:c0fa1ef5-beff-4377-a65a-0adbb28c5765\" xlink:type=\"simple\"><path d=\"M154,100.44 C154,115.87 154,133.47 154,146.98 \" fill=\"none\" id=\"E2&lt;-E3\" style=\"stroke: #A80036; stroke-width: 1.0;\"/><polygon fill=\"#A80036\" points=\"154,87.06,150,93.06,154,99.06,158,93.06,154,87.06\" style=\"stroke: #A80036; stroke-width: 1.0;\"/></a><!--MD5=[62aa6af11e70f752912c1cb0466f24f7]\n",
       "reverse link E4 to E5--><a href=\"psysml:e9e4e094-e1ef-4d59-8b5d-bef394effc04\" target=\"_top\" title=\"psysml:e9e4e094-e1ef-4d59-8b5d-bef394effc04\" xlink:actuate=\"onRequest\" xlink:href=\"psysml:e9e4e094-e1ef-4d59-8b5d-bef394effc04\" xlink:show=\"new\" xlink:title=\"psysml:e9e4e094-e1ef-4d59-8b5d-bef394effc04\" xlink:type=\"simple\"><path d=\"M65,100.44 C65,115.87 65,133.47 65,146.98 \" fill=\"none\" id=\"E4&lt;-E5\" style=\"stroke: #A80036; stroke-width: 1.0;\"/><polygon fill=\"#A80036\" points=\"65,87.06,61,93.06,65,99.06,69,93.06,65,87.06\" style=\"stroke: #A80036; stroke-width: 1.0;\"/></a><!--MD5=[2c02149aac63a612920d7df5978967ba]\n",
       "@startuml\r\n",
       "skinparam wrapWidth 300\r\n",
       "hide circle\r\n",
       "\r\n",
       "package \"Q\" as E1  [[psysml:2f37afb0-cd4e-4fb5-8035-2782344ffa0d ]]  {\r\n",
       "comp usage \"f\" as E2  <<(T,blue)part>> [[psysml:808101de-d573-40e0-bd9c-1a41ac0023c1 ]] {\r\n",
       "}\r\n",
       "comp usage \"a\" as E3  <<(T,blue)part>> [[psysml:c0fa1ef5-beff-4377-a65a-0adbb28c5765 ]] {\r\n",
       "}\r\n",
       "comp def \"C\" as E4  <<(T,blue)part def>> [[psysml:ae693b7b-cdf9-497f-b28d-123f2277c02f ]] {\r\n",
       "}\r\n",
       "comp usage \"g\" as E5  <<(T,blue)part>> [[psysml:e9e4e094-e1ef-4d59-8b5d-bef394effc04 ]] {\r\n",
       "}\r\n",
       "E2 *- - E3 [[psysml:c0fa1ef5-beff-4377-a65a-0adbb28c5765 ]] \r\n",
       "E4 *- - E5 [[psysml:e9e4e094-e1ef-4d59-8b5d-bef394effc04 ]] \r\n",
       "}\r\n",
       "@enduml\r\n",
       "\n",
       "PlantUML version 1.2020.13(Sat Jun 13 12:26:38 UTC 2020)\n",
       "(EPL source distribution)\n",
       "Java Runtime: OpenJDK Runtime Environment\n",
       "JVM: OpenJDK 64-Bit Server VM\n",
       "Default Encoding: UTF-8\n",
       "Language: en\n",
       "Country: null\n",
       "--></g></svg>"
      ]
     },
     "execution_count": 28,
     "metadata": {},
     "output_type": "execute_result"
    }
   ],
   "source": [
    "%viz --style=\"STDCOLOR\" --view=\"Sequence\" \"Q\""
   ]
  },
  {
   "cell_type": "code",
   "execution_count": 29,
   "id": "artificial-rating",
   "metadata": {
    "execution": {
     "iopub.execute_input": "2021-03-26T12:08:01.809992Z",
     "iopub.status.busy": "2021-03-26T12:08:01.809112Z",
     "iopub.status.idle": "2021-03-26T12:08:01.839298Z",
     "shell.execute_reply": "2021-03-26T12:08:01.837861Z"
    }
   },
   "outputs": [
    {
     "data": {
      "image/svg+xml": [
       "<?xml version=\"1.0\" encoding=\"UTF-8\" standalone=\"no\"?><svg xmlns=\"http://www.w3.org/2000/svg\" xmlns:xlink=\"http://www.w3.org/1999/xlink\" contentScriptType=\"application/ecmascript\" contentStyleType=\"text/css\" height=\"221px\" preserveAspectRatio=\"none\" style=\"width:213px;height:221px;\" version=\"1.1\" viewBox=\"0 0 213 221\" width=\"213px\" zoomAndPan=\"magnify\"><defs><filter height=\"300%\" id=\"ftx5a9czu3bul\" width=\"300%\" x=\"-1\" y=\"-1\"><feGaussianBlur result=\"blurOut\" stdDeviation=\"2.0\"/><feColorMatrix in=\"blurOut\" result=\"blurOut2\" type=\"matrix\" values=\"0 0 0 0 0 0 0 0 0 0 0 0 0 0 0 0 0 0 .4 0\"/><feOffset dx=\"4.0\" dy=\"4.0\" in=\"blurOut2\" result=\"blurOut3\"/><feBlend in=\"SourceGraphic\" in2=\"blurOut3\" mode=\"normal\"/></filter></defs><g><!--MD5=[fbc87193dbaf4d95561dea2c320d4a47]\n",
       "cluster E1--><a href=\"psysml:2f37afb0-cd4e-4fb5-8035-2782344ffa0d\" target=\"_top\" title=\"psysml:2f37afb0-cd4e-4fb5-8035-2782344ffa0d\" xlink:actuate=\"onRequest\" xlink:href=\"psysml:2f37afb0-cd4e-4fb5-8035-2782344ffa0d\" xlink:show=\"new\" xlink:title=\"psysml:2f37afb0-cd4e-4fb5-8035-2782344ffa0d\" xlink:type=\"simple\"><polygon fill=\"#FFFFFF\" filter=\"url(#ftx5a9czu3bul)\" points=\"16,6,34,6,41,28.2969,191,28.2969,191,209,16,209,16,6\" style=\"stroke: #000000; stroke-width: 1.5;\"/><line style=\"stroke: #000000; stroke-width: 1.5;\" x1=\"16\" x2=\"41\" y1=\"28.2969\" y2=\"28.2969\"/><text fill=\"#000000\" font-family=\"sans-serif\" font-size=\"14\" font-weight=\"bold\" lengthAdjust=\"spacingAndGlyphs\" textLength=\"12\" x=\"20\" y=\"20.9951\">Q</text></a><!--MD5=[b4997ac47864f28c2f74865a473b2911]\n",
       "class E2--><a href=\"psysml:808101de-d573-40e0-bd9c-1a41ac0023c1\" target=\"_top\" title=\"psysml:808101de-d573-40e0-bd9c-1a41ac0023c1\" xlink:actuate=\"onRequest\" xlink:href=\"psysml:808101de-d573-40e0-bd9c-1a41ac0023c1\" xlink:show=\"new\" xlink:title=\"psysml:808101de-d573-40e0-bd9c-1a41ac0023c1\" xlink:type=\"simple\"><rect fill=\"#FEFECE\" filter=\"url(#ftx5a9czu3bul)\" height=\"45.9375\" id=\"E2\" rx=\"10\" ry=\"10\" style=\"stroke: #A80036; stroke-width: 1.5;\" width=\"42\" x=\"133\" y=\"41\"/><text fill=\"#000000\" font-family=\"sans-serif\" font-size=\"12\" font-style=\"italic\" lengthAdjust=\"spacingAndGlyphs\" textLength=\"40\" x=\"134\" y=\"57.1387\">«part»</text><text fill=\"#000000\" font-family=\"sans-serif\" font-size=\"12\" lengthAdjust=\"spacingAndGlyphs\" textLength=\"4\" x=\"152\" y=\"71.1074\">f</text><line style=\"stroke: #A80036; stroke-width: 1.5;\" x1=\"134\" x2=\"174\" y1=\"78.9375\" y2=\"78.9375\"/></a><!--MD5=[09b614a08d8cba4a07c9adeb5e0fee81]\n",
       "class E3--><a href=\"psysml:c0fa1ef5-beff-4377-a65a-0adbb28c5765\" target=\"_top\" title=\"psysml:c0fa1ef5-beff-4377-a65a-0adbb28c5765\" xlink:actuate=\"onRequest\" xlink:href=\"psysml:c0fa1ef5-beff-4377-a65a-0adbb28c5765\" xlink:show=\"new\" xlink:title=\"psysml:c0fa1ef5-beff-4377-a65a-0adbb28c5765\" xlink:type=\"simple\"><rect fill=\"#FEFECE\" filter=\"url(#ftx5a9czu3bul)\" height=\"45.9375\" id=\"E3\" rx=\"10\" ry=\"10\" style=\"stroke: #A80036; stroke-width: 1.5;\" width=\"42\" x=\"133\" y=\"147\"/><text fill=\"#000000\" font-family=\"sans-serif\" font-size=\"12\" font-style=\"italic\" lengthAdjust=\"spacingAndGlyphs\" textLength=\"40\" x=\"134\" y=\"163.1387\">«part»</text><text fill=\"#000000\" font-family=\"sans-serif\" font-size=\"12\" lengthAdjust=\"spacingAndGlyphs\" textLength=\"8\" x=\"150\" y=\"177.1074\">a</text><line style=\"stroke: #A80036; stroke-width: 1.5;\" x1=\"134\" x2=\"174\" y1=\"184.9375\" y2=\"184.9375\"/></a><!--MD5=[ebbe1d658d1005bcc118a6aa81145e00]\n",
       "class E4--><a href=\"psysml:ae693b7b-cdf9-497f-b28d-123f2277c02f\" target=\"_top\" title=\"psysml:ae693b7b-cdf9-497f-b28d-123f2277c02f\" xlink:actuate=\"onRequest\" xlink:href=\"psysml:ae693b7b-cdf9-497f-b28d-123f2277c02f\" xlink:show=\"new\" xlink:title=\"psysml:ae693b7b-cdf9-497f-b28d-123f2277c02f\" xlink:type=\"simple\"><rect fill=\"#FEFECE\" filter=\"url(#ftx5a9czu3bul)\" height=\"45.9375\" id=\"E4\" style=\"stroke: #A80036; stroke-width: 1.5;\" width=\"66\" x=\"32\" y=\"41\"/><text fill=\"#000000\" font-family=\"sans-serif\" font-size=\"12\" font-style=\"italic\" lengthAdjust=\"spacingAndGlyphs\" textLength=\"64\" x=\"33\" y=\"57.1387\">«part def»</text><text fill=\"#000000\" font-family=\"sans-serif\" font-size=\"12\" lengthAdjust=\"spacingAndGlyphs\" textLength=\"8\" x=\"61\" y=\"71.1074\">C</text><line style=\"stroke: #A80036; stroke-width: 1.5;\" x1=\"33\" x2=\"97\" y1=\"78.9375\" y2=\"78.9375\"/></a><!--MD5=[270fce915f116d4de14055a7c1d9a0f3]\n",
       "class E5--><a href=\"psysml:e9e4e094-e1ef-4d59-8b5d-bef394effc04\" target=\"_top\" title=\"psysml:e9e4e094-e1ef-4d59-8b5d-bef394effc04\" xlink:actuate=\"onRequest\" xlink:href=\"psysml:e9e4e094-e1ef-4d59-8b5d-bef394effc04\" xlink:show=\"new\" xlink:title=\"psysml:e9e4e094-e1ef-4d59-8b5d-bef394effc04\" xlink:type=\"simple\"><rect fill=\"#FEFECE\" filter=\"url(#ftx5a9czu3bul)\" height=\"45.9375\" id=\"E5\" rx=\"10\" ry=\"10\" style=\"stroke: #A80036; stroke-width: 1.5;\" width=\"42\" x=\"44\" y=\"147\"/><text fill=\"#000000\" font-family=\"sans-serif\" font-size=\"12\" font-style=\"italic\" lengthAdjust=\"spacingAndGlyphs\" textLength=\"40\" x=\"45\" y=\"163.1387\">«part»</text><text fill=\"#000000\" font-family=\"sans-serif\" font-size=\"12\" lengthAdjust=\"spacingAndGlyphs\" textLength=\"8\" x=\"61\" y=\"177.1074\">g</text><line style=\"stroke: #A80036; stroke-width: 1.5;\" x1=\"45\" x2=\"85\" y1=\"184.9375\" y2=\"184.9375\"/></a><!--MD5=[209b3feb70ccb6233bfe1053d122c12c]\n",
       "reverse link E2 to E3--><a href=\"psysml:c0fa1ef5-beff-4377-a65a-0adbb28c5765\" target=\"_top\" title=\"psysml:c0fa1ef5-beff-4377-a65a-0adbb28c5765\" xlink:actuate=\"onRequest\" xlink:href=\"psysml:c0fa1ef5-beff-4377-a65a-0adbb28c5765\" xlink:show=\"new\" xlink:title=\"psysml:c0fa1ef5-beff-4377-a65a-0adbb28c5765\" xlink:type=\"simple\"><path d=\"M154,100.44 C154,115.87 154,133.47 154,146.98 \" fill=\"none\" id=\"E2&lt;-E3\" style=\"stroke: #A80036; stroke-width: 1.0;\"/><polygon fill=\"#A80036\" points=\"154,87.06,150,93.06,154,99.06,158,93.06,154,87.06\" style=\"stroke: #A80036; stroke-width: 1.0;\"/></a><!--MD5=[62aa6af11e70f752912c1cb0466f24f7]\n",
       "reverse link E4 to E5--><a href=\"psysml:e9e4e094-e1ef-4d59-8b5d-bef394effc04\" target=\"_top\" title=\"psysml:e9e4e094-e1ef-4d59-8b5d-bef394effc04\" xlink:actuate=\"onRequest\" xlink:href=\"psysml:e9e4e094-e1ef-4d59-8b5d-bef394effc04\" xlink:show=\"new\" xlink:title=\"psysml:e9e4e094-e1ef-4d59-8b5d-bef394effc04\" xlink:type=\"simple\"><path d=\"M65,100.44 C65,115.87 65,133.47 65,146.98 \" fill=\"none\" id=\"E4&lt;-E5\" style=\"stroke: #A80036; stroke-width: 1.0;\"/><polygon fill=\"#A80036\" points=\"65,87.06,61,93.06,65,99.06,69,93.06,65,87.06\" style=\"stroke: #A80036; stroke-width: 1.0;\"/></a><!--MD5=[2c02149aac63a612920d7df5978967ba]\n",
       "@startuml\r\n",
       "skinparam wrapWidth 300\r\n",
       "hide circle\r\n",
       "\r\n",
       "package \"Q\" as E1  [[psysml:2f37afb0-cd4e-4fb5-8035-2782344ffa0d ]]  {\r\n",
       "comp usage \"f\" as E2  <<(T,blue)part>> [[psysml:808101de-d573-40e0-bd9c-1a41ac0023c1 ]] {\r\n",
       "}\r\n",
       "comp usage \"a\" as E3  <<(T,blue)part>> [[psysml:c0fa1ef5-beff-4377-a65a-0adbb28c5765 ]] {\r\n",
       "}\r\n",
       "comp def \"C\" as E4  <<(T,blue)part def>> [[psysml:ae693b7b-cdf9-497f-b28d-123f2277c02f ]] {\r\n",
       "}\r\n",
       "comp usage \"g\" as E5  <<(T,blue)part>> [[psysml:e9e4e094-e1ef-4d59-8b5d-bef394effc04 ]] {\r\n",
       "}\r\n",
       "E2 *- - E3 [[psysml:c0fa1ef5-beff-4377-a65a-0adbb28c5765 ]] \r\n",
       "E4 *- - E5 [[psysml:e9e4e094-e1ef-4d59-8b5d-bef394effc04 ]] \r\n",
       "}\r\n",
       "@enduml\r\n",
       "\n",
       "PlantUML version 1.2020.13(Sat Jun 13 12:26:38 UTC 2020)\n",
       "(EPL source distribution)\n",
       "Java Runtime: OpenJDK Runtime Environment\n",
       "JVM: OpenJDK 64-Bit Server VM\n",
       "Default Encoding: UTF-8\n",
       "Language: en\n",
       "Country: null\n",
       "--></g></svg>"
      ]
     },
     "execution_count": 29,
     "metadata": {},
     "output_type": "execute_result"
    }
   ],
   "source": [
    "%viz --style=\"STDCOLOR\" --view=\"MIXED\" \"Q\""
   ]
  },
  {
   "cell_type": "code",
   "execution_count": 30,
   "id": "duplicate-lindsay",
   "metadata": {
    "execution": {
     "iopub.execute_input": "2021-03-26T12:08:01.892180Z",
     "iopub.status.busy": "2021-03-26T12:08:01.891336Z",
     "iopub.status.idle": "2021-03-26T12:08:01.944046Z",
     "shell.execute_reply": "2021-03-26T12:08:01.944437Z"
    }
   },
   "outputs": [
    {
     "data": {
      "image/svg+xml": [
       "<?xml version=\"1.0\" encoding=\"UTF-8\" standalone=\"no\"?><svg xmlns=\"http://www.w3.org/2000/svg\" xmlns:xlink=\"http://www.w3.org/1999/xlink\" contentScriptType=\"application/ecmascript\" contentStyleType=\"text/css\" height=\"221px\" preserveAspectRatio=\"none\" style=\"width:241px;height:221px;\" version=\"1.1\" viewBox=\"0 0 241 221\" width=\"241px\" zoomAndPan=\"magnify\"><defs><filter height=\"300%\" id=\"fzpdzo6a5bsul\" width=\"300%\" x=\"-1\" y=\"-1\"><feGaussianBlur result=\"blurOut\" stdDeviation=\"2.0\"/><feColorMatrix in=\"blurOut\" result=\"blurOut2\" type=\"matrix\" values=\"0 0 0 0 0 0 0 0 0 0 0 0 0 0 0 0 0 0 .4 0\"/><feOffset dx=\"4.0\" dy=\"4.0\" in=\"blurOut2\" result=\"blurOut3\"/><feBlend in=\"SourceGraphic\" in2=\"blurOut3\" mode=\"normal\"/></filter></defs><g><!--MD5=[fbc87193dbaf4d95561dea2c320d4a47]\n",
       "cluster E1--><a href=\"psysml:2f37afb0-cd4e-4fb5-8035-2782344ffa0d\" target=\"_top\" title=\"psysml:2f37afb0-cd4e-4fb5-8035-2782344ffa0d\" xlink:actuate=\"onRequest\" xlink:href=\"psysml:2f37afb0-cd4e-4fb5-8035-2782344ffa0d\" xlink:show=\"new\" xlink:title=\"psysml:2f37afb0-cd4e-4fb5-8035-2782344ffa0d\" xlink:type=\"simple\"><polygon fill=\"#FFFFFF\" filter=\"url(#fzpdzo6a5bsul)\" points=\"16,6,34,6,41,28.2969,219,28.2969,219,209,16,209,16,6\" style=\"stroke: #000000; stroke-width: 1.5;\"/><line style=\"stroke: #000000; stroke-width: 1.5;\" x1=\"16\" x2=\"41\" y1=\"28.2969\" y2=\"28.2969\"/><text fill=\"#000000\" font-family=\"sans-serif\" font-size=\"14\" font-weight=\"bold\" lengthAdjust=\"spacingAndGlyphs\" textLength=\"12\" x=\"20\" y=\"20.9951\">Q</text></a><!--MD5=[b4997ac47864f28c2f74865a473b2911]\n",
       "class E2--><a href=\"psysml:808101de-d573-40e0-bd9c-1a41ac0023c1\" target=\"_top\" title=\"psysml:808101de-d573-40e0-bd9c-1a41ac0023c1\" xlink:actuate=\"onRequest\" xlink:href=\"psysml:808101de-d573-40e0-bd9c-1a41ac0023c1\" xlink:show=\"new\" xlink:title=\"psysml:808101de-d573-40e0-bd9c-1a41ac0023c1\" xlink:type=\"simple\"><rect fill=\"#FEFECE\" filter=\"url(#fzpdzo6a5bsul)\" height=\"45.9375\" id=\"E2\" rx=\"10\" ry=\"10\" style=\"stroke: #A80036; stroke-width: 1.5;\" width=\"68\" x=\"135\" y=\"41\"/><ellipse cx=\"150\" cy=\"59.9688\" fill=\"#32CD32\" rx=\"11\" ry=\"11\" style=\"stroke: #A80036; stroke-width: 1.0;\"/><path d=\"M149.7969,55.6406 L149.7969,59.2656 L150.7969,59.2656 Q152,59.2656 152.4844,58.8594 Q152.9688,58.4531 152.9688,57.4531 Q152.9688,56.4531 152.4844,56.0469 Q152,55.6406 150.7969,55.6406 L149.7969,55.6406 Z M147.3438,53.5781 L150.7031,53.5781 Q153.2656,53.5781 154.3906,54.5 Q155.5156,55.4063 155.5156,57.4531 Q155.5156,59.5 154.3906,60.4219 Q153.2656,61.3281 150.7031,61.3281 L149.7969,61.3281 L149.7969,65.9688 L147.3438,65.9688 L147.3438,53.5781 Z \"/><text fill=\"#000000\" font-family=\"sans-serif\" font-size=\"12\" font-style=\"italic\" lengthAdjust=\"spacingAndGlyphs\" textLength=\"40\" x=\"162\" y=\"57.1387\">«part»</text><text fill=\"#000000\" font-family=\"sans-serif\" font-size=\"12\" lengthAdjust=\"spacingAndGlyphs\" textLength=\"4\" x=\"180\" y=\"71.1074\">f</text><line style=\"stroke: #A80036; stroke-width: 1.5;\" x1=\"136\" x2=\"202\" y1=\"78.9375\" y2=\"78.9375\"/></a><!--MD5=[09b614a08d8cba4a07c9adeb5e0fee81]\n",
       "class E3--><a href=\"psysml:c0fa1ef5-beff-4377-a65a-0adbb28c5765\" target=\"_top\" title=\"psysml:c0fa1ef5-beff-4377-a65a-0adbb28c5765\" xlink:actuate=\"onRequest\" xlink:href=\"psysml:c0fa1ef5-beff-4377-a65a-0adbb28c5765\" xlink:show=\"new\" xlink:title=\"psysml:c0fa1ef5-beff-4377-a65a-0adbb28c5765\" xlink:type=\"simple\"><rect fill=\"#FEFECE\" filter=\"url(#fzpdzo6a5bsul)\" height=\"45.9375\" id=\"E3\" rx=\"10\" ry=\"10\" style=\"stroke: #A80036; stroke-width: 1.5;\" width=\"68\" x=\"135\" y=\"147\"/><ellipse cx=\"150\" cy=\"165.9688\" fill=\"#32CD32\" rx=\"11\" ry=\"11\" style=\"stroke: #A80036; stroke-width: 1.0;\"/><path d=\"M149.7969,161.6406 L149.7969,165.2656 L150.7969,165.2656 Q152,165.2656 152.4844,164.8594 Q152.9688,164.4531 152.9688,163.4531 Q152.9688,162.4531 152.4844,162.0469 Q152,161.6406 150.7969,161.6406 L149.7969,161.6406 Z M147.3438,159.5781 L150.7031,159.5781 Q153.2656,159.5781 154.3906,160.5 Q155.5156,161.4063 155.5156,163.4531 Q155.5156,165.5 154.3906,166.4219 Q153.2656,167.3281 150.7031,167.3281 L149.7969,167.3281 L149.7969,171.9688 L147.3438,171.9688 L147.3438,159.5781 Z \"/><text fill=\"#000000\" font-family=\"sans-serif\" font-size=\"12\" font-style=\"italic\" lengthAdjust=\"spacingAndGlyphs\" textLength=\"40\" x=\"162\" y=\"163.1387\">«part»</text><text fill=\"#000000\" font-family=\"sans-serif\" font-size=\"12\" lengthAdjust=\"spacingAndGlyphs\" textLength=\"8\" x=\"178\" y=\"177.1074\">a</text><line style=\"stroke: #A80036; stroke-width: 1.5;\" x1=\"136\" x2=\"202\" y1=\"184.9375\" y2=\"184.9375\"/></a><!--MD5=[ebbe1d658d1005bcc118a6aa81145e00]\n",
       "class E4--><a href=\"psysml:ae693b7b-cdf9-497f-b28d-123f2277c02f\" target=\"_top\" title=\"psysml:ae693b7b-cdf9-497f-b28d-123f2277c02f\" xlink:actuate=\"onRequest\" xlink:href=\"psysml:ae693b7b-cdf9-497f-b28d-123f2277c02f\" xlink:show=\"new\" xlink:title=\"psysml:ae693b7b-cdf9-497f-b28d-123f2277c02f\" xlink:type=\"simple\"><rect fill=\"#FEFECE\" filter=\"url(#fzpdzo6a5bsul)\" height=\"40\" id=\"E4\" style=\"stroke: #A80036; stroke-width: 1.5;\" width=\"40\" x=\"46\" y=\"44\"/><ellipse cx=\"61\" cy=\"60\" fill=\"#008000\" rx=\"11\" ry=\"11\" style=\"stroke: #A80036; stroke-width: 1.0;\"/><path d=\"M59.9063,60.375 L59.9063,64.0469 L61.5313,64.0469 Q62.7031,64.0469 63.1719,63.6563 Q63.6406,63.25 63.6406,62.25 Q63.6406,61.25 63.1406,60.8125 Q62.6563,60.375 61.5313,60.375 L59.9063,60.375 Z M59.9063,55.5469 L59.9063,58.4219 L61.5313,58.4219 Q62.4531,58.4219 62.8438,58.0938 Q63.25,57.75 63.25,57 Q63.25,56.2344 62.8438,55.8906 Q62.4375,55.5469 61.5313,55.5469 L59.9063,55.5469 Z M57.5313,53.5938 L61.5313,53.5938 Q63.5938,53.5938 64.6406,54.375 Q65.6875,55.1563 65.6875,56.7188 Q65.6875,57.9219 65.0625,58.5938 Q64.4531,59.2656 63.2656,59.375 Q64.6875,59.5156 65.4063,60.3281 Q66.125,61.1406 66.125,62.5938 Q66.125,64.3906 65.0469,65.2031 Q63.9688,66 61.5313,66 L57.5313,66 L57.5313,53.5938 Z \"/><text fill=\"#000000\" font-family=\"sans-serif\" font-size=\"12\" lengthAdjust=\"spacingAndGlyphs\" textLength=\"8\" x=\"75\" y=\"64.1543\">C</text><line style=\"stroke: #A80036; stroke-width: 1.5;\" x1=\"47\" x2=\"85\" y1=\"76\" y2=\"76\"/></a><!--MD5=[270fce915f116d4de14055a7c1d9a0f3]\n",
       "class E5--><a href=\"psysml:e9e4e094-e1ef-4d59-8b5d-bef394effc04\" target=\"_top\" title=\"psysml:e9e4e094-e1ef-4d59-8b5d-bef394effc04\" xlink:actuate=\"onRequest\" xlink:href=\"psysml:e9e4e094-e1ef-4d59-8b5d-bef394effc04\" xlink:show=\"new\" xlink:title=\"psysml:e9e4e094-e1ef-4d59-8b5d-bef394effc04\" xlink:type=\"simple\"><rect fill=\"#FEFECE\" filter=\"url(#fzpdzo6a5bsul)\" height=\"45.9375\" id=\"E5\" rx=\"10\" ry=\"10\" style=\"stroke: #A80036; stroke-width: 1.5;\" width=\"68\" x=\"32\" y=\"147\"/><ellipse cx=\"47\" cy=\"165.9688\" fill=\"#32CD32\" rx=\"11\" ry=\"11\" style=\"stroke: #A80036; stroke-width: 1.0;\"/><path d=\"M46.7969,161.6406 L46.7969,165.2656 L47.7969,165.2656 Q49,165.2656 49.4844,164.8594 Q49.9688,164.4531 49.9688,163.4531 Q49.9688,162.4531 49.4844,162.0469 Q49,161.6406 47.7969,161.6406 L46.7969,161.6406 Z M44.3438,159.5781 L47.7031,159.5781 Q50.2656,159.5781 51.3906,160.5 Q52.5156,161.4063 52.5156,163.4531 Q52.5156,165.5 51.3906,166.4219 Q50.2656,167.3281 47.7031,167.3281 L46.7969,167.3281 L46.7969,171.9688 L44.3438,171.9688 L44.3438,159.5781 Z \"/><text fill=\"#000000\" font-family=\"sans-serif\" font-size=\"12\" font-style=\"italic\" lengthAdjust=\"spacingAndGlyphs\" textLength=\"40\" x=\"59\" y=\"163.1387\">«part»</text><text fill=\"#000000\" font-family=\"sans-serif\" font-size=\"12\" lengthAdjust=\"spacingAndGlyphs\" textLength=\"8\" x=\"75\" y=\"177.1074\">g</text><line style=\"stroke: #A80036; stroke-width: 1.5;\" x1=\"33\" x2=\"99\" y1=\"184.9375\" y2=\"184.9375\"/></a><!--MD5=[209b3feb70ccb6233bfe1053d122c12c]\n",
       "reverse link E2 to E3--><a href=\"psysml:c0fa1ef5-beff-4377-a65a-0adbb28c5765\" target=\"_top\" title=\"psysml:c0fa1ef5-beff-4377-a65a-0adbb28c5765\" xlink:actuate=\"onRequest\" xlink:href=\"psysml:c0fa1ef5-beff-4377-a65a-0adbb28c5765\" xlink:show=\"new\" xlink:title=\"psysml:c0fa1ef5-beff-4377-a65a-0adbb28c5765\" xlink:type=\"simple\"><path d=\"M169,100.44 C169,115.87 169,133.47 169,146.98 \" fill=\"none\" id=\"E2&lt;-E3\" style=\"stroke: #A80036; stroke-width: 1.0;\"/><polygon fill=\"#A80036\" points=\"169,87.06,165,93.06,169,99.06,173,93.06,169,87.06\" style=\"stroke: #A80036; stroke-width: 1.0;\"/></a><!--MD5=[62aa6af11e70f752912c1cb0466f24f7]\n",
       "reverse link E4 to E5--><a href=\"psysml:e9e4e094-e1ef-4d59-8b5d-bef394effc04\" target=\"_top\" title=\"psysml:e9e4e094-e1ef-4d59-8b5d-bef394effc04\" xlink:actuate=\"onRequest\" xlink:href=\"psysml:e9e4e094-e1ef-4d59-8b5d-bef394effc04\" xlink:show=\"new\" xlink:title=\"psysml:e9e4e094-e1ef-4d59-8b5d-bef394effc04\" xlink:type=\"simple\"><path d=\"M66,97.25 C66,113.33 66,132.37 66,146.8 \" fill=\"none\" id=\"E4&lt;-E5\" style=\"stroke: #A80036; stroke-width: 1.0;\"/><polygon fill=\"#A80036\" points=\"66,84.08,62,90.08,66,96.08,70,90.08,66,84.08\" style=\"stroke: #A80036; stroke-width: 1.0;\"/></a><!--MD5=[5a8212de11c99f3ba8c6bc0e02052281]\n",
       "@startuml\r\n",
       " \r\n",
       "package \"Q\" as E1  [[psysml:2f37afb0-cd4e-4fb5-8035-2782344ffa0d ]]  {\r\n",
       "comp usage \"f\" as E2  << (P,limegreen) part>> [[psysml:808101de-d573-40e0-bd9c-1a41ac0023c1 ]] {\r\n",
       "}\r\n",
       "comp usage \"a\" as E3  << (P,limegreen) part>> [[psysml:c0fa1ef5-beff-4377-a65a-0adbb28c5765 ]] {\r\n",
       "}\r\n",
       "comp def \"C\" as E4  << (B,green) >> [[psysml:ae693b7b-cdf9-497f-b28d-123f2277c02f ]] {\r\n",
       "}\r\n",
       "comp usage \"g\" as E5  << (P,limegreen) part>> [[psysml:e9e4e094-e1ef-4d59-8b5d-bef394effc04 ]] {\r\n",
       "}\r\n",
       "E2 *- - E3 [[psysml:c0fa1ef5-beff-4377-a65a-0adbb28c5765 ]] \r\n",
       "E4 *- - E5 [[psysml:e9e4e094-e1ef-4d59-8b5d-bef394effc04 ]] \r\n",
       "}\r\n",
       "@enduml\r\n",
       "\n",
       "PlantUML version 1.2020.13(Sat Jun 13 12:26:38 UTC 2020)\n",
       "(EPL source distribution)\n",
       "Java Runtime: OpenJDK Runtime Environment\n",
       "JVM: OpenJDK 64-Bit Server VM\n",
       "Default Encoding: UTF-8\n",
       "Language: en\n",
       "Country: null\n",
       "--></g></svg>"
      ]
     },
     "execution_count": 30,
     "metadata": {},
     "output_type": "execute_result"
    }
   ],
   "source": [
    "%viz --style=\"PLANTUML\" --view=\"Default\" \"Q\""
   ]
  },
  {
   "cell_type": "code",
   "execution_count": 31,
   "id": "laughing-senator",
   "metadata": {
    "execution": {
     "iopub.execute_input": "2021-03-26T12:08:01.997687Z",
     "iopub.status.busy": "2021-03-26T12:08:01.996576Z",
     "iopub.status.idle": "2021-03-26T12:08:02.027535Z",
     "shell.execute_reply": "2021-03-26T12:08:02.026246Z"
    }
   },
   "outputs": [
    {
     "data": {
      "image/svg+xml": [
       "<?xml version=\"1.0\" encoding=\"UTF-8\" standalone=\"no\"?><svg xmlns=\"http://www.w3.org/2000/svg\" xmlns:xlink=\"http://www.w3.org/1999/xlink\" contentScriptType=\"application/ecmascript\" contentStyleType=\"text/css\" height=\"221px\" preserveAspectRatio=\"none\" style=\"width:241px;height:221px;\" version=\"1.1\" viewBox=\"0 0 241 221\" width=\"241px\" zoomAndPan=\"magnify\"><defs><filter height=\"300%\" id=\"fzpdzo6a5bsul\" width=\"300%\" x=\"-1\" y=\"-1\"><feGaussianBlur result=\"blurOut\" stdDeviation=\"2.0\"/><feColorMatrix in=\"blurOut\" result=\"blurOut2\" type=\"matrix\" values=\"0 0 0 0 0 0 0 0 0 0 0 0 0 0 0 0 0 0 .4 0\"/><feOffset dx=\"4.0\" dy=\"4.0\" in=\"blurOut2\" result=\"blurOut3\"/><feBlend in=\"SourceGraphic\" in2=\"blurOut3\" mode=\"normal\"/></filter></defs><g><!--MD5=[fbc87193dbaf4d95561dea2c320d4a47]\n",
       "cluster E1--><a href=\"psysml:2f37afb0-cd4e-4fb5-8035-2782344ffa0d\" target=\"_top\" title=\"psysml:2f37afb0-cd4e-4fb5-8035-2782344ffa0d\" xlink:actuate=\"onRequest\" xlink:href=\"psysml:2f37afb0-cd4e-4fb5-8035-2782344ffa0d\" xlink:show=\"new\" xlink:title=\"psysml:2f37afb0-cd4e-4fb5-8035-2782344ffa0d\" xlink:type=\"simple\"><polygon fill=\"#FFFFFF\" filter=\"url(#fzpdzo6a5bsul)\" points=\"16,6,34,6,41,28.2969,219,28.2969,219,209,16,209,16,6\" style=\"stroke: #000000; stroke-width: 1.5;\"/><line style=\"stroke: #000000; stroke-width: 1.5;\" x1=\"16\" x2=\"41\" y1=\"28.2969\" y2=\"28.2969\"/><text fill=\"#000000\" font-family=\"sans-serif\" font-size=\"14\" font-weight=\"bold\" lengthAdjust=\"spacingAndGlyphs\" textLength=\"12\" x=\"20\" y=\"20.9951\">Q</text></a><!--MD5=[b4997ac47864f28c2f74865a473b2911]\n",
       "class E2--><a href=\"psysml:808101de-d573-40e0-bd9c-1a41ac0023c1\" target=\"_top\" title=\"psysml:808101de-d573-40e0-bd9c-1a41ac0023c1\" xlink:actuate=\"onRequest\" xlink:href=\"psysml:808101de-d573-40e0-bd9c-1a41ac0023c1\" xlink:show=\"new\" xlink:title=\"psysml:808101de-d573-40e0-bd9c-1a41ac0023c1\" xlink:type=\"simple\"><rect fill=\"#FEFECE\" filter=\"url(#fzpdzo6a5bsul)\" height=\"45.9375\" id=\"E2\" rx=\"10\" ry=\"10\" style=\"stroke: #A80036; stroke-width: 1.5;\" width=\"68\" x=\"135\" y=\"41\"/><ellipse cx=\"150\" cy=\"59.9688\" fill=\"#32CD32\" rx=\"11\" ry=\"11\" style=\"stroke: #A80036; stroke-width: 1.0;\"/><path d=\"M149.7969,55.6406 L149.7969,59.2656 L150.7969,59.2656 Q152,59.2656 152.4844,58.8594 Q152.9688,58.4531 152.9688,57.4531 Q152.9688,56.4531 152.4844,56.0469 Q152,55.6406 150.7969,55.6406 L149.7969,55.6406 Z M147.3438,53.5781 L150.7031,53.5781 Q153.2656,53.5781 154.3906,54.5 Q155.5156,55.4063 155.5156,57.4531 Q155.5156,59.5 154.3906,60.4219 Q153.2656,61.3281 150.7031,61.3281 L149.7969,61.3281 L149.7969,65.9688 L147.3438,65.9688 L147.3438,53.5781 Z \"/><text fill=\"#000000\" font-family=\"sans-serif\" font-size=\"12\" font-style=\"italic\" lengthAdjust=\"spacingAndGlyphs\" textLength=\"40\" x=\"162\" y=\"57.1387\">«part»</text><text fill=\"#000000\" font-family=\"sans-serif\" font-size=\"12\" lengthAdjust=\"spacingAndGlyphs\" textLength=\"4\" x=\"180\" y=\"71.1074\">f</text><line style=\"stroke: #A80036; stroke-width: 1.5;\" x1=\"136\" x2=\"202\" y1=\"78.9375\" y2=\"78.9375\"/></a><!--MD5=[09b614a08d8cba4a07c9adeb5e0fee81]\n",
       "class E3--><a href=\"psysml:c0fa1ef5-beff-4377-a65a-0adbb28c5765\" target=\"_top\" title=\"psysml:c0fa1ef5-beff-4377-a65a-0adbb28c5765\" xlink:actuate=\"onRequest\" xlink:href=\"psysml:c0fa1ef5-beff-4377-a65a-0adbb28c5765\" xlink:show=\"new\" xlink:title=\"psysml:c0fa1ef5-beff-4377-a65a-0adbb28c5765\" xlink:type=\"simple\"><rect fill=\"#FEFECE\" filter=\"url(#fzpdzo6a5bsul)\" height=\"45.9375\" id=\"E3\" rx=\"10\" ry=\"10\" style=\"stroke: #A80036; stroke-width: 1.5;\" width=\"68\" x=\"135\" y=\"147\"/><ellipse cx=\"150\" cy=\"165.9688\" fill=\"#32CD32\" rx=\"11\" ry=\"11\" style=\"stroke: #A80036; stroke-width: 1.0;\"/><path d=\"M149.7969,161.6406 L149.7969,165.2656 L150.7969,165.2656 Q152,165.2656 152.4844,164.8594 Q152.9688,164.4531 152.9688,163.4531 Q152.9688,162.4531 152.4844,162.0469 Q152,161.6406 150.7969,161.6406 L149.7969,161.6406 Z M147.3438,159.5781 L150.7031,159.5781 Q153.2656,159.5781 154.3906,160.5 Q155.5156,161.4063 155.5156,163.4531 Q155.5156,165.5 154.3906,166.4219 Q153.2656,167.3281 150.7031,167.3281 L149.7969,167.3281 L149.7969,171.9688 L147.3438,171.9688 L147.3438,159.5781 Z \"/><text fill=\"#000000\" font-family=\"sans-serif\" font-size=\"12\" font-style=\"italic\" lengthAdjust=\"spacingAndGlyphs\" textLength=\"40\" x=\"162\" y=\"163.1387\">«part»</text><text fill=\"#000000\" font-family=\"sans-serif\" font-size=\"12\" lengthAdjust=\"spacingAndGlyphs\" textLength=\"8\" x=\"178\" y=\"177.1074\">a</text><line style=\"stroke: #A80036; stroke-width: 1.5;\" x1=\"136\" x2=\"202\" y1=\"184.9375\" y2=\"184.9375\"/></a><!--MD5=[ebbe1d658d1005bcc118a6aa81145e00]\n",
       "class E4--><a href=\"psysml:ae693b7b-cdf9-497f-b28d-123f2277c02f\" target=\"_top\" title=\"psysml:ae693b7b-cdf9-497f-b28d-123f2277c02f\" xlink:actuate=\"onRequest\" xlink:href=\"psysml:ae693b7b-cdf9-497f-b28d-123f2277c02f\" xlink:show=\"new\" xlink:title=\"psysml:ae693b7b-cdf9-497f-b28d-123f2277c02f\" xlink:type=\"simple\"><rect fill=\"#FEFECE\" filter=\"url(#fzpdzo6a5bsul)\" height=\"40\" id=\"E4\" style=\"stroke: #A80036; stroke-width: 1.5;\" width=\"40\" x=\"46\" y=\"44\"/><ellipse cx=\"61\" cy=\"60\" fill=\"#008000\" rx=\"11\" ry=\"11\" style=\"stroke: #A80036; stroke-width: 1.0;\"/><path d=\"M59.9063,60.375 L59.9063,64.0469 L61.5313,64.0469 Q62.7031,64.0469 63.1719,63.6563 Q63.6406,63.25 63.6406,62.25 Q63.6406,61.25 63.1406,60.8125 Q62.6563,60.375 61.5313,60.375 L59.9063,60.375 Z M59.9063,55.5469 L59.9063,58.4219 L61.5313,58.4219 Q62.4531,58.4219 62.8438,58.0938 Q63.25,57.75 63.25,57 Q63.25,56.2344 62.8438,55.8906 Q62.4375,55.5469 61.5313,55.5469 L59.9063,55.5469 Z M57.5313,53.5938 L61.5313,53.5938 Q63.5938,53.5938 64.6406,54.375 Q65.6875,55.1563 65.6875,56.7188 Q65.6875,57.9219 65.0625,58.5938 Q64.4531,59.2656 63.2656,59.375 Q64.6875,59.5156 65.4063,60.3281 Q66.125,61.1406 66.125,62.5938 Q66.125,64.3906 65.0469,65.2031 Q63.9688,66 61.5313,66 L57.5313,66 L57.5313,53.5938 Z \"/><text fill=\"#000000\" font-family=\"sans-serif\" font-size=\"12\" lengthAdjust=\"spacingAndGlyphs\" textLength=\"8\" x=\"75\" y=\"64.1543\">C</text><line style=\"stroke: #A80036; stroke-width: 1.5;\" x1=\"47\" x2=\"85\" y1=\"76\" y2=\"76\"/></a><!--MD5=[270fce915f116d4de14055a7c1d9a0f3]\n",
       "class E5--><a href=\"psysml:e9e4e094-e1ef-4d59-8b5d-bef394effc04\" target=\"_top\" title=\"psysml:e9e4e094-e1ef-4d59-8b5d-bef394effc04\" xlink:actuate=\"onRequest\" xlink:href=\"psysml:e9e4e094-e1ef-4d59-8b5d-bef394effc04\" xlink:show=\"new\" xlink:title=\"psysml:e9e4e094-e1ef-4d59-8b5d-bef394effc04\" xlink:type=\"simple\"><rect fill=\"#FEFECE\" filter=\"url(#fzpdzo6a5bsul)\" height=\"45.9375\" id=\"E5\" rx=\"10\" ry=\"10\" style=\"stroke: #A80036; stroke-width: 1.5;\" width=\"68\" x=\"32\" y=\"147\"/><ellipse cx=\"47\" cy=\"165.9688\" fill=\"#32CD32\" rx=\"11\" ry=\"11\" style=\"stroke: #A80036; stroke-width: 1.0;\"/><path d=\"M46.7969,161.6406 L46.7969,165.2656 L47.7969,165.2656 Q49,165.2656 49.4844,164.8594 Q49.9688,164.4531 49.9688,163.4531 Q49.9688,162.4531 49.4844,162.0469 Q49,161.6406 47.7969,161.6406 L46.7969,161.6406 Z M44.3438,159.5781 L47.7031,159.5781 Q50.2656,159.5781 51.3906,160.5 Q52.5156,161.4063 52.5156,163.4531 Q52.5156,165.5 51.3906,166.4219 Q50.2656,167.3281 47.7031,167.3281 L46.7969,167.3281 L46.7969,171.9688 L44.3438,171.9688 L44.3438,159.5781 Z \"/><text fill=\"#000000\" font-family=\"sans-serif\" font-size=\"12\" font-style=\"italic\" lengthAdjust=\"spacingAndGlyphs\" textLength=\"40\" x=\"59\" y=\"163.1387\">«part»</text><text fill=\"#000000\" font-family=\"sans-serif\" font-size=\"12\" lengthAdjust=\"spacingAndGlyphs\" textLength=\"8\" x=\"75\" y=\"177.1074\">g</text><line style=\"stroke: #A80036; stroke-width: 1.5;\" x1=\"33\" x2=\"99\" y1=\"184.9375\" y2=\"184.9375\"/></a><!--MD5=[209b3feb70ccb6233bfe1053d122c12c]\n",
       "reverse link E2 to E3--><a href=\"psysml:c0fa1ef5-beff-4377-a65a-0adbb28c5765\" target=\"_top\" title=\"psysml:c0fa1ef5-beff-4377-a65a-0adbb28c5765\" xlink:actuate=\"onRequest\" xlink:href=\"psysml:c0fa1ef5-beff-4377-a65a-0adbb28c5765\" xlink:show=\"new\" xlink:title=\"psysml:c0fa1ef5-beff-4377-a65a-0adbb28c5765\" xlink:type=\"simple\"><path d=\"M169,100.44 C169,115.87 169,133.47 169,146.98 \" fill=\"none\" id=\"E2&lt;-E3\" style=\"stroke: #A80036; stroke-width: 1.0;\"/><polygon fill=\"#A80036\" points=\"169,87.06,165,93.06,169,99.06,173,93.06,169,87.06\" style=\"stroke: #A80036; stroke-width: 1.0;\"/></a><!--MD5=[62aa6af11e70f752912c1cb0466f24f7]\n",
       "reverse link E4 to E5--><a href=\"psysml:e9e4e094-e1ef-4d59-8b5d-bef394effc04\" target=\"_top\" title=\"psysml:e9e4e094-e1ef-4d59-8b5d-bef394effc04\" xlink:actuate=\"onRequest\" xlink:href=\"psysml:e9e4e094-e1ef-4d59-8b5d-bef394effc04\" xlink:show=\"new\" xlink:title=\"psysml:e9e4e094-e1ef-4d59-8b5d-bef394effc04\" xlink:type=\"simple\"><path d=\"M66,97.25 C66,113.33 66,132.37 66,146.8 \" fill=\"none\" id=\"E4&lt;-E5\" style=\"stroke: #A80036; stroke-width: 1.0;\"/><polygon fill=\"#A80036\" points=\"66,84.08,62,90.08,66,96.08,70,90.08,66,84.08\" style=\"stroke: #A80036; stroke-width: 1.0;\"/></a><!--MD5=[5a8212de11c99f3ba8c6bc0e02052281]\n",
       "@startuml\r\n",
       " \r\n",
       "package \"Q\" as E1  [[psysml:2f37afb0-cd4e-4fb5-8035-2782344ffa0d ]]  {\r\n",
       "comp usage \"f\" as E2  << (P,limegreen) part>> [[psysml:808101de-d573-40e0-bd9c-1a41ac0023c1 ]] {\r\n",
       "}\r\n",
       "comp usage \"a\" as E3  << (P,limegreen) part>> [[psysml:c0fa1ef5-beff-4377-a65a-0adbb28c5765 ]] {\r\n",
       "}\r\n",
       "comp def \"C\" as E4  << (B,green) >> [[psysml:ae693b7b-cdf9-497f-b28d-123f2277c02f ]] {\r\n",
       "}\r\n",
       "comp usage \"g\" as E5  << (P,limegreen) part>> [[psysml:e9e4e094-e1ef-4d59-8b5d-bef394effc04 ]] {\r\n",
       "}\r\n",
       "E2 *- - E3 [[psysml:c0fa1ef5-beff-4377-a65a-0adbb28c5765 ]] \r\n",
       "E4 *- - E5 [[psysml:e9e4e094-e1ef-4d59-8b5d-bef394effc04 ]] \r\n",
       "}\r\n",
       "@enduml\r\n",
       "\n",
       "PlantUML version 1.2020.13(Sat Jun 13 12:26:38 UTC 2020)\n",
       "(EPL source distribution)\n",
       "Java Runtime: OpenJDK Runtime Environment\n",
       "JVM: OpenJDK 64-Bit Server VM\n",
       "Default Encoding: UTF-8\n",
       "Language: en\n",
       "Country: null\n",
       "--></g></svg>"
      ]
     },
     "execution_count": 31,
     "metadata": {},
     "output_type": "execute_result"
    }
   ],
   "source": [
    "%viz --style=\"PLANTUML\" --view=\"Tree\" \"Q\""
   ]
  },
  {
   "cell_type": "code",
   "execution_count": 32,
   "id": "plain-madness",
   "metadata": {
    "execution": {
     "iopub.execute_input": "2021-03-26T12:08:02.080043Z",
     "iopub.status.busy": "2021-03-26T12:08:02.079266Z",
     "iopub.status.idle": "2021-03-26T12:08:02.242095Z",
     "shell.execute_reply": "2021-03-26T12:08:02.240612Z"
    }
   },
   "outputs": [
    {
     "data": {
      "image/svg+xml": [
       "<?xml version=\"1.0\" encoding=\"UTF-8\" standalone=\"no\"?><svg xmlns=\"http://www.w3.org/2000/svg\" xmlns:xlink=\"http://www.w3.org/1999/xlink\" contentScriptType=\"application/ecmascript\" contentStyleType=\"text/css\" height=\"410px\" preserveAspectRatio=\"none\" style=\"width:603px;height:410px;background:#000000;\" version=\"1.1\" viewBox=\"0 0 603 410\" width=\"603px\" zoomAndPan=\"magnify\"><defs/><g><rect fill=\"#162215\" height=\"1\" style=\"stroke: #162215; stroke-width: 1.0;\" width=\"1\" x=\"0\" y=\"0\"/><rect fill=\"#FFFFFF\" height=\"53\" style=\"stroke: #FFFFFF; stroke-width: 1.0;\" width=\"602\" x=\"0\" y=\"0\"/><image height=\"53\" width=\"450\" x=\"1\" xlink:href=\"data:image/png;base64,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\" y=\"1\"/><rect fill=\"#FFFFFF\" height=\"205.5625\" style=\"stroke: #FFFFFF; stroke-width: 1.0;\" width=\"602\" x=\"0\" y=\"53\"/><text fill=\"#000000\" font-family=\"sans-serif\" font-size=\"12\" font-weight=\"bold\" lengthAdjust=\"spacingAndGlyphs\" textLength=\"159\" x=\"5\" y=\"69.1387\">Welcome to PlantUML!</text><text fill=\"#000000\" font-family=\"sans-serif\" font-size=\"12\" lengthAdjust=\"spacingAndGlyphs\" textLength=\"0\" x=\"9\" y=\"83.1074\"/><text fill=\"#000000\" font-family=\"sans-serif\" font-size=\"12\" lengthAdjust=\"spacingAndGlyphs\" textLength=\"293\" x=\"5\" y=\"97.0762\">If you use this software, you accept its license.</text><text fill=\"#000000\" font-family=\"sans-serif\" font-size=\"12\" lengthAdjust=\"spacingAndGlyphs\" textLength=\"107\" x=\"5\" y=\"111.0449\">(details by typing</text><text fill=\"#000000\" font-family=\"monospace\" font-size=\"12\" lengthAdjust=\"spacingAndGlyphs\" textLength=\"49\" x=\"116\" y=\"111.0449\">license</text><text fill=\"#000000\" font-family=\"sans-serif\" font-size=\"12\" lengthAdjust=\"spacingAndGlyphs\" textLength=\"56\" x=\"169\" y=\"111.0449\">keyword)</text><text fill=\"#000000\" font-family=\"sans-serif\" font-size=\"12\" lengthAdjust=\"spacingAndGlyphs\" textLength=\"0\" x=\"9\" y=\"125.0137\"/><text fill=\"#000000\" font-family=\"sans-serif\" font-size=\"12\" lengthAdjust=\"spacingAndGlyphs\" textLength=\"283\" x=\"5\" y=\"138.9824\">You can start with a simple UML Diagram like:</text><text fill=\"#000000\" font-family=\"sans-serif\" font-size=\"12\" lengthAdjust=\"spacingAndGlyphs\" textLength=\"0\" x=\"9\" y=\"152.9512\"/><text fill=\"#000000\" font-family=\"monospace\" font-size=\"12\" lengthAdjust=\"spacingAndGlyphs\" textLength=\"119\" x=\"5\" y=\"166.9199\">Bob-&gt;Alice: Hello</text><text fill=\"#000000\" font-family=\"sans-serif\" font-size=\"12\" lengthAdjust=\"spacingAndGlyphs\" textLength=\"0\" x=\"9\" y=\"180.8887\"/><text fill=\"#000000\" font-family=\"sans-serif\" font-size=\"12\" lengthAdjust=\"spacingAndGlyphs\" textLength=\"14\" x=\"5\" y=\"194.8574\">Or</text><text fill=\"#000000\" font-family=\"sans-serif\" font-size=\"12\" lengthAdjust=\"spacingAndGlyphs\" textLength=\"0\" x=\"9\" y=\"208.8262\"/><text fill=\"#000000\" font-family=\"monospace\" font-size=\"12\" lengthAdjust=\"spacingAndGlyphs\" textLength=\"91\" x=\"5\" y=\"222.7949\">class Example</text><text fill=\"#000000\" font-family=\"sans-serif\" font-size=\"12\" lengthAdjust=\"spacingAndGlyphs\" textLength=\"0\" x=\"9\" y=\"236.7637\"/><text fill=\"#000000\" font-family=\"sans-serif\" font-size=\"12\" lengthAdjust=\"spacingAndGlyphs\" textLength=\"349\" x=\"5\" y=\"250.7324\">You will find more information about PlantUML syntax on</text><text fill=\"#000000\" font-family=\"sans-serif\" font-size=\"12\" lengthAdjust=\"spacingAndGlyphs\" text-decoration=\"underline\" textLength=\"129\" x=\"358\" y=\"250.7324\">https://plantuml.com</text><image height=\"71\" width=\"80\" x=\"516\" xlink:href=\"data:image/png;base64,iVBORw0KGgoAAAANSUhEUgAAAFAAAABHCAMAAACnHDC8AAADAFBMVEX///+BpbvD3u/f7vfPz8+nz+g3ksuZEDkWADr/ujlvsdpTodLCwsOLwOEbg8T//v6pqamZETnLysvT09To5+jqLS4VATj9/f27u7vDw8MTfsK+v7/j4+SOweJprdjL4/KxsbEri8jk8PgXa57c29uUETez1utQoNJ1tNtEmc9cptWBut6ayOW/3O6YEDjY6vUfhcXBwcHs7Ozw9/v83t79uTn7+/vX19ehoaHx8fG2tLXHx8fuVlfrNTYaBjn/vUH5+fmko6WXl5f/+fn95ub+9PT+8PD3qKidmaMxIUrnqDWcFj7n5eX09PTu7u2SkpKfnZ6rq6z0lJTm4tzJrHUfDT339/eFGDn6tjcrEzOvrbBuZ3l4eomSMS7Hz9Smpqasu8SFiYuQETfa2du1m6OOM051J0NWTWL5xse4uLj6zc33r6/4vb7ydHXqLi/72dntTE3tR0ijbn5jW3C+u8NANVQrG0XFubqRVGZza4GQGT2VaS7a0NPJtI6IJj/zszrfqkXXzr/Hw8cgC0LUqltOQ2JsSC5bTGjOpFafSi2+iDGtyt14m7TJhTCPJUSwoIG/qa+ikHiIgpCRHjI9j8KXbnaQH0FLf6FGPlp0cnYyKE2rg49Wj7dFXHmcwtrp6uu+xMjvYWLvW1z97e3sPD3sP0DuUlP709PYzdDPmzqZWWySRVygfHHd1smWkZ+PgnibETqsl260q5fLuppJLC/dpj2HPFLTtHv/ujrTwJy5s6iWjIi0iD3joTTCmU3trjuvZS2zlFvjq0HSyLbYp0qRts10XGxEKC9yPVBQZIOPdlNvMk2NeYNqRlujtcCVrr3j5eY1gK9Qn9GLp7lbeJXRxrCkiZDaozyukoJ+H0B3rc+OYy+iprJkYXdhmr6ee0afs79xq9BikrGKjI3FomEiLFO0ay6nfIm4pZXRjTFuhZSZWm0zcZyJN0KNTk4eebNfdIGGlZ93h5kcED5nOVYyRWbziIk9dJ4kerE5ZYxRUnLG1d7p8PTvY2PtTk/1nZ1ycV/bAAAFx0lEQVR4Xu1Ye1BUVRg/e3dhl4csKyxqPlBJQVETF2icAY13GogkEFqizqRRpoBpTCIapaUOhWNjUdOMSBpqJYZTg4KigFKADzSIVZ4qD5VFluXhLgvbPee+r49R7v2z3+zcc77fOfPb7zvfPd85uwCIhwT4wPisANwPAuIKHnbHH1I+KwAXDA18ShDW58CneCEnXl8JGwmfHylCPSvlZ/FWxh8YIRIxTWkZAEofkTz8sNq7tAqE2gODOB6GYZobVaH20SVZ4oQcdmXV0L7c4b8OFvJHRoYwdVIoyPX3gxtFDA+V8e6mM8pBoCjij4wQiWo/ALzV/kpkifBi13p4waZuGrJEECycixcEVSbYgFwUozg4/qSraOxrP7O8Eogj2HDxyMWmzpk6823+yIjhvR7fLOpDsCuGhwC0WfbkjQq8A0MWC0EgIYzPCYMymM8Iwcvz6K4IWw8skTrgq3iPMIQnxdfKrvyedpyvbSsyBQt6zcH6OxXmjqYxg9PbgXBBveK6aRAXNEl1Ssc+hz7Bgntyohb/ggQlNrrdzfIuoYKSb79067PrRoLmGo25SeghJRn1yMrSbPTptZaoBlwtlWbBHspxiW+mW8+46ereVnMXGxbFQ+mjofiHZTrclJn5E14UEgdrO9tRVph0HDJlYlRsLv4XFA7RBA1kK5ogBb7gtn08AvxWymc2b+YzLHC3nnOCNHvdayUsZpnnwnPqGf+yGKcPKlv92vtJC209zGyRWJmgyd16sSGGT/AmM2rdKZKZHxwCz7KUodLzJOO8th4OBqxdo0c2tfUkNr3QlJkZQWWMBP0uwBHvmQQb3zRVCMnsMO6ATazf3f0kkza0HTaPCdIhpyTknqP61Te1eV2gRpr1FUn4xtxRT72pDHhj09/UnBLjiv72p4d8FEtlLibBd7Qg0xK5+XfS9q2AzxSVHPnNIMBS8BQPw8N1W4glQWj0mtp4+nSHhvKYOM4GL6vH1jGTcDQ3p1979AQPI5agXEDYwuS5awknJ73rHU56RyLAr6ACpO5iMRGvp3XykjImgs4Fgm2/7URc8dhbeD9jdhYVNon0mdFcAjTIXbmC75VrmVHcQ+JDIXbuNmYUYlZoYx6XcWjKTWavYXd1WzU9OEh9wLFfEVFza5PEhVhDAvfLx60cWM3ePMa9hyZG5DNr6DbQiCUcYU0AKGzGyYxlkf+wxnCk+wdwCbA/TkWH7Dbgoq8dcmKNssQQ3F/JmMxlIj/fzo/7s9OIwUMebbYzbh2zLfk7ehBGzIau6OeO+xzGKlBRwCGAXNaCFgYbRoKG+hMTfMff4M6h0LYxpmv/92ym9tIxc4uRzawynCEWGhum7odf9/75vh8zg0bKijX5AMxhMacsK8pBxaJihtnQqr1KG8yFMzq/dutJ2iKwNCbXA7Yamsm2Xn0XtgtowY3Xy8rpYc4NNqon8eM49k+NtzU55GtMleGAkNR6oldDMhH+e9EX0JB+UYKv4WgLZrLCjHV7wnyYlzJZvYV6A6d1w6xEph842UUyTkjGIbzwRA/JIOBJKSt88yglqND1h6TpiQqQV99wmJ7nknQcgIIHqd00EwSzgudigGYQUHE4qFMcGJb22kp7lNop8p6znStvg5S2e1TVRti56w/zj8fZzKLiDa317MqBQFbs+J3dcbSgo+H4D0kLOokJ82/NR8KZbp9eIZgllwKR8Ec1ejIX827POk/06HpYffGd5dkoZJXMqDAVXd1Nbhavlx4OyuAiPcyAF3Ick8faXAuE5WToApkMxykL1PbNRJ91SDkXOyymPFR1UMlw9GjRPKCrPsRSvUnbzbkELj2PSSRkQLiH1AvROTutlpryLHQAoCD+C2BBP4npMwd9zsIgzgaDsK+bctmVw3hetai5t9RS4PEqub4QnCvxteGzOZyQXxjscxkhHisWKMi72+T0p1dxGeGYkG0ez+eeG7In/n/oNOexC9fzIiLvPxVtKp84iza+AAAAAElFTkSuQmCC\" y=\"59\"/><rect fill=\"#000000\" height=\"96.4844\" style=\"stroke: #000000; stroke-width: 1.0;\" width=\"602\" x=\"0\" y=\"258.5625\"/><rect fill=\"#33FF02\" height=\"21.2969\" style=\"stroke: #33FF02; stroke-width: 1.0;\" width=\"170\" x=\"5\" y=\"263.5625\"/><text fill=\"#000000\" font-family=\"sans-serif\" font-size=\"14\" font-weight=\"bold\" lengthAdjust=\"spacingAndGlyphs\" textLength=\"168\" x=\"6\" y=\"278.5625\">[From string (line 2) ]</text><text fill=\"#33FF02\" font-family=\"sans-serif\" font-size=\"14\" font-weight=\"bold\" lengthAdjust=\"spacingAndGlyphs\" textLength=\"0\" x=\"10\" y=\"298.8594\"/><text fill=\"#33FF02\" font-family=\"sans-serif\" font-size=\"14\" font-weight=\"bold\" lengthAdjust=\"spacingAndGlyphs\" textLength=\"79\" x=\"5\" y=\"315.1563\">@startuml</text><text fill=\"#33FF02\" font-family=\"sans-serif\" font-size=\"14\" font-weight=\"bold\" lengthAdjust=\"spacingAndGlyphs\" textLength=\"0\" x=\"10\" y=\"331.4531\"/><text fill=\"#FF0000\" font-family=\"sans-serif\" font-size=\"14\" font-weight=\"bold\" lengthAdjust=\"spacingAndGlyphs\" textLength=\"142\" x=\"10\" y=\"347.75\">Empty description</text><rect fill=\"#FFFFFF\" height=\"53\" style=\"stroke: #FFFFFF; stroke-width: 1.0;\" width=\"602\" x=\"0\" y=\"355.0469\"/><image height=\"53\" width=\"450\" x=\"1\" xlink:href=\"data:image/png;base64,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\" y=\"356.0469\"/><!--MD5=[f59edd8218d337f74d0c332fc6737304]\n",
       "@startuml\r\n",
       " \r\n",
       "@enduml\r\n",
       "\n",
       "PlantUML version 1.2020.13(Sat Jun 13 12:26:38 UTC 2020)\n",
       "(EPL source distribution)\n",
       "Java Runtime: OpenJDK Runtime Environment\n",
       "JVM: OpenJDK 64-Bit Server VM\n",
       "Default Encoding: UTF-8\n",
       "Language: en\n",
       "Country: null\n",
       "--></g></svg>"
      ]
     },
     "execution_count": 32,
     "metadata": {},
     "output_type": "execute_result"
    }
   ],
   "source": [
    "%viz --style=\"PLANTUML\" --view=\"State\" \"Q\""
   ]
  },
  {
   "cell_type": "code",
   "execution_count": 33,
   "id": "offensive-debut",
   "metadata": {
    "execution": {
     "iopub.execute_input": "2021-03-26T12:08:02.292174Z",
     "iopub.status.busy": "2021-03-26T12:08:02.291833Z",
     "iopub.status.idle": "2021-03-26T12:08:02.320941Z",
     "shell.execute_reply": "2021-03-26T12:08:02.319834Z"
    }
   },
   "outputs": [
    {
     "data": {
      "image/svg+xml": [
       "<?xml version=\"1.0\" encoding=\"UTF-8\" standalone=\"no\"?><svg xmlns=\"http://www.w3.org/2000/svg\" xmlns:xlink=\"http://www.w3.org/1999/xlink\" contentScriptType=\"application/ecmascript\" contentStyleType=\"text/css\" height=\"176px\" preserveAspectRatio=\"none\" style=\"width:274px;height:176px;\" version=\"1.1\" viewBox=\"0 0 274 176\" width=\"274px\" zoomAndPan=\"magnify\"><defs><filter height=\"300%\" id=\"fhgluhjl9jc6m\" width=\"300%\" x=\"-1\" y=\"-1\"><feGaussianBlur result=\"blurOut\" stdDeviation=\"2.0\"/><feColorMatrix in=\"blurOut\" result=\"blurOut2\" type=\"matrix\" values=\"0 0 0 0 0 0 0 0 0 0 0 0 0 0 0 0 0 0 .4 0\"/><feOffset dx=\"4.0\" dy=\"4.0\" in=\"blurOut2\" result=\"blurOut3\"/><feBlend in=\"SourceGraphic\" in2=\"blurOut3\" mode=\"normal\"/></filter></defs><g><!--MD5=[fbc87193dbaf4d95561dea2c320d4a47]\n",
       "cluster E1--><a href=\"psysml:2f37afb0-cd4e-4fb5-8035-2782344ffa0d\" target=\"_top\" title=\"psysml:2f37afb0-cd4e-4fb5-8035-2782344ffa0d\" xlink:actuate=\"onRequest\" xlink:href=\"psysml:2f37afb0-cd4e-4fb5-8035-2782344ffa0d\" xlink:show=\"new\" xlink:title=\"psysml:2f37afb0-cd4e-4fb5-8035-2782344ffa0d\" xlink:type=\"simple\"><polygon fill=\"#FFFFFF\" filter=\"url(#fhgluhjl9jc6m)\" points=\"16,6,34,6,41,28.2969,252,28.2969,252,164,16,164,16,6\" style=\"stroke: #000000; stroke-width: 1.5;\"/><line style=\"stroke: #000000; stroke-width: 1.5;\" x1=\"16\" x2=\"41\" y1=\"28.2969\" y2=\"28.2969\"/><text fill=\"#000000\" font-family=\"sans-serif\" font-size=\"14\" font-weight=\"bold\" lengthAdjust=\"spacingAndGlyphs\" textLength=\"12\" x=\"20\" y=\"20.9951\">Q</text></a><!--MD5=[e4f7fae6ed58524ba242bb0b0d3be6b7]\n",
       "cluster E2--><a href=\"psysml:808101de-d573-40e0-bd9c-1a41ac0023c1\" target=\"_top\" title=\"psysml:808101de-d573-40e0-bd9c-1a41ac0023c1\" xlink:actuate=\"onRequest\" xlink:href=\"psysml:808101de-d573-40e0-bd9c-1a41ac0023c1\" xlink:show=\"new\" xlink:title=\"psysml:808101de-d573-40e0-bd9c-1a41ac0023c1\" xlink:type=\"simple\"><rect fill=\"#FFFFFF\" filter=\"url(#fhgluhjl9jc6m)\" height=\"91\" id=\"E2\" rx=\"10\" ry=\"10\" style=\"stroke: #A80036; stroke-width: 1.5;\" width=\"82\" x=\"146\" y=\"49\"/><rect fill=\"#FEFECE\" height=\"23.9688\" rx=\"10\" ry=\"10\" style=\"stroke: #FEFECE; stroke-width: 1.5;\" width=\"82\" x=\"146\" y=\"49\"/><rect fill=\"#FEFECE\" height=\"10\" style=\"stroke: #FEFECE; stroke-width: 1.5;\" width=\"82\" x=\"146\" y=\"62.9688\"/><rect fill=\"none\" height=\"91\" id=\"E2\" rx=\"10\" ry=\"10\" style=\"stroke: #A80036; stroke-width: 1.5;\" width=\"82\" x=\"146\" y=\"49\"/><text fill=\"#000000\" font-family=\"sans-serif\" font-size=\"12\" lengthAdjust=\"spacingAndGlyphs\" textLength=\"4\" x=\"185\" y=\"65.1387\">f</text><line style=\"stroke: #A80036; stroke-width: 1.0;\" x1=\"146\" x2=\"228\" y1=\"72.9688\" y2=\"72.9688\"/></a><!--MD5=[f6df4d0ebaf0b5dfb2ced0ae5af7c670]\n",
       "cluster E4--><a href=\"psysml:ae693b7b-cdf9-497f-b28d-123f2277c02f\" target=\"_top\" title=\"psysml:ae693b7b-cdf9-497f-b28d-123f2277c02f\" xlink:actuate=\"onRequest\" xlink:href=\"psysml:ae693b7b-cdf9-497f-b28d-123f2277c02f\" xlink:show=\"new\" xlink:title=\"psysml:ae693b7b-cdf9-497f-b28d-123f2277c02f\" xlink:type=\"simple\"><rect fill=\"#FFFFFF\" filter=\"url(#fhgluhjl9jc6m)\" height=\"91\" id=\"E4\" style=\"stroke: #A80036; stroke-width: 1.5;\" width=\"82\" x=\"40\" y=\"49\"/><rect fill=\"#FEFECE\" height=\"23.9688\" style=\"stroke: #A80036; stroke-width: 1.5;\" width=\"82\" x=\"40\" y=\"49\"/><text fill=\"#000000\" font-family=\"sans-serif\" font-size=\"12\" lengthAdjust=\"spacingAndGlyphs\" textLength=\"8\" x=\"77\" y=\"65.1387\">C</text></a><g id=\"E1.E2.E3\"><a href=\"psysml:c0fa1ef5-beff-4377-a65a-0adbb28c5765\" target=\"_top\" title=\"psysml:c0fa1ef5-beff-4377-a65a-0adbb28c5765\" xlink:actuate=\"onRequest\" xlink:href=\"psysml:c0fa1ef5-beff-4377-a65a-0adbb28c5765\" xlink:show=\"new\" xlink:title=\"psysml:c0fa1ef5-beff-4377-a65a-0adbb28c5765\" xlink:type=\"simple\"><rect fill=\"#FEFECE\" filter=\"url(#fhgluhjl9jc6m)\" height=\"40\" id=\"E3\" rx=\"10\" ry=\"10\" style=\"stroke: #A80036; stroke-width: 1.5;\" width=\"50\" x=\"162\" y=\"84\"/><ellipse cx=\"181.5\" cy=\"100\" fill=\"#B6DBBB\" rx=\"11\" ry=\"11\" style=\"stroke: #A80036; stroke-width: 1.0;\"/><path d=\"M177.375,101.9219 L177.375,94.1094 L179.8281,94.1094 L179.8281,102.5469 Q179.8281,103.4688 180.2969,104 Q180.7813,104.5313 181.6094,104.5313 Q182.4531,104.5313 182.9219,104 Q183.3906,103.4688 183.3906,102.5469 L183.3906,94.1094 L185.8438,94.1094 L185.8438,101.9219 Q185.8438,104.4531 184.8438,105.5938 Q183.8438,106.7344 181.6094,106.7344 Q179.3906,106.7344 178.375,105.5938 Q177.375,104.4531 177.375,101.9219 Z \"/><text fill=\"#000000\" font-family=\"sans-serif\" font-size=\"12\" lengthAdjust=\"spacingAndGlyphs\" textLength=\"8\" x=\"196.5\" y=\"104.1543\">a</text></a></g><g id=\"E1.E4.E5\"><a href=\"psysml:e9e4e094-e1ef-4d59-8b5d-bef394effc04\" target=\"_top\" title=\"psysml:e9e4e094-e1ef-4d59-8b5d-bef394effc04\" xlink:actuate=\"onRequest\" xlink:href=\"psysml:e9e4e094-e1ef-4d59-8b5d-bef394effc04\" xlink:show=\"new\" xlink:title=\"psysml:e9e4e094-e1ef-4d59-8b5d-bef394effc04\" xlink:type=\"simple\"><rect fill=\"#FEFECE\" filter=\"url(#fhgluhjl9jc6m)\" height=\"40\" id=\"E5\" rx=\"10\" ry=\"10\" style=\"stroke: #A80036; stroke-width: 1.5;\" width=\"50\" x=\"56\" y=\"84\"/><ellipse cx=\"75.5\" cy=\"100\" fill=\"#B6DBBB\" rx=\"11\" ry=\"11\" style=\"stroke: #A80036; stroke-width: 1.0;\"/><path d=\"M71.375,101.9219 L71.375,94.1094 L73.8281,94.1094 L73.8281,102.5469 Q73.8281,103.4688 74.2969,104 Q74.7813,104.5313 75.6094,104.5313 Q76.4531,104.5313 76.9219,104 Q77.3906,103.4688 77.3906,102.5469 L77.3906,94.1094 L79.8438,94.1094 L79.8438,101.9219 Q79.8438,104.4531 78.8438,105.5938 Q77.8438,106.7344 75.6094,106.7344 Q73.3906,106.7344 72.375,105.5938 Q71.375,104.4531 71.375,101.9219 Z \"/><text fill=\"#000000\" font-family=\"sans-serif\" font-size=\"12\" lengthAdjust=\"spacingAndGlyphs\" textLength=\"8\" x=\"90.5\" y=\"104.1543\">g</text></a></g><!--MD5=[eae870b910c8fc191a752ead4bc2d9f9]\n",
       "@startuml\r\n",
       "skinparam ranksep 8\r\n",
       "skinparam rectangle {\r\n",
       " backgroundColor<<block>> LightGreen\r\n",
       "}\r\n",
       " \r\n",
       "package \"Q\" as E1  [[psysml:2f37afb0-cd4e-4fb5-8035-2782344ffa0d ]]  {\r\n",
       "rec usage \"f\" as E2  [[psysml:808101de-d573-40e0-bd9c-1a41ac0023c1 ]] {\r\n",
       "rec usage \"a\" as E3  [[psysml:c0fa1ef5-beff-4377-a65a-0adbb28c5765 ]] {\r\n",
       "}\r\n",
       "}\r\n",
       "rec def \"C\" as E4  << (B,green) >> [[psysml:ae693b7b-cdf9-497f-b28d-123f2277c02f ]] {\r\n",
       "rec usage \"g\" as E5  [[psysml:e9e4e094-e1ef-4d59-8b5d-bef394effc04 ]] {\r\n",
       "}\r\n",
       "}\r\n",
       "}\r\n",
       "@enduml\r\n",
       "\n",
       "PlantUML version 1.2020.13(Sat Jun 13 12:26:38 UTC 2020)\n",
       "(EPL source distribution)\n",
       "Java Runtime: OpenJDK Runtime Environment\n",
       "JVM: OpenJDK 64-Bit Server VM\n",
       "Default Encoding: UTF-8\n",
       "Language: en\n",
       "Country: null\n",
       "--></g></svg>"
      ]
     },
     "execution_count": 33,
     "metadata": {},
     "output_type": "execute_result"
    }
   ],
   "source": [
    "%viz --style=\"PLANTUML\" --view=\"Interconnection\" \"Q\""
   ]
  },
  {
   "cell_type": "code",
   "execution_count": 34,
   "id": "corporate-oregon",
   "metadata": {
    "execution": {
     "iopub.execute_input": "2021-03-26T12:08:02.373508Z",
     "iopub.status.busy": "2021-03-26T12:08:02.372644Z",
     "iopub.status.idle": "2021-03-26T12:08:02.377787Z",
     "shell.execute_reply": "2021-03-26T12:08:02.378169Z"
    }
   },
   "outputs": [
    {
     "data": {
      "image/svg+xml": [
       "<?xml version=\"1.0\" encoding=\"UTF-8\" standalone=\"no\"?><svg xmlns=\"http://www.w3.org/2000/svg\" xmlns:xlink=\"http://www.w3.org/1999/xlink\" contentScriptType=\"application/ecmascript\" contentStyleType=\"text/css\" height=\"12px\" preserveAspectRatio=\"none\" style=\"width:12px;height:12px;\" version=\"1.1\" viewBox=\"0 0 12 12\" width=\"12px\" zoomAndPan=\"magnify\"><defs/><g><!--MD5=[6a4cb978cab31700e1ce5529f947a75d]\n",
       "@startuml\r\n",
       "skinparam ranksep 8\r\n",
       " \r\n",
       "@enduml\r\n",
       "\n",
       "PlantUML version 1.2020.13(Sat Jun 13 12:26:38 UTC 2020)\n",
       "(EPL source distribution)\n",
       "Java Runtime: OpenJDK Runtime Environment\n",
       "JVM: OpenJDK 64-Bit Server VM\n",
       "Default Encoding: UTF-8\n",
       "Language: en\n",
       "Country: null\n",
       "--></g></svg>"
      ]
     },
     "execution_count": 34,
     "metadata": {},
     "output_type": "execute_result"
    }
   ],
   "source": [
    "%viz --style=\"PLANTUML\" --view=\"Action\" \"Q\""
   ]
  },
  {
   "cell_type": "code",
   "execution_count": 35,
   "id": "entire-thong",
   "metadata": {
    "execution": {
     "iopub.execute_input": "2021-03-26T12:08:02.431346Z",
     "iopub.status.busy": "2021-03-26T12:08:02.430516Z",
     "iopub.status.idle": "2021-03-26T12:08:02.461680Z",
     "shell.execute_reply": "2021-03-26T12:08:02.461370Z"
    }
   },
   "outputs": [
    {
     "data": {
      "image/svg+xml": [
       "<?xml version=\"1.0\" encoding=\"UTF-8\" standalone=\"no\"?><svg xmlns=\"http://www.w3.org/2000/svg\" xmlns:xlink=\"http://www.w3.org/1999/xlink\" contentScriptType=\"application/ecmascript\" contentStyleType=\"text/css\" height=\"221px\" preserveAspectRatio=\"none\" style=\"width:241px;height:221px;\" version=\"1.1\" viewBox=\"0 0 241 221\" width=\"241px\" zoomAndPan=\"magnify\"><defs><filter height=\"300%\" id=\"fzpdzo6a5bsul\" width=\"300%\" x=\"-1\" y=\"-1\"><feGaussianBlur result=\"blurOut\" stdDeviation=\"2.0\"/><feColorMatrix in=\"blurOut\" result=\"blurOut2\" type=\"matrix\" values=\"0 0 0 0 0 0 0 0 0 0 0 0 0 0 0 0 0 0 .4 0\"/><feOffset dx=\"4.0\" dy=\"4.0\" in=\"blurOut2\" result=\"blurOut3\"/><feBlend in=\"SourceGraphic\" in2=\"blurOut3\" mode=\"normal\"/></filter></defs><g><!--MD5=[fbc87193dbaf4d95561dea2c320d4a47]\n",
       "cluster E1--><a href=\"psysml:2f37afb0-cd4e-4fb5-8035-2782344ffa0d\" target=\"_top\" title=\"psysml:2f37afb0-cd4e-4fb5-8035-2782344ffa0d\" xlink:actuate=\"onRequest\" xlink:href=\"psysml:2f37afb0-cd4e-4fb5-8035-2782344ffa0d\" xlink:show=\"new\" xlink:title=\"psysml:2f37afb0-cd4e-4fb5-8035-2782344ffa0d\" xlink:type=\"simple\"><polygon fill=\"#FFFFFF\" filter=\"url(#fzpdzo6a5bsul)\" points=\"16,6,34,6,41,28.2969,219,28.2969,219,209,16,209,16,6\" style=\"stroke: #000000; stroke-width: 1.5;\"/><line style=\"stroke: #000000; stroke-width: 1.5;\" x1=\"16\" x2=\"41\" y1=\"28.2969\" y2=\"28.2969\"/><text fill=\"#000000\" font-family=\"sans-serif\" font-size=\"14\" font-weight=\"bold\" lengthAdjust=\"spacingAndGlyphs\" textLength=\"12\" x=\"20\" y=\"20.9951\">Q</text></a><!--MD5=[b4997ac47864f28c2f74865a473b2911]\n",
       "class E2--><a href=\"psysml:808101de-d573-40e0-bd9c-1a41ac0023c1\" target=\"_top\" title=\"psysml:808101de-d573-40e0-bd9c-1a41ac0023c1\" xlink:actuate=\"onRequest\" xlink:href=\"psysml:808101de-d573-40e0-bd9c-1a41ac0023c1\" xlink:show=\"new\" xlink:title=\"psysml:808101de-d573-40e0-bd9c-1a41ac0023c1\" xlink:type=\"simple\"><rect fill=\"#FEFECE\" filter=\"url(#fzpdzo6a5bsul)\" height=\"45.9375\" id=\"E2\" rx=\"10\" ry=\"10\" style=\"stroke: #A80036; stroke-width: 1.5;\" width=\"68\" x=\"135\" y=\"41\"/><ellipse cx=\"150\" cy=\"59.9688\" fill=\"#32CD32\" rx=\"11\" ry=\"11\" style=\"stroke: #A80036; stroke-width: 1.0;\"/><path d=\"M149.7969,55.6406 L149.7969,59.2656 L150.7969,59.2656 Q152,59.2656 152.4844,58.8594 Q152.9688,58.4531 152.9688,57.4531 Q152.9688,56.4531 152.4844,56.0469 Q152,55.6406 150.7969,55.6406 L149.7969,55.6406 Z M147.3438,53.5781 L150.7031,53.5781 Q153.2656,53.5781 154.3906,54.5 Q155.5156,55.4063 155.5156,57.4531 Q155.5156,59.5 154.3906,60.4219 Q153.2656,61.3281 150.7031,61.3281 L149.7969,61.3281 L149.7969,65.9688 L147.3438,65.9688 L147.3438,53.5781 Z \"/><text fill=\"#000000\" font-family=\"sans-serif\" font-size=\"12\" font-style=\"italic\" lengthAdjust=\"spacingAndGlyphs\" textLength=\"40\" x=\"162\" y=\"57.1387\">«part»</text><text fill=\"#000000\" font-family=\"sans-serif\" font-size=\"12\" lengthAdjust=\"spacingAndGlyphs\" textLength=\"4\" x=\"180\" y=\"71.1074\">f</text><line style=\"stroke: #A80036; stroke-width: 1.5;\" x1=\"136\" x2=\"202\" y1=\"78.9375\" y2=\"78.9375\"/></a><!--MD5=[09b614a08d8cba4a07c9adeb5e0fee81]\n",
       "class E3--><a href=\"psysml:c0fa1ef5-beff-4377-a65a-0adbb28c5765\" target=\"_top\" title=\"psysml:c0fa1ef5-beff-4377-a65a-0adbb28c5765\" xlink:actuate=\"onRequest\" xlink:href=\"psysml:c0fa1ef5-beff-4377-a65a-0adbb28c5765\" xlink:show=\"new\" xlink:title=\"psysml:c0fa1ef5-beff-4377-a65a-0adbb28c5765\" xlink:type=\"simple\"><rect fill=\"#FEFECE\" filter=\"url(#fzpdzo6a5bsul)\" height=\"45.9375\" id=\"E3\" rx=\"10\" ry=\"10\" style=\"stroke: #A80036; stroke-width: 1.5;\" width=\"68\" x=\"135\" y=\"147\"/><ellipse cx=\"150\" cy=\"165.9688\" fill=\"#32CD32\" rx=\"11\" ry=\"11\" style=\"stroke: #A80036; stroke-width: 1.0;\"/><path d=\"M149.7969,161.6406 L149.7969,165.2656 L150.7969,165.2656 Q152,165.2656 152.4844,164.8594 Q152.9688,164.4531 152.9688,163.4531 Q152.9688,162.4531 152.4844,162.0469 Q152,161.6406 150.7969,161.6406 L149.7969,161.6406 Z M147.3438,159.5781 L150.7031,159.5781 Q153.2656,159.5781 154.3906,160.5 Q155.5156,161.4063 155.5156,163.4531 Q155.5156,165.5 154.3906,166.4219 Q153.2656,167.3281 150.7031,167.3281 L149.7969,167.3281 L149.7969,171.9688 L147.3438,171.9688 L147.3438,159.5781 Z \"/><text fill=\"#000000\" font-family=\"sans-serif\" font-size=\"12\" font-style=\"italic\" lengthAdjust=\"spacingAndGlyphs\" textLength=\"40\" x=\"162\" y=\"163.1387\">«part»</text><text fill=\"#000000\" font-family=\"sans-serif\" font-size=\"12\" lengthAdjust=\"spacingAndGlyphs\" textLength=\"8\" x=\"178\" y=\"177.1074\">a</text><line style=\"stroke: #A80036; stroke-width: 1.5;\" x1=\"136\" x2=\"202\" y1=\"184.9375\" y2=\"184.9375\"/></a><!--MD5=[ebbe1d658d1005bcc118a6aa81145e00]\n",
       "class E4--><a href=\"psysml:ae693b7b-cdf9-497f-b28d-123f2277c02f\" target=\"_top\" title=\"psysml:ae693b7b-cdf9-497f-b28d-123f2277c02f\" xlink:actuate=\"onRequest\" xlink:href=\"psysml:ae693b7b-cdf9-497f-b28d-123f2277c02f\" xlink:show=\"new\" xlink:title=\"psysml:ae693b7b-cdf9-497f-b28d-123f2277c02f\" xlink:type=\"simple\"><rect fill=\"#FEFECE\" filter=\"url(#fzpdzo6a5bsul)\" height=\"40\" id=\"E4\" style=\"stroke: #A80036; stroke-width: 1.5;\" width=\"40\" x=\"46\" y=\"44\"/><ellipse cx=\"61\" cy=\"60\" fill=\"#008000\" rx=\"11\" ry=\"11\" style=\"stroke: #A80036; stroke-width: 1.0;\"/><path d=\"M59.9063,60.375 L59.9063,64.0469 L61.5313,64.0469 Q62.7031,64.0469 63.1719,63.6563 Q63.6406,63.25 63.6406,62.25 Q63.6406,61.25 63.1406,60.8125 Q62.6563,60.375 61.5313,60.375 L59.9063,60.375 Z M59.9063,55.5469 L59.9063,58.4219 L61.5313,58.4219 Q62.4531,58.4219 62.8438,58.0938 Q63.25,57.75 63.25,57 Q63.25,56.2344 62.8438,55.8906 Q62.4375,55.5469 61.5313,55.5469 L59.9063,55.5469 Z M57.5313,53.5938 L61.5313,53.5938 Q63.5938,53.5938 64.6406,54.375 Q65.6875,55.1563 65.6875,56.7188 Q65.6875,57.9219 65.0625,58.5938 Q64.4531,59.2656 63.2656,59.375 Q64.6875,59.5156 65.4063,60.3281 Q66.125,61.1406 66.125,62.5938 Q66.125,64.3906 65.0469,65.2031 Q63.9688,66 61.5313,66 L57.5313,66 L57.5313,53.5938 Z \"/><text fill=\"#000000\" font-family=\"sans-serif\" font-size=\"12\" lengthAdjust=\"spacingAndGlyphs\" textLength=\"8\" x=\"75\" y=\"64.1543\">C</text><line style=\"stroke: #A80036; stroke-width: 1.5;\" x1=\"47\" x2=\"85\" y1=\"76\" y2=\"76\"/></a><!--MD5=[270fce915f116d4de14055a7c1d9a0f3]\n",
       "class E5--><a href=\"psysml:e9e4e094-e1ef-4d59-8b5d-bef394effc04\" target=\"_top\" title=\"psysml:e9e4e094-e1ef-4d59-8b5d-bef394effc04\" xlink:actuate=\"onRequest\" xlink:href=\"psysml:e9e4e094-e1ef-4d59-8b5d-bef394effc04\" xlink:show=\"new\" xlink:title=\"psysml:e9e4e094-e1ef-4d59-8b5d-bef394effc04\" xlink:type=\"simple\"><rect fill=\"#FEFECE\" filter=\"url(#fzpdzo6a5bsul)\" height=\"45.9375\" id=\"E5\" rx=\"10\" ry=\"10\" style=\"stroke: #A80036; stroke-width: 1.5;\" width=\"68\" x=\"32\" y=\"147\"/><ellipse cx=\"47\" cy=\"165.9688\" fill=\"#32CD32\" rx=\"11\" ry=\"11\" style=\"stroke: #A80036; stroke-width: 1.0;\"/><path d=\"M46.7969,161.6406 L46.7969,165.2656 L47.7969,165.2656 Q49,165.2656 49.4844,164.8594 Q49.9688,164.4531 49.9688,163.4531 Q49.9688,162.4531 49.4844,162.0469 Q49,161.6406 47.7969,161.6406 L46.7969,161.6406 Z M44.3438,159.5781 L47.7031,159.5781 Q50.2656,159.5781 51.3906,160.5 Q52.5156,161.4063 52.5156,163.4531 Q52.5156,165.5 51.3906,166.4219 Q50.2656,167.3281 47.7031,167.3281 L46.7969,167.3281 L46.7969,171.9688 L44.3438,171.9688 L44.3438,159.5781 Z \"/><text fill=\"#000000\" font-family=\"sans-serif\" font-size=\"12\" font-style=\"italic\" lengthAdjust=\"spacingAndGlyphs\" textLength=\"40\" x=\"59\" y=\"163.1387\">«part»</text><text fill=\"#000000\" font-family=\"sans-serif\" font-size=\"12\" lengthAdjust=\"spacingAndGlyphs\" textLength=\"8\" x=\"75\" y=\"177.1074\">g</text><line style=\"stroke: #A80036; stroke-width: 1.5;\" x1=\"33\" x2=\"99\" y1=\"184.9375\" y2=\"184.9375\"/></a><!--MD5=[209b3feb70ccb6233bfe1053d122c12c]\n",
       "reverse link E2 to E3--><a href=\"psysml:c0fa1ef5-beff-4377-a65a-0adbb28c5765\" target=\"_top\" title=\"psysml:c0fa1ef5-beff-4377-a65a-0adbb28c5765\" xlink:actuate=\"onRequest\" xlink:href=\"psysml:c0fa1ef5-beff-4377-a65a-0adbb28c5765\" xlink:show=\"new\" xlink:title=\"psysml:c0fa1ef5-beff-4377-a65a-0adbb28c5765\" xlink:type=\"simple\"><path d=\"M169,100.44 C169,115.87 169,133.47 169,146.98 \" fill=\"none\" id=\"E2&lt;-E3\" style=\"stroke: #A80036; stroke-width: 1.0;\"/><polygon fill=\"#A80036\" points=\"169,87.06,165,93.06,169,99.06,173,93.06,169,87.06\" style=\"stroke: #A80036; stroke-width: 1.0;\"/></a><!--MD5=[62aa6af11e70f752912c1cb0466f24f7]\n",
       "reverse link E4 to E5--><a href=\"psysml:e9e4e094-e1ef-4d59-8b5d-bef394effc04\" target=\"_top\" title=\"psysml:e9e4e094-e1ef-4d59-8b5d-bef394effc04\" xlink:actuate=\"onRequest\" xlink:href=\"psysml:e9e4e094-e1ef-4d59-8b5d-bef394effc04\" xlink:show=\"new\" xlink:title=\"psysml:e9e4e094-e1ef-4d59-8b5d-bef394effc04\" xlink:type=\"simple\"><path d=\"M66,97.25 C66,113.33 66,132.37 66,146.8 \" fill=\"none\" id=\"E4&lt;-E5\" style=\"stroke: #A80036; stroke-width: 1.0;\"/><polygon fill=\"#A80036\" points=\"66,84.08,62,90.08,66,96.08,70,90.08,66,84.08\" style=\"stroke: #A80036; stroke-width: 1.0;\"/></a><!--MD5=[5a8212de11c99f3ba8c6bc0e02052281]\n",
       "@startuml\r\n",
       " \r\n",
       "package \"Q\" as E1  [[psysml:2f37afb0-cd4e-4fb5-8035-2782344ffa0d ]]  {\r\n",
       "comp usage \"f\" as E2  << (P,limegreen) part>> [[psysml:808101de-d573-40e0-bd9c-1a41ac0023c1 ]] {\r\n",
       "}\r\n",
       "comp usage \"a\" as E3  << (P,limegreen) part>> [[psysml:c0fa1ef5-beff-4377-a65a-0adbb28c5765 ]] {\r\n",
       "}\r\n",
       "comp def \"C\" as E4  << (B,green) >> [[psysml:ae693b7b-cdf9-497f-b28d-123f2277c02f ]] {\r\n",
       "}\r\n",
       "comp usage \"g\" as E5  << (P,limegreen) part>> [[psysml:e9e4e094-e1ef-4d59-8b5d-bef394effc04 ]] {\r\n",
       "}\r\n",
       "E2 *- - E3 [[psysml:c0fa1ef5-beff-4377-a65a-0adbb28c5765 ]] \r\n",
       "E4 *- - E5 [[psysml:e9e4e094-e1ef-4d59-8b5d-bef394effc04 ]] \r\n",
       "}\r\n",
       "@enduml\r\n",
       "\n",
       "PlantUML version 1.2020.13(Sat Jun 13 12:26:38 UTC 2020)\n",
       "(EPL source distribution)\n",
       "Java Runtime: OpenJDK Runtime Environment\n",
       "JVM: OpenJDK 64-Bit Server VM\n",
       "Default Encoding: UTF-8\n",
       "Language: en\n",
       "Country: null\n",
       "--></g></svg>"
      ]
     },
     "execution_count": 35,
     "metadata": {},
     "output_type": "execute_result"
    }
   ],
   "source": [
    "%viz --style=\"PLANTUML\" --view=\"Sequence\" \"Q\""
   ]
  },
  {
   "cell_type": "code",
   "execution_count": 36,
   "id": "inner-roulette",
   "metadata": {
    "execution": {
     "iopub.execute_input": "2021-03-26T12:08:02.514415Z",
     "iopub.status.busy": "2021-03-26T12:08:02.513494Z",
     "iopub.status.idle": "2021-03-26T12:08:02.543019Z",
     "shell.execute_reply": "2021-03-26T12:08:02.543342Z"
    }
   },
   "outputs": [
    {
     "data": {
      "image/svg+xml": [
       "<?xml version=\"1.0\" encoding=\"UTF-8\" standalone=\"no\"?><svg xmlns=\"http://www.w3.org/2000/svg\" xmlns:xlink=\"http://www.w3.org/1999/xlink\" contentScriptType=\"application/ecmascript\" contentStyleType=\"text/css\" height=\"221px\" preserveAspectRatio=\"none\" style=\"width:241px;height:221px;\" version=\"1.1\" viewBox=\"0 0 241 221\" width=\"241px\" zoomAndPan=\"magnify\"><defs><filter height=\"300%\" id=\"fzpdzo6a5bsul\" width=\"300%\" x=\"-1\" y=\"-1\"><feGaussianBlur result=\"blurOut\" stdDeviation=\"2.0\"/><feColorMatrix in=\"blurOut\" result=\"blurOut2\" type=\"matrix\" values=\"0 0 0 0 0 0 0 0 0 0 0 0 0 0 0 0 0 0 .4 0\"/><feOffset dx=\"4.0\" dy=\"4.0\" in=\"blurOut2\" result=\"blurOut3\"/><feBlend in=\"SourceGraphic\" in2=\"blurOut3\" mode=\"normal\"/></filter></defs><g><!--MD5=[fbc87193dbaf4d95561dea2c320d4a47]\n",
       "cluster E1--><a href=\"psysml:2f37afb0-cd4e-4fb5-8035-2782344ffa0d\" target=\"_top\" title=\"psysml:2f37afb0-cd4e-4fb5-8035-2782344ffa0d\" xlink:actuate=\"onRequest\" xlink:href=\"psysml:2f37afb0-cd4e-4fb5-8035-2782344ffa0d\" xlink:show=\"new\" xlink:title=\"psysml:2f37afb0-cd4e-4fb5-8035-2782344ffa0d\" xlink:type=\"simple\"><polygon fill=\"#FFFFFF\" filter=\"url(#fzpdzo6a5bsul)\" points=\"16,6,34,6,41,28.2969,219,28.2969,219,209,16,209,16,6\" style=\"stroke: #000000; stroke-width: 1.5;\"/><line style=\"stroke: #000000; stroke-width: 1.5;\" x1=\"16\" x2=\"41\" y1=\"28.2969\" y2=\"28.2969\"/><text fill=\"#000000\" font-family=\"sans-serif\" font-size=\"14\" font-weight=\"bold\" lengthAdjust=\"spacingAndGlyphs\" textLength=\"12\" x=\"20\" y=\"20.9951\">Q</text></a><!--MD5=[b4997ac47864f28c2f74865a473b2911]\n",
       "class E2--><a href=\"psysml:808101de-d573-40e0-bd9c-1a41ac0023c1\" target=\"_top\" title=\"psysml:808101de-d573-40e0-bd9c-1a41ac0023c1\" xlink:actuate=\"onRequest\" xlink:href=\"psysml:808101de-d573-40e0-bd9c-1a41ac0023c1\" xlink:show=\"new\" xlink:title=\"psysml:808101de-d573-40e0-bd9c-1a41ac0023c1\" xlink:type=\"simple\"><rect fill=\"#FEFECE\" filter=\"url(#fzpdzo6a5bsul)\" height=\"45.9375\" id=\"E2\" rx=\"10\" ry=\"10\" style=\"stroke: #A80036; stroke-width: 1.5;\" width=\"68\" x=\"135\" y=\"41\"/><ellipse cx=\"150\" cy=\"59.9688\" fill=\"#32CD32\" rx=\"11\" ry=\"11\" style=\"stroke: #A80036; stroke-width: 1.0;\"/><path d=\"M149.7969,55.6406 L149.7969,59.2656 L150.7969,59.2656 Q152,59.2656 152.4844,58.8594 Q152.9688,58.4531 152.9688,57.4531 Q152.9688,56.4531 152.4844,56.0469 Q152,55.6406 150.7969,55.6406 L149.7969,55.6406 Z M147.3438,53.5781 L150.7031,53.5781 Q153.2656,53.5781 154.3906,54.5 Q155.5156,55.4063 155.5156,57.4531 Q155.5156,59.5 154.3906,60.4219 Q153.2656,61.3281 150.7031,61.3281 L149.7969,61.3281 L149.7969,65.9688 L147.3438,65.9688 L147.3438,53.5781 Z \"/><text fill=\"#000000\" font-family=\"sans-serif\" font-size=\"12\" font-style=\"italic\" lengthAdjust=\"spacingAndGlyphs\" textLength=\"40\" x=\"162\" y=\"57.1387\">«part»</text><text fill=\"#000000\" font-family=\"sans-serif\" font-size=\"12\" lengthAdjust=\"spacingAndGlyphs\" textLength=\"4\" x=\"180\" y=\"71.1074\">f</text><line style=\"stroke: #A80036; stroke-width: 1.5;\" x1=\"136\" x2=\"202\" y1=\"78.9375\" y2=\"78.9375\"/></a><!--MD5=[09b614a08d8cba4a07c9adeb5e0fee81]\n",
       "class E3--><a href=\"psysml:c0fa1ef5-beff-4377-a65a-0adbb28c5765\" target=\"_top\" title=\"psysml:c0fa1ef5-beff-4377-a65a-0adbb28c5765\" xlink:actuate=\"onRequest\" xlink:href=\"psysml:c0fa1ef5-beff-4377-a65a-0adbb28c5765\" xlink:show=\"new\" xlink:title=\"psysml:c0fa1ef5-beff-4377-a65a-0adbb28c5765\" xlink:type=\"simple\"><rect fill=\"#FEFECE\" filter=\"url(#fzpdzo6a5bsul)\" height=\"45.9375\" id=\"E3\" rx=\"10\" ry=\"10\" style=\"stroke: #A80036; stroke-width: 1.5;\" width=\"68\" x=\"135\" y=\"147\"/><ellipse cx=\"150\" cy=\"165.9688\" fill=\"#32CD32\" rx=\"11\" ry=\"11\" style=\"stroke: #A80036; stroke-width: 1.0;\"/><path d=\"M149.7969,161.6406 L149.7969,165.2656 L150.7969,165.2656 Q152,165.2656 152.4844,164.8594 Q152.9688,164.4531 152.9688,163.4531 Q152.9688,162.4531 152.4844,162.0469 Q152,161.6406 150.7969,161.6406 L149.7969,161.6406 Z M147.3438,159.5781 L150.7031,159.5781 Q153.2656,159.5781 154.3906,160.5 Q155.5156,161.4063 155.5156,163.4531 Q155.5156,165.5 154.3906,166.4219 Q153.2656,167.3281 150.7031,167.3281 L149.7969,167.3281 L149.7969,171.9688 L147.3438,171.9688 L147.3438,159.5781 Z \"/><text fill=\"#000000\" font-family=\"sans-serif\" font-size=\"12\" font-style=\"italic\" lengthAdjust=\"spacingAndGlyphs\" textLength=\"40\" x=\"162\" y=\"163.1387\">«part»</text><text fill=\"#000000\" font-family=\"sans-serif\" font-size=\"12\" lengthAdjust=\"spacingAndGlyphs\" textLength=\"8\" x=\"178\" y=\"177.1074\">a</text><line style=\"stroke: #A80036; stroke-width: 1.5;\" x1=\"136\" x2=\"202\" y1=\"184.9375\" y2=\"184.9375\"/></a><!--MD5=[ebbe1d658d1005bcc118a6aa81145e00]\n",
       "class E4--><a href=\"psysml:ae693b7b-cdf9-497f-b28d-123f2277c02f\" target=\"_top\" title=\"psysml:ae693b7b-cdf9-497f-b28d-123f2277c02f\" xlink:actuate=\"onRequest\" xlink:href=\"psysml:ae693b7b-cdf9-497f-b28d-123f2277c02f\" xlink:show=\"new\" xlink:title=\"psysml:ae693b7b-cdf9-497f-b28d-123f2277c02f\" xlink:type=\"simple\"><rect fill=\"#FEFECE\" filter=\"url(#fzpdzo6a5bsul)\" height=\"40\" id=\"E4\" style=\"stroke: #A80036; stroke-width: 1.5;\" width=\"40\" x=\"46\" y=\"44\"/><ellipse cx=\"61\" cy=\"60\" fill=\"#008000\" rx=\"11\" ry=\"11\" style=\"stroke: #A80036; stroke-width: 1.0;\"/><path d=\"M59.9063,60.375 L59.9063,64.0469 L61.5313,64.0469 Q62.7031,64.0469 63.1719,63.6563 Q63.6406,63.25 63.6406,62.25 Q63.6406,61.25 63.1406,60.8125 Q62.6563,60.375 61.5313,60.375 L59.9063,60.375 Z M59.9063,55.5469 L59.9063,58.4219 L61.5313,58.4219 Q62.4531,58.4219 62.8438,58.0938 Q63.25,57.75 63.25,57 Q63.25,56.2344 62.8438,55.8906 Q62.4375,55.5469 61.5313,55.5469 L59.9063,55.5469 Z M57.5313,53.5938 L61.5313,53.5938 Q63.5938,53.5938 64.6406,54.375 Q65.6875,55.1563 65.6875,56.7188 Q65.6875,57.9219 65.0625,58.5938 Q64.4531,59.2656 63.2656,59.375 Q64.6875,59.5156 65.4063,60.3281 Q66.125,61.1406 66.125,62.5938 Q66.125,64.3906 65.0469,65.2031 Q63.9688,66 61.5313,66 L57.5313,66 L57.5313,53.5938 Z \"/><text fill=\"#000000\" font-family=\"sans-serif\" font-size=\"12\" lengthAdjust=\"spacingAndGlyphs\" textLength=\"8\" x=\"75\" y=\"64.1543\">C</text><line style=\"stroke: #A80036; stroke-width: 1.5;\" x1=\"47\" x2=\"85\" y1=\"76\" y2=\"76\"/></a><!--MD5=[270fce915f116d4de14055a7c1d9a0f3]\n",
       "class E5--><a href=\"psysml:e9e4e094-e1ef-4d59-8b5d-bef394effc04\" target=\"_top\" title=\"psysml:e9e4e094-e1ef-4d59-8b5d-bef394effc04\" xlink:actuate=\"onRequest\" xlink:href=\"psysml:e9e4e094-e1ef-4d59-8b5d-bef394effc04\" xlink:show=\"new\" xlink:title=\"psysml:e9e4e094-e1ef-4d59-8b5d-bef394effc04\" xlink:type=\"simple\"><rect fill=\"#FEFECE\" filter=\"url(#fzpdzo6a5bsul)\" height=\"45.9375\" id=\"E5\" rx=\"10\" ry=\"10\" style=\"stroke: #A80036; stroke-width: 1.5;\" width=\"68\" x=\"32\" y=\"147\"/><ellipse cx=\"47\" cy=\"165.9688\" fill=\"#32CD32\" rx=\"11\" ry=\"11\" style=\"stroke: #A80036; stroke-width: 1.0;\"/><path d=\"M46.7969,161.6406 L46.7969,165.2656 L47.7969,165.2656 Q49,165.2656 49.4844,164.8594 Q49.9688,164.4531 49.9688,163.4531 Q49.9688,162.4531 49.4844,162.0469 Q49,161.6406 47.7969,161.6406 L46.7969,161.6406 Z M44.3438,159.5781 L47.7031,159.5781 Q50.2656,159.5781 51.3906,160.5 Q52.5156,161.4063 52.5156,163.4531 Q52.5156,165.5 51.3906,166.4219 Q50.2656,167.3281 47.7031,167.3281 L46.7969,167.3281 L46.7969,171.9688 L44.3438,171.9688 L44.3438,159.5781 Z \"/><text fill=\"#000000\" font-family=\"sans-serif\" font-size=\"12\" font-style=\"italic\" lengthAdjust=\"spacingAndGlyphs\" textLength=\"40\" x=\"59\" y=\"163.1387\">«part»</text><text fill=\"#000000\" font-family=\"sans-serif\" font-size=\"12\" lengthAdjust=\"spacingAndGlyphs\" textLength=\"8\" x=\"75\" y=\"177.1074\">g</text><line style=\"stroke: #A80036; stroke-width: 1.5;\" x1=\"33\" x2=\"99\" y1=\"184.9375\" y2=\"184.9375\"/></a><!--MD5=[209b3feb70ccb6233bfe1053d122c12c]\n",
       "reverse link E2 to E3--><a href=\"psysml:c0fa1ef5-beff-4377-a65a-0adbb28c5765\" target=\"_top\" title=\"psysml:c0fa1ef5-beff-4377-a65a-0adbb28c5765\" xlink:actuate=\"onRequest\" xlink:href=\"psysml:c0fa1ef5-beff-4377-a65a-0adbb28c5765\" xlink:show=\"new\" xlink:title=\"psysml:c0fa1ef5-beff-4377-a65a-0adbb28c5765\" xlink:type=\"simple\"><path d=\"M169,100.44 C169,115.87 169,133.47 169,146.98 \" fill=\"none\" id=\"E2&lt;-E3\" style=\"stroke: #A80036; stroke-width: 1.0;\"/><polygon fill=\"#A80036\" points=\"169,87.06,165,93.06,169,99.06,173,93.06,169,87.06\" style=\"stroke: #A80036; stroke-width: 1.0;\"/></a><!--MD5=[62aa6af11e70f752912c1cb0466f24f7]\n",
       "reverse link E4 to E5--><a href=\"psysml:e9e4e094-e1ef-4d59-8b5d-bef394effc04\" target=\"_top\" title=\"psysml:e9e4e094-e1ef-4d59-8b5d-bef394effc04\" xlink:actuate=\"onRequest\" xlink:href=\"psysml:e9e4e094-e1ef-4d59-8b5d-bef394effc04\" xlink:show=\"new\" xlink:title=\"psysml:e9e4e094-e1ef-4d59-8b5d-bef394effc04\" xlink:type=\"simple\"><path d=\"M66,97.25 C66,113.33 66,132.37 66,146.8 \" fill=\"none\" id=\"E4&lt;-E5\" style=\"stroke: #A80036; stroke-width: 1.0;\"/><polygon fill=\"#A80036\" points=\"66,84.08,62,90.08,66,96.08,70,90.08,66,84.08\" style=\"stroke: #A80036; stroke-width: 1.0;\"/></a><!--MD5=[5a8212de11c99f3ba8c6bc0e02052281]\n",
       "@startuml\r\n",
       " \r\n",
       "package \"Q\" as E1  [[psysml:2f37afb0-cd4e-4fb5-8035-2782344ffa0d ]]  {\r\n",
       "comp usage \"f\" as E2  << (P,limegreen) part>> [[psysml:808101de-d573-40e0-bd9c-1a41ac0023c1 ]] {\r\n",
       "}\r\n",
       "comp usage \"a\" as E3  << (P,limegreen) part>> [[psysml:c0fa1ef5-beff-4377-a65a-0adbb28c5765 ]] {\r\n",
       "}\r\n",
       "comp def \"C\" as E4  << (B,green) >> [[psysml:ae693b7b-cdf9-497f-b28d-123f2277c02f ]] {\r\n",
       "}\r\n",
       "comp usage \"g\" as E5  << (P,limegreen) part>> [[psysml:e9e4e094-e1ef-4d59-8b5d-bef394effc04 ]] {\r\n",
       "}\r\n",
       "E2 *- - E3 [[psysml:c0fa1ef5-beff-4377-a65a-0adbb28c5765 ]] \r\n",
       "E4 *- - E5 [[psysml:e9e4e094-e1ef-4d59-8b5d-bef394effc04 ]] \r\n",
       "}\r\n",
       "@enduml\r\n",
       "\n",
       "PlantUML version 1.2020.13(Sat Jun 13 12:26:38 UTC 2020)\n",
       "(EPL source distribution)\n",
       "Java Runtime: OpenJDK Runtime Environment\n",
       "JVM: OpenJDK 64-Bit Server VM\n",
       "Default Encoding: UTF-8\n",
       "Language: en\n",
       "Country: null\n",
       "--></g></svg>"
      ]
     },
     "execution_count": 36,
     "metadata": {},
     "output_type": "execute_result"
    }
   ],
   "source": [
    "%viz --style=\"PLANTUML\" --view=\"MIXED\" \"Q\""
   ]
  },
  {
   "cell_type": "code",
   "execution_count": 37,
   "id": "alternate-trouble",
   "metadata": {
    "execution": {
     "iopub.execute_input": "2021-03-26T12:08:02.595412Z",
     "iopub.status.busy": "2021-03-26T12:08:02.594809Z",
     "iopub.status.idle": "2021-03-26T12:08:02.625359Z",
     "shell.execute_reply": "2021-03-26T12:08:02.624942Z"
    }
   },
   "outputs": [
    {
     "data": {
      "image/svg+xml": [
       "<?xml version=\"1.0\" encoding=\"UTF-8\" standalone=\"no\"?><svg xmlns=\"http://www.w3.org/2000/svg\" xmlns:xlink=\"http://www.w3.org/1999/xlink\" contentScriptType=\"application/ecmascript\" contentStyleType=\"text/css\" height=\"221px\" preserveAspectRatio=\"none\" style=\"width:213px;height:221px;\" version=\"1.1\" viewBox=\"0 0 213 221\" width=\"213px\" zoomAndPan=\"magnify\"><defs/><g><!--MD5=[fbc87193dbaf4d95561dea2c320d4a47]\n",
       "cluster E1--><a href=\"psysml:2f37afb0-cd4e-4fb5-8035-2782344ffa0d\" target=\"_top\" title=\"psysml:2f37afb0-cd4e-4fb5-8035-2782344ffa0d\" xlink:actuate=\"onRequest\" xlink:href=\"psysml:2f37afb0-cd4e-4fb5-8035-2782344ffa0d\" xlink:show=\"new\" xlink:title=\"psysml:2f37afb0-cd4e-4fb5-8035-2782344ffa0d\" xlink:type=\"simple\"><polygon fill=\"#FFFFFF\" points=\"16,6,34,6,41,28.2969,191,28.2969,191,209,16,209,16,6\" style=\"stroke: #000000; stroke-width: 1.5;\"/><line style=\"stroke: #000000; stroke-width: 1.5;\" x1=\"16\" x2=\"41\" y1=\"28.2969\" y2=\"28.2969\"/><text fill=\"#000000\" font-family=\"sans-serif\" font-size=\"14\" font-weight=\"bold\" lengthAdjust=\"spacingAndGlyphs\" textLength=\"12\" x=\"20\" y=\"20.9951\">Q</text></a><!--MD5=[b4997ac47864f28c2f74865a473b2911]\n",
       "class E2--><a href=\"psysml:808101de-d573-40e0-bd9c-1a41ac0023c1\" target=\"_top\" title=\"psysml:808101de-d573-40e0-bd9c-1a41ac0023c1\" xlink:actuate=\"onRequest\" xlink:href=\"psysml:808101de-d573-40e0-bd9c-1a41ac0023c1\" xlink:show=\"new\" xlink:title=\"psysml:808101de-d573-40e0-bd9c-1a41ac0023c1\" xlink:type=\"simple\"><rect fill=\"#FFFFFF\" height=\"45.9375\" id=\"E2\" rx=\"10\" ry=\"10\" style=\"stroke: #383838; stroke-width: 1.5;\" width=\"42\" x=\"133\" y=\"41\"/><text fill=\"#000000\" font-family=\"sans-serif\" font-size=\"12\" font-style=\"italic\" lengthAdjust=\"spacingAndGlyphs\" textLength=\"40\" x=\"134\" y=\"57.1387\">«part»</text><text fill=\"#000000\" font-family=\"sans-serif\" font-size=\"12\" lengthAdjust=\"spacingAndGlyphs\" textLength=\"4\" x=\"152\" y=\"71.1074\">f</text><line style=\"stroke: #383838; stroke-width: 1.5;\" x1=\"134\" x2=\"174\" y1=\"78.9375\" y2=\"78.9375\"/></a><!--MD5=[09b614a08d8cba4a07c9adeb5e0fee81]\n",
       "class E3--><a href=\"psysml:c0fa1ef5-beff-4377-a65a-0adbb28c5765\" target=\"_top\" title=\"psysml:c0fa1ef5-beff-4377-a65a-0adbb28c5765\" xlink:actuate=\"onRequest\" xlink:href=\"psysml:c0fa1ef5-beff-4377-a65a-0adbb28c5765\" xlink:show=\"new\" xlink:title=\"psysml:c0fa1ef5-beff-4377-a65a-0adbb28c5765\" xlink:type=\"simple\"><rect fill=\"#FFFFFF\" height=\"45.9375\" id=\"E3\" rx=\"10\" ry=\"10\" style=\"stroke: #383838; stroke-width: 1.5;\" width=\"42\" x=\"133\" y=\"147\"/><text fill=\"#000000\" font-family=\"sans-serif\" font-size=\"12\" font-style=\"italic\" lengthAdjust=\"spacingAndGlyphs\" textLength=\"40\" x=\"134\" y=\"163.1387\">«part»</text><text fill=\"#000000\" font-family=\"sans-serif\" font-size=\"12\" lengthAdjust=\"spacingAndGlyphs\" textLength=\"8\" x=\"150\" y=\"177.1074\">a</text><line style=\"stroke: #383838; stroke-width: 1.5;\" x1=\"134\" x2=\"174\" y1=\"184.9375\" y2=\"184.9375\"/></a><!--MD5=[ebbe1d658d1005bcc118a6aa81145e00]\n",
       "class E4--><a href=\"psysml:ae693b7b-cdf9-497f-b28d-123f2277c02f\" target=\"_top\" title=\"psysml:ae693b7b-cdf9-497f-b28d-123f2277c02f\" xlink:actuate=\"onRequest\" xlink:href=\"psysml:ae693b7b-cdf9-497f-b28d-123f2277c02f\" xlink:show=\"new\" xlink:title=\"psysml:ae693b7b-cdf9-497f-b28d-123f2277c02f\" xlink:type=\"simple\"><rect fill=\"#FFFFFF\" height=\"45.9375\" id=\"E4\" style=\"stroke: #383838; stroke-width: 1.5;\" width=\"66\" x=\"32\" y=\"41\"/><text fill=\"#000000\" font-family=\"sans-serif\" font-size=\"12\" font-style=\"italic\" lengthAdjust=\"spacingAndGlyphs\" textLength=\"64\" x=\"33\" y=\"57.1387\">«part def»</text><text fill=\"#000000\" font-family=\"sans-serif\" font-size=\"12\" lengthAdjust=\"spacingAndGlyphs\" textLength=\"8\" x=\"61\" y=\"71.1074\">C</text><line style=\"stroke: #383838; stroke-width: 1.5;\" x1=\"33\" x2=\"97\" y1=\"78.9375\" y2=\"78.9375\"/></a><!--MD5=[270fce915f116d4de14055a7c1d9a0f3]\n",
       "class E5--><a href=\"psysml:e9e4e094-e1ef-4d59-8b5d-bef394effc04\" target=\"_top\" title=\"psysml:e9e4e094-e1ef-4d59-8b5d-bef394effc04\" xlink:actuate=\"onRequest\" xlink:href=\"psysml:e9e4e094-e1ef-4d59-8b5d-bef394effc04\" xlink:show=\"new\" xlink:title=\"psysml:e9e4e094-e1ef-4d59-8b5d-bef394effc04\" xlink:type=\"simple\"><rect fill=\"#FFFFFF\" height=\"45.9375\" id=\"E5\" rx=\"10\" ry=\"10\" style=\"stroke: #383838; stroke-width: 1.5;\" width=\"42\" x=\"44\" y=\"147\"/><text fill=\"#000000\" font-family=\"sans-serif\" font-size=\"12\" font-style=\"italic\" lengthAdjust=\"spacingAndGlyphs\" textLength=\"40\" x=\"45\" y=\"163.1387\">«part»</text><text fill=\"#000000\" font-family=\"sans-serif\" font-size=\"12\" lengthAdjust=\"spacingAndGlyphs\" textLength=\"8\" x=\"61\" y=\"177.1074\">g</text><line style=\"stroke: #383838; stroke-width: 1.5;\" x1=\"45\" x2=\"85\" y1=\"184.9375\" y2=\"184.9375\"/></a><!--MD5=[209b3feb70ccb6233bfe1053d122c12c]\n",
       "reverse link E2 to E3--><a href=\"psysml:c0fa1ef5-beff-4377-a65a-0adbb28c5765\" target=\"_top\" title=\"psysml:c0fa1ef5-beff-4377-a65a-0adbb28c5765\" xlink:actuate=\"onRequest\" xlink:href=\"psysml:c0fa1ef5-beff-4377-a65a-0adbb28c5765\" xlink:show=\"new\" xlink:title=\"psysml:c0fa1ef5-beff-4377-a65a-0adbb28c5765\" xlink:type=\"simple\"><path d=\"M154,100.44 C154,115.87 154,133.47 154,146.98 \" fill=\"none\" id=\"E2&lt;-E3\" style=\"stroke: #383838; stroke-width: 1.0;\"/><polygon fill=\"#383838\" points=\"154,87.06,150,93.06,154,99.06,158,93.06,154,87.06\" style=\"stroke: #383838; stroke-width: 1.0;\"/></a><!--MD5=[62aa6af11e70f752912c1cb0466f24f7]\n",
       "reverse link E4 to E5--><a href=\"psysml:e9e4e094-e1ef-4d59-8b5d-bef394effc04\" target=\"_top\" title=\"psysml:e9e4e094-e1ef-4d59-8b5d-bef394effc04\" xlink:actuate=\"onRequest\" xlink:href=\"psysml:e9e4e094-e1ef-4d59-8b5d-bef394effc04\" xlink:show=\"new\" xlink:title=\"psysml:e9e4e094-e1ef-4d59-8b5d-bef394effc04\" xlink:type=\"simple\"><path d=\"M65,100.44 C65,115.87 65,133.47 65,146.98 \" fill=\"none\" id=\"E4&lt;-E5\" style=\"stroke: #383838; stroke-width: 1.0;\"/><polygon fill=\"#383838\" points=\"65,87.06,61,93.06,65,99.06,69,93.06,65,87.06\" style=\"stroke: #383838; stroke-width: 1.0;\"/></a><!--MD5=[128656fa2b7d008bf9dc419024a657fe]\n",
       "@startuml\r\n",
       "skinparam monochrome true\r\n",
       "skinparam classbackgroundcolor white\r\n",
       "skinparam shadowing false\r\n",
       "skinparam wrapWidth 300\r\n",
       "hide circle\r\n",
       "\r\n",
       "package \"Q\" as E1  [[psysml:2f37afb0-cd4e-4fb5-8035-2782344ffa0d ]]  {\r\n",
       "comp usage \"f\" as E2  <<(T,blue)part>> [[psysml:808101de-d573-40e0-bd9c-1a41ac0023c1 ]] {\r\n",
       "}\r\n",
       "comp usage \"a\" as E3  <<(T,blue)part>> [[psysml:c0fa1ef5-beff-4377-a65a-0adbb28c5765 ]] {\r\n",
       "}\r\n",
       "comp def \"C\" as E4  <<(T,blue)part def>> [[psysml:ae693b7b-cdf9-497f-b28d-123f2277c02f ]] {\r\n",
       "}\r\n",
       "comp usage \"g\" as E5  <<(T,blue)part>> [[psysml:e9e4e094-e1ef-4d59-8b5d-bef394effc04 ]] {\r\n",
       "}\r\n",
       "E2 *- - E3 [[psysml:c0fa1ef5-beff-4377-a65a-0adbb28c5765 ]] \r\n",
       "E4 *- - E5 [[psysml:e9e4e094-e1ef-4d59-8b5d-bef394effc04 ]] \r\n",
       "}\r\n",
       "@enduml\r\n",
       "\n",
       "PlantUML version 1.2020.13(Sat Jun 13 12:26:38 UTC 2020)\n",
       "(EPL source distribution)\n",
       "Java Runtime: OpenJDK Runtime Environment\n",
       "JVM: OpenJDK 64-Bit Server VM\n",
       "Default Encoding: UTF-8\n",
       "Language: en\n",
       "Country: null\n",
       "--></g></svg>"
      ]
     },
     "execution_count": 37,
     "metadata": {},
     "output_type": "execute_result"
    }
   ],
   "source": [
    "%viz --style=\"DEFAULT\" --view=\"Default\" \"Q\""
   ]
  },
  {
   "cell_type": "code",
   "execution_count": 38,
   "id": "surrounded-wichita",
   "metadata": {
    "execution": {
     "iopub.execute_input": "2021-03-26T12:08:02.677257Z",
     "iopub.status.busy": "2021-03-26T12:08:02.676561Z",
     "iopub.status.idle": "2021-03-26T12:08:02.707241Z",
     "shell.execute_reply": "2021-03-26T12:08:02.705733Z"
    }
   },
   "outputs": [
    {
     "data": {
      "image/svg+xml": [
       "<?xml version=\"1.0\" encoding=\"UTF-8\" standalone=\"no\"?><svg xmlns=\"http://www.w3.org/2000/svg\" xmlns:xlink=\"http://www.w3.org/1999/xlink\" contentScriptType=\"application/ecmascript\" contentStyleType=\"text/css\" height=\"221px\" preserveAspectRatio=\"none\" style=\"width:213px;height:221px;\" version=\"1.1\" viewBox=\"0 0 213 221\" width=\"213px\" zoomAndPan=\"magnify\"><defs/><g><!--MD5=[fbc87193dbaf4d95561dea2c320d4a47]\n",
       "cluster E1--><a href=\"psysml:2f37afb0-cd4e-4fb5-8035-2782344ffa0d\" target=\"_top\" title=\"psysml:2f37afb0-cd4e-4fb5-8035-2782344ffa0d\" xlink:actuate=\"onRequest\" xlink:href=\"psysml:2f37afb0-cd4e-4fb5-8035-2782344ffa0d\" xlink:show=\"new\" xlink:title=\"psysml:2f37afb0-cd4e-4fb5-8035-2782344ffa0d\" xlink:type=\"simple\"><polygon fill=\"#FFFFFF\" points=\"16,6,34,6,41,28.2969,191,28.2969,191,209,16,209,16,6\" style=\"stroke: #000000; stroke-width: 1.5;\"/><line style=\"stroke: #000000; stroke-width: 1.5;\" x1=\"16\" x2=\"41\" y1=\"28.2969\" y2=\"28.2969\"/><text fill=\"#000000\" font-family=\"sans-serif\" font-size=\"14\" font-weight=\"bold\" lengthAdjust=\"spacingAndGlyphs\" textLength=\"12\" x=\"20\" y=\"20.9951\">Q</text></a><!--MD5=[b4997ac47864f28c2f74865a473b2911]\n",
       "class E2--><a href=\"psysml:808101de-d573-40e0-bd9c-1a41ac0023c1\" target=\"_top\" title=\"psysml:808101de-d573-40e0-bd9c-1a41ac0023c1\" xlink:actuate=\"onRequest\" xlink:href=\"psysml:808101de-d573-40e0-bd9c-1a41ac0023c1\" xlink:show=\"new\" xlink:title=\"psysml:808101de-d573-40e0-bd9c-1a41ac0023c1\" xlink:type=\"simple\"><rect fill=\"#FFFFFF\" height=\"45.9375\" id=\"E2\" rx=\"10\" ry=\"10\" style=\"stroke: #383838; stroke-width: 1.5;\" width=\"42\" x=\"133\" y=\"41\"/><text fill=\"#000000\" font-family=\"sans-serif\" font-size=\"12\" font-style=\"italic\" lengthAdjust=\"spacingAndGlyphs\" textLength=\"40\" x=\"134\" y=\"57.1387\">«part»</text><text fill=\"#000000\" font-family=\"sans-serif\" font-size=\"12\" lengthAdjust=\"spacingAndGlyphs\" textLength=\"4\" x=\"152\" y=\"71.1074\">f</text><line style=\"stroke: #383838; stroke-width: 1.5;\" x1=\"134\" x2=\"174\" y1=\"78.9375\" y2=\"78.9375\"/></a><!--MD5=[09b614a08d8cba4a07c9adeb5e0fee81]\n",
       "class E3--><a href=\"psysml:c0fa1ef5-beff-4377-a65a-0adbb28c5765\" target=\"_top\" title=\"psysml:c0fa1ef5-beff-4377-a65a-0adbb28c5765\" xlink:actuate=\"onRequest\" xlink:href=\"psysml:c0fa1ef5-beff-4377-a65a-0adbb28c5765\" xlink:show=\"new\" xlink:title=\"psysml:c0fa1ef5-beff-4377-a65a-0adbb28c5765\" xlink:type=\"simple\"><rect fill=\"#FFFFFF\" height=\"45.9375\" id=\"E3\" rx=\"10\" ry=\"10\" style=\"stroke: #383838; stroke-width: 1.5;\" width=\"42\" x=\"133\" y=\"147\"/><text fill=\"#000000\" font-family=\"sans-serif\" font-size=\"12\" font-style=\"italic\" lengthAdjust=\"spacingAndGlyphs\" textLength=\"40\" x=\"134\" y=\"163.1387\">«part»</text><text fill=\"#000000\" font-family=\"sans-serif\" font-size=\"12\" lengthAdjust=\"spacingAndGlyphs\" textLength=\"8\" x=\"150\" y=\"177.1074\">a</text><line style=\"stroke: #383838; stroke-width: 1.5;\" x1=\"134\" x2=\"174\" y1=\"184.9375\" y2=\"184.9375\"/></a><!--MD5=[ebbe1d658d1005bcc118a6aa81145e00]\n",
       "class E4--><a href=\"psysml:ae693b7b-cdf9-497f-b28d-123f2277c02f\" target=\"_top\" title=\"psysml:ae693b7b-cdf9-497f-b28d-123f2277c02f\" xlink:actuate=\"onRequest\" xlink:href=\"psysml:ae693b7b-cdf9-497f-b28d-123f2277c02f\" xlink:show=\"new\" xlink:title=\"psysml:ae693b7b-cdf9-497f-b28d-123f2277c02f\" xlink:type=\"simple\"><rect fill=\"#FFFFFF\" height=\"45.9375\" id=\"E4\" style=\"stroke: #383838; stroke-width: 1.5;\" width=\"66\" x=\"32\" y=\"41\"/><text fill=\"#000000\" font-family=\"sans-serif\" font-size=\"12\" font-style=\"italic\" lengthAdjust=\"spacingAndGlyphs\" textLength=\"64\" x=\"33\" y=\"57.1387\">«part def»</text><text fill=\"#000000\" font-family=\"sans-serif\" font-size=\"12\" lengthAdjust=\"spacingAndGlyphs\" textLength=\"8\" x=\"61\" y=\"71.1074\">C</text><line style=\"stroke: #383838; stroke-width: 1.5;\" x1=\"33\" x2=\"97\" y1=\"78.9375\" y2=\"78.9375\"/></a><!--MD5=[270fce915f116d4de14055a7c1d9a0f3]\n",
       "class E5--><a href=\"psysml:e9e4e094-e1ef-4d59-8b5d-bef394effc04\" target=\"_top\" title=\"psysml:e9e4e094-e1ef-4d59-8b5d-bef394effc04\" xlink:actuate=\"onRequest\" xlink:href=\"psysml:e9e4e094-e1ef-4d59-8b5d-bef394effc04\" xlink:show=\"new\" xlink:title=\"psysml:e9e4e094-e1ef-4d59-8b5d-bef394effc04\" xlink:type=\"simple\"><rect fill=\"#FFFFFF\" height=\"45.9375\" id=\"E5\" rx=\"10\" ry=\"10\" style=\"stroke: #383838; stroke-width: 1.5;\" width=\"42\" x=\"44\" y=\"147\"/><text fill=\"#000000\" font-family=\"sans-serif\" font-size=\"12\" font-style=\"italic\" lengthAdjust=\"spacingAndGlyphs\" textLength=\"40\" x=\"45\" y=\"163.1387\">«part»</text><text fill=\"#000000\" font-family=\"sans-serif\" font-size=\"12\" lengthAdjust=\"spacingAndGlyphs\" textLength=\"8\" x=\"61\" y=\"177.1074\">g</text><line style=\"stroke: #383838; stroke-width: 1.5;\" x1=\"45\" x2=\"85\" y1=\"184.9375\" y2=\"184.9375\"/></a><!--MD5=[209b3feb70ccb6233bfe1053d122c12c]\n",
       "reverse link E2 to E3--><a href=\"psysml:c0fa1ef5-beff-4377-a65a-0adbb28c5765\" target=\"_top\" title=\"psysml:c0fa1ef5-beff-4377-a65a-0adbb28c5765\" xlink:actuate=\"onRequest\" xlink:href=\"psysml:c0fa1ef5-beff-4377-a65a-0adbb28c5765\" xlink:show=\"new\" xlink:title=\"psysml:c0fa1ef5-beff-4377-a65a-0adbb28c5765\" xlink:type=\"simple\"><path d=\"M154,100.44 C154,115.87 154,133.47 154,146.98 \" fill=\"none\" id=\"E2&lt;-E3\" style=\"stroke: #383838; stroke-width: 1.0;\"/><polygon fill=\"#383838\" points=\"154,87.06,150,93.06,154,99.06,158,93.06,154,87.06\" style=\"stroke: #383838; stroke-width: 1.0;\"/></a><!--MD5=[62aa6af11e70f752912c1cb0466f24f7]\n",
       "reverse link E4 to E5--><a href=\"psysml:e9e4e094-e1ef-4d59-8b5d-bef394effc04\" target=\"_top\" title=\"psysml:e9e4e094-e1ef-4d59-8b5d-bef394effc04\" xlink:actuate=\"onRequest\" xlink:href=\"psysml:e9e4e094-e1ef-4d59-8b5d-bef394effc04\" xlink:show=\"new\" xlink:title=\"psysml:e9e4e094-e1ef-4d59-8b5d-bef394effc04\" xlink:type=\"simple\"><path d=\"M65,100.44 C65,115.87 65,133.47 65,146.98 \" fill=\"none\" id=\"E4&lt;-E5\" style=\"stroke: #383838; stroke-width: 1.0;\"/><polygon fill=\"#383838\" points=\"65,87.06,61,93.06,65,99.06,69,93.06,65,87.06\" style=\"stroke: #383838; stroke-width: 1.0;\"/></a><!--MD5=[128656fa2b7d008bf9dc419024a657fe]\n",
       "@startuml\r\n",
       "skinparam monochrome true\r\n",
       "skinparam classbackgroundcolor white\r\n",
       "skinparam shadowing false\r\n",
       "skinparam wrapWidth 300\r\n",
       "hide circle\r\n",
       "\r\n",
       "package \"Q\" as E1  [[psysml:2f37afb0-cd4e-4fb5-8035-2782344ffa0d ]]  {\r\n",
       "comp usage \"f\" as E2  <<(T,blue)part>> [[psysml:808101de-d573-40e0-bd9c-1a41ac0023c1 ]] {\r\n",
       "}\r\n",
       "comp usage \"a\" as E3  <<(T,blue)part>> [[psysml:c0fa1ef5-beff-4377-a65a-0adbb28c5765 ]] {\r\n",
       "}\r\n",
       "comp def \"C\" as E4  <<(T,blue)part def>> [[psysml:ae693b7b-cdf9-497f-b28d-123f2277c02f ]] {\r\n",
       "}\r\n",
       "comp usage \"g\" as E5  <<(T,blue)part>> [[psysml:e9e4e094-e1ef-4d59-8b5d-bef394effc04 ]] {\r\n",
       "}\r\n",
       "E2 *- - E3 [[psysml:c0fa1ef5-beff-4377-a65a-0adbb28c5765 ]] \r\n",
       "E4 *- - E5 [[psysml:e9e4e094-e1ef-4d59-8b5d-bef394effc04 ]] \r\n",
       "}\r\n",
       "@enduml\r\n",
       "\n",
       "PlantUML version 1.2020.13(Sat Jun 13 12:26:38 UTC 2020)\n",
       "(EPL source distribution)\n",
       "Java Runtime: OpenJDK Runtime Environment\n",
       "JVM: OpenJDK 64-Bit Server VM\n",
       "Default Encoding: UTF-8\n",
       "Language: en\n",
       "Country: null\n",
       "--></g></svg>"
      ]
     },
     "execution_count": 38,
     "metadata": {},
     "output_type": "execute_result"
    }
   ],
   "source": [
    "%viz --style=\"DEFAULT\" --view=\"Tree\" \"Q\""
   ]
  },
  {
   "cell_type": "code",
   "execution_count": 39,
   "id": "legitimate-labor",
   "metadata": {
    "execution": {
     "iopub.execute_input": "2021-03-26T12:08:02.759116Z",
     "iopub.status.busy": "2021-03-26T12:08:02.758454Z",
     "iopub.status.idle": "2021-03-26T12:08:02.764208Z",
     "shell.execute_reply": "2021-03-26T12:08:02.764670Z"
    }
   },
   "outputs": [
    {
     "data": {
      "image/svg+xml": [
       "<?xml version=\"1.0\" encoding=\"UTF-8\" standalone=\"no\"?><svg xmlns=\"http://www.w3.org/2000/svg\" xmlns:xlink=\"http://www.w3.org/1999/xlink\" contentScriptType=\"application/ecmascript\" contentStyleType=\"text/css\" height=\"12px\" preserveAspectRatio=\"none\" style=\"width:12px;height:12px;\" version=\"1.1\" viewBox=\"0 0 12 12\" width=\"12px\" zoomAndPan=\"magnify\"><defs/><g><!--MD5=[c5f280e076d0d61ccf4b0f27871bda1d]\n",
       "@startuml\r\n",
       "skinparam monochrome true\r\n",
       "skinparam classbackgroundcolor white\r\n",
       "skinparam shadowing false\r\n",
       "skinparam wrapWidth 300\r\n",
       "hide circle\r\n",
       "\r\n",
       "@enduml\r\n",
       "\n",
       "PlantUML version 1.2020.13(Sat Jun 13 12:26:38 UTC 2020)\n",
       "(EPL source distribution)\n",
       "Java Runtime: OpenJDK Runtime Environment\n",
       "JVM: OpenJDK 64-Bit Server VM\n",
       "Default Encoding: UTF-8\n",
       "Language: en\n",
       "Country: null\n",
       "--></g></svg>"
      ]
     },
     "execution_count": 39,
     "metadata": {},
     "output_type": "execute_result"
    }
   ],
   "source": [
    "%viz --style=\"DEFAULT\" --view=\"State\" \"Q\""
   ]
  },
  {
   "cell_type": "code",
   "execution_count": 40,
   "id": "extended-japanese",
   "metadata": {
    "execution": {
     "iopub.execute_input": "2021-03-26T12:08:02.816288Z",
     "iopub.status.busy": "2021-03-26T12:08:02.815812Z",
     "iopub.status.idle": "2021-03-26T12:08:02.848791Z",
     "shell.execute_reply": "2021-03-26T12:08:02.849115Z"
    }
   },
   "outputs": [
    {
     "data": {
      "image/svg+xml": [
       "<?xml version=\"1.0\" encoding=\"UTF-8\" standalone=\"no\"?><svg xmlns=\"http://www.w3.org/2000/svg\" xmlns:xlink=\"http://www.w3.org/1999/xlink\" contentScriptType=\"application/ecmascript\" contentStyleType=\"text/css\" height=\"192px\" preserveAspectRatio=\"none\" style=\"width:279px;height:192px;\" version=\"1.1\" viewBox=\"0 0 279 192\" width=\"279px\" zoomAndPan=\"magnify\"><defs/><g><!--MD5=[fbc87193dbaf4d95561dea2c320d4a47]\n",
       "cluster E1--><a href=\"psysml:2f37afb0-cd4e-4fb5-8035-2782344ffa0d\" target=\"_top\" title=\"psysml:2f37afb0-cd4e-4fb5-8035-2782344ffa0d\" xlink:actuate=\"onRequest\" xlink:href=\"psysml:2f37afb0-cd4e-4fb5-8035-2782344ffa0d\" xlink:show=\"new\" xlink:title=\"psysml:2f37afb0-cd4e-4fb5-8035-2782344ffa0d\" xlink:type=\"simple\"><polygon fill=\"#FFFFFF\" points=\"16,6,34,6,41,28.2969,257,28.2969,257,180,16,180,16,6\" style=\"stroke: #000000; stroke-width: 1.5;\"/><line style=\"stroke: #000000; stroke-width: 1.5;\" x1=\"16\" x2=\"41\" y1=\"28.2969\" y2=\"28.2969\"/><text fill=\"#000000\" font-family=\"sans-serif\" font-size=\"14\" font-weight=\"bold\" lengthAdjust=\"spacingAndGlyphs\" textLength=\"12\" x=\"20\" y=\"20.9951\">Q</text></a><!--MD5=[e4f7fae6ed58524ba242bb0b0d3be6b7]\n",
       "cluster E2--><a href=\"psysml:808101de-d573-40e0-bd9c-1a41ac0023c1\" target=\"_top\" title=\"psysml:808101de-d573-40e0-bd9c-1a41ac0023c1\" xlink:actuate=\"onRequest\" xlink:href=\"psysml:808101de-d573-40e0-bd9c-1a41ac0023c1\" xlink:show=\"new\" xlink:title=\"psysml:808101de-d573-40e0-bd9c-1a41ac0023c1\" xlink:type=\"simple\"><rect fill=\"#FFFFFF\" height=\"91\" id=\"E2\" rx=\"10\" ry=\"10\" style=\"stroke: #383838; stroke-width: 1.5;\" width=\"82\" x=\"151\" y=\"65\"/><rect fill=\"#F8F8F8\" height=\"23.9688\" rx=\"10\" ry=\"10\" style=\"stroke: #F8F8F8; stroke-width: 1.5;\" width=\"82\" x=\"151\" y=\"65\"/><rect fill=\"#F8F8F8\" height=\"10\" style=\"stroke: #F8F8F8; stroke-width: 1.5;\" width=\"82\" x=\"151\" y=\"78.9688\"/><rect fill=\"none\" height=\"91\" id=\"E2\" rx=\"10\" ry=\"10\" style=\"stroke: #383838; stroke-width: 1.5;\" width=\"82\" x=\"151\" y=\"65\"/><text fill=\"#000000\" font-family=\"sans-serif\" font-size=\"12\" lengthAdjust=\"spacingAndGlyphs\" textLength=\"4\" x=\"190\" y=\"81.1387\">f</text><line style=\"stroke: #383838; stroke-width: 1.0;\" x1=\"151\" x2=\"233\" y1=\"88.9688\" y2=\"88.9688\"/></a><!--MD5=[f6df4d0ebaf0b5dfb2ced0ae5af7c670]\n",
       "cluster E4--><a href=\"psysml:ae693b7b-cdf9-497f-b28d-123f2277c02f\" target=\"_top\" title=\"psysml:ae693b7b-cdf9-497f-b28d-123f2277c02f\" xlink:actuate=\"onRequest\" xlink:href=\"psysml:ae693b7b-cdf9-497f-b28d-123f2277c02f\" xlink:show=\"new\" xlink:title=\"psysml:ae693b7b-cdf9-497f-b28d-123f2277c02f\" xlink:type=\"simple\"><rect fill=\"#FFFFFF\" height=\"107\" id=\"E4\" style=\"stroke: #383838; stroke-width: 1.5;\" width=\"87\" x=\"40\" y=\"49\"/><rect fill=\"#F8F8F8\" height=\"37.9375\" style=\"stroke: #383838; stroke-width: 1.5;\" width=\"87\" x=\"40\" y=\"49\"/><text fill=\"#000000\" font-family=\"sans-serif\" font-size=\"12\" font-style=\"italic\" lengthAdjust=\"spacingAndGlyphs\" textLength=\"64\" x=\"51.5\" y=\"65.1387\">«part def»</text><text fill=\"#000000\" font-family=\"sans-serif\" font-size=\"12\" lengthAdjust=\"spacingAndGlyphs\" textLength=\"8\" x=\"79.5\" y=\"79.1074\">C</text></a><g id=\"E1.E2.E3\"><a href=\"psysml:c0fa1ef5-beff-4377-a65a-0adbb28c5765\" target=\"_top\" title=\"psysml:c0fa1ef5-beff-4377-a65a-0adbb28c5765\" xlink:actuate=\"onRequest\" xlink:href=\"psysml:c0fa1ef5-beff-4377-a65a-0adbb28c5765\" xlink:show=\"new\" xlink:title=\"psysml:c0fa1ef5-beff-4377-a65a-0adbb28c5765\" xlink:type=\"simple\"><rect fill=\"#FFFFFF\" height=\"40\" id=\"E3\" rx=\"10\" ry=\"10\" style=\"stroke: #383838; stroke-width: 1.5;\" width=\"50\" x=\"167\" y=\"100\"/><rect fill=\"#F8F8F8\" height=\"23.9688\" rx=\"10\" ry=\"10\" style=\"stroke: #F8F8F8; stroke-width: 1.5;\" width=\"50\" x=\"167\" y=\"100\"/><rect fill=\"#F8F8F8\" height=\"10\" style=\"stroke: #F8F8F8; stroke-width: 1.5;\" width=\"50\" x=\"167\" y=\"113.9688\"/><rect fill=\"none\" height=\"40\" id=\"E3\" rx=\"10\" ry=\"10\" style=\"stroke: #383838; stroke-width: 1.5;\" width=\"50\" x=\"167\" y=\"100\"/><text fill=\"#000000\" font-family=\"sans-serif\" font-size=\"12\" lengthAdjust=\"spacingAndGlyphs\" textLength=\"8\" x=\"188\" y=\"116.1387\">a</text></a></g><g id=\"E1.E4.E5\"><a href=\"psysml:e9e4e094-e1ef-4d59-8b5d-bef394effc04\" target=\"_top\" title=\"psysml:e9e4e094-e1ef-4d59-8b5d-bef394effc04\" xlink:actuate=\"onRequest\" xlink:href=\"psysml:e9e4e094-e1ef-4d59-8b5d-bef394effc04\" xlink:show=\"new\" xlink:title=\"psysml:e9e4e094-e1ef-4d59-8b5d-bef394effc04\" xlink:type=\"simple\"><rect fill=\"#FFFFFF\" height=\"40\" id=\"E5\" rx=\"10\" ry=\"10\" style=\"stroke: #383838; stroke-width: 1.5;\" width=\"50\" x=\"58\" y=\"100\"/><rect fill=\"#F8F8F8\" height=\"23.9688\" rx=\"10\" ry=\"10\" style=\"stroke: #F8F8F8; stroke-width: 1.5;\" width=\"50\" x=\"58\" y=\"100\"/><rect fill=\"#F8F8F8\" height=\"10\" style=\"stroke: #F8F8F8; stroke-width: 1.5;\" width=\"50\" x=\"58\" y=\"113.9688\"/><rect fill=\"none\" height=\"40\" id=\"E5\" rx=\"10\" ry=\"10\" style=\"stroke: #383838; stroke-width: 1.5;\" width=\"50\" x=\"58\" y=\"100\"/><text fill=\"#000000\" font-family=\"sans-serif\" font-size=\"12\" lengthAdjust=\"spacingAndGlyphs\" textLength=\"8\" x=\"79\" y=\"116.1387\">g</text></a></g><!--MD5=[6c5cc1aa79ffb7f37ab94d1524855dd5]\n",
       "@startuml\r\n",
       "skinparam ranksep 8\r\n",
       "skinparam rectangle {\r\n",
       " backgroundColor<<block>> LightGreen\r\n",
       "}\r\n",
       "skinparam monochrome true\r\n",
       "skinparam classbackgroundcolor white\r\n",
       "skinparam shadowing false\r\n",
       "skinparam wrapWidth 300\r\n",
       "hide circle\r\n",
       "\r\n",
       "package \"Q\" as E1  [[psysml:2f37afb0-cd4e-4fb5-8035-2782344ffa0d ]]  {\r\n",
       "rec usage \"f\" as E2  [[psysml:808101de-d573-40e0-bd9c-1a41ac0023c1 ]] {\r\n",
       "rec usage \"a\" as E3  [[psysml:c0fa1ef5-beff-4377-a65a-0adbb28c5765 ]] {\r\n",
       "}\r\n",
       "}\r\n",
       "rec def \"C\" as E4  <<(T,blue)part def>> [[psysml:ae693b7b-cdf9-497f-b28d-123f2277c02f ]] {\r\n",
       "rec usage \"g\" as E5  [[psysml:e9e4e094-e1ef-4d59-8b5d-bef394effc04 ]] {\r\n",
       "}\r\n",
       "}\r\n",
       "}\r\n",
       "@enduml\r\n",
       "\n",
       "PlantUML version 1.2020.13(Sat Jun 13 12:26:38 UTC 2020)\n",
       "(EPL source distribution)\n",
       "Java Runtime: OpenJDK Runtime Environment\n",
       "JVM: OpenJDK 64-Bit Server VM\n",
       "Default Encoding: UTF-8\n",
       "Language: en\n",
       "Country: null\n",
       "--></g></svg>"
      ]
     },
     "execution_count": 40,
     "metadata": {},
     "output_type": "execute_result"
    }
   ],
   "source": [
    "%viz --style=\"DEFAULT\" --view=\"Interconnection\" \"Q\""
   ]
  },
  {
   "cell_type": "code",
   "execution_count": 41,
   "id": "chemical-reunion",
   "metadata": {
    "execution": {
     "iopub.execute_input": "2021-03-26T12:08:02.899365Z",
     "iopub.status.busy": "2021-03-26T12:08:02.898825Z",
     "iopub.status.idle": "2021-03-26T12:08:02.904256Z",
     "shell.execute_reply": "2021-03-26T12:08:02.903936Z"
    }
   },
   "outputs": [
    {
     "data": {
      "image/svg+xml": [
       "<?xml version=\"1.0\" encoding=\"UTF-8\" standalone=\"no\"?><svg xmlns=\"http://www.w3.org/2000/svg\" xmlns:xlink=\"http://www.w3.org/1999/xlink\" contentScriptType=\"application/ecmascript\" contentStyleType=\"text/css\" height=\"12px\" preserveAspectRatio=\"none\" style=\"width:12px;height:12px;\" version=\"1.1\" viewBox=\"0 0 12 12\" width=\"12px\" zoomAndPan=\"magnify\"><defs/><g><!--MD5=[388f21188e31bfdd97050473b19af356]\n",
       "@startuml\r\n",
       "skinparam ranksep 8\r\n",
       "skinparam monochrome true\r\n",
       "skinparam classbackgroundcolor white\r\n",
       "skinparam shadowing false\r\n",
       "skinparam wrapWidth 300\r\n",
       "hide circle\r\n",
       "\r\n",
       "@enduml\r\n",
       "\n",
       "PlantUML version 1.2020.13(Sat Jun 13 12:26:38 UTC 2020)\n",
       "(EPL source distribution)\n",
       "Java Runtime: OpenJDK Runtime Environment\n",
       "JVM: OpenJDK 64-Bit Server VM\n",
       "Default Encoding: UTF-8\n",
       "Language: en\n",
       "Country: null\n",
       "--></g></svg>"
      ]
     },
     "execution_count": 41,
     "metadata": {},
     "output_type": "execute_result"
    }
   ],
   "source": [
    "%viz --style=\"DEFAULT\" --view=\"Action\" \"Q\""
   ]
  },
  {
   "cell_type": "code",
   "execution_count": 42,
   "id": "random-canberra",
   "metadata": {
    "execution": {
     "iopub.execute_input": "2021-03-26T12:08:02.955234Z",
     "iopub.status.busy": "2021-03-26T12:08:02.954593Z",
     "iopub.status.idle": "2021-03-26T12:08:02.984461Z",
     "shell.execute_reply": "2021-03-26T12:08:02.984791Z"
    }
   },
   "outputs": [
    {
     "data": {
      "image/svg+xml": [
       "<?xml version=\"1.0\" encoding=\"UTF-8\" standalone=\"no\"?><svg xmlns=\"http://www.w3.org/2000/svg\" xmlns:xlink=\"http://www.w3.org/1999/xlink\" contentScriptType=\"application/ecmascript\" contentStyleType=\"text/css\" height=\"221px\" preserveAspectRatio=\"none\" style=\"width:213px;height:221px;\" version=\"1.1\" viewBox=\"0 0 213 221\" width=\"213px\" zoomAndPan=\"magnify\"><defs/><g><!--MD5=[fbc87193dbaf4d95561dea2c320d4a47]\n",
       "cluster E1--><a href=\"psysml:2f37afb0-cd4e-4fb5-8035-2782344ffa0d\" target=\"_top\" title=\"psysml:2f37afb0-cd4e-4fb5-8035-2782344ffa0d\" xlink:actuate=\"onRequest\" xlink:href=\"psysml:2f37afb0-cd4e-4fb5-8035-2782344ffa0d\" xlink:show=\"new\" xlink:title=\"psysml:2f37afb0-cd4e-4fb5-8035-2782344ffa0d\" xlink:type=\"simple\"><polygon fill=\"#FFFFFF\" points=\"16,6,34,6,41,28.2969,191,28.2969,191,209,16,209,16,6\" style=\"stroke: #000000; stroke-width: 1.5;\"/><line style=\"stroke: #000000; stroke-width: 1.5;\" x1=\"16\" x2=\"41\" y1=\"28.2969\" y2=\"28.2969\"/><text fill=\"#000000\" font-family=\"sans-serif\" font-size=\"14\" font-weight=\"bold\" lengthAdjust=\"spacingAndGlyphs\" textLength=\"12\" x=\"20\" y=\"20.9951\">Q</text></a><!--MD5=[b4997ac47864f28c2f74865a473b2911]\n",
       "class E2--><a href=\"psysml:808101de-d573-40e0-bd9c-1a41ac0023c1\" target=\"_top\" title=\"psysml:808101de-d573-40e0-bd9c-1a41ac0023c1\" xlink:actuate=\"onRequest\" xlink:href=\"psysml:808101de-d573-40e0-bd9c-1a41ac0023c1\" xlink:show=\"new\" xlink:title=\"psysml:808101de-d573-40e0-bd9c-1a41ac0023c1\" xlink:type=\"simple\"><rect fill=\"#FFFFFF\" height=\"45.9375\" id=\"E2\" rx=\"10\" ry=\"10\" style=\"stroke: #383838; stroke-width: 1.5;\" width=\"42\" x=\"133\" y=\"41\"/><text fill=\"#000000\" font-family=\"sans-serif\" font-size=\"12\" font-style=\"italic\" lengthAdjust=\"spacingAndGlyphs\" textLength=\"40\" x=\"134\" y=\"57.1387\">«part»</text><text fill=\"#000000\" font-family=\"sans-serif\" font-size=\"12\" lengthAdjust=\"spacingAndGlyphs\" textLength=\"4\" x=\"152\" y=\"71.1074\">f</text><line style=\"stroke: #383838; stroke-width: 1.5;\" x1=\"134\" x2=\"174\" y1=\"78.9375\" y2=\"78.9375\"/></a><!--MD5=[09b614a08d8cba4a07c9adeb5e0fee81]\n",
       "class E3--><a href=\"psysml:c0fa1ef5-beff-4377-a65a-0adbb28c5765\" target=\"_top\" title=\"psysml:c0fa1ef5-beff-4377-a65a-0adbb28c5765\" xlink:actuate=\"onRequest\" xlink:href=\"psysml:c0fa1ef5-beff-4377-a65a-0adbb28c5765\" xlink:show=\"new\" xlink:title=\"psysml:c0fa1ef5-beff-4377-a65a-0adbb28c5765\" xlink:type=\"simple\"><rect fill=\"#FFFFFF\" height=\"45.9375\" id=\"E3\" rx=\"10\" ry=\"10\" style=\"stroke: #383838; stroke-width: 1.5;\" width=\"42\" x=\"133\" y=\"147\"/><text fill=\"#000000\" font-family=\"sans-serif\" font-size=\"12\" font-style=\"italic\" lengthAdjust=\"spacingAndGlyphs\" textLength=\"40\" x=\"134\" y=\"163.1387\">«part»</text><text fill=\"#000000\" font-family=\"sans-serif\" font-size=\"12\" lengthAdjust=\"spacingAndGlyphs\" textLength=\"8\" x=\"150\" y=\"177.1074\">a</text><line style=\"stroke: #383838; stroke-width: 1.5;\" x1=\"134\" x2=\"174\" y1=\"184.9375\" y2=\"184.9375\"/></a><!--MD5=[ebbe1d658d1005bcc118a6aa81145e00]\n",
       "class E4--><a href=\"psysml:ae693b7b-cdf9-497f-b28d-123f2277c02f\" target=\"_top\" title=\"psysml:ae693b7b-cdf9-497f-b28d-123f2277c02f\" xlink:actuate=\"onRequest\" xlink:href=\"psysml:ae693b7b-cdf9-497f-b28d-123f2277c02f\" xlink:show=\"new\" xlink:title=\"psysml:ae693b7b-cdf9-497f-b28d-123f2277c02f\" xlink:type=\"simple\"><rect fill=\"#FFFFFF\" height=\"45.9375\" id=\"E4\" style=\"stroke: #383838; stroke-width: 1.5;\" width=\"66\" x=\"32\" y=\"41\"/><text fill=\"#000000\" font-family=\"sans-serif\" font-size=\"12\" font-style=\"italic\" lengthAdjust=\"spacingAndGlyphs\" textLength=\"64\" x=\"33\" y=\"57.1387\">«part def»</text><text fill=\"#000000\" font-family=\"sans-serif\" font-size=\"12\" lengthAdjust=\"spacingAndGlyphs\" textLength=\"8\" x=\"61\" y=\"71.1074\">C</text><line style=\"stroke: #383838; stroke-width: 1.5;\" x1=\"33\" x2=\"97\" y1=\"78.9375\" y2=\"78.9375\"/></a><!--MD5=[270fce915f116d4de14055a7c1d9a0f3]\n",
       "class E5--><a href=\"psysml:e9e4e094-e1ef-4d59-8b5d-bef394effc04\" target=\"_top\" title=\"psysml:e9e4e094-e1ef-4d59-8b5d-bef394effc04\" xlink:actuate=\"onRequest\" xlink:href=\"psysml:e9e4e094-e1ef-4d59-8b5d-bef394effc04\" xlink:show=\"new\" xlink:title=\"psysml:e9e4e094-e1ef-4d59-8b5d-bef394effc04\" xlink:type=\"simple\"><rect fill=\"#FFFFFF\" height=\"45.9375\" id=\"E5\" rx=\"10\" ry=\"10\" style=\"stroke: #383838; stroke-width: 1.5;\" width=\"42\" x=\"44\" y=\"147\"/><text fill=\"#000000\" font-family=\"sans-serif\" font-size=\"12\" font-style=\"italic\" lengthAdjust=\"spacingAndGlyphs\" textLength=\"40\" x=\"45\" y=\"163.1387\">«part»</text><text fill=\"#000000\" font-family=\"sans-serif\" font-size=\"12\" lengthAdjust=\"spacingAndGlyphs\" textLength=\"8\" x=\"61\" y=\"177.1074\">g</text><line style=\"stroke: #383838; stroke-width: 1.5;\" x1=\"45\" x2=\"85\" y1=\"184.9375\" y2=\"184.9375\"/></a><!--MD5=[209b3feb70ccb6233bfe1053d122c12c]\n",
       "reverse link E2 to E3--><a href=\"psysml:c0fa1ef5-beff-4377-a65a-0adbb28c5765\" target=\"_top\" title=\"psysml:c0fa1ef5-beff-4377-a65a-0adbb28c5765\" xlink:actuate=\"onRequest\" xlink:href=\"psysml:c0fa1ef5-beff-4377-a65a-0adbb28c5765\" xlink:show=\"new\" xlink:title=\"psysml:c0fa1ef5-beff-4377-a65a-0adbb28c5765\" xlink:type=\"simple\"><path d=\"M154,100.44 C154,115.87 154,133.47 154,146.98 \" fill=\"none\" id=\"E2&lt;-E3\" style=\"stroke: #383838; stroke-width: 1.0;\"/><polygon fill=\"#383838\" points=\"154,87.06,150,93.06,154,99.06,158,93.06,154,87.06\" style=\"stroke: #383838; stroke-width: 1.0;\"/></a><!--MD5=[62aa6af11e70f752912c1cb0466f24f7]\n",
       "reverse link E4 to E5--><a href=\"psysml:e9e4e094-e1ef-4d59-8b5d-bef394effc04\" target=\"_top\" title=\"psysml:e9e4e094-e1ef-4d59-8b5d-bef394effc04\" xlink:actuate=\"onRequest\" xlink:href=\"psysml:e9e4e094-e1ef-4d59-8b5d-bef394effc04\" xlink:show=\"new\" xlink:title=\"psysml:e9e4e094-e1ef-4d59-8b5d-bef394effc04\" xlink:type=\"simple\"><path d=\"M65,100.44 C65,115.87 65,133.47 65,146.98 \" fill=\"none\" id=\"E4&lt;-E5\" style=\"stroke: #383838; stroke-width: 1.0;\"/><polygon fill=\"#383838\" points=\"65,87.06,61,93.06,65,99.06,69,93.06,65,87.06\" style=\"stroke: #383838; stroke-width: 1.0;\"/></a><!--MD5=[128656fa2b7d008bf9dc419024a657fe]\n",
       "@startuml\r\n",
       "skinparam monochrome true\r\n",
       "skinparam classbackgroundcolor white\r\n",
       "skinparam shadowing false\r\n",
       "skinparam wrapWidth 300\r\n",
       "hide circle\r\n",
       "\r\n",
       "package \"Q\" as E1  [[psysml:2f37afb0-cd4e-4fb5-8035-2782344ffa0d ]]  {\r\n",
       "comp usage \"f\" as E2  <<(T,blue)part>> [[psysml:808101de-d573-40e0-bd9c-1a41ac0023c1 ]] {\r\n",
       "}\r\n",
       "comp usage \"a\" as E3  <<(T,blue)part>> [[psysml:c0fa1ef5-beff-4377-a65a-0adbb28c5765 ]] {\r\n",
       "}\r\n",
       "comp def \"C\" as E4  <<(T,blue)part def>> [[psysml:ae693b7b-cdf9-497f-b28d-123f2277c02f ]] {\r\n",
       "}\r\n",
       "comp usage \"g\" as E5  <<(T,blue)part>> [[psysml:e9e4e094-e1ef-4d59-8b5d-bef394effc04 ]] {\r\n",
       "}\r\n",
       "E2 *- - E3 [[psysml:c0fa1ef5-beff-4377-a65a-0adbb28c5765 ]] \r\n",
       "E4 *- - E5 [[psysml:e9e4e094-e1ef-4d59-8b5d-bef394effc04 ]] \r\n",
       "}\r\n",
       "@enduml\r\n",
       "\n",
       "PlantUML version 1.2020.13(Sat Jun 13 12:26:38 UTC 2020)\n",
       "(EPL source distribution)\n",
       "Java Runtime: OpenJDK Runtime Environment\n",
       "JVM: OpenJDK 64-Bit Server VM\n",
       "Default Encoding: UTF-8\n",
       "Language: en\n",
       "Country: null\n",
       "--></g></svg>"
      ]
     },
     "execution_count": 42,
     "metadata": {},
     "output_type": "execute_result"
    }
   ],
   "source": [
    "%viz --style=\"DEFAULT\" --view=\"Sequence\" \"Q\""
   ]
  },
  {
   "cell_type": "code",
   "execution_count": 43,
   "id": "optimum-register",
   "metadata": {
    "execution": {
     "iopub.execute_input": "2021-03-26T12:08:03.035467Z",
     "iopub.status.busy": "2021-03-26T12:08:03.035087Z",
     "iopub.status.idle": "2021-03-26T12:08:03.063007Z",
     "shell.execute_reply": "2021-03-26T12:08:03.062661Z"
    }
   },
   "outputs": [
    {
     "data": {
      "image/svg+xml": [
       "<?xml version=\"1.0\" encoding=\"UTF-8\" standalone=\"no\"?><svg xmlns=\"http://www.w3.org/2000/svg\" xmlns:xlink=\"http://www.w3.org/1999/xlink\" contentScriptType=\"application/ecmascript\" contentStyleType=\"text/css\" height=\"221px\" preserveAspectRatio=\"none\" style=\"width:213px;height:221px;\" version=\"1.1\" viewBox=\"0 0 213 221\" width=\"213px\" zoomAndPan=\"magnify\"><defs/><g><!--MD5=[fbc87193dbaf4d95561dea2c320d4a47]\n",
       "cluster E1--><a href=\"psysml:2f37afb0-cd4e-4fb5-8035-2782344ffa0d\" target=\"_top\" title=\"psysml:2f37afb0-cd4e-4fb5-8035-2782344ffa0d\" xlink:actuate=\"onRequest\" xlink:href=\"psysml:2f37afb0-cd4e-4fb5-8035-2782344ffa0d\" xlink:show=\"new\" xlink:title=\"psysml:2f37afb0-cd4e-4fb5-8035-2782344ffa0d\" xlink:type=\"simple\"><polygon fill=\"#FFFFFF\" points=\"16,6,34,6,41,28.2969,191,28.2969,191,209,16,209,16,6\" style=\"stroke: #000000; stroke-width: 1.5;\"/><line style=\"stroke: #000000; stroke-width: 1.5;\" x1=\"16\" x2=\"41\" y1=\"28.2969\" y2=\"28.2969\"/><text fill=\"#000000\" font-family=\"sans-serif\" font-size=\"14\" font-weight=\"bold\" lengthAdjust=\"spacingAndGlyphs\" textLength=\"12\" x=\"20\" y=\"20.9951\">Q</text></a><!--MD5=[b4997ac47864f28c2f74865a473b2911]\n",
       "class E2--><a href=\"psysml:808101de-d573-40e0-bd9c-1a41ac0023c1\" target=\"_top\" title=\"psysml:808101de-d573-40e0-bd9c-1a41ac0023c1\" xlink:actuate=\"onRequest\" xlink:href=\"psysml:808101de-d573-40e0-bd9c-1a41ac0023c1\" xlink:show=\"new\" xlink:title=\"psysml:808101de-d573-40e0-bd9c-1a41ac0023c1\" xlink:type=\"simple\"><rect fill=\"#FFFFFF\" height=\"45.9375\" id=\"E2\" rx=\"10\" ry=\"10\" style=\"stroke: #383838; stroke-width: 1.5;\" width=\"42\" x=\"133\" y=\"41\"/><text fill=\"#000000\" font-family=\"sans-serif\" font-size=\"12\" font-style=\"italic\" lengthAdjust=\"spacingAndGlyphs\" textLength=\"40\" x=\"134\" y=\"57.1387\">«part»</text><text fill=\"#000000\" font-family=\"sans-serif\" font-size=\"12\" lengthAdjust=\"spacingAndGlyphs\" textLength=\"4\" x=\"152\" y=\"71.1074\">f</text><line style=\"stroke: #383838; stroke-width: 1.5;\" x1=\"134\" x2=\"174\" y1=\"78.9375\" y2=\"78.9375\"/></a><!--MD5=[09b614a08d8cba4a07c9adeb5e0fee81]\n",
       "class E3--><a href=\"psysml:c0fa1ef5-beff-4377-a65a-0adbb28c5765\" target=\"_top\" title=\"psysml:c0fa1ef5-beff-4377-a65a-0adbb28c5765\" xlink:actuate=\"onRequest\" xlink:href=\"psysml:c0fa1ef5-beff-4377-a65a-0adbb28c5765\" xlink:show=\"new\" xlink:title=\"psysml:c0fa1ef5-beff-4377-a65a-0adbb28c5765\" xlink:type=\"simple\"><rect fill=\"#FFFFFF\" height=\"45.9375\" id=\"E3\" rx=\"10\" ry=\"10\" style=\"stroke: #383838; stroke-width: 1.5;\" width=\"42\" x=\"133\" y=\"147\"/><text fill=\"#000000\" font-family=\"sans-serif\" font-size=\"12\" font-style=\"italic\" lengthAdjust=\"spacingAndGlyphs\" textLength=\"40\" x=\"134\" y=\"163.1387\">«part»</text><text fill=\"#000000\" font-family=\"sans-serif\" font-size=\"12\" lengthAdjust=\"spacingAndGlyphs\" textLength=\"8\" x=\"150\" y=\"177.1074\">a</text><line style=\"stroke: #383838; stroke-width: 1.5;\" x1=\"134\" x2=\"174\" y1=\"184.9375\" y2=\"184.9375\"/></a><!--MD5=[ebbe1d658d1005bcc118a6aa81145e00]\n",
       "class E4--><a href=\"psysml:ae693b7b-cdf9-497f-b28d-123f2277c02f\" target=\"_top\" title=\"psysml:ae693b7b-cdf9-497f-b28d-123f2277c02f\" xlink:actuate=\"onRequest\" xlink:href=\"psysml:ae693b7b-cdf9-497f-b28d-123f2277c02f\" xlink:show=\"new\" xlink:title=\"psysml:ae693b7b-cdf9-497f-b28d-123f2277c02f\" xlink:type=\"simple\"><rect fill=\"#FFFFFF\" height=\"45.9375\" id=\"E4\" style=\"stroke: #383838; stroke-width: 1.5;\" width=\"66\" x=\"32\" y=\"41\"/><text fill=\"#000000\" font-family=\"sans-serif\" font-size=\"12\" font-style=\"italic\" lengthAdjust=\"spacingAndGlyphs\" textLength=\"64\" x=\"33\" y=\"57.1387\">«part def»</text><text fill=\"#000000\" font-family=\"sans-serif\" font-size=\"12\" lengthAdjust=\"spacingAndGlyphs\" textLength=\"8\" x=\"61\" y=\"71.1074\">C</text><line style=\"stroke: #383838; stroke-width: 1.5;\" x1=\"33\" x2=\"97\" y1=\"78.9375\" y2=\"78.9375\"/></a><!--MD5=[270fce915f116d4de14055a7c1d9a0f3]\n",
       "class E5--><a href=\"psysml:e9e4e094-e1ef-4d59-8b5d-bef394effc04\" target=\"_top\" title=\"psysml:e9e4e094-e1ef-4d59-8b5d-bef394effc04\" xlink:actuate=\"onRequest\" xlink:href=\"psysml:e9e4e094-e1ef-4d59-8b5d-bef394effc04\" xlink:show=\"new\" xlink:title=\"psysml:e9e4e094-e1ef-4d59-8b5d-bef394effc04\" xlink:type=\"simple\"><rect fill=\"#FFFFFF\" height=\"45.9375\" id=\"E5\" rx=\"10\" ry=\"10\" style=\"stroke: #383838; stroke-width: 1.5;\" width=\"42\" x=\"44\" y=\"147\"/><text fill=\"#000000\" font-family=\"sans-serif\" font-size=\"12\" font-style=\"italic\" lengthAdjust=\"spacingAndGlyphs\" textLength=\"40\" x=\"45\" y=\"163.1387\">«part»</text><text fill=\"#000000\" font-family=\"sans-serif\" font-size=\"12\" lengthAdjust=\"spacingAndGlyphs\" textLength=\"8\" x=\"61\" y=\"177.1074\">g</text><line style=\"stroke: #383838; stroke-width: 1.5;\" x1=\"45\" x2=\"85\" y1=\"184.9375\" y2=\"184.9375\"/></a><!--MD5=[209b3feb70ccb6233bfe1053d122c12c]\n",
       "reverse link E2 to E3--><a href=\"psysml:c0fa1ef5-beff-4377-a65a-0adbb28c5765\" target=\"_top\" title=\"psysml:c0fa1ef5-beff-4377-a65a-0adbb28c5765\" xlink:actuate=\"onRequest\" xlink:href=\"psysml:c0fa1ef5-beff-4377-a65a-0adbb28c5765\" xlink:show=\"new\" xlink:title=\"psysml:c0fa1ef5-beff-4377-a65a-0adbb28c5765\" xlink:type=\"simple\"><path d=\"M154,100.44 C154,115.87 154,133.47 154,146.98 \" fill=\"none\" id=\"E2&lt;-E3\" style=\"stroke: #383838; stroke-width: 1.0;\"/><polygon fill=\"#383838\" points=\"154,87.06,150,93.06,154,99.06,158,93.06,154,87.06\" style=\"stroke: #383838; stroke-width: 1.0;\"/></a><!--MD5=[62aa6af11e70f752912c1cb0466f24f7]\n",
       "reverse link E4 to E5--><a href=\"psysml:e9e4e094-e1ef-4d59-8b5d-bef394effc04\" target=\"_top\" title=\"psysml:e9e4e094-e1ef-4d59-8b5d-bef394effc04\" xlink:actuate=\"onRequest\" xlink:href=\"psysml:e9e4e094-e1ef-4d59-8b5d-bef394effc04\" xlink:show=\"new\" xlink:title=\"psysml:e9e4e094-e1ef-4d59-8b5d-bef394effc04\" xlink:type=\"simple\"><path d=\"M65,100.44 C65,115.87 65,133.47 65,146.98 \" fill=\"none\" id=\"E4&lt;-E5\" style=\"stroke: #383838; stroke-width: 1.0;\"/><polygon fill=\"#383838\" points=\"65,87.06,61,93.06,65,99.06,69,93.06,65,87.06\" style=\"stroke: #383838; stroke-width: 1.0;\"/></a><!--MD5=[128656fa2b7d008bf9dc419024a657fe]\n",
       "@startuml\r\n",
       "skinparam monochrome true\r\n",
       "skinparam classbackgroundcolor white\r\n",
       "skinparam shadowing false\r\n",
       "skinparam wrapWidth 300\r\n",
       "hide circle\r\n",
       "\r\n",
       "package \"Q\" as E1  [[psysml:2f37afb0-cd4e-4fb5-8035-2782344ffa0d ]]  {\r\n",
       "comp usage \"f\" as E2  <<(T,blue)part>> [[psysml:808101de-d573-40e0-bd9c-1a41ac0023c1 ]] {\r\n",
       "}\r\n",
       "comp usage \"a\" as E3  <<(T,blue)part>> [[psysml:c0fa1ef5-beff-4377-a65a-0adbb28c5765 ]] {\r\n",
       "}\r\n",
       "comp def \"C\" as E4  <<(T,blue)part def>> [[psysml:ae693b7b-cdf9-497f-b28d-123f2277c02f ]] {\r\n",
       "}\r\n",
       "comp usage \"g\" as E5  <<(T,blue)part>> [[psysml:e9e4e094-e1ef-4d59-8b5d-bef394effc04 ]] {\r\n",
       "}\r\n",
       "E2 *- - E3 [[psysml:c0fa1ef5-beff-4377-a65a-0adbb28c5765 ]] \r\n",
       "E4 *- - E5 [[psysml:e9e4e094-e1ef-4d59-8b5d-bef394effc04 ]] \r\n",
       "}\r\n",
       "@enduml\r\n",
       "\n",
       "PlantUML version 1.2020.13(Sat Jun 13 12:26:38 UTC 2020)\n",
       "(EPL source distribution)\n",
       "Java Runtime: OpenJDK Runtime Environment\n",
       "JVM: OpenJDK 64-Bit Server VM\n",
       "Default Encoding: UTF-8\n",
       "Language: en\n",
       "Country: null\n",
       "--></g></svg>"
      ]
     },
     "execution_count": 43,
     "metadata": {},
     "output_type": "execute_result"
    }
   ],
   "source": [
    "%viz --style=\"DEFAULT\" --view=\"MIXED\" \"Q\""
   ]
  },
  {
   "cell_type": "code",
   "execution_count": 44,
   "id": "behind-dinner",
   "metadata": {
    "execution": {
     "iopub.execute_input": "2021-03-26T12:08:03.114145Z",
     "iopub.status.busy": "2021-03-26T12:08:03.113568Z",
     "iopub.status.idle": "2021-03-26T12:08:03.139479Z",
     "shell.execute_reply": "2021-03-26T12:08:03.139063Z"
    }
   },
   "outputs": [
    {
     "data": {
      "image/svg+xml": [
       "<?xml version=\"1.0\" encoding=\"UTF-8\" standalone=\"no\"?><svg xmlns=\"http://www.w3.org/2000/svg\" xmlns:xlink=\"http://www.w3.org/1999/xlink\" contentScriptType=\"application/ecmascript\" contentStyleType=\"text/css\" height=\"221px\" preserveAspectRatio=\"none\" style=\"width:213px;height:221px;\" version=\"1.1\" viewBox=\"0 0 213 221\" width=\"213px\" zoomAndPan=\"magnify\"><defs/><g><!--MD5=[fbc87193dbaf4d95561dea2c320d4a47]\n",
       "cluster E1--><a href=\"psysml:2f37afb0-cd4e-4fb5-8035-2782344ffa0d\" target=\"_top\" title=\"psysml:2f37afb0-cd4e-4fb5-8035-2782344ffa0d\" xlink:actuate=\"onRequest\" xlink:href=\"psysml:2f37afb0-cd4e-4fb5-8035-2782344ffa0d\" xlink:show=\"new\" xlink:title=\"psysml:2f37afb0-cd4e-4fb5-8035-2782344ffa0d\" xlink:type=\"simple\"><polygon fill=\"#FFFFFF\" points=\"16,6,34,6,41,28.2969,191,28.2969,191,209,16,209,16,6\" style=\"stroke: #000000; stroke-width: 1.5;\"/><line style=\"stroke: #000000; stroke-width: 1.5;\" x1=\"16\" x2=\"41\" y1=\"28.2969\" y2=\"28.2969\"/><text fill=\"#000000\" font-family=\"sans-serif\" font-size=\"14\" font-weight=\"bold\" lengthAdjust=\"spacingAndGlyphs\" textLength=\"12\" x=\"20\" y=\"20.9951\">Q</text></a><!--MD5=[b4997ac47864f28c2f74865a473b2911]\n",
       "class E2--><a href=\"psysml:808101de-d573-40e0-bd9c-1a41ac0023c1\" target=\"_top\" title=\"psysml:808101de-d573-40e0-bd9c-1a41ac0023c1\" xlink:actuate=\"onRequest\" xlink:href=\"psysml:808101de-d573-40e0-bd9c-1a41ac0023c1\" xlink:show=\"new\" xlink:title=\"psysml:808101de-d573-40e0-bd9c-1a41ac0023c1\" xlink:type=\"simple\"><rect fill=\"#FFFFFF\" height=\"45.9375\" id=\"E2\" rx=\"10\" ry=\"10\" style=\"stroke: #383838; stroke-width: 1.5;\" width=\"42\" x=\"133\" y=\"41\"/><text fill=\"#000000\" font-family=\"sans-serif\" font-size=\"12\" font-style=\"italic\" lengthAdjust=\"spacingAndGlyphs\" textLength=\"40\" x=\"134\" y=\"57.1387\">«part»</text><text fill=\"#000000\" font-family=\"sans-serif\" font-size=\"12\" lengthAdjust=\"spacingAndGlyphs\" textLength=\"4\" x=\"152\" y=\"71.1074\">f</text><line style=\"stroke: #383838; stroke-width: 1.5;\" x1=\"134\" x2=\"174\" y1=\"78.9375\" y2=\"78.9375\"/></a><!--MD5=[09b614a08d8cba4a07c9adeb5e0fee81]\n",
       "class E3--><a href=\"psysml:c0fa1ef5-beff-4377-a65a-0adbb28c5765\" target=\"_top\" title=\"psysml:c0fa1ef5-beff-4377-a65a-0adbb28c5765\" xlink:actuate=\"onRequest\" xlink:href=\"psysml:c0fa1ef5-beff-4377-a65a-0adbb28c5765\" xlink:show=\"new\" xlink:title=\"psysml:c0fa1ef5-beff-4377-a65a-0adbb28c5765\" xlink:type=\"simple\"><rect fill=\"#FFFFFF\" height=\"45.9375\" id=\"E3\" rx=\"10\" ry=\"10\" style=\"stroke: #383838; stroke-width: 1.5;\" width=\"42\" x=\"133\" y=\"147\"/><text fill=\"#000000\" font-family=\"sans-serif\" font-size=\"12\" font-style=\"italic\" lengthAdjust=\"spacingAndGlyphs\" textLength=\"40\" x=\"134\" y=\"163.1387\">«part»</text><text fill=\"#000000\" font-family=\"sans-serif\" font-size=\"12\" lengthAdjust=\"spacingAndGlyphs\" textLength=\"8\" x=\"150\" y=\"177.1074\">a</text><line style=\"stroke: #383838; stroke-width: 1.5;\" x1=\"134\" x2=\"174\" y1=\"184.9375\" y2=\"184.9375\"/></a><!--MD5=[ebbe1d658d1005bcc118a6aa81145e00]\n",
       "class E4--><a href=\"psysml:ae693b7b-cdf9-497f-b28d-123f2277c02f\" target=\"_top\" title=\"psysml:ae693b7b-cdf9-497f-b28d-123f2277c02f\" xlink:actuate=\"onRequest\" xlink:href=\"psysml:ae693b7b-cdf9-497f-b28d-123f2277c02f\" xlink:show=\"new\" xlink:title=\"psysml:ae693b7b-cdf9-497f-b28d-123f2277c02f\" xlink:type=\"simple\"><rect fill=\"#FFFFFF\" height=\"45.9375\" id=\"E4\" style=\"stroke: #383838; stroke-width: 1.5;\" width=\"66\" x=\"32\" y=\"41\"/><text fill=\"#000000\" font-family=\"sans-serif\" font-size=\"12\" font-style=\"italic\" lengthAdjust=\"spacingAndGlyphs\" textLength=\"64\" x=\"33\" y=\"57.1387\">«part def»</text><text fill=\"#000000\" font-family=\"sans-serif\" font-size=\"12\" lengthAdjust=\"spacingAndGlyphs\" textLength=\"8\" x=\"61\" y=\"71.1074\">C</text><line style=\"stroke: #383838; stroke-width: 1.5;\" x1=\"33\" x2=\"97\" y1=\"78.9375\" y2=\"78.9375\"/></a><!--MD5=[270fce915f116d4de14055a7c1d9a0f3]\n",
       "class E5--><a href=\"psysml:e9e4e094-e1ef-4d59-8b5d-bef394effc04\" target=\"_top\" title=\"psysml:e9e4e094-e1ef-4d59-8b5d-bef394effc04\" xlink:actuate=\"onRequest\" xlink:href=\"psysml:e9e4e094-e1ef-4d59-8b5d-bef394effc04\" xlink:show=\"new\" xlink:title=\"psysml:e9e4e094-e1ef-4d59-8b5d-bef394effc04\" xlink:type=\"simple\"><rect fill=\"#FFFFFF\" height=\"45.9375\" id=\"E5\" rx=\"10\" ry=\"10\" style=\"stroke: #383838; stroke-width: 1.5;\" width=\"42\" x=\"44\" y=\"147\"/><text fill=\"#000000\" font-family=\"sans-serif\" font-size=\"12\" font-style=\"italic\" lengthAdjust=\"spacingAndGlyphs\" textLength=\"40\" x=\"45\" y=\"163.1387\">«part»</text><text fill=\"#000000\" font-family=\"sans-serif\" font-size=\"12\" lengthAdjust=\"spacingAndGlyphs\" textLength=\"8\" x=\"61\" y=\"177.1074\">g</text><line style=\"stroke: #383838; stroke-width: 1.5;\" x1=\"45\" x2=\"85\" y1=\"184.9375\" y2=\"184.9375\"/></a><!--MD5=[209b3feb70ccb6233bfe1053d122c12c]\n",
       "reverse link E2 to E3--><a href=\"psysml:c0fa1ef5-beff-4377-a65a-0adbb28c5765\" target=\"_top\" title=\"psysml:c0fa1ef5-beff-4377-a65a-0adbb28c5765\" xlink:actuate=\"onRequest\" xlink:href=\"psysml:c0fa1ef5-beff-4377-a65a-0adbb28c5765\" xlink:show=\"new\" xlink:title=\"psysml:c0fa1ef5-beff-4377-a65a-0adbb28c5765\" xlink:type=\"simple\"><path d=\"M154,100.44 C154,115.87 154,133.47 154,146.98 \" fill=\"none\" id=\"E2&lt;-E3\" style=\"stroke: #383838; stroke-width: 1.0;\"/><polygon fill=\"#383838\" points=\"154,87.06,150,93.06,154,99.06,158,93.06,154,87.06\" style=\"stroke: #383838; stroke-width: 1.0;\"/></a><!--MD5=[62aa6af11e70f752912c1cb0466f24f7]\n",
       "reverse link E4 to E5--><a href=\"psysml:e9e4e094-e1ef-4d59-8b5d-bef394effc04\" target=\"_top\" title=\"psysml:e9e4e094-e1ef-4d59-8b5d-bef394effc04\" xlink:actuate=\"onRequest\" xlink:href=\"psysml:e9e4e094-e1ef-4d59-8b5d-bef394effc04\" xlink:show=\"new\" xlink:title=\"psysml:e9e4e094-e1ef-4d59-8b5d-bef394effc04\" xlink:type=\"simple\"><path d=\"M65,100.44 C65,115.87 65,133.47 65,146.98 \" fill=\"none\" id=\"E4&lt;-E5\" style=\"stroke: #383838; stroke-width: 1.0;\"/><polygon fill=\"#383838\" points=\"65,87.06,61,93.06,65,99.06,69,93.06,65,87.06\" style=\"stroke: #383838; stroke-width: 1.0;\"/></a><!--MD5=[d1156531d38ddc3136240616531c67de]\n",
       "@startuml\r\n",
       "top to bottom direction\r\n",
       "skinparam monochrome true\r\n",
       "skinparam classbackgroundcolor white\r\n",
       "skinparam shadowing false\r\n",
       "skinparam wrapWidth 300\r\n",
       "hide circle\r\n",
       "\r\n",
       "package \"Q\" as E1  [[psysml:2f37afb0-cd4e-4fb5-8035-2782344ffa0d ]]  {\r\n",
       "comp usage \"f\" as E2  <<(T,blue)part>> [[psysml:808101de-d573-40e0-bd9c-1a41ac0023c1 ]] {\r\n",
       "}\r\n",
       "comp usage \"a\" as E3  <<(T,blue)part>> [[psysml:c0fa1ef5-beff-4377-a65a-0adbb28c5765 ]] {\r\n",
       "}\r\n",
       "comp def \"C\" as E4  <<(T,blue)part def>> [[psysml:ae693b7b-cdf9-497f-b28d-123f2277c02f ]] {\r\n",
       "}\r\n",
       "comp usage \"g\" as E5  <<(T,blue)part>> [[psysml:e9e4e094-e1ef-4d59-8b5d-bef394effc04 ]] {\r\n",
       "}\r\n",
       "E2 *- - E3 [[psysml:c0fa1ef5-beff-4377-a65a-0adbb28c5765 ]] \r\n",
       "E4 *- - E5 [[psysml:e9e4e094-e1ef-4d59-8b5d-bef394effc04 ]] \r\n",
       "}\r\n",
       "@enduml\r\n",
       "\n",
       "PlantUML version 1.2020.13(Sat Jun 13 12:26:38 UTC 2020)\n",
       "(EPL source distribution)\n",
       "Java Runtime: OpenJDK Runtime Environment\n",
       "JVM: OpenJDK 64-Bit Server VM\n",
       "Default Encoding: UTF-8\n",
       "Language: en\n",
       "Country: null\n",
       "--></g></svg>"
      ]
     },
     "execution_count": 44,
     "metadata": {},
     "output_type": "execute_result"
    }
   ],
   "source": [
    "%viz --style=\"TB\" --view=\"Default\" \"Q\""
   ]
  },
  {
   "cell_type": "code",
   "execution_count": 45,
   "id": "reliable-england",
   "metadata": {
    "execution": {
     "iopub.execute_input": "2021-03-26T12:08:03.190726Z",
     "iopub.status.busy": "2021-03-26T12:08:03.189849Z",
     "iopub.status.idle": "2021-03-26T12:08:03.216555Z",
     "shell.execute_reply": "2021-03-26T12:08:03.216902Z"
    }
   },
   "outputs": [
    {
     "data": {
      "image/svg+xml": [
       "<?xml version=\"1.0\" encoding=\"UTF-8\" standalone=\"no\"?><svg xmlns=\"http://www.w3.org/2000/svg\" xmlns:xlink=\"http://www.w3.org/1999/xlink\" contentScriptType=\"application/ecmascript\" contentStyleType=\"text/css\" height=\"221px\" preserveAspectRatio=\"none\" style=\"width:213px;height:221px;\" version=\"1.1\" viewBox=\"0 0 213 221\" width=\"213px\" zoomAndPan=\"magnify\"><defs/><g><!--MD5=[fbc87193dbaf4d95561dea2c320d4a47]\n",
       "cluster E1--><a href=\"psysml:2f37afb0-cd4e-4fb5-8035-2782344ffa0d\" target=\"_top\" title=\"psysml:2f37afb0-cd4e-4fb5-8035-2782344ffa0d\" xlink:actuate=\"onRequest\" xlink:href=\"psysml:2f37afb0-cd4e-4fb5-8035-2782344ffa0d\" xlink:show=\"new\" xlink:title=\"psysml:2f37afb0-cd4e-4fb5-8035-2782344ffa0d\" xlink:type=\"simple\"><polygon fill=\"#FFFFFF\" points=\"16,6,34,6,41,28.2969,191,28.2969,191,209,16,209,16,6\" style=\"stroke: #000000; stroke-width: 1.5;\"/><line style=\"stroke: #000000; stroke-width: 1.5;\" x1=\"16\" x2=\"41\" y1=\"28.2969\" y2=\"28.2969\"/><text fill=\"#000000\" font-family=\"sans-serif\" font-size=\"14\" font-weight=\"bold\" lengthAdjust=\"spacingAndGlyphs\" textLength=\"12\" x=\"20\" y=\"20.9951\">Q</text></a><!--MD5=[b4997ac47864f28c2f74865a473b2911]\n",
       "class E2--><a href=\"psysml:808101de-d573-40e0-bd9c-1a41ac0023c1\" target=\"_top\" title=\"psysml:808101de-d573-40e0-bd9c-1a41ac0023c1\" xlink:actuate=\"onRequest\" xlink:href=\"psysml:808101de-d573-40e0-bd9c-1a41ac0023c1\" xlink:show=\"new\" xlink:title=\"psysml:808101de-d573-40e0-bd9c-1a41ac0023c1\" xlink:type=\"simple\"><rect fill=\"#FFFFFF\" height=\"45.9375\" id=\"E2\" rx=\"10\" ry=\"10\" style=\"stroke: #383838; stroke-width: 1.5;\" width=\"42\" x=\"133\" y=\"41\"/><text fill=\"#000000\" font-family=\"sans-serif\" font-size=\"12\" font-style=\"italic\" lengthAdjust=\"spacingAndGlyphs\" textLength=\"40\" x=\"134\" y=\"57.1387\">«part»</text><text fill=\"#000000\" font-family=\"sans-serif\" font-size=\"12\" lengthAdjust=\"spacingAndGlyphs\" textLength=\"4\" x=\"152\" y=\"71.1074\">f</text><line style=\"stroke: #383838; stroke-width: 1.5;\" x1=\"134\" x2=\"174\" y1=\"78.9375\" y2=\"78.9375\"/></a><!--MD5=[09b614a08d8cba4a07c9adeb5e0fee81]\n",
       "class E3--><a href=\"psysml:c0fa1ef5-beff-4377-a65a-0adbb28c5765\" target=\"_top\" title=\"psysml:c0fa1ef5-beff-4377-a65a-0adbb28c5765\" xlink:actuate=\"onRequest\" xlink:href=\"psysml:c0fa1ef5-beff-4377-a65a-0adbb28c5765\" xlink:show=\"new\" xlink:title=\"psysml:c0fa1ef5-beff-4377-a65a-0adbb28c5765\" xlink:type=\"simple\"><rect fill=\"#FFFFFF\" height=\"45.9375\" id=\"E3\" rx=\"10\" ry=\"10\" style=\"stroke: #383838; stroke-width: 1.5;\" width=\"42\" x=\"133\" y=\"147\"/><text fill=\"#000000\" font-family=\"sans-serif\" font-size=\"12\" font-style=\"italic\" lengthAdjust=\"spacingAndGlyphs\" textLength=\"40\" x=\"134\" y=\"163.1387\">«part»</text><text fill=\"#000000\" font-family=\"sans-serif\" font-size=\"12\" lengthAdjust=\"spacingAndGlyphs\" textLength=\"8\" x=\"150\" y=\"177.1074\">a</text><line style=\"stroke: #383838; stroke-width: 1.5;\" x1=\"134\" x2=\"174\" y1=\"184.9375\" y2=\"184.9375\"/></a><!--MD5=[ebbe1d658d1005bcc118a6aa81145e00]\n",
       "class E4--><a href=\"psysml:ae693b7b-cdf9-497f-b28d-123f2277c02f\" target=\"_top\" title=\"psysml:ae693b7b-cdf9-497f-b28d-123f2277c02f\" xlink:actuate=\"onRequest\" xlink:href=\"psysml:ae693b7b-cdf9-497f-b28d-123f2277c02f\" xlink:show=\"new\" xlink:title=\"psysml:ae693b7b-cdf9-497f-b28d-123f2277c02f\" xlink:type=\"simple\"><rect fill=\"#FFFFFF\" height=\"45.9375\" id=\"E4\" style=\"stroke: #383838; stroke-width: 1.5;\" width=\"66\" x=\"32\" y=\"41\"/><text fill=\"#000000\" font-family=\"sans-serif\" font-size=\"12\" font-style=\"italic\" lengthAdjust=\"spacingAndGlyphs\" textLength=\"64\" x=\"33\" y=\"57.1387\">«part def»</text><text fill=\"#000000\" font-family=\"sans-serif\" font-size=\"12\" lengthAdjust=\"spacingAndGlyphs\" textLength=\"8\" x=\"61\" y=\"71.1074\">C</text><line style=\"stroke: #383838; stroke-width: 1.5;\" x1=\"33\" x2=\"97\" y1=\"78.9375\" y2=\"78.9375\"/></a><!--MD5=[270fce915f116d4de14055a7c1d9a0f3]\n",
       "class E5--><a href=\"psysml:e9e4e094-e1ef-4d59-8b5d-bef394effc04\" target=\"_top\" title=\"psysml:e9e4e094-e1ef-4d59-8b5d-bef394effc04\" xlink:actuate=\"onRequest\" xlink:href=\"psysml:e9e4e094-e1ef-4d59-8b5d-bef394effc04\" xlink:show=\"new\" xlink:title=\"psysml:e9e4e094-e1ef-4d59-8b5d-bef394effc04\" xlink:type=\"simple\"><rect fill=\"#FFFFFF\" height=\"45.9375\" id=\"E5\" rx=\"10\" ry=\"10\" style=\"stroke: #383838; stroke-width: 1.5;\" width=\"42\" x=\"44\" y=\"147\"/><text fill=\"#000000\" font-family=\"sans-serif\" font-size=\"12\" font-style=\"italic\" lengthAdjust=\"spacingAndGlyphs\" textLength=\"40\" x=\"45\" y=\"163.1387\">«part»</text><text fill=\"#000000\" font-family=\"sans-serif\" font-size=\"12\" lengthAdjust=\"spacingAndGlyphs\" textLength=\"8\" x=\"61\" y=\"177.1074\">g</text><line style=\"stroke: #383838; stroke-width: 1.5;\" x1=\"45\" x2=\"85\" y1=\"184.9375\" y2=\"184.9375\"/></a><!--MD5=[209b3feb70ccb6233bfe1053d122c12c]\n",
       "reverse link E2 to E3--><a href=\"psysml:c0fa1ef5-beff-4377-a65a-0adbb28c5765\" target=\"_top\" title=\"psysml:c0fa1ef5-beff-4377-a65a-0adbb28c5765\" xlink:actuate=\"onRequest\" xlink:href=\"psysml:c0fa1ef5-beff-4377-a65a-0adbb28c5765\" xlink:show=\"new\" xlink:title=\"psysml:c0fa1ef5-beff-4377-a65a-0adbb28c5765\" xlink:type=\"simple\"><path d=\"M154,100.44 C154,115.87 154,133.47 154,146.98 \" fill=\"none\" id=\"E2&lt;-E3\" style=\"stroke: #383838; stroke-width: 1.0;\"/><polygon fill=\"#383838\" points=\"154,87.06,150,93.06,154,99.06,158,93.06,154,87.06\" style=\"stroke: #383838; stroke-width: 1.0;\"/></a><!--MD5=[62aa6af11e70f752912c1cb0466f24f7]\n",
       "reverse link E4 to E5--><a href=\"psysml:e9e4e094-e1ef-4d59-8b5d-bef394effc04\" target=\"_top\" title=\"psysml:e9e4e094-e1ef-4d59-8b5d-bef394effc04\" xlink:actuate=\"onRequest\" xlink:href=\"psysml:e9e4e094-e1ef-4d59-8b5d-bef394effc04\" xlink:show=\"new\" xlink:title=\"psysml:e9e4e094-e1ef-4d59-8b5d-bef394effc04\" xlink:type=\"simple\"><path d=\"M65,100.44 C65,115.87 65,133.47 65,146.98 \" fill=\"none\" id=\"E4&lt;-E5\" style=\"stroke: #383838; stroke-width: 1.0;\"/><polygon fill=\"#383838\" points=\"65,87.06,61,93.06,65,99.06,69,93.06,65,87.06\" style=\"stroke: #383838; stroke-width: 1.0;\"/></a><!--MD5=[d1156531d38ddc3136240616531c67de]\n",
       "@startuml\r\n",
       "top to bottom direction\r\n",
       "skinparam monochrome true\r\n",
       "skinparam classbackgroundcolor white\r\n",
       "skinparam shadowing false\r\n",
       "skinparam wrapWidth 300\r\n",
       "hide circle\r\n",
       "\r\n",
       "package \"Q\" as E1  [[psysml:2f37afb0-cd4e-4fb5-8035-2782344ffa0d ]]  {\r\n",
       "comp usage \"f\" as E2  <<(T,blue)part>> [[psysml:808101de-d573-40e0-bd9c-1a41ac0023c1 ]] {\r\n",
       "}\r\n",
       "comp usage \"a\" as E3  <<(T,blue)part>> [[psysml:c0fa1ef5-beff-4377-a65a-0adbb28c5765 ]] {\r\n",
       "}\r\n",
       "comp def \"C\" as E4  <<(T,blue)part def>> [[psysml:ae693b7b-cdf9-497f-b28d-123f2277c02f ]] {\r\n",
       "}\r\n",
       "comp usage \"g\" as E5  <<(T,blue)part>> [[psysml:e9e4e094-e1ef-4d59-8b5d-bef394effc04 ]] {\r\n",
       "}\r\n",
       "E2 *- - E3 [[psysml:c0fa1ef5-beff-4377-a65a-0adbb28c5765 ]] \r\n",
       "E4 *- - E5 [[psysml:e9e4e094-e1ef-4d59-8b5d-bef394effc04 ]] \r\n",
       "}\r\n",
       "@enduml\r\n",
       "\n",
       "PlantUML version 1.2020.13(Sat Jun 13 12:26:38 UTC 2020)\n",
       "(EPL source distribution)\n",
       "Java Runtime: OpenJDK Runtime Environment\n",
       "JVM: OpenJDK 64-Bit Server VM\n",
       "Default Encoding: UTF-8\n",
       "Language: en\n",
       "Country: null\n",
       "--></g></svg>"
      ]
     },
     "execution_count": 45,
     "metadata": {},
     "output_type": "execute_result"
    }
   ],
   "source": [
    "%viz --style=\"TB\" --view=\"Tree\" \"Q\""
   ]
  },
  {
   "cell_type": "code",
   "execution_count": 46,
   "id": "documented-riverside",
   "metadata": {
    "execution": {
     "iopub.execute_input": "2021-03-26T12:08:03.267683Z",
     "iopub.status.busy": "2021-03-26T12:08:03.267260Z",
     "iopub.status.idle": "2021-03-26T12:08:03.272257Z",
     "shell.execute_reply": "2021-03-26T12:08:03.271972Z"
    }
   },
   "outputs": [
    {
     "data": {
      "image/svg+xml": [
       "<?xml version=\"1.0\" encoding=\"UTF-8\" standalone=\"no\"?><svg xmlns=\"http://www.w3.org/2000/svg\" xmlns:xlink=\"http://www.w3.org/1999/xlink\" contentScriptType=\"application/ecmascript\" contentStyleType=\"text/css\" height=\"12px\" preserveAspectRatio=\"none\" style=\"width:12px;height:12px;\" version=\"1.1\" viewBox=\"0 0 12 12\" width=\"12px\" zoomAndPan=\"magnify\"><defs/><g><!--MD5=[f4ee21bc66e489b5061b7c3e9601fdef]\n",
       "@startuml\r\n",
       "top to bottom direction\r\n",
       "skinparam monochrome true\r\n",
       "skinparam classbackgroundcolor white\r\n",
       "skinparam shadowing false\r\n",
       "skinparam wrapWidth 300\r\n",
       "hide circle\r\n",
       "\r\n",
       "@enduml\r\n",
       "\n",
       "PlantUML version 1.2020.13(Sat Jun 13 12:26:38 UTC 2020)\n",
       "(EPL source distribution)\n",
       "Java Runtime: OpenJDK Runtime Environment\n",
       "JVM: OpenJDK 64-Bit Server VM\n",
       "Default Encoding: UTF-8\n",
       "Language: en\n",
       "Country: null\n",
       "--></g></svg>"
      ]
     },
     "execution_count": 46,
     "metadata": {},
     "output_type": "execute_result"
    }
   ],
   "source": [
    "%viz --style=\"TB\" --view=\"State\" \"Q\""
   ]
  },
  {
   "cell_type": "code",
   "execution_count": 47,
   "id": "bright-intake",
   "metadata": {
    "execution": {
     "iopub.execute_input": "2021-03-26T12:08:03.325681Z",
     "iopub.status.busy": "2021-03-26T12:08:03.324847Z",
     "iopub.status.idle": "2021-03-26T12:08:03.353577Z",
     "shell.execute_reply": "2021-03-26T12:08:03.354025Z"
    }
   },
   "outputs": [
    {
     "data": {
      "image/svg+xml": [
       "<?xml version=\"1.0\" encoding=\"UTF-8\" standalone=\"no\"?><svg xmlns=\"http://www.w3.org/2000/svg\" xmlns:xlink=\"http://www.w3.org/1999/xlink\" contentScriptType=\"application/ecmascript\" contentStyleType=\"text/css\" height=\"192px\" preserveAspectRatio=\"none\" style=\"width:279px;height:192px;\" version=\"1.1\" viewBox=\"0 0 279 192\" width=\"279px\" zoomAndPan=\"magnify\"><defs/><g><!--MD5=[fbc87193dbaf4d95561dea2c320d4a47]\n",
       "cluster E1--><a href=\"psysml:2f37afb0-cd4e-4fb5-8035-2782344ffa0d\" target=\"_top\" title=\"psysml:2f37afb0-cd4e-4fb5-8035-2782344ffa0d\" xlink:actuate=\"onRequest\" xlink:href=\"psysml:2f37afb0-cd4e-4fb5-8035-2782344ffa0d\" xlink:show=\"new\" xlink:title=\"psysml:2f37afb0-cd4e-4fb5-8035-2782344ffa0d\" xlink:type=\"simple\"><polygon fill=\"#FFFFFF\" points=\"16,6,34,6,41,28.2969,257,28.2969,257,180,16,180,16,6\" style=\"stroke: #000000; stroke-width: 1.5;\"/><line style=\"stroke: #000000; stroke-width: 1.5;\" x1=\"16\" x2=\"41\" y1=\"28.2969\" y2=\"28.2969\"/><text fill=\"#000000\" font-family=\"sans-serif\" font-size=\"14\" font-weight=\"bold\" lengthAdjust=\"spacingAndGlyphs\" textLength=\"12\" x=\"20\" y=\"20.9951\">Q</text></a><!--MD5=[e4f7fae6ed58524ba242bb0b0d3be6b7]\n",
       "cluster E2--><a href=\"psysml:808101de-d573-40e0-bd9c-1a41ac0023c1\" target=\"_top\" title=\"psysml:808101de-d573-40e0-bd9c-1a41ac0023c1\" xlink:actuate=\"onRequest\" xlink:href=\"psysml:808101de-d573-40e0-bd9c-1a41ac0023c1\" xlink:show=\"new\" xlink:title=\"psysml:808101de-d573-40e0-bd9c-1a41ac0023c1\" xlink:type=\"simple\"><rect fill=\"#FFFFFF\" height=\"91\" id=\"E2\" rx=\"10\" ry=\"10\" style=\"stroke: #383838; stroke-width: 1.5;\" width=\"82\" x=\"151\" y=\"65\"/><rect fill=\"#F8F8F8\" height=\"23.9688\" rx=\"10\" ry=\"10\" style=\"stroke: #F8F8F8; stroke-width: 1.5;\" width=\"82\" x=\"151\" y=\"65\"/><rect fill=\"#F8F8F8\" height=\"10\" style=\"stroke: #F8F8F8; stroke-width: 1.5;\" width=\"82\" x=\"151\" y=\"78.9688\"/><rect fill=\"none\" height=\"91\" id=\"E2\" rx=\"10\" ry=\"10\" style=\"stroke: #383838; stroke-width: 1.5;\" width=\"82\" x=\"151\" y=\"65\"/><text fill=\"#000000\" font-family=\"sans-serif\" font-size=\"12\" lengthAdjust=\"spacingAndGlyphs\" textLength=\"4\" x=\"190\" y=\"81.1387\">f</text><line style=\"stroke: #383838; stroke-width: 1.0;\" x1=\"151\" x2=\"233\" y1=\"88.9688\" y2=\"88.9688\"/></a><!--MD5=[f6df4d0ebaf0b5dfb2ced0ae5af7c670]\n",
       "cluster E4--><a href=\"psysml:ae693b7b-cdf9-497f-b28d-123f2277c02f\" target=\"_top\" title=\"psysml:ae693b7b-cdf9-497f-b28d-123f2277c02f\" xlink:actuate=\"onRequest\" xlink:href=\"psysml:ae693b7b-cdf9-497f-b28d-123f2277c02f\" xlink:show=\"new\" xlink:title=\"psysml:ae693b7b-cdf9-497f-b28d-123f2277c02f\" xlink:type=\"simple\"><rect fill=\"#FFFFFF\" height=\"107\" id=\"E4\" style=\"stroke: #383838; stroke-width: 1.5;\" width=\"87\" x=\"40\" y=\"49\"/><rect fill=\"#F8F8F8\" height=\"37.9375\" style=\"stroke: #383838; stroke-width: 1.5;\" width=\"87\" x=\"40\" y=\"49\"/><text fill=\"#000000\" font-family=\"sans-serif\" font-size=\"12\" font-style=\"italic\" lengthAdjust=\"spacingAndGlyphs\" textLength=\"64\" x=\"51.5\" y=\"65.1387\">«part def»</text><text fill=\"#000000\" font-family=\"sans-serif\" font-size=\"12\" lengthAdjust=\"spacingAndGlyphs\" textLength=\"8\" x=\"79.5\" y=\"79.1074\">C</text></a><g id=\"E1.E2.E3\"><a href=\"psysml:c0fa1ef5-beff-4377-a65a-0adbb28c5765\" target=\"_top\" title=\"psysml:c0fa1ef5-beff-4377-a65a-0adbb28c5765\" xlink:actuate=\"onRequest\" xlink:href=\"psysml:c0fa1ef5-beff-4377-a65a-0adbb28c5765\" xlink:show=\"new\" xlink:title=\"psysml:c0fa1ef5-beff-4377-a65a-0adbb28c5765\" xlink:type=\"simple\"><rect fill=\"#FFFFFF\" height=\"40\" id=\"E3\" rx=\"10\" ry=\"10\" style=\"stroke: #383838; stroke-width: 1.5;\" width=\"50\" x=\"167\" y=\"100\"/><rect fill=\"#F8F8F8\" height=\"23.9688\" rx=\"10\" ry=\"10\" style=\"stroke: #F8F8F8; stroke-width: 1.5;\" width=\"50\" x=\"167\" y=\"100\"/><rect fill=\"#F8F8F8\" height=\"10\" style=\"stroke: #F8F8F8; stroke-width: 1.5;\" width=\"50\" x=\"167\" y=\"113.9688\"/><rect fill=\"none\" height=\"40\" id=\"E3\" rx=\"10\" ry=\"10\" style=\"stroke: #383838; stroke-width: 1.5;\" width=\"50\" x=\"167\" y=\"100\"/><text fill=\"#000000\" font-family=\"sans-serif\" font-size=\"12\" lengthAdjust=\"spacingAndGlyphs\" textLength=\"8\" x=\"188\" y=\"116.1387\">a</text></a></g><g id=\"E1.E4.E5\"><a href=\"psysml:e9e4e094-e1ef-4d59-8b5d-bef394effc04\" target=\"_top\" title=\"psysml:e9e4e094-e1ef-4d59-8b5d-bef394effc04\" xlink:actuate=\"onRequest\" xlink:href=\"psysml:e9e4e094-e1ef-4d59-8b5d-bef394effc04\" xlink:show=\"new\" xlink:title=\"psysml:e9e4e094-e1ef-4d59-8b5d-bef394effc04\" xlink:type=\"simple\"><rect fill=\"#FFFFFF\" height=\"40\" id=\"E5\" rx=\"10\" ry=\"10\" style=\"stroke: #383838; stroke-width: 1.5;\" width=\"50\" x=\"58\" y=\"100\"/><rect fill=\"#F8F8F8\" height=\"23.9688\" rx=\"10\" ry=\"10\" style=\"stroke: #F8F8F8; stroke-width: 1.5;\" width=\"50\" x=\"58\" y=\"100\"/><rect fill=\"#F8F8F8\" height=\"10\" style=\"stroke: #F8F8F8; stroke-width: 1.5;\" width=\"50\" x=\"58\" y=\"113.9688\"/><rect fill=\"none\" height=\"40\" id=\"E5\" rx=\"10\" ry=\"10\" style=\"stroke: #383838; stroke-width: 1.5;\" width=\"50\" x=\"58\" y=\"100\"/><text fill=\"#000000\" font-family=\"sans-serif\" font-size=\"12\" lengthAdjust=\"spacingAndGlyphs\" textLength=\"8\" x=\"79\" y=\"116.1387\">g</text></a></g><!--MD5=[ff229d61eb38f7616dc17adf17f72554]\n",
       "@startuml\r\n",
       "skinparam ranksep 8\r\n",
       "skinparam rectangle {\r\n",
       " backgroundColor<<block>> LightGreen\r\n",
       "}\r\n",
       "top to bottom direction\r\n",
       "skinparam monochrome true\r\n",
       "skinparam classbackgroundcolor white\r\n",
       "skinparam shadowing false\r\n",
       "skinparam wrapWidth 300\r\n",
       "hide circle\r\n",
       "\r\n",
       "package \"Q\" as E1  [[psysml:2f37afb0-cd4e-4fb5-8035-2782344ffa0d ]]  {\r\n",
       "rec usage \"f\" as E2  [[psysml:808101de-d573-40e0-bd9c-1a41ac0023c1 ]] {\r\n",
       "rec usage \"a\" as E3  [[psysml:c0fa1ef5-beff-4377-a65a-0adbb28c5765 ]] {\r\n",
       "}\r\n",
       "}\r\n",
       "rec def \"C\" as E4  <<(T,blue)part def>> [[psysml:ae693b7b-cdf9-497f-b28d-123f2277c02f ]] {\r\n",
       "rec usage \"g\" as E5  [[psysml:e9e4e094-e1ef-4d59-8b5d-bef394effc04 ]] {\r\n",
       "}\r\n",
       "}\r\n",
       "}\r\n",
       "@enduml\r\n",
       "\n",
       "PlantUML version 1.2020.13(Sat Jun 13 12:26:38 UTC 2020)\n",
       "(EPL source distribution)\n",
       "Java Runtime: OpenJDK Runtime Environment\n",
       "JVM: OpenJDK 64-Bit Server VM\n",
       "Default Encoding: UTF-8\n",
       "Language: en\n",
       "Country: null\n",
       "--></g></svg>"
      ]
     },
     "execution_count": 47,
     "metadata": {},
     "output_type": "execute_result"
    }
   ],
   "source": [
    "%viz --style=\"TB\" --view=\"Interconnection\" \"Q\""
   ]
  },
  {
   "cell_type": "code",
   "execution_count": 48,
   "id": "instant-expert",
   "metadata": {
    "execution": {
     "iopub.execute_input": "2021-03-26T12:08:03.406868Z",
     "iopub.status.busy": "2021-03-26T12:08:03.406360Z",
     "iopub.status.idle": "2021-03-26T12:08:03.412544Z",
     "shell.execute_reply": "2021-03-26T12:08:03.412132Z"
    }
   },
   "outputs": [
    {
     "data": {
      "image/svg+xml": [
       "<?xml version=\"1.0\" encoding=\"UTF-8\" standalone=\"no\"?><svg xmlns=\"http://www.w3.org/2000/svg\" xmlns:xlink=\"http://www.w3.org/1999/xlink\" contentScriptType=\"application/ecmascript\" contentStyleType=\"text/css\" height=\"12px\" preserveAspectRatio=\"none\" style=\"width:12px;height:12px;\" version=\"1.1\" viewBox=\"0 0 12 12\" width=\"12px\" zoomAndPan=\"magnify\"><defs/><g><!--MD5=[06afc254b03ac5e9d9fb7773b07d0800]\n",
       "@startuml\r\n",
       "skinparam ranksep 8\r\n",
       "top to bottom direction\r\n",
       "skinparam monochrome true\r\n",
       "skinparam classbackgroundcolor white\r\n",
       "skinparam shadowing false\r\n",
       "skinparam wrapWidth 300\r\n",
       "hide circle\r\n",
       "\r\n",
       "@enduml\r\n",
       "\n",
       "PlantUML version 1.2020.13(Sat Jun 13 12:26:38 UTC 2020)\n",
       "(EPL source distribution)\n",
       "Java Runtime: OpenJDK Runtime Environment\n",
       "JVM: OpenJDK 64-Bit Server VM\n",
       "Default Encoding: UTF-8\n",
       "Language: en\n",
       "Country: null\n",
       "--></g></svg>"
      ]
     },
     "execution_count": 48,
     "metadata": {},
     "output_type": "execute_result"
    }
   ],
   "source": [
    "%viz --style=\"TB\" --view=\"Action\" \"Q\""
   ]
  },
  {
   "cell_type": "code",
   "execution_count": 49,
   "id": "parliamentary-trinidad",
   "metadata": {
    "execution": {
     "iopub.execute_input": "2021-03-26T12:08:03.466335Z",
     "iopub.status.busy": "2021-03-26T12:08:03.465674Z",
     "iopub.status.idle": "2021-03-26T12:08:03.491418Z",
     "shell.execute_reply": "2021-03-26T12:08:03.490159Z"
    }
   },
   "outputs": [
    {
     "data": {
      "image/svg+xml": [
       "<?xml version=\"1.0\" encoding=\"UTF-8\" standalone=\"no\"?><svg xmlns=\"http://www.w3.org/2000/svg\" xmlns:xlink=\"http://www.w3.org/1999/xlink\" contentScriptType=\"application/ecmascript\" contentStyleType=\"text/css\" height=\"221px\" preserveAspectRatio=\"none\" style=\"width:213px;height:221px;\" version=\"1.1\" viewBox=\"0 0 213 221\" width=\"213px\" zoomAndPan=\"magnify\"><defs/><g><!--MD5=[fbc87193dbaf4d95561dea2c320d4a47]\n",
       "cluster E1--><a href=\"psysml:2f37afb0-cd4e-4fb5-8035-2782344ffa0d\" target=\"_top\" title=\"psysml:2f37afb0-cd4e-4fb5-8035-2782344ffa0d\" xlink:actuate=\"onRequest\" xlink:href=\"psysml:2f37afb0-cd4e-4fb5-8035-2782344ffa0d\" xlink:show=\"new\" xlink:title=\"psysml:2f37afb0-cd4e-4fb5-8035-2782344ffa0d\" xlink:type=\"simple\"><polygon fill=\"#FFFFFF\" points=\"16,6,34,6,41,28.2969,191,28.2969,191,209,16,209,16,6\" style=\"stroke: #000000; stroke-width: 1.5;\"/><line style=\"stroke: #000000; stroke-width: 1.5;\" x1=\"16\" x2=\"41\" y1=\"28.2969\" y2=\"28.2969\"/><text fill=\"#000000\" font-family=\"sans-serif\" font-size=\"14\" font-weight=\"bold\" lengthAdjust=\"spacingAndGlyphs\" textLength=\"12\" x=\"20\" y=\"20.9951\">Q</text></a><!--MD5=[b4997ac47864f28c2f74865a473b2911]\n",
       "class E2--><a href=\"psysml:808101de-d573-40e0-bd9c-1a41ac0023c1\" target=\"_top\" title=\"psysml:808101de-d573-40e0-bd9c-1a41ac0023c1\" xlink:actuate=\"onRequest\" xlink:href=\"psysml:808101de-d573-40e0-bd9c-1a41ac0023c1\" xlink:show=\"new\" xlink:title=\"psysml:808101de-d573-40e0-bd9c-1a41ac0023c1\" xlink:type=\"simple\"><rect fill=\"#FFFFFF\" height=\"45.9375\" id=\"E2\" rx=\"10\" ry=\"10\" style=\"stroke: #383838; stroke-width: 1.5;\" width=\"42\" x=\"133\" y=\"41\"/><text fill=\"#000000\" font-family=\"sans-serif\" font-size=\"12\" font-style=\"italic\" lengthAdjust=\"spacingAndGlyphs\" textLength=\"40\" x=\"134\" y=\"57.1387\">«part»</text><text fill=\"#000000\" font-family=\"sans-serif\" font-size=\"12\" lengthAdjust=\"spacingAndGlyphs\" textLength=\"4\" x=\"152\" y=\"71.1074\">f</text><line style=\"stroke: #383838; stroke-width: 1.5;\" x1=\"134\" x2=\"174\" y1=\"78.9375\" y2=\"78.9375\"/></a><!--MD5=[09b614a08d8cba4a07c9adeb5e0fee81]\n",
       "class E3--><a href=\"psysml:c0fa1ef5-beff-4377-a65a-0adbb28c5765\" target=\"_top\" title=\"psysml:c0fa1ef5-beff-4377-a65a-0adbb28c5765\" xlink:actuate=\"onRequest\" xlink:href=\"psysml:c0fa1ef5-beff-4377-a65a-0adbb28c5765\" xlink:show=\"new\" xlink:title=\"psysml:c0fa1ef5-beff-4377-a65a-0adbb28c5765\" xlink:type=\"simple\"><rect fill=\"#FFFFFF\" height=\"45.9375\" id=\"E3\" rx=\"10\" ry=\"10\" style=\"stroke: #383838; stroke-width: 1.5;\" width=\"42\" x=\"133\" y=\"147\"/><text fill=\"#000000\" font-family=\"sans-serif\" font-size=\"12\" font-style=\"italic\" lengthAdjust=\"spacingAndGlyphs\" textLength=\"40\" x=\"134\" y=\"163.1387\">«part»</text><text fill=\"#000000\" font-family=\"sans-serif\" font-size=\"12\" lengthAdjust=\"spacingAndGlyphs\" textLength=\"8\" x=\"150\" y=\"177.1074\">a</text><line style=\"stroke: #383838; stroke-width: 1.5;\" x1=\"134\" x2=\"174\" y1=\"184.9375\" y2=\"184.9375\"/></a><!--MD5=[ebbe1d658d1005bcc118a6aa81145e00]\n",
       "class E4--><a href=\"psysml:ae693b7b-cdf9-497f-b28d-123f2277c02f\" target=\"_top\" title=\"psysml:ae693b7b-cdf9-497f-b28d-123f2277c02f\" xlink:actuate=\"onRequest\" xlink:href=\"psysml:ae693b7b-cdf9-497f-b28d-123f2277c02f\" xlink:show=\"new\" xlink:title=\"psysml:ae693b7b-cdf9-497f-b28d-123f2277c02f\" xlink:type=\"simple\"><rect fill=\"#FFFFFF\" height=\"45.9375\" id=\"E4\" style=\"stroke: #383838; stroke-width: 1.5;\" width=\"66\" x=\"32\" y=\"41\"/><text fill=\"#000000\" font-family=\"sans-serif\" font-size=\"12\" font-style=\"italic\" lengthAdjust=\"spacingAndGlyphs\" textLength=\"64\" x=\"33\" y=\"57.1387\">«part def»</text><text fill=\"#000000\" font-family=\"sans-serif\" font-size=\"12\" lengthAdjust=\"spacingAndGlyphs\" textLength=\"8\" x=\"61\" y=\"71.1074\">C</text><line style=\"stroke: #383838; stroke-width: 1.5;\" x1=\"33\" x2=\"97\" y1=\"78.9375\" y2=\"78.9375\"/></a><!--MD5=[270fce915f116d4de14055a7c1d9a0f3]\n",
       "class E5--><a href=\"psysml:e9e4e094-e1ef-4d59-8b5d-bef394effc04\" target=\"_top\" title=\"psysml:e9e4e094-e1ef-4d59-8b5d-bef394effc04\" xlink:actuate=\"onRequest\" xlink:href=\"psysml:e9e4e094-e1ef-4d59-8b5d-bef394effc04\" xlink:show=\"new\" xlink:title=\"psysml:e9e4e094-e1ef-4d59-8b5d-bef394effc04\" xlink:type=\"simple\"><rect fill=\"#FFFFFF\" height=\"45.9375\" id=\"E5\" rx=\"10\" ry=\"10\" style=\"stroke: #383838; stroke-width: 1.5;\" width=\"42\" x=\"44\" y=\"147\"/><text fill=\"#000000\" font-family=\"sans-serif\" font-size=\"12\" font-style=\"italic\" lengthAdjust=\"spacingAndGlyphs\" textLength=\"40\" x=\"45\" y=\"163.1387\">«part»</text><text fill=\"#000000\" font-family=\"sans-serif\" font-size=\"12\" lengthAdjust=\"spacingAndGlyphs\" textLength=\"8\" x=\"61\" y=\"177.1074\">g</text><line style=\"stroke: #383838; stroke-width: 1.5;\" x1=\"45\" x2=\"85\" y1=\"184.9375\" y2=\"184.9375\"/></a><!--MD5=[209b3feb70ccb6233bfe1053d122c12c]\n",
       "reverse link E2 to E3--><a href=\"psysml:c0fa1ef5-beff-4377-a65a-0adbb28c5765\" target=\"_top\" title=\"psysml:c0fa1ef5-beff-4377-a65a-0adbb28c5765\" xlink:actuate=\"onRequest\" xlink:href=\"psysml:c0fa1ef5-beff-4377-a65a-0adbb28c5765\" xlink:show=\"new\" xlink:title=\"psysml:c0fa1ef5-beff-4377-a65a-0adbb28c5765\" xlink:type=\"simple\"><path d=\"M154,100.44 C154,115.87 154,133.47 154,146.98 \" fill=\"none\" id=\"E2&lt;-E3\" style=\"stroke: #383838; stroke-width: 1.0;\"/><polygon fill=\"#383838\" points=\"154,87.06,150,93.06,154,99.06,158,93.06,154,87.06\" style=\"stroke: #383838; stroke-width: 1.0;\"/></a><!--MD5=[62aa6af11e70f752912c1cb0466f24f7]\n",
       "reverse link E4 to E5--><a href=\"psysml:e9e4e094-e1ef-4d59-8b5d-bef394effc04\" target=\"_top\" title=\"psysml:e9e4e094-e1ef-4d59-8b5d-bef394effc04\" xlink:actuate=\"onRequest\" xlink:href=\"psysml:e9e4e094-e1ef-4d59-8b5d-bef394effc04\" xlink:show=\"new\" xlink:title=\"psysml:e9e4e094-e1ef-4d59-8b5d-bef394effc04\" xlink:type=\"simple\"><path d=\"M65,100.44 C65,115.87 65,133.47 65,146.98 \" fill=\"none\" id=\"E4&lt;-E5\" style=\"stroke: #383838; stroke-width: 1.0;\"/><polygon fill=\"#383838\" points=\"65,87.06,61,93.06,65,99.06,69,93.06,65,87.06\" style=\"stroke: #383838; stroke-width: 1.0;\"/></a><!--MD5=[d1156531d38ddc3136240616531c67de]\n",
       "@startuml\r\n",
       "top to bottom direction\r\n",
       "skinparam monochrome true\r\n",
       "skinparam classbackgroundcolor white\r\n",
       "skinparam shadowing false\r\n",
       "skinparam wrapWidth 300\r\n",
       "hide circle\r\n",
       "\r\n",
       "package \"Q\" as E1  [[psysml:2f37afb0-cd4e-4fb5-8035-2782344ffa0d ]]  {\r\n",
       "comp usage \"f\" as E2  <<(T,blue)part>> [[psysml:808101de-d573-40e0-bd9c-1a41ac0023c1 ]] {\r\n",
       "}\r\n",
       "comp usage \"a\" as E3  <<(T,blue)part>> [[psysml:c0fa1ef5-beff-4377-a65a-0adbb28c5765 ]] {\r\n",
       "}\r\n",
       "comp def \"C\" as E4  <<(T,blue)part def>> [[psysml:ae693b7b-cdf9-497f-b28d-123f2277c02f ]] {\r\n",
       "}\r\n",
       "comp usage \"g\" as E5  <<(T,blue)part>> [[psysml:e9e4e094-e1ef-4d59-8b5d-bef394effc04 ]] {\r\n",
       "}\r\n",
       "E2 *- - E3 [[psysml:c0fa1ef5-beff-4377-a65a-0adbb28c5765 ]] \r\n",
       "E4 *- - E5 [[psysml:e9e4e094-e1ef-4d59-8b5d-bef394effc04 ]] \r\n",
       "}\r\n",
       "@enduml\r\n",
       "\n",
       "PlantUML version 1.2020.13(Sat Jun 13 12:26:38 UTC 2020)\n",
       "(EPL source distribution)\n",
       "Java Runtime: OpenJDK Runtime Environment\n",
       "JVM: OpenJDK 64-Bit Server VM\n",
       "Default Encoding: UTF-8\n",
       "Language: en\n",
       "Country: null\n",
       "--></g></svg>"
      ]
     },
     "execution_count": 49,
     "metadata": {},
     "output_type": "execute_result"
    }
   ],
   "source": [
    "%viz --style=\"TB\" --view=\"Sequence\" \"Q\""
   ]
  },
  {
   "cell_type": "code",
   "execution_count": 50,
   "id": "operating-texture",
   "metadata": {
    "execution": {
     "iopub.execute_input": "2021-03-26T12:08:03.543267Z",
     "iopub.status.busy": "2021-03-26T12:08:03.542372Z",
     "iopub.status.idle": "2021-03-26T12:08:03.571134Z",
     "shell.execute_reply": "2021-03-26T12:08:03.571535Z"
    }
   },
   "outputs": [
    {
     "data": {
      "image/svg+xml": [
       "<?xml version=\"1.0\" encoding=\"UTF-8\" standalone=\"no\"?><svg xmlns=\"http://www.w3.org/2000/svg\" xmlns:xlink=\"http://www.w3.org/1999/xlink\" contentScriptType=\"application/ecmascript\" contentStyleType=\"text/css\" height=\"221px\" preserveAspectRatio=\"none\" style=\"width:213px;height:221px;\" version=\"1.1\" viewBox=\"0 0 213 221\" width=\"213px\" zoomAndPan=\"magnify\"><defs/><g><!--MD5=[fbc87193dbaf4d95561dea2c320d4a47]\n",
       "cluster E1--><a href=\"psysml:2f37afb0-cd4e-4fb5-8035-2782344ffa0d\" target=\"_top\" title=\"psysml:2f37afb0-cd4e-4fb5-8035-2782344ffa0d\" xlink:actuate=\"onRequest\" xlink:href=\"psysml:2f37afb0-cd4e-4fb5-8035-2782344ffa0d\" xlink:show=\"new\" xlink:title=\"psysml:2f37afb0-cd4e-4fb5-8035-2782344ffa0d\" xlink:type=\"simple\"><polygon fill=\"#FFFFFF\" points=\"16,6,34,6,41,28.2969,191,28.2969,191,209,16,209,16,6\" style=\"stroke: #000000; stroke-width: 1.5;\"/><line style=\"stroke: #000000; stroke-width: 1.5;\" x1=\"16\" x2=\"41\" y1=\"28.2969\" y2=\"28.2969\"/><text fill=\"#000000\" font-family=\"sans-serif\" font-size=\"14\" font-weight=\"bold\" lengthAdjust=\"spacingAndGlyphs\" textLength=\"12\" x=\"20\" y=\"20.9951\">Q</text></a><!--MD5=[b4997ac47864f28c2f74865a473b2911]\n",
       "class E2--><a href=\"psysml:808101de-d573-40e0-bd9c-1a41ac0023c1\" target=\"_top\" title=\"psysml:808101de-d573-40e0-bd9c-1a41ac0023c1\" xlink:actuate=\"onRequest\" xlink:href=\"psysml:808101de-d573-40e0-bd9c-1a41ac0023c1\" xlink:show=\"new\" xlink:title=\"psysml:808101de-d573-40e0-bd9c-1a41ac0023c1\" xlink:type=\"simple\"><rect fill=\"#FFFFFF\" height=\"45.9375\" id=\"E2\" rx=\"10\" ry=\"10\" style=\"stroke: #383838; stroke-width: 1.5;\" width=\"42\" x=\"133\" y=\"41\"/><text fill=\"#000000\" font-family=\"sans-serif\" font-size=\"12\" font-style=\"italic\" lengthAdjust=\"spacingAndGlyphs\" textLength=\"40\" x=\"134\" y=\"57.1387\">«part»</text><text fill=\"#000000\" font-family=\"sans-serif\" font-size=\"12\" lengthAdjust=\"spacingAndGlyphs\" textLength=\"4\" x=\"152\" y=\"71.1074\">f</text><line style=\"stroke: #383838; stroke-width: 1.5;\" x1=\"134\" x2=\"174\" y1=\"78.9375\" y2=\"78.9375\"/></a><!--MD5=[09b614a08d8cba4a07c9adeb5e0fee81]\n",
       "class E3--><a href=\"psysml:c0fa1ef5-beff-4377-a65a-0adbb28c5765\" target=\"_top\" title=\"psysml:c0fa1ef5-beff-4377-a65a-0adbb28c5765\" xlink:actuate=\"onRequest\" xlink:href=\"psysml:c0fa1ef5-beff-4377-a65a-0adbb28c5765\" xlink:show=\"new\" xlink:title=\"psysml:c0fa1ef5-beff-4377-a65a-0adbb28c5765\" xlink:type=\"simple\"><rect fill=\"#FFFFFF\" height=\"45.9375\" id=\"E3\" rx=\"10\" ry=\"10\" style=\"stroke: #383838; stroke-width: 1.5;\" width=\"42\" x=\"133\" y=\"147\"/><text fill=\"#000000\" font-family=\"sans-serif\" font-size=\"12\" font-style=\"italic\" lengthAdjust=\"spacingAndGlyphs\" textLength=\"40\" x=\"134\" y=\"163.1387\">«part»</text><text fill=\"#000000\" font-family=\"sans-serif\" font-size=\"12\" lengthAdjust=\"spacingAndGlyphs\" textLength=\"8\" x=\"150\" y=\"177.1074\">a</text><line style=\"stroke: #383838; stroke-width: 1.5;\" x1=\"134\" x2=\"174\" y1=\"184.9375\" y2=\"184.9375\"/></a><!--MD5=[ebbe1d658d1005bcc118a6aa81145e00]\n",
       "class E4--><a href=\"psysml:ae693b7b-cdf9-497f-b28d-123f2277c02f\" target=\"_top\" title=\"psysml:ae693b7b-cdf9-497f-b28d-123f2277c02f\" xlink:actuate=\"onRequest\" xlink:href=\"psysml:ae693b7b-cdf9-497f-b28d-123f2277c02f\" xlink:show=\"new\" xlink:title=\"psysml:ae693b7b-cdf9-497f-b28d-123f2277c02f\" xlink:type=\"simple\"><rect fill=\"#FFFFFF\" height=\"45.9375\" id=\"E4\" style=\"stroke: #383838; stroke-width: 1.5;\" width=\"66\" x=\"32\" y=\"41\"/><text fill=\"#000000\" font-family=\"sans-serif\" font-size=\"12\" font-style=\"italic\" lengthAdjust=\"spacingAndGlyphs\" textLength=\"64\" x=\"33\" y=\"57.1387\">«part def»</text><text fill=\"#000000\" font-family=\"sans-serif\" font-size=\"12\" lengthAdjust=\"spacingAndGlyphs\" textLength=\"8\" x=\"61\" y=\"71.1074\">C</text><line style=\"stroke: #383838; stroke-width: 1.5;\" x1=\"33\" x2=\"97\" y1=\"78.9375\" y2=\"78.9375\"/></a><!--MD5=[270fce915f116d4de14055a7c1d9a0f3]\n",
       "class E5--><a href=\"psysml:e9e4e094-e1ef-4d59-8b5d-bef394effc04\" target=\"_top\" title=\"psysml:e9e4e094-e1ef-4d59-8b5d-bef394effc04\" xlink:actuate=\"onRequest\" xlink:href=\"psysml:e9e4e094-e1ef-4d59-8b5d-bef394effc04\" xlink:show=\"new\" xlink:title=\"psysml:e9e4e094-e1ef-4d59-8b5d-bef394effc04\" xlink:type=\"simple\"><rect fill=\"#FFFFFF\" height=\"45.9375\" id=\"E5\" rx=\"10\" ry=\"10\" style=\"stroke: #383838; stroke-width: 1.5;\" width=\"42\" x=\"44\" y=\"147\"/><text fill=\"#000000\" font-family=\"sans-serif\" font-size=\"12\" font-style=\"italic\" lengthAdjust=\"spacingAndGlyphs\" textLength=\"40\" x=\"45\" y=\"163.1387\">«part»</text><text fill=\"#000000\" font-family=\"sans-serif\" font-size=\"12\" lengthAdjust=\"spacingAndGlyphs\" textLength=\"8\" x=\"61\" y=\"177.1074\">g</text><line style=\"stroke: #383838; stroke-width: 1.5;\" x1=\"45\" x2=\"85\" y1=\"184.9375\" y2=\"184.9375\"/></a><!--MD5=[209b3feb70ccb6233bfe1053d122c12c]\n",
       "reverse link E2 to E3--><a href=\"psysml:c0fa1ef5-beff-4377-a65a-0adbb28c5765\" target=\"_top\" title=\"psysml:c0fa1ef5-beff-4377-a65a-0adbb28c5765\" xlink:actuate=\"onRequest\" xlink:href=\"psysml:c0fa1ef5-beff-4377-a65a-0adbb28c5765\" xlink:show=\"new\" xlink:title=\"psysml:c0fa1ef5-beff-4377-a65a-0adbb28c5765\" xlink:type=\"simple\"><path d=\"M154,100.44 C154,115.87 154,133.47 154,146.98 \" fill=\"none\" id=\"E2&lt;-E3\" style=\"stroke: #383838; stroke-width: 1.0;\"/><polygon fill=\"#383838\" points=\"154,87.06,150,93.06,154,99.06,158,93.06,154,87.06\" style=\"stroke: #383838; stroke-width: 1.0;\"/></a><!--MD5=[62aa6af11e70f752912c1cb0466f24f7]\n",
       "reverse link E4 to E5--><a href=\"psysml:e9e4e094-e1ef-4d59-8b5d-bef394effc04\" target=\"_top\" title=\"psysml:e9e4e094-e1ef-4d59-8b5d-bef394effc04\" xlink:actuate=\"onRequest\" xlink:href=\"psysml:e9e4e094-e1ef-4d59-8b5d-bef394effc04\" xlink:show=\"new\" xlink:title=\"psysml:e9e4e094-e1ef-4d59-8b5d-bef394effc04\" xlink:type=\"simple\"><path d=\"M65,100.44 C65,115.87 65,133.47 65,146.98 \" fill=\"none\" id=\"E4&lt;-E5\" style=\"stroke: #383838; stroke-width: 1.0;\"/><polygon fill=\"#383838\" points=\"65,87.06,61,93.06,65,99.06,69,93.06,65,87.06\" style=\"stroke: #383838; stroke-width: 1.0;\"/></a><!--MD5=[d1156531d38ddc3136240616531c67de]\n",
       "@startuml\r\n",
       "top to bottom direction\r\n",
       "skinparam monochrome true\r\n",
       "skinparam classbackgroundcolor white\r\n",
       "skinparam shadowing false\r\n",
       "skinparam wrapWidth 300\r\n",
       "hide circle\r\n",
       "\r\n",
       "package \"Q\" as E1  [[psysml:2f37afb0-cd4e-4fb5-8035-2782344ffa0d ]]  {\r\n",
       "comp usage \"f\" as E2  <<(T,blue)part>> [[psysml:808101de-d573-40e0-bd9c-1a41ac0023c1 ]] {\r\n",
       "}\r\n",
       "comp usage \"a\" as E3  <<(T,blue)part>> [[psysml:c0fa1ef5-beff-4377-a65a-0adbb28c5765 ]] {\r\n",
       "}\r\n",
       "comp def \"C\" as E4  <<(T,blue)part def>> [[psysml:ae693b7b-cdf9-497f-b28d-123f2277c02f ]] {\r\n",
       "}\r\n",
       "comp usage \"g\" as E5  <<(T,blue)part>> [[psysml:e9e4e094-e1ef-4d59-8b5d-bef394effc04 ]] {\r\n",
       "}\r\n",
       "E2 *- - E3 [[psysml:c0fa1ef5-beff-4377-a65a-0adbb28c5765 ]] \r\n",
       "E4 *- - E5 [[psysml:e9e4e094-e1ef-4d59-8b5d-bef394effc04 ]] \r\n",
       "}\r\n",
       "@enduml\r\n",
       "\n",
       "PlantUML version 1.2020.13(Sat Jun 13 12:26:38 UTC 2020)\n",
       "(EPL source distribution)\n",
       "Java Runtime: OpenJDK Runtime Environment\n",
       "JVM: OpenJDK 64-Bit Server VM\n",
       "Default Encoding: UTF-8\n",
       "Language: en\n",
       "Country: null\n",
       "--></g></svg>"
      ]
     },
     "execution_count": 50,
     "metadata": {},
     "output_type": "execute_result"
    }
   ],
   "source": [
    "%viz --style=\"TB\" --view=\"MIXED\" \"Q\""
   ]
  },
  {
   "cell_type": "code",
   "execution_count": 51,
   "id": "imperial-reunion",
   "metadata": {
    "execution": {
     "iopub.execute_input": "2021-03-26T12:08:03.622218Z",
     "iopub.status.busy": "2021-03-26T12:08:03.621598Z",
     "iopub.status.idle": "2021-03-26T12:08:03.648701Z",
     "shell.execute_reply": "2021-03-26T12:08:03.647396Z"
    }
   },
   "outputs": [
    {
     "data": {
      "image/svg+xml": [
       "<?xml version=\"1.0\" encoding=\"UTF-8\" standalone=\"no\"?><svg xmlns=\"http://www.w3.org/2000/svg\" xmlns:xlink=\"http://www.w3.org/1999/xlink\" contentScriptType=\"application/ecmascript\" contentStyleType=\"text/css\" height=\"221px\" preserveAspectRatio=\"none\" style=\"width:213px;height:221px;\" version=\"1.1\" viewBox=\"0 0 213 221\" width=\"213px\" zoomAndPan=\"magnify\"><defs/><g><!--MD5=[fbc87193dbaf4d95561dea2c320d4a47]\n",
       "cluster E1--><a href=\"psysml:2f37afb0-cd4e-4fb5-8035-2782344ffa0d\" target=\"_top\" title=\"psysml:2f37afb0-cd4e-4fb5-8035-2782344ffa0d\" xlink:actuate=\"onRequest\" xlink:href=\"psysml:2f37afb0-cd4e-4fb5-8035-2782344ffa0d\" xlink:show=\"new\" xlink:title=\"psysml:2f37afb0-cd4e-4fb5-8035-2782344ffa0d\" xlink:type=\"simple\"><polygon fill=\"#FFFFFF\" points=\"16,6,34,6,41,28.2969,191,28.2969,191,209,16,209,16,6\" style=\"stroke: #000000; stroke-width: 1.5;\"/><line style=\"stroke: #000000; stroke-width: 1.5;\" x1=\"16\" x2=\"41\" y1=\"28.2969\" y2=\"28.2969\"/><text fill=\"#000000\" font-family=\"sans-serif\" font-size=\"14\" font-weight=\"bold\" lengthAdjust=\"spacingAndGlyphs\" textLength=\"12\" x=\"20\" y=\"20.9951\">Q</text></a><!--MD5=[b4997ac47864f28c2f74865a473b2911]\n",
       "class E2--><a href=\"psysml:808101de-d573-40e0-bd9c-1a41ac0023c1\" target=\"_top\" title=\"psysml:808101de-d573-40e0-bd9c-1a41ac0023c1\" xlink:actuate=\"onRequest\" xlink:href=\"psysml:808101de-d573-40e0-bd9c-1a41ac0023c1\" xlink:show=\"new\" xlink:title=\"psysml:808101de-d573-40e0-bd9c-1a41ac0023c1\" xlink:type=\"simple\"><rect fill=\"#FFFFFF\" height=\"45.9375\" id=\"E2\" rx=\"10\" ry=\"10\" style=\"stroke: #383838; stroke-width: 1.5;\" width=\"42\" x=\"133\" y=\"41\"/><text fill=\"#000000\" font-family=\"sans-serif\" font-size=\"12\" font-style=\"italic\" lengthAdjust=\"spacingAndGlyphs\" textLength=\"40\" x=\"134\" y=\"57.1387\">«part»</text><text fill=\"#000000\" font-family=\"sans-serif\" font-size=\"12\" lengthAdjust=\"spacingAndGlyphs\" textLength=\"4\" x=\"152\" y=\"71.1074\">f</text><line style=\"stroke: #383838; stroke-width: 1.5;\" x1=\"134\" x2=\"174\" y1=\"78.9375\" y2=\"78.9375\"/></a><!--MD5=[09b614a08d8cba4a07c9adeb5e0fee81]\n",
       "class E3--><a href=\"psysml:c0fa1ef5-beff-4377-a65a-0adbb28c5765\" target=\"_top\" title=\"psysml:c0fa1ef5-beff-4377-a65a-0adbb28c5765\" xlink:actuate=\"onRequest\" xlink:href=\"psysml:c0fa1ef5-beff-4377-a65a-0adbb28c5765\" xlink:show=\"new\" xlink:title=\"psysml:c0fa1ef5-beff-4377-a65a-0adbb28c5765\" xlink:type=\"simple\"><rect fill=\"#FFFFFF\" height=\"45.9375\" id=\"E3\" rx=\"10\" ry=\"10\" style=\"stroke: #383838; stroke-width: 1.5;\" width=\"42\" x=\"133\" y=\"147\"/><text fill=\"#000000\" font-family=\"sans-serif\" font-size=\"12\" font-style=\"italic\" lengthAdjust=\"spacingAndGlyphs\" textLength=\"40\" x=\"134\" y=\"163.1387\">«part»</text><text fill=\"#000000\" font-family=\"sans-serif\" font-size=\"12\" lengthAdjust=\"spacingAndGlyphs\" textLength=\"8\" x=\"150\" y=\"177.1074\">a</text><line style=\"stroke: #383838; stroke-width: 1.5;\" x1=\"134\" x2=\"174\" y1=\"184.9375\" y2=\"184.9375\"/></a><!--MD5=[ebbe1d658d1005bcc118a6aa81145e00]\n",
       "class E4--><a href=\"psysml:ae693b7b-cdf9-497f-b28d-123f2277c02f\" target=\"_top\" title=\"psysml:ae693b7b-cdf9-497f-b28d-123f2277c02f\" xlink:actuate=\"onRequest\" xlink:href=\"psysml:ae693b7b-cdf9-497f-b28d-123f2277c02f\" xlink:show=\"new\" xlink:title=\"psysml:ae693b7b-cdf9-497f-b28d-123f2277c02f\" xlink:type=\"simple\"><rect fill=\"#FFFFFF\" height=\"45.9375\" id=\"E4\" style=\"stroke: #383838; stroke-width: 1.5;\" width=\"66\" x=\"32\" y=\"41\"/><text fill=\"#000000\" font-family=\"sans-serif\" font-size=\"12\" font-style=\"italic\" lengthAdjust=\"spacingAndGlyphs\" textLength=\"64\" x=\"33\" y=\"57.1387\">«part def»</text><text fill=\"#000000\" font-family=\"sans-serif\" font-size=\"12\" lengthAdjust=\"spacingAndGlyphs\" textLength=\"8\" x=\"61\" y=\"71.1074\">C</text><line style=\"stroke: #383838; stroke-width: 1.5;\" x1=\"33\" x2=\"97\" y1=\"78.9375\" y2=\"78.9375\"/></a><!--MD5=[270fce915f116d4de14055a7c1d9a0f3]\n",
       "class E5--><a href=\"psysml:e9e4e094-e1ef-4d59-8b5d-bef394effc04\" target=\"_top\" title=\"psysml:e9e4e094-e1ef-4d59-8b5d-bef394effc04\" xlink:actuate=\"onRequest\" xlink:href=\"psysml:e9e4e094-e1ef-4d59-8b5d-bef394effc04\" xlink:show=\"new\" xlink:title=\"psysml:e9e4e094-e1ef-4d59-8b5d-bef394effc04\" xlink:type=\"simple\"><rect fill=\"#FFFFFF\" height=\"45.9375\" id=\"E5\" rx=\"10\" ry=\"10\" style=\"stroke: #383838; stroke-width: 1.5;\" width=\"42\" x=\"44\" y=\"147\"/><text fill=\"#000000\" font-family=\"sans-serif\" font-size=\"12\" font-style=\"italic\" lengthAdjust=\"spacingAndGlyphs\" textLength=\"40\" x=\"45\" y=\"163.1387\">«part»</text><text fill=\"#000000\" font-family=\"sans-serif\" font-size=\"12\" lengthAdjust=\"spacingAndGlyphs\" textLength=\"8\" x=\"61\" y=\"177.1074\">g</text><line style=\"stroke: #383838; stroke-width: 1.5;\" x1=\"45\" x2=\"85\" y1=\"184.9375\" y2=\"184.9375\"/></a><!--MD5=[209b3feb70ccb6233bfe1053d122c12c]\n",
       "reverse link E2 to E3--><a href=\"psysml:c0fa1ef5-beff-4377-a65a-0adbb28c5765\" target=\"_top\" title=\"psysml:c0fa1ef5-beff-4377-a65a-0adbb28c5765\" xlink:actuate=\"onRequest\" xlink:href=\"psysml:c0fa1ef5-beff-4377-a65a-0adbb28c5765\" xlink:show=\"new\" xlink:title=\"psysml:c0fa1ef5-beff-4377-a65a-0adbb28c5765\" xlink:type=\"simple\"><path d=\"M154,100 C154,100 154,146.68 154,146.68 \" fill=\"none\" id=\"E2&lt;-E3\" style=\"stroke: #383838; stroke-width: 1.0;\"/><polygon fill=\"#383838\" points=\"154,87,150,93,154,99,158,93,154,87\" style=\"stroke: #383838; stroke-width: 1.0;\"/></a><!--MD5=[62aa6af11e70f752912c1cb0466f24f7]\n",
       "reverse link E4 to E5--><a href=\"psysml:e9e4e094-e1ef-4d59-8b5d-bef394effc04\" target=\"_top\" title=\"psysml:e9e4e094-e1ef-4d59-8b5d-bef394effc04\" xlink:actuate=\"onRequest\" xlink:href=\"psysml:e9e4e094-e1ef-4d59-8b5d-bef394effc04\" xlink:show=\"new\" xlink:title=\"psysml:e9e4e094-e1ef-4d59-8b5d-bef394effc04\" xlink:type=\"simple\"><path d=\"M65,100 C65,100 65,146.68 65,146.68 \" fill=\"none\" id=\"E4&lt;-E5\" style=\"stroke: #383838; stroke-width: 1.0;\"/><polygon fill=\"#383838\" points=\"65,87,61,93,65,99,69,93,65,87\" style=\"stroke: #383838; stroke-width: 1.0;\"/></a><!--MD5=[1229239e4c4169a5d7ec7fecf66d552f]\n",
       "@startuml\r\n",
       "skinparam linetype ortho\r\n",
       "skinparam monochrome true\r\n",
       "skinparam classbackgroundcolor white\r\n",
       "skinparam shadowing false\r\n",
       "skinparam wrapWidth 300\r\n",
       "hide circle\r\n",
       "\r\n",
       "package \"Q\" as E1  [[psysml:2f37afb0-cd4e-4fb5-8035-2782344ffa0d ]]  {\r\n",
       "comp usage \"f\" as E2  <<(T,blue)part>> [[psysml:808101de-d573-40e0-bd9c-1a41ac0023c1 ]] {\r\n",
       "}\r\n",
       "comp usage \"a\" as E3  <<(T,blue)part>> [[psysml:c0fa1ef5-beff-4377-a65a-0adbb28c5765 ]] {\r\n",
       "}\r\n",
       "comp def \"C\" as E4  <<(T,blue)part def>> [[psysml:ae693b7b-cdf9-497f-b28d-123f2277c02f ]] {\r\n",
       "}\r\n",
       "comp usage \"g\" as E5  <<(T,blue)part>> [[psysml:e9e4e094-e1ef-4d59-8b5d-bef394effc04 ]] {\r\n",
       "}\r\n",
       "E2 *- - E3 [[psysml:c0fa1ef5-beff-4377-a65a-0adbb28c5765 ]] \r\n",
       "E4 *- - E5 [[psysml:e9e4e094-e1ef-4d59-8b5d-bef394effc04 ]] \r\n",
       "}\r\n",
       "@enduml\r\n",
       "\n",
       "PlantUML version 1.2020.13(Sat Jun 13 12:26:38 UTC 2020)\n",
       "(EPL source distribution)\n",
       "Java Runtime: OpenJDK Runtime Environment\n",
       "JVM: OpenJDK 64-Bit Server VM\n",
       "Default Encoding: UTF-8\n",
       "Language: en\n",
       "Country: null\n",
       "--></g></svg>"
      ]
     },
     "execution_count": 51,
     "metadata": {},
     "output_type": "execute_result"
    }
   ],
   "source": [
    "%viz --style=\"ORTHOLINE\" --view=\"Default\" \"Q\""
   ]
  },
  {
   "cell_type": "code",
   "execution_count": 52,
   "id": "selected-compatibility",
   "metadata": {
    "execution": {
     "iopub.execute_input": "2021-03-26T12:08:03.699606Z",
     "iopub.status.busy": "2021-03-26T12:08:03.699059Z",
     "iopub.status.idle": "2021-03-26T12:08:03.722234Z",
     "shell.execute_reply": "2021-03-26T12:08:03.721062Z"
    }
   },
   "outputs": [
    {
     "data": {
      "image/svg+xml": [
       "<?xml version=\"1.0\" encoding=\"UTF-8\" standalone=\"no\"?><svg xmlns=\"http://www.w3.org/2000/svg\" xmlns:xlink=\"http://www.w3.org/1999/xlink\" contentScriptType=\"application/ecmascript\" contentStyleType=\"text/css\" height=\"221px\" preserveAspectRatio=\"none\" style=\"width:213px;height:221px;\" version=\"1.1\" viewBox=\"0 0 213 221\" width=\"213px\" zoomAndPan=\"magnify\"><defs/><g><!--MD5=[fbc87193dbaf4d95561dea2c320d4a47]\n",
       "cluster E1--><a href=\"psysml:2f37afb0-cd4e-4fb5-8035-2782344ffa0d\" target=\"_top\" title=\"psysml:2f37afb0-cd4e-4fb5-8035-2782344ffa0d\" xlink:actuate=\"onRequest\" xlink:href=\"psysml:2f37afb0-cd4e-4fb5-8035-2782344ffa0d\" xlink:show=\"new\" xlink:title=\"psysml:2f37afb0-cd4e-4fb5-8035-2782344ffa0d\" xlink:type=\"simple\"><polygon fill=\"#FFFFFF\" points=\"16,6,34,6,41,28.2969,191,28.2969,191,209,16,209,16,6\" style=\"stroke: #000000; stroke-width: 1.5;\"/><line style=\"stroke: #000000; stroke-width: 1.5;\" x1=\"16\" x2=\"41\" y1=\"28.2969\" y2=\"28.2969\"/><text fill=\"#000000\" font-family=\"sans-serif\" font-size=\"14\" font-weight=\"bold\" lengthAdjust=\"spacingAndGlyphs\" textLength=\"12\" x=\"20\" y=\"20.9951\">Q</text></a><!--MD5=[b4997ac47864f28c2f74865a473b2911]\n",
       "class E2--><a href=\"psysml:808101de-d573-40e0-bd9c-1a41ac0023c1\" target=\"_top\" title=\"psysml:808101de-d573-40e0-bd9c-1a41ac0023c1\" xlink:actuate=\"onRequest\" xlink:href=\"psysml:808101de-d573-40e0-bd9c-1a41ac0023c1\" xlink:show=\"new\" xlink:title=\"psysml:808101de-d573-40e0-bd9c-1a41ac0023c1\" xlink:type=\"simple\"><rect fill=\"#FFFFFF\" height=\"45.9375\" id=\"E2\" rx=\"10\" ry=\"10\" style=\"stroke: #383838; stroke-width: 1.5;\" width=\"42\" x=\"133\" y=\"41\"/><text fill=\"#000000\" font-family=\"sans-serif\" font-size=\"12\" font-style=\"italic\" lengthAdjust=\"spacingAndGlyphs\" textLength=\"40\" x=\"134\" y=\"57.1387\">«part»</text><text fill=\"#000000\" font-family=\"sans-serif\" font-size=\"12\" lengthAdjust=\"spacingAndGlyphs\" textLength=\"4\" x=\"152\" y=\"71.1074\">f</text><line style=\"stroke: #383838; stroke-width: 1.5;\" x1=\"134\" x2=\"174\" y1=\"78.9375\" y2=\"78.9375\"/></a><!--MD5=[09b614a08d8cba4a07c9adeb5e0fee81]\n",
       "class E3--><a href=\"psysml:c0fa1ef5-beff-4377-a65a-0adbb28c5765\" target=\"_top\" title=\"psysml:c0fa1ef5-beff-4377-a65a-0adbb28c5765\" xlink:actuate=\"onRequest\" xlink:href=\"psysml:c0fa1ef5-beff-4377-a65a-0adbb28c5765\" xlink:show=\"new\" xlink:title=\"psysml:c0fa1ef5-beff-4377-a65a-0adbb28c5765\" xlink:type=\"simple\"><rect fill=\"#FFFFFF\" height=\"45.9375\" id=\"E3\" rx=\"10\" ry=\"10\" style=\"stroke: #383838; stroke-width: 1.5;\" width=\"42\" x=\"133\" y=\"147\"/><text fill=\"#000000\" font-family=\"sans-serif\" font-size=\"12\" font-style=\"italic\" lengthAdjust=\"spacingAndGlyphs\" textLength=\"40\" x=\"134\" y=\"163.1387\">«part»</text><text fill=\"#000000\" font-family=\"sans-serif\" font-size=\"12\" lengthAdjust=\"spacingAndGlyphs\" textLength=\"8\" x=\"150\" y=\"177.1074\">a</text><line style=\"stroke: #383838; stroke-width: 1.5;\" x1=\"134\" x2=\"174\" y1=\"184.9375\" y2=\"184.9375\"/></a><!--MD5=[ebbe1d658d1005bcc118a6aa81145e00]\n",
       "class E4--><a href=\"psysml:ae693b7b-cdf9-497f-b28d-123f2277c02f\" target=\"_top\" title=\"psysml:ae693b7b-cdf9-497f-b28d-123f2277c02f\" xlink:actuate=\"onRequest\" xlink:href=\"psysml:ae693b7b-cdf9-497f-b28d-123f2277c02f\" xlink:show=\"new\" xlink:title=\"psysml:ae693b7b-cdf9-497f-b28d-123f2277c02f\" xlink:type=\"simple\"><rect fill=\"#FFFFFF\" height=\"45.9375\" id=\"E4\" style=\"stroke: #383838; stroke-width: 1.5;\" width=\"66\" x=\"32\" y=\"41\"/><text fill=\"#000000\" font-family=\"sans-serif\" font-size=\"12\" font-style=\"italic\" lengthAdjust=\"spacingAndGlyphs\" textLength=\"64\" x=\"33\" y=\"57.1387\">«part def»</text><text fill=\"#000000\" font-family=\"sans-serif\" font-size=\"12\" lengthAdjust=\"spacingAndGlyphs\" textLength=\"8\" x=\"61\" y=\"71.1074\">C</text><line style=\"stroke: #383838; stroke-width: 1.5;\" x1=\"33\" x2=\"97\" y1=\"78.9375\" y2=\"78.9375\"/></a><!--MD5=[270fce915f116d4de14055a7c1d9a0f3]\n",
       "class E5--><a href=\"psysml:e9e4e094-e1ef-4d59-8b5d-bef394effc04\" target=\"_top\" title=\"psysml:e9e4e094-e1ef-4d59-8b5d-bef394effc04\" xlink:actuate=\"onRequest\" xlink:href=\"psysml:e9e4e094-e1ef-4d59-8b5d-bef394effc04\" xlink:show=\"new\" xlink:title=\"psysml:e9e4e094-e1ef-4d59-8b5d-bef394effc04\" xlink:type=\"simple\"><rect fill=\"#FFFFFF\" height=\"45.9375\" id=\"E5\" rx=\"10\" ry=\"10\" style=\"stroke: #383838; stroke-width: 1.5;\" width=\"42\" x=\"44\" y=\"147\"/><text fill=\"#000000\" font-family=\"sans-serif\" font-size=\"12\" font-style=\"italic\" lengthAdjust=\"spacingAndGlyphs\" textLength=\"40\" x=\"45\" y=\"163.1387\">«part»</text><text fill=\"#000000\" font-family=\"sans-serif\" font-size=\"12\" lengthAdjust=\"spacingAndGlyphs\" textLength=\"8\" x=\"61\" y=\"177.1074\">g</text><line style=\"stroke: #383838; stroke-width: 1.5;\" x1=\"45\" x2=\"85\" y1=\"184.9375\" y2=\"184.9375\"/></a><!--MD5=[209b3feb70ccb6233bfe1053d122c12c]\n",
       "reverse link E2 to E3--><a href=\"psysml:c0fa1ef5-beff-4377-a65a-0adbb28c5765\" target=\"_top\" title=\"psysml:c0fa1ef5-beff-4377-a65a-0adbb28c5765\" xlink:actuate=\"onRequest\" xlink:href=\"psysml:c0fa1ef5-beff-4377-a65a-0adbb28c5765\" xlink:show=\"new\" xlink:title=\"psysml:c0fa1ef5-beff-4377-a65a-0adbb28c5765\" xlink:type=\"simple\"><path d=\"M154,100 C154,100 154,146.68 154,146.68 \" fill=\"none\" id=\"E2&lt;-E3\" style=\"stroke: #383838; stroke-width: 1.0;\"/><polygon fill=\"#383838\" points=\"154,87,150,93,154,99,158,93,154,87\" style=\"stroke: #383838; stroke-width: 1.0;\"/></a><!--MD5=[62aa6af11e70f752912c1cb0466f24f7]\n",
       "reverse link E4 to E5--><a href=\"psysml:e9e4e094-e1ef-4d59-8b5d-bef394effc04\" target=\"_top\" title=\"psysml:e9e4e094-e1ef-4d59-8b5d-bef394effc04\" xlink:actuate=\"onRequest\" xlink:href=\"psysml:e9e4e094-e1ef-4d59-8b5d-bef394effc04\" xlink:show=\"new\" xlink:title=\"psysml:e9e4e094-e1ef-4d59-8b5d-bef394effc04\" xlink:type=\"simple\"><path d=\"M65,100 C65,100 65,146.68 65,146.68 \" fill=\"none\" id=\"E4&lt;-E5\" style=\"stroke: #383838; stroke-width: 1.0;\"/><polygon fill=\"#383838\" points=\"65,87,61,93,65,99,69,93,65,87\" style=\"stroke: #383838; stroke-width: 1.0;\"/></a><!--MD5=[1229239e4c4169a5d7ec7fecf66d552f]\n",
       "@startuml\r\n",
       "skinparam linetype ortho\r\n",
       "skinparam monochrome true\r\n",
       "skinparam classbackgroundcolor white\r\n",
       "skinparam shadowing false\r\n",
       "skinparam wrapWidth 300\r\n",
       "hide circle\r\n",
       "\r\n",
       "package \"Q\" as E1  [[psysml:2f37afb0-cd4e-4fb5-8035-2782344ffa0d ]]  {\r\n",
       "comp usage \"f\" as E2  <<(T,blue)part>> [[psysml:808101de-d573-40e0-bd9c-1a41ac0023c1 ]] {\r\n",
       "}\r\n",
       "comp usage \"a\" as E3  <<(T,blue)part>> [[psysml:c0fa1ef5-beff-4377-a65a-0adbb28c5765 ]] {\r\n",
       "}\r\n",
       "comp def \"C\" as E4  <<(T,blue)part def>> [[psysml:ae693b7b-cdf9-497f-b28d-123f2277c02f ]] {\r\n",
       "}\r\n",
       "comp usage \"g\" as E5  <<(T,blue)part>> [[psysml:e9e4e094-e1ef-4d59-8b5d-bef394effc04 ]] {\r\n",
       "}\r\n",
       "E2 *- - E3 [[psysml:c0fa1ef5-beff-4377-a65a-0adbb28c5765 ]] \r\n",
       "E4 *- - E5 [[psysml:e9e4e094-e1ef-4d59-8b5d-bef394effc04 ]] \r\n",
       "}\r\n",
       "@enduml\r\n",
       "\n",
       "PlantUML version 1.2020.13(Sat Jun 13 12:26:38 UTC 2020)\n",
       "(EPL source distribution)\n",
       "Java Runtime: OpenJDK Runtime Environment\n",
       "JVM: OpenJDK 64-Bit Server VM\n",
       "Default Encoding: UTF-8\n",
       "Language: en\n",
       "Country: null\n",
       "--></g></svg>"
      ]
     },
     "execution_count": 52,
     "metadata": {},
     "output_type": "execute_result"
    }
   ],
   "source": [
    "%viz --style=\"ORTHOLINE\" --view=\"Tree\" \"Q\""
   ]
  },
  {
   "cell_type": "code",
   "execution_count": 53,
   "id": "round-selection",
   "metadata": {
    "execution": {
     "iopub.execute_input": "2021-03-26T12:08:03.774982Z",
     "iopub.status.busy": "2021-03-26T12:08:03.774120Z",
     "iopub.status.idle": "2021-03-26T12:08:03.779696Z",
     "shell.execute_reply": "2021-03-26T12:08:03.779313Z"
    }
   },
   "outputs": [
    {
     "data": {
      "image/svg+xml": [
       "<?xml version=\"1.0\" encoding=\"UTF-8\" standalone=\"no\"?><svg xmlns=\"http://www.w3.org/2000/svg\" xmlns:xlink=\"http://www.w3.org/1999/xlink\" contentScriptType=\"application/ecmascript\" contentStyleType=\"text/css\" height=\"12px\" preserveAspectRatio=\"none\" style=\"width:12px;height:12px;\" version=\"1.1\" viewBox=\"0 0 12 12\" width=\"12px\" zoomAndPan=\"magnify\"><defs/><g><!--MD5=[97d6f38768b311333d388e66b2b27985]\n",
       "@startuml\r\n",
       "skinparam linetype ortho\r\n",
       "skinparam monochrome true\r\n",
       "skinparam classbackgroundcolor white\r\n",
       "skinparam shadowing false\r\n",
       "skinparam wrapWidth 300\r\n",
       "hide circle\r\n",
       "\r\n",
       "@enduml\r\n",
       "\n",
       "PlantUML version 1.2020.13(Sat Jun 13 12:26:38 UTC 2020)\n",
       "(EPL source distribution)\n",
       "Java Runtime: OpenJDK Runtime Environment\n",
       "JVM: OpenJDK 64-Bit Server VM\n",
       "Default Encoding: UTF-8\n",
       "Language: en\n",
       "Country: null\n",
       "--></g></svg>"
      ]
     },
     "execution_count": 53,
     "metadata": {},
     "output_type": "execute_result"
    }
   ],
   "source": [
    "%viz --style=\"ORTHOLINE\" --view=\"State\" \"Q\""
   ]
  },
  {
   "cell_type": "code",
   "execution_count": 54,
   "id": "necessary-material",
   "metadata": {
    "execution": {
     "iopub.execute_input": "2021-03-26T12:08:03.832244Z",
     "iopub.status.busy": "2021-03-26T12:08:03.831383Z",
     "iopub.status.idle": "2021-03-26T12:08:03.861827Z",
     "shell.execute_reply": "2021-03-26T12:08:03.858420Z"
    }
   },
   "outputs": [
    {
     "data": {
      "image/svg+xml": [
       "<?xml version=\"1.0\" encoding=\"UTF-8\" standalone=\"no\"?><svg xmlns=\"http://www.w3.org/2000/svg\" xmlns:xlink=\"http://www.w3.org/1999/xlink\" contentScriptType=\"application/ecmascript\" contentStyleType=\"text/css\" height=\"192px\" preserveAspectRatio=\"none\" style=\"width:279px;height:192px;\" version=\"1.1\" viewBox=\"0 0 279 192\" width=\"279px\" zoomAndPan=\"magnify\"><defs/><g><!--MD5=[fbc87193dbaf4d95561dea2c320d4a47]\n",
       "cluster E1--><a href=\"psysml:2f37afb0-cd4e-4fb5-8035-2782344ffa0d\" target=\"_top\" title=\"psysml:2f37afb0-cd4e-4fb5-8035-2782344ffa0d\" xlink:actuate=\"onRequest\" xlink:href=\"psysml:2f37afb0-cd4e-4fb5-8035-2782344ffa0d\" xlink:show=\"new\" xlink:title=\"psysml:2f37afb0-cd4e-4fb5-8035-2782344ffa0d\" xlink:type=\"simple\"><polygon fill=\"#FFFFFF\" points=\"16,6,34,6,41,28.2969,257,28.2969,257,180,16,180,16,6\" style=\"stroke: #000000; stroke-width: 1.5;\"/><line style=\"stroke: #000000; stroke-width: 1.5;\" x1=\"16\" x2=\"41\" y1=\"28.2969\" y2=\"28.2969\"/><text fill=\"#000000\" font-family=\"sans-serif\" font-size=\"14\" font-weight=\"bold\" lengthAdjust=\"spacingAndGlyphs\" textLength=\"12\" x=\"20\" y=\"20.9951\">Q</text></a><!--MD5=[e4f7fae6ed58524ba242bb0b0d3be6b7]\n",
       "cluster E2--><a href=\"psysml:808101de-d573-40e0-bd9c-1a41ac0023c1\" target=\"_top\" title=\"psysml:808101de-d573-40e0-bd9c-1a41ac0023c1\" xlink:actuate=\"onRequest\" xlink:href=\"psysml:808101de-d573-40e0-bd9c-1a41ac0023c1\" xlink:show=\"new\" xlink:title=\"psysml:808101de-d573-40e0-bd9c-1a41ac0023c1\" xlink:type=\"simple\"><rect fill=\"#FFFFFF\" height=\"91\" id=\"E2\" rx=\"10\" ry=\"10\" style=\"stroke: #383838; stroke-width: 1.5;\" width=\"82\" x=\"151\" y=\"65\"/><rect fill=\"#F8F8F8\" height=\"23.9688\" rx=\"10\" ry=\"10\" style=\"stroke: #F8F8F8; stroke-width: 1.5;\" width=\"82\" x=\"151\" y=\"65\"/><rect fill=\"#F8F8F8\" height=\"10\" style=\"stroke: #F8F8F8; stroke-width: 1.5;\" width=\"82\" x=\"151\" y=\"78.9688\"/><rect fill=\"none\" height=\"91\" id=\"E2\" rx=\"10\" ry=\"10\" style=\"stroke: #383838; stroke-width: 1.5;\" width=\"82\" x=\"151\" y=\"65\"/><text fill=\"#000000\" font-family=\"sans-serif\" font-size=\"12\" lengthAdjust=\"spacingAndGlyphs\" textLength=\"4\" x=\"190\" y=\"81.1387\">f</text><line style=\"stroke: #383838; stroke-width: 1.0;\" x1=\"151\" x2=\"233\" y1=\"88.9688\" y2=\"88.9688\"/></a><!--MD5=[f6df4d0ebaf0b5dfb2ced0ae5af7c670]\n",
       "cluster E4--><a href=\"psysml:ae693b7b-cdf9-497f-b28d-123f2277c02f\" target=\"_top\" title=\"psysml:ae693b7b-cdf9-497f-b28d-123f2277c02f\" xlink:actuate=\"onRequest\" xlink:href=\"psysml:ae693b7b-cdf9-497f-b28d-123f2277c02f\" xlink:show=\"new\" xlink:title=\"psysml:ae693b7b-cdf9-497f-b28d-123f2277c02f\" xlink:type=\"simple\"><rect fill=\"#FFFFFF\" height=\"107\" id=\"E4\" style=\"stroke: #383838; stroke-width: 1.5;\" width=\"87\" x=\"40\" y=\"49\"/><rect fill=\"#F8F8F8\" height=\"37.9375\" style=\"stroke: #383838; stroke-width: 1.5;\" width=\"87\" x=\"40\" y=\"49\"/><text fill=\"#000000\" font-family=\"sans-serif\" font-size=\"12\" font-style=\"italic\" lengthAdjust=\"spacingAndGlyphs\" textLength=\"64\" x=\"51.5\" y=\"65.1387\">«part def»</text><text fill=\"#000000\" font-family=\"sans-serif\" font-size=\"12\" lengthAdjust=\"spacingAndGlyphs\" textLength=\"8\" x=\"79.5\" y=\"79.1074\">C</text></a><g id=\"E1.E2.E3\"><a href=\"psysml:c0fa1ef5-beff-4377-a65a-0adbb28c5765\" target=\"_top\" title=\"psysml:c0fa1ef5-beff-4377-a65a-0adbb28c5765\" xlink:actuate=\"onRequest\" xlink:href=\"psysml:c0fa1ef5-beff-4377-a65a-0adbb28c5765\" xlink:show=\"new\" xlink:title=\"psysml:c0fa1ef5-beff-4377-a65a-0adbb28c5765\" xlink:type=\"simple\"><rect fill=\"#FFFFFF\" height=\"40\" id=\"E3\" rx=\"10\" ry=\"10\" style=\"stroke: #383838; stroke-width: 1.5;\" width=\"50\" x=\"167\" y=\"100\"/><rect fill=\"#F8F8F8\" height=\"23.9688\" rx=\"10\" ry=\"10\" style=\"stroke: #F8F8F8; stroke-width: 1.5;\" width=\"50\" x=\"167\" y=\"100\"/><rect fill=\"#F8F8F8\" height=\"10\" style=\"stroke: #F8F8F8; stroke-width: 1.5;\" width=\"50\" x=\"167\" y=\"113.9688\"/><rect fill=\"none\" height=\"40\" id=\"E3\" rx=\"10\" ry=\"10\" style=\"stroke: #383838; stroke-width: 1.5;\" width=\"50\" x=\"167\" y=\"100\"/><text fill=\"#000000\" font-family=\"sans-serif\" font-size=\"12\" lengthAdjust=\"spacingAndGlyphs\" textLength=\"8\" x=\"188\" y=\"116.1387\">a</text></a></g><g id=\"E1.E4.E5\"><a href=\"psysml:e9e4e094-e1ef-4d59-8b5d-bef394effc04\" target=\"_top\" title=\"psysml:e9e4e094-e1ef-4d59-8b5d-bef394effc04\" xlink:actuate=\"onRequest\" xlink:href=\"psysml:e9e4e094-e1ef-4d59-8b5d-bef394effc04\" xlink:show=\"new\" xlink:title=\"psysml:e9e4e094-e1ef-4d59-8b5d-bef394effc04\" xlink:type=\"simple\"><rect fill=\"#FFFFFF\" height=\"40\" id=\"E5\" rx=\"10\" ry=\"10\" style=\"stroke: #383838; stroke-width: 1.5;\" width=\"50\" x=\"58\" y=\"100\"/><rect fill=\"#F8F8F8\" height=\"23.9688\" rx=\"10\" ry=\"10\" style=\"stroke: #F8F8F8; stroke-width: 1.5;\" width=\"50\" x=\"58\" y=\"100\"/><rect fill=\"#F8F8F8\" height=\"10\" style=\"stroke: #F8F8F8; stroke-width: 1.5;\" width=\"50\" x=\"58\" y=\"113.9688\"/><rect fill=\"none\" height=\"40\" id=\"E5\" rx=\"10\" ry=\"10\" style=\"stroke: #383838; stroke-width: 1.5;\" width=\"50\" x=\"58\" y=\"100\"/><text fill=\"#000000\" font-family=\"sans-serif\" font-size=\"12\" lengthAdjust=\"spacingAndGlyphs\" textLength=\"8\" x=\"79\" y=\"116.1387\">g</text></a></g><!--MD5=[916ad81a8887e385ae1a80244ddd3668]\n",
       "@startuml\r\n",
       "skinparam ranksep 8\r\n",
       "skinparam rectangle {\r\n",
       " backgroundColor<<block>> LightGreen\r\n",
       "}\r\n",
       "skinparam linetype ortho\r\n",
       "skinparam monochrome true\r\n",
       "skinparam classbackgroundcolor white\r\n",
       "skinparam shadowing false\r\n",
       "skinparam wrapWidth 300\r\n",
       "hide circle\r\n",
       "\r\n",
       "package \"Q\" as E1  [[psysml:2f37afb0-cd4e-4fb5-8035-2782344ffa0d ]]  {\r\n",
       "rec usage \"f\" as E2  [[psysml:808101de-d573-40e0-bd9c-1a41ac0023c1 ]] {\r\n",
       "rec usage \"a\" as E3  [[psysml:c0fa1ef5-beff-4377-a65a-0adbb28c5765 ]] {\r\n",
       "}\r\n",
       "}\r\n",
       "rec def \"C\" as E4  <<(T,blue)part def>> [[psysml:ae693b7b-cdf9-497f-b28d-123f2277c02f ]] {\r\n",
       "rec usage \"g\" as E5  [[psysml:e9e4e094-e1ef-4d59-8b5d-bef394effc04 ]] {\r\n",
       "}\r\n",
       "}\r\n",
       "}\r\n",
       "@enduml\r\n",
       "\n",
       "PlantUML version 1.2020.13(Sat Jun 13 12:26:38 UTC 2020)\n",
       "(EPL source distribution)\n",
       "Java Runtime: OpenJDK Runtime Environment\n",
       "JVM: OpenJDK 64-Bit Server VM\n",
       "Default Encoding: UTF-8\n",
       "Language: en\n",
       "Country: null\n",
       "--></g></svg>"
      ]
     },
     "execution_count": 54,
     "metadata": {},
     "output_type": "execute_result"
    }
   ],
   "source": [
    "%viz --style=\"ORTHOLINE\" --view=\"Interconnection\" \"Q\""
   ]
  },
  {
   "cell_type": "code",
   "execution_count": 55,
   "id": "agricultural-suspension",
   "metadata": {
    "execution": {
     "iopub.execute_input": "2021-03-26T12:08:03.910550Z",
     "iopub.status.busy": "2021-03-26T12:08:03.910061Z",
     "iopub.status.idle": "2021-03-26T12:08:03.915466Z",
     "shell.execute_reply": "2021-03-26T12:08:03.915900Z"
    }
   },
   "outputs": [
    {
     "data": {
      "image/svg+xml": [
       "<?xml version=\"1.0\" encoding=\"UTF-8\" standalone=\"no\"?><svg xmlns=\"http://www.w3.org/2000/svg\" xmlns:xlink=\"http://www.w3.org/1999/xlink\" contentScriptType=\"application/ecmascript\" contentStyleType=\"text/css\" height=\"12px\" preserveAspectRatio=\"none\" style=\"width:12px;height:12px;\" version=\"1.1\" viewBox=\"0 0 12 12\" width=\"12px\" zoomAndPan=\"magnify\"><defs/><g><!--MD5=[72934c63077099a26744516a776b4749]\n",
       "@startuml\r\n",
       "skinparam ranksep 8\r\n",
       "skinparam linetype ortho\r\n",
       "skinparam monochrome true\r\n",
       "skinparam classbackgroundcolor white\r\n",
       "skinparam shadowing false\r\n",
       "skinparam wrapWidth 300\r\n",
       "hide circle\r\n",
       "\r\n",
       "@enduml\r\n",
       "\n",
       "PlantUML version 1.2020.13(Sat Jun 13 12:26:38 UTC 2020)\n",
       "(EPL source distribution)\n",
       "Java Runtime: OpenJDK Runtime Environment\n",
       "JVM: OpenJDK 64-Bit Server VM\n",
       "Default Encoding: UTF-8\n",
       "Language: en\n",
       "Country: null\n",
       "--></g></svg>"
      ]
     },
     "execution_count": 55,
     "metadata": {},
     "output_type": "execute_result"
    }
   ],
   "source": [
    "%viz --style=\"ORTHOLINE\" --view=\"Action\" \"Q\""
   ]
  },
  {
   "cell_type": "code",
   "execution_count": 56,
   "id": "derived-clock",
   "metadata": {
    "execution": {
     "iopub.execute_input": "2021-03-26T12:08:03.968110Z",
     "iopub.status.busy": "2021-03-26T12:08:03.967279Z",
     "iopub.status.idle": "2021-03-26T12:08:03.996568Z",
     "shell.execute_reply": "2021-03-26T12:08:03.995302Z"
    }
   },
   "outputs": [
    {
     "data": {
      "image/svg+xml": [
       "<?xml version=\"1.0\" encoding=\"UTF-8\" standalone=\"no\"?><svg xmlns=\"http://www.w3.org/2000/svg\" xmlns:xlink=\"http://www.w3.org/1999/xlink\" contentScriptType=\"application/ecmascript\" contentStyleType=\"text/css\" height=\"221px\" preserveAspectRatio=\"none\" style=\"width:213px;height:221px;\" version=\"1.1\" viewBox=\"0 0 213 221\" width=\"213px\" zoomAndPan=\"magnify\"><defs/><g><!--MD5=[fbc87193dbaf4d95561dea2c320d4a47]\n",
       "cluster E1--><a href=\"psysml:2f37afb0-cd4e-4fb5-8035-2782344ffa0d\" target=\"_top\" title=\"psysml:2f37afb0-cd4e-4fb5-8035-2782344ffa0d\" xlink:actuate=\"onRequest\" xlink:href=\"psysml:2f37afb0-cd4e-4fb5-8035-2782344ffa0d\" xlink:show=\"new\" xlink:title=\"psysml:2f37afb0-cd4e-4fb5-8035-2782344ffa0d\" xlink:type=\"simple\"><polygon fill=\"#FFFFFF\" points=\"16,6,34,6,41,28.2969,191,28.2969,191,209,16,209,16,6\" style=\"stroke: #000000; stroke-width: 1.5;\"/><line style=\"stroke: #000000; stroke-width: 1.5;\" x1=\"16\" x2=\"41\" y1=\"28.2969\" y2=\"28.2969\"/><text fill=\"#000000\" font-family=\"sans-serif\" font-size=\"14\" font-weight=\"bold\" lengthAdjust=\"spacingAndGlyphs\" textLength=\"12\" x=\"20\" y=\"20.9951\">Q</text></a><!--MD5=[b4997ac47864f28c2f74865a473b2911]\n",
       "class E2--><a href=\"psysml:808101de-d573-40e0-bd9c-1a41ac0023c1\" target=\"_top\" title=\"psysml:808101de-d573-40e0-bd9c-1a41ac0023c1\" xlink:actuate=\"onRequest\" xlink:href=\"psysml:808101de-d573-40e0-bd9c-1a41ac0023c1\" xlink:show=\"new\" xlink:title=\"psysml:808101de-d573-40e0-bd9c-1a41ac0023c1\" xlink:type=\"simple\"><rect fill=\"#FFFFFF\" height=\"45.9375\" id=\"E2\" rx=\"10\" ry=\"10\" style=\"stroke: #383838; stroke-width: 1.5;\" width=\"42\" x=\"133\" y=\"41\"/><text fill=\"#000000\" font-family=\"sans-serif\" font-size=\"12\" font-style=\"italic\" lengthAdjust=\"spacingAndGlyphs\" textLength=\"40\" x=\"134\" y=\"57.1387\">«part»</text><text fill=\"#000000\" font-family=\"sans-serif\" font-size=\"12\" lengthAdjust=\"spacingAndGlyphs\" textLength=\"4\" x=\"152\" y=\"71.1074\">f</text><line style=\"stroke: #383838; stroke-width: 1.5;\" x1=\"134\" x2=\"174\" y1=\"78.9375\" y2=\"78.9375\"/></a><!--MD5=[09b614a08d8cba4a07c9adeb5e0fee81]\n",
       "class E3--><a href=\"psysml:c0fa1ef5-beff-4377-a65a-0adbb28c5765\" target=\"_top\" title=\"psysml:c0fa1ef5-beff-4377-a65a-0adbb28c5765\" xlink:actuate=\"onRequest\" xlink:href=\"psysml:c0fa1ef5-beff-4377-a65a-0adbb28c5765\" xlink:show=\"new\" xlink:title=\"psysml:c0fa1ef5-beff-4377-a65a-0adbb28c5765\" xlink:type=\"simple\"><rect fill=\"#FFFFFF\" height=\"45.9375\" id=\"E3\" rx=\"10\" ry=\"10\" style=\"stroke: #383838; stroke-width: 1.5;\" width=\"42\" x=\"133\" y=\"147\"/><text fill=\"#000000\" font-family=\"sans-serif\" font-size=\"12\" font-style=\"italic\" lengthAdjust=\"spacingAndGlyphs\" textLength=\"40\" x=\"134\" y=\"163.1387\">«part»</text><text fill=\"#000000\" font-family=\"sans-serif\" font-size=\"12\" lengthAdjust=\"spacingAndGlyphs\" textLength=\"8\" x=\"150\" y=\"177.1074\">a</text><line style=\"stroke: #383838; stroke-width: 1.5;\" x1=\"134\" x2=\"174\" y1=\"184.9375\" y2=\"184.9375\"/></a><!--MD5=[ebbe1d658d1005bcc118a6aa81145e00]\n",
       "class E4--><a href=\"psysml:ae693b7b-cdf9-497f-b28d-123f2277c02f\" target=\"_top\" title=\"psysml:ae693b7b-cdf9-497f-b28d-123f2277c02f\" xlink:actuate=\"onRequest\" xlink:href=\"psysml:ae693b7b-cdf9-497f-b28d-123f2277c02f\" xlink:show=\"new\" xlink:title=\"psysml:ae693b7b-cdf9-497f-b28d-123f2277c02f\" xlink:type=\"simple\"><rect fill=\"#FFFFFF\" height=\"45.9375\" id=\"E4\" style=\"stroke: #383838; stroke-width: 1.5;\" width=\"66\" x=\"32\" y=\"41\"/><text fill=\"#000000\" font-family=\"sans-serif\" font-size=\"12\" font-style=\"italic\" lengthAdjust=\"spacingAndGlyphs\" textLength=\"64\" x=\"33\" y=\"57.1387\">«part def»</text><text fill=\"#000000\" font-family=\"sans-serif\" font-size=\"12\" lengthAdjust=\"spacingAndGlyphs\" textLength=\"8\" x=\"61\" y=\"71.1074\">C</text><line style=\"stroke: #383838; stroke-width: 1.5;\" x1=\"33\" x2=\"97\" y1=\"78.9375\" y2=\"78.9375\"/></a><!--MD5=[270fce915f116d4de14055a7c1d9a0f3]\n",
       "class E5--><a href=\"psysml:e9e4e094-e1ef-4d59-8b5d-bef394effc04\" target=\"_top\" title=\"psysml:e9e4e094-e1ef-4d59-8b5d-bef394effc04\" xlink:actuate=\"onRequest\" xlink:href=\"psysml:e9e4e094-e1ef-4d59-8b5d-bef394effc04\" xlink:show=\"new\" xlink:title=\"psysml:e9e4e094-e1ef-4d59-8b5d-bef394effc04\" xlink:type=\"simple\"><rect fill=\"#FFFFFF\" height=\"45.9375\" id=\"E5\" rx=\"10\" ry=\"10\" style=\"stroke: #383838; stroke-width: 1.5;\" width=\"42\" x=\"44\" y=\"147\"/><text fill=\"#000000\" font-family=\"sans-serif\" font-size=\"12\" font-style=\"italic\" lengthAdjust=\"spacingAndGlyphs\" textLength=\"40\" x=\"45\" y=\"163.1387\">«part»</text><text fill=\"#000000\" font-family=\"sans-serif\" font-size=\"12\" lengthAdjust=\"spacingAndGlyphs\" textLength=\"8\" x=\"61\" y=\"177.1074\">g</text><line style=\"stroke: #383838; stroke-width: 1.5;\" x1=\"45\" x2=\"85\" y1=\"184.9375\" y2=\"184.9375\"/></a><!--MD5=[209b3feb70ccb6233bfe1053d122c12c]\n",
       "reverse link E2 to E3--><a href=\"psysml:c0fa1ef5-beff-4377-a65a-0adbb28c5765\" target=\"_top\" title=\"psysml:c0fa1ef5-beff-4377-a65a-0adbb28c5765\" xlink:actuate=\"onRequest\" xlink:href=\"psysml:c0fa1ef5-beff-4377-a65a-0adbb28c5765\" xlink:show=\"new\" xlink:title=\"psysml:c0fa1ef5-beff-4377-a65a-0adbb28c5765\" xlink:type=\"simple\"><path d=\"M154,100 C154,100 154,146.68 154,146.68 \" fill=\"none\" id=\"E2&lt;-E3\" style=\"stroke: #383838; stroke-width: 1.0;\"/><polygon fill=\"#383838\" points=\"154,87,150,93,154,99,158,93,154,87\" style=\"stroke: #383838; stroke-width: 1.0;\"/></a><!--MD5=[62aa6af11e70f752912c1cb0466f24f7]\n",
       "reverse link E4 to E5--><a href=\"psysml:e9e4e094-e1ef-4d59-8b5d-bef394effc04\" target=\"_top\" title=\"psysml:e9e4e094-e1ef-4d59-8b5d-bef394effc04\" xlink:actuate=\"onRequest\" xlink:href=\"psysml:e9e4e094-e1ef-4d59-8b5d-bef394effc04\" xlink:show=\"new\" xlink:title=\"psysml:e9e4e094-e1ef-4d59-8b5d-bef394effc04\" xlink:type=\"simple\"><path d=\"M65,100 C65,100 65,146.68 65,146.68 \" fill=\"none\" id=\"E4&lt;-E5\" style=\"stroke: #383838; stroke-width: 1.0;\"/><polygon fill=\"#383838\" points=\"65,87,61,93,65,99,69,93,65,87\" style=\"stroke: #383838; stroke-width: 1.0;\"/></a><!--MD5=[1229239e4c4169a5d7ec7fecf66d552f]\n",
       "@startuml\r\n",
       "skinparam linetype ortho\r\n",
       "skinparam monochrome true\r\n",
       "skinparam classbackgroundcolor white\r\n",
       "skinparam shadowing false\r\n",
       "skinparam wrapWidth 300\r\n",
       "hide circle\r\n",
       "\r\n",
       "package \"Q\" as E1  [[psysml:2f37afb0-cd4e-4fb5-8035-2782344ffa0d ]]  {\r\n",
       "comp usage \"f\" as E2  <<(T,blue)part>> [[psysml:808101de-d573-40e0-bd9c-1a41ac0023c1 ]] {\r\n",
       "}\r\n",
       "comp usage \"a\" as E3  <<(T,blue)part>> [[psysml:c0fa1ef5-beff-4377-a65a-0adbb28c5765 ]] {\r\n",
       "}\r\n",
       "comp def \"C\" as E4  <<(T,blue)part def>> [[psysml:ae693b7b-cdf9-497f-b28d-123f2277c02f ]] {\r\n",
       "}\r\n",
       "comp usage \"g\" as E5  <<(T,blue)part>> [[psysml:e9e4e094-e1ef-4d59-8b5d-bef394effc04 ]] {\r\n",
       "}\r\n",
       "E2 *- - E3 [[psysml:c0fa1ef5-beff-4377-a65a-0adbb28c5765 ]] \r\n",
       "E4 *- - E5 [[psysml:e9e4e094-e1ef-4d59-8b5d-bef394effc04 ]] \r\n",
       "}\r\n",
       "@enduml\r\n",
       "\n",
       "PlantUML version 1.2020.13(Sat Jun 13 12:26:38 UTC 2020)\n",
       "(EPL source distribution)\n",
       "Java Runtime: OpenJDK Runtime Environment\n",
       "JVM: OpenJDK 64-Bit Server VM\n",
       "Default Encoding: UTF-8\n",
       "Language: en\n",
       "Country: null\n",
       "--></g></svg>"
      ]
     },
     "execution_count": 56,
     "metadata": {},
     "output_type": "execute_result"
    }
   ],
   "source": [
    "%viz --style=\"ORTHOLINE\" --view=\"Sequence\" \"Q\""
   ]
  },
  {
   "cell_type": "code",
   "execution_count": 57,
   "id": "caring-fleece",
   "metadata": {
    "execution": {
     "iopub.execute_input": "2021-03-26T12:08:04.050177Z",
     "iopub.status.busy": "2021-03-26T12:08:04.049344Z",
     "iopub.status.idle": "2021-03-26T12:08:04.079023Z",
     "shell.execute_reply": "2021-03-26T12:08:04.079330Z"
    }
   },
   "outputs": [
    {
     "data": {
      "image/svg+xml": [
       "<?xml version=\"1.0\" encoding=\"UTF-8\" standalone=\"no\"?><svg xmlns=\"http://www.w3.org/2000/svg\" xmlns:xlink=\"http://www.w3.org/1999/xlink\" contentScriptType=\"application/ecmascript\" contentStyleType=\"text/css\" height=\"221px\" preserveAspectRatio=\"none\" style=\"width:213px;height:221px;\" version=\"1.1\" viewBox=\"0 0 213 221\" width=\"213px\" zoomAndPan=\"magnify\"><defs/><g><!--MD5=[fbc87193dbaf4d95561dea2c320d4a47]\n",
       "cluster E1--><a href=\"psysml:2f37afb0-cd4e-4fb5-8035-2782344ffa0d\" target=\"_top\" title=\"psysml:2f37afb0-cd4e-4fb5-8035-2782344ffa0d\" xlink:actuate=\"onRequest\" xlink:href=\"psysml:2f37afb0-cd4e-4fb5-8035-2782344ffa0d\" xlink:show=\"new\" xlink:title=\"psysml:2f37afb0-cd4e-4fb5-8035-2782344ffa0d\" xlink:type=\"simple\"><polygon fill=\"#FFFFFF\" points=\"16,6,34,6,41,28.2969,191,28.2969,191,209,16,209,16,6\" style=\"stroke: #000000; stroke-width: 1.5;\"/><line style=\"stroke: #000000; stroke-width: 1.5;\" x1=\"16\" x2=\"41\" y1=\"28.2969\" y2=\"28.2969\"/><text fill=\"#000000\" font-family=\"sans-serif\" font-size=\"14\" font-weight=\"bold\" lengthAdjust=\"spacingAndGlyphs\" textLength=\"12\" x=\"20\" y=\"20.9951\">Q</text></a><!--MD5=[b4997ac47864f28c2f74865a473b2911]\n",
       "class E2--><a href=\"psysml:808101de-d573-40e0-bd9c-1a41ac0023c1\" target=\"_top\" title=\"psysml:808101de-d573-40e0-bd9c-1a41ac0023c1\" xlink:actuate=\"onRequest\" xlink:href=\"psysml:808101de-d573-40e0-bd9c-1a41ac0023c1\" xlink:show=\"new\" xlink:title=\"psysml:808101de-d573-40e0-bd9c-1a41ac0023c1\" xlink:type=\"simple\"><rect fill=\"#FFFFFF\" height=\"45.9375\" id=\"E2\" rx=\"10\" ry=\"10\" style=\"stroke: #383838; stroke-width: 1.5;\" width=\"42\" x=\"133\" y=\"41\"/><text fill=\"#000000\" font-family=\"sans-serif\" font-size=\"12\" font-style=\"italic\" lengthAdjust=\"spacingAndGlyphs\" textLength=\"40\" x=\"134\" y=\"57.1387\">«part»</text><text fill=\"#000000\" font-family=\"sans-serif\" font-size=\"12\" lengthAdjust=\"spacingAndGlyphs\" textLength=\"4\" x=\"152\" y=\"71.1074\">f</text><line style=\"stroke: #383838; stroke-width: 1.5;\" x1=\"134\" x2=\"174\" y1=\"78.9375\" y2=\"78.9375\"/></a><!--MD5=[09b614a08d8cba4a07c9adeb5e0fee81]\n",
       "class E3--><a href=\"psysml:c0fa1ef5-beff-4377-a65a-0adbb28c5765\" target=\"_top\" title=\"psysml:c0fa1ef5-beff-4377-a65a-0adbb28c5765\" xlink:actuate=\"onRequest\" xlink:href=\"psysml:c0fa1ef5-beff-4377-a65a-0adbb28c5765\" xlink:show=\"new\" xlink:title=\"psysml:c0fa1ef5-beff-4377-a65a-0adbb28c5765\" xlink:type=\"simple\"><rect fill=\"#FFFFFF\" height=\"45.9375\" id=\"E3\" rx=\"10\" ry=\"10\" style=\"stroke: #383838; stroke-width: 1.5;\" width=\"42\" x=\"133\" y=\"147\"/><text fill=\"#000000\" font-family=\"sans-serif\" font-size=\"12\" font-style=\"italic\" lengthAdjust=\"spacingAndGlyphs\" textLength=\"40\" x=\"134\" y=\"163.1387\">«part»</text><text fill=\"#000000\" font-family=\"sans-serif\" font-size=\"12\" lengthAdjust=\"spacingAndGlyphs\" textLength=\"8\" x=\"150\" y=\"177.1074\">a</text><line style=\"stroke: #383838; stroke-width: 1.5;\" x1=\"134\" x2=\"174\" y1=\"184.9375\" y2=\"184.9375\"/></a><!--MD5=[ebbe1d658d1005bcc118a6aa81145e00]\n",
       "class E4--><a href=\"psysml:ae693b7b-cdf9-497f-b28d-123f2277c02f\" target=\"_top\" title=\"psysml:ae693b7b-cdf9-497f-b28d-123f2277c02f\" xlink:actuate=\"onRequest\" xlink:href=\"psysml:ae693b7b-cdf9-497f-b28d-123f2277c02f\" xlink:show=\"new\" xlink:title=\"psysml:ae693b7b-cdf9-497f-b28d-123f2277c02f\" xlink:type=\"simple\"><rect fill=\"#FFFFFF\" height=\"45.9375\" id=\"E4\" style=\"stroke: #383838; stroke-width: 1.5;\" width=\"66\" x=\"32\" y=\"41\"/><text fill=\"#000000\" font-family=\"sans-serif\" font-size=\"12\" font-style=\"italic\" lengthAdjust=\"spacingAndGlyphs\" textLength=\"64\" x=\"33\" y=\"57.1387\">«part def»</text><text fill=\"#000000\" font-family=\"sans-serif\" font-size=\"12\" lengthAdjust=\"spacingAndGlyphs\" textLength=\"8\" x=\"61\" y=\"71.1074\">C</text><line style=\"stroke: #383838; stroke-width: 1.5;\" x1=\"33\" x2=\"97\" y1=\"78.9375\" y2=\"78.9375\"/></a><!--MD5=[270fce915f116d4de14055a7c1d9a0f3]\n",
       "class E5--><a href=\"psysml:e9e4e094-e1ef-4d59-8b5d-bef394effc04\" target=\"_top\" title=\"psysml:e9e4e094-e1ef-4d59-8b5d-bef394effc04\" xlink:actuate=\"onRequest\" xlink:href=\"psysml:e9e4e094-e1ef-4d59-8b5d-bef394effc04\" xlink:show=\"new\" xlink:title=\"psysml:e9e4e094-e1ef-4d59-8b5d-bef394effc04\" xlink:type=\"simple\"><rect fill=\"#FFFFFF\" height=\"45.9375\" id=\"E5\" rx=\"10\" ry=\"10\" style=\"stroke: #383838; stroke-width: 1.5;\" width=\"42\" x=\"44\" y=\"147\"/><text fill=\"#000000\" font-family=\"sans-serif\" font-size=\"12\" font-style=\"italic\" lengthAdjust=\"spacingAndGlyphs\" textLength=\"40\" x=\"45\" y=\"163.1387\">«part»</text><text fill=\"#000000\" font-family=\"sans-serif\" font-size=\"12\" lengthAdjust=\"spacingAndGlyphs\" textLength=\"8\" x=\"61\" y=\"177.1074\">g</text><line style=\"stroke: #383838; stroke-width: 1.5;\" x1=\"45\" x2=\"85\" y1=\"184.9375\" y2=\"184.9375\"/></a><!--MD5=[209b3feb70ccb6233bfe1053d122c12c]\n",
       "reverse link E2 to E3--><a href=\"psysml:c0fa1ef5-beff-4377-a65a-0adbb28c5765\" target=\"_top\" title=\"psysml:c0fa1ef5-beff-4377-a65a-0adbb28c5765\" xlink:actuate=\"onRequest\" xlink:href=\"psysml:c0fa1ef5-beff-4377-a65a-0adbb28c5765\" xlink:show=\"new\" xlink:title=\"psysml:c0fa1ef5-beff-4377-a65a-0adbb28c5765\" xlink:type=\"simple\"><path d=\"M154,100 C154,100 154,146.68 154,146.68 \" fill=\"none\" id=\"E2&lt;-E3\" style=\"stroke: #383838; stroke-width: 1.0;\"/><polygon fill=\"#383838\" points=\"154,87,150,93,154,99,158,93,154,87\" style=\"stroke: #383838; stroke-width: 1.0;\"/></a><!--MD5=[62aa6af11e70f752912c1cb0466f24f7]\n",
       "reverse link E4 to E5--><a href=\"psysml:e9e4e094-e1ef-4d59-8b5d-bef394effc04\" target=\"_top\" title=\"psysml:e9e4e094-e1ef-4d59-8b5d-bef394effc04\" xlink:actuate=\"onRequest\" xlink:href=\"psysml:e9e4e094-e1ef-4d59-8b5d-bef394effc04\" xlink:show=\"new\" xlink:title=\"psysml:e9e4e094-e1ef-4d59-8b5d-bef394effc04\" xlink:type=\"simple\"><path d=\"M65,100 C65,100 65,146.68 65,146.68 \" fill=\"none\" id=\"E4&lt;-E5\" style=\"stroke: #383838; stroke-width: 1.0;\"/><polygon fill=\"#383838\" points=\"65,87,61,93,65,99,69,93,65,87\" style=\"stroke: #383838; stroke-width: 1.0;\"/></a><!--MD5=[1229239e4c4169a5d7ec7fecf66d552f]\n",
       "@startuml\r\n",
       "skinparam linetype ortho\r\n",
       "skinparam monochrome true\r\n",
       "skinparam classbackgroundcolor white\r\n",
       "skinparam shadowing false\r\n",
       "skinparam wrapWidth 300\r\n",
       "hide circle\r\n",
       "\r\n",
       "package \"Q\" as E1  [[psysml:2f37afb0-cd4e-4fb5-8035-2782344ffa0d ]]  {\r\n",
       "comp usage \"f\" as E2  <<(T,blue)part>> [[psysml:808101de-d573-40e0-bd9c-1a41ac0023c1 ]] {\r\n",
       "}\r\n",
       "comp usage \"a\" as E3  <<(T,blue)part>> [[psysml:c0fa1ef5-beff-4377-a65a-0adbb28c5765 ]] {\r\n",
       "}\r\n",
       "comp def \"C\" as E4  <<(T,blue)part def>> [[psysml:ae693b7b-cdf9-497f-b28d-123f2277c02f ]] {\r\n",
       "}\r\n",
       "comp usage \"g\" as E5  <<(T,blue)part>> [[psysml:e9e4e094-e1ef-4d59-8b5d-bef394effc04 ]] {\r\n",
       "}\r\n",
       "E2 *- - E3 [[psysml:c0fa1ef5-beff-4377-a65a-0adbb28c5765 ]] \r\n",
       "E4 *- - E5 [[psysml:e9e4e094-e1ef-4d59-8b5d-bef394effc04 ]] \r\n",
       "}\r\n",
       "@enduml\r\n",
       "\n",
       "PlantUML version 1.2020.13(Sat Jun 13 12:26:38 UTC 2020)\n",
       "(EPL source distribution)\n",
       "Java Runtime: OpenJDK Runtime Environment\n",
       "JVM: OpenJDK 64-Bit Server VM\n",
       "Default Encoding: UTF-8\n",
       "Language: en\n",
       "Country: null\n",
       "--></g></svg>"
      ]
     },
     "execution_count": 57,
     "metadata": {},
     "output_type": "execute_result"
    }
   ],
   "source": [
    "%viz --style=\"ORTHOLINE\" --view=\"MIXED\" \"Q\""
   ]
  }
 ],
 "metadata": {
  "kernelspec": {
   "display_name": "SysML",
   "language": "sysml",
   "name": "sysml"
  },
  "language_info": {
   "codemirror_mode": "sysml",
   "file_extension": ".sysml",
   "mimetype": "text/x-sysml",
   "name": "SysML",
   "pygments_lexer": "java",
   "version": "1.0.0"
  }
 },
 "nbformat": 4,
 "nbformat_minor": 5
}
