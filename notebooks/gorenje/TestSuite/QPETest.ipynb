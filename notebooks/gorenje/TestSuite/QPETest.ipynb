{
 "cells": [
  {
   "cell_type": "markdown",
   "id": "adaptive-community",
   "metadata": {},
   "source": [
    "# SysML v2 Test Suite\n",
    "\n",
    "This can notebook can be cleared using menu `Edit --> Clear All Outputs` and then all cells can be\n",
    "run using menu `Run --> Run All Cells`.\n",
    "\n",
    "**WARNING**: This file is generated, all modifications here will be ignored.\n"
   ]
  },
  {
   "cell_type": "markdown",
   "id": "automated-congress",
   "metadata": {},
   "source": [
    "## File: ../../sysml/src/examples/Simple Tests/QPETest.sysml"
   ]
  },
  {
   "cell_type": "code",
   "execution_count": 1,
   "id": "continued-pension",
   "metadata": {
    "execution": {
     "iopub.execute_input": "2021-03-25T09:26:23.731527Z",
     "iopub.status.busy": "2021-03-25T09:26:23.730025Z",
     "iopub.status.idle": "2021-03-25T09:26:23.972194Z",
     "shell.execute_reply": "2021-03-25T09:26:23.971689Z"
    }
   },
   "outputs": [
    {
     "data": {
      "text/plain": [
       "Package Q (764636ae-64af-4499-8b13-8e775c8eb195)\n"
      ]
     },
     "execution_count": 1,
     "metadata": {},
     "output_type": "execute_result"
    }
   ],
   "source": [
    "package Q {\n",
    "  part f {\n",
    "  \tpart a;\n",
    "  }\n",
    "  part def C {\n",
    "    part g = ./f/a; \n",
    "  }\n",
    "}\n"
   ]
  },
  {
   "cell_type": "code",
   "execution_count": 2,
   "id": "occasional-bangladesh",
   "metadata": {
    "execution": {
     "iopub.execute_input": "2021-03-25T09:26:24.024860Z",
     "iopub.status.busy": "2021-03-25T09:26:24.024091Z",
     "iopub.status.idle": "2021-03-25T09:26:24.751679Z",
     "shell.execute_reply": "2021-03-25T09:26:24.752505Z"
    }
   },
   "outputs": [
    {
     "data": {
      "image/svg+xml": [
       "<?xml version=\"1.0\" encoding=\"UTF-8\" standalone=\"no\"?><svg xmlns=\"http://www.w3.org/2000/svg\" xmlns:xlink=\"http://www.w3.org/1999/xlink\" contentScriptType=\"application/ecmascript\" contentStyleType=\"text/css\" height=\"221px\" preserveAspectRatio=\"none\" style=\"width:213px;height:221px;\" version=\"1.1\" viewBox=\"0 0 213 221\" width=\"213px\" zoomAndPan=\"magnify\"><defs/><g><!--MD5=[fbc87193dbaf4d95561dea2c320d4a47]\n",
       "cluster E1--><a href=\"psysml:ef9b7028-f6bf-447e-864f-9dad0bdce88c\" target=\"_top\" title=\"psysml:ef9b7028-f6bf-447e-864f-9dad0bdce88c\" xlink:actuate=\"onRequest\" xlink:href=\"psysml:ef9b7028-f6bf-447e-864f-9dad0bdce88c\" xlink:show=\"new\" xlink:title=\"psysml:ef9b7028-f6bf-447e-864f-9dad0bdce88c\" xlink:type=\"simple\"><polygon fill=\"#FFFFFF\" points=\"16,6,34,6,41,28.2969,191,28.2969,191,209,16,209,16,6\" style=\"stroke: #000000; stroke-width: 1.5;\"/><line style=\"stroke: #000000; stroke-width: 1.5;\" x1=\"16\" x2=\"41\" y1=\"28.2969\" y2=\"28.2969\"/><text fill=\"#000000\" font-family=\"sans-serif\" font-size=\"14\" font-weight=\"bold\" lengthAdjust=\"spacingAndGlyphs\" textLength=\"12\" x=\"20\" y=\"20.9951\">Q</text></a><!--MD5=[b4997ac47864f28c2f74865a473b2911]\n",
       "class E2--><a href=\"psysml:4239e231-7164-4547-a8e1-ba39f4362efb\" target=\"_top\" title=\"psysml:4239e231-7164-4547-a8e1-ba39f4362efb\" xlink:actuate=\"onRequest\" xlink:href=\"psysml:4239e231-7164-4547-a8e1-ba39f4362efb\" xlink:show=\"new\" xlink:title=\"psysml:4239e231-7164-4547-a8e1-ba39f4362efb\" xlink:type=\"simple\"><rect fill=\"#FFFFFF\" height=\"45.9375\" id=\"E2\" rx=\"10\" ry=\"10\" style=\"stroke: #383838; stroke-width: 1.5;\" width=\"42\" x=\"133\" y=\"41\"/><text fill=\"#000000\" font-family=\"sans-serif\" font-size=\"12\" font-style=\"italic\" lengthAdjust=\"spacingAndGlyphs\" textLength=\"40\" x=\"134\" y=\"57.1387\">«part»</text><text fill=\"#000000\" font-family=\"sans-serif\" font-size=\"12\" lengthAdjust=\"spacingAndGlyphs\" textLength=\"4\" x=\"152\" y=\"71.1074\">f</text><line style=\"stroke: #383838; stroke-width: 1.5;\" x1=\"134\" x2=\"174\" y1=\"78.9375\" y2=\"78.9375\"/></a><!--MD5=[09b614a08d8cba4a07c9adeb5e0fee81]\n",
       "class E3--><a href=\"psysml:51ecbb7c-6db5-4069-ae0d-bb60efd47f9e\" target=\"_top\" title=\"psysml:51ecbb7c-6db5-4069-ae0d-bb60efd47f9e\" xlink:actuate=\"onRequest\" xlink:href=\"psysml:51ecbb7c-6db5-4069-ae0d-bb60efd47f9e\" xlink:show=\"new\" xlink:title=\"psysml:51ecbb7c-6db5-4069-ae0d-bb60efd47f9e\" xlink:type=\"simple\"><rect fill=\"#FFFFFF\" height=\"45.9375\" id=\"E3\" rx=\"10\" ry=\"10\" style=\"stroke: #383838; stroke-width: 1.5;\" width=\"42\" x=\"133\" y=\"147\"/><text fill=\"#000000\" font-family=\"sans-serif\" font-size=\"12\" font-style=\"italic\" lengthAdjust=\"spacingAndGlyphs\" textLength=\"40\" x=\"134\" y=\"163.1387\">«part»</text><text fill=\"#000000\" font-family=\"sans-serif\" font-size=\"12\" lengthAdjust=\"spacingAndGlyphs\" textLength=\"8\" x=\"150\" y=\"177.1074\">a</text><line style=\"stroke: #383838; stroke-width: 1.5;\" x1=\"134\" x2=\"174\" y1=\"184.9375\" y2=\"184.9375\"/></a><!--MD5=[ebbe1d658d1005bcc118a6aa81145e00]\n",
       "class E4--><a href=\"psysml:5da665e6-dcc7-4321-8fa9-423e89fca153\" target=\"_top\" title=\"psysml:5da665e6-dcc7-4321-8fa9-423e89fca153\" xlink:actuate=\"onRequest\" xlink:href=\"psysml:5da665e6-dcc7-4321-8fa9-423e89fca153\" xlink:show=\"new\" xlink:title=\"psysml:5da665e6-dcc7-4321-8fa9-423e89fca153\" xlink:type=\"simple\"><rect fill=\"#FFFFFF\" height=\"45.9375\" id=\"E4\" style=\"stroke: #383838; stroke-width: 1.5;\" width=\"66\" x=\"32\" y=\"41\"/><text fill=\"#000000\" font-family=\"sans-serif\" font-size=\"12\" font-style=\"italic\" lengthAdjust=\"spacingAndGlyphs\" textLength=\"64\" x=\"33\" y=\"57.1387\">«part def»</text><text fill=\"#000000\" font-family=\"sans-serif\" font-size=\"12\" lengthAdjust=\"spacingAndGlyphs\" textLength=\"8\" x=\"61\" y=\"71.1074\">C</text><line style=\"stroke: #383838; stroke-width: 1.5;\" x1=\"33\" x2=\"97\" y1=\"78.9375\" y2=\"78.9375\"/></a><!--MD5=[270fce915f116d4de14055a7c1d9a0f3]\n",
       "class E5--><a href=\"psysml:ed499477-fca6-4979-bffe-7845725436ef\" target=\"_top\" title=\"psysml:ed499477-fca6-4979-bffe-7845725436ef\" xlink:actuate=\"onRequest\" xlink:href=\"psysml:ed499477-fca6-4979-bffe-7845725436ef\" xlink:show=\"new\" xlink:title=\"psysml:ed499477-fca6-4979-bffe-7845725436ef\" xlink:type=\"simple\"><rect fill=\"#FFFFFF\" height=\"45.9375\" id=\"E5\" rx=\"10\" ry=\"10\" style=\"stroke: #383838; stroke-width: 1.5;\" width=\"42\" x=\"44\" y=\"147\"/><text fill=\"#000000\" font-family=\"sans-serif\" font-size=\"12\" font-style=\"italic\" lengthAdjust=\"spacingAndGlyphs\" textLength=\"40\" x=\"45\" y=\"163.1387\">«part»</text><text fill=\"#000000\" font-family=\"sans-serif\" font-size=\"12\" lengthAdjust=\"spacingAndGlyphs\" textLength=\"8\" x=\"61\" y=\"177.1074\">g</text><line style=\"stroke: #383838; stroke-width: 1.5;\" x1=\"45\" x2=\"85\" y1=\"184.9375\" y2=\"184.9375\"/></a><!--MD5=[209b3feb70ccb6233bfe1053d122c12c]\n",
       "reverse link E2 to E3--><a href=\"psysml:51ecbb7c-6db5-4069-ae0d-bb60efd47f9e\" target=\"_top\" title=\"psysml:51ecbb7c-6db5-4069-ae0d-bb60efd47f9e\" xlink:actuate=\"onRequest\" xlink:href=\"psysml:51ecbb7c-6db5-4069-ae0d-bb60efd47f9e\" xlink:show=\"new\" xlink:title=\"psysml:51ecbb7c-6db5-4069-ae0d-bb60efd47f9e\" xlink:type=\"simple\"><path d=\"M154,100.44 C154,115.87 154,133.47 154,146.98 \" fill=\"none\" id=\"E2&lt;-E3\" style=\"stroke: #383838; stroke-width: 1.0;\"/><polygon fill=\"#383838\" points=\"154,87.06,150,93.06,154,99.06,158,93.06,154,87.06\" style=\"stroke: #383838; stroke-width: 1.0;\"/></a><!--MD5=[62aa6af11e70f752912c1cb0466f24f7]\n",
       "reverse link E4 to E5--><a href=\"psysml:ed499477-fca6-4979-bffe-7845725436ef\" target=\"_top\" title=\"psysml:ed499477-fca6-4979-bffe-7845725436ef\" xlink:actuate=\"onRequest\" xlink:href=\"psysml:ed499477-fca6-4979-bffe-7845725436ef\" xlink:show=\"new\" xlink:title=\"psysml:ed499477-fca6-4979-bffe-7845725436ef\" xlink:type=\"simple\"><path d=\"M65,100.44 C65,115.87 65,133.47 65,146.98 \" fill=\"none\" id=\"E4&lt;-E5\" style=\"stroke: #383838; stroke-width: 1.0;\"/><polygon fill=\"#383838\" points=\"65,87.06,61,93.06,65,99.06,69,93.06,65,87.06\" style=\"stroke: #383838; stroke-width: 1.0;\"/></a><!--MD5=[eb42a2e3986dd828be1d16c6f68707d6]\n",
       "@startuml\r\n",
       " skinparam monochrome true\r\n",
       "skinparam classbackgroundcolor white\r\n",
       "skinparam shadowing false\r\n",
       "skinparam wrapWidth 300\r\n",
       "hide circle\r\n",
       "\r\n",
       "package \"Q\" as E1  [[psysml:ef9b7028-f6bf-447e-864f-9dad0bdce88c ]]  {\r\n",
       "comp usage \"f\" as E2  <<(T,blue)part>> [[psysml:4239e231-7164-4547-a8e1-ba39f4362efb ]] {\r\n",
       "}\r\n",
       "comp usage \"a\" as E3  <<(T,blue)part>> [[psysml:51ecbb7c-6db5-4069-ae0d-bb60efd47f9e ]] {\r\n",
       "}\r\n",
       "comp def \"C\" as E4  <<(T,blue)part def>> [[psysml:5da665e6-dcc7-4321-8fa9-423e89fca153 ]] {\r\n",
       "}\r\n",
       "comp usage \"g\" as E5  <<(T,blue)part>> [[psysml:ed499477-fca6-4979-bffe-7845725436ef ]] {\r\n",
       "}\r\n",
       "E2 *- - E3 [[psysml:51ecbb7c-6db5-4069-ae0d-bb60efd47f9e ]] \r\n",
       "E4 *- - E5 [[psysml:ed499477-fca6-4979-bffe-7845725436ef ]] \r\n",
       "}\r\n",
       "@enduml\r\n",
       "\n",
       "PlantUML version 1.2020.13(Sat Jun 13 12:26:38 UTC 2020)\n",
       "(EPL source distribution)\n",
       "Java Runtime: OpenJDK Runtime Environment\n",
       "JVM: OpenJDK 64-Bit Server VM\n",
       "Default Encoding: UTF-8\n",
       "Language: en\n",
       "Country: null\n",
       "--></g></svg>"
      ]
     },
     "execution_count": 2,
     "metadata": {},
     "output_type": "execute_result"
    }
   ],
   "source": [
    "%viz --style=\"COMPTREE\" --view=\"Default\" \"Q\""
   ]
  },
  {
   "cell_type": "code",
   "execution_count": 3,
   "id": "aquatic-sheep",
   "metadata": {
    "execution": {
     "iopub.execute_input": "2021-03-25T09:26:24.803152Z",
     "iopub.status.busy": "2021-03-25T09:26:24.802229Z",
     "iopub.status.idle": "2021-03-25T09:26:24.887047Z",
     "shell.execute_reply": "2021-03-25T09:26:24.887438Z"
    }
   },
   "outputs": [
    {
     "data": {
      "image/svg+xml": [
       "<?xml version=\"1.0\" encoding=\"UTF-8\" standalone=\"no\"?><svg xmlns=\"http://www.w3.org/2000/svg\" xmlns:xlink=\"http://www.w3.org/1999/xlink\" contentScriptType=\"application/ecmascript\" contentStyleType=\"text/css\" height=\"221px\" preserveAspectRatio=\"none\" style=\"width:213px;height:221px;\" version=\"1.1\" viewBox=\"0 0 213 221\" width=\"213px\" zoomAndPan=\"magnify\"><defs/><g><!--MD5=[fbc87193dbaf4d95561dea2c320d4a47]\n",
       "cluster E1--><a href=\"psysml:ef9b7028-f6bf-447e-864f-9dad0bdce88c\" target=\"_top\" title=\"psysml:ef9b7028-f6bf-447e-864f-9dad0bdce88c\" xlink:actuate=\"onRequest\" xlink:href=\"psysml:ef9b7028-f6bf-447e-864f-9dad0bdce88c\" xlink:show=\"new\" xlink:title=\"psysml:ef9b7028-f6bf-447e-864f-9dad0bdce88c\" xlink:type=\"simple\"><polygon fill=\"#FFFFFF\" points=\"16,6,34,6,41,28.2969,191,28.2969,191,209,16,209,16,6\" style=\"stroke: #000000; stroke-width: 1.5;\"/><line style=\"stroke: #000000; stroke-width: 1.5;\" x1=\"16\" x2=\"41\" y1=\"28.2969\" y2=\"28.2969\"/><text fill=\"#000000\" font-family=\"sans-serif\" font-size=\"14\" font-weight=\"bold\" lengthAdjust=\"spacingAndGlyphs\" textLength=\"12\" x=\"20\" y=\"20.9951\">Q</text></a><!--MD5=[b4997ac47864f28c2f74865a473b2911]\n",
       "class E2--><a href=\"psysml:4239e231-7164-4547-a8e1-ba39f4362efb\" target=\"_top\" title=\"psysml:4239e231-7164-4547-a8e1-ba39f4362efb\" xlink:actuate=\"onRequest\" xlink:href=\"psysml:4239e231-7164-4547-a8e1-ba39f4362efb\" xlink:show=\"new\" xlink:title=\"psysml:4239e231-7164-4547-a8e1-ba39f4362efb\" xlink:type=\"simple\"><rect fill=\"#FFFFFF\" height=\"45.9375\" id=\"E2\" rx=\"10\" ry=\"10\" style=\"stroke: #383838; stroke-width: 1.5;\" width=\"42\" x=\"133\" y=\"41\"/><text fill=\"#000000\" font-family=\"sans-serif\" font-size=\"12\" font-style=\"italic\" lengthAdjust=\"spacingAndGlyphs\" textLength=\"40\" x=\"134\" y=\"57.1387\">«part»</text><text fill=\"#000000\" font-family=\"sans-serif\" font-size=\"12\" lengthAdjust=\"spacingAndGlyphs\" textLength=\"4\" x=\"152\" y=\"71.1074\">f</text><line style=\"stroke: #383838; stroke-width: 1.5;\" x1=\"134\" x2=\"174\" y1=\"78.9375\" y2=\"78.9375\"/></a><!--MD5=[09b614a08d8cba4a07c9adeb5e0fee81]\n",
       "class E3--><a href=\"psysml:51ecbb7c-6db5-4069-ae0d-bb60efd47f9e\" target=\"_top\" title=\"psysml:51ecbb7c-6db5-4069-ae0d-bb60efd47f9e\" xlink:actuate=\"onRequest\" xlink:href=\"psysml:51ecbb7c-6db5-4069-ae0d-bb60efd47f9e\" xlink:show=\"new\" xlink:title=\"psysml:51ecbb7c-6db5-4069-ae0d-bb60efd47f9e\" xlink:type=\"simple\"><rect fill=\"#FFFFFF\" height=\"45.9375\" id=\"E3\" rx=\"10\" ry=\"10\" style=\"stroke: #383838; stroke-width: 1.5;\" width=\"42\" x=\"133\" y=\"147\"/><text fill=\"#000000\" font-family=\"sans-serif\" font-size=\"12\" font-style=\"italic\" lengthAdjust=\"spacingAndGlyphs\" textLength=\"40\" x=\"134\" y=\"163.1387\">«part»</text><text fill=\"#000000\" font-family=\"sans-serif\" font-size=\"12\" lengthAdjust=\"spacingAndGlyphs\" textLength=\"8\" x=\"150\" y=\"177.1074\">a</text><line style=\"stroke: #383838; stroke-width: 1.5;\" x1=\"134\" x2=\"174\" y1=\"184.9375\" y2=\"184.9375\"/></a><!--MD5=[ebbe1d658d1005bcc118a6aa81145e00]\n",
       "class E4--><a href=\"psysml:5da665e6-dcc7-4321-8fa9-423e89fca153\" target=\"_top\" title=\"psysml:5da665e6-dcc7-4321-8fa9-423e89fca153\" xlink:actuate=\"onRequest\" xlink:href=\"psysml:5da665e6-dcc7-4321-8fa9-423e89fca153\" xlink:show=\"new\" xlink:title=\"psysml:5da665e6-dcc7-4321-8fa9-423e89fca153\" xlink:type=\"simple\"><rect fill=\"#FFFFFF\" height=\"45.9375\" id=\"E4\" style=\"stroke: #383838; stroke-width: 1.5;\" width=\"66\" x=\"32\" y=\"41\"/><text fill=\"#000000\" font-family=\"sans-serif\" font-size=\"12\" font-style=\"italic\" lengthAdjust=\"spacingAndGlyphs\" textLength=\"64\" x=\"33\" y=\"57.1387\">«part def»</text><text fill=\"#000000\" font-family=\"sans-serif\" font-size=\"12\" lengthAdjust=\"spacingAndGlyphs\" textLength=\"8\" x=\"61\" y=\"71.1074\">C</text><line style=\"stroke: #383838; stroke-width: 1.5;\" x1=\"33\" x2=\"97\" y1=\"78.9375\" y2=\"78.9375\"/></a><!--MD5=[270fce915f116d4de14055a7c1d9a0f3]\n",
       "class E5--><a href=\"psysml:ed499477-fca6-4979-bffe-7845725436ef\" target=\"_top\" title=\"psysml:ed499477-fca6-4979-bffe-7845725436ef\" xlink:actuate=\"onRequest\" xlink:href=\"psysml:ed499477-fca6-4979-bffe-7845725436ef\" xlink:show=\"new\" xlink:title=\"psysml:ed499477-fca6-4979-bffe-7845725436ef\" xlink:type=\"simple\"><rect fill=\"#FFFFFF\" height=\"45.9375\" id=\"E5\" rx=\"10\" ry=\"10\" style=\"stroke: #383838; stroke-width: 1.5;\" width=\"42\" x=\"44\" y=\"147\"/><text fill=\"#000000\" font-family=\"sans-serif\" font-size=\"12\" font-style=\"italic\" lengthAdjust=\"spacingAndGlyphs\" textLength=\"40\" x=\"45\" y=\"163.1387\">«part»</text><text fill=\"#000000\" font-family=\"sans-serif\" font-size=\"12\" lengthAdjust=\"spacingAndGlyphs\" textLength=\"8\" x=\"61\" y=\"177.1074\">g</text><line style=\"stroke: #383838; stroke-width: 1.5;\" x1=\"45\" x2=\"85\" y1=\"184.9375\" y2=\"184.9375\"/></a><!--MD5=[209b3feb70ccb6233bfe1053d122c12c]\n",
       "reverse link E2 to E3--><a href=\"psysml:51ecbb7c-6db5-4069-ae0d-bb60efd47f9e\" target=\"_top\" title=\"psysml:51ecbb7c-6db5-4069-ae0d-bb60efd47f9e\" xlink:actuate=\"onRequest\" xlink:href=\"psysml:51ecbb7c-6db5-4069-ae0d-bb60efd47f9e\" xlink:show=\"new\" xlink:title=\"psysml:51ecbb7c-6db5-4069-ae0d-bb60efd47f9e\" xlink:type=\"simple\"><path d=\"M154,100.44 C154,115.87 154,133.47 154,146.98 \" fill=\"none\" id=\"E2&lt;-E3\" style=\"stroke: #383838; stroke-width: 1.0;\"/><polygon fill=\"#383838\" points=\"154,87.06,150,93.06,154,99.06,158,93.06,154,87.06\" style=\"stroke: #383838; stroke-width: 1.0;\"/></a><!--MD5=[62aa6af11e70f752912c1cb0466f24f7]\n",
       "reverse link E4 to E5--><a href=\"psysml:ed499477-fca6-4979-bffe-7845725436ef\" target=\"_top\" title=\"psysml:ed499477-fca6-4979-bffe-7845725436ef\" xlink:actuate=\"onRequest\" xlink:href=\"psysml:ed499477-fca6-4979-bffe-7845725436ef\" xlink:show=\"new\" xlink:title=\"psysml:ed499477-fca6-4979-bffe-7845725436ef\" xlink:type=\"simple\"><path d=\"M65,100.44 C65,115.87 65,133.47 65,146.98 \" fill=\"none\" id=\"E4&lt;-E5\" style=\"stroke: #383838; stroke-width: 1.0;\"/><polygon fill=\"#383838\" points=\"65,87.06,61,93.06,65,99.06,69,93.06,65,87.06\" style=\"stroke: #383838; stroke-width: 1.0;\"/></a><!--MD5=[eb42a2e3986dd828be1d16c6f68707d6]\n",
       "@startuml\r\n",
       " skinparam monochrome true\r\n",
       "skinparam classbackgroundcolor white\r\n",
       "skinparam shadowing false\r\n",
       "skinparam wrapWidth 300\r\n",
       "hide circle\r\n",
       "\r\n",
       "package \"Q\" as E1  [[psysml:ef9b7028-f6bf-447e-864f-9dad0bdce88c ]]  {\r\n",
       "comp usage \"f\" as E2  <<(T,blue)part>> [[psysml:4239e231-7164-4547-a8e1-ba39f4362efb ]] {\r\n",
       "}\r\n",
       "comp usage \"a\" as E3  <<(T,blue)part>> [[psysml:51ecbb7c-6db5-4069-ae0d-bb60efd47f9e ]] {\r\n",
       "}\r\n",
       "comp def \"C\" as E4  <<(T,blue)part def>> [[psysml:5da665e6-dcc7-4321-8fa9-423e89fca153 ]] {\r\n",
       "}\r\n",
       "comp usage \"g\" as E5  <<(T,blue)part>> [[psysml:ed499477-fca6-4979-bffe-7845725436ef ]] {\r\n",
       "}\r\n",
       "E2 *- - E3 [[psysml:51ecbb7c-6db5-4069-ae0d-bb60efd47f9e ]] \r\n",
       "E4 *- - E5 [[psysml:ed499477-fca6-4979-bffe-7845725436ef ]] \r\n",
       "}\r\n",
       "@enduml\r\n",
       "\n",
       "PlantUML version 1.2020.13(Sat Jun 13 12:26:38 UTC 2020)\n",
       "(EPL source distribution)\n",
       "Java Runtime: OpenJDK Runtime Environment\n",
       "JVM: OpenJDK 64-Bit Server VM\n",
       "Default Encoding: UTF-8\n",
       "Language: en\n",
       "Country: null\n",
       "--></g></svg>"
      ]
     },
     "execution_count": 3,
     "metadata": {},
     "output_type": "execute_result"
    }
   ],
   "source": [
    "%viz --style=\"COMPTREE\" --view=\"Tree\" \"Q\""
   ]
  },
  {
   "cell_type": "code",
   "execution_count": 4,
   "id": "settled-sample",
   "metadata": {
    "execution": {
     "iopub.execute_input": "2021-03-25T09:26:24.938572Z",
     "iopub.status.busy": "2021-03-25T09:26:24.937938Z",
     "iopub.status.idle": "2021-03-25T09:26:24.948877Z",
     "shell.execute_reply": "2021-03-25T09:26:24.949270Z"
    }
   },
   "outputs": [
    {
     "data": {
      "image/svg+xml": [
       "<?xml version=\"1.0\" encoding=\"UTF-8\" standalone=\"no\"?><svg xmlns=\"http://www.w3.org/2000/svg\" xmlns:xlink=\"http://www.w3.org/1999/xlink\" contentScriptType=\"application/ecmascript\" contentStyleType=\"text/css\" height=\"12px\" preserveAspectRatio=\"none\" style=\"width:12px;height:12px;\" version=\"1.1\" viewBox=\"0 0 12 12\" width=\"12px\" zoomAndPan=\"magnify\"><defs/><g><!--MD5=[f19188ef49e11757b5c46753f95d9edc]\n",
       "@startuml\r\n",
       " skinparam monochrome true\r\n",
       "skinparam classbackgroundcolor white\r\n",
       "skinparam shadowing false\r\n",
       "skinparam wrapWidth 300\r\n",
       "hide circle\r\n",
       "\r\n",
       "@enduml\r\n",
       "\n",
       "PlantUML version 1.2020.13(Sat Jun 13 12:26:38 UTC 2020)\n",
       "(EPL source distribution)\n",
       "Java Runtime: OpenJDK Runtime Environment\n",
       "JVM: OpenJDK 64-Bit Server VM\n",
       "Default Encoding: UTF-8\n",
       "Language: en\n",
       "Country: null\n",
       "--></g></svg>"
      ]
     },
     "execution_count": 4,
     "metadata": {},
     "output_type": "execute_result"
    }
   ],
   "source": [
    "%viz --style=\"COMPTREE\" --view=\"State\" \"Q\""
   ]
  },
  {
   "cell_type": "code",
   "execution_count": 5,
   "id": "bridal-iceland",
   "metadata": {
    "execution": {
     "iopub.execute_input": "2021-03-25T09:26:25.004101Z",
     "iopub.status.busy": "2021-03-25T09:26:25.003390Z",
     "iopub.status.idle": "2021-03-25T09:26:25.090598Z",
     "shell.execute_reply": "2021-03-25T09:26:25.090990Z"
    }
   },
   "outputs": [
    {
     "data": {
      "image/svg+xml": [
       "<?xml version=\"1.0\" encoding=\"UTF-8\" standalone=\"no\"?><svg xmlns=\"http://www.w3.org/2000/svg\" xmlns:xlink=\"http://www.w3.org/1999/xlink\" contentScriptType=\"application/ecmascript\" contentStyleType=\"text/css\" height=\"192px\" preserveAspectRatio=\"none\" style=\"width:279px;height:192px;\" version=\"1.1\" viewBox=\"0 0 279 192\" width=\"279px\" zoomAndPan=\"magnify\"><defs/><g><!--MD5=[fbc87193dbaf4d95561dea2c320d4a47]\n",
       "cluster E1--><a href=\"psysml:ef9b7028-f6bf-447e-864f-9dad0bdce88c\" target=\"_top\" title=\"psysml:ef9b7028-f6bf-447e-864f-9dad0bdce88c\" xlink:actuate=\"onRequest\" xlink:href=\"psysml:ef9b7028-f6bf-447e-864f-9dad0bdce88c\" xlink:show=\"new\" xlink:title=\"psysml:ef9b7028-f6bf-447e-864f-9dad0bdce88c\" xlink:type=\"simple\"><polygon fill=\"#FFFFFF\" points=\"16,6,34,6,41,28.2969,257,28.2969,257,180,16,180,16,6\" style=\"stroke: #000000; stroke-width: 1.5;\"/><line style=\"stroke: #000000; stroke-width: 1.5;\" x1=\"16\" x2=\"41\" y1=\"28.2969\" y2=\"28.2969\"/><text fill=\"#000000\" font-family=\"sans-serif\" font-size=\"14\" font-weight=\"bold\" lengthAdjust=\"spacingAndGlyphs\" textLength=\"12\" x=\"20\" y=\"20.9951\">Q</text></a><!--MD5=[e4f7fae6ed58524ba242bb0b0d3be6b7]\n",
       "cluster E2--><a href=\"psysml:4239e231-7164-4547-a8e1-ba39f4362efb\" target=\"_top\" title=\"psysml:4239e231-7164-4547-a8e1-ba39f4362efb\" xlink:actuate=\"onRequest\" xlink:href=\"psysml:4239e231-7164-4547-a8e1-ba39f4362efb\" xlink:show=\"new\" xlink:title=\"psysml:4239e231-7164-4547-a8e1-ba39f4362efb\" xlink:type=\"simple\"><rect fill=\"#FFFFFF\" height=\"91\" id=\"E2\" rx=\"10\" ry=\"10\" style=\"stroke: #383838; stroke-width: 1.5;\" width=\"82\" x=\"151\" y=\"65\"/><rect fill=\"#F8F8F8\" height=\"23.9688\" rx=\"10\" ry=\"10\" style=\"stroke: #F8F8F8; stroke-width: 1.5;\" width=\"82\" x=\"151\" y=\"65\"/><rect fill=\"#F8F8F8\" height=\"10\" style=\"stroke: #F8F8F8; stroke-width: 1.5;\" width=\"82\" x=\"151\" y=\"78.9688\"/><rect fill=\"none\" height=\"91\" id=\"E2\" rx=\"10\" ry=\"10\" style=\"stroke: #383838; stroke-width: 1.5;\" width=\"82\" x=\"151\" y=\"65\"/><text fill=\"#000000\" font-family=\"sans-serif\" font-size=\"12\" lengthAdjust=\"spacingAndGlyphs\" textLength=\"4\" x=\"190\" y=\"81.1387\">f</text><line style=\"stroke: #383838; stroke-width: 1.0;\" x1=\"151\" x2=\"233\" y1=\"88.9688\" y2=\"88.9688\"/></a><!--MD5=[f6df4d0ebaf0b5dfb2ced0ae5af7c670]\n",
       "cluster E4--><a href=\"psysml:5da665e6-dcc7-4321-8fa9-423e89fca153\" target=\"_top\" title=\"psysml:5da665e6-dcc7-4321-8fa9-423e89fca153\" xlink:actuate=\"onRequest\" xlink:href=\"psysml:5da665e6-dcc7-4321-8fa9-423e89fca153\" xlink:show=\"new\" xlink:title=\"psysml:5da665e6-dcc7-4321-8fa9-423e89fca153\" xlink:type=\"simple\"><rect fill=\"#FFFFFF\" height=\"107\" id=\"E4\" style=\"stroke: #383838; stroke-width: 1.5;\" width=\"87\" x=\"40\" y=\"49\"/><rect fill=\"#F8F8F8\" height=\"37.9375\" style=\"stroke: #383838; stroke-width: 1.5;\" width=\"87\" x=\"40\" y=\"49\"/><text fill=\"#000000\" font-family=\"sans-serif\" font-size=\"12\" font-style=\"italic\" lengthAdjust=\"spacingAndGlyphs\" textLength=\"64\" x=\"51.5\" y=\"65.1387\">«part def»</text><text fill=\"#000000\" font-family=\"sans-serif\" font-size=\"12\" lengthAdjust=\"spacingAndGlyphs\" textLength=\"8\" x=\"79.5\" y=\"79.1074\">C</text></a><g id=\"E1.E2.E3\"><a href=\"psysml:51ecbb7c-6db5-4069-ae0d-bb60efd47f9e\" target=\"_top\" title=\"psysml:51ecbb7c-6db5-4069-ae0d-bb60efd47f9e\" xlink:actuate=\"onRequest\" xlink:href=\"psysml:51ecbb7c-6db5-4069-ae0d-bb60efd47f9e\" xlink:show=\"new\" xlink:title=\"psysml:51ecbb7c-6db5-4069-ae0d-bb60efd47f9e\" xlink:type=\"simple\"><rect fill=\"#FFFFFF\" height=\"40\" id=\"E3\" rx=\"10\" ry=\"10\" style=\"stroke: #383838; stroke-width: 1.5;\" width=\"50\" x=\"167\" y=\"100\"/><rect fill=\"#F8F8F8\" height=\"23.9688\" rx=\"10\" ry=\"10\" style=\"stroke: #F8F8F8; stroke-width: 1.5;\" width=\"50\" x=\"167\" y=\"100\"/><rect fill=\"#F8F8F8\" height=\"10\" style=\"stroke: #F8F8F8; stroke-width: 1.5;\" width=\"50\" x=\"167\" y=\"113.9688\"/><rect fill=\"none\" height=\"40\" id=\"E3\" rx=\"10\" ry=\"10\" style=\"stroke: #383838; stroke-width: 1.5;\" width=\"50\" x=\"167\" y=\"100\"/><text fill=\"#000000\" font-family=\"sans-serif\" font-size=\"12\" lengthAdjust=\"spacingAndGlyphs\" textLength=\"8\" x=\"188\" y=\"116.1387\">a</text></a></g><g id=\"E1.E4.E5\"><a href=\"psysml:ed499477-fca6-4979-bffe-7845725436ef\" target=\"_top\" title=\"psysml:ed499477-fca6-4979-bffe-7845725436ef\" xlink:actuate=\"onRequest\" xlink:href=\"psysml:ed499477-fca6-4979-bffe-7845725436ef\" xlink:show=\"new\" xlink:title=\"psysml:ed499477-fca6-4979-bffe-7845725436ef\" xlink:type=\"simple\"><rect fill=\"#FFFFFF\" height=\"40\" id=\"E5\" rx=\"10\" ry=\"10\" style=\"stroke: #383838; stroke-width: 1.5;\" width=\"50\" x=\"58\" y=\"100\"/><rect fill=\"#F8F8F8\" height=\"23.9688\" rx=\"10\" ry=\"10\" style=\"stroke: #F8F8F8; stroke-width: 1.5;\" width=\"50\" x=\"58\" y=\"100\"/><rect fill=\"#F8F8F8\" height=\"10\" style=\"stroke: #F8F8F8; stroke-width: 1.5;\" width=\"50\" x=\"58\" y=\"113.9688\"/><rect fill=\"none\" height=\"40\" id=\"E5\" rx=\"10\" ry=\"10\" style=\"stroke: #383838; stroke-width: 1.5;\" width=\"50\" x=\"58\" y=\"100\"/><text fill=\"#000000\" font-family=\"sans-serif\" font-size=\"12\" lengthAdjust=\"spacingAndGlyphs\" textLength=\"8\" x=\"79\" y=\"116.1387\">g</text></a></g><!--MD5=[b8908b05255174dc8ece49a2a704f33f]\n",
       "@startuml\r\n",
       "skinparam ranksep 8\r\n",
       "skinparam rectangle {\r\n",
       " backgroundColor<<block>> LightGreen\r\n",
       "}\r\n",
       " skinparam monochrome true\r\n",
       "skinparam classbackgroundcolor white\r\n",
       "skinparam shadowing false\r\n",
       "skinparam wrapWidth 300\r\n",
       "hide circle\r\n",
       "\r\n",
       "package \"Q\" as E1  [[psysml:ef9b7028-f6bf-447e-864f-9dad0bdce88c ]]  {\r\n",
       "rec usage \"f\" as E2  [[psysml:4239e231-7164-4547-a8e1-ba39f4362efb ]] {\r\n",
       "rec usage \"a\" as E3  [[psysml:51ecbb7c-6db5-4069-ae0d-bb60efd47f9e ]] {\r\n",
       "}\r\n",
       "}\r\n",
       "rec def \"C\" as E4  <<(T,blue)part def>> [[psysml:5da665e6-dcc7-4321-8fa9-423e89fca153 ]] {\r\n",
       "rec usage \"g\" as E5  [[psysml:ed499477-fca6-4979-bffe-7845725436ef ]] {\r\n",
       "}\r\n",
       "}\r\n",
       "}\r\n",
       "@enduml\r\n",
       "\n",
       "PlantUML version 1.2020.13(Sat Jun 13 12:26:38 UTC 2020)\n",
       "(EPL source distribution)\n",
       "Java Runtime: OpenJDK Runtime Environment\n",
       "JVM: OpenJDK 64-Bit Server VM\n",
       "Default Encoding: UTF-8\n",
       "Language: en\n",
       "Country: null\n",
       "--></g></svg>"
      ]
     },
     "execution_count": 5,
     "metadata": {},
     "output_type": "execute_result"
    }
   ],
   "source": [
    "%viz --style=\"COMPTREE\" --view=\"Interconnection\" \"Q\""
   ]
  },
  {
   "cell_type": "code",
   "execution_count": 6,
   "id": "rotary-finland",
   "metadata": {
    "execution": {
     "iopub.execute_input": "2021-03-25T09:26:25.142172Z",
     "iopub.status.busy": "2021-03-25T09:26:25.141568Z",
     "iopub.status.idle": "2021-03-25T09:26:25.151771Z",
     "shell.execute_reply": "2021-03-25T09:26:25.152193Z"
    }
   },
   "outputs": [
    {
     "data": {
      "image/svg+xml": [
       "<?xml version=\"1.0\" encoding=\"UTF-8\" standalone=\"no\"?><svg xmlns=\"http://www.w3.org/2000/svg\" xmlns:xlink=\"http://www.w3.org/1999/xlink\" contentScriptType=\"application/ecmascript\" contentStyleType=\"text/css\" height=\"12px\" preserveAspectRatio=\"none\" style=\"width:12px;height:12px;\" version=\"1.1\" viewBox=\"0 0 12 12\" width=\"12px\" zoomAndPan=\"magnify\"><defs/><g><!--MD5=[655b888544ca4751ea36af1068543f84]\n",
       "@startuml\r\n",
       "skinparam ranksep 8\r\n",
       " skinparam monochrome true\r\n",
       "skinparam classbackgroundcolor white\r\n",
       "skinparam shadowing false\r\n",
       "skinparam wrapWidth 300\r\n",
       "hide circle\r\n",
       "\r\n",
       "@enduml\r\n",
       "\n",
       "PlantUML version 1.2020.13(Sat Jun 13 12:26:38 UTC 2020)\n",
       "(EPL source distribution)\n",
       "Java Runtime: OpenJDK Runtime Environment\n",
       "JVM: OpenJDK 64-Bit Server VM\n",
       "Default Encoding: UTF-8\n",
       "Language: en\n",
       "Country: null\n",
       "--></g></svg>"
      ]
     },
     "execution_count": 6,
     "metadata": {},
     "output_type": "execute_result"
    }
   ],
   "source": [
    "%viz --style=\"COMPTREE\" --view=\"Action\" \"Q\""
   ]
  },
  {
   "cell_type": "code",
   "execution_count": 7,
   "id": "thousand-confidence",
   "metadata": {
    "execution": {
     "iopub.execute_input": "2021-03-25T09:26:25.203293Z",
     "iopub.status.busy": "2021-03-25T09:26:25.202819Z",
     "iopub.status.idle": "2021-03-25T09:26:25.272045Z",
     "shell.execute_reply": "2021-03-25T09:26:25.272408Z"
    }
   },
   "outputs": [
    {
     "data": {
      "image/svg+xml": [
       "<?xml version=\"1.0\" encoding=\"UTF-8\" standalone=\"no\"?><svg xmlns=\"http://www.w3.org/2000/svg\" xmlns:xlink=\"http://www.w3.org/1999/xlink\" contentScriptType=\"application/ecmascript\" contentStyleType=\"text/css\" height=\"221px\" preserveAspectRatio=\"none\" style=\"width:213px;height:221px;\" version=\"1.1\" viewBox=\"0 0 213 221\" width=\"213px\" zoomAndPan=\"magnify\"><defs/><g><!--MD5=[fbc87193dbaf4d95561dea2c320d4a47]\n",
       "cluster E1--><a href=\"psysml:ef9b7028-f6bf-447e-864f-9dad0bdce88c\" target=\"_top\" title=\"psysml:ef9b7028-f6bf-447e-864f-9dad0bdce88c\" xlink:actuate=\"onRequest\" xlink:href=\"psysml:ef9b7028-f6bf-447e-864f-9dad0bdce88c\" xlink:show=\"new\" xlink:title=\"psysml:ef9b7028-f6bf-447e-864f-9dad0bdce88c\" xlink:type=\"simple\"><polygon fill=\"#FFFFFF\" points=\"16,6,34,6,41,28.2969,191,28.2969,191,209,16,209,16,6\" style=\"stroke: #000000; stroke-width: 1.5;\"/><line style=\"stroke: #000000; stroke-width: 1.5;\" x1=\"16\" x2=\"41\" y1=\"28.2969\" y2=\"28.2969\"/><text fill=\"#000000\" font-family=\"sans-serif\" font-size=\"14\" font-weight=\"bold\" lengthAdjust=\"spacingAndGlyphs\" textLength=\"12\" x=\"20\" y=\"20.9951\">Q</text></a><!--MD5=[b4997ac47864f28c2f74865a473b2911]\n",
       "class E2--><a href=\"psysml:4239e231-7164-4547-a8e1-ba39f4362efb\" target=\"_top\" title=\"psysml:4239e231-7164-4547-a8e1-ba39f4362efb\" xlink:actuate=\"onRequest\" xlink:href=\"psysml:4239e231-7164-4547-a8e1-ba39f4362efb\" xlink:show=\"new\" xlink:title=\"psysml:4239e231-7164-4547-a8e1-ba39f4362efb\" xlink:type=\"simple\"><rect fill=\"#FFFFFF\" height=\"45.9375\" id=\"E2\" rx=\"10\" ry=\"10\" style=\"stroke: #383838; stroke-width: 1.5;\" width=\"42\" x=\"133\" y=\"41\"/><text fill=\"#000000\" font-family=\"sans-serif\" font-size=\"12\" font-style=\"italic\" lengthAdjust=\"spacingAndGlyphs\" textLength=\"40\" x=\"134\" y=\"57.1387\">«part»</text><text fill=\"#000000\" font-family=\"sans-serif\" font-size=\"12\" lengthAdjust=\"spacingAndGlyphs\" textLength=\"4\" x=\"152\" y=\"71.1074\">f</text><line style=\"stroke: #383838; stroke-width: 1.5;\" x1=\"134\" x2=\"174\" y1=\"78.9375\" y2=\"78.9375\"/></a><!--MD5=[09b614a08d8cba4a07c9adeb5e0fee81]\n",
       "class E3--><a href=\"psysml:51ecbb7c-6db5-4069-ae0d-bb60efd47f9e\" target=\"_top\" title=\"psysml:51ecbb7c-6db5-4069-ae0d-bb60efd47f9e\" xlink:actuate=\"onRequest\" xlink:href=\"psysml:51ecbb7c-6db5-4069-ae0d-bb60efd47f9e\" xlink:show=\"new\" xlink:title=\"psysml:51ecbb7c-6db5-4069-ae0d-bb60efd47f9e\" xlink:type=\"simple\"><rect fill=\"#FFFFFF\" height=\"45.9375\" id=\"E3\" rx=\"10\" ry=\"10\" style=\"stroke: #383838; stroke-width: 1.5;\" width=\"42\" x=\"133\" y=\"147\"/><text fill=\"#000000\" font-family=\"sans-serif\" font-size=\"12\" font-style=\"italic\" lengthAdjust=\"spacingAndGlyphs\" textLength=\"40\" x=\"134\" y=\"163.1387\">«part»</text><text fill=\"#000000\" font-family=\"sans-serif\" font-size=\"12\" lengthAdjust=\"spacingAndGlyphs\" textLength=\"8\" x=\"150\" y=\"177.1074\">a</text><line style=\"stroke: #383838; stroke-width: 1.5;\" x1=\"134\" x2=\"174\" y1=\"184.9375\" y2=\"184.9375\"/></a><!--MD5=[ebbe1d658d1005bcc118a6aa81145e00]\n",
       "class E4--><a href=\"psysml:5da665e6-dcc7-4321-8fa9-423e89fca153\" target=\"_top\" title=\"psysml:5da665e6-dcc7-4321-8fa9-423e89fca153\" xlink:actuate=\"onRequest\" xlink:href=\"psysml:5da665e6-dcc7-4321-8fa9-423e89fca153\" xlink:show=\"new\" xlink:title=\"psysml:5da665e6-dcc7-4321-8fa9-423e89fca153\" xlink:type=\"simple\"><rect fill=\"#FFFFFF\" height=\"45.9375\" id=\"E4\" style=\"stroke: #383838; stroke-width: 1.5;\" width=\"66\" x=\"32\" y=\"41\"/><text fill=\"#000000\" font-family=\"sans-serif\" font-size=\"12\" font-style=\"italic\" lengthAdjust=\"spacingAndGlyphs\" textLength=\"64\" x=\"33\" y=\"57.1387\">«part def»</text><text fill=\"#000000\" font-family=\"sans-serif\" font-size=\"12\" lengthAdjust=\"spacingAndGlyphs\" textLength=\"8\" x=\"61\" y=\"71.1074\">C</text><line style=\"stroke: #383838; stroke-width: 1.5;\" x1=\"33\" x2=\"97\" y1=\"78.9375\" y2=\"78.9375\"/></a><!--MD5=[270fce915f116d4de14055a7c1d9a0f3]\n",
       "class E5--><a href=\"psysml:ed499477-fca6-4979-bffe-7845725436ef\" target=\"_top\" title=\"psysml:ed499477-fca6-4979-bffe-7845725436ef\" xlink:actuate=\"onRequest\" xlink:href=\"psysml:ed499477-fca6-4979-bffe-7845725436ef\" xlink:show=\"new\" xlink:title=\"psysml:ed499477-fca6-4979-bffe-7845725436ef\" xlink:type=\"simple\"><rect fill=\"#FFFFFF\" height=\"45.9375\" id=\"E5\" rx=\"10\" ry=\"10\" style=\"stroke: #383838; stroke-width: 1.5;\" width=\"42\" x=\"44\" y=\"147\"/><text fill=\"#000000\" font-family=\"sans-serif\" font-size=\"12\" font-style=\"italic\" lengthAdjust=\"spacingAndGlyphs\" textLength=\"40\" x=\"45\" y=\"163.1387\">«part»</text><text fill=\"#000000\" font-family=\"sans-serif\" font-size=\"12\" lengthAdjust=\"spacingAndGlyphs\" textLength=\"8\" x=\"61\" y=\"177.1074\">g</text><line style=\"stroke: #383838; stroke-width: 1.5;\" x1=\"45\" x2=\"85\" y1=\"184.9375\" y2=\"184.9375\"/></a><!--MD5=[209b3feb70ccb6233bfe1053d122c12c]\n",
       "reverse link E2 to E3--><a href=\"psysml:51ecbb7c-6db5-4069-ae0d-bb60efd47f9e\" target=\"_top\" title=\"psysml:51ecbb7c-6db5-4069-ae0d-bb60efd47f9e\" xlink:actuate=\"onRequest\" xlink:href=\"psysml:51ecbb7c-6db5-4069-ae0d-bb60efd47f9e\" xlink:show=\"new\" xlink:title=\"psysml:51ecbb7c-6db5-4069-ae0d-bb60efd47f9e\" xlink:type=\"simple\"><path d=\"M154,100.44 C154,115.87 154,133.47 154,146.98 \" fill=\"none\" id=\"E2&lt;-E3\" style=\"stroke: #383838; stroke-width: 1.0;\"/><polygon fill=\"#383838\" points=\"154,87.06,150,93.06,154,99.06,158,93.06,154,87.06\" style=\"stroke: #383838; stroke-width: 1.0;\"/></a><!--MD5=[62aa6af11e70f752912c1cb0466f24f7]\n",
       "reverse link E4 to E5--><a href=\"psysml:ed499477-fca6-4979-bffe-7845725436ef\" target=\"_top\" title=\"psysml:ed499477-fca6-4979-bffe-7845725436ef\" xlink:actuate=\"onRequest\" xlink:href=\"psysml:ed499477-fca6-4979-bffe-7845725436ef\" xlink:show=\"new\" xlink:title=\"psysml:ed499477-fca6-4979-bffe-7845725436ef\" xlink:type=\"simple\"><path d=\"M65,100.44 C65,115.87 65,133.47 65,146.98 \" fill=\"none\" id=\"E4&lt;-E5\" style=\"stroke: #383838; stroke-width: 1.0;\"/><polygon fill=\"#383838\" points=\"65,87.06,61,93.06,65,99.06,69,93.06,65,87.06\" style=\"stroke: #383838; stroke-width: 1.0;\"/></a><!--MD5=[eb42a2e3986dd828be1d16c6f68707d6]\n",
       "@startuml\r\n",
       " skinparam monochrome true\r\n",
       "skinparam classbackgroundcolor white\r\n",
       "skinparam shadowing false\r\n",
       "skinparam wrapWidth 300\r\n",
       "hide circle\r\n",
       "\r\n",
       "package \"Q\" as E1  [[psysml:ef9b7028-f6bf-447e-864f-9dad0bdce88c ]]  {\r\n",
       "comp usage \"f\" as E2  <<(T,blue)part>> [[psysml:4239e231-7164-4547-a8e1-ba39f4362efb ]] {\r\n",
       "}\r\n",
       "comp usage \"a\" as E3  <<(T,blue)part>> [[psysml:51ecbb7c-6db5-4069-ae0d-bb60efd47f9e ]] {\r\n",
       "}\r\n",
       "comp def \"C\" as E4  <<(T,blue)part def>> [[psysml:5da665e6-dcc7-4321-8fa9-423e89fca153 ]] {\r\n",
       "}\r\n",
       "comp usage \"g\" as E5  <<(T,blue)part>> [[psysml:ed499477-fca6-4979-bffe-7845725436ef ]] {\r\n",
       "}\r\n",
       "E2 *- - E3 [[psysml:51ecbb7c-6db5-4069-ae0d-bb60efd47f9e ]] \r\n",
       "E4 *- - E5 [[psysml:ed499477-fca6-4979-bffe-7845725436ef ]] \r\n",
       "}\r\n",
       "@enduml\r\n",
       "\n",
       "PlantUML version 1.2020.13(Sat Jun 13 12:26:38 UTC 2020)\n",
       "(EPL source distribution)\n",
       "Java Runtime: OpenJDK Runtime Environment\n",
       "JVM: OpenJDK 64-Bit Server VM\n",
       "Default Encoding: UTF-8\n",
       "Language: en\n",
       "Country: null\n",
       "--></g></svg>"
      ]
     },
     "execution_count": 7,
     "metadata": {},
     "output_type": "execute_result"
    }
   ],
   "source": [
    "%viz --style=\"COMPTREE\" --view=\"Sequence\" \"Q\""
   ]
  },
  {
   "cell_type": "code",
   "execution_count": 8,
   "id": "seasonal-tokyo",
   "metadata": {
    "execution": {
     "iopub.execute_input": "2021-03-25T09:26:25.323381Z",
     "iopub.status.busy": "2021-03-25T09:26:25.322628Z",
     "iopub.status.idle": "2021-03-25T09:26:25.388391Z",
     "shell.execute_reply": "2021-03-25T09:26:25.388892Z"
    }
   },
   "outputs": [
    {
     "data": {
      "image/svg+xml": [
       "<?xml version=\"1.0\" encoding=\"UTF-8\" standalone=\"no\"?><svg xmlns=\"http://www.w3.org/2000/svg\" xmlns:xlink=\"http://www.w3.org/1999/xlink\" contentScriptType=\"application/ecmascript\" contentStyleType=\"text/css\" height=\"221px\" preserveAspectRatio=\"none\" style=\"width:213px;height:221px;\" version=\"1.1\" viewBox=\"0 0 213 221\" width=\"213px\" zoomAndPan=\"magnify\"><defs/><g><!--MD5=[fbc87193dbaf4d95561dea2c320d4a47]\n",
       "cluster E1--><a href=\"psysml:ef9b7028-f6bf-447e-864f-9dad0bdce88c\" target=\"_top\" title=\"psysml:ef9b7028-f6bf-447e-864f-9dad0bdce88c\" xlink:actuate=\"onRequest\" xlink:href=\"psysml:ef9b7028-f6bf-447e-864f-9dad0bdce88c\" xlink:show=\"new\" xlink:title=\"psysml:ef9b7028-f6bf-447e-864f-9dad0bdce88c\" xlink:type=\"simple\"><polygon fill=\"#FFFFFF\" points=\"16,6,34,6,41,28.2969,191,28.2969,191,209,16,209,16,6\" style=\"stroke: #000000; stroke-width: 1.5;\"/><line style=\"stroke: #000000; stroke-width: 1.5;\" x1=\"16\" x2=\"41\" y1=\"28.2969\" y2=\"28.2969\"/><text fill=\"#000000\" font-family=\"sans-serif\" font-size=\"14\" font-weight=\"bold\" lengthAdjust=\"spacingAndGlyphs\" textLength=\"12\" x=\"20\" y=\"20.9951\">Q</text></a><!--MD5=[b4997ac47864f28c2f74865a473b2911]\n",
       "class E2--><a href=\"psysml:4239e231-7164-4547-a8e1-ba39f4362efb\" target=\"_top\" title=\"psysml:4239e231-7164-4547-a8e1-ba39f4362efb\" xlink:actuate=\"onRequest\" xlink:href=\"psysml:4239e231-7164-4547-a8e1-ba39f4362efb\" xlink:show=\"new\" xlink:title=\"psysml:4239e231-7164-4547-a8e1-ba39f4362efb\" xlink:type=\"simple\"><rect fill=\"#FFFFFF\" height=\"45.9375\" id=\"E2\" rx=\"10\" ry=\"10\" style=\"stroke: #383838; stroke-width: 1.5;\" width=\"42\" x=\"133\" y=\"41\"/><text fill=\"#000000\" font-family=\"sans-serif\" font-size=\"12\" font-style=\"italic\" lengthAdjust=\"spacingAndGlyphs\" textLength=\"40\" x=\"134\" y=\"57.1387\">«part»</text><text fill=\"#000000\" font-family=\"sans-serif\" font-size=\"12\" lengthAdjust=\"spacingAndGlyphs\" textLength=\"4\" x=\"152\" y=\"71.1074\">f</text><line style=\"stroke: #383838; stroke-width: 1.5;\" x1=\"134\" x2=\"174\" y1=\"78.9375\" y2=\"78.9375\"/></a><!--MD5=[09b614a08d8cba4a07c9adeb5e0fee81]\n",
       "class E3--><a href=\"psysml:51ecbb7c-6db5-4069-ae0d-bb60efd47f9e\" target=\"_top\" title=\"psysml:51ecbb7c-6db5-4069-ae0d-bb60efd47f9e\" xlink:actuate=\"onRequest\" xlink:href=\"psysml:51ecbb7c-6db5-4069-ae0d-bb60efd47f9e\" xlink:show=\"new\" xlink:title=\"psysml:51ecbb7c-6db5-4069-ae0d-bb60efd47f9e\" xlink:type=\"simple\"><rect fill=\"#FFFFFF\" height=\"45.9375\" id=\"E3\" rx=\"10\" ry=\"10\" style=\"stroke: #383838; stroke-width: 1.5;\" width=\"42\" x=\"133\" y=\"147\"/><text fill=\"#000000\" font-family=\"sans-serif\" font-size=\"12\" font-style=\"italic\" lengthAdjust=\"spacingAndGlyphs\" textLength=\"40\" x=\"134\" y=\"163.1387\">«part»</text><text fill=\"#000000\" font-family=\"sans-serif\" font-size=\"12\" lengthAdjust=\"spacingAndGlyphs\" textLength=\"8\" x=\"150\" y=\"177.1074\">a</text><line style=\"stroke: #383838; stroke-width: 1.5;\" x1=\"134\" x2=\"174\" y1=\"184.9375\" y2=\"184.9375\"/></a><!--MD5=[ebbe1d658d1005bcc118a6aa81145e00]\n",
       "class E4--><a href=\"psysml:5da665e6-dcc7-4321-8fa9-423e89fca153\" target=\"_top\" title=\"psysml:5da665e6-dcc7-4321-8fa9-423e89fca153\" xlink:actuate=\"onRequest\" xlink:href=\"psysml:5da665e6-dcc7-4321-8fa9-423e89fca153\" xlink:show=\"new\" xlink:title=\"psysml:5da665e6-dcc7-4321-8fa9-423e89fca153\" xlink:type=\"simple\"><rect fill=\"#FFFFFF\" height=\"45.9375\" id=\"E4\" style=\"stroke: #383838; stroke-width: 1.5;\" width=\"66\" x=\"32\" y=\"41\"/><text fill=\"#000000\" font-family=\"sans-serif\" font-size=\"12\" font-style=\"italic\" lengthAdjust=\"spacingAndGlyphs\" textLength=\"64\" x=\"33\" y=\"57.1387\">«part def»</text><text fill=\"#000000\" font-family=\"sans-serif\" font-size=\"12\" lengthAdjust=\"spacingAndGlyphs\" textLength=\"8\" x=\"61\" y=\"71.1074\">C</text><line style=\"stroke: #383838; stroke-width: 1.5;\" x1=\"33\" x2=\"97\" y1=\"78.9375\" y2=\"78.9375\"/></a><!--MD5=[270fce915f116d4de14055a7c1d9a0f3]\n",
       "class E5--><a href=\"psysml:ed499477-fca6-4979-bffe-7845725436ef\" target=\"_top\" title=\"psysml:ed499477-fca6-4979-bffe-7845725436ef\" xlink:actuate=\"onRequest\" xlink:href=\"psysml:ed499477-fca6-4979-bffe-7845725436ef\" xlink:show=\"new\" xlink:title=\"psysml:ed499477-fca6-4979-bffe-7845725436ef\" xlink:type=\"simple\"><rect fill=\"#FFFFFF\" height=\"45.9375\" id=\"E5\" rx=\"10\" ry=\"10\" style=\"stroke: #383838; stroke-width: 1.5;\" width=\"42\" x=\"44\" y=\"147\"/><text fill=\"#000000\" font-family=\"sans-serif\" font-size=\"12\" font-style=\"italic\" lengthAdjust=\"spacingAndGlyphs\" textLength=\"40\" x=\"45\" y=\"163.1387\">«part»</text><text fill=\"#000000\" font-family=\"sans-serif\" font-size=\"12\" lengthAdjust=\"spacingAndGlyphs\" textLength=\"8\" x=\"61\" y=\"177.1074\">g</text><line style=\"stroke: #383838; stroke-width: 1.5;\" x1=\"45\" x2=\"85\" y1=\"184.9375\" y2=\"184.9375\"/></a><!--MD5=[209b3feb70ccb6233bfe1053d122c12c]\n",
       "reverse link E2 to E3--><a href=\"psysml:51ecbb7c-6db5-4069-ae0d-bb60efd47f9e\" target=\"_top\" title=\"psysml:51ecbb7c-6db5-4069-ae0d-bb60efd47f9e\" xlink:actuate=\"onRequest\" xlink:href=\"psysml:51ecbb7c-6db5-4069-ae0d-bb60efd47f9e\" xlink:show=\"new\" xlink:title=\"psysml:51ecbb7c-6db5-4069-ae0d-bb60efd47f9e\" xlink:type=\"simple\"><path d=\"M154,100.44 C154,115.87 154,133.47 154,146.98 \" fill=\"none\" id=\"E2&lt;-E3\" style=\"stroke: #383838; stroke-width: 1.0;\"/><polygon fill=\"#383838\" points=\"154,87.06,150,93.06,154,99.06,158,93.06,154,87.06\" style=\"stroke: #383838; stroke-width: 1.0;\"/></a><!--MD5=[62aa6af11e70f752912c1cb0466f24f7]\n",
       "reverse link E4 to E5--><a href=\"psysml:ed499477-fca6-4979-bffe-7845725436ef\" target=\"_top\" title=\"psysml:ed499477-fca6-4979-bffe-7845725436ef\" xlink:actuate=\"onRequest\" xlink:href=\"psysml:ed499477-fca6-4979-bffe-7845725436ef\" xlink:show=\"new\" xlink:title=\"psysml:ed499477-fca6-4979-bffe-7845725436ef\" xlink:type=\"simple\"><path d=\"M65,100.44 C65,115.87 65,133.47 65,146.98 \" fill=\"none\" id=\"E4&lt;-E5\" style=\"stroke: #383838; stroke-width: 1.0;\"/><polygon fill=\"#383838\" points=\"65,87.06,61,93.06,65,99.06,69,93.06,65,87.06\" style=\"stroke: #383838; stroke-width: 1.0;\"/></a><!--MD5=[eb42a2e3986dd828be1d16c6f68707d6]\n",
       "@startuml\r\n",
       " skinparam monochrome true\r\n",
       "skinparam classbackgroundcolor white\r\n",
       "skinparam shadowing false\r\n",
       "skinparam wrapWidth 300\r\n",
       "hide circle\r\n",
       "\r\n",
       "package \"Q\" as E1  [[psysml:ef9b7028-f6bf-447e-864f-9dad0bdce88c ]]  {\r\n",
       "comp usage \"f\" as E2  <<(T,blue)part>> [[psysml:4239e231-7164-4547-a8e1-ba39f4362efb ]] {\r\n",
       "}\r\n",
       "comp usage \"a\" as E3  <<(T,blue)part>> [[psysml:51ecbb7c-6db5-4069-ae0d-bb60efd47f9e ]] {\r\n",
       "}\r\n",
       "comp def \"C\" as E4  <<(T,blue)part def>> [[psysml:5da665e6-dcc7-4321-8fa9-423e89fca153 ]] {\r\n",
       "}\r\n",
       "comp usage \"g\" as E5  <<(T,blue)part>> [[psysml:ed499477-fca6-4979-bffe-7845725436ef ]] {\r\n",
       "}\r\n",
       "E2 *- - E3 [[psysml:51ecbb7c-6db5-4069-ae0d-bb60efd47f9e ]] \r\n",
       "E4 *- - E5 [[psysml:ed499477-fca6-4979-bffe-7845725436ef ]] \r\n",
       "}\r\n",
       "@enduml\r\n",
       "\n",
       "PlantUML version 1.2020.13(Sat Jun 13 12:26:38 UTC 2020)\n",
       "(EPL source distribution)\n",
       "Java Runtime: OpenJDK Runtime Environment\n",
       "JVM: OpenJDK 64-Bit Server VM\n",
       "Default Encoding: UTF-8\n",
       "Language: en\n",
       "Country: null\n",
       "--></g></svg>"
      ]
     },
     "execution_count": 8,
     "metadata": {},
     "output_type": "execute_result"
    }
   ],
   "source": [
    "%viz --style=\"COMPTREE\" --view=\"MIXED\" \"Q\""
   ]
  },
  {
   "cell_type": "code",
   "execution_count": 9,
   "id": "improving-northeast",
   "metadata": {
    "execution": {
     "iopub.execute_input": "2021-03-25T09:26:25.441248Z",
     "iopub.status.busy": "2021-03-25T09:26:25.440530Z",
     "iopub.status.idle": "2021-03-25T09:26:25.513565Z",
     "shell.execute_reply": "2021-03-25T09:26:25.512145Z"
    }
   },
   "outputs": [
    {
     "data": {
      "image/svg+xml": [
       "<?xml version=\"1.0\" encoding=\"UTF-8\" standalone=\"no\"?><svg xmlns=\"http://www.w3.org/2000/svg\" xmlns:xlink=\"http://www.w3.org/1999/xlink\" contentScriptType=\"application/ecmascript\" contentStyleType=\"text/css\" height=\"221px\" preserveAspectRatio=\"none\" style=\"width:213px;height:221px;\" version=\"1.1\" viewBox=\"0 0 213 221\" width=\"213px\" zoomAndPan=\"magnify\"><defs/><g><!--MD5=[fbc87193dbaf4d95561dea2c320d4a47]\n",
       "cluster E1--><a href=\"psysml:ef9b7028-f6bf-447e-864f-9dad0bdce88c\" target=\"_top\" title=\"psysml:ef9b7028-f6bf-447e-864f-9dad0bdce88c\" xlink:actuate=\"onRequest\" xlink:href=\"psysml:ef9b7028-f6bf-447e-864f-9dad0bdce88c\" xlink:show=\"new\" xlink:title=\"psysml:ef9b7028-f6bf-447e-864f-9dad0bdce88c\" xlink:type=\"simple\"><polygon fill=\"#FFFFFF\" points=\"16,6,34,6,41,28.2969,191,28.2969,191,209,16,209,16,6\" style=\"stroke: #000000; stroke-width: 1.5;\"/><line style=\"stroke: #000000; stroke-width: 1.5;\" x1=\"16\" x2=\"41\" y1=\"28.2969\" y2=\"28.2969\"/><text fill=\"#000000\" font-family=\"sans-serif\" font-size=\"14\" font-weight=\"bold\" lengthAdjust=\"spacingAndGlyphs\" textLength=\"12\" x=\"20\" y=\"20.9951\">Q</text></a><!--MD5=[b4997ac47864f28c2f74865a473b2911]\n",
       "class E2--><a href=\"psysml:4239e231-7164-4547-a8e1-ba39f4362efb\" target=\"_top\" title=\"psysml:4239e231-7164-4547-a8e1-ba39f4362efb\" xlink:actuate=\"onRequest\" xlink:href=\"psysml:4239e231-7164-4547-a8e1-ba39f4362efb\" xlink:show=\"new\" xlink:title=\"psysml:4239e231-7164-4547-a8e1-ba39f4362efb\" xlink:type=\"simple\"><rect fill=\"#FFFFFF\" height=\"45.9375\" id=\"E2\" rx=\"10\" ry=\"10\" style=\"stroke: #383838; stroke-width: 1.5;\" width=\"42\" x=\"133\" y=\"41\"/><text fill=\"#000000\" font-family=\"sans-serif\" font-size=\"12\" font-style=\"italic\" lengthAdjust=\"spacingAndGlyphs\" textLength=\"40\" x=\"134\" y=\"57.1387\">«part»</text><text fill=\"#000000\" font-family=\"sans-serif\" font-size=\"12\" lengthAdjust=\"spacingAndGlyphs\" textLength=\"4\" x=\"152\" y=\"71.1074\">f</text><line style=\"stroke: #383838; stroke-width: 1.5;\" x1=\"134\" x2=\"174\" y1=\"78.9375\" y2=\"78.9375\"/></a><!--MD5=[09b614a08d8cba4a07c9adeb5e0fee81]\n",
       "class E3--><a href=\"psysml:51ecbb7c-6db5-4069-ae0d-bb60efd47f9e\" target=\"_top\" title=\"psysml:51ecbb7c-6db5-4069-ae0d-bb60efd47f9e\" xlink:actuate=\"onRequest\" xlink:href=\"psysml:51ecbb7c-6db5-4069-ae0d-bb60efd47f9e\" xlink:show=\"new\" xlink:title=\"psysml:51ecbb7c-6db5-4069-ae0d-bb60efd47f9e\" xlink:type=\"simple\"><rect fill=\"#FFFFFF\" height=\"45.9375\" id=\"E3\" rx=\"10\" ry=\"10\" style=\"stroke: #383838; stroke-width: 1.5;\" width=\"42\" x=\"133\" y=\"147\"/><text fill=\"#000000\" font-family=\"sans-serif\" font-size=\"12\" font-style=\"italic\" lengthAdjust=\"spacingAndGlyphs\" textLength=\"40\" x=\"134\" y=\"163.1387\">«part»</text><text fill=\"#000000\" font-family=\"sans-serif\" font-size=\"12\" lengthAdjust=\"spacingAndGlyphs\" textLength=\"8\" x=\"150\" y=\"177.1074\">a</text><line style=\"stroke: #383838; stroke-width: 1.5;\" x1=\"134\" x2=\"174\" y1=\"184.9375\" y2=\"184.9375\"/></a><!--MD5=[ebbe1d658d1005bcc118a6aa81145e00]\n",
       "class E4--><a href=\"psysml:5da665e6-dcc7-4321-8fa9-423e89fca153\" target=\"_top\" title=\"psysml:5da665e6-dcc7-4321-8fa9-423e89fca153\" xlink:actuate=\"onRequest\" xlink:href=\"psysml:5da665e6-dcc7-4321-8fa9-423e89fca153\" xlink:show=\"new\" xlink:title=\"psysml:5da665e6-dcc7-4321-8fa9-423e89fca153\" xlink:type=\"simple\"><rect fill=\"#FFFFFF\" height=\"45.9375\" id=\"E4\" style=\"stroke: #383838; stroke-width: 1.5;\" width=\"66\" x=\"32\" y=\"41\"/><text fill=\"#000000\" font-family=\"sans-serif\" font-size=\"12\" font-style=\"italic\" lengthAdjust=\"spacingAndGlyphs\" textLength=\"64\" x=\"33\" y=\"57.1387\">«part def»</text><text fill=\"#000000\" font-family=\"sans-serif\" font-size=\"12\" lengthAdjust=\"spacingAndGlyphs\" textLength=\"8\" x=\"61\" y=\"71.1074\">C</text><line style=\"stroke: #383838; stroke-width: 1.5;\" x1=\"33\" x2=\"97\" y1=\"78.9375\" y2=\"78.9375\"/></a><!--MD5=[270fce915f116d4de14055a7c1d9a0f3]\n",
       "class E5--><a href=\"psysml:ed499477-fca6-4979-bffe-7845725436ef\" target=\"_top\" title=\"psysml:ed499477-fca6-4979-bffe-7845725436ef\" xlink:actuate=\"onRequest\" xlink:href=\"psysml:ed499477-fca6-4979-bffe-7845725436ef\" xlink:show=\"new\" xlink:title=\"psysml:ed499477-fca6-4979-bffe-7845725436ef\" xlink:type=\"simple\"><rect fill=\"#FFFFFF\" height=\"45.9375\" id=\"E5\" rx=\"10\" ry=\"10\" style=\"stroke: #383838; stroke-width: 1.5;\" width=\"42\" x=\"44\" y=\"147\"/><text fill=\"#000000\" font-family=\"sans-serif\" font-size=\"12\" font-style=\"italic\" lengthAdjust=\"spacingAndGlyphs\" textLength=\"40\" x=\"45\" y=\"163.1387\">«part»</text><text fill=\"#000000\" font-family=\"sans-serif\" font-size=\"12\" lengthAdjust=\"spacingAndGlyphs\" textLength=\"8\" x=\"61\" y=\"177.1074\">g</text><line style=\"stroke: #383838; stroke-width: 1.5;\" x1=\"45\" x2=\"85\" y1=\"184.9375\" y2=\"184.9375\"/></a><!--MD5=[209b3feb70ccb6233bfe1053d122c12c]\n",
       "reverse link E2 to E3--><a href=\"psysml:51ecbb7c-6db5-4069-ae0d-bb60efd47f9e\" target=\"_top\" title=\"psysml:51ecbb7c-6db5-4069-ae0d-bb60efd47f9e\" xlink:actuate=\"onRequest\" xlink:href=\"psysml:51ecbb7c-6db5-4069-ae0d-bb60efd47f9e\" xlink:show=\"new\" xlink:title=\"psysml:51ecbb7c-6db5-4069-ae0d-bb60efd47f9e\" xlink:type=\"simple\"><path d=\"M154,100.44 C154,115.87 154,133.47 154,146.98 \" fill=\"none\" id=\"E2&lt;-E3\" style=\"stroke: #383838; stroke-width: 1.0;\"/><polygon fill=\"#383838\" points=\"154,87.06,150,93.06,154,99.06,158,93.06,154,87.06\" style=\"stroke: #383838; stroke-width: 1.0;\"/></a><!--MD5=[62aa6af11e70f752912c1cb0466f24f7]\n",
       "reverse link E4 to E5--><a href=\"psysml:ed499477-fca6-4979-bffe-7845725436ef\" target=\"_top\" title=\"psysml:ed499477-fca6-4979-bffe-7845725436ef\" xlink:actuate=\"onRequest\" xlink:href=\"psysml:ed499477-fca6-4979-bffe-7845725436ef\" xlink:show=\"new\" xlink:title=\"psysml:ed499477-fca6-4979-bffe-7845725436ef\" xlink:type=\"simple\"><path d=\"M65,100.44 C65,115.87 65,133.47 65,146.98 \" fill=\"none\" id=\"E4&lt;-E5\" style=\"stroke: #383838; stroke-width: 1.0;\"/><polygon fill=\"#383838\" points=\"65,87.06,61,93.06,65,99.06,69,93.06,65,87.06\" style=\"stroke: #383838; stroke-width: 1.0;\"/></a><!--MD5=[7f782a9c610567ec43ffa037beb3cf36]\n",
       "@startuml\r\n",
       "skinparam linetype polyline\r\n",
       "skinparam monochrome true\r\n",
       "skinparam classbackgroundcolor white\r\n",
       "skinparam shadowing false\r\n",
       "skinparam wrapWidth 300\r\n",
       "hide circle\r\n",
       "\r\n",
       "package \"Q\" as E1  [[psysml:ef9b7028-f6bf-447e-864f-9dad0bdce88c ]]  {\r\n",
       "comp usage \"f\" as E2  <<(T,blue)part>> [[psysml:4239e231-7164-4547-a8e1-ba39f4362efb ]] {\r\n",
       "}\r\n",
       "comp usage \"a\" as E3  <<(T,blue)part>> [[psysml:51ecbb7c-6db5-4069-ae0d-bb60efd47f9e ]] {\r\n",
       "}\r\n",
       "comp def \"C\" as E4  <<(T,blue)part def>> [[psysml:5da665e6-dcc7-4321-8fa9-423e89fca153 ]] {\r\n",
       "}\r\n",
       "comp usage \"g\" as E5  <<(T,blue)part>> [[psysml:ed499477-fca6-4979-bffe-7845725436ef ]] {\r\n",
       "}\r\n",
       "E2 *- - E3 [[psysml:51ecbb7c-6db5-4069-ae0d-bb60efd47f9e ]] \r\n",
       "E4 *- - E5 [[psysml:ed499477-fca6-4979-bffe-7845725436ef ]] \r\n",
       "}\r\n",
       "@enduml\r\n",
       "\n",
       "PlantUML version 1.2020.13(Sat Jun 13 12:26:38 UTC 2020)\n",
       "(EPL source distribution)\n",
       "Java Runtime: OpenJDK Runtime Environment\n",
       "JVM: OpenJDK 64-Bit Server VM\n",
       "Default Encoding: UTF-8\n",
       "Language: en\n",
       "Country: null\n",
       "--></g></svg>"
      ]
     },
     "execution_count": 9,
     "metadata": {},
     "output_type": "execute_result"
    }
   ],
   "source": [
    "%viz --style=\"POLYLINE\" --view=\"Default\" \"Q\""
   ]
  },
  {
   "cell_type": "code",
   "execution_count": 10,
   "id": "peaceful-distinction",
   "metadata": {
    "execution": {
     "iopub.execute_input": "2021-03-25T09:26:25.565288Z",
     "iopub.status.busy": "2021-03-25T09:26:25.564726Z",
     "iopub.status.idle": "2021-03-25T09:26:25.630193Z",
     "shell.execute_reply": "2021-03-25T09:26:25.630684Z"
    }
   },
   "outputs": [
    {
     "data": {
      "image/svg+xml": [
       "<?xml version=\"1.0\" encoding=\"UTF-8\" standalone=\"no\"?><svg xmlns=\"http://www.w3.org/2000/svg\" xmlns:xlink=\"http://www.w3.org/1999/xlink\" contentScriptType=\"application/ecmascript\" contentStyleType=\"text/css\" height=\"221px\" preserveAspectRatio=\"none\" style=\"width:213px;height:221px;\" version=\"1.1\" viewBox=\"0 0 213 221\" width=\"213px\" zoomAndPan=\"magnify\"><defs/><g><!--MD5=[fbc87193dbaf4d95561dea2c320d4a47]\n",
       "cluster E1--><a href=\"psysml:ef9b7028-f6bf-447e-864f-9dad0bdce88c\" target=\"_top\" title=\"psysml:ef9b7028-f6bf-447e-864f-9dad0bdce88c\" xlink:actuate=\"onRequest\" xlink:href=\"psysml:ef9b7028-f6bf-447e-864f-9dad0bdce88c\" xlink:show=\"new\" xlink:title=\"psysml:ef9b7028-f6bf-447e-864f-9dad0bdce88c\" xlink:type=\"simple\"><polygon fill=\"#FFFFFF\" points=\"16,6,34,6,41,28.2969,191,28.2969,191,209,16,209,16,6\" style=\"stroke: #000000; stroke-width: 1.5;\"/><line style=\"stroke: #000000; stroke-width: 1.5;\" x1=\"16\" x2=\"41\" y1=\"28.2969\" y2=\"28.2969\"/><text fill=\"#000000\" font-family=\"sans-serif\" font-size=\"14\" font-weight=\"bold\" lengthAdjust=\"spacingAndGlyphs\" textLength=\"12\" x=\"20\" y=\"20.9951\">Q</text></a><!--MD5=[b4997ac47864f28c2f74865a473b2911]\n",
       "class E2--><a href=\"psysml:4239e231-7164-4547-a8e1-ba39f4362efb\" target=\"_top\" title=\"psysml:4239e231-7164-4547-a8e1-ba39f4362efb\" xlink:actuate=\"onRequest\" xlink:href=\"psysml:4239e231-7164-4547-a8e1-ba39f4362efb\" xlink:show=\"new\" xlink:title=\"psysml:4239e231-7164-4547-a8e1-ba39f4362efb\" xlink:type=\"simple\"><rect fill=\"#FFFFFF\" height=\"45.9375\" id=\"E2\" rx=\"10\" ry=\"10\" style=\"stroke: #383838; stroke-width: 1.5;\" width=\"42\" x=\"133\" y=\"41\"/><text fill=\"#000000\" font-family=\"sans-serif\" font-size=\"12\" font-style=\"italic\" lengthAdjust=\"spacingAndGlyphs\" textLength=\"40\" x=\"134\" y=\"57.1387\">«part»</text><text fill=\"#000000\" font-family=\"sans-serif\" font-size=\"12\" lengthAdjust=\"spacingAndGlyphs\" textLength=\"4\" x=\"152\" y=\"71.1074\">f</text><line style=\"stroke: #383838; stroke-width: 1.5;\" x1=\"134\" x2=\"174\" y1=\"78.9375\" y2=\"78.9375\"/></a><!--MD5=[09b614a08d8cba4a07c9adeb5e0fee81]\n",
       "class E3--><a href=\"psysml:51ecbb7c-6db5-4069-ae0d-bb60efd47f9e\" target=\"_top\" title=\"psysml:51ecbb7c-6db5-4069-ae0d-bb60efd47f9e\" xlink:actuate=\"onRequest\" xlink:href=\"psysml:51ecbb7c-6db5-4069-ae0d-bb60efd47f9e\" xlink:show=\"new\" xlink:title=\"psysml:51ecbb7c-6db5-4069-ae0d-bb60efd47f9e\" xlink:type=\"simple\"><rect fill=\"#FFFFFF\" height=\"45.9375\" id=\"E3\" rx=\"10\" ry=\"10\" style=\"stroke: #383838; stroke-width: 1.5;\" width=\"42\" x=\"133\" y=\"147\"/><text fill=\"#000000\" font-family=\"sans-serif\" font-size=\"12\" font-style=\"italic\" lengthAdjust=\"spacingAndGlyphs\" textLength=\"40\" x=\"134\" y=\"163.1387\">«part»</text><text fill=\"#000000\" font-family=\"sans-serif\" font-size=\"12\" lengthAdjust=\"spacingAndGlyphs\" textLength=\"8\" x=\"150\" y=\"177.1074\">a</text><line style=\"stroke: #383838; stroke-width: 1.5;\" x1=\"134\" x2=\"174\" y1=\"184.9375\" y2=\"184.9375\"/></a><!--MD5=[ebbe1d658d1005bcc118a6aa81145e00]\n",
       "class E4--><a href=\"psysml:5da665e6-dcc7-4321-8fa9-423e89fca153\" target=\"_top\" title=\"psysml:5da665e6-dcc7-4321-8fa9-423e89fca153\" xlink:actuate=\"onRequest\" xlink:href=\"psysml:5da665e6-dcc7-4321-8fa9-423e89fca153\" xlink:show=\"new\" xlink:title=\"psysml:5da665e6-dcc7-4321-8fa9-423e89fca153\" xlink:type=\"simple\"><rect fill=\"#FFFFFF\" height=\"45.9375\" id=\"E4\" style=\"stroke: #383838; stroke-width: 1.5;\" width=\"66\" x=\"32\" y=\"41\"/><text fill=\"#000000\" font-family=\"sans-serif\" font-size=\"12\" font-style=\"italic\" lengthAdjust=\"spacingAndGlyphs\" textLength=\"64\" x=\"33\" y=\"57.1387\">«part def»</text><text fill=\"#000000\" font-family=\"sans-serif\" font-size=\"12\" lengthAdjust=\"spacingAndGlyphs\" textLength=\"8\" x=\"61\" y=\"71.1074\">C</text><line style=\"stroke: #383838; stroke-width: 1.5;\" x1=\"33\" x2=\"97\" y1=\"78.9375\" y2=\"78.9375\"/></a><!--MD5=[270fce915f116d4de14055a7c1d9a0f3]\n",
       "class E5--><a href=\"psysml:ed499477-fca6-4979-bffe-7845725436ef\" target=\"_top\" title=\"psysml:ed499477-fca6-4979-bffe-7845725436ef\" xlink:actuate=\"onRequest\" xlink:href=\"psysml:ed499477-fca6-4979-bffe-7845725436ef\" xlink:show=\"new\" xlink:title=\"psysml:ed499477-fca6-4979-bffe-7845725436ef\" xlink:type=\"simple\"><rect fill=\"#FFFFFF\" height=\"45.9375\" id=\"E5\" rx=\"10\" ry=\"10\" style=\"stroke: #383838; stroke-width: 1.5;\" width=\"42\" x=\"44\" y=\"147\"/><text fill=\"#000000\" font-family=\"sans-serif\" font-size=\"12\" font-style=\"italic\" lengthAdjust=\"spacingAndGlyphs\" textLength=\"40\" x=\"45\" y=\"163.1387\">«part»</text><text fill=\"#000000\" font-family=\"sans-serif\" font-size=\"12\" lengthAdjust=\"spacingAndGlyphs\" textLength=\"8\" x=\"61\" y=\"177.1074\">g</text><line style=\"stroke: #383838; stroke-width: 1.5;\" x1=\"45\" x2=\"85\" y1=\"184.9375\" y2=\"184.9375\"/></a><!--MD5=[209b3feb70ccb6233bfe1053d122c12c]\n",
       "reverse link E2 to E3--><a href=\"psysml:51ecbb7c-6db5-4069-ae0d-bb60efd47f9e\" target=\"_top\" title=\"psysml:51ecbb7c-6db5-4069-ae0d-bb60efd47f9e\" xlink:actuate=\"onRequest\" xlink:href=\"psysml:51ecbb7c-6db5-4069-ae0d-bb60efd47f9e\" xlink:show=\"new\" xlink:title=\"psysml:51ecbb7c-6db5-4069-ae0d-bb60efd47f9e\" xlink:type=\"simple\"><path d=\"M154,100.44 C154,115.87 154,133.47 154,146.98 \" fill=\"none\" id=\"E2&lt;-E3\" style=\"stroke: #383838; stroke-width: 1.0;\"/><polygon fill=\"#383838\" points=\"154,87.06,150,93.06,154,99.06,158,93.06,154,87.06\" style=\"stroke: #383838; stroke-width: 1.0;\"/></a><!--MD5=[62aa6af11e70f752912c1cb0466f24f7]\n",
       "reverse link E4 to E5--><a href=\"psysml:ed499477-fca6-4979-bffe-7845725436ef\" target=\"_top\" title=\"psysml:ed499477-fca6-4979-bffe-7845725436ef\" xlink:actuate=\"onRequest\" xlink:href=\"psysml:ed499477-fca6-4979-bffe-7845725436ef\" xlink:show=\"new\" xlink:title=\"psysml:ed499477-fca6-4979-bffe-7845725436ef\" xlink:type=\"simple\"><path d=\"M65,100.44 C65,115.87 65,133.47 65,146.98 \" fill=\"none\" id=\"E4&lt;-E5\" style=\"stroke: #383838; stroke-width: 1.0;\"/><polygon fill=\"#383838\" points=\"65,87.06,61,93.06,65,99.06,69,93.06,65,87.06\" style=\"stroke: #383838; stroke-width: 1.0;\"/></a><!--MD5=[7f782a9c610567ec43ffa037beb3cf36]\n",
       "@startuml\r\n",
       "skinparam linetype polyline\r\n",
       "skinparam monochrome true\r\n",
       "skinparam classbackgroundcolor white\r\n",
       "skinparam shadowing false\r\n",
       "skinparam wrapWidth 300\r\n",
       "hide circle\r\n",
       "\r\n",
       "package \"Q\" as E1  [[psysml:ef9b7028-f6bf-447e-864f-9dad0bdce88c ]]  {\r\n",
       "comp usage \"f\" as E2  <<(T,blue)part>> [[psysml:4239e231-7164-4547-a8e1-ba39f4362efb ]] {\r\n",
       "}\r\n",
       "comp usage \"a\" as E3  <<(T,blue)part>> [[psysml:51ecbb7c-6db5-4069-ae0d-bb60efd47f9e ]] {\r\n",
       "}\r\n",
       "comp def \"C\" as E4  <<(T,blue)part def>> [[psysml:5da665e6-dcc7-4321-8fa9-423e89fca153 ]] {\r\n",
       "}\r\n",
       "comp usage \"g\" as E5  <<(T,blue)part>> [[psysml:ed499477-fca6-4979-bffe-7845725436ef ]] {\r\n",
       "}\r\n",
       "E2 *- - E3 [[psysml:51ecbb7c-6db5-4069-ae0d-bb60efd47f9e ]] \r\n",
       "E4 *- - E5 [[psysml:ed499477-fca6-4979-bffe-7845725436ef ]] \r\n",
       "}\r\n",
       "@enduml\r\n",
       "\n",
       "PlantUML version 1.2020.13(Sat Jun 13 12:26:38 UTC 2020)\n",
       "(EPL source distribution)\n",
       "Java Runtime: OpenJDK Runtime Environment\n",
       "JVM: OpenJDK 64-Bit Server VM\n",
       "Default Encoding: UTF-8\n",
       "Language: en\n",
       "Country: null\n",
       "--></g></svg>"
      ]
     },
     "execution_count": 10,
     "metadata": {},
     "output_type": "execute_result"
    }
   ],
   "source": [
    "%viz --style=\"POLYLINE\" --view=\"Tree\" \"Q\""
   ]
  },
  {
   "cell_type": "code",
   "execution_count": 11,
   "id": "instant-lodging",
   "metadata": {
    "execution": {
     "iopub.execute_input": "2021-03-25T09:26:25.681321Z",
     "iopub.status.busy": "2021-03-25T09:26:25.680748Z",
     "iopub.status.idle": "2021-03-25T09:26:25.690829Z",
     "shell.execute_reply": "2021-03-25T09:26:25.691287Z"
    }
   },
   "outputs": [
    {
     "data": {
      "image/svg+xml": [
       "<?xml version=\"1.0\" encoding=\"UTF-8\" standalone=\"no\"?><svg xmlns=\"http://www.w3.org/2000/svg\" xmlns:xlink=\"http://www.w3.org/1999/xlink\" contentScriptType=\"application/ecmascript\" contentStyleType=\"text/css\" height=\"12px\" preserveAspectRatio=\"none\" style=\"width:12px;height:12px;\" version=\"1.1\" viewBox=\"0 0 12 12\" width=\"12px\" zoomAndPan=\"magnify\"><defs/><g><!--MD5=[896ac0e7a515d8dd7765a661cb4ee08b]\n",
       "@startuml\r\n",
       "skinparam linetype polyline\r\n",
       "skinparam monochrome true\r\n",
       "skinparam classbackgroundcolor white\r\n",
       "skinparam shadowing false\r\n",
       "skinparam wrapWidth 300\r\n",
       "hide circle\r\n",
       "\r\n",
       "@enduml\r\n",
       "\n",
       "PlantUML version 1.2020.13(Sat Jun 13 12:26:38 UTC 2020)\n",
       "(EPL source distribution)\n",
       "Java Runtime: OpenJDK Runtime Environment\n",
       "JVM: OpenJDK 64-Bit Server VM\n",
       "Default Encoding: UTF-8\n",
       "Language: en\n",
       "Country: null\n",
       "--></g></svg>"
      ]
     },
     "execution_count": 11,
     "metadata": {},
     "output_type": "execute_result"
    }
   ],
   "source": [
    "%viz --style=\"POLYLINE\" --view=\"State\" \"Q\""
   ]
  },
  {
   "cell_type": "code",
   "execution_count": 12,
   "id": "british-sample",
   "metadata": {
    "execution": {
     "iopub.execute_input": "2021-03-25T09:26:25.743957Z",
     "iopub.status.busy": "2021-03-25T09:26:25.743297Z",
     "iopub.status.idle": "2021-03-25T09:26:25.815920Z",
     "shell.execute_reply": "2021-03-25T09:26:25.816567Z"
    }
   },
   "outputs": [
    {
     "data": {
      "image/svg+xml": [
       "<?xml version=\"1.0\" encoding=\"UTF-8\" standalone=\"no\"?><svg xmlns=\"http://www.w3.org/2000/svg\" xmlns:xlink=\"http://www.w3.org/1999/xlink\" contentScriptType=\"application/ecmascript\" contentStyleType=\"text/css\" height=\"192px\" preserveAspectRatio=\"none\" style=\"width:279px;height:192px;\" version=\"1.1\" viewBox=\"0 0 279 192\" width=\"279px\" zoomAndPan=\"magnify\"><defs/><g><!--MD5=[fbc87193dbaf4d95561dea2c320d4a47]\n",
       "cluster E1--><a href=\"psysml:ef9b7028-f6bf-447e-864f-9dad0bdce88c\" target=\"_top\" title=\"psysml:ef9b7028-f6bf-447e-864f-9dad0bdce88c\" xlink:actuate=\"onRequest\" xlink:href=\"psysml:ef9b7028-f6bf-447e-864f-9dad0bdce88c\" xlink:show=\"new\" xlink:title=\"psysml:ef9b7028-f6bf-447e-864f-9dad0bdce88c\" xlink:type=\"simple\"><polygon fill=\"#FFFFFF\" points=\"16,6,34,6,41,28.2969,257,28.2969,257,180,16,180,16,6\" style=\"stroke: #000000; stroke-width: 1.5;\"/><line style=\"stroke: #000000; stroke-width: 1.5;\" x1=\"16\" x2=\"41\" y1=\"28.2969\" y2=\"28.2969\"/><text fill=\"#000000\" font-family=\"sans-serif\" font-size=\"14\" font-weight=\"bold\" lengthAdjust=\"spacingAndGlyphs\" textLength=\"12\" x=\"20\" y=\"20.9951\">Q</text></a><!--MD5=[e4f7fae6ed58524ba242bb0b0d3be6b7]\n",
       "cluster E2--><a href=\"psysml:4239e231-7164-4547-a8e1-ba39f4362efb\" target=\"_top\" title=\"psysml:4239e231-7164-4547-a8e1-ba39f4362efb\" xlink:actuate=\"onRequest\" xlink:href=\"psysml:4239e231-7164-4547-a8e1-ba39f4362efb\" xlink:show=\"new\" xlink:title=\"psysml:4239e231-7164-4547-a8e1-ba39f4362efb\" xlink:type=\"simple\"><rect fill=\"#FFFFFF\" height=\"91\" id=\"E2\" rx=\"10\" ry=\"10\" style=\"stroke: #383838; stroke-width: 1.5;\" width=\"82\" x=\"151\" y=\"65\"/><rect fill=\"#F8F8F8\" height=\"23.9688\" rx=\"10\" ry=\"10\" style=\"stroke: #F8F8F8; stroke-width: 1.5;\" width=\"82\" x=\"151\" y=\"65\"/><rect fill=\"#F8F8F8\" height=\"10\" style=\"stroke: #F8F8F8; stroke-width: 1.5;\" width=\"82\" x=\"151\" y=\"78.9688\"/><rect fill=\"none\" height=\"91\" id=\"E2\" rx=\"10\" ry=\"10\" style=\"stroke: #383838; stroke-width: 1.5;\" width=\"82\" x=\"151\" y=\"65\"/><text fill=\"#000000\" font-family=\"sans-serif\" font-size=\"12\" lengthAdjust=\"spacingAndGlyphs\" textLength=\"4\" x=\"190\" y=\"81.1387\">f</text><line style=\"stroke: #383838; stroke-width: 1.0;\" x1=\"151\" x2=\"233\" y1=\"88.9688\" y2=\"88.9688\"/></a><!--MD5=[f6df4d0ebaf0b5dfb2ced0ae5af7c670]\n",
       "cluster E4--><a href=\"psysml:5da665e6-dcc7-4321-8fa9-423e89fca153\" target=\"_top\" title=\"psysml:5da665e6-dcc7-4321-8fa9-423e89fca153\" xlink:actuate=\"onRequest\" xlink:href=\"psysml:5da665e6-dcc7-4321-8fa9-423e89fca153\" xlink:show=\"new\" xlink:title=\"psysml:5da665e6-dcc7-4321-8fa9-423e89fca153\" xlink:type=\"simple\"><rect fill=\"#FFFFFF\" height=\"107\" id=\"E4\" style=\"stroke: #383838; stroke-width: 1.5;\" width=\"87\" x=\"40\" y=\"49\"/><rect fill=\"#F8F8F8\" height=\"37.9375\" style=\"stroke: #383838; stroke-width: 1.5;\" width=\"87\" x=\"40\" y=\"49\"/><text fill=\"#000000\" font-family=\"sans-serif\" font-size=\"12\" font-style=\"italic\" lengthAdjust=\"spacingAndGlyphs\" textLength=\"64\" x=\"51.5\" y=\"65.1387\">«part def»</text><text fill=\"#000000\" font-family=\"sans-serif\" font-size=\"12\" lengthAdjust=\"spacingAndGlyphs\" textLength=\"8\" x=\"79.5\" y=\"79.1074\">C</text></a><g id=\"E1.E2.E3\"><a href=\"psysml:51ecbb7c-6db5-4069-ae0d-bb60efd47f9e\" target=\"_top\" title=\"psysml:51ecbb7c-6db5-4069-ae0d-bb60efd47f9e\" xlink:actuate=\"onRequest\" xlink:href=\"psysml:51ecbb7c-6db5-4069-ae0d-bb60efd47f9e\" xlink:show=\"new\" xlink:title=\"psysml:51ecbb7c-6db5-4069-ae0d-bb60efd47f9e\" xlink:type=\"simple\"><rect fill=\"#FFFFFF\" height=\"40\" id=\"E3\" rx=\"10\" ry=\"10\" style=\"stroke: #383838; stroke-width: 1.5;\" width=\"50\" x=\"167\" y=\"100\"/><rect fill=\"#F8F8F8\" height=\"23.9688\" rx=\"10\" ry=\"10\" style=\"stroke: #F8F8F8; stroke-width: 1.5;\" width=\"50\" x=\"167\" y=\"100\"/><rect fill=\"#F8F8F8\" height=\"10\" style=\"stroke: #F8F8F8; stroke-width: 1.5;\" width=\"50\" x=\"167\" y=\"113.9688\"/><rect fill=\"none\" height=\"40\" id=\"E3\" rx=\"10\" ry=\"10\" style=\"stroke: #383838; stroke-width: 1.5;\" width=\"50\" x=\"167\" y=\"100\"/><text fill=\"#000000\" font-family=\"sans-serif\" font-size=\"12\" lengthAdjust=\"spacingAndGlyphs\" textLength=\"8\" x=\"188\" y=\"116.1387\">a</text></a></g><g id=\"E1.E4.E5\"><a href=\"psysml:ed499477-fca6-4979-bffe-7845725436ef\" target=\"_top\" title=\"psysml:ed499477-fca6-4979-bffe-7845725436ef\" xlink:actuate=\"onRequest\" xlink:href=\"psysml:ed499477-fca6-4979-bffe-7845725436ef\" xlink:show=\"new\" xlink:title=\"psysml:ed499477-fca6-4979-bffe-7845725436ef\" xlink:type=\"simple\"><rect fill=\"#FFFFFF\" height=\"40\" id=\"E5\" rx=\"10\" ry=\"10\" style=\"stroke: #383838; stroke-width: 1.5;\" width=\"50\" x=\"58\" y=\"100\"/><rect fill=\"#F8F8F8\" height=\"23.9688\" rx=\"10\" ry=\"10\" style=\"stroke: #F8F8F8; stroke-width: 1.5;\" width=\"50\" x=\"58\" y=\"100\"/><rect fill=\"#F8F8F8\" height=\"10\" style=\"stroke: #F8F8F8; stroke-width: 1.5;\" width=\"50\" x=\"58\" y=\"113.9688\"/><rect fill=\"none\" height=\"40\" id=\"E5\" rx=\"10\" ry=\"10\" style=\"stroke: #383838; stroke-width: 1.5;\" width=\"50\" x=\"58\" y=\"100\"/><text fill=\"#000000\" font-family=\"sans-serif\" font-size=\"12\" lengthAdjust=\"spacingAndGlyphs\" textLength=\"8\" x=\"79\" y=\"116.1387\">g</text></a></g><!--MD5=[a8f67c6f413f7912ef7bd938d0049a85]\n",
       "@startuml\r\n",
       "skinparam ranksep 8\r\n",
       "skinparam rectangle {\r\n",
       " backgroundColor<<block>> LightGreen\r\n",
       "}\r\n",
       "skinparam linetype polyline\r\n",
       "skinparam monochrome true\r\n",
       "skinparam classbackgroundcolor white\r\n",
       "skinparam shadowing false\r\n",
       "skinparam wrapWidth 300\r\n",
       "hide circle\r\n",
       "\r\n",
       "package \"Q\" as E1  [[psysml:ef9b7028-f6bf-447e-864f-9dad0bdce88c ]]  {\r\n",
       "rec usage \"f\" as E2  [[psysml:4239e231-7164-4547-a8e1-ba39f4362efb ]] {\r\n",
       "rec usage \"a\" as E3  [[psysml:51ecbb7c-6db5-4069-ae0d-bb60efd47f9e ]] {\r\n",
       "}\r\n",
       "}\r\n",
       "rec def \"C\" as E4  <<(T,blue)part def>> [[psysml:5da665e6-dcc7-4321-8fa9-423e89fca153 ]] {\r\n",
       "rec usage \"g\" as E5  [[psysml:ed499477-fca6-4979-bffe-7845725436ef ]] {\r\n",
       "}\r\n",
       "}\r\n",
       "}\r\n",
       "@enduml\r\n",
       "\n",
       "PlantUML version 1.2020.13(Sat Jun 13 12:26:38 UTC 2020)\n",
       "(EPL source distribution)\n",
       "Java Runtime: OpenJDK Runtime Environment\n",
       "JVM: OpenJDK 64-Bit Server VM\n",
       "Default Encoding: UTF-8\n",
       "Language: en\n",
       "Country: null\n",
       "--></g></svg>"
      ]
     },
     "execution_count": 12,
     "metadata": {},
     "output_type": "execute_result"
    }
   ],
   "source": [
    "%viz --style=\"POLYLINE\" --view=\"Interconnection\" \"Q\""
   ]
  },
  {
   "cell_type": "code",
   "execution_count": 13,
   "id": "refined-width",
   "metadata": {
    "execution": {
     "iopub.execute_input": "2021-03-25T09:26:25.866202Z",
     "iopub.status.busy": "2021-03-25T09:26:25.865837Z",
     "iopub.status.idle": "2021-03-25T09:26:25.876256Z",
     "shell.execute_reply": "2021-03-25T09:26:25.876777Z"
    }
   },
   "outputs": [
    {
     "data": {
      "image/svg+xml": [
       "<?xml version=\"1.0\" encoding=\"UTF-8\" standalone=\"no\"?><svg xmlns=\"http://www.w3.org/2000/svg\" xmlns:xlink=\"http://www.w3.org/1999/xlink\" contentScriptType=\"application/ecmascript\" contentStyleType=\"text/css\" height=\"12px\" preserveAspectRatio=\"none\" style=\"width:12px;height:12px;\" version=\"1.1\" viewBox=\"0 0 12 12\" width=\"12px\" zoomAndPan=\"magnify\"><defs/><g><!--MD5=[97bbf32f66ccd50cbc40d92ea8f5a65e]\n",
       "@startuml\r\n",
       "skinparam ranksep 8\r\n",
       "skinparam linetype polyline\r\n",
       "skinparam monochrome true\r\n",
       "skinparam classbackgroundcolor white\r\n",
       "skinparam shadowing false\r\n",
       "skinparam wrapWidth 300\r\n",
       "hide circle\r\n",
       "\r\n",
       "@enduml\r\n",
       "\n",
       "PlantUML version 1.2020.13(Sat Jun 13 12:26:38 UTC 2020)\n",
       "(EPL source distribution)\n",
       "Java Runtime: OpenJDK Runtime Environment\n",
       "JVM: OpenJDK 64-Bit Server VM\n",
       "Default Encoding: UTF-8\n",
       "Language: en\n",
       "Country: null\n",
       "--></g></svg>"
      ]
     },
     "execution_count": 13,
     "metadata": {},
     "output_type": "execute_result"
    }
   ],
   "source": [
    "%viz --style=\"POLYLINE\" --view=\"Action\" \"Q\""
   ]
  },
  {
   "cell_type": "code",
   "execution_count": 14,
   "id": "sexual-meeting",
   "metadata": {
    "execution": {
     "iopub.execute_input": "2021-03-25T09:26:25.929362Z",
     "iopub.status.busy": "2021-03-25T09:26:25.928878Z",
     "iopub.status.idle": "2021-03-25T09:26:26.000244Z",
     "shell.execute_reply": "2021-03-25T09:26:26.000730Z"
    }
   },
   "outputs": [
    {
     "data": {
      "image/svg+xml": [
       "<?xml version=\"1.0\" encoding=\"UTF-8\" standalone=\"no\"?><svg xmlns=\"http://www.w3.org/2000/svg\" xmlns:xlink=\"http://www.w3.org/1999/xlink\" contentScriptType=\"application/ecmascript\" contentStyleType=\"text/css\" height=\"221px\" preserveAspectRatio=\"none\" style=\"width:213px;height:221px;\" version=\"1.1\" viewBox=\"0 0 213 221\" width=\"213px\" zoomAndPan=\"magnify\"><defs/><g><!--MD5=[fbc87193dbaf4d95561dea2c320d4a47]\n",
       "cluster E1--><a href=\"psysml:ef9b7028-f6bf-447e-864f-9dad0bdce88c\" target=\"_top\" title=\"psysml:ef9b7028-f6bf-447e-864f-9dad0bdce88c\" xlink:actuate=\"onRequest\" xlink:href=\"psysml:ef9b7028-f6bf-447e-864f-9dad0bdce88c\" xlink:show=\"new\" xlink:title=\"psysml:ef9b7028-f6bf-447e-864f-9dad0bdce88c\" xlink:type=\"simple\"><polygon fill=\"#FFFFFF\" points=\"16,6,34,6,41,28.2969,191,28.2969,191,209,16,209,16,6\" style=\"stroke: #000000; stroke-width: 1.5;\"/><line style=\"stroke: #000000; stroke-width: 1.5;\" x1=\"16\" x2=\"41\" y1=\"28.2969\" y2=\"28.2969\"/><text fill=\"#000000\" font-family=\"sans-serif\" font-size=\"14\" font-weight=\"bold\" lengthAdjust=\"spacingAndGlyphs\" textLength=\"12\" x=\"20\" y=\"20.9951\">Q</text></a><!--MD5=[b4997ac47864f28c2f74865a473b2911]\n",
       "class E2--><a href=\"psysml:4239e231-7164-4547-a8e1-ba39f4362efb\" target=\"_top\" title=\"psysml:4239e231-7164-4547-a8e1-ba39f4362efb\" xlink:actuate=\"onRequest\" xlink:href=\"psysml:4239e231-7164-4547-a8e1-ba39f4362efb\" xlink:show=\"new\" xlink:title=\"psysml:4239e231-7164-4547-a8e1-ba39f4362efb\" xlink:type=\"simple\"><rect fill=\"#FFFFFF\" height=\"45.9375\" id=\"E2\" rx=\"10\" ry=\"10\" style=\"stroke: #383838; stroke-width: 1.5;\" width=\"42\" x=\"133\" y=\"41\"/><text fill=\"#000000\" font-family=\"sans-serif\" font-size=\"12\" font-style=\"italic\" lengthAdjust=\"spacingAndGlyphs\" textLength=\"40\" x=\"134\" y=\"57.1387\">«part»</text><text fill=\"#000000\" font-family=\"sans-serif\" font-size=\"12\" lengthAdjust=\"spacingAndGlyphs\" textLength=\"4\" x=\"152\" y=\"71.1074\">f</text><line style=\"stroke: #383838; stroke-width: 1.5;\" x1=\"134\" x2=\"174\" y1=\"78.9375\" y2=\"78.9375\"/></a><!--MD5=[09b614a08d8cba4a07c9adeb5e0fee81]\n",
       "class E3--><a href=\"psysml:51ecbb7c-6db5-4069-ae0d-bb60efd47f9e\" target=\"_top\" title=\"psysml:51ecbb7c-6db5-4069-ae0d-bb60efd47f9e\" xlink:actuate=\"onRequest\" xlink:href=\"psysml:51ecbb7c-6db5-4069-ae0d-bb60efd47f9e\" xlink:show=\"new\" xlink:title=\"psysml:51ecbb7c-6db5-4069-ae0d-bb60efd47f9e\" xlink:type=\"simple\"><rect fill=\"#FFFFFF\" height=\"45.9375\" id=\"E3\" rx=\"10\" ry=\"10\" style=\"stroke: #383838; stroke-width: 1.5;\" width=\"42\" x=\"133\" y=\"147\"/><text fill=\"#000000\" font-family=\"sans-serif\" font-size=\"12\" font-style=\"italic\" lengthAdjust=\"spacingAndGlyphs\" textLength=\"40\" x=\"134\" y=\"163.1387\">«part»</text><text fill=\"#000000\" font-family=\"sans-serif\" font-size=\"12\" lengthAdjust=\"spacingAndGlyphs\" textLength=\"8\" x=\"150\" y=\"177.1074\">a</text><line style=\"stroke: #383838; stroke-width: 1.5;\" x1=\"134\" x2=\"174\" y1=\"184.9375\" y2=\"184.9375\"/></a><!--MD5=[ebbe1d658d1005bcc118a6aa81145e00]\n",
       "class E4--><a href=\"psysml:5da665e6-dcc7-4321-8fa9-423e89fca153\" target=\"_top\" title=\"psysml:5da665e6-dcc7-4321-8fa9-423e89fca153\" xlink:actuate=\"onRequest\" xlink:href=\"psysml:5da665e6-dcc7-4321-8fa9-423e89fca153\" xlink:show=\"new\" xlink:title=\"psysml:5da665e6-dcc7-4321-8fa9-423e89fca153\" xlink:type=\"simple\"><rect fill=\"#FFFFFF\" height=\"45.9375\" id=\"E4\" style=\"stroke: #383838; stroke-width: 1.5;\" width=\"66\" x=\"32\" y=\"41\"/><text fill=\"#000000\" font-family=\"sans-serif\" font-size=\"12\" font-style=\"italic\" lengthAdjust=\"spacingAndGlyphs\" textLength=\"64\" x=\"33\" y=\"57.1387\">«part def»</text><text fill=\"#000000\" font-family=\"sans-serif\" font-size=\"12\" lengthAdjust=\"spacingAndGlyphs\" textLength=\"8\" x=\"61\" y=\"71.1074\">C</text><line style=\"stroke: #383838; stroke-width: 1.5;\" x1=\"33\" x2=\"97\" y1=\"78.9375\" y2=\"78.9375\"/></a><!--MD5=[270fce915f116d4de14055a7c1d9a0f3]\n",
       "class E5--><a href=\"psysml:ed499477-fca6-4979-bffe-7845725436ef\" target=\"_top\" title=\"psysml:ed499477-fca6-4979-bffe-7845725436ef\" xlink:actuate=\"onRequest\" xlink:href=\"psysml:ed499477-fca6-4979-bffe-7845725436ef\" xlink:show=\"new\" xlink:title=\"psysml:ed499477-fca6-4979-bffe-7845725436ef\" xlink:type=\"simple\"><rect fill=\"#FFFFFF\" height=\"45.9375\" id=\"E5\" rx=\"10\" ry=\"10\" style=\"stroke: #383838; stroke-width: 1.5;\" width=\"42\" x=\"44\" y=\"147\"/><text fill=\"#000000\" font-family=\"sans-serif\" font-size=\"12\" font-style=\"italic\" lengthAdjust=\"spacingAndGlyphs\" textLength=\"40\" x=\"45\" y=\"163.1387\">«part»</text><text fill=\"#000000\" font-family=\"sans-serif\" font-size=\"12\" lengthAdjust=\"spacingAndGlyphs\" textLength=\"8\" x=\"61\" y=\"177.1074\">g</text><line style=\"stroke: #383838; stroke-width: 1.5;\" x1=\"45\" x2=\"85\" y1=\"184.9375\" y2=\"184.9375\"/></a><!--MD5=[209b3feb70ccb6233bfe1053d122c12c]\n",
       "reverse link E2 to E3--><a href=\"psysml:51ecbb7c-6db5-4069-ae0d-bb60efd47f9e\" target=\"_top\" title=\"psysml:51ecbb7c-6db5-4069-ae0d-bb60efd47f9e\" xlink:actuate=\"onRequest\" xlink:href=\"psysml:51ecbb7c-6db5-4069-ae0d-bb60efd47f9e\" xlink:show=\"new\" xlink:title=\"psysml:51ecbb7c-6db5-4069-ae0d-bb60efd47f9e\" xlink:type=\"simple\"><path d=\"M154,100.44 C154,115.87 154,133.47 154,146.98 \" fill=\"none\" id=\"E2&lt;-E3\" style=\"stroke: #383838; stroke-width: 1.0;\"/><polygon fill=\"#383838\" points=\"154,87.06,150,93.06,154,99.06,158,93.06,154,87.06\" style=\"stroke: #383838; stroke-width: 1.0;\"/></a><!--MD5=[62aa6af11e70f752912c1cb0466f24f7]\n",
       "reverse link E4 to E5--><a href=\"psysml:ed499477-fca6-4979-bffe-7845725436ef\" target=\"_top\" title=\"psysml:ed499477-fca6-4979-bffe-7845725436ef\" xlink:actuate=\"onRequest\" xlink:href=\"psysml:ed499477-fca6-4979-bffe-7845725436ef\" xlink:show=\"new\" xlink:title=\"psysml:ed499477-fca6-4979-bffe-7845725436ef\" xlink:type=\"simple\"><path d=\"M65,100.44 C65,115.87 65,133.47 65,146.98 \" fill=\"none\" id=\"E4&lt;-E5\" style=\"stroke: #383838; stroke-width: 1.0;\"/><polygon fill=\"#383838\" points=\"65,87.06,61,93.06,65,99.06,69,93.06,65,87.06\" style=\"stroke: #383838; stroke-width: 1.0;\"/></a><!--MD5=[7f782a9c610567ec43ffa037beb3cf36]\n",
       "@startuml\r\n",
       "skinparam linetype polyline\r\n",
       "skinparam monochrome true\r\n",
       "skinparam classbackgroundcolor white\r\n",
       "skinparam shadowing false\r\n",
       "skinparam wrapWidth 300\r\n",
       "hide circle\r\n",
       "\r\n",
       "package \"Q\" as E1  [[psysml:ef9b7028-f6bf-447e-864f-9dad0bdce88c ]]  {\r\n",
       "comp usage \"f\" as E2  <<(T,blue)part>> [[psysml:4239e231-7164-4547-a8e1-ba39f4362efb ]] {\r\n",
       "}\r\n",
       "comp usage \"a\" as E3  <<(T,blue)part>> [[psysml:51ecbb7c-6db5-4069-ae0d-bb60efd47f9e ]] {\r\n",
       "}\r\n",
       "comp def \"C\" as E4  <<(T,blue)part def>> [[psysml:5da665e6-dcc7-4321-8fa9-423e89fca153 ]] {\r\n",
       "}\r\n",
       "comp usage \"g\" as E5  <<(T,blue)part>> [[psysml:ed499477-fca6-4979-bffe-7845725436ef ]] {\r\n",
       "}\r\n",
       "E2 *- - E3 [[psysml:51ecbb7c-6db5-4069-ae0d-bb60efd47f9e ]] \r\n",
       "E4 *- - E5 [[psysml:ed499477-fca6-4979-bffe-7845725436ef ]] \r\n",
       "}\r\n",
       "@enduml\r\n",
       "\n",
       "PlantUML version 1.2020.13(Sat Jun 13 12:26:38 UTC 2020)\n",
       "(EPL source distribution)\n",
       "Java Runtime: OpenJDK Runtime Environment\n",
       "JVM: OpenJDK 64-Bit Server VM\n",
       "Default Encoding: UTF-8\n",
       "Language: en\n",
       "Country: null\n",
       "--></g></svg>"
      ]
     },
     "execution_count": 14,
     "metadata": {},
     "output_type": "execute_result"
    }
   ],
   "source": [
    "%viz --style=\"POLYLINE\" --view=\"Sequence\" \"Q\""
   ]
  },
  {
   "cell_type": "code",
   "execution_count": 15,
   "id": "cordless-robert",
   "metadata": {
    "execution": {
     "iopub.execute_input": "2021-03-25T09:26:26.051605Z",
     "iopub.status.busy": "2021-03-25T09:26:26.051052Z",
     "iopub.status.idle": "2021-03-25T09:26:26.107596Z",
     "shell.execute_reply": "2021-03-25T09:26:26.106127Z"
    }
   },
   "outputs": [
    {
     "data": {
      "image/svg+xml": [
       "<?xml version=\"1.0\" encoding=\"UTF-8\" standalone=\"no\"?><svg xmlns=\"http://www.w3.org/2000/svg\" xmlns:xlink=\"http://www.w3.org/1999/xlink\" contentScriptType=\"application/ecmascript\" contentStyleType=\"text/css\" height=\"221px\" preserveAspectRatio=\"none\" style=\"width:213px;height:221px;\" version=\"1.1\" viewBox=\"0 0 213 221\" width=\"213px\" zoomAndPan=\"magnify\"><defs/><g><!--MD5=[fbc87193dbaf4d95561dea2c320d4a47]\n",
       "cluster E1--><a href=\"psysml:ef9b7028-f6bf-447e-864f-9dad0bdce88c\" target=\"_top\" title=\"psysml:ef9b7028-f6bf-447e-864f-9dad0bdce88c\" xlink:actuate=\"onRequest\" xlink:href=\"psysml:ef9b7028-f6bf-447e-864f-9dad0bdce88c\" xlink:show=\"new\" xlink:title=\"psysml:ef9b7028-f6bf-447e-864f-9dad0bdce88c\" xlink:type=\"simple\"><polygon fill=\"#FFFFFF\" points=\"16,6,34,6,41,28.2969,191,28.2969,191,209,16,209,16,6\" style=\"stroke: #000000; stroke-width: 1.5;\"/><line style=\"stroke: #000000; stroke-width: 1.5;\" x1=\"16\" x2=\"41\" y1=\"28.2969\" y2=\"28.2969\"/><text fill=\"#000000\" font-family=\"sans-serif\" font-size=\"14\" font-weight=\"bold\" lengthAdjust=\"spacingAndGlyphs\" textLength=\"12\" x=\"20\" y=\"20.9951\">Q</text></a><!--MD5=[b4997ac47864f28c2f74865a473b2911]\n",
       "class E2--><a href=\"psysml:4239e231-7164-4547-a8e1-ba39f4362efb\" target=\"_top\" title=\"psysml:4239e231-7164-4547-a8e1-ba39f4362efb\" xlink:actuate=\"onRequest\" xlink:href=\"psysml:4239e231-7164-4547-a8e1-ba39f4362efb\" xlink:show=\"new\" xlink:title=\"psysml:4239e231-7164-4547-a8e1-ba39f4362efb\" xlink:type=\"simple\"><rect fill=\"#FFFFFF\" height=\"45.9375\" id=\"E2\" rx=\"10\" ry=\"10\" style=\"stroke: #383838; stroke-width: 1.5;\" width=\"42\" x=\"133\" y=\"41\"/><text fill=\"#000000\" font-family=\"sans-serif\" font-size=\"12\" font-style=\"italic\" lengthAdjust=\"spacingAndGlyphs\" textLength=\"40\" x=\"134\" y=\"57.1387\">«part»</text><text fill=\"#000000\" font-family=\"sans-serif\" font-size=\"12\" lengthAdjust=\"spacingAndGlyphs\" textLength=\"4\" x=\"152\" y=\"71.1074\">f</text><line style=\"stroke: #383838; stroke-width: 1.5;\" x1=\"134\" x2=\"174\" y1=\"78.9375\" y2=\"78.9375\"/></a><!--MD5=[09b614a08d8cba4a07c9adeb5e0fee81]\n",
       "class E3--><a href=\"psysml:51ecbb7c-6db5-4069-ae0d-bb60efd47f9e\" target=\"_top\" title=\"psysml:51ecbb7c-6db5-4069-ae0d-bb60efd47f9e\" xlink:actuate=\"onRequest\" xlink:href=\"psysml:51ecbb7c-6db5-4069-ae0d-bb60efd47f9e\" xlink:show=\"new\" xlink:title=\"psysml:51ecbb7c-6db5-4069-ae0d-bb60efd47f9e\" xlink:type=\"simple\"><rect fill=\"#FFFFFF\" height=\"45.9375\" id=\"E3\" rx=\"10\" ry=\"10\" style=\"stroke: #383838; stroke-width: 1.5;\" width=\"42\" x=\"133\" y=\"147\"/><text fill=\"#000000\" font-family=\"sans-serif\" font-size=\"12\" font-style=\"italic\" lengthAdjust=\"spacingAndGlyphs\" textLength=\"40\" x=\"134\" y=\"163.1387\">«part»</text><text fill=\"#000000\" font-family=\"sans-serif\" font-size=\"12\" lengthAdjust=\"spacingAndGlyphs\" textLength=\"8\" x=\"150\" y=\"177.1074\">a</text><line style=\"stroke: #383838; stroke-width: 1.5;\" x1=\"134\" x2=\"174\" y1=\"184.9375\" y2=\"184.9375\"/></a><!--MD5=[ebbe1d658d1005bcc118a6aa81145e00]\n",
       "class E4--><a href=\"psysml:5da665e6-dcc7-4321-8fa9-423e89fca153\" target=\"_top\" title=\"psysml:5da665e6-dcc7-4321-8fa9-423e89fca153\" xlink:actuate=\"onRequest\" xlink:href=\"psysml:5da665e6-dcc7-4321-8fa9-423e89fca153\" xlink:show=\"new\" xlink:title=\"psysml:5da665e6-dcc7-4321-8fa9-423e89fca153\" xlink:type=\"simple\"><rect fill=\"#FFFFFF\" height=\"45.9375\" id=\"E4\" style=\"stroke: #383838; stroke-width: 1.5;\" width=\"66\" x=\"32\" y=\"41\"/><text fill=\"#000000\" font-family=\"sans-serif\" font-size=\"12\" font-style=\"italic\" lengthAdjust=\"spacingAndGlyphs\" textLength=\"64\" x=\"33\" y=\"57.1387\">«part def»</text><text fill=\"#000000\" font-family=\"sans-serif\" font-size=\"12\" lengthAdjust=\"spacingAndGlyphs\" textLength=\"8\" x=\"61\" y=\"71.1074\">C</text><line style=\"stroke: #383838; stroke-width: 1.5;\" x1=\"33\" x2=\"97\" y1=\"78.9375\" y2=\"78.9375\"/></a><!--MD5=[270fce915f116d4de14055a7c1d9a0f3]\n",
       "class E5--><a href=\"psysml:ed499477-fca6-4979-bffe-7845725436ef\" target=\"_top\" title=\"psysml:ed499477-fca6-4979-bffe-7845725436ef\" xlink:actuate=\"onRequest\" xlink:href=\"psysml:ed499477-fca6-4979-bffe-7845725436ef\" xlink:show=\"new\" xlink:title=\"psysml:ed499477-fca6-4979-bffe-7845725436ef\" xlink:type=\"simple\"><rect fill=\"#FFFFFF\" height=\"45.9375\" id=\"E5\" rx=\"10\" ry=\"10\" style=\"stroke: #383838; stroke-width: 1.5;\" width=\"42\" x=\"44\" y=\"147\"/><text fill=\"#000000\" font-family=\"sans-serif\" font-size=\"12\" font-style=\"italic\" lengthAdjust=\"spacingAndGlyphs\" textLength=\"40\" x=\"45\" y=\"163.1387\">«part»</text><text fill=\"#000000\" font-family=\"sans-serif\" font-size=\"12\" lengthAdjust=\"spacingAndGlyphs\" textLength=\"8\" x=\"61\" y=\"177.1074\">g</text><line style=\"stroke: #383838; stroke-width: 1.5;\" x1=\"45\" x2=\"85\" y1=\"184.9375\" y2=\"184.9375\"/></a><!--MD5=[209b3feb70ccb6233bfe1053d122c12c]\n",
       "reverse link E2 to E3--><a href=\"psysml:51ecbb7c-6db5-4069-ae0d-bb60efd47f9e\" target=\"_top\" title=\"psysml:51ecbb7c-6db5-4069-ae0d-bb60efd47f9e\" xlink:actuate=\"onRequest\" xlink:href=\"psysml:51ecbb7c-6db5-4069-ae0d-bb60efd47f9e\" xlink:show=\"new\" xlink:title=\"psysml:51ecbb7c-6db5-4069-ae0d-bb60efd47f9e\" xlink:type=\"simple\"><path d=\"M154,100.44 C154,115.87 154,133.47 154,146.98 \" fill=\"none\" id=\"E2&lt;-E3\" style=\"stroke: #383838; stroke-width: 1.0;\"/><polygon fill=\"#383838\" points=\"154,87.06,150,93.06,154,99.06,158,93.06,154,87.06\" style=\"stroke: #383838; stroke-width: 1.0;\"/></a><!--MD5=[62aa6af11e70f752912c1cb0466f24f7]\n",
       "reverse link E4 to E5--><a href=\"psysml:ed499477-fca6-4979-bffe-7845725436ef\" target=\"_top\" title=\"psysml:ed499477-fca6-4979-bffe-7845725436ef\" xlink:actuate=\"onRequest\" xlink:href=\"psysml:ed499477-fca6-4979-bffe-7845725436ef\" xlink:show=\"new\" xlink:title=\"psysml:ed499477-fca6-4979-bffe-7845725436ef\" xlink:type=\"simple\"><path d=\"M65,100.44 C65,115.87 65,133.47 65,146.98 \" fill=\"none\" id=\"E4&lt;-E5\" style=\"stroke: #383838; stroke-width: 1.0;\"/><polygon fill=\"#383838\" points=\"65,87.06,61,93.06,65,99.06,69,93.06,65,87.06\" style=\"stroke: #383838; stroke-width: 1.0;\"/></a><!--MD5=[7f782a9c610567ec43ffa037beb3cf36]\n",
       "@startuml\r\n",
       "skinparam linetype polyline\r\n",
       "skinparam monochrome true\r\n",
       "skinparam classbackgroundcolor white\r\n",
       "skinparam shadowing false\r\n",
       "skinparam wrapWidth 300\r\n",
       "hide circle\r\n",
       "\r\n",
       "package \"Q\" as E1  [[psysml:ef9b7028-f6bf-447e-864f-9dad0bdce88c ]]  {\r\n",
       "comp usage \"f\" as E2  <<(T,blue)part>> [[psysml:4239e231-7164-4547-a8e1-ba39f4362efb ]] {\r\n",
       "}\r\n",
       "comp usage \"a\" as E3  <<(T,blue)part>> [[psysml:51ecbb7c-6db5-4069-ae0d-bb60efd47f9e ]] {\r\n",
       "}\r\n",
       "comp def \"C\" as E4  <<(T,blue)part def>> [[psysml:5da665e6-dcc7-4321-8fa9-423e89fca153 ]] {\r\n",
       "}\r\n",
       "comp usage \"g\" as E5  <<(T,blue)part>> [[psysml:ed499477-fca6-4979-bffe-7845725436ef ]] {\r\n",
       "}\r\n",
       "E2 *- - E3 [[psysml:51ecbb7c-6db5-4069-ae0d-bb60efd47f9e ]] \r\n",
       "E4 *- - E5 [[psysml:ed499477-fca6-4979-bffe-7845725436ef ]] \r\n",
       "}\r\n",
       "@enduml\r\n",
       "\n",
       "PlantUML version 1.2020.13(Sat Jun 13 12:26:38 UTC 2020)\n",
       "(EPL source distribution)\n",
       "Java Runtime: OpenJDK Runtime Environment\n",
       "JVM: OpenJDK 64-Bit Server VM\n",
       "Default Encoding: UTF-8\n",
       "Language: en\n",
       "Country: null\n",
       "--></g></svg>"
      ]
     },
     "execution_count": 15,
     "metadata": {},
     "output_type": "execute_result"
    }
   ],
   "source": [
    "%viz --style=\"POLYLINE\" --view=\"MIXED\" \"Q\""
   ]
  },
  {
   "cell_type": "code",
   "execution_count": 16,
   "id": "collectible-novel",
   "metadata": {
    "execution": {
     "iopub.execute_input": "2021-03-25T09:26:26.158653Z",
     "iopub.status.busy": "2021-03-25T09:26:26.158111Z",
     "iopub.status.idle": "2021-03-25T09:26:26.218512Z",
     "shell.execute_reply": "2021-03-25T09:26:26.217063Z"
    }
   },
   "outputs": [
    {
     "data": {
      "image/svg+xml": [
       "<?xml version=\"1.0\" encoding=\"UTF-8\" standalone=\"no\"?><svg xmlns=\"http://www.w3.org/2000/svg\" xmlns:xlink=\"http://www.w3.org/1999/xlink\" contentScriptType=\"application/ecmascript\" contentStyleType=\"text/css\" height=\"196px\" preserveAspectRatio=\"none\" style=\"width:238px;height:196px;\" version=\"1.1\" viewBox=\"0 0 238 196\" width=\"238px\" zoomAndPan=\"magnify\"><defs/><g><!--MD5=[fbc87193dbaf4d95561dea2c320d4a47]\n",
       "cluster E1--><a href=\"psysml:ef9b7028-f6bf-447e-864f-9dad0bdce88c\" target=\"_top\" title=\"psysml:ef9b7028-f6bf-447e-864f-9dad0bdce88c\" xlink:actuate=\"onRequest\" xlink:href=\"psysml:ef9b7028-f6bf-447e-864f-9dad0bdce88c\" xlink:show=\"new\" xlink:title=\"psysml:ef9b7028-f6bf-447e-864f-9dad0bdce88c\" xlink:type=\"simple\"><polygon fill=\"#FFFFFF\" points=\"16,6,34,6,41,28.2969,216,28.2969,216,184,16,184,16,6\" style=\"stroke: #000000; stroke-width: 1.5;\"/><line style=\"stroke: #000000; stroke-width: 1.5;\" x1=\"16\" x2=\"41\" y1=\"28.2969\" y2=\"28.2969\"/><text fill=\"#000000\" font-family=\"sans-serif\" font-size=\"14\" font-weight=\"bold\" lengthAdjust=\"spacingAndGlyphs\" textLength=\"12\" x=\"20\" y=\"20.9951\">Q</text></a><!--MD5=[b4997ac47864f28c2f74865a473b2911]\n",
       "class E2--><a href=\"psysml:4239e231-7164-4547-a8e1-ba39f4362efb\" target=\"_top\" title=\"psysml:4239e231-7164-4547-a8e1-ba39f4362efb\" xlink:actuate=\"onRequest\" xlink:href=\"psysml:4239e231-7164-4547-a8e1-ba39f4362efb\" xlink:show=\"new\" xlink:title=\"psysml:4239e231-7164-4547-a8e1-ba39f4362efb\" xlink:type=\"simple\"><rect fill=\"#FFFFFF\" height=\"45.9375\" id=\"E2\" rx=\"10\" ry=\"10\" style=\"stroke: #383838; stroke-width: 1.5;\" width=\"42\" x=\"44\" y=\"41\"/><text fill=\"#000000\" font-family=\"sans-serif\" font-size=\"12\" font-style=\"italic\" lengthAdjust=\"spacingAndGlyphs\" textLength=\"40\" x=\"45\" y=\"57.1387\">«part»</text><text fill=\"#000000\" font-family=\"sans-serif\" font-size=\"12\" lengthAdjust=\"spacingAndGlyphs\" textLength=\"4\" x=\"63\" y=\"71.1074\">f</text><line style=\"stroke: #383838; stroke-width: 1.5;\" x1=\"45\" x2=\"85\" y1=\"78.9375\" y2=\"78.9375\"/></a><!--MD5=[09b614a08d8cba4a07c9adeb5e0fee81]\n",
       "class E3--><a href=\"psysml:51ecbb7c-6db5-4069-ae0d-bb60efd47f9e\" target=\"_top\" title=\"psysml:51ecbb7c-6db5-4069-ae0d-bb60efd47f9e\" xlink:actuate=\"onRequest\" xlink:href=\"psysml:51ecbb7c-6db5-4069-ae0d-bb60efd47f9e\" xlink:show=\"new\" xlink:title=\"psysml:51ecbb7c-6db5-4069-ae0d-bb60efd47f9e\" xlink:type=\"simple\"><rect fill=\"#FFFFFF\" height=\"45.9375\" id=\"E3\" rx=\"10\" ry=\"10\" style=\"stroke: #383838; stroke-width: 1.5;\" width=\"42\" x=\"158\" y=\"41\"/><text fill=\"#000000\" font-family=\"sans-serif\" font-size=\"12\" font-style=\"italic\" lengthAdjust=\"spacingAndGlyphs\" textLength=\"40\" x=\"159\" y=\"57.1387\">«part»</text><text fill=\"#000000\" font-family=\"sans-serif\" font-size=\"12\" lengthAdjust=\"spacingAndGlyphs\" textLength=\"8\" x=\"175\" y=\"71.1074\">a</text><line style=\"stroke: #383838; stroke-width: 1.5;\" x1=\"159\" x2=\"199\" y1=\"78.9375\" y2=\"78.9375\"/></a><!--MD5=[ebbe1d658d1005bcc118a6aa81145e00]\n",
       "class E4--><a href=\"psysml:5da665e6-dcc7-4321-8fa9-423e89fca153\" target=\"_top\" title=\"psysml:5da665e6-dcc7-4321-8fa9-423e89fca153\" xlink:actuate=\"onRequest\" xlink:href=\"psysml:5da665e6-dcc7-4321-8fa9-423e89fca153\" xlink:show=\"new\" xlink:title=\"psysml:5da665e6-dcc7-4321-8fa9-423e89fca153\" xlink:type=\"simple\"><rect fill=\"#FFFFFF\" height=\"45.9375\" id=\"E4\" style=\"stroke: #383838; stroke-width: 1.5;\" width=\"66\" x=\"32\" y=\"122\"/><text fill=\"#000000\" font-family=\"sans-serif\" font-size=\"12\" font-style=\"italic\" lengthAdjust=\"spacingAndGlyphs\" textLength=\"64\" x=\"33\" y=\"138.1387\">«part def»</text><text fill=\"#000000\" font-family=\"sans-serif\" font-size=\"12\" lengthAdjust=\"spacingAndGlyphs\" textLength=\"8\" x=\"61\" y=\"152.1074\">C</text><line style=\"stroke: #383838; stroke-width: 1.5;\" x1=\"33\" x2=\"97\" y1=\"159.9375\" y2=\"159.9375\"/></a><!--MD5=[270fce915f116d4de14055a7c1d9a0f3]\n",
       "class E5--><a href=\"psysml:ed499477-fca6-4979-bffe-7845725436ef\" target=\"_top\" title=\"psysml:ed499477-fca6-4979-bffe-7845725436ef\" xlink:actuate=\"onRequest\" xlink:href=\"psysml:ed499477-fca6-4979-bffe-7845725436ef\" xlink:show=\"new\" xlink:title=\"psysml:ed499477-fca6-4979-bffe-7845725436ef\" xlink:type=\"simple\"><rect fill=\"#FFFFFF\" height=\"45.9375\" id=\"E5\" rx=\"10\" ry=\"10\" style=\"stroke: #383838; stroke-width: 1.5;\" width=\"42\" x=\"158\" y=\"122\"/><text fill=\"#000000\" font-family=\"sans-serif\" font-size=\"12\" font-style=\"italic\" lengthAdjust=\"spacingAndGlyphs\" textLength=\"40\" x=\"159\" y=\"138.1387\">«part»</text><text fill=\"#000000\" font-family=\"sans-serif\" font-size=\"12\" lengthAdjust=\"spacingAndGlyphs\" textLength=\"8\" x=\"175\" y=\"152.1074\">g</text><line style=\"stroke: #383838; stroke-width: 1.5;\" x1=\"159\" x2=\"199\" y1=\"159.9375\" y2=\"159.9375\"/></a><!--MD5=[209b3feb70ccb6233bfe1053d122c12c]\n",
       "reverse link E2 to E3--><a href=\"psysml:51ecbb7c-6db5-4069-ae0d-bb60efd47f9e\" target=\"_top\" title=\"psysml:51ecbb7c-6db5-4069-ae0d-bb60efd47f9e\" xlink:actuate=\"onRequest\" xlink:href=\"psysml:51ecbb7c-6db5-4069-ae0d-bb60efd47f9e\" xlink:show=\"new\" xlink:title=\"psysml:51ecbb7c-6db5-4069-ae0d-bb60efd47f9e\" xlink:type=\"simple\"><path d=\"M99.26,64 C118.27,64 141.49,64 157.77,64 \" fill=\"none\" id=\"E2&lt;-E3\" style=\"stroke: #383838; stroke-width: 1.0;\"/><polygon fill=\"#383838\" points=\"86.02,64,92.02,68,98.02,64,92.02,60,86.02,64\" style=\"stroke: #383838; stroke-width: 1.0;\"/></a><!--MD5=[62aa6af11e70f752912c1cb0466f24f7]\n",
       "reverse link E4 to E5--><a href=\"psysml:ed499477-fca6-4979-bffe-7845725436ef\" target=\"_top\" title=\"psysml:ed499477-fca6-4979-bffe-7845725436ef\" xlink:actuate=\"onRequest\" xlink:href=\"psysml:ed499477-fca6-4979-bffe-7845725436ef\" xlink:show=\"new\" xlink:title=\"psysml:ed499477-fca6-4979-bffe-7845725436ef\" xlink:type=\"simple\"><path d=\"M111.28,145 C127.47,145 144.9,145 157.89,145 \" fill=\"none\" id=\"E4&lt;-E5\" style=\"stroke: #383838; stroke-width: 1.0;\"/><polygon fill=\"#383838\" points=\"98.09,145,104.09,149,110.09,145,104.09,141,98.09,145\" style=\"stroke: #383838; stroke-width: 1.0;\"/></a><!--MD5=[e71fc2e74a8568b8a4332cf6f5af8322]\n",
       "@startuml\r\n",
       "left to right direction\r\n",
       "skinparam monochrome true\r\n",
       "skinparam classbackgroundcolor white\r\n",
       "skinparam shadowing false\r\n",
       "skinparam wrapWidth 300\r\n",
       "hide circle\r\n",
       "\r\n",
       "package \"Q\" as E1  [[psysml:ef9b7028-f6bf-447e-864f-9dad0bdce88c ]]  {\r\n",
       "comp usage \"f\" as E2  <<(T,blue)part>> [[psysml:4239e231-7164-4547-a8e1-ba39f4362efb ]] {\r\n",
       "}\r\n",
       "comp usage \"a\" as E3  <<(T,blue)part>> [[psysml:51ecbb7c-6db5-4069-ae0d-bb60efd47f9e ]] {\r\n",
       "}\r\n",
       "comp def \"C\" as E4  <<(T,blue)part def>> [[psysml:5da665e6-dcc7-4321-8fa9-423e89fca153 ]] {\r\n",
       "}\r\n",
       "comp usage \"g\" as E5  <<(T,blue)part>> [[psysml:ed499477-fca6-4979-bffe-7845725436ef ]] {\r\n",
       "}\r\n",
       "E2 *- - E3 [[psysml:51ecbb7c-6db5-4069-ae0d-bb60efd47f9e ]] \r\n",
       "E4 *- - E5 [[psysml:ed499477-fca6-4979-bffe-7845725436ef ]] \r\n",
       "}\r\n",
       "@enduml\r\n",
       "\n",
       "PlantUML version 1.2020.13(Sat Jun 13 12:26:38 UTC 2020)\n",
       "(EPL source distribution)\n",
       "Java Runtime: OpenJDK Runtime Environment\n",
       "JVM: OpenJDK 64-Bit Server VM\n",
       "Default Encoding: UTF-8\n",
       "Language: en\n",
       "Country: null\n",
       "--></g></svg>"
      ]
     },
     "execution_count": 16,
     "metadata": {},
     "output_type": "execute_result"
    }
   ],
   "source": [
    "%viz --style=\"LR\" --view=\"Default\" \"Q\""
   ]
  },
  {
   "cell_type": "code",
   "execution_count": 17,
   "id": "wooden-gauge",
   "metadata": {
    "execution": {
     "iopub.execute_input": "2021-03-25T09:26:26.270923Z",
     "iopub.status.busy": "2021-03-25T09:26:26.270117Z",
     "iopub.status.idle": "2021-03-25T09:26:26.330227Z",
     "shell.execute_reply": "2021-03-25T09:26:26.329868Z"
    }
   },
   "outputs": [
    {
     "data": {
      "image/svg+xml": [
       "<?xml version=\"1.0\" encoding=\"UTF-8\" standalone=\"no\"?><svg xmlns=\"http://www.w3.org/2000/svg\" xmlns:xlink=\"http://www.w3.org/1999/xlink\" contentScriptType=\"application/ecmascript\" contentStyleType=\"text/css\" height=\"196px\" preserveAspectRatio=\"none\" style=\"width:238px;height:196px;\" version=\"1.1\" viewBox=\"0 0 238 196\" width=\"238px\" zoomAndPan=\"magnify\"><defs/><g><!--MD5=[fbc87193dbaf4d95561dea2c320d4a47]\n",
       "cluster E1--><a href=\"psysml:ef9b7028-f6bf-447e-864f-9dad0bdce88c\" target=\"_top\" title=\"psysml:ef9b7028-f6bf-447e-864f-9dad0bdce88c\" xlink:actuate=\"onRequest\" xlink:href=\"psysml:ef9b7028-f6bf-447e-864f-9dad0bdce88c\" xlink:show=\"new\" xlink:title=\"psysml:ef9b7028-f6bf-447e-864f-9dad0bdce88c\" xlink:type=\"simple\"><polygon fill=\"#FFFFFF\" points=\"16,6,34,6,41,28.2969,216,28.2969,216,184,16,184,16,6\" style=\"stroke: #000000; stroke-width: 1.5;\"/><line style=\"stroke: #000000; stroke-width: 1.5;\" x1=\"16\" x2=\"41\" y1=\"28.2969\" y2=\"28.2969\"/><text fill=\"#000000\" font-family=\"sans-serif\" font-size=\"14\" font-weight=\"bold\" lengthAdjust=\"spacingAndGlyphs\" textLength=\"12\" x=\"20\" y=\"20.9951\">Q</text></a><!--MD5=[b4997ac47864f28c2f74865a473b2911]\n",
       "class E2--><a href=\"psysml:4239e231-7164-4547-a8e1-ba39f4362efb\" target=\"_top\" title=\"psysml:4239e231-7164-4547-a8e1-ba39f4362efb\" xlink:actuate=\"onRequest\" xlink:href=\"psysml:4239e231-7164-4547-a8e1-ba39f4362efb\" xlink:show=\"new\" xlink:title=\"psysml:4239e231-7164-4547-a8e1-ba39f4362efb\" xlink:type=\"simple\"><rect fill=\"#FFFFFF\" height=\"45.9375\" id=\"E2\" rx=\"10\" ry=\"10\" style=\"stroke: #383838; stroke-width: 1.5;\" width=\"42\" x=\"44\" y=\"41\"/><text fill=\"#000000\" font-family=\"sans-serif\" font-size=\"12\" font-style=\"italic\" lengthAdjust=\"spacingAndGlyphs\" textLength=\"40\" x=\"45\" y=\"57.1387\">«part»</text><text fill=\"#000000\" font-family=\"sans-serif\" font-size=\"12\" lengthAdjust=\"spacingAndGlyphs\" textLength=\"4\" x=\"63\" y=\"71.1074\">f</text><line style=\"stroke: #383838; stroke-width: 1.5;\" x1=\"45\" x2=\"85\" y1=\"78.9375\" y2=\"78.9375\"/></a><!--MD5=[09b614a08d8cba4a07c9adeb5e0fee81]\n",
       "class E3--><a href=\"psysml:51ecbb7c-6db5-4069-ae0d-bb60efd47f9e\" target=\"_top\" title=\"psysml:51ecbb7c-6db5-4069-ae0d-bb60efd47f9e\" xlink:actuate=\"onRequest\" xlink:href=\"psysml:51ecbb7c-6db5-4069-ae0d-bb60efd47f9e\" xlink:show=\"new\" xlink:title=\"psysml:51ecbb7c-6db5-4069-ae0d-bb60efd47f9e\" xlink:type=\"simple\"><rect fill=\"#FFFFFF\" height=\"45.9375\" id=\"E3\" rx=\"10\" ry=\"10\" style=\"stroke: #383838; stroke-width: 1.5;\" width=\"42\" x=\"158\" y=\"41\"/><text fill=\"#000000\" font-family=\"sans-serif\" font-size=\"12\" font-style=\"italic\" lengthAdjust=\"spacingAndGlyphs\" textLength=\"40\" x=\"159\" y=\"57.1387\">«part»</text><text fill=\"#000000\" font-family=\"sans-serif\" font-size=\"12\" lengthAdjust=\"spacingAndGlyphs\" textLength=\"8\" x=\"175\" y=\"71.1074\">a</text><line style=\"stroke: #383838; stroke-width: 1.5;\" x1=\"159\" x2=\"199\" y1=\"78.9375\" y2=\"78.9375\"/></a><!--MD5=[ebbe1d658d1005bcc118a6aa81145e00]\n",
       "class E4--><a href=\"psysml:5da665e6-dcc7-4321-8fa9-423e89fca153\" target=\"_top\" title=\"psysml:5da665e6-dcc7-4321-8fa9-423e89fca153\" xlink:actuate=\"onRequest\" xlink:href=\"psysml:5da665e6-dcc7-4321-8fa9-423e89fca153\" xlink:show=\"new\" xlink:title=\"psysml:5da665e6-dcc7-4321-8fa9-423e89fca153\" xlink:type=\"simple\"><rect fill=\"#FFFFFF\" height=\"45.9375\" id=\"E4\" style=\"stroke: #383838; stroke-width: 1.5;\" width=\"66\" x=\"32\" y=\"122\"/><text fill=\"#000000\" font-family=\"sans-serif\" font-size=\"12\" font-style=\"italic\" lengthAdjust=\"spacingAndGlyphs\" textLength=\"64\" x=\"33\" y=\"138.1387\">«part def»</text><text fill=\"#000000\" font-family=\"sans-serif\" font-size=\"12\" lengthAdjust=\"spacingAndGlyphs\" textLength=\"8\" x=\"61\" y=\"152.1074\">C</text><line style=\"stroke: #383838; stroke-width: 1.5;\" x1=\"33\" x2=\"97\" y1=\"159.9375\" y2=\"159.9375\"/></a><!--MD5=[270fce915f116d4de14055a7c1d9a0f3]\n",
       "class E5--><a href=\"psysml:ed499477-fca6-4979-bffe-7845725436ef\" target=\"_top\" title=\"psysml:ed499477-fca6-4979-bffe-7845725436ef\" xlink:actuate=\"onRequest\" xlink:href=\"psysml:ed499477-fca6-4979-bffe-7845725436ef\" xlink:show=\"new\" xlink:title=\"psysml:ed499477-fca6-4979-bffe-7845725436ef\" xlink:type=\"simple\"><rect fill=\"#FFFFFF\" height=\"45.9375\" id=\"E5\" rx=\"10\" ry=\"10\" style=\"stroke: #383838; stroke-width: 1.5;\" width=\"42\" x=\"158\" y=\"122\"/><text fill=\"#000000\" font-family=\"sans-serif\" font-size=\"12\" font-style=\"italic\" lengthAdjust=\"spacingAndGlyphs\" textLength=\"40\" x=\"159\" y=\"138.1387\">«part»</text><text fill=\"#000000\" font-family=\"sans-serif\" font-size=\"12\" lengthAdjust=\"spacingAndGlyphs\" textLength=\"8\" x=\"175\" y=\"152.1074\">g</text><line style=\"stroke: #383838; stroke-width: 1.5;\" x1=\"159\" x2=\"199\" y1=\"159.9375\" y2=\"159.9375\"/></a><!--MD5=[209b3feb70ccb6233bfe1053d122c12c]\n",
       "reverse link E2 to E3--><a href=\"psysml:51ecbb7c-6db5-4069-ae0d-bb60efd47f9e\" target=\"_top\" title=\"psysml:51ecbb7c-6db5-4069-ae0d-bb60efd47f9e\" xlink:actuate=\"onRequest\" xlink:href=\"psysml:51ecbb7c-6db5-4069-ae0d-bb60efd47f9e\" xlink:show=\"new\" xlink:title=\"psysml:51ecbb7c-6db5-4069-ae0d-bb60efd47f9e\" xlink:type=\"simple\"><path d=\"M99.26,64 C118.27,64 141.49,64 157.77,64 \" fill=\"none\" id=\"E2&lt;-E3\" style=\"stroke: #383838; stroke-width: 1.0;\"/><polygon fill=\"#383838\" points=\"86.02,64,92.02,68,98.02,64,92.02,60,86.02,64\" style=\"stroke: #383838; stroke-width: 1.0;\"/></a><!--MD5=[62aa6af11e70f752912c1cb0466f24f7]\n",
       "reverse link E4 to E5--><a href=\"psysml:ed499477-fca6-4979-bffe-7845725436ef\" target=\"_top\" title=\"psysml:ed499477-fca6-4979-bffe-7845725436ef\" xlink:actuate=\"onRequest\" xlink:href=\"psysml:ed499477-fca6-4979-bffe-7845725436ef\" xlink:show=\"new\" xlink:title=\"psysml:ed499477-fca6-4979-bffe-7845725436ef\" xlink:type=\"simple\"><path d=\"M111.28,145 C127.47,145 144.9,145 157.89,145 \" fill=\"none\" id=\"E4&lt;-E5\" style=\"stroke: #383838; stroke-width: 1.0;\"/><polygon fill=\"#383838\" points=\"98.09,145,104.09,149,110.09,145,104.09,141,98.09,145\" style=\"stroke: #383838; stroke-width: 1.0;\"/></a><!--MD5=[e71fc2e74a8568b8a4332cf6f5af8322]\n",
       "@startuml\r\n",
       "left to right direction\r\n",
       "skinparam monochrome true\r\n",
       "skinparam classbackgroundcolor white\r\n",
       "skinparam shadowing false\r\n",
       "skinparam wrapWidth 300\r\n",
       "hide circle\r\n",
       "\r\n",
       "package \"Q\" as E1  [[psysml:ef9b7028-f6bf-447e-864f-9dad0bdce88c ]]  {\r\n",
       "comp usage \"f\" as E2  <<(T,blue)part>> [[psysml:4239e231-7164-4547-a8e1-ba39f4362efb ]] {\r\n",
       "}\r\n",
       "comp usage \"a\" as E3  <<(T,blue)part>> [[psysml:51ecbb7c-6db5-4069-ae0d-bb60efd47f9e ]] {\r\n",
       "}\r\n",
       "comp def \"C\" as E4  <<(T,blue)part def>> [[psysml:5da665e6-dcc7-4321-8fa9-423e89fca153 ]] {\r\n",
       "}\r\n",
       "comp usage \"g\" as E5  <<(T,blue)part>> [[psysml:ed499477-fca6-4979-bffe-7845725436ef ]] {\r\n",
       "}\r\n",
       "E2 *- - E3 [[psysml:51ecbb7c-6db5-4069-ae0d-bb60efd47f9e ]] \r\n",
       "E4 *- - E5 [[psysml:ed499477-fca6-4979-bffe-7845725436ef ]] \r\n",
       "}\r\n",
       "@enduml\r\n",
       "\n",
       "PlantUML version 1.2020.13(Sat Jun 13 12:26:38 UTC 2020)\n",
       "(EPL source distribution)\n",
       "Java Runtime: OpenJDK Runtime Environment\n",
       "JVM: OpenJDK 64-Bit Server VM\n",
       "Default Encoding: UTF-8\n",
       "Language: en\n",
       "Country: null\n",
       "--></g></svg>"
      ]
     },
     "execution_count": 17,
     "metadata": {},
     "output_type": "execute_result"
    }
   ],
   "source": [
    "%viz --style=\"LR\" --view=\"Tree\" \"Q\""
   ]
  },
  {
   "cell_type": "code",
   "execution_count": 18,
   "id": "increased-apparel",
   "metadata": {
    "execution": {
     "iopub.execute_input": "2021-03-25T09:26:26.382519Z",
     "iopub.status.busy": "2021-03-25T09:26:26.381956Z",
     "iopub.status.idle": "2021-03-25T09:26:26.390766Z",
     "shell.execute_reply": "2021-03-25T09:26:26.391225Z"
    }
   },
   "outputs": [
    {
     "data": {
      "image/svg+xml": [
       "<?xml version=\"1.0\" encoding=\"UTF-8\" standalone=\"no\"?><svg xmlns=\"http://www.w3.org/2000/svg\" xmlns:xlink=\"http://www.w3.org/1999/xlink\" contentScriptType=\"application/ecmascript\" contentStyleType=\"text/css\" height=\"12px\" preserveAspectRatio=\"none\" style=\"width:12px;height:12px;\" version=\"1.1\" viewBox=\"0 0 12 12\" width=\"12px\" zoomAndPan=\"magnify\"><defs/><g><!--MD5=[19d285c9d72a204eba4e2cd117d745e8]\n",
       "@startuml\r\n",
       "left to right direction\r\n",
       "skinparam monochrome true\r\n",
       "skinparam classbackgroundcolor white\r\n",
       "skinparam shadowing false\r\n",
       "skinparam wrapWidth 300\r\n",
       "hide circle\r\n",
       "\r\n",
       "@enduml\r\n",
       "\n",
       "PlantUML version 1.2020.13(Sat Jun 13 12:26:38 UTC 2020)\n",
       "(EPL source distribution)\n",
       "Java Runtime: OpenJDK Runtime Environment\n",
       "JVM: OpenJDK 64-Bit Server VM\n",
       "Default Encoding: UTF-8\n",
       "Language: en\n",
       "Country: null\n",
       "--></g></svg>"
      ]
     },
     "execution_count": 18,
     "metadata": {},
     "output_type": "execute_result"
    }
   ],
   "source": [
    "%viz --style=\"LR\" --view=\"State\" \"Q\""
   ]
  },
  {
   "cell_type": "code",
   "execution_count": 19,
   "id": "warming-start",
   "metadata": {
    "execution": {
     "iopub.execute_input": "2021-03-25T09:26:26.444170Z",
     "iopub.status.busy": "2021-03-25T09:26:26.443545Z",
     "iopub.status.idle": "2021-03-25T09:26:26.510246Z",
     "shell.execute_reply": "2021-03-25T09:26:26.508909Z"
    }
   },
   "outputs": [
    {
     "data": {
      "image/svg+xml": [
       "<?xml version=\"1.0\" encoding=\"UTF-8\" standalone=\"no\"?><svg xmlns=\"http://www.w3.org/2000/svg\" xmlns:xlink=\"http://www.w3.org/1999/xlink\" contentScriptType=\"application/ecmascript\" contentStyleType=\"text/css\" height=\"307px\" preserveAspectRatio=\"none\" style=\"width:173px;height:307px;\" version=\"1.1\" viewBox=\"0 0 173 307\" width=\"173px\" zoomAndPan=\"magnify\"><defs/><g><!--MD5=[fbc87193dbaf4d95561dea2c320d4a47]\n",
       "cluster E1--><a href=\"psysml:ef9b7028-f6bf-447e-864f-9dad0bdce88c\" target=\"_top\" title=\"psysml:ef9b7028-f6bf-447e-864f-9dad0bdce88c\" xlink:actuate=\"onRequest\" xlink:href=\"psysml:ef9b7028-f6bf-447e-864f-9dad0bdce88c\" xlink:show=\"new\" xlink:title=\"psysml:ef9b7028-f6bf-447e-864f-9dad0bdce88c\" xlink:type=\"simple\"><polygon fill=\"#FFFFFF\" points=\"16,6,34,6,41,28.2969,151,28.2969,151,295,16,295,16,6\" style=\"stroke: #000000; stroke-width: 1.5;\"/><line style=\"stroke: #000000; stroke-width: 1.5;\" x1=\"16\" x2=\"41\" y1=\"28.2969\" y2=\"28.2969\"/><text fill=\"#000000\" font-family=\"sans-serif\" font-size=\"14\" font-weight=\"bold\" lengthAdjust=\"spacingAndGlyphs\" textLength=\"12\" x=\"20\" y=\"20.9951\">Q</text></a><!--MD5=[e4f7fae6ed58524ba242bb0b0d3be6b7]\n",
       "cluster E2--><a href=\"psysml:4239e231-7164-4547-a8e1-ba39f4362efb\" target=\"_top\" title=\"psysml:4239e231-7164-4547-a8e1-ba39f4362efb\" xlink:actuate=\"onRequest\" xlink:href=\"psysml:4239e231-7164-4547-a8e1-ba39f4362efb\" xlink:show=\"new\" xlink:title=\"psysml:4239e231-7164-4547-a8e1-ba39f4362efb\" xlink:type=\"simple\"><rect fill=\"#FFFFFF\" height=\"91\" id=\"E2\" rx=\"10\" ry=\"10\" style=\"stroke: #383838; stroke-width: 1.5;\" width=\"82\" x=\"42\" y=\"49\"/><rect fill=\"#F8F8F8\" height=\"23.9688\" rx=\"10\" ry=\"10\" style=\"stroke: #F8F8F8; stroke-width: 1.5;\" width=\"82\" x=\"42\" y=\"49\"/><rect fill=\"#F8F8F8\" height=\"10\" style=\"stroke: #F8F8F8; stroke-width: 1.5;\" width=\"82\" x=\"42\" y=\"62.9688\"/><rect fill=\"none\" height=\"91\" id=\"E2\" rx=\"10\" ry=\"10\" style=\"stroke: #383838; stroke-width: 1.5;\" width=\"82\" x=\"42\" y=\"49\"/><text fill=\"#000000\" font-family=\"sans-serif\" font-size=\"12\" lengthAdjust=\"spacingAndGlyphs\" textLength=\"4\" x=\"81\" y=\"65.1387\">f</text><line style=\"stroke: #383838; stroke-width: 1.0;\" x1=\"42\" x2=\"124\" y1=\"72.9688\" y2=\"72.9688\"/></a><!--MD5=[f6df4d0ebaf0b5dfb2ced0ae5af7c670]\n",
       "cluster E4--><a href=\"psysml:5da665e6-dcc7-4321-8fa9-423e89fca153\" target=\"_top\" title=\"psysml:5da665e6-dcc7-4321-8fa9-423e89fca153\" xlink:actuate=\"onRequest\" xlink:href=\"psysml:5da665e6-dcc7-4321-8fa9-423e89fca153\" xlink:show=\"new\" xlink:title=\"psysml:5da665e6-dcc7-4321-8fa9-423e89fca153\" xlink:type=\"simple\"><rect fill=\"#FFFFFF\" height=\"107\" id=\"E4\" style=\"stroke: #383838; stroke-width: 1.5;\" width=\"87\" x=\"40\" y=\"164\"/><rect fill=\"#F8F8F8\" height=\"37.9375\" style=\"stroke: #383838; stroke-width: 1.5;\" width=\"87\" x=\"40\" y=\"164\"/><text fill=\"#000000\" font-family=\"sans-serif\" font-size=\"12\" font-style=\"italic\" lengthAdjust=\"spacingAndGlyphs\" textLength=\"64\" x=\"51.5\" y=\"180.1387\">«part def»</text><text fill=\"#000000\" font-family=\"sans-serif\" font-size=\"12\" lengthAdjust=\"spacingAndGlyphs\" textLength=\"8\" x=\"79.5\" y=\"194.1074\">C</text></a><g id=\"E1.E2.E3\"><a href=\"psysml:51ecbb7c-6db5-4069-ae0d-bb60efd47f9e\" target=\"_top\" title=\"psysml:51ecbb7c-6db5-4069-ae0d-bb60efd47f9e\" xlink:actuate=\"onRequest\" xlink:href=\"psysml:51ecbb7c-6db5-4069-ae0d-bb60efd47f9e\" xlink:show=\"new\" xlink:title=\"psysml:51ecbb7c-6db5-4069-ae0d-bb60efd47f9e\" xlink:type=\"simple\"><rect fill=\"#FFFFFF\" height=\"40\" id=\"E3\" rx=\"10\" ry=\"10\" style=\"stroke: #383838; stroke-width: 1.5;\" width=\"50\" x=\"58\" y=\"84\"/><rect fill=\"#F8F8F8\" height=\"23.9688\" rx=\"10\" ry=\"10\" style=\"stroke: #F8F8F8; stroke-width: 1.5;\" width=\"50\" x=\"58\" y=\"84\"/><rect fill=\"#F8F8F8\" height=\"10\" style=\"stroke: #F8F8F8; stroke-width: 1.5;\" width=\"50\" x=\"58\" y=\"97.9688\"/><rect fill=\"none\" height=\"40\" id=\"E3\" rx=\"10\" ry=\"10\" style=\"stroke: #383838; stroke-width: 1.5;\" width=\"50\" x=\"58\" y=\"84\"/><text fill=\"#000000\" font-family=\"sans-serif\" font-size=\"12\" lengthAdjust=\"spacingAndGlyphs\" textLength=\"8\" x=\"79\" y=\"100.1387\">a</text></a></g><g id=\"E1.E4.E5\"><a href=\"psysml:ed499477-fca6-4979-bffe-7845725436ef\" target=\"_top\" title=\"psysml:ed499477-fca6-4979-bffe-7845725436ef\" xlink:actuate=\"onRequest\" xlink:href=\"psysml:ed499477-fca6-4979-bffe-7845725436ef\" xlink:show=\"new\" xlink:title=\"psysml:ed499477-fca6-4979-bffe-7845725436ef\" xlink:type=\"simple\"><rect fill=\"#FFFFFF\" height=\"40\" id=\"E5\" rx=\"10\" ry=\"10\" style=\"stroke: #383838; stroke-width: 1.5;\" width=\"50\" x=\"58\" y=\"215\"/><rect fill=\"#F8F8F8\" height=\"23.9688\" rx=\"10\" ry=\"10\" style=\"stroke: #F8F8F8; stroke-width: 1.5;\" width=\"50\" x=\"58\" y=\"215\"/><rect fill=\"#F8F8F8\" height=\"10\" style=\"stroke: #F8F8F8; stroke-width: 1.5;\" width=\"50\" x=\"58\" y=\"228.9688\"/><rect fill=\"none\" height=\"40\" id=\"E5\" rx=\"10\" ry=\"10\" style=\"stroke: #383838; stroke-width: 1.5;\" width=\"50\" x=\"58\" y=\"215\"/><text fill=\"#000000\" font-family=\"sans-serif\" font-size=\"12\" lengthAdjust=\"spacingAndGlyphs\" textLength=\"8\" x=\"79\" y=\"231.1387\">g</text></a></g><!--MD5=[05f17270858ea2d9ae021cc19ce2715c]\n",
       "@startuml\r\n",
       "skinparam ranksep 8\r\n",
       "skinparam rectangle {\r\n",
       " backgroundColor<<block>> LightGreen\r\n",
       "}\r\n",
       "left to right direction\r\n",
       "skinparam monochrome true\r\n",
       "skinparam classbackgroundcolor white\r\n",
       "skinparam shadowing false\r\n",
       "skinparam wrapWidth 300\r\n",
       "hide circle\r\n",
       "\r\n",
       "package \"Q\" as E1  [[psysml:ef9b7028-f6bf-447e-864f-9dad0bdce88c ]]  {\r\n",
       "rec usage \"f\" as E2  [[psysml:4239e231-7164-4547-a8e1-ba39f4362efb ]] {\r\n",
       "rec usage \"a\" as E3  [[psysml:51ecbb7c-6db5-4069-ae0d-bb60efd47f9e ]] {\r\n",
       "}\r\n",
       "}\r\n",
       "rec def \"C\" as E4  <<(T,blue)part def>> [[psysml:5da665e6-dcc7-4321-8fa9-423e89fca153 ]] {\r\n",
       "rec usage \"g\" as E5  [[psysml:ed499477-fca6-4979-bffe-7845725436ef ]] {\r\n",
       "}\r\n",
       "}\r\n",
       "}\r\n",
       "@enduml\r\n",
       "\n",
       "PlantUML version 1.2020.13(Sat Jun 13 12:26:38 UTC 2020)\n",
       "(EPL source distribution)\n",
       "Java Runtime: OpenJDK Runtime Environment\n",
       "JVM: OpenJDK 64-Bit Server VM\n",
       "Default Encoding: UTF-8\n",
       "Language: en\n",
       "Country: null\n",
       "--></g></svg>"
      ]
     },
     "execution_count": 19,
     "metadata": {},
     "output_type": "execute_result"
    }
   ],
   "source": [
    "%viz --style=\"LR\" --view=\"Interconnection\" \"Q\""
   ]
  },
  {
   "cell_type": "code",
   "execution_count": 20,
   "id": "lasting-pricing",
   "metadata": {
    "execution": {
     "iopub.execute_input": "2021-03-25T09:26:26.562335Z",
     "iopub.status.busy": "2021-03-25T09:26:26.561697Z",
     "iopub.status.idle": "2021-03-25T09:26:26.570075Z",
     "shell.execute_reply": "2021-03-25T09:26:26.570584Z"
    }
   },
   "outputs": [
    {
     "data": {
      "image/svg+xml": [
       "<?xml version=\"1.0\" encoding=\"UTF-8\" standalone=\"no\"?><svg xmlns=\"http://www.w3.org/2000/svg\" xmlns:xlink=\"http://www.w3.org/1999/xlink\" contentScriptType=\"application/ecmascript\" contentStyleType=\"text/css\" height=\"12px\" preserveAspectRatio=\"none\" style=\"width:12px;height:12px;\" version=\"1.1\" viewBox=\"0 0 12 12\" width=\"12px\" zoomAndPan=\"magnify\"><defs/><g><!--MD5=[7aeb398939421629f6affaa4a1a7b125]\n",
       "@startuml\r\n",
       "skinparam ranksep 8\r\n",
       "left to right direction\r\n",
       "skinparam monochrome true\r\n",
       "skinparam classbackgroundcolor white\r\n",
       "skinparam shadowing false\r\n",
       "skinparam wrapWidth 300\r\n",
       "hide circle\r\n",
       "\r\n",
       "@enduml\r\n",
       "\n",
       "PlantUML version 1.2020.13(Sat Jun 13 12:26:38 UTC 2020)\n",
       "(EPL source distribution)\n",
       "Java Runtime: OpenJDK Runtime Environment\n",
       "JVM: OpenJDK 64-Bit Server VM\n",
       "Default Encoding: UTF-8\n",
       "Language: en\n",
       "Country: null\n",
       "--></g></svg>"
      ]
     },
     "execution_count": 20,
     "metadata": {},
     "output_type": "execute_result"
    }
   ],
   "source": [
    "%viz --style=\"LR\" --view=\"Action\" \"Q\""
   ]
  },
  {
   "cell_type": "code",
   "execution_count": 21,
   "id": "accompanied-plaza",
   "metadata": {
    "execution": {
     "iopub.execute_input": "2021-03-25T09:26:26.624934Z",
     "iopub.status.busy": "2021-03-25T09:26:26.623936Z",
     "iopub.status.idle": "2021-03-25T09:26:26.679695Z",
     "shell.execute_reply": "2021-03-25T09:26:26.680087Z"
    }
   },
   "outputs": [
    {
     "data": {
      "image/svg+xml": [
       "<?xml version=\"1.0\" encoding=\"UTF-8\" standalone=\"no\"?><svg xmlns=\"http://www.w3.org/2000/svg\" xmlns:xlink=\"http://www.w3.org/1999/xlink\" contentScriptType=\"application/ecmascript\" contentStyleType=\"text/css\" height=\"196px\" preserveAspectRatio=\"none\" style=\"width:238px;height:196px;\" version=\"1.1\" viewBox=\"0 0 238 196\" width=\"238px\" zoomAndPan=\"magnify\"><defs/><g><!--MD5=[fbc87193dbaf4d95561dea2c320d4a47]\n",
       "cluster E1--><a href=\"psysml:ef9b7028-f6bf-447e-864f-9dad0bdce88c\" target=\"_top\" title=\"psysml:ef9b7028-f6bf-447e-864f-9dad0bdce88c\" xlink:actuate=\"onRequest\" xlink:href=\"psysml:ef9b7028-f6bf-447e-864f-9dad0bdce88c\" xlink:show=\"new\" xlink:title=\"psysml:ef9b7028-f6bf-447e-864f-9dad0bdce88c\" xlink:type=\"simple\"><polygon fill=\"#FFFFFF\" points=\"16,6,34,6,41,28.2969,216,28.2969,216,184,16,184,16,6\" style=\"stroke: #000000; stroke-width: 1.5;\"/><line style=\"stroke: #000000; stroke-width: 1.5;\" x1=\"16\" x2=\"41\" y1=\"28.2969\" y2=\"28.2969\"/><text fill=\"#000000\" font-family=\"sans-serif\" font-size=\"14\" font-weight=\"bold\" lengthAdjust=\"spacingAndGlyphs\" textLength=\"12\" x=\"20\" y=\"20.9951\">Q</text></a><!--MD5=[b4997ac47864f28c2f74865a473b2911]\n",
       "class E2--><a href=\"psysml:4239e231-7164-4547-a8e1-ba39f4362efb\" target=\"_top\" title=\"psysml:4239e231-7164-4547-a8e1-ba39f4362efb\" xlink:actuate=\"onRequest\" xlink:href=\"psysml:4239e231-7164-4547-a8e1-ba39f4362efb\" xlink:show=\"new\" xlink:title=\"psysml:4239e231-7164-4547-a8e1-ba39f4362efb\" xlink:type=\"simple\"><rect fill=\"#FFFFFF\" height=\"45.9375\" id=\"E2\" rx=\"10\" ry=\"10\" style=\"stroke: #383838; stroke-width: 1.5;\" width=\"42\" x=\"44\" y=\"41\"/><text fill=\"#000000\" font-family=\"sans-serif\" font-size=\"12\" font-style=\"italic\" lengthAdjust=\"spacingAndGlyphs\" textLength=\"40\" x=\"45\" y=\"57.1387\">«part»</text><text fill=\"#000000\" font-family=\"sans-serif\" font-size=\"12\" lengthAdjust=\"spacingAndGlyphs\" textLength=\"4\" x=\"63\" y=\"71.1074\">f</text><line style=\"stroke: #383838; stroke-width: 1.5;\" x1=\"45\" x2=\"85\" y1=\"78.9375\" y2=\"78.9375\"/></a><!--MD5=[09b614a08d8cba4a07c9adeb5e0fee81]\n",
       "class E3--><a href=\"psysml:51ecbb7c-6db5-4069-ae0d-bb60efd47f9e\" target=\"_top\" title=\"psysml:51ecbb7c-6db5-4069-ae0d-bb60efd47f9e\" xlink:actuate=\"onRequest\" xlink:href=\"psysml:51ecbb7c-6db5-4069-ae0d-bb60efd47f9e\" xlink:show=\"new\" xlink:title=\"psysml:51ecbb7c-6db5-4069-ae0d-bb60efd47f9e\" xlink:type=\"simple\"><rect fill=\"#FFFFFF\" height=\"45.9375\" id=\"E3\" rx=\"10\" ry=\"10\" style=\"stroke: #383838; stroke-width: 1.5;\" width=\"42\" x=\"158\" y=\"41\"/><text fill=\"#000000\" font-family=\"sans-serif\" font-size=\"12\" font-style=\"italic\" lengthAdjust=\"spacingAndGlyphs\" textLength=\"40\" x=\"159\" y=\"57.1387\">«part»</text><text fill=\"#000000\" font-family=\"sans-serif\" font-size=\"12\" lengthAdjust=\"spacingAndGlyphs\" textLength=\"8\" x=\"175\" y=\"71.1074\">a</text><line style=\"stroke: #383838; stroke-width: 1.5;\" x1=\"159\" x2=\"199\" y1=\"78.9375\" y2=\"78.9375\"/></a><!--MD5=[ebbe1d658d1005bcc118a6aa81145e00]\n",
       "class E4--><a href=\"psysml:5da665e6-dcc7-4321-8fa9-423e89fca153\" target=\"_top\" title=\"psysml:5da665e6-dcc7-4321-8fa9-423e89fca153\" xlink:actuate=\"onRequest\" xlink:href=\"psysml:5da665e6-dcc7-4321-8fa9-423e89fca153\" xlink:show=\"new\" xlink:title=\"psysml:5da665e6-dcc7-4321-8fa9-423e89fca153\" xlink:type=\"simple\"><rect fill=\"#FFFFFF\" height=\"45.9375\" id=\"E4\" style=\"stroke: #383838; stroke-width: 1.5;\" width=\"66\" x=\"32\" y=\"122\"/><text fill=\"#000000\" font-family=\"sans-serif\" font-size=\"12\" font-style=\"italic\" lengthAdjust=\"spacingAndGlyphs\" textLength=\"64\" x=\"33\" y=\"138.1387\">«part def»</text><text fill=\"#000000\" font-family=\"sans-serif\" font-size=\"12\" lengthAdjust=\"spacingAndGlyphs\" textLength=\"8\" x=\"61\" y=\"152.1074\">C</text><line style=\"stroke: #383838; stroke-width: 1.5;\" x1=\"33\" x2=\"97\" y1=\"159.9375\" y2=\"159.9375\"/></a><!--MD5=[270fce915f116d4de14055a7c1d9a0f3]\n",
       "class E5--><a href=\"psysml:ed499477-fca6-4979-bffe-7845725436ef\" target=\"_top\" title=\"psysml:ed499477-fca6-4979-bffe-7845725436ef\" xlink:actuate=\"onRequest\" xlink:href=\"psysml:ed499477-fca6-4979-bffe-7845725436ef\" xlink:show=\"new\" xlink:title=\"psysml:ed499477-fca6-4979-bffe-7845725436ef\" xlink:type=\"simple\"><rect fill=\"#FFFFFF\" height=\"45.9375\" id=\"E5\" rx=\"10\" ry=\"10\" style=\"stroke: #383838; stroke-width: 1.5;\" width=\"42\" x=\"158\" y=\"122\"/><text fill=\"#000000\" font-family=\"sans-serif\" font-size=\"12\" font-style=\"italic\" lengthAdjust=\"spacingAndGlyphs\" textLength=\"40\" x=\"159\" y=\"138.1387\">«part»</text><text fill=\"#000000\" font-family=\"sans-serif\" font-size=\"12\" lengthAdjust=\"spacingAndGlyphs\" textLength=\"8\" x=\"175\" y=\"152.1074\">g</text><line style=\"stroke: #383838; stroke-width: 1.5;\" x1=\"159\" x2=\"199\" y1=\"159.9375\" y2=\"159.9375\"/></a><!--MD5=[209b3feb70ccb6233bfe1053d122c12c]\n",
       "reverse link E2 to E3--><a href=\"psysml:51ecbb7c-6db5-4069-ae0d-bb60efd47f9e\" target=\"_top\" title=\"psysml:51ecbb7c-6db5-4069-ae0d-bb60efd47f9e\" xlink:actuate=\"onRequest\" xlink:href=\"psysml:51ecbb7c-6db5-4069-ae0d-bb60efd47f9e\" xlink:show=\"new\" xlink:title=\"psysml:51ecbb7c-6db5-4069-ae0d-bb60efd47f9e\" xlink:type=\"simple\"><path d=\"M99.26,64 C118.27,64 141.49,64 157.77,64 \" fill=\"none\" id=\"E2&lt;-E3\" style=\"stroke: #383838; stroke-width: 1.0;\"/><polygon fill=\"#383838\" points=\"86.02,64,92.02,68,98.02,64,92.02,60,86.02,64\" style=\"stroke: #383838; stroke-width: 1.0;\"/></a><!--MD5=[62aa6af11e70f752912c1cb0466f24f7]\n",
       "reverse link E4 to E5--><a href=\"psysml:ed499477-fca6-4979-bffe-7845725436ef\" target=\"_top\" title=\"psysml:ed499477-fca6-4979-bffe-7845725436ef\" xlink:actuate=\"onRequest\" xlink:href=\"psysml:ed499477-fca6-4979-bffe-7845725436ef\" xlink:show=\"new\" xlink:title=\"psysml:ed499477-fca6-4979-bffe-7845725436ef\" xlink:type=\"simple\"><path d=\"M111.28,145 C127.47,145 144.9,145 157.89,145 \" fill=\"none\" id=\"E4&lt;-E5\" style=\"stroke: #383838; stroke-width: 1.0;\"/><polygon fill=\"#383838\" points=\"98.09,145,104.09,149,110.09,145,104.09,141,98.09,145\" style=\"stroke: #383838; stroke-width: 1.0;\"/></a><!--MD5=[e71fc2e74a8568b8a4332cf6f5af8322]\n",
       "@startuml\r\n",
       "left to right direction\r\n",
       "skinparam monochrome true\r\n",
       "skinparam classbackgroundcolor white\r\n",
       "skinparam shadowing false\r\n",
       "skinparam wrapWidth 300\r\n",
       "hide circle\r\n",
       "\r\n",
       "package \"Q\" as E1  [[psysml:ef9b7028-f6bf-447e-864f-9dad0bdce88c ]]  {\r\n",
       "comp usage \"f\" as E2  <<(T,blue)part>> [[psysml:4239e231-7164-4547-a8e1-ba39f4362efb ]] {\r\n",
       "}\r\n",
       "comp usage \"a\" as E3  <<(T,blue)part>> [[psysml:51ecbb7c-6db5-4069-ae0d-bb60efd47f9e ]] {\r\n",
       "}\r\n",
       "comp def \"C\" as E4  <<(T,blue)part def>> [[psysml:5da665e6-dcc7-4321-8fa9-423e89fca153 ]] {\r\n",
       "}\r\n",
       "comp usage \"g\" as E5  <<(T,blue)part>> [[psysml:ed499477-fca6-4979-bffe-7845725436ef ]] {\r\n",
       "}\r\n",
       "E2 *- - E3 [[psysml:51ecbb7c-6db5-4069-ae0d-bb60efd47f9e ]] \r\n",
       "E4 *- - E5 [[psysml:ed499477-fca6-4979-bffe-7845725436ef ]] \r\n",
       "}\r\n",
       "@enduml\r\n",
       "\n",
       "PlantUML version 1.2020.13(Sat Jun 13 12:26:38 UTC 2020)\n",
       "(EPL source distribution)\n",
       "Java Runtime: OpenJDK Runtime Environment\n",
       "JVM: OpenJDK 64-Bit Server VM\n",
       "Default Encoding: UTF-8\n",
       "Language: en\n",
       "Country: null\n",
       "--></g></svg>"
      ]
     },
     "execution_count": 21,
     "metadata": {},
     "output_type": "execute_result"
    }
   ],
   "source": [
    "%viz --style=\"LR\" --view=\"Sequence\" \"Q\""
   ]
  },
  {
   "cell_type": "code",
   "execution_count": 22,
   "id": "comparative-saint",
   "metadata": {
    "execution": {
     "iopub.execute_input": "2021-03-25T09:26:26.734027Z",
     "iopub.status.busy": "2021-03-25T09:26:26.733325Z",
     "iopub.status.idle": "2021-03-25T09:26:26.788141Z",
     "shell.execute_reply": "2021-03-25T09:26:26.786678Z"
    }
   },
   "outputs": [
    {
     "data": {
      "image/svg+xml": [
       "<?xml version=\"1.0\" encoding=\"UTF-8\" standalone=\"no\"?><svg xmlns=\"http://www.w3.org/2000/svg\" xmlns:xlink=\"http://www.w3.org/1999/xlink\" contentScriptType=\"application/ecmascript\" contentStyleType=\"text/css\" height=\"196px\" preserveAspectRatio=\"none\" style=\"width:238px;height:196px;\" version=\"1.1\" viewBox=\"0 0 238 196\" width=\"238px\" zoomAndPan=\"magnify\"><defs/><g><!--MD5=[fbc87193dbaf4d95561dea2c320d4a47]\n",
       "cluster E1--><a href=\"psysml:ef9b7028-f6bf-447e-864f-9dad0bdce88c\" target=\"_top\" title=\"psysml:ef9b7028-f6bf-447e-864f-9dad0bdce88c\" xlink:actuate=\"onRequest\" xlink:href=\"psysml:ef9b7028-f6bf-447e-864f-9dad0bdce88c\" xlink:show=\"new\" xlink:title=\"psysml:ef9b7028-f6bf-447e-864f-9dad0bdce88c\" xlink:type=\"simple\"><polygon fill=\"#FFFFFF\" points=\"16,6,34,6,41,28.2969,216,28.2969,216,184,16,184,16,6\" style=\"stroke: #000000; stroke-width: 1.5;\"/><line style=\"stroke: #000000; stroke-width: 1.5;\" x1=\"16\" x2=\"41\" y1=\"28.2969\" y2=\"28.2969\"/><text fill=\"#000000\" font-family=\"sans-serif\" font-size=\"14\" font-weight=\"bold\" lengthAdjust=\"spacingAndGlyphs\" textLength=\"12\" x=\"20\" y=\"20.9951\">Q</text></a><!--MD5=[b4997ac47864f28c2f74865a473b2911]\n",
       "class E2--><a href=\"psysml:4239e231-7164-4547-a8e1-ba39f4362efb\" target=\"_top\" title=\"psysml:4239e231-7164-4547-a8e1-ba39f4362efb\" xlink:actuate=\"onRequest\" xlink:href=\"psysml:4239e231-7164-4547-a8e1-ba39f4362efb\" xlink:show=\"new\" xlink:title=\"psysml:4239e231-7164-4547-a8e1-ba39f4362efb\" xlink:type=\"simple\"><rect fill=\"#FFFFFF\" height=\"45.9375\" id=\"E2\" rx=\"10\" ry=\"10\" style=\"stroke: #383838; stroke-width: 1.5;\" width=\"42\" x=\"44\" y=\"41\"/><text fill=\"#000000\" font-family=\"sans-serif\" font-size=\"12\" font-style=\"italic\" lengthAdjust=\"spacingAndGlyphs\" textLength=\"40\" x=\"45\" y=\"57.1387\">«part»</text><text fill=\"#000000\" font-family=\"sans-serif\" font-size=\"12\" lengthAdjust=\"spacingAndGlyphs\" textLength=\"4\" x=\"63\" y=\"71.1074\">f</text><line style=\"stroke: #383838; stroke-width: 1.5;\" x1=\"45\" x2=\"85\" y1=\"78.9375\" y2=\"78.9375\"/></a><!--MD5=[09b614a08d8cba4a07c9adeb5e0fee81]\n",
       "class E3--><a href=\"psysml:51ecbb7c-6db5-4069-ae0d-bb60efd47f9e\" target=\"_top\" title=\"psysml:51ecbb7c-6db5-4069-ae0d-bb60efd47f9e\" xlink:actuate=\"onRequest\" xlink:href=\"psysml:51ecbb7c-6db5-4069-ae0d-bb60efd47f9e\" xlink:show=\"new\" xlink:title=\"psysml:51ecbb7c-6db5-4069-ae0d-bb60efd47f9e\" xlink:type=\"simple\"><rect fill=\"#FFFFFF\" height=\"45.9375\" id=\"E3\" rx=\"10\" ry=\"10\" style=\"stroke: #383838; stroke-width: 1.5;\" width=\"42\" x=\"158\" y=\"41\"/><text fill=\"#000000\" font-family=\"sans-serif\" font-size=\"12\" font-style=\"italic\" lengthAdjust=\"spacingAndGlyphs\" textLength=\"40\" x=\"159\" y=\"57.1387\">«part»</text><text fill=\"#000000\" font-family=\"sans-serif\" font-size=\"12\" lengthAdjust=\"spacingAndGlyphs\" textLength=\"8\" x=\"175\" y=\"71.1074\">a</text><line style=\"stroke: #383838; stroke-width: 1.5;\" x1=\"159\" x2=\"199\" y1=\"78.9375\" y2=\"78.9375\"/></a><!--MD5=[ebbe1d658d1005bcc118a6aa81145e00]\n",
       "class E4--><a href=\"psysml:5da665e6-dcc7-4321-8fa9-423e89fca153\" target=\"_top\" title=\"psysml:5da665e6-dcc7-4321-8fa9-423e89fca153\" xlink:actuate=\"onRequest\" xlink:href=\"psysml:5da665e6-dcc7-4321-8fa9-423e89fca153\" xlink:show=\"new\" xlink:title=\"psysml:5da665e6-dcc7-4321-8fa9-423e89fca153\" xlink:type=\"simple\"><rect fill=\"#FFFFFF\" height=\"45.9375\" id=\"E4\" style=\"stroke: #383838; stroke-width: 1.5;\" width=\"66\" x=\"32\" y=\"122\"/><text fill=\"#000000\" font-family=\"sans-serif\" font-size=\"12\" font-style=\"italic\" lengthAdjust=\"spacingAndGlyphs\" textLength=\"64\" x=\"33\" y=\"138.1387\">«part def»</text><text fill=\"#000000\" font-family=\"sans-serif\" font-size=\"12\" lengthAdjust=\"spacingAndGlyphs\" textLength=\"8\" x=\"61\" y=\"152.1074\">C</text><line style=\"stroke: #383838; stroke-width: 1.5;\" x1=\"33\" x2=\"97\" y1=\"159.9375\" y2=\"159.9375\"/></a><!--MD5=[270fce915f116d4de14055a7c1d9a0f3]\n",
       "class E5--><a href=\"psysml:ed499477-fca6-4979-bffe-7845725436ef\" target=\"_top\" title=\"psysml:ed499477-fca6-4979-bffe-7845725436ef\" xlink:actuate=\"onRequest\" xlink:href=\"psysml:ed499477-fca6-4979-bffe-7845725436ef\" xlink:show=\"new\" xlink:title=\"psysml:ed499477-fca6-4979-bffe-7845725436ef\" xlink:type=\"simple\"><rect fill=\"#FFFFFF\" height=\"45.9375\" id=\"E5\" rx=\"10\" ry=\"10\" style=\"stroke: #383838; stroke-width: 1.5;\" width=\"42\" x=\"158\" y=\"122\"/><text fill=\"#000000\" font-family=\"sans-serif\" font-size=\"12\" font-style=\"italic\" lengthAdjust=\"spacingAndGlyphs\" textLength=\"40\" x=\"159\" y=\"138.1387\">«part»</text><text fill=\"#000000\" font-family=\"sans-serif\" font-size=\"12\" lengthAdjust=\"spacingAndGlyphs\" textLength=\"8\" x=\"175\" y=\"152.1074\">g</text><line style=\"stroke: #383838; stroke-width: 1.5;\" x1=\"159\" x2=\"199\" y1=\"159.9375\" y2=\"159.9375\"/></a><!--MD5=[209b3feb70ccb6233bfe1053d122c12c]\n",
       "reverse link E2 to E3--><a href=\"psysml:51ecbb7c-6db5-4069-ae0d-bb60efd47f9e\" target=\"_top\" title=\"psysml:51ecbb7c-6db5-4069-ae0d-bb60efd47f9e\" xlink:actuate=\"onRequest\" xlink:href=\"psysml:51ecbb7c-6db5-4069-ae0d-bb60efd47f9e\" xlink:show=\"new\" xlink:title=\"psysml:51ecbb7c-6db5-4069-ae0d-bb60efd47f9e\" xlink:type=\"simple\"><path d=\"M99.26,64 C118.27,64 141.49,64 157.77,64 \" fill=\"none\" id=\"E2&lt;-E3\" style=\"stroke: #383838; stroke-width: 1.0;\"/><polygon fill=\"#383838\" points=\"86.02,64,92.02,68,98.02,64,92.02,60,86.02,64\" style=\"stroke: #383838; stroke-width: 1.0;\"/></a><!--MD5=[62aa6af11e70f752912c1cb0466f24f7]\n",
       "reverse link E4 to E5--><a href=\"psysml:ed499477-fca6-4979-bffe-7845725436ef\" target=\"_top\" title=\"psysml:ed499477-fca6-4979-bffe-7845725436ef\" xlink:actuate=\"onRequest\" xlink:href=\"psysml:ed499477-fca6-4979-bffe-7845725436ef\" xlink:show=\"new\" xlink:title=\"psysml:ed499477-fca6-4979-bffe-7845725436ef\" xlink:type=\"simple\"><path d=\"M111.28,145 C127.47,145 144.9,145 157.89,145 \" fill=\"none\" id=\"E4&lt;-E5\" style=\"stroke: #383838; stroke-width: 1.0;\"/><polygon fill=\"#383838\" points=\"98.09,145,104.09,149,110.09,145,104.09,141,98.09,145\" style=\"stroke: #383838; stroke-width: 1.0;\"/></a><!--MD5=[e71fc2e74a8568b8a4332cf6f5af8322]\n",
       "@startuml\r\n",
       "left to right direction\r\n",
       "skinparam monochrome true\r\n",
       "skinparam classbackgroundcolor white\r\n",
       "skinparam shadowing false\r\n",
       "skinparam wrapWidth 300\r\n",
       "hide circle\r\n",
       "\r\n",
       "package \"Q\" as E1  [[psysml:ef9b7028-f6bf-447e-864f-9dad0bdce88c ]]  {\r\n",
       "comp usage \"f\" as E2  <<(T,blue)part>> [[psysml:4239e231-7164-4547-a8e1-ba39f4362efb ]] {\r\n",
       "}\r\n",
       "comp usage \"a\" as E3  <<(T,blue)part>> [[psysml:51ecbb7c-6db5-4069-ae0d-bb60efd47f9e ]] {\r\n",
       "}\r\n",
       "comp def \"C\" as E4  <<(T,blue)part def>> [[psysml:5da665e6-dcc7-4321-8fa9-423e89fca153 ]] {\r\n",
       "}\r\n",
       "comp usage \"g\" as E5  <<(T,blue)part>> [[psysml:ed499477-fca6-4979-bffe-7845725436ef ]] {\r\n",
       "}\r\n",
       "E2 *- - E3 [[psysml:51ecbb7c-6db5-4069-ae0d-bb60efd47f9e ]] \r\n",
       "E4 *- - E5 [[psysml:ed499477-fca6-4979-bffe-7845725436ef ]] \r\n",
       "}\r\n",
       "@enduml\r\n",
       "\n",
       "PlantUML version 1.2020.13(Sat Jun 13 12:26:38 UTC 2020)\n",
       "(EPL source distribution)\n",
       "Java Runtime: OpenJDK Runtime Environment\n",
       "JVM: OpenJDK 64-Bit Server VM\n",
       "Default Encoding: UTF-8\n",
       "Language: en\n",
       "Country: null\n",
       "--></g></svg>"
      ]
     },
     "execution_count": 22,
     "metadata": {},
     "output_type": "execute_result"
    }
   ],
   "source": [
    "%viz --style=\"LR\" --view=\"MIXED\" \"Q\""
   ]
  },
  {
   "cell_type": "code",
   "execution_count": 23,
   "id": "computational-rebel",
   "metadata": {
    "execution": {
     "iopub.execute_input": "2021-03-25T09:26:26.840864Z",
     "iopub.status.busy": "2021-03-25T09:26:26.840318Z",
     "iopub.status.idle": "2021-03-25T09:26:26.892531Z",
     "shell.execute_reply": "2021-03-25T09:26:26.891032Z"
    }
   },
   "outputs": [
    {
     "data": {
      "image/svg+xml": [
       "<?xml version=\"1.0\" encoding=\"UTF-8\" standalone=\"no\"?><svg xmlns=\"http://www.w3.org/2000/svg\" xmlns:xlink=\"http://www.w3.org/1999/xlink\" contentScriptType=\"application/ecmascript\" contentStyleType=\"text/css\" height=\"221px\" preserveAspectRatio=\"none\" style=\"width:213px;height:221px;\" version=\"1.1\" viewBox=\"0 0 213 221\" width=\"213px\" zoomAndPan=\"magnify\"><defs><filter height=\"300%\" id=\"f12mc1vex6luqt\" width=\"300%\" x=\"-1\" y=\"-1\"><feGaussianBlur result=\"blurOut\" stdDeviation=\"2.0\"/><feColorMatrix in=\"blurOut\" result=\"blurOut2\" type=\"matrix\" values=\"0 0 0 0 0 0 0 0 0 0 0 0 0 0 0 0 0 0 .4 0\"/><feOffset dx=\"4.0\" dy=\"4.0\" in=\"blurOut2\" result=\"blurOut3\"/><feBlend in=\"SourceGraphic\" in2=\"blurOut3\" mode=\"normal\"/></filter></defs><g><!--MD5=[fbc87193dbaf4d95561dea2c320d4a47]\n",
       "cluster E1--><a href=\"psysml:ef9b7028-f6bf-447e-864f-9dad0bdce88c\" target=\"_top\" title=\"psysml:ef9b7028-f6bf-447e-864f-9dad0bdce88c\" xlink:actuate=\"onRequest\" xlink:href=\"psysml:ef9b7028-f6bf-447e-864f-9dad0bdce88c\" xlink:show=\"new\" xlink:title=\"psysml:ef9b7028-f6bf-447e-864f-9dad0bdce88c\" xlink:type=\"simple\"><polygon fill=\"#FFFFFF\" filter=\"url(#f12mc1vex6luqt)\" points=\"16,6,34,6,41,28.2969,191,28.2969,191,209,16,209,16,6\" style=\"stroke: #000000; stroke-width: 1.5;\"/><line style=\"stroke: #000000; stroke-width: 1.5;\" x1=\"16\" x2=\"41\" y1=\"28.2969\" y2=\"28.2969\"/><text fill=\"#000000\" font-family=\"sans-serif\" font-size=\"14\" font-weight=\"bold\" lengthAdjust=\"spacingAndGlyphs\" textLength=\"12\" x=\"20\" y=\"20.9951\">Q</text></a><!--MD5=[b4997ac47864f28c2f74865a473b2911]\n",
       "class E2--><a href=\"psysml:4239e231-7164-4547-a8e1-ba39f4362efb\" target=\"_top\" title=\"psysml:4239e231-7164-4547-a8e1-ba39f4362efb\" xlink:actuate=\"onRequest\" xlink:href=\"psysml:4239e231-7164-4547-a8e1-ba39f4362efb\" xlink:show=\"new\" xlink:title=\"psysml:4239e231-7164-4547-a8e1-ba39f4362efb\" xlink:type=\"simple\"><rect fill=\"#FEFECE\" filter=\"url(#f12mc1vex6luqt)\" height=\"45.9375\" id=\"E2\" rx=\"10\" ry=\"10\" style=\"stroke: #A80036; stroke-width: 1.5;\" width=\"42\" x=\"133\" y=\"41\"/><text fill=\"#000000\" font-family=\"sans-serif\" font-size=\"12\" font-style=\"italic\" lengthAdjust=\"spacingAndGlyphs\" textLength=\"40\" x=\"134\" y=\"57.1387\">«part»</text><text fill=\"#000000\" font-family=\"sans-serif\" font-size=\"12\" lengthAdjust=\"spacingAndGlyphs\" textLength=\"4\" x=\"152\" y=\"71.1074\">f</text><line style=\"stroke: #A80036; stroke-width: 1.5;\" x1=\"134\" x2=\"174\" y1=\"78.9375\" y2=\"78.9375\"/></a><!--MD5=[09b614a08d8cba4a07c9adeb5e0fee81]\n",
       "class E3--><a href=\"psysml:51ecbb7c-6db5-4069-ae0d-bb60efd47f9e\" target=\"_top\" title=\"psysml:51ecbb7c-6db5-4069-ae0d-bb60efd47f9e\" xlink:actuate=\"onRequest\" xlink:href=\"psysml:51ecbb7c-6db5-4069-ae0d-bb60efd47f9e\" xlink:show=\"new\" xlink:title=\"psysml:51ecbb7c-6db5-4069-ae0d-bb60efd47f9e\" xlink:type=\"simple\"><rect fill=\"#FEFECE\" filter=\"url(#f12mc1vex6luqt)\" height=\"45.9375\" id=\"E3\" rx=\"10\" ry=\"10\" style=\"stroke: #A80036; stroke-width: 1.5;\" width=\"42\" x=\"133\" y=\"147\"/><text fill=\"#000000\" font-family=\"sans-serif\" font-size=\"12\" font-style=\"italic\" lengthAdjust=\"spacingAndGlyphs\" textLength=\"40\" x=\"134\" y=\"163.1387\">«part»</text><text fill=\"#000000\" font-family=\"sans-serif\" font-size=\"12\" lengthAdjust=\"spacingAndGlyphs\" textLength=\"8\" x=\"150\" y=\"177.1074\">a</text><line style=\"stroke: #A80036; stroke-width: 1.5;\" x1=\"134\" x2=\"174\" y1=\"184.9375\" y2=\"184.9375\"/></a><!--MD5=[ebbe1d658d1005bcc118a6aa81145e00]\n",
       "class E4--><a href=\"psysml:5da665e6-dcc7-4321-8fa9-423e89fca153\" target=\"_top\" title=\"psysml:5da665e6-dcc7-4321-8fa9-423e89fca153\" xlink:actuate=\"onRequest\" xlink:href=\"psysml:5da665e6-dcc7-4321-8fa9-423e89fca153\" xlink:show=\"new\" xlink:title=\"psysml:5da665e6-dcc7-4321-8fa9-423e89fca153\" xlink:type=\"simple\"><rect fill=\"#FEFECE\" filter=\"url(#f12mc1vex6luqt)\" height=\"45.9375\" id=\"E4\" style=\"stroke: #A80036; stroke-width: 1.5;\" width=\"66\" x=\"32\" y=\"41\"/><text fill=\"#000000\" font-family=\"sans-serif\" font-size=\"12\" font-style=\"italic\" lengthAdjust=\"spacingAndGlyphs\" textLength=\"64\" x=\"33\" y=\"57.1387\">«part def»</text><text fill=\"#000000\" font-family=\"sans-serif\" font-size=\"12\" lengthAdjust=\"spacingAndGlyphs\" textLength=\"8\" x=\"61\" y=\"71.1074\">C</text><line style=\"stroke: #A80036; stroke-width: 1.5;\" x1=\"33\" x2=\"97\" y1=\"78.9375\" y2=\"78.9375\"/></a><!--MD5=[270fce915f116d4de14055a7c1d9a0f3]\n",
       "class E5--><a href=\"psysml:ed499477-fca6-4979-bffe-7845725436ef\" target=\"_top\" title=\"psysml:ed499477-fca6-4979-bffe-7845725436ef\" xlink:actuate=\"onRequest\" xlink:href=\"psysml:ed499477-fca6-4979-bffe-7845725436ef\" xlink:show=\"new\" xlink:title=\"psysml:ed499477-fca6-4979-bffe-7845725436ef\" xlink:type=\"simple\"><rect fill=\"#FEFECE\" filter=\"url(#f12mc1vex6luqt)\" height=\"45.9375\" id=\"E5\" rx=\"10\" ry=\"10\" style=\"stroke: #A80036; stroke-width: 1.5;\" width=\"42\" x=\"44\" y=\"147\"/><text fill=\"#000000\" font-family=\"sans-serif\" font-size=\"12\" font-style=\"italic\" lengthAdjust=\"spacingAndGlyphs\" textLength=\"40\" x=\"45\" y=\"163.1387\">«part»</text><text fill=\"#000000\" font-family=\"sans-serif\" font-size=\"12\" lengthAdjust=\"spacingAndGlyphs\" textLength=\"8\" x=\"61\" y=\"177.1074\">g</text><line style=\"stroke: #A80036; stroke-width: 1.5;\" x1=\"45\" x2=\"85\" y1=\"184.9375\" y2=\"184.9375\"/></a><!--MD5=[209b3feb70ccb6233bfe1053d122c12c]\n",
       "reverse link E2 to E3--><a href=\"psysml:51ecbb7c-6db5-4069-ae0d-bb60efd47f9e\" target=\"_top\" title=\"psysml:51ecbb7c-6db5-4069-ae0d-bb60efd47f9e\" xlink:actuate=\"onRequest\" xlink:href=\"psysml:51ecbb7c-6db5-4069-ae0d-bb60efd47f9e\" xlink:show=\"new\" xlink:title=\"psysml:51ecbb7c-6db5-4069-ae0d-bb60efd47f9e\" xlink:type=\"simple\"><path d=\"M154,100.44 C154,115.87 154,133.47 154,146.98 \" fill=\"none\" id=\"E2&lt;-E3\" style=\"stroke: #A80036; stroke-width: 1.0;\"/><polygon fill=\"#A80036\" points=\"154,87.06,150,93.06,154,99.06,158,93.06,154,87.06\" style=\"stroke: #A80036; stroke-width: 1.0;\"/></a><!--MD5=[62aa6af11e70f752912c1cb0466f24f7]\n",
       "reverse link E4 to E5--><a href=\"psysml:ed499477-fca6-4979-bffe-7845725436ef\" target=\"_top\" title=\"psysml:ed499477-fca6-4979-bffe-7845725436ef\" xlink:actuate=\"onRequest\" xlink:href=\"psysml:ed499477-fca6-4979-bffe-7845725436ef\" xlink:show=\"new\" xlink:title=\"psysml:ed499477-fca6-4979-bffe-7845725436ef\" xlink:type=\"simple\"><path d=\"M65,100.44 C65,115.87 65,133.47 65,146.98 \" fill=\"none\" id=\"E4&lt;-E5\" style=\"stroke: #A80036; stroke-width: 1.0;\"/><polygon fill=\"#A80036\" points=\"65,87.06,61,93.06,65,99.06,69,93.06,65,87.06\" style=\"stroke: #A80036; stroke-width: 1.0;\"/></a><!--MD5=[c0ae67e826c4d5e9d1e6cdc2d72001ec]\n",
       "@startuml\r\n",
       "skinparam wrapWidth 300\r\n",
       "hide circle\r\n",
       "\r\n",
       "package \"Q\" as E1  [[psysml:ef9b7028-f6bf-447e-864f-9dad0bdce88c ]]  {\r\n",
       "comp usage \"f\" as E2  <<(T,blue)part>> [[psysml:4239e231-7164-4547-a8e1-ba39f4362efb ]] {\r\n",
       "}\r\n",
       "comp usage \"a\" as E3  <<(T,blue)part>> [[psysml:51ecbb7c-6db5-4069-ae0d-bb60efd47f9e ]] {\r\n",
       "}\r\n",
       "comp def \"C\" as E4  <<(T,blue)part def>> [[psysml:5da665e6-dcc7-4321-8fa9-423e89fca153 ]] {\r\n",
       "}\r\n",
       "comp usage \"g\" as E5  <<(T,blue)part>> [[psysml:ed499477-fca6-4979-bffe-7845725436ef ]] {\r\n",
       "}\r\n",
       "E2 *- - E3 [[psysml:51ecbb7c-6db5-4069-ae0d-bb60efd47f9e ]] \r\n",
       "E4 *- - E5 [[psysml:ed499477-fca6-4979-bffe-7845725436ef ]] \r\n",
       "}\r\n",
       "@enduml\r\n",
       "\n",
       "PlantUML version 1.2020.13(Sat Jun 13 12:26:38 UTC 2020)\n",
       "(EPL source distribution)\n",
       "Java Runtime: OpenJDK Runtime Environment\n",
       "JVM: OpenJDK 64-Bit Server VM\n",
       "Default Encoding: UTF-8\n",
       "Language: en\n",
       "Country: null\n",
       "--></g></svg>"
      ]
     },
     "execution_count": 23,
     "metadata": {},
     "output_type": "execute_result"
    }
   ],
   "source": [
    "%viz --style=\"STDCOLOR\" --view=\"Default\" \"Q\""
   ]
  },
  {
   "cell_type": "code",
   "execution_count": 24,
   "id": "decimal-norwegian",
   "metadata": {
    "execution": {
     "iopub.execute_input": "2021-03-25T09:26:26.945001Z",
     "iopub.status.busy": "2021-03-25T09:26:26.943973Z",
     "iopub.status.idle": "2021-03-25T09:26:26.995414Z",
     "shell.execute_reply": "2021-03-25T09:26:26.993088Z"
    }
   },
   "outputs": [
    {
     "data": {
      "image/svg+xml": [
       "<?xml version=\"1.0\" encoding=\"UTF-8\" standalone=\"no\"?><svg xmlns=\"http://www.w3.org/2000/svg\" xmlns:xlink=\"http://www.w3.org/1999/xlink\" contentScriptType=\"application/ecmascript\" contentStyleType=\"text/css\" height=\"221px\" preserveAspectRatio=\"none\" style=\"width:213px;height:221px;\" version=\"1.1\" viewBox=\"0 0 213 221\" width=\"213px\" zoomAndPan=\"magnify\"><defs><filter height=\"300%\" id=\"f12mc1vex6luqt\" width=\"300%\" x=\"-1\" y=\"-1\"><feGaussianBlur result=\"blurOut\" stdDeviation=\"2.0\"/><feColorMatrix in=\"blurOut\" result=\"blurOut2\" type=\"matrix\" values=\"0 0 0 0 0 0 0 0 0 0 0 0 0 0 0 0 0 0 .4 0\"/><feOffset dx=\"4.0\" dy=\"4.0\" in=\"blurOut2\" result=\"blurOut3\"/><feBlend in=\"SourceGraphic\" in2=\"blurOut3\" mode=\"normal\"/></filter></defs><g><!--MD5=[fbc87193dbaf4d95561dea2c320d4a47]\n",
       "cluster E1--><a href=\"psysml:ef9b7028-f6bf-447e-864f-9dad0bdce88c\" target=\"_top\" title=\"psysml:ef9b7028-f6bf-447e-864f-9dad0bdce88c\" xlink:actuate=\"onRequest\" xlink:href=\"psysml:ef9b7028-f6bf-447e-864f-9dad0bdce88c\" xlink:show=\"new\" xlink:title=\"psysml:ef9b7028-f6bf-447e-864f-9dad0bdce88c\" xlink:type=\"simple\"><polygon fill=\"#FFFFFF\" filter=\"url(#f12mc1vex6luqt)\" points=\"16,6,34,6,41,28.2969,191,28.2969,191,209,16,209,16,6\" style=\"stroke: #000000; stroke-width: 1.5;\"/><line style=\"stroke: #000000; stroke-width: 1.5;\" x1=\"16\" x2=\"41\" y1=\"28.2969\" y2=\"28.2969\"/><text fill=\"#000000\" font-family=\"sans-serif\" font-size=\"14\" font-weight=\"bold\" lengthAdjust=\"spacingAndGlyphs\" textLength=\"12\" x=\"20\" y=\"20.9951\">Q</text></a><!--MD5=[b4997ac47864f28c2f74865a473b2911]\n",
       "class E2--><a href=\"psysml:4239e231-7164-4547-a8e1-ba39f4362efb\" target=\"_top\" title=\"psysml:4239e231-7164-4547-a8e1-ba39f4362efb\" xlink:actuate=\"onRequest\" xlink:href=\"psysml:4239e231-7164-4547-a8e1-ba39f4362efb\" xlink:show=\"new\" xlink:title=\"psysml:4239e231-7164-4547-a8e1-ba39f4362efb\" xlink:type=\"simple\"><rect fill=\"#FEFECE\" filter=\"url(#f12mc1vex6luqt)\" height=\"45.9375\" id=\"E2\" rx=\"10\" ry=\"10\" style=\"stroke: #A80036; stroke-width: 1.5;\" width=\"42\" x=\"133\" y=\"41\"/><text fill=\"#000000\" font-family=\"sans-serif\" font-size=\"12\" font-style=\"italic\" lengthAdjust=\"spacingAndGlyphs\" textLength=\"40\" x=\"134\" y=\"57.1387\">«part»</text><text fill=\"#000000\" font-family=\"sans-serif\" font-size=\"12\" lengthAdjust=\"spacingAndGlyphs\" textLength=\"4\" x=\"152\" y=\"71.1074\">f</text><line style=\"stroke: #A80036; stroke-width: 1.5;\" x1=\"134\" x2=\"174\" y1=\"78.9375\" y2=\"78.9375\"/></a><!--MD5=[09b614a08d8cba4a07c9adeb5e0fee81]\n",
       "class E3--><a href=\"psysml:51ecbb7c-6db5-4069-ae0d-bb60efd47f9e\" target=\"_top\" title=\"psysml:51ecbb7c-6db5-4069-ae0d-bb60efd47f9e\" xlink:actuate=\"onRequest\" xlink:href=\"psysml:51ecbb7c-6db5-4069-ae0d-bb60efd47f9e\" xlink:show=\"new\" xlink:title=\"psysml:51ecbb7c-6db5-4069-ae0d-bb60efd47f9e\" xlink:type=\"simple\"><rect fill=\"#FEFECE\" filter=\"url(#f12mc1vex6luqt)\" height=\"45.9375\" id=\"E3\" rx=\"10\" ry=\"10\" style=\"stroke: #A80036; stroke-width: 1.5;\" width=\"42\" x=\"133\" y=\"147\"/><text fill=\"#000000\" font-family=\"sans-serif\" font-size=\"12\" font-style=\"italic\" lengthAdjust=\"spacingAndGlyphs\" textLength=\"40\" x=\"134\" y=\"163.1387\">«part»</text><text fill=\"#000000\" font-family=\"sans-serif\" font-size=\"12\" lengthAdjust=\"spacingAndGlyphs\" textLength=\"8\" x=\"150\" y=\"177.1074\">a</text><line style=\"stroke: #A80036; stroke-width: 1.5;\" x1=\"134\" x2=\"174\" y1=\"184.9375\" y2=\"184.9375\"/></a><!--MD5=[ebbe1d658d1005bcc118a6aa81145e00]\n",
       "class E4--><a href=\"psysml:5da665e6-dcc7-4321-8fa9-423e89fca153\" target=\"_top\" title=\"psysml:5da665e6-dcc7-4321-8fa9-423e89fca153\" xlink:actuate=\"onRequest\" xlink:href=\"psysml:5da665e6-dcc7-4321-8fa9-423e89fca153\" xlink:show=\"new\" xlink:title=\"psysml:5da665e6-dcc7-4321-8fa9-423e89fca153\" xlink:type=\"simple\"><rect fill=\"#FEFECE\" filter=\"url(#f12mc1vex6luqt)\" height=\"45.9375\" id=\"E4\" style=\"stroke: #A80036; stroke-width: 1.5;\" width=\"66\" x=\"32\" y=\"41\"/><text fill=\"#000000\" font-family=\"sans-serif\" font-size=\"12\" font-style=\"italic\" lengthAdjust=\"spacingAndGlyphs\" textLength=\"64\" x=\"33\" y=\"57.1387\">«part def»</text><text fill=\"#000000\" font-family=\"sans-serif\" font-size=\"12\" lengthAdjust=\"spacingAndGlyphs\" textLength=\"8\" x=\"61\" y=\"71.1074\">C</text><line style=\"stroke: #A80036; stroke-width: 1.5;\" x1=\"33\" x2=\"97\" y1=\"78.9375\" y2=\"78.9375\"/></a><!--MD5=[270fce915f116d4de14055a7c1d9a0f3]\n",
       "class E5--><a href=\"psysml:ed499477-fca6-4979-bffe-7845725436ef\" target=\"_top\" title=\"psysml:ed499477-fca6-4979-bffe-7845725436ef\" xlink:actuate=\"onRequest\" xlink:href=\"psysml:ed499477-fca6-4979-bffe-7845725436ef\" xlink:show=\"new\" xlink:title=\"psysml:ed499477-fca6-4979-bffe-7845725436ef\" xlink:type=\"simple\"><rect fill=\"#FEFECE\" filter=\"url(#f12mc1vex6luqt)\" height=\"45.9375\" id=\"E5\" rx=\"10\" ry=\"10\" style=\"stroke: #A80036; stroke-width: 1.5;\" width=\"42\" x=\"44\" y=\"147\"/><text fill=\"#000000\" font-family=\"sans-serif\" font-size=\"12\" font-style=\"italic\" lengthAdjust=\"spacingAndGlyphs\" textLength=\"40\" x=\"45\" y=\"163.1387\">«part»</text><text fill=\"#000000\" font-family=\"sans-serif\" font-size=\"12\" lengthAdjust=\"spacingAndGlyphs\" textLength=\"8\" x=\"61\" y=\"177.1074\">g</text><line style=\"stroke: #A80036; stroke-width: 1.5;\" x1=\"45\" x2=\"85\" y1=\"184.9375\" y2=\"184.9375\"/></a><!--MD5=[209b3feb70ccb6233bfe1053d122c12c]\n",
       "reverse link E2 to E3--><a href=\"psysml:51ecbb7c-6db5-4069-ae0d-bb60efd47f9e\" target=\"_top\" title=\"psysml:51ecbb7c-6db5-4069-ae0d-bb60efd47f9e\" xlink:actuate=\"onRequest\" xlink:href=\"psysml:51ecbb7c-6db5-4069-ae0d-bb60efd47f9e\" xlink:show=\"new\" xlink:title=\"psysml:51ecbb7c-6db5-4069-ae0d-bb60efd47f9e\" xlink:type=\"simple\"><path d=\"M154,100.44 C154,115.87 154,133.47 154,146.98 \" fill=\"none\" id=\"E2&lt;-E3\" style=\"stroke: #A80036; stroke-width: 1.0;\"/><polygon fill=\"#A80036\" points=\"154,87.06,150,93.06,154,99.06,158,93.06,154,87.06\" style=\"stroke: #A80036; stroke-width: 1.0;\"/></a><!--MD5=[62aa6af11e70f752912c1cb0466f24f7]\n",
       "reverse link E4 to E5--><a href=\"psysml:ed499477-fca6-4979-bffe-7845725436ef\" target=\"_top\" title=\"psysml:ed499477-fca6-4979-bffe-7845725436ef\" xlink:actuate=\"onRequest\" xlink:href=\"psysml:ed499477-fca6-4979-bffe-7845725436ef\" xlink:show=\"new\" xlink:title=\"psysml:ed499477-fca6-4979-bffe-7845725436ef\" xlink:type=\"simple\"><path d=\"M65,100.44 C65,115.87 65,133.47 65,146.98 \" fill=\"none\" id=\"E4&lt;-E5\" style=\"stroke: #A80036; stroke-width: 1.0;\"/><polygon fill=\"#A80036\" points=\"65,87.06,61,93.06,65,99.06,69,93.06,65,87.06\" style=\"stroke: #A80036; stroke-width: 1.0;\"/></a><!--MD5=[c0ae67e826c4d5e9d1e6cdc2d72001ec]\n",
       "@startuml\r\n",
       "skinparam wrapWidth 300\r\n",
       "hide circle\r\n",
       "\r\n",
       "package \"Q\" as E1  [[psysml:ef9b7028-f6bf-447e-864f-9dad0bdce88c ]]  {\r\n",
       "comp usage \"f\" as E2  <<(T,blue)part>> [[psysml:4239e231-7164-4547-a8e1-ba39f4362efb ]] {\r\n",
       "}\r\n",
       "comp usage \"a\" as E3  <<(T,blue)part>> [[psysml:51ecbb7c-6db5-4069-ae0d-bb60efd47f9e ]] {\r\n",
       "}\r\n",
       "comp def \"C\" as E4  <<(T,blue)part def>> [[psysml:5da665e6-dcc7-4321-8fa9-423e89fca153 ]] {\r\n",
       "}\r\n",
       "comp usage \"g\" as E5  <<(T,blue)part>> [[psysml:ed499477-fca6-4979-bffe-7845725436ef ]] {\r\n",
       "}\r\n",
       "E2 *- - E3 [[psysml:51ecbb7c-6db5-4069-ae0d-bb60efd47f9e ]] \r\n",
       "E4 *- - E5 [[psysml:ed499477-fca6-4979-bffe-7845725436ef ]] \r\n",
       "}\r\n",
       "@enduml\r\n",
       "\n",
       "PlantUML version 1.2020.13(Sat Jun 13 12:26:38 UTC 2020)\n",
       "(EPL source distribution)\n",
       "Java Runtime: OpenJDK Runtime Environment\n",
       "JVM: OpenJDK 64-Bit Server VM\n",
       "Default Encoding: UTF-8\n",
       "Language: en\n",
       "Country: null\n",
       "--></g></svg>"
      ]
     },
     "execution_count": 24,
     "metadata": {},
     "output_type": "execute_result"
    }
   ],
   "source": [
    "%viz --style=\"STDCOLOR\" --view=\"Tree\" \"Q\""
   ]
  },
  {
   "cell_type": "code",
   "execution_count": 25,
   "id": "alpha-punch",
   "metadata": {
    "execution": {
     "iopub.execute_input": "2021-03-25T09:26:27.047088Z",
     "iopub.status.busy": "2021-03-25T09:26:27.046386Z",
     "iopub.status.idle": "2021-03-25T09:26:27.053683Z",
     "shell.execute_reply": "2021-03-25T09:26:27.053261Z"
    }
   },
   "outputs": [
    {
     "data": {
      "image/svg+xml": [
       "<?xml version=\"1.0\" encoding=\"UTF-8\" standalone=\"no\"?><svg xmlns=\"http://www.w3.org/2000/svg\" xmlns:xlink=\"http://www.w3.org/1999/xlink\" contentScriptType=\"application/ecmascript\" contentStyleType=\"text/css\" height=\"12px\" preserveAspectRatio=\"none\" style=\"width:12px;height:12px;\" version=\"1.1\" viewBox=\"0 0 12 12\" width=\"12px\" zoomAndPan=\"magnify\"><defs/><g><!--MD5=[aeeef50f102b80d730deb6443d14f702]\n",
       "@startuml\r\n",
       "skinparam wrapWidth 300\r\n",
       "hide circle\r\n",
       "\r\n",
       "@enduml\r\n",
       "\n",
       "PlantUML version 1.2020.13(Sat Jun 13 12:26:38 UTC 2020)\n",
       "(EPL source distribution)\n",
       "Java Runtime: OpenJDK Runtime Environment\n",
       "JVM: OpenJDK 64-Bit Server VM\n",
       "Default Encoding: UTF-8\n",
       "Language: en\n",
       "Country: null\n",
       "--></g></svg>"
      ]
     },
     "execution_count": 25,
     "metadata": {},
     "output_type": "execute_result"
    }
   ],
   "source": [
    "%viz --style=\"STDCOLOR\" --view=\"State\" \"Q\""
   ]
  },
  {
   "cell_type": "code",
   "execution_count": 26,
   "id": "south-enterprise",
   "metadata": {
    "execution": {
     "iopub.execute_input": "2021-03-25T09:26:27.107294Z",
     "iopub.status.busy": "2021-03-25T09:26:27.106008Z",
     "iopub.status.idle": "2021-03-25T09:26:27.166075Z",
     "shell.execute_reply": "2021-03-25T09:26:27.165717Z"
    }
   },
   "outputs": [
    {
     "data": {
      "image/svg+xml": [
       "<?xml version=\"1.0\" encoding=\"UTF-8\" standalone=\"no\"?><svg xmlns=\"http://www.w3.org/2000/svg\" xmlns:xlink=\"http://www.w3.org/1999/xlink\" contentScriptType=\"application/ecmascript\" contentStyleType=\"text/css\" height=\"192px\" preserveAspectRatio=\"none\" style=\"width:279px;height:192px;\" version=\"1.1\" viewBox=\"0 0 279 192\" width=\"279px\" zoomAndPan=\"magnify\"><defs><filter height=\"300%\" id=\"f570cb9ywlj6w\" width=\"300%\" x=\"-1\" y=\"-1\"><feGaussianBlur result=\"blurOut\" stdDeviation=\"2.0\"/><feColorMatrix in=\"blurOut\" result=\"blurOut2\" type=\"matrix\" values=\"0 0 0 0 0 0 0 0 0 0 0 0 0 0 0 0 0 0 .4 0\"/><feOffset dx=\"4.0\" dy=\"4.0\" in=\"blurOut2\" result=\"blurOut3\"/><feBlend in=\"SourceGraphic\" in2=\"blurOut3\" mode=\"normal\"/></filter></defs><g><!--MD5=[fbc87193dbaf4d95561dea2c320d4a47]\n",
       "cluster E1--><a href=\"psysml:ef9b7028-f6bf-447e-864f-9dad0bdce88c\" target=\"_top\" title=\"psysml:ef9b7028-f6bf-447e-864f-9dad0bdce88c\" xlink:actuate=\"onRequest\" xlink:href=\"psysml:ef9b7028-f6bf-447e-864f-9dad0bdce88c\" xlink:show=\"new\" xlink:title=\"psysml:ef9b7028-f6bf-447e-864f-9dad0bdce88c\" xlink:type=\"simple\"><polygon fill=\"#FFFFFF\" filter=\"url(#f570cb9ywlj6w)\" points=\"16,6,34,6,41,28.2969,257,28.2969,257,180,16,180,16,6\" style=\"stroke: #000000; stroke-width: 1.5;\"/><line style=\"stroke: #000000; stroke-width: 1.5;\" x1=\"16\" x2=\"41\" y1=\"28.2969\" y2=\"28.2969\"/><text fill=\"#000000\" font-family=\"sans-serif\" font-size=\"14\" font-weight=\"bold\" lengthAdjust=\"spacingAndGlyphs\" textLength=\"12\" x=\"20\" y=\"20.9951\">Q</text></a><!--MD5=[e4f7fae6ed58524ba242bb0b0d3be6b7]\n",
       "cluster E2--><a href=\"psysml:4239e231-7164-4547-a8e1-ba39f4362efb\" target=\"_top\" title=\"psysml:4239e231-7164-4547-a8e1-ba39f4362efb\" xlink:actuate=\"onRequest\" xlink:href=\"psysml:4239e231-7164-4547-a8e1-ba39f4362efb\" xlink:show=\"new\" xlink:title=\"psysml:4239e231-7164-4547-a8e1-ba39f4362efb\" xlink:type=\"simple\"><rect fill=\"#FFFFFF\" filter=\"url(#f570cb9ywlj6w)\" height=\"91\" id=\"E2\" rx=\"10\" ry=\"10\" style=\"stroke: #A80036; stroke-width: 1.5;\" width=\"82\" x=\"151\" y=\"65\"/><rect fill=\"#FEFECE\" height=\"23.9688\" rx=\"10\" ry=\"10\" style=\"stroke: #FEFECE; stroke-width: 1.5;\" width=\"82\" x=\"151\" y=\"65\"/><rect fill=\"#FEFECE\" height=\"10\" style=\"stroke: #FEFECE; stroke-width: 1.5;\" width=\"82\" x=\"151\" y=\"78.9688\"/><rect fill=\"none\" height=\"91\" id=\"E2\" rx=\"10\" ry=\"10\" style=\"stroke: #A80036; stroke-width: 1.5;\" width=\"82\" x=\"151\" y=\"65\"/><text fill=\"#000000\" font-family=\"sans-serif\" font-size=\"12\" lengthAdjust=\"spacingAndGlyphs\" textLength=\"4\" x=\"190\" y=\"81.1387\">f</text><line style=\"stroke: #A80036; stroke-width: 1.0;\" x1=\"151\" x2=\"233\" y1=\"88.9688\" y2=\"88.9688\"/></a><!--MD5=[f6df4d0ebaf0b5dfb2ced0ae5af7c670]\n",
       "cluster E4--><a href=\"psysml:5da665e6-dcc7-4321-8fa9-423e89fca153\" target=\"_top\" title=\"psysml:5da665e6-dcc7-4321-8fa9-423e89fca153\" xlink:actuate=\"onRequest\" xlink:href=\"psysml:5da665e6-dcc7-4321-8fa9-423e89fca153\" xlink:show=\"new\" xlink:title=\"psysml:5da665e6-dcc7-4321-8fa9-423e89fca153\" xlink:type=\"simple\"><rect fill=\"#FFFFFF\" filter=\"url(#f570cb9ywlj6w)\" height=\"107\" id=\"E4\" style=\"stroke: #A80036; stroke-width: 1.5;\" width=\"87\" x=\"40\" y=\"49\"/><rect fill=\"#FEFECE\" height=\"37.9375\" style=\"stroke: #A80036; stroke-width: 1.5;\" width=\"87\" x=\"40\" y=\"49\"/><text fill=\"#000000\" font-family=\"sans-serif\" font-size=\"12\" font-style=\"italic\" lengthAdjust=\"spacingAndGlyphs\" textLength=\"64\" x=\"51.5\" y=\"65.1387\">«part def»</text><text fill=\"#000000\" font-family=\"sans-serif\" font-size=\"12\" lengthAdjust=\"spacingAndGlyphs\" textLength=\"8\" x=\"79.5\" y=\"79.1074\">C</text></a><g id=\"E1.E2.E3\"><a href=\"psysml:51ecbb7c-6db5-4069-ae0d-bb60efd47f9e\" target=\"_top\" title=\"psysml:51ecbb7c-6db5-4069-ae0d-bb60efd47f9e\" xlink:actuate=\"onRequest\" xlink:href=\"psysml:51ecbb7c-6db5-4069-ae0d-bb60efd47f9e\" xlink:show=\"new\" xlink:title=\"psysml:51ecbb7c-6db5-4069-ae0d-bb60efd47f9e\" xlink:type=\"simple\"><rect fill=\"#FEFECE\" filter=\"url(#f570cb9ywlj6w)\" height=\"40\" id=\"E3\" rx=\"10\" ry=\"10\" style=\"stroke: #A80036; stroke-width: 1.5;\" width=\"50\" x=\"167\" y=\"100\"/><text fill=\"#000000\" font-family=\"sans-serif\" font-size=\"12\" lengthAdjust=\"spacingAndGlyphs\" textLength=\"8\" x=\"188\" y=\"116.1387\">a</text></a></g><g id=\"E1.E4.E5\"><a href=\"psysml:ed499477-fca6-4979-bffe-7845725436ef\" target=\"_top\" title=\"psysml:ed499477-fca6-4979-bffe-7845725436ef\" xlink:actuate=\"onRequest\" xlink:href=\"psysml:ed499477-fca6-4979-bffe-7845725436ef\" xlink:show=\"new\" xlink:title=\"psysml:ed499477-fca6-4979-bffe-7845725436ef\" xlink:type=\"simple\"><rect fill=\"#FEFECE\" filter=\"url(#f570cb9ywlj6w)\" height=\"40\" id=\"E5\" rx=\"10\" ry=\"10\" style=\"stroke: #A80036; stroke-width: 1.5;\" width=\"50\" x=\"58\" y=\"100\"/><text fill=\"#000000\" font-family=\"sans-serif\" font-size=\"12\" lengthAdjust=\"spacingAndGlyphs\" textLength=\"8\" x=\"79\" y=\"116.1387\">g</text></a></g><!--MD5=[c5454f66be8f19bc80d3cb51189ab97d]\n",
       "@startuml\r\n",
       "skinparam ranksep 8\r\n",
       "skinparam rectangle {\r\n",
       " backgroundColor<<block>> LightGreen\r\n",
       "}\r\n",
       "skinparam wrapWidth 300\r\n",
       "hide circle\r\n",
       "\r\n",
       "package \"Q\" as E1  [[psysml:ef9b7028-f6bf-447e-864f-9dad0bdce88c ]]  {\r\n",
       "rec usage \"f\" as E2  [[psysml:4239e231-7164-4547-a8e1-ba39f4362efb ]] {\r\n",
       "rec usage \"a\" as E3  [[psysml:51ecbb7c-6db5-4069-ae0d-bb60efd47f9e ]] {\r\n",
       "}\r\n",
       "}\r\n",
       "rec def \"C\" as E4  <<(T,blue)part def>> [[psysml:5da665e6-dcc7-4321-8fa9-423e89fca153 ]] {\r\n",
       "rec usage \"g\" as E5  [[psysml:ed499477-fca6-4979-bffe-7845725436ef ]] {\r\n",
       "}\r\n",
       "}\r\n",
       "}\r\n",
       "@enduml\r\n",
       "\n",
       "PlantUML version 1.2020.13(Sat Jun 13 12:26:38 UTC 2020)\n",
       "(EPL source distribution)\n",
       "Java Runtime: OpenJDK Runtime Environment\n",
       "JVM: OpenJDK 64-Bit Server VM\n",
       "Default Encoding: UTF-8\n",
       "Language: en\n",
       "Country: null\n",
       "--></g></svg>"
      ]
     },
     "execution_count": 26,
     "metadata": {},
     "output_type": "execute_result"
    }
   ],
   "source": [
    "%viz --style=\"STDCOLOR\" --view=\"Interconnection\" \"Q\""
   ]
  },
  {
   "cell_type": "code",
   "execution_count": 27,
   "id": "knowing-museum",
   "metadata": {
    "execution": {
     "iopub.execute_input": "2021-03-25T09:26:27.218539Z",
     "iopub.status.busy": "2021-03-25T09:26:27.217854Z",
     "iopub.status.idle": "2021-03-25T09:26:27.224999Z",
     "shell.execute_reply": "2021-03-25T09:26:27.225549Z"
    }
   },
   "outputs": [
    {
     "data": {
      "image/svg+xml": [
       "<?xml version=\"1.0\" encoding=\"UTF-8\" standalone=\"no\"?><svg xmlns=\"http://www.w3.org/2000/svg\" xmlns:xlink=\"http://www.w3.org/1999/xlink\" contentScriptType=\"application/ecmascript\" contentStyleType=\"text/css\" height=\"12px\" preserveAspectRatio=\"none\" style=\"width:12px;height:12px;\" version=\"1.1\" viewBox=\"0 0 12 12\" width=\"12px\" zoomAndPan=\"magnify\"><defs/><g><!--MD5=[9863325348a96a77dacc89509d8ee65e]\n",
       "@startuml\r\n",
       "skinparam ranksep 8\r\n",
       "skinparam wrapWidth 300\r\n",
       "hide circle\r\n",
       "\r\n",
       "@enduml\r\n",
       "\n",
       "PlantUML version 1.2020.13(Sat Jun 13 12:26:38 UTC 2020)\n",
       "(EPL source distribution)\n",
       "Java Runtime: OpenJDK Runtime Environment\n",
       "JVM: OpenJDK 64-Bit Server VM\n",
       "Default Encoding: UTF-8\n",
       "Language: en\n",
       "Country: null\n",
       "--></g></svg>"
      ]
     },
     "execution_count": 27,
     "metadata": {},
     "output_type": "execute_result"
    }
   ],
   "source": [
    "%viz --style=\"STDCOLOR\" --view=\"Action\" \"Q\""
   ]
  },
  {
   "cell_type": "code",
   "execution_count": 28,
   "id": "double-johns",
   "metadata": {
    "execution": {
     "iopub.execute_input": "2021-03-25T09:26:27.277717Z",
     "iopub.status.busy": "2021-03-25T09:26:27.277031Z",
     "iopub.status.idle": "2021-03-25T09:26:27.333559Z",
     "shell.execute_reply": "2021-03-25T09:26:27.333957Z"
    }
   },
   "outputs": [
    {
     "data": {
      "image/svg+xml": [
       "<?xml version=\"1.0\" encoding=\"UTF-8\" standalone=\"no\"?><svg xmlns=\"http://www.w3.org/2000/svg\" xmlns:xlink=\"http://www.w3.org/1999/xlink\" contentScriptType=\"application/ecmascript\" contentStyleType=\"text/css\" height=\"221px\" preserveAspectRatio=\"none\" style=\"width:213px;height:221px;\" version=\"1.1\" viewBox=\"0 0 213 221\" width=\"213px\" zoomAndPan=\"magnify\"><defs><filter height=\"300%\" id=\"f12mc1vex6luqt\" width=\"300%\" x=\"-1\" y=\"-1\"><feGaussianBlur result=\"blurOut\" stdDeviation=\"2.0\"/><feColorMatrix in=\"blurOut\" result=\"blurOut2\" type=\"matrix\" values=\"0 0 0 0 0 0 0 0 0 0 0 0 0 0 0 0 0 0 .4 0\"/><feOffset dx=\"4.0\" dy=\"4.0\" in=\"blurOut2\" result=\"blurOut3\"/><feBlend in=\"SourceGraphic\" in2=\"blurOut3\" mode=\"normal\"/></filter></defs><g><!--MD5=[fbc87193dbaf4d95561dea2c320d4a47]\n",
       "cluster E1--><a href=\"psysml:ef9b7028-f6bf-447e-864f-9dad0bdce88c\" target=\"_top\" title=\"psysml:ef9b7028-f6bf-447e-864f-9dad0bdce88c\" xlink:actuate=\"onRequest\" xlink:href=\"psysml:ef9b7028-f6bf-447e-864f-9dad0bdce88c\" xlink:show=\"new\" xlink:title=\"psysml:ef9b7028-f6bf-447e-864f-9dad0bdce88c\" xlink:type=\"simple\"><polygon fill=\"#FFFFFF\" filter=\"url(#f12mc1vex6luqt)\" points=\"16,6,34,6,41,28.2969,191,28.2969,191,209,16,209,16,6\" style=\"stroke: #000000; stroke-width: 1.5;\"/><line style=\"stroke: #000000; stroke-width: 1.5;\" x1=\"16\" x2=\"41\" y1=\"28.2969\" y2=\"28.2969\"/><text fill=\"#000000\" font-family=\"sans-serif\" font-size=\"14\" font-weight=\"bold\" lengthAdjust=\"spacingAndGlyphs\" textLength=\"12\" x=\"20\" y=\"20.9951\">Q</text></a><!--MD5=[b4997ac47864f28c2f74865a473b2911]\n",
       "class E2--><a href=\"psysml:4239e231-7164-4547-a8e1-ba39f4362efb\" target=\"_top\" title=\"psysml:4239e231-7164-4547-a8e1-ba39f4362efb\" xlink:actuate=\"onRequest\" xlink:href=\"psysml:4239e231-7164-4547-a8e1-ba39f4362efb\" xlink:show=\"new\" xlink:title=\"psysml:4239e231-7164-4547-a8e1-ba39f4362efb\" xlink:type=\"simple\"><rect fill=\"#FEFECE\" filter=\"url(#f12mc1vex6luqt)\" height=\"45.9375\" id=\"E2\" rx=\"10\" ry=\"10\" style=\"stroke: #A80036; stroke-width: 1.5;\" width=\"42\" x=\"133\" y=\"41\"/><text fill=\"#000000\" font-family=\"sans-serif\" font-size=\"12\" font-style=\"italic\" lengthAdjust=\"spacingAndGlyphs\" textLength=\"40\" x=\"134\" y=\"57.1387\">«part»</text><text fill=\"#000000\" font-family=\"sans-serif\" font-size=\"12\" lengthAdjust=\"spacingAndGlyphs\" textLength=\"4\" x=\"152\" y=\"71.1074\">f</text><line style=\"stroke: #A80036; stroke-width: 1.5;\" x1=\"134\" x2=\"174\" y1=\"78.9375\" y2=\"78.9375\"/></a><!--MD5=[09b614a08d8cba4a07c9adeb5e0fee81]\n",
       "class E3--><a href=\"psysml:51ecbb7c-6db5-4069-ae0d-bb60efd47f9e\" target=\"_top\" title=\"psysml:51ecbb7c-6db5-4069-ae0d-bb60efd47f9e\" xlink:actuate=\"onRequest\" xlink:href=\"psysml:51ecbb7c-6db5-4069-ae0d-bb60efd47f9e\" xlink:show=\"new\" xlink:title=\"psysml:51ecbb7c-6db5-4069-ae0d-bb60efd47f9e\" xlink:type=\"simple\"><rect fill=\"#FEFECE\" filter=\"url(#f12mc1vex6luqt)\" height=\"45.9375\" id=\"E3\" rx=\"10\" ry=\"10\" style=\"stroke: #A80036; stroke-width: 1.5;\" width=\"42\" x=\"133\" y=\"147\"/><text fill=\"#000000\" font-family=\"sans-serif\" font-size=\"12\" font-style=\"italic\" lengthAdjust=\"spacingAndGlyphs\" textLength=\"40\" x=\"134\" y=\"163.1387\">«part»</text><text fill=\"#000000\" font-family=\"sans-serif\" font-size=\"12\" lengthAdjust=\"spacingAndGlyphs\" textLength=\"8\" x=\"150\" y=\"177.1074\">a</text><line style=\"stroke: #A80036; stroke-width: 1.5;\" x1=\"134\" x2=\"174\" y1=\"184.9375\" y2=\"184.9375\"/></a><!--MD5=[ebbe1d658d1005bcc118a6aa81145e00]\n",
       "class E4--><a href=\"psysml:5da665e6-dcc7-4321-8fa9-423e89fca153\" target=\"_top\" title=\"psysml:5da665e6-dcc7-4321-8fa9-423e89fca153\" xlink:actuate=\"onRequest\" xlink:href=\"psysml:5da665e6-dcc7-4321-8fa9-423e89fca153\" xlink:show=\"new\" xlink:title=\"psysml:5da665e6-dcc7-4321-8fa9-423e89fca153\" xlink:type=\"simple\"><rect fill=\"#FEFECE\" filter=\"url(#f12mc1vex6luqt)\" height=\"45.9375\" id=\"E4\" style=\"stroke: #A80036; stroke-width: 1.5;\" width=\"66\" x=\"32\" y=\"41\"/><text fill=\"#000000\" font-family=\"sans-serif\" font-size=\"12\" font-style=\"italic\" lengthAdjust=\"spacingAndGlyphs\" textLength=\"64\" x=\"33\" y=\"57.1387\">«part def»</text><text fill=\"#000000\" font-family=\"sans-serif\" font-size=\"12\" lengthAdjust=\"spacingAndGlyphs\" textLength=\"8\" x=\"61\" y=\"71.1074\">C</text><line style=\"stroke: #A80036; stroke-width: 1.5;\" x1=\"33\" x2=\"97\" y1=\"78.9375\" y2=\"78.9375\"/></a><!--MD5=[270fce915f116d4de14055a7c1d9a0f3]\n",
       "class E5--><a href=\"psysml:ed499477-fca6-4979-bffe-7845725436ef\" target=\"_top\" title=\"psysml:ed499477-fca6-4979-bffe-7845725436ef\" xlink:actuate=\"onRequest\" xlink:href=\"psysml:ed499477-fca6-4979-bffe-7845725436ef\" xlink:show=\"new\" xlink:title=\"psysml:ed499477-fca6-4979-bffe-7845725436ef\" xlink:type=\"simple\"><rect fill=\"#FEFECE\" filter=\"url(#f12mc1vex6luqt)\" height=\"45.9375\" id=\"E5\" rx=\"10\" ry=\"10\" style=\"stroke: #A80036; stroke-width: 1.5;\" width=\"42\" x=\"44\" y=\"147\"/><text fill=\"#000000\" font-family=\"sans-serif\" font-size=\"12\" font-style=\"italic\" lengthAdjust=\"spacingAndGlyphs\" textLength=\"40\" x=\"45\" y=\"163.1387\">«part»</text><text fill=\"#000000\" font-family=\"sans-serif\" font-size=\"12\" lengthAdjust=\"spacingAndGlyphs\" textLength=\"8\" x=\"61\" y=\"177.1074\">g</text><line style=\"stroke: #A80036; stroke-width: 1.5;\" x1=\"45\" x2=\"85\" y1=\"184.9375\" y2=\"184.9375\"/></a><!--MD5=[209b3feb70ccb6233bfe1053d122c12c]\n",
       "reverse link E2 to E3--><a href=\"psysml:51ecbb7c-6db5-4069-ae0d-bb60efd47f9e\" target=\"_top\" title=\"psysml:51ecbb7c-6db5-4069-ae0d-bb60efd47f9e\" xlink:actuate=\"onRequest\" xlink:href=\"psysml:51ecbb7c-6db5-4069-ae0d-bb60efd47f9e\" xlink:show=\"new\" xlink:title=\"psysml:51ecbb7c-6db5-4069-ae0d-bb60efd47f9e\" xlink:type=\"simple\"><path d=\"M154,100.44 C154,115.87 154,133.47 154,146.98 \" fill=\"none\" id=\"E2&lt;-E3\" style=\"stroke: #A80036; stroke-width: 1.0;\"/><polygon fill=\"#A80036\" points=\"154,87.06,150,93.06,154,99.06,158,93.06,154,87.06\" style=\"stroke: #A80036; stroke-width: 1.0;\"/></a><!--MD5=[62aa6af11e70f752912c1cb0466f24f7]\n",
       "reverse link E4 to E5--><a href=\"psysml:ed499477-fca6-4979-bffe-7845725436ef\" target=\"_top\" title=\"psysml:ed499477-fca6-4979-bffe-7845725436ef\" xlink:actuate=\"onRequest\" xlink:href=\"psysml:ed499477-fca6-4979-bffe-7845725436ef\" xlink:show=\"new\" xlink:title=\"psysml:ed499477-fca6-4979-bffe-7845725436ef\" xlink:type=\"simple\"><path d=\"M65,100.44 C65,115.87 65,133.47 65,146.98 \" fill=\"none\" id=\"E4&lt;-E5\" style=\"stroke: #A80036; stroke-width: 1.0;\"/><polygon fill=\"#A80036\" points=\"65,87.06,61,93.06,65,99.06,69,93.06,65,87.06\" style=\"stroke: #A80036; stroke-width: 1.0;\"/></a><!--MD5=[c0ae67e826c4d5e9d1e6cdc2d72001ec]\n",
       "@startuml\r\n",
       "skinparam wrapWidth 300\r\n",
       "hide circle\r\n",
       "\r\n",
       "package \"Q\" as E1  [[psysml:ef9b7028-f6bf-447e-864f-9dad0bdce88c ]]  {\r\n",
       "comp usage \"f\" as E2  <<(T,blue)part>> [[psysml:4239e231-7164-4547-a8e1-ba39f4362efb ]] {\r\n",
       "}\r\n",
       "comp usage \"a\" as E3  <<(T,blue)part>> [[psysml:51ecbb7c-6db5-4069-ae0d-bb60efd47f9e ]] {\r\n",
       "}\r\n",
       "comp def \"C\" as E4  <<(T,blue)part def>> [[psysml:5da665e6-dcc7-4321-8fa9-423e89fca153 ]] {\r\n",
       "}\r\n",
       "comp usage \"g\" as E5  <<(T,blue)part>> [[psysml:ed499477-fca6-4979-bffe-7845725436ef ]] {\r\n",
       "}\r\n",
       "E2 *- - E3 [[psysml:51ecbb7c-6db5-4069-ae0d-bb60efd47f9e ]] \r\n",
       "E4 *- - E5 [[psysml:ed499477-fca6-4979-bffe-7845725436ef ]] \r\n",
       "}\r\n",
       "@enduml\r\n",
       "\n",
       "PlantUML version 1.2020.13(Sat Jun 13 12:26:38 UTC 2020)\n",
       "(EPL source distribution)\n",
       "Java Runtime: OpenJDK Runtime Environment\n",
       "JVM: OpenJDK 64-Bit Server VM\n",
       "Default Encoding: UTF-8\n",
       "Language: en\n",
       "Country: null\n",
       "--></g></svg>"
      ]
     },
     "execution_count": 28,
     "metadata": {},
     "output_type": "execute_result"
    }
   ],
   "source": [
    "%viz --style=\"STDCOLOR\" --view=\"Sequence\" \"Q\""
   ]
  },
  {
   "cell_type": "code",
   "execution_count": 29,
   "id": "compatible-feature",
   "metadata": {
    "execution": {
     "iopub.execute_input": "2021-03-25T09:26:27.386450Z",
     "iopub.status.busy": "2021-03-25T09:26:27.385379Z",
     "iopub.status.idle": "2021-03-25T09:26:27.436765Z",
     "shell.execute_reply": "2021-03-25T09:26:27.435501Z"
    }
   },
   "outputs": [
    {
     "data": {
      "image/svg+xml": [
       "<?xml version=\"1.0\" encoding=\"UTF-8\" standalone=\"no\"?><svg xmlns=\"http://www.w3.org/2000/svg\" xmlns:xlink=\"http://www.w3.org/1999/xlink\" contentScriptType=\"application/ecmascript\" contentStyleType=\"text/css\" height=\"221px\" preserveAspectRatio=\"none\" style=\"width:213px;height:221px;\" version=\"1.1\" viewBox=\"0 0 213 221\" width=\"213px\" zoomAndPan=\"magnify\"><defs><filter height=\"300%\" id=\"f12mc1vex6luqt\" width=\"300%\" x=\"-1\" y=\"-1\"><feGaussianBlur result=\"blurOut\" stdDeviation=\"2.0\"/><feColorMatrix in=\"blurOut\" result=\"blurOut2\" type=\"matrix\" values=\"0 0 0 0 0 0 0 0 0 0 0 0 0 0 0 0 0 0 .4 0\"/><feOffset dx=\"4.0\" dy=\"4.0\" in=\"blurOut2\" result=\"blurOut3\"/><feBlend in=\"SourceGraphic\" in2=\"blurOut3\" mode=\"normal\"/></filter></defs><g><!--MD5=[fbc87193dbaf4d95561dea2c320d4a47]\n",
       "cluster E1--><a href=\"psysml:ef9b7028-f6bf-447e-864f-9dad0bdce88c\" target=\"_top\" title=\"psysml:ef9b7028-f6bf-447e-864f-9dad0bdce88c\" xlink:actuate=\"onRequest\" xlink:href=\"psysml:ef9b7028-f6bf-447e-864f-9dad0bdce88c\" xlink:show=\"new\" xlink:title=\"psysml:ef9b7028-f6bf-447e-864f-9dad0bdce88c\" xlink:type=\"simple\"><polygon fill=\"#FFFFFF\" filter=\"url(#f12mc1vex6luqt)\" points=\"16,6,34,6,41,28.2969,191,28.2969,191,209,16,209,16,6\" style=\"stroke: #000000; stroke-width: 1.5;\"/><line style=\"stroke: #000000; stroke-width: 1.5;\" x1=\"16\" x2=\"41\" y1=\"28.2969\" y2=\"28.2969\"/><text fill=\"#000000\" font-family=\"sans-serif\" font-size=\"14\" font-weight=\"bold\" lengthAdjust=\"spacingAndGlyphs\" textLength=\"12\" x=\"20\" y=\"20.9951\">Q</text></a><!--MD5=[b4997ac47864f28c2f74865a473b2911]\n",
       "class E2--><a href=\"psysml:4239e231-7164-4547-a8e1-ba39f4362efb\" target=\"_top\" title=\"psysml:4239e231-7164-4547-a8e1-ba39f4362efb\" xlink:actuate=\"onRequest\" xlink:href=\"psysml:4239e231-7164-4547-a8e1-ba39f4362efb\" xlink:show=\"new\" xlink:title=\"psysml:4239e231-7164-4547-a8e1-ba39f4362efb\" xlink:type=\"simple\"><rect fill=\"#FEFECE\" filter=\"url(#f12mc1vex6luqt)\" height=\"45.9375\" id=\"E2\" rx=\"10\" ry=\"10\" style=\"stroke: #A80036; stroke-width: 1.5;\" width=\"42\" x=\"133\" y=\"41\"/><text fill=\"#000000\" font-family=\"sans-serif\" font-size=\"12\" font-style=\"italic\" lengthAdjust=\"spacingAndGlyphs\" textLength=\"40\" x=\"134\" y=\"57.1387\">«part»</text><text fill=\"#000000\" font-family=\"sans-serif\" font-size=\"12\" lengthAdjust=\"spacingAndGlyphs\" textLength=\"4\" x=\"152\" y=\"71.1074\">f</text><line style=\"stroke: #A80036; stroke-width: 1.5;\" x1=\"134\" x2=\"174\" y1=\"78.9375\" y2=\"78.9375\"/></a><!--MD5=[09b614a08d8cba4a07c9adeb5e0fee81]\n",
       "class E3--><a href=\"psysml:51ecbb7c-6db5-4069-ae0d-bb60efd47f9e\" target=\"_top\" title=\"psysml:51ecbb7c-6db5-4069-ae0d-bb60efd47f9e\" xlink:actuate=\"onRequest\" xlink:href=\"psysml:51ecbb7c-6db5-4069-ae0d-bb60efd47f9e\" xlink:show=\"new\" xlink:title=\"psysml:51ecbb7c-6db5-4069-ae0d-bb60efd47f9e\" xlink:type=\"simple\"><rect fill=\"#FEFECE\" filter=\"url(#f12mc1vex6luqt)\" height=\"45.9375\" id=\"E3\" rx=\"10\" ry=\"10\" style=\"stroke: #A80036; stroke-width: 1.5;\" width=\"42\" x=\"133\" y=\"147\"/><text fill=\"#000000\" font-family=\"sans-serif\" font-size=\"12\" font-style=\"italic\" lengthAdjust=\"spacingAndGlyphs\" textLength=\"40\" x=\"134\" y=\"163.1387\">«part»</text><text fill=\"#000000\" font-family=\"sans-serif\" font-size=\"12\" lengthAdjust=\"spacingAndGlyphs\" textLength=\"8\" x=\"150\" y=\"177.1074\">a</text><line style=\"stroke: #A80036; stroke-width: 1.5;\" x1=\"134\" x2=\"174\" y1=\"184.9375\" y2=\"184.9375\"/></a><!--MD5=[ebbe1d658d1005bcc118a6aa81145e00]\n",
       "class E4--><a href=\"psysml:5da665e6-dcc7-4321-8fa9-423e89fca153\" target=\"_top\" title=\"psysml:5da665e6-dcc7-4321-8fa9-423e89fca153\" xlink:actuate=\"onRequest\" xlink:href=\"psysml:5da665e6-dcc7-4321-8fa9-423e89fca153\" xlink:show=\"new\" xlink:title=\"psysml:5da665e6-dcc7-4321-8fa9-423e89fca153\" xlink:type=\"simple\"><rect fill=\"#FEFECE\" filter=\"url(#f12mc1vex6luqt)\" height=\"45.9375\" id=\"E4\" style=\"stroke: #A80036; stroke-width: 1.5;\" width=\"66\" x=\"32\" y=\"41\"/><text fill=\"#000000\" font-family=\"sans-serif\" font-size=\"12\" font-style=\"italic\" lengthAdjust=\"spacingAndGlyphs\" textLength=\"64\" x=\"33\" y=\"57.1387\">«part def»</text><text fill=\"#000000\" font-family=\"sans-serif\" font-size=\"12\" lengthAdjust=\"spacingAndGlyphs\" textLength=\"8\" x=\"61\" y=\"71.1074\">C</text><line style=\"stroke: #A80036; stroke-width: 1.5;\" x1=\"33\" x2=\"97\" y1=\"78.9375\" y2=\"78.9375\"/></a><!--MD5=[270fce915f116d4de14055a7c1d9a0f3]\n",
       "class E5--><a href=\"psysml:ed499477-fca6-4979-bffe-7845725436ef\" target=\"_top\" title=\"psysml:ed499477-fca6-4979-bffe-7845725436ef\" xlink:actuate=\"onRequest\" xlink:href=\"psysml:ed499477-fca6-4979-bffe-7845725436ef\" xlink:show=\"new\" xlink:title=\"psysml:ed499477-fca6-4979-bffe-7845725436ef\" xlink:type=\"simple\"><rect fill=\"#FEFECE\" filter=\"url(#f12mc1vex6luqt)\" height=\"45.9375\" id=\"E5\" rx=\"10\" ry=\"10\" style=\"stroke: #A80036; stroke-width: 1.5;\" width=\"42\" x=\"44\" y=\"147\"/><text fill=\"#000000\" font-family=\"sans-serif\" font-size=\"12\" font-style=\"italic\" lengthAdjust=\"spacingAndGlyphs\" textLength=\"40\" x=\"45\" y=\"163.1387\">«part»</text><text fill=\"#000000\" font-family=\"sans-serif\" font-size=\"12\" lengthAdjust=\"spacingAndGlyphs\" textLength=\"8\" x=\"61\" y=\"177.1074\">g</text><line style=\"stroke: #A80036; stroke-width: 1.5;\" x1=\"45\" x2=\"85\" y1=\"184.9375\" y2=\"184.9375\"/></a><!--MD5=[209b3feb70ccb6233bfe1053d122c12c]\n",
       "reverse link E2 to E3--><a href=\"psysml:51ecbb7c-6db5-4069-ae0d-bb60efd47f9e\" target=\"_top\" title=\"psysml:51ecbb7c-6db5-4069-ae0d-bb60efd47f9e\" xlink:actuate=\"onRequest\" xlink:href=\"psysml:51ecbb7c-6db5-4069-ae0d-bb60efd47f9e\" xlink:show=\"new\" xlink:title=\"psysml:51ecbb7c-6db5-4069-ae0d-bb60efd47f9e\" xlink:type=\"simple\"><path d=\"M154,100.44 C154,115.87 154,133.47 154,146.98 \" fill=\"none\" id=\"E2&lt;-E3\" style=\"stroke: #A80036; stroke-width: 1.0;\"/><polygon fill=\"#A80036\" points=\"154,87.06,150,93.06,154,99.06,158,93.06,154,87.06\" style=\"stroke: #A80036; stroke-width: 1.0;\"/></a><!--MD5=[62aa6af11e70f752912c1cb0466f24f7]\n",
       "reverse link E4 to E5--><a href=\"psysml:ed499477-fca6-4979-bffe-7845725436ef\" target=\"_top\" title=\"psysml:ed499477-fca6-4979-bffe-7845725436ef\" xlink:actuate=\"onRequest\" xlink:href=\"psysml:ed499477-fca6-4979-bffe-7845725436ef\" xlink:show=\"new\" xlink:title=\"psysml:ed499477-fca6-4979-bffe-7845725436ef\" xlink:type=\"simple\"><path d=\"M65,100.44 C65,115.87 65,133.47 65,146.98 \" fill=\"none\" id=\"E4&lt;-E5\" style=\"stroke: #A80036; stroke-width: 1.0;\"/><polygon fill=\"#A80036\" points=\"65,87.06,61,93.06,65,99.06,69,93.06,65,87.06\" style=\"stroke: #A80036; stroke-width: 1.0;\"/></a><!--MD5=[c0ae67e826c4d5e9d1e6cdc2d72001ec]\n",
       "@startuml\r\n",
       "skinparam wrapWidth 300\r\n",
       "hide circle\r\n",
       "\r\n",
       "package \"Q\" as E1  [[psysml:ef9b7028-f6bf-447e-864f-9dad0bdce88c ]]  {\r\n",
       "comp usage \"f\" as E2  <<(T,blue)part>> [[psysml:4239e231-7164-4547-a8e1-ba39f4362efb ]] {\r\n",
       "}\r\n",
       "comp usage \"a\" as E3  <<(T,blue)part>> [[psysml:51ecbb7c-6db5-4069-ae0d-bb60efd47f9e ]] {\r\n",
       "}\r\n",
       "comp def \"C\" as E4  <<(T,blue)part def>> [[psysml:5da665e6-dcc7-4321-8fa9-423e89fca153 ]] {\r\n",
       "}\r\n",
       "comp usage \"g\" as E5  <<(T,blue)part>> [[psysml:ed499477-fca6-4979-bffe-7845725436ef ]] {\r\n",
       "}\r\n",
       "E2 *- - E3 [[psysml:51ecbb7c-6db5-4069-ae0d-bb60efd47f9e ]] \r\n",
       "E4 *- - E5 [[psysml:ed499477-fca6-4979-bffe-7845725436ef ]] \r\n",
       "}\r\n",
       "@enduml\r\n",
       "\n",
       "PlantUML version 1.2020.13(Sat Jun 13 12:26:38 UTC 2020)\n",
       "(EPL source distribution)\n",
       "Java Runtime: OpenJDK Runtime Environment\n",
       "JVM: OpenJDK 64-Bit Server VM\n",
       "Default Encoding: UTF-8\n",
       "Language: en\n",
       "Country: null\n",
       "--></g></svg>"
      ]
     },
     "execution_count": 29,
     "metadata": {},
     "output_type": "execute_result"
    }
   ],
   "source": [
    "%viz --style=\"STDCOLOR\" --view=\"MIXED\" \"Q\""
   ]
  },
  {
   "cell_type": "code",
   "execution_count": 30,
   "id": "satellite-ceramic",
   "metadata": {
    "execution": {
     "iopub.execute_input": "2021-03-25T09:26:27.490939Z",
     "iopub.status.busy": "2021-03-25T09:26:27.490263Z",
     "iopub.status.idle": "2021-03-25T09:26:27.560503Z",
     "shell.execute_reply": "2021-03-25T09:26:27.560874Z"
    }
   },
   "outputs": [
    {
     "data": {
      "image/svg+xml": [
       "<?xml version=\"1.0\" encoding=\"UTF-8\" standalone=\"no\"?><svg xmlns=\"http://www.w3.org/2000/svg\" xmlns:xlink=\"http://www.w3.org/1999/xlink\" contentScriptType=\"application/ecmascript\" contentStyleType=\"text/css\" height=\"221px\" preserveAspectRatio=\"none\" style=\"width:241px;height:221px;\" version=\"1.1\" viewBox=\"0 0 241 221\" width=\"241px\" zoomAndPan=\"magnify\"><defs><filter height=\"300%\" id=\"f1r5e29q44qou7\" width=\"300%\" x=\"-1\" y=\"-1\"><feGaussianBlur result=\"blurOut\" stdDeviation=\"2.0\"/><feColorMatrix in=\"blurOut\" result=\"blurOut2\" type=\"matrix\" values=\"0 0 0 0 0 0 0 0 0 0 0 0 0 0 0 0 0 0 .4 0\"/><feOffset dx=\"4.0\" dy=\"4.0\" in=\"blurOut2\" result=\"blurOut3\"/><feBlend in=\"SourceGraphic\" in2=\"blurOut3\" mode=\"normal\"/></filter></defs><g><!--MD5=[fbc87193dbaf4d95561dea2c320d4a47]\n",
       "cluster E1--><a href=\"psysml:ef9b7028-f6bf-447e-864f-9dad0bdce88c\" target=\"_top\" title=\"psysml:ef9b7028-f6bf-447e-864f-9dad0bdce88c\" xlink:actuate=\"onRequest\" xlink:href=\"psysml:ef9b7028-f6bf-447e-864f-9dad0bdce88c\" xlink:show=\"new\" xlink:title=\"psysml:ef9b7028-f6bf-447e-864f-9dad0bdce88c\" xlink:type=\"simple\"><polygon fill=\"#FFFFFF\" filter=\"url(#f1r5e29q44qou7)\" points=\"16,6,34,6,41,28.2969,219,28.2969,219,209,16,209,16,6\" style=\"stroke: #000000; stroke-width: 1.5;\"/><line style=\"stroke: #000000; stroke-width: 1.5;\" x1=\"16\" x2=\"41\" y1=\"28.2969\" y2=\"28.2969\"/><text fill=\"#000000\" font-family=\"sans-serif\" font-size=\"14\" font-weight=\"bold\" lengthAdjust=\"spacingAndGlyphs\" textLength=\"12\" x=\"20\" y=\"20.9951\">Q</text></a><!--MD5=[b4997ac47864f28c2f74865a473b2911]\n",
       "class E2--><a href=\"psysml:4239e231-7164-4547-a8e1-ba39f4362efb\" target=\"_top\" title=\"psysml:4239e231-7164-4547-a8e1-ba39f4362efb\" xlink:actuate=\"onRequest\" xlink:href=\"psysml:4239e231-7164-4547-a8e1-ba39f4362efb\" xlink:show=\"new\" xlink:title=\"psysml:4239e231-7164-4547-a8e1-ba39f4362efb\" xlink:type=\"simple\"><rect fill=\"#FEFECE\" filter=\"url(#f1r5e29q44qou7)\" height=\"45.9375\" id=\"E2\" rx=\"10\" ry=\"10\" style=\"stroke: #A80036; stroke-width: 1.5;\" width=\"68\" x=\"135\" y=\"41\"/><ellipse cx=\"150\" cy=\"59.9688\" fill=\"#32CD32\" rx=\"11\" ry=\"11\" style=\"stroke: #A80036; stroke-width: 1.0;\"/><path d=\"M149.7969,55.6406 L149.7969,59.2656 L150.7969,59.2656 Q152,59.2656 152.4844,58.8594 Q152.9688,58.4531 152.9688,57.4531 Q152.9688,56.4531 152.4844,56.0469 Q152,55.6406 150.7969,55.6406 L149.7969,55.6406 Z M147.3438,53.5781 L150.7031,53.5781 Q153.2656,53.5781 154.3906,54.5 Q155.5156,55.4063 155.5156,57.4531 Q155.5156,59.5 154.3906,60.4219 Q153.2656,61.3281 150.7031,61.3281 L149.7969,61.3281 L149.7969,65.9688 L147.3438,65.9688 L147.3438,53.5781 Z \"/><text fill=\"#000000\" font-family=\"sans-serif\" font-size=\"12\" font-style=\"italic\" lengthAdjust=\"spacingAndGlyphs\" textLength=\"40\" x=\"162\" y=\"57.1387\">«part»</text><text fill=\"#000000\" font-family=\"sans-serif\" font-size=\"12\" lengthAdjust=\"spacingAndGlyphs\" textLength=\"4\" x=\"180\" y=\"71.1074\">f</text><line style=\"stroke: #A80036; stroke-width: 1.5;\" x1=\"136\" x2=\"202\" y1=\"78.9375\" y2=\"78.9375\"/></a><!--MD5=[09b614a08d8cba4a07c9adeb5e0fee81]\n",
       "class E3--><a href=\"psysml:51ecbb7c-6db5-4069-ae0d-bb60efd47f9e\" target=\"_top\" title=\"psysml:51ecbb7c-6db5-4069-ae0d-bb60efd47f9e\" xlink:actuate=\"onRequest\" xlink:href=\"psysml:51ecbb7c-6db5-4069-ae0d-bb60efd47f9e\" xlink:show=\"new\" xlink:title=\"psysml:51ecbb7c-6db5-4069-ae0d-bb60efd47f9e\" xlink:type=\"simple\"><rect fill=\"#FEFECE\" filter=\"url(#f1r5e29q44qou7)\" height=\"45.9375\" id=\"E3\" rx=\"10\" ry=\"10\" style=\"stroke: #A80036; stroke-width: 1.5;\" width=\"68\" x=\"135\" y=\"147\"/><ellipse cx=\"150\" cy=\"165.9688\" fill=\"#32CD32\" rx=\"11\" ry=\"11\" style=\"stroke: #A80036; stroke-width: 1.0;\"/><path d=\"M149.7969,161.6406 L149.7969,165.2656 L150.7969,165.2656 Q152,165.2656 152.4844,164.8594 Q152.9688,164.4531 152.9688,163.4531 Q152.9688,162.4531 152.4844,162.0469 Q152,161.6406 150.7969,161.6406 L149.7969,161.6406 Z M147.3438,159.5781 L150.7031,159.5781 Q153.2656,159.5781 154.3906,160.5 Q155.5156,161.4063 155.5156,163.4531 Q155.5156,165.5 154.3906,166.4219 Q153.2656,167.3281 150.7031,167.3281 L149.7969,167.3281 L149.7969,171.9688 L147.3438,171.9688 L147.3438,159.5781 Z \"/><text fill=\"#000000\" font-family=\"sans-serif\" font-size=\"12\" font-style=\"italic\" lengthAdjust=\"spacingAndGlyphs\" textLength=\"40\" x=\"162\" y=\"163.1387\">«part»</text><text fill=\"#000000\" font-family=\"sans-serif\" font-size=\"12\" lengthAdjust=\"spacingAndGlyphs\" textLength=\"8\" x=\"178\" y=\"177.1074\">a</text><line style=\"stroke: #A80036; stroke-width: 1.5;\" x1=\"136\" x2=\"202\" y1=\"184.9375\" y2=\"184.9375\"/></a><!--MD5=[ebbe1d658d1005bcc118a6aa81145e00]\n",
       "class E4--><a href=\"psysml:5da665e6-dcc7-4321-8fa9-423e89fca153\" target=\"_top\" title=\"psysml:5da665e6-dcc7-4321-8fa9-423e89fca153\" xlink:actuate=\"onRequest\" xlink:href=\"psysml:5da665e6-dcc7-4321-8fa9-423e89fca153\" xlink:show=\"new\" xlink:title=\"psysml:5da665e6-dcc7-4321-8fa9-423e89fca153\" xlink:type=\"simple\"><rect fill=\"#FEFECE\" filter=\"url(#f1r5e29q44qou7)\" height=\"40\" id=\"E4\" style=\"stroke: #A80036; stroke-width: 1.5;\" width=\"40\" x=\"46\" y=\"44\"/><ellipse cx=\"61\" cy=\"60\" fill=\"#008000\" rx=\"11\" ry=\"11\" style=\"stroke: #A80036; stroke-width: 1.0;\"/><path d=\"M59.9063,60.375 L59.9063,64.0469 L61.5313,64.0469 Q62.7031,64.0469 63.1719,63.6563 Q63.6406,63.25 63.6406,62.25 Q63.6406,61.25 63.1406,60.8125 Q62.6563,60.375 61.5313,60.375 L59.9063,60.375 Z M59.9063,55.5469 L59.9063,58.4219 L61.5313,58.4219 Q62.4531,58.4219 62.8438,58.0938 Q63.25,57.75 63.25,57 Q63.25,56.2344 62.8438,55.8906 Q62.4375,55.5469 61.5313,55.5469 L59.9063,55.5469 Z M57.5313,53.5938 L61.5313,53.5938 Q63.5938,53.5938 64.6406,54.375 Q65.6875,55.1563 65.6875,56.7188 Q65.6875,57.9219 65.0625,58.5938 Q64.4531,59.2656 63.2656,59.375 Q64.6875,59.5156 65.4063,60.3281 Q66.125,61.1406 66.125,62.5938 Q66.125,64.3906 65.0469,65.2031 Q63.9688,66 61.5313,66 L57.5313,66 L57.5313,53.5938 Z \"/><text fill=\"#000000\" font-family=\"sans-serif\" font-size=\"12\" lengthAdjust=\"spacingAndGlyphs\" textLength=\"8\" x=\"75\" y=\"64.1543\">C</text><line style=\"stroke: #A80036; stroke-width: 1.5;\" x1=\"47\" x2=\"85\" y1=\"76\" y2=\"76\"/></a><!--MD5=[270fce915f116d4de14055a7c1d9a0f3]\n",
       "class E5--><a href=\"psysml:ed499477-fca6-4979-bffe-7845725436ef\" target=\"_top\" title=\"psysml:ed499477-fca6-4979-bffe-7845725436ef\" xlink:actuate=\"onRequest\" xlink:href=\"psysml:ed499477-fca6-4979-bffe-7845725436ef\" xlink:show=\"new\" xlink:title=\"psysml:ed499477-fca6-4979-bffe-7845725436ef\" xlink:type=\"simple\"><rect fill=\"#FEFECE\" filter=\"url(#f1r5e29q44qou7)\" height=\"45.9375\" id=\"E5\" rx=\"10\" ry=\"10\" style=\"stroke: #A80036; stroke-width: 1.5;\" width=\"68\" x=\"32\" y=\"147\"/><ellipse cx=\"47\" cy=\"165.9688\" fill=\"#32CD32\" rx=\"11\" ry=\"11\" style=\"stroke: #A80036; stroke-width: 1.0;\"/><path d=\"M46.7969,161.6406 L46.7969,165.2656 L47.7969,165.2656 Q49,165.2656 49.4844,164.8594 Q49.9688,164.4531 49.9688,163.4531 Q49.9688,162.4531 49.4844,162.0469 Q49,161.6406 47.7969,161.6406 L46.7969,161.6406 Z M44.3438,159.5781 L47.7031,159.5781 Q50.2656,159.5781 51.3906,160.5 Q52.5156,161.4063 52.5156,163.4531 Q52.5156,165.5 51.3906,166.4219 Q50.2656,167.3281 47.7031,167.3281 L46.7969,167.3281 L46.7969,171.9688 L44.3438,171.9688 L44.3438,159.5781 Z \"/><text fill=\"#000000\" font-family=\"sans-serif\" font-size=\"12\" font-style=\"italic\" lengthAdjust=\"spacingAndGlyphs\" textLength=\"40\" x=\"59\" y=\"163.1387\">«part»</text><text fill=\"#000000\" font-family=\"sans-serif\" font-size=\"12\" lengthAdjust=\"spacingAndGlyphs\" textLength=\"8\" x=\"75\" y=\"177.1074\">g</text><line style=\"stroke: #A80036; stroke-width: 1.5;\" x1=\"33\" x2=\"99\" y1=\"184.9375\" y2=\"184.9375\"/></a><!--MD5=[209b3feb70ccb6233bfe1053d122c12c]\n",
       "reverse link E2 to E3--><a href=\"psysml:51ecbb7c-6db5-4069-ae0d-bb60efd47f9e\" target=\"_top\" title=\"psysml:51ecbb7c-6db5-4069-ae0d-bb60efd47f9e\" xlink:actuate=\"onRequest\" xlink:href=\"psysml:51ecbb7c-6db5-4069-ae0d-bb60efd47f9e\" xlink:show=\"new\" xlink:title=\"psysml:51ecbb7c-6db5-4069-ae0d-bb60efd47f9e\" xlink:type=\"simple\"><path d=\"M169,100.44 C169,115.87 169,133.47 169,146.98 \" fill=\"none\" id=\"E2&lt;-E3\" style=\"stroke: #A80036; stroke-width: 1.0;\"/><polygon fill=\"#A80036\" points=\"169,87.06,165,93.06,169,99.06,173,93.06,169,87.06\" style=\"stroke: #A80036; stroke-width: 1.0;\"/></a><!--MD5=[62aa6af11e70f752912c1cb0466f24f7]\n",
       "reverse link E4 to E5--><a href=\"psysml:ed499477-fca6-4979-bffe-7845725436ef\" target=\"_top\" title=\"psysml:ed499477-fca6-4979-bffe-7845725436ef\" xlink:actuate=\"onRequest\" xlink:href=\"psysml:ed499477-fca6-4979-bffe-7845725436ef\" xlink:show=\"new\" xlink:title=\"psysml:ed499477-fca6-4979-bffe-7845725436ef\" xlink:type=\"simple\"><path d=\"M66,97.25 C66,113.33 66,132.37 66,146.8 \" fill=\"none\" id=\"E4&lt;-E5\" style=\"stroke: #A80036; stroke-width: 1.0;\"/><polygon fill=\"#A80036\" points=\"66,84.08,62,90.08,66,96.08,70,90.08,66,84.08\" style=\"stroke: #A80036; stroke-width: 1.0;\"/></a><!--MD5=[d89291e10af0396aada77bc308293afa]\n",
       "@startuml\r\n",
       " \r\n",
       "package \"Q\" as E1  [[psysml:ef9b7028-f6bf-447e-864f-9dad0bdce88c ]]  {\r\n",
       "comp usage \"f\" as E2  << (P,limegreen) part>> [[psysml:4239e231-7164-4547-a8e1-ba39f4362efb ]] {\r\n",
       "}\r\n",
       "comp usage \"a\" as E3  << (P,limegreen) part>> [[psysml:51ecbb7c-6db5-4069-ae0d-bb60efd47f9e ]] {\r\n",
       "}\r\n",
       "comp def \"C\" as E4  << (B,green) >> [[psysml:5da665e6-dcc7-4321-8fa9-423e89fca153 ]] {\r\n",
       "}\r\n",
       "comp usage \"g\" as E5  << (P,limegreen) part>> [[psysml:ed499477-fca6-4979-bffe-7845725436ef ]] {\r\n",
       "}\r\n",
       "E2 *- - E3 [[psysml:51ecbb7c-6db5-4069-ae0d-bb60efd47f9e ]] \r\n",
       "E4 *- - E5 [[psysml:ed499477-fca6-4979-bffe-7845725436ef ]] \r\n",
       "}\r\n",
       "@enduml\r\n",
       "\n",
       "PlantUML version 1.2020.13(Sat Jun 13 12:26:38 UTC 2020)\n",
       "(EPL source distribution)\n",
       "Java Runtime: OpenJDK Runtime Environment\n",
       "JVM: OpenJDK 64-Bit Server VM\n",
       "Default Encoding: UTF-8\n",
       "Language: en\n",
       "Country: null\n",
       "--></g></svg>"
      ]
     },
     "execution_count": 30,
     "metadata": {},
     "output_type": "execute_result"
    }
   ],
   "source": [
    "%viz --style=\"PLANTUML\" --view=\"Default\" \"Q\""
   ]
  },
  {
   "cell_type": "code",
   "execution_count": 31,
   "id": "religious-ratio",
   "metadata": {
    "execution": {
     "iopub.execute_input": "2021-03-25T09:26:27.612703Z",
     "iopub.status.busy": "2021-03-25T09:26:27.612136Z",
     "iopub.status.idle": "2021-03-25T09:26:27.658568Z",
     "shell.execute_reply": "2021-03-25T09:26:27.657154Z"
    }
   },
   "outputs": [
    {
     "data": {
      "image/svg+xml": [
       "<?xml version=\"1.0\" encoding=\"UTF-8\" standalone=\"no\"?><svg xmlns=\"http://www.w3.org/2000/svg\" xmlns:xlink=\"http://www.w3.org/1999/xlink\" contentScriptType=\"application/ecmascript\" contentStyleType=\"text/css\" height=\"221px\" preserveAspectRatio=\"none\" style=\"width:241px;height:221px;\" version=\"1.1\" viewBox=\"0 0 241 221\" width=\"241px\" zoomAndPan=\"magnify\"><defs><filter height=\"300%\" id=\"f1r5e29q44qou7\" width=\"300%\" x=\"-1\" y=\"-1\"><feGaussianBlur result=\"blurOut\" stdDeviation=\"2.0\"/><feColorMatrix in=\"blurOut\" result=\"blurOut2\" type=\"matrix\" values=\"0 0 0 0 0 0 0 0 0 0 0 0 0 0 0 0 0 0 .4 0\"/><feOffset dx=\"4.0\" dy=\"4.0\" in=\"blurOut2\" result=\"blurOut3\"/><feBlend in=\"SourceGraphic\" in2=\"blurOut3\" mode=\"normal\"/></filter></defs><g><!--MD5=[fbc87193dbaf4d95561dea2c320d4a47]\n",
       "cluster E1--><a href=\"psysml:ef9b7028-f6bf-447e-864f-9dad0bdce88c\" target=\"_top\" title=\"psysml:ef9b7028-f6bf-447e-864f-9dad0bdce88c\" xlink:actuate=\"onRequest\" xlink:href=\"psysml:ef9b7028-f6bf-447e-864f-9dad0bdce88c\" xlink:show=\"new\" xlink:title=\"psysml:ef9b7028-f6bf-447e-864f-9dad0bdce88c\" xlink:type=\"simple\"><polygon fill=\"#FFFFFF\" filter=\"url(#f1r5e29q44qou7)\" points=\"16,6,34,6,41,28.2969,219,28.2969,219,209,16,209,16,6\" style=\"stroke: #000000; stroke-width: 1.5;\"/><line style=\"stroke: #000000; stroke-width: 1.5;\" x1=\"16\" x2=\"41\" y1=\"28.2969\" y2=\"28.2969\"/><text fill=\"#000000\" font-family=\"sans-serif\" font-size=\"14\" font-weight=\"bold\" lengthAdjust=\"spacingAndGlyphs\" textLength=\"12\" x=\"20\" y=\"20.9951\">Q</text></a><!--MD5=[b4997ac47864f28c2f74865a473b2911]\n",
       "class E2--><a href=\"psysml:4239e231-7164-4547-a8e1-ba39f4362efb\" target=\"_top\" title=\"psysml:4239e231-7164-4547-a8e1-ba39f4362efb\" xlink:actuate=\"onRequest\" xlink:href=\"psysml:4239e231-7164-4547-a8e1-ba39f4362efb\" xlink:show=\"new\" xlink:title=\"psysml:4239e231-7164-4547-a8e1-ba39f4362efb\" xlink:type=\"simple\"><rect fill=\"#FEFECE\" filter=\"url(#f1r5e29q44qou7)\" height=\"45.9375\" id=\"E2\" rx=\"10\" ry=\"10\" style=\"stroke: #A80036; stroke-width: 1.5;\" width=\"68\" x=\"135\" y=\"41\"/><ellipse cx=\"150\" cy=\"59.9688\" fill=\"#32CD32\" rx=\"11\" ry=\"11\" style=\"stroke: #A80036; stroke-width: 1.0;\"/><path d=\"M149.7969,55.6406 L149.7969,59.2656 L150.7969,59.2656 Q152,59.2656 152.4844,58.8594 Q152.9688,58.4531 152.9688,57.4531 Q152.9688,56.4531 152.4844,56.0469 Q152,55.6406 150.7969,55.6406 L149.7969,55.6406 Z M147.3438,53.5781 L150.7031,53.5781 Q153.2656,53.5781 154.3906,54.5 Q155.5156,55.4063 155.5156,57.4531 Q155.5156,59.5 154.3906,60.4219 Q153.2656,61.3281 150.7031,61.3281 L149.7969,61.3281 L149.7969,65.9688 L147.3438,65.9688 L147.3438,53.5781 Z \"/><text fill=\"#000000\" font-family=\"sans-serif\" font-size=\"12\" font-style=\"italic\" lengthAdjust=\"spacingAndGlyphs\" textLength=\"40\" x=\"162\" y=\"57.1387\">«part»</text><text fill=\"#000000\" font-family=\"sans-serif\" font-size=\"12\" lengthAdjust=\"spacingAndGlyphs\" textLength=\"4\" x=\"180\" y=\"71.1074\">f</text><line style=\"stroke: #A80036; stroke-width: 1.5;\" x1=\"136\" x2=\"202\" y1=\"78.9375\" y2=\"78.9375\"/></a><!--MD5=[09b614a08d8cba4a07c9adeb5e0fee81]\n",
       "class E3--><a href=\"psysml:51ecbb7c-6db5-4069-ae0d-bb60efd47f9e\" target=\"_top\" title=\"psysml:51ecbb7c-6db5-4069-ae0d-bb60efd47f9e\" xlink:actuate=\"onRequest\" xlink:href=\"psysml:51ecbb7c-6db5-4069-ae0d-bb60efd47f9e\" xlink:show=\"new\" xlink:title=\"psysml:51ecbb7c-6db5-4069-ae0d-bb60efd47f9e\" xlink:type=\"simple\"><rect fill=\"#FEFECE\" filter=\"url(#f1r5e29q44qou7)\" height=\"45.9375\" id=\"E3\" rx=\"10\" ry=\"10\" style=\"stroke: #A80036; stroke-width: 1.5;\" width=\"68\" x=\"135\" y=\"147\"/><ellipse cx=\"150\" cy=\"165.9688\" fill=\"#32CD32\" rx=\"11\" ry=\"11\" style=\"stroke: #A80036; stroke-width: 1.0;\"/><path d=\"M149.7969,161.6406 L149.7969,165.2656 L150.7969,165.2656 Q152,165.2656 152.4844,164.8594 Q152.9688,164.4531 152.9688,163.4531 Q152.9688,162.4531 152.4844,162.0469 Q152,161.6406 150.7969,161.6406 L149.7969,161.6406 Z M147.3438,159.5781 L150.7031,159.5781 Q153.2656,159.5781 154.3906,160.5 Q155.5156,161.4063 155.5156,163.4531 Q155.5156,165.5 154.3906,166.4219 Q153.2656,167.3281 150.7031,167.3281 L149.7969,167.3281 L149.7969,171.9688 L147.3438,171.9688 L147.3438,159.5781 Z \"/><text fill=\"#000000\" font-family=\"sans-serif\" font-size=\"12\" font-style=\"italic\" lengthAdjust=\"spacingAndGlyphs\" textLength=\"40\" x=\"162\" y=\"163.1387\">«part»</text><text fill=\"#000000\" font-family=\"sans-serif\" font-size=\"12\" lengthAdjust=\"spacingAndGlyphs\" textLength=\"8\" x=\"178\" y=\"177.1074\">a</text><line style=\"stroke: #A80036; stroke-width: 1.5;\" x1=\"136\" x2=\"202\" y1=\"184.9375\" y2=\"184.9375\"/></a><!--MD5=[ebbe1d658d1005bcc118a6aa81145e00]\n",
       "class E4--><a href=\"psysml:5da665e6-dcc7-4321-8fa9-423e89fca153\" target=\"_top\" title=\"psysml:5da665e6-dcc7-4321-8fa9-423e89fca153\" xlink:actuate=\"onRequest\" xlink:href=\"psysml:5da665e6-dcc7-4321-8fa9-423e89fca153\" xlink:show=\"new\" xlink:title=\"psysml:5da665e6-dcc7-4321-8fa9-423e89fca153\" xlink:type=\"simple\"><rect fill=\"#FEFECE\" filter=\"url(#f1r5e29q44qou7)\" height=\"40\" id=\"E4\" style=\"stroke: #A80036; stroke-width: 1.5;\" width=\"40\" x=\"46\" y=\"44\"/><ellipse cx=\"61\" cy=\"60\" fill=\"#008000\" rx=\"11\" ry=\"11\" style=\"stroke: #A80036; stroke-width: 1.0;\"/><path d=\"M59.9063,60.375 L59.9063,64.0469 L61.5313,64.0469 Q62.7031,64.0469 63.1719,63.6563 Q63.6406,63.25 63.6406,62.25 Q63.6406,61.25 63.1406,60.8125 Q62.6563,60.375 61.5313,60.375 L59.9063,60.375 Z M59.9063,55.5469 L59.9063,58.4219 L61.5313,58.4219 Q62.4531,58.4219 62.8438,58.0938 Q63.25,57.75 63.25,57 Q63.25,56.2344 62.8438,55.8906 Q62.4375,55.5469 61.5313,55.5469 L59.9063,55.5469 Z M57.5313,53.5938 L61.5313,53.5938 Q63.5938,53.5938 64.6406,54.375 Q65.6875,55.1563 65.6875,56.7188 Q65.6875,57.9219 65.0625,58.5938 Q64.4531,59.2656 63.2656,59.375 Q64.6875,59.5156 65.4063,60.3281 Q66.125,61.1406 66.125,62.5938 Q66.125,64.3906 65.0469,65.2031 Q63.9688,66 61.5313,66 L57.5313,66 L57.5313,53.5938 Z \"/><text fill=\"#000000\" font-family=\"sans-serif\" font-size=\"12\" lengthAdjust=\"spacingAndGlyphs\" textLength=\"8\" x=\"75\" y=\"64.1543\">C</text><line style=\"stroke: #A80036; stroke-width: 1.5;\" x1=\"47\" x2=\"85\" y1=\"76\" y2=\"76\"/></a><!--MD5=[270fce915f116d4de14055a7c1d9a0f3]\n",
       "class E5--><a href=\"psysml:ed499477-fca6-4979-bffe-7845725436ef\" target=\"_top\" title=\"psysml:ed499477-fca6-4979-bffe-7845725436ef\" xlink:actuate=\"onRequest\" xlink:href=\"psysml:ed499477-fca6-4979-bffe-7845725436ef\" xlink:show=\"new\" xlink:title=\"psysml:ed499477-fca6-4979-bffe-7845725436ef\" xlink:type=\"simple\"><rect fill=\"#FEFECE\" filter=\"url(#f1r5e29q44qou7)\" height=\"45.9375\" id=\"E5\" rx=\"10\" ry=\"10\" style=\"stroke: #A80036; stroke-width: 1.5;\" width=\"68\" x=\"32\" y=\"147\"/><ellipse cx=\"47\" cy=\"165.9688\" fill=\"#32CD32\" rx=\"11\" ry=\"11\" style=\"stroke: #A80036; stroke-width: 1.0;\"/><path d=\"M46.7969,161.6406 L46.7969,165.2656 L47.7969,165.2656 Q49,165.2656 49.4844,164.8594 Q49.9688,164.4531 49.9688,163.4531 Q49.9688,162.4531 49.4844,162.0469 Q49,161.6406 47.7969,161.6406 L46.7969,161.6406 Z M44.3438,159.5781 L47.7031,159.5781 Q50.2656,159.5781 51.3906,160.5 Q52.5156,161.4063 52.5156,163.4531 Q52.5156,165.5 51.3906,166.4219 Q50.2656,167.3281 47.7031,167.3281 L46.7969,167.3281 L46.7969,171.9688 L44.3438,171.9688 L44.3438,159.5781 Z \"/><text fill=\"#000000\" font-family=\"sans-serif\" font-size=\"12\" font-style=\"italic\" lengthAdjust=\"spacingAndGlyphs\" textLength=\"40\" x=\"59\" y=\"163.1387\">«part»</text><text fill=\"#000000\" font-family=\"sans-serif\" font-size=\"12\" lengthAdjust=\"spacingAndGlyphs\" textLength=\"8\" x=\"75\" y=\"177.1074\">g</text><line style=\"stroke: #A80036; stroke-width: 1.5;\" x1=\"33\" x2=\"99\" y1=\"184.9375\" y2=\"184.9375\"/></a><!--MD5=[209b3feb70ccb6233bfe1053d122c12c]\n",
       "reverse link E2 to E3--><a href=\"psysml:51ecbb7c-6db5-4069-ae0d-bb60efd47f9e\" target=\"_top\" title=\"psysml:51ecbb7c-6db5-4069-ae0d-bb60efd47f9e\" xlink:actuate=\"onRequest\" xlink:href=\"psysml:51ecbb7c-6db5-4069-ae0d-bb60efd47f9e\" xlink:show=\"new\" xlink:title=\"psysml:51ecbb7c-6db5-4069-ae0d-bb60efd47f9e\" xlink:type=\"simple\"><path d=\"M169,100.44 C169,115.87 169,133.47 169,146.98 \" fill=\"none\" id=\"E2&lt;-E3\" style=\"stroke: #A80036; stroke-width: 1.0;\"/><polygon fill=\"#A80036\" points=\"169,87.06,165,93.06,169,99.06,173,93.06,169,87.06\" style=\"stroke: #A80036; stroke-width: 1.0;\"/></a><!--MD5=[62aa6af11e70f752912c1cb0466f24f7]\n",
       "reverse link E4 to E5--><a href=\"psysml:ed499477-fca6-4979-bffe-7845725436ef\" target=\"_top\" title=\"psysml:ed499477-fca6-4979-bffe-7845725436ef\" xlink:actuate=\"onRequest\" xlink:href=\"psysml:ed499477-fca6-4979-bffe-7845725436ef\" xlink:show=\"new\" xlink:title=\"psysml:ed499477-fca6-4979-bffe-7845725436ef\" xlink:type=\"simple\"><path d=\"M66,97.25 C66,113.33 66,132.37 66,146.8 \" fill=\"none\" id=\"E4&lt;-E5\" style=\"stroke: #A80036; stroke-width: 1.0;\"/><polygon fill=\"#A80036\" points=\"66,84.08,62,90.08,66,96.08,70,90.08,66,84.08\" style=\"stroke: #A80036; stroke-width: 1.0;\"/></a><!--MD5=[d89291e10af0396aada77bc308293afa]\n",
       "@startuml\r\n",
       " \r\n",
       "package \"Q\" as E1  [[psysml:ef9b7028-f6bf-447e-864f-9dad0bdce88c ]]  {\r\n",
       "comp usage \"f\" as E2  << (P,limegreen) part>> [[psysml:4239e231-7164-4547-a8e1-ba39f4362efb ]] {\r\n",
       "}\r\n",
       "comp usage \"a\" as E3  << (P,limegreen) part>> [[psysml:51ecbb7c-6db5-4069-ae0d-bb60efd47f9e ]] {\r\n",
       "}\r\n",
       "comp def \"C\" as E4  << (B,green) >> [[psysml:5da665e6-dcc7-4321-8fa9-423e89fca153 ]] {\r\n",
       "}\r\n",
       "comp usage \"g\" as E5  << (P,limegreen) part>> [[psysml:ed499477-fca6-4979-bffe-7845725436ef ]] {\r\n",
       "}\r\n",
       "E2 *- - E3 [[psysml:51ecbb7c-6db5-4069-ae0d-bb60efd47f9e ]] \r\n",
       "E4 *- - E5 [[psysml:ed499477-fca6-4979-bffe-7845725436ef ]] \r\n",
       "}\r\n",
       "@enduml\r\n",
       "\n",
       "PlantUML version 1.2020.13(Sat Jun 13 12:26:38 UTC 2020)\n",
       "(EPL source distribution)\n",
       "Java Runtime: OpenJDK Runtime Environment\n",
       "JVM: OpenJDK 64-Bit Server VM\n",
       "Default Encoding: UTF-8\n",
       "Language: en\n",
       "Country: null\n",
       "--></g></svg>"
      ]
     },
     "execution_count": 31,
     "metadata": {},
     "output_type": "execute_result"
    }
   ],
   "source": [
    "%viz --style=\"PLANTUML\" --view=\"Tree\" \"Q\""
   ]
  },
  {
   "cell_type": "code",
   "execution_count": 32,
   "id": "dedicated-portal",
   "metadata": {
    "execution": {
     "iopub.execute_input": "2021-03-25T09:26:27.710763Z",
     "iopub.status.busy": "2021-03-25T09:26:27.710159Z",
     "iopub.status.idle": "2021-03-25T09:26:28.596367Z",
     "shell.execute_reply": "2021-03-25T09:26:28.594936Z"
    }
   },
   "outputs": [
    {
     "data": {
      "image/svg+xml": [
       "<?xml version=\"1.0\" encoding=\"UTF-8\" standalone=\"no\"?><svg xmlns=\"http://www.w3.org/2000/svg\" xmlns:xlink=\"http://www.w3.org/1999/xlink\" contentScriptType=\"application/ecmascript\" contentStyleType=\"text/css\" height=\"303px\" preserveAspectRatio=\"none\" style=\"width:603px;height:303px;background:#000000;\" version=\"1.1\" viewBox=\"0 0 603 303\" width=\"603px\" zoomAndPan=\"magnify\"><defs/><g><rect fill=\"#27051F\" height=\"1\" style=\"stroke: #27051F; stroke-width: 1.0;\" width=\"1\" x=\"0\" y=\"0\"/><rect fill=\"#FFFFFF\" height=\"205.5625\" style=\"stroke: #FFFFFF; stroke-width: 1.0;\" width=\"602\" x=\"0\" y=\"0\"/><text fill=\"#000000\" font-family=\"sans-serif\" font-size=\"12\" font-weight=\"bold\" lengthAdjust=\"spacingAndGlyphs\" textLength=\"159\" x=\"5\" y=\"16.1387\">Welcome to PlantUML!</text><text fill=\"#000000\" font-family=\"sans-serif\" font-size=\"12\" lengthAdjust=\"spacingAndGlyphs\" textLength=\"0\" x=\"9\" y=\"30.1074\"/><text fill=\"#000000\" font-family=\"sans-serif\" font-size=\"12\" lengthAdjust=\"spacingAndGlyphs\" textLength=\"293\" x=\"5\" y=\"44.0762\">If you use this software, you accept its license.</text><text fill=\"#000000\" font-family=\"sans-serif\" font-size=\"12\" lengthAdjust=\"spacingAndGlyphs\" textLength=\"107\" x=\"5\" y=\"58.0449\">(details by typing</text><text fill=\"#000000\" font-family=\"monospace\" font-size=\"12\" lengthAdjust=\"spacingAndGlyphs\" textLength=\"49\" x=\"116\" y=\"58.0449\">license</text><text fill=\"#000000\" font-family=\"sans-serif\" font-size=\"12\" lengthAdjust=\"spacingAndGlyphs\" textLength=\"56\" x=\"169\" y=\"58.0449\">keyword)</text><text fill=\"#000000\" font-family=\"sans-serif\" font-size=\"12\" lengthAdjust=\"spacingAndGlyphs\" textLength=\"0\" x=\"9\" y=\"72.0137\"/><text fill=\"#000000\" font-family=\"sans-serif\" font-size=\"12\" lengthAdjust=\"spacingAndGlyphs\" textLength=\"283\" x=\"5\" y=\"85.9824\">You can start with a simple UML Diagram like:</text><text fill=\"#000000\" font-family=\"sans-serif\" font-size=\"12\" lengthAdjust=\"spacingAndGlyphs\" textLength=\"0\" x=\"9\" y=\"99.9512\"/><text fill=\"#000000\" font-family=\"monospace\" font-size=\"12\" lengthAdjust=\"spacingAndGlyphs\" textLength=\"119\" x=\"5\" y=\"113.9199\">Bob-&gt;Alice: Hello</text><text fill=\"#000000\" font-family=\"sans-serif\" font-size=\"12\" lengthAdjust=\"spacingAndGlyphs\" textLength=\"0\" x=\"9\" y=\"127.8887\"/><text fill=\"#000000\" font-family=\"sans-serif\" font-size=\"12\" lengthAdjust=\"spacingAndGlyphs\" textLength=\"14\" x=\"5\" y=\"141.8574\">Or</text><text fill=\"#000000\" font-family=\"sans-serif\" font-size=\"12\" lengthAdjust=\"spacingAndGlyphs\" textLength=\"0\" x=\"9\" y=\"155.8262\"/><text fill=\"#000000\" font-family=\"monospace\" font-size=\"12\" lengthAdjust=\"spacingAndGlyphs\" textLength=\"91\" x=\"5\" y=\"169.7949\">class Example</text><text fill=\"#000000\" font-family=\"sans-serif\" font-size=\"12\" lengthAdjust=\"spacingAndGlyphs\" textLength=\"0\" x=\"9\" y=\"183.7637\"/><text fill=\"#000000\" font-family=\"sans-serif\" font-size=\"12\" lengthAdjust=\"spacingAndGlyphs\" textLength=\"349\" x=\"5\" y=\"197.7324\">You will find more information about PlantUML syntax on</text><text fill=\"#000000\" font-family=\"sans-serif\" font-size=\"12\" lengthAdjust=\"spacingAndGlyphs\" text-decoration=\"underline\" textLength=\"129\" x=\"358\" y=\"197.7324\">https://plantuml.com</text><image height=\"71\" width=\"80\" x=\"516\" xlink:href=\"data:image/png;base64,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\" y=\"6\"/><rect fill=\"#000000\" height=\"96.4844\" style=\"stroke: #000000; stroke-width: 1.0;\" width=\"602\" x=\"0\" y=\"205.5625\"/><rect fill=\"#33FF02\" height=\"21.2969\" style=\"stroke: #33FF02; stroke-width: 1.0;\" width=\"170\" x=\"5\" y=\"210.5625\"/><text fill=\"#000000\" font-family=\"sans-serif\" font-size=\"14\" font-weight=\"bold\" lengthAdjust=\"spacingAndGlyphs\" textLength=\"168\" x=\"6\" y=\"225.5625\">[From string (line 2) ]</text><text fill=\"#33FF02\" font-family=\"sans-serif\" font-size=\"14\" font-weight=\"bold\" lengthAdjust=\"spacingAndGlyphs\" textLength=\"0\" x=\"10\" y=\"245.8594\"/><text fill=\"#33FF02\" font-family=\"sans-serif\" font-size=\"14\" font-weight=\"bold\" lengthAdjust=\"spacingAndGlyphs\" textLength=\"79\" x=\"5\" y=\"262.1563\">@startuml</text><text fill=\"#33FF02\" font-family=\"sans-serif\" font-size=\"14\" font-weight=\"bold\" lengthAdjust=\"spacingAndGlyphs\" textLength=\"0\" x=\"10\" y=\"278.4531\"/><text fill=\"#FF0000\" font-family=\"sans-serif\" font-size=\"14\" font-weight=\"bold\" lengthAdjust=\"spacingAndGlyphs\" textLength=\"142\" x=\"10\" y=\"294.75\">Empty description</text><!--MD5=[f59edd8218d337f74d0c332fc6737304]\n",
       "@startuml\r\n",
       " \r\n",
       "@enduml\r\n",
       "\n",
       "PlantUML version 1.2020.13(Sat Jun 13 12:26:38 UTC 2020)\n",
       "(EPL source distribution)\n",
       "Java Runtime: OpenJDK Runtime Environment\n",
       "JVM: OpenJDK 64-Bit Server VM\n",
       "Default Encoding: UTF-8\n",
       "Language: en\n",
       "Country: null\n",
       "--></g></svg>"
      ]
     },
     "execution_count": 32,
     "metadata": {},
     "output_type": "execute_result"
    }
   ],
   "source": [
    "%viz --style=\"PLANTUML\" --view=\"State\" \"Q\""
   ]
  },
  {
   "cell_type": "code",
   "execution_count": 33,
   "id": "respected-seeker",
   "metadata": {
    "execution": {
     "iopub.execute_input": "2021-03-25T09:26:28.647628Z",
     "iopub.status.busy": "2021-03-25T09:26:28.647024Z",
     "iopub.status.idle": "2021-03-25T09:26:28.688415Z",
     "shell.execute_reply": "2021-03-25T09:26:28.687092Z"
    }
   },
   "outputs": [
    {
     "data": {
      "image/svg+xml": [
       "<?xml version=\"1.0\" encoding=\"UTF-8\" standalone=\"no\"?><svg xmlns=\"http://www.w3.org/2000/svg\" xmlns:xlink=\"http://www.w3.org/1999/xlink\" contentScriptType=\"application/ecmascript\" contentStyleType=\"text/css\" height=\"176px\" preserveAspectRatio=\"none\" style=\"width:274px;height:176px;\" version=\"1.1\" viewBox=\"0 0 274 176\" width=\"274px\" zoomAndPan=\"magnify\"><defs><filter height=\"300%\" id=\"f136gyn960qtuk\" width=\"300%\" x=\"-1\" y=\"-1\"><feGaussianBlur result=\"blurOut\" stdDeviation=\"2.0\"/><feColorMatrix in=\"blurOut\" result=\"blurOut2\" type=\"matrix\" values=\"0 0 0 0 0 0 0 0 0 0 0 0 0 0 0 0 0 0 .4 0\"/><feOffset dx=\"4.0\" dy=\"4.0\" in=\"blurOut2\" result=\"blurOut3\"/><feBlend in=\"SourceGraphic\" in2=\"blurOut3\" mode=\"normal\"/></filter></defs><g><!--MD5=[fbc87193dbaf4d95561dea2c320d4a47]\n",
       "cluster E1--><a href=\"psysml:ef9b7028-f6bf-447e-864f-9dad0bdce88c\" target=\"_top\" title=\"psysml:ef9b7028-f6bf-447e-864f-9dad0bdce88c\" xlink:actuate=\"onRequest\" xlink:href=\"psysml:ef9b7028-f6bf-447e-864f-9dad0bdce88c\" xlink:show=\"new\" xlink:title=\"psysml:ef9b7028-f6bf-447e-864f-9dad0bdce88c\" xlink:type=\"simple\"><polygon fill=\"#FFFFFF\" filter=\"url(#f136gyn960qtuk)\" points=\"16,6,34,6,41,28.2969,252,28.2969,252,164,16,164,16,6\" style=\"stroke: #000000; stroke-width: 1.5;\"/><line style=\"stroke: #000000; stroke-width: 1.5;\" x1=\"16\" x2=\"41\" y1=\"28.2969\" y2=\"28.2969\"/><text fill=\"#000000\" font-family=\"sans-serif\" font-size=\"14\" font-weight=\"bold\" lengthAdjust=\"spacingAndGlyphs\" textLength=\"12\" x=\"20\" y=\"20.9951\">Q</text></a><!--MD5=[e4f7fae6ed58524ba242bb0b0d3be6b7]\n",
       "cluster E2--><a href=\"psysml:4239e231-7164-4547-a8e1-ba39f4362efb\" target=\"_top\" title=\"psysml:4239e231-7164-4547-a8e1-ba39f4362efb\" xlink:actuate=\"onRequest\" xlink:href=\"psysml:4239e231-7164-4547-a8e1-ba39f4362efb\" xlink:show=\"new\" xlink:title=\"psysml:4239e231-7164-4547-a8e1-ba39f4362efb\" xlink:type=\"simple\"><rect fill=\"#FFFFFF\" filter=\"url(#f136gyn960qtuk)\" height=\"91\" id=\"E2\" rx=\"10\" ry=\"10\" style=\"stroke: #A80036; stroke-width: 1.5;\" width=\"82\" x=\"146\" y=\"49\"/><rect fill=\"#FEFECE\" height=\"23.9688\" rx=\"10\" ry=\"10\" style=\"stroke: #FEFECE; stroke-width: 1.5;\" width=\"82\" x=\"146\" y=\"49\"/><rect fill=\"#FEFECE\" height=\"10\" style=\"stroke: #FEFECE; stroke-width: 1.5;\" width=\"82\" x=\"146\" y=\"62.9688\"/><rect fill=\"none\" height=\"91\" id=\"E2\" rx=\"10\" ry=\"10\" style=\"stroke: #A80036; stroke-width: 1.5;\" width=\"82\" x=\"146\" y=\"49\"/><text fill=\"#000000\" font-family=\"sans-serif\" font-size=\"12\" lengthAdjust=\"spacingAndGlyphs\" textLength=\"4\" x=\"185\" y=\"65.1387\">f</text><line style=\"stroke: #A80036; stroke-width: 1.0;\" x1=\"146\" x2=\"228\" y1=\"72.9688\" y2=\"72.9688\"/></a><!--MD5=[f6df4d0ebaf0b5dfb2ced0ae5af7c670]\n",
       "cluster E4--><a href=\"psysml:5da665e6-dcc7-4321-8fa9-423e89fca153\" target=\"_top\" title=\"psysml:5da665e6-dcc7-4321-8fa9-423e89fca153\" xlink:actuate=\"onRequest\" xlink:href=\"psysml:5da665e6-dcc7-4321-8fa9-423e89fca153\" xlink:show=\"new\" xlink:title=\"psysml:5da665e6-dcc7-4321-8fa9-423e89fca153\" xlink:type=\"simple\"><rect fill=\"#FFFFFF\" filter=\"url(#f136gyn960qtuk)\" height=\"91\" id=\"E4\" style=\"stroke: #A80036; stroke-width: 1.5;\" width=\"82\" x=\"40\" y=\"49\"/><rect fill=\"#FEFECE\" height=\"23.9688\" style=\"stroke: #A80036; stroke-width: 1.5;\" width=\"82\" x=\"40\" y=\"49\"/><text fill=\"#000000\" font-family=\"sans-serif\" font-size=\"12\" lengthAdjust=\"spacingAndGlyphs\" textLength=\"8\" x=\"77\" y=\"65.1387\">C</text></a><g id=\"E1.E2.E3\"><a href=\"psysml:51ecbb7c-6db5-4069-ae0d-bb60efd47f9e\" target=\"_top\" title=\"psysml:51ecbb7c-6db5-4069-ae0d-bb60efd47f9e\" xlink:actuate=\"onRequest\" xlink:href=\"psysml:51ecbb7c-6db5-4069-ae0d-bb60efd47f9e\" xlink:show=\"new\" xlink:title=\"psysml:51ecbb7c-6db5-4069-ae0d-bb60efd47f9e\" xlink:type=\"simple\"><rect fill=\"#FEFECE\" filter=\"url(#f136gyn960qtuk)\" height=\"40\" id=\"E3\" rx=\"10\" ry=\"10\" style=\"stroke: #A80036; stroke-width: 1.5;\" width=\"50\" x=\"162\" y=\"84\"/><ellipse cx=\"181.5\" cy=\"100\" fill=\"#B6DBBB\" rx=\"11\" ry=\"11\" style=\"stroke: #A80036; stroke-width: 1.0;\"/><path d=\"M177.375,101.9219 L177.375,94.1094 L179.8281,94.1094 L179.8281,102.5469 Q179.8281,103.4688 180.2969,104 Q180.7813,104.5313 181.6094,104.5313 Q182.4531,104.5313 182.9219,104 Q183.3906,103.4688 183.3906,102.5469 L183.3906,94.1094 L185.8438,94.1094 L185.8438,101.9219 Q185.8438,104.4531 184.8438,105.5938 Q183.8438,106.7344 181.6094,106.7344 Q179.3906,106.7344 178.375,105.5938 Q177.375,104.4531 177.375,101.9219 Z \"/><text fill=\"#000000\" font-family=\"sans-serif\" font-size=\"12\" lengthAdjust=\"spacingAndGlyphs\" textLength=\"8\" x=\"196.5\" y=\"104.1543\">a</text></a></g><g id=\"E1.E4.E5\"><a href=\"psysml:ed499477-fca6-4979-bffe-7845725436ef\" target=\"_top\" title=\"psysml:ed499477-fca6-4979-bffe-7845725436ef\" xlink:actuate=\"onRequest\" xlink:href=\"psysml:ed499477-fca6-4979-bffe-7845725436ef\" xlink:show=\"new\" xlink:title=\"psysml:ed499477-fca6-4979-bffe-7845725436ef\" xlink:type=\"simple\"><rect fill=\"#FEFECE\" filter=\"url(#f136gyn960qtuk)\" height=\"40\" id=\"E5\" rx=\"10\" ry=\"10\" style=\"stroke: #A80036; stroke-width: 1.5;\" width=\"50\" x=\"56\" y=\"84\"/><ellipse cx=\"75.5\" cy=\"100\" fill=\"#B6DBBB\" rx=\"11\" ry=\"11\" style=\"stroke: #A80036; stroke-width: 1.0;\"/><path d=\"M71.375,101.9219 L71.375,94.1094 L73.8281,94.1094 L73.8281,102.5469 Q73.8281,103.4688 74.2969,104 Q74.7813,104.5313 75.6094,104.5313 Q76.4531,104.5313 76.9219,104 Q77.3906,103.4688 77.3906,102.5469 L77.3906,94.1094 L79.8438,94.1094 L79.8438,101.9219 Q79.8438,104.4531 78.8438,105.5938 Q77.8438,106.7344 75.6094,106.7344 Q73.3906,106.7344 72.375,105.5938 Q71.375,104.4531 71.375,101.9219 Z \"/><text fill=\"#000000\" font-family=\"sans-serif\" font-size=\"12\" lengthAdjust=\"spacingAndGlyphs\" textLength=\"8\" x=\"90.5\" y=\"104.1543\">g</text></a></g><!--MD5=[283b8ae0ffa93a64fdd321dfe65a4ab7]\n",
       "@startuml\r\n",
       "skinparam ranksep 8\r\n",
       "skinparam rectangle {\r\n",
       " backgroundColor<<block>> LightGreen\r\n",
       "}\r\n",
       " \r\n",
       "package \"Q\" as E1  [[psysml:ef9b7028-f6bf-447e-864f-9dad0bdce88c ]]  {\r\n",
       "rec usage \"f\" as E2  [[psysml:4239e231-7164-4547-a8e1-ba39f4362efb ]] {\r\n",
       "rec usage \"a\" as E3  [[psysml:51ecbb7c-6db5-4069-ae0d-bb60efd47f9e ]] {\r\n",
       "}\r\n",
       "}\r\n",
       "rec def \"C\" as E4  << (B,green) >> [[psysml:5da665e6-dcc7-4321-8fa9-423e89fca153 ]] {\r\n",
       "rec usage \"g\" as E5  [[psysml:ed499477-fca6-4979-bffe-7845725436ef ]] {\r\n",
       "}\r\n",
       "}\r\n",
       "}\r\n",
       "@enduml\r\n",
       "\n",
       "PlantUML version 1.2020.13(Sat Jun 13 12:26:38 UTC 2020)\n",
       "(EPL source distribution)\n",
       "Java Runtime: OpenJDK Runtime Environment\n",
       "JVM: OpenJDK 64-Bit Server VM\n",
       "Default Encoding: UTF-8\n",
       "Language: en\n",
       "Country: null\n",
       "--></g></svg>"
      ]
     },
     "execution_count": 33,
     "metadata": {},
     "output_type": "execute_result"
    }
   ],
   "source": [
    "%viz --style=\"PLANTUML\" --view=\"Interconnection\" \"Q\""
   ]
  },
  {
   "cell_type": "code",
   "execution_count": 34,
   "id": "approximate-overhead",
   "metadata": {
    "execution": {
     "iopub.execute_input": "2021-03-25T09:26:28.738824Z",
     "iopub.status.busy": "2021-03-25T09:26:28.738312Z",
     "iopub.status.idle": "2021-03-25T09:26:28.743864Z",
     "shell.execute_reply": "2021-03-25T09:26:28.744250Z"
    }
   },
   "outputs": [
    {
     "data": {
      "image/svg+xml": [
       "<?xml version=\"1.0\" encoding=\"UTF-8\" standalone=\"no\"?><svg xmlns=\"http://www.w3.org/2000/svg\" xmlns:xlink=\"http://www.w3.org/1999/xlink\" contentScriptType=\"application/ecmascript\" contentStyleType=\"text/css\" height=\"12px\" preserveAspectRatio=\"none\" style=\"width:12px;height:12px;\" version=\"1.1\" viewBox=\"0 0 12 12\" width=\"12px\" zoomAndPan=\"magnify\"><defs/><g><!--MD5=[6a4cb978cab31700e1ce5529f947a75d]\n",
       "@startuml\r\n",
       "skinparam ranksep 8\r\n",
       " \r\n",
       "@enduml\r\n",
       "\n",
       "PlantUML version 1.2020.13(Sat Jun 13 12:26:38 UTC 2020)\n",
       "(EPL source distribution)\n",
       "Java Runtime: OpenJDK Runtime Environment\n",
       "JVM: OpenJDK 64-Bit Server VM\n",
       "Default Encoding: UTF-8\n",
       "Language: en\n",
       "Country: null\n",
       "--></g></svg>"
      ]
     },
     "execution_count": 34,
     "metadata": {},
     "output_type": "execute_result"
    }
   ],
   "source": [
    "%viz --style=\"PLANTUML\" --view=\"Action\" \"Q\""
   ]
  },
  {
   "cell_type": "code",
   "execution_count": 35,
   "id": "destroyed-release",
   "metadata": {
    "execution": {
     "iopub.execute_input": "2021-03-25T09:26:28.796908Z",
     "iopub.status.busy": "2021-03-25T09:26:28.795907Z",
     "iopub.status.idle": "2021-03-25T09:26:28.848084Z",
     "shell.execute_reply": "2021-03-25T09:26:28.846565Z"
    }
   },
   "outputs": [
    {
     "data": {
      "image/svg+xml": [
       "<?xml version=\"1.0\" encoding=\"UTF-8\" standalone=\"no\"?><svg xmlns=\"http://www.w3.org/2000/svg\" xmlns:xlink=\"http://www.w3.org/1999/xlink\" contentScriptType=\"application/ecmascript\" contentStyleType=\"text/css\" height=\"221px\" preserveAspectRatio=\"none\" style=\"width:241px;height:221px;\" version=\"1.1\" viewBox=\"0 0 241 221\" width=\"241px\" zoomAndPan=\"magnify\"><defs><filter height=\"300%\" id=\"f1r5e29q44qou7\" width=\"300%\" x=\"-1\" y=\"-1\"><feGaussianBlur result=\"blurOut\" stdDeviation=\"2.0\"/><feColorMatrix in=\"blurOut\" result=\"blurOut2\" type=\"matrix\" values=\"0 0 0 0 0 0 0 0 0 0 0 0 0 0 0 0 0 0 .4 0\"/><feOffset dx=\"4.0\" dy=\"4.0\" in=\"blurOut2\" result=\"blurOut3\"/><feBlend in=\"SourceGraphic\" in2=\"blurOut3\" mode=\"normal\"/></filter></defs><g><!--MD5=[fbc87193dbaf4d95561dea2c320d4a47]\n",
       "cluster E1--><a href=\"psysml:ef9b7028-f6bf-447e-864f-9dad0bdce88c\" target=\"_top\" title=\"psysml:ef9b7028-f6bf-447e-864f-9dad0bdce88c\" xlink:actuate=\"onRequest\" xlink:href=\"psysml:ef9b7028-f6bf-447e-864f-9dad0bdce88c\" xlink:show=\"new\" xlink:title=\"psysml:ef9b7028-f6bf-447e-864f-9dad0bdce88c\" xlink:type=\"simple\"><polygon fill=\"#FFFFFF\" filter=\"url(#f1r5e29q44qou7)\" points=\"16,6,34,6,41,28.2969,219,28.2969,219,209,16,209,16,6\" style=\"stroke: #000000; stroke-width: 1.5;\"/><line style=\"stroke: #000000; stroke-width: 1.5;\" x1=\"16\" x2=\"41\" y1=\"28.2969\" y2=\"28.2969\"/><text fill=\"#000000\" font-family=\"sans-serif\" font-size=\"14\" font-weight=\"bold\" lengthAdjust=\"spacingAndGlyphs\" textLength=\"12\" x=\"20\" y=\"20.9951\">Q</text></a><!--MD5=[b4997ac47864f28c2f74865a473b2911]\n",
       "class E2--><a href=\"psysml:4239e231-7164-4547-a8e1-ba39f4362efb\" target=\"_top\" title=\"psysml:4239e231-7164-4547-a8e1-ba39f4362efb\" xlink:actuate=\"onRequest\" xlink:href=\"psysml:4239e231-7164-4547-a8e1-ba39f4362efb\" xlink:show=\"new\" xlink:title=\"psysml:4239e231-7164-4547-a8e1-ba39f4362efb\" xlink:type=\"simple\"><rect fill=\"#FEFECE\" filter=\"url(#f1r5e29q44qou7)\" height=\"45.9375\" id=\"E2\" rx=\"10\" ry=\"10\" style=\"stroke: #A80036; stroke-width: 1.5;\" width=\"68\" x=\"135\" y=\"41\"/><ellipse cx=\"150\" cy=\"59.9688\" fill=\"#32CD32\" rx=\"11\" ry=\"11\" style=\"stroke: #A80036; stroke-width: 1.0;\"/><path d=\"M149.7969,55.6406 L149.7969,59.2656 L150.7969,59.2656 Q152,59.2656 152.4844,58.8594 Q152.9688,58.4531 152.9688,57.4531 Q152.9688,56.4531 152.4844,56.0469 Q152,55.6406 150.7969,55.6406 L149.7969,55.6406 Z M147.3438,53.5781 L150.7031,53.5781 Q153.2656,53.5781 154.3906,54.5 Q155.5156,55.4063 155.5156,57.4531 Q155.5156,59.5 154.3906,60.4219 Q153.2656,61.3281 150.7031,61.3281 L149.7969,61.3281 L149.7969,65.9688 L147.3438,65.9688 L147.3438,53.5781 Z \"/><text fill=\"#000000\" font-family=\"sans-serif\" font-size=\"12\" font-style=\"italic\" lengthAdjust=\"spacingAndGlyphs\" textLength=\"40\" x=\"162\" y=\"57.1387\">«part»</text><text fill=\"#000000\" font-family=\"sans-serif\" font-size=\"12\" lengthAdjust=\"spacingAndGlyphs\" textLength=\"4\" x=\"180\" y=\"71.1074\">f</text><line style=\"stroke: #A80036; stroke-width: 1.5;\" x1=\"136\" x2=\"202\" y1=\"78.9375\" y2=\"78.9375\"/></a><!--MD5=[09b614a08d8cba4a07c9adeb5e0fee81]\n",
       "class E3--><a href=\"psysml:51ecbb7c-6db5-4069-ae0d-bb60efd47f9e\" target=\"_top\" title=\"psysml:51ecbb7c-6db5-4069-ae0d-bb60efd47f9e\" xlink:actuate=\"onRequest\" xlink:href=\"psysml:51ecbb7c-6db5-4069-ae0d-bb60efd47f9e\" xlink:show=\"new\" xlink:title=\"psysml:51ecbb7c-6db5-4069-ae0d-bb60efd47f9e\" xlink:type=\"simple\"><rect fill=\"#FEFECE\" filter=\"url(#f1r5e29q44qou7)\" height=\"45.9375\" id=\"E3\" rx=\"10\" ry=\"10\" style=\"stroke: #A80036; stroke-width: 1.5;\" width=\"68\" x=\"135\" y=\"147\"/><ellipse cx=\"150\" cy=\"165.9688\" fill=\"#32CD32\" rx=\"11\" ry=\"11\" style=\"stroke: #A80036; stroke-width: 1.0;\"/><path d=\"M149.7969,161.6406 L149.7969,165.2656 L150.7969,165.2656 Q152,165.2656 152.4844,164.8594 Q152.9688,164.4531 152.9688,163.4531 Q152.9688,162.4531 152.4844,162.0469 Q152,161.6406 150.7969,161.6406 L149.7969,161.6406 Z M147.3438,159.5781 L150.7031,159.5781 Q153.2656,159.5781 154.3906,160.5 Q155.5156,161.4063 155.5156,163.4531 Q155.5156,165.5 154.3906,166.4219 Q153.2656,167.3281 150.7031,167.3281 L149.7969,167.3281 L149.7969,171.9688 L147.3438,171.9688 L147.3438,159.5781 Z \"/><text fill=\"#000000\" font-family=\"sans-serif\" font-size=\"12\" font-style=\"italic\" lengthAdjust=\"spacingAndGlyphs\" textLength=\"40\" x=\"162\" y=\"163.1387\">«part»</text><text fill=\"#000000\" font-family=\"sans-serif\" font-size=\"12\" lengthAdjust=\"spacingAndGlyphs\" textLength=\"8\" x=\"178\" y=\"177.1074\">a</text><line style=\"stroke: #A80036; stroke-width: 1.5;\" x1=\"136\" x2=\"202\" y1=\"184.9375\" y2=\"184.9375\"/></a><!--MD5=[ebbe1d658d1005bcc118a6aa81145e00]\n",
       "class E4--><a href=\"psysml:5da665e6-dcc7-4321-8fa9-423e89fca153\" target=\"_top\" title=\"psysml:5da665e6-dcc7-4321-8fa9-423e89fca153\" xlink:actuate=\"onRequest\" xlink:href=\"psysml:5da665e6-dcc7-4321-8fa9-423e89fca153\" xlink:show=\"new\" xlink:title=\"psysml:5da665e6-dcc7-4321-8fa9-423e89fca153\" xlink:type=\"simple\"><rect fill=\"#FEFECE\" filter=\"url(#f1r5e29q44qou7)\" height=\"40\" id=\"E4\" style=\"stroke: #A80036; stroke-width: 1.5;\" width=\"40\" x=\"46\" y=\"44\"/><ellipse cx=\"61\" cy=\"60\" fill=\"#008000\" rx=\"11\" ry=\"11\" style=\"stroke: #A80036; stroke-width: 1.0;\"/><path d=\"M59.9063,60.375 L59.9063,64.0469 L61.5313,64.0469 Q62.7031,64.0469 63.1719,63.6563 Q63.6406,63.25 63.6406,62.25 Q63.6406,61.25 63.1406,60.8125 Q62.6563,60.375 61.5313,60.375 L59.9063,60.375 Z M59.9063,55.5469 L59.9063,58.4219 L61.5313,58.4219 Q62.4531,58.4219 62.8438,58.0938 Q63.25,57.75 63.25,57 Q63.25,56.2344 62.8438,55.8906 Q62.4375,55.5469 61.5313,55.5469 L59.9063,55.5469 Z M57.5313,53.5938 L61.5313,53.5938 Q63.5938,53.5938 64.6406,54.375 Q65.6875,55.1563 65.6875,56.7188 Q65.6875,57.9219 65.0625,58.5938 Q64.4531,59.2656 63.2656,59.375 Q64.6875,59.5156 65.4063,60.3281 Q66.125,61.1406 66.125,62.5938 Q66.125,64.3906 65.0469,65.2031 Q63.9688,66 61.5313,66 L57.5313,66 L57.5313,53.5938 Z \"/><text fill=\"#000000\" font-family=\"sans-serif\" font-size=\"12\" lengthAdjust=\"spacingAndGlyphs\" textLength=\"8\" x=\"75\" y=\"64.1543\">C</text><line style=\"stroke: #A80036; stroke-width: 1.5;\" x1=\"47\" x2=\"85\" y1=\"76\" y2=\"76\"/></a><!--MD5=[270fce915f116d4de14055a7c1d9a0f3]\n",
       "class E5--><a href=\"psysml:ed499477-fca6-4979-bffe-7845725436ef\" target=\"_top\" title=\"psysml:ed499477-fca6-4979-bffe-7845725436ef\" xlink:actuate=\"onRequest\" xlink:href=\"psysml:ed499477-fca6-4979-bffe-7845725436ef\" xlink:show=\"new\" xlink:title=\"psysml:ed499477-fca6-4979-bffe-7845725436ef\" xlink:type=\"simple\"><rect fill=\"#FEFECE\" filter=\"url(#f1r5e29q44qou7)\" height=\"45.9375\" id=\"E5\" rx=\"10\" ry=\"10\" style=\"stroke: #A80036; stroke-width: 1.5;\" width=\"68\" x=\"32\" y=\"147\"/><ellipse cx=\"47\" cy=\"165.9688\" fill=\"#32CD32\" rx=\"11\" ry=\"11\" style=\"stroke: #A80036; stroke-width: 1.0;\"/><path d=\"M46.7969,161.6406 L46.7969,165.2656 L47.7969,165.2656 Q49,165.2656 49.4844,164.8594 Q49.9688,164.4531 49.9688,163.4531 Q49.9688,162.4531 49.4844,162.0469 Q49,161.6406 47.7969,161.6406 L46.7969,161.6406 Z M44.3438,159.5781 L47.7031,159.5781 Q50.2656,159.5781 51.3906,160.5 Q52.5156,161.4063 52.5156,163.4531 Q52.5156,165.5 51.3906,166.4219 Q50.2656,167.3281 47.7031,167.3281 L46.7969,167.3281 L46.7969,171.9688 L44.3438,171.9688 L44.3438,159.5781 Z \"/><text fill=\"#000000\" font-family=\"sans-serif\" font-size=\"12\" font-style=\"italic\" lengthAdjust=\"spacingAndGlyphs\" textLength=\"40\" x=\"59\" y=\"163.1387\">«part»</text><text fill=\"#000000\" font-family=\"sans-serif\" font-size=\"12\" lengthAdjust=\"spacingAndGlyphs\" textLength=\"8\" x=\"75\" y=\"177.1074\">g</text><line style=\"stroke: #A80036; stroke-width: 1.5;\" x1=\"33\" x2=\"99\" y1=\"184.9375\" y2=\"184.9375\"/></a><!--MD5=[209b3feb70ccb6233bfe1053d122c12c]\n",
       "reverse link E2 to E3--><a href=\"psysml:51ecbb7c-6db5-4069-ae0d-bb60efd47f9e\" target=\"_top\" title=\"psysml:51ecbb7c-6db5-4069-ae0d-bb60efd47f9e\" xlink:actuate=\"onRequest\" xlink:href=\"psysml:51ecbb7c-6db5-4069-ae0d-bb60efd47f9e\" xlink:show=\"new\" xlink:title=\"psysml:51ecbb7c-6db5-4069-ae0d-bb60efd47f9e\" xlink:type=\"simple\"><path d=\"M169,100.44 C169,115.87 169,133.47 169,146.98 \" fill=\"none\" id=\"E2&lt;-E3\" style=\"stroke: #A80036; stroke-width: 1.0;\"/><polygon fill=\"#A80036\" points=\"169,87.06,165,93.06,169,99.06,173,93.06,169,87.06\" style=\"stroke: #A80036; stroke-width: 1.0;\"/></a><!--MD5=[62aa6af11e70f752912c1cb0466f24f7]\n",
       "reverse link E4 to E5--><a href=\"psysml:ed499477-fca6-4979-bffe-7845725436ef\" target=\"_top\" title=\"psysml:ed499477-fca6-4979-bffe-7845725436ef\" xlink:actuate=\"onRequest\" xlink:href=\"psysml:ed499477-fca6-4979-bffe-7845725436ef\" xlink:show=\"new\" xlink:title=\"psysml:ed499477-fca6-4979-bffe-7845725436ef\" xlink:type=\"simple\"><path d=\"M66,97.25 C66,113.33 66,132.37 66,146.8 \" fill=\"none\" id=\"E4&lt;-E5\" style=\"stroke: #A80036; stroke-width: 1.0;\"/><polygon fill=\"#A80036\" points=\"66,84.08,62,90.08,66,96.08,70,90.08,66,84.08\" style=\"stroke: #A80036; stroke-width: 1.0;\"/></a><!--MD5=[d89291e10af0396aada77bc308293afa]\n",
       "@startuml\r\n",
       " \r\n",
       "package \"Q\" as E1  [[psysml:ef9b7028-f6bf-447e-864f-9dad0bdce88c ]]  {\r\n",
       "comp usage \"f\" as E2  << (P,limegreen) part>> [[psysml:4239e231-7164-4547-a8e1-ba39f4362efb ]] {\r\n",
       "}\r\n",
       "comp usage \"a\" as E3  << (P,limegreen) part>> [[psysml:51ecbb7c-6db5-4069-ae0d-bb60efd47f9e ]] {\r\n",
       "}\r\n",
       "comp def \"C\" as E4  << (B,green) >> [[psysml:5da665e6-dcc7-4321-8fa9-423e89fca153 ]] {\r\n",
       "}\r\n",
       "comp usage \"g\" as E5  << (P,limegreen) part>> [[psysml:ed499477-fca6-4979-bffe-7845725436ef ]] {\r\n",
       "}\r\n",
       "E2 *- - E3 [[psysml:51ecbb7c-6db5-4069-ae0d-bb60efd47f9e ]] \r\n",
       "E4 *- - E5 [[psysml:ed499477-fca6-4979-bffe-7845725436ef ]] \r\n",
       "}\r\n",
       "@enduml\r\n",
       "\n",
       "PlantUML version 1.2020.13(Sat Jun 13 12:26:38 UTC 2020)\n",
       "(EPL source distribution)\n",
       "Java Runtime: OpenJDK Runtime Environment\n",
       "JVM: OpenJDK 64-Bit Server VM\n",
       "Default Encoding: UTF-8\n",
       "Language: en\n",
       "Country: null\n",
       "--></g></svg>"
      ]
     },
     "execution_count": 35,
     "metadata": {},
     "output_type": "execute_result"
    }
   ],
   "source": [
    "%viz --style=\"PLANTUML\" --view=\"Sequence\" \"Q\""
   ]
  },
  {
   "cell_type": "code",
   "execution_count": 36,
   "id": "prescription-width",
   "metadata": {
    "execution": {
     "iopub.execute_input": "2021-03-25T09:26:28.901096Z",
     "iopub.status.busy": "2021-03-25T09:26:28.900455Z",
     "iopub.status.idle": "2021-03-25T09:26:28.945005Z",
     "shell.execute_reply": "2021-03-25T09:26:28.943655Z"
    }
   },
   "outputs": [
    {
     "data": {
      "image/svg+xml": [
       "<?xml version=\"1.0\" encoding=\"UTF-8\" standalone=\"no\"?><svg xmlns=\"http://www.w3.org/2000/svg\" xmlns:xlink=\"http://www.w3.org/1999/xlink\" contentScriptType=\"application/ecmascript\" contentStyleType=\"text/css\" height=\"221px\" preserveAspectRatio=\"none\" style=\"width:241px;height:221px;\" version=\"1.1\" viewBox=\"0 0 241 221\" width=\"241px\" zoomAndPan=\"magnify\"><defs><filter height=\"300%\" id=\"f1r5e29q44qou7\" width=\"300%\" x=\"-1\" y=\"-1\"><feGaussianBlur result=\"blurOut\" stdDeviation=\"2.0\"/><feColorMatrix in=\"blurOut\" result=\"blurOut2\" type=\"matrix\" values=\"0 0 0 0 0 0 0 0 0 0 0 0 0 0 0 0 0 0 .4 0\"/><feOffset dx=\"4.0\" dy=\"4.0\" in=\"blurOut2\" result=\"blurOut3\"/><feBlend in=\"SourceGraphic\" in2=\"blurOut3\" mode=\"normal\"/></filter></defs><g><!--MD5=[fbc87193dbaf4d95561dea2c320d4a47]\n",
       "cluster E1--><a href=\"psysml:ef9b7028-f6bf-447e-864f-9dad0bdce88c\" target=\"_top\" title=\"psysml:ef9b7028-f6bf-447e-864f-9dad0bdce88c\" xlink:actuate=\"onRequest\" xlink:href=\"psysml:ef9b7028-f6bf-447e-864f-9dad0bdce88c\" xlink:show=\"new\" xlink:title=\"psysml:ef9b7028-f6bf-447e-864f-9dad0bdce88c\" xlink:type=\"simple\"><polygon fill=\"#FFFFFF\" filter=\"url(#f1r5e29q44qou7)\" points=\"16,6,34,6,41,28.2969,219,28.2969,219,209,16,209,16,6\" style=\"stroke: #000000; stroke-width: 1.5;\"/><line style=\"stroke: #000000; stroke-width: 1.5;\" x1=\"16\" x2=\"41\" y1=\"28.2969\" y2=\"28.2969\"/><text fill=\"#000000\" font-family=\"sans-serif\" font-size=\"14\" font-weight=\"bold\" lengthAdjust=\"spacingAndGlyphs\" textLength=\"12\" x=\"20\" y=\"20.9951\">Q</text></a><!--MD5=[b4997ac47864f28c2f74865a473b2911]\n",
       "class E2--><a href=\"psysml:4239e231-7164-4547-a8e1-ba39f4362efb\" target=\"_top\" title=\"psysml:4239e231-7164-4547-a8e1-ba39f4362efb\" xlink:actuate=\"onRequest\" xlink:href=\"psysml:4239e231-7164-4547-a8e1-ba39f4362efb\" xlink:show=\"new\" xlink:title=\"psysml:4239e231-7164-4547-a8e1-ba39f4362efb\" xlink:type=\"simple\"><rect fill=\"#FEFECE\" filter=\"url(#f1r5e29q44qou7)\" height=\"45.9375\" id=\"E2\" rx=\"10\" ry=\"10\" style=\"stroke: #A80036; stroke-width: 1.5;\" width=\"68\" x=\"135\" y=\"41\"/><ellipse cx=\"150\" cy=\"59.9688\" fill=\"#32CD32\" rx=\"11\" ry=\"11\" style=\"stroke: #A80036; stroke-width: 1.0;\"/><path d=\"M149.7969,55.6406 L149.7969,59.2656 L150.7969,59.2656 Q152,59.2656 152.4844,58.8594 Q152.9688,58.4531 152.9688,57.4531 Q152.9688,56.4531 152.4844,56.0469 Q152,55.6406 150.7969,55.6406 L149.7969,55.6406 Z M147.3438,53.5781 L150.7031,53.5781 Q153.2656,53.5781 154.3906,54.5 Q155.5156,55.4063 155.5156,57.4531 Q155.5156,59.5 154.3906,60.4219 Q153.2656,61.3281 150.7031,61.3281 L149.7969,61.3281 L149.7969,65.9688 L147.3438,65.9688 L147.3438,53.5781 Z \"/><text fill=\"#000000\" font-family=\"sans-serif\" font-size=\"12\" font-style=\"italic\" lengthAdjust=\"spacingAndGlyphs\" textLength=\"40\" x=\"162\" y=\"57.1387\">«part»</text><text fill=\"#000000\" font-family=\"sans-serif\" font-size=\"12\" lengthAdjust=\"spacingAndGlyphs\" textLength=\"4\" x=\"180\" y=\"71.1074\">f</text><line style=\"stroke: #A80036; stroke-width: 1.5;\" x1=\"136\" x2=\"202\" y1=\"78.9375\" y2=\"78.9375\"/></a><!--MD5=[09b614a08d8cba4a07c9adeb5e0fee81]\n",
       "class E3--><a href=\"psysml:51ecbb7c-6db5-4069-ae0d-bb60efd47f9e\" target=\"_top\" title=\"psysml:51ecbb7c-6db5-4069-ae0d-bb60efd47f9e\" xlink:actuate=\"onRequest\" xlink:href=\"psysml:51ecbb7c-6db5-4069-ae0d-bb60efd47f9e\" xlink:show=\"new\" xlink:title=\"psysml:51ecbb7c-6db5-4069-ae0d-bb60efd47f9e\" xlink:type=\"simple\"><rect fill=\"#FEFECE\" filter=\"url(#f1r5e29q44qou7)\" height=\"45.9375\" id=\"E3\" rx=\"10\" ry=\"10\" style=\"stroke: #A80036; stroke-width: 1.5;\" width=\"68\" x=\"135\" y=\"147\"/><ellipse cx=\"150\" cy=\"165.9688\" fill=\"#32CD32\" rx=\"11\" ry=\"11\" style=\"stroke: #A80036; stroke-width: 1.0;\"/><path d=\"M149.7969,161.6406 L149.7969,165.2656 L150.7969,165.2656 Q152,165.2656 152.4844,164.8594 Q152.9688,164.4531 152.9688,163.4531 Q152.9688,162.4531 152.4844,162.0469 Q152,161.6406 150.7969,161.6406 L149.7969,161.6406 Z M147.3438,159.5781 L150.7031,159.5781 Q153.2656,159.5781 154.3906,160.5 Q155.5156,161.4063 155.5156,163.4531 Q155.5156,165.5 154.3906,166.4219 Q153.2656,167.3281 150.7031,167.3281 L149.7969,167.3281 L149.7969,171.9688 L147.3438,171.9688 L147.3438,159.5781 Z \"/><text fill=\"#000000\" font-family=\"sans-serif\" font-size=\"12\" font-style=\"italic\" lengthAdjust=\"spacingAndGlyphs\" textLength=\"40\" x=\"162\" y=\"163.1387\">«part»</text><text fill=\"#000000\" font-family=\"sans-serif\" font-size=\"12\" lengthAdjust=\"spacingAndGlyphs\" textLength=\"8\" x=\"178\" y=\"177.1074\">a</text><line style=\"stroke: #A80036; stroke-width: 1.5;\" x1=\"136\" x2=\"202\" y1=\"184.9375\" y2=\"184.9375\"/></a><!--MD5=[ebbe1d658d1005bcc118a6aa81145e00]\n",
       "class E4--><a href=\"psysml:5da665e6-dcc7-4321-8fa9-423e89fca153\" target=\"_top\" title=\"psysml:5da665e6-dcc7-4321-8fa9-423e89fca153\" xlink:actuate=\"onRequest\" xlink:href=\"psysml:5da665e6-dcc7-4321-8fa9-423e89fca153\" xlink:show=\"new\" xlink:title=\"psysml:5da665e6-dcc7-4321-8fa9-423e89fca153\" xlink:type=\"simple\"><rect fill=\"#FEFECE\" filter=\"url(#f1r5e29q44qou7)\" height=\"40\" id=\"E4\" style=\"stroke: #A80036; stroke-width: 1.5;\" width=\"40\" x=\"46\" y=\"44\"/><ellipse cx=\"61\" cy=\"60\" fill=\"#008000\" rx=\"11\" ry=\"11\" style=\"stroke: #A80036; stroke-width: 1.0;\"/><path d=\"M59.9063,60.375 L59.9063,64.0469 L61.5313,64.0469 Q62.7031,64.0469 63.1719,63.6563 Q63.6406,63.25 63.6406,62.25 Q63.6406,61.25 63.1406,60.8125 Q62.6563,60.375 61.5313,60.375 L59.9063,60.375 Z M59.9063,55.5469 L59.9063,58.4219 L61.5313,58.4219 Q62.4531,58.4219 62.8438,58.0938 Q63.25,57.75 63.25,57 Q63.25,56.2344 62.8438,55.8906 Q62.4375,55.5469 61.5313,55.5469 L59.9063,55.5469 Z M57.5313,53.5938 L61.5313,53.5938 Q63.5938,53.5938 64.6406,54.375 Q65.6875,55.1563 65.6875,56.7188 Q65.6875,57.9219 65.0625,58.5938 Q64.4531,59.2656 63.2656,59.375 Q64.6875,59.5156 65.4063,60.3281 Q66.125,61.1406 66.125,62.5938 Q66.125,64.3906 65.0469,65.2031 Q63.9688,66 61.5313,66 L57.5313,66 L57.5313,53.5938 Z \"/><text fill=\"#000000\" font-family=\"sans-serif\" font-size=\"12\" lengthAdjust=\"spacingAndGlyphs\" textLength=\"8\" x=\"75\" y=\"64.1543\">C</text><line style=\"stroke: #A80036; stroke-width: 1.5;\" x1=\"47\" x2=\"85\" y1=\"76\" y2=\"76\"/></a><!--MD5=[270fce915f116d4de14055a7c1d9a0f3]\n",
       "class E5--><a href=\"psysml:ed499477-fca6-4979-bffe-7845725436ef\" target=\"_top\" title=\"psysml:ed499477-fca6-4979-bffe-7845725436ef\" xlink:actuate=\"onRequest\" xlink:href=\"psysml:ed499477-fca6-4979-bffe-7845725436ef\" xlink:show=\"new\" xlink:title=\"psysml:ed499477-fca6-4979-bffe-7845725436ef\" xlink:type=\"simple\"><rect fill=\"#FEFECE\" filter=\"url(#f1r5e29q44qou7)\" height=\"45.9375\" id=\"E5\" rx=\"10\" ry=\"10\" style=\"stroke: #A80036; stroke-width: 1.5;\" width=\"68\" x=\"32\" y=\"147\"/><ellipse cx=\"47\" cy=\"165.9688\" fill=\"#32CD32\" rx=\"11\" ry=\"11\" style=\"stroke: #A80036; stroke-width: 1.0;\"/><path d=\"M46.7969,161.6406 L46.7969,165.2656 L47.7969,165.2656 Q49,165.2656 49.4844,164.8594 Q49.9688,164.4531 49.9688,163.4531 Q49.9688,162.4531 49.4844,162.0469 Q49,161.6406 47.7969,161.6406 L46.7969,161.6406 Z M44.3438,159.5781 L47.7031,159.5781 Q50.2656,159.5781 51.3906,160.5 Q52.5156,161.4063 52.5156,163.4531 Q52.5156,165.5 51.3906,166.4219 Q50.2656,167.3281 47.7031,167.3281 L46.7969,167.3281 L46.7969,171.9688 L44.3438,171.9688 L44.3438,159.5781 Z \"/><text fill=\"#000000\" font-family=\"sans-serif\" font-size=\"12\" font-style=\"italic\" lengthAdjust=\"spacingAndGlyphs\" textLength=\"40\" x=\"59\" y=\"163.1387\">«part»</text><text fill=\"#000000\" font-family=\"sans-serif\" font-size=\"12\" lengthAdjust=\"spacingAndGlyphs\" textLength=\"8\" x=\"75\" y=\"177.1074\">g</text><line style=\"stroke: #A80036; stroke-width: 1.5;\" x1=\"33\" x2=\"99\" y1=\"184.9375\" y2=\"184.9375\"/></a><!--MD5=[209b3feb70ccb6233bfe1053d122c12c]\n",
       "reverse link E2 to E3--><a href=\"psysml:51ecbb7c-6db5-4069-ae0d-bb60efd47f9e\" target=\"_top\" title=\"psysml:51ecbb7c-6db5-4069-ae0d-bb60efd47f9e\" xlink:actuate=\"onRequest\" xlink:href=\"psysml:51ecbb7c-6db5-4069-ae0d-bb60efd47f9e\" xlink:show=\"new\" xlink:title=\"psysml:51ecbb7c-6db5-4069-ae0d-bb60efd47f9e\" xlink:type=\"simple\"><path d=\"M169,100.44 C169,115.87 169,133.47 169,146.98 \" fill=\"none\" id=\"E2&lt;-E3\" style=\"stroke: #A80036; stroke-width: 1.0;\"/><polygon fill=\"#A80036\" points=\"169,87.06,165,93.06,169,99.06,173,93.06,169,87.06\" style=\"stroke: #A80036; stroke-width: 1.0;\"/></a><!--MD5=[62aa6af11e70f752912c1cb0466f24f7]\n",
       "reverse link E4 to E5--><a href=\"psysml:ed499477-fca6-4979-bffe-7845725436ef\" target=\"_top\" title=\"psysml:ed499477-fca6-4979-bffe-7845725436ef\" xlink:actuate=\"onRequest\" xlink:href=\"psysml:ed499477-fca6-4979-bffe-7845725436ef\" xlink:show=\"new\" xlink:title=\"psysml:ed499477-fca6-4979-bffe-7845725436ef\" xlink:type=\"simple\"><path d=\"M66,97.25 C66,113.33 66,132.37 66,146.8 \" fill=\"none\" id=\"E4&lt;-E5\" style=\"stroke: #A80036; stroke-width: 1.0;\"/><polygon fill=\"#A80036\" points=\"66,84.08,62,90.08,66,96.08,70,90.08,66,84.08\" style=\"stroke: #A80036; stroke-width: 1.0;\"/></a><!--MD5=[d89291e10af0396aada77bc308293afa]\n",
       "@startuml\r\n",
       " \r\n",
       "package \"Q\" as E1  [[psysml:ef9b7028-f6bf-447e-864f-9dad0bdce88c ]]  {\r\n",
       "comp usage \"f\" as E2  << (P,limegreen) part>> [[psysml:4239e231-7164-4547-a8e1-ba39f4362efb ]] {\r\n",
       "}\r\n",
       "comp usage \"a\" as E3  << (P,limegreen) part>> [[psysml:51ecbb7c-6db5-4069-ae0d-bb60efd47f9e ]] {\r\n",
       "}\r\n",
       "comp def \"C\" as E4  << (B,green) >> [[psysml:5da665e6-dcc7-4321-8fa9-423e89fca153 ]] {\r\n",
       "}\r\n",
       "comp usage \"g\" as E5  << (P,limegreen) part>> [[psysml:ed499477-fca6-4979-bffe-7845725436ef ]] {\r\n",
       "}\r\n",
       "E2 *- - E3 [[psysml:51ecbb7c-6db5-4069-ae0d-bb60efd47f9e ]] \r\n",
       "E4 *- - E5 [[psysml:ed499477-fca6-4979-bffe-7845725436ef ]] \r\n",
       "}\r\n",
       "@enduml\r\n",
       "\n",
       "PlantUML version 1.2020.13(Sat Jun 13 12:26:38 UTC 2020)\n",
       "(EPL source distribution)\n",
       "Java Runtime: OpenJDK Runtime Environment\n",
       "JVM: OpenJDK 64-Bit Server VM\n",
       "Default Encoding: UTF-8\n",
       "Language: en\n",
       "Country: null\n",
       "--></g></svg>"
      ]
     },
     "execution_count": 36,
     "metadata": {},
     "output_type": "execute_result"
    }
   ],
   "source": [
    "%viz --style=\"PLANTUML\" --view=\"MIXED\" \"Q\""
   ]
  },
  {
   "cell_type": "code",
   "execution_count": 37,
   "id": "forty-agreement",
   "metadata": {
    "execution": {
     "iopub.execute_input": "2021-03-25T09:26:28.996704Z",
     "iopub.status.busy": "2021-03-25T09:26:28.996102Z",
     "iopub.status.idle": "2021-03-25T09:26:29.047525Z",
     "shell.execute_reply": "2021-03-25T09:26:29.048009Z"
    }
   },
   "outputs": [
    {
     "data": {
      "image/svg+xml": [
       "<?xml version=\"1.0\" encoding=\"UTF-8\" standalone=\"no\"?><svg xmlns=\"http://www.w3.org/2000/svg\" xmlns:xlink=\"http://www.w3.org/1999/xlink\" contentScriptType=\"application/ecmascript\" contentStyleType=\"text/css\" height=\"221px\" preserveAspectRatio=\"none\" style=\"width:213px;height:221px;\" version=\"1.1\" viewBox=\"0 0 213 221\" width=\"213px\" zoomAndPan=\"magnify\"><defs/><g><!--MD5=[fbc87193dbaf4d95561dea2c320d4a47]\n",
       "cluster E1--><a href=\"psysml:ef9b7028-f6bf-447e-864f-9dad0bdce88c\" target=\"_top\" title=\"psysml:ef9b7028-f6bf-447e-864f-9dad0bdce88c\" xlink:actuate=\"onRequest\" xlink:href=\"psysml:ef9b7028-f6bf-447e-864f-9dad0bdce88c\" xlink:show=\"new\" xlink:title=\"psysml:ef9b7028-f6bf-447e-864f-9dad0bdce88c\" xlink:type=\"simple\"><polygon fill=\"#FFFFFF\" points=\"16,6,34,6,41,28.2969,191,28.2969,191,209,16,209,16,6\" style=\"stroke: #000000; stroke-width: 1.5;\"/><line style=\"stroke: #000000; stroke-width: 1.5;\" x1=\"16\" x2=\"41\" y1=\"28.2969\" y2=\"28.2969\"/><text fill=\"#000000\" font-family=\"sans-serif\" font-size=\"14\" font-weight=\"bold\" lengthAdjust=\"spacingAndGlyphs\" textLength=\"12\" x=\"20\" y=\"20.9951\">Q</text></a><!--MD5=[b4997ac47864f28c2f74865a473b2911]\n",
       "class E2--><a href=\"psysml:4239e231-7164-4547-a8e1-ba39f4362efb\" target=\"_top\" title=\"psysml:4239e231-7164-4547-a8e1-ba39f4362efb\" xlink:actuate=\"onRequest\" xlink:href=\"psysml:4239e231-7164-4547-a8e1-ba39f4362efb\" xlink:show=\"new\" xlink:title=\"psysml:4239e231-7164-4547-a8e1-ba39f4362efb\" xlink:type=\"simple\"><rect fill=\"#FFFFFF\" height=\"45.9375\" id=\"E2\" rx=\"10\" ry=\"10\" style=\"stroke: #383838; stroke-width: 1.5;\" width=\"42\" x=\"133\" y=\"41\"/><text fill=\"#000000\" font-family=\"sans-serif\" font-size=\"12\" font-style=\"italic\" lengthAdjust=\"spacingAndGlyphs\" textLength=\"40\" x=\"134\" y=\"57.1387\">«part»</text><text fill=\"#000000\" font-family=\"sans-serif\" font-size=\"12\" lengthAdjust=\"spacingAndGlyphs\" textLength=\"4\" x=\"152\" y=\"71.1074\">f</text><line style=\"stroke: #383838; stroke-width: 1.5;\" x1=\"134\" x2=\"174\" y1=\"78.9375\" y2=\"78.9375\"/></a><!--MD5=[09b614a08d8cba4a07c9adeb5e0fee81]\n",
       "class E3--><a href=\"psysml:51ecbb7c-6db5-4069-ae0d-bb60efd47f9e\" target=\"_top\" title=\"psysml:51ecbb7c-6db5-4069-ae0d-bb60efd47f9e\" xlink:actuate=\"onRequest\" xlink:href=\"psysml:51ecbb7c-6db5-4069-ae0d-bb60efd47f9e\" xlink:show=\"new\" xlink:title=\"psysml:51ecbb7c-6db5-4069-ae0d-bb60efd47f9e\" xlink:type=\"simple\"><rect fill=\"#FFFFFF\" height=\"45.9375\" id=\"E3\" rx=\"10\" ry=\"10\" style=\"stroke: #383838; stroke-width: 1.5;\" width=\"42\" x=\"133\" y=\"147\"/><text fill=\"#000000\" font-family=\"sans-serif\" font-size=\"12\" font-style=\"italic\" lengthAdjust=\"spacingAndGlyphs\" textLength=\"40\" x=\"134\" y=\"163.1387\">«part»</text><text fill=\"#000000\" font-family=\"sans-serif\" font-size=\"12\" lengthAdjust=\"spacingAndGlyphs\" textLength=\"8\" x=\"150\" y=\"177.1074\">a</text><line style=\"stroke: #383838; stroke-width: 1.5;\" x1=\"134\" x2=\"174\" y1=\"184.9375\" y2=\"184.9375\"/></a><!--MD5=[ebbe1d658d1005bcc118a6aa81145e00]\n",
       "class E4--><a href=\"psysml:5da665e6-dcc7-4321-8fa9-423e89fca153\" target=\"_top\" title=\"psysml:5da665e6-dcc7-4321-8fa9-423e89fca153\" xlink:actuate=\"onRequest\" xlink:href=\"psysml:5da665e6-dcc7-4321-8fa9-423e89fca153\" xlink:show=\"new\" xlink:title=\"psysml:5da665e6-dcc7-4321-8fa9-423e89fca153\" xlink:type=\"simple\"><rect fill=\"#FFFFFF\" height=\"45.9375\" id=\"E4\" style=\"stroke: #383838; stroke-width: 1.5;\" width=\"66\" x=\"32\" y=\"41\"/><text fill=\"#000000\" font-family=\"sans-serif\" font-size=\"12\" font-style=\"italic\" lengthAdjust=\"spacingAndGlyphs\" textLength=\"64\" x=\"33\" y=\"57.1387\">«part def»</text><text fill=\"#000000\" font-family=\"sans-serif\" font-size=\"12\" lengthAdjust=\"spacingAndGlyphs\" textLength=\"8\" x=\"61\" y=\"71.1074\">C</text><line style=\"stroke: #383838; stroke-width: 1.5;\" x1=\"33\" x2=\"97\" y1=\"78.9375\" y2=\"78.9375\"/></a><!--MD5=[270fce915f116d4de14055a7c1d9a0f3]\n",
       "class E5--><a href=\"psysml:ed499477-fca6-4979-bffe-7845725436ef\" target=\"_top\" title=\"psysml:ed499477-fca6-4979-bffe-7845725436ef\" xlink:actuate=\"onRequest\" xlink:href=\"psysml:ed499477-fca6-4979-bffe-7845725436ef\" xlink:show=\"new\" xlink:title=\"psysml:ed499477-fca6-4979-bffe-7845725436ef\" xlink:type=\"simple\"><rect fill=\"#FFFFFF\" height=\"45.9375\" id=\"E5\" rx=\"10\" ry=\"10\" style=\"stroke: #383838; stroke-width: 1.5;\" width=\"42\" x=\"44\" y=\"147\"/><text fill=\"#000000\" font-family=\"sans-serif\" font-size=\"12\" font-style=\"italic\" lengthAdjust=\"spacingAndGlyphs\" textLength=\"40\" x=\"45\" y=\"163.1387\">«part»</text><text fill=\"#000000\" font-family=\"sans-serif\" font-size=\"12\" lengthAdjust=\"spacingAndGlyphs\" textLength=\"8\" x=\"61\" y=\"177.1074\">g</text><line style=\"stroke: #383838; stroke-width: 1.5;\" x1=\"45\" x2=\"85\" y1=\"184.9375\" y2=\"184.9375\"/></a><!--MD5=[209b3feb70ccb6233bfe1053d122c12c]\n",
       "reverse link E2 to E3--><a href=\"psysml:51ecbb7c-6db5-4069-ae0d-bb60efd47f9e\" target=\"_top\" title=\"psysml:51ecbb7c-6db5-4069-ae0d-bb60efd47f9e\" xlink:actuate=\"onRequest\" xlink:href=\"psysml:51ecbb7c-6db5-4069-ae0d-bb60efd47f9e\" xlink:show=\"new\" xlink:title=\"psysml:51ecbb7c-6db5-4069-ae0d-bb60efd47f9e\" xlink:type=\"simple\"><path d=\"M154,100.44 C154,115.87 154,133.47 154,146.98 \" fill=\"none\" id=\"E2&lt;-E3\" style=\"stroke: #383838; stroke-width: 1.0;\"/><polygon fill=\"#383838\" points=\"154,87.06,150,93.06,154,99.06,158,93.06,154,87.06\" style=\"stroke: #383838; stroke-width: 1.0;\"/></a><!--MD5=[62aa6af11e70f752912c1cb0466f24f7]\n",
       "reverse link E4 to E5--><a href=\"psysml:ed499477-fca6-4979-bffe-7845725436ef\" target=\"_top\" title=\"psysml:ed499477-fca6-4979-bffe-7845725436ef\" xlink:actuate=\"onRequest\" xlink:href=\"psysml:ed499477-fca6-4979-bffe-7845725436ef\" xlink:show=\"new\" xlink:title=\"psysml:ed499477-fca6-4979-bffe-7845725436ef\" xlink:type=\"simple\"><path d=\"M65,100.44 C65,115.87 65,133.47 65,146.98 \" fill=\"none\" id=\"E4&lt;-E5\" style=\"stroke: #383838; stroke-width: 1.0;\"/><polygon fill=\"#383838\" points=\"65,87.06,61,93.06,65,99.06,69,93.06,65,87.06\" style=\"stroke: #383838; stroke-width: 1.0;\"/></a><!--MD5=[0dc8edd39bbe58c858ed24efcf33d9a8]\n",
       "@startuml\r\n",
       "skinparam monochrome true\r\n",
       "skinparam classbackgroundcolor white\r\n",
       "skinparam shadowing false\r\n",
       "skinparam wrapWidth 300\r\n",
       "hide circle\r\n",
       "\r\n",
       "package \"Q\" as E1  [[psysml:ef9b7028-f6bf-447e-864f-9dad0bdce88c ]]  {\r\n",
       "comp usage \"f\" as E2  <<(T,blue)part>> [[psysml:4239e231-7164-4547-a8e1-ba39f4362efb ]] {\r\n",
       "}\r\n",
       "comp usage \"a\" as E3  <<(T,blue)part>> [[psysml:51ecbb7c-6db5-4069-ae0d-bb60efd47f9e ]] {\r\n",
       "}\r\n",
       "comp def \"C\" as E4  <<(T,blue)part def>> [[psysml:5da665e6-dcc7-4321-8fa9-423e89fca153 ]] {\r\n",
       "}\r\n",
       "comp usage \"g\" as E5  <<(T,blue)part>> [[psysml:ed499477-fca6-4979-bffe-7845725436ef ]] {\r\n",
       "}\r\n",
       "E2 *- - E3 [[psysml:51ecbb7c-6db5-4069-ae0d-bb60efd47f9e ]] \r\n",
       "E4 *- - E5 [[psysml:ed499477-fca6-4979-bffe-7845725436ef ]] \r\n",
       "}\r\n",
       "@enduml\r\n",
       "\n",
       "PlantUML version 1.2020.13(Sat Jun 13 12:26:38 UTC 2020)\n",
       "(EPL source distribution)\n",
       "Java Runtime: OpenJDK Runtime Environment\n",
       "JVM: OpenJDK 64-Bit Server VM\n",
       "Default Encoding: UTF-8\n",
       "Language: en\n",
       "Country: null\n",
       "--></g></svg>"
      ]
     },
     "execution_count": 37,
     "metadata": {},
     "output_type": "execute_result"
    }
   ],
   "source": [
    "%viz --style=\"DEFAULT\" --view=\"Default\" \"Q\""
   ]
  },
  {
   "cell_type": "code",
   "execution_count": 38,
   "id": "baking-sampling",
   "metadata": {
    "execution": {
     "iopub.execute_input": "2021-03-25T09:26:29.099110Z",
     "iopub.status.busy": "2021-03-25T09:26:29.098672Z",
     "iopub.status.idle": "2021-03-25T09:26:29.160959Z",
     "shell.execute_reply": "2021-03-25T09:26:29.160604Z"
    }
   },
   "outputs": [
    {
     "data": {
      "image/svg+xml": [
       "<?xml version=\"1.0\" encoding=\"UTF-8\" standalone=\"no\"?><svg xmlns=\"http://www.w3.org/2000/svg\" xmlns:xlink=\"http://www.w3.org/1999/xlink\" contentScriptType=\"application/ecmascript\" contentStyleType=\"text/css\" height=\"221px\" preserveAspectRatio=\"none\" style=\"width:213px;height:221px;\" version=\"1.1\" viewBox=\"0 0 213 221\" width=\"213px\" zoomAndPan=\"magnify\"><defs/><g><!--MD5=[fbc87193dbaf4d95561dea2c320d4a47]\n",
       "cluster E1--><a href=\"psysml:ef9b7028-f6bf-447e-864f-9dad0bdce88c\" target=\"_top\" title=\"psysml:ef9b7028-f6bf-447e-864f-9dad0bdce88c\" xlink:actuate=\"onRequest\" xlink:href=\"psysml:ef9b7028-f6bf-447e-864f-9dad0bdce88c\" xlink:show=\"new\" xlink:title=\"psysml:ef9b7028-f6bf-447e-864f-9dad0bdce88c\" xlink:type=\"simple\"><polygon fill=\"#FFFFFF\" points=\"16,6,34,6,41,28.2969,191,28.2969,191,209,16,209,16,6\" style=\"stroke: #000000; stroke-width: 1.5;\"/><line style=\"stroke: #000000; stroke-width: 1.5;\" x1=\"16\" x2=\"41\" y1=\"28.2969\" y2=\"28.2969\"/><text fill=\"#000000\" font-family=\"sans-serif\" font-size=\"14\" font-weight=\"bold\" lengthAdjust=\"spacingAndGlyphs\" textLength=\"12\" x=\"20\" y=\"20.9951\">Q</text></a><!--MD5=[b4997ac47864f28c2f74865a473b2911]\n",
       "class E2--><a href=\"psysml:4239e231-7164-4547-a8e1-ba39f4362efb\" target=\"_top\" title=\"psysml:4239e231-7164-4547-a8e1-ba39f4362efb\" xlink:actuate=\"onRequest\" xlink:href=\"psysml:4239e231-7164-4547-a8e1-ba39f4362efb\" xlink:show=\"new\" xlink:title=\"psysml:4239e231-7164-4547-a8e1-ba39f4362efb\" xlink:type=\"simple\"><rect fill=\"#FFFFFF\" height=\"45.9375\" id=\"E2\" rx=\"10\" ry=\"10\" style=\"stroke: #383838; stroke-width: 1.5;\" width=\"42\" x=\"133\" y=\"41\"/><text fill=\"#000000\" font-family=\"sans-serif\" font-size=\"12\" font-style=\"italic\" lengthAdjust=\"spacingAndGlyphs\" textLength=\"40\" x=\"134\" y=\"57.1387\">«part»</text><text fill=\"#000000\" font-family=\"sans-serif\" font-size=\"12\" lengthAdjust=\"spacingAndGlyphs\" textLength=\"4\" x=\"152\" y=\"71.1074\">f</text><line style=\"stroke: #383838; stroke-width: 1.5;\" x1=\"134\" x2=\"174\" y1=\"78.9375\" y2=\"78.9375\"/></a><!--MD5=[09b614a08d8cba4a07c9adeb5e0fee81]\n",
       "class E3--><a href=\"psysml:51ecbb7c-6db5-4069-ae0d-bb60efd47f9e\" target=\"_top\" title=\"psysml:51ecbb7c-6db5-4069-ae0d-bb60efd47f9e\" xlink:actuate=\"onRequest\" xlink:href=\"psysml:51ecbb7c-6db5-4069-ae0d-bb60efd47f9e\" xlink:show=\"new\" xlink:title=\"psysml:51ecbb7c-6db5-4069-ae0d-bb60efd47f9e\" xlink:type=\"simple\"><rect fill=\"#FFFFFF\" height=\"45.9375\" id=\"E3\" rx=\"10\" ry=\"10\" style=\"stroke: #383838; stroke-width: 1.5;\" width=\"42\" x=\"133\" y=\"147\"/><text fill=\"#000000\" font-family=\"sans-serif\" font-size=\"12\" font-style=\"italic\" lengthAdjust=\"spacingAndGlyphs\" textLength=\"40\" x=\"134\" y=\"163.1387\">«part»</text><text fill=\"#000000\" font-family=\"sans-serif\" font-size=\"12\" lengthAdjust=\"spacingAndGlyphs\" textLength=\"8\" x=\"150\" y=\"177.1074\">a</text><line style=\"stroke: #383838; stroke-width: 1.5;\" x1=\"134\" x2=\"174\" y1=\"184.9375\" y2=\"184.9375\"/></a><!--MD5=[ebbe1d658d1005bcc118a6aa81145e00]\n",
       "class E4--><a href=\"psysml:5da665e6-dcc7-4321-8fa9-423e89fca153\" target=\"_top\" title=\"psysml:5da665e6-dcc7-4321-8fa9-423e89fca153\" xlink:actuate=\"onRequest\" xlink:href=\"psysml:5da665e6-dcc7-4321-8fa9-423e89fca153\" xlink:show=\"new\" xlink:title=\"psysml:5da665e6-dcc7-4321-8fa9-423e89fca153\" xlink:type=\"simple\"><rect fill=\"#FFFFFF\" height=\"45.9375\" id=\"E4\" style=\"stroke: #383838; stroke-width: 1.5;\" width=\"66\" x=\"32\" y=\"41\"/><text fill=\"#000000\" font-family=\"sans-serif\" font-size=\"12\" font-style=\"italic\" lengthAdjust=\"spacingAndGlyphs\" textLength=\"64\" x=\"33\" y=\"57.1387\">«part def»</text><text fill=\"#000000\" font-family=\"sans-serif\" font-size=\"12\" lengthAdjust=\"spacingAndGlyphs\" textLength=\"8\" x=\"61\" y=\"71.1074\">C</text><line style=\"stroke: #383838; stroke-width: 1.5;\" x1=\"33\" x2=\"97\" y1=\"78.9375\" y2=\"78.9375\"/></a><!--MD5=[270fce915f116d4de14055a7c1d9a0f3]\n",
       "class E5--><a href=\"psysml:ed499477-fca6-4979-bffe-7845725436ef\" target=\"_top\" title=\"psysml:ed499477-fca6-4979-bffe-7845725436ef\" xlink:actuate=\"onRequest\" xlink:href=\"psysml:ed499477-fca6-4979-bffe-7845725436ef\" xlink:show=\"new\" xlink:title=\"psysml:ed499477-fca6-4979-bffe-7845725436ef\" xlink:type=\"simple\"><rect fill=\"#FFFFFF\" height=\"45.9375\" id=\"E5\" rx=\"10\" ry=\"10\" style=\"stroke: #383838; stroke-width: 1.5;\" width=\"42\" x=\"44\" y=\"147\"/><text fill=\"#000000\" font-family=\"sans-serif\" font-size=\"12\" font-style=\"italic\" lengthAdjust=\"spacingAndGlyphs\" textLength=\"40\" x=\"45\" y=\"163.1387\">«part»</text><text fill=\"#000000\" font-family=\"sans-serif\" font-size=\"12\" lengthAdjust=\"spacingAndGlyphs\" textLength=\"8\" x=\"61\" y=\"177.1074\">g</text><line style=\"stroke: #383838; stroke-width: 1.5;\" x1=\"45\" x2=\"85\" y1=\"184.9375\" y2=\"184.9375\"/></a><!--MD5=[209b3feb70ccb6233bfe1053d122c12c]\n",
       "reverse link E2 to E3--><a href=\"psysml:51ecbb7c-6db5-4069-ae0d-bb60efd47f9e\" target=\"_top\" title=\"psysml:51ecbb7c-6db5-4069-ae0d-bb60efd47f9e\" xlink:actuate=\"onRequest\" xlink:href=\"psysml:51ecbb7c-6db5-4069-ae0d-bb60efd47f9e\" xlink:show=\"new\" xlink:title=\"psysml:51ecbb7c-6db5-4069-ae0d-bb60efd47f9e\" xlink:type=\"simple\"><path d=\"M154,100.44 C154,115.87 154,133.47 154,146.98 \" fill=\"none\" id=\"E2&lt;-E3\" style=\"stroke: #383838; stroke-width: 1.0;\"/><polygon fill=\"#383838\" points=\"154,87.06,150,93.06,154,99.06,158,93.06,154,87.06\" style=\"stroke: #383838; stroke-width: 1.0;\"/></a><!--MD5=[62aa6af11e70f752912c1cb0466f24f7]\n",
       "reverse link E4 to E5--><a href=\"psysml:ed499477-fca6-4979-bffe-7845725436ef\" target=\"_top\" title=\"psysml:ed499477-fca6-4979-bffe-7845725436ef\" xlink:actuate=\"onRequest\" xlink:href=\"psysml:ed499477-fca6-4979-bffe-7845725436ef\" xlink:show=\"new\" xlink:title=\"psysml:ed499477-fca6-4979-bffe-7845725436ef\" xlink:type=\"simple\"><path d=\"M65,100.44 C65,115.87 65,133.47 65,146.98 \" fill=\"none\" id=\"E4&lt;-E5\" style=\"stroke: #383838; stroke-width: 1.0;\"/><polygon fill=\"#383838\" points=\"65,87.06,61,93.06,65,99.06,69,93.06,65,87.06\" style=\"stroke: #383838; stroke-width: 1.0;\"/></a><!--MD5=[0dc8edd39bbe58c858ed24efcf33d9a8]\n",
       "@startuml\r\n",
       "skinparam monochrome true\r\n",
       "skinparam classbackgroundcolor white\r\n",
       "skinparam shadowing false\r\n",
       "skinparam wrapWidth 300\r\n",
       "hide circle\r\n",
       "\r\n",
       "package \"Q\" as E1  [[psysml:ef9b7028-f6bf-447e-864f-9dad0bdce88c ]]  {\r\n",
       "comp usage \"f\" as E2  <<(T,blue)part>> [[psysml:4239e231-7164-4547-a8e1-ba39f4362efb ]] {\r\n",
       "}\r\n",
       "comp usage \"a\" as E3  <<(T,blue)part>> [[psysml:51ecbb7c-6db5-4069-ae0d-bb60efd47f9e ]] {\r\n",
       "}\r\n",
       "comp def \"C\" as E4  <<(T,blue)part def>> [[psysml:5da665e6-dcc7-4321-8fa9-423e89fca153 ]] {\r\n",
       "}\r\n",
       "comp usage \"g\" as E5  <<(T,blue)part>> [[psysml:ed499477-fca6-4979-bffe-7845725436ef ]] {\r\n",
       "}\r\n",
       "E2 *- - E3 [[psysml:51ecbb7c-6db5-4069-ae0d-bb60efd47f9e ]] \r\n",
       "E4 *- - E5 [[psysml:ed499477-fca6-4979-bffe-7845725436ef ]] \r\n",
       "}\r\n",
       "@enduml\r\n",
       "\n",
       "PlantUML version 1.2020.13(Sat Jun 13 12:26:38 UTC 2020)\n",
       "(EPL source distribution)\n",
       "Java Runtime: OpenJDK Runtime Environment\n",
       "JVM: OpenJDK 64-Bit Server VM\n",
       "Default Encoding: UTF-8\n",
       "Language: en\n",
       "Country: null\n",
       "--></g></svg>"
      ]
     },
     "execution_count": 38,
     "metadata": {},
     "output_type": "execute_result"
    }
   ],
   "source": [
    "%viz --style=\"DEFAULT\" --view=\"Tree\" \"Q\""
   ]
  },
  {
   "cell_type": "code",
   "execution_count": 39,
   "id": "another-slave",
   "metadata": {
    "execution": {
     "iopub.execute_input": "2021-03-25T09:26:29.213258Z",
     "iopub.status.busy": "2021-03-25T09:26:29.211952Z",
     "iopub.status.idle": "2021-03-25T09:26:29.232233Z",
     "shell.execute_reply": "2021-03-25T09:26:29.231812Z"
    }
   },
   "outputs": [
    {
     "data": {
      "image/svg+xml": [
       "<?xml version=\"1.0\" encoding=\"UTF-8\" standalone=\"no\"?><svg xmlns=\"http://www.w3.org/2000/svg\" xmlns:xlink=\"http://www.w3.org/1999/xlink\" contentScriptType=\"application/ecmascript\" contentStyleType=\"text/css\" height=\"12px\" preserveAspectRatio=\"none\" style=\"width:12px;height:12px;\" version=\"1.1\" viewBox=\"0 0 12 12\" width=\"12px\" zoomAndPan=\"magnify\"><defs/><g><!--MD5=[c5f280e076d0d61ccf4b0f27871bda1d]\n",
       "@startuml\r\n",
       "skinparam monochrome true\r\n",
       "skinparam classbackgroundcolor white\r\n",
       "skinparam shadowing false\r\n",
       "skinparam wrapWidth 300\r\n",
       "hide circle\r\n",
       "\r\n",
       "@enduml\r\n",
       "\n",
       "PlantUML version 1.2020.13(Sat Jun 13 12:26:38 UTC 2020)\n",
       "(EPL source distribution)\n",
       "Java Runtime: OpenJDK Runtime Environment\n",
       "JVM: OpenJDK 64-Bit Server VM\n",
       "Default Encoding: UTF-8\n",
       "Language: en\n",
       "Country: null\n",
       "--></g></svg>"
      ]
     },
     "execution_count": 39,
     "metadata": {},
     "output_type": "execute_result"
    }
   ],
   "source": [
    "%viz --style=\"DEFAULT\" --view=\"State\" \"Q\""
   ]
  },
  {
   "cell_type": "code",
   "execution_count": 40,
   "id": "wound-ukraine",
   "metadata": {
    "execution": {
     "iopub.execute_input": "2021-03-25T09:26:29.284968Z",
     "iopub.status.busy": "2021-03-25T09:26:29.283150Z",
     "iopub.status.idle": "2021-03-25T09:26:29.350383Z",
     "shell.execute_reply": "2021-03-25T09:26:29.350819Z"
    }
   },
   "outputs": [
    {
     "data": {
      "image/svg+xml": [
       "<?xml version=\"1.0\" encoding=\"UTF-8\" standalone=\"no\"?><svg xmlns=\"http://www.w3.org/2000/svg\" xmlns:xlink=\"http://www.w3.org/1999/xlink\" contentScriptType=\"application/ecmascript\" contentStyleType=\"text/css\" height=\"192px\" preserveAspectRatio=\"none\" style=\"width:279px;height:192px;\" version=\"1.1\" viewBox=\"0 0 279 192\" width=\"279px\" zoomAndPan=\"magnify\"><defs/><g><!--MD5=[fbc87193dbaf4d95561dea2c320d4a47]\n",
       "cluster E1--><a href=\"psysml:ef9b7028-f6bf-447e-864f-9dad0bdce88c\" target=\"_top\" title=\"psysml:ef9b7028-f6bf-447e-864f-9dad0bdce88c\" xlink:actuate=\"onRequest\" xlink:href=\"psysml:ef9b7028-f6bf-447e-864f-9dad0bdce88c\" xlink:show=\"new\" xlink:title=\"psysml:ef9b7028-f6bf-447e-864f-9dad0bdce88c\" xlink:type=\"simple\"><polygon fill=\"#FFFFFF\" points=\"16,6,34,6,41,28.2969,257,28.2969,257,180,16,180,16,6\" style=\"stroke: #000000; stroke-width: 1.5;\"/><line style=\"stroke: #000000; stroke-width: 1.5;\" x1=\"16\" x2=\"41\" y1=\"28.2969\" y2=\"28.2969\"/><text fill=\"#000000\" font-family=\"sans-serif\" font-size=\"14\" font-weight=\"bold\" lengthAdjust=\"spacingAndGlyphs\" textLength=\"12\" x=\"20\" y=\"20.9951\">Q</text></a><!--MD5=[e4f7fae6ed58524ba242bb0b0d3be6b7]\n",
       "cluster E2--><a href=\"psysml:4239e231-7164-4547-a8e1-ba39f4362efb\" target=\"_top\" title=\"psysml:4239e231-7164-4547-a8e1-ba39f4362efb\" xlink:actuate=\"onRequest\" xlink:href=\"psysml:4239e231-7164-4547-a8e1-ba39f4362efb\" xlink:show=\"new\" xlink:title=\"psysml:4239e231-7164-4547-a8e1-ba39f4362efb\" xlink:type=\"simple\"><rect fill=\"#FFFFFF\" height=\"91\" id=\"E2\" rx=\"10\" ry=\"10\" style=\"stroke: #383838; stroke-width: 1.5;\" width=\"82\" x=\"151\" y=\"65\"/><rect fill=\"#F8F8F8\" height=\"23.9688\" rx=\"10\" ry=\"10\" style=\"stroke: #F8F8F8; stroke-width: 1.5;\" width=\"82\" x=\"151\" y=\"65\"/><rect fill=\"#F8F8F8\" height=\"10\" style=\"stroke: #F8F8F8; stroke-width: 1.5;\" width=\"82\" x=\"151\" y=\"78.9688\"/><rect fill=\"none\" height=\"91\" id=\"E2\" rx=\"10\" ry=\"10\" style=\"stroke: #383838; stroke-width: 1.5;\" width=\"82\" x=\"151\" y=\"65\"/><text fill=\"#000000\" font-family=\"sans-serif\" font-size=\"12\" lengthAdjust=\"spacingAndGlyphs\" textLength=\"4\" x=\"190\" y=\"81.1387\">f</text><line style=\"stroke: #383838; stroke-width: 1.0;\" x1=\"151\" x2=\"233\" y1=\"88.9688\" y2=\"88.9688\"/></a><!--MD5=[f6df4d0ebaf0b5dfb2ced0ae5af7c670]\n",
       "cluster E4--><a href=\"psysml:5da665e6-dcc7-4321-8fa9-423e89fca153\" target=\"_top\" title=\"psysml:5da665e6-dcc7-4321-8fa9-423e89fca153\" xlink:actuate=\"onRequest\" xlink:href=\"psysml:5da665e6-dcc7-4321-8fa9-423e89fca153\" xlink:show=\"new\" xlink:title=\"psysml:5da665e6-dcc7-4321-8fa9-423e89fca153\" xlink:type=\"simple\"><rect fill=\"#FFFFFF\" height=\"107\" id=\"E4\" style=\"stroke: #383838; stroke-width: 1.5;\" width=\"87\" x=\"40\" y=\"49\"/><rect fill=\"#F8F8F8\" height=\"37.9375\" style=\"stroke: #383838; stroke-width: 1.5;\" width=\"87\" x=\"40\" y=\"49\"/><text fill=\"#000000\" font-family=\"sans-serif\" font-size=\"12\" font-style=\"italic\" lengthAdjust=\"spacingAndGlyphs\" textLength=\"64\" x=\"51.5\" y=\"65.1387\">«part def»</text><text fill=\"#000000\" font-family=\"sans-serif\" font-size=\"12\" lengthAdjust=\"spacingAndGlyphs\" textLength=\"8\" x=\"79.5\" y=\"79.1074\">C</text></a><g id=\"E1.E2.E3\"><a href=\"psysml:51ecbb7c-6db5-4069-ae0d-bb60efd47f9e\" target=\"_top\" title=\"psysml:51ecbb7c-6db5-4069-ae0d-bb60efd47f9e\" xlink:actuate=\"onRequest\" xlink:href=\"psysml:51ecbb7c-6db5-4069-ae0d-bb60efd47f9e\" xlink:show=\"new\" xlink:title=\"psysml:51ecbb7c-6db5-4069-ae0d-bb60efd47f9e\" xlink:type=\"simple\"><rect fill=\"#FFFFFF\" height=\"40\" id=\"E3\" rx=\"10\" ry=\"10\" style=\"stroke: #383838; stroke-width: 1.5;\" width=\"50\" x=\"167\" y=\"100\"/><rect fill=\"#F8F8F8\" height=\"23.9688\" rx=\"10\" ry=\"10\" style=\"stroke: #F8F8F8; stroke-width: 1.5;\" width=\"50\" x=\"167\" y=\"100\"/><rect fill=\"#F8F8F8\" height=\"10\" style=\"stroke: #F8F8F8; stroke-width: 1.5;\" width=\"50\" x=\"167\" y=\"113.9688\"/><rect fill=\"none\" height=\"40\" id=\"E3\" rx=\"10\" ry=\"10\" style=\"stroke: #383838; stroke-width: 1.5;\" width=\"50\" x=\"167\" y=\"100\"/><text fill=\"#000000\" font-family=\"sans-serif\" font-size=\"12\" lengthAdjust=\"spacingAndGlyphs\" textLength=\"8\" x=\"188\" y=\"116.1387\">a</text></a></g><g id=\"E1.E4.E5\"><a href=\"psysml:ed499477-fca6-4979-bffe-7845725436ef\" target=\"_top\" title=\"psysml:ed499477-fca6-4979-bffe-7845725436ef\" xlink:actuate=\"onRequest\" xlink:href=\"psysml:ed499477-fca6-4979-bffe-7845725436ef\" xlink:show=\"new\" xlink:title=\"psysml:ed499477-fca6-4979-bffe-7845725436ef\" xlink:type=\"simple\"><rect fill=\"#FFFFFF\" height=\"40\" id=\"E5\" rx=\"10\" ry=\"10\" style=\"stroke: #383838; stroke-width: 1.5;\" width=\"50\" x=\"58\" y=\"100\"/><rect fill=\"#F8F8F8\" height=\"23.9688\" rx=\"10\" ry=\"10\" style=\"stroke: #F8F8F8; stroke-width: 1.5;\" width=\"50\" x=\"58\" y=\"100\"/><rect fill=\"#F8F8F8\" height=\"10\" style=\"stroke: #F8F8F8; stroke-width: 1.5;\" width=\"50\" x=\"58\" y=\"113.9688\"/><rect fill=\"none\" height=\"40\" id=\"E5\" rx=\"10\" ry=\"10\" style=\"stroke: #383838; stroke-width: 1.5;\" width=\"50\" x=\"58\" y=\"100\"/><text fill=\"#000000\" font-family=\"sans-serif\" font-size=\"12\" lengthAdjust=\"spacingAndGlyphs\" textLength=\"8\" x=\"79\" y=\"116.1387\">g</text></a></g><!--MD5=[a6089ad382ec1a6440d92d996f1a4fb8]\n",
       "@startuml\r\n",
       "skinparam ranksep 8\r\n",
       "skinparam rectangle {\r\n",
       " backgroundColor<<block>> LightGreen\r\n",
       "}\r\n",
       "skinparam monochrome true\r\n",
       "skinparam classbackgroundcolor white\r\n",
       "skinparam shadowing false\r\n",
       "skinparam wrapWidth 300\r\n",
       "hide circle\r\n",
       "\r\n",
       "package \"Q\" as E1  [[psysml:ef9b7028-f6bf-447e-864f-9dad0bdce88c ]]  {\r\n",
       "rec usage \"f\" as E2  [[psysml:4239e231-7164-4547-a8e1-ba39f4362efb ]] {\r\n",
       "rec usage \"a\" as E3  [[psysml:51ecbb7c-6db5-4069-ae0d-bb60efd47f9e ]] {\r\n",
       "}\r\n",
       "}\r\n",
       "rec def \"C\" as E4  <<(T,blue)part def>> [[psysml:5da665e6-dcc7-4321-8fa9-423e89fca153 ]] {\r\n",
       "rec usage \"g\" as E5  [[psysml:ed499477-fca6-4979-bffe-7845725436ef ]] {\r\n",
       "}\r\n",
       "}\r\n",
       "}\r\n",
       "@enduml\r\n",
       "\n",
       "PlantUML version 1.2020.13(Sat Jun 13 12:26:38 UTC 2020)\n",
       "(EPL source distribution)\n",
       "Java Runtime: OpenJDK Runtime Environment\n",
       "JVM: OpenJDK 64-Bit Server VM\n",
       "Default Encoding: UTF-8\n",
       "Language: en\n",
       "Country: null\n",
       "--></g></svg>"
      ]
     },
     "execution_count": 40,
     "metadata": {},
     "output_type": "execute_result"
    }
   ],
   "source": [
    "%viz --style=\"DEFAULT\" --view=\"Interconnection\" \"Q\""
   ]
  },
  {
   "cell_type": "code",
   "execution_count": 41,
   "id": "motivated-suspect",
   "metadata": {
    "execution": {
     "iopub.execute_input": "2021-03-25T09:26:29.402708Z",
     "iopub.status.busy": "2021-03-25T09:26:29.402120Z",
     "iopub.status.idle": "2021-03-25T09:26:29.409793Z",
     "shell.execute_reply": "2021-03-25T09:26:29.410170Z"
    }
   },
   "outputs": [
    {
     "data": {
      "image/svg+xml": [
       "<?xml version=\"1.0\" encoding=\"UTF-8\" standalone=\"no\"?><svg xmlns=\"http://www.w3.org/2000/svg\" xmlns:xlink=\"http://www.w3.org/1999/xlink\" contentScriptType=\"application/ecmascript\" contentStyleType=\"text/css\" height=\"12px\" preserveAspectRatio=\"none\" style=\"width:12px;height:12px;\" version=\"1.1\" viewBox=\"0 0 12 12\" width=\"12px\" zoomAndPan=\"magnify\"><defs/><g><!--MD5=[388f21188e31bfdd97050473b19af356]\n",
       "@startuml\r\n",
       "skinparam ranksep 8\r\n",
       "skinparam monochrome true\r\n",
       "skinparam classbackgroundcolor white\r\n",
       "skinparam shadowing false\r\n",
       "skinparam wrapWidth 300\r\n",
       "hide circle\r\n",
       "\r\n",
       "@enduml\r\n",
       "\n",
       "PlantUML version 1.2020.13(Sat Jun 13 12:26:38 UTC 2020)\n",
       "(EPL source distribution)\n",
       "Java Runtime: OpenJDK Runtime Environment\n",
       "JVM: OpenJDK 64-Bit Server VM\n",
       "Default Encoding: UTF-8\n",
       "Language: en\n",
       "Country: null\n",
       "--></g></svg>"
      ]
     },
     "execution_count": 41,
     "metadata": {},
     "output_type": "execute_result"
    }
   ],
   "source": [
    "%viz --style=\"DEFAULT\" --view=\"Action\" \"Q\""
   ]
  },
  {
   "cell_type": "code",
   "execution_count": 42,
   "id": "marked-microwave",
   "metadata": {
    "execution": {
     "iopub.execute_input": "2021-03-25T09:26:29.461117Z",
     "iopub.status.busy": "2021-03-25T09:26:29.460698Z",
     "iopub.status.idle": "2021-03-25T09:26:29.510064Z",
     "shell.execute_reply": "2021-03-25T09:26:29.510839Z"
    }
   },
   "outputs": [
    {
     "data": {
      "image/svg+xml": [
       "<?xml version=\"1.0\" encoding=\"UTF-8\" standalone=\"no\"?><svg xmlns=\"http://www.w3.org/2000/svg\" xmlns:xlink=\"http://www.w3.org/1999/xlink\" contentScriptType=\"application/ecmascript\" contentStyleType=\"text/css\" height=\"221px\" preserveAspectRatio=\"none\" style=\"width:213px;height:221px;\" version=\"1.1\" viewBox=\"0 0 213 221\" width=\"213px\" zoomAndPan=\"magnify\"><defs/><g><!--MD5=[fbc87193dbaf4d95561dea2c320d4a47]\n",
       "cluster E1--><a href=\"psysml:ef9b7028-f6bf-447e-864f-9dad0bdce88c\" target=\"_top\" title=\"psysml:ef9b7028-f6bf-447e-864f-9dad0bdce88c\" xlink:actuate=\"onRequest\" xlink:href=\"psysml:ef9b7028-f6bf-447e-864f-9dad0bdce88c\" xlink:show=\"new\" xlink:title=\"psysml:ef9b7028-f6bf-447e-864f-9dad0bdce88c\" xlink:type=\"simple\"><polygon fill=\"#FFFFFF\" points=\"16,6,34,6,41,28.2969,191,28.2969,191,209,16,209,16,6\" style=\"stroke: #000000; stroke-width: 1.5;\"/><line style=\"stroke: #000000; stroke-width: 1.5;\" x1=\"16\" x2=\"41\" y1=\"28.2969\" y2=\"28.2969\"/><text fill=\"#000000\" font-family=\"sans-serif\" font-size=\"14\" font-weight=\"bold\" lengthAdjust=\"spacingAndGlyphs\" textLength=\"12\" x=\"20\" y=\"20.9951\">Q</text></a><!--MD5=[b4997ac47864f28c2f74865a473b2911]\n",
       "class E2--><a href=\"psysml:4239e231-7164-4547-a8e1-ba39f4362efb\" target=\"_top\" title=\"psysml:4239e231-7164-4547-a8e1-ba39f4362efb\" xlink:actuate=\"onRequest\" xlink:href=\"psysml:4239e231-7164-4547-a8e1-ba39f4362efb\" xlink:show=\"new\" xlink:title=\"psysml:4239e231-7164-4547-a8e1-ba39f4362efb\" xlink:type=\"simple\"><rect fill=\"#FFFFFF\" height=\"45.9375\" id=\"E2\" rx=\"10\" ry=\"10\" style=\"stroke: #383838; stroke-width: 1.5;\" width=\"42\" x=\"133\" y=\"41\"/><text fill=\"#000000\" font-family=\"sans-serif\" font-size=\"12\" font-style=\"italic\" lengthAdjust=\"spacingAndGlyphs\" textLength=\"40\" x=\"134\" y=\"57.1387\">«part»</text><text fill=\"#000000\" font-family=\"sans-serif\" font-size=\"12\" lengthAdjust=\"spacingAndGlyphs\" textLength=\"4\" x=\"152\" y=\"71.1074\">f</text><line style=\"stroke: #383838; stroke-width: 1.5;\" x1=\"134\" x2=\"174\" y1=\"78.9375\" y2=\"78.9375\"/></a><!--MD5=[09b614a08d8cba4a07c9adeb5e0fee81]\n",
       "class E3--><a href=\"psysml:51ecbb7c-6db5-4069-ae0d-bb60efd47f9e\" target=\"_top\" title=\"psysml:51ecbb7c-6db5-4069-ae0d-bb60efd47f9e\" xlink:actuate=\"onRequest\" xlink:href=\"psysml:51ecbb7c-6db5-4069-ae0d-bb60efd47f9e\" xlink:show=\"new\" xlink:title=\"psysml:51ecbb7c-6db5-4069-ae0d-bb60efd47f9e\" xlink:type=\"simple\"><rect fill=\"#FFFFFF\" height=\"45.9375\" id=\"E3\" rx=\"10\" ry=\"10\" style=\"stroke: #383838; stroke-width: 1.5;\" width=\"42\" x=\"133\" y=\"147\"/><text fill=\"#000000\" font-family=\"sans-serif\" font-size=\"12\" font-style=\"italic\" lengthAdjust=\"spacingAndGlyphs\" textLength=\"40\" x=\"134\" y=\"163.1387\">«part»</text><text fill=\"#000000\" font-family=\"sans-serif\" font-size=\"12\" lengthAdjust=\"spacingAndGlyphs\" textLength=\"8\" x=\"150\" y=\"177.1074\">a</text><line style=\"stroke: #383838; stroke-width: 1.5;\" x1=\"134\" x2=\"174\" y1=\"184.9375\" y2=\"184.9375\"/></a><!--MD5=[ebbe1d658d1005bcc118a6aa81145e00]\n",
       "class E4--><a href=\"psysml:5da665e6-dcc7-4321-8fa9-423e89fca153\" target=\"_top\" title=\"psysml:5da665e6-dcc7-4321-8fa9-423e89fca153\" xlink:actuate=\"onRequest\" xlink:href=\"psysml:5da665e6-dcc7-4321-8fa9-423e89fca153\" xlink:show=\"new\" xlink:title=\"psysml:5da665e6-dcc7-4321-8fa9-423e89fca153\" xlink:type=\"simple\"><rect fill=\"#FFFFFF\" height=\"45.9375\" id=\"E4\" style=\"stroke: #383838; stroke-width: 1.5;\" width=\"66\" x=\"32\" y=\"41\"/><text fill=\"#000000\" font-family=\"sans-serif\" font-size=\"12\" font-style=\"italic\" lengthAdjust=\"spacingAndGlyphs\" textLength=\"64\" x=\"33\" y=\"57.1387\">«part def»</text><text fill=\"#000000\" font-family=\"sans-serif\" font-size=\"12\" lengthAdjust=\"spacingAndGlyphs\" textLength=\"8\" x=\"61\" y=\"71.1074\">C</text><line style=\"stroke: #383838; stroke-width: 1.5;\" x1=\"33\" x2=\"97\" y1=\"78.9375\" y2=\"78.9375\"/></a><!--MD5=[270fce915f116d4de14055a7c1d9a0f3]\n",
       "class E5--><a href=\"psysml:ed499477-fca6-4979-bffe-7845725436ef\" target=\"_top\" title=\"psysml:ed499477-fca6-4979-bffe-7845725436ef\" xlink:actuate=\"onRequest\" xlink:href=\"psysml:ed499477-fca6-4979-bffe-7845725436ef\" xlink:show=\"new\" xlink:title=\"psysml:ed499477-fca6-4979-bffe-7845725436ef\" xlink:type=\"simple\"><rect fill=\"#FFFFFF\" height=\"45.9375\" id=\"E5\" rx=\"10\" ry=\"10\" style=\"stroke: #383838; stroke-width: 1.5;\" width=\"42\" x=\"44\" y=\"147\"/><text fill=\"#000000\" font-family=\"sans-serif\" font-size=\"12\" font-style=\"italic\" lengthAdjust=\"spacingAndGlyphs\" textLength=\"40\" x=\"45\" y=\"163.1387\">«part»</text><text fill=\"#000000\" font-family=\"sans-serif\" font-size=\"12\" lengthAdjust=\"spacingAndGlyphs\" textLength=\"8\" x=\"61\" y=\"177.1074\">g</text><line style=\"stroke: #383838; stroke-width: 1.5;\" x1=\"45\" x2=\"85\" y1=\"184.9375\" y2=\"184.9375\"/></a><!--MD5=[209b3feb70ccb6233bfe1053d122c12c]\n",
       "reverse link E2 to E3--><a href=\"psysml:51ecbb7c-6db5-4069-ae0d-bb60efd47f9e\" target=\"_top\" title=\"psysml:51ecbb7c-6db5-4069-ae0d-bb60efd47f9e\" xlink:actuate=\"onRequest\" xlink:href=\"psysml:51ecbb7c-6db5-4069-ae0d-bb60efd47f9e\" xlink:show=\"new\" xlink:title=\"psysml:51ecbb7c-6db5-4069-ae0d-bb60efd47f9e\" xlink:type=\"simple\"><path d=\"M154,100.44 C154,115.87 154,133.47 154,146.98 \" fill=\"none\" id=\"E2&lt;-E3\" style=\"stroke: #383838; stroke-width: 1.0;\"/><polygon fill=\"#383838\" points=\"154,87.06,150,93.06,154,99.06,158,93.06,154,87.06\" style=\"stroke: #383838; stroke-width: 1.0;\"/></a><!--MD5=[62aa6af11e70f752912c1cb0466f24f7]\n",
       "reverse link E4 to E5--><a href=\"psysml:ed499477-fca6-4979-bffe-7845725436ef\" target=\"_top\" title=\"psysml:ed499477-fca6-4979-bffe-7845725436ef\" xlink:actuate=\"onRequest\" xlink:href=\"psysml:ed499477-fca6-4979-bffe-7845725436ef\" xlink:show=\"new\" xlink:title=\"psysml:ed499477-fca6-4979-bffe-7845725436ef\" xlink:type=\"simple\"><path d=\"M65,100.44 C65,115.87 65,133.47 65,146.98 \" fill=\"none\" id=\"E4&lt;-E5\" style=\"stroke: #383838; stroke-width: 1.0;\"/><polygon fill=\"#383838\" points=\"65,87.06,61,93.06,65,99.06,69,93.06,65,87.06\" style=\"stroke: #383838; stroke-width: 1.0;\"/></a><!--MD5=[0dc8edd39bbe58c858ed24efcf33d9a8]\n",
       "@startuml\r\n",
       "skinparam monochrome true\r\n",
       "skinparam classbackgroundcolor white\r\n",
       "skinparam shadowing false\r\n",
       "skinparam wrapWidth 300\r\n",
       "hide circle\r\n",
       "\r\n",
       "package \"Q\" as E1  [[psysml:ef9b7028-f6bf-447e-864f-9dad0bdce88c ]]  {\r\n",
       "comp usage \"f\" as E2  <<(T,blue)part>> [[psysml:4239e231-7164-4547-a8e1-ba39f4362efb ]] {\r\n",
       "}\r\n",
       "comp usage \"a\" as E3  <<(T,blue)part>> [[psysml:51ecbb7c-6db5-4069-ae0d-bb60efd47f9e ]] {\r\n",
       "}\r\n",
       "comp def \"C\" as E4  <<(T,blue)part def>> [[psysml:5da665e6-dcc7-4321-8fa9-423e89fca153 ]] {\r\n",
       "}\r\n",
       "comp usage \"g\" as E5  <<(T,blue)part>> [[psysml:ed499477-fca6-4979-bffe-7845725436ef ]] {\r\n",
       "}\r\n",
       "E2 *- - E3 [[psysml:51ecbb7c-6db5-4069-ae0d-bb60efd47f9e ]] \r\n",
       "E4 *- - E5 [[psysml:ed499477-fca6-4979-bffe-7845725436ef ]] \r\n",
       "}\r\n",
       "@enduml\r\n",
       "\n",
       "PlantUML version 1.2020.13(Sat Jun 13 12:26:38 UTC 2020)\n",
       "(EPL source distribution)\n",
       "Java Runtime: OpenJDK Runtime Environment\n",
       "JVM: OpenJDK 64-Bit Server VM\n",
       "Default Encoding: UTF-8\n",
       "Language: en\n",
       "Country: null\n",
       "--></g></svg>"
      ]
     },
     "execution_count": 42,
     "metadata": {},
     "output_type": "execute_result"
    }
   ],
   "source": [
    "%viz --style=\"DEFAULT\" --view=\"Sequence\" \"Q\""
   ]
  },
  {
   "cell_type": "code",
   "execution_count": 43,
   "id": "stainless-bikini",
   "metadata": {
    "execution": {
     "iopub.execute_input": "2021-03-25T09:26:29.560064Z",
     "iopub.status.busy": "2021-03-25T09:26:29.559588Z",
     "iopub.status.idle": "2021-03-25T09:26:29.611890Z",
     "shell.execute_reply": "2021-03-25T09:26:29.610559Z"
    }
   },
   "outputs": [
    {
     "data": {
      "image/svg+xml": [
       "<?xml version=\"1.0\" encoding=\"UTF-8\" standalone=\"no\"?><svg xmlns=\"http://www.w3.org/2000/svg\" xmlns:xlink=\"http://www.w3.org/1999/xlink\" contentScriptType=\"application/ecmascript\" contentStyleType=\"text/css\" height=\"221px\" preserveAspectRatio=\"none\" style=\"width:213px;height:221px;\" version=\"1.1\" viewBox=\"0 0 213 221\" width=\"213px\" zoomAndPan=\"magnify\"><defs/><g><!--MD5=[fbc87193dbaf4d95561dea2c320d4a47]\n",
       "cluster E1--><a href=\"psysml:ef9b7028-f6bf-447e-864f-9dad0bdce88c\" target=\"_top\" title=\"psysml:ef9b7028-f6bf-447e-864f-9dad0bdce88c\" xlink:actuate=\"onRequest\" xlink:href=\"psysml:ef9b7028-f6bf-447e-864f-9dad0bdce88c\" xlink:show=\"new\" xlink:title=\"psysml:ef9b7028-f6bf-447e-864f-9dad0bdce88c\" xlink:type=\"simple\"><polygon fill=\"#FFFFFF\" points=\"16,6,34,6,41,28.2969,191,28.2969,191,209,16,209,16,6\" style=\"stroke: #000000; stroke-width: 1.5;\"/><line style=\"stroke: #000000; stroke-width: 1.5;\" x1=\"16\" x2=\"41\" y1=\"28.2969\" y2=\"28.2969\"/><text fill=\"#000000\" font-family=\"sans-serif\" font-size=\"14\" font-weight=\"bold\" lengthAdjust=\"spacingAndGlyphs\" textLength=\"12\" x=\"20\" y=\"20.9951\">Q</text></a><!--MD5=[b4997ac47864f28c2f74865a473b2911]\n",
       "class E2--><a href=\"psysml:4239e231-7164-4547-a8e1-ba39f4362efb\" target=\"_top\" title=\"psysml:4239e231-7164-4547-a8e1-ba39f4362efb\" xlink:actuate=\"onRequest\" xlink:href=\"psysml:4239e231-7164-4547-a8e1-ba39f4362efb\" xlink:show=\"new\" xlink:title=\"psysml:4239e231-7164-4547-a8e1-ba39f4362efb\" xlink:type=\"simple\"><rect fill=\"#FFFFFF\" height=\"45.9375\" id=\"E2\" rx=\"10\" ry=\"10\" style=\"stroke: #383838; stroke-width: 1.5;\" width=\"42\" x=\"133\" y=\"41\"/><text fill=\"#000000\" font-family=\"sans-serif\" font-size=\"12\" font-style=\"italic\" lengthAdjust=\"spacingAndGlyphs\" textLength=\"40\" x=\"134\" y=\"57.1387\">«part»</text><text fill=\"#000000\" font-family=\"sans-serif\" font-size=\"12\" lengthAdjust=\"spacingAndGlyphs\" textLength=\"4\" x=\"152\" y=\"71.1074\">f</text><line style=\"stroke: #383838; stroke-width: 1.5;\" x1=\"134\" x2=\"174\" y1=\"78.9375\" y2=\"78.9375\"/></a><!--MD5=[09b614a08d8cba4a07c9adeb5e0fee81]\n",
       "class E3--><a href=\"psysml:51ecbb7c-6db5-4069-ae0d-bb60efd47f9e\" target=\"_top\" title=\"psysml:51ecbb7c-6db5-4069-ae0d-bb60efd47f9e\" xlink:actuate=\"onRequest\" xlink:href=\"psysml:51ecbb7c-6db5-4069-ae0d-bb60efd47f9e\" xlink:show=\"new\" xlink:title=\"psysml:51ecbb7c-6db5-4069-ae0d-bb60efd47f9e\" xlink:type=\"simple\"><rect fill=\"#FFFFFF\" height=\"45.9375\" id=\"E3\" rx=\"10\" ry=\"10\" style=\"stroke: #383838; stroke-width: 1.5;\" width=\"42\" x=\"133\" y=\"147\"/><text fill=\"#000000\" font-family=\"sans-serif\" font-size=\"12\" font-style=\"italic\" lengthAdjust=\"spacingAndGlyphs\" textLength=\"40\" x=\"134\" y=\"163.1387\">«part»</text><text fill=\"#000000\" font-family=\"sans-serif\" font-size=\"12\" lengthAdjust=\"spacingAndGlyphs\" textLength=\"8\" x=\"150\" y=\"177.1074\">a</text><line style=\"stroke: #383838; stroke-width: 1.5;\" x1=\"134\" x2=\"174\" y1=\"184.9375\" y2=\"184.9375\"/></a><!--MD5=[ebbe1d658d1005bcc118a6aa81145e00]\n",
       "class E4--><a href=\"psysml:5da665e6-dcc7-4321-8fa9-423e89fca153\" target=\"_top\" title=\"psysml:5da665e6-dcc7-4321-8fa9-423e89fca153\" xlink:actuate=\"onRequest\" xlink:href=\"psysml:5da665e6-dcc7-4321-8fa9-423e89fca153\" xlink:show=\"new\" xlink:title=\"psysml:5da665e6-dcc7-4321-8fa9-423e89fca153\" xlink:type=\"simple\"><rect fill=\"#FFFFFF\" height=\"45.9375\" id=\"E4\" style=\"stroke: #383838; stroke-width: 1.5;\" width=\"66\" x=\"32\" y=\"41\"/><text fill=\"#000000\" font-family=\"sans-serif\" font-size=\"12\" font-style=\"italic\" lengthAdjust=\"spacingAndGlyphs\" textLength=\"64\" x=\"33\" y=\"57.1387\">«part def»</text><text fill=\"#000000\" font-family=\"sans-serif\" font-size=\"12\" lengthAdjust=\"spacingAndGlyphs\" textLength=\"8\" x=\"61\" y=\"71.1074\">C</text><line style=\"stroke: #383838; stroke-width: 1.5;\" x1=\"33\" x2=\"97\" y1=\"78.9375\" y2=\"78.9375\"/></a><!--MD5=[270fce915f116d4de14055a7c1d9a0f3]\n",
       "class E5--><a href=\"psysml:ed499477-fca6-4979-bffe-7845725436ef\" target=\"_top\" title=\"psysml:ed499477-fca6-4979-bffe-7845725436ef\" xlink:actuate=\"onRequest\" xlink:href=\"psysml:ed499477-fca6-4979-bffe-7845725436ef\" xlink:show=\"new\" xlink:title=\"psysml:ed499477-fca6-4979-bffe-7845725436ef\" xlink:type=\"simple\"><rect fill=\"#FFFFFF\" height=\"45.9375\" id=\"E5\" rx=\"10\" ry=\"10\" style=\"stroke: #383838; stroke-width: 1.5;\" width=\"42\" x=\"44\" y=\"147\"/><text fill=\"#000000\" font-family=\"sans-serif\" font-size=\"12\" font-style=\"italic\" lengthAdjust=\"spacingAndGlyphs\" textLength=\"40\" x=\"45\" y=\"163.1387\">«part»</text><text fill=\"#000000\" font-family=\"sans-serif\" font-size=\"12\" lengthAdjust=\"spacingAndGlyphs\" textLength=\"8\" x=\"61\" y=\"177.1074\">g</text><line style=\"stroke: #383838; stroke-width: 1.5;\" x1=\"45\" x2=\"85\" y1=\"184.9375\" y2=\"184.9375\"/></a><!--MD5=[209b3feb70ccb6233bfe1053d122c12c]\n",
       "reverse link E2 to E3--><a href=\"psysml:51ecbb7c-6db5-4069-ae0d-bb60efd47f9e\" target=\"_top\" title=\"psysml:51ecbb7c-6db5-4069-ae0d-bb60efd47f9e\" xlink:actuate=\"onRequest\" xlink:href=\"psysml:51ecbb7c-6db5-4069-ae0d-bb60efd47f9e\" xlink:show=\"new\" xlink:title=\"psysml:51ecbb7c-6db5-4069-ae0d-bb60efd47f9e\" xlink:type=\"simple\"><path d=\"M154,100.44 C154,115.87 154,133.47 154,146.98 \" fill=\"none\" id=\"E2&lt;-E3\" style=\"stroke: #383838; stroke-width: 1.0;\"/><polygon fill=\"#383838\" points=\"154,87.06,150,93.06,154,99.06,158,93.06,154,87.06\" style=\"stroke: #383838; stroke-width: 1.0;\"/></a><!--MD5=[62aa6af11e70f752912c1cb0466f24f7]\n",
       "reverse link E4 to E5--><a href=\"psysml:ed499477-fca6-4979-bffe-7845725436ef\" target=\"_top\" title=\"psysml:ed499477-fca6-4979-bffe-7845725436ef\" xlink:actuate=\"onRequest\" xlink:href=\"psysml:ed499477-fca6-4979-bffe-7845725436ef\" xlink:show=\"new\" xlink:title=\"psysml:ed499477-fca6-4979-bffe-7845725436ef\" xlink:type=\"simple\"><path d=\"M65,100.44 C65,115.87 65,133.47 65,146.98 \" fill=\"none\" id=\"E4&lt;-E5\" style=\"stroke: #383838; stroke-width: 1.0;\"/><polygon fill=\"#383838\" points=\"65,87.06,61,93.06,65,99.06,69,93.06,65,87.06\" style=\"stroke: #383838; stroke-width: 1.0;\"/></a><!--MD5=[0dc8edd39bbe58c858ed24efcf33d9a8]\n",
       "@startuml\r\n",
       "skinparam monochrome true\r\n",
       "skinparam classbackgroundcolor white\r\n",
       "skinparam shadowing false\r\n",
       "skinparam wrapWidth 300\r\n",
       "hide circle\r\n",
       "\r\n",
       "package \"Q\" as E1  [[psysml:ef9b7028-f6bf-447e-864f-9dad0bdce88c ]]  {\r\n",
       "comp usage \"f\" as E2  <<(T,blue)part>> [[psysml:4239e231-7164-4547-a8e1-ba39f4362efb ]] {\r\n",
       "}\r\n",
       "comp usage \"a\" as E3  <<(T,blue)part>> [[psysml:51ecbb7c-6db5-4069-ae0d-bb60efd47f9e ]] {\r\n",
       "}\r\n",
       "comp def \"C\" as E4  <<(T,blue)part def>> [[psysml:5da665e6-dcc7-4321-8fa9-423e89fca153 ]] {\r\n",
       "}\r\n",
       "comp usage \"g\" as E5  <<(T,blue)part>> [[psysml:ed499477-fca6-4979-bffe-7845725436ef ]] {\r\n",
       "}\r\n",
       "E2 *- - E3 [[psysml:51ecbb7c-6db5-4069-ae0d-bb60efd47f9e ]] \r\n",
       "E4 *- - E5 [[psysml:ed499477-fca6-4979-bffe-7845725436ef ]] \r\n",
       "}\r\n",
       "@enduml\r\n",
       "\n",
       "PlantUML version 1.2020.13(Sat Jun 13 12:26:38 UTC 2020)\n",
       "(EPL source distribution)\n",
       "Java Runtime: OpenJDK Runtime Environment\n",
       "JVM: OpenJDK 64-Bit Server VM\n",
       "Default Encoding: UTF-8\n",
       "Language: en\n",
       "Country: null\n",
       "--></g></svg>"
      ]
     },
     "execution_count": 43,
     "metadata": {},
     "output_type": "execute_result"
    }
   ],
   "source": [
    "%viz --style=\"DEFAULT\" --view=\"MIXED\" \"Q\""
   ]
  },
  {
   "cell_type": "code",
   "execution_count": 44,
   "id": "massive-slave",
   "metadata": {
    "execution": {
     "iopub.execute_input": "2021-03-25T09:26:29.663686Z",
     "iopub.status.busy": "2021-03-25T09:26:29.662815Z",
     "iopub.status.idle": "2021-03-25T09:26:29.713271Z",
     "shell.execute_reply": "2021-03-25T09:26:29.712111Z"
    }
   },
   "outputs": [
    {
     "data": {
      "image/svg+xml": [
       "<?xml version=\"1.0\" encoding=\"UTF-8\" standalone=\"no\"?><svg xmlns=\"http://www.w3.org/2000/svg\" xmlns:xlink=\"http://www.w3.org/1999/xlink\" contentScriptType=\"application/ecmascript\" contentStyleType=\"text/css\" height=\"221px\" preserveAspectRatio=\"none\" style=\"width:213px;height:221px;\" version=\"1.1\" viewBox=\"0 0 213 221\" width=\"213px\" zoomAndPan=\"magnify\"><defs/><g><!--MD5=[fbc87193dbaf4d95561dea2c320d4a47]\n",
       "cluster E1--><a href=\"psysml:ef9b7028-f6bf-447e-864f-9dad0bdce88c\" target=\"_top\" title=\"psysml:ef9b7028-f6bf-447e-864f-9dad0bdce88c\" xlink:actuate=\"onRequest\" xlink:href=\"psysml:ef9b7028-f6bf-447e-864f-9dad0bdce88c\" xlink:show=\"new\" xlink:title=\"psysml:ef9b7028-f6bf-447e-864f-9dad0bdce88c\" xlink:type=\"simple\"><polygon fill=\"#FFFFFF\" points=\"16,6,34,6,41,28.2969,191,28.2969,191,209,16,209,16,6\" style=\"stroke: #000000; stroke-width: 1.5;\"/><line style=\"stroke: #000000; stroke-width: 1.5;\" x1=\"16\" x2=\"41\" y1=\"28.2969\" y2=\"28.2969\"/><text fill=\"#000000\" font-family=\"sans-serif\" font-size=\"14\" font-weight=\"bold\" lengthAdjust=\"spacingAndGlyphs\" textLength=\"12\" x=\"20\" y=\"20.9951\">Q</text></a><!--MD5=[b4997ac47864f28c2f74865a473b2911]\n",
       "class E2--><a href=\"psysml:4239e231-7164-4547-a8e1-ba39f4362efb\" target=\"_top\" title=\"psysml:4239e231-7164-4547-a8e1-ba39f4362efb\" xlink:actuate=\"onRequest\" xlink:href=\"psysml:4239e231-7164-4547-a8e1-ba39f4362efb\" xlink:show=\"new\" xlink:title=\"psysml:4239e231-7164-4547-a8e1-ba39f4362efb\" xlink:type=\"simple\"><rect fill=\"#FFFFFF\" height=\"45.9375\" id=\"E2\" rx=\"10\" ry=\"10\" style=\"stroke: #383838; stroke-width: 1.5;\" width=\"42\" x=\"133\" y=\"41\"/><text fill=\"#000000\" font-family=\"sans-serif\" font-size=\"12\" font-style=\"italic\" lengthAdjust=\"spacingAndGlyphs\" textLength=\"40\" x=\"134\" y=\"57.1387\">«part»</text><text fill=\"#000000\" font-family=\"sans-serif\" font-size=\"12\" lengthAdjust=\"spacingAndGlyphs\" textLength=\"4\" x=\"152\" y=\"71.1074\">f</text><line style=\"stroke: #383838; stroke-width: 1.5;\" x1=\"134\" x2=\"174\" y1=\"78.9375\" y2=\"78.9375\"/></a><!--MD5=[09b614a08d8cba4a07c9adeb5e0fee81]\n",
       "class E3--><a href=\"psysml:51ecbb7c-6db5-4069-ae0d-bb60efd47f9e\" target=\"_top\" title=\"psysml:51ecbb7c-6db5-4069-ae0d-bb60efd47f9e\" xlink:actuate=\"onRequest\" xlink:href=\"psysml:51ecbb7c-6db5-4069-ae0d-bb60efd47f9e\" xlink:show=\"new\" xlink:title=\"psysml:51ecbb7c-6db5-4069-ae0d-bb60efd47f9e\" xlink:type=\"simple\"><rect fill=\"#FFFFFF\" height=\"45.9375\" id=\"E3\" rx=\"10\" ry=\"10\" style=\"stroke: #383838; stroke-width: 1.5;\" width=\"42\" x=\"133\" y=\"147\"/><text fill=\"#000000\" font-family=\"sans-serif\" font-size=\"12\" font-style=\"italic\" lengthAdjust=\"spacingAndGlyphs\" textLength=\"40\" x=\"134\" y=\"163.1387\">«part»</text><text fill=\"#000000\" font-family=\"sans-serif\" font-size=\"12\" lengthAdjust=\"spacingAndGlyphs\" textLength=\"8\" x=\"150\" y=\"177.1074\">a</text><line style=\"stroke: #383838; stroke-width: 1.5;\" x1=\"134\" x2=\"174\" y1=\"184.9375\" y2=\"184.9375\"/></a><!--MD5=[ebbe1d658d1005bcc118a6aa81145e00]\n",
       "class E4--><a href=\"psysml:5da665e6-dcc7-4321-8fa9-423e89fca153\" target=\"_top\" title=\"psysml:5da665e6-dcc7-4321-8fa9-423e89fca153\" xlink:actuate=\"onRequest\" xlink:href=\"psysml:5da665e6-dcc7-4321-8fa9-423e89fca153\" xlink:show=\"new\" xlink:title=\"psysml:5da665e6-dcc7-4321-8fa9-423e89fca153\" xlink:type=\"simple\"><rect fill=\"#FFFFFF\" height=\"45.9375\" id=\"E4\" style=\"stroke: #383838; stroke-width: 1.5;\" width=\"66\" x=\"32\" y=\"41\"/><text fill=\"#000000\" font-family=\"sans-serif\" font-size=\"12\" font-style=\"italic\" lengthAdjust=\"spacingAndGlyphs\" textLength=\"64\" x=\"33\" y=\"57.1387\">«part def»</text><text fill=\"#000000\" font-family=\"sans-serif\" font-size=\"12\" lengthAdjust=\"spacingAndGlyphs\" textLength=\"8\" x=\"61\" y=\"71.1074\">C</text><line style=\"stroke: #383838; stroke-width: 1.5;\" x1=\"33\" x2=\"97\" y1=\"78.9375\" y2=\"78.9375\"/></a><!--MD5=[270fce915f116d4de14055a7c1d9a0f3]\n",
       "class E5--><a href=\"psysml:ed499477-fca6-4979-bffe-7845725436ef\" target=\"_top\" title=\"psysml:ed499477-fca6-4979-bffe-7845725436ef\" xlink:actuate=\"onRequest\" xlink:href=\"psysml:ed499477-fca6-4979-bffe-7845725436ef\" xlink:show=\"new\" xlink:title=\"psysml:ed499477-fca6-4979-bffe-7845725436ef\" xlink:type=\"simple\"><rect fill=\"#FFFFFF\" height=\"45.9375\" id=\"E5\" rx=\"10\" ry=\"10\" style=\"stroke: #383838; stroke-width: 1.5;\" width=\"42\" x=\"44\" y=\"147\"/><text fill=\"#000000\" font-family=\"sans-serif\" font-size=\"12\" font-style=\"italic\" lengthAdjust=\"spacingAndGlyphs\" textLength=\"40\" x=\"45\" y=\"163.1387\">«part»</text><text fill=\"#000000\" font-family=\"sans-serif\" font-size=\"12\" lengthAdjust=\"spacingAndGlyphs\" textLength=\"8\" x=\"61\" y=\"177.1074\">g</text><line style=\"stroke: #383838; stroke-width: 1.5;\" x1=\"45\" x2=\"85\" y1=\"184.9375\" y2=\"184.9375\"/></a><!--MD5=[209b3feb70ccb6233bfe1053d122c12c]\n",
       "reverse link E2 to E3--><a href=\"psysml:51ecbb7c-6db5-4069-ae0d-bb60efd47f9e\" target=\"_top\" title=\"psysml:51ecbb7c-6db5-4069-ae0d-bb60efd47f9e\" xlink:actuate=\"onRequest\" xlink:href=\"psysml:51ecbb7c-6db5-4069-ae0d-bb60efd47f9e\" xlink:show=\"new\" xlink:title=\"psysml:51ecbb7c-6db5-4069-ae0d-bb60efd47f9e\" xlink:type=\"simple\"><path d=\"M154,100.44 C154,115.87 154,133.47 154,146.98 \" fill=\"none\" id=\"E2&lt;-E3\" style=\"stroke: #383838; stroke-width: 1.0;\"/><polygon fill=\"#383838\" points=\"154,87.06,150,93.06,154,99.06,158,93.06,154,87.06\" style=\"stroke: #383838; stroke-width: 1.0;\"/></a><!--MD5=[62aa6af11e70f752912c1cb0466f24f7]\n",
       "reverse link E4 to E5--><a href=\"psysml:ed499477-fca6-4979-bffe-7845725436ef\" target=\"_top\" title=\"psysml:ed499477-fca6-4979-bffe-7845725436ef\" xlink:actuate=\"onRequest\" xlink:href=\"psysml:ed499477-fca6-4979-bffe-7845725436ef\" xlink:show=\"new\" xlink:title=\"psysml:ed499477-fca6-4979-bffe-7845725436ef\" xlink:type=\"simple\"><path d=\"M65,100.44 C65,115.87 65,133.47 65,146.98 \" fill=\"none\" id=\"E4&lt;-E5\" style=\"stroke: #383838; stroke-width: 1.0;\"/><polygon fill=\"#383838\" points=\"65,87.06,61,93.06,65,99.06,69,93.06,65,87.06\" style=\"stroke: #383838; stroke-width: 1.0;\"/></a><!--MD5=[4dc2329b05fbab771afd65ef9cdd9cb0]\n",
       "@startuml\r\n",
       "top to bottom direction\r\n",
       "skinparam monochrome true\r\n",
       "skinparam classbackgroundcolor white\r\n",
       "skinparam shadowing false\r\n",
       "skinparam wrapWidth 300\r\n",
       "hide circle\r\n",
       "\r\n",
       "package \"Q\" as E1  [[psysml:ef9b7028-f6bf-447e-864f-9dad0bdce88c ]]  {\r\n",
       "comp usage \"f\" as E2  <<(T,blue)part>> [[psysml:4239e231-7164-4547-a8e1-ba39f4362efb ]] {\r\n",
       "}\r\n",
       "comp usage \"a\" as E3  <<(T,blue)part>> [[psysml:51ecbb7c-6db5-4069-ae0d-bb60efd47f9e ]] {\r\n",
       "}\r\n",
       "comp def \"C\" as E4  <<(T,blue)part def>> [[psysml:5da665e6-dcc7-4321-8fa9-423e89fca153 ]] {\r\n",
       "}\r\n",
       "comp usage \"g\" as E5  <<(T,blue)part>> [[psysml:ed499477-fca6-4979-bffe-7845725436ef ]] {\r\n",
       "}\r\n",
       "E2 *- - E3 [[psysml:51ecbb7c-6db5-4069-ae0d-bb60efd47f9e ]] \r\n",
       "E4 *- - E5 [[psysml:ed499477-fca6-4979-bffe-7845725436ef ]] \r\n",
       "}\r\n",
       "@enduml\r\n",
       "\n",
       "PlantUML version 1.2020.13(Sat Jun 13 12:26:38 UTC 2020)\n",
       "(EPL source distribution)\n",
       "Java Runtime: OpenJDK Runtime Environment\n",
       "JVM: OpenJDK 64-Bit Server VM\n",
       "Default Encoding: UTF-8\n",
       "Language: en\n",
       "Country: null\n",
       "--></g></svg>"
      ]
     },
     "execution_count": 44,
     "metadata": {},
     "output_type": "execute_result"
    }
   ],
   "source": [
    "%viz --style=\"TB\" --view=\"Default\" \"Q\""
   ]
  },
  {
   "cell_type": "code",
   "execution_count": 45,
   "id": "genuine-relay",
   "metadata": {
    "execution": {
     "iopub.execute_input": "2021-03-25T09:26:29.764248Z",
     "iopub.status.busy": "2021-03-25T09:26:29.763620Z",
     "iopub.status.idle": "2021-03-25T09:26:29.815279Z",
     "shell.execute_reply": "2021-03-25T09:26:29.814902Z"
    }
   },
   "outputs": [
    {
     "data": {
      "image/svg+xml": [
       "<?xml version=\"1.0\" encoding=\"UTF-8\" standalone=\"no\"?><svg xmlns=\"http://www.w3.org/2000/svg\" xmlns:xlink=\"http://www.w3.org/1999/xlink\" contentScriptType=\"application/ecmascript\" contentStyleType=\"text/css\" height=\"221px\" preserveAspectRatio=\"none\" style=\"width:213px;height:221px;\" version=\"1.1\" viewBox=\"0 0 213 221\" width=\"213px\" zoomAndPan=\"magnify\"><defs/><g><!--MD5=[fbc87193dbaf4d95561dea2c320d4a47]\n",
       "cluster E1--><a href=\"psysml:ef9b7028-f6bf-447e-864f-9dad0bdce88c\" target=\"_top\" title=\"psysml:ef9b7028-f6bf-447e-864f-9dad0bdce88c\" xlink:actuate=\"onRequest\" xlink:href=\"psysml:ef9b7028-f6bf-447e-864f-9dad0bdce88c\" xlink:show=\"new\" xlink:title=\"psysml:ef9b7028-f6bf-447e-864f-9dad0bdce88c\" xlink:type=\"simple\"><polygon fill=\"#FFFFFF\" points=\"16,6,34,6,41,28.2969,191,28.2969,191,209,16,209,16,6\" style=\"stroke: #000000; stroke-width: 1.5;\"/><line style=\"stroke: #000000; stroke-width: 1.5;\" x1=\"16\" x2=\"41\" y1=\"28.2969\" y2=\"28.2969\"/><text fill=\"#000000\" font-family=\"sans-serif\" font-size=\"14\" font-weight=\"bold\" lengthAdjust=\"spacingAndGlyphs\" textLength=\"12\" x=\"20\" y=\"20.9951\">Q</text></a><!--MD5=[b4997ac47864f28c2f74865a473b2911]\n",
       "class E2--><a href=\"psysml:4239e231-7164-4547-a8e1-ba39f4362efb\" target=\"_top\" title=\"psysml:4239e231-7164-4547-a8e1-ba39f4362efb\" xlink:actuate=\"onRequest\" xlink:href=\"psysml:4239e231-7164-4547-a8e1-ba39f4362efb\" xlink:show=\"new\" xlink:title=\"psysml:4239e231-7164-4547-a8e1-ba39f4362efb\" xlink:type=\"simple\"><rect fill=\"#FFFFFF\" height=\"45.9375\" id=\"E2\" rx=\"10\" ry=\"10\" style=\"stroke: #383838; stroke-width: 1.5;\" width=\"42\" x=\"133\" y=\"41\"/><text fill=\"#000000\" font-family=\"sans-serif\" font-size=\"12\" font-style=\"italic\" lengthAdjust=\"spacingAndGlyphs\" textLength=\"40\" x=\"134\" y=\"57.1387\">«part»</text><text fill=\"#000000\" font-family=\"sans-serif\" font-size=\"12\" lengthAdjust=\"spacingAndGlyphs\" textLength=\"4\" x=\"152\" y=\"71.1074\">f</text><line style=\"stroke: #383838; stroke-width: 1.5;\" x1=\"134\" x2=\"174\" y1=\"78.9375\" y2=\"78.9375\"/></a><!--MD5=[09b614a08d8cba4a07c9adeb5e0fee81]\n",
       "class E3--><a href=\"psysml:51ecbb7c-6db5-4069-ae0d-bb60efd47f9e\" target=\"_top\" title=\"psysml:51ecbb7c-6db5-4069-ae0d-bb60efd47f9e\" xlink:actuate=\"onRequest\" xlink:href=\"psysml:51ecbb7c-6db5-4069-ae0d-bb60efd47f9e\" xlink:show=\"new\" xlink:title=\"psysml:51ecbb7c-6db5-4069-ae0d-bb60efd47f9e\" xlink:type=\"simple\"><rect fill=\"#FFFFFF\" height=\"45.9375\" id=\"E3\" rx=\"10\" ry=\"10\" style=\"stroke: #383838; stroke-width: 1.5;\" width=\"42\" x=\"133\" y=\"147\"/><text fill=\"#000000\" font-family=\"sans-serif\" font-size=\"12\" font-style=\"italic\" lengthAdjust=\"spacingAndGlyphs\" textLength=\"40\" x=\"134\" y=\"163.1387\">«part»</text><text fill=\"#000000\" font-family=\"sans-serif\" font-size=\"12\" lengthAdjust=\"spacingAndGlyphs\" textLength=\"8\" x=\"150\" y=\"177.1074\">a</text><line style=\"stroke: #383838; stroke-width: 1.5;\" x1=\"134\" x2=\"174\" y1=\"184.9375\" y2=\"184.9375\"/></a><!--MD5=[ebbe1d658d1005bcc118a6aa81145e00]\n",
       "class E4--><a href=\"psysml:5da665e6-dcc7-4321-8fa9-423e89fca153\" target=\"_top\" title=\"psysml:5da665e6-dcc7-4321-8fa9-423e89fca153\" xlink:actuate=\"onRequest\" xlink:href=\"psysml:5da665e6-dcc7-4321-8fa9-423e89fca153\" xlink:show=\"new\" xlink:title=\"psysml:5da665e6-dcc7-4321-8fa9-423e89fca153\" xlink:type=\"simple\"><rect fill=\"#FFFFFF\" height=\"45.9375\" id=\"E4\" style=\"stroke: #383838; stroke-width: 1.5;\" width=\"66\" x=\"32\" y=\"41\"/><text fill=\"#000000\" font-family=\"sans-serif\" font-size=\"12\" font-style=\"italic\" lengthAdjust=\"spacingAndGlyphs\" textLength=\"64\" x=\"33\" y=\"57.1387\">«part def»</text><text fill=\"#000000\" font-family=\"sans-serif\" font-size=\"12\" lengthAdjust=\"spacingAndGlyphs\" textLength=\"8\" x=\"61\" y=\"71.1074\">C</text><line style=\"stroke: #383838; stroke-width: 1.5;\" x1=\"33\" x2=\"97\" y1=\"78.9375\" y2=\"78.9375\"/></a><!--MD5=[270fce915f116d4de14055a7c1d9a0f3]\n",
       "class E5--><a href=\"psysml:ed499477-fca6-4979-bffe-7845725436ef\" target=\"_top\" title=\"psysml:ed499477-fca6-4979-bffe-7845725436ef\" xlink:actuate=\"onRequest\" xlink:href=\"psysml:ed499477-fca6-4979-bffe-7845725436ef\" xlink:show=\"new\" xlink:title=\"psysml:ed499477-fca6-4979-bffe-7845725436ef\" xlink:type=\"simple\"><rect fill=\"#FFFFFF\" height=\"45.9375\" id=\"E5\" rx=\"10\" ry=\"10\" style=\"stroke: #383838; stroke-width: 1.5;\" width=\"42\" x=\"44\" y=\"147\"/><text fill=\"#000000\" font-family=\"sans-serif\" font-size=\"12\" font-style=\"italic\" lengthAdjust=\"spacingAndGlyphs\" textLength=\"40\" x=\"45\" y=\"163.1387\">«part»</text><text fill=\"#000000\" font-family=\"sans-serif\" font-size=\"12\" lengthAdjust=\"spacingAndGlyphs\" textLength=\"8\" x=\"61\" y=\"177.1074\">g</text><line style=\"stroke: #383838; stroke-width: 1.5;\" x1=\"45\" x2=\"85\" y1=\"184.9375\" y2=\"184.9375\"/></a><!--MD5=[209b3feb70ccb6233bfe1053d122c12c]\n",
       "reverse link E2 to E3--><a href=\"psysml:51ecbb7c-6db5-4069-ae0d-bb60efd47f9e\" target=\"_top\" title=\"psysml:51ecbb7c-6db5-4069-ae0d-bb60efd47f9e\" xlink:actuate=\"onRequest\" xlink:href=\"psysml:51ecbb7c-6db5-4069-ae0d-bb60efd47f9e\" xlink:show=\"new\" xlink:title=\"psysml:51ecbb7c-6db5-4069-ae0d-bb60efd47f9e\" xlink:type=\"simple\"><path d=\"M154,100.44 C154,115.87 154,133.47 154,146.98 \" fill=\"none\" id=\"E2&lt;-E3\" style=\"stroke: #383838; stroke-width: 1.0;\"/><polygon fill=\"#383838\" points=\"154,87.06,150,93.06,154,99.06,158,93.06,154,87.06\" style=\"stroke: #383838; stroke-width: 1.0;\"/></a><!--MD5=[62aa6af11e70f752912c1cb0466f24f7]\n",
       "reverse link E4 to E5--><a href=\"psysml:ed499477-fca6-4979-bffe-7845725436ef\" target=\"_top\" title=\"psysml:ed499477-fca6-4979-bffe-7845725436ef\" xlink:actuate=\"onRequest\" xlink:href=\"psysml:ed499477-fca6-4979-bffe-7845725436ef\" xlink:show=\"new\" xlink:title=\"psysml:ed499477-fca6-4979-bffe-7845725436ef\" xlink:type=\"simple\"><path d=\"M65,100.44 C65,115.87 65,133.47 65,146.98 \" fill=\"none\" id=\"E4&lt;-E5\" style=\"stroke: #383838; stroke-width: 1.0;\"/><polygon fill=\"#383838\" points=\"65,87.06,61,93.06,65,99.06,69,93.06,65,87.06\" style=\"stroke: #383838; stroke-width: 1.0;\"/></a><!--MD5=[4dc2329b05fbab771afd65ef9cdd9cb0]\n",
       "@startuml\r\n",
       "top to bottom direction\r\n",
       "skinparam monochrome true\r\n",
       "skinparam classbackgroundcolor white\r\n",
       "skinparam shadowing false\r\n",
       "skinparam wrapWidth 300\r\n",
       "hide circle\r\n",
       "\r\n",
       "package \"Q\" as E1  [[psysml:ef9b7028-f6bf-447e-864f-9dad0bdce88c ]]  {\r\n",
       "comp usage \"f\" as E2  <<(T,blue)part>> [[psysml:4239e231-7164-4547-a8e1-ba39f4362efb ]] {\r\n",
       "}\r\n",
       "comp usage \"a\" as E3  <<(T,blue)part>> [[psysml:51ecbb7c-6db5-4069-ae0d-bb60efd47f9e ]] {\r\n",
       "}\r\n",
       "comp def \"C\" as E4  <<(T,blue)part def>> [[psysml:5da665e6-dcc7-4321-8fa9-423e89fca153 ]] {\r\n",
       "}\r\n",
       "comp usage \"g\" as E5  <<(T,blue)part>> [[psysml:ed499477-fca6-4979-bffe-7845725436ef ]] {\r\n",
       "}\r\n",
       "E2 *- - E3 [[psysml:51ecbb7c-6db5-4069-ae0d-bb60efd47f9e ]] \r\n",
       "E4 *- - E5 [[psysml:ed499477-fca6-4979-bffe-7845725436ef ]] \r\n",
       "}\r\n",
       "@enduml\r\n",
       "\n",
       "PlantUML version 1.2020.13(Sat Jun 13 12:26:38 UTC 2020)\n",
       "(EPL source distribution)\n",
       "Java Runtime: OpenJDK Runtime Environment\n",
       "JVM: OpenJDK 64-Bit Server VM\n",
       "Default Encoding: UTF-8\n",
       "Language: en\n",
       "Country: null\n",
       "--></g></svg>"
      ]
     },
     "execution_count": 45,
     "metadata": {},
     "output_type": "execute_result"
    }
   ],
   "source": [
    "%viz --style=\"TB\" --view=\"Tree\" \"Q\""
   ]
  },
  {
   "cell_type": "code",
   "execution_count": 46,
   "id": "rotary-issue",
   "metadata": {
    "execution": {
     "iopub.execute_input": "2021-03-25T09:26:29.865841Z",
     "iopub.status.busy": "2021-03-25T09:26:29.865268Z",
     "iopub.status.idle": "2021-03-25T09:26:29.872257Z",
     "shell.execute_reply": "2021-03-25T09:26:29.871908Z"
    }
   },
   "outputs": [
    {
     "data": {
      "image/svg+xml": [
       "<?xml version=\"1.0\" encoding=\"UTF-8\" standalone=\"no\"?><svg xmlns=\"http://www.w3.org/2000/svg\" xmlns:xlink=\"http://www.w3.org/1999/xlink\" contentScriptType=\"application/ecmascript\" contentStyleType=\"text/css\" height=\"12px\" preserveAspectRatio=\"none\" style=\"width:12px;height:12px;\" version=\"1.1\" viewBox=\"0 0 12 12\" width=\"12px\" zoomAndPan=\"magnify\"><defs/><g><!--MD5=[f4ee21bc66e489b5061b7c3e9601fdef]\n",
       "@startuml\r\n",
       "top to bottom direction\r\n",
       "skinparam monochrome true\r\n",
       "skinparam classbackgroundcolor white\r\n",
       "skinparam shadowing false\r\n",
       "skinparam wrapWidth 300\r\n",
       "hide circle\r\n",
       "\r\n",
       "@enduml\r\n",
       "\n",
       "PlantUML version 1.2020.13(Sat Jun 13 12:26:38 UTC 2020)\n",
       "(EPL source distribution)\n",
       "Java Runtime: OpenJDK Runtime Environment\n",
       "JVM: OpenJDK 64-Bit Server VM\n",
       "Default Encoding: UTF-8\n",
       "Language: en\n",
       "Country: null\n",
       "--></g></svg>"
      ]
     },
     "execution_count": 46,
     "metadata": {},
     "output_type": "execute_result"
    }
   ],
   "source": [
    "%viz --style=\"TB\" --view=\"State\" \"Q\""
   ]
  },
  {
   "cell_type": "code",
   "execution_count": 47,
   "id": "existing-sociology",
   "metadata": {
    "execution": {
     "iopub.execute_input": "2021-03-25T09:26:29.923699Z",
     "iopub.status.busy": "2021-03-25T09:26:29.923184Z",
     "iopub.status.idle": "2021-03-25T09:26:29.988041Z",
     "shell.execute_reply": "2021-03-25T09:26:29.986790Z"
    }
   },
   "outputs": [
    {
     "data": {
      "image/svg+xml": [
       "<?xml version=\"1.0\" encoding=\"UTF-8\" standalone=\"no\"?><svg xmlns=\"http://www.w3.org/2000/svg\" xmlns:xlink=\"http://www.w3.org/1999/xlink\" contentScriptType=\"application/ecmascript\" contentStyleType=\"text/css\" height=\"192px\" preserveAspectRatio=\"none\" style=\"width:279px;height:192px;\" version=\"1.1\" viewBox=\"0 0 279 192\" width=\"279px\" zoomAndPan=\"magnify\"><defs/><g><!--MD5=[fbc87193dbaf4d95561dea2c320d4a47]\n",
       "cluster E1--><a href=\"psysml:ef9b7028-f6bf-447e-864f-9dad0bdce88c\" target=\"_top\" title=\"psysml:ef9b7028-f6bf-447e-864f-9dad0bdce88c\" xlink:actuate=\"onRequest\" xlink:href=\"psysml:ef9b7028-f6bf-447e-864f-9dad0bdce88c\" xlink:show=\"new\" xlink:title=\"psysml:ef9b7028-f6bf-447e-864f-9dad0bdce88c\" xlink:type=\"simple\"><polygon fill=\"#FFFFFF\" points=\"16,6,34,6,41,28.2969,257,28.2969,257,180,16,180,16,6\" style=\"stroke: #000000; stroke-width: 1.5;\"/><line style=\"stroke: #000000; stroke-width: 1.5;\" x1=\"16\" x2=\"41\" y1=\"28.2969\" y2=\"28.2969\"/><text fill=\"#000000\" font-family=\"sans-serif\" font-size=\"14\" font-weight=\"bold\" lengthAdjust=\"spacingAndGlyphs\" textLength=\"12\" x=\"20\" y=\"20.9951\">Q</text></a><!--MD5=[e4f7fae6ed58524ba242bb0b0d3be6b7]\n",
       "cluster E2--><a href=\"psysml:4239e231-7164-4547-a8e1-ba39f4362efb\" target=\"_top\" title=\"psysml:4239e231-7164-4547-a8e1-ba39f4362efb\" xlink:actuate=\"onRequest\" xlink:href=\"psysml:4239e231-7164-4547-a8e1-ba39f4362efb\" xlink:show=\"new\" xlink:title=\"psysml:4239e231-7164-4547-a8e1-ba39f4362efb\" xlink:type=\"simple\"><rect fill=\"#FFFFFF\" height=\"91\" id=\"E2\" rx=\"10\" ry=\"10\" style=\"stroke: #383838; stroke-width: 1.5;\" width=\"82\" x=\"151\" y=\"65\"/><rect fill=\"#F8F8F8\" height=\"23.9688\" rx=\"10\" ry=\"10\" style=\"stroke: #F8F8F8; stroke-width: 1.5;\" width=\"82\" x=\"151\" y=\"65\"/><rect fill=\"#F8F8F8\" height=\"10\" style=\"stroke: #F8F8F8; stroke-width: 1.5;\" width=\"82\" x=\"151\" y=\"78.9688\"/><rect fill=\"none\" height=\"91\" id=\"E2\" rx=\"10\" ry=\"10\" style=\"stroke: #383838; stroke-width: 1.5;\" width=\"82\" x=\"151\" y=\"65\"/><text fill=\"#000000\" font-family=\"sans-serif\" font-size=\"12\" lengthAdjust=\"spacingAndGlyphs\" textLength=\"4\" x=\"190\" y=\"81.1387\">f</text><line style=\"stroke: #383838; stroke-width: 1.0;\" x1=\"151\" x2=\"233\" y1=\"88.9688\" y2=\"88.9688\"/></a><!--MD5=[f6df4d0ebaf0b5dfb2ced0ae5af7c670]\n",
       "cluster E4--><a href=\"psysml:5da665e6-dcc7-4321-8fa9-423e89fca153\" target=\"_top\" title=\"psysml:5da665e6-dcc7-4321-8fa9-423e89fca153\" xlink:actuate=\"onRequest\" xlink:href=\"psysml:5da665e6-dcc7-4321-8fa9-423e89fca153\" xlink:show=\"new\" xlink:title=\"psysml:5da665e6-dcc7-4321-8fa9-423e89fca153\" xlink:type=\"simple\"><rect fill=\"#FFFFFF\" height=\"107\" id=\"E4\" style=\"stroke: #383838; stroke-width: 1.5;\" width=\"87\" x=\"40\" y=\"49\"/><rect fill=\"#F8F8F8\" height=\"37.9375\" style=\"stroke: #383838; stroke-width: 1.5;\" width=\"87\" x=\"40\" y=\"49\"/><text fill=\"#000000\" font-family=\"sans-serif\" font-size=\"12\" font-style=\"italic\" lengthAdjust=\"spacingAndGlyphs\" textLength=\"64\" x=\"51.5\" y=\"65.1387\">«part def»</text><text fill=\"#000000\" font-family=\"sans-serif\" font-size=\"12\" lengthAdjust=\"spacingAndGlyphs\" textLength=\"8\" x=\"79.5\" y=\"79.1074\">C</text></a><g id=\"E1.E2.E3\"><a href=\"psysml:51ecbb7c-6db5-4069-ae0d-bb60efd47f9e\" target=\"_top\" title=\"psysml:51ecbb7c-6db5-4069-ae0d-bb60efd47f9e\" xlink:actuate=\"onRequest\" xlink:href=\"psysml:51ecbb7c-6db5-4069-ae0d-bb60efd47f9e\" xlink:show=\"new\" xlink:title=\"psysml:51ecbb7c-6db5-4069-ae0d-bb60efd47f9e\" xlink:type=\"simple\"><rect fill=\"#FFFFFF\" height=\"40\" id=\"E3\" rx=\"10\" ry=\"10\" style=\"stroke: #383838; stroke-width: 1.5;\" width=\"50\" x=\"167\" y=\"100\"/><rect fill=\"#F8F8F8\" height=\"23.9688\" rx=\"10\" ry=\"10\" style=\"stroke: #F8F8F8; stroke-width: 1.5;\" width=\"50\" x=\"167\" y=\"100\"/><rect fill=\"#F8F8F8\" height=\"10\" style=\"stroke: #F8F8F8; stroke-width: 1.5;\" width=\"50\" x=\"167\" y=\"113.9688\"/><rect fill=\"none\" height=\"40\" id=\"E3\" rx=\"10\" ry=\"10\" style=\"stroke: #383838; stroke-width: 1.5;\" width=\"50\" x=\"167\" y=\"100\"/><text fill=\"#000000\" font-family=\"sans-serif\" font-size=\"12\" lengthAdjust=\"spacingAndGlyphs\" textLength=\"8\" x=\"188\" y=\"116.1387\">a</text></a></g><g id=\"E1.E4.E5\"><a href=\"psysml:ed499477-fca6-4979-bffe-7845725436ef\" target=\"_top\" title=\"psysml:ed499477-fca6-4979-bffe-7845725436ef\" xlink:actuate=\"onRequest\" xlink:href=\"psysml:ed499477-fca6-4979-bffe-7845725436ef\" xlink:show=\"new\" xlink:title=\"psysml:ed499477-fca6-4979-bffe-7845725436ef\" xlink:type=\"simple\"><rect fill=\"#FFFFFF\" height=\"40\" id=\"E5\" rx=\"10\" ry=\"10\" style=\"stroke: #383838; stroke-width: 1.5;\" width=\"50\" x=\"58\" y=\"100\"/><rect fill=\"#F8F8F8\" height=\"23.9688\" rx=\"10\" ry=\"10\" style=\"stroke: #F8F8F8; stroke-width: 1.5;\" width=\"50\" x=\"58\" y=\"100\"/><rect fill=\"#F8F8F8\" height=\"10\" style=\"stroke: #F8F8F8; stroke-width: 1.5;\" width=\"50\" x=\"58\" y=\"113.9688\"/><rect fill=\"none\" height=\"40\" id=\"E5\" rx=\"10\" ry=\"10\" style=\"stroke: #383838; stroke-width: 1.5;\" width=\"50\" x=\"58\" y=\"100\"/><text fill=\"#000000\" font-family=\"sans-serif\" font-size=\"12\" lengthAdjust=\"spacingAndGlyphs\" textLength=\"8\" x=\"79\" y=\"116.1387\">g</text></a></g><!--MD5=[0b6c17f6677dfb922b500ff21940a5c9]\n",
       "@startuml\r\n",
       "skinparam ranksep 8\r\n",
       "skinparam rectangle {\r\n",
       " backgroundColor<<block>> LightGreen\r\n",
       "}\r\n",
       "top to bottom direction\r\n",
       "skinparam monochrome true\r\n",
       "skinparam classbackgroundcolor white\r\n",
       "skinparam shadowing false\r\n",
       "skinparam wrapWidth 300\r\n",
       "hide circle\r\n",
       "\r\n",
       "package \"Q\" as E1  [[psysml:ef9b7028-f6bf-447e-864f-9dad0bdce88c ]]  {\r\n",
       "rec usage \"f\" as E2  [[psysml:4239e231-7164-4547-a8e1-ba39f4362efb ]] {\r\n",
       "rec usage \"a\" as E3  [[psysml:51ecbb7c-6db5-4069-ae0d-bb60efd47f9e ]] {\r\n",
       "}\r\n",
       "}\r\n",
       "rec def \"C\" as E4  <<(T,blue)part def>> [[psysml:5da665e6-dcc7-4321-8fa9-423e89fca153 ]] {\r\n",
       "rec usage \"g\" as E5  [[psysml:ed499477-fca6-4979-bffe-7845725436ef ]] {\r\n",
       "}\r\n",
       "}\r\n",
       "}\r\n",
       "@enduml\r\n",
       "\n",
       "PlantUML version 1.2020.13(Sat Jun 13 12:26:38 UTC 2020)\n",
       "(EPL source distribution)\n",
       "Java Runtime: OpenJDK Runtime Environment\n",
       "JVM: OpenJDK 64-Bit Server VM\n",
       "Default Encoding: UTF-8\n",
       "Language: en\n",
       "Country: null\n",
       "--></g></svg>"
      ]
     },
     "execution_count": 47,
     "metadata": {},
     "output_type": "execute_result"
    }
   ],
   "source": [
    "%viz --style=\"TB\" --view=\"Interconnection\" \"Q\""
   ]
  },
  {
   "cell_type": "code",
   "execution_count": 48,
   "id": "extreme-folder",
   "metadata": {
    "execution": {
     "iopub.execute_input": "2021-03-25T09:26:30.039094Z",
     "iopub.status.busy": "2021-03-25T09:26:30.038713Z",
     "iopub.status.idle": "2021-03-25T09:26:30.045630Z",
     "shell.execute_reply": "2021-03-25T09:26:30.045189Z"
    }
   },
   "outputs": [
    {
     "data": {
      "image/svg+xml": [
       "<?xml version=\"1.0\" encoding=\"UTF-8\" standalone=\"no\"?><svg xmlns=\"http://www.w3.org/2000/svg\" xmlns:xlink=\"http://www.w3.org/1999/xlink\" contentScriptType=\"application/ecmascript\" contentStyleType=\"text/css\" height=\"12px\" preserveAspectRatio=\"none\" style=\"width:12px;height:12px;\" version=\"1.1\" viewBox=\"0 0 12 12\" width=\"12px\" zoomAndPan=\"magnify\"><defs/><g><!--MD5=[06afc254b03ac5e9d9fb7773b07d0800]\n",
       "@startuml\r\n",
       "skinparam ranksep 8\r\n",
       "top to bottom direction\r\n",
       "skinparam monochrome true\r\n",
       "skinparam classbackgroundcolor white\r\n",
       "skinparam shadowing false\r\n",
       "skinparam wrapWidth 300\r\n",
       "hide circle\r\n",
       "\r\n",
       "@enduml\r\n",
       "\n",
       "PlantUML version 1.2020.13(Sat Jun 13 12:26:38 UTC 2020)\n",
       "(EPL source distribution)\n",
       "Java Runtime: OpenJDK Runtime Environment\n",
       "JVM: OpenJDK 64-Bit Server VM\n",
       "Default Encoding: UTF-8\n",
       "Language: en\n",
       "Country: null\n",
       "--></g></svg>"
      ]
     },
     "execution_count": 48,
     "metadata": {},
     "output_type": "execute_result"
    }
   ],
   "source": [
    "%viz --style=\"TB\" --view=\"Action\" \"Q\""
   ]
  },
  {
   "cell_type": "code",
   "execution_count": 49,
   "id": "banner-marina",
   "metadata": {
    "execution": {
     "iopub.execute_input": "2021-03-25T09:26:30.096692Z",
     "iopub.status.busy": "2021-03-25T09:26:30.096071Z",
     "iopub.status.idle": "2021-03-25T09:26:30.145341Z",
     "shell.execute_reply": "2021-03-25T09:26:30.145013Z"
    }
   },
   "outputs": [
    {
     "data": {
      "image/svg+xml": [
       "<?xml version=\"1.0\" encoding=\"UTF-8\" standalone=\"no\"?><svg xmlns=\"http://www.w3.org/2000/svg\" xmlns:xlink=\"http://www.w3.org/1999/xlink\" contentScriptType=\"application/ecmascript\" contentStyleType=\"text/css\" height=\"221px\" preserveAspectRatio=\"none\" style=\"width:213px;height:221px;\" version=\"1.1\" viewBox=\"0 0 213 221\" width=\"213px\" zoomAndPan=\"magnify\"><defs/><g><!--MD5=[fbc87193dbaf4d95561dea2c320d4a47]\n",
       "cluster E1--><a href=\"psysml:ef9b7028-f6bf-447e-864f-9dad0bdce88c\" target=\"_top\" title=\"psysml:ef9b7028-f6bf-447e-864f-9dad0bdce88c\" xlink:actuate=\"onRequest\" xlink:href=\"psysml:ef9b7028-f6bf-447e-864f-9dad0bdce88c\" xlink:show=\"new\" xlink:title=\"psysml:ef9b7028-f6bf-447e-864f-9dad0bdce88c\" xlink:type=\"simple\"><polygon fill=\"#FFFFFF\" points=\"16,6,34,6,41,28.2969,191,28.2969,191,209,16,209,16,6\" style=\"stroke: #000000; stroke-width: 1.5;\"/><line style=\"stroke: #000000; stroke-width: 1.5;\" x1=\"16\" x2=\"41\" y1=\"28.2969\" y2=\"28.2969\"/><text fill=\"#000000\" font-family=\"sans-serif\" font-size=\"14\" font-weight=\"bold\" lengthAdjust=\"spacingAndGlyphs\" textLength=\"12\" x=\"20\" y=\"20.9951\">Q</text></a><!--MD5=[b4997ac47864f28c2f74865a473b2911]\n",
       "class E2--><a href=\"psysml:4239e231-7164-4547-a8e1-ba39f4362efb\" target=\"_top\" title=\"psysml:4239e231-7164-4547-a8e1-ba39f4362efb\" xlink:actuate=\"onRequest\" xlink:href=\"psysml:4239e231-7164-4547-a8e1-ba39f4362efb\" xlink:show=\"new\" xlink:title=\"psysml:4239e231-7164-4547-a8e1-ba39f4362efb\" xlink:type=\"simple\"><rect fill=\"#FFFFFF\" height=\"45.9375\" id=\"E2\" rx=\"10\" ry=\"10\" style=\"stroke: #383838; stroke-width: 1.5;\" width=\"42\" x=\"133\" y=\"41\"/><text fill=\"#000000\" font-family=\"sans-serif\" font-size=\"12\" font-style=\"italic\" lengthAdjust=\"spacingAndGlyphs\" textLength=\"40\" x=\"134\" y=\"57.1387\">«part»</text><text fill=\"#000000\" font-family=\"sans-serif\" font-size=\"12\" lengthAdjust=\"spacingAndGlyphs\" textLength=\"4\" x=\"152\" y=\"71.1074\">f</text><line style=\"stroke: #383838; stroke-width: 1.5;\" x1=\"134\" x2=\"174\" y1=\"78.9375\" y2=\"78.9375\"/></a><!--MD5=[09b614a08d8cba4a07c9adeb5e0fee81]\n",
       "class E3--><a href=\"psysml:51ecbb7c-6db5-4069-ae0d-bb60efd47f9e\" target=\"_top\" title=\"psysml:51ecbb7c-6db5-4069-ae0d-bb60efd47f9e\" xlink:actuate=\"onRequest\" xlink:href=\"psysml:51ecbb7c-6db5-4069-ae0d-bb60efd47f9e\" xlink:show=\"new\" xlink:title=\"psysml:51ecbb7c-6db5-4069-ae0d-bb60efd47f9e\" xlink:type=\"simple\"><rect fill=\"#FFFFFF\" height=\"45.9375\" id=\"E3\" rx=\"10\" ry=\"10\" style=\"stroke: #383838; stroke-width: 1.5;\" width=\"42\" x=\"133\" y=\"147\"/><text fill=\"#000000\" font-family=\"sans-serif\" font-size=\"12\" font-style=\"italic\" lengthAdjust=\"spacingAndGlyphs\" textLength=\"40\" x=\"134\" y=\"163.1387\">«part»</text><text fill=\"#000000\" font-family=\"sans-serif\" font-size=\"12\" lengthAdjust=\"spacingAndGlyphs\" textLength=\"8\" x=\"150\" y=\"177.1074\">a</text><line style=\"stroke: #383838; stroke-width: 1.5;\" x1=\"134\" x2=\"174\" y1=\"184.9375\" y2=\"184.9375\"/></a><!--MD5=[ebbe1d658d1005bcc118a6aa81145e00]\n",
       "class E4--><a href=\"psysml:5da665e6-dcc7-4321-8fa9-423e89fca153\" target=\"_top\" title=\"psysml:5da665e6-dcc7-4321-8fa9-423e89fca153\" xlink:actuate=\"onRequest\" xlink:href=\"psysml:5da665e6-dcc7-4321-8fa9-423e89fca153\" xlink:show=\"new\" xlink:title=\"psysml:5da665e6-dcc7-4321-8fa9-423e89fca153\" xlink:type=\"simple\"><rect fill=\"#FFFFFF\" height=\"45.9375\" id=\"E4\" style=\"stroke: #383838; stroke-width: 1.5;\" width=\"66\" x=\"32\" y=\"41\"/><text fill=\"#000000\" font-family=\"sans-serif\" font-size=\"12\" font-style=\"italic\" lengthAdjust=\"spacingAndGlyphs\" textLength=\"64\" x=\"33\" y=\"57.1387\">«part def»</text><text fill=\"#000000\" font-family=\"sans-serif\" font-size=\"12\" lengthAdjust=\"spacingAndGlyphs\" textLength=\"8\" x=\"61\" y=\"71.1074\">C</text><line style=\"stroke: #383838; stroke-width: 1.5;\" x1=\"33\" x2=\"97\" y1=\"78.9375\" y2=\"78.9375\"/></a><!--MD5=[270fce915f116d4de14055a7c1d9a0f3]\n",
       "class E5--><a href=\"psysml:ed499477-fca6-4979-bffe-7845725436ef\" target=\"_top\" title=\"psysml:ed499477-fca6-4979-bffe-7845725436ef\" xlink:actuate=\"onRequest\" xlink:href=\"psysml:ed499477-fca6-4979-bffe-7845725436ef\" xlink:show=\"new\" xlink:title=\"psysml:ed499477-fca6-4979-bffe-7845725436ef\" xlink:type=\"simple\"><rect fill=\"#FFFFFF\" height=\"45.9375\" id=\"E5\" rx=\"10\" ry=\"10\" style=\"stroke: #383838; stroke-width: 1.5;\" width=\"42\" x=\"44\" y=\"147\"/><text fill=\"#000000\" font-family=\"sans-serif\" font-size=\"12\" font-style=\"italic\" lengthAdjust=\"spacingAndGlyphs\" textLength=\"40\" x=\"45\" y=\"163.1387\">«part»</text><text fill=\"#000000\" font-family=\"sans-serif\" font-size=\"12\" lengthAdjust=\"spacingAndGlyphs\" textLength=\"8\" x=\"61\" y=\"177.1074\">g</text><line style=\"stroke: #383838; stroke-width: 1.5;\" x1=\"45\" x2=\"85\" y1=\"184.9375\" y2=\"184.9375\"/></a><!--MD5=[209b3feb70ccb6233bfe1053d122c12c]\n",
       "reverse link E2 to E3--><a href=\"psysml:51ecbb7c-6db5-4069-ae0d-bb60efd47f9e\" target=\"_top\" title=\"psysml:51ecbb7c-6db5-4069-ae0d-bb60efd47f9e\" xlink:actuate=\"onRequest\" xlink:href=\"psysml:51ecbb7c-6db5-4069-ae0d-bb60efd47f9e\" xlink:show=\"new\" xlink:title=\"psysml:51ecbb7c-6db5-4069-ae0d-bb60efd47f9e\" xlink:type=\"simple\"><path d=\"M154,100.44 C154,115.87 154,133.47 154,146.98 \" fill=\"none\" id=\"E2&lt;-E3\" style=\"stroke: #383838; stroke-width: 1.0;\"/><polygon fill=\"#383838\" points=\"154,87.06,150,93.06,154,99.06,158,93.06,154,87.06\" style=\"stroke: #383838; stroke-width: 1.0;\"/></a><!--MD5=[62aa6af11e70f752912c1cb0466f24f7]\n",
       "reverse link E4 to E5--><a href=\"psysml:ed499477-fca6-4979-bffe-7845725436ef\" target=\"_top\" title=\"psysml:ed499477-fca6-4979-bffe-7845725436ef\" xlink:actuate=\"onRequest\" xlink:href=\"psysml:ed499477-fca6-4979-bffe-7845725436ef\" xlink:show=\"new\" xlink:title=\"psysml:ed499477-fca6-4979-bffe-7845725436ef\" xlink:type=\"simple\"><path d=\"M65,100.44 C65,115.87 65,133.47 65,146.98 \" fill=\"none\" id=\"E4&lt;-E5\" style=\"stroke: #383838; stroke-width: 1.0;\"/><polygon fill=\"#383838\" points=\"65,87.06,61,93.06,65,99.06,69,93.06,65,87.06\" style=\"stroke: #383838; stroke-width: 1.0;\"/></a><!--MD5=[4dc2329b05fbab771afd65ef9cdd9cb0]\n",
       "@startuml\r\n",
       "top to bottom direction\r\n",
       "skinparam monochrome true\r\n",
       "skinparam classbackgroundcolor white\r\n",
       "skinparam shadowing false\r\n",
       "skinparam wrapWidth 300\r\n",
       "hide circle\r\n",
       "\r\n",
       "package \"Q\" as E1  [[psysml:ef9b7028-f6bf-447e-864f-9dad0bdce88c ]]  {\r\n",
       "comp usage \"f\" as E2  <<(T,blue)part>> [[psysml:4239e231-7164-4547-a8e1-ba39f4362efb ]] {\r\n",
       "}\r\n",
       "comp usage \"a\" as E3  <<(T,blue)part>> [[psysml:51ecbb7c-6db5-4069-ae0d-bb60efd47f9e ]] {\r\n",
       "}\r\n",
       "comp def \"C\" as E4  <<(T,blue)part def>> [[psysml:5da665e6-dcc7-4321-8fa9-423e89fca153 ]] {\r\n",
       "}\r\n",
       "comp usage \"g\" as E5  <<(T,blue)part>> [[psysml:ed499477-fca6-4979-bffe-7845725436ef ]] {\r\n",
       "}\r\n",
       "E2 *- - E3 [[psysml:51ecbb7c-6db5-4069-ae0d-bb60efd47f9e ]] \r\n",
       "E4 *- - E5 [[psysml:ed499477-fca6-4979-bffe-7845725436ef ]] \r\n",
       "}\r\n",
       "@enduml\r\n",
       "\n",
       "PlantUML version 1.2020.13(Sat Jun 13 12:26:38 UTC 2020)\n",
       "(EPL source distribution)\n",
       "Java Runtime: OpenJDK Runtime Environment\n",
       "JVM: OpenJDK 64-Bit Server VM\n",
       "Default Encoding: UTF-8\n",
       "Language: en\n",
       "Country: null\n",
       "--></g></svg>"
      ]
     },
     "execution_count": 49,
     "metadata": {},
     "output_type": "execute_result"
    }
   ],
   "source": [
    "%viz --style=\"TB\" --view=\"Sequence\" \"Q\""
   ]
  },
  {
   "cell_type": "code",
   "execution_count": 50,
   "id": "stable-sight",
   "metadata": {
    "execution": {
     "iopub.execute_input": "2021-03-25T09:26:30.196414Z",
     "iopub.status.busy": "2021-03-25T09:26:30.195896Z",
     "iopub.status.idle": "2021-03-25T09:26:30.244794Z",
     "shell.execute_reply": "2021-03-25T09:26:30.243284Z"
    }
   },
   "outputs": [
    {
     "data": {
      "image/svg+xml": [
       "<?xml version=\"1.0\" encoding=\"UTF-8\" standalone=\"no\"?><svg xmlns=\"http://www.w3.org/2000/svg\" xmlns:xlink=\"http://www.w3.org/1999/xlink\" contentScriptType=\"application/ecmascript\" contentStyleType=\"text/css\" height=\"221px\" preserveAspectRatio=\"none\" style=\"width:213px;height:221px;\" version=\"1.1\" viewBox=\"0 0 213 221\" width=\"213px\" zoomAndPan=\"magnify\"><defs/><g><!--MD5=[fbc87193dbaf4d95561dea2c320d4a47]\n",
       "cluster E1--><a href=\"psysml:ef9b7028-f6bf-447e-864f-9dad0bdce88c\" target=\"_top\" title=\"psysml:ef9b7028-f6bf-447e-864f-9dad0bdce88c\" xlink:actuate=\"onRequest\" xlink:href=\"psysml:ef9b7028-f6bf-447e-864f-9dad0bdce88c\" xlink:show=\"new\" xlink:title=\"psysml:ef9b7028-f6bf-447e-864f-9dad0bdce88c\" xlink:type=\"simple\"><polygon fill=\"#FFFFFF\" points=\"16,6,34,6,41,28.2969,191,28.2969,191,209,16,209,16,6\" style=\"stroke: #000000; stroke-width: 1.5;\"/><line style=\"stroke: #000000; stroke-width: 1.5;\" x1=\"16\" x2=\"41\" y1=\"28.2969\" y2=\"28.2969\"/><text fill=\"#000000\" font-family=\"sans-serif\" font-size=\"14\" font-weight=\"bold\" lengthAdjust=\"spacingAndGlyphs\" textLength=\"12\" x=\"20\" y=\"20.9951\">Q</text></a><!--MD5=[b4997ac47864f28c2f74865a473b2911]\n",
       "class E2--><a href=\"psysml:4239e231-7164-4547-a8e1-ba39f4362efb\" target=\"_top\" title=\"psysml:4239e231-7164-4547-a8e1-ba39f4362efb\" xlink:actuate=\"onRequest\" xlink:href=\"psysml:4239e231-7164-4547-a8e1-ba39f4362efb\" xlink:show=\"new\" xlink:title=\"psysml:4239e231-7164-4547-a8e1-ba39f4362efb\" xlink:type=\"simple\"><rect fill=\"#FFFFFF\" height=\"45.9375\" id=\"E2\" rx=\"10\" ry=\"10\" style=\"stroke: #383838; stroke-width: 1.5;\" width=\"42\" x=\"133\" y=\"41\"/><text fill=\"#000000\" font-family=\"sans-serif\" font-size=\"12\" font-style=\"italic\" lengthAdjust=\"spacingAndGlyphs\" textLength=\"40\" x=\"134\" y=\"57.1387\">«part»</text><text fill=\"#000000\" font-family=\"sans-serif\" font-size=\"12\" lengthAdjust=\"spacingAndGlyphs\" textLength=\"4\" x=\"152\" y=\"71.1074\">f</text><line style=\"stroke: #383838; stroke-width: 1.5;\" x1=\"134\" x2=\"174\" y1=\"78.9375\" y2=\"78.9375\"/></a><!--MD5=[09b614a08d8cba4a07c9adeb5e0fee81]\n",
       "class E3--><a href=\"psysml:51ecbb7c-6db5-4069-ae0d-bb60efd47f9e\" target=\"_top\" title=\"psysml:51ecbb7c-6db5-4069-ae0d-bb60efd47f9e\" xlink:actuate=\"onRequest\" xlink:href=\"psysml:51ecbb7c-6db5-4069-ae0d-bb60efd47f9e\" xlink:show=\"new\" xlink:title=\"psysml:51ecbb7c-6db5-4069-ae0d-bb60efd47f9e\" xlink:type=\"simple\"><rect fill=\"#FFFFFF\" height=\"45.9375\" id=\"E3\" rx=\"10\" ry=\"10\" style=\"stroke: #383838; stroke-width: 1.5;\" width=\"42\" x=\"133\" y=\"147\"/><text fill=\"#000000\" font-family=\"sans-serif\" font-size=\"12\" font-style=\"italic\" lengthAdjust=\"spacingAndGlyphs\" textLength=\"40\" x=\"134\" y=\"163.1387\">«part»</text><text fill=\"#000000\" font-family=\"sans-serif\" font-size=\"12\" lengthAdjust=\"spacingAndGlyphs\" textLength=\"8\" x=\"150\" y=\"177.1074\">a</text><line style=\"stroke: #383838; stroke-width: 1.5;\" x1=\"134\" x2=\"174\" y1=\"184.9375\" y2=\"184.9375\"/></a><!--MD5=[ebbe1d658d1005bcc118a6aa81145e00]\n",
       "class E4--><a href=\"psysml:5da665e6-dcc7-4321-8fa9-423e89fca153\" target=\"_top\" title=\"psysml:5da665e6-dcc7-4321-8fa9-423e89fca153\" xlink:actuate=\"onRequest\" xlink:href=\"psysml:5da665e6-dcc7-4321-8fa9-423e89fca153\" xlink:show=\"new\" xlink:title=\"psysml:5da665e6-dcc7-4321-8fa9-423e89fca153\" xlink:type=\"simple\"><rect fill=\"#FFFFFF\" height=\"45.9375\" id=\"E4\" style=\"stroke: #383838; stroke-width: 1.5;\" width=\"66\" x=\"32\" y=\"41\"/><text fill=\"#000000\" font-family=\"sans-serif\" font-size=\"12\" font-style=\"italic\" lengthAdjust=\"spacingAndGlyphs\" textLength=\"64\" x=\"33\" y=\"57.1387\">«part def»</text><text fill=\"#000000\" font-family=\"sans-serif\" font-size=\"12\" lengthAdjust=\"spacingAndGlyphs\" textLength=\"8\" x=\"61\" y=\"71.1074\">C</text><line style=\"stroke: #383838; stroke-width: 1.5;\" x1=\"33\" x2=\"97\" y1=\"78.9375\" y2=\"78.9375\"/></a><!--MD5=[270fce915f116d4de14055a7c1d9a0f3]\n",
       "class E5--><a href=\"psysml:ed499477-fca6-4979-bffe-7845725436ef\" target=\"_top\" title=\"psysml:ed499477-fca6-4979-bffe-7845725436ef\" xlink:actuate=\"onRequest\" xlink:href=\"psysml:ed499477-fca6-4979-bffe-7845725436ef\" xlink:show=\"new\" xlink:title=\"psysml:ed499477-fca6-4979-bffe-7845725436ef\" xlink:type=\"simple\"><rect fill=\"#FFFFFF\" height=\"45.9375\" id=\"E5\" rx=\"10\" ry=\"10\" style=\"stroke: #383838; stroke-width: 1.5;\" width=\"42\" x=\"44\" y=\"147\"/><text fill=\"#000000\" font-family=\"sans-serif\" font-size=\"12\" font-style=\"italic\" lengthAdjust=\"spacingAndGlyphs\" textLength=\"40\" x=\"45\" y=\"163.1387\">«part»</text><text fill=\"#000000\" font-family=\"sans-serif\" font-size=\"12\" lengthAdjust=\"spacingAndGlyphs\" textLength=\"8\" x=\"61\" y=\"177.1074\">g</text><line style=\"stroke: #383838; stroke-width: 1.5;\" x1=\"45\" x2=\"85\" y1=\"184.9375\" y2=\"184.9375\"/></a><!--MD5=[209b3feb70ccb6233bfe1053d122c12c]\n",
       "reverse link E2 to E3--><a href=\"psysml:51ecbb7c-6db5-4069-ae0d-bb60efd47f9e\" target=\"_top\" title=\"psysml:51ecbb7c-6db5-4069-ae0d-bb60efd47f9e\" xlink:actuate=\"onRequest\" xlink:href=\"psysml:51ecbb7c-6db5-4069-ae0d-bb60efd47f9e\" xlink:show=\"new\" xlink:title=\"psysml:51ecbb7c-6db5-4069-ae0d-bb60efd47f9e\" xlink:type=\"simple\"><path d=\"M154,100.44 C154,115.87 154,133.47 154,146.98 \" fill=\"none\" id=\"E2&lt;-E3\" style=\"stroke: #383838; stroke-width: 1.0;\"/><polygon fill=\"#383838\" points=\"154,87.06,150,93.06,154,99.06,158,93.06,154,87.06\" style=\"stroke: #383838; stroke-width: 1.0;\"/></a><!--MD5=[62aa6af11e70f752912c1cb0466f24f7]\n",
       "reverse link E4 to E5--><a href=\"psysml:ed499477-fca6-4979-bffe-7845725436ef\" target=\"_top\" title=\"psysml:ed499477-fca6-4979-bffe-7845725436ef\" xlink:actuate=\"onRequest\" xlink:href=\"psysml:ed499477-fca6-4979-bffe-7845725436ef\" xlink:show=\"new\" xlink:title=\"psysml:ed499477-fca6-4979-bffe-7845725436ef\" xlink:type=\"simple\"><path d=\"M65,100.44 C65,115.87 65,133.47 65,146.98 \" fill=\"none\" id=\"E4&lt;-E5\" style=\"stroke: #383838; stroke-width: 1.0;\"/><polygon fill=\"#383838\" points=\"65,87.06,61,93.06,65,99.06,69,93.06,65,87.06\" style=\"stroke: #383838; stroke-width: 1.0;\"/></a><!--MD5=[4dc2329b05fbab771afd65ef9cdd9cb0]\n",
       "@startuml\r\n",
       "top to bottom direction\r\n",
       "skinparam monochrome true\r\n",
       "skinparam classbackgroundcolor white\r\n",
       "skinparam shadowing false\r\n",
       "skinparam wrapWidth 300\r\n",
       "hide circle\r\n",
       "\r\n",
       "package \"Q\" as E1  [[psysml:ef9b7028-f6bf-447e-864f-9dad0bdce88c ]]  {\r\n",
       "comp usage \"f\" as E2  <<(T,blue)part>> [[psysml:4239e231-7164-4547-a8e1-ba39f4362efb ]] {\r\n",
       "}\r\n",
       "comp usage \"a\" as E3  <<(T,blue)part>> [[psysml:51ecbb7c-6db5-4069-ae0d-bb60efd47f9e ]] {\r\n",
       "}\r\n",
       "comp def \"C\" as E4  <<(T,blue)part def>> [[psysml:5da665e6-dcc7-4321-8fa9-423e89fca153 ]] {\r\n",
       "}\r\n",
       "comp usage \"g\" as E5  <<(T,blue)part>> [[psysml:ed499477-fca6-4979-bffe-7845725436ef ]] {\r\n",
       "}\r\n",
       "E2 *- - E3 [[psysml:51ecbb7c-6db5-4069-ae0d-bb60efd47f9e ]] \r\n",
       "E4 *- - E5 [[psysml:ed499477-fca6-4979-bffe-7845725436ef ]] \r\n",
       "}\r\n",
       "@enduml\r\n",
       "\n",
       "PlantUML version 1.2020.13(Sat Jun 13 12:26:38 UTC 2020)\n",
       "(EPL source distribution)\n",
       "Java Runtime: OpenJDK Runtime Environment\n",
       "JVM: OpenJDK 64-Bit Server VM\n",
       "Default Encoding: UTF-8\n",
       "Language: en\n",
       "Country: null\n",
       "--></g></svg>"
      ]
     },
     "execution_count": 50,
     "metadata": {},
     "output_type": "execute_result"
    }
   ],
   "source": [
    "%viz --style=\"TB\" --view=\"MIXED\" \"Q\""
   ]
  },
  {
   "cell_type": "code",
   "execution_count": 51,
   "id": "boolean-purpose",
   "metadata": {
    "execution": {
     "iopub.execute_input": "2021-03-25T09:26:30.295525Z",
     "iopub.status.busy": "2021-03-25T09:26:30.294801Z",
     "iopub.status.idle": "2021-03-25T09:26:30.347191Z",
     "shell.execute_reply": "2021-03-25T09:26:30.345533Z"
    }
   },
   "outputs": [
    {
     "data": {
      "image/svg+xml": [
       "<?xml version=\"1.0\" encoding=\"UTF-8\" standalone=\"no\"?><svg xmlns=\"http://www.w3.org/2000/svg\" xmlns:xlink=\"http://www.w3.org/1999/xlink\" contentScriptType=\"application/ecmascript\" contentStyleType=\"text/css\" height=\"221px\" preserveAspectRatio=\"none\" style=\"width:213px;height:221px;\" version=\"1.1\" viewBox=\"0 0 213 221\" width=\"213px\" zoomAndPan=\"magnify\"><defs/><g><!--MD5=[fbc87193dbaf4d95561dea2c320d4a47]\n",
       "cluster E1--><a href=\"psysml:ef9b7028-f6bf-447e-864f-9dad0bdce88c\" target=\"_top\" title=\"psysml:ef9b7028-f6bf-447e-864f-9dad0bdce88c\" xlink:actuate=\"onRequest\" xlink:href=\"psysml:ef9b7028-f6bf-447e-864f-9dad0bdce88c\" xlink:show=\"new\" xlink:title=\"psysml:ef9b7028-f6bf-447e-864f-9dad0bdce88c\" xlink:type=\"simple\"><polygon fill=\"#FFFFFF\" points=\"16,6,34,6,41,28.2969,191,28.2969,191,209,16,209,16,6\" style=\"stroke: #000000; stroke-width: 1.5;\"/><line style=\"stroke: #000000; stroke-width: 1.5;\" x1=\"16\" x2=\"41\" y1=\"28.2969\" y2=\"28.2969\"/><text fill=\"#000000\" font-family=\"sans-serif\" font-size=\"14\" font-weight=\"bold\" lengthAdjust=\"spacingAndGlyphs\" textLength=\"12\" x=\"20\" y=\"20.9951\">Q</text></a><!--MD5=[b4997ac47864f28c2f74865a473b2911]\n",
       "class E2--><a href=\"psysml:4239e231-7164-4547-a8e1-ba39f4362efb\" target=\"_top\" title=\"psysml:4239e231-7164-4547-a8e1-ba39f4362efb\" xlink:actuate=\"onRequest\" xlink:href=\"psysml:4239e231-7164-4547-a8e1-ba39f4362efb\" xlink:show=\"new\" xlink:title=\"psysml:4239e231-7164-4547-a8e1-ba39f4362efb\" xlink:type=\"simple\"><rect fill=\"#FFFFFF\" height=\"45.9375\" id=\"E2\" rx=\"10\" ry=\"10\" style=\"stroke: #383838; stroke-width: 1.5;\" width=\"42\" x=\"133\" y=\"41\"/><text fill=\"#000000\" font-family=\"sans-serif\" font-size=\"12\" font-style=\"italic\" lengthAdjust=\"spacingAndGlyphs\" textLength=\"40\" x=\"134\" y=\"57.1387\">«part»</text><text fill=\"#000000\" font-family=\"sans-serif\" font-size=\"12\" lengthAdjust=\"spacingAndGlyphs\" textLength=\"4\" x=\"152\" y=\"71.1074\">f</text><line style=\"stroke: #383838; stroke-width: 1.5;\" x1=\"134\" x2=\"174\" y1=\"78.9375\" y2=\"78.9375\"/></a><!--MD5=[09b614a08d8cba4a07c9adeb5e0fee81]\n",
       "class E3--><a href=\"psysml:51ecbb7c-6db5-4069-ae0d-bb60efd47f9e\" target=\"_top\" title=\"psysml:51ecbb7c-6db5-4069-ae0d-bb60efd47f9e\" xlink:actuate=\"onRequest\" xlink:href=\"psysml:51ecbb7c-6db5-4069-ae0d-bb60efd47f9e\" xlink:show=\"new\" xlink:title=\"psysml:51ecbb7c-6db5-4069-ae0d-bb60efd47f9e\" xlink:type=\"simple\"><rect fill=\"#FFFFFF\" height=\"45.9375\" id=\"E3\" rx=\"10\" ry=\"10\" style=\"stroke: #383838; stroke-width: 1.5;\" width=\"42\" x=\"133\" y=\"147\"/><text fill=\"#000000\" font-family=\"sans-serif\" font-size=\"12\" font-style=\"italic\" lengthAdjust=\"spacingAndGlyphs\" textLength=\"40\" x=\"134\" y=\"163.1387\">«part»</text><text fill=\"#000000\" font-family=\"sans-serif\" font-size=\"12\" lengthAdjust=\"spacingAndGlyphs\" textLength=\"8\" x=\"150\" y=\"177.1074\">a</text><line style=\"stroke: #383838; stroke-width: 1.5;\" x1=\"134\" x2=\"174\" y1=\"184.9375\" y2=\"184.9375\"/></a><!--MD5=[ebbe1d658d1005bcc118a6aa81145e00]\n",
       "class E4--><a href=\"psysml:5da665e6-dcc7-4321-8fa9-423e89fca153\" target=\"_top\" title=\"psysml:5da665e6-dcc7-4321-8fa9-423e89fca153\" xlink:actuate=\"onRequest\" xlink:href=\"psysml:5da665e6-dcc7-4321-8fa9-423e89fca153\" xlink:show=\"new\" xlink:title=\"psysml:5da665e6-dcc7-4321-8fa9-423e89fca153\" xlink:type=\"simple\"><rect fill=\"#FFFFFF\" height=\"45.9375\" id=\"E4\" style=\"stroke: #383838; stroke-width: 1.5;\" width=\"66\" x=\"32\" y=\"41\"/><text fill=\"#000000\" font-family=\"sans-serif\" font-size=\"12\" font-style=\"italic\" lengthAdjust=\"spacingAndGlyphs\" textLength=\"64\" x=\"33\" y=\"57.1387\">«part def»</text><text fill=\"#000000\" font-family=\"sans-serif\" font-size=\"12\" lengthAdjust=\"spacingAndGlyphs\" textLength=\"8\" x=\"61\" y=\"71.1074\">C</text><line style=\"stroke: #383838; stroke-width: 1.5;\" x1=\"33\" x2=\"97\" y1=\"78.9375\" y2=\"78.9375\"/></a><!--MD5=[270fce915f116d4de14055a7c1d9a0f3]\n",
       "class E5--><a href=\"psysml:ed499477-fca6-4979-bffe-7845725436ef\" target=\"_top\" title=\"psysml:ed499477-fca6-4979-bffe-7845725436ef\" xlink:actuate=\"onRequest\" xlink:href=\"psysml:ed499477-fca6-4979-bffe-7845725436ef\" xlink:show=\"new\" xlink:title=\"psysml:ed499477-fca6-4979-bffe-7845725436ef\" xlink:type=\"simple\"><rect fill=\"#FFFFFF\" height=\"45.9375\" id=\"E5\" rx=\"10\" ry=\"10\" style=\"stroke: #383838; stroke-width: 1.5;\" width=\"42\" x=\"44\" y=\"147\"/><text fill=\"#000000\" font-family=\"sans-serif\" font-size=\"12\" font-style=\"italic\" lengthAdjust=\"spacingAndGlyphs\" textLength=\"40\" x=\"45\" y=\"163.1387\">«part»</text><text fill=\"#000000\" font-family=\"sans-serif\" font-size=\"12\" lengthAdjust=\"spacingAndGlyphs\" textLength=\"8\" x=\"61\" y=\"177.1074\">g</text><line style=\"stroke: #383838; stroke-width: 1.5;\" x1=\"45\" x2=\"85\" y1=\"184.9375\" y2=\"184.9375\"/></a><!--MD5=[209b3feb70ccb6233bfe1053d122c12c]\n",
       "reverse link E2 to E3--><a href=\"psysml:51ecbb7c-6db5-4069-ae0d-bb60efd47f9e\" target=\"_top\" title=\"psysml:51ecbb7c-6db5-4069-ae0d-bb60efd47f9e\" xlink:actuate=\"onRequest\" xlink:href=\"psysml:51ecbb7c-6db5-4069-ae0d-bb60efd47f9e\" xlink:show=\"new\" xlink:title=\"psysml:51ecbb7c-6db5-4069-ae0d-bb60efd47f9e\" xlink:type=\"simple\"><path d=\"M154,100 C154,100 154,146.68 154,146.68 \" fill=\"none\" id=\"E2&lt;-E3\" style=\"stroke: #383838; stroke-width: 1.0;\"/><polygon fill=\"#383838\" points=\"154,87,150,93,154,99,158,93,154,87\" style=\"stroke: #383838; stroke-width: 1.0;\"/></a><!--MD5=[62aa6af11e70f752912c1cb0466f24f7]\n",
       "reverse link E4 to E5--><a href=\"psysml:ed499477-fca6-4979-bffe-7845725436ef\" target=\"_top\" title=\"psysml:ed499477-fca6-4979-bffe-7845725436ef\" xlink:actuate=\"onRequest\" xlink:href=\"psysml:ed499477-fca6-4979-bffe-7845725436ef\" xlink:show=\"new\" xlink:title=\"psysml:ed499477-fca6-4979-bffe-7845725436ef\" xlink:type=\"simple\"><path d=\"M65,100 C65,100 65,146.68 65,146.68 \" fill=\"none\" id=\"E4&lt;-E5\" style=\"stroke: #383838; stroke-width: 1.0;\"/><polygon fill=\"#383838\" points=\"65,87,61,93,65,99,69,93,65,87\" style=\"stroke: #383838; stroke-width: 1.0;\"/></a><!--MD5=[93fc34fd31dc502d41767f6a5fd4f481]\n",
       "@startuml\r\n",
       "skinparam linetype ortho\r\n",
       "skinparam monochrome true\r\n",
       "skinparam classbackgroundcolor white\r\n",
       "skinparam shadowing false\r\n",
       "skinparam wrapWidth 300\r\n",
       "hide circle\r\n",
       "\r\n",
       "package \"Q\" as E1  [[psysml:ef9b7028-f6bf-447e-864f-9dad0bdce88c ]]  {\r\n",
       "comp usage \"f\" as E2  <<(T,blue)part>> [[psysml:4239e231-7164-4547-a8e1-ba39f4362efb ]] {\r\n",
       "}\r\n",
       "comp usage \"a\" as E3  <<(T,blue)part>> [[psysml:51ecbb7c-6db5-4069-ae0d-bb60efd47f9e ]] {\r\n",
       "}\r\n",
       "comp def \"C\" as E4  <<(T,blue)part def>> [[psysml:5da665e6-dcc7-4321-8fa9-423e89fca153 ]] {\r\n",
       "}\r\n",
       "comp usage \"g\" as E5  <<(T,blue)part>> [[psysml:ed499477-fca6-4979-bffe-7845725436ef ]] {\r\n",
       "}\r\n",
       "E2 *- - E3 [[psysml:51ecbb7c-6db5-4069-ae0d-bb60efd47f9e ]] \r\n",
       "E4 *- - E5 [[psysml:ed499477-fca6-4979-bffe-7845725436ef ]] \r\n",
       "}\r\n",
       "@enduml\r\n",
       "\n",
       "PlantUML version 1.2020.13(Sat Jun 13 12:26:38 UTC 2020)\n",
       "(EPL source distribution)\n",
       "Java Runtime: OpenJDK Runtime Environment\n",
       "JVM: OpenJDK 64-Bit Server VM\n",
       "Default Encoding: UTF-8\n",
       "Language: en\n",
       "Country: null\n",
       "--></g></svg>"
      ]
     },
     "execution_count": 51,
     "metadata": {},
     "output_type": "execute_result"
    }
   ],
   "source": [
    "%viz --style=\"ORTHOLINE\" --view=\"Default\" \"Q\""
   ]
  },
  {
   "cell_type": "code",
   "execution_count": 52,
   "id": "ecological-sitting",
   "metadata": {
    "execution": {
     "iopub.execute_input": "2021-03-25T09:26:30.397683Z",
     "iopub.status.busy": "2021-03-25T09:26:30.397004Z",
     "iopub.status.idle": "2021-03-25T09:26:30.451048Z",
     "shell.execute_reply": "2021-03-25T09:26:30.449062Z"
    }
   },
   "outputs": [
    {
     "data": {
      "image/svg+xml": [
       "<?xml version=\"1.0\" encoding=\"UTF-8\" standalone=\"no\"?><svg xmlns=\"http://www.w3.org/2000/svg\" xmlns:xlink=\"http://www.w3.org/1999/xlink\" contentScriptType=\"application/ecmascript\" contentStyleType=\"text/css\" height=\"221px\" preserveAspectRatio=\"none\" style=\"width:213px;height:221px;\" version=\"1.1\" viewBox=\"0 0 213 221\" width=\"213px\" zoomAndPan=\"magnify\"><defs/><g><!--MD5=[fbc87193dbaf4d95561dea2c320d4a47]\n",
       "cluster E1--><a href=\"psysml:ef9b7028-f6bf-447e-864f-9dad0bdce88c\" target=\"_top\" title=\"psysml:ef9b7028-f6bf-447e-864f-9dad0bdce88c\" xlink:actuate=\"onRequest\" xlink:href=\"psysml:ef9b7028-f6bf-447e-864f-9dad0bdce88c\" xlink:show=\"new\" xlink:title=\"psysml:ef9b7028-f6bf-447e-864f-9dad0bdce88c\" xlink:type=\"simple\"><polygon fill=\"#FFFFFF\" points=\"16,6,34,6,41,28.2969,191,28.2969,191,209,16,209,16,6\" style=\"stroke: #000000; stroke-width: 1.5;\"/><line style=\"stroke: #000000; stroke-width: 1.5;\" x1=\"16\" x2=\"41\" y1=\"28.2969\" y2=\"28.2969\"/><text fill=\"#000000\" font-family=\"sans-serif\" font-size=\"14\" font-weight=\"bold\" lengthAdjust=\"spacingAndGlyphs\" textLength=\"12\" x=\"20\" y=\"20.9951\">Q</text></a><!--MD5=[b4997ac47864f28c2f74865a473b2911]\n",
       "class E2--><a href=\"psysml:4239e231-7164-4547-a8e1-ba39f4362efb\" target=\"_top\" title=\"psysml:4239e231-7164-4547-a8e1-ba39f4362efb\" xlink:actuate=\"onRequest\" xlink:href=\"psysml:4239e231-7164-4547-a8e1-ba39f4362efb\" xlink:show=\"new\" xlink:title=\"psysml:4239e231-7164-4547-a8e1-ba39f4362efb\" xlink:type=\"simple\"><rect fill=\"#FFFFFF\" height=\"45.9375\" id=\"E2\" rx=\"10\" ry=\"10\" style=\"stroke: #383838; stroke-width: 1.5;\" width=\"42\" x=\"133\" y=\"41\"/><text fill=\"#000000\" font-family=\"sans-serif\" font-size=\"12\" font-style=\"italic\" lengthAdjust=\"spacingAndGlyphs\" textLength=\"40\" x=\"134\" y=\"57.1387\">«part»</text><text fill=\"#000000\" font-family=\"sans-serif\" font-size=\"12\" lengthAdjust=\"spacingAndGlyphs\" textLength=\"4\" x=\"152\" y=\"71.1074\">f</text><line style=\"stroke: #383838; stroke-width: 1.5;\" x1=\"134\" x2=\"174\" y1=\"78.9375\" y2=\"78.9375\"/></a><!--MD5=[09b614a08d8cba4a07c9adeb5e0fee81]\n",
       "class E3--><a href=\"psysml:51ecbb7c-6db5-4069-ae0d-bb60efd47f9e\" target=\"_top\" title=\"psysml:51ecbb7c-6db5-4069-ae0d-bb60efd47f9e\" xlink:actuate=\"onRequest\" xlink:href=\"psysml:51ecbb7c-6db5-4069-ae0d-bb60efd47f9e\" xlink:show=\"new\" xlink:title=\"psysml:51ecbb7c-6db5-4069-ae0d-bb60efd47f9e\" xlink:type=\"simple\"><rect fill=\"#FFFFFF\" height=\"45.9375\" id=\"E3\" rx=\"10\" ry=\"10\" style=\"stroke: #383838; stroke-width: 1.5;\" width=\"42\" x=\"133\" y=\"147\"/><text fill=\"#000000\" font-family=\"sans-serif\" font-size=\"12\" font-style=\"italic\" lengthAdjust=\"spacingAndGlyphs\" textLength=\"40\" x=\"134\" y=\"163.1387\">«part»</text><text fill=\"#000000\" font-family=\"sans-serif\" font-size=\"12\" lengthAdjust=\"spacingAndGlyphs\" textLength=\"8\" x=\"150\" y=\"177.1074\">a</text><line style=\"stroke: #383838; stroke-width: 1.5;\" x1=\"134\" x2=\"174\" y1=\"184.9375\" y2=\"184.9375\"/></a><!--MD5=[ebbe1d658d1005bcc118a6aa81145e00]\n",
       "class E4--><a href=\"psysml:5da665e6-dcc7-4321-8fa9-423e89fca153\" target=\"_top\" title=\"psysml:5da665e6-dcc7-4321-8fa9-423e89fca153\" xlink:actuate=\"onRequest\" xlink:href=\"psysml:5da665e6-dcc7-4321-8fa9-423e89fca153\" xlink:show=\"new\" xlink:title=\"psysml:5da665e6-dcc7-4321-8fa9-423e89fca153\" xlink:type=\"simple\"><rect fill=\"#FFFFFF\" height=\"45.9375\" id=\"E4\" style=\"stroke: #383838; stroke-width: 1.5;\" width=\"66\" x=\"32\" y=\"41\"/><text fill=\"#000000\" font-family=\"sans-serif\" font-size=\"12\" font-style=\"italic\" lengthAdjust=\"spacingAndGlyphs\" textLength=\"64\" x=\"33\" y=\"57.1387\">«part def»</text><text fill=\"#000000\" font-family=\"sans-serif\" font-size=\"12\" lengthAdjust=\"spacingAndGlyphs\" textLength=\"8\" x=\"61\" y=\"71.1074\">C</text><line style=\"stroke: #383838; stroke-width: 1.5;\" x1=\"33\" x2=\"97\" y1=\"78.9375\" y2=\"78.9375\"/></a><!--MD5=[270fce915f116d4de14055a7c1d9a0f3]\n",
       "class E5--><a href=\"psysml:ed499477-fca6-4979-bffe-7845725436ef\" target=\"_top\" title=\"psysml:ed499477-fca6-4979-bffe-7845725436ef\" xlink:actuate=\"onRequest\" xlink:href=\"psysml:ed499477-fca6-4979-bffe-7845725436ef\" xlink:show=\"new\" xlink:title=\"psysml:ed499477-fca6-4979-bffe-7845725436ef\" xlink:type=\"simple\"><rect fill=\"#FFFFFF\" height=\"45.9375\" id=\"E5\" rx=\"10\" ry=\"10\" style=\"stroke: #383838; stroke-width: 1.5;\" width=\"42\" x=\"44\" y=\"147\"/><text fill=\"#000000\" font-family=\"sans-serif\" font-size=\"12\" font-style=\"italic\" lengthAdjust=\"spacingAndGlyphs\" textLength=\"40\" x=\"45\" y=\"163.1387\">«part»</text><text fill=\"#000000\" font-family=\"sans-serif\" font-size=\"12\" lengthAdjust=\"spacingAndGlyphs\" textLength=\"8\" x=\"61\" y=\"177.1074\">g</text><line style=\"stroke: #383838; stroke-width: 1.5;\" x1=\"45\" x2=\"85\" y1=\"184.9375\" y2=\"184.9375\"/></a><!--MD5=[209b3feb70ccb6233bfe1053d122c12c]\n",
       "reverse link E2 to E3--><a href=\"psysml:51ecbb7c-6db5-4069-ae0d-bb60efd47f9e\" target=\"_top\" title=\"psysml:51ecbb7c-6db5-4069-ae0d-bb60efd47f9e\" xlink:actuate=\"onRequest\" xlink:href=\"psysml:51ecbb7c-6db5-4069-ae0d-bb60efd47f9e\" xlink:show=\"new\" xlink:title=\"psysml:51ecbb7c-6db5-4069-ae0d-bb60efd47f9e\" xlink:type=\"simple\"><path d=\"M154,100 C154,100 154,146.68 154,146.68 \" fill=\"none\" id=\"E2&lt;-E3\" style=\"stroke: #383838; stroke-width: 1.0;\"/><polygon fill=\"#383838\" points=\"154,87,150,93,154,99,158,93,154,87\" style=\"stroke: #383838; stroke-width: 1.0;\"/></a><!--MD5=[62aa6af11e70f752912c1cb0466f24f7]\n",
       "reverse link E4 to E5--><a href=\"psysml:ed499477-fca6-4979-bffe-7845725436ef\" target=\"_top\" title=\"psysml:ed499477-fca6-4979-bffe-7845725436ef\" xlink:actuate=\"onRequest\" xlink:href=\"psysml:ed499477-fca6-4979-bffe-7845725436ef\" xlink:show=\"new\" xlink:title=\"psysml:ed499477-fca6-4979-bffe-7845725436ef\" xlink:type=\"simple\"><path d=\"M65,100 C65,100 65,146.68 65,146.68 \" fill=\"none\" id=\"E4&lt;-E5\" style=\"stroke: #383838; stroke-width: 1.0;\"/><polygon fill=\"#383838\" points=\"65,87,61,93,65,99,69,93,65,87\" style=\"stroke: #383838; stroke-width: 1.0;\"/></a><!--MD5=[93fc34fd31dc502d41767f6a5fd4f481]\n",
       "@startuml\r\n",
       "skinparam linetype ortho\r\n",
       "skinparam monochrome true\r\n",
       "skinparam classbackgroundcolor white\r\n",
       "skinparam shadowing false\r\n",
       "skinparam wrapWidth 300\r\n",
       "hide circle\r\n",
       "\r\n",
       "package \"Q\" as E1  [[psysml:ef9b7028-f6bf-447e-864f-9dad0bdce88c ]]  {\r\n",
       "comp usage \"f\" as E2  <<(T,blue)part>> [[psysml:4239e231-7164-4547-a8e1-ba39f4362efb ]] {\r\n",
       "}\r\n",
       "comp usage \"a\" as E3  <<(T,blue)part>> [[psysml:51ecbb7c-6db5-4069-ae0d-bb60efd47f9e ]] {\r\n",
       "}\r\n",
       "comp def \"C\" as E4  <<(T,blue)part def>> [[psysml:5da665e6-dcc7-4321-8fa9-423e89fca153 ]] {\r\n",
       "}\r\n",
       "comp usage \"g\" as E5  <<(T,blue)part>> [[psysml:ed499477-fca6-4979-bffe-7845725436ef ]] {\r\n",
       "}\r\n",
       "E2 *- - E3 [[psysml:51ecbb7c-6db5-4069-ae0d-bb60efd47f9e ]] \r\n",
       "E4 *- - E5 [[psysml:ed499477-fca6-4979-bffe-7845725436ef ]] \r\n",
       "}\r\n",
       "@enduml\r\n",
       "\n",
       "PlantUML version 1.2020.13(Sat Jun 13 12:26:38 UTC 2020)\n",
       "(EPL source distribution)\n",
       "Java Runtime: OpenJDK Runtime Environment\n",
       "JVM: OpenJDK 64-Bit Server VM\n",
       "Default Encoding: UTF-8\n",
       "Language: en\n",
       "Country: null\n",
       "--></g></svg>"
      ]
     },
     "execution_count": 52,
     "metadata": {},
     "output_type": "execute_result"
    }
   ],
   "source": [
    "%viz --style=\"ORTHOLINE\" --view=\"Tree\" \"Q\""
   ]
  },
  {
   "cell_type": "code",
   "execution_count": 53,
   "id": "linear-arizona",
   "metadata": {
    "execution": {
     "iopub.execute_input": "2021-03-25T09:26:30.501382Z",
     "iopub.status.busy": "2021-03-25T09:26:30.500691Z",
     "iopub.status.idle": "2021-03-25T09:26:30.511584Z",
     "shell.execute_reply": "2021-03-25T09:26:30.511191Z"
    }
   },
   "outputs": [
    {
     "data": {
      "image/svg+xml": [
       "<?xml version=\"1.0\" encoding=\"UTF-8\" standalone=\"no\"?><svg xmlns=\"http://www.w3.org/2000/svg\" xmlns:xlink=\"http://www.w3.org/1999/xlink\" contentScriptType=\"application/ecmascript\" contentStyleType=\"text/css\" height=\"12px\" preserveAspectRatio=\"none\" style=\"width:12px;height:12px;\" version=\"1.1\" viewBox=\"0 0 12 12\" width=\"12px\" zoomAndPan=\"magnify\"><defs/><g><!--MD5=[97d6f38768b311333d388e66b2b27985]\n",
       "@startuml\r\n",
       "skinparam linetype ortho\r\n",
       "skinparam monochrome true\r\n",
       "skinparam classbackgroundcolor white\r\n",
       "skinparam shadowing false\r\n",
       "skinparam wrapWidth 300\r\n",
       "hide circle\r\n",
       "\r\n",
       "@enduml\r\n",
       "\n",
       "PlantUML version 1.2020.13(Sat Jun 13 12:26:38 UTC 2020)\n",
       "(EPL source distribution)\n",
       "Java Runtime: OpenJDK Runtime Environment\n",
       "JVM: OpenJDK 64-Bit Server VM\n",
       "Default Encoding: UTF-8\n",
       "Language: en\n",
       "Country: null\n",
       "--></g></svg>"
      ]
     },
     "execution_count": 53,
     "metadata": {},
     "output_type": "execute_result"
    }
   ],
   "source": [
    "%viz --style=\"ORTHOLINE\" --view=\"State\" \"Q\""
   ]
  },
  {
   "cell_type": "code",
   "execution_count": 54,
   "id": "specified-upgrade",
   "metadata": {
    "execution": {
     "iopub.execute_input": "2021-03-25T09:26:30.562853Z",
     "iopub.status.busy": "2021-03-25T09:26:30.562280Z",
     "iopub.status.idle": "2021-03-25T09:26:30.624565Z",
     "shell.execute_reply": "2021-03-25T09:26:30.623246Z"
    }
   },
   "outputs": [
    {
     "data": {
      "image/svg+xml": [
       "<?xml version=\"1.0\" encoding=\"UTF-8\" standalone=\"no\"?><svg xmlns=\"http://www.w3.org/2000/svg\" xmlns:xlink=\"http://www.w3.org/1999/xlink\" contentScriptType=\"application/ecmascript\" contentStyleType=\"text/css\" height=\"192px\" preserveAspectRatio=\"none\" style=\"width:279px;height:192px;\" version=\"1.1\" viewBox=\"0 0 279 192\" width=\"279px\" zoomAndPan=\"magnify\"><defs/><g><!--MD5=[fbc87193dbaf4d95561dea2c320d4a47]\n",
       "cluster E1--><a href=\"psysml:ef9b7028-f6bf-447e-864f-9dad0bdce88c\" target=\"_top\" title=\"psysml:ef9b7028-f6bf-447e-864f-9dad0bdce88c\" xlink:actuate=\"onRequest\" xlink:href=\"psysml:ef9b7028-f6bf-447e-864f-9dad0bdce88c\" xlink:show=\"new\" xlink:title=\"psysml:ef9b7028-f6bf-447e-864f-9dad0bdce88c\" xlink:type=\"simple\"><polygon fill=\"#FFFFFF\" points=\"16,6,34,6,41,28.2969,257,28.2969,257,180,16,180,16,6\" style=\"stroke: #000000; stroke-width: 1.5;\"/><line style=\"stroke: #000000; stroke-width: 1.5;\" x1=\"16\" x2=\"41\" y1=\"28.2969\" y2=\"28.2969\"/><text fill=\"#000000\" font-family=\"sans-serif\" font-size=\"14\" font-weight=\"bold\" lengthAdjust=\"spacingAndGlyphs\" textLength=\"12\" x=\"20\" y=\"20.9951\">Q</text></a><!--MD5=[e4f7fae6ed58524ba242bb0b0d3be6b7]\n",
       "cluster E2--><a href=\"psysml:4239e231-7164-4547-a8e1-ba39f4362efb\" target=\"_top\" title=\"psysml:4239e231-7164-4547-a8e1-ba39f4362efb\" xlink:actuate=\"onRequest\" xlink:href=\"psysml:4239e231-7164-4547-a8e1-ba39f4362efb\" xlink:show=\"new\" xlink:title=\"psysml:4239e231-7164-4547-a8e1-ba39f4362efb\" xlink:type=\"simple\"><rect fill=\"#FFFFFF\" height=\"91\" id=\"E2\" rx=\"10\" ry=\"10\" style=\"stroke: #383838; stroke-width: 1.5;\" width=\"82\" x=\"151\" y=\"65\"/><rect fill=\"#F8F8F8\" height=\"23.9688\" rx=\"10\" ry=\"10\" style=\"stroke: #F8F8F8; stroke-width: 1.5;\" width=\"82\" x=\"151\" y=\"65\"/><rect fill=\"#F8F8F8\" height=\"10\" style=\"stroke: #F8F8F8; stroke-width: 1.5;\" width=\"82\" x=\"151\" y=\"78.9688\"/><rect fill=\"none\" height=\"91\" id=\"E2\" rx=\"10\" ry=\"10\" style=\"stroke: #383838; stroke-width: 1.5;\" width=\"82\" x=\"151\" y=\"65\"/><text fill=\"#000000\" font-family=\"sans-serif\" font-size=\"12\" lengthAdjust=\"spacingAndGlyphs\" textLength=\"4\" x=\"190\" y=\"81.1387\">f</text><line style=\"stroke: #383838; stroke-width: 1.0;\" x1=\"151\" x2=\"233\" y1=\"88.9688\" y2=\"88.9688\"/></a><!--MD5=[f6df4d0ebaf0b5dfb2ced0ae5af7c670]\n",
       "cluster E4--><a href=\"psysml:5da665e6-dcc7-4321-8fa9-423e89fca153\" target=\"_top\" title=\"psysml:5da665e6-dcc7-4321-8fa9-423e89fca153\" xlink:actuate=\"onRequest\" xlink:href=\"psysml:5da665e6-dcc7-4321-8fa9-423e89fca153\" xlink:show=\"new\" xlink:title=\"psysml:5da665e6-dcc7-4321-8fa9-423e89fca153\" xlink:type=\"simple\"><rect fill=\"#FFFFFF\" height=\"107\" id=\"E4\" style=\"stroke: #383838; stroke-width: 1.5;\" width=\"87\" x=\"40\" y=\"49\"/><rect fill=\"#F8F8F8\" height=\"37.9375\" style=\"stroke: #383838; stroke-width: 1.5;\" width=\"87\" x=\"40\" y=\"49\"/><text fill=\"#000000\" font-family=\"sans-serif\" font-size=\"12\" font-style=\"italic\" lengthAdjust=\"spacingAndGlyphs\" textLength=\"64\" x=\"51.5\" y=\"65.1387\">«part def»</text><text fill=\"#000000\" font-family=\"sans-serif\" font-size=\"12\" lengthAdjust=\"spacingAndGlyphs\" textLength=\"8\" x=\"79.5\" y=\"79.1074\">C</text></a><g id=\"E1.E2.E3\"><a href=\"psysml:51ecbb7c-6db5-4069-ae0d-bb60efd47f9e\" target=\"_top\" title=\"psysml:51ecbb7c-6db5-4069-ae0d-bb60efd47f9e\" xlink:actuate=\"onRequest\" xlink:href=\"psysml:51ecbb7c-6db5-4069-ae0d-bb60efd47f9e\" xlink:show=\"new\" xlink:title=\"psysml:51ecbb7c-6db5-4069-ae0d-bb60efd47f9e\" xlink:type=\"simple\"><rect fill=\"#FFFFFF\" height=\"40\" id=\"E3\" rx=\"10\" ry=\"10\" style=\"stroke: #383838; stroke-width: 1.5;\" width=\"50\" x=\"167\" y=\"100\"/><rect fill=\"#F8F8F8\" height=\"23.9688\" rx=\"10\" ry=\"10\" style=\"stroke: #F8F8F8; stroke-width: 1.5;\" width=\"50\" x=\"167\" y=\"100\"/><rect fill=\"#F8F8F8\" height=\"10\" style=\"stroke: #F8F8F8; stroke-width: 1.5;\" width=\"50\" x=\"167\" y=\"113.9688\"/><rect fill=\"none\" height=\"40\" id=\"E3\" rx=\"10\" ry=\"10\" style=\"stroke: #383838; stroke-width: 1.5;\" width=\"50\" x=\"167\" y=\"100\"/><text fill=\"#000000\" font-family=\"sans-serif\" font-size=\"12\" lengthAdjust=\"spacingAndGlyphs\" textLength=\"8\" x=\"188\" y=\"116.1387\">a</text></a></g><g id=\"E1.E4.E5\"><a href=\"psysml:ed499477-fca6-4979-bffe-7845725436ef\" target=\"_top\" title=\"psysml:ed499477-fca6-4979-bffe-7845725436ef\" xlink:actuate=\"onRequest\" xlink:href=\"psysml:ed499477-fca6-4979-bffe-7845725436ef\" xlink:show=\"new\" xlink:title=\"psysml:ed499477-fca6-4979-bffe-7845725436ef\" xlink:type=\"simple\"><rect fill=\"#FFFFFF\" height=\"40\" id=\"E5\" rx=\"10\" ry=\"10\" style=\"stroke: #383838; stroke-width: 1.5;\" width=\"50\" x=\"58\" y=\"100\"/><rect fill=\"#F8F8F8\" height=\"23.9688\" rx=\"10\" ry=\"10\" style=\"stroke: #F8F8F8; stroke-width: 1.5;\" width=\"50\" x=\"58\" y=\"100\"/><rect fill=\"#F8F8F8\" height=\"10\" style=\"stroke: #F8F8F8; stroke-width: 1.5;\" width=\"50\" x=\"58\" y=\"113.9688\"/><rect fill=\"none\" height=\"40\" id=\"E5\" rx=\"10\" ry=\"10\" style=\"stroke: #383838; stroke-width: 1.5;\" width=\"50\" x=\"58\" y=\"100\"/><text fill=\"#000000\" font-family=\"sans-serif\" font-size=\"12\" lengthAdjust=\"spacingAndGlyphs\" textLength=\"8\" x=\"79\" y=\"116.1387\">g</text></a></g><!--MD5=[b060373843f191baa00ea92c50c7e7c8]\n",
       "@startuml\r\n",
       "skinparam ranksep 8\r\n",
       "skinparam rectangle {\r\n",
       " backgroundColor<<block>> LightGreen\r\n",
       "}\r\n",
       "skinparam linetype ortho\r\n",
       "skinparam monochrome true\r\n",
       "skinparam classbackgroundcolor white\r\n",
       "skinparam shadowing false\r\n",
       "skinparam wrapWidth 300\r\n",
       "hide circle\r\n",
       "\r\n",
       "package \"Q\" as E1  [[psysml:ef9b7028-f6bf-447e-864f-9dad0bdce88c ]]  {\r\n",
       "rec usage \"f\" as E2  [[psysml:4239e231-7164-4547-a8e1-ba39f4362efb ]] {\r\n",
       "rec usage \"a\" as E3  [[psysml:51ecbb7c-6db5-4069-ae0d-bb60efd47f9e ]] {\r\n",
       "}\r\n",
       "}\r\n",
       "rec def \"C\" as E4  <<(T,blue)part def>> [[psysml:5da665e6-dcc7-4321-8fa9-423e89fca153 ]] {\r\n",
       "rec usage \"g\" as E5  [[psysml:ed499477-fca6-4979-bffe-7845725436ef ]] {\r\n",
       "}\r\n",
       "}\r\n",
       "}\r\n",
       "@enduml\r\n",
       "\n",
       "PlantUML version 1.2020.13(Sat Jun 13 12:26:38 UTC 2020)\n",
       "(EPL source distribution)\n",
       "Java Runtime: OpenJDK Runtime Environment\n",
       "JVM: OpenJDK 64-Bit Server VM\n",
       "Default Encoding: UTF-8\n",
       "Language: en\n",
       "Country: null\n",
       "--></g></svg>"
      ]
     },
     "execution_count": 54,
     "metadata": {},
     "output_type": "execute_result"
    }
   ],
   "source": [
    "%viz --style=\"ORTHOLINE\" --view=\"Interconnection\" \"Q\""
   ]
  },
  {
   "cell_type": "code",
   "execution_count": 55,
   "id": "imperial-reform",
   "metadata": {
    "execution": {
     "iopub.execute_input": "2021-03-25T09:26:30.675093Z",
     "iopub.status.busy": "2021-03-25T09:26:30.674536Z",
     "iopub.status.idle": "2021-03-25T09:26:30.683251Z",
     "shell.execute_reply": "2021-03-25T09:26:30.682834Z"
    }
   },
   "outputs": [
    {
     "data": {
      "image/svg+xml": [
       "<?xml version=\"1.0\" encoding=\"UTF-8\" standalone=\"no\"?><svg xmlns=\"http://www.w3.org/2000/svg\" xmlns:xlink=\"http://www.w3.org/1999/xlink\" contentScriptType=\"application/ecmascript\" contentStyleType=\"text/css\" height=\"12px\" preserveAspectRatio=\"none\" style=\"width:12px;height:12px;\" version=\"1.1\" viewBox=\"0 0 12 12\" width=\"12px\" zoomAndPan=\"magnify\"><defs/><g><!--MD5=[72934c63077099a26744516a776b4749]\n",
       "@startuml\r\n",
       "skinparam ranksep 8\r\n",
       "skinparam linetype ortho\r\n",
       "skinparam monochrome true\r\n",
       "skinparam classbackgroundcolor white\r\n",
       "skinparam shadowing false\r\n",
       "skinparam wrapWidth 300\r\n",
       "hide circle\r\n",
       "\r\n",
       "@enduml\r\n",
       "\n",
       "PlantUML version 1.2020.13(Sat Jun 13 12:26:38 UTC 2020)\n",
       "(EPL source distribution)\n",
       "Java Runtime: OpenJDK Runtime Environment\n",
       "JVM: OpenJDK 64-Bit Server VM\n",
       "Default Encoding: UTF-8\n",
       "Language: en\n",
       "Country: null\n",
       "--></g></svg>"
      ]
     },
     "execution_count": 55,
     "metadata": {},
     "output_type": "execute_result"
    }
   ],
   "source": [
    "%viz --style=\"ORTHOLINE\" --view=\"Action\" \"Q\""
   ]
  },
  {
   "cell_type": "code",
   "execution_count": 56,
   "id": "sustainable-timing",
   "metadata": {
    "execution": {
     "iopub.execute_input": "2021-03-25T09:26:30.734437Z",
     "iopub.status.busy": "2021-03-25T09:26:30.733696Z",
     "iopub.status.idle": "2021-03-25T09:26:30.787772Z",
     "shell.execute_reply": "2021-03-25T09:26:30.786445Z"
    }
   },
   "outputs": [
    {
     "data": {
      "image/svg+xml": [
       "<?xml version=\"1.0\" encoding=\"UTF-8\" standalone=\"no\"?><svg xmlns=\"http://www.w3.org/2000/svg\" xmlns:xlink=\"http://www.w3.org/1999/xlink\" contentScriptType=\"application/ecmascript\" contentStyleType=\"text/css\" height=\"221px\" preserveAspectRatio=\"none\" style=\"width:213px;height:221px;\" version=\"1.1\" viewBox=\"0 0 213 221\" width=\"213px\" zoomAndPan=\"magnify\"><defs/><g><!--MD5=[fbc87193dbaf4d95561dea2c320d4a47]\n",
       "cluster E1--><a href=\"psysml:ef9b7028-f6bf-447e-864f-9dad0bdce88c\" target=\"_top\" title=\"psysml:ef9b7028-f6bf-447e-864f-9dad0bdce88c\" xlink:actuate=\"onRequest\" xlink:href=\"psysml:ef9b7028-f6bf-447e-864f-9dad0bdce88c\" xlink:show=\"new\" xlink:title=\"psysml:ef9b7028-f6bf-447e-864f-9dad0bdce88c\" xlink:type=\"simple\"><polygon fill=\"#FFFFFF\" points=\"16,6,34,6,41,28.2969,191,28.2969,191,209,16,209,16,6\" style=\"stroke: #000000; stroke-width: 1.5;\"/><line style=\"stroke: #000000; stroke-width: 1.5;\" x1=\"16\" x2=\"41\" y1=\"28.2969\" y2=\"28.2969\"/><text fill=\"#000000\" font-family=\"sans-serif\" font-size=\"14\" font-weight=\"bold\" lengthAdjust=\"spacingAndGlyphs\" textLength=\"12\" x=\"20\" y=\"20.9951\">Q</text></a><!--MD5=[b4997ac47864f28c2f74865a473b2911]\n",
       "class E2--><a href=\"psysml:4239e231-7164-4547-a8e1-ba39f4362efb\" target=\"_top\" title=\"psysml:4239e231-7164-4547-a8e1-ba39f4362efb\" xlink:actuate=\"onRequest\" xlink:href=\"psysml:4239e231-7164-4547-a8e1-ba39f4362efb\" xlink:show=\"new\" xlink:title=\"psysml:4239e231-7164-4547-a8e1-ba39f4362efb\" xlink:type=\"simple\"><rect fill=\"#FFFFFF\" height=\"45.9375\" id=\"E2\" rx=\"10\" ry=\"10\" style=\"stroke: #383838; stroke-width: 1.5;\" width=\"42\" x=\"133\" y=\"41\"/><text fill=\"#000000\" font-family=\"sans-serif\" font-size=\"12\" font-style=\"italic\" lengthAdjust=\"spacingAndGlyphs\" textLength=\"40\" x=\"134\" y=\"57.1387\">«part»</text><text fill=\"#000000\" font-family=\"sans-serif\" font-size=\"12\" lengthAdjust=\"spacingAndGlyphs\" textLength=\"4\" x=\"152\" y=\"71.1074\">f</text><line style=\"stroke: #383838; stroke-width: 1.5;\" x1=\"134\" x2=\"174\" y1=\"78.9375\" y2=\"78.9375\"/></a><!--MD5=[09b614a08d8cba4a07c9adeb5e0fee81]\n",
       "class E3--><a href=\"psysml:51ecbb7c-6db5-4069-ae0d-bb60efd47f9e\" target=\"_top\" title=\"psysml:51ecbb7c-6db5-4069-ae0d-bb60efd47f9e\" xlink:actuate=\"onRequest\" xlink:href=\"psysml:51ecbb7c-6db5-4069-ae0d-bb60efd47f9e\" xlink:show=\"new\" xlink:title=\"psysml:51ecbb7c-6db5-4069-ae0d-bb60efd47f9e\" xlink:type=\"simple\"><rect fill=\"#FFFFFF\" height=\"45.9375\" id=\"E3\" rx=\"10\" ry=\"10\" style=\"stroke: #383838; stroke-width: 1.5;\" width=\"42\" x=\"133\" y=\"147\"/><text fill=\"#000000\" font-family=\"sans-serif\" font-size=\"12\" font-style=\"italic\" lengthAdjust=\"spacingAndGlyphs\" textLength=\"40\" x=\"134\" y=\"163.1387\">«part»</text><text fill=\"#000000\" font-family=\"sans-serif\" font-size=\"12\" lengthAdjust=\"spacingAndGlyphs\" textLength=\"8\" x=\"150\" y=\"177.1074\">a</text><line style=\"stroke: #383838; stroke-width: 1.5;\" x1=\"134\" x2=\"174\" y1=\"184.9375\" y2=\"184.9375\"/></a><!--MD5=[ebbe1d658d1005bcc118a6aa81145e00]\n",
       "class E4--><a href=\"psysml:5da665e6-dcc7-4321-8fa9-423e89fca153\" target=\"_top\" title=\"psysml:5da665e6-dcc7-4321-8fa9-423e89fca153\" xlink:actuate=\"onRequest\" xlink:href=\"psysml:5da665e6-dcc7-4321-8fa9-423e89fca153\" xlink:show=\"new\" xlink:title=\"psysml:5da665e6-dcc7-4321-8fa9-423e89fca153\" xlink:type=\"simple\"><rect fill=\"#FFFFFF\" height=\"45.9375\" id=\"E4\" style=\"stroke: #383838; stroke-width: 1.5;\" width=\"66\" x=\"32\" y=\"41\"/><text fill=\"#000000\" font-family=\"sans-serif\" font-size=\"12\" font-style=\"italic\" lengthAdjust=\"spacingAndGlyphs\" textLength=\"64\" x=\"33\" y=\"57.1387\">«part def»</text><text fill=\"#000000\" font-family=\"sans-serif\" font-size=\"12\" lengthAdjust=\"spacingAndGlyphs\" textLength=\"8\" x=\"61\" y=\"71.1074\">C</text><line style=\"stroke: #383838; stroke-width: 1.5;\" x1=\"33\" x2=\"97\" y1=\"78.9375\" y2=\"78.9375\"/></a><!--MD5=[270fce915f116d4de14055a7c1d9a0f3]\n",
       "class E5--><a href=\"psysml:ed499477-fca6-4979-bffe-7845725436ef\" target=\"_top\" title=\"psysml:ed499477-fca6-4979-bffe-7845725436ef\" xlink:actuate=\"onRequest\" xlink:href=\"psysml:ed499477-fca6-4979-bffe-7845725436ef\" xlink:show=\"new\" xlink:title=\"psysml:ed499477-fca6-4979-bffe-7845725436ef\" xlink:type=\"simple\"><rect fill=\"#FFFFFF\" height=\"45.9375\" id=\"E5\" rx=\"10\" ry=\"10\" style=\"stroke: #383838; stroke-width: 1.5;\" width=\"42\" x=\"44\" y=\"147\"/><text fill=\"#000000\" font-family=\"sans-serif\" font-size=\"12\" font-style=\"italic\" lengthAdjust=\"spacingAndGlyphs\" textLength=\"40\" x=\"45\" y=\"163.1387\">«part»</text><text fill=\"#000000\" font-family=\"sans-serif\" font-size=\"12\" lengthAdjust=\"spacingAndGlyphs\" textLength=\"8\" x=\"61\" y=\"177.1074\">g</text><line style=\"stroke: #383838; stroke-width: 1.5;\" x1=\"45\" x2=\"85\" y1=\"184.9375\" y2=\"184.9375\"/></a><!--MD5=[209b3feb70ccb6233bfe1053d122c12c]\n",
       "reverse link E2 to E3--><a href=\"psysml:51ecbb7c-6db5-4069-ae0d-bb60efd47f9e\" target=\"_top\" title=\"psysml:51ecbb7c-6db5-4069-ae0d-bb60efd47f9e\" xlink:actuate=\"onRequest\" xlink:href=\"psysml:51ecbb7c-6db5-4069-ae0d-bb60efd47f9e\" xlink:show=\"new\" xlink:title=\"psysml:51ecbb7c-6db5-4069-ae0d-bb60efd47f9e\" xlink:type=\"simple\"><path d=\"M154,100 C154,100 154,146.68 154,146.68 \" fill=\"none\" id=\"E2&lt;-E3\" style=\"stroke: #383838; stroke-width: 1.0;\"/><polygon fill=\"#383838\" points=\"154,87,150,93,154,99,158,93,154,87\" style=\"stroke: #383838; stroke-width: 1.0;\"/></a><!--MD5=[62aa6af11e70f752912c1cb0466f24f7]\n",
       "reverse link E4 to E5--><a href=\"psysml:ed499477-fca6-4979-bffe-7845725436ef\" target=\"_top\" title=\"psysml:ed499477-fca6-4979-bffe-7845725436ef\" xlink:actuate=\"onRequest\" xlink:href=\"psysml:ed499477-fca6-4979-bffe-7845725436ef\" xlink:show=\"new\" xlink:title=\"psysml:ed499477-fca6-4979-bffe-7845725436ef\" xlink:type=\"simple\"><path d=\"M65,100 C65,100 65,146.68 65,146.68 \" fill=\"none\" id=\"E4&lt;-E5\" style=\"stroke: #383838; stroke-width: 1.0;\"/><polygon fill=\"#383838\" points=\"65,87,61,93,65,99,69,93,65,87\" style=\"stroke: #383838; stroke-width: 1.0;\"/></a><!--MD5=[93fc34fd31dc502d41767f6a5fd4f481]\n",
       "@startuml\r\n",
       "skinparam linetype ortho\r\n",
       "skinparam monochrome true\r\n",
       "skinparam classbackgroundcolor white\r\n",
       "skinparam shadowing false\r\n",
       "skinparam wrapWidth 300\r\n",
       "hide circle\r\n",
       "\r\n",
       "package \"Q\" as E1  [[psysml:ef9b7028-f6bf-447e-864f-9dad0bdce88c ]]  {\r\n",
       "comp usage \"f\" as E2  <<(T,blue)part>> [[psysml:4239e231-7164-4547-a8e1-ba39f4362efb ]] {\r\n",
       "}\r\n",
       "comp usage \"a\" as E3  <<(T,blue)part>> [[psysml:51ecbb7c-6db5-4069-ae0d-bb60efd47f9e ]] {\r\n",
       "}\r\n",
       "comp def \"C\" as E4  <<(T,blue)part def>> [[psysml:5da665e6-dcc7-4321-8fa9-423e89fca153 ]] {\r\n",
       "}\r\n",
       "comp usage \"g\" as E5  <<(T,blue)part>> [[psysml:ed499477-fca6-4979-bffe-7845725436ef ]] {\r\n",
       "}\r\n",
       "E2 *- - E3 [[psysml:51ecbb7c-6db5-4069-ae0d-bb60efd47f9e ]] \r\n",
       "E4 *- - E5 [[psysml:ed499477-fca6-4979-bffe-7845725436ef ]] \r\n",
       "}\r\n",
       "@enduml\r\n",
       "\n",
       "PlantUML version 1.2020.13(Sat Jun 13 12:26:38 UTC 2020)\n",
       "(EPL source distribution)\n",
       "Java Runtime: OpenJDK Runtime Environment\n",
       "JVM: OpenJDK 64-Bit Server VM\n",
       "Default Encoding: UTF-8\n",
       "Language: en\n",
       "Country: null\n",
       "--></g></svg>"
      ]
     },
     "execution_count": 56,
     "metadata": {},
     "output_type": "execute_result"
    }
   ],
   "source": [
    "%viz --style=\"ORTHOLINE\" --view=\"Sequence\" \"Q\""
   ]
  },
  {
   "cell_type": "code",
   "execution_count": 57,
   "id": "acknowledged-healing",
   "metadata": {
    "execution": {
     "iopub.execute_input": "2021-03-25T09:26:30.838227Z",
     "iopub.status.busy": "2021-03-25T09:26:30.837844Z",
     "iopub.status.idle": "2021-03-25T09:26:30.885843Z",
     "shell.execute_reply": "2021-03-25T09:26:30.884379Z"
    }
   },
   "outputs": [
    {
     "data": {
      "image/svg+xml": [
       "<?xml version=\"1.0\" encoding=\"UTF-8\" standalone=\"no\"?><svg xmlns=\"http://www.w3.org/2000/svg\" xmlns:xlink=\"http://www.w3.org/1999/xlink\" contentScriptType=\"application/ecmascript\" contentStyleType=\"text/css\" height=\"221px\" preserveAspectRatio=\"none\" style=\"width:213px;height:221px;\" version=\"1.1\" viewBox=\"0 0 213 221\" width=\"213px\" zoomAndPan=\"magnify\"><defs/><g><!--MD5=[fbc87193dbaf4d95561dea2c320d4a47]\n",
       "cluster E1--><a href=\"psysml:ef9b7028-f6bf-447e-864f-9dad0bdce88c\" target=\"_top\" title=\"psysml:ef9b7028-f6bf-447e-864f-9dad0bdce88c\" xlink:actuate=\"onRequest\" xlink:href=\"psysml:ef9b7028-f6bf-447e-864f-9dad0bdce88c\" xlink:show=\"new\" xlink:title=\"psysml:ef9b7028-f6bf-447e-864f-9dad0bdce88c\" xlink:type=\"simple\"><polygon fill=\"#FFFFFF\" points=\"16,6,34,6,41,28.2969,191,28.2969,191,209,16,209,16,6\" style=\"stroke: #000000; stroke-width: 1.5;\"/><line style=\"stroke: #000000; stroke-width: 1.5;\" x1=\"16\" x2=\"41\" y1=\"28.2969\" y2=\"28.2969\"/><text fill=\"#000000\" font-family=\"sans-serif\" font-size=\"14\" font-weight=\"bold\" lengthAdjust=\"spacingAndGlyphs\" textLength=\"12\" x=\"20\" y=\"20.9951\">Q</text></a><!--MD5=[b4997ac47864f28c2f74865a473b2911]\n",
       "class E2--><a href=\"psysml:4239e231-7164-4547-a8e1-ba39f4362efb\" target=\"_top\" title=\"psysml:4239e231-7164-4547-a8e1-ba39f4362efb\" xlink:actuate=\"onRequest\" xlink:href=\"psysml:4239e231-7164-4547-a8e1-ba39f4362efb\" xlink:show=\"new\" xlink:title=\"psysml:4239e231-7164-4547-a8e1-ba39f4362efb\" xlink:type=\"simple\"><rect fill=\"#FFFFFF\" height=\"45.9375\" id=\"E2\" rx=\"10\" ry=\"10\" style=\"stroke: #383838; stroke-width: 1.5;\" width=\"42\" x=\"133\" y=\"41\"/><text fill=\"#000000\" font-family=\"sans-serif\" font-size=\"12\" font-style=\"italic\" lengthAdjust=\"spacingAndGlyphs\" textLength=\"40\" x=\"134\" y=\"57.1387\">«part»</text><text fill=\"#000000\" font-family=\"sans-serif\" font-size=\"12\" lengthAdjust=\"spacingAndGlyphs\" textLength=\"4\" x=\"152\" y=\"71.1074\">f</text><line style=\"stroke: #383838; stroke-width: 1.5;\" x1=\"134\" x2=\"174\" y1=\"78.9375\" y2=\"78.9375\"/></a><!--MD5=[09b614a08d8cba4a07c9adeb5e0fee81]\n",
       "class E3--><a href=\"psysml:51ecbb7c-6db5-4069-ae0d-bb60efd47f9e\" target=\"_top\" title=\"psysml:51ecbb7c-6db5-4069-ae0d-bb60efd47f9e\" xlink:actuate=\"onRequest\" xlink:href=\"psysml:51ecbb7c-6db5-4069-ae0d-bb60efd47f9e\" xlink:show=\"new\" xlink:title=\"psysml:51ecbb7c-6db5-4069-ae0d-bb60efd47f9e\" xlink:type=\"simple\"><rect fill=\"#FFFFFF\" height=\"45.9375\" id=\"E3\" rx=\"10\" ry=\"10\" style=\"stroke: #383838; stroke-width: 1.5;\" width=\"42\" x=\"133\" y=\"147\"/><text fill=\"#000000\" font-family=\"sans-serif\" font-size=\"12\" font-style=\"italic\" lengthAdjust=\"spacingAndGlyphs\" textLength=\"40\" x=\"134\" y=\"163.1387\">«part»</text><text fill=\"#000000\" font-family=\"sans-serif\" font-size=\"12\" lengthAdjust=\"spacingAndGlyphs\" textLength=\"8\" x=\"150\" y=\"177.1074\">a</text><line style=\"stroke: #383838; stroke-width: 1.5;\" x1=\"134\" x2=\"174\" y1=\"184.9375\" y2=\"184.9375\"/></a><!--MD5=[ebbe1d658d1005bcc118a6aa81145e00]\n",
       "class E4--><a href=\"psysml:5da665e6-dcc7-4321-8fa9-423e89fca153\" target=\"_top\" title=\"psysml:5da665e6-dcc7-4321-8fa9-423e89fca153\" xlink:actuate=\"onRequest\" xlink:href=\"psysml:5da665e6-dcc7-4321-8fa9-423e89fca153\" xlink:show=\"new\" xlink:title=\"psysml:5da665e6-dcc7-4321-8fa9-423e89fca153\" xlink:type=\"simple\"><rect fill=\"#FFFFFF\" height=\"45.9375\" id=\"E4\" style=\"stroke: #383838; stroke-width: 1.5;\" width=\"66\" x=\"32\" y=\"41\"/><text fill=\"#000000\" font-family=\"sans-serif\" font-size=\"12\" font-style=\"italic\" lengthAdjust=\"spacingAndGlyphs\" textLength=\"64\" x=\"33\" y=\"57.1387\">«part def»</text><text fill=\"#000000\" font-family=\"sans-serif\" font-size=\"12\" lengthAdjust=\"spacingAndGlyphs\" textLength=\"8\" x=\"61\" y=\"71.1074\">C</text><line style=\"stroke: #383838; stroke-width: 1.5;\" x1=\"33\" x2=\"97\" y1=\"78.9375\" y2=\"78.9375\"/></a><!--MD5=[270fce915f116d4de14055a7c1d9a0f3]\n",
       "class E5--><a href=\"psysml:ed499477-fca6-4979-bffe-7845725436ef\" target=\"_top\" title=\"psysml:ed499477-fca6-4979-bffe-7845725436ef\" xlink:actuate=\"onRequest\" xlink:href=\"psysml:ed499477-fca6-4979-bffe-7845725436ef\" xlink:show=\"new\" xlink:title=\"psysml:ed499477-fca6-4979-bffe-7845725436ef\" xlink:type=\"simple\"><rect fill=\"#FFFFFF\" height=\"45.9375\" id=\"E5\" rx=\"10\" ry=\"10\" style=\"stroke: #383838; stroke-width: 1.5;\" width=\"42\" x=\"44\" y=\"147\"/><text fill=\"#000000\" font-family=\"sans-serif\" font-size=\"12\" font-style=\"italic\" lengthAdjust=\"spacingAndGlyphs\" textLength=\"40\" x=\"45\" y=\"163.1387\">«part»</text><text fill=\"#000000\" font-family=\"sans-serif\" font-size=\"12\" lengthAdjust=\"spacingAndGlyphs\" textLength=\"8\" x=\"61\" y=\"177.1074\">g</text><line style=\"stroke: #383838; stroke-width: 1.5;\" x1=\"45\" x2=\"85\" y1=\"184.9375\" y2=\"184.9375\"/></a><!--MD5=[209b3feb70ccb6233bfe1053d122c12c]\n",
       "reverse link E2 to E3--><a href=\"psysml:51ecbb7c-6db5-4069-ae0d-bb60efd47f9e\" target=\"_top\" title=\"psysml:51ecbb7c-6db5-4069-ae0d-bb60efd47f9e\" xlink:actuate=\"onRequest\" xlink:href=\"psysml:51ecbb7c-6db5-4069-ae0d-bb60efd47f9e\" xlink:show=\"new\" xlink:title=\"psysml:51ecbb7c-6db5-4069-ae0d-bb60efd47f9e\" xlink:type=\"simple\"><path d=\"M154,100 C154,100 154,146.68 154,146.68 \" fill=\"none\" id=\"E2&lt;-E3\" style=\"stroke: #383838; stroke-width: 1.0;\"/><polygon fill=\"#383838\" points=\"154,87,150,93,154,99,158,93,154,87\" style=\"stroke: #383838; stroke-width: 1.0;\"/></a><!--MD5=[62aa6af11e70f752912c1cb0466f24f7]\n",
       "reverse link E4 to E5--><a href=\"psysml:ed499477-fca6-4979-bffe-7845725436ef\" target=\"_top\" title=\"psysml:ed499477-fca6-4979-bffe-7845725436ef\" xlink:actuate=\"onRequest\" xlink:href=\"psysml:ed499477-fca6-4979-bffe-7845725436ef\" xlink:show=\"new\" xlink:title=\"psysml:ed499477-fca6-4979-bffe-7845725436ef\" xlink:type=\"simple\"><path d=\"M65,100 C65,100 65,146.68 65,146.68 \" fill=\"none\" id=\"E4&lt;-E5\" style=\"stroke: #383838; stroke-width: 1.0;\"/><polygon fill=\"#383838\" points=\"65,87,61,93,65,99,69,93,65,87\" style=\"stroke: #383838; stroke-width: 1.0;\"/></a><!--MD5=[93fc34fd31dc502d41767f6a5fd4f481]\n",
       "@startuml\r\n",
       "skinparam linetype ortho\r\n",
       "skinparam monochrome true\r\n",
       "skinparam classbackgroundcolor white\r\n",
       "skinparam shadowing false\r\n",
       "skinparam wrapWidth 300\r\n",
       "hide circle\r\n",
       "\r\n",
       "package \"Q\" as E1  [[psysml:ef9b7028-f6bf-447e-864f-9dad0bdce88c ]]  {\r\n",
       "comp usage \"f\" as E2  <<(T,blue)part>> [[psysml:4239e231-7164-4547-a8e1-ba39f4362efb ]] {\r\n",
       "}\r\n",
       "comp usage \"a\" as E3  <<(T,blue)part>> [[psysml:51ecbb7c-6db5-4069-ae0d-bb60efd47f9e ]] {\r\n",
       "}\r\n",
       "comp def \"C\" as E4  <<(T,blue)part def>> [[psysml:5da665e6-dcc7-4321-8fa9-423e89fca153 ]] {\r\n",
       "}\r\n",
       "comp usage \"g\" as E5  <<(T,blue)part>> [[psysml:ed499477-fca6-4979-bffe-7845725436ef ]] {\r\n",
       "}\r\n",
       "E2 *- - E3 [[psysml:51ecbb7c-6db5-4069-ae0d-bb60efd47f9e ]] \r\n",
       "E4 *- - E5 [[psysml:ed499477-fca6-4979-bffe-7845725436ef ]] \r\n",
       "}\r\n",
       "@enduml\r\n",
       "\n",
       "PlantUML version 1.2020.13(Sat Jun 13 12:26:38 UTC 2020)\n",
       "(EPL source distribution)\n",
       "Java Runtime: OpenJDK Runtime Environment\n",
       "JVM: OpenJDK 64-Bit Server VM\n",
       "Default Encoding: UTF-8\n",
       "Language: en\n",
       "Country: null\n",
       "--></g></svg>"
      ]
     },
     "execution_count": 57,
     "metadata": {},
     "output_type": "execute_result"
    }
   ],
   "source": [
    "%viz --style=\"ORTHOLINE\" --view=\"MIXED\" \"Q\""
   ]
  }
 ],
 "metadata": {
  "kernelspec": {
   "display_name": "SysML",
   "language": "sysml",
   "name": "sysml"
  },
  "language_info": {
   "codemirror_mode": "sysml",
   "file_extension": ".sysml",
   "mimetype": "text/x-sysml",
   "name": "SysML",
   "pygments_lexer": "java",
   "version": "1.0.0"
  }
 },
 "nbformat": 4,
 "nbformat_minor": 5
}
