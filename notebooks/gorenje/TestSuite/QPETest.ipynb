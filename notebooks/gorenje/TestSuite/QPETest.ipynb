{
 "cells": [
  {
   "cell_type": "markdown",
   "id": "coordinated-above",
   "metadata": {},
   "source": [
    "# SysML v2 Test Suite\n",
    "\n",
    "This can notebook can be cleared using menu `Edit --> Clear All Outputs` and then all cells can be\n",
    "run using menu `Run --> Run All Cells`.\n",
    "\n",
    "**WARNING**: This file is generated, all modifications here will be ignored.\n"
   ]
  },
  {
   "cell_type": "markdown",
   "id": "increased-matter",
   "metadata": {},
   "source": [
    "## File: ../../sysml/src/examples/Simple Tests/QPETest.sysml"
   ]
  },
  {
   "cell_type": "code",
   "execution_count": 1,
   "id": "sitting-photograph",
   "metadata": {
    "execution": {
     "iopub.execute_input": "2021-03-25T13:42:05.210887Z",
     "iopub.status.busy": "2021-03-25T13:42:05.209502Z",
     "iopub.status.idle": "2021-03-25T13:42:05.479562Z",
     "shell.execute_reply": "2021-03-25T13:42:05.478927Z"
    }
   },
   "outputs": [
    {
     "data": {
      "text/plain": [
       "Package Q (8a83d3f4-bcd4-4b81-89a5-f77987e918d3)\n"
      ]
     },
     "execution_count": 1,
     "metadata": {},
     "output_type": "execute_result"
    }
   ],
   "source": [
    "package Q {\n",
    "  part f {\n",
    "  \tpart a;\n",
    "  }\n",
    "  part def C {\n",
    "    part g = ./f/a; \n",
    "  }\n",
    "}\n"
   ]
  },
  {
   "cell_type": "code",
   "execution_count": 2,
   "id": "valid-office",
   "metadata": {
    "execution": {
     "iopub.execute_input": "2021-03-25T13:42:05.532023Z",
     "iopub.status.busy": "2021-03-25T13:42:05.531158Z",
     "iopub.status.idle": "2021-03-25T13:42:06.240060Z",
     "shell.execute_reply": "2021-03-25T13:42:06.240577Z"
    }
   },
   "outputs": [
    {
     "data": {
      "image/svg+xml": [
       "<?xml version=\"1.0\" encoding=\"UTF-8\" standalone=\"no\"?><svg xmlns=\"http://www.w3.org/2000/svg\" xmlns:xlink=\"http://www.w3.org/1999/xlink\" contentScriptType=\"application/ecmascript\" contentStyleType=\"text/css\" height=\"221px\" preserveAspectRatio=\"none\" style=\"width:213px;height:221px;\" version=\"1.1\" viewBox=\"0 0 213 221\" width=\"213px\" zoomAndPan=\"magnify\"><defs/><g><!--MD5=[fbc87193dbaf4d95561dea2c320d4a47]\n",
       "cluster E1--><a href=\"psysml:28439c61-0f75-41f9-9e39-c7479ce99829\" target=\"_top\" title=\"psysml:28439c61-0f75-41f9-9e39-c7479ce99829\" xlink:actuate=\"onRequest\" xlink:href=\"psysml:28439c61-0f75-41f9-9e39-c7479ce99829\" xlink:show=\"new\" xlink:title=\"psysml:28439c61-0f75-41f9-9e39-c7479ce99829\" xlink:type=\"simple\"><polygon fill=\"#FFFFFF\" points=\"16,6,34,6,41,28.2969,191,28.2969,191,209,16,209,16,6\" style=\"stroke: #000000; stroke-width: 1.5;\"/><line style=\"stroke: #000000; stroke-width: 1.5;\" x1=\"16\" x2=\"41\" y1=\"28.2969\" y2=\"28.2969\"/><text fill=\"#000000\" font-family=\"sans-serif\" font-size=\"14\" font-weight=\"bold\" lengthAdjust=\"spacingAndGlyphs\" textLength=\"12\" x=\"20\" y=\"20.9951\">Q</text></a><!--MD5=[b4997ac47864f28c2f74865a473b2911]\n",
       "class E2--><a href=\"psysml:ef5bd6a7-9b0c-4f9f-9d58-83550a9f52f0\" target=\"_top\" title=\"psysml:ef5bd6a7-9b0c-4f9f-9d58-83550a9f52f0\" xlink:actuate=\"onRequest\" xlink:href=\"psysml:ef5bd6a7-9b0c-4f9f-9d58-83550a9f52f0\" xlink:show=\"new\" xlink:title=\"psysml:ef5bd6a7-9b0c-4f9f-9d58-83550a9f52f0\" xlink:type=\"simple\"><rect fill=\"#FFFFFF\" height=\"45.9375\" id=\"E2\" rx=\"10\" ry=\"10\" style=\"stroke: #383838; stroke-width: 1.5;\" width=\"42\" x=\"133\" y=\"41\"/><text fill=\"#000000\" font-family=\"sans-serif\" font-size=\"12\" font-style=\"italic\" lengthAdjust=\"spacingAndGlyphs\" textLength=\"40\" x=\"134\" y=\"57.1387\">«part»</text><text fill=\"#000000\" font-family=\"sans-serif\" font-size=\"12\" lengthAdjust=\"spacingAndGlyphs\" textLength=\"4\" x=\"152\" y=\"71.1074\">f</text><line style=\"stroke: #383838; stroke-width: 1.5;\" x1=\"134\" x2=\"174\" y1=\"78.9375\" y2=\"78.9375\"/></a><!--MD5=[09b614a08d8cba4a07c9adeb5e0fee81]\n",
       "class E3--><a href=\"psysml:b70a2483-525b-464a-8d4b-4d166d754785\" target=\"_top\" title=\"psysml:b70a2483-525b-464a-8d4b-4d166d754785\" xlink:actuate=\"onRequest\" xlink:href=\"psysml:b70a2483-525b-464a-8d4b-4d166d754785\" xlink:show=\"new\" xlink:title=\"psysml:b70a2483-525b-464a-8d4b-4d166d754785\" xlink:type=\"simple\"><rect fill=\"#FFFFFF\" height=\"45.9375\" id=\"E3\" rx=\"10\" ry=\"10\" style=\"stroke: #383838; stroke-width: 1.5;\" width=\"42\" x=\"133\" y=\"147\"/><text fill=\"#000000\" font-family=\"sans-serif\" font-size=\"12\" font-style=\"italic\" lengthAdjust=\"spacingAndGlyphs\" textLength=\"40\" x=\"134\" y=\"163.1387\">«part»</text><text fill=\"#000000\" font-family=\"sans-serif\" font-size=\"12\" lengthAdjust=\"spacingAndGlyphs\" textLength=\"8\" x=\"150\" y=\"177.1074\">a</text><line style=\"stroke: #383838; stroke-width: 1.5;\" x1=\"134\" x2=\"174\" y1=\"184.9375\" y2=\"184.9375\"/></a><!--MD5=[ebbe1d658d1005bcc118a6aa81145e00]\n",
       "class E4--><a href=\"psysml:76b80061-5d22-4116-930d-3b6f4cd610b8\" target=\"_top\" title=\"psysml:76b80061-5d22-4116-930d-3b6f4cd610b8\" xlink:actuate=\"onRequest\" xlink:href=\"psysml:76b80061-5d22-4116-930d-3b6f4cd610b8\" xlink:show=\"new\" xlink:title=\"psysml:76b80061-5d22-4116-930d-3b6f4cd610b8\" xlink:type=\"simple\"><rect fill=\"#FFFFFF\" height=\"45.9375\" id=\"E4\" style=\"stroke: #383838; stroke-width: 1.5;\" width=\"66\" x=\"32\" y=\"41\"/><text fill=\"#000000\" font-family=\"sans-serif\" font-size=\"12\" font-style=\"italic\" lengthAdjust=\"spacingAndGlyphs\" textLength=\"64\" x=\"33\" y=\"57.1387\">«part def»</text><text fill=\"#000000\" font-family=\"sans-serif\" font-size=\"12\" lengthAdjust=\"spacingAndGlyphs\" textLength=\"8\" x=\"61\" y=\"71.1074\">C</text><line style=\"stroke: #383838; stroke-width: 1.5;\" x1=\"33\" x2=\"97\" y1=\"78.9375\" y2=\"78.9375\"/></a><!--MD5=[270fce915f116d4de14055a7c1d9a0f3]\n",
       "class E5--><a href=\"psysml:92e0160d-75a4-4892-b826-902f6ecde3a0\" target=\"_top\" title=\"psysml:92e0160d-75a4-4892-b826-902f6ecde3a0\" xlink:actuate=\"onRequest\" xlink:href=\"psysml:92e0160d-75a4-4892-b826-902f6ecde3a0\" xlink:show=\"new\" xlink:title=\"psysml:92e0160d-75a4-4892-b826-902f6ecde3a0\" xlink:type=\"simple\"><rect fill=\"#FFFFFF\" height=\"45.9375\" id=\"E5\" rx=\"10\" ry=\"10\" style=\"stroke: #383838; stroke-width: 1.5;\" width=\"42\" x=\"44\" y=\"147\"/><text fill=\"#000000\" font-family=\"sans-serif\" font-size=\"12\" font-style=\"italic\" lengthAdjust=\"spacingAndGlyphs\" textLength=\"40\" x=\"45\" y=\"163.1387\">«part»</text><text fill=\"#000000\" font-family=\"sans-serif\" font-size=\"12\" lengthAdjust=\"spacingAndGlyphs\" textLength=\"8\" x=\"61\" y=\"177.1074\">g</text><line style=\"stroke: #383838; stroke-width: 1.5;\" x1=\"45\" x2=\"85\" y1=\"184.9375\" y2=\"184.9375\"/></a><!--MD5=[209b3feb70ccb6233bfe1053d122c12c]\n",
       "reverse link E2 to E3--><a href=\"psysml:b70a2483-525b-464a-8d4b-4d166d754785\" target=\"_top\" title=\"psysml:b70a2483-525b-464a-8d4b-4d166d754785\" xlink:actuate=\"onRequest\" xlink:href=\"psysml:b70a2483-525b-464a-8d4b-4d166d754785\" xlink:show=\"new\" xlink:title=\"psysml:b70a2483-525b-464a-8d4b-4d166d754785\" xlink:type=\"simple\"><path d=\"M154,100.44 C154,115.87 154,133.47 154,146.98 \" fill=\"none\" id=\"E2&lt;-E3\" style=\"stroke: #383838; stroke-width: 1.0;\"/><polygon fill=\"#383838\" points=\"154,87.06,150,93.06,154,99.06,158,93.06,154,87.06\" style=\"stroke: #383838; stroke-width: 1.0;\"/></a><!--MD5=[62aa6af11e70f752912c1cb0466f24f7]\n",
       "reverse link E4 to E5--><a href=\"psysml:92e0160d-75a4-4892-b826-902f6ecde3a0\" target=\"_top\" title=\"psysml:92e0160d-75a4-4892-b826-902f6ecde3a0\" xlink:actuate=\"onRequest\" xlink:href=\"psysml:92e0160d-75a4-4892-b826-902f6ecde3a0\" xlink:show=\"new\" xlink:title=\"psysml:92e0160d-75a4-4892-b826-902f6ecde3a0\" xlink:type=\"simple\"><path d=\"M65,100.44 C65,115.87 65,133.47 65,146.98 \" fill=\"none\" id=\"E4&lt;-E5\" style=\"stroke: #383838; stroke-width: 1.0;\"/><polygon fill=\"#383838\" points=\"65,87.06,61,93.06,65,99.06,69,93.06,65,87.06\" style=\"stroke: #383838; stroke-width: 1.0;\"/></a><!--MD5=[4171c6407d78608161c60cfffd00ed6b]\n",
       "@startuml\r\n",
       " skinparam monochrome true\r\n",
       "skinparam classbackgroundcolor white\r\n",
       "skinparam shadowing false\r\n",
       "skinparam wrapWidth 300\r\n",
       "hide circle\r\n",
       "\r\n",
       "package \"Q\" as E1  [[psysml:28439c61-0f75-41f9-9e39-c7479ce99829 ]]  {\r\n",
       "comp usage \"f\" as E2  <<(T,blue)part>> [[psysml:ef5bd6a7-9b0c-4f9f-9d58-83550a9f52f0 ]] {\r\n",
       "}\r\n",
       "comp usage \"a\" as E3  <<(T,blue)part>> [[psysml:b70a2483-525b-464a-8d4b-4d166d754785 ]] {\r\n",
       "}\r\n",
       "comp def \"C\" as E4  <<(T,blue)part def>> [[psysml:76b80061-5d22-4116-930d-3b6f4cd610b8 ]] {\r\n",
       "}\r\n",
       "comp usage \"g\" as E5  <<(T,blue)part>> [[psysml:92e0160d-75a4-4892-b826-902f6ecde3a0 ]] {\r\n",
       "}\r\n",
       "E2 *- - E3 [[psysml:b70a2483-525b-464a-8d4b-4d166d754785 ]] \r\n",
       "E4 *- - E5 [[psysml:92e0160d-75a4-4892-b826-902f6ecde3a0 ]] \r\n",
       "}\r\n",
       "@enduml\r\n",
       "\n",
       "PlantUML version 1.2020.13(Sat Jun 13 12:26:38 UTC 2020)\n",
       "(EPL source distribution)\n",
       "Java Runtime: OpenJDK Runtime Environment\n",
       "JVM: OpenJDK 64-Bit Server VM\n",
       "Default Encoding: UTF-8\n",
       "Language: en\n",
       "Country: null\n",
       "--></g></svg>"
      ]
     },
     "execution_count": 2,
     "metadata": {},
     "output_type": "execute_result"
    }
   ],
   "source": [
    "%viz --style=\"COMPTREE\" --view=\"Default\" \"Q\""
   ]
  },
  {
   "cell_type": "code",
   "execution_count": 3,
   "id": "reasonable-breathing",
   "metadata": {
    "execution": {
     "iopub.execute_input": "2021-03-25T13:42:06.291625Z",
     "iopub.status.busy": "2021-03-25T13:42:06.291182Z",
     "iopub.status.idle": "2021-03-25T13:42:06.374341Z",
     "shell.execute_reply": "2021-03-25T13:42:06.374805Z"
    }
   },
   "outputs": [
    {
     "data": {
      "image/svg+xml": [
       "<?xml version=\"1.0\" encoding=\"UTF-8\" standalone=\"no\"?><svg xmlns=\"http://www.w3.org/2000/svg\" xmlns:xlink=\"http://www.w3.org/1999/xlink\" contentScriptType=\"application/ecmascript\" contentStyleType=\"text/css\" height=\"221px\" preserveAspectRatio=\"none\" style=\"width:213px;height:221px;\" version=\"1.1\" viewBox=\"0 0 213 221\" width=\"213px\" zoomAndPan=\"magnify\"><defs/><g><!--MD5=[fbc87193dbaf4d95561dea2c320d4a47]\n",
       "cluster E1--><a href=\"psysml:28439c61-0f75-41f9-9e39-c7479ce99829\" target=\"_top\" title=\"psysml:28439c61-0f75-41f9-9e39-c7479ce99829\" xlink:actuate=\"onRequest\" xlink:href=\"psysml:28439c61-0f75-41f9-9e39-c7479ce99829\" xlink:show=\"new\" xlink:title=\"psysml:28439c61-0f75-41f9-9e39-c7479ce99829\" xlink:type=\"simple\"><polygon fill=\"#FFFFFF\" points=\"16,6,34,6,41,28.2969,191,28.2969,191,209,16,209,16,6\" style=\"stroke: #000000; stroke-width: 1.5;\"/><line style=\"stroke: #000000; stroke-width: 1.5;\" x1=\"16\" x2=\"41\" y1=\"28.2969\" y2=\"28.2969\"/><text fill=\"#000000\" font-family=\"sans-serif\" font-size=\"14\" font-weight=\"bold\" lengthAdjust=\"spacingAndGlyphs\" textLength=\"12\" x=\"20\" y=\"20.9951\">Q</text></a><!--MD5=[b4997ac47864f28c2f74865a473b2911]\n",
       "class E2--><a href=\"psysml:ef5bd6a7-9b0c-4f9f-9d58-83550a9f52f0\" target=\"_top\" title=\"psysml:ef5bd6a7-9b0c-4f9f-9d58-83550a9f52f0\" xlink:actuate=\"onRequest\" xlink:href=\"psysml:ef5bd6a7-9b0c-4f9f-9d58-83550a9f52f0\" xlink:show=\"new\" xlink:title=\"psysml:ef5bd6a7-9b0c-4f9f-9d58-83550a9f52f0\" xlink:type=\"simple\"><rect fill=\"#FFFFFF\" height=\"45.9375\" id=\"E2\" rx=\"10\" ry=\"10\" style=\"stroke: #383838; stroke-width: 1.5;\" width=\"42\" x=\"133\" y=\"41\"/><text fill=\"#000000\" font-family=\"sans-serif\" font-size=\"12\" font-style=\"italic\" lengthAdjust=\"spacingAndGlyphs\" textLength=\"40\" x=\"134\" y=\"57.1387\">«part»</text><text fill=\"#000000\" font-family=\"sans-serif\" font-size=\"12\" lengthAdjust=\"spacingAndGlyphs\" textLength=\"4\" x=\"152\" y=\"71.1074\">f</text><line style=\"stroke: #383838; stroke-width: 1.5;\" x1=\"134\" x2=\"174\" y1=\"78.9375\" y2=\"78.9375\"/></a><!--MD5=[09b614a08d8cba4a07c9adeb5e0fee81]\n",
       "class E3--><a href=\"psysml:b70a2483-525b-464a-8d4b-4d166d754785\" target=\"_top\" title=\"psysml:b70a2483-525b-464a-8d4b-4d166d754785\" xlink:actuate=\"onRequest\" xlink:href=\"psysml:b70a2483-525b-464a-8d4b-4d166d754785\" xlink:show=\"new\" xlink:title=\"psysml:b70a2483-525b-464a-8d4b-4d166d754785\" xlink:type=\"simple\"><rect fill=\"#FFFFFF\" height=\"45.9375\" id=\"E3\" rx=\"10\" ry=\"10\" style=\"stroke: #383838; stroke-width: 1.5;\" width=\"42\" x=\"133\" y=\"147\"/><text fill=\"#000000\" font-family=\"sans-serif\" font-size=\"12\" font-style=\"italic\" lengthAdjust=\"spacingAndGlyphs\" textLength=\"40\" x=\"134\" y=\"163.1387\">«part»</text><text fill=\"#000000\" font-family=\"sans-serif\" font-size=\"12\" lengthAdjust=\"spacingAndGlyphs\" textLength=\"8\" x=\"150\" y=\"177.1074\">a</text><line style=\"stroke: #383838; stroke-width: 1.5;\" x1=\"134\" x2=\"174\" y1=\"184.9375\" y2=\"184.9375\"/></a><!--MD5=[ebbe1d658d1005bcc118a6aa81145e00]\n",
       "class E4--><a href=\"psysml:76b80061-5d22-4116-930d-3b6f4cd610b8\" target=\"_top\" title=\"psysml:76b80061-5d22-4116-930d-3b6f4cd610b8\" xlink:actuate=\"onRequest\" xlink:href=\"psysml:76b80061-5d22-4116-930d-3b6f4cd610b8\" xlink:show=\"new\" xlink:title=\"psysml:76b80061-5d22-4116-930d-3b6f4cd610b8\" xlink:type=\"simple\"><rect fill=\"#FFFFFF\" height=\"45.9375\" id=\"E4\" style=\"stroke: #383838; stroke-width: 1.5;\" width=\"66\" x=\"32\" y=\"41\"/><text fill=\"#000000\" font-family=\"sans-serif\" font-size=\"12\" font-style=\"italic\" lengthAdjust=\"spacingAndGlyphs\" textLength=\"64\" x=\"33\" y=\"57.1387\">«part def»</text><text fill=\"#000000\" font-family=\"sans-serif\" font-size=\"12\" lengthAdjust=\"spacingAndGlyphs\" textLength=\"8\" x=\"61\" y=\"71.1074\">C</text><line style=\"stroke: #383838; stroke-width: 1.5;\" x1=\"33\" x2=\"97\" y1=\"78.9375\" y2=\"78.9375\"/></a><!--MD5=[270fce915f116d4de14055a7c1d9a0f3]\n",
       "class E5--><a href=\"psysml:92e0160d-75a4-4892-b826-902f6ecde3a0\" target=\"_top\" title=\"psysml:92e0160d-75a4-4892-b826-902f6ecde3a0\" xlink:actuate=\"onRequest\" xlink:href=\"psysml:92e0160d-75a4-4892-b826-902f6ecde3a0\" xlink:show=\"new\" xlink:title=\"psysml:92e0160d-75a4-4892-b826-902f6ecde3a0\" xlink:type=\"simple\"><rect fill=\"#FFFFFF\" height=\"45.9375\" id=\"E5\" rx=\"10\" ry=\"10\" style=\"stroke: #383838; stroke-width: 1.5;\" width=\"42\" x=\"44\" y=\"147\"/><text fill=\"#000000\" font-family=\"sans-serif\" font-size=\"12\" font-style=\"italic\" lengthAdjust=\"spacingAndGlyphs\" textLength=\"40\" x=\"45\" y=\"163.1387\">«part»</text><text fill=\"#000000\" font-family=\"sans-serif\" font-size=\"12\" lengthAdjust=\"spacingAndGlyphs\" textLength=\"8\" x=\"61\" y=\"177.1074\">g</text><line style=\"stroke: #383838; stroke-width: 1.5;\" x1=\"45\" x2=\"85\" y1=\"184.9375\" y2=\"184.9375\"/></a><!--MD5=[209b3feb70ccb6233bfe1053d122c12c]\n",
       "reverse link E2 to E3--><a href=\"psysml:b70a2483-525b-464a-8d4b-4d166d754785\" target=\"_top\" title=\"psysml:b70a2483-525b-464a-8d4b-4d166d754785\" xlink:actuate=\"onRequest\" xlink:href=\"psysml:b70a2483-525b-464a-8d4b-4d166d754785\" xlink:show=\"new\" xlink:title=\"psysml:b70a2483-525b-464a-8d4b-4d166d754785\" xlink:type=\"simple\"><path d=\"M154,100.44 C154,115.87 154,133.47 154,146.98 \" fill=\"none\" id=\"E2&lt;-E3\" style=\"stroke: #383838; stroke-width: 1.0;\"/><polygon fill=\"#383838\" points=\"154,87.06,150,93.06,154,99.06,158,93.06,154,87.06\" style=\"stroke: #383838; stroke-width: 1.0;\"/></a><!--MD5=[62aa6af11e70f752912c1cb0466f24f7]\n",
       "reverse link E4 to E5--><a href=\"psysml:92e0160d-75a4-4892-b826-902f6ecde3a0\" target=\"_top\" title=\"psysml:92e0160d-75a4-4892-b826-902f6ecde3a0\" xlink:actuate=\"onRequest\" xlink:href=\"psysml:92e0160d-75a4-4892-b826-902f6ecde3a0\" xlink:show=\"new\" xlink:title=\"psysml:92e0160d-75a4-4892-b826-902f6ecde3a0\" xlink:type=\"simple\"><path d=\"M65,100.44 C65,115.87 65,133.47 65,146.98 \" fill=\"none\" id=\"E4&lt;-E5\" style=\"stroke: #383838; stroke-width: 1.0;\"/><polygon fill=\"#383838\" points=\"65,87.06,61,93.06,65,99.06,69,93.06,65,87.06\" style=\"stroke: #383838; stroke-width: 1.0;\"/></a><!--MD5=[4171c6407d78608161c60cfffd00ed6b]\n",
       "@startuml\r\n",
       " skinparam monochrome true\r\n",
       "skinparam classbackgroundcolor white\r\n",
       "skinparam shadowing false\r\n",
       "skinparam wrapWidth 300\r\n",
       "hide circle\r\n",
       "\r\n",
       "package \"Q\" as E1  [[psysml:28439c61-0f75-41f9-9e39-c7479ce99829 ]]  {\r\n",
       "comp usage \"f\" as E2  <<(T,blue)part>> [[psysml:ef5bd6a7-9b0c-4f9f-9d58-83550a9f52f0 ]] {\r\n",
       "}\r\n",
       "comp usage \"a\" as E3  <<(T,blue)part>> [[psysml:b70a2483-525b-464a-8d4b-4d166d754785 ]] {\r\n",
       "}\r\n",
       "comp def \"C\" as E4  <<(T,blue)part def>> [[psysml:76b80061-5d22-4116-930d-3b6f4cd610b8 ]] {\r\n",
       "}\r\n",
       "comp usage \"g\" as E5  <<(T,blue)part>> [[psysml:92e0160d-75a4-4892-b826-902f6ecde3a0 ]] {\r\n",
       "}\r\n",
       "E2 *- - E3 [[psysml:b70a2483-525b-464a-8d4b-4d166d754785 ]] \r\n",
       "E4 *- - E5 [[psysml:92e0160d-75a4-4892-b826-902f6ecde3a0 ]] \r\n",
       "}\r\n",
       "@enduml\r\n",
       "\n",
       "PlantUML version 1.2020.13(Sat Jun 13 12:26:38 UTC 2020)\n",
       "(EPL source distribution)\n",
       "Java Runtime: OpenJDK Runtime Environment\n",
       "JVM: OpenJDK 64-Bit Server VM\n",
       "Default Encoding: UTF-8\n",
       "Language: en\n",
       "Country: null\n",
       "--></g></svg>"
      ]
     },
     "execution_count": 3,
     "metadata": {},
     "output_type": "execute_result"
    }
   ],
   "source": [
    "%viz --style=\"COMPTREE\" --view=\"Tree\" \"Q\""
   ]
  },
  {
   "cell_type": "code",
   "execution_count": 4,
   "id": "genuine-formula",
   "metadata": {
    "execution": {
     "iopub.execute_input": "2021-03-25T13:42:06.426216Z",
     "iopub.status.busy": "2021-03-25T13:42:06.425426Z",
     "iopub.status.idle": "2021-03-25T13:42:06.436901Z",
     "shell.execute_reply": "2021-03-25T13:42:06.437595Z"
    }
   },
   "outputs": [
    {
     "data": {
      "image/svg+xml": [
       "<?xml version=\"1.0\" encoding=\"UTF-8\" standalone=\"no\"?><svg xmlns=\"http://www.w3.org/2000/svg\" xmlns:xlink=\"http://www.w3.org/1999/xlink\" contentScriptType=\"application/ecmascript\" contentStyleType=\"text/css\" height=\"12px\" preserveAspectRatio=\"none\" style=\"width:12px;height:12px;\" version=\"1.1\" viewBox=\"0 0 12 12\" width=\"12px\" zoomAndPan=\"magnify\"><defs/><g><!--MD5=[f19188ef49e11757b5c46753f95d9edc]\n",
       "@startuml\r\n",
       " skinparam monochrome true\r\n",
       "skinparam classbackgroundcolor white\r\n",
       "skinparam shadowing false\r\n",
       "skinparam wrapWidth 300\r\n",
       "hide circle\r\n",
       "\r\n",
       "@enduml\r\n",
       "\n",
       "PlantUML version 1.2020.13(Sat Jun 13 12:26:38 UTC 2020)\n",
       "(EPL source distribution)\n",
       "Java Runtime: OpenJDK Runtime Environment\n",
       "JVM: OpenJDK 64-Bit Server VM\n",
       "Default Encoding: UTF-8\n",
       "Language: en\n",
       "Country: null\n",
       "--></g></svg>"
      ]
     },
     "execution_count": 4,
     "metadata": {},
     "output_type": "execute_result"
    }
   ],
   "source": [
    "%viz --style=\"COMPTREE\" --view=\"State\" \"Q\""
   ]
  },
  {
   "cell_type": "code",
   "execution_count": 5,
   "id": "executive-deployment",
   "metadata": {
    "execution": {
     "iopub.execute_input": "2021-03-25T13:42:06.488964Z",
     "iopub.status.busy": "2021-03-25T13:42:06.488520Z",
     "iopub.status.idle": "2021-03-25T13:42:06.579436Z",
     "shell.execute_reply": "2021-03-25T13:42:06.579901Z"
    }
   },
   "outputs": [
    {
     "data": {
      "image/svg+xml": [
       "<?xml version=\"1.0\" encoding=\"UTF-8\" standalone=\"no\"?><svg xmlns=\"http://www.w3.org/2000/svg\" xmlns:xlink=\"http://www.w3.org/1999/xlink\" contentScriptType=\"application/ecmascript\" contentStyleType=\"text/css\" height=\"192px\" preserveAspectRatio=\"none\" style=\"width:279px;height:192px;\" version=\"1.1\" viewBox=\"0 0 279 192\" width=\"279px\" zoomAndPan=\"magnify\"><defs/><g><!--MD5=[fbc87193dbaf4d95561dea2c320d4a47]\n",
       "cluster E1--><a href=\"psysml:28439c61-0f75-41f9-9e39-c7479ce99829\" target=\"_top\" title=\"psysml:28439c61-0f75-41f9-9e39-c7479ce99829\" xlink:actuate=\"onRequest\" xlink:href=\"psysml:28439c61-0f75-41f9-9e39-c7479ce99829\" xlink:show=\"new\" xlink:title=\"psysml:28439c61-0f75-41f9-9e39-c7479ce99829\" xlink:type=\"simple\"><polygon fill=\"#FFFFFF\" points=\"16,6,34,6,41,28.2969,257,28.2969,257,180,16,180,16,6\" style=\"stroke: #000000; stroke-width: 1.5;\"/><line style=\"stroke: #000000; stroke-width: 1.5;\" x1=\"16\" x2=\"41\" y1=\"28.2969\" y2=\"28.2969\"/><text fill=\"#000000\" font-family=\"sans-serif\" font-size=\"14\" font-weight=\"bold\" lengthAdjust=\"spacingAndGlyphs\" textLength=\"12\" x=\"20\" y=\"20.9951\">Q</text></a><!--MD5=[e4f7fae6ed58524ba242bb0b0d3be6b7]\n",
       "cluster E2--><a href=\"psysml:ef5bd6a7-9b0c-4f9f-9d58-83550a9f52f0\" target=\"_top\" title=\"psysml:ef5bd6a7-9b0c-4f9f-9d58-83550a9f52f0\" xlink:actuate=\"onRequest\" xlink:href=\"psysml:ef5bd6a7-9b0c-4f9f-9d58-83550a9f52f0\" xlink:show=\"new\" xlink:title=\"psysml:ef5bd6a7-9b0c-4f9f-9d58-83550a9f52f0\" xlink:type=\"simple\"><rect fill=\"#FFFFFF\" height=\"91\" id=\"E2\" rx=\"10\" ry=\"10\" style=\"stroke: #383838; stroke-width: 1.5;\" width=\"82\" x=\"151\" y=\"65\"/><rect fill=\"#F8F8F8\" height=\"23.9688\" rx=\"10\" ry=\"10\" style=\"stroke: #F8F8F8; stroke-width: 1.5;\" width=\"82\" x=\"151\" y=\"65\"/><rect fill=\"#F8F8F8\" height=\"10\" style=\"stroke: #F8F8F8; stroke-width: 1.5;\" width=\"82\" x=\"151\" y=\"78.9688\"/><rect fill=\"none\" height=\"91\" id=\"E2\" rx=\"10\" ry=\"10\" style=\"stroke: #383838; stroke-width: 1.5;\" width=\"82\" x=\"151\" y=\"65\"/><text fill=\"#000000\" font-family=\"sans-serif\" font-size=\"12\" lengthAdjust=\"spacingAndGlyphs\" textLength=\"4\" x=\"190\" y=\"81.1387\">f</text><line style=\"stroke: #383838; stroke-width: 1.0;\" x1=\"151\" x2=\"233\" y1=\"88.9688\" y2=\"88.9688\"/></a><!--MD5=[f6df4d0ebaf0b5dfb2ced0ae5af7c670]\n",
       "cluster E4--><a href=\"psysml:76b80061-5d22-4116-930d-3b6f4cd610b8\" target=\"_top\" title=\"psysml:76b80061-5d22-4116-930d-3b6f4cd610b8\" xlink:actuate=\"onRequest\" xlink:href=\"psysml:76b80061-5d22-4116-930d-3b6f4cd610b8\" xlink:show=\"new\" xlink:title=\"psysml:76b80061-5d22-4116-930d-3b6f4cd610b8\" xlink:type=\"simple\"><rect fill=\"#FFFFFF\" height=\"107\" id=\"E4\" style=\"stroke: #383838; stroke-width: 1.5;\" width=\"87\" x=\"40\" y=\"49\"/><rect fill=\"#F8F8F8\" height=\"37.9375\" style=\"stroke: #383838; stroke-width: 1.5;\" width=\"87\" x=\"40\" y=\"49\"/><text fill=\"#000000\" font-family=\"sans-serif\" font-size=\"12\" font-style=\"italic\" lengthAdjust=\"spacingAndGlyphs\" textLength=\"64\" x=\"51.5\" y=\"65.1387\">«part def»</text><text fill=\"#000000\" font-family=\"sans-serif\" font-size=\"12\" lengthAdjust=\"spacingAndGlyphs\" textLength=\"8\" x=\"79.5\" y=\"79.1074\">C</text></a><g id=\"E1.E2.E3\"><a href=\"psysml:b70a2483-525b-464a-8d4b-4d166d754785\" target=\"_top\" title=\"psysml:b70a2483-525b-464a-8d4b-4d166d754785\" xlink:actuate=\"onRequest\" xlink:href=\"psysml:b70a2483-525b-464a-8d4b-4d166d754785\" xlink:show=\"new\" xlink:title=\"psysml:b70a2483-525b-464a-8d4b-4d166d754785\" xlink:type=\"simple\"><rect fill=\"#FFFFFF\" height=\"40\" id=\"E3\" rx=\"10\" ry=\"10\" style=\"stroke: #383838; stroke-width: 1.5;\" width=\"50\" x=\"167\" y=\"100\"/><rect fill=\"#F8F8F8\" height=\"23.9688\" rx=\"10\" ry=\"10\" style=\"stroke: #F8F8F8; stroke-width: 1.5;\" width=\"50\" x=\"167\" y=\"100\"/><rect fill=\"#F8F8F8\" height=\"10\" style=\"stroke: #F8F8F8; stroke-width: 1.5;\" width=\"50\" x=\"167\" y=\"113.9688\"/><rect fill=\"none\" height=\"40\" id=\"E3\" rx=\"10\" ry=\"10\" style=\"stroke: #383838; stroke-width: 1.5;\" width=\"50\" x=\"167\" y=\"100\"/><text fill=\"#000000\" font-family=\"sans-serif\" font-size=\"12\" lengthAdjust=\"spacingAndGlyphs\" textLength=\"8\" x=\"188\" y=\"116.1387\">a</text></a></g><g id=\"E1.E4.E5\"><a href=\"psysml:92e0160d-75a4-4892-b826-902f6ecde3a0\" target=\"_top\" title=\"psysml:92e0160d-75a4-4892-b826-902f6ecde3a0\" xlink:actuate=\"onRequest\" xlink:href=\"psysml:92e0160d-75a4-4892-b826-902f6ecde3a0\" xlink:show=\"new\" xlink:title=\"psysml:92e0160d-75a4-4892-b826-902f6ecde3a0\" xlink:type=\"simple\"><rect fill=\"#FFFFFF\" height=\"40\" id=\"E5\" rx=\"10\" ry=\"10\" style=\"stroke: #383838; stroke-width: 1.5;\" width=\"50\" x=\"58\" y=\"100\"/><rect fill=\"#F8F8F8\" height=\"23.9688\" rx=\"10\" ry=\"10\" style=\"stroke: #F8F8F8; stroke-width: 1.5;\" width=\"50\" x=\"58\" y=\"100\"/><rect fill=\"#F8F8F8\" height=\"10\" style=\"stroke: #F8F8F8; stroke-width: 1.5;\" width=\"50\" x=\"58\" y=\"113.9688\"/><rect fill=\"none\" height=\"40\" id=\"E5\" rx=\"10\" ry=\"10\" style=\"stroke: #383838; stroke-width: 1.5;\" width=\"50\" x=\"58\" y=\"100\"/><text fill=\"#000000\" font-family=\"sans-serif\" font-size=\"12\" lengthAdjust=\"spacingAndGlyphs\" textLength=\"8\" x=\"79\" y=\"116.1387\">g</text></a></g><!--MD5=[2d32c34e965f38bc2dbe2c86ea77b0c0]\n",
       "@startuml\r\n",
       "skinparam ranksep 8\r\n",
       "skinparam rectangle {\r\n",
       " backgroundColor<<block>> LightGreen\r\n",
       "}\r\n",
       " skinparam monochrome true\r\n",
       "skinparam classbackgroundcolor white\r\n",
       "skinparam shadowing false\r\n",
       "skinparam wrapWidth 300\r\n",
       "hide circle\r\n",
       "\r\n",
       "package \"Q\" as E1  [[psysml:28439c61-0f75-41f9-9e39-c7479ce99829 ]]  {\r\n",
       "rec usage \"f\" as E2  [[psysml:ef5bd6a7-9b0c-4f9f-9d58-83550a9f52f0 ]] {\r\n",
       "rec usage \"a\" as E3  [[psysml:b70a2483-525b-464a-8d4b-4d166d754785 ]] {\r\n",
       "}\r\n",
       "}\r\n",
       "rec def \"C\" as E4  <<(T,blue)part def>> [[psysml:76b80061-5d22-4116-930d-3b6f4cd610b8 ]] {\r\n",
       "rec usage \"g\" as E5  [[psysml:92e0160d-75a4-4892-b826-902f6ecde3a0 ]] {\r\n",
       "}\r\n",
       "}\r\n",
       "}\r\n",
       "@enduml\r\n",
       "\n",
       "PlantUML version 1.2020.13(Sat Jun 13 12:26:38 UTC 2020)\n",
       "(EPL source distribution)\n",
       "Java Runtime: OpenJDK Runtime Environment\n",
       "JVM: OpenJDK 64-Bit Server VM\n",
       "Default Encoding: UTF-8\n",
       "Language: en\n",
       "Country: null\n",
       "--></g></svg>"
      ]
     },
     "execution_count": 5,
     "metadata": {},
     "output_type": "execute_result"
    }
   ],
   "source": [
    "%viz --style=\"COMPTREE\" --view=\"Interconnection\" \"Q\""
   ]
  },
  {
   "cell_type": "code",
   "execution_count": 6,
   "id": "technological-constitutional",
   "metadata": {
    "execution": {
     "iopub.execute_input": "2021-03-25T13:42:06.631592Z",
     "iopub.status.busy": "2021-03-25T13:42:06.630667Z",
     "iopub.status.idle": "2021-03-25T13:42:06.642099Z",
     "shell.execute_reply": "2021-03-25T13:42:06.641737Z"
    }
   },
   "outputs": [
    {
     "data": {
      "image/svg+xml": [
       "<?xml version=\"1.0\" encoding=\"UTF-8\" standalone=\"no\"?><svg xmlns=\"http://www.w3.org/2000/svg\" xmlns:xlink=\"http://www.w3.org/1999/xlink\" contentScriptType=\"application/ecmascript\" contentStyleType=\"text/css\" height=\"12px\" preserveAspectRatio=\"none\" style=\"width:12px;height:12px;\" version=\"1.1\" viewBox=\"0 0 12 12\" width=\"12px\" zoomAndPan=\"magnify\"><defs/><g><!--MD5=[655b888544ca4751ea36af1068543f84]\n",
       "@startuml\r\n",
       "skinparam ranksep 8\r\n",
       " skinparam monochrome true\r\n",
       "skinparam classbackgroundcolor white\r\n",
       "skinparam shadowing false\r\n",
       "skinparam wrapWidth 300\r\n",
       "hide circle\r\n",
       "\r\n",
       "@enduml\r\n",
       "\n",
       "PlantUML version 1.2020.13(Sat Jun 13 12:26:38 UTC 2020)\n",
       "(EPL source distribution)\n",
       "Java Runtime: OpenJDK Runtime Environment\n",
       "JVM: OpenJDK 64-Bit Server VM\n",
       "Default Encoding: UTF-8\n",
       "Language: en\n",
       "Country: null\n",
       "--></g></svg>"
      ]
     },
     "execution_count": 6,
     "metadata": {},
     "output_type": "execute_result"
    }
   ],
   "source": [
    "%viz --style=\"COMPTREE\" --view=\"Action\" \"Q\""
   ]
  },
  {
   "cell_type": "code",
   "execution_count": 7,
   "id": "fluid-sending",
   "metadata": {
    "execution": {
     "iopub.execute_input": "2021-03-25T13:42:06.693911Z",
     "iopub.status.busy": "2021-03-25T13:42:06.693355Z",
     "iopub.status.idle": "2021-03-25T13:42:06.764766Z",
     "shell.execute_reply": "2021-03-25T13:42:06.765456Z"
    }
   },
   "outputs": [
    {
     "data": {
      "image/svg+xml": [
       "<?xml version=\"1.0\" encoding=\"UTF-8\" standalone=\"no\"?><svg xmlns=\"http://www.w3.org/2000/svg\" xmlns:xlink=\"http://www.w3.org/1999/xlink\" contentScriptType=\"application/ecmascript\" contentStyleType=\"text/css\" height=\"221px\" preserveAspectRatio=\"none\" style=\"width:213px;height:221px;\" version=\"1.1\" viewBox=\"0 0 213 221\" width=\"213px\" zoomAndPan=\"magnify\"><defs/><g><!--MD5=[fbc87193dbaf4d95561dea2c320d4a47]\n",
       "cluster E1--><a href=\"psysml:28439c61-0f75-41f9-9e39-c7479ce99829\" target=\"_top\" title=\"psysml:28439c61-0f75-41f9-9e39-c7479ce99829\" xlink:actuate=\"onRequest\" xlink:href=\"psysml:28439c61-0f75-41f9-9e39-c7479ce99829\" xlink:show=\"new\" xlink:title=\"psysml:28439c61-0f75-41f9-9e39-c7479ce99829\" xlink:type=\"simple\"><polygon fill=\"#FFFFFF\" points=\"16,6,34,6,41,28.2969,191,28.2969,191,209,16,209,16,6\" style=\"stroke: #000000; stroke-width: 1.5;\"/><line style=\"stroke: #000000; stroke-width: 1.5;\" x1=\"16\" x2=\"41\" y1=\"28.2969\" y2=\"28.2969\"/><text fill=\"#000000\" font-family=\"sans-serif\" font-size=\"14\" font-weight=\"bold\" lengthAdjust=\"spacingAndGlyphs\" textLength=\"12\" x=\"20\" y=\"20.9951\">Q</text></a><!--MD5=[b4997ac47864f28c2f74865a473b2911]\n",
       "class E2--><a href=\"psysml:ef5bd6a7-9b0c-4f9f-9d58-83550a9f52f0\" target=\"_top\" title=\"psysml:ef5bd6a7-9b0c-4f9f-9d58-83550a9f52f0\" xlink:actuate=\"onRequest\" xlink:href=\"psysml:ef5bd6a7-9b0c-4f9f-9d58-83550a9f52f0\" xlink:show=\"new\" xlink:title=\"psysml:ef5bd6a7-9b0c-4f9f-9d58-83550a9f52f0\" xlink:type=\"simple\"><rect fill=\"#FFFFFF\" height=\"45.9375\" id=\"E2\" rx=\"10\" ry=\"10\" style=\"stroke: #383838; stroke-width: 1.5;\" width=\"42\" x=\"133\" y=\"41\"/><text fill=\"#000000\" font-family=\"sans-serif\" font-size=\"12\" font-style=\"italic\" lengthAdjust=\"spacingAndGlyphs\" textLength=\"40\" x=\"134\" y=\"57.1387\">«part»</text><text fill=\"#000000\" font-family=\"sans-serif\" font-size=\"12\" lengthAdjust=\"spacingAndGlyphs\" textLength=\"4\" x=\"152\" y=\"71.1074\">f</text><line style=\"stroke: #383838; stroke-width: 1.5;\" x1=\"134\" x2=\"174\" y1=\"78.9375\" y2=\"78.9375\"/></a><!--MD5=[09b614a08d8cba4a07c9adeb5e0fee81]\n",
       "class E3--><a href=\"psysml:b70a2483-525b-464a-8d4b-4d166d754785\" target=\"_top\" title=\"psysml:b70a2483-525b-464a-8d4b-4d166d754785\" xlink:actuate=\"onRequest\" xlink:href=\"psysml:b70a2483-525b-464a-8d4b-4d166d754785\" xlink:show=\"new\" xlink:title=\"psysml:b70a2483-525b-464a-8d4b-4d166d754785\" xlink:type=\"simple\"><rect fill=\"#FFFFFF\" height=\"45.9375\" id=\"E3\" rx=\"10\" ry=\"10\" style=\"stroke: #383838; stroke-width: 1.5;\" width=\"42\" x=\"133\" y=\"147\"/><text fill=\"#000000\" font-family=\"sans-serif\" font-size=\"12\" font-style=\"italic\" lengthAdjust=\"spacingAndGlyphs\" textLength=\"40\" x=\"134\" y=\"163.1387\">«part»</text><text fill=\"#000000\" font-family=\"sans-serif\" font-size=\"12\" lengthAdjust=\"spacingAndGlyphs\" textLength=\"8\" x=\"150\" y=\"177.1074\">a</text><line style=\"stroke: #383838; stroke-width: 1.5;\" x1=\"134\" x2=\"174\" y1=\"184.9375\" y2=\"184.9375\"/></a><!--MD5=[ebbe1d658d1005bcc118a6aa81145e00]\n",
       "class E4--><a href=\"psysml:76b80061-5d22-4116-930d-3b6f4cd610b8\" target=\"_top\" title=\"psysml:76b80061-5d22-4116-930d-3b6f4cd610b8\" xlink:actuate=\"onRequest\" xlink:href=\"psysml:76b80061-5d22-4116-930d-3b6f4cd610b8\" xlink:show=\"new\" xlink:title=\"psysml:76b80061-5d22-4116-930d-3b6f4cd610b8\" xlink:type=\"simple\"><rect fill=\"#FFFFFF\" height=\"45.9375\" id=\"E4\" style=\"stroke: #383838; stroke-width: 1.5;\" width=\"66\" x=\"32\" y=\"41\"/><text fill=\"#000000\" font-family=\"sans-serif\" font-size=\"12\" font-style=\"italic\" lengthAdjust=\"spacingAndGlyphs\" textLength=\"64\" x=\"33\" y=\"57.1387\">«part def»</text><text fill=\"#000000\" font-family=\"sans-serif\" font-size=\"12\" lengthAdjust=\"spacingAndGlyphs\" textLength=\"8\" x=\"61\" y=\"71.1074\">C</text><line style=\"stroke: #383838; stroke-width: 1.5;\" x1=\"33\" x2=\"97\" y1=\"78.9375\" y2=\"78.9375\"/></a><!--MD5=[270fce915f116d4de14055a7c1d9a0f3]\n",
       "class E5--><a href=\"psysml:92e0160d-75a4-4892-b826-902f6ecde3a0\" target=\"_top\" title=\"psysml:92e0160d-75a4-4892-b826-902f6ecde3a0\" xlink:actuate=\"onRequest\" xlink:href=\"psysml:92e0160d-75a4-4892-b826-902f6ecde3a0\" xlink:show=\"new\" xlink:title=\"psysml:92e0160d-75a4-4892-b826-902f6ecde3a0\" xlink:type=\"simple\"><rect fill=\"#FFFFFF\" height=\"45.9375\" id=\"E5\" rx=\"10\" ry=\"10\" style=\"stroke: #383838; stroke-width: 1.5;\" width=\"42\" x=\"44\" y=\"147\"/><text fill=\"#000000\" font-family=\"sans-serif\" font-size=\"12\" font-style=\"italic\" lengthAdjust=\"spacingAndGlyphs\" textLength=\"40\" x=\"45\" y=\"163.1387\">«part»</text><text fill=\"#000000\" font-family=\"sans-serif\" font-size=\"12\" lengthAdjust=\"spacingAndGlyphs\" textLength=\"8\" x=\"61\" y=\"177.1074\">g</text><line style=\"stroke: #383838; stroke-width: 1.5;\" x1=\"45\" x2=\"85\" y1=\"184.9375\" y2=\"184.9375\"/></a><!--MD5=[209b3feb70ccb6233bfe1053d122c12c]\n",
       "reverse link E2 to E3--><a href=\"psysml:b70a2483-525b-464a-8d4b-4d166d754785\" target=\"_top\" title=\"psysml:b70a2483-525b-464a-8d4b-4d166d754785\" xlink:actuate=\"onRequest\" xlink:href=\"psysml:b70a2483-525b-464a-8d4b-4d166d754785\" xlink:show=\"new\" xlink:title=\"psysml:b70a2483-525b-464a-8d4b-4d166d754785\" xlink:type=\"simple\"><path d=\"M154,100.44 C154,115.87 154,133.47 154,146.98 \" fill=\"none\" id=\"E2&lt;-E3\" style=\"stroke: #383838; stroke-width: 1.0;\"/><polygon fill=\"#383838\" points=\"154,87.06,150,93.06,154,99.06,158,93.06,154,87.06\" style=\"stroke: #383838; stroke-width: 1.0;\"/></a><!--MD5=[62aa6af11e70f752912c1cb0466f24f7]\n",
       "reverse link E4 to E5--><a href=\"psysml:92e0160d-75a4-4892-b826-902f6ecde3a0\" target=\"_top\" title=\"psysml:92e0160d-75a4-4892-b826-902f6ecde3a0\" xlink:actuate=\"onRequest\" xlink:href=\"psysml:92e0160d-75a4-4892-b826-902f6ecde3a0\" xlink:show=\"new\" xlink:title=\"psysml:92e0160d-75a4-4892-b826-902f6ecde3a0\" xlink:type=\"simple\"><path d=\"M65,100.44 C65,115.87 65,133.47 65,146.98 \" fill=\"none\" id=\"E4&lt;-E5\" style=\"stroke: #383838; stroke-width: 1.0;\"/><polygon fill=\"#383838\" points=\"65,87.06,61,93.06,65,99.06,69,93.06,65,87.06\" style=\"stroke: #383838; stroke-width: 1.0;\"/></a><!--MD5=[4171c6407d78608161c60cfffd00ed6b]\n",
       "@startuml\r\n",
       " skinparam monochrome true\r\n",
       "skinparam classbackgroundcolor white\r\n",
       "skinparam shadowing false\r\n",
       "skinparam wrapWidth 300\r\n",
       "hide circle\r\n",
       "\r\n",
       "package \"Q\" as E1  [[psysml:28439c61-0f75-41f9-9e39-c7479ce99829 ]]  {\r\n",
       "comp usage \"f\" as E2  <<(T,blue)part>> [[psysml:ef5bd6a7-9b0c-4f9f-9d58-83550a9f52f0 ]] {\r\n",
       "}\r\n",
       "comp usage \"a\" as E3  <<(T,blue)part>> [[psysml:b70a2483-525b-464a-8d4b-4d166d754785 ]] {\r\n",
       "}\r\n",
       "comp def \"C\" as E4  <<(T,blue)part def>> [[psysml:76b80061-5d22-4116-930d-3b6f4cd610b8 ]] {\r\n",
       "}\r\n",
       "comp usage \"g\" as E5  <<(T,blue)part>> [[psysml:92e0160d-75a4-4892-b826-902f6ecde3a0 ]] {\r\n",
       "}\r\n",
       "E2 *- - E3 [[psysml:b70a2483-525b-464a-8d4b-4d166d754785 ]] \r\n",
       "E4 *- - E5 [[psysml:92e0160d-75a4-4892-b826-902f6ecde3a0 ]] \r\n",
       "}\r\n",
       "@enduml\r\n",
       "\n",
       "PlantUML version 1.2020.13(Sat Jun 13 12:26:38 UTC 2020)\n",
       "(EPL source distribution)\n",
       "Java Runtime: OpenJDK Runtime Environment\n",
       "JVM: OpenJDK 64-Bit Server VM\n",
       "Default Encoding: UTF-8\n",
       "Language: en\n",
       "Country: null\n",
       "--></g></svg>"
      ]
     },
     "execution_count": 7,
     "metadata": {},
     "output_type": "execute_result"
    }
   ],
   "source": [
    "%viz --style=\"COMPTREE\" --view=\"Sequence\" \"Q\""
   ]
  },
  {
   "cell_type": "code",
   "execution_count": 8,
   "id": "suspected-damages",
   "metadata": {
    "execution": {
     "iopub.execute_input": "2021-03-25T13:42:06.817109Z",
     "iopub.status.busy": "2021-03-25T13:42:06.816517Z",
     "iopub.status.idle": "2021-03-25T13:42:06.882434Z",
     "shell.execute_reply": "2021-03-25T13:42:06.882808Z"
    }
   },
   "outputs": [
    {
     "data": {
      "image/svg+xml": [
       "<?xml version=\"1.0\" encoding=\"UTF-8\" standalone=\"no\"?><svg xmlns=\"http://www.w3.org/2000/svg\" xmlns:xlink=\"http://www.w3.org/1999/xlink\" contentScriptType=\"application/ecmascript\" contentStyleType=\"text/css\" height=\"221px\" preserveAspectRatio=\"none\" style=\"width:213px;height:221px;\" version=\"1.1\" viewBox=\"0 0 213 221\" width=\"213px\" zoomAndPan=\"magnify\"><defs/><g><!--MD5=[fbc87193dbaf4d95561dea2c320d4a47]\n",
       "cluster E1--><a href=\"psysml:28439c61-0f75-41f9-9e39-c7479ce99829\" target=\"_top\" title=\"psysml:28439c61-0f75-41f9-9e39-c7479ce99829\" xlink:actuate=\"onRequest\" xlink:href=\"psysml:28439c61-0f75-41f9-9e39-c7479ce99829\" xlink:show=\"new\" xlink:title=\"psysml:28439c61-0f75-41f9-9e39-c7479ce99829\" xlink:type=\"simple\"><polygon fill=\"#FFFFFF\" points=\"16,6,34,6,41,28.2969,191,28.2969,191,209,16,209,16,6\" style=\"stroke: #000000; stroke-width: 1.5;\"/><line style=\"stroke: #000000; stroke-width: 1.5;\" x1=\"16\" x2=\"41\" y1=\"28.2969\" y2=\"28.2969\"/><text fill=\"#000000\" font-family=\"sans-serif\" font-size=\"14\" font-weight=\"bold\" lengthAdjust=\"spacingAndGlyphs\" textLength=\"12\" x=\"20\" y=\"20.9951\">Q</text></a><!--MD5=[b4997ac47864f28c2f74865a473b2911]\n",
       "class E2--><a href=\"psysml:ef5bd6a7-9b0c-4f9f-9d58-83550a9f52f0\" target=\"_top\" title=\"psysml:ef5bd6a7-9b0c-4f9f-9d58-83550a9f52f0\" xlink:actuate=\"onRequest\" xlink:href=\"psysml:ef5bd6a7-9b0c-4f9f-9d58-83550a9f52f0\" xlink:show=\"new\" xlink:title=\"psysml:ef5bd6a7-9b0c-4f9f-9d58-83550a9f52f0\" xlink:type=\"simple\"><rect fill=\"#FFFFFF\" height=\"45.9375\" id=\"E2\" rx=\"10\" ry=\"10\" style=\"stroke: #383838; stroke-width: 1.5;\" width=\"42\" x=\"133\" y=\"41\"/><text fill=\"#000000\" font-family=\"sans-serif\" font-size=\"12\" font-style=\"italic\" lengthAdjust=\"spacingAndGlyphs\" textLength=\"40\" x=\"134\" y=\"57.1387\">«part»</text><text fill=\"#000000\" font-family=\"sans-serif\" font-size=\"12\" lengthAdjust=\"spacingAndGlyphs\" textLength=\"4\" x=\"152\" y=\"71.1074\">f</text><line style=\"stroke: #383838; stroke-width: 1.5;\" x1=\"134\" x2=\"174\" y1=\"78.9375\" y2=\"78.9375\"/></a><!--MD5=[09b614a08d8cba4a07c9adeb5e0fee81]\n",
       "class E3--><a href=\"psysml:b70a2483-525b-464a-8d4b-4d166d754785\" target=\"_top\" title=\"psysml:b70a2483-525b-464a-8d4b-4d166d754785\" xlink:actuate=\"onRequest\" xlink:href=\"psysml:b70a2483-525b-464a-8d4b-4d166d754785\" xlink:show=\"new\" xlink:title=\"psysml:b70a2483-525b-464a-8d4b-4d166d754785\" xlink:type=\"simple\"><rect fill=\"#FFFFFF\" height=\"45.9375\" id=\"E3\" rx=\"10\" ry=\"10\" style=\"stroke: #383838; stroke-width: 1.5;\" width=\"42\" x=\"133\" y=\"147\"/><text fill=\"#000000\" font-family=\"sans-serif\" font-size=\"12\" font-style=\"italic\" lengthAdjust=\"spacingAndGlyphs\" textLength=\"40\" x=\"134\" y=\"163.1387\">«part»</text><text fill=\"#000000\" font-family=\"sans-serif\" font-size=\"12\" lengthAdjust=\"spacingAndGlyphs\" textLength=\"8\" x=\"150\" y=\"177.1074\">a</text><line style=\"stroke: #383838; stroke-width: 1.5;\" x1=\"134\" x2=\"174\" y1=\"184.9375\" y2=\"184.9375\"/></a><!--MD5=[ebbe1d658d1005bcc118a6aa81145e00]\n",
       "class E4--><a href=\"psysml:76b80061-5d22-4116-930d-3b6f4cd610b8\" target=\"_top\" title=\"psysml:76b80061-5d22-4116-930d-3b6f4cd610b8\" xlink:actuate=\"onRequest\" xlink:href=\"psysml:76b80061-5d22-4116-930d-3b6f4cd610b8\" xlink:show=\"new\" xlink:title=\"psysml:76b80061-5d22-4116-930d-3b6f4cd610b8\" xlink:type=\"simple\"><rect fill=\"#FFFFFF\" height=\"45.9375\" id=\"E4\" style=\"stroke: #383838; stroke-width: 1.5;\" width=\"66\" x=\"32\" y=\"41\"/><text fill=\"#000000\" font-family=\"sans-serif\" font-size=\"12\" font-style=\"italic\" lengthAdjust=\"spacingAndGlyphs\" textLength=\"64\" x=\"33\" y=\"57.1387\">«part def»</text><text fill=\"#000000\" font-family=\"sans-serif\" font-size=\"12\" lengthAdjust=\"spacingAndGlyphs\" textLength=\"8\" x=\"61\" y=\"71.1074\">C</text><line style=\"stroke: #383838; stroke-width: 1.5;\" x1=\"33\" x2=\"97\" y1=\"78.9375\" y2=\"78.9375\"/></a><!--MD5=[270fce915f116d4de14055a7c1d9a0f3]\n",
       "class E5--><a href=\"psysml:92e0160d-75a4-4892-b826-902f6ecde3a0\" target=\"_top\" title=\"psysml:92e0160d-75a4-4892-b826-902f6ecde3a0\" xlink:actuate=\"onRequest\" xlink:href=\"psysml:92e0160d-75a4-4892-b826-902f6ecde3a0\" xlink:show=\"new\" xlink:title=\"psysml:92e0160d-75a4-4892-b826-902f6ecde3a0\" xlink:type=\"simple\"><rect fill=\"#FFFFFF\" height=\"45.9375\" id=\"E5\" rx=\"10\" ry=\"10\" style=\"stroke: #383838; stroke-width: 1.5;\" width=\"42\" x=\"44\" y=\"147\"/><text fill=\"#000000\" font-family=\"sans-serif\" font-size=\"12\" font-style=\"italic\" lengthAdjust=\"spacingAndGlyphs\" textLength=\"40\" x=\"45\" y=\"163.1387\">«part»</text><text fill=\"#000000\" font-family=\"sans-serif\" font-size=\"12\" lengthAdjust=\"spacingAndGlyphs\" textLength=\"8\" x=\"61\" y=\"177.1074\">g</text><line style=\"stroke: #383838; stroke-width: 1.5;\" x1=\"45\" x2=\"85\" y1=\"184.9375\" y2=\"184.9375\"/></a><!--MD5=[209b3feb70ccb6233bfe1053d122c12c]\n",
       "reverse link E2 to E3--><a href=\"psysml:b70a2483-525b-464a-8d4b-4d166d754785\" target=\"_top\" title=\"psysml:b70a2483-525b-464a-8d4b-4d166d754785\" xlink:actuate=\"onRequest\" xlink:href=\"psysml:b70a2483-525b-464a-8d4b-4d166d754785\" xlink:show=\"new\" xlink:title=\"psysml:b70a2483-525b-464a-8d4b-4d166d754785\" xlink:type=\"simple\"><path d=\"M154,100.44 C154,115.87 154,133.47 154,146.98 \" fill=\"none\" id=\"E2&lt;-E3\" style=\"stroke: #383838; stroke-width: 1.0;\"/><polygon fill=\"#383838\" points=\"154,87.06,150,93.06,154,99.06,158,93.06,154,87.06\" style=\"stroke: #383838; stroke-width: 1.0;\"/></a><!--MD5=[62aa6af11e70f752912c1cb0466f24f7]\n",
       "reverse link E4 to E5--><a href=\"psysml:92e0160d-75a4-4892-b826-902f6ecde3a0\" target=\"_top\" title=\"psysml:92e0160d-75a4-4892-b826-902f6ecde3a0\" xlink:actuate=\"onRequest\" xlink:href=\"psysml:92e0160d-75a4-4892-b826-902f6ecde3a0\" xlink:show=\"new\" xlink:title=\"psysml:92e0160d-75a4-4892-b826-902f6ecde3a0\" xlink:type=\"simple\"><path d=\"M65,100.44 C65,115.87 65,133.47 65,146.98 \" fill=\"none\" id=\"E4&lt;-E5\" style=\"stroke: #383838; stroke-width: 1.0;\"/><polygon fill=\"#383838\" points=\"65,87.06,61,93.06,65,99.06,69,93.06,65,87.06\" style=\"stroke: #383838; stroke-width: 1.0;\"/></a><!--MD5=[4171c6407d78608161c60cfffd00ed6b]\n",
       "@startuml\r\n",
       " skinparam monochrome true\r\n",
       "skinparam classbackgroundcolor white\r\n",
       "skinparam shadowing false\r\n",
       "skinparam wrapWidth 300\r\n",
       "hide circle\r\n",
       "\r\n",
       "package \"Q\" as E1  [[psysml:28439c61-0f75-41f9-9e39-c7479ce99829 ]]  {\r\n",
       "comp usage \"f\" as E2  <<(T,blue)part>> [[psysml:ef5bd6a7-9b0c-4f9f-9d58-83550a9f52f0 ]] {\r\n",
       "}\r\n",
       "comp usage \"a\" as E3  <<(T,blue)part>> [[psysml:b70a2483-525b-464a-8d4b-4d166d754785 ]] {\r\n",
       "}\r\n",
       "comp def \"C\" as E4  <<(T,blue)part def>> [[psysml:76b80061-5d22-4116-930d-3b6f4cd610b8 ]] {\r\n",
       "}\r\n",
       "comp usage \"g\" as E5  <<(T,blue)part>> [[psysml:92e0160d-75a4-4892-b826-902f6ecde3a0 ]] {\r\n",
       "}\r\n",
       "E2 *- - E3 [[psysml:b70a2483-525b-464a-8d4b-4d166d754785 ]] \r\n",
       "E4 *- - E5 [[psysml:92e0160d-75a4-4892-b826-902f6ecde3a0 ]] \r\n",
       "}\r\n",
       "@enduml\r\n",
       "\n",
       "PlantUML version 1.2020.13(Sat Jun 13 12:26:38 UTC 2020)\n",
       "(EPL source distribution)\n",
       "Java Runtime: OpenJDK Runtime Environment\n",
       "JVM: OpenJDK 64-Bit Server VM\n",
       "Default Encoding: UTF-8\n",
       "Language: en\n",
       "Country: null\n",
       "--></g></svg>"
      ]
     },
     "execution_count": 8,
     "metadata": {},
     "output_type": "execute_result"
    }
   ],
   "source": [
    "%viz --style=\"COMPTREE\" --view=\"MIXED\" \"Q\""
   ]
  },
  {
   "cell_type": "code",
   "execution_count": 9,
   "id": "entire-semiconductor",
   "metadata": {
    "execution": {
     "iopub.execute_input": "2021-03-25T13:42:06.934404Z",
     "iopub.status.busy": "2021-03-25T13:42:06.933806Z",
     "iopub.status.idle": "2021-03-25T13:42:07.008361Z",
     "shell.execute_reply": "2021-03-25T13:42:07.009082Z"
    }
   },
   "outputs": [
    {
     "data": {
      "image/svg+xml": [
       "<?xml version=\"1.0\" encoding=\"UTF-8\" standalone=\"no\"?><svg xmlns=\"http://www.w3.org/2000/svg\" xmlns:xlink=\"http://www.w3.org/1999/xlink\" contentScriptType=\"application/ecmascript\" contentStyleType=\"text/css\" height=\"221px\" preserveAspectRatio=\"none\" style=\"width:213px;height:221px;\" version=\"1.1\" viewBox=\"0 0 213 221\" width=\"213px\" zoomAndPan=\"magnify\"><defs/><g><!--MD5=[fbc87193dbaf4d95561dea2c320d4a47]\n",
       "cluster E1--><a href=\"psysml:28439c61-0f75-41f9-9e39-c7479ce99829\" target=\"_top\" title=\"psysml:28439c61-0f75-41f9-9e39-c7479ce99829\" xlink:actuate=\"onRequest\" xlink:href=\"psysml:28439c61-0f75-41f9-9e39-c7479ce99829\" xlink:show=\"new\" xlink:title=\"psysml:28439c61-0f75-41f9-9e39-c7479ce99829\" xlink:type=\"simple\"><polygon fill=\"#FFFFFF\" points=\"16,6,34,6,41,28.2969,191,28.2969,191,209,16,209,16,6\" style=\"stroke: #000000; stroke-width: 1.5;\"/><line style=\"stroke: #000000; stroke-width: 1.5;\" x1=\"16\" x2=\"41\" y1=\"28.2969\" y2=\"28.2969\"/><text fill=\"#000000\" font-family=\"sans-serif\" font-size=\"14\" font-weight=\"bold\" lengthAdjust=\"spacingAndGlyphs\" textLength=\"12\" x=\"20\" y=\"20.9951\">Q</text></a><!--MD5=[b4997ac47864f28c2f74865a473b2911]\n",
       "class E2--><a href=\"psysml:ef5bd6a7-9b0c-4f9f-9d58-83550a9f52f0\" target=\"_top\" title=\"psysml:ef5bd6a7-9b0c-4f9f-9d58-83550a9f52f0\" xlink:actuate=\"onRequest\" xlink:href=\"psysml:ef5bd6a7-9b0c-4f9f-9d58-83550a9f52f0\" xlink:show=\"new\" xlink:title=\"psysml:ef5bd6a7-9b0c-4f9f-9d58-83550a9f52f0\" xlink:type=\"simple\"><rect fill=\"#FFFFFF\" height=\"45.9375\" id=\"E2\" rx=\"10\" ry=\"10\" style=\"stroke: #383838; stroke-width: 1.5;\" width=\"42\" x=\"133\" y=\"41\"/><text fill=\"#000000\" font-family=\"sans-serif\" font-size=\"12\" font-style=\"italic\" lengthAdjust=\"spacingAndGlyphs\" textLength=\"40\" x=\"134\" y=\"57.1387\">«part»</text><text fill=\"#000000\" font-family=\"sans-serif\" font-size=\"12\" lengthAdjust=\"spacingAndGlyphs\" textLength=\"4\" x=\"152\" y=\"71.1074\">f</text><line style=\"stroke: #383838; stroke-width: 1.5;\" x1=\"134\" x2=\"174\" y1=\"78.9375\" y2=\"78.9375\"/></a><!--MD5=[09b614a08d8cba4a07c9adeb5e0fee81]\n",
       "class E3--><a href=\"psysml:b70a2483-525b-464a-8d4b-4d166d754785\" target=\"_top\" title=\"psysml:b70a2483-525b-464a-8d4b-4d166d754785\" xlink:actuate=\"onRequest\" xlink:href=\"psysml:b70a2483-525b-464a-8d4b-4d166d754785\" xlink:show=\"new\" xlink:title=\"psysml:b70a2483-525b-464a-8d4b-4d166d754785\" xlink:type=\"simple\"><rect fill=\"#FFFFFF\" height=\"45.9375\" id=\"E3\" rx=\"10\" ry=\"10\" style=\"stroke: #383838; stroke-width: 1.5;\" width=\"42\" x=\"133\" y=\"147\"/><text fill=\"#000000\" font-family=\"sans-serif\" font-size=\"12\" font-style=\"italic\" lengthAdjust=\"spacingAndGlyphs\" textLength=\"40\" x=\"134\" y=\"163.1387\">«part»</text><text fill=\"#000000\" font-family=\"sans-serif\" font-size=\"12\" lengthAdjust=\"spacingAndGlyphs\" textLength=\"8\" x=\"150\" y=\"177.1074\">a</text><line style=\"stroke: #383838; stroke-width: 1.5;\" x1=\"134\" x2=\"174\" y1=\"184.9375\" y2=\"184.9375\"/></a><!--MD5=[ebbe1d658d1005bcc118a6aa81145e00]\n",
       "class E4--><a href=\"psysml:76b80061-5d22-4116-930d-3b6f4cd610b8\" target=\"_top\" title=\"psysml:76b80061-5d22-4116-930d-3b6f4cd610b8\" xlink:actuate=\"onRequest\" xlink:href=\"psysml:76b80061-5d22-4116-930d-3b6f4cd610b8\" xlink:show=\"new\" xlink:title=\"psysml:76b80061-5d22-4116-930d-3b6f4cd610b8\" xlink:type=\"simple\"><rect fill=\"#FFFFFF\" height=\"45.9375\" id=\"E4\" style=\"stroke: #383838; stroke-width: 1.5;\" width=\"66\" x=\"32\" y=\"41\"/><text fill=\"#000000\" font-family=\"sans-serif\" font-size=\"12\" font-style=\"italic\" lengthAdjust=\"spacingAndGlyphs\" textLength=\"64\" x=\"33\" y=\"57.1387\">«part def»</text><text fill=\"#000000\" font-family=\"sans-serif\" font-size=\"12\" lengthAdjust=\"spacingAndGlyphs\" textLength=\"8\" x=\"61\" y=\"71.1074\">C</text><line style=\"stroke: #383838; stroke-width: 1.5;\" x1=\"33\" x2=\"97\" y1=\"78.9375\" y2=\"78.9375\"/></a><!--MD5=[270fce915f116d4de14055a7c1d9a0f3]\n",
       "class E5--><a href=\"psysml:92e0160d-75a4-4892-b826-902f6ecde3a0\" target=\"_top\" title=\"psysml:92e0160d-75a4-4892-b826-902f6ecde3a0\" xlink:actuate=\"onRequest\" xlink:href=\"psysml:92e0160d-75a4-4892-b826-902f6ecde3a0\" xlink:show=\"new\" xlink:title=\"psysml:92e0160d-75a4-4892-b826-902f6ecde3a0\" xlink:type=\"simple\"><rect fill=\"#FFFFFF\" height=\"45.9375\" id=\"E5\" rx=\"10\" ry=\"10\" style=\"stroke: #383838; stroke-width: 1.5;\" width=\"42\" x=\"44\" y=\"147\"/><text fill=\"#000000\" font-family=\"sans-serif\" font-size=\"12\" font-style=\"italic\" lengthAdjust=\"spacingAndGlyphs\" textLength=\"40\" x=\"45\" y=\"163.1387\">«part»</text><text fill=\"#000000\" font-family=\"sans-serif\" font-size=\"12\" lengthAdjust=\"spacingAndGlyphs\" textLength=\"8\" x=\"61\" y=\"177.1074\">g</text><line style=\"stroke: #383838; stroke-width: 1.5;\" x1=\"45\" x2=\"85\" y1=\"184.9375\" y2=\"184.9375\"/></a><!--MD5=[209b3feb70ccb6233bfe1053d122c12c]\n",
       "reverse link E2 to E3--><a href=\"psysml:b70a2483-525b-464a-8d4b-4d166d754785\" target=\"_top\" title=\"psysml:b70a2483-525b-464a-8d4b-4d166d754785\" xlink:actuate=\"onRequest\" xlink:href=\"psysml:b70a2483-525b-464a-8d4b-4d166d754785\" xlink:show=\"new\" xlink:title=\"psysml:b70a2483-525b-464a-8d4b-4d166d754785\" xlink:type=\"simple\"><path d=\"M154,100.44 C154,115.87 154,133.47 154,146.98 \" fill=\"none\" id=\"E2&lt;-E3\" style=\"stroke: #383838; stroke-width: 1.0;\"/><polygon fill=\"#383838\" points=\"154,87.06,150,93.06,154,99.06,158,93.06,154,87.06\" style=\"stroke: #383838; stroke-width: 1.0;\"/></a><!--MD5=[62aa6af11e70f752912c1cb0466f24f7]\n",
       "reverse link E4 to E5--><a href=\"psysml:92e0160d-75a4-4892-b826-902f6ecde3a0\" target=\"_top\" title=\"psysml:92e0160d-75a4-4892-b826-902f6ecde3a0\" xlink:actuate=\"onRequest\" xlink:href=\"psysml:92e0160d-75a4-4892-b826-902f6ecde3a0\" xlink:show=\"new\" xlink:title=\"psysml:92e0160d-75a4-4892-b826-902f6ecde3a0\" xlink:type=\"simple\"><path d=\"M65,100.44 C65,115.87 65,133.47 65,146.98 \" fill=\"none\" id=\"E4&lt;-E5\" style=\"stroke: #383838; stroke-width: 1.0;\"/><polygon fill=\"#383838\" points=\"65,87.06,61,93.06,65,99.06,69,93.06,65,87.06\" style=\"stroke: #383838; stroke-width: 1.0;\"/></a><!--MD5=[a9b8a4649ff00492053c9fabff953ab4]\n",
       "@startuml\r\n",
       "skinparam linetype polyline\r\n",
       "skinparam monochrome true\r\n",
       "skinparam classbackgroundcolor white\r\n",
       "skinparam shadowing false\r\n",
       "skinparam wrapWidth 300\r\n",
       "hide circle\r\n",
       "\r\n",
       "package \"Q\" as E1  [[psysml:28439c61-0f75-41f9-9e39-c7479ce99829 ]]  {\r\n",
       "comp usage \"f\" as E2  <<(T,blue)part>> [[psysml:ef5bd6a7-9b0c-4f9f-9d58-83550a9f52f0 ]] {\r\n",
       "}\r\n",
       "comp usage \"a\" as E3  <<(T,blue)part>> [[psysml:b70a2483-525b-464a-8d4b-4d166d754785 ]] {\r\n",
       "}\r\n",
       "comp def \"C\" as E4  <<(T,blue)part def>> [[psysml:76b80061-5d22-4116-930d-3b6f4cd610b8 ]] {\r\n",
       "}\r\n",
       "comp usage \"g\" as E5  <<(T,blue)part>> [[psysml:92e0160d-75a4-4892-b826-902f6ecde3a0 ]] {\r\n",
       "}\r\n",
       "E2 *- - E3 [[psysml:b70a2483-525b-464a-8d4b-4d166d754785 ]] \r\n",
       "E4 *- - E5 [[psysml:92e0160d-75a4-4892-b826-902f6ecde3a0 ]] \r\n",
       "}\r\n",
       "@enduml\r\n",
       "\n",
       "PlantUML version 1.2020.13(Sat Jun 13 12:26:38 UTC 2020)\n",
       "(EPL source distribution)\n",
       "Java Runtime: OpenJDK Runtime Environment\n",
       "JVM: OpenJDK 64-Bit Server VM\n",
       "Default Encoding: UTF-8\n",
       "Language: en\n",
       "Country: null\n",
       "--></g></svg>"
      ]
     },
     "execution_count": 9,
     "metadata": {},
     "output_type": "execute_result"
    }
   ],
   "source": [
    "%viz --style=\"POLYLINE\" --view=\"Default\" \"Q\""
   ]
  },
  {
   "cell_type": "code",
   "execution_count": 10,
   "id": "right-oxford",
   "metadata": {
    "execution": {
     "iopub.execute_input": "2021-03-25T13:42:07.059205Z",
     "iopub.status.busy": "2021-03-25T13:42:07.058348Z",
     "iopub.status.idle": "2021-03-25T13:42:07.123354Z",
     "shell.execute_reply": "2021-03-25T13:42:07.123765Z"
    }
   },
   "outputs": [
    {
     "data": {
      "image/svg+xml": [
       "<?xml version=\"1.0\" encoding=\"UTF-8\" standalone=\"no\"?><svg xmlns=\"http://www.w3.org/2000/svg\" xmlns:xlink=\"http://www.w3.org/1999/xlink\" contentScriptType=\"application/ecmascript\" contentStyleType=\"text/css\" height=\"221px\" preserveAspectRatio=\"none\" style=\"width:213px;height:221px;\" version=\"1.1\" viewBox=\"0 0 213 221\" width=\"213px\" zoomAndPan=\"magnify\"><defs/><g><!--MD5=[fbc87193dbaf4d95561dea2c320d4a47]\n",
       "cluster E1--><a href=\"psysml:28439c61-0f75-41f9-9e39-c7479ce99829\" target=\"_top\" title=\"psysml:28439c61-0f75-41f9-9e39-c7479ce99829\" xlink:actuate=\"onRequest\" xlink:href=\"psysml:28439c61-0f75-41f9-9e39-c7479ce99829\" xlink:show=\"new\" xlink:title=\"psysml:28439c61-0f75-41f9-9e39-c7479ce99829\" xlink:type=\"simple\"><polygon fill=\"#FFFFFF\" points=\"16,6,34,6,41,28.2969,191,28.2969,191,209,16,209,16,6\" style=\"stroke: #000000; stroke-width: 1.5;\"/><line style=\"stroke: #000000; stroke-width: 1.5;\" x1=\"16\" x2=\"41\" y1=\"28.2969\" y2=\"28.2969\"/><text fill=\"#000000\" font-family=\"sans-serif\" font-size=\"14\" font-weight=\"bold\" lengthAdjust=\"spacingAndGlyphs\" textLength=\"12\" x=\"20\" y=\"20.9951\">Q</text></a><!--MD5=[b4997ac47864f28c2f74865a473b2911]\n",
       "class E2--><a href=\"psysml:ef5bd6a7-9b0c-4f9f-9d58-83550a9f52f0\" target=\"_top\" title=\"psysml:ef5bd6a7-9b0c-4f9f-9d58-83550a9f52f0\" xlink:actuate=\"onRequest\" xlink:href=\"psysml:ef5bd6a7-9b0c-4f9f-9d58-83550a9f52f0\" xlink:show=\"new\" xlink:title=\"psysml:ef5bd6a7-9b0c-4f9f-9d58-83550a9f52f0\" xlink:type=\"simple\"><rect fill=\"#FFFFFF\" height=\"45.9375\" id=\"E2\" rx=\"10\" ry=\"10\" style=\"stroke: #383838; stroke-width: 1.5;\" width=\"42\" x=\"133\" y=\"41\"/><text fill=\"#000000\" font-family=\"sans-serif\" font-size=\"12\" font-style=\"italic\" lengthAdjust=\"spacingAndGlyphs\" textLength=\"40\" x=\"134\" y=\"57.1387\">«part»</text><text fill=\"#000000\" font-family=\"sans-serif\" font-size=\"12\" lengthAdjust=\"spacingAndGlyphs\" textLength=\"4\" x=\"152\" y=\"71.1074\">f</text><line style=\"stroke: #383838; stroke-width: 1.5;\" x1=\"134\" x2=\"174\" y1=\"78.9375\" y2=\"78.9375\"/></a><!--MD5=[09b614a08d8cba4a07c9adeb5e0fee81]\n",
       "class E3--><a href=\"psysml:b70a2483-525b-464a-8d4b-4d166d754785\" target=\"_top\" title=\"psysml:b70a2483-525b-464a-8d4b-4d166d754785\" xlink:actuate=\"onRequest\" xlink:href=\"psysml:b70a2483-525b-464a-8d4b-4d166d754785\" xlink:show=\"new\" xlink:title=\"psysml:b70a2483-525b-464a-8d4b-4d166d754785\" xlink:type=\"simple\"><rect fill=\"#FFFFFF\" height=\"45.9375\" id=\"E3\" rx=\"10\" ry=\"10\" style=\"stroke: #383838; stroke-width: 1.5;\" width=\"42\" x=\"133\" y=\"147\"/><text fill=\"#000000\" font-family=\"sans-serif\" font-size=\"12\" font-style=\"italic\" lengthAdjust=\"spacingAndGlyphs\" textLength=\"40\" x=\"134\" y=\"163.1387\">«part»</text><text fill=\"#000000\" font-family=\"sans-serif\" font-size=\"12\" lengthAdjust=\"spacingAndGlyphs\" textLength=\"8\" x=\"150\" y=\"177.1074\">a</text><line style=\"stroke: #383838; stroke-width: 1.5;\" x1=\"134\" x2=\"174\" y1=\"184.9375\" y2=\"184.9375\"/></a><!--MD5=[ebbe1d658d1005bcc118a6aa81145e00]\n",
       "class E4--><a href=\"psysml:76b80061-5d22-4116-930d-3b6f4cd610b8\" target=\"_top\" title=\"psysml:76b80061-5d22-4116-930d-3b6f4cd610b8\" xlink:actuate=\"onRequest\" xlink:href=\"psysml:76b80061-5d22-4116-930d-3b6f4cd610b8\" xlink:show=\"new\" xlink:title=\"psysml:76b80061-5d22-4116-930d-3b6f4cd610b8\" xlink:type=\"simple\"><rect fill=\"#FFFFFF\" height=\"45.9375\" id=\"E4\" style=\"stroke: #383838; stroke-width: 1.5;\" width=\"66\" x=\"32\" y=\"41\"/><text fill=\"#000000\" font-family=\"sans-serif\" font-size=\"12\" font-style=\"italic\" lengthAdjust=\"spacingAndGlyphs\" textLength=\"64\" x=\"33\" y=\"57.1387\">«part def»</text><text fill=\"#000000\" font-family=\"sans-serif\" font-size=\"12\" lengthAdjust=\"spacingAndGlyphs\" textLength=\"8\" x=\"61\" y=\"71.1074\">C</text><line style=\"stroke: #383838; stroke-width: 1.5;\" x1=\"33\" x2=\"97\" y1=\"78.9375\" y2=\"78.9375\"/></a><!--MD5=[270fce915f116d4de14055a7c1d9a0f3]\n",
       "class E5--><a href=\"psysml:92e0160d-75a4-4892-b826-902f6ecde3a0\" target=\"_top\" title=\"psysml:92e0160d-75a4-4892-b826-902f6ecde3a0\" xlink:actuate=\"onRequest\" xlink:href=\"psysml:92e0160d-75a4-4892-b826-902f6ecde3a0\" xlink:show=\"new\" xlink:title=\"psysml:92e0160d-75a4-4892-b826-902f6ecde3a0\" xlink:type=\"simple\"><rect fill=\"#FFFFFF\" height=\"45.9375\" id=\"E5\" rx=\"10\" ry=\"10\" style=\"stroke: #383838; stroke-width: 1.5;\" width=\"42\" x=\"44\" y=\"147\"/><text fill=\"#000000\" font-family=\"sans-serif\" font-size=\"12\" font-style=\"italic\" lengthAdjust=\"spacingAndGlyphs\" textLength=\"40\" x=\"45\" y=\"163.1387\">«part»</text><text fill=\"#000000\" font-family=\"sans-serif\" font-size=\"12\" lengthAdjust=\"spacingAndGlyphs\" textLength=\"8\" x=\"61\" y=\"177.1074\">g</text><line style=\"stroke: #383838; stroke-width: 1.5;\" x1=\"45\" x2=\"85\" y1=\"184.9375\" y2=\"184.9375\"/></a><!--MD5=[209b3feb70ccb6233bfe1053d122c12c]\n",
       "reverse link E2 to E3--><a href=\"psysml:b70a2483-525b-464a-8d4b-4d166d754785\" target=\"_top\" title=\"psysml:b70a2483-525b-464a-8d4b-4d166d754785\" xlink:actuate=\"onRequest\" xlink:href=\"psysml:b70a2483-525b-464a-8d4b-4d166d754785\" xlink:show=\"new\" xlink:title=\"psysml:b70a2483-525b-464a-8d4b-4d166d754785\" xlink:type=\"simple\"><path d=\"M154,100.44 C154,115.87 154,133.47 154,146.98 \" fill=\"none\" id=\"E2&lt;-E3\" style=\"stroke: #383838; stroke-width: 1.0;\"/><polygon fill=\"#383838\" points=\"154,87.06,150,93.06,154,99.06,158,93.06,154,87.06\" style=\"stroke: #383838; stroke-width: 1.0;\"/></a><!--MD5=[62aa6af11e70f752912c1cb0466f24f7]\n",
       "reverse link E4 to E5--><a href=\"psysml:92e0160d-75a4-4892-b826-902f6ecde3a0\" target=\"_top\" title=\"psysml:92e0160d-75a4-4892-b826-902f6ecde3a0\" xlink:actuate=\"onRequest\" xlink:href=\"psysml:92e0160d-75a4-4892-b826-902f6ecde3a0\" xlink:show=\"new\" xlink:title=\"psysml:92e0160d-75a4-4892-b826-902f6ecde3a0\" xlink:type=\"simple\"><path d=\"M65,100.44 C65,115.87 65,133.47 65,146.98 \" fill=\"none\" id=\"E4&lt;-E5\" style=\"stroke: #383838; stroke-width: 1.0;\"/><polygon fill=\"#383838\" points=\"65,87.06,61,93.06,65,99.06,69,93.06,65,87.06\" style=\"stroke: #383838; stroke-width: 1.0;\"/></a><!--MD5=[a9b8a4649ff00492053c9fabff953ab4]\n",
       "@startuml\r\n",
       "skinparam linetype polyline\r\n",
       "skinparam monochrome true\r\n",
       "skinparam classbackgroundcolor white\r\n",
       "skinparam shadowing false\r\n",
       "skinparam wrapWidth 300\r\n",
       "hide circle\r\n",
       "\r\n",
       "package \"Q\" as E1  [[psysml:28439c61-0f75-41f9-9e39-c7479ce99829 ]]  {\r\n",
       "comp usage \"f\" as E2  <<(T,blue)part>> [[psysml:ef5bd6a7-9b0c-4f9f-9d58-83550a9f52f0 ]] {\r\n",
       "}\r\n",
       "comp usage \"a\" as E3  <<(T,blue)part>> [[psysml:b70a2483-525b-464a-8d4b-4d166d754785 ]] {\r\n",
       "}\r\n",
       "comp def \"C\" as E4  <<(T,blue)part def>> [[psysml:76b80061-5d22-4116-930d-3b6f4cd610b8 ]] {\r\n",
       "}\r\n",
       "comp usage \"g\" as E5  <<(T,blue)part>> [[psysml:92e0160d-75a4-4892-b826-902f6ecde3a0 ]] {\r\n",
       "}\r\n",
       "E2 *- - E3 [[psysml:b70a2483-525b-464a-8d4b-4d166d754785 ]] \r\n",
       "E4 *- - E5 [[psysml:92e0160d-75a4-4892-b826-902f6ecde3a0 ]] \r\n",
       "}\r\n",
       "@enduml\r\n",
       "\n",
       "PlantUML version 1.2020.13(Sat Jun 13 12:26:38 UTC 2020)\n",
       "(EPL source distribution)\n",
       "Java Runtime: OpenJDK Runtime Environment\n",
       "JVM: OpenJDK 64-Bit Server VM\n",
       "Default Encoding: UTF-8\n",
       "Language: en\n",
       "Country: null\n",
       "--></g></svg>"
      ]
     },
     "execution_count": 10,
     "metadata": {},
     "output_type": "execute_result"
    }
   ],
   "source": [
    "%viz --style=\"POLYLINE\" --view=\"Tree\" \"Q\""
   ]
  },
  {
   "cell_type": "code",
   "execution_count": 11,
   "id": "designing-forum",
   "metadata": {
    "execution": {
     "iopub.execute_input": "2021-03-25T13:42:07.175967Z",
     "iopub.status.busy": "2021-03-25T13:42:07.174635Z",
     "iopub.status.idle": "2021-03-25T13:42:07.185452Z",
     "shell.execute_reply": "2021-03-25T13:42:07.185045Z"
    }
   },
   "outputs": [
    {
     "data": {
      "image/svg+xml": [
       "<?xml version=\"1.0\" encoding=\"UTF-8\" standalone=\"no\"?><svg xmlns=\"http://www.w3.org/2000/svg\" xmlns:xlink=\"http://www.w3.org/1999/xlink\" contentScriptType=\"application/ecmascript\" contentStyleType=\"text/css\" height=\"12px\" preserveAspectRatio=\"none\" style=\"width:12px;height:12px;\" version=\"1.1\" viewBox=\"0 0 12 12\" width=\"12px\" zoomAndPan=\"magnify\"><defs/><g><!--MD5=[896ac0e7a515d8dd7765a661cb4ee08b]\n",
       "@startuml\r\n",
       "skinparam linetype polyline\r\n",
       "skinparam monochrome true\r\n",
       "skinparam classbackgroundcolor white\r\n",
       "skinparam shadowing false\r\n",
       "skinparam wrapWidth 300\r\n",
       "hide circle\r\n",
       "\r\n",
       "@enduml\r\n",
       "\n",
       "PlantUML version 1.2020.13(Sat Jun 13 12:26:38 UTC 2020)\n",
       "(EPL source distribution)\n",
       "Java Runtime: OpenJDK Runtime Environment\n",
       "JVM: OpenJDK 64-Bit Server VM\n",
       "Default Encoding: UTF-8\n",
       "Language: en\n",
       "Country: null\n",
       "--></g></svg>"
      ]
     },
     "execution_count": 11,
     "metadata": {},
     "output_type": "execute_result"
    }
   ],
   "source": [
    "%viz --style=\"POLYLINE\" --view=\"State\" \"Q\""
   ]
  },
  {
   "cell_type": "code",
   "execution_count": 12,
   "id": "absent-creation",
   "metadata": {
    "execution": {
     "iopub.execute_input": "2021-03-25T13:42:07.238450Z",
     "iopub.status.busy": "2021-03-25T13:42:07.237682Z",
     "iopub.status.idle": "2021-03-25T13:42:07.310720Z",
     "shell.execute_reply": "2021-03-25T13:42:07.311237Z"
    }
   },
   "outputs": [
    {
     "data": {
      "image/svg+xml": [
       "<?xml version=\"1.0\" encoding=\"UTF-8\" standalone=\"no\"?><svg xmlns=\"http://www.w3.org/2000/svg\" xmlns:xlink=\"http://www.w3.org/1999/xlink\" contentScriptType=\"application/ecmascript\" contentStyleType=\"text/css\" height=\"192px\" preserveAspectRatio=\"none\" style=\"width:279px;height:192px;\" version=\"1.1\" viewBox=\"0 0 279 192\" width=\"279px\" zoomAndPan=\"magnify\"><defs/><g><!--MD5=[fbc87193dbaf4d95561dea2c320d4a47]\n",
       "cluster E1--><a href=\"psysml:28439c61-0f75-41f9-9e39-c7479ce99829\" target=\"_top\" title=\"psysml:28439c61-0f75-41f9-9e39-c7479ce99829\" xlink:actuate=\"onRequest\" xlink:href=\"psysml:28439c61-0f75-41f9-9e39-c7479ce99829\" xlink:show=\"new\" xlink:title=\"psysml:28439c61-0f75-41f9-9e39-c7479ce99829\" xlink:type=\"simple\"><polygon fill=\"#FFFFFF\" points=\"16,6,34,6,41,28.2969,257,28.2969,257,180,16,180,16,6\" style=\"stroke: #000000; stroke-width: 1.5;\"/><line style=\"stroke: #000000; stroke-width: 1.5;\" x1=\"16\" x2=\"41\" y1=\"28.2969\" y2=\"28.2969\"/><text fill=\"#000000\" font-family=\"sans-serif\" font-size=\"14\" font-weight=\"bold\" lengthAdjust=\"spacingAndGlyphs\" textLength=\"12\" x=\"20\" y=\"20.9951\">Q</text></a><!--MD5=[e4f7fae6ed58524ba242bb0b0d3be6b7]\n",
       "cluster E2--><a href=\"psysml:ef5bd6a7-9b0c-4f9f-9d58-83550a9f52f0\" target=\"_top\" title=\"psysml:ef5bd6a7-9b0c-4f9f-9d58-83550a9f52f0\" xlink:actuate=\"onRequest\" xlink:href=\"psysml:ef5bd6a7-9b0c-4f9f-9d58-83550a9f52f0\" xlink:show=\"new\" xlink:title=\"psysml:ef5bd6a7-9b0c-4f9f-9d58-83550a9f52f0\" xlink:type=\"simple\"><rect fill=\"#FFFFFF\" height=\"91\" id=\"E2\" rx=\"10\" ry=\"10\" style=\"stroke: #383838; stroke-width: 1.5;\" width=\"82\" x=\"151\" y=\"65\"/><rect fill=\"#F8F8F8\" height=\"23.9688\" rx=\"10\" ry=\"10\" style=\"stroke: #F8F8F8; stroke-width: 1.5;\" width=\"82\" x=\"151\" y=\"65\"/><rect fill=\"#F8F8F8\" height=\"10\" style=\"stroke: #F8F8F8; stroke-width: 1.5;\" width=\"82\" x=\"151\" y=\"78.9688\"/><rect fill=\"none\" height=\"91\" id=\"E2\" rx=\"10\" ry=\"10\" style=\"stroke: #383838; stroke-width: 1.5;\" width=\"82\" x=\"151\" y=\"65\"/><text fill=\"#000000\" font-family=\"sans-serif\" font-size=\"12\" lengthAdjust=\"spacingAndGlyphs\" textLength=\"4\" x=\"190\" y=\"81.1387\">f</text><line style=\"stroke: #383838; stroke-width: 1.0;\" x1=\"151\" x2=\"233\" y1=\"88.9688\" y2=\"88.9688\"/></a><!--MD5=[f6df4d0ebaf0b5dfb2ced0ae5af7c670]\n",
       "cluster E4--><a href=\"psysml:76b80061-5d22-4116-930d-3b6f4cd610b8\" target=\"_top\" title=\"psysml:76b80061-5d22-4116-930d-3b6f4cd610b8\" xlink:actuate=\"onRequest\" xlink:href=\"psysml:76b80061-5d22-4116-930d-3b6f4cd610b8\" xlink:show=\"new\" xlink:title=\"psysml:76b80061-5d22-4116-930d-3b6f4cd610b8\" xlink:type=\"simple\"><rect fill=\"#FFFFFF\" height=\"107\" id=\"E4\" style=\"stroke: #383838; stroke-width: 1.5;\" width=\"87\" x=\"40\" y=\"49\"/><rect fill=\"#F8F8F8\" height=\"37.9375\" style=\"stroke: #383838; stroke-width: 1.5;\" width=\"87\" x=\"40\" y=\"49\"/><text fill=\"#000000\" font-family=\"sans-serif\" font-size=\"12\" font-style=\"italic\" lengthAdjust=\"spacingAndGlyphs\" textLength=\"64\" x=\"51.5\" y=\"65.1387\">«part def»</text><text fill=\"#000000\" font-family=\"sans-serif\" font-size=\"12\" lengthAdjust=\"spacingAndGlyphs\" textLength=\"8\" x=\"79.5\" y=\"79.1074\">C</text></a><g id=\"E1.E2.E3\"><a href=\"psysml:b70a2483-525b-464a-8d4b-4d166d754785\" target=\"_top\" title=\"psysml:b70a2483-525b-464a-8d4b-4d166d754785\" xlink:actuate=\"onRequest\" xlink:href=\"psysml:b70a2483-525b-464a-8d4b-4d166d754785\" xlink:show=\"new\" xlink:title=\"psysml:b70a2483-525b-464a-8d4b-4d166d754785\" xlink:type=\"simple\"><rect fill=\"#FFFFFF\" height=\"40\" id=\"E3\" rx=\"10\" ry=\"10\" style=\"stroke: #383838; stroke-width: 1.5;\" width=\"50\" x=\"167\" y=\"100\"/><rect fill=\"#F8F8F8\" height=\"23.9688\" rx=\"10\" ry=\"10\" style=\"stroke: #F8F8F8; stroke-width: 1.5;\" width=\"50\" x=\"167\" y=\"100\"/><rect fill=\"#F8F8F8\" height=\"10\" style=\"stroke: #F8F8F8; stroke-width: 1.5;\" width=\"50\" x=\"167\" y=\"113.9688\"/><rect fill=\"none\" height=\"40\" id=\"E3\" rx=\"10\" ry=\"10\" style=\"stroke: #383838; stroke-width: 1.5;\" width=\"50\" x=\"167\" y=\"100\"/><text fill=\"#000000\" font-family=\"sans-serif\" font-size=\"12\" lengthAdjust=\"spacingAndGlyphs\" textLength=\"8\" x=\"188\" y=\"116.1387\">a</text></a></g><g id=\"E1.E4.E5\"><a href=\"psysml:92e0160d-75a4-4892-b826-902f6ecde3a0\" target=\"_top\" title=\"psysml:92e0160d-75a4-4892-b826-902f6ecde3a0\" xlink:actuate=\"onRequest\" xlink:href=\"psysml:92e0160d-75a4-4892-b826-902f6ecde3a0\" xlink:show=\"new\" xlink:title=\"psysml:92e0160d-75a4-4892-b826-902f6ecde3a0\" xlink:type=\"simple\"><rect fill=\"#FFFFFF\" height=\"40\" id=\"E5\" rx=\"10\" ry=\"10\" style=\"stroke: #383838; stroke-width: 1.5;\" width=\"50\" x=\"58\" y=\"100\"/><rect fill=\"#F8F8F8\" height=\"23.9688\" rx=\"10\" ry=\"10\" style=\"stroke: #F8F8F8; stroke-width: 1.5;\" width=\"50\" x=\"58\" y=\"100\"/><rect fill=\"#F8F8F8\" height=\"10\" style=\"stroke: #F8F8F8; stroke-width: 1.5;\" width=\"50\" x=\"58\" y=\"113.9688\"/><rect fill=\"none\" height=\"40\" id=\"E5\" rx=\"10\" ry=\"10\" style=\"stroke: #383838; stroke-width: 1.5;\" width=\"50\" x=\"58\" y=\"100\"/><text fill=\"#000000\" font-family=\"sans-serif\" font-size=\"12\" lengthAdjust=\"spacingAndGlyphs\" textLength=\"8\" x=\"79\" y=\"116.1387\">g</text></a></g><!--MD5=[013c6523ca1bfb795df6d61b735c7d96]\n",
       "@startuml\r\n",
       "skinparam ranksep 8\r\n",
       "skinparam rectangle {\r\n",
       " backgroundColor<<block>> LightGreen\r\n",
       "}\r\n",
       "skinparam linetype polyline\r\n",
       "skinparam monochrome true\r\n",
       "skinparam classbackgroundcolor white\r\n",
       "skinparam shadowing false\r\n",
       "skinparam wrapWidth 300\r\n",
       "hide circle\r\n",
       "\r\n",
       "package \"Q\" as E1  [[psysml:28439c61-0f75-41f9-9e39-c7479ce99829 ]]  {\r\n",
       "rec usage \"f\" as E2  [[psysml:ef5bd6a7-9b0c-4f9f-9d58-83550a9f52f0 ]] {\r\n",
       "rec usage \"a\" as E3  [[psysml:b70a2483-525b-464a-8d4b-4d166d754785 ]] {\r\n",
       "}\r\n",
       "}\r\n",
       "rec def \"C\" as E4  <<(T,blue)part def>> [[psysml:76b80061-5d22-4116-930d-3b6f4cd610b8 ]] {\r\n",
       "rec usage \"g\" as E5  [[psysml:92e0160d-75a4-4892-b826-902f6ecde3a0 ]] {\r\n",
       "}\r\n",
       "}\r\n",
       "}\r\n",
       "@enduml\r\n",
       "\n",
       "PlantUML version 1.2020.13(Sat Jun 13 12:26:38 UTC 2020)\n",
       "(EPL source distribution)\n",
       "Java Runtime: OpenJDK Runtime Environment\n",
       "JVM: OpenJDK 64-Bit Server VM\n",
       "Default Encoding: UTF-8\n",
       "Language: en\n",
       "Country: null\n",
       "--></g></svg>"
      ]
     },
     "execution_count": 12,
     "metadata": {},
     "output_type": "execute_result"
    }
   ],
   "source": [
    "%viz --style=\"POLYLINE\" --view=\"Interconnection\" \"Q\""
   ]
  },
  {
   "cell_type": "code",
   "execution_count": 13,
   "id": "patient-marble",
   "metadata": {
    "execution": {
     "iopub.execute_input": "2021-03-25T13:42:07.362505Z",
     "iopub.status.busy": "2021-03-25T13:42:07.361891Z",
     "iopub.status.idle": "2021-03-25T13:42:07.370265Z",
     "shell.execute_reply": "2021-03-25T13:42:07.370837Z"
    }
   },
   "outputs": [
    {
     "data": {
      "image/svg+xml": [
       "<?xml version=\"1.0\" encoding=\"UTF-8\" standalone=\"no\"?><svg xmlns=\"http://www.w3.org/2000/svg\" xmlns:xlink=\"http://www.w3.org/1999/xlink\" contentScriptType=\"application/ecmascript\" contentStyleType=\"text/css\" height=\"12px\" preserveAspectRatio=\"none\" style=\"width:12px;height:12px;\" version=\"1.1\" viewBox=\"0 0 12 12\" width=\"12px\" zoomAndPan=\"magnify\"><defs/><g><!--MD5=[97bbf32f66ccd50cbc40d92ea8f5a65e]\n",
       "@startuml\r\n",
       "skinparam ranksep 8\r\n",
       "skinparam linetype polyline\r\n",
       "skinparam monochrome true\r\n",
       "skinparam classbackgroundcolor white\r\n",
       "skinparam shadowing false\r\n",
       "skinparam wrapWidth 300\r\n",
       "hide circle\r\n",
       "\r\n",
       "@enduml\r\n",
       "\n",
       "PlantUML version 1.2020.13(Sat Jun 13 12:26:38 UTC 2020)\n",
       "(EPL source distribution)\n",
       "Java Runtime: OpenJDK Runtime Environment\n",
       "JVM: OpenJDK 64-Bit Server VM\n",
       "Default Encoding: UTF-8\n",
       "Language: en\n",
       "Country: null\n",
       "--></g></svg>"
      ]
     },
     "execution_count": 13,
     "metadata": {},
     "output_type": "execute_result"
    }
   ],
   "source": [
    "%viz --style=\"POLYLINE\" --view=\"Action\" \"Q\""
   ]
  },
  {
   "cell_type": "code",
   "execution_count": 14,
   "id": "familiar-tenant",
   "metadata": {
    "execution": {
     "iopub.execute_input": "2021-03-25T13:42:07.423661Z",
     "iopub.status.busy": "2021-03-25T13:42:07.423054Z",
     "iopub.status.idle": "2021-03-25T13:42:07.486838Z",
     "shell.execute_reply": "2021-03-25T13:42:07.486491Z"
    }
   },
   "outputs": [
    {
     "data": {
      "image/svg+xml": [
       "<?xml version=\"1.0\" encoding=\"UTF-8\" standalone=\"no\"?><svg xmlns=\"http://www.w3.org/2000/svg\" xmlns:xlink=\"http://www.w3.org/1999/xlink\" contentScriptType=\"application/ecmascript\" contentStyleType=\"text/css\" height=\"221px\" preserveAspectRatio=\"none\" style=\"width:213px;height:221px;\" version=\"1.1\" viewBox=\"0 0 213 221\" width=\"213px\" zoomAndPan=\"magnify\"><defs/><g><!--MD5=[fbc87193dbaf4d95561dea2c320d4a47]\n",
       "cluster E1--><a href=\"psysml:28439c61-0f75-41f9-9e39-c7479ce99829\" target=\"_top\" title=\"psysml:28439c61-0f75-41f9-9e39-c7479ce99829\" xlink:actuate=\"onRequest\" xlink:href=\"psysml:28439c61-0f75-41f9-9e39-c7479ce99829\" xlink:show=\"new\" xlink:title=\"psysml:28439c61-0f75-41f9-9e39-c7479ce99829\" xlink:type=\"simple\"><polygon fill=\"#FFFFFF\" points=\"16,6,34,6,41,28.2969,191,28.2969,191,209,16,209,16,6\" style=\"stroke: #000000; stroke-width: 1.5;\"/><line style=\"stroke: #000000; stroke-width: 1.5;\" x1=\"16\" x2=\"41\" y1=\"28.2969\" y2=\"28.2969\"/><text fill=\"#000000\" font-family=\"sans-serif\" font-size=\"14\" font-weight=\"bold\" lengthAdjust=\"spacingAndGlyphs\" textLength=\"12\" x=\"20\" y=\"20.9951\">Q</text></a><!--MD5=[b4997ac47864f28c2f74865a473b2911]\n",
       "class E2--><a href=\"psysml:ef5bd6a7-9b0c-4f9f-9d58-83550a9f52f0\" target=\"_top\" title=\"psysml:ef5bd6a7-9b0c-4f9f-9d58-83550a9f52f0\" xlink:actuate=\"onRequest\" xlink:href=\"psysml:ef5bd6a7-9b0c-4f9f-9d58-83550a9f52f0\" xlink:show=\"new\" xlink:title=\"psysml:ef5bd6a7-9b0c-4f9f-9d58-83550a9f52f0\" xlink:type=\"simple\"><rect fill=\"#FFFFFF\" height=\"45.9375\" id=\"E2\" rx=\"10\" ry=\"10\" style=\"stroke: #383838; stroke-width: 1.5;\" width=\"42\" x=\"133\" y=\"41\"/><text fill=\"#000000\" font-family=\"sans-serif\" font-size=\"12\" font-style=\"italic\" lengthAdjust=\"spacingAndGlyphs\" textLength=\"40\" x=\"134\" y=\"57.1387\">«part»</text><text fill=\"#000000\" font-family=\"sans-serif\" font-size=\"12\" lengthAdjust=\"spacingAndGlyphs\" textLength=\"4\" x=\"152\" y=\"71.1074\">f</text><line style=\"stroke: #383838; stroke-width: 1.5;\" x1=\"134\" x2=\"174\" y1=\"78.9375\" y2=\"78.9375\"/></a><!--MD5=[09b614a08d8cba4a07c9adeb5e0fee81]\n",
       "class E3--><a href=\"psysml:b70a2483-525b-464a-8d4b-4d166d754785\" target=\"_top\" title=\"psysml:b70a2483-525b-464a-8d4b-4d166d754785\" xlink:actuate=\"onRequest\" xlink:href=\"psysml:b70a2483-525b-464a-8d4b-4d166d754785\" xlink:show=\"new\" xlink:title=\"psysml:b70a2483-525b-464a-8d4b-4d166d754785\" xlink:type=\"simple\"><rect fill=\"#FFFFFF\" height=\"45.9375\" id=\"E3\" rx=\"10\" ry=\"10\" style=\"stroke: #383838; stroke-width: 1.5;\" width=\"42\" x=\"133\" y=\"147\"/><text fill=\"#000000\" font-family=\"sans-serif\" font-size=\"12\" font-style=\"italic\" lengthAdjust=\"spacingAndGlyphs\" textLength=\"40\" x=\"134\" y=\"163.1387\">«part»</text><text fill=\"#000000\" font-family=\"sans-serif\" font-size=\"12\" lengthAdjust=\"spacingAndGlyphs\" textLength=\"8\" x=\"150\" y=\"177.1074\">a</text><line style=\"stroke: #383838; stroke-width: 1.5;\" x1=\"134\" x2=\"174\" y1=\"184.9375\" y2=\"184.9375\"/></a><!--MD5=[ebbe1d658d1005bcc118a6aa81145e00]\n",
       "class E4--><a href=\"psysml:76b80061-5d22-4116-930d-3b6f4cd610b8\" target=\"_top\" title=\"psysml:76b80061-5d22-4116-930d-3b6f4cd610b8\" xlink:actuate=\"onRequest\" xlink:href=\"psysml:76b80061-5d22-4116-930d-3b6f4cd610b8\" xlink:show=\"new\" xlink:title=\"psysml:76b80061-5d22-4116-930d-3b6f4cd610b8\" xlink:type=\"simple\"><rect fill=\"#FFFFFF\" height=\"45.9375\" id=\"E4\" style=\"stroke: #383838; stroke-width: 1.5;\" width=\"66\" x=\"32\" y=\"41\"/><text fill=\"#000000\" font-family=\"sans-serif\" font-size=\"12\" font-style=\"italic\" lengthAdjust=\"spacingAndGlyphs\" textLength=\"64\" x=\"33\" y=\"57.1387\">«part def»</text><text fill=\"#000000\" font-family=\"sans-serif\" font-size=\"12\" lengthAdjust=\"spacingAndGlyphs\" textLength=\"8\" x=\"61\" y=\"71.1074\">C</text><line style=\"stroke: #383838; stroke-width: 1.5;\" x1=\"33\" x2=\"97\" y1=\"78.9375\" y2=\"78.9375\"/></a><!--MD5=[270fce915f116d4de14055a7c1d9a0f3]\n",
       "class E5--><a href=\"psysml:92e0160d-75a4-4892-b826-902f6ecde3a0\" target=\"_top\" title=\"psysml:92e0160d-75a4-4892-b826-902f6ecde3a0\" xlink:actuate=\"onRequest\" xlink:href=\"psysml:92e0160d-75a4-4892-b826-902f6ecde3a0\" xlink:show=\"new\" xlink:title=\"psysml:92e0160d-75a4-4892-b826-902f6ecde3a0\" xlink:type=\"simple\"><rect fill=\"#FFFFFF\" height=\"45.9375\" id=\"E5\" rx=\"10\" ry=\"10\" style=\"stroke: #383838; stroke-width: 1.5;\" width=\"42\" x=\"44\" y=\"147\"/><text fill=\"#000000\" font-family=\"sans-serif\" font-size=\"12\" font-style=\"italic\" lengthAdjust=\"spacingAndGlyphs\" textLength=\"40\" x=\"45\" y=\"163.1387\">«part»</text><text fill=\"#000000\" font-family=\"sans-serif\" font-size=\"12\" lengthAdjust=\"spacingAndGlyphs\" textLength=\"8\" x=\"61\" y=\"177.1074\">g</text><line style=\"stroke: #383838; stroke-width: 1.5;\" x1=\"45\" x2=\"85\" y1=\"184.9375\" y2=\"184.9375\"/></a><!--MD5=[209b3feb70ccb6233bfe1053d122c12c]\n",
       "reverse link E2 to E3--><a href=\"psysml:b70a2483-525b-464a-8d4b-4d166d754785\" target=\"_top\" title=\"psysml:b70a2483-525b-464a-8d4b-4d166d754785\" xlink:actuate=\"onRequest\" xlink:href=\"psysml:b70a2483-525b-464a-8d4b-4d166d754785\" xlink:show=\"new\" xlink:title=\"psysml:b70a2483-525b-464a-8d4b-4d166d754785\" xlink:type=\"simple\"><path d=\"M154,100.44 C154,115.87 154,133.47 154,146.98 \" fill=\"none\" id=\"E2&lt;-E3\" style=\"stroke: #383838; stroke-width: 1.0;\"/><polygon fill=\"#383838\" points=\"154,87.06,150,93.06,154,99.06,158,93.06,154,87.06\" style=\"stroke: #383838; stroke-width: 1.0;\"/></a><!--MD5=[62aa6af11e70f752912c1cb0466f24f7]\n",
       "reverse link E4 to E5--><a href=\"psysml:92e0160d-75a4-4892-b826-902f6ecde3a0\" target=\"_top\" title=\"psysml:92e0160d-75a4-4892-b826-902f6ecde3a0\" xlink:actuate=\"onRequest\" xlink:href=\"psysml:92e0160d-75a4-4892-b826-902f6ecde3a0\" xlink:show=\"new\" xlink:title=\"psysml:92e0160d-75a4-4892-b826-902f6ecde3a0\" xlink:type=\"simple\"><path d=\"M65,100.44 C65,115.87 65,133.47 65,146.98 \" fill=\"none\" id=\"E4&lt;-E5\" style=\"stroke: #383838; stroke-width: 1.0;\"/><polygon fill=\"#383838\" points=\"65,87.06,61,93.06,65,99.06,69,93.06,65,87.06\" style=\"stroke: #383838; stroke-width: 1.0;\"/></a><!--MD5=[a9b8a4649ff00492053c9fabff953ab4]\n",
       "@startuml\r\n",
       "skinparam linetype polyline\r\n",
       "skinparam monochrome true\r\n",
       "skinparam classbackgroundcolor white\r\n",
       "skinparam shadowing false\r\n",
       "skinparam wrapWidth 300\r\n",
       "hide circle\r\n",
       "\r\n",
       "package \"Q\" as E1  [[psysml:28439c61-0f75-41f9-9e39-c7479ce99829 ]]  {\r\n",
       "comp usage \"f\" as E2  <<(T,blue)part>> [[psysml:ef5bd6a7-9b0c-4f9f-9d58-83550a9f52f0 ]] {\r\n",
       "}\r\n",
       "comp usage \"a\" as E3  <<(T,blue)part>> [[psysml:b70a2483-525b-464a-8d4b-4d166d754785 ]] {\r\n",
       "}\r\n",
       "comp def \"C\" as E4  <<(T,blue)part def>> [[psysml:76b80061-5d22-4116-930d-3b6f4cd610b8 ]] {\r\n",
       "}\r\n",
       "comp usage \"g\" as E5  <<(T,blue)part>> [[psysml:92e0160d-75a4-4892-b826-902f6ecde3a0 ]] {\r\n",
       "}\r\n",
       "E2 *- - E3 [[psysml:b70a2483-525b-464a-8d4b-4d166d754785 ]] \r\n",
       "E4 *- - E5 [[psysml:92e0160d-75a4-4892-b826-902f6ecde3a0 ]] \r\n",
       "}\r\n",
       "@enduml\r\n",
       "\n",
       "PlantUML version 1.2020.13(Sat Jun 13 12:26:38 UTC 2020)\n",
       "(EPL source distribution)\n",
       "Java Runtime: OpenJDK Runtime Environment\n",
       "JVM: OpenJDK 64-Bit Server VM\n",
       "Default Encoding: UTF-8\n",
       "Language: en\n",
       "Country: null\n",
       "--></g></svg>"
      ]
     },
     "execution_count": 14,
     "metadata": {},
     "output_type": "execute_result"
    }
   ],
   "source": [
    "%viz --style=\"POLYLINE\" --view=\"Sequence\" \"Q\""
   ]
  },
  {
   "cell_type": "code",
   "execution_count": 15,
   "id": "abroad-accessory",
   "metadata": {
    "execution": {
     "iopub.execute_input": "2021-03-25T13:42:07.537222Z",
     "iopub.status.busy": "2021-03-25T13:42:07.536687Z",
     "iopub.status.idle": "2021-03-25T13:42:07.595094Z",
     "shell.execute_reply": "2021-03-25T13:42:07.595590Z"
    }
   },
   "outputs": [
    {
     "data": {
      "image/svg+xml": [
       "<?xml version=\"1.0\" encoding=\"UTF-8\" standalone=\"no\"?><svg xmlns=\"http://www.w3.org/2000/svg\" xmlns:xlink=\"http://www.w3.org/1999/xlink\" contentScriptType=\"application/ecmascript\" contentStyleType=\"text/css\" height=\"221px\" preserveAspectRatio=\"none\" style=\"width:213px;height:221px;\" version=\"1.1\" viewBox=\"0 0 213 221\" width=\"213px\" zoomAndPan=\"magnify\"><defs/><g><!--MD5=[fbc87193dbaf4d95561dea2c320d4a47]\n",
       "cluster E1--><a href=\"psysml:28439c61-0f75-41f9-9e39-c7479ce99829\" target=\"_top\" title=\"psysml:28439c61-0f75-41f9-9e39-c7479ce99829\" xlink:actuate=\"onRequest\" xlink:href=\"psysml:28439c61-0f75-41f9-9e39-c7479ce99829\" xlink:show=\"new\" xlink:title=\"psysml:28439c61-0f75-41f9-9e39-c7479ce99829\" xlink:type=\"simple\"><polygon fill=\"#FFFFFF\" points=\"16,6,34,6,41,28.2969,191,28.2969,191,209,16,209,16,6\" style=\"stroke: #000000; stroke-width: 1.5;\"/><line style=\"stroke: #000000; stroke-width: 1.5;\" x1=\"16\" x2=\"41\" y1=\"28.2969\" y2=\"28.2969\"/><text fill=\"#000000\" font-family=\"sans-serif\" font-size=\"14\" font-weight=\"bold\" lengthAdjust=\"spacingAndGlyphs\" textLength=\"12\" x=\"20\" y=\"20.9951\">Q</text></a><!--MD5=[b4997ac47864f28c2f74865a473b2911]\n",
       "class E2--><a href=\"psysml:ef5bd6a7-9b0c-4f9f-9d58-83550a9f52f0\" target=\"_top\" title=\"psysml:ef5bd6a7-9b0c-4f9f-9d58-83550a9f52f0\" xlink:actuate=\"onRequest\" xlink:href=\"psysml:ef5bd6a7-9b0c-4f9f-9d58-83550a9f52f0\" xlink:show=\"new\" xlink:title=\"psysml:ef5bd6a7-9b0c-4f9f-9d58-83550a9f52f0\" xlink:type=\"simple\"><rect fill=\"#FFFFFF\" height=\"45.9375\" id=\"E2\" rx=\"10\" ry=\"10\" style=\"stroke: #383838; stroke-width: 1.5;\" width=\"42\" x=\"133\" y=\"41\"/><text fill=\"#000000\" font-family=\"sans-serif\" font-size=\"12\" font-style=\"italic\" lengthAdjust=\"spacingAndGlyphs\" textLength=\"40\" x=\"134\" y=\"57.1387\">«part»</text><text fill=\"#000000\" font-family=\"sans-serif\" font-size=\"12\" lengthAdjust=\"spacingAndGlyphs\" textLength=\"4\" x=\"152\" y=\"71.1074\">f</text><line style=\"stroke: #383838; stroke-width: 1.5;\" x1=\"134\" x2=\"174\" y1=\"78.9375\" y2=\"78.9375\"/></a><!--MD5=[09b614a08d8cba4a07c9adeb5e0fee81]\n",
       "class E3--><a href=\"psysml:b70a2483-525b-464a-8d4b-4d166d754785\" target=\"_top\" title=\"psysml:b70a2483-525b-464a-8d4b-4d166d754785\" xlink:actuate=\"onRequest\" xlink:href=\"psysml:b70a2483-525b-464a-8d4b-4d166d754785\" xlink:show=\"new\" xlink:title=\"psysml:b70a2483-525b-464a-8d4b-4d166d754785\" xlink:type=\"simple\"><rect fill=\"#FFFFFF\" height=\"45.9375\" id=\"E3\" rx=\"10\" ry=\"10\" style=\"stroke: #383838; stroke-width: 1.5;\" width=\"42\" x=\"133\" y=\"147\"/><text fill=\"#000000\" font-family=\"sans-serif\" font-size=\"12\" font-style=\"italic\" lengthAdjust=\"spacingAndGlyphs\" textLength=\"40\" x=\"134\" y=\"163.1387\">«part»</text><text fill=\"#000000\" font-family=\"sans-serif\" font-size=\"12\" lengthAdjust=\"spacingAndGlyphs\" textLength=\"8\" x=\"150\" y=\"177.1074\">a</text><line style=\"stroke: #383838; stroke-width: 1.5;\" x1=\"134\" x2=\"174\" y1=\"184.9375\" y2=\"184.9375\"/></a><!--MD5=[ebbe1d658d1005bcc118a6aa81145e00]\n",
       "class E4--><a href=\"psysml:76b80061-5d22-4116-930d-3b6f4cd610b8\" target=\"_top\" title=\"psysml:76b80061-5d22-4116-930d-3b6f4cd610b8\" xlink:actuate=\"onRequest\" xlink:href=\"psysml:76b80061-5d22-4116-930d-3b6f4cd610b8\" xlink:show=\"new\" xlink:title=\"psysml:76b80061-5d22-4116-930d-3b6f4cd610b8\" xlink:type=\"simple\"><rect fill=\"#FFFFFF\" height=\"45.9375\" id=\"E4\" style=\"stroke: #383838; stroke-width: 1.5;\" width=\"66\" x=\"32\" y=\"41\"/><text fill=\"#000000\" font-family=\"sans-serif\" font-size=\"12\" font-style=\"italic\" lengthAdjust=\"spacingAndGlyphs\" textLength=\"64\" x=\"33\" y=\"57.1387\">«part def»</text><text fill=\"#000000\" font-family=\"sans-serif\" font-size=\"12\" lengthAdjust=\"spacingAndGlyphs\" textLength=\"8\" x=\"61\" y=\"71.1074\">C</text><line style=\"stroke: #383838; stroke-width: 1.5;\" x1=\"33\" x2=\"97\" y1=\"78.9375\" y2=\"78.9375\"/></a><!--MD5=[270fce915f116d4de14055a7c1d9a0f3]\n",
       "class E5--><a href=\"psysml:92e0160d-75a4-4892-b826-902f6ecde3a0\" target=\"_top\" title=\"psysml:92e0160d-75a4-4892-b826-902f6ecde3a0\" xlink:actuate=\"onRequest\" xlink:href=\"psysml:92e0160d-75a4-4892-b826-902f6ecde3a0\" xlink:show=\"new\" xlink:title=\"psysml:92e0160d-75a4-4892-b826-902f6ecde3a0\" xlink:type=\"simple\"><rect fill=\"#FFFFFF\" height=\"45.9375\" id=\"E5\" rx=\"10\" ry=\"10\" style=\"stroke: #383838; stroke-width: 1.5;\" width=\"42\" x=\"44\" y=\"147\"/><text fill=\"#000000\" font-family=\"sans-serif\" font-size=\"12\" font-style=\"italic\" lengthAdjust=\"spacingAndGlyphs\" textLength=\"40\" x=\"45\" y=\"163.1387\">«part»</text><text fill=\"#000000\" font-family=\"sans-serif\" font-size=\"12\" lengthAdjust=\"spacingAndGlyphs\" textLength=\"8\" x=\"61\" y=\"177.1074\">g</text><line style=\"stroke: #383838; stroke-width: 1.5;\" x1=\"45\" x2=\"85\" y1=\"184.9375\" y2=\"184.9375\"/></a><!--MD5=[209b3feb70ccb6233bfe1053d122c12c]\n",
       "reverse link E2 to E3--><a href=\"psysml:b70a2483-525b-464a-8d4b-4d166d754785\" target=\"_top\" title=\"psysml:b70a2483-525b-464a-8d4b-4d166d754785\" xlink:actuate=\"onRequest\" xlink:href=\"psysml:b70a2483-525b-464a-8d4b-4d166d754785\" xlink:show=\"new\" xlink:title=\"psysml:b70a2483-525b-464a-8d4b-4d166d754785\" xlink:type=\"simple\"><path d=\"M154,100.44 C154,115.87 154,133.47 154,146.98 \" fill=\"none\" id=\"E2&lt;-E3\" style=\"stroke: #383838; stroke-width: 1.0;\"/><polygon fill=\"#383838\" points=\"154,87.06,150,93.06,154,99.06,158,93.06,154,87.06\" style=\"stroke: #383838; stroke-width: 1.0;\"/></a><!--MD5=[62aa6af11e70f752912c1cb0466f24f7]\n",
       "reverse link E4 to E5--><a href=\"psysml:92e0160d-75a4-4892-b826-902f6ecde3a0\" target=\"_top\" title=\"psysml:92e0160d-75a4-4892-b826-902f6ecde3a0\" xlink:actuate=\"onRequest\" xlink:href=\"psysml:92e0160d-75a4-4892-b826-902f6ecde3a0\" xlink:show=\"new\" xlink:title=\"psysml:92e0160d-75a4-4892-b826-902f6ecde3a0\" xlink:type=\"simple\"><path d=\"M65,100.44 C65,115.87 65,133.47 65,146.98 \" fill=\"none\" id=\"E4&lt;-E5\" style=\"stroke: #383838; stroke-width: 1.0;\"/><polygon fill=\"#383838\" points=\"65,87.06,61,93.06,65,99.06,69,93.06,65,87.06\" style=\"stroke: #383838; stroke-width: 1.0;\"/></a><!--MD5=[a9b8a4649ff00492053c9fabff953ab4]\n",
       "@startuml\r\n",
       "skinparam linetype polyline\r\n",
       "skinparam monochrome true\r\n",
       "skinparam classbackgroundcolor white\r\n",
       "skinparam shadowing false\r\n",
       "skinparam wrapWidth 300\r\n",
       "hide circle\r\n",
       "\r\n",
       "package \"Q\" as E1  [[psysml:28439c61-0f75-41f9-9e39-c7479ce99829 ]]  {\r\n",
       "comp usage \"f\" as E2  <<(T,blue)part>> [[psysml:ef5bd6a7-9b0c-4f9f-9d58-83550a9f52f0 ]] {\r\n",
       "}\r\n",
       "comp usage \"a\" as E3  <<(T,blue)part>> [[psysml:b70a2483-525b-464a-8d4b-4d166d754785 ]] {\r\n",
       "}\r\n",
       "comp def \"C\" as E4  <<(T,blue)part def>> [[psysml:76b80061-5d22-4116-930d-3b6f4cd610b8 ]] {\r\n",
       "}\r\n",
       "comp usage \"g\" as E5  <<(T,blue)part>> [[psysml:92e0160d-75a4-4892-b826-902f6ecde3a0 ]] {\r\n",
       "}\r\n",
       "E2 *- - E3 [[psysml:b70a2483-525b-464a-8d4b-4d166d754785 ]] \r\n",
       "E4 *- - E5 [[psysml:92e0160d-75a4-4892-b826-902f6ecde3a0 ]] \r\n",
       "}\r\n",
       "@enduml\r\n",
       "\n",
       "PlantUML version 1.2020.13(Sat Jun 13 12:26:38 UTC 2020)\n",
       "(EPL source distribution)\n",
       "Java Runtime: OpenJDK Runtime Environment\n",
       "JVM: OpenJDK 64-Bit Server VM\n",
       "Default Encoding: UTF-8\n",
       "Language: en\n",
       "Country: null\n",
       "--></g></svg>"
      ]
     },
     "execution_count": 15,
     "metadata": {},
     "output_type": "execute_result"
    }
   ],
   "source": [
    "%viz --style=\"POLYLINE\" --view=\"MIXED\" \"Q\""
   ]
  },
  {
   "cell_type": "code",
   "execution_count": 16,
   "id": "first-tragedy",
   "metadata": {
    "execution": {
     "iopub.execute_input": "2021-03-25T13:42:07.646479Z",
     "iopub.status.busy": "2021-03-25T13:42:07.645995Z",
     "iopub.status.idle": "2021-03-25T13:42:07.706552Z",
     "shell.execute_reply": "2021-03-25T13:42:07.705892Z"
    }
   },
   "outputs": [
    {
     "data": {
      "image/svg+xml": [
       "<?xml version=\"1.0\" encoding=\"UTF-8\" standalone=\"no\"?><svg xmlns=\"http://www.w3.org/2000/svg\" xmlns:xlink=\"http://www.w3.org/1999/xlink\" contentScriptType=\"application/ecmascript\" contentStyleType=\"text/css\" height=\"196px\" preserveAspectRatio=\"none\" style=\"width:238px;height:196px;\" version=\"1.1\" viewBox=\"0 0 238 196\" width=\"238px\" zoomAndPan=\"magnify\"><defs/><g><!--MD5=[fbc87193dbaf4d95561dea2c320d4a47]\n",
       "cluster E1--><a href=\"psysml:28439c61-0f75-41f9-9e39-c7479ce99829\" target=\"_top\" title=\"psysml:28439c61-0f75-41f9-9e39-c7479ce99829\" xlink:actuate=\"onRequest\" xlink:href=\"psysml:28439c61-0f75-41f9-9e39-c7479ce99829\" xlink:show=\"new\" xlink:title=\"psysml:28439c61-0f75-41f9-9e39-c7479ce99829\" xlink:type=\"simple\"><polygon fill=\"#FFFFFF\" points=\"16,6,34,6,41,28.2969,216,28.2969,216,184,16,184,16,6\" style=\"stroke: #000000; stroke-width: 1.5;\"/><line style=\"stroke: #000000; stroke-width: 1.5;\" x1=\"16\" x2=\"41\" y1=\"28.2969\" y2=\"28.2969\"/><text fill=\"#000000\" font-family=\"sans-serif\" font-size=\"14\" font-weight=\"bold\" lengthAdjust=\"spacingAndGlyphs\" textLength=\"12\" x=\"20\" y=\"20.9951\">Q</text></a><!--MD5=[b4997ac47864f28c2f74865a473b2911]\n",
       "class E2--><a href=\"psysml:ef5bd6a7-9b0c-4f9f-9d58-83550a9f52f0\" target=\"_top\" title=\"psysml:ef5bd6a7-9b0c-4f9f-9d58-83550a9f52f0\" xlink:actuate=\"onRequest\" xlink:href=\"psysml:ef5bd6a7-9b0c-4f9f-9d58-83550a9f52f0\" xlink:show=\"new\" xlink:title=\"psysml:ef5bd6a7-9b0c-4f9f-9d58-83550a9f52f0\" xlink:type=\"simple\"><rect fill=\"#FFFFFF\" height=\"45.9375\" id=\"E2\" rx=\"10\" ry=\"10\" style=\"stroke: #383838; stroke-width: 1.5;\" width=\"42\" x=\"44\" y=\"41\"/><text fill=\"#000000\" font-family=\"sans-serif\" font-size=\"12\" font-style=\"italic\" lengthAdjust=\"spacingAndGlyphs\" textLength=\"40\" x=\"45\" y=\"57.1387\">«part»</text><text fill=\"#000000\" font-family=\"sans-serif\" font-size=\"12\" lengthAdjust=\"spacingAndGlyphs\" textLength=\"4\" x=\"63\" y=\"71.1074\">f</text><line style=\"stroke: #383838; stroke-width: 1.5;\" x1=\"45\" x2=\"85\" y1=\"78.9375\" y2=\"78.9375\"/></a><!--MD5=[09b614a08d8cba4a07c9adeb5e0fee81]\n",
       "class E3--><a href=\"psysml:b70a2483-525b-464a-8d4b-4d166d754785\" target=\"_top\" title=\"psysml:b70a2483-525b-464a-8d4b-4d166d754785\" xlink:actuate=\"onRequest\" xlink:href=\"psysml:b70a2483-525b-464a-8d4b-4d166d754785\" xlink:show=\"new\" xlink:title=\"psysml:b70a2483-525b-464a-8d4b-4d166d754785\" xlink:type=\"simple\"><rect fill=\"#FFFFFF\" height=\"45.9375\" id=\"E3\" rx=\"10\" ry=\"10\" style=\"stroke: #383838; stroke-width: 1.5;\" width=\"42\" x=\"158\" y=\"41\"/><text fill=\"#000000\" font-family=\"sans-serif\" font-size=\"12\" font-style=\"italic\" lengthAdjust=\"spacingAndGlyphs\" textLength=\"40\" x=\"159\" y=\"57.1387\">«part»</text><text fill=\"#000000\" font-family=\"sans-serif\" font-size=\"12\" lengthAdjust=\"spacingAndGlyphs\" textLength=\"8\" x=\"175\" y=\"71.1074\">a</text><line style=\"stroke: #383838; stroke-width: 1.5;\" x1=\"159\" x2=\"199\" y1=\"78.9375\" y2=\"78.9375\"/></a><!--MD5=[ebbe1d658d1005bcc118a6aa81145e00]\n",
       "class E4--><a href=\"psysml:76b80061-5d22-4116-930d-3b6f4cd610b8\" target=\"_top\" title=\"psysml:76b80061-5d22-4116-930d-3b6f4cd610b8\" xlink:actuate=\"onRequest\" xlink:href=\"psysml:76b80061-5d22-4116-930d-3b6f4cd610b8\" xlink:show=\"new\" xlink:title=\"psysml:76b80061-5d22-4116-930d-3b6f4cd610b8\" xlink:type=\"simple\"><rect fill=\"#FFFFFF\" height=\"45.9375\" id=\"E4\" style=\"stroke: #383838; stroke-width: 1.5;\" width=\"66\" x=\"32\" y=\"122\"/><text fill=\"#000000\" font-family=\"sans-serif\" font-size=\"12\" font-style=\"italic\" lengthAdjust=\"spacingAndGlyphs\" textLength=\"64\" x=\"33\" y=\"138.1387\">«part def»</text><text fill=\"#000000\" font-family=\"sans-serif\" font-size=\"12\" lengthAdjust=\"spacingAndGlyphs\" textLength=\"8\" x=\"61\" y=\"152.1074\">C</text><line style=\"stroke: #383838; stroke-width: 1.5;\" x1=\"33\" x2=\"97\" y1=\"159.9375\" y2=\"159.9375\"/></a><!--MD5=[270fce915f116d4de14055a7c1d9a0f3]\n",
       "class E5--><a href=\"psysml:92e0160d-75a4-4892-b826-902f6ecde3a0\" target=\"_top\" title=\"psysml:92e0160d-75a4-4892-b826-902f6ecde3a0\" xlink:actuate=\"onRequest\" xlink:href=\"psysml:92e0160d-75a4-4892-b826-902f6ecde3a0\" xlink:show=\"new\" xlink:title=\"psysml:92e0160d-75a4-4892-b826-902f6ecde3a0\" xlink:type=\"simple\"><rect fill=\"#FFFFFF\" height=\"45.9375\" id=\"E5\" rx=\"10\" ry=\"10\" style=\"stroke: #383838; stroke-width: 1.5;\" width=\"42\" x=\"158\" y=\"122\"/><text fill=\"#000000\" font-family=\"sans-serif\" font-size=\"12\" font-style=\"italic\" lengthAdjust=\"spacingAndGlyphs\" textLength=\"40\" x=\"159\" y=\"138.1387\">«part»</text><text fill=\"#000000\" font-family=\"sans-serif\" font-size=\"12\" lengthAdjust=\"spacingAndGlyphs\" textLength=\"8\" x=\"175\" y=\"152.1074\">g</text><line style=\"stroke: #383838; stroke-width: 1.5;\" x1=\"159\" x2=\"199\" y1=\"159.9375\" y2=\"159.9375\"/></a><!--MD5=[209b3feb70ccb6233bfe1053d122c12c]\n",
       "reverse link E2 to E3--><a href=\"psysml:b70a2483-525b-464a-8d4b-4d166d754785\" target=\"_top\" title=\"psysml:b70a2483-525b-464a-8d4b-4d166d754785\" xlink:actuate=\"onRequest\" xlink:href=\"psysml:b70a2483-525b-464a-8d4b-4d166d754785\" xlink:show=\"new\" xlink:title=\"psysml:b70a2483-525b-464a-8d4b-4d166d754785\" xlink:type=\"simple\"><path d=\"M99.26,64 C118.27,64 141.49,64 157.77,64 \" fill=\"none\" id=\"E2&lt;-E3\" style=\"stroke: #383838; stroke-width: 1.0;\"/><polygon fill=\"#383838\" points=\"86.02,64,92.02,68,98.02,64,92.02,60,86.02,64\" style=\"stroke: #383838; stroke-width: 1.0;\"/></a><!--MD5=[62aa6af11e70f752912c1cb0466f24f7]\n",
       "reverse link E4 to E5--><a href=\"psysml:92e0160d-75a4-4892-b826-902f6ecde3a0\" target=\"_top\" title=\"psysml:92e0160d-75a4-4892-b826-902f6ecde3a0\" xlink:actuate=\"onRequest\" xlink:href=\"psysml:92e0160d-75a4-4892-b826-902f6ecde3a0\" xlink:show=\"new\" xlink:title=\"psysml:92e0160d-75a4-4892-b826-902f6ecde3a0\" xlink:type=\"simple\"><path d=\"M111.28,145 C127.47,145 144.9,145 157.89,145 \" fill=\"none\" id=\"E4&lt;-E5\" style=\"stroke: #383838; stroke-width: 1.0;\"/><polygon fill=\"#383838\" points=\"98.09,145,104.09,149,110.09,145,104.09,141,98.09,145\" style=\"stroke: #383838; stroke-width: 1.0;\"/></a><!--MD5=[7306a411f3e232ce6776e4acc3fc7e6f]\n",
       "@startuml\r\n",
       "left to right direction\r\n",
       "skinparam monochrome true\r\n",
       "skinparam classbackgroundcolor white\r\n",
       "skinparam shadowing false\r\n",
       "skinparam wrapWidth 300\r\n",
       "hide circle\r\n",
       "\r\n",
       "package \"Q\" as E1  [[psysml:28439c61-0f75-41f9-9e39-c7479ce99829 ]]  {\r\n",
       "comp usage \"f\" as E2  <<(T,blue)part>> [[psysml:ef5bd6a7-9b0c-4f9f-9d58-83550a9f52f0 ]] {\r\n",
       "}\r\n",
       "comp usage \"a\" as E3  <<(T,blue)part>> [[psysml:b70a2483-525b-464a-8d4b-4d166d754785 ]] {\r\n",
       "}\r\n",
       "comp def \"C\" as E4  <<(T,blue)part def>> [[psysml:76b80061-5d22-4116-930d-3b6f4cd610b8 ]] {\r\n",
       "}\r\n",
       "comp usage \"g\" as E5  <<(T,blue)part>> [[psysml:92e0160d-75a4-4892-b826-902f6ecde3a0 ]] {\r\n",
       "}\r\n",
       "E2 *- - E3 [[psysml:b70a2483-525b-464a-8d4b-4d166d754785 ]] \r\n",
       "E4 *- - E5 [[psysml:92e0160d-75a4-4892-b826-902f6ecde3a0 ]] \r\n",
       "}\r\n",
       "@enduml\r\n",
       "\n",
       "PlantUML version 1.2020.13(Sat Jun 13 12:26:38 UTC 2020)\n",
       "(EPL source distribution)\n",
       "Java Runtime: OpenJDK Runtime Environment\n",
       "JVM: OpenJDK 64-Bit Server VM\n",
       "Default Encoding: UTF-8\n",
       "Language: en\n",
       "Country: null\n",
       "--></g></svg>"
      ]
     },
     "execution_count": 16,
     "metadata": {},
     "output_type": "execute_result"
    }
   ],
   "source": [
    "%viz --style=\"LR\" --view=\"Default\" \"Q\""
   ]
  },
  {
   "cell_type": "code",
   "execution_count": 17,
   "id": "friendly-journey",
   "metadata": {
    "execution": {
     "iopub.execute_input": "2021-03-25T13:42:07.758237Z",
     "iopub.status.busy": "2021-03-25T13:42:07.757094Z",
     "iopub.status.idle": "2021-03-25T13:42:07.816306Z",
     "shell.execute_reply": "2021-03-25T13:42:07.814546Z"
    }
   },
   "outputs": [
    {
     "data": {
      "image/svg+xml": [
       "<?xml version=\"1.0\" encoding=\"UTF-8\" standalone=\"no\"?><svg xmlns=\"http://www.w3.org/2000/svg\" xmlns:xlink=\"http://www.w3.org/1999/xlink\" contentScriptType=\"application/ecmascript\" contentStyleType=\"text/css\" height=\"196px\" preserveAspectRatio=\"none\" style=\"width:238px;height:196px;\" version=\"1.1\" viewBox=\"0 0 238 196\" width=\"238px\" zoomAndPan=\"magnify\"><defs/><g><!--MD5=[fbc87193dbaf4d95561dea2c320d4a47]\n",
       "cluster E1--><a href=\"psysml:28439c61-0f75-41f9-9e39-c7479ce99829\" target=\"_top\" title=\"psysml:28439c61-0f75-41f9-9e39-c7479ce99829\" xlink:actuate=\"onRequest\" xlink:href=\"psysml:28439c61-0f75-41f9-9e39-c7479ce99829\" xlink:show=\"new\" xlink:title=\"psysml:28439c61-0f75-41f9-9e39-c7479ce99829\" xlink:type=\"simple\"><polygon fill=\"#FFFFFF\" points=\"16,6,34,6,41,28.2969,216,28.2969,216,184,16,184,16,6\" style=\"stroke: #000000; stroke-width: 1.5;\"/><line style=\"stroke: #000000; stroke-width: 1.5;\" x1=\"16\" x2=\"41\" y1=\"28.2969\" y2=\"28.2969\"/><text fill=\"#000000\" font-family=\"sans-serif\" font-size=\"14\" font-weight=\"bold\" lengthAdjust=\"spacingAndGlyphs\" textLength=\"12\" x=\"20\" y=\"20.9951\">Q</text></a><!--MD5=[b4997ac47864f28c2f74865a473b2911]\n",
       "class E2--><a href=\"psysml:ef5bd6a7-9b0c-4f9f-9d58-83550a9f52f0\" target=\"_top\" title=\"psysml:ef5bd6a7-9b0c-4f9f-9d58-83550a9f52f0\" xlink:actuate=\"onRequest\" xlink:href=\"psysml:ef5bd6a7-9b0c-4f9f-9d58-83550a9f52f0\" xlink:show=\"new\" xlink:title=\"psysml:ef5bd6a7-9b0c-4f9f-9d58-83550a9f52f0\" xlink:type=\"simple\"><rect fill=\"#FFFFFF\" height=\"45.9375\" id=\"E2\" rx=\"10\" ry=\"10\" style=\"stroke: #383838; stroke-width: 1.5;\" width=\"42\" x=\"44\" y=\"41\"/><text fill=\"#000000\" font-family=\"sans-serif\" font-size=\"12\" font-style=\"italic\" lengthAdjust=\"spacingAndGlyphs\" textLength=\"40\" x=\"45\" y=\"57.1387\">«part»</text><text fill=\"#000000\" font-family=\"sans-serif\" font-size=\"12\" lengthAdjust=\"spacingAndGlyphs\" textLength=\"4\" x=\"63\" y=\"71.1074\">f</text><line style=\"stroke: #383838; stroke-width: 1.5;\" x1=\"45\" x2=\"85\" y1=\"78.9375\" y2=\"78.9375\"/></a><!--MD5=[09b614a08d8cba4a07c9adeb5e0fee81]\n",
       "class E3--><a href=\"psysml:b70a2483-525b-464a-8d4b-4d166d754785\" target=\"_top\" title=\"psysml:b70a2483-525b-464a-8d4b-4d166d754785\" xlink:actuate=\"onRequest\" xlink:href=\"psysml:b70a2483-525b-464a-8d4b-4d166d754785\" xlink:show=\"new\" xlink:title=\"psysml:b70a2483-525b-464a-8d4b-4d166d754785\" xlink:type=\"simple\"><rect fill=\"#FFFFFF\" height=\"45.9375\" id=\"E3\" rx=\"10\" ry=\"10\" style=\"stroke: #383838; stroke-width: 1.5;\" width=\"42\" x=\"158\" y=\"41\"/><text fill=\"#000000\" font-family=\"sans-serif\" font-size=\"12\" font-style=\"italic\" lengthAdjust=\"spacingAndGlyphs\" textLength=\"40\" x=\"159\" y=\"57.1387\">«part»</text><text fill=\"#000000\" font-family=\"sans-serif\" font-size=\"12\" lengthAdjust=\"spacingAndGlyphs\" textLength=\"8\" x=\"175\" y=\"71.1074\">a</text><line style=\"stroke: #383838; stroke-width: 1.5;\" x1=\"159\" x2=\"199\" y1=\"78.9375\" y2=\"78.9375\"/></a><!--MD5=[ebbe1d658d1005bcc118a6aa81145e00]\n",
       "class E4--><a href=\"psysml:76b80061-5d22-4116-930d-3b6f4cd610b8\" target=\"_top\" title=\"psysml:76b80061-5d22-4116-930d-3b6f4cd610b8\" xlink:actuate=\"onRequest\" xlink:href=\"psysml:76b80061-5d22-4116-930d-3b6f4cd610b8\" xlink:show=\"new\" xlink:title=\"psysml:76b80061-5d22-4116-930d-3b6f4cd610b8\" xlink:type=\"simple\"><rect fill=\"#FFFFFF\" height=\"45.9375\" id=\"E4\" style=\"stroke: #383838; stroke-width: 1.5;\" width=\"66\" x=\"32\" y=\"122\"/><text fill=\"#000000\" font-family=\"sans-serif\" font-size=\"12\" font-style=\"italic\" lengthAdjust=\"spacingAndGlyphs\" textLength=\"64\" x=\"33\" y=\"138.1387\">«part def»</text><text fill=\"#000000\" font-family=\"sans-serif\" font-size=\"12\" lengthAdjust=\"spacingAndGlyphs\" textLength=\"8\" x=\"61\" y=\"152.1074\">C</text><line style=\"stroke: #383838; stroke-width: 1.5;\" x1=\"33\" x2=\"97\" y1=\"159.9375\" y2=\"159.9375\"/></a><!--MD5=[270fce915f116d4de14055a7c1d9a0f3]\n",
       "class E5--><a href=\"psysml:92e0160d-75a4-4892-b826-902f6ecde3a0\" target=\"_top\" title=\"psysml:92e0160d-75a4-4892-b826-902f6ecde3a0\" xlink:actuate=\"onRequest\" xlink:href=\"psysml:92e0160d-75a4-4892-b826-902f6ecde3a0\" xlink:show=\"new\" xlink:title=\"psysml:92e0160d-75a4-4892-b826-902f6ecde3a0\" xlink:type=\"simple\"><rect fill=\"#FFFFFF\" height=\"45.9375\" id=\"E5\" rx=\"10\" ry=\"10\" style=\"stroke: #383838; stroke-width: 1.5;\" width=\"42\" x=\"158\" y=\"122\"/><text fill=\"#000000\" font-family=\"sans-serif\" font-size=\"12\" font-style=\"italic\" lengthAdjust=\"spacingAndGlyphs\" textLength=\"40\" x=\"159\" y=\"138.1387\">«part»</text><text fill=\"#000000\" font-family=\"sans-serif\" font-size=\"12\" lengthAdjust=\"spacingAndGlyphs\" textLength=\"8\" x=\"175\" y=\"152.1074\">g</text><line style=\"stroke: #383838; stroke-width: 1.5;\" x1=\"159\" x2=\"199\" y1=\"159.9375\" y2=\"159.9375\"/></a><!--MD5=[209b3feb70ccb6233bfe1053d122c12c]\n",
       "reverse link E2 to E3--><a href=\"psysml:b70a2483-525b-464a-8d4b-4d166d754785\" target=\"_top\" title=\"psysml:b70a2483-525b-464a-8d4b-4d166d754785\" xlink:actuate=\"onRequest\" xlink:href=\"psysml:b70a2483-525b-464a-8d4b-4d166d754785\" xlink:show=\"new\" xlink:title=\"psysml:b70a2483-525b-464a-8d4b-4d166d754785\" xlink:type=\"simple\"><path d=\"M99.26,64 C118.27,64 141.49,64 157.77,64 \" fill=\"none\" id=\"E2&lt;-E3\" style=\"stroke: #383838; stroke-width: 1.0;\"/><polygon fill=\"#383838\" points=\"86.02,64,92.02,68,98.02,64,92.02,60,86.02,64\" style=\"stroke: #383838; stroke-width: 1.0;\"/></a><!--MD5=[62aa6af11e70f752912c1cb0466f24f7]\n",
       "reverse link E4 to E5--><a href=\"psysml:92e0160d-75a4-4892-b826-902f6ecde3a0\" target=\"_top\" title=\"psysml:92e0160d-75a4-4892-b826-902f6ecde3a0\" xlink:actuate=\"onRequest\" xlink:href=\"psysml:92e0160d-75a4-4892-b826-902f6ecde3a0\" xlink:show=\"new\" xlink:title=\"psysml:92e0160d-75a4-4892-b826-902f6ecde3a0\" xlink:type=\"simple\"><path d=\"M111.28,145 C127.47,145 144.9,145 157.89,145 \" fill=\"none\" id=\"E4&lt;-E5\" style=\"stroke: #383838; stroke-width: 1.0;\"/><polygon fill=\"#383838\" points=\"98.09,145,104.09,149,110.09,145,104.09,141,98.09,145\" style=\"stroke: #383838; stroke-width: 1.0;\"/></a><!--MD5=[7306a411f3e232ce6776e4acc3fc7e6f]\n",
       "@startuml\r\n",
       "left to right direction\r\n",
       "skinparam monochrome true\r\n",
       "skinparam classbackgroundcolor white\r\n",
       "skinparam shadowing false\r\n",
       "skinparam wrapWidth 300\r\n",
       "hide circle\r\n",
       "\r\n",
       "package \"Q\" as E1  [[psysml:28439c61-0f75-41f9-9e39-c7479ce99829 ]]  {\r\n",
       "comp usage \"f\" as E2  <<(T,blue)part>> [[psysml:ef5bd6a7-9b0c-4f9f-9d58-83550a9f52f0 ]] {\r\n",
       "}\r\n",
       "comp usage \"a\" as E3  <<(T,blue)part>> [[psysml:b70a2483-525b-464a-8d4b-4d166d754785 ]] {\r\n",
       "}\r\n",
       "comp def \"C\" as E4  <<(T,blue)part def>> [[psysml:76b80061-5d22-4116-930d-3b6f4cd610b8 ]] {\r\n",
       "}\r\n",
       "comp usage \"g\" as E5  <<(T,blue)part>> [[psysml:92e0160d-75a4-4892-b826-902f6ecde3a0 ]] {\r\n",
       "}\r\n",
       "E2 *- - E3 [[psysml:b70a2483-525b-464a-8d4b-4d166d754785 ]] \r\n",
       "E4 *- - E5 [[psysml:92e0160d-75a4-4892-b826-902f6ecde3a0 ]] \r\n",
       "}\r\n",
       "@enduml\r\n",
       "\n",
       "PlantUML version 1.2020.13(Sat Jun 13 12:26:38 UTC 2020)\n",
       "(EPL source distribution)\n",
       "Java Runtime: OpenJDK Runtime Environment\n",
       "JVM: OpenJDK 64-Bit Server VM\n",
       "Default Encoding: UTF-8\n",
       "Language: en\n",
       "Country: null\n",
       "--></g></svg>"
      ]
     },
     "execution_count": 17,
     "metadata": {},
     "output_type": "execute_result"
    }
   ],
   "source": [
    "%viz --style=\"LR\" --view=\"Tree\" \"Q\""
   ]
  },
  {
   "cell_type": "code",
   "execution_count": 18,
   "id": "central-folks",
   "metadata": {
    "execution": {
     "iopub.execute_input": "2021-03-25T13:42:07.866856Z",
     "iopub.status.busy": "2021-03-25T13:42:07.866111Z",
     "iopub.status.idle": "2021-03-25T13:42:07.873600Z",
     "shell.execute_reply": "2021-03-25T13:42:07.873201Z"
    }
   },
   "outputs": [
    {
     "data": {
      "image/svg+xml": [
       "<?xml version=\"1.0\" encoding=\"UTF-8\" standalone=\"no\"?><svg xmlns=\"http://www.w3.org/2000/svg\" xmlns:xlink=\"http://www.w3.org/1999/xlink\" contentScriptType=\"application/ecmascript\" contentStyleType=\"text/css\" height=\"12px\" preserveAspectRatio=\"none\" style=\"width:12px;height:12px;\" version=\"1.1\" viewBox=\"0 0 12 12\" width=\"12px\" zoomAndPan=\"magnify\"><defs/><g><!--MD5=[19d285c9d72a204eba4e2cd117d745e8]\n",
       "@startuml\r\n",
       "left to right direction\r\n",
       "skinparam monochrome true\r\n",
       "skinparam classbackgroundcolor white\r\n",
       "skinparam shadowing false\r\n",
       "skinparam wrapWidth 300\r\n",
       "hide circle\r\n",
       "\r\n",
       "@enduml\r\n",
       "\n",
       "PlantUML version 1.2020.13(Sat Jun 13 12:26:38 UTC 2020)\n",
       "(EPL source distribution)\n",
       "Java Runtime: OpenJDK Runtime Environment\n",
       "JVM: OpenJDK 64-Bit Server VM\n",
       "Default Encoding: UTF-8\n",
       "Language: en\n",
       "Country: null\n",
       "--></g></svg>"
      ]
     },
     "execution_count": 18,
     "metadata": {},
     "output_type": "execute_result"
    }
   ],
   "source": [
    "%viz --style=\"LR\" --view=\"State\" \"Q\""
   ]
  },
  {
   "cell_type": "code",
   "execution_count": 19,
   "id": "fabulous-venture",
   "metadata": {
    "execution": {
     "iopub.execute_input": "2021-03-25T13:42:07.926718Z",
     "iopub.status.busy": "2021-03-25T13:42:07.926136Z",
     "iopub.status.idle": "2021-03-25T13:42:07.994575Z",
     "shell.execute_reply": "2021-03-25T13:42:07.994170Z"
    }
   },
   "outputs": [
    {
     "data": {
      "image/svg+xml": [
       "<?xml version=\"1.0\" encoding=\"UTF-8\" standalone=\"no\"?><svg xmlns=\"http://www.w3.org/2000/svg\" xmlns:xlink=\"http://www.w3.org/1999/xlink\" contentScriptType=\"application/ecmascript\" contentStyleType=\"text/css\" height=\"307px\" preserveAspectRatio=\"none\" style=\"width:173px;height:307px;\" version=\"1.1\" viewBox=\"0 0 173 307\" width=\"173px\" zoomAndPan=\"magnify\"><defs/><g><!--MD5=[fbc87193dbaf4d95561dea2c320d4a47]\n",
       "cluster E1--><a href=\"psysml:28439c61-0f75-41f9-9e39-c7479ce99829\" target=\"_top\" title=\"psysml:28439c61-0f75-41f9-9e39-c7479ce99829\" xlink:actuate=\"onRequest\" xlink:href=\"psysml:28439c61-0f75-41f9-9e39-c7479ce99829\" xlink:show=\"new\" xlink:title=\"psysml:28439c61-0f75-41f9-9e39-c7479ce99829\" xlink:type=\"simple\"><polygon fill=\"#FFFFFF\" points=\"16,6,34,6,41,28.2969,151,28.2969,151,295,16,295,16,6\" style=\"stroke: #000000; stroke-width: 1.5;\"/><line style=\"stroke: #000000; stroke-width: 1.5;\" x1=\"16\" x2=\"41\" y1=\"28.2969\" y2=\"28.2969\"/><text fill=\"#000000\" font-family=\"sans-serif\" font-size=\"14\" font-weight=\"bold\" lengthAdjust=\"spacingAndGlyphs\" textLength=\"12\" x=\"20\" y=\"20.9951\">Q</text></a><!--MD5=[e4f7fae6ed58524ba242bb0b0d3be6b7]\n",
       "cluster E2--><a href=\"psysml:ef5bd6a7-9b0c-4f9f-9d58-83550a9f52f0\" target=\"_top\" title=\"psysml:ef5bd6a7-9b0c-4f9f-9d58-83550a9f52f0\" xlink:actuate=\"onRequest\" xlink:href=\"psysml:ef5bd6a7-9b0c-4f9f-9d58-83550a9f52f0\" xlink:show=\"new\" xlink:title=\"psysml:ef5bd6a7-9b0c-4f9f-9d58-83550a9f52f0\" xlink:type=\"simple\"><rect fill=\"#FFFFFF\" height=\"91\" id=\"E2\" rx=\"10\" ry=\"10\" style=\"stroke: #383838; stroke-width: 1.5;\" width=\"82\" x=\"42\" y=\"49\"/><rect fill=\"#F8F8F8\" height=\"23.9688\" rx=\"10\" ry=\"10\" style=\"stroke: #F8F8F8; stroke-width: 1.5;\" width=\"82\" x=\"42\" y=\"49\"/><rect fill=\"#F8F8F8\" height=\"10\" style=\"stroke: #F8F8F8; stroke-width: 1.5;\" width=\"82\" x=\"42\" y=\"62.9688\"/><rect fill=\"none\" height=\"91\" id=\"E2\" rx=\"10\" ry=\"10\" style=\"stroke: #383838; stroke-width: 1.5;\" width=\"82\" x=\"42\" y=\"49\"/><text fill=\"#000000\" font-family=\"sans-serif\" font-size=\"12\" lengthAdjust=\"spacingAndGlyphs\" textLength=\"4\" x=\"81\" y=\"65.1387\">f</text><line style=\"stroke: #383838; stroke-width: 1.0;\" x1=\"42\" x2=\"124\" y1=\"72.9688\" y2=\"72.9688\"/></a><!--MD5=[f6df4d0ebaf0b5dfb2ced0ae5af7c670]\n",
       "cluster E4--><a href=\"psysml:76b80061-5d22-4116-930d-3b6f4cd610b8\" target=\"_top\" title=\"psysml:76b80061-5d22-4116-930d-3b6f4cd610b8\" xlink:actuate=\"onRequest\" xlink:href=\"psysml:76b80061-5d22-4116-930d-3b6f4cd610b8\" xlink:show=\"new\" xlink:title=\"psysml:76b80061-5d22-4116-930d-3b6f4cd610b8\" xlink:type=\"simple\"><rect fill=\"#FFFFFF\" height=\"107\" id=\"E4\" style=\"stroke: #383838; stroke-width: 1.5;\" width=\"87\" x=\"40\" y=\"164\"/><rect fill=\"#F8F8F8\" height=\"37.9375\" style=\"stroke: #383838; stroke-width: 1.5;\" width=\"87\" x=\"40\" y=\"164\"/><text fill=\"#000000\" font-family=\"sans-serif\" font-size=\"12\" font-style=\"italic\" lengthAdjust=\"spacingAndGlyphs\" textLength=\"64\" x=\"51.5\" y=\"180.1387\">«part def»</text><text fill=\"#000000\" font-family=\"sans-serif\" font-size=\"12\" lengthAdjust=\"spacingAndGlyphs\" textLength=\"8\" x=\"79.5\" y=\"194.1074\">C</text></a><g id=\"E1.E2.E3\"><a href=\"psysml:b70a2483-525b-464a-8d4b-4d166d754785\" target=\"_top\" title=\"psysml:b70a2483-525b-464a-8d4b-4d166d754785\" xlink:actuate=\"onRequest\" xlink:href=\"psysml:b70a2483-525b-464a-8d4b-4d166d754785\" xlink:show=\"new\" xlink:title=\"psysml:b70a2483-525b-464a-8d4b-4d166d754785\" xlink:type=\"simple\"><rect fill=\"#FFFFFF\" height=\"40\" id=\"E3\" rx=\"10\" ry=\"10\" style=\"stroke: #383838; stroke-width: 1.5;\" width=\"50\" x=\"58\" y=\"84\"/><rect fill=\"#F8F8F8\" height=\"23.9688\" rx=\"10\" ry=\"10\" style=\"stroke: #F8F8F8; stroke-width: 1.5;\" width=\"50\" x=\"58\" y=\"84\"/><rect fill=\"#F8F8F8\" height=\"10\" style=\"stroke: #F8F8F8; stroke-width: 1.5;\" width=\"50\" x=\"58\" y=\"97.9688\"/><rect fill=\"none\" height=\"40\" id=\"E3\" rx=\"10\" ry=\"10\" style=\"stroke: #383838; stroke-width: 1.5;\" width=\"50\" x=\"58\" y=\"84\"/><text fill=\"#000000\" font-family=\"sans-serif\" font-size=\"12\" lengthAdjust=\"spacingAndGlyphs\" textLength=\"8\" x=\"79\" y=\"100.1387\">a</text></a></g><g id=\"E1.E4.E5\"><a href=\"psysml:92e0160d-75a4-4892-b826-902f6ecde3a0\" target=\"_top\" title=\"psysml:92e0160d-75a4-4892-b826-902f6ecde3a0\" xlink:actuate=\"onRequest\" xlink:href=\"psysml:92e0160d-75a4-4892-b826-902f6ecde3a0\" xlink:show=\"new\" xlink:title=\"psysml:92e0160d-75a4-4892-b826-902f6ecde3a0\" xlink:type=\"simple\"><rect fill=\"#FFFFFF\" height=\"40\" id=\"E5\" rx=\"10\" ry=\"10\" style=\"stroke: #383838; stroke-width: 1.5;\" width=\"50\" x=\"58\" y=\"215\"/><rect fill=\"#F8F8F8\" height=\"23.9688\" rx=\"10\" ry=\"10\" style=\"stroke: #F8F8F8; stroke-width: 1.5;\" width=\"50\" x=\"58\" y=\"215\"/><rect fill=\"#F8F8F8\" height=\"10\" style=\"stroke: #F8F8F8; stroke-width: 1.5;\" width=\"50\" x=\"58\" y=\"228.9688\"/><rect fill=\"none\" height=\"40\" id=\"E5\" rx=\"10\" ry=\"10\" style=\"stroke: #383838; stroke-width: 1.5;\" width=\"50\" x=\"58\" y=\"215\"/><text fill=\"#000000\" font-family=\"sans-serif\" font-size=\"12\" lengthAdjust=\"spacingAndGlyphs\" textLength=\"8\" x=\"79\" y=\"231.1387\">g</text></a></g><!--MD5=[e90d008ed4f84f9d57f3b11a867629d2]\n",
       "@startuml\r\n",
       "skinparam ranksep 8\r\n",
       "skinparam rectangle {\r\n",
       " backgroundColor<<block>> LightGreen\r\n",
       "}\r\n",
       "left to right direction\r\n",
       "skinparam monochrome true\r\n",
       "skinparam classbackgroundcolor white\r\n",
       "skinparam shadowing false\r\n",
       "skinparam wrapWidth 300\r\n",
       "hide circle\r\n",
       "\r\n",
       "package \"Q\" as E1  [[psysml:28439c61-0f75-41f9-9e39-c7479ce99829 ]]  {\r\n",
       "rec usage \"f\" as E2  [[psysml:ef5bd6a7-9b0c-4f9f-9d58-83550a9f52f0 ]] {\r\n",
       "rec usage \"a\" as E3  [[psysml:b70a2483-525b-464a-8d4b-4d166d754785 ]] {\r\n",
       "}\r\n",
       "}\r\n",
       "rec def \"C\" as E4  <<(T,blue)part def>> [[psysml:76b80061-5d22-4116-930d-3b6f4cd610b8 ]] {\r\n",
       "rec usage \"g\" as E5  [[psysml:92e0160d-75a4-4892-b826-902f6ecde3a0 ]] {\r\n",
       "}\r\n",
       "}\r\n",
       "}\r\n",
       "@enduml\r\n",
       "\n",
       "PlantUML version 1.2020.13(Sat Jun 13 12:26:38 UTC 2020)\n",
       "(EPL source distribution)\n",
       "Java Runtime: OpenJDK Runtime Environment\n",
       "JVM: OpenJDK 64-Bit Server VM\n",
       "Default Encoding: UTF-8\n",
       "Language: en\n",
       "Country: null\n",
       "--></g></svg>"
      ]
     },
     "execution_count": 19,
     "metadata": {},
     "output_type": "execute_result"
    }
   ],
   "source": [
    "%viz --style=\"LR\" --view=\"Interconnection\" \"Q\""
   ]
  },
  {
   "cell_type": "code",
   "execution_count": 20,
   "id": "wrapped-mandate",
   "metadata": {
    "execution": {
     "iopub.execute_input": "2021-03-25T13:42:08.045036Z",
     "iopub.status.busy": "2021-03-25T13:42:08.044529Z",
     "iopub.status.idle": "2021-03-25T13:42:08.052495Z",
     "shell.execute_reply": "2021-03-25T13:42:08.051683Z"
    }
   },
   "outputs": [
    {
     "data": {
      "image/svg+xml": [
       "<?xml version=\"1.0\" encoding=\"UTF-8\" standalone=\"no\"?><svg xmlns=\"http://www.w3.org/2000/svg\" xmlns:xlink=\"http://www.w3.org/1999/xlink\" contentScriptType=\"application/ecmascript\" contentStyleType=\"text/css\" height=\"12px\" preserveAspectRatio=\"none\" style=\"width:12px;height:12px;\" version=\"1.1\" viewBox=\"0 0 12 12\" width=\"12px\" zoomAndPan=\"magnify\"><defs/><g><!--MD5=[7aeb398939421629f6affaa4a1a7b125]\n",
       "@startuml\r\n",
       "skinparam ranksep 8\r\n",
       "left to right direction\r\n",
       "skinparam monochrome true\r\n",
       "skinparam classbackgroundcolor white\r\n",
       "skinparam shadowing false\r\n",
       "skinparam wrapWidth 300\r\n",
       "hide circle\r\n",
       "\r\n",
       "@enduml\r\n",
       "\n",
       "PlantUML version 1.2020.13(Sat Jun 13 12:26:38 UTC 2020)\n",
       "(EPL source distribution)\n",
       "Java Runtime: OpenJDK Runtime Environment\n",
       "JVM: OpenJDK 64-Bit Server VM\n",
       "Default Encoding: UTF-8\n",
       "Language: en\n",
       "Country: null\n",
       "--></g></svg>"
      ]
     },
     "execution_count": 20,
     "metadata": {},
     "output_type": "execute_result"
    }
   ],
   "source": [
    "%viz --style=\"LR\" --view=\"Action\" \"Q\""
   ]
  },
  {
   "cell_type": "code",
   "execution_count": 21,
   "id": "cognitive-planner",
   "metadata": {
    "execution": {
     "iopub.execute_input": "2021-03-25T13:42:08.104113Z",
     "iopub.status.busy": "2021-03-25T13:42:08.103632Z",
     "iopub.status.idle": "2021-03-25T13:42:08.163052Z",
     "shell.execute_reply": "2021-03-25T13:42:08.162325Z"
    }
   },
   "outputs": [
    {
     "data": {
      "image/svg+xml": [
       "<?xml version=\"1.0\" encoding=\"UTF-8\" standalone=\"no\"?><svg xmlns=\"http://www.w3.org/2000/svg\" xmlns:xlink=\"http://www.w3.org/1999/xlink\" contentScriptType=\"application/ecmascript\" contentStyleType=\"text/css\" height=\"196px\" preserveAspectRatio=\"none\" style=\"width:238px;height:196px;\" version=\"1.1\" viewBox=\"0 0 238 196\" width=\"238px\" zoomAndPan=\"magnify\"><defs/><g><!--MD5=[fbc87193dbaf4d95561dea2c320d4a47]\n",
       "cluster E1--><a href=\"psysml:28439c61-0f75-41f9-9e39-c7479ce99829\" target=\"_top\" title=\"psysml:28439c61-0f75-41f9-9e39-c7479ce99829\" xlink:actuate=\"onRequest\" xlink:href=\"psysml:28439c61-0f75-41f9-9e39-c7479ce99829\" xlink:show=\"new\" xlink:title=\"psysml:28439c61-0f75-41f9-9e39-c7479ce99829\" xlink:type=\"simple\"><polygon fill=\"#FFFFFF\" points=\"16,6,34,6,41,28.2969,216,28.2969,216,184,16,184,16,6\" style=\"stroke: #000000; stroke-width: 1.5;\"/><line style=\"stroke: #000000; stroke-width: 1.5;\" x1=\"16\" x2=\"41\" y1=\"28.2969\" y2=\"28.2969\"/><text fill=\"#000000\" font-family=\"sans-serif\" font-size=\"14\" font-weight=\"bold\" lengthAdjust=\"spacingAndGlyphs\" textLength=\"12\" x=\"20\" y=\"20.9951\">Q</text></a><!--MD5=[b4997ac47864f28c2f74865a473b2911]\n",
       "class E2--><a href=\"psysml:ef5bd6a7-9b0c-4f9f-9d58-83550a9f52f0\" target=\"_top\" title=\"psysml:ef5bd6a7-9b0c-4f9f-9d58-83550a9f52f0\" xlink:actuate=\"onRequest\" xlink:href=\"psysml:ef5bd6a7-9b0c-4f9f-9d58-83550a9f52f0\" xlink:show=\"new\" xlink:title=\"psysml:ef5bd6a7-9b0c-4f9f-9d58-83550a9f52f0\" xlink:type=\"simple\"><rect fill=\"#FFFFFF\" height=\"45.9375\" id=\"E2\" rx=\"10\" ry=\"10\" style=\"stroke: #383838; stroke-width: 1.5;\" width=\"42\" x=\"44\" y=\"41\"/><text fill=\"#000000\" font-family=\"sans-serif\" font-size=\"12\" font-style=\"italic\" lengthAdjust=\"spacingAndGlyphs\" textLength=\"40\" x=\"45\" y=\"57.1387\">«part»</text><text fill=\"#000000\" font-family=\"sans-serif\" font-size=\"12\" lengthAdjust=\"spacingAndGlyphs\" textLength=\"4\" x=\"63\" y=\"71.1074\">f</text><line style=\"stroke: #383838; stroke-width: 1.5;\" x1=\"45\" x2=\"85\" y1=\"78.9375\" y2=\"78.9375\"/></a><!--MD5=[09b614a08d8cba4a07c9adeb5e0fee81]\n",
       "class E3--><a href=\"psysml:b70a2483-525b-464a-8d4b-4d166d754785\" target=\"_top\" title=\"psysml:b70a2483-525b-464a-8d4b-4d166d754785\" xlink:actuate=\"onRequest\" xlink:href=\"psysml:b70a2483-525b-464a-8d4b-4d166d754785\" xlink:show=\"new\" xlink:title=\"psysml:b70a2483-525b-464a-8d4b-4d166d754785\" xlink:type=\"simple\"><rect fill=\"#FFFFFF\" height=\"45.9375\" id=\"E3\" rx=\"10\" ry=\"10\" style=\"stroke: #383838; stroke-width: 1.5;\" width=\"42\" x=\"158\" y=\"41\"/><text fill=\"#000000\" font-family=\"sans-serif\" font-size=\"12\" font-style=\"italic\" lengthAdjust=\"spacingAndGlyphs\" textLength=\"40\" x=\"159\" y=\"57.1387\">«part»</text><text fill=\"#000000\" font-family=\"sans-serif\" font-size=\"12\" lengthAdjust=\"spacingAndGlyphs\" textLength=\"8\" x=\"175\" y=\"71.1074\">a</text><line style=\"stroke: #383838; stroke-width: 1.5;\" x1=\"159\" x2=\"199\" y1=\"78.9375\" y2=\"78.9375\"/></a><!--MD5=[ebbe1d658d1005bcc118a6aa81145e00]\n",
       "class E4--><a href=\"psysml:76b80061-5d22-4116-930d-3b6f4cd610b8\" target=\"_top\" title=\"psysml:76b80061-5d22-4116-930d-3b6f4cd610b8\" xlink:actuate=\"onRequest\" xlink:href=\"psysml:76b80061-5d22-4116-930d-3b6f4cd610b8\" xlink:show=\"new\" xlink:title=\"psysml:76b80061-5d22-4116-930d-3b6f4cd610b8\" xlink:type=\"simple\"><rect fill=\"#FFFFFF\" height=\"45.9375\" id=\"E4\" style=\"stroke: #383838; stroke-width: 1.5;\" width=\"66\" x=\"32\" y=\"122\"/><text fill=\"#000000\" font-family=\"sans-serif\" font-size=\"12\" font-style=\"italic\" lengthAdjust=\"spacingAndGlyphs\" textLength=\"64\" x=\"33\" y=\"138.1387\">«part def»</text><text fill=\"#000000\" font-family=\"sans-serif\" font-size=\"12\" lengthAdjust=\"spacingAndGlyphs\" textLength=\"8\" x=\"61\" y=\"152.1074\">C</text><line style=\"stroke: #383838; stroke-width: 1.5;\" x1=\"33\" x2=\"97\" y1=\"159.9375\" y2=\"159.9375\"/></a><!--MD5=[270fce915f116d4de14055a7c1d9a0f3]\n",
       "class E5--><a href=\"psysml:92e0160d-75a4-4892-b826-902f6ecde3a0\" target=\"_top\" title=\"psysml:92e0160d-75a4-4892-b826-902f6ecde3a0\" xlink:actuate=\"onRequest\" xlink:href=\"psysml:92e0160d-75a4-4892-b826-902f6ecde3a0\" xlink:show=\"new\" xlink:title=\"psysml:92e0160d-75a4-4892-b826-902f6ecde3a0\" xlink:type=\"simple\"><rect fill=\"#FFFFFF\" height=\"45.9375\" id=\"E5\" rx=\"10\" ry=\"10\" style=\"stroke: #383838; stroke-width: 1.5;\" width=\"42\" x=\"158\" y=\"122\"/><text fill=\"#000000\" font-family=\"sans-serif\" font-size=\"12\" font-style=\"italic\" lengthAdjust=\"spacingAndGlyphs\" textLength=\"40\" x=\"159\" y=\"138.1387\">«part»</text><text fill=\"#000000\" font-family=\"sans-serif\" font-size=\"12\" lengthAdjust=\"spacingAndGlyphs\" textLength=\"8\" x=\"175\" y=\"152.1074\">g</text><line style=\"stroke: #383838; stroke-width: 1.5;\" x1=\"159\" x2=\"199\" y1=\"159.9375\" y2=\"159.9375\"/></a><!--MD5=[209b3feb70ccb6233bfe1053d122c12c]\n",
       "reverse link E2 to E3--><a href=\"psysml:b70a2483-525b-464a-8d4b-4d166d754785\" target=\"_top\" title=\"psysml:b70a2483-525b-464a-8d4b-4d166d754785\" xlink:actuate=\"onRequest\" xlink:href=\"psysml:b70a2483-525b-464a-8d4b-4d166d754785\" xlink:show=\"new\" xlink:title=\"psysml:b70a2483-525b-464a-8d4b-4d166d754785\" xlink:type=\"simple\"><path d=\"M99.26,64 C118.27,64 141.49,64 157.77,64 \" fill=\"none\" id=\"E2&lt;-E3\" style=\"stroke: #383838; stroke-width: 1.0;\"/><polygon fill=\"#383838\" points=\"86.02,64,92.02,68,98.02,64,92.02,60,86.02,64\" style=\"stroke: #383838; stroke-width: 1.0;\"/></a><!--MD5=[62aa6af11e70f752912c1cb0466f24f7]\n",
       "reverse link E4 to E5--><a href=\"psysml:92e0160d-75a4-4892-b826-902f6ecde3a0\" target=\"_top\" title=\"psysml:92e0160d-75a4-4892-b826-902f6ecde3a0\" xlink:actuate=\"onRequest\" xlink:href=\"psysml:92e0160d-75a4-4892-b826-902f6ecde3a0\" xlink:show=\"new\" xlink:title=\"psysml:92e0160d-75a4-4892-b826-902f6ecde3a0\" xlink:type=\"simple\"><path d=\"M111.28,145 C127.47,145 144.9,145 157.89,145 \" fill=\"none\" id=\"E4&lt;-E5\" style=\"stroke: #383838; stroke-width: 1.0;\"/><polygon fill=\"#383838\" points=\"98.09,145,104.09,149,110.09,145,104.09,141,98.09,145\" style=\"stroke: #383838; stroke-width: 1.0;\"/></a><!--MD5=[7306a411f3e232ce6776e4acc3fc7e6f]\n",
       "@startuml\r\n",
       "left to right direction\r\n",
       "skinparam monochrome true\r\n",
       "skinparam classbackgroundcolor white\r\n",
       "skinparam shadowing false\r\n",
       "skinparam wrapWidth 300\r\n",
       "hide circle\r\n",
       "\r\n",
       "package \"Q\" as E1  [[psysml:28439c61-0f75-41f9-9e39-c7479ce99829 ]]  {\r\n",
       "comp usage \"f\" as E2  <<(T,blue)part>> [[psysml:ef5bd6a7-9b0c-4f9f-9d58-83550a9f52f0 ]] {\r\n",
       "}\r\n",
       "comp usage \"a\" as E3  <<(T,blue)part>> [[psysml:b70a2483-525b-464a-8d4b-4d166d754785 ]] {\r\n",
       "}\r\n",
       "comp def \"C\" as E4  <<(T,blue)part def>> [[psysml:76b80061-5d22-4116-930d-3b6f4cd610b8 ]] {\r\n",
       "}\r\n",
       "comp usage \"g\" as E5  <<(T,blue)part>> [[psysml:92e0160d-75a4-4892-b826-902f6ecde3a0 ]] {\r\n",
       "}\r\n",
       "E2 *- - E3 [[psysml:b70a2483-525b-464a-8d4b-4d166d754785 ]] \r\n",
       "E4 *- - E5 [[psysml:92e0160d-75a4-4892-b826-902f6ecde3a0 ]] \r\n",
       "}\r\n",
       "@enduml\r\n",
       "\n",
       "PlantUML version 1.2020.13(Sat Jun 13 12:26:38 UTC 2020)\n",
       "(EPL source distribution)\n",
       "Java Runtime: OpenJDK Runtime Environment\n",
       "JVM: OpenJDK 64-Bit Server VM\n",
       "Default Encoding: UTF-8\n",
       "Language: en\n",
       "Country: null\n",
       "--></g></svg>"
      ]
     },
     "execution_count": 21,
     "metadata": {},
     "output_type": "execute_result"
    }
   ],
   "source": [
    "%viz --style=\"LR\" --view=\"Sequence\" \"Q\""
   ]
  },
  {
   "cell_type": "code",
   "execution_count": 22,
   "id": "intermediate-differential",
   "metadata": {
    "execution": {
     "iopub.execute_input": "2021-03-25T13:42:08.217119Z",
     "iopub.status.busy": "2021-03-25T13:42:08.216177Z",
     "iopub.status.idle": "2021-03-25T13:42:08.275214Z",
     "shell.execute_reply": "2021-03-25T13:42:08.274459Z"
    }
   },
   "outputs": [
    {
     "data": {
      "image/svg+xml": [
       "<?xml version=\"1.0\" encoding=\"UTF-8\" standalone=\"no\"?><svg xmlns=\"http://www.w3.org/2000/svg\" xmlns:xlink=\"http://www.w3.org/1999/xlink\" contentScriptType=\"application/ecmascript\" contentStyleType=\"text/css\" height=\"196px\" preserveAspectRatio=\"none\" style=\"width:238px;height:196px;\" version=\"1.1\" viewBox=\"0 0 238 196\" width=\"238px\" zoomAndPan=\"magnify\"><defs/><g><!--MD5=[fbc87193dbaf4d95561dea2c320d4a47]\n",
       "cluster E1--><a href=\"psysml:28439c61-0f75-41f9-9e39-c7479ce99829\" target=\"_top\" title=\"psysml:28439c61-0f75-41f9-9e39-c7479ce99829\" xlink:actuate=\"onRequest\" xlink:href=\"psysml:28439c61-0f75-41f9-9e39-c7479ce99829\" xlink:show=\"new\" xlink:title=\"psysml:28439c61-0f75-41f9-9e39-c7479ce99829\" xlink:type=\"simple\"><polygon fill=\"#FFFFFF\" points=\"16,6,34,6,41,28.2969,216,28.2969,216,184,16,184,16,6\" style=\"stroke: #000000; stroke-width: 1.5;\"/><line style=\"stroke: #000000; stroke-width: 1.5;\" x1=\"16\" x2=\"41\" y1=\"28.2969\" y2=\"28.2969\"/><text fill=\"#000000\" font-family=\"sans-serif\" font-size=\"14\" font-weight=\"bold\" lengthAdjust=\"spacingAndGlyphs\" textLength=\"12\" x=\"20\" y=\"20.9951\">Q</text></a><!--MD5=[b4997ac47864f28c2f74865a473b2911]\n",
       "class E2--><a href=\"psysml:ef5bd6a7-9b0c-4f9f-9d58-83550a9f52f0\" target=\"_top\" title=\"psysml:ef5bd6a7-9b0c-4f9f-9d58-83550a9f52f0\" xlink:actuate=\"onRequest\" xlink:href=\"psysml:ef5bd6a7-9b0c-4f9f-9d58-83550a9f52f0\" xlink:show=\"new\" xlink:title=\"psysml:ef5bd6a7-9b0c-4f9f-9d58-83550a9f52f0\" xlink:type=\"simple\"><rect fill=\"#FFFFFF\" height=\"45.9375\" id=\"E2\" rx=\"10\" ry=\"10\" style=\"stroke: #383838; stroke-width: 1.5;\" width=\"42\" x=\"44\" y=\"41\"/><text fill=\"#000000\" font-family=\"sans-serif\" font-size=\"12\" font-style=\"italic\" lengthAdjust=\"spacingAndGlyphs\" textLength=\"40\" x=\"45\" y=\"57.1387\">«part»</text><text fill=\"#000000\" font-family=\"sans-serif\" font-size=\"12\" lengthAdjust=\"spacingAndGlyphs\" textLength=\"4\" x=\"63\" y=\"71.1074\">f</text><line style=\"stroke: #383838; stroke-width: 1.5;\" x1=\"45\" x2=\"85\" y1=\"78.9375\" y2=\"78.9375\"/></a><!--MD5=[09b614a08d8cba4a07c9adeb5e0fee81]\n",
       "class E3--><a href=\"psysml:b70a2483-525b-464a-8d4b-4d166d754785\" target=\"_top\" title=\"psysml:b70a2483-525b-464a-8d4b-4d166d754785\" xlink:actuate=\"onRequest\" xlink:href=\"psysml:b70a2483-525b-464a-8d4b-4d166d754785\" xlink:show=\"new\" xlink:title=\"psysml:b70a2483-525b-464a-8d4b-4d166d754785\" xlink:type=\"simple\"><rect fill=\"#FFFFFF\" height=\"45.9375\" id=\"E3\" rx=\"10\" ry=\"10\" style=\"stroke: #383838; stroke-width: 1.5;\" width=\"42\" x=\"158\" y=\"41\"/><text fill=\"#000000\" font-family=\"sans-serif\" font-size=\"12\" font-style=\"italic\" lengthAdjust=\"spacingAndGlyphs\" textLength=\"40\" x=\"159\" y=\"57.1387\">«part»</text><text fill=\"#000000\" font-family=\"sans-serif\" font-size=\"12\" lengthAdjust=\"spacingAndGlyphs\" textLength=\"8\" x=\"175\" y=\"71.1074\">a</text><line style=\"stroke: #383838; stroke-width: 1.5;\" x1=\"159\" x2=\"199\" y1=\"78.9375\" y2=\"78.9375\"/></a><!--MD5=[ebbe1d658d1005bcc118a6aa81145e00]\n",
       "class E4--><a href=\"psysml:76b80061-5d22-4116-930d-3b6f4cd610b8\" target=\"_top\" title=\"psysml:76b80061-5d22-4116-930d-3b6f4cd610b8\" xlink:actuate=\"onRequest\" xlink:href=\"psysml:76b80061-5d22-4116-930d-3b6f4cd610b8\" xlink:show=\"new\" xlink:title=\"psysml:76b80061-5d22-4116-930d-3b6f4cd610b8\" xlink:type=\"simple\"><rect fill=\"#FFFFFF\" height=\"45.9375\" id=\"E4\" style=\"stroke: #383838; stroke-width: 1.5;\" width=\"66\" x=\"32\" y=\"122\"/><text fill=\"#000000\" font-family=\"sans-serif\" font-size=\"12\" font-style=\"italic\" lengthAdjust=\"spacingAndGlyphs\" textLength=\"64\" x=\"33\" y=\"138.1387\">«part def»</text><text fill=\"#000000\" font-family=\"sans-serif\" font-size=\"12\" lengthAdjust=\"spacingAndGlyphs\" textLength=\"8\" x=\"61\" y=\"152.1074\">C</text><line style=\"stroke: #383838; stroke-width: 1.5;\" x1=\"33\" x2=\"97\" y1=\"159.9375\" y2=\"159.9375\"/></a><!--MD5=[270fce915f116d4de14055a7c1d9a0f3]\n",
       "class E5--><a href=\"psysml:92e0160d-75a4-4892-b826-902f6ecde3a0\" target=\"_top\" title=\"psysml:92e0160d-75a4-4892-b826-902f6ecde3a0\" xlink:actuate=\"onRequest\" xlink:href=\"psysml:92e0160d-75a4-4892-b826-902f6ecde3a0\" xlink:show=\"new\" xlink:title=\"psysml:92e0160d-75a4-4892-b826-902f6ecde3a0\" xlink:type=\"simple\"><rect fill=\"#FFFFFF\" height=\"45.9375\" id=\"E5\" rx=\"10\" ry=\"10\" style=\"stroke: #383838; stroke-width: 1.5;\" width=\"42\" x=\"158\" y=\"122\"/><text fill=\"#000000\" font-family=\"sans-serif\" font-size=\"12\" font-style=\"italic\" lengthAdjust=\"spacingAndGlyphs\" textLength=\"40\" x=\"159\" y=\"138.1387\">«part»</text><text fill=\"#000000\" font-family=\"sans-serif\" font-size=\"12\" lengthAdjust=\"spacingAndGlyphs\" textLength=\"8\" x=\"175\" y=\"152.1074\">g</text><line style=\"stroke: #383838; stroke-width: 1.5;\" x1=\"159\" x2=\"199\" y1=\"159.9375\" y2=\"159.9375\"/></a><!--MD5=[209b3feb70ccb6233bfe1053d122c12c]\n",
       "reverse link E2 to E3--><a href=\"psysml:b70a2483-525b-464a-8d4b-4d166d754785\" target=\"_top\" title=\"psysml:b70a2483-525b-464a-8d4b-4d166d754785\" xlink:actuate=\"onRequest\" xlink:href=\"psysml:b70a2483-525b-464a-8d4b-4d166d754785\" xlink:show=\"new\" xlink:title=\"psysml:b70a2483-525b-464a-8d4b-4d166d754785\" xlink:type=\"simple\"><path d=\"M99.26,64 C118.27,64 141.49,64 157.77,64 \" fill=\"none\" id=\"E2&lt;-E3\" style=\"stroke: #383838; stroke-width: 1.0;\"/><polygon fill=\"#383838\" points=\"86.02,64,92.02,68,98.02,64,92.02,60,86.02,64\" style=\"stroke: #383838; stroke-width: 1.0;\"/></a><!--MD5=[62aa6af11e70f752912c1cb0466f24f7]\n",
       "reverse link E4 to E5--><a href=\"psysml:92e0160d-75a4-4892-b826-902f6ecde3a0\" target=\"_top\" title=\"psysml:92e0160d-75a4-4892-b826-902f6ecde3a0\" xlink:actuate=\"onRequest\" xlink:href=\"psysml:92e0160d-75a4-4892-b826-902f6ecde3a0\" xlink:show=\"new\" xlink:title=\"psysml:92e0160d-75a4-4892-b826-902f6ecde3a0\" xlink:type=\"simple\"><path d=\"M111.28,145 C127.47,145 144.9,145 157.89,145 \" fill=\"none\" id=\"E4&lt;-E5\" style=\"stroke: #383838; stroke-width: 1.0;\"/><polygon fill=\"#383838\" points=\"98.09,145,104.09,149,110.09,145,104.09,141,98.09,145\" style=\"stroke: #383838; stroke-width: 1.0;\"/></a><!--MD5=[7306a411f3e232ce6776e4acc3fc7e6f]\n",
       "@startuml\r\n",
       "left to right direction\r\n",
       "skinparam monochrome true\r\n",
       "skinparam classbackgroundcolor white\r\n",
       "skinparam shadowing false\r\n",
       "skinparam wrapWidth 300\r\n",
       "hide circle\r\n",
       "\r\n",
       "package \"Q\" as E1  [[psysml:28439c61-0f75-41f9-9e39-c7479ce99829 ]]  {\r\n",
       "comp usage \"f\" as E2  <<(T,blue)part>> [[psysml:ef5bd6a7-9b0c-4f9f-9d58-83550a9f52f0 ]] {\r\n",
       "}\r\n",
       "comp usage \"a\" as E3  <<(T,blue)part>> [[psysml:b70a2483-525b-464a-8d4b-4d166d754785 ]] {\r\n",
       "}\r\n",
       "comp def \"C\" as E4  <<(T,blue)part def>> [[psysml:76b80061-5d22-4116-930d-3b6f4cd610b8 ]] {\r\n",
       "}\r\n",
       "comp usage \"g\" as E5  <<(T,blue)part>> [[psysml:92e0160d-75a4-4892-b826-902f6ecde3a0 ]] {\r\n",
       "}\r\n",
       "E2 *- - E3 [[psysml:b70a2483-525b-464a-8d4b-4d166d754785 ]] \r\n",
       "E4 *- - E5 [[psysml:92e0160d-75a4-4892-b826-902f6ecde3a0 ]] \r\n",
       "}\r\n",
       "@enduml\r\n",
       "\n",
       "PlantUML version 1.2020.13(Sat Jun 13 12:26:38 UTC 2020)\n",
       "(EPL source distribution)\n",
       "Java Runtime: OpenJDK Runtime Environment\n",
       "JVM: OpenJDK 64-Bit Server VM\n",
       "Default Encoding: UTF-8\n",
       "Language: en\n",
       "Country: null\n",
       "--></g></svg>"
      ]
     },
     "execution_count": 22,
     "metadata": {},
     "output_type": "execute_result"
    }
   ],
   "source": [
    "%viz --style=\"LR\" --view=\"MIXED\" \"Q\""
   ]
  },
  {
   "cell_type": "code",
   "execution_count": 23,
   "id": "infectious-browser",
   "metadata": {
    "execution": {
     "iopub.execute_input": "2021-03-25T13:42:08.327068Z",
     "iopub.status.busy": "2021-03-25T13:42:08.325736Z",
     "iopub.status.idle": "2021-03-25T13:42:08.376993Z",
     "shell.execute_reply": "2021-03-25T13:42:08.375602Z"
    }
   },
   "outputs": [
    {
     "data": {
      "image/svg+xml": [
       "<?xml version=\"1.0\" encoding=\"UTF-8\" standalone=\"no\"?><svg xmlns=\"http://www.w3.org/2000/svg\" xmlns:xlink=\"http://www.w3.org/1999/xlink\" contentScriptType=\"application/ecmascript\" contentStyleType=\"text/css\" height=\"221px\" preserveAspectRatio=\"none\" style=\"width:213px;height:221px;\" version=\"1.1\" viewBox=\"0 0 213 221\" width=\"213px\" zoomAndPan=\"magnify\"><defs><filter height=\"300%\" id=\"fzppgvmqwpbvb\" width=\"300%\" x=\"-1\" y=\"-1\"><feGaussianBlur result=\"blurOut\" stdDeviation=\"2.0\"/><feColorMatrix in=\"blurOut\" result=\"blurOut2\" type=\"matrix\" values=\"0 0 0 0 0 0 0 0 0 0 0 0 0 0 0 0 0 0 .4 0\"/><feOffset dx=\"4.0\" dy=\"4.0\" in=\"blurOut2\" result=\"blurOut3\"/><feBlend in=\"SourceGraphic\" in2=\"blurOut3\" mode=\"normal\"/></filter></defs><g><!--MD5=[fbc87193dbaf4d95561dea2c320d4a47]\n",
       "cluster E1--><a href=\"psysml:28439c61-0f75-41f9-9e39-c7479ce99829\" target=\"_top\" title=\"psysml:28439c61-0f75-41f9-9e39-c7479ce99829\" xlink:actuate=\"onRequest\" xlink:href=\"psysml:28439c61-0f75-41f9-9e39-c7479ce99829\" xlink:show=\"new\" xlink:title=\"psysml:28439c61-0f75-41f9-9e39-c7479ce99829\" xlink:type=\"simple\"><polygon fill=\"#FFFFFF\" filter=\"url(#fzppgvmqwpbvb)\" points=\"16,6,34,6,41,28.2969,191,28.2969,191,209,16,209,16,6\" style=\"stroke: #000000; stroke-width: 1.5;\"/><line style=\"stroke: #000000; stroke-width: 1.5;\" x1=\"16\" x2=\"41\" y1=\"28.2969\" y2=\"28.2969\"/><text fill=\"#000000\" font-family=\"sans-serif\" font-size=\"14\" font-weight=\"bold\" lengthAdjust=\"spacingAndGlyphs\" textLength=\"12\" x=\"20\" y=\"20.9951\">Q</text></a><!--MD5=[b4997ac47864f28c2f74865a473b2911]\n",
       "class E2--><a href=\"psysml:ef5bd6a7-9b0c-4f9f-9d58-83550a9f52f0\" target=\"_top\" title=\"psysml:ef5bd6a7-9b0c-4f9f-9d58-83550a9f52f0\" xlink:actuate=\"onRequest\" xlink:href=\"psysml:ef5bd6a7-9b0c-4f9f-9d58-83550a9f52f0\" xlink:show=\"new\" xlink:title=\"psysml:ef5bd6a7-9b0c-4f9f-9d58-83550a9f52f0\" xlink:type=\"simple\"><rect fill=\"#FEFECE\" filter=\"url(#fzppgvmqwpbvb)\" height=\"45.9375\" id=\"E2\" rx=\"10\" ry=\"10\" style=\"stroke: #A80036; stroke-width: 1.5;\" width=\"42\" x=\"133\" y=\"41\"/><text fill=\"#000000\" font-family=\"sans-serif\" font-size=\"12\" font-style=\"italic\" lengthAdjust=\"spacingAndGlyphs\" textLength=\"40\" x=\"134\" y=\"57.1387\">«part»</text><text fill=\"#000000\" font-family=\"sans-serif\" font-size=\"12\" lengthAdjust=\"spacingAndGlyphs\" textLength=\"4\" x=\"152\" y=\"71.1074\">f</text><line style=\"stroke: #A80036; stroke-width: 1.5;\" x1=\"134\" x2=\"174\" y1=\"78.9375\" y2=\"78.9375\"/></a><!--MD5=[09b614a08d8cba4a07c9adeb5e0fee81]\n",
       "class E3--><a href=\"psysml:b70a2483-525b-464a-8d4b-4d166d754785\" target=\"_top\" title=\"psysml:b70a2483-525b-464a-8d4b-4d166d754785\" xlink:actuate=\"onRequest\" xlink:href=\"psysml:b70a2483-525b-464a-8d4b-4d166d754785\" xlink:show=\"new\" xlink:title=\"psysml:b70a2483-525b-464a-8d4b-4d166d754785\" xlink:type=\"simple\"><rect fill=\"#FEFECE\" filter=\"url(#fzppgvmqwpbvb)\" height=\"45.9375\" id=\"E3\" rx=\"10\" ry=\"10\" style=\"stroke: #A80036; stroke-width: 1.5;\" width=\"42\" x=\"133\" y=\"147\"/><text fill=\"#000000\" font-family=\"sans-serif\" font-size=\"12\" font-style=\"italic\" lengthAdjust=\"spacingAndGlyphs\" textLength=\"40\" x=\"134\" y=\"163.1387\">«part»</text><text fill=\"#000000\" font-family=\"sans-serif\" font-size=\"12\" lengthAdjust=\"spacingAndGlyphs\" textLength=\"8\" x=\"150\" y=\"177.1074\">a</text><line style=\"stroke: #A80036; stroke-width: 1.5;\" x1=\"134\" x2=\"174\" y1=\"184.9375\" y2=\"184.9375\"/></a><!--MD5=[ebbe1d658d1005bcc118a6aa81145e00]\n",
       "class E4--><a href=\"psysml:76b80061-5d22-4116-930d-3b6f4cd610b8\" target=\"_top\" title=\"psysml:76b80061-5d22-4116-930d-3b6f4cd610b8\" xlink:actuate=\"onRequest\" xlink:href=\"psysml:76b80061-5d22-4116-930d-3b6f4cd610b8\" xlink:show=\"new\" xlink:title=\"psysml:76b80061-5d22-4116-930d-3b6f4cd610b8\" xlink:type=\"simple\"><rect fill=\"#FEFECE\" filter=\"url(#fzppgvmqwpbvb)\" height=\"45.9375\" id=\"E4\" style=\"stroke: #A80036; stroke-width: 1.5;\" width=\"66\" x=\"32\" y=\"41\"/><text fill=\"#000000\" font-family=\"sans-serif\" font-size=\"12\" font-style=\"italic\" lengthAdjust=\"spacingAndGlyphs\" textLength=\"64\" x=\"33\" y=\"57.1387\">«part def»</text><text fill=\"#000000\" font-family=\"sans-serif\" font-size=\"12\" lengthAdjust=\"spacingAndGlyphs\" textLength=\"8\" x=\"61\" y=\"71.1074\">C</text><line style=\"stroke: #A80036; stroke-width: 1.5;\" x1=\"33\" x2=\"97\" y1=\"78.9375\" y2=\"78.9375\"/></a><!--MD5=[270fce915f116d4de14055a7c1d9a0f3]\n",
       "class E5--><a href=\"psysml:92e0160d-75a4-4892-b826-902f6ecde3a0\" target=\"_top\" title=\"psysml:92e0160d-75a4-4892-b826-902f6ecde3a0\" xlink:actuate=\"onRequest\" xlink:href=\"psysml:92e0160d-75a4-4892-b826-902f6ecde3a0\" xlink:show=\"new\" xlink:title=\"psysml:92e0160d-75a4-4892-b826-902f6ecde3a0\" xlink:type=\"simple\"><rect fill=\"#FEFECE\" filter=\"url(#fzppgvmqwpbvb)\" height=\"45.9375\" id=\"E5\" rx=\"10\" ry=\"10\" style=\"stroke: #A80036; stroke-width: 1.5;\" width=\"42\" x=\"44\" y=\"147\"/><text fill=\"#000000\" font-family=\"sans-serif\" font-size=\"12\" font-style=\"italic\" lengthAdjust=\"spacingAndGlyphs\" textLength=\"40\" x=\"45\" y=\"163.1387\">«part»</text><text fill=\"#000000\" font-family=\"sans-serif\" font-size=\"12\" lengthAdjust=\"spacingAndGlyphs\" textLength=\"8\" x=\"61\" y=\"177.1074\">g</text><line style=\"stroke: #A80036; stroke-width: 1.5;\" x1=\"45\" x2=\"85\" y1=\"184.9375\" y2=\"184.9375\"/></a><!--MD5=[209b3feb70ccb6233bfe1053d122c12c]\n",
       "reverse link E2 to E3--><a href=\"psysml:b70a2483-525b-464a-8d4b-4d166d754785\" target=\"_top\" title=\"psysml:b70a2483-525b-464a-8d4b-4d166d754785\" xlink:actuate=\"onRequest\" xlink:href=\"psysml:b70a2483-525b-464a-8d4b-4d166d754785\" xlink:show=\"new\" xlink:title=\"psysml:b70a2483-525b-464a-8d4b-4d166d754785\" xlink:type=\"simple\"><path d=\"M154,100.44 C154,115.87 154,133.47 154,146.98 \" fill=\"none\" id=\"E2&lt;-E3\" style=\"stroke: #A80036; stroke-width: 1.0;\"/><polygon fill=\"#A80036\" points=\"154,87.06,150,93.06,154,99.06,158,93.06,154,87.06\" style=\"stroke: #A80036; stroke-width: 1.0;\"/></a><!--MD5=[62aa6af11e70f752912c1cb0466f24f7]\n",
       "reverse link E4 to E5--><a href=\"psysml:92e0160d-75a4-4892-b826-902f6ecde3a0\" target=\"_top\" title=\"psysml:92e0160d-75a4-4892-b826-902f6ecde3a0\" xlink:actuate=\"onRequest\" xlink:href=\"psysml:92e0160d-75a4-4892-b826-902f6ecde3a0\" xlink:show=\"new\" xlink:title=\"psysml:92e0160d-75a4-4892-b826-902f6ecde3a0\" xlink:type=\"simple\"><path d=\"M65,100.44 C65,115.87 65,133.47 65,146.98 \" fill=\"none\" id=\"E4&lt;-E5\" style=\"stroke: #A80036; stroke-width: 1.0;\"/><polygon fill=\"#A80036\" points=\"65,87.06,61,93.06,65,99.06,69,93.06,65,87.06\" style=\"stroke: #A80036; stroke-width: 1.0;\"/></a><!--MD5=[295f7d0236630b881f1f457ee3d3f4ec]\n",
       "@startuml\r\n",
       "skinparam wrapWidth 300\r\n",
       "hide circle\r\n",
       "\r\n",
       "package \"Q\" as E1  [[psysml:28439c61-0f75-41f9-9e39-c7479ce99829 ]]  {\r\n",
       "comp usage \"f\" as E2  <<(T,blue)part>> [[psysml:ef5bd6a7-9b0c-4f9f-9d58-83550a9f52f0 ]] {\r\n",
       "}\r\n",
       "comp usage \"a\" as E3  <<(T,blue)part>> [[psysml:b70a2483-525b-464a-8d4b-4d166d754785 ]] {\r\n",
       "}\r\n",
       "comp def \"C\" as E4  <<(T,blue)part def>> [[psysml:76b80061-5d22-4116-930d-3b6f4cd610b8 ]] {\r\n",
       "}\r\n",
       "comp usage \"g\" as E5  <<(T,blue)part>> [[psysml:92e0160d-75a4-4892-b826-902f6ecde3a0 ]] {\r\n",
       "}\r\n",
       "E2 *- - E3 [[psysml:b70a2483-525b-464a-8d4b-4d166d754785 ]] \r\n",
       "E4 *- - E5 [[psysml:92e0160d-75a4-4892-b826-902f6ecde3a0 ]] \r\n",
       "}\r\n",
       "@enduml\r\n",
       "\n",
       "PlantUML version 1.2020.13(Sat Jun 13 12:26:38 UTC 2020)\n",
       "(EPL source distribution)\n",
       "Java Runtime: OpenJDK Runtime Environment\n",
       "JVM: OpenJDK 64-Bit Server VM\n",
       "Default Encoding: UTF-8\n",
       "Language: en\n",
       "Country: null\n",
       "--></g></svg>"
      ]
     },
     "execution_count": 23,
     "metadata": {},
     "output_type": "execute_result"
    }
   ],
   "source": [
    "%viz --style=\"STDCOLOR\" --view=\"Default\" \"Q\""
   ]
  },
  {
   "cell_type": "code",
   "execution_count": 24,
   "id": "legendary-pizza",
   "metadata": {
    "execution": {
     "iopub.execute_input": "2021-03-25T13:42:08.428388Z",
     "iopub.status.busy": "2021-03-25T13:42:08.427767Z",
     "iopub.status.idle": "2021-03-25T13:42:08.486591Z",
     "shell.execute_reply": "2021-03-25T13:42:08.486228Z"
    }
   },
   "outputs": [
    {
     "data": {
      "image/svg+xml": [
       "<?xml version=\"1.0\" encoding=\"UTF-8\" standalone=\"no\"?><svg xmlns=\"http://www.w3.org/2000/svg\" xmlns:xlink=\"http://www.w3.org/1999/xlink\" contentScriptType=\"application/ecmascript\" contentStyleType=\"text/css\" height=\"221px\" preserveAspectRatio=\"none\" style=\"width:213px;height:221px;\" version=\"1.1\" viewBox=\"0 0 213 221\" width=\"213px\" zoomAndPan=\"magnify\"><defs><filter height=\"300%\" id=\"fzppgvmqwpbvb\" width=\"300%\" x=\"-1\" y=\"-1\"><feGaussianBlur result=\"blurOut\" stdDeviation=\"2.0\"/><feColorMatrix in=\"blurOut\" result=\"blurOut2\" type=\"matrix\" values=\"0 0 0 0 0 0 0 0 0 0 0 0 0 0 0 0 0 0 .4 0\"/><feOffset dx=\"4.0\" dy=\"4.0\" in=\"blurOut2\" result=\"blurOut3\"/><feBlend in=\"SourceGraphic\" in2=\"blurOut3\" mode=\"normal\"/></filter></defs><g><!--MD5=[fbc87193dbaf4d95561dea2c320d4a47]\n",
       "cluster E1--><a href=\"psysml:28439c61-0f75-41f9-9e39-c7479ce99829\" target=\"_top\" title=\"psysml:28439c61-0f75-41f9-9e39-c7479ce99829\" xlink:actuate=\"onRequest\" xlink:href=\"psysml:28439c61-0f75-41f9-9e39-c7479ce99829\" xlink:show=\"new\" xlink:title=\"psysml:28439c61-0f75-41f9-9e39-c7479ce99829\" xlink:type=\"simple\"><polygon fill=\"#FFFFFF\" filter=\"url(#fzppgvmqwpbvb)\" points=\"16,6,34,6,41,28.2969,191,28.2969,191,209,16,209,16,6\" style=\"stroke: #000000; stroke-width: 1.5;\"/><line style=\"stroke: #000000; stroke-width: 1.5;\" x1=\"16\" x2=\"41\" y1=\"28.2969\" y2=\"28.2969\"/><text fill=\"#000000\" font-family=\"sans-serif\" font-size=\"14\" font-weight=\"bold\" lengthAdjust=\"spacingAndGlyphs\" textLength=\"12\" x=\"20\" y=\"20.9951\">Q</text></a><!--MD5=[b4997ac47864f28c2f74865a473b2911]\n",
       "class E2--><a href=\"psysml:ef5bd6a7-9b0c-4f9f-9d58-83550a9f52f0\" target=\"_top\" title=\"psysml:ef5bd6a7-9b0c-4f9f-9d58-83550a9f52f0\" xlink:actuate=\"onRequest\" xlink:href=\"psysml:ef5bd6a7-9b0c-4f9f-9d58-83550a9f52f0\" xlink:show=\"new\" xlink:title=\"psysml:ef5bd6a7-9b0c-4f9f-9d58-83550a9f52f0\" xlink:type=\"simple\"><rect fill=\"#FEFECE\" filter=\"url(#fzppgvmqwpbvb)\" height=\"45.9375\" id=\"E2\" rx=\"10\" ry=\"10\" style=\"stroke: #A80036; stroke-width: 1.5;\" width=\"42\" x=\"133\" y=\"41\"/><text fill=\"#000000\" font-family=\"sans-serif\" font-size=\"12\" font-style=\"italic\" lengthAdjust=\"spacingAndGlyphs\" textLength=\"40\" x=\"134\" y=\"57.1387\">«part»</text><text fill=\"#000000\" font-family=\"sans-serif\" font-size=\"12\" lengthAdjust=\"spacingAndGlyphs\" textLength=\"4\" x=\"152\" y=\"71.1074\">f</text><line style=\"stroke: #A80036; stroke-width: 1.5;\" x1=\"134\" x2=\"174\" y1=\"78.9375\" y2=\"78.9375\"/></a><!--MD5=[09b614a08d8cba4a07c9adeb5e0fee81]\n",
       "class E3--><a href=\"psysml:b70a2483-525b-464a-8d4b-4d166d754785\" target=\"_top\" title=\"psysml:b70a2483-525b-464a-8d4b-4d166d754785\" xlink:actuate=\"onRequest\" xlink:href=\"psysml:b70a2483-525b-464a-8d4b-4d166d754785\" xlink:show=\"new\" xlink:title=\"psysml:b70a2483-525b-464a-8d4b-4d166d754785\" xlink:type=\"simple\"><rect fill=\"#FEFECE\" filter=\"url(#fzppgvmqwpbvb)\" height=\"45.9375\" id=\"E3\" rx=\"10\" ry=\"10\" style=\"stroke: #A80036; stroke-width: 1.5;\" width=\"42\" x=\"133\" y=\"147\"/><text fill=\"#000000\" font-family=\"sans-serif\" font-size=\"12\" font-style=\"italic\" lengthAdjust=\"spacingAndGlyphs\" textLength=\"40\" x=\"134\" y=\"163.1387\">«part»</text><text fill=\"#000000\" font-family=\"sans-serif\" font-size=\"12\" lengthAdjust=\"spacingAndGlyphs\" textLength=\"8\" x=\"150\" y=\"177.1074\">a</text><line style=\"stroke: #A80036; stroke-width: 1.5;\" x1=\"134\" x2=\"174\" y1=\"184.9375\" y2=\"184.9375\"/></a><!--MD5=[ebbe1d658d1005bcc118a6aa81145e00]\n",
       "class E4--><a href=\"psysml:76b80061-5d22-4116-930d-3b6f4cd610b8\" target=\"_top\" title=\"psysml:76b80061-5d22-4116-930d-3b6f4cd610b8\" xlink:actuate=\"onRequest\" xlink:href=\"psysml:76b80061-5d22-4116-930d-3b6f4cd610b8\" xlink:show=\"new\" xlink:title=\"psysml:76b80061-5d22-4116-930d-3b6f4cd610b8\" xlink:type=\"simple\"><rect fill=\"#FEFECE\" filter=\"url(#fzppgvmqwpbvb)\" height=\"45.9375\" id=\"E4\" style=\"stroke: #A80036; stroke-width: 1.5;\" width=\"66\" x=\"32\" y=\"41\"/><text fill=\"#000000\" font-family=\"sans-serif\" font-size=\"12\" font-style=\"italic\" lengthAdjust=\"spacingAndGlyphs\" textLength=\"64\" x=\"33\" y=\"57.1387\">«part def»</text><text fill=\"#000000\" font-family=\"sans-serif\" font-size=\"12\" lengthAdjust=\"spacingAndGlyphs\" textLength=\"8\" x=\"61\" y=\"71.1074\">C</text><line style=\"stroke: #A80036; stroke-width: 1.5;\" x1=\"33\" x2=\"97\" y1=\"78.9375\" y2=\"78.9375\"/></a><!--MD5=[270fce915f116d4de14055a7c1d9a0f3]\n",
       "class E5--><a href=\"psysml:92e0160d-75a4-4892-b826-902f6ecde3a0\" target=\"_top\" title=\"psysml:92e0160d-75a4-4892-b826-902f6ecde3a0\" xlink:actuate=\"onRequest\" xlink:href=\"psysml:92e0160d-75a4-4892-b826-902f6ecde3a0\" xlink:show=\"new\" xlink:title=\"psysml:92e0160d-75a4-4892-b826-902f6ecde3a0\" xlink:type=\"simple\"><rect fill=\"#FEFECE\" filter=\"url(#fzppgvmqwpbvb)\" height=\"45.9375\" id=\"E5\" rx=\"10\" ry=\"10\" style=\"stroke: #A80036; stroke-width: 1.5;\" width=\"42\" x=\"44\" y=\"147\"/><text fill=\"#000000\" font-family=\"sans-serif\" font-size=\"12\" font-style=\"italic\" lengthAdjust=\"spacingAndGlyphs\" textLength=\"40\" x=\"45\" y=\"163.1387\">«part»</text><text fill=\"#000000\" font-family=\"sans-serif\" font-size=\"12\" lengthAdjust=\"spacingAndGlyphs\" textLength=\"8\" x=\"61\" y=\"177.1074\">g</text><line style=\"stroke: #A80036; stroke-width: 1.5;\" x1=\"45\" x2=\"85\" y1=\"184.9375\" y2=\"184.9375\"/></a><!--MD5=[209b3feb70ccb6233bfe1053d122c12c]\n",
       "reverse link E2 to E3--><a href=\"psysml:b70a2483-525b-464a-8d4b-4d166d754785\" target=\"_top\" title=\"psysml:b70a2483-525b-464a-8d4b-4d166d754785\" xlink:actuate=\"onRequest\" xlink:href=\"psysml:b70a2483-525b-464a-8d4b-4d166d754785\" xlink:show=\"new\" xlink:title=\"psysml:b70a2483-525b-464a-8d4b-4d166d754785\" xlink:type=\"simple\"><path d=\"M154,100.44 C154,115.87 154,133.47 154,146.98 \" fill=\"none\" id=\"E2&lt;-E3\" style=\"stroke: #A80036; stroke-width: 1.0;\"/><polygon fill=\"#A80036\" points=\"154,87.06,150,93.06,154,99.06,158,93.06,154,87.06\" style=\"stroke: #A80036; stroke-width: 1.0;\"/></a><!--MD5=[62aa6af11e70f752912c1cb0466f24f7]\n",
       "reverse link E4 to E5--><a href=\"psysml:92e0160d-75a4-4892-b826-902f6ecde3a0\" target=\"_top\" title=\"psysml:92e0160d-75a4-4892-b826-902f6ecde3a0\" xlink:actuate=\"onRequest\" xlink:href=\"psysml:92e0160d-75a4-4892-b826-902f6ecde3a0\" xlink:show=\"new\" xlink:title=\"psysml:92e0160d-75a4-4892-b826-902f6ecde3a0\" xlink:type=\"simple\"><path d=\"M65,100.44 C65,115.87 65,133.47 65,146.98 \" fill=\"none\" id=\"E4&lt;-E5\" style=\"stroke: #A80036; stroke-width: 1.0;\"/><polygon fill=\"#A80036\" points=\"65,87.06,61,93.06,65,99.06,69,93.06,65,87.06\" style=\"stroke: #A80036; stroke-width: 1.0;\"/></a><!--MD5=[295f7d0236630b881f1f457ee3d3f4ec]\n",
       "@startuml\r\n",
       "skinparam wrapWidth 300\r\n",
       "hide circle\r\n",
       "\r\n",
       "package \"Q\" as E1  [[psysml:28439c61-0f75-41f9-9e39-c7479ce99829 ]]  {\r\n",
       "comp usage \"f\" as E2  <<(T,blue)part>> [[psysml:ef5bd6a7-9b0c-4f9f-9d58-83550a9f52f0 ]] {\r\n",
       "}\r\n",
       "comp usage \"a\" as E3  <<(T,blue)part>> [[psysml:b70a2483-525b-464a-8d4b-4d166d754785 ]] {\r\n",
       "}\r\n",
       "comp def \"C\" as E4  <<(T,blue)part def>> [[psysml:76b80061-5d22-4116-930d-3b6f4cd610b8 ]] {\r\n",
       "}\r\n",
       "comp usage \"g\" as E5  <<(T,blue)part>> [[psysml:92e0160d-75a4-4892-b826-902f6ecde3a0 ]] {\r\n",
       "}\r\n",
       "E2 *- - E3 [[psysml:b70a2483-525b-464a-8d4b-4d166d754785 ]] \r\n",
       "E4 *- - E5 [[psysml:92e0160d-75a4-4892-b826-902f6ecde3a0 ]] \r\n",
       "}\r\n",
       "@enduml\r\n",
       "\n",
       "PlantUML version 1.2020.13(Sat Jun 13 12:26:38 UTC 2020)\n",
       "(EPL source distribution)\n",
       "Java Runtime: OpenJDK Runtime Environment\n",
       "JVM: OpenJDK 64-Bit Server VM\n",
       "Default Encoding: UTF-8\n",
       "Language: en\n",
       "Country: null\n",
       "--></g></svg>"
      ]
     },
     "execution_count": 24,
     "metadata": {},
     "output_type": "execute_result"
    }
   ],
   "source": [
    "%viz --style=\"STDCOLOR\" --view=\"Tree\" \"Q\""
   ]
  },
  {
   "cell_type": "code",
   "execution_count": 25,
   "id": "covered-appointment",
   "metadata": {
    "execution": {
     "iopub.execute_input": "2021-03-25T13:42:08.537872Z",
     "iopub.status.busy": "2021-03-25T13:42:08.537320Z",
     "iopub.status.idle": "2021-03-25T13:42:08.544803Z",
     "shell.execute_reply": "2021-03-25T13:42:08.544459Z"
    }
   },
   "outputs": [
    {
     "data": {
      "image/svg+xml": [
       "<?xml version=\"1.0\" encoding=\"UTF-8\" standalone=\"no\"?><svg xmlns=\"http://www.w3.org/2000/svg\" xmlns:xlink=\"http://www.w3.org/1999/xlink\" contentScriptType=\"application/ecmascript\" contentStyleType=\"text/css\" height=\"12px\" preserveAspectRatio=\"none\" style=\"width:12px;height:12px;\" version=\"1.1\" viewBox=\"0 0 12 12\" width=\"12px\" zoomAndPan=\"magnify\"><defs/><g><!--MD5=[aeeef50f102b80d730deb6443d14f702]\n",
       "@startuml\r\n",
       "skinparam wrapWidth 300\r\n",
       "hide circle\r\n",
       "\r\n",
       "@enduml\r\n",
       "\n",
       "PlantUML version 1.2020.13(Sat Jun 13 12:26:38 UTC 2020)\n",
       "(EPL source distribution)\n",
       "Java Runtime: OpenJDK Runtime Environment\n",
       "JVM: OpenJDK 64-Bit Server VM\n",
       "Default Encoding: UTF-8\n",
       "Language: en\n",
       "Country: null\n",
       "--></g></svg>"
      ]
     },
     "execution_count": 25,
     "metadata": {},
     "output_type": "execute_result"
    }
   ],
   "source": [
    "%viz --style=\"STDCOLOR\" --view=\"State\" \"Q\""
   ]
  },
  {
   "cell_type": "code",
   "execution_count": 26,
   "id": "twelve-scott",
   "metadata": {
    "execution": {
     "iopub.execute_input": "2021-03-25T13:42:08.596197Z",
     "iopub.status.busy": "2021-03-25T13:42:08.595577Z",
     "iopub.status.idle": "2021-03-25T13:42:08.657926Z",
     "shell.execute_reply": "2021-03-25T13:42:08.658408Z"
    }
   },
   "outputs": [
    {
     "data": {
      "image/svg+xml": [
       "<?xml version=\"1.0\" encoding=\"UTF-8\" standalone=\"no\"?><svg xmlns=\"http://www.w3.org/2000/svg\" xmlns:xlink=\"http://www.w3.org/1999/xlink\" contentScriptType=\"application/ecmascript\" contentStyleType=\"text/css\" height=\"192px\" preserveAspectRatio=\"none\" style=\"width:279px;height:192px;\" version=\"1.1\" viewBox=\"0 0 279 192\" width=\"279px\" zoomAndPan=\"magnify\"><defs><filter height=\"300%\" id=\"f15wewmiyxs0hl\" width=\"300%\" x=\"-1\" y=\"-1\"><feGaussianBlur result=\"blurOut\" stdDeviation=\"2.0\"/><feColorMatrix in=\"blurOut\" result=\"blurOut2\" type=\"matrix\" values=\"0 0 0 0 0 0 0 0 0 0 0 0 0 0 0 0 0 0 .4 0\"/><feOffset dx=\"4.0\" dy=\"4.0\" in=\"blurOut2\" result=\"blurOut3\"/><feBlend in=\"SourceGraphic\" in2=\"blurOut3\" mode=\"normal\"/></filter></defs><g><!--MD5=[fbc87193dbaf4d95561dea2c320d4a47]\n",
       "cluster E1--><a href=\"psysml:28439c61-0f75-41f9-9e39-c7479ce99829\" target=\"_top\" title=\"psysml:28439c61-0f75-41f9-9e39-c7479ce99829\" xlink:actuate=\"onRequest\" xlink:href=\"psysml:28439c61-0f75-41f9-9e39-c7479ce99829\" xlink:show=\"new\" xlink:title=\"psysml:28439c61-0f75-41f9-9e39-c7479ce99829\" xlink:type=\"simple\"><polygon fill=\"#FFFFFF\" filter=\"url(#f15wewmiyxs0hl)\" points=\"16,6,34,6,41,28.2969,257,28.2969,257,180,16,180,16,6\" style=\"stroke: #000000; stroke-width: 1.5;\"/><line style=\"stroke: #000000; stroke-width: 1.5;\" x1=\"16\" x2=\"41\" y1=\"28.2969\" y2=\"28.2969\"/><text fill=\"#000000\" font-family=\"sans-serif\" font-size=\"14\" font-weight=\"bold\" lengthAdjust=\"spacingAndGlyphs\" textLength=\"12\" x=\"20\" y=\"20.9951\">Q</text></a><!--MD5=[e4f7fae6ed58524ba242bb0b0d3be6b7]\n",
       "cluster E2--><a href=\"psysml:ef5bd6a7-9b0c-4f9f-9d58-83550a9f52f0\" target=\"_top\" title=\"psysml:ef5bd6a7-9b0c-4f9f-9d58-83550a9f52f0\" xlink:actuate=\"onRequest\" xlink:href=\"psysml:ef5bd6a7-9b0c-4f9f-9d58-83550a9f52f0\" xlink:show=\"new\" xlink:title=\"psysml:ef5bd6a7-9b0c-4f9f-9d58-83550a9f52f0\" xlink:type=\"simple\"><rect fill=\"#FFFFFF\" filter=\"url(#f15wewmiyxs0hl)\" height=\"91\" id=\"E2\" rx=\"10\" ry=\"10\" style=\"stroke: #A80036; stroke-width: 1.5;\" width=\"82\" x=\"151\" y=\"65\"/><rect fill=\"#FEFECE\" height=\"23.9688\" rx=\"10\" ry=\"10\" style=\"stroke: #FEFECE; stroke-width: 1.5;\" width=\"82\" x=\"151\" y=\"65\"/><rect fill=\"#FEFECE\" height=\"10\" style=\"stroke: #FEFECE; stroke-width: 1.5;\" width=\"82\" x=\"151\" y=\"78.9688\"/><rect fill=\"none\" height=\"91\" id=\"E2\" rx=\"10\" ry=\"10\" style=\"stroke: #A80036; stroke-width: 1.5;\" width=\"82\" x=\"151\" y=\"65\"/><text fill=\"#000000\" font-family=\"sans-serif\" font-size=\"12\" lengthAdjust=\"spacingAndGlyphs\" textLength=\"4\" x=\"190\" y=\"81.1387\">f</text><line style=\"stroke: #A80036; stroke-width: 1.0;\" x1=\"151\" x2=\"233\" y1=\"88.9688\" y2=\"88.9688\"/></a><!--MD5=[f6df4d0ebaf0b5dfb2ced0ae5af7c670]\n",
       "cluster E4--><a href=\"psysml:76b80061-5d22-4116-930d-3b6f4cd610b8\" target=\"_top\" title=\"psysml:76b80061-5d22-4116-930d-3b6f4cd610b8\" xlink:actuate=\"onRequest\" xlink:href=\"psysml:76b80061-5d22-4116-930d-3b6f4cd610b8\" xlink:show=\"new\" xlink:title=\"psysml:76b80061-5d22-4116-930d-3b6f4cd610b8\" xlink:type=\"simple\"><rect fill=\"#FFFFFF\" filter=\"url(#f15wewmiyxs0hl)\" height=\"107\" id=\"E4\" style=\"stroke: #A80036; stroke-width: 1.5;\" width=\"87\" x=\"40\" y=\"49\"/><rect fill=\"#FEFECE\" height=\"37.9375\" style=\"stroke: #A80036; stroke-width: 1.5;\" width=\"87\" x=\"40\" y=\"49\"/><text fill=\"#000000\" font-family=\"sans-serif\" font-size=\"12\" font-style=\"italic\" lengthAdjust=\"spacingAndGlyphs\" textLength=\"64\" x=\"51.5\" y=\"65.1387\">«part def»</text><text fill=\"#000000\" font-family=\"sans-serif\" font-size=\"12\" lengthAdjust=\"spacingAndGlyphs\" textLength=\"8\" x=\"79.5\" y=\"79.1074\">C</text></a><g id=\"E1.E2.E3\"><a href=\"psysml:b70a2483-525b-464a-8d4b-4d166d754785\" target=\"_top\" title=\"psysml:b70a2483-525b-464a-8d4b-4d166d754785\" xlink:actuate=\"onRequest\" xlink:href=\"psysml:b70a2483-525b-464a-8d4b-4d166d754785\" xlink:show=\"new\" xlink:title=\"psysml:b70a2483-525b-464a-8d4b-4d166d754785\" xlink:type=\"simple\"><rect fill=\"#FEFECE\" filter=\"url(#f15wewmiyxs0hl)\" height=\"40\" id=\"E3\" rx=\"10\" ry=\"10\" style=\"stroke: #A80036; stroke-width: 1.5;\" width=\"50\" x=\"167\" y=\"100\"/><text fill=\"#000000\" font-family=\"sans-serif\" font-size=\"12\" lengthAdjust=\"spacingAndGlyphs\" textLength=\"8\" x=\"188\" y=\"116.1387\">a</text></a></g><g id=\"E1.E4.E5\"><a href=\"psysml:92e0160d-75a4-4892-b826-902f6ecde3a0\" target=\"_top\" title=\"psysml:92e0160d-75a4-4892-b826-902f6ecde3a0\" xlink:actuate=\"onRequest\" xlink:href=\"psysml:92e0160d-75a4-4892-b826-902f6ecde3a0\" xlink:show=\"new\" xlink:title=\"psysml:92e0160d-75a4-4892-b826-902f6ecde3a0\" xlink:type=\"simple\"><rect fill=\"#FEFECE\" filter=\"url(#f15wewmiyxs0hl)\" height=\"40\" id=\"E5\" rx=\"10\" ry=\"10\" style=\"stroke: #A80036; stroke-width: 1.5;\" width=\"50\" x=\"58\" y=\"100\"/><text fill=\"#000000\" font-family=\"sans-serif\" font-size=\"12\" lengthAdjust=\"spacingAndGlyphs\" textLength=\"8\" x=\"79\" y=\"116.1387\">g</text></a></g><!--MD5=[73dcb86a4e072bf64c09bea23728e390]\n",
       "@startuml\r\n",
       "skinparam ranksep 8\r\n",
       "skinparam rectangle {\r\n",
       " backgroundColor<<block>> LightGreen\r\n",
       "}\r\n",
       "skinparam wrapWidth 300\r\n",
       "hide circle\r\n",
       "\r\n",
       "package \"Q\" as E1  [[psysml:28439c61-0f75-41f9-9e39-c7479ce99829 ]]  {\r\n",
       "rec usage \"f\" as E2  [[psysml:ef5bd6a7-9b0c-4f9f-9d58-83550a9f52f0 ]] {\r\n",
       "rec usage \"a\" as E3  [[psysml:b70a2483-525b-464a-8d4b-4d166d754785 ]] {\r\n",
       "}\r\n",
       "}\r\n",
       "rec def \"C\" as E4  <<(T,blue)part def>> [[psysml:76b80061-5d22-4116-930d-3b6f4cd610b8 ]] {\r\n",
       "rec usage \"g\" as E5  [[psysml:92e0160d-75a4-4892-b826-902f6ecde3a0 ]] {\r\n",
       "}\r\n",
       "}\r\n",
       "}\r\n",
       "@enduml\r\n",
       "\n",
       "PlantUML version 1.2020.13(Sat Jun 13 12:26:38 UTC 2020)\n",
       "(EPL source distribution)\n",
       "Java Runtime: OpenJDK Runtime Environment\n",
       "JVM: OpenJDK 64-Bit Server VM\n",
       "Default Encoding: UTF-8\n",
       "Language: en\n",
       "Country: null\n",
       "--></g></svg>"
      ]
     },
     "execution_count": 26,
     "metadata": {},
     "output_type": "execute_result"
    }
   ],
   "source": [
    "%viz --style=\"STDCOLOR\" --view=\"Interconnection\" \"Q\""
   ]
  },
  {
   "cell_type": "code",
   "execution_count": 27,
   "id": "surprised-savings",
   "metadata": {
    "execution": {
     "iopub.execute_input": "2021-03-25T13:42:08.710627Z",
     "iopub.status.busy": "2021-03-25T13:42:08.710103Z",
     "iopub.status.idle": "2021-03-25T13:42:08.716060Z",
     "shell.execute_reply": "2021-03-25T13:42:08.716467Z"
    }
   },
   "outputs": [
    {
     "data": {
      "image/svg+xml": [
       "<?xml version=\"1.0\" encoding=\"UTF-8\" standalone=\"no\"?><svg xmlns=\"http://www.w3.org/2000/svg\" xmlns:xlink=\"http://www.w3.org/1999/xlink\" contentScriptType=\"application/ecmascript\" contentStyleType=\"text/css\" height=\"12px\" preserveAspectRatio=\"none\" style=\"width:12px;height:12px;\" version=\"1.1\" viewBox=\"0 0 12 12\" width=\"12px\" zoomAndPan=\"magnify\"><defs/><g><!--MD5=[9863325348a96a77dacc89509d8ee65e]\n",
       "@startuml\r\n",
       "skinparam ranksep 8\r\n",
       "skinparam wrapWidth 300\r\n",
       "hide circle\r\n",
       "\r\n",
       "@enduml\r\n",
       "\n",
       "PlantUML version 1.2020.13(Sat Jun 13 12:26:38 UTC 2020)\n",
       "(EPL source distribution)\n",
       "Java Runtime: OpenJDK Runtime Environment\n",
       "JVM: OpenJDK 64-Bit Server VM\n",
       "Default Encoding: UTF-8\n",
       "Language: en\n",
       "Country: null\n",
       "--></g></svg>"
      ]
     },
     "execution_count": 27,
     "metadata": {},
     "output_type": "execute_result"
    }
   ],
   "source": [
    "%viz --style=\"STDCOLOR\" --view=\"Action\" \"Q\""
   ]
  },
  {
   "cell_type": "code",
   "execution_count": 28,
   "id": "divided-weight",
   "metadata": {
    "execution": {
     "iopub.execute_input": "2021-03-25T13:42:08.768843Z",
     "iopub.status.busy": "2021-03-25T13:42:08.768348Z",
     "iopub.status.idle": "2021-03-25T13:42:08.817106Z",
     "shell.execute_reply": "2021-03-25T13:42:08.817509Z"
    }
   },
   "outputs": [
    {
     "data": {
      "image/svg+xml": [
       "<?xml version=\"1.0\" encoding=\"UTF-8\" standalone=\"no\"?><svg xmlns=\"http://www.w3.org/2000/svg\" xmlns:xlink=\"http://www.w3.org/1999/xlink\" contentScriptType=\"application/ecmascript\" contentStyleType=\"text/css\" height=\"221px\" preserveAspectRatio=\"none\" style=\"width:213px;height:221px;\" version=\"1.1\" viewBox=\"0 0 213 221\" width=\"213px\" zoomAndPan=\"magnify\"><defs><filter height=\"300%\" id=\"fzppgvmqwpbvb\" width=\"300%\" x=\"-1\" y=\"-1\"><feGaussianBlur result=\"blurOut\" stdDeviation=\"2.0\"/><feColorMatrix in=\"blurOut\" result=\"blurOut2\" type=\"matrix\" values=\"0 0 0 0 0 0 0 0 0 0 0 0 0 0 0 0 0 0 .4 0\"/><feOffset dx=\"4.0\" dy=\"4.0\" in=\"blurOut2\" result=\"blurOut3\"/><feBlend in=\"SourceGraphic\" in2=\"blurOut3\" mode=\"normal\"/></filter></defs><g><!--MD5=[fbc87193dbaf4d95561dea2c320d4a47]\n",
       "cluster E1--><a href=\"psysml:28439c61-0f75-41f9-9e39-c7479ce99829\" target=\"_top\" title=\"psysml:28439c61-0f75-41f9-9e39-c7479ce99829\" xlink:actuate=\"onRequest\" xlink:href=\"psysml:28439c61-0f75-41f9-9e39-c7479ce99829\" xlink:show=\"new\" xlink:title=\"psysml:28439c61-0f75-41f9-9e39-c7479ce99829\" xlink:type=\"simple\"><polygon fill=\"#FFFFFF\" filter=\"url(#fzppgvmqwpbvb)\" points=\"16,6,34,6,41,28.2969,191,28.2969,191,209,16,209,16,6\" style=\"stroke: #000000; stroke-width: 1.5;\"/><line style=\"stroke: #000000; stroke-width: 1.5;\" x1=\"16\" x2=\"41\" y1=\"28.2969\" y2=\"28.2969\"/><text fill=\"#000000\" font-family=\"sans-serif\" font-size=\"14\" font-weight=\"bold\" lengthAdjust=\"spacingAndGlyphs\" textLength=\"12\" x=\"20\" y=\"20.9951\">Q</text></a><!--MD5=[b4997ac47864f28c2f74865a473b2911]\n",
       "class E2--><a href=\"psysml:ef5bd6a7-9b0c-4f9f-9d58-83550a9f52f0\" target=\"_top\" title=\"psysml:ef5bd6a7-9b0c-4f9f-9d58-83550a9f52f0\" xlink:actuate=\"onRequest\" xlink:href=\"psysml:ef5bd6a7-9b0c-4f9f-9d58-83550a9f52f0\" xlink:show=\"new\" xlink:title=\"psysml:ef5bd6a7-9b0c-4f9f-9d58-83550a9f52f0\" xlink:type=\"simple\"><rect fill=\"#FEFECE\" filter=\"url(#fzppgvmqwpbvb)\" height=\"45.9375\" id=\"E2\" rx=\"10\" ry=\"10\" style=\"stroke: #A80036; stroke-width: 1.5;\" width=\"42\" x=\"133\" y=\"41\"/><text fill=\"#000000\" font-family=\"sans-serif\" font-size=\"12\" font-style=\"italic\" lengthAdjust=\"spacingAndGlyphs\" textLength=\"40\" x=\"134\" y=\"57.1387\">«part»</text><text fill=\"#000000\" font-family=\"sans-serif\" font-size=\"12\" lengthAdjust=\"spacingAndGlyphs\" textLength=\"4\" x=\"152\" y=\"71.1074\">f</text><line style=\"stroke: #A80036; stroke-width: 1.5;\" x1=\"134\" x2=\"174\" y1=\"78.9375\" y2=\"78.9375\"/></a><!--MD5=[09b614a08d8cba4a07c9adeb5e0fee81]\n",
       "class E3--><a href=\"psysml:b70a2483-525b-464a-8d4b-4d166d754785\" target=\"_top\" title=\"psysml:b70a2483-525b-464a-8d4b-4d166d754785\" xlink:actuate=\"onRequest\" xlink:href=\"psysml:b70a2483-525b-464a-8d4b-4d166d754785\" xlink:show=\"new\" xlink:title=\"psysml:b70a2483-525b-464a-8d4b-4d166d754785\" xlink:type=\"simple\"><rect fill=\"#FEFECE\" filter=\"url(#fzppgvmqwpbvb)\" height=\"45.9375\" id=\"E3\" rx=\"10\" ry=\"10\" style=\"stroke: #A80036; stroke-width: 1.5;\" width=\"42\" x=\"133\" y=\"147\"/><text fill=\"#000000\" font-family=\"sans-serif\" font-size=\"12\" font-style=\"italic\" lengthAdjust=\"spacingAndGlyphs\" textLength=\"40\" x=\"134\" y=\"163.1387\">«part»</text><text fill=\"#000000\" font-family=\"sans-serif\" font-size=\"12\" lengthAdjust=\"spacingAndGlyphs\" textLength=\"8\" x=\"150\" y=\"177.1074\">a</text><line style=\"stroke: #A80036; stroke-width: 1.5;\" x1=\"134\" x2=\"174\" y1=\"184.9375\" y2=\"184.9375\"/></a><!--MD5=[ebbe1d658d1005bcc118a6aa81145e00]\n",
       "class E4--><a href=\"psysml:76b80061-5d22-4116-930d-3b6f4cd610b8\" target=\"_top\" title=\"psysml:76b80061-5d22-4116-930d-3b6f4cd610b8\" xlink:actuate=\"onRequest\" xlink:href=\"psysml:76b80061-5d22-4116-930d-3b6f4cd610b8\" xlink:show=\"new\" xlink:title=\"psysml:76b80061-5d22-4116-930d-3b6f4cd610b8\" xlink:type=\"simple\"><rect fill=\"#FEFECE\" filter=\"url(#fzppgvmqwpbvb)\" height=\"45.9375\" id=\"E4\" style=\"stroke: #A80036; stroke-width: 1.5;\" width=\"66\" x=\"32\" y=\"41\"/><text fill=\"#000000\" font-family=\"sans-serif\" font-size=\"12\" font-style=\"italic\" lengthAdjust=\"spacingAndGlyphs\" textLength=\"64\" x=\"33\" y=\"57.1387\">«part def»</text><text fill=\"#000000\" font-family=\"sans-serif\" font-size=\"12\" lengthAdjust=\"spacingAndGlyphs\" textLength=\"8\" x=\"61\" y=\"71.1074\">C</text><line style=\"stroke: #A80036; stroke-width: 1.5;\" x1=\"33\" x2=\"97\" y1=\"78.9375\" y2=\"78.9375\"/></a><!--MD5=[270fce915f116d4de14055a7c1d9a0f3]\n",
       "class E5--><a href=\"psysml:92e0160d-75a4-4892-b826-902f6ecde3a0\" target=\"_top\" title=\"psysml:92e0160d-75a4-4892-b826-902f6ecde3a0\" xlink:actuate=\"onRequest\" xlink:href=\"psysml:92e0160d-75a4-4892-b826-902f6ecde3a0\" xlink:show=\"new\" xlink:title=\"psysml:92e0160d-75a4-4892-b826-902f6ecde3a0\" xlink:type=\"simple\"><rect fill=\"#FEFECE\" filter=\"url(#fzppgvmqwpbvb)\" height=\"45.9375\" id=\"E5\" rx=\"10\" ry=\"10\" style=\"stroke: #A80036; stroke-width: 1.5;\" width=\"42\" x=\"44\" y=\"147\"/><text fill=\"#000000\" font-family=\"sans-serif\" font-size=\"12\" font-style=\"italic\" lengthAdjust=\"spacingAndGlyphs\" textLength=\"40\" x=\"45\" y=\"163.1387\">«part»</text><text fill=\"#000000\" font-family=\"sans-serif\" font-size=\"12\" lengthAdjust=\"spacingAndGlyphs\" textLength=\"8\" x=\"61\" y=\"177.1074\">g</text><line style=\"stroke: #A80036; stroke-width: 1.5;\" x1=\"45\" x2=\"85\" y1=\"184.9375\" y2=\"184.9375\"/></a><!--MD5=[209b3feb70ccb6233bfe1053d122c12c]\n",
       "reverse link E2 to E3--><a href=\"psysml:b70a2483-525b-464a-8d4b-4d166d754785\" target=\"_top\" title=\"psysml:b70a2483-525b-464a-8d4b-4d166d754785\" xlink:actuate=\"onRequest\" xlink:href=\"psysml:b70a2483-525b-464a-8d4b-4d166d754785\" xlink:show=\"new\" xlink:title=\"psysml:b70a2483-525b-464a-8d4b-4d166d754785\" xlink:type=\"simple\"><path d=\"M154,100.44 C154,115.87 154,133.47 154,146.98 \" fill=\"none\" id=\"E2&lt;-E3\" style=\"stroke: #A80036; stroke-width: 1.0;\"/><polygon fill=\"#A80036\" points=\"154,87.06,150,93.06,154,99.06,158,93.06,154,87.06\" style=\"stroke: #A80036; stroke-width: 1.0;\"/></a><!--MD5=[62aa6af11e70f752912c1cb0466f24f7]\n",
       "reverse link E4 to E5--><a href=\"psysml:92e0160d-75a4-4892-b826-902f6ecde3a0\" target=\"_top\" title=\"psysml:92e0160d-75a4-4892-b826-902f6ecde3a0\" xlink:actuate=\"onRequest\" xlink:href=\"psysml:92e0160d-75a4-4892-b826-902f6ecde3a0\" xlink:show=\"new\" xlink:title=\"psysml:92e0160d-75a4-4892-b826-902f6ecde3a0\" xlink:type=\"simple\"><path d=\"M65,100.44 C65,115.87 65,133.47 65,146.98 \" fill=\"none\" id=\"E4&lt;-E5\" style=\"stroke: #A80036; stroke-width: 1.0;\"/><polygon fill=\"#A80036\" points=\"65,87.06,61,93.06,65,99.06,69,93.06,65,87.06\" style=\"stroke: #A80036; stroke-width: 1.0;\"/></a><!--MD5=[295f7d0236630b881f1f457ee3d3f4ec]\n",
       "@startuml\r\n",
       "skinparam wrapWidth 300\r\n",
       "hide circle\r\n",
       "\r\n",
       "package \"Q\" as E1  [[psysml:28439c61-0f75-41f9-9e39-c7479ce99829 ]]  {\r\n",
       "comp usage \"f\" as E2  <<(T,blue)part>> [[psysml:ef5bd6a7-9b0c-4f9f-9d58-83550a9f52f0 ]] {\r\n",
       "}\r\n",
       "comp usage \"a\" as E3  <<(T,blue)part>> [[psysml:b70a2483-525b-464a-8d4b-4d166d754785 ]] {\r\n",
       "}\r\n",
       "comp def \"C\" as E4  <<(T,blue)part def>> [[psysml:76b80061-5d22-4116-930d-3b6f4cd610b8 ]] {\r\n",
       "}\r\n",
       "comp usage \"g\" as E5  <<(T,blue)part>> [[psysml:92e0160d-75a4-4892-b826-902f6ecde3a0 ]] {\r\n",
       "}\r\n",
       "E2 *- - E3 [[psysml:b70a2483-525b-464a-8d4b-4d166d754785 ]] \r\n",
       "E4 *- - E5 [[psysml:92e0160d-75a4-4892-b826-902f6ecde3a0 ]] \r\n",
       "}\r\n",
       "@enduml\r\n",
       "\n",
       "PlantUML version 1.2020.13(Sat Jun 13 12:26:38 UTC 2020)\n",
       "(EPL source distribution)\n",
       "Java Runtime: OpenJDK Runtime Environment\n",
       "JVM: OpenJDK 64-Bit Server VM\n",
       "Default Encoding: UTF-8\n",
       "Language: en\n",
       "Country: null\n",
       "--></g></svg>"
      ]
     },
     "execution_count": 28,
     "metadata": {},
     "output_type": "execute_result"
    }
   ],
   "source": [
    "%viz --style=\"STDCOLOR\" --view=\"Sequence\" \"Q\""
   ]
  },
  {
   "cell_type": "code",
   "execution_count": 29,
   "id": "initial-verification",
   "metadata": {
    "execution": {
     "iopub.execute_input": "2021-03-25T13:42:08.871464Z",
     "iopub.status.busy": "2021-03-25T13:42:08.870795Z",
     "iopub.status.idle": "2021-03-25T13:42:08.918464Z",
     "shell.execute_reply": "2021-03-25T13:42:08.918026Z"
    }
   },
   "outputs": [
    {
     "data": {
      "image/svg+xml": [
       "<?xml version=\"1.0\" encoding=\"UTF-8\" standalone=\"no\"?><svg xmlns=\"http://www.w3.org/2000/svg\" xmlns:xlink=\"http://www.w3.org/1999/xlink\" contentScriptType=\"application/ecmascript\" contentStyleType=\"text/css\" height=\"221px\" preserveAspectRatio=\"none\" style=\"width:213px;height:221px;\" version=\"1.1\" viewBox=\"0 0 213 221\" width=\"213px\" zoomAndPan=\"magnify\"><defs><filter height=\"300%\" id=\"fzppgvmqwpbvb\" width=\"300%\" x=\"-1\" y=\"-1\"><feGaussianBlur result=\"blurOut\" stdDeviation=\"2.0\"/><feColorMatrix in=\"blurOut\" result=\"blurOut2\" type=\"matrix\" values=\"0 0 0 0 0 0 0 0 0 0 0 0 0 0 0 0 0 0 .4 0\"/><feOffset dx=\"4.0\" dy=\"4.0\" in=\"blurOut2\" result=\"blurOut3\"/><feBlend in=\"SourceGraphic\" in2=\"blurOut3\" mode=\"normal\"/></filter></defs><g><!--MD5=[fbc87193dbaf4d95561dea2c320d4a47]\n",
       "cluster E1--><a href=\"psysml:28439c61-0f75-41f9-9e39-c7479ce99829\" target=\"_top\" title=\"psysml:28439c61-0f75-41f9-9e39-c7479ce99829\" xlink:actuate=\"onRequest\" xlink:href=\"psysml:28439c61-0f75-41f9-9e39-c7479ce99829\" xlink:show=\"new\" xlink:title=\"psysml:28439c61-0f75-41f9-9e39-c7479ce99829\" xlink:type=\"simple\"><polygon fill=\"#FFFFFF\" filter=\"url(#fzppgvmqwpbvb)\" points=\"16,6,34,6,41,28.2969,191,28.2969,191,209,16,209,16,6\" style=\"stroke: #000000; stroke-width: 1.5;\"/><line style=\"stroke: #000000; stroke-width: 1.5;\" x1=\"16\" x2=\"41\" y1=\"28.2969\" y2=\"28.2969\"/><text fill=\"#000000\" font-family=\"sans-serif\" font-size=\"14\" font-weight=\"bold\" lengthAdjust=\"spacingAndGlyphs\" textLength=\"12\" x=\"20\" y=\"20.9951\">Q</text></a><!--MD5=[b4997ac47864f28c2f74865a473b2911]\n",
       "class E2--><a href=\"psysml:ef5bd6a7-9b0c-4f9f-9d58-83550a9f52f0\" target=\"_top\" title=\"psysml:ef5bd6a7-9b0c-4f9f-9d58-83550a9f52f0\" xlink:actuate=\"onRequest\" xlink:href=\"psysml:ef5bd6a7-9b0c-4f9f-9d58-83550a9f52f0\" xlink:show=\"new\" xlink:title=\"psysml:ef5bd6a7-9b0c-4f9f-9d58-83550a9f52f0\" xlink:type=\"simple\"><rect fill=\"#FEFECE\" filter=\"url(#fzppgvmqwpbvb)\" height=\"45.9375\" id=\"E2\" rx=\"10\" ry=\"10\" style=\"stroke: #A80036; stroke-width: 1.5;\" width=\"42\" x=\"133\" y=\"41\"/><text fill=\"#000000\" font-family=\"sans-serif\" font-size=\"12\" font-style=\"italic\" lengthAdjust=\"spacingAndGlyphs\" textLength=\"40\" x=\"134\" y=\"57.1387\">«part»</text><text fill=\"#000000\" font-family=\"sans-serif\" font-size=\"12\" lengthAdjust=\"spacingAndGlyphs\" textLength=\"4\" x=\"152\" y=\"71.1074\">f</text><line style=\"stroke: #A80036; stroke-width: 1.5;\" x1=\"134\" x2=\"174\" y1=\"78.9375\" y2=\"78.9375\"/></a><!--MD5=[09b614a08d8cba4a07c9adeb5e0fee81]\n",
       "class E3--><a href=\"psysml:b70a2483-525b-464a-8d4b-4d166d754785\" target=\"_top\" title=\"psysml:b70a2483-525b-464a-8d4b-4d166d754785\" xlink:actuate=\"onRequest\" xlink:href=\"psysml:b70a2483-525b-464a-8d4b-4d166d754785\" xlink:show=\"new\" xlink:title=\"psysml:b70a2483-525b-464a-8d4b-4d166d754785\" xlink:type=\"simple\"><rect fill=\"#FEFECE\" filter=\"url(#fzppgvmqwpbvb)\" height=\"45.9375\" id=\"E3\" rx=\"10\" ry=\"10\" style=\"stroke: #A80036; stroke-width: 1.5;\" width=\"42\" x=\"133\" y=\"147\"/><text fill=\"#000000\" font-family=\"sans-serif\" font-size=\"12\" font-style=\"italic\" lengthAdjust=\"spacingAndGlyphs\" textLength=\"40\" x=\"134\" y=\"163.1387\">«part»</text><text fill=\"#000000\" font-family=\"sans-serif\" font-size=\"12\" lengthAdjust=\"spacingAndGlyphs\" textLength=\"8\" x=\"150\" y=\"177.1074\">a</text><line style=\"stroke: #A80036; stroke-width: 1.5;\" x1=\"134\" x2=\"174\" y1=\"184.9375\" y2=\"184.9375\"/></a><!--MD5=[ebbe1d658d1005bcc118a6aa81145e00]\n",
       "class E4--><a href=\"psysml:76b80061-5d22-4116-930d-3b6f4cd610b8\" target=\"_top\" title=\"psysml:76b80061-5d22-4116-930d-3b6f4cd610b8\" xlink:actuate=\"onRequest\" xlink:href=\"psysml:76b80061-5d22-4116-930d-3b6f4cd610b8\" xlink:show=\"new\" xlink:title=\"psysml:76b80061-5d22-4116-930d-3b6f4cd610b8\" xlink:type=\"simple\"><rect fill=\"#FEFECE\" filter=\"url(#fzppgvmqwpbvb)\" height=\"45.9375\" id=\"E4\" style=\"stroke: #A80036; stroke-width: 1.5;\" width=\"66\" x=\"32\" y=\"41\"/><text fill=\"#000000\" font-family=\"sans-serif\" font-size=\"12\" font-style=\"italic\" lengthAdjust=\"spacingAndGlyphs\" textLength=\"64\" x=\"33\" y=\"57.1387\">«part def»</text><text fill=\"#000000\" font-family=\"sans-serif\" font-size=\"12\" lengthAdjust=\"spacingAndGlyphs\" textLength=\"8\" x=\"61\" y=\"71.1074\">C</text><line style=\"stroke: #A80036; stroke-width: 1.5;\" x1=\"33\" x2=\"97\" y1=\"78.9375\" y2=\"78.9375\"/></a><!--MD5=[270fce915f116d4de14055a7c1d9a0f3]\n",
       "class E5--><a href=\"psysml:92e0160d-75a4-4892-b826-902f6ecde3a0\" target=\"_top\" title=\"psysml:92e0160d-75a4-4892-b826-902f6ecde3a0\" xlink:actuate=\"onRequest\" xlink:href=\"psysml:92e0160d-75a4-4892-b826-902f6ecde3a0\" xlink:show=\"new\" xlink:title=\"psysml:92e0160d-75a4-4892-b826-902f6ecde3a0\" xlink:type=\"simple\"><rect fill=\"#FEFECE\" filter=\"url(#fzppgvmqwpbvb)\" height=\"45.9375\" id=\"E5\" rx=\"10\" ry=\"10\" style=\"stroke: #A80036; stroke-width: 1.5;\" width=\"42\" x=\"44\" y=\"147\"/><text fill=\"#000000\" font-family=\"sans-serif\" font-size=\"12\" font-style=\"italic\" lengthAdjust=\"spacingAndGlyphs\" textLength=\"40\" x=\"45\" y=\"163.1387\">«part»</text><text fill=\"#000000\" font-family=\"sans-serif\" font-size=\"12\" lengthAdjust=\"spacingAndGlyphs\" textLength=\"8\" x=\"61\" y=\"177.1074\">g</text><line style=\"stroke: #A80036; stroke-width: 1.5;\" x1=\"45\" x2=\"85\" y1=\"184.9375\" y2=\"184.9375\"/></a><!--MD5=[209b3feb70ccb6233bfe1053d122c12c]\n",
       "reverse link E2 to E3--><a href=\"psysml:b70a2483-525b-464a-8d4b-4d166d754785\" target=\"_top\" title=\"psysml:b70a2483-525b-464a-8d4b-4d166d754785\" xlink:actuate=\"onRequest\" xlink:href=\"psysml:b70a2483-525b-464a-8d4b-4d166d754785\" xlink:show=\"new\" xlink:title=\"psysml:b70a2483-525b-464a-8d4b-4d166d754785\" xlink:type=\"simple\"><path d=\"M154,100.44 C154,115.87 154,133.47 154,146.98 \" fill=\"none\" id=\"E2&lt;-E3\" style=\"stroke: #A80036; stroke-width: 1.0;\"/><polygon fill=\"#A80036\" points=\"154,87.06,150,93.06,154,99.06,158,93.06,154,87.06\" style=\"stroke: #A80036; stroke-width: 1.0;\"/></a><!--MD5=[62aa6af11e70f752912c1cb0466f24f7]\n",
       "reverse link E4 to E5--><a href=\"psysml:92e0160d-75a4-4892-b826-902f6ecde3a0\" target=\"_top\" title=\"psysml:92e0160d-75a4-4892-b826-902f6ecde3a0\" xlink:actuate=\"onRequest\" xlink:href=\"psysml:92e0160d-75a4-4892-b826-902f6ecde3a0\" xlink:show=\"new\" xlink:title=\"psysml:92e0160d-75a4-4892-b826-902f6ecde3a0\" xlink:type=\"simple\"><path d=\"M65,100.44 C65,115.87 65,133.47 65,146.98 \" fill=\"none\" id=\"E4&lt;-E5\" style=\"stroke: #A80036; stroke-width: 1.0;\"/><polygon fill=\"#A80036\" points=\"65,87.06,61,93.06,65,99.06,69,93.06,65,87.06\" style=\"stroke: #A80036; stroke-width: 1.0;\"/></a><!--MD5=[295f7d0236630b881f1f457ee3d3f4ec]\n",
       "@startuml\r\n",
       "skinparam wrapWidth 300\r\n",
       "hide circle\r\n",
       "\r\n",
       "package \"Q\" as E1  [[psysml:28439c61-0f75-41f9-9e39-c7479ce99829 ]]  {\r\n",
       "comp usage \"f\" as E2  <<(T,blue)part>> [[psysml:ef5bd6a7-9b0c-4f9f-9d58-83550a9f52f0 ]] {\r\n",
       "}\r\n",
       "comp usage \"a\" as E3  <<(T,blue)part>> [[psysml:b70a2483-525b-464a-8d4b-4d166d754785 ]] {\r\n",
       "}\r\n",
       "comp def \"C\" as E4  <<(T,blue)part def>> [[psysml:76b80061-5d22-4116-930d-3b6f4cd610b8 ]] {\r\n",
       "}\r\n",
       "comp usage \"g\" as E5  <<(T,blue)part>> [[psysml:92e0160d-75a4-4892-b826-902f6ecde3a0 ]] {\r\n",
       "}\r\n",
       "E2 *- - E3 [[psysml:b70a2483-525b-464a-8d4b-4d166d754785 ]] \r\n",
       "E4 *- - E5 [[psysml:92e0160d-75a4-4892-b826-902f6ecde3a0 ]] \r\n",
       "}\r\n",
       "@enduml\r\n",
       "\n",
       "PlantUML version 1.2020.13(Sat Jun 13 12:26:38 UTC 2020)\n",
       "(EPL source distribution)\n",
       "Java Runtime: OpenJDK Runtime Environment\n",
       "JVM: OpenJDK 64-Bit Server VM\n",
       "Default Encoding: UTF-8\n",
       "Language: en\n",
       "Country: null\n",
       "--></g></svg>"
      ]
     },
     "execution_count": 29,
     "metadata": {},
     "output_type": "execute_result"
    }
   ],
   "source": [
    "%viz --style=\"STDCOLOR\" --view=\"MIXED\" \"Q\""
   ]
  },
  {
   "cell_type": "code",
   "execution_count": 30,
   "id": "incoming-thinking",
   "metadata": {
    "execution": {
     "iopub.execute_input": "2021-03-25T13:42:08.969700Z",
     "iopub.status.busy": "2021-03-25T13:42:08.969267Z",
     "iopub.status.idle": "2021-03-25T13:42:09.039419Z",
     "shell.execute_reply": "2021-03-25T13:42:09.037642Z"
    }
   },
   "outputs": [
    {
     "data": {
      "image/svg+xml": [
       "<?xml version=\"1.0\" encoding=\"UTF-8\" standalone=\"no\"?><svg xmlns=\"http://www.w3.org/2000/svg\" xmlns:xlink=\"http://www.w3.org/1999/xlink\" contentScriptType=\"application/ecmascript\" contentStyleType=\"text/css\" height=\"221px\" preserveAspectRatio=\"none\" style=\"width:241px;height:221px;\" version=\"1.1\" viewBox=\"0 0 241 221\" width=\"241px\" zoomAndPan=\"magnify\"><defs><filter height=\"300%\" id=\"f11l9sax8joeft\" width=\"300%\" x=\"-1\" y=\"-1\"><feGaussianBlur result=\"blurOut\" stdDeviation=\"2.0\"/><feColorMatrix in=\"blurOut\" result=\"blurOut2\" type=\"matrix\" values=\"0 0 0 0 0 0 0 0 0 0 0 0 0 0 0 0 0 0 .4 0\"/><feOffset dx=\"4.0\" dy=\"4.0\" in=\"blurOut2\" result=\"blurOut3\"/><feBlend in=\"SourceGraphic\" in2=\"blurOut3\" mode=\"normal\"/></filter></defs><g><!--MD5=[fbc87193dbaf4d95561dea2c320d4a47]\n",
       "cluster E1--><a href=\"psysml:28439c61-0f75-41f9-9e39-c7479ce99829\" target=\"_top\" title=\"psysml:28439c61-0f75-41f9-9e39-c7479ce99829\" xlink:actuate=\"onRequest\" xlink:href=\"psysml:28439c61-0f75-41f9-9e39-c7479ce99829\" xlink:show=\"new\" xlink:title=\"psysml:28439c61-0f75-41f9-9e39-c7479ce99829\" xlink:type=\"simple\"><polygon fill=\"#FFFFFF\" filter=\"url(#f11l9sax8joeft)\" points=\"16,6,34,6,41,28.2969,219,28.2969,219,209,16,209,16,6\" style=\"stroke: #000000; stroke-width: 1.5;\"/><line style=\"stroke: #000000; stroke-width: 1.5;\" x1=\"16\" x2=\"41\" y1=\"28.2969\" y2=\"28.2969\"/><text fill=\"#000000\" font-family=\"sans-serif\" font-size=\"14\" font-weight=\"bold\" lengthAdjust=\"spacingAndGlyphs\" textLength=\"12\" x=\"20\" y=\"20.9951\">Q</text></a><!--MD5=[b4997ac47864f28c2f74865a473b2911]\n",
       "class E2--><a href=\"psysml:ef5bd6a7-9b0c-4f9f-9d58-83550a9f52f0\" target=\"_top\" title=\"psysml:ef5bd6a7-9b0c-4f9f-9d58-83550a9f52f0\" xlink:actuate=\"onRequest\" xlink:href=\"psysml:ef5bd6a7-9b0c-4f9f-9d58-83550a9f52f0\" xlink:show=\"new\" xlink:title=\"psysml:ef5bd6a7-9b0c-4f9f-9d58-83550a9f52f0\" xlink:type=\"simple\"><rect fill=\"#FEFECE\" filter=\"url(#f11l9sax8joeft)\" height=\"45.9375\" id=\"E2\" rx=\"10\" ry=\"10\" style=\"stroke: #A80036; stroke-width: 1.5;\" width=\"68\" x=\"135\" y=\"41\"/><ellipse cx=\"150\" cy=\"59.9688\" fill=\"#32CD32\" rx=\"11\" ry=\"11\" style=\"stroke: #A80036; stroke-width: 1.0;\"/><path d=\"M149.7969,55.6406 L149.7969,59.2656 L150.7969,59.2656 Q152,59.2656 152.4844,58.8594 Q152.9688,58.4531 152.9688,57.4531 Q152.9688,56.4531 152.4844,56.0469 Q152,55.6406 150.7969,55.6406 L149.7969,55.6406 Z M147.3438,53.5781 L150.7031,53.5781 Q153.2656,53.5781 154.3906,54.5 Q155.5156,55.4063 155.5156,57.4531 Q155.5156,59.5 154.3906,60.4219 Q153.2656,61.3281 150.7031,61.3281 L149.7969,61.3281 L149.7969,65.9688 L147.3438,65.9688 L147.3438,53.5781 Z \"/><text fill=\"#000000\" font-family=\"sans-serif\" font-size=\"12\" font-style=\"italic\" lengthAdjust=\"spacingAndGlyphs\" textLength=\"40\" x=\"162\" y=\"57.1387\">«part»</text><text fill=\"#000000\" font-family=\"sans-serif\" font-size=\"12\" lengthAdjust=\"spacingAndGlyphs\" textLength=\"4\" x=\"180\" y=\"71.1074\">f</text><line style=\"stroke: #A80036; stroke-width: 1.5;\" x1=\"136\" x2=\"202\" y1=\"78.9375\" y2=\"78.9375\"/></a><!--MD5=[09b614a08d8cba4a07c9adeb5e0fee81]\n",
       "class E3--><a href=\"psysml:b70a2483-525b-464a-8d4b-4d166d754785\" target=\"_top\" title=\"psysml:b70a2483-525b-464a-8d4b-4d166d754785\" xlink:actuate=\"onRequest\" xlink:href=\"psysml:b70a2483-525b-464a-8d4b-4d166d754785\" xlink:show=\"new\" xlink:title=\"psysml:b70a2483-525b-464a-8d4b-4d166d754785\" xlink:type=\"simple\"><rect fill=\"#FEFECE\" filter=\"url(#f11l9sax8joeft)\" height=\"45.9375\" id=\"E3\" rx=\"10\" ry=\"10\" style=\"stroke: #A80036; stroke-width: 1.5;\" width=\"68\" x=\"135\" y=\"147\"/><ellipse cx=\"150\" cy=\"165.9688\" fill=\"#32CD32\" rx=\"11\" ry=\"11\" style=\"stroke: #A80036; stroke-width: 1.0;\"/><path d=\"M149.7969,161.6406 L149.7969,165.2656 L150.7969,165.2656 Q152,165.2656 152.4844,164.8594 Q152.9688,164.4531 152.9688,163.4531 Q152.9688,162.4531 152.4844,162.0469 Q152,161.6406 150.7969,161.6406 L149.7969,161.6406 Z M147.3438,159.5781 L150.7031,159.5781 Q153.2656,159.5781 154.3906,160.5 Q155.5156,161.4063 155.5156,163.4531 Q155.5156,165.5 154.3906,166.4219 Q153.2656,167.3281 150.7031,167.3281 L149.7969,167.3281 L149.7969,171.9688 L147.3438,171.9688 L147.3438,159.5781 Z \"/><text fill=\"#000000\" font-family=\"sans-serif\" font-size=\"12\" font-style=\"italic\" lengthAdjust=\"spacingAndGlyphs\" textLength=\"40\" x=\"162\" y=\"163.1387\">«part»</text><text fill=\"#000000\" font-family=\"sans-serif\" font-size=\"12\" lengthAdjust=\"spacingAndGlyphs\" textLength=\"8\" x=\"178\" y=\"177.1074\">a</text><line style=\"stroke: #A80036; stroke-width: 1.5;\" x1=\"136\" x2=\"202\" y1=\"184.9375\" y2=\"184.9375\"/></a><!--MD5=[ebbe1d658d1005bcc118a6aa81145e00]\n",
       "class E4--><a href=\"psysml:76b80061-5d22-4116-930d-3b6f4cd610b8\" target=\"_top\" title=\"psysml:76b80061-5d22-4116-930d-3b6f4cd610b8\" xlink:actuate=\"onRequest\" xlink:href=\"psysml:76b80061-5d22-4116-930d-3b6f4cd610b8\" xlink:show=\"new\" xlink:title=\"psysml:76b80061-5d22-4116-930d-3b6f4cd610b8\" xlink:type=\"simple\"><rect fill=\"#FEFECE\" filter=\"url(#f11l9sax8joeft)\" height=\"40\" id=\"E4\" style=\"stroke: #A80036; stroke-width: 1.5;\" width=\"40\" x=\"46\" y=\"44\"/><ellipse cx=\"61\" cy=\"60\" fill=\"#008000\" rx=\"11\" ry=\"11\" style=\"stroke: #A80036; stroke-width: 1.0;\"/><path d=\"M59.9063,60.375 L59.9063,64.0469 L61.5313,64.0469 Q62.7031,64.0469 63.1719,63.6563 Q63.6406,63.25 63.6406,62.25 Q63.6406,61.25 63.1406,60.8125 Q62.6563,60.375 61.5313,60.375 L59.9063,60.375 Z M59.9063,55.5469 L59.9063,58.4219 L61.5313,58.4219 Q62.4531,58.4219 62.8438,58.0938 Q63.25,57.75 63.25,57 Q63.25,56.2344 62.8438,55.8906 Q62.4375,55.5469 61.5313,55.5469 L59.9063,55.5469 Z M57.5313,53.5938 L61.5313,53.5938 Q63.5938,53.5938 64.6406,54.375 Q65.6875,55.1563 65.6875,56.7188 Q65.6875,57.9219 65.0625,58.5938 Q64.4531,59.2656 63.2656,59.375 Q64.6875,59.5156 65.4063,60.3281 Q66.125,61.1406 66.125,62.5938 Q66.125,64.3906 65.0469,65.2031 Q63.9688,66 61.5313,66 L57.5313,66 L57.5313,53.5938 Z \"/><text fill=\"#000000\" font-family=\"sans-serif\" font-size=\"12\" lengthAdjust=\"spacingAndGlyphs\" textLength=\"8\" x=\"75\" y=\"64.1543\">C</text><line style=\"stroke: #A80036; stroke-width: 1.5;\" x1=\"47\" x2=\"85\" y1=\"76\" y2=\"76\"/></a><!--MD5=[270fce915f116d4de14055a7c1d9a0f3]\n",
       "class E5--><a href=\"psysml:92e0160d-75a4-4892-b826-902f6ecde3a0\" target=\"_top\" title=\"psysml:92e0160d-75a4-4892-b826-902f6ecde3a0\" xlink:actuate=\"onRequest\" xlink:href=\"psysml:92e0160d-75a4-4892-b826-902f6ecde3a0\" xlink:show=\"new\" xlink:title=\"psysml:92e0160d-75a4-4892-b826-902f6ecde3a0\" xlink:type=\"simple\"><rect fill=\"#FEFECE\" filter=\"url(#f11l9sax8joeft)\" height=\"45.9375\" id=\"E5\" rx=\"10\" ry=\"10\" style=\"stroke: #A80036; stroke-width: 1.5;\" width=\"68\" x=\"32\" y=\"147\"/><ellipse cx=\"47\" cy=\"165.9688\" fill=\"#32CD32\" rx=\"11\" ry=\"11\" style=\"stroke: #A80036; stroke-width: 1.0;\"/><path d=\"M46.7969,161.6406 L46.7969,165.2656 L47.7969,165.2656 Q49,165.2656 49.4844,164.8594 Q49.9688,164.4531 49.9688,163.4531 Q49.9688,162.4531 49.4844,162.0469 Q49,161.6406 47.7969,161.6406 L46.7969,161.6406 Z M44.3438,159.5781 L47.7031,159.5781 Q50.2656,159.5781 51.3906,160.5 Q52.5156,161.4063 52.5156,163.4531 Q52.5156,165.5 51.3906,166.4219 Q50.2656,167.3281 47.7031,167.3281 L46.7969,167.3281 L46.7969,171.9688 L44.3438,171.9688 L44.3438,159.5781 Z \"/><text fill=\"#000000\" font-family=\"sans-serif\" font-size=\"12\" font-style=\"italic\" lengthAdjust=\"spacingAndGlyphs\" textLength=\"40\" x=\"59\" y=\"163.1387\">«part»</text><text fill=\"#000000\" font-family=\"sans-serif\" font-size=\"12\" lengthAdjust=\"spacingAndGlyphs\" textLength=\"8\" x=\"75\" y=\"177.1074\">g</text><line style=\"stroke: #A80036; stroke-width: 1.5;\" x1=\"33\" x2=\"99\" y1=\"184.9375\" y2=\"184.9375\"/></a><!--MD5=[209b3feb70ccb6233bfe1053d122c12c]\n",
       "reverse link E2 to E3--><a href=\"psysml:b70a2483-525b-464a-8d4b-4d166d754785\" target=\"_top\" title=\"psysml:b70a2483-525b-464a-8d4b-4d166d754785\" xlink:actuate=\"onRequest\" xlink:href=\"psysml:b70a2483-525b-464a-8d4b-4d166d754785\" xlink:show=\"new\" xlink:title=\"psysml:b70a2483-525b-464a-8d4b-4d166d754785\" xlink:type=\"simple\"><path d=\"M169,100.44 C169,115.87 169,133.47 169,146.98 \" fill=\"none\" id=\"E2&lt;-E3\" style=\"stroke: #A80036; stroke-width: 1.0;\"/><polygon fill=\"#A80036\" points=\"169,87.06,165,93.06,169,99.06,173,93.06,169,87.06\" style=\"stroke: #A80036; stroke-width: 1.0;\"/></a><!--MD5=[62aa6af11e70f752912c1cb0466f24f7]\n",
       "reverse link E4 to E5--><a href=\"psysml:92e0160d-75a4-4892-b826-902f6ecde3a0\" target=\"_top\" title=\"psysml:92e0160d-75a4-4892-b826-902f6ecde3a0\" xlink:actuate=\"onRequest\" xlink:href=\"psysml:92e0160d-75a4-4892-b826-902f6ecde3a0\" xlink:show=\"new\" xlink:title=\"psysml:92e0160d-75a4-4892-b826-902f6ecde3a0\" xlink:type=\"simple\"><path d=\"M66,97.25 C66,113.33 66,132.37 66,146.8 \" fill=\"none\" id=\"E4&lt;-E5\" style=\"stroke: #A80036; stroke-width: 1.0;\"/><polygon fill=\"#A80036\" points=\"66,84.08,62,90.08,66,96.08,70,90.08,66,84.08\" style=\"stroke: #A80036; stroke-width: 1.0;\"/></a><!--MD5=[a1bd1da3bb1663a3a00cf05bc99343db]\n",
       "@startuml\r\n",
       " \r\n",
       "package \"Q\" as E1  [[psysml:28439c61-0f75-41f9-9e39-c7479ce99829 ]]  {\r\n",
       "comp usage \"f\" as E2  << (P,limegreen) part>> [[psysml:ef5bd6a7-9b0c-4f9f-9d58-83550a9f52f0 ]] {\r\n",
       "}\r\n",
       "comp usage \"a\" as E3  << (P,limegreen) part>> [[psysml:b70a2483-525b-464a-8d4b-4d166d754785 ]] {\r\n",
       "}\r\n",
       "comp def \"C\" as E4  << (B,green) >> [[psysml:76b80061-5d22-4116-930d-3b6f4cd610b8 ]] {\r\n",
       "}\r\n",
       "comp usage \"g\" as E5  << (P,limegreen) part>> [[psysml:92e0160d-75a4-4892-b826-902f6ecde3a0 ]] {\r\n",
       "}\r\n",
       "E2 *- - E3 [[psysml:b70a2483-525b-464a-8d4b-4d166d754785 ]] \r\n",
       "E4 *- - E5 [[psysml:92e0160d-75a4-4892-b826-902f6ecde3a0 ]] \r\n",
       "}\r\n",
       "@enduml\r\n",
       "\n",
       "PlantUML version 1.2020.13(Sat Jun 13 12:26:38 UTC 2020)\n",
       "(EPL source distribution)\n",
       "Java Runtime: OpenJDK Runtime Environment\n",
       "JVM: OpenJDK 64-Bit Server VM\n",
       "Default Encoding: UTF-8\n",
       "Language: en\n",
       "Country: null\n",
       "--></g></svg>"
      ]
     },
     "execution_count": 30,
     "metadata": {},
     "output_type": "execute_result"
    }
   ],
   "source": [
    "%viz --style=\"PLANTUML\" --view=\"Default\" \"Q\""
   ]
  },
  {
   "cell_type": "code",
   "execution_count": 31,
   "id": "palestinian-minnesota",
   "metadata": {
    "execution": {
     "iopub.execute_input": "2021-03-25T13:42:09.088807Z",
     "iopub.status.busy": "2021-03-25T13:42:09.088437Z",
     "iopub.status.idle": "2021-03-25T13:42:09.133152Z",
     "shell.execute_reply": "2021-03-25T13:42:09.133991Z"
    }
   },
   "outputs": [
    {
     "data": {
      "image/svg+xml": [
       "<?xml version=\"1.0\" encoding=\"UTF-8\" standalone=\"no\"?><svg xmlns=\"http://www.w3.org/2000/svg\" xmlns:xlink=\"http://www.w3.org/1999/xlink\" contentScriptType=\"application/ecmascript\" contentStyleType=\"text/css\" height=\"221px\" preserveAspectRatio=\"none\" style=\"width:241px;height:221px;\" version=\"1.1\" viewBox=\"0 0 241 221\" width=\"241px\" zoomAndPan=\"magnify\"><defs><filter height=\"300%\" id=\"f11l9sax8joeft\" width=\"300%\" x=\"-1\" y=\"-1\"><feGaussianBlur result=\"blurOut\" stdDeviation=\"2.0\"/><feColorMatrix in=\"blurOut\" result=\"blurOut2\" type=\"matrix\" values=\"0 0 0 0 0 0 0 0 0 0 0 0 0 0 0 0 0 0 .4 0\"/><feOffset dx=\"4.0\" dy=\"4.0\" in=\"blurOut2\" result=\"blurOut3\"/><feBlend in=\"SourceGraphic\" in2=\"blurOut3\" mode=\"normal\"/></filter></defs><g><!--MD5=[fbc87193dbaf4d95561dea2c320d4a47]\n",
       "cluster E1--><a href=\"psysml:28439c61-0f75-41f9-9e39-c7479ce99829\" target=\"_top\" title=\"psysml:28439c61-0f75-41f9-9e39-c7479ce99829\" xlink:actuate=\"onRequest\" xlink:href=\"psysml:28439c61-0f75-41f9-9e39-c7479ce99829\" xlink:show=\"new\" xlink:title=\"psysml:28439c61-0f75-41f9-9e39-c7479ce99829\" xlink:type=\"simple\"><polygon fill=\"#FFFFFF\" filter=\"url(#f11l9sax8joeft)\" points=\"16,6,34,6,41,28.2969,219,28.2969,219,209,16,209,16,6\" style=\"stroke: #000000; stroke-width: 1.5;\"/><line style=\"stroke: #000000; stroke-width: 1.5;\" x1=\"16\" x2=\"41\" y1=\"28.2969\" y2=\"28.2969\"/><text fill=\"#000000\" font-family=\"sans-serif\" font-size=\"14\" font-weight=\"bold\" lengthAdjust=\"spacingAndGlyphs\" textLength=\"12\" x=\"20\" y=\"20.9951\">Q</text></a><!--MD5=[b4997ac47864f28c2f74865a473b2911]\n",
       "class E2--><a href=\"psysml:ef5bd6a7-9b0c-4f9f-9d58-83550a9f52f0\" target=\"_top\" title=\"psysml:ef5bd6a7-9b0c-4f9f-9d58-83550a9f52f0\" xlink:actuate=\"onRequest\" xlink:href=\"psysml:ef5bd6a7-9b0c-4f9f-9d58-83550a9f52f0\" xlink:show=\"new\" xlink:title=\"psysml:ef5bd6a7-9b0c-4f9f-9d58-83550a9f52f0\" xlink:type=\"simple\"><rect fill=\"#FEFECE\" filter=\"url(#f11l9sax8joeft)\" height=\"45.9375\" id=\"E2\" rx=\"10\" ry=\"10\" style=\"stroke: #A80036; stroke-width: 1.5;\" width=\"68\" x=\"135\" y=\"41\"/><ellipse cx=\"150\" cy=\"59.9688\" fill=\"#32CD32\" rx=\"11\" ry=\"11\" style=\"stroke: #A80036; stroke-width: 1.0;\"/><path d=\"M149.7969,55.6406 L149.7969,59.2656 L150.7969,59.2656 Q152,59.2656 152.4844,58.8594 Q152.9688,58.4531 152.9688,57.4531 Q152.9688,56.4531 152.4844,56.0469 Q152,55.6406 150.7969,55.6406 L149.7969,55.6406 Z M147.3438,53.5781 L150.7031,53.5781 Q153.2656,53.5781 154.3906,54.5 Q155.5156,55.4063 155.5156,57.4531 Q155.5156,59.5 154.3906,60.4219 Q153.2656,61.3281 150.7031,61.3281 L149.7969,61.3281 L149.7969,65.9688 L147.3438,65.9688 L147.3438,53.5781 Z \"/><text fill=\"#000000\" font-family=\"sans-serif\" font-size=\"12\" font-style=\"italic\" lengthAdjust=\"spacingAndGlyphs\" textLength=\"40\" x=\"162\" y=\"57.1387\">«part»</text><text fill=\"#000000\" font-family=\"sans-serif\" font-size=\"12\" lengthAdjust=\"spacingAndGlyphs\" textLength=\"4\" x=\"180\" y=\"71.1074\">f</text><line style=\"stroke: #A80036; stroke-width: 1.5;\" x1=\"136\" x2=\"202\" y1=\"78.9375\" y2=\"78.9375\"/></a><!--MD5=[09b614a08d8cba4a07c9adeb5e0fee81]\n",
       "class E3--><a href=\"psysml:b70a2483-525b-464a-8d4b-4d166d754785\" target=\"_top\" title=\"psysml:b70a2483-525b-464a-8d4b-4d166d754785\" xlink:actuate=\"onRequest\" xlink:href=\"psysml:b70a2483-525b-464a-8d4b-4d166d754785\" xlink:show=\"new\" xlink:title=\"psysml:b70a2483-525b-464a-8d4b-4d166d754785\" xlink:type=\"simple\"><rect fill=\"#FEFECE\" filter=\"url(#f11l9sax8joeft)\" height=\"45.9375\" id=\"E3\" rx=\"10\" ry=\"10\" style=\"stroke: #A80036; stroke-width: 1.5;\" width=\"68\" x=\"135\" y=\"147\"/><ellipse cx=\"150\" cy=\"165.9688\" fill=\"#32CD32\" rx=\"11\" ry=\"11\" style=\"stroke: #A80036; stroke-width: 1.0;\"/><path d=\"M149.7969,161.6406 L149.7969,165.2656 L150.7969,165.2656 Q152,165.2656 152.4844,164.8594 Q152.9688,164.4531 152.9688,163.4531 Q152.9688,162.4531 152.4844,162.0469 Q152,161.6406 150.7969,161.6406 L149.7969,161.6406 Z M147.3438,159.5781 L150.7031,159.5781 Q153.2656,159.5781 154.3906,160.5 Q155.5156,161.4063 155.5156,163.4531 Q155.5156,165.5 154.3906,166.4219 Q153.2656,167.3281 150.7031,167.3281 L149.7969,167.3281 L149.7969,171.9688 L147.3438,171.9688 L147.3438,159.5781 Z \"/><text fill=\"#000000\" font-family=\"sans-serif\" font-size=\"12\" font-style=\"italic\" lengthAdjust=\"spacingAndGlyphs\" textLength=\"40\" x=\"162\" y=\"163.1387\">«part»</text><text fill=\"#000000\" font-family=\"sans-serif\" font-size=\"12\" lengthAdjust=\"spacingAndGlyphs\" textLength=\"8\" x=\"178\" y=\"177.1074\">a</text><line style=\"stroke: #A80036; stroke-width: 1.5;\" x1=\"136\" x2=\"202\" y1=\"184.9375\" y2=\"184.9375\"/></a><!--MD5=[ebbe1d658d1005bcc118a6aa81145e00]\n",
       "class E4--><a href=\"psysml:76b80061-5d22-4116-930d-3b6f4cd610b8\" target=\"_top\" title=\"psysml:76b80061-5d22-4116-930d-3b6f4cd610b8\" xlink:actuate=\"onRequest\" xlink:href=\"psysml:76b80061-5d22-4116-930d-3b6f4cd610b8\" xlink:show=\"new\" xlink:title=\"psysml:76b80061-5d22-4116-930d-3b6f4cd610b8\" xlink:type=\"simple\"><rect fill=\"#FEFECE\" filter=\"url(#f11l9sax8joeft)\" height=\"40\" id=\"E4\" style=\"stroke: #A80036; stroke-width: 1.5;\" width=\"40\" x=\"46\" y=\"44\"/><ellipse cx=\"61\" cy=\"60\" fill=\"#008000\" rx=\"11\" ry=\"11\" style=\"stroke: #A80036; stroke-width: 1.0;\"/><path d=\"M59.9063,60.375 L59.9063,64.0469 L61.5313,64.0469 Q62.7031,64.0469 63.1719,63.6563 Q63.6406,63.25 63.6406,62.25 Q63.6406,61.25 63.1406,60.8125 Q62.6563,60.375 61.5313,60.375 L59.9063,60.375 Z M59.9063,55.5469 L59.9063,58.4219 L61.5313,58.4219 Q62.4531,58.4219 62.8438,58.0938 Q63.25,57.75 63.25,57 Q63.25,56.2344 62.8438,55.8906 Q62.4375,55.5469 61.5313,55.5469 L59.9063,55.5469 Z M57.5313,53.5938 L61.5313,53.5938 Q63.5938,53.5938 64.6406,54.375 Q65.6875,55.1563 65.6875,56.7188 Q65.6875,57.9219 65.0625,58.5938 Q64.4531,59.2656 63.2656,59.375 Q64.6875,59.5156 65.4063,60.3281 Q66.125,61.1406 66.125,62.5938 Q66.125,64.3906 65.0469,65.2031 Q63.9688,66 61.5313,66 L57.5313,66 L57.5313,53.5938 Z \"/><text fill=\"#000000\" font-family=\"sans-serif\" font-size=\"12\" lengthAdjust=\"spacingAndGlyphs\" textLength=\"8\" x=\"75\" y=\"64.1543\">C</text><line style=\"stroke: #A80036; stroke-width: 1.5;\" x1=\"47\" x2=\"85\" y1=\"76\" y2=\"76\"/></a><!--MD5=[270fce915f116d4de14055a7c1d9a0f3]\n",
       "class E5--><a href=\"psysml:92e0160d-75a4-4892-b826-902f6ecde3a0\" target=\"_top\" title=\"psysml:92e0160d-75a4-4892-b826-902f6ecde3a0\" xlink:actuate=\"onRequest\" xlink:href=\"psysml:92e0160d-75a4-4892-b826-902f6ecde3a0\" xlink:show=\"new\" xlink:title=\"psysml:92e0160d-75a4-4892-b826-902f6ecde3a0\" xlink:type=\"simple\"><rect fill=\"#FEFECE\" filter=\"url(#f11l9sax8joeft)\" height=\"45.9375\" id=\"E5\" rx=\"10\" ry=\"10\" style=\"stroke: #A80036; stroke-width: 1.5;\" width=\"68\" x=\"32\" y=\"147\"/><ellipse cx=\"47\" cy=\"165.9688\" fill=\"#32CD32\" rx=\"11\" ry=\"11\" style=\"stroke: #A80036; stroke-width: 1.0;\"/><path d=\"M46.7969,161.6406 L46.7969,165.2656 L47.7969,165.2656 Q49,165.2656 49.4844,164.8594 Q49.9688,164.4531 49.9688,163.4531 Q49.9688,162.4531 49.4844,162.0469 Q49,161.6406 47.7969,161.6406 L46.7969,161.6406 Z M44.3438,159.5781 L47.7031,159.5781 Q50.2656,159.5781 51.3906,160.5 Q52.5156,161.4063 52.5156,163.4531 Q52.5156,165.5 51.3906,166.4219 Q50.2656,167.3281 47.7031,167.3281 L46.7969,167.3281 L46.7969,171.9688 L44.3438,171.9688 L44.3438,159.5781 Z \"/><text fill=\"#000000\" font-family=\"sans-serif\" font-size=\"12\" font-style=\"italic\" lengthAdjust=\"spacingAndGlyphs\" textLength=\"40\" x=\"59\" y=\"163.1387\">«part»</text><text fill=\"#000000\" font-family=\"sans-serif\" font-size=\"12\" lengthAdjust=\"spacingAndGlyphs\" textLength=\"8\" x=\"75\" y=\"177.1074\">g</text><line style=\"stroke: #A80036; stroke-width: 1.5;\" x1=\"33\" x2=\"99\" y1=\"184.9375\" y2=\"184.9375\"/></a><!--MD5=[209b3feb70ccb6233bfe1053d122c12c]\n",
       "reverse link E2 to E3--><a href=\"psysml:b70a2483-525b-464a-8d4b-4d166d754785\" target=\"_top\" title=\"psysml:b70a2483-525b-464a-8d4b-4d166d754785\" xlink:actuate=\"onRequest\" xlink:href=\"psysml:b70a2483-525b-464a-8d4b-4d166d754785\" xlink:show=\"new\" xlink:title=\"psysml:b70a2483-525b-464a-8d4b-4d166d754785\" xlink:type=\"simple\"><path d=\"M169,100.44 C169,115.87 169,133.47 169,146.98 \" fill=\"none\" id=\"E2&lt;-E3\" style=\"stroke: #A80036; stroke-width: 1.0;\"/><polygon fill=\"#A80036\" points=\"169,87.06,165,93.06,169,99.06,173,93.06,169,87.06\" style=\"stroke: #A80036; stroke-width: 1.0;\"/></a><!--MD5=[62aa6af11e70f752912c1cb0466f24f7]\n",
       "reverse link E4 to E5--><a href=\"psysml:92e0160d-75a4-4892-b826-902f6ecde3a0\" target=\"_top\" title=\"psysml:92e0160d-75a4-4892-b826-902f6ecde3a0\" xlink:actuate=\"onRequest\" xlink:href=\"psysml:92e0160d-75a4-4892-b826-902f6ecde3a0\" xlink:show=\"new\" xlink:title=\"psysml:92e0160d-75a4-4892-b826-902f6ecde3a0\" xlink:type=\"simple\"><path d=\"M66,97.25 C66,113.33 66,132.37 66,146.8 \" fill=\"none\" id=\"E4&lt;-E5\" style=\"stroke: #A80036; stroke-width: 1.0;\"/><polygon fill=\"#A80036\" points=\"66,84.08,62,90.08,66,96.08,70,90.08,66,84.08\" style=\"stroke: #A80036; stroke-width: 1.0;\"/></a><!--MD5=[a1bd1da3bb1663a3a00cf05bc99343db]\n",
       "@startuml\r\n",
       " \r\n",
       "package \"Q\" as E1  [[psysml:28439c61-0f75-41f9-9e39-c7479ce99829 ]]  {\r\n",
       "comp usage \"f\" as E2  << (P,limegreen) part>> [[psysml:ef5bd6a7-9b0c-4f9f-9d58-83550a9f52f0 ]] {\r\n",
       "}\r\n",
       "comp usage \"a\" as E3  << (P,limegreen) part>> [[psysml:b70a2483-525b-464a-8d4b-4d166d754785 ]] {\r\n",
       "}\r\n",
       "comp def \"C\" as E4  << (B,green) >> [[psysml:76b80061-5d22-4116-930d-3b6f4cd610b8 ]] {\r\n",
       "}\r\n",
       "comp usage \"g\" as E5  << (P,limegreen) part>> [[psysml:92e0160d-75a4-4892-b826-902f6ecde3a0 ]] {\r\n",
       "}\r\n",
       "E2 *- - E3 [[psysml:b70a2483-525b-464a-8d4b-4d166d754785 ]] \r\n",
       "E4 *- - E5 [[psysml:92e0160d-75a4-4892-b826-902f6ecde3a0 ]] \r\n",
       "}\r\n",
       "@enduml\r\n",
       "\n",
       "PlantUML version 1.2020.13(Sat Jun 13 12:26:38 UTC 2020)\n",
       "(EPL source distribution)\n",
       "Java Runtime: OpenJDK Runtime Environment\n",
       "JVM: OpenJDK 64-Bit Server VM\n",
       "Default Encoding: UTF-8\n",
       "Language: en\n",
       "Country: null\n",
       "--></g></svg>"
      ]
     },
     "execution_count": 31,
     "metadata": {},
     "output_type": "execute_result"
    }
   ],
   "source": [
    "%viz --style=\"PLANTUML\" --view=\"Tree\" \"Q\""
   ]
  },
  {
   "cell_type": "code",
   "execution_count": 32,
   "id": "limiting-passion",
   "metadata": {
    "execution": {
     "iopub.execute_input": "2021-03-25T13:42:09.184244Z",
     "iopub.status.busy": "2021-03-25T13:42:09.183444Z",
     "iopub.status.idle": "2021-03-25T13:42:10.077627Z",
     "shell.execute_reply": "2021-03-25T13:42:10.076246Z"
    }
   },
   "outputs": [
    {
     "data": {
      "image/svg+xml": [
       "<?xml version=\"1.0\" encoding=\"UTF-8\" standalone=\"no\"?><svg xmlns=\"http://www.w3.org/2000/svg\" xmlns:xlink=\"http://www.w3.org/1999/xlink\" contentScriptType=\"application/ecmascript\" contentStyleType=\"text/css\" height=\"303px\" preserveAspectRatio=\"none\" style=\"width:603px;height:303px;background:#000000;\" version=\"1.1\" viewBox=\"0 0 603 303\" width=\"603px\" zoomAndPan=\"magnify\"><defs/><g><rect fill=\"#1C0011\" height=\"1\" style=\"stroke: #1C0011; stroke-width: 1.0;\" width=\"1\" x=\"0\" y=\"0\"/><rect fill=\"#FFFFFF\" height=\"205.5625\" style=\"stroke: #FFFFFF; stroke-width: 1.0;\" width=\"602\" x=\"0\" y=\"0\"/><text fill=\"#000000\" font-family=\"sans-serif\" font-size=\"12\" font-weight=\"bold\" lengthAdjust=\"spacingAndGlyphs\" textLength=\"159\" x=\"5\" y=\"16.1387\">Welcome to PlantUML!</text><text fill=\"#000000\" font-family=\"sans-serif\" font-size=\"12\" lengthAdjust=\"spacingAndGlyphs\" textLength=\"0\" x=\"9\" y=\"30.1074\"/><text fill=\"#000000\" font-family=\"sans-serif\" font-size=\"12\" lengthAdjust=\"spacingAndGlyphs\" textLength=\"293\" x=\"5\" y=\"44.0762\">If you use this software, you accept its license.</text><text fill=\"#000000\" font-family=\"sans-serif\" font-size=\"12\" lengthAdjust=\"spacingAndGlyphs\" textLength=\"107\" x=\"5\" y=\"58.0449\">(details by typing</text><text fill=\"#000000\" font-family=\"monospace\" font-size=\"12\" lengthAdjust=\"spacingAndGlyphs\" textLength=\"49\" x=\"116\" y=\"58.0449\">license</text><text fill=\"#000000\" font-family=\"sans-serif\" font-size=\"12\" lengthAdjust=\"spacingAndGlyphs\" textLength=\"56\" x=\"169\" y=\"58.0449\">keyword)</text><text fill=\"#000000\" font-family=\"sans-serif\" font-size=\"12\" lengthAdjust=\"spacingAndGlyphs\" textLength=\"0\" x=\"9\" y=\"72.0137\"/><text fill=\"#000000\" font-family=\"sans-serif\" font-size=\"12\" lengthAdjust=\"spacingAndGlyphs\" textLength=\"283\" x=\"5\" y=\"85.9824\">You can start with a simple UML Diagram like:</text><text fill=\"#000000\" font-family=\"sans-serif\" font-size=\"12\" lengthAdjust=\"spacingAndGlyphs\" textLength=\"0\" x=\"9\" y=\"99.9512\"/><text fill=\"#000000\" font-family=\"monospace\" font-size=\"12\" lengthAdjust=\"spacingAndGlyphs\" textLength=\"119\" x=\"5\" y=\"113.9199\">Bob-&gt;Alice: Hello</text><text fill=\"#000000\" font-family=\"sans-serif\" font-size=\"12\" lengthAdjust=\"spacingAndGlyphs\" textLength=\"0\" x=\"9\" y=\"127.8887\"/><text fill=\"#000000\" font-family=\"sans-serif\" font-size=\"12\" lengthAdjust=\"spacingAndGlyphs\" textLength=\"14\" x=\"5\" y=\"141.8574\">Or</text><text fill=\"#000000\" font-family=\"sans-serif\" font-size=\"12\" lengthAdjust=\"spacingAndGlyphs\" textLength=\"0\" x=\"9\" y=\"155.8262\"/><text fill=\"#000000\" font-family=\"monospace\" font-size=\"12\" lengthAdjust=\"spacingAndGlyphs\" textLength=\"91\" x=\"5\" y=\"169.7949\">class Example</text><text fill=\"#000000\" font-family=\"sans-serif\" font-size=\"12\" lengthAdjust=\"spacingAndGlyphs\" textLength=\"0\" x=\"9\" y=\"183.7637\"/><text fill=\"#000000\" font-family=\"sans-serif\" font-size=\"12\" lengthAdjust=\"spacingAndGlyphs\" textLength=\"349\" x=\"5\" y=\"197.7324\">You will find more information about PlantUML syntax on</text><text fill=\"#000000\" font-family=\"sans-serif\" font-size=\"12\" lengthAdjust=\"spacingAndGlyphs\" text-decoration=\"underline\" textLength=\"129\" x=\"358\" y=\"197.7324\">https://plantuml.com</text><image height=\"71\" width=\"80\" x=\"516\" xlink:href=\"data:image/png;base64,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\" y=\"6\"/><rect fill=\"#000000\" height=\"96.4844\" style=\"stroke: #000000; stroke-width: 1.0;\" width=\"602\" x=\"0\" y=\"205.5625\"/><rect fill=\"#33FF02\" height=\"21.2969\" style=\"stroke: #33FF02; stroke-width: 1.0;\" width=\"170\" x=\"5\" y=\"210.5625\"/><text fill=\"#000000\" font-family=\"sans-serif\" font-size=\"14\" font-weight=\"bold\" lengthAdjust=\"spacingAndGlyphs\" textLength=\"168\" x=\"6\" y=\"225.5625\">[From string (line 2) ]</text><text fill=\"#33FF02\" font-family=\"sans-serif\" font-size=\"14\" font-weight=\"bold\" lengthAdjust=\"spacingAndGlyphs\" textLength=\"0\" x=\"10\" y=\"245.8594\"/><text fill=\"#33FF02\" font-family=\"sans-serif\" font-size=\"14\" font-weight=\"bold\" lengthAdjust=\"spacingAndGlyphs\" textLength=\"79\" x=\"5\" y=\"262.1563\">@startuml</text><text fill=\"#33FF02\" font-family=\"sans-serif\" font-size=\"14\" font-weight=\"bold\" lengthAdjust=\"spacingAndGlyphs\" textLength=\"0\" x=\"10\" y=\"278.4531\"/><text fill=\"#FF0000\" font-family=\"sans-serif\" font-size=\"14\" font-weight=\"bold\" lengthAdjust=\"spacingAndGlyphs\" textLength=\"142\" x=\"10\" y=\"294.75\">Empty description</text><!--MD5=[f59edd8218d337f74d0c332fc6737304]\n",
       "@startuml\r\n",
       " \r\n",
       "@enduml\r\n",
       "\n",
       "PlantUML version 1.2020.13(Sat Jun 13 12:26:38 UTC 2020)\n",
       "(EPL source distribution)\n",
       "Java Runtime: OpenJDK Runtime Environment\n",
       "JVM: OpenJDK 64-Bit Server VM\n",
       "Default Encoding: UTF-8\n",
       "Language: en\n",
       "Country: null\n",
       "--></g></svg>"
      ]
     },
     "execution_count": 32,
     "metadata": {},
     "output_type": "execute_result"
    }
   ],
   "source": [
    "%viz --style=\"PLANTUML\" --view=\"State\" \"Q\""
   ]
  },
  {
   "cell_type": "code",
   "execution_count": 33,
   "id": "preceding-dallas",
   "metadata": {
    "execution": {
     "iopub.execute_input": "2021-03-25T13:42:10.129064Z",
     "iopub.status.busy": "2021-03-25T13:42:10.128278Z",
     "iopub.status.idle": "2021-03-25T13:42:10.175657Z",
     "shell.execute_reply": "2021-03-25T13:42:10.175121Z"
    }
   },
   "outputs": [
    {
     "data": {
      "image/svg+xml": [
       "<?xml version=\"1.0\" encoding=\"UTF-8\" standalone=\"no\"?><svg xmlns=\"http://www.w3.org/2000/svg\" xmlns:xlink=\"http://www.w3.org/1999/xlink\" contentScriptType=\"application/ecmascript\" contentStyleType=\"text/css\" height=\"176px\" preserveAspectRatio=\"none\" style=\"width:274px;height:176px;\" version=\"1.1\" viewBox=\"0 0 274 176\" width=\"274px\" zoomAndPan=\"magnify\"><defs><filter height=\"300%\" id=\"fnech1hcbsm6l\" width=\"300%\" x=\"-1\" y=\"-1\"><feGaussianBlur result=\"blurOut\" stdDeviation=\"2.0\"/><feColorMatrix in=\"blurOut\" result=\"blurOut2\" type=\"matrix\" values=\"0 0 0 0 0 0 0 0 0 0 0 0 0 0 0 0 0 0 .4 0\"/><feOffset dx=\"4.0\" dy=\"4.0\" in=\"blurOut2\" result=\"blurOut3\"/><feBlend in=\"SourceGraphic\" in2=\"blurOut3\" mode=\"normal\"/></filter></defs><g><!--MD5=[fbc87193dbaf4d95561dea2c320d4a47]\n",
       "cluster E1--><a href=\"psysml:28439c61-0f75-41f9-9e39-c7479ce99829\" target=\"_top\" title=\"psysml:28439c61-0f75-41f9-9e39-c7479ce99829\" xlink:actuate=\"onRequest\" xlink:href=\"psysml:28439c61-0f75-41f9-9e39-c7479ce99829\" xlink:show=\"new\" xlink:title=\"psysml:28439c61-0f75-41f9-9e39-c7479ce99829\" xlink:type=\"simple\"><polygon fill=\"#FFFFFF\" filter=\"url(#fnech1hcbsm6l)\" points=\"16,6,34,6,41,28.2969,252,28.2969,252,164,16,164,16,6\" style=\"stroke: #000000; stroke-width: 1.5;\"/><line style=\"stroke: #000000; stroke-width: 1.5;\" x1=\"16\" x2=\"41\" y1=\"28.2969\" y2=\"28.2969\"/><text fill=\"#000000\" font-family=\"sans-serif\" font-size=\"14\" font-weight=\"bold\" lengthAdjust=\"spacingAndGlyphs\" textLength=\"12\" x=\"20\" y=\"20.9951\">Q</text></a><!--MD5=[e4f7fae6ed58524ba242bb0b0d3be6b7]\n",
       "cluster E2--><a href=\"psysml:ef5bd6a7-9b0c-4f9f-9d58-83550a9f52f0\" target=\"_top\" title=\"psysml:ef5bd6a7-9b0c-4f9f-9d58-83550a9f52f0\" xlink:actuate=\"onRequest\" xlink:href=\"psysml:ef5bd6a7-9b0c-4f9f-9d58-83550a9f52f0\" xlink:show=\"new\" xlink:title=\"psysml:ef5bd6a7-9b0c-4f9f-9d58-83550a9f52f0\" xlink:type=\"simple\"><rect fill=\"#FFFFFF\" filter=\"url(#fnech1hcbsm6l)\" height=\"91\" id=\"E2\" rx=\"10\" ry=\"10\" style=\"stroke: #A80036; stroke-width: 1.5;\" width=\"82\" x=\"146\" y=\"49\"/><rect fill=\"#FEFECE\" height=\"23.9688\" rx=\"10\" ry=\"10\" style=\"stroke: #FEFECE; stroke-width: 1.5;\" width=\"82\" x=\"146\" y=\"49\"/><rect fill=\"#FEFECE\" height=\"10\" style=\"stroke: #FEFECE; stroke-width: 1.5;\" width=\"82\" x=\"146\" y=\"62.9688\"/><rect fill=\"none\" height=\"91\" id=\"E2\" rx=\"10\" ry=\"10\" style=\"stroke: #A80036; stroke-width: 1.5;\" width=\"82\" x=\"146\" y=\"49\"/><text fill=\"#000000\" font-family=\"sans-serif\" font-size=\"12\" lengthAdjust=\"spacingAndGlyphs\" textLength=\"4\" x=\"185\" y=\"65.1387\">f</text><line style=\"stroke: #A80036; stroke-width: 1.0;\" x1=\"146\" x2=\"228\" y1=\"72.9688\" y2=\"72.9688\"/></a><!--MD5=[f6df4d0ebaf0b5dfb2ced0ae5af7c670]\n",
       "cluster E4--><a href=\"psysml:76b80061-5d22-4116-930d-3b6f4cd610b8\" target=\"_top\" title=\"psysml:76b80061-5d22-4116-930d-3b6f4cd610b8\" xlink:actuate=\"onRequest\" xlink:href=\"psysml:76b80061-5d22-4116-930d-3b6f4cd610b8\" xlink:show=\"new\" xlink:title=\"psysml:76b80061-5d22-4116-930d-3b6f4cd610b8\" xlink:type=\"simple\"><rect fill=\"#FFFFFF\" filter=\"url(#fnech1hcbsm6l)\" height=\"91\" id=\"E4\" style=\"stroke: #A80036; stroke-width: 1.5;\" width=\"82\" x=\"40\" y=\"49\"/><rect fill=\"#FEFECE\" height=\"23.9688\" style=\"stroke: #A80036; stroke-width: 1.5;\" width=\"82\" x=\"40\" y=\"49\"/><text fill=\"#000000\" font-family=\"sans-serif\" font-size=\"12\" lengthAdjust=\"spacingAndGlyphs\" textLength=\"8\" x=\"77\" y=\"65.1387\">C</text></a><g id=\"E1.E2.E3\"><a href=\"psysml:b70a2483-525b-464a-8d4b-4d166d754785\" target=\"_top\" title=\"psysml:b70a2483-525b-464a-8d4b-4d166d754785\" xlink:actuate=\"onRequest\" xlink:href=\"psysml:b70a2483-525b-464a-8d4b-4d166d754785\" xlink:show=\"new\" xlink:title=\"psysml:b70a2483-525b-464a-8d4b-4d166d754785\" xlink:type=\"simple\"><rect fill=\"#FEFECE\" filter=\"url(#fnech1hcbsm6l)\" height=\"40\" id=\"E3\" rx=\"10\" ry=\"10\" style=\"stroke: #A80036; stroke-width: 1.5;\" width=\"50\" x=\"162\" y=\"84\"/><ellipse cx=\"181.5\" cy=\"100\" fill=\"#B6DBBB\" rx=\"11\" ry=\"11\" style=\"stroke: #A80036; stroke-width: 1.0;\"/><path d=\"M177.375,101.9219 L177.375,94.1094 L179.8281,94.1094 L179.8281,102.5469 Q179.8281,103.4688 180.2969,104 Q180.7813,104.5313 181.6094,104.5313 Q182.4531,104.5313 182.9219,104 Q183.3906,103.4688 183.3906,102.5469 L183.3906,94.1094 L185.8438,94.1094 L185.8438,101.9219 Q185.8438,104.4531 184.8438,105.5938 Q183.8438,106.7344 181.6094,106.7344 Q179.3906,106.7344 178.375,105.5938 Q177.375,104.4531 177.375,101.9219 Z \"/><text fill=\"#000000\" font-family=\"sans-serif\" font-size=\"12\" lengthAdjust=\"spacingAndGlyphs\" textLength=\"8\" x=\"196.5\" y=\"104.1543\">a</text></a></g><g id=\"E1.E4.E5\"><a href=\"psysml:92e0160d-75a4-4892-b826-902f6ecde3a0\" target=\"_top\" title=\"psysml:92e0160d-75a4-4892-b826-902f6ecde3a0\" xlink:actuate=\"onRequest\" xlink:href=\"psysml:92e0160d-75a4-4892-b826-902f6ecde3a0\" xlink:show=\"new\" xlink:title=\"psysml:92e0160d-75a4-4892-b826-902f6ecde3a0\" xlink:type=\"simple\"><rect fill=\"#FEFECE\" filter=\"url(#fnech1hcbsm6l)\" height=\"40\" id=\"E5\" rx=\"10\" ry=\"10\" style=\"stroke: #A80036; stroke-width: 1.5;\" width=\"50\" x=\"56\" y=\"84\"/><ellipse cx=\"75.5\" cy=\"100\" fill=\"#B6DBBB\" rx=\"11\" ry=\"11\" style=\"stroke: #A80036; stroke-width: 1.0;\"/><path d=\"M71.375,101.9219 L71.375,94.1094 L73.8281,94.1094 L73.8281,102.5469 Q73.8281,103.4688 74.2969,104 Q74.7813,104.5313 75.6094,104.5313 Q76.4531,104.5313 76.9219,104 Q77.3906,103.4688 77.3906,102.5469 L77.3906,94.1094 L79.8438,94.1094 L79.8438,101.9219 Q79.8438,104.4531 78.8438,105.5938 Q77.8438,106.7344 75.6094,106.7344 Q73.3906,106.7344 72.375,105.5938 Q71.375,104.4531 71.375,101.9219 Z \"/><text fill=\"#000000\" font-family=\"sans-serif\" font-size=\"12\" lengthAdjust=\"spacingAndGlyphs\" textLength=\"8\" x=\"90.5\" y=\"104.1543\">g</text></a></g><!--MD5=[35cb2e3c7c3cca89a7f7b5ad9663b449]\n",
       "@startuml\r\n",
       "skinparam ranksep 8\r\n",
       "skinparam rectangle {\r\n",
       " backgroundColor<<block>> LightGreen\r\n",
       "}\r\n",
       " \r\n",
       "package \"Q\" as E1  [[psysml:28439c61-0f75-41f9-9e39-c7479ce99829 ]]  {\r\n",
       "rec usage \"f\" as E2  [[psysml:ef5bd6a7-9b0c-4f9f-9d58-83550a9f52f0 ]] {\r\n",
       "rec usage \"a\" as E3  [[psysml:b70a2483-525b-464a-8d4b-4d166d754785 ]] {\r\n",
       "}\r\n",
       "}\r\n",
       "rec def \"C\" as E4  << (B,green) >> [[psysml:76b80061-5d22-4116-930d-3b6f4cd610b8 ]] {\r\n",
       "rec usage \"g\" as E5  [[psysml:92e0160d-75a4-4892-b826-902f6ecde3a0 ]] {\r\n",
       "}\r\n",
       "}\r\n",
       "}\r\n",
       "@enduml\r\n",
       "\n",
       "PlantUML version 1.2020.13(Sat Jun 13 12:26:38 UTC 2020)\n",
       "(EPL source distribution)\n",
       "Java Runtime: OpenJDK Runtime Environment\n",
       "JVM: OpenJDK 64-Bit Server VM\n",
       "Default Encoding: UTF-8\n",
       "Language: en\n",
       "Country: null\n",
       "--></g></svg>"
      ]
     },
     "execution_count": 33,
     "metadata": {},
     "output_type": "execute_result"
    }
   ],
   "source": [
    "%viz --style=\"PLANTUML\" --view=\"Interconnection\" \"Q\""
   ]
  },
  {
   "cell_type": "code",
   "execution_count": 34,
   "id": "polish-input",
   "metadata": {
    "execution": {
     "iopub.execute_input": "2021-03-25T13:42:10.228760Z",
     "iopub.status.busy": "2021-03-25T13:42:10.227770Z",
     "iopub.status.idle": "2021-03-25T13:42:10.233785Z",
     "shell.execute_reply": "2021-03-25T13:42:10.233419Z"
    }
   },
   "outputs": [
    {
     "data": {
      "image/svg+xml": [
       "<?xml version=\"1.0\" encoding=\"UTF-8\" standalone=\"no\"?><svg xmlns=\"http://www.w3.org/2000/svg\" xmlns:xlink=\"http://www.w3.org/1999/xlink\" contentScriptType=\"application/ecmascript\" contentStyleType=\"text/css\" height=\"12px\" preserveAspectRatio=\"none\" style=\"width:12px;height:12px;\" version=\"1.1\" viewBox=\"0 0 12 12\" width=\"12px\" zoomAndPan=\"magnify\"><defs/><g><!--MD5=[6a4cb978cab31700e1ce5529f947a75d]\n",
       "@startuml\r\n",
       "skinparam ranksep 8\r\n",
       " \r\n",
       "@enduml\r\n",
       "\n",
       "PlantUML version 1.2020.13(Sat Jun 13 12:26:38 UTC 2020)\n",
       "(EPL source distribution)\n",
       "Java Runtime: OpenJDK Runtime Environment\n",
       "JVM: OpenJDK 64-Bit Server VM\n",
       "Default Encoding: UTF-8\n",
       "Language: en\n",
       "Country: null\n",
       "--></g></svg>"
      ]
     },
     "execution_count": 34,
     "metadata": {},
     "output_type": "execute_result"
    }
   ],
   "source": [
    "%viz --style=\"PLANTUML\" --view=\"Action\" \"Q\""
   ]
  },
  {
   "cell_type": "code",
   "execution_count": 35,
   "id": "listed-fiber",
   "metadata": {
    "execution": {
     "iopub.execute_input": "2021-03-25T13:42:10.285841Z",
     "iopub.status.busy": "2021-03-25T13:42:10.285173Z",
     "iopub.status.idle": "2021-03-25T13:42:10.331997Z",
     "shell.execute_reply": "2021-03-25T13:42:10.330233Z"
    }
   },
   "outputs": [
    {
     "data": {
      "image/svg+xml": [
       "<?xml version=\"1.0\" encoding=\"UTF-8\" standalone=\"no\"?><svg xmlns=\"http://www.w3.org/2000/svg\" xmlns:xlink=\"http://www.w3.org/1999/xlink\" contentScriptType=\"application/ecmascript\" contentStyleType=\"text/css\" height=\"221px\" preserveAspectRatio=\"none\" style=\"width:241px;height:221px;\" version=\"1.1\" viewBox=\"0 0 241 221\" width=\"241px\" zoomAndPan=\"magnify\"><defs><filter height=\"300%\" id=\"f11l9sax8joeft\" width=\"300%\" x=\"-1\" y=\"-1\"><feGaussianBlur result=\"blurOut\" stdDeviation=\"2.0\"/><feColorMatrix in=\"blurOut\" result=\"blurOut2\" type=\"matrix\" values=\"0 0 0 0 0 0 0 0 0 0 0 0 0 0 0 0 0 0 .4 0\"/><feOffset dx=\"4.0\" dy=\"4.0\" in=\"blurOut2\" result=\"blurOut3\"/><feBlend in=\"SourceGraphic\" in2=\"blurOut3\" mode=\"normal\"/></filter></defs><g><!--MD5=[fbc87193dbaf4d95561dea2c320d4a47]\n",
       "cluster E1--><a href=\"psysml:28439c61-0f75-41f9-9e39-c7479ce99829\" target=\"_top\" title=\"psysml:28439c61-0f75-41f9-9e39-c7479ce99829\" xlink:actuate=\"onRequest\" xlink:href=\"psysml:28439c61-0f75-41f9-9e39-c7479ce99829\" xlink:show=\"new\" xlink:title=\"psysml:28439c61-0f75-41f9-9e39-c7479ce99829\" xlink:type=\"simple\"><polygon fill=\"#FFFFFF\" filter=\"url(#f11l9sax8joeft)\" points=\"16,6,34,6,41,28.2969,219,28.2969,219,209,16,209,16,6\" style=\"stroke: #000000; stroke-width: 1.5;\"/><line style=\"stroke: #000000; stroke-width: 1.5;\" x1=\"16\" x2=\"41\" y1=\"28.2969\" y2=\"28.2969\"/><text fill=\"#000000\" font-family=\"sans-serif\" font-size=\"14\" font-weight=\"bold\" lengthAdjust=\"spacingAndGlyphs\" textLength=\"12\" x=\"20\" y=\"20.9951\">Q</text></a><!--MD5=[b4997ac47864f28c2f74865a473b2911]\n",
       "class E2--><a href=\"psysml:ef5bd6a7-9b0c-4f9f-9d58-83550a9f52f0\" target=\"_top\" title=\"psysml:ef5bd6a7-9b0c-4f9f-9d58-83550a9f52f0\" xlink:actuate=\"onRequest\" xlink:href=\"psysml:ef5bd6a7-9b0c-4f9f-9d58-83550a9f52f0\" xlink:show=\"new\" xlink:title=\"psysml:ef5bd6a7-9b0c-4f9f-9d58-83550a9f52f0\" xlink:type=\"simple\"><rect fill=\"#FEFECE\" filter=\"url(#f11l9sax8joeft)\" height=\"45.9375\" id=\"E2\" rx=\"10\" ry=\"10\" style=\"stroke: #A80036; stroke-width: 1.5;\" width=\"68\" x=\"135\" y=\"41\"/><ellipse cx=\"150\" cy=\"59.9688\" fill=\"#32CD32\" rx=\"11\" ry=\"11\" style=\"stroke: #A80036; stroke-width: 1.0;\"/><path d=\"M149.7969,55.6406 L149.7969,59.2656 L150.7969,59.2656 Q152,59.2656 152.4844,58.8594 Q152.9688,58.4531 152.9688,57.4531 Q152.9688,56.4531 152.4844,56.0469 Q152,55.6406 150.7969,55.6406 L149.7969,55.6406 Z M147.3438,53.5781 L150.7031,53.5781 Q153.2656,53.5781 154.3906,54.5 Q155.5156,55.4063 155.5156,57.4531 Q155.5156,59.5 154.3906,60.4219 Q153.2656,61.3281 150.7031,61.3281 L149.7969,61.3281 L149.7969,65.9688 L147.3438,65.9688 L147.3438,53.5781 Z \"/><text fill=\"#000000\" font-family=\"sans-serif\" font-size=\"12\" font-style=\"italic\" lengthAdjust=\"spacingAndGlyphs\" textLength=\"40\" x=\"162\" y=\"57.1387\">«part»</text><text fill=\"#000000\" font-family=\"sans-serif\" font-size=\"12\" lengthAdjust=\"spacingAndGlyphs\" textLength=\"4\" x=\"180\" y=\"71.1074\">f</text><line style=\"stroke: #A80036; stroke-width: 1.5;\" x1=\"136\" x2=\"202\" y1=\"78.9375\" y2=\"78.9375\"/></a><!--MD5=[09b614a08d8cba4a07c9adeb5e0fee81]\n",
       "class E3--><a href=\"psysml:b70a2483-525b-464a-8d4b-4d166d754785\" target=\"_top\" title=\"psysml:b70a2483-525b-464a-8d4b-4d166d754785\" xlink:actuate=\"onRequest\" xlink:href=\"psysml:b70a2483-525b-464a-8d4b-4d166d754785\" xlink:show=\"new\" xlink:title=\"psysml:b70a2483-525b-464a-8d4b-4d166d754785\" xlink:type=\"simple\"><rect fill=\"#FEFECE\" filter=\"url(#f11l9sax8joeft)\" height=\"45.9375\" id=\"E3\" rx=\"10\" ry=\"10\" style=\"stroke: #A80036; stroke-width: 1.5;\" width=\"68\" x=\"135\" y=\"147\"/><ellipse cx=\"150\" cy=\"165.9688\" fill=\"#32CD32\" rx=\"11\" ry=\"11\" style=\"stroke: #A80036; stroke-width: 1.0;\"/><path d=\"M149.7969,161.6406 L149.7969,165.2656 L150.7969,165.2656 Q152,165.2656 152.4844,164.8594 Q152.9688,164.4531 152.9688,163.4531 Q152.9688,162.4531 152.4844,162.0469 Q152,161.6406 150.7969,161.6406 L149.7969,161.6406 Z M147.3438,159.5781 L150.7031,159.5781 Q153.2656,159.5781 154.3906,160.5 Q155.5156,161.4063 155.5156,163.4531 Q155.5156,165.5 154.3906,166.4219 Q153.2656,167.3281 150.7031,167.3281 L149.7969,167.3281 L149.7969,171.9688 L147.3438,171.9688 L147.3438,159.5781 Z \"/><text fill=\"#000000\" font-family=\"sans-serif\" font-size=\"12\" font-style=\"italic\" lengthAdjust=\"spacingAndGlyphs\" textLength=\"40\" x=\"162\" y=\"163.1387\">«part»</text><text fill=\"#000000\" font-family=\"sans-serif\" font-size=\"12\" lengthAdjust=\"spacingAndGlyphs\" textLength=\"8\" x=\"178\" y=\"177.1074\">a</text><line style=\"stroke: #A80036; stroke-width: 1.5;\" x1=\"136\" x2=\"202\" y1=\"184.9375\" y2=\"184.9375\"/></a><!--MD5=[ebbe1d658d1005bcc118a6aa81145e00]\n",
       "class E4--><a href=\"psysml:76b80061-5d22-4116-930d-3b6f4cd610b8\" target=\"_top\" title=\"psysml:76b80061-5d22-4116-930d-3b6f4cd610b8\" xlink:actuate=\"onRequest\" xlink:href=\"psysml:76b80061-5d22-4116-930d-3b6f4cd610b8\" xlink:show=\"new\" xlink:title=\"psysml:76b80061-5d22-4116-930d-3b6f4cd610b8\" xlink:type=\"simple\"><rect fill=\"#FEFECE\" filter=\"url(#f11l9sax8joeft)\" height=\"40\" id=\"E4\" style=\"stroke: #A80036; stroke-width: 1.5;\" width=\"40\" x=\"46\" y=\"44\"/><ellipse cx=\"61\" cy=\"60\" fill=\"#008000\" rx=\"11\" ry=\"11\" style=\"stroke: #A80036; stroke-width: 1.0;\"/><path d=\"M59.9063,60.375 L59.9063,64.0469 L61.5313,64.0469 Q62.7031,64.0469 63.1719,63.6563 Q63.6406,63.25 63.6406,62.25 Q63.6406,61.25 63.1406,60.8125 Q62.6563,60.375 61.5313,60.375 L59.9063,60.375 Z M59.9063,55.5469 L59.9063,58.4219 L61.5313,58.4219 Q62.4531,58.4219 62.8438,58.0938 Q63.25,57.75 63.25,57 Q63.25,56.2344 62.8438,55.8906 Q62.4375,55.5469 61.5313,55.5469 L59.9063,55.5469 Z M57.5313,53.5938 L61.5313,53.5938 Q63.5938,53.5938 64.6406,54.375 Q65.6875,55.1563 65.6875,56.7188 Q65.6875,57.9219 65.0625,58.5938 Q64.4531,59.2656 63.2656,59.375 Q64.6875,59.5156 65.4063,60.3281 Q66.125,61.1406 66.125,62.5938 Q66.125,64.3906 65.0469,65.2031 Q63.9688,66 61.5313,66 L57.5313,66 L57.5313,53.5938 Z \"/><text fill=\"#000000\" font-family=\"sans-serif\" font-size=\"12\" lengthAdjust=\"spacingAndGlyphs\" textLength=\"8\" x=\"75\" y=\"64.1543\">C</text><line style=\"stroke: #A80036; stroke-width: 1.5;\" x1=\"47\" x2=\"85\" y1=\"76\" y2=\"76\"/></a><!--MD5=[270fce915f116d4de14055a7c1d9a0f3]\n",
       "class E5--><a href=\"psysml:92e0160d-75a4-4892-b826-902f6ecde3a0\" target=\"_top\" title=\"psysml:92e0160d-75a4-4892-b826-902f6ecde3a0\" xlink:actuate=\"onRequest\" xlink:href=\"psysml:92e0160d-75a4-4892-b826-902f6ecde3a0\" xlink:show=\"new\" xlink:title=\"psysml:92e0160d-75a4-4892-b826-902f6ecde3a0\" xlink:type=\"simple\"><rect fill=\"#FEFECE\" filter=\"url(#f11l9sax8joeft)\" height=\"45.9375\" id=\"E5\" rx=\"10\" ry=\"10\" style=\"stroke: #A80036; stroke-width: 1.5;\" width=\"68\" x=\"32\" y=\"147\"/><ellipse cx=\"47\" cy=\"165.9688\" fill=\"#32CD32\" rx=\"11\" ry=\"11\" style=\"stroke: #A80036; stroke-width: 1.0;\"/><path d=\"M46.7969,161.6406 L46.7969,165.2656 L47.7969,165.2656 Q49,165.2656 49.4844,164.8594 Q49.9688,164.4531 49.9688,163.4531 Q49.9688,162.4531 49.4844,162.0469 Q49,161.6406 47.7969,161.6406 L46.7969,161.6406 Z M44.3438,159.5781 L47.7031,159.5781 Q50.2656,159.5781 51.3906,160.5 Q52.5156,161.4063 52.5156,163.4531 Q52.5156,165.5 51.3906,166.4219 Q50.2656,167.3281 47.7031,167.3281 L46.7969,167.3281 L46.7969,171.9688 L44.3438,171.9688 L44.3438,159.5781 Z \"/><text fill=\"#000000\" font-family=\"sans-serif\" font-size=\"12\" font-style=\"italic\" lengthAdjust=\"spacingAndGlyphs\" textLength=\"40\" x=\"59\" y=\"163.1387\">«part»</text><text fill=\"#000000\" font-family=\"sans-serif\" font-size=\"12\" lengthAdjust=\"spacingAndGlyphs\" textLength=\"8\" x=\"75\" y=\"177.1074\">g</text><line style=\"stroke: #A80036; stroke-width: 1.5;\" x1=\"33\" x2=\"99\" y1=\"184.9375\" y2=\"184.9375\"/></a><!--MD5=[209b3feb70ccb6233bfe1053d122c12c]\n",
       "reverse link E2 to E3--><a href=\"psysml:b70a2483-525b-464a-8d4b-4d166d754785\" target=\"_top\" title=\"psysml:b70a2483-525b-464a-8d4b-4d166d754785\" xlink:actuate=\"onRequest\" xlink:href=\"psysml:b70a2483-525b-464a-8d4b-4d166d754785\" xlink:show=\"new\" xlink:title=\"psysml:b70a2483-525b-464a-8d4b-4d166d754785\" xlink:type=\"simple\"><path d=\"M169,100.44 C169,115.87 169,133.47 169,146.98 \" fill=\"none\" id=\"E2&lt;-E3\" style=\"stroke: #A80036; stroke-width: 1.0;\"/><polygon fill=\"#A80036\" points=\"169,87.06,165,93.06,169,99.06,173,93.06,169,87.06\" style=\"stroke: #A80036; stroke-width: 1.0;\"/></a><!--MD5=[62aa6af11e70f752912c1cb0466f24f7]\n",
       "reverse link E4 to E5--><a href=\"psysml:92e0160d-75a4-4892-b826-902f6ecde3a0\" target=\"_top\" title=\"psysml:92e0160d-75a4-4892-b826-902f6ecde3a0\" xlink:actuate=\"onRequest\" xlink:href=\"psysml:92e0160d-75a4-4892-b826-902f6ecde3a0\" xlink:show=\"new\" xlink:title=\"psysml:92e0160d-75a4-4892-b826-902f6ecde3a0\" xlink:type=\"simple\"><path d=\"M66,97.25 C66,113.33 66,132.37 66,146.8 \" fill=\"none\" id=\"E4&lt;-E5\" style=\"stroke: #A80036; stroke-width: 1.0;\"/><polygon fill=\"#A80036\" points=\"66,84.08,62,90.08,66,96.08,70,90.08,66,84.08\" style=\"stroke: #A80036; stroke-width: 1.0;\"/></a><!--MD5=[a1bd1da3bb1663a3a00cf05bc99343db]\n",
       "@startuml\r\n",
       " \r\n",
       "package \"Q\" as E1  [[psysml:28439c61-0f75-41f9-9e39-c7479ce99829 ]]  {\r\n",
       "comp usage \"f\" as E2  << (P,limegreen) part>> [[psysml:ef5bd6a7-9b0c-4f9f-9d58-83550a9f52f0 ]] {\r\n",
       "}\r\n",
       "comp usage \"a\" as E3  << (P,limegreen) part>> [[psysml:b70a2483-525b-464a-8d4b-4d166d754785 ]] {\r\n",
       "}\r\n",
       "comp def \"C\" as E4  << (B,green) >> [[psysml:76b80061-5d22-4116-930d-3b6f4cd610b8 ]] {\r\n",
       "}\r\n",
       "comp usage \"g\" as E5  << (P,limegreen) part>> [[psysml:92e0160d-75a4-4892-b826-902f6ecde3a0 ]] {\r\n",
       "}\r\n",
       "E2 *- - E3 [[psysml:b70a2483-525b-464a-8d4b-4d166d754785 ]] \r\n",
       "E4 *- - E5 [[psysml:92e0160d-75a4-4892-b826-902f6ecde3a0 ]] \r\n",
       "}\r\n",
       "@enduml\r\n",
       "\n",
       "PlantUML version 1.2020.13(Sat Jun 13 12:26:38 UTC 2020)\n",
       "(EPL source distribution)\n",
       "Java Runtime: OpenJDK Runtime Environment\n",
       "JVM: OpenJDK 64-Bit Server VM\n",
       "Default Encoding: UTF-8\n",
       "Language: en\n",
       "Country: null\n",
       "--></g></svg>"
      ]
     },
     "execution_count": 35,
     "metadata": {},
     "output_type": "execute_result"
    }
   ],
   "source": [
    "%viz --style=\"PLANTUML\" --view=\"Sequence\" \"Q\""
   ]
  },
  {
   "cell_type": "code",
   "execution_count": 36,
   "id": "limiting-amino",
   "metadata": {
    "execution": {
     "iopub.execute_input": "2021-03-25T13:42:10.382767Z",
     "iopub.status.busy": "2021-03-25T13:42:10.382303Z",
     "iopub.status.idle": "2021-03-25T13:42:10.430548Z",
     "shell.execute_reply": "2021-03-25T13:42:10.430136Z"
    }
   },
   "outputs": [
    {
     "data": {
      "image/svg+xml": [
       "<?xml version=\"1.0\" encoding=\"UTF-8\" standalone=\"no\"?><svg xmlns=\"http://www.w3.org/2000/svg\" xmlns:xlink=\"http://www.w3.org/1999/xlink\" contentScriptType=\"application/ecmascript\" contentStyleType=\"text/css\" height=\"221px\" preserveAspectRatio=\"none\" style=\"width:241px;height:221px;\" version=\"1.1\" viewBox=\"0 0 241 221\" width=\"241px\" zoomAndPan=\"magnify\"><defs><filter height=\"300%\" id=\"f11l9sax8joeft\" width=\"300%\" x=\"-1\" y=\"-1\"><feGaussianBlur result=\"blurOut\" stdDeviation=\"2.0\"/><feColorMatrix in=\"blurOut\" result=\"blurOut2\" type=\"matrix\" values=\"0 0 0 0 0 0 0 0 0 0 0 0 0 0 0 0 0 0 .4 0\"/><feOffset dx=\"4.0\" dy=\"4.0\" in=\"blurOut2\" result=\"blurOut3\"/><feBlend in=\"SourceGraphic\" in2=\"blurOut3\" mode=\"normal\"/></filter></defs><g><!--MD5=[fbc87193dbaf4d95561dea2c320d4a47]\n",
       "cluster E1--><a href=\"psysml:28439c61-0f75-41f9-9e39-c7479ce99829\" target=\"_top\" title=\"psysml:28439c61-0f75-41f9-9e39-c7479ce99829\" xlink:actuate=\"onRequest\" xlink:href=\"psysml:28439c61-0f75-41f9-9e39-c7479ce99829\" xlink:show=\"new\" xlink:title=\"psysml:28439c61-0f75-41f9-9e39-c7479ce99829\" xlink:type=\"simple\"><polygon fill=\"#FFFFFF\" filter=\"url(#f11l9sax8joeft)\" points=\"16,6,34,6,41,28.2969,219,28.2969,219,209,16,209,16,6\" style=\"stroke: #000000; stroke-width: 1.5;\"/><line style=\"stroke: #000000; stroke-width: 1.5;\" x1=\"16\" x2=\"41\" y1=\"28.2969\" y2=\"28.2969\"/><text fill=\"#000000\" font-family=\"sans-serif\" font-size=\"14\" font-weight=\"bold\" lengthAdjust=\"spacingAndGlyphs\" textLength=\"12\" x=\"20\" y=\"20.9951\">Q</text></a><!--MD5=[b4997ac47864f28c2f74865a473b2911]\n",
       "class E2--><a href=\"psysml:ef5bd6a7-9b0c-4f9f-9d58-83550a9f52f0\" target=\"_top\" title=\"psysml:ef5bd6a7-9b0c-4f9f-9d58-83550a9f52f0\" xlink:actuate=\"onRequest\" xlink:href=\"psysml:ef5bd6a7-9b0c-4f9f-9d58-83550a9f52f0\" xlink:show=\"new\" xlink:title=\"psysml:ef5bd6a7-9b0c-4f9f-9d58-83550a9f52f0\" xlink:type=\"simple\"><rect fill=\"#FEFECE\" filter=\"url(#f11l9sax8joeft)\" height=\"45.9375\" id=\"E2\" rx=\"10\" ry=\"10\" style=\"stroke: #A80036; stroke-width: 1.5;\" width=\"68\" x=\"135\" y=\"41\"/><ellipse cx=\"150\" cy=\"59.9688\" fill=\"#32CD32\" rx=\"11\" ry=\"11\" style=\"stroke: #A80036; stroke-width: 1.0;\"/><path d=\"M149.7969,55.6406 L149.7969,59.2656 L150.7969,59.2656 Q152,59.2656 152.4844,58.8594 Q152.9688,58.4531 152.9688,57.4531 Q152.9688,56.4531 152.4844,56.0469 Q152,55.6406 150.7969,55.6406 L149.7969,55.6406 Z M147.3438,53.5781 L150.7031,53.5781 Q153.2656,53.5781 154.3906,54.5 Q155.5156,55.4063 155.5156,57.4531 Q155.5156,59.5 154.3906,60.4219 Q153.2656,61.3281 150.7031,61.3281 L149.7969,61.3281 L149.7969,65.9688 L147.3438,65.9688 L147.3438,53.5781 Z \"/><text fill=\"#000000\" font-family=\"sans-serif\" font-size=\"12\" font-style=\"italic\" lengthAdjust=\"spacingAndGlyphs\" textLength=\"40\" x=\"162\" y=\"57.1387\">«part»</text><text fill=\"#000000\" font-family=\"sans-serif\" font-size=\"12\" lengthAdjust=\"spacingAndGlyphs\" textLength=\"4\" x=\"180\" y=\"71.1074\">f</text><line style=\"stroke: #A80036; stroke-width: 1.5;\" x1=\"136\" x2=\"202\" y1=\"78.9375\" y2=\"78.9375\"/></a><!--MD5=[09b614a08d8cba4a07c9adeb5e0fee81]\n",
       "class E3--><a href=\"psysml:b70a2483-525b-464a-8d4b-4d166d754785\" target=\"_top\" title=\"psysml:b70a2483-525b-464a-8d4b-4d166d754785\" xlink:actuate=\"onRequest\" xlink:href=\"psysml:b70a2483-525b-464a-8d4b-4d166d754785\" xlink:show=\"new\" xlink:title=\"psysml:b70a2483-525b-464a-8d4b-4d166d754785\" xlink:type=\"simple\"><rect fill=\"#FEFECE\" filter=\"url(#f11l9sax8joeft)\" height=\"45.9375\" id=\"E3\" rx=\"10\" ry=\"10\" style=\"stroke: #A80036; stroke-width: 1.5;\" width=\"68\" x=\"135\" y=\"147\"/><ellipse cx=\"150\" cy=\"165.9688\" fill=\"#32CD32\" rx=\"11\" ry=\"11\" style=\"stroke: #A80036; stroke-width: 1.0;\"/><path d=\"M149.7969,161.6406 L149.7969,165.2656 L150.7969,165.2656 Q152,165.2656 152.4844,164.8594 Q152.9688,164.4531 152.9688,163.4531 Q152.9688,162.4531 152.4844,162.0469 Q152,161.6406 150.7969,161.6406 L149.7969,161.6406 Z M147.3438,159.5781 L150.7031,159.5781 Q153.2656,159.5781 154.3906,160.5 Q155.5156,161.4063 155.5156,163.4531 Q155.5156,165.5 154.3906,166.4219 Q153.2656,167.3281 150.7031,167.3281 L149.7969,167.3281 L149.7969,171.9688 L147.3438,171.9688 L147.3438,159.5781 Z \"/><text fill=\"#000000\" font-family=\"sans-serif\" font-size=\"12\" font-style=\"italic\" lengthAdjust=\"spacingAndGlyphs\" textLength=\"40\" x=\"162\" y=\"163.1387\">«part»</text><text fill=\"#000000\" font-family=\"sans-serif\" font-size=\"12\" lengthAdjust=\"spacingAndGlyphs\" textLength=\"8\" x=\"178\" y=\"177.1074\">a</text><line style=\"stroke: #A80036; stroke-width: 1.5;\" x1=\"136\" x2=\"202\" y1=\"184.9375\" y2=\"184.9375\"/></a><!--MD5=[ebbe1d658d1005bcc118a6aa81145e00]\n",
       "class E4--><a href=\"psysml:76b80061-5d22-4116-930d-3b6f4cd610b8\" target=\"_top\" title=\"psysml:76b80061-5d22-4116-930d-3b6f4cd610b8\" xlink:actuate=\"onRequest\" xlink:href=\"psysml:76b80061-5d22-4116-930d-3b6f4cd610b8\" xlink:show=\"new\" xlink:title=\"psysml:76b80061-5d22-4116-930d-3b6f4cd610b8\" xlink:type=\"simple\"><rect fill=\"#FEFECE\" filter=\"url(#f11l9sax8joeft)\" height=\"40\" id=\"E4\" style=\"stroke: #A80036; stroke-width: 1.5;\" width=\"40\" x=\"46\" y=\"44\"/><ellipse cx=\"61\" cy=\"60\" fill=\"#008000\" rx=\"11\" ry=\"11\" style=\"stroke: #A80036; stroke-width: 1.0;\"/><path d=\"M59.9063,60.375 L59.9063,64.0469 L61.5313,64.0469 Q62.7031,64.0469 63.1719,63.6563 Q63.6406,63.25 63.6406,62.25 Q63.6406,61.25 63.1406,60.8125 Q62.6563,60.375 61.5313,60.375 L59.9063,60.375 Z M59.9063,55.5469 L59.9063,58.4219 L61.5313,58.4219 Q62.4531,58.4219 62.8438,58.0938 Q63.25,57.75 63.25,57 Q63.25,56.2344 62.8438,55.8906 Q62.4375,55.5469 61.5313,55.5469 L59.9063,55.5469 Z M57.5313,53.5938 L61.5313,53.5938 Q63.5938,53.5938 64.6406,54.375 Q65.6875,55.1563 65.6875,56.7188 Q65.6875,57.9219 65.0625,58.5938 Q64.4531,59.2656 63.2656,59.375 Q64.6875,59.5156 65.4063,60.3281 Q66.125,61.1406 66.125,62.5938 Q66.125,64.3906 65.0469,65.2031 Q63.9688,66 61.5313,66 L57.5313,66 L57.5313,53.5938 Z \"/><text fill=\"#000000\" font-family=\"sans-serif\" font-size=\"12\" lengthAdjust=\"spacingAndGlyphs\" textLength=\"8\" x=\"75\" y=\"64.1543\">C</text><line style=\"stroke: #A80036; stroke-width: 1.5;\" x1=\"47\" x2=\"85\" y1=\"76\" y2=\"76\"/></a><!--MD5=[270fce915f116d4de14055a7c1d9a0f3]\n",
       "class E5--><a href=\"psysml:92e0160d-75a4-4892-b826-902f6ecde3a0\" target=\"_top\" title=\"psysml:92e0160d-75a4-4892-b826-902f6ecde3a0\" xlink:actuate=\"onRequest\" xlink:href=\"psysml:92e0160d-75a4-4892-b826-902f6ecde3a0\" xlink:show=\"new\" xlink:title=\"psysml:92e0160d-75a4-4892-b826-902f6ecde3a0\" xlink:type=\"simple\"><rect fill=\"#FEFECE\" filter=\"url(#f11l9sax8joeft)\" height=\"45.9375\" id=\"E5\" rx=\"10\" ry=\"10\" style=\"stroke: #A80036; stroke-width: 1.5;\" width=\"68\" x=\"32\" y=\"147\"/><ellipse cx=\"47\" cy=\"165.9688\" fill=\"#32CD32\" rx=\"11\" ry=\"11\" style=\"stroke: #A80036; stroke-width: 1.0;\"/><path d=\"M46.7969,161.6406 L46.7969,165.2656 L47.7969,165.2656 Q49,165.2656 49.4844,164.8594 Q49.9688,164.4531 49.9688,163.4531 Q49.9688,162.4531 49.4844,162.0469 Q49,161.6406 47.7969,161.6406 L46.7969,161.6406 Z M44.3438,159.5781 L47.7031,159.5781 Q50.2656,159.5781 51.3906,160.5 Q52.5156,161.4063 52.5156,163.4531 Q52.5156,165.5 51.3906,166.4219 Q50.2656,167.3281 47.7031,167.3281 L46.7969,167.3281 L46.7969,171.9688 L44.3438,171.9688 L44.3438,159.5781 Z \"/><text fill=\"#000000\" font-family=\"sans-serif\" font-size=\"12\" font-style=\"italic\" lengthAdjust=\"spacingAndGlyphs\" textLength=\"40\" x=\"59\" y=\"163.1387\">«part»</text><text fill=\"#000000\" font-family=\"sans-serif\" font-size=\"12\" lengthAdjust=\"spacingAndGlyphs\" textLength=\"8\" x=\"75\" y=\"177.1074\">g</text><line style=\"stroke: #A80036; stroke-width: 1.5;\" x1=\"33\" x2=\"99\" y1=\"184.9375\" y2=\"184.9375\"/></a><!--MD5=[209b3feb70ccb6233bfe1053d122c12c]\n",
       "reverse link E2 to E3--><a href=\"psysml:b70a2483-525b-464a-8d4b-4d166d754785\" target=\"_top\" title=\"psysml:b70a2483-525b-464a-8d4b-4d166d754785\" xlink:actuate=\"onRequest\" xlink:href=\"psysml:b70a2483-525b-464a-8d4b-4d166d754785\" xlink:show=\"new\" xlink:title=\"psysml:b70a2483-525b-464a-8d4b-4d166d754785\" xlink:type=\"simple\"><path d=\"M169,100.44 C169,115.87 169,133.47 169,146.98 \" fill=\"none\" id=\"E2&lt;-E3\" style=\"stroke: #A80036; stroke-width: 1.0;\"/><polygon fill=\"#A80036\" points=\"169,87.06,165,93.06,169,99.06,173,93.06,169,87.06\" style=\"stroke: #A80036; stroke-width: 1.0;\"/></a><!--MD5=[62aa6af11e70f752912c1cb0466f24f7]\n",
       "reverse link E4 to E5--><a href=\"psysml:92e0160d-75a4-4892-b826-902f6ecde3a0\" target=\"_top\" title=\"psysml:92e0160d-75a4-4892-b826-902f6ecde3a0\" xlink:actuate=\"onRequest\" xlink:href=\"psysml:92e0160d-75a4-4892-b826-902f6ecde3a0\" xlink:show=\"new\" xlink:title=\"psysml:92e0160d-75a4-4892-b826-902f6ecde3a0\" xlink:type=\"simple\"><path d=\"M66,97.25 C66,113.33 66,132.37 66,146.8 \" fill=\"none\" id=\"E4&lt;-E5\" style=\"stroke: #A80036; stroke-width: 1.0;\"/><polygon fill=\"#A80036\" points=\"66,84.08,62,90.08,66,96.08,70,90.08,66,84.08\" style=\"stroke: #A80036; stroke-width: 1.0;\"/></a><!--MD5=[a1bd1da3bb1663a3a00cf05bc99343db]\n",
       "@startuml\r\n",
       " \r\n",
       "package \"Q\" as E1  [[psysml:28439c61-0f75-41f9-9e39-c7479ce99829 ]]  {\r\n",
       "comp usage \"f\" as E2  << (P,limegreen) part>> [[psysml:ef5bd6a7-9b0c-4f9f-9d58-83550a9f52f0 ]] {\r\n",
       "}\r\n",
       "comp usage \"a\" as E3  << (P,limegreen) part>> [[psysml:b70a2483-525b-464a-8d4b-4d166d754785 ]] {\r\n",
       "}\r\n",
       "comp def \"C\" as E4  << (B,green) >> [[psysml:76b80061-5d22-4116-930d-3b6f4cd610b8 ]] {\r\n",
       "}\r\n",
       "comp usage \"g\" as E5  << (P,limegreen) part>> [[psysml:92e0160d-75a4-4892-b826-902f6ecde3a0 ]] {\r\n",
       "}\r\n",
       "E2 *- - E3 [[psysml:b70a2483-525b-464a-8d4b-4d166d754785 ]] \r\n",
       "E4 *- - E5 [[psysml:92e0160d-75a4-4892-b826-902f6ecde3a0 ]] \r\n",
       "}\r\n",
       "@enduml\r\n",
       "\n",
       "PlantUML version 1.2020.13(Sat Jun 13 12:26:38 UTC 2020)\n",
       "(EPL source distribution)\n",
       "Java Runtime: OpenJDK Runtime Environment\n",
       "JVM: OpenJDK 64-Bit Server VM\n",
       "Default Encoding: UTF-8\n",
       "Language: en\n",
       "Country: null\n",
       "--></g></svg>"
      ]
     },
     "execution_count": 36,
     "metadata": {},
     "output_type": "execute_result"
    }
   ],
   "source": [
    "%viz --style=\"PLANTUML\" --view=\"MIXED\" \"Q\""
   ]
  },
  {
   "cell_type": "code",
   "execution_count": 37,
   "id": "irish-techno",
   "metadata": {
    "execution": {
     "iopub.execute_input": "2021-03-25T13:42:10.481291Z",
     "iopub.status.busy": "2021-03-25T13:42:10.480711Z",
     "iopub.status.idle": "2021-03-25T13:42:10.533411Z",
     "shell.execute_reply": "2021-03-25T13:42:10.532943Z"
    }
   },
   "outputs": [
    {
     "data": {
      "image/svg+xml": [
       "<?xml version=\"1.0\" encoding=\"UTF-8\" standalone=\"no\"?><svg xmlns=\"http://www.w3.org/2000/svg\" xmlns:xlink=\"http://www.w3.org/1999/xlink\" contentScriptType=\"application/ecmascript\" contentStyleType=\"text/css\" height=\"221px\" preserveAspectRatio=\"none\" style=\"width:213px;height:221px;\" version=\"1.1\" viewBox=\"0 0 213 221\" width=\"213px\" zoomAndPan=\"magnify\"><defs/><g><!--MD5=[fbc87193dbaf4d95561dea2c320d4a47]\n",
       "cluster E1--><a href=\"psysml:28439c61-0f75-41f9-9e39-c7479ce99829\" target=\"_top\" title=\"psysml:28439c61-0f75-41f9-9e39-c7479ce99829\" xlink:actuate=\"onRequest\" xlink:href=\"psysml:28439c61-0f75-41f9-9e39-c7479ce99829\" xlink:show=\"new\" xlink:title=\"psysml:28439c61-0f75-41f9-9e39-c7479ce99829\" xlink:type=\"simple\"><polygon fill=\"#FFFFFF\" points=\"16,6,34,6,41,28.2969,191,28.2969,191,209,16,209,16,6\" style=\"stroke: #000000; stroke-width: 1.5;\"/><line style=\"stroke: #000000; stroke-width: 1.5;\" x1=\"16\" x2=\"41\" y1=\"28.2969\" y2=\"28.2969\"/><text fill=\"#000000\" font-family=\"sans-serif\" font-size=\"14\" font-weight=\"bold\" lengthAdjust=\"spacingAndGlyphs\" textLength=\"12\" x=\"20\" y=\"20.9951\">Q</text></a><!--MD5=[b4997ac47864f28c2f74865a473b2911]\n",
       "class E2--><a href=\"psysml:ef5bd6a7-9b0c-4f9f-9d58-83550a9f52f0\" target=\"_top\" title=\"psysml:ef5bd6a7-9b0c-4f9f-9d58-83550a9f52f0\" xlink:actuate=\"onRequest\" xlink:href=\"psysml:ef5bd6a7-9b0c-4f9f-9d58-83550a9f52f0\" xlink:show=\"new\" xlink:title=\"psysml:ef5bd6a7-9b0c-4f9f-9d58-83550a9f52f0\" xlink:type=\"simple\"><rect fill=\"#FFFFFF\" height=\"45.9375\" id=\"E2\" rx=\"10\" ry=\"10\" style=\"stroke: #383838; stroke-width: 1.5;\" width=\"42\" x=\"133\" y=\"41\"/><text fill=\"#000000\" font-family=\"sans-serif\" font-size=\"12\" font-style=\"italic\" lengthAdjust=\"spacingAndGlyphs\" textLength=\"40\" x=\"134\" y=\"57.1387\">«part»</text><text fill=\"#000000\" font-family=\"sans-serif\" font-size=\"12\" lengthAdjust=\"spacingAndGlyphs\" textLength=\"4\" x=\"152\" y=\"71.1074\">f</text><line style=\"stroke: #383838; stroke-width: 1.5;\" x1=\"134\" x2=\"174\" y1=\"78.9375\" y2=\"78.9375\"/></a><!--MD5=[09b614a08d8cba4a07c9adeb5e0fee81]\n",
       "class E3--><a href=\"psysml:b70a2483-525b-464a-8d4b-4d166d754785\" target=\"_top\" title=\"psysml:b70a2483-525b-464a-8d4b-4d166d754785\" xlink:actuate=\"onRequest\" xlink:href=\"psysml:b70a2483-525b-464a-8d4b-4d166d754785\" xlink:show=\"new\" xlink:title=\"psysml:b70a2483-525b-464a-8d4b-4d166d754785\" xlink:type=\"simple\"><rect fill=\"#FFFFFF\" height=\"45.9375\" id=\"E3\" rx=\"10\" ry=\"10\" style=\"stroke: #383838; stroke-width: 1.5;\" width=\"42\" x=\"133\" y=\"147\"/><text fill=\"#000000\" font-family=\"sans-serif\" font-size=\"12\" font-style=\"italic\" lengthAdjust=\"spacingAndGlyphs\" textLength=\"40\" x=\"134\" y=\"163.1387\">«part»</text><text fill=\"#000000\" font-family=\"sans-serif\" font-size=\"12\" lengthAdjust=\"spacingAndGlyphs\" textLength=\"8\" x=\"150\" y=\"177.1074\">a</text><line style=\"stroke: #383838; stroke-width: 1.5;\" x1=\"134\" x2=\"174\" y1=\"184.9375\" y2=\"184.9375\"/></a><!--MD5=[ebbe1d658d1005bcc118a6aa81145e00]\n",
       "class E4--><a href=\"psysml:76b80061-5d22-4116-930d-3b6f4cd610b8\" target=\"_top\" title=\"psysml:76b80061-5d22-4116-930d-3b6f4cd610b8\" xlink:actuate=\"onRequest\" xlink:href=\"psysml:76b80061-5d22-4116-930d-3b6f4cd610b8\" xlink:show=\"new\" xlink:title=\"psysml:76b80061-5d22-4116-930d-3b6f4cd610b8\" xlink:type=\"simple\"><rect fill=\"#FFFFFF\" height=\"45.9375\" id=\"E4\" style=\"stroke: #383838; stroke-width: 1.5;\" width=\"66\" x=\"32\" y=\"41\"/><text fill=\"#000000\" font-family=\"sans-serif\" font-size=\"12\" font-style=\"italic\" lengthAdjust=\"spacingAndGlyphs\" textLength=\"64\" x=\"33\" y=\"57.1387\">«part def»</text><text fill=\"#000000\" font-family=\"sans-serif\" font-size=\"12\" lengthAdjust=\"spacingAndGlyphs\" textLength=\"8\" x=\"61\" y=\"71.1074\">C</text><line style=\"stroke: #383838; stroke-width: 1.5;\" x1=\"33\" x2=\"97\" y1=\"78.9375\" y2=\"78.9375\"/></a><!--MD5=[270fce915f116d4de14055a7c1d9a0f3]\n",
       "class E5--><a href=\"psysml:92e0160d-75a4-4892-b826-902f6ecde3a0\" target=\"_top\" title=\"psysml:92e0160d-75a4-4892-b826-902f6ecde3a0\" xlink:actuate=\"onRequest\" xlink:href=\"psysml:92e0160d-75a4-4892-b826-902f6ecde3a0\" xlink:show=\"new\" xlink:title=\"psysml:92e0160d-75a4-4892-b826-902f6ecde3a0\" xlink:type=\"simple\"><rect fill=\"#FFFFFF\" height=\"45.9375\" id=\"E5\" rx=\"10\" ry=\"10\" style=\"stroke: #383838; stroke-width: 1.5;\" width=\"42\" x=\"44\" y=\"147\"/><text fill=\"#000000\" font-family=\"sans-serif\" font-size=\"12\" font-style=\"italic\" lengthAdjust=\"spacingAndGlyphs\" textLength=\"40\" x=\"45\" y=\"163.1387\">«part»</text><text fill=\"#000000\" font-family=\"sans-serif\" font-size=\"12\" lengthAdjust=\"spacingAndGlyphs\" textLength=\"8\" x=\"61\" y=\"177.1074\">g</text><line style=\"stroke: #383838; stroke-width: 1.5;\" x1=\"45\" x2=\"85\" y1=\"184.9375\" y2=\"184.9375\"/></a><!--MD5=[209b3feb70ccb6233bfe1053d122c12c]\n",
       "reverse link E2 to E3--><a href=\"psysml:b70a2483-525b-464a-8d4b-4d166d754785\" target=\"_top\" title=\"psysml:b70a2483-525b-464a-8d4b-4d166d754785\" xlink:actuate=\"onRequest\" xlink:href=\"psysml:b70a2483-525b-464a-8d4b-4d166d754785\" xlink:show=\"new\" xlink:title=\"psysml:b70a2483-525b-464a-8d4b-4d166d754785\" xlink:type=\"simple\"><path d=\"M154,100.44 C154,115.87 154,133.47 154,146.98 \" fill=\"none\" id=\"E2&lt;-E3\" style=\"stroke: #383838; stroke-width: 1.0;\"/><polygon fill=\"#383838\" points=\"154,87.06,150,93.06,154,99.06,158,93.06,154,87.06\" style=\"stroke: #383838; stroke-width: 1.0;\"/></a><!--MD5=[62aa6af11e70f752912c1cb0466f24f7]\n",
       "reverse link E4 to E5--><a href=\"psysml:92e0160d-75a4-4892-b826-902f6ecde3a0\" target=\"_top\" title=\"psysml:92e0160d-75a4-4892-b826-902f6ecde3a0\" xlink:actuate=\"onRequest\" xlink:href=\"psysml:92e0160d-75a4-4892-b826-902f6ecde3a0\" xlink:show=\"new\" xlink:title=\"psysml:92e0160d-75a4-4892-b826-902f6ecde3a0\" xlink:type=\"simple\"><path d=\"M65,100.44 C65,115.87 65,133.47 65,146.98 \" fill=\"none\" id=\"E4&lt;-E5\" style=\"stroke: #383838; stroke-width: 1.0;\"/><polygon fill=\"#383838\" points=\"65,87.06,61,93.06,65,99.06,69,93.06,65,87.06\" style=\"stroke: #383838; stroke-width: 1.0;\"/></a><!--MD5=[eb6aca40a2d92ea69f141038b4a768d8]\n",
       "@startuml\r\n",
       "skinparam monochrome true\r\n",
       "skinparam classbackgroundcolor white\r\n",
       "skinparam shadowing false\r\n",
       "skinparam wrapWidth 300\r\n",
       "hide circle\r\n",
       "\r\n",
       "package \"Q\" as E1  [[psysml:28439c61-0f75-41f9-9e39-c7479ce99829 ]]  {\r\n",
       "comp usage \"f\" as E2  <<(T,blue)part>> [[psysml:ef5bd6a7-9b0c-4f9f-9d58-83550a9f52f0 ]] {\r\n",
       "}\r\n",
       "comp usage \"a\" as E3  <<(T,blue)part>> [[psysml:b70a2483-525b-464a-8d4b-4d166d754785 ]] {\r\n",
       "}\r\n",
       "comp def \"C\" as E4  <<(T,blue)part def>> [[psysml:76b80061-5d22-4116-930d-3b6f4cd610b8 ]] {\r\n",
       "}\r\n",
       "comp usage \"g\" as E5  <<(T,blue)part>> [[psysml:92e0160d-75a4-4892-b826-902f6ecde3a0 ]] {\r\n",
       "}\r\n",
       "E2 *- - E3 [[psysml:b70a2483-525b-464a-8d4b-4d166d754785 ]] \r\n",
       "E4 *- - E5 [[psysml:92e0160d-75a4-4892-b826-902f6ecde3a0 ]] \r\n",
       "}\r\n",
       "@enduml\r\n",
       "\n",
       "PlantUML version 1.2020.13(Sat Jun 13 12:26:38 UTC 2020)\n",
       "(EPL source distribution)\n",
       "Java Runtime: OpenJDK Runtime Environment\n",
       "JVM: OpenJDK 64-Bit Server VM\n",
       "Default Encoding: UTF-8\n",
       "Language: en\n",
       "Country: null\n",
       "--></g></svg>"
      ]
     },
     "execution_count": 37,
     "metadata": {},
     "output_type": "execute_result"
    }
   ],
   "source": [
    "%viz --style=\"DEFAULT\" --view=\"Default\" \"Q\""
   ]
  },
  {
   "cell_type": "code",
   "execution_count": 38,
   "id": "stone-league",
   "metadata": {
    "execution": {
     "iopub.execute_input": "2021-03-25T13:42:10.583730Z",
     "iopub.status.busy": "2021-03-25T13:42:10.583117Z",
     "iopub.status.idle": "2021-03-25T13:42:10.638224Z",
     "shell.execute_reply": "2021-03-25T13:42:10.635699Z"
    }
   },
   "outputs": [
    {
     "data": {
      "image/svg+xml": [
       "<?xml version=\"1.0\" encoding=\"UTF-8\" standalone=\"no\"?><svg xmlns=\"http://www.w3.org/2000/svg\" xmlns:xlink=\"http://www.w3.org/1999/xlink\" contentScriptType=\"application/ecmascript\" contentStyleType=\"text/css\" height=\"221px\" preserveAspectRatio=\"none\" style=\"width:213px;height:221px;\" version=\"1.1\" viewBox=\"0 0 213 221\" width=\"213px\" zoomAndPan=\"magnify\"><defs/><g><!--MD5=[fbc87193dbaf4d95561dea2c320d4a47]\n",
       "cluster E1--><a href=\"psysml:28439c61-0f75-41f9-9e39-c7479ce99829\" target=\"_top\" title=\"psysml:28439c61-0f75-41f9-9e39-c7479ce99829\" xlink:actuate=\"onRequest\" xlink:href=\"psysml:28439c61-0f75-41f9-9e39-c7479ce99829\" xlink:show=\"new\" xlink:title=\"psysml:28439c61-0f75-41f9-9e39-c7479ce99829\" xlink:type=\"simple\"><polygon fill=\"#FFFFFF\" points=\"16,6,34,6,41,28.2969,191,28.2969,191,209,16,209,16,6\" style=\"stroke: #000000; stroke-width: 1.5;\"/><line style=\"stroke: #000000; stroke-width: 1.5;\" x1=\"16\" x2=\"41\" y1=\"28.2969\" y2=\"28.2969\"/><text fill=\"#000000\" font-family=\"sans-serif\" font-size=\"14\" font-weight=\"bold\" lengthAdjust=\"spacingAndGlyphs\" textLength=\"12\" x=\"20\" y=\"20.9951\">Q</text></a><!--MD5=[b4997ac47864f28c2f74865a473b2911]\n",
       "class E2--><a href=\"psysml:ef5bd6a7-9b0c-4f9f-9d58-83550a9f52f0\" target=\"_top\" title=\"psysml:ef5bd6a7-9b0c-4f9f-9d58-83550a9f52f0\" xlink:actuate=\"onRequest\" xlink:href=\"psysml:ef5bd6a7-9b0c-4f9f-9d58-83550a9f52f0\" xlink:show=\"new\" xlink:title=\"psysml:ef5bd6a7-9b0c-4f9f-9d58-83550a9f52f0\" xlink:type=\"simple\"><rect fill=\"#FFFFFF\" height=\"45.9375\" id=\"E2\" rx=\"10\" ry=\"10\" style=\"stroke: #383838; stroke-width: 1.5;\" width=\"42\" x=\"133\" y=\"41\"/><text fill=\"#000000\" font-family=\"sans-serif\" font-size=\"12\" font-style=\"italic\" lengthAdjust=\"spacingAndGlyphs\" textLength=\"40\" x=\"134\" y=\"57.1387\">«part»</text><text fill=\"#000000\" font-family=\"sans-serif\" font-size=\"12\" lengthAdjust=\"spacingAndGlyphs\" textLength=\"4\" x=\"152\" y=\"71.1074\">f</text><line style=\"stroke: #383838; stroke-width: 1.5;\" x1=\"134\" x2=\"174\" y1=\"78.9375\" y2=\"78.9375\"/></a><!--MD5=[09b614a08d8cba4a07c9adeb5e0fee81]\n",
       "class E3--><a href=\"psysml:b70a2483-525b-464a-8d4b-4d166d754785\" target=\"_top\" title=\"psysml:b70a2483-525b-464a-8d4b-4d166d754785\" xlink:actuate=\"onRequest\" xlink:href=\"psysml:b70a2483-525b-464a-8d4b-4d166d754785\" xlink:show=\"new\" xlink:title=\"psysml:b70a2483-525b-464a-8d4b-4d166d754785\" xlink:type=\"simple\"><rect fill=\"#FFFFFF\" height=\"45.9375\" id=\"E3\" rx=\"10\" ry=\"10\" style=\"stroke: #383838; stroke-width: 1.5;\" width=\"42\" x=\"133\" y=\"147\"/><text fill=\"#000000\" font-family=\"sans-serif\" font-size=\"12\" font-style=\"italic\" lengthAdjust=\"spacingAndGlyphs\" textLength=\"40\" x=\"134\" y=\"163.1387\">«part»</text><text fill=\"#000000\" font-family=\"sans-serif\" font-size=\"12\" lengthAdjust=\"spacingAndGlyphs\" textLength=\"8\" x=\"150\" y=\"177.1074\">a</text><line style=\"stroke: #383838; stroke-width: 1.5;\" x1=\"134\" x2=\"174\" y1=\"184.9375\" y2=\"184.9375\"/></a><!--MD5=[ebbe1d658d1005bcc118a6aa81145e00]\n",
       "class E4--><a href=\"psysml:76b80061-5d22-4116-930d-3b6f4cd610b8\" target=\"_top\" title=\"psysml:76b80061-5d22-4116-930d-3b6f4cd610b8\" xlink:actuate=\"onRequest\" xlink:href=\"psysml:76b80061-5d22-4116-930d-3b6f4cd610b8\" xlink:show=\"new\" xlink:title=\"psysml:76b80061-5d22-4116-930d-3b6f4cd610b8\" xlink:type=\"simple\"><rect fill=\"#FFFFFF\" height=\"45.9375\" id=\"E4\" style=\"stroke: #383838; stroke-width: 1.5;\" width=\"66\" x=\"32\" y=\"41\"/><text fill=\"#000000\" font-family=\"sans-serif\" font-size=\"12\" font-style=\"italic\" lengthAdjust=\"spacingAndGlyphs\" textLength=\"64\" x=\"33\" y=\"57.1387\">«part def»</text><text fill=\"#000000\" font-family=\"sans-serif\" font-size=\"12\" lengthAdjust=\"spacingAndGlyphs\" textLength=\"8\" x=\"61\" y=\"71.1074\">C</text><line style=\"stroke: #383838; stroke-width: 1.5;\" x1=\"33\" x2=\"97\" y1=\"78.9375\" y2=\"78.9375\"/></a><!--MD5=[270fce915f116d4de14055a7c1d9a0f3]\n",
       "class E5--><a href=\"psysml:92e0160d-75a4-4892-b826-902f6ecde3a0\" target=\"_top\" title=\"psysml:92e0160d-75a4-4892-b826-902f6ecde3a0\" xlink:actuate=\"onRequest\" xlink:href=\"psysml:92e0160d-75a4-4892-b826-902f6ecde3a0\" xlink:show=\"new\" xlink:title=\"psysml:92e0160d-75a4-4892-b826-902f6ecde3a0\" xlink:type=\"simple\"><rect fill=\"#FFFFFF\" height=\"45.9375\" id=\"E5\" rx=\"10\" ry=\"10\" style=\"stroke: #383838; stroke-width: 1.5;\" width=\"42\" x=\"44\" y=\"147\"/><text fill=\"#000000\" font-family=\"sans-serif\" font-size=\"12\" font-style=\"italic\" lengthAdjust=\"spacingAndGlyphs\" textLength=\"40\" x=\"45\" y=\"163.1387\">«part»</text><text fill=\"#000000\" font-family=\"sans-serif\" font-size=\"12\" lengthAdjust=\"spacingAndGlyphs\" textLength=\"8\" x=\"61\" y=\"177.1074\">g</text><line style=\"stroke: #383838; stroke-width: 1.5;\" x1=\"45\" x2=\"85\" y1=\"184.9375\" y2=\"184.9375\"/></a><!--MD5=[209b3feb70ccb6233bfe1053d122c12c]\n",
       "reverse link E2 to E3--><a href=\"psysml:b70a2483-525b-464a-8d4b-4d166d754785\" target=\"_top\" title=\"psysml:b70a2483-525b-464a-8d4b-4d166d754785\" xlink:actuate=\"onRequest\" xlink:href=\"psysml:b70a2483-525b-464a-8d4b-4d166d754785\" xlink:show=\"new\" xlink:title=\"psysml:b70a2483-525b-464a-8d4b-4d166d754785\" xlink:type=\"simple\"><path d=\"M154,100.44 C154,115.87 154,133.47 154,146.98 \" fill=\"none\" id=\"E2&lt;-E3\" style=\"stroke: #383838; stroke-width: 1.0;\"/><polygon fill=\"#383838\" points=\"154,87.06,150,93.06,154,99.06,158,93.06,154,87.06\" style=\"stroke: #383838; stroke-width: 1.0;\"/></a><!--MD5=[62aa6af11e70f752912c1cb0466f24f7]\n",
       "reverse link E4 to E5--><a href=\"psysml:92e0160d-75a4-4892-b826-902f6ecde3a0\" target=\"_top\" title=\"psysml:92e0160d-75a4-4892-b826-902f6ecde3a0\" xlink:actuate=\"onRequest\" xlink:href=\"psysml:92e0160d-75a4-4892-b826-902f6ecde3a0\" xlink:show=\"new\" xlink:title=\"psysml:92e0160d-75a4-4892-b826-902f6ecde3a0\" xlink:type=\"simple\"><path d=\"M65,100.44 C65,115.87 65,133.47 65,146.98 \" fill=\"none\" id=\"E4&lt;-E5\" style=\"stroke: #383838; stroke-width: 1.0;\"/><polygon fill=\"#383838\" points=\"65,87.06,61,93.06,65,99.06,69,93.06,65,87.06\" style=\"stroke: #383838; stroke-width: 1.0;\"/></a><!--MD5=[eb6aca40a2d92ea69f141038b4a768d8]\n",
       "@startuml\r\n",
       "skinparam monochrome true\r\n",
       "skinparam classbackgroundcolor white\r\n",
       "skinparam shadowing false\r\n",
       "skinparam wrapWidth 300\r\n",
       "hide circle\r\n",
       "\r\n",
       "package \"Q\" as E1  [[psysml:28439c61-0f75-41f9-9e39-c7479ce99829 ]]  {\r\n",
       "comp usage \"f\" as E2  <<(T,blue)part>> [[psysml:ef5bd6a7-9b0c-4f9f-9d58-83550a9f52f0 ]] {\r\n",
       "}\r\n",
       "comp usage \"a\" as E3  <<(T,blue)part>> [[psysml:b70a2483-525b-464a-8d4b-4d166d754785 ]] {\r\n",
       "}\r\n",
       "comp def \"C\" as E4  <<(T,blue)part def>> [[psysml:76b80061-5d22-4116-930d-3b6f4cd610b8 ]] {\r\n",
       "}\r\n",
       "comp usage \"g\" as E5  <<(T,blue)part>> [[psysml:92e0160d-75a4-4892-b826-902f6ecde3a0 ]] {\r\n",
       "}\r\n",
       "E2 *- - E3 [[psysml:b70a2483-525b-464a-8d4b-4d166d754785 ]] \r\n",
       "E4 *- - E5 [[psysml:92e0160d-75a4-4892-b826-902f6ecde3a0 ]] \r\n",
       "}\r\n",
       "@enduml\r\n",
       "\n",
       "PlantUML version 1.2020.13(Sat Jun 13 12:26:38 UTC 2020)\n",
       "(EPL source distribution)\n",
       "Java Runtime: OpenJDK Runtime Environment\n",
       "JVM: OpenJDK 64-Bit Server VM\n",
       "Default Encoding: UTF-8\n",
       "Language: en\n",
       "Country: null\n",
       "--></g></svg>"
      ]
     },
     "execution_count": 38,
     "metadata": {},
     "output_type": "execute_result"
    }
   ],
   "source": [
    "%viz --style=\"DEFAULT\" --view=\"Tree\" \"Q\""
   ]
  },
  {
   "cell_type": "code",
   "execution_count": 39,
   "id": "pacific-logic",
   "metadata": {
    "execution": {
     "iopub.execute_input": "2021-03-25T13:42:10.688359Z",
     "iopub.status.busy": "2021-03-25T13:42:10.687577Z",
     "iopub.status.idle": "2021-03-25T13:42:10.697291Z",
     "shell.execute_reply": "2021-03-25T13:42:10.697683Z"
    }
   },
   "outputs": [
    {
     "data": {
      "image/svg+xml": [
       "<?xml version=\"1.0\" encoding=\"UTF-8\" standalone=\"no\"?><svg xmlns=\"http://www.w3.org/2000/svg\" xmlns:xlink=\"http://www.w3.org/1999/xlink\" contentScriptType=\"application/ecmascript\" contentStyleType=\"text/css\" height=\"12px\" preserveAspectRatio=\"none\" style=\"width:12px;height:12px;\" version=\"1.1\" viewBox=\"0 0 12 12\" width=\"12px\" zoomAndPan=\"magnify\"><defs/><g><!--MD5=[c5f280e076d0d61ccf4b0f27871bda1d]\n",
       "@startuml\r\n",
       "skinparam monochrome true\r\n",
       "skinparam classbackgroundcolor white\r\n",
       "skinparam shadowing false\r\n",
       "skinparam wrapWidth 300\r\n",
       "hide circle\r\n",
       "\r\n",
       "@enduml\r\n",
       "\n",
       "PlantUML version 1.2020.13(Sat Jun 13 12:26:38 UTC 2020)\n",
       "(EPL source distribution)\n",
       "Java Runtime: OpenJDK Runtime Environment\n",
       "JVM: OpenJDK 64-Bit Server VM\n",
       "Default Encoding: UTF-8\n",
       "Language: en\n",
       "Country: null\n",
       "--></g></svg>"
      ]
     },
     "execution_count": 39,
     "metadata": {},
     "output_type": "execute_result"
    }
   ],
   "source": [
    "%viz --style=\"DEFAULT\" --view=\"State\" \"Q\""
   ]
  },
  {
   "cell_type": "code",
   "execution_count": 40,
   "id": "saving-machine",
   "metadata": {
    "execution": {
     "iopub.execute_input": "2021-03-25T13:42:10.747359Z",
     "iopub.status.busy": "2021-03-25T13:42:10.746862Z",
     "iopub.status.idle": "2021-03-25T13:42:10.806760Z",
     "shell.execute_reply": "2021-03-25T13:42:10.805534Z"
    }
   },
   "outputs": [
    {
     "data": {
      "image/svg+xml": [
       "<?xml version=\"1.0\" encoding=\"UTF-8\" standalone=\"no\"?><svg xmlns=\"http://www.w3.org/2000/svg\" xmlns:xlink=\"http://www.w3.org/1999/xlink\" contentScriptType=\"application/ecmascript\" contentStyleType=\"text/css\" height=\"192px\" preserveAspectRatio=\"none\" style=\"width:279px;height:192px;\" version=\"1.1\" viewBox=\"0 0 279 192\" width=\"279px\" zoomAndPan=\"magnify\"><defs/><g><!--MD5=[fbc87193dbaf4d95561dea2c320d4a47]\n",
       "cluster E1--><a href=\"psysml:28439c61-0f75-41f9-9e39-c7479ce99829\" target=\"_top\" title=\"psysml:28439c61-0f75-41f9-9e39-c7479ce99829\" xlink:actuate=\"onRequest\" xlink:href=\"psysml:28439c61-0f75-41f9-9e39-c7479ce99829\" xlink:show=\"new\" xlink:title=\"psysml:28439c61-0f75-41f9-9e39-c7479ce99829\" xlink:type=\"simple\"><polygon fill=\"#FFFFFF\" points=\"16,6,34,6,41,28.2969,257,28.2969,257,180,16,180,16,6\" style=\"stroke: #000000; stroke-width: 1.5;\"/><line style=\"stroke: #000000; stroke-width: 1.5;\" x1=\"16\" x2=\"41\" y1=\"28.2969\" y2=\"28.2969\"/><text fill=\"#000000\" font-family=\"sans-serif\" font-size=\"14\" font-weight=\"bold\" lengthAdjust=\"spacingAndGlyphs\" textLength=\"12\" x=\"20\" y=\"20.9951\">Q</text></a><!--MD5=[e4f7fae6ed58524ba242bb0b0d3be6b7]\n",
       "cluster E2--><a href=\"psysml:ef5bd6a7-9b0c-4f9f-9d58-83550a9f52f0\" target=\"_top\" title=\"psysml:ef5bd6a7-9b0c-4f9f-9d58-83550a9f52f0\" xlink:actuate=\"onRequest\" xlink:href=\"psysml:ef5bd6a7-9b0c-4f9f-9d58-83550a9f52f0\" xlink:show=\"new\" xlink:title=\"psysml:ef5bd6a7-9b0c-4f9f-9d58-83550a9f52f0\" xlink:type=\"simple\"><rect fill=\"#FFFFFF\" height=\"91\" id=\"E2\" rx=\"10\" ry=\"10\" style=\"stroke: #383838; stroke-width: 1.5;\" width=\"82\" x=\"151\" y=\"65\"/><rect fill=\"#F8F8F8\" height=\"23.9688\" rx=\"10\" ry=\"10\" style=\"stroke: #F8F8F8; stroke-width: 1.5;\" width=\"82\" x=\"151\" y=\"65\"/><rect fill=\"#F8F8F8\" height=\"10\" style=\"stroke: #F8F8F8; stroke-width: 1.5;\" width=\"82\" x=\"151\" y=\"78.9688\"/><rect fill=\"none\" height=\"91\" id=\"E2\" rx=\"10\" ry=\"10\" style=\"stroke: #383838; stroke-width: 1.5;\" width=\"82\" x=\"151\" y=\"65\"/><text fill=\"#000000\" font-family=\"sans-serif\" font-size=\"12\" lengthAdjust=\"spacingAndGlyphs\" textLength=\"4\" x=\"190\" y=\"81.1387\">f</text><line style=\"stroke: #383838; stroke-width: 1.0;\" x1=\"151\" x2=\"233\" y1=\"88.9688\" y2=\"88.9688\"/></a><!--MD5=[f6df4d0ebaf0b5dfb2ced0ae5af7c670]\n",
       "cluster E4--><a href=\"psysml:76b80061-5d22-4116-930d-3b6f4cd610b8\" target=\"_top\" title=\"psysml:76b80061-5d22-4116-930d-3b6f4cd610b8\" xlink:actuate=\"onRequest\" xlink:href=\"psysml:76b80061-5d22-4116-930d-3b6f4cd610b8\" xlink:show=\"new\" xlink:title=\"psysml:76b80061-5d22-4116-930d-3b6f4cd610b8\" xlink:type=\"simple\"><rect fill=\"#FFFFFF\" height=\"107\" id=\"E4\" style=\"stroke: #383838; stroke-width: 1.5;\" width=\"87\" x=\"40\" y=\"49\"/><rect fill=\"#F8F8F8\" height=\"37.9375\" style=\"stroke: #383838; stroke-width: 1.5;\" width=\"87\" x=\"40\" y=\"49\"/><text fill=\"#000000\" font-family=\"sans-serif\" font-size=\"12\" font-style=\"italic\" lengthAdjust=\"spacingAndGlyphs\" textLength=\"64\" x=\"51.5\" y=\"65.1387\">«part def»</text><text fill=\"#000000\" font-family=\"sans-serif\" font-size=\"12\" lengthAdjust=\"spacingAndGlyphs\" textLength=\"8\" x=\"79.5\" y=\"79.1074\">C</text></a><g id=\"E1.E2.E3\"><a href=\"psysml:b70a2483-525b-464a-8d4b-4d166d754785\" target=\"_top\" title=\"psysml:b70a2483-525b-464a-8d4b-4d166d754785\" xlink:actuate=\"onRequest\" xlink:href=\"psysml:b70a2483-525b-464a-8d4b-4d166d754785\" xlink:show=\"new\" xlink:title=\"psysml:b70a2483-525b-464a-8d4b-4d166d754785\" xlink:type=\"simple\"><rect fill=\"#FFFFFF\" height=\"40\" id=\"E3\" rx=\"10\" ry=\"10\" style=\"stroke: #383838; stroke-width: 1.5;\" width=\"50\" x=\"167\" y=\"100\"/><rect fill=\"#F8F8F8\" height=\"23.9688\" rx=\"10\" ry=\"10\" style=\"stroke: #F8F8F8; stroke-width: 1.5;\" width=\"50\" x=\"167\" y=\"100\"/><rect fill=\"#F8F8F8\" height=\"10\" style=\"stroke: #F8F8F8; stroke-width: 1.5;\" width=\"50\" x=\"167\" y=\"113.9688\"/><rect fill=\"none\" height=\"40\" id=\"E3\" rx=\"10\" ry=\"10\" style=\"stroke: #383838; stroke-width: 1.5;\" width=\"50\" x=\"167\" y=\"100\"/><text fill=\"#000000\" font-family=\"sans-serif\" font-size=\"12\" lengthAdjust=\"spacingAndGlyphs\" textLength=\"8\" x=\"188\" y=\"116.1387\">a</text></a></g><g id=\"E1.E4.E5\"><a href=\"psysml:92e0160d-75a4-4892-b826-902f6ecde3a0\" target=\"_top\" title=\"psysml:92e0160d-75a4-4892-b826-902f6ecde3a0\" xlink:actuate=\"onRequest\" xlink:href=\"psysml:92e0160d-75a4-4892-b826-902f6ecde3a0\" xlink:show=\"new\" xlink:title=\"psysml:92e0160d-75a4-4892-b826-902f6ecde3a0\" xlink:type=\"simple\"><rect fill=\"#FFFFFF\" height=\"40\" id=\"E5\" rx=\"10\" ry=\"10\" style=\"stroke: #383838; stroke-width: 1.5;\" width=\"50\" x=\"58\" y=\"100\"/><rect fill=\"#F8F8F8\" height=\"23.9688\" rx=\"10\" ry=\"10\" style=\"stroke: #F8F8F8; stroke-width: 1.5;\" width=\"50\" x=\"58\" y=\"100\"/><rect fill=\"#F8F8F8\" height=\"10\" style=\"stroke: #F8F8F8; stroke-width: 1.5;\" width=\"50\" x=\"58\" y=\"113.9688\"/><rect fill=\"none\" height=\"40\" id=\"E5\" rx=\"10\" ry=\"10\" style=\"stroke: #383838; stroke-width: 1.5;\" width=\"50\" x=\"58\" y=\"100\"/><text fill=\"#000000\" font-family=\"sans-serif\" font-size=\"12\" lengthAdjust=\"spacingAndGlyphs\" textLength=\"8\" x=\"79\" y=\"116.1387\">g</text></a></g><!--MD5=[1f7ea2e34f6b446fbc5cee33d69c92ac]\n",
       "@startuml\r\n",
       "skinparam ranksep 8\r\n",
       "skinparam rectangle {\r\n",
       " backgroundColor<<block>> LightGreen\r\n",
       "}\r\n",
       "skinparam monochrome true\r\n",
       "skinparam classbackgroundcolor white\r\n",
       "skinparam shadowing false\r\n",
       "skinparam wrapWidth 300\r\n",
       "hide circle\r\n",
       "\r\n",
       "package \"Q\" as E1  [[psysml:28439c61-0f75-41f9-9e39-c7479ce99829 ]]  {\r\n",
       "rec usage \"f\" as E2  [[psysml:ef5bd6a7-9b0c-4f9f-9d58-83550a9f52f0 ]] {\r\n",
       "rec usage \"a\" as E3  [[psysml:b70a2483-525b-464a-8d4b-4d166d754785 ]] {\r\n",
       "}\r\n",
       "}\r\n",
       "rec def \"C\" as E4  <<(T,blue)part def>> [[psysml:76b80061-5d22-4116-930d-3b6f4cd610b8 ]] {\r\n",
       "rec usage \"g\" as E5  [[psysml:92e0160d-75a4-4892-b826-902f6ecde3a0 ]] {\r\n",
       "}\r\n",
       "}\r\n",
       "}\r\n",
       "@enduml\r\n",
       "\n",
       "PlantUML version 1.2020.13(Sat Jun 13 12:26:38 UTC 2020)\n",
       "(EPL source distribution)\n",
       "Java Runtime: OpenJDK Runtime Environment\n",
       "JVM: OpenJDK 64-Bit Server VM\n",
       "Default Encoding: UTF-8\n",
       "Language: en\n",
       "Country: null\n",
       "--></g></svg>"
      ]
     },
     "execution_count": 40,
     "metadata": {},
     "output_type": "execute_result"
    }
   ],
   "source": [
    "%viz --style=\"DEFAULT\" --view=\"Interconnection\" \"Q\""
   ]
  },
  {
   "cell_type": "code",
   "execution_count": 41,
   "id": "marine-convert",
   "metadata": {
    "execution": {
     "iopub.execute_input": "2021-03-25T13:42:10.858652Z",
     "iopub.status.busy": "2021-03-25T13:42:10.857820Z",
     "iopub.status.idle": "2021-03-25T13:42:10.866633Z",
     "shell.execute_reply": "2021-03-25T13:42:10.866154Z"
    }
   },
   "outputs": [
    {
     "data": {
      "image/svg+xml": [
       "<?xml version=\"1.0\" encoding=\"UTF-8\" standalone=\"no\"?><svg xmlns=\"http://www.w3.org/2000/svg\" xmlns:xlink=\"http://www.w3.org/1999/xlink\" contentScriptType=\"application/ecmascript\" contentStyleType=\"text/css\" height=\"12px\" preserveAspectRatio=\"none\" style=\"width:12px;height:12px;\" version=\"1.1\" viewBox=\"0 0 12 12\" width=\"12px\" zoomAndPan=\"magnify\"><defs/><g><!--MD5=[388f21188e31bfdd97050473b19af356]\n",
       "@startuml\r\n",
       "skinparam ranksep 8\r\n",
       "skinparam monochrome true\r\n",
       "skinparam classbackgroundcolor white\r\n",
       "skinparam shadowing false\r\n",
       "skinparam wrapWidth 300\r\n",
       "hide circle\r\n",
       "\r\n",
       "@enduml\r\n",
       "\n",
       "PlantUML version 1.2020.13(Sat Jun 13 12:26:38 UTC 2020)\n",
       "(EPL source distribution)\n",
       "Java Runtime: OpenJDK Runtime Environment\n",
       "JVM: OpenJDK 64-Bit Server VM\n",
       "Default Encoding: UTF-8\n",
       "Language: en\n",
       "Country: null\n",
       "--></g></svg>"
      ]
     },
     "execution_count": 41,
     "metadata": {},
     "output_type": "execute_result"
    }
   ],
   "source": [
    "%viz --style=\"DEFAULT\" --view=\"Action\" \"Q\""
   ]
  },
  {
   "cell_type": "code",
   "execution_count": 42,
   "id": "static-search",
   "metadata": {
    "execution": {
     "iopub.execute_input": "2021-03-25T13:42:10.917468Z",
     "iopub.status.busy": "2021-03-25T13:42:10.916867Z",
     "iopub.status.idle": "2021-03-25T13:42:10.967780Z",
     "shell.execute_reply": "2021-03-25T13:42:10.968244Z"
    }
   },
   "outputs": [
    {
     "data": {
      "image/svg+xml": [
       "<?xml version=\"1.0\" encoding=\"UTF-8\" standalone=\"no\"?><svg xmlns=\"http://www.w3.org/2000/svg\" xmlns:xlink=\"http://www.w3.org/1999/xlink\" contentScriptType=\"application/ecmascript\" contentStyleType=\"text/css\" height=\"221px\" preserveAspectRatio=\"none\" style=\"width:213px;height:221px;\" version=\"1.1\" viewBox=\"0 0 213 221\" width=\"213px\" zoomAndPan=\"magnify\"><defs/><g><!--MD5=[fbc87193dbaf4d95561dea2c320d4a47]\n",
       "cluster E1--><a href=\"psysml:28439c61-0f75-41f9-9e39-c7479ce99829\" target=\"_top\" title=\"psysml:28439c61-0f75-41f9-9e39-c7479ce99829\" xlink:actuate=\"onRequest\" xlink:href=\"psysml:28439c61-0f75-41f9-9e39-c7479ce99829\" xlink:show=\"new\" xlink:title=\"psysml:28439c61-0f75-41f9-9e39-c7479ce99829\" xlink:type=\"simple\"><polygon fill=\"#FFFFFF\" points=\"16,6,34,6,41,28.2969,191,28.2969,191,209,16,209,16,6\" style=\"stroke: #000000; stroke-width: 1.5;\"/><line style=\"stroke: #000000; stroke-width: 1.5;\" x1=\"16\" x2=\"41\" y1=\"28.2969\" y2=\"28.2969\"/><text fill=\"#000000\" font-family=\"sans-serif\" font-size=\"14\" font-weight=\"bold\" lengthAdjust=\"spacingAndGlyphs\" textLength=\"12\" x=\"20\" y=\"20.9951\">Q</text></a><!--MD5=[b4997ac47864f28c2f74865a473b2911]\n",
       "class E2--><a href=\"psysml:ef5bd6a7-9b0c-4f9f-9d58-83550a9f52f0\" target=\"_top\" title=\"psysml:ef5bd6a7-9b0c-4f9f-9d58-83550a9f52f0\" xlink:actuate=\"onRequest\" xlink:href=\"psysml:ef5bd6a7-9b0c-4f9f-9d58-83550a9f52f0\" xlink:show=\"new\" xlink:title=\"psysml:ef5bd6a7-9b0c-4f9f-9d58-83550a9f52f0\" xlink:type=\"simple\"><rect fill=\"#FFFFFF\" height=\"45.9375\" id=\"E2\" rx=\"10\" ry=\"10\" style=\"stroke: #383838; stroke-width: 1.5;\" width=\"42\" x=\"133\" y=\"41\"/><text fill=\"#000000\" font-family=\"sans-serif\" font-size=\"12\" font-style=\"italic\" lengthAdjust=\"spacingAndGlyphs\" textLength=\"40\" x=\"134\" y=\"57.1387\">«part»</text><text fill=\"#000000\" font-family=\"sans-serif\" font-size=\"12\" lengthAdjust=\"spacingAndGlyphs\" textLength=\"4\" x=\"152\" y=\"71.1074\">f</text><line style=\"stroke: #383838; stroke-width: 1.5;\" x1=\"134\" x2=\"174\" y1=\"78.9375\" y2=\"78.9375\"/></a><!--MD5=[09b614a08d8cba4a07c9adeb5e0fee81]\n",
       "class E3--><a href=\"psysml:b70a2483-525b-464a-8d4b-4d166d754785\" target=\"_top\" title=\"psysml:b70a2483-525b-464a-8d4b-4d166d754785\" xlink:actuate=\"onRequest\" xlink:href=\"psysml:b70a2483-525b-464a-8d4b-4d166d754785\" xlink:show=\"new\" xlink:title=\"psysml:b70a2483-525b-464a-8d4b-4d166d754785\" xlink:type=\"simple\"><rect fill=\"#FFFFFF\" height=\"45.9375\" id=\"E3\" rx=\"10\" ry=\"10\" style=\"stroke: #383838; stroke-width: 1.5;\" width=\"42\" x=\"133\" y=\"147\"/><text fill=\"#000000\" font-family=\"sans-serif\" font-size=\"12\" font-style=\"italic\" lengthAdjust=\"spacingAndGlyphs\" textLength=\"40\" x=\"134\" y=\"163.1387\">«part»</text><text fill=\"#000000\" font-family=\"sans-serif\" font-size=\"12\" lengthAdjust=\"spacingAndGlyphs\" textLength=\"8\" x=\"150\" y=\"177.1074\">a</text><line style=\"stroke: #383838; stroke-width: 1.5;\" x1=\"134\" x2=\"174\" y1=\"184.9375\" y2=\"184.9375\"/></a><!--MD5=[ebbe1d658d1005bcc118a6aa81145e00]\n",
       "class E4--><a href=\"psysml:76b80061-5d22-4116-930d-3b6f4cd610b8\" target=\"_top\" title=\"psysml:76b80061-5d22-4116-930d-3b6f4cd610b8\" xlink:actuate=\"onRequest\" xlink:href=\"psysml:76b80061-5d22-4116-930d-3b6f4cd610b8\" xlink:show=\"new\" xlink:title=\"psysml:76b80061-5d22-4116-930d-3b6f4cd610b8\" xlink:type=\"simple\"><rect fill=\"#FFFFFF\" height=\"45.9375\" id=\"E4\" style=\"stroke: #383838; stroke-width: 1.5;\" width=\"66\" x=\"32\" y=\"41\"/><text fill=\"#000000\" font-family=\"sans-serif\" font-size=\"12\" font-style=\"italic\" lengthAdjust=\"spacingAndGlyphs\" textLength=\"64\" x=\"33\" y=\"57.1387\">«part def»</text><text fill=\"#000000\" font-family=\"sans-serif\" font-size=\"12\" lengthAdjust=\"spacingAndGlyphs\" textLength=\"8\" x=\"61\" y=\"71.1074\">C</text><line style=\"stroke: #383838; stroke-width: 1.5;\" x1=\"33\" x2=\"97\" y1=\"78.9375\" y2=\"78.9375\"/></a><!--MD5=[270fce915f116d4de14055a7c1d9a0f3]\n",
       "class E5--><a href=\"psysml:92e0160d-75a4-4892-b826-902f6ecde3a0\" target=\"_top\" title=\"psysml:92e0160d-75a4-4892-b826-902f6ecde3a0\" xlink:actuate=\"onRequest\" xlink:href=\"psysml:92e0160d-75a4-4892-b826-902f6ecde3a0\" xlink:show=\"new\" xlink:title=\"psysml:92e0160d-75a4-4892-b826-902f6ecde3a0\" xlink:type=\"simple\"><rect fill=\"#FFFFFF\" height=\"45.9375\" id=\"E5\" rx=\"10\" ry=\"10\" style=\"stroke: #383838; stroke-width: 1.5;\" width=\"42\" x=\"44\" y=\"147\"/><text fill=\"#000000\" font-family=\"sans-serif\" font-size=\"12\" font-style=\"italic\" lengthAdjust=\"spacingAndGlyphs\" textLength=\"40\" x=\"45\" y=\"163.1387\">«part»</text><text fill=\"#000000\" font-family=\"sans-serif\" font-size=\"12\" lengthAdjust=\"spacingAndGlyphs\" textLength=\"8\" x=\"61\" y=\"177.1074\">g</text><line style=\"stroke: #383838; stroke-width: 1.5;\" x1=\"45\" x2=\"85\" y1=\"184.9375\" y2=\"184.9375\"/></a><!--MD5=[209b3feb70ccb6233bfe1053d122c12c]\n",
       "reverse link E2 to E3--><a href=\"psysml:b70a2483-525b-464a-8d4b-4d166d754785\" target=\"_top\" title=\"psysml:b70a2483-525b-464a-8d4b-4d166d754785\" xlink:actuate=\"onRequest\" xlink:href=\"psysml:b70a2483-525b-464a-8d4b-4d166d754785\" xlink:show=\"new\" xlink:title=\"psysml:b70a2483-525b-464a-8d4b-4d166d754785\" xlink:type=\"simple\"><path d=\"M154,100.44 C154,115.87 154,133.47 154,146.98 \" fill=\"none\" id=\"E2&lt;-E3\" style=\"stroke: #383838; stroke-width: 1.0;\"/><polygon fill=\"#383838\" points=\"154,87.06,150,93.06,154,99.06,158,93.06,154,87.06\" style=\"stroke: #383838; stroke-width: 1.0;\"/></a><!--MD5=[62aa6af11e70f752912c1cb0466f24f7]\n",
       "reverse link E4 to E5--><a href=\"psysml:92e0160d-75a4-4892-b826-902f6ecde3a0\" target=\"_top\" title=\"psysml:92e0160d-75a4-4892-b826-902f6ecde3a0\" xlink:actuate=\"onRequest\" xlink:href=\"psysml:92e0160d-75a4-4892-b826-902f6ecde3a0\" xlink:show=\"new\" xlink:title=\"psysml:92e0160d-75a4-4892-b826-902f6ecde3a0\" xlink:type=\"simple\"><path d=\"M65,100.44 C65,115.87 65,133.47 65,146.98 \" fill=\"none\" id=\"E4&lt;-E5\" style=\"stroke: #383838; stroke-width: 1.0;\"/><polygon fill=\"#383838\" points=\"65,87.06,61,93.06,65,99.06,69,93.06,65,87.06\" style=\"stroke: #383838; stroke-width: 1.0;\"/></a><!--MD5=[eb6aca40a2d92ea69f141038b4a768d8]\n",
       "@startuml\r\n",
       "skinparam monochrome true\r\n",
       "skinparam classbackgroundcolor white\r\n",
       "skinparam shadowing false\r\n",
       "skinparam wrapWidth 300\r\n",
       "hide circle\r\n",
       "\r\n",
       "package \"Q\" as E1  [[psysml:28439c61-0f75-41f9-9e39-c7479ce99829 ]]  {\r\n",
       "comp usage \"f\" as E2  <<(T,blue)part>> [[psysml:ef5bd6a7-9b0c-4f9f-9d58-83550a9f52f0 ]] {\r\n",
       "}\r\n",
       "comp usage \"a\" as E3  <<(T,blue)part>> [[psysml:b70a2483-525b-464a-8d4b-4d166d754785 ]] {\r\n",
       "}\r\n",
       "comp def \"C\" as E4  <<(T,blue)part def>> [[psysml:76b80061-5d22-4116-930d-3b6f4cd610b8 ]] {\r\n",
       "}\r\n",
       "comp usage \"g\" as E5  <<(T,blue)part>> [[psysml:92e0160d-75a4-4892-b826-902f6ecde3a0 ]] {\r\n",
       "}\r\n",
       "E2 *- - E3 [[psysml:b70a2483-525b-464a-8d4b-4d166d754785 ]] \r\n",
       "E4 *- - E5 [[psysml:92e0160d-75a4-4892-b826-902f6ecde3a0 ]] \r\n",
       "}\r\n",
       "@enduml\r\n",
       "\n",
       "PlantUML version 1.2020.13(Sat Jun 13 12:26:38 UTC 2020)\n",
       "(EPL source distribution)\n",
       "Java Runtime: OpenJDK Runtime Environment\n",
       "JVM: OpenJDK 64-Bit Server VM\n",
       "Default Encoding: UTF-8\n",
       "Language: en\n",
       "Country: null\n",
       "--></g></svg>"
      ]
     },
     "execution_count": 42,
     "metadata": {},
     "output_type": "execute_result"
    }
   ],
   "source": [
    "%viz --style=\"DEFAULT\" --view=\"Sequence\" \"Q\""
   ]
  },
  {
   "cell_type": "code",
   "execution_count": 43,
   "id": "dying-consequence",
   "metadata": {
    "execution": {
     "iopub.execute_input": "2021-03-25T13:42:11.018035Z",
     "iopub.status.busy": "2021-03-25T13:42:11.017600Z",
     "iopub.status.idle": "2021-03-25T13:42:11.068478Z",
     "shell.execute_reply": "2021-03-25T13:42:11.067098Z"
    }
   },
   "outputs": [
    {
     "data": {
      "image/svg+xml": [
       "<?xml version=\"1.0\" encoding=\"UTF-8\" standalone=\"no\"?><svg xmlns=\"http://www.w3.org/2000/svg\" xmlns:xlink=\"http://www.w3.org/1999/xlink\" contentScriptType=\"application/ecmascript\" contentStyleType=\"text/css\" height=\"221px\" preserveAspectRatio=\"none\" style=\"width:213px;height:221px;\" version=\"1.1\" viewBox=\"0 0 213 221\" width=\"213px\" zoomAndPan=\"magnify\"><defs/><g><!--MD5=[fbc87193dbaf4d95561dea2c320d4a47]\n",
       "cluster E1--><a href=\"psysml:28439c61-0f75-41f9-9e39-c7479ce99829\" target=\"_top\" title=\"psysml:28439c61-0f75-41f9-9e39-c7479ce99829\" xlink:actuate=\"onRequest\" xlink:href=\"psysml:28439c61-0f75-41f9-9e39-c7479ce99829\" xlink:show=\"new\" xlink:title=\"psysml:28439c61-0f75-41f9-9e39-c7479ce99829\" xlink:type=\"simple\"><polygon fill=\"#FFFFFF\" points=\"16,6,34,6,41,28.2969,191,28.2969,191,209,16,209,16,6\" style=\"stroke: #000000; stroke-width: 1.5;\"/><line style=\"stroke: #000000; stroke-width: 1.5;\" x1=\"16\" x2=\"41\" y1=\"28.2969\" y2=\"28.2969\"/><text fill=\"#000000\" font-family=\"sans-serif\" font-size=\"14\" font-weight=\"bold\" lengthAdjust=\"spacingAndGlyphs\" textLength=\"12\" x=\"20\" y=\"20.9951\">Q</text></a><!--MD5=[b4997ac47864f28c2f74865a473b2911]\n",
       "class E2--><a href=\"psysml:ef5bd6a7-9b0c-4f9f-9d58-83550a9f52f0\" target=\"_top\" title=\"psysml:ef5bd6a7-9b0c-4f9f-9d58-83550a9f52f0\" xlink:actuate=\"onRequest\" xlink:href=\"psysml:ef5bd6a7-9b0c-4f9f-9d58-83550a9f52f0\" xlink:show=\"new\" xlink:title=\"psysml:ef5bd6a7-9b0c-4f9f-9d58-83550a9f52f0\" xlink:type=\"simple\"><rect fill=\"#FFFFFF\" height=\"45.9375\" id=\"E2\" rx=\"10\" ry=\"10\" style=\"stroke: #383838; stroke-width: 1.5;\" width=\"42\" x=\"133\" y=\"41\"/><text fill=\"#000000\" font-family=\"sans-serif\" font-size=\"12\" font-style=\"italic\" lengthAdjust=\"spacingAndGlyphs\" textLength=\"40\" x=\"134\" y=\"57.1387\">«part»</text><text fill=\"#000000\" font-family=\"sans-serif\" font-size=\"12\" lengthAdjust=\"spacingAndGlyphs\" textLength=\"4\" x=\"152\" y=\"71.1074\">f</text><line style=\"stroke: #383838; stroke-width: 1.5;\" x1=\"134\" x2=\"174\" y1=\"78.9375\" y2=\"78.9375\"/></a><!--MD5=[09b614a08d8cba4a07c9adeb5e0fee81]\n",
       "class E3--><a href=\"psysml:b70a2483-525b-464a-8d4b-4d166d754785\" target=\"_top\" title=\"psysml:b70a2483-525b-464a-8d4b-4d166d754785\" xlink:actuate=\"onRequest\" xlink:href=\"psysml:b70a2483-525b-464a-8d4b-4d166d754785\" xlink:show=\"new\" xlink:title=\"psysml:b70a2483-525b-464a-8d4b-4d166d754785\" xlink:type=\"simple\"><rect fill=\"#FFFFFF\" height=\"45.9375\" id=\"E3\" rx=\"10\" ry=\"10\" style=\"stroke: #383838; stroke-width: 1.5;\" width=\"42\" x=\"133\" y=\"147\"/><text fill=\"#000000\" font-family=\"sans-serif\" font-size=\"12\" font-style=\"italic\" lengthAdjust=\"spacingAndGlyphs\" textLength=\"40\" x=\"134\" y=\"163.1387\">«part»</text><text fill=\"#000000\" font-family=\"sans-serif\" font-size=\"12\" lengthAdjust=\"spacingAndGlyphs\" textLength=\"8\" x=\"150\" y=\"177.1074\">a</text><line style=\"stroke: #383838; stroke-width: 1.5;\" x1=\"134\" x2=\"174\" y1=\"184.9375\" y2=\"184.9375\"/></a><!--MD5=[ebbe1d658d1005bcc118a6aa81145e00]\n",
       "class E4--><a href=\"psysml:76b80061-5d22-4116-930d-3b6f4cd610b8\" target=\"_top\" title=\"psysml:76b80061-5d22-4116-930d-3b6f4cd610b8\" xlink:actuate=\"onRequest\" xlink:href=\"psysml:76b80061-5d22-4116-930d-3b6f4cd610b8\" xlink:show=\"new\" xlink:title=\"psysml:76b80061-5d22-4116-930d-3b6f4cd610b8\" xlink:type=\"simple\"><rect fill=\"#FFFFFF\" height=\"45.9375\" id=\"E4\" style=\"stroke: #383838; stroke-width: 1.5;\" width=\"66\" x=\"32\" y=\"41\"/><text fill=\"#000000\" font-family=\"sans-serif\" font-size=\"12\" font-style=\"italic\" lengthAdjust=\"spacingAndGlyphs\" textLength=\"64\" x=\"33\" y=\"57.1387\">«part def»</text><text fill=\"#000000\" font-family=\"sans-serif\" font-size=\"12\" lengthAdjust=\"spacingAndGlyphs\" textLength=\"8\" x=\"61\" y=\"71.1074\">C</text><line style=\"stroke: #383838; stroke-width: 1.5;\" x1=\"33\" x2=\"97\" y1=\"78.9375\" y2=\"78.9375\"/></a><!--MD5=[270fce915f116d4de14055a7c1d9a0f3]\n",
       "class E5--><a href=\"psysml:92e0160d-75a4-4892-b826-902f6ecde3a0\" target=\"_top\" title=\"psysml:92e0160d-75a4-4892-b826-902f6ecde3a0\" xlink:actuate=\"onRequest\" xlink:href=\"psysml:92e0160d-75a4-4892-b826-902f6ecde3a0\" xlink:show=\"new\" xlink:title=\"psysml:92e0160d-75a4-4892-b826-902f6ecde3a0\" xlink:type=\"simple\"><rect fill=\"#FFFFFF\" height=\"45.9375\" id=\"E5\" rx=\"10\" ry=\"10\" style=\"stroke: #383838; stroke-width: 1.5;\" width=\"42\" x=\"44\" y=\"147\"/><text fill=\"#000000\" font-family=\"sans-serif\" font-size=\"12\" font-style=\"italic\" lengthAdjust=\"spacingAndGlyphs\" textLength=\"40\" x=\"45\" y=\"163.1387\">«part»</text><text fill=\"#000000\" font-family=\"sans-serif\" font-size=\"12\" lengthAdjust=\"spacingAndGlyphs\" textLength=\"8\" x=\"61\" y=\"177.1074\">g</text><line style=\"stroke: #383838; stroke-width: 1.5;\" x1=\"45\" x2=\"85\" y1=\"184.9375\" y2=\"184.9375\"/></a><!--MD5=[209b3feb70ccb6233bfe1053d122c12c]\n",
       "reverse link E2 to E3--><a href=\"psysml:b70a2483-525b-464a-8d4b-4d166d754785\" target=\"_top\" title=\"psysml:b70a2483-525b-464a-8d4b-4d166d754785\" xlink:actuate=\"onRequest\" xlink:href=\"psysml:b70a2483-525b-464a-8d4b-4d166d754785\" xlink:show=\"new\" xlink:title=\"psysml:b70a2483-525b-464a-8d4b-4d166d754785\" xlink:type=\"simple\"><path d=\"M154,100.44 C154,115.87 154,133.47 154,146.98 \" fill=\"none\" id=\"E2&lt;-E3\" style=\"stroke: #383838; stroke-width: 1.0;\"/><polygon fill=\"#383838\" points=\"154,87.06,150,93.06,154,99.06,158,93.06,154,87.06\" style=\"stroke: #383838; stroke-width: 1.0;\"/></a><!--MD5=[62aa6af11e70f752912c1cb0466f24f7]\n",
       "reverse link E4 to E5--><a href=\"psysml:92e0160d-75a4-4892-b826-902f6ecde3a0\" target=\"_top\" title=\"psysml:92e0160d-75a4-4892-b826-902f6ecde3a0\" xlink:actuate=\"onRequest\" xlink:href=\"psysml:92e0160d-75a4-4892-b826-902f6ecde3a0\" xlink:show=\"new\" xlink:title=\"psysml:92e0160d-75a4-4892-b826-902f6ecde3a0\" xlink:type=\"simple\"><path d=\"M65,100.44 C65,115.87 65,133.47 65,146.98 \" fill=\"none\" id=\"E4&lt;-E5\" style=\"stroke: #383838; stroke-width: 1.0;\"/><polygon fill=\"#383838\" points=\"65,87.06,61,93.06,65,99.06,69,93.06,65,87.06\" style=\"stroke: #383838; stroke-width: 1.0;\"/></a><!--MD5=[eb6aca40a2d92ea69f141038b4a768d8]\n",
       "@startuml\r\n",
       "skinparam monochrome true\r\n",
       "skinparam classbackgroundcolor white\r\n",
       "skinparam shadowing false\r\n",
       "skinparam wrapWidth 300\r\n",
       "hide circle\r\n",
       "\r\n",
       "package \"Q\" as E1  [[psysml:28439c61-0f75-41f9-9e39-c7479ce99829 ]]  {\r\n",
       "comp usage \"f\" as E2  <<(T,blue)part>> [[psysml:ef5bd6a7-9b0c-4f9f-9d58-83550a9f52f0 ]] {\r\n",
       "}\r\n",
       "comp usage \"a\" as E3  <<(T,blue)part>> [[psysml:b70a2483-525b-464a-8d4b-4d166d754785 ]] {\r\n",
       "}\r\n",
       "comp def \"C\" as E4  <<(T,blue)part def>> [[psysml:76b80061-5d22-4116-930d-3b6f4cd610b8 ]] {\r\n",
       "}\r\n",
       "comp usage \"g\" as E5  <<(T,blue)part>> [[psysml:92e0160d-75a4-4892-b826-902f6ecde3a0 ]] {\r\n",
       "}\r\n",
       "E2 *- - E3 [[psysml:b70a2483-525b-464a-8d4b-4d166d754785 ]] \r\n",
       "E4 *- - E5 [[psysml:92e0160d-75a4-4892-b826-902f6ecde3a0 ]] \r\n",
       "}\r\n",
       "@enduml\r\n",
       "\n",
       "PlantUML version 1.2020.13(Sat Jun 13 12:26:38 UTC 2020)\n",
       "(EPL source distribution)\n",
       "Java Runtime: OpenJDK Runtime Environment\n",
       "JVM: OpenJDK 64-Bit Server VM\n",
       "Default Encoding: UTF-8\n",
       "Language: en\n",
       "Country: null\n",
       "--></g></svg>"
      ]
     },
     "execution_count": 43,
     "metadata": {},
     "output_type": "execute_result"
    }
   ],
   "source": [
    "%viz --style=\"DEFAULT\" --view=\"MIXED\" \"Q\""
   ]
  },
  {
   "cell_type": "code",
   "execution_count": 44,
   "id": "widespread-percentage",
   "metadata": {
    "execution": {
     "iopub.execute_input": "2021-03-25T13:42:11.120254Z",
     "iopub.status.busy": "2021-03-25T13:42:11.119455Z",
     "iopub.status.idle": "2021-03-25T13:42:11.171699Z",
     "shell.execute_reply": "2021-03-25T13:42:11.170314Z"
    }
   },
   "outputs": [
    {
     "data": {
      "image/svg+xml": [
       "<?xml version=\"1.0\" encoding=\"UTF-8\" standalone=\"no\"?><svg xmlns=\"http://www.w3.org/2000/svg\" xmlns:xlink=\"http://www.w3.org/1999/xlink\" contentScriptType=\"application/ecmascript\" contentStyleType=\"text/css\" height=\"221px\" preserveAspectRatio=\"none\" style=\"width:213px;height:221px;\" version=\"1.1\" viewBox=\"0 0 213 221\" width=\"213px\" zoomAndPan=\"magnify\"><defs/><g><!--MD5=[fbc87193dbaf4d95561dea2c320d4a47]\n",
       "cluster E1--><a href=\"psysml:28439c61-0f75-41f9-9e39-c7479ce99829\" target=\"_top\" title=\"psysml:28439c61-0f75-41f9-9e39-c7479ce99829\" xlink:actuate=\"onRequest\" xlink:href=\"psysml:28439c61-0f75-41f9-9e39-c7479ce99829\" xlink:show=\"new\" xlink:title=\"psysml:28439c61-0f75-41f9-9e39-c7479ce99829\" xlink:type=\"simple\"><polygon fill=\"#FFFFFF\" points=\"16,6,34,6,41,28.2969,191,28.2969,191,209,16,209,16,6\" style=\"stroke: #000000; stroke-width: 1.5;\"/><line style=\"stroke: #000000; stroke-width: 1.5;\" x1=\"16\" x2=\"41\" y1=\"28.2969\" y2=\"28.2969\"/><text fill=\"#000000\" font-family=\"sans-serif\" font-size=\"14\" font-weight=\"bold\" lengthAdjust=\"spacingAndGlyphs\" textLength=\"12\" x=\"20\" y=\"20.9951\">Q</text></a><!--MD5=[b4997ac47864f28c2f74865a473b2911]\n",
       "class E2--><a href=\"psysml:ef5bd6a7-9b0c-4f9f-9d58-83550a9f52f0\" target=\"_top\" title=\"psysml:ef5bd6a7-9b0c-4f9f-9d58-83550a9f52f0\" xlink:actuate=\"onRequest\" xlink:href=\"psysml:ef5bd6a7-9b0c-4f9f-9d58-83550a9f52f0\" xlink:show=\"new\" xlink:title=\"psysml:ef5bd6a7-9b0c-4f9f-9d58-83550a9f52f0\" xlink:type=\"simple\"><rect fill=\"#FFFFFF\" height=\"45.9375\" id=\"E2\" rx=\"10\" ry=\"10\" style=\"stroke: #383838; stroke-width: 1.5;\" width=\"42\" x=\"133\" y=\"41\"/><text fill=\"#000000\" font-family=\"sans-serif\" font-size=\"12\" font-style=\"italic\" lengthAdjust=\"spacingAndGlyphs\" textLength=\"40\" x=\"134\" y=\"57.1387\">«part»</text><text fill=\"#000000\" font-family=\"sans-serif\" font-size=\"12\" lengthAdjust=\"spacingAndGlyphs\" textLength=\"4\" x=\"152\" y=\"71.1074\">f</text><line style=\"stroke: #383838; stroke-width: 1.5;\" x1=\"134\" x2=\"174\" y1=\"78.9375\" y2=\"78.9375\"/></a><!--MD5=[09b614a08d8cba4a07c9adeb5e0fee81]\n",
       "class E3--><a href=\"psysml:b70a2483-525b-464a-8d4b-4d166d754785\" target=\"_top\" title=\"psysml:b70a2483-525b-464a-8d4b-4d166d754785\" xlink:actuate=\"onRequest\" xlink:href=\"psysml:b70a2483-525b-464a-8d4b-4d166d754785\" xlink:show=\"new\" xlink:title=\"psysml:b70a2483-525b-464a-8d4b-4d166d754785\" xlink:type=\"simple\"><rect fill=\"#FFFFFF\" height=\"45.9375\" id=\"E3\" rx=\"10\" ry=\"10\" style=\"stroke: #383838; stroke-width: 1.5;\" width=\"42\" x=\"133\" y=\"147\"/><text fill=\"#000000\" font-family=\"sans-serif\" font-size=\"12\" font-style=\"italic\" lengthAdjust=\"spacingAndGlyphs\" textLength=\"40\" x=\"134\" y=\"163.1387\">«part»</text><text fill=\"#000000\" font-family=\"sans-serif\" font-size=\"12\" lengthAdjust=\"spacingAndGlyphs\" textLength=\"8\" x=\"150\" y=\"177.1074\">a</text><line style=\"stroke: #383838; stroke-width: 1.5;\" x1=\"134\" x2=\"174\" y1=\"184.9375\" y2=\"184.9375\"/></a><!--MD5=[ebbe1d658d1005bcc118a6aa81145e00]\n",
       "class E4--><a href=\"psysml:76b80061-5d22-4116-930d-3b6f4cd610b8\" target=\"_top\" title=\"psysml:76b80061-5d22-4116-930d-3b6f4cd610b8\" xlink:actuate=\"onRequest\" xlink:href=\"psysml:76b80061-5d22-4116-930d-3b6f4cd610b8\" xlink:show=\"new\" xlink:title=\"psysml:76b80061-5d22-4116-930d-3b6f4cd610b8\" xlink:type=\"simple\"><rect fill=\"#FFFFFF\" height=\"45.9375\" id=\"E4\" style=\"stroke: #383838; stroke-width: 1.5;\" width=\"66\" x=\"32\" y=\"41\"/><text fill=\"#000000\" font-family=\"sans-serif\" font-size=\"12\" font-style=\"italic\" lengthAdjust=\"spacingAndGlyphs\" textLength=\"64\" x=\"33\" y=\"57.1387\">«part def»</text><text fill=\"#000000\" font-family=\"sans-serif\" font-size=\"12\" lengthAdjust=\"spacingAndGlyphs\" textLength=\"8\" x=\"61\" y=\"71.1074\">C</text><line style=\"stroke: #383838; stroke-width: 1.5;\" x1=\"33\" x2=\"97\" y1=\"78.9375\" y2=\"78.9375\"/></a><!--MD5=[270fce915f116d4de14055a7c1d9a0f3]\n",
       "class E5--><a href=\"psysml:92e0160d-75a4-4892-b826-902f6ecde3a0\" target=\"_top\" title=\"psysml:92e0160d-75a4-4892-b826-902f6ecde3a0\" xlink:actuate=\"onRequest\" xlink:href=\"psysml:92e0160d-75a4-4892-b826-902f6ecde3a0\" xlink:show=\"new\" xlink:title=\"psysml:92e0160d-75a4-4892-b826-902f6ecde3a0\" xlink:type=\"simple\"><rect fill=\"#FFFFFF\" height=\"45.9375\" id=\"E5\" rx=\"10\" ry=\"10\" style=\"stroke: #383838; stroke-width: 1.5;\" width=\"42\" x=\"44\" y=\"147\"/><text fill=\"#000000\" font-family=\"sans-serif\" font-size=\"12\" font-style=\"italic\" lengthAdjust=\"spacingAndGlyphs\" textLength=\"40\" x=\"45\" y=\"163.1387\">«part»</text><text fill=\"#000000\" font-family=\"sans-serif\" font-size=\"12\" lengthAdjust=\"spacingAndGlyphs\" textLength=\"8\" x=\"61\" y=\"177.1074\">g</text><line style=\"stroke: #383838; stroke-width: 1.5;\" x1=\"45\" x2=\"85\" y1=\"184.9375\" y2=\"184.9375\"/></a><!--MD5=[209b3feb70ccb6233bfe1053d122c12c]\n",
       "reverse link E2 to E3--><a href=\"psysml:b70a2483-525b-464a-8d4b-4d166d754785\" target=\"_top\" title=\"psysml:b70a2483-525b-464a-8d4b-4d166d754785\" xlink:actuate=\"onRequest\" xlink:href=\"psysml:b70a2483-525b-464a-8d4b-4d166d754785\" xlink:show=\"new\" xlink:title=\"psysml:b70a2483-525b-464a-8d4b-4d166d754785\" xlink:type=\"simple\"><path d=\"M154,100.44 C154,115.87 154,133.47 154,146.98 \" fill=\"none\" id=\"E2&lt;-E3\" style=\"stroke: #383838; stroke-width: 1.0;\"/><polygon fill=\"#383838\" points=\"154,87.06,150,93.06,154,99.06,158,93.06,154,87.06\" style=\"stroke: #383838; stroke-width: 1.0;\"/></a><!--MD5=[62aa6af11e70f752912c1cb0466f24f7]\n",
       "reverse link E4 to E5--><a href=\"psysml:92e0160d-75a4-4892-b826-902f6ecde3a0\" target=\"_top\" title=\"psysml:92e0160d-75a4-4892-b826-902f6ecde3a0\" xlink:actuate=\"onRequest\" xlink:href=\"psysml:92e0160d-75a4-4892-b826-902f6ecde3a0\" xlink:show=\"new\" xlink:title=\"psysml:92e0160d-75a4-4892-b826-902f6ecde3a0\" xlink:type=\"simple\"><path d=\"M65,100.44 C65,115.87 65,133.47 65,146.98 \" fill=\"none\" id=\"E4&lt;-E5\" style=\"stroke: #383838; stroke-width: 1.0;\"/><polygon fill=\"#383838\" points=\"65,87.06,61,93.06,65,99.06,69,93.06,65,87.06\" style=\"stroke: #383838; stroke-width: 1.0;\"/></a><!--MD5=[3b2c0f901874b9129faa9cd57d59bdd6]\n",
       "@startuml\r\n",
       "top to bottom direction\r\n",
       "skinparam monochrome true\r\n",
       "skinparam classbackgroundcolor white\r\n",
       "skinparam shadowing false\r\n",
       "skinparam wrapWidth 300\r\n",
       "hide circle\r\n",
       "\r\n",
       "package \"Q\" as E1  [[psysml:28439c61-0f75-41f9-9e39-c7479ce99829 ]]  {\r\n",
       "comp usage \"f\" as E2  <<(T,blue)part>> [[psysml:ef5bd6a7-9b0c-4f9f-9d58-83550a9f52f0 ]] {\r\n",
       "}\r\n",
       "comp usage \"a\" as E3  <<(T,blue)part>> [[psysml:b70a2483-525b-464a-8d4b-4d166d754785 ]] {\r\n",
       "}\r\n",
       "comp def \"C\" as E4  <<(T,blue)part def>> [[psysml:76b80061-5d22-4116-930d-3b6f4cd610b8 ]] {\r\n",
       "}\r\n",
       "comp usage \"g\" as E5  <<(T,blue)part>> [[psysml:92e0160d-75a4-4892-b826-902f6ecde3a0 ]] {\r\n",
       "}\r\n",
       "E2 *- - E3 [[psysml:b70a2483-525b-464a-8d4b-4d166d754785 ]] \r\n",
       "E4 *- - E5 [[psysml:92e0160d-75a4-4892-b826-902f6ecde3a0 ]] \r\n",
       "}\r\n",
       "@enduml\r\n",
       "\n",
       "PlantUML version 1.2020.13(Sat Jun 13 12:26:38 UTC 2020)\n",
       "(EPL source distribution)\n",
       "Java Runtime: OpenJDK Runtime Environment\n",
       "JVM: OpenJDK 64-Bit Server VM\n",
       "Default Encoding: UTF-8\n",
       "Language: en\n",
       "Country: null\n",
       "--></g></svg>"
      ]
     },
     "execution_count": 44,
     "metadata": {},
     "output_type": "execute_result"
    }
   ],
   "source": [
    "%viz --style=\"TB\" --view=\"Default\" \"Q\""
   ]
  },
  {
   "cell_type": "code",
   "execution_count": 45,
   "id": "alert-cassette",
   "metadata": {
    "execution": {
     "iopub.execute_input": "2021-03-25T13:42:11.222034Z",
     "iopub.status.busy": "2021-03-25T13:42:11.221494Z",
     "iopub.status.idle": "2021-03-25T13:42:11.270920Z",
     "shell.execute_reply": "2021-03-25T13:42:11.269603Z"
    }
   },
   "outputs": [
    {
     "data": {
      "image/svg+xml": [
       "<?xml version=\"1.0\" encoding=\"UTF-8\" standalone=\"no\"?><svg xmlns=\"http://www.w3.org/2000/svg\" xmlns:xlink=\"http://www.w3.org/1999/xlink\" contentScriptType=\"application/ecmascript\" contentStyleType=\"text/css\" height=\"221px\" preserveAspectRatio=\"none\" style=\"width:213px;height:221px;\" version=\"1.1\" viewBox=\"0 0 213 221\" width=\"213px\" zoomAndPan=\"magnify\"><defs/><g><!--MD5=[fbc87193dbaf4d95561dea2c320d4a47]\n",
       "cluster E1--><a href=\"psysml:28439c61-0f75-41f9-9e39-c7479ce99829\" target=\"_top\" title=\"psysml:28439c61-0f75-41f9-9e39-c7479ce99829\" xlink:actuate=\"onRequest\" xlink:href=\"psysml:28439c61-0f75-41f9-9e39-c7479ce99829\" xlink:show=\"new\" xlink:title=\"psysml:28439c61-0f75-41f9-9e39-c7479ce99829\" xlink:type=\"simple\"><polygon fill=\"#FFFFFF\" points=\"16,6,34,6,41,28.2969,191,28.2969,191,209,16,209,16,6\" style=\"stroke: #000000; stroke-width: 1.5;\"/><line style=\"stroke: #000000; stroke-width: 1.5;\" x1=\"16\" x2=\"41\" y1=\"28.2969\" y2=\"28.2969\"/><text fill=\"#000000\" font-family=\"sans-serif\" font-size=\"14\" font-weight=\"bold\" lengthAdjust=\"spacingAndGlyphs\" textLength=\"12\" x=\"20\" y=\"20.9951\">Q</text></a><!--MD5=[b4997ac47864f28c2f74865a473b2911]\n",
       "class E2--><a href=\"psysml:ef5bd6a7-9b0c-4f9f-9d58-83550a9f52f0\" target=\"_top\" title=\"psysml:ef5bd6a7-9b0c-4f9f-9d58-83550a9f52f0\" xlink:actuate=\"onRequest\" xlink:href=\"psysml:ef5bd6a7-9b0c-4f9f-9d58-83550a9f52f0\" xlink:show=\"new\" xlink:title=\"psysml:ef5bd6a7-9b0c-4f9f-9d58-83550a9f52f0\" xlink:type=\"simple\"><rect fill=\"#FFFFFF\" height=\"45.9375\" id=\"E2\" rx=\"10\" ry=\"10\" style=\"stroke: #383838; stroke-width: 1.5;\" width=\"42\" x=\"133\" y=\"41\"/><text fill=\"#000000\" font-family=\"sans-serif\" font-size=\"12\" font-style=\"italic\" lengthAdjust=\"spacingAndGlyphs\" textLength=\"40\" x=\"134\" y=\"57.1387\">«part»</text><text fill=\"#000000\" font-family=\"sans-serif\" font-size=\"12\" lengthAdjust=\"spacingAndGlyphs\" textLength=\"4\" x=\"152\" y=\"71.1074\">f</text><line style=\"stroke: #383838; stroke-width: 1.5;\" x1=\"134\" x2=\"174\" y1=\"78.9375\" y2=\"78.9375\"/></a><!--MD5=[09b614a08d8cba4a07c9adeb5e0fee81]\n",
       "class E3--><a href=\"psysml:b70a2483-525b-464a-8d4b-4d166d754785\" target=\"_top\" title=\"psysml:b70a2483-525b-464a-8d4b-4d166d754785\" xlink:actuate=\"onRequest\" xlink:href=\"psysml:b70a2483-525b-464a-8d4b-4d166d754785\" xlink:show=\"new\" xlink:title=\"psysml:b70a2483-525b-464a-8d4b-4d166d754785\" xlink:type=\"simple\"><rect fill=\"#FFFFFF\" height=\"45.9375\" id=\"E3\" rx=\"10\" ry=\"10\" style=\"stroke: #383838; stroke-width: 1.5;\" width=\"42\" x=\"133\" y=\"147\"/><text fill=\"#000000\" font-family=\"sans-serif\" font-size=\"12\" font-style=\"italic\" lengthAdjust=\"spacingAndGlyphs\" textLength=\"40\" x=\"134\" y=\"163.1387\">«part»</text><text fill=\"#000000\" font-family=\"sans-serif\" font-size=\"12\" lengthAdjust=\"spacingAndGlyphs\" textLength=\"8\" x=\"150\" y=\"177.1074\">a</text><line style=\"stroke: #383838; stroke-width: 1.5;\" x1=\"134\" x2=\"174\" y1=\"184.9375\" y2=\"184.9375\"/></a><!--MD5=[ebbe1d658d1005bcc118a6aa81145e00]\n",
       "class E4--><a href=\"psysml:76b80061-5d22-4116-930d-3b6f4cd610b8\" target=\"_top\" title=\"psysml:76b80061-5d22-4116-930d-3b6f4cd610b8\" xlink:actuate=\"onRequest\" xlink:href=\"psysml:76b80061-5d22-4116-930d-3b6f4cd610b8\" xlink:show=\"new\" xlink:title=\"psysml:76b80061-5d22-4116-930d-3b6f4cd610b8\" xlink:type=\"simple\"><rect fill=\"#FFFFFF\" height=\"45.9375\" id=\"E4\" style=\"stroke: #383838; stroke-width: 1.5;\" width=\"66\" x=\"32\" y=\"41\"/><text fill=\"#000000\" font-family=\"sans-serif\" font-size=\"12\" font-style=\"italic\" lengthAdjust=\"spacingAndGlyphs\" textLength=\"64\" x=\"33\" y=\"57.1387\">«part def»</text><text fill=\"#000000\" font-family=\"sans-serif\" font-size=\"12\" lengthAdjust=\"spacingAndGlyphs\" textLength=\"8\" x=\"61\" y=\"71.1074\">C</text><line style=\"stroke: #383838; stroke-width: 1.5;\" x1=\"33\" x2=\"97\" y1=\"78.9375\" y2=\"78.9375\"/></a><!--MD5=[270fce915f116d4de14055a7c1d9a0f3]\n",
       "class E5--><a href=\"psysml:92e0160d-75a4-4892-b826-902f6ecde3a0\" target=\"_top\" title=\"psysml:92e0160d-75a4-4892-b826-902f6ecde3a0\" xlink:actuate=\"onRequest\" xlink:href=\"psysml:92e0160d-75a4-4892-b826-902f6ecde3a0\" xlink:show=\"new\" xlink:title=\"psysml:92e0160d-75a4-4892-b826-902f6ecde3a0\" xlink:type=\"simple\"><rect fill=\"#FFFFFF\" height=\"45.9375\" id=\"E5\" rx=\"10\" ry=\"10\" style=\"stroke: #383838; stroke-width: 1.5;\" width=\"42\" x=\"44\" y=\"147\"/><text fill=\"#000000\" font-family=\"sans-serif\" font-size=\"12\" font-style=\"italic\" lengthAdjust=\"spacingAndGlyphs\" textLength=\"40\" x=\"45\" y=\"163.1387\">«part»</text><text fill=\"#000000\" font-family=\"sans-serif\" font-size=\"12\" lengthAdjust=\"spacingAndGlyphs\" textLength=\"8\" x=\"61\" y=\"177.1074\">g</text><line style=\"stroke: #383838; stroke-width: 1.5;\" x1=\"45\" x2=\"85\" y1=\"184.9375\" y2=\"184.9375\"/></a><!--MD5=[209b3feb70ccb6233bfe1053d122c12c]\n",
       "reverse link E2 to E3--><a href=\"psysml:b70a2483-525b-464a-8d4b-4d166d754785\" target=\"_top\" title=\"psysml:b70a2483-525b-464a-8d4b-4d166d754785\" xlink:actuate=\"onRequest\" xlink:href=\"psysml:b70a2483-525b-464a-8d4b-4d166d754785\" xlink:show=\"new\" xlink:title=\"psysml:b70a2483-525b-464a-8d4b-4d166d754785\" xlink:type=\"simple\"><path d=\"M154,100.44 C154,115.87 154,133.47 154,146.98 \" fill=\"none\" id=\"E2&lt;-E3\" style=\"stroke: #383838; stroke-width: 1.0;\"/><polygon fill=\"#383838\" points=\"154,87.06,150,93.06,154,99.06,158,93.06,154,87.06\" style=\"stroke: #383838; stroke-width: 1.0;\"/></a><!--MD5=[62aa6af11e70f752912c1cb0466f24f7]\n",
       "reverse link E4 to E5--><a href=\"psysml:92e0160d-75a4-4892-b826-902f6ecde3a0\" target=\"_top\" title=\"psysml:92e0160d-75a4-4892-b826-902f6ecde3a0\" xlink:actuate=\"onRequest\" xlink:href=\"psysml:92e0160d-75a4-4892-b826-902f6ecde3a0\" xlink:show=\"new\" xlink:title=\"psysml:92e0160d-75a4-4892-b826-902f6ecde3a0\" xlink:type=\"simple\"><path d=\"M65,100.44 C65,115.87 65,133.47 65,146.98 \" fill=\"none\" id=\"E4&lt;-E5\" style=\"stroke: #383838; stroke-width: 1.0;\"/><polygon fill=\"#383838\" points=\"65,87.06,61,93.06,65,99.06,69,93.06,65,87.06\" style=\"stroke: #383838; stroke-width: 1.0;\"/></a><!--MD5=[3b2c0f901874b9129faa9cd57d59bdd6]\n",
       "@startuml\r\n",
       "top to bottom direction\r\n",
       "skinparam monochrome true\r\n",
       "skinparam classbackgroundcolor white\r\n",
       "skinparam shadowing false\r\n",
       "skinparam wrapWidth 300\r\n",
       "hide circle\r\n",
       "\r\n",
       "package \"Q\" as E1  [[psysml:28439c61-0f75-41f9-9e39-c7479ce99829 ]]  {\r\n",
       "comp usage \"f\" as E2  <<(T,blue)part>> [[psysml:ef5bd6a7-9b0c-4f9f-9d58-83550a9f52f0 ]] {\r\n",
       "}\r\n",
       "comp usage \"a\" as E3  <<(T,blue)part>> [[psysml:b70a2483-525b-464a-8d4b-4d166d754785 ]] {\r\n",
       "}\r\n",
       "comp def \"C\" as E4  <<(T,blue)part def>> [[psysml:76b80061-5d22-4116-930d-3b6f4cd610b8 ]] {\r\n",
       "}\r\n",
       "comp usage \"g\" as E5  <<(T,blue)part>> [[psysml:92e0160d-75a4-4892-b826-902f6ecde3a0 ]] {\r\n",
       "}\r\n",
       "E2 *- - E3 [[psysml:b70a2483-525b-464a-8d4b-4d166d754785 ]] \r\n",
       "E4 *- - E5 [[psysml:92e0160d-75a4-4892-b826-902f6ecde3a0 ]] \r\n",
       "}\r\n",
       "@enduml\r\n",
       "\n",
       "PlantUML version 1.2020.13(Sat Jun 13 12:26:38 UTC 2020)\n",
       "(EPL source distribution)\n",
       "Java Runtime: OpenJDK Runtime Environment\n",
       "JVM: OpenJDK 64-Bit Server VM\n",
       "Default Encoding: UTF-8\n",
       "Language: en\n",
       "Country: null\n",
       "--></g></svg>"
      ]
     },
     "execution_count": 45,
     "metadata": {},
     "output_type": "execute_result"
    }
   ],
   "source": [
    "%viz --style=\"TB\" --view=\"Tree\" \"Q\""
   ]
  },
  {
   "cell_type": "code",
   "execution_count": 46,
   "id": "anonymous-seven",
   "metadata": {
    "execution": {
     "iopub.execute_input": "2021-03-25T13:42:11.322187Z",
     "iopub.status.busy": "2021-03-25T13:42:11.321609Z",
     "iopub.status.idle": "2021-03-25T13:42:11.328786Z",
     "shell.execute_reply": "2021-03-25T13:42:11.328423Z"
    }
   },
   "outputs": [
    {
     "data": {
      "image/svg+xml": [
       "<?xml version=\"1.0\" encoding=\"UTF-8\" standalone=\"no\"?><svg xmlns=\"http://www.w3.org/2000/svg\" xmlns:xlink=\"http://www.w3.org/1999/xlink\" contentScriptType=\"application/ecmascript\" contentStyleType=\"text/css\" height=\"12px\" preserveAspectRatio=\"none\" style=\"width:12px;height:12px;\" version=\"1.1\" viewBox=\"0 0 12 12\" width=\"12px\" zoomAndPan=\"magnify\"><defs/><g><!--MD5=[f4ee21bc66e489b5061b7c3e9601fdef]\n",
       "@startuml\r\n",
       "top to bottom direction\r\n",
       "skinparam monochrome true\r\n",
       "skinparam classbackgroundcolor white\r\n",
       "skinparam shadowing false\r\n",
       "skinparam wrapWidth 300\r\n",
       "hide circle\r\n",
       "\r\n",
       "@enduml\r\n",
       "\n",
       "PlantUML version 1.2020.13(Sat Jun 13 12:26:38 UTC 2020)\n",
       "(EPL source distribution)\n",
       "Java Runtime: OpenJDK Runtime Environment\n",
       "JVM: OpenJDK 64-Bit Server VM\n",
       "Default Encoding: UTF-8\n",
       "Language: en\n",
       "Country: null\n",
       "--></g></svg>"
      ]
     },
     "execution_count": 46,
     "metadata": {},
     "output_type": "execute_result"
    }
   ],
   "source": [
    "%viz --style=\"TB\" --view=\"State\" \"Q\""
   ]
  },
  {
   "cell_type": "code",
   "execution_count": 47,
   "id": "neutral-fever",
   "metadata": {
    "execution": {
     "iopub.execute_input": "2021-03-25T13:42:11.379786Z",
     "iopub.status.busy": "2021-03-25T13:42:11.379347Z",
     "iopub.status.idle": "2021-03-25T13:42:11.442496Z",
     "shell.execute_reply": "2021-03-25T13:42:11.441099Z"
    }
   },
   "outputs": [
    {
     "data": {
      "image/svg+xml": [
       "<?xml version=\"1.0\" encoding=\"UTF-8\" standalone=\"no\"?><svg xmlns=\"http://www.w3.org/2000/svg\" xmlns:xlink=\"http://www.w3.org/1999/xlink\" contentScriptType=\"application/ecmascript\" contentStyleType=\"text/css\" height=\"192px\" preserveAspectRatio=\"none\" style=\"width:279px;height:192px;\" version=\"1.1\" viewBox=\"0 0 279 192\" width=\"279px\" zoomAndPan=\"magnify\"><defs/><g><!--MD5=[fbc87193dbaf4d95561dea2c320d4a47]\n",
       "cluster E1--><a href=\"psysml:28439c61-0f75-41f9-9e39-c7479ce99829\" target=\"_top\" title=\"psysml:28439c61-0f75-41f9-9e39-c7479ce99829\" xlink:actuate=\"onRequest\" xlink:href=\"psysml:28439c61-0f75-41f9-9e39-c7479ce99829\" xlink:show=\"new\" xlink:title=\"psysml:28439c61-0f75-41f9-9e39-c7479ce99829\" xlink:type=\"simple\"><polygon fill=\"#FFFFFF\" points=\"16,6,34,6,41,28.2969,257,28.2969,257,180,16,180,16,6\" style=\"stroke: #000000; stroke-width: 1.5;\"/><line style=\"stroke: #000000; stroke-width: 1.5;\" x1=\"16\" x2=\"41\" y1=\"28.2969\" y2=\"28.2969\"/><text fill=\"#000000\" font-family=\"sans-serif\" font-size=\"14\" font-weight=\"bold\" lengthAdjust=\"spacingAndGlyphs\" textLength=\"12\" x=\"20\" y=\"20.9951\">Q</text></a><!--MD5=[e4f7fae6ed58524ba242bb0b0d3be6b7]\n",
       "cluster E2--><a href=\"psysml:ef5bd6a7-9b0c-4f9f-9d58-83550a9f52f0\" target=\"_top\" title=\"psysml:ef5bd6a7-9b0c-4f9f-9d58-83550a9f52f0\" xlink:actuate=\"onRequest\" xlink:href=\"psysml:ef5bd6a7-9b0c-4f9f-9d58-83550a9f52f0\" xlink:show=\"new\" xlink:title=\"psysml:ef5bd6a7-9b0c-4f9f-9d58-83550a9f52f0\" xlink:type=\"simple\"><rect fill=\"#FFFFFF\" height=\"91\" id=\"E2\" rx=\"10\" ry=\"10\" style=\"stroke: #383838; stroke-width: 1.5;\" width=\"82\" x=\"151\" y=\"65\"/><rect fill=\"#F8F8F8\" height=\"23.9688\" rx=\"10\" ry=\"10\" style=\"stroke: #F8F8F8; stroke-width: 1.5;\" width=\"82\" x=\"151\" y=\"65\"/><rect fill=\"#F8F8F8\" height=\"10\" style=\"stroke: #F8F8F8; stroke-width: 1.5;\" width=\"82\" x=\"151\" y=\"78.9688\"/><rect fill=\"none\" height=\"91\" id=\"E2\" rx=\"10\" ry=\"10\" style=\"stroke: #383838; stroke-width: 1.5;\" width=\"82\" x=\"151\" y=\"65\"/><text fill=\"#000000\" font-family=\"sans-serif\" font-size=\"12\" lengthAdjust=\"spacingAndGlyphs\" textLength=\"4\" x=\"190\" y=\"81.1387\">f</text><line style=\"stroke: #383838; stroke-width: 1.0;\" x1=\"151\" x2=\"233\" y1=\"88.9688\" y2=\"88.9688\"/></a><!--MD5=[f6df4d0ebaf0b5dfb2ced0ae5af7c670]\n",
       "cluster E4--><a href=\"psysml:76b80061-5d22-4116-930d-3b6f4cd610b8\" target=\"_top\" title=\"psysml:76b80061-5d22-4116-930d-3b6f4cd610b8\" xlink:actuate=\"onRequest\" xlink:href=\"psysml:76b80061-5d22-4116-930d-3b6f4cd610b8\" xlink:show=\"new\" xlink:title=\"psysml:76b80061-5d22-4116-930d-3b6f4cd610b8\" xlink:type=\"simple\"><rect fill=\"#FFFFFF\" height=\"107\" id=\"E4\" style=\"stroke: #383838; stroke-width: 1.5;\" width=\"87\" x=\"40\" y=\"49\"/><rect fill=\"#F8F8F8\" height=\"37.9375\" style=\"stroke: #383838; stroke-width: 1.5;\" width=\"87\" x=\"40\" y=\"49\"/><text fill=\"#000000\" font-family=\"sans-serif\" font-size=\"12\" font-style=\"italic\" lengthAdjust=\"spacingAndGlyphs\" textLength=\"64\" x=\"51.5\" y=\"65.1387\">«part def»</text><text fill=\"#000000\" font-family=\"sans-serif\" font-size=\"12\" lengthAdjust=\"spacingAndGlyphs\" textLength=\"8\" x=\"79.5\" y=\"79.1074\">C</text></a><g id=\"E1.E2.E3\"><a href=\"psysml:b70a2483-525b-464a-8d4b-4d166d754785\" target=\"_top\" title=\"psysml:b70a2483-525b-464a-8d4b-4d166d754785\" xlink:actuate=\"onRequest\" xlink:href=\"psysml:b70a2483-525b-464a-8d4b-4d166d754785\" xlink:show=\"new\" xlink:title=\"psysml:b70a2483-525b-464a-8d4b-4d166d754785\" xlink:type=\"simple\"><rect fill=\"#FFFFFF\" height=\"40\" id=\"E3\" rx=\"10\" ry=\"10\" style=\"stroke: #383838; stroke-width: 1.5;\" width=\"50\" x=\"167\" y=\"100\"/><rect fill=\"#F8F8F8\" height=\"23.9688\" rx=\"10\" ry=\"10\" style=\"stroke: #F8F8F8; stroke-width: 1.5;\" width=\"50\" x=\"167\" y=\"100\"/><rect fill=\"#F8F8F8\" height=\"10\" style=\"stroke: #F8F8F8; stroke-width: 1.5;\" width=\"50\" x=\"167\" y=\"113.9688\"/><rect fill=\"none\" height=\"40\" id=\"E3\" rx=\"10\" ry=\"10\" style=\"stroke: #383838; stroke-width: 1.5;\" width=\"50\" x=\"167\" y=\"100\"/><text fill=\"#000000\" font-family=\"sans-serif\" font-size=\"12\" lengthAdjust=\"spacingAndGlyphs\" textLength=\"8\" x=\"188\" y=\"116.1387\">a</text></a></g><g id=\"E1.E4.E5\"><a href=\"psysml:92e0160d-75a4-4892-b826-902f6ecde3a0\" target=\"_top\" title=\"psysml:92e0160d-75a4-4892-b826-902f6ecde3a0\" xlink:actuate=\"onRequest\" xlink:href=\"psysml:92e0160d-75a4-4892-b826-902f6ecde3a0\" xlink:show=\"new\" xlink:title=\"psysml:92e0160d-75a4-4892-b826-902f6ecde3a0\" xlink:type=\"simple\"><rect fill=\"#FFFFFF\" height=\"40\" id=\"E5\" rx=\"10\" ry=\"10\" style=\"stroke: #383838; stroke-width: 1.5;\" width=\"50\" x=\"58\" y=\"100\"/><rect fill=\"#F8F8F8\" height=\"23.9688\" rx=\"10\" ry=\"10\" style=\"stroke: #F8F8F8; stroke-width: 1.5;\" width=\"50\" x=\"58\" y=\"100\"/><rect fill=\"#F8F8F8\" height=\"10\" style=\"stroke: #F8F8F8; stroke-width: 1.5;\" width=\"50\" x=\"58\" y=\"113.9688\"/><rect fill=\"none\" height=\"40\" id=\"E5\" rx=\"10\" ry=\"10\" style=\"stroke: #383838; stroke-width: 1.5;\" width=\"50\" x=\"58\" y=\"100\"/><text fill=\"#000000\" font-family=\"sans-serif\" font-size=\"12\" lengthAdjust=\"spacingAndGlyphs\" textLength=\"8\" x=\"79\" y=\"116.1387\">g</text></a></g><!--MD5=[3fb011d534e6d3c3d7e61ca28dccc195]\n",
       "@startuml\r\n",
       "skinparam ranksep 8\r\n",
       "skinparam rectangle {\r\n",
       " backgroundColor<<block>> LightGreen\r\n",
       "}\r\n",
       "top to bottom direction\r\n",
       "skinparam monochrome true\r\n",
       "skinparam classbackgroundcolor white\r\n",
       "skinparam shadowing false\r\n",
       "skinparam wrapWidth 300\r\n",
       "hide circle\r\n",
       "\r\n",
       "package \"Q\" as E1  [[psysml:28439c61-0f75-41f9-9e39-c7479ce99829 ]]  {\r\n",
       "rec usage \"f\" as E2  [[psysml:ef5bd6a7-9b0c-4f9f-9d58-83550a9f52f0 ]] {\r\n",
       "rec usage \"a\" as E3  [[psysml:b70a2483-525b-464a-8d4b-4d166d754785 ]] {\r\n",
       "}\r\n",
       "}\r\n",
       "rec def \"C\" as E4  <<(T,blue)part def>> [[psysml:76b80061-5d22-4116-930d-3b6f4cd610b8 ]] {\r\n",
       "rec usage \"g\" as E5  [[psysml:92e0160d-75a4-4892-b826-902f6ecde3a0 ]] {\r\n",
       "}\r\n",
       "}\r\n",
       "}\r\n",
       "@enduml\r\n",
       "\n",
       "PlantUML version 1.2020.13(Sat Jun 13 12:26:38 UTC 2020)\n",
       "(EPL source distribution)\n",
       "Java Runtime: OpenJDK Runtime Environment\n",
       "JVM: OpenJDK 64-Bit Server VM\n",
       "Default Encoding: UTF-8\n",
       "Language: en\n",
       "Country: null\n",
       "--></g></svg>"
      ]
     },
     "execution_count": 47,
     "metadata": {},
     "output_type": "execute_result"
    }
   ],
   "source": [
    "%viz --style=\"TB\" --view=\"Interconnection\" \"Q\""
   ]
  },
  {
   "cell_type": "code",
   "execution_count": 48,
   "id": "designing-morgan",
   "metadata": {
    "execution": {
     "iopub.execute_input": "2021-03-25T13:42:11.494554Z",
     "iopub.status.busy": "2021-03-25T13:42:11.493158Z",
     "iopub.status.idle": "2021-03-25T13:42:11.502480Z",
     "shell.execute_reply": "2021-03-25T13:42:11.502135Z"
    }
   },
   "outputs": [
    {
     "data": {
      "image/svg+xml": [
       "<?xml version=\"1.0\" encoding=\"UTF-8\" standalone=\"no\"?><svg xmlns=\"http://www.w3.org/2000/svg\" xmlns:xlink=\"http://www.w3.org/1999/xlink\" contentScriptType=\"application/ecmascript\" contentStyleType=\"text/css\" height=\"12px\" preserveAspectRatio=\"none\" style=\"width:12px;height:12px;\" version=\"1.1\" viewBox=\"0 0 12 12\" width=\"12px\" zoomAndPan=\"magnify\"><defs/><g><!--MD5=[06afc254b03ac5e9d9fb7773b07d0800]\n",
       "@startuml\r\n",
       "skinparam ranksep 8\r\n",
       "top to bottom direction\r\n",
       "skinparam monochrome true\r\n",
       "skinparam classbackgroundcolor white\r\n",
       "skinparam shadowing false\r\n",
       "skinparam wrapWidth 300\r\n",
       "hide circle\r\n",
       "\r\n",
       "@enduml\r\n",
       "\n",
       "PlantUML version 1.2020.13(Sat Jun 13 12:26:38 UTC 2020)\n",
       "(EPL source distribution)\n",
       "Java Runtime: OpenJDK Runtime Environment\n",
       "JVM: OpenJDK 64-Bit Server VM\n",
       "Default Encoding: UTF-8\n",
       "Language: en\n",
       "Country: null\n",
       "--></g></svg>"
      ]
     },
     "execution_count": 48,
     "metadata": {},
     "output_type": "execute_result"
    }
   ],
   "source": [
    "%viz --style=\"TB\" --view=\"Action\" \"Q\""
   ]
  },
  {
   "cell_type": "code",
   "execution_count": 49,
   "id": "right-shirt",
   "metadata": {
    "execution": {
     "iopub.execute_input": "2021-03-25T13:42:11.553537Z",
     "iopub.status.busy": "2021-03-25T13:42:11.552969Z",
     "iopub.status.idle": "2021-03-25T13:42:11.605890Z",
     "shell.execute_reply": "2021-03-25T13:42:11.604310Z"
    }
   },
   "outputs": [
    {
     "data": {
      "image/svg+xml": [
       "<?xml version=\"1.0\" encoding=\"UTF-8\" standalone=\"no\"?><svg xmlns=\"http://www.w3.org/2000/svg\" xmlns:xlink=\"http://www.w3.org/1999/xlink\" contentScriptType=\"application/ecmascript\" contentStyleType=\"text/css\" height=\"221px\" preserveAspectRatio=\"none\" style=\"width:213px;height:221px;\" version=\"1.1\" viewBox=\"0 0 213 221\" width=\"213px\" zoomAndPan=\"magnify\"><defs/><g><!--MD5=[fbc87193dbaf4d95561dea2c320d4a47]\n",
       "cluster E1--><a href=\"psysml:28439c61-0f75-41f9-9e39-c7479ce99829\" target=\"_top\" title=\"psysml:28439c61-0f75-41f9-9e39-c7479ce99829\" xlink:actuate=\"onRequest\" xlink:href=\"psysml:28439c61-0f75-41f9-9e39-c7479ce99829\" xlink:show=\"new\" xlink:title=\"psysml:28439c61-0f75-41f9-9e39-c7479ce99829\" xlink:type=\"simple\"><polygon fill=\"#FFFFFF\" points=\"16,6,34,6,41,28.2969,191,28.2969,191,209,16,209,16,6\" style=\"stroke: #000000; stroke-width: 1.5;\"/><line style=\"stroke: #000000; stroke-width: 1.5;\" x1=\"16\" x2=\"41\" y1=\"28.2969\" y2=\"28.2969\"/><text fill=\"#000000\" font-family=\"sans-serif\" font-size=\"14\" font-weight=\"bold\" lengthAdjust=\"spacingAndGlyphs\" textLength=\"12\" x=\"20\" y=\"20.9951\">Q</text></a><!--MD5=[b4997ac47864f28c2f74865a473b2911]\n",
       "class E2--><a href=\"psysml:ef5bd6a7-9b0c-4f9f-9d58-83550a9f52f0\" target=\"_top\" title=\"psysml:ef5bd6a7-9b0c-4f9f-9d58-83550a9f52f0\" xlink:actuate=\"onRequest\" xlink:href=\"psysml:ef5bd6a7-9b0c-4f9f-9d58-83550a9f52f0\" xlink:show=\"new\" xlink:title=\"psysml:ef5bd6a7-9b0c-4f9f-9d58-83550a9f52f0\" xlink:type=\"simple\"><rect fill=\"#FFFFFF\" height=\"45.9375\" id=\"E2\" rx=\"10\" ry=\"10\" style=\"stroke: #383838; stroke-width: 1.5;\" width=\"42\" x=\"133\" y=\"41\"/><text fill=\"#000000\" font-family=\"sans-serif\" font-size=\"12\" font-style=\"italic\" lengthAdjust=\"spacingAndGlyphs\" textLength=\"40\" x=\"134\" y=\"57.1387\">«part»</text><text fill=\"#000000\" font-family=\"sans-serif\" font-size=\"12\" lengthAdjust=\"spacingAndGlyphs\" textLength=\"4\" x=\"152\" y=\"71.1074\">f</text><line style=\"stroke: #383838; stroke-width: 1.5;\" x1=\"134\" x2=\"174\" y1=\"78.9375\" y2=\"78.9375\"/></a><!--MD5=[09b614a08d8cba4a07c9adeb5e0fee81]\n",
       "class E3--><a href=\"psysml:b70a2483-525b-464a-8d4b-4d166d754785\" target=\"_top\" title=\"psysml:b70a2483-525b-464a-8d4b-4d166d754785\" xlink:actuate=\"onRequest\" xlink:href=\"psysml:b70a2483-525b-464a-8d4b-4d166d754785\" xlink:show=\"new\" xlink:title=\"psysml:b70a2483-525b-464a-8d4b-4d166d754785\" xlink:type=\"simple\"><rect fill=\"#FFFFFF\" height=\"45.9375\" id=\"E3\" rx=\"10\" ry=\"10\" style=\"stroke: #383838; stroke-width: 1.5;\" width=\"42\" x=\"133\" y=\"147\"/><text fill=\"#000000\" font-family=\"sans-serif\" font-size=\"12\" font-style=\"italic\" lengthAdjust=\"spacingAndGlyphs\" textLength=\"40\" x=\"134\" y=\"163.1387\">«part»</text><text fill=\"#000000\" font-family=\"sans-serif\" font-size=\"12\" lengthAdjust=\"spacingAndGlyphs\" textLength=\"8\" x=\"150\" y=\"177.1074\">a</text><line style=\"stroke: #383838; stroke-width: 1.5;\" x1=\"134\" x2=\"174\" y1=\"184.9375\" y2=\"184.9375\"/></a><!--MD5=[ebbe1d658d1005bcc118a6aa81145e00]\n",
       "class E4--><a href=\"psysml:76b80061-5d22-4116-930d-3b6f4cd610b8\" target=\"_top\" title=\"psysml:76b80061-5d22-4116-930d-3b6f4cd610b8\" xlink:actuate=\"onRequest\" xlink:href=\"psysml:76b80061-5d22-4116-930d-3b6f4cd610b8\" xlink:show=\"new\" xlink:title=\"psysml:76b80061-5d22-4116-930d-3b6f4cd610b8\" xlink:type=\"simple\"><rect fill=\"#FFFFFF\" height=\"45.9375\" id=\"E4\" style=\"stroke: #383838; stroke-width: 1.5;\" width=\"66\" x=\"32\" y=\"41\"/><text fill=\"#000000\" font-family=\"sans-serif\" font-size=\"12\" font-style=\"italic\" lengthAdjust=\"spacingAndGlyphs\" textLength=\"64\" x=\"33\" y=\"57.1387\">«part def»</text><text fill=\"#000000\" font-family=\"sans-serif\" font-size=\"12\" lengthAdjust=\"spacingAndGlyphs\" textLength=\"8\" x=\"61\" y=\"71.1074\">C</text><line style=\"stroke: #383838; stroke-width: 1.5;\" x1=\"33\" x2=\"97\" y1=\"78.9375\" y2=\"78.9375\"/></a><!--MD5=[270fce915f116d4de14055a7c1d9a0f3]\n",
       "class E5--><a href=\"psysml:92e0160d-75a4-4892-b826-902f6ecde3a0\" target=\"_top\" title=\"psysml:92e0160d-75a4-4892-b826-902f6ecde3a0\" xlink:actuate=\"onRequest\" xlink:href=\"psysml:92e0160d-75a4-4892-b826-902f6ecde3a0\" xlink:show=\"new\" xlink:title=\"psysml:92e0160d-75a4-4892-b826-902f6ecde3a0\" xlink:type=\"simple\"><rect fill=\"#FFFFFF\" height=\"45.9375\" id=\"E5\" rx=\"10\" ry=\"10\" style=\"stroke: #383838; stroke-width: 1.5;\" width=\"42\" x=\"44\" y=\"147\"/><text fill=\"#000000\" font-family=\"sans-serif\" font-size=\"12\" font-style=\"italic\" lengthAdjust=\"spacingAndGlyphs\" textLength=\"40\" x=\"45\" y=\"163.1387\">«part»</text><text fill=\"#000000\" font-family=\"sans-serif\" font-size=\"12\" lengthAdjust=\"spacingAndGlyphs\" textLength=\"8\" x=\"61\" y=\"177.1074\">g</text><line style=\"stroke: #383838; stroke-width: 1.5;\" x1=\"45\" x2=\"85\" y1=\"184.9375\" y2=\"184.9375\"/></a><!--MD5=[209b3feb70ccb6233bfe1053d122c12c]\n",
       "reverse link E2 to E3--><a href=\"psysml:b70a2483-525b-464a-8d4b-4d166d754785\" target=\"_top\" title=\"psysml:b70a2483-525b-464a-8d4b-4d166d754785\" xlink:actuate=\"onRequest\" xlink:href=\"psysml:b70a2483-525b-464a-8d4b-4d166d754785\" xlink:show=\"new\" xlink:title=\"psysml:b70a2483-525b-464a-8d4b-4d166d754785\" xlink:type=\"simple\"><path d=\"M154,100.44 C154,115.87 154,133.47 154,146.98 \" fill=\"none\" id=\"E2&lt;-E3\" style=\"stroke: #383838; stroke-width: 1.0;\"/><polygon fill=\"#383838\" points=\"154,87.06,150,93.06,154,99.06,158,93.06,154,87.06\" style=\"stroke: #383838; stroke-width: 1.0;\"/></a><!--MD5=[62aa6af11e70f752912c1cb0466f24f7]\n",
       "reverse link E4 to E5--><a href=\"psysml:92e0160d-75a4-4892-b826-902f6ecde3a0\" target=\"_top\" title=\"psysml:92e0160d-75a4-4892-b826-902f6ecde3a0\" xlink:actuate=\"onRequest\" xlink:href=\"psysml:92e0160d-75a4-4892-b826-902f6ecde3a0\" xlink:show=\"new\" xlink:title=\"psysml:92e0160d-75a4-4892-b826-902f6ecde3a0\" xlink:type=\"simple\"><path d=\"M65,100.44 C65,115.87 65,133.47 65,146.98 \" fill=\"none\" id=\"E4&lt;-E5\" style=\"stroke: #383838; stroke-width: 1.0;\"/><polygon fill=\"#383838\" points=\"65,87.06,61,93.06,65,99.06,69,93.06,65,87.06\" style=\"stroke: #383838; stroke-width: 1.0;\"/></a><!--MD5=[3b2c0f901874b9129faa9cd57d59bdd6]\n",
       "@startuml\r\n",
       "top to bottom direction\r\n",
       "skinparam monochrome true\r\n",
       "skinparam classbackgroundcolor white\r\n",
       "skinparam shadowing false\r\n",
       "skinparam wrapWidth 300\r\n",
       "hide circle\r\n",
       "\r\n",
       "package \"Q\" as E1  [[psysml:28439c61-0f75-41f9-9e39-c7479ce99829 ]]  {\r\n",
       "comp usage \"f\" as E2  <<(T,blue)part>> [[psysml:ef5bd6a7-9b0c-4f9f-9d58-83550a9f52f0 ]] {\r\n",
       "}\r\n",
       "comp usage \"a\" as E3  <<(T,blue)part>> [[psysml:b70a2483-525b-464a-8d4b-4d166d754785 ]] {\r\n",
       "}\r\n",
       "comp def \"C\" as E4  <<(T,blue)part def>> [[psysml:76b80061-5d22-4116-930d-3b6f4cd610b8 ]] {\r\n",
       "}\r\n",
       "comp usage \"g\" as E5  <<(T,blue)part>> [[psysml:92e0160d-75a4-4892-b826-902f6ecde3a0 ]] {\r\n",
       "}\r\n",
       "E2 *- - E3 [[psysml:b70a2483-525b-464a-8d4b-4d166d754785 ]] \r\n",
       "E4 *- - E5 [[psysml:92e0160d-75a4-4892-b826-902f6ecde3a0 ]] \r\n",
       "}\r\n",
       "@enduml\r\n",
       "\n",
       "PlantUML version 1.2020.13(Sat Jun 13 12:26:38 UTC 2020)\n",
       "(EPL source distribution)\n",
       "Java Runtime: OpenJDK Runtime Environment\n",
       "JVM: OpenJDK 64-Bit Server VM\n",
       "Default Encoding: UTF-8\n",
       "Language: en\n",
       "Country: null\n",
       "--></g></svg>"
      ]
     },
     "execution_count": 49,
     "metadata": {},
     "output_type": "execute_result"
    }
   ],
   "source": [
    "%viz --style=\"TB\" --view=\"Sequence\" \"Q\""
   ]
  },
  {
   "cell_type": "code",
   "execution_count": 50,
   "id": "interstate-duration",
   "metadata": {
    "execution": {
     "iopub.execute_input": "2021-03-25T13:42:11.658047Z",
     "iopub.status.busy": "2021-03-25T13:42:11.657198Z",
     "iopub.status.idle": "2021-03-25T13:42:11.707464Z",
     "shell.execute_reply": "2021-03-25T13:42:11.705922Z"
    }
   },
   "outputs": [
    {
     "data": {
      "image/svg+xml": [
       "<?xml version=\"1.0\" encoding=\"UTF-8\" standalone=\"no\"?><svg xmlns=\"http://www.w3.org/2000/svg\" xmlns:xlink=\"http://www.w3.org/1999/xlink\" contentScriptType=\"application/ecmascript\" contentStyleType=\"text/css\" height=\"221px\" preserveAspectRatio=\"none\" style=\"width:213px;height:221px;\" version=\"1.1\" viewBox=\"0 0 213 221\" width=\"213px\" zoomAndPan=\"magnify\"><defs/><g><!--MD5=[fbc87193dbaf4d95561dea2c320d4a47]\n",
       "cluster E1--><a href=\"psysml:28439c61-0f75-41f9-9e39-c7479ce99829\" target=\"_top\" title=\"psysml:28439c61-0f75-41f9-9e39-c7479ce99829\" xlink:actuate=\"onRequest\" xlink:href=\"psysml:28439c61-0f75-41f9-9e39-c7479ce99829\" xlink:show=\"new\" xlink:title=\"psysml:28439c61-0f75-41f9-9e39-c7479ce99829\" xlink:type=\"simple\"><polygon fill=\"#FFFFFF\" points=\"16,6,34,6,41,28.2969,191,28.2969,191,209,16,209,16,6\" style=\"stroke: #000000; stroke-width: 1.5;\"/><line style=\"stroke: #000000; stroke-width: 1.5;\" x1=\"16\" x2=\"41\" y1=\"28.2969\" y2=\"28.2969\"/><text fill=\"#000000\" font-family=\"sans-serif\" font-size=\"14\" font-weight=\"bold\" lengthAdjust=\"spacingAndGlyphs\" textLength=\"12\" x=\"20\" y=\"20.9951\">Q</text></a><!--MD5=[b4997ac47864f28c2f74865a473b2911]\n",
       "class E2--><a href=\"psysml:ef5bd6a7-9b0c-4f9f-9d58-83550a9f52f0\" target=\"_top\" title=\"psysml:ef5bd6a7-9b0c-4f9f-9d58-83550a9f52f0\" xlink:actuate=\"onRequest\" xlink:href=\"psysml:ef5bd6a7-9b0c-4f9f-9d58-83550a9f52f0\" xlink:show=\"new\" xlink:title=\"psysml:ef5bd6a7-9b0c-4f9f-9d58-83550a9f52f0\" xlink:type=\"simple\"><rect fill=\"#FFFFFF\" height=\"45.9375\" id=\"E2\" rx=\"10\" ry=\"10\" style=\"stroke: #383838; stroke-width: 1.5;\" width=\"42\" x=\"133\" y=\"41\"/><text fill=\"#000000\" font-family=\"sans-serif\" font-size=\"12\" font-style=\"italic\" lengthAdjust=\"spacingAndGlyphs\" textLength=\"40\" x=\"134\" y=\"57.1387\">«part»</text><text fill=\"#000000\" font-family=\"sans-serif\" font-size=\"12\" lengthAdjust=\"spacingAndGlyphs\" textLength=\"4\" x=\"152\" y=\"71.1074\">f</text><line style=\"stroke: #383838; stroke-width: 1.5;\" x1=\"134\" x2=\"174\" y1=\"78.9375\" y2=\"78.9375\"/></a><!--MD5=[09b614a08d8cba4a07c9adeb5e0fee81]\n",
       "class E3--><a href=\"psysml:b70a2483-525b-464a-8d4b-4d166d754785\" target=\"_top\" title=\"psysml:b70a2483-525b-464a-8d4b-4d166d754785\" xlink:actuate=\"onRequest\" xlink:href=\"psysml:b70a2483-525b-464a-8d4b-4d166d754785\" xlink:show=\"new\" xlink:title=\"psysml:b70a2483-525b-464a-8d4b-4d166d754785\" xlink:type=\"simple\"><rect fill=\"#FFFFFF\" height=\"45.9375\" id=\"E3\" rx=\"10\" ry=\"10\" style=\"stroke: #383838; stroke-width: 1.5;\" width=\"42\" x=\"133\" y=\"147\"/><text fill=\"#000000\" font-family=\"sans-serif\" font-size=\"12\" font-style=\"italic\" lengthAdjust=\"spacingAndGlyphs\" textLength=\"40\" x=\"134\" y=\"163.1387\">«part»</text><text fill=\"#000000\" font-family=\"sans-serif\" font-size=\"12\" lengthAdjust=\"spacingAndGlyphs\" textLength=\"8\" x=\"150\" y=\"177.1074\">a</text><line style=\"stroke: #383838; stroke-width: 1.5;\" x1=\"134\" x2=\"174\" y1=\"184.9375\" y2=\"184.9375\"/></a><!--MD5=[ebbe1d658d1005bcc118a6aa81145e00]\n",
       "class E4--><a href=\"psysml:76b80061-5d22-4116-930d-3b6f4cd610b8\" target=\"_top\" title=\"psysml:76b80061-5d22-4116-930d-3b6f4cd610b8\" xlink:actuate=\"onRequest\" xlink:href=\"psysml:76b80061-5d22-4116-930d-3b6f4cd610b8\" xlink:show=\"new\" xlink:title=\"psysml:76b80061-5d22-4116-930d-3b6f4cd610b8\" xlink:type=\"simple\"><rect fill=\"#FFFFFF\" height=\"45.9375\" id=\"E4\" style=\"stroke: #383838; stroke-width: 1.5;\" width=\"66\" x=\"32\" y=\"41\"/><text fill=\"#000000\" font-family=\"sans-serif\" font-size=\"12\" font-style=\"italic\" lengthAdjust=\"spacingAndGlyphs\" textLength=\"64\" x=\"33\" y=\"57.1387\">«part def»</text><text fill=\"#000000\" font-family=\"sans-serif\" font-size=\"12\" lengthAdjust=\"spacingAndGlyphs\" textLength=\"8\" x=\"61\" y=\"71.1074\">C</text><line style=\"stroke: #383838; stroke-width: 1.5;\" x1=\"33\" x2=\"97\" y1=\"78.9375\" y2=\"78.9375\"/></a><!--MD5=[270fce915f116d4de14055a7c1d9a0f3]\n",
       "class E5--><a href=\"psysml:92e0160d-75a4-4892-b826-902f6ecde3a0\" target=\"_top\" title=\"psysml:92e0160d-75a4-4892-b826-902f6ecde3a0\" xlink:actuate=\"onRequest\" xlink:href=\"psysml:92e0160d-75a4-4892-b826-902f6ecde3a0\" xlink:show=\"new\" xlink:title=\"psysml:92e0160d-75a4-4892-b826-902f6ecde3a0\" xlink:type=\"simple\"><rect fill=\"#FFFFFF\" height=\"45.9375\" id=\"E5\" rx=\"10\" ry=\"10\" style=\"stroke: #383838; stroke-width: 1.5;\" width=\"42\" x=\"44\" y=\"147\"/><text fill=\"#000000\" font-family=\"sans-serif\" font-size=\"12\" font-style=\"italic\" lengthAdjust=\"spacingAndGlyphs\" textLength=\"40\" x=\"45\" y=\"163.1387\">«part»</text><text fill=\"#000000\" font-family=\"sans-serif\" font-size=\"12\" lengthAdjust=\"spacingAndGlyphs\" textLength=\"8\" x=\"61\" y=\"177.1074\">g</text><line style=\"stroke: #383838; stroke-width: 1.5;\" x1=\"45\" x2=\"85\" y1=\"184.9375\" y2=\"184.9375\"/></a><!--MD5=[209b3feb70ccb6233bfe1053d122c12c]\n",
       "reverse link E2 to E3--><a href=\"psysml:b70a2483-525b-464a-8d4b-4d166d754785\" target=\"_top\" title=\"psysml:b70a2483-525b-464a-8d4b-4d166d754785\" xlink:actuate=\"onRequest\" xlink:href=\"psysml:b70a2483-525b-464a-8d4b-4d166d754785\" xlink:show=\"new\" xlink:title=\"psysml:b70a2483-525b-464a-8d4b-4d166d754785\" xlink:type=\"simple\"><path d=\"M154,100.44 C154,115.87 154,133.47 154,146.98 \" fill=\"none\" id=\"E2&lt;-E3\" style=\"stroke: #383838; stroke-width: 1.0;\"/><polygon fill=\"#383838\" points=\"154,87.06,150,93.06,154,99.06,158,93.06,154,87.06\" style=\"stroke: #383838; stroke-width: 1.0;\"/></a><!--MD5=[62aa6af11e70f752912c1cb0466f24f7]\n",
       "reverse link E4 to E5--><a href=\"psysml:92e0160d-75a4-4892-b826-902f6ecde3a0\" target=\"_top\" title=\"psysml:92e0160d-75a4-4892-b826-902f6ecde3a0\" xlink:actuate=\"onRequest\" xlink:href=\"psysml:92e0160d-75a4-4892-b826-902f6ecde3a0\" xlink:show=\"new\" xlink:title=\"psysml:92e0160d-75a4-4892-b826-902f6ecde3a0\" xlink:type=\"simple\"><path d=\"M65,100.44 C65,115.87 65,133.47 65,146.98 \" fill=\"none\" id=\"E4&lt;-E5\" style=\"stroke: #383838; stroke-width: 1.0;\"/><polygon fill=\"#383838\" points=\"65,87.06,61,93.06,65,99.06,69,93.06,65,87.06\" style=\"stroke: #383838; stroke-width: 1.0;\"/></a><!--MD5=[3b2c0f901874b9129faa9cd57d59bdd6]\n",
       "@startuml\r\n",
       "top to bottom direction\r\n",
       "skinparam monochrome true\r\n",
       "skinparam classbackgroundcolor white\r\n",
       "skinparam shadowing false\r\n",
       "skinparam wrapWidth 300\r\n",
       "hide circle\r\n",
       "\r\n",
       "package \"Q\" as E1  [[psysml:28439c61-0f75-41f9-9e39-c7479ce99829 ]]  {\r\n",
       "comp usage \"f\" as E2  <<(T,blue)part>> [[psysml:ef5bd6a7-9b0c-4f9f-9d58-83550a9f52f0 ]] {\r\n",
       "}\r\n",
       "comp usage \"a\" as E3  <<(T,blue)part>> [[psysml:b70a2483-525b-464a-8d4b-4d166d754785 ]] {\r\n",
       "}\r\n",
       "comp def \"C\" as E4  <<(T,blue)part def>> [[psysml:76b80061-5d22-4116-930d-3b6f4cd610b8 ]] {\r\n",
       "}\r\n",
       "comp usage \"g\" as E5  <<(T,blue)part>> [[psysml:92e0160d-75a4-4892-b826-902f6ecde3a0 ]] {\r\n",
       "}\r\n",
       "E2 *- - E3 [[psysml:b70a2483-525b-464a-8d4b-4d166d754785 ]] \r\n",
       "E4 *- - E5 [[psysml:92e0160d-75a4-4892-b826-902f6ecde3a0 ]] \r\n",
       "}\r\n",
       "@enduml\r\n",
       "\n",
       "PlantUML version 1.2020.13(Sat Jun 13 12:26:38 UTC 2020)\n",
       "(EPL source distribution)\n",
       "Java Runtime: OpenJDK Runtime Environment\n",
       "JVM: OpenJDK 64-Bit Server VM\n",
       "Default Encoding: UTF-8\n",
       "Language: en\n",
       "Country: null\n",
       "--></g></svg>"
      ]
     },
     "execution_count": 50,
     "metadata": {},
     "output_type": "execute_result"
    }
   ],
   "source": [
    "%viz --style=\"TB\" --view=\"MIXED\" \"Q\""
   ]
  },
  {
   "cell_type": "code",
   "execution_count": 51,
   "id": "foster-gallery",
   "metadata": {
    "execution": {
     "iopub.execute_input": "2021-03-25T13:42:11.759857Z",
     "iopub.status.busy": "2021-03-25T13:42:11.758850Z",
     "iopub.status.idle": "2021-03-25T13:42:11.808931Z",
     "shell.execute_reply": "2021-03-25T13:42:11.809584Z"
    }
   },
   "outputs": [
    {
     "data": {
      "image/svg+xml": [
       "<?xml version=\"1.0\" encoding=\"UTF-8\" standalone=\"no\"?><svg xmlns=\"http://www.w3.org/2000/svg\" xmlns:xlink=\"http://www.w3.org/1999/xlink\" contentScriptType=\"application/ecmascript\" contentStyleType=\"text/css\" height=\"221px\" preserveAspectRatio=\"none\" style=\"width:213px;height:221px;\" version=\"1.1\" viewBox=\"0 0 213 221\" width=\"213px\" zoomAndPan=\"magnify\"><defs/><g><!--MD5=[fbc87193dbaf4d95561dea2c320d4a47]\n",
       "cluster E1--><a href=\"psysml:28439c61-0f75-41f9-9e39-c7479ce99829\" target=\"_top\" title=\"psysml:28439c61-0f75-41f9-9e39-c7479ce99829\" xlink:actuate=\"onRequest\" xlink:href=\"psysml:28439c61-0f75-41f9-9e39-c7479ce99829\" xlink:show=\"new\" xlink:title=\"psysml:28439c61-0f75-41f9-9e39-c7479ce99829\" xlink:type=\"simple\"><polygon fill=\"#FFFFFF\" points=\"16,6,34,6,41,28.2969,191,28.2969,191,209,16,209,16,6\" style=\"stroke: #000000; stroke-width: 1.5;\"/><line style=\"stroke: #000000; stroke-width: 1.5;\" x1=\"16\" x2=\"41\" y1=\"28.2969\" y2=\"28.2969\"/><text fill=\"#000000\" font-family=\"sans-serif\" font-size=\"14\" font-weight=\"bold\" lengthAdjust=\"spacingAndGlyphs\" textLength=\"12\" x=\"20\" y=\"20.9951\">Q</text></a><!--MD5=[b4997ac47864f28c2f74865a473b2911]\n",
       "class E2--><a href=\"psysml:ef5bd6a7-9b0c-4f9f-9d58-83550a9f52f0\" target=\"_top\" title=\"psysml:ef5bd6a7-9b0c-4f9f-9d58-83550a9f52f0\" xlink:actuate=\"onRequest\" xlink:href=\"psysml:ef5bd6a7-9b0c-4f9f-9d58-83550a9f52f0\" xlink:show=\"new\" xlink:title=\"psysml:ef5bd6a7-9b0c-4f9f-9d58-83550a9f52f0\" xlink:type=\"simple\"><rect fill=\"#FFFFFF\" height=\"45.9375\" id=\"E2\" rx=\"10\" ry=\"10\" style=\"stroke: #383838; stroke-width: 1.5;\" width=\"42\" x=\"133\" y=\"41\"/><text fill=\"#000000\" font-family=\"sans-serif\" font-size=\"12\" font-style=\"italic\" lengthAdjust=\"spacingAndGlyphs\" textLength=\"40\" x=\"134\" y=\"57.1387\">«part»</text><text fill=\"#000000\" font-family=\"sans-serif\" font-size=\"12\" lengthAdjust=\"spacingAndGlyphs\" textLength=\"4\" x=\"152\" y=\"71.1074\">f</text><line style=\"stroke: #383838; stroke-width: 1.5;\" x1=\"134\" x2=\"174\" y1=\"78.9375\" y2=\"78.9375\"/></a><!--MD5=[09b614a08d8cba4a07c9adeb5e0fee81]\n",
       "class E3--><a href=\"psysml:b70a2483-525b-464a-8d4b-4d166d754785\" target=\"_top\" title=\"psysml:b70a2483-525b-464a-8d4b-4d166d754785\" xlink:actuate=\"onRequest\" xlink:href=\"psysml:b70a2483-525b-464a-8d4b-4d166d754785\" xlink:show=\"new\" xlink:title=\"psysml:b70a2483-525b-464a-8d4b-4d166d754785\" xlink:type=\"simple\"><rect fill=\"#FFFFFF\" height=\"45.9375\" id=\"E3\" rx=\"10\" ry=\"10\" style=\"stroke: #383838; stroke-width: 1.5;\" width=\"42\" x=\"133\" y=\"147\"/><text fill=\"#000000\" font-family=\"sans-serif\" font-size=\"12\" font-style=\"italic\" lengthAdjust=\"spacingAndGlyphs\" textLength=\"40\" x=\"134\" y=\"163.1387\">«part»</text><text fill=\"#000000\" font-family=\"sans-serif\" font-size=\"12\" lengthAdjust=\"spacingAndGlyphs\" textLength=\"8\" x=\"150\" y=\"177.1074\">a</text><line style=\"stroke: #383838; stroke-width: 1.5;\" x1=\"134\" x2=\"174\" y1=\"184.9375\" y2=\"184.9375\"/></a><!--MD5=[ebbe1d658d1005bcc118a6aa81145e00]\n",
       "class E4--><a href=\"psysml:76b80061-5d22-4116-930d-3b6f4cd610b8\" target=\"_top\" title=\"psysml:76b80061-5d22-4116-930d-3b6f4cd610b8\" xlink:actuate=\"onRequest\" xlink:href=\"psysml:76b80061-5d22-4116-930d-3b6f4cd610b8\" xlink:show=\"new\" xlink:title=\"psysml:76b80061-5d22-4116-930d-3b6f4cd610b8\" xlink:type=\"simple\"><rect fill=\"#FFFFFF\" height=\"45.9375\" id=\"E4\" style=\"stroke: #383838; stroke-width: 1.5;\" width=\"66\" x=\"32\" y=\"41\"/><text fill=\"#000000\" font-family=\"sans-serif\" font-size=\"12\" font-style=\"italic\" lengthAdjust=\"spacingAndGlyphs\" textLength=\"64\" x=\"33\" y=\"57.1387\">«part def»</text><text fill=\"#000000\" font-family=\"sans-serif\" font-size=\"12\" lengthAdjust=\"spacingAndGlyphs\" textLength=\"8\" x=\"61\" y=\"71.1074\">C</text><line style=\"stroke: #383838; stroke-width: 1.5;\" x1=\"33\" x2=\"97\" y1=\"78.9375\" y2=\"78.9375\"/></a><!--MD5=[270fce915f116d4de14055a7c1d9a0f3]\n",
       "class E5--><a href=\"psysml:92e0160d-75a4-4892-b826-902f6ecde3a0\" target=\"_top\" title=\"psysml:92e0160d-75a4-4892-b826-902f6ecde3a0\" xlink:actuate=\"onRequest\" xlink:href=\"psysml:92e0160d-75a4-4892-b826-902f6ecde3a0\" xlink:show=\"new\" xlink:title=\"psysml:92e0160d-75a4-4892-b826-902f6ecde3a0\" xlink:type=\"simple\"><rect fill=\"#FFFFFF\" height=\"45.9375\" id=\"E5\" rx=\"10\" ry=\"10\" style=\"stroke: #383838; stroke-width: 1.5;\" width=\"42\" x=\"44\" y=\"147\"/><text fill=\"#000000\" font-family=\"sans-serif\" font-size=\"12\" font-style=\"italic\" lengthAdjust=\"spacingAndGlyphs\" textLength=\"40\" x=\"45\" y=\"163.1387\">«part»</text><text fill=\"#000000\" font-family=\"sans-serif\" font-size=\"12\" lengthAdjust=\"spacingAndGlyphs\" textLength=\"8\" x=\"61\" y=\"177.1074\">g</text><line style=\"stroke: #383838; stroke-width: 1.5;\" x1=\"45\" x2=\"85\" y1=\"184.9375\" y2=\"184.9375\"/></a><!--MD5=[209b3feb70ccb6233bfe1053d122c12c]\n",
       "reverse link E2 to E3--><a href=\"psysml:b70a2483-525b-464a-8d4b-4d166d754785\" target=\"_top\" title=\"psysml:b70a2483-525b-464a-8d4b-4d166d754785\" xlink:actuate=\"onRequest\" xlink:href=\"psysml:b70a2483-525b-464a-8d4b-4d166d754785\" xlink:show=\"new\" xlink:title=\"psysml:b70a2483-525b-464a-8d4b-4d166d754785\" xlink:type=\"simple\"><path d=\"M154,100 C154,100 154,146.68 154,146.68 \" fill=\"none\" id=\"E2&lt;-E3\" style=\"stroke: #383838; stroke-width: 1.0;\"/><polygon fill=\"#383838\" points=\"154,87,150,93,154,99,158,93,154,87\" style=\"stroke: #383838; stroke-width: 1.0;\"/></a><!--MD5=[62aa6af11e70f752912c1cb0466f24f7]\n",
       "reverse link E4 to E5--><a href=\"psysml:92e0160d-75a4-4892-b826-902f6ecde3a0\" target=\"_top\" title=\"psysml:92e0160d-75a4-4892-b826-902f6ecde3a0\" xlink:actuate=\"onRequest\" xlink:href=\"psysml:92e0160d-75a4-4892-b826-902f6ecde3a0\" xlink:show=\"new\" xlink:title=\"psysml:92e0160d-75a4-4892-b826-902f6ecde3a0\" xlink:type=\"simple\"><path d=\"M65,100 C65,100 65,146.68 65,146.68 \" fill=\"none\" id=\"E4&lt;-E5\" style=\"stroke: #383838; stroke-width: 1.0;\"/><polygon fill=\"#383838\" points=\"65,87,61,93,65,99,69,93,65,87\" style=\"stroke: #383838; stroke-width: 1.0;\"/></a><!--MD5=[b189cae1d104ae46fecc961810ae1130]\n",
       "@startuml\r\n",
       "skinparam linetype ortho\r\n",
       "skinparam monochrome true\r\n",
       "skinparam classbackgroundcolor white\r\n",
       "skinparam shadowing false\r\n",
       "skinparam wrapWidth 300\r\n",
       "hide circle\r\n",
       "\r\n",
       "package \"Q\" as E1  [[psysml:28439c61-0f75-41f9-9e39-c7479ce99829 ]]  {\r\n",
       "comp usage \"f\" as E2  <<(T,blue)part>> [[psysml:ef5bd6a7-9b0c-4f9f-9d58-83550a9f52f0 ]] {\r\n",
       "}\r\n",
       "comp usage \"a\" as E3  <<(T,blue)part>> [[psysml:b70a2483-525b-464a-8d4b-4d166d754785 ]] {\r\n",
       "}\r\n",
       "comp def \"C\" as E4  <<(T,blue)part def>> [[psysml:76b80061-5d22-4116-930d-3b6f4cd610b8 ]] {\r\n",
       "}\r\n",
       "comp usage \"g\" as E5  <<(T,blue)part>> [[psysml:92e0160d-75a4-4892-b826-902f6ecde3a0 ]] {\r\n",
       "}\r\n",
       "E2 *- - E3 [[psysml:b70a2483-525b-464a-8d4b-4d166d754785 ]] \r\n",
       "E4 *- - E5 [[psysml:92e0160d-75a4-4892-b826-902f6ecde3a0 ]] \r\n",
       "}\r\n",
       "@enduml\r\n",
       "\n",
       "PlantUML version 1.2020.13(Sat Jun 13 12:26:38 UTC 2020)\n",
       "(EPL source distribution)\n",
       "Java Runtime: OpenJDK Runtime Environment\n",
       "JVM: OpenJDK 64-Bit Server VM\n",
       "Default Encoding: UTF-8\n",
       "Language: en\n",
       "Country: null\n",
       "--></g></svg>"
      ]
     },
     "execution_count": 51,
     "metadata": {},
     "output_type": "execute_result"
    }
   ],
   "source": [
    "%viz --style=\"ORTHOLINE\" --view=\"Default\" \"Q\""
   ]
  },
  {
   "cell_type": "code",
   "execution_count": 52,
   "id": "mineral-conference",
   "metadata": {
    "execution": {
     "iopub.execute_input": "2021-03-25T13:42:11.862493Z",
     "iopub.status.busy": "2021-03-25T13:42:11.861384Z",
     "iopub.status.idle": "2021-03-25T13:42:11.915664Z",
     "shell.execute_reply": "2021-03-25T13:42:11.914255Z"
    }
   },
   "outputs": [
    {
     "data": {
      "image/svg+xml": [
       "<?xml version=\"1.0\" encoding=\"UTF-8\" standalone=\"no\"?><svg xmlns=\"http://www.w3.org/2000/svg\" xmlns:xlink=\"http://www.w3.org/1999/xlink\" contentScriptType=\"application/ecmascript\" contentStyleType=\"text/css\" height=\"221px\" preserveAspectRatio=\"none\" style=\"width:213px;height:221px;\" version=\"1.1\" viewBox=\"0 0 213 221\" width=\"213px\" zoomAndPan=\"magnify\"><defs/><g><!--MD5=[fbc87193dbaf4d95561dea2c320d4a47]\n",
       "cluster E1--><a href=\"psysml:28439c61-0f75-41f9-9e39-c7479ce99829\" target=\"_top\" title=\"psysml:28439c61-0f75-41f9-9e39-c7479ce99829\" xlink:actuate=\"onRequest\" xlink:href=\"psysml:28439c61-0f75-41f9-9e39-c7479ce99829\" xlink:show=\"new\" xlink:title=\"psysml:28439c61-0f75-41f9-9e39-c7479ce99829\" xlink:type=\"simple\"><polygon fill=\"#FFFFFF\" points=\"16,6,34,6,41,28.2969,191,28.2969,191,209,16,209,16,6\" style=\"stroke: #000000; stroke-width: 1.5;\"/><line style=\"stroke: #000000; stroke-width: 1.5;\" x1=\"16\" x2=\"41\" y1=\"28.2969\" y2=\"28.2969\"/><text fill=\"#000000\" font-family=\"sans-serif\" font-size=\"14\" font-weight=\"bold\" lengthAdjust=\"spacingAndGlyphs\" textLength=\"12\" x=\"20\" y=\"20.9951\">Q</text></a><!--MD5=[b4997ac47864f28c2f74865a473b2911]\n",
       "class E2--><a href=\"psysml:ef5bd6a7-9b0c-4f9f-9d58-83550a9f52f0\" target=\"_top\" title=\"psysml:ef5bd6a7-9b0c-4f9f-9d58-83550a9f52f0\" xlink:actuate=\"onRequest\" xlink:href=\"psysml:ef5bd6a7-9b0c-4f9f-9d58-83550a9f52f0\" xlink:show=\"new\" xlink:title=\"psysml:ef5bd6a7-9b0c-4f9f-9d58-83550a9f52f0\" xlink:type=\"simple\"><rect fill=\"#FFFFFF\" height=\"45.9375\" id=\"E2\" rx=\"10\" ry=\"10\" style=\"stroke: #383838; stroke-width: 1.5;\" width=\"42\" x=\"133\" y=\"41\"/><text fill=\"#000000\" font-family=\"sans-serif\" font-size=\"12\" font-style=\"italic\" lengthAdjust=\"spacingAndGlyphs\" textLength=\"40\" x=\"134\" y=\"57.1387\">«part»</text><text fill=\"#000000\" font-family=\"sans-serif\" font-size=\"12\" lengthAdjust=\"spacingAndGlyphs\" textLength=\"4\" x=\"152\" y=\"71.1074\">f</text><line style=\"stroke: #383838; stroke-width: 1.5;\" x1=\"134\" x2=\"174\" y1=\"78.9375\" y2=\"78.9375\"/></a><!--MD5=[09b614a08d8cba4a07c9adeb5e0fee81]\n",
       "class E3--><a href=\"psysml:b70a2483-525b-464a-8d4b-4d166d754785\" target=\"_top\" title=\"psysml:b70a2483-525b-464a-8d4b-4d166d754785\" xlink:actuate=\"onRequest\" xlink:href=\"psysml:b70a2483-525b-464a-8d4b-4d166d754785\" xlink:show=\"new\" xlink:title=\"psysml:b70a2483-525b-464a-8d4b-4d166d754785\" xlink:type=\"simple\"><rect fill=\"#FFFFFF\" height=\"45.9375\" id=\"E3\" rx=\"10\" ry=\"10\" style=\"stroke: #383838; stroke-width: 1.5;\" width=\"42\" x=\"133\" y=\"147\"/><text fill=\"#000000\" font-family=\"sans-serif\" font-size=\"12\" font-style=\"italic\" lengthAdjust=\"spacingAndGlyphs\" textLength=\"40\" x=\"134\" y=\"163.1387\">«part»</text><text fill=\"#000000\" font-family=\"sans-serif\" font-size=\"12\" lengthAdjust=\"spacingAndGlyphs\" textLength=\"8\" x=\"150\" y=\"177.1074\">a</text><line style=\"stroke: #383838; stroke-width: 1.5;\" x1=\"134\" x2=\"174\" y1=\"184.9375\" y2=\"184.9375\"/></a><!--MD5=[ebbe1d658d1005bcc118a6aa81145e00]\n",
       "class E4--><a href=\"psysml:76b80061-5d22-4116-930d-3b6f4cd610b8\" target=\"_top\" title=\"psysml:76b80061-5d22-4116-930d-3b6f4cd610b8\" xlink:actuate=\"onRequest\" xlink:href=\"psysml:76b80061-5d22-4116-930d-3b6f4cd610b8\" xlink:show=\"new\" xlink:title=\"psysml:76b80061-5d22-4116-930d-3b6f4cd610b8\" xlink:type=\"simple\"><rect fill=\"#FFFFFF\" height=\"45.9375\" id=\"E4\" style=\"stroke: #383838; stroke-width: 1.5;\" width=\"66\" x=\"32\" y=\"41\"/><text fill=\"#000000\" font-family=\"sans-serif\" font-size=\"12\" font-style=\"italic\" lengthAdjust=\"spacingAndGlyphs\" textLength=\"64\" x=\"33\" y=\"57.1387\">«part def»</text><text fill=\"#000000\" font-family=\"sans-serif\" font-size=\"12\" lengthAdjust=\"spacingAndGlyphs\" textLength=\"8\" x=\"61\" y=\"71.1074\">C</text><line style=\"stroke: #383838; stroke-width: 1.5;\" x1=\"33\" x2=\"97\" y1=\"78.9375\" y2=\"78.9375\"/></a><!--MD5=[270fce915f116d4de14055a7c1d9a0f3]\n",
       "class E5--><a href=\"psysml:92e0160d-75a4-4892-b826-902f6ecde3a0\" target=\"_top\" title=\"psysml:92e0160d-75a4-4892-b826-902f6ecde3a0\" xlink:actuate=\"onRequest\" xlink:href=\"psysml:92e0160d-75a4-4892-b826-902f6ecde3a0\" xlink:show=\"new\" xlink:title=\"psysml:92e0160d-75a4-4892-b826-902f6ecde3a0\" xlink:type=\"simple\"><rect fill=\"#FFFFFF\" height=\"45.9375\" id=\"E5\" rx=\"10\" ry=\"10\" style=\"stroke: #383838; stroke-width: 1.5;\" width=\"42\" x=\"44\" y=\"147\"/><text fill=\"#000000\" font-family=\"sans-serif\" font-size=\"12\" font-style=\"italic\" lengthAdjust=\"spacingAndGlyphs\" textLength=\"40\" x=\"45\" y=\"163.1387\">«part»</text><text fill=\"#000000\" font-family=\"sans-serif\" font-size=\"12\" lengthAdjust=\"spacingAndGlyphs\" textLength=\"8\" x=\"61\" y=\"177.1074\">g</text><line style=\"stroke: #383838; stroke-width: 1.5;\" x1=\"45\" x2=\"85\" y1=\"184.9375\" y2=\"184.9375\"/></a><!--MD5=[209b3feb70ccb6233bfe1053d122c12c]\n",
       "reverse link E2 to E3--><a href=\"psysml:b70a2483-525b-464a-8d4b-4d166d754785\" target=\"_top\" title=\"psysml:b70a2483-525b-464a-8d4b-4d166d754785\" xlink:actuate=\"onRequest\" xlink:href=\"psysml:b70a2483-525b-464a-8d4b-4d166d754785\" xlink:show=\"new\" xlink:title=\"psysml:b70a2483-525b-464a-8d4b-4d166d754785\" xlink:type=\"simple\"><path d=\"M154,100 C154,100 154,146.68 154,146.68 \" fill=\"none\" id=\"E2&lt;-E3\" style=\"stroke: #383838; stroke-width: 1.0;\"/><polygon fill=\"#383838\" points=\"154,87,150,93,154,99,158,93,154,87\" style=\"stroke: #383838; stroke-width: 1.0;\"/></a><!--MD5=[62aa6af11e70f752912c1cb0466f24f7]\n",
       "reverse link E4 to E5--><a href=\"psysml:92e0160d-75a4-4892-b826-902f6ecde3a0\" target=\"_top\" title=\"psysml:92e0160d-75a4-4892-b826-902f6ecde3a0\" xlink:actuate=\"onRequest\" xlink:href=\"psysml:92e0160d-75a4-4892-b826-902f6ecde3a0\" xlink:show=\"new\" xlink:title=\"psysml:92e0160d-75a4-4892-b826-902f6ecde3a0\" xlink:type=\"simple\"><path d=\"M65,100 C65,100 65,146.68 65,146.68 \" fill=\"none\" id=\"E4&lt;-E5\" style=\"stroke: #383838; stroke-width: 1.0;\"/><polygon fill=\"#383838\" points=\"65,87,61,93,65,99,69,93,65,87\" style=\"stroke: #383838; stroke-width: 1.0;\"/></a><!--MD5=[b189cae1d104ae46fecc961810ae1130]\n",
       "@startuml\r\n",
       "skinparam linetype ortho\r\n",
       "skinparam monochrome true\r\n",
       "skinparam classbackgroundcolor white\r\n",
       "skinparam shadowing false\r\n",
       "skinparam wrapWidth 300\r\n",
       "hide circle\r\n",
       "\r\n",
       "package \"Q\" as E1  [[psysml:28439c61-0f75-41f9-9e39-c7479ce99829 ]]  {\r\n",
       "comp usage \"f\" as E2  <<(T,blue)part>> [[psysml:ef5bd6a7-9b0c-4f9f-9d58-83550a9f52f0 ]] {\r\n",
       "}\r\n",
       "comp usage \"a\" as E3  <<(T,blue)part>> [[psysml:b70a2483-525b-464a-8d4b-4d166d754785 ]] {\r\n",
       "}\r\n",
       "comp def \"C\" as E4  <<(T,blue)part def>> [[psysml:76b80061-5d22-4116-930d-3b6f4cd610b8 ]] {\r\n",
       "}\r\n",
       "comp usage \"g\" as E5  <<(T,blue)part>> [[psysml:92e0160d-75a4-4892-b826-902f6ecde3a0 ]] {\r\n",
       "}\r\n",
       "E2 *- - E3 [[psysml:b70a2483-525b-464a-8d4b-4d166d754785 ]] \r\n",
       "E4 *- - E5 [[psysml:92e0160d-75a4-4892-b826-902f6ecde3a0 ]] \r\n",
       "}\r\n",
       "@enduml\r\n",
       "\n",
       "PlantUML version 1.2020.13(Sat Jun 13 12:26:38 UTC 2020)\n",
       "(EPL source distribution)\n",
       "Java Runtime: OpenJDK Runtime Environment\n",
       "JVM: OpenJDK 64-Bit Server VM\n",
       "Default Encoding: UTF-8\n",
       "Language: en\n",
       "Country: null\n",
       "--></g></svg>"
      ]
     },
     "execution_count": 52,
     "metadata": {},
     "output_type": "execute_result"
    }
   ],
   "source": [
    "%viz --style=\"ORTHOLINE\" --view=\"Tree\" \"Q\""
   ]
  },
  {
   "cell_type": "code",
   "execution_count": 53,
   "id": "indoor-function",
   "metadata": {
    "execution": {
     "iopub.execute_input": "2021-03-25T13:42:11.967160Z",
     "iopub.status.busy": "2021-03-25T13:42:11.966544Z",
     "iopub.status.idle": "2021-03-25T13:42:11.974936Z",
     "shell.execute_reply": "2021-03-25T13:42:11.974601Z"
    }
   },
   "outputs": [
    {
     "data": {
      "image/svg+xml": [
       "<?xml version=\"1.0\" encoding=\"UTF-8\" standalone=\"no\"?><svg xmlns=\"http://www.w3.org/2000/svg\" xmlns:xlink=\"http://www.w3.org/1999/xlink\" contentScriptType=\"application/ecmascript\" contentStyleType=\"text/css\" height=\"12px\" preserveAspectRatio=\"none\" style=\"width:12px;height:12px;\" version=\"1.1\" viewBox=\"0 0 12 12\" width=\"12px\" zoomAndPan=\"magnify\"><defs/><g><!--MD5=[97d6f38768b311333d388e66b2b27985]\n",
       "@startuml\r\n",
       "skinparam linetype ortho\r\n",
       "skinparam monochrome true\r\n",
       "skinparam classbackgroundcolor white\r\n",
       "skinparam shadowing false\r\n",
       "skinparam wrapWidth 300\r\n",
       "hide circle\r\n",
       "\r\n",
       "@enduml\r\n",
       "\n",
       "PlantUML version 1.2020.13(Sat Jun 13 12:26:38 UTC 2020)\n",
       "(EPL source distribution)\n",
       "Java Runtime: OpenJDK Runtime Environment\n",
       "JVM: OpenJDK 64-Bit Server VM\n",
       "Default Encoding: UTF-8\n",
       "Language: en\n",
       "Country: null\n",
       "--></g></svg>"
      ]
     },
     "execution_count": 53,
     "metadata": {},
     "output_type": "execute_result"
    }
   ],
   "source": [
    "%viz --style=\"ORTHOLINE\" --view=\"State\" \"Q\""
   ]
  },
  {
   "cell_type": "code",
   "execution_count": 54,
   "id": "confused-cooking",
   "metadata": {
    "execution": {
     "iopub.execute_input": "2021-03-25T13:42:12.027242Z",
     "iopub.status.busy": "2021-03-25T13:42:12.026287Z",
     "iopub.status.idle": "2021-03-25T13:42:12.087305Z",
     "shell.execute_reply": "2021-03-25T13:42:12.085976Z"
    }
   },
   "outputs": [
    {
     "data": {
      "image/svg+xml": [
       "<?xml version=\"1.0\" encoding=\"UTF-8\" standalone=\"no\"?><svg xmlns=\"http://www.w3.org/2000/svg\" xmlns:xlink=\"http://www.w3.org/1999/xlink\" contentScriptType=\"application/ecmascript\" contentStyleType=\"text/css\" height=\"192px\" preserveAspectRatio=\"none\" style=\"width:279px;height:192px;\" version=\"1.1\" viewBox=\"0 0 279 192\" width=\"279px\" zoomAndPan=\"magnify\"><defs/><g><!--MD5=[fbc87193dbaf4d95561dea2c320d4a47]\n",
       "cluster E1--><a href=\"psysml:28439c61-0f75-41f9-9e39-c7479ce99829\" target=\"_top\" title=\"psysml:28439c61-0f75-41f9-9e39-c7479ce99829\" xlink:actuate=\"onRequest\" xlink:href=\"psysml:28439c61-0f75-41f9-9e39-c7479ce99829\" xlink:show=\"new\" xlink:title=\"psysml:28439c61-0f75-41f9-9e39-c7479ce99829\" xlink:type=\"simple\"><polygon fill=\"#FFFFFF\" points=\"16,6,34,6,41,28.2969,257,28.2969,257,180,16,180,16,6\" style=\"stroke: #000000; stroke-width: 1.5;\"/><line style=\"stroke: #000000; stroke-width: 1.5;\" x1=\"16\" x2=\"41\" y1=\"28.2969\" y2=\"28.2969\"/><text fill=\"#000000\" font-family=\"sans-serif\" font-size=\"14\" font-weight=\"bold\" lengthAdjust=\"spacingAndGlyphs\" textLength=\"12\" x=\"20\" y=\"20.9951\">Q</text></a><!--MD5=[e4f7fae6ed58524ba242bb0b0d3be6b7]\n",
       "cluster E2--><a href=\"psysml:ef5bd6a7-9b0c-4f9f-9d58-83550a9f52f0\" target=\"_top\" title=\"psysml:ef5bd6a7-9b0c-4f9f-9d58-83550a9f52f0\" xlink:actuate=\"onRequest\" xlink:href=\"psysml:ef5bd6a7-9b0c-4f9f-9d58-83550a9f52f0\" xlink:show=\"new\" xlink:title=\"psysml:ef5bd6a7-9b0c-4f9f-9d58-83550a9f52f0\" xlink:type=\"simple\"><rect fill=\"#FFFFFF\" height=\"91\" id=\"E2\" rx=\"10\" ry=\"10\" style=\"stroke: #383838; stroke-width: 1.5;\" width=\"82\" x=\"151\" y=\"65\"/><rect fill=\"#F8F8F8\" height=\"23.9688\" rx=\"10\" ry=\"10\" style=\"stroke: #F8F8F8; stroke-width: 1.5;\" width=\"82\" x=\"151\" y=\"65\"/><rect fill=\"#F8F8F8\" height=\"10\" style=\"stroke: #F8F8F8; stroke-width: 1.5;\" width=\"82\" x=\"151\" y=\"78.9688\"/><rect fill=\"none\" height=\"91\" id=\"E2\" rx=\"10\" ry=\"10\" style=\"stroke: #383838; stroke-width: 1.5;\" width=\"82\" x=\"151\" y=\"65\"/><text fill=\"#000000\" font-family=\"sans-serif\" font-size=\"12\" lengthAdjust=\"spacingAndGlyphs\" textLength=\"4\" x=\"190\" y=\"81.1387\">f</text><line style=\"stroke: #383838; stroke-width: 1.0;\" x1=\"151\" x2=\"233\" y1=\"88.9688\" y2=\"88.9688\"/></a><!--MD5=[f6df4d0ebaf0b5dfb2ced0ae5af7c670]\n",
       "cluster E4--><a href=\"psysml:76b80061-5d22-4116-930d-3b6f4cd610b8\" target=\"_top\" title=\"psysml:76b80061-5d22-4116-930d-3b6f4cd610b8\" xlink:actuate=\"onRequest\" xlink:href=\"psysml:76b80061-5d22-4116-930d-3b6f4cd610b8\" xlink:show=\"new\" xlink:title=\"psysml:76b80061-5d22-4116-930d-3b6f4cd610b8\" xlink:type=\"simple\"><rect fill=\"#FFFFFF\" height=\"107\" id=\"E4\" style=\"stroke: #383838; stroke-width: 1.5;\" width=\"87\" x=\"40\" y=\"49\"/><rect fill=\"#F8F8F8\" height=\"37.9375\" style=\"stroke: #383838; stroke-width: 1.5;\" width=\"87\" x=\"40\" y=\"49\"/><text fill=\"#000000\" font-family=\"sans-serif\" font-size=\"12\" font-style=\"italic\" lengthAdjust=\"spacingAndGlyphs\" textLength=\"64\" x=\"51.5\" y=\"65.1387\">«part def»</text><text fill=\"#000000\" font-family=\"sans-serif\" font-size=\"12\" lengthAdjust=\"spacingAndGlyphs\" textLength=\"8\" x=\"79.5\" y=\"79.1074\">C</text></a><g id=\"E1.E2.E3\"><a href=\"psysml:b70a2483-525b-464a-8d4b-4d166d754785\" target=\"_top\" title=\"psysml:b70a2483-525b-464a-8d4b-4d166d754785\" xlink:actuate=\"onRequest\" xlink:href=\"psysml:b70a2483-525b-464a-8d4b-4d166d754785\" xlink:show=\"new\" xlink:title=\"psysml:b70a2483-525b-464a-8d4b-4d166d754785\" xlink:type=\"simple\"><rect fill=\"#FFFFFF\" height=\"40\" id=\"E3\" rx=\"10\" ry=\"10\" style=\"stroke: #383838; stroke-width: 1.5;\" width=\"50\" x=\"167\" y=\"100\"/><rect fill=\"#F8F8F8\" height=\"23.9688\" rx=\"10\" ry=\"10\" style=\"stroke: #F8F8F8; stroke-width: 1.5;\" width=\"50\" x=\"167\" y=\"100\"/><rect fill=\"#F8F8F8\" height=\"10\" style=\"stroke: #F8F8F8; stroke-width: 1.5;\" width=\"50\" x=\"167\" y=\"113.9688\"/><rect fill=\"none\" height=\"40\" id=\"E3\" rx=\"10\" ry=\"10\" style=\"stroke: #383838; stroke-width: 1.5;\" width=\"50\" x=\"167\" y=\"100\"/><text fill=\"#000000\" font-family=\"sans-serif\" font-size=\"12\" lengthAdjust=\"spacingAndGlyphs\" textLength=\"8\" x=\"188\" y=\"116.1387\">a</text></a></g><g id=\"E1.E4.E5\"><a href=\"psysml:92e0160d-75a4-4892-b826-902f6ecde3a0\" target=\"_top\" title=\"psysml:92e0160d-75a4-4892-b826-902f6ecde3a0\" xlink:actuate=\"onRequest\" xlink:href=\"psysml:92e0160d-75a4-4892-b826-902f6ecde3a0\" xlink:show=\"new\" xlink:title=\"psysml:92e0160d-75a4-4892-b826-902f6ecde3a0\" xlink:type=\"simple\"><rect fill=\"#FFFFFF\" height=\"40\" id=\"E5\" rx=\"10\" ry=\"10\" style=\"stroke: #383838; stroke-width: 1.5;\" width=\"50\" x=\"58\" y=\"100\"/><rect fill=\"#F8F8F8\" height=\"23.9688\" rx=\"10\" ry=\"10\" style=\"stroke: #F8F8F8; stroke-width: 1.5;\" width=\"50\" x=\"58\" y=\"100\"/><rect fill=\"#F8F8F8\" height=\"10\" style=\"stroke: #F8F8F8; stroke-width: 1.5;\" width=\"50\" x=\"58\" y=\"113.9688\"/><rect fill=\"none\" height=\"40\" id=\"E5\" rx=\"10\" ry=\"10\" style=\"stroke: #383838; stroke-width: 1.5;\" width=\"50\" x=\"58\" y=\"100\"/><text fill=\"#000000\" font-family=\"sans-serif\" font-size=\"12\" lengthAdjust=\"spacingAndGlyphs\" textLength=\"8\" x=\"79\" y=\"116.1387\">g</text></a></g><!--MD5=[415a870d50a55ec10c6c159663c859b0]\n",
       "@startuml\r\n",
       "skinparam ranksep 8\r\n",
       "skinparam rectangle {\r\n",
       " backgroundColor<<block>> LightGreen\r\n",
       "}\r\n",
       "skinparam linetype ortho\r\n",
       "skinparam monochrome true\r\n",
       "skinparam classbackgroundcolor white\r\n",
       "skinparam shadowing false\r\n",
       "skinparam wrapWidth 300\r\n",
       "hide circle\r\n",
       "\r\n",
       "package \"Q\" as E1  [[psysml:28439c61-0f75-41f9-9e39-c7479ce99829 ]]  {\r\n",
       "rec usage \"f\" as E2  [[psysml:ef5bd6a7-9b0c-4f9f-9d58-83550a9f52f0 ]] {\r\n",
       "rec usage \"a\" as E3  [[psysml:b70a2483-525b-464a-8d4b-4d166d754785 ]] {\r\n",
       "}\r\n",
       "}\r\n",
       "rec def \"C\" as E4  <<(T,blue)part def>> [[psysml:76b80061-5d22-4116-930d-3b6f4cd610b8 ]] {\r\n",
       "rec usage \"g\" as E5  [[psysml:92e0160d-75a4-4892-b826-902f6ecde3a0 ]] {\r\n",
       "}\r\n",
       "}\r\n",
       "}\r\n",
       "@enduml\r\n",
       "\n",
       "PlantUML version 1.2020.13(Sat Jun 13 12:26:38 UTC 2020)\n",
       "(EPL source distribution)\n",
       "Java Runtime: OpenJDK Runtime Environment\n",
       "JVM: OpenJDK 64-Bit Server VM\n",
       "Default Encoding: UTF-8\n",
       "Language: en\n",
       "Country: null\n",
       "--></g></svg>"
      ]
     },
     "execution_count": 54,
     "metadata": {},
     "output_type": "execute_result"
    }
   ],
   "source": [
    "%viz --style=\"ORTHOLINE\" --view=\"Interconnection\" \"Q\""
   ]
  },
  {
   "cell_type": "code",
   "execution_count": 55,
   "id": "reverse-front",
   "metadata": {
    "execution": {
     "iopub.execute_input": "2021-03-25T13:42:12.139808Z",
     "iopub.status.busy": "2021-03-25T13:42:12.139077Z",
     "iopub.status.idle": "2021-03-25T13:42:12.148664Z",
     "shell.execute_reply": "2021-03-25T13:42:12.147972Z"
    }
   },
   "outputs": [
    {
     "data": {
      "image/svg+xml": [
       "<?xml version=\"1.0\" encoding=\"UTF-8\" standalone=\"no\"?><svg xmlns=\"http://www.w3.org/2000/svg\" xmlns:xlink=\"http://www.w3.org/1999/xlink\" contentScriptType=\"application/ecmascript\" contentStyleType=\"text/css\" height=\"12px\" preserveAspectRatio=\"none\" style=\"width:12px;height:12px;\" version=\"1.1\" viewBox=\"0 0 12 12\" width=\"12px\" zoomAndPan=\"magnify\"><defs/><g><!--MD5=[72934c63077099a26744516a776b4749]\n",
       "@startuml\r\n",
       "skinparam ranksep 8\r\n",
       "skinparam linetype ortho\r\n",
       "skinparam monochrome true\r\n",
       "skinparam classbackgroundcolor white\r\n",
       "skinparam shadowing false\r\n",
       "skinparam wrapWidth 300\r\n",
       "hide circle\r\n",
       "\r\n",
       "@enduml\r\n",
       "\n",
       "PlantUML version 1.2020.13(Sat Jun 13 12:26:38 UTC 2020)\n",
       "(EPL source distribution)\n",
       "Java Runtime: OpenJDK Runtime Environment\n",
       "JVM: OpenJDK 64-Bit Server VM\n",
       "Default Encoding: UTF-8\n",
       "Language: en\n",
       "Country: null\n",
       "--></g></svg>"
      ]
     },
     "execution_count": 55,
     "metadata": {},
     "output_type": "execute_result"
    }
   ],
   "source": [
    "%viz --style=\"ORTHOLINE\" --view=\"Action\" \"Q\""
   ]
  },
  {
   "cell_type": "code",
   "execution_count": 56,
   "id": "collaborative-cornell",
   "metadata": {
    "execution": {
     "iopub.execute_input": "2021-03-25T13:42:12.199467Z",
     "iopub.status.busy": "2021-03-25T13:42:12.198867Z",
     "iopub.status.idle": "2021-03-25T13:42:12.250069Z",
     "shell.execute_reply": "2021-03-25T13:42:12.248547Z"
    }
   },
   "outputs": [
    {
     "data": {
      "image/svg+xml": [
       "<?xml version=\"1.0\" encoding=\"UTF-8\" standalone=\"no\"?><svg xmlns=\"http://www.w3.org/2000/svg\" xmlns:xlink=\"http://www.w3.org/1999/xlink\" contentScriptType=\"application/ecmascript\" contentStyleType=\"text/css\" height=\"221px\" preserveAspectRatio=\"none\" style=\"width:213px;height:221px;\" version=\"1.1\" viewBox=\"0 0 213 221\" width=\"213px\" zoomAndPan=\"magnify\"><defs/><g><!--MD5=[fbc87193dbaf4d95561dea2c320d4a47]\n",
       "cluster E1--><a href=\"psysml:28439c61-0f75-41f9-9e39-c7479ce99829\" target=\"_top\" title=\"psysml:28439c61-0f75-41f9-9e39-c7479ce99829\" xlink:actuate=\"onRequest\" xlink:href=\"psysml:28439c61-0f75-41f9-9e39-c7479ce99829\" xlink:show=\"new\" xlink:title=\"psysml:28439c61-0f75-41f9-9e39-c7479ce99829\" xlink:type=\"simple\"><polygon fill=\"#FFFFFF\" points=\"16,6,34,6,41,28.2969,191,28.2969,191,209,16,209,16,6\" style=\"stroke: #000000; stroke-width: 1.5;\"/><line style=\"stroke: #000000; stroke-width: 1.5;\" x1=\"16\" x2=\"41\" y1=\"28.2969\" y2=\"28.2969\"/><text fill=\"#000000\" font-family=\"sans-serif\" font-size=\"14\" font-weight=\"bold\" lengthAdjust=\"spacingAndGlyphs\" textLength=\"12\" x=\"20\" y=\"20.9951\">Q</text></a><!--MD5=[b4997ac47864f28c2f74865a473b2911]\n",
       "class E2--><a href=\"psysml:ef5bd6a7-9b0c-4f9f-9d58-83550a9f52f0\" target=\"_top\" title=\"psysml:ef5bd6a7-9b0c-4f9f-9d58-83550a9f52f0\" xlink:actuate=\"onRequest\" xlink:href=\"psysml:ef5bd6a7-9b0c-4f9f-9d58-83550a9f52f0\" xlink:show=\"new\" xlink:title=\"psysml:ef5bd6a7-9b0c-4f9f-9d58-83550a9f52f0\" xlink:type=\"simple\"><rect fill=\"#FFFFFF\" height=\"45.9375\" id=\"E2\" rx=\"10\" ry=\"10\" style=\"stroke: #383838; stroke-width: 1.5;\" width=\"42\" x=\"133\" y=\"41\"/><text fill=\"#000000\" font-family=\"sans-serif\" font-size=\"12\" font-style=\"italic\" lengthAdjust=\"spacingAndGlyphs\" textLength=\"40\" x=\"134\" y=\"57.1387\">«part»</text><text fill=\"#000000\" font-family=\"sans-serif\" font-size=\"12\" lengthAdjust=\"spacingAndGlyphs\" textLength=\"4\" x=\"152\" y=\"71.1074\">f</text><line style=\"stroke: #383838; stroke-width: 1.5;\" x1=\"134\" x2=\"174\" y1=\"78.9375\" y2=\"78.9375\"/></a><!--MD5=[09b614a08d8cba4a07c9adeb5e0fee81]\n",
       "class E3--><a href=\"psysml:b70a2483-525b-464a-8d4b-4d166d754785\" target=\"_top\" title=\"psysml:b70a2483-525b-464a-8d4b-4d166d754785\" xlink:actuate=\"onRequest\" xlink:href=\"psysml:b70a2483-525b-464a-8d4b-4d166d754785\" xlink:show=\"new\" xlink:title=\"psysml:b70a2483-525b-464a-8d4b-4d166d754785\" xlink:type=\"simple\"><rect fill=\"#FFFFFF\" height=\"45.9375\" id=\"E3\" rx=\"10\" ry=\"10\" style=\"stroke: #383838; stroke-width: 1.5;\" width=\"42\" x=\"133\" y=\"147\"/><text fill=\"#000000\" font-family=\"sans-serif\" font-size=\"12\" font-style=\"italic\" lengthAdjust=\"spacingAndGlyphs\" textLength=\"40\" x=\"134\" y=\"163.1387\">«part»</text><text fill=\"#000000\" font-family=\"sans-serif\" font-size=\"12\" lengthAdjust=\"spacingAndGlyphs\" textLength=\"8\" x=\"150\" y=\"177.1074\">a</text><line style=\"stroke: #383838; stroke-width: 1.5;\" x1=\"134\" x2=\"174\" y1=\"184.9375\" y2=\"184.9375\"/></a><!--MD5=[ebbe1d658d1005bcc118a6aa81145e00]\n",
       "class E4--><a href=\"psysml:76b80061-5d22-4116-930d-3b6f4cd610b8\" target=\"_top\" title=\"psysml:76b80061-5d22-4116-930d-3b6f4cd610b8\" xlink:actuate=\"onRequest\" xlink:href=\"psysml:76b80061-5d22-4116-930d-3b6f4cd610b8\" xlink:show=\"new\" xlink:title=\"psysml:76b80061-5d22-4116-930d-3b6f4cd610b8\" xlink:type=\"simple\"><rect fill=\"#FFFFFF\" height=\"45.9375\" id=\"E4\" style=\"stroke: #383838; stroke-width: 1.5;\" width=\"66\" x=\"32\" y=\"41\"/><text fill=\"#000000\" font-family=\"sans-serif\" font-size=\"12\" font-style=\"italic\" lengthAdjust=\"spacingAndGlyphs\" textLength=\"64\" x=\"33\" y=\"57.1387\">«part def»</text><text fill=\"#000000\" font-family=\"sans-serif\" font-size=\"12\" lengthAdjust=\"spacingAndGlyphs\" textLength=\"8\" x=\"61\" y=\"71.1074\">C</text><line style=\"stroke: #383838; stroke-width: 1.5;\" x1=\"33\" x2=\"97\" y1=\"78.9375\" y2=\"78.9375\"/></a><!--MD5=[270fce915f116d4de14055a7c1d9a0f3]\n",
       "class E5--><a href=\"psysml:92e0160d-75a4-4892-b826-902f6ecde3a0\" target=\"_top\" title=\"psysml:92e0160d-75a4-4892-b826-902f6ecde3a0\" xlink:actuate=\"onRequest\" xlink:href=\"psysml:92e0160d-75a4-4892-b826-902f6ecde3a0\" xlink:show=\"new\" xlink:title=\"psysml:92e0160d-75a4-4892-b826-902f6ecde3a0\" xlink:type=\"simple\"><rect fill=\"#FFFFFF\" height=\"45.9375\" id=\"E5\" rx=\"10\" ry=\"10\" style=\"stroke: #383838; stroke-width: 1.5;\" width=\"42\" x=\"44\" y=\"147\"/><text fill=\"#000000\" font-family=\"sans-serif\" font-size=\"12\" font-style=\"italic\" lengthAdjust=\"spacingAndGlyphs\" textLength=\"40\" x=\"45\" y=\"163.1387\">«part»</text><text fill=\"#000000\" font-family=\"sans-serif\" font-size=\"12\" lengthAdjust=\"spacingAndGlyphs\" textLength=\"8\" x=\"61\" y=\"177.1074\">g</text><line style=\"stroke: #383838; stroke-width: 1.5;\" x1=\"45\" x2=\"85\" y1=\"184.9375\" y2=\"184.9375\"/></a><!--MD5=[209b3feb70ccb6233bfe1053d122c12c]\n",
       "reverse link E2 to E3--><a href=\"psysml:b70a2483-525b-464a-8d4b-4d166d754785\" target=\"_top\" title=\"psysml:b70a2483-525b-464a-8d4b-4d166d754785\" xlink:actuate=\"onRequest\" xlink:href=\"psysml:b70a2483-525b-464a-8d4b-4d166d754785\" xlink:show=\"new\" xlink:title=\"psysml:b70a2483-525b-464a-8d4b-4d166d754785\" xlink:type=\"simple\"><path d=\"M154,100 C154,100 154,146.68 154,146.68 \" fill=\"none\" id=\"E2&lt;-E3\" style=\"stroke: #383838; stroke-width: 1.0;\"/><polygon fill=\"#383838\" points=\"154,87,150,93,154,99,158,93,154,87\" style=\"stroke: #383838; stroke-width: 1.0;\"/></a><!--MD5=[62aa6af11e70f752912c1cb0466f24f7]\n",
       "reverse link E4 to E5--><a href=\"psysml:92e0160d-75a4-4892-b826-902f6ecde3a0\" target=\"_top\" title=\"psysml:92e0160d-75a4-4892-b826-902f6ecde3a0\" xlink:actuate=\"onRequest\" xlink:href=\"psysml:92e0160d-75a4-4892-b826-902f6ecde3a0\" xlink:show=\"new\" xlink:title=\"psysml:92e0160d-75a4-4892-b826-902f6ecde3a0\" xlink:type=\"simple\"><path d=\"M65,100 C65,100 65,146.68 65,146.68 \" fill=\"none\" id=\"E4&lt;-E5\" style=\"stroke: #383838; stroke-width: 1.0;\"/><polygon fill=\"#383838\" points=\"65,87,61,93,65,99,69,93,65,87\" style=\"stroke: #383838; stroke-width: 1.0;\"/></a><!--MD5=[b189cae1d104ae46fecc961810ae1130]\n",
       "@startuml\r\n",
       "skinparam linetype ortho\r\n",
       "skinparam monochrome true\r\n",
       "skinparam classbackgroundcolor white\r\n",
       "skinparam shadowing false\r\n",
       "skinparam wrapWidth 300\r\n",
       "hide circle\r\n",
       "\r\n",
       "package \"Q\" as E1  [[psysml:28439c61-0f75-41f9-9e39-c7479ce99829 ]]  {\r\n",
       "comp usage \"f\" as E2  <<(T,blue)part>> [[psysml:ef5bd6a7-9b0c-4f9f-9d58-83550a9f52f0 ]] {\r\n",
       "}\r\n",
       "comp usage \"a\" as E3  <<(T,blue)part>> [[psysml:b70a2483-525b-464a-8d4b-4d166d754785 ]] {\r\n",
       "}\r\n",
       "comp def \"C\" as E4  <<(T,blue)part def>> [[psysml:76b80061-5d22-4116-930d-3b6f4cd610b8 ]] {\r\n",
       "}\r\n",
       "comp usage \"g\" as E5  <<(T,blue)part>> [[psysml:92e0160d-75a4-4892-b826-902f6ecde3a0 ]] {\r\n",
       "}\r\n",
       "E2 *- - E3 [[psysml:b70a2483-525b-464a-8d4b-4d166d754785 ]] \r\n",
       "E4 *- - E5 [[psysml:92e0160d-75a4-4892-b826-902f6ecde3a0 ]] \r\n",
       "}\r\n",
       "@enduml\r\n",
       "\n",
       "PlantUML version 1.2020.13(Sat Jun 13 12:26:38 UTC 2020)\n",
       "(EPL source distribution)\n",
       "Java Runtime: OpenJDK Runtime Environment\n",
       "JVM: OpenJDK 64-Bit Server VM\n",
       "Default Encoding: UTF-8\n",
       "Language: en\n",
       "Country: null\n",
       "--></g></svg>"
      ]
     },
     "execution_count": 56,
     "metadata": {},
     "output_type": "execute_result"
    }
   ],
   "source": [
    "%viz --style=\"ORTHOLINE\" --view=\"Sequence\" \"Q\""
   ]
  },
  {
   "cell_type": "code",
   "execution_count": 57,
   "id": "periodic-pocket",
   "metadata": {
    "execution": {
     "iopub.execute_input": "2021-03-25T13:42:12.300264Z",
     "iopub.status.busy": "2021-03-25T13:42:12.299667Z",
     "iopub.status.idle": "2021-03-25T13:42:12.352271Z",
     "shell.execute_reply": "2021-03-25T13:42:12.350875Z"
    }
   },
   "outputs": [
    {
     "data": {
      "image/svg+xml": [
       "<?xml version=\"1.0\" encoding=\"UTF-8\" standalone=\"no\"?><svg xmlns=\"http://www.w3.org/2000/svg\" xmlns:xlink=\"http://www.w3.org/1999/xlink\" contentScriptType=\"application/ecmascript\" contentStyleType=\"text/css\" height=\"221px\" preserveAspectRatio=\"none\" style=\"width:213px;height:221px;\" version=\"1.1\" viewBox=\"0 0 213 221\" width=\"213px\" zoomAndPan=\"magnify\"><defs/><g><!--MD5=[fbc87193dbaf4d95561dea2c320d4a47]\n",
       "cluster E1--><a href=\"psysml:28439c61-0f75-41f9-9e39-c7479ce99829\" target=\"_top\" title=\"psysml:28439c61-0f75-41f9-9e39-c7479ce99829\" xlink:actuate=\"onRequest\" xlink:href=\"psysml:28439c61-0f75-41f9-9e39-c7479ce99829\" xlink:show=\"new\" xlink:title=\"psysml:28439c61-0f75-41f9-9e39-c7479ce99829\" xlink:type=\"simple\"><polygon fill=\"#FFFFFF\" points=\"16,6,34,6,41,28.2969,191,28.2969,191,209,16,209,16,6\" style=\"stroke: #000000; stroke-width: 1.5;\"/><line style=\"stroke: #000000; stroke-width: 1.5;\" x1=\"16\" x2=\"41\" y1=\"28.2969\" y2=\"28.2969\"/><text fill=\"#000000\" font-family=\"sans-serif\" font-size=\"14\" font-weight=\"bold\" lengthAdjust=\"spacingAndGlyphs\" textLength=\"12\" x=\"20\" y=\"20.9951\">Q</text></a><!--MD5=[b4997ac47864f28c2f74865a473b2911]\n",
       "class E2--><a href=\"psysml:ef5bd6a7-9b0c-4f9f-9d58-83550a9f52f0\" target=\"_top\" title=\"psysml:ef5bd6a7-9b0c-4f9f-9d58-83550a9f52f0\" xlink:actuate=\"onRequest\" xlink:href=\"psysml:ef5bd6a7-9b0c-4f9f-9d58-83550a9f52f0\" xlink:show=\"new\" xlink:title=\"psysml:ef5bd6a7-9b0c-4f9f-9d58-83550a9f52f0\" xlink:type=\"simple\"><rect fill=\"#FFFFFF\" height=\"45.9375\" id=\"E2\" rx=\"10\" ry=\"10\" style=\"stroke: #383838; stroke-width: 1.5;\" width=\"42\" x=\"133\" y=\"41\"/><text fill=\"#000000\" font-family=\"sans-serif\" font-size=\"12\" font-style=\"italic\" lengthAdjust=\"spacingAndGlyphs\" textLength=\"40\" x=\"134\" y=\"57.1387\">«part»</text><text fill=\"#000000\" font-family=\"sans-serif\" font-size=\"12\" lengthAdjust=\"spacingAndGlyphs\" textLength=\"4\" x=\"152\" y=\"71.1074\">f</text><line style=\"stroke: #383838; stroke-width: 1.5;\" x1=\"134\" x2=\"174\" y1=\"78.9375\" y2=\"78.9375\"/></a><!--MD5=[09b614a08d8cba4a07c9adeb5e0fee81]\n",
       "class E3--><a href=\"psysml:b70a2483-525b-464a-8d4b-4d166d754785\" target=\"_top\" title=\"psysml:b70a2483-525b-464a-8d4b-4d166d754785\" xlink:actuate=\"onRequest\" xlink:href=\"psysml:b70a2483-525b-464a-8d4b-4d166d754785\" xlink:show=\"new\" xlink:title=\"psysml:b70a2483-525b-464a-8d4b-4d166d754785\" xlink:type=\"simple\"><rect fill=\"#FFFFFF\" height=\"45.9375\" id=\"E3\" rx=\"10\" ry=\"10\" style=\"stroke: #383838; stroke-width: 1.5;\" width=\"42\" x=\"133\" y=\"147\"/><text fill=\"#000000\" font-family=\"sans-serif\" font-size=\"12\" font-style=\"italic\" lengthAdjust=\"spacingAndGlyphs\" textLength=\"40\" x=\"134\" y=\"163.1387\">«part»</text><text fill=\"#000000\" font-family=\"sans-serif\" font-size=\"12\" lengthAdjust=\"spacingAndGlyphs\" textLength=\"8\" x=\"150\" y=\"177.1074\">a</text><line style=\"stroke: #383838; stroke-width: 1.5;\" x1=\"134\" x2=\"174\" y1=\"184.9375\" y2=\"184.9375\"/></a><!--MD5=[ebbe1d658d1005bcc118a6aa81145e00]\n",
       "class E4--><a href=\"psysml:76b80061-5d22-4116-930d-3b6f4cd610b8\" target=\"_top\" title=\"psysml:76b80061-5d22-4116-930d-3b6f4cd610b8\" xlink:actuate=\"onRequest\" xlink:href=\"psysml:76b80061-5d22-4116-930d-3b6f4cd610b8\" xlink:show=\"new\" xlink:title=\"psysml:76b80061-5d22-4116-930d-3b6f4cd610b8\" xlink:type=\"simple\"><rect fill=\"#FFFFFF\" height=\"45.9375\" id=\"E4\" style=\"stroke: #383838; stroke-width: 1.5;\" width=\"66\" x=\"32\" y=\"41\"/><text fill=\"#000000\" font-family=\"sans-serif\" font-size=\"12\" font-style=\"italic\" lengthAdjust=\"spacingAndGlyphs\" textLength=\"64\" x=\"33\" y=\"57.1387\">«part def»</text><text fill=\"#000000\" font-family=\"sans-serif\" font-size=\"12\" lengthAdjust=\"spacingAndGlyphs\" textLength=\"8\" x=\"61\" y=\"71.1074\">C</text><line style=\"stroke: #383838; stroke-width: 1.5;\" x1=\"33\" x2=\"97\" y1=\"78.9375\" y2=\"78.9375\"/></a><!--MD5=[270fce915f116d4de14055a7c1d9a0f3]\n",
       "class E5--><a href=\"psysml:92e0160d-75a4-4892-b826-902f6ecde3a0\" target=\"_top\" title=\"psysml:92e0160d-75a4-4892-b826-902f6ecde3a0\" xlink:actuate=\"onRequest\" xlink:href=\"psysml:92e0160d-75a4-4892-b826-902f6ecde3a0\" xlink:show=\"new\" xlink:title=\"psysml:92e0160d-75a4-4892-b826-902f6ecde3a0\" xlink:type=\"simple\"><rect fill=\"#FFFFFF\" height=\"45.9375\" id=\"E5\" rx=\"10\" ry=\"10\" style=\"stroke: #383838; stroke-width: 1.5;\" width=\"42\" x=\"44\" y=\"147\"/><text fill=\"#000000\" font-family=\"sans-serif\" font-size=\"12\" font-style=\"italic\" lengthAdjust=\"spacingAndGlyphs\" textLength=\"40\" x=\"45\" y=\"163.1387\">«part»</text><text fill=\"#000000\" font-family=\"sans-serif\" font-size=\"12\" lengthAdjust=\"spacingAndGlyphs\" textLength=\"8\" x=\"61\" y=\"177.1074\">g</text><line style=\"stroke: #383838; stroke-width: 1.5;\" x1=\"45\" x2=\"85\" y1=\"184.9375\" y2=\"184.9375\"/></a><!--MD5=[209b3feb70ccb6233bfe1053d122c12c]\n",
       "reverse link E2 to E3--><a href=\"psysml:b70a2483-525b-464a-8d4b-4d166d754785\" target=\"_top\" title=\"psysml:b70a2483-525b-464a-8d4b-4d166d754785\" xlink:actuate=\"onRequest\" xlink:href=\"psysml:b70a2483-525b-464a-8d4b-4d166d754785\" xlink:show=\"new\" xlink:title=\"psysml:b70a2483-525b-464a-8d4b-4d166d754785\" xlink:type=\"simple\"><path d=\"M154,100 C154,100 154,146.68 154,146.68 \" fill=\"none\" id=\"E2&lt;-E3\" style=\"stroke: #383838; stroke-width: 1.0;\"/><polygon fill=\"#383838\" points=\"154,87,150,93,154,99,158,93,154,87\" style=\"stroke: #383838; stroke-width: 1.0;\"/></a><!--MD5=[62aa6af11e70f752912c1cb0466f24f7]\n",
       "reverse link E4 to E5--><a href=\"psysml:92e0160d-75a4-4892-b826-902f6ecde3a0\" target=\"_top\" title=\"psysml:92e0160d-75a4-4892-b826-902f6ecde3a0\" xlink:actuate=\"onRequest\" xlink:href=\"psysml:92e0160d-75a4-4892-b826-902f6ecde3a0\" xlink:show=\"new\" xlink:title=\"psysml:92e0160d-75a4-4892-b826-902f6ecde3a0\" xlink:type=\"simple\"><path d=\"M65,100 C65,100 65,146.68 65,146.68 \" fill=\"none\" id=\"E4&lt;-E5\" style=\"stroke: #383838; stroke-width: 1.0;\"/><polygon fill=\"#383838\" points=\"65,87,61,93,65,99,69,93,65,87\" style=\"stroke: #383838; stroke-width: 1.0;\"/></a><!--MD5=[b189cae1d104ae46fecc961810ae1130]\n",
       "@startuml\r\n",
       "skinparam linetype ortho\r\n",
       "skinparam monochrome true\r\n",
       "skinparam classbackgroundcolor white\r\n",
       "skinparam shadowing false\r\n",
       "skinparam wrapWidth 300\r\n",
       "hide circle\r\n",
       "\r\n",
       "package \"Q\" as E1  [[psysml:28439c61-0f75-41f9-9e39-c7479ce99829 ]]  {\r\n",
       "comp usage \"f\" as E2  <<(T,blue)part>> [[psysml:ef5bd6a7-9b0c-4f9f-9d58-83550a9f52f0 ]] {\r\n",
       "}\r\n",
       "comp usage \"a\" as E3  <<(T,blue)part>> [[psysml:b70a2483-525b-464a-8d4b-4d166d754785 ]] {\r\n",
       "}\r\n",
       "comp def \"C\" as E4  <<(T,blue)part def>> [[psysml:76b80061-5d22-4116-930d-3b6f4cd610b8 ]] {\r\n",
       "}\r\n",
       "comp usage \"g\" as E5  <<(T,blue)part>> [[psysml:92e0160d-75a4-4892-b826-902f6ecde3a0 ]] {\r\n",
       "}\r\n",
       "E2 *- - E3 [[psysml:b70a2483-525b-464a-8d4b-4d166d754785 ]] \r\n",
       "E4 *- - E5 [[psysml:92e0160d-75a4-4892-b826-902f6ecde3a0 ]] \r\n",
       "}\r\n",
       "@enduml\r\n",
       "\n",
       "PlantUML version 1.2020.13(Sat Jun 13 12:26:38 UTC 2020)\n",
       "(EPL source distribution)\n",
       "Java Runtime: OpenJDK Runtime Environment\n",
       "JVM: OpenJDK 64-Bit Server VM\n",
       "Default Encoding: UTF-8\n",
       "Language: en\n",
       "Country: null\n",
       "--></g></svg>"
      ]
     },
     "execution_count": 57,
     "metadata": {},
     "output_type": "execute_result"
    }
   ],
   "source": [
    "%viz --style=\"ORTHOLINE\" --view=\"MIXED\" \"Q\""
   ]
  }
 ],
 "metadata": {
  "kernelspec": {
   "display_name": "SysML",
   "language": "sysml",
   "name": "sysml"
  },
  "language_info": {
   "codemirror_mode": "sysml",
   "file_extension": ".sysml",
   "mimetype": "text/x-sysml",
   "name": "SysML",
   "pygments_lexer": "java",
   "version": "1.0.0"
  }
 },
 "nbformat": 4,
 "nbformat_minor": 5
}
