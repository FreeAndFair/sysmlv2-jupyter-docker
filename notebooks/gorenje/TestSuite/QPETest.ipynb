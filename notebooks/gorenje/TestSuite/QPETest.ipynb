{
 "cells": [
  {
   "cell_type": "markdown",
   "id": "enabling-fellow",
   "metadata": {},
   "source": [
    "# SysML v2 Test Suite\n",
    "\n",
    "This can notebook can be cleared using menu `Edit --> Clear All Outputs` and then all cells can be\n",
    "run using menu `Run --> Run All Cells`.\n",
    "\n",
    "**WARNING**: This file is generated, all modifications here will be ignored.\n"
   ]
  },
  {
   "cell_type": "markdown",
   "id": "lightweight-minneapolis",
   "metadata": {},
   "source": [
    "## File: ../../sysml/src/examples/Simple Tests/QPETest.sysml"
   ]
  },
  {
   "cell_type": "code",
   "execution_count": 1,
   "id": "nervous-designation",
   "metadata": {
    "execution": {
     "iopub.execute_input": "2021-03-26T09:12:04.240948Z",
     "iopub.status.busy": "2021-03-26T09:12:04.240492Z",
     "iopub.status.idle": "2021-03-26T09:12:04.457902Z",
     "shell.execute_reply": "2021-03-26T09:12:04.457125Z"
    }
   },
   "outputs": [
    {
     "data": {
      "text/plain": [
       "Package Q (5108f711-8872-4983-9f5c-65e96c00c33f)\n"
      ]
     },
     "execution_count": 1,
     "metadata": {},
     "output_type": "execute_result"
    }
   ],
   "source": [
    "package Q {\n",
    "  part f {\n",
    "  \tpart a;\n",
    "  }\n",
    "  part def C {\n",
    "    part g = ./f/a; \n",
    "  }\n",
    "}\n"
   ]
  },
  {
   "cell_type": "code",
   "execution_count": 2,
   "id": "backed-appointment",
   "metadata": {
    "execution": {
     "iopub.execute_input": "2021-03-26T09:12:04.509926Z",
     "iopub.status.busy": "2021-03-26T09:12:04.509167Z",
     "iopub.status.idle": "2021-03-26T09:12:05.057001Z",
     "shell.execute_reply": "2021-03-26T09:12:05.057410Z"
    }
   },
   "outputs": [
    {
     "data": {
      "image/svg+xml": [
       "<?xml version=\"1.0\" encoding=\"UTF-8\" standalone=\"no\"?><svg xmlns=\"http://www.w3.org/2000/svg\" xmlns:xlink=\"http://www.w3.org/1999/xlink\" contentScriptType=\"application/ecmascript\" contentStyleType=\"text/css\" height=\"221px\" preserveAspectRatio=\"none\" style=\"width:265px;height:221px;\" version=\"1.1\" viewBox=\"0 0 265 221\" width=\"265px\" zoomAndPan=\"magnify\"><defs><filter height=\"300%\" id=\"f15xgx3jovehaw\" width=\"300%\" x=\"-1\" y=\"-1\"><feGaussianBlur result=\"blurOut\" stdDeviation=\"2.0\"/><feColorMatrix in=\"blurOut\" result=\"blurOut2\" type=\"matrix\" values=\"0 0 0 0 0 0 0 0 0 0 0 0 0 0 0 0 0 0 .4 0\"/><feOffset dx=\"4.0\" dy=\"4.0\" in=\"blurOut2\" result=\"blurOut3\"/><feBlend in=\"SourceGraphic\" in2=\"blurOut3\" mode=\"normal\"/></filter></defs><g><!--MD5=[fbc87193dbaf4d95561dea2c320d4a47]\n",
       "cluster E1--><a href=\"psysml:e7978fe0-b69e-4191-a6c6-ff9a405cd716\" target=\"_top\" title=\"psysml:e7978fe0-b69e-4191-a6c6-ff9a405cd716\" xlink:actuate=\"onRequest\" xlink:href=\"psysml:e7978fe0-b69e-4191-a6c6-ff9a405cd716\" xlink:show=\"new\" xlink:title=\"psysml:e7978fe0-b69e-4191-a6c6-ff9a405cd716\" xlink:type=\"simple\"><polygon fill=\"#FFFFFF\" filter=\"url(#f15xgx3jovehaw)\" points=\"16,6,34,6,41,28.2969,243,28.2969,243,209,16,209,16,6\" style=\"stroke: #000000; stroke-width: 1.5;\"/><line style=\"stroke: #000000; stroke-width: 1.5;\" x1=\"16\" x2=\"41\" y1=\"28.2969\" y2=\"28.2969\"/><text fill=\"#000000\" font-family=\"sans-serif\" font-size=\"14\" font-weight=\"bold\" lengthAdjust=\"spacingAndGlyphs\" textLength=\"12\" x=\"20\" y=\"20.9951\">Q</text></a><!--MD5=[b4997ac47864f28c2f74865a473b2911]\n",
       "class E2--><a href=\"psysml:d69286fc-6be9-4686-bca9-82760e97d021\" target=\"_top\" title=\"psysml:d69286fc-6be9-4686-bca9-82760e97d021\" xlink:actuate=\"onRequest\" xlink:href=\"psysml:d69286fc-6be9-4686-bca9-82760e97d021\" xlink:show=\"new\" xlink:title=\"psysml:d69286fc-6be9-4686-bca9-82760e97d021\" xlink:type=\"simple\"><rect fill=\"#FEFECE\" filter=\"url(#f15xgx3jovehaw)\" height=\"45.9375\" id=\"E2\" rx=\"10\" ry=\"10\" style=\"stroke: #A80036; stroke-width: 1.5;\" width=\"68\" x=\"159\" y=\"41\"/><ellipse cx=\"174\" cy=\"59.9688\" fill=\"#0000FF\" rx=\"11\" ry=\"11\" style=\"stroke: #A80036; stroke-width: 1.0;\"/><path d=\"M174.8438,66.7188 L172.3906,66.7188 L172.3906,56.4688 L169.25,56.4688 L169.25,54.3281 L177.9844,54.3281 L177.9844,56.4688 L174.8438,56.4688 L174.8438,66.7188 Z \"/><text fill=\"#000000\" font-family=\"sans-serif\" font-size=\"12\" font-style=\"italic\" lengthAdjust=\"spacingAndGlyphs\" textLength=\"40\" x=\"186\" y=\"57.1387\">«part»</text><text fill=\"#000000\" font-family=\"sans-serif\" font-size=\"12\" lengthAdjust=\"spacingAndGlyphs\" textLength=\"4\" x=\"204\" y=\"71.1074\">f</text><line style=\"stroke: #A80036; stroke-width: 1.5;\" x1=\"160\" x2=\"226\" y1=\"78.9375\" y2=\"78.9375\"/></a><!--MD5=[09b614a08d8cba4a07c9adeb5e0fee81]\n",
       "class E3--><a href=\"psysml:05544d0a-8d7e-4ac4-8a38-1321d7df08dd\" target=\"_top\" title=\"psysml:05544d0a-8d7e-4ac4-8a38-1321d7df08dd\" xlink:actuate=\"onRequest\" xlink:href=\"psysml:05544d0a-8d7e-4ac4-8a38-1321d7df08dd\" xlink:show=\"new\" xlink:title=\"psysml:05544d0a-8d7e-4ac4-8a38-1321d7df08dd\" xlink:type=\"simple\"><rect fill=\"#FEFECE\" filter=\"url(#f15xgx3jovehaw)\" height=\"45.9375\" id=\"E3\" rx=\"10\" ry=\"10\" style=\"stroke: #A80036; stroke-width: 1.5;\" width=\"68\" x=\"159\" y=\"147\"/><ellipse cx=\"174\" cy=\"165.9688\" fill=\"#0000FF\" rx=\"11\" ry=\"11\" style=\"stroke: #A80036; stroke-width: 1.0;\"/><path d=\"M174.8438,172.7188 L172.3906,172.7188 L172.3906,162.4688 L169.25,162.4688 L169.25,160.3281 L177.9844,160.3281 L177.9844,162.4688 L174.8438,162.4688 L174.8438,172.7188 Z \"/><text fill=\"#000000\" font-family=\"sans-serif\" font-size=\"12\" font-style=\"italic\" lengthAdjust=\"spacingAndGlyphs\" textLength=\"40\" x=\"186\" y=\"163.1387\">«part»</text><text fill=\"#000000\" font-family=\"sans-serif\" font-size=\"12\" lengthAdjust=\"spacingAndGlyphs\" textLength=\"8\" x=\"202\" y=\"177.1074\">a</text><line style=\"stroke: #A80036; stroke-width: 1.5;\" x1=\"160\" x2=\"226\" y1=\"184.9375\" y2=\"184.9375\"/></a><!--MD5=[ebbe1d658d1005bcc118a6aa81145e00]\n",
       "class E4--><a href=\"psysml:6e0f0160-dcde-436d-afd9-a7845bbec9b5\" target=\"_top\" title=\"psysml:6e0f0160-dcde-436d-afd9-a7845bbec9b5\" xlink:actuate=\"onRequest\" xlink:href=\"psysml:6e0f0160-dcde-436d-afd9-a7845bbec9b5\" xlink:show=\"new\" xlink:title=\"psysml:6e0f0160-dcde-436d-afd9-a7845bbec9b5\" xlink:type=\"simple\"><rect fill=\"#FEFECE\" filter=\"url(#f15xgx3jovehaw)\" height=\"45.9375\" id=\"E4\" style=\"stroke: #A80036; stroke-width: 1.5;\" width=\"92\" x=\"32\" y=\"41\"/><ellipse cx=\"47\" cy=\"59.9688\" fill=\"#0000FF\" rx=\"11\" ry=\"11\" style=\"stroke: #A80036; stroke-width: 1.0;\"/><path d=\"M47.8438,66.7188 L45.3906,66.7188 L45.3906,56.4688 L42.25,56.4688 L42.25,54.3281 L50.9844,54.3281 L50.9844,56.4688 L47.8438,56.4688 L47.8438,66.7188 Z \"/><text fill=\"#000000\" font-family=\"sans-serif\" font-size=\"12\" font-style=\"italic\" lengthAdjust=\"spacingAndGlyphs\" textLength=\"64\" x=\"59\" y=\"57.1387\">«part def»</text><text fill=\"#000000\" font-family=\"sans-serif\" font-size=\"12\" lengthAdjust=\"spacingAndGlyphs\" textLength=\"8\" x=\"87\" y=\"71.1074\">C</text><line style=\"stroke: #A80036; stroke-width: 1.5;\" x1=\"33\" x2=\"123\" y1=\"78.9375\" y2=\"78.9375\"/></a><!--MD5=[270fce915f116d4de14055a7c1d9a0f3]\n",
       "class E5--><a href=\"psysml:c2eaf658-adee-4a19-a83e-00cce7f1793f\" target=\"_top\" title=\"psysml:c2eaf658-adee-4a19-a83e-00cce7f1793f\" xlink:actuate=\"onRequest\" xlink:href=\"psysml:c2eaf658-adee-4a19-a83e-00cce7f1793f\" xlink:show=\"new\" xlink:title=\"psysml:c2eaf658-adee-4a19-a83e-00cce7f1793f\" xlink:type=\"simple\"><rect fill=\"#FEFECE\" filter=\"url(#f15xgx3jovehaw)\" height=\"45.9375\" id=\"E5\" rx=\"10\" ry=\"10\" style=\"stroke: #A80036; stroke-width: 1.5;\" width=\"68\" x=\"44\" y=\"147\"/><ellipse cx=\"59\" cy=\"165.9688\" fill=\"#0000FF\" rx=\"11\" ry=\"11\" style=\"stroke: #A80036; stroke-width: 1.0;\"/><path d=\"M59.8438,172.7188 L57.3906,172.7188 L57.3906,162.4688 L54.25,162.4688 L54.25,160.3281 L62.9844,160.3281 L62.9844,162.4688 L59.8438,162.4688 L59.8438,172.7188 Z \"/><text fill=\"#000000\" font-family=\"sans-serif\" font-size=\"12\" font-style=\"italic\" lengthAdjust=\"spacingAndGlyphs\" textLength=\"40\" x=\"71\" y=\"163.1387\">«part»</text><text fill=\"#000000\" font-family=\"sans-serif\" font-size=\"12\" lengthAdjust=\"spacingAndGlyphs\" textLength=\"8\" x=\"87\" y=\"177.1074\">g</text><line style=\"stroke: #A80036; stroke-width: 1.5;\" x1=\"45\" x2=\"111\" y1=\"184.9375\" y2=\"184.9375\"/></a><!--MD5=[209b3feb70ccb6233bfe1053d122c12c]\n",
       "reverse link E2 to E3--><a href=\"psysml:05544d0a-8d7e-4ac4-8a38-1321d7df08dd\" target=\"_top\" title=\"psysml:05544d0a-8d7e-4ac4-8a38-1321d7df08dd\" xlink:actuate=\"onRequest\" xlink:href=\"psysml:05544d0a-8d7e-4ac4-8a38-1321d7df08dd\" xlink:show=\"new\" xlink:title=\"psysml:05544d0a-8d7e-4ac4-8a38-1321d7df08dd\" xlink:type=\"simple\"><path d=\"M193,100.44 C193,115.87 193,133.47 193,146.98 \" fill=\"none\" id=\"E2&lt;-E3\" style=\"stroke: #A80036; stroke-width: 1.0;\"/><polygon fill=\"#A80036\" points=\"193,87.06,189,93.06,193,99.06,197,93.06,193,87.06\" style=\"stroke: #A80036; stroke-width: 1.0;\"/></a><!--MD5=[62aa6af11e70f752912c1cb0466f24f7]\n",
       "reverse link E4 to E5--><a href=\"psysml:c2eaf658-adee-4a19-a83e-00cce7f1793f\" target=\"_top\" title=\"psysml:c2eaf658-adee-4a19-a83e-00cce7f1793f\" xlink:actuate=\"onRequest\" xlink:href=\"psysml:c2eaf658-adee-4a19-a83e-00cce7f1793f\" xlink:show=\"new\" xlink:title=\"psysml:c2eaf658-adee-4a19-a83e-00cce7f1793f\" xlink:type=\"simple\"><path d=\"M78,100.44 C78,115.87 78,133.47 78,146.98 \" fill=\"none\" id=\"E4&lt;-E5\" style=\"stroke: #A80036; stroke-width: 1.0;\"/><polygon fill=\"#A80036\" points=\"78,87.06,74,93.06,78,99.06,82,93.06,78,87.06\" style=\"stroke: #A80036; stroke-width: 1.0;\"/></a><!--MD5=[0fc1ec39a7114e38311c91e3bee74728]\n",
       "@startuml\r\n",
       " \r\n",
       "package \"Q\" as E1  [[psysml:e7978fe0-b69e-4191-a6c6-ff9a405cd716 ]]  {\r\n",
       "comp usage \"f\" as E2  <<(T,blue)part>> [[psysml:d69286fc-6be9-4686-bca9-82760e97d021 ]] {\r\n",
       "}\r\n",
       "comp usage \"a\" as E3  <<(T,blue)part>> [[psysml:05544d0a-8d7e-4ac4-8a38-1321d7df08dd ]] {\r\n",
       "}\r\n",
       "comp def \"C\" as E4  <<(T,blue)part def>> [[psysml:6e0f0160-dcde-436d-afd9-a7845bbec9b5 ]] {\r\n",
       "}\r\n",
       "comp usage \"g\" as E5  <<(T,blue)part>> [[psysml:c2eaf658-adee-4a19-a83e-00cce7f1793f ]] {\r\n",
       "}\r\n",
       "E2 *- - E3 [[psysml:05544d0a-8d7e-4ac4-8a38-1321d7df08dd ]] \r\n",
       "E4 *- - E5 [[psysml:c2eaf658-adee-4a19-a83e-00cce7f1793f ]] \r\n",
       "}\r\n",
       "@enduml\r\n",
       "\n",
       "PlantUML version 1.2020.13(Sat Jun 13 12:26:38 UTC 2020)\n",
       "(EPL source distribution)\n",
       "Java Runtime: OpenJDK Runtime Environment\n",
       "JVM: OpenJDK 64-Bit Server VM\n",
       "Default Encoding: UTF-8\n",
       "Language: en\n",
       "Country: null\n",
       "--></g></svg>"
      ]
     },
     "execution_count": 2,
     "metadata": {},
     "output_type": "execute_result"
    }
   ],
   "source": [
    "%viz --style=\"COMPTREE\" --view=\"Default\" \"Q\""
   ]
  },
  {
   "cell_type": "code",
   "execution_count": 3,
   "id": "advance-benefit",
   "metadata": {
    "execution": {
     "iopub.execute_input": "2021-03-26T09:12:05.108410Z",
     "iopub.status.busy": "2021-03-26T09:12:05.108046Z",
     "iopub.status.idle": "2021-03-26T09:12:05.162038Z",
     "shell.execute_reply": "2021-03-26T09:12:05.160916Z"
    }
   },
   "outputs": [
    {
     "data": {
      "image/svg+xml": [
       "<?xml version=\"1.0\" encoding=\"UTF-8\" standalone=\"no\"?><svg xmlns=\"http://www.w3.org/2000/svg\" xmlns:xlink=\"http://www.w3.org/1999/xlink\" contentScriptType=\"application/ecmascript\" contentStyleType=\"text/css\" height=\"221px\" preserveAspectRatio=\"none\" style=\"width:265px;height:221px;\" version=\"1.1\" viewBox=\"0 0 265 221\" width=\"265px\" zoomAndPan=\"magnify\"><defs><filter height=\"300%\" id=\"f15xgx3jovehaw\" width=\"300%\" x=\"-1\" y=\"-1\"><feGaussianBlur result=\"blurOut\" stdDeviation=\"2.0\"/><feColorMatrix in=\"blurOut\" result=\"blurOut2\" type=\"matrix\" values=\"0 0 0 0 0 0 0 0 0 0 0 0 0 0 0 0 0 0 .4 0\"/><feOffset dx=\"4.0\" dy=\"4.0\" in=\"blurOut2\" result=\"blurOut3\"/><feBlend in=\"SourceGraphic\" in2=\"blurOut3\" mode=\"normal\"/></filter></defs><g><!--MD5=[fbc87193dbaf4d95561dea2c320d4a47]\n",
       "cluster E1--><a href=\"psysml:e7978fe0-b69e-4191-a6c6-ff9a405cd716\" target=\"_top\" title=\"psysml:e7978fe0-b69e-4191-a6c6-ff9a405cd716\" xlink:actuate=\"onRequest\" xlink:href=\"psysml:e7978fe0-b69e-4191-a6c6-ff9a405cd716\" xlink:show=\"new\" xlink:title=\"psysml:e7978fe0-b69e-4191-a6c6-ff9a405cd716\" xlink:type=\"simple\"><polygon fill=\"#FFFFFF\" filter=\"url(#f15xgx3jovehaw)\" points=\"16,6,34,6,41,28.2969,243,28.2969,243,209,16,209,16,6\" style=\"stroke: #000000; stroke-width: 1.5;\"/><line style=\"stroke: #000000; stroke-width: 1.5;\" x1=\"16\" x2=\"41\" y1=\"28.2969\" y2=\"28.2969\"/><text fill=\"#000000\" font-family=\"sans-serif\" font-size=\"14\" font-weight=\"bold\" lengthAdjust=\"spacingAndGlyphs\" textLength=\"12\" x=\"20\" y=\"20.9951\">Q</text></a><!--MD5=[b4997ac47864f28c2f74865a473b2911]\n",
       "class E2--><a href=\"psysml:d69286fc-6be9-4686-bca9-82760e97d021\" target=\"_top\" title=\"psysml:d69286fc-6be9-4686-bca9-82760e97d021\" xlink:actuate=\"onRequest\" xlink:href=\"psysml:d69286fc-6be9-4686-bca9-82760e97d021\" xlink:show=\"new\" xlink:title=\"psysml:d69286fc-6be9-4686-bca9-82760e97d021\" xlink:type=\"simple\"><rect fill=\"#FEFECE\" filter=\"url(#f15xgx3jovehaw)\" height=\"45.9375\" id=\"E2\" rx=\"10\" ry=\"10\" style=\"stroke: #A80036; stroke-width: 1.5;\" width=\"68\" x=\"159\" y=\"41\"/><ellipse cx=\"174\" cy=\"59.9688\" fill=\"#0000FF\" rx=\"11\" ry=\"11\" style=\"stroke: #A80036; stroke-width: 1.0;\"/><path d=\"M174.8438,66.7188 L172.3906,66.7188 L172.3906,56.4688 L169.25,56.4688 L169.25,54.3281 L177.9844,54.3281 L177.9844,56.4688 L174.8438,56.4688 L174.8438,66.7188 Z \"/><text fill=\"#000000\" font-family=\"sans-serif\" font-size=\"12\" font-style=\"italic\" lengthAdjust=\"spacingAndGlyphs\" textLength=\"40\" x=\"186\" y=\"57.1387\">«part»</text><text fill=\"#000000\" font-family=\"sans-serif\" font-size=\"12\" lengthAdjust=\"spacingAndGlyphs\" textLength=\"4\" x=\"204\" y=\"71.1074\">f</text><line style=\"stroke: #A80036; stroke-width: 1.5;\" x1=\"160\" x2=\"226\" y1=\"78.9375\" y2=\"78.9375\"/></a><!--MD5=[09b614a08d8cba4a07c9adeb5e0fee81]\n",
       "class E3--><a href=\"psysml:05544d0a-8d7e-4ac4-8a38-1321d7df08dd\" target=\"_top\" title=\"psysml:05544d0a-8d7e-4ac4-8a38-1321d7df08dd\" xlink:actuate=\"onRequest\" xlink:href=\"psysml:05544d0a-8d7e-4ac4-8a38-1321d7df08dd\" xlink:show=\"new\" xlink:title=\"psysml:05544d0a-8d7e-4ac4-8a38-1321d7df08dd\" xlink:type=\"simple\"><rect fill=\"#FEFECE\" filter=\"url(#f15xgx3jovehaw)\" height=\"45.9375\" id=\"E3\" rx=\"10\" ry=\"10\" style=\"stroke: #A80036; stroke-width: 1.5;\" width=\"68\" x=\"159\" y=\"147\"/><ellipse cx=\"174\" cy=\"165.9688\" fill=\"#0000FF\" rx=\"11\" ry=\"11\" style=\"stroke: #A80036; stroke-width: 1.0;\"/><path d=\"M174.8438,172.7188 L172.3906,172.7188 L172.3906,162.4688 L169.25,162.4688 L169.25,160.3281 L177.9844,160.3281 L177.9844,162.4688 L174.8438,162.4688 L174.8438,172.7188 Z \"/><text fill=\"#000000\" font-family=\"sans-serif\" font-size=\"12\" font-style=\"italic\" lengthAdjust=\"spacingAndGlyphs\" textLength=\"40\" x=\"186\" y=\"163.1387\">«part»</text><text fill=\"#000000\" font-family=\"sans-serif\" font-size=\"12\" lengthAdjust=\"spacingAndGlyphs\" textLength=\"8\" x=\"202\" y=\"177.1074\">a</text><line style=\"stroke: #A80036; stroke-width: 1.5;\" x1=\"160\" x2=\"226\" y1=\"184.9375\" y2=\"184.9375\"/></a><!--MD5=[ebbe1d658d1005bcc118a6aa81145e00]\n",
       "class E4--><a href=\"psysml:6e0f0160-dcde-436d-afd9-a7845bbec9b5\" target=\"_top\" title=\"psysml:6e0f0160-dcde-436d-afd9-a7845bbec9b5\" xlink:actuate=\"onRequest\" xlink:href=\"psysml:6e0f0160-dcde-436d-afd9-a7845bbec9b5\" xlink:show=\"new\" xlink:title=\"psysml:6e0f0160-dcde-436d-afd9-a7845bbec9b5\" xlink:type=\"simple\"><rect fill=\"#FEFECE\" filter=\"url(#f15xgx3jovehaw)\" height=\"45.9375\" id=\"E4\" style=\"stroke: #A80036; stroke-width: 1.5;\" width=\"92\" x=\"32\" y=\"41\"/><ellipse cx=\"47\" cy=\"59.9688\" fill=\"#0000FF\" rx=\"11\" ry=\"11\" style=\"stroke: #A80036; stroke-width: 1.0;\"/><path d=\"M47.8438,66.7188 L45.3906,66.7188 L45.3906,56.4688 L42.25,56.4688 L42.25,54.3281 L50.9844,54.3281 L50.9844,56.4688 L47.8438,56.4688 L47.8438,66.7188 Z \"/><text fill=\"#000000\" font-family=\"sans-serif\" font-size=\"12\" font-style=\"italic\" lengthAdjust=\"spacingAndGlyphs\" textLength=\"64\" x=\"59\" y=\"57.1387\">«part def»</text><text fill=\"#000000\" font-family=\"sans-serif\" font-size=\"12\" lengthAdjust=\"spacingAndGlyphs\" textLength=\"8\" x=\"87\" y=\"71.1074\">C</text><line style=\"stroke: #A80036; stroke-width: 1.5;\" x1=\"33\" x2=\"123\" y1=\"78.9375\" y2=\"78.9375\"/></a><!--MD5=[270fce915f116d4de14055a7c1d9a0f3]\n",
       "class E5--><a href=\"psysml:c2eaf658-adee-4a19-a83e-00cce7f1793f\" target=\"_top\" title=\"psysml:c2eaf658-adee-4a19-a83e-00cce7f1793f\" xlink:actuate=\"onRequest\" xlink:href=\"psysml:c2eaf658-adee-4a19-a83e-00cce7f1793f\" xlink:show=\"new\" xlink:title=\"psysml:c2eaf658-adee-4a19-a83e-00cce7f1793f\" xlink:type=\"simple\"><rect fill=\"#FEFECE\" filter=\"url(#f15xgx3jovehaw)\" height=\"45.9375\" id=\"E5\" rx=\"10\" ry=\"10\" style=\"stroke: #A80036; stroke-width: 1.5;\" width=\"68\" x=\"44\" y=\"147\"/><ellipse cx=\"59\" cy=\"165.9688\" fill=\"#0000FF\" rx=\"11\" ry=\"11\" style=\"stroke: #A80036; stroke-width: 1.0;\"/><path d=\"M59.8438,172.7188 L57.3906,172.7188 L57.3906,162.4688 L54.25,162.4688 L54.25,160.3281 L62.9844,160.3281 L62.9844,162.4688 L59.8438,162.4688 L59.8438,172.7188 Z \"/><text fill=\"#000000\" font-family=\"sans-serif\" font-size=\"12\" font-style=\"italic\" lengthAdjust=\"spacingAndGlyphs\" textLength=\"40\" x=\"71\" y=\"163.1387\">«part»</text><text fill=\"#000000\" font-family=\"sans-serif\" font-size=\"12\" lengthAdjust=\"spacingAndGlyphs\" textLength=\"8\" x=\"87\" y=\"177.1074\">g</text><line style=\"stroke: #A80036; stroke-width: 1.5;\" x1=\"45\" x2=\"111\" y1=\"184.9375\" y2=\"184.9375\"/></a><!--MD5=[209b3feb70ccb6233bfe1053d122c12c]\n",
       "reverse link E2 to E3--><a href=\"psysml:05544d0a-8d7e-4ac4-8a38-1321d7df08dd\" target=\"_top\" title=\"psysml:05544d0a-8d7e-4ac4-8a38-1321d7df08dd\" xlink:actuate=\"onRequest\" xlink:href=\"psysml:05544d0a-8d7e-4ac4-8a38-1321d7df08dd\" xlink:show=\"new\" xlink:title=\"psysml:05544d0a-8d7e-4ac4-8a38-1321d7df08dd\" xlink:type=\"simple\"><path d=\"M193,100.44 C193,115.87 193,133.47 193,146.98 \" fill=\"none\" id=\"E2&lt;-E3\" style=\"stroke: #A80036; stroke-width: 1.0;\"/><polygon fill=\"#A80036\" points=\"193,87.06,189,93.06,193,99.06,197,93.06,193,87.06\" style=\"stroke: #A80036; stroke-width: 1.0;\"/></a><!--MD5=[62aa6af11e70f752912c1cb0466f24f7]\n",
       "reverse link E4 to E5--><a href=\"psysml:c2eaf658-adee-4a19-a83e-00cce7f1793f\" target=\"_top\" title=\"psysml:c2eaf658-adee-4a19-a83e-00cce7f1793f\" xlink:actuate=\"onRequest\" xlink:href=\"psysml:c2eaf658-adee-4a19-a83e-00cce7f1793f\" xlink:show=\"new\" xlink:title=\"psysml:c2eaf658-adee-4a19-a83e-00cce7f1793f\" xlink:type=\"simple\"><path d=\"M78,100.44 C78,115.87 78,133.47 78,146.98 \" fill=\"none\" id=\"E4&lt;-E5\" style=\"stroke: #A80036; stroke-width: 1.0;\"/><polygon fill=\"#A80036\" points=\"78,87.06,74,93.06,78,99.06,82,93.06,78,87.06\" style=\"stroke: #A80036; stroke-width: 1.0;\"/></a><!--MD5=[0fc1ec39a7114e38311c91e3bee74728]\n",
       "@startuml\r\n",
       " \r\n",
       "package \"Q\" as E1  [[psysml:e7978fe0-b69e-4191-a6c6-ff9a405cd716 ]]  {\r\n",
       "comp usage \"f\" as E2  <<(T,blue)part>> [[psysml:d69286fc-6be9-4686-bca9-82760e97d021 ]] {\r\n",
       "}\r\n",
       "comp usage \"a\" as E3  <<(T,blue)part>> [[psysml:05544d0a-8d7e-4ac4-8a38-1321d7df08dd ]] {\r\n",
       "}\r\n",
       "comp def \"C\" as E4  <<(T,blue)part def>> [[psysml:6e0f0160-dcde-436d-afd9-a7845bbec9b5 ]] {\r\n",
       "}\r\n",
       "comp usage \"g\" as E5  <<(T,blue)part>> [[psysml:c2eaf658-adee-4a19-a83e-00cce7f1793f ]] {\r\n",
       "}\r\n",
       "E2 *- - E3 [[psysml:05544d0a-8d7e-4ac4-8a38-1321d7df08dd ]] \r\n",
       "E4 *- - E5 [[psysml:c2eaf658-adee-4a19-a83e-00cce7f1793f ]] \r\n",
       "}\r\n",
       "@enduml\r\n",
       "\n",
       "PlantUML version 1.2020.13(Sat Jun 13 12:26:38 UTC 2020)\n",
       "(EPL source distribution)\n",
       "Java Runtime: OpenJDK Runtime Environment\n",
       "JVM: OpenJDK 64-Bit Server VM\n",
       "Default Encoding: UTF-8\n",
       "Language: en\n",
       "Country: null\n",
       "--></g></svg>"
      ]
     },
     "execution_count": 3,
     "metadata": {},
     "output_type": "execute_result"
    }
   ],
   "source": [
    "%viz --style=\"COMPTREE\" --view=\"Tree\" \"Q\""
   ]
  },
  {
   "cell_type": "code",
   "execution_count": 4,
   "id": "sized-oxygen",
   "metadata": {
    "execution": {
     "iopub.execute_input": "2021-03-26T09:12:05.213130Z",
     "iopub.status.busy": "2021-03-26T09:12:05.212650Z",
     "iopub.status.idle": "2021-03-26T09:12:05.313007Z",
     "shell.execute_reply": "2021-03-26T09:12:05.311767Z"
    }
   },
   "outputs": [
    {
     "data": {
      "image/svg+xml": [
       "<?xml version=\"1.0\" encoding=\"UTF-8\" standalone=\"no\"?><svg xmlns=\"http://www.w3.org/2000/svg\" xmlns:xlink=\"http://www.w3.org/1999/xlink\" contentScriptType=\"application/ecmascript\" contentStyleType=\"text/css\" height=\"303px\" preserveAspectRatio=\"none\" style=\"width:603px;height:303px;background:#000000;\" version=\"1.1\" viewBox=\"0 0 603 303\" width=\"603px\" zoomAndPan=\"magnify\"><defs/><g><rect fill=\"#190E06\" height=\"1\" style=\"stroke: #190E06; stroke-width: 1.0;\" width=\"1\" x=\"0\" y=\"0\"/><rect fill=\"#FFFFFF\" height=\"205.5625\" style=\"stroke: #FFFFFF; stroke-width: 1.0;\" width=\"602\" x=\"0\" y=\"0\"/><text fill=\"#000000\" font-family=\"sans-serif\" font-size=\"12\" font-weight=\"bold\" lengthAdjust=\"spacingAndGlyphs\" textLength=\"159\" x=\"5\" y=\"16.1387\">Welcome to PlantUML!</text><text fill=\"#000000\" font-family=\"sans-serif\" font-size=\"12\" lengthAdjust=\"spacingAndGlyphs\" textLength=\"0\" x=\"9\" y=\"30.1074\"/><text fill=\"#000000\" font-family=\"sans-serif\" font-size=\"12\" lengthAdjust=\"spacingAndGlyphs\" textLength=\"293\" x=\"5\" y=\"44.0762\">If you use this software, you accept its license.</text><text fill=\"#000000\" font-family=\"sans-serif\" font-size=\"12\" lengthAdjust=\"spacingAndGlyphs\" textLength=\"107\" x=\"5\" y=\"58.0449\">(details by typing</text><text fill=\"#000000\" font-family=\"monospace\" font-size=\"12\" lengthAdjust=\"spacingAndGlyphs\" textLength=\"49\" x=\"116\" y=\"58.0449\">license</text><text fill=\"#000000\" font-family=\"sans-serif\" font-size=\"12\" lengthAdjust=\"spacingAndGlyphs\" textLength=\"56\" x=\"169\" y=\"58.0449\">keyword)</text><text fill=\"#000000\" font-family=\"sans-serif\" font-size=\"12\" lengthAdjust=\"spacingAndGlyphs\" textLength=\"0\" x=\"9\" y=\"72.0137\"/><text fill=\"#000000\" font-family=\"sans-serif\" font-size=\"12\" lengthAdjust=\"spacingAndGlyphs\" textLength=\"283\" x=\"5\" y=\"85.9824\">You can start with a simple UML Diagram like:</text><text fill=\"#000000\" font-family=\"sans-serif\" font-size=\"12\" lengthAdjust=\"spacingAndGlyphs\" textLength=\"0\" x=\"9\" y=\"99.9512\"/><text fill=\"#000000\" font-family=\"monospace\" font-size=\"12\" lengthAdjust=\"spacingAndGlyphs\" textLength=\"119\" x=\"5\" y=\"113.9199\">Bob-&gt;Alice: Hello</text><text fill=\"#000000\" font-family=\"sans-serif\" font-size=\"12\" lengthAdjust=\"spacingAndGlyphs\" textLength=\"0\" x=\"9\" y=\"127.8887\"/><text fill=\"#000000\" font-family=\"sans-serif\" font-size=\"12\" lengthAdjust=\"spacingAndGlyphs\" textLength=\"14\" x=\"5\" y=\"141.8574\">Or</text><text fill=\"#000000\" font-family=\"sans-serif\" font-size=\"12\" lengthAdjust=\"spacingAndGlyphs\" textLength=\"0\" x=\"9\" y=\"155.8262\"/><text fill=\"#000000\" font-family=\"monospace\" font-size=\"12\" lengthAdjust=\"spacingAndGlyphs\" textLength=\"91\" x=\"5\" y=\"169.7949\">class Example</text><text fill=\"#000000\" font-family=\"sans-serif\" font-size=\"12\" lengthAdjust=\"spacingAndGlyphs\" textLength=\"0\" x=\"9\" y=\"183.7637\"/><text fill=\"#000000\" font-family=\"sans-serif\" font-size=\"12\" lengthAdjust=\"spacingAndGlyphs\" textLength=\"349\" x=\"5\" y=\"197.7324\">You will find more information about PlantUML syntax on</text><text fill=\"#000000\" font-family=\"sans-serif\" font-size=\"12\" lengthAdjust=\"spacingAndGlyphs\" text-decoration=\"underline\" textLength=\"129\" x=\"358\" y=\"197.7324\">https://plantuml.com</text><image height=\"71\" width=\"80\" x=\"516\" xlink:href=\"data:image/png;base64,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\" y=\"6\"/><rect fill=\"#000000\" height=\"96.4844\" style=\"stroke: #000000; stroke-width: 1.0;\" width=\"602\" x=\"0\" y=\"205.5625\"/><rect fill=\"#33FF02\" height=\"21.2969\" style=\"stroke: #33FF02; stroke-width: 1.0;\" width=\"170\" x=\"5\" y=\"210.5625\"/><text fill=\"#000000\" font-family=\"sans-serif\" font-size=\"14\" font-weight=\"bold\" lengthAdjust=\"spacingAndGlyphs\" textLength=\"168\" x=\"6\" y=\"225.5625\">[From string (line 2) ]</text><text fill=\"#33FF02\" font-family=\"sans-serif\" font-size=\"14\" font-weight=\"bold\" lengthAdjust=\"spacingAndGlyphs\" textLength=\"0\" x=\"10\" y=\"245.8594\"/><text fill=\"#33FF02\" font-family=\"sans-serif\" font-size=\"14\" font-weight=\"bold\" lengthAdjust=\"spacingAndGlyphs\" textLength=\"79\" x=\"5\" y=\"262.1563\">@startuml</text><text fill=\"#33FF02\" font-family=\"sans-serif\" font-size=\"14\" font-weight=\"bold\" lengthAdjust=\"spacingAndGlyphs\" textLength=\"0\" x=\"10\" y=\"278.4531\"/><text fill=\"#FF0000\" font-family=\"sans-serif\" font-size=\"14\" font-weight=\"bold\" lengthAdjust=\"spacingAndGlyphs\" textLength=\"142\" x=\"10\" y=\"294.75\">Empty description</text><!--MD5=[f59edd8218d337f74d0c332fc6737304]\n",
       "@startuml\r\n",
       " \r\n",
       "@enduml\r\n",
       "\n",
       "PlantUML version 1.2020.13(Sat Jun 13 12:26:38 UTC 2020)\n",
       "(EPL source distribution)\n",
       "Java Runtime: OpenJDK Runtime Environment\n",
       "JVM: OpenJDK 64-Bit Server VM\n",
       "Default Encoding: UTF-8\n",
       "Language: en\n",
       "Country: null\n",
       "--></g></svg>"
      ]
     },
     "execution_count": 4,
     "metadata": {},
     "output_type": "execute_result"
    }
   ],
   "source": [
    "%viz --style=\"COMPTREE\" --view=\"State\" \"Q\""
   ]
  },
  {
   "cell_type": "code",
   "execution_count": 5,
   "id": "moving-panama",
   "metadata": {
    "execution": {
     "iopub.execute_input": "2021-03-26T09:12:05.362976Z",
     "iopub.status.busy": "2021-03-26T09:12:05.362600Z",
     "iopub.status.idle": "2021-03-26T09:12:05.406444Z",
     "shell.execute_reply": "2021-03-26T09:12:05.406897Z"
    }
   },
   "outputs": [
    {
     "data": {
      "image/svg+xml": [
       "<?xml version=\"1.0\" encoding=\"UTF-8\" standalone=\"no\"?><svg xmlns=\"http://www.w3.org/2000/svg\" xmlns:xlink=\"http://www.w3.org/1999/xlink\" contentScriptType=\"application/ecmascript\" contentStyleType=\"text/css\" height=\"192px\" preserveAspectRatio=\"none\" style=\"width:279px;height:192px;\" version=\"1.1\" viewBox=\"0 0 279 192\" width=\"279px\" zoomAndPan=\"magnify\"><defs><filter height=\"300%\" id=\"f1wvisbi8zgfzo\" width=\"300%\" x=\"-1\" y=\"-1\"><feGaussianBlur result=\"blurOut\" stdDeviation=\"2.0\"/><feColorMatrix in=\"blurOut\" result=\"blurOut2\" type=\"matrix\" values=\"0 0 0 0 0 0 0 0 0 0 0 0 0 0 0 0 0 0 .4 0\"/><feOffset dx=\"4.0\" dy=\"4.0\" in=\"blurOut2\" result=\"blurOut3\"/><feBlend in=\"SourceGraphic\" in2=\"blurOut3\" mode=\"normal\"/></filter></defs><g><!--MD5=[fbc87193dbaf4d95561dea2c320d4a47]\n",
       "cluster E1--><a href=\"psysml:e7978fe0-b69e-4191-a6c6-ff9a405cd716\" target=\"_top\" title=\"psysml:e7978fe0-b69e-4191-a6c6-ff9a405cd716\" xlink:actuate=\"onRequest\" xlink:href=\"psysml:e7978fe0-b69e-4191-a6c6-ff9a405cd716\" xlink:show=\"new\" xlink:title=\"psysml:e7978fe0-b69e-4191-a6c6-ff9a405cd716\" xlink:type=\"simple\"><polygon fill=\"#FFFFFF\" filter=\"url(#f1wvisbi8zgfzo)\" points=\"16,6,34,6,41,28.2969,257,28.2969,257,180,16,180,16,6\" style=\"stroke: #000000; stroke-width: 1.5;\"/><line style=\"stroke: #000000; stroke-width: 1.5;\" x1=\"16\" x2=\"41\" y1=\"28.2969\" y2=\"28.2969\"/><text fill=\"#000000\" font-family=\"sans-serif\" font-size=\"14\" font-weight=\"bold\" lengthAdjust=\"spacingAndGlyphs\" textLength=\"12\" x=\"20\" y=\"20.9951\">Q</text></a><!--MD5=[e4f7fae6ed58524ba242bb0b0d3be6b7]\n",
       "cluster E2--><a href=\"psysml:d69286fc-6be9-4686-bca9-82760e97d021\" target=\"_top\" title=\"psysml:d69286fc-6be9-4686-bca9-82760e97d021\" xlink:actuate=\"onRequest\" xlink:href=\"psysml:d69286fc-6be9-4686-bca9-82760e97d021\" xlink:show=\"new\" xlink:title=\"psysml:d69286fc-6be9-4686-bca9-82760e97d021\" xlink:type=\"simple\"><rect fill=\"#FFFFFF\" filter=\"url(#f1wvisbi8zgfzo)\" height=\"91\" id=\"E2\" rx=\"10\" ry=\"10\" style=\"stroke: #A80036; stroke-width: 1.5;\" width=\"82\" x=\"151\" y=\"65\"/><rect fill=\"#FEFECE\" height=\"23.9688\" rx=\"10\" ry=\"10\" style=\"stroke: #FEFECE; stroke-width: 1.5;\" width=\"82\" x=\"151\" y=\"65\"/><rect fill=\"#FEFECE\" height=\"10\" style=\"stroke: #FEFECE; stroke-width: 1.5;\" width=\"82\" x=\"151\" y=\"78.9688\"/><rect fill=\"none\" height=\"91\" id=\"E2\" rx=\"10\" ry=\"10\" style=\"stroke: #A80036; stroke-width: 1.5;\" width=\"82\" x=\"151\" y=\"65\"/><text fill=\"#000000\" font-family=\"sans-serif\" font-size=\"12\" lengthAdjust=\"spacingAndGlyphs\" textLength=\"4\" x=\"190\" y=\"81.1387\">f</text><line style=\"stroke: #A80036; stroke-width: 1.0;\" x1=\"151\" x2=\"233\" y1=\"88.9688\" y2=\"88.9688\"/></a><!--MD5=[f6df4d0ebaf0b5dfb2ced0ae5af7c670]\n",
       "cluster E4--><a href=\"psysml:6e0f0160-dcde-436d-afd9-a7845bbec9b5\" target=\"_top\" title=\"psysml:6e0f0160-dcde-436d-afd9-a7845bbec9b5\" xlink:actuate=\"onRequest\" xlink:href=\"psysml:6e0f0160-dcde-436d-afd9-a7845bbec9b5\" xlink:show=\"new\" xlink:title=\"psysml:6e0f0160-dcde-436d-afd9-a7845bbec9b5\" xlink:type=\"simple\"><rect fill=\"#FFFFFF\" filter=\"url(#f1wvisbi8zgfzo)\" height=\"107\" id=\"E4\" style=\"stroke: #A80036; stroke-width: 1.5;\" width=\"87\" x=\"40\" y=\"49\"/><rect fill=\"#FEFECE\" height=\"37.9375\" style=\"stroke: #A80036; stroke-width: 1.5;\" width=\"87\" x=\"40\" y=\"49\"/><text fill=\"#000000\" font-family=\"sans-serif\" font-size=\"12\" font-style=\"italic\" lengthAdjust=\"spacingAndGlyphs\" textLength=\"64\" x=\"51.5\" y=\"65.1387\">«part def»</text><text fill=\"#000000\" font-family=\"sans-serif\" font-size=\"12\" lengthAdjust=\"spacingAndGlyphs\" textLength=\"8\" x=\"79.5\" y=\"79.1074\">C</text></a><g id=\"E1.E2.E3\"><a href=\"psysml:05544d0a-8d7e-4ac4-8a38-1321d7df08dd\" target=\"_top\" title=\"psysml:05544d0a-8d7e-4ac4-8a38-1321d7df08dd\" xlink:actuate=\"onRequest\" xlink:href=\"psysml:05544d0a-8d7e-4ac4-8a38-1321d7df08dd\" xlink:show=\"new\" xlink:title=\"psysml:05544d0a-8d7e-4ac4-8a38-1321d7df08dd\" xlink:type=\"simple\"><rect fill=\"#FEFECE\" filter=\"url(#f1wvisbi8zgfzo)\" height=\"40\" id=\"E3\" rx=\"10\" ry=\"10\" style=\"stroke: #A80036; stroke-width: 1.5;\" width=\"50\" x=\"167\" y=\"100\"/><ellipse cx=\"186.5\" cy=\"116\" fill=\"#B6DBBB\" rx=\"11\" ry=\"11\" style=\"stroke: #A80036; stroke-width: 1.0;\"/><path d=\"M182.375,117.9219 L182.375,110.1094 L184.8281,110.1094 L184.8281,118.5469 Q184.8281,119.4688 185.2969,120 Q185.7813,120.5313 186.6094,120.5313 Q187.4531,120.5313 187.9219,120 Q188.3906,119.4688 188.3906,118.5469 L188.3906,110.1094 L190.8438,110.1094 L190.8438,117.9219 Q190.8438,120.4531 189.8438,121.5938 Q188.8438,122.7344 186.6094,122.7344 Q184.3906,122.7344 183.375,121.5938 Q182.375,120.4531 182.375,117.9219 Z \"/><text fill=\"#000000\" font-family=\"sans-serif\" font-size=\"12\" lengthAdjust=\"spacingAndGlyphs\" textLength=\"8\" x=\"201.5\" y=\"120.1543\">a</text></a></g><g id=\"E1.E4.E5\"><a href=\"psysml:c2eaf658-adee-4a19-a83e-00cce7f1793f\" target=\"_top\" title=\"psysml:c2eaf658-adee-4a19-a83e-00cce7f1793f\" xlink:actuate=\"onRequest\" xlink:href=\"psysml:c2eaf658-adee-4a19-a83e-00cce7f1793f\" xlink:show=\"new\" xlink:title=\"psysml:c2eaf658-adee-4a19-a83e-00cce7f1793f\" xlink:type=\"simple\"><rect fill=\"#FEFECE\" filter=\"url(#f1wvisbi8zgfzo)\" height=\"40\" id=\"E5\" rx=\"10\" ry=\"10\" style=\"stroke: #A80036; stroke-width: 1.5;\" width=\"50\" x=\"58\" y=\"100\"/><ellipse cx=\"77.5\" cy=\"116\" fill=\"#B6DBBB\" rx=\"11\" ry=\"11\" style=\"stroke: #A80036; stroke-width: 1.0;\"/><path d=\"M73.375,117.9219 L73.375,110.1094 L75.8281,110.1094 L75.8281,118.5469 Q75.8281,119.4688 76.2969,120 Q76.7813,120.5313 77.6094,120.5313 Q78.4531,120.5313 78.9219,120 Q79.3906,119.4688 79.3906,118.5469 L79.3906,110.1094 L81.8438,110.1094 L81.8438,117.9219 Q81.8438,120.4531 80.8438,121.5938 Q79.8438,122.7344 77.6094,122.7344 Q75.3906,122.7344 74.375,121.5938 Q73.375,120.4531 73.375,117.9219 Z \"/><text fill=\"#000000\" font-family=\"sans-serif\" font-size=\"12\" lengthAdjust=\"spacingAndGlyphs\" textLength=\"8\" x=\"92.5\" y=\"120.1543\">g</text></a></g><!--MD5=[37157d07258e32e98bf36c2439f131d9]\n",
       "@startuml\r\n",
       "skinparam ranksep 8\r\n",
       "skinparam rectangle {\r\n",
       " backgroundColor<<block>> LightGreen\r\n",
       "}\r\n",
       " \r\n",
       "package \"Q\" as E1  [[psysml:e7978fe0-b69e-4191-a6c6-ff9a405cd716 ]]  {\r\n",
       "rec usage \"f\" as E2  [[psysml:d69286fc-6be9-4686-bca9-82760e97d021 ]] {\r\n",
       "rec usage \"a\" as E3  [[psysml:05544d0a-8d7e-4ac4-8a38-1321d7df08dd ]] {\r\n",
       "}\r\n",
       "}\r\n",
       "rec def \"C\" as E4  <<(T,blue)part def>> [[psysml:6e0f0160-dcde-436d-afd9-a7845bbec9b5 ]] {\r\n",
       "rec usage \"g\" as E5  [[psysml:c2eaf658-adee-4a19-a83e-00cce7f1793f ]] {\r\n",
       "}\r\n",
       "}\r\n",
       "}\r\n",
       "@enduml\r\n",
       "\n",
       "PlantUML version 1.2020.13(Sat Jun 13 12:26:38 UTC 2020)\n",
       "(EPL source distribution)\n",
       "Java Runtime: OpenJDK Runtime Environment\n",
       "JVM: OpenJDK 64-Bit Server VM\n",
       "Default Encoding: UTF-8\n",
       "Language: en\n",
       "Country: null\n",
       "--></g></svg>"
      ]
     },
     "execution_count": 5,
     "metadata": {},
     "output_type": "execute_result"
    }
   ],
   "source": [
    "%viz --style=\"COMPTREE\" --view=\"Interconnection\" \"Q\""
   ]
  },
  {
   "cell_type": "code",
   "execution_count": 6,
   "id": "formed-welcome",
   "metadata": {
    "execution": {
     "iopub.execute_input": "2021-03-26T09:12:05.457161Z",
     "iopub.status.busy": "2021-03-26T09:12:05.456821Z",
     "iopub.status.idle": "2021-03-26T09:12:05.461864Z",
     "shell.execute_reply": "2021-03-26T09:12:05.462193Z"
    }
   },
   "outputs": [
    {
     "data": {
      "image/svg+xml": [
       "<?xml version=\"1.0\" encoding=\"UTF-8\" standalone=\"no\"?><svg xmlns=\"http://www.w3.org/2000/svg\" xmlns:xlink=\"http://www.w3.org/1999/xlink\" contentScriptType=\"application/ecmascript\" contentStyleType=\"text/css\" height=\"12px\" preserveAspectRatio=\"none\" style=\"width:12px;height:12px;\" version=\"1.1\" viewBox=\"0 0 12 12\" width=\"12px\" zoomAndPan=\"magnify\"><defs/><g><!--MD5=[6a4cb978cab31700e1ce5529f947a75d]\n",
       "@startuml\r\n",
       "skinparam ranksep 8\r\n",
       " \r\n",
       "@enduml\r\n",
       "\n",
       "PlantUML version 1.2020.13(Sat Jun 13 12:26:38 UTC 2020)\n",
       "(EPL source distribution)\n",
       "Java Runtime: OpenJDK Runtime Environment\n",
       "JVM: OpenJDK 64-Bit Server VM\n",
       "Default Encoding: UTF-8\n",
       "Language: en\n",
       "Country: null\n",
       "--></g></svg>"
      ]
     },
     "execution_count": 6,
     "metadata": {},
     "output_type": "execute_result"
    }
   ],
   "source": [
    "%viz --style=\"COMPTREE\" --view=\"Action\" \"Q\""
   ]
  },
  {
   "cell_type": "code",
   "execution_count": 7,
   "id": "boolean-processing",
   "metadata": {
    "execution": {
     "iopub.execute_input": "2021-03-26T09:12:05.514384Z",
     "iopub.status.busy": "2021-03-26T09:12:05.513934Z",
     "iopub.status.idle": "2021-03-26T09:12:05.554319Z",
     "shell.execute_reply": "2021-03-26T09:12:05.553102Z"
    }
   },
   "outputs": [
    {
     "data": {
      "image/svg+xml": [
       "<?xml version=\"1.0\" encoding=\"UTF-8\" standalone=\"no\"?><svg xmlns=\"http://www.w3.org/2000/svg\" xmlns:xlink=\"http://www.w3.org/1999/xlink\" contentScriptType=\"application/ecmascript\" contentStyleType=\"text/css\" height=\"221px\" preserveAspectRatio=\"none\" style=\"width:265px;height:221px;\" version=\"1.1\" viewBox=\"0 0 265 221\" width=\"265px\" zoomAndPan=\"magnify\"><defs><filter height=\"300%\" id=\"f15xgx3jovehaw\" width=\"300%\" x=\"-1\" y=\"-1\"><feGaussianBlur result=\"blurOut\" stdDeviation=\"2.0\"/><feColorMatrix in=\"blurOut\" result=\"blurOut2\" type=\"matrix\" values=\"0 0 0 0 0 0 0 0 0 0 0 0 0 0 0 0 0 0 .4 0\"/><feOffset dx=\"4.0\" dy=\"4.0\" in=\"blurOut2\" result=\"blurOut3\"/><feBlend in=\"SourceGraphic\" in2=\"blurOut3\" mode=\"normal\"/></filter></defs><g><!--MD5=[fbc87193dbaf4d95561dea2c320d4a47]\n",
       "cluster E1--><a href=\"psysml:e7978fe0-b69e-4191-a6c6-ff9a405cd716\" target=\"_top\" title=\"psysml:e7978fe0-b69e-4191-a6c6-ff9a405cd716\" xlink:actuate=\"onRequest\" xlink:href=\"psysml:e7978fe0-b69e-4191-a6c6-ff9a405cd716\" xlink:show=\"new\" xlink:title=\"psysml:e7978fe0-b69e-4191-a6c6-ff9a405cd716\" xlink:type=\"simple\"><polygon fill=\"#FFFFFF\" filter=\"url(#f15xgx3jovehaw)\" points=\"16,6,34,6,41,28.2969,243,28.2969,243,209,16,209,16,6\" style=\"stroke: #000000; stroke-width: 1.5;\"/><line style=\"stroke: #000000; stroke-width: 1.5;\" x1=\"16\" x2=\"41\" y1=\"28.2969\" y2=\"28.2969\"/><text fill=\"#000000\" font-family=\"sans-serif\" font-size=\"14\" font-weight=\"bold\" lengthAdjust=\"spacingAndGlyphs\" textLength=\"12\" x=\"20\" y=\"20.9951\">Q</text></a><!--MD5=[b4997ac47864f28c2f74865a473b2911]\n",
       "class E2--><a href=\"psysml:d69286fc-6be9-4686-bca9-82760e97d021\" target=\"_top\" title=\"psysml:d69286fc-6be9-4686-bca9-82760e97d021\" xlink:actuate=\"onRequest\" xlink:href=\"psysml:d69286fc-6be9-4686-bca9-82760e97d021\" xlink:show=\"new\" xlink:title=\"psysml:d69286fc-6be9-4686-bca9-82760e97d021\" xlink:type=\"simple\"><rect fill=\"#FEFECE\" filter=\"url(#f15xgx3jovehaw)\" height=\"45.9375\" id=\"E2\" rx=\"10\" ry=\"10\" style=\"stroke: #A80036; stroke-width: 1.5;\" width=\"68\" x=\"159\" y=\"41\"/><ellipse cx=\"174\" cy=\"59.9688\" fill=\"#0000FF\" rx=\"11\" ry=\"11\" style=\"stroke: #A80036; stroke-width: 1.0;\"/><path d=\"M174.8438,66.7188 L172.3906,66.7188 L172.3906,56.4688 L169.25,56.4688 L169.25,54.3281 L177.9844,54.3281 L177.9844,56.4688 L174.8438,56.4688 L174.8438,66.7188 Z \"/><text fill=\"#000000\" font-family=\"sans-serif\" font-size=\"12\" font-style=\"italic\" lengthAdjust=\"spacingAndGlyphs\" textLength=\"40\" x=\"186\" y=\"57.1387\">«part»</text><text fill=\"#000000\" font-family=\"sans-serif\" font-size=\"12\" lengthAdjust=\"spacingAndGlyphs\" textLength=\"4\" x=\"204\" y=\"71.1074\">f</text><line style=\"stroke: #A80036; stroke-width: 1.5;\" x1=\"160\" x2=\"226\" y1=\"78.9375\" y2=\"78.9375\"/></a><!--MD5=[09b614a08d8cba4a07c9adeb5e0fee81]\n",
       "class E3--><a href=\"psysml:05544d0a-8d7e-4ac4-8a38-1321d7df08dd\" target=\"_top\" title=\"psysml:05544d0a-8d7e-4ac4-8a38-1321d7df08dd\" xlink:actuate=\"onRequest\" xlink:href=\"psysml:05544d0a-8d7e-4ac4-8a38-1321d7df08dd\" xlink:show=\"new\" xlink:title=\"psysml:05544d0a-8d7e-4ac4-8a38-1321d7df08dd\" xlink:type=\"simple\"><rect fill=\"#FEFECE\" filter=\"url(#f15xgx3jovehaw)\" height=\"45.9375\" id=\"E3\" rx=\"10\" ry=\"10\" style=\"stroke: #A80036; stroke-width: 1.5;\" width=\"68\" x=\"159\" y=\"147\"/><ellipse cx=\"174\" cy=\"165.9688\" fill=\"#0000FF\" rx=\"11\" ry=\"11\" style=\"stroke: #A80036; stroke-width: 1.0;\"/><path d=\"M174.8438,172.7188 L172.3906,172.7188 L172.3906,162.4688 L169.25,162.4688 L169.25,160.3281 L177.9844,160.3281 L177.9844,162.4688 L174.8438,162.4688 L174.8438,172.7188 Z \"/><text fill=\"#000000\" font-family=\"sans-serif\" font-size=\"12\" font-style=\"italic\" lengthAdjust=\"spacingAndGlyphs\" textLength=\"40\" x=\"186\" y=\"163.1387\">«part»</text><text fill=\"#000000\" font-family=\"sans-serif\" font-size=\"12\" lengthAdjust=\"spacingAndGlyphs\" textLength=\"8\" x=\"202\" y=\"177.1074\">a</text><line style=\"stroke: #A80036; stroke-width: 1.5;\" x1=\"160\" x2=\"226\" y1=\"184.9375\" y2=\"184.9375\"/></a><!--MD5=[ebbe1d658d1005bcc118a6aa81145e00]\n",
       "class E4--><a href=\"psysml:6e0f0160-dcde-436d-afd9-a7845bbec9b5\" target=\"_top\" title=\"psysml:6e0f0160-dcde-436d-afd9-a7845bbec9b5\" xlink:actuate=\"onRequest\" xlink:href=\"psysml:6e0f0160-dcde-436d-afd9-a7845bbec9b5\" xlink:show=\"new\" xlink:title=\"psysml:6e0f0160-dcde-436d-afd9-a7845bbec9b5\" xlink:type=\"simple\"><rect fill=\"#FEFECE\" filter=\"url(#f15xgx3jovehaw)\" height=\"45.9375\" id=\"E4\" style=\"stroke: #A80036; stroke-width: 1.5;\" width=\"92\" x=\"32\" y=\"41\"/><ellipse cx=\"47\" cy=\"59.9688\" fill=\"#0000FF\" rx=\"11\" ry=\"11\" style=\"stroke: #A80036; stroke-width: 1.0;\"/><path d=\"M47.8438,66.7188 L45.3906,66.7188 L45.3906,56.4688 L42.25,56.4688 L42.25,54.3281 L50.9844,54.3281 L50.9844,56.4688 L47.8438,56.4688 L47.8438,66.7188 Z \"/><text fill=\"#000000\" font-family=\"sans-serif\" font-size=\"12\" font-style=\"italic\" lengthAdjust=\"spacingAndGlyphs\" textLength=\"64\" x=\"59\" y=\"57.1387\">«part def»</text><text fill=\"#000000\" font-family=\"sans-serif\" font-size=\"12\" lengthAdjust=\"spacingAndGlyphs\" textLength=\"8\" x=\"87\" y=\"71.1074\">C</text><line style=\"stroke: #A80036; stroke-width: 1.5;\" x1=\"33\" x2=\"123\" y1=\"78.9375\" y2=\"78.9375\"/></a><!--MD5=[270fce915f116d4de14055a7c1d9a0f3]\n",
       "class E5--><a href=\"psysml:c2eaf658-adee-4a19-a83e-00cce7f1793f\" target=\"_top\" title=\"psysml:c2eaf658-adee-4a19-a83e-00cce7f1793f\" xlink:actuate=\"onRequest\" xlink:href=\"psysml:c2eaf658-adee-4a19-a83e-00cce7f1793f\" xlink:show=\"new\" xlink:title=\"psysml:c2eaf658-adee-4a19-a83e-00cce7f1793f\" xlink:type=\"simple\"><rect fill=\"#FEFECE\" filter=\"url(#f15xgx3jovehaw)\" height=\"45.9375\" id=\"E5\" rx=\"10\" ry=\"10\" style=\"stroke: #A80036; stroke-width: 1.5;\" width=\"68\" x=\"44\" y=\"147\"/><ellipse cx=\"59\" cy=\"165.9688\" fill=\"#0000FF\" rx=\"11\" ry=\"11\" style=\"stroke: #A80036; stroke-width: 1.0;\"/><path d=\"M59.8438,172.7188 L57.3906,172.7188 L57.3906,162.4688 L54.25,162.4688 L54.25,160.3281 L62.9844,160.3281 L62.9844,162.4688 L59.8438,162.4688 L59.8438,172.7188 Z \"/><text fill=\"#000000\" font-family=\"sans-serif\" font-size=\"12\" font-style=\"italic\" lengthAdjust=\"spacingAndGlyphs\" textLength=\"40\" x=\"71\" y=\"163.1387\">«part»</text><text fill=\"#000000\" font-family=\"sans-serif\" font-size=\"12\" lengthAdjust=\"spacingAndGlyphs\" textLength=\"8\" x=\"87\" y=\"177.1074\">g</text><line style=\"stroke: #A80036; stroke-width: 1.5;\" x1=\"45\" x2=\"111\" y1=\"184.9375\" y2=\"184.9375\"/></a><!--MD5=[209b3feb70ccb6233bfe1053d122c12c]\n",
       "reverse link E2 to E3--><a href=\"psysml:05544d0a-8d7e-4ac4-8a38-1321d7df08dd\" target=\"_top\" title=\"psysml:05544d0a-8d7e-4ac4-8a38-1321d7df08dd\" xlink:actuate=\"onRequest\" xlink:href=\"psysml:05544d0a-8d7e-4ac4-8a38-1321d7df08dd\" xlink:show=\"new\" xlink:title=\"psysml:05544d0a-8d7e-4ac4-8a38-1321d7df08dd\" xlink:type=\"simple\"><path d=\"M193,100.44 C193,115.87 193,133.47 193,146.98 \" fill=\"none\" id=\"E2&lt;-E3\" style=\"stroke: #A80036; stroke-width: 1.0;\"/><polygon fill=\"#A80036\" points=\"193,87.06,189,93.06,193,99.06,197,93.06,193,87.06\" style=\"stroke: #A80036; stroke-width: 1.0;\"/></a><!--MD5=[62aa6af11e70f752912c1cb0466f24f7]\n",
       "reverse link E4 to E5--><a href=\"psysml:c2eaf658-adee-4a19-a83e-00cce7f1793f\" target=\"_top\" title=\"psysml:c2eaf658-adee-4a19-a83e-00cce7f1793f\" xlink:actuate=\"onRequest\" xlink:href=\"psysml:c2eaf658-adee-4a19-a83e-00cce7f1793f\" xlink:show=\"new\" xlink:title=\"psysml:c2eaf658-adee-4a19-a83e-00cce7f1793f\" xlink:type=\"simple\"><path d=\"M78,100.44 C78,115.87 78,133.47 78,146.98 \" fill=\"none\" id=\"E4&lt;-E5\" style=\"stroke: #A80036; stroke-width: 1.0;\"/><polygon fill=\"#A80036\" points=\"78,87.06,74,93.06,78,99.06,82,93.06,78,87.06\" style=\"stroke: #A80036; stroke-width: 1.0;\"/></a><!--MD5=[0fc1ec39a7114e38311c91e3bee74728]\n",
       "@startuml\r\n",
       " \r\n",
       "package \"Q\" as E1  [[psysml:e7978fe0-b69e-4191-a6c6-ff9a405cd716 ]]  {\r\n",
       "comp usage \"f\" as E2  <<(T,blue)part>> [[psysml:d69286fc-6be9-4686-bca9-82760e97d021 ]] {\r\n",
       "}\r\n",
       "comp usage \"a\" as E3  <<(T,blue)part>> [[psysml:05544d0a-8d7e-4ac4-8a38-1321d7df08dd ]] {\r\n",
       "}\r\n",
       "comp def \"C\" as E4  <<(T,blue)part def>> [[psysml:6e0f0160-dcde-436d-afd9-a7845bbec9b5 ]] {\r\n",
       "}\r\n",
       "comp usage \"g\" as E5  <<(T,blue)part>> [[psysml:c2eaf658-adee-4a19-a83e-00cce7f1793f ]] {\r\n",
       "}\r\n",
       "E2 *- - E3 [[psysml:05544d0a-8d7e-4ac4-8a38-1321d7df08dd ]] \r\n",
       "E4 *- - E5 [[psysml:c2eaf658-adee-4a19-a83e-00cce7f1793f ]] \r\n",
       "}\r\n",
       "@enduml\r\n",
       "\n",
       "PlantUML version 1.2020.13(Sat Jun 13 12:26:38 UTC 2020)\n",
       "(EPL source distribution)\n",
       "Java Runtime: OpenJDK Runtime Environment\n",
       "JVM: OpenJDK 64-Bit Server VM\n",
       "Default Encoding: UTF-8\n",
       "Language: en\n",
       "Country: null\n",
       "--></g></svg>"
      ]
     },
     "execution_count": 7,
     "metadata": {},
     "output_type": "execute_result"
    }
   ],
   "source": [
    "%viz --style=\"COMPTREE\" --view=\"Sequence\" \"Q\""
   ]
  },
  {
   "cell_type": "code",
   "execution_count": 8,
   "id": "competitive-feelings",
   "metadata": {
    "execution": {
     "iopub.execute_input": "2021-03-26T09:12:05.606699Z",
     "iopub.status.busy": "2021-03-26T09:12:05.606172Z",
     "iopub.status.idle": "2021-03-26T09:12:05.644404Z",
     "shell.execute_reply": "2021-03-26T09:12:05.643207Z"
    }
   },
   "outputs": [
    {
     "data": {
      "image/svg+xml": [
       "<?xml version=\"1.0\" encoding=\"UTF-8\" standalone=\"no\"?><svg xmlns=\"http://www.w3.org/2000/svg\" xmlns:xlink=\"http://www.w3.org/1999/xlink\" contentScriptType=\"application/ecmascript\" contentStyleType=\"text/css\" height=\"221px\" preserveAspectRatio=\"none\" style=\"width:265px;height:221px;\" version=\"1.1\" viewBox=\"0 0 265 221\" width=\"265px\" zoomAndPan=\"magnify\"><defs><filter height=\"300%\" id=\"f15xgx3jovehaw\" width=\"300%\" x=\"-1\" y=\"-1\"><feGaussianBlur result=\"blurOut\" stdDeviation=\"2.0\"/><feColorMatrix in=\"blurOut\" result=\"blurOut2\" type=\"matrix\" values=\"0 0 0 0 0 0 0 0 0 0 0 0 0 0 0 0 0 0 .4 0\"/><feOffset dx=\"4.0\" dy=\"4.0\" in=\"blurOut2\" result=\"blurOut3\"/><feBlend in=\"SourceGraphic\" in2=\"blurOut3\" mode=\"normal\"/></filter></defs><g><!--MD5=[fbc87193dbaf4d95561dea2c320d4a47]\n",
       "cluster E1--><a href=\"psysml:e7978fe0-b69e-4191-a6c6-ff9a405cd716\" target=\"_top\" title=\"psysml:e7978fe0-b69e-4191-a6c6-ff9a405cd716\" xlink:actuate=\"onRequest\" xlink:href=\"psysml:e7978fe0-b69e-4191-a6c6-ff9a405cd716\" xlink:show=\"new\" xlink:title=\"psysml:e7978fe0-b69e-4191-a6c6-ff9a405cd716\" xlink:type=\"simple\"><polygon fill=\"#FFFFFF\" filter=\"url(#f15xgx3jovehaw)\" points=\"16,6,34,6,41,28.2969,243,28.2969,243,209,16,209,16,6\" style=\"stroke: #000000; stroke-width: 1.5;\"/><line style=\"stroke: #000000; stroke-width: 1.5;\" x1=\"16\" x2=\"41\" y1=\"28.2969\" y2=\"28.2969\"/><text fill=\"#000000\" font-family=\"sans-serif\" font-size=\"14\" font-weight=\"bold\" lengthAdjust=\"spacingAndGlyphs\" textLength=\"12\" x=\"20\" y=\"20.9951\">Q</text></a><!--MD5=[b4997ac47864f28c2f74865a473b2911]\n",
       "class E2--><a href=\"psysml:d69286fc-6be9-4686-bca9-82760e97d021\" target=\"_top\" title=\"psysml:d69286fc-6be9-4686-bca9-82760e97d021\" xlink:actuate=\"onRequest\" xlink:href=\"psysml:d69286fc-6be9-4686-bca9-82760e97d021\" xlink:show=\"new\" xlink:title=\"psysml:d69286fc-6be9-4686-bca9-82760e97d021\" xlink:type=\"simple\"><rect fill=\"#FEFECE\" filter=\"url(#f15xgx3jovehaw)\" height=\"45.9375\" id=\"E2\" rx=\"10\" ry=\"10\" style=\"stroke: #A80036; stroke-width: 1.5;\" width=\"68\" x=\"159\" y=\"41\"/><ellipse cx=\"174\" cy=\"59.9688\" fill=\"#0000FF\" rx=\"11\" ry=\"11\" style=\"stroke: #A80036; stroke-width: 1.0;\"/><path d=\"M174.8438,66.7188 L172.3906,66.7188 L172.3906,56.4688 L169.25,56.4688 L169.25,54.3281 L177.9844,54.3281 L177.9844,56.4688 L174.8438,56.4688 L174.8438,66.7188 Z \"/><text fill=\"#000000\" font-family=\"sans-serif\" font-size=\"12\" font-style=\"italic\" lengthAdjust=\"spacingAndGlyphs\" textLength=\"40\" x=\"186\" y=\"57.1387\">«part»</text><text fill=\"#000000\" font-family=\"sans-serif\" font-size=\"12\" lengthAdjust=\"spacingAndGlyphs\" textLength=\"4\" x=\"204\" y=\"71.1074\">f</text><line style=\"stroke: #A80036; stroke-width: 1.5;\" x1=\"160\" x2=\"226\" y1=\"78.9375\" y2=\"78.9375\"/></a><!--MD5=[09b614a08d8cba4a07c9adeb5e0fee81]\n",
       "class E3--><a href=\"psysml:05544d0a-8d7e-4ac4-8a38-1321d7df08dd\" target=\"_top\" title=\"psysml:05544d0a-8d7e-4ac4-8a38-1321d7df08dd\" xlink:actuate=\"onRequest\" xlink:href=\"psysml:05544d0a-8d7e-4ac4-8a38-1321d7df08dd\" xlink:show=\"new\" xlink:title=\"psysml:05544d0a-8d7e-4ac4-8a38-1321d7df08dd\" xlink:type=\"simple\"><rect fill=\"#FEFECE\" filter=\"url(#f15xgx3jovehaw)\" height=\"45.9375\" id=\"E3\" rx=\"10\" ry=\"10\" style=\"stroke: #A80036; stroke-width: 1.5;\" width=\"68\" x=\"159\" y=\"147\"/><ellipse cx=\"174\" cy=\"165.9688\" fill=\"#0000FF\" rx=\"11\" ry=\"11\" style=\"stroke: #A80036; stroke-width: 1.0;\"/><path d=\"M174.8438,172.7188 L172.3906,172.7188 L172.3906,162.4688 L169.25,162.4688 L169.25,160.3281 L177.9844,160.3281 L177.9844,162.4688 L174.8438,162.4688 L174.8438,172.7188 Z \"/><text fill=\"#000000\" font-family=\"sans-serif\" font-size=\"12\" font-style=\"italic\" lengthAdjust=\"spacingAndGlyphs\" textLength=\"40\" x=\"186\" y=\"163.1387\">«part»</text><text fill=\"#000000\" font-family=\"sans-serif\" font-size=\"12\" lengthAdjust=\"spacingAndGlyphs\" textLength=\"8\" x=\"202\" y=\"177.1074\">a</text><line style=\"stroke: #A80036; stroke-width: 1.5;\" x1=\"160\" x2=\"226\" y1=\"184.9375\" y2=\"184.9375\"/></a><!--MD5=[ebbe1d658d1005bcc118a6aa81145e00]\n",
       "class E4--><a href=\"psysml:6e0f0160-dcde-436d-afd9-a7845bbec9b5\" target=\"_top\" title=\"psysml:6e0f0160-dcde-436d-afd9-a7845bbec9b5\" xlink:actuate=\"onRequest\" xlink:href=\"psysml:6e0f0160-dcde-436d-afd9-a7845bbec9b5\" xlink:show=\"new\" xlink:title=\"psysml:6e0f0160-dcde-436d-afd9-a7845bbec9b5\" xlink:type=\"simple\"><rect fill=\"#FEFECE\" filter=\"url(#f15xgx3jovehaw)\" height=\"45.9375\" id=\"E4\" style=\"stroke: #A80036; stroke-width: 1.5;\" width=\"92\" x=\"32\" y=\"41\"/><ellipse cx=\"47\" cy=\"59.9688\" fill=\"#0000FF\" rx=\"11\" ry=\"11\" style=\"stroke: #A80036; stroke-width: 1.0;\"/><path d=\"M47.8438,66.7188 L45.3906,66.7188 L45.3906,56.4688 L42.25,56.4688 L42.25,54.3281 L50.9844,54.3281 L50.9844,56.4688 L47.8438,56.4688 L47.8438,66.7188 Z \"/><text fill=\"#000000\" font-family=\"sans-serif\" font-size=\"12\" font-style=\"italic\" lengthAdjust=\"spacingAndGlyphs\" textLength=\"64\" x=\"59\" y=\"57.1387\">«part def»</text><text fill=\"#000000\" font-family=\"sans-serif\" font-size=\"12\" lengthAdjust=\"spacingAndGlyphs\" textLength=\"8\" x=\"87\" y=\"71.1074\">C</text><line style=\"stroke: #A80036; stroke-width: 1.5;\" x1=\"33\" x2=\"123\" y1=\"78.9375\" y2=\"78.9375\"/></a><!--MD5=[270fce915f116d4de14055a7c1d9a0f3]\n",
       "class E5--><a href=\"psysml:c2eaf658-adee-4a19-a83e-00cce7f1793f\" target=\"_top\" title=\"psysml:c2eaf658-adee-4a19-a83e-00cce7f1793f\" xlink:actuate=\"onRequest\" xlink:href=\"psysml:c2eaf658-adee-4a19-a83e-00cce7f1793f\" xlink:show=\"new\" xlink:title=\"psysml:c2eaf658-adee-4a19-a83e-00cce7f1793f\" xlink:type=\"simple\"><rect fill=\"#FEFECE\" filter=\"url(#f15xgx3jovehaw)\" height=\"45.9375\" id=\"E5\" rx=\"10\" ry=\"10\" style=\"stroke: #A80036; stroke-width: 1.5;\" width=\"68\" x=\"44\" y=\"147\"/><ellipse cx=\"59\" cy=\"165.9688\" fill=\"#0000FF\" rx=\"11\" ry=\"11\" style=\"stroke: #A80036; stroke-width: 1.0;\"/><path d=\"M59.8438,172.7188 L57.3906,172.7188 L57.3906,162.4688 L54.25,162.4688 L54.25,160.3281 L62.9844,160.3281 L62.9844,162.4688 L59.8438,162.4688 L59.8438,172.7188 Z \"/><text fill=\"#000000\" font-family=\"sans-serif\" font-size=\"12\" font-style=\"italic\" lengthAdjust=\"spacingAndGlyphs\" textLength=\"40\" x=\"71\" y=\"163.1387\">«part»</text><text fill=\"#000000\" font-family=\"sans-serif\" font-size=\"12\" lengthAdjust=\"spacingAndGlyphs\" textLength=\"8\" x=\"87\" y=\"177.1074\">g</text><line style=\"stroke: #A80036; stroke-width: 1.5;\" x1=\"45\" x2=\"111\" y1=\"184.9375\" y2=\"184.9375\"/></a><!--MD5=[209b3feb70ccb6233bfe1053d122c12c]\n",
       "reverse link E2 to E3--><a href=\"psysml:05544d0a-8d7e-4ac4-8a38-1321d7df08dd\" target=\"_top\" title=\"psysml:05544d0a-8d7e-4ac4-8a38-1321d7df08dd\" xlink:actuate=\"onRequest\" xlink:href=\"psysml:05544d0a-8d7e-4ac4-8a38-1321d7df08dd\" xlink:show=\"new\" xlink:title=\"psysml:05544d0a-8d7e-4ac4-8a38-1321d7df08dd\" xlink:type=\"simple\"><path d=\"M193,100.44 C193,115.87 193,133.47 193,146.98 \" fill=\"none\" id=\"E2&lt;-E3\" style=\"stroke: #A80036; stroke-width: 1.0;\"/><polygon fill=\"#A80036\" points=\"193,87.06,189,93.06,193,99.06,197,93.06,193,87.06\" style=\"stroke: #A80036; stroke-width: 1.0;\"/></a><!--MD5=[62aa6af11e70f752912c1cb0466f24f7]\n",
       "reverse link E4 to E5--><a href=\"psysml:c2eaf658-adee-4a19-a83e-00cce7f1793f\" target=\"_top\" title=\"psysml:c2eaf658-adee-4a19-a83e-00cce7f1793f\" xlink:actuate=\"onRequest\" xlink:href=\"psysml:c2eaf658-adee-4a19-a83e-00cce7f1793f\" xlink:show=\"new\" xlink:title=\"psysml:c2eaf658-adee-4a19-a83e-00cce7f1793f\" xlink:type=\"simple\"><path d=\"M78,100.44 C78,115.87 78,133.47 78,146.98 \" fill=\"none\" id=\"E4&lt;-E5\" style=\"stroke: #A80036; stroke-width: 1.0;\"/><polygon fill=\"#A80036\" points=\"78,87.06,74,93.06,78,99.06,82,93.06,78,87.06\" style=\"stroke: #A80036; stroke-width: 1.0;\"/></a><!--MD5=[0fc1ec39a7114e38311c91e3bee74728]\n",
       "@startuml\r\n",
       " \r\n",
       "package \"Q\" as E1  [[psysml:e7978fe0-b69e-4191-a6c6-ff9a405cd716 ]]  {\r\n",
       "comp usage \"f\" as E2  <<(T,blue)part>> [[psysml:d69286fc-6be9-4686-bca9-82760e97d021 ]] {\r\n",
       "}\r\n",
       "comp usage \"a\" as E3  <<(T,blue)part>> [[psysml:05544d0a-8d7e-4ac4-8a38-1321d7df08dd ]] {\r\n",
       "}\r\n",
       "comp def \"C\" as E4  <<(T,blue)part def>> [[psysml:6e0f0160-dcde-436d-afd9-a7845bbec9b5 ]] {\r\n",
       "}\r\n",
       "comp usage \"g\" as E5  <<(T,blue)part>> [[psysml:c2eaf658-adee-4a19-a83e-00cce7f1793f ]] {\r\n",
       "}\r\n",
       "E2 *- - E3 [[psysml:05544d0a-8d7e-4ac4-8a38-1321d7df08dd ]] \r\n",
       "E4 *- - E5 [[psysml:c2eaf658-adee-4a19-a83e-00cce7f1793f ]] \r\n",
       "}\r\n",
       "@enduml\r\n",
       "\n",
       "PlantUML version 1.2020.13(Sat Jun 13 12:26:38 UTC 2020)\n",
       "(EPL source distribution)\n",
       "Java Runtime: OpenJDK Runtime Environment\n",
       "JVM: OpenJDK 64-Bit Server VM\n",
       "Default Encoding: UTF-8\n",
       "Language: en\n",
       "Country: null\n",
       "--></g></svg>"
      ]
     },
     "execution_count": 8,
     "metadata": {},
     "output_type": "execute_result"
    }
   ],
   "source": [
    "%viz --style=\"COMPTREE\" --view=\"MIXED\" \"Q\""
   ]
  },
  {
   "cell_type": "code",
   "execution_count": 9,
   "id": "latter-finland",
   "metadata": {
    "execution": {
     "iopub.execute_input": "2021-03-26T09:12:05.697300Z",
     "iopub.status.busy": "2021-03-26T09:12:05.696754Z",
     "iopub.status.idle": "2021-03-26T09:12:05.743376Z",
     "shell.execute_reply": "2021-03-26T09:12:05.742259Z"
    }
   },
   "outputs": [
    {
     "data": {
      "image/svg+xml": [
       "<?xml version=\"1.0\" encoding=\"UTF-8\" standalone=\"no\"?><svg xmlns=\"http://www.w3.org/2000/svg\" xmlns:xlink=\"http://www.w3.org/1999/xlink\" contentScriptType=\"application/ecmascript\" contentStyleType=\"text/css\" height=\"221px\" preserveAspectRatio=\"none\" style=\"width:213px;height:221px;\" version=\"1.1\" viewBox=\"0 0 213 221\" width=\"213px\" zoomAndPan=\"magnify\"><defs/><g><!--MD5=[fbc87193dbaf4d95561dea2c320d4a47]\n",
       "cluster E1--><a href=\"psysml:e7978fe0-b69e-4191-a6c6-ff9a405cd716\" target=\"_top\" title=\"psysml:e7978fe0-b69e-4191-a6c6-ff9a405cd716\" xlink:actuate=\"onRequest\" xlink:href=\"psysml:e7978fe0-b69e-4191-a6c6-ff9a405cd716\" xlink:show=\"new\" xlink:title=\"psysml:e7978fe0-b69e-4191-a6c6-ff9a405cd716\" xlink:type=\"simple\"><polygon fill=\"#FFFFFF\" points=\"16,6,34,6,41,28.2969,191,28.2969,191,209,16,209,16,6\" style=\"stroke: #000000; stroke-width: 1.5;\"/><line style=\"stroke: #000000; stroke-width: 1.5;\" x1=\"16\" x2=\"41\" y1=\"28.2969\" y2=\"28.2969\"/><text fill=\"#000000\" font-family=\"sans-serif\" font-size=\"14\" font-weight=\"bold\" lengthAdjust=\"spacingAndGlyphs\" textLength=\"12\" x=\"20\" y=\"20.9951\">Q</text></a><!--MD5=[b4997ac47864f28c2f74865a473b2911]\n",
       "class E2--><a href=\"psysml:d69286fc-6be9-4686-bca9-82760e97d021\" target=\"_top\" title=\"psysml:d69286fc-6be9-4686-bca9-82760e97d021\" xlink:actuate=\"onRequest\" xlink:href=\"psysml:d69286fc-6be9-4686-bca9-82760e97d021\" xlink:show=\"new\" xlink:title=\"psysml:d69286fc-6be9-4686-bca9-82760e97d021\" xlink:type=\"simple\"><rect fill=\"#FFFFFF\" height=\"45.9375\" id=\"E2\" rx=\"10\" ry=\"10\" style=\"stroke: #383838; stroke-width: 1.5;\" width=\"42\" x=\"133\" y=\"41\"/><text fill=\"#000000\" font-family=\"sans-serif\" font-size=\"12\" font-style=\"italic\" lengthAdjust=\"spacingAndGlyphs\" textLength=\"40\" x=\"134\" y=\"57.1387\">«part»</text><text fill=\"#000000\" font-family=\"sans-serif\" font-size=\"12\" lengthAdjust=\"spacingAndGlyphs\" textLength=\"4\" x=\"152\" y=\"71.1074\">f</text><line style=\"stroke: #383838; stroke-width: 1.5;\" x1=\"134\" x2=\"174\" y1=\"78.9375\" y2=\"78.9375\"/></a><!--MD5=[09b614a08d8cba4a07c9adeb5e0fee81]\n",
       "class E3--><a href=\"psysml:05544d0a-8d7e-4ac4-8a38-1321d7df08dd\" target=\"_top\" title=\"psysml:05544d0a-8d7e-4ac4-8a38-1321d7df08dd\" xlink:actuate=\"onRequest\" xlink:href=\"psysml:05544d0a-8d7e-4ac4-8a38-1321d7df08dd\" xlink:show=\"new\" xlink:title=\"psysml:05544d0a-8d7e-4ac4-8a38-1321d7df08dd\" xlink:type=\"simple\"><rect fill=\"#FFFFFF\" height=\"45.9375\" id=\"E3\" rx=\"10\" ry=\"10\" style=\"stroke: #383838; stroke-width: 1.5;\" width=\"42\" x=\"133\" y=\"147\"/><text fill=\"#000000\" font-family=\"sans-serif\" font-size=\"12\" font-style=\"italic\" lengthAdjust=\"spacingAndGlyphs\" textLength=\"40\" x=\"134\" y=\"163.1387\">«part»</text><text fill=\"#000000\" font-family=\"sans-serif\" font-size=\"12\" lengthAdjust=\"spacingAndGlyphs\" textLength=\"8\" x=\"150\" y=\"177.1074\">a</text><line style=\"stroke: #383838; stroke-width: 1.5;\" x1=\"134\" x2=\"174\" y1=\"184.9375\" y2=\"184.9375\"/></a><!--MD5=[ebbe1d658d1005bcc118a6aa81145e00]\n",
       "class E4--><a href=\"psysml:6e0f0160-dcde-436d-afd9-a7845bbec9b5\" target=\"_top\" title=\"psysml:6e0f0160-dcde-436d-afd9-a7845bbec9b5\" xlink:actuate=\"onRequest\" xlink:href=\"psysml:6e0f0160-dcde-436d-afd9-a7845bbec9b5\" xlink:show=\"new\" xlink:title=\"psysml:6e0f0160-dcde-436d-afd9-a7845bbec9b5\" xlink:type=\"simple\"><rect fill=\"#FFFFFF\" height=\"45.9375\" id=\"E4\" style=\"stroke: #383838; stroke-width: 1.5;\" width=\"66\" x=\"32\" y=\"41\"/><text fill=\"#000000\" font-family=\"sans-serif\" font-size=\"12\" font-style=\"italic\" lengthAdjust=\"spacingAndGlyphs\" textLength=\"64\" x=\"33\" y=\"57.1387\">«part def»</text><text fill=\"#000000\" font-family=\"sans-serif\" font-size=\"12\" lengthAdjust=\"spacingAndGlyphs\" textLength=\"8\" x=\"61\" y=\"71.1074\">C</text><line style=\"stroke: #383838; stroke-width: 1.5;\" x1=\"33\" x2=\"97\" y1=\"78.9375\" y2=\"78.9375\"/></a><!--MD5=[270fce915f116d4de14055a7c1d9a0f3]\n",
       "class E5--><a href=\"psysml:c2eaf658-adee-4a19-a83e-00cce7f1793f\" target=\"_top\" title=\"psysml:c2eaf658-adee-4a19-a83e-00cce7f1793f\" xlink:actuate=\"onRequest\" xlink:href=\"psysml:c2eaf658-adee-4a19-a83e-00cce7f1793f\" xlink:show=\"new\" xlink:title=\"psysml:c2eaf658-adee-4a19-a83e-00cce7f1793f\" xlink:type=\"simple\"><rect fill=\"#FFFFFF\" height=\"45.9375\" id=\"E5\" rx=\"10\" ry=\"10\" style=\"stroke: #383838; stroke-width: 1.5;\" width=\"42\" x=\"44\" y=\"147\"/><text fill=\"#000000\" font-family=\"sans-serif\" font-size=\"12\" font-style=\"italic\" lengthAdjust=\"spacingAndGlyphs\" textLength=\"40\" x=\"45\" y=\"163.1387\">«part»</text><text fill=\"#000000\" font-family=\"sans-serif\" font-size=\"12\" lengthAdjust=\"spacingAndGlyphs\" textLength=\"8\" x=\"61\" y=\"177.1074\">g</text><line style=\"stroke: #383838; stroke-width: 1.5;\" x1=\"45\" x2=\"85\" y1=\"184.9375\" y2=\"184.9375\"/></a><!--MD5=[209b3feb70ccb6233bfe1053d122c12c]\n",
       "reverse link E2 to E3--><a href=\"psysml:05544d0a-8d7e-4ac4-8a38-1321d7df08dd\" target=\"_top\" title=\"psysml:05544d0a-8d7e-4ac4-8a38-1321d7df08dd\" xlink:actuate=\"onRequest\" xlink:href=\"psysml:05544d0a-8d7e-4ac4-8a38-1321d7df08dd\" xlink:show=\"new\" xlink:title=\"psysml:05544d0a-8d7e-4ac4-8a38-1321d7df08dd\" xlink:type=\"simple\"><path d=\"M154,100.44 C154,115.87 154,133.47 154,146.98 \" fill=\"none\" id=\"E2&lt;-E3\" style=\"stroke: #383838; stroke-width: 1.0;\"/><polygon fill=\"#383838\" points=\"154,87.06,150,93.06,154,99.06,158,93.06,154,87.06\" style=\"stroke: #383838; stroke-width: 1.0;\"/></a><!--MD5=[62aa6af11e70f752912c1cb0466f24f7]\n",
       "reverse link E4 to E5--><a href=\"psysml:c2eaf658-adee-4a19-a83e-00cce7f1793f\" target=\"_top\" title=\"psysml:c2eaf658-adee-4a19-a83e-00cce7f1793f\" xlink:actuate=\"onRequest\" xlink:href=\"psysml:c2eaf658-adee-4a19-a83e-00cce7f1793f\" xlink:show=\"new\" xlink:title=\"psysml:c2eaf658-adee-4a19-a83e-00cce7f1793f\" xlink:type=\"simple\"><path d=\"M65,100.44 C65,115.87 65,133.47 65,146.98 \" fill=\"none\" id=\"E4&lt;-E5\" style=\"stroke: #383838; stroke-width: 1.0;\"/><polygon fill=\"#383838\" points=\"65,87.06,61,93.06,65,99.06,69,93.06,65,87.06\" style=\"stroke: #383838; stroke-width: 1.0;\"/></a><!--MD5=[1ee53ac1fc7cd04d32de2f114493d0aa]\n",
       "@startuml\r\n",
       "skinparam linetype polyline\r\n",
       "skinparam monochrome true\r\n",
       "skinparam classbackgroundcolor white\r\n",
       "skinparam shadowing false\r\n",
       "skinparam wrapWidth 300\r\n",
       "hide circle\r\n",
       "\r\n",
       "package \"Q\" as E1  [[psysml:e7978fe0-b69e-4191-a6c6-ff9a405cd716 ]]  {\r\n",
       "comp usage \"f\" as E2  <<(T,blue)part>> [[psysml:d69286fc-6be9-4686-bca9-82760e97d021 ]] {\r\n",
       "}\r\n",
       "comp usage \"a\" as E3  <<(T,blue)part>> [[psysml:05544d0a-8d7e-4ac4-8a38-1321d7df08dd ]] {\r\n",
       "}\r\n",
       "comp def \"C\" as E4  <<(T,blue)part def>> [[psysml:6e0f0160-dcde-436d-afd9-a7845bbec9b5 ]] {\r\n",
       "}\r\n",
       "comp usage \"g\" as E5  <<(T,blue)part>> [[psysml:c2eaf658-adee-4a19-a83e-00cce7f1793f ]] {\r\n",
       "}\r\n",
       "E2 *- - E3 [[psysml:05544d0a-8d7e-4ac4-8a38-1321d7df08dd ]] \r\n",
       "E4 *- - E5 [[psysml:c2eaf658-adee-4a19-a83e-00cce7f1793f ]] \r\n",
       "}\r\n",
       "@enduml\r\n",
       "\n",
       "PlantUML version 1.2020.13(Sat Jun 13 12:26:38 UTC 2020)\n",
       "(EPL source distribution)\n",
       "Java Runtime: OpenJDK Runtime Environment\n",
       "JVM: OpenJDK 64-Bit Server VM\n",
       "Default Encoding: UTF-8\n",
       "Language: en\n",
       "Country: null\n",
       "--></g></svg>"
      ]
     },
     "execution_count": 9,
     "metadata": {},
     "output_type": "execute_result"
    }
   ],
   "source": [
    "%viz --style=\"POLYLINE\" --view=\"Default\" \"Q\""
   ]
  },
  {
   "cell_type": "code",
   "execution_count": 10,
   "id": "cross-mixer",
   "metadata": {
    "execution": {
     "iopub.execute_input": "2021-03-26T09:12:05.792204Z",
     "iopub.status.busy": "2021-03-26T09:12:05.791831Z",
     "iopub.status.idle": "2021-03-26T09:12:05.844576Z",
     "shell.execute_reply": "2021-03-26T09:12:05.844170Z"
    }
   },
   "outputs": [
    {
     "data": {
      "image/svg+xml": [
       "<?xml version=\"1.0\" encoding=\"UTF-8\" standalone=\"no\"?><svg xmlns=\"http://www.w3.org/2000/svg\" xmlns:xlink=\"http://www.w3.org/1999/xlink\" contentScriptType=\"application/ecmascript\" contentStyleType=\"text/css\" height=\"221px\" preserveAspectRatio=\"none\" style=\"width:213px;height:221px;\" version=\"1.1\" viewBox=\"0 0 213 221\" width=\"213px\" zoomAndPan=\"magnify\"><defs/><g><!--MD5=[fbc87193dbaf4d95561dea2c320d4a47]\n",
       "cluster E1--><a href=\"psysml:e7978fe0-b69e-4191-a6c6-ff9a405cd716\" target=\"_top\" title=\"psysml:e7978fe0-b69e-4191-a6c6-ff9a405cd716\" xlink:actuate=\"onRequest\" xlink:href=\"psysml:e7978fe0-b69e-4191-a6c6-ff9a405cd716\" xlink:show=\"new\" xlink:title=\"psysml:e7978fe0-b69e-4191-a6c6-ff9a405cd716\" xlink:type=\"simple\"><polygon fill=\"#FFFFFF\" points=\"16,6,34,6,41,28.2969,191,28.2969,191,209,16,209,16,6\" style=\"stroke: #000000; stroke-width: 1.5;\"/><line style=\"stroke: #000000; stroke-width: 1.5;\" x1=\"16\" x2=\"41\" y1=\"28.2969\" y2=\"28.2969\"/><text fill=\"#000000\" font-family=\"sans-serif\" font-size=\"14\" font-weight=\"bold\" lengthAdjust=\"spacingAndGlyphs\" textLength=\"12\" x=\"20\" y=\"20.9951\">Q</text></a><!--MD5=[b4997ac47864f28c2f74865a473b2911]\n",
       "class E2--><a href=\"psysml:d69286fc-6be9-4686-bca9-82760e97d021\" target=\"_top\" title=\"psysml:d69286fc-6be9-4686-bca9-82760e97d021\" xlink:actuate=\"onRequest\" xlink:href=\"psysml:d69286fc-6be9-4686-bca9-82760e97d021\" xlink:show=\"new\" xlink:title=\"psysml:d69286fc-6be9-4686-bca9-82760e97d021\" xlink:type=\"simple\"><rect fill=\"#FFFFFF\" height=\"45.9375\" id=\"E2\" rx=\"10\" ry=\"10\" style=\"stroke: #383838; stroke-width: 1.5;\" width=\"42\" x=\"133\" y=\"41\"/><text fill=\"#000000\" font-family=\"sans-serif\" font-size=\"12\" font-style=\"italic\" lengthAdjust=\"spacingAndGlyphs\" textLength=\"40\" x=\"134\" y=\"57.1387\">«part»</text><text fill=\"#000000\" font-family=\"sans-serif\" font-size=\"12\" lengthAdjust=\"spacingAndGlyphs\" textLength=\"4\" x=\"152\" y=\"71.1074\">f</text><line style=\"stroke: #383838; stroke-width: 1.5;\" x1=\"134\" x2=\"174\" y1=\"78.9375\" y2=\"78.9375\"/></a><!--MD5=[09b614a08d8cba4a07c9adeb5e0fee81]\n",
       "class E3--><a href=\"psysml:05544d0a-8d7e-4ac4-8a38-1321d7df08dd\" target=\"_top\" title=\"psysml:05544d0a-8d7e-4ac4-8a38-1321d7df08dd\" xlink:actuate=\"onRequest\" xlink:href=\"psysml:05544d0a-8d7e-4ac4-8a38-1321d7df08dd\" xlink:show=\"new\" xlink:title=\"psysml:05544d0a-8d7e-4ac4-8a38-1321d7df08dd\" xlink:type=\"simple\"><rect fill=\"#FFFFFF\" height=\"45.9375\" id=\"E3\" rx=\"10\" ry=\"10\" style=\"stroke: #383838; stroke-width: 1.5;\" width=\"42\" x=\"133\" y=\"147\"/><text fill=\"#000000\" font-family=\"sans-serif\" font-size=\"12\" font-style=\"italic\" lengthAdjust=\"spacingAndGlyphs\" textLength=\"40\" x=\"134\" y=\"163.1387\">«part»</text><text fill=\"#000000\" font-family=\"sans-serif\" font-size=\"12\" lengthAdjust=\"spacingAndGlyphs\" textLength=\"8\" x=\"150\" y=\"177.1074\">a</text><line style=\"stroke: #383838; stroke-width: 1.5;\" x1=\"134\" x2=\"174\" y1=\"184.9375\" y2=\"184.9375\"/></a><!--MD5=[ebbe1d658d1005bcc118a6aa81145e00]\n",
       "class E4--><a href=\"psysml:6e0f0160-dcde-436d-afd9-a7845bbec9b5\" target=\"_top\" title=\"psysml:6e0f0160-dcde-436d-afd9-a7845bbec9b5\" xlink:actuate=\"onRequest\" xlink:href=\"psysml:6e0f0160-dcde-436d-afd9-a7845bbec9b5\" xlink:show=\"new\" xlink:title=\"psysml:6e0f0160-dcde-436d-afd9-a7845bbec9b5\" xlink:type=\"simple\"><rect fill=\"#FFFFFF\" height=\"45.9375\" id=\"E4\" style=\"stroke: #383838; stroke-width: 1.5;\" width=\"66\" x=\"32\" y=\"41\"/><text fill=\"#000000\" font-family=\"sans-serif\" font-size=\"12\" font-style=\"italic\" lengthAdjust=\"spacingAndGlyphs\" textLength=\"64\" x=\"33\" y=\"57.1387\">«part def»</text><text fill=\"#000000\" font-family=\"sans-serif\" font-size=\"12\" lengthAdjust=\"spacingAndGlyphs\" textLength=\"8\" x=\"61\" y=\"71.1074\">C</text><line style=\"stroke: #383838; stroke-width: 1.5;\" x1=\"33\" x2=\"97\" y1=\"78.9375\" y2=\"78.9375\"/></a><!--MD5=[270fce915f116d4de14055a7c1d9a0f3]\n",
       "class E5--><a href=\"psysml:c2eaf658-adee-4a19-a83e-00cce7f1793f\" target=\"_top\" title=\"psysml:c2eaf658-adee-4a19-a83e-00cce7f1793f\" xlink:actuate=\"onRequest\" xlink:href=\"psysml:c2eaf658-adee-4a19-a83e-00cce7f1793f\" xlink:show=\"new\" xlink:title=\"psysml:c2eaf658-adee-4a19-a83e-00cce7f1793f\" xlink:type=\"simple\"><rect fill=\"#FFFFFF\" height=\"45.9375\" id=\"E5\" rx=\"10\" ry=\"10\" style=\"stroke: #383838; stroke-width: 1.5;\" width=\"42\" x=\"44\" y=\"147\"/><text fill=\"#000000\" font-family=\"sans-serif\" font-size=\"12\" font-style=\"italic\" lengthAdjust=\"spacingAndGlyphs\" textLength=\"40\" x=\"45\" y=\"163.1387\">«part»</text><text fill=\"#000000\" font-family=\"sans-serif\" font-size=\"12\" lengthAdjust=\"spacingAndGlyphs\" textLength=\"8\" x=\"61\" y=\"177.1074\">g</text><line style=\"stroke: #383838; stroke-width: 1.5;\" x1=\"45\" x2=\"85\" y1=\"184.9375\" y2=\"184.9375\"/></a><!--MD5=[209b3feb70ccb6233bfe1053d122c12c]\n",
       "reverse link E2 to E3--><a href=\"psysml:05544d0a-8d7e-4ac4-8a38-1321d7df08dd\" target=\"_top\" title=\"psysml:05544d0a-8d7e-4ac4-8a38-1321d7df08dd\" xlink:actuate=\"onRequest\" xlink:href=\"psysml:05544d0a-8d7e-4ac4-8a38-1321d7df08dd\" xlink:show=\"new\" xlink:title=\"psysml:05544d0a-8d7e-4ac4-8a38-1321d7df08dd\" xlink:type=\"simple\"><path d=\"M154,100.44 C154,115.87 154,133.47 154,146.98 \" fill=\"none\" id=\"E2&lt;-E3\" style=\"stroke: #383838; stroke-width: 1.0;\"/><polygon fill=\"#383838\" points=\"154,87.06,150,93.06,154,99.06,158,93.06,154,87.06\" style=\"stroke: #383838; stroke-width: 1.0;\"/></a><!--MD5=[62aa6af11e70f752912c1cb0466f24f7]\n",
       "reverse link E4 to E5--><a href=\"psysml:c2eaf658-adee-4a19-a83e-00cce7f1793f\" target=\"_top\" title=\"psysml:c2eaf658-adee-4a19-a83e-00cce7f1793f\" xlink:actuate=\"onRequest\" xlink:href=\"psysml:c2eaf658-adee-4a19-a83e-00cce7f1793f\" xlink:show=\"new\" xlink:title=\"psysml:c2eaf658-adee-4a19-a83e-00cce7f1793f\" xlink:type=\"simple\"><path d=\"M65,100.44 C65,115.87 65,133.47 65,146.98 \" fill=\"none\" id=\"E4&lt;-E5\" style=\"stroke: #383838; stroke-width: 1.0;\"/><polygon fill=\"#383838\" points=\"65,87.06,61,93.06,65,99.06,69,93.06,65,87.06\" style=\"stroke: #383838; stroke-width: 1.0;\"/></a><!--MD5=[1ee53ac1fc7cd04d32de2f114493d0aa]\n",
       "@startuml\r\n",
       "skinparam linetype polyline\r\n",
       "skinparam monochrome true\r\n",
       "skinparam classbackgroundcolor white\r\n",
       "skinparam shadowing false\r\n",
       "skinparam wrapWidth 300\r\n",
       "hide circle\r\n",
       "\r\n",
       "package \"Q\" as E1  [[psysml:e7978fe0-b69e-4191-a6c6-ff9a405cd716 ]]  {\r\n",
       "comp usage \"f\" as E2  <<(T,blue)part>> [[psysml:d69286fc-6be9-4686-bca9-82760e97d021 ]] {\r\n",
       "}\r\n",
       "comp usage \"a\" as E3  <<(T,blue)part>> [[psysml:05544d0a-8d7e-4ac4-8a38-1321d7df08dd ]] {\r\n",
       "}\r\n",
       "comp def \"C\" as E4  <<(T,blue)part def>> [[psysml:6e0f0160-dcde-436d-afd9-a7845bbec9b5 ]] {\r\n",
       "}\r\n",
       "comp usage \"g\" as E5  <<(T,blue)part>> [[psysml:c2eaf658-adee-4a19-a83e-00cce7f1793f ]] {\r\n",
       "}\r\n",
       "E2 *- - E3 [[psysml:05544d0a-8d7e-4ac4-8a38-1321d7df08dd ]] \r\n",
       "E4 *- - E5 [[psysml:c2eaf658-adee-4a19-a83e-00cce7f1793f ]] \r\n",
       "}\r\n",
       "@enduml\r\n",
       "\n",
       "PlantUML version 1.2020.13(Sat Jun 13 12:26:38 UTC 2020)\n",
       "(EPL source distribution)\n",
       "Java Runtime: OpenJDK Runtime Environment\n",
       "JVM: OpenJDK 64-Bit Server VM\n",
       "Default Encoding: UTF-8\n",
       "Language: en\n",
       "Country: null\n",
       "--></g></svg>"
      ]
     },
     "execution_count": 10,
     "metadata": {},
     "output_type": "execute_result"
    }
   ],
   "source": [
    "%viz --style=\"POLYLINE\" --view=\"Tree\" \"Q\""
   ]
  },
  {
   "cell_type": "code",
   "execution_count": 11,
   "id": "imposed-payday",
   "metadata": {
    "execution": {
     "iopub.execute_input": "2021-03-26T09:12:05.895417Z",
     "iopub.status.busy": "2021-03-26T09:12:05.895074Z",
     "iopub.status.idle": "2021-03-26T09:12:05.903027Z",
     "shell.execute_reply": "2021-03-26T09:12:05.902679Z"
    }
   },
   "outputs": [
    {
     "data": {
      "image/svg+xml": [
       "<?xml version=\"1.0\" encoding=\"UTF-8\" standalone=\"no\"?><svg xmlns=\"http://www.w3.org/2000/svg\" xmlns:xlink=\"http://www.w3.org/1999/xlink\" contentScriptType=\"application/ecmascript\" contentStyleType=\"text/css\" height=\"12px\" preserveAspectRatio=\"none\" style=\"width:12px;height:12px;\" version=\"1.1\" viewBox=\"0 0 12 12\" width=\"12px\" zoomAndPan=\"magnify\"><defs/><g><!--MD5=[896ac0e7a515d8dd7765a661cb4ee08b]\n",
       "@startuml\r\n",
       "skinparam linetype polyline\r\n",
       "skinparam monochrome true\r\n",
       "skinparam classbackgroundcolor white\r\n",
       "skinparam shadowing false\r\n",
       "skinparam wrapWidth 300\r\n",
       "hide circle\r\n",
       "\r\n",
       "@enduml\r\n",
       "\n",
       "PlantUML version 1.2020.13(Sat Jun 13 12:26:38 UTC 2020)\n",
       "(EPL source distribution)\n",
       "Java Runtime: OpenJDK Runtime Environment\n",
       "JVM: OpenJDK 64-Bit Server VM\n",
       "Default Encoding: UTF-8\n",
       "Language: en\n",
       "Country: null\n",
       "--></g></svg>"
      ]
     },
     "execution_count": 11,
     "metadata": {},
     "output_type": "execute_result"
    }
   ],
   "source": [
    "%viz --style=\"POLYLINE\" --view=\"State\" \"Q\""
   ]
  },
  {
   "cell_type": "code",
   "execution_count": 12,
   "id": "secure-mechanics",
   "metadata": {
    "execution": {
     "iopub.execute_input": "2021-03-26T09:12:05.953985Z",
     "iopub.status.busy": "2021-03-26T09:12:05.953465Z",
     "iopub.status.idle": "2021-03-26T09:12:05.999665Z",
     "shell.execute_reply": "2021-03-26T09:12:05.994997Z"
    }
   },
   "outputs": [
    {
     "data": {
      "image/svg+xml": [
       "<?xml version=\"1.0\" encoding=\"UTF-8\" standalone=\"no\"?><svg xmlns=\"http://www.w3.org/2000/svg\" xmlns:xlink=\"http://www.w3.org/1999/xlink\" contentScriptType=\"application/ecmascript\" contentStyleType=\"text/css\" height=\"192px\" preserveAspectRatio=\"none\" style=\"width:279px;height:192px;\" version=\"1.1\" viewBox=\"0 0 279 192\" width=\"279px\" zoomAndPan=\"magnify\"><defs/><g><!--MD5=[fbc87193dbaf4d95561dea2c320d4a47]\n",
       "cluster E1--><a href=\"psysml:e7978fe0-b69e-4191-a6c6-ff9a405cd716\" target=\"_top\" title=\"psysml:e7978fe0-b69e-4191-a6c6-ff9a405cd716\" xlink:actuate=\"onRequest\" xlink:href=\"psysml:e7978fe0-b69e-4191-a6c6-ff9a405cd716\" xlink:show=\"new\" xlink:title=\"psysml:e7978fe0-b69e-4191-a6c6-ff9a405cd716\" xlink:type=\"simple\"><polygon fill=\"#FFFFFF\" points=\"16,6,34,6,41,28.2969,257,28.2969,257,180,16,180,16,6\" style=\"stroke: #000000; stroke-width: 1.5;\"/><line style=\"stroke: #000000; stroke-width: 1.5;\" x1=\"16\" x2=\"41\" y1=\"28.2969\" y2=\"28.2969\"/><text fill=\"#000000\" font-family=\"sans-serif\" font-size=\"14\" font-weight=\"bold\" lengthAdjust=\"spacingAndGlyphs\" textLength=\"12\" x=\"20\" y=\"20.9951\">Q</text></a><!--MD5=[e4f7fae6ed58524ba242bb0b0d3be6b7]\n",
       "cluster E2--><a href=\"psysml:d69286fc-6be9-4686-bca9-82760e97d021\" target=\"_top\" title=\"psysml:d69286fc-6be9-4686-bca9-82760e97d021\" xlink:actuate=\"onRequest\" xlink:href=\"psysml:d69286fc-6be9-4686-bca9-82760e97d021\" xlink:show=\"new\" xlink:title=\"psysml:d69286fc-6be9-4686-bca9-82760e97d021\" xlink:type=\"simple\"><rect fill=\"#FFFFFF\" height=\"91\" id=\"E2\" rx=\"10\" ry=\"10\" style=\"stroke: #383838; stroke-width: 1.5;\" width=\"82\" x=\"151\" y=\"65\"/><rect fill=\"#F8F8F8\" height=\"23.9688\" rx=\"10\" ry=\"10\" style=\"stroke: #F8F8F8; stroke-width: 1.5;\" width=\"82\" x=\"151\" y=\"65\"/><rect fill=\"#F8F8F8\" height=\"10\" style=\"stroke: #F8F8F8; stroke-width: 1.5;\" width=\"82\" x=\"151\" y=\"78.9688\"/><rect fill=\"none\" height=\"91\" id=\"E2\" rx=\"10\" ry=\"10\" style=\"stroke: #383838; stroke-width: 1.5;\" width=\"82\" x=\"151\" y=\"65\"/><text fill=\"#000000\" font-family=\"sans-serif\" font-size=\"12\" lengthAdjust=\"spacingAndGlyphs\" textLength=\"4\" x=\"190\" y=\"81.1387\">f</text><line style=\"stroke: #383838; stroke-width: 1.0;\" x1=\"151\" x2=\"233\" y1=\"88.9688\" y2=\"88.9688\"/></a><!--MD5=[f6df4d0ebaf0b5dfb2ced0ae5af7c670]\n",
       "cluster E4--><a href=\"psysml:6e0f0160-dcde-436d-afd9-a7845bbec9b5\" target=\"_top\" title=\"psysml:6e0f0160-dcde-436d-afd9-a7845bbec9b5\" xlink:actuate=\"onRequest\" xlink:href=\"psysml:6e0f0160-dcde-436d-afd9-a7845bbec9b5\" xlink:show=\"new\" xlink:title=\"psysml:6e0f0160-dcde-436d-afd9-a7845bbec9b5\" xlink:type=\"simple\"><rect fill=\"#FFFFFF\" height=\"107\" id=\"E4\" style=\"stroke: #383838; stroke-width: 1.5;\" width=\"87\" x=\"40\" y=\"49\"/><rect fill=\"#F8F8F8\" height=\"37.9375\" style=\"stroke: #383838; stroke-width: 1.5;\" width=\"87\" x=\"40\" y=\"49\"/><text fill=\"#000000\" font-family=\"sans-serif\" font-size=\"12\" font-style=\"italic\" lengthAdjust=\"spacingAndGlyphs\" textLength=\"64\" x=\"51.5\" y=\"65.1387\">«part def»</text><text fill=\"#000000\" font-family=\"sans-serif\" font-size=\"12\" lengthAdjust=\"spacingAndGlyphs\" textLength=\"8\" x=\"79.5\" y=\"79.1074\">C</text></a><g id=\"E1.E2.E3\"><a href=\"psysml:05544d0a-8d7e-4ac4-8a38-1321d7df08dd\" target=\"_top\" title=\"psysml:05544d0a-8d7e-4ac4-8a38-1321d7df08dd\" xlink:actuate=\"onRequest\" xlink:href=\"psysml:05544d0a-8d7e-4ac4-8a38-1321d7df08dd\" xlink:show=\"new\" xlink:title=\"psysml:05544d0a-8d7e-4ac4-8a38-1321d7df08dd\" xlink:type=\"simple\"><rect fill=\"#FFFFFF\" height=\"40\" id=\"E3\" rx=\"10\" ry=\"10\" style=\"stroke: #383838; stroke-width: 1.5;\" width=\"50\" x=\"167\" y=\"100\"/><rect fill=\"#F8F8F8\" height=\"23.9688\" rx=\"10\" ry=\"10\" style=\"stroke: #F8F8F8; stroke-width: 1.5;\" width=\"50\" x=\"167\" y=\"100\"/><rect fill=\"#F8F8F8\" height=\"10\" style=\"stroke: #F8F8F8; stroke-width: 1.5;\" width=\"50\" x=\"167\" y=\"113.9688\"/><rect fill=\"none\" height=\"40\" id=\"E3\" rx=\"10\" ry=\"10\" style=\"stroke: #383838; stroke-width: 1.5;\" width=\"50\" x=\"167\" y=\"100\"/><text fill=\"#000000\" font-family=\"sans-serif\" font-size=\"12\" lengthAdjust=\"spacingAndGlyphs\" textLength=\"8\" x=\"188\" y=\"116.1387\">a</text></a></g><g id=\"E1.E4.E5\"><a href=\"psysml:c2eaf658-adee-4a19-a83e-00cce7f1793f\" target=\"_top\" title=\"psysml:c2eaf658-adee-4a19-a83e-00cce7f1793f\" xlink:actuate=\"onRequest\" xlink:href=\"psysml:c2eaf658-adee-4a19-a83e-00cce7f1793f\" xlink:show=\"new\" xlink:title=\"psysml:c2eaf658-adee-4a19-a83e-00cce7f1793f\" xlink:type=\"simple\"><rect fill=\"#FFFFFF\" height=\"40\" id=\"E5\" rx=\"10\" ry=\"10\" style=\"stroke: #383838; stroke-width: 1.5;\" width=\"50\" x=\"58\" y=\"100\"/><rect fill=\"#F8F8F8\" height=\"23.9688\" rx=\"10\" ry=\"10\" style=\"stroke: #F8F8F8; stroke-width: 1.5;\" width=\"50\" x=\"58\" y=\"100\"/><rect fill=\"#F8F8F8\" height=\"10\" style=\"stroke: #F8F8F8; stroke-width: 1.5;\" width=\"50\" x=\"58\" y=\"113.9688\"/><rect fill=\"none\" height=\"40\" id=\"E5\" rx=\"10\" ry=\"10\" style=\"stroke: #383838; stroke-width: 1.5;\" width=\"50\" x=\"58\" y=\"100\"/><text fill=\"#000000\" font-family=\"sans-serif\" font-size=\"12\" lengthAdjust=\"spacingAndGlyphs\" textLength=\"8\" x=\"79\" y=\"116.1387\">g</text></a></g><!--MD5=[dc17a85b5f7d88f4277cbc1f7301e1d2]\n",
       "@startuml\r\n",
       "skinparam ranksep 8\r\n",
       "skinparam rectangle {\r\n",
       " backgroundColor<<block>> LightGreen\r\n",
       "}\r\n",
       "skinparam linetype polyline\r\n",
       "skinparam monochrome true\r\n",
       "skinparam classbackgroundcolor white\r\n",
       "skinparam shadowing false\r\n",
       "skinparam wrapWidth 300\r\n",
       "hide circle\r\n",
       "\r\n",
       "package \"Q\" as E1  [[psysml:e7978fe0-b69e-4191-a6c6-ff9a405cd716 ]]  {\r\n",
       "rec usage \"f\" as E2  [[psysml:d69286fc-6be9-4686-bca9-82760e97d021 ]] {\r\n",
       "rec usage \"a\" as E3  [[psysml:05544d0a-8d7e-4ac4-8a38-1321d7df08dd ]] {\r\n",
       "}\r\n",
       "}\r\n",
       "rec def \"C\" as E4  <<(T,blue)part def>> [[psysml:6e0f0160-dcde-436d-afd9-a7845bbec9b5 ]] {\r\n",
       "rec usage \"g\" as E5  [[psysml:c2eaf658-adee-4a19-a83e-00cce7f1793f ]] {\r\n",
       "}\r\n",
       "}\r\n",
       "}\r\n",
       "@enduml\r\n",
       "\n",
       "PlantUML version 1.2020.13(Sat Jun 13 12:26:38 UTC 2020)\n",
       "(EPL source distribution)\n",
       "Java Runtime: OpenJDK Runtime Environment\n",
       "JVM: OpenJDK 64-Bit Server VM\n",
       "Default Encoding: UTF-8\n",
       "Language: en\n",
       "Country: null\n",
       "--></g></svg>"
      ]
     },
     "execution_count": 12,
     "metadata": {},
     "output_type": "execute_result"
    }
   ],
   "source": [
    "%viz --style=\"POLYLINE\" --view=\"Interconnection\" \"Q\""
   ]
  },
  {
   "cell_type": "code",
   "execution_count": 13,
   "id": "instrumental-florida",
   "metadata": {
    "execution": {
     "iopub.execute_input": "2021-03-26T09:12:06.053335Z",
     "iopub.status.busy": "2021-03-26T09:12:06.053021Z",
     "iopub.status.idle": "2021-03-26T09:12:06.059685Z",
     "shell.execute_reply": "2021-03-26T09:12:06.059281Z"
    }
   },
   "outputs": [
    {
     "data": {
      "image/svg+xml": [
       "<?xml version=\"1.0\" encoding=\"UTF-8\" standalone=\"no\"?><svg xmlns=\"http://www.w3.org/2000/svg\" xmlns:xlink=\"http://www.w3.org/1999/xlink\" contentScriptType=\"application/ecmascript\" contentStyleType=\"text/css\" height=\"12px\" preserveAspectRatio=\"none\" style=\"width:12px;height:12px;\" version=\"1.1\" viewBox=\"0 0 12 12\" width=\"12px\" zoomAndPan=\"magnify\"><defs/><g><!--MD5=[97bbf32f66ccd50cbc40d92ea8f5a65e]\n",
       "@startuml\r\n",
       "skinparam ranksep 8\r\n",
       "skinparam linetype polyline\r\n",
       "skinparam monochrome true\r\n",
       "skinparam classbackgroundcolor white\r\n",
       "skinparam shadowing false\r\n",
       "skinparam wrapWidth 300\r\n",
       "hide circle\r\n",
       "\r\n",
       "@enduml\r\n",
       "\n",
       "PlantUML version 1.2020.13(Sat Jun 13 12:26:38 UTC 2020)\n",
       "(EPL source distribution)\n",
       "Java Runtime: OpenJDK Runtime Environment\n",
       "JVM: OpenJDK 64-Bit Server VM\n",
       "Default Encoding: UTF-8\n",
       "Language: en\n",
       "Country: null\n",
       "--></g></svg>"
      ]
     },
     "execution_count": 13,
     "metadata": {},
     "output_type": "execute_result"
    }
   ],
   "source": [
    "%viz --style=\"POLYLINE\" --view=\"Action\" \"Q\""
   ]
  },
  {
   "cell_type": "code",
   "execution_count": 14,
   "id": "creative-terminology",
   "metadata": {
    "execution": {
     "iopub.execute_input": "2021-03-26T09:12:06.112981Z",
     "iopub.status.busy": "2021-03-26T09:12:06.112106Z",
     "iopub.status.idle": "2021-03-26T09:12:06.147535Z",
     "shell.execute_reply": "2021-03-26T09:12:06.146314Z"
    }
   },
   "outputs": [
    {
     "data": {
      "image/svg+xml": [
       "<?xml version=\"1.0\" encoding=\"UTF-8\" standalone=\"no\"?><svg xmlns=\"http://www.w3.org/2000/svg\" xmlns:xlink=\"http://www.w3.org/1999/xlink\" contentScriptType=\"application/ecmascript\" contentStyleType=\"text/css\" height=\"221px\" preserveAspectRatio=\"none\" style=\"width:213px;height:221px;\" version=\"1.1\" viewBox=\"0 0 213 221\" width=\"213px\" zoomAndPan=\"magnify\"><defs/><g><!--MD5=[fbc87193dbaf4d95561dea2c320d4a47]\n",
       "cluster E1--><a href=\"psysml:e7978fe0-b69e-4191-a6c6-ff9a405cd716\" target=\"_top\" title=\"psysml:e7978fe0-b69e-4191-a6c6-ff9a405cd716\" xlink:actuate=\"onRequest\" xlink:href=\"psysml:e7978fe0-b69e-4191-a6c6-ff9a405cd716\" xlink:show=\"new\" xlink:title=\"psysml:e7978fe0-b69e-4191-a6c6-ff9a405cd716\" xlink:type=\"simple\"><polygon fill=\"#FFFFFF\" points=\"16,6,34,6,41,28.2969,191,28.2969,191,209,16,209,16,6\" style=\"stroke: #000000; stroke-width: 1.5;\"/><line style=\"stroke: #000000; stroke-width: 1.5;\" x1=\"16\" x2=\"41\" y1=\"28.2969\" y2=\"28.2969\"/><text fill=\"#000000\" font-family=\"sans-serif\" font-size=\"14\" font-weight=\"bold\" lengthAdjust=\"spacingAndGlyphs\" textLength=\"12\" x=\"20\" y=\"20.9951\">Q</text></a><!--MD5=[b4997ac47864f28c2f74865a473b2911]\n",
       "class E2--><a href=\"psysml:d69286fc-6be9-4686-bca9-82760e97d021\" target=\"_top\" title=\"psysml:d69286fc-6be9-4686-bca9-82760e97d021\" xlink:actuate=\"onRequest\" xlink:href=\"psysml:d69286fc-6be9-4686-bca9-82760e97d021\" xlink:show=\"new\" xlink:title=\"psysml:d69286fc-6be9-4686-bca9-82760e97d021\" xlink:type=\"simple\"><rect fill=\"#FFFFFF\" height=\"45.9375\" id=\"E2\" rx=\"10\" ry=\"10\" style=\"stroke: #383838; stroke-width: 1.5;\" width=\"42\" x=\"133\" y=\"41\"/><text fill=\"#000000\" font-family=\"sans-serif\" font-size=\"12\" font-style=\"italic\" lengthAdjust=\"spacingAndGlyphs\" textLength=\"40\" x=\"134\" y=\"57.1387\">«part»</text><text fill=\"#000000\" font-family=\"sans-serif\" font-size=\"12\" lengthAdjust=\"spacingAndGlyphs\" textLength=\"4\" x=\"152\" y=\"71.1074\">f</text><line style=\"stroke: #383838; stroke-width: 1.5;\" x1=\"134\" x2=\"174\" y1=\"78.9375\" y2=\"78.9375\"/></a><!--MD5=[09b614a08d8cba4a07c9adeb5e0fee81]\n",
       "class E3--><a href=\"psysml:05544d0a-8d7e-4ac4-8a38-1321d7df08dd\" target=\"_top\" title=\"psysml:05544d0a-8d7e-4ac4-8a38-1321d7df08dd\" xlink:actuate=\"onRequest\" xlink:href=\"psysml:05544d0a-8d7e-4ac4-8a38-1321d7df08dd\" xlink:show=\"new\" xlink:title=\"psysml:05544d0a-8d7e-4ac4-8a38-1321d7df08dd\" xlink:type=\"simple\"><rect fill=\"#FFFFFF\" height=\"45.9375\" id=\"E3\" rx=\"10\" ry=\"10\" style=\"stroke: #383838; stroke-width: 1.5;\" width=\"42\" x=\"133\" y=\"147\"/><text fill=\"#000000\" font-family=\"sans-serif\" font-size=\"12\" font-style=\"italic\" lengthAdjust=\"spacingAndGlyphs\" textLength=\"40\" x=\"134\" y=\"163.1387\">«part»</text><text fill=\"#000000\" font-family=\"sans-serif\" font-size=\"12\" lengthAdjust=\"spacingAndGlyphs\" textLength=\"8\" x=\"150\" y=\"177.1074\">a</text><line style=\"stroke: #383838; stroke-width: 1.5;\" x1=\"134\" x2=\"174\" y1=\"184.9375\" y2=\"184.9375\"/></a><!--MD5=[ebbe1d658d1005bcc118a6aa81145e00]\n",
       "class E4--><a href=\"psysml:6e0f0160-dcde-436d-afd9-a7845bbec9b5\" target=\"_top\" title=\"psysml:6e0f0160-dcde-436d-afd9-a7845bbec9b5\" xlink:actuate=\"onRequest\" xlink:href=\"psysml:6e0f0160-dcde-436d-afd9-a7845bbec9b5\" xlink:show=\"new\" xlink:title=\"psysml:6e0f0160-dcde-436d-afd9-a7845bbec9b5\" xlink:type=\"simple\"><rect fill=\"#FFFFFF\" height=\"45.9375\" id=\"E4\" style=\"stroke: #383838; stroke-width: 1.5;\" width=\"66\" x=\"32\" y=\"41\"/><text fill=\"#000000\" font-family=\"sans-serif\" font-size=\"12\" font-style=\"italic\" lengthAdjust=\"spacingAndGlyphs\" textLength=\"64\" x=\"33\" y=\"57.1387\">«part def»</text><text fill=\"#000000\" font-family=\"sans-serif\" font-size=\"12\" lengthAdjust=\"spacingAndGlyphs\" textLength=\"8\" x=\"61\" y=\"71.1074\">C</text><line style=\"stroke: #383838; stroke-width: 1.5;\" x1=\"33\" x2=\"97\" y1=\"78.9375\" y2=\"78.9375\"/></a><!--MD5=[270fce915f116d4de14055a7c1d9a0f3]\n",
       "class E5--><a href=\"psysml:c2eaf658-adee-4a19-a83e-00cce7f1793f\" target=\"_top\" title=\"psysml:c2eaf658-adee-4a19-a83e-00cce7f1793f\" xlink:actuate=\"onRequest\" xlink:href=\"psysml:c2eaf658-adee-4a19-a83e-00cce7f1793f\" xlink:show=\"new\" xlink:title=\"psysml:c2eaf658-adee-4a19-a83e-00cce7f1793f\" xlink:type=\"simple\"><rect fill=\"#FFFFFF\" height=\"45.9375\" id=\"E5\" rx=\"10\" ry=\"10\" style=\"stroke: #383838; stroke-width: 1.5;\" width=\"42\" x=\"44\" y=\"147\"/><text fill=\"#000000\" font-family=\"sans-serif\" font-size=\"12\" font-style=\"italic\" lengthAdjust=\"spacingAndGlyphs\" textLength=\"40\" x=\"45\" y=\"163.1387\">«part»</text><text fill=\"#000000\" font-family=\"sans-serif\" font-size=\"12\" lengthAdjust=\"spacingAndGlyphs\" textLength=\"8\" x=\"61\" y=\"177.1074\">g</text><line style=\"stroke: #383838; stroke-width: 1.5;\" x1=\"45\" x2=\"85\" y1=\"184.9375\" y2=\"184.9375\"/></a><!--MD5=[209b3feb70ccb6233bfe1053d122c12c]\n",
       "reverse link E2 to E3--><a href=\"psysml:05544d0a-8d7e-4ac4-8a38-1321d7df08dd\" target=\"_top\" title=\"psysml:05544d0a-8d7e-4ac4-8a38-1321d7df08dd\" xlink:actuate=\"onRequest\" xlink:href=\"psysml:05544d0a-8d7e-4ac4-8a38-1321d7df08dd\" xlink:show=\"new\" xlink:title=\"psysml:05544d0a-8d7e-4ac4-8a38-1321d7df08dd\" xlink:type=\"simple\"><path d=\"M154,100.44 C154,115.87 154,133.47 154,146.98 \" fill=\"none\" id=\"E2&lt;-E3\" style=\"stroke: #383838; stroke-width: 1.0;\"/><polygon fill=\"#383838\" points=\"154,87.06,150,93.06,154,99.06,158,93.06,154,87.06\" style=\"stroke: #383838; stroke-width: 1.0;\"/></a><!--MD5=[62aa6af11e70f752912c1cb0466f24f7]\n",
       "reverse link E4 to E5--><a href=\"psysml:c2eaf658-adee-4a19-a83e-00cce7f1793f\" target=\"_top\" title=\"psysml:c2eaf658-adee-4a19-a83e-00cce7f1793f\" xlink:actuate=\"onRequest\" xlink:href=\"psysml:c2eaf658-adee-4a19-a83e-00cce7f1793f\" xlink:show=\"new\" xlink:title=\"psysml:c2eaf658-adee-4a19-a83e-00cce7f1793f\" xlink:type=\"simple\"><path d=\"M65,100.44 C65,115.87 65,133.47 65,146.98 \" fill=\"none\" id=\"E4&lt;-E5\" style=\"stroke: #383838; stroke-width: 1.0;\"/><polygon fill=\"#383838\" points=\"65,87.06,61,93.06,65,99.06,69,93.06,65,87.06\" style=\"stroke: #383838; stroke-width: 1.0;\"/></a><!--MD5=[1ee53ac1fc7cd04d32de2f114493d0aa]\n",
       "@startuml\r\n",
       "skinparam linetype polyline\r\n",
       "skinparam monochrome true\r\n",
       "skinparam classbackgroundcolor white\r\n",
       "skinparam shadowing false\r\n",
       "skinparam wrapWidth 300\r\n",
       "hide circle\r\n",
       "\r\n",
       "package \"Q\" as E1  [[psysml:e7978fe0-b69e-4191-a6c6-ff9a405cd716 ]]  {\r\n",
       "comp usage \"f\" as E2  <<(T,blue)part>> [[psysml:d69286fc-6be9-4686-bca9-82760e97d021 ]] {\r\n",
       "}\r\n",
       "comp usage \"a\" as E3  <<(T,blue)part>> [[psysml:05544d0a-8d7e-4ac4-8a38-1321d7df08dd ]] {\r\n",
       "}\r\n",
       "comp def \"C\" as E4  <<(T,blue)part def>> [[psysml:6e0f0160-dcde-436d-afd9-a7845bbec9b5 ]] {\r\n",
       "}\r\n",
       "comp usage \"g\" as E5  <<(T,blue)part>> [[psysml:c2eaf658-adee-4a19-a83e-00cce7f1793f ]] {\r\n",
       "}\r\n",
       "E2 *- - E3 [[psysml:05544d0a-8d7e-4ac4-8a38-1321d7df08dd ]] \r\n",
       "E4 *- - E5 [[psysml:c2eaf658-adee-4a19-a83e-00cce7f1793f ]] \r\n",
       "}\r\n",
       "@enduml\r\n",
       "\n",
       "PlantUML version 1.2020.13(Sat Jun 13 12:26:38 UTC 2020)\n",
       "(EPL source distribution)\n",
       "Java Runtime: OpenJDK Runtime Environment\n",
       "JVM: OpenJDK 64-Bit Server VM\n",
       "Default Encoding: UTF-8\n",
       "Language: en\n",
       "Country: null\n",
       "--></g></svg>"
      ]
     },
     "execution_count": 14,
     "metadata": {},
     "output_type": "execute_result"
    }
   ],
   "source": [
    "%viz --style=\"POLYLINE\" --view=\"Sequence\" \"Q\""
   ]
  },
  {
   "cell_type": "code",
   "execution_count": 15,
   "id": "mental-inflation",
   "metadata": {
    "execution": {
     "iopub.execute_input": "2021-03-26T09:12:06.197655Z",
     "iopub.status.busy": "2021-03-26T09:12:06.197194Z",
     "iopub.status.idle": "2021-03-26T09:12:06.228047Z",
     "shell.execute_reply": "2021-03-26T09:12:06.228513Z"
    }
   },
   "outputs": [
    {
     "data": {
      "image/svg+xml": [
       "<?xml version=\"1.0\" encoding=\"UTF-8\" standalone=\"no\"?><svg xmlns=\"http://www.w3.org/2000/svg\" xmlns:xlink=\"http://www.w3.org/1999/xlink\" contentScriptType=\"application/ecmascript\" contentStyleType=\"text/css\" height=\"221px\" preserveAspectRatio=\"none\" style=\"width:213px;height:221px;\" version=\"1.1\" viewBox=\"0 0 213 221\" width=\"213px\" zoomAndPan=\"magnify\"><defs/><g><!--MD5=[fbc87193dbaf4d95561dea2c320d4a47]\n",
       "cluster E1--><a href=\"psysml:e7978fe0-b69e-4191-a6c6-ff9a405cd716\" target=\"_top\" title=\"psysml:e7978fe0-b69e-4191-a6c6-ff9a405cd716\" xlink:actuate=\"onRequest\" xlink:href=\"psysml:e7978fe0-b69e-4191-a6c6-ff9a405cd716\" xlink:show=\"new\" xlink:title=\"psysml:e7978fe0-b69e-4191-a6c6-ff9a405cd716\" xlink:type=\"simple\"><polygon fill=\"#FFFFFF\" points=\"16,6,34,6,41,28.2969,191,28.2969,191,209,16,209,16,6\" style=\"stroke: #000000; stroke-width: 1.5;\"/><line style=\"stroke: #000000; stroke-width: 1.5;\" x1=\"16\" x2=\"41\" y1=\"28.2969\" y2=\"28.2969\"/><text fill=\"#000000\" font-family=\"sans-serif\" font-size=\"14\" font-weight=\"bold\" lengthAdjust=\"spacingAndGlyphs\" textLength=\"12\" x=\"20\" y=\"20.9951\">Q</text></a><!--MD5=[b4997ac47864f28c2f74865a473b2911]\n",
       "class E2--><a href=\"psysml:d69286fc-6be9-4686-bca9-82760e97d021\" target=\"_top\" title=\"psysml:d69286fc-6be9-4686-bca9-82760e97d021\" xlink:actuate=\"onRequest\" xlink:href=\"psysml:d69286fc-6be9-4686-bca9-82760e97d021\" xlink:show=\"new\" xlink:title=\"psysml:d69286fc-6be9-4686-bca9-82760e97d021\" xlink:type=\"simple\"><rect fill=\"#FFFFFF\" height=\"45.9375\" id=\"E2\" rx=\"10\" ry=\"10\" style=\"stroke: #383838; stroke-width: 1.5;\" width=\"42\" x=\"133\" y=\"41\"/><text fill=\"#000000\" font-family=\"sans-serif\" font-size=\"12\" font-style=\"italic\" lengthAdjust=\"spacingAndGlyphs\" textLength=\"40\" x=\"134\" y=\"57.1387\">«part»</text><text fill=\"#000000\" font-family=\"sans-serif\" font-size=\"12\" lengthAdjust=\"spacingAndGlyphs\" textLength=\"4\" x=\"152\" y=\"71.1074\">f</text><line style=\"stroke: #383838; stroke-width: 1.5;\" x1=\"134\" x2=\"174\" y1=\"78.9375\" y2=\"78.9375\"/></a><!--MD5=[09b614a08d8cba4a07c9adeb5e0fee81]\n",
       "class E3--><a href=\"psysml:05544d0a-8d7e-4ac4-8a38-1321d7df08dd\" target=\"_top\" title=\"psysml:05544d0a-8d7e-4ac4-8a38-1321d7df08dd\" xlink:actuate=\"onRequest\" xlink:href=\"psysml:05544d0a-8d7e-4ac4-8a38-1321d7df08dd\" xlink:show=\"new\" xlink:title=\"psysml:05544d0a-8d7e-4ac4-8a38-1321d7df08dd\" xlink:type=\"simple\"><rect fill=\"#FFFFFF\" height=\"45.9375\" id=\"E3\" rx=\"10\" ry=\"10\" style=\"stroke: #383838; stroke-width: 1.5;\" width=\"42\" x=\"133\" y=\"147\"/><text fill=\"#000000\" font-family=\"sans-serif\" font-size=\"12\" font-style=\"italic\" lengthAdjust=\"spacingAndGlyphs\" textLength=\"40\" x=\"134\" y=\"163.1387\">«part»</text><text fill=\"#000000\" font-family=\"sans-serif\" font-size=\"12\" lengthAdjust=\"spacingAndGlyphs\" textLength=\"8\" x=\"150\" y=\"177.1074\">a</text><line style=\"stroke: #383838; stroke-width: 1.5;\" x1=\"134\" x2=\"174\" y1=\"184.9375\" y2=\"184.9375\"/></a><!--MD5=[ebbe1d658d1005bcc118a6aa81145e00]\n",
       "class E4--><a href=\"psysml:6e0f0160-dcde-436d-afd9-a7845bbec9b5\" target=\"_top\" title=\"psysml:6e0f0160-dcde-436d-afd9-a7845bbec9b5\" xlink:actuate=\"onRequest\" xlink:href=\"psysml:6e0f0160-dcde-436d-afd9-a7845bbec9b5\" xlink:show=\"new\" xlink:title=\"psysml:6e0f0160-dcde-436d-afd9-a7845bbec9b5\" xlink:type=\"simple\"><rect fill=\"#FFFFFF\" height=\"45.9375\" id=\"E4\" style=\"stroke: #383838; stroke-width: 1.5;\" width=\"66\" x=\"32\" y=\"41\"/><text fill=\"#000000\" font-family=\"sans-serif\" font-size=\"12\" font-style=\"italic\" lengthAdjust=\"spacingAndGlyphs\" textLength=\"64\" x=\"33\" y=\"57.1387\">«part def»</text><text fill=\"#000000\" font-family=\"sans-serif\" font-size=\"12\" lengthAdjust=\"spacingAndGlyphs\" textLength=\"8\" x=\"61\" y=\"71.1074\">C</text><line style=\"stroke: #383838; stroke-width: 1.5;\" x1=\"33\" x2=\"97\" y1=\"78.9375\" y2=\"78.9375\"/></a><!--MD5=[270fce915f116d4de14055a7c1d9a0f3]\n",
       "class E5--><a href=\"psysml:c2eaf658-adee-4a19-a83e-00cce7f1793f\" target=\"_top\" title=\"psysml:c2eaf658-adee-4a19-a83e-00cce7f1793f\" xlink:actuate=\"onRequest\" xlink:href=\"psysml:c2eaf658-adee-4a19-a83e-00cce7f1793f\" xlink:show=\"new\" xlink:title=\"psysml:c2eaf658-adee-4a19-a83e-00cce7f1793f\" xlink:type=\"simple\"><rect fill=\"#FFFFFF\" height=\"45.9375\" id=\"E5\" rx=\"10\" ry=\"10\" style=\"stroke: #383838; stroke-width: 1.5;\" width=\"42\" x=\"44\" y=\"147\"/><text fill=\"#000000\" font-family=\"sans-serif\" font-size=\"12\" font-style=\"italic\" lengthAdjust=\"spacingAndGlyphs\" textLength=\"40\" x=\"45\" y=\"163.1387\">«part»</text><text fill=\"#000000\" font-family=\"sans-serif\" font-size=\"12\" lengthAdjust=\"spacingAndGlyphs\" textLength=\"8\" x=\"61\" y=\"177.1074\">g</text><line style=\"stroke: #383838; stroke-width: 1.5;\" x1=\"45\" x2=\"85\" y1=\"184.9375\" y2=\"184.9375\"/></a><!--MD5=[209b3feb70ccb6233bfe1053d122c12c]\n",
       "reverse link E2 to E3--><a href=\"psysml:05544d0a-8d7e-4ac4-8a38-1321d7df08dd\" target=\"_top\" title=\"psysml:05544d0a-8d7e-4ac4-8a38-1321d7df08dd\" xlink:actuate=\"onRequest\" xlink:href=\"psysml:05544d0a-8d7e-4ac4-8a38-1321d7df08dd\" xlink:show=\"new\" xlink:title=\"psysml:05544d0a-8d7e-4ac4-8a38-1321d7df08dd\" xlink:type=\"simple\"><path d=\"M154,100.44 C154,115.87 154,133.47 154,146.98 \" fill=\"none\" id=\"E2&lt;-E3\" style=\"stroke: #383838; stroke-width: 1.0;\"/><polygon fill=\"#383838\" points=\"154,87.06,150,93.06,154,99.06,158,93.06,154,87.06\" style=\"stroke: #383838; stroke-width: 1.0;\"/></a><!--MD5=[62aa6af11e70f752912c1cb0466f24f7]\n",
       "reverse link E4 to E5--><a href=\"psysml:c2eaf658-adee-4a19-a83e-00cce7f1793f\" target=\"_top\" title=\"psysml:c2eaf658-adee-4a19-a83e-00cce7f1793f\" xlink:actuate=\"onRequest\" xlink:href=\"psysml:c2eaf658-adee-4a19-a83e-00cce7f1793f\" xlink:show=\"new\" xlink:title=\"psysml:c2eaf658-adee-4a19-a83e-00cce7f1793f\" xlink:type=\"simple\"><path d=\"M65,100.44 C65,115.87 65,133.47 65,146.98 \" fill=\"none\" id=\"E4&lt;-E5\" style=\"stroke: #383838; stroke-width: 1.0;\"/><polygon fill=\"#383838\" points=\"65,87.06,61,93.06,65,99.06,69,93.06,65,87.06\" style=\"stroke: #383838; stroke-width: 1.0;\"/></a><!--MD5=[1ee53ac1fc7cd04d32de2f114493d0aa]\n",
       "@startuml\r\n",
       "skinparam linetype polyline\r\n",
       "skinparam monochrome true\r\n",
       "skinparam classbackgroundcolor white\r\n",
       "skinparam shadowing false\r\n",
       "skinparam wrapWidth 300\r\n",
       "hide circle\r\n",
       "\r\n",
       "package \"Q\" as E1  [[psysml:e7978fe0-b69e-4191-a6c6-ff9a405cd716 ]]  {\r\n",
       "comp usage \"f\" as E2  <<(T,blue)part>> [[psysml:d69286fc-6be9-4686-bca9-82760e97d021 ]] {\r\n",
       "}\r\n",
       "comp usage \"a\" as E3  <<(T,blue)part>> [[psysml:05544d0a-8d7e-4ac4-8a38-1321d7df08dd ]] {\r\n",
       "}\r\n",
       "comp def \"C\" as E4  <<(T,blue)part def>> [[psysml:6e0f0160-dcde-436d-afd9-a7845bbec9b5 ]] {\r\n",
       "}\r\n",
       "comp usage \"g\" as E5  <<(T,blue)part>> [[psysml:c2eaf658-adee-4a19-a83e-00cce7f1793f ]] {\r\n",
       "}\r\n",
       "E2 *- - E3 [[psysml:05544d0a-8d7e-4ac4-8a38-1321d7df08dd ]] \r\n",
       "E4 *- - E5 [[psysml:c2eaf658-adee-4a19-a83e-00cce7f1793f ]] \r\n",
       "}\r\n",
       "@enduml\r\n",
       "\n",
       "PlantUML version 1.2020.13(Sat Jun 13 12:26:38 UTC 2020)\n",
       "(EPL source distribution)\n",
       "Java Runtime: OpenJDK Runtime Environment\n",
       "JVM: OpenJDK 64-Bit Server VM\n",
       "Default Encoding: UTF-8\n",
       "Language: en\n",
       "Country: null\n",
       "--></g></svg>"
      ]
     },
     "execution_count": 15,
     "metadata": {},
     "output_type": "execute_result"
    }
   ],
   "source": [
    "%viz --style=\"POLYLINE\" --view=\"MIXED\" \"Q\""
   ]
  },
  {
   "cell_type": "code",
   "execution_count": 16,
   "id": "sonic-advantage",
   "metadata": {
    "execution": {
     "iopub.execute_input": "2021-03-26T09:12:06.282017Z",
     "iopub.status.busy": "2021-03-26T09:12:06.281519Z",
     "iopub.status.idle": "2021-03-26T09:12:06.316541Z",
     "shell.execute_reply": "2021-03-26T09:12:06.315409Z"
    }
   },
   "outputs": [
    {
     "data": {
      "image/svg+xml": [
       "<?xml version=\"1.0\" encoding=\"UTF-8\" standalone=\"no\"?><svg xmlns=\"http://www.w3.org/2000/svg\" xmlns:xlink=\"http://www.w3.org/1999/xlink\" contentScriptType=\"application/ecmascript\" contentStyleType=\"text/css\" height=\"196px\" preserveAspectRatio=\"none\" style=\"width:238px;height:196px;\" version=\"1.1\" viewBox=\"0 0 238 196\" width=\"238px\" zoomAndPan=\"magnify\"><defs/><g><!--MD5=[fbc87193dbaf4d95561dea2c320d4a47]\n",
       "cluster E1--><a href=\"psysml:e7978fe0-b69e-4191-a6c6-ff9a405cd716\" target=\"_top\" title=\"psysml:e7978fe0-b69e-4191-a6c6-ff9a405cd716\" xlink:actuate=\"onRequest\" xlink:href=\"psysml:e7978fe0-b69e-4191-a6c6-ff9a405cd716\" xlink:show=\"new\" xlink:title=\"psysml:e7978fe0-b69e-4191-a6c6-ff9a405cd716\" xlink:type=\"simple\"><polygon fill=\"#FFFFFF\" points=\"16,6,34,6,41,28.2969,216,28.2969,216,184,16,184,16,6\" style=\"stroke: #000000; stroke-width: 1.5;\"/><line style=\"stroke: #000000; stroke-width: 1.5;\" x1=\"16\" x2=\"41\" y1=\"28.2969\" y2=\"28.2969\"/><text fill=\"#000000\" font-family=\"sans-serif\" font-size=\"14\" font-weight=\"bold\" lengthAdjust=\"spacingAndGlyphs\" textLength=\"12\" x=\"20\" y=\"20.9951\">Q</text></a><!--MD5=[b4997ac47864f28c2f74865a473b2911]\n",
       "class E2--><a href=\"psysml:d69286fc-6be9-4686-bca9-82760e97d021\" target=\"_top\" title=\"psysml:d69286fc-6be9-4686-bca9-82760e97d021\" xlink:actuate=\"onRequest\" xlink:href=\"psysml:d69286fc-6be9-4686-bca9-82760e97d021\" xlink:show=\"new\" xlink:title=\"psysml:d69286fc-6be9-4686-bca9-82760e97d021\" xlink:type=\"simple\"><rect fill=\"#FFFFFF\" height=\"45.9375\" id=\"E2\" rx=\"10\" ry=\"10\" style=\"stroke: #383838; stroke-width: 1.5;\" width=\"42\" x=\"44\" y=\"41\"/><text fill=\"#000000\" font-family=\"sans-serif\" font-size=\"12\" font-style=\"italic\" lengthAdjust=\"spacingAndGlyphs\" textLength=\"40\" x=\"45\" y=\"57.1387\">«part»</text><text fill=\"#000000\" font-family=\"sans-serif\" font-size=\"12\" lengthAdjust=\"spacingAndGlyphs\" textLength=\"4\" x=\"63\" y=\"71.1074\">f</text><line style=\"stroke: #383838; stroke-width: 1.5;\" x1=\"45\" x2=\"85\" y1=\"78.9375\" y2=\"78.9375\"/></a><!--MD5=[09b614a08d8cba4a07c9adeb5e0fee81]\n",
       "class E3--><a href=\"psysml:05544d0a-8d7e-4ac4-8a38-1321d7df08dd\" target=\"_top\" title=\"psysml:05544d0a-8d7e-4ac4-8a38-1321d7df08dd\" xlink:actuate=\"onRequest\" xlink:href=\"psysml:05544d0a-8d7e-4ac4-8a38-1321d7df08dd\" xlink:show=\"new\" xlink:title=\"psysml:05544d0a-8d7e-4ac4-8a38-1321d7df08dd\" xlink:type=\"simple\"><rect fill=\"#FFFFFF\" height=\"45.9375\" id=\"E3\" rx=\"10\" ry=\"10\" style=\"stroke: #383838; stroke-width: 1.5;\" width=\"42\" x=\"158\" y=\"41\"/><text fill=\"#000000\" font-family=\"sans-serif\" font-size=\"12\" font-style=\"italic\" lengthAdjust=\"spacingAndGlyphs\" textLength=\"40\" x=\"159\" y=\"57.1387\">«part»</text><text fill=\"#000000\" font-family=\"sans-serif\" font-size=\"12\" lengthAdjust=\"spacingAndGlyphs\" textLength=\"8\" x=\"175\" y=\"71.1074\">a</text><line style=\"stroke: #383838; stroke-width: 1.5;\" x1=\"159\" x2=\"199\" y1=\"78.9375\" y2=\"78.9375\"/></a><!--MD5=[ebbe1d658d1005bcc118a6aa81145e00]\n",
       "class E4--><a href=\"psysml:6e0f0160-dcde-436d-afd9-a7845bbec9b5\" target=\"_top\" title=\"psysml:6e0f0160-dcde-436d-afd9-a7845bbec9b5\" xlink:actuate=\"onRequest\" xlink:href=\"psysml:6e0f0160-dcde-436d-afd9-a7845bbec9b5\" xlink:show=\"new\" xlink:title=\"psysml:6e0f0160-dcde-436d-afd9-a7845bbec9b5\" xlink:type=\"simple\"><rect fill=\"#FFFFFF\" height=\"45.9375\" id=\"E4\" style=\"stroke: #383838; stroke-width: 1.5;\" width=\"66\" x=\"32\" y=\"122\"/><text fill=\"#000000\" font-family=\"sans-serif\" font-size=\"12\" font-style=\"italic\" lengthAdjust=\"spacingAndGlyphs\" textLength=\"64\" x=\"33\" y=\"138.1387\">«part def»</text><text fill=\"#000000\" font-family=\"sans-serif\" font-size=\"12\" lengthAdjust=\"spacingAndGlyphs\" textLength=\"8\" x=\"61\" y=\"152.1074\">C</text><line style=\"stroke: #383838; stroke-width: 1.5;\" x1=\"33\" x2=\"97\" y1=\"159.9375\" y2=\"159.9375\"/></a><!--MD5=[270fce915f116d4de14055a7c1d9a0f3]\n",
       "class E5--><a href=\"psysml:c2eaf658-adee-4a19-a83e-00cce7f1793f\" target=\"_top\" title=\"psysml:c2eaf658-adee-4a19-a83e-00cce7f1793f\" xlink:actuate=\"onRequest\" xlink:href=\"psysml:c2eaf658-adee-4a19-a83e-00cce7f1793f\" xlink:show=\"new\" xlink:title=\"psysml:c2eaf658-adee-4a19-a83e-00cce7f1793f\" xlink:type=\"simple\"><rect fill=\"#FFFFFF\" height=\"45.9375\" id=\"E5\" rx=\"10\" ry=\"10\" style=\"stroke: #383838; stroke-width: 1.5;\" width=\"42\" x=\"158\" y=\"122\"/><text fill=\"#000000\" font-family=\"sans-serif\" font-size=\"12\" font-style=\"italic\" lengthAdjust=\"spacingAndGlyphs\" textLength=\"40\" x=\"159\" y=\"138.1387\">«part»</text><text fill=\"#000000\" font-family=\"sans-serif\" font-size=\"12\" lengthAdjust=\"spacingAndGlyphs\" textLength=\"8\" x=\"175\" y=\"152.1074\">g</text><line style=\"stroke: #383838; stroke-width: 1.5;\" x1=\"159\" x2=\"199\" y1=\"159.9375\" y2=\"159.9375\"/></a><!--MD5=[209b3feb70ccb6233bfe1053d122c12c]\n",
       "reverse link E2 to E3--><a href=\"psysml:05544d0a-8d7e-4ac4-8a38-1321d7df08dd\" target=\"_top\" title=\"psysml:05544d0a-8d7e-4ac4-8a38-1321d7df08dd\" xlink:actuate=\"onRequest\" xlink:href=\"psysml:05544d0a-8d7e-4ac4-8a38-1321d7df08dd\" xlink:show=\"new\" xlink:title=\"psysml:05544d0a-8d7e-4ac4-8a38-1321d7df08dd\" xlink:type=\"simple\"><path d=\"M99.26,64 C118.27,64 141.49,64 157.77,64 \" fill=\"none\" id=\"E2&lt;-E3\" style=\"stroke: #383838; stroke-width: 1.0;\"/><polygon fill=\"#383838\" points=\"86.02,64,92.02,68,98.02,64,92.02,60,86.02,64\" style=\"stroke: #383838; stroke-width: 1.0;\"/></a><!--MD5=[62aa6af11e70f752912c1cb0466f24f7]\n",
       "reverse link E4 to E5--><a href=\"psysml:c2eaf658-adee-4a19-a83e-00cce7f1793f\" target=\"_top\" title=\"psysml:c2eaf658-adee-4a19-a83e-00cce7f1793f\" xlink:actuate=\"onRequest\" xlink:href=\"psysml:c2eaf658-adee-4a19-a83e-00cce7f1793f\" xlink:show=\"new\" xlink:title=\"psysml:c2eaf658-adee-4a19-a83e-00cce7f1793f\" xlink:type=\"simple\"><path d=\"M111.28,145 C127.47,145 144.9,145 157.89,145 \" fill=\"none\" id=\"E4&lt;-E5\" style=\"stroke: #383838; stroke-width: 1.0;\"/><polygon fill=\"#383838\" points=\"98.09,145,104.09,149,110.09,145,104.09,141,98.09,145\" style=\"stroke: #383838; stroke-width: 1.0;\"/></a><!--MD5=[81fcfd55d96fa996309068546c9985b6]\n",
       "@startuml\r\n",
       "left to right direction\r\n",
       "skinparam monochrome true\r\n",
       "skinparam classbackgroundcolor white\r\n",
       "skinparam shadowing false\r\n",
       "skinparam wrapWidth 300\r\n",
       "hide circle\r\n",
       "\r\n",
       "package \"Q\" as E1  [[psysml:e7978fe0-b69e-4191-a6c6-ff9a405cd716 ]]  {\r\n",
       "comp usage \"f\" as E2  <<(T,blue)part>> [[psysml:d69286fc-6be9-4686-bca9-82760e97d021 ]] {\r\n",
       "}\r\n",
       "comp usage \"a\" as E3  <<(T,blue)part>> [[psysml:05544d0a-8d7e-4ac4-8a38-1321d7df08dd ]] {\r\n",
       "}\r\n",
       "comp def \"C\" as E4  <<(T,blue)part def>> [[psysml:6e0f0160-dcde-436d-afd9-a7845bbec9b5 ]] {\r\n",
       "}\r\n",
       "comp usage \"g\" as E5  <<(T,blue)part>> [[psysml:c2eaf658-adee-4a19-a83e-00cce7f1793f ]] {\r\n",
       "}\r\n",
       "E2 *- - E3 [[psysml:05544d0a-8d7e-4ac4-8a38-1321d7df08dd ]] \r\n",
       "E4 *- - E5 [[psysml:c2eaf658-adee-4a19-a83e-00cce7f1793f ]] \r\n",
       "}\r\n",
       "@enduml\r\n",
       "\n",
       "PlantUML version 1.2020.13(Sat Jun 13 12:26:38 UTC 2020)\n",
       "(EPL source distribution)\n",
       "Java Runtime: OpenJDK Runtime Environment\n",
       "JVM: OpenJDK 64-Bit Server VM\n",
       "Default Encoding: UTF-8\n",
       "Language: en\n",
       "Country: null\n",
       "--></g></svg>"
      ]
     },
     "execution_count": 16,
     "metadata": {},
     "output_type": "execute_result"
    }
   ],
   "source": [
    "%viz --style=\"LR\" --view=\"Default\" \"Q\""
   ]
  },
  {
   "cell_type": "code",
   "execution_count": 17,
   "id": "infectious-matter",
   "metadata": {
    "execution": {
     "iopub.execute_input": "2021-03-26T09:12:06.368801Z",
     "iopub.status.busy": "2021-03-26T09:12:06.368282Z",
     "iopub.status.idle": "2021-03-26T09:12:06.402239Z",
     "shell.execute_reply": "2021-03-26T09:12:06.401939Z"
    }
   },
   "outputs": [
    {
     "data": {
      "image/svg+xml": [
       "<?xml version=\"1.0\" encoding=\"UTF-8\" standalone=\"no\"?><svg xmlns=\"http://www.w3.org/2000/svg\" xmlns:xlink=\"http://www.w3.org/1999/xlink\" contentScriptType=\"application/ecmascript\" contentStyleType=\"text/css\" height=\"196px\" preserveAspectRatio=\"none\" style=\"width:238px;height:196px;\" version=\"1.1\" viewBox=\"0 0 238 196\" width=\"238px\" zoomAndPan=\"magnify\"><defs/><g><!--MD5=[fbc87193dbaf4d95561dea2c320d4a47]\n",
       "cluster E1--><a href=\"psysml:e7978fe0-b69e-4191-a6c6-ff9a405cd716\" target=\"_top\" title=\"psysml:e7978fe0-b69e-4191-a6c6-ff9a405cd716\" xlink:actuate=\"onRequest\" xlink:href=\"psysml:e7978fe0-b69e-4191-a6c6-ff9a405cd716\" xlink:show=\"new\" xlink:title=\"psysml:e7978fe0-b69e-4191-a6c6-ff9a405cd716\" xlink:type=\"simple\"><polygon fill=\"#FFFFFF\" points=\"16,6,34,6,41,28.2969,216,28.2969,216,184,16,184,16,6\" style=\"stroke: #000000; stroke-width: 1.5;\"/><line style=\"stroke: #000000; stroke-width: 1.5;\" x1=\"16\" x2=\"41\" y1=\"28.2969\" y2=\"28.2969\"/><text fill=\"#000000\" font-family=\"sans-serif\" font-size=\"14\" font-weight=\"bold\" lengthAdjust=\"spacingAndGlyphs\" textLength=\"12\" x=\"20\" y=\"20.9951\">Q</text></a><!--MD5=[b4997ac47864f28c2f74865a473b2911]\n",
       "class E2--><a href=\"psysml:d69286fc-6be9-4686-bca9-82760e97d021\" target=\"_top\" title=\"psysml:d69286fc-6be9-4686-bca9-82760e97d021\" xlink:actuate=\"onRequest\" xlink:href=\"psysml:d69286fc-6be9-4686-bca9-82760e97d021\" xlink:show=\"new\" xlink:title=\"psysml:d69286fc-6be9-4686-bca9-82760e97d021\" xlink:type=\"simple\"><rect fill=\"#FFFFFF\" height=\"45.9375\" id=\"E2\" rx=\"10\" ry=\"10\" style=\"stroke: #383838; stroke-width: 1.5;\" width=\"42\" x=\"44\" y=\"41\"/><text fill=\"#000000\" font-family=\"sans-serif\" font-size=\"12\" font-style=\"italic\" lengthAdjust=\"spacingAndGlyphs\" textLength=\"40\" x=\"45\" y=\"57.1387\">«part»</text><text fill=\"#000000\" font-family=\"sans-serif\" font-size=\"12\" lengthAdjust=\"spacingAndGlyphs\" textLength=\"4\" x=\"63\" y=\"71.1074\">f</text><line style=\"stroke: #383838; stroke-width: 1.5;\" x1=\"45\" x2=\"85\" y1=\"78.9375\" y2=\"78.9375\"/></a><!--MD5=[09b614a08d8cba4a07c9adeb5e0fee81]\n",
       "class E3--><a href=\"psysml:05544d0a-8d7e-4ac4-8a38-1321d7df08dd\" target=\"_top\" title=\"psysml:05544d0a-8d7e-4ac4-8a38-1321d7df08dd\" xlink:actuate=\"onRequest\" xlink:href=\"psysml:05544d0a-8d7e-4ac4-8a38-1321d7df08dd\" xlink:show=\"new\" xlink:title=\"psysml:05544d0a-8d7e-4ac4-8a38-1321d7df08dd\" xlink:type=\"simple\"><rect fill=\"#FFFFFF\" height=\"45.9375\" id=\"E3\" rx=\"10\" ry=\"10\" style=\"stroke: #383838; stroke-width: 1.5;\" width=\"42\" x=\"158\" y=\"41\"/><text fill=\"#000000\" font-family=\"sans-serif\" font-size=\"12\" font-style=\"italic\" lengthAdjust=\"spacingAndGlyphs\" textLength=\"40\" x=\"159\" y=\"57.1387\">«part»</text><text fill=\"#000000\" font-family=\"sans-serif\" font-size=\"12\" lengthAdjust=\"spacingAndGlyphs\" textLength=\"8\" x=\"175\" y=\"71.1074\">a</text><line style=\"stroke: #383838; stroke-width: 1.5;\" x1=\"159\" x2=\"199\" y1=\"78.9375\" y2=\"78.9375\"/></a><!--MD5=[ebbe1d658d1005bcc118a6aa81145e00]\n",
       "class E4--><a href=\"psysml:6e0f0160-dcde-436d-afd9-a7845bbec9b5\" target=\"_top\" title=\"psysml:6e0f0160-dcde-436d-afd9-a7845bbec9b5\" xlink:actuate=\"onRequest\" xlink:href=\"psysml:6e0f0160-dcde-436d-afd9-a7845bbec9b5\" xlink:show=\"new\" xlink:title=\"psysml:6e0f0160-dcde-436d-afd9-a7845bbec9b5\" xlink:type=\"simple\"><rect fill=\"#FFFFFF\" height=\"45.9375\" id=\"E4\" style=\"stroke: #383838; stroke-width: 1.5;\" width=\"66\" x=\"32\" y=\"122\"/><text fill=\"#000000\" font-family=\"sans-serif\" font-size=\"12\" font-style=\"italic\" lengthAdjust=\"spacingAndGlyphs\" textLength=\"64\" x=\"33\" y=\"138.1387\">«part def»</text><text fill=\"#000000\" font-family=\"sans-serif\" font-size=\"12\" lengthAdjust=\"spacingAndGlyphs\" textLength=\"8\" x=\"61\" y=\"152.1074\">C</text><line style=\"stroke: #383838; stroke-width: 1.5;\" x1=\"33\" x2=\"97\" y1=\"159.9375\" y2=\"159.9375\"/></a><!--MD5=[270fce915f116d4de14055a7c1d9a0f3]\n",
       "class E5--><a href=\"psysml:c2eaf658-adee-4a19-a83e-00cce7f1793f\" target=\"_top\" title=\"psysml:c2eaf658-adee-4a19-a83e-00cce7f1793f\" xlink:actuate=\"onRequest\" xlink:href=\"psysml:c2eaf658-adee-4a19-a83e-00cce7f1793f\" xlink:show=\"new\" xlink:title=\"psysml:c2eaf658-adee-4a19-a83e-00cce7f1793f\" xlink:type=\"simple\"><rect fill=\"#FFFFFF\" height=\"45.9375\" id=\"E5\" rx=\"10\" ry=\"10\" style=\"stroke: #383838; stroke-width: 1.5;\" width=\"42\" x=\"158\" y=\"122\"/><text fill=\"#000000\" font-family=\"sans-serif\" font-size=\"12\" font-style=\"italic\" lengthAdjust=\"spacingAndGlyphs\" textLength=\"40\" x=\"159\" y=\"138.1387\">«part»</text><text fill=\"#000000\" font-family=\"sans-serif\" font-size=\"12\" lengthAdjust=\"spacingAndGlyphs\" textLength=\"8\" x=\"175\" y=\"152.1074\">g</text><line style=\"stroke: #383838; stroke-width: 1.5;\" x1=\"159\" x2=\"199\" y1=\"159.9375\" y2=\"159.9375\"/></a><!--MD5=[209b3feb70ccb6233bfe1053d122c12c]\n",
       "reverse link E2 to E3--><a href=\"psysml:05544d0a-8d7e-4ac4-8a38-1321d7df08dd\" target=\"_top\" title=\"psysml:05544d0a-8d7e-4ac4-8a38-1321d7df08dd\" xlink:actuate=\"onRequest\" xlink:href=\"psysml:05544d0a-8d7e-4ac4-8a38-1321d7df08dd\" xlink:show=\"new\" xlink:title=\"psysml:05544d0a-8d7e-4ac4-8a38-1321d7df08dd\" xlink:type=\"simple\"><path d=\"M99.26,64 C118.27,64 141.49,64 157.77,64 \" fill=\"none\" id=\"E2&lt;-E3\" style=\"stroke: #383838; stroke-width: 1.0;\"/><polygon fill=\"#383838\" points=\"86.02,64,92.02,68,98.02,64,92.02,60,86.02,64\" style=\"stroke: #383838; stroke-width: 1.0;\"/></a><!--MD5=[62aa6af11e70f752912c1cb0466f24f7]\n",
       "reverse link E4 to E5--><a href=\"psysml:c2eaf658-adee-4a19-a83e-00cce7f1793f\" target=\"_top\" title=\"psysml:c2eaf658-adee-4a19-a83e-00cce7f1793f\" xlink:actuate=\"onRequest\" xlink:href=\"psysml:c2eaf658-adee-4a19-a83e-00cce7f1793f\" xlink:show=\"new\" xlink:title=\"psysml:c2eaf658-adee-4a19-a83e-00cce7f1793f\" xlink:type=\"simple\"><path d=\"M111.28,145 C127.47,145 144.9,145 157.89,145 \" fill=\"none\" id=\"E4&lt;-E5\" style=\"stroke: #383838; stroke-width: 1.0;\"/><polygon fill=\"#383838\" points=\"98.09,145,104.09,149,110.09,145,104.09,141,98.09,145\" style=\"stroke: #383838; stroke-width: 1.0;\"/></a><!--MD5=[81fcfd55d96fa996309068546c9985b6]\n",
       "@startuml\r\n",
       "left to right direction\r\n",
       "skinparam monochrome true\r\n",
       "skinparam classbackgroundcolor white\r\n",
       "skinparam shadowing false\r\n",
       "skinparam wrapWidth 300\r\n",
       "hide circle\r\n",
       "\r\n",
       "package \"Q\" as E1  [[psysml:e7978fe0-b69e-4191-a6c6-ff9a405cd716 ]]  {\r\n",
       "comp usage \"f\" as E2  <<(T,blue)part>> [[psysml:d69286fc-6be9-4686-bca9-82760e97d021 ]] {\r\n",
       "}\r\n",
       "comp usage \"a\" as E3  <<(T,blue)part>> [[psysml:05544d0a-8d7e-4ac4-8a38-1321d7df08dd ]] {\r\n",
       "}\r\n",
       "comp def \"C\" as E4  <<(T,blue)part def>> [[psysml:6e0f0160-dcde-436d-afd9-a7845bbec9b5 ]] {\r\n",
       "}\r\n",
       "comp usage \"g\" as E5  <<(T,blue)part>> [[psysml:c2eaf658-adee-4a19-a83e-00cce7f1793f ]] {\r\n",
       "}\r\n",
       "E2 *- - E3 [[psysml:05544d0a-8d7e-4ac4-8a38-1321d7df08dd ]] \r\n",
       "E4 *- - E5 [[psysml:c2eaf658-adee-4a19-a83e-00cce7f1793f ]] \r\n",
       "}\r\n",
       "@enduml\r\n",
       "\n",
       "PlantUML version 1.2020.13(Sat Jun 13 12:26:38 UTC 2020)\n",
       "(EPL source distribution)\n",
       "Java Runtime: OpenJDK Runtime Environment\n",
       "JVM: OpenJDK 64-Bit Server VM\n",
       "Default Encoding: UTF-8\n",
       "Language: en\n",
       "Country: null\n",
       "--></g></svg>"
      ]
     },
     "execution_count": 17,
     "metadata": {},
     "output_type": "execute_result"
    }
   ],
   "source": [
    "%viz --style=\"LR\" --view=\"Tree\" \"Q\""
   ]
  },
  {
   "cell_type": "code",
   "execution_count": 18,
   "id": "orange-pledge",
   "metadata": {
    "execution": {
     "iopub.execute_input": "2021-03-26T09:12:06.452944Z",
     "iopub.status.busy": "2021-03-26T09:12:06.452492Z",
     "iopub.status.idle": "2021-03-26T09:12:06.457537Z",
     "shell.execute_reply": "2021-03-26T09:12:06.457886Z"
    }
   },
   "outputs": [
    {
     "data": {
      "image/svg+xml": [
       "<?xml version=\"1.0\" encoding=\"UTF-8\" standalone=\"no\"?><svg xmlns=\"http://www.w3.org/2000/svg\" xmlns:xlink=\"http://www.w3.org/1999/xlink\" contentScriptType=\"application/ecmascript\" contentStyleType=\"text/css\" height=\"12px\" preserveAspectRatio=\"none\" style=\"width:12px;height:12px;\" version=\"1.1\" viewBox=\"0 0 12 12\" width=\"12px\" zoomAndPan=\"magnify\"><defs/><g><!--MD5=[19d285c9d72a204eba4e2cd117d745e8]\n",
       "@startuml\r\n",
       "left to right direction\r\n",
       "skinparam monochrome true\r\n",
       "skinparam classbackgroundcolor white\r\n",
       "skinparam shadowing false\r\n",
       "skinparam wrapWidth 300\r\n",
       "hide circle\r\n",
       "\r\n",
       "@enduml\r\n",
       "\n",
       "PlantUML version 1.2020.13(Sat Jun 13 12:26:38 UTC 2020)\n",
       "(EPL source distribution)\n",
       "Java Runtime: OpenJDK Runtime Environment\n",
       "JVM: OpenJDK 64-Bit Server VM\n",
       "Default Encoding: UTF-8\n",
       "Language: en\n",
       "Country: null\n",
       "--></g></svg>"
      ]
     },
     "execution_count": 18,
     "metadata": {},
     "output_type": "execute_result"
    }
   ],
   "source": [
    "%viz --style=\"LR\" --view=\"State\" \"Q\""
   ]
  },
  {
   "cell_type": "code",
   "execution_count": 19,
   "id": "motivated-ladder",
   "metadata": {
    "execution": {
     "iopub.execute_input": "2021-03-26T09:12:06.508817Z",
     "iopub.status.busy": "2021-03-26T09:12:06.508386Z",
     "iopub.status.idle": "2021-03-26T09:12:06.536060Z",
     "shell.execute_reply": "2021-03-26T09:12:06.535748Z"
    }
   },
   "outputs": [
    {
     "data": {
      "image/svg+xml": [
       "<?xml version=\"1.0\" encoding=\"UTF-8\" standalone=\"no\"?><svg xmlns=\"http://www.w3.org/2000/svg\" xmlns:xlink=\"http://www.w3.org/1999/xlink\" contentScriptType=\"application/ecmascript\" contentStyleType=\"text/css\" height=\"307px\" preserveAspectRatio=\"none\" style=\"width:173px;height:307px;\" version=\"1.1\" viewBox=\"0 0 173 307\" width=\"173px\" zoomAndPan=\"magnify\"><defs/><g><!--MD5=[fbc87193dbaf4d95561dea2c320d4a47]\n",
       "cluster E1--><a href=\"psysml:e7978fe0-b69e-4191-a6c6-ff9a405cd716\" target=\"_top\" title=\"psysml:e7978fe0-b69e-4191-a6c6-ff9a405cd716\" xlink:actuate=\"onRequest\" xlink:href=\"psysml:e7978fe0-b69e-4191-a6c6-ff9a405cd716\" xlink:show=\"new\" xlink:title=\"psysml:e7978fe0-b69e-4191-a6c6-ff9a405cd716\" xlink:type=\"simple\"><polygon fill=\"#FFFFFF\" points=\"16,6,34,6,41,28.2969,151,28.2969,151,295,16,295,16,6\" style=\"stroke: #000000; stroke-width: 1.5;\"/><line style=\"stroke: #000000; stroke-width: 1.5;\" x1=\"16\" x2=\"41\" y1=\"28.2969\" y2=\"28.2969\"/><text fill=\"#000000\" font-family=\"sans-serif\" font-size=\"14\" font-weight=\"bold\" lengthAdjust=\"spacingAndGlyphs\" textLength=\"12\" x=\"20\" y=\"20.9951\">Q</text></a><!--MD5=[e4f7fae6ed58524ba242bb0b0d3be6b7]\n",
       "cluster E2--><a href=\"psysml:d69286fc-6be9-4686-bca9-82760e97d021\" target=\"_top\" title=\"psysml:d69286fc-6be9-4686-bca9-82760e97d021\" xlink:actuate=\"onRequest\" xlink:href=\"psysml:d69286fc-6be9-4686-bca9-82760e97d021\" xlink:show=\"new\" xlink:title=\"psysml:d69286fc-6be9-4686-bca9-82760e97d021\" xlink:type=\"simple\"><rect fill=\"#FFFFFF\" height=\"91\" id=\"E2\" rx=\"10\" ry=\"10\" style=\"stroke: #383838; stroke-width: 1.5;\" width=\"82\" x=\"42\" y=\"49\"/><rect fill=\"#F8F8F8\" height=\"23.9688\" rx=\"10\" ry=\"10\" style=\"stroke: #F8F8F8; stroke-width: 1.5;\" width=\"82\" x=\"42\" y=\"49\"/><rect fill=\"#F8F8F8\" height=\"10\" style=\"stroke: #F8F8F8; stroke-width: 1.5;\" width=\"82\" x=\"42\" y=\"62.9688\"/><rect fill=\"none\" height=\"91\" id=\"E2\" rx=\"10\" ry=\"10\" style=\"stroke: #383838; stroke-width: 1.5;\" width=\"82\" x=\"42\" y=\"49\"/><text fill=\"#000000\" font-family=\"sans-serif\" font-size=\"12\" lengthAdjust=\"spacingAndGlyphs\" textLength=\"4\" x=\"81\" y=\"65.1387\">f</text><line style=\"stroke: #383838; stroke-width: 1.0;\" x1=\"42\" x2=\"124\" y1=\"72.9688\" y2=\"72.9688\"/></a><!--MD5=[f6df4d0ebaf0b5dfb2ced0ae5af7c670]\n",
       "cluster E4--><a href=\"psysml:6e0f0160-dcde-436d-afd9-a7845bbec9b5\" target=\"_top\" title=\"psysml:6e0f0160-dcde-436d-afd9-a7845bbec9b5\" xlink:actuate=\"onRequest\" xlink:href=\"psysml:6e0f0160-dcde-436d-afd9-a7845bbec9b5\" xlink:show=\"new\" xlink:title=\"psysml:6e0f0160-dcde-436d-afd9-a7845bbec9b5\" xlink:type=\"simple\"><rect fill=\"#FFFFFF\" height=\"107\" id=\"E4\" style=\"stroke: #383838; stroke-width: 1.5;\" width=\"87\" x=\"40\" y=\"164\"/><rect fill=\"#F8F8F8\" height=\"37.9375\" style=\"stroke: #383838; stroke-width: 1.5;\" width=\"87\" x=\"40\" y=\"164\"/><text fill=\"#000000\" font-family=\"sans-serif\" font-size=\"12\" font-style=\"italic\" lengthAdjust=\"spacingAndGlyphs\" textLength=\"64\" x=\"51.5\" y=\"180.1387\">«part def»</text><text fill=\"#000000\" font-family=\"sans-serif\" font-size=\"12\" lengthAdjust=\"spacingAndGlyphs\" textLength=\"8\" x=\"79.5\" y=\"194.1074\">C</text></a><g id=\"E1.E2.E3\"><a href=\"psysml:05544d0a-8d7e-4ac4-8a38-1321d7df08dd\" target=\"_top\" title=\"psysml:05544d0a-8d7e-4ac4-8a38-1321d7df08dd\" xlink:actuate=\"onRequest\" xlink:href=\"psysml:05544d0a-8d7e-4ac4-8a38-1321d7df08dd\" xlink:show=\"new\" xlink:title=\"psysml:05544d0a-8d7e-4ac4-8a38-1321d7df08dd\" xlink:type=\"simple\"><rect fill=\"#FFFFFF\" height=\"40\" id=\"E3\" rx=\"10\" ry=\"10\" style=\"stroke: #383838; stroke-width: 1.5;\" width=\"50\" x=\"58\" y=\"84\"/><rect fill=\"#F8F8F8\" height=\"23.9688\" rx=\"10\" ry=\"10\" style=\"stroke: #F8F8F8; stroke-width: 1.5;\" width=\"50\" x=\"58\" y=\"84\"/><rect fill=\"#F8F8F8\" height=\"10\" style=\"stroke: #F8F8F8; stroke-width: 1.5;\" width=\"50\" x=\"58\" y=\"97.9688\"/><rect fill=\"none\" height=\"40\" id=\"E3\" rx=\"10\" ry=\"10\" style=\"stroke: #383838; stroke-width: 1.5;\" width=\"50\" x=\"58\" y=\"84\"/><text fill=\"#000000\" font-family=\"sans-serif\" font-size=\"12\" lengthAdjust=\"spacingAndGlyphs\" textLength=\"8\" x=\"79\" y=\"100.1387\">a</text></a></g><g id=\"E1.E4.E5\"><a href=\"psysml:c2eaf658-adee-4a19-a83e-00cce7f1793f\" target=\"_top\" title=\"psysml:c2eaf658-adee-4a19-a83e-00cce7f1793f\" xlink:actuate=\"onRequest\" xlink:href=\"psysml:c2eaf658-adee-4a19-a83e-00cce7f1793f\" xlink:show=\"new\" xlink:title=\"psysml:c2eaf658-adee-4a19-a83e-00cce7f1793f\" xlink:type=\"simple\"><rect fill=\"#FFFFFF\" height=\"40\" id=\"E5\" rx=\"10\" ry=\"10\" style=\"stroke: #383838; stroke-width: 1.5;\" width=\"50\" x=\"58\" y=\"215\"/><rect fill=\"#F8F8F8\" height=\"23.9688\" rx=\"10\" ry=\"10\" style=\"stroke: #F8F8F8; stroke-width: 1.5;\" width=\"50\" x=\"58\" y=\"215\"/><rect fill=\"#F8F8F8\" height=\"10\" style=\"stroke: #F8F8F8; stroke-width: 1.5;\" width=\"50\" x=\"58\" y=\"228.9688\"/><rect fill=\"none\" height=\"40\" id=\"E5\" rx=\"10\" ry=\"10\" style=\"stroke: #383838; stroke-width: 1.5;\" width=\"50\" x=\"58\" y=\"215\"/><text fill=\"#000000\" font-family=\"sans-serif\" font-size=\"12\" lengthAdjust=\"spacingAndGlyphs\" textLength=\"8\" x=\"79\" y=\"231.1387\">g</text></a></g><!--MD5=[674c3aadf06a6bbd3af063606cc7ad17]\n",
       "@startuml\r\n",
       "skinparam ranksep 8\r\n",
       "skinparam rectangle {\r\n",
       " backgroundColor<<block>> LightGreen\r\n",
       "}\r\n",
       "left to right direction\r\n",
       "skinparam monochrome true\r\n",
       "skinparam classbackgroundcolor white\r\n",
       "skinparam shadowing false\r\n",
       "skinparam wrapWidth 300\r\n",
       "hide circle\r\n",
       "\r\n",
       "package \"Q\" as E1  [[psysml:e7978fe0-b69e-4191-a6c6-ff9a405cd716 ]]  {\r\n",
       "rec usage \"f\" as E2  [[psysml:d69286fc-6be9-4686-bca9-82760e97d021 ]] {\r\n",
       "rec usage \"a\" as E3  [[psysml:05544d0a-8d7e-4ac4-8a38-1321d7df08dd ]] {\r\n",
       "}\r\n",
       "}\r\n",
       "rec def \"C\" as E4  <<(T,blue)part def>> [[psysml:6e0f0160-dcde-436d-afd9-a7845bbec9b5 ]] {\r\n",
       "rec usage \"g\" as E5  [[psysml:c2eaf658-adee-4a19-a83e-00cce7f1793f ]] {\r\n",
       "}\r\n",
       "}\r\n",
       "}\r\n",
       "@enduml\r\n",
       "\n",
       "PlantUML version 1.2020.13(Sat Jun 13 12:26:38 UTC 2020)\n",
       "(EPL source distribution)\n",
       "Java Runtime: OpenJDK Runtime Environment\n",
       "JVM: OpenJDK 64-Bit Server VM\n",
       "Default Encoding: UTF-8\n",
       "Language: en\n",
       "Country: null\n",
       "--></g></svg>"
      ]
     },
     "execution_count": 19,
     "metadata": {},
     "output_type": "execute_result"
    }
   ],
   "source": [
    "%viz --style=\"LR\" --view=\"Interconnection\" \"Q\""
   ]
  },
  {
   "cell_type": "code",
   "execution_count": 20,
   "id": "protecting-working",
   "metadata": {
    "execution": {
     "iopub.execute_input": "2021-03-26T09:12:06.587047Z",
     "iopub.status.busy": "2021-03-26T09:12:06.586501Z",
     "iopub.status.idle": "2021-03-26T09:12:06.592733Z",
     "shell.execute_reply": "2021-03-26T09:12:06.592382Z"
    }
   },
   "outputs": [
    {
     "data": {
      "image/svg+xml": [
       "<?xml version=\"1.0\" encoding=\"UTF-8\" standalone=\"no\"?><svg xmlns=\"http://www.w3.org/2000/svg\" xmlns:xlink=\"http://www.w3.org/1999/xlink\" contentScriptType=\"application/ecmascript\" contentStyleType=\"text/css\" height=\"12px\" preserveAspectRatio=\"none\" style=\"width:12px;height:12px;\" version=\"1.1\" viewBox=\"0 0 12 12\" width=\"12px\" zoomAndPan=\"magnify\"><defs/><g><!--MD5=[7aeb398939421629f6affaa4a1a7b125]\n",
       "@startuml\r\n",
       "skinparam ranksep 8\r\n",
       "left to right direction\r\n",
       "skinparam monochrome true\r\n",
       "skinparam classbackgroundcolor white\r\n",
       "skinparam shadowing false\r\n",
       "skinparam wrapWidth 300\r\n",
       "hide circle\r\n",
       "\r\n",
       "@enduml\r\n",
       "\n",
       "PlantUML version 1.2020.13(Sat Jun 13 12:26:38 UTC 2020)\n",
       "(EPL source distribution)\n",
       "Java Runtime: OpenJDK Runtime Environment\n",
       "JVM: OpenJDK 64-Bit Server VM\n",
       "Default Encoding: UTF-8\n",
       "Language: en\n",
       "Country: null\n",
       "--></g></svg>"
      ]
     },
     "execution_count": 20,
     "metadata": {},
     "output_type": "execute_result"
    }
   ],
   "source": [
    "%viz --style=\"LR\" --view=\"Action\" \"Q\""
   ]
  },
  {
   "cell_type": "code",
   "execution_count": 21,
   "id": "royal-weather",
   "metadata": {
    "execution": {
     "iopub.execute_input": "2021-03-26T09:12:06.645894Z",
     "iopub.status.busy": "2021-03-26T09:12:06.645286Z",
     "iopub.status.idle": "2021-03-26T09:12:06.676132Z",
     "shell.execute_reply": "2021-03-26T09:12:06.675842Z"
    }
   },
   "outputs": [
    {
     "data": {
      "image/svg+xml": [
       "<?xml version=\"1.0\" encoding=\"UTF-8\" standalone=\"no\"?><svg xmlns=\"http://www.w3.org/2000/svg\" xmlns:xlink=\"http://www.w3.org/1999/xlink\" contentScriptType=\"application/ecmascript\" contentStyleType=\"text/css\" height=\"196px\" preserveAspectRatio=\"none\" style=\"width:238px;height:196px;\" version=\"1.1\" viewBox=\"0 0 238 196\" width=\"238px\" zoomAndPan=\"magnify\"><defs/><g><!--MD5=[fbc87193dbaf4d95561dea2c320d4a47]\n",
       "cluster E1--><a href=\"psysml:e7978fe0-b69e-4191-a6c6-ff9a405cd716\" target=\"_top\" title=\"psysml:e7978fe0-b69e-4191-a6c6-ff9a405cd716\" xlink:actuate=\"onRequest\" xlink:href=\"psysml:e7978fe0-b69e-4191-a6c6-ff9a405cd716\" xlink:show=\"new\" xlink:title=\"psysml:e7978fe0-b69e-4191-a6c6-ff9a405cd716\" xlink:type=\"simple\"><polygon fill=\"#FFFFFF\" points=\"16,6,34,6,41,28.2969,216,28.2969,216,184,16,184,16,6\" style=\"stroke: #000000; stroke-width: 1.5;\"/><line style=\"stroke: #000000; stroke-width: 1.5;\" x1=\"16\" x2=\"41\" y1=\"28.2969\" y2=\"28.2969\"/><text fill=\"#000000\" font-family=\"sans-serif\" font-size=\"14\" font-weight=\"bold\" lengthAdjust=\"spacingAndGlyphs\" textLength=\"12\" x=\"20\" y=\"20.9951\">Q</text></a><!--MD5=[b4997ac47864f28c2f74865a473b2911]\n",
       "class E2--><a href=\"psysml:d69286fc-6be9-4686-bca9-82760e97d021\" target=\"_top\" title=\"psysml:d69286fc-6be9-4686-bca9-82760e97d021\" xlink:actuate=\"onRequest\" xlink:href=\"psysml:d69286fc-6be9-4686-bca9-82760e97d021\" xlink:show=\"new\" xlink:title=\"psysml:d69286fc-6be9-4686-bca9-82760e97d021\" xlink:type=\"simple\"><rect fill=\"#FFFFFF\" height=\"45.9375\" id=\"E2\" rx=\"10\" ry=\"10\" style=\"stroke: #383838; stroke-width: 1.5;\" width=\"42\" x=\"44\" y=\"41\"/><text fill=\"#000000\" font-family=\"sans-serif\" font-size=\"12\" font-style=\"italic\" lengthAdjust=\"spacingAndGlyphs\" textLength=\"40\" x=\"45\" y=\"57.1387\">«part»</text><text fill=\"#000000\" font-family=\"sans-serif\" font-size=\"12\" lengthAdjust=\"spacingAndGlyphs\" textLength=\"4\" x=\"63\" y=\"71.1074\">f</text><line style=\"stroke: #383838; stroke-width: 1.5;\" x1=\"45\" x2=\"85\" y1=\"78.9375\" y2=\"78.9375\"/></a><!--MD5=[09b614a08d8cba4a07c9adeb5e0fee81]\n",
       "class E3--><a href=\"psysml:05544d0a-8d7e-4ac4-8a38-1321d7df08dd\" target=\"_top\" title=\"psysml:05544d0a-8d7e-4ac4-8a38-1321d7df08dd\" xlink:actuate=\"onRequest\" xlink:href=\"psysml:05544d0a-8d7e-4ac4-8a38-1321d7df08dd\" xlink:show=\"new\" xlink:title=\"psysml:05544d0a-8d7e-4ac4-8a38-1321d7df08dd\" xlink:type=\"simple\"><rect fill=\"#FFFFFF\" height=\"45.9375\" id=\"E3\" rx=\"10\" ry=\"10\" style=\"stroke: #383838; stroke-width: 1.5;\" width=\"42\" x=\"158\" y=\"41\"/><text fill=\"#000000\" font-family=\"sans-serif\" font-size=\"12\" font-style=\"italic\" lengthAdjust=\"spacingAndGlyphs\" textLength=\"40\" x=\"159\" y=\"57.1387\">«part»</text><text fill=\"#000000\" font-family=\"sans-serif\" font-size=\"12\" lengthAdjust=\"spacingAndGlyphs\" textLength=\"8\" x=\"175\" y=\"71.1074\">a</text><line style=\"stroke: #383838; stroke-width: 1.5;\" x1=\"159\" x2=\"199\" y1=\"78.9375\" y2=\"78.9375\"/></a><!--MD5=[ebbe1d658d1005bcc118a6aa81145e00]\n",
       "class E4--><a href=\"psysml:6e0f0160-dcde-436d-afd9-a7845bbec9b5\" target=\"_top\" title=\"psysml:6e0f0160-dcde-436d-afd9-a7845bbec9b5\" xlink:actuate=\"onRequest\" xlink:href=\"psysml:6e0f0160-dcde-436d-afd9-a7845bbec9b5\" xlink:show=\"new\" xlink:title=\"psysml:6e0f0160-dcde-436d-afd9-a7845bbec9b5\" xlink:type=\"simple\"><rect fill=\"#FFFFFF\" height=\"45.9375\" id=\"E4\" style=\"stroke: #383838; stroke-width: 1.5;\" width=\"66\" x=\"32\" y=\"122\"/><text fill=\"#000000\" font-family=\"sans-serif\" font-size=\"12\" font-style=\"italic\" lengthAdjust=\"spacingAndGlyphs\" textLength=\"64\" x=\"33\" y=\"138.1387\">«part def»</text><text fill=\"#000000\" font-family=\"sans-serif\" font-size=\"12\" lengthAdjust=\"spacingAndGlyphs\" textLength=\"8\" x=\"61\" y=\"152.1074\">C</text><line style=\"stroke: #383838; stroke-width: 1.5;\" x1=\"33\" x2=\"97\" y1=\"159.9375\" y2=\"159.9375\"/></a><!--MD5=[270fce915f116d4de14055a7c1d9a0f3]\n",
       "class E5--><a href=\"psysml:c2eaf658-adee-4a19-a83e-00cce7f1793f\" target=\"_top\" title=\"psysml:c2eaf658-adee-4a19-a83e-00cce7f1793f\" xlink:actuate=\"onRequest\" xlink:href=\"psysml:c2eaf658-adee-4a19-a83e-00cce7f1793f\" xlink:show=\"new\" xlink:title=\"psysml:c2eaf658-adee-4a19-a83e-00cce7f1793f\" xlink:type=\"simple\"><rect fill=\"#FFFFFF\" height=\"45.9375\" id=\"E5\" rx=\"10\" ry=\"10\" style=\"stroke: #383838; stroke-width: 1.5;\" width=\"42\" x=\"158\" y=\"122\"/><text fill=\"#000000\" font-family=\"sans-serif\" font-size=\"12\" font-style=\"italic\" lengthAdjust=\"spacingAndGlyphs\" textLength=\"40\" x=\"159\" y=\"138.1387\">«part»</text><text fill=\"#000000\" font-family=\"sans-serif\" font-size=\"12\" lengthAdjust=\"spacingAndGlyphs\" textLength=\"8\" x=\"175\" y=\"152.1074\">g</text><line style=\"stroke: #383838; stroke-width: 1.5;\" x1=\"159\" x2=\"199\" y1=\"159.9375\" y2=\"159.9375\"/></a><!--MD5=[209b3feb70ccb6233bfe1053d122c12c]\n",
       "reverse link E2 to E3--><a href=\"psysml:05544d0a-8d7e-4ac4-8a38-1321d7df08dd\" target=\"_top\" title=\"psysml:05544d0a-8d7e-4ac4-8a38-1321d7df08dd\" xlink:actuate=\"onRequest\" xlink:href=\"psysml:05544d0a-8d7e-4ac4-8a38-1321d7df08dd\" xlink:show=\"new\" xlink:title=\"psysml:05544d0a-8d7e-4ac4-8a38-1321d7df08dd\" xlink:type=\"simple\"><path d=\"M99.26,64 C118.27,64 141.49,64 157.77,64 \" fill=\"none\" id=\"E2&lt;-E3\" style=\"stroke: #383838; stroke-width: 1.0;\"/><polygon fill=\"#383838\" points=\"86.02,64,92.02,68,98.02,64,92.02,60,86.02,64\" style=\"stroke: #383838; stroke-width: 1.0;\"/></a><!--MD5=[62aa6af11e70f752912c1cb0466f24f7]\n",
       "reverse link E4 to E5--><a href=\"psysml:c2eaf658-adee-4a19-a83e-00cce7f1793f\" target=\"_top\" title=\"psysml:c2eaf658-adee-4a19-a83e-00cce7f1793f\" xlink:actuate=\"onRequest\" xlink:href=\"psysml:c2eaf658-adee-4a19-a83e-00cce7f1793f\" xlink:show=\"new\" xlink:title=\"psysml:c2eaf658-adee-4a19-a83e-00cce7f1793f\" xlink:type=\"simple\"><path d=\"M111.28,145 C127.47,145 144.9,145 157.89,145 \" fill=\"none\" id=\"E4&lt;-E5\" style=\"stroke: #383838; stroke-width: 1.0;\"/><polygon fill=\"#383838\" points=\"98.09,145,104.09,149,110.09,145,104.09,141,98.09,145\" style=\"stroke: #383838; stroke-width: 1.0;\"/></a><!--MD5=[81fcfd55d96fa996309068546c9985b6]\n",
       "@startuml\r\n",
       "left to right direction\r\n",
       "skinparam monochrome true\r\n",
       "skinparam classbackgroundcolor white\r\n",
       "skinparam shadowing false\r\n",
       "skinparam wrapWidth 300\r\n",
       "hide circle\r\n",
       "\r\n",
       "package \"Q\" as E1  [[psysml:e7978fe0-b69e-4191-a6c6-ff9a405cd716 ]]  {\r\n",
       "comp usage \"f\" as E2  <<(T,blue)part>> [[psysml:d69286fc-6be9-4686-bca9-82760e97d021 ]] {\r\n",
       "}\r\n",
       "comp usage \"a\" as E3  <<(T,blue)part>> [[psysml:05544d0a-8d7e-4ac4-8a38-1321d7df08dd ]] {\r\n",
       "}\r\n",
       "comp def \"C\" as E4  <<(T,blue)part def>> [[psysml:6e0f0160-dcde-436d-afd9-a7845bbec9b5 ]] {\r\n",
       "}\r\n",
       "comp usage \"g\" as E5  <<(T,blue)part>> [[psysml:c2eaf658-adee-4a19-a83e-00cce7f1793f ]] {\r\n",
       "}\r\n",
       "E2 *- - E3 [[psysml:05544d0a-8d7e-4ac4-8a38-1321d7df08dd ]] \r\n",
       "E4 *- - E5 [[psysml:c2eaf658-adee-4a19-a83e-00cce7f1793f ]] \r\n",
       "}\r\n",
       "@enduml\r\n",
       "\n",
       "PlantUML version 1.2020.13(Sat Jun 13 12:26:38 UTC 2020)\n",
       "(EPL source distribution)\n",
       "Java Runtime: OpenJDK Runtime Environment\n",
       "JVM: OpenJDK 64-Bit Server VM\n",
       "Default Encoding: UTF-8\n",
       "Language: en\n",
       "Country: null\n",
       "--></g></svg>"
      ]
     },
     "execution_count": 21,
     "metadata": {},
     "output_type": "execute_result"
    }
   ],
   "source": [
    "%viz --style=\"LR\" --view=\"Sequence\" \"Q\""
   ]
  },
  {
   "cell_type": "code",
   "execution_count": 22,
   "id": "intelligent-lodge",
   "metadata": {
    "execution": {
     "iopub.execute_input": "2021-03-26T09:12:06.726685Z",
     "iopub.status.busy": "2021-03-26T09:12:06.726313Z",
     "iopub.status.idle": "2021-03-26T09:12:06.757155Z",
     "shell.execute_reply": "2021-03-26T09:12:06.755921Z"
    }
   },
   "outputs": [
    {
     "data": {
      "image/svg+xml": [
       "<?xml version=\"1.0\" encoding=\"UTF-8\" standalone=\"no\"?><svg xmlns=\"http://www.w3.org/2000/svg\" xmlns:xlink=\"http://www.w3.org/1999/xlink\" contentScriptType=\"application/ecmascript\" contentStyleType=\"text/css\" height=\"196px\" preserveAspectRatio=\"none\" style=\"width:238px;height:196px;\" version=\"1.1\" viewBox=\"0 0 238 196\" width=\"238px\" zoomAndPan=\"magnify\"><defs/><g><!--MD5=[fbc87193dbaf4d95561dea2c320d4a47]\n",
       "cluster E1--><a href=\"psysml:e7978fe0-b69e-4191-a6c6-ff9a405cd716\" target=\"_top\" title=\"psysml:e7978fe0-b69e-4191-a6c6-ff9a405cd716\" xlink:actuate=\"onRequest\" xlink:href=\"psysml:e7978fe0-b69e-4191-a6c6-ff9a405cd716\" xlink:show=\"new\" xlink:title=\"psysml:e7978fe0-b69e-4191-a6c6-ff9a405cd716\" xlink:type=\"simple\"><polygon fill=\"#FFFFFF\" points=\"16,6,34,6,41,28.2969,216,28.2969,216,184,16,184,16,6\" style=\"stroke: #000000; stroke-width: 1.5;\"/><line style=\"stroke: #000000; stroke-width: 1.5;\" x1=\"16\" x2=\"41\" y1=\"28.2969\" y2=\"28.2969\"/><text fill=\"#000000\" font-family=\"sans-serif\" font-size=\"14\" font-weight=\"bold\" lengthAdjust=\"spacingAndGlyphs\" textLength=\"12\" x=\"20\" y=\"20.9951\">Q</text></a><!--MD5=[b4997ac47864f28c2f74865a473b2911]\n",
       "class E2--><a href=\"psysml:d69286fc-6be9-4686-bca9-82760e97d021\" target=\"_top\" title=\"psysml:d69286fc-6be9-4686-bca9-82760e97d021\" xlink:actuate=\"onRequest\" xlink:href=\"psysml:d69286fc-6be9-4686-bca9-82760e97d021\" xlink:show=\"new\" xlink:title=\"psysml:d69286fc-6be9-4686-bca9-82760e97d021\" xlink:type=\"simple\"><rect fill=\"#FFFFFF\" height=\"45.9375\" id=\"E2\" rx=\"10\" ry=\"10\" style=\"stroke: #383838; stroke-width: 1.5;\" width=\"42\" x=\"44\" y=\"41\"/><text fill=\"#000000\" font-family=\"sans-serif\" font-size=\"12\" font-style=\"italic\" lengthAdjust=\"spacingAndGlyphs\" textLength=\"40\" x=\"45\" y=\"57.1387\">«part»</text><text fill=\"#000000\" font-family=\"sans-serif\" font-size=\"12\" lengthAdjust=\"spacingAndGlyphs\" textLength=\"4\" x=\"63\" y=\"71.1074\">f</text><line style=\"stroke: #383838; stroke-width: 1.5;\" x1=\"45\" x2=\"85\" y1=\"78.9375\" y2=\"78.9375\"/></a><!--MD5=[09b614a08d8cba4a07c9adeb5e0fee81]\n",
       "class E3--><a href=\"psysml:05544d0a-8d7e-4ac4-8a38-1321d7df08dd\" target=\"_top\" title=\"psysml:05544d0a-8d7e-4ac4-8a38-1321d7df08dd\" xlink:actuate=\"onRequest\" xlink:href=\"psysml:05544d0a-8d7e-4ac4-8a38-1321d7df08dd\" xlink:show=\"new\" xlink:title=\"psysml:05544d0a-8d7e-4ac4-8a38-1321d7df08dd\" xlink:type=\"simple\"><rect fill=\"#FFFFFF\" height=\"45.9375\" id=\"E3\" rx=\"10\" ry=\"10\" style=\"stroke: #383838; stroke-width: 1.5;\" width=\"42\" x=\"158\" y=\"41\"/><text fill=\"#000000\" font-family=\"sans-serif\" font-size=\"12\" font-style=\"italic\" lengthAdjust=\"spacingAndGlyphs\" textLength=\"40\" x=\"159\" y=\"57.1387\">«part»</text><text fill=\"#000000\" font-family=\"sans-serif\" font-size=\"12\" lengthAdjust=\"spacingAndGlyphs\" textLength=\"8\" x=\"175\" y=\"71.1074\">a</text><line style=\"stroke: #383838; stroke-width: 1.5;\" x1=\"159\" x2=\"199\" y1=\"78.9375\" y2=\"78.9375\"/></a><!--MD5=[ebbe1d658d1005bcc118a6aa81145e00]\n",
       "class E4--><a href=\"psysml:6e0f0160-dcde-436d-afd9-a7845bbec9b5\" target=\"_top\" title=\"psysml:6e0f0160-dcde-436d-afd9-a7845bbec9b5\" xlink:actuate=\"onRequest\" xlink:href=\"psysml:6e0f0160-dcde-436d-afd9-a7845bbec9b5\" xlink:show=\"new\" xlink:title=\"psysml:6e0f0160-dcde-436d-afd9-a7845bbec9b5\" xlink:type=\"simple\"><rect fill=\"#FFFFFF\" height=\"45.9375\" id=\"E4\" style=\"stroke: #383838; stroke-width: 1.5;\" width=\"66\" x=\"32\" y=\"122\"/><text fill=\"#000000\" font-family=\"sans-serif\" font-size=\"12\" font-style=\"italic\" lengthAdjust=\"spacingAndGlyphs\" textLength=\"64\" x=\"33\" y=\"138.1387\">«part def»</text><text fill=\"#000000\" font-family=\"sans-serif\" font-size=\"12\" lengthAdjust=\"spacingAndGlyphs\" textLength=\"8\" x=\"61\" y=\"152.1074\">C</text><line style=\"stroke: #383838; stroke-width: 1.5;\" x1=\"33\" x2=\"97\" y1=\"159.9375\" y2=\"159.9375\"/></a><!--MD5=[270fce915f116d4de14055a7c1d9a0f3]\n",
       "class E5--><a href=\"psysml:c2eaf658-adee-4a19-a83e-00cce7f1793f\" target=\"_top\" title=\"psysml:c2eaf658-adee-4a19-a83e-00cce7f1793f\" xlink:actuate=\"onRequest\" xlink:href=\"psysml:c2eaf658-adee-4a19-a83e-00cce7f1793f\" xlink:show=\"new\" xlink:title=\"psysml:c2eaf658-adee-4a19-a83e-00cce7f1793f\" xlink:type=\"simple\"><rect fill=\"#FFFFFF\" height=\"45.9375\" id=\"E5\" rx=\"10\" ry=\"10\" style=\"stroke: #383838; stroke-width: 1.5;\" width=\"42\" x=\"158\" y=\"122\"/><text fill=\"#000000\" font-family=\"sans-serif\" font-size=\"12\" font-style=\"italic\" lengthAdjust=\"spacingAndGlyphs\" textLength=\"40\" x=\"159\" y=\"138.1387\">«part»</text><text fill=\"#000000\" font-family=\"sans-serif\" font-size=\"12\" lengthAdjust=\"spacingAndGlyphs\" textLength=\"8\" x=\"175\" y=\"152.1074\">g</text><line style=\"stroke: #383838; stroke-width: 1.5;\" x1=\"159\" x2=\"199\" y1=\"159.9375\" y2=\"159.9375\"/></a><!--MD5=[209b3feb70ccb6233bfe1053d122c12c]\n",
       "reverse link E2 to E3--><a href=\"psysml:05544d0a-8d7e-4ac4-8a38-1321d7df08dd\" target=\"_top\" title=\"psysml:05544d0a-8d7e-4ac4-8a38-1321d7df08dd\" xlink:actuate=\"onRequest\" xlink:href=\"psysml:05544d0a-8d7e-4ac4-8a38-1321d7df08dd\" xlink:show=\"new\" xlink:title=\"psysml:05544d0a-8d7e-4ac4-8a38-1321d7df08dd\" xlink:type=\"simple\"><path d=\"M99.26,64 C118.27,64 141.49,64 157.77,64 \" fill=\"none\" id=\"E2&lt;-E3\" style=\"stroke: #383838; stroke-width: 1.0;\"/><polygon fill=\"#383838\" points=\"86.02,64,92.02,68,98.02,64,92.02,60,86.02,64\" style=\"stroke: #383838; stroke-width: 1.0;\"/></a><!--MD5=[62aa6af11e70f752912c1cb0466f24f7]\n",
       "reverse link E4 to E5--><a href=\"psysml:c2eaf658-adee-4a19-a83e-00cce7f1793f\" target=\"_top\" title=\"psysml:c2eaf658-adee-4a19-a83e-00cce7f1793f\" xlink:actuate=\"onRequest\" xlink:href=\"psysml:c2eaf658-adee-4a19-a83e-00cce7f1793f\" xlink:show=\"new\" xlink:title=\"psysml:c2eaf658-adee-4a19-a83e-00cce7f1793f\" xlink:type=\"simple\"><path d=\"M111.28,145 C127.47,145 144.9,145 157.89,145 \" fill=\"none\" id=\"E4&lt;-E5\" style=\"stroke: #383838; stroke-width: 1.0;\"/><polygon fill=\"#383838\" points=\"98.09,145,104.09,149,110.09,145,104.09,141,98.09,145\" style=\"stroke: #383838; stroke-width: 1.0;\"/></a><!--MD5=[81fcfd55d96fa996309068546c9985b6]\n",
       "@startuml\r\n",
       "left to right direction\r\n",
       "skinparam monochrome true\r\n",
       "skinparam classbackgroundcolor white\r\n",
       "skinparam shadowing false\r\n",
       "skinparam wrapWidth 300\r\n",
       "hide circle\r\n",
       "\r\n",
       "package \"Q\" as E1  [[psysml:e7978fe0-b69e-4191-a6c6-ff9a405cd716 ]]  {\r\n",
       "comp usage \"f\" as E2  <<(T,blue)part>> [[psysml:d69286fc-6be9-4686-bca9-82760e97d021 ]] {\r\n",
       "}\r\n",
       "comp usage \"a\" as E3  <<(T,blue)part>> [[psysml:05544d0a-8d7e-4ac4-8a38-1321d7df08dd ]] {\r\n",
       "}\r\n",
       "comp def \"C\" as E4  <<(T,blue)part def>> [[psysml:6e0f0160-dcde-436d-afd9-a7845bbec9b5 ]] {\r\n",
       "}\r\n",
       "comp usage \"g\" as E5  <<(T,blue)part>> [[psysml:c2eaf658-adee-4a19-a83e-00cce7f1793f ]] {\r\n",
       "}\r\n",
       "E2 *- - E3 [[psysml:05544d0a-8d7e-4ac4-8a38-1321d7df08dd ]] \r\n",
       "E4 *- - E5 [[psysml:c2eaf658-adee-4a19-a83e-00cce7f1793f ]] \r\n",
       "}\r\n",
       "@enduml\r\n",
       "\n",
       "PlantUML version 1.2020.13(Sat Jun 13 12:26:38 UTC 2020)\n",
       "(EPL source distribution)\n",
       "Java Runtime: OpenJDK Runtime Environment\n",
       "JVM: OpenJDK 64-Bit Server VM\n",
       "Default Encoding: UTF-8\n",
       "Language: en\n",
       "Country: null\n",
       "--></g></svg>"
      ]
     },
     "execution_count": 22,
     "metadata": {},
     "output_type": "execute_result"
    }
   ],
   "source": [
    "%viz --style=\"LR\" --view=\"MIXED\" \"Q\""
   ]
  },
  {
   "cell_type": "code",
   "execution_count": 23,
   "id": "fabulous-fourth",
   "metadata": {
    "execution": {
     "iopub.execute_input": "2021-03-26T09:12:06.806916Z",
     "iopub.status.busy": "2021-03-26T09:12:06.806390Z",
     "iopub.status.idle": "2021-03-26T09:12:06.840706Z",
     "shell.execute_reply": "2021-03-26T09:12:06.839542Z"
    }
   },
   "outputs": [
    {
     "data": {
      "image/svg+xml": [
       "<?xml version=\"1.0\" encoding=\"UTF-8\" standalone=\"no\"?><svg xmlns=\"http://www.w3.org/2000/svg\" xmlns:xlink=\"http://www.w3.org/1999/xlink\" contentScriptType=\"application/ecmascript\" contentStyleType=\"text/css\" height=\"221px\" preserveAspectRatio=\"none\" style=\"width:213px;height:221px;\" version=\"1.1\" viewBox=\"0 0 213 221\" width=\"213px\" zoomAndPan=\"magnify\"><defs><filter height=\"300%\" id=\"f1r2l78pl3m5cb\" width=\"300%\" x=\"-1\" y=\"-1\"><feGaussianBlur result=\"blurOut\" stdDeviation=\"2.0\"/><feColorMatrix in=\"blurOut\" result=\"blurOut2\" type=\"matrix\" values=\"0 0 0 0 0 0 0 0 0 0 0 0 0 0 0 0 0 0 .4 0\"/><feOffset dx=\"4.0\" dy=\"4.0\" in=\"blurOut2\" result=\"blurOut3\"/><feBlend in=\"SourceGraphic\" in2=\"blurOut3\" mode=\"normal\"/></filter></defs><g><!--MD5=[fbc87193dbaf4d95561dea2c320d4a47]\n",
       "cluster E1--><a href=\"psysml:e7978fe0-b69e-4191-a6c6-ff9a405cd716\" target=\"_top\" title=\"psysml:e7978fe0-b69e-4191-a6c6-ff9a405cd716\" xlink:actuate=\"onRequest\" xlink:href=\"psysml:e7978fe0-b69e-4191-a6c6-ff9a405cd716\" xlink:show=\"new\" xlink:title=\"psysml:e7978fe0-b69e-4191-a6c6-ff9a405cd716\" xlink:type=\"simple\"><polygon fill=\"#FFFFFF\" filter=\"url(#f1r2l78pl3m5cb)\" points=\"16,6,34,6,41,28.2969,191,28.2969,191,209,16,209,16,6\" style=\"stroke: #000000; stroke-width: 1.5;\"/><line style=\"stroke: #000000; stroke-width: 1.5;\" x1=\"16\" x2=\"41\" y1=\"28.2969\" y2=\"28.2969\"/><text fill=\"#000000\" font-family=\"sans-serif\" font-size=\"14\" font-weight=\"bold\" lengthAdjust=\"spacingAndGlyphs\" textLength=\"12\" x=\"20\" y=\"20.9951\">Q</text></a><!--MD5=[b4997ac47864f28c2f74865a473b2911]\n",
       "class E2--><a href=\"psysml:d69286fc-6be9-4686-bca9-82760e97d021\" target=\"_top\" title=\"psysml:d69286fc-6be9-4686-bca9-82760e97d021\" xlink:actuate=\"onRequest\" xlink:href=\"psysml:d69286fc-6be9-4686-bca9-82760e97d021\" xlink:show=\"new\" xlink:title=\"psysml:d69286fc-6be9-4686-bca9-82760e97d021\" xlink:type=\"simple\"><rect fill=\"#FEFECE\" filter=\"url(#f1r2l78pl3m5cb)\" height=\"45.9375\" id=\"E2\" rx=\"10\" ry=\"10\" style=\"stroke: #A80036; stroke-width: 1.5;\" width=\"42\" x=\"133\" y=\"41\"/><text fill=\"#000000\" font-family=\"sans-serif\" font-size=\"12\" font-style=\"italic\" lengthAdjust=\"spacingAndGlyphs\" textLength=\"40\" x=\"134\" y=\"57.1387\">«part»</text><text fill=\"#000000\" font-family=\"sans-serif\" font-size=\"12\" lengthAdjust=\"spacingAndGlyphs\" textLength=\"4\" x=\"152\" y=\"71.1074\">f</text><line style=\"stroke: #A80036; stroke-width: 1.5;\" x1=\"134\" x2=\"174\" y1=\"78.9375\" y2=\"78.9375\"/></a><!--MD5=[09b614a08d8cba4a07c9adeb5e0fee81]\n",
       "class E3--><a href=\"psysml:05544d0a-8d7e-4ac4-8a38-1321d7df08dd\" target=\"_top\" title=\"psysml:05544d0a-8d7e-4ac4-8a38-1321d7df08dd\" xlink:actuate=\"onRequest\" xlink:href=\"psysml:05544d0a-8d7e-4ac4-8a38-1321d7df08dd\" xlink:show=\"new\" xlink:title=\"psysml:05544d0a-8d7e-4ac4-8a38-1321d7df08dd\" xlink:type=\"simple\"><rect fill=\"#FEFECE\" filter=\"url(#f1r2l78pl3m5cb)\" height=\"45.9375\" id=\"E3\" rx=\"10\" ry=\"10\" style=\"stroke: #A80036; stroke-width: 1.5;\" width=\"42\" x=\"133\" y=\"147\"/><text fill=\"#000000\" font-family=\"sans-serif\" font-size=\"12\" font-style=\"italic\" lengthAdjust=\"spacingAndGlyphs\" textLength=\"40\" x=\"134\" y=\"163.1387\">«part»</text><text fill=\"#000000\" font-family=\"sans-serif\" font-size=\"12\" lengthAdjust=\"spacingAndGlyphs\" textLength=\"8\" x=\"150\" y=\"177.1074\">a</text><line style=\"stroke: #A80036; stroke-width: 1.5;\" x1=\"134\" x2=\"174\" y1=\"184.9375\" y2=\"184.9375\"/></a><!--MD5=[ebbe1d658d1005bcc118a6aa81145e00]\n",
       "class E4--><a href=\"psysml:6e0f0160-dcde-436d-afd9-a7845bbec9b5\" target=\"_top\" title=\"psysml:6e0f0160-dcde-436d-afd9-a7845bbec9b5\" xlink:actuate=\"onRequest\" xlink:href=\"psysml:6e0f0160-dcde-436d-afd9-a7845bbec9b5\" xlink:show=\"new\" xlink:title=\"psysml:6e0f0160-dcde-436d-afd9-a7845bbec9b5\" xlink:type=\"simple\"><rect fill=\"#FEFECE\" filter=\"url(#f1r2l78pl3m5cb)\" height=\"45.9375\" id=\"E4\" style=\"stroke: #A80036; stroke-width: 1.5;\" width=\"66\" x=\"32\" y=\"41\"/><text fill=\"#000000\" font-family=\"sans-serif\" font-size=\"12\" font-style=\"italic\" lengthAdjust=\"spacingAndGlyphs\" textLength=\"64\" x=\"33\" y=\"57.1387\">«part def»</text><text fill=\"#000000\" font-family=\"sans-serif\" font-size=\"12\" lengthAdjust=\"spacingAndGlyphs\" textLength=\"8\" x=\"61\" y=\"71.1074\">C</text><line style=\"stroke: #A80036; stroke-width: 1.5;\" x1=\"33\" x2=\"97\" y1=\"78.9375\" y2=\"78.9375\"/></a><!--MD5=[270fce915f116d4de14055a7c1d9a0f3]\n",
       "class E5--><a href=\"psysml:c2eaf658-adee-4a19-a83e-00cce7f1793f\" target=\"_top\" title=\"psysml:c2eaf658-adee-4a19-a83e-00cce7f1793f\" xlink:actuate=\"onRequest\" xlink:href=\"psysml:c2eaf658-adee-4a19-a83e-00cce7f1793f\" xlink:show=\"new\" xlink:title=\"psysml:c2eaf658-adee-4a19-a83e-00cce7f1793f\" xlink:type=\"simple\"><rect fill=\"#FEFECE\" filter=\"url(#f1r2l78pl3m5cb)\" height=\"45.9375\" id=\"E5\" rx=\"10\" ry=\"10\" style=\"stroke: #A80036; stroke-width: 1.5;\" width=\"42\" x=\"44\" y=\"147\"/><text fill=\"#000000\" font-family=\"sans-serif\" font-size=\"12\" font-style=\"italic\" lengthAdjust=\"spacingAndGlyphs\" textLength=\"40\" x=\"45\" y=\"163.1387\">«part»</text><text fill=\"#000000\" font-family=\"sans-serif\" font-size=\"12\" lengthAdjust=\"spacingAndGlyphs\" textLength=\"8\" x=\"61\" y=\"177.1074\">g</text><line style=\"stroke: #A80036; stroke-width: 1.5;\" x1=\"45\" x2=\"85\" y1=\"184.9375\" y2=\"184.9375\"/></a><!--MD5=[209b3feb70ccb6233bfe1053d122c12c]\n",
       "reverse link E2 to E3--><a href=\"psysml:05544d0a-8d7e-4ac4-8a38-1321d7df08dd\" target=\"_top\" title=\"psysml:05544d0a-8d7e-4ac4-8a38-1321d7df08dd\" xlink:actuate=\"onRequest\" xlink:href=\"psysml:05544d0a-8d7e-4ac4-8a38-1321d7df08dd\" xlink:show=\"new\" xlink:title=\"psysml:05544d0a-8d7e-4ac4-8a38-1321d7df08dd\" xlink:type=\"simple\"><path d=\"M154,100.44 C154,115.87 154,133.47 154,146.98 \" fill=\"none\" id=\"E2&lt;-E3\" style=\"stroke: #A80036; stroke-width: 1.0;\"/><polygon fill=\"#A80036\" points=\"154,87.06,150,93.06,154,99.06,158,93.06,154,87.06\" style=\"stroke: #A80036; stroke-width: 1.0;\"/></a><!--MD5=[62aa6af11e70f752912c1cb0466f24f7]\n",
       "reverse link E4 to E5--><a href=\"psysml:c2eaf658-adee-4a19-a83e-00cce7f1793f\" target=\"_top\" title=\"psysml:c2eaf658-adee-4a19-a83e-00cce7f1793f\" xlink:actuate=\"onRequest\" xlink:href=\"psysml:c2eaf658-adee-4a19-a83e-00cce7f1793f\" xlink:show=\"new\" xlink:title=\"psysml:c2eaf658-adee-4a19-a83e-00cce7f1793f\" xlink:type=\"simple\"><path d=\"M65,100.44 C65,115.87 65,133.47 65,146.98 \" fill=\"none\" id=\"E4&lt;-E5\" style=\"stroke: #A80036; stroke-width: 1.0;\"/><polygon fill=\"#A80036\" points=\"65,87.06,61,93.06,65,99.06,69,93.06,65,87.06\" style=\"stroke: #A80036; stroke-width: 1.0;\"/></a><!--MD5=[ff0851849b38e7f4497dffa67f9c9fea]\n",
       "@startuml\r\n",
       "skinparam wrapWidth 300\r\n",
       "hide circle\r\n",
       "\r\n",
       "package \"Q\" as E1  [[psysml:e7978fe0-b69e-4191-a6c6-ff9a405cd716 ]]  {\r\n",
       "comp usage \"f\" as E2  <<(T,blue)part>> [[psysml:d69286fc-6be9-4686-bca9-82760e97d021 ]] {\r\n",
       "}\r\n",
       "comp usage \"a\" as E3  <<(T,blue)part>> [[psysml:05544d0a-8d7e-4ac4-8a38-1321d7df08dd ]] {\r\n",
       "}\r\n",
       "comp def \"C\" as E4  <<(T,blue)part def>> [[psysml:6e0f0160-dcde-436d-afd9-a7845bbec9b5 ]] {\r\n",
       "}\r\n",
       "comp usage \"g\" as E5  <<(T,blue)part>> [[psysml:c2eaf658-adee-4a19-a83e-00cce7f1793f ]] {\r\n",
       "}\r\n",
       "E2 *- - E3 [[psysml:05544d0a-8d7e-4ac4-8a38-1321d7df08dd ]] \r\n",
       "E4 *- - E5 [[psysml:c2eaf658-adee-4a19-a83e-00cce7f1793f ]] \r\n",
       "}\r\n",
       "@enduml\r\n",
       "\n",
       "PlantUML version 1.2020.13(Sat Jun 13 12:26:38 UTC 2020)\n",
       "(EPL source distribution)\n",
       "Java Runtime: OpenJDK Runtime Environment\n",
       "JVM: OpenJDK 64-Bit Server VM\n",
       "Default Encoding: UTF-8\n",
       "Language: en\n",
       "Country: null\n",
       "--></g></svg>"
      ]
     },
     "execution_count": 23,
     "metadata": {},
     "output_type": "execute_result"
    }
   ],
   "source": [
    "%viz --style=\"STDCOLOR\" --view=\"Default\" \"Q\""
   ]
  },
  {
   "cell_type": "code",
   "execution_count": 24,
   "id": "worthy-tissue",
   "metadata": {
    "execution": {
     "iopub.execute_input": "2021-03-26T09:12:06.894887Z",
     "iopub.status.busy": "2021-03-26T09:12:06.894288Z",
     "iopub.status.idle": "2021-03-26T09:12:06.928323Z",
     "shell.execute_reply": "2021-03-26T09:12:06.927151Z"
    }
   },
   "outputs": [
    {
     "data": {
      "image/svg+xml": [
       "<?xml version=\"1.0\" encoding=\"UTF-8\" standalone=\"no\"?><svg xmlns=\"http://www.w3.org/2000/svg\" xmlns:xlink=\"http://www.w3.org/1999/xlink\" contentScriptType=\"application/ecmascript\" contentStyleType=\"text/css\" height=\"221px\" preserveAspectRatio=\"none\" style=\"width:213px;height:221px;\" version=\"1.1\" viewBox=\"0 0 213 221\" width=\"213px\" zoomAndPan=\"magnify\"><defs><filter height=\"300%\" id=\"f1r2l78pl3m5cb\" width=\"300%\" x=\"-1\" y=\"-1\"><feGaussianBlur result=\"blurOut\" stdDeviation=\"2.0\"/><feColorMatrix in=\"blurOut\" result=\"blurOut2\" type=\"matrix\" values=\"0 0 0 0 0 0 0 0 0 0 0 0 0 0 0 0 0 0 .4 0\"/><feOffset dx=\"4.0\" dy=\"4.0\" in=\"blurOut2\" result=\"blurOut3\"/><feBlend in=\"SourceGraphic\" in2=\"blurOut3\" mode=\"normal\"/></filter></defs><g><!--MD5=[fbc87193dbaf4d95561dea2c320d4a47]\n",
       "cluster E1--><a href=\"psysml:e7978fe0-b69e-4191-a6c6-ff9a405cd716\" target=\"_top\" title=\"psysml:e7978fe0-b69e-4191-a6c6-ff9a405cd716\" xlink:actuate=\"onRequest\" xlink:href=\"psysml:e7978fe0-b69e-4191-a6c6-ff9a405cd716\" xlink:show=\"new\" xlink:title=\"psysml:e7978fe0-b69e-4191-a6c6-ff9a405cd716\" xlink:type=\"simple\"><polygon fill=\"#FFFFFF\" filter=\"url(#f1r2l78pl3m5cb)\" points=\"16,6,34,6,41,28.2969,191,28.2969,191,209,16,209,16,6\" style=\"stroke: #000000; stroke-width: 1.5;\"/><line style=\"stroke: #000000; stroke-width: 1.5;\" x1=\"16\" x2=\"41\" y1=\"28.2969\" y2=\"28.2969\"/><text fill=\"#000000\" font-family=\"sans-serif\" font-size=\"14\" font-weight=\"bold\" lengthAdjust=\"spacingAndGlyphs\" textLength=\"12\" x=\"20\" y=\"20.9951\">Q</text></a><!--MD5=[b4997ac47864f28c2f74865a473b2911]\n",
       "class E2--><a href=\"psysml:d69286fc-6be9-4686-bca9-82760e97d021\" target=\"_top\" title=\"psysml:d69286fc-6be9-4686-bca9-82760e97d021\" xlink:actuate=\"onRequest\" xlink:href=\"psysml:d69286fc-6be9-4686-bca9-82760e97d021\" xlink:show=\"new\" xlink:title=\"psysml:d69286fc-6be9-4686-bca9-82760e97d021\" xlink:type=\"simple\"><rect fill=\"#FEFECE\" filter=\"url(#f1r2l78pl3m5cb)\" height=\"45.9375\" id=\"E2\" rx=\"10\" ry=\"10\" style=\"stroke: #A80036; stroke-width: 1.5;\" width=\"42\" x=\"133\" y=\"41\"/><text fill=\"#000000\" font-family=\"sans-serif\" font-size=\"12\" font-style=\"italic\" lengthAdjust=\"spacingAndGlyphs\" textLength=\"40\" x=\"134\" y=\"57.1387\">«part»</text><text fill=\"#000000\" font-family=\"sans-serif\" font-size=\"12\" lengthAdjust=\"spacingAndGlyphs\" textLength=\"4\" x=\"152\" y=\"71.1074\">f</text><line style=\"stroke: #A80036; stroke-width: 1.5;\" x1=\"134\" x2=\"174\" y1=\"78.9375\" y2=\"78.9375\"/></a><!--MD5=[09b614a08d8cba4a07c9adeb5e0fee81]\n",
       "class E3--><a href=\"psysml:05544d0a-8d7e-4ac4-8a38-1321d7df08dd\" target=\"_top\" title=\"psysml:05544d0a-8d7e-4ac4-8a38-1321d7df08dd\" xlink:actuate=\"onRequest\" xlink:href=\"psysml:05544d0a-8d7e-4ac4-8a38-1321d7df08dd\" xlink:show=\"new\" xlink:title=\"psysml:05544d0a-8d7e-4ac4-8a38-1321d7df08dd\" xlink:type=\"simple\"><rect fill=\"#FEFECE\" filter=\"url(#f1r2l78pl3m5cb)\" height=\"45.9375\" id=\"E3\" rx=\"10\" ry=\"10\" style=\"stroke: #A80036; stroke-width: 1.5;\" width=\"42\" x=\"133\" y=\"147\"/><text fill=\"#000000\" font-family=\"sans-serif\" font-size=\"12\" font-style=\"italic\" lengthAdjust=\"spacingAndGlyphs\" textLength=\"40\" x=\"134\" y=\"163.1387\">«part»</text><text fill=\"#000000\" font-family=\"sans-serif\" font-size=\"12\" lengthAdjust=\"spacingAndGlyphs\" textLength=\"8\" x=\"150\" y=\"177.1074\">a</text><line style=\"stroke: #A80036; stroke-width: 1.5;\" x1=\"134\" x2=\"174\" y1=\"184.9375\" y2=\"184.9375\"/></a><!--MD5=[ebbe1d658d1005bcc118a6aa81145e00]\n",
       "class E4--><a href=\"psysml:6e0f0160-dcde-436d-afd9-a7845bbec9b5\" target=\"_top\" title=\"psysml:6e0f0160-dcde-436d-afd9-a7845bbec9b5\" xlink:actuate=\"onRequest\" xlink:href=\"psysml:6e0f0160-dcde-436d-afd9-a7845bbec9b5\" xlink:show=\"new\" xlink:title=\"psysml:6e0f0160-dcde-436d-afd9-a7845bbec9b5\" xlink:type=\"simple\"><rect fill=\"#FEFECE\" filter=\"url(#f1r2l78pl3m5cb)\" height=\"45.9375\" id=\"E4\" style=\"stroke: #A80036; stroke-width: 1.5;\" width=\"66\" x=\"32\" y=\"41\"/><text fill=\"#000000\" font-family=\"sans-serif\" font-size=\"12\" font-style=\"italic\" lengthAdjust=\"spacingAndGlyphs\" textLength=\"64\" x=\"33\" y=\"57.1387\">«part def»</text><text fill=\"#000000\" font-family=\"sans-serif\" font-size=\"12\" lengthAdjust=\"spacingAndGlyphs\" textLength=\"8\" x=\"61\" y=\"71.1074\">C</text><line style=\"stroke: #A80036; stroke-width: 1.5;\" x1=\"33\" x2=\"97\" y1=\"78.9375\" y2=\"78.9375\"/></a><!--MD5=[270fce915f116d4de14055a7c1d9a0f3]\n",
       "class E5--><a href=\"psysml:c2eaf658-adee-4a19-a83e-00cce7f1793f\" target=\"_top\" title=\"psysml:c2eaf658-adee-4a19-a83e-00cce7f1793f\" xlink:actuate=\"onRequest\" xlink:href=\"psysml:c2eaf658-adee-4a19-a83e-00cce7f1793f\" xlink:show=\"new\" xlink:title=\"psysml:c2eaf658-adee-4a19-a83e-00cce7f1793f\" xlink:type=\"simple\"><rect fill=\"#FEFECE\" filter=\"url(#f1r2l78pl3m5cb)\" height=\"45.9375\" id=\"E5\" rx=\"10\" ry=\"10\" style=\"stroke: #A80036; stroke-width: 1.5;\" width=\"42\" x=\"44\" y=\"147\"/><text fill=\"#000000\" font-family=\"sans-serif\" font-size=\"12\" font-style=\"italic\" lengthAdjust=\"spacingAndGlyphs\" textLength=\"40\" x=\"45\" y=\"163.1387\">«part»</text><text fill=\"#000000\" font-family=\"sans-serif\" font-size=\"12\" lengthAdjust=\"spacingAndGlyphs\" textLength=\"8\" x=\"61\" y=\"177.1074\">g</text><line style=\"stroke: #A80036; stroke-width: 1.5;\" x1=\"45\" x2=\"85\" y1=\"184.9375\" y2=\"184.9375\"/></a><!--MD5=[209b3feb70ccb6233bfe1053d122c12c]\n",
       "reverse link E2 to E3--><a href=\"psysml:05544d0a-8d7e-4ac4-8a38-1321d7df08dd\" target=\"_top\" title=\"psysml:05544d0a-8d7e-4ac4-8a38-1321d7df08dd\" xlink:actuate=\"onRequest\" xlink:href=\"psysml:05544d0a-8d7e-4ac4-8a38-1321d7df08dd\" xlink:show=\"new\" xlink:title=\"psysml:05544d0a-8d7e-4ac4-8a38-1321d7df08dd\" xlink:type=\"simple\"><path d=\"M154,100.44 C154,115.87 154,133.47 154,146.98 \" fill=\"none\" id=\"E2&lt;-E3\" style=\"stroke: #A80036; stroke-width: 1.0;\"/><polygon fill=\"#A80036\" points=\"154,87.06,150,93.06,154,99.06,158,93.06,154,87.06\" style=\"stroke: #A80036; stroke-width: 1.0;\"/></a><!--MD5=[62aa6af11e70f752912c1cb0466f24f7]\n",
       "reverse link E4 to E5--><a href=\"psysml:c2eaf658-adee-4a19-a83e-00cce7f1793f\" target=\"_top\" title=\"psysml:c2eaf658-adee-4a19-a83e-00cce7f1793f\" xlink:actuate=\"onRequest\" xlink:href=\"psysml:c2eaf658-adee-4a19-a83e-00cce7f1793f\" xlink:show=\"new\" xlink:title=\"psysml:c2eaf658-adee-4a19-a83e-00cce7f1793f\" xlink:type=\"simple\"><path d=\"M65,100.44 C65,115.87 65,133.47 65,146.98 \" fill=\"none\" id=\"E4&lt;-E5\" style=\"stroke: #A80036; stroke-width: 1.0;\"/><polygon fill=\"#A80036\" points=\"65,87.06,61,93.06,65,99.06,69,93.06,65,87.06\" style=\"stroke: #A80036; stroke-width: 1.0;\"/></a><!--MD5=[ff0851849b38e7f4497dffa67f9c9fea]\n",
       "@startuml\r\n",
       "skinparam wrapWidth 300\r\n",
       "hide circle\r\n",
       "\r\n",
       "package \"Q\" as E1  [[psysml:e7978fe0-b69e-4191-a6c6-ff9a405cd716 ]]  {\r\n",
       "comp usage \"f\" as E2  <<(T,blue)part>> [[psysml:d69286fc-6be9-4686-bca9-82760e97d021 ]] {\r\n",
       "}\r\n",
       "comp usage \"a\" as E3  <<(T,blue)part>> [[psysml:05544d0a-8d7e-4ac4-8a38-1321d7df08dd ]] {\r\n",
       "}\r\n",
       "comp def \"C\" as E4  <<(T,blue)part def>> [[psysml:6e0f0160-dcde-436d-afd9-a7845bbec9b5 ]] {\r\n",
       "}\r\n",
       "comp usage \"g\" as E5  <<(T,blue)part>> [[psysml:c2eaf658-adee-4a19-a83e-00cce7f1793f ]] {\r\n",
       "}\r\n",
       "E2 *- - E3 [[psysml:05544d0a-8d7e-4ac4-8a38-1321d7df08dd ]] \r\n",
       "E4 *- - E5 [[psysml:c2eaf658-adee-4a19-a83e-00cce7f1793f ]] \r\n",
       "}\r\n",
       "@enduml\r\n",
       "\n",
       "PlantUML version 1.2020.13(Sat Jun 13 12:26:38 UTC 2020)\n",
       "(EPL source distribution)\n",
       "Java Runtime: OpenJDK Runtime Environment\n",
       "JVM: OpenJDK 64-Bit Server VM\n",
       "Default Encoding: UTF-8\n",
       "Language: en\n",
       "Country: null\n",
       "--></g></svg>"
      ]
     },
     "execution_count": 24,
     "metadata": {},
     "output_type": "execute_result"
    }
   ],
   "source": [
    "%viz --style=\"STDCOLOR\" --view=\"Tree\" \"Q\""
   ]
  },
  {
   "cell_type": "code",
   "execution_count": 25,
   "id": "subsequent-kernel",
   "metadata": {
    "execution": {
     "iopub.execute_input": "2021-03-26T09:12:06.981404Z",
     "iopub.status.busy": "2021-03-26T09:12:06.980626Z",
     "iopub.status.idle": "2021-03-26T09:12:06.986496Z",
     "shell.execute_reply": "2021-03-26T09:12:06.986150Z"
    }
   },
   "outputs": [
    {
     "data": {
      "image/svg+xml": [
       "<?xml version=\"1.0\" encoding=\"UTF-8\" standalone=\"no\"?><svg xmlns=\"http://www.w3.org/2000/svg\" xmlns:xlink=\"http://www.w3.org/1999/xlink\" contentScriptType=\"application/ecmascript\" contentStyleType=\"text/css\" height=\"12px\" preserveAspectRatio=\"none\" style=\"width:12px;height:12px;\" version=\"1.1\" viewBox=\"0 0 12 12\" width=\"12px\" zoomAndPan=\"magnify\"><defs/><g><!--MD5=[aeeef50f102b80d730deb6443d14f702]\n",
       "@startuml\r\n",
       "skinparam wrapWidth 300\r\n",
       "hide circle\r\n",
       "\r\n",
       "@enduml\r\n",
       "\n",
       "PlantUML version 1.2020.13(Sat Jun 13 12:26:38 UTC 2020)\n",
       "(EPL source distribution)\n",
       "Java Runtime: OpenJDK Runtime Environment\n",
       "JVM: OpenJDK 64-Bit Server VM\n",
       "Default Encoding: UTF-8\n",
       "Language: en\n",
       "Country: null\n",
       "--></g></svg>"
      ]
     },
     "execution_count": 25,
     "metadata": {},
     "output_type": "execute_result"
    }
   ],
   "source": [
    "%viz --style=\"STDCOLOR\" --view=\"State\" \"Q\""
   ]
  },
  {
   "cell_type": "code",
   "execution_count": 26,
   "id": "guilty-identity",
   "metadata": {
    "execution": {
     "iopub.execute_input": "2021-03-26T09:12:07.039790Z",
     "iopub.status.busy": "2021-03-26T09:12:07.038878Z",
     "iopub.status.idle": "2021-03-26T09:12:07.074329Z",
     "shell.execute_reply": "2021-03-26T09:12:07.074040Z"
    }
   },
   "outputs": [
    {
     "data": {
      "image/svg+xml": [
       "<?xml version=\"1.0\" encoding=\"UTF-8\" standalone=\"no\"?><svg xmlns=\"http://www.w3.org/2000/svg\" xmlns:xlink=\"http://www.w3.org/1999/xlink\" contentScriptType=\"application/ecmascript\" contentStyleType=\"text/css\" height=\"192px\" preserveAspectRatio=\"none\" style=\"width:279px;height:192px;\" version=\"1.1\" viewBox=\"0 0 279 192\" width=\"279px\" zoomAndPan=\"magnify\"><defs><filter height=\"300%\" id=\"fqo2ty2obv5s9\" width=\"300%\" x=\"-1\" y=\"-1\"><feGaussianBlur result=\"blurOut\" stdDeviation=\"2.0\"/><feColorMatrix in=\"blurOut\" result=\"blurOut2\" type=\"matrix\" values=\"0 0 0 0 0 0 0 0 0 0 0 0 0 0 0 0 0 0 .4 0\"/><feOffset dx=\"4.0\" dy=\"4.0\" in=\"blurOut2\" result=\"blurOut3\"/><feBlend in=\"SourceGraphic\" in2=\"blurOut3\" mode=\"normal\"/></filter></defs><g><!--MD5=[fbc87193dbaf4d95561dea2c320d4a47]\n",
       "cluster E1--><a href=\"psysml:e7978fe0-b69e-4191-a6c6-ff9a405cd716\" target=\"_top\" title=\"psysml:e7978fe0-b69e-4191-a6c6-ff9a405cd716\" xlink:actuate=\"onRequest\" xlink:href=\"psysml:e7978fe0-b69e-4191-a6c6-ff9a405cd716\" xlink:show=\"new\" xlink:title=\"psysml:e7978fe0-b69e-4191-a6c6-ff9a405cd716\" xlink:type=\"simple\"><polygon fill=\"#FFFFFF\" filter=\"url(#fqo2ty2obv5s9)\" points=\"16,6,34,6,41,28.2969,257,28.2969,257,180,16,180,16,6\" style=\"stroke: #000000; stroke-width: 1.5;\"/><line style=\"stroke: #000000; stroke-width: 1.5;\" x1=\"16\" x2=\"41\" y1=\"28.2969\" y2=\"28.2969\"/><text fill=\"#000000\" font-family=\"sans-serif\" font-size=\"14\" font-weight=\"bold\" lengthAdjust=\"spacingAndGlyphs\" textLength=\"12\" x=\"20\" y=\"20.9951\">Q</text></a><!--MD5=[e4f7fae6ed58524ba242bb0b0d3be6b7]\n",
       "cluster E2--><a href=\"psysml:d69286fc-6be9-4686-bca9-82760e97d021\" target=\"_top\" title=\"psysml:d69286fc-6be9-4686-bca9-82760e97d021\" xlink:actuate=\"onRequest\" xlink:href=\"psysml:d69286fc-6be9-4686-bca9-82760e97d021\" xlink:show=\"new\" xlink:title=\"psysml:d69286fc-6be9-4686-bca9-82760e97d021\" xlink:type=\"simple\"><rect fill=\"#FFFFFF\" filter=\"url(#fqo2ty2obv5s9)\" height=\"91\" id=\"E2\" rx=\"10\" ry=\"10\" style=\"stroke: #A80036; stroke-width: 1.5;\" width=\"82\" x=\"151\" y=\"65\"/><rect fill=\"#FEFECE\" height=\"23.9688\" rx=\"10\" ry=\"10\" style=\"stroke: #FEFECE; stroke-width: 1.5;\" width=\"82\" x=\"151\" y=\"65\"/><rect fill=\"#FEFECE\" height=\"10\" style=\"stroke: #FEFECE; stroke-width: 1.5;\" width=\"82\" x=\"151\" y=\"78.9688\"/><rect fill=\"none\" height=\"91\" id=\"E2\" rx=\"10\" ry=\"10\" style=\"stroke: #A80036; stroke-width: 1.5;\" width=\"82\" x=\"151\" y=\"65\"/><text fill=\"#000000\" font-family=\"sans-serif\" font-size=\"12\" lengthAdjust=\"spacingAndGlyphs\" textLength=\"4\" x=\"190\" y=\"81.1387\">f</text><line style=\"stroke: #A80036; stroke-width: 1.0;\" x1=\"151\" x2=\"233\" y1=\"88.9688\" y2=\"88.9688\"/></a><!--MD5=[f6df4d0ebaf0b5dfb2ced0ae5af7c670]\n",
       "cluster E4--><a href=\"psysml:6e0f0160-dcde-436d-afd9-a7845bbec9b5\" target=\"_top\" title=\"psysml:6e0f0160-dcde-436d-afd9-a7845bbec9b5\" xlink:actuate=\"onRequest\" xlink:href=\"psysml:6e0f0160-dcde-436d-afd9-a7845bbec9b5\" xlink:show=\"new\" xlink:title=\"psysml:6e0f0160-dcde-436d-afd9-a7845bbec9b5\" xlink:type=\"simple\"><rect fill=\"#FFFFFF\" filter=\"url(#fqo2ty2obv5s9)\" height=\"107\" id=\"E4\" style=\"stroke: #A80036; stroke-width: 1.5;\" width=\"87\" x=\"40\" y=\"49\"/><rect fill=\"#FEFECE\" height=\"37.9375\" style=\"stroke: #A80036; stroke-width: 1.5;\" width=\"87\" x=\"40\" y=\"49\"/><text fill=\"#000000\" font-family=\"sans-serif\" font-size=\"12\" font-style=\"italic\" lengthAdjust=\"spacingAndGlyphs\" textLength=\"64\" x=\"51.5\" y=\"65.1387\">«part def»</text><text fill=\"#000000\" font-family=\"sans-serif\" font-size=\"12\" lengthAdjust=\"spacingAndGlyphs\" textLength=\"8\" x=\"79.5\" y=\"79.1074\">C</text></a><g id=\"E1.E2.E3\"><a href=\"psysml:05544d0a-8d7e-4ac4-8a38-1321d7df08dd\" target=\"_top\" title=\"psysml:05544d0a-8d7e-4ac4-8a38-1321d7df08dd\" xlink:actuate=\"onRequest\" xlink:href=\"psysml:05544d0a-8d7e-4ac4-8a38-1321d7df08dd\" xlink:show=\"new\" xlink:title=\"psysml:05544d0a-8d7e-4ac4-8a38-1321d7df08dd\" xlink:type=\"simple\"><rect fill=\"#FEFECE\" filter=\"url(#fqo2ty2obv5s9)\" height=\"40\" id=\"E3\" rx=\"10\" ry=\"10\" style=\"stroke: #A80036; stroke-width: 1.5;\" width=\"50\" x=\"167\" y=\"100\"/><text fill=\"#000000\" font-family=\"sans-serif\" font-size=\"12\" lengthAdjust=\"spacingAndGlyphs\" textLength=\"8\" x=\"188\" y=\"116.1387\">a</text></a></g><g id=\"E1.E4.E5\"><a href=\"psysml:c2eaf658-adee-4a19-a83e-00cce7f1793f\" target=\"_top\" title=\"psysml:c2eaf658-adee-4a19-a83e-00cce7f1793f\" xlink:actuate=\"onRequest\" xlink:href=\"psysml:c2eaf658-adee-4a19-a83e-00cce7f1793f\" xlink:show=\"new\" xlink:title=\"psysml:c2eaf658-adee-4a19-a83e-00cce7f1793f\" xlink:type=\"simple\"><rect fill=\"#FEFECE\" filter=\"url(#fqo2ty2obv5s9)\" height=\"40\" id=\"E5\" rx=\"10\" ry=\"10\" style=\"stroke: #A80036; stroke-width: 1.5;\" width=\"50\" x=\"58\" y=\"100\"/><text fill=\"#000000\" font-family=\"sans-serif\" font-size=\"12\" lengthAdjust=\"spacingAndGlyphs\" textLength=\"8\" x=\"79\" y=\"116.1387\">g</text></a></g><!--MD5=[8d182ed4103a7c9cd4537ba98846a0cb]\n",
       "@startuml\r\n",
       "skinparam ranksep 8\r\n",
       "skinparam rectangle {\r\n",
       " backgroundColor<<block>> LightGreen\r\n",
       "}\r\n",
       "skinparam wrapWidth 300\r\n",
       "hide circle\r\n",
       "\r\n",
       "package \"Q\" as E1  [[psysml:e7978fe0-b69e-4191-a6c6-ff9a405cd716 ]]  {\r\n",
       "rec usage \"f\" as E2  [[psysml:d69286fc-6be9-4686-bca9-82760e97d021 ]] {\r\n",
       "rec usage \"a\" as E3  [[psysml:05544d0a-8d7e-4ac4-8a38-1321d7df08dd ]] {\r\n",
       "}\r\n",
       "}\r\n",
       "rec def \"C\" as E4  <<(T,blue)part def>> [[psysml:6e0f0160-dcde-436d-afd9-a7845bbec9b5 ]] {\r\n",
       "rec usage \"g\" as E5  [[psysml:c2eaf658-adee-4a19-a83e-00cce7f1793f ]] {\r\n",
       "}\r\n",
       "}\r\n",
       "}\r\n",
       "@enduml\r\n",
       "\n",
       "PlantUML version 1.2020.13(Sat Jun 13 12:26:38 UTC 2020)\n",
       "(EPL source distribution)\n",
       "Java Runtime: OpenJDK Runtime Environment\n",
       "JVM: OpenJDK 64-Bit Server VM\n",
       "Default Encoding: UTF-8\n",
       "Language: en\n",
       "Country: null\n",
       "--></g></svg>"
      ]
     },
     "execution_count": 26,
     "metadata": {},
     "output_type": "execute_result"
    }
   ],
   "source": [
    "%viz --style=\"STDCOLOR\" --view=\"Interconnection\" \"Q\""
   ]
  },
  {
   "cell_type": "code",
   "execution_count": 27,
   "id": "micro-passion",
   "metadata": {
    "execution": {
     "iopub.execute_input": "2021-03-26T09:12:07.124271Z",
     "iopub.status.busy": "2021-03-26T09:12:07.123910Z",
     "iopub.status.idle": "2021-03-26T09:12:07.128437Z",
     "shell.execute_reply": "2021-03-26T09:12:07.128136Z"
    }
   },
   "outputs": [
    {
     "data": {
      "image/svg+xml": [
       "<?xml version=\"1.0\" encoding=\"UTF-8\" standalone=\"no\"?><svg xmlns=\"http://www.w3.org/2000/svg\" xmlns:xlink=\"http://www.w3.org/1999/xlink\" contentScriptType=\"application/ecmascript\" contentStyleType=\"text/css\" height=\"12px\" preserveAspectRatio=\"none\" style=\"width:12px;height:12px;\" version=\"1.1\" viewBox=\"0 0 12 12\" width=\"12px\" zoomAndPan=\"magnify\"><defs/><g><!--MD5=[9863325348a96a77dacc89509d8ee65e]\n",
       "@startuml\r\n",
       "skinparam ranksep 8\r\n",
       "skinparam wrapWidth 300\r\n",
       "hide circle\r\n",
       "\r\n",
       "@enduml\r\n",
       "\n",
       "PlantUML version 1.2020.13(Sat Jun 13 12:26:38 UTC 2020)\n",
       "(EPL source distribution)\n",
       "Java Runtime: OpenJDK Runtime Environment\n",
       "JVM: OpenJDK 64-Bit Server VM\n",
       "Default Encoding: UTF-8\n",
       "Language: en\n",
       "Country: null\n",
       "--></g></svg>"
      ]
     },
     "execution_count": 27,
     "metadata": {},
     "output_type": "execute_result"
    }
   ],
   "source": [
    "%viz --style=\"STDCOLOR\" --view=\"Action\" \"Q\""
   ]
  },
  {
   "cell_type": "code",
   "execution_count": 28,
   "id": "immediate-tower",
   "metadata": {
    "execution": {
     "iopub.execute_input": "2021-03-26T09:12:07.178824Z",
     "iopub.status.busy": "2021-03-26T09:12:07.178379Z",
     "iopub.status.idle": "2021-03-26T09:12:07.204946Z",
     "shell.execute_reply": "2021-03-26T09:12:07.203849Z"
    }
   },
   "outputs": [
    {
     "data": {
      "image/svg+xml": [
       "<?xml version=\"1.0\" encoding=\"UTF-8\" standalone=\"no\"?><svg xmlns=\"http://www.w3.org/2000/svg\" xmlns:xlink=\"http://www.w3.org/1999/xlink\" contentScriptType=\"application/ecmascript\" contentStyleType=\"text/css\" height=\"221px\" preserveAspectRatio=\"none\" style=\"width:213px;height:221px;\" version=\"1.1\" viewBox=\"0 0 213 221\" width=\"213px\" zoomAndPan=\"magnify\"><defs><filter height=\"300%\" id=\"f1r2l78pl3m5cb\" width=\"300%\" x=\"-1\" y=\"-1\"><feGaussianBlur result=\"blurOut\" stdDeviation=\"2.0\"/><feColorMatrix in=\"blurOut\" result=\"blurOut2\" type=\"matrix\" values=\"0 0 0 0 0 0 0 0 0 0 0 0 0 0 0 0 0 0 .4 0\"/><feOffset dx=\"4.0\" dy=\"4.0\" in=\"blurOut2\" result=\"blurOut3\"/><feBlend in=\"SourceGraphic\" in2=\"blurOut3\" mode=\"normal\"/></filter></defs><g><!--MD5=[fbc87193dbaf4d95561dea2c320d4a47]\n",
       "cluster E1--><a href=\"psysml:e7978fe0-b69e-4191-a6c6-ff9a405cd716\" target=\"_top\" title=\"psysml:e7978fe0-b69e-4191-a6c6-ff9a405cd716\" xlink:actuate=\"onRequest\" xlink:href=\"psysml:e7978fe0-b69e-4191-a6c6-ff9a405cd716\" xlink:show=\"new\" xlink:title=\"psysml:e7978fe0-b69e-4191-a6c6-ff9a405cd716\" xlink:type=\"simple\"><polygon fill=\"#FFFFFF\" filter=\"url(#f1r2l78pl3m5cb)\" points=\"16,6,34,6,41,28.2969,191,28.2969,191,209,16,209,16,6\" style=\"stroke: #000000; stroke-width: 1.5;\"/><line style=\"stroke: #000000; stroke-width: 1.5;\" x1=\"16\" x2=\"41\" y1=\"28.2969\" y2=\"28.2969\"/><text fill=\"#000000\" font-family=\"sans-serif\" font-size=\"14\" font-weight=\"bold\" lengthAdjust=\"spacingAndGlyphs\" textLength=\"12\" x=\"20\" y=\"20.9951\">Q</text></a><!--MD5=[b4997ac47864f28c2f74865a473b2911]\n",
       "class E2--><a href=\"psysml:d69286fc-6be9-4686-bca9-82760e97d021\" target=\"_top\" title=\"psysml:d69286fc-6be9-4686-bca9-82760e97d021\" xlink:actuate=\"onRequest\" xlink:href=\"psysml:d69286fc-6be9-4686-bca9-82760e97d021\" xlink:show=\"new\" xlink:title=\"psysml:d69286fc-6be9-4686-bca9-82760e97d021\" xlink:type=\"simple\"><rect fill=\"#FEFECE\" filter=\"url(#f1r2l78pl3m5cb)\" height=\"45.9375\" id=\"E2\" rx=\"10\" ry=\"10\" style=\"stroke: #A80036; stroke-width: 1.5;\" width=\"42\" x=\"133\" y=\"41\"/><text fill=\"#000000\" font-family=\"sans-serif\" font-size=\"12\" font-style=\"italic\" lengthAdjust=\"spacingAndGlyphs\" textLength=\"40\" x=\"134\" y=\"57.1387\">«part»</text><text fill=\"#000000\" font-family=\"sans-serif\" font-size=\"12\" lengthAdjust=\"spacingAndGlyphs\" textLength=\"4\" x=\"152\" y=\"71.1074\">f</text><line style=\"stroke: #A80036; stroke-width: 1.5;\" x1=\"134\" x2=\"174\" y1=\"78.9375\" y2=\"78.9375\"/></a><!--MD5=[09b614a08d8cba4a07c9adeb5e0fee81]\n",
       "class E3--><a href=\"psysml:05544d0a-8d7e-4ac4-8a38-1321d7df08dd\" target=\"_top\" title=\"psysml:05544d0a-8d7e-4ac4-8a38-1321d7df08dd\" xlink:actuate=\"onRequest\" xlink:href=\"psysml:05544d0a-8d7e-4ac4-8a38-1321d7df08dd\" xlink:show=\"new\" xlink:title=\"psysml:05544d0a-8d7e-4ac4-8a38-1321d7df08dd\" xlink:type=\"simple\"><rect fill=\"#FEFECE\" filter=\"url(#f1r2l78pl3m5cb)\" height=\"45.9375\" id=\"E3\" rx=\"10\" ry=\"10\" style=\"stroke: #A80036; stroke-width: 1.5;\" width=\"42\" x=\"133\" y=\"147\"/><text fill=\"#000000\" font-family=\"sans-serif\" font-size=\"12\" font-style=\"italic\" lengthAdjust=\"spacingAndGlyphs\" textLength=\"40\" x=\"134\" y=\"163.1387\">«part»</text><text fill=\"#000000\" font-family=\"sans-serif\" font-size=\"12\" lengthAdjust=\"spacingAndGlyphs\" textLength=\"8\" x=\"150\" y=\"177.1074\">a</text><line style=\"stroke: #A80036; stroke-width: 1.5;\" x1=\"134\" x2=\"174\" y1=\"184.9375\" y2=\"184.9375\"/></a><!--MD5=[ebbe1d658d1005bcc118a6aa81145e00]\n",
       "class E4--><a href=\"psysml:6e0f0160-dcde-436d-afd9-a7845bbec9b5\" target=\"_top\" title=\"psysml:6e0f0160-dcde-436d-afd9-a7845bbec9b5\" xlink:actuate=\"onRequest\" xlink:href=\"psysml:6e0f0160-dcde-436d-afd9-a7845bbec9b5\" xlink:show=\"new\" xlink:title=\"psysml:6e0f0160-dcde-436d-afd9-a7845bbec9b5\" xlink:type=\"simple\"><rect fill=\"#FEFECE\" filter=\"url(#f1r2l78pl3m5cb)\" height=\"45.9375\" id=\"E4\" style=\"stroke: #A80036; stroke-width: 1.5;\" width=\"66\" x=\"32\" y=\"41\"/><text fill=\"#000000\" font-family=\"sans-serif\" font-size=\"12\" font-style=\"italic\" lengthAdjust=\"spacingAndGlyphs\" textLength=\"64\" x=\"33\" y=\"57.1387\">«part def»</text><text fill=\"#000000\" font-family=\"sans-serif\" font-size=\"12\" lengthAdjust=\"spacingAndGlyphs\" textLength=\"8\" x=\"61\" y=\"71.1074\">C</text><line style=\"stroke: #A80036; stroke-width: 1.5;\" x1=\"33\" x2=\"97\" y1=\"78.9375\" y2=\"78.9375\"/></a><!--MD5=[270fce915f116d4de14055a7c1d9a0f3]\n",
       "class E5--><a href=\"psysml:c2eaf658-adee-4a19-a83e-00cce7f1793f\" target=\"_top\" title=\"psysml:c2eaf658-adee-4a19-a83e-00cce7f1793f\" xlink:actuate=\"onRequest\" xlink:href=\"psysml:c2eaf658-adee-4a19-a83e-00cce7f1793f\" xlink:show=\"new\" xlink:title=\"psysml:c2eaf658-adee-4a19-a83e-00cce7f1793f\" xlink:type=\"simple\"><rect fill=\"#FEFECE\" filter=\"url(#f1r2l78pl3m5cb)\" height=\"45.9375\" id=\"E5\" rx=\"10\" ry=\"10\" style=\"stroke: #A80036; stroke-width: 1.5;\" width=\"42\" x=\"44\" y=\"147\"/><text fill=\"#000000\" font-family=\"sans-serif\" font-size=\"12\" font-style=\"italic\" lengthAdjust=\"spacingAndGlyphs\" textLength=\"40\" x=\"45\" y=\"163.1387\">«part»</text><text fill=\"#000000\" font-family=\"sans-serif\" font-size=\"12\" lengthAdjust=\"spacingAndGlyphs\" textLength=\"8\" x=\"61\" y=\"177.1074\">g</text><line style=\"stroke: #A80036; stroke-width: 1.5;\" x1=\"45\" x2=\"85\" y1=\"184.9375\" y2=\"184.9375\"/></a><!--MD5=[209b3feb70ccb6233bfe1053d122c12c]\n",
       "reverse link E2 to E3--><a href=\"psysml:05544d0a-8d7e-4ac4-8a38-1321d7df08dd\" target=\"_top\" title=\"psysml:05544d0a-8d7e-4ac4-8a38-1321d7df08dd\" xlink:actuate=\"onRequest\" xlink:href=\"psysml:05544d0a-8d7e-4ac4-8a38-1321d7df08dd\" xlink:show=\"new\" xlink:title=\"psysml:05544d0a-8d7e-4ac4-8a38-1321d7df08dd\" xlink:type=\"simple\"><path d=\"M154,100.44 C154,115.87 154,133.47 154,146.98 \" fill=\"none\" id=\"E2&lt;-E3\" style=\"stroke: #A80036; stroke-width: 1.0;\"/><polygon fill=\"#A80036\" points=\"154,87.06,150,93.06,154,99.06,158,93.06,154,87.06\" style=\"stroke: #A80036; stroke-width: 1.0;\"/></a><!--MD5=[62aa6af11e70f752912c1cb0466f24f7]\n",
       "reverse link E4 to E5--><a href=\"psysml:c2eaf658-adee-4a19-a83e-00cce7f1793f\" target=\"_top\" title=\"psysml:c2eaf658-adee-4a19-a83e-00cce7f1793f\" xlink:actuate=\"onRequest\" xlink:href=\"psysml:c2eaf658-adee-4a19-a83e-00cce7f1793f\" xlink:show=\"new\" xlink:title=\"psysml:c2eaf658-adee-4a19-a83e-00cce7f1793f\" xlink:type=\"simple\"><path d=\"M65,100.44 C65,115.87 65,133.47 65,146.98 \" fill=\"none\" id=\"E4&lt;-E5\" style=\"stroke: #A80036; stroke-width: 1.0;\"/><polygon fill=\"#A80036\" points=\"65,87.06,61,93.06,65,99.06,69,93.06,65,87.06\" style=\"stroke: #A80036; stroke-width: 1.0;\"/></a><!--MD5=[ff0851849b38e7f4497dffa67f9c9fea]\n",
       "@startuml\r\n",
       "skinparam wrapWidth 300\r\n",
       "hide circle\r\n",
       "\r\n",
       "package \"Q\" as E1  [[psysml:e7978fe0-b69e-4191-a6c6-ff9a405cd716 ]]  {\r\n",
       "comp usage \"f\" as E2  <<(T,blue)part>> [[psysml:d69286fc-6be9-4686-bca9-82760e97d021 ]] {\r\n",
       "}\r\n",
       "comp usage \"a\" as E3  <<(T,blue)part>> [[psysml:05544d0a-8d7e-4ac4-8a38-1321d7df08dd ]] {\r\n",
       "}\r\n",
       "comp def \"C\" as E4  <<(T,blue)part def>> [[psysml:6e0f0160-dcde-436d-afd9-a7845bbec9b5 ]] {\r\n",
       "}\r\n",
       "comp usage \"g\" as E5  <<(T,blue)part>> [[psysml:c2eaf658-adee-4a19-a83e-00cce7f1793f ]] {\r\n",
       "}\r\n",
       "E2 *- - E3 [[psysml:05544d0a-8d7e-4ac4-8a38-1321d7df08dd ]] \r\n",
       "E4 *- - E5 [[psysml:c2eaf658-adee-4a19-a83e-00cce7f1793f ]] \r\n",
       "}\r\n",
       "@enduml\r\n",
       "\n",
       "PlantUML version 1.2020.13(Sat Jun 13 12:26:38 UTC 2020)\n",
       "(EPL source distribution)\n",
       "Java Runtime: OpenJDK Runtime Environment\n",
       "JVM: OpenJDK 64-Bit Server VM\n",
       "Default Encoding: UTF-8\n",
       "Language: en\n",
       "Country: null\n",
       "--></g></svg>"
      ]
     },
     "execution_count": 28,
     "metadata": {},
     "output_type": "execute_result"
    }
   ],
   "source": [
    "%viz --style=\"STDCOLOR\" --view=\"Sequence\" \"Q\""
   ]
  },
  {
   "cell_type": "code",
   "execution_count": 29,
   "id": "dietary-smooth",
   "metadata": {
    "execution": {
     "iopub.execute_input": "2021-03-26T09:12:07.256627Z",
     "iopub.status.busy": "2021-03-26T09:12:07.256233Z",
     "iopub.status.idle": "2021-03-26T09:12:07.280956Z",
     "shell.execute_reply": "2021-03-26T09:12:07.280632Z"
    }
   },
   "outputs": [
    {
     "data": {
      "image/svg+xml": [
       "<?xml version=\"1.0\" encoding=\"UTF-8\" standalone=\"no\"?><svg xmlns=\"http://www.w3.org/2000/svg\" xmlns:xlink=\"http://www.w3.org/1999/xlink\" contentScriptType=\"application/ecmascript\" contentStyleType=\"text/css\" height=\"221px\" preserveAspectRatio=\"none\" style=\"width:213px;height:221px;\" version=\"1.1\" viewBox=\"0 0 213 221\" width=\"213px\" zoomAndPan=\"magnify\"><defs><filter height=\"300%\" id=\"f1r2l78pl3m5cb\" width=\"300%\" x=\"-1\" y=\"-1\"><feGaussianBlur result=\"blurOut\" stdDeviation=\"2.0\"/><feColorMatrix in=\"blurOut\" result=\"blurOut2\" type=\"matrix\" values=\"0 0 0 0 0 0 0 0 0 0 0 0 0 0 0 0 0 0 .4 0\"/><feOffset dx=\"4.0\" dy=\"4.0\" in=\"blurOut2\" result=\"blurOut3\"/><feBlend in=\"SourceGraphic\" in2=\"blurOut3\" mode=\"normal\"/></filter></defs><g><!--MD5=[fbc87193dbaf4d95561dea2c320d4a47]\n",
       "cluster E1--><a href=\"psysml:e7978fe0-b69e-4191-a6c6-ff9a405cd716\" target=\"_top\" title=\"psysml:e7978fe0-b69e-4191-a6c6-ff9a405cd716\" xlink:actuate=\"onRequest\" xlink:href=\"psysml:e7978fe0-b69e-4191-a6c6-ff9a405cd716\" xlink:show=\"new\" xlink:title=\"psysml:e7978fe0-b69e-4191-a6c6-ff9a405cd716\" xlink:type=\"simple\"><polygon fill=\"#FFFFFF\" filter=\"url(#f1r2l78pl3m5cb)\" points=\"16,6,34,6,41,28.2969,191,28.2969,191,209,16,209,16,6\" style=\"stroke: #000000; stroke-width: 1.5;\"/><line style=\"stroke: #000000; stroke-width: 1.5;\" x1=\"16\" x2=\"41\" y1=\"28.2969\" y2=\"28.2969\"/><text fill=\"#000000\" font-family=\"sans-serif\" font-size=\"14\" font-weight=\"bold\" lengthAdjust=\"spacingAndGlyphs\" textLength=\"12\" x=\"20\" y=\"20.9951\">Q</text></a><!--MD5=[b4997ac47864f28c2f74865a473b2911]\n",
       "class E2--><a href=\"psysml:d69286fc-6be9-4686-bca9-82760e97d021\" target=\"_top\" title=\"psysml:d69286fc-6be9-4686-bca9-82760e97d021\" xlink:actuate=\"onRequest\" xlink:href=\"psysml:d69286fc-6be9-4686-bca9-82760e97d021\" xlink:show=\"new\" xlink:title=\"psysml:d69286fc-6be9-4686-bca9-82760e97d021\" xlink:type=\"simple\"><rect fill=\"#FEFECE\" filter=\"url(#f1r2l78pl3m5cb)\" height=\"45.9375\" id=\"E2\" rx=\"10\" ry=\"10\" style=\"stroke: #A80036; stroke-width: 1.5;\" width=\"42\" x=\"133\" y=\"41\"/><text fill=\"#000000\" font-family=\"sans-serif\" font-size=\"12\" font-style=\"italic\" lengthAdjust=\"spacingAndGlyphs\" textLength=\"40\" x=\"134\" y=\"57.1387\">«part»</text><text fill=\"#000000\" font-family=\"sans-serif\" font-size=\"12\" lengthAdjust=\"spacingAndGlyphs\" textLength=\"4\" x=\"152\" y=\"71.1074\">f</text><line style=\"stroke: #A80036; stroke-width: 1.5;\" x1=\"134\" x2=\"174\" y1=\"78.9375\" y2=\"78.9375\"/></a><!--MD5=[09b614a08d8cba4a07c9adeb5e0fee81]\n",
       "class E3--><a href=\"psysml:05544d0a-8d7e-4ac4-8a38-1321d7df08dd\" target=\"_top\" title=\"psysml:05544d0a-8d7e-4ac4-8a38-1321d7df08dd\" xlink:actuate=\"onRequest\" xlink:href=\"psysml:05544d0a-8d7e-4ac4-8a38-1321d7df08dd\" xlink:show=\"new\" xlink:title=\"psysml:05544d0a-8d7e-4ac4-8a38-1321d7df08dd\" xlink:type=\"simple\"><rect fill=\"#FEFECE\" filter=\"url(#f1r2l78pl3m5cb)\" height=\"45.9375\" id=\"E3\" rx=\"10\" ry=\"10\" style=\"stroke: #A80036; stroke-width: 1.5;\" width=\"42\" x=\"133\" y=\"147\"/><text fill=\"#000000\" font-family=\"sans-serif\" font-size=\"12\" font-style=\"italic\" lengthAdjust=\"spacingAndGlyphs\" textLength=\"40\" x=\"134\" y=\"163.1387\">«part»</text><text fill=\"#000000\" font-family=\"sans-serif\" font-size=\"12\" lengthAdjust=\"spacingAndGlyphs\" textLength=\"8\" x=\"150\" y=\"177.1074\">a</text><line style=\"stroke: #A80036; stroke-width: 1.5;\" x1=\"134\" x2=\"174\" y1=\"184.9375\" y2=\"184.9375\"/></a><!--MD5=[ebbe1d658d1005bcc118a6aa81145e00]\n",
       "class E4--><a href=\"psysml:6e0f0160-dcde-436d-afd9-a7845bbec9b5\" target=\"_top\" title=\"psysml:6e0f0160-dcde-436d-afd9-a7845bbec9b5\" xlink:actuate=\"onRequest\" xlink:href=\"psysml:6e0f0160-dcde-436d-afd9-a7845bbec9b5\" xlink:show=\"new\" xlink:title=\"psysml:6e0f0160-dcde-436d-afd9-a7845bbec9b5\" xlink:type=\"simple\"><rect fill=\"#FEFECE\" filter=\"url(#f1r2l78pl3m5cb)\" height=\"45.9375\" id=\"E4\" style=\"stroke: #A80036; stroke-width: 1.5;\" width=\"66\" x=\"32\" y=\"41\"/><text fill=\"#000000\" font-family=\"sans-serif\" font-size=\"12\" font-style=\"italic\" lengthAdjust=\"spacingAndGlyphs\" textLength=\"64\" x=\"33\" y=\"57.1387\">«part def»</text><text fill=\"#000000\" font-family=\"sans-serif\" font-size=\"12\" lengthAdjust=\"spacingAndGlyphs\" textLength=\"8\" x=\"61\" y=\"71.1074\">C</text><line style=\"stroke: #A80036; stroke-width: 1.5;\" x1=\"33\" x2=\"97\" y1=\"78.9375\" y2=\"78.9375\"/></a><!--MD5=[270fce915f116d4de14055a7c1d9a0f3]\n",
       "class E5--><a href=\"psysml:c2eaf658-adee-4a19-a83e-00cce7f1793f\" target=\"_top\" title=\"psysml:c2eaf658-adee-4a19-a83e-00cce7f1793f\" xlink:actuate=\"onRequest\" xlink:href=\"psysml:c2eaf658-adee-4a19-a83e-00cce7f1793f\" xlink:show=\"new\" xlink:title=\"psysml:c2eaf658-adee-4a19-a83e-00cce7f1793f\" xlink:type=\"simple\"><rect fill=\"#FEFECE\" filter=\"url(#f1r2l78pl3m5cb)\" height=\"45.9375\" id=\"E5\" rx=\"10\" ry=\"10\" style=\"stroke: #A80036; stroke-width: 1.5;\" width=\"42\" x=\"44\" y=\"147\"/><text fill=\"#000000\" font-family=\"sans-serif\" font-size=\"12\" font-style=\"italic\" lengthAdjust=\"spacingAndGlyphs\" textLength=\"40\" x=\"45\" y=\"163.1387\">«part»</text><text fill=\"#000000\" font-family=\"sans-serif\" font-size=\"12\" lengthAdjust=\"spacingAndGlyphs\" textLength=\"8\" x=\"61\" y=\"177.1074\">g</text><line style=\"stroke: #A80036; stroke-width: 1.5;\" x1=\"45\" x2=\"85\" y1=\"184.9375\" y2=\"184.9375\"/></a><!--MD5=[209b3feb70ccb6233bfe1053d122c12c]\n",
       "reverse link E2 to E3--><a href=\"psysml:05544d0a-8d7e-4ac4-8a38-1321d7df08dd\" target=\"_top\" title=\"psysml:05544d0a-8d7e-4ac4-8a38-1321d7df08dd\" xlink:actuate=\"onRequest\" xlink:href=\"psysml:05544d0a-8d7e-4ac4-8a38-1321d7df08dd\" xlink:show=\"new\" xlink:title=\"psysml:05544d0a-8d7e-4ac4-8a38-1321d7df08dd\" xlink:type=\"simple\"><path d=\"M154,100.44 C154,115.87 154,133.47 154,146.98 \" fill=\"none\" id=\"E2&lt;-E3\" style=\"stroke: #A80036; stroke-width: 1.0;\"/><polygon fill=\"#A80036\" points=\"154,87.06,150,93.06,154,99.06,158,93.06,154,87.06\" style=\"stroke: #A80036; stroke-width: 1.0;\"/></a><!--MD5=[62aa6af11e70f752912c1cb0466f24f7]\n",
       "reverse link E4 to E5--><a href=\"psysml:c2eaf658-adee-4a19-a83e-00cce7f1793f\" target=\"_top\" title=\"psysml:c2eaf658-adee-4a19-a83e-00cce7f1793f\" xlink:actuate=\"onRequest\" xlink:href=\"psysml:c2eaf658-adee-4a19-a83e-00cce7f1793f\" xlink:show=\"new\" xlink:title=\"psysml:c2eaf658-adee-4a19-a83e-00cce7f1793f\" xlink:type=\"simple\"><path d=\"M65,100.44 C65,115.87 65,133.47 65,146.98 \" fill=\"none\" id=\"E4&lt;-E5\" style=\"stroke: #A80036; stroke-width: 1.0;\"/><polygon fill=\"#A80036\" points=\"65,87.06,61,93.06,65,99.06,69,93.06,65,87.06\" style=\"stroke: #A80036; stroke-width: 1.0;\"/></a><!--MD5=[ff0851849b38e7f4497dffa67f9c9fea]\n",
       "@startuml\r\n",
       "skinparam wrapWidth 300\r\n",
       "hide circle\r\n",
       "\r\n",
       "package \"Q\" as E1  [[psysml:e7978fe0-b69e-4191-a6c6-ff9a405cd716 ]]  {\r\n",
       "comp usage \"f\" as E2  <<(T,blue)part>> [[psysml:d69286fc-6be9-4686-bca9-82760e97d021 ]] {\r\n",
       "}\r\n",
       "comp usage \"a\" as E3  <<(T,blue)part>> [[psysml:05544d0a-8d7e-4ac4-8a38-1321d7df08dd ]] {\r\n",
       "}\r\n",
       "comp def \"C\" as E4  <<(T,blue)part def>> [[psysml:6e0f0160-dcde-436d-afd9-a7845bbec9b5 ]] {\r\n",
       "}\r\n",
       "comp usage \"g\" as E5  <<(T,blue)part>> [[psysml:c2eaf658-adee-4a19-a83e-00cce7f1793f ]] {\r\n",
       "}\r\n",
       "E2 *- - E3 [[psysml:05544d0a-8d7e-4ac4-8a38-1321d7df08dd ]] \r\n",
       "E4 *- - E5 [[psysml:c2eaf658-adee-4a19-a83e-00cce7f1793f ]] \r\n",
       "}\r\n",
       "@enduml\r\n",
       "\n",
       "PlantUML version 1.2020.13(Sat Jun 13 12:26:38 UTC 2020)\n",
       "(EPL source distribution)\n",
       "Java Runtime: OpenJDK Runtime Environment\n",
       "JVM: OpenJDK 64-Bit Server VM\n",
       "Default Encoding: UTF-8\n",
       "Language: en\n",
       "Country: null\n",
       "--></g></svg>"
      ]
     },
     "execution_count": 29,
     "metadata": {},
     "output_type": "execute_result"
    }
   ],
   "source": [
    "%viz --style=\"STDCOLOR\" --view=\"MIXED\" \"Q\""
   ]
  },
  {
   "cell_type": "code",
   "execution_count": 30,
   "id": "unusual-numbers",
   "metadata": {
    "execution": {
     "iopub.execute_input": "2021-03-26T09:12:07.333535Z",
     "iopub.status.busy": "2021-03-26T09:12:07.333041Z",
     "iopub.status.idle": "2021-03-26T09:12:07.361389Z",
     "shell.execute_reply": "2021-03-26T09:12:07.361772Z"
    }
   },
   "outputs": [
    {
     "data": {
      "image/svg+xml": [
       "<?xml version=\"1.0\" encoding=\"UTF-8\" standalone=\"no\"?><svg xmlns=\"http://www.w3.org/2000/svg\" xmlns:xlink=\"http://www.w3.org/1999/xlink\" contentScriptType=\"application/ecmascript\" contentStyleType=\"text/css\" height=\"221px\" preserveAspectRatio=\"none\" style=\"width:241px;height:221px;\" version=\"1.1\" viewBox=\"0 0 241 221\" width=\"241px\" zoomAndPan=\"magnify\"><defs><filter height=\"300%\" id=\"f1j2w059aotdsf\" width=\"300%\" x=\"-1\" y=\"-1\"><feGaussianBlur result=\"blurOut\" stdDeviation=\"2.0\"/><feColorMatrix in=\"blurOut\" result=\"blurOut2\" type=\"matrix\" values=\"0 0 0 0 0 0 0 0 0 0 0 0 0 0 0 0 0 0 .4 0\"/><feOffset dx=\"4.0\" dy=\"4.0\" in=\"blurOut2\" result=\"blurOut3\"/><feBlend in=\"SourceGraphic\" in2=\"blurOut3\" mode=\"normal\"/></filter></defs><g><!--MD5=[fbc87193dbaf4d95561dea2c320d4a47]\n",
       "cluster E1--><a href=\"psysml:e7978fe0-b69e-4191-a6c6-ff9a405cd716\" target=\"_top\" title=\"psysml:e7978fe0-b69e-4191-a6c6-ff9a405cd716\" xlink:actuate=\"onRequest\" xlink:href=\"psysml:e7978fe0-b69e-4191-a6c6-ff9a405cd716\" xlink:show=\"new\" xlink:title=\"psysml:e7978fe0-b69e-4191-a6c6-ff9a405cd716\" xlink:type=\"simple\"><polygon fill=\"#FFFFFF\" filter=\"url(#f1j2w059aotdsf)\" points=\"16,6,34,6,41,28.2969,219,28.2969,219,209,16,209,16,6\" style=\"stroke: #000000; stroke-width: 1.5;\"/><line style=\"stroke: #000000; stroke-width: 1.5;\" x1=\"16\" x2=\"41\" y1=\"28.2969\" y2=\"28.2969\"/><text fill=\"#000000\" font-family=\"sans-serif\" font-size=\"14\" font-weight=\"bold\" lengthAdjust=\"spacingAndGlyphs\" textLength=\"12\" x=\"20\" y=\"20.9951\">Q</text></a><!--MD5=[b4997ac47864f28c2f74865a473b2911]\n",
       "class E2--><a href=\"psysml:d69286fc-6be9-4686-bca9-82760e97d021\" target=\"_top\" title=\"psysml:d69286fc-6be9-4686-bca9-82760e97d021\" xlink:actuate=\"onRequest\" xlink:href=\"psysml:d69286fc-6be9-4686-bca9-82760e97d021\" xlink:show=\"new\" xlink:title=\"psysml:d69286fc-6be9-4686-bca9-82760e97d021\" xlink:type=\"simple\"><rect fill=\"#FEFECE\" filter=\"url(#f1j2w059aotdsf)\" height=\"45.9375\" id=\"E2\" rx=\"10\" ry=\"10\" style=\"stroke: #A80036; stroke-width: 1.5;\" width=\"68\" x=\"135\" y=\"41\"/><ellipse cx=\"150\" cy=\"59.9688\" fill=\"#32CD32\" rx=\"11\" ry=\"11\" style=\"stroke: #A80036; stroke-width: 1.0;\"/><path d=\"M149.7969,55.6406 L149.7969,59.2656 L150.7969,59.2656 Q152,59.2656 152.4844,58.8594 Q152.9688,58.4531 152.9688,57.4531 Q152.9688,56.4531 152.4844,56.0469 Q152,55.6406 150.7969,55.6406 L149.7969,55.6406 Z M147.3438,53.5781 L150.7031,53.5781 Q153.2656,53.5781 154.3906,54.5 Q155.5156,55.4063 155.5156,57.4531 Q155.5156,59.5 154.3906,60.4219 Q153.2656,61.3281 150.7031,61.3281 L149.7969,61.3281 L149.7969,65.9688 L147.3438,65.9688 L147.3438,53.5781 Z \"/><text fill=\"#000000\" font-family=\"sans-serif\" font-size=\"12\" font-style=\"italic\" lengthAdjust=\"spacingAndGlyphs\" textLength=\"40\" x=\"162\" y=\"57.1387\">«part»</text><text fill=\"#000000\" font-family=\"sans-serif\" font-size=\"12\" lengthAdjust=\"spacingAndGlyphs\" textLength=\"4\" x=\"180\" y=\"71.1074\">f</text><line style=\"stroke: #A80036; stroke-width: 1.5;\" x1=\"136\" x2=\"202\" y1=\"78.9375\" y2=\"78.9375\"/></a><!--MD5=[09b614a08d8cba4a07c9adeb5e0fee81]\n",
       "class E3--><a href=\"psysml:05544d0a-8d7e-4ac4-8a38-1321d7df08dd\" target=\"_top\" title=\"psysml:05544d0a-8d7e-4ac4-8a38-1321d7df08dd\" xlink:actuate=\"onRequest\" xlink:href=\"psysml:05544d0a-8d7e-4ac4-8a38-1321d7df08dd\" xlink:show=\"new\" xlink:title=\"psysml:05544d0a-8d7e-4ac4-8a38-1321d7df08dd\" xlink:type=\"simple\"><rect fill=\"#FEFECE\" filter=\"url(#f1j2w059aotdsf)\" height=\"45.9375\" id=\"E3\" rx=\"10\" ry=\"10\" style=\"stroke: #A80036; stroke-width: 1.5;\" width=\"68\" x=\"135\" y=\"147\"/><ellipse cx=\"150\" cy=\"165.9688\" fill=\"#32CD32\" rx=\"11\" ry=\"11\" style=\"stroke: #A80036; stroke-width: 1.0;\"/><path d=\"M149.7969,161.6406 L149.7969,165.2656 L150.7969,165.2656 Q152,165.2656 152.4844,164.8594 Q152.9688,164.4531 152.9688,163.4531 Q152.9688,162.4531 152.4844,162.0469 Q152,161.6406 150.7969,161.6406 L149.7969,161.6406 Z M147.3438,159.5781 L150.7031,159.5781 Q153.2656,159.5781 154.3906,160.5 Q155.5156,161.4063 155.5156,163.4531 Q155.5156,165.5 154.3906,166.4219 Q153.2656,167.3281 150.7031,167.3281 L149.7969,167.3281 L149.7969,171.9688 L147.3438,171.9688 L147.3438,159.5781 Z \"/><text fill=\"#000000\" font-family=\"sans-serif\" font-size=\"12\" font-style=\"italic\" lengthAdjust=\"spacingAndGlyphs\" textLength=\"40\" x=\"162\" y=\"163.1387\">«part»</text><text fill=\"#000000\" font-family=\"sans-serif\" font-size=\"12\" lengthAdjust=\"spacingAndGlyphs\" textLength=\"8\" x=\"178\" y=\"177.1074\">a</text><line style=\"stroke: #A80036; stroke-width: 1.5;\" x1=\"136\" x2=\"202\" y1=\"184.9375\" y2=\"184.9375\"/></a><!--MD5=[ebbe1d658d1005bcc118a6aa81145e00]\n",
       "class E4--><a href=\"psysml:6e0f0160-dcde-436d-afd9-a7845bbec9b5\" target=\"_top\" title=\"psysml:6e0f0160-dcde-436d-afd9-a7845bbec9b5\" xlink:actuate=\"onRequest\" xlink:href=\"psysml:6e0f0160-dcde-436d-afd9-a7845bbec9b5\" xlink:show=\"new\" xlink:title=\"psysml:6e0f0160-dcde-436d-afd9-a7845bbec9b5\" xlink:type=\"simple\"><rect fill=\"#FEFECE\" filter=\"url(#f1j2w059aotdsf)\" height=\"40\" id=\"E4\" style=\"stroke: #A80036; stroke-width: 1.5;\" width=\"40\" x=\"46\" y=\"44\"/><ellipse cx=\"61\" cy=\"60\" fill=\"#008000\" rx=\"11\" ry=\"11\" style=\"stroke: #A80036; stroke-width: 1.0;\"/><path d=\"M59.9063,60.375 L59.9063,64.0469 L61.5313,64.0469 Q62.7031,64.0469 63.1719,63.6563 Q63.6406,63.25 63.6406,62.25 Q63.6406,61.25 63.1406,60.8125 Q62.6563,60.375 61.5313,60.375 L59.9063,60.375 Z M59.9063,55.5469 L59.9063,58.4219 L61.5313,58.4219 Q62.4531,58.4219 62.8438,58.0938 Q63.25,57.75 63.25,57 Q63.25,56.2344 62.8438,55.8906 Q62.4375,55.5469 61.5313,55.5469 L59.9063,55.5469 Z M57.5313,53.5938 L61.5313,53.5938 Q63.5938,53.5938 64.6406,54.375 Q65.6875,55.1563 65.6875,56.7188 Q65.6875,57.9219 65.0625,58.5938 Q64.4531,59.2656 63.2656,59.375 Q64.6875,59.5156 65.4063,60.3281 Q66.125,61.1406 66.125,62.5938 Q66.125,64.3906 65.0469,65.2031 Q63.9688,66 61.5313,66 L57.5313,66 L57.5313,53.5938 Z \"/><text fill=\"#000000\" font-family=\"sans-serif\" font-size=\"12\" lengthAdjust=\"spacingAndGlyphs\" textLength=\"8\" x=\"75\" y=\"64.1543\">C</text><line style=\"stroke: #A80036; stroke-width: 1.5;\" x1=\"47\" x2=\"85\" y1=\"76\" y2=\"76\"/></a><!--MD5=[270fce915f116d4de14055a7c1d9a0f3]\n",
       "class E5--><a href=\"psysml:c2eaf658-adee-4a19-a83e-00cce7f1793f\" target=\"_top\" title=\"psysml:c2eaf658-adee-4a19-a83e-00cce7f1793f\" xlink:actuate=\"onRequest\" xlink:href=\"psysml:c2eaf658-adee-4a19-a83e-00cce7f1793f\" xlink:show=\"new\" xlink:title=\"psysml:c2eaf658-adee-4a19-a83e-00cce7f1793f\" xlink:type=\"simple\"><rect fill=\"#FEFECE\" filter=\"url(#f1j2w059aotdsf)\" height=\"45.9375\" id=\"E5\" rx=\"10\" ry=\"10\" style=\"stroke: #A80036; stroke-width: 1.5;\" width=\"68\" x=\"32\" y=\"147\"/><ellipse cx=\"47\" cy=\"165.9688\" fill=\"#32CD32\" rx=\"11\" ry=\"11\" style=\"stroke: #A80036; stroke-width: 1.0;\"/><path d=\"M46.7969,161.6406 L46.7969,165.2656 L47.7969,165.2656 Q49,165.2656 49.4844,164.8594 Q49.9688,164.4531 49.9688,163.4531 Q49.9688,162.4531 49.4844,162.0469 Q49,161.6406 47.7969,161.6406 L46.7969,161.6406 Z M44.3438,159.5781 L47.7031,159.5781 Q50.2656,159.5781 51.3906,160.5 Q52.5156,161.4063 52.5156,163.4531 Q52.5156,165.5 51.3906,166.4219 Q50.2656,167.3281 47.7031,167.3281 L46.7969,167.3281 L46.7969,171.9688 L44.3438,171.9688 L44.3438,159.5781 Z \"/><text fill=\"#000000\" font-family=\"sans-serif\" font-size=\"12\" font-style=\"italic\" lengthAdjust=\"spacingAndGlyphs\" textLength=\"40\" x=\"59\" y=\"163.1387\">«part»</text><text fill=\"#000000\" font-family=\"sans-serif\" font-size=\"12\" lengthAdjust=\"spacingAndGlyphs\" textLength=\"8\" x=\"75\" y=\"177.1074\">g</text><line style=\"stroke: #A80036; stroke-width: 1.5;\" x1=\"33\" x2=\"99\" y1=\"184.9375\" y2=\"184.9375\"/></a><!--MD5=[209b3feb70ccb6233bfe1053d122c12c]\n",
       "reverse link E2 to E3--><a href=\"psysml:05544d0a-8d7e-4ac4-8a38-1321d7df08dd\" target=\"_top\" title=\"psysml:05544d0a-8d7e-4ac4-8a38-1321d7df08dd\" xlink:actuate=\"onRequest\" xlink:href=\"psysml:05544d0a-8d7e-4ac4-8a38-1321d7df08dd\" xlink:show=\"new\" xlink:title=\"psysml:05544d0a-8d7e-4ac4-8a38-1321d7df08dd\" xlink:type=\"simple\"><path d=\"M169,100.44 C169,115.87 169,133.47 169,146.98 \" fill=\"none\" id=\"E2&lt;-E3\" style=\"stroke: #A80036; stroke-width: 1.0;\"/><polygon fill=\"#A80036\" points=\"169,87.06,165,93.06,169,99.06,173,93.06,169,87.06\" style=\"stroke: #A80036; stroke-width: 1.0;\"/></a><!--MD5=[62aa6af11e70f752912c1cb0466f24f7]\n",
       "reverse link E4 to E5--><a href=\"psysml:c2eaf658-adee-4a19-a83e-00cce7f1793f\" target=\"_top\" title=\"psysml:c2eaf658-adee-4a19-a83e-00cce7f1793f\" xlink:actuate=\"onRequest\" xlink:href=\"psysml:c2eaf658-adee-4a19-a83e-00cce7f1793f\" xlink:show=\"new\" xlink:title=\"psysml:c2eaf658-adee-4a19-a83e-00cce7f1793f\" xlink:type=\"simple\"><path d=\"M66,97.25 C66,113.33 66,132.37 66,146.8 \" fill=\"none\" id=\"E4&lt;-E5\" style=\"stroke: #A80036; stroke-width: 1.0;\"/><polygon fill=\"#A80036\" points=\"66,84.08,62,90.08,66,96.08,70,90.08,66,84.08\" style=\"stroke: #A80036; stroke-width: 1.0;\"/></a><!--MD5=[ae151ab2e96a4f05867705507dab3a84]\n",
       "@startuml\r\n",
       " \r\n",
       "package \"Q\" as E1  [[psysml:e7978fe0-b69e-4191-a6c6-ff9a405cd716 ]]  {\r\n",
       "comp usage \"f\" as E2  << (P,limegreen) part>> [[psysml:d69286fc-6be9-4686-bca9-82760e97d021 ]] {\r\n",
       "}\r\n",
       "comp usage \"a\" as E3  << (P,limegreen) part>> [[psysml:05544d0a-8d7e-4ac4-8a38-1321d7df08dd ]] {\r\n",
       "}\r\n",
       "comp def \"C\" as E4  << (B,green) >> [[psysml:6e0f0160-dcde-436d-afd9-a7845bbec9b5 ]] {\r\n",
       "}\r\n",
       "comp usage \"g\" as E5  << (P,limegreen) part>> [[psysml:c2eaf658-adee-4a19-a83e-00cce7f1793f ]] {\r\n",
       "}\r\n",
       "E2 *- - E3 [[psysml:05544d0a-8d7e-4ac4-8a38-1321d7df08dd ]] \r\n",
       "E4 *- - E5 [[psysml:c2eaf658-adee-4a19-a83e-00cce7f1793f ]] \r\n",
       "}\r\n",
       "@enduml\r\n",
       "\n",
       "PlantUML version 1.2020.13(Sat Jun 13 12:26:38 UTC 2020)\n",
       "(EPL source distribution)\n",
       "Java Runtime: OpenJDK Runtime Environment\n",
       "JVM: OpenJDK 64-Bit Server VM\n",
       "Default Encoding: UTF-8\n",
       "Language: en\n",
       "Country: null\n",
       "--></g></svg>"
      ]
     },
     "execution_count": 30,
     "metadata": {},
     "output_type": "execute_result"
    }
   ],
   "source": [
    "%viz --style=\"PLANTUML\" --view=\"Default\" \"Q\""
   ]
  },
  {
   "cell_type": "code",
   "execution_count": 31,
   "id": "chief-flight",
   "metadata": {
    "execution": {
     "iopub.execute_input": "2021-03-26T09:12:07.413177Z",
     "iopub.status.busy": "2021-03-26T09:12:07.412480Z",
     "iopub.status.idle": "2021-03-26T09:12:07.439177Z",
     "shell.execute_reply": "2021-03-26T09:12:07.438015Z"
    }
   },
   "outputs": [
    {
     "data": {
      "image/svg+xml": [
       "<?xml version=\"1.0\" encoding=\"UTF-8\" standalone=\"no\"?><svg xmlns=\"http://www.w3.org/2000/svg\" xmlns:xlink=\"http://www.w3.org/1999/xlink\" contentScriptType=\"application/ecmascript\" contentStyleType=\"text/css\" height=\"221px\" preserveAspectRatio=\"none\" style=\"width:241px;height:221px;\" version=\"1.1\" viewBox=\"0 0 241 221\" width=\"241px\" zoomAndPan=\"magnify\"><defs><filter height=\"300%\" id=\"f1j2w059aotdsf\" width=\"300%\" x=\"-1\" y=\"-1\"><feGaussianBlur result=\"blurOut\" stdDeviation=\"2.0\"/><feColorMatrix in=\"blurOut\" result=\"blurOut2\" type=\"matrix\" values=\"0 0 0 0 0 0 0 0 0 0 0 0 0 0 0 0 0 0 .4 0\"/><feOffset dx=\"4.0\" dy=\"4.0\" in=\"blurOut2\" result=\"blurOut3\"/><feBlend in=\"SourceGraphic\" in2=\"blurOut3\" mode=\"normal\"/></filter></defs><g><!--MD5=[fbc87193dbaf4d95561dea2c320d4a47]\n",
       "cluster E1--><a href=\"psysml:e7978fe0-b69e-4191-a6c6-ff9a405cd716\" target=\"_top\" title=\"psysml:e7978fe0-b69e-4191-a6c6-ff9a405cd716\" xlink:actuate=\"onRequest\" xlink:href=\"psysml:e7978fe0-b69e-4191-a6c6-ff9a405cd716\" xlink:show=\"new\" xlink:title=\"psysml:e7978fe0-b69e-4191-a6c6-ff9a405cd716\" xlink:type=\"simple\"><polygon fill=\"#FFFFFF\" filter=\"url(#f1j2w059aotdsf)\" points=\"16,6,34,6,41,28.2969,219,28.2969,219,209,16,209,16,6\" style=\"stroke: #000000; stroke-width: 1.5;\"/><line style=\"stroke: #000000; stroke-width: 1.5;\" x1=\"16\" x2=\"41\" y1=\"28.2969\" y2=\"28.2969\"/><text fill=\"#000000\" font-family=\"sans-serif\" font-size=\"14\" font-weight=\"bold\" lengthAdjust=\"spacingAndGlyphs\" textLength=\"12\" x=\"20\" y=\"20.9951\">Q</text></a><!--MD5=[b4997ac47864f28c2f74865a473b2911]\n",
       "class E2--><a href=\"psysml:d69286fc-6be9-4686-bca9-82760e97d021\" target=\"_top\" title=\"psysml:d69286fc-6be9-4686-bca9-82760e97d021\" xlink:actuate=\"onRequest\" xlink:href=\"psysml:d69286fc-6be9-4686-bca9-82760e97d021\" xlink:show=\"new\" xlink:title=\"psysml:d69286fc-6be9-4686-bca9-82760e97d021\" xlink:type=\"simple\"><rect fill=\"#FEFECE\" filter=\"url(#f1j2w059aotdsf)\" height=\"45.9375\" id=\"E2\" rx=\"10\" ry=\"10\" style=\"stroke: #A80036; stroke-width: 1.5;\" width=\"68\" x=\"135\" y=\"41\"/><ellipse cx=\"150\" cy=\"59.9688\" fill=\"#32CD32\" rx=\"11\" ry=\"11\" style=\"stroke: #A80036; stroke-width: 1.0;\"/><path d=\"M149.7969,55.6406 L149.7969,59.2656 L150.7969,59.2656 Q152,59.2656 152.4844,58.8594 Q152.9688,58.4531 152.9688,57.4531 Q152.9688,56.4531 152.4844,56.0469 Q152,55.6406 150.7969,55.6406 L149.7969,55.6406 Z M147.3438,53.5781 L150.7031,53.5781 Q153.2656,53.5781 154.3906,54.5 Q155.5156,55.4063 155.5156,57.4531 Q155.5156,59.5 154.3906,60.4219 Q153.2656,61.3281 150.7031,61.3281 L149.7969,61.3281 L149.7969,65.9688 L147.3438,65.9688 L147.3438,53.5781 Z \"/><text fill=\"#000000\" font-family=\"sans-serif\" font-size=\"12\" font-style=\"italic\" lengthAdjust=\"spacingAndGlyphs\" textLength=\"40\" x=\"162\" y=\"57.1387\">«part»</text><text fill=\"#000000\" font-family=\"sans-serif\" font-size=\"12\" lengthAdjust=\"spacingAndGlyphs\" textLength=\"4\" x=\"180\" y=\"71.1074\">f</text><line style=\"stroke: #A80036; stroke-width: 1.5;\" x1=\"136\" x2=\"202\" y1=\"78.9375\" y2=\"78.9375\"/></a><!--MD5=[09b614a08d8cba4a07c9adeb5e0fee81]\n",
       "class E3--><a href=\"psysml:05544d0a-8d7e-4ac4-8a38-1321d7df08dd\" target=\"_top\" title=\"psysml:05544d0a-8d7e-4ac4-8a38-1321d7df08dd\" xlink:actuate=\"onRequest\" xlink:href=\"psysml:05544d0a-8d7e-4ac4-8a38-1321d7df08dd\" xlink:show=\"new\" xlink:title=\"psysml:05544d0a-8d7e-4ac4-8a38-1321d7df08dd\" xlink:type=\"simple\"><rect fill=\"#FEFECE\" filter=\"url(#f1j2w059aotdsf)\" height=\"45.9375\" id=\"E3\" rx=\"10\" ry=\"10\" style=\"stroke: #A80036; stroke-width: 1.5;\" width=\"68\" x=\"135\" y=\"147\"/><ellipse cx=\"150\" cy=\"165.9688\" fill=\"#32CD32\" rx=\"11\" ry=\"11\" style=\"stroke: #A80036; stroke-width: 1.0;\"/><path d=\"M149.7969,161.6406 L149.7969,165.2656 L150.7969,165.2656 Q152,165.2656 152.4844,164.8594 Q152.9688,164.4531 152.9688,163.4531 Q152.9688,162.4531 152.4844,162.0469 Q152,161.6406 150.7969,161.6406 L149.7969,161.6406 Z M147.3438,159.5781 L150.7031,159.5781 Q153.2656,159.5781 154.3906,160.5 Q155.5156,161.4063 155.5156,163.4531 Q155.5156,165.5 154.3906,166.4219 Q153.2656,167.3281 150.7031,167.3281 L149.7969,167.3281 L149.7969,171.9688 L147.3438,171.9688 L147.3438,159.5781 Z \"/><text fill=\"#000000\" font-family=\"sans-serif\" font-size=\"12\" font-style=\"italic\" lengthAdjust=\"spacingAndGlyphs\" textLength=\"40\" x=\"162\" y=\"163.1387\">«part»</text><text fill=\"#000000\" font-family=\"sans-serif\" font-size=\"12\" lengthAdjust=\"spacingAndGlyphs\" textLength=\"8\" x=\"178\" y=\"177.1074\">a</text><line style=\"stroke: #A80036; stroke-width: 1.5;\" x1=\"136\" x2=\"202\" y1=\"184.9375\" y2=\"184.9375\"/></a><!--MD5=[ebbe1d658d1005bcc118a6aa81145e00]\n",
       "class E4--><a href=\"psysml:6e0f0160-dcde-436d-afd9-a7845bbec9b5\" target=\"_top\" title=\"psysml:6e0f0160-dcde-436d-afd9-a7845bbec9b5\" xlink:actuate=\"onRequest\" xlink:href=\"psysml:6e0f0160-dcde-436d-afd9-a7845bbec9b5\" xlink:show=\"new\" xlink:title=\"psysml:6e0f0160-dcde-436d-afd9-a7845bbec9b5\" xlink:type=\"simple\"><rect fill=\"#FEFECE\" filter=\"url(#f1j2w059aotdsf)\" height=\"40\" id=\"E4\" style=\"stroke: #A80036; stroke-width: 1.5;\" width=\"40\" x=\"46\" y=\"44\"/><ellipse cx=\"61\" cy=\"60\" fill=\"#008000\" rx=\"11\" ry=\"11\" style=\"stroke: #A80036; stroke-width: 1.0;\"/><path d=\"M59.9063,60.375 L59.9063,64.0469 L61.5313,64.0469 Q62.7031,64.0469 63.1719,63.6563 Q63.6406,63.25 63.6406,62.25 Q63.6406,61.25 63.1406,60.8125 Q62.6563,60.375 61.5313,60.375 L59.9063,60.375 Z M59.9063,55.5469 L59.9063,58.4219 L61.5313,58.4219 Q62.4531,58.4219 62.8438,58.0938 Q63.25,57.75 63.25,57 Q63.25,56.2344 62.8438,55.8906 Q62.4375,55.5469 61.5313,55.5469 L59.9063,55.5469 Z M57.5313,53.5938 L61.5313,53.5938 Q63.5938,53.5938 64.6406,54.375 Q65.6875,55.1563 65.6875,56.7188 Q65.6875,57.9219 65.0625,58.5938 Q64.4531,59.2656 63.2656,59.375 Q64.6875,59.5156 65.4063,60.3281 Q66.125,61.1406 66.125,62.5938 Q66.125,64.3906 65.0469,65.2031 Q63.9688,66 61.5313,66 L57.5313,66 L57.5313,53.5938 Z \"/><text fill=\"#000000\" font-family=\"sans-serif\" font-size=\"12\" lengthAdjust=\"spacingAndGlyphs\" textLength=\"8\" x=\"75\" y=\"64.1543\">C</text><line style=\"stroke: #A80036; stroke-width: 1.5;\" x1=\"47\" x2=\"85\" y1=\"76\" y2=\"76\"/></a><!--MD5=[270fce915f116d4de14055a7c1d9a0f3]\n",
       "class E5--><a href=\"psysml:c2eaf658-adee-4a19-a83e-00cce7f1793f\" target=\"_top\" title=\"psysml:c2eaf658-adee-4a19-a83e-00cce7f1793f\" xlink:actuate=\"onRequest\" xlink:href=\"psysml:c2eaf658-adee-4a19-a83e-00cce7f1793f\" xlink:show=\"new\" xlink:title=\"psysml:c2eaf658-adee-4a19-a83e-00cce7f1793f\" xlink:type=\"simple\"><rect fill=\"#FEFECE\" filter=\"url(#f1j2w059aotdsf)\" height=\"45.9375\" id=\"E5\" rx=\"10\" ry=\"10\" style=\"stroke: #A80036; stroke-width: 1.5;\" width=\"68\" x=\"32\" y=\"147\"/><ellipse cx=\"47\" cy=\"165.9688\" fill=\"#32CD32\" rx=\"11\" ry=\"11\" style=\"stroke: #A80036; stroke-width: 1.0;\"/><path d=\"M46.7969,161.6406 L46.7969,165.2656 L47.7969,165.2656 Q49,165.2656 49.4844,164.8594 Q49.9688,164.4531 49.9688,163.4531 Q49.9688,162.4531 49.4844,162.0469 Q49,161.6406 47.7969,161.6406 L46.7969,161.6406 Z M44.3438,159.5781 L47.7031,159.5781 Q50.2656,159.5781 51.3906,160.5 Q52.5156,161.4063 52.5156,163.4531 Q52.5156,165.5 51.3906,166.4219 Q50.2656,167.3281 47.7031,167.3281 L46.7969,167.3281 L46.7969,171.9688 L44.3438,171.9688 L44.3438,159.5781 Z \"/><text fill=\"#000000\" font-family=\"sans-serif\" font-size=\"12\" font-style=\"italic\" lengthAdjust=\"spacingAndGlyphs\" textLength=\"40\" x=\"59\" y=\"163.1387\">«part»</text><text fill=\"#000000\" font-family=\"sans-serif\" font-size=\"12\" lengthAdjust=\"spacingAndGlyphs\" textLength=\"8\" x=\"75\" y=\"177.1074\">g</text><line style=\"stroke: #A80036; stroke-width: 1.5;\" x1=\"33\" x2=\"99\" y1=\"184.9375\" y2=\"184.9375\"/></a><!--MD5=[209b3feb70ccb6233bfe1053d122c12c]\n",
       "reverse link E2 to E3--><a href=\"psysml:05544d0a-8d7e-4ac4-8a38-1321d7df08dd\" target=\"_top\" title=\"psysml:05544d0a-8d7e-4ac4-8a38-1321d7df08dd\" xlink:actuate=\"onRequest\" xlink:href=\"psysml:05544d0a-8d7e-4ac4-8a38-1321d7df08dd\" xlink:show=\"new\" xlink:title=\"psysml:05544d0a-8d7e-4ac4-8a38-1321d7df08dd\" xlink:type=\"simple\"><path d=\"M169,100.44 C169,115.87 169,133.47 169,146.98 \" fill=\"none\" id=\"E2&lt;-E3\" style=\"stroke: #A80036; stroke-width: 1.0;\"/><polygon fill=\"#A80036\" points=\"169,87.06,165,93.06,169,99.06,173,93.06,169,87.06\" style=\"stroke: #A80036; stroke-width: 1.0;\"/></a><!--MD5=[62aa6af11e70f752912c1cb0466f24f7]\n",
       "reverse link E4 to E5--><a href=\"psysml:c2eaf658-adee-4a19-a83e-00cce7f1793f\" target=\"_top\" title=\"psysml:c2eaf658-adee-4a19-a83e-00cce7f1793f\" xlink:actuate=\"onRequest\" xlink:href=\"psysml:c2eaf658-adee-4a19-a83e-00cce7f1793f\" xlink:show=\"new\" xlink:title=\"psysml:c2eaf658-adee-4a19-a83e-00cce7f1793f\" xlink:type=\"simple\"><path d=\"M66,97.25 C66,113.33 66,132.37 66,146.8 \" fill=\"none\" id=\"E4&lt;-E5\" style=\"stroke: #A80036; stroke-width: 1.0;\"/><polygon fill=\"#A80036\" points=\"66,84.08,62,90.08,66,96.08,70,90.08,66,84.08\" style=\"stroke: #A80036; stroke-width: 1.0;\"/></a><!--MD5=[ae151ab2e96a4f05867705507dab3a84]\n",
       "@startuml\r\n",
       " \r\n",
       "package \"Q\" as E1  [[psysml:e7978fe0-b69e-4191-a6c6-ff9a405cd716 ]]  {\r\n",
       "comp usage \"f\" as E2  << (P,limegreen) part>> [[psysml:d69286fc-6be9-4686-bca9-82760e97d021 ]] {\r\n",
       "}\r\n",
       "comp usage \"a\" as E3  << (P,limegreen) part>> [[psysml:05544d0a-8d7e-4ac4-8a38-1321d7df08dd ]] {\r\n",
       "}\r\n",
       "comp def \"C\" as E4  << (B,green) >> [[psysml:6e0f0160-dcde-436d-afd9-a7845bbec9b5 ]] {\r\n",
       "}\r\n",
       "comp usage \"g\" as E5  << (P,limegreen) part>> [[psysml:c2eaf658-adee-4a19-a83e-00cce7f1793f ]] {\r\n",
       "}\r\n",
       "E2 *- - E3 [[psysml:05544d0a-8d7e-4ac4-8a38-1321d7df08dd ]] \r\n",
       "E4 *- - E5 [[psysml:c2eaf658-adee-4a19-a83e-00cce7f1793f ]] \r\n",
       "}\r\n",
       "@enduml\r\n",
       "\n",
       "PlantUML version 1.2020.13(Sat Jun 13 12:26:38 UTC 2020)\n",
       "(EPL source distribution)\n",
       "Java Runtime: OpenJDK Runtime Environment\n",
       "JVM: OpenJDK 64-Bit Server VM\n",
       "Default Encoding: UTF-8\n",
       "Language: en\n",
       "Country: null\n",
       "--></g></svg>"
      ]
     },
     "execution_count": 31,
     "metadata": {},
     "output_type": "execute_result"
    }
   ],
   "source": [
    "%viz --style=\"PLANTUML\" --view=\"Tree\" \"Q\""
   ]
  },
  {
   "cell_type": "code",
   "execution_count": 32,
   "id": "european-subdivision",
   "metadata": {
    "execution": {
     "iopub.execute_input": "2021-03-26T09:12:07.489945Z",
     "iopub.status.busy": "2021-03-26T09:12:07.489530Z",
     "iopub.status.idle": "2021-03-26T09:12:07.536039Z",
     "shell.execute_reply": "2021-03-26T09:12:07.536471Z"
    }
   },
   "outputs": [
    {
     "data": {
      "image/svg+xml": [
       "<?xml version=\"1.0\" encoding=\"UTF-8\" standalone=\"no\"?><svg xmlns=\"http://www.w3.org/2000/svg\" xmlns:xlink=\"http://www.w3.org/1999/xlink\" contentScriptType=\"application/ecmascript\" contentStyleType=\"text/css\" height=\"303px\" preserveAspectRatio=\"none\" style=\"width:603px;height:303px;background:#000000;\" version=\"1.1\" viewBox=\"0 0 603 303\" width=\"603px\" zoomAndPan=\"magnify\"><defs/><g><rect fill=\"#012014\" height=\"1\" style=\"stroke: #012014; stroke-width: 1.0;\" width=\"1\" x=\"0\" y=\"0\"/><rect fill=\"#FFFFFF\" height=\"205.5625\" style=\"stroke: #FFFFFF; stroke-width: 1.0;\" width=\"602\" x=\"0\" y=\"0\"/><text fill=\"#000000\" font-family=\"sans-serif\" font-size=\"12\" font-weight=\"bold\" lengthAdjust=\"spacingAndGlyphs\" textLength=\"159\" x=\"5\" y=\"16.1387\">Welcome to PlantUML!</text><text fill=\"#000000\" font-family=\"sans-serif\" font-size=\"12\" lengthAdjust=\"spacingAndGlyphs\" textLength=\"0\" x=\"9\" y=\"30.1074\"/><text fill=\"#000000\" font-family=\"sans-serif\" font-size=\"12\" lengthAdjust=\"spacingAndGlyphs\" textLength=\"293\" x=\"5\" y=\"44.0762\">If you use this software, you accept its license.</text><text fill=\"#000000\" font-family=\"sans-serif\" font-size=\"12\" lengthAdjust=\"spacingAndGlyphs\" textLength=\"107\" x=\"5\" y=\"58.0449\">(details by typing</text><text fill=\"#000000\" font-family=\"monospace\" font-size=\"12\" lengthAdjust=\"spacingAndGlyphs\" textLength=\"49\" x=\"116\" y=\"58.0449\">license</text><text fill=\"#000000\" font-family=\"sans-serif\" font-size=\"12\" lengthAdjust=\"spacingAndGlyphs\" textLength=\"56\" x=\"169\" y=\"58.0449\">keyword)</text><text fill=\"#000000\" font-family=\"sans-serif\" font-size=\"12\" lengthAdjust=\"spacingAndGlyphs\" textLength=\"0\" x=\"9\" y=\"72.0137\"/><text fill=\"#000000\" font-family=\"sans-serif\" font-size=\"12\" lengthAdjust=\"spacingAndGlyphs\" textLength=\"283\" x=\"5\" y=\"85.9824\">You can start with a simple UML Diagram like:</text><text fill=\"#000000\" font-family=\"sans-serif\" font-size=\"12\" lengthAdjust=\"spacingAndGlyphs\" textLength=\"0\" x=\"9\" y=\"99.9512\"/><text fill=\"#000000\" font-family=\"monospace\" font-size=\"12\" lengthAdjust=\"spacingAndGlyphs\" textLength=\"119\" x=\"5\" y=\"113.9199\">Bob-&gt;Alice: Hello</text><text fill=\"#000000\" font-family=\"sans-serif\" font-size=\"12\" lengthAdjust=\"spacingAndGlyphs\" textLength=\"0\" x=\"9\" y=\"127.8887\"/><text fill=\"#000000\" font-family=\"sans-serif\" font-size=\"12\" lengthAdjust=\"spacingAndGlyphs\" textLength=\"14\" x=\"5\" y=\"141.8574\">Or</text><text fill=\"#000000\" font-family=\"sans-serif\" font-size=\"12\" lengthAdjust=\"spacingAndGlyphs\" textLength=\"0\" x=\"9\" y=\"155.8262\"/><text fill=\"#000000\" font-family=\"monospace\" font-size=\"12\" lengthAdjust=\"spacingAndGlyphs\" textLength=\"91\" x=\"5\" y=\"169.7949\">class Example</text><text fill=\"#000000\" font-family=\"sans-serif\" font-size=\"12\" lengthAdjust=\"spacingAndGlyphs\" textLength=\"0\" x=\"9\" y=\"183.7637\"/><text fill=\"#000000\" font-family=\"sans-serif\" font-size=\"12\" lengthAdjust=\"spacingAndGlyphs\" textLength=\"349\" x=\"5\" y=\"197.7324\">You will find more information about PlantUML syntax on</text><text fill=\"#000000\" font-family=\"sans-serif\" font-size=\"12\" lengthAdjust=\"spacingAndGlyphs\" text-decoration=\"underline\" textLength=\"129\" x=\"358\" y=\"197.7324\">https://plantuml.com</text><image height=\"71\" width=\"80\" x=\"516\" xlink:href=\"data:image/png;base64,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\" y=\"6\"/><rect fill=\"#000000\" height=\"96.4844\" style=\"stroke: #000000; stroke-width: 1.0;\" width=\"602\" x=\"0\" y=\"205.5625\"/><rect fill=\"#33FF02\" height=\"21.2969\" style=\"stroke: #33FF02; stroke-width: 1.0;\" width=\"170\" x=\"5\" y=\"210.5625\"/><text fill=\"#000000\" font-family=\"sans-serif\" font-size=\"14\" font-weight=\"bold\" lengthAdjust=\"spacingAndGlyphs\" textLength=\"168\" x=\"6\" y=\"225.5625\">[From string (line 2) ]</text><text fill=\"#33FF02\" font-family=\"sans-serif\" font-size=\"14\" font-weight=\"bold\" lengthAdjust=\"spacingAndGlyphs\" textLength=\"0\" x=\"10\" y=\"245.8594\"/><text fill=\"#33FF02\" font-family=\"sans-serif\" font-size=\"14\" font-weight=\"bold\" lengthAdjust=\"spacingAndGlyphs\" textLength=\"79\" x=\"5\" y=\"262.1563\">@startuml</text><text fill=\"#33FF02\" font-family=\"sans-serif\" font-size=\"14\" font-weight=\"bold\" lengthAdjust=\"spacingAndGlyphs\" textLength=\"0\" x=\"10\" y=\"278.4531\"/><text fill=\"#FF0000\" font-family=\"sans-serif\" font-size=\"14\" font-weight=\"bold\" lengthAdjust=\"spacingAndGlyphs\" textLength=\"142\" x=\"10\" y=\"294.75\">Empty description</text><!--MD5=[f59edd8218d337f74d0c332fc6737304]\n",
       "@startuml\r\n",
       " \r\n",
       "@enduml\r\n",
       "\n",
       "PlantUML version 1.2020.13(Sat Jun 13 12:26:38 UTC 2020)\n",
       "(EPL source distribution)\n",
       "Java Runtime: OpenJDK Runtime Environment\n",
       "JVM: OpenJDK 64-Bit Server VM\n",
       "Default Encoding: UTF-8\n",
       "Language: en\n",
       "Country: null\n",
       "--></g></svg>"
      ]
     },
     "execution_count": 32,
     "metadata": {},
     "output_type": "execute_result"
    }
   ],
   "source": [
    "%viz --style=\"PLANTUML\" --view=\"State\" \"Q\""
   ]
  },
  {
   "cell_type": "code",
   "execution_count": 33,
   "id": "deluxe-cleaners",
   "metadata": {
    "execution": {
     "iopub.execute_input": "2021-03-26T09:12:07.592295Z",
     "iopub.status.busy": "2021-03-26T09:12:07.589975Z",
     "iopub.status.idle": "2021-03-26T09:12:07.614514Z",
     "shell.execute_reply": "2021-03-26T09:12:07.613432Z"
    }
   },
   "outputs": [
    {
     "data": {
      "image/svg+xml": [
       "<?xml version=\"1.0\" encoding=\"UTF-8\" standalone=\"no\"?><svg xmlns=\"http://www.w3.org/2000/svg\" xmlns:xlink=\"http://www.w3.org/1999/xlink\" contentScriptType=\"application/ecmascript\" contentStyleType=\"text/css\" height=\"176px\" preserveAspectRatio=\"none\" style=\"width:274px;height:176px;\" version=\"1.1\" viewBox=\"0 0 274 176\" width=\"274px\" zoomAndPan=\"magnify\"><defs><filter height=\"300%\" id=\"f3y5vno0vuvwr\" width=\"300%\" x=\"-1\" y=\"-1\"><feGaussianBlur result=\"blurOut\" stdDeviation=\"2.0\"/><feColorMatrix in=\"blurOut\" result=\"blurOut2\" type=\"matrix\" values=\"0 0 0 0 0 0 0 0 0 0 0 0 0 0 0 0 0 0 .4 0\"/><feOffset dx=\"4.0\" dy=\"4.0\" in=\"blurOut2\" result=\"blurOut3\"/><feBlend in=\"SourceGraphic\" in2=\"blurOut3\" mode=\"normal\"/></filter></defs><g><!--MD5=[fbc87193dbaf4d95561dea2c320d4a47]\n",
       "cluster E1--><a href=\"psysml:e7978fe0-b69e-4191-a6c6-ff9a405cd716\" target=\"_top\" title=\"psysml:e7978fe0-b69e-4191-a6c6-ff9a405cd716\" xlink:actuate=\"onRequest\" xlink:href=\"psysml:e7978fe0-b69e-4191-a6c6-ff9a405cd716\" xlink:show=\"new\" xlink:title=\"psysml:e7978fe0-b69e-4191-a6c6-ff9a405cd716\" xlink:type=\"simple\"><polygon fill=\"#FFFFFF\" filter=\"url(#f3y5vno0vuvwr)\" points=\"16,6,34,6,41,28.2969,252,28.2969,252,164,16,164,16,6\" style=\"stroke: #000000; stroke-width: 1.5;\"/><line style=\"stroke: #000000; stroke-width: 1.5;\" x1=\"16\" x2=\"41\" y1=\"28.2969\" y2=\"28.2969\"/><text fill=\"#000000\" font-family=\"sans-serif\" font-size=\"14\" font-weight=\"bold\" lengthAdjust=\"spacingAndGlyphs\" textLength=\"12\" x=\"20\" y=\"20.9951\">Q</text></a><!--MD5=[e4f7fae6ed58524ba242bb0b0d3be6b7]\n",
       "cluster E2--><a href=\"psysml:d69286fc-6be9-4686-bca9-82760e97d021\" target=\"_top\" title=\"psysml:d69286fc-6be9-4686-bca9-82760e97d021\" xlink:actuate=\"onRequest\" xlink:href=\"psysml:d69286fc-6be9-4686-bca9-82760e97d021\" xlink:show=\"new\" xlink:title=\"psysml:d69286fc-6be9-4686-bca9-82760e97d021\" xlink:type=\"simple\"><rect fill=\"#FFFFFF\" filter=\"url(#f3y5vno0vuvwr)\" height=\"91\" id=\"E2\" rx=\"10\" ry=\"10\" style=\"stroke: #A80036; stroke-width: 1.5;\" width=\"82\" x=\"146\" y=\"49\"/><rect fill=\"#FEFECE\" height=\"23.9688\" rx=\"10\" ry=\"10\" style=\"stroke: #FEFECE; stroke-width: 1.5;\" width=\"82\" x=\"146\" y=\"49\"/><rect fill=\"#FEFECE\" height=\"10\" style=\"stroke: #FEFECE; stroke-width: 1.5;\" width=\"82\" x=\"146\" y=\"62.9688\"/><rect fill=\"none\" height=\"91\" id=\"E2\" rx=\"10\" ry=\"10\" style=\"stroke: #A80036; stroke-width: 1.5;\" width=\"82\" x=\"146\" y=\"49\"/><text fill=\"#000000\" font-family=\"sans-serif\" font-size=\"12\" lengthAdjust=\"spacingAndGlyphs\" textLength=\"4\" x=\"185\" y=\"65.1387\">f</text><line style=\"stroke: #A80036; stroke-width: 1.0;\" x1=\"146\" x2=\"228\" y1=\"72.9688\" y2=\"72.9688\"/></a><!--MD5=[f6df4d0ebaf0b5dfb2ced0ae5af7c670]\n",
       "cluster E4--><a href=\"psysml:6e0f0160-dcde-436d-afd9-a7845bbec9b5\" target=\"_top\" title=\"psysml:6e0f0160-dcde-436d-afd9-a7845bbec9b5\" xlink:actuate=\"onRequest\" xlink:href=\"psysml:6e0f0160-dcde-436d-afd9-a7845bbec9b5\" xlink:show=\"new\" xlink:title=\"psysml:6e0f0160-dcde-436d-afd9-a7845bbec9b5\" xlink:type=\"simple\"><rect fill=\"#FFFFFF\" filter=\"url(#f3y5vno0vuvwr)\" height=\"91\" id=\"E4\" style=\"stroke: #A80036; stroke-width: 1.5;\" width=\"82\" x=\"40\" y=\"49\"/><rect fill=\"#FEFECE\" height=\"23.9688\" style=\"stroke: #A80036; stroke-width: 1.5;\" width=\"82\" x=\"40\" y=\"49\"/><text fill=\"#000000\" font-family=\"sans-serif\" font-size=\"12\" lengthAdjust=\"spacingAndGlyphs\" textLength=\"8\" x=\"77\" y=\"65.1387\">C</text></a><g id=\"E1.E2.E3\"><a href=\"psysml:05544d0a-8d7e-4ac4-8a38-1321d7df08dd\" target=\"_top\" title=\"psysml:05544d0a-8d7e-4ac4-8a38-1321d7df08dd\" xlink:actuate=\"onRequest\" xlink:href=\"psysml:05544d0a-8d7e-4ac4-8a38-1321d7df08dd\" xlink:show=\"new\" xlink:title=\"psysml:05544d0a-8d7e-4ac4-8a38-1321d7df08dd\" xlink:type=\"simple\"><rect fill=\"#FEFECE\" filter=\"url(#f3y5vno0vuvwr)\" height=\"40\" id=\"E3\" rx=\"10\" ry=\"10\" style=\"stroke: #A80036; stroke-width: 1.5;\" width=\"50\" x=\"162\" y=\"84\"/><ellipse cx=\"181.5\" cy=\"100\" fill=\"#B6DBBB\" rx=\"11\" ry=\"11\" style=\"stroke: #A80036; stroke-width: 1.0;\"/><path d=\"M177.375,101.9219 L177.375,94.1094 L179.8281,94.1094 L179.8281,102.5469 Q179.8281,103.4688 180.2969,104 Q180.7813,104.5313 181.6094,104.5313 Q182.4531,104.5313 182.9219,104 Q183.3906,103.4688 183.3906,102.5469 L183.3906,94.1094 L185.8438,94.1094 L185.8438,101.9219 Q185.8438,104.4531 184.8438,105.5938 Q183.8438,106.7344 181.6094,106.7344 Q179.3906,106.7344 178.375,105.5938 Q177.375,104.4531 177.375,101.9219 Z \"/><text fill=\"#000000\" font-family=\"sans-serif\" font-size=\"12\" lengthAdjust=\"spacingAndGlyphs\" textLength=\"8\" x=\"196.5\" y=\"104.1543\">a</text></a></g><g id=\"E1.E4.E5\"><a href=\"psysml:c2eaf658-adee-4a19-a83e-00cce7f1793f\" target=\"_top\" title=\"psysml:c2eaf658-adee-4a19-a83e-00cce7f1793f\" xlink:actuate=\"onRequest\" xlink:href=\"psysml:c2eaf658-adee-4a19-a83e-00cce7f1793f\" xlink:show=\"new\" xlink:title=\"psysml:c2eaf658-adee-4a19-a83e-00cce7f1793f\" xlink:type=\"simple\"><rect fill=\"#FEFECE\" filter=\"url(#f3y5vno0vuvwr)\" height=\"40\" id=\"E5\" rx=\"10\" ry=\"10\" style=\"stroke: #A80036; stroke-width: 1.5;\" width=\"50\" x=\"56\" y=\"84\"/><ellipse cx=\"75.5\" cy=\"100\" fill=\"#B6DBBB\" rx=\"11\" ry=\"11\" style=\"stroke: #A80036; stroke-width: 1.0;\"/><path d=\"M71.375,101.9219 L71.375,94.1094 L73.8281,94.1094 L73.8281,102.5469 Q73.8281,103.4688 74.2969,104 Q74.7813,104.5313 75.6094,104.5313 Q76.4531,104.5313 76.9219,104 Q77.3906,103.4688 77.3906,102.5469 L77.3906,94.1094 L79.8438,94.1094 L79.8438,101.9219 Q79.8438,104.4531 78.8438,105.5938 Q77.8438,106.7344 75.6094,106.7344 Q73.3906,106.7344 72.375,105.5938 Q71.375,104.4531 71.375,101.9219 Z \"/><text fill=\"#000000\" font-family=\"sans-serif\" font-size=\"12\" lengthAdjust=\"spacingAndGlyphs\" textLength=\"8\" x=\"90.5\" y=\"104.1543\">g</text></a></g><!--MD5=[601cece0cfa781e1783baa6b2a10a152]\n",
       "@startuml\r\n",
       "skinparam ranksep 8\r\n",
       "skinparam rectangle {\r\n",
       " backgroundColor<<block>> LightGreen\r\n",
       "}\r\n",
       " \r\n",
       "package \"Q\" as E1  [[psysml:e7978fe0-b69e-4191-a6c6-ff9a405cd716 ]]  {\r\n",
       "rec usage \"f\" as E2  [[psysml:d69286fc-6be9-4686-bca9-82760e97d021 ]] {\r\n",
       "rec usage \"a\" as E3  [[psysml:05544d0a-8d7e-4ac4-8a38-1321d7df08dd ]] {\r\n",
       "}\r\n",
       "}\r\n",
       "rec def \"C\" as E4  << (B,green) >> [[psysml:6e0f0160-dcde-436d-afd9-a7845bbec9b5 ]] {\r\n",
       "rec usage \"g\" as E5  [[psysml:c2eaf658-adee-4a19-a83e-00cce7f1793f ]] {\r\n",
       "}\r\n",
       "}\r\n",
       "}\r\n",
       "@enduml\r\n",
       "\n",
       "PlantUML version 1.2020.13(Sat Jun 13 12:26:38 UTC 2020)\n",
       "(EPL source distribution)\n",
       "Java Runtime: OpenJDK Runtime Environment\n",
       "JVM: OpenJDK 64-Bit Server VM\n",
       "Default Encoding: UTF-8\n",
       "Language: en\n",
       "Country: null\n",
       "--></g></svg>"
      ]
     },
     "execution_count": 33,
     "metadata": {},
     "output_type": "execute_result"
    }
   ],
   "source": [
    "%viz --style=\"PLANTUML\" --view=\"Interconnection\" \"Q\""
   ]
  },
  {
   "cell_type": "code",
   "execution_count": 34,
   "id": "secret-representative",
   "metadata": {
    "execution": {
     "iopub.execute_input": "2021-03-26T09:12:07.665351Z",
     "iopub.status.busy": "2021-03-26T09:12:07.664881Z",
     "iopub.status.idle": "2021-03-26T09:12:07.669378Z",
     "shell.execute_reply": "2021-03-26T09:12:07.669009Z"
    }
   },
   "outputs": [
    {
     "data": {
      "image/svg+xml": [
       "<?xml version=\"1.0\" encoding=\"UTF-8\" standalone=\"no\"?><svg xmlns=\"http://www.w3.org/2000/svg\" xmlns:xlink=\"http://www.w3.org/1999/xlink\" contentScriptType=\"application/ecmascript\" contentStyleType=\"text/css\" height=\"12px\" preserveAspectRatio=\"none\" style=\"width:12px;height:12px;\" version=\"1.1\" viewBox=\"0 0 12 12\" width=\"12px\" zoomAndPan=\"magnify\"><defs/><g><!--MD5=[6a4cb978cab31700e1ce5529f947a75d]\n",
       "@startuml\r\n",
       "skinparam ranksep 8\r\n",
       " \r\n",
       "@enduml\r\n",
       "\n",
       "PlantUML version 1.2020.13(Sat Jun 13 12:26:38 UTC 2020)\n",
       "(EPL source distribution)\n",
       "Java Runtime: OpenJDK Runtime Environment\n",
       "JVM: OpenJDK 64-Bit Server VM\n",
       "Default Encoding: UTF-8\n",
       "Language: en\n",
       "Country: null\n",
       "--></g></svg>"
      ]
     },
     "execution_count": 34,
     "metadata": {},
     "output_type": "execute_result"
    }
   ],
   "source": [
    "%viz --style=\"PLANTUML\" --view=\"Action\" \"Q\""
   ]
  },
  {
   "cell_type": "code",
   "execution_count": 35,
   "id": "liked-polish",
   "metadata": {
    "execution": {
     "iopub.execute_input": "2021-03-26T09:12:07.723460Z",
     "iopub.status.busy": "2021-03-26T09:12:07.722478Z",
     "iopub.status.idle": "2021-03-26T09:12:07.752363Z",
     "shell.execute_reply": "2021-03-26T09:12:07.753128Z"
    }
   },
   "outputs": [
    {
     "data": {
      "image/svg+xml": [
       "<?xml version=\"1.0\" encoding=\"UTF-8\" standalone=\"no\"?><svg xmlns=\"http://www.w3.org/2000/svg\" xmlns:xlink=\"http://www.w3.org/1999/xlink\" contentScriptType=\"application/ecmascript\" contentStyleType=\"text/css\" height=\"221px\" preserveAspectRatio=\"none\" style=\"width:241px;height:221px;\" version=\"1.1\" viewBox=\"0 0 241 221\" width=\"241px\" zoomAndPan=\"magnify\"><defs><filter height=\"300%\" id=\"f1j2w059aotdsf\" width=\"300%\" x=\"-1\" y=\"-1\"><feGaussianBlur result=\"blurOut\" stdDeviation=\"2.0\"/><feColorMatrix in=\"blurOut\" result=\"blurOut2\" type=\"matrix\" values=\"0 0 0 0 0 0 0 0 0 0 0 0 0 0 0 0 0 0 .4 0\"/><feOffset dx=\"4.0\" dy=\"4.0\" in=\"blurOut2\" result=\"blurOut3\"/><feBlend in=\"SourceGraphic\" in2=\"blurOut3\" mode=\"normal\"/></filter></defs><g><!--MD5=[fbc87193dbaf4d95561dea2c320d4a47]\n",
       "cluster E1--><a href=\"psysml:e7978fe0-b69e-4191-a6c6-ff9a405cd716\" target=\"_top\" title=\"psysml:e7978fe0-b69e-4191-a6c6-ff9a405cd716\" xlink:actuate=\"onRequest\" xlink:href=\"psysml:e7978fe0-b69e-4191-a6c6-ff9a405cd716\" xlink:show=\"new\" xlink:title=\"psysml:e7978fe0-b69e-4191-a6c6-ff9a405cd716\" xlink:type=\"simple\"><polygon fill=\"#FFFFFF\" filter=\"url(#f1j2w059aotdsf)\" points=\"16,6,34,6,41,28.2969,219,28.2969,219,209,16,209,16,6\" style=\"stroke: #000000; stroke-width: 1.5;\"/><line style=\"stroke: #000000; stroke-width: 1.5;\" x1=\"16\" x2=\"41\" y1=\"28.2969\" y2=\"28.2969\"/><text fill=\"#000000\" font-family=\"sans-serif\" font-size=\"14\" font-weight=\"bold\" lengthAdjust=\"spacingAndGlyphs\" textLength=\"12\" x=\"20\" y=\"20.9951\">Q</text></a><!--MD5=[b4997ac47864f28c2f74865a473b2911]\n",
       "class E2--><a href=\"psysml:d69286fc-6be9-4686-bca9-82760e97d021\" target=\"_top\" title=\"psysml:d69286fc-6be9-4686-bca9-82760e97d021\" xlink:actuate=\"onRequest\" xlink:href=\"psysml:d69286fc-6be9-4686-bca9-82760e97d021\" xlink:show=\"new\" xlink:title=\"psysml:d69286fc-6be9-4686-bca9-82760e97d021\" xlink:type=\"simple\"><rect fill=\"#FEFECE\" filter=\"url(#f1j2w059aotdsf)\" height=\"45.9375\" id=\"E2\" rx=\"10\" ry=\"10\" style=\"stroke: #A80036; stroke-width: 1.5;\" width=\"68\" x=\"135\" y=\"41\"/><ellipse cx=\"150\" cy=\"59.9688\" fill=\"#32CD32\" rx=\"11\" ry=\"11\" style=\"stroke: #A80036; stroke-width: 1.0;\"/><path d=\"M149.7969,55.6406 L149.7969,59.2656 L150.7969,59.2656 Q152,59.2656 152.4844,58.8594 Q152.9688,58.4531 152.9688,57.4531 Q152.9688,56.4531 152.4844,56.0469 Q152,55.6406 150.7969,55.6406 L149.7969,55.6406 Z M147.3438,53.5781 L150.7031,53.5781 Q153.2656,53.5781 154.3906,54.5 Q155.5156,55.4063 155.5156,57.4531 Q155.5156,59.5 154.3906,60.4219 Q153.2656,61.3281 150.7031,61.3281 L149.7969,61.3281 L149.7969,65.9688 L147.3438,65.9688 L147.3438,53.5781 Z \"/><text fill=\"#000000\" font-family=\"sans-serif\" font-size=\"12\" font-style=\"italic\" lengthAdjust=\"spacingAndGlyphs\" textLength=\"40\" x=\"162\" y=\"57.1387\">«part»</text><text fill=\"#000000\" font-family=\"sans-serif\" font-size=\"12\" lengthAdjust=\"spacingAndGlyphs\" textLength=\"4\" x=\"180\" y=\"71.1074\">f</text><line style=\"stroke: #A80036; stroke-width: 1.5;\" x1=\"136\" x2=\"202\" y1=\"78.9375\" y2=\"78.9375\"/></a><!--MD5=[09b614a08d8cba4a07c9adeb5e0fee81]\n",
       "class E3--><a href=\"psysml:05544d0a-8d7e-4ac4-8a38-1321d7df08dd\" target=\"_top\" title=\"psysml:05544d0a-8d7e-4ac4-8a38-1321d7df08dd\" xlink:actuate=\"onRequest\" xlink:href=\"psysml:05544d0a-8d7e-4ac4-8a38-1321d7df08dd\" xlink:show=\"new\" xlink:title=\"psysml:05544d0a-8d7e-4ac4-8a38-1321d7df08dd\" xlink:type=\"simple\"><rect fill=\"#FEFECE\" filter=\"url(#f1j2w059aotdsf)\" height=\"45.9375\" id=\"E3\" rx=\"10\" ry=\"10\" style=\"stroke: #A80036; stroke-width: 1.5;\" width=\"68\" x=\"135\" y=\"147\"/><ellipse cx=\"150\" cy=\"165.9688\" fill=\"#32CD32\" rx=\"11\" ry=\"11\" style=\"stroke: #A80036; stroke-width: 1.0;\"/><path d=\"M149.7969,161.6406 L149.7969,165.2656 L150.7969,165.2656 Q152,165.2656 152.4844,164.8594 Q152.9688,164.4531 152.9688,163.4531 Q152.9688,162.4531 152.4844,162.0469 Q152,161.6406 150.7969,161.6406 L149.7969,161.6406 Z M147.3438,159.5781 L150.7031,159.5781 Q153.2656,159.5781 154.3906,160.5 Q155.5156,161.4063 155.5156,163.4531 Q155.5156,165.5 154.3906,166.4219 Q153.2656,167.3281 150.7031,167.3281 L149.7969,167.3281 L149.7969,171.9688 L147.3438,171.9688 L147.3438,159.5781 Z \"/><text fill=\"#000000\" font-family=\"sans-serif\" font-size=\"12\" font-style=\"italic\" lengthAdjust=\"spacingAndGlyphs\" textLength=\"40\" x=\"162\" y=\"163.1387\">«part»</text><text fill=\"#000000\" font-family=\"sans-serif\" font-size=\"12\" lengthAdjust=\"spacingAndGlyphs\" textLength=\"8\" x=\"178\" y=\"177.1074\">a</text><line style=\"stroke: #A80036; stroke-width: 1.5;\" x1=\"136\" x2=\"202\" y1=\"184.9375\" y2=\"184.9375\"/></a><!--MD5=[ebbe1d658d1005bcc118a6aa81145e00]\n",
       "class E4--><a href=\"psysml:6e0f0160-dcde-436d-afd9-a7845bbec9b5\" target=\"_top\" title=\"psysml:6e0f0160-dcde-436d-afd9-a7845bbec9b5\" xlink:actuate=\"onRequest\" xlink:href=\"psysml:6e0f0160-dcde-436d-afd9-a7845bbec9b5\" xlink:show=\"new\" xlink:title=\"psysml:6e0f0160-dcde-436d-afd9-a7845bbec9b5\" xlink:type=\"simple\"><rect fill=\"#FEFECE\" filter=\"url(#f1j2w059aotdsf)\" height=\"40\" id=\"E4\" style=\"stroke: #A80036; stroke-width: 1.5;\" width=\"40\" x=\"46\" y=\"44\"/><ellipse cx=\"61\" cy=\"60\" fill=\"#008000\" rx=\"11\" ry=\"11\" style=\"stroke: #A80036; stroke-width: 1.0;\"/><path d=\"M59.9063,60.375 L59.9063,64.0469 L61.5313,64.0469 Q62.7031,64.0469 63.1719,63.6563 Q63.6406,63.25 63.6406,62.25 Q63.6406,61.25 63.1406,60.8125 Q62.6563,60.375 61.5313,60.375 L59.9063,60.375 Z M59.9063,55.5469 L59.9063,58.4219 L61.5313,58.4219 Q62.4531,58.4219 62.8438,58.0938 Q63.25,57.75 63.25,57 Q63.25,56.2344 62.8438,55.8906 Q62.4375,55.5469 61.5313,55.5469 L59.9063,55.5469 Z M57.5313,53.5938 L61.5313,53.5938 Q63.5938,53.5938 64.6406,54.375 Q65.6875,55.1563 65.6875,56.7188 Q65.6875,57.9219 65.0625,58.5938 Q64.4531,59.2656 63.2656,59.375 Q64.6875,59.5156 65.4063,60.3281 Q66.125,61.1406 66.125,62.5938 Q66.125,64.3906 65.0469,65.2031 Q63.9688,66 61.5313,66 L57.5313,66 L57.5313,53.5938 Z \"/><text fill=\"#000000\" font-family=\"sans-serif\" font-size=\"12\" lengthAdjust=\"spacingAndGlyphs\" textLength=\"8\" x=\"75\" y=\"64.1543\">C</text><line style=\"stroke: #A80036; stroke-width: 1.5;\" x1=\"47\" x2=\"85\" y1=\"76\" y2=\"76\"/></a><!--MD5=[270fce915f116d4de14055a7c1d9a0f3]\n",
       "class E5--><a href=\"psysml:c2eaf658-adee-4a19-a83e-00cce7f1793f\" target=\"_top\" title=\"psysml:c2eaf658-adee-4a19-a83e-00cce7f1793f\" xlink:actuate=\"onRequest\" xlink:href=\"psysml:c2eaf658-adee-4a19-a83e-00cce7f1793f\" xlink:show=\"new\" xlink:title=\"psysml:c2eaf658-adee-4a19-a83e-00cce7f1793f\" xlink:type=\"simple\"><rect fill=\"#FEFECE\" filter=\"url(#f1j2w059aotdsf)\" height=\"45.9375\" id=\"E5\" rx=\"10\" ry=\"10\" style=\"stroke: #A80036; stroke-width: 1.5;\" width=\"68\" x=\"32\" y=\"147\"/><ellipse cx=\"47\" cy=\"165.9688\" fill=\"#32CD32\" rx=\"11\" ry=\"11\" style=\"stroke: #A80036; stroke-width: 1.0;\"/><path d=\"M46.7969,161.6406 L46.7969,165.2656 L47.7969,165.2656 Q49,165.2656 49.4844,164.8594 Q49.9688,164.4531 49.9688,163.4531 Q49.9688,162.4531 49.4844,162.0469 Q49,161.6406 47.7969,161.6406 L46.7969,161.6406 Z M44.3438,159.5781 L47.7031,159.5781 Q50.2656,159.5781 51.3906,160.5 Q52.5156,161.4063 52.5156,163.4531 Q52.5156,165.5 51.3906,166.4219 Q50.2656,167.3281 47.7031,167.3281 L46.7969,167.3281 L46.7969,171.9688 L44.3438,171.9688 L44.3438,159.5781 Z \"/><text fill=\"#000000\" font-family=\"sans-serif\" font-size=\"12\" font-style=\"italic\" lengthAdjust=\"spacingAndGlyphs\" textLength=\"40\" x=\"59\" y=\"163.1387\">«part»</text><text fill=\"#000000\" font-family=\"sans-serif\" font-size=\"12\" lengthAdjust=\"spacingAndGlyphs\" textLength=\"8\" x=\"75\" y=\"177.1074\">g</text><line style=\"stroke: #A80036; stroke-width: 1.5;\" x1=\"33\" x2=\"99\" y1=\"184.9375\" y2=\"184.9375\"/></a><!--MD5=[209b3feb70ccb6233bfe1053d122c12c]\n",
       "reverse link E2 to E3--><a href=\"psysml:05544d0a-8d7e-4ac4-8a38-1321d7df08dd\" target=\"_top\" title=\"psysml:05544d0a-8d7e-4ac4-8a38-1321d7df08dd\" xlink:actuate=\"onRequest\" xlink:href=\"psysml:05544d0a-8d7e-4ac4-8a38-1321d7df08dd\" xlink:show=\"new\" xlink:title=\"psysml:05544d0a-8d7e-4ac4-8a38-1321d7df08dd\" xlink:type=\"simple\"><path d=\"M169,100.44 C169,115.87 169,133.47 169,146.98 \" fill=\"none\" id=\"E2&lt;-E3\" style=\"stroke: #A80036; stroke-width: 1.0;\"/><polygon fill=\"#A80036\" points=\"169,87.06,165,93.06,169,99.06,173,93.06,169,87.06\" style=\"stroke: #A80036; stroke-width: 1.0;\"/></a><!--MD5=[62aa6af11e70f752912c1cb0466f24f7]\n",
       "reverse link E4 to E5--><a href=\"psysml:c2eaf658-adee-4a19-a83e-00cce7f1793f\" target=\"_top\" title=\"psysml:c2eaf658-adee-4a19-a83e-00cce7f1793f\" xlink:actuate=\"onRequest\" xlink:href=\"psysml:c2eaf658-adee-4a19-a83e-00cce7f1793f\" xlink:show=\"new\" xlink:title=\"psysml:c2eaf658-adee-4a19-a83e-00cce7f1793f\" xlink:type=\"simple\"><path d=\"M66,97.25 C66,113.33 66,132.37 66,146.8 \" fill=\"none\" id=\"E4&lt;-E5\" style=\"stroke: #A80036; stroke-width: 1.0;\"/><polygon fill=\"#A80036\" points=\"66,84.08,62,90.08,66,96.08,70,90.08,66,84.08\" style=\"stroke: #A80036; stroke-width: 1.0;\"/></a><!--MD5=[ae151ab2e96a4f05867705507dab3a84]\n",
       "@startuml\r\n",
       " \r\n",
       "package \"Q\" as E1  [[psysml:e7978fe0-b69e-4191-a6c6-ff9a405cd716 ]]  {\r\n",
       "comp usage \"f\" as E2  << (P,limegreen) part>> [[psysml:d69286fc-6be9-4686-bca9-82760e97d021 ]] {\r\n",
       "}\r\n",
       "comp usage \"a\" as E3  << (P,limegreen) part>> [[psysml:05544d0a-8d7e-4ac4-8a38-1321d7df08dd ]] {\r\n",
       "}\r\n",
       "comp def \"C\" as E4  << (B,green) >> [[psysml:6e0f0160-dcde-436d-afd9-a7845bbec9b5 ]] {\r\n",
       "}\r\n",
       "comp usage \"g\" as E5  << (P,limegreen) part>> [[psysml:c2eaf658-adee-4a19-a83e-00cce7f1793f ]] {\r\n",
       "}\r\n",
       "E2 *- - E3 [[psysml:05544d0a-8d7e-4ac4-8a38-1321d7df08dd ]] \r\n",
       "E4 *- - E5 [[psysml:c2eaf658-adee-4a19-a83e-00cce7f1793f ]] \r\n",
       "}\r\n",
       "@enduml\r\n",
       "\n",
       "PlantUML version 1.2020.13(Sat Jun 13 12:26:38 UTC 2020)\n",
       "(EPL source distribution)\n",
       "Java Runtime: OpenJDK Runtime Environment\n",
       "JVM: OpenJDK 64-Bit Server VM\n",
       "Default Encoding: UTF-8\n",
       "Language: en\n",
       "Country: null\n",
       "--></g></svg>"
      ]
     },
     "execution_count": 35,
     "metadata": {},
     "output_type": "execute_result"
    }
   ],
   "source": [
    "%viz --style=\"PLANTUML\" --view=\"Sequence\" \"Q\""
   ]
  },
  {
   "cell_type": "code",
   "execution_count": 36,
   "id": "muslim-theorem",
   "metadata": {
    "execution": {
     "iopub.execute_input": "2021-03-26T09:12:07.802762Z",
     "iopub.status.busy": "2021-03-26T09:12:07.802369Z",
     "iopub.status.idle": "2021-03-26T09:12:07.844086Z",
     "shell.execute_reply": "2021-03-26T09:12:07.843005Z"
    }
   },
   "outputs": [
    {
     "data": {
      "image/svg+xml": [
       "<?xml version=\"1.0\" encoding=\"UTF-8\" standalone=\"no\"?><svg xmlns=\"http://www.w3.org/2000/svg\" xmlns:xlink=\"http://www.w3.org/1999/xlink\" contentScriptType=\"application/ecmascript\" contentStyleType=\"text/css\" height=\"221px\" preserveAspectRatio=\"none\" style=\"width:241px;height:221px;\" version=\"1.1\" viewBox=\"0 0 241 221\" width=\"241px\" zoomAndPan=\"magnify\"><defs><filter height=\"300%\" id=\"f1j2w059aotdsf\" width=\"300%\" x=\"-1\" y=\"-1\"><feGaussianBlur result=\"blurOut\" stdDeviation=\"2.0\"/><feColorMatrix in=\"blurOut\" result=\"blurOut2\" type=\"matrix\" values=\"0 0 0 0 0 0 0 0 0 0 0 0 0 0 0 0 0 0 .4 0\"/><feOffset dx=\"4.0\" dy=\"4.0\" in=\"blurOut2\" result=\"blurOut3\"/><feBlend in=\"SourceGraphic\" in2=\"blurOut3\" mode=\"normal\"/></filter></defs><g><!--MD5=[fbc87193dbaf4d95561dea2c320d4a47]\n",
       "cluster E1--><a href=\"psysml:e7978fe0-b69e-4191-a6c6-ff9a405cd716\" target=\"_top\" title=\"psysml:e7978fe0-b69e-4191-a6c6-ff9a405cd716\" xlink:actuate=\"onRequest\" xlink:href=\"psysml:e7978fe0-b69e-4191-a6c6-ff9a405cd716\" xlink:show=\"new\" xlink:title=\"psysml:e7978fe0-b69e-4191-a6c6-ff9a405cd716\" xlink:type=\"simple\"><polygon fill=\"#FFFFFF\" filter=\"url(#f1j2w059aotdsf)\" points=\"16,6,34,6,41,28.2969,219,28.2969,219,209,16,209,16,6\" style=\"stroke: #000000; stroke-width: 1.5;\"/><line style=\"stroke: #000000; stroke-width: 1.5;\" x1=\"16\" x2=\"41\" y1=\"28.2969\" y2=\"28.2969\"/><text fill=\"#000000\" font-family=\"sans-serif\" font-size=\"14\" font-weight=\"bold\" lengthAdjust=\"spacingAndGlyphs\" textLength=\"12\" x=\"20\" y=\"20.9951\">Q</text></a><!--MD5=[b4997ac47864f28c2f74865a473b2911]\n",
       "class E2--><a href=\"psysml:d69286fc-6be9-4686-bca9-82760e97d021\" target=\"_top\" title=\"psysml:d69286fc-6be9-4686-bca9-82760e97d021\" xlink:actuate=\"onRequest\" xlink:href=\"psysml:d69286fc-6be9-4686-bca9-82760e97d021\" xlink:show=\"new\" xlink:title=\"psysml:d69286fc-6be9-4686-bca9-82760e97d021\" xlink:type=\"simple\"><rect fill=\"#FEFECE\" filter=\"url(#f1j2w059aotdsf)\" height=\"45.9375\" id=\"E2\" rx=\"10\" ry=\"10\" style=\"stroke: #A80036; stroke-width: 1.5;\" width=\"68\" x=\"135\" y=\"41\"/><ellipse cx=\"150\" cy=\"59.9688\" fill=\"#32CD32\" rx=\"11\" ry=\"11\" style=\"stroke: #A80036; stroke-width: 1.0;\"/><path d=\"M149.7969,55.6406 L149.7969,59.2656 L150.7969,59.2656 Q152,59.2656 152.4844,58.8594 Q152.9688,58.4531 152.9688,57.4531 Q152.9688,56.4531 152.4844,56.0469 Q152,55.6406 150.7969,55.6406 L149.7969,55.6406 Z M147.3438,53.5781 L150.7031,53.5781 Q153.2656,53.5781 154.3906,54.5 Q155.5156,55.4063 155.5156,57.4531 Q155.5156,59.5 154.3906,60.4219 Q153.2656,61.3281 150.7031,61.3281 L149.7969,61.3281 L149.7969,65.9688 L147.3438,65.9688 L147.3438,53.5781 Z \"/><text fill=\"#000000\" font-family=\"sans-serif\" font-size=\"12\" font-style=\"italic\" lengthAdjust=\"spacingAndGlyphs\" textLength=\"40\" x=\"162\" y=\"57.1387\">«part»</text><text fill=\"#000000\" font-family=\"sans-serif\" font-size=\"12\" lengthAdjust=\"spacingAndGlyphs\" textLength=\"4\" x=\"180\" y=\"71.1074\">f</text><line style=\"stroke: #A80036; stroke-width: 1.5;\" x1=\"136\" x2=\"202\" y1=\"78.9375\" y2=\"78.9375\"/></a><!--MD5=[09b614a08d8cba4a07c9adeb5e0fee81]\n",
       "class E3--><a href=\"psysml:05544d0a-8d7e-4ac4-8a38-1321d7df08dd\" target=\"_top\" title=\"psysml:05544d0a-8d7e-4ac4-8a38-1321d7df08dd\" xlink:actuate=\"onRequest\" xlink:href=\"psysml:05544d0a-8d7e-4ac4-8a38-1321d7df08dd\" xlink:show=\"new\" xlink:title=\"psysml:05544d0a-8d7e-4ac4-8a38-1321d7df08dd\" xlink:type=\"simple\"><rect fill=\"#FEFECE\" filter=\"url(#f1j2w059aotdsf)\" height=\"45.9375\" id=\"E3\" rx=\"10\" ry=\"10\" style=\"stroke: #A80036; stroke-width: 1.5;\" width=\"68\" x=\"135\" y=\"147\"/><ellipse cx=\"150\" cy=\"165.9688\" fill=\"#32CD32\" rx=\"11\" ry=\"11\" style=\"stroke: #A80036; stroke-width: 1.0;\"/><path d=\"M149.7969,161.6406 L149.7969,165.2656 L150.7969,165.2656 Q152,165.2656 152.4844,164.8594 Q152.9688,164.4531 152.9688,163.4531 Q152.9688,162.4531 152.4844,162.0469 Q152,161.6406 150.7969,161.6406 L149.7969,161.6406 Z M147.3438,159.5781 L150.7031,159.5781 Q153.2656,159.5781 154.3906,160.5 Q155.5156,161.4063 155.5156,163.4531 Q155.5156,165.5 154.3906,166.4219 Q153.2656,167.3281 150.7031,167.3281 L149.7969,167.3281 L149.7969,171.9688 L147.3438,171.9688 L147.3438,159.5781 Z \"/><text fill=\"#000000\" font-family=\"sans-serif\" font-size=\"12\" font-style=\"italic\" lengthAdjust=\"spacingAndGlyphs\" textLength=\"40\" x=\"162\" y=\"163.1387\">«part»</text><text fill=\"#000000\" font-family=\"sans-serif\" font-size=\"12\" lengthAdjust=\"spacingAndGlyphs\" textLength=\"8\" x=\"178\" y=\"177.1074\">a</text><line style=\"stroke: #A80036; stroke-width: 1.5;\" x1=\"136\" x2=\"202\" y1=\"184.9375\" y2=\"184.9375\"/></a><!--MD5=[ebbe1d658d1005bcc118a6aa81145e00]\n",
       "class E4--><a href=\"psysml:6e0f0160-dcde-436d-afd9-a7845bbec9b5\" target=\"_top\" title=\"psysml:6e0f0160-dcde-436d-afd9-a7845bbec9b5\" xlink:actuate=\"onRequest\" xlink:href=\"psysml:6e0f0160-dcde-436d-afd9-a7845bbec9b5\" xlink:show=\"new\" xlink:title=\"psysml:6e0f0160-dcde-436d-afd9-a7845bbec9b5\" xlink:type=\"simple\"><rect fill=\"#FEFECE\" filter=\"url(#f1j2w059aotdsf)\" height=\"40\" id=\"E4\" style=\"stroke: #A80036; stroke-width: 1.5;\" width=\"40\" x=\"46\" y=\"44\"/><ellipse cx=\"61\" cy=\"60\" fill=\"#008000\" rx=\"11\" ry=\"11\" style=\"stroke: #A80036; stroke-width: 1.0;\"/><path d=\"M59.9063,60.375 L59.9063,64.0469 L61.5313,64.0469 Q62.7031,64.0469 63.1719,63.6563 Q63.6406,63.25 63.6406,62.25 Q63.6406,61.25 63.1406,60.8125 Q62.6563,60.375 61.5313,60.375 L59.9063,60.375 Z M59.9063,55.5469 L59.9063,58.4219 L61.5313,58.4219 Q62.4531,58.4219 62.8438,58.0938 Q63.25,57.75 63.25,57 Q63.25,56.2344 62.8438,55.8906 Q62.4375,55.5469 61.5313,55.5469 L59.9063,55.5469 Z M57.5313,53.5938 L61.5313,53.5938 Q63.5938,53.5938 64.6406,54.375 Q65.6875,55.1563 65.6875,56.7188 Q65.6875,57.9219 65.0625,58.5938 Q64.4531,59.2656 63.2656,59.375 Q64.6875,59.5156 65.4063,60.3281 Q66.125,61.1406 66.125,62.5938 Q66.125,64.3906 65.0469,65.2031 Q63.9688,66 61.5313,66 L57.5313,66 L57.5313,53.5938 Z \"/><text fill=\"#000000\" font-family=\"sans-serif\" font-size=\"12\" lengthAdjust=\"spacingAndGlyphs\" textLength=\"8\" x=\"75\" y=\"64.1543\">C</text><line style=\"stroke: #A80036; stroke-width: 1.5;\" x1=\"47\" x2=\"85\" y1=\"76\" y2=\"76\"/></a><!--MD5=[270fce915f116d4de14055a7c1d9a0f3]\n",
       "class E5--><a href=\"psysml:c2eaf658-adee-4a19-a83e-00cce7f1793f\" target=\"_top\" title=\"psysml:c2eaf658-adee-4a19-a83e-00cce7f1793f\" xlink:actuate=\"onRequest\" xlink:href=\"psysml:c2eaf658-adee-4a19-a83e-00cce7f1793f\" xlink:show=\"new\" xlink:title=\"psysml:c2eaf658-adee-4a19-a83e-00cce7f1793f\" xlink:type=\"simple\"><rect fill=\"#FEFECE\" filter=\"url(#f1j2w059aotdsf)\" height=\"45.9375\" id=\"E5\" rx=\"10\" ry=\"10\" style=\"stroke: #A80036; stroke-width: 1.5;\" width=\"68\" x=\"32\" y=\"147\"/><ellipse cx=\"47\" cy=\"165.9688\" fill=\"#32CD32\" rx=\"11\" ry=\"11\" style=\"stroke: #A80036; stroke-width: 1.0;\"/><path d=\"M46.7969,161.6406 L46.7969,165.2656 L47.7969,165.2656 Q49,165.2656 49.4844,164.8594 Q49.9688,164.4531 49.9688,163.4531 Q49.9688,162.4531 49.4844,162.0469 Q49,161.6406 47.7969,161.6406 L46.7969,161.6406 Z M44.3438,159.5781 L47.7031,159.5781 Q50.2656,159.5781 51.3906,160.5 Q52.5156,161.4063 52.5156,163.4531 Q52.5156,165.5 51.3906,166.4219 Q50.2656,167.3281 47.7031,167.3281 L46.7969,167.3281 L46.7969,171.9688 L44.3438,171.9688 L44.3438,159.5781 Z \"/><text fill=\"#000000\" font-family=\"sans-serif\" font-size=\"12\" font-style=\"italic\" lengthAdjust=\"spacingAndGlyphs\" textLength=\"40\" x=\"59\" y=\"163.1387\">«part»</text><text fill=\"#000000\" font-family=\"sans-serif\" font-size=\"12\" lengthAdjust=\"spacingAndGlyphs\" textLength=\"8\" x=\"75\" y=\"177.1074\">g</text><line style=\"stroke: #A80036; stroke-width: 1.5;\" x1=\"33\" x2=\"99\" y1=\"184.9375\" y2=\"184.9375\"/></a><!--MD5=[209b3feb70ccb6233bfe1053d122c12c]\n",
       "reverse link E2 to E3--><a href=\"psysml:05544d0a-8d7e-4ac4-8a38-1321d7df08dd\" target=\"_top\" title=\"psysml:05544d0a-8d7e-4ac4-8a38-1321d7df08dd\" xlink:actuate=\"onRequest\" xlink:href=\"psysml:05544d0a-8d7e-4ac4-8a38-1321d7df08dd\" xlink:show=\"new\" xlink:title=\"psysml:05544d0a-8d7e-4ac4-8a38-1321d7df08dd\" xlink:type=\"simple\"><path d=\"M169,100.44 C169,115.87 169,133.47 169,146.98 \" fill=\"none\" id=\"E2&lt;-E3\" style=\"stroke: #A80036; stroke-width: 1.0;\"/><polygon fill=\"#A80036\" points=\"169,87.06,165,93.06,169,99.06,173,93.06,169,87.06\" style=\"stroke: #A80036; stroke-width: 1.0;\"/></a><!--MD5=[62aa6af11e70f752912c1cb0466f24f7]\n",
       "reverse link E4 to E5--><a href=\"psysml:c2eaf658-adee-4a19-a83e-00cce7f1793f\" target=\"_top\" title=\"psysml:c2eaf658-adee-4a19-a83e-00cce7f1793f\" xlink:actuate=\"onRequest\" xlink:href=\"psysml:c2eaf658-adee-4a19-a83e-00cce7f1793f\" xlink:show=\"new\" xlink:title=\"psysml:c2eaf658-adee-4a19-a83e-00cce7f1793f\" xlink:type=\"simple\"><path d=\"M66,97.25 C66,113.33 66,132.37 66,146.8 \" fill=\"none\" id=\"E4&lt;-E5\" style=\"stroke: #A80036; stroke-width: 1.0;\"/><polygon fill=\"#A80036\" points=\"66,84.08,62,90.08,66,96.08,70,90.08,66,84.08\" style=\"stroke: #A80036; stroke-width: 1.0;\"/></a><!--MD5=[ae151ab2e96a4f05867705507dab3a84]\n",
       "@startuml\r\n",
       " \r\n",
       "package \"Q\" as E1  [[psysml:e7978fe0-b69e-4191-a6c6-ff9a405cd716 ]]  {\r\n",
       "comp usage \"f\" as E2  << (P,limegreen) part>> [[psysml:d69286fc-6be9-4686-bca9-82760e97d021 ]] {\r\n",
       "}\r\n",
       "comp usage \"a\" as E3  << (P,limegreen) part>> [[psysml:05544d0a-8d7e-4ac4-8a38-1321d7df08dd ]] {\r\n",
       "}\r\n",
       "comp def \"C\" as E4  << (B,green) >> [[psysml:6e0f0160-dcde-436d-afd9-a7845bbec9b5 ]] {\r\n",
       "}\r\n",
       "comp usage \"g\" as E5  << (P,limegreen) part>> [[psysml:c2eaf658-adee-4a19-a83e-00cce7f1793f ]] {\r\n",
       "}\r\n",
       "E2 *- - E3 [[psysml:05544d0a-8d7e-4ac4-8a38-1321d7df08dd ]] \r\n",
       "E4 *- - E5 [[psysml:c2eaf658-adee-4a19-a83e-00cce7f1793f ]] \r\n",
       "}\r\n",
       "@enduml\r\n",
       "\n",
       "PlantUML version 1.2020.13(Sat Jun 13 12:26:38 UTC 2020)\n",
       "(EPL source distribution)\n",
       "Java Runtime: OpenJDK Runtime Environment\n",
       "JVM: OpenJDK 64-Bit Server VM\n",
       "Default Encoding: UTF-8\n",
       "Language: en\n",
       "Country: null\n",
       "--></g></svg>"
      ]
     },
     "execution_count": 36,
     "metadata": {},
     "output_type": "execute_result"
    }
   ],
   "source": [
    "%viz --style=\"PLANTUML\" --view=\"MIXED\" \"Q\""
   ]
  },
  {
   "cell_type": "code",
   "execution_count": 37,
   "id": "ancient-thesis",
   "metadata": {
    "execution": {
     "iopub.execute_input": "2021-03-26T09:12:07.896030Z",
     "iopub.status.busy": "2021-03-26T09:12:07.895383Z",
     "iopub.status.idle": "2021-03-26T09:12:07.923493Z",
     "shell.execute_reply": "2021-03-26T09:12:07.922407Z"
    }
   },
   "outputs": [
    {
     "data": {
      "image/svg+xml": [
       "<?xml version=\"1.0\" encoding=\"UTF-8\" standalone=\"no\"?><svg xmlns=\"http://www.w3.org/2000/svg\" xmlns:xlink=\"http://www.w3.org/1999/xlink\" contentScriptType=\"application/ecmascript\" contentStyleType=\"text/css\" height=\"221px\" preserveAspectRatio=\"none\" style=\"width:213px;height:221px;\" version=\"1.1\" viewBox=\"0 0 213 221\" width=\"213px\" zoomAndPan=\"magnify\"><defs/><g><!--MD5=[fbc87193dbaf4d95561dea2c320d4a47]\n",
       "cluster E1--><a href=\"psysml:e7978fe0-b69e-4191-a6c6-ff9a405cd716\" target=\"_top\" title=\"psysml:e7978fe0-b69e-4191-a6c6-ff9a405cd716\" xlink:actuate=\"onRequest\" xlink:href=\"psysml:e7978fe0-b69e-4191-a6c6-ff9a405cd716\" xlink:show=\"new\" xlink:title=\"psysml:e7978fe0-b69e-4191-a6c6-ff9a405cd716\" xlink:type=\"simple\"><polygon fill=\"#FFFFFF\" points=\"16,6,34,6,41,28.2969,191,28.2969,191,209,16,209,16,6\" style=\"stroke: #000000; stroke-width: 1.5;\"/><line style=\"stroke: #000000; stroke-width: 1.5;\" x1=\"16\" x2=\"41\" y1=\"28.2969\" y2=\"28.2969\"/><text fill=\"#000000\" font-family=\"sans-serif\" font-size=\"14\" font-weight=\"bold\" lengthAdjust=\"spacingAndGlyphs\" textLength=\"12\" x=\"20\" y=\"20.9951\">Q</text></a><!--MD5=[b4997ac47864f28c2f74865a473b2911]\n",
       "class E2--><a href=\"psysml:d69286fc-6be9-4686-bca9-82760e97d021\" target=\"_top\" title=\"psysml:d69286fc-6be9-4686-bca9-82760e97d021\" xlink:actuate=\"onRequest\" xlink:href=\"psysml:d69286fc-6be9-4686-bca9-82760e97d021\" xlink:show=\"new\" xlink:title=\"psysml:d69286fc-6be9-4686-bca9-82760e97d021\" xlink:type=\"simple\"><rect fill=\"#FFFFFF\" height=\"45.9375\" id=\"E2\" rx=\"10\" ry=\"10\" style=\"stroke: #383838; stroke-width: 1.5;\" width=\"42\" x=\"133\" y=\"41\"/><text fill=\"#000000\" font-family=\"sans-serif\" font-size=\"12\" font-style=\"italic\" lengthAdjust=\"spacingAndGlyphs\" textLength=\"40\" x=\"134\" y=\"57.1387\">«part»</text><text fill=\"#000000\" font-family=\"sans-serif\" font-size=\"12\" lengthAdjust=\"spacingAndGlyphs\" textLength=\"4\" x=\"152\" y=\"71.1074\">f</text><line style=\"stroke: #383838; stroke-width: 1.5;\" x1=\"134\" x2=\"174\" y1=\"78.9375\" y2=\"78.9375\"/></a><!--MD5=[09b614a08d8cba4a07c9adeb5e0fee81]\n",
       "class E3--><a href=\"psysml:05544d0a-8d7e-4ac4-8a38-1321d7df08dd\" target=\"_top\" title=\"psysml:05544d0a-8d7e-4ac4-8a38-1321d7df08dd\" xlink:actuate=\"onRequest\" xlink:href=\"psysml:05544d0a-8d7e-4ac4-8a38-1321d7df08dd\" xlink:show=\"new\" xlink:title=\"psysml:05544d0a-8d7e-4ac4-8a38-1321d7df08dd\" xlink:type=\"simple\"><rect fill=\"#FFFFFF\" height=\"45.9375\" id=\"E3\" rx=\"10\" ry=\"10\" style=\"stroke: #383838; stroke-width: 1.5;\" width=\"42\" x=\"133\" y=\"147\"/><text fill=\"#000000\" font-family=\"sans-serif\" font-size=\"12\" font-style=\"italic\" lengthAdjust=\"spacingAndGlyphs\" textLength=\"40\" x=\"134\" y=\"163.1387\">«part»</text><text fill=\"#000000\" font-family=\"sans-serif\" font-size=\"12\" lengthAdjust=\"spacingAndGlyphs\" textLength=\"8\" x=\"150\" y=\"177.1074\">a</text><line style=\"stroke: #383838; stroke-width: 1.5;\" x1=\"134\" x2=\"174\" y1=\"184.9375\" y2=\"184.9375\"/></a><!--MD5=[ebbe1d658d1005bcc118a6aa81145e00]\n",
       "class E4--><a href=\"psysml:6e0f0160-dcde-436d-afd9-a7845bbec9b5\" target=\"_top\" title=\"psysml:6e0f0160-dcde-436d-afd9-a7845bbec9b5\" xlink:actuate=\"onRequest\" xlink:href=\"psysml:6e0f0160-dcde-436d-afd9-a7845bbec9b5\" xlink:show=\"new\" xlink:title=\"psysml:6e0f0160-dcde-436d-afd9-a7845bbec9b5\" xlink:type=\"simple\"><rect fill=\"#FFFFFF\" height=\"45.9375\" id=\"E4\" style=\"stroke: #383838; stroke-width: 1.5;\" width=\"66\" x=\"32\" y=\"41\"/><text fill=\"#000000\" font-family=\"sans-serif\" font-size=\"12\" font-style=\"italic\" lengthAdjust=\"spacingAndGlyphs\" textLength=\"64\" x=\"33\" y=\"57.1387\">«part def»</text><text fill=\"#000000\" font-family=\"sans-serif\" font-size=\"12\" lengthAdjust=\"spacingAndGlyphs\" textLength=\"8\" x=\"61\" y=\"71.1074\">C</text><line style=\"stroke: #383838; stroke-width: 1.5;\" x1=\"33\" x2=\"97\" y1=\"78.9375\" y2=\"78.9375\"/></a><!--MD5=[270fce915f116d4de14055a7c1d9a0f3]\n",
       "class E5--><a href=\"psysml:c2eaf658-adee-4a19-a83e-00cce7f1793f\" target=\"_top\" title=\"psysml:c2eaf658-adee-4a19-a83e-00cce7f1793f\" xlink:actuate=\"onRequest\" xlink:href=\"psysml:c2eaf658-adee-4a19-a83e-00cce7f1793f\" xlink:show=\"new\" xlink:title=\"psysml:c2eaf658-adee-4a19-a83e-00cce7f1793f\" xlink:type=\"simple\"><rect fill=\"#FFFFFF\" height=\"45.9375\" id=\"E5\" rx=\"10\" ry=\"10\" style=\"stroke: #383838; stroke-width: 1.5;\" width=\"42\" x=\"44\" y=\"147\"/><text fill=\"#000000\" font-family=\"sans-serif\" font-size=\"12\" font-style=\"italic\" lengthAdjust=\"spacingAndGlyphs\" textLength=\"40\" x=\"45\" y=\"163.1387\">«part»</text><text fill=\"#000000\" font-family=\"sans-serif\" font-size=\"12\" lengthAdjust=\"spacingAndGlyphs\" textLength=\"8\" x=\"61\" y=\"177.1074\">g</text><line style=\"stroke: #383838; stroke-width: 1.5;\" x1=\"45\" x2=\"85\" y1=\"184.9375\" y2=\"184.9375\"/></a><!--MD5=[209b3feb70ccb6233bfe1053d122c12c]\n",
       "reverse link E2 to E3--><a href=\"psysml:05544d0a-8d7e-4ac4-8a38-1321d7df08dd\" target=\"_top\" title=\"psysml:05544d0a-8d7e-4ac4-8a38-1321d7df08dd\" xlink:actuate=\"onRequest\" xlink:href=\"psysml:05544d0a-8d7e-4ac4-8a38-1321d7df08dd\" xlink:show=\"new\" xlink:title=\"psysml:05544d0a-8d7e-4ac4-8a38-1321d7df08dd\" xlink:type=\"simple\"><path d=\"M154,100.44 C154,115.87 154,133.47 154,146.98 \" fill=\"none\" id=\"E2&lt;-E3\" style=\"stroke: #383838; stroke-width: 1.0;\"/><polygon fill=\"#383838\" points=\"154,87.06,150,93.06,154,99.06,158,93.06,154,87.06\" style=\"stroke: #383838; stroke-width: 1.0;\"/></a><!--MD5=[62aa6af11e70f752912c1cb0466f24f7]\n",
       "reverse link E4 to E5--><a href=\"psysml:c2eaf658-adee-4a19-a83e-00cce7f1793f\" target=\"_top\" title=\"psysml:c2eaf658-adee-4a19-a83e-00cce7f1793f\" xlink:actuate=\"onRequest\" xlink:href=\"psysml:c2eaf658-adee-4a19-a83e-00cce7f1793f\" xlink:show=\"new\" xlink:title=\"psysml:c2eaf658-adee-4a19-a83e-00cce7f1793f\" xlink:type=\"simple\"><path d=\"M65,100.44 C65,115.87 65,133.47 65,146.98 \" fill=\"none\" id=\"E4&lt;-E5\" style=\"stroke: #383838; stroke-width: 1.0;\"/><polygon fill=\"#383838\" points=\"65,87.06,61,93.06,65,99.06,69,93.06,65,87.06\" style=\"stroke: #383838; stroke-width: 1.0;\"/></a><!--MD5=[8e1618aae36c97bc956b170dbf9136da]\n",
       "@startuml\r\n",
       "skinparam monochrome true\r\n",
       "skinparam classbackgroundcolor white\r\n",
       "skinparam shadowing false\r\n",
       "skinparam wrapWidth 300\r\n",
       "hide circle\r\n",
       "\r\n",
       "package \"Q\" as E1  [[psysml:e7978fe0-b69e-4191-a6c6-ff9a405cd716 ]]  {\r\n",
       "comp usage \"f\" as E2  <<(T,blue)part>> [[psysml:d69286fc-6be9-4686-bca9-82760e97d021 ]] {\r\n",
       "}\r\n",
       "comp usage \"a\" as E3  <<(T,blue)part>> [[psysml:05544d0a-8d7e-4ac4-8a38-1321d7df08dd ]] {\r\n",
       "}\r\n",
       "comp def \"C\" as E4  <<(T,blue)part def>> [[psysml:6e0f0160-dcde-436d-afd9-a7845bbec9b5 ]] {\r\n",
       "}\r\n",
       "comp usage \"g\" as E5  <<(T,blue)part>> [[psysml:c2eaf658-adee-4a19-a83e-00cce7f1793f ]] {\r\n",
       "}\r\n",
       "E2 *- - E3 [[psysml:05544d0a-8d7e-4ac4-8a38-1321d7df08dd ]] \r\n",
       "E4 *- - E5 [[psysml:c2eaf658-adee-4a19-a83e-00cce7f1793f ]] \r\n",
       "}\r\n",
       "@enduml\r\n",
       "\n",
       "PlantUML version 1.2020.13(Sat Jun 13 12:26:38 UTC 2020)\n",
       "(EPL source distribution)\n",
       "Java Runtime: OpenJDK Runtime Environment\n",
       "JVM: OpenJDK 64-Bit Server VM\n",
       "Default Encoding: UTF-8\n",
       "Language: en\n",
       "Country: null\n",
       "--></g></svg>"
      ]
     },
     "execution_count": 37,
     "metadata": {},
     "output_type": "execute_result"
    }
   ],
   "source": [
    "%viz --style=\"DEFAULT\" --view=\"Default\" \"Q\""
   ]
  },
  {
   "cell_type": "code",
   "execution_count": 38,
   "id": "veterinary-concord",
   "metadata": {
    "execution": {
     "iopub.execute_input": "2021-03-26T09:12:07.979988Z",
     "iopub.status.busy": "2021-03-26T09:12:07.977796Z",
     "iopub.status.idle": "2021-03-26T09:12:08.009005Z",
     "shell.execute_reply": "2021-03-26T09:12:08.007937Z"
    }
   },
   "outputs": [
    {
     "data": {
      "image/svg+xml": [
       "<?xml version=\"1.0\" encoding=\"UTF-8\" standalone=\"no\"?><svg xmlns=\"http://www.w3.org/2000/svg\" xmlns:xlink=\"http://www.w3.org/1999/xlink\" contentScriptType=\"application/ecmascript\" contentStyleType=\"text/css\" height=\"221px\" preserveAspectRatio=\"none\" style=\"width:213px;height:221px;\" version=\"1.1\" viewBox=\"0 0 213 221\" width=\"213px\" zoomAndPan=\"magnify\"><defs/><g><!--MD5=[fbc87193dbaf4d95561dea2c320d4a47]\n",
       "cluster E1--><a href=\"psysml:e7978fe0-b69e-4191-a6c6-ff9a405cd716\" target=\"_top\" title=\"psysml:e7978fe0-b69e-4191-a6c6-ff9a405cd716\" xlink:actuate=\"onRequest\" xlink:href=\"psysml:e7978fe0-b69e-4191-a6c6-ff9a405cd716\" xlink:show=\"new\" xlink:title=\"psysml:e7978fe0-b69e-4191-a6c6-ff9a405cd716\" xlink:type=\"simple\"><polygon fill=\"#FFFFFF\" points=\"16,6,34,6,41,28.2969,191,28.2969,191,209,16,209,16,6\" style=\"stroke: #000000; stroke-width: 1.5;\"/><line style=\"stroke: #000000; stroke-width: 1.5;\" x1=\"16\" x2=\"41\" y1=\"28.2969\" y2=\"28.2969\"/><text fill=\"#000000\" font-family=\"sans-serif\" font-size=\"14\" font-weight=\"bold\" lengthAdjust=\"spacingAndGlyphs\" textLength=\"12\" x=\"20\" y=\"20.9951\">Q</text></a><!--MD5=[b4997ac47864f28c2f74865a473b2911]\n",
       "class E2--><a href=\"psysml:d69286fc-6be9-4686-bca9-82760e97d021\" target=\"_top\" title=\"psysml:d69286fc-6be9-4686-bca9-82760e97d021\" xlink:actuate=\"onRequest\" xlink:href=\"psysml:d69286fc-6be9-4686-bca9-82760e97d021\" xlink:show=\"new\" xlink:title=\"psysml:d69286fc-6be9-4686-bca9-82760e97d021\" xlink:type=\"simple\"><rect fill=\"#FFFFFF\" height=\"45.9375\" id=\"E2\" rx=\"10\" ry=\"10\" style=\"stroke: #383838; stroke-width: 1.5;\" width=\"42\" x=\"133\" y=\"41\"/><text fill=\"#000000\" font-family=\"sans-serif\" font-size=\"12\" font-style=\"italic\" lengthAdjust=\"spacingAndGlyphs\" textLength=\"40\" x=\"134\" y=\"57.1387\">«part»</text><text fill=\"#000000\" font-family=\"sans-serif\" font-size=\"12\" lengthAdjust=\"spacingAndGlyphs\" textLength=\"4\" x=\"152\" y=\"71.1074\">f</text><line style=\"stroke: #383838; stroke-width: 1.5;\" x1=\"134\" x2=\"174\" y1=\"78.9375\" y2=\"78.9375\"/></a><!--MD5=[09b614a08d8cba4a07c9adeb5e0fee81]\n",
       "class E3--><a href=\"psysml:05544d0a-8d7e-4ac4-8a38-1321d7df08dd\" target=\"_top\" title=\"psysml:05544d0a-8d7e-4ac4-8a38-1321d7df08dd\" xlink:actuate=\"onRequest\" xlink:href=\"psysml:05544d0a-8d7e-4ac4-8a38-1321d7df08dd\" xlink:show=\"new\" xlink:title=\"psysml:05544d0a-8d7e-4ac4-8a38-1321d7df08dd\" xlink:type=\"simple\"><rect fill=\"#FFFFFF\" height=\"45.9375\" id=\"E3\" rx=\"10\" ry=\"10\" style=\"stroke: #383838; stroke-width: 1.5;\" width=\"42\" x=\"133\" y=\"147\"/><text fill=\"#000000\" font-family=\"sans-serif\" font-size=\"12\" font-style=\"italic\" lengthAdjust=\"spacingAndGlyphs\" textLength=\"40\" x=\"134\" y=\"163.1387\">«part»</text><text fill=\"#000000\" font-family=\"sans-serif\" font-size=\"12\" lengthAdjust=\"spacingAndGlyphs\" textLength=\"8\" x=\"150\" y=\"177.1074\">a</text><line style=\"stroke: #383838; stroke-width: 1.5;\" x1=\"134\" x2=\"174\" y1=\"184.9375\" y2=\"184.9375\"/></a><!--MD5=[ebbe1d658d1005bcc118a6aa81145e00]\n",
       "class E4--><a href=\"psysml:6e0f0160-dcde-436d-afd9-a7845bbec9b5\" target=\"_top\" title=\"psysml:6e0f0160-dcde-436d-afd9-a7845bbec9b5\" xlink:actuate=\"onRequest\" xlink:href=\"psysml:6e0f0160-dcde-436d-afd9-a7845bbec9b5\" xlink:show=\"new\" xlink:title=\"psysml:6e0f0160-dcde-436d-afd9-a7845bbec9b5\" xlink:type=\"simple\"><rect fill=\"#FFFFFF\" height=\"45.9375\" id=\"E4\" style=\"stroke: #383838; stroke-width: 1.5;\" width=\"66\" x=\"32\" y=\"41\"/><text fill=\"#000000\" font-family=\"sans-serif\" font-size=\"12\" font-style=\"italic\" lengthAdjust=\"spacingAndGlyphs\" textLength=\"64\" x=\"33\" y=\"57.1387\">«part def»</text><text fill=\"#000000\" font-family=\"sans-serif\" font-size=\"12\" lengthAdjust=\"spacingAndGlyphs\" textLength=\"8\" x=\"61\" y=\"71.1074\">C</text><line style=\"stroke: #383838; stroke-width: 1.5;\" x1=\"33\" x2=\"97\" y1=\"78.9375\" y2=\"78.9375\"/></a><!--MD5=[270fce915f116d4de14055a7c1d9a0f3]\n",
       "class E5--><a href=\"psysml:c2eaf658-adee-4a19-a83e-00cce7f1793f\" target=\"_top\" title=\"psysml:c2eaf658-adee-4a19-a83e-00cce7f1793f\" xlink:actuate=\"onRequest\" xlink:href=\"psysml:c2eaf658-adee-4a19-a83e-00cce7f1793f\" xlink:show=\"new\" xlink:title=\"psysml:c2eaf658-adee-4a19-a83e-00cce7f1793f\" xlink:type=\"simple\"><rect fill=\"#FFFFFF\" height=\"45.9375\" id=\"E5\" rx=\"10\" ry=\"10\" style=\"stroke: #383838; stroke-width: 1.5;\" width=\"42\" x=\"44\" y=\"147\"/><text fill=\"#000000\" font-family=\"sans-serif\" font-size=\"12\" font-style=\"italic\" lengthAdjust=\"spacingAndGlyphs\" textLength=\"40\" x=\"45\" y=\"163.1387\">«part»</text><text fill=\"#000000\" font-family=\"sans-serif\" font-size=\"12\" lengthAdjust=\"spacingAndGlyphs\" textLength=\"8\" x=\"61\" y=\"177.1074\">g</text><line style=\"stroke: #383838; stroke-width: 1.5;\" x1=\"45\" x2=\"85\" y1=\"184.9375\" y2=\"184.9375\"/></a><!--MD5=[209b3feb70ccb6233bfe1053d122c12c]\n",
       "reverse link E2 to E3--><a href=\"psysml:05544d0a-8d7e-4ac4-8a38-1321d7df08dd\" target=\"_top\" title=\"psysml:05544d0a-8d7e-4ac4-8a38-1321d7df08dd\" xlink:actuate=\"onRequest\" xlink:href=\"psysml:05544d0a-8d7e-4ac4-8a38-1321d7df08dd\" xlink:show=\"new\" xlink:title=\"psysml:05544d0a-8d7e-4ac4-8a38-1321d7df08dd\" xlink:type=\"simple\"><path d=\"M154,100.44 C154,115.87 154,133.47 154,146.98 \" fill=\"none\" id=\"E2&lt;-E3\" style=\"stroke: #383838; stroke-width: 1.0;\"/><polygon fill=\"#383838\" points=\"154,87.06,150,93.06,154,99.06,158,93.06,154,87.06\" style=\"stroke: #383838; stroke-width: 1.0;\"/></a><!--MD5=[62aa6af11e70f752912c1cb0466f24f7]\n",
       "reverse link E4 to E5--><a href=\"psysml:c2eaf658-adee-4a19-a83e-00cce7f1793f\" target=\"_top\" title=\"psysml:c2eaf658-adee-4a19-a83e-00cce7f1793f\" xlink:actuate=\"onRequest\" xlink:href=\"psysml:c2eaf658-adee-4a19-a83e-00cce7f1793f\" xlink:show=\"new\" xlink:title=\"psysml:c2eaf658-adee-4a19-a83e-00cce7f1793f\" xlink:type=\"simple\"><path d=\"M65,100.44 C65,115.87 65,133.47 65,146.98 \" fill=\"none\" id=\"E4&lt;-E5\" style=\"stroke: #383838; stroke-width: 1.0;\"/><polygon fill=\"#383838\" points=\"65,87.06,61,93.06,65,99.06,69,93.06,65,87.06\" style=\"stroke: #383838; stroke-width: 1.0;\"/></a><!--MD5=[8e1618aae36c97bc956b170dbf9136da]\n",
       "@startuml\r\n",
       "skinparam monochrome true\r\n",
       "skinparam classbackgroundcolor white\r\n",
       "skinparam shadowing false\r\n",
       "skinparam wrapWidth 300\r\n",
       "hide circle\r\n",
       "\r\n",
       "package \"Q\" as E1  [[psysml:e7978fe0-b69e-4191-a6c6-ff9a405cd716 ]]  {\r\n",
       "comp usage \"f\" as E2  <<(T,blue)part>> [[psysml:d69286fc-6be9-4686-bca9-82760e97d021 ]] {\r\n",
       "}\r\n",
       "comp usage \"a\" as E3  <<(T,blue)part>> [[psysml:05544d0a-8d7e-4ac4-8a38-1321d7df08dd ]] {\r\n",
       "}\r\n",
       "comp def \"C\" as E4  <<(T,blue)part def>> [[psysml:6e0f0160-dcde-436d-afd9-a7845bbec9b5 ]] {\r\n",
       "}\r\n",
       "comp usage \"g\" as E5  <<(T,blue)part>> [[psysml:c2eaf658-adee-4a19-a83e-00cce7f1793f ]] {\r\n",
       "}\r\n",
       "E2 *- - E3 [[psysml:05544d0a-8d7e-4ac4-8a38-1321d7df08dd ]] \r\n",
       "E4 *- - E5 [[psysml:c2eaf658-adee-4a19-a83e-00cce7f1793f ]] \r\n",
       "}\r\n",
       "@enduml\r\n",
       "\n",
       "PlantUML version 1.2020.13(Sat Jun 13 12:26:38 UTC 2020)\n",
       "(EPL source distribution)\n",
       "Java Runtime: OpenJDK Runtime Environment\n",
       "JVM: OpenJDK 64-Bit Server VM\n",
       "Default Encoding: UTF-8\n",
       "Language: en\n",
       "Country: null\n",
       "--></g></svg>"
      ]
     },
     "execution_count": 38,
     "metadata": {},
     "output_type": "execute_result"
    }
   ],
   "source": [
    "%viz --style=\"DEFAULT\" --view=\"Tree\" \"Q\""
   ]
  },
  {
   "cell_type": "code",
   "execution_count": 39,
   "id": "european-lunch",
   "metadata": {
    "execution": {
     "iopub.execute_input": "2021-03-26T09:12:08.059178Z",
     "iopub.status.busy": "2021-03-26T09:12:08.058306Z",
     "iopub.status.idle": "2021-03-26T09:12:08.065250Z",
     "shell.execute_reply": "2021-03-26T09:12:08.064888Z"
    }
   },
   "outputs": [
    {
     "data": {
      "image/svg+xml": [
       "<?xml version=\"1.0\" encoding=\"UTF-8\" standalone=\"no\"?><svg xmlns=\"http://www.w3.org/2000/svg\" xmlns:xlink=\"http://www.w3.org/1999/xlink\" contentScriptType=\"application/ecmascript\" contentStyleType=\"text/css\" height=\"12px\" preserveAspectRatio=\"none\" style=\"width:12px;height:12px;\" version=\"1.1\" viewBox=\"0 0 12 12\" width=\"12px\" zoomAndPan=\"magnify\"><defs/><g><!--MD5=[c5f280e076d0d61ccf4b0f27871bda1d]\n",
       "@startuml\r\n",
       "skinparam monochrome true\r\n",
       "skinparam classbackgroundcolor white\r\n",
       "skinparam shadowing false\r\n",
       "skinparam wrapWidth 300\r\n",
       "hide circle\r\n",
       "\r\n",
       "@enduml\r\n",
       "\n",
       "PlantUML version 1.2020.13(Sat Jun 13 12:26:38 UTC 2020)\n",
       "(EPL source distribution)\n",
       "Java Runtime: OpenJDK Runtime Environment\n",
       "JVM: OpenJDK 64-Bit Server VM\n",
       "Default Encoding: UTF-8\n",
       "Language: en\n",
       "Country: null\n",
       "--></g></svg>"
      ]
     },
     "execution_count": 39,
     "metadata": {},
     "output_type": "execute_result"
    }
   ],
   "source": [
    "%viz --style=\"DEFAULT\" --view=\"State\" \"Q\""
   ]
  },
  {
   "cell_type": "code",
   "execution_count": 40,
   "id": "injured-dealing",
   "metadata": {
    "execution": {
     "iopub.execute_input": "2021-03-26T09:12:08.116909Z",
     "iopub.status.busy": "2021-03-26T09:12:08.116432Z",
     "iopub.status.idle": "2021-03-26T09:12:08.140868Z",
     "shell.execute_reply": "2021-03-26T09:12:08.139693Z"
    }
   },
   "outputs": [
    {
     "data": {
      "image/svg+xml": [
       "<?xml version=\"1.0\" encoding=\"UTF-8\" standalone=\"no\"?><svg xmlns=\"http://www.w3.org/2000/svg\" xmlns:xlink=\"http://www.w3.org/1999/xlink\" contentScriptType=\"application/ecmascript\" contentStyleType=\"text/css\" height=\"192px\" preserveAspectRatio=\"none\" style=\"width:279px;height:192px;\" version=\"1.1\" viewBox=\"0 0 279 192\" width=\"279px\" zoomAndPan=\"magnify\"><defs/><g><!--MD5=[fbc87193dbaf4d95561dea2c320d4a47]\n",
       "cluster E1--><a href=\"psysml:e7978fe0-b69e-4191-a6c6-ff9a405cd716\" target=\"_top\" title=\"psysml:e7978fe0-b69e-4191-a6c6-ff9a405cd716\" xlink:actuate=\"onRequest\" xlink:href=\"psysml:e7978fe0-b69e-4191-a6c6-ff9a405cd716\" xlink:show=\"new\" xlink:title=\"psysml:e7978fe0-b69e-4191-a6c6-ff9a405cd716\" xlink:type=\"simple\"><polygon fill=\"#FFFFFF\" points=\"16,6,34,6,41,28.2969,257,28.2969,257,180,16,180,16,6\" style=\"stroke: #000000; stroke-width: 1.5;\"/><line style=\"stroke: #000000; stroke-width: 1.5;\" x1=\"16\" x2=\"41\" y1=\"28.2969\" y2=\"28.2969\"/><text fill=\"#000000\" font-family=\"sans-serif\" font-size=\"14\" font-weight=\"bold\" lengthAdjust=\"spacingAndGlyphs\" textLength=\"12\" x=\"20\" y=\"20.9951\">Q</text></a><!--MD5=[e4f7fae6ed58524ba242bb0b0d3be6b7]\n",
       "cluster E2--><a href=\"psysml:d69286fc-6be9-4686-bca9-82760e97d021\" target=\"_top\" title=\"psysml:d69286fc-6be9-4686-bca9-82760e97d021\" xlink:actuate=\"onRequest\" xlink:href=\"psysml:d69286fc-6be9-4686-bca9-82760e97d021\" xlink:show=\"new\" xlink:title=\"psysml:d69286fc-6be9-4686-bca9-82760e97d021\" xlink:type=\"simple\"><rect fill=\"#FFFFFF\" height=\"91\" id=\"E2\" rx=\"10\" ry=\"10\" style=\"stroke: #383838; stroke-width: 1.5;\" width=\"82\" x=\"151\" y=\"65\"/><rect fill=\"#F8F8F8\" height=\"23.9688\" rx=\"10\" ry=\"10\" style=\"stroke: #F8F8F8; stroke-width: 1.5;\" width=\"82\" x=\"151\" y=\"65\"/><rect fill=\"#F8F8F8\" height=\"10\" style=\"stroke: #F8F8F8; stroke-width: 1.5;\" width=\"82\" x=\"151\" y=\"78.9688\"/><rect fill=\"none\" height=\"91\" id=\"E2\" rx=\"10\" ry=\"10\" style=\"stroke: #383838; stroke-width: 1.5;\" width=\"82\" x=\"151\" y=\"65\"/><text fill=\"#000000\" font-family=\"sans-serif\" font-size=\"12\" lengthAdjust=\"spacingAndGlyphs\" textLength=\"4\" x=\"190\" y=\"81.1387\">f</text><line style=\"stroke: #383838; stroke-width: 1.0;\" x1=\"151\" x2=\"233\" y1=\"88.9688\" y2=\"88.9688\"/></a><!--MD5=[f6df4d0ebaf0b5dfb2ced0ae5af7c670]\n",
       "cluster E4--><a href=\"psysml:6e0f0160-dcde-436d-afd9-a7845bbec9b5\" target=\"_top\" title=\"psysml:6e0f0160-dcde-436d-afd9-a7845bbec9b5\" xlink:actuate=\"onRequest\" xlink:href=\"psysml:6e0f0160-dcde-436d-afd9-a7845bbec9b5\" xlink:show=\"new\" xlink:title=\"psysml:6e0f0160-dcde-436d-afd9-a7845bbec9b5\" xlink:type=\"simple\"><rect fill=\"#FFFFFF\" height=\"107\" id=\"E4\" style=\"stroke: #383838; stroke-width: 1.5;\" width=\"87\" x=\"40\" y=\"49\"/><rect fill=\"#F8F8F8\" height=\"37.9375\" style=\"stroke: #383838; stroke-width: 1.5;\" width=\"87\" x=\"40\" y=\"49\"/><text fill=\"#000000\" font-family=\"sans-serif\" font-size=\"12\" font-style=\"italic\" lengthAdjust=\"spacingAndGlyphs\" textLength=\"64\" x=\"51.5\" y=\"65.1387\">«part def»</text><text fill=\"#000000\" font-family=\"sans-serif\" font-size=\"12\" lengthAdjust=\"spacingAndGlyphs\" textLength=\"8\" x=\"79.5\" y=\"79.1074\">C</text></a><g id=\"E1.E2.E3\"><a href=\"psysml:05544d0a-8d7e-4ac4-8a38-1321d7df08dd\" target=\"_top\" title=\"psysml:05544d0a-8d7e-4ac4-8a38-1321d7df08dd\" xlink:actuate=\"onRequest\" xlink:href=\"psysml:05544d0a-8d7e-4ac4-8a38-1321d7df08dd\" xlink:show=\"new\" xlink:title=\"psysml:05544d0a-8d7e-4ac4-8a38-1321d7df08dd\" xlink:type=\"simple\"><rect fill=\"#FFFFFF\" height=\"40\" id=\"E3\" rx=\"10\" ry=\"10\" style=\"stroke: #383838; stroke-width: 1.5;\" width=\"50\" x=\"167\" y=\"100\"/><rect fill=\"#F8F8F8\" height=\"23.9688\" rx=\"10\" ry=\"10\" style=\"stroke: #F8F8F8; stroke-width: 1.5;\" width=\"50\" x=\"167\" y=\"100\"/><rect fill=\"#F8F8F8\" height=\"10\" style=\"stroke: #F8F8F8; stroke-width: 1.5;\" width=\"50\" x=\"167\" y=\"113.9688\"/><rect fill=\"none\" height=\"40\" id=\"E3\" rx=\"10\" ry=\"10\" style=\"stroke: #383838; stroke-width: 1.5;\" width=\"50\" x=\"167\" y=\"100\"/><text fill=\"#000000\" font-family=\"sans-serif\" font-size=\"12\" lengthAdjust=\"spacingAndGlyphs\" textLength=\"8\" x=\"188\" y=\"116.1387\">a</text></a></g><g id=\"E1.E4.E5\"><a href=\"psysml:c2eaf658-adee-4a19-a83e-00cce7f1793f\" target=\"_top\" title=\"psysml:c2eaf658-adee-4a19-a83e-00cce7f1793f\" xlink:actuate=\"onRequest\" xlink:href=\"psysml:c2eaf658-adee-4a19-a83e-00cce7f1793f\" xlink:show=\"new\" xlink:title=\"psysml:c2eaf658-adee-4a19-a83e-00cce7f1793f\" xlink:type=\"simple\"><rect fill=\"#FFFFFF\" height=\"40\" id=\"E5\" rx=\"10\" ry=\"10\" style=\"stroke: #383838; stroke-width: 1.5;\" width=\"50\" x=\"58\" y=\"100\"/><rect fill=\"#F8F8F8\" height=\"23.9688\" rx=\"10\" ry=\"10\" style=\"stroke: #F8F8F8; stroke-width: 1.5;\" width=\"50\" x=\"58\" y=\"100\"/><rect fill=\"#F8F8F8\" height=\"10\" style=\"stroke: #F8F8F8; stroke-width: 1.5;\" width=\"50\" x=\"58\" y=\"113.9688\"/><rect fill=\"none\" height=\"40\" id=\"E5\" rx=\"10\" ry=\"10\" style=\"stroke: #383838; stroke-width: 1.5;\" width=\"50\" x=\"58\" y=\"100\"/><text fill=\"#000000\" font-family=\"sans-serif\" font-size=\"12\" lengthAdjust=\"spacingAndGlyphs\" textLength=\"8\" x=\"79\" y=\"116.1387\">g</text></a></g><!--MD5=[3007426c81503905ae5020189da2014f]\n",
       "@startuml\r\n",
       "skinparam ranksep 8\r\n",
       "skinparam rectangle {\r\n",
       " backgroundColor<<block>> LightGreen\r\n",
       "}\r\n",
       "skinparam monochrome true\r\n",
       "skinparam classbackgroundcolor white\r\n",
       "skinparam shadowing false\r\n",
       "skinparam wrapWidth 300\r\n",
       "hide circle\r\n",
       "\r\n",
       "package \"Q\" as E1  [[psysml:e7978fe0-b69e-4191-a6c6-ff9a405cd716 ]]  {\r\n",
       "rec usage \"f\" as E2  [[psysml:d69286fc-6be9-4686-bca9-82760e97d021 ]] {\r\n",
       "rec usage \"a\" as E3  [[psysml:05544d0a-8d7e-4ac4-8a38-1321d7df08dd ]] {\r\n",
       "}\r\n",
       "}\r\n",
       "rec def \"C\" as E4  <<(T,blue)part def>> [[psysml:6e0f0160-dcde-436d-afd9-a7845bbec9b5 ]] {\r\n",
       "rec usage \"g\" as E5  [[psysml:c2eaf658-adee-4a19-a83e-00cce7f1793f ]] {\r\n",
       "}\r\n",
       "}\r\n",
       "}\r\n",
       "@enduml\r\n",
       "\n",
       "PlantUML version 1.2020.13(Sat Jun 13 12:26:38 UTC 2020)\n",
       "(EPL source distribution)\n",
       "Java Runtime: OpenJDK Runtime Environment\n",
       "JVM: OpenJDK 64-Bit Server VM\n",
       "Default Encoding: UTF-8\n",
       "Language: en\n",
       "Country: null\n",
       "--></g></svg>"
      ]
     },
     "execution_count": 40,
     "metadata": {},
     "output_type": "execute_result"
    }
   ],
   "source": [
    "%viz --style=\"DEFAULT\" --view=\"Interconnection\" \"Q\""
   ]
  },
  {
   "cell_type": "code",
   "execution_count": 41,
   "id": "aggressive-banana",
   "metadata": {
    "execution": {
     "iopub.execute_input": "2021-03-26T09:12:08.191688Z",
     "iopub.status.busy": "2021-03-26T09:12:08.191181Z",
     "iopub.status.idle": "2021-03-26T09:12:08.195644Z",
     "shell.execute_reply": "2021-03-26T09:12:08.195363Z"
    }
   },
   "outputs": [
    {
     "data": {
      "image/svg+xml": [
       "<?xml version=\"1.0\" encoding=\"UTF-8\" standalone=\"no\"?><svg xmlns=\"http://www.w3.org/2000/svg\" xmlns:xlink=\"http://www.w3.org/1999/xlink\" contentScriptType=\"application/ecmascript\" contentStyleType=\"text/css\" height=\"12px\" preserveAspectRatio=\"none\" style=\"width:12px;height:12px;\" version=\"1.1\" viewBox=\"0 0 12 12\" width=\"12px\" zoomAndPan=\"magnify\"><defs/><g><!--MD5=[388f21188e31bfdd97050473b19af356]\n",
       "@startuml\r\n",
       "skinparam ranksep 8\r\n",
       "skinparam monochrome true\r\n",
       "skinparam classbackgroundcolor white\r\n",
       "skinparam shadowing false\r\n",
       "skinparam wrapWidth 300\r\n",
       "hide circle\r\n",
       "\r\n",
       "@enduml\r\n",
       "\n",
       "PlantUML version 1.2020.13(Sat Jun 13 12:26:38 UTC 2020)\n",
       "(EPL source distribution)\n",
       "Java Runtime: OpenJDK Runtime Environment\n",
       "JVM: OpenJDK 64-Bit Server VM\n",
       "Default Encoding: UTF-8\n",
       "Language: en\n",
       "Country: null\n",
       "--></g></svg>"
      ]
     },
     "execution_count": 41,
     "metadata": {},
     "output_type": "execute_result"
    }
   ],
   "source": [
    "%viz --style=\"DEFAULT\" --view=\"Action\" \"Q\""
   ]
  },
  {
   "cell_type": "code",
   "execution_count": 42,
   "id": "private-airport",
   "metadata": {
    "execution": {
     "iopub.execute_input": "2021-03-26T09:12:08.249095Z",
     "iopub.status.busy": "2021-03-26T09:12:08.247854Z",
     "iopub.status.idle": "2021-03-26T09:12:08.275391Z",
     "shell.execute_reply": "2021-03-26T09:12:08.275079Z"
    }
   },
   "outputs": [
    {
     "data": {
      "image/svg+xml": [
       "<?xml version=\"1.0\" encoding=\"UTF-8\" standalone=\"no\"?><svg xmlns=\"http://www.w3.org/2000/svg\" xmlns:xlink=\"http://www.w3.org/1999/xlink\" contentScriptType=\"application/ecmascript\" contentStyleType=\"text/css\" height=\"221px\" preserveAspectRatio=\"none\" style=\"width:213px;height:221px;\" version=\"1.1\" viewBox=\"0 0 213 221\" width=\"213px\" zoomAndPan=\"magnify\"><defs/><g><!--MD5=[fbc87193dbaf4d95561dea2c320d4a47]\n",
       "cluster E1--><a href=\"psysml:e7978fe0-b69e-4191-a6c6-ff9a405cd716\" target=\"_top\" title=\"psysml:e7978fe0-b69e-4191-a6c6-ff9a405cd716\" xlink:actuate=\"onRequest\" xlink:href=\"psysml:e7978fe0-b69e-4191-a6c6-ff9a405cd716\" xlink:show=\"new\" xlink:title=\"psysml:e7978fe0-b69e-4191-a6c6-ff9a405cd716\" xlink:type=\"simple\"><polygon fill=\"#FFFFFF\" points=\"16,6,34,6,41,28.2969,191,28.2969,191,209,16,209,16,6\" style=\"stroke: #000000; stroke-width: 1.5;\"/><line style=\"stroke: #000000; stroke-width: 1.5;\" x1=\"16\" x2=\"41\" y1=\"28.2969\" y2=\"28.2969\"/><text fill=\"#000000\" font-family=\"sans-serif\" font-size=\"14\" font-weight=\"bold\" lengthAdjust=\"spacingAndGlyphs\" textLength=\"12\" x=\"20\" y=\"20.9951\">Q</text></a><!--MD5=[b4997ac47864f28c2f74865a473b2911]\n",
       "class E2--><a href=\"psysml:d69286fc-6be9-4686-bca9-82760e97d021\" target=\"_top\" title=\"psysml:d69286fc-6be9-4686-bca9-82760e97d021\" xlink:actuate=\"onRequest\" xlink:href=\"psysml:d69286fc-6be9-4686-bca9-82760e97d021\" xlink:show=\"new\" xlink:title=\"psysml:d69286fc-6be9-4686-bca9-82760e97d021\" xlink:type=\"simple\"><rect fill=\"#FFFFFF\" height=\"45.9375\" id=\"E2\" rx=\"10\" ry=\"10\" style=\"stroke: #383838; stroke-width: 1.5;\" width=\"42\" x=\"133\" y=\"41\"/><text fill=\"#000000\" font-family=\"sans-serif\" font-size=\"12\" font-style=\"italic\" lengthAdjust=\"spacingAndGlyphs\" textLength=\"40\" x=\"134\" y=\"57.1387\">«part»</text><text fill=\"#000000\" font-family=\"sans-serif\" font-size=\"12\" lengthAdjust=\"spacingAndGlyphs\" textLength=\"4\" x=\"152\" y=\"71.1074\">f</text><line style=\"stroke: #383838; stroke-width: 1.5;\" x1=\"134\" x2=\"174\" y1=\"78.9375\" y2=\"78.9375\"/></a><!--MD5=[09b614a08d8cba4a07c9adeb5e0fee81]\n",
       "class E3--><a href=\"psysml:05544d0a-8d7e-4ac4-8a38-1321d7df08dd\" target=\"_top\" title=\"psysml:05544d0a-8d7e-4ac4-8a38-1321d7df08dd\" xlink:actuate=\"onRequest\" xlink:href=\"psysml:05544d0a-8d7e-4ac4-8a38-1321d7df08dd\" xlink:show=\"new\" xlink:title=\"psysml:05544d0a-8d7e-4ac4-8a38-1321d7df08dd\" xlink:type=\"simple\"><rect fill=\"#FFFFFF\" height=\"45.9375\" id=\"E3\" rx=\"10\" ry=\"10\" style=\"stroke: #383838; stroke-width: 1.5;\" width=\"42\" x=\"133\" y=\"147\"/><text fill=\"#000000\" font-family=\"sans-serif\" font-size=\"12\" font-style=\"italic\" lengthAdjust=\"spacingAndGlyphs\" textLength=\"40\" x=\"134\" y=\"163.1387\">«part»</text><text fill=\"#000000\" font-family=\"sans-serif\" font-size=\"12\" lengthAdjust=\"spacingAndGlyphs\" textLength=\"8\" x=\"150\" y=\"177.1074\">a</text><line style=\"stroke: #383838; stroke-width: 1.5;\" x1=\"134\" x2=\"174\" y1=\"184.9375\" y2=\"184.9375\"/></a><!--MD5=[ebbe1d658d1005bcc118a6aa81145e00]\n",
       "class E4--><a href=\"psysml:6e0f0160-dcde-436d-afd9-a7845bbec9b5\" target=\"_top\" title=\"psysml:6e0f0160-dcde-436d-afd9-a7845bbec9b5\" xlink:actuate=\"onRequest\" xlink:href=\"psysml:6e0f0160-dcde-436d-afd9-a7845bbec9b5\" xlink:show=\"new\" xlink:title=\"psysml:6e0f0160-dcde-436d-afd9-a7845bbec9b5\" xlink:type=\"simple\"><rect fill=\"#FFFFFF\" height=\"45.9375\" id=\"E4\" style=\"stroke: #383838; stroke-width: 1.5;\" width=\"66\" x=\"32\" y=\"41\"/><text fill=\"#000000\" font-family=\"sans-serif\" font-size=\"12\" font-style=\"italic\" lengthAdjust=\"spacingAndGlyphs\" textLength=\"64\" x=\"33\" y=\"57.1387\">«part def»</text><text fill=\"#000000\" font-family=\"sans-serif\" font-size=\"12\" lengthAdjust=\"spacingAndGlyphs\" textLength=\"8\" x=\"61\" y=\"71.1074\">C</text><line style=\"stroke: #383838; stroke-width: 1.5;\" x1=\"33\" x2=\"97\" y1=\"78.9375\" y2=\"78.9375\"/></a><!--MD5=[270fce915f116d4de14055a7c1d9a0f3]\n",
       "class E5--><a href=\"psysml:c2eaf658-adee-4a19-a83e-00cce7f1793f\" target=\"_top\" title=\"psysml:c2eaf658-adee-4a19-a83e-00cce7f1793f\" xlink:actuate=\"onRequest\" xlink:href=\"psysml:c2eaf658-adee-4a19-a83e-00cce7f1793f\" xlink:show=\"new\" xlink:title=\"psysml:c2eaf658-adee-4a19-a83e-00cce7f1793f\" xlink:type=\"simple\"><rect fill=\"#FFFFFF\" height=\"45.9375\" id=\"E5\" rx=\"10\" ry=\"10\" style=\"stroke: #383838; stroke-width: 1.5;\" width=\"42\" x=\"44\" y=\"147\"/><text fill=\"#000000\" font-family=\"sans-serif\" font-size=\"12\" font-style=\"italic\" lengthAdjust=\"spacingAndGlyphs\" textLength=\"40\" x=\"45\" y=\"163.1387\">«part»</text><text fill=\"#000000\" font-family=\"sans-serif\" font-size=\"12\" lengthAdjust=\"spacingAndGlyphs\" textLength=\"8\" x=\"61\" y=\"177.1074\">g</text><line style=\"stroke: #383838; stroke-width: 1.5;\" x1=\"45\" x2=\"85\" y1=\"184.9375\" y2=\"184.9375\"/></a><!--MD5=[209b3feb70ccb6233bfe1053d122c12c]\n",
       "reverse link E2 to E3--><a href=\"psysml:05544d0a-8d7e-4ac4-8a38-1321d7df08dd\" target=\"_top\" title=\"psysml:05544d0a-8d7e-4ac4-8a38-1321d7df08dd\" xlink:actuate=\"onRequest\" xlink:href=\"psysml:05544d0a-8d7e-4ac4-8a38-1321d7df08dd\" xlink:show=\"new\" xlink:title=\"psysml:05544d0a-8d7e-4ac4-8a38-1321d7df08dd\" xlink:type=\"simple\"><path d=\"M154,100.44 C154,115.87 154,133.47 154,146.98 \" fill=\"none\" id=\"E2&lt;-E3\" style=\"stroke: #383838; stroke-width: 1.0;\"/><polygon fill=\"#383838\" points=\"154,87.06,150,93.06,154,99.06,158,93.06,154,87.06\" style=\"stroke: #383838; stroke-width: 1.0;\"/></a><!--MD5=[62aa6af11e70f752912c1cb0466f24f7]\n",
       "reverse link E4 to E5--><a href=\"psysml:c2eaf658-adee-4a19-a83e-00cce7f1793f\" target=\"_top\" title=\"psysml:c2eaf658-adee-4a19-a83e-00cce7f1793f\" xlink:actuate=\"onRequest\" xlink:href=\"psysml:c2eaf658-adee-4a19-a83e-00cce7f1793f\" xlink:show=\"new\" xlink:title=\"psysml:c2eaf658-adee-4a19-a83e-00cce7f1793f\" xlink:type=\"simple\"><path d=\"M65,100.44 C65,115.87 65,133.47 65,146.98 \" fill=\"none\" id=\"E4&lt;-E5\" style=\"stroke: #383838; stroke-width: 1.0;\"/><polygon fill=\"#383838\" points=\"65,87.06,61,93.06,65,99.06,69,93.06,65,87.06\" style=\"stroke: #383838; stroke-width: 1.0;\"/></a><!--MD5=[8e1618aae36c97bc956b170dbf9136da]\n",
       "@startuml\r\n",
       "skinparam monochrome true\r\n",
       "skinparam classbackgroundcolor white\r\n",
       "skinparam shadowing false\r\n",
       "skinparam wrapWidth 300\r\n",
       "hide circle\r\n",
       "\r\n",
       "package \"Q\" as E1  [[psysml:e7978fe0-b69e-4191-a6c6-ff9a405cd716 ]]  {\r\n",
       "comp usage \"f\" as E2  <<(T,blue)part>> [[psysml:d69286fc-6be9-4686-bca9-82760e97d021 ]] {\r\n",
       "}\r\n",
       "comp usage \"a\" as E3  <<(T,blue)part>> [[psysml:05544d0a-8d7e-4ac4-8a38-1321d7df08dd ]] {\r\n",
       "}\r\n",
       "comp def \"C\" as E4  <<(T,blue)part def>> [[psysml:6e0f0160-dcde-436d-afd9-a7845bbec9b5 ]] {\r\n",
       "}\r\n",
       "comp usage \"g\" as E5  <<(T,blue)part>> [[psysml:c2eaf658-adee-4a19-a83e-00cce7f1793f ]] {\r\n",
       "}\r\n",
       "E2 *- - E3 [[psysml:05544d0a-8d7e-4ac4-8a38-1321d7df08dd ]] \r\n",
       "E4 *- - E5 [[psysml:c2eaf658-adee-4a19-a83e-00cce7f1793f ]] \r\n",
       "}\r\n",
       "@enduml\r\n",
       "\n",
       "PlantUML version 1.2020.13(Sat Jun 13 12:26:38 UTC 2020)\n",
       "(EPL source distribution)\n",
       "Java Runtime: OpenJDK Runtime Environment\n",
       "JVM: OpenJDK 64-Bit Server VM\n",
       "Default Encoding: UTF-8\n",
       "Language: en\n",
       "Country: null\n",
       "--></g></svg>"
      ]
     },
     "execution_count": 42,
     "metadata": {},
     "output_type": "execute_result"
    }
   ],
   "source": [
    "%viz --style=\"DEFAULT\" --view=\"Sequence\" \"Q\""
   ]
  },
  {
   "cell_type": "code",
   "execution_count": 43,
   "id": "potential-federal",
   "metadata": {
    "execution": {
     "iopub.execute_input": "2021-03-26T09:12:08.325955Z",
     "iopub.status.busy": "2021-03-26T09:12:08.325553Z",
     "iopub.status.idle": "2021-03-26T09:12:08.348824Z",
     "shell.execute_reply": "2021-03-26T09:12:08.348378Z"
    }
   },
   "outputs": [
    {
     "data": {
      "image/svg+xml": [
       "<?xml version=\"1.0\" encoding=\"UTF-8\" standalone=\"no\"?><svg xmlns=\"http://www.w3.org/2000/svg\" xmlns:xlink=\"http://www.w3.org/1999/xlink\" contentScriptType=\"application/ecmascript\" contentStyleType=\"text/css\" height=\"221px\" preserveAspectRatio=\"none\" style=\"width:213px;height:221px;\" version=\"1.1\" viewBox=\"0 0 213 221\" width=\"213px\" zoomAndPan=\"magnify\"><defs/><g><!--MD5=[fbc87193dbaf4d95561dea2c320d4a47]\n",
       "cluster E1--><a href=\"psysml:e7978fe0-b69e-4191-a6c6-ff9a405cd716\" target=\"_top\" title=\"psysml:e7978fe0-b69e-4191-a6c6-ff9a405cd716\" xlink:actuate=\"onRequest\" xlink:href=\"psysml:e7978fe0-b69e-4191-a6c6-ff9a405cd716\" xlink:show=\"new\" xlink:title=\"psysml:e7978fe0-b69e-4191-a6c6-ff9a405cd716\" xlink:type=\"simple\"><polygon fill=\"#FFFFFF\" points=\"16,6,34,6,41,28.2969,191,28.2969,191,209,16,209,16,6\" style=\"stroke: #000000; stroke-width: 1.5;\"/><line style=\"stroke: #000000; stroke-width: 1.5;\" x1=\"16\" x2=\"41\" y1=\"28.2969\" y2=\"28.2969\"/><text fill=\"#000000\" font-family=\"sans-serif\" font-size=\"14\" font-weight=\"bold\" lengthAdjust=\"spacingAndGlyphs\" textLength=\"12\" x=\"20\" y=\"20.9951\">Q</text></a><!--MD5=[b4997ac47864f28c2f74865a473b2911]\n",
       "class E2--><a href=\"psysml:d69286fc-6be9-4686-bca9-82760e97d021\" target=\"_top\" title=\"psysml:d69286fc-6be9-4686-bca9-82760e97d021\" xlink:actuate=\"onRequest\" xlink:href=\"psysml:d69286fc-6be9-4686-bca9-82760e97d021\" xlink:show=\"new\" xlink:title=\"psysml:d69286fc-6be9-4686-bca9-82760e97d021\" xlink:type=\"simple\"><rect fill=\"#FFFFFF\" height=\"45.9375\" id=\"E2\" rx=\"10\" ry=\"10\" style=\"stroke: #383838; stroke-width: 1.5;\" width=\"42\" x=\"133\" y=\"41\"/><text fill=\"#000000\" font-family=\"sans-serif\" font-size=\"12\" font-style=\"italic\" lengthAdjust=\"spacingAndGlyphs\" textLength=\"40\" x=\"134\" y=\"57.1387\">«part»</text><text fill=\"#000000\" font-family=\"sans-serif\" font-size=\"12\" lengthAdjust=\"spacingAndGlyphs\" textLength=\"4\" x=\"152\" y=\"71.1074\">f</text><line style=\"stroke: #383838; stroke-width: 1.5;\" x1=\"134\" x2=\"174\" y1=\"78.9375\" y2=\"78.9375\"/></a><!--MD5=[09b614a08d8cba4a07c9adeb5e0fee81]\n",
       "class E3--><a href=\"psysml:05544d0a-8d7e-4ac4-8a38-1321d7df08dd\" target=\"_top\" title=\"psysml:05544d0a-8d7e-4ac4-8a38-1321d7df08dd\" xlink:actuate=\"onRequest\" xlink:href=\"psysml:05544d0a-8d7e-4ac4-8a38-1321d7df08dd\" xlink:show=\"new\" xlink:title=\"psysml:05544d0a-8d7e-4ac4-8a38-1321d7df08dd\" xlink:type=\"simple\"><rect fill=\"#FFFFFF\" height=\"45.9375\" id=\"E3\" rx=\"10\" ry=\"10\" style=\"stroke: #383838; stroke-width: 1.5;\" width=\"42\" x=\"133\" y=\"147\"/><text fill=\"#000000\" font-family=\"sans-serif\" font-size=\"12\" font-style=\"italic\" lengthAdjust=\"spacingAndGlyphs\" textLength=\"40\" x=\"134\" y=\"163.1387\">«part»</text><text fill=\"#000000\" font-family=\"sans-serif\" font-size=\"12\" lengthAdjust=\"spacingAndGlyphs\" textLength=\"8\" x=\"150\" y=\"177.1074\">a</text><line style=\"stroke: #383838; stroke-width: 1.5;\" x1=\"134\" x2=\"174\" y1=\"184.9375\" y2=\"184.9375\"/></a><!--MD5=[ebbe1d658d1005bcc118a6aa81145e00]\n",
       "class E4--><a href=\"psysml:6e0f0160-dcde-436d-afd9-a7845bbec9b5\" target=\"_top\" title=\"psysml:6e0f0160-dcde-436d-afd9-a7845bbec9b5\" xlink:actuate=\"onRequest\" xlink:href=\"psysml:6e0f0160-dcde-436d-afd9-a7845bbec9b5\" xlink:show=\"new\" xlink:title=\"psysml:6e0f0160-dcde-436d-afd9-a7845bbec9b5\" xlink:type=\"simple\"><rect fill=\"#FFFFFF\" height=\"45.9375\" id=\"E4\" style=\"stroke: #383838; stroke-width: 1.5;\" width=\"66\" x=\"32\" y=\"41\"/><text fill=\"#000000\" font-family=\"sans-serif\" font-size=\"12\" font-style=\"italic\" lengthAdjust=\"spacingAndGlyphs\" textLength=\"64\" x=\"33\" y=\"57.1387\">«part def»</text><text fill=\"#000000\" font-family=\"sans-serif\" font-size=\"12\" lengthAdjust=\"spacingAndGlyphs\" textLength=\"8\" x=\"61\" y=\"71.1074\">C</text><line style=\"stroke: #383838; stroke-width: 1.5;\" x1=\"33\" x2=\"97\" y1=\"78.9375\" y2=\"78.9375\"/></a><!--MD5=[270fce915f116d4de14055a7c1d9a0f3]\n",
       "class E5--><a href=\"psysml:c2eaf658-adee-4a19-a83e-00cce7f1793f\" target=\"_top\" title=\"psysml:c2eaf658-adee-4a19-a83e-00cce7f1793f\" xlink:actuate=\"onRequest\" xlink:href=\"psysml:c2eaf658-adee-4a19-a83e-00cce7f1793f\" xlink:show=\"new\" xlink:title=\"psysml:c2eaf658-adee-4a19-a83e-00cce7f1793f\" xlink:type=\"simple\"><rect fill=\"#FFFFFF\" height=\"45.9375\" id=\"E5\" rx=\"10\" ry=\"10\" style=\"stroke: #383838; stroke-width: 1.5;\" width=\"42\" x=\"44\" y=\"147\"/><text fill=\"#000000\" font-family=\"sans-serif\" font-size=\"12\" font-style=\"italic\" lengthAdjust=\"spacingAndGlyphs\" textLength=\"40\" x=\"45\" y=\"163.1387\">«part»</text><text fill=\"#000000\" font-family=\"sans-serif\" font-size=\"12\" lengthAdjust=\"spacingAndGlyphs\" textLength=\"8\" x=\"61\" y=\"177.1074\">g</text><line style=\"stroke: #383838; stroke-width: 1.5;\" x1=\"45\" x2=\"85\" y1=\"184.9375\" y2=\"184.9375\"/></a><!--MD5=[209b3feb70ccb6233bfe1053d122c12c]\n",
       "reverse link E2 to E3--><a href=\"psysml:05544d0a-8d7e-4ac4-8a38-1321d7df08dd\" target=\"_top\" title=\"psysml:05544d0a-8d7e-4ac4-8a38-1321d7df08dd\" xlink:actuate=\"onRequest\" xlink:href=\"psysml:05544d0a-8d7e-4ac4-8a38-1321d7df08dd\" xlink:show=\"new\" xlink:title=\"psysml:05544d0a-8d7e-4ac4-8a38-1321d7df08dd\" xlink:type=\"simple\"><path d=\"M154,100.44 C154,115.87 154,133.47 154,146.98 \" fill=\"none\" id=\"E2&lt;-E3\" style=\"stroke: #383838; stroke-width: 1.0;\"/><polygon fill=\"#383838\" points=\"154,87.06,150,93.06,154,99.06,158,93.06,154,87.06\" style=\"stroke: #383838; stroke-width: 1.0;\"/></a><!--MD5=[62aa6af11e70f752912c1cb0466f24f7]\n",
       "reverse link E4 to E5--><a href=\"psysml:c2eaf658-adee-4a19-a83e-00cce7f1793f\" target=\"_top\" title=\"psysml:c2eaf658-adee-4a19-a83e-00cce7f1793f\" xlink:actuate=\"onRequest\" xlink:href=\"psysml:c2eaf658-adee-4a19-a83e-00cce7f1793f\" xlink:show=\"new\" xlink:title=\"psysml:c2eaf658-adee-4a19-a83e-00cce7f1793f\" xlink:type=\"simple\"><path d=\"M65,100.44 C65,115.87 65,133.47 65,146.98 \" fill=\"none\" id=\"E4&lt;-E5\" style=\"stroke: #383838; stroke-width: 1.0;\"/><polygon fill=\"#383838\" points=\"65,87.06,61,93.06,65,99.06,69,93.06,65,87.06\" style=\"stroke: #383838; stroke-width: 1.0;\"/></a><!--MD5=[8e1618aae36c97bc956b170dbf9136da]\n",
       "@startuml\r\n",
       "skinparam monochrome true\r\n",
       "skinparam classbackgroundcolor white\r\n",
       "skinparam shadowing false\r\n",
       "skinparam wrapWidth 300\r\n",
       "hide circle\r\n",
       "\r\n",
       "package \"Q\" as E1  [[psysml:e7978fe0-b69e-4191-a6c6-ff9a405cd716 ]]  {\r\n",
       "comp usage \"f\" as E2  <<(T,blue)part>> [[psysml:d69286fc-6be9-4686-bca9-82760e97d021 ]] {\r\n",
       "}\r\n",
       "comp usage \"a\" as E3  <<(T,blue)part>> [[psysml:05544d0a-8d7e-4ac4-8a38-1321d7df08dd ]] {\r\n",
       "}\r\n",
       "comp def \"C\" as E4  <<(T,blue)part def>> [[psysml:6e0f0160-dcde-436d-afd9-a7845bbec9b5 ]] {\r\n",
       "}\r\n",
       "comp usage \"g\" as E5  <<(T,blue)part>> [[psysml:c2eaf658-adee-4a19-a83e-00cce7f1793f ]] {\r\n",
       "}\r\n",
       "E2 *- - E3 [[psysml:05544d0a-8d7e-4ac4-8a38-1321d7df08dd ]] \r\n",
       "E4 *- - E5 [[psysml:c2eaf658-adee-4a19-a83e-00cce7f1793f ]] \r\n",
       "}\r\n",
       "@enduml\r\n",
       "\n",
       "PlantUML version 1.2020.13(Sat Jun 13 12:26:38 UTC 2020)\n",
       "(EPL source distribution)\n",
       "Java Runtime: OpenJDK Runtime Environment\n",
       "JVM: OpenJDK 64-Bit Server VM\n",
       "Default Encoding: UTF-8\n",
       "Language: en\n",
       "Country: null\n",
       "--></g></svg>"
      ]
     },
     "execution_count": 43,
     "metadata": {},
     "output_type": "execute_result"
    }
   ],
   "source": [
    "%viz --style=\"DEFAULT\" --view=\"MIXED\" \"Q\""
   ]
  },
  {
   "cell_type": "code",
   "execution_count": 44,
   "id": "abstract-graphic",
   "metadata": {
    "execution": {
     "iopub.execute_input": "2021-03-26T09:12:08.400715Z",
     "iopub.status.busy": "2021-03-26T09:12:08.399823Z",
     "iopub.status.idle": "2021-03-26T09:12:08.430586Z",
     "shell.execute_reply": "2021-03-26T09:12:08.429385Z"
    }
   },
   "outputs": [
    {
     "data": {
      "image/svg+xml": [
       "<?xml version=\"1.0\" encoding=\"UTF-8\" standalone=\"no\"?><svg xmlns=\"http://www.w3.org/2000/svg\" xmlns:xlink=\"http://www.w3.org/1999/xlink\" contentScriptType=\"application/ecmascript\" contentStyleType=\"text/css\" height=\"221px\" preserveAspectRatio=\"none\" style=\"width:213px;height:221px;\" version=\"1.1\" viewBox=\"0 0 213 221\" width=\"213px\" zoomAndPan=\"magnify\"><defs/><g><!--MD5=[fbc87193dbaf4d95561dea2c320d4a47]\n",
       "cluster E1--><a href=\"psysml:e7978fe0-b69e-4191-a6c6-ff9a405cd716\" target=\"_top\" title=\"psysml:e7978fe0-b69e-4191-a6c6-ff9a405cd716\" xlink:actuate=\"onRequest\" xlink:href=\"psysml:e7978fe0-b69e-4191-a6c6-ff9a405cd716\" xlink:show=\"new\" xlink:title=\"psysml:e7978fe0-b69e-4191-a6c6-ff9a405cd716\" xlink:type=\"simple\"><polygon fill=\"#FFFFFF\" points=\"16,6,34,6,41,28.2969,191,28.2969,191,209,16,209,16,6\" style=\"stroke: #000000; stroke-width: 1.5;\"/><line style=\"stroke: #000000; stroke-width: 1.5;\" x1=\"16\" x2=\"41\" y1=\"28.2969\" y2=\"28.2969\"/><text fill=\"#000000\" font-family=\"sans-serif\" font-size=\"14\" font-weight=\"bold\" lengthAdjust=\"spacingAndGlyphs\" textLength=\"12\" x=\"20\" y=\"20.9951\">Q</text></a><!--MD5=[b4997ac47864f28c2f74865a473b2911]\n",
       "class E2--><a href=\"psysml:d69286fc-6be9-4686-bca9-82760e97d021\" target=\"_top\" title=\"psysml:d69286fc-6be9-4686-bca9-82760e97d021\" xlink:actuate=\"onRequest\" xlink:href=\"psysml:d69286fc-6be9-4686-bca9-82760e97d021\" xlink:show=\"new\" xlink:title=\"psysml:d69286fc-6be9-4686-bca9-82760e97d021\" xlink:type=\"simple\"><rect fill=\"#FFFFFF\" height=\"45.9375\" id=\"E2\" rx=\"10\" ry=\"10\" style=\"stroke: #383838; stroke-width: 1.5;\" width=\"42\" x=\"133\" y=\"41\"/><text fill=\"#000000\" font-family=\"sans-serif\" font-size=\"12\" font-style=\"italic\" lengthAdjust=\"spacingAndGlyphs\" textLength=\"40\" x=\"134\" y=\"57.1387\">«part»</text><text fill=\"#000000\" font-family=\"sans-serif\" font-size=\"12\" lengthAdjust=\"spacingAndGlyphs\" textLength=\"4\" x=\"152\" y=\"71.1074\">f</text><line style=\"stroke: #383838; stroke-width: 1.5;\" x1=\"134\" x2=\"174\" y1=\"78.9375\" y2=\"78.9375\"/></a><!--MD5=[09b614a08d8cba4a07c9adeb5e0fee81]\n",
       "class E3--><a href=\"psysml:05544d0a-8d7e-4ac4-8a38-1321d7df08dd\" target=\"_top\" title=\"psysml:05544d0a-8d7e-4ac4-8a38-1321d7df08dd\" xlink:actuate=\"onRequest\" xlink:href=\"psysml:05544d0a-8d7e-4ac4-8a38-1321d7df08dd\" xlink:show=\"new\" xlink:title=\"psysml:05544d0a-8d7e-4ac4-8a38-1321d7df08dd\" xlink:type=\"simple\"><rect fill=\"#FFFFFF\" height=\"45.9375\" id=\"E3\" rx=\"10\" ry=\"10\" style=\"stroke: #383838; stroke-width: 1.5;\" width=\"42\" x=\"133\" y=\"147\"/><text fill=\"#000000\" font-family=\"sans-serif\" font-size=\"12\" font-style=\"italic\" lengthAdjust=\"spacingAndGlyphs\" textLength=\"40\" x=\"134\" y=\"163.1387\">«part»</text><text fill=\"#000000\" font-family=\"sans-serif\" font-size=\"12\" lengthAdjust=\"spacingAndGlyphs\" textLength=\"8\" x=\"150\" y=\"177.1074\">a</text><line style=\"stroke: #383838; stroke-width: 1.5;\" x1=\"134\" x2=\"174\" y1=\"184.9375\" y2=\"184.9375\"/></a><!--MD5=[ebbe1d658d1005bcc118a6aa81145e00]\n",
       "class E4--><a href=\"psysml:6e0f0160-dcde-436d-afd9-a7845bbec9b5\" target=\"_top\" title=\"psysml:6e0f0160-dcde-436d-afd9-a7845bbec9b5\" xlink:actuate=\"onRequest\" xlink:href=\"psysml:6e0f0160-dcde-436d-afd9-a7845bbec9b5\" xlink:show=\"new\" xlink:title=\"psysml:6e0f0160-dcde-436d-afd9-a7845bbec9b5\" xlink:type=\"simple\"><rect fill=\"#FFFFFF\" height=\"45.9375\" id=\"E4\" style=\"stroke: #383838; stroke-width: 1.5;\" width=\"66\" x=\"32\" y=\"41\"/><text fill=\"#000000\" font-family=\"sans-serif\" font-size=\"12\" font-style=\"italic\" lengthAdjust=\"spacingAndGlyphs\" textLength=\"64\" x=\"33\" y=\"57.1387\">«part def»</text><text fill=\"#000000\" font-family=\"sans-serif\" font-size=\"12\" lengthAdjust=\"spacingAndGlyphs\" textLength=\"8\" x=\"61\" y=\"71.1074\">C</text><line style=\"stroke: #383838; stroke-width: 1.5;\" x1=\"33\" x2=\"97\" y1=\"78.9375\" y2=\"78.9375\"/></a><!--MD5=[270fce915f116d4de14055a7c1d9a0f3]\n",
       "class E5--><a href=\"psysml:c2eaf658-adee-4a19-a83e-00cce7f1793f\" target=\"_top\" title=\"psysml:c2eaf658-adee-4a19-a83e-00cce7f1793f\" xlink:actuate=\"onRequest\" xlink:href=\"psysml:c2eaf658-adee-4a19-a83e-00cce7f1793f\" xlink:show=\"new\" xlink:title=\"psysml:c2eaf658-adee-4a19-a83e-00cce7f1793f\" xlink:type=\"simple\"><rect fill=\"#FFFFFF\" height=\"45.9375\" id=\"E5\" rx=\"10\" ry=\"10\" style=\"stroke: #383838; stroke-width: 1.5;\" width=\"42\" x=\"44\" y=\"147\"/><text fill=\"#000000\" font-family=\"sans-serif\" font-size=\"12\" font-style=\"italic\" lengthAdjust=\"spacingAndGlyphs\" textLength=\"40\" x=\"45\" y=\"163.1387\">«part»</text><text fill=\"#000000\" font-family=\"sans-serif\" font-size=\"12\" lengthAdjust=\"spacingAndGlyphs\" textLength=\"8\" x=\"61\" y=\"177.1074\">g</text><line style=\"stroke: #383838; stroke-width: 1.5;\" x1=\"45\" x2=\"85\" y1=\"184.9375\" y2=\"184.9375\"/></a><!--MD5=[209b3feb70ccb6233bfe1053d122c12c]\n",
       "reverse link E2 to E3--><a href=\"psysml:05544d0a-8d7e-4ac4-8a38-1321d7df08dd\" target=\"_top\" title=\"psysml:05544d0a-8d7e-4ac4-8a38-1321d7df08dd\" xlink:actuate=\"onRequest\" xlink:href=\"psysml:05544d0a-8d7e-4ac4-8a38-1321d7df08dd\" xlink:show=\"new\" xlink:title=\"psysml:05544d0a-8d7e-4ac4-8a38-1321d7df08dd\" xlink:type=\"simple\"><path d=\"M154,100.44 C154,115.87 154,133.47 154,146.98 \" fill=\"none\" id=\"E2&lt;-E3\" style=\"stroke: #383838; stroke-width: 1.0;\"/><polygon fill=\"#383838\" points=\"154,87.06,150,93.06,154,99.06,158,93.06,154,87.06\" style=\"stroke: #383838; stroke-width: 1.0;\"/></a><!--MD5=[62aa6af11e70f752912c1cb0466f24f7]\n",
       "reverse link E4 to E5--><a href=\"psysml:c2eaf658-adee-4a19-a83e-00cce7f1793f\" target=\"_top\" title=\"psysml:c2eaf658-adee-4a19-a83e-00cce7f1793f\" xlink:actuate=\"onRequest\" xlink:href=\"psysml:c2eaf658-adee-4a19-a83e-00cce7f1793f\" xlink:show=\"new\" xlink:title=\"psysml:c2eaf658-adee-4a19-a83e-00cce7f1793f\" xlink:type=\"simple\"><path d=\"M65,100.44 C65,115.87 65,133.47 65,146.98 \" fill=\"none\" id=\"E4&lt;-E5\" style=\"stroke: #383838; stroke-width: 1.0;\"/><polygon fill=\"#383838\" points=\"65,87.06,61,93.06,65,99.06,69,93.06,65,87.06\" style=\"stroke: #383838; stroke-width: 1.0;\"/></a><!--MD5=[c16d2707572489672ede37ab068875be]\n",
       "@startuml\r\n",
       "top to bottom direction\r\n",
       "skinparam monochrome true\r\n",
       "skinparam classbackgroundcolor white\r\n",
       "skinparam shadowing false\r\n",
       "skinparam wrapWidth 300\r\n",
       "hide circle\r\n",
       "\r\n",
       "package \"Q\" as E1  [[psysml:e7978fe0-b69e-4191-a6c6-ff9a405cd716 ]]  {\r\n",
       "comp usage \"f\" as E2  <<(T,blue)part>> [[psysml:d69286fc-6be9-4686-bca9-82760e97d021 ]] {\r\n",
       "}\r\n",
       "comp usage \"a\" as E3  <<(T,blue)part>> [[psysml:05544d0a-8d7e-4ac4-8a38-1321d7df08dd ]] {\r\n",
       "}\r\n",
       "comp def \"C\" as E4  <<(T,blue)part def>> [[psysml:6e0f0160-dcde-436d-afd9-a7845bbec9b5 ]] {\r\n",
       "}\r\n",
       "comp usage \"g\" as E5  <<(T,blue)part>> [[psysml:c2eaf658-adee-4a19-a83e-00cce7f1793f ]] {\r\n",
       "}\r\n",
       "E2 *- - E3 [[psysml:05544d0a-8d7e-4ac4-8a38-1321d7df08dd ]] \r\n",
       "E4 *- - E5 [[psysml:c2eaf658-adee-4a19-a83e-00cce7f1793f ]] \r\n",
       "}\r\n",
       "@enduml\r\n",
       "\n",
       "PlantUML version 1.2020.13(Sat Jun 13 12:26:38 UTC 2020)\n",
       "(EPL source distribution)\n",
       "Java Runtime: OpenJDK Runtime Environment\n",
       "JVM: OpenJDK 64-Bit Server VM\n",
       "Default Encoding: UTF-8\n",
       "Language: en\n",
       "Country: null\n",
       "--></g></svg>"
      ]
     },
     "execution_count": 44,
     "metadata": {},
     "output_type": "execute_result"
    }
   ],
   "source": [
    "%viz --style=\"TB\" --view=\"Default\" \"Q\""
   ]
  },
  {
   "cell_type": "code",
   "execution_count": 45,
   "id": "medical-pastor",
   "metadata": {
    "execution": {
     "iopub.execute_input": "2021-03-26T09:12:08.481051Z",
     "iopub.status.busy": "2021-03-26T09:12:08.480555Z",
     "iopub.status.idle": "2021-03-26T09:12:08.506534Z",
     "shell.execute_reply": "2021-03-26T09:12:08.505295Z"
    }
   },
   "outputs": [
    {
     "data": {
      "image/svg+xml": [
       "<?xml version=\"1.0\" encoding=\"UTF-8\" standalone=\"no\"?><svg xmlns=\"http://www.w3.org/2000/svg\" xmlns:xlink=\"http://www.w3.org/1999/xlink\" contentScriptType=\"application/ecmascript\" contentStyleType=\"text/css\" height=\"221px\" preserveAspectRatio=\"none\" style=\"width:213px;height:221px;\" version=\"1.1\" viewBox=\"0 0 213 221\" width=\"213px\" zoomAndPan=\"magnify\"><defs/><g><!--MD5=[fbc87193dbaf4d95561dea2c320d4a47]\n",
       "cluster E1--><a href=\"psysml:e7978fe0-b69e-4191-a6c6-ff9a405cd716\" target=\"_top\" title=\"psysml:e7978fe0-b69e-4191-a6c6-ff9a405cd716\" xlink:actuate=\"onRequest\" xlink:href=\"psysml:e7978fe0-b69e-4191-a6c6-ff9a405cd716\" xlink:show=\"new\" xlink:title=\"psysml:e7978fe0-b69e-4191-a6c6-ff9a405cd716\" xlink:type=\"simple\"><polygon fill=\"#FFFFFF\" points=\"16,6,34,6,41,28.2969,191,28.2969,191,209,16,209,16,6\" style=\"stroke: #000000; stroke-width: 1.5;\"/><line style=\"stroke: #000000; stroke-width: 1.5;\" x1=\"16\" x2=\"41\" y1=\"28.2969\" y2=\"28.2969\"/><text fill=\"#000000\" font-family=\"sans-serif\" font-size=\"14\" font-weight=\"bold\" lengthAdjust=\"spacingAndGlyphs\" textLength=\"12\" x=\"20\" y=\"20.9951\">Q</text></a><!--MD5=[b4997ac47864f28c2f74865a473b2911]\n",
       "class E2--><a href=\"psysml:d69286fc-6be9-4686-bca9-82760e97d021\" target=\"_top\" title=\"psysml:d69286fc-6be9-4686-bca9-82760e97d021\" xlink:actuate=\"onRequest\" xlink:href=\"psysml:d69286fc-6be9-4686-bca9-82760e97d021\" xlink:show=\"new\" xlink:title=\"psysml:d69286fc-6be9-4686-bca9-82760e97d021\" xlink:type=\"simple\"><rect fill=\"#FFFFFF\" height=\"45.9375\" id=\"E2\" rx=\"10\" ry=\"10\" style=\"stroke: #383838; stroke-width: 1.5;\" width=\"42\" x=\"133\" y=\"41\"/><text fill=\"#000000\" font-family=\"sans-serif\" font-size=\"12\" font-style=\"italic\" lengthAdjust=\"spacingAndGlyphs\" textLength=\"40\" x=\"134\" y=\"57.1387\">«part»</text><text fill=\"#000000\" font-family=\"sans-serif\" font-size=\"12\" lengthAdjust=\"spacingAndGlyphs\" textLength=\"4\" x=\"152\" y=\"71.1074\">f</text><line style=\"stroke: #383838; stroke-width: 1.5;\" x1=\"134\" x2=\"174\" y1=\"78.9375\" y2=\"78.9375\"/></a><!--MD5=[09b614a08d8cba4a07c9adeb5e0fee81]\n",
       "class E3--><a href=\"psysml:05544d0a-8d7e-4ac4-8a38-1321d7df08dd\" target=\"_top\" title=\"psysml:05544d0a-8d7e-4ac4-8a38-1321d7df08dd\" xlink:actuate=\"onRequest\" xlink:href=\"psysml:05544d0a-8d7e-4ac4-8a38-1321d7df08dd\" xlink:show=\"new\" xlink:title=\"psysml:05544d0a-8d7e-4ac4-8a38-1321d7df08dd\" xlink:type=\"simple\"><rect fill=\"#FFFFFF\" height=\"45.9375\" id=\"E3\" rx=\"10\" ry=\"10\" style=\"stroke: #383838; stroke-width: 1.5;\" width=\"42\" x=\"133\" y=\"147\"/><text fill=\"#000000\" font-family=\"sans-serif\" font-size=\"12\" font-style=\"italic\" lengthAdjust=\"spacingAndGlyphs\" textLength=\"40\" x=\"134\" y=\"163.1387\">«part»</text><text fill=\"#000000\" font-family=\"sans-serif\" font-size=\"12\" lengthAdjust=\"spacingAndGlyphs\" textLength=\"8\" x=\"150\" y=\"177.1074\">a</text><line style=\"stroke: #383838; stroke-width: 1.5;\" x1=\"134\" x2=\"174\" y1=\"184.9375\" y2=\"184.9375\"/></a><!--MD5=[ebbe1d658d1005bcc118a6aa81145e00]\n",
       "class E4--><a href=\"psysml:6e0f0160-dcde-436d-afd9-a7845bbec9b5\" target=\"_top\" title=\"psysml:6e0f0160-dcde-436d-afd9-a7845bbec9b5\" xlink:actuate=\"onRequest\" xlink:href=\"psysml:6e0f0160-dcde-436d-afd9-a7845bbec9b5\" xlink:show=\"new\" xlink:title=\"psysml:6e0f0160-dcde-436d-afd9-a7845bbec9b5\" xlink:type=\"simple\"><rect fill=\"#FFFFFF\" height=\"45.9375\" id=\"E4\" style=\"stroke: #383838; stroke-width: 1.5;\" width=\"66\" x=\"32\" y=\"41\"/><text fill=\"#000000\" font-family=\"sans-serif\" font-size=\"12\" font-style=\"italic\" lengthAdjust=\"spacingAndGlyphs\" textLength=\"64\" x=\"33\" y=\"57.1387\">«part def»</text><text fill=\"#000000\" font-family=\"sans-serif\" font-size=\"12\" lengthAdjust=\"spacingAndGlyphs\" textLength=\"8\" x=\"61\" y=\"71.1074\">C</text><line style=\"stroke: #383838; stroke-width: 1.5;\" x1=\"33\" x2=\"97\" y1=\"78.9375\" y2=\"78.9375\"/></a><!--MD5=[270fce915f116d4de14055a7c1d9a0f3]\n",
       "class E5--><a href=\"psysml:c2eaf658-adee-4a19-a83e-00cce7f1793f\" target=\"_top\" title=\"psysml:c2eaf658-adee-4a19-a83e-00cce7f1793f\" xlink:actuate=\"onRequest\" xlink:href=\"psysml:c2eaf658-adee-4a19-a83e-00cce7f1793f\" xlink:show=\"new\" xlink:title=\"psysml:c2eaf658-adee-4a19-a83e-00cce7f1793f\" xlink:type=\"simple\"><rect fill=\"#FFFFFF\" height=\"45.9375\" id=\"E5\" rx=\"10\" ry=\"10\" style=\"stroke: #383838; stroke-width: 1.5;\" width=\"42\" x=\"44\" y=\"147\"/><text fill=\"#000000\" font-family=\"sans-serif\" font-size=\"12\" font-style=\"italic\" lengthAdjust=\"spacingAndGlyphs\" textLength=\"40\" x=\"45\" y=\"163.1387\">«part»</text><text fill=\"#000000\" font-family=\"sans-serif\" font-size=\"12\" lengthAdjust=\"spacingAndGlyphs\" textLength=\"8\" x=\"61\" y=\"177.1074\">g</text><line style=\"stroke: #383838; stroke-width: 1.5;\" x1=\"45\" x2=\"85\" y1=\"184.9375\" y2=\"184.9375\"/></a><!--MD5=[209b3feb70ccb6233bfe1053d122c12c]\n",
       "reverse link E2 to E3--><a href=\"psysml:05544d0a-8d7e-4ac4-8a38-1321d7df08dd\" target=\"_top\" title=\"psysml:05544d0a-8d7e-4ac4-8a38-1321d7df08dd\" xlink:actuate=\"onRequest\" xlink:href=\"psysml:05544d0a-8d7e-4ac4-8a38-1321d7df08dd\" xlink:show=\"new\" xlink:title=\"psysml:05544d0a-8d7e-4ac4-8a38-1321d7df08dd\" xlink:type=\"simple\"><path d=\"M154,100.44 C154,115.87 154,133.47 154,146.98 \" fill=\"none\" id=\"E2&lt;-E3\" style=\"stroke: #383838; stroke-width: 1.0;\"/><polygon fill=\"#383838\" points=\"154,87.06,150,93.06,154,99.06,158,93.06,154,87.06\" style=\"stroke: #383838; stroke-width: 1.0;\"/></a><!--MD5=[62aa6af11e70f752912c1cb0466f24f7]\n",
       "reverse link E4 to E5--><a href=\"psysml:c2eaf658-adee-4a19-a83e-00cce7f1793f\" target=\"_top\" title=\"psysml:c2eaf658-adee-4a19-a83e-00cce7f1793f\" xlink:actuate=\"onRequest\" xlink:href=\"psysml:c2eaf658-adee-4a19-a83e-00cce7f1793f\" xlink:show=\"new\" xlink:title=\"psysml:c2eaf658-adee-4a19-a83e-00cce7f1793f\" xlink:type=\"simple\"><path d=\"M65,100.44 C65,115.87 65,133.47 65,146.98 \" fill=\"none\" id=\"E4&lt;-E5\" style=\"stroke: #383838; stroke-width: 1.0;\"/><polygon fill=\"#383838\" points=\"65,87.06,61,93.06,65,99.06,69,93.06,65,87.06\" style=\"stroke: #383838; stroke-width: 1.0;\"/></a><!--MD5=[c16d2707572489672ede37ab068875be]\n",
       "@startuml\r\n",
       "top to bottom direction\r\n",
       "skinparam monochrome true\r\n",
       "skinparam classbackgroundcolor white\r\n",
       "skinparam shadowing false\r\n",
       "skinparam wrapWidth 300\r\n",
       "hide circle\r\n",
       "\r\n",
       "package \"Q\" as E1  [[psysml:e7978fe0-b69e-4191-a6c6-ff9a405cd716 ]]  {\r\n",
       "comp usage \"f\" as E2  <<(T,blue)part>> [[psysml:d69286fc-6be9-4686-bca9-82760e97d021 ]] {\r\n",
       "}\r\n",
       "comp usage \"a\" as E3  <<(T,blue)part>> [[psysml:05544d0a-8d7e-4ac4-8a38-1321d7df08dd ]] {\r\n",
       "}\r\n",
       "comp def \"C\" as E4  <<(T,blue)part def>> [[psysml:6e0f0160-dcde-436d-afd9-a7845bbec9b5 ]] {\r\n",
       "}\r\n",
       "comp usage \"g\" as E5  <<(T,blue)part>> [[psysml:c2eaf658-adee-4a19-a83e-00cce7f1793f ]] {\r\n",
       "}\r\n",
       "E2 *- - E3 [[psysml:05544d0a-8d7e-4ac4-8a38-1321d7df08dd ]] \r\n",
       "E4 *- - E5 [[psysml:c2eaf658-adee-4a19-a83e-00cce7f1793f ]] \r\n",
       "}\r\n",
       "@enduml\r\n",
       "\n",
       "PlantUML version 1.2020.13(Sat Jun 13 12:26:38 UTC 2020)\n",
       "(EPL source distribution)\n",
       "Java Runtime: OpenJDK Runtime Environment\n",
       "JVM: OpenJDK 64-Bit Server VM\n",
       "Default Encoding: UTF-8\n",
       "Language: en\n",
       "Country: null\n",
       "--></g></svg>"
      ]
     },
     "execution_count": 45,
     "metadata": {},
     "output_type": "execute_result"
    }
   ],
   "source": [
    "%viz --style=\"TB\" --view=\"Tree\" \"Q\""
   ]
  },
  {
   "cell_type": "code",
   "execution_count": 46,
   "id": "mysterious-frequency",
   "metadata": {
    "execution": {
     "iopub.execute_input": "2021-03-26T09:12:08.556821Z",
     "iopub.status.busy": "2021-03-26T09:12:08.556130Z",
     "iopub.status.idle": "2021-03-26T09:12:08.561867Z",
     "shell.execute_reply": "2021-03-26T09:12:08.561540Z"
    }
   },
   "outputs": [
    {
     "data": {
      "image/svg+xml": [
       "<?xml version=\"1.0\" encoding=\"UTF-8\" standalone=\"no\"?><svg xmlns=\"http://www.w3.org/2000/svg\" xmlns:xlink=\"http://www.w3.org/1999/xlink\" contentScriptType=\"application/ecmascript\" contentStyleType=\"text/css\" height=\"12px\" preserveAspectRatio=\"none\" style=\"width:12px;height:12px;\" version=\"1.1\" viewBox=\"0 0 12 12\" width=\"12px\" zoomAndPan=\"magnify\"><defs/><g><!--MD5=[f4ee21bc66e489b5061b7c3e9601fdef]\n",
       "@startuml\r\n",
       "top to bottom direction\r\n",
       "skinparam monochrome true\r\n",
       "skinparam classbackgroundcolor white\r\n",
       "skinparam shadowing false\r\n",
       "skinparam wrapWidth 300\r\n",
       "hide circle\r\n",
       "\r\n",
       "@enduml\r\n",
       "\n",
       "PlantUML version 1.2020.13(Sat Jun 13 12:26:38 UTC 2020)\n",
       "(EPL source distribution)\n",
       "Java Runtime: OpenJDK Runtime Environment\n",
       "JVM: OpenJDK 64-Bit Server VM\n",
       "Default Encoding: UTF-8\n",
       "Language: en\n",
       "Country: null\n",
       "--></g></svg>"
      ]
     },
     "execution_count": 46,
     "metadata": {},
     "output_type": "execute_result"
    }
   ],
   "source": [
    "%viz --style=\"TB\" --view=\"State\" \"Q\""
   ]
  },
  {
   "cell_type": "code",
   "execution_count": 47,
   "id": "attempted-southwest",
   "metadata": {
    "execution": {
     "iopub.execute_input": "2021-03-26T09:12:08.615155Z",
     "iopub.status.busy": "2021-03-26T09:12:08.614431Z",
     "iopub.status.idle": "2021-03-26T09:12:08.639223Z",
     "shell.execute_reply": "2021-03-26T09:12:08.638002Z"
    }
   },
   "outputs": [
    {
     "data": {
      "image/svg+xml": [
       "<?xml version=\"1.0\" encoding=\"UTF-8\" standalone=\"no\"?><svg xmlns=\"http://www.w3.org/2000/svg\" xmlns:xlink=\"http://www.w3.org/1999/xlink\" contentScriptType=\"application/ecmascript\" contentStyleType=\"text/css\" height=\"192px\" preserveAspectRatio=\"none\" style=\"width:279px;height:192px;\" version=\"1.1\" viewBox=\"0 0 279 192\" width=\"279px\" zoomAndPan=\"magnify\"><defs/><g><!--MD5=[fbc87193dbaf4d95561dea2c320d4a47]\n",
       "cluster E1--><a href=\"psysml:e7978fe0-b69e-4191-a6c6-ff9a405cd716\" target=\"_top\" title=\"psysml:e7978fe0-b69e-4191-a6c6-ff9a405cd716\" xlink:actuate=\"onRequest\" xlink:href=\"psysml:e7978fe0-b69e-4191-a6c6-ff9a405cd716\" xlink:show=\"new\" xlink:title=\"psysml:e7978fe0-b69e-4191-a6c6-ff9a405cd716\" xlink:type=\"simple\"><polygon fill=\"#FFFFFF\" points=\"16,6,34,6,41,28.2969,257,28.2969,257,180,16,180,16,6\" style=\"stroke: #000000; stroke-width: 1.5;\"/><line style=\"stroke: #000000; stroke-width: 1.5;\" x1=\"16\" x2=\"41\" y1=\"28.2969\" y2=\"28.2969\"/><text fill=\"#000000\" font-family=\"sans-serif\" font-size=\"14\" font-weight=\"bold\" lengthAdjust=\"spacingAndGlyphs\" textLength=\"12\" x=\"20\" y=\"20.9951\">Q</text></a><!--MD5=[e4f7fae6ed58524ba242bb0b0d3be6b7]\n",
       "cluster E2--><a href=\"psysml:d69286fc-6be9-4686-bca9-82760e97d021\" target=\"_top\" title=\"psysml:d69286fc-6be9-4686-bca9-82760e97d021\" xlink:actuate=\"onRequest\" xlink:href=\"psysml:d69286fc-6be9-4686-bca9-82760e97d021\" xlink:show=\"new\" xlink:title=\"psysml:d69286fc-6be9-4686-bca9-82760e97d021\" xlink:type=\"simple\"><rect fill=\"#FFFFFF\" height=\"91\" id=\"E2\" rx=\"10\" ry=\"10\" style=\"stroke: #383838; stroke-width: 1.5;\" width=\"82\" x=\"151\" y=\"65\"/><rect fill=\"#F8F8F8\" height=\"23.9688\" rx=\"10\" ry=\"10\" style=\"stroke: #F8F8F8; stroke-width: 1.5;\" width=\"82\" x=\"151\" y=\"65\"/><rect fill=\"#F8F8F8\" height=\"10\" style=\"stroke: #F8F8F8; stroke-width: 1.5;\" width=\"82\" x=\"151\" y=\"78.9688\"/><rect fill=\"none\" height=\"91\" id=\"E2\" rx=\"10\" ry=\"10\" style=\"stroke: #383838; stroke-width: 1.5;\" width=\"82\" x=\"151\" y=\"65\"/><text fill=\"#000000\" font-family=\"sans-serif\" font-size=\"12\" lengthAdjust=\"spacingAndGlyphs\" textLength=\"4\" x=\"190\" y=\"81.1387\">f</text><line style=\"stroke: #383838; stroke-width: 1.0;\" x1=\"151\" x2=\"233\" y1=\"88.9688\" y2=\"88.9688\"/></a><!--MD5=[f6df4d0ebaf0b5dfb2ced0ae5af7c670]\n",
       "cluster E4--><a href=\"psysml:6e0f0160-dcde-436d-afd9-a7845bbec9b5\" target=\"_top\" title=\"psysml:6e0f0160-dcde-436d-afd9-a7845bbec9b5\" xlink:actuate=\"onRequest\" xlink:href=\"psysml:6e0f0160-dcde-436d-afd9-a7845bbec9b5\" xlink:show=\"new\" xlink:title=\"psysml:6e0f0160-dcde-436d-afd9-a7845bbec9b5\" xlink:type=\"simple\"><rect fill=\"#FFFFFF\" height=\"107\" id=\"E4\" style=\"stroke: #383838; stroke-width: 1.5;\" width=\"87\" x=\"40\" y=\"49\"/><rect fill=\"#F8F8F8\" height=\"37.9375\" style=\"stroke: #383838; stroke-width: 1.5;\" width=\"87\" x=\"40\" y=\"49\"/><text fill=\"#000000\" font-family=\"sans-serif\" font-size=\"12\" font-style=\"italic\" lengthAdjust=\"spacingAndGlyphs\" textLength=\"64\" x=\"51.5\" y=\"65.1387\">«part def»</text><text fill=\"#000000\" font-family=\"sans-serif\" font-size=\"12\" lengthAdjust=\"spacingAndGlyphs\" textLength=\"8\" x=\"79.5\" y=\"79.1074\">C</text></a><g id=\"E1.E2.E3\"><a href=\"psysml:05544d0a-8d7e-4ac4-8a38-1321d7df08dd\" target=\"_top\" title=\"psysml:05544d0a-8d7e-4ac4-8a38-1321d7df08dd\" xlink:actuate=\"onRequest\" xlink:href=\"psysml:05544d0a-8d7e-4ac4-8a38-1321d7df08dd\" xlink:show=\"new\" xlink:title=\"psysml:05544d0a-8d7e-4ac4-8a38-1321d7df08dd\" xlink:type=\"simple\"><rect fill=\"#FFFFFF\" height=\"40\" id=\"E3\" rx=\"10\" ry=\"10\" style=\"stroke: #383838; stroke-width: 1.5;\" width=\"50\" x=\"167\" y=\"100\"/><rect fill=\"#F8F8F8\" height=\"23.9688\" rx=\"10\" ry=\"10\" style=\"stroke: #F8F8F8; stroke-width: 1.5;\" width=\"50\" x=\"167\" y=\"100\"/><rect fill=\"#F8F8F8\" height=\"10\" style=\"stroke: #F8F8F8; stroke-width: 1.5;\" width=\"50\" x=\"167\" y=\"113.9688\"/><rect fill=\"none\" height=\"40\" id=\"E3\" rx=\"10\" ry=\"10\" style=\"stroke: #383838; stroke-width: 1.5;\" width=\"50\" x=\"167\" y=\"100\"/><text fill=\"#000000\" font-family=\"sans-serif\" font-size=\"12\" lengthAdjust=\"spacingAndGlyphs\" textLength=\"8\" x=\"188\" y=\"116.1387\">a</text></a></g><g id=\"E1.E4.E5\"><a href=\"psysml:c2eaf658-adee-4a19-a83e-00cce7f1793f\" target=\"_top\" title=\"psysml:c2eaf658-adee-4a19-a83e-00cce7f1793f\" xlink:actuate=\"onRequest\" xlink:href=\"psysml:c2eaf658-adee-4a19-a83e-00cce7f1793f\" xlink:show=\"new\" xlink:title=\"psysml:c2eaf658-adee-4a19-a83e-00cce7f1793f\" xlink:type=\"simple\"><rect fill=\"#FFFFFF\" height=\"40\" id=\"E5\" rx=\"10\" ry=\"10\" style=\"stroke: #383838; stroke-width: 1.5;\" width=\"50\" x=\"58\" y=\"100\"/><rect fill=\"#F8F8F8\" height=\"23.9688\" rx=\"10\" ry=\"10\" style=\"stroke: #F8F8F8; stroke-width: 1.5;\" width=\"50\" x=\"58\" y=\"100\"/><rect fill=\"#F8F8F8\" height=\"10\" style=\"stroke: #F8F8F8; stroke-width: 1.5;\" width=\"50\" x=\"58\" y=\"113.9688\"/><rect fill=\"none\" height=\"40\" id=\"E5\" rx=\"10\" ry=\"10\" style=\"stroke: #383838; stroke-width: 1.5;\" width=\"50\" x=\"58\" y=\"100\"/><text fill=\"#000000\" font-family=\"sans-serif\" font-size=\"12\" lengthAdjust=\"spacingAndGlyphs\" textLength=\"8\" x=\"79\" y=\"116.1387\">g</text></a></g><!--MD5=[89a186790f5733aedcf7c8d4dcda1f9e]\n",
       "@startuml\r\n",
       "skinparam ranksep 8\r\n",
       "skinparam rectangle {\r\n",
       " backgroundColor<<block>> LightGreen\r\n",
       "}\r\n",
       "top to bottom direction\r\n",
       "skinparam monochrome true\r\n",
       "skinparam classbackgroundcolor white\r\n",
       "skinparam shadowing false\r\n",
       "skinparam wrapWidth 300\r\n",
       "hide circle\r\n",
       "\r\n",
       "package \"Q\" as E1  [[psysml:e7978fe0-b69e-4191-a6c6-ff9a405cd716 ]]  {\r\n",
       "rec usage \"f\" as E2  [[psysml:d69286fc-6be9-4686-bca9-82760e97d021 ]] {\r\n",
       "rec usage \"a\" as E3  [[psysml:05544d0a-8d7e-4ac4-8a38-1321d7df08dd ]] {\r\n",
       "}\r\n",
       "}\r\n",
       "rec def \"C\" as E4  <<(T,blue)part def>> [[psysml:6e0f0160-dcde-436d-afd9-a7845bbec9b5 ]] {\r\n",
       "rec usage \"g\" as E5  [[psysml:c2eaf658-adee-4a19-a83e-00cce7f1793f ]] {\r\n",
       "}\r\n",
       "}\r\n",
       "}\r\n",
       "@enduml\r\n",
       "\n",
       "PlantUML version 1.2020.13(Sat Jun 13 12:26:38 UTC 2020)\n",
       "(EPL source distribution)\n",
       "Java Runtime: OpenJDK Runtime Environment\n",
       "JVM: OpenJDK 64-Bit Server VM\n",
       "Default Encoding: UTF-8\n",
       "Language: en\n",
       "Country: null\n",
       "--></g></svg>"
      ]
     },
     "execution_count": 47,
     "metadata": {},
     "output_type": "execute_result"
    }
   ],
   "source": [
    "%viz --style=\"TB\" --view=\"Interconnection\" \"Q\""
   ]
  },
  {
   "cell_type": "code",
   "execution_count": 48,
   "id": "pursuant-airplane",
   "metadata": {
    "execution": {
     "iopub.execute_input": "2021-03-26T09:12:08.689713Z",
     "iopub.status.busy": "2021-03-26T09:12:08.689254Z",
     "iopub.status.idle": "2021-03-26T09:12:08.694344Z",
     "shell.execute_reply": "2021-03-26T09:12:08.693990Z"
    }
   },
   "outputs": [
    {
     "data": {
      "image/svg+xml": [
       "<?xml version=\"1.0\" encoding=\"UTF-8\" standalone=\"no\"?><svg xmlns=\"http://www.w3.org/2000/svg\" xmlns:xlink=\"http://www.w3.org/1999/xlink\" contentScriptType=\"application/ecmascript\" contentStyleType=\"text/css\" height=\"12px\" preserveAspectRatio=\"none\" style=\"width:12px;height:12px;\" version=\"1.1\" viewBox=\"0 0 12 12\" width=\"12px\" zoomAndPan=\"magnify\"><defs/><g><!--MD5=[06afc254b03ac5e9d9fb7773b07d0800]\n",
       "@startuml\r\n",
       "skinparam ranksep 8\r\n",
       "top to bottom direction\r\n",
       "skinparam monochrome true\r\n",
       "skinparam classbackgroundcolor white\r\n",
       "skinparam shadowing false\r\n",
       "skinparam wrapWidth 300\r\n",
       "hide circle\r\n",
       "\r\n",
       "@enduml\r\n",
       "\n",
       "PlantUML version 1.2020.13(Sat Jun 13 12:26:38 UTC 2020)\n",
       "(EPL source distribution)\n",
       "Java Runtime: OpenJDK Runtime Environment\n",
       "JVM: OpenJDK 64-Bit Server VM\n",
       "Default Encoding: UTF-8\n",
       "Language: en\n",
       "Country: null\n",
       "--></g></svg>"
      ]
     },
     "execution_count": 48,
     "metadata": {},
     "output_type": "execute_result"
    }
   ],
   "source": [
    "%viz --style=\"TB\" --view=\"Action\" \"Q\""
   ]
  },
  {
   "cell_type": "code",
   "execution_count": 49,
   "id": "rental-birthday",
   "metadata": {
    "execution": {
     "iopub.execute_input": "2021-03-26T09:12:08.746503Z",
     "iopub.status.busy": "2021-03-26T09:12:08.745589Z",
     "iopub.status.idle": "2021-03-26T09:12:08.770707Z",
     "shell.execute_reply": "2021-03-26T09:12:08.769566Z"
    }
   },
   "outputs": [
    {
     "data": {
      "image/svg+xml": [
       "<?xml version=\"1.0\" encoding=\"UTF-8\" standalone=\"no\"?><svg xmlns=\"http://www.w3.org/2000/svg\" xmlns:xlink=\"http://www.w3.org/1999/xlink\" contentScriptType=\"application/ecmascript\" contentStyleType=\"text/css\" height=\"221px\" preserveAspectRatio=\"none\" style=\"width:213px;height:221px;\" version=\"1.1\" viewBox=\"0 0 213 221\" width=\"213px\" zoomAndPan=\"magnify\"><defs/><g><!--MD5=[fbc87193dbaf4d95561dea2c320d4a47]\n",
       "cluster E1--><a href=\"psysml:e7978fe0-b69e-4191-a6c6-ff9a405cd716\" target=\"_top\" title=\"psysml:e7978fe0-b69e-4191-a6c6-ff9a405cd716\" xlink:actuate=\"onRequest\" xlink:href=\"psysml:e7978fe0-b69e-4191-a6c6-ff9a405cd716\" xlink:show=\"new\" xlink:title=\"psysml:e7978fe0-b69e-4191-a6c6-ff9a405cd716\" xlink:type=\"simple\"><polygon fill=\"#FFFFFF\" points=\"16,6,34,6,41,28.2969,191,28.2969,191,209,16,209,16,6\" style=\"stroke: #000000; stroke-width: 1.5;\"/><line style=\"stroke: #000000; stroke-width: 1.5;\" x1=\"16\" x2=\"41\" y1=\"28.2969\" y2=\"28.2969\"/><text fill=\"#000000\" font-family=\"sans-serif\" font-size=\"14\" font-weight=\"bold\" lengthAdjust=\"spacingAndGlyphs\" textLength=\"12\" x=\"20\" y=\"20.9951\">Q</text></a><!--MD5=[b4997ac47864f28c2f74865a473b2911]\n",
       "class E2--><a href=\"psysml:d69286fc-6be9-4686-bca9-82760e97d021\" target=\"_top\" title=\"psysml:d69286fc-6be9-4686-bca9-82760e97d021\" xlink:actuate=\"onRequest\" xlink:href=\"psysml:d69286fc-6be9-4686-bca9-82760e97d021\" xlink:show=\"new\" xlink:title=\"psysml:d69286fc-6be9-4686-bca9-82760e97d021\" xlink:type=\"simple\"><rect fill=\"#FFFFFF\" height=\"45.9375\" id=\"E2\" rx=\"10\" ry=\"10\" style=\"stroke: #383838; stroke-width: 1.5;\" width=\"42\" x=\"133\" y=\"41\"/><text fill=\"#000000\" font-family=\"sans-serif\" font-size=\"12\" font-style=\"italic\" lengthAdjust=\"spacingAndGlyphs\" textLength=\"40\" x=\"134\" y=\"57.1387\">«part»</text><text fill=\"#000000\" font-family=\"sans-serif\" font-size=\"12\" lengthAdjust=\"spacingAndGlyphs\" textLength=\"4\" x=\"152\" y=\"71.1074\">f</text><line style=\"stroke: #383838; stroke-width: 1.5;\" x1=\"134\" x2=\"174\" y1=\"78.9375\" y2=\"78.9375\"/></a><!--MD5=[09b614a08d8cba4a07c9adeb5e0fee81]\n",
       "class E3--><a href=\"psysml:05544d0a-8d7e-4ac4-8a38-1321d7df08dd\" target=\"_top\" title=\"psysml:05544d0a-8d7e-4ac4-8a38-1321d7df08dd\" xlink:actuate=\"onRequest\" xlink:href=\"psysml:05544d0a-8d7e-4ac4-8a38-1321d7df08dd\" xlink:show=\"new\" xlink:title=\"psysml:05544d0a-8d7e-4ac4-8a38-1321d7df08dd\" xlink:type=\"simple\"><rect fill=\"#FFFFFF\" height=\"45.9375\" id=\"E3\" rx=\"10\" ry=\"10\" style=\"stroke: #383838; stroke-width: 1.5;\" width=\"42\" x=\"133\" y=\"147\"/><text fill=\"#000000\" font-family=\"sans-serif\" font-size=\"12\" font-style=\"italic\" lengthAdjust=\"spacingAndGlyphs\" textLength=\"40\" x=\"134\" y=\"163.1387\">«part»</text><text fill=\"#000000\" font-family=\"sans-serif\" font-size=\"12\" lengthAdjust=\"spacingAndGlyphs\" textLength=\"8\" x=\"150\" y=\"177.1074\">a</text><line style=\"stroke: #383838; stroke-width: 1.5;\" x1=\"134\" x2=\"174\" y1=\"184.9375\" y2=\"184.9375\"/></a><!--MD5=[ebbe1d658d1005bcc118a6aa81145e00]\n",
       "class E4--><a href=\"psysml:6e0f0160-dcde-436d-afd9-a7845bbec9b5\" target=\"_top\" title=\"psysml:6e0f0160-dcde-436d-afd9-a7845bbec9b5\" xlink:actuate=\"onRequest\" xlink:href=\"psysml:6e0f0160-dcde-436d-afd9-a7845bbec9b5\" xlink:show=\"new\" xlink:title=\"psysml:6e0f0160-dcde-436d-afd9-a7845bbec9b5\" xlink:type=\"simple\"><rect fill=\"#FFFFFF\" height=\"45.9375\" id=\"E4\" style=\"stroke: #383838; stroke-width: 1.5;\" width=\"66\" x=\"32\" y=\"41\"/><text fill=\"#000000\" font-family=\"sans-serif\" font-size=\"12\" font-style=\"italic\" lengthAdjust=\"spacingAndGlyphs\" textLength=\"64\" x=\"33\" y=\"57.1387\">«part def»</text><text fill=\"#000000\" font-family=\"sans-serif\" font-size=\"12\" lengthAdjust=\"spacingAndGlyphs\" textLength=\"8\" x=\"61\" y=\"71.1074\">C</text><line style=\"stroke: #383838; stroke-width: 1.5;\" x1=\"33\" x2=\"97\" y1=\"78.9375\" y2=\"78.9375\"/></a><!--MD5=[270fce915f116d4de14055a7c1d9a0f3]\n",
       "class E5--><a href=\"psysml:c2eaf658-adee-4a19-a83e-00cce7f1793f\" target=\"_top\" title=\"psysml:c2eaf658-adee-4a19-a83e-00cce7f1793f\" xlink:actuate=\"onRequest\" xlink:href=\"psysml:c2eaf658-adee-4a19-a83e-00cce7f1793f\" xlink:show=\"new\" xlink:title=\"psysml:c2eaf658-adee-4a19-a83e-00cce7f1793f\" xlink:type=\"simple\"><rect fill=\"#FFFFFF\" height=\"45.9375\" id=\"E5\" rx=\"10\" ry=\"10\" style=\"stroke: #383838; stroke-width: 1.5;\" width=\"42\" x=\"44\" y=\"147\"/><text fill=\"#000000\" font-family=\"sans-serif\" font-size=\"12\" font-style=\"italic\" lengthAdjust=\"spacingAndGlyphs\" textLength=\"40\" x=\"45\" y=\"163.1387\">«part»</text><text fill=\"#000000\" font-family=\"sans-serif\" font-size=\"12\" lengthAdjust=\"spacingAndGlyphs\" textLength=\"8\" x=\"61\" y=\"177.1074\">g</text><line style=\"stroke: #383838; stroke-width: 1.5;\" x1=\"45\" x2=\"85\" y1=\"184.9375\" y2=\"184.9375\"/></a><!--MD5=[209b3feb70ccb6233bfe1053d122c12c]\n",
       "reverse link E2 to E3--><a href=\"psysml:05544d0a-8d7e-4ac4-8a38-1321d7df08dd\" target=\"_top\" title=\"psysml:05544d0a-8d7e-4ac4-8a38-1321d7df08dd\" xlink:actuate=\"onRequest\" xlink:href=\"psysml:05544d0a-8d7e-4ac4-8a38-1321d7df08dd\" xlink:show=\"new\" xlink:title=\"psysml:05544d0a-8d7e-4ac4-8a38-1321d7df08dd\" xlink:type=\"simple\"><path d=\"M154,100.44 C154,115.87 154,133.47 154,146.98 \" fill=\"none\" id=\"E2&lt;-E3\" style=\"stroke: #383838; stroke-width: 1.0;\"/><polygon fill=\"#383838\" points=\"154,87.06,150,93.06,154,99.06,158,93.06,154,87.06\" style=\"stroke: #383838; stroke-width: 1.0;\"/></a><!--MD5=[62aa6af11e70f752912c1cb0466f24f7]\n",
       "reverse link E4 to E5--><a href=\"psysml:c2eaf658-adee-4a19-a83e-00cce7f1793f\" target=\"_top\" title=\"psysml:c2eaf658-adee-4a19-a83e-00cce7f1793f\" xlink:actuate=\"onRequest\" xlink:href=\"psysml:c2eaf658-adee-4a19-a83e-00cce7f1793f\" xlink:show=\"new\" xlink:title=\"psysml:c2eaf658-adee-4a19-a83e-00cce7f1793f\" xlink:type=\"simple\"><path d=\"M65,100.44 C65,115.87 65,133.47 65,146.98 \" fill=\"none\" id=\"E4&lt;-E5\" style=\"stroke: #383838; stroke-width: 1.0;\"/><polygon fill=\"#383838\" points=\"65,87.06,61,93.06,65,99.06,69,93.06,65,87.06\" style=\"stroke: #383838; stroke-width: 1.0;\"/></a><!--MD5=[c16d2707572489672ede37ab068875be]\n",
       "@startuml\r\n",
       "top to bottom direction\r\n",
       "skinparam monochrome true\r\n",
       "skinparam classbackgroundcolor white\r\n",
       "skinparam shadowing false\r\n",
       "skinparam wrapWidth 300\r\n",
       "hide circle\r\n",
       "\r\n",
       "package \"Q\" as E1  [[psysml:e7978fe0-b69e-4191-a6c6-ff9a405cd716 ]]  {\r\n",
       "comp usage \"f\" as E2  <<(T,blue)part>> [[psysml:d69286fc-6be9-4686-bca9-82760e97d021 ]] {\r\n",
       "}\r\n",
       "comp usage \"a\" as E3  <<(T,blue)part>> [[psysml:05544d0a-8d7e-4ac4-8a38-1321d7df08dd ]] {\r\n",
       "}\r\n",
       "comp def \"C\" as E4  <<(T,blue)part def>> [[psysml:6e0f0160-dcde-436d-afd9-a7845bbec9b5 ]] {\r\n",
       "}\r\n",
       "comp usage \"g\" as E5  <<(T,blue)part>> [[psysml:c2eaf658-adee-4a19-a83e-00cce7f1793f ]] {\r\n",
       "}\r\n",
       "E2 *- - E3 [[psysml:05544d0a-8d7e-4ac4-8a38-1321d7df08dd ]] \r\n",
       "E4 *- - E5 [[psysml:c2eaf658-adee-4a19-a83e-00cce7f1793f ]] \r\n",
       "}\r\n",
       "@enduml\r\n",
       "\n",
       "PlantUML version 1.2020.13(Sat Jun 13 12:26:38 UTC 2020)\n",
       "(EPL source distribution)\n",
       "Java Runtime: OpenJDK Runtime Environment\n",
       "JVM: OpenJDK 64-Bit Server VM\n",
       "Default Encoding: UTF-8\n",
       "Language: en\n",
       "Country: null\n",
       "--></g></svg>"
      ]
     },
     "execution_count": 49,
     "metadata": {},
     "output_type": "execute_result"
    }
   ],
   "source": [
    "%viz --style=\"TB\" --view=\"Sequence\" \"Q\""
   ]
  },
  {
   "cell_type": "code",
   "execution_count": 50,
   "id": "initial-karma",
   "metadata": {
    "execution": {
     "iopub.execute_input": "2021-03-26T09:12:08.823039Z",
     "iopub.status.busy": "2021-03-26T09:12:08.822113Z",
     "iopub.status.idle": "2021-03-26T09:12:08.846890Z",
     "shell.execute_reply": "2021-03-26T09:12:08.845401Z"
    }
   },
   "outputs": [
    {
     "data": {
      "image/svg+xml": [
       "<?xml version=\"1.0\" encoding=\"UTF-8\" standalone=\"no\"?><svg xmlns=\"http://www.w3.org/2000/svg\" xmlns:xlink=\"http://www.w3.org/1999/xlink\" contentScriptType=\"application/ecmascript\" contentStyleType=\"text/css\" height=\"221px\" preserveAspectRatio=\"none\" style=\"width:213px;height:221px;\" version=\"1.1\" viewBox=\"0 0 213 221\" width=\"213px\" zoomAndPan=\"magnify\"><defs/><g><!--MD5=[fbc87193dbaf4d95561dea2c320d4a47]\n",
       "cluster E1--><a href=\"psysml:e7978fe0-b69e-4191-a6c6-ff9a405cd716\" target=\"_top\" title=\"psysml:e7978fe0-b69e-4191-a6c6-ff9a405cd716\" xlink:actuate=\"onRequest\" xlink:href=\"psysml:e7978fe0-b69e-4191-a6c6-ff9a405cd716\" xlink:show=\"new\" xlink:title=\"psysml:e7978fe0-b69e-4191-a6c6-ff9a405cd716\" xlink:type=\"simple\"><polygon fill=\"#FFFFFF\" points=\"16,6,34,6,41,28.2969,191,28.2969,191,209,16,209,16,6\" style=\"stroke: #000000; stroke-width: 1.5;\"/><line style=\"stroke: #000000; stroke-width: 1.5;\" x1=\"16\" x2=\"41\" y1=\"28.2969\" y2=\"28.2969\"/><text fill=\"#000000\" font-family=\"sans-serif\" font-size=\"14\" font-weight=\"bold\" lengthAdjust=\"spacingAndGlyphs\" textLength=\"12\" x=\"20\" y=\"20.9951\">Q</text></a><!--MD5=[b4997ac47864f28c2f74865a473b2911]\n",
       "class E2--><a href=\"psysml:d69286fc-6be9-4686-bca9-82760e97d021\" target=\"_top\" title=\"psysml:d69286fc-6be9-4686-bca9-82760e97d021\" xlink:actuate=\"onRequest\" xlink:href=\"psysml:d69286fc-6be9-4686-bca9-82760e97d021\" xlink:show=\"new\" xlink:title=\"psysml:d69286fc-6be9-4686-bca9-82760e97d021\" xlink:type=\"simple\"><rect fill=\"#FFFFFF\" height=\"45.9375\" id=\"E2\" rx=\"10\" ry=\"10\" style=\"stroke: #383838; stroke-width: 1.5;\" width=\"42\" x=\"133\" y=\"41\"/><text fill=\"#000000\" font-family=\"sans-serif\" font-size=\"12\" font-style=\"italic\" lengthAdjust=\"spacingAndGlyphs\" textLength=\"40\" x=\"134\" y=\"57.1387\">«part»</text><text fill=\"#000000\" font-family=\"sans-serif\" font-size=\"12\" lengthAdjust=\"spacingAndGlyphs\" textLength=\"4\" x=\"152\" y=\"71.1074\">f</text><line style=\"stroke: #383838; stroke-width: 1.5;\" x1=\"134\" x2=\"174\" y1=\"78.9375\" y2=\"78.9375\"/></a><!--MD5=[09b614a08d8cba4a07c9adeb5e0fee81]\n",
       "class E3--><a href=\"psysml:05544d0a-8d7e-4ac4-8a38-1321d7df08dd\" target=\"_top\" title=\"psysml:05544d0a-8d7e-4ac4-8a38-1321d7df08dd\" xlink:actuate=\"onRequest\" xlink:href=\"psysml:05544d0a-8d7e-4ac4-8a38-1321d7df08dd\" xlink:show=\"new\" xlink:title=\"psysml:05544d0a-8d7e-4ac4-8a38-1321d7df08dd\" xlink:type=\"simple\"><rect fill=\"#FFFFFF\" height=\"45.9375\" id=\"E3\" rx=\"10\" ry=\"10\" style=\"stroke: #383838; stroke-width: 1.5;\" width=\"42\" x=\"133\" y=\"147\"/><text fill=\"#000000\" font-family=\"sans-serif\" font-size=\"12\" font-style=\"italic\" lengthAdjust=\"spacingAndGlyphs\" textLength=\"40\" x=\"134\" y=\"163.1387\">«part»</text><text fill=\"#000000\" font-family=\"sans-serif\" font-size=\"12\" lengthAdjust=\"spacingAndGlyphs\" textLength=\"8\" x=\"150\" y=\"177.1074\">a</text><line style=\"stroke: #383838; stroke-width: 1.5;\" x1=\"134\" x2=\"174\" y1=\"184.9375\" y2=\"184.9375\"/></a><!--MD5=[ebbe1d658d1005bcc118a6aa81145e00]\n",
       "class E4--><a href=\"psysml:6e0f0160-dcde-436d-afd9-a7845bbec9b5\" target=\"_top\" title=\"psysml:6e0f0160-dcde-436d-afd9-a7845bbec9b5\" xlink:actuate=\"onRequest\" xlink:href=\"psysml:6e0f0160-dcde-436d-afd9-a7845bbec9b5\" xlink:show=\"new\" xlink:title=\"psysml:6e0f0160-dcde-436d-afd9-a7845bbec9b5\" xlink:type=\"simple\"><rect fill=\"#FFFFFF\" height=\"45.9375\" id=\"E4\" style=\"stroke: #383838; stroke-width: 1.5;\" width=\"66\" x=\"32\" y=\"41\"/><text fill=\"#000000\" font-family=\"sans-serif\" font-size=\"12\" font-style=\"italic\" lengthAdjust=\"spacingAndGlyphs\" textLength=\"64\" x=\"33\" y=\"57.1387\">«part def»</text><text fill=\"#000000\" font-family=\"sans-serif\" font-size=\"12\" lengthAdjust=\"spacingAndGlyphs\" textLength=\"8\" x=\"61\" y=\"71.1074\">C</text><line style=\"stroke: #383838; stroke-width: 1.5;\" x1=\"33\" x2=\"97\" y1=\"78.9375\" y2=\"78.9375\"/></a><!--MD5=[270fce915f116d4de14055a7c1d9a0f3]\n",
       "class E5--><a href=\"psysml:c2eaf658-adee-4a19-a83e-00cce7f1793f\" target=\"_top\" title=\"psysml:c2eaf658-adee-4a19-a83e-00cce7f1793f\" xlink:actuate=\"onRequest\" xlink:href=\"psysml:c2eaf658-adee-4a19-a83e-00cce7f1793f\" xlink:show=\"new\" xlink:title=\"psysml:c2eaf658-adee-4a19-a83e-00cce7f1793f\" xlink:type=\"simple\"><rect fill=\"#FFFFFF\" height=\"45.9375\" id=\"E5\" rx=\"10\" ry=\"10\" style=\"stroke: #383838; stroke-width: 1.5;\" width=\"42\" x=\"44\" y=\"147\"/><text fill=\"#000000\" font-family=\"sans-serif\" font-size=\"12\" font-style=\"italic\" lengthAdjust=\"spacingAndGlyphs\" textLength=\"40\" x=\"45\" y=\"163.1387\">«part»</text><text fill=\"#000000\" font-family=\"sans-serif\" font-size=\"12\" lengthAdjust=\"spacingAndGlyphs\" textLength=\"8\" x=\"61\" y=\"177.1074\">g</text><line style=\"stroke: #383838; stroke-width: 1.5;\" x1=\"45\" x2=\"85\" y1=\"184.9375\" y2=\"184.9375\"/></a><!--MD5=[209b3feb70ccb6233bfe1053d122c12c]\n",
       "reverse link E2 to E3--><a href=\"psysml:05544d0a-8d7e-4ac4-8a38-1321d7df08dd\" target=\"_top\" title=\"psysml:05544d0a-8d7e-4ac4-8a38-1321d7df08dd\" xlink:actuate=\"onRequest\" xlink:href=\"psysml:05544d0a-8d7e-4ac4-8a38-1321d7df08dd\" xlink:show=\"new\" xlink:title=\"psysml:05544d0a-8d7e-4ac4-8a38-1321d7df08dd\" xlink:type=\"simple\"><path d=\"M154,100.44 C154,115.87 154,133.47 154,146.98 \" fill=\"none\" id=\"E2&lt;-E3\" style=\"stroke: #383838; stroke-width: 1.0;\"/><polygon fill=\"#383838\" points=\"154,87.06,150,93.06,154,99.06,158,93.06,154,87.06\" style=\"stroke: #383838; stroke-width: 1.0;\"/></a><!--MD5=[62aa6af11e70f752912c1cb0466f24f7]\n",
       "reverse link E4 to E5--><a href=\"psysml:c2eaf658-adee-4a19-a83e-00cce7f1793f\" target=\"_top\" title=\"psysml:c2eaf658-adee-4a19-a83e-00cce7f1793f\" xlink:actuate=\"onRequest\" xlink:href=\"psysml:c2eaf658-adee-4a19-a83e-00cce7f1793f\" xlink:show=\"new\" xlink:title=\"psysml:c2eaf658-adee-4a19-a83e-00cce7f1793f\" xlink:type=\"simple\"><path d=\"M65,100.44 C65,115.87 65,133.47 65,146.98 \" fill=\"none\" id=\"E4&lt;-E5\" style=\"stroke: #383838; stroke-width: 1.0;\"/><polygon fill=\"#383838\" points=\"65,87.06,61,93.06,65,99.06,69,93.06,65,87.06\" style=\"stroke: #383838; stroke-width: 1.0;\"/></a><!--MD5=[c16d2707572489672ede37ab068875be]\n",
       "@startuml\r\n",
       "top to bottom direction\r\n",
       "skinparam monochrome true\r\n",
       "skinparam classbackgroundcolor white\r\n",
       "skinparam shadowing false\r\n",
       "skinparam wrapWidth 300\r\n",
       "hide circle\r\n",
       "\r\n",
       "package \"Q\" as E1  [[psysml:e7978fe0-b69e-4191-a6c6-ff9a405cd716 ]]  {\r\n",
       "comp usage \"f\" as E2  <<(T,blue)part>> [[psysml:d69286fc-6be9-4686-bca9-82760e97d021 ]] {\r\n",
       "}\r\n",
       "comp usage \"a\" as E3  <<(T,blue)part>> [[psysml:05544d0a-8d7e-4ac4-8a38-1321d7df08dd ]] {\r\n",
       "}\r\n",
       "comp def \"C\" as E4  <<(T,blue)part def>> [[psysml:6e0f0160-dcde-436d-afd9-a7845bbec9b5 ]] {\r\n",
       "}\r\n",
       "comp usage \"g\" as E5  <<(T,blue)part>> [[psysml:c2eaf658-adee-4a19-a83e-00cce7f1793f ]] {\r\n",
       "}\r\n",
       "E2 *- - E3 [[psysml:05544d0a-8d7e-4ac4-8a38-1321d7df08dd ]] \r\n",
       "E4 *- - E5 [[psysml:c2eaf658-adee-4a19-a83e-00cce7f1793f ]] \r\n",
       "}\r\n",
       "@enduml\r\n",
       "\n",
       "PlantUML version 1.2020.13(Sat Jun 13 12:26:38 UTC 2020)\n",
       "(EPL source distribution)\n",
       "Java Runtime: OpenJDK Runtime Environment\n",
       "JVM: OpenJDK 64-Bit Server VM\n",
       "Default Encoding: UTF-8\n",
       "Language: en\n",
       "Country: null\n",
       "--></g></svg>"
      ]
     },
     "execution_count": 50,
     "metadata": {},
     "output_type": "execute_result"
    }
   ],
   "source": [
    "%viz --style=\"TB\" --view=\"MIXED\" \"Q\""
   ]
  },
  {
   "cell_type": "code",
   "execution_count": 51,
   "id": "automatic-butler",
   "metadata": {
    "execution": {
     "iopub.execute_input": "2021-03-26T09:12:08.900670Z",
     "iopub.status.busy": "2021-03-26T09:12:08.900194Z",
     "iopub.status.idle": "2021-03-26T09:12:08.923043Z",
     "shell.execute_reply": "2021-03-26T09:12:08.921819Z"
    }
   },
   "outputs": [
    {
     "data": {
      "image/svg+xml": [
       "<?xml version=\"1.0\" encoding=\"UTF-8\" standalone=\"no\"?><svg xmlns=\"http://www.w3.org/2000/svg\" xmlns:xlink=\"http://www.w3.org/1999/xlink\" contentScriptType=\"application/ecmascript\" contentStyleType=\"text/css\" height=\"221px\" preserveAspectRatio=\"none\" style=\"width:213px;height:221px;\" version=\"1.1\" viewBox=\"0 0 213 221\" width=\"213px\" zoomAndPan=\"magnify\"><defs/><g><!--MD5=[fbc87193dbaf4d95561dea2c320d4a47]\n",
       "cluster E1--><a href=\"psysml:e7978fe0-b69e-4191-a6c6-ff9a405cd716\" target=\"_top\" title=\"psysml:e7978fe0-b69e-4191-a6c6-ff9a405cd716\" xlink:actuate=\"onRequest\" xlink:href=\"psysml:e7978fe0-b69e-4191-a6c6-ff9a405cd716\" xlink:show=\"new\" xlink:title=\"psysml:e7978fe0-b69e-4191-a6c6-ff9a405cd716\" xlink:type=\"simple\"><polygon fill=\"#FFFFFF\" points=\"16,6,34,6,41,28.2969,191,28.2969,191,209,16,209,16,6\" style=\"stroke: #000000; stroke-width: 1.5;\"/><line style=\"stroke: #000000; stroke-width: 1.5;\" x1=\"16\" x2=\"41\" y1=\"28.2969\" y2=\"28.2969\"/><text fill=\"#000000\" font-family=\"sans-serif\" font-size=\"14\" font-weight=\"bold\" lengthAdjust=\"spacingAndGlyphs\" textLength=\"12\" x=\"20\" y=\"20.9951\">Q</text></a><!--MD5=[b4997ac47864f28c2f74865a473b2911]\n",
       "class E2--><a href=\"psysml:d69286fc-6be9-4686-bca9-82760e97d021\" target=\"_top\" title=\"psysml:d69286fc-6be9-4686-bca9-82760e97d021\" xlink:actuate=\"onRequest\" xlink:href=\"psysml:d69286fc-6be9-4686-bca9-82760e97d021\" xlink:show=\"new\" xlink:title=\"psysml:d69286fc-6be9-4686-bca9-82760e97d021\" xlink:type=\"simple\"><rect fill=\"#FFFFFF\" height=\"45.9375\" id=\"E2\" rx=\"10\" ry=\"10\" style=\"stroke: #383838; stroke-width: 1.5;\" width=\"42\" x=\"133\" y=\"41\"/><text fill=\"#000000\" font-family=\"sans-serif\" font-size=\"12\" font-style=\"italic\" lengthAdjust=\"spacingAndGlyphs\" textLength=\"40\" x=\"134\" y=\"57.1387\">«part»</text><text fill=\"#000000\" font-family=\"sans-serif\" font-size=\"12\" lengthAdjust=\"spacingAndGlyphs\" textLength=\"4\" x=\"152\" y=\"71.1074\">f</text><line style=\"stroke: #383838; stroke-width: 1.5;\" x1=\"134\" x2=\"174\" y1=\"78.9375\" y2=\"78.9375\"/></a><!--MD5=[09b614a08d8cba4a07c9adeb5e0fee81]\n",
       "class E3--><a href=\"psysml:05544d0a-8d7e-4ac4-8a38-1321d7df08dd\" target=\"_top\" title=\"psysml:05544d0a-8d7e-4ac4-8a38-1321d7df08dd\" xlink:actuate=\"onRequest\" xlink:href=\"psysml:05544d0a-8d7e-4ac4-8a38-1321d7df08dd\" xlink:show=\"new\" xlink:title=\"psysml:05544d0a-8d7e-4ac4-8a38-1321d7df08dd\" xlink:type=\"simple\"><rect fill=\"#FFFFFF\" height=\"45.9375\" id=\"E3\" rx=\"10\" ry=\"10\" style=\"stroke: #383838; stroke-width: 1.5;\" width=\"42\" x=\"133\" y=\"147\"/><text fill=\"#000000\" font-family=\"sans-serif\" font-size=\"12\" font-style=\"italic\" lengthAdjust=\"spacingAndGlyphs\" textLength=\"40\" x=\"134\" y=\"163.1387\">«part»</text><text fill=\"#000000\" font-family=\"sans-serif\" font-size=\"12\" lengthAdjust=\"spacingAndGlyphs\" textLength=\"8\" x=\"150\" y=\"177.1074\">a</text><line style=\"stroke: #383838; stroke-width: 1.5;\" x1=\"134\" x2=\"174\" y1=\"184.9375\" y2=\"184.9375\"/></a><!--MD5=[ebbe1d658d1005bcc118a6aa81145e00]\n",
       "class E4--><a href=\"psysml:6e0f0160-dcde-436d-afd9-a7845bbec9b5\" target=\"_top\" title=\"psysml:6e0f0160-dcde-436d-afd9-a7845bbec9b5\" xlink:actuate=\"onRequest\" xlink:href=\"psysml:6e0f0160-dcde-436d-afd9-a7845bbec9b5\" xlink:show=\"new\" xlink:title=\"psysml:6e0f0160-dcde-436d-afd9-a7845bbec9b5\" xlink:type=\"simple\"><rect fill=\"#FFFFFF\" height=\"45.9375\" id=\"E4\" style=\"stroke: #383838; stroke-width: 1.5;\" width=\"66\" x=\"32\" y=\"41\"/><text fill=\"#000000\" font-family=\"sans-serif\" font-size=\"12\" font-style=\"italic\" lengthAdjust=\"spacingAndGlyphs\" textLength=\"64\" x=\"33\" y=\"57.1387\">«part def»</text><text fill=\"#000000\" font-family=\"sans-serif\" font-size=\"12\" lengthAdjust=\"spacingAndGlyphs\" textLength=\"8\" x=\"61\" y=\"71.1074\">C</text><line style=\"stroke: #383838; stroke-width: 1.5;\" x1=\"33\" x2=\"97\" y1=\"78.9375\" y2=\"78.9375\"/></a><!--MD5=[270fce915f116d4de14055a7c1d9a0f3]\n",
       "class E5--><a href=\"psysml:c2eaf658-adee-4a19-a83e-00cce7f1793f\" target=\"_top\" title=\"psysml:c2eaf658-adee-4a19-a83e-00cce7f1793f\" xlink:actuate=\"onRequest\" xlink:href=\"psysml:c2eaf658-adee-4a19-a83e-00cce7f1793f\" xlink:show=\"new\" xlink:title=\"psysml:c2eaf658-adee-4a19-a83e-00cce7f1793f\" xlink:type=\"simple\"><rect fill=\"#FFFFFF\" height=\"45.9375\" id=\"E5\" rx=\"10\" ry=\"10\" style=\"stroke: #383838; stroke-width: 1.5;\" width=\"42\" x=\"44\" y=\"147\"/><text fill=\"#000000\" font-family=\"sans-serif\" font-size=\"12\" font-style=\"italic\" lengthAdjust=\"spacingAndGlyphs\" textLength=\"40\" x=\"45\" y=\"163.1387\">«part»</text><text fill=\"#000000\" font-family=\"sans-serif\" font-size=\"12\" lengthAdjust=\"spacingAndGlyphs\" textLength=\"8\" x=\"61\" y=\"177.1074\">g</text><line style=\"stroke: #383838; stroke-width: 1.5;\" x1=\"45\" x2=\"85\" y1=\"184.9375\" y2=\"184.9375\"/></a><!--MD5=[209b3feb70ccb6233bfe1053d122c12c]\n",
       "reverse link E2 to E3--><a href=\"psysml:05544d0a-8d7e-4ac4-8a38-1321d7df08dd\" target=\"_top\" title=\"psysml:05544d0a-8d7e-4ac4-8a38-1321d7df08dd\" xlink:actuate=\"onRequest\" xlink:href=\"psysml:05544d0a-8d7e-4ac4-8a38-1321d7df08dd\" xlink:show=\"new\" xlink:title=\"psysml:05544d0a-8d7e-4ac4-8a38-1321d7df08dd\" xlink:type=\"simple\"><path d=\"M154,100 C154,100 154,146.68 154,146.68 \" fill=\"none\" id=\"E2&lt;-E3\" style=\"stroke: #383838; stroke-width: 1.0;\"/><polygon fill=\"#383838\" points=\"154,87,150,93,154,99,158,93,154,87\" style=\"stroke: #383838; stroke-width: 1.0;\"/></a><!--MD5=[62aa6af11e70f752912c1cb0466f24f7]\n",
       "reverse link E4 to E5--><a href=\"psysml:c2eaf658-adee-4a19-a83e-00cce7f1793f\" target=\"_top\" title=\"psysml:c2eaf658-adee-4a19-a83e-00cce7f1793f\" xlink:actuate=\"onRequest\" xlink:href=\"psysml:c2eaf658-adee-4a19-a83e-00cce7f1793f\" xlink:show=\"new\" xlink:title=\"psysml:c2eaf658-adee-4a19-a83e-00cce7f1793f\" xlink:type=\"simple\"><path d=\"M65,100 C65,100 65,146.68 65,146.68 \" fill=\"none\" id=\"E4&lt;-E5\" style=\"stroke: #383838; stroke-width: 1.0;\"/><polygon fill=\"#383838\" points=\"65,87,61,93,65,99,69,93,65,87\" style=\"stroke: #383838; stroke-width: 1.0;\"/></a><!--MD5=[99efa207f3ff84cca394e6218007cea5]\n",
       "@startuml\r\n",
       "skinparam linetype ortho\r\n",
       "skinparam monochrome true\r\n",
       "skinparam classbackgroundcolor white\r\n",
       "skinparam shadowing false\r\n",
       "skinparam wrapWidth 300\r\n",
       "hide circle\r\n",
       "\r\n",
       "package \"Q\" as E1  [[psysml:e7978fe0-b69e-4191-a6c6-ff9a405cd716 ]]  {\r\n",
       "comp usage \"f\" as E2  <<(T,blue)part>> [[psysml:d69286fc-6be9-4686-bca9-82760e97d021 ]] {\r\n",
       "}\r\n",
       "comp usage \"a\" as E3  <<(T,blue)part>> [[psysml:05544d0a-8d7e-4ac4-8a38-1321d7df08dd ]] {\r\n",
       "}\r\n",
       "comp def \"C\" as E4  <<(T,blue)part def>> [[psysml:6e0f0160-dcde-436d-afd9-a7845bbec9b5 ]] {\r\n",
       "}\r\n",
       "comp usage \"g\" as E5  <<(T,blue)part>> [[psysml:c2eaf658-adee-4a19-a83e-00cce7f1793f ]] {\r\n",
       "}\r\n",
       "E2 *- - E3 [[psysml:05544d0a-8d7e-4ac4-8a38-1321d7df08dd ]] \r\n",
       "E4 *- - E5 [[psysml:c2eaf658-adee-4a19-a83e-00cce7f1793f ]] \r\n",
       "}\r\n",
       "@enduml\r\n",
       "\n",
       "PlantUML version 1.2020.13(Sat Jun 13 12:26:38 UTC 2020)\n",
       "(EPL source distribution)\n",
       "Java Runtime: OpenJDK Runtime Environment\n",
       "JVM: OpenJDK 64-Bit Server VM\n",
       "Default Encoding: UTF-8\n",
       "Language: en\n",
       "Country: null\n",
       "--></g></svg>"
      ]
     },
     "execution_count": 51,
     "metadata": {},
     "output_type": "execute_result"
    }
   ],
   "source": [
    "%viz --style=\"ORTHOLINE\" --view=\"Default\" \"Q\""
   ]
  },
  {
   "cell_type": "code",
   "execution_count": 52,
   "id": "collect-physiology",
   "metadata": {
    "execution": {
     "iopub.execute_input": "2021-03-26T09:12:08.973371Z",
     "iopub.status.busy": "2021-03-26T09:12:08.972950Z",
     "iopub.status.idle": "2021-03-26T09:12:09.003532Z",
     "shell.execute_reply": "2021-03-26T09:12:09.002486Z"
    }
   },
   "outputs": [
    {
     "data": {
      "image/svg+xml": [
       "<?xml version=\"1.0\" encoding=\"UTF-8\" standalone=\"no\"?><svg xmlns=\"http://www.w3.org/2000/svg\" xmlns:xlink=\"http://www.w3.org/1999/xlink\" contentScriptType=\"application/ecmascript\" contentStyleType=\"text/css\" height=\"221px\" preserveAspectRatio=\"none\" style=\"width:213px;height:221px;\" version=\"1.1\" viewBox=\"0 0 213 221\" width=\"213px\" zoomAndPan=\"magnify\"><defs/><g><!--MD5=[fbc87193dbaf4d95561dea2c320d4a47]\n",
       "cluster E1--><a href=\"psysml:e7978fe0-b69e-4191-a6c6-ff9a405cd716\" target=\"_top\" title=\"psysml:e7978fe0-b69e-4191-a6c6-ff9a405cd716\" xlink:actuate=\"onRequest\" xlink:href=\"psysml:e7978fe0-b69e-4191-a6c6-ff9a405cd716\" xlink:show=\"new\" xlink:title=\"psysml:e7978fe0-b69e-4191-a6c6-ff9a405cd716\" xlink:type=\"simple\"><polygon fill=\"#FFFFFF\" points=\"16,6,34,6,41,28.2969,191,28.2969,191,209,16,209,16,6\" style=\"stroke: #000000; stroke-width: 1.5;\"/><line style=\"stroke: #000000; stroke-width: 1.5;\" x1=\"16\" x2=\"41\" y1=\"28.2969\" y2=\"28.2969\"/><text fill=\"#000000\" font-family=\"sans-serif\" font-size=\"14\" font-weight=\"bold\" lengthAdjust=\"spacingAndGlyphs\" textLength=\"12\" x=\"20\" y=\"20.9951\">Q</text></a><!--MD5=[b4997ac47864f28c2f74865a473b2911]\n",
       "class E2--><a href=\"psysml:d69286fc-6be9-4686-bca9-82760e97d021\" target=\"_top\" title=\"psysml:d69286fc-6be9-4686-bca9-82760e97d021\" xlink:actuate=\"onRequest\" xlink:href=\"psysml:d69286fc-6be9-4686-bca9-82760e97d021\" xlink:show=\"new\" xlink:title=\"psysml:d69286fc-6be9-4686-bca9-82760e97d021\" xlink:type=\"simple\"><rect fill=\"#FFFFFF\" height=\"45.9375\" id=\"E2\" rx=\"10\" ry=\"10\" style=\"stroke: #383838; stroke-width: 1.5;\" width=\"42\" x=\"133\" y=\"41\"/><text fill=\"#000000\" font-family=\"sans-serif\" font-size=\"12\" font-style=\"italic\" lengthAdjust=\"spacingAndGlyphs\" textLength=\"40\" x=\"134\" y=\"57.1387\">«part»</text><text fill=\"#000000\" font-family=\"sans-serif\" font-size=\"12\" lengthAdjust=\"spacingAndGlyphs\" textLength=\"4\" x=\"152\" y=\"71.1074\">f</text><line style=\"stroke: #383838; stroke-width: 1.5;\" x1=\"134\" x2=\"174\" y1=\"78.9375\" y2=\"78.9375\"/></a><!--MD5=[09b614a08d8cba4a07c9adeb5e0fee81]\n",
       "class E3--><a href=\"psysml:05544d0a-8d7e-4ac4-8a38-1321d7df08dd\" target=\"_top\" title=\"psysml:05544d0a-8d7e-4ac4-8a38-1321d7df08dd\" xlink:actuate=\"onRequest\" xlink:href=\"psysml:05544d0a-8d7e-4ac4-8a38-1321d7df08dd\" xlink:show=\"new\" xlink:title=\"psysml:05544d0a-8d7e-4ac4-8a38-1321d7df08dd\" xlink:type=\"simple\"><rect fill=\"#FFFFFF\" height=\"45.9375\" id=\"E3\" rx=\"10\" ry=\"10\" style=\"stroke: #383838; stroke-width: 1.5;\" width=\"42\" x=\"133\" y=\"147\"/><text fill=\"#000000\" font-family=\"sans-serif\" font-size=\"12\" font-style=\"italic\" lengthAdjust=\"spacingAndGlyphs\" textLength=\"40\" x=\"134\" y=\"163.1387\">«part»</text><text fill=\"#000000\" font-family=\"sans-serif\" font-size=\"12\" lengthAdjust=\"spacingAndGlyphs\" textLength=\"8\" x=\"150\" y=\"177.1074\">a</text><line style=\"stroke: #383838; stroke-width: 1.5;\" x1=\"134\" x2=\"174\" y1=\"184.9375\" y2=\"184.9375\"/></a><!--MD5=[ebbe1d658d1005bcc118a6aa81145e00]\n",
       "class E4--><a href=\"psysml:6e0f0160-dcde-436d-afd9-a7845bbec9b5\" target=\"_top\" title=\"psysml:6e0f0160-dcde-436d-afd9-a7845bbec9b5\" xlink:actuate=\"onRequest\" xlink:href=\"psysml:6e0f0160-dcde-436d-afd9-a7845bbec9b5\" xlink:show=\"new\" xlink:title=\"psysml:6e0f0160-dcde-436d-afd9-a7845bbec9b5\" xlink:type=\"simple\"><rect fill=\"#FFFFFF\" height=\"45.9375\" id=\"E4\" style=\"stroke: #383838; stroke-width: 1.5;\" width=\"66\" x=\"32\" y=\"41\"/><text fill=\"#000000\" font-family=\"sans-serif\" font-size=\"12\" font-style=\"italic\" lengthAdjust=\"spacingAndGlyphs\" textLength=\"64\" x=\"33\" y=\"57.1387\">«part def»</text><text fill=\"#000000\" font-family=\"sans-serif\" font-size=\"12\" lengthAdjust=\"spacingAndGlyphs\" textLength=\"8\" x=\"61\" y=\"71.1074\">C</text><line style=\"stroke: #383838; stroke-width: 1.5;\" x1=\"33\" x2=\"97\" y1=\"78.9375\" y2=\"78.9375\"/></a><!--MD5=[270fce915f116d4de14055a7c1d9a0f3]\n",
       "class E5--><a href=\"psysml:c2eaf658-adee-4a19-a83e-00cce7f1793f\" target=\"_top\" title=\"psysml:c2eaf658-adee-4a19-a83e-00cce7f1793f\" xlink:actuate=\"onRequest\" xlink:href=\"psysml:c2eaf658-adee-4a19-a83e-00cce7f1793f\" xlink:show=\"new\" xlink:title=\"psysml:c2eaf658-adee-4a19-a83e-00cce7f1793f\" xlink:type=\"simple\"><rect fill=\"#FFFFFF\" height=\"45.9375\" id=\"E5\" rx=\"10\" ry=\"10\" style=\"stroke: #383838; stroke-width: 1.5;\" width=\"42\" x=\"44\" y=\"147\"/><text fill=\"#000000\" font-family=\"sans-serif\" font-size=\"12\" font-style=\"italic\" lengthAdjust=\"spacingAndGlyphs\" textLength=\"40\" x=\"45\" y=\"163.1387\">«part»</text><text fill=\"#000000\" font-family=\"sans-serif\" font-size=\"12\" lengthAdjust=\"spacingAndGlyphs\" textLength=\"8\" x=\"61\" y=\"177.1074\">g</text><line style=\"stroke: #383838; stroke-width: 1.5;\" x1=\"45\" x2=\"85\" y1=\"184.9375\" y2=\"184.9375\"/></a><!--MD5=[209b3feb70ccb6233bfe1053d122c12c]\n",
       "reverse link E2 to E3--><a href=\"psysml:05544d0a-8d7e-4ac4-8a38-1321d7df08dd\" target=\"_top\" title=\"psysml:05544d0a-8d7e-4ac4-8a38-1321d7df08dd\" xlink:actuate=\"onRequest\" xlink:href=\"psysml:05544d0a-8d7e-4ac4-8a38-1321d7df08dd\" xlink:show=\"new\" xlink:title=\"psysml:05544d0a-8d7e-4ac4-8a38-1321d7df08dd\" xlink:type=\"simple\"><path d=\"M154,100 C154,100 154,146.68 154,146.68 \" fill=\"none\" id=\"E2&lt;-E3\" style=\"stroke: #383838; stroke-width: 1.0;\"/><polygon fill=\"#383838\" points=\"154,87,150,93,154,99,158,93,154,87\" style=\"stroke: #383838; stroke-width: 1.0;\"/></a><!--MD5=[62aa6af11e70f752912c1cb0466f24f7]\n",
       "reverse link E4 to E5--><a href=\"psysml:c2eaf658-adee-4a19-a83e-00cce7f1793f\" target=\"_top\" title=\"psysml:c2eaf658-adee-4a19-a83e-00cce7f1793f\" xlink:actuate=\"onRequest\" xlink:href=\"psysml:c2eaf658-adee-4a19-a83e-00cce7f1793f\" xlink:show=\"new\" xlink:title=\"psysml:c2eaf658-adee-4a19-a83e-00cce7f1793f\" xlink:type=\"simple\"><path d=\"M65,100 C65,100 65,146.68 65,146.68 \" fill=\"none\" id=\"E4&lt;-E5\" style=\"stroke: #383838; stroke-width: 1.0;\"/><polygon fill=\"#383838\" points=\"65,87,61,93,65,99,69,93,65,87\" style=\"stroke: #383838; stroke-width: 1.0;\"/></a><!--MD5=[99efa207f3ff84cca394e6218007cea5]\n",
       "@startuml\r\n",
       "skinparam linetype ortho\r\n",
       "skinparam monochrome true\r\n",
       "skinparam classbackgroundcolor white\r\n",
       "skinparam shadowing false\r\n",
       "skinparam wrapWidth 300\r\n",
       "hide circle\r\n",
       "\r\n",
       "package \"Q\" as E1  [[psysml:e7978fe0-b69e-4191-a6c6-ff9a405cd716 ]]  {\r\n",
       "comp usage \"f\" as E2  <<(T,blue)part>> [[psysml:d69286fc-6be9-4686-bca9-82760e97d021 ]] {\r\n",
       "}\r\n",
       "comp usage \"a\" as E3  <<(T,blue)part>> [[psysml:05544d0a-8d7e-4ac4-8a38-1321d7df08dd ]] {\r\n",
       "}\r\n",
       "comp def \"C\" as E4  <<(T,blue)part def>> [[psysml:6e0f0160-dcde-436d-afd9-a7845bbec9b5 ]] {\r\n",
       "}\r\n",
       "comp usage \"g\" as E5  <<(T,blue)part>> [[psysml:c2eaf658-adee-4a19-a83e-00cce7f1793f ]] {\r\n",
       "}\r\n",
       "E2 *- - E3 [[psysml:05544d0a-8d7e-4ac4-8a38-1321d7df08dd ]] \r\n",
       "E4 *- - E5 [[psysml:c2eaf658-adee-4a19-a83e-00cce7f1793f ]] \r\n",
       "}\r\n",
       "@enduml\r\n",
       "\n",
       "PlantUML version 1.2020.13(Sat Jun 13 12:26:38 UTC 2020)\n",
       "(EPL source distribution)\n",
       "Java Runtime: OpenJDK Runtime Environment\n",
       "JVM: OpenJDK 64-Bit Server VM\n",
       "Default Encoding: UTF-8\n",
       "Language: en\n",
       "Country: null\n",
       "--></g></svg>"
      ]
     },
     "execution_count": 52,
     "metadata": {},
     "output_type": "execute_result"
    }
   ],
   "source": [
    "%viz --style=\"ORTHOLINE\" --view=\"Tree\" \"Q\""
   ]
  },
  {
   "cell_type": "code",
   "execution_count": 53,
   "id": "resident-console",
   "metadata": {
    "execution": {
     "iopub.execute_input": "2021-03-26T09:12:09.054896Z",
     "iopub.status.busy": "2021-03-26T09:12:09.054324Z",
     "iopub.status.idle": "2021-03-26T09:12:09.059924Z",
     "shell.execute_reply": "2021-03-26T09:12:09.059504Z"
    }
   },
   "outputs": [
    {
     "data": {
      "image/svg+xml": [
       "<?xml version=\"1.0\" encoding=\"UTF-8\" standalone=\"no\"?><svg xmlns=\"http://www.w3.org/2000/svg\" xmlns:xlink=\"http://www.w3.org/1999/xlink\" contentScriptType=\"application/ecmascript\" contentStyleType=\"text/css\" height=\"12px\" preserveAspectRatio=\"none\" style=\"width:12px;height:12px;\" version=\"1.1\" viewBox=\"0 0 12 12\" width=\"12px\" zoomAndPan=\"magnify\"><defs/><g><!--MD5=[97d6f38768b311333d388e66b2b27985]\n",
       "@startuml\r\n",
       "skinparam linetype ortho\r\n",
       "skinparam monochrome true\r\n",
       "skinparam classbackgroundcolor white\r\n",
       "skinparam shadowing false\r\n",
       "skinparam wrapWidth 300\r\n",
       "hide circle\r\n",
       "\r\n",
       "@enduml\r\n",
       "\n",
       "PlantUML version 1.2020.13(Sat Jun 13 12:26:38 UTC 2020)\n",
       "(EPL source distribution)\n",
       "Java Runtime: OpenJDK Runtime Environment\n",
       "JVM: OpenJDK 64-Bit Server VM\n",
       "Default Encoding: UTF-8\n",
       "Language: en\n",
       "Country: null\n",
       "--></g></svg>"
      ]
     },
     "execution_count": 53,
     "metadata": {},
     "output_type": "execute_result"
    }
   ],
   "source": [
    "%viz --style=\"ORTHOLINE\" --view=\"State\" \"Q\""
   ]
  },
  {
   "cell_type": "code",
   "execution_count": 54,
   "id": "disabled-founder",
   "metadata": {
    "execution": {
     "iopub.execute_input": "2021-03-26T09:12:09.112269Z",
     "iopub.status.busy": "2021-03-26T09:12:09.111444Z",
     "iopub.status.idle": "2021-03-26T09:12:09.137444Z",
     "shell.execute_reply": "2021-03-26T09:12:09.136300Z"
    }
   },
   "outputs": [
    {
     "data": {
      "image/svg+xml": [
       "<?xml version=\"1.0\" encoding=\"UTF-8\" standalone=\"no\"?><svg xmlns=\"http://www.w3.org/2000/svg\" xmlns:xlink=\"http://www.w3.org/1999/xlink\" contentScriptType=\"application/ecmascript\" contentStyleType=\"text/css\" height=\"192px\" preserveAspectRatio=\"none\" style=\"width:279px;height:192px;\" version=\"1.1\" viewBox=\"0 0 279 192\" width=\"279px\" zoomAndPan=\"magnify\"><defs/><g><!--MD5=[fbc87193dbaf4d95561dea2c320d4a47]\n",
       "cluster E1--><a href=\"psysml:e7978fe0-b69e-4191-a6c6-ff9a405cd716\" target=\"_top\" title=\"psysml:e7978fe0-b69e-4191-a6c6-ff9a405cd716\" xlink:actuate=\"onRequest\" xlink:href=\"psysml:e7978fe0-b69e-4191-a6c6-ff9a405cd716\" xlink:show=\"new\" xlink:title=\"psysml:e7978fe0-b69e-4191-a6c6-ff9a405cd716\" xlink:type=\"simple\"><polygon fill=\"#FFFFFF\" points=\"16,6,34,6,41,28.2969,257,28.2969,257,180,16,180,16,6\" style=\"stroke: #000000; stroke-width: 1.5;\"/><line style=\"stroke: #000000; stroke-width: 1.5;\" x1=\"16\" x2=\"41\" y1=\"28.2969\" y2=\"28.2969\"/><text fill=\"#000000\" font-family=\"sans-serif\" font-size=\"14\" font-weight=\"bold\" lengthAdjust=\"spacingAndGlyphs\" textLength=\"12\" x=\"20\" y=\"20.9951\">Q</text></a><!--MD5=[e4f7fae6ed58524ba242bb0b0d3be6b7]\n",
       "cluster E2--><a href=\"psysml:d69286fc-6be9-4686-bca9-82760e97d021\" target=\"_top\" title=\"psysml:d69286fc-6be9-4686-bca9-82760e97d021\" xlink:actuate=\"onRequest\" xlink:href=\"psysml:d69286fc-6be9-4686-bca9-82760e97d021\" xlink:show=\"new\" xlink:title=\"psysml:d69286fc-6be9-4686-bca9-82760e97d021\" xlink:type=\"simple\"><rect fill=\"#FFFFFF\" height=\"91\" id=\"E2\" rx=\"10\" ry=\"10\" style=\"stroke: #383838; stroke-width: 1.5;\" width=\"82\" x=\"151\" y=\"65\"/><rect fill=\"#F8F8F8\" height=\"23.9688\" rx=\"10\" ry=\"10\" style=\"stroke: #F8F8F8; stroke-width: 1.5;\" width=\"82\" x=\"151\" y=\"65\"/><rect fill=\"#F8F8F8\" height=\"10\" style=\"stroke: #F8F8F8; stroke-width: 1.5;\" width=\"82\" x=\"151\" y=\"78.9688\"/><rect fill=\"none\" height=\"91\" id=\"E2\" rx=\"10\" ry=\"10\" style=\"stroke: #383838; stroke-width: 1.5;\" width=\"82\" x=\"151\" y=\"65\"/><text fill=\"#000000\" font-family=\"sans-serif\" font-size=\"12\" lengthAdjust=\"spacingAndGlyphs\" textLength=\"4\" x=\"190\" y=\"81.1387\">f</text><line style=\"stroke: #383838; stroke-width: 1.0;\" x1=\"151\" x2=\"233\" y1=\"88.9688\" y2=\"88.9688\"/></a><!--MD5=[f6df4d0ebaf0b5dfb2ced0ae5af7c670]\n",
       "cluster E4--><a href=\"psysml:6e0f0160-dcde-436d-afd9-a7845bbec9b5\" target=\"_top\" title=\"psysml:6e0f0160-dcde-436d-afd9-a7845bbec9b5\" xlink:actuate=\"onRequest\" xlink:href=\"psysml:6e0f0160-dcde-436d-afd9-a7845bbec9b5\" xlink:show=\"new\" xlink:title=\"psysml:6e0f0160-dcde-436d-afd9-a7845bbec9b5\" xlink:type=\"simple\"><rect fill=\"#FFFFFF\" height=\"107\" id=\"E4\" style=\"stroke: #383838; stroke-width: 1.5;\" width=\"87\" x=\"40\" y=\"49\"/><rect fill=\"#F8F8F8\" height=\"37.9375\" style=\"stroke: #383838; stroke-width: 1.5;\" width=\"87\" x=\"40\" y=\"49\"/><text fill=\"#000000\" font-family=\"sans-serif\" font-size=\"12\" font-style=\"italic\" lengthAdjust=\"spacingAndGlyphs\" textLength=\"64\" x=\"51.5\" y=\"65.1387\">«part def»</text><text fill=\"#000000\" font-family=\"sans-serif\" font-size=\"12\" lengthAdjust=\"spacingAndGlyphs\" textLength=\"8\" x=\"79.5\" y=\"79.1074\">C</text></a><g id=\"E1.E2.E3\"><a href=\"psysml:05544d0a-8d7e-4ac4-8a38-1321d7df08dd\" target=\"_top\" title=\"psysml:05544d0a-8d7e-4ac4-8a38-1321d7df08dd\" xlink:actuate=\"onRequest\" xlink:href=\"psysml:05544d0a-8d7e-4ac4-8a38-1321d7df08dd\" xlink:show=\"new\" xlink:title=\"psysml:05544d0a-8d7e-4ac4-8a38-1321d7df08dd\" xlink:type=\"simple\"><rect fill=\"#FFFFFF\" height=\"40\" id=\"E3\" rx=\"10\" ry=\"10\" style=\"stroke: #383838; stroke-width: 1.5;\" width=\"50\" x=\"167\" y=\"100\"/><rect fill=\"#F8F8F8\" height=\"23.9688\" rx=\"10\" ry=\"10\" style=\"stroke: #F8F8F8; stroke-width: 1.5;\" width=\"50\" x=\"167\" y=\"100\"/><rect fill=\"#F8F8F8\" height=\"10\" style=\"stroke: #F8F8F8; stroke-width: 1.5;\" width=\"50\" x=\"167\" y=\"113.9688\"/><rect fill=\"none\" height=\"40\" id=\"E3\" rx=\"10\" ry=\"10\" style=\"stroke: #383838; stroke-width: 1.5;\" width=\"50\" x=\"167\" y=\"100\"/><text fill=\"#000000\" font-family=\"sans-serif\" font-size=\"12\" lengthAdjust=\"spacingAndGlyphs\" textLength=\"8\" x=\"188\" y=\"116.1387\">a</text></a></g><g id=\"E1.E4.E5\"><a href=\"psysml:c2eaf658-adee-4a19-a83e-00cce7f1793f\" target=\"_top\" title=\"psysml:c2eaf658-adee-4a19-a83e-00cce7f1793f\" xlink:actuate=\"onRequest\" xlink:href=\"psysml:c2eaf658-adee-4a19-a83e-00cce7f1793f\" xlink:show=\"new\" xlink:title=\"psysml:c2eaf658-adee-4a19-a83e-00cce7f1793f\" xlink:type=\"simple\"><rect fill=\"#FFFFFF\" height=\"40\" id=\"E5\" rx=\"10\" ry=\"10\" style=\"stroke: #383838; stroke-width: 1.5;\" width=\"50\" x=\"58\" y=\"100\"/><rect fill=\"#F8F8F8\" height=\"23.9688\" rx=\"10\" ry=\"10\" style=\"stroke: #F8F8F8; stroke-width: 1.5;\" width=\"50\" x=\"58\" y=\"100\"/><rect fill=\"#F8F8F8\" height=\"10\" style=\"stroke: #F8F8F8; stroke-width: 1.5;\" width=\"50\" x=\"58\" y=\"113.9688\"/><rect fill=\"none\" height=\"40\" id=\"E5\" rx=\"10\" ry=\"10\" style=\"stroke: #383838; stroke-width: 1.5;\" width=\"50\" x=\"58\" y=\"100\"/><text fill=\"#000000\" font-family=\"sans-serif\" font-size=\"12\" lengthAdjust=\"spacingAndGlyphs\" textLength=\"8\" x=\"79\" y=\"116.1387\">g</text></a></g><!--MD5=[480665a656809b96a05948b2eadc9cb1]\n",
       "@startuml\r\n",
       "skinparam ranksep 8\r\n",
       "skinparam rectangle {\r\n",
       " backgroundColor<<block>> LightGreen\r\n",
       "}\r\n",
       "skinparam linetype ortho\r\n",
       "skinparam monochrome true\r\n",
       "skinparam classbackgroundcolor white\r\n",
       "skinparam shadowing false\r\n",
       "skinparam wrapWidth 300\r\n",
       "hide circle\r\n",
       "\r\n",
       "package \"Q\" as E1  [[psysml:e7978fe0-b69e-4191-a6c6-ff9a405cd716 ]]  {\r\n",
       "rec usage \"f\" as E2  [[psysml:d69286fc-6be9-4686-bca9-82760e97d021 ]] {\r\n",
       "rec usage \"a\" as E3  [[psysml:05544d0a-8d7e-4ac4-8a38-1321d7df08dd ]] {\r\n",
       "}\r\n",
       "}\r\n",
       "rec def \"C\" as E4  <<(T,blue)part def>> [[psysml:6e0f0160-dcde-436d-afd9-a7845bbec9b5 ]] {\r\n",
       "rec usage \"g\" as E5  [[psysml:c2eaf658-adee-4a19-a83e-00cce7f1793f ]] {\r\n",
       "}\r\n",
       "}\r\n",
       "}\r\n",
       "@enduml\r\n",
       "\n",
       "PlantUML version 1.2020.13(Sat Jun 13 12:26:38 UTC 2020)\n",
       "(EPL source distribution)\n",
       "Java Runtime: OpenJDK Runtime Environment\n",
       "JVM: OpenJDK 64-Bit Server VM\n",
       "Default Encoding: UTF-8\n",
       "Language: en\n",
       "Country: null\n",
       "--></g></svg>"
      ]
     },
     "execution_count": 54,
     "metadata": {},
     "output_type": "execute_result"
    }
   ],
   "source": [
    "%viz --style=\"ORTHOLINE\" --view=\"Interconnection\" \"Q\""
   ]
  },
  {
   "cell_type": "code",
   "execution_count": 55,
   "id": "optional-ballet",
   "metadata": {
    "execution": {
     "iopub.execute_input": "2021-03-26T09:12:09.189415Z",
     "iopub.status.busy": "2021-03-26T09:12:09.188640Z",
     "iopub.status.idle": "2021-03-26T09:12:09.194195Z",
     "shell.execute_reply": "2021-03-26T09:12:09.193840Z"
    }
   },
   "outputs": [
    {
     "data": {
      "image/svg+xml": [
       "<?xml version=\"1.0\" encoding=\"UTF-8\" standalone=\"no\"?><svg xmlns=\"http://www.w3.org/2000/svg\" xmlns:xlink=\"http://www.w3.org/1999/xlink\" contentScriptType=\"application/ecmascript\" contentStyleType=\"text/css\" height=\"12px\" preserveAspectRatio=\"none\" style=\"width:12px;height:12px;\" version=\"1.1\" viewBox=\"0 0 12 12\" width=\"12px\" zoomAndPan=\"magnify\"><defs/><g><!--MD5=[72934c63077099a26744516a776b4749]\n",
       "@startuml\r\n",
       "skinparam ranksep 8\r\n",
       "skinparam linetype ortho\r\n",
       "skinparam monochrome true\r\n",
       "skinparam classbackgroundcolor white\r\n",
       "skinparam shadowing false\r\n",
       "skinparam wrapWidth 300\r\n",
       "hide circle\r\n",
       "\r\n",
       "@enduml\r\n",
       "\n",
       "PlantUML version 1.2020.13(Sat Jun 13 12:26:38 UTC 2020)\n",
       "(EPL source distribution)\n",
       "Java Runtime: OpenJDK Runtime Environment\n",
       "JVM: OpenJDK 64-Bit Server VM\n",
       "Default Encoding: UTF-8\n",
       "Language: en\n",
       "Country: null\n",
       "--></g></svg>"
      ]
     },
     "execution_count": 55,
     "metadata": {},
     "output_type": "execute_result"
    }
   ],
   "source": [
    "%viz --style=\"ORTHOLINE\" --view=\"Action\" \"Q\""
   ]
  },
  {
   "cell_type": "code",
   "execution_count": 56,
   "id": "functioning-innocent",
   "metadata": {
    "execution": {
     "iopub.execute_input": "2021-03-26T09:12:09.246079Z",
     "iopub.status.busy": "2021-03-26T09:12:09.245220Z",
     "iopub.status.idle": "2021-03-26T09:12:09.271529Z",
     "shell.execute_reply": "2021-03-26T09:12:09.270340Z"
    }
   },
   "outputs": [
    {
     "data": {
      "image/svg+xml": [
       "<?xml version=\"1.0\" encoding=\"UTF-8\" standalone=\"no\"?><svg xmlns=\"http://www.w3.org/2000/svg\" xmlns:xlink=\"http://www.w3.org/1999/xlink\" contentScriptType=\"application/ecmascript\" contentStyleType=\"text/css\" height=\"221px\" preserveAspectRatio=\"none\" style=\"width:213px;height:221px;\" version=\"1.1\" viewBox=\"0 0 213 221\" width=\"213px\" zoomAndPan=\"magnify\"><defs/><g><!--MD5=[fbc87193dbaf4d95561dea2c320d4a47]\n",
       "cluster E1--><a href=\"psysml:e7978fe0-b69e-4191-a6c6-ff9a405cd716\" target=\"_top\" title=\"psysml:e7978fe0-b69e-4191-a6c6-ff9a405cd716\" xlink:actuate=\"onRequest\" xlink:href=\"psysml:e7978fe0-b69e-4191-a6c6-ff9a405cd716\" xlink:show=\"new\" xlink:title=\"psysml:e7978fe0-b69e-4191-a6c6-ff9a405cd716\" xlink:type=\"simple\"><polygon fill=\"#FFFFFF\" points=\"16,6,34,6,41,28.2969,191,28.2969,191,209,16,209,16,6\" style=\"stroke: #000000; stroke-width: 1.5;\"/><line style=\"stroke: #000000; stroke-width: 1.5;\" x1=\"16\" x2=\"41\" y1=\"28.2969\" y2=\"28.2969\"/><text fill=\"#000000\" font-family=\"sans-serif\" font-size=\"14\" font-weight=\"bold\" lengthAdjust=\"spacingAndGlyphs\" textLength=\"12\" x=\"20\" y=\"20.9951\">Q</text></a><!--MD5=[b4997ac47864f28c2f74865a473b2911]\n",
       "class E2--><a href=\"psysml:d69286fc-6be9-4686-bca9-82760e97d021\" target=\"_top\" title=\"psysml:d69286fc-6be9-4686-bca9-82760e97d021\" xlink:actuate=\"onRequest\" xlink:href=\"psysml:d69286fc-6be9-4686-bca9-82760e97d021\" xlink:show=\"new\" xlink:title=\"psysml:d69286fc-6be9-4686-bca9-82760e97d021\" xlink:type=\"simple\"><rect fill=\"#FFFFFF\" height=\"45.9375\" id=\"E2\" rx=\"10\" ry=\"10\" style=\"stroke: #383838; stroke-width: 1.5;\" width=\"42\" x=\"133\" y=\"41\"/><text fill=\"#000000\" font-family=\"sans-serif\" font-size=\"12\" font-style=\"italic\" lengthAdjust=\"spacingAndGlyphs\" textLength=\"40\" x=\"134\" y=\"57.1387\">«part»</text><text fill=\"#000000\" font-family=\"sans-serif\" font-size=\"12\" lengthAdjust=\"spacingAndGlyphs\" textLength=\"4\" x=\"152\" y=\"71.1074\">f</text><line style=\"stroke: #383838; stroke-width: 1.5;\" x1=\"134\" x2=\"174\" y1=\"78.9375\" y2=\"78.9375\"/></a><!--MD5=[09b614a08d8cba4a07c9adeb5e0fee81]\n",
       "class E3--><a href=\"psysml:05544d0a-8d7e-4ac4-8a38-1321d7df08dd\" target=\"_top\" title=\"psysml:05544d0a-8d7e-4ac4-8a38-1321d7df08dd\" xlink:actuate=\"onRequest\" xlink:href=\"psysml:05544d0a-8d7e-4ac4-8a38-1321d7df08dd\" xlink:show=\"new\" xlink:title=\"psysml:05544d0a-8d7e-4ac4-8a38-1321d7df08dd\" xlink:type=\"simple\"><rect fill=\"#FFFFFF\" height=\"45.9375\" id=\"E3\" rx=\"10\" ry=\"10\" style=\"stroke: #383838; stroke-width: 1.5;\" width=\"42\" x=\"133\" y=\"147\"/><text fill=\"#000000\" font-family=\"sans-serif\" font-size=\"12\" font-style=\"italic\" lengthAdjust=\"spacingAndGlyphs\" textLength=\"40\" x=\"134\" y=\"163.1387\">«part»</text><text fill=\"#000000\" font-family=\"sans-serif\" font-size=\"12\" lengthAdjust=\"spacingAndGlyphs\" textLength=\"8\" x=\"150\" y=\"177.1074\">a</text><line style=\"stroke: #383838; stroke-width: 1.5;\" x1=\"134\" x2=\"174\" y1=\"184.9375\" y2=\"184.9375\"/></a><!--MD5=[ebbe1d658d1005bcc118a6aa81145e00]\n",
       "class E4--><a href=\"psysml:6e0f0160-dcde-436d-afd9-a7845bbec9b5\" target=\"_top\" title=\"psysml:6e0f0160-dcde-436d-afd9-a7845bbec9b5\" xlink:actuate=\"onRequest\" xlink:href=\"psysml:6e0f0160-dcde-436d-afd9-a7845bbec9b5\" xlink:show=\"new\" xlink:title=\"psysml:6e0f0160-dcde-436d-afd9-a7845bbec9b5\" xlink:type=\"simple\"><rect fill=\"#FFFFFF\" height=\"45.9375\" id=\"E4\" style=\"stroke: #383838; stroke-width: 1.5;\" width=\"66\" x=\"32\" y=\"41\"/><text fill=\"#000000\" font-family=\"sans-serif\" font-size=\"12\" font-style=\"italic\" lengthAdjust=\"spacingAndGlyphs\" textLength=\"64\" x=\"33\" y=\"57.1387\">«part def»</text><text fill=\"#000000\" font-family=\"sans-serif\" font-size=\"12\" lengthAdjust=\"spacingAndGlyphs\" textLength=\"8\" x=\"61\" y=\"71.1074\">C</text><line style=\"stroke: #383838; stroke-width: 1.5;\" x1=\"33\" x2=\"97\" y1=\"78.9375\" y2=\"78.9375\"/></a><!--MD5=[270fce915f116d4de14055a7c1d9a0f3]\n",
       "class E5--><a href=\"psysml:c2eaf658-adee-4a19-a83e-00cce7f1793f\" target=\"_top\" title=\"psysml:c2eaf658-adee-4a19-a83e-00cce7f1793f\" xlink:actuate=\"onRequest\" xlink:href=\"psysml:c2eaf658-adee-4a19-a83e-00cce7f1793f\" xlink:show=\"new\" xlink:title=\"psysml:c2eaf658-adee-4a19-a83e-00cce7f1793f\" xlink:type=\"simple\"><rect fill=\"#FFFFFF\" height=\"45.9375\" id=\"E5\" rx=\"10\" ry=\"10\" style=\"stroke: #383838; stroke-width: 1.5;\" width=\"42\" x=\"44\" y=\"147\"/><text fill=\"#000000\" font-family=\"sans-serif\" font-size=\"12\" font-style=\"italic\" lengthAdjust=\"spacingAndGlyphs\" textLength=\"40\" x=\"45\" y=\"163.1387\">«part»</text><text fill=\"#000000\" font-family=\"sans-serif\" font-size=\"12\" lengthAdjust=\"spacingAndGlyphs\" textLength=\"8\" x=\"61\" y=\"177.1074\">g</text><line style=\"stroke: #383838; stroke-width: 1.5;\" x1=\"45\" x2=\"85\" y1=\"184.9375\" y2=\"184.9375\"/></a><!--MD5=[209b3feb70ccb6233bfe1053d122c12c]\n",
       "reverse link E2 to E3--><a href=\"psysml:05544d0a-8d7e-4ac4-8a38-1321d7df08dd\" target=\"_top\" title=\"psysml:05544d0a-8d7e-4ac4-8a38-1321d7df08dd\" xlink:actuate=\"onRequest\" xlink:href=\"psysml:05544d0a-8d7e-4ac4-8a38-1321d7df08dd\" xlink:show=\"new\" xlink:title=\"psysml:05544d0a-8d7e-4ac4-8a38-1321d7df08dd\" xlink:type=\"simple\"><path d=\"M154,100 C154,100 154,146.68 154,146.68 \" fill=\"none\" id=\"E2&lt;-E3\" style=\"stroke: #383838; stroke-width: 1.0;\"/><polygon fill=\"#383838\" points=\"154,87,150,93,154,99,158,93,154,87\" style=\"stroke: #383838; stroke-width: 1.0;\"/></a><!--MD5=[62aa6af11e70f752912c1cb0466f24f7]\n",
       "reverse link E4 to E5--><a href=\"psysml:c2eaf658-adee-4a19-a83e-00cce7f1793f\" target=\"_top\" title=\"psysml:c2eaf658-adee-4a19-a83e-00cce7f1793f\" xlink:actuate=\"onRequest\" xlink:href=\"psysml:c2eaf658-adee-4a19-a83e-00cce7f1793f\" xlink:show=\"new\" xlink:title=\"psysml:c2eaf658-adee-4a19-a83e-00cce7f1793f\" xlink:type=\"simple\"><path d=\"M65,100 C65,100 65,146.68 65,146.68 \" fill=\"none\" id=\"E4&lt;-E5\" style=\"stroke: #383838; stroke-width: 1.0;\"/><polygon fill=\"#383838\" points=\"65,87,61,93,65,99,69,93,65,87\" style=\"stroke: #383838; stroke-width: 1.0;\"/></a><!--MD5=[99efa207f3ff84cca394e6218007cea5]\n",
       "@startuml\r\n",
       "skinparam linetype ortho\r\n",
       "skinparam monochrome true\r\n",
       "skinparam classbackgroundcolor white\r\n",
       "skinparam shadowing false\r\n",
       "skinparam wrapWidth 300\r\n",
       "hide circle\r\n",
       "\r\n",
       "package \"Q\" as E1  [[psysml:e7978fe0-b69e-4191-a6c6-ff9a405cd716 ]]  {\r\n",
       "comp usage \"f\" as E2  <<(T,blue)part>> [[psysml:d69286fc-6be9-4686-bca9-82760e97d021 ]] {\r\n",
       "}\r\n",
       "comp usage \"a\" as E3  <<(T,blue)part>> [[psysml:05544d0a-8d7e-4ac4-8a38-1321d7df08dd ]] {\r\n",
       "}\r\n",
       "comp def \"C\" as E4  <<(T,blue)part def>> [[psysml:6e0f0160-dcde-436d-afd9-a7845bbec9b5 ]] {\r\n",
       "}\r\n",
       "comp usage \"g\" as E5  <<(T,blue)part>> [[psysml:c2eaf658-adee-4a19-a83e-00cce7f1793f ]] {\r\n",
       "}\r\n",
       "E2 *- - E3 [[psysml:05544d0a-8d7e-4ac4-8a38-1321d7df08dd ]] \r\n",
       "E4 *- - E5 [[psysml:c2eaf658-adee-4a19-a83e-00cce7f1793f ]] \r\n",
       "}\r\n",
       "@enduml\r\n",
       "\n",
       "PlantUML version 1.2020.13(Sat Jun 13 12:26:38 UTC 2020)\n",
       "(EPL source distribution)\n",
       "Java Runtime: OpenJDK Runtime Environment\n",
       "JVM: OpenJDK 64-Bit Server VM\n",
       "Default Encoding: UTF-8\n",
       "Language: en\n",
       "Country: null\n",
       "--></g></svg>"
      ]
     },
     "execution_count": 56,
     "metadata": {},
     "output_type": "execute_result"
    }
   ],
   "source": [
    "%viz --style=\"ORTHOLINE\" --view=\"Sequence\" \"Q\""
   ]
  },
  {
   "cell_type": "code",
   "execution_count": 57,
   "id": "reduced-understanding",
   "metadata": {
    "execution": {
     "iopub.execute_input": "2021-03-26T09:12:09.322337Z",
     "iopub.status.busy": "2021-03-26T09:12:09.321917Z",
     "iopub.status.idle": "2021-03-26T09:12:09.344630Z",
     "shell.execute_reply": "2021-03-26T09:12:09.343488Z"
    }
   },
   "outputs": [
    {
     "data": {
      "image/svg+xml": [
       "<?xml version=\"1.0\" encoding=\"UTF-8\" standalone=\"no\"?><svg xmlns=\"http://www.w3.org/2000/svg\" xmlns:xlink=\"http://www.w3.org/1999/xlink\" contentScriptType=\"application/ecmascript\" contentStyleType=\"text/css\" height=\"221px\" preserveAspectRatio=\"none\" style=\"width:213px;height:221px;\" version=\"1.1\" viewBox=\"0 0 213 221\" width=\"213px\" zoomAndPan=\"magnify\"><defs/><g><!--MD5=[fbc87193dbaf4d95561dea2c320d4a47]\n",
       "cluster E1--><a href=\"psysml:e7978fe0-b69e-4191-a6c6-ff9a405cd716\" target=\"_top\" title=\"psysml:e7978fe0-b69e-4191-a6c6-ff9a405cd716\" xlink:actuate=\"onRequest\" xlink:href=\"psysml:e7978fe0-b69e-4191-a6c6-ff9a405cd716\" xlink:show=\"new\" xlink:title=\"psysml:e7978fe0-b69e-4191-a6c6-ff9a405cd716\" xlink:type=\"simple\"><polygon fill=\"#FFFFFF\" points=\"16,6,34,6,41,28.2969,191,28.2969,191,209,16,209,16,6\" style=\"stroke: #000000; stroke-width: 1.5;\"/><line style=\"stroke: #000000; stroke-width: 1.5;\" x1=\"16\" x2=\"41\" y1=\"28.2969\" y2=\"28.2969\"/><text fill=\"#000000\" font-family=\"sans-serif\" font-size=\"14\" font-weight=\"bold\" lengthAdjust=\"spacingAndGlyphs\" textLength=\"12\" x=\"20\" y=\"20.9951\">Q</text></a><!--MD5=[b4997ac47864f28c2f74865a473b2911]\n",
       "class E2--><a href=\"psysml:d69286fc-6be9-4686-bca9-82760e97d021\" target=\"_top\" title=\"psysml:d69286fc-6be9-4686-bca9-82760e97d021\" xlink:actuate=\"onRequest\" xlink:href=\"psysml:d69286fc-6be9-4686-bca9-82760e97d021\" xlink:show=\"new\" xlink:title=\"psysml:d69286fc-6be9-4686-bca9-82760e97d021\" xlink:type=\"simple\"><rect fill=\"#FFFFFF\" height=\"45.9375\" id=\"E2\" rx=\"10\" ry=\"10\" style=\"stroke: #383838; stroke-width: 1.5;\" width=\"42\" x=\"133\" y=\"41\"/><text fill=\"#000000\" font-family=\"sans-serif\" font-size=\"12\" font-style=\"italic\" lengthAdjust=\"spacingAndGlyphs\" textLength=\"40\" x=\"134\" y=\"57.1387\">«part»</text><text fill=\"#000000\" font-family=\"sans-serif\" font-size=\"12\" lengthAdjust=\"spacingAndGlyphs\" textLength=\"4\" x=\"152\" y=\"71.1074\">f</text><line style=\"stroke: #383838; stroke-width: 1.5;\" x1=\"134\" x2=\"174\" y1=\"78.9375\" y2=\"78.9375\"/></a><!--MD5=[09b614a08d8cba4a07c9adeb5e0fee81]\n",
       "class E3--><a href=\"psysml:05544d0a-8d7e-4ac4-8a38-1321d7df08dd\" target=\"_top\" title=\"psysml:05544d0a-8d7e-4ac4-8a38-1321d7df08dd\" xlink:actuate=\"onRequest\" xlink:href=\"psysml:05544d0a-8d7e-4ac4-8a38-1321d7df08dd\" xlink:show=\"new\" xlink:title=\"psysml:05544d0a-8d7e-4ac4-8a38-1321d7df08dd\" xlink:type=\"simple\"><rect fill=\"#FFFFFF\" height=\"45.9375\" id=\"E3\" rx=\"10\" ry=\"10\" style=\"stroke: #383838; stroke-width: 1.5;\" width=\"42\" x=\"133\" y=\"147\"/><text fill=\"#000000\" font-family=\"sans-serif\" font-size=\"12\" font-style=\"italic\" lengthAdjust=\"spacingAndGlyphs\" textLength=\"40\" x=\"134\" y=\"163.1387\">«part»</text><text fill=\"#000000\" font-family=\"sans-serif\" font-size=\"12\" lengthAdjust=\"spacingAndGlyphs\" textLength=\"8\" x=\"150\" y=\"177.1074\">a</text><line style=\"stroke: #383838; stroke-width: 1.5;\" x1=\"134\" x2=\"174\" y1=\"184.9375\" y2=\"184.9375\"/></a><!--MD5=[ebbe1d658d1005bcc118a6aa81145e00]\n",
       "class E4--><a href=\"psysml:6e0f0160-dcde-436d-afd9-a7845bbec9b5\" target=\"_top\" title=\"psysml:6e0f0160-dcde-436d-afd9-a7845bbec9b5\" xlink:actuate=\"onRequest\" xlink:href=\"psysml:6e0f0160-dcde-436d-afd9-a7845bbec9b5\" xlink:show=\"new\" xlink:title=\"psysml:6e0f0160-dcde-436d-afd9-a7845bbec9b5\" xlink:type=\"simple\"><rect fill=\"#FFFFFF\" height=\"45.9375\" id=\"E4\" style=\"stroke: #383838; stroke-width: 1.5;\" width=\"66\" x=\"32\" y=\"41\"/><text fill=\"#000000\" font-family=\"sans-serif\" font-size=\"12\" font-style=\"italic\" lengthAdjust=\"spacingAndGlyphs\" textLength=\"64\" x=\"33\" y=\"57.1387\">«part def»</text><text fill=\"#000000\" font-family=\"sans-serif\" font-size=\"12\" lengthAdjust=\"spacingAndGlyphs\" textLength=\"8\" x=\"61\" y=\"71.1074\">C</text><line style=\"stroke: #383838; stroke-width: 1.5;\" x1=\"33\" x2=\"97\" y1=\"78.9375\" y2=\"78.9375\"/></a><!--MD5=[270fce915f116d4de14055a7c1d9a0f3]\n",
       "class E5--><a href=\"psysml:c2eaf658-adee-4a19-a83e-00cce7f1793f\" target=\"_top\" title=\"psysml:c2eaf658-adee-4a19-a83e-00cce7f1793f\" xlink:actuate=\"onRequest\" xlink:href=\"psysml:c2eaf658-adee-4a19-a83e-00cce7f1793f\" xlink:show=\"new\" xlink:title=\"psysml:c2eaf658-adee-4a19-a83e-00cce7f1793f\" xlink:type=\"simple\"><rect fill=\"#FFFFFF\" height=\"45.9375\" id=\"E5\" rx=\"10\" ry=\"10\" style=\"stroke: #383838; stroke-width: 1.5;\" width=\"42\" x=\"44\" y=\"147\"/><text fill=\"#000000\" font-family=\"sans-serif\" font-size=\"12\" font-style=\"italic\" lengthAdjust=\"spacingAndGlyphs\" textLength=\"40\" x=\"45\" y=\"163.1387\">«part»</text><text fill=\"#000000\" font-family=\"sans-serif\" font-size=\"12\" lengthAdjust=\"spacingAndGlyphs\" textLength=\"8\" x=\"61\" y=\"177.1074\">g</text><line style=\"stroke: #383838; stroke-width: 1.5;\" x1=\"45\" x2=\"85\" y1=\"184.9375\" y2=\"184.9375\"/></a><!--MD5=[209b3feb70ccb6233bfe1053d122c12c]\n",
       "reverse link E2 to E3--><a href=\"psysml:05544d0a-8d7e-4ac4-8a38-1321d7df08dd\" target=\"_top\" title=\"psysml:05544d0a-8d7e-4ac4-8a38-1321d7df08dd\" xlink:actuate=\"onRequest\" xlink:href=\"psysml:05544d0a-8d7e-4ac4-8a38-1321d7df08dd\" xlink:show=\"new\" xlink:title=\"psysml:05544d0a-8d7e-4ac4-8a38-1321d7df08dd\" xlink:type=\"simple\"><path d=\"M154,100 C154,100 154,146.68 154,146.68 \" fill=\"none\" id=\"E2&lt;-E3\" style=\"stroke: #383838; stroke-width: 1.0;\"/><polygon fill=\"#383838\" points=\"154,87,150,93,154,99,158,93,154,87\" style=\"stroke: #383838; stroke-width: 1.0;\"/></a><!--MD5=[62aa6af11e70f752912c1cb0466f24f7]\n",
       "reverse link E4 to E5--><a href=\"psysml:c2eaf658-adee-4a19-a83e-00cce7f1793f\" target=\"_top\" title=\"psysml:c2eaf658-adee-4a19-a83e-00cce7f1793f\" xlink:actuate=\"onRequest\" xlink:href=\"psysml:c2eaf658-adee-4a19-a83e-00cce7f1793f\" xlink:show=\"new\" xlink:title=\"psysml:c2eaf658-adee-4a19-a83e-00cce7f1793f\" xlink:type=\"simple\"><path d=\"M65,100 C65,100 65,146.68 65,146.68 \" fill=\"none\" id=\"E4&lt;-E5\" style=\"stroke: #383838; stroke-width: 1.0;\"/><polygon fill=\"#383838\" points=\"65,87,61,93,65,99,69,93,65,87\" style=\"stroke: #383838; stroke-width: 1.0;\"/></a><!--MD5=[99efa207f3ff84cca394e6218007cea5]\n",
       "@startuml\r\n",
       "skinparam linetype ortho\r\n",
       "skinparam monochrome true\r\n",
       "skinparam classbackgroundcolor white\r\n",
       "skinparam shadowing false\r\n",
       "skinparam wrapWidth 300\r\n",
       "hide circle\r\n",
       "\r\n",
       "package \"Q\" as E1  [[psysml:e7978fe0-b69e-4191-a6c6-ff9a405cd716 ]]  {\r\n",
       "comp usage \"f\" as E2  <<(T,blue)part>> [[psysml:d69286fc-6be9-4686-bca9-82760e97d021 ]] {\r\n",
       "}\r\n",
       "comp usage \"a\" as E3  <<(T,blue)part>> [[psysml:05544d0a-8d7e-4ac4-8a38-1321d7df08dd ]] {\r\n",
       "}\r\n",
       "comp def \"C\" as E4  <<(T,blue)part def>> [[psysml:6e0f0160-dcde-436d-afd9-a7845bbec9b5 ]] {\r\n",
       "}\r\n",
       "comp usage \"g\" as E5  <<(T,blue)part>> [[psysml:c2eaf658-adee-4a19-a83e-00cce7f1793f ]] {\r\n",
       "}\r\n",
       "E2 *- - E3 [[psysml:05544d0a-8d7e-4ac4-8a38-1321d7df08dd ]] \r\n",
       "E4 *- - E5 [[psysml:c2eaf658-adee-4a19-a83e-00cce7f1793f ]] \r\n",
       "}\r\n",
       "@enduml\r\n",
       "\n",
       "PlantUML version 1.2020.13(Sat Jun 13 12:26:38 UTC 2020)\n",
       "(EPL source distribution)\n",
       "Java Runtime: OpenJDK Runtime Environment\n",
       "JVM: OpenJDK 64-Bit Server VM\n",
       "Default Encoding: UTF-8\n",
       "Language: en\n",
       "Country: null\n",
       "--></g></svg>"
      ]
     },
     "execution_count": 57,
     "metadata": {},
     "output_type": "execute_result"
    }
   ],
   "source": [
    "%viz --style=\"ORTHOLINE\" --view=\"MIXED\" \"Q\""
   ]
  }
 ],
 "metadata": {
  "kernelspec": {
   "display_name": "SysML",
   "language": "sysml",
   "name": "sysml"
  },
  "language_info": {
   "codemirror_mode": "sysml",
   "file_extension": ".sysml",
   "mimetype": "text/x-sysml",
   "name": "SysML",
   "pygments_lexer": "java",
   "version": "1.0.0"
  }
 },
 "nbformat": 4,
 "nbformat_minor": 5
}
