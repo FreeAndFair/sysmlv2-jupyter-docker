{
 "cells": [
  {
   "cell_type": "markdown",
   "id": "d1cc61fa",
   "metadata": {},
   "source": [
    "# SysML v2 Test Suite\n",
    "\n",
    "This can notebook can be cleared using menu `Edit --> Clear All Outputs` and then all cells can be\n",
    "run using menu `Run --> Run All Cells`.\n",
    "\n",
    "**WARNING**: This file is generated, all modifications here will be ignored.\n"
   ]
  },
  {
   "cell_type": "markdown",
   "id": "f7976c25",
   "metadata": {},
   "source": [
    "## File: ../../sysml/src/examples/Simple Tests/QPETest.sysml"
   ]
  },
  {
   "cell_type": "code",
   "execution_count": 1,
   "id": "17cd5334",
   "metadata": {
    "execution": {
     "iopub.execute_input": "2021-05-28T10:45:04.298575Z",
     "iopub.status.busy": "2021-05-28T10:45:04.297723Z",
     "iopub.status.idle": "2021-05-28T10:45:04.576578Z",
     "shell.execute_reply": "2021-05-28T10:45:04.575840Z"
    }
   },
   "outputs": [
    {
     "name": "stderr",
     "output_type": "stream",
     "text": [
      "ERROR:For input string: \".\" (1.sysml line : 6 column : 14)\n"
     ]
    },
    {
     "data": {
      "text/plain": []
     },
     "execution_count": 1,
     "metadata": {},
     "output_type": "execute_result"
    }
   ],
   "source": [
    "package Q {\n",
    "  part f {\n",
    "  \tpart a;\n",
    "  }\n",
    "  part def C {\n",
    "    part g = ./f/a; \n",
    "  }\n",
    "}\n"
   ]
  },
  {
   "cell_type": "code",
   "execution_count": 2,
   "id": "231da010",
   "metadata": {
    "execution": {
     "iopub.execute_input": "2021-05-28T10:45:04.628461Z",
     "iopub.status.busy": "2021-05-28T10:45:04.628093Z",
     "iopub.status.idle": "2021-05-28T10:45:04.635115Z",
     "shell.execute_reply": "2021-05-28T10:45:04.634825Z"
    }
   },
   "outputs": [
    {
     "data": {
      "text/plain": [
       "ERROR:Couldn't resolve reference to Element 'Q'\n"
      ]
     },
     "execution_count": 2,
     "metadata": {},
     "output_type": "execute_result"
    }
   ],
   "source": [
    "%viz --style=\"COMPTREE\" --view=\"Default\" \"Q\""
   ]
  },
  {
   "cell_type": "code",
   "execution_count": 3,
   "id": "734b06c8",
   "metadata": {
    "execution": {
     "iopub.execute_input": "2021-05-28T10:45:04.686121Z",
     "iopub.status.busy": "2021-05-28T10:45:04.685210Z",
     "iopub.status.idle": "2021-05-28T10:45:04.687751Z",
     "shell.execute_reply": "2021-05-28T10:45:04.686758Z"
    }
   },
   "outputs": [
    {
     "data": {
      "text/plain": [
       "ERROR:Couldn't resolve reference to Element 'Q'\n"
      ]
     },
     "execution_count": 3,
     "metadata": {},
     "output_type": "execute_result"
    }
   ],
   "source": [
    "%viz --style=\"COMPTREE\" --view=\"Tree\" \"Q\""
   ]
  },
  {
   "cell_type": "code",
   "execution_count": 4,
   "id": "00afa812",
   "metadata": {
    "execution": {
     "iopub.execute_input": "2021-05-28T10:45:04.737685Z",
     "iopub.status.busy": "2021-05-28T10:45:04.737336Z",
     "iopub.status.idle": "2021-05-28T10:45:04.739134Z",
     "shell.execute_reply": "2021-05-28T10:45:04.738831Z"
    }
   },
   "outputs": [
    {
     "data": {
      "text/plain": [
       "ERROR:Couldn't resolve reference to Element 'Q'\n"
      ]
     },
     "execution_count": 4,
     "metadata": {},
     "output_type": "execute_result"
    }
   ],
   "source": [
    "%viz --style=\"COMPTREE\" --view=\"State\" \"Q\""
   ]
  },
  {
   "cell_type": "code",
   "execution_count": 5,
   "id": "a70342dc",
   "metadata": {
    "execution": {
     "iopub.execute_input": "2021-05-28T10:45:04.789888Z",
     "iopub.status.busy": "2021-05-28T10:45:04.789168Z",
     "iopub.status.idle": "2021-05-28T10:45:04.791348Z",
     "shell.execute_reply": "2021-05-28T10:45:04.791086Z"
    }
   },
   "outputs": [
    {
     "data": {
      "text/plain": [
       "ERROR:Couldn't resolve reference to Element 'Q'\n"
      ]
     },
     "execution_count": 5,
     "metadata": {},
     "output_type": "execute_result"
    }
   ],
   "source": [
    "%viz --style=\"COMPTREE\" --view=\"Interconnection\" \"Q\""
   ]
  },
  {
   "cell_type": "code",
   "execution_count": 6,
   "id": "5e0acde4",
   "metadata": {
    "execution": {
     "iopub.execute_input": "2021-05-28T10:45:04.842918Z",
     "iopub.status.busy": "2021-05-28T10:45:04.842035Z",
     "iopub.status.idle": "2021-05-28T10:45:04.844338Z",
     "shell.execute_reply": "2021-05-28T10:45:04.843182Z"
    }
   },
   "outputs": [
    {
     "data": {
      "text/plain": [
       "ERROR:Couldn't resolve reference to Element 'Q'\n"
      ]
     },
     "execution_count": 6,
     "metadata": {},
     "output_type": "execute_result"
    }
   ],
   "source": [
    "%viz --style=\"COMPTREE\" --view=\"Action\" \"Q\""
   ]
  },
  {
   "cell_type": "code",
   "execution_count": 7,
   "id": "4d0448de",
   "metadata": {
    "execution": {
     "iopub.execute_input": "2021-05-28T10:45:04.895491Z",
     "iopub.status.busy": "2021-05-28T10:45:04.894658Z",
     "iopub.status.idle": "2021-05-28T10:45:04.896936Z",
     "shell.execute_reply": "2021-05-28T10:45:04.895867Z"
    }
   },
   "outputs": [
    {
     "data": {
      "text/plain": [
       "ERROR:Couldn't resolve reference to Element 'Q'\n"
      ]
     },
     "execution_count": 7,
     "metadata": {},
     "output_type": "execute_result"
    }
   ],
   "source": [
    "%viz --style=\"COMPTREE\" --view=\"Sequence\" \"Q\""
   ]
  },
  {
   "cell_type": "code",
   "execution_count": 8,
   "id": "545b9b15",
   "metadata": {
    "execution": {
     "iopub.execute_input": "2021-05-28T10:45:04.947794Z",
     "iopub.status.busy": "2021-05-28T10:45:04.947309Z",
     "iopub.status.idle": "2021-05-28T10:45:04.949368Z",
     "shell.execute_reply": "2021-05-28T10:45:04.948105Z"
    }
   },
   "outputs": [
    {
     "data": {
      "text/plain": [
       "ERROR:Couldn't resolve reference to Element 'Q'\n"
      ]
     },
     "execution_count": 8,
     "metadata": {},
     "output_type": "execute_result"
    }
   ],
   "source": [
    "%viz --style=\"COMPTREE\" --view=\"MIXED\" \"Q\""
   ]
  },
  {
   "cell_type": "code",
   "execution_count": 9,
   "id": "8f9dd5dc",
   "metadata": {
    "execution": {
     "iopub.execute_input": "2021-05-28T10:45:05.000243Z",
     "iopub.status.busy": "2021-05-28T10:45:04.999748Z",
     "iopub.status.idle": "2021-05-28T10:45:05.001468Z",
     "shell.execute_reply": "2021-05-28T10:45:05.000527Z"
    }
   },
   "outputs": [
    {
     "data": {
      "text/plain": [
       "ERROR:Couldn't resolve reference to Element 'Q'\n"
      ]
     },
     "execution_count": 9,
     "metadata": {},
     "output_type": "execute_result"
    }
   ],
   "source": [
    "%viz --style=\"POLYLINE\" --view=\"Default\" \"Q\""
   ]
  },
  {
   "cell_type": "code",
   "execution_count": 10,
   "id": "a3d1cea6",
   "metadata": {
    "execution": {
     "iopub.execute_input": "2021-05-28T10:45:05.052921Z",
     "iopub.status.busy": "2021-05-28T10:45:05.052267Z",
     "iopub.status.idle": "2021-05-28T10:45:05.054137Z",
     "shell.execute_reply": "2021-05-28T10:45:05.053248Z"
    }
   },
   "outputs": [
    {
     "data": {
      "text/plain": [
       "ERROR:Couldn't resolve reference to Element 'Q'\n"
      ]
     },
     "execution_count": 10,
     "metadata": {},
     "output_type": "execute_result"
    }
   ],
   "source": [
    "%viz --style=\"POLYLINE\" --view=\"Tree\" \"Q\""
   ]
  },
  {
   "cell_type": "code",
   "execution_count": 11,
   "id": "9b9d28a0",
   "metadata": {
    "execution": {
     "iopub.execute_input": "2021-05-28T10:45:05.105089Z",
     "iopub.status.busy": "2021-05-28T10:45:05.104637Z",
     "iopub.status.idle": "2021-05-28T10:45:05.106339Z",
     "shell.execute_reply": "2021-05-28T10:45:05.105392Z"
    }
   },
   "outputs": [
    {
     "data": {
      "text/plain": [
       "ERROR:Couldn't resolve reference to Element 'Q'\n"
      ]
     },
     "execution_count": 11,
     "metadata": {},
     "output_type": "execute_result"
    }
   ],
   "source": [
    "%viz --style=\"POLYLINE\" --view=\"State\" \"Q\""
   ]
  },
  {
   "cell_type": "code",
   "execution_count": 12,
   "id": "3a24e9cb",
   "metadata": {
    "execution": {
     "iopub.execute_input": "2021-05-28T10:45:05.158414Z",
     "iopub.status.busy": "2021-05-28T10:45:05.157882Z",
     "iopub.status.idle": "2021-05-28T10:45:05.159981Z",
     "shell.execute_reply": "2021-05-28T10:45:05.160308Z"
    }
   },
   "outputs": [
    {
     "data": {
      "text/plain": [
       "ERROR:Couldn't resolve reference to Element 'Q'\n"
      ]
     },
     "execution_count": 12,
     "metadata": {},
     "output_type": "execute_result"
    }
   ],
   "source": [
    "%viz --style=\"POLYLINE\" --view=\"Interconnection\" \"Q\""
   ]
  },
  {
   "cell_type": "code",
   "execution_count": 13,
   "id": "f8233ca0",
   "metadata": {
    "execution": {
     "iopub.execute_input": "2021-05-28T10:45:05.213892Z",
     "iopub.status.busy": "2021-05-28T10:45:05.213046Z",
     "iopub.status.idle": "2021-05-28T10:45:05.215457Z",
     "shell.execute_reply": "2021-05-28T10:45:05.215091Z"
    }
   },
   "outputs": [
    {
     "data": {
      "text/plain": [
       "ERROR:Couldn't resolve reference to Element 'Q'\n"
      ]
     },
     "execution_count": 13,
     "metadata": {},
     "output_type": "execute_result"
    }
   ],
   "source": [
    "%viz --style=\"POLYLINE\" --view=\"Action\" \"Q\""
   ]
  },
  {
   "cell_type": "code",
   "execution_count": 14,
   "id": "76beb27a",
   "metadata": {
    "execution": {
     "iopub.execute_input": "2021-05-28T10:45:05.268165Z",
     "iopub.status.busy": "2021-05-28T10:45:05.267344Z",
     "iopub.status.idle": "2021-05-28T10:45:05.270004Z",
     "shell.execute_reply": "2021-05-28T10:45:05.269594Z"
    }
   },
   "outputs": [
    {
     "data": {
      "text/plain": [
       "ERROR:Couldn't resolve reference to Element 'Q'\n"
      ]
     },
     "execution_count": 14,
     "metadata": {},
     "output_type": "execute_result"
    }
   ],
   "source": [
    "%viz --style=\"POLYLINE\" --view=\"Sequence\" \"Q\""
   ]
  },
  {
   "cell_type": "code",
   "execution_count": 15,
   "id": "a7257af9",
   "metadata": {
    "execution": {
     "iopub.execute_input": "2021-05-28T10:45:05.323384Z",
     "iopub.status.busy": "2021-05-28T10:45:05.322600Z",
     "iopub.status.idle": "2021-05-28T10:45:05.324991Z",
     "shell.execute_reply": "2021-05-28T10:45:05.323866Z"
    }
   },
   "outputs": [
    {
     "data": {
      "text/plain": [
       "ERROR:Couldn't resolve reference to Element 'Q'\n"
      ]
     },
     "execution_count": 15,
     "metadata": {},
     "output_type": "execute_result"
    }
   ],
   "source": [
    "%viz --style=\"POLYLINE\" --view=\"MIXED\" \"Q\""
   ]
  },
  {
   "cell_type": "code",
   "execution_count": 16,
   "id": "be9ea80d",
   "metadata": {
    "execution": {
     "iopub.execute_input": "2021-05-28T10:45:05.378256Z",
     "iopub.status.busy": "2021-05-28T10:45:05.377700Z",
     "iopub.status.idle": "2021-05-28T10:45:05.379504Z",
     "shell.execute_reply": "2021-05-28T10:45:05.379895Z"
    }
   },
   "outputs": [
    {
     "data": {
      "text/plain": [
       "ERROR:Couldn't resolve reference to Element 'Q'\n"
      ]
     },
     "execution_count": 16,
     "metadata": {},
     "output_type": "execute_result"
    }
   ],
   "source": [
    "%viz --style=\"LR\" --view=\"Default\" \"Q\""
   ]
  },
  {
   "cell_type": "code",
   "execution_count": 17,
   "id": "d068760f",
   "metadata": {
    "execution": {
     "iopub.execute_input": "2021-05-28T10:45:05.434374Z",
     "iopub.status.busy": "2021-05-28T10:45:05.433830Z",
     "iopub.status.idle": "2021-05-28T10:45:05.436174Z",
     "shell.execute_reply": "2021-05-28T10:45:05.435735Z"
    }
   },
   "outputs": [
    {
     "data": {
      "text/plain": [
       "ERROR:Couldn't resolve reference to Element 'Q'\n"
      ]
     },
     "execution_count": 17,
     "metadata": {},
     "output_type": "execute_result"
    }
   ],
   "source": [
    "%viz --style=\"LR\" --view=\"Tree\" \"Q\""
   ]
  },
  {
   "cell_type": "code",
   "execution_count": 18,
   "id": "27c7f28f",
   "metadata": {
    "execution": {
     "iopub.execute_input": "2021-05-28T10:45:05.488953Z",
     "iopub.status.busy": "2021-05-28T10:45:05.488078Z",
     "iopub.status.idle": "2021-05-28T10:45:05.490630Z",
     "shell.execute_reply": "2021-05-28T10:45:05.489420Z"
    }
   },
   "outputs": [
    {
     "data": {
      "text/plain": [
       "ERROR:Couldn't resolve reference to Element 'Q'\n"
      ]
     },
     "execution_count": 18,
     "metadata": {},
     "output_type": "execute_result"
    }
   ],
   "source": [
    "%viz --style=\"LR\" --view=\"State\" \"Q\""
   ]
  },
  {
   "cell_type": "code",
   "execution_count": 19,
   "id": "d1622764",
   "metadata": {
    "execution": {
     "iopub.execute_input": "2021-05-28T10:45:05.541880Z",
     "iopub.status.busy": "2021-05-28T10:45:05.541186Z",
     "iopub.status.idle": "2021-05-28T10:45:05.543528Z",
     "shell.execute_reply": "2021-05-28T10:45:05.543153Z"
    }
   },
   "outputs": [
    {
     "data": {
      "text/plain": [
       "ERROR:Couldn't resolve reference to Element 'Q'\n"
      ]
     },
     "execution_count": 19,
     "metadata": {},
     "output_type": "execute_result"
    }
   ],
   "source": [
    "%viz --style=\"LR\" --view=\"Interconnection\" \"Q\""
   ]
  },
  {
   "cell_type": "code",
   "execution_count": 20,
   "id": "23f70eec",
   "metadata": {
    "execution": {
     "iopub.execute_input": "2021-05-28T10:45:05.596387Z",
     "iopub.status.busy": "2021-05-28T10:45:05.595559Z",
     "iopub.status.idle": "2021-05-28T10:45:05.597994Z",
     "shell.execute_reply": "2021-05-28T10:45:05.597580Z"
    }
   },
   "outputs": [
    {
     "data": {
      "text/plain": [
       "ERROR:Couldn't resolve reference to Element 'Q'\n"
      ]
     },
     "execution_count": 20,
     "metadata": {},
     "output_type": "execute_result"
    }
   ],
   "source": [
    "%viz --style=\"LR\" --view=\"Action\" \"Q\""
   ]
  },
  {
   "cell_type": "code",
   "execution_count": 21,
   "id": "170c620a",
   "metadata": {
    "execution": {
     "iopub.execute_input": "2021-05-28T10:45:05.650283Z",
     "iopub.status.busy": "2021-05-28T10:45:05.649473Z",
     "iopub.status.idle": "2021-05-28T10:45:05.653876Z",
     "shell.execute_reply": "2021-05-28T10:45:05.653404Z"
    }
   },
   "outputs": [
    {
     "data": {
      "text/plain": [
       "ERROR:Couldn't resolve reference to Element 'Q'\n"
      ]
     },
     "execution_count": 21,
     "metadata": {},
     "output_type": "execute_result"
    }
   ],
   "source": [
    "%viz --style=\"LR\" --view=\"Sequence\" \"Q\""
   ]
  },
  {
   "cell_type": "code",
   "execution_count": 22,
   "id": "24493fde",
   "metadata": {
    "execution": {
     "iopub.execute_input": "2021-05-28T10:45:05.704747Z",
     "iopub.status.busy": "2021-05-28T10:45:05.704083Z",
     "iopub.status.idle": "2021-05-28T10:45:05.706450Z",
     "shell.execute_reply": "2021-05-28T10:45:05.705174Z"
    }
   },
   "outputs": [
    {
     "data": {
      "text/plain": [
       "ERROR:Couldn't resolve reference to Element 'Q'\n"
      ]
     },
     "execution_count": 22,
     "metadata": {},
     "output_type": "execute_result"
    }
   ],
   "source": [
    "%viz --style=\"LR\" --view=\"MIXED\" \"Q\""
   ]
  },
  {
   "cell_type": "code",
   "execution_count": 23,
   "id": "8e8f66ab",
   "metadata": {
    "execution": {
     "iopub.execute_input": "2021-05-28T10:45:05.758704Z",
     "iopub.status.busy": "2021-05-28T10:45:05.758088Z",
     "iopub.status.idle": "2021-05-28T10:45:05.760681Z",
     "shell.execute_reply": "2021-05-28T10:45:05.760150Z"
    }
   },
   "outputs": [
    {
     "data": {
      "text/plain": [
       "ERROR:Couldn't resolve reference to Element 'Q'\n"
      ]
     },
     "execution_count": 23,
     "metadata": {},
     "output_type": "execute_result"
    }
   ],
   "source": [
    "%viz --style=\"STDCOLOR\" --view=\"Default\" \"Q\""
   ]
  },
  {
   "cell_type": "code",
   "execution_count": 24,
   "id": "dbc5b7a0",
   "metadata": {
    "execution": {
     "iopub.execute_input": "2021-05-28T10:45:05.812270Z",
     "iopub.status.busy": "2021-05-28T10:45:05.811526Z",
     "iopub.status.idle": "2021-05-28T10:45:05.814006Z",
     "shell.execute_reply": "2021-05-28T10:45:05.813582Z"
    }
   },
   "outputs": [
    {
     "data": {
      "text/plain": [
       "ERROR:Couldn't resolve reference to Element 'Q'\n"
      ]
     },
     "execution_count": 24,
     "metadata": {},
     "output_type": "execute_result"
    }
   ],
   "source": [
    "%viz --style=\"STDCOLOR\" --view=\"Tree\" \"Q\""
   ]
  },
  {
   "cell_type": "code",
   "execution_count": 25,
   "id": "450831b5",
   "metadata": {
    "execution": {
     "iopub.execute_input": "2021-05-28T10:45:05.866815Z",
     "iopub.status.busy": "2021-05-28T10:45:05.865867Z",
     "iopub.status.idle": "2021-05-28T10:45:05.869143Z",
     "shell.execute_reply": "2021-05-28T10:45:05.867270Z"
    }
   },
   "outputs": [
    {
     "data": {
      "text/plain": [
       "ERROR:Couldn't resolve reference to Element 'Q'\n"
      ]
     },
     "execution_count": 25,
     "metadata": {},
     "output_type": "execute_result"
    }
   ],
   "source": [
    "%viz --style=\"STDCOLOR\" --view=\"State\" \"Q\""
   ]
  },
  {
   "cell_type": "code",
   "execution_count": 26,
   "id": "87ef5d78",
   "metadata": {
    "execution": {
     "iopub.execute_input": "2021-05-28T10:45:05.920737Z",
     "iopub.status.busy": "2021-05-28T10:45:05.919960Z",
     "iopub.status.idle": "2021-05-28T10:45:05.922253Z",
     "shell.execute_reply": "2021-05-28T10:45:05.921138Z"
    }
   },
   "outputs": [
    {
     "data": {
      "text/plain": [
       "ERROR:Couldn't resolve reference to Element 'Q'\n"
      ]
     },
     "execution_count": 26,
     "metadata": {},
     "output_type": "execute_result"
    }
   ],
   "source": [
    "%viz --style=\"STDCOLOR\" --view=\"Interconnection\" \"Q\""
   ]
  },
  {
   "cell_type": "code",
   "execution_count": 27,
   "id": "a33661b5",
   "metadata": {
    "execution": {
     "iopub.execute_input": "2021-05-28T10:45:05.974549Z",
     "iopub.status.busy": "2021-05-28T10:45:05.973758Z",
     "iopub.status.idle": "2021-05-28T10:45:05.976360Z",
     "shell.execute_reply": "2021-05-28T10:45:05.975875Z"
    }
   },
   "outputs": [
    {
     "data": {
      "text/plain": [
       "ERROR:Couldn't resolve reference to Element 'Q'\n"
      ]
     },
     "execution_count": 27,
     "metadata": {},
     "output_type": "execute_result"
    }
   ],
   "source": [
    "%viz --style=\"STDCOLOR\" --view=\"Action\" \"Q\""
   ]
  },
  {
   "cell_type": "code",
   "execution_count": 28,
   "id": "3315f8b8",
   "metadata": {
    "execution": {
     "iopub.execute_input": "2021-05-28T10:45:06.028202Z",
     "iopub.status.busy": "2021-05-28T10:45:06.027473Z",
     "iopub.status.idle": "2021-05-28T10:45:06.029704Z",
     "shell.execute_reply": "2021-05-28T10:45:06.028589Z"
    }
   },
   "outputs": [
    {
     "data": {
      "text/plain": [
       "ERROR:Couldn't resolve reference to Element 'Q'\n"
      ]
     },
     "execution_count": 28,
     "metadata": {},
     "output_type": "execute_result"
    }
   ],
   "source": [
    "%viz --style=\"STDCOLOR\" --view=\"Sequence\" \"Q\""
   ]
  },
  {
   "cell_type": "code",
   "execution_count": 29,
   "id": "abb4574a",
   "metadata": {
    "execution": {
     "iopub.execute_input": "2021-05-28T10:45:06.081376Z",
     "iopub.status.busy": "2021-05-28T10:45:06.080755Z",
     "iopub.status.idle": "2021-05-28T10:45:06.083051Z",
     "shell.execute_reply": "2021-05-28T10:45:06.082628Z"
    }
   },
   "outputs": [
    {
     "data": {
      "text/plain": [
       "ERROR:Couldn't resolve reference to Element 'Q'\n"
      ]
     },
     "execution_count": 29,
     "metadata": {},
     "output_type": "execute_result"
    }
   ],
   "source": [
    "%viz --style=\"STDCOLOR\" --view=\"MIXED\" \"Q\""
   ]
  },
  {
   "cell_type": "code",
   "execution_count": 30,
   "id": "0726a3ea",
   "metadata": {
    "execution": {
     "iopub.execute_input": "2021-05-28T10:45:06.136500Z",
     "iopub.status.busy": "2021-05-28T10:45:06.135270Z",
     "iopub.status.idle": "2021-05-28T10:45:06.138225Z",
     "shell.execute_reply": "2021-05-28T10:45:06.137051Z"
    }
   },
   "outputs": [
    {
     "data": {
      "text/plain": [
       "ERROR:Couldn't resolve reference to Element 'Q'\n"
      ]
     },
     "execution_count": 30,
     "metadata": {},
     "output_type": "execute_result"
    }
   ],
   "source": [
    "%viz --style=\"PLANTUML\" --view=\"Default\" \"Q\""
   ]
  },
  {
   "cell_type": "code",
   "execution_count": 31,
   "id": "9f628f8c",
   "metadata": {
    "execution": {
     "iopub.execute_input": "2021-05-28T10:45:06.189924Z",
     "iopub.status.busy": "2021-05-28T10:45:06.189090Z",
     "iopub.status.idle": "2021-05-28T10:45:06.191556Z",
     "shell.execute_reply": "2021-05-28T10:45:06.190367Z"
    }
   },
   "outputs": [
    {
     "data": {
      "text/plain": [
       "ERROR:Couldn't resolve reference to Element 'Q'\n"
      ]
     },
     "execution_count": 31,
     "metadata": {},
     "output_type": "execute_result"
    }
   ],
   "source": [
    "%viz --style=\"PLANTUML\" --view=\"Tree\" \"Q\""
   ]
  },
  {
   "cell_type": "code",
   "execution_count": 32,
   "id": "43937606",
   "metadata": {
    "execution": {
     "iopub.execute_input": "2021-05-28T10:45:06.244004Z",
     "iopub.status.busy": "2021-05-28T10:45:06.243044Z",
     "iopub.status.idle": "2021-05-28T10:45:06.245929Z",
     "shell.execute_reply": "2021-05-28T10:45:06.244442Z"
    }
   },
   "outputs": [
    {
     "data": {
      "text/plain": [
       "ERROR:Couldn't resolve reference to Element 'Q'\n"
      ]
     },
     "execution_count": 32,
     "metadata": {},
     "output_type": "execute_result"
    }
   ],
   "source": [
    "%viz --style=\"PLANTUML\" --view=\"State\" \"Q\""
   ]
  },
  {
   "cell_type": "code",
   "execution_count": 33,
   "id": "44db58f3",
   "metadata": {
    "execution": {
     "iopub.execute_input": "2021-05-28T10:45:06.297237Z",
     "iopub.status.busy": "2021-05-28T10:45:06.296379Z",
     "iopub.status.idle": "2021-05-28T10:45:06.299067Z",
     "shell.execute_reply": "2021-05-28T10:45:06.298612Z"
    }
   },
   "outputs": [
    {
     "data": {
      "text/plain": [
       "ERROR:Couldn't resolve reference to Element 'Q'\n"
      ]
     },
     "execution_count": 33,
     "metadata": {},
     "output_type": "execute_result"
    }
   ],
   "source": [
    "%viz --style=\"PLANTUML\" --view=\"Interconnection\" \"Q\""
   ]
  },
  {
   "cell_type": "code",
   "execution_count": 34,
   "id": "f1ee0a60",
   "metadata": {
    "execution": {
     "iopub.execute_input": "2021-05-28T10:45:06.349408Z",
     "iopub.status.busy": "2021-05-28T10:45:06.348662Z",
     "iopub.status.idle": "2021-05-28T10:45:06.351033Z",
     "shell.execute_reply": "2021-05-28T10:45:06.349897Z"
    }
   },
   "outputs": [
    {
     "data": {
      "text/plain": [
       "ERROR:Couldn't resolve reference to Element 'Q'\n"
      ]
     },
     "execution_count": 34,
     "metadata": {},
     "output_type": "execute_result"
    }
   ],
   "source": [
    "%viz --style=\"PLANTUML\" --view=\"Action\" \"Q\""
   ]
  },
  {
   "cell_type": "code",
   "execution_count": 35,
   "id": "52bf6644",
   "metadata": {
    "execution": {
     "iopub.execute_input": "2021-05-28T10:45:06.402559Z",
     "iopub.status.busy": "2021-05-28T10:45:06.401702Z",
     "iopub.status.idle": "2021-05-28T10:45:06.404415Z",
     "shell.execute_reply": "2021-05-28T10:45:06.403992Z"
    }
   },
   "outputs": [
    {
     "data": {
      "text/plain": [
       "ERROR:Couldn't resolve reference to Element 'Q'\n"
      ]
     },
     "execution_count": 35,
     "metadata": {},
     "output_type": "execute_result"
    }
   ],
   "source": [
    "%viz --style=\"PLANTUML\" --view=\"Sequence\" \"Q\""
   ]
  },
  {
   "cell_type": "code",
   "execution_count": 36,
   "id": "5048d4d7",
   "metadata": {
    "execution": {
     "iopub.execute_input": "2021-05-28T10:45:06.456725Z",
     "iopub.status.busy": "2021-05-28T10:45:06.456177Z",
     "iopub.status.idle": "2021-05-28T10:45:06.458267Z",
     "shell.execute_reply": "2021-05-28T10:45:06.457150Z"
    }
   },
   "outputs": [
    {
     "data": {
      "text/plain": [
       "ERROR:Couldn't resolve reference to Element 'Q'\n"
      ]
     },
     "execution_count": 36,
     "metadata": {},
     "output_type": "execute_result"
    }
   ],
   "source": [
    "%viz --style=\"PLANTUML\" --view=\"MIXED\" \"Q\""
   ]
  },
  {
   "cell_type": "code",
   "execution_count": 37,
   "id": "ccb3fb04",
   "metadata": {
    "execution": {
     "iopub.execute_input": "2021-05-28T10:45:06.510990Z",
     "iopub.status.busy": "2021-05-28T10:45:06.510231Z",
     "iopub.status.idle": "2021-05-28T10:45:06.512684Z",
     "shell.execute_reply": "2021-05-28T10:45:06.511472Z"
    }
   },
   "outputs": [
    {
     "data": {
      "text/plain": [
       "ERROR:Couldn't resolve reference to Element 'Q'\n"
      ]
     },
     "execution_count": 37,
     "metadata": {},
     "output_type": "execute_result"
    }
   ],
   "source": [
    "%viz --style=\"DEFAULT\" --view=\"Default\" \"Q\""
   ]
  },
  {
   "cell_type": "code",
   "execution_count": 38,
   "id": "65c9346e",
   "metadata": {
    "execution": {
     "iopub.execute_input": "2021-05-28T10:45:06.564602Z",
     "iopub.status.busy": "2021-05-28T10:45:06.563977Z",
     "iopub.status.idle": "2021-05-28T10:45:06.566399Z",
     "shell.execute_reply": "2021-05-28T10:45:06.565097Z"
    }
   },
   "outputs": [
    {
     "data": {
      "text/plain": [
       "ERROR:Couldn't resolve reference to Element 'Q'\n"
      ]
     },
     "execution_count": 38,
     "metadata": {},
     "output_type": "execute_result"
    }
   ],
   "source": [
    "%viz --style=\"DEFAULT\" --view=\"Tree\" \"Q\""
   ]
  },
  {
   "cell_type": "code",
   "execution_count": 39,
   "id": "fd441e5c",
   "metadata": {
    "execution": {
     "iopub.execute_input": "2021-05-28T10:45:06.617896Z",
     "iopub.status.busy": "2021-05-28T10:45:06.617056Z",
     "iopub.status.idle": "2021-05-28T10:45:06.619527Z",
     "shell.execute_reply": "2021-05-28T10:45:06.618318Z"
    }
   },
   "outputs": [
    {
     "data": {
      "text/plain": [
       "ERROR:Couldn't resolve reference to Element 'Q'\n"
      ]
     },
     "execution_count": 39,
     "metadata": {},
     "output_type": "execute_result"
    }
   ],
   "source": [
    "%viz --style=\"DEFAULT\" --view=\"State\" \"Q\""
   ]
  },
  {
   "cell_type": "code",
   "execution_count": 40,
   "id": "8bd1f7cb",
   "metadata": {
    "execution": {
     "iopub.execute_input": "2021-05-28T10:45:06.670826Z",
     "iopub.status.busy": "2021-05-28T10:45:06.670161Z",
     "iopub.status.idle": "2021-05-28T10:45:06.672468Z",
     "shell.execute_reply": "2021-05-28T10:45:06.671245Z"
    }
   },
   "outputs": [
    {
     "data": {
      "text/plain": [
       "ERROR:Couldn't resolve reference to Element 'Q'\n"
      ]
     },
     "execution_count": 40,
     "metadata": {},
     "output_type": "execute_result"
    }
   ],
   "source": [
    "%viz --style=\"DEFAULT\" --view=\"Interconnection\" \"Q\""
   ]
  },
  {
   "cell_type": "code",
   "execution_count": 41,
   "id": "be0bba0b",
   "metadata": {
    "execution": {
     "iopub.execute_input": "2021-05-28T10:45:06.724543Z",
     "iopub.status.busy": "2021-05-28T10:45:06.723720Z",
     "iopub.status.idle": "2021-05-28T10:45:06.726182Z",
     "shell.execute_reply": "2021-05-28T10:45:06.725021Z"
    }
   },
   "outputs": [
    {
     "data": {
      "text/plain": [
       "ERROR:Couldn't resolve reference to Element 'Q'\n"
      ]
     },
     "execution_count": 41,
     "metadata": {},
     "output_type": "execute_result"
    }
   ],
   "source": [
    "%viz --style=\"DEFAULT\" --view=\"Action\" \"Q\""
   ]
  },
  {
   "cell_type": "code",
   "execution_count": 42,
   "id": "d1a00360",
   "metadata": {
    "execution": {
     "iopub.execute_input": "2021-05-28T10:45:06.778012Z",
     "iopub.status.busy": "2021-05-28T10:45:06.777165Z",
     "iopub.status.idle": "2021-05-28T10:45:06.780172Z",
     "shell.execute_reply": "2021-05-28T10:45:06.778441Z"
    }
   },
   "outputs": [
    {
     "data": {
      "text/plain": [
       "ERROR:Couldn't resolve reference to Element 'Q'\n"
      ]
     },
     "execution_count": 42,
     "metadata": {},
     "output_type": "execute_result"
    }
   ],
   "source": [
    "%viz --style=\"DEFAULT\" --view=\"Sequence\" \"Q\""
   ]
  },
  {
   "cell_type": "code",
   "execution_count": 43,
   "id": "fb853f58",
   "metadata": {
    "execution": {
     "iopub.execute_input": "2021-05-28T10:45:06.829642Z",
     "iopub.status.busy": "2021-05-28T10:45:06.829095Z",
     "iopub.status.idle": "2021-05-28T10:45:06.831073Z",
     "shell.execute_reply": "2021-05-28T10:45:06.830044Z"
    }
   },
   "outputs": [
    {
     "data": {
      "text/plain": [
       "ERROR:Couldn't resolve reference to Element 'Q'\n"
      ]
     },
     "execution_count": 43,
     "metadata": {},
     "output_type": "execute_result"
    }
   ],
   "source": [
    "%viz --style=\"DEFAULT\" --view=\"MIXED\" \"Q\""
   ]
  },
  {
   "cell_type": "code",
   "execution_count": 44,
   "id": "3ca06c78",
   "metadata": {
    "execution": {
     "iopub.execute_input": "2021-05-28T10:45:06.883073Z",
     "iopub.status.busy": "2021-05-28T10:45:06.882068Z",
     "iopub.status.idle": "2021-05-28T10:45:06.884762Z",
     "shell.execute_reply": "2021-05-28T10:45:06.883463Z"
    }
   },
   "outputs": [
    {
     "data": {
      "text/plain": [
       "ERROR:Couldn't resolve reference to Element 'Q'\n"
      ]
     },
     "execution_count": 44,
     "metadata": {},
     "output_type": "execute_result"
    }
   ],
   "source": [
    "%viz --style=\"TB\" --view=\"Default\" \"Q\""
   ]
  },
  {
   "cell_type": "code",
   "execution_count": 45,
   "id": "d828be77",
   "metadata": {
    "execution": {
     "iopub.execute_input": "2021-05-28T10:45:06.936538Z",
     "iopub.status.busy": "2021-05-28T10:45:06.935624Z",
     "iopub.status.idle": "2021-05-28T10:45:06.938385Z",
     "shell.execute_reply": "2021-05-28T10:45:06.937092Z"
    }
   },
   "outputs": [
    {
     "data": {
      "text/plain": [
       "ERROR:Couldn't resolve reference to Element 'Q'\n"
      ]
     },
     "execution_count": 45,
     "metadata": {},
     "output_type": "execute_result"
    }
   ],
   "source": [
    "%viz --style=\"TB\" --view=\"Tree\" \"Q\""
   ]
  },
  {
   "cell_type": "code",
   "execution_count": 46,
   "id": "3074afc5",
   "metadata": {
    "execution": {
     "iopub.execute_input": "2021-05-28T10:45:06.988041Z",
     "iopub.status.busy": "2021-05-28T10:45:06.987387Z",
     "iopub.status.idle": "2021-05-28T10:45:06.989541Z",
     "shell.execute_reply": "2021-05-28T10:45:06.989181Z"
    }
   },
   "outputs": [
    {
     "data": {
      "text/plain": [
       "ERROR:Couldn't resolve reference to Element 'Q'\n"
      ]
     },
     "execution_count": 46,
     "metadata": {},
     "output_type": "execute_result"
    }
   ],
   "source": [
    "%viz --style=\"TB\" --view=\"State\" \"Q\""
   ]
  },
  {
   "cell_type": "code",
   "execution_count": 47,
   "id": "9ac26c92",
   "metadata": {
    "execution": {
     "iopub.execute_input": "2021-05-28T10:45:07.040850Z",
     "iopub.status.busy": "2021-05-28T10:45:07.040299Z",
     "iopub.status.idle": "2021-05-28T10:45:07.042335Z",
     "shell.execute_reply": "2021-05-28T10:45:07.041192Z"
    }
   },
   "outputs": [
    {
     "data": {
      "text/plain": [
       "ERROR:Couldn't resolve reference to Element 'Q'\n"
      ]
     },
     "execution_count": 47,
     "metadata": {},
     "output_type": "execute_result"
    }
   ],
   "source": [
    "%viz --style=\"TB\" --view=\"Interconnection\" \"Q\""
   ]
  },
  {
   "cell_type": "code",
   "execution_count": 48,
   "id": "58e79444",
   "metadata": {
    "execution": {
     "iopub.execute_input": "2021-05-28T10:45:07.093009Z",
     "iopub.status.busy": "2021-05-28T10:45:07.092369Z",
     "iopub.status.idle": "2021-05-28T10:45:07.094369Z",
     "shell.execute_reply": "2021-05-28T10:45:07.093377Z"
    }
   },
   "outputs": [
    {
     "data": {
      "text/plain": [
       "ERROR:Couldn't resolve reference to Element 'Q'\n"
      ]
     },
     "execution_count": 48,
     "metadata": {},
     "output_type": "execute_result"
    }
   ],
   "source": [
    "%viz --style=\"TB\" --view=\"Action\" \"Q\""
   ]
  },
  {
   "cell_type": "code",
   "execution_count": 49,
   "id": "3938460f",
   "metadata": {
    "execution": {
     "iopub.execute_input": "2021-05-28T10:45:07.149397Z",
     "iopub.status.busy": "2021-05-28T10:45:07.148574Z",
     "iopub.status.idle": "2021-05-28T10:45:07.151235Z",
     "shell.execute_reply": "2021-05-28T10:45:07.149955Z"
    }
   },
   "outputs": [
    {
     "data": {
      "text/plain": [
       "ERROR:Couldn't resolve reference to Element 'Q'\n"
      ]
     },
     "execution_count": 49,
     "metadata": {},
     "output_type": "execute_result"
    }
   ],
   "source": [
    "%viz --style=\"TB\" --view=\"Sequence\" \"Q\""
   ]
  },
  {
   "cell_type": "code",
   "execution_count": 50,
   "id": "078fddda",
   "metadata": {
    "execution": {
     "iopub.execute_input": "2021-05-28T10:45:07.203041Z",
     "iopub.status.busy": "2021-05-28T10:45:07.202286Z",
     "iopub.status.idle": "2021-05-28T10:45:07.204814Z",
     "shell.execute_reply": "2021-05-28T10:45:07.203486Z"
    }
   },
   "outputs": [
    {
     "data": {
      "text/plain": [
       "ERROR:Couldn't resolve reference to Element 'Q'\n"
      ]
     },
     "execution_count": 50,
     "metadata": {},
     "output_type": "execute_result"
    }
   ],
   "source": [
    "%viz --style=\"TB\" --view=\"MIXED\" \"Q\""
   ]
  },
  {
   "cell_type": "code",
   "execution_count": 51,
   "id": "9d16d73c",
   "metadata": {
    "execution": {
     "iopub.execute_input": "2021-05-28T10:45:07.256502Z",
     "iopub.status.busy": "2021-05-28T10:45:07.255575Z",
     "iopub.status.idle": "2021-05-28T10:45:07.258301Z",
     "shell.execute_reply": "2021-05-28T10:45:07.257018Z"
    }
   },
   "outputs": [
    {
     "data": {
      "text/plain": [
       "ERROR:Couldn't resolve reference to Element 'Q'\n"
      ]
     },
     "execution_count": 51,
     "metadata": {},
     "output_type": "execute_result"
    }
   ],
   "source": [
    "%viz --style=\"ORTHOLINE\" --view=\"Default\" \"Q\""
   ]
  },
  {
   "cell_type": "code",
   "execution_count": 52,
   "id": "48b7bef8",
   "metadata": {
    "execution": {
     "iopub.execute_input": "2021-05-28T10:45:07.309511Z",
     "iopub.status.busy": "2021-05-28T10:45:07.308648Z",
     "iopub.status.idle": "2021-05-28T10:45:07.311259Z",
     "shell.execute_reply": "2021-05-28T10:45:07.310027Z"
    }
   },
   "outputs": [
    {
     "data": {
      "text/plain": [
       "ERROR:Couldn't resolve reference to Element 'Q'\n"
      ]
     },
     "execution_count": 52,
     "metadata": {},
     "output_type": "execute_result"
    }
   ],
   "source": [
    "%viz --style=\"ORTHOLINE\" --view=\"Tree\" \"Q\""
   ]
  },
  {
   "cell_type": "code",
   "execution_count": 53,
   "id": "b0f73c0d",
   "metadata": {
    "execution": {
     "iopub.execute_input": "2021-05-28T10:45:07.362069Z",
     "iopub.status.busy": "2021-05-28T10:45:07.361334Z",
     "iopub.status.idle": "2021-05-28T10:45:07.363616Z",
     "shell.execute_reply": "2021-05-28T10:45:07.362470Z"
    }
   },
   "outputs": [
    {
     "data": {
      "text/plain": [
       "ERROR:Couldn't resolve reference to Element 'Q'\n"
      ]
     },
     "execution_count": 53,
     "metadata": {},
     "output_type": "execute_result"
    }
   ],
   "source": [
    "%viz --style=\"ORTHOLINE\" --view=\"State\" \"Q\""
   ]
  },
  {
   "cell_type": "code",
   "execution_count": 54,
   "id": "973257ce",
   "metadata": {
    "execution": {
     "iopub.execute_input": "2021-05-28T10:45:07.415792Z",
     "iopub.status.busy": "2021-05-28T10:45:07.414914Z",
     "iopub.status.idle": "2021-05-28T10:45:07.417323Z",
     "shell.execute_reply": "2021-05-28T10:45:07.416188Z"
    }
   },
   "outputs": [
    {
     "data": {
      "text/plain": [
       "ERROR:Couldn't resolve reference to Element 'Q'\n"
      ]
     },
     "execution_count": 54,
     "metadata": {},
     "output_type": "execute_result"
    }
   ],
   "source": [
    "%viz --style=\"ORTHOLINE\" --view=\"Interconnection\" \"Q\""
   ]
  },
  {
   "cell_type": "code",
   "execution_count": 55,
   "id": "e5bb6f99",
   "metadata": {
    "execution": {
     "iopub.execute_input": "2021-05-28T10:45:07.468904Z",
     "iopub.status.busy": "2021-05-28T10:45:07.468057Z",
     "iopub.status.idle": "2021-05-28T10:45:07.470597Z",
     "shell.execute_reply": "2021-05-28T10:45:07.469351Z"
    }
   },
   "outputs": [
    {
     "data": {
      "text/plain": [
       "ERROR:Couldn't resolve reference to Element 'Q'\n"
      ]
     },
     "execution_count": 55,
     "metadata": {},
     "output_type": "execute_result"
    }
   ],
   "source": [
    "%viz --style=\"ORTHOLINE\" --view=\"Action\" \"Q\""
   ]
  },
  {
   "cell_type": "code",
   "execution_count": 56,
   "id": "fbd8bbd7",
   "metadata": {
    "execution": {
     "iopub.execute_input": "2021-05-28T10:45:07.520086Z",
     "iopub.status.busy": "2021-05-28T10:45:07.519485Z",
     "iopub.status.idle": "2021-05-28T10:45:07.521286Z",
     "shell.execute_reply": "2021-05-28T10:45:07.520368Z"
    }
   },
   "outputs": [
    {
     "data": {
      "text/plain": [
       "ERROR:Couldn't resolve reference to Element 'Q'\n"
      ]
     },
     "execution_count": 56,
     "metadata": {},
     "output_type": "execute_result"
    }
   ],
   "source": [
    "%viz --style=\"ORTHOLINE\" --view=\"Sequence\" \"Q\""
   ]
  },
  {
   "cell_type": "code",
   "execution_count": 57,
   "id": "fb269f73",
   "metadata": {
    "execution": {
     "iopub.execute_input": "2021-05-28T10:45:07.571966Z",
     "iopub.status.busy": "2021-05-28T10:45:07.571419Z",
     "iopub.status.idle": "2021-05-28T10:45:07.573432Z",
     "shell.execute_reply": "2021-05-28T10:45:07.572267Z"
    }
   },
   "outputs": [
    {
     "data": {
      "text/plain": [
       "ERROR:Couldn't resolve reference to Element 'Q'\n"
      ]
     },
     "execution_count": 57,
     "metadata": {},
     "output_type": "execute_result"
    }
   ],
   "source": [
    "%viz --style=\"ORTHOLINE\" --view=\"MIXED\" \"Q\""
   ]
  }
 ],
 "metadata": {
  "kernelspec": {
   "display_name": "SysML",
   "language": "sysml",
   "name": "sysml"
  },
  "language_info": {
   "codemirror_mode": "sysml",
   "file_extension": ".sysml",
   "mimetype": "text/x-sysml",
   "name": "SysML",
   "pygments_lexer": "java",
   "version": "1.0.0"
  }
 },
 "nbformat": 4,
 "nbformat_minor": 5
}
