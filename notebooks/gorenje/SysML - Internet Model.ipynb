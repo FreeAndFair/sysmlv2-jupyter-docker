{
 "cells": [
  {
   "cell_type": "markdown",
   "id": "sharp-benjamin",
   "metadata": {},
   "source": [
    "## Internet Model\n",
    "\n",
    "Playground for how to model how the connections within the Internet might be modelled."
   ]
  },
  {
   "cell_type": "markdown",
   "id": "successful-montreal",
   "metadata": {},
   "source": [
    "## Version 1\n",
    "\n",
    "Using connections as attributes. And using types to define specific devices."
   ]
  },
  {
   "cell_type": "code",
   "execution_count": 1,
   "id": "devoted-cheese",
   "metadata": {
    "execution": {
     "iopub.execute_input": "2021-03-25T14:57:49.334680Z",
     "iopub.status.busy": "2021-03-25T14:57:49.333061Z",
     "iopub.status.idle": "2021-03-25T14:57:49.877357Z",
     "shell.execute_reply": "2021-03-25T14:57:49.875903Z"
    }
   },
   "outputs": [
    {
     "data": {
      "text/plain": [
       "Package InternetModel_v1 (d3455b4c-903d-4fbf-bdea-bddbfea71f30)\n"
      ]
     },
     "execution_count": 1,
     "metadata": {},
     "output_type": "execute_result"
    }
   ],
   "source": [
    "package InternetModel_v1 {\n",
    "    part def Data;\n",
    "    part def Device {\n",
    "        attribute connType: Connection[1.. * ];\n",
    "        attribute voltageIn: Electricity[1];\n",
    "    }\n",
    "    part def WiFiRouter :> Device {\n",
    "        attribute wirelessConnection : WirelessConnection[1..2];\n",
    "        attribute ethernetConnection : CableConnection[1..*];\n",
    "    }\n",
    "    part def DSLRouter :> Device {\n",
    "        attribute dslConnection : CableConnection[1];\n",
    "        attribute ethernetConnection : CableConnection[1..*];\n",
    "    }\n",
    "    part def MobileDevice :> Device {\n",
    "        doc /** Bluetooth, WiFi, 5G/4G ... so at least 3 wireless connections **/\n",
    "        attribute wirelessConnection : WirelessConnection[1..3];\n",
    "    }\n",
    "    attribute def Connection {\n",
    "        in item inData: Data;\n",
    "        out item outData: Data;\n",
    "    }\n",
    "    attribute def WirelessConnection :> Connection {\n",
    "        attribute frequency: SI::FrequencyUnit;\n",
    "    }\n",
    "    attribute def CableConnection :> Connection {\n",
    "        attribute wireCount: ScalarValues::Integer;\n",
    "    }\n",
    "    attribute def Electricity {\n",
    "        attribute voltage: ISQElectromagnetism::ElectricPotentialUnit;\n",
    "        attribute ampere: ISQElectromagnetism::ElectricCurrentUnit;\n",
    "    }\n",
    "}"
   ]
  },
  {
   "cell_type": "code",
   "execution_count": 2,
   "id": "pressing-lithuania",
   "metadata": {
    "execution": {
     "iopub.execute_input": "2021-03-25T14:57:49.929426Z",
     "iopub.status.busy": "2021-03-25T14:57:49.928580Z",
     "iopub.status.idle": "2021-03-25T14:57:56.127646Z",
     "shell.execute_reply": "2021-03-25T14:57:56.127157Z"
    }
   },
   "outputs": [
    {
     "data": {
      "image/svg+xml": [
       "<?xml version=\"1.0\" encoding=\"UTF-8\" standalone=\"no\"?><svg xmlns=\"http://www.w3.org/2000/svg\" xmlns:xlink=\"http://www.w3.org/1999/xlink\" contentScriptType=\"application/ecmascript\" contentStyleType=\"text/css\" height=\"305px\" preserveAspectRatio=\"none\" style=\"width:1817px;height:305px;\" version=\"1.1\" viewBox=\"0 0 1817 305\" width=\"1817px\" zoomAndPan=\"magnify\"><defs/><g><!--MD5=[fbc87193dbaf4d95561dea2c320d4a47]\n",
       "cluster E1--><a href=\"psysml:efee77b2-ce29-4241-9992-5fa9f9a10c84\" target=\"_top\" title=\"psysml:efee77b2-ce29-4241-9992-5fa9f9a10c84\" xlink:actuate=\"onRequest\" xlink:href=\"psysml:efee77b2-ce29-4241-9992-5fa9f9a10c84\" xlink:show=\"new\" xlink:title=\"psysml:efee77b2-ce29-4241-9992-5fa9f9a10c84\" xlink:type=\"simple\"><polygon fill=\"#FFFFFF\" points=\"16,6,158,6,165,28.2969,1795,28.2969,1795,293,16,293,16,6\" style=\"stroke: #000000; stroke-width: 1.5;\"/><line style=\"stroke: #000000; stroke-width: 1.5;\" x1=\"16\" x2=\"165\" y1=\"28.2969\" y2=\"28.2969\"/><text fill=\"#000000\" font-family=\"sans-serif\" font-size=\"14\" font-weight=\"bold\" lengthAdjust=\"spacingAndGlyphs\" textLength=\"136\" x=\"20\" y=\"20.9951\">InternetModel_v1</text></a><!--MD5=[b4997ac47864f28c2f74865a473b2911]\n",
       "class E2--><a href=\"psysml:6ab13c79-7414-46d5-9b04-6bfb8cb88feb\" target=\"_top\" title=\"psysml:6ab13c79-7414-46d5-9b04-6bfb8cb88feb\" xlink:actuate=\"onRequest\" xlink:href=\"psysml:6ab13c79-7414-46d5-9b04-6bfb8cb88feb\" xlink:show=\"new\" xlink:title=\"psysml:6ab13c79-7414-46d5-9b04-6bfb8cb88feb\" xlink:type=\"simple\"><rect fill=\"#FFFFFF\" height=\"45.9375\" id=\"E2\" style=\"stroke: #383838; stroke-width: 1.5;\" width=\"66\" x=\"1713\" y=\"62\"/><text fill=\"#000000\" font-family=\"sans-serif\" font-size=\"12\" font-style=\"italic\" lengthAdjust=\"spacingAndGlyphs\" textLength=\"64\" x=\"1714\" y=\"78.1387\">«part def»</text><text fill=\"#000000\" font-family=\"sans-serif\" font-size=\"12\" lengthAdjust=\"spacingAndGlyphs\" textLength=\"30\" x=\"1731\" y=\"92.1074\">Data</text><line style=\"stroke: #383838; stroke-width: 1.5;\" x1=\"1714\" x2=\"1778\" y1=\"99.9375\" y2=\"99.9375\"/></a><!--MD5=[09b614a08d8cba4a07c9adeb5e0fee81]\n",
       "class E3--><a href=\"psysml:7005a55e-8770-4814-8ca5-b1b54bb124c1\" target=\"_top\" title=\"psysml:7005a55e-8770-4814-8ca5-b1b54bb124c1\" xlink:actuate=\"onRequest\" xlink:href=\"psysml:7005a55e-8770-4814-8ca5-b1b54bb124c1\" xlink:show=\"new\" xlink:title=\"psysml:7005a55e-8770-4814-8ca5-b1b54bb124c1\" xlink:type=\"simple\"><rect fill=\"#FFFFFF\" height=\"88.3516\" id=\"E3\" style=\"stroke: #383838; stroke-width: 1.5;\" width=\"137\" x=\"1219.5\" y=\"189\"/><text fill=\"#000000\" font-family=\"sans-serif\" font-size=\"12\" font-style=\"italic\" lengthAdjust=\"spacingAndGlyphs\" textLength=\"64\" x=\"1256\" y=\"205.1387\">«part def»</text><text fill=\"#000000\" font-family=\"sans-serif\" font-size=\"12\" lengthAdjust=\"spacingAndGlyphs\" textLength=\"41\" x=\"1267.5\" y=\"219.1074\">Device</text><line style=\"stroke: #383838; stroke-width: 1.5;\" x1=\"1220.5\" x2=\"1355.5\" y1=\"226.9375\" y2=\"226.9375\"/><text fill=\"#000000\" font-family=\"sans-serif\" font-size=\"11\" lengthAdjust=\"spacingAndGlyphs\" textLength=\"125\" x=\"1225.5\" y=\"257.9526\">connType: Connection</text><text fill=\"#000000\" font-family=\"sans-serif\" font-size=\"11\" lengthAdjust=\"spacingAndGlyphs\" textLength=\"113\" x=\"1225.5\" y=\"270.7573\">voltageIn: Electricity</text><line style=\"stroke: #383838; stroke-width: 1.0;\" x1=\"1220.5\" x2=\"1260.5\" y1=\"241.3398\" y2=\"241.3398\"/><text fill=\"#000000\" font-family=\"sans-serif\" font-size=\"11\" lengthAdjust=\"spacingAndGlyphs\" textLength=\"55\" x=\"1260.5\" y=\"244.6479\">attributes</text><line style=\"stroke: #383838; stroke-width: 1.0;\" x1=\"1315.5\" x2=\"1355.5\" y1=\"241.3398\" y2=\"241.3398\"/></a><!--MD5=[ebbe1d658d1005bcc118a6aa81145e00]\n",
       "class E4--><a href=\"psysml:d389ff57-46ac-4aef-ac8d-b46551ed03ea\" target=\"_top\" title=\"psysml:d389ff57-46ac-4aef-ac8d-b46551ed03ea\" xlink:actuate=\"onRequest\" xlink:href=\"psysml:d389ff57-46ac-4aef-ac8d-b46551ed03ea\" xlink:show=\"new\" xlink:title=\"psysml:d389ff57-46ac-4aef-ac8d-b46551ed03ea\" xlink:type=\"simple\"><rect fill=\"#FFFFFF\" height=\"88.3516\" id=\"E4\" style=\"stroke: #383838; stroke-width: 1.5;\" width=\"242\" x=\"1436\" y=\"41\"/><text fill=\"#000000\" font-family=\"sans-serif\" font-size=\"12\" font-style=\"italic\" lengthAdjust=\"spacingAndGlyphs\" textLength=\"64\" x=\"1525\" y=\"57.1387\">«part def»</text><text fill=\"#000000\" font-family=\"sans-serif\" font-size=\"12\" lengthAdjust=\"spacingAndGlyphs\" textLength=\"66\" x=\"1524\" y=\"71.1074\">WiFiRouter</text><line style=\"stroke: #383838; stroke-width: 1.5;\" x1=\"1437\" x2=\"1677\" y1=\"78.9375\" y2=\"78.9375\"/><text fill=\"#000000\" font-family=\"sans-serif\" font-size=\"11\" lengthAdjust=\"spacingAndGlyphs\" textLength=\"214\" x=\"1442\" y=\"109.9526\">ethernetConnection: CableConnection</text><text fill=\"#000000\" font-family=\"sans-serif\" font-size=\"11\" lengthAdjust=\"spacingAndGlyphs\" textLength=\"230\" x=\"1442\" y=\"122.7573\">wirelessConnection: WirelessConnection</text><line style=\"stroke: #383838; stroke-width: 1.0;\" x1=\"1437\" x2=\"1529.5\" y1=\"93.3398\" y2=\"93.3398\"/><text fill=\"#000000\" font-family=\"sans-serif\" font-size=\"11\" lengthAdjust=\"spacingAndGlyphs\" textLength=\"55\" x=\"1529.5\" y=\"96.6479\">attributes</text><line style=\"stroke: #383838; stroke-width: 1.0;\" x1=\"1584.5\" x2=\"1677\" y1=\"93.3398\" y2=\"93.3398\"/></a><!--MD5=[270fce915f116d4de14055a7c1d9a0f3]\n",
       "class E5--><a href=\"psysml:3641c60d-914c-4d17-86ae-5ed4f13bf347\" target=\"_top\" title=\"psysml:3641c60d-914c-4d17-86ae-5ed4f13bf347\" xlink:actuate=\"onRequest\" xlink:href=\"psysml:3641c60d-914c-4d17-86ae-5ed4f13bf347\" xlink:show=\"new\" xlink:title=\"psysml:3641c60d-914c-4d17-86ae-5ed4f13bf347\" xlink:type=\"simple\"><rect fill=\"#FFFFFF\" height=\"88.3516\" id=\"E5\" style=\"stroke: #383838; stroke-width: 1.5;\" width=\"226\" x=\"1175\" y=\"41\"/><text fill=\"#000000\" font-family=\"sans-serif\" font-size=\"12\" font-style=\"italic\" lengthAdjust=\"spacingAndGlyphs\" textLength=\"64\" x=\"1256\" y=\"57.1387\">«part def»</text><text fill=\"#000000\" font-family=\"sans-serif\" font-size=\"12\" lengthAdjust=\"spacingAndGlyphs\" textLength=\"65\" x=\"1255.5\" y=\"71.1074\">DSLRouter</text><line style=\"stroke: #383838; stroke-width: 1.5;\" x1=\"1176\" x2=\"1400\" y1=\"78.9375\" y2=\"78.9375\"/><text fill=\"#000000\" font-family=\"sans-serif\" font-size=\"11\" lengthAdjust=\"spacingAndGlyphs\" textLength=\"183\" x=\"1181\" y=\"109.9526\">dslConnection: CableConnection</text><text fill=\"#000000\" font-family=\"sans-serif\" font-size=\"11\" lengthAdjust=\"spacingAndGlyphs\" textLength=\"214\" x=\"1181\" y=\"122.7573\">ethernetConnection: CableConnection</text><line style=\"stroke: #383838; stroke-width: 1.0;\" x1=\"1176\" x2=\"1260.5\" y1=\"93.3398\" y2=\"93.3398\"/><text fill=\"#000000\" font-family=\"sans-serif\" font-size=\"11\" lengthAdjust=\"spacingAndGlyphs\" textLength=\"55\" x=\"1260.5\" y=\"96.6479\">attributes</text><line style=\"stroke: #383838; stroke-width: 1.0;\" x1=\"1315.5\" x2=\"1400\" y1=\"93.3398\" y2=\"93.3398\"/></a><!--MD5=[60a26617385b1d2d0262a64233df1f8d]\n",
       "class E6--><a href=\"psysml:c87f8e8c-a349-4017-8283-7ac35c6874c6\" target=\"_top\" title=\"psysml:c87f8e8c-a349-4017-8283-7ac35c6874c6\" xlink:actuate=\"onRequest\" xlink:href=\"psysml:c87f8e8c-a349-4017-8283-7ac35c6874c6\" xlink:show=\"new\" xlink:title=\"psysml:c87f8e8c-a349-4017-8283-7ac35c6874c6\" xlink:type=\"simple\"><rect fill=\"#FFFFFF\" height=\"75.5469\" id=\"E6\" style=\"stroke: #383838; stroke-width: 1.5;\" width=\"242\" x=\"898\" y=\"47\"/><text fill=\"#000000\" font-family=\"sans-serif\" font-size=\"12\" font-style=\"italic\" lengthAdjust=\"spacingAndGlyphs\" textLength=\"64\" x=\"987\" y=\"63.1387\">«part def»</text><text fill=\"#000000\" font-family=\"sans-serif\" font-size=\"12\" lengthAdjust=\"spacingAndGlyphs\" textLength=\"81\" x=\"978.5\" y=\"77.1074\">MobileDevice</text><line style=\"stroke: #383838; stroke-width: 1.5;\" x1=\"899\" x2=\"1139\" y1=\"84.9375\" y2=\"84.9375\"/><text fill=\"#000000\" font-family=\"sans-serif\" font-size=\"11\" lengthAdjust=\"spacingAndGlyphs\" textLength=\"230\" x=\"904\" y=\"115.9526\">wirelessConnection: WirelessConnection</text><line style=\"stroke: #383838; stroke-width: 1.0;\" x1=\"899\" x2=\"991.5\" y1=\"99.3398\" y2=\"99.3398\"/><text fill=\"#000000\" font-family=\"sans-serif\" font-size=\"11\" lengthAdjust=\"spacingAndGlyphs\" textLength=\"55\" x=\"991.5\" y=\"102.6479\">attributes</text><line style=\"stroke: #383838; stroke-width: 1.0;\" x1=\"1046.5\" x2=\"1139\" y1=\"99.3398\" y2=\"99.3398\"/></a><!--MD5=[b9389687b975829384b498ac4b7476b2]\n",
       "class E8--><a href=\"psysml:30448c51-6f33-434b-abb1-211b81fe6e5b\" target=\"_top\" title=\"psysml:30448c51-6f33-434b-abb1-211b81fe6e5b\" xlink:actuate=\"onRequest\" xlink:href=\"psysml:30448c51-6f33-434b-abb1-211b81fe6e5b\" xlink:show=\"new\" xlink:title=\"psysml:30448c51-6f33-434b-abb1-211b81fe6e5b\" xlink:type=\"simple\"><rect fill=\"#FFFFFF\" height=\"88.3516\" id=\"E8\" style=\"stroke: #383838; stroke-width: 1.5;\" width=\"95\" x=\"651.5\" y=\"189\"/><text fill=\"#000000\" font-family=\"sans-serif\" font-size=\"12\" font-style=\"italic\" lengthAdjust=\"spacingAndGlyphs\" textLength=\"93\" x=\"652.5\" y=\"205.1387\">«attribute def»</text><text fill=\"#000000\" font-family=\"sans-serif\" font-size=\"12\" lengthAdjust=\"spacingAndGlyphs\" textLength=\"71\" x=\"663.5\" y=\"219.1074\">Connection</text><line style=\"stroke: #383838; stroke-width: 1.5;\" x1=\"652.5\" x2=\"745.5\" y1=\"226.9375\" y2=\"226.9375\"/><text fill=\"#000000\" font-family=\"sans-serif\" font-size=\"11\" lengthAdjust=\"spacingAndGlyphs\" textLength=\"70\" x=\"657.5\" y=\"257.9526\">inData: Data</text><text fill=\"#000000\" font-family=\"sans-serif\" font-size=\"11\" lengthAdjust=\"spacingAndGlyphs\" textLength=\"78\" x=\"657.5\" y=\"270.7573\">outData: Data</text><line style=\"stroke: #383838; stroke-width: 1.0;\" x1=\"652.5\" x2=\"683\" y1=\"241.3398\" y2=\"241.3398\"/><text fill=\"#000000\" font-family=\"sans-serif\" font-size=\"11\" lengthAdjust=\"spacingAndGlyphs\" textLength=\"32\" x=\"683\" y=\"244.6479\">items</text><line style=\"stroke: #383838; stroke-width: 1.0;\" x1=\"715\" x2=\"745.5\" y1=\"241.3398\" y2=\"241.3398\"/></a><!--MD5=[1dd1bfd58a279cf63c5f349dbc8fc6a1]\n",
       "class E11--><a href=\"psysml:607f2844-966d-4b0c-9973-99e4c6364a0e\" target=\"_top\" title=\"psysml:607f2844-966d-4b0c-9973-99e4c6364a0e\" xlink:actuate=\"onRequest\" xlink:href=\"psysml:607f2844-966d-4b0c-9973-99e4c6364a0e\" xlink:show=\"new\" xlink:title=\"psysml:607f2844-966d-4b0c-9973-99e4c6364a0e\" xlink:type=\"simple\"><rect fill=\"#FFFFFF\" height=\"75.5469\" id=\"E11\" style=\"stroke: #383838; stroke-width: 1.5;\" width=\"156\" x=\"707\" y=\"47\"/><text fill=\"#000000\" font-family=\"sans-serif\" font-size=\"12\" font-style=\"italic\" lengthAdjust=\"spacingAndGlyphs\" textLength=\"93\" x=\"738.5\" y=\"63.1387\">«attribute def»</text><text fill=\"#000000\" font-family=\"sans-serif\" font-size=\"12\" lengthAdjust=\"spacingAndGlyphs\" textLength=\"123\" x=\"723.5\" y=\"77.1074\">WirelessConnection</text><line style=\"stroke: #383838; stroke-width: 1.5;\" x1=\"708\" x2=\"862\" y1=\"84.9375\" y2=\"84.9375\"/><text fill=\"#000000\" font-family=\"sans-serif\" font-size=\"11\" lengthAdjust=\"spacingAndGlyphs\" textLength=\"144\" x=\"713\" y=\"115.9526\">frequency: FrequencyUnit</text><line style=\"stroke: #383838; stroke-width: 1.0;\" x1=\"708\" x2=\"757.5\" y1=\"99.3398\" y2=\"99.3398\"/><text fill=\"#000000\" font-family=\"sans-serif\" font-size=\"11\" lengthAdjust=\"spacingAndGlyphs\" textLength=\"55\" x=\"757.5\" y=\"102.6479\">attributes</text><line style=\"stroke: #383838; stroke-width: 1.0;\" x1=\"812.5\" x2=\"862\" y1=\"99.3398\" y2=\"99.3398\"/></a><!--MD5=[49a0ec8f00dab7302a31f22d0f0fe584]\n",
       "class E12--><a href=\"psysml:efdc4afc-d5a7-49fc-aed8-5a5490e48ee2\" target=\"_top\" title=\"psysml:efdc4afc-d5a7-49fc-aed8-5a5490e48ee2\" xlink:actuate=\"onRequest\" xlink:href=\"psysml:efdc4afc-d5a7-49fc-aed8-5a5490e48ee2\" xlink:show=\"new\" xlink:title=\"psysml:efdc4afc-d5a7-49fc-aed8-5a5490e48ee2\" xlink:type=\"simple\"><rect fill=\"#FFFFFF\" height=\"75.5469\" id=\"E12\" style=\"stroke: #383838; stroke-width: 1.5;\" width=\"117\" x=\"554.5\" y=\"47\"/><text fill=\"#000000\" font-family=\"sans-serif\" font-size=\"12\" font-style=\"italic\" lengthAdjust=\"spacingAndGlyphs\" textLength=\"93\" x=\"566.5\" y=\"63.1387\">«attribute def»</text><text fill=\"#000000\" font-family=\"sans-serif\" font-size=\"12\" lengthAdjust=\"spacingAndGlyphs\" textLength=\"106\" x=\"560\" y=\"77.1074\">CableConnection</text><line style=\"stroke: #383838; stroke-width: 1.5;\" x1=\"555.5\" x2=\"670.5\" y1=\"84.9375\" y2=\"84.9375\"/><text fill=\"#000000\" font-family=\"sans-serif\" font-size=\"11\" lengthAdjust=\"spacingAndGlyphs\" textLength=\"105\" x=\"560.5\" y=\"115.9526\">wireCount: Integer</text><line style=\"stroke: #383838; stroke-width: 1.0;\" x1=\"555.5\" x2=\"585.5\" y1=\"99.3398\" y2=\"99.3398\"/><text fill=\"#000000\" font-family=\"sans-serif\" font-size=\"11\" lengthAdjust=\"spacingAndGlyphs\" textLength=\"55\" x=\"585.5\" y=\"102.6479\">attributes</text><line style=\"stroke: #383838; stroke-width: 1.0;\" x1=\"640.5\" x2=\"670.5\" y1=\"99.3398\" y2=\"99.3398\"/></a><!--MD5=[ee3c913d1a06f366521f9ef512b67efe]\n",
       "class E13--><a href=\"psysml:0509b150-e8aa-436f-b636-0a8639b7f71c\" target=\"_top\" title=\"psysml:0509b150-e8aa-436f-b636-0a8639b7f71c\" xlink:actuate=\"onRequest\" xlink:href=\"psysml:0509b150-e8aa-436f-b636-0a8639b7f71c\" xlink:show=\"new\" xlink:title=\"psysml:0509b150-e8aa-436f-b636-0a8639b7f71c\" xlink:type=\"simple\"><rect fill=\"#FFFFFF\" height=\"88.3516\" id=\"E13\" style=\"stroke: #383838; stroke-width: 1.5;\" width=\"173\" x=\"346.5\" y=\"41\"/><text fill=\"#000000\" font-family=\"sans-serif\" font-size=\"12\" font-style=\"italic\" lengthAdjust=\"spacingAndGlyphs\" textLength=\"93\" x=\"386.5\" y=\"57.1387\">«attribute def»</text><text fill=\"#000000\" font-family=\"sans-serif\" font-size=\"12\" lengthAdjust=\"spacingAndGlyphs\" textLength=\"60\" x=\"403\" y=\"71.1074\">Electricity</text><line style=\"stroke: #383838; stroke-width: 1.5;\" x1=\"347.5\" x2=\"518.5\" y1=\"78.9375\" y2=\"78.9375\"/><text fill=\"#000000\" font-family=\"sans-serif\" font-size=\"11\" lengthAdjust=\"spacingAndGlyphs\" textLength=\"158\" x=\"352.5\" y=\"109.9526\">ampere: ElectricCurrentUnit</text><text fill=\"#000000\" font-family=\"sans-serif\" font-size=\"11\" lengthAdjust=\"spacingAndGlyphs\" textLength=\"161\" x=\"352.5\" y=\"122.7573\">voltage: ElectricPotentialUnit</text><line style=\"stroke: #383838; stroke-width: 1.0;\" x1=\"347.5\" x2=\"405.5\" y1=\"93.3398\" y2=\"93.3398\"/><text fill=\"#000000\" font-family=\"sans-serif\" font-size=\"11\" lengthAdjust=\"spacingAndGlyphs\" textLength=\"55\" x=\"405.5\" y=\"96.6479\">attributes</text><line style=\"stroke: #383838; stroke-width: 1.0;\" x1=\"460.5\" x2=\"518.5\" y1=\"93.3398\" y2=\"93.3398\"/></a><path d=\"M32.5,65 L32.5,105.2656 L311.5,105.2656 L311.5,75 L301.5,65 L32.5,65 \" fill=\"#ECECEC\" style=\"stroke: #383838; stroke-width: 1.0;\"/><path d=\"M301.5,65 L301.5,75 L311.5,75 L301.5,65 \" fill=\"#ECECEC\" style=\"stroke: #383838; stroke-width: 1.0;\"/><a href=\"psysml:e3bf4dfd-608a-47b1-9c43-3dd587143f92\" target=\"_top\" title=\"psysml:e3bf4dfd-608a-47b1-9c43-3dd587143f92\" xlink:actuate=\"onRequest\" xlink:href=\"psysml:e3bf4dfd-608a-47b1-9c43-3dd587143f92\" xlink:show=\"new\" xlink:title=\"psysml:e3bf4dfd-608a-47b1-9c43-3dd587143f92\" xlink:type=\"simple\"><text fill=\"#1C1C1C\" font-family=\"sans-serif\" font-size=\"13\" lengthAdjust=\"spacingAndGlyphs\" text-decoration=\"underline\" textLength=\"13\" x=\"38.5\" y=\"82.0669\">@</text></a><text fill=\"#000000\" font-family=\"sans-serif\" font-size=\"13\" lengthAdjust=\"spacingAndGlyphs\" textLength=\"241\" x=\"51.5\" y=\"82.0669\">Bluetooth, WiFi, 5G/4G ... so at least 3</text><text fill=\"#000000\" font-family=\"sans-serif\" font-size=\"13\" lengthAdjust=\"spacingAndGlyphs\" textLength=\"142\" x=\"38.5\" y=\"97.1997\">wireless connections *</text><!--MD5=[f0cdf4548168e5211fb3a02bf679d63a]\n",
       "link E4 to E3--><a href=\"psysml:abecd05a-bad2-4a6f-877f-84f14109343f\" target=\"_top\" title=\"psysml:abecd05a-bad2-4a6f-877f-84f14109343f\" xlink:actuate=\"onRequest\" xlink:href=\"psysml:abecd05a-bad2-4a6f-877f-84f14109343f\" xlink:show=\"new\" xlink:title=\"psysml:abecd05a-bad2-4a6f-877f-84f14109343f\" xlink:type=\"simple\"><path d=\"M1477.75,129.02 C1445.32,146.62 1407.7,167.03 1374.56,185.02 \" fill=\"none\" id=\"E4-&gt;E3\" style=\"stroke: #383838; stroke-width: 1.0;\"/><polygon fill=\"none\" points=\"1377.58,191.34,1356.66,194.73,1370.9,179.04,1377.58,191.34\" style=\"stroke: #383838; stroke-width: 1.0;\"/></a><!--MD5=[e9be52314489bd878ff4c7144b63c9e1]\n",
       "link E5 to E3--><a href=\"psysml:8d50f775-3b15-4999-8588-6312cff66b38\" target=\"_top\" title=\"psysml:8d50f775-3b15-4999-8588-6312cff66b38\" xlink:actuate=\"onRequest\" xlink:href=\"psysml:8d50f775-3b15-4999-8588-6312cff66b38\" xlink:show=\"new\" xlink:title=\"psysml:8d50f775-3b15-4999-8588-6312cff66b38\" xlink:type=\"simple\"><path d=\"M1288,129.02 C1288,141.38 1288,155.13 1288,168.46 \" fill=\"none\" id=\"E5-&gt;E3\" style=\"stroke: #383838; stroke-width: 1.0;\"/><polygon fill=\"none\" points=\"1295,168.79,1288,188.79,1281,168.79,1295,168.79\" style=\"stroke: #383838; stroke-width: 1.0;\"/></a><!--MD5=[a717450b82c80b9240a525fa862496af]\n",
       "link E6 to E3--><a href=\"psysml:b5b7e56a-e828-4246-aa1d-1a754f4e7b2b\" target=\"_top\" title=\"psysml:b5b7e56a-e828-4246-aa1d-1a754f4e7b2b\" xlink:actuate=\"onRequest\" xlink:href=\"psysml:b5b7e56a-e828-4246-aa1d-1a754f4e7b2b\" xlink:show=\"new\" xlink:title=\"psysml:b5b7e56a-e828-4246-aa1d-1a754f4e7b2b\" xlink:type=\"simple\"><path d=\"M1087.23,123.03 C1122.01,141.91 1164.67,165.06 1201.71,185.16 \" fill=\"none\" id=\"E6-&gt;E3\" style=\"stroke: #383838; stroke-width: 1.0;\"/><polygon fill=\"none\" points=\"1205.14,179.06,1219.38,194.76,1198.46,191.37,1205.14,179.06\" style=\"stroke: #383838; stroke-width: 1.0;\"/></a><!--MD5=[3aca6b7b240bdf4fa74e86e8d4be9f1e]\n",
       "link E11 to E8--><a href=\"psysml:7726e69e-7953-4643-ac1c-bcc99847c41e\" target=\"_top\" title=\"psysml:7726e69e-7953-4643-ac1c-bcc99847c41e\" xlink:actuate=\"onRequest\" xlink:href=\"psysml:7726e69e-7953-4643-ac1c-bcc99847c41e\" xlink:show=\"new\" xlink:title=\"psysml:7726e69e-7953-4643-ac1c-bcc99847c41e\" xlink:type=\"simple\"><path d=\"M763.08,123.22 C754.41,137.92 744.24,155.2 734.58,171.6 \" fill=\"none\" id=\"E11-&gt;E8\" style=\"stroke: #383838; stroke-width: 1.0;\"/><polygon fill=\"none\" points=\"740.57,175.21,724.39,188.89,728.51,168.11,740.57,175.21\" style=\"stroke: #383838; stroke-width: 1.0;\"/></a><!--MD5=[e579e0b6abea9fd996f0a474884f3320]\n",
       "link E12 to E8--><a href=\"psysml:29094ea3-7bed-4149-84c9-3ee6c6f1e8e9\" target=\"_top\" title=\"psysml:29094ea3-7bed-4149-84c9-3ee6c6f1e8e9\" xlink:actuate=\"onRequest\" xlink:href=\"psysml:29094ea3-7bed-4149-84c9-3ee6c6f1e8e9\" xlink:show=\"new\" xlink:title=\"psysml:29094ea3-7bed-4149-84c9-3ee6c6f1e8e9\" xlink:type=\"simple\"><path d=\"M634.92,123.22 C643.59,137.92 653.76,155.2 663.42,171.6 \" fill=\"none\" id=\"E12-&gt;E8\" style=\"stroke: #383838; stroke-width: 1.0;\"/><polygon fill=\"none\" points=\"669.49,168.11,673.61,188.89,657.43,175.21,669.49,168.11\" style=\"stroke: #383838; stroke-width: 1.0;\"/></a><!--MD5=[4659813df11c3c068e899803d019c74b]\n",
       "@startuml\r\n",
       "skinparam monochrome true\r\n",
       "skinparam classbackgroundcolor white\r\n",
       "skinparam shadowing false\r\n",
       "skinparam wrapWidth 300\r\n",
       "hide circle\r\n",
       "\r\n",
       "package \"InternetModel_v1\" as E1  [[psysml:efee77b2-ce29-4241-9992-5fa9f9a10c84 ]]  {\r\n",
       "comp def \"Data\" as E2  <<(T,blue)part def>> [[psysml:6ab13c79-7414-46d5-9b04-6bfb8cb88feb ]] {\r\n",
       "}\r\n",
       "comp def \"Device\" as E3  <<(T,blue)part def>> [[psysml:7005a55e-8770-4814-8ca5-b1b54bb124c1 ]] {\r\n",
       "- - attributes - -\r\n",
       "connType: Connection\r\n",
       "voltageIn: Electricity\r\n",
       "}\r\n",
       "comp def \"WiFiRouter\" as E4  <<(T,blue)part def>> [[psysml:d389ff57-46ac-4aef-ac8d-b46551ed03ea ]] {\r\n",
       "- - attributes - -\r\n",
       "ethernetConnection: CableConnection\r\n",
       "wirelessConnection: WirelessConnection\r\n",
       "}\r\n",
       "comp def \"DSLRouter\" as E5  <<(T,blue)part def>> [[psysml:3641c60d-914c-4d17-86ae-5ed4f13bf347 ]] {\r\n",
       "- - attributes - -\r\n",
       "dslConnection: CableConnection\r\n",
       "ethernetConnection: CableConnection\r\n",
       "}\r\n",
       "comp def \"MobileDevice\" as E6  <<(T,blue)part def>> [[psysml:c87f8e8c-a349-4017-8283-7ac35c6874c6 ]] {\r\n",
       "- - attributes - -\r\n",
       "wirelessConnection: WirelessConnection\r\n",
       "}\r\n",
       "comp def \"Connection\" as E8  <<(T,blue)attribute def>> [[psysml:30448c51-6f33-434b-abb1-211b81fe6e5b ]] {\r\n",
       "- - items - -\r\n",
       "inData: Data\r\n",
       "outData: Data\r\n",
       "}\r\n",
       "comp def \"WirelessConnection\" as E11  <<(T,blue)attribute def>> [[psysml:607f2844-966d-4b0c-9973-99e4c6364a0e ]] {\r\n",
       "- - attributes - -\r\n",
       "frequency: FrequencyUnit\r\n",
       "}\r\n",
       "comp def \"CableConnection\" as E12  <<(T,blue)attribute def>> [[psysml:efdc4afc-d5a7-49fc-aed8-5a5490e48ee2 ]] {\r\n",
       "- - attributes - -\r\n",
       "wireCount: Integer\r\n",
       "}\r\n",
       "comp def \"Electricity\" as E13  <<(T,blue)attribute def>> [[psysml:0509b150-e8aa-436f-b636-0a8639b7f71c ]] {\r\n",
       "- - attributes - -\r\n",
       "ampere: ElectricCurrentUnit\r\n",
       "voltage: ElectricPotentialUnit\r\n",
       "}\r\n",
       "note as E7\r\n",
       "[[psysml:e3bf4dfd-608a-47b1-9c43-3dd587143f92 @]]Bluetooth, WiFi, 5G/4G ... so at least 3 wireless connections *\r\n",
       "end note \r\n",
       "E4 - -|> E3 [[psysml:abecd05a-bad2-4a6f-877f-84f14109343f ]] \r\n",
       "E5 - -|> E3 [[psysml:8d50f775-3b15-4999-8588-6312cff66b38 ]] \r\n",
       "E6 - -|> E3 [[psysml:b5b7e56a-e828-4246-aa1d-1a754f4e7b2b ]] \r\n",
       "E11 - -|> E8 [[psysml:7726e69e-7953-4643-ac1c-bcc99847c41e ]] \r\n",
       "E12 - -|> E8 [[psysml:29094ea3-7bed-4149-84c9-3ee6c6f1e8e9 ]] \r\n",
       "}\r\n",
       "@enduml\r\n",
       "\n",
       "PlantUML version 1.2020.13(Sat Jun 13 12:26:38 UTC 2020)\n",
       "(EPL source distribution)\n",
       "Java Runtime: OpenJDK Runtime Environment\n",
       "JVM: OpenJDK 64-Bit Server VM\n",
       "Default Encoding: UTF-8\n",
       "Language: en\n",
       "Country: null\n",
       "--></g></svg>"
      ]
     },
     "execution_count": 2,
     "metadata": {},
     "output_type": "execute_result"
    }
   ],
   "source": [
    "%viz InternetModel_v1"
   ]
  },
  {
   "cell_type": "markdown",
   "id": "worse-accountability",
   "metadata": {},
   "source": [
    "## Version 2\n",
    "\n",
    "Using Ports to describe the end points of connections while using `connection` for connections between parts. Also using specific parts for specific devices, not part definitions."
   ]
  },
  {
   "cell_type": "code",
   "execution_count": 3,
   "id": "monetary-england",
   "metadata": {
    "execution": {
     "iopub.execute_input": "2021-03-25T14:57:56.181844Z",
     "iopub.status.busy": "2021-03-25T14:57:56.179353Z",
     "iopub.status.idle": "2021-03-25T14:57:56.639826Z",
     "shell.execute_reply": "2021-03-25T14:57:56.637609Z"
    }
   },
   "outputs": [
    {
     "name": "stderr",
     "output_type": "stream",
     "text": [
      "ERROR:no viable alternative at input 'def' (3.sysml line : 11 column : 10)\n"
     ]
    },
    {
     "name": "stderr",
     "output_type": "stream",
     "text": [
      "ERROR:no viable alternative at input 'DC' (3.sysml line : 12 column : 14)\n"
     ]
    },
    {
     "name": "stderr",
     "output_type": "stream",
     "text": [
      "ERROR:no viable alternative at input 'AC' (3.sysml line : 13 column : 14)\n"
     ]
    },
    {
     "data": {
      "text/plain": []
     },
     "execution_count": 3,
     "metadata": {},
     "output_type": "execute_result"
    }
   ],
   "source": [
    "package InternetModel_v2 {\n",
    "    import ISQ::*;\n",
    "    import SI::*;    \n",
    "    import SIPrefixes::*;\n",
    "    import UnitsAndScales::ConversionByPrefix;\n",
    "    \n",
    "    attribute GHz: FrequencyUnit = FrequencyUnit(name => \"gigahertz\", unitConversion => ConversionByPrefix(prefix => giga, referenceUnit => Hz));    \n",
    "    attribute def StorageUnit;\n",
    "    attribute def SpeedUnit;\n",
    "    \n",
    "    enum def CurrentType {\n",
    "        enum DC;\n",
    "        enum AC;\n",
    "    }\n",
    "    \n",
    "    port def DataPort {\n",
    "        /* TODO: Should all be in terms of Bytes and Bytes/Seconds but for now integers */\n",
    "        attribute speed : SpeedUnit;\n",
    "        in attribute inData: ScalarValues::Integer;\n",
    "        out attribute outData: ScalarValues::Integer;\n",
    "    }\n",
    "    \n",
    "    attribute def ElectricityRating {\n",
    "        attribute voltage: ISQElectromagnetism::ElectricPotentialUnit;\n",
    "        attribute ampere: ISQElectromagnetism::ElectricCurrentUnit;\n",
    "        attribute currentType : CurrentType;\n",
    "    }\n",
    "    \n",
    "    part def Device {\n",
    "        port dataPorts: DataPort[1..*];\n",
    "        attribute electricRating: ElectricityRating;\n",
    "    }\n",
    "    \n",
    "    part def Server {\n",
    "        port dataPorts: DataPort[1..*];\n",
    "        attribute electricRating: ElectricityRating;\n",
    "        attribute storage : StorageUnit;\n",
    "    }\n",
    "    \n",
    "    connection def DataConnection {\n",
    "        end: DataPort[1];\n",
    "        end: DataPort[1];\n",
    "    }\n",
    "    \n",
    "    connection def CableConnection :> DataConnection {\n",
    "        attribute wireCount: ScalarValues::Integer;\n",
    "    }\n",
    "    \n",
    "    connection def WirelessConnection :> DataConnection {\n",
    "        attribute frequency: SI::FrequencyUnit;\n",
    "    }\n",
    "\n",
    "    part dslEndpoint : Server {}\n",
    "    \n",
    "    part wifiRouter : Device {}\n",
    "    part dslRouter : Device {}\n",
    "    part mobileDevice : Device {}\n",
    "    \n",
    "    connection : WirelessConnection \n",
    "        connect mobileDevice::dataPorts[1]\n",
    "             to wifiRouter::dataPorts[1] {\n",
    "       attribute redefines frequency = 5@[GHz];\n",
    "    }\n",
    "    \n",
    "    connection : CableConnection \n",
    "        connect dslRouter::dataPorts[1] \n",
    "             to dslEndpoint::dataPorts[1] {\n",
    "       attribute redefines wireCount = 5;\n",
    "    }\n",
    "}"
   ]
  },
  {
   "cell_type": "code",
   "execution_count": 4,
   "id": "utility-azerbaijan",
   "metadata": {
    "execution": {
     "iopub.execute_input": "2021-03-25T14:57:56.690079Z",
     "iopub.status.busy": "2021-03-25T14:57:56.688769Z",
     "iopub.status.idle": "2021-03-25T14:57:56.691629Z",
     "shell.execute_reply": "2021-03-25T14:57:56.690490Z"
    }
   },
   "outputs": [
    {
     "data": {
      "text/plain": [
       "ERROR:Couldn't resolve reference to Element 'InternetModel_v2'\n"
      ]
     },
     "execution_count": 4,
     "metadata": {},
     "output_type": "execute_result"
    }
   ],
   "source": [
    "%viz InternetModel_v2"
   ]
  },
  {
   "cell_type": "code",
   "execution_count": null,
   "id": "dress-letters",
   "metadata": {},
   "outputs": [],
   "source": []
  }
 ],
 "metadata": {
  "kernelspec": {
   "display_name": "SysML",
   "language": "sysml",
   "name": "sysml"
  },
  "language_info": {
   "codemirror_mode": "sysml",
   "file_extension": ".sysml",
   "mimetype": "text/x-sysml",
   "name": "SysML",
   "pygments_lexer": "java",
   "version": "1.0.0"
  }
 },
 "nbformat": 4,
 "nbformat_minor": 5
}
