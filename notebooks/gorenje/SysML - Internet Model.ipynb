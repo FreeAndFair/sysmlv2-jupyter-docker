{
 "cells": [
  {
   "cell_type": "markdown",
   "id": "28a8501f",
   "metadata": {},
   "source": [
    "## Internet Model\n",
    "\n",
    "Playground for how to model how the connections within the Internet might be modelled."
   ]
  },
  {
   "cell_type": "markdown",
   "id": "0c32c232",
   "metadata": {},
   "source": [
    "## Version 1\n",
    "\n",
    "Using connections as attributes. And using types to define specific devices."
   ]
  },
  {
   "cell_type": "code",
   "execution_count": 1,
   "id": "3167c580",
   "metadata": {
    "execution": {
     "iopub.execute_input": "2024-12-16T14:14:55.698644Z",
     "iopub.status.busy": "2024-12-16T14:14:55.697995Z",
     "iopub.status.idle": "2024-12-16T14:14:56.030092Z",
     "shell.execute_reply": "2024-12-16T14:14:56.029842Z"
    }
   },
   "outputs": [
    {
     "data": {
      "text/plain": [
       "Package InternetModel_v1 (47d741c3-9ace-4bbc-b3f0-9a9026f450f6)\n"
      ]
     },
     "execution_count": 1,
     "metadata": {},
     "output_type": "execute_result"
    }
   ],
   "source": [
    "package InternetModel_v1 {\n",
    "    part def Data;\n",
    "    part def Device {\n",
    "        attribute connType: Connection[1.. * ];\n",
    "        attribute voltageIn: Electricity[1];\n",
    "    }\n",
    "    part def WiFiRouter :> Device {\n",
    "        attribute wirelessConnection : WirelessConnection[1..2];\n",
    "        attribute ethernetConnection : CableConnection[1..*];\n",
    "    }\n",
    "    part def DSLRouter :> Device {\n",
    "        attribute dslConnection : CableConnection[1];\n",
    "        attribute ethernetConnection : CableConnection[1..*];\n",
    "    }\n",
    "    part def MobileDevice :> Device {\n",
    "        doc /** Bluetooth, WiFi, 5G/4G ... so at least 3 wireless connections **/\n",
    "        attribute wirelessConnection : WirelessConnection[1..3];\n",
    "    }\n",
    "    attribute def Connection {\n",
    "        in item inData: Data;\n",
    "        out item outData: Data;\n",
    "    }\n",
    "    attribute def WirelessConnection :> Connection {\n",
    "        attribute frequency: SI::FrequencyUnit;\n",
    "    }\n",
    "    attribute def CableConnection :> Connection {\n",
    "        attribute wireCount: ScalarValues::Integer;\n",
    "    }\n",
    "    attribute def Electricity {\n",
    "        attribute voltage: ISQElectromagnetism::ElectricPotentialUnit;\n",
    "        attribute ampere: ISQElectromagnetism::ElectricChargeUnit;\n",
    "    }\n",
    "}"
   ]
  },
  {
   "cell_type": "code",
   "execution_count": 2,
   "id": "69999671",
   "metadata": {
    "execution": {
     "iopub.execute_input": "2024-12-16T14:14:56.085138Z",
     "iopub.status.busy": "2024-12-16T14:14:56.084905Z",
     "iopub.status.idle": "2024-12-16T14:14:56.551847Z",
     "shell.execute_reply": "2024-12-16T14:14:56.551677Z"
    }
   },
   "outputs": [
    {
     "data": {
      "image/svg+xml": [
       "<?xml version=\"1.0\" encoding=\"UTF-8\" standalone=\"no\"?><svg xmlns=\"http://www.w3.org/2000/svg\" xmlns:xlink=\"http://www.w3.org/1999/xlink\" contentStyleType=\"text/css\" height=\"557px\" preserveAspectRatio=\"none\" style=\"width:1650px;height:557px;background:#FFFFFF;\" version=\"1.1\" viewBox=\"0 0 1650 557\" width=\"1650px\" zoomAndPan=\"magnify\"><defs/><g><!--MD5=[fbc87193dbaf4d95561dea2c320d4a47]\n",
       "cluster E1--><g id=\"cluster_E1\"><a href=\"psysml:47d741c3-9ace-4bbc-b3f0-9a9026f450f6\" target=\"_top\" title=\"psysml:47d741c3-9ace-4bbc-b3f0-9a9026f450f6\" xlink:actuate=\"onRequest\" xlink:href=\"psysml:47d741c3-9ace-4bbc-b3f0-9a9026f450f6\" xlink:show=\"new\" xlink:title=\"psysml:47d741c3-9ace-4bbc-b3f0-9a9026f450f6\" xlink:type=\"simple\"><polygon fill=\"none\" points=\"16,6,148,6,155,28.2969,1633,28.2969,1633,550,16,550,16,6\" style=\"stroke:#000000;stroke-width:1.5;\"/><line style=\"stroke:#000000;stroke-width:1.5;\" x1=\"16\" x2=\"155\" y1=\"28.2969\" y2=\"28.2969\"/><text fill=\"#000000\" font-family=\"sans-serif\" font-size=\"14\" font-weight=\"bold\" lengthAdjust=\"spacing\" textLength=\"126\" x=\"20\" y=\"20.9951\">InternetModel_v1</text></a></g><!--MD5=[b4997ac47864f28c2f74865a473b2911]\n",
       "class E2--><a href=\"psysml:3d3986b6-da84-43fd-a249-cf364d24415e\" target=\"_top\" title=\"psysml:3d3986b6-da84-43fd-a249-cf364d24415e\" xlink:actuate=\"onRequest\" xlink:href=\"psysml:3d3986b6-da84-43fd-a249-cf364d24415e\" xlink:show=\"new\" xlink:title=\"psysml:3d3986b6-da84-43fd-a249-cf364d24415e\" xlink:type=\"simple\"><g id=\"elem_E2\"><rect fill=\"#FFFFFF\" height=\"48.2656\" id=\"E2\" style=\"stroke:#181818;stroke-width:0.5;\" width=\"70\" x=\"410\" y=\"486\"/><text fill=\"#000000\" font-family=\"sans-serif\" font-size=\"12\" font-style=\"italic\" lengthAdjust=\"spacing\" textLength=\"68\" x=\"411\" y=\"502.1387\">«part  def»</text><text fill=\"#000000\" font-family=\"sans-serif\" font-size=\"14\" lengthAdjust=\"spacing\" textLength=\"32\" x=\"429\" y=\"517.9639\">Data</text><line style=\"stroke:#181818;stroke-width:0.5;\" x1=\"411\" x2=\"479\" y1=\"526.2656\" y2=\"526.2656\"/></g></a><!--MD5=[09b614a08d8cba4a07c9adeb5e0fee81]\n",
       "class E3--><a href=\"psysml:f5b408da-981b-4027-996b-94044954e3dd\" target=\"_top\" title=\"psysml:f5b408da-981b-4027-996b-94044954e3dd\" xlink:actuate=\"onRequest\" xlink:href=\"psysml:f5b408da-981b-4027-996b-94044954e3dd\" xlink:show=\"new\" xlink:title=\"psysml:f5b408da-981b-4027-996b-94044954e3dd\" xlink:type=\"simple\"><g id=\"elem_E3\"><rect fill=\"#FFFFFF\" height=\"91.3781\" id=\"E3\" style=\"stroke:#181818;stroke-width:0.5;\" width=\"170\" x=\"1061\" y=\"227\"/><text fill=\"#000000\" font-family=\"sans-serif\" font-size=\"12\" font-style=\"italic\" lengthAdjust=\"spacing\" textLength=\"68\" x=\"1112\" y=\"243.1387\">«part  def»</text><text fill=\"#000000\" font-family=\"sans-serif\" font-size=\"14\" lengthAdjust=\"spacing\" textLength=\"47\" x=\"1122.5\" y=\"258.9639\">Device</text><line style=\"stroke:#181818;stroke-width:0.5;\" x1=\"1062\" x2=\"1230\" y1=\"267.2656\" y2=\"267.2656\"/><text fill=\"#000000\" font-family=\"sans-serif\" font-size=\"14\" lengthAdjust=\"spacing\" textLength=\"158\" x=\"1067\" y=\"294.7795\">connType: Connection</text><text fill=\"#000000\" font-family=\"sans-serif\" font-size=\"14\" lengthAdjust=\"spacing\" textLength=\"136\" x=\"1067\" y=\"311.0764\">voltageIn: Electricity</text><text fill=\"#000000\" font-family=\"sans-serif\" font-size=\"14\" font-style=\"italic\" lengthAdjust=\"spacing\" textLength=\"66\" x=\"1113\" y=\"279.6123\">attributes</text></g></a><!--MD5=[ebbe1d658d1005bcc118a6aa81145e00]\n",
       "class E4--><a href=\"psysml:28788c12-a92e-4283-9145-2091e5b34c37\" target=\"_top\" title=\"psysml:28788c12-a92e-4283-9145-2091e5b34c37\" xlink:actuate=\"onRequest\" xlink:href=\"psysml:28788c12-a92e-4283-9145-2091e5b34c37\" xlink:show=\"new\" xlink:title=\"psysml:28788c12-a92e-4283-9145-2091e5b34c37\" xlink:type=\"simple\"><g id=\"elem_E4\"><rect fill=\"#FFFFFF\" height=\"91.3781\" id=\"E4\" style=\"stroke:#181818;stroke-width:0.5;\" width=\"295\" x=\"1321.5\" y=\"58.5\"/><text fill=\"#000000\" font-family=\"sans-serif\" font-size=\"12\" font-style=\"italic\" lengthAdjust=\"spacing\" textLength=\"68\" x=\"1435\" y=\"74.6387\">«part  def»</text><text fill=\"#000000\" font-family=\"sans-serif\" font-size=\"14\" lengthAdjust=\"spacing\" textLength=\"74\" x=\"1432\" y=\"90.4639\">WiFiRouter</text><line style=\"stroke:#181818;stroke-width:0.5;\" x1=\"1322.5\" x2=\"1615.5\" y1=\"98.7656\" y2=\"98.7656\"/><text fill=\"#000000\" font-family=\"sans-serif\" font-size=\"14\" lengthAdjust=\"spacing\" textLength=\"268\" x=\"1327.5\" y=\"126.2795\">ethernetConnection: CableConnection</text><text fill=\"#000000\" font-family=\"sans-serif\" font-size=\"14\" lengthAdjust=\"spacing\" textLength=\"283\" x=\"1327.5\" y=\"142.5764\">wirelessConnection: WirelessConnection</text><text fill=\"#000000\" font-family=\"sans-serif\" font-size=\"14\" font-style=\"italic\" lengthAdjust=\"spacing\" textLength=\"66\" x=\"1436\" y=\"111.1123\">attributes</text></g></a><!--MD5=[270fce915f116d4de14055a7c1d9a0f3]\n",
       "class E5--><a href=\"psysml:e91e587f-2a71-4893-b658-0105ab7caef7\" target=\"_top\" title=\"psysml:e91e587f-2a71-4893-b658-0105ab7caef7\" xlink:actuate=\"onRequest\" xlink:href=\"psysml:e91e587f-2a71-4893-b658-0105ab7caef7\" xlink:show=\"new\" xlink:title=\"psysml:e91e587f-2a71-4893-b658-0105ab7caef7\" xlink:type=\"simple\"><g id=\"elem_E5\"><rect fill=\"#FFFFFF\" height=\"91.3781\" id=\"E5\" style=\"stroke:#181818;stroke-width:0.5;\" width=\"280\" x=\"1006\" y=\"58.5\"/><text fill=\"#000000\" font-family=\"sans-serif\" font-size=\"12\" font-style=\"italic\" lengthAdjust=\"spacing\" textLength=\"68\" x=\"1112\" y=\"74.6387\">«part  def»</text><text fill=\"#000000\" font-family=\"sans-serif\" font-size=\"14\" lengthAdjust=\"spacing\" textLength=\"74\" x=\"1109\" y=\"90.4639\">DSLRouter</text><line style=\"stroke:#181818;stroke-width:0.5;\" x1=\"1007\" x2=\"1285\" y1=\"98.7656\" y2=\"98.7656\"/><text fill=\"#000000\" font-family=\"sans-serif\" font-size=\"14\" lengthAdjust=\"spacing\" textLength=\"228\" x=\"1012\" y=\"126.2795\">dslConnection: CableConnection</text><text fill=\"#000000\" font-family=\"sans-serif\" font-size=\"14\" lengthAdjust=\"spacing\" textLength=\"268\" x=\"1012\" y=\"142.5764\">ethernetConnection: CableConnection</text><text fill=\"#000000\" font-family=\"sans-serif\" font-size=\"14\" font-style=\"italic\" lengthAdjust=\"spacing\" textLength=\"66\" x=\"1113\" y=\"111.1123\">attributes</text></g></a><!--MD5=[60a26617385b1d2d0262a64233df1f8d]\n",
       "class E6--><a href=\"psysml:3c91ee5d-d3d5-48a2-b92c-35a002818afd\" target=\"_top\" title=\"psysml:3c91ee5d-d3d5-48a2-b92c-35a002818afd\" xlink:actuate=\"onRequest\" xlink:href=\"psysml:3c91ee5d-d3d5-48a2-b92c-35a002818afd\" xlink:show=\"new\" xlink:title=\"psysml:3c91ee5d-d3d5-48a2-b92c-35a002818afd\" xlink:type=\"simple\"><g id=\"elem_E6\"><rect fill=\"#FFFFFF\" height=\"126.1938\" id=\"E6\" style=\"stroke:#181818;stroke-width:0.5;\" width=\"295\" x=\"675.5\" y=\"41\"/><text fill=\"#000000\" font-family=\"sans-serif\" font-size=\"12\" font-style=\"italic\" lengthAdjust=\"spacing\" textLength=\"68\" x=\"789\" y=\"57.1387\">«part  def»</text><text fill=\"#000000\" font-family=\"sans-serif\" font-size=\"14\" lengthAdjust=\"spacing\" textLength=\"92\" x=\"777\" y=\"72.9639\">MobileDevice</text><line style=\"stroke:#181818;stroke-width:0.5;\" x1=\"676.5\" x2=\"969.5\" y1=\"81.2656\" y2=\"81.2656\"/><text fill=\"#000000\" font-family=\"sans-serif\" font-size=\"14\" lengthAdjust=\"spacing\" textLength=\"271\" x=\"681.5\" y=\"108.7795\">* Bluetooth, WiFi, 5G/4G ... so at least 3</text><text fill=\"#000000\" font-family=\"sans-serif\" font-size=\"14\" lengthAdjust=\"spacing\" textLength=\"157\" x=\"681.5\" y=\"125.0764\">wireless connections *</text><text fill=\"#000000\" font-family=\"sans-serif\" font-size=\"14\" font-style=\"italic\" lengthAdjust=\"spacing\" textLength=\"26\" x=\"810\" y=\"93.6123\">doc</text><line style=\"stroke:#181818;stroke-width:1.0;\" x1=\"676.5\" x2=\"969.5\" y1=\"132.3781\" y2=\"132.3781\"/><text fill=\"#000000\" font-family=\"sans-serif\" font-size=\"14\" lengthAdjust=\"spacing\" textLength=\"283\" x=\"681.5\" y=\"159.892\">wirelessConnection: WirelessConnection</text><text fill=\"#000000\" font-family=\"sans-serif\" font-size=\"14\" font-style=\"italic\" lengthAdjust=\"spacing\" textLength=\"66\" x=\"790\" y=\"144.7248\">attributes</text></g></a><!--MD5=[2156ba9850f5573cc1fc38a6a4b2f02b]\n",
       "class E7--><a href=\"psysml:0cdbcc07-9422-4a6e-859a-50f058e59397\" target=\"_top\" title=\"psysml:0cdbcc07-9422-4a6e-859a-50f058e59397\" xlink:actuate=\"onRequest\" xlink:href=\"psysml:0cdbcc07-9422-4a6e-859a-50f058e59397\" xlink:show=\"new\" xlink:title=\"psysml:0cdbcc07-9422-4a6e-859a-50f058e59397\" xlink:type=\"simple\"><g id=\"elem_E7\"><rect fill=\"#FFFFFF\" height=\"48.2656\" id=\"E7\" style=\"stroke:#181818;stroke-width:0.5;\" width=\"99\" x=\"395.5\" y=\"248.5\"/><text fill=\"#000000\" font-family=\"sans-serif\" font-size=\"12\" font-style=\"italic\" lengthAdjust=\"spacing\" textLength=\"97\" x=\"396.5\" y=\"264.6387\">«attribute  def»</text><text fill=\"#000000\" font-family=\"sans-serif\" font-size=\"14\" lengthAdjust=\"spacing\" textLength=\"80\" x=\"405\" y=\"280.4639\">Connection</text><line style=\"stroke:#181818;stroke-width:0.5;\" x1=\"396.5\" x2=\"493.5\" y1=\"288.7656\" y2=\"288.7656\"/></g></a><!--MD5=[b9389687b975829384b498ac4b7476b2]\n",
       "class E8--><a href=\"psysml:3d6b36fb-2c76-4b50-806d-3f94b4639995\" target=\"_top\" title=\"psysml:3d6b36fb-2c76-4b50-806d-3f94b4639995\" xlink:actuate=\"onRequest\" xlink:href=\"psysml:3d6b36fb-2c76-4b50-806d-3f94b4639995\" xlink:show=\"new\" xlink:title=\"psysml:3d6b36fb-2c76-4b50-806d-3f94b4639995\" xlink:type=\"simple\"><g id=\"elem_E8\"><rect fill=\"#FFFFFF\" height=\"48.2656\" id=\"E8\" rx=\"10\" ry=\"10\" style=\"stroke:#181818;stroke-width:0.5;\" width=\"99\" x=\"325.5\" y=\"378\"/><text fill=\"#000000\" font-family=\"sans-serif\" font-size=\"12\" font-style=\"italic\" lengthAdjust=\"spacing\" textLength=\"41\" x=\"354.5\" y=\"394.1387\">«item»</text><text fill=\"#000000\" font-family=\"sans-serif\" font-size=\"14\" lengthAdjust=\"spacing\" textLength=\"85\" x=\"328.5\" y=\"409.9639\">inData: Data</text><line style=\"stroke:#181818;stroke-width:0.5;\" x1=\"326.5\" x2=\"423.5\" y1=\"418.2656\" y2=\"418.2656\"/></g></a><!--MD5=[fd4143e9d270a159db93a4ea2a975926]\n",
       "class E9--><a href=\"psysml:d3eb6a15-766c-4ad8-82eb-b815febed0c6\" target=\"_top\" title=\"psysml:d3eb6a15-766c-4ad8-82eb-b815febed0c6\" xlink:actuate=\"onRequest\" xlink:href=\"psysml:d3eb6a15-766c-4ad8-82eb-b815febed0c6\" xlink:show=\"new\" xlink:title=\"psysml:d3eb6a15-766c-4ad8-82eb-b815febed0c6\" xlink:type=\"simple\"><g id=\"elem_E9\"><rect fill=\"#FFFFFF\" height=\"48.2656\" id=\"E9\" rx=\"10\" ry=\"10\" style=\"stroke:#181818;stroke-width:0.5;\" width=\"110\" x=\"460\" y=\"378\"/><text fill=\"#000000\" font-family=\"sans-serif\" font-size=\"12\" font-style=\"italic\" lengthAdjust=\"spacing\" textLength=\"41\" x=\"494.5\" y=\"394.1387\">«item»</text><text fill=\"#000000\" font-family=\"sans-serif\" font-size=\"14\" lengthAdjust=\"spacing\" textLength=\"96\" x=\"463\" y=\"409.9639\">outData: Data</text><line style=\"stroke:#181818;stroke-width:0.5;\" x1=\"461\" x2=\"569\" y1=\"418.2656\" y2=\"418.2656\"/></g></a><!--MD5=[96f4274e9e20536e775497830990834d]\n",
       "class E10--><a href=\"psysml:e1062f90-f106-487d-b19a-90695ec4abff\" target=\"_top\" title=\"psysml:e1062f90-f106-487d-b19a-90695ec4abff\" xlink:actuate=\"onRequest\" xlink:href=\"psysml:e1062f90-f106-487d-b19a-90695ec4abff\" xlink:show=\"new\" xlink:title=\"psysml:e1062f90-f106-487d-b19a-90695ec4abff\" xlink:type=\"simple\"><g id=\"elem_E10\"><rect fill=\"#FFFFFF\" height=\"75.0813\" id=\"E10\" style=\"stroke:#181818;stroke-width:0.5;\" width=\"190\" x=\"450\" y=\"66.5\"/><text fill=\"#000000\" font-family=\"sans-serif\" font-size=\"12\" font-style=\"italic\" lengthAdjust=\"spacing\" textLength=\"97\" x=\"496.5\" y=\"82.6387\">«attribute  def»</text><text fill=\"#000000\" font-family=\"sans-serif\" font-size=\"14\" lengthAdjust=\"spacing\" textLength=\"138\" x=\"476\" y=\"98.4639\">WirelessConnection</text><line style=\"stroke:#181818;stroke-width:0.5;\" x1=\"451\" x2=\"639\" y1=\"106.7656\" y2=\"106.7656\"/><text fill=\"#000000\" font-family=\"sans-serif\" font-size=\"14\" lengthAdjust=\"spacing\" textLength=\"178\" x=\"456\" y=\"134.2795\">frequency: FrequencyUnit</text><text fill=\"#000000\" font-family=\"sans-serif\" font-size=\"14\" font-style=\"italic\" lengthAdjust=\"spacing\" textLength=\"66\" x=\"512\" y=\"119.1123\">attributes</text></g></a><!--MD5=[1dd1bfd58a279cf63c5f349dbc8fc6a1]\n",
       "class E11--><a href=\"psysml:b002a03b-a8dd-4287-b968-1998436cbfd9\" target=\"_top\" title=\"psysml:b002a03b-a8dd-4287-b968-1998436cbfd9\" xlink:actuate=\"onRequest\" xlink:href=\"psysml:b002a03b-a8dd-4287-b968-1998436cbfd9\" xlink:show=\"new\" xlink:title=\"psysml:b002a03b-a8dd-4287-b968-1998436cbfd9\" xlink:type=\"simple\"><g id=\"elem_E11\"><rect fill=\"#FFFFFF\" height=\"75.0813\" id=\"E11\" style=\"stroke:#181818;stroke-width:0.5;\" width=\"140\" x=\"275\" y=\"66.5\"/><text fill=\"#000000\" font-family=\"sans-serif\" font-size=\"12\" font-style=\"italic\" lengthAdjust=\"spacing\" textLength=\"97\" x=\"296.5\" y=\"82.6387\">«attribute  def»</text><text fill=\"#000000\" font-family=\"sans-serif\" font-size=\"14\" lengthAdjust=\"spacing\" textLength=\"119\" x=\"285.5\" y=\"98.4639\">CableConnection</text><line style=\"stroke:#181818;stroke-width:0.5;\" x1=\"276\" x2=\"414\" y1=\"106.7656\" y2=\"106.7656\"/><text fill=\"#000000\" font-family=\"sans-serif\" font-size=\"14\" lengthAdjust=\"spacing\" textLength=\"128\" x=\"281\" y=\"134.2795\">wireCount: Integer</text><text fill=\"#000000\" font-family=\"sans-serif\" font-size=\"14\" font-style=\"italic\" lengthAdjust=\"spacing\" textLength=\"66\" x=\"312\" y=\"119.1123\">attributes</text></g></a><!--MD5=[49a0ec8f00dab7302a31f22d0f0fe584]\n",
       "class E12--><a href=\"psysml:fb59b3c7-21cb-4e4a-be58-14a179f64ca9\" target=\"_top\" title=\"psysml:fb59b3c7-21cb-4e4a-be58-14a179f64ca9\" xlink:actuate=\"onRequest\" xlink:href=\"psysml:fb59b3c7-21cb-4e4a-be58-14a179f64ca9\" xlink:show=\"new\" xlink:title=\"psysml:fb59b3c7-21cb-4e4a-be58-14a179f64ca9\" xlink:type=\"simple\"><g id=\"elem_E12\"><rect fill=\"#FFFFFF\" height=\"91.3781\" id=\"E12\" style=\"stroke:#181818;stroke-width:0.5;\" width=\"208\" x=\"32\" y=\"58.5\"/><text fill=\"#000000\" font-family=\"sans-serif\" font-size=\"12\" font-style=\"italic\" lengthAdjust=\"spacing\" textLength=\"97\" x=\"87.5\" y=\"74.6387\">«attribute  def»</text><text fill=\"#000000\" font-family=\"sans-serif\" font-size=\"14\" lengthAdjust=\"spacing\" textLength=\"65\" x=\"103.5\" y=\"90.4639\">Electricity</text><line style=\"stroke:#181818;stroke-width:0.5;\" x1=\"33\" x2=\"239\" y1=\"98.7656\" y2=\"98.7656\"/><text fill=\"#000000\" font-family=\"sans-serif\" font-size=\"14\" lengthAdjust=\"spacing\" textLength=\"189\" x=\"38\" y=\"126.2795\">ampere: ElectricChargeUnit</text><text fill=\"#000000\" font-family=\"sans-serif\" font-size=\"14\" lengthAdjust=\"spacing\" textLength=\"196\" x=\"38\" y=\"142.5764\">voltage: ElectricPotentialUnit</text><text fill=\"#000000\" font-family=\"sans-serif\" font-size=\"14\" font-style=\"italic\" lengthAdjust=\"spacing\" textLength=\"66\" x=\"103\" y=\"111.1123\">attributes</text></g></a><!--MD5=[f0cdf4548168e5211fb3a02bf679d63a]\n",
       "link E4 to E3--><g id=\"link_E4_E3\"><a href=\"psysml:16ee7738-8546-4899-a438-c6815cdd4e1e\" target=\"_top\" title=\"psysml:16ee7738-8546-4899-a438-c6815cdd4e1e\" xlink:actuate=\"onRequest\" xlink:href=\"psysml:16ee7738-8546-4899-a438-c6815cdd4e1e\" xlink:show=\"new\" xlink:title=\"psysml:16ee7738-8546-4899-a438-c6815cdd4e1e\" xlink:type=\"simple\"><path d=\"M1382.44,149.62 C1341.4,170.77 1292.06,196.21 1249.1,218.35 \" fill=\"none\" id=\"E4-to-E3\" style=\"stroke:#181818;stroke-width:1.0;\"/><polygon fill=\"none\" points=\"1252.1,224.68,1231.12,227.62,1245.69,212.24,1252.1,224.68\" style=\"stroke:#181818;stroke-width:1.0;\"/></a></g><!--MD5=[e9be52314489bd878ff4c7144b63c9e1]\n",
       "link E5 to E3--><g id=\"link_E5_E3\"><a href=\"psysml:4a057ab2-eb83-4338-93b8-2c0831876723\" target=\"_top\" title=\"psysml:4a057ab2-eb83-4338-93b8-2c0831876723\" xlink:actuate=\"onRequest\" xlink:href=\"psysml:4a057ab2-eb83-4338-93b8-2c0831876723\" xlink:show=\"new\" xlink:title=\"psysml:4a057ab2-eb83-4338-93b8-2c0831876723\" xlink:type=\"simple\"><path d=\"M1146,149.62 C1146,167.07 1146,187.43 1146,206.46 \" fill=\"none\" id=\"E5-to-E3\" style=\"stroke:#181818;stroke-width:1.0;\"/><polygon fill=\"none\" points=\"1153,206.76,1146,226.76,1139,206.76,1153,206.76\" style=\"stroke:#181818;stroke-width:1.0;\"/></a></g><!--MD5=[a717450b82c80b9240a525fa862496af]\n",
       "link E6 to E3--><g id=\"link_E6_E3\"><a href=\"psysml:b3151011-4ba2-4df6-aa57-7a58f52330fa\" target=\"_top\" title=\"psysml:b3151011-4ba2-4df6-aa57-7a58f52330fa\" xlink:actuate=\"onRequest\" xlink:href=\"psysml:b3151011-4ba2-4df6-aa57-7a58f52330fa\" xlink:show=\"new\" xlink:title=\"psysml:b3151011-4ba2-4df6-aa57-7a58f52330fa\" xlink:type=\"simple\"><path d=\"M943.73,167.24 C976.24,183.99 1011.1,201.96 1042.57,218.18 \" fill=\"none\" id=\"E6-to-E3\" style=\"stroke:#181818;stroke-width:1.0;\"/><polygon fill=\"none\" points=\"1046.09,212.12,1060.66,227.51,1039.67,224.57,1046.09,212.12\" style=\"stroke:#181818;stroke-width:1.0;\"/></a></g><!--MD5=[dc164f5e8a733ab456ef1add180e9e34]\n",
       "reverse link E7 to E8--><g id=\"link_E7_E8\"><a href=\"psysml:01840579-7fd9-47b6-8eab-64993c2435c5\" target=\"_top\" title=\"psysml:01840579-7fd9-47b6-8eab-64993c2435c5\" xlink:actuate=\"onRequest\" xlink:href=\"psysml:01840579-7fd9-47b6-8eab-64993c2435c5\" xlink:show=\"new\" xlink:title=\"psysml:01840579-7fd9-47b6-8eab-64993c2435c5\" xlink:type=\"simple\"><path d=\"M425.98,308.15 C413.86,330.21 398.5,358.2 387.82,377.65 \" fill=\"none\" id=\"E7-backto-E8\" style=\"stroke:#181818;stroke-width:1.0;\"/><polygon fill=\"none\" points=\"432.32,296.59,425.9297,299.9313,426.5562,307.1152,432.9465,303.7738,432.32,296.59\" style=\"stroke:#181818;stroke-width:1.0;\"/></a></g><!--MD5=[f1f3f9f2fc535e6147756cb86a7f2e32]\n",
       "link E8 to E2--><g id=\"link_E8_E2\"><a href=\"psysml:1a5c0525-c400-4a16-b986-64771f537f22\" target=\"_top\" title=\"psysml:1a5c0525-c400-4a16-b986-64771f537f22\" xlink:actuate=\"onRequest\" xlink:href=\"psysml:1a5c0525-c400-4a16-b986-64771f537f22\" xlink:show=\"new\" xlink:title=\"psysml:1a5c0525-c400-4a16-b986-64771f537f22\" xlink:type=\"simple\"><path d=\"M390.19,426 C398.48,438.55 408.98,454.46 418.57,468.97 \" fill=\"none\" id=\"E8-to-E2\" style=\"stroke:#181818;stroke-width:1.0;\"/><polygon fill=\"#FFFFFF\" points=\"429.6,485.68,413.2837,473.6892,424.9631,465.9696,429.6,485.68\" style=\"stroke:#181818;stroke-width:1.0;\"/><ellipse cx=\"411.8092\" cy=\"467.8312\" fill=\"#181818\" rx=\"2\" ry=\"2\" style=\"stroke:#181818;stroke-width:1.0;\"/><ellipse cx=\"420.1516\" cy=\"462.3172\" fill=\"#181818\" rx=\"2\" ry=\"2\" style=\"stroke:#181818;stroke-width:1.0;\"/></a></g><!--MD5=[e4a10ef82d0e328e31cac39a31e58dda]\n",
       "reverse link E7 to E9--><g id=\"link_E7_E9\"><a href=\"psysml:0f8d1b97-83c5-4597-94d6-8895b8f2207c\" target=\"_top\" title=\"psysml:0f8d1b97-83c5-4597-94d6-8895b8f2207c\" xlink:actuate=\"onRequest\" xlink:href=\"psysml:0f8d1b97-83c5-4597-94d6-8895b8f2207c\" xlink:show=\"new\" xlink:title=\"psysml:0f8d1b97-83c5-4597-94d6-8895b8f2207c\" xlink:type=\"simple\"><path d=\"M464.02,308.15 C476.14,330.21 491.5,358.2 502.18,377.65 \" fill=\"none\" id=\"E7-backto-E9\" style=\"stroke:#181818;stroke-width:1.0;\"/><polygon fill=\"none\" points=\"457.68,296.59,457.0535,303.7738,463.4438,307.1152,464.0703,299.9313,457.68,296.59\" style=\"stroke:#181818;stroke-width:1.0;\"/></a></g><!--MD5=[5c3bb36fe832a92c7f0e1807dd65209d]\n",
       "link E9 to E2--><g id=\"link_E9_E2\"><a href=\"psysml:eba6ce21-2e3b-446d-8620-43047cf5e23f\" target=\"_top\" title=\"psysml:eba6ce21-2e3b-446d-8620-43047cf5e23f\" xlink:actuate=\"onRequest\" xlink:href=\"psysml:eba6ce21-2e3b-446d-8620-43047cf5e23f\" xlink:show=\"new\" xlink:title=\"psysml:eba6ce21-2e3b-446d-8620-43047cf5e23f\" xlink:type=\"simple\"><path d=\"M499.81,426 C491.52,438.55 481.02,454.46 471.43,468.97 \" fill=\"none\" id=\"E9-to-E2\" style=\"stroke:#181818;stroke-width:1.0;\"/><polygon fill=\"#FFFFFF\" points=\"460.4,485.68,465.0369,465.9696,476.7163,473.6892,460.4,485.68\" style=\"stroke:#181818;stroke-width:1.0;\"/><ellipse cx=\"469.8484\" cy=\"462.3172\" fill=\"#181818\" rx=\"2\" ry=\"2\" style=\"stroke:#181818;stroke-width:1.0;\"/><ellipse cx=\"478.1908\" cy=\"467.8312\" fill=\"#181818\" rx=\"2\" ry=\"2\" style=\"stroke:#181818;stroke-width:1.0;\"/></a></g><!--MD5=[a919e0967d6f3de553dc51b9865a1d6d]\n",
       "link E10 to E7--><g id=\"link_E10_E7\"><a href=\"psysml:eb165a80-1693-4c83-aead-6a69fbfa4b2c\" target=\"_top\" title=\"psysml:eb165a80-1693-4c83-aead-6a69fbfa4b2c\" xlink:actuate=\"onRequest\" xlink:href=\"psysml:eb165a80-1693-4c83-aead-6a69fbfa4b2c\" xlink:show=\"new\" xlink:title=\"psysml:eb165a80-1693-4c83-aead-6a69fbfa4b2c\" xlink:type=\"simple\"><path d=\"M523.05,141.54 C507.17,167.98 485.71,203.73 469.3,231.03 \" fill=\"none\" id=\"E10-to-E7\" style=\"stroke:#181818;stroke-width:1.0;\"/><polygon fill=\"none\" points=\"475.19,234.83,458.89,248.37,463.19,227.62,475.19,234.83\" style=\"stroke:#181818;stroke-width:1.0;\"/></a></g><!--MD5=[41ed9f8af792e4462e62a86c9f6b57b4]\n",
       "link E11 to E7--><g id=\"link_E11_E7\"><a href=\"psysml:666f772c-c13c-435f-a989-a4e2677e5acf\" target=\"_top\" title=\"psysml:666f772c-c13c-435f-a989-a4e2677e5acf\" xlink:actuate=\"onRequest\" xlink:href=\"psysml:666f772c-c13c-435f-a989-a4e2677e5acf\" xlink:show=\"new\" xlink:title=\"psysml:666f772c-c13c-435f-a989-a4e2677e5acf\" xlink:type=\"simple\"><path d=\"M366.95,141.54 C382.83,167.98 404.29,203.73 420.7,231.03 \" fill=\"none\" id=\"E11-to-E7\" style=\"stroke:#181818;stroke-width:1.0;\"/><polygon fill=\"none\" points=\"426.81,227.62,431.11,248.37,414.81,234.83,426.81,227.62\" style=\"stroke:#181818;stroke-width:1.0;\"/></a></g><!--MD5=[726c2b5b36f250949b5f3db5049737ef]\n",
       "@startuml\r\n",
       "skin sysmlbw\r\n",
       "skinparam monochrome true\r\n",
       "skinparam wrapWidth 300\r\n",
       "hide circle\r\n",
       "\r\n",
       "package \"InternetModel_v1\" as E1  [[psysml:47d741c3-9ace-4bbc-b3f0-9a9026f450f6 ]]  {\r\n",
       "comp def \"Data\" as E2  <<(T,blue) part  def>> [[psysml:3d3986b6-da84-43fd-a249-cf364d24415e ]] {\r\n",
       "}\r\n",
       "comp def \"Device\" as E3  <<(T,blue) part  def>> [[psysml:f5b408da-981b-4027-996b-94044954e3dd ]] {\r\n",
       "##//attributes//##\r\n",
       "connType: Connection\r\n",
       "voltageIn: Electricity\r\n",
       "}\r\n",
       "comp def \"WiFiRouter\" as E4  <<(T,blue) part  def>> [[psysml:28788c12-a92e-4283-9145-2091e5b34c37 ]] {\r\n",
       "##//attributes//##\r\n",
       "ethernetConnection: CableConnection\r\n",
       "wirelessConnection: WirelessConnection\r\n",
       "}\r\n",
       "comp def \"DSLRouter\" as E5  <<(T,blue) part  def>> [[psysml:e91e587f-2a71-4893-b658-0105ab7caef7 ]] {\r\n",
       "##//attributes//##\r\n",
       "dslConnection: CableConnection\r\n",
       "ethernetConnection: CableConnection\r\n",
       "}\r\n",
       "comp def \"MobileDevice\" as E6  <<(T,blue) part  def>> [[psysml:3c91ee5d-d3d5-48a2-b92c-35a002818afd ]] {\r\n",
       "##//doc//##\r\n",
       "<U+002A> Bluetooth, WiFi, 5G<U+002F>4G ... so at least 3 wireless connections <U+002A>\r\n",
       "- -\r\n",
       "##//attributes//##\r\n",
       "wirelessConnection: WirelessConnection\r\n",
       "}\r\n",
       "comp def \"Connection\" as E7  <<(T,blue) attribute  def>> [[psysml:0cdbcc07-9422-4a6e-859a-50f058e59397 ]] {\r\n",
       "}\r\n",
       "comp usage \"inData: Data  \" as E8  <<(T,blue) item>> [[psysml:3d6b36fb-2c76-4b50-806d-3f94b4639995 ]] {\r\n",
       "}\r\n",
       "comp usage \"outData: Data  \" as E9  <<(T,blue) item>> [[psysml:d3eb6a15-766c-4ad8-82eb-b815febed0c6 ]] {\r\n",
       "}\r\n",
       "comp def \"WirelessConnection\" as E10  <<(T,blue) attribute  def>> [[psysml:e1062f90-f106-487d-b19a-90695ec4abff ]] {\r\n",
       "##//attributes//##\r\n",
       "frequency: FrequencyUnit\r\n",
       "}\r\n",
       "comp def \"CableConnection\" as E11  <<(T,blue) attribute  def>> [[psysml:b002a03b-a8dd-4287-b968-1998436cbfd9 ]] {\r\n",
       "##//attributes//##\r\n",
       "wireCount: Integer\r\n",
       "}\r\n",
       "comp def \"Electricity\" as E12  <<(T,blue) attribute  def>> [[psysml:fb59b3c7-21cb-4e4a-be58-14a179f64ca9 ]] {\r\n",
       "##//attributes//##\r\n",
       "ampere: ElectricChargeUnit\r\n",
       "voltage: ElectricPotentialUnit\r\n",
       "}\r\n",
       "}\r\n",
       "E4 - -|> E3 [[psysml:16ee7738-8546-4899-a438-c6815cdd4e1e ]] \r\n",
       "E5 - -|> E3 [[psysml:4a057ab2-eb83-4338-93b8-2c0831876723 ]] \r\n",
       "E6 - -|> E3 [[psysml:b3151011-4ba2-4df6-aa57-7a58f52330fa ]] \r\n",
       "E7 o- - E8 [[psysml:01840579-7fd9-47b6-8eab-64993c2435c5 ]] \r\n",
       "E8 - -:|> E2 [[psysml:1a5c0525-c400-4a16-b986-64771f537f22 ]] \r\n",
       "E7 o- - E9 [[psysml:0f8d1b97-83c5-4597-94d6-8895b8f2207c ]] \r\n",
       "E9 - -:|> E2 [[psysml:eba6ce21-2e3b-446d-8620-43047cf5e23f ]] \r\n",
       "E10 - -|> E7 [[psysml:eb165a80-1693-4c83-aead-6a69fbfa4b2c ]] \r\n",
       "E11 - -|> E7 [[psysml:666f772c-c13c-435f-a989-a4e2677e5acf ]] \r\n",
       "@enduml\r\n",
       "\n",
       "PlantUML version 1.2022.7(Mon Aug 22 17:01:30 UTC 2022)\n",
       "(EPL source distribution)\n",
       "Java Runtime: OpenJDK Runtime Environment\n",
       "JVM: OpenJDK 64-Bit Server VM\n",
       "Default Encoding: UTF-8\n",
       "Language: en\n",
       "Country: null\n",
       "--></g></svg>"
      ]
     },
     "execution_count": 2,
     "metadata": {},
     "output_type": "execute_result"
    }
   ],
   "source": [
    "%viz InternetModel_v1"
   ]
  },
  {
   "cell_type": "markdown",
   "id": "d66fe8ec",
   "metadata": {},
   "source": [
    "## Version 2\n",
    "\n",
    "Using Ports to describe the end points of connections while using `connection` for connections between parts. Also using specific parts for specific devices, not part definitions."
   ]
  },
  {
   "cell_type": "code",
   "execution_count": 3,
   "id": "5267280b",
   "metadata": {
    "execution": {
     "iopub.execute_input": "2024-12-16T14:14:56.603812Z",
     "iopub.status.busy": "2024-12-16T14:14:56.603579Z",
     "iopub.status.idle": "2024-12-16T14:14:56.786581Z",
     "shell.execute_reply": "2024-12-16T14:14:56.784278Z"
    }
   },
   "outputs": [
    {
     "name": "stderr",
     "output_type": "stream",
     "text": [
      "ERROR:mismatched input 'import' expecting '}' (3.sysml line : 2 column : 5)\n"
     ]
    },
    {
     "name": "stderr",
     "output_type": "stream",
     "text": [
      "ERROR:no viable alternative at input '::' (3.sysml line : 2 column : 15)\n"
     ]
    },
    {
     "name": "stderr",
     "output_type": "stream",
     "text": [
      "ERROR:no viable alternative at input '::' (3.sysml line : 3 column : 14)\n"
     ]
    },
    {
     "name": "stderr",
     "output_type": "stream",
     "text": [
      "ERROR:no viable alternative at input '::' (3.sysml line : 4 column : 22)\n"
     ]
    },
    {
     "name": "stderr",
     "output_type": "stream",
     "text": [
      "ERROR:no viable alternative at input '::' (3.sysml line : 5 column : 26)\n"
     ]
    },
    {
     "name": "stderr",
     "output_type": "stream",
     "text": [
      "ERROR:no viable alternative at input '>' (3.sysml line : 7 column : 56)\n"
     ]
    },
    {
     "name": "stderr",
     "output_type": "stream",
     "text": [
      "ERROR:no viable alternative at input ',' (3.sysml line : 7 column : 69)\n"
     ]
    },
    {
     "name": "stderr",
     "output_type": "stream",
     "text": [
      "ERROR:no viable alternative at input '>' (3.sysml line : 7 column : 87)\n"
     ]
    },
    {
     "name": "stderr",
     "output_type": "stream",
     "text": [
      "ERROR:no viable alternative at input 'ConversionByPrefix' (3.sysml line : 7 column : 89)\n"
     ]
    },
    {
     "name": "stderr",
     "output_type": "stream",
     "text": [
      "ERROR:no viable alternative at input '(' (3.sysml line : 7 column : 107)\n"
     ]
    },
    {
     "name": "stderr",
     "output_type": "stream",
     "text": [
      "ERROR:no viable alternative at input '>' (3.sysml line : 7 column : 116)\n"
     ]
    },
    {
     "name": "stderr",
     "output_type": "stream",
     "text": [
      "ERROR:no viable alternative at input 'giga' (3.sysml line : 7 column : 118)\n"
     ]
    },
    {
     "name": "stderr",
     "output_type": "stream",
     "text": [
      "ERROR:no viable alternative at input ',' (3.sysml line : 7 column : 122)\n"
     ]
    },
    {
     "name": "stderr",
     "output_type": "stream",
     "text": [
      "ERROR:no viable alternative at input '>' (3.sysml line : 7 column : 139)\n"
     ]
    },
    {
     "name": "stderr",
     "output_type": "stream",
     "text": [
      "ERROR:no viable alternative at input 'Hz' (3.sysml line : 7 column : 141)\n"
     ]
    },
    {
     "name": "stderr",
     "output_type": "stream",
     "text": [
      "ERROR:no viable alternative at input ')' (3.sysml line : 7 column : 143)\n"
     ]
    },
    {
     "name": "stderr",
     "output_type": "stream",
     "text": [
      "ERROR:no viable alternative at input '[' (3.sysml line : 62 column : 42)\n"
     ]
    },
    {
     "name": "stderr",
     "output_type": "stream",
     "text": [
      "ERROR:no viable alternative at input ']' (3.sysml line : 62 column : 46)\n"
     ]
    },
    {
     "name": "stderr",
     "output_type": "stream",
     "text": [
      "ERROR:extraneous input '}' expecting EOF (3.sysml line : 70 column : 1)\n"
     ]
    },
    {
     "data": {
      "text/plain": []
     },
     "execution_count": 3,
     "metadata": {},
     "output_type": "execute_result"
    }
   ],
   "source": [
    "package InternetModel_v2 {\n",
    "    import ISQ::*;\n",
    "    import SI::*;    \n",
    "    import SIPrefixes::*;\n",
    "    import UnitsAndScales::ConversionByPrefix;\n",
    "    \n",
    "    attribute GHz: FrequencyUnit = FrequencyUnit(name => \"gigahertz\", unitConversion => ConversionByPrefix(prefix => giga, referenceUnit => Hz));    \n",
    "    attribute def StorageUnit;\n",
    "    attribute def SpeedUnit;\n",
    "    \n",
    "    enum def CurrentType {\n",
    "        enum DC;\n",
    "        enum AC;\n",
    "    }\n",
    "    \n",
    "    port def DataPort {\n",
    "        /* TODO: Should all be in terms of Bytes and Bytes/Seconds but for now integers */\n",
    "        attribute speed : SpeedUnit;\n",
    "        in attribute inData: ScalarValues::Integer;\n",
    "        out attribute outData: ScalarValues::Integer;\n",
    "    }\n",
    "    \n",
    "    attribute def ElectricityRating {\n",
    "        attribute voltage: ISQElectromagnetism::ElectricPotentialUnit;\n",
    "        attribute ampere: ISQElectromagnetism::ElectricChargeUnit;\n",
    "        attribute currentType : CurrentType;\n",
    "    }\n",
    "    \n",
    "    part def Device {\n",
    "        port dataPorts: DataPort[1..*];\n",
    "        attribute electricRating: ElectricityRating;\n",
    "    }\n",
    "    \n",
    "    part def Server {\n",
    "        port dataPorts: DataPort[1..*];\n",
    "        attribute electricRating: ElectricityRating;\n",
    "        attribute storage : StorageUnit;\n",
    "    }\n",
    "    \n",
    "    connection def DataConnection {\n",
    "        end: DataPort[1];\n",
    "        end: DataPort[1];\n",
    "    }\n",
    "    \n",
    "    connection def CableConnection :> DataConnection {\n",
    "        attribute wireCount: ScalarValues::Integer;\n",
    "    }\n",
    "    \n",
    "    connection def WirelessConnection :> DataConnection {\n",
    "        attribute frequency: SI::FrequencyUnit;\n",
    "    }\n",
    "\n",
    "    part dslEndpoint : Server {}\n",
    "    \n",
    "    part wifiRouter : Device {}\n",
    "    part dslRouter : Device {}\n",
    "    part mobileDevice : Device {}\n",
    "    \n",
    "    connection : WirelessConnection \n",
    "        connect mobileDevice::dataPorts[1]\n",
    "             to wifiRouter::dataPorts[1] {\n",
    "       attribute redefines frequency = 5@[GHz];\n",
    "    }\n",
    "    \n",
    "    connection : CableConnection \n",
    "        connect dslRouter::dataPorts[1] \n",
    "             to dslEndpoint::dataPorts[1] {\n",
    "       attribute redefines wireCount = 5;\n",
    "    }\n",
    "}"
   ]
  },
  {
   "cell_type": "code",
   "execution_count": 4,
   "id": "a6970242",
   "metadata": {
    "execution": {
     "iopub.execute_input": "2024-12-16T14:14:56.837670Z",
     "iopub.status.busy": "2024-12-16T14:14:56.837442Z",
     "iopub.status.idle": "2024-12-16T14:14:56.838320Z",
     "shell.execute_reply": "2024-12-16T14:14:56.838445Z"
    }
   },
   "outputs": [
    {
     "data": {
      "text/plain": [
       "ERROR:Couldn't resolve reference to Element 'InternetModel_v2'\n"
      ]
     },
     "execution_count": 4,
     "metadata": {},
     "output_type": "execute_result"
    }
   ],
   "source": [
    "%viz InternetModel_v2"
   ]
  }
 ],
 "metadata": {
  "kernelspec": {
   "display_name": "SysML",
   "language": "sysml",
   "name": "sysml"
  },
  "language_info": {
   "codemirror_mode": "sysml",
   "file_extension": ".sysml",
   "mimetype": "text/x-sysml",
   "name": "SysML",
   "pygments_lexer": "java",
   "version": "1.0.0"
  }
 },
 "nbformat": 4,
 "nbformat_minor": 5
}
