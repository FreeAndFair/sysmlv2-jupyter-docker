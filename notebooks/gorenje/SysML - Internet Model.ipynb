{
 "cells": [
  {
   "cell_type": "markdown",
   "id": "28a8501f",
   "metadata": {},
   "source": [
    "## Internet Model\n",
    "\n",
    "Playground for how to model how the connections within the Internet might be modelled."
   ]
  },
  {
   "cell_type": "markdown",
   "id": "0c32c232",
   "metadata": {},
   "source": [
    "## Version 1\n",
    "\n",
    "Using connections as attributes. And using types to define specific devices."
   ]
  },
  {
   "cell_type": "code",
   "execution_count": 1,
   "id": "3167c580",
   "metadata": {
    "execution": {
     "iopub.execute_input": "2024-12-16T03:22:34.061369Z",
     "iopub.status.busy": "2024-12-16T03:22:34.059941Z",
     "iopub.status.idle": "2024-12-16T03:22:34.335829Z",
     "shell.execute_reply": "2024-12-16T03:22:34.335595Z"
    }
   },
   "outputs": [
    {
     "data": {
      "text/plain": [
       "Package InternetModel_v1 (705a8f9d-ab99-40f3-a911-bfeb140aee35)\n"
      ]
     },
     "execution_count": 1,
     "metadata": {},
     "output_type": "execute_result"
    }
   ],
   "source": [
    "package InternetModel_v1 {\n",
    "    part def Data;\n",
    "    part def Device {\n",
    "        attribute connType: Connection[1.. * ];\n",
    "        attribute voltageIn: Electricity[1];\n",
    "    }\n",
    "    part def WiFiRouter :> Device {\n",
    "        attribute wirelessConnection : WirelessConnection[1..2];\n",
    "        attribute ethernetConnection : CableConnection[1..*];\n",
    "    }\n",
    "    part def DSLRouter :> Device {\n",
    "        attribute dslConnection : CableConnection[1];\n",
    "        attribute ethernetConnection : CableConnection[1..*];\n",
    "    }\n",
    "    part def MobileDevice :> Device {\n",
    "        doc /** Bluetooth, WiFi, 5G/4G ... so at least 3 wireless connections **/\n",
    "        attribute wirelessConnection : WirelessConnection[1..3];\n",
    "    }\n",
    "    attribute def Connection {\n",
    "        in item inData: Data;\n",
    "        out item outData: Data;\n",
    "    }\n",
    "    attribute def WirelessConnection :> Connection {\n",
    "        attribute frequency: SI::FrequencyUnit;\n",
    "    }\n",
    "    attribute def CableConnection :> Connection {\n",
    "        attribute wireCount: ScalarValues::Integer;\n",
    "    }\n",
    "    attribute def Electricity {\n",
    "        attribute voltage: ISQElectromagnetism::ElectricPotentialUnit;\n",
    "        attribute ampere: ISQElectromagnetism::ElectricChargeUnit;\n",
    "    }\n",
    "}"
   ]
  },
  {
   "cell_type": "code",
   "execution_count": 2,
   "id": "69999671",
   "metadata": {
    "execution": {
     "iopub.execute_input": "2024-12-16T03:22:34.391213Z",
     "iopub.status.busy": "2024-12-16T03:22:34.390831Z",
     "iopub.status.idle": "2024-12-16T03:22:34.886812Z",
     "shell.execute_reply": "2024-12-16T03:22:34.886643Z"
    }
   },
   "outputs": [
    {
     "data": {
      "image/svg+xml": [
       "<?xml version=\"1.0\" encoding=\"UTF-8\" standalone=\"no\"?><svg xmlns=\"http://www.w3.org/2000/svg\" xmlns:xlink=\"http://www.w3.org/1999/xlink\" contentStyleType=\"text/css\" height=\"557px\" preserveAspectRatio=\"none\" style=\"width:1650px;height:557px;background:#FFFFFF;\" version=\"1.1\" viewBox=\"0 0 1650 557\" width=\"1650px\" zoomAndPan=\"magnify\"><defs/><g><!--MD5=[fbc87193dbaf4d95561dea2c320d4a47]\n",
       "cluster E1--><g id=\"cluster_E1\"><a href=\"psysml:705a8f9d-ab99-40f3-a911-bfeb140aee35\" target=\"_top\" title=\"psysml:705a8f9d-ab99-40f3-a911-bfeb140aee35\" xlink:actuate=\"onRequest\" xlink:href=\"psysml:705a8f9d-ab99-40f3-a911-bfeb140aee35\" xlink:show=\"new\" xlink:title=\"psysml:705a8f9d-ab99-40f3-a911-bfeb140aee35\" xlink:type=\"simple\"><polygon fill=\"none\" points=\"16,6,148,6,155,28.2969,1633,28.2969,1633,550,16,550,16,6\" style=\"stroke:#000000;stroke-width:1.5;\"/><line style=\"stroke:#000000;stroke-width:1.5;\" x1=\"16\" x2=\"155\" y1=\"28.2969\" y2=\"28.2969\"/><text fill=\"#000000\" font-family=\"sans-serif\" font-size=\"14\" font-weight=\"bold\" lengthAdjust=\"spacing\" textLength=\"126\" x=\"20\" y=\"20.9951\">InternetModel_v1</text></a></g><!--MD5=[b4997ac47864f28c2f74865a473b2911]\n",
       "class E2--><a href=\"psysml:8e4dfe4a-5af9-4176-ad75-df13fa30b9b5\" target=\"_top\" title=\"psysml:8e4dfe4a-5af9-4176-ad75-df13fa30b9b5\" xlink:actuate=\"onRequest\" xlink:href=\"psysml:8e4dfe4a-5af9-4176-ad75-df13fa30b9b5\" xlink:show=\"new\" xlink:title=\"psysml:8e4dfe4a-5af9-4176-ad75-df13fa30b9b5\" xlink:type=\"simple\"><g id=\"elem_E2\"><rect fill=\"#FFFFFF\" height=\"48.2656\" id=\"E2\" style=\"stroke:#181818;stroke-width:0.5;\" width=\"70\" x=\"410\" y=\"486\"/><text fill=\"#000000\" font-family=\"sans-serif\" font-size=\"12\" font-style=\"italic\" lengthAdjust=\"spacing\" textLength=\"68\" x=\"411\" y=\"502.1387\">«part  def»</text><text fill=\"#000000\" font-family=\"sans-serif\" font-size=\"14\" lengthAdjust=\"spacing\" textLength=\"32\" x=\"429\" y=\"517.9639\">Data</text><line style=\"stroke:#181818;stroke-width:0.5;\" x1=\"411\" x2=\"479\" y1=\"526.2656\" y2=\"526.2656\"/></g></a><!--MD5=[09b614a08d8cba4a07c9adeb5e0fee81]\n",
       "class E3--><a href=\"psysml:463fba9c-4fda-4060-ba60-3c59d286e395\" target=\"_top\" title=\"psysml:463fba9c-4fda-4060-ba60-3c59d286e395\" xlink:actuate=\"onRequest\" xlink:href=\"psysml:463fba9c-4fda-4060-ba60-3c59d286e395\" xlink:show=\"new\" xlink:title=\"psysml:463fba9c-4fda-4060-ba60-3c59d286e395\" xlink:type=\"simple\"><g id=\"elem_E3\"><rect fill=\"#FFFFFF\" height=\"91.3781\" id=\"E3\" style=\"stroke:#181818;stroke-width:0.5;\" width=\"170\" x=\"1061\" y=\"227\"/><text fill=\"#000000\" font-family=\"sans-serif\" font-size=\"12\" font-style=\"italic\" lengthAdjust=\"spacing\" textLength=\"68\" x=\"1112\" y=\"243.1387\">«part  def»</text><text fill=\"#000000\" font-family=\"sans-serif\" font-size=\"14\" lengthAdjust=\"spacing\" textLength=\"47\" x=\"1122.5\" y=\"258.9639\">Device</text><line style=\"stroke:#181818;stroke-width:0.5;\" x1=\"1062\" x2=\"1230\" y1=\"267.2656\" y2=\"267.2656\"/><text fill=\"#000000\" font-family=\"sans-serif\" font-size=\"14\" lengthAdjust=\"spacing\" textLength=\"158\" x=\"1067\" y=\"294.7795\">connType: Connection</text><text fill=\"#000000\" font-family=\"sans-serif\" font-size=\"14\" lengthAdjust=\"spacing\" textLength=\"136\" x=\"1067\" y=\"311.0764\">voltageIn: Electricity</text><text fill=\"#000000\" font-family=\"sans-serif\" font-size=\"14\" font-style=\"italic\" lengthAdjust=\"spacing\" textLength=\"66\" x=\"1113\" y=\"279.6123\">attributes</text></g></a><!--MD5=[ebbe1d658d1005bcc118a6aa81145e00]\n",
       "class E4--><a href=\"psysml:9a883e3f-030d-442d-92bb-bd3af528f65c\" target=\"_top\" title=\"psysml:9a883e3f-030d-442d-92bb-bd3af528f65c\" xlink:actuate=\"onRequest\" xlink:href=\"psysml:9a883e3f-030d-442d-92bb-bd3af528f65c\" xlink:show=\"new\" xlink:title=\"psysml:9a883e3f-030d-442d-92bb-bd3af528f65c\" xlink:type=\"simple\"><g id=\"elem_E4\"><rect fill=\"#FFFFFF\" height=\"91.3781\" id=\"E4\" style=\"stroke:#181818;stroke-width:0.5;\" width=\"295\" x=\"1321.5\" y=\"58.5\"/><text fill=\"#000000\" font-family=\"sans-serif\" font-size=\"12\" font-style=\"italic\" lengthAdjust=\"spacing\" textLength=\"68\" x=\"1435\" y=\"74.6387\">«part  def»</text><text fill=\"#000000\" font-family=\"sans-serif\" font-size=\"14\" lengthAdjust=\"spacing\" textLength=\"74\" x=\"1432\" y=\"90.4639\">WiFiRouter</text><line style=\"stroke:#181818;stroke-width:0.5;\" x1=\"1322.5\" x2=\"1615.5\" y1=\"98.7656\" y2=\"98.7656\"/><text fill=\"#000000\" font-family=\"sans-serif\" font-size=\"14\" lengthAdjust=\"spacing\" textLength=\"268\" x=\"1327.5\" y=\"126.2795\">ethernetConnection: CableConnection</text><text fill=\"#000000\" font-family=\"sans-serif\" font-size=\"14\" lengthAdjust=\"spacing\" textLength=\"283\" x=\"1327.5\" y=\"142.5764\">wirelessConnection: WirelessConnection</text><text fill=\"#000000\" font-family=\"sans-serif\" font-size=\"14\" font-style=\"italic\" lengthAdjust=\"spacing\" textLength=\"66\" x=\"1436\" y=\"111.1123\">attributes</text></g></a><!--MD5=[270fce915f116d4de14055a7c1d9a0f3]\n",
       "class E5--><a href=\"psysml:739e5bea-74ee-41d4-b3b1-bd31395572eb\" target=\"_top\" title=\"psysml:739e5bea-74ee-41d4-b3b1-bd31395572eb\" xlink:actuate=\"onRequest\" xlink:href=\"psysml:739e5bea-74ee-41d4-b3b1-bd31395572eb\" xlink:show=\"new\" xlink:title=\"psysml:739e5bea-74ee-41d4-b3b1-bd31395572eb\" xlink:type=\"simple\"><g id=\"elem_E5\"><rect fill=\"#FFFFFF\" height=\"91.3781\" id=\"E5\" style=\"stroke:#181818;stroke-width:0.5;\" width=\"280\" x=\"1006\" y=\"58.5\"/><text fill=\"#000000\" font-family=\"sans-serif\" font-size=\"12\" font-style=\"italic\" lengthAdjust=\"spacing\" textLength=\"68\" x=\"1112\" y=\"74.6387\">«part  def»</text><text fill=\"#000000\" font-family=\"sans-serif\" font-size=\"14\" lengthAdjust=\"spacing\" textLength=\"74\" x=\"1109\" y=\"90.4639\">DSLRouter</text><line style=\"stroke:#181818;stroke-width:0.5;\" x1=\"1007\" x2=\"1285\" y1=\"98.7656\" y2=\"98.7656\"/><text fill=\"#000000\" font-family=\"sans-serif\" font-size=\"14\" lengthAdjust=\"spacing\" textLength=\"228\" x=\"1012\" y=\"126.2795\">dslConnection: CableConnection</text><text fill=\"#000000\" font-family=\"sans-serif\" font-size=\"14\" lengthAdjust=\"spacing\" textLength=\"268\" x=\"1012\" y=\"142.5764\">ethernetConnection: CableConnection</text><text fill=\"#000000\" font-family=\"sans-serif\" font-size=\"14\" font-style=\"italic\" lengthAdjust=\"spacing\" textLength=\"66\" x=\"1113\" y=\"111.1123\">attributes</text></g></a><!--MD5=[60a26617385b1d2d0262a64233df1f8d]\n",
       "class E6--><a href=\"psysml:20251544-8a4a-414d-bbd0-f10949929bd5\" target=\"_top\" title=\"psysml:20251544-8a4a-414d-bbd0-f10949929bd5\" xlink:actuate=\"onRequest\" xlink:href=\"psysml:20251544-8a4a-414d-bbd0-f10949929bd5\" xlink:show=\"new\" xlink:title=\"psysml:20251544-8a4a-414d-bbd0-f10949929bd5\" xlink:type=\"simple\"><g id=\"elem_E6\"><rect fill=\"#FFFFFF\" height=\"126.1938\" id=\"E6\" style=\"stroke:#181818;stroke-width:0.5;\" width=\"295\" x=\"675.5\" y=\"41\"/><text fill=\"#000000\" font-family=\"sans-serif\" font-size=\"12\" font-style=\"italic\" lengthAdjust=\"spacing\" textLength=\"68\" x=\"789\" y=\"57.1387\">«part  def»</text><text fill=\"#000000\" font-family=\"sans-serif\" font-size=\"14\" lengthAdjust=\"spacing\" textLength=\"92\" x=\"777\" y=\"72.9639\">MobileDevice</text><line style=\"stroke:#181818;stroke-width:0.5;\" x1=\"676.5\" x2=\"969.5\" y1=\"81.2656\" y2=\"81.2656\"/><text fill=\"#000000\" font-family=\"sans-serif\" font-size=\"14\" lengthAdjust=\"spacing\" textLength=\"271\" x=\"681.5\" y=\"108.7795\">* Bluetooth, WiFi, 5G/4G ... so at least 3</text><text fill=\"#000000\" font-family=\"sans-serif\" font-size=\"14\" lengthAdjust=\"spacing\" textLength=\"157\" x=\"681.5\" y=\"125.0764\">wireless connections *</text><text fill=\"#000000\" font-family=\"sans-serif\" font-size=\"14\" font-style=\"italic\" lengthAdjust=\"spacing\" textLength=\"26\" x=\"810\" y=\"93.6123\">doc</text><line style=\"stroke:#181818;stroke-width:1.0;\" x1=\"676.5\" x2=\"969.5\" y1=\"132.3781\" y2=\"132.3781\"/><text fill=\"#000000\" font-family=\"sans-serif\" font-size=\"14\" lengthAdjust=\"spacing\" textLength=\"283\" x=\"681.5\" y=\"159.892\">wirelessConnection: WirelessConnection</text><text fill=\"#000000\" font-family=\"sans-serif\" font-size=\"14\" font-style=\"italic\" lengthAdjust=\"spacing\" textLength=\"66\" x=\"790\" y=\"144.7248\">attributes</text></g></a><!--MD5=[2156ba9850f5573cc1fc38a6a4b2f02b]\n",
       "class E7--><a href=\"psysml:edd8ae47-7726-4cf9-9505-5bb44145cb06\" target=\"_top\" title=\"psysml:edd8ae47-7726-4cf9-9505-5bb44145cb06\" xlink:actuate=\"onRequest\" xlink:href=\"psysml:edd8ae47-7726-4cf9-9505-5bb44145cb06\" xlink:show=\"new\" xlink:title=\"psysml:edd8ae47-7726-4cf9-9505-5bb44145cb06\" xlink:type=\"simple\"><g id=\"elem_E7\"><rect fill=\"#FFFFFF\" height=\"48.2656\" id=\"E7\" style=\"stroke:#181818;stroke-width:0.5;\" width=\"99\" x=\"395.5\" y=\"248.5\"/><text fill=\"#000000\" font-family=\"sans-serif\" font-size=\"12\" font-style=\"italic\" lengthAdjust=\"spacing\" textLength=\"97\" x=\"396.5\" y=\"264.6387\">«attribute  def»</text><text fill=\"#000000\" font-family=\"sans-serif\" font-size=\"14\" lengthAdjust=\"spacing\" textLength=\"80\" x=\"405\" y=\"280.4639\">Connection</text><line style=\"stroke:#181818;stroke-width:0.5;\" x1=\"396.5\" x2=\"493.5\" y1=\"288.7656\" y2=\"288.7656\"/></g></a><!--MD5=[b9389687b975829384b498ac4b7476b2]\n",
       "class E8--><a href=\"psysml:29feff34-00ee-40ef-a80c-1421eb9915fb\" target=\"_top\" title=\"psysml:29feff34-00ee-40ef-a80c-1421eb9915fb\" xlink:actuate=\"onRequest\" xlink:href=\"psysml:29feff34-00ee-40ef-a80c-1421eb9915fb\" xlink:show=\"new\" xlink:title=\"psysml:29feff34-00ee-40ef-a80c-1421eb9915fb\" xlink:type=\"simple\"><g id=\"elem_E8\"><rect fill=\"#FFFFFF\" height=\"48.2656\" id=\"E8\" rx=\"10\" ry=\"10\" style=\"stroke:#181818;stroke-width:0.5;\" width=\"99\" x=\"325.5\" y=\"378\"/><text fill=\"#000000\" font-family=\"sans-serif\" font-size=\"12\" font-style=\"italic\" lengthAdjust=\"spacing\" textLength=\"41\" x=\"354.5\" y=\"394.1387\">«item»</text><text fill=\"#000000\" font-family=\"sans-serif\" font-size=\"14\" lengthAdjust=\"spacing\" textLength=\"85\" x=\"328.5\" y=\"409.9639\">inData: Data</text><line style=\"stroke:#181818;stroke-width:0.5;\" x1=\"326.5\" x2=\"423.5\" y1=\"418.2656\" y2=\"418.2656\"/></g></a><!--MD5=[fd4143e9d270a159db93a4ea2a975926]\n",
       "class E9--><a href=\"psysml:9a31696a-2c59-4f10-809b-68059164cfff\" target=\"_top\" title=\"psysml:9a31696a-2c59-4f10-809b-68059164cfff\" xlink:actuate=\"onRequest\" xlink:href=\"psysml:9a31696a-2c59-4f10-809b-68059164cfff\" xlink:show=\"new\" xlink:title=\"psysml:9a31696a-2c59-4f10-809b-68059164cfff\" xlink:type=\"simple\"><g id=\"elem_E9\"><rect fill=\"#FFFFFF\" height=\"48.2656\" id=\"E9\" rx=\"10\" ry=\"10\" style=\"stroke:#181818;stroke-width:0.5;\" width=\"110\" x=\"460\" y=\"378\"/><text fill=\"#000000\" font-family=\"sans-serif\" font-size=\"12\" font-style=\"italic\" lengthAdjust=\"spacing\" textLength=\"41\" x=\"494.5\" y=\"394.1387\">«item»</text><text fill=\"#000000\" font-family=\"sans-serif\" font-size=\"14\" lengthAdjust=\"spacing\" textLength=\"96\" x=\"463\" y=\"409.9639\">outData: Data</text><line style=\"stroke:#181818;stroke-width:0.5;\" x1=\"461\" x2=\"569\" y1=\"418.2656\" y2=\"418.2656\"/></g></a><!--MD5=[96f4274e9e20536e775497830990834d]\n",
       "class E10--><a href=\"psysml:3a727755-359f-4717-938c-27c2b808e1b4\" target=\"_top\" title=\"psysml:3a727755-359f-4717-938c-27c2b808e1b4\" xlink:actuate=\"onRequest\" xlink:href=\"psysml:3a727755-359f-4717-938c-27c2b808e1b4\" xlink:show=\"new\" xlink:title=\"psysml:3a727755-359f-4717-938c-27c2b808e1b4\" xlink:type=\"simple\"><g id=\"elem_E10\"><rect fill=\"#FFFFFF\" height=\"75.0813\" id=\"E10\" style=\"stroke:#181818;stroke-width:0.5;\" width=\"190\" x=\"450\" y=\"66.5\"/><text fill=\"#000000\" font-family=\"sans-serif\" font-size=\"12\" font-style=\"italic\" lengthAdjust=\"spacing\" textLength=\"97\" x=\"496.5\" y=\"82.6387\">«attribute  def»</text><text fill=\"#000000\" font-family=\"sans-serif\" font-size=\"14\" lengthAdjust=\"spacing\" textLength=\"138\" x=\"476\" y=\"98.4639\">WirelessConnection</text><line style=\"stroke:#181818;stroke-width:0.5;\" x1=\"451\" x2=\"639\" y1=\"106.7656\" y2=\"106.7656\"/><text fill=\"#000000\" font-family=\"sans-serif\" font-size=\"14\" lengthAdjust=\"spacing\" textLength=\"178\" x=\"456\" y=\"134.2795\">frequency: FrequencyUnit</text><text fill=\"#000000\" font-family=\"sans-serif\" font-size=\"14\" font-style=\"italic\" lengthAdjust=\"spacing\" textLength=\"66\" x=\"512\" y=\"119.1123\">attributes</text></g></a><!--MD5=[1dd1bfd58a279cf63c5f349dbc8fc6a1]\n",
       "class E11--><a href=\"psysml:1560a472-ef4a-4975-bc29-14ff4324b21b\" target=\"_top\" title=\"psysml:1560a472-ef4a-4975-bc29-14ff4324b21b\" xlink:actuate=\"onRequest\" xlink:href=\"psysml:1560a472-ef4a-4975-bc29-14ff4324b21b\" xlink:show=\"new\" xlink:title=\"psysml:1560a472-ef4a-4975-bc29-14ff4324b21b\" xlink:type=\"simple\"><g id=\"elem_E11\"><rect fill=\"#FFFFFF\" height=\"75.0813\" id=\"E11\" style=\"stroke:#181818;stroke-width:0.5;\" width=\"140\" x=\"275\" y=\"66.5\"/><text fill=\"#000000\" font-family=\"sans-serif\" font-size=\"12\" font-style=\"italic\" lengthAdjust=\"spacing\" textLength=\"97\" x=\"296.5\" y=\"82.6387\">«attribute  def»</text><text fill=\"#000000\" font-family=\"sans-serif\" font-size=\"14\" lengthAdjust=\"spacing\" textLength=\"119\" x=\"285.5\" y=\"98.4639\">CableConnection</text><line style=\"stroke:#181818;stroke-width:0.5;\" x1=\"276\" x2=\"414\" y1=\"106.7656\" y2=\"106.7656\"/><text fill=\"#000000\" font-family=\"sans-serif\" font-size=\"14\" lengthAdjust=\"spacing\" textLength=\"128\" x=\"281\" y=\"134.2795\">wireCount: Integer</text><text fill=\"#000000\" font-family=\"sans-serif\" font-size=\"14\" font-style=\"italic\" lengthAdjust=\"spacing\" textLength=\"66\" x=\"312\" y=\"119.1123\">attributes</text></g></a><!--MD5=[49a0ec8f00dab7302a31f22d0f0fe584]\n",
       "class E12--><a href=\"psysml:76360141-3fc0-4534-8f3b-6446da24db0c\" target=\"_top\" title=\"psysml:76360141-3fc0-4534-8f3b-6446da24db0c\" xlink:actuate=\"onRequest\" xlink:href=\"psysml:76360141-3fc0-4534-8f3b-6446da24db0c\" xlink:show=\"new\" xlink:title=\"psysml:76360141-3fc0-4534-8f3b-6446da24db0c\" xlink:type=\"simple\"><g id=\"elem_E12\"><rect fill=\"#FFFFFF\" height=\"91.3781\" id=\"E12\" style=\"stroke:#181818;stroke-width:0.5;\" width=\"208\" x=\"32\" y=\"58.5\"/><text fill=\"#000000\" font-family=\"sans-serif\" font-size=\"12\" font-style=\"italic\" lengthAdjust=\"spacing\" textLength=\"97\" x=\"87.5\" y=\"74.6387\">«attribute  def»</text><text fill=\"#000000\" font-family=\"sans-serif\" font-size=\"14\" lengthAdjust=\"spacing\" textLength=\"65\" x=\"103.5\" y=\"90.4639\">Electricity</text><line style=\"stroke:#181818;stroke-width:0.5;\" x1=\"33\" x2=\"239\" y1=\"98.7656\" y2=\"98.7656\"/><text fill=\"#000000\" font-family=\"sans-serif\" font-size=\"14\" lengthAdjust=\"spacing\" textLength=\"189\" x=\"38\" y=\"126.2795\">ampere: ElectricChargeUnit</text><text fill=\"#000000\" font-family=\"sans-serif\" font-size=\"14\" lengthAdjust=\"spacing\" textLength=\"196\" x=\"38\" y=\"142.5764\">voltage: ElectricPotentialUnit</text><text fill=\"#000000\" font-family=\"sans-serif\" font-size=\"14\" font-style=\"italic\" lengthAdjust=\"spacing\" textLength=\"66\" x=\"103\" y=\"111.1123\">attributes</text></g></a><!--MD5=[f0cdf4548168e5211fb3a02bf679d63a]\n",
       "link E4 to E3--><g id=\"link_E4_E3\"><a href=\"psysml:13be587a-f6cd-47f0-93b9-eee544a9486d\" target=\"_top\" title=\"psysml:13be587a-f6cd-47f0-93b9-eee544a9486d\" xlink:actuate=\"onRequest\" xlink:href=\"psysml:13be587a-f6cd-47f0-93b9-eee544a9486d\" xlink:show=\"new\" xlink:title=\"psysml:13be587a-f6cd-47f0-93b9-eee544a9486d\" xlink:type=\"simple\"><path d=\"M1382.44,149.62 C1341.4,170.77 1292.06,196.21 1249.1,218.35 \" fill=\"none\" id=\"E4-to-E3\" style=\"stroke:#181818;stroke-width:1.0;\"/><polygon fill=\"none\" points=\"1252.1,224.68,1231.12,227.62,1245.69,212.24,1252.1,224.68\" style=\"stroke:#181818;stroke-width:1.0;\"/></a></g><!--MD5=[e9be52314489bd878ff4c7144b63c9e1]\n",
       "link E5 to E3--><g id=\"link_E5_E3\"><a href=\"psysml:e5309675-ee25-49cc-9423-559ba4d0e944\" target=\"_top\" title=\"psysml:e5309675-ee25-49cc-9423-559ba4d0e944\" xlink:actuate=\"onRequest\" xlink:href=\"psysml:e5309675-ee25-49cc-9423-559ba4d0e944\" xlink:show=\"new\" xlink:title=\"psysml:e5309675-ee25-49cc-9423-559ba4d0e944\" xlink:type=\"simple\"><path d=\"M1146,149.62 C1146,167.07 1146,187.43 1146,206.46 \" fill=\"none\" id=\"E5-to-E3\" style=\"stroke:#181818;stroke-width:1.0;\"/><polygon fill=\"none\" points=\"1153,206.76,1146,226.76,1139,206.76,1153,206.76\" style=\"stroke:#181818;stroke-width:1.0;\"/></a></g><!--MD5=[a717450b82c80b9240a525fa862496af]\n",
       "link E6 to E3--><g id=\"link_E6_E3\"><a href=\"psysml:e1bc1386-94a1-44d0-9287-f30800d3d587\" target=\"_top\" title=\"psysml:e1bc1386-94a1-44d0-9287-f30800d3d587\" xlink:actuate=\"onRequest\" xlink:href=\"psysml:e1bc1386-94a1-44d0-9287-f30800d3d587\" xlink:show=\"new\" xlink:title=\"psysml:e1bc1386-94a1-44d0-9287-f30800d3d587\" xlink:type=\"simple\"><path d=\"M943.73,167.24 C976.24,183.99 1011.1,201.96 1042.57,218.18 \" fill=\"none\" id=\"E6-to-E3\" style=\"stroke:#181818;stroke-width:1.0;\"/><polygon fill=\"none\" points=\"1046.09,212.12,1060.66,227.51,1039.67,224.57,1046.09,212.12\" style=\"stroke:#181818;stroke-width:1.0;\"/></a></g><!--MD5=[dc164f5e8a733ab456ef1add180e9e34]\n",
       "reverse link E7 to E8--><g id=\"link_E7_E8\"><a href=\"psysml:c7f43b84-f389-48a7-8017-c7d507fe8bb9\" target=\"_top\" title=\"psysml:c7f43b84-f389-48a7-8017-c7d507fe8bb9\" xlink:actuate=\"onRequest\" xlink:href=\"psysml:c7f43b84-f389-48a7-8017-c7d507fe8bb9\" xlink:show=\"new\" xlink:title=\"psysml:c7f43b84-f389-48a7-8017-c7d507fe8bb9\" xlink:type=\"simple\"><path d=\"M425.98,308.15 C413.86,330.21 398.5,358.2 387.82,377.65 \" fill=\"none\" id=\"E7-backto-E8\" style=\"stroke:#181818;stroke-width:1.0;\"/><polygon fill=\"none\" points=\"432.32,296.59,425.9297,299.9313,426.5562,307.1152,432.9465,303.7738,432.32,296.59\" style=\"stroke:#181818;stroke-width:1.0;\"/></a></g><!--MD5=[f1f3f9f2fc535e6147756cb86a7f2e32]\n",
       "link E8 to E2--><g id=\"link_E8_E2\"><a href=\"psysml:1df8051f-46a1-4583-873b-b922c9436c48\" target=\"_top\" title=\"psysml:1df8051f-46a1-4583-873b-b922c9436c48\" xlink:actuate=\"onRequest\" xlink:href=\"psysml:1df8051f-46a1-4583-873b-b922c9436c48\" xlink:show=\"new\" xlink:title=\"psysml:1df8051f-46a1-4583-873b-b922c9436c48\" xlink:type=\"simple\"><path d=\"M390.19,426 C398.48,438.55 408.98,454.46 418.57,468.97 \" fill=\"none\" id=\"E8-to-E2\" style=\"stroke:#181818;stroke-width:1.0;\"/><polygon fill=\"#FFFFFF\" points=\"429.6,485.68,413.2837,473.6892,424.9631,465.9696,429.6,485.68\" style=\"stroke:#181818;stroke-width:1.0;\"/><ellipse cx=\"411.8092\" cy=\"467.8312\" fill=\"#181818\" rx=\"2\" ry=\"2\" style=\"stroke:#181818;stroke-width:1.0;\"/><ellipse cx=\"420.1516\" cy=\"462.3172\" fill=\"#181818\" rx=\"2\" ry=\"2\" style=\"stroke:#181818;stroke-width:1.0;\"/></a></g><!--MD5=[e4a10ef82d0e328e31cac39a31e58dda]\n",
       "reverse link E7 to E9--><g id=\"link_E7_E9\"><a href=\"psysml:26493ec8-8cc8-439b-ac11-91d2af7685b4\" target=\"_top\" title=\"psysml:26493ec8-8cc8-439b-ac11-91d2af7685b4\" xlink:actuate=\"onRequest\" xlink:href=\"psysml:26493ec8-8cc8-439b-ac11-91d2af7685b4\" xlink:show=\"new\" xlink:title=\"psysml:26493ec8-8cc8-439b-ac11-91d2af7685b4\" xlink:type=\"simple\"><path d=\"M464.02,308.15 C476.14,330.21 491.5,358.2 502.18,377.65 \" fill=\"none\" id=\"E7-backto-E9\" style=\"stroke:#181818;stroke-width:1.0;\"/><polygon fill=\"none\" points=\"457.68,296.59,457.0535,303.7738,463.4438,307.1152,464.0703,299.9313,457.68,296.59\" style=\"stroke:#181818;stroke-width:1.0;\"/></a></g><!--MD5=[5c3bb36fe832a92c7f0e1807dd65209d]\n",
       "link E9 to E2--><g id=\"link_E9_E2\"><a href=\"psysml:053a966d-224a-400e-abc6-8b8f4db92ebd\" target=\"_top\" title=\"psysml:053a966d-224a-400e-abc6-8b8f4db92ebd\" xlink:actuate=\"onRequest\" xlink:href=\"psysml:053a966d-224a-400e-abc6-8b8f4db92ebd\" xlink:show=\"new\" xlink:title=\"psysml:053a966d-224a-400e-abc6-8b8f4db92ebd\" xlink:type=\"simple\"><path d=\"M499.81,426 C491.52,438.55 481.02,454.46 471.43,468.97 \" fill=\"none\" id=\"E9-to-E2\" style=\"stroke:#181818;stroke-width:1.0;\"/><polygon fill=\"#FFFFFF\" points=\"460.4,485.68,465.0369,465.9696,476.7163,473.6892,460.4,485.68\" style=\"stroke:#181818;stroke-width:1.0;\"/><ellipse cx=\"469.8484\" cy=\"462.3172\" fill=\"#181818\" rx=\"2\" ry=\"2\" style=\"stroke:#181818;stroke-width:1.0;\"/><ellipse cx=\"478.1908\" cy=\"467.8312\" fill=\"#181818\" rx=\"2\" ry=\"2\" style=\"stroke:#181818;stroke-width:1.0;\"/></a></g><!--MD5=[a919e0967d6f3de553dc51b9865a1d6d]\n",
       "link E10 to E7--><g id=\"link_E10_E7\"><a href=\"psysml:3abae30b-2244-4f63-a8ce-5ada6ccd7df2\" target=\"_top\" title=\"psysml:3abae30b-2244-4f63-a8ce-5ada6ccd7df2\" xlink:actuate=\"onRequest\" xlink:href=\"psysml:3abae30b-2244-4f63-a8ce-5ada6ccd7df2\" xlink:show=\"new\" xlink:title=\"psysml:3abae30b-2244-4f63-a8ce-5ada6ccd7df2\" xlink:type=\"simple\"><path d=\"M523.05,141.54 C507.17,167.98 485.71,203.73 469.3,231.03 \" fill=\"none\" id=\"E10-to-E7\" style=\"stroke:#181818;stroke-width:1.0;\"/><polygon fill=\"none\" points=\"475.19,234.83,458.89,248.37,463.19,227.62,475.19,234.83\" style=\"stroke:#181818;stroke-width:1.0;\"/></a></g><!--MD5=[41ed9f8af792e4462e62a86c9f6b57b4]\n",
       "link E11 to E7--><g id=\"link_E11_E7\"><a href=\"psysml:c819330f-3d61-442c-acf0-1f002d4b5491\" target=\"_top\" title=\"psysml:c819330f-3d61-442c-acf0-1f002d4b5491\" xlink:actuate=\"onRequest\" xlink:href=\"psysml:c819330f-3d61-442c-acf0-1f002d4b5491\" xlink:show=\"new\" xlink:title=\"psysml:c819330f-3d61-442c-acf0-1f002d4b5491\" xlink:type=\"simple\"><path d=\"M366.95,141.54 C382.83,167.98 404.29,203.73 420.7,231.03 \" fill=\"none\" id=\"E11-to-E7\" style=\"stroke:#181818;stroke-width:1.0;\"/><polygon fill=\"none\" points=\"426.81,227.62,431.11,248.37,414.81,234.83,426.81,227.62\" style=\"stroke:#181818;stroke-width:1.0;\"/></a></g><!--MD5=[8ebc182df03ebe40c08bb432d928f67f]\n",
       "@startuml\r\n",
       "skin sysmlbw\r\n",
       "skinparam monochrome true\r\n",
       "skinparam wrapWidth 300\r\n",
       "hide circle\r\n",
       "\r\n",
       "package \"InternetModel_v1\" as E1  [[psysml:705a8f9d-ab99-40f3-a911-bfeb140aee35 ]]  {\r\n",
       "comp def \"Data\" as E2  <<(T,blue) part  def>> [[psysml:8e4dfe4a-5af9-4176-ad75-df13fa30b9b5 ]] {\r\n",
       "}\r\n",
       "comp def \"Device\" as E3  <<(T,blue) part  def>> [[psysml:463fba9c-4fda-4060-ba60-3c59d286e395 ]] {\r\n",
       "##//attributes//##\r\n",
       "connType: Connection\r\n",
       "voltageIn: Electricity\r\n",
       "}\r\n",
       "comp def \"WiFiRouter\" as E4  <<(T,blue) part  def>> [[psysml:9a883e3f-030d-442d-92bb-bd3af528f65c ]] {\r\n",
       "##//attributes//##\r\n",
       "ethernetConnection: CableConnection\r\n",
       "wirelessConnection: WirelessConnection\r\n",
       "}\r\n",
       "comp def \"DSLRouter\" as E5  <<(T,blue) part  def>> [[psysml:739e5bea-74ee-41d4-b3b1-bd31395572eb ]] {\r\n",
       "##//attributes//##\r\n",
       "dslConnection: CableConnection\r\n",
       "ethernetConnection: CableConnection\r\n",
       "}\r\n",
       "comp def \"MobileDevice\" as E6  <<(T,blue) part  def>> [[psysml:20251544-8a4a-414d-bbd0-f10949929bd5 ]] {\r\n",
       "##//doc//##\r\n",
       "<U+002A> Bluetooth, WiFi, 5G<U+002F>4G ... so at least 3 wireless connections <U+002A>\r\n",
       "- -\r\n",
       "##//attributes//##\r\n",
       "wirelessConnection: WirelessConnection\r\n",
       "}\r\n",
       "comp def \"Connection\" as E7  <<(T,blue) attribute  def>> [[psysml:edd8ae47-7726-4cf9-9505-5bb44145cb06 ]] {\r\n",
       "}\r\n",
       "comp usage \"inData: Data  \" as E8  <<(T,blue) item>> [[psysml:29feff34-00ee-40ef-a80c-1421eb9915fb ]] {\r\n",
       "}\r\n",
       "comp usage \"outData: Data  \" as E9  <<(T,blue) item>> [[psysml:9a31696a-2c59-4f10-809b-68059164cfff ]] {\r\n",
       "}\r\n",
       "comp def \"WirelessConnection\" as E10  <<(T,blue) attribute  def>> [[psysml:3a727755-359f-4717-938c-27c2b808e1b4 ]] {\r\n",
       "##//attributes//##\r\n",
       "frequency: FrequencyUnit\r\n",
       "}\r\n",
       "comp def \"CableConnection\" as E11  <<(T,blue) attribute  def>> [[psysml:1560a472-ef4a-4975-bc29-14ff4324b21b ]] {\r\n",
       "##//attributes//##\r\n",
       "wireCount: Integer\r\n",
       "}\r\n",
       "comp def \"Electricity\" as E12  <<(T,blue) attribute  def>> [[psysml:76360141-3fc0-4534-8f3b-6446da24db0c ]] {\r\n",
       "##//attributes//##\r\n",
       "ampere: ElectricChargeUnit\r\n",
       "voltage: ElectricPotentialUnit\r\n",
       "}\r\n",
       "}\r\n",
       "E4 - -|> E3 [[psysml:13be587a-f6cd-47f0-93b9-eee544a9486d ]] \r\n",
       "E5 - -|> E3 [[psysml:e5309675-ee25-49cc-9423-559ba4d0e944 ]] \r\n",
       "E6 - -|> E3 [[psysml:e1bc1386-94a1-44d0-9287-f30800d3d587 ]] \r\n",
       "E7 o- - E8 [[psysml:c7f43b84-f389-48a7-8017-c7d507fe8bb9 ]] \r\n",
       "E8 - -:|> E2 [[psysml:1df8051f-46a1-4583-873b-b922c9436c48 ]] \r\n",
       "E7 o- - E9 [[psysml:26493ec8-8cc8-439b-ac11-91d2af7685b4 ]] \r\n",
       "E9 - -:|> E2 [[psysml:053a966d-224a-400e-abc6-8b8f4db92ebd ]] \r\n",
       "E10 - -|> E7 [[psysml:3abae30b-2244-4f63-a8ce-5ada6ccd7df2 ]] \r\n",
       "E11 - -|> E7 [[psysml:c819330f-3d61-442c-acf0-1f002d4b5491 ]] \r\n",
       "@enduml\r\n",
       "\n",
       "PlantUML version 1.2022.7(Mon Aug 22 17:01:30 UTC 2022)\n",
       "(EPL source distribution)\n",
       "Java Runtime: OpenJDK Runtime Environment\n",
       "JVM: OpenJDK 64-Bit Server VM\n",
       "Default Encoding: UTF-8\n",
       "Language: en\n",
       "Country: null\n",
       "--></g></svg>"
      ]
     },
     "execution_count": 2,
     "metadata": {},
     "output_type": "execute_result"
    }
   ],
   "source": [
    "%viz InternetModel_v1"
   ]
  },
  {
   "cell_type": "markdown",
   "id": "d66fe8ec",
   "metadata": {},
   "source": [
    "## Version 2\n",
    "\n",
    "Using Ports to describe the end points of connections while using `connection` for connections between parts. Also using specific parts for specific devices, not part definitions."
   ]
  },
  {
   "cell_type": "code",
   "execution_count": 3,
   "id": "5267280b",
   "metadata": {
    "execution": {
     "iopub.execute_input": "2024-12-16T03:22:34.943498Z",
     "iopub.status.busy": "2024-12-16T03:22:34.943029Z",
     "iopub.status.idle": "2024-12-16T03:22:35.105380Z",
     "shell.execute_reply": "2024-12-16T03:22:35.104139Z"
    }
   },
   "outputs": [
    {
     "name": "stderr",
     "output_type": "stream",
     "text": [
      "ERROR:mismatched input 'import' expecting '}' (3.sysml line : 2 column : 5)\n"
     ]
    },
    {
     "name": "stderr",
     "output_type": "stream",
     "text": [
      "ERROR:no viable alternative at input '::' (3.sysml line : 2 column : 15)\n"
     ]
    },
    {
     "name": "stderr",
     "output_type": "stream",
     "text": [
      "ERROR:no viable alternative at input '::' (3.sysml line : 3 column : 14)\n"
     ]
    },
    {
     "name": "stderr",
     "output_type": "stream",
     "text": [
      "ERROR:no viable alternative at input '::' (3.sysml line : 4 column : 22)\n"
     ]
    },
    {
     "name": "stderr",
     "output_type": "stream",
     "text": [
      "ERROR:no viable alternative at input '::' (3.sysml line : 5 column : 26)\n"
     ]
    },
    {
     "name": "stderr",
     "output_type": "stream",
     "text": [
      "ERROR:no viable alternative at input '>' (3.sysml line : 7 column : 56)\n"
     ]
    },
    {
     "name": "stderr",
     "output_type": "stream",
     "text": [
      "ERROR:no viable alternative at input ',' (3.sysml line : 7 column : 69)\n"
     ]
    },
    {
     "name": "stderr",
     "output_type": "stream",
     "text": [
      "ERROR:no viable alternative at input '>' (3.sysml line : 7 column : 87)\n"
     ]
    },
    {
     "name": "stderr",
     "output_type": "stream",
     "text": [
      "ERROR:no viable alternative at input 'ConversionByPrefix' (3.sysml line : 7 column : 89)\n"
     ]
    },
    {
     "name": "stderr",
     "output_type": "stream",
     "text": [
      "ERROR:no viable alternative at input '(' (3.sysml line : 7 column : 107)\n"
     ]
    },
    {
     "name": "stderr",
     "output_type": "stream",
     "text": [
      "ERROR:no viable alternative at input '>' (3.sysml line : 7 column : 116)\n"
     ]
    },
    {
     "name": "stderr",
     "output_type": "stream",
     "text": [
      "ERROR:no viable alternative at input 'giga' (3.sysml line : 7 column : 118)\n"
     ]
    },
    {
     "name": "stderr",
     "output_type": "stream",
     "text": [
      "ERROR:no viable alternative at input ',' (3.sysml line : 7 column : 122)\n"
     ]
    },
    {
     "name": "stderr",
     "output_type": "stream",
     "text": [
      "ERROR:no viable alternative at input '>' (3.sysml line : 7 column : 139)\n"
     ]
    },
    {
     "name": "stderr",
     "output_type": "stream",
     "text": [
      "ERROR:no viable alternative at input 'Hz' (3.sysml line : 7 column : 141)\n"
     ]
    },
    {
     "name": "stderr",
     "output_type": "stream",
     "text": [
      "ERROR:no viable alternative at input ')' (3.sysml line : 7 column : 143)\n"
     ]
    },
    {
     "name": "stderr",
     "output_type": "stream",
     "text": [
      "ERROR:no viable alternative at input '[' (3.sysml line : 62 column : 42)\n"
     ]
    },
    {
     "name": "stderr",
     "output_type": "stream",
     "text": [
      "ERROR:no viable alternative at input ']' (3.sysml line : 62 column : 46)\n"
     ]
    },
    {
     "name": "stderr",
     "output_type": "stream",
     "text": [
      "ERROR:extraneous input '}' expecting EOF (3.sysml line : 70 column : 1)\n"
     ]
    },
    {
     "data": {
      "text/plain": []
     },
     "execution_count": 3,
     "metadata": {},
     "output_type": "execute_result"
    }
   ],
   "source": [
    "package InternetModel_v2 {\n",
    "    import ISQ::*;\n",
    "    import SI::*;    \n",
    "    import SIPrefixes::*;\n",
    "    import UnitsAndScales::ConversionByPrefix;\n",
    "    \n",
    "    attribute GHz: FrequencyUnit = FrequencyUnit(name => \"gigahertz\", unitConversion => ConversionByPrefix(prefix => giga, referenceUnit => Hz));    \n",
    "    attribute def StorageUnit;\n",
    "    attribute def SpeedUnit;\n",
    "    \n",
    "    enum def CurrentType {\n",
    "        enum DC;\n",
    "        enum AC;\n",
    "    }\n",
    "    \n",
    "    port def DataPort {\n",
    "        /* TODO: Should all be in terms of Bytes and Bytes/Seconds but for now integers */\n",
    "        attribute speed : SpeedUnit;\n",
    "        in attribute inData: ScalarValues::Integer;\n",
    "        out attribute outData: ScalarValues::Integer;\n",
    "    }\n",
    "    \n",
    "    attribute def ElectricityRating {\n",
    "        attribute voltage: ISQElectromagnetism::ElectricPotentialUnit;\n",
    "        attribute ampere: ISQElectromagnetism::ElectricChargeUnit;\n",
    "        attribute currentType : CurrentType;\n",
    "    }\n",
    "    \n",
    "    part def Device {\n",
    "        port dataPorts: DataPort[1..*];\n",
    "        attribute electricRating: ElectricityRating;\n",
    "    }\n",
    "    \n",
    "    part def Server {\n",
    "        port dataPorts: DataPort[1..*];\n",
    "        attribute electricRating: ElectricityRating;\n",
    "        attribute storage : StorageUnit;\n",
    "    }\n",
    "    \n",
    "    connection def DataConnection {\n",
    "        end: DataPort[1];\n",
    "        end: DataPort[1];\n",
    "    }\n",
    "    \n",
    "    connection def CableConnection :> DataConnection {\n",
    "        attribute wireCount: ScalarValues::Integer;\n",
    "    }\n",
    "    \n",
    "    connection def WirelessConnection :> DataConnection {\n",
    "        attribute frequency: SI::FrequencyUnit;\n",
    "    }\n",
    "\n",
    "    part dslEndpoint : Server {}\n",
    "    \n",
    "    part wifiRouter : Device {}\n",
    "    part dslRouter : Device {}\n",
    "    part mobileDevice : Device {}\n",
    "    \n",
    "    connection : WirelessConnection \n",
    "        connect mobileDevice::dataPorts[1]\n",
    "             to wifiRouter::dataPorts[1] {\n",
    "       attribute redefines frequency = 5@[GHz];\n",
    "    }\n",
    "    \n",
    "    connection : CableConnection \n",
    "        connect dslRouter::dataPorts[1] \n",
    "             to dslEndpoint::dataPorts[1] {\n",
    "       attribute redefines wireCount = 5;\n",
    "    }\n",
    "}"
   ]
  },
  {
   "cell_type": "code",
   "execution_count": 4,
   "id": "a6970242",
   "metadata": {
    "execution": {
     "iopub.execute_input": "2024-12-16T03:22:35.161231Z",
     "iopub.status.busy": "2024-12-16T03:22:35.160986Z",
     "iopub.status.idle": "2024-12-16T03:22:35.162002Z",
     "shell.execute_reply": "2024-12-16T03:22:35.161847Z"
    }
   },
   "outputs": [
    {
     "data": {
      "text/plain": [
       "ERROR:Couldn't resolve reference to Element 'InternetModel_v2'\n"
      ]
     },
     "execution_count": 4,
     "metadata": {},
     "output_type": "execute_result"
    }
   ],
   "source": [
    "%viz InternetModel_v2"
   ]
  }
 ],
 "metadata": {
  "kernelspec": {
   "display_name": "SysML",
   "language": "sysml",
   "name": "sysml"
  },
  "language_info": {
   "codemirror_mode": "sysml",
   "file_extension": ".sysml",
   "mimetype": "text/x-sysml",
   "name": "SysML",
   "pygments_lexer": "java",
   "version": "1.0.0"
  }
 },
 "nbformat": 4,
 "nbformat_minor": 5
}
