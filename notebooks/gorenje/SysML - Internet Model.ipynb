{
 "cells": [
  {
   "cell_type": "markdown",
   "id": "sharp-benjamin",
   "metadata": {},
   "source": [
    "## Internet Model\n",
    "\n",
    "Playground for how to model how the connections within the Internet might be modelled."
   ]
  },
  {
   "cell_type": "markdown",
   "id": "successful-montreal",
   "metadata": {},
   "source": [
    "## Version 1\n",
    "\n",
    "Using connections as attributes. And using types to define specific devices."
   ]
  },
  {
   "cell_type": "code",
   "execution_count": 1,
   "id": "devoted-cheese",
   "metadata": {
    "execution": {
     "iopub.execute_input": "2021-03-26T09:39:56.189530Z",
     "iopub.status.busy": "2021-03-26T09:39:56.189036Z",
     "iopub.status.idle": "2021-03-26T09:39:56.750439Z",
     "shell.execute_reply": "2021-03-26T09:39:56.749911Z"
    }
   },
   "outputs": [
    {
     "data": {
      "text/plain": [
       "Package InternetModel_v1 (33674e3e-ec57-454e-933e-cee86969fceb)\n"
      ]
     },
     "execution_count": 1,
     "metadata": {},
     "output_type": "execute_result"
    }
   ],
   "source": [
    "package InternetModel_v1 {\n",
    "    part def Data;\n",
    "    part def Device {\n",
    "        attribute connType: Connection[1.. * ];\n",
    "        attribute voltageIn: Electricity[1];\n",
    "    }\n",
    "    part def WiFiRouter :> Device {\n",
    "        attribute wirelessConnection : WirelessConnection[1..2];\n",
    "        attribute ethernetConnection : CableConnection[1..*];\n",
    "    }\n",
    "    part def DSLRouter :> Device {\n",
    "        attribute dslConnection : CableConnection[1];\n",
    "        attribute ethernetConnection : CableConnection[1..*];\n",
    "    }\n",
    "    part def MobileDevice :> Device {\n",
    "        doc /** Bluetooth, WiFi, 5G/4G ... so at least 3 wireless connections **/\n",
    "        attribute wirelessConnection : WirelessConnection[1..3];\n",
    "    }\n",
    "    attribute def Connection {\n",
    "        in item inData: Data;\n",
    "        out item outData: Data;\n",
    "    }\n",
    "    attribute def WirelessConnection :> Connection {\n",
    "        attribute frequency: SI::FrequencyUnit;\n",
    "    }\n",
    "    attribute def CableConnection :> Connection {\n",
    "        attribute wireCount: ScalarValues::Integer;\n",
    "    }\n",
    "    attribute def Electricity {\n",
    "        attribute voltage: ISQElectromagnetism::ElectricPotentialUnit;\n",
    "        attribute ampere: ISQElectromagnetism::ElectricCurrentUnit;\n",
    "    }\n",
    "}"
   ]
  },
  {
   "cell_type": "code",
   "execution_count": 2,
   "id": "pressing-lithuania",
   "metadata": {
    "execution": {
     "iopub.execute_input": "2021-03-26T09:39:56.801803Z",
     "iopub.status.busy": "2021-03-26T09:39:56.801406Z",
     "iopub.status.idle": "2021-03-26T09:39:57.679426Z",
     "shell.execute_reply": "2021-03-26T09:39:57.679029Z"
    }
   },
   "outputs": [
    {
     "data": {
      "image/svg+xml": [
       "<?xml version=\"1.0\" encoding=\"UTF-8\" standalone=\"no\"?><svg xmlns=\"http://www.w3.org/2000/svg\" xmlns:xlink=\"http://www.w3.org/1999/xlink\" contentScriptType=\"application/ecmascript\" contentStyleType=\"text/css\" height=\"289px\" preserveAspectRatio=\"none\" style=\"width:1858px;height:289px;\" version=\"1.1\" viewBox=\"0 0 1858 289\" width=\"1858px\" zoomAndPan=\"magnify\"><defs/><g><!--MD5=[fbc87193dbaf4d95561dea2c320d4a47]\n",
       "cluster E1--><polygon fill=\"#FFFFFF\" points=\"16,6,158,6,165,28.2969,1836,28.2969,1836,277,16,277,16,6\" style=\"stroke: #000000; stroke-width: 1.5;\"/><line style=\"stroke: #000000; stroke-width: 1.5;\" x1=\"16\" x2=\"165\" y1=\"28.2969\" y2=\"28.2969\"/><text fill=\"#000000\" font-family=\"sans-serif\" font-size=\"14\" font-weight=\"bold\" lengthAdjust=\"spacingAndGlyphs\" textLength=\"136\" x=\"20\" y=\"20.9951\">InternetModel_v1</text><!--MD5=[b4997ac47864f28c2f74865a473b2911]\n",
       "class E2--><rect fill=\"#FFFFFF\" height=\"45.9375\" id=\"E2\" style=\"stroke: #383838; stroke-width: 1.5;\" width=\"66\" x=\"1754\" y=\"54\"/><text fill=\"#000000\" font-family=\"sans-serif\" font-size=\"12\" font-style=\"italic\" lengthAdjust=\"spacingAndGlyphs\" textLength=\"64\" x=\"1755\" y=\"70.1387\">«part def»</text><text fill=\"#000000\" font-family=\"sans-serif\" font-size=\"12\" lengthAdjust=\"spacingAndGlyphs\" textLength=\"30\" x=\"1772\" y=\"84.1074\">Data</text><line style=\"stroke: #383838; stroke-width: 1.5;\" x1=\"1755\" x2=\"1819\" y1=\"91.9375\" y2=\"91.9375\"/><!--MD5=[09b614a08d8cba4a07c9adeb5e0fee81]\n",
       "class E3--><rect fill=\"#FFFFFF\" height=\"71.5469\" id=\"E3\" style=\"stroke: #383838; stroke-width: 1.5;\" width=\"137\" x=\"1260.5\" y=\"181\"/><text fill=\"#000000\" font-family=\"sans-serif\" font-size=\"12\" font-style=\"italic\" lengthAdjust=\"spacingAndGlyphs\" textLength=\"64\" x=\"1297\" y=\"197.1387\">«part def»</text><text fill=\"#000000\" font-family=\"sans-serif\" font-size=\"12\" lengthAdjust=\"spacingAndGlyphs\" textLength=\"41\" x=\"1308.5\" y=\"211.1074\">Device</text><line style=\"stroke: #383838; stroke-width: 1.5;\" x1=\"1261.5\" x2=\"1396.5\" y1=\"218.9375\" y2=\"218.9375\"/><text fill=\"#000000\" font-family=\"sans-serif\" font-size=\"11\" lengthAdjust=\"spacingAndGlyphs\" textLength=\"125\" x=\"1266.5\" y=\"233.1479\">connType: Connection</text><text fill=\"#000000\" font-family=\"sans-serif\" font-size=\"11\" lengthAdjust=\"spacingAndGlyphs\" textLength=\"113\" x=\"1266.5\" y=\"245.9526\">voltageIn: Electricity</text><!--MD5=[ebbe1d658d1005bcc118a6aa81145e00]\n",
       "class E4--><rect fill=\"#FFFFFF\" height=\"71.5469\" id=\"E4\" style=\"stroke: #383838; stroke-width: 1.5;\" width=\"242\" x=\"1477\" y=\"41\"/><text fill=\"#000000\" font-family=\"sans-serif\" font-size=\"12\" font-style=\"italic\" lengthAdjust=\"spacingAndGlyphs\" textLength=\"64\" x=\"1566\" y=\"57.1387\">«part def»</text><text fill=\"#000000\" font-family=\"sans-serif\" font-size=\"12\" lengthAdjust=\"spacingAndGlyphs\" textLength=\"66\" x=\"1565\" y=\"71.1074\">WiFiRouter</text><line style=\"stroke: #383838; stroke-width: 1.5;\" x1=\"1478\" x2=\"1718\" y1=\"78.9375\" y2=\"78.9375\"/><text fill=\"#000000\" font-family=\"sans-serif\" font-size=\"11\" lengthAdjust=\"spacingAndGlyphs\" textLength=\"214\" x=\"1483\" y=\"93.1479\">ethernetConnection: CableConnection</text><text fill=\"#000000\" font-family=\"sans-serif\" font-size=\"11\" lengthAdjust=\"spacingAndGlyphs\" textLength=\"230\" x=\"1483\" y=\"105.9526\">wirelessConnection: WirelessConnection</text><!--MD5=[270fce915f116d4de14055a7c1d9a0f3]\n",
       "class E5--><rect fill=\"#FFFFFF\" height=\"71.5469\" id=\"E5\" style=\"stroke: #383838; stroke-width: 1.5;\" width=\"226\" x=\"1216\" y=\"41\"/><text fill=\"#000000\" font-family=\"sans-serif\" font-size=\"12\" font-style=\"italic\" lengthAdjust=\"spacingAndGlyphs\" textLength=\"64\" x=\"1297\" y=\"57.1387\">«part def»</text><text fill=\"#000000\" font-family=\"sans-serif\" font-size=\"12\" lengthAdjust=\"spacingAndGlyphs\" textLength=\"65\" x=\"1296.5\" y=\"71.1074\">DSLRouter</text><line style=\"stroke: #383838; stroke-width: 1.5;\" x1=\"1217\" x2=\"1441\" y1=\"78.9375\" y2=\"78.9375\"/><text fill=\"#000000\" font-family=\"sans-serif\" font-size=\"11\" lengthAdjust=\"spacingAndGlyphs\" textLength=\"183\" x=\"1222\" y=\"93.1479\">dslConnection: CableConnection</text><text fill=\"#000000\" font-family=\"sans-serif\" font-size=\"11\" lengthAdjust=\"spacingAndGlyphs\" textLength=\"214\" x=\"1222\" y=\"105.9526\">ethernetConnection: CableConnection</text><!--MD5=[60a26617385b1d2d0262a64233df1f8d]\n",
       "class E6--><rect fill=\"#FFFFFF\" height=\"58.7422\" id=\"E6\" style=\"stroke: #383838; stroke-width: 1.5;\" width=\"242\" x=\"939\" y=\"47.5\"/><text fill=\"#000000\" font-family=\"sans-serif\" font-size=\"12\" font-style=\"italic\" lengthAdjust=\"spacingAndGlyphs\" textLength=\"64\" x=\"1028\" y=\"63.6387\">«part def»</text><text fill=\"#000000\" font-family=\"sans-serif\" font-size=\"12\" lengthAdjust=\"spacingAndGlyphs\" textLength=\"81\" x=\"1019.5\" y=\"77.6074\">MobileDevice</text><line style=\"stroke: #383838; stroke-width: 1.5;\" x1=\"940\" x2=\"1180\" y1=\"85.4375\" y2=\"85.4375\"/><text fill=\"#000000\" font-family=\"sans-serif\" font-size=\"11\" lengthAdjust=\"spacingAndGlyphs\" textLength=\"230\" x=\"945\" y=\"99.6479\">wirelessConnection: WirelessConnection</text><!--MD5=[b9389687b975829384b498ac4b7476b2]\n",
       "class E8--><rect fill=\"#FFFFFF\" height=\"88.3516\" id=\"E8\" style=\"stroke: #383838; stroke-width: 1.5;\" width=\"95\" x=\"692.5\" y=\"173\"/><text fill=\"#000000\" font-family=\"sans-serif\" font-size=\"12\" font-style=\"italic\" lengthAdjust=\"spacingAndGlyphs\" textLength=\"93\" x=\"693.5\" y=\"189.1387\">«attribute def»</text><text fill=\"#000000\" font-family=\"sans-serif\" font-size=\"12\" lengthAdjust=\"spacingAndGlyphs\" textLength=\"71\" x=\"704.5\" y=\"203.1074\">Connection</text><line style=\"stroke: #383838; stroke-width: 1.5;\" x1=\"693.5\" x2=\"786.5\" y1=\"210.9375\" y2=\"210.9375\"/><text fill=\"#000000\" font-family=\"sans-serif\" font-size=\"11\" lengthAdjust=\"spacingAndGlyphs\" textLength=\"70\" x=\"698.5\" y=\"241.9526\">inData: Data</text><text fill=\"#000000\" font-family=\"sans-serif\" font-size=\"11\" lengthAdjust=\"spacingAndGlyphs\" textLength=\"78\" x=\"698.5\" y=\"254.7573\">outData: Data</text><line style=\"stroke: #383838; stroke-width: 1.0;\" x1=\"693.5\" x2=\"724\" y1=\"225.3398\" y2=\"225.3398\"/><text fill=\"#000000\" font-family=\"sans-serif\" font-size=\"11\" lengthAdjust=\"spacingAndGlyphs\" textLength=\"32\" x=\"724\" y=\"228.6479\">items</text><line style=\"stroke: #383838; stroke-width: 1.0;\" x1=\"756\" x2=\"786.5\" y1=\"225.3398\" y2=\"225.3398\"/><!--MD5=[1dd1bfd58a279cf63c5f349dbc8fc6a1]\n",
       "class E11--><rect fill=\"#FFFFFF\" height=\"58.7422\" id=\"E11\" style=\"stroke: #383838; stroke-width: 1.5;\" width=\"156\" x=\"748\" y=\"47.5\"/><text fill=\"#000000\" font-family=\"sans-serif\" font-size=\"12\" font-style=\"italic\" lengthAdjust=\"spacingAndGlyphs\" textLength=\"93\" x=\"779.5\" y=\"63.6387\">«attribute def»</text><text fill=\"#000000\" font-family=\"sans-serif\" font-size=\"12\" lengthAdjust=\"spacingAndGlyphs\" textLength=\"123\" x=\"764.5\" y=\"77.6074\">WirelessConnection</text><line style=\"stroke: #383838; stroke-width: 1.5;\" x1=\"749\" x2=\"903\" y1=\"85.4375\" y2=\"85.4375\"/><text fill=\"#000000\" font-family=\"sans-serif\" font-size=\"11\" lengthAdjust=\"spacingAndGlyphs\" textLength=\"144\" x=\"754\" y=\"99.6479\">frequency: FrequencyUnit</text><!--MD5=[49a0ec8f00dab7302a31f22d0f0fe584]\n",
       "class E12--><rect fill=\"#FFFFFF\" height=\"58.7422\" id=\"E12\" style=\"stroke: #383838; stroke-width: 1.5;\" width=\"117\" x=\"595.5\" y=\"47.5\"/><text fill=\"#000000\" font-family=\"sans-serif\" font-size=\"12\" font-style=\"italic\" lengthAdjust=\"spacingAndGlyphs\" textLength=\"93\" x=\"607.5\" y=\"63.6387\">«attribute def»</text><text fill=\"#000000\" font-family=\"sans-serif\" font-size=\"12\" lengthAdjust=\"spacingAndGlyphs\" textLength=\"106\" x=\"601\" y=\"77.6074\">CableConnection</text><line style=\"stroke: #383838; stroke-width: 1.5;\" x1=\"596.5\" x2=\"711.5\" y1=\"85.4375\" y2=\"85.4375\"/><text fill=\"#000000\" font-family=\"sans-serif\" font-size=\"11\" lengthAdjust=\"spacingAndGlyphs\" textLength=\"105\" x=\"601.5\" y=\"99.6479\">wireCount: Integer</text><!--MD5=[ee3c913d1a06f366521f9ef512b67efe]\n",
       "class E13--><rect fill=\"#FFFFFF\" height=\"71.5469\" id=\"E13\" style=\"stroke: #383838; stroke-width: 1.5;\" width=\"173\" x=\"387.5\" y=\"41\"/><text fill=\"#000000\" font-family=\"sans-serif\" font-size=\"12\" font-style=\"italic\" lengthAdjust=\"spacingAndGlyphs\" textLength=\"93\" x=\"427.5\" y=\"57.1387\">«attribute def»</text><text fill=\"#000000\" font-family=\"sans-serif\" font-size=\"12\" lengthAdjust=\"spacingAndGlyphs\" textLength=\"60\" x=\"444\" y=\"71.1074\">Electricity</text><line style=\"stroke: #383838; stroke-width: 1.5;\" x1=\"388.5\" x2=\"559.5\" y1=\"78.9375\" y2=\"78.9375\"/><text fill=\"#000000\" font-family=\"sans-serif\" font-size=\"11\" lengthAdjust=\"spacingAndGlyphs\" textLength=\"158\" x=\"393.5\" y=\"93.1479\">ampere: ElectricCurrentUnit</text><text fill=\"#000000\" font-family=\"sans-serif\" font-size=\"11\" lengthAdjust=\"spacingAndGlyphs\" textLength=\"161\" x=\"393.5\" y=\"105.9526\">voltage: ElectricPotentialUnit</text><path d=\"M32,57 L32,97.2656 L352,97.2656 L352,67 L342,57 L32,57 \" fill=\"#ECECEC\" style=\"stroke: #383838; stroke-width: 1.0;\"/><path d=\"M342,57 L342,67 L352,67 L342,57 \" fill=\"#ECECEC\" style=\"stroke: #383838; stroke-width: 1.0;\"/><text fill=\"#000000\" font-family=\"sans-serif\" font-size=\"13\" lengthAdjust=\"spacingAndGlyphs\" textLength=\"295\" x=\"38\" y=\"74.0669\">Bluetooth, WiFi, 5G/4G ... so at least 3 wireless</text><text fill=\"#000000\" font-family=\"sans-serif\" font-size=\"13\" lengthAdjust=\"spacingAndGlyphs\" textLength=\"88\" x=\"38\" y=\"89.1997\">connections *</text><!--MD5=[f0cdf4548168e5211fb3a02bf679d63a]\n",
       "link E4 to E3--><path d=\"M1529.77,113 C1495.07,130.8 1452.53,152.63 1415.55,171.6 \" fill=\"none\" id=\"E4-&gt;E3\" style=\"stroke: #383838; stroke-width: 1.0;\"/><polygon fill=\"none\" points=\"1418.61,177.9,1397.62,180.8,1412.22,165.44,1418.61,177.9\" style=\"stroke: #383838; stroke-width: 1.0;\"/><!--MD5=[e9be52314489bd878ff4c7144b63c9e1]\n",
       "link E5 to E3--><path d=\"M1329,113.18 C1329,127.62 1329,144.68 1329,160.71 \" fill=\"none\" id=\"E5-&gt;E3\" style=\"stroke: #383838; stroke-width: 1.0;\"/><polygon fill=\"none\" points=\"1336,160.88,1329,180.88,1322,160.88,1336,160.88\" style=\"stroke: #383838; stroke-width: 1.0;\"/><!--MD5=[a717450b82c80b9240a525fa862496af]\n",
       "link E6 to E3--><path d=\"M1115.74,106.59 C1152.33,125.37 1200.94,150.3 1242.51,171.63 \" fill=\"none\" id=\"E6-&gt;E3\" style=\"stroke: #383838; stroke-width: 1.0;\"/><polygon fill=\"none\" points=\"1245.84,165.47,1260.44,180.83,1239.45,177.93,1245.84,165.47\" style=\"stroke: #383838; stroke-width: 1.0;\"/><!--MD5=[3aca6b7b240bdf4fa74e86e8d4be9f1e]\n",
       "link E11 to E8--><path d=\"M808.18,106.59 C799.3,120.85 788.2,138.65 777.56,155.74 \" fill=\"none\" id=\"E11-&gt;E8\" style=\"stroke: #383838; stroke-width: 1.0;\"/><polygon fill=\"none\" points=\"783.47,159.48,766.95,172.75,771.59,152.08,783.47,159.48\" style=\"stroke: #383838; stroke-width: 1.0;\"/><!--MD5=[e579e0b6abea9fd996f0a474884f3320]\n",
       "link E12 to E8--><path d=\"M671.82,106.59 C680.7,120.85 691.8,138.65 702.44,155.74 \" fill=\"none\" id=\"E12-&gt;E8\" style=\"stroke: #383838; stroke-width: 1.0;\"/><polygon fill=\"none\" points=\"708.41,152.08,713.05,172.75,696.53,159.48,708.41,152.08\" style=\"stroke: #383838; stroke-width: 1.0;\"/><!--MD5=[24e63d584c402d6c80e512e8cb9eaf0c]\n",
       "@startuml\r\n",
       "skinparam monochrome true\r\n",
       "skinparam classbackgroundcolor white\r\n",
       "skinparam shadowing false\r\n",
       "skinparam wrapWidth 300\r\n",
       "hide circle\r\n",
       "\r\n",
       "package \"InternetModel_v1\" as E1   {\r\n",
       "comp def \"Data\" as E2  <<(T,blue)part def>> {\r\n",
       "}\r\n",
       "comp def \"Device\" as E3  <<(T,blue)part def>> {\r\n",
       "connType: Connection\r\n",
       "voltageIn: Electricity\r\n",
       "}\r\n",
       "comp def \"WiFiRouter\" as E4  <<(T,blue)part def>> {\r\n",
       "ethernetConnection: CableConnection\r\n",
       "wirelessConnection: WirelessConnection\r\n",
       "}\r\n",
       "comp def \"DSLRouter\" as E5  <<(T,blue)part def>> {\r\n",
       "dslConnection: CableConnection\r\n",
       "ethernetConnection: CableConnection\r\n",
       "}\r\n",
       "comp def \"MobileDevice\" as E6  <<(T,blue)part def>> {\r\n",
       "wirelessConnection: WirelessConnection\r\n",
       "}\r\n",
       "comp def \"Connection\" as E8  <<(T,blue)attribute def>> {\r\n",
       "- -items- -\r\n",
       "inData: Data\r\n",
       "outData: Data\r\n",
       "}\r\n",
       "comp def \"WirelessConnection\" as E11  <<(T,blue)attribute def>> {\r\n",
       "frequency: FrequencyUnit\r\n",
       "}\r\n",
       "comp def \"CableConnection\" as E12  <<(T,blue)attribute def>> {\r\n",
       "wireCount: Integer\r\n",
       "}\r\n",
       "comp def \"Electricity\" as E13  <<(T,blue)attribute def>> {\r\n",
       "ampere: ElectricCurrentUnit\r\n",
       "voltage: ElectricPotentialUnit\r\n",
       "}\r\n",
       "note as E7\r\n",
       "Bluetooth, WiFi, 5G/4G ... so at least 3 wireless connections *\r\n",
       "end note \r\n",
       "E4 - -|> E3\r\n",
       "E5 - -|> E3\r\n",
       "E6 - -|> E3\r\n",
       "E11 - -|> E8\r\n",
       "E12 - -|> E8\r\n",
       "}\r\n",
       "@enduml\r\n",
       "\n",
       "PlantUML version 1.2020.13(Sat Jun 13 12:26:38 UTC 2020)\n",
       "(EPL source distribution)\n",
       "Java Runtime: OpenJDK Runtime Environment\n",
       "JVM: OpenJDK 64-Bit Server VM\n",
       "Default Encoding: UTF-8\n",
       "Language: en\n",
       "Country: null\n",
       "--></g></svg>"
      ]
     },
     "execution_count": 2,
     "metadata": {},
     "output_type": "execute_result"
    }
   ],
   "source": [
    "%viz InternetModel_v1"
   ]
  },
  {
   "cell_type": "markdown",
   "id": "worse-accountability",
   "metadata": {},
   "source": [
    "## Version 2\n",
    "\n",
    "Using Ports to describe the end points of connections while using `connection` for connections between parts. Also using specific parts for specific devices, not part definitions."
   ]
  },
  {
   "cell_type": "code",
   "execution_count": 3,
   "id": "monetary-england",
   "metadata": {
    "execution": {
     "iopub.execute_input": "2021-03-26T09:39:57.730991Z",
     "iopub.status.busy": "2021-03-26T09:39:57.730486Z",
     "iopub.status.idle": "2021-03-26T09:39:58.585533Z",
     "shell.execute_reply": "2021-03-26T09:39:58.585878Z"
    }
   },
   "outputs": [
    {
     "name": "stderr",
     "output_type": "stream",
     "text": [
      "ERROR:no viable alternative at input 'def' (3.sysml line : 11 column : 10)\n"
     ]
    },
    {
     "name": "stderr",
     "output_type": "stream",
     "text": [
      "ERROR:no viable alternative at input 'DC' (3.sysml line : 12 column : 14)\n"
     ]
    },
    {
     "name": "stderr",
     "output_type": "stream",
     "text": [
      "ERROR:no viable alternative at input 'AC' (3.sysml line : 13 column : 14)\n"
     ]
    },
    {
     "data": {
      "text/plain": []
     },
     "execution_count": 3,
     "metadata": {},
     "output_type": "execute_result"
    }
   ],
   "source": [
    "package InternetModel_v2 {\n",
    "    import ISQ::*;\n",
    "    import SI::*;    \n",
    "    import SIPrefixes::*;\n",
    "    import UnitsAndScales::ConversionByPrefix;\n",
    "    \n",
    "    attribute GHz: FrequencyUnit = FrequencyUnit(name => \"gigahertz\", unitConversion => ConversionByPrefix(prefix => giga, referenceUnit => Hz));    \n",
    "    attribute def StorageUnit;\n",
    "    attribute def SpeedUnit;\n",
    "    \n",
    "    enum def CurrentType {\n",
    "        enum DC;\n",
    "        enum AC;\n",
    "    }\n",
    "    \n",
    "    port def DataPort {\n",
    "        /* TODO: Should all be in terms of Bytes and Bytes/Seconds but for now integers */\n",
    "        attribute speed : SpeedUnit;\n",
    "        in attribute inData: ScalarValues::Integer;\n",
    "        out attribute outData: ScalarValues::Integer;\n",
    "    }\n",
    "    \n",
    "    attribute def ElectricityRating {\n",
    "        attribute voltage: ISQElectromagnetism::ElectricPotentialUnit;\n",
    "        attribute ampere: ISQElectromagnetism::ElectricCurrentUnit;\n",
    "        attribute currentType : CurrentType;\n",
    "    }\n",
    "    \n",
    "    part def Device {\n",
    "        port dataPorts: DataPort[1..*];\n",
    "        attribute electricRating: ElectricityRating;\n",
    "    }\n",
    "    \n",
    "    part def Server {\n",
    "        port dataPorts: DataPort[1..*];\n",
    "        attribute electricRating: ElectricityRating;\n",
    "        attribute storage : StorageUnit;\n",
    "    }\n",
    "    \n",
    "    connection def DataConnection {\n",
    "        end: DataPort[1];\n",
    "        end: DataPort[1];\n",
    "    }\n",
    "    \n",
    "    connection def CableConnection :> DataConnection {\n",
    "        attribute wireCount: ScalarValues::Integer;\n",
    "    }\n",
    "    \n",
    "    connection def WirelessConnection :> DataConnection {\n",
    "        attribute frequency: SI::FrequencyUnit;\n",
    "    }\n",
    "\n",
    "    part dslEndpoint : Server {}\n",
    "    \n",
    "    part wifiRouter : Device {}\n",
    "    part dslRouter : Device {}\n",
    "    part mobileDevice : Device {}\n",
    "    \n",
    "    connection : WirelessConnection \n",
    "        connect mobileDevice::dataPorts[1]\n",
    "             to wifiRouter::dataPorts[1] {\n",
    "       attribute redefines frequency = 5@[GHz];\n",
    "    }\n",
    "    \n",
    "    connection : CableConnection \n",
    "        connect dslRouter::dataPorts[1] \n",
    "             to dslEndpoint::dataPorts[1] {\n",
    "       attribute redefines wireCount = 5;\n",
    "    }\n",
    "}"
   ]
  },
  {
   "cell_type": "code",
   "execution_count": 4,
   "id": "utility-azerbaijan",
   "metadata": {
    "execution": {
     "iopub.execute_input": "2021-03-26T09:39:58.635449Z",
     "iopub.status.busy": "2021-03-26T09:39:58.635110Z",
     "iopub.status.idle": "2021-03-26T09:39:58.636666Z",
     "shell.execute_reply": "2021-03-26T09:39:58.637033Z"
    }
   },
   "outputs": [
    {
     "data": {
      "text/plain": [
       "ERROR:Couldn't resolve reference to Element 'InternetModel_v2'\n"
      ]
     },
     "execution_count": 4,
     "metadata": {},
     "output_type": "execute_result"
    }
   ],
   "source": [
    "%viz InternetModel_v2"
   ]
  },
  {
   "cell_type": "code",
   "execution_count": null,
   "id": "dress-letters",
   "metadata": {},
   "outputs": [],
   "source": []
  }
 ],
 "metadata": {
  "kernelspec": {
   "display_name": "SysML",
   "language": "sysml",
   "name": "sysml"
  },
  "language_info": {
   "codemirror_mode": "sysml",
   "file_extension": ".sysml",
   "mimetype": "text/x-sysml",
   "name": "SysML",
   "pygments_lexer": "java",
   "version": "1.0.0"
  }
 },
 "nbformat": 4,
 "nbformat_minor": 5
}
