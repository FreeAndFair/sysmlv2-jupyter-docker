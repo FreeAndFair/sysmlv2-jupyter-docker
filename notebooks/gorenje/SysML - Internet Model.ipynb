{
 "cells": [
  {
   "cell_type": "markdown",
   "id": "28a8501f",
   "metadata": {},
   "source": [
    "## Internet Model\n",
    "\n",
    "Playground for how to model how the connections within the Internet might be modelled."
   ]
  },
  {
   "cell_type": "markdown",
   "id": "0c32c232",
   "metadata": {},
   "source": [
    "## Version 1\n",
    "\n",
    "Using connections as attributes. And using types to define specific devices."
   ]
  },
  {
   "cell_type": "code",
   "execution_count": 1,
   "id": "3167c580",
   "metadata": {
    "execution": {
     "iopub.execute_input": "2022-02-18T10:45:49.470530Z",
     "iopub.status.busy": "2022-02-18T10:45:49.469906Z",
     "iopub.status.idle": "2022-02-18T10:45:49.693761Z",
     "shell.execute_reply": "2022-02-18T10:45:49.694253Z"
    }
   },
   "outputs": [
    {
     "data": {
      "text/plain": [
       "Package InternetModel_v1 (c03af86e-73d6-4b94-a64c-0c34cef07e7d)\n"
      ]
     },
     "execution_count": 1,
     "metadata": {},
     "output_type": "execute_result"
    }
   ],
   "source": [
    "package InternetModel_v1 {\n",
    "    part def Data;\n",
    "    part def Device {\n",
    "        attribute connType: Connection[1.. * ];\n",
    "        attribute voltageIn: Electricity[1];\n",
    "    }\n",
    "    part def WiFiRouter :> Device {\n",
    "        attribute wirelessConnection : WirelessConnection[1..2];\n",
    "        attribute ethernetConnection : CableConnection[1..*];\n",
    "    }\n",
    "    part def DSLRouter :> Device {\n",
    "        attribute dslConnection : CableConnection[1];\n",
    "        attribute ethernetConnection : CableConnection[1..*];\n",
    "    }\n",
    "    part def MobileDevice :> Device {\n",
    "        doc /** Bluetooth, WiFi, 5G/4G ... so at least 3 wireless connections **/\n",
    "        attribute wirelessConnection : WirelessConnection[1..3];\n",
    "    }\n",
    "    attribute def Connection {\n",
    "        in item inData: Data;\n",
    "        out item outData: Data;\n",
    "    }\n",
    "    attribute def WirelessConnection :> Connection {\n",
    "        attribute frequency: SI::FrequencyUnit;\n",
    "    }\n",
    "    attribute def CableConnection :> Connection {\n",
    "        attribute wireCount: ScalarValues::Integer;\n",
    "    }\n",
    "    attribute def Electricity {\n",
    "        attribute voltage: ISQElectromagnetism::ElectricPotentialUnit;\n",
    "        attribute ampere: ISQElectromagnetism::ElectricChargeUnit;\n",
    "    }\n",
    "}"
   ]
  },
  {
   "cell_type": "code",
   "execution_count": 2,
   "id": "69999671",
   "metadata": {
    "execution": {
     "iopub.execute_input": "2022-02-18T10:45:49.744708Z",
     "iopub.status.busy": "2022-02-18T10:45:49.744246Z",
     "iopub.status.idle": "2022-02-18T10:45:50.379659Z",
     "shell.execute_reply": "2022-02-18T10:45:50.378016Z"
    }
   },
   "outputs": [
    {
     "data": {
      "image/svg+xml": [
       "<?xml version=\"1.0\" encoding=\"UTF-8\" standalone=\"no\"?><svg xmlns=\"http://www.w3.org/2000/svg\" xmlns:xlink=\"http://www.w3.org/1999/xlink\" contentScriptType=\"application/ecmascript\" contentStyleType=\"text/css\" height=\"517px\" preserveAspectRatio=\"none\" style=\"width:1716px;height:517px;\" version=\"1.1\" viewBox=\"0 0 1716 517\" width=\"1716px\" zoomAndPan=\"magnify\"><defs/><g><!--MD5=[fbc87193dbaf4d95561dea2c320d4a47]\n",
       "cluster E1--><a href=\"psysml:0cd5eedb-1872-4d9e-9617-3e3db7ae6eca\" target=\"_top\" title=\"psysml:0cd5eedb-1872-4d9e-9617-3e3db7ae6eca\" xlink:actuate=\"onRequest\" xlink:href=\"psysml:0cd5eedb-1872-4d9e-9617-3e3db7ae6eca\" xlink:show=\"new\" xlink:title=\"psysml:0cd5eedb-1872-4d9e-9617-3e3db7ae6eca\" xlink:type=\"simple\"><polygon fill=\"#FFFFFF\" points=\"16,6,141,6,148,28.2969,1694,28.2969,1694,505,16,505,16,6\" style=\"stroke: #000000; stroke-width: 1.5;\"/><line style=\"stroke: #000000; stroke-width: 1.5;\" x1=\"16\" x2=\"148\" y1=\"28.2969\" y2=\"28.2969\"/><text fill=\"#000000\" font-family=\"sans-serif\" font-size=\"14\" font-weight=\"bold\" lengthAdjust=\"spacingAndGlyphs\" textLength=\"119\" x=\"20\" y=\"20.9951\">InternetModel_v1</text></a><!--MD5=[b4997ac47864f28c2f74865a473b2911]\n",
       "class E2--><a href=\"psysml:799a8801-fdb0-4108-8684-60d881edfa57\" target=\"_top\" title=\"psysml:799a8801-fdb0-4108-8684-60d881edfa57\" xlink:actuate=\"onRequest\" xlink:href=\"psysml:799a8801-fdb0-4108-8684-60d881edfa57\" xlink:show=\"new\" xlink:title=\"psysml:799a8801-fdb0-4108-8684-60d881edfa57\" xlink:type=\"simple\"><rect fill=\"#FFFFFF\" height=\"45.9375\" id=\"E2\" style=\"stroke: #383838; stroke-width: 1.5;\" width=\"70\" x=\"663\" y=\"443\"/><text fill=\"#000000\" font-family=\"sans-serif\" font-size=\"12\" font-style=\"italic\" lengthAdjust=\"spacingAndGlyphs\" textLength=\"68\" x=\"664\" y=\"459.1387\">«part  def»</text><text fill=\"#000000\" font-family=\"sans-serif\" font-size=\"12\" lengthAdjust=\"spacingAndGlyphs\" textLength=\"30\" x=\"683\" y=\"473.1074\">Data</text><line style=\"stroke: #383838; stroke-width: 1.5;\" x1=\"664\" x2=\"732\" y1=\"480.9375\" y2=\"480.9375\"/></a><!--MD5=[09b614a08d8cba4a07c9adeb5e0fee81]\n",
       "class E3--><a href=\"psysml:53f71080-654c-4920-a2ff-e8bd966eeceb\" target=\"_top\" title=\"psysml:53f71080-654c-4920-a2ff-e8bd966eeceb\" xlink:actuate=\"onRequest\" xlink:href=\"psysml:53f71080-654c-4920-a2ff-e8bd966eeceb\" xlink:show=\"new\" xlink:title=\"psysml:53f71080-654c-4920-a2ff-e8bd966eeceb\" xlink:type=\"simple\"><rect fill=\"#FFFFFF\" height=\"88.3516\" id=\"E3\" style=\"stroke: #383838; stroke-width: 1.5;\" width=\"137\" x=\"1219.5\" y=\"189\"/><text fill=\"#000000\" font-family=\"sans-serif\" font-size=\"12\" font-style=\"italic\" lengthAdjust=\"spacingAndGlyphs\" textLength=\"68\" x=\"1254\" y=\"205.1387\">«part  def»</text><text fill=\"#000000\" font-family=\"sans-serif\" font-size=\"12\" lengthAdjust=\"spacingAndGlyphs\" textLength=\"41\" x=\"1267.5\" y=\"219.1074\">Device</text><line style=\"stroke: #383838; stroke-width: 1.5;\" x1=\"1220.5\" x2=\"1355.5\" y1=\"226.9375\" y2=\"226.9375\"/><text fill=\"#000000\" font-family=\"sans-serif\" font-size=\"11\" lengthAdjust=\"spacingAndGlyphs\" textLength=\"125\" x=\"1225.5\" y=\"257.9526\">connType: Connection</text><text fill=\"#000000\" font-family=\"sans-serif\" font-size=\"11\" lengthAdjust=\"spacingAndGlyphs\" textLength=\"113\" x=\"1225.5\" y=\"270.7573\">voltageIn: Electricity</text><line style=\"stroke: #383838; stroke-width: 1.0;\" x1=\"1220.5\" x2=\"1260.5\" y1=\"241.3398\" y2=\"241.3398\"/><text fill=\"#000000\" font-family=\"sans-serif\" font-size=\"11\" lengthAdjust=\"spacingAndGlyphs\" textLength=\"55\" x=\"1260.5\" y=\"244.6479\">attributes</text><line style=\"stroke: #383838; stroke-width: 1.0;\" x1=\"1315.5\" x2=\"1355.5\" y1=\"241.3398\" y2=\"241.3398\"/></a><!--MD5=[ebbe1d658d1005bcc118a6aa81145e00]\n",
       "class E4--><a href=\"psysml:9c14c47c-3b53-452e-ab78-f33970ac0462\" target=\"_top\" title=\"psysml:9c14c47c-3b53-452e-ab78-f33970ac0462\" xlink:actuate=\"onRequest\" xlink:href=\"psysml:9c14c47c-3b53-452e-ab78-f33970ac0462\" xlink:show=\"new\" xlink:title=\"psysml:9c14c47c-3b53-452e-ab78-f33970ac0462\" xlink:type=\"simple\"><rect fill=\"#FFFFFF\" height=\"88.3516\" id=\"E4\" style=\"stroke: #383838; stroke-width: 1.5;\" width=\"242\" x=\"1436\" y=\"41\"/><text fill=\"#000000\" font-family=\"sans-serif\" font-size=\"12\" font-style=\"italic\" lengthAdjust=\"spacingAndGlyphs\" textLength=\"68\" x=\"1523\" y=\"57.1387\">«part  def»</text><text fill=\"#000000\" font-family=\"sans-serif\" font-size=\"12\" lengthAdjust=\"spacingAndGlyphs\" textLength=\"66\" x=\"1524\" y=\"71.1074\">WiFiRouter</text><line style=\"stroke: #383838; stroke-width: 1.5;\" x1=\"1437\" x2=\"1677\" y1=\"78.9375\" y2=\"78.9375\"/><text fill=\"#000000\" font-family=\"sans-serif\" font-size=\"11\" lengthAdjust=\"spacingAndGlyphs\" textLength=\"214\" x=\"1442\" y=\"109.9526\">ethernetConnection: CableConnection</text><text fill=\"#000000\" font-family=\"sans-serif\" font-size=\"11\" lengthAdjust=\"spacingAndGlyphs\" textLength=\"230\" x=\"1442\" y=\"122.7573\">wirelessConnection: WirelessConnection</text><line style=\"stroke: #383838; stroke-width: 1.0;\" x1=\"1437\" x2=\"1529.5\" y1=\"93.3398\" y2=\"93.3398\"/><text fill=\"#000000\" font-family=\"sans-serif\" font-size=\"11\" lengthAdjust=\"spacingAndGlyphs\" textLength=\"55\" x=\"1529.5\" y=\"96.6479\">attributes</text><line style=\"stroke: #383838; stroke-width: 1.0;\" x1=\"1584.5\" x2=\"1677\" y1=\"93.3398\" y2=\"93.3398\"/></a><!--MD5=[270fce915f116d4de14055a7c1d9a0f3]\n",
       "class E5--><a href=\"psysml:a55e6de3-a318-4dd5-a20c-8c48a4e269cb\" target=\"_top\" title=\"psysml:a55e6de3-a318-4dd5-a20c-8c48a4e269cb\" xlink:actuate=\"onRequest\" xlink:href=\"psysml:a55e6de3-a318-4dd5-a20c-8c48a4e269cb\" xlink:show=\"new\" xlink:title=\"psysml:a55e6de3-a318-4dd5-a20c-8c48a4e269cb\" xlink:type=\"simple\"><rect fill=\"#FFFFFF\" height=\"88.3516\" id=\"E5\" style=\"stroke: #383838; stroke-width: 1.5;\" width=\"226\" x=\"1175\" y=\"41\"/><text fill=\"#000000\" font-family=\"sans-serif\" font-size=\"12\" font-style=\"italic\" lengthAdjust=\"spacingAndGlyphs\" textLength=\"68\" x=\"1254\" y=\"57.1387\">«part  def»</text><text fill=\"#000000\" font-family=\"sans-serif\" font-size=\"12\" lengthAdjust=\"spacingAndGlyphs\" textLength=\"65\" x=\"1255.5\" y=\"71.1074\">DSLRouter</text><line style=\"stroke: #383838; stroke-width: 1.5;\" x1=\"1176\" x2=\"1400\" y1=\"78.9375\" y2=\"78.9375\"/><text fill=\"#000000\" font-family=\"sans-serif\" font-size=\"11\" lengthAdjust=\"spacingAndGlyphs\" textLength=\"183\" x=\"1181\" y=\"109.9526\">dslConnection: CableConnection</text><text fill=\"#000000\" font-family=\"sans-serif\" font-size=\"11\" lengthAdjust=\"spacingAndGlyphs\" textLength=\"214\" x=\"1181\" y=\"122.7573\">ethernetConnection: CableConnection</text><line style=\"stroke: #383838; stroke-width: 1.0;\" x1=\"1176\" x2=\"1260.5\" y1=\"93.3398\" y2=\"93.3398\"/><text fill=\"#000000\" font-family=\"sans-serif\" font-size=\"11\" lengthAdjust=\"spacingAndGlyphs\" textLength=\"55\" x=\"1260.5\" y=\"96.6479\">attributes</text><line style=\"stroke: #383838; stroke-width: 1.0;\" x1=\"1315.5\" x2=\"1400\" y1=\"93.3398\" y2=\"93.3398\"/></a><!--MD5=[60a26617385b1d2d0262a64233df1f8d]\n",
       "class E6--><a href=\"psysml:4007e400-6010-41c1-b289-67bd52c3df90\" target=\"_top\" title=\"psysml:4007e400-6010-41c1-b289-67bd52c3df90\" xlink:actuate=\"onRequest\" xlink:href=\"psysml:4007e400-6010-41c1-b289-67bd52c3df90\" xlink:show=\"new\" xlink:title=\"psysml:4007e400-6010-41c1-b289-67bd52c3df90\" xlink:type=\"simple\"><rect fill=\"#FFFFFF\" height=\"75.5469\" id=\"E6\" style=\"stroke: #383838; stroke-width: 1.5;\" width=\"242\" x=\"898\" y=\"47\"/><text fill=\"#000000\" font-family=\"sans-serif\" font-size=\"12\" font-style=\"italic\" lengthAdjust=\"spacingAndGlyphs\" textLength=\"68\" x=\"985\" y=\"63.1387\">«part  def»</text><text fill=\"#000000\" font-family=\"sans-serif\" font-size=\"12\" lengthAdjust=\"spacingAndGlyphs\" textLength=\"81\" x=\"978.5\" y=\"77.1074\">MobileDevice</text><line style=\"stroke: #383838; stroke-width: 1.5;\" x1=\"899\" x2=\"1139\" y1=\"84.9375\" y2=\"84.9375\"/><text fill=\"#000000\" font-family=\"sans-serif\" font-size=\"11\" lengthAdjust=\"spacingAndGlyphs\" textLength=\"230\" x=\"904\" y=\"115.9526\">wirelessConnection: WirelessConnection</text><line style=\"stroke: #383838; stroke-width: 1.0;\" x1=\"899\" x2=\"991.5\" y1=\"99.3398\" y2=\"99.3398\"/><text fill=\"#000000\" font-family=\"sans-serif\" font-size=\"11\" lengthAdjust=\"spacingAndGlyphs\" textLength=\"55\" x=\"991.5\" y=\"102.6479\">attributes</text><line style=\"stroke: #383838; stroke-width: 1.0;\" x1=\"1046.5\" x2=\"1139\" y1=\"99.3398\" y2=\"99.3398\"/></a><!--MD5=[b9389687b975829384b498ac4b7476b2]\n",
       "class E8--><a href=\"psysml:e8d43e73-80a7-4064-b2e8-830a59853961\" target=\"_top\" title=\"psysml:e8d43e73-80a7-4064-b2e8-830a59853961\" xlink:actuate=\"onRequest\" xlink:href=\"psysml:e8d43e73-80a7-4064-b2e8-830a59853961\" xlink:show=\"new\" xlink:title=\"psysml:e8d43e73-80a7-4064-b2e8-830a59853961\" xlink:type=\"simple\"><rect fill=\"#FFFFFF\" height=\"45.9375\" id=\"E8\" style=\"stroke: #383838; stroke-width: 1.5;\" width=\"99\" x=\"649.5\" y=\"210\"/><text fill=\"#000000\" font-family=\"sans-serif\" font-size=\"12\" font-style=\"italic\" lengthAdjust=\"spacingAndGlyphs\" textLength=\"97\" x=\"650.5\" y=\"226.1387\">«attribute  def»</text><text fill=\"#000000\" font-family=\"sans-serif\" font-size=\"12\" lengthAdjust=\"spacingAndGlyphs\" textLength=\"71\" x=\"663.5\" y=\"240.1074\">Connection</text><line style=\"stroke: #383838; stroke-width: 1.5;\" x1=\"650.5\" x2=\"747.5\" y1=\"247.9375\" y2=\"247.9375\"/></a><!--MD5=[fd4143e9d270a159db93a4ea2a975926]\n",
       "class E9--><a href=\"psysml:951d5464-ad22-440e-b432-5fbe09cf1853\" target=\"_top\" title=\"psysml:951d5464-ad22-440e-b432-5fbe09cf1853\" xlink:actuate=\"onRequest\" xlink:href=\"psysml:951d5464-ad22-440e-b432-5fbe09cf1853\" xlink:show=\"new\" xlink:title=\"psysml:951d5464-ad22-440e-b432-5fbe09cf1853\" xlink:type=\"simple\"><rect fill=\"#FFFFFF\" height=\"45.9375\" id=\"E9\" rx=\"10\" ry=\"10\" style=\"stroke: #383838; stroke-width: 1.5;\" width=\"89\" x=\"589.5\" y=\"337\"/><text fill=\"#000000\" font-family=\"sans-serif\" font-size=\"12\" font-style=\"italic\" lengthAdjust=\"spacingAndGlyphs\" textLength=\"41\" x=\"613.5\" y=\"353.1387\">«item»</text><text fill=\"#000000\" font-family=\"sans-serif\" font-size=\"12\" lengthAdjust=\"spacingAndGlyphs\" textLength=\"79\" x=\"592.5\" y=\"367.1074\">inData: Data</text><line style=\"stroke: #383838; stroke-width: 1.5;\" x1=\"590.5\" x2=\"677.5\" y1=\"374.9375\" y2=\"374.9375\"/></a><!--MD5=[96f4274e9e20536e775497830990834d]\n",
       "class E10--><a href=\"psysml:3ccd8c49-1a94-4c14-b14c-16d0e8f3d640\" target=\"_top\" title=\"psysml:3ccd8c49-1a94-4c14-b14c-16d0e8f3d640\" xlink:actuate=\"onRequest\" xlink:href=\"psysml:3ccd8c49-1a94-4c14-b14c-16d0e8f3d640\" xlink:show=\"new\" xlink:title=\"psysml:3ccd8c49-1a94-4c14-b14c-16d0e8f3d640\" xlink:type=\"simple\"><rect fill=\"#FFFFFF\" height=\"45.9375\" id=\"E10\" rx=\"10\" ry=\"10\" style=\"stroke: #383838; stroke-width: 1.5;\" width=\"99\" x=\"713.5\" y=\"337\"/><text fill=\"#000000\" font-family=\"sans-serif\" font-size=\"12\" font-style=\"italic\" lengthAdjust=\"spacingAndGlyphs\" textLength=\"41\" x=\"742.5\" y=\"353.1387\">«item»</text><text fill=\"#000000\" font-family=\"sans-serif\" font-size=\"12\" lengthAdjust=\"spacingAndGlyphs\" textLength=\"89\" x=\"716.5\" y=\"367.1074\">outData: Data</text><line style=\"stroke: #383838; stroke-width: 1.5;\" x1=\"714.5\" x2=\"811.5\" y1=\"374.9375\" y2=\"374.9375\"/></a><!--MD5=[1dd1bfd58a279cf63c5f349dbc8fc6a1]\n",
       "class E11--><a href=\"psysml:eb05f9ce-a271-4c2e-a84b-4b63563b20d3\" target=\"_top\" title=\"psysml:eb05f9ce-a271-4c2e-a84b-4b63563b20d3\" xlink:actuate=\"onRequest\" xlink:href=\"psysml:eb05f9ce-a271-4c2e-a84b-4b63563b20d3\" xlink:show=\"new\" xlink:title=\"psysml:eb05f9ce-a271-4c2e-a84b-4b63563b20d3\" xlink:type=\"simple\"><rect fill=\"#FFFFFF\" height=\"75.5469\" id=\"E11\" style=\"stroke: #383838; stroke-width: 1.5;\" width=\"156\" x=\"707\" y=\"47\"/><text fill=\"#000000\" font-family=\"sans-serif\" font-size=\"12\" font-style=\"italic\" lengthAdjust=\"spacingAndGlyphs\" textLength=\"97\" x=\"736.5\" y=\"63.1387\">«attribute  def»</text><text fill=\"#000000\" font-family=\"sans-serif\" font-size=\"12\" lengthAdjust=\"spacingAndGlyphs\" textLength=\"123\" x=\"723.5\" y=\"77.1074\">WirelessConnection</text><line style=\"stroke: #383838; stroke-width: 1.5;\" x1=\"708\" x2=\"862\" y1=\"84.9375\" y2=\"84.9375\"/><text fill=\"#000000\" font-family=\"sans-serif\" font-size=\"11\" lengthAdjust=\"spacingAndGlyphs\" textLength=\"144\" x=\"713\" y=\"115.9526\">frequency: FrequencyUnit</text><line style=\"stroke: #383838; stroke-width: 1.0;\" x1=\"708\" x2=\"757.5\" y1=\"99.3398\" y2=\"99.3398\"/><text fill=\"#000000\" font-family=\"sans-serif\" font-size=\"11\" lengthAdjust=\"spacingAndGlyphs\" textLength=\"55\" x=\"757.5\" y=\"102.6479\">attributes</text><line style=\"stroke: #383838; stroke-width: 1.0;\" x1=\"812.5\" x2=\"862\" y1=\"99.3398\" y2=\"99.3398\"/></a><!--MD5=[49a0ec8f00dab7302a31f22d0f0fe584]\n",
       "class E12--><a href=\"psysml:f6eb03ee-cc21-462c-8fde-8bbcee731d54\" target=\"_top\" title=\"psysml:f6eb03ee-cc21-462c-8fde-8bbcee731d54\" xlink:actuate=\"onRequest\" xlink:href=\"psysml:f6eb03ee-cc21-462c-8fde-8bbcee731d54\" xlink:show=\"new\" xlink:title=\"psysml:f6eb03ee-cc21-462c-8fde-8bbcee731d54\" xlink:type=\"simple\"><rect fill=\"#FFFFFF\" height=\"75.5469\" id=\"E12\" style=\"stroke: #383838; stroke-width: 1.5;\" width=\"117\" x=\"554.5\" y=\"47\"/><text fill=\"#000000\" font-family=\"sans-serif\" font-size=\"12\" font-style=\"italic\" lengthAdjust=\"spacingAndGlyphs\" textLength=\"97\" x=\"564.5\" y=\"63.1387\">«attribute  def»</text><text fill=\"#000000\" font-family=\"sans-serif\" font-size=\"12\" lengthAdjust=\"spacingAndGlyphs\" textLength=\"106\" x=\"560\" y=\"77.1074\">CableConnection</text><line style=\"stroke: #383838; stroke-width: 1.5;\" x1=\"555.5\" x2=\"670.5\" y1=\"84.9375\" y2=\"84.9375\"/><text fill=\"#000000\" font-family=\"sans-serif\" font-size=\"11\" lengthAdjust=\"spacingAndGlyphs\" textLength=\"105\" x=\"560.5\" y=\"115.9526\">wireCount: Integer</text><line style=\"stroke: #383838; stroke-width: 1.0;\" x1=\"555.5\" x2=\"585.5\" y1=\"99.3398\" y2=\"99.3398\"/><text fill=\"#000000\" font-family=\"sans-serif\" font-size=\"11\" lengthAdjust=\"spacingAndGlyphs\" textLength=\"55\" x=\"585.5\" y=\"102.6479\">attributes</text><line style=\"stroke: #383838; stroke-width: 1.0;\" x1=\"640.5\" x2=\"670.5\" y1=\"99.3398\" y2=\"99.3398\"/></a><!--MD5=[ee3c913d1a06f366521f9ef512b67efe]\n",
       "class E13--><a href=\"psysml:f509a2cc-3c35-48d9-951b-9e9b3f82d56a\" target=\"_top\" title=\"psysml:f509a2cc-3c35-48d9-951b-9e9b3f82d56a\" xlink:actuate=\"onRequest\" xlink:href=\"psysml:f509a2cc-3c35-48d9-951b-9e9b3f82d56a\" xlink:show=\"new\" xlink:title=\"psysml:f509a2cc-3c35-48d9-951b-9e9b3f82d56a\" xlink:type=\"simple\"><rect fill=\"#FFFFFF\" height=\"88.3516\" id=\"E13\" style=\"stroke: #383838; stroke-width: 1.5;\" width=\"173\" x=\"346.5\" y=\"41\"/><text fill=\"#000000\" font-family=\"sans-serif\" font-size=\"12\" font-style=\"italic\" lengthAdjust=\"spacingAndGlyphs\" textLength=\"97\" x=\"384.5\" y=\"57.1387\">«attribute  def»</text><text fill=\"#000000\" font-family=\"sans-serif\" font-size=\"12\" lengthAdjust=\"spacingAndGlyphs\" textLength=\"60\" x=\"403\" y=\"71.1074\">Electricity</text><line style=\"stroke: #383838; stroke-width: 1.5;\" x1=\"347.5\" x2=\"518.5\" y1=\"78.9375\" y2=\"78.9375\"/><text fill=\"#000000\" font-family=\"sans-serif\" font-size=\"11\" lengthAdjust=\"spacingAndGlyphs\" textLength=\"156\" x=\"352.5\" y=\"109.9526\">ampere: ElectricChargeUnit</text><text fill=\"#000000\" font-family=\"sans-serif\" font-size=\"11\" lengthAdjust=\"spacingAndGlyphs\" textLength=\"161\" x=\"352.5\" y=\"122.7573\">voltage: ElectricPotentialUnit</text><line style=\"stroke: #383838; stroke-width: 1.0;\" x1=\"347.5\" x2=\"405.5\" y1=\"93.3398\" y2=\"93.3398\"/><text fill=\"#000000\" font-family=\"sans-serif\" font-size=\"11\" lengthAdjust=\"spacingAndGlyphs\" textLength=\"55\" x=\"405.5\" y=\"96.6479\">attributes</text><line style=\"stroke: #383838; stroke-width: 1.0;\" x1=\"460.5\" x2=\"518.5\" y1=\"93.3398\" y2=\"93.3398\"/></a><path d=\"M32.5,65 L32.5,105.2656 L311.5,105.2656 L311.5,75 L301.5,65 L32.5,65 \" fill=\"#ECECEC\" style=\"stroke: #383838; stroke-width: 1.0;\"/><path d=\"M301.5,65 L301.5,75 L311.5,75 L301.5,65 \" fill=\"#ECECEC\" style=\"stroke: #383838; stroke-width: 1.0;\"/><a href=\"psysml:a8c5e06d-d497-46ea-b267-b692f0d31906\" target=\"_top\" title=\"psysml:a8c5e06d-d497-46ea-b267-b692f0d31906\" xlink:actuate=\"onRequest\" xlink:href=\"psysml:a8c5e06d-d497-46ea-b267-b692f0d31906\" xlink:show=\"new\" xlink:title=\"psysml:a8c5e06d-d497-46ea-b267-b692f0d31906\" xlink:type=\"simple\"><text fill=\"#1C1C1C\" font-family=\"sans-serif\" font-size=\"13\" lengthAdjust=\"spacingAndGlyphs\" text-decoration=\"underline\" textLength=\"13\" x=\"38.5\" y=\"82.0669\">@</text></a><text fill=\"#000000\" font-family=\"sans-serif\" font-size=\"13\" lengthAdjust=\"spacingAndGlyphs\" textLength=\"241\" x=\"51.5\" y=\"82.0669\">Bluetooth, WiFi, 5G/4G ... so at least 3</text><text fill=\"#000000\" font-family=\"sans-serif\" font-size=\"13\" lengthAdjust=\"spacingAndGlyphs\" textLength=\"142\" x=\"38.5\" y=\"97.1997\">wireless connections *</text><!--MD5=[f0cdf4548168e5211fb3a02bf679d63a]\n",
       "link E4 to E3--><a href=\"psysml:7ddd8338-25d9-47b1-a7ae-b89a18cacdcb\" target=\"_top\" title=\"psysml:7ddd8338-25d9-47b1-a7ae-b89a18cacdcb\" xlink:actuate=\"onRequest\" xlink:href=\"psysml:7ddd8338-25d9-47b1-a7ae-b89a18cacdcb\" xlink:show=\"new\" xlink:title=\"psysml:7ddd8338-25d9-47b1-a7ae-b89a18cacdcb\" xlink:type=\"simple\"><path d=\"M1477.75,129.02 C1445.32,146.62 1407.7,167.03 1374.56,185.02 \" fill=\"none\" id=\"E4-&gt;E3\" style=\"stroke: #383838; stroke-width: 1.0;\"/><polygon fill=\"none\" points=\"1377.58,191.34,1356.66,194.73,1370.9,179.04,1377.58,191.34\" style=\"stroke: #383838; stroke-width: 1.0;\"/></a><!--MD5=[e9be52314489bd878ff4c7144b63c9e1]\n",
       "link E5 to E3--><a href=\"psysml:47cdbb4f-1ff3-4eda-872c-bbf69718ccce\" target=\"_top\" title=\"psysml:47cdbb4f-1ff3-4eda-872c-bbf69718ccce\" xlink:actuate=\"onRequest\" xlink:href=\"psysml:47cdbb4f-1ff3-4eda-872c-bbf69718ccce\" xlink:show=\"new\" xlink:title=\"psysml:47cdbb4f-1ff3-4eda-872c-bbf69718ccce\" xlink:type=\"simple\"><path d=\"M1288,129.02 C1288,141.38 1288,155.13 1288,168.46 \" fill=\"none\" id=\"E5-&gt;E3\" style=\"stroke: #383838; stroke-width: 1.0;\"/><polygon fill=\"none\" points=\"1295,168.79,1288,188.79,1281,168.79,1295,168.79\" style=\"stroke: #383838; stroke-width: 1.0;\"/></a><!--MD5=[a717450b82c80b9240a525fa862496af]\n",
       "link E6 to E3--><a href=\"psysml:043eb8fa-aa11-4d8e-b2d2-411a945c7919\" target=\"_top\" title=\"psysml:043eb8fa-aa11-4d8e-b2d2-411a945c7919\" xlink:actuate=\"onRequest\" xlink:href=\"psysml:043eb8fa-aa11-4d8e-b2d2-411a945c7919\" xlink:show=\"new\" xlink:title=\"psysml:043eb8fa-aa11-4d8e-b2d2-411a945c7919\" xlink:type=\"simple\"><path d=\"M1087.23,123.03 C1122.01,141.91 1164.67,165.06 1201.71,185.16 \" fill=\"none\" id=\"E6-&gt;E3\" style=\"stroke: #383838; stroke-width: 1.0;\"/><polygon fill=\"none\" points=\"1205.14,179.06,1219.38,194.76,1198.46,191.37,1205.14,179.06\" style=\"stroke: #383838; stroke-width: 1.0;\"/></a><!--MD5=[22f5b4bae7e060dce8a1c8021efdb95b]\n",
       "reverse link E8 to E9--><a href=\"psysml:23a8e30a-058b-470d-af7a-056a1beea52a\" target=\"_top\" title=\"psysml:23a8e30a-058b-470d-af7a-056a1beea52a\" xlink:actuate=\"onRequest\" xlink:href=\"psysml:23a8e30a-058b-470d-af7a-056a1beea52a\" xlink:show=\"new\" xlink:title=\"psysml:23a8e30a-058b-470d-af7a-056a1beea52a\" xlink:type=\"simple\"><path d=\"M681.41,267.83 C670.02,289.72 655.52,317.61 645.58,336.74 \" fill=\"none\" id=\"E8&lt;-E9\" style=\"stroke: #383838; stroke-width: 1.0;\"/><polygon fill=\"#FFFFFF\" points=\"687.53,256.06,681.2136,259.5389,681.9954,266.7075,688.3119,263.2286,687.53,256.06\" style=\"stroke: #383838; stroke-width: 1.0;\"/><text fill=\"#000000\" font-family=\"sans-serif\" font-size=\"13\" lengthAdjust=\"spacingAndGlyphs\" textLength=\"8\" x=\"639.5224\" y=\"325.9497\">1</text></a><!--MD5=[5c3bb36fe832a92c7f0e1807dd65209d]\n",
       "link E9 to E2--><a href=\"psysml:f141dbd3-a3b7-4171-9b08-d4bd02b65080\" target=\"_top\" title=\"psysml:f141dbd3-a3b7-4171-9b08-d4bd02b65080\" xlink:actuate=\"onRequest\" xlink:href=\"psysml:f141dbd3-a3b7-4171-9b08-d4bd02b65080\" xlink:show=\"new\" xlink:title=\"psysml:f141dbd3-a3b7-4171-9b08-d4bd02b65080\" xlink:type=\"simple\"><path d=\"M647.57,383.06 C655.21,395.47 664.97,411.33 673.87,425.78 \" fill=\"none\" id=\"E9-&gt;E2\" style=\"stroke: #383838; stroke-width: 1.0;\"/><polygon fill=\"#FFFFFF\" points=\"684.45,442.98,668.5317,430.4657,680.4556,423.1294,684.45,442.98\" style=\"stroke: #383838; stroke-width: 1.0;\"/><ellipse cx=\"667.2482\" cy=\"424.5629\" fill=\"#383838\" rx=\"2\" ry=\"2\" style=\"stroke: #383838; stroke-width: 1.0;\"/><ellipse cx=\"675.7653\" cy=\"419.3227\" fill=\"#383838\" rx=\"2\" ry=\"2\" style=\"stroke: #383838; stroke-width: 1.0;\"/></a><!--MD5=[82b7655495be5c02ec58611e6ac45fcc]\n",
       "reverse link E8 to E10--><a href=\"psysml:f19ef307-7295-4fe2-b0a4-fd12dce4fc71\" target=\"_top\" title=\"psysml:f19ef307-7295-4fe2-b0a4-fd12dce4fc71\" xlink:actuate=\"onRequest\" xlink:href=\"psysml:f19ef307-7295-4fe2-b0a4-fd12dce4fc71\" xlink:show=\"new\" xlink:title=\"psysml:f19ef307-7295-4fe2-b0a4-fd12dce4fc71\" xlink:type=\"simple\"><path d=\"M716.32,267.83 C727.53,289.72 741.81,317.61 751.6,336.74 \" fill=\"none\" id=\"E8&lt;-E10\" style=\"stroke: #383838; stroke-width: 1.0;\"/><polygon fill=\"#FFFFFF\" points=\"710.29,256.06,709.4589,263.2231,715.7513,266.7452,716.5824,259.5822,710.29,256.06\" style=\"stroke: #383838; stroke-width: 1.0;\"/><text fill=\"#000000\" font-family=\"sans-serif\" font-size=\"13\" lengthAdjust=\"spacingAndGlyphs\" textLength=\"8\" x=\"739.6538\" y=\"325.9497\">1</text></a><!--MD5=[0f36bececdf0dff6e600d6f64214b0f1]\n",
       "link E10 to E2--><a href=\"psysml:2fb0a890-56da-426d-afd3-462fc13321bb\" target=\"_top\" title=\"psysml:2fb0a890-56da-426d-afd3-462fc13321bb\" xlink:actuate=\"onRequest\" xlink:href=\"psysml:2fb0a890-56da-426d-afd3-462fc13321bb\" xlink:show=\"new\" xlink:title=\"psysml:2fb0a890-56da-426d-afd3-462fc13321bb\" xlink:type=\"simple\"><path d=\"M749.22,383.06 C741.46,395.47 731.55,411.33 722.51,425.78 \" fill=\"none\" id=\"E10-&gt;E2\" style=\"stroke: #383838; stroke-width: 1.0;\"/><polygon fill=\"#FFFFFF\" points=\"711.76,442.98,715.8955,423.1584,727.7669,430.5792,711.76,442.98\" style=\"stroke: #383838; stroke-width: 1.0;\"/><ellipse cx=\"720.6128\" cy=\"419.3851\" fill=\"#383838\" rx=\"2\" ry=\"2\" style=\"stroke: #383838; stroke-width: 1.0;\"/><ellipse cx=\"729.0924\" cy=\"424.6857\" fill=\"#383838\" rx=\"2\" ry=\"2\" style=\"stroke: #383838; stroke-width: 1.0;\"/></a><!--MD5=[3aca6b7b240bdf4fa74e86e8d4be9f1e]\n",
       "link E11 to E8--><a href=\"psysml:5e1d8830-1ba2-4333-bc83-d552215c4926\" target=\"_top\" title=\"psysml:5e1d8830-1ba2-4333-bc83-d552215c4926\" xlink:actuate=\"onRequest\" xlink:href=\"psysml:5e1d8830-1ba2-4333-bc83-d552215c4926\" xlink:show=\"new\" xlink:title=\"psysml:5e1d8830-1ba2-4333-bc83-d552215c4926\" xlink:type=\"simple\"><path d=\"M763.08,123.22 C750.61,144.39 734.99,170.9 722.3,192.44 \" fill=\"none\" id=\"E11-&gt;E8\" style=\"stroke: #383838; stroke-width: 1.0;\"/><polygon fill=\"none\" points=\"728.23,196.16,712.05,209.84,716.17,189.06,728.23,196.16\" style=\"stroke: #383838; stroke-width: 1.0;\"/></a><!--MD5=[e579e0b6abea9fd996f0a474884f3320]\n",
       "link E12 to E8--><a href=\"psysml:fcc474bb-633b-43c4-9bf3-2cb5a4d0fe80\" target=\"_top\" title=\"psysml:fcc474bb-633b-43c4-9bf3-2cb5a4d0fe80\" xlink:actuate=\"onRequest\" xlink:href=\"psysml:fcc474bb-633b-43c4-9bf3-2cb5a4d0fe80\" xlink:show=\"new\" xlink:title=\"psysml:fcc474bb-633b-43c4-9bf3-2cb5a4d0fe80\" xlink:type=\"simple\"><path d=\"M634.92,123.22 C647.39,144.39 663.01,170.9 675.7,192.44 \" fill=\"none\" id=\"E12-&gt;E8\" style=\"stroke: #383838; stroke-width: 1.0;\"/><polygon fill=\"none\" points=\"681.83,189.06,685.95,209.84,669.77,196.16,681.83,189.06\" style=\"stroke: #383838; stroke-width: 1.0;\"/></a><!--MD5=[aa59bad26a2c2bb67a9a0995c602e046]\n",
       "@startuml\r\n",
       "skinparam monochrome true\r\n",
       "skinparam classbackgroundcolor white\r\n",
       "skinparam shadowing false\r\n",
       "skinparam wrapWidth 300\r\n",
       "hide circle\r\n",
       "\r\n",
       "package \"InternetModel_v1\" as E1  [[psysml:0cd5eedb-1872-4d9e-9617-3e3db7ae6eca ]]  {\r\n",
       "comp def \"Data\" as E2  <<(T,blue) part  def>> [[psysml:799a8801-fdb0-4108-8684-60d881edfa57 ]] {\r\n",
       "}\r\n",
       "comp def \"Device\" as E3  <<(T,blue) part  def>> [[psysml:53f71080-654c-4920-a2ff-e8bd966eeceb ]] {\r\n",
       "- - attributes - -\r\n",
       "connType: Connection\r\n",
       "voltageIn: Electricity\r\n",
       "}\r\n",
       "comp def \"WiFiRouter\" as E4  <<(T,blue) part  def>> [[psysml:9c14c47c-3b53-452e-ab78-f33970ac0462 ]] {\r\n",
       "- - attributes - -\r\n",
       "ethernetConnection: CableConnection\r\n",
       "wirelessConnection: WirelessConnection\r\n",
       "}\r\n",
       "comp def \"DSLRouter\" as E5  <<(T,blue) part  def>> [[psysml:a55e6de3-a318-4dd5-a20c-8c48a4e269cb ]] {\r\n",
       "- - attributes - -\r\n",
       "dslConnection: CableConnection\r\n",
       "ethernetConnection: CableConnection\r\n",
       "}\r\n",
       "comp def \"MobileDevice\" as E6  <<(T,blue) part  def>> [[psysml:4007e400-6010-41c1-b289-67bd52c3df90 ]] {\r\n",
       "- - attributes - -\r\n",
       "wirelessConnection: WirelessConnection\r\n",
       "}\r\n",
       "comp def \"Connection\" as E8  <<(T,blue) attribute  def>> [[psysml:e8d43e73-80a7-4064-b2e8-830a59853961 ]] {\r\n",
       "}\r\n",
       "comp usage \"inData: Data \" as E9  <<(T,blue) item>> [[psysml:951d5464-ad22-440e-b432-5fbe09cf1853 ]] {\r\n",
       "}\r\n",
       "comp usage \"outData: Data \" as E10  <<(T,blue) item>> [[psysml:3ccd8c49-1a94-4c14-b14c-16d0e8f3d640 ]] {\r\n",
       "}\r\n",
       "comp def \"WirelessConnection\" as E11  <<(T,blue) attribute  def>> [[psysml:eb05f9ce-a271-4c2e-a84b-4b63563b20d3 ]] {\r\n",
       "- - attributes - -\r\n",
       "frequency: FrequencyUnit\r\n",
       "}\r\n",
       "comp def \"CableConnection\" as E12  <<(T,blue) attribute  def>> [[psysml:f6eb03ee-cc21-462c-8fde-8bbcee731d54 ]] {\r\n",
       "- - attributes - -\r\n",
       "wireCount: Integer\r\n",
       "}\r\n",
       "comp def \"Electricity\" as E13  <<(T,blue) attribute  def>> [[psysml:f509a2cc-3c35-48d9-951b-9e9b3f82d56a ]] {\r\n",
       "- - attributes - -\r\n",
       "ampere: ElectricChargeUnit\r\n",
       "voltage: ElectricPotentialUnit\r\n",
       "}\r\n",
       "note as E7\r\n",
       "[[psysml:a8c5e06d-d497-46ea-b267-b692f0d31906 @]]Bluetooth, WiFi, 5G/4G ... so at least 3 wireless connections *\r\n",
       "end note \r\n",
       "}\r\n",
       "E4 - -|> E3 [[psysml:7ddd8338-25d9-47b1-a7ae-b89a18cacdcb ]] \r\n",
       "E5 - -|> E3 [[psysml:47cdbb4f-1ff3-4eda-872c-bbf69718ccce ]] \r\n",
       "E6 - -|> E3 [[psysml:043eb8fa-aa11-4d8e-b2d2-411a945c7919 ]] \r\n",
       "E8 o- - \"1\"E9 [[psysml:23a8e30a-058b-470d-af7a-056a1beea52a ]] \r\n",
       "E9 - -:|> E2 [[psysml:f141dbd3-a3b7-4171-9b08-d4bd02b65080 ]] \r\n",
       "E8 o- - \"1\"E10 [[psysml:f19ef307-7295-4fe2-b0a4-fd12dce4fc71 ]] \r\n",
       "E10 - -:|> E2 [[psysml:2fb0a890-56da-426d-afd3-462fc13321bb ]] \r\n",
       "E11 - -|> E8 [[psysml:5e1d8830-1ba2-4333-bc83-d552215c4926 ]] \r\n",
       "E12 - -|> E8 [[psysml:fcc474bb-633b-43c4-9bf3-2cb5a4d0fe80 ]] \r\n",
       "@enduml\r\n",
       "\n",
       "PlantUML version 1.2020.13(Sat Jun 13 12:26:38 UTC 2020)\n",
       "(EPL source distribution)\n",
       "Java Runtime: OpenJDK Runtime Environment\n",
       "JVM: OpenJDK 64-Bit Server VM\n",
       "Default Encoding: UTF-8\n",
       "Language: en\n",
       "Country: null\n",
       "--></g></svg>"
      ]
     },
     "execution_count": 2,
     "metadata": {},
     "output_type": "execute_result"
    }
   ],
   "source": [
    "%viz InternetModel_v1"
   ]
  },
  {
   "cell_type": "markdown",
   "id": "d66fe8ec",
   "metadata": {},
   "source": [
    "## Version 2\n",
    "\n",
    "Using Ports to describe the end points of connections while using `connection` for connections between parts. Also using specific parts for specific devices, not part definitions."
   ]
  },
  {
   "cell_type": "code",
   "execution_count": 3,
   "id": "5267280b",
   "metadata": {
    "execution": {
     "iopub.execute_input": "2022-02-18T10:45:50.429430Z",
     "iopub.status.busy": "2022-02-18T10:45:50.428807Z",
     "iopub.status.idle": "2022-02-18T10:45:50.715154Z",
     "shell.execute_reply": "2022-02-18T10:45:50.713423Z"
    }
   },
   "outputs": [
    {
     "name": "stderr",
     "output_type": "stream",
     "text": [
      "ERROR:no viable alternative at input '[' (3.sysml line : 62 column : 42)"
     ]
    },
    {
     "name": "stderr",
     "output_type": "stream",
     "text": [
      "\n"
     ]
    },
    {
     "name": "stderr",
     "output_type": "stream",
     "text": [
      "ERROR:no viable alternative at input ']' (3.sysml line : 62 column : 46)"
     ]
    },
    {
     "name": "stderr",
     "output_type": "stream",
     "text": [
      "\n"
     ]
    },
    {
     "data": {
      "text/plain": []
     },
     "execution_count": 3,
     "metadata": {},
     "output_type": "execute_result"
    }
   ],
   "source": [
    "package InternetModel_v2 {\n",
    "    import ISQ::*;\n",
    "    import SI::*;    \n",
    "    import SIPrefixes::*;\n",
    "    import UnitsAndScales::ConversionByPrefix;\n",
    "    \n",
    "    attribute GHz: FrequencyUnit = FrequencyUnit(name => \"gigahertz\", unitConversion => ConversionByPrefix(prefix => giga, referenceUnit => Hz));    \n",
    "    attribute def StorageUnit;\n",
    "    attribute def SpeedUnit;\n",
    "    \n",
    "    enum def CurrentType {\n",
    "        enum DC;\n",
    "        enum AC;\n",
    "    }\n",
    "    \n",
    "    port def DataPort {\n",
    "        /* TODO: Should all be in terms of Bytes and Bytes/Seconds but for now integers */\n",
    "        attribute speed : SpeedUnit;\n",
    "        in attribute inData: ScalarValues::Integer;\n",
    "        out attribute outData: ScalarValues::Integer;\n",
    "    }\n",
    "    \n",
    "    attribute def ElectricityRating {\n",
    "        attribute voltage: ISQElectromagnetism::ElectricPotentialUnit;\n",
    "        attribute ampere: ISQElectromagnetism::ElectricChargeUnit;\n",
    "        attribute currentType : CurrentType;\n",
    "    }\n",
    "    \n",
    "    part def Device {\n",
    "        port dataPorts: DataPort[1..*];\n",
    "        attribute electricRating: ElectricityRating;\n",
    "    }\n",
    "    \n",
    "    part def Server {\n",
    "        port dataPorts: DataPort[1..*];\n",
    "        attribute electricRating: ElectricityRating;\n",
    "        attribute storage : StorageUnit;\n",
    "    }\n",
    "    \n",
    "    connection def DataConnection {\n",
    "        end: DataPort[1];\n",
    "        end: DataPort[1];\n",
    "    }\n",
    "    \n",
    "    connection def CableConnection :> DataConnection {\n",
    "        attribute wireCount: ScalarValues::Integer;\n",
    "    }\n",
    "    \n",
    "    connection def WirelessConnection :> DataConnection {\n",
    "        attribute frequency: SI::FrequencyUnit;\n",
    "    }\n",
    "\n",
    "    part dslEndpoint : Server {}\n",
    "    \n",
    "    part wifiRouter : Device {}\n",
    "    part dslRouter : Device {}\n",
    "    part mobileDevice : Device {}\n",
    "    \n",
    "    connection : WirelessConnection \n",
    "        connect mobileDevice::dataPorts[1]\n",
    "             to wifiRouter::dataPorts[1] {\n",
    "       attribute redefines frequency = 5@[GHz];\n",
    "    }\n",
    "    \n",
    "    connection : CableConnection \n",
    "        connect dslRouter::dataPorts[1] \n",
    "             to dslEndpoint::dataPorts[1] {\n",
    "       attribute redefines wireCount = 5;\n",
    "    }\n",
    "}"
   ]
  },
  {
   "cell_type": "code",
   "execution_count": 4,
   "id": "a6970242",
   "metadata": {
    "execution": {
     "iopub.execute_input": "2022-02-18T10:45:50.764674Z",
     "iopub.status.busy": "2022-02-18T10:45:50.764277Z",
     "iopub.status.idle": "2022-02-18T10:45:50.766506Z",
     "shell.execute_reply": "2022-02-18T10:45:50.764972Z"
    }
   },
   "outputs": [
    {
     "data": {
      "text/plain": [
       "ERROR:Couldn't resolve reference to Element 'InternetModel_v2'\n"
      ]
     },
     "execution_count": 4,
     "metadata": {},
     "output_type": "execute_result"
    }
   ],
   "source": [
    "%viz InternetModel_v2"
   ]
  }
 ],
 "metadata": {
  "kernelspec": {
   "display_name": "SysML",
   "language": "sysml",
   "name": "sysml"
  },
  "language_info": {
   "codemirror_mode": "sysml",
   "file_extension": ".sysml",
   "mimetype": "text/x-sysml",
   "name": "SysML",
   "pygments_lexer": "java",
   "version": "1.0.0"
  }
 },
 "nbformat": 4,
 "nbformat_minor": 5
}
