{
 "cells": [
  {
   "cell_type": "markdown",
   "id": "6ddf85bc",
   "metadata": {},
   "source": [
    "# Generate Test Suite Notebooks\n",
    "\n",
    "This bit of Python code will generate all the notebooks in the `TestSuite` directory, so if you execute this, the contents of TestSuite will be replaced.\n",
    "\n",
    "This code takes all the test files from `/sysml/src/examples/`, i.e. `Import Tests` and `Simple Tests`, and for each it will create a separate notebook in the TestSuite directory.\n",
    " \n",
    "**NOTE**: This does not need to be run since all the notebooks have already been generated and executed. This is should only be run locally to update the notebooks. Having said that, there is nothing preventing you from running this, it will simply generate the same output.\n"
   ]
  },
  {
   "cell_type": "code",
   "execution_count": 1,
   "id": "0d0abcb7",
   "metadata": {
    "execution": {
     "iopub.execute_input": "2024-12-16T03:20:50.588193Z",
     "iopub.status.busy": "2024-12-16T03:20:50.587935Z",
     "iopub.status.idle": "2024-12-16T03:20:59.553466Z",
     "shell.execute_reply": "2024-12-16T03:20:59.552998Z"
    }
   },
   "outputs": [
    {
     "name": "stderr",
     "output_type": "stream",
     "text": [
      "<>:40: SyntaxWarning: invalid escape sequence '\\s'\n",
      "<>:40: SyntaxWarning: invalid escape sequence '\\s'\n",
      "/tmp/ipykernel_29/2453413411.py:40: SyntaxWarning: invalid escape sequence '\\s'\n",
      "  package_name_re = re.compile(\"(package|action def) ([^\\s]+)\", re.I)\n"
     ]
    },
    {
     "name": "stderr",
     "output_type": "stream",
     "text": [
      "/home/sysml/conda/lib/python3.12/site-packages/nbformat/__init__.py:96: MissingIDFieldWarning: Cell is missing an id field, this will become a hard error in future nbformat versions. You may want to use `normalize()` on your notebooks before validations (available since nbformat 5.1.4). Previous versions of nbformat are fixing this issue transparently, and will stop doing so in the future.\n",
      "  validate(nb)\n"
     ]
    },
    {
     "name": "stdout",
     "output_type": "stream",
     "text": [
      "Signing notebook: TestSuite/AliasImport.ipynb\n"
     ]
    },
    {
     "name": "stderr",
     "output_type": "stream",
     "text": [
      "/home/sysml/conda/lib/python3.12/site-packages/nbformat/__init__.py:96: MissingIDFieldWarning: Cell is missing an id field, this will become a hard error in future nbformat versions. You may want to use `normalize()` on your notebooks before validations (available since nbformat 5.1.4). Previous versions of nbformat are fixing this issue transparently, and will stop doing so in the future.\n",
      "  validate(nb)\n"
     ]
    },
    {
     "name": "stdout",
     "output_type": "stream",
     "text": [
      "Signing notebook: TestSuite/CircularImport.ipynb\n"
     ]
    },
    {
     "name": "stderr",
     "output_type": "stream",
     "text": [
      "/home/sysml/conda/lib/python3.12/site-packages/nbformat/__init__.py:96: MissingIDFieldWarning: Cell is missing an id field, this will become a hard error in future nbformat versions. You may want to use `normalize()` on your notebooks before validations (available since nbformat 5.1.4). Previous versions of nbformat are fixing this issue transparently, and will stop doing so in the future.\n",
      "  validate(nb)\n"
     ]
    },
    {
     "name": "stdout",
     "output_type": "stream",
     "text": [
      "Signing notebook: TestSuite/QualifiedNameImportTest.ipynb\n"
     ]
    },
    {
     "name": "stderr",
     "output_type": "stream",
     "text": [
      "/home/sysml/conda/lib/python3.12/site-packages/nbformat/__init__.py:96: MissingIDFieldWarning: Cell is missing an id field, this will become a hard error in future nbformat versions. You may want to use `normalize()` on your notebooks before validations (available since nbformat 5.1.4). Previous versions of nbformat are fixing this issue transparently, and will stop doing so in the future.\n",
      "  validate(nb)\n"
     ]
    },
    {
     "name": "stdout",
     "output_type": "stream",
     "text": [
      "Signing notebook: TestSuite/PrivateImportTest.ipynb\n"
     ]
    },
    {
     "name": "stderr",
     "output_type": "stream",
     "text": [
      "/home/sysml/conda/lib/python3.12/site-packages/nbformat/__init__.py:96: MissingIDFieldWarning: Cell is missing an id field, this will become a hard error in future nbformat versions. You may want to use `normalize()` on your notebooks before validations (available since nbformat 5.1.4). Previous versions of nbformat are fixing this issue transparently, and will stop doing so in the future.\n",
      "  validate(nb)\n"
     ]
    },
    {
     "name": "stdout",
     "output_type": "stream",
     "text": [
      "Signing notebook: TestSuite/MultiplicityTest.ipynb\n"
     ]
    },
    {
     "name": "stderr",
     "output_type": "stream",
     "text": [
      "/home/sysml/conda/lib/python3.12/site-packages/nbformat/__init__.py:96: MissingIDFieldWarning: Cell is missing an id field, this will become a hard error in future nbformat versions. You may want to use `normalize()` on your notebooks before validations (available since nbformat 5.1.4). Previous versions of nbformat are fixing this issue transparently, and will stop doing so in the future.\n",
      "  validate(nb)\n"
     ]
    },
    {
     "name": "stdout",
     "output_type": "stream",
     "text": [
      "Signing notebook: TestSuite/StructuredControlTest.ipynb\n"
     ]
    },
    {
     "name": "stderr",
     "output_type": "stream",
     "text": [
      "/home/sysml/conda/lib/python3.12/site-packages/nbformat/__init__.py:96: MissingIDFieldWarning: Cell is missing an id field, this will become a hard error in future nbformat versions. You may want to use `normalize()` on your notebooks before validations (available since nbformat 5.1.4). Previous versions of nbformat are fixing this issue transparently, and will stop doing so in the future.\n",
      "  validate(nb)\n"
     ]
    },
    {
     "name": "stdout",
     "output_type": "stream",
     "text": [
      "Signing notebook: TestSuite/VariabilityTest.ipynb\n"
     ]
    },
    {
     "name": "stderr",
     "output_type": "stream",
     "text": [
      "/home/sysml/conda/lib/python3.12/site-packages/nbformat/__init__.py:96: MissingIDFieldWarning: Cell is missing an id field, this will become a hard error in future nbformat versions. You may want to use `normalize()` on your notebooks before validations (available since nbformat 5.1.4). Previous versions of nbformat are fixing this issue transparently, and will stop doing so in the future.\n",
      "  validate(nb)\n"
     ]
    },
    {
     "name": "stdout",
     "output_type": "stream",
     "text": [
      "Signing notebook: TestSuite/CalculationTest.ipynb\n"
     ]
    },
    {
     "name": "stderr",
     "output_type": "stream",
     "text": [
      "/home/sysml/conda/lib/python3.12/site-packages/nbformat/__init__.py:96: MissingIDFieldWarning: Cell is missing an id field, this will become a hard error in future nbformat versions. You may want to use `normalize()` on your notebooks before validations (available since nbformat 5.1.4). Previous versions of nbformat are fixing this issue transparently, and will stop doing so in the future.\n",
      "  validate(nb)\n"
     ]
    },
    {
     "name": "stdout",
     "output_type": "stream",
     "text": [
      "Signing notebook: TestSuite/RequirementTest.ipynb\n"
     ]
    },
    {
     "name": "stderr",
     "output_type": "stream",
     "text": [
      "/home/sysml/conda/lib/python3.12/site-packages/nbformat/__init__.py:96: MissingIDFieldWarning: Cell is missing an id field, this will become a hard error in future nbformat versions. You may want to use `normalize()` on your notebooks before validations (available since nbformat 5.1.4). Previous versions of nbformat are fixing this issue transparently, and will stop doing so in the future.\n",
      "  validate(nb)\n"
     ]
    },
    {
     "name": "stdout",
     "output_type": "stream",
     "text": [
      "Signing notebook: TestSuite/AliasTest.ipynb\n"
     ]
    },
    {
     "name": "stderr",
     "output_type": "stream",
     "text": [
      "/home/sysml/conda/lib/python3.12/site-packages/nbformat/__init__.py:96: MissingIDFieldWarning: Cell is missing an id field, this will become a hard error in future nbformat versions. You may want to use `normalize()` on your notebooks before validations (available since nbformat 5.1.4). Previous versions of nbformat are fixing this issue transparently, and will stop doing so in the future.\n",
      "  validate(nb)\n"
     ]
    },
    {
     "name": "stdout",
     "output_type": "stream",
     "text": [
      "Signing notebook: TestSuite/ParameterTest.ipynb\n"
     ]
    },
    {
     "name": "stderr",
     "output_type": "stream",
     "text": [
      "/home/sysml/conda/lib/python3.12/site-packages/nbformat/__init__.py:96: MissingIDFieldWarning: Cell is missing an id field, this will become a hard error in future nbformat versions. You may want to use `normalize()` on your notebooks before validations (available since nbformat 5.1.4). Previous versions of nbformat are fixing this issue transparently, and will stop doing so in the future.\n",
      "  validate(nb)\n"
     ]
    },
    {
     "name": "stdout",
     "output_type": "stream",
     "text": [
      "Signing notebook: TestSuite/EnumerationTest.ipynb\n"
     ]
    },
    {
     "name": "stderr",
     "output_type": "stream",
     "text": [
      "/home/sysml/conda/lib/python3.12/site-packages/nbformat/__init__.py:96: MissingIDFieldWarning: Cell is missing an id field, this will become a hard error in future nbformat versions. You may want to use `normalize()` on your notebooks before validations (available since nbformat 5.1.4). Previous versions of nbformat are fixing this issue transparently, and will stop doing so in the future.\n",
      "  validate(nb)\n"
     ]
    },
    {
     "name": "stdout",
     "output_type": "stream",
     "text": [
      "Signing notebook: TestSuite/ConstraintTest.ipynb\n"
     ]
    },
    {
     "name": "stderr",
     "output_type": "stream",
     "text": [
      "/home/sysml/conda/lib/python3.12/site-packages/nbformat/__init__.py:96: MissingIDFieldWarning: Cell is missing an id field, this will become a hard error in future nbformat versions. You may want to use `normalize()` on your notebooks before validations (available since nbformat 5.1.4). Previous versions of nbformat are fixing this issue transparently, and will stop doing so in the future.\n",
      "  validate(nb)\n"
     ]
    },
    {
     "name": "stdout",
     "output_type": "stream",
     "text": [
      "Signing notebook: TestSuite/RootPackageTest.ipynb\n"
     ]
    },
    {
     "name": "stderr",
     "output_type": "stream",
     "text": [
      "/home/sysml/conda/lib/python3.12/site-packages/nbformat/__init__.py:96: MissingIDFieldWarning: Cell is missing an id field, this will become a hard error in future nbformat versions. You may want to use `normalize()` on your notebooks before validations (available since nbformat 5.1.4). Previous versions of nbformat are fixing this issue transparently, and will stop doing so in the future.\n",
      "  validate(nb)\n"
     ]
    },
    {
     "name": "stdout",
     "output_type": "stream",
     "text": [
      "Signing notebook: TestSuite/ControlNodeTest.ipynb\n"
     ]
    },
    {
     "name": "stderr",
     "output_type": "stream",
     "text": [
      "/home/sysml/conda/lib/python3.12/site-packages/nbformat/__init__.py:96: MissingIDFieldWarning: Cell is missing an id field, this will become a hard error in future nbformat versions. You may want to use `normalize()` on your notebooks before validations (available since nbformat 5.1.4). Previous versions of nbformat are fixing this issue transparently, and will stop doing so in the future.\n",
      "  validate(nb)\n"
     ]
    },
    {
     "name": "stdout",
     "output_type": "stream",
     "text": [
      "Signing notebook: TestSuite/TextualRepresentationTest.ipynb\n"
     ]
    },
    {
     "name": "stderr",
     "output_type": "stream",
     "text": [
      "/home/sysml/conda/lib/python3.12/site-packages/nbformat/__init__.py:96: MissingIDFieldWarning: Cell is missing an id field, this will become a hard error in future nbformat versions. You may want to use `normalize()` on your notebooks before validations (available since nbformat 5.1.4). Previous versions of nbformat are fixing this issue transparently, and will stop doing so in the future.\n",
      "  validate(nb)\n"
     ]
    },
    {
     "name": "stdout",
     "output_type": "stream",
     "text": [
      "Signing notebook: TestSuite/AllocationTest.ipynb\n"
     ]
    },
    {
     "name": "stderr",
     "output_type": "stream",
     "text": [
      "/home/sysml/conda/lib/python3.12/site-packages/nbformat/__init__.py:96: MissingIDFieldWarning: Cell is missing an id field, this will become a hard error in future nbformat versions. You may want to use `normalize()` on your notebooks before validations (available since nbformat 5.1.4). Previous versions of nbformat are fixing this issue transparently, and will stop doing so in the future.\n",
      "  validate(nb)\n"
     ]
    },
    {
     "name": "stdout",
     "output_type": "stream",
     "text": [
      "Signing notebook: TestSuite/FeaturePathTest.ipynb\n"
     ]
    },
    {
     "name": "stderr",
     "output_type": "stream",
     "text": [
      "/home/sysml/conda/lib/python3.12/site-packages/nbformat/__init__.py:96: MissingIDFieldWarning: Cell is missing an id field, this will become a hard error in future nbformat versions. You may want to use `normalize()` on your notebooks before validations (available since nbformat 5.1.4). Previous versions of nbformat are fixing this issue transparently, and will stop doing so in the future.\n",
      "  validate(nb)\n"
     ]
    },
    {
     "name": "stdout",
     "output_type": "stream",
     "text": [
      "Signing notebook: TestSuite/PartTest.ipynb\n"
     ]
    },
    {
     "name": "stderr",
     "output_type": "stream",
     "text": [
      "/home/sysml/conda/lib/python3.12/site-packages/nbformat/__init__.py:96: MissingIDFieldWarning: Cell is missing an id field, this will become a hard error in future nbformat versions. You may want to use `normalize()` on your notebooks before validations (available since nbformat 5.1.4). Previous versions of nbformat are fixing this issue transparently, and will stop doing so in the future.\n",
      "  validate(nb)\n"
     ]
    },
    {
     "name": "stdout",
     "output_type": "stream",
     "text": [
      "Signing notebook: TestSuite/ItemTest.ipynb\n"
     ]
    },
    {
     "name": "stderr",
     "output_type": "stream",
     "text": [
      "/home/sysml/conda/lib/python3.12/site-packages/nbformat/__init__.py:96: MissingIDFieldWarning: Cell is missing an id field, this will become a hard error in future nbformat versions. You may want to use `normalize()` on your notebooks before validations (available since nbformat 5.1.4). Previous versions of nbformat are fixing this issue transparently, and will stop doing so in the future.\n",
      "  validate(nb)\n"
     ]
    },
    {
     "name": "stdout",
     "output_type": "stream",
     "text": [
      "Signing notebook: TestSuite/CommentTest.ipynb\n"
     ]
    },
    {
     "name": "stderr",
     "output_type": "stream",
     "text": [
      "/home/sysml/conda/lib/python3.12/site-packages/nbformat/__init__.py:96: MissingIDFieldWarning: Cell is missing an id field, this will become a hard error in future nbformat versions. You may want to use `normalize()` on your notebooks before validations (available since nbformat 5.1.4). Previous versions of nbformat are fixing this issue transparently, and will stop doing so in the future.\n",
      "  validate(nb)\n"
     ]
    },
    {
     "name": "stdout",
     "output_type": "stream",
     "text": [
      "Signing notebook: TestSuite/ImportTest.ipynb\n"
     ]
    },
    {
     "name": "stderr",
     "output_type": "stream",
     "text": [
      "/home/sysml/conda/lib/python3.12/site-packages/nbformat/__init__.py:96: MissingIDFieldWarning: Cell is missing an id field, this will become a hard error in future nbformat versions. You may want to use `normalize()` on your notebooks before validations (available since nbformat 5.1.4). Previous versions of nbformat are fixing this issue transparently, and will stop doing so in the future.\n",
      "  validate(nb)\n"
     ]
    },
    {
     "name": "stdout",
     "output_type": "stream",
     "text": [
      "Signing notebook: TestSuite/DependencyTest.ipynb\n"
     ]
    },
    {
     "name": "stderr",
     "output_type": "stream",
     "text": [
      "/home/sysml/conda/lib/python3.12/site-packages/nbformat/__init__.py:96: MissingIDFieldWarning: Cell is missing an id field, this will become a hard error in future nbformat versions. You may want to use `normalize()` on your notebooks before validations (available since nbformat 5.1.4). Previous versions of nbformat are fixing this issue transparently, and will stop doing so in the future.\n",
      "  validate(nb)\n"
     ]
    },
    {
     "name": "stdout",
     "output_type": "stream",
     "text": [
      "Signing notebook: TestSuite/ConjugationTest.ipynb\n"
     ]
    },
    {
     "name": "stderr",
     "output_type": "stream",
     "text": [
      "/home/sysml/conda/lib/python3.12/site-packages/nbformat/__init__.py:96: MissingIDFieldWarning: Cell is missing an id field, this will become a hard error in future nbformat versions. You may want to use `normalize()` on your notebooks before validations (available since nbformat 5.1.4). Previous versions of nbformat are fixing this issue transparently, and will stop doing so in the future.\n",
      "  validate(nb)\n"
     ]
    },
    {
     "name": "stdout",
     "output_type": "stream",
     "text": [
      "Signing notebook: TestSuite/OccurrenceTest.ipynb\n"
     ]
    },
    {
     "name": "stderr",
     "output_type": "stream",
     "text": [
      "/home/sysml/conda/lib/python3.12/site-packages/nbformat/__init__.py:96: MissingIDFieldWarning: Cell is missing an id field, this will become a hard error in future nbformat versions. You may want to use `normalize()` on your notebooks before validations (available since nbformat 5.1.4). Previous versions of nbformat are fixing this issue transparently, and will stop doing so in the future.\n",
      "  validate(nb)\n"
     ]
    },
    {
     "name": "stdout",
     "output_type": "stream",
     "text": [
      "Signing notebook: TestSuite/UseCaseTest.ipynb\n"
     ]
    },
    {
     "name": "stderr",
     "output_type": "stream",
     "text": [
      "/home/sysml/conda/lib/python3.12/site-packages/nbformat/__init__.py:96: MissingIDFieldWarning: Cell is missing an id field, this will become a hard error in future nbformat versions. You may want to use `normalize()` on your notebooks before validations (available since nbformat 5.1.4). Previous versions of nbformat are fixing this issue transparently, and will stop doing so in the future.\n",
      "  validate(nb)\n"
     ]
    },
    {
     "name": "stdout",
     "output_type": "stream",
     "text": [
      "Signing notebook: TestSuite/ConnectionTest.ipynb\n"
     ]
    },
    {
     "name": "stderr",
     "output_type": "stream",
     "text": [
      "/home/sysml/conda/lib/python3.12/site-packages/nbformat/__init__.py:96: MissingIDFieldWarning: Cell is missing an id field, this will become a hard error in future nbformat versions. You may want to use `normalize()` on your notebooks before validations (available since nbformat 5.1.4). Previous versions of nbformat are fixing this issue transparently, and will stop doing so in the future.\n",
      "  validate(nb)\n"
     ]
    },
    {
     "name": "stdout",
     "output_type": "stream",
     "text": [
      "Signing notebook: TestSuite/AnalysisTest.ipynb\n"
     ]
    },
    {
     "name": "stderr",
     "output_type": "stream",
     "text": [
      "/home/sysml/conda/lib/python3.12/site-packages/nbformat/__init__.py:96: MissingIDFieldWarning: Cell is missing an id field, this will become a hard error in future nbformat versions. You may want to use `normalize()` on your notebooks before validations (available since nbformat 5.1.4). Previous versions of nbformat are fixing this issue transparently, and will stop doing so in the future.\n",
      "  validate(nb)\n"
     ]
    },
    {
     "name": "stdout",
     "output_type": "stream",
     "text": [
      "Signing notebook: TestSuite/StateTest.ipynb\n"
     ]
    },
    {
     "name": "stderr",
     "output_type": "stream",
     "text": [
      "/home/sysml/conda/lib/python3.12/site-packages/nbformat/__init__.py:96: MissingIDFieldWarning: Cell is missing an id field, this will become a hard error in future nbformat versions. You may want to use `normalize()` on your notebooks before validations (available since nbformat 5.1.4). Previous versions of nbformat are fixing this issue transparently, and will stop doing so in the future.\n",
      "  validate(nb)\n"
     ]
    },
    {
     "name": "stdout",
     "output_type": "stream",
     "text": [
      "Signing notebook: TestSuite/MetadataTest.ipynb\n"
     ]
    },
    {
     "name": "stderr",
     "output_type": "stream",
     "text": [
      "/home/sysml/conda/lib/python3.12/site-packages/nbformat/__init__.py:96: MissingIDFieldWarning: Cell is missing an id field, this will become a hard error in future nbformat versions. You may want to use `normalize()` on your notebooks before validations (available since nbformat 5.1.4). Previous versions of nbformat are fixing this issue transparently, and will stop doing so in the future.\n",
      "  validate(nb)\n"
     ]
    },
    {
     "name": "stdout",
     "output_type": "stream",
     "text": [
      "Signing notebook: TestSuite/TradeStudyTest.ipynb\n"
     ]
    },
    {
     "name": "stderr",
     "output_type": "stream",
     "text": [
      "/home/sysml/conda/lib/python3.12/site-packages/nbformat/__init__.py:96: MissingIDFieldWarning: Cell is missing an id field, this will become a hard error in future nbformat versions. You may want to use `normalize()` on your notebooks before validations (available since nbformat 5.1.4). Previous versions of nbformat are fixing this issue transparently, and will stop doing so in the future.\n",
      "  validate(nb)\n"
     ]
    },
    {
     "name": "stdout",
     "output_type": "stream",
     "text": [
      "Signing notebook: TestSuite/ViewTest.ipynb\n"
     ]
    },
    {
     "name": "stderr",
     "output_type": "stream",
     "text": [
      "/home/sysml/conda/lib/python3.12/site-packages/nbformat/__init__.py:96: MissingIDFieldWarning: Cell is missing an id field, this will become a hard error in future nbformat versions. You may want to use `normalize()` on your notebooks before validations (available since nbformat 5.1.4). Previous versions of nbformat are fixing this issue transparently, and will stop doing so in the future.\n",
      "  validate(nb)\n"
     ]
    },
    {
     "name": "stdout",
     "output_type": "stream",
     "text": [
      "Signing notebook: TestSuite/DecisionTest.ipynb\n"
     ]
    },
    {
     "name": "stderr",
     "output_type": "stream",
     "text": [
      "/home/sysml/conda/lib/python3.12/site-packages/nbformat/__init__.py:96: MissingIDFieldWarning: Cell is missing an id field, this will become a hard error in future nbformat versions. You may want to use `normalize()` on your notebooks before validations (available since nbformat 5.1.4). Previous versions of nbformat are fixing this issue transparently, and will stop doing so in the future.\n",
      "  validate(nb)\n"
     ]
    },
    {
     "name": "stdout",
     "output_type": "stream",
     "text": [
      "Signing notebook: TestSuite/ActionTest.ipynb\n"
     ]
    },
    {
     "name": "stderr",
     "output_type": "stream",
     "text": [
      "/home/sysml/conda/lib/python3.12/site-packages/nbformat/__init__.py:96: MissingIDFieldWarning: Cell is missing an id field, this will become a hard error in future nbformat versions. You may want to use `normalize()` on your notebooks before validations (available since nbformat 5.1.4). Previous versions of nbformat are fixing this issue transparently, and will stop doing so in the future.\n",
      "  validate(nb)\n"
     ]
    },
    {
     "name": "stdout",
     "output_type": "stream",
     "text": [
      "Signing notebook: TestSuite/DefaultValueTest.ipynb\n"
     ]
    },
    {
     "name": "stderr",
     "output_type": "stream",
     "text": [
      "/home/sysml/conda/lib/python3.12/site-packages/nbformat/__init__.py:96: MissingIDFieldWarning: Cell is missing an id field, this will become a hard error in future nbformat versions. You may want to use `normalize()` on your notebooks before validations (available since nbformat 5.1.4). Previous versions of nbformat are fixing this issue transparently, and will stop doing so in the future.\n",
      "  validate(nb)\n"
     ]
    },
    {
     "name": "stdout",
     "output_type": "stream",
     "text": [
      "Signing notebook: TestSuite/VerificationTest.ipynb\n"
     ]
    },
    {
     "name": "stdout",
     "output_type": "stream",
     "text": [
      "Signing notebook: TestSuite/AssignmentTest.ipynb\n"
     ]
    },
    {
     "name": "stderr",
     "output_type": "stream",
     "text": [
      "/home/sysml/conda/lib/python3.12/site-packages/nbformat/__init__.py:96: MissingIDFieldWarning: Cell is missing an id field, this will become a hard error in future nbformat versions. You may want to use `normalize()` on your notebooks before validations (available since nbformat 5.1.4). Previous versions of nbformat are fixing this issue transparently, and will stop doing so in the future.\n",
      "  validate(nb)\n"
     ]
    }
   ],
   "source": [
    "import json, re, os, subprocess\n",
    "from glob import glob\n",
    "\n",
    "def empty_nb():\n",
    "    return {\n",
    "     \"cells\": [\n",
    "        {\n",
    "       \"cell_type\": \"markdown\",\n",
    "       \"metadata\": {},\n",
    "       \"source\": [\n",
    "        \"# SysML v2 Test Suite\\n\",\n",
    "        \"\\n\",\n",
    "           \"This can notebook can be cleared using menu `Edit --> Clear All Outputs` and then all cells can be\\n\",\n",
    "           \"run using menu `Run --> Run All Cells`.\\n\",\n",
    "        \"\\n\",\n",
    "           \"**WARNING**: This file is generated, all modifications here will be ignored.\\n\"\n",
    "       ]\n",
    "       }\n",
    "     ],\n",
    "    \n",
    "     \"metadata\": {\n",
    "       \"kernelspec\": {\n",
    "        \"display_name\": \"SysML\",\n",
    "        \"language\": \"sysml\",\n",
    "        \"name\": \"sysml\"\n",
    "       },\n",
    "       \"language_info\": {\n",
    "        \"codemirror_mode\": \"sysml\",\n",
    "        \"file_extension\": \".sysml\",\n",
    "        \"mimetype\": \"text/x-sysml\",\n",
    "        \"name\": \"SysML\",\n",
    "        \"pygments_lexer\": \"java\",\n",
    "        \"version\": \"1.0.0\"\n",
    "       }\n",
    "     },\n",
    "     \"nbformat\": 4,\n",
    "     \"nbformat_minor\": 5\n",
    "    }\n",
    "\n",
    "package_name_re = re.compile(\"(package|action def) ([^\\s]+)\", re.I)\n",
    "\n",
    "subprocess.call(\"rm -fr TestSuite ; mkdir TestSuite\", shell=True)\n",
    "\n",
    "viz_styles = [\"COMPTREE\", \"POLYLINE\", \"LR\", \"STDCOLOR\", \"PLANTUML\", \"DEFAULT\", \"TB\", \"ORTHOLINE\" ]\n",
    "viz_views  = [\"Default\", \"Tree\", \"State\", \"Interconnection\", \"Action\", \"Sequence\",  \"MIXED\" ]\n",
    "\n",
    "\n",
    "for flname in glob(\"../../sysml/src/examples/*Tests/*.sysml\"):\n",
    "    lnes   = open(flname, \"r\").readlines()\n",
    "    nbname = os.path.basename(flname).replace(\"sysml\", \"ipynb\")\n",
    "    \n",
    "    nbcnt = empty_nb()\n",
    "    nbcnt[\"cells\"].append({\n",
    "        \"cell_type\": \"markdown\",\n",
    "        \"metadata\": {},\n",
    "        \"source\": \"## File: {}\".format(flname)\n",
    "    })\n",
    "    nbcnt[\"cells\"].append({\n",
    "        \"cell_type\": \"code\",\n",
    "        \"execution_count\": 0,\n",
    "        \"metadata\": {},\n",
    "        \"outputs\": [],\n",
    "        \"source\": lnes\n",
    "    })\n",
    "    \n",
    "    md = package_name_re.match(lnes[0])\n",
    "    if md != None:\n",
    "        package_name = md[2]\n",
    "        for style in viz_styles:\n",
    "            for view in viz_views:\n",
    "                nbcnt[\"cells\"].append({\n",
    "                    \"cell_type\": \"code\",\n",
    "                    \"execution_count\": 0,\n",
    "                    \"metadata\": {},\n",
    "                    \"outputs\": [],\n",
    "                    \"source\": \"%viz --style=\\\"{}\\\" --view=\\\"{}\\\" \\\"{}\\\"\".format( style, view, package_name)\n",
    "                })\n",
    "        \n",
    "    f = open(\"TestSuite/{}\".format(nbname),\"w+\")\n",
    "    f.write(json.dumps(nbcnt))\n",
    "    f.close()\n",
    "    \n",
    "    # to display data, i.e. svgs, need to trust the notebook.\n",
    "    subprocess.call(\"jupyter trust TestSuite/{}\".format(nbname), shell=True)"
   ]
  },
  {
   "cell_type": "markdown",
   "id": "497b8e22",
   "metadata": {},
   "source": [
    "## Generate example files from the examples\n",
    "\n",
    "This takes the specific examples from the examples directory and creates notebooks from this them. This is a little more tricky since the example usually have multiple files that need to be included in a single notebook. Also ordering is important so the files are listed in a specific order for the notebook to run."
   ]
  },
  {
   "cell_type": "code",
   "execution_count": 2,
   "id": "822e239b",
   "metadata": {
    "execution": {
     "iopub.execute_input": "2024-12-16T03:20:59.555431Z",
     "iopub.status.busy": "2024-12-16T03:20:59.555290Z",
     "iopub.status.idle": "2024-12-16T03:21:01.976171Z",
     "shell.execute_reply": "2024-12-16T03:21:01.975831Z"
    }
   },
   "outputs": [
    {
     "name": "stderr",
     "output_type": "stream",
     "text": [
      "/home/sysml/conda/lib/python3.12/site-packages/nbformat/__init__.py:96: MissingIDFieldWarning: Cell is missing an id field, this will become a hard error in future nbformat versions. You may want to use `normalize()` on your notebooks before validations (available since nbformat 5.1.4). Previous versions of nbformat are fixing this issue transparently, and will stop doing so in the future.\n",
      "  validate(nb)\n"
     ]
    },
    {
     "name": "stdout",
     "output_type": "stream",
     "text": [
      "Signing notebook: TestSuite/Examples/Analysis Examples.ipynb\n"
     ]
    },
    {
     "name": "stderr",
     "output_type": "stream",
     "text": [
      "/home/sysml/conda/lib/python3.12/site-packages/nbformat/__init__.py:96: MissingIDFieldWarning: Cell is missing an id field, this will become a hard error in future nbformat versions. You may want to use `normalize()` on your notebooks before validations (available since nbformat 5.1.4). Previous versions of nbformat are fixing this issue transparently, and will stop doing so in the future.\n",
      "  validate(nb)\n"
     ]
    },
    {
     "name": "stdout",
     "output_type": "stream",
     "text": [
      "Signing notebook: TestSuite/Examples/Arrowhead Framework Example.ipynb\n"
     ]
    },
    {
     "name": "stderr",
     "output_type": "stream",
     "text": [
      "/home/sysml/conda/lib/python3.12/site-packages/nbformat/__init__.py:96: MissingIDFieldWarning: Cell is missing an id field, this will become a hard error in future nbformat versions. You may want to use `normalize()` on your notebooks before validations (available since nbformat 5.1.4). Previous versions of nbformat are fixing this issue transparently, and will stop doing so in the future.\n",
      "  validate(nb)\n"
     ]
    },
    {
     "name": "stdout",
     "output_type": "stream",
     "text": [
      "Signing notebook: TestSuite/Examples/Camera Example.ipynb\n"
     ]
    },
    {
     "name": "stderr",
     "output_type": "stream",
     "text": [
      "/home/sysml/conda/lib/python3.12/site-packages/nbformat/__init__.py:96: MissingIDFieldWarning: Cell is missing an id field, this will become a hard error in future nbformat versions. You may want to use `normalize()` on your notebooks before validations (available since nbformat 5.1.4). Previous versions of nbformat are fixing this issue transparently, and will stop doing so in the future.\n",
      "  validate(nb)\n"
     ]
    },
    {
     "name": "stdout",
     "output_type": "stream",
     "text": [
      "Signing notebook: TestSuite/Examples/Comment Examples.ipynb\n"
     ]
    },
    {
     "name": "stderr",
     "output_type": "stream",
     "text": [
      "/home/sysml/conda/lib/python3.12/site-packages/nbformat/__init__.py:96: MissingIDFieldWarning: Cell is missing an id field, this will become a hard error in future nbformat versions. You may want to use `normalize()` on your notebooks before validations (available since nbformat 5.1.4). Previous versions of nbformat are fixing this issue transparently, and will stop doing so in the future.\n",
      "  validate(nb)\n"
     ]
    },
    {
     "name": "stdout",
     "output_type": "stream",
     "text": [
      "Signing notebook: TestSuite/Examples/Mass Roll-up Example.ipynb\n"
     ]
    },
    {
     "name": "stderr",
     "output_type": "stream",
     "text": [
      "/home/sysml/conda/lib/python3.12/site-packages/nbformat/__init__.py:96: MissingIDFieldWarning: Cell is missing an id field, this will become a hard error in future nbformat versions. You may want to use `normalize()` on your notebooks before validations (available since nbformat 5.1.4). Previous versions of nbformat are fixing this issue transparently, and will stop doing so in the future.\n",
      "  validate(nb)\n"
     ]
    },
    {
     "name": "stdout",
     "output_type": "stream",
     "text": [
      "Signing notebook: TestSuite/Examples/Packet Example.ipynb\n"
     ]
    },
    {
     "name": "stderr",
     "output_type": "stream",
     "text": [
      "/home/sysml/conda/lib/python3.12/site-packages/nbformat/__init__.py:96: MissingIDFieldWarning: Cell is missing an id field, this will become a hard error in future nbformat versions. You may want to use `normalize()` on your notebooks before validations (available since nbformat 5.1.4). Previous versions of nbformat are fixing this issue transparently, and will stop doing so in the future.\n",
      "  validate(nb)\n"
     ]
    },
    {
     "name": "stdout",
     "output_type": "stream",
     "text": [
      "Signing notebook: TestSuite/Examples/Requirements Examples.ipynb\n"
     ]
    },
    {
     "name": "stderr",
     "output_type": "stream",
     "text": [
      "/home/sysml/conda/lib/python3.12/site-packages/nbformat/__init__.py:96: MissingIDFieldWarning: Cell is missing an id field, this will become a hard error in future nbformat versions. You may want to use `normalize()` on your notebooks before validations (available since nbformat 5.1.4). Previous versions of nbformat are fixing this issue transparently, and will stop doing so in the future.\n",
      "  validate(nb)\n"
     ]
    },
    {
     "name": "stdout",
     "output_type": "stream",
     "text": [
      "Signing notebook: TestSuite/Examples/Room Model.ipynb\n"
     ]
    },
    {
     "name": "stderr",
     "output_type": "stream",
     "text": [
      "/home/sysml/conda/lib/python3.12/site-packages/nbformat/__init__.py:96: MissingIDFieldWarning: Cell is missing an id field, this will become a hard error in future nbformat versions. You may want to use `normalize()` on your notebooks before validations (available since nbformat 5.1.4). Previous versions of nbformat are fixing this issue transparently, and will stop doing so in the future.\n",
      "  validate(nb)\n"
     ]
    },
    {
     "name": "stdout",
     "output_type": "stream",
     "text": [
      "Signing notebook: TestSuite/Examples/Variability Examples.ipynb\n"
     ]
    },
    {
     "name": "stdout",
     "output_type": "stream",
     "text": [
      "Signing notebook: TestSuite/Examples/Vehicle Example.ipynb\n"
     ]
    },
    {
     "name": "stderr",
     "output_type": "stream",
     "text": [
      "/home/sysml/conda/lib/python3.12/site-packages/nbformat/__init__.py:96: MissingIDFieldWarning: Cell is missing an id field, this will become a hard error in future nbformat versions. You may want to use `normalize()` on your notebooks before validations (available since nbformat 5.1.4). Previous versions of nbformat are fixing this issue transparently, and will stop doing so in the future.\n",
      "  validate(nb)\n"
     ]
    }
   ],
   "source": [
    "import json, re, os, subprocess\n",
    "from glob import glob\n",
    "\n",
    "subprocess.call(\"rm -fr TestSuite/Examples ; mkdir -p TestSuite/Examples\", shell=True)\n",
    "basedir = \"../../sysml/src/examples/\"\n",
    "\n",
    "examples = {\n",
    "    \"Analysis Examples\": [\n",
    "        \"AnalysisAnnotation.sysml\", \n",
    "        \"Dynamics.sysml\", \n",
    "        \"Turbojet Stage Analysis.sysml\", \n",
    "        \"Vehicle Analysis Demo.sysml\"\n",
    "    ],\n",
    "    \"Arrowhead Framework Example\": [\n",
    "        \"AHFProfileLib.sysml\",\n",
    "        \"AHFCoreLib.sysml\",  \n",
    "        \"AHFNorwayTopics.sysml\"\n",
    "    ],\n",
    "    \"Camera Example\": [\n",
    "        \"PictureTaking.sysml\",\n",
    "        \"Camera.sysml\"\n",
    "    ],\n",
    "    \"Comment Examples\": [\n",
    "        \"Comments.sysml\"\n",
    "    ],\n",
    "    \"Mass Roll-up Example\": [\n",
    "        \"MassConstraintExample.sysml\",\n",
    "        \"MassRollup.sysml\",\n",
    "        \"Vehicles.sysml\"\n",
    "    ],\n",
    "    \"Packet Example\": [\n",
    "        \"Packets.sysml\",\n",
    "        \"PacketUsage.sysml\"\n",
    "    ],\n",
    "    \"Requirements Examples\": [\n",
    "        \"HSUVRequirements.sysml\"\n",
    "    ],\n",
    "    \"Room Model\": [\n",
    "        \"RoomModel.sysml\"\n",
    "    ],\n",
    "    \"Variability Examples\": [\n",
    "        \"VehicleVariabilityModel.sysml\"\n",
    "    ],\n",
    "    \"Vehicle Example\": [\n",
    "        \"VehicleDefinitions.sysml\",\n",
    "        \"VehicleUsages.sysml\",\n",
    "        \"VehicleIndividuals.sysml\",\n",
    "    ],\n",
    "}\n",
    "\n",
    "for exmpldir in examples:\n",
    "    nbname = exmpldir + \".ipynb\"\n",
    "    nbcnt = empty_nb()\n",
    "\n",
    "    nbcnt[\"cells\"].append({\n",
    "        \"cell_type\": \"markdown\",\n",
    "        \"metadata\": {},\n",
    "        \"source\": \"## Base Example Directory: {}\".format(basedir + exmpldir)\n",
    "    })\n",
    "\n",
    "    for flname in examples[exmpldir]:\n",
    "        lnes = open(basedir + exmpldir + \"/\" + flname, \"r\").readlines()\n",
    "        nbcnt[\"cells\"].append({\n",
    "            \"cell_type\": \"markdown\",\n",
    "            \"metadata\": {},\n",
    "            \"source\": \"## File: {}\".format(flname)\n",
    "        })\n",
    "        nbcnt[\"cells\"].append({\n",
    "            \"cell_type\": \"code\",\n",
    "            \"execution_count\": 0,\n",
    "            \"metadata\": {},\n",
    "            \"outputs\": [],\n",
    "            \"source\": lnes\n",
    "        })\n",
    "\n",
    "    f = open(\"TestSuite/Examples/{}\".format(nbname),\"w+\")\n",
    "    f.write(json.dumps(nbcnt))\n",
    "    f.close()\n",
    "    \n",
    "    # to display data, i.e. svgs, need to trust the notebook.\n",
    "    subprocess.call(\"jupyter trust 'TestSuite/Examples/{}'\".format(nbname), shell=True)\n"
   ]
  },
  {
   "cell_type": "markdown",
   "id": "01cc2723",
   "metadata": {},
   "source": [
    "## Execute Test Suite\n",
    "\n",
    "Having generated the test suite from the test SysML files, run through all the notebooks and execute them all. Replace the notebooks with the output."
   ]
  },
  {
   "cell_type": "code",
   "execution_count": 3,
   "id": "827a6ee9",
   "metadata": {
    "execution": {
     "iopub.execute_input": "2024-12-16T03:21:01.977736Z",
     "iopub.status.busy": "2024-12-16T03:21:01.977599Z",
     "iopub.status.idle": "2024-12-16T03:30:10.724941Z",
     "shell.execute_reply": "2024-12-16T03:30:10.724436Z"
    }
   },
   "outputs": [
    {
     "name": "stdout",
     "output_type": "stream",
     "text": [
      "Executing: KernelMagic.ipynb\n"
     ]
    },
    {
     "name": "stdout",
     "output_type": "stream",
     "text": [
      "Reading /home/sysml/conda/share/jupyter/kernels/sysml/sysml.library/Kernel Libraries/Kernel Semantic Library/Observation.kerml...\n"
     ]
    },
    {
     "name": "stderr",
     "output_type": "stream",
     "text": [
      "log4j:WARN No appenders could be found for logger (org.eclipse.xtext.parser.antlr.AbstractInternalAntlrParser).\n",
      "log4j:WARN Please initialize the log4j system properly.\n",
      "log4j:WARN See http://logging.apache.org/log4j/1.2/faq.html#noconfig for more info.\n"
     ]
    },
    {
     "name": "stdout",
     "output_type": "stream",
     "text": [
      "Reading /home/sysml/conda/share/jupyter/kernels/sysml/sysml.library/Kernel Libraries/Kernel Semantic Library/Transfers.kerml...\n",
      "Reading /home/sysml/conda/share/jupyter/kernels/sysml/sysml.library/Kernel Libraries/Kernel Semantic Library/Metaobjects.kerml...\n",
      "Reading /home/sysml/conda/share/jupyter/kernels/sysml/sysml.library/Kernel Libraries/Kernel Semantic Library/Triggers.kerml...\n",
      "Reading /home/sysml/conda/share/jupyter/kernels/sysml/sysml.library/Kernel Libraries/Kernel Semantic Library/Links.kerml...\n",
      "Reading /home/sysml/conda/share/jupyter/kernels/sysml/sysml.library/Kernel Libraries/Kernel Semantic Library/Base.kerml...\n",
      "Reading /home/sysml/conda/share/jupyter/kernels/sysml/sysml.library/Kernel Libraries/Kernel Semantic Library/Objects.kerml...\n",
      "Reading /home/sysml/conda/share/jupyter/kernels/sysml/sysml.library/Kernel Libraries/Kernel Semantic Library/Clocks.kerml...\n",
      "Reading /home/sysml/conda/share/jupyter/kernels/sysml/sysml.library/Kernel Libraries/Kernel Semantic Library/KerML.kerml...\n"
     ]
    },
    {
     "name": "stdout",
     "output_type": "stream",
     "text": [
      "Reading /home/sysml/conda/share/jupyter/kernels/sysml/sysml.library/Kernel Libraries/Kernel Semantic Library/FeatureReferencingPerformances.kerml...\n",
      "Reading /home/sysml/conda/share/jupyter/kernels/sysml/sysml.library/Kernel Libraries/Kernel Semantic Library/Performances.kerml...\n",
      "Reading /home/sysml/conda/share/jupyter/kernels/sysml/sysml.library/Kernel Libraries/Kernel Semantic Library/Occurrences.kerml...\n",
      "Reading /home/sysml/conda/share/jupyter/kernels/sysml/sysml.library/Kernel Libraries/Kernel Semantic Library/ControlPerformances.kerml...\n",
      "Reading /home/sysml/conda/share/jupyter/kernels/sysml/sysml.library/Kernel Libraries/Kernel Semantic Library/StatePerformances.kerml...\n",
      "Reading /home/sysml/conda/share/jupyter/kernels/sysml/sysml.library/Kernel Libraries/Kernel Semantic Library/TransitionPerformances.kerml...\n",
      "Reading /home/sysml/conda/share/jupyter/kernels/sysml/sysml.library/Kernel Libraries/Kernel Semantic Library/SpatialFrames.kerml...\n",
      "Reading /home/sysml/conda/share/jupyter/kernels/sysml/sysml.library/Kernel Libraries/Kernel Data Type Library/VectorValues.kerml...\n",
      "Reading /home/sysml/conda/share/jupyter/kernels/sysml/sysml.library/Kernel Libraries/Kernel Data Type Library/Collections.kerml...\n",
      "Reading /home/sysml/conda/share/jupyter/kernels/sysml/sysml.library/Kernel Libraries/Kernel Data Type Library/ScalarValues.kerml...\n",
      "Reading /home/sysml/conda/share/jupyter/kernels/sysml/sysml.library/Kernel Libraries/Kernel Function Library/NaturalFunctions.kerml...\n",
      "Reading /home/sysml/conda/share/jupyter/kernels/sysml/sysml.library/Kernel Libraries/Kernel Function Library/BaseFunctions.kerml...\n"
     ]
    },
    {
     "name": "stdout",
     "output_type": "stream",
     "text": [
      "Reading /home/sysml/conda/share/jupyter/kernels/sysml/sysml.library/Kernel Libraries/Kernel Function Library/DataFunctions.kerml...\n",
      "Reading /home/sysml/conda/share/jupyter/kernels/sysml/sysml.library/Kernel Libraries/Kernel Function Library/IntegerFunctions.kerml...\n",
      "Reading /home/sysml/conda/share/jupyter/kernels/sysml/sysml.library/Kernel Libraries/Kernel Function Library/RealFunctions.kerml...\n",
      "Reading /home/sysml/conda/share/jupyter/kernels/sysml/sysml.library/Kernel Libraries/Kernel Function Library/NumericalFunctions.kerml...\n",
      "Reading /home/sysml/conda/share/jupyter/kernels/sysml/sysml.library/Kernel Libraries/Kernel Function Library/VectorFunctions.kerml...\n",
      "Reading /home/sysml/conda/share/jupyter/kernels/sysml/sysml.library/Kernel Libraries/Kernel Function Library/SequenceFunctions.kerml...\n",
      "Reading /home/sysml/conda/share/jupyter/kernels/sysml/sysml.library/Kernel Libraries/Kernel Function Library/ComplexFunctions.kerml...\n",
      "Reading /home/sysml/conda/share/jupyter/kernels/sysml/sysml.library/Kernel Libraries/Kernel Function Library/RationalFunctions.kerml...\n",
      "Reading /home/sysml/conda/share/jupyter/kernels/sysml/sysml.library/Kernel Libraries/Kernel Function Library/StringFunctions.kerml...\n",
      "Reading /home/sysml/conda/share/jupyter/kernels/sysml/sysml.library/Kernel Libraries/Kernel Function Library/ScalarFunctions.kerml...\n",
      "Reading /home/sysml/conda/share/jupyter/kernels/sysml/sysml.library/Kernel Libraries/Kernel Function Library/CollectionFunctions.kerml...\n",
      "Reading /home/sysml/conda/share/jupyter/kernels/sysml/sysml.library/Kernel Libraries/Kernel Function Library/BooleanFunctions.kerml...\n",
      "Reading /home/sysml/conda/share/jupyter/kernels/sysml/sysml.library/Kernel Libraries/Kernel Function Library/OccurrenceFunctions.kerml...\n",
      "Reading /home/sysml/conda/share/jupyter/kernels/sysml/sysml.library/Kernel Libraries/Kernel Function Library/TrigFunctions.kerml...\n",
      "Reading /home/sysml/conda/share/jupyter/kernels/sysml/sysml.library/Kernel Libraries/Kernel Function Library/ControlFunctions.kerml...\n",
      "Reading /home/sysml/conda/share/jupyter/kernels/sysml/sysml.library/Systems Library/Connections.sysml...\n"
     ]
    },
    {
     "name": "stdout",
     "output_type": "stream",
     "text": [
      "Reading /home/sysml/conda/share/jupyter/kernels/sysml/sysml.library/Systems Library/States.sysml...\n",
      "Reading /home/sysml/conda/share/jupyter/kernels/sysml/sysml.library/Systems Library/Actions.sysml...\n",
      "Reading /home/sysml/conda/share/jupyter/kernels/sysml/sysml.library/Systems Library/Metadata.sysml...\n",
      "Reading /home/sysml/conda/share/jupyter/kernels/sysml/sysml.library/Systems Library/Requirements.sysml...\n",
      "Reading /home/sysml/conda/share/jupyter/kernels/sysml/sysml.library/Systems Library/AnalysisCases.sysml...\n",
      "Reading /home/sysml/conda/share/jupyter/kernels/sysml/sysml.library/Systems Library/Attributes.sysml...\n",
      "Reading /home/sysml/conda/share/jupyter/kernels/sysml/sysml.library/Systems Library/Cases.sysml...\n",
      "Reading /home/sysml/conda/share/jupyter/kernels/sysml/sysml.library/Systems Library/VerificationCases.sysml...\n",
      "Reading /home/sysml/conda/share/jupyter/kernels/sysml/sysml.library/Systems Library/Interfaces.sysml...\n",
      "Reading /home/sysml/conda/share/jupyter/kernels/sysml/sysml.library/Systems Library/Ports.sysml...\n",
      "Reading /home/sysml/conda/share/jupyter/kernels/sysml/sysml.library/Systems Library/Views.sysml...\n",
      "Reading /home/sysml/conda/share/jupyter/kernels/sysml/sysml.library/Systems Library/UseCases.sysml...\n",
      "Reading /home/sysml/conda/share/jupyter/kernels/sysml/sysml.library/Systems Library/Parts.sysml...\n",
      "Reading /home/sysml/conda/share/jupyter/kernels/sysml/sysml.library/Systems Library/SysML.sysml...\n",
      "Reading /home/sysml/conda/share/jupyter/kernels/sysml/sysml.library/Systems Library/Constraints.sysml...\n",
      "Reading /home/sysml/conda/share/jupyter/kernels/sysml/sysml.library/Systems Library/Items.sysml...\n"
     ]
    },
    {
     "name": "stdout",
     "output_type": "stream",
     "text": [
      "Reading /home/sysml/conda/share/jupyter/kernels/sysml/sysml.library/Systems Library/Calculations.sysml...\n",
      "Reading /home/sysml/conda/share/jupyter/kernels/sysml/sysml.library/Systems Library/StandardViewDefinitions.sysml...\n",
      "Reading /home/sysml/conda/share/jupyter/kernels/sysml/sysml.library/Systems Library/Allocations.sysml...\n",
      "Reading /home/sysml/conda/share/jupyter/kernels/sysml/sysml.library/Domain Libraries/Geometry/SpatialItems.sysml...\n",
      "Reading /home/sysml/conda/share/jupyter/kernels/sysml/sysml.library/Domain Libraries/Geometry/ShapeItems.sysml...\n",
      "Reading /home/sysml/conda/share/jupyter/kernels/sysml/sysml.library/Domain Libraries/Analysis/TradeStudies.sysml...\n",
      "Reading /home/sysml/conda/share/jupyter/kernels/sysml/sysml.library/Domain Libraries/Analysis/StateSpaceRepresentation.sysml...\n",
      "Reading /home/sysml/conda/share/jupyter/kernels/sysml/sysml.library/Domain Libraries/Analysis/SampledFunctions.sysml...\n",
      "Reading /home/sysml/conda/share/jupyter/kernels/sysml/sysml.library/Domain Libraries/Analysis/AnalysisTooling.sysml...\n",
      "Reading /home/sysml/conda/share/jupyter/kernels/sysml/sysml.library/Domain Libraries/Cause and Effect/CausationConnections.sysml...\n",
      "Reading /home/sysml/conda/share/jupyter/kernels/sysml/sysml.library/Domain Libraries/Cause and Effect/CauseAndEffect.sysml...\n",
      "Reading /home/sysml/conda/share/jupyter/kernels/sysml/sysml.library/Domain Libraries/Quantities and Units/TensorCalculations.sysml...\n",
      "Reading /home/sysml/conda/share/jupyter/kernels/sysml/sysml.library/Domain Libraries/Quantities and Units/ISQSpaceTime.sysml...\n",
      "Reading /home/sysml/conda/share/jupyter/kernels/sysml/sysml.library/Domain Libraries/Quantities and Units/ISQElectromagnetism.sysml...\n"
     ]
    },
    {
     "name": "stdout",
     "output_type": "stream",
     "text": [
      "Reading /home/sysml/conda/share/jupyter/kernels/sysml/sysml.library/Domain Libraries/Quantities and Units/USCustomaryUnits.sysml...\n",
      "Reading /home/sysml/conda/share/jupyter/kernels/sysml/sysml.library/Domain Libraries/Quantities and Units/Time.sysml...\n",
      "Reading /home/sysml/conda/share/jupyter/kernels/sysml/sysml.library/Domain Libraries/Quantities and Units/MeasurementReferences.sysml...\n",
      "Reading /home/sysml/conda/share/jupyter/kernels/sysml/sysml.library/Domain Libraries/Quantities and Units/ISQBase.sysml...\n",
      "Reading /home/sysml/conda/share/jupyter/kernels/sysml/sysml.library/Domain Libraries/Quantities and Units/ISQCondensedMatter.sysml...\n",
      "Reading /home/sysml/conda/share/jupyter/kernels/sysml/sysml.library/Domain Libraries/Quantities and Units/ISQMechanics.sysml...\n",
      "Reading /home/sysml/conda/share/jupyter/kernels/sysml/sysml.library/Domain Libraries/Quantities and Units/SI.sysml...\n",
      "Reading /home/sysml/conda/share/jupyter/kernels/sysml/sysml.library/Domain Libraries/Quantities and Units/ISQCharacteristicNumbers.sysml...\n"
     ]
    },
    {
     "name": "stdout",
     "output_type": "stream",
     "text": [
      "Reading /home/sysml/conda/share/jupyter/kernels/sysml/sysml.library/Domain Libraries/Quantities and Units/QuantityCalculations.sysml...\n",
      "Reading /home/sysml/conda/share/jupyter/kernels/sysml/sysml.library/Domain Libraries/Quantities and Units/MeasurementRefCalculations.sysml...\n",
      "Reading /home/sysml/conda/share/jupyter/kernels/sysml/sysml.library/Domain Libraries/Quantities and Units/ISQAtomicNuclear.sysml...\n",
      "Reading /home/sysml/conda/share/jupyter/kernels/sysml/sysml.library/Domain Libraries/Quantities and Units/ISQ.sysml...\n",
      "Reading /home/sysml/conda/share/jupyter/kernels/sysml/sysml.library/Domain Libraries/Quantities and Units/ISQAcoustics.sysml...\n",
      "Reading /home/sysml/conda/share/jupyter/kernels/sysml/sysml.library/Domain Libraries/Quantities and Units/ISQLight.sysml...\n",
      "Reading /home/sysml/conda/share/jupyter/kernels/sysml/sysml.library/Domain Libraries/Quantities and Units/ISQInformation.sysml...\n",
      "Reading /home/sysml/conda/share/jupyter/kernels/sysml/sysml.library/Domain Libraries/Quantities and Units/ISQThermodynamics.sysml...\n",
      "Reading /home/sysml/conda/share/jupyter/kernels/sysml/sysml.library/Domain Libraries/Quantities and Units/SIPrefixes.sysml...\n",
      "Reading /home/sysml/conda/share/jupyter/kernels/sysml/sysml.library/Domain Libraries/Quantities and Units/VectorCalculations.sysml...\n",
      "Reading /home/sysml/conda/share/jupyter/kernels/sysml/sysml.library/Domain Libraries/Quantities and Units/ISQChemistryMolecular.sysml...\n"
     ]
    },
    {
     "name": "stdout",
     "output_type": "stream",
     "text": [
      "Reading /home/sysml/conda/share/jupyter/kernels/sysml/sysml.library/Domain Libraries/Quantities and Units/Quantities.sysml...\n",
      "Reading /home/sysml/conda/share/jupyter/kernels/sysml/sysml.library/Domain Libraries/Metadata/ImageMetadata.sysml...\n",
      "Reading /home/sysml/conda/share/jupyter/kernels/sysml/sysml.library/Domain Libraries/Metadata/ModelingMetadata.sysml...\n",
      "Reading /home/sysml/conda/share/jupyter/kernels/sysml/sysml.library/Domain Libraries/Metadata/ParametersOfInterestMetadata.sysml...\n",
      "Reading /home/sysml/conda/share/jupyter/kernels/sysml/sysml.library/Domain Libraries/Metadata/RiskMetadata.sysml...\n",
      "Reading /home/sysml/conda/share/jupyter/kernels/sysml/sysml.library/Domain Libraries/Requirement Derivation/RequirementDerivation.sysml...\n",
      "Reading /home/sysml/conda/share/jupyter/kernels/sysml/sysml.library/Domain Libraries/Requirement Derivation/DerivationConnections.sysml...\n"
     ]
    },
    {
     "name": "stderr",
     "output_type": "stream",
     "text": [
      "Dec 16, 2024 3:21:06 AM io.github.spencerpark.jupyter.channels.Loop start\n",
      "INFO: Loop starting...\n",
      "Dec 16, 2024 3:21:06 AM io.github.spencerpark.jupyter.channels.Loop start\n",
      "INFO: Loop started.\n",
      "Dec 16, 2024 3:21:06 AM io.github.spencerpark.jupyter.channels.Loop start\n",
      "INFO: Loop starting...\n",
      "Dec 16, 2024 3:21:06 AM io.github.spencerpark.jupyter.channels.Loop start\n",
      "INFO: Loop started.\n",
      "Dec 16, 2024 3:21:06 AM io.github.spencerpark.jupyter.channels.Loop start\n",
      "INFO: Loop starting...\n",
      "Dec 16, 2024 3:21:06 AM io.github.spencerpark.jupyter.channels.Loop start\n",
      "INFO: Loop started.\n"
     ]
    },
    {
     "name": "stderr",
     "output_type": "stream",
     "text": [
      "Dec 16, 2024 3:22:23 AM io.github.spencerpark.jupyter.channels.Loop shutdown\n",
      "INFO: Loop shutdown.\n",
      "Dec 16, 2024 3:22:23 AM io.github.spencerpark.jupyter.channels.Loop shutdown\n",
      "INFO: Loop shutdown.\n",
      "Dec 16, 2024 3:22:23 AM io.github.spencerpark.jupyter.channels.Loop shutdown\n",
      "INFO: Loop shutdown.\n",
      "Dec 16, 2024 3:22:23 AM io.github.spencerpark.jupyter.channels.Loop run\n",
      "INFO: Running loop shutdown callback.\n",
      "Dec 16, 2024 3:22:23 AM io.github.spencerpark.jupyter.channels.Loop run\n",
      "INFO: Loop stopped.\n",
      "Dec 16, 2024 3:22:23 AM io.github.spencerpark.jupyter.channels.Loop run\n",
      "INFO: Running loop shutdown callback.\n",
      "Dec 16, 2024 3:22:23 AM io.github.spencerpark.jupyter.channels.Loop run\n",
      "INFO: Loop stopped.\n"
     ]
    },
    {
     "name": "stderr",
     "output_type": "stream",
     "text": [
      "Dec 16, 2024 3:22:23 AM io.github.spencerpark.jupyter.channels.Loop run\n",
      "INFO: Running loop shutdown callback.\n",
      "Dec 16, 2024 3:22:23 AM io.github.spencerpark.jupyter.channels.Loop run\n",
      "INFO: Loop stopped.\n"
     ]
    },
    {
     "name": "stdout",
     "output_type": "stream",
     "text": [
      "Signing notebook: KernelMagic.ipynb\n",
      "Executing: SysML - Decision Example.ipynb\n"
     ]
    },
    {
     "name": "stdout",
     "output_type": "stream",
     "text": [
      "Reading /home/sysml/conda/share/jupyter/kernels/sysml/sysml.library/Kernel Libraries/Kernel Semantic Library/Observation.kerml...\n"
     ]
    },
    {
     "name": "stderr",
     "output_type": "stream",
     "text": [
      "log4j:WARN No appenders could be found for logger (org.eclipse.xtext.parser.antlr.AbstractInternalAntlrParser).\n",
      "log4j:WARN Please initialize the log4j system properly.\n",
      "log4j:WARN See http://logging.apache.org/log4j/1.2/faq.html#noconfig for more info.\n"
     ]
    },
    {
     "name": "stdout",
     "output_type": "stream",
     "text": [
      "Reading /home/sysml/conda/share/jupyter/kernels/sysml/sysml.library/Kernel Libraries/Kernel Semantic Library/Transfers.kerml...\n",
      "Reading /home/sysml/conda/share/jupyter/kernels/sysml/sysml.library/Kernel Libraries/Kernel Semantic Library/Metaobjects.kerml...\n",
      "Reading /home/sysml/conda/share/jupyter/kernels/sysml/sysml.library/Kernel Libraries/Kernel Semantic Library/Triggers.kerml...\n",
      "Reading /home/sysml/conda/share/jupyter/kernels/sysml/sysml.library/Kernel Libraries/Kernel Semantic Library/Links.kerml...\n",
      "Reading /home/sysml/conda/share/jupyter/kernels/sysml/sysml.library/Kernel Libraries/Kernel Semantic Library/Base.kerml...\n",
      "Reading /home/sysml/conda/share/jupyter/kernels/sysml/sysml.library/Kernel Libraries/Kernel Semantic Library/Objects.kerml...\n",
      "Reading /home/sysml/conda/share/jupyter/kernels/sysml/sysml.library/Kernel Libraries/Kernel Semantic Library/Clocks.kerml...\n",
      "Reading /home/sysml/conda/share/jupyter/kernels/sysml/sysml.library/Kernel Libraries/Kernel Semantic Library/KerML.kerml...\n"
     ]
    },
    {
     "name": "stdout",
     "output_type": "stream",
     "text": [
      "Reading /home/sysml/conda/share/jupyter/kernels/sysml/sysml.library/Kernel Libraries/Kernel Semantic Library/FeatureReferencingPerformances.kerml...\n",
      "Reading /home/sysml/conda/share/jupyter/kernels/sysml/sysml.library/Kernel Libraries/Kernel Semantic Library/Performances.kerml...\n",
      "Reading /home/sysml/conda/share/jupyter/kernels/sysml/sysml.library/Kernel Libraries/Kernel Semantic Library/Occurrences.kerml...\n",
      "Reading /home/sysml/conda/share/jupyter/kernels/sysml/sysml.library/Kernel Libraries/Kernel Semantic Library/ControlPerformances.kerml...\n",
      "Reading /home/sysml/conda/share/jupyter/kernels/sysml/sysml.library/Kernel Libraries/Kernel Semantic Library/StatePerformances.kerml...\n",
      "Reading /home/sysml/conda/share/jupyter/kernels/sysml/sysml.library/Kernel Libraries/Kernel Semantic Library/TransitionPerformances.kerml...\n",
      "Reading /home/sysml/conda/share/jupyter/kernels/sysml/sysml.library/Kernel Libraries/Kernel Semantic Library/SpatialFrames.kerml...\n",
      "Reading /home/sysml/conda/share/jupyter/kernels/sysml/sysml.library/Kernel Libraries/Kernel Data Type Library/VectorValues.kerml...\n",
      "Reading /home/sysml/conda/share/jupyter/kernels/sysml/sysml.library/Kernel Libraries/Kernel Data Type Library/Collections.kerml...\n",
      "Reading /home/sysml/conda/share/jupyter/kernels/sysml/sysml.library/Kernel Libraries/Kernel Data Type Library/ScalarValues.kerml...\n",
      "Reading /home/sysml/conda/share/jupyter/kernels/sysml/sysml.library/Kernel Libraries/Kernel Function Library/NaturalFunctions.kerml...\n",
      "Reading /home/sysml/conda/share/jupyter/kernels/sysml/sysml.library/Kernel Libraries/Kernel Function Library/BaseFunctions.kerml...\n",
      "Reading /home/sysml/conda/share/jupyter/kernels/sysml/sysml.library/Kernel Libraries/Kernel Function Library/DataFunctions.kerml...\n",
      "Reading /home/sysml/conda/share/jupyter/kernels/sysml/sysml.library/Kernel Libraries/Kernel Function Library/IntegerFunctions.kerml...\n",
      "Reading /home/sysml/conda/share/jupyter/kernels/sysml/sysml.library/Kernel Libraries/Kernel Function Library/RealFunctions.kerml...\n",
      "Reading /home/sysml/conda/share/jupyter/kernels/sysml/sysml.library/Kernel Libraries/Kernel Function Library/NumericalFunctions.kerml...\n"
     ]
    },
    {
     "name": "stdout",
     "output_type": "stream",
     "text": [
      "Reading /home/sysml/conda/share/jupyter/kernels/sysml/sysml.library/Kernel Libraries/Kernel Function Library/VectorFunctions.kerml...\n",
      "Reading /home/sysml/conda/share/jupyter/kernels/sysml/sysml.library/Kernel Libraries/Kernel Function Library/SequenceFunctions.kerml...\n",
      "Reading /home/sysml/conda/share/jupyter/kernels/sysml/sysml.library/Kernel Libraries/Kernel Function Library/ComplexFunctions.kerml...\n",
      "Reading /home/sysml/conda/share/jupyter/kernels/sysml/sysml.library/Kernel Libraries/Kernel Function Library/RationalFunctions.kerml...\n",
      "Reading /home/sysml/conda/share/jupyter/kernels/sysml/sysml.library/Kernel Libraries/Kernel Function Library/StringFunctions.kerml...\n",
      "Reading /home/sysml/conda/share/jupyter/kernels/sysml/sysml.library/Kernel Libraries/Kernel Function Library/ScalarFunctions.kerml...\n",
      "Reading /home/sysml/conda/share/jupyter/kernels/sysml/sysml.library/Kernel Libraries/Kernel Function Library/CollectionFunctions.kerml...\n",
      "Reading /home/sysml/conda/share/jupyter/kernels/sysml/sysml.library/Kernel Libraries/Kernel Function Library/BooleanFunctions.kerml...\n",
      "Reading /home/sysml/conda/share/jupyter/kernels/sysml/sysml.library/Kernel Libraries/Kernel Function Library/OccurrenceFunctions.kerml...\n",
      "Reading /home/sysml/conda/share/jupyter/kernels/sysml/sysml.library/Kernel Libraries/Kernel Function Library/TrigFunctions.kerml...\n",
      "Reading /home/sysml/conda/share/jupyter/kernels/sysml/sysml.library/Kernel Libraries/Kernel Function Library/ControlFunctions.kerml...\n",
      "Reading /home/sysml/conda/share/jupyter/kernels/sysml/sysml.library/Systems Library/Connections.sysml...\n"
     ]
    },
    {
     "name": "stdout",
     "output_type": "stream",
     "text": [
      "Reading /home/sysml/conda/share/jupyter/kernels/sysml/sysml.library/Systems Library/States.sysml...\n",
      "Reading /home/sysml/conda/share/jupyter/kernels/sysml/sysml.library/Systems Library/Actions.sysml...\n",
      "Reading /home/sysml/conda/share/jupyter/kernels/sysml/sysml.library/Systems Library/Metadata.sysml...\n",
      "Reading /home/sysml/conda/share/jupyter/kernels/sysml/sysml.library/Systems Library/Requirements.sysml...\n",
      "Reading /home/sysml/conda/share/jupyter/kernels/sysml/sysml.library/Systems Library/AnalysisCases.sysml...\n",
      "Reading /home/sysml/conda/share/jupyter/kernels/sysml/sysml.library/Systems Library/Attributes.sysml...\n",
      "Reading /home/sysml/conda/share/jupyter/kernels/sysml/sysml.library/Systems Library/Cases.sysml...\n",
      "Reading /home/sysml/conda/share/jupyter/kernels/sysml/sysml.library/Systems Library/VerificationCases.sysml...\n",
      "Reading /home/sysml/conda/share/jupyter/kernels/sysml/sysml.library/Systems Library/Interfaces.sysml...\n",
      "Reading /home/sysml/conda/share/jupyter/kernels/sysml/sysml.library/Systems Library/Ports.sysml...\n",
      "Reading /home/sysml/conda/share/jupyter/kernels/sysml/sysml.library/Systems Library/Views.sysml...\n",
      "Reading /home/sysml/conda/share/jupyter/kernels/sysml/sysml.library/Systems Library/UseCases.sysml...\n",
      "Reading /home/sysml/conda/share/jupyter/kernels/sysml/sysml.library/Systems Library/Parts.sysml...\n",
      "Reading /home/sysml/conda/share/jupyter/kernels/sysml/sysml.library/Systems Library/SysML.sysml...\n",
      "Reading /home/sysml/conda/share/jupyter/kernels/sysml/sysml.library/Systems Library/Constraints.sysml...\n",
      "Reading /home/sysml/conda/share/jupyter/kernels/sysml/sysml.library/Systems Library/Items.sysml...\n",
      "Reading /home/sysml/conda/share/jupyter/kernels/sysml/sysml.library/Systems Library/Calculations.sysml...\n"
     ]
    },
    {
     "name": "stdout",
     "output_type": "stream",
     "text": [
      "Reading /home/sysml/conda/share/jupyter/kernels/sysml/sysml.library/Systems Library/StandardViewDefinitions.sysml...\n",
      "Reading /home/sysml/conda/share/jupyter/kernels/sysml/sysml.library/Systems Library/Allocations.sysml...\n",
      "Reading /home/sysml/conda/share/jupyter/kernels/sysml/sysml.library/Domain Libraries/Geometry/SpatialItems.sysml...\n",
      "Reading /home/sysml/conda/share/jupyter/kernels/sysml/sysml.library/Domain Libraries/Geometry/ShapeItems.sysml...\n",
      "Reading /home/sysml/conda/share/jupyter/kernels/sysml/sysml.library/Domain Libraries/Analysis/TradeStudies.sysml...\n",
      "Reading /home/sysml/conda/share/jupyter/kernels/sysml/sysml.library/Domain Libraries/Analysis/StateSpaceRepresentation.sysml...\n",
      "Reading /home/sysml/conda/share/jupyter/kernels/sysml/sysml.library/Domain Libraries/Analysis/SampledFunctions.sysml...\n",
      "Reading /home/sysml/conda/share/jupyter/kernels/sysml/sysml.library/Domain Libraries/Analysis/AnalysisTooling.sysml...\n",
      "Reading /home/sysml/conda/share/jupyter/kernels/sysml/sysml.library/Domain Libraries/Cause and Effect/CausationConnections.sysml...\n",
      "Reading /home/sysml/conda/share/jupyter/kernels/sysml/sysml.library/Domain Libraries/Cause and Effect/CauseAndEffect.sysml...\n",
      "Reading /home/sysml/conda/share/jupyter/kernels/sysml/sysml.library/Domain Libraries/Quantities and Units/TensorCalculations.sysml...\n",
      "Reading /home/sysml/conda/share/jupyter/kernels/sysml/sysml.library/Domain Libraries/Quantities and Units/ISQSpaceTime.sysml...\n",
      "Reading /home/sysml/conda/share/jupyter/kernels/sysml/sysml.library/Domain Libraries/Quantities and Units/ISQElectromagnetism.sysml...\n"
     ]
    },
    {
     "name": "stdout",
     "output_type": "stream",
     "text": [
      "Reading /home/sysml/conda/share/jupyter/kernels/sysml/sysml.library/Domain Libraries/Quantities and Units/USCustomaryUnits.sysml...\n",
      "Reading /home/sysml/conda/share/jupyter/kernels/sysml/sysml.library/Domain Libraries/Quantities and Units/Time.sysml...\n",
      "Reading /home/sysml/conda/share/jupyter/kernels/sysml/sysml.library/Domain Libraries/Quantities and Units/MeasurementReferences.sysml...\n",
      "Reading /home/sysml/conda/share/jupyter/kernels/sysml/sysml.library/Domain Libraries/Quantities and Units/ISQBase.sysml...\n",
      "Reading /home/sysml/conda/share/jupyter/kernels/sysml/sysml.library/Domain Libraries/Quantities and Units/ISQCondensedMatter.sysml...\n",
      "Reading /home/sysml/conda/share/jupyter/kernels/sysml/sysml.library/Domain Libraries/Quantities and Units/ISQMechanics.sysml...\n",
      "Reading /home/sysml/conda/share/jupyter/kernels/sysml/sysml.library/Domain Libraries/Quantities and Units/SI.sysml...\n",
      "Reading /home/sysml/conda/share/jupyter/kernels/sysml/sysml.library/Domain Libraries/Quantities and Units/ISQCharacteristicNumbers.sysml...\n",
      "Reading /home/sysml/conda/share/jupyter/kernels/sysml/sysml.library/Domain Libraries/Quantities and Units/QuantityCalculations.sysml...\n",
      "Reading /home/sysml/conda/share/jupyter/kernels/sysml/sysml.library/Domain Libraries/Quantities and Units/MeasurementRefCalculations.sysml...\n",
      "Reading /home/sysml/conda/share/jupyter/kernels/sysml/sysml.library/Domain Libraries/Quantities and Units/ISQAtomicNuclear.sysml...\n"
     ]
    },
    {
     "name": "stdout",
     "output_type": "stream",
     "text": [
      "Reading /home/sysml/conda/share/jupyter/kernels/sysml/sysml.library/Domain Libraries/Quantities and Units/ISQ.sysml...\n",
      "Reading /home/sysml/conda/share/jupyter/kernels/sysml/sysml.library/Domain Libraries/Quantities and Units/ISQAcoustics.sysml...\n",
      "Reading /home/sysml/conda/share/jupyter/kernels/sysml/sysml.library/Domain Libraries/Quantities and Units/ISQLight.sysml...\n",
      "Reading /home/sysml/conda/share/jupyter/kernels/sysml/sysml.library/Domain Libraries/Quantities and Units/ISQInformation.sysml...\n",
      "Reading /home/sysml/conda/share/jupyter/kernels/sysml/sysml.library/Domain Libraries/Quantities and Units/ISQThermodynamics.sysml...\n",
      "Reading /home/sysml/conda/share/jupyter/kernels/sysml/sysml.library/Domain Libraries/Quantities and Units/SIPrefixes.sysml...\n",
      "Reading /home/sysml/conda/share/jupyter/kernels/sysml/sysml.library/Domain Libraries/Quantities and Units/VectorCalculations.sysml...\n",
      "Reading /home/sysml/conda/share/jupyter/kernels/sysml/sysml.library/Domain Libraries/Quantities and Units/ISQChemistryMolecular.sysml...\n",
      "Reading /home/sysml/conda/share/jupyter/kernels/sysml/sysml.library/Domain Libraries/Quantities and Units/Quantities.sysml...\n",
      "Reading /home/sysml/conda/share/jupyter/kernels/sysml/sysml.library/Domain Libraries/Metadata/ImageMetadata.sysml...\n",
      "Reading /home/sysml/conda/share/jupyter/kernels/sysml/sysml.library/Domain Libraries/Metadata/ModelingMetadata.sysml...\n",
      "Reading /home/sysml/conda/share/jupyter/kernels/sysml/sysml.library/Domain Libraries/Metadata/ParametersOfInterestMetadata.sysml...\n",
      "Reading /home/sysml/conda/share/jupyter/kernels/sysml/sysml.library/Domain Libraries/Metadata/RiskMetadata.sysml...\n",
      "Reading /home/sysml/conda/share/jupyter/kernels/sysml/sysml.library/Domain Libraries/Requirement Derivation/RequirementDerivation.sysml...\n",
      "Reading /home/sysml/conda/share/jupyter/kernels/sysml/sysml.library/Domain Libraries/Requirement Derivation/DerivationConnections.sysml...\n"
     ]
    },
    {
     "name": "stderr",
     "output_type": "stream",
     "text": [
      "Dec 16, 2024 3:22:27 AM io.github.spencerpark.jupyter.channels.Loop start\n",
      "INFO: Loop starting...\n",
      "Dec 16, 2024 3:22:27 AM io.github.spencerpark.jupyter.channels.Loop start\n",
      "INFO: Loop started.\n",
      "Dec 16, 2024 3:22:27 AM io.github.spencerpark.jupyter.channels.Loop start\n",
      "INFO: Loop starting...\n",
      "Dec 16, 2024 3:22:27 AM io.github.spencerpark.jupyter.channels.Loop start\n",
      "INFO: Loop started.\n",
      "Dec 16, 2024 3:22:27 AM io.github.spencerpark.jupyter.channels.Loop start\n",
      "INFO: Loop starting...\n",
      "Dec 16, 2024 3:22:27 AM io.github.spencerpark.jupyter.channels.Loop start\n",
      "INFO: Loop started.\n"
     ]
    },
    {
     "name": "stderr",
     "output_type": "stream",
     "text": [
      "Dec 16, 2024 3:22:28 AM io.github.spencerpark.jupyter.channels.Loop shutdown\n",
      "INFO: Loop shutdown.\n",
      "Dec 16, 2024 3:22:28 AM io.github.spencerpark.jupyter.channels.Loop shutdown\n",
      "INFO: Loop shutdown.\n",
      "Dec 16, 2024 3:22:28 AM io.github.spencerpark.jupyter.channels.Loop shutdown\n",
      "INFO: Loop shutdown.\n",
      "Dec 16, 2024 3:22:29 AM io.github.spencerpark.jupyter.channels.Loop run\n",
      "INFO: Running loop shutdown callback.\n",
      "Dec 16, 2024 3:22:29 AM io.github.spencerpark.jupyter.channels.Loop run\n",
      "INFO: Loop stopped.\n",
      "Dec 16, 2024 3:22:29 AM io.github.spencerpark.jupyter.channels.Loop run\n",
      "INFO: Running loop shutdown callback.\n",
      "Dec 16, 2024 3:22:29 AM io.github.spencerpark.jupyter.channels.Loop run\n",
      "INFO: Loop stopped.\n"
     ]
    },
    {
     "name": "stderr",
     "output_type": "stream",
     "text": [
      "Dec 16, 2024 3:22:29 AM io.github.spencerpark.jupyter.channels.Loop run\n",
      "INFO: Running loop shutdown callback.\n",
      "Dec 16, 2024 3:22:29 AM io.github.spencerpark.jupyter.channels.Loop run\n",
      "INFO: Loop stopped.\n"
     ]
    },
    {
     "name": "stdout",
     "output_type": "stream",
     "text": [
      "Signing notebook: SysML - Decision Example.ipynb\n",
      "Executing: SysML - Internet Model.ipynb\n"
     ]
    },
    {
     "name": "stdout",
     "output_type": "stream",
     "text": [
      "Reading /home/sysml/conda/share/jupyter/kernels/sysml/sysml.library/Kernel Libraries/Kernel Semantic Library/Observation.kerml...\n"
     ]
    },
    {
     "name": "stderr",
     "output_type": "stream",
     "text": [
      "log4j:WARN No appenders could be found for logger (org.eclipse.xtext.parser.antlr.AbstractInternalAntlrParser).\n",
      "log4j:WARN Please initialize the log4j system properly.\n",
      "log4j:WARN See http://logging.apache.org/log4j/1.2/faq.html#noconfig for more info.\n"
     ]
    },
    {
     "name": "stdout",
     "output_type": "stream",
     "text": [
      "Reading /home/sysml/conda/share/jupyter/kernels/sysml/sysml.library/Kernel Libraries/Kernel Semantic Library/Transfers.kerml...\n",
      "Reading /home/sysml/conda/share/jupyter/kernels/sysml/sysml.library/Kernel Libraries/Kernel Semantic Library/Metaobjects.kerml...\n",
      "Reading /home/sysml/conda/share/jupyter/kernels/sysml/sysml.library/Kernel Libraries/Kernel Semantic Library/Triggers.kerml...\n",
      "Reading /home/sysml/conda/share/jupyter/kernels/sysml/sysml.library/Kernel Libraries/Kernel Semantic Library/Links.kerml...\n",
      "Reading /home/sysml/conda/share/jupyter/kernels/sysml/sysml.library/Kernel Libraries/Kernel Semantic Library/Base.kerml...\n",
      "Reading /home/sysml/conda/share/jupyter/kernels/sysml/sysml.library/Kernel Libraries/Kernel Semantic Library/Objects.kerml...\n",
      "Reading /home/sysml/conda/share/jupyter/kernels/sysml/sysml.library/Kernel Libraries/Kernel Semantic Library/Clocks.kerml...\n",
      "Reading /home/sysml/conda/share/jupyter/kernels/sysml/sysml.library/Kernel Libraries/Kernel Semantic Library/KerML.kerml...\n"
     ]
    },
    {
     "name": "stdout",
     "output_type": "stream",
     "text": [
      "Reading /home/sysml/conda/share/jupyter/kernels/sysml/sysml.library/Kernel Libraries/Kernel Semantic Library/FeatureReferencingPerformances.kerml...\n",
      "Reading /home/sysml/conda/share/jupyter/kernels/sysml/sysml.library/Kernel Libraries/Kernel Semantic Library/Performances.kerml...\n",
      "Reading /home/sysml/conda/share/jupyter/kernels/sysml/sysml.library/Kernel Libraries/Kernel Semantic Library/Occurrences.kerml...\n",
      "Reading /home/sysml/conda/share/jupyter/kernels/sysml/sysml.library/Kernel Libraries/Kernel Semantic Library/ControlPerformances.kerml...\n",
      "Reading /home/sysml/conda/share/jupyter/kernels/sysml/sysml.library/Kernel Libraries/Kernel Semantic Library/StatePerformances.kerml...\n",
      "Reading /home/sysml/conda/share/jupyter/kernels/sysml/sysml.library/Kernel Libraries/Kernel Semantic Library/TransitionPerformances.kerml...\n",
      "Reading /home/sysml/conda/share/jupyter/kernels/sysml/sysml.library/Kernel Libraries/Kernel Semantic Library/SpatialFrames.kerml...\n",
      "Reading /home/sysml/conda/share/jupyter/kernels/sysml/sysml.library/Kernel Libraries/Kernel Data Type Library/VectorValues.kerml...\n",
      "Reading /home/sysml/conda/share/jupyter/kernels/sysml/sysml.library/Kernel Libraries/Kernel Data Type Library/Collections.kerml...\n",
      "Reading /home/sysml/conda/share/jupyter/kernels/sysml/sysml.library/Kernel Libraries/Kernel Data Type Library/ScalarValues.kerml...\n",
      "Reading /home/sysml/conda/share/jupyter/kernels/sysml/sysml.library/Kernel Libraries/Kernel Function Library/NaturalFunctions.kerml...\n",
      "Reading /home/sysml/conda/share/jupyter/kernels/sysml/sysml.library/Kernel Libraries/Kernel Function Library/BaseFunctions.kerml...\n",
      "Reading /home/sysml/conda/share/jupyter/kernels/sysml/sysml.library/Kernel Libraries/Kernel Function Library/DataFunctions.kerml...\n",
      "Reading /home/sysml/conda/share/jupyter/kernels/sysml/sysml.library/Kernel Libraries/Kernel Function Library/IntegerFunctions.kerml...\n",
      "Reading /home/sysml/conda/share/jupyter/kernels/sysml/sysml.library/Kernel Libraries/Kernel Function Library/RealFunctions.kerml...\n",
      "Reading /home/sysml/conda/share/jupyter/kernels/sysml/sysml.library/Kernel Libraries/Kernel Function Library/NumericalFunctions.kerml...\n"
     ]
    },
    {
     "name": "stdout",
     "output_type": "stream",
     "text": [
      "Reading /home/sysml/conda/share/jupyter/kernels/sysml/sysml.library/Kernel Libraries/Kernel Function Library/VectorFunctions.kerml...\n",
      "Reading /home/sysml/conda/share/jupyter/kernels/sysml/sysml.library/Kernel Libraries/Kernel Function Library/SequenceFunctions.kerml...\n",
      "Reading /home/sysml/conda/share/jupyter/kernels/sysml/sysml.library/Kernel Libraries/Kernel Function Library/ComplexFunctions.kerml...\n",
      "Reading /home/sysml/conda/share/jupyter/kernels/sysml/sysml.library/Kernel Libraries/Kernel Function Library/RationalFunctions.kerml...\n",
      "Reading /home/sysml/conda/share/jupyter/kernels/sysml/sysml.library/Kernel Libraries/Kernel Function Library/StringFunctions.kerml...\n",
      "Reading /home/sysml/conda/share/jupyter/kernels/sysml/sysml.library/Kernel Libraries/Kernel Function Library/ScalarFunctions.kerml...\n",
      "Reading /home/sysml/conda/share/jupyter/kernels/sysml/sysml.library/Kernel Libraries/Kernel Function Library/CollectionFunctions.kerml...\n",
      "Reading /home/sysml/conda/share/jupyter/kernels/sysml/sysml.library/Kernel Libraries/Kernel Function Library/BooleanFunctions.kerml...\n",
      "Reading /home/sysml/conda/share/jupyter/kernels/sysml/sysml.library/Kernel Libraries/Kernel Function Library/OccurrenceFunctions.kerml...\n",
      "Reading /home/sysml/conda/share/jupyter/kernels/sysml/sysml.library/Kernel Libraries/Kernel Function Library/TrigFunctions.kerml...\n",
      "Reading /home/sysml/conda/share/jupyter/kernels/sysml/sysml.library/Kernel Libraries/Kernel Function Library/ControlFunctions.kerml...\n",
      "Reading /home/sysml/conda/share/jupyter/kernels/sysml/sysml.library/Systems Library/Connections.sysml...\n"
     ]
    },
    {
     "name": "stdout",
     "output_type": "stream",
     "text": [
      "Reading /home/sysml/conda/share/jupyter/kernels/sysml/sysml.library/Systems Library/States.sysml...\n",
      "Reading /home/sysml/conda/share/jupyter/kernels/sysml/sysml.library/Systems Library/Actions.sysml...\n",
      "Reading /home/sysml/conda/share/jupyter/kernels/sysml/sysml.library/Systems Library/Metadata.sysml...\n",
      "Reading /home/sysml/conda/share/jupyter/kernels/sysml/sysml.library/Systems Library/Requirements.sysml...\n",
      "Reading /home/sysml/conda/share/jupyter/kernels/sysml/sysml.library/Systems Library/AnalysisCases.sysml...\n",
      "Reading /home/sysml/conda/share/jupyter/kernels/sysml/sysml.library/Systems Library/Attributes.sysml...\n",
      "Reading /home/sysml/conda/share/jupyter/kernels/sysml/sysml.library/Systems Library/Cases.sysml...\n",
      "Reading /home/sysml/conda/share/jupyter/kernels/sysml/sysml.library/Systems Library/VerificationCases.sysml...\n",
      "Reading /home/sysml/conda/share/jupyter/kernels/sysml/sysml.library/Systems Library/Interfaces.sysml...\n",
      "Reading /home/sysml/conda/share/jupyter/kernels/sysml/sysml.library/Systems Library/Ports.sysml...\n",
      "Reading /home/sysml/conda/share/jupyter/kernels/sysml/sysml.library/Systems Library/Views.sysml...\n",
      "Reading /home/sysml/conda/share/jupyter/kernels/sysml/sysml.library/Systems Library/UseCases.sysml...\n",
      "Reading /home/sysml/conda/share/jupyter/kernels/sysml/sysml.library/Systems Library/Parts.sysml...\n",
      "Reading /home/sysml/conda/share/jupyter/kernels/sysml/sysml.library/Systems Library/SysML.sysml...\n",
      "Reading /home/sysml/conda/share/jupyter/kernels/sysml/sysml.library/Systems Library/Constraints.sysml...\n",
      "Reading /home/sysml/conda/share/jupyter/kernels/sysml/sysml.library/Systems Library/Items.sysml...\n"
     ]
    },
    {
     "name": "stdout",
     "output_type": "stream",
     "text": [
      "Reading /home/sysml/conda/share/jupyter/kernels/sysml/sysml.library/Systems Library/Calculations.sysml...\n",
      "Reading /home/sysml/conda/share/jupyter/kernels/sysml/sysml.library/Systems Library/StandardViewDefinitions.sysml...\n",
      "Reading /home/sysml/conda/share/jupyter/kernels/sysml/sysml.library/Systems Library/Allocations.sysml...\n",
      "Reading /home/sysml/conda/share/jupyter/kernels/sysml/sysml.library/Domain Libraries/Geometry/SpatialItems.sysml...\n",
      "Reading /home/sysml/conda/share/jupyter/kernels/sysml/sysml.library/Domain Libraries/Geometry/ShapeItems.sysml...\n",
      "Reading /home/sysml/conda/share/jupyter/kernels/sysml/sysml.library/Domain Libraries/Analysis/TradeStudies.sysml...\n",
      "Reading /home/sysml/conda/share/jupyter/kernels/sysml/sysml.library/Domain Libraries/Analysis/StateSpaceRepresentation.sysml...\n",
      "Reading /home/sysml/conda/share/jupyter/kernels/sysml/sysml.library/Domain Libraries/Analysis/SampledFunctions.sysml...\n",
      "Reading /home/sysml/conda/share/jupyter/kernels/sysml/sysml.library/Domain Libraries/Analysis/AnalysisTooling.sysml...\n",
      "Reading /home/sysml/conda/share/jupyter/kernels/sysml/sysml.library/Domain Libraries/Cause and Effect/CausationConnections.sysml...\n",
      "Reading /home/sysml/conda/share/jupyter/kernels/sysml/sysml.library/Domain Libraries/Cause and Effect/CauseAndEffect.sysml...\n",
      "Reading /home/sysml/conda/share/jupyter/kernels/sysml/sysml.library/Domain Libraries/Quantities and Units/TensorCalculations.sysml...\n",
      "Reading /home/sysml/conda/share/jupyter/kernels/sysml/sysml.library/Domain Libraries/Quantities and Units/ISQSpaceTime.sysml...\n",
      "Reading /home/sysml/conda/share/jupyter/kernels/sysml/sysml.library/Domain Libraries/Quantities and Units/ISQElectromagnetism.sysml...\n"
     ]
    },
    {
     "name": "stdout",
     "output_type": "stream",
     "text": [
      "Reading /home/sysml/conda/share/jupyter/kernels/sysml/sysml.library/Domain Libraries/Quantities and Units/USCustomaryUnits.sysml...\n",
      "Reading /home/sysml/conda/share/jupyter/kernels/sysml/sysml.library/Domain Libraries/Quantities and Units/Time.sysml...\n",
      "Reading /home/sysml/conda/share/jupyter/kernels/sysml/sysml.library/Domain Libraries/Quantities and Units/MeasurementReferences.sysml...\n",
      "Reading /home/sysml/conda/share/jupyter/kernels/sysml/sysml.library/Domain Libraries/Quantities and Units/ISQBase.sysml...\n",
      "Reading /home/sysml/conda/share/jupyter/kernels/sysml/sysml.library/Domain Libraries/Quantities and Units/ISQCondensedMatter.sysml...\n",
      "Reading /home/sysml/conda/share/jupyter/kernels/sysml/sysml.library/Domain Libraries/Quantities and Units/ISQMechanics.sysml...\n",
      "Reading /home/sysml/conda/share/jupyter/kernels/sysml/sysml.library/Domain Libraries/Quantities and Units/SI.sysml...\n",
      "Reading /home/sysml/conda/share/jupyter/kernels/sysml/sysml.library/Domain Libraries/Quantities and Units/ISQCharacteristicNumbers.sysml...\n",
      "Reading /home/sysml/conda/share/jupyter/kernels/sysml/sysml.library/Domain Libraries/Quantities and Units/QuantityCalculations.sysml...\n",
      "Reading /home/sysml/conda/share/jupyter/kernels/sysml/sysml.library/Domain Libraries/Quantities and Units/MeasurementRefCalculations.sysml...\n",
      "Reading /home/sysml/conda/share/jupyter/kernels/sysml/sysml.library/Domain Libraries/Quantities and Units/ISQAtomicNuclear.sysml...\n"
     ]
    },
    {
     "name": "stdout",
     "output_type": "stream",
     "text": [
      "Reading /home/sysml/conda/share/jupyter/kernels/sysml/sysml.library/Domain Libraries/Quantities and Units/ISQ.sysml...\n",
      "Reading /home/sysml/conda/share/jupyter/kernels/sysml/sysml.library/Domain Libraries/Quantities and Units/ISQAcoustics.sysml...\n",
      "Reading /home/sysml/conda/share/jupyter/kernels/sysml/sysml.library/Domain Libraries/Quantities and Units/ISQLight.sysml...\n",
      "Reading /home/sysml/conda/share/jupyter/kernels/sysml/sysml.library/Domain Libraries/Quantities and Units/ISQInformation.sysml...\n",
      "Reading /home/sysml/conda/share/jupyter/kernels/sysml/sysml.library/Domain Libraries/Quantities and Units/ISQThermodynamics.sysml...\n",
      "Reading /home/sysml/conda/share/jupyter/kernels/sysml/sysml.library/Domain Libraries/Quantities and Units/SIPrefixes.sysml...\n",
      "Reading /home/sysml/conda/share/jupyter/kernels/sysml/sysml.library/Domain Libraries/Quantities and Units/VectorCalculations.sysml...\n",
      "Reading /home/sysml/conda/share/jupyter/kernels/sysml/sysml.library/Domain Libraries/Quantities and Units/ISQChemistryMolecular.sysml...\n",
      "Reading /home/sysml/conda/share/jupyter/kernels/sysml/sysml.library/Domain Libraries/Quantities and Units/Quantities.sysml...\n",
      "Reading /home/sysml/conda/share/jupyter/kernels/sysml/sysml.library/Domain Libraries/Metadata/ImageMetadata.sysml...\n",
      "Reading /home/sysml/conda/share/jupyter/kernels/sysml/sysml.library/Domain Libraries/Metadata/ModelingMetadata.sysml...\n",
      "Reading /home/sysml/conda/share/jupyter/kernels/sysml/sysml.library/Domain Libraries/Metadata/ParametersOfInterestMetadata.sysml...\n",
      "Reading /home/sysml/conda/share/jupyter/kernels/sysml/sysml.library/Domain Libraries/Metadata/RiskMetadata.sysml...\n",
      "Reading /home/sysml/conda/share/jupyter/kernels/sysml/sysml.library/Domain Libraries/Requirement Derivation/RequirementDerivation.sysml...\n",
      "Reading /home/sysml/conda/share/jupyter/kernels/sysml/sysml.library/Domain Libraries/Requirement Derivation/DerivationConnections.sysml...\n"
     ]
    },
    {
     "name": "stderr",
     "output_type": "stream",
     "text": [
      "Dec 16, 2024 3:22:33 AM io.github.spencerpark.jupyter.channels.Loop start\n",
      "INFO: Loop starting...\n",
      "Dec 16, 2024 3:22:33 AM io.github.spencerpark.jupyter.channels.Loop start\n",
      "INFO: Loop started.\n",
      "Dec 16, 2024 3:22:33 AM io.github.spencerpark.jupyter.channels.Loop start\n",
      "INFO: Loop starting...\n",
      "Dec 16, 2024 3:22:33 AM io.github.spencerpark.jupyter.channels.Loop start\n",
      "INFO: Loop started.\n",
      "Dec 16, 2024 3:22:33 AM io.github.spencerpark.jupyter.channels.Loop start\n",
      "INFO: Loop starting...\n",
      "Dec 16, 2024 3:22:33 AM io.github.spencerpark.jupyter.channels.Loop start\n",
      "INFO: Loop started.\n"
     ]
    },
    {
     "name": "stderr",
     "output_type": "stream",
     "text": [
      "Dec 16, 2024 3:22:35 AM io.github.spencerpark.jupyter.channels.Loop shutdown\n",
      "INFO: Loop shutdown.\n",
      "Dec 16, 2024 3:22:35 AM io.github.spencerpark.jupyter.channels.Loop shutdown\n",
      "INFO: Loop shutdown.\n",
      "Dec 16, 2024 3:22:35 AM io.github.spencerpark.jupyter.channels.Loop shutdown\n",
      "INFO: Loop shutdown.\n",
      "Dec 16, 2024 3:22:35 AM io.github.spencerpark.jupyter.channels.Loop run\n",
      "INFO: Running loop shutdown callback.\n",
      "Dec 16, 2024 3:22:35 AM io.github.spencerpark.jupyter.channels.Loop run\n",
      "INFO: Loop stopped.\n",
      "Dec 16, 2024 3:22:35 AM io.github.spencerpark.jupyter.channels.Loop run\n",
      "INFO: Running loop shutdown callback.\n",
      "Dec 16, 2024 3:22:35 AM io.github.spencerpark.jupyter.channels.Loop run\n",
      "INFO: Loop stopped.\n"
     ]
    },
    {
     "name": "stderr",
     "output_type": "stream",
     "text": [
      "Dec 16, 2024 3:22:35 AM io.github.spencerpark.jupyter.channels.Loop run\n",
      "INFO: Running loop shutdown callback.\n",
      "Dec 16, 2024 3:22:35 AM io.github.spencerpark.jupyter.channels.Loop run\n",
      "INFO: Loop stopped.\n"
     ]
    },
    {
     "name": "stdout",
     "output_type": "stream",
     "text": [
      "Signing notebook: SysML - Internet Model.ipynb\n",
      "Executing: SysML - Annex B Example.ipynb\n"
     ]
    },
    {
     "name": "stdout",
     "output_type": "stream",
     "text": [
      "Reading /home/sysml/conda/share/jupyter/kernels/sysml/sysml.library/Kernel Libraries/Kernel Semantic Library/Observation.kerml...\n"
     ]
    },
    {
     "name": "stderr",
     "output_type": "stream",
     "text": [
      "log4j:WARN No appenders could be found for logger (org.eclipse.xtext.parser.antlr.AbstractInternalAntlrParser).\n",
      "log4j:WARN Please initialize the log4j system properly.\n",
      "log4j:WARN See http://logging.apache.org/log4j/1.2/faq.html#noconfig for more info.\n"
     ]
    },
    {
     "name": "stdout",
     "output_type": "stream",
     "text": [
      "Reading /home/sysml/conda/share/jupyter/kernels/sysml/sysml.library/Kernel Libraries/Kernel Semantic Library/Transfers.kerml...\n",
      "Reading /home/sysml/conda/share/jupyter/kernels/sysml/sysml.library/Kernel Libraries/Kernel Semantic Library/Metaobjects.kerml...\n",
      "Reading /home/sysml/conda/share/jupyter/kernels/sysml/sysml.library/Kernel Libraries/Kernel Semantic Library/Triggers.kerml...\n",
      "Reading /home/sysml/conda/share/jupyter/kernels/sysml/sysml.library/Kernel Libraries/Kernel Semantic Library/Links.kerml...\n",
      "Reading /home/sysml/conda/share/jupyter/kernels/sysml/sysml.library/Kernel Libraries/Kernel Semantic Library/Base.kerml...\n",
      "Reading /home/sysml/conda/share/jupyter/kernels/sysml/sysml.library/Kernel Libraries/Kernel Semantic Library/Objects.kerml...\n",
      "Reading /home/sysml/conda/share/jupyter/kernels/sysml/sysml.library/Kernel Libraries/Kernel Semantic Library/Clocks.kerml...\n",
      "Reading /home/sysml/conda/share/jupyter/kernels/sysml/sysml.library/Kernel Libraries/Kernel Semantic Library/KerML.kerml...\n"
     ]
    },
    {
     "name": "stdout",
     "output_type": "stream",
     "text": [
      "Reading /home/sysml/conda/share/jupyter/kernels/sysml/sysml.library/Kernel Libraries/Kernel Semantic Library/FeatureReferencingPerformances.kerml...\n",
      "Reading /home/sysml/conda/share/jupyter/kernels/sysml/sysml.library/Kernel Libraries/Kernel Semantic Library/Performances.kerml...\n",
      "Reading /home/sysml/conda/share/jupyter/kernels/sysml/sysml.library/Kernel Libraries/Kernel Semantic Library/Occurrences.kerml...\n",
      "Reading /home/sysml/conda/share/jupyter/kernels/sysml/sysml.library/Kernel Libraries/Kernel Semantic Library/ControlPerformances.kerml...\n",
      "Reading /home/sysml/conda/share/jupyter/kernels/sysml/sysml.library/Kernel Libraries/Kernel Semantic Library/StatePerformances.kerml...\n",
      "Reading /home/sysml/conda/share/jupyter/kernels/sysml/sysml.library/Kernel Libraries/Kernel Semantic Library/TransitionPerformances.kerml...\n",
      "Reading /home/sysml/conda/share/jupyter/kernels/sysml/sysml.library/Kernel Libraries/Kernel Semantic Library/SpatialFrames.kerml...\n",
      "Reading /home/sysml/conda/share/jupyter/kernels/sysml/sysml.library/Kernel Libraries/Kernel Data Type Library/VectorValues.kerml...\n",
      "Reading /home/sysml/conda/share/jupyter/kernels/sysml/sysml.library/Kernel Libraries/Kernel Data Type Library/Collections.kerml...\n",
      "Reading /home/sysml/conda/share/jupyter/kernels/sysml/sysml.library/Kernel Libraries/Kernel Data Type Library/ScalarValues.kerml...\n",
      "Reading /home/sysml/conda/share/jupyter/kernels/sysml/sysml.library/Kernel Libraries/Kernel Function Library/NaturalFunctions.kerml...\n",
      "Reading /home/sysml/conda/share/jupyter/kernels/sysml/sysml.library/Kernel Libraries/Kernel Function Library/BaseFunctions.kerml...\n",
      "Reading /home/sysml/conda/share/jupyter/kernels/sysml/sysml.library/Kernel Libraries/Kernel Function Library/DataFunctions.kerml...\n",
      "Reading /home/sysml/conda/share/jupyter/kernels/sysml/sysml.library/Kernel Libraries/Kernel Function Library/IntegerFunctions.kerml...\n",
      "Reading /home/sysml/conda/share/jupyter/kernels/sysml/sysml.library/Kernel Libraries/Kernel Function Library/RealFunctions.kerml...\n"
     ]
    },
    {
     "name": "stdout",
     "output_type": "stream",
     "text": [
      "Reading /home/sysml/conda/share/jupyter/kernels/sysml/sysml.library/Kernel Libraries/Kernel Function Library/NumericalFunctions.kerml...\n",
      "Reading /home/sysml/conda/share/jupyter/kernels/sysml/sysml.library/Kernel Libraries/Kernel Function Library/VectorFunctions.kerml...\n",
      "Reading /home/sysml/conda/share/jupyter/kernels/sysml/sysml.library/Kernel Libraries/Kernel Function Library/SequenceFunctions.kerml...\n",
      "Reading /home/sysml/conda/share/jupyter/kernels/sysml/sysml.library/Kernel Libraries/Kernel Function Library/ComplexFunctions.kerml...\n",
      "Reading /home/sysml/conda/share/jupyter/kernels/sysml/sysml.library/Kernel Libraries/Kernel Function Library/RationalFunctions.kerml...\n",
      "Reading /home/sysml/conda/share/jupyter/kernels/sysml/sysml.library/Kernel Libraries/Kernel Function Library/StringFunctions.kerml...\n",
      "Reading /home/sysml/conda/share/jupyter/kernels/sysml/sysml.library/Kernel Libraries/Kernel Function Library/ScalarFunctions.kerml...\n",
      "Reading /home/sysml/conda/share/jupyter/kernels/sysml/sysml.library/Kernel Libraries/Kernel Function Library/CollectionFunctions.kerml...\n",
      "Reading /home/sysml/conda/share/jupyter/kernels/sysml/sysml.library/Kernel Libraries/Kernel Function Library/BooleanFunctions.kerml...\n",
      "Reading /home/sysml/conda/share/jupyter/kernels/sysml/sysml.library/Kernel Libraries/Kernel Function Library/OccurrenceFunctions.kerml...\n",
      "Reading /home/sysml/conda/share/jupyter/kernels/sysml/sysml.library/Kernel Libraries/Kernel Function Library/TrigFunctions.kerml...\n",
      "Reading /home/sysml/conda/share/jupyter/kernels/sysml/sysml.library/Kernel Libraries/Kernel Function Library/ControlFunctions.kerml...\n",
      "Reading /home/sysml/conda/share/jupyter/kernels/sysml/sysml.library/Systems Library/Connections.sysml...\n"
     ]
    },
    {
     "name": "stdout",
     "output_type": "stream",
     "text": [
      "Reading /home/sysml/conda/share/jupyter/kernels/sysml/sysml.library/Systems Library/States.sysml...\n",
      "Reading /home/sysml/conda/share/jupyter/kernels/sysml/sysml.library/Systems Library/Actions.sysml...\n",
      "Reading /home/sysml/conda/share/jupyter/kernels/sysml/sysml.library/Systems Library/Metadata.sysml...\n",
      "Reading /home/sysml/conda/share/jupyter/kernels/sysml/sysml.library/Systems Library/Requirements.sysml...\n",
      "Reading /home/sysml/conda/share/jupyter/kernels/sysml/sysml.library/Systems Library/AnalysisCases.sysml...\n",
      "Reading /home/sysml/conda/share/jupyter/kernels/sysml/sysml.library/Systems Library/Attributes.sysml...\n",
      "Reading /home/sysml/conda/share/jupyter/kernels/sysml/sysml.library/Systems Library/Cases.sysml...\n",
      "Reading /home/sysml/conda/share/jupyter/kernels/sysml/sysml.library/Systems Library/VerificationCases.sysml...\n",
      "Reading /home/sysml/conda/share/jupyter/kernels/sysml/sysml.library/Systems Library/Interfaces.sysml...\n",
      "Reading /home/sysml/conda/share/jupyter/kernels/sysml/sysml.library/Systems Library/Ports.sysml...\n",
      "Reading /home/sysml/conda/share/jupyter/kernels/sysml/sysml.library/Systems Library/Views.sysml...\n",
      "Reading /home/sysml/conda/share/jupyter/kernels/sysml/sysml.library/Systems Library/UseCases.sysml...\n",
      "Reading /home/sysml/conda/share/jupyter/kernels/sysml/sysml.library/Systems Library/Parts.sysml...\n",
      "Reading /home/sysml/conda/share/jupyter/kernels/sysml/sysml.library/Systems Library/SysML.sysml...\n",
      "Reading /home/sysml/conda/share/jupyter/kernels/sysml/sysml.library/Systems Library/Constraints.sysml...\n",
      "Reading /home/sysml/conda/share/jupyter/kernels/sysml/sysml.library/Systems Library/Items.sysml...\n",
      "Reading /home/sysml/conda/share/jupyter/kernels/sysml/sysml.library/Systems Library/Calculations.sysml...\n",
      "Reading /home/sysml/conda/share/jupyter/kernels/sysml/sysml.library/Systems Library/StandardViewDefinitions.sysml...\n",
      "Reading /home/sysml/conda/share/jupyter/kernels/sysml/sysml.library/Systems Library/Allocations.sysml...\n",
      "Reading /home/sysml/conda/share/jupyter/kernels/sysml/sysml.library/Domain Libraries/Geometry/SpatialItems.sysml...\n"
     ]
    },
    {
     "name": "stdout",
     "output_type": "stream",
     "text": [
      "Reading /home/sysml/conda/share/jupyter/kernels/sysml/sysml.library/Domain Libraries/Geometry/ShapeItems.sysml...\n",
      "Reading /home/sysml/conda/share/jupyter/kernels/sysml/sysml.library/Domain Libraries/Analysis/TradeStudies.sysml...\n",
      "Reading /home/sysml/conda/share/jupyter/kernels/sysml/sysml.library/Domain Libraries/Analysis/StateSpaceRepresentation.sysml...\n",
      "Reading /home/sysml/conda/share/jupyter/kernels/sysml/sysml.library/Domain Libraries/Analysis/SampledFunctions.sysml...\n",
      "Reading /home/sysml/conda/share/jupyter/kernels/sysml/sysml.library/Domain Libraries/Analysis/AnalysisTooling.sysml...\n",
      "Reading /home/sysml/conda/share/jupyter/kernels/sysml/sysml.library/Domain Libraries/Cause and Effect/CausationConnections.sysml...\n",
      "Reading /home/sysml/conda/share/jupyter/kernels/sysml/sysml.library/Domain Libraries/Cause and Effect/CauseAndEffect.sysml...\n",
      "Reading /home/sysml/conda/share/jupyter/kernels/sysml/sysml.library/Domain Libraries/Quantities and Units/TensorCalculations.sysml...\n",
      "Reading /home/sysml/conda/share/jupyter/kernels/sysml/sysml.library/Domain Libraries/Quantities and Units/ISQSpaceTime.sysml...\n",
      "Reading /home/sysml/conda/share/jupyter/kernels/sysml/sysml.library/Domain Libraries/Quantities and Units/ISQElectromagnetism.sysml...\n"
     ]
    },
    {
     "name": "stdout",
     "output_type": "stream",
     "text": [
      "Reading /home/sysml/conda/share/jupyter/kernels/sysml/sysml.library/Domain Libraries/Quantities and Units/USCustomaryUnits.sysml...\n",
      "Reading /home/sysml/conda/share/jupyter/kernels/sysml/sysml.library/Domain Libraries/Quantities and Units/Time.sysml...\n",
      "Reading /home/sysml/conda/share/jupyter/kernels/sysml/sysml.library/Domain Libraries/Quantities and Units/MeasurementReferences.sysml...\n",
      "Reading /home/sysml/conda/share/jupyter/kernels/sysml/sysml.library/Domain Libraries/Quantities and Units/ISQBase.sysml...\n",
      "Reading /home/sysml/conda/share/jupyter/kernels/sysml/sysml.library/Domain Libraries/Quantities and Units/ISQCondensedMatter.sysml...\n",
      "Reading /home/sysml/conda/share/jupyter/kernels/sysml/sysml.library/Domain Libraries/Quantities and Units/ISQMechanics.sysml...\n",
      "Reading /home/sysml/conda/share/jupyter/kernels/sysml/sysml.library/Domain Libraries/Quantities and Units/SI.sysml...\n",
      "Reading /home/sysml/conda/share/jupyter/kernels/sysml/sysml.library/Domain Libraries/Quantities and Units/ISQCharacteristicNumbers.sysml...\n",
      "Reading /home/sysml/conda/share/jupyter/kernels/sysml/sysml.library/Domain Libraries/Quantities and Units/QuantityCalculations.sysml...\n",
      "Reading /home/sysml/conda/share/jupyter/kernels/sysml/sysml.library/Domain Libraries/Quantities and Units/MeasurementRefCalculations.sysml...\n"
     ]
    },
    {
     "name": "stdout",
     "output_type": "stream",
     "text": [
      "Reading /home/sysml/conda/share/jupyter/kernels/sysml/sysml.library/Domain Libraries/Quantities and Units/ISQAtomicNuclear.sysml...\n",
      "Reading /home/sysml/conda/share/jupyter/kernels/sysml/sysml.library/Domain Libraries/Quantities and Units/ISQ.sysml...\n",
      "Reading /home/sysml/conda/share/jupyter/kernels/sysml/sysml.library/Domain Libraries/Quantities and Units/ISQAcoustics.sysml...\n",
      "Reading /home/sysml/conda/share/jupyter/kernels/sysml/sysml.library/Domain Libraries/Quantities and Units/ISQLight.sysml...\n",
      "Reading /home/sysml/conda/share/jupyter/kernels/sysml/sysml.library/Domain Libraries/Quantities and Units/ISQInformation.sysml...\n",
      "Reading /home/sysml/conda/share/jupyter/kernels/sysml/sysml.library/Domain Libraries/Quantities and Units/ISQThermodynamics.sysml...\n",
      "Reading /home/sysml/conda/share/jupyter/kernels/sysml/sysml.library/Domain Libraries/Quantities and Units/SIPrefixes.sysml...\n",
      "Reading /home/sysml/conda/share/jupyter/kernels/sysml/sysml.library/Domain Libraries/Quantities and Units/VectorCalculations.sysml...\n",
      "Reading /home/sysml/conda/share/jupyter/kernels/sysml/sysml.library/Domain Libraries/Quantities and Units/ISQChemistryMolecular.sysml...\n",
      "Reading /home/sysml/conda/share/jupyter/kernels/sysml/sysml.library/Domain Libraries/Quantities and Units/Quantities.sysml...\n",
      "Reading /home/sysml/conda/share/jupyter/kernels/sysml/sysml.library/Domain Libraries/Metadata/ImageMetadata.sysml...\n",
      "Reading /home/sysml/conda/share/jupyter/kernels/sysml/sysml.library/Domain Libraries/Metadata/ModelingMetadata.sysml...\n",
      "Reading /home/sysml/conda/share/jupyter/kernels/sysml/sysml.library/Domain Libraries/Metadata/ParametersOfInterestMetadata.sysml...\n",
      "Reading /home/sysml/conda/share/jupyter/kernels/sysml/sysml.library/Domain Libraries/Metadata/RiskMetadata.sysml...\n",
      "Reading /home/sysml/conda/share/jupyter/kernels/sysml/sysml.library/Domain Libraries/Requirement Derivation/RequirementDerivation.sysml...\n",
      "Reading /home/sysml/conda/share/jupyter/kernels/sysml/sysml.library/Domain Libraries/Requirement Derivation/DerivationConnections.sysml...\n"
     ]
    },
    {
     "name": "stderr",
     "output_type": "stream",
     "text": [
      "Dec 16, 2024 3:22:39 AM io.github.spencerpark.jupyter.channels.Loop start\n",
      "INFO: Loop starting...\n",
      "Dec 16, 2024 3:22:39 AM io.github.spencerpark.jupyter.channels.Loop start\n",
      "INFO: Loop started.\n",
      "Dec 16, 2024 3:22:39 AM io.github.spencerpark.jupyter.channels.Loop start\n",
      "INFO: Loop starting...\n",
      "Dec 16, 2024 3:22:39 AM io.github.spencerpark.jupyter.channels.Loop start\n",
      "INFO: Loop started.\n",
      "Dec 16, 2024 3:22:39 AM io.github.spencerpark.jupyter.channels.Loop start\n",
      "INFO: Loop starting...\n",
      "Dec 16, 2024 3:22:39 AM io.github.spencerpark.jupyter.channels.Loop start\n",
      "INFO: Loop started.\n"
     ]
    },
    {
     "name": "stderr",
     "output_type": "stream",
     "text": [
      "Dec 16, 2024 3:22:41 AM io.github.spencerpark.jupyter.channels.Loop shutdown\n",
      "INFO: Loop shutdown.\n",
      "Dec 16, 2024 3:22:41 AM io.github.spencerpark.jupyter.channels.Loop shutdown\n",
      "INFO: Loop shutdown.\n",
      "Dec 16, 2024 3:22:41 AM io.github.spencerpark.jupyter.channels.Loop shutdown\n",
      "INFO: Loop shutdown.\n",
      "Dec 16, 2024 3:22:41 AM io.github.spencerpark.jupyter.channels.Loop run\n",
      "INFO: Running loop shutdown callback.\n",
      "Dec 16, 2024 3:22:41 AM io.github.spencerpark.jupyter.channels.Loop run\n",
      "INFO: Loop stopped.\n",
      "Dec 16, 2024 3:22:41 AM io.github.spencerpark.jupyter.channels.Loop run\n",
      "INFO: Running loop shutdown callback.\n",
      "Dec 16, 2024 3:22:41 AM io.github.spencerpark.jupyter.channels.Loop run\n",
      "INFO: Loop stopped.\n"
     ]
    },
    {
     "name": "stderr",
     "output_type": "stream",
     "text": [
      "Dec 16, 2024 3:22:41 AM io.github.spencerpark.jupyter.channels.Loop run\n",
      "INFO: Running loop shutdown callback.\n",
      "Dec 16, 2024 3:22:41 AM io.github.spencerpark.jupyter.channels.Loop run\n",
      "INFO: Loop stopped.\n"
     ]
    },
    {
     "name": "stdout",
     "output_type": "stream",
     "text": [
      "Signing notebook: SysML - Annex B Example.ipynb\n",
      "Executing: SysML - State Charts.ipynb\n"
     ]
    },
    {
     "name": "stdout",
     "output_type": "stream",
     "text": [
      "Reading /home/sysml/conda/share/jupyter/kernels/sysml/sysml.library/Kernel Libraries/Kernel Semantic Library/Observation.kerml...\n"
     ]
    },
    {
     "name": "stderr",
     "output_type": "stream",
     "text": [
      "log4j:WARN No appenders could be found for logger (org.eclipse.xtext.parser.antlr.AbstractInternalAntlrParser).\n",
      "log4j:WARN Please initialize the log4j system properly.\n",
      "log4j:WARN See http://logging.apache.org/log4j/1.2/faq.html#noconfig for more info.\n"
     ]
    },
    {
     "name": "stdout",
     "output_type": "stream",
     "text": [
      "Reading /home/sysml/conda/share/jupyter/kernels/sysml/sysml.library/Kernel Libraries/Kernel Semantic Library/Transfers.kerml...\n",
      "Reading /home/sysml/conda/share/jupyter/kernels/sysml/sysml.library/Kernel Libraries/Kernel Semantic Library/Metaobjects.kerml...\n",
      "Reading /home/sysml/conda/share/jupyter/kernels/sysml/sysml.library/Kernel Libraries/Kernel Semantic Library/Triggers.kerml...\n",
      "Reading /home/sysml/conda/share/jupyter/kernels/sysml/sysml.library/Kernel Libraries/Kernel Semantic Library/Links.kerml...\n",
      "Reading /home/sysml/conda/share/jupyter/kernels/sysml/sysml.library/Kernel Libraries/Kernel Semantic Library/Base.kerml...\n",
      "Reading /home/sysml/conda/share/jupyter/kernels/sysml/sysml.library/Kernel Libraries/Kernel Semantic Library/Objects.kerml...\n",
      "Reading /home/sysml/conda/share/jupyter/kernels/sysml/sysml.library/Kernel Libraries/Kernel Semantic Library/Clocks.kerml...\n",
      "Reading /home/sysml/conda/share/jupyter/kernels/sysml/sysml.library/Kernel Libraries/Kernel Semantic Library/KerML.kerml...\n"
     ]
    },
    {
     "name": "stdout",
     "output_type": "stream",
     "text": [
      "Reading /home/sysml/conda/share/jupyter/kernels/sysml/sysml.library/Kernel Libraries/Kernel Semantic Library/FeatureReferencingPerformances.kerml...\n",
      "Reading /home/sysml/conda/share/jupyter/kernels/sysml/sysml.library/Kernel Libraries/Kernel Semantic Library/Performances.kerml...\n",
      "Reading /home/sysml/conda/share/jupyter/kernels/sysml/sysml.library/Kernel Libraries/Kernel Semantic Library/Occurrences.kerml...\n",
      "Reading /home/sysml/conda/share/jupyter/kernels/sysml/sysml.library/Kernel Libraries/Kernel Semantic Library/ControlPerformances.kerml...\n",
      "Reading /home/sysml/conda/share/jupyter/kernels/sysml/sysml.library/Kernel Libraries/Kernel Semantic Library/StatePerformances.kerml...\n",
      "Reading /home/sysml/conda/share/jupyter/kernels/sysml/sysml.library/Kernel Libraries/Kernel Semantic Library/TransitionPerformances.kerml...\n",
      "Reading /home/sysml/conda/share/jupyter/kernels/sysml/sysml.library/Kernel Libraries/Kernel Semantic Library/SpatialFrames.kerml...\n",
      "Reading /home/sysml/conda/share/jupyter/kernels/sysml/sysml.library/Kernel Libraries/Kernel Data Type Library/VectorValues.kerml...\n",
      "Reading /home/sysml/conda/share/jupyter/kernels/sysml/sysml.library/Kernel Libraries/Kernel Data Type Library/Collections.kerml...\n",
      "Reading /home/sysml/conda/share/jupyter/kernels/sysml/sysml.library/Kernel Libraries/Kernel Data Type Library/ScalarValues.kerml...\n",
      "Reading /home/sysml/conda/share/jupyter/kernels/sysml/sysml.library/Kernel Libraries/Kernel Function Library/NaturalFunctions.kerml...\n",
      "Reading /home/sysml/conda/share/jupyter/kernels/sysml/sysml.library/Kernel Libraries/Kernel Function Library/BaseFunctions.kerml...\n",
      "Reading /home/sysml/conda/share/jupyter/kernels/sysml/sysml.library/Kernel Libraries/Kernel Function Library/DataFunctions.kerml...\n",
      "Reading /home/sysml/conda/share/jupyter/kernels/sysml/sysml.library/Kernel Libraries/Kernel Function Library/IntegerFunctions.kerml...\n",
      "Reading /home/sysml/conda/share/jupyter/kernels/sysml/sysml.library/Kernel Libraries/Kernel Function Library/RealFunctions.kerml...\n",
      "Reading /home/sysml/conda/share/jupyter/kernels/sysml/sysml.library/Kernel Libraries/Kernel Function Library/NumericalFunctions.kerml...\n"
     ]
    },
    {
     "name": "stdout",
     "output_type": "stream",
     "text": [
      "Reading /home/sysml/conda/share/jupyter/kernels/sysml/sysml.library/Kernel Libraries/Kernel Function Library/VectorFunctions.kerml...\n",
      "Reading /home/sysml/conda/share/jupyter/kernels/sysml/sysml.library/Kernel Libraries/Kernel Function Library/SequenceFunctions.kerml...\n",
      "Reading /home/sysml/conda/share/jupyter/kernels/sysml/sysml.library/Kernel Libraries/Kernel Function Library/ComplexFunctions.kerml...\n",
      "Reading /home/sysml/conda/share/jupyter/kernels/sysml/sysml.library/Kernel Libraries/Kernel Function Library/RationalFunctions.kerml...\n",
      "Reading /home/sysml/conda/share/jupyter/kernels/sysml/sysml.library/Kernel Libraries/Kernel Function Library/StringFunctions.kerml...\n",
      "Reading /home/sysml/conda/share/jupyter/kernels/sysml/sysml.library/Kernel Libraries/Kernel Function Library/ScalarFunctions.kerml...\n",
      "Reading /home/sysml/conda/share/jupyter/kernels/sysml/sysml.library/Kernel Libraries/Kernel Function Library/CollectionFunctions.kerml...\n",
      "Reading /home/sysml/conda/share/jupyter/kernels/sysml/sysml.library/Kernel Libraries/Kernel Function Library/BooleanFunctions.kerml...\n",
      "Reading /home/sysml/conda/share/jupyter/kernels/sysml/sysml.library/Kernel Libraries/Kernel Function Library/OccurrenceFunctions.kerml...\n",
      "Reading /home/sysml/conda/share/jupyter/kernels/sysml/sysml.library/Kernel Libraries/Kernel Function Library/TrigFunctions.kerml...\n",
      "Reading /home/sysml/conda/share/jupyter/kernels/sysml/sysml.library/Kernel Libraries/Kernel Function Library/ControlFunctions.kerml...\n",
      "Reading /home/sysml/conda/share/jupyter/kernels/sysml/sysml.library/Systems Library/Connections.sysml...\n"
     ]
    },
    {
     "name": "stdout",
     "output_type": "stream",
     "text": [
      "Reading /home/sysml/conda/share/jupyter/kernels/sysml/sysml.library/Systems Library/States.sysml...\n",
      "Reading /home/sysml/conda/share/jupyter/kernels/sysml/sysml.library/Systems Library/Actions.sysml...\n",
      "Reading /home/sysml/conda/share/jupyter/kernels/sysml/sysml.library/Systems Library/Metadata.sysml...\n",
      "Reading /home/sysml/conda/share/jupyter/kernels/sysml/sysml.library/Systems Library/Requirements.sysml...\n",
      "Reading /home/sysml/conda/share/jupyter/kernels/sysml/sysml.library/Systems Library/AnalysisCases.sysml...\n",
      "Reading /home/sysml/conda/share/jupyter/kernels/sysml/sysml.library/Systems Library/Attributes.sysml...\n",
      "Reading /home/sysml/conda/share/jupyter/kernels/sysml/sysml.library/Systems Library/Cases.sysml...\n",
      "Reading /home/sysml/conda/share/jupyter/kernels/sysml/sysml.library/Systems Library/VerificationCases.sysml...\n",
      "Reading /home/sysml/conda/share/jupyter/kernels/sysml/sysml.library/Systems Library/Interfaces.sysml...\n",
      "Reading /home/sysml/conda/share/jupyter/kernels/sysml/sysml.library/Systems Library/Ports.sysml...\n",
      "Reading /home/sysml/conda/share/jupyter/kernels/sysml/sysml.library/Systems Library/Views.sysml...\n",
      "Reading /home/sysml/conda/share/jupyter/kernels/sysml/sysml.library/Systems Library/UseCases.sysml...\n",
      "Reading /home/sysml/conda/share/jupyter/kernels/sysml/sysml.library/Systems Library/Parts.sysml...\n",
      "Reading /home/sysml/conda/share/jupyter/kernels/sysml/sysml.library/Systems Library/SysML.sysml...\n",
      "Reading /home/sysml/conda/share/jupyter/kernels/sysml/sysml.library/Systems Library/Constraints.sysml...\n",
      "Reading /home/sysml/conda/share/jupyter/kernels/sysml/sysml.library/Systems Library/Items.sysml...\n"
     ]
    },
    {
     "name": "stdout",
     "output_type": "stream",
     "text": [
      "Reading /home/sysml/conda/share/jupyter/kernels/sysml/sysml.library/Systems Library/Calculations.sysml...\n",
      "Reading /home/sysml/conda/share/jupyter/kernels/sysml/sysml.library/Systems Library/StandardViewDefinitions.sysml...\n",
      "Reading /home/sysml/conda/share/jupyter/kernels/sysml/sysml.library/Systems Library/Allocations.sysml...\n",
      "Reading /home/sysml/conda/share/jupyter/kernels/sysml/sysml.library/Domain Libraries/Geometry/SpatialItems.sysml...\n",
      "Reading /home/sysml/conda/share/jupyter/kernels/sysml/sysml.library/Domain Libraries/Geometry/ShapeItems.sysml...\n",
      "Reading /home/sysml/conda/share/jupyter/kernels/sysml/sysml.library/Domain Libraries/Analysis/TradeStudies.sysml...\n",
      "Reading /home/sysml/conda/share/jupyter/kernels/sysml/sysml.library/Domain Libraries/Analysis/StateSpaceRepresentation.sysml...\n",
      "Reading /home/sysml/conda/share/jupyter/kernels/sysml/sysml.library/Domain Libraries/Analysis/SampledFunctions.sysml...\n",
      "Reading /home/sysml/conda/share/jupyter/kernels/sysml/sysml.library/Domain Libraries/Analysis/AnalysisTooling.sysml...\n",
      "Reading /home/sysml/conda/share/jupyter/kernels/sysml/sysml.library/Domain Libraries/Cause and Effect/CausationConnections.sysml...\n",
      "Reading /home/sysml/conda/share/jupyter/kernels/sysml/sysml.library/Domain Libraries/Cause and Effect/CauseAndEffect.sysml...\n",
      "Reading /home/sysml/conda/share/jupyter/kernels/sysml/sysml.library/Domain Libraries/Quantities and Units/TensorCalculations.sysml...\n",
      "Reading /home/sysml/conda/share/jupyter/kernels/sysml/sysml.library/Domain Libraries/Quantities and Units/ISQSpaceTime.sysml...\n",
      "Reading /home/sysml/conda/share/jupyter/kernels/sysml/sysml.library/Domain Libraries/Quantities and Units/ISQElectromagnetism.sysml...\n"
     ]
    },
    {
     "name": "stdout",
     "output_type": "stream",
     "text": [
      "Reading /home/sysml/conda/share/jupyter/kernels/sysml/sysml.library/Domain Libraries/Quantities and Units/USCustomaryUnits.sysml...\n",
      "Reading /home/sysml/conda/share/jupyter/kernels/sysml/sysml.library/Domain Libraries/Quantities and Units/Time.sysml...\n",
      "Reading /home/sysml/conda/share/jupyter/kernels/sysml/sysml.library/Domain Libraries/Quantities and Units/MeasurementReferences.sysml...\n",
      "Reading /home/sysml/conda/share/jupyter/kernels/sysml/sysml.library/Domain Libraries/Quantities and Units/ISQBase.sysml...\n",
      "Reading /home/sysml/conda/share/jupyter/kernels/sysml/sysml.library/Domain Libraries/Quantities and Units/ISQCondensedMatter.sysml...\n",
      "Reading /home/sysml/conda/share/jupyter/kernels/sysml/sysml.library/Domain Libraries/Quantities and Units/ISQMechanics.sysml...\n",
      "Reading /home/sysml/conda/share/jupyter/kernels/sysml/sysml.library/Domain Libraries/Quantities and Units/SI.sysml...\n",
      "Reading /home/sysml/conda/share/jupyter/kernels/sysml/sysml.library/Domain Libraries/Quantities and Units/ISQCharacteristicNumbers.sysml...\n",
      "Reading /home/sysml/conda/share/jupyter/kernels/sysml/sysml.library/Domain Libraries/Quantities and Units/QuantityCalculations.sysml...\n",
      "Reading /home/sysml/conda/share/jupyter/kernels/sysml/sysml.library/Domain Libraries/Quantities and Units/MeasurementRefCalculations.sysml...\n",
      "Reading /home/sysml/conda/share/jupyter/kernels/sysml/sysml.library/Domain Libraries/Quantities and Units/ISQAtomicNuclear.sysml...\n"
     ]
    },
    {
     "name": "stdout",
     "output_type": "stream",
     "text": [
      "Reading /home/sysml/conda/share/jupyter/kernels/sysml/sysml.library/Domain Libraries/Quantities and Units/ISQ.sysml...\n",
      "Reading /home/sysml/conda/share/jupyter/kernels/sysml/sysml.library/Domain Libraries/Quantities and Units/ISQAcoustics.sysml...\n",
      "Reading /home/sysml/conda/share/jupyter/kernels/sysml/sysml.library/Domain Libraries/Quantities and Units/ISQLight.sysml...\n",
      "Reading /home/sysml/conda/share/jupyter/kernels/sysml/sysml.library/Domain Libraries/Quantities and Units/ISQInformation.sysml...\n",
      "Reading /home/sysml/conda/share/jupyter/kernels/sysml/sysml.library/Domain Libraries/Quantities and Units/ISQThermodynamics.sysml...\n",
      "Reading /home/sysml/conda/share/jupyter/kernels/sysml/sysml.library/Domain Libraries/Quantities and Units/SIPrefixes.sysml...\n",
      "Reading /home/sysml/conda/share/jupyter/kernels/sysml/sysml.library/Domain Libraries/Quantities and Units/VectorCalculations.sysml...\n",
      "Reading /home/sysml/conda/share/jupyter/kernels/sysml/sysml.library/Domain Libraries/Quantities and Units/ISQChemistryMolecular.sysml...\n",
      "Reading /home/sysml/conda/share/jupyter/kernels/sysml/sysml.library/Domain Libraries/Quantities and Units/Quantities.sysml...\n",
      "Reading /home/sysml/conda/share/jupyter/kernels/sysml/sysml.library/Domain Libraries/Metadata/ImageMetadata.sysml...\n",
      "Reading /home/sysml/conda/share/jupyter/kernels/sysml/sysml.library/Domain Libraries/Metadata/ModelingMetadata.sysml...\n",
      "Reading /home/sysml/conda/share/jupyter/kernels/sysml/sysml.library/Domain Libraries/Metadata/ParametersOfInterestMetadata.sysml...\n",
      "Reading /home/sysml/conda/share/jupyter/kernels/sysml/sysml.library/Domain Libraries/Metadata/RiskMetadata.sysml...\n",
      "Reading /home/sysml/conda/share/jupyter/kernels/sysml/sysml.library/Domain Libraries/Requirement Derivation/RequirementDerivation.sysml...\n",
      "Reading /home/sysml/conda/share/jupyter/kernels/sysml/sysml.library/Domain Libraries/Requirement Derivation/DerivationConnections.sysml...\n"
     ]
    },
    {
     "name": "stderr",
     "output_type": "stream",
     "text": [
      "Dec 16, 2024 3:22:45 AM io.github.spencerpark.jupyter.channels.Loop start\n",
      "INFO: Loop starting...\n",
      "Dec 16, 2024 3:22:45 AM io.github.spencerpark.jupyter.channels.Loop start\n",
      "INFO: Loop started.\n",
      "Dec 16, 2024 3:22:45 AM io.github.spencerpark.jupyter.channels.Loop start\n",
      "INFO: Loop starting...\n",
      "Dec 16, 2024 3:22:45 AM io.github.spencerpark.jupyter.channels.Loop start\n",
      "INFO: Loop started.\n",
      "Dec 16, 2024 3:22:45 AM io.github.spencerpark.jupyter.channels.Loop start\n",
      "INFO: Loop starting...\n",
      "Dec 16, 2024 3:22:45 AM io.github.spencerpark.jupyter.channels.Loop start\n",
      "INFO: Loop started.\n"
     ]
    },
    {
     "name": "stderr",
     "output_type": "stream",
     "text": [
      "Dec 16, 2024 3:22:47 AM io.github.spencerpark.jupyter.channels.Loop shutdown\n",
      "INFO: Loop shutdown.\n",
      "Dec 16, 2024 3:22:47 AM io.github.spencerpark.jupyter.channels.Loop shutdown\n",
      "INFO: Loop shutdown.\n",
      "Dec 16, 2024 3:22:47 AM io.github.spencerpark.jupyter.channels.Loop shutdown\n",
      "INFO: Loop shutdown.\n",
      "Dec 16, 2024 3:22:47 AM io.github.spencerpark.jupyter.channels.Loop run\n",
      "INFO: Running loop shutdown callback.\n",
      "Dec 16, 2024 3:22:47 AM io.github.spencerpark.jupyter.channels.Loop run\n",
      "INFO: Loop stopped.\n",
      "Dec 16, 2024 3:22:47 AM io.github.spencerpark.jupyter.channels.Loop run\n",
      "INFO: Running loop shutdown callback.\n",
      "Dec 16, 2024 3:22:47 AM io.github.spencerpark.jupyter.channels.Loop run\n",
      "INFO: Loop stopped.\n",
      "Dec 16, 2024 3:22:47 AM io.github.spencerpark.jupyter.channels.Loop run\n",
      "INFO: Running loop shutdown callback.\n",
      "Dec 16, 2024 3:22:47 AM io.github.spencerpark.jupyter.channels.Loop run\n",
      "INFO: Loop stopped.\n"
     ]
    },
    {
     "name": "stdout",
     "output_type": "stream",
     "text": [
      "Signing notebook: SysML - State Charts.ipynb\n",
      "Executing: TestSuite/ItemTest.ipynb\n"
     ]
    },
    {
     "name": "stderr",
     "output_type": "stream",
     "text": [
      "/home/sysml/conda/lib/python3.12/site-packages/nbformat/__init__.py:96: MissingIDFieldWarning: Cell is missing an id field, this will become a hard error in future nbformat versions. You may want to use `normalize()` on your notebooks before validations (available since nbformat 5.1.4). Previous versions of nbformat are fixing this issue transparently, and will stop doing so in the future.\n",
      "  validate(nb)\n"
     ]
    },
    {
     "name": "stdout",
     "output_type": "stream",
     "text": [
      "Reading /home/sysml/conda/share/jupyter/kernels/sysml/sysml.library/Kernel Libraries/Kernel Semantic Library/Observation.kerml...\n"
     ]
    },
    {
     "name": "stderr",
     "output_type": "stream",
     "text": [
      "log4j:WARN No appenders could be found for logger (org.eclipse.xtext.parser.antlr.AbstractInternalAntlrParser).\n",
      "log4j:WARN Please initialize the log4j system properly.\n",
      "log4j:WARN See http://logging.apache.org/log4j/1.2/faq.html#noconfig for more info.\n"
     ]
    },
    {
     "name": "stdout",
     "output_type": "stream",
     "text": [
      "Reading /home/sysml/conda/share/jupyter/kernels/sysml/sysml.library/Kernel Libraries/Kernel Semantic Library/Transfers.kerml...\n",
      "Reading /home/sysml/conda/share/jupyter/kernels/sysml/sysml.library/Kernel Libraries/Kernel Semantic Library/Metaobjects.kerml...\n",
      "Reading /home/sysml/conda/share/jupyter/kernels/sysml/sysml.library/Kernel Libraries/Kernel Semantic Library/Triggers.kerml...\n",
      "Reading /home/sysml/conda/share/jupyter/kernels/sysml/sysml.library/Kernel Libraries/Kernel Semantic Library/Links.kerml...\n",
      "Reading /home/sysml/conda/share/jupyter/kernels/sysml/sysml.library/Kernel Libraries/Kernel Semantic Library/Base.kerml...\n",
      "Reading /home/sysml/conda/share/jupyter/kernels/sysml/sysml.library/Kernel Libraries/Kernel Semantic Library/Objects.kerml...\n",
      "Reading /home/sysml/conda/share/jupyter/kernels/sysml/sysml.library/Kernel Libraries/Kernel Semantic Library/Clocks.kerml...\n",
      "Reading /home/sysml/conda/share/jupyter/kernels/sysml/sysml.library/Kernel Libraries/Kernel Semantic Library/KerML.kerml...\n"
     ]
    },
    {
     "name": "stdout",
     "output_type": "stream",
     "text": [
      "Reading /home/sysml/conda/share/jupyter/kernels/sysml/sysml.library/Kernel Libraries/Kernel Semantic Library/FeatureReferencingPerformances.kerml...\n",
      "Reading /home/sysml/conda/share/jupyter/kernels/sysml/sysml.library/Kernel Libraries/Kernel Semantic Library/Performances.kerml...\n",
      "Reading /home/sysml/conda/share/jupyter/kernels/sysml/sysml.library/Kernel Libraries/Kernel Semantic Library/Occurrences.kerml...\n",
      "Reading /home/sysml/conda/share/jupyter/kernels/sysml/sysml.library/Kernel Libraries/Kernel Semantic Library/ControlPerformances.kerml...\n",
      "Reading /home/sysml/conda/share/jupyter/kernels/sysml/sysml.library/Kernel Libraries/Kernel Semantic Library/StatePerformances.kerml...\n",
      "Reading /home/sysml/conda/share/jupyter/kernels/sysml/sysml.library/Kernel Libraries/Kernel Semantic Library/TransitionPerformances.kerml...\n",
      "Reading /home/sysml/conda/share/jupyter/kernels/sysml/sysml.library/Kernel Libraries/Kernel Semantic Library/SpatialFrames.kerml...\n",
      "Reading /home/sysml/conda/share/jupyter/kernels/sysml/sysml.library/Kernel Libraries/Kernel Data Type Library/VectorValues.kerml...\n",
      "Reading /home/sysml/conda/share/jupyter/kernels/sysml/sysml.library/Kernel Libraries/Kernel Data Type Library/Collections.kerml...\n",
      "Reading /home/sysml/conda/share/jupyter/kernels/sysml/sysml.library/Kernel Libraries/Kernel Data Type Library/ScalarValues.kerml...\n",
      "Reading /home/sysml/conda/share/jupyter/kernels/sysml/sysml.library/Kernel Libraries/Kernel Function Library/NaturalFunctions.kerml...\n",
      "Reading /home/sysml/conda/share/jupyter/kernels/sysml/sysml.library/Kernel Libraries/Kernel Function Library/BaseFunctions.kerml...\n",
      "Reading /home/sysml/conda/share/jupyter/kernels/sysml/sysml.library/Kernel Libraries/Kernel Function Library/DataFunctions.kerml...\n",
      "Reading /home/sysml/conda/share/jupyter/kernels/sysml/sysml.library/Kernel Libraries/Kernel Function Library/IntegerFunctions.kerml...\n",
      "Reading /home/sysml/conda/share/jupyter/kernels/sysml/sysml.library/Kernel Libraries/Kernel Function Library/RealFunctions.kerml...\n",
      "Reading /home/sysml/conda/share/jupyter/kernels/sysml/sysml.library/Kernel Libraries/Kernel Function Library/NumericalFunctions.kerml...\n"
     ]
    },
    {
     "name": "stdout",
     "output_type": "stream",
     "text": [
      "Reading /home/sysml/conda/share/jupyter/kernels/sysml/sysml.library/Kernel Libraries/Kernel Function Library/VectorFunctions.kerml...\n",
      "Reading /home/sysml/conda/share/jupyter/kernels/sysml/sysml.library/Kernel Libraries/Kernel Function Library/SequenceFunctions.kerml...\n",
      "Reading /home/sysml/conda/share/jupyter/kernels/sysml/sysml.library/Kernel Libraries/Kernel Function Library/ComplexFunctions.kerml...\n",
      "Reading /home/sysml/conda/share/jupyter/kernels/sysml/sysml.library/Kernel Libraries/Kernel Function Library/RationalFunctions.kerml...\n",
      "Reading /home/sysml/conda/share/jupyter/kernels/sysml/sysml.library/Kernel Libraries/Kernel Function Library/StringFunctions.kerml...\n",
      "Reading /home/sysml/conda/share/jupyter/kernels/sysml/sysml.library/Kernel Libraries/Kernel Function Library/ScalarFunctions.kerml...\n",
      "Reading /home/sysml/conda/share/jupyter/kernels/sysml/sysml.library/Kernel Libraries/Kernel Function Library/CollectionFunctions.kerml...\n",
      "Reading /home/sysml/conda/share/jupyter/kernels/sysml/sysml.library/Kernel Libraries/Kernel Function Library/BooleanFunctions.kerml...\n",
      "Reading /home/sysml/conda/share/jupyter/kernels/sysml/sysml.library/Kernel Libraries/Kernel Function Library/OccurrenceFunctions.kerml...\n",
      "Reading /home/sysml/conda/share/jupyter/kernels/sysml/sysml.library/Kernel Libraries/Kernel Function Library/TrigFunctions.kerml...\n",
      "Reading /home/sysml/conda/share/jupyter/kernels/sysml/sysml.library/Kernel Libraries/Kernel Function Library/ControlFunctions.kerml...\n",
      "Reading /home/sysml/conda/share/jupyter/kernels/sysml/sysml.library/Systems Library/Connections.sysml...\n"
     ]
    },
    {
     "name": "stdout",
     "output_type": "stream",
     "text": [
      "Reading /home/sysml/conda/share/jupyter/kernels/sysml/sysml.library/Systems Library/States.sysml...\n",
      "Reading /home/sysml/conda/share/jupyter/kernels/sysml/sysml.library/Systems Library/Actions.sysml...\n",
      "Reading /home/sysml/conda/share/jupyter/kernels/sysml/sysml.library/Systems Library/Metadata.sysml...\n",
      "Reading /home/sysml/conda/share/jupyter/kernels/sysml/sysml.library/Systems Library/Requirements.sysml...\n",
      "Reading /home/sysml/conda/share/jupyter/kernels/sysml/sysml.library/Systems Library/AnalysisCases.sysml...\n",
      "Reading /home/sysml/conda/share/jupyter/kernels/sysml/sysml.library/Systems Library/Attributes.sysml...\n",
      "Reading /home/sysml/conda/share/jupyter/kernels/sysml/sysml.library/Systems Library/Cases.sysml...\n",
      "Reading /home/sysml/conda/share/jupyter/kernels/sysml/sysml.library/Systems Library/VerificationCases.sysml...\n",
      "Reading /home/sysml/conda/share/jupyter/kernels/sysml/sysml.library/Systems Library/Interfaces.sysml...\n",
      "Reading /home/sysml/conda/share/jupyter/kernels/sysml/sysml.library/Systems Library/Ports.sysml...\n",
      "Reading /home/sysml/conda/share/jupyter/kernels/sysml/sysml.library/Systems Library/Views.sysml...\n",
      "Reading /home/sysml/conda/share/jupyter/kernels/sysml/sysml.library/Systems Library/UseCases.sysml...\n",
      "Reading /home/sysml/conda/share/jupyter/kernels/sysml/sysml.library/Systems Library/Parts.sysml...\n",
      "Reading /home/sysml/conda/share/jupyter/kernels/sysml/sysml.library/Systems Library/SysML.sysml...\n",
      "Reading /home/sysml/conda/share/jupyter/kernels/sysml/sysml.library/Systems Library/Constraints.sysml...\n",
      "Reading /home/sysml/conda/share/jupyter/kernels/sysml/sysml.library/Systems Library/Items.sysml...\n"
     ]
    },
    {
     "name": "stdout",
     "output_type": "stream",
     "text": [
      "Reading /home/sysml/conda/share/jupyter/kernels/sysml/sysml.library/Systems Library/Calculations.sysml...\n",
      "Reading /home/sysml/conda/share/jupyter/kernels/sysml/sysml.library/Systems Library/StandardViewDefinitions.sysml...\n",
      "Reading /home/sysml/conda/share/jupyter/kernels/sysml/sysml.library/Systems Library/Allocations.sysml...\n",
      "Reading /home/sysml/conda/share/jupyter/kernels/sysml/sysml.library/Domain Libraries/Geometry/SpatialItems.sysml...\n",
      "Reading /home/sysml/conda/share/jupyter/kernels/sysml/sysml.library/Domain Libraries/Geometry/ShapeItems.sysml...\n",
      "Reading /home/sysml/conda/share/jupyter/kernels/sysml/sysml.library/Domain Libraries/Analysis/TradeStudies.sysml...\n",
      "Reading /home/sysml/conda/share/jupyter/kernels/sysml/sysml.library/Domain Libraries/Analysis/StateSpaceRepresentation.sysml...\n",
      "Reading /home/sysml/conda/share/jupyter/kernels/sysml/sysml.library/Domain Libraries/Analysis/SampledFunctions.sysml...\n",
      "Reading /home/sysml/conda/share/jupyter/kernels/sysml/sysml.library/Domain Libraries/Analysis/AnalysisTooling.sysml...\n",
      "Reading /home/sysml/conda/share/jupyter/kernels/sysml/sysml.library/Domain Libraries/Cause and Effect/CausationConnections.sysml...\n",
      "Reading /home/sysml/conda/share/jupyter/kernels/sysml/sysml.library/Domain Libraries/Cause and Effect/CauseAndEffect.sysml...\n",
      "Reading /home/sysml/conda/share/jupyter/kernels/sysml/sysml.library/Domain Libraries/Quantities and Units/TensorCalculations.sysml...\n",
      "Reading /home/sysml/conda/share/jupyter/kernels/sysml/sysml.library/Domain Libraries/Quantities and Units/ISQSpaceTime.sysml...\n",
      "Reading /home/sysml/conda/share/jupyter/kernels/sysml/sysml.library/Domain Libraries/Quantities and Units/ISQElectromagnetism.sysml...\n"
     ]
    },
    {
     "name": "stdout",
     "output_type": "stream",
     "text": [
      "Reading /home/sysml/conda/share/jupyter/kernels/sysml/sysml.library/Domain Libraries/Quantities and Units/USCustomaryUnits.sysml...\n",
      "Reading /home/sysml/conda/share/jupyter/kernels/sysml/sysml.library/Domain Libraries/Quantities and Units/Time.sysml...\n",
      "Reading /home/sysml/conda/share/jupyter/kernels/sysml/sysml.library/Domain Libraries/Quantities and Units/MeasurementReferences.sysml...\n",
      "Reading /home/sysml/conda/share/jupyter/kernels/sysml/sysml.library/Domain Libraries/Quantities and Units/ISQBase.sysml...\n",
      "Reading /home/sysml/conda/share/jupyter/kernels/sysml/sysml.library/Domain Libraries/Quantities and Units/ISQCondensedMatter.sysml...\n",
      "Reading /home/sysml/conda/share/jupyter/kernels/sysml/sysml.library/Domain Libraries/Quantities and Units/ISQMechanics.sysml...\n",
      "Reading /home/sysml/conda/share/jupyter/kernels/sysml/sysml.library/Domain Libraries/Quantities and Units/SI.sysml...\n",
      "Reading /home/sysml/conda/share/jupyter/kernels/sysml/sysml.library/Domain Libraries/Quantities and Units/ISQCharacteristicNumbers.sysml...\n",
      "Reading /home/sysml/conda/share/jupyter/kernels/sysml/sysml.library/Domain Libraries/Quantities and Units/QuantityCalculations.sysml...\n",
      "Reading /home/sysml/conda/share/jupyter/kernels/sysml/sysml.library/Domain Libraries/Quantities and Units/MeasurementRefCalculations.sysml...\n",
      "Reading /home/sysml/conda/share/jupyter/kernels/sysml/sysml.library/Domain Libraries/Quantities and Units/ISQAtomicNuclear.sysml...\n"
     ]
    },
    {
     "name": "stdout",
     "output_type": "stream",
     "text": [
      "Reading /home/sysml/conda/share/jupyter/kernels/sysml/sysml.library/Domain Libraries/Quantities and Units/ISQ.sysml...\n",
      "Reading /home/sysml/conda/share/jupyter/kernels/sysml/sysml.library/Domain Libraries/Quantities and Units/ISQAcoustics.sysml...\n",
      "Reading /home/sysml/conda/share/jupyter/kernels/sysml/sysml.library/Domain Libraries/Quantities and Units/ISQLight.sysml...\n",
      "Reading /home/sysml/conda/share/jupyter/kernels/sysml/sysml.library/Domain Libraries/Quantities and Units/ISQInformation.sysml...\n",
      "Reading /home/sysml/conda/share/jupyter/kernels/sysml/sysml.library/Domain Libraries/Quantities and Units/ISQThermodynamics.sysml...\n",
      "Reading /home/sysml/conda/share/jupyter/kernels/sysml/sysml.library/Domain Libraries/Quantities and Units/SIPrefixes.sysml...\n",
      "Reading /home/sysml/conda/share/jupyter/kernels/sysml/sysml.library/Domain Libraries/Quantities and Units/VectorCalculations.sysml...\n",
      "Reading /home/sysml/conda/share/jupyter/kernels/sysml/sysml.library/Domain Libraries/Quantities and Units/ISQChemistryMolecular.sysml...\n",
      "Reading /home/sysml/conda/share/jupyter/kernels/sysml/sysml.library/Domain Libraries/Quantities and Units/Quantities.sysml...\n",
      "Reading /home/sysml/conda/share/jupyter/kernels/sysml/sysml.library/Domain Libraries/Metadata/ImageMetadata.sysml...\n",
      "Reading /home/sysml/conda/share/jupyter/kernels/sysml/sysml.library/Domain Libraries/Metadata/ModelingMetadata.sysml...\n",
      "Reading /home/sysml/conda/share/jupyter/kernels/sysml/sysml.library/Domain Libraries/Metadata/ParametersOfInterestMetadata.sysml...\n",
      "Reading /home/sysml/conda/share/jupyter/kernels/sysml/sysml.library/Domain Libraries/Metadata/RiskMetadata.sysml...\n",
      "Reading /home/sysml/conda/share/jupyter/kernels/sysml/sysml.library/Domain Libraries/Requirement Derivation/RequirementDerivation.sysml...\n",
      "Reading /home/sysml/conda/share/jupyter/kernels/sysml/sysml.library/Domain Libraries/Requirement Derivation/DerivationConnections.sysml...\n"
     ]
    },
    {
     "name": "stderr",
     "output_type": "stream",
     "text": [
      "Dec 16, 2024 3:22:51 AM io.github.spencerpark.jupyter.channels.Loop start\n",
      "INFO: Loop starting...\n",
      "Dec 16, 2024 3:22:51 AM io.github.spencerpark.jupyter.channels.Loop start\n",
      "INFO: Loop started.\n",
      "Dec 16, 2024 3:22:51 AM io.github.spencerpark.jupyter.channels.Loop start\n",
      "INFO: Loop starting...\n",
      "Dec 16, 2024 3:22:51 AM io.github.spencerpark.jupyter.channels.Loop start\n",
      "INFO: Loop started.\n",
      "Dec 16, 2024 3:22:51 AM io.github.spencerpark.jupyter.channels.Loop start\n",
      "INFO: Loop starting...\n",
      "Dec 16, 2024 3:22:51 AM io.github.spencerpark.jupyter.channels.Loop start\n",
      "INFO: Loop started.\n"
     ]
    },
    {
     "name": "stderr",
     "output_type": "stream",
     "text": [
      "Dec 16, 2024 3:22:57 AM io.github.spencerpark.jupyter.channels.Loop shutdown\n",
      "INFO: Loop shutdown.\n",
      "Dec 16, 2024 3:22:57 AM io.github.spencerpark.jupyter.channels.Loop shutdown\n",
      "INFO: Loop shutdown.\n",
      "Dec 16, 2024 3:22:57 AM io.github.spencerpark.jupyter.channels.Loop shutdown\n",
      "INFO: Loop shutdown.\n",
      "Dec 16, 2024 3:22:57 AM io.github.spencerpark.jupyter.channels.Loop run\n",
      "INFO: Running loop shutdown callback.\n",
      "Dec 16, 2024 3:22:57 AM io.github.spencerpark.jupyter.channels.Loop run\n",
      "INFO: Loop stopped.\n",
      "Dec 16, 2024 3:22:57 AM io.github.spencerpark.jupyter.channels.Loop run\n",
      "INFO: Running loop shutdown callback.\n",
      "Dec 16, 2024 3:22:57 AM io.github.spencerpark.jupyter.channels.Loop run\n",
      "INFO: Loop stopped.\n"
     ]
    },
    {
     "name": "stderr",
     "output_type": "stream",
     "text": [
      "Dec 16, 2024 3:22:57 AM io.github.spencerpark.jupyter.channels.Loop run\n",
      "INFO: Running loop shutdown callback.\n",
      "Dec 16, 2024 3:22:57 AM io.github.spencerpark.jupyter.channels.Loop run\n",
      "INFO: Loop stopped.\n"
     ]
    },
    {
     "name": "stdout",
     "output_type": "stream",
     "text": [
      "Signing notebook: TestSuite/ItemTest.ipynb\n",
      "Executing: TestSuite/AllocationTest.ipynb\n"
     ]
    },
    {
     "name": "stderr",
     "output_type": "stream",
     "text": [
      "/home/sysml/conda/lib/python3.12/site-packages/nbformat/__init__.py:96: MissingIDFieldWarning: Cell is missing an id field, this will become a hard error in future nbformat versions. You may want to use `normalize()` on your notebooks before validations (available since nbformat 5.1.4). Previous versions of nbformat are fixing this issue transparently, and will stop doing so in the future.\n",
      "  validate(nb)\n"
     ]
    },
    {
     "name": "stdout",
     "output_type": "stream",
     "text": [
      "Reading /home/sysml/conda/share/jupyter/kernels/sysml/sysml.library/Kernel Libraries/Kernel Semantic Library/Observation.kerml...\n"
     ]
    },
    {
     "name": "stderr",
     "output_type": "stream",
     "text": [
      "log4j:WARN No appenders could be found for logger (org.eclipse.xtext.parser.antlr.AbstractInternalAntlrParser).\n",
      "log4j:WARN Please initialize the log4j system properly.\n",
      "log4j:WARN See http://logging.apache.org/log4j/1.2/faq.html#noconfig for more info.\n"
     ]
    },
    {
     "name": "stdout",
     "output_type": "stream",
     "text": [
      "Reading /home/sysml/conda/share/jupyter/kernels/sysml/sysml.library/Kernel Libraries/Kernel Semantic Library/Transfers.kerml...\n",
      "Reading /home/sysml/conda/share/jupyter/kernels/sysml/sysml.library/Kernel Libraries/Kernel Semantic Library/Metaobjects.kerml...\n",
      "Reading /home/sysml/conda/share/jupyter/kernels/sysml/sysml.library/Kernel Libraries/Kernel Semantic Library/Triggers.kerml...\n",
      "Reading /home/sysml/conda/share/jupyter/kernels/sysml/sysml.library/Kernel Libraries/Kernel Semantic Library/Links.kerml...\n",
      "Reading /home/sysml/conda/share/jupyter/kernels/sysml/sysml.library/Kernel Libraries/Kernel Semantic Library/Base.kerml...\n",
      "Reading /home/sysml/conda/share/jupyter/kernels/sysml/sysml.library/Kernel Libraries/Kernel Semantic Library/Objects.kerml...\n",
      "Reading /home/sysml/conda/share/jupyter/kernels/sysml/sysml.library/Kernel Libraries/Kernel Semantic Library/Clocks.kerml...\n",
      "Reading /home/sysml/conda/share/jupyter/kernels/sysml/sysml.library/Kernel Libraries/Kernel Semantic Library/KerML.kerml...\n"
     ]
    },
    {
     "name": "stdout",
     "output_type": "stream",
     "text": [
      "Reading /home/sysml/conda/share/jupyter/kernels/sysml/sysml.library/Kernel Libraries/Kernel Semantic Library/FeatureReferencingPerformances.kerml...\n",
      "Reading /home/sysml/conda/share/jupyter/kernels/sysml/sysml.library/Kernel Libraries/Kernel Semantic Library/Performances.kerml...\n",
      "Reading /home/sysml/conda/share/jupyter/kernels/sysml/sysml.library/Kernel Libraries/Kernel Semantic Library/Occurrences.kerml...\n",
      "Reading /home/sysml/conda/share/jupyter/kernels/sysml/sysml.library/Kernel Libraries/Kernel Semantic Library/ControlPerformances.kerml...\n",
      "Reading /home/sysml/conda/share/jupyter/kernels/sysml/sysml.library/Kernel Libraries/Kernel Semantic Library/StatePerformances.kerml...\n",
      "Reading /home/sysml/conda/share/jupyter/kernels/sysml/sysml.library/Kernel Libraries/Kernel Semantic Library/TransitionPerformances.kerml...\n",
      "Reading /home/sysml/conda/share/jupyter/kernels/sysml/sysml.library/Kernel Libraries/Kernel Semantic Library/SpatialFrames.kerml...\n",
      "Reading /home/sysml/conda/share/jupyter/kernels/sysml/sysml.library/Kernel Libraries/Kernel Data Type Library/VectorValues.kerml...\n",
      "Reading /home/sysml/conda/share/jupyter/kernels/sysml/sysml.library/Kernel Libraries/Kernel Data Type Library/Collections.kerml...\n",
      "Reading /home/sysml/conda/share/jupyter/kernels/sysml/sysml.library/Kernel Libraries/Kernel Data Type Library/ScalarValues.kerml...\n",
      "Reading /home/sysml/conda/share/jupyter/kernels/sysml/sysml.library/Kernel Libraries/Kernel Function Library/NaturalFunctions.kerml...\n",
      "Reading /home/sysml/conda/share/jupyter/kernels/sysml/sysml.library/Kernel Libraries/Kernel Function Library/BaseFunctions.kerml...\n",
      "Reading /home/sysml/conda/share/jupyter/kernels/sysml/sysml.library/Kernel Libraries/Kernel Function Library/DataFunctions.kerml...\n",
      "Reading /home/sysml/conda/share/jupyter/kernels/sysml/sysml.library/Kernel Libraries/Kernel Function Library/IntegerFunctions.kerml...\n",
      "Reading /home/sysml/conda/share/jupyter/kernels/sysml/sysml.library/Kernel Libraries/Kernel Function Library/RealFunctions.kerml...\n"
     ]
    },
    {
     "name": "stdout",
     "output_type": "stream",
     "text": [
      "Reading /home/sysml/conda/share/jupyter/kernels/sysml/sysml.library/Kernel Libraries/Kernel Function Library/NumericalFunctions.kerml...\n",
      "Reading /home/sysml/conda/share/jupyter/kernels/sysml/sysml.library/Kernel Libraries/Kernel Function Library/VectorFunctions.kerml...\n",
      "Reading /home/sysml/conda/share/jupyter/kernels/sysml/sysml.library/Kernel Libraries/Kernel Function Library/SequenceFunctions.kerml...\n",
      "Reading /home/sysml/conda/share/jupyter/kernels/sysml/sysml.library/Kernel Libraries/Kernel Function Library/ComplexFunctions.kerml...\n",
      "Reading /home/sysml/conda/share/jupyter/kernels/sysml/sysml.library/Kernel Libraries/Kernel Function Library/RationalFunctions.kerml...\n",
      "Reading /home/sysml/conda/share/jupyter/kernels/sysml/sysml.library/Kernel Libraries/Kernel Function Library/StringFunctions.kerml...\n",
      "Reading /home/sysml/conda/share/jupyter/kernels/sysml/sysml.library/Kernel Libraries/Kernel Function Library/ScalarFunctions.kerml...\n",
      "Reading /home/sysml/conda/share/jupyter/kernels/sysml/sysml.library/Kernel Libraries/Kernel Function Library/CollectionFunctions.kerml...\n",
      "Reading /home/sysml/conda/share/jupyter/kernels/sysml/sysml.library/Kernel Libraries/Kernel Function Library/BooleanFunctions.kerml...\n",
      "Reading /home/sysml/conda/share/jupyter/kernels/sysml/sysml.library/Kernel Libraries/Kernel Function Library/OccurrenceFunctions.kerml...\n",
      "Reading /home/sysml/conda/share/jupyter/kernels/sysml/sysml.library/Kernel Libraries/Kernel Function Library/TrigFunctions.kerml...\n",
      "Reading /home/sysml/conda/share/jupyter/kernels/sysml/sysml.library/Kernel Libraries/Kernel Function Library/ControlFunctions.kerml...\n",
      "Reading /home/sysml/conda/share/jupyter/kernels/sysml/sysml.library/Systems Library/Connections.sysml...\n"
     ]
    },
    {
     "name": "stdout",
     "output_type": "stream",
     "text": [
      "Reading /home/sysml/conda/share/jupyter/kernels/sysml/sysml.library/Systems Library/States.sysml...\n",
      "Reading /home/sysml/conda/share/jupyter/kernels/sysml/sysml.library/Systems Library/Actions.sysml...\n",
      "Reading /home/sysml/conda/share/jupyter/kernels/sysml/sysml.library/Systems Library/Metadata.sysml...\n",
      "Reading /home/sysml/conda/share/jupyter/kernels/sysml/sysml.library/Systems Library/Requirements.sysml...\n",
      "Reading /home/sysml/conda/share/jupyter/kernels/sysml/sysml.library/Systems Library/AnalysisCases.sysml...\n",
      "Reading /home/sysml/conda/share/jupyter/kernels/sysml/sysml.library/Systems Library/Attributes.sysml...\n",
      "Reading /home/sysml/conda/share/jupyter/kernels/sysml/sysml.library/Systems Library/Cases.sysml...\n",
      "Reading /home/sysml/conda/share/jupyter/kernels/sysml/sysml.library/Systems Library/VerificationCases.sysml...\n",
      "Reading /home/sysml/conda/share/jupyter/kernels/sysml/sysml.library/Systems Library/Interfaces.sysml...\n",
      "Reading /home/sysml/conda/share/jupyter/kernels/sysml/sysml.library/Systems Library/Ports.sysml...\n",
      "Reading /home/sysml/conda/share/jupyter/kernels/sysml/sysml.library/Systems Library/Views.sysml...\n",
      "Reading /home/sysml/conda/share/jupyter/kernels/sysml/sysml.library/Systems Library/UseCases.sysml...\n",
      "Reading /home/sysml/conda/share/jupyter/kernels/sysml/sysml.library/Systems Library/Parts.sysml...\n",
      "Reading /home/sysml/conda/share/jupyter/kernels/sysml/sysml.library/Systems Library/SysML.sysml...\n",
      "Reading /home/sysml/conda/share/jupyter/kernels/sysml/sysml.library/Systems Library/Constraints.sysml...\n",
      "Reading /home/sysml/conda/share/jupyter/kernels/sysml/sysml.library/Systems Library/Items.sysml...\n",
      "Reading /home/sysml/conda/share/jupyter/kernels/sysml/sysml.library/Systems Library/Calculations.sysml...\n",
      "Reading /home/sysml/conda/share/jupyter/kernels/sysml/sysml.library/Systems Library/StandardViewDefinitions.sysml...\n",
      "Reading /home/sysml/conda/share/jupyter/kernels/sysml/sysml.library/Systems Library/Allocations.sysml...\n",
      "Reading /home/sysml/conda/share/jupyter/kernels/sysml/sysml.library/Domain Libraries/Geometry/SpatialItems.sysml...\n"
     ]
    },
    {
     "name": "stdout",
     "output_type": "stream",
     "text": [
      "Reading /home/sysml/conda/share/jupyter/kernels/sysml/sysml.library/Domain Libraries/Geometry/ShapeItems.sysml...\n",
      "Reading /home/sysml/conda/share/jupyter/kernels/sysml/sysml.library/Domain Libraries/Analysis/TradeStudies.sysml...\n",
      "Reading /home/sysml/conda/share/jupyter/kernels/sysml/sysml.library/Domain Libraries/Analysis/StateSpaceRepresentation.sysml...\n",
      "Reading /home/sysml/conda/share/jupyter/kernels/sysml/sysml.library/Domain Libraries/Analysis/SampledFunctions.sysml...\n",
      "Reading /home/sysml/conda/share/jupyter/kernels/sysml/sysml.library/Domain Libraries/Analysis/AnalysisTooling.sysml...\n",
      "Reading /home/sysml/conda/share/jupyter/kernels/sysml/sysml.library/Domain Libraries/Cause and Effect/CausationConnections.sysml...\n",
      "Reading /home/sysml/conda/share/jupyter/kernels/sysml/sysml.library/Domain Libraries/Cause and Effect/CauseAndEffect.sysml...\n",
      "Reading /home/sysml/conda/share/jupyter/kernels/sysml/sysml.library/Domain Libraries/Quantities and Units/TensorCalculations.sysml...\n",
      "Reading /home/sysml/conda/share/jupyter/kernels/sysml/sysml.library/Domain Libraries/Quantities and Units/ISQSpaceTime.sysml...\n",
      "Reading /home/sysml/conda/share/jupyter/kernels/sysml/sysml.library/Domain Libraries/Quantities and Units/ISQElectromagnetism.sysml...\n"
     ]
    },
    {
     "name": "stdout",
     "output_type": "stream",
     "text": [
      "Reading /home/sysml/conda/share/jupyter/kernels/sysml/sysml.library/Domain Libraries/Quantities and Units/USCustomaryUnits.sysml...\n",
      "Reading /home/sysml/conda/share/jupyter/kernels/sysml/sysml.library/Domain Libraries/Quantities and Units/Time.sysml...\n",
      "Reading /home/sysml/conda/share/jupyter/kernels/sysml/sysml.library/Domain Libraries/Quantities and Units/MeasurementReferences.sysml...\n",
      "Reading /home/sysml/conda/share/jupyter/kernels/sysml/sysml.library/Domain Libraries/Quantities and Units/ISQBase.sysml...\n",
      "Reading /home/sysml/conda/share/jupyter/kernels/sysml/sysml.library/Domain Libraries/Quantities and Units/ISQCondensedMatter.sysml...\n",
      "Reading /home/sysml/conda/share/jupyter/kernels/sysml/sysml.library/Domain Libraries/Quantities and Units/ISQMechanics.sysml...\n",
      "Reading /home/sysml/conda/share/jupyter/kernels/sysml/sysml.library/Domain Libraries/Quantities and Units/SI.sysml...\n",
      "Reading /home/sysml/conda/share/jupyter/kernels/sysml/sysml.library/Domain Libraries/Quantities and Units/ISQCharacteristicNumbers.sysml...\n",
      "Reading /home/sysml/conda/share/jupyter/kernels/sysml/sysml.library/Domain Libraries/Quantities and Units/QuantityCalculations.sysml...\n",
      "Reading /home/sysml/conda/share/jupyter/kernels/sysml/sysml.library/Domain Libraries/Quantities and Units/MeasurementRefCalculations.sysml...\n",
      "Reading /home/sysml/conda/share/jupyter/kernels/sysml/sysml.library/Domain Libraries/Quantities and Units/ISQAtomicNuclear.sysml...\n"
     ]
    },
    {
     "name": "stdout",
     "output_type": "stream",
     "text": [
      "Reading /home/sysml/conda/share/jupyter/kernels/sysml/sysml.library/Domain Libraries/Quantities and Units/ISQ.sysml...\n",
      "Reading /home/sysml/conda/share/jupyter/kernels/sysml/sysml.library/Domain Libraries/Quantities and Units/ISQAcoustics.sysml...\n",
      "Reading /home/sysml/conda/share/jupyter/kernels/sysml/sysml.library/Domain Libraries/Quantities and Units/ISQLight.sysml...\n",
      "Reading /home/sysml/conda/share/jupyter/kernels/sysml/sysml.library/Domain Libraries/Quantities and Units/ISQInformation.sysml...\n",
      "Reading /home/sysml/conda/share/jupyter/kernels/sysml/sysml.library/Domain Libraries/Quantities and Units/ISQThermodynamics.sysml...\n",
      "Reading /home/sysml/conda/share/jupyter/kernels/sysml/sysml.library/Domain Libraries/Quantities and Units/SIPrefixes.sysml...\n",
      "Reading /home/sysml/conda/share/jupyter/kernels/sysml/sysml.library/Domain Libraries/Quantities and Units/VectorCalculations.sysml...\n",
      "Reading /home/sysml/conda/share/jupyter/kernels/sysml/sysml.library/Domain Libraries/Quantities and Units/ISQChemistryMolecular.sysml...\n",
      "Reading /home/sysml/conda/share/jupyter/kernels/sysml/sysml.library/Domain Libraries/Quantities and Units/Quantities.sysml...\n",
      "Reading /home/sysml/conda/share/jupyter/kernels/sysml/sysml.library/Domain Libraries/Metadata/ImageMetadata.sysml...\n",
      "Reading /home/sysml/conda/share/jupyter/kernels/sysml/sysml.library/Domain Libraries/Metadata/ModelingMetadata.sysml...\n",
      "Reading /home/sysml/conda/share/jupyter/kernels/sysml/sysml.library/Domain Libraries/Metadata/ParametersOfInterestMetadata.sysml...\n",
      "Reading /home/sysml/conda/share/jupyter/kernels/sysml/sysml.library/Domain Libraries/Metadata/RiskMetadata.sysml...\n",
      "Reading /home/sysml/conda/share/jupyter/kernels/sysml/sysml.library/Domain Libraries/Requirement Derivation/RequirementDerivation.sysml...\n",
      "Reading /home/sysml/conda/share/jupyter/kernels/sysml/sysml.library/Domain Libraries/Requirement Derivation/DerivationConnections.sysml...\n"
     ]
    },
    {
     "name": "stderr",
     "output_type": "stream",
     "text": [
      "Dec 16, 2024 3:23:01 AM io.github.spencerpark.jupyter.channels.Loop start\n",
      "INFO: Loop starting...\n",
      "Dec 16, 2024 3:23:01 AM io.github.spencerpark.jupyter.channels.Loop start\n",
      "INFO: Loop started.\n",
      "Dec 16, 2024 3:23:01 AM io.github.spencerpark.jupyter.channels.Loop start\n",
      "INFO: Loop starting...\n",
      "Dec 16, 2024 3:23:01 AM io.github.spencerpark.jupyter.channels.Loop start\n",
      "INFO: Loop started.\n",
      "Dec 16, 2024 3:23:01 AM io.github.spencerpark.jupyter.channels.Loop start\n",
      "INFO: Loop starting...\n",
      "Dec 16, 2024 3:23:01 AM io.github.spencerpark.jupyter.channels.Loop start\n",
      "INFO: Loop started.\n"
     ]
    },
    {
     "name": "stderr",
     "output_type": "stream",
     "text": [
      "Dec 16, 2024 3:23:07 AM io.github.spencerpark.jupyter.channels.Loop shutdown\n",
      "INFO: Loop shutdown.\n",
      "Dec 16, 2024 3:23:07 AM io.github.spencerpark.jupyter.channels.Loop shutdown\n",
      "INFO: Loop shutdown.\n",
      "Dec 16, 2024 3:23:07 AM io.github.spencerpark.jupyter.channels.Loop shutdown\n",
      "INFO: Loop shutdown.\n",
      "Dec 16, 2024 3:23:07 AM io.github.spencerpark.jupyter.channels.Loop run\n",
      "INFO: Running loop shutdown callback.\n",
      "Dec 16, 2024 3:23:07 AM io.github.spencerpark.jupyter.channels.Loop run\n",
      "INFO: Loop stopped.\n",
      "Dec 16, 2024 3:23:07 AM io.github.spencerpark.jupyter.channels.Loop run\n",
      "INFO: Running loop shutdown callback.\n",
      "Dec 16, 2024 3:23:07 AM io.github.spencerpark.jupyter.channels.Loop run\n",
      "INFO: Loop stopped.\n"
     ]
    },
    {
     "name": "stderr",
     "output_type": "stream",
     "text": [
      "Dec 16, 2024 3:23:07 AM io.github.spencerpark.jupyter.channels.Loop run\n",
      "INFO: Running loop shutdown callback.\n",
      "Dec 16, 2024 3:23:07 AM io.github.spencerpark.jupyter.channels.Loop run\n",
      "INFO: Loop stopped.\n"
     ]
    },
    {
     "name": "stdout",
     "output_type": "stream",
     "text": [
      "Signing notebook: TestSuite/AllocationTest.ipynb\n",
      "Executing: TestSuite/RootPackageTest.ipynb\n"
     ]
    },
    {
     "name": "stderr",
     "output_type": "stream",
     "text": [
      "/home/sysml/conda/lib/python3.12/site-packages/nbformat/__init__.py:96: MissingIDFieldWarning: Cell is missing an id field, this will become a hard error in future nbformat versions. You may want to use `normalize()` on your notebooks before validations (available since nbformat 5.1.4). Previous versions of nbformat are fixing this issue transparently, and will stop doing so in the future.\n",
      "  validate(nb)\n"
     ]
    },
    {
     "name": "stdout",
     "output_type": "stream",
     "text": [
      "Reading /home/sysml/conda/share/jupyter/kernels/sysml/sysml.library/Kernel Libraries/Kernel Semantic Library/Observation.kerml...\n"
     ]
    },
    {
     "name": "stderr",
     "output_type": "stream",
     "text": [
      "log4j:WARN No appenders could be found for logger (org.eclipse.xtext.parser.antlr.AbstractInternalAntlrParser).\n",
      "log4j:WARN Please initialize the log4j system properly.\n",
      "log4j:WARN See http://logging.apache.org/log4j/1.2/faq.html#noconfig for more info.\n"
     ]
    },
    {
     "name": "stdout",
     "output_type": "stream",
     "text": [
      "Reading /home/sysml/conda/share/jupyter/kernels/sysml/sysml.library/Kernel Libraries/Kernel Semantic Library/Transfers.kerml...\n",
      "Reading /home/sysml/conda/share/jupyter/kernels/sysml/sysml.library/Kernel Libraries/Kernel Semantic Library/Metaobjects.kerml...\n",
      "Reading /home/sysml/conda/share/jupyter/kernels/sysml/sysml.library/Kernel Libraries/Kernel Semantic Library/Triggers.kerml...\n",
      "Reading /home/sysml/conda/share/jupyter/kernels/sysml/sysml.library/Kernel Libraries/Kernel Semantic Library/Links.kerml...\n",
      "Reading /home/sysml/conda/share/jupyter/kernels/sysml/sysml.library/Kernel Libraries/Kernel Semantic Library/Base.kerml...\n",
      "Reading /home/sysml/conda/share/jupyter/kernels/sysml/sysml.library/Kernel Libraries/Kernel Semantic Library/Objects.kerml...\n",
      "Reading /home/sysml/conda/share/jupyter/kernels/sysml/sysml.library/Kernel Libraries/Kernel Semantic Library/Clocks.kerml...\n",
      "Reading /home/sysml/conda/share/jupyter/kernels/sysml/sysml.library/Kernel Libraries/Kernel Semantic Library/KerML.kerml...\n"
     ]
    },
    {
     "name": "stdout",
     "output_type": "stream",
     "text": [
      "Reading /home/sysml/conda/share/jupyter/kernels/sysml/sysml.library/Kernel Libraries/Kernel Semantic Library/FeatureReferencingPerformances.kerml...\n",
      "Reading /home/sysml/conda/share/jupyter/kernels/sysml/sysml.library/Kernel Libraries/Kernel Semantic Library/Performances.kerml...\n",
      "Reading /home/sysml/conda/share/jupyter/kernels/sysml/sysml.library/Kernel Libraries/Kernel Semantic Library/Occurrences.kerml...\n",
      "Reading /home/sysml/conda/share/jupyter/kernels/sysml/sysml.library/Kernel Libraries/Kernel Semantic Library/ControlPerformances.kerml...\n",
      "Reading /home/sysml/conda/share/jupyter/kernels/sysml/sysml.library/Kernel Libraries/Kernel Semantic Library/StatePerformances.kerml...\n",
      "Reading /home/sysml/conda/share/jupyter/kernels/sysml/sysml.library/Kernel Libraries/Kernel Semantic Library/TransitionPerformances.kerml...\n",
      "Reading /home/sysml/conda/share/jupyter/kernels/sysml/sysml.library/Kernel Libraries/Kernel Semantic Library/SpatialFrames.kerml...\n",
      "Reading /home/sysml/conda/share/jupyter/kernels/sysml/sysml.library/Kernel Libraries/Kernel Data Type Library/VectorValues.kerml...\n",
      "Reading /home/sysml/conda/share/jupyter/kernels/sysml/sysml.library/Kernel Libraries/Kernel Data Type Library/Collections.kerml...\n",
      "Reading /home/sysml/conda/share/jupyter/kernels/sysml/sysml.library/Kernel Libraries/Kernel Data Type Library/ScalarValues.kerml...\n",
      "Reading /home/sysml/conda/share/jupyter/kernels/sysml/sysml.library/Kernel Libraries/Kernel Function Library/NaturalFunctions.kerml...\n",
      "Reading /home/sysml/conda/share/jupyter/kernels/sysml/sysml.library/Kernel Libraries/Kernel Function Library/BaseFunctions.kerml...\n",
      "Reading /home/sysml/conda/share/jupyter/kernels/sysml/sysml.library/Kernel Libraries/Kernel Function Library/DataFunctions.kerml...\n",
      "Reading /home/sysml/conda/share/jupyter/kernels/sysml/sysml.library/Kernel Libraries/Kernel Function Library/IntegerFunctions.kerml...\n",
      "Reading /home/sysml/conda/share/jupyter/kernels/sysml/sysml.library/Kernel Libraries/Kernel Function Library/RealFunctions.kerml...\n",
      "Reading /home/sysml/conda/share/jupyter/kernels/sysml/sysml.library/Kernel Libraries/Kernel Function Library/NumericalFunctions.kerml...\n"
     ]
    },
    {
     "name": "stdout",
     "output_type": "stream",
     "text": [
      "Reading /home/sysml/conda/share/jupyter/kernels/sysml/sysml.library/Kernel Libraries/Kernel Function Library/VectorFunctions.kerml...\n",
      "Reading /home/sysml/conda/share/jupyter/kernels/sysml/sysml.library/Kernel Libraries/Kernel Function Library/SequenceFunctions.kerml...\n",
      "Reading /home/sysml/conda/share/jupyter/kernels/sysml/sysml.library/Kernel Libraries/Kernel Function Library/ComplexFunctions.kerml...\n",
      "Reading /home/sysml/conda/share/jupyter/kernels/sysml/sysml.library/Kernel Libraries/Kernel Function Library/RationalFunctions.kerml...\n",
      "Reading /home/sysml/conda/share/jupyter/kernels/sysml/sysml.library/Kernel Libraries/Kernel Function Library/StringFunctions.kerml...\n",
      "Reading /home/sysml/conda/share/jupyter/kernels/sysml/sysml.library/Kernel Libraries/Kernel Function Library/ScalarFunctions.kerml...\n",
      "Reading /home/sysml/conda/share/jupyter/kernels/sysml/sysml.library/Kernel Libraries/Kernel Function Library/CollectionFunctions.kerml...\n",
      "Reading /home/sysml/conda/share/jupyter/kernels/sysml/sysml.library/Kernel Libraries/Kernel Function Library/BooleanFunctions.kerml...\n",
      "Reading /home/sysml/conda/share/jupyter/kernels/sysml/sysml.library/Kernel Libraries/Kernel Function Library/OccurrenceFunctions.kerml...\n",
      "Reading /home/sysml/conda/share/jupyter/kernels/sysml/sysml.library/Kernel Libraries/Kernel Function Library/TrigFunctions.kerml...\n",
      "Reading /home/sysml/conda/share/jupyter/kernels/sysml/sysml.library/Kernel Libraries/Kernel Function Library/ControlFunctions.kerml...\n",
      "Reading /home/sysml/conda/share/jupyter/kernels/sysml/sysml.library/Systems Library/Connections.sysml...\n"
     ]
    },
    {
     "name": "stdout",
     "output_type": "stream",
     "text": [
      "Reading /home/sysml/conda/share/jupyter/kernels/sysml/sysml.library/Systems Library/States.sysml...\n",
      "Reading /home/sysml/conda/share/jupyter/kernels/sysml/sysml.library/Systems Library/Actions.sysml...\n",
      "Reading /home/sysml/conda/share/jupyter/kernels/sysml/sysml.library/Systems Library/Metadata.sysml...\n",
      "Reading /home/sysml/conda/share/jupyter/kernels/sysml/sysml.library/Systems Library/Requirements.sysml...\n",
      "Reading /home/sysml/conda/share/jupyter/kernels/sysml/sysml.library/Systems Library/AnalysisCases.sysml...\n",
      "Reading /home/sysml/conda/share/jupyter/kernels/sysml/sysml.library/Systems Library/Attributes.sysml...\n",
      "Reading /home/sysml/conda/share/jupyter/kernels/sysml/sysml.library/Systems Library/Cases.sysml...\n",
      "Reading /home/sysml/conda/share/jupyter/kernels/sysml/sysml.library/Systems Library/VerificationCases.sysml...\n",
      "Reading /home/sysml/conda/share/jupyter/kernels/sysml/sysml.library/Systems Library/Interfaces.sysml...\n",
      "Reading /home/sysml/conda/share/jupyter/kernels/sysml/sysml.library/Systems Library/Ports.sysml...\n",
      "Reading /home/sysml/conda/share/jupyter/kernels/sysml/sysml.library/Systems Library/Views.sysml...\n",
      "Reading /home/sysml/conda/share/jupyter/kernels/sysml/sysml.library/Systems Library/UseCases.sysml...\n",
      "Reading /home/sysml/conda/share/jupyter/kernels/sysml/sysml.library/Systems Library/Parts.sysml...\n",
      "Reading /home/sysml/conda/share/jupyter/kernels/sysml/sysml.library/Systems Library/SysML.sysml...\n",
      "Reading /home/sysml/conda/share/jupyter/kernels/sysml/sysml.library/Systems Library/Constraints.sysml...\n",
      "Reading /home/sysml/conda/share/jupyter/kernels/sysml/sysml.library/Systems Library/Items.sysml...\n",
      "Reading /home/sysml/conda/share/jupyter/kernels/sysml/sysml.library/Systems Library/Calculations.sysml...\n"
     ]
    },
    {
     "name": "stdout",
     "output_type": "stream",
     "text": [
      "Reading /home/sysml/conda/share/jupyter/kernels/sysml/sysml.library/Systems Library/StandardViewDefinitions.sysml...\n",
      "Reading /home/sysml/conda/share/jupyter/kernels/sysml/sysml.library/Systems Library/Allocations.sysml...\n",
      "Reading /home/sysml/conda/share/jupyter/kernels/sysml/sysml.library/Domain Libraries/Geometry/SpatialItems.sysml...\n",
      "Reading /home/sysml/conda/share/jupyter/kernels/sysml/sysml.library/Domain Libraries/Geometry/ShapeItems.sysml...\n",
      "Reading /home/sysml/conda/share/jupyter/kernels/sysml/sysml.library/Domain Libraries/Analysis/TradeStudies.sysml...\n",
      "Reading /home/sysml/conda/share/jupyter/kernels/sysml/sysml.library/Domain Libraries/Analysis/StateSpaceRepresentation.sysml...\n",
      "Reading /home/sysml/conda/share/jupyter/kernels/sysml/sysml.library/Domain Libraries/Analysis/SampledFunctions.sysml...\n",
      "Reading /home/sysml/conda/share/jupyter/kernels/sysml/sysml.library/Domain Libraries/Analysis/AnalysisTooling.sysml...\n",
      "Reading /home/sysml/conda/share/jupyter/kernels/sysml/sysml.library/Domain Libraries/Cause and Effect/CausationConnections.sysml...\n",
      "Reading /home/sysml/conda/share/jupyter/kernels/sysml/sysml.library/Domain Libraries/Cause and Effect/CauseAndEffect.sysml...\n",
      "Reading /home/sysml/conda/share/jupyter/kernels/sysml/sysml.library/Domain Libraries/Quantities and Units/TensorCalculations.sysml...\n",
      "Reading /home/sysml/conda/share/jupyter/kernels/sysml/sysml.library/Domain Libraries/Quantities and Units/ISQSpaceTime.sysml...\n",
      "Reading /home/sysml/conda/share/jupyter/kernels/sysml/sysml.library/Domain Libraries/Quantities and Units/ISQElectromagnetism.sysml...\n"
     ]
    },
    {
     "name": "stdout",
     "output_type": "stream",
     "text": [
      "Reading /home/sysml/conda/share/jupyter/kernels/sysml/sysml.library/Domain Libraries/Quantities and Units/USCustomaryUnits.sysml...\n",
      "Reading /home/sysml/conda/share/jupyter/kernels/sysml/sysml.library/Domain Libraries/Quantities and Units/Time.sysml...\n",
      "Reading /home/sysml/conda/share/jupyter/kernels/sysml/sysml.library/Domain Libraries/Quantities and Units/MeasurementReferences.sysml...\n",
      "Reading /home/sysml/conda/share/jupyter/kernels/sysml/sysml.library/Domain Libraries/Quantities and Units/ISQBase.sysml...\n",
      "Reading /home/sysml/conda/share/jupyter/kernels/sysml/sysml.library/Domain Libraries/Quantities and Units/ISQCondensedMatter.sysml...\n",
      "Reading /home/sysml/conda/share/jupyter/kernels/sysml/sysml.library/Domain Libraries/Quantities and Units/ISQMechanics.sysml...\n",
      "Reading /home/sysml/conda/share/jupyter/kernels/sysml/sysml.library/Domain Libraries/Quantities and Units/SI.sysml...\n",
      "Reading /home/sysml/conda/share/jupyter/kernels/sysml/sysml.library/Domain Libraries/Quantities and Units/ISQCharacteristicNumbers.sysml...\n",
      "Reading /home/sysml/conda/share/jupyter/kernels/sysml/sysml.library/Domain Libraries/Quantities and Units/QuantityCalculations.sysml...\n",
      "Reading /home/sysml/conda/share/jupyter/kernels/sysml/sysml.library/Domain Libraries/Quantities and Units/MeasurementRefCalculations.sysml...\n",
      "Reading /home/sysml/conda/share/jupyter/kernels/sysml/sysml.library/Domain Libraries/Quantities and Units/ISQAtomicNuclear.sysml...\n"
     ]
    },
    {
     "name": "stdout",
     "output_type": "stream",
     "text": [
      "Reading /home/sysml/conda/share/jupyter/kernels/sysml/sysml.library/Domain Libraries/Quantities and Units/ISQ.sysml...\n",
      "Reading /home/sysml/conda/share/jupyter/kernels/sysml/sysml.library/Domain Libraries/Quantities and Units/ISQAcoustics.sysml...\n",
      "Reading /home/sysml/conda/share/jupyter/kernels/sysml/sysml.library/Domain Libraries/Quantities and Units/ISQLight.sysml...\n",
      "Reading /home/sysml/conda/share/jupyter/kernels/sysml/sysml.library/Domain Libraries/Quantities and Units/ISQInformation.sysml...\n",
      "Reading /home/sysml/conda/share/jupyter/kernels/sysml/sysml.library/Domain Libraries/Quantities and Units/ISQThermodynamics.sysml...\n",
      "Reading /home/sysml/conda/share/jupyter/kernels/sysml/sysml.library/Domain Libraries/Quantities and Units/SIPrefixes.sysml...\n",
      "Reading /home/sysml/conda/share/jupyter/kernels/sysml/sysml.library/Domain Libraries/Quantities and Units/VectorCalculations.sysml...\n",
      "Reading /home/sysml/conda/share/jupyter/kernels/sysml/sysml.library/Domain Libraries/Quantities and Units/ISQChemistryMolecular.sysml...\n",
      "Reading /home/sysml/conda/share/jupyter/kernels/sysml/sysml.library/Domain Libraries/Quantities and Units/Quantities.sysml...\n",
      "Reading /home/sysml/conda/share/jupyter/kernels/sysml/sysml.library/Domain Libraries/Metadata/ImageMetadata.sysml...\n",
      "Reading /home/sysml/conda/share/jupyter/kernels/sysml/sysml.library/Domain Libraries/Metadata/ModelingMetadata.sysml...\n",
      "Reading /home/sysml/conda/share/jupyter/kernels/sysml/sysml.library/Domain Libraries/Metadata/ParametersOfInterestMetadata.sysml...\n",
      "Reading /home/sysml/conda/share/jupyter/kernels/sysml/sysml.library/Domain Libraries/Metadata/RiskMetadata.sysml...\n",
      "Reading /home/sysml/conda/share/jupyter/kernels/sysml/sysml.library/Domain Libraries/Requirement Derivation/RequirementDerivation.sysml...\n",
      "Reading /home/sysml/conda/share/jupyter/kernels/sysml/sysml.library/Domain Libraries/Requirement Derivation/DerivationConnections.sysml...\n"
     ]
    },
    {
     "name": "stderr",
     "output_type": "stream",
     "text": [
      "Dec 16, 2024 3:23:11 AM io.github.spencerpark.jupyter.channels.Loop start\n",
      "INFO: Loop starting...\n",
      "Dec 16, 2024 3:23:11 AM io.github.spencerpark.jupyter.channels.Loop start\n",
      "INFO: Loop started.\n",
      "Dec 16, 2024 3:23:11 AM io.github.spencerpark.jupyter.channels.Loop start\n",
      "INFO: Loop starting...\n",
      "Dec 16, 2024 3:23:11 AM io.github.spencerpark.jupyter.channels.Loop start\n",
      "INFO: Loop started.\n",
      "Dec 16, 2024 3:23:11 AM io.github.spencerpark.jupyter.channels.Loop start\n",
      "INFO: Loop starting...\n",
      "Dec 16, 2024 3:23:11 AM io.github.spencerpark.jupyter.channels.Loop start\n",
      "INFO: Loop started.\n"
     ]
    },
    {
     "name": "stderr",
     "output_type": "stream",
     "text": [
      "Dec 16, 2024 3:23:16 AM io.github.spencerpark.jupyter.channels.Loop shutdown\n",
      "INFO: Loop shutdown.\n",
      "Dec 16, 2024 3:23:16 AM io.github.spencerpark.jupyter.channels.Loop shutdown\n",
      "INFO: Loop shutdown.\n",
      "Dec 16, 2024 3:23:16 AM io.github.spencerpark.jupyter.channels.Loop shutdown\n",
      "INFO: Loop shutdown.\n",
      "Dec 16, 2024 3:23:16 AM io.github.spencerpark.jupyter.channels.Loop run\n",
      "INFO: Running loop shutdown callback.\n",
      "Dec 16, 2024 3:23:16 AM io.github.spencerpark.jupyter.channels.Loop run\n",
      "INFO: Loop stopped.\n",
      "Dec 16, 2024 3:23:16 AM io.github.spencerpark.jupyter.channels.Loop run\n",
      "INFO: Running loop shutdown callback.\n",
      "Dec 16, 2024 3:23:16 AM io.github.spencerpark.jupyter.channels.Loop run\n",
      "INFO: Loop stopped.\n",
      "Dec 16, 2024 3:23:16 AM io.github.spencerpark.jupyter.channels.Loop run\n",
      "INFO: Running loop shutdown callback.\n",
      "Dec 16, 2024 3:23:16 AM io.github.spencerpark.jupyter.channels.Loop run\n",
      "INFO: Loop stopped.\n"
     ]
    },
    {
     "name": "stdout",
     "output_type": "stream",
     "text": [
      "Signing notebook: TestSuite/RootPackageTest.ipynb\n",
      "Executing: TestSuite/EnumerationTest.ipynb\n"
     ]
    },
    {
     "name": "stderr",
     "output_type": "stream",
     "text": [
      "/home/sysml/conda/lib/python3.12/site-packages/nbformat/__init__.py:96: MissingIDFieldWarning: Cell is missing an id field, this will become a hard error in future nbformat versions. You may want to use `normalize()` on your notebooks before validations (available since nbformat 5.1.4). Previous versions of nbformat are fixing this issue transparently, and will stop doing so in the future.\n",
      "  validate(nb)\n"
     ]
    },
    {
     "name": "stdout",
     "output_type": "stream",
     "text": [
      "Reading /home/sysml/conda/share/jupyter/kernels/sysml/sysml.library/Kernel Libraries/Kernel Semantic Library/Observation.kerml...\n"
     ]
    },
    {
     "name": "stderr",
     "output_type": "stream",
     "text": [
      "log4j:WARN No appenders could be found for logger (org.eclipse.xtext.parser.antlr.AbstractInternalAntlrParser).\n",
      "log4j:WARN Please initialize the log4j system properly.\n",
      "log4j:WARN See http://logging.apache.org/log4j/1.2/faq.html#noconfig for more info.\n"
     ]
    },
    {
     "name": "stdout",
     "output_type": "stream",
     "text": [
      "Reading /home/sysml/conda/share/jupyter/kernels/sysml/sysml.library/Kernel Libraries/Kernel Semantic Library/Transfers.kerml...\n",
      "Reading /home/sysml/conda/share/jupyter/kernels/sysml/sysml.library/Kernel Libraries/Kernel Semantic Library/Metaobjects.kerml...\n",
      "Reading /home/sysml/conda/share/jupyter/kernels/sysml/sysml.library/Kernel Libraries/Kernel Semantic Library/Triggers.kerml...\n",
      "Reading /home/sysml/conda/share/jupyter/kernels/sysml/sysml.library/Kernel Libraries/Kernel Semantic Library/Links.kerml...\n",
      "Reading /home/sysml/conda/share/jupyter/kernels/sysml/sysml.library/Kernel Libraries/Kernel Semantic Library/Base.kerml...\n",
      "Reading /home/sysml/conda/share/jupyter/kernels/sysml/sysml.library/Kernel Libraries/Kernel Semantic Library/Objects.kerml...\n",
      "Reading /home/sysml/conda/share/jupyter/kernels/sysml/sysml.library/Kernel Libraries/Kernel Semantic Library/Clocks.kerml...\n",
      "Reading /home/sysml/conda/share/jupyter/kernels/sysml/sysml.library/Kernel Libraries/Kernel Semantic Library/KerML.kerml...\n"
     ]
    },
    {
     "name": "stdout",
     "output_type": "stream",
     "text": [
      "Reading /home/sysml/conda/share/jupyter/kernels/sysml/sysml.library/Kernel Libraries/Kernel Semantic Library/FeatureReferencingPerformances.kerml...\n",
      "Reading /home/sysml/conda/share/jupyter/kernels/sysml/sysml.library/Kernel Libraries/Kernel Semantic Library/Performances.kerml...\n",
      "Reading /home/sysml/conda/share/jupyter/kernels/sysml/sysml.library/Kernel Libraries/Kernel Semantic Library/Occurrences.kerml...\n",
      "Reading /home/sysml/conda/share/jupyter/kernels/sysml/sysml.library/Kernel Libraries/Kernel Semantic Library/ControlPerformances.kerml...\n",
      "Reading /home/sysml/conda/share/jupyter/kernels/sysml/sysml.library/Kernel Libraries/Kernel Semantic Library/StatePerformances.kerml...\n",
      "Reading /home/sysml/conda/share/jupyter/kernels/sysml/sysml.library/Kernel Libraries/Kernel Semantic Library/TransitionPerformances.kerml...\n",
      "Reading /home/sysml/conda/share/jupyter/kernels/sysml/sysml.library/Kernel Libraries/Kernel Semantic Library/SpatialFrames.kerml...\n",
      "Reading /home/sysml/conda/share/jupyter/kernels/sysml/sysml.library/Kernel Libraries/Kernel Data Type Library/VectorValues.kerml...\n",
      "Reading /home/sysml/conda/share/jupyter/kernels/sysml/sysml.library/Kernel Libraries/Kernel Data Type Library/Collections.kerml...\n",
      "Reading /home/sysml/conda/share/jupyter/kernels/sysml/sysml.library/Kernel Libraries/Kernel Data Type Library/ScalarValues.kerml...\n",
      "Reading /home/sysml/conda/share/jupyter/kernels/sysml/sysml.library/Kernel Libraries/Kernel Function Library/NaturalFunctions.kerml...\n",
      "Reading /home/sysml/conda/share/jupyter/kernels/sysml/sysml.library/Kernel Libraries/Kernel Function Library/BaseFunctions.kerml...\n",
      "Reading /home/sysml/conda/share/jupyter/kernels/sysml/sysml.library/Kernel Libraries/Kernel Function Library/DataFunctions.kerml...\n",
      "Reading /home/sysml/conda/share/jupyter/kernels/sysml/sysml.library/Kernel Libraries/Kernel Function Library/IntegerFunctions.kerml...\n",
      "Reading /home/sysml/conda/share/jupyter/kernels/sysml/sysml.library/Kernel Libraries/Kernel Function Library/RealFunctions.kerml...\n",
      "Reading /home/sysml/conda/share/jupyter/kernels/sysml/sysml.library/Kernel Libraries/Kernel Function Library/NumericalFunctions.kerml...\n"
     ]
    },
    {
     "name": "stdout",
     "output_type": "stream",
     "text": [
      "Reading /home/sysml/conda/share/jupyter/kernels/sysml/sysml.library/Kernel Libraries/Kernel Function Library/VectorFunctions.kerml...\n",
      "Reading /home/sysml/conda/share/jupyter/kernels/sysml/sysml.library/Kernel Libraries/Kernel Function Library/SequenceFunctions.kerml...\n",
      "Reading /home/sysml/conda/share/jupyter/kernels/sysml/sysml.library/Kernel Libraries/Kernel Function Library/ComplexFunctions.kerml...\n",
      "Reading /home/sysml/conda/share/jupyter/kernels/sysml/sysml.library/Kernel Libraries/Kernel Function Library/RationalFunctions.kerml...\n",
      "Reading /home/sysml/conda/share/jupyter/kernels/sysml/sysml.library/Kernel Libraries/Kernel Function Library/StringFunctions.kerml...\n",
      "Reading /home/sysml/conda/share/jupyter/kernels/sysml/sysml.library/Kernel Libraries/Kernel Function Library/ScalarFunctions.kerml...\n",
      "Reading /home/sysml/conda/share/jupyter/kernels/sysml/sysml.library/Kernel Libraries/Kernel Function Library/CollectionFunctions.kerml...\n",
      "Reading /home/sysml/conda/share/jupyter/kernels/sysml/sysml.library/Kernel Libraries/Kernel Function Library/BooleanFunctions.kerml...\n",
      "Reading /home/sysml/conda/share/jupyter/kernels/sysml/sysml.library/Kernel Libraries/Kernel Function Library/OccurrenceFunctions.kerml...\n",
      "Reading /home/sysml/conda/share/jupyter/kernels/sysml/sysml.library/Kernel Libraries/Kernel Function Library/TrigFunctions.kerml...\n",
      "Reading /home/sysml/conda/share/jupyter/kernels/sysml/sysml.library/Kernel Libraries/Kernel Function Library/ControlFunctions.kerml...\n",
      "Reading /home/sysml/conda/share/jupyter/kernels/sysml/sysml.library/Systems Library/Connections.sysml...\n"
     ]
    },
    {
     "name": "stdout",
     "output_type": "stream",
     "text": [
      "Reading /home/sysml/conda/share/jupyter/kernels/sysml/sysml.library/Systems Library/States.sysml...\n",
      "Reading /home/sysml/conda/share/jupyter/kernels/sysml/sysml.library/Systems Library/Actions.sysml...\n",
      "Reading /home/sysml/conda/share/jupyter/kernels/sysml/sysml.library/Systems Library/Metadata.sysml...\n",
      "Reading /home/sysml/conda/share/jupyter/kernels/sysml/sysml.library/Systems Library/Requirements.sysml...\n",
      "Reading /home/sysml/conda/share/jupyter/kernels/sysml/sysml.library/Systems Library/AnalysisCases.sysml...\n",
      "Reading /home/sysml/conda/share/jupyter/kernels/sysml/sysml.library/Systems Library/Attributes.sysml...\n",
      "Reading /home/sysml/conda/share/jupyter/kernels/sysml/sysml.library/Systems Library/Cases.sysml...\n",
      "Reading /home/sysml/conda/share/jupyter/kernels/sysml/sysml.library/Systems Library/VerificationCases.sysml...\n",
      "Reading /home/sysml/conda/share/jupyter/kernels/sysml/sysml.library/Systems Library/Interfaces.sysml...\n",
      "Reading /home/sysml/conda/share/jupyter/kernels/sysml/sysml.library/Systems Library/Ports.sysml...\n",
      "Reading /home/sysml/conda/share/jupyter/kernels/sysml/sysml.library/Systems Library/Views.sysml...\n",
      "Reading /home/sysml/conda/share/jupyter/kernels/sysml/sysml.library/Systems Library/UseCases.sysml...\n",
      "Reading /home/sysml/conda/share/jupyter/kernels/sysml/sysml.library/Systems Library/Parts.sysml...\n",
      "Reading /home/sysml/conda/share/jupyter/kernels/sysml/sysml.library/Systems Library/SysML.sysml...\n",
      "Reading /home/sysml/conda/share/jupyter/kernels/sysml/sysml.library/Systems Library/Constraints.sysml...\n",
      "Reading /home/sysml/conda/share/jupyter/kernels/sysml/sysml.library/Systems Library/Items.sysml...\n",
      "Reading /home/sysml/conda/share/jupyter/kernels/sysml/sysml.library/Systems Library/Calculations.sysml...\n",
      "Reading /home/sysml/conda/share/jupyter/kernels/sysml/sysml.library/Systems Library/StandardViewDefinitions.sysml...\n",
      "Reading /home/sysml/conda/share/jupyter/kernels/sysml/sysml.library/Systems Library/Allocations.sysml...\n",
      "Reading /home/sysml/conda/share/jupyter/kernels/sysml/sysml.library/Domain Libraries/Geometry/SpatialItems.sysml...\n"
     ]
    },
    {
     "name": "stdout",
     "output_type": "stream",
     "text": [
      "Reading /home/sysml/conda/share/jupyter/kernels/sysml/sysml.library/Domain Libraries/Geometry/ShapeItems.sysml...\n",
      "Reading /home/sysml/conda/share/jupyter/kernels/sysml/sysml.library/Domain Libraries/Analysis/TradeStudies.sysml...\n",
      "Reading /home/sysml/conda/share/jupyter/kernels/sysml/sysml.library/Domain Libraries/Analysis/StateSpaceRepresentation.sysml...\n",
      "Reading /home/sysml/conda/share/jupyter/kernels/sysml/sysml.library/Domain Libraries/Analysis/SampledFunctions.sysml...\n",
      "Reading /home/sysml/conda/share/jupyter/kernels/sysml/sysml.library/Domain Libraries/Analysis/AnalysisTooling.sysml...\n",
      "Reading /home/sysml/conda/share/jupyter/kernels/sysml/sysml.library/Domain Libraries/Cause and Effect/CausationConnections.sysml...\n",
      "Reading /home/sysml/conda/share/jupyter/kernels/sysml/sysml.library/Domain Libraries/Cause and Effect/CauseAndEffect.sysml...\n",
      "Reading /home/sysml/conda/share/jupyter/kernels/sysml/sysml.library/Domain Libraries/Quantities and Units/TensorCalculations.sysml...\n",
      "Reading /home/sysml/conda/share/jupyter/kernels/sysml/sysml.library/Domain Libraries/Quantities and Units/ISQSpaceTime.sysml...\n",
      "Reading /home/sysml/conda/share/jupyter/kernels/sysml/sysml.library/Domain Libraries/Quantities and Units/ISQElectromagnetism.sysml...\n",
      "Reading /home/sysml/conda/share/jupyter/kernels/sysml/sysml.library/Domain Libraries/Quantities and Units/USCustomaryUnits.sysml...\n"
     ]
    },
    {
     "name": "stdout",
     "output_type": "stream",
     "text": [
      "Reading /home/sysml/conda/share/jupyter/kernels/sysml/sysml.library/Domain Libraries/Quantities and Units/Time.sysml...\n",
      "Reading /home/sysml/conda/share/jupyter/kernels/sysml/sysml.library/Domain Libraries/Quantities and Units/MeasurementReferences.sysml...\n",
      "Reading /home/sysml/conda/share/jupyter/kernels/sysml/sysml.library/Domain Libraries/Quantities and Units/ISQBase.sysml...\n",
      "Reading /home/sysml/conda/share/jupyter/kernels/sysml/sysml.library/Domain Libraries/Quantities and Units/ISQCondensedMatter.sysml...\n",
      "Reading /home/sysml/conda/share/jupyter/kernels/sysml/sysml.library/Domain Libraries/Quantities and Units/ISQMechanics.sysml...\n",
      "Reading /home/sysml/conda/share/jupyter/kernels/sysml/sysml.library/Domain Libraries/Quantities and Units/SI.sysml...\n",
      "Reading /home/sysml/conda/share/jupyter/kernels/sysml/sysml.library/Domain Libraries/Quantities and Units/ISQCharacteristicNumbers.sysml...\n",
      "Reading /home/sysml/conda/share/jupyter/kernels/sysml/sysml.library/Domain Libraries/Quantities and Units/QuantityCalculations.sysml...\n",
      "Reading /home/sysml/conda/share/jupyter/kernels/sysml/sysml.library/Domain Libraries/Quantities and Units/MeasurementRefCalculations.sysml...\n",
      "Reading /home/sysml/conda/share/jupyter/kernels/sysml/sysml.library/Domain Libraries/Quantities and Units/ISQAtomicNuclear.sysml...\n"
     ]
    },
    {
     "name": "stdout",
     "output_type": "stream",
     "text": [
      "Reading /home/sysml/conda/share/jupyter/kernels/sysml/sysml.library/Domain Libraries/Quantities and Units/ISQ.sysml...\n",
      "Reading /home/sysml/conda/share/jupyter/kernels/sysml/sysml.library/Domain Libraries/Quantities and Units/ISQAcoustics.sysml...\n",
      "Reading /home/sysml/conda/share/jupyter/kernels/sysml/sysml.library/Domain Libraries/Quantities and Units/ISQLight.sysml...\n",
      "Reading /home/sysml/conda/share/jupyter/kernels/sysml/sysml.library/Domain Libraries/Quantities and Units/ISQInformation.sysml...\n",
      "Reading /home/sysml/conda/share/jupyter/kernels/sysml/sysml.library/Domain Libraries/Quantities and Units/ISQThermodynamics.sysml...\n",
      "Reading /home/sysml/conda/share/jupyter/kernels/sysml/sysml.library/Domain Libraries/Quantities and Units/SIPrefixes.sysml...\n",
      "Reading /home/sysml/conda/share/jupyter/kernels/sysml/sysml.library/Domain Libraries/Quantities and Units/VectorCalculations.sysml...\n",
      "Reading /home/sysml/conda/share/jupyter/kernels/sysml/sysml.library/Domain Libraries/Quantities and Units/ISQChemistryMolecular.sysml...\n",
      "Reading /home/sysml/conda/share/jupyter/kernels/sysml/sysml.library/Domain Libraries/Quantities and Units/Quantities.sysml...\n",
      "Reading /home/sysml/conda/share/jupyter/kernels/sysml/sysml.library/Domain Libraries/Metadata/ImageMetadata.sysml...\n",
      "Reading /home/sysml/conda/share/jupyter/kernels/sysml/sysml.library/Domain Libraries/Metadata/ModelingMetadata.sysml...\n",
      "Reading /home/sysml/conda/share/jupyter/kernels/sysml/sysml.library/Domain Libraries/Metadata/ParametersOfInterestMetadata.sysml...\n",
      "Reading /home/sysml/conda/share/jupyter/kernels/sysml/sysml.library/Domain Libraries/Metadata/RiskMetadata.sysml...\n",
      "Reading /home/sysml/conda/share/jupyter/kernels/sysml/sysml.library/Domain Libraries/Requirement Derivation/RequirementDerivation.sysml...\n",
      "Reading /home/sysml/conda/share/jupyter/kernels/sysml/sysml.library/Domain Libraries/Requirement Derivation/DerivationConnections.sysml...\n"
     ]
    },
    {
     "name": "stderr",
     "output_type": "stream",
     "text": [
      "Dec 16, 2024 3:23:21 AM io.github.spencerpark.jupyter.channels.Loop start\n",
      "INFO: Loop starting...\n",
      "Dec 16, 2024 3:23:21 AM io.github.spencerpark.jupyter.channels.Loop start\n",
      "INFO: Loop started.\n",
      "Dec 16, 2024 3:23:21 AM io.github.spencerpark.jupyter.channels.Loop start\n",
      "INFO: Loop starting...\n",
      "Dec 16, 2024 3:23:21 AM io.github.spencerpark.jupyter.channels.Loop start\n",
      "INFO: Loop started.\n",
      "Dec 16, 2024 3:23:21 AM io.github.spencerpark.jupyter.channels.Loop start\n",
      "INFO: Loop starting...\n",
      "Dec 16, 2024 3:23:21 AM io.github.spencerpark.jupyter.channels.Loop start\n",
      "INFO: Loop started.\n"
     ]
    },
    {
     "name": "stderr",
     "output_type": "stream",
     "text": [
      "Dec 16, 2024 3:23:27 AM io.github.spencerpark.jupyter.channels.Loop shutdown\n",
      "INFO: Loop shutdown.\n",
      "Dec 16, 2024 3:23:27 AM io.github.spencerpark.jupyter.channels.Loop shutdown\n",
      "INFO: Loop shutdown.\n",
      "Dec 16, 2024 3:23:27 AM io.github.spencerpark.jupyter.channels.Loop shutdown\n",
      "INFO: Loop shutdown.\n",
      "Dec 16, 2024 3:23:27 AM io.github.spencerpark.jupyter.channels.Loop run\n",
      "INFO: Running loop shutdown callback.\n",
      "Dec 16, 2024 3:23:27 AM io.github.spencerpark.jupyter.channels.Loop run\n",
      "INFO: Loop stopped.\n",
      "Dec 16, 2024 3:23:27 AM io.github.spencerpark.jupyter.channels.Loop run\n",
      "INFO: Running loop shutdown callback.\n",
      "Dec 16, 2024 3:23:27 AM io.github.spencerpark.jupyter.channels.Loop run\n",
      "INFO: Loop stopped.\n"
     ]
    },
    {
     "name": "stderr",
     "output_type": "stream",
     "text": [
      "Dec 16, 2024 3:23:27 AM io.github.spencerpark.jupyter.channels.Loop run\n",
      "INFO: Running loop shutdown callback.\n",
      "Dec 16, 2024 3:23:27 AM io.github.spencerpark.jupyter.channels.Loop run\n",
      "INFO: Loop stopped.\n"
     ]
    },
    {
     "name": "stdout",
     "output_type": "stream",
     "text": [
      "Signing notebook: TestSuite/EnumerationTest.ipynb\n",
      "Executing: TestSuite/ParameterTest.ipynb\n"
     ]
    },
    {
     "name": "stderr",
     "output_type": "stream",
     "text": [
      "/home/sysml/conda/lib/python3.12/site-packages/nbformat/__init__.py:96: MissingIDFieldWarning: Cell is missing an id field, this will become a hard error in future nbformat versions. You may want to use `normalize()` on your notebooks before validations (available since nbformat 5.1.4). Previous versions of nbformat are fixing this issue transparently, and will stop doing so in the future.\n",
      "  validate(nb)\n"
     ]
    },
    {
     "name": "stdout",
     "output_type": "stream",
     "text": [
      "Reading /home/sysml/conda/share/jupyter/kernels/sysml/sysml.library/Kernel Libraries/Kernel Semantic Library/Observation.kerml...\n"
     ]
    },
    {
     "name": "stderr",
     "output_type": "stream",
     "text": [
      "log4j:WARN No appenders could be found for logger (org.eclipse.xtext.parser.antlr.AbstractInternalAntlrParser).\n",
      "log4j:WARN Please initialize the log4j system properly.\n",
      "log4j:WARN See http://logging.apache.org/log4j/1.2/faq.html#noconfig for more info.\n"
     ]
    },
    {
     "name": "stdout",
     "output_type": "stream",
     "text": [
      "Reading /home/sysml/conda/share/jupyter/kernels/sysml/sysml.library/Kernel Libraries/Kernel Semantic Library/Transfers.kerml...\n",
      "Reading /home/sysml/conda/share/jupyter/kernels/sysml/sysml.library/Kernel Libraries/Kernel Semantic Library/Metaobjects.kerml...\n",
      "Reading /home/sysml/conda/share/jupyter/kernels/sysml/sysml.library/Kernel Libraries/Kernel Semantic Library/Triggers.kerml...\n",
      "Reading /home/sysml/conda/share/jupyter/kernels/sysml/sysml.library/Kernel Libraries/Kernel Semantic Library/Links.kerml...\n",
      "Reading /home/sysml/conda/share/jupyter/kernels/sysml/sysml.library/Kernel Libraries/Kernel Semantic Library/Base.kerml...\n",
      "Reading /home/sysml/conda/share/jupyter/kernels/sysml/sysml.library/Kernel Libraries/Kernel Semantic Library/Objects.kerml...\n",
      "Reading /home/sysml/conda/share/jupyter/kernels/sysml/sysml.library/Kernel Libraries/Kernel Semantic Library/Clocks.kerml...\n",
      "Reading /home/sysml/conda/share/jupyter/kernels/sysml/sysml.library/Kernel Libraries/Kernel Semantic Library/KerML.kerml...\n"
     ]
    },
    {
     "name": "stdout",
     "output_type": "stream",
     "text": [
      "Reading /home/sysml/conda/share/jupyter/kernels/sysml/sysml.library/Kernel Libraries/Kernel Semantic Library/FeatureReferencingPerformances.kerml...\n",
      "Reading /home/sysml/conda/share/jupyter/kernels/sysml/sysml.library/Kernel Libraries/Kernel Semantic Library/Performances.kerml...\n",
      "Reading /home/sysml/conda/share/jupyter/kernels/sysml/sysml.library/Kernel Libraries/Kernel Semantic Library/Occurrences.kerml...\n",
      "Reading /home/sysml/conda/share/jupyter/kernels/sysml/sysml.library/Kernel Libraries/Kernel Semantic Library/ControlPerformances.kerml...\n",
      "Reading /home/sysml/conda/share/jupyter/kernels/sysml/sysml.library/Kernel Libraries/Kernel Semantic Library/StatePerformances.kerml...\n",
      "Reading /home/sysml/conda/share/jupyter/kernels/sysml/sysml.library/Kernel Libraries/Kernel Semantic Library/TransitionPerformances.kerml...\n",
      "Reading /home/sysml/conda/share/jupyter/kernels/sysml/sysml.library/Kernel Libraries/Kernel Semantic Library/SpatialFrames.kerml...\n",
      "Reading /home/sysml/conda/share/jupyter/kernels/sysml/sysml.library/Kernel Libraries/Kernel Data Type Library/VectorValues.kerml...\n",
      "Reading /home/sysml/conda/share/jupyter/kernels/sysml/sysml.library/Kernel Libraries/Kernel Data Type Library/Collections.kerml...\n",
      "Reading /home/sysml/conda/share/jupyter/kernels/sysml/sysml.library/Kernel Libraries/Kernel Data Type Library/ScalarValues.kerml...\n",
      "Reading /home/sysml/conda/share/jupyter/kernels/sysml/sysml.library/Kernel Libraries/Kernel Function Library/NaturalFunctions.kerml...\n",
      "Reading /home/sysml/conda/share/jupyter/kernels/sysml/sysml.library/Kernel Libraries/Kernel Function Library/BaseFunctions.kerml...\n",
      "Reading /home/sysml/conda/share/jupyter/kernels/sysml/sysml.library/Kernel Libraries/Kernel Function Library/DataFunctions.kerml...\n",
      "Reading /home/sysml/conda/share/jupyter/kernels/sysml/sysml.library/Kernel Libraries/Kernel Function Library/IntegerFunctions.kerml...\n",
      "Reading /home/sysml/conda/share/jupyter/kernels/sysml/sysml.library/Kernel Libraries/Kernel Function Library/RealFunctions.kerml...\n"
     ]
    },
    {
     "name": "stdout",
     "output_type": "stream",
     "text": [
      "Reading /home/sysml/conda/share/jupyter/kernels/sysml/sysml.library/Kernel Libraries/Kernel Function Library/NumericalFunctions.kerml...\n",
      "Reading /home/sysml/conda/share/jupyter/kernels/sysml/sysml.library/Kernel Libraries/Kernel Function Library/VectorFunctions.kerml...\n",
      "Reading /home/sysml/conda/share/jupyter/kernels/sysml/sysml.library/Kernel Libraries/Kernel Function Library/SequenceFunctions.kerml...\n",
      "Reading /home/sysml/conda/share/jupyter/kernels/sysml/sysml.library/Kernel Libraries/Kernel Function Library/ComplexFunctions.kerml...\n",
      "Reading /home/sysml/conda/share/jupyter/kernels/sysml/sysml.library/Kernel Libraries/Kernel Function Library/RationalFunctions.kerml...\n",
      "Reading /home/sysml/conda/share/jupyter/kernels/sysml/sysml.library/Kernel Libraries/Kernel Function Library/StringFunctions.kerml...\n",
      "Reading /home/sysml/conda/share/jupyter/kernels/sysml/sysml.library/Kernel Libraries/Kernel Function Library/ScalarFunctions.kerml...\n",
      "Reading /home/sysml/conda/share/jupyter/kernels/sysml/sysml.library/Kernel Libraries/Kernel Function Library/CollectionFunctions.kerml...\n",
      "Reading /home/sysml/conda/share/jupyter/kernels/sysml/sysml.library/Kernel Libraries/Kernel Function Library/BooleanFunctions.kerml...\n",
      "Reading /home/sysml/conda/share/jupyter/kernels/sysml/sysml.library/Kernel Libraries/Kernel Function Library/OccurrenceFunctions.kerml...\n",
      "Reading /home/sysml/conda/share/jupyter/kernels/sysml/sysml.library/Kernel Libraries/Kernel Function Library/TrigFunctions.kerml...\n",
      "Reading /home/sysml/conda/share/jupyter/kernels/sysml/sysml.library/Kernel Libraries/Kernel Function Library/ControlFunctions.kerml...\n",
      "Reading /home/sysml/conda/share/jupyter/kernels/sysml/sysml.library/Systems Library/Connections.sysml...\n"
     ]
    },
    {
     "name": "stdout",
     "output_type": "stream",
     "text": [
      "Reading /home/sysml/conda/share/jupyter/kernels/sysml/sysml.library/Systems Library/States.sysml...\n",
      "Reading /home/sysml/conda/share/jupyter/kernels/sysml/sysml.library/Systems Library/Actions.sysml...\n",
      "Reading /home/sysml/conda/share/jupyter/kernels/sysml/sysml.library/Systems Library/Metadata.sysml...\n",
      "Reading /home/sysml/conda/share/jupyter/kernels/sysml/sysml.library/Systems Library/Requirements.sysml...\n",
      "Reading /home/sysml/conda/share/jupyter/kernels/sysml/sysml.library/Systems Library/AnalysisCases.sysml...\n",
      "Reading /home/sysml/conda/share/jupyter/kernels/sysml/sysml.library/Systems Library/Attributes.sysml...\n",
      "Reading /home/sysml/conda/share/jupyter/kernels/sysml/sysml.library/Systems Library/Cases.sysml...\n",
      "Reading /home/sysml/conda/share/jupyter/kernels/sysml/sysml.library/Systems Library/VerificationCases.sysml...\n",
      "Reading /home/sysml/conda/share/jupyter/kernels/sysml/sysml.library/Systems Library/Interfaces.sysml...\n",
      "Reading /home/sysml/conda/share/jupyter/kernels/sysml/sysml.library/Systems Library/Ports.sysml...\n",
      "Reading /home/sysml/conda/share/jupyter/kernels/sysml/sysml.library/Systems Library/Views.sysml...\n",
      "Reading /home/sysml/conda/share/jupyter/kernels/sysml/sysml.library/Systems Library/UseCases.sysml...\n",
      "Reading /home/sysml/conda/share/jupyter/kernels/sysml/sysml.library/Systems Library/Parts.sysml...\n",
      "Reading /home/sysml/conda/share/jupyter/kernels/sysml/sysml.library/Systems Library/SysML.sysml...\n",
      "Reading /home/sysml/conda/share/jupyter/kernels/sysml/sysml.library/Systems Library/Constraints.sysml...\n",
      "Reading /home/sysml/conda/share/jupyter/kernels/sysml/sysml.library/Systems Library/Items.sysml...\n",
      "Reading /home/sysml/conda/share/jupyter/kernels/sysml/sysml.library/Systems Library/Calculations.sysml...\n",
      "Reading /home/sysml/conda/share/jupyter/kernels/sysml/sysml.library/Systems Library/StandardViewDefinitions.sysml...\n",
      "Reading /home/sysml/conda/share/jupyter/kernels/sysml/sysml.library/Systems Library/Allocations.sysml...\n",
      "Reading /home/sysml/conda/share/jupyter/kernels/sysml/sysml.library/Domain Libraries/Geometry/SpatialItems.sysml...\n"
     ]
    },
    {
     "name": "stdout",
     "output_type": "stream",
     "text": [
      "Reading /home/sysml/conda/share/jupyter/kernels/sysml/sysml.library/Domain Libraries/Geometry/ShapeItems.sysml...\n",
      "Reading /home/sysml/conda/share/jupyter/kernels/sysml/sysml.library/Domain Libraries/Analysis/TradeStudies.sysml...\n",
      "Reading /home/sysml/conda/share/jupyter/kernels/sysml/sysml.library/Domain Libraries/Analysis/StateSpaceRepresentation.sysml...\n",
      "Reading /home/sysml/conda/share/jupyter/kernels/sysml/sysml.library/Domain Libraries/Analysis/SampledFunctions.sysml...\n",
      "Reading /home/sysml/conda/share/jupyter/kernels/sysml/sysml.library/Domain Libraries/Analysis/AnalysisTooling.sysml...\n",
      "Reading /home/sysml/conda/share/jupyter/kernels/sysml/sysml.library/Domain Libraries/Cause and Effect/CausationConnections.sysml...\n",
      "Reading /home/sysml/conda/share/jupyter/kernels/sysml/sysml.library/Domain Libraries/Cause and Effect/CauseAndEffect.sysml...\n",
      "Reading /home/sysml/conda/share/jupyter/kernels/sysml/sysml.library/Domain Libraries/Quantities and Units/TensorCalculations.sysml...\n",
      "Reading /home/sysml/conda/share/jupyter/kernels/sysml/sysml.library/Domain Libraries/Quantities and Units/ISQSpaceTime.sysml...\n",
      "Reading /home/sysml/conda/share/jupyter/kernels/sysml/sysml.library/Domain Libraries/Quantities and Units/ISQElectromagnetism.sysml...\n"
     ]
    },
    {
     "name": "stdout",
     "output_type": "stream",
     "text": [
      "Reading /home/sysml/conda/share/jupyter/kernels/sysml/sysml.library/Domain Libraries/Quantities and Units/USCustomaryUnits.sysml...\n",
      "Reading /home/sysml/conda/share/jupyter/kernels/sysml/sysml.library/Domain Libraries/Quantities and Units/Time.sysml...\n",
      "Reading /home/sysml/conda/share/jupyter/kernels/sysml/sysml.library/Domain Libraries/Quantities and Units/MeasurementReferences.sysml...\n",
      "Reading /home/sysml/conda/share/jupyter/kernels/sysml/sysml.library/Domain Libraries/Quantities and Units/ISQBase.sysml...\n",
      "Reading /home/sysml/conda/share/jupyter/kernels/sysml/sysml.library/Domain Libraries/Quantities and Units/ISQCondensedMatter.sysml...\n",
      "Reading /home/sysml/conda/share/jupyter/kernels/sysml/sysml.library/Domain Libraries/Quantities and Units/ISQMechanics.sysml...\n",
      "Reading /home/sysml/conda/share/jupyter/kernels/sysml/sysml.library/Domain Libraries/Quantities and Units/SI.sysml...\n",
      "Reading /home/sysml/conda/share/jupyter/kernels/sysml/sysml.library/Domain Libraries/Quantities and Units/ISQCharacteristicNumbers.sysml...\n",
      "Reading /home/sysml/conda/share/jupyter/kernels/sysml/sysml.library/Domain Libraries/Quantities and Units/QuantityCalculations.sysml...\n",
      "Reading /home/sysml/conda/share/jupyter/kernels/sysml/sysml.library/Domain Libraries/Quantities and Units/MeasurementRefCalculations.sysml...\n",
      "Reading /home/sysml/conda/share/jupyter/kernels/sysml/sysml.library/Domain Libraries/Quantities and Units/ISQAtomicNuclear.sysml...\n"
     ]
    },
    {
     "name": "stdout",
     "output_type": "stream",
     "text": [
      "Reading /home/sysml/conda/share/jupyter/kernels/sysml/sysml.library/Domain Libraries/Quantities and Units/ISQ.sysml...\n",
      "Reading /home/sysml/conda/share/jupyter/kernels/sysml/sysml.library/Domain Libraries/Quantities and Units/ISQAcoustics.sysml...\n",
      "Reading /home/sysml/conda/share/jupyter/kernels/sysml/sysml.library/Domain Libraries/Quantities and Units/ISQLight.sysml...\n",
      "Reading /home/sysml/conda/share/jupyter/kernels/sysml/sysml.library/Domain Libraries/Quantities and Units/ISQInformation.sysml...\n",
      "Reading /home/sysml/conda/share/jupyter/kernels/sysml/sysml.library/Domain Libraries/Quantities and Units/ISQThermodynamics.sysml...\n",
      "Reading /home/sysml/conda/share/jupyter/kernels/sysml/sysml.library/Domain Libraries/Quantities and Units/SIPrefixes.sysml...\n",
      "Reading /home/sysml/conda/share/jupyter/kernels/sysml/sysml.library/Domain Libraries/Quantities and Units/VectorCalculations.sysml...\n",
      "Reading /home/sysml/conda/share/jupyter/kernels/sysml/sysml.library/Domain Libraries/Quantities and Units/ISQChemistryMolecular.sysml...\n",
      "Reading /home/sysml/conda/share/jupyter/kernels/sysml/sysml.library/Domain Libraries/Quantities and Units/Quantities.sysml...\n",
      "Reading /home/sysml/conda/share/jupyter/kernels/sysml/sysml.library/Domain Libraries/Metadata/ImageMetadata.sysml...\n",
      "Reading /home/sysml/conda/share/jupyter/kernels/sysml/sysml.library/Domain Libraries/Metadata/ModelingMetadata.sysml...\n",
      "Reading /home/sysml/conda/share/jupyter/kernels/sysml/sysml.library/Domain Libraries/Metadata/ParametersOfInterestMetadata.sysml...\n",
      "Reading /home/sysml/conda/share/jupyter/kernels/sysml/sysml.library/Domain Libraries/Metadata/RiskMetadata.sysml...\n",
      "Reading /home/sysml/conda/share/jupyter/kernels/sysml/sysml.library/Domain Libraries/Requirement Derivation/RequirementDerivation.sysml...\n",
      "Reading /home/sysml/conda/share/jupyter/kernels/sysml/sysml.library/Domain Libraries/Requirement Derivation/DerivationConnections.sysml...\n"
     ]
    },
    {
     "name": "stderr",
     "output_type": "stream",
     "text": [
      "Dec 16, 2024 3:23:31 AM io.github.spencerpark.jupyter.channels.Loop start\n",
      "INFO: Loop starting...\n",
      "Dec 16, 2024 3:23:31 AM io.github.spencerpark.jupyter.channels.Loop start\n",
      "INFO: Loop started.\n",
      "Dec 16, 2024 3:23:31 AM io.github.spencerpark.jupyter.channels.Loop start\n",
      "INFO: Loop starting...\n",
      "Dec 16, 2024 3:23:31 AM io.github.spencerpark.jupyter.channels.Loop start\n",
      "INFO: Loop started.\n",
      "Dec 16, 2024 3:23:31 AM io.github.spencerpark.jupyter.channels.Loop start\n",
      "INFO: Loop starting...\n",
      "Dec 16, 2024 3:23:31 AM io.github.spencerpark.jupyter.channels.Loop start\n",
      "INFO: Loop started.\n"
     ]
    },
    {
     "name": "stderr",
     "output_type": "stream",
     "text": [
      "Dec 16, 2024 3:23:37 AM io.github.spencerpark.jupyter.channels.Loop shutdown\n",
      "INFO: Loop shutdown.\n",
      "Dec 16, 2024 3:23:37 AM io.github.spencerpark.jupyter.channels.Loop shutdown\n",
      "INFO: Loop shutdown.\n",
      "Dec 16, 2024 3:23:37 AM io.github.spencerpark.jupyter.channels.Loop shutdown\n",
      "INFO: Loop shutdown.\n",
      "Dec 16, 2024 3:23:37 AM io.github.spencerpark.jupyter.channels.Loop run\n",
      "INFO: Running loop shutdown callback.\n",
      "Dec 16, 2024 3:23:37 AM io.github.spencerpark.jupyter.channels.Loop run\n",
      "INFO: Loop stopped.\n",
      "Dec 16, 2024 3:23:37 AM io.github.spencerpark.jupyter.channels.Loop run\n",
      "INFO: Running loop shutdown callback.\n",
      "Dec 16, 2024 3:23:37 AM io.github.spencerpark.jupyter.channels.Loop run\n",
      "INFO: Loop stopped.\n",
      "Dec 16, 2024 3:23:37 AM io.github.spencerpark.jupyter.channels.Loop run\n",
      "INFO: Running loop shutdown callback.\n",
      "Dec 16, 2024 3:23:37 AM io.github.spencerpark.jupyter.channels.Loop run\n",
      "INFO: Loop stopped.\n"
     ]
    },
    {
     "name": "stdout",
     "output_type": "stream",
     "text": [
      "Signing notebook: TestSuite/ParameterTest.ipynb\n",
      "Executing: TestSuite/StateTest.ipynb\n"
     ]
    },
    {
     "name": "stderr",
     "output_type": "stream",
     "text": [
      "/home/sysml/conda/lib/python3.12/site-packages/nbformat/__init__.py:96: MissingIDFieldWarning: Cell is missing an id field, this will become a hard error in future nbformat versions. You may want to use `normalize()` on your notebooks before validations (available since nbformat 5.1.4). Previous versions of nbformat are fixing this issue transparently, and will stop doing so in the future.\n",
      "  validate(nb)\n"
     ]
    },
    {
     "name": "stdout",
     "output_type": "stream",
     "text": [
      "Reading /home/sysml/conda/share/jupyter/kernels/sysml/sysml.library/Kernel Libraries/Kernel Semantic Library/Observation.kerml...\n"
     ]
    },
    {
     "name": "stderr",
     "output_type": "stream",
     "text": [
      "log4j:WARN No appenders could be found for logger (org.eclipse.xtext.parser.antlr.AbstractInternalAntlrParser).\n",
      "log4j:WARN Please initialize the log4j system properly.\n",
      "log4j:WARN See http://logging.apache.org/log4j/1.2/faq.html#noconfig for more info.\n"
     ]
    },
    {
     "name": "stdout",
     "output_type": "stream",
     "text": [
      "Reading /home/sysml/conda/share/jupyter/kernels/sysml/sysml.library/Kernel Libraries/Kernel Semantic Library/Transfers.kerml...\n",
      "Reading /home/sysml/conda/share/jupyter/kernels/sysml/sysml.library/Kernel Libraries/Kernel Semantic Library/Metaobjects.kerml...\n",
      "Reading /home/sysml/conda/share/jupyter/kernels/sysml/sysml.library/Kernel Libraries/Kernel Semantic Library/Triggers.kerml...\n",
      "Reading /home/sysml/conda/share/jupyter/kernels/sysml/sysml.library/Kernel Libraries/Kernel Semantic Library/Links.kerml...\n",
      "Reading /home/sysml/conda/share/jupyter/kernels/sysml/sysml.library/Kernel Libraries/Kernel Semantic Library/Base.kerml...\n",
      "Reading /home/sysml/conda/share/jupyter/kernels/sysml/sysml.library/Kernel Libraries/Kernel Semantic Library/Objects.kerml...\n",
      "Reading /home/sysml/conda/share/jupyter/kernels/sysml/sysml.library/Kernel Libraries/Kernel Semantic Library/Clocks.kerml...\n",
      "Reading /home/sysml/conda/share/jupyter/kernels/sysml/sysml.library/Kernel Libraries/Kernel Semantic Library/KerML.kerml...\n"
     ]
    },
    {
     "name": "stdout",
     "output_type": "stream",
     "text": [
      "Reading /home/sysml/conda/share/jupyter/kernels/sysml/sysml.library/Kernel Libraries/Kernel Semantic Library/FeatureReferencingPerformances.kerml...\n",
      "Reading /home/sysml/conda/share/jupyter/kernels/sysml/sysml.library/Kernel Libraries/Kernel Semantic Library/Performances.kerml...\n",
      "Reading /home/sysml/conda/share/jupyter/kernels/sysml/sysml.library/Kernel Libraries/Kernel Semantic Library/Occurrences.kerml...\n",
      "Reading /home/sysml/conda/share/jupyter/kernels/sysml/sysml.library/Kernel Libraries/Kernel Semantic Library/ControlPerformances.kerml...\n",
      "Reading /home/sysml/conda/share/jupyter/kernels/sysml/sysml.library/Kernel Libraries/Kernel Semantic Library/StatePerformances.kerml...\n",
      "Reading /home/sysml/conda/share/jupyter/kernels/sysml/sysml.library/Kernel Libraries/Kernel Semantic Library/TransitionPerformances.kerml...\n",
      "Reading /home/sysml/conda/share/jupyter/kernels/sysml/sysml.library/Kernel Libraries/Kernel Semantic Library/SpatialFrames.kerml...\n",
      "Reading /home/sysml/conda/share/jupyter/kernels/sysml/sysml.library/Kernel Libraries/Kernel Data Type Library/VectorValues.kerml...\n",
      "Reading /home/sysml/conda/share/jupyter/kernels/sysml/sysml.library/Kernel Libraries/Kernel Data Type Library/Collections.kerml...\n",
      "Reading /home/sysml/conda/share/jupyter/kernels/sysml/sysml.library/Kernel Libraries/Kernel Data Type Library/ScalarValues.kerml...\n",
      "Reading /home/sysml/conda/share/jupyter/kernels/sysml/sysml.library/Kernel Libraries/Kernel Function Library/NaturalFunctions.kerml...\n",
      "Reading /home/sysml/conda/share/jupyter/kernels/sysml/sysml.library/Kernel Libraries/Kernel Function Library/BaseFunctions.kerml...\n",
      "Reading /home/sysml/conda/share/jupyter/kernels/sysml/sysml.library/Kernel Libraries/Kernel Function Library/DataFunctions.kerml...\n",
      "Reading /home/sysml/conda/share/jupyter/kernels/sysml/sysml.library/Kernel Libraries/Kernel Function Library/IntegerFunctions.kerml...\n",
      "Reading /home/sysml/conda/share/jupyter/kernels/sysml/sysml.library/Kernel Libraries/Kernel Function Library/RealFunctions.kerml...\n",
      "Reading /home/sysml/conda/share/jupyter/kernels/sysml/sysml.library/Kernel Libraries/Kernel Function Library/NumericalFunctions.kerml...\n",
      "Reading /home/sysml/conda/share/jupyter/kernels/sysml/sysml.library/Kernel Libraries/Kernel Function Library/VectorFunctions.kerml...\n"
     ]
    },
    {
     "name": "stdout",
     "output_type": "stream",
     "text": [
      "Reading /home/sysml/conda/share/jupyter/kernels/sysml/sysml.library/Kernel Libraries/Kernel Function Library/SequenceFunctions.kerml...\n",
      "Reading /home/sysml/conda/share/jupyter/kernels/sysml/sysml.library/Kernel Libraries/Kernel Function Library/ComplexFunctions.kerml...\n",
      "Reading /home/sysml/conda/share/jupyter/kernels/sysml/sysml.library/Kernel Libraries/Kernel Function Library/RationalFunctions.kerml...\n",
      "Reading /home/sysml/conda/share/jupyter/kernels/sysml/sysml.library/Kernel Libraries/Kernel Function Library/StringFunctions.kerml...\n",
      "Reading /home/sysml/conda/share/jupyter/kernels/sysml/sysml.library/Kernel Libraries/Kernel Function Library/ScalarFunctions.kerml...\n",
      "Reading /home/sysml/conda/share/jupyter/kernels/sysml/sysml.library/Kernel Libraries/Kernel Function Library/CollectionFunctions.kerml...\n",
      "Reading /home/sysml/conda/share/jupyter/kernels/sysml/sysml.library/Kernel Libraries/Kernel Function Library/BooleanFunctions.kerml...\n",
      "Reading /home/sysml/conda/share/jupyter/kernels/sysml/sysml.library/Kernel Libraries/Kernel Function Library/OccurrenceFunctions.kerml...\n",
      "Reading /home/sysml/conda/share/jupyter/kernels/sysml/sysml.library/Kernel Libraries/Kernel Function Library/TrigFunctions.kerml...\n",
      "Reading /home/sysml/conda/share/jupyter/kernels/sysml/sysml.library/Kernel Libraries/Kernel Function Library/ControlFunctions.kerml...\n",
      "Reading /home/sysml/conda/share/jupyter/kernels/sysml/sysml.library/Systems Library/Connections.sysml...\n",
      "Reading /home/sysml/conda/share/jupyter/kernels/sysml/sysml.library/Systems Library/States.sysml...\n"
     ]
    },
    {
     "name": "stdout",
     "output_type": "stream",
     "text": [
      "Reading /home/sysml/conda/share/jupyter/kernels/sysml/sysml.library/Systems Library/Actions.sysml...\n",
      "Reading /home/sysml/conda/share/jupyter/kernels/sysml/sysml.library/Systems Library/Metadata.sysml...\n",
      "Reading /home/sysml/conda/share/jupyter/kernels/sysml/sysml.library/Systems Library/Requirements.sysml...\n",
      "Reading /home/sysml/conda/share/jupyter/kernels/sysml/sysml.library/Systems Library/AnalysisCases.sysml...\n",
      "Reading /home/sysml/conda/share/jupyter/kernels/sysml/sysml.library/Systems Library/Attributes.sysml...\n",
      "Reading /home/sysml/conda/share/jupyter/kernels/sysml/sysml.library/Systems Library/Cases.sysml...\n",
      "Reading /home/sysml/conda/share/jupyter/kernels/sysml/sysml.library/Systems Library/VerificationCases.sysml...\n",
      "Reading /home/sysml/conda/share/jupyter/kernels/sysml/sysml.library/Systems Library/Interfaces.sysml...\n",
      "Reading /home/sysml/conda/share/jupyter/kernels/sysml/sysml.library/Systems Library/Ports.sysml...\n",
      "Reading /home/sysml/conda/share/jupyter/kernels/sysml/sysml.library/Systems Library/Views.sysml...\n",
      "Reading /home/sysml/conda/share/jupyter/kernels/sysml/sysml.library/Systems Library/UseCases.sysml...\n",
      "Reading /home/sysml/conda/share/jupyter/kernels/sysml/sysml.library/Systems Library/Parts.sysml...\n",
      "Reading /home/sysml/conda/share/jupyter/kernels/sysml/sysml.library/Systems Library/SysML.sysml...\n",
      "Reading /home/sysml/conda/share/jupyter/kernels/sysml/sysml.library/Systems Library/Constraints.sysml...\n",
      "Reading /home/sysml/conda/share/jupyter/kernels/sysml/sysml.library/Systems Library/Items.sysml...\n",
      "Reading /home/sysml/conda/share/jupyter/kernels/sysml/sysml.library/Systems Library/Calculations.sysml...\n",
      "Reading /home/sysml/conda/share/jupyter/kernels/sysml/sysml.library/Systems Library/StandardViewDefinitions.sysml...\n",
      "Reading /home/sysml/conda/share/jupyter/kernels/sysml/sysml.library/Systems Library/Allocations.sysml...\n",
      "Reading /home/sysml/conda/share/jupyter/kernels/sysml/sysml.library/Domain Libraries/Geometry/SpatialItems.sysml...\n",
      "Reading /home/sysml/conda/share/jupyter/kernels/sysml/sysml.library/Domain Libraries/Geometry/ShapeItems.sysml...\n"
     ]
    },
    {
     "name": "stdout",
     "output_type": "stream",
     "text": [
      "Reading /home/sysml/conda/share/jupyter/kernels/sysml/sysml.library/Domain Libraries/Analysis/TradeStudies.sysml...\n",
      "Reading /home/sysml/conda/share/jupyter/kernels/sysml/sysml.library/Domain Libraries/Analysis/StateSpaceRepresentation.sysml...\n",
      "Reading /home/sysml/conda/share/jupyter/kernels/sysml/sysml.library/Domain Libraries/Analysis/SampledFunctions.sysml...\n",
      "Reading /home/sysml/conda/share/jupyter/kernels/sysml/sysml.library/Domain Libraries/Analysis/AnalysisTooling.sysml...\n",
      "Reading /home/sysml/conda/share/jupyter/kernels/sysml/sysml.library/Domain Libraries/Cause and Effect/CausationConnections.sysml...\n",
      "Reading /home/sysml/conda/share/jupyter/kernels/sysml/sysml.library/Domain Libraries/Cause and Effect/CauseAndEffect.sysml...\n",
      "Reading /home/sysml/conda/share/jupyter/kernels/sysml/sysml.library/Domain Libraries/Quantities and Units/TensorCalculations.sysml...\n",
      "Reading /home/sysml/conda/share/jupyter/kernels/sysml/sysml.library/Domain Libraries/Quantities and Units/ISQSpaceTime.sysml...\n",
      "Reading /home/sysml/conda/share/jupyter/kernels/sysml/sysml.library/Domain Libraries/Quantities and Units/ISQElectromagnetism.sysml...\n",
      "Reading /home/sysml/conda/share/jupyter/kernels/sysml/sysml.library/Domain Libraries/Quantities and Units/USCustomaryUnits.sysml...\n",
      "Reading /home/sysml/conda/share/jupyter/kernels/sysml/sysml.library/Domain Libraries/Quantities and Units/Time.sysml...\n",
      "Reading /home/sysml/conda/share/jupyter/kernels/sysml/sysml.library/Domain Libraries/Quantities and Units/MeasurementReferences.sysml...\n",
      "Reading /home/sysml/conda/share/jupyter/kernels/sysml/sysml.library/Domain Libraries/Quantities and Units/ISQBase.sysml...\n"
     ]
    },
    {
     "name": "stdout",
     "output_type": "stream",
     "text": [
      "Reading /home/sysml/conda/share/jupyter/kernels/sysml/sysml.library/Domain Libraries/Quantities and Units/ISQCondensedMatter.sysml...\n",
      "Reading /home/sysml/conda/share/jupyter/kernels/sysml/sysml.library/Domain Libraries/Quantities and Units/ISQMechanics.sysml...\n",
      "Reading /home/sysml/conda/share/jupyter/kernels/sysml/sysml.library/Domain Libraries/Quantities and Units/SI.sysml...\n",
      "Reading /home/sysml/conda/share/jupyter/kernels/sysml/sysml.library/Domain Libraries/Quantities and Units/ISQCharacteristicNumbers.sysml...\n",
      "Reading /home/sysml/conda/share/jupyter/kernels/sysml/sysml.library/Domain Libraries/Quantities and Units/QuantityCalculations.sysml...\n",
      "Reading /home/sysml/conda/share/jupyter/kernels/sysml/sysml.library/Domain Libraries/Quantities and Units/MeasurementRefCalculations.sysml...\n",
      "Reading /home/sysml/conda/share/jupyter/kernels/sysml/sysml.library/Domain Libraries/Quantities and Units/ISQAtomicNuclear.sysml...\n",
      "Reading /home/sysml/conda/share/jupyter/kernels/sysml/sysml.library/Domain Libraries/Quantities and Units/ISQ.sysml...\n",
      "Reading /home/sysml/conda/share/jupyter/kernels/sysml/sysml.library/Domain Libraries/Quantities and Units/ISQAcoustics.sysml...\n",
      "Reading /home/sysml/conda/share/jupyter/kernels/sysml/sysml.library/Domain Libraries/Quantities and Units/ISQLight.sysml...\n"
     ]
    },
    {
     "name": "stdout",
     "output_type": "stream",
     "text": [
      "Reading /home/sysml/conda/share/jupyter/kernels/sysml/sysml.library/Domain Libraries/Quantities and Units/ISQInformation.sysml...\n",
      "Reading /home/sysml/conda/share/jupyter/kernels/sysml/sysml.library/Domain Libraries/Quantities and Units/ISQThermodynamics.sysml...\n",
      "Reading /home/sysml/conda/share/jupyter/kernels/sysml/sysml.library/Domain Libraries/Quantities and Units/SIPrefixes.sysml...\n",
      "Reading /home/sysml/conda/share/jupyter/kernels/sysml/sysml.library/Domain Libraries/Quantities and Units/VectorCalculations.sysml...\n",
      "Reading /home/sysml/conda/share/jupyter/kernels/sysml/sysml.library/Domain Libraries/Quantities and Units/ISQChemistryMolecular.sysml...\n",
      "Reading /home/sysml/conda/share/jupyter/kernels/sysml/sysml.library/Domain Libraries/Quantities and Units/Quantities.sysml...\n",
      "Reading /home/sysml/conda/share/jupyter/kernels/sysml/sysml.library/Domain Libraries/Metadata/ImageMetadata.sysml...\n",
      "Reading /home/sysml/conda/share/jupyter/kernels/sysml/sysml.library/Domain Libraries/Metadata/ModelingMetadata.sysml...\n",
      "Reading /home/sysml/conda/share/jupyter/kernels/sysml/sysml.library/Domain Libraries/Metadata/ParametersOfInterestMetadata.sysml...\n",
      "Reading /home/sysml/conda/share/jupyter/kernels/sysml/sysml.library/Domain Libraries/Metadata/RiskMetadata.sysml...\n",
      "Reading /home/sysml/conda/share/jupyter/kernels/sysml/sysml.library/Domain Libraries/Requirement Derivation/RequirementDerivation.sysml...\n",
      "Reading /home/sysml/conda/share/jupyter/kernels/sysml/sysml.library/Domain Libraries/Requirement Derivation/DerivationConnections.sysml...\n"
     ]
    },
    {
     "name": "stderr",
     "output_type": "stream",
     "text": [
      "Dec 16, 2024 3:23:42 AM io.github.spencerpark.jupyter.channels.Loop start\n",
      "INFO: Loop starting...\n",
      "Dec 16, 2024 3:23:42 AM io.github.spencerpark.jupyter.channels.Loop start\n",
      "INFO: Loop started.\n",
      "Dec 16, 2024 3:23:42 AM io.github.spencerpark.jupyter.channels.Loop start\n",
      "INFO: Loop starting...\n",
      "Dec 16, 2024 3:23:42 AM io.github.spencerpark.jupyter.channels.Loop start\n",
      "INFO: Loop started.\n",
      "Dec 16, 2024 3:23:42 AM io.github.spencerpark.jupyter.channels.Loop start\n",
      "INFO: Loop starting...\n",
      "Dec 16, 2024 3:23:42 AM io.github.spencerpark.jupyter.channels.Loop start\n",
      "INFO: Loop started.\n"
     ]
    },
    {
     "name": "stderr",
     "output_type": "stream",
     "text": [
      "Dec 16, 2024 3:23:48 AM io.github.spencerpark.jupyter.channels.Loop shutdown\n",
      "INFO: Loop shutdown.\n",
      "Dec 16, 2024 3:23:48 AM io.github.spencerpark.jupyter.channels.Loop shutdown\n",
      "INFO: Loop shutdown.\n",
      "Dec 16, 2024 3:23:48 AM io.github.spencerpark.jupyter.channels.Loop shutdown\n",
      "INFO: Loop shutdown.\n",
      "Dec 16, 2024 3:23:48 AM io.github.spencerpark.jupyter.channels.Loop run\n",
      "INFO: Running loop shutdown callback.\n",
      "Dec 16, 2024 3:23:48 AM io.github.spencerpark.jupyter.channels.Loop run\n",
      "INFO: Loop stopped.\n",
      "Dec 16, 2024 3:23:48 AM io.github.spencerpark.jupyter.channels.Loop run\n",
      "INFO: Running loop shutdown callback.\n",
      "Dec 16, 2024 3:23:48 AM io.github.spencerpark.jupyter.channels.Loop run\n",
      "INFO: Loop stopped.\n",
      "Dec 16, 2024 3:23:48 AM io.github.spencerpark.jupyter.channels.Loop run\n",
      "INFO: Running loop shutdown callback.\n",
      "Dec 16, 2024 3:23:48 AM io.github.spencerpark.jupyter.channels.Loop run\n",
      "INFO: Loop stopped.\n"
     ]
    },
    {
     "name": "stdout",
     "output_type": "stream",
     "text": [
      "Signing notebook: TestSuite/StateTest.ipynb\n",
      "Executing: TestSuite/ImportTest.ipynb\n"
     ]
    },
    {
     "name": "stderr",
     "output_type": "stream",
     "text": [
      "/home/sysml/conda/lib/python3.12/site-packages/nbformat/__init__.py:96: MissingIDFieldWarning: Cell is missing an id field, this will become a hard error in future nbformat versions. You may want to use `normalize()` on your notebooks before validations (available since nbformat 5.1.4). Previous versions of nbformat are fixing this issue transparently, and will stop doing so in the future.\n",
      "  validate(nb)\n"
     ]
    },
    {
     "name": "stdout",
     "output_type": "stream",
     "text": [
      "Reading /home/sysml/conda/share/jupyter/kernels/sysml/sysml.library/Kernel Libraries/Kernel Semantic Library/Observation.kerml...\n"
     ]
    },
    {
     "name": "stderr",
     "output_type": "stream",
     "text": [
      "log4j:WARN No appenders could be found for logger (org.eclipse.xtext.parser.antlr.AbstractInternalAntlrParser).\n",
      "log4j:WARN Please initialize the log4j system properly.\n",
      "log4j:WARN See http://logging.apache.org/log4j/1.2/faq.html#noconfig for more info.\n"
     ]
    },
    {
     "name": "stdout",
     "output_type": "stream",
     "text": [
      "Reading /home/sysml/conda/share/jupyter/kernels/sysml/sysml.library/Kernel Libraries/Kernel Semantic Library/Transfers.kerml...\n",
      "Reading /home/sysml/conda/share/jupyter/kernels/sysml/sysml.library/Kernel Libraries/Kernel Semantic Library/Metaobjects.kerml...\n",
      "Reading /home/sysml/conda/share/jupyter/kernels/sysml/sysml.library/Kernel Libraries/Kernel Semantic Library/Triggers.kerml...\n",
      "Reading /home/sysml/conda/share/jupyter/kernels/sysml/sysml.library/Kernel Libraries/Kernel Semantic Library/Links.kerml...\n",
      "Reading /home/sysml/conda/share/jupyter/kernels/sysml/sysml.library/Kernel Libraries/Kernel Semantic Library/Base.kerml...\n",
      "Reading /home/sysml/conda/share/jupyter/kernels/sysml/sysml.library/Kernel Libraries/Kernel Semantic Library/Objects.kerml...\n",
      "Reading /home/sysml/conda/share/jupyter/kernels/sysml/sysml.library/Kernel Libraries/Kernel Semantic Library/Clocks.kerml...\n",
      "Reading /home/sysml/conda/share/jupyter/kernels/sysml/sysml.library/Kernel Libraries/Kernel Semantic Library/KerML.kerml...\n"
     ]
    },
    {
     "name": "stdout",
     "output_type": "stream",
     "text": [
      "Reading /home/sysml/conda/share/jupyter/kernels/sysml/sysml.library/Kernel Libraries/Kernel Semantic Library/FeatureReferencingPerformances.kerml...\n",
      "Reading /home/sysml/conda/share/jupyter/kernels/sysml/sysml.library/Kernel Libraries/Kernel Semantic Library/Performances.kerml...\n",
      "Reading /home/sysml/conda/share/jupyter/kernels/sysml/sysml.library/Kernel Libraries/Kernel Semantic Library/Occurrences.kerml...\n",
      "Reading /home/sysml/conda/share/jupyter/kernels/sysml/sysml.library/Kernel Libraries/Kernel Semantic Library/ControlPerformances.kerml...\n",
      "Reading /home/sysml/conda/share/jupyter/kernels/sysml/sysml.library/Kernel Libraries/Kernel Semantic Library/StatePerformances.kerml...\n",
      "Reading /home/sysml/conda/share/jupyter/kernels/sysml/sysml.library/Kernel Libraries/Kernel Semantic Library/TransitionPerformances.kerml...\n",
      "Reading /home/sysml/conda/share/jupyter/kernels/sysml/sysml.library/Kernel Libraries/Kernel Semantic Library/SpatialFrames.kerml...\n",
      "Reading /home/sysml/conda/share/jupyter/kernels/sysml/sysml.library/Kernel Libraries/Kernel Data Type Library/VectorValues.kerml...\n",
      "Reading /home/sysml/conda/share/jupyter/kernels/sysml/sysml.library/Kernel Libraries/Kernel Data Type Library/Collections.kerml...\n",
      "Reading /home/sysml/conda/share/jupyter/kernels/sysml/sysml.library/Kernel Libraries/Kernel Data Type Library/ScalarValues.kerml...\n",
      "Reading /home/sysml/conda/share/jupyter/kernels/sysml/sysml.library/Kernel Libraries/Kernel Function Library/NaturalFunctions.kerml...\n",
      "Reading /home/sysml/conda/share/jupyter/kernels/sysml/sysml.library/Kernel Libraries/Kernel Function Library/BaseFunctions.kerml...\n",
      "Reading /home/sysml/conda/share/jupyter/kernels/sysml/sysml.library/Kernel Libraries/Kernel Function Library/DataFunctions.kerml...\n",
      "Reading /home/sysml/conda/share/jupyter/kernels/sysml/sysml.library/Kernel Libraries/Kernel Function Library/IntegerFunctions.kerml...\n"
     ]
    },
    {
     "name": "stdout",
     "output_type": "stream",
     "text": [
      "Reading /home/sysml/conda/share/jupyter/kernels/sysml/sysml.library/Kernel Libraries/Kernel Function Library/RealFunctions.kerml...\n",
      "Reading /home/sysml/conda/share/jupyter/kernels/sysml/sysml.library/Kernel Libraries/Kernel Function Library/NumericalFunctions.kerml...\n",
      "Reading /home/sysml/conda/share/jupyter/kernels/sysml/sysml.library/Kernel Libraries/Kernel Function Library/VectorFunctions.kerml...\n",
      "Reading /home/sysml/conda/share/jupyter/kernels/sysml/sysml.library/Kernel Libraries/Kernel Function Library/SequenceFunctions.kerml...\n",
      "Reading /home/sysml/conda/share/jupyter/kernels/sysml/sysml.library/Kernel Libraries/Kernel Function Library/ComplexFunctions.kerml...\n",
      "Reading /home/sysml/conda/share/jupyter/kernels/sysml/sysml.library/Kernel Libraries/Kernel Function Library/RationalFunctions.kerml...\n",
      "Reading /home/sysml/conda/share/jupyter/kernels/sysml/sysml.library/Kernel Libraries/Kernel Function Library/StringFunctions.kerml...\n",
      "Reading /home/sysml/conda/share/jupyter/kernels/sysml/sysml.library/Kernel Libraries/Kernel Function Library/ScalarFunctions.kerml...\n",
      "Reading /home/sysml/conda/share/jupyter/kernels/sysml/sysml.library/Kernel Libraries/Kernel Function Library/CollectionFunctions.kerml...\n",
      "Reading /home/sysml/conda/share/jupyter/kernels/sysml/sysml.library/Kernel Libraries/Kernel Function Library/BooleanFunctions.kerml...\n",
      "Reading /home/sysml/conda/share/jupyter/kernels/sysml/sysml.library/Kernel Libraries/Kernel Function Library/OccurrenceFunctions.kerml...\n",
      "Reading /home/sysml/conda/share/jupyter/kernels/sysml/sysml.library/Kernel Libraries/Kernel Function Library/TrigFunctions.kerml...\n",
      "Reading /home/sysml/conda/share/jupyter/kernels/sysml/sysml.library/Kernel Libraries/Kernel Function Library/ControlFunctions.kerml...\n",
      "Reading /home/sysml/conda/share/jupyter/kernels/sysml/sysml.library/Systems Library/Connections.sysml...\n"
     ]
    },
    {
     "name": "stdout",
     "output_type": "stream",
     "text": [
      "Reading /home/sysml/conda/share/jupyter/kernels/sysml/sysml.library/Systems Library/States.sysml...\n",
      "Reading /home/sysml/conda/share/jupyter/kernels/sysml/sysml.library/Systems Library/Actions.sysml...\n",
      "Reading /home/sysml/conda/share/jupyter/kernels/sysml/sysml.library/Systems Library/Metadata.sysml...\n",
      "Reading /home/sysml/conda/share/jupyter/kernels/sysml/sysml.library/Systems Library/Requirements.sysml...\n",
      "Reading /home/sysml/conda/share/jupyter/kernels/sysml/sysml.library/Systems Library/AnalysisCases.sysml...\n",
      "Reading /home/sysml/conda/share/jupyter/kernels/sysml/sysml.library/Systems Library/Attributes.sysml...\n",
      "Reading /home/sysml/conda/share/jupyter/kernels/sysml/sysml.library/Systems Library/Cases.sysml...\n",
      "Reading /home/sysml/conda/share/jupyter/kernels/sysml/sysml.library/Systems Library/VerificationCases.sysml...\n",
      "Reading /home/sysml/conda/share/jupyter/kernels/sysml/sysml.library/Systems Library/Interfaces.sysml...\n",
      "Reading /home/sysml/conda/share/jupyter/kernels/sysml/sysml.library/Systems Library/Ports.sysml...\n",
      "Reading /home/sysml/conda/share/jupyter/kernels/sysml/sysml.library/Systems Library/Views.sysml...\n",
      "Reading /home/sysml/conda/share/jupyter/kernels/sysml/sysml.library/Systems Library/UseCases.sysml...\n",
      "Reading /home/sysml/conda/share/jupyter/kernels/sysml/sysml.library/Systems Library/Parts.sysml...\n",
      "Reading /home/sysml/conda/share/jupyter/kernels/sysml/sysml.library/Systems Library/SysML.sysml...\n",
      "Reading /home/sysml/conda/share/jupyter/kernels/sysml/sysml.library/Systems Library/Constraints.sysml...\n",
      "Reading /home/sysml/conda/share/jupyter/kernels/sysml/sysml.library/Systems Library/Items.sysml...\n"
     ]
    },
    {
     "name": "stdout",
     "output_type": "stream",
     "text": [
      "Reading /home/sysml/conda/share/jupyter/kernels/sysml/sysml.library/Systems Library/Calculations.sysml...\n",
      "Reading /home/sysml/conda/share/jupyter/kernels/sysml/sysml.library/Systems Library/StandardViewDefinitions.sysml...\n",
      "Reading /home/sysml/conda/share/jupyter/kernels/sysml/sysml.library/Systems Library/Allocations.sysml...\n",
      "Reading /home/sysml/conda/share/jupyter/kernels/sysml/sysml.library/Domain Libraries/Geometry/SpatialItems.sysml...\n",
      "Reading /home/sysml/conda/share/jupyter/kernels/sysml/sysml.library/Domain Libraries/Geometry/ShapeItems.sysml...\n",
      "Reading /home/sysml/conda/share/jupyter/kernels/sysml/sysml.library/Domain Libraries/Analysis/TradeStudies.sysml...\n",
      "Reading /home/sysml/conda/share/jupyter/kernels/sysml/sysml.library/Domain Libraries/Analysis/StateSpaceRepresentation.sysml...\n",
      "Reading /home/sysml/conda/share/jupyter/kernels/sysml/sysml.library/Domain Libraries/Analysis/SampledFunctions.sysml...\n",
      "Reading /home/sysml/conda/share/jupyter/kernels/sysml/sysml.library/Domain Libraries/Analysis/AnalysisTooling.sysml...\n",
      "Reading /home/sysml/conda/share/jupyter/kernels/sysml/sysml.library/Domain Libraries/Cause and Effect/CausationConnections.sysml...\n",
      "Reading /home/sysml/conda/share/jupyter/kernels/sysml/sysml.library/Domain Libraries/Cause and Effect/CauseAndEffect.sysml...\n",
      "Reading /home/sysml/conda/share/jupyter/kernels/sysml/sysml.library/Domain Libraries/Quantities and Units/TensorCalculations.sysml...\n",
      "Reading /home/sysml/conda/share/jupyter/kernels/sysml/sysml.library/Domain Libraries/Quantities and Units/ISQSpaceTime.sysml...\n",
      "Reading /home/sysml/conda/share/jupyter/kernels/sysml/sysml.library/Domain Libraries/Quantities and Units/ISQElectromagnetism.sysml...\n"
     ]
    },
    {
     "name": "stdout",
     "output_type": "stream",
     "text": [
      "Reading /home/sysml/conda/share/jupyter/kernels/sysml/sysml.library/Domain Libraries/Quantities and Units/USCustomaryUnits.sysml...\n",
      "Reading /home/sysml/conda/share/jupyter/kernels/sysml/sysml.library/Domain Libraries/Quantities and Units/Time.sysml...\n",
      "Reading /home/sysml/conda/share/jupyter/kernels/sysml/sysml.library/Domain Libraries/Quantities and Units/MeasurementReferences.sysml...\n",
      "Reading /home/sysml/conda/share/jupyter/kernels/sysml/sysml.library/Domain Libraries/Quantities and Units/ISQBase.sysml...\n",
      "Reading /home/sysml/conda/share/jupyter/kernels/sysml/sysml.library/Domain Libraries/Quantities and Units/ISQCondensedMatter.sysml...\n",
      "Reading /home/sysml/conda/share/jupyter/kernels/sysml/sysml.library/Domain Libraries/Quantities and Units/ISQMechanics.sysml...\n",
      "Reading /home/sysml/conda/share/jupyter/kernels/sysml/sysml.library/Domain Libraries/Quantities and Units/SI.sysml...\n",
      "Reading /home/sysml/conda/share/jupyter/kernels/sysml/sysml.library/Domain Libraries/Quantities and Units/ISQCharacteristicNumbers.sysml...\n",
      "Reading /home/sysml/conda/share/jupyter/kernels/sysml/sysml.library/Domain Libraries/Quantities and Units/QuantityCalculations.sysml...\n",
      "Reading /home/sysml/conda/share/jupyter/kernels/sysml/sysml.library/Domain Libraries/Quantities and Units/MeasurementRefCalculations.sysml...\n",
      "Reading /home/sysml/conda/share/jupyter/kernels/sysml/sysml.library/Domain Libraries/Quantities and Units/ISQAtomicNuclear.sysml...\n"
     ]
    },
    {
     "name": "stdout",
     "output_type": "stream",
     "text": [
      "Reading /home/sysml/conda/share/jupyter/kernels/sysml/sysml.library/Domain Libraries/Quantities and Units/ISQ.sysml...\n",
      "Reading /home/sysml/conda/share/jupyter/kernels/sysml/sysml.library/Domain Libraries/Quantities and Units/ISQAcoustics.sysml...\n",
      "Reading /home/sysml/conda/share/jupyter/kernels/sysml/sysml.library/Domain Libraries/Quantities and Units/ISQLight.sysml...\n",
      "Reading /home/sysml/conda/share/jupyter/kernels/sysml/sysml.library/Domain Libraries/Quantities and Units/ISQInformation.sysml...\n",
      "Reading /home/sysml/conda/share/jupyter/kernels/sysml/sysml.library/Domain Libraries/Quantities and Units/ISQThermodynamics.sysml...\n",
      "Reading /home/sysml/conda/share/jupyter/kernels/sysml/sysml.library/Domain Libraries/Quantities and Units/SIPrefixes.sysml...\n",
      "Reading /home/sysml/conda/share/jupyter/kernels/sysml/sysml.library/Domain Libraries/Quantities and Units/VectorCalculations.sysml...\n",
      "Reading /home/sysml/conda/share/jupyter/kernels/sysml/sysml.library/Domain Libraries/Quantities and Units/ISQChemistryMolecular.sysml...\n",
      "Reading /home/sysml/conda/share/jupyter/kernels/sysml/sysml.library/Domain Libraries/Quantities and Units/Quantities.sysml...\n",
      "Reading /home/sysml/conda/share/jupyter/kernels/sysml/sysml.library/Domain Libraries/Metadata/ImageMetadata.sysml...\n",
      "Reading /home/sysml/conda/share/jupyter/kernels/sysml/sysml.library/Domain Libraries/Metadata/ModelingMetadata.sysml...\n",
      "Reading /home/sysml/conda/share/jupyter/kernels/sysml/sysml.library/Domain Libraries/Metadata/ParametersOfInterestMetadata.sysml...\n",
      "Reading /home/sysml/conda/share/jupyter/kernels/sysml/sysml.library/Domain Libraries/Metadata/RiskMetadata.sysml...\n",
      "Reading /home/sysml/conda/share/jupyter/kernels/sysml/sysml.library/Domain Libraries/Requirement Derivation/RequirementDerivation.sysml...\n",
      "Reading /home/sysml/conda/share/jupyter/kernels/sysml/sysml.library/Domain Libraries/Requirement Derivation/DerivationConnections.sysml...\n"
     ]
    },
    {
     "name": "stderr",
     "output_type": "stream",
     "text": [
      "Dec 16, 2024 3:23:52 AM io.github.spencerpark.jupyter.channels.Loop start\n",
      "INFO: Loop starting...\n",
      "Dec 16, 2024 3:23:52 AM io.github.spencerpark.jupyter.channels.Loop start\n",
      "INFO: Loop started.\n",
      "Dec 16, 2024 3:23:52 AM io.github.spencerpark.jupyter.channels.Loop start\n",
      "INFO: Loop starting...\n",
      "Dec 16, 2024 3:23:52 AM io.github.spencerpark.jupyter.channels.Loop start\n",
      "INFO: Loop started.\n",
      "Dec 16, 2024 3:23:52 AM io.github.spencerpark.jupyter.channels.Loop start\n",
      "INFO: Loop starting...\n",
      "Dec 16, 2024 3:23:52 AM io.github.spencerpark.jupyter.channels.Loop start\n",
      "INFO: Loop started.\n"
     ]
    },
    {
     "name": "stderr",
     "output_type": "stream",
     "text": [
      "Dec 16, 2024 3:23:58 AM io.github.spencerpark.jupyter.channels.Loop shutdown\n",
      "INFO: Loop shutdown.\n",
      "Dec 16, 2024 3:23:58 AM io.github.spencerpark.jupyter.channels.Loop shutdown\n",
      "INFO: Loop shutdown.\n",
      "Dec 16, 2024 3:23:58 AM io.github.spencerpark.jupyter.channels.Loop shutdown\n",
      "INFO: Loop shutdown.\n",
      "Dec 16, 2024 3:23:58 AM io.github.spencerpark.jupyter.channels.Loop run\n",
      "INFO: Running loop shutdown callback.\n",
      "Dec 16, 2024 3:23:58 AM io.github.spencerpark.jupyter.channels.Loop run\n",
      "INFO: Loop stopped.\n",
      "Dec 16, 2024 3:23:58 AM io.github.spencerpark.jupyter.channels.Loop run\n",
      "INFO: Running loop shutdown callback.\n",
      "Dec 16, 2024 3:23:58 AM io.github.spencerpark.jupyter.channels.Loop run\n",
      "INFO: Loop stopped.\n"
     ]
    },
    {
     "name": "stderr",
     "output_type": "stream",
     "text": [
      "Dec 16, 2024 3:23:58 AM io.github.spencerpark.jupyter.channels.Loop run\n",
      "INFO: Running loop shutdown callback.\n",
      "Dec 16, 2024 3:23:58 AM io.github.spencerpark.jupyter.channels.Loop run\n",
      "INFO: Loop stopped.\n"
     ]
    },
    {
     "name": "stdout",
     "output_type": "stream",
     "text": [
      "Signing notebook: TestSuite/ImportTest.ipynb\n",
      "Executing: TestSuite/ConjugationTest.ipynb\n"
     ]
    },
    {
     "name": "stderr",
     "output_type": "stream",
     "text": [
      "/home/sysml/conda/lib/python3.12/site-packages/nbformat/__init__.py:96: MissingIDFieldWarning: Cell is missing an id field, this will become a hard error in future nbformat versions. You may want to use `normalize()` on your notebooks before validations (available since nbformat 5.1.4). Previous versions of nbformat are fixing this issue transparently, and will stop doing so in the future.\n",
      "  validate(nb)\n"
     ]
    },
    {
     "name": "stdout",
     "output_type": "stream",
     "text": [
      "Reading /home/sysml/conda/share/jupyter/kernels/sysml/sysml.library/Kernel Libraries/Kernel Semantic Library/Observation.kerml...\n"
     ]
    },
    {
     "name": "stderr",
     "output_type": "stream",
     "text": [
      "log4j:WARN No appenders could be found for logger (org.eclipse.xtext.parser.antlr.AbstractInternalAntlrParser).\n",
      "log4j:WARN Please initialize the log4j system properly.\n",
      "log4j:WARN See http://logging.apache.org/log4j/1.2/faq.html#noconfig for more info.\n"
     ]
    },
    {
     "name": "stdout",
     "output_type": "stream",
     "text": [
      "Reading /home/sysml/conda/share/jupyter/kernels/sysml/sysml.library/Kernel Libraries/Kernel Semantic Library/Transfers.kerml...\n",
      "Reading /home/sysml/conda/share/jupyter/kernels/sysml/sysml.library/Kernel Libraries/Kernel Semantic Library/Metaobjects.kerml...\n",
      "Reading /home/sysml/conda/share/jupyter/kernels/sysml/sysml.library/Kernel Libraries/Kernel Semantic Library/Triggers.kerml...\n",
      "Reading /home/sysml/conda/share/jupyter/kernels/sysml/sysml.library/Kernel Libraries/Kernel Semantic Library/Links.kerml...\n",
      "Reading /home/sysml/conda/share/jupyter/kernels/sysml/sysml.library/Kernel Libraries/Kernel Semantic Library/Base.kerml...\n",
      "Reading /home/sysml/conda/share/jupyter/kernels/sysml/sysml.library/Kernel Libraries/Kernel Semantic Library/Objects.kerml...\n",
      "Reading /home/sysml/conda/share/jupyter/kernels/sysml/sysml.library/Kernel Libraries/Kernel Semantic Library/Clocks.kerml...\n",
      "Reading /home/sysml/conda/share/jupyter/kernels/sysml/sysml.library/Kernel Libraries/Kernel Semantic Library/KerML.kerml...\n"
     ]
    },
    {
     "name": "stdout",
     "output_type": "stream",
     "text": [
      "Reading /home/sysml/conda/share/jupyter/kernels/sysml/sysml.library/Kernel Libraries/Kernel Semantic Library/FeatureReferencingPerformances.kerml...\n",
      "Reading /home/sysml/conda/share/jupyter/kernels/sysml/sysml.library/Kernel Libraries/Kernel Semantic Library/Performances.kerml...\n",
      "Reading /home/sysml/conda/share/jupyter/kernels/sysml/sysml.library/Kernel Libraries/Kernel Semantic Library/Occurrences.kerml...\n",
      "Reading /home/sysml/conda/share/jupyter/kernels/sysml/sysml.library/Kernel Libraries/Kernel Semantic Library/ControlPerformances.kerml...\n",
      "Reading /home/sysml/conda/share/jupyter/kernels/sysml/sysml.library/Kernel Libraries/Kernel Semantic Library/StatePerformances.kerml...\n",
      "Reading /home/sysml/conda/share/jupyter/kernels/sysml/sysml.library/Kernel Libraries/Kernel Semantic Library/TransitionPerformances.kerml...\n",
      "Reading /home/sysml/conda/share/jupyter/kernels/sysml/sysml.library/Kernel Libraries/Kernel Semantic Library/SpatialFrames.kerml...\n",
      "Reading /home/sysml/conda/share/jupyter/kernels/sysml/sysml.library/Kernel Libraries/Kernel Data Type Library/VectorValues.kerml...\n",
      "Reading /home/sysml/conda/share/jupyter/kernels/sysml/sysml.library/Kernel Libraries/Kernel Data Type Library/Collections.kerml...\n",
      "Reading /home/sysml/conda/share/jupyter/kernels/sysml/sysml.library/Kernel Libraries/Kernel Data Type Library/ScalarValues.kerml...\n",
      "Reading /home/sysml/conda/share/jupyter/kernels/sysml/sysml.library/Kernel Libraries/Kernel Function Library/NaturalFunctions.kerml...\n"
     ]
    },
    {
     "name": "stdout",
     "output_type": "stream",
     "text": [
      "Reading /home/sysml/conda/share/jupyter/kernels/sysml/sysml.library/Kernel Libraries/Kernel Function Library/BaseFunctions.kerml...\n",
      "Reading /home/sysml/conda/share/jupyter/kernels/sysml/sysml.library/Kernel Libraries/Kernel Function Library/DataFunctions.kerml...\n",
      "Reading /home/sysml/conda/share/jupyter/kernels/sysml/sysml.library/Kernel Libraries/Kernel Function Library/IntegerFunctions.kerml...\n",
      "Reading /home/sysml/conda/share/jupyter/kernels/sysml/sysml.library/Kernel Libraries/Kernel Function Library/RealFunctions.kerml...\n",
      "Reading /home/sysml/conda/share/jupyter/kernels/sysml/sysml.library/Kernel Libraries/Kernel Function Library/NumericalFunctions.kerml...\n",
      "Reading /home/sysml/conda/share/jupyter/kernels/sysml/sysml.library/Kernel Libraries/Kernel Function Library/VectorFunctions.kerml...\n",
      "Reading /home/sysml/conda/share/jupyter/kernels/sysml/sysml.library/Kernel Libraries/Kernel Function Library/SequenceFunctions.kerml...\n",
      "Reading /home/sysml/conda/share/jupyter/kernels/sysml/sysml.library/Kernel Libraries/Kernel Function Library/ComplexFunctions.kerml...\n",
      "Reading /home/sysml/conda/share/jupyter/kernels/sysml/sysml.library/Kernel Libraries/Kernel Function Library/RationalFunctions.kerml...\n",
      "Reading /home/sysml/conda/share/jupyter/kernels/sysml/sysml.library/Kernel Libraries/Kernel Function Library/StringFunctions.kerml...\n",
      "Reading /home/sysml/conda/share/jupyter/kernels/sysml/sysml.library/Kernel Libraries/Kernel Function Library/ScalarFunctions.kerml...\n",
      "Reading /home/sysml/conda/share/jupyter/kernels/sysml/sysml.library/Kernel Libraries/Kernel Function Library/CollectionFunctions.kerml...\n",
      "Reading /home/sysml/conda/share/jupyter/kernels/sysml/sysml.library/Kernel Libraries/Kernel Function Library/BooleanFunctions.kerml...\n",
      "Reading /home/sysml/conda/share/jupyter/kernels/sysml/sysml.library/Kernel Libraries/Kernel Function Library/OccurrenceFunctions.kerml...\n",
      "Reading /home/sysml/conda/share/jupyter/kernels/sysml/sysml.library/Kernel Libraries/Kernel Function Library/TrigFunctions.kerml...\n",
      "Reading /home/sysml/conda/share/jupyter/kernels/sysml/sysml.library/Kernel Libraries/Kernel Function Library/ControlFunctions.kerml...\n",
      "Reading /home/sysml/conda/share/jupyter/kernels/sysml/sysml.library/Systems Library/Connections.sysml...\n"
     ]
    },
    {
     "name": "stdout",
     "output_type": "stream",
     "text": [
      "Reading /home/sysml/conda/share/jupyter/kernels/sysml/sysml.library/Systems Library/States.sysml...\n",
      "Reading /home/sysml/conda/share/jupyter/kernels/sysml/sysml.library/Systems Library/Actions.sysml...\n",
      "Reading /home/sysml/conda/share/jupyter/kernels/sysml/sysml.library/Systems Library/Metadata.sysml...\n",
      "Reading /home/sysml/conda/share/jupyter/kernels/sysml/sysml.library/Systems Library/Requirements.sysml...\n",
      "Reading /home/sysml/conda/share/jupyter/kernels/sysml/sysml.library/Systems Library/AnalysisCases.sysml...\n",
      "Reading /home/sysml/conda/share/jupyter/kernels/sysml/sysml.library/Systems Library/Attributes.sysml...\n",
      "Reading /home/sysml/conda/share/jupyter/kernels/sysml/sysml.library/Systems Library/Cases.sysml...\n",
      "Reading /home/sysml/conda/share/jupyter/kernels/sysml/sysml.library/Systems Library/VerificationCases.sysml...\n",
      "Reading /home/sysml/conda/share/jupyter/kernels/sysml/sysml.library/Systems Library/Interfaces.sysml...\n",
      "Reading /home/sysml/conda/share/jupyter/kernels/sysml/sysml.library/Systems Library/Ports.sysml...\n",
      "Reading /home/sysml/conda/share/jupyter/kernels/sysml/sysml.library/Systems Library/Views.sysml...\n",
      "Reading /home/sysml/conda/share/jupyter/kernels/sysml/sysml.library/Systems Library/UseCases.sysml...\n",
      "Reading /home/sysml/conda/share/jupyter/kernels/sysml/sysml.library/Systems Library/Parts.sysml...\n",
      "Reading /home/sysml/conda/share/jupyter/kernels/sysml/sysml.library/Systems Library/SysML.sysml...\n",
      "Reading /home/sysml/conda/share/jupyter/kernels/sysml/sysml.library/Systems Library/Constraints.sysml...\n",
      "Reading /home/sysml/conda/share/jupyter/kernels/sysml/sysml.library/Systems Library/Items.sysml...\n",
      "Reading /home/sysml/conda/share/jupyter/kernels/sysml/sysml.library/Systems Library/Calculations.sysml...\n",
      "Reading /home/sysml/conda/share/jupyter/kernels/sysml/sysml.library/Systems Library/StandardViewDefinitions.sysml...\n",
      "Reading /home/sysml/conda/share/jupyter/kernels/sysml/sysml.library/Systems Library/Allocations.sysml...\n",
      "Reading /home/sysml/conda/share/jupyter/kernels/sysml/sysml.library/Domain Libraries/Geometry/SpatialItems.sysml...\n"
     ]
    },
    {
     "name": "stdout",
     "output_type": "stream",
     "text": [
      "Reading /home/sysml/conda/share/jupyter/kernels/sysml/sysml.library/Domain Libraries/Geometry/ShapeItems.sysml...\n",
      "Reading /home/sysml/conda/share/jupyter/kernels/sysml/sysml.library/Domain Libraries/Analysis/TradeStudies.sysml...\n",
      "Reading /home/sysml/conda/share/jupyter/kernels/sysml/sysml.library/Domain Libraries/Analysis/StateSpaceRepresentation.sysml...\n",
      "Reading /home/sysml/conda/share/jupyter/kernels/sysml/sysml.library/Domain Libraries/Analysis/SampledFunctions.sysml...\n",
      "Reading /home/sysml/conda/share/jupyter/kernels/sysml/sysml.library/Domain Libraries/Analysis/AnalysisTooling.sysml...\n",
      "Reading /home/sysml/conda/share/jupyter/kernels/sysml/sysml.library/Domain Libraries/Cause and Effect/CausationConnections.sysml...\n",
      "Reading /home/sysml/conda/share/jupyter/kernels/sysml/sysml.library/Domain Libraries/Cause and Effect/CauseAndEffect.sysml...\n",
      "Reading /home/sysml/conda/share/jupyter/kernels/sysml/sysml.library/Domain Libraries/Quantities and Units/TensorCalculations.sysml...\n",
      "Reading /home/sysml/conda/share/jupyter/kernels/sysml/sysml.library/Domain Libraries/Quantities and Units/ISQSpaceTime.sysml...\n",
      "Reading /home/sysml/conda/share/jupyter/kernels/sysml/sysml.library/Domain Libraries/Quantities and Units/ISQElectromagnetism.sysml...\n",
      "Reading /home/sysml/conda/share/jupyter/kernels/sysml/sysml.library/Domain Libraries/Quantities and Units/USCustomaryUnits.sysml...\n"
     ]
    },
    {
     "name": "stdout",
     "output_type": "stream",
     "text": [
      "Reading /home/sysml/conda/share/jupyter/kernels/sysml/sysml.library/Domain Libraries/Quantities and Units/Time.sysml...\n",
      "Reading /home/sysml/conda/share/jupyter/kernels/sysml/sysml.library/Domain Libraries/Quantities and Units/MeasurementReferences.sysml...\n",
      "Reading /home/sysml/conda/share/jupyter/kernels/sysml/sysml.library/Domain Libraries/Quantities and Units/ISQBase.sysml...\n",
      "Reading /home/sysml/conda/share/jupyter/kernels/sysml/sysml.library/Domain Libraries/Quantities and Units/ISQCondensedMatter.sysml...\n",
      "Reading /home/sysml/conda/share/jupyter/kernels/sysml/sysml.library/Domain Libraries/Quantities and Units/ISQMechanics.sysml...\n",
      "Reading /home/sysml/conda/share/jupyter/kernels/sysml/sysml.library/Domain Libraries/Quantities and Units/SI.sysml...\n",
      "Reading /home/sysml/conda/share/jupyter/kernels/sysml/sysml.library/Domain Libraries/Quantities and Units/ISQCharacteristicNumbers.sysml...\n",
      "Reading /home/sysml/conda/share/jupyter/kernels/sysml/sysml.library/Domain Libraries/Quantities and Units/QuantityCalculations.sysml...\n",
      "Reading /home/sysml/conda/share/jupyter/kernels/sysml/sysml.library/Domain Libraries/Quantities and Units/MeasurementRefCalculations.sysml...\n",
      "Reading /home/sysml/conda/share/jupyter/kernels/sysml/sysml.library/Domain Libraries/Quantities and Units/ISQAtomicNuclear.sysml...\n",
      "Reading /home/sysml/conda/share/jupyter/kernels/sysml/sysml.library/Domain Libraries/Quantities and Units/ISQ.sysml...\n",
      "Reading /home/sysml/conda/share/jupyter/kernels/sysml/sysml.library/Domain Libraries/Quantities and Units/ISQAcoustics.sysml...\n",
      "Reading /home/sysml/conda/share/jupyter/kernels/sysml/sysml.library/Domain Libraries/Quantities and Units/ISQLight.sysml...\n"
     ]
    },
    {
     "name": "stdout",
     "output_type": "stream",
     "text": [
      "Reading /home/sysml/conda/share/jupyter/kernels/sysml/sysml.library/Domain Libraries/Quantities and Units/ISQInformation.sysml...\n",
      "Reading /home/sysml/conda/share/jupyter/kernels/sysml/sysml.library/Domain Libraries/Quantities and Units/ISQThermodynamics.sysml...\n",
      "Reading /home/sysml/conda/share/jupyter/kernels/sysml/sysml.library/Domain Libraries/Quantities and Units/SIPrefixes.sysml...\n",
      "Reading /home/sysml/conda/share/jupyter/kernels/sysml/sysml.library/Domain Libraries/Quantities and Units/VectorCalculations.sysml...\n",
      "Reading /home/sysml/conda/share/jupyter/kernels/sysml/sysml.library/Domain Libraries/Quantities and Units/ISQChemistryMolecular.sysml...\n",
      "Reading /home/sysml/conda/share/jupyter/kernels/sysml/sysml.library/Domain Libraries/Quantities and Units/Quantities.sysml...\n",
      "Reading /home/sysml/conda/share/jupyter/kernels/sysml/sysml.library/Domain Libraries/Metadata/ImageMetadata.sysml...\n",
      "Reading /home/sysml/conda/share/jupyter/kernels/sysml/sysml.library/Domain Libraries/Metadata/ModelingMetadata.sysml...\n",
      "Reading /home/sysml/conda/share/jupyter/kernels/sysml/sysml.library/Domain Libraries/Metadata/ParametersOfInterestMetadata.sysml...\n",
      "Reading /home/sysml/conda/share/jupyter/kernels/sysml/sysml.library/Domain Libraries/Metadata/RiskMetadata.sysml...\n",
      "Reading /home/sysml/conda/share/jupyter/kernels/sysml/sysml.library/Domain Libraries/Requirement Derivation/RequirementDerivation.sysml...\n",
      "Reading /home/sysml/conda/share/jupyter/kernels/sysml/sysml.library/Domain Libraries/Requirement Derivation/DerivationConnections.sysml...\n"
     ]
    },
    {
     "name": "stderr",
     "output_type": "stream",
     "text": [
      "Dec 16, 2024 3:24:02 AM io.github.spencerpark.jupyter.channels.Loop start\n",
      "INFO: Loop starting...\n",
      "Dec 16, 2024 3:24:02 AM io.github.spencerpark.jupyter.channels.Loop start\n",
      "INFO: Loop started.\n",
      "Dec 16, 2024 3:24:02 AM io.github.spencerpark.jupyter.channels.Loop start\n",
      "INFO: Loop starting...\n",
      "Dec 16, 2024 3:24:02 AM io.github.spencerpark.jupyter.channels.Loop start\n",
      "INFO: Loop started.\n",
      "Dec 16, 2024 3:24:02 AM io.github.spencerpark.jupyter.channels.Loop start\n",
      "INFO: Loop starting...\n",
      "Dec 16, 2024 3:24:02 AM io.github.spencerpark.jupyter.channels.Loop start\n",
      "INFO: Loop started.\n"
     ]
    },
    {
     "name": "stderr",
     "output_type": "stream",
     "text": [
      "Dec 16, 2024 3:24:08 AM io.github.spencerpark.jupyter.channels.Loop shutdown\n",
      "INFO: Loop shutdown.\n",
      "Dec 16, 2024 3:24:08 AM io.github.spencerpark.jupyter.channels.Loop shutdown\n",
      "INFO: Loop shutdown.\n",
      "Dec 16, 2024 3:24:08 AM io.github.spencerpark.jupyter.channels.Loop shutdown\n",
      "INFO: Loop shutdown.\n",
      "Dec 16, 2024 3:24:08 AM io.github.spencerpark.jupyter.channels.Loop run\n",
      "INFO: Running loop shutdown callback.\n",
      "Dec 16, 2024 3:24:08 AM io.github.spencerpark.jupyter.channels.Loop run\n",
      "INFO: Loop stopped.\n",
      "Dec 16, 2024 3:24:08 AM io.github.spencerpark.jupyter.channels.Loop run\n",
      "INFO: Running loop shutdown callback.\n",
      "Dec 16, 2024 3:24:08 AM io.github.spencerpark.jupyter.channels.Loop run\n",
      "INFO: Loop stopped.\n"
     ]
    },
    {
     "name": "stderr",
     "output_type": "stream",
     "text": [
      "Dec 16, 2024 3:24:08 AM io.github.spencerpark.jupyter.channels.Loop run\n",
      "INFO: Running loop shutdown callback.\n",
      "Dec 16, 2024 3:24:08 AM io.github.spencerpark.jupyter.channels.Loop run\n",
      "INFO: Loop stopped.\n"
     ]
    },
    {
     "name": "stdout",
     "output_type": "stream",
     "text": [
      "Signing notebook: TestSuite/ConjugationTest.ipynb\n",
      "Executing: TestSuite/RequirementTest.ipynb\n"
     ]
    },
    {
     "name": "stderr",
     "output_type": "stream",
     "text": [
      "/home/sysml/conda/lib/python3.12/site-packages/nbformat/__init__.py:96: MissingIDFieldWarning: Cell is missing an id field, this will become a hard error in future nbformat versions. You may want to use `normalize()` on your notebooks before validations (available since nbformat 5.1.4). Previous versions of nbformat are fixing this issue transparently, and will stop doing so in the future.\n",
      "  validate(nb)\n"
     ]
    },
    {
     "name": "stdout",
     "output_type": "stream",
     "text": [
      "Reading /home/sysml/conda/share/jupyter/kernels/sysml/sysml.library/Kernel Libraries/Kernel Semantic Library/Observation.kerml...\n"
     ]
    },
    {
     "name": "stderr",
     "output_type": "stream",
     "text": [
      "log4j:WARN No appenders could be found for logger (org.eclipse.xtext.parser.antlr.AbstractInternalAntlrParser).\n",
      "log4j:WARN Please initialize the log4j system properly.\n",
      "log4j:WARN See http://logging.apache.org/log4j/1.2/faq.html#noconfig for more info.\n"
     ]
    },
    {
     "name": "stdout",
     "output_type": "stream",
     "text": [
      "Reading /home/sysml/conda/share/jupyter/kernels/sysml/sysml.library/Kernel Libraries/Kernel Semantic Library/Transfers.kerml...\n",
      "Reading /home/sysml/conda/share/jupyter/kernels/sysml/sysml.library/Kernel Libraries/Kernel Semantic Library/Metaobjects.kerml...\n",
      "Reading /home/sysml/conda/share/jupyter/kernels/sysml/sysml.library/Kernel Libraries/Kernel Semantic Library/Triggers.kerml...\n",
      "Reading /home/sysml/conda/share/jupyter/kernels/sysml/sysml.library/Kernel Libraries/Kernel Semantic Library/Links.kerml...\n",
      "Reading /home/sysml/conda/share/jupyter/kernels/sysml/sysml.library/Kernel Libraries/Kernel Semantic Library/Base.kerml...\n",
      "Reading /home/sysml/conda/share/jupyter/kernels/sysml/sysml.library/Kernel Libraries/Kernel Semantic Library/Objects.kerml...\n",
      "Reading /home/sysml/conda/share/jupyter/kernels/sysml/sysml.library/Kernel Libraries/Kernel Semantic Library/Clocks.kerml...\n",
      "Reading /home/sysml/conda/share/jupyter/kernels/sysml/sysml.library/Kernel Libraries/Kernel Semantic Library/KerML.kerml...\n"
     ]
    },
    {
     "name": "stdout",
     "output_type": "stream",
     "text": [
      "Reading /home/sysml/conda/share/jupyter/kernels/sysml/sysml.library/Kernel Libraries/Kernel Semantic Library/FeatureReferencingPerformances.kerml...\n",
      "Reading /home/sysml/conda/share/jupyter/kernels/sysml/sysml.library/Kernel Libraries/Kernel Semantic Library/Performances.kerml...\n",
      "Reading /home/sysml/conda/share/jupyter/kernels/sysml/sysml.library/Kernel Libraries/Kernel Semantic Library/Occurrences.kerml...\n",
      "Reading /home/sysml/conda/share/jupyter/kernels/sysml/sysml.library/Kernel Libraries/Kernel Semantic Library/ControlPerformances.kerml...\n",
      "Reading /home/sysml/conda/share/jupyter/kernels/sysml/sysml.library/Kernel Libraries/Kernel Semantic Library/StatePerformances.kerml...\n",
      "Reading /home/sysml/conda/share/jupyter/kernels/sysml/sysml.library/Kernel Libraries/Kernel Semantic Library/TransitionPerformances.kerml...\n",
      "Reading /home/sysml/conda/share/jupyter/kernels/sysml/sysml.library/Kernel Libraries/Kernel Semantic Library/SpatialFrames.kerml...\n",
      "Reading /home/sysml/conda/share/jupyter/kernels/sysml/sysml.library/Kernel Libraries/Kernel Data Type Library/VectorValues.kerml...\n",
      "Reading /home/sysml/conda/share/jupyter/kernels/sysml/sysml.library/Kernel Libraries/Kernel Data Type Library/Collections.kerml...\n",
      "Reading /home/sysml/conda/share/jupyter/kernels/sysml/sysml.library/Kernel Libraries/Kernel Data Type Library/ScalarValues.kerml...\n",
      "Reading /home/sysml/conda/share/jupyter/kernels/sysml/sysml.library/Kernel Libraries/Kernel Function Library/NaturalFunctions.kerml...\n",
      "Reading /home/sysml/conda/share/jupyter/kernels/sysml/sysml.library/Kernel Libraries/Kernel Function Library/BaseFunctions.kerml...\n",
      "Reading /home/sysml/conda/share/jupyter/kernels/sysml/sysml.library/Kernel Libraries/Kernel Function Library/DataFunctions.kerml...\n",
      "Reading /home/sysml/conda/share/jupyter/kernels/sysml/sysml.library/Kernel Libraries/Kernel Function Library/IntegerFunctions.kerml...\n",
      "Reading /home/sysml/conda/share/jupyter/kernels/sysml/sysml.library/Kernel Libraries/Kernel Function Library/RealFunctions.kerml...\n",
      "Reading /home/sysml/conda/share/jupyter/kernels/sysml/sysml.library/Kernel Libraries/Kernel Function Library/NumericalFunctions.kerml...\n"
     ]
    },
    {
     "name": "stdout",
     "output_type": "stream",
     "text": [
      "Reading /home/sysml/conda/share/jupyter/kernels/sysml/sysml.library/Kernel Libraries/Kernel Function Library/VectorFunctions.kerml...\n",
      "Reading /home/sysml/conda/share/jupyter/kernels/sysml/sysml.library/Kernel Libraries/Kernel Function Library/SequenceFunctions.kerml...\n",
      "Reading /home/sysml/conda/share/jupyter/kernels/sysml/sysml.library/Kernel Libraries/Kernel Function Library/ComplexFunctions.kerml...\n",
      "Reading /home/sysml/conda/share/jupyter/kernels/sysml/sysml.library/Kernel Libraries/Kernel Function Library/RationalFunctions.kerml...\n",
      "Reading /home/sysml/conda/share/jupyter/kernels/sysml/sysml.library/Kernel Libraries/Kernel Function Library/StringFunctions.kerml...\n",
      "Reading /home/sysml/conda/share/jupyter/kernels/sysml/sysml.library/Kernel Libraries/Kernel Function Library/ScalarFunctions.kerml...\n",
      "Reading /home/sysml/conda/share/jupyter/kernels/sysml/sysml.library/Kernel Libraries/Kernel Function Library/CollectionFunctions.kerml...\n",
      "Reading /home/sysml/conda/share/jupyter/kernels/sysml/sysml.library/Kernel Libraries/Kernel Function Library/BooleanFunctions.kerml...\n",
      "Reading /home/sysml/conda/share/jupyter/kernels/sysml/sysml.library/Kernel Libraries/Kernel Function Library/OccurrenceFunctions.kerml...\n",
      "Reading /home/sysml/conda/share/jupyter/kernels/sysml/sysml.library/Kernel Libraries/Kernel Function Library/TrigFunctions.kerml...\n",
      "Reading /home/sysml/conda/share/jupyter/kernels/sysml/sysml.library/Kernel Libraries/Kernel Function Library/ControlFunctions.kerml...\n",
      "Reading /home/sysml/conda/share/jupyter/kernels/sysml/sysml.library/Systems Library/Connections.sysml...\n"
     ]
    },
    {
     "name": "stdout",
     "output_type": "stream",
     "text": [
      "Reading /home/sysml/conda/share/jupyter/kernels/sysml/sysml.library/Systems Library/States.sysml...\n",
      "Reading /home/sysml/conda/share/jupyter/kernels/sysml/sysml.library/Systems Library/Actions.sysml...\n",
      "Reading /home/sysml/conda/share/jupyter/kernels/sysml/sysml.library/Systems Library/Metadata.sysml...\n",
      "Reading /home/sysml/conda/share/jupyter/kernels/sysml/sysml.library/Systems Library/Requirements.sysml...\n",
      "Reading /home/sysml/conda/share/jupyter/kernels/sysml/sysml.library/Systems Library/AnalysisCases.sysml...\n",
      "Reading /home/sysml/conda/share/jupyter/kernels/sysml/sysml.library/Systems Library/Attributes.sysml...\n",
      "Reading /home/sysml/conda/share/jupyter/kernels/sysml/sysml.library/Systems Library/Cases.sysml...\n",
      "Reading /home/sysml/conda/share/jupyter/kernels/sysml/sysml.library/Systems Library/VerificationCases.sysml...\n",
      "Reading /home/sysml/conda/share/jupyter/kernels/sysml/sysml.library/Systems Library/Interfaces.sysml...\n",
      "Reading /home/sysml/conda/share/jupyter/kernels/sysml/sysml.library/Systems Library/Ports.sysml...\n",
      "Reading /home/sysml/conda/share/jupyter/kernels/sysml/sysml.library/Systems Library/Views.sysml...\n",
      "Reading /home/sysml/conda/share/jupyter/kernels/sysml/sysml.library/Systems Library/UseCases.sysml...\n",
      "Reading /home/sysml/conda/share/jupyter/kernels/sysml/sysml.library/Systems Library/Parts.sysml...\n",
      "Reading /home/sysml/conda/share/jupyter/kernels/sysml/sysml.library/Systems Library/SysML.sysml...\n",
      "Reading /home/sysml/conda/share/jupyter/kernels/sysml/sysml.library/Systems Library/Constraints.sysml...\n",
      "Reading /home/sysml/conda/share/jupyter/kernels/sysml/sysml.library/Systems Library/Items.sysml...\n",
      "Reading /home/sysml/conda/share/jupyter/kernels/sysml/sysml.library/Systems Library/Calculations.sysml...\n",
      "Reading /home/sysml/conda/share/jupyter/kernels/sysml/sysml.library/Systems Library/StandardViewDefinitions.sysml...\n"
     ]
    },
    {
     "name": "stdout",
     "output_type": "stream",
     "text": [
      "Reading /home/sysml/conda/share/jupyter/kernels/sysml/sysml.library/Systems Library/Allocations.sysml...\n",
      "Reading /home/sysml/conda/share/jupyter/kernels/sysml/sysml.library/Domain Libraries/Geometry/SpatialItems.sysml...\n",
      "Reading /home/sysml/conda/share/jupyter/kernels/sysml/sysml.library/Domain Libraries/Geometry/ShapeItems.sysml...\n",
      "Reading /home/sysml/conda/share/jupyter/kernels/sysml/sysml.library/Domain Libraries/Analysis/TradeStudies.sysml...\n",
      "Reading /home/sysml/conda/share/jupyter/kernels/sysml/sysml.library/Domain Libraries/Analysis/StateSpaceRepresentation.sysml...\n",
      "Reading /home/sysml/conda/share/jupyter/kernels/sysml/sysml.library/Domain Libraries/Analysis/SampledFunctions.sysml...\n",
      "Reading /home/sysml/conda/share/jupyter/kernels/sysml/sysml.library/Domain Libraries/Analysis/AnalysisTooling.sysml...\n",
      "Reading /home/sysml/conda/share/jupyter/kernels/sysml/sysml.library/Domain Libraries/Cause and Effect/CausationConnections.sysml...\n",
      "Reading /home/sysml/conda/share/jupyter/kernels/sysml/sysml.library/Domain Libraries/Cause and Effect/CauseAndEffect.sysml...\n",
      "Reading /home/sysml/conda/share/jupyter/kernels/sysml/sysml.library/Domain Libraries/Quantities and Units/TensorCalculations.sysml...\n",
      "Reading /home/sysml/conda/share/jupyter/kernels/sysml/sysml.library/Domain Libraries/Quantities and Units/ISQSpaceTime.sysml...\n",
      "Reading /home/sysml/conda/share/jupyter/kernels/sysml/sysml.library/Domain Libraries/Quantities and Units/ISQElectromagnetism.sysml...\n"
     ]
    },
    {
     "name": "stdout",
     "output_type": "stream",
     "text": [
      "Reading /home/sysml/conda/share/jupyter/kernels/sysml/sysml.library/Domain Libraries/Quantities and Units/USCustomaryUnits.sysml...\n",
      "Reading /home/sysml/conda/share/jupyter/kernels/sysml/sysml.library/Domain Libraries/Quantities and Units/Time.sysml...\n",
      "Reading /home/sysml/conda/share/jupyter/kernels/sysml/sysml.library/Domain Libraries/Quantities and Units/MeasurementReferences.sysml...\n",
      "Reading /home/sysml/conda/share/jupyter/kernels/sysml/sysml.library/Domain Libraries/Quantities and Units/ISQBase.sysml...\n",
      "Reading /home/sysml/conda/share/jupyter/kernels/sysml/sysml.library/Domain Libraries/Quantities and Units/ISQCondensedMatter.sysml...\n",
      "Reading /home/sysml/conda/share/jupyter/kernels/sysml/sysml.library/Domain Libraries/Quantities and Units/ISQMechanics.sysml...\n",
      "Reading /home/sysml/conda/share/jupyter/kernels/sysml/sysml.library/Domain Libraries/Quantities and Units/SI.sysml...\n",
      "Reading /home/sysml/conda/share/jupyter/kernels/sysml/sysml.library/Domain Libraries/Quantities and Units/ISQCharacteristicNumbers.sysml...\n",
      "Reading /home/sysml/conda/share/jupyter/kernels/sysml/sysml.library/Domain Libraries/Quantities and Units/QuantityCalculations.sysml...\n",
      "Reading /home/sysml/conda/share/jupyter/kernels/sysml/sysml.library/Domain Libraries/Quantities and Units/MeasurementRefCalculations.sysml...\n",
      "Reading /home/sysml/conda/share/jupyter/kernels/sysml/sysml.library/Domain Libraries/Quantities and Units/ISQAtomicNuclear.sysml...\n"
     ]
    },
    {
     "name": "stdout",
     "output_type": "stream",
     "text": [
      "Reading /home/sysml/conda/share/jupyter/kernels/sysml/sysml.library/Domain Libraries/Quantities and Units/ISQ.sysml...\n",
      "Reading /home/sysml/conda/share/jupyter/kernels/sysml/sysml.library/Domain Libraries/Quantities and Units/ISQAcoustics.sysml...\n",
      "Reading /home/sysml/conda/share/jupyter/kernels/sysml/sysml.library/Domain Libraries/Quantities and Units/ISQLight.sysml...\n",
      "Reading /home/sysml/conda/share/jupyter/kernels/sysml/sysml.library/Domain Libraries/Quantities and Units/ISQInformation.sysml...\n",
      "Reading /home/sysml/conda/share/jupyter/kernels/sysml/sysml.library/Domain Libraries/Quantities and Units/ISQThermodynamics.sysml...\n",
      "Reading /home/sysml/conda/share/jupyter/kernels/sysml/sysml.library/Domain Libraries/Quantities and Units/SIPrefixes.sysml...\n",
      "Reading /home/sysml/conda/share/jupyter/kernels/sysml/sysml.library/Domain Libraries/Quantities and Units/VectorCalculations.sysml...\n",
      "Reading /home/sysml/conda/share/jupyter/kernels/sysml/sysml.library/Domain Libraries/Quantities and Units/ISQChemistryMolecular.sysml...\n",
      "Reading /home/sysml/conda/share/jupyter/kernels/sysml/sysml.library/Domain Libraries/Quantities and Units/Quantities.sysml...\n",
      "Reading /home/sysml/conda/share/jupyter/kernels/sysml/sysml.library/Domain Libraries/Metadata/ImageMetadata.sysml...\n",
      "Reading /home/sysml/conda/share/jupyter/kernels/sysml/sysml.library/Domain Libraries/Metadata/ModelingMetadata.sysml...\n",
      "Reading /home/sysml/conda/share/jupyter/kernels/sysml/sysml.library/Domain Libraries/Metadata/ParametersOfInterestMetadata.sysml...\n",
      "Reading /home/sysml/conda/share/jupyter/kernels/sysml/sysml.library/Domain Libraries/Metadata/RiskMetadata.sysml...\n",
      "Reading /home/sysml/conda/share/jupyter/kernels/sysml/sysml.library/Domain Libraries/Requirement Derivation/RequirementDerivation.sysml...\n",
      "Reading /home/sysml/conda/share/jupyter/kernels/sysml/sysml.library/Domain Libraries/Requirement Derivation/DerivationConnections.sysml...\n"
     ]
    },
    {
     "name": "stderr",
     "output_type": "stream",
     "text": [
      "Dec 16, 2024 3:24:12 AM io.github.spencerpark.jupyter.channels.Loop start\n",
      "INFO: Loop starting...\n",
      "Dec 16, 2024 3:24:12 AM io.github.spencerpark.jupyter.channels.Loop start\n",
      "INFO: Loop started.\n",
      "Dec 16, 2024 3:24:12 AM io.github.spencerpark.jupyter.channels.Loop start\n",
      "INFO: Loop starting...\n",
      "Dec 16, 2024 3:24:12 AM io.github.spencerpark.jupyter.channels.Loop start\n",
      "INFO: Loop started.\n",
      "Dec 16, 2024 3:24:12 AM io.github.spencerpark.jupyter.channels.Loop start\n",
      "INFO: Loop starting...\n",
      "Dec 16, 2024 3:24:12 AM io.github.spencerpark.jupyter.channels.Loop start\n",
      "INFO: Loop started.\n"
     ]
    },
    {
     "name": "stderr",
     "output_type": "stream",
     "text": [
      "Dec 16, 2024 3:24:18 AM io.github.spencerpark.jupyter.channels.Loop shutdown\n",
      "INFO: Loop shutdown.\n",
      "Dec 16, 2024 3:24:18 AM io.github.spencerpark.jupyter.channels.Loop shutdown\n",
      "INFO: Loop shutdown.\n",
      "Dec 16, 2024 3:24:18 AM io.github.spencerpark.jupyter.channels.Loop shutdown\n",
      "INFO: Loop shutdown.\n",
      "Dec 16, 2024 3:24:18 AM io.github.spencerpark.jupyter.channels.Loop run\n",
      "INFO: Running loop shutdown callback.\n",
      "Dec 16, 2024 3:24:18 AM io.github.spencerpark.jupyter.channels.Loop run\n",
      "INFO: Loop stopped.\n",
      "Dec 16, 2024 3:24:18 AM io.github.spencerpark.jupyter.channels.Loop run\n",
      "INFO: Running loop shutdown callback.\n",
      "Dec 16, 2024 3:24:18 AM io.github.spencerpark.jupyter.channels.Loop run\n",
      "INFO: Loop stopped.\n"
     ]
    },
    {
     "name": "stderr",
     "output_type": "stream",
     "text": [
      "Dec 16, 2024 3:24:19 AM io.github.spencerpark.jupyter.channels.Loop run\n",
      "INFO: Running loop shutdown callback.\n",
      "Dec 16, 2024 3:24:19 AM io.github.spencerpark.jupyter.channels.Loop run\n",
      "INFO: Loop stopped.\n"
     ]
    },
    {
     "name": "stdout",
     "output_type": "stream",
     "text": [
      "Signing notebook: TestSuite/RequirementTest.ipynb\n",
      "Executing: TestSuite/StructuredControlTest.ipynb\n"
     ]
    },
    {
     "name": "stderr",
     "output_type": "stream",
     "text": [
      "/home/sysml/conda/lib/python3.12/site-packages/nbformat/__init__.py:96: MissingIDFieldWarning: Cell is missing an id field, this will become a hard error in future nbformat versions. You may want to use `normalize()` on your notebooks before validations (available since nbformat 5.1.4). Previous versions of nbformat are fixing this issue transparently, and will stop doing so in the future.\n",
      "  validate(nb)\n"
     ]
    },
    {
     "name": "stdout",
     "output_type": "stream",
     "text": [
      "Reading /home/sysml/conda/share/jupyter/kernels/sysml/sysml.library/Kernel Libraries/Kernel Semantic Library/Observation.kerml...\n"
     ]
    },
    {
     "name": "stderr",
     "output_type": "stream",
     "text": [
      "log4j:WARN No appenders could be found for logger (org.eclipse.xtext.parser.antlr.AbstractInternalAntlrParser).\n",
      "log4j:WARN Please initialize the log4j system properly.\n",
      "log4j:WARN See http://logging.apache.org/log4j/1.2/faq.html#noconfig for more info.\n"
     ]
    },
    {
     "name": "stdout",
     "output_type": "stream",
     "text": [
      "Reading /home/sysml/conda/share/jupyter/kernels/sysml/sysml.library/Kernel Libraries/Kernel Semantic Library/Transfers.kerml...\n",
      "Reading /home/sysml/conda/share/jupyter/kernels/sysml/sysml.library/Kernel Libraries/Kernel Semantic Library/Metaobjects.kerml...\n",
      "Reading /home/sysml/conda/share/jupyter/kernels/sysml/sysml.library/Kernel Libraries/Kernel Semantic Library/Triggers.kerml...\n",
      "Reading /home/sysml/conda/share/jupyter/kernels/sysml/sysml.library/Kernel Libraries/Kernel Semantic Library/Links.kerml...\n",
      "Reading /home/sysml/conda/share/jupyter/kernels/sysml/sysml.library/Kernel Libraries/Kernel Semantic Library/Base.kerml...\n",
      "Reading /home/sysml/conda/share/jupyter/kernels/sysml/sysml.library/Kernel Libraries/Kernel Semantic Library/Objects.kerml...\n",
      "Reading /home/sysml/conda/share/jupyter/kernels/sysml/sysml.library/Kernel Libraries/Kernel Semantic Library/Clocks.kerml...\n",
      "Reading /home/sysml/conda/share/jupyter/kernels/sysml/sysml.library/Kernel Libraries/Kernel Semantic Library/KerML.kerml...\n"
     ]
    },
    {
     "name": "stdout",
     "output_type": "stream",
     "text": [
      "Reading /home/sysml/conda/share/jupyter/kernels/sysml/sysml.library/Kernel Libraries/Kernel Semantic Library/FeatureReferencingPerformances.kerml...\n",
      "Reading /home/sysml/conda/share/jupyter/kernels/sysml/sysml.library/Kernel Libraries/Kernel Semantic Library/Performances.kerml...\n",
      "Reading /home/sysml/conda/share/jupyter/kernels/sysml/sysml.library/Kernel Libraries/Kernel Semantic Library/Occurrences.kerml...\n",
      "Reading /home/sysml/conda/share/jupyter/kernels/sysml/sysml.library/Kernel Libraries/Kernel Semantic Library/ControlPerformances.kerml...\n",
      "Reading /home/sysml/conda/share/jupyter/kernels/sysml/sysml.library/Kernel Libraries/Kernel Semantic Library/StatePerformances.kerml...\n",
      "Reading /home/sysml/conda/share/jupyter/kernels/sysml/sysml.library/Kernel Libraries/Kernel Semantic Library/TransitionPerformances.kerml...\n",
      "Reading /home/sysml/conda/share/jupyter/kernels/sysml/sysml.library/Kernel Libraries/Kernel Semantic Library/SpatialFrames.kerml...\n",
      "Reading /home/sysml/conda/share/jupyter/kernels/sysml/sysml.library/Kernel Libraries/Kernel Data Type Library/VectorValues.kerml...\n",
      "Reading /home/sysml/conda/share/jupyter/kernels/sysml/sysml.library/Kernel Libraries/Kernel Data Type Library/Collections.kerml...\n",
      "Reading /home/sysml/conda/share/jupyter/kernels/sysml/sysml.library/Kernel Libraries/Kernel Data Type Library/ScalarValues.kerml...\n",
      "Reading /home/sysml/conda/share/jupyter/kernels/sysml/sysml.library/Kernel Libraries/Kernel Function Library/NaturalFunctions.kerml...\n",
      "Reading /home/sysml/conda/share/jupyter/kernels/sysml/sysml.library/Kernel Libraries/Kernel Function Library/BaseFunctions.kerml...\n",
      "Reading /home/sysml/conda/share/jupyter/kernels/sysml/sysml.library/Kernel Libraries/Kernel Function Library/DataFunctions.kerml...\n",
      "Reading /home/sysml/conda/share/jupyter/kernels/sysml/sysml.library/Kernel Libraries/Kernel Function Library/IntegerFunctions.kerml...\n",
      "Reading /home/sysml/conda/share/jupyter/kernels/sysml/sysml.library/Kernel Libraries/Kernel Function Library/RealFunctions.kerml...\n",
      "Reading /home/sysml/conda/share/jupyter/kernels/sysml/sysml.library/Kernel Libraries/Kernel Function Library/NumericalFunctions.kerml...\n"
     ]
    },
    {
     "name": "stdout",
     "output_type": "stream",
     "text": [
      "Reading /home/sysml/conda/share/jupyter/kernels/sysml/sysml.library/Kernel Libraries/Kernel Function Library/VectorFunctions.kerml...\n",
      "Reading /home/sysml/conda/share/jupyter/kernels/sysml/sysml.library/Kernel Libraries/Kernel Function Library/SequenceFunctions.kerml...\n",
      "Reading /home/sysml/conda/share/jupyter/kernels/sysml/sysml.library/Kernel Libraries/Kernel Function Library/ComplexFunctions.kerml...\n",
      "Reading /home/sysml/conda/share/jupyter/kernels/sysml/sysml.library/Kernel Libraries/Kernel Function Library/RationalFunctions.kerml...\n",
      "Reading /home/sysml/conda/share/jupyter/kernels/sysml/sysml.library/Kernel Libraries/Kernel Function Library/StringFunctions.kerml...\n",
      "Reading /home/sysml/conda/share/jupyter/kernels/sysml/sysml.library/Kernel Libraries/Kernel Function Library/ScalarFunctions.kerml...\n",
      "Reading /home/sysml/conda/share/jupyter/kernels/sysml/sysml.library/Kernel Libraries/Kernel Function Library/CollectionFunctions.kerml...\n",
      "Reading /home/sysml/conda/share/jupyter/kernels/sysml/sysml.library/Kernel Libraries/Kernel Function Library/BooleanFunctions.kerml...\n",
      "Reading /home/sysml/conda/share/jupyter/kernels/sysml/sysml.library/Kernel Libraries/Kernel Function Library/OccurrenceFunctions.kerml...\n",
      "Reading /home/sysml/conda/share/jupyter/kernels/sysml/sysml.library/Kernel Libraries/Kernel Function Library/TrigFunctions.kerml...\n",
      "Reading /home/sysml/conda/share/jupyter/kernels/sysml/sysml.library/Kernel Libraries/Kernel Function Library/ControlFunctions.kerml...\n",
      "Reading /home/sysml/conda/share/jupyter/kernels/sysml/sysml.library/Systems Library/Connections.sysml...\n"
     ]
    },
    {
     "name": "stdout",
     "output_type": "stream",
     "text": [
      "Reading /home/sysml/conda/share/jupyter/kernels/sysml/sysml.library/Systems Library/States.sysml...\n",
      "Reading /home/sysml/conda/share/jupyter/kernels/sysml/sysml.library/Systems Library/Actions.sysml...\n",
      "Reading /home/sysml/conda/share/jupyter/kernels/sysml/sysml.library/Systems Library/Metadata.sysml...\n",
      "Reading /home/sysml/conda/share/jupyter/kernels/sysml/sysml.library/Systems Library/Requirements.sysml...\n",
      "Reading /home/sysml/conda/share/jupyter/kernels/sysml/sysml.library/Systems Library/AnalysisCases.sysml...\n",
      "Reading /home/sysml/conda/share/jupyter/kernels/sysml/sysml.library/Systems Library/Attributes.sysml...\n",
      "Reading /home/sysml/conda/share/jupyter/kernels/sysml/sysml.library/Systems Library/Cases.sysml...\n",
      "Reading /home/sysml/conda/share/jupyter/kernels/sysml/sysml.library/Systems Library/VerificationCases.sysml...\n",
      "Reading /home/sysml/conda/share/jupyter/kernels/sysml/sysml.library/Systems Library/Interfaces.sysml...\n",
      "Reading /home/sysml/conda/share/jupyter/kernels/sysml/sysml.library/Systems Library/Ports.sysml...\n",
      "Reading /home/sysml/conda/share/jupyter/kernels/sysml/sysml.library/Systems Library/Views.sysml...\n",
      "Reading /home/sysml/conda/share/jupyter/kernels/sysml/sysml.library/Systems Library/UseCases.sysml...\n",
      "Reading /home/sysml/conda/share/jupyter/kernels/sysml/sysml.library/Systems Library/Parts.sysml...\n",
      "Reading /home/sysml/conda/share/jupyter/kernels/sysml/sysml.library/Systems Library/SysML.sysml...\n",
      "Reading /home/sysml/conda/share/jupyter/kernels/sysml/sysml.library/Systems Library/Constraints.sysml...\n",
      "Reading /home/sysml/conda/share/jupyter/kernels/sysml/sysml.library/Systems Library/Items.sysml...\n",
      "Reading /home/sysml/conda/share/jupyter/kernels/sysml/sysml.library/Systems Library/Calculations.sysml...\n",
      "Reading /home/sysml/conda/share/jupyter/kernels/sysml/sysml.library/Systems Library/StandardViewDefinitions.sysml...\n",
      "Reading /home/sysml/conda/share/jupyter/kernels/sysml/sysml.library/Systems Library/Allocations.sysml...\n"
     ]
    },
    {
     "name": "stdout",
     "output_type": "stream",
     "text": [
      "Reading /home/sysml/conda/share/jupyter/kernels/sysml/sysml.library/Domain Libraries/Geometry/SpatialItems.sysml...\n",
      "Reading /home/sysml/conda/share/jupyter/kernels/sysml/sysml.library/Domain Libraries/Geometry/ShapeItems.sysml...\n",
      "Reading /home/sysml/conda/share/jupyter/kernels/sysml/sysml.library/Domain Libraries/Analysis/TradeStudies.sysml...\n",
      "Reading /home/sysml/conda/share/jupyter/kernels/sysml/sysml.library/Domain Libraries/Analysis/StateSpaceRepresentation.sysml...\n",
      "Reading /home/sysml/conda/share/jupyter/kernels/sysml/sysml.library/Domain Libraries/Analysis/SampledFunctions.sysml...\n",
      "Reading /home/sysml/conda/share/jupyter/kernels/sysml/sysml.library/Domain Libraries/Analysis/AnalysisTooling.sysml...\n",
      "Reading /home/sysml/conda/share/jupyter/kernels/sysml/sysml.library/Domain Libraries/Cause and Effect/CausationConnections.sysml...\n",
      "Reading /home/sysml/conda/share/jupyter/kernels/sysml/sysml.library/Domain Libraries/Cause and Effect/CauseAndEffect.sysml...\n",
      "Reading /home/sysml/conda/share/jupyter/kernels/sysml/sysml.library/Domain Libraries/Quantities and Units/TensorCalculations.sysml...\n",
      "Reading /home/sysml/conda/share/jupyter/kernels/sysml/sysml.library/Domain Libraries/Quantities and Units/ISQSpaceTime.sysml...\n",
      "Reading /home/sysml/conda/share/jupyter/kernels/sysml/sysml.library/Domain Libraries/Quantities and Units/ISQElectromagnetism.sysml...\n"
     ]
    },
    {
     "name": "stdout",
     "output_type": "stream",
     "text": [
      "Reading /home/sysml/conda/share/jupyter/kernels/sysml/sysml.library/Domain Libraries/Quantities and Units/USCustomaryUnits.sysml...\n",
      "Reading /home/sysml/conda/share/jupyter/kernels/sysml/sysml.library/Domain Libraries/Quantities and Units/Time.sysml...\n",
      "Reading /home/sysml/conda/share/jupyter/kernels/sysml/sysml.library/Domain Libraries/Quantities and Units/MeasurementReferences.sysml...\n",
      "Reading /home/sysml/conda/share/jupyter/kernels/sysml/sysml.library/Domain Libraries/Quantities and Units/ISQBase.sysml...\n",
      "Reading /home/sysml/conda/share/jupyter/kernels/sysml/sysml.library/Domain Libraries/Quantities and Units/ISQCondensedMatter.sysml...\n",
      "Reading /home/sysml/conda/share/jupyter/kernels/sysml/sysml.library/Domain Libraries/Quantities and Units/ISQMechanics.sysml...\n",
      "Reading /home/sysml/conda/share/jupyter/kernels/sysml/sysml.library/Domain Libraries/Quantities and Units/SI.sysml...\n",
      "Reading /home/sysml/conda/share/jupyter/kernels/sysml/sysml.library/Domain Libraries/Quantities and Units/ISQCharacteristicNumbers.sysml...\n",
      "Reading /home/sysml/conda/share/jupyter/kernels/sysml/sysml.library/Domain Libraries/Quantities and Units/QuantityCalculations.sysml...\n",
      "Reading /home/sysml/conda/share/jupyter/kernels/sysml/sysml.library/Domain Libraries/Quantities and Units/MeasurementRefCalculations.sysml...\n",
      "Reading /home/sysml/conda/share/jupyter/kernels/sysml/sysml.library/Domain Libraries/Quantities and Units/ISQAtomicNuclear.sysml...\n"
     ]
    },
    {
     "name": "stdout",
     "output_type": "stream",
     "text": [
      "Reading /home/sysml/conda/share/jupyter/kernels/sysml/sysml.library/Domain Libraries/Quantities and Units/ISQ.sysml...\n",
      "Reading /home/sysml/conda/share/jupyter/kernels/sysml/sysml.library/Domain Libraries/Quantities and Units/ISQAcoustics.sysml...\n",
      "Reading /home/sysml/conda/share/jupyter/kernels/sysml/sysml.library/Domain Libraries/Quantities and Units/ISQLight.sysml...\n",
      "Reading /home/sysml/conda/share/jupyter/kernels/sysml/sysml.library/Domain Libraries/Quantities and Units/ISQInformation.sysml...\n",
      "Reading /home/sysml/conda/share/jupyter/kernels/sysml/sysml.library/Domain Libraries/Quantities and Units/ISQThermodynamics.sysml...\n",
      "Reading /home/sysml/conda/share/jupyter/kernels/sysml/sysml.library/Domain Libraries/Quantities and Units/SIPrefixes.sysml...\n",
      "Reading /home/sysml/conda/share/jupyter/kernels/sysml/sysml.library/Domain Libraries/Quantities and Units/VectorCalculations.sysml...\n",
      "Reading /home/sysml/conda/share/jupyter/kernels/sysml/sysml.library/Domain Libraries/Quantities and Units/ISQChemistryMolecular.sysml...\n",
      "Reading /home/sysml/conda/share/jupyter/kernels/sysml/sysml.library/Domain Libraries/Quantities and Units/Quantities.sysml...\n",
      "Reading /home/sysml/conda/share/jupyter/kernels/sysml/sysml.library/Domain Libraries/Metadata/ImageMetadata.sysml...\n",
      "Reading /home/sysml/conda/share/jupyter/kernels/sysml/sysml.library/Domain Libraries/Metadata/ModelingMetadata.sysml...\n",
      "Reading /home/sysml/conda/share/jupyter/kernels/sysml/sysml.library/Domain Libraries/Metadata/ParametersOfInterestMetadata.sysml...\n",
      "Reading /home/sysml/conda/share/jupyter/kernels/sysml/sysml.library/Domain Libraries/Metadata/RiskMetadata.sysml...\n",
      "Reading /home/sysml/conda/share/jupyter/kernels/sysml/sysml.library/Domain Libraries/Requirement Derivation/RequirementDerivation.sysml...\n",
      "Reading /home/sysml/conda/share/jupyter/kernels/sysml/sysml.library/Domain Libraries/Requirement Derivation/DerivationConnections.sysml...\n"
     ]
    },
    {
     "name": "stderr",
     "output_type": "stream",
     "text": [
      "Dec 16, 2024 3:24:23 AM io.github.spencerpark.jupyter.channels.Loop start\n",
      "INFO: Loop starting...\n",
      "Dec 16, 2024 3:24:23 AM io.github.spencerpark.jupyter.channels.Loop start\n",
      "INFO: Loop started.\n",
      "Dec 16, 2024 3:24:23 AM io.github.spencerpark.jupyter.channels.Loop start\n",
      "INFO: Loop starting...\n",
      "Dec 16, 2024 3:24:23 AM io.github.spencerpark.jupyter.channels.Loop start\n",
      "INFO: Loop started.\n",
      "Dec 16, 2024 3:24:23 AM io.github.spencerpark.jupyter.channels.Loop start\n",
      "INFO: Loop starting...\n",
      "Dec 16, 2024 3:24:23 AM io.github.spencerpark.jupyter.channels.Loop start\n",
      "INFO: Loop started.\n"
     ]
    },
    {
     "name": "stderr",
     "output_type": "stream",
     "text": [
      "Dec 16, 2024 3:24:30 AM io.github.spencerpark.jupyter.channels.Loop shutdown\n",
      "INFO: Loop shutdown.\n",
      "Dec 16, 2024 3:24:30 AM io.github.spencerpark.jupyter.channels.Loop shutdown\n",
      "INFO: Loop shutdown.\n",
      "Dec 16, 2024 3:24:30 AM io.github.spencerpark.jupyter.channels.Loop shutdown\n",
      "INFO: Loop shutdown.\n",
      "Dec 16, 2024 3:24:30 AM io.github.spencerpark.jupyter.channels.Loop run\n",
      "INFO: Running loop shutdown callback.\n",
      "Dec 16, 2024 3:24:30 AM io.github.spencerpark.jupyter.channels.Loop run\n",
      "INFO: Loop stopped.\n",
      "Dec 16, 2024 3:24:30 AM io.github.spencerpark.jupyter.channels.Loop run\n",
      "INFO: Running loop shutdown callback.\n",
      "Dec 16, 2024 3:24:30 AM io.github.spencerpark.jupyter.channels.Loop run\n",
      "INFO: Loop stopped.\n"
     ]
    },
    {
     "name": "stderr",
     "output_type": "stream",
     "text": [
      "Dec 16, 2024 3:24:30 AM io.github.spencerpark.jupyter.channels.Loop run\n",
      "INFO: Running loop shutdown callback.\n",
      "Dec 16, 2024 3:24:30 AM io.github.spencerpark.jupyter.channels.Loop run\n",
      "INFO: Loop stopped.\n"
     ]
    },
    {
     "name": "stdout",
     "output_type": "stream",
     "text": [
      "Signing notebook: TestSuite/StructuredControlTest.ipynb\n",
      "Executing: TestSuite/PrivateImportTest.ipynb\n"
     ]
    },
    {
     "name": "stderr",
     "output_type": "stream",
     "text": [
      "/home/sysml/conda/lib/python3.12/site-packages/nbformat/__init__.py:96: MissingIDFieldWarning: Cell is missing an id field, this will become a hard error in future nbformat versions. You may want to use `normalize()` on your notebooks before validations (available since nbformat 5.1.4). Previous versions of nbformat are fixing this issue transparently, and will stop doing so in the future.\n",
      "  validate(nb)\n"
     ]
    },
    {
     "name": "stdout",
     "output_type": "stream",
     "text": [
      "Reading /home/sysml/conda/share/jupyter/kernels/sysml/sysml.library/Kernel Libraries/Kernel Semantic Library/Observation.kerml...\n"
     ]
    },
    {
     "name": "stderr",
     "output_type": "stream",
     "text": [
      "log4j:WARN No appenders could be found for logger (org.eclipse.xtext.parser.antlr.AbstractInternalAntlrParser).\n",
      "log4j:WARN Please initialize the log4j system properly.\n",
      "log4j:WARN See http://logging.apache.org/log4j/1.2/faq.html#noconfig for more info.\n"
     ]
    },
    {
     "name": "stdout",
     "output_type": "stream",
     "text": [
      "Reading /home/sysml/conda/share/jupyter/kernels/sysml/sysml.library/Kernel Libraries/Kernel Semantic Library/Transfers.kerml...\n",
      "Reading /home/sysml/conda/share/jupyter/kernels/sysml/sysml.library/Kernel Libraries/Kernel Semantic Library/Metaobjects.kerml...\n",
      "Reading /home/sysml/conda/share/jupyter/kernels/sysml/sysml.library/Kernel Libraries/Kernel Semantic Library/Triggers.kerml...\n",
      "Reading /home/sysml/conda/share/jupyter/kernels/sysml/sysml.library/Kernel Libraries/Kernel Semantic Library/Links.kerml...\n",
      "Reading /home/sysml/conda/share/jupyter/kernels/sysml/sysml.library/Kernel Libraries/Kernel Semantic Library/Base.kerml...\n",
      "Reading /home/sysml/conda/share/jupyter/kernels/sysml/sysml.library/Kernel Libraries/Kernel Semantic Library/Objects.kerml...\n",
      "Reading /home/sysml/conda/share/jupyter/kernels/sysml/sysml.library/Kernel Libraries/Kernel Semantic Library/Clocks.kerml...\n",
      "Reading /home/sysml/conda/share/jupyter/kernels/sysml/sysml.library/Kernel Libraries/Kernel Semantic Library/KerML.kerml...\n"
     ]
    },
    {
     "name": "stdout",
     "output_type": "stream",
     "text": [
      "Reading /home/sysml/conda/share/jupyter/kernels/sysml/sysml.library/Kernel Libraries/Kernel Semantic Library/FeatureReferencingPerformances.kerml...\n",
      "Reading /home/sysml/conda/share/jupyter/kernels/sysml/sysml.library/Kernel Libraries/Kernel Semantic Library/Performances.kerml...\n",
      "Reading /home/sysml/conda/share/jupyter/kernels/sysml/sysml.library/Kernel Libraries/Kernel Semantic Library/Occurrences.kerml...\n",
      "Reading /home/sysml/conda/share/jupyter/kernels/sysml/sysml.library/Kernel Libraries/Kernel Semantic Library/ControlPerformances.kerml...\n",
      "Reading /home/sysml/conda/share/jupyter/kernels/sysml/sysml.library/Kernel Libraries/Kernel Semantic Library/StatePerformances.kerml...\n",
      "Reading /home/sysml/conda/share/jupyter/kernels/sysml/sysml.library/Kernel Libraries/Kernel Semantic Library/TransitionPerformances.kerml...\n",
      "Reading /home/sysml/conda/share/jupyter/kernels/sysml/sysml.library/Kernel Libraries/Kernel Semantic Library/SpatialFrames.kerml...\n",
      "Reading /home/sysml/conda/share/jupyter/kernels/sysml/sysml.library/Kernel Libraries/Kernel Data Type Library/VectorValues.kerml...\n",
      "Reading /home/sysml/conda/share/jupyter/kernels/sysml/sysml.library/Kernel Libraries/Kernel Data Type Library/Collections.kerml...\n",
      "Reading /home/sysml/conda/share/jupyter/kernels/sysml/sysml.library/Kernel Libraries/Kernel Data Type Library/ScalarValues.kerml...\n",
      "Reading /home/sysml/conda/share/jupyter/kernels/sysml/sysml.library/Kernel Libraries/Kernel Function Library/NaturalFunctions.kerml...\n",
      "Reading /home/sysml/conda/share/jupyter/kernels/sysml/sysml.library/Kernel Libraries/Kernel Function Library/BaseFunctions.kerml...\n",
      "Reading /home/sysml/conda/share/jupyter/kernels/sysml/sysml.library/Kernel Libraries/Kernel Function Library/DataFunctions.kerml...\n",
      "Reading /home/sysml/conda/share/jupyter/kernels/sysml/sysml.library/Kernel Libraries/Kernel Function Library/IntegerFunctions.kerml...\n",
      "Reading /home/sysml/conda/share/jupyter/kernels/sysml/sysml.library/Kernel Libraries/Kernel Function Library/RealFunctions.kerml...\n"
     ]
    },
    {
     "name": "stdout",
     "output_type": "stream",
     "text": [
      "Reading /home/sysml/conda/share/jupyter/kernels/sysml/sysml.library/Kernel Libraries/Kernel Function Library/NumericalFunctions.kerml...\n",
      "Reading /home/sysml/conda/share/jupyter/kernels/sysml/sysml.library/Kernel Libraries/Kernel Function Library/VectorFunctions.kerml...\n",
      "Reading /home/sysml/conda/share/jupyter/kernels/sysml/sysml.library/Kernel Libraries/Kernel Function Library/SequenceFunctions.kerml...\n",
      "Reading /home/sysml/conda/share/jupyter/kernels/sysml/sysml.library/Kernel Libraries/Kernel Function Library/ComplexFunctions.kerml...\n",
      "Reading /home/sysml/conda/share/jupyter/kernels/sysml/sysml.library/Kernel Libraries/Kernel Function Library/RationalFunctions.kerml...\n",
      "Reading /home/sysml/conda/share/jupyter/kernels/sysml/sysml.library/Kernel Libraries/Kernel Function Library/StringFunctions.kerml...\n",
      "Reading /home/sysml/conda/share/jupyter/kernels/sysml/sysml.library/Kernel Libraries/Kernel Function Library/ScalarFunctions.kerml...\n",
      "Reading /home/sysml/conda/share/jupyter/kernels/sysml/sysml.library/Kernel Libraries/Kernel Function Library/CollectionFunctions.kerml...\n",
      "Reading /home/sysml/conda/share/jupyter/kernels/sysml/sysml.library/Kernel Libraries/Kernel Function Library/BooleanFunctions.kerml...\n",
      "Reading /home/sysml/conda/share/jupyter/kernels/sysml/sysml.library/Kernel Libraries/Kernel Function Library/OccurrenceFunctions.kerml...\n",
      "Reading /home/sysml/conda/share/jupyter/kernels/sysml/sysml.library/Kernel Libraries/Kernel Function Library/TrigFunctions.kerml...\n",
      "Reading /home/sysml/conda/share/jupyter/kernels/sysml/sysml.library/Kernel Libraries/Kernel Function Library/ControlFunctions.kerml...\n",
      "Reading /home/sysml/conda/share/jupyter/kernels/sysml/sysml.library/Systems Library/Connections.sysml...\n"
     ]
    },
    {
     "name": "stdout",
     "output_type": "stream",
     "text": [
      "Reading /home/sysml/conda/share/jupyter/kernels/sysml/sysml.library/Systems Library/States.sysml...\n",
      "Reading /home/sysml/conda/share/jupyter/kernels/sysml/sysml.library/Systems Library/Actions.sysml...\n",
      "Reading /home/sysml/conda/share/jupyter/kernels/sysml/sysml.library/Systems Library/Metadata.sysml...\n",
      "Reading /home/sysml/conda/share/jupyter/kernels/sysml/sysml.library/Systems Library/Requirements.sysml...\n",
      "Reading /home/sysml/conda/share/jupyter/kernels/sysml/sysml.library/Systems Library/AnalysisCases.sysml...\n",
      "Reading /home/sysml/conda/share/jupyter/kernels/sysml/sysml.library/Systems Library/Attributes.sysml...\n",
      "Reading /home/sysml/conda/share/jupyter/kernels/sysml/sysml.library/Systems Library/Cases.sysml...\n",
      "Reading /home/sysml/conda/share/jupyter/kernels/sysml/sysml.library/Systems Library/VerificationCases.sysml...\n",
      "Reading /home/sysml/conda/share/jupyter/kernels/sysml/sysml.library/Systems Library/Interfaces.sysml...\n",
      "Reading /home/sysml/conda/share/jupyter/kernels/sysml/sysml.library/Systems Library/Ports.sysml...\n",
      "Reading /home/sysml/conda/share/jupyter/kernels/sysml/sysml.library/Systems Library/Views.sysml...\n",
      "Reading /home/sysml/conda/share/jupyter/kernels/sysml/sysml.library/Systems Library/UseCases.sysml...\n",
      "Reading /home/sysml/conda/share/jupyter/kernels/sysml/sysml.library/Systems Library/Parts.sysml...\n",
      "Reading /home/sysml/conda/share/jupyter/kernels/sysml/sysml.library/Systems Library/SysML.sysml...\n",
      "Reading /home/sysml/conda/share/jupyter/kernels/sysml/sysml.library/Systems Library/Constraints.sysml...\n",
      "Reading /home/sysml/conda/share/jupyter/kernels/sysml/sysml.library/Systems Library/Items.sysml...\n",
      "Reading /home/sysml/conda/share/jupyter/kernels/sysml/sysml.library/Systems Library/Calculations.sysml...\n",
      "Reading /home/sysml/conda/share/jupyter/kernels/sysml/sysml.library/Systems Library/StandardViewDefinitions.sysml...\n",
      "Reading /home/sysml/conda/share/jupyter/kernels/sysml/sysml.library/Systems Library/Allocations.sysml...\n"
     ]
    },
    {
     "name": "stdout",
     "output_type": "stream",
     "text": [
      "Reading /home/sysml/conda/share/jupyter/kernels/sysml/sysml.library/Domain Libraries/Geometry/SpatialItems.sysml...\n",
      "Reading /home/sysml/conda/share/jupyter/kernels/sysml/sysml.library/Domain Libraries/Geometry/ShapeItems.sysml...\n",
      "Reading /home/sysml/conda/share/jupyter/kernels/sysml/sysml.library/Domain Libraries/Analysis/TradeStudies.sysml...\n",
      "Reading /home/sysml/conda/share/jupyter/kernels/sysml/sysml.library/Domain Libraries/Analysis/StateSpaceRepresentation.sysml...\n",
      "Reading /home/sysml/conda/share/jupyter/kernels/sysml/sysml.library/Domain Libraries/Analysis/SampledFunctions.sysml...\n",
      "Reading /home/sysml/conda/share/jupyter/kernels/sysml/sysml.library/Domain Libraries/Analysis/AnalysisTooling.sysml...\n",
      "Reading /home/sysml/conda/share/jupyter/kernels/sysml/sysml.library/Domain Libraries/Cause and Effect/CausationConnections.sysml...\n",
      "Reading /home/sysml/conda/share/jupyter/kernels/sysml/sysml.library/Domain Libraries/Cause and Effect/CauseAndEffect.sysml...\n",
      "Reading /home/sysml/conda/share/jupyter/kernels/sysml/sysml.library/Domain Libraries/Quantities and Units/TensorCalculations.sysml...\n",
      "Reading /home/sysml/conda/share/jupyter/kernels/sysml/sysml.library/Domain Libraries/Quantities and Units/ISQSpaceTime.sysml...\n",
      "Reading /home/sysml/conda/share/jupyter/kernels/sysml/sysml.library/Domain Libraries/Quantities and Units/ISQElectromagnetism.sysml...\n"
     ]
    },
    {
     "name": "stdout",
     "output_type": "stream",
     "text": [
      "Reading /home/sysml/conda/share/jupyter/kernels/sysml/sysml.library/Domain Libraries/Quantities and Units/USCustomaryUnits.sysml...\n",
      "Reading /home/sysml/conda/share/jupyter/kernels/sysml/sysml.library/Domain Libraries/Quantities and Units/Time.sysml...\n",
      "Reading /home/sysml/conda/share/jupyter/kernels/sysml/sysml.library/Domain Libraries/Quantities and Units/MeasurementReferences.sysml...\n",
      "Reading /home/sysml/conda/share/jupyter/kernels/sysml/sysml.library/Domain Libraries/Quantities and Units/ISQBase.sysml...\n",
      "Reading /home/sysml/conda/share/jupyter/kernels/sysml/sysml.library/Domain Libraries/Quantities and Units/ISQCondensedMatter.sysml...\n",
      "Reading /home/sysml/conda/share/jupyter/kernels/sysml/sysml.library/Domain Libraries/Quantities and Units/ISQMechanics.sysml...\n",
      "Reading /home/sysml/conda/share/jupyter/kernels/sysml/sysml.library/Domain Libraries/Quantities and Units/SI.sysml...\n",
      "Reading /home/sysml/conda/share/jupyter/kernels/sysml/sysml.library/Domain Libraries/Quantities and Units/ISQCharacteristicNumbers.sysml...\n",
      "Reading /home/sysml/conda/share/jupyter/kernels/sysml/sysml.library/Domain Libraries/Quantities and Units/QuantityCalculations.sysml...\n",
      "Reading /home/sysml/conda/share/jupyter/kernels/sysml/sysml.library/Domain Libraries/Quantities and Units/MeasurementRefCalculations.sysml...\n",
      "Reading /home/sysml/conda/share/jupyter/kernels/sysml/sysml.library/Domain Libraries/Quantities and Units/ISQAtomicNuclear.sysml...\n"
     ]
    },
    {
     "name": "stdout",
     "output_type": "stream",
     "text": [
      "Reading /home/sysml/conda/share/jupyter/kernels/sysml/sysml.library/Domain Libraries/Quantities and Units/ISQ.sysml...\n",
      "Reading /home/sysml/conda/share/jupyter/kernels/sysml/sysml.library/Domain Libraries/Quantities and Units/ISQAcoustics.sysml...\n",
      "Reading /home/sysml/conda/share/jupyter/kernels/sysml/sysml.library/Domain Libraries/Quantities and Units/ISQLight.sysml...\n",
      "Reading /home/sysml/conda/share/jupyter/kernels/sysml/sysml.library/Domain Libraries/Quantities and Units/ISQInformation.sysml...\n",
      "Reading /home/sysml/conda/share/jupyter/kernels/sysml/sysml.library/Domain Libraries/Quantities and Units/ISQThermodynamics.sysml...\n",
      "Reading /home/sysml/conda/share/jupyter/kernels/sysml/sysml.library/Domain Libraries/Quantities and Units/SIPrefixes.sysml...\n",
      "Reading /home/sysml/conda/share/jupyter/kernels/sysml/sysml.library/Domain Libraries/Quantities and Units/VectorCalculations.sysml...\n",
      "Reading /home/sysml/conda/share/jupyter/kernels/sysml/sysml.library/Domain Libraries/Quantities and Units/ISQChemistryMolecular.sysml...\n",
      "Reading /home/sysml/conda/share/jupyter/kernels/sysml/sysml.library/Domain Libraries/Quantities and Units/Quantities.sysml...\n",
      "Reading /home/sysml/conda/share/jupyter/kernels/sysml/sysml.library/Domain Libraries/Metadata/ImageMetadata.sysml...\n",
      "Reading /home/sysml/conda/share/jupyter/kernels/sysml/sysml.library/Domain Libraries/Metadata/ModelingMetadata.sysml...\n",
      "Reading /home/sysml/conda/share/jupyter/kernels/sysml/sysml.library/Domain Libraries/Metadata/ParametersOfInterestMetadata.sysml...\n",
      "Reading /home/sysml/conda/share/jupyter/kernels/sysml/sysml.library/Domain Libraries/Metadata/RiskMetadata.sysml...\n",
      "Reading /home/sysml/conda/share/jupyter/kernels/sysml/sysml.library/Domain Libraries/Requirement Derivation/RequirementDerivation.sysml...\n",
      "Reading /home/sysml/conda/share/jupyter/kernels/sysml/sysml.library/Domain Libraries/Requirement Derivation/DerivationConnections.sysml...\n"
     ]
    },
    {
     "name": "stderr",
     "output_type": "stream",
     "text": [
      "Dec 16, 2024 3:24:34 AM io.github.spencerpark.jupyter.channels.Loop start\n",
      "INFO: Loop starting...\n",
      "Dec 16, 2024 3:24:34 AM io.github.spencerpark.jupyter.channels.Loop start\n",
      "INFO: Loop started.\n",
      "Dec 16, 2024 3:24:34 AM io.github.spencerpark.jupyter.channels.Loop start\n",
      "INFO: Loop starting...\n",
      "Dec 16, 2024 3:24:34 AM io.github.spencerpark.jupyter.channels.Loop start\n",
      "INFO: Loop started.\n",
      "Dec 16, 2024 3:24:34 AM io.github.spencerpark.jupyter.channels.Loop start\n",
      "INFO: Loop starting...\n",
      "Dec 16, 2024 3:24:34 AM io.github.spencerpark.jupyter.channels.Loop start\n",
      "INFO: Loop started.\n"
     ]
    },
    {
     "name": "stderr",
     "output_type": "stream",
     "text": [
      "Dec 16, 2024 3:24:39 AM io.github.spencerpark.jupyter.channels.Loop shutdown\n",
      "INFO: Loop shutdown.\n",
      "Dec 16, 2024 3:24:39 AM io.github.spencerpark.jupyter.channels.Loop shutdown\n",
      "INFO: Loop shutdown.\n",
      "Dec 16, 2024 3:24:39 AM io.github.spencerpark.jupyter.channels.Loop shutdown\n",
      "INFO: Loop shutdown.\n",
      "Dec 16, 2024 3:24:39 AM io.github.spencerpark.jupyter.channels.Loop run\n",
      "INFO: Running loop shutdown callback.\n",
      "Dec 16, 2024 3:24:39 AM io.github.spencerpark.jupyter.channels.Loop run\n",
      "INFO: Loop stopped.\n",
      "Dec 16, 2024 3:24:39 AM io.github.spencerpark.jupyter.channels.Loop run\n",
      "INFO: Running loop shutdown callback.\n",
      "Dec 16, 2024 3:24:39 AM io.github.spencerpark.jupyter.channels.Loop run\n",
      "INFO: Loop stopped.\n",
      "Dec 16, 2024 3:24:40 AM io.github.spencerpark.jupyter.channels.Loop run\n",
      "INFO: Running loop shutdown callback.\n",
      "Dec 16, 2024 3:24:40 AM io.github.spencerpark.jupyter.channels.Loop run\n",
      "INFO: Loop stopped.\n"
     ]
    },
    {
     "name": "stdout",
     "output_type": "stream",
     "text": [
      "Signing notebook: TestSuite/PrivateImportTest.ipynb\n",
      "Executing: TestSuite/ConstraintTest.ipynb\n"
     ]
    },
    {
     "name": "stderr",
     "output_type": "stream",
     "text": [
      "/home/sysml/conda/lib/python3.12/site-packages/nbformat/__init__.py:96: MissingIDFieldWarning: Cell is missing an id field, this will become a hard error in future nbformat versions. You may want to use `normalize()` on your notebooks before validations (available since nbformat 5.1.4). Previous versions of nbformat are fixing this issue transparently, and will stop doing so in the future.\n",
      "  validate(nb)\n"
     ]
    },
    {
     "name": "stdout",
     "output_type": "stream",
     "text": [
      "Reading /home/sysml/conda/share/jupyter/kernels/sysml/sysml.library/Kernel Libraries/Kernel Semantic Library/Observation.kerml...\n"
     ]
    },
    {
     "name": "stderr",
     "output_type": "stream",
     "text": [
      "log4j:WARN No appenders could be found for logger (org.eclipse.xtext.parser.antlr.AbstractInternalAntlrParser).\n",
      "log4j:WARN Please initialize the log4j system properly.\n",
      "log4j:WARN See http://logging.apache.org/log4j/1.2/faq.html#noconfig for more info.\n"
     ]
    },
    {
     "name": "stdout",
     "output_type": "stream",
     "text": [
      "Reading /home/sysml/conda/share/jupyter/kernels/sysml/sysml.library/Kernel Libraries/Kernel Semantic Library/Transfers.kerml...\n",
      "Reading /home/sysml/conda/share/jupyter/kernels/sysml/sysml.library/Kernel Libraries/Kernel Semantic Library/Metaobjects.kerml...\n",
      "Reading /home/sysml/conda/share/jupyter/kernels/sysml/sysml.library/Kernel Libraries/Kernel Semantic Library/Triggers.kerml...\n",
      "Reading /home/sysml/conda/share/jupyter/kernels/sysml/sysml.library/Kernel Libraries/Kernel Semantic Library/Links.kerml...\n",
      "Reading /home/sysml/conda/share/jupyter/kernels/sysml/sysml.library/Kernel Libraries/Kernel Semantic Library/Base.kerml...\n",
      "Reading /home/sysml/conda/share/jupyter/kernels/sysml/sysml.library/Kernel Libraries/Kernel Semantic Library/Objects.kerml...\n",
      "Reading /home/sysml/conda/share/jupyter/kernels/sysml/sysml.library/Kernel Libraries/Kernel Semantic Library/Clocks.kerml...\n",
      "Reading /home/sysml/conda/share/jupyter/kernels/sysml/sysml.library/Kernel Libraries/Kernel Semantic Library/KerML.kerml...\n"
     ]
    },
    {
     "name": "stdout",
     "output_type": "stream",
     "text": [
      "Reading /home/sysml/conda/share/jupyter/kernels/sysml/sysml.library/Kernel Libraries/Kernel Semantic Library/FeatureReferencingPerformances.kerml...\n",
      "Reading /home/sysml/conda/share/jupyter/kernels/sysml/sysml.library/Kernel Libraries/Kernel Semantic Library/Performances.kerml...\n",
      "Reading /home/sysml/conda/share/jupyter/kernels/sysml/sysml.library/Kernel Libraries/Kernel Semantic Library/Occurrences.kerml...\n",
      "Reading /home/sysml/conda/share/jupyter/kernels/sysml/sysml.library/Kernel Libraries/Kernel Semantic Library/ControlPerformances.kerml...\n",
      "Reading /home/sysml/conda/share/jupyter/kernels/sysml/sysml.library/Kernel Libraries/Kernel Semantic Library/StatePerformances.kerml...\n",
      "Reading /home/sysml/conda/share/jupyter/kernels/sysml/sysml.library/Kernel Libraries/Kernel Semantic Library/TransitionPerformances.kerml...\n",
      "Reading /home/sysml/conda/share/jupyter/kernels/sysml/sysml.library/Kernel Libraries/Kernel Semantic Library/SpatialFrames.kerml...\n",
      "Reading /home/sysml/conda/share/jupyter/kernels/sysml/sysml.library/Kernel Libraries/Kernel Data Type Library/VectorValues.kerml...\n",
      "Reading /home/sysml/conda/share/jupyter/kernels/sysml/sysml.library/Kernel Libraries/Kernel Data Type Library/Collections.kerml...\n",
      "Reading /home/sysml/conda/share/jupyter/kernels/sysml/sysml.library/Kernel Libraries/Kernel Data Type Library/ScalarValues.kerml...\n",
      "Reading /home/sysml/conda/share/jupyter/kernels/sysml/sysml.library/Kernel Libraries/Kernel Function Library/NaturalFunctions.kerml...\n",
      "Reading /home/sysml/conda/share/jupyter/kernels/sysml/sysml.library/Kernel Libraries/Kernel Function Library/BaseFunctions.kerml...\n",
      "Reading /home/sysml/conda/share/jupyter/kernels/sysml/sysml.library/Kernel Libraries/Kernel Function Library/DataFunctions.kerml...\n",
      "Reading /home/sysml/conda/share/jupyter/kernels/sysml/sysml.library/Kernel Libraries/Kernel Function Library/IntegerFunctions.kerml...\n"
     ]
    },
    {
     "name": "stdout",
     "output_type": "stream",
     "text": [
      "Reading /home/sysml/conda/share/jupyter/kernels/sysml/sysml.library/Kernel Libraries/Kernel Function Library/RealFunctions.kerml...\n",
      "Reading /home/sysml/conda/share/jupyter/kernels/sysml/sysml.library/Kernel Libraries/Kernel Function Library/NumericalFunctions.kerml...\n",
      "Reading /home/sysml/conda/share/jupyter/kernels/sysml/sysml.library/Kernel Libraries/Kernel Function Library/VectorFunctions.kerml...\n",
      "Reading /home/sysml/conda/share/jupyter/kernels/sysml/sysml.library/Kernel Libraries/Kernel Function Library/SequenceFunctions.kerml...\n",
      "Reading /home/sysml/conda/share/jupyter/kernels/sysml/sysml.library/Kernel Libraries/Kernel Function Library/ComplexFunctions.kerml...\n",
      "Reading /home/sysml/conda/share/jupyter/kernels/sysml/sysml.library/Kernel Libraries/Kernel Function Library/RationalFunctions.kerml...\n",
      "Reading /home/sysml/conda/share/jupyter/kernels/sysml/sysml.library/Kernel Libraries/Kernel Function Library/StringFunctions.kerml...\n",
      "Reading /home/sysml/conda/share/jupyter/kernels/sysml/sysml.library/Kernel Libraries/Kernel Function Library/ScalarFunctions.kerml...\n",
      "Reading /home/sysml/conda/share/jupyter/kernels/sysml/sysml.library/Kernel Libraries/Kernel Function Library/CollectionFunctions.kerml...\n",
      "Reading /home/sysml/conda/share/jupyter/kernels/sysml/sysml.library/Kernel Libraries/Kernel Function Library/BooleanFunctions.kerml...\n",
      "Reading /home/sysml/conda/share/jupyter/kernels/sysml/sysml.library/Kernel Libraries/Kernel Function Library/OccurrenceFunctions.kerml...\n",
      "Reading /home/sysml/conda/share/jupyter/kernels/sysml/sysml.library/Kernel Libraries/Kernel Function Library/TrigFunctions.kerml...\n",
      "Reading /home/sysml/conda/share/jupyter/kernels/sysml/sysml.library/Kernel Libraries/Kernel Function Library/ControlFunctions.kerml...\n",
      "Reading /home/sysml/conda/share/jupyter/kernels/sysml/sysml.library/Systems Library/Connections.sysml...\n"
     ]
    },
    {
     "name": "stdout",
     "output_type": "stream",
     "text": [
      "Reading /home/sysml/conda/share/jupyter/kernels/sysml/sysml.library/Systems Library/States.sysml...\n",
      "Reading /home/sysml/conda/share/jupyter/kernels/sysml/sysml.library/Systems Library/Actions.sysml...\n",
      "Reading /home/sysml/conda/share/jupyter/kernels/sysml/sysml.library/Systems Library/Metadata.sysml...\n",
      "Reading /home/sysml/conda/share/jupyter/kernels/sysml/sysml.library/Systems Library/Requirements.sysml...\n",
      "Reading /home/sysml/conda/share/jupyter/kernels/sysml/sysml.library/Systems Library/AnalysisCases.sysml...\n",
      "Reading /home/sysml/conda/share/jupyter/kernels/sysml/sysml.library/Systems Library/Attributes.sysml...\n",
      "Reading /home/sysml/conda/share/jupyter/kernels/sysml/sysml.library/Systems Library/Cases.sysml...\n",
      "Reading /home/sysml/conda/share/jupyter/kernels/sysml/sysml.library/Systems Library/VerificationCases.sysml...\n",
      "Reading /home/sysml/conda/share/jupyter/kernels/sysml/sysml.library/Systems Library/Interfaces.sysml...\n",
      "Reading /home/sysml/conda/share/jupyter/kernels/sysml/sysml.library/Systems Library/Ports.sysml...\n",
      "Reading /home/sysml/conda/share/jupyter/kernels/sysml/sysml.library/Systems Library/Views.sysml...\n",
      "Reading /home/sysml/conda/share/jupyter/kernels/sysml/sysml.library/Systems Library/UseCases.sysml...\n",
      "Reading /home/sysml/conda/share/jupyter/kernels/sysml/sysml.library/Systems Library/Parts.sysml...\n",
      "Reading /home/sysml/conda/share/jupyter/kernels/sysml/sysml.library/Systems Library/SysML.sysml...\n",
      "Reading /home/sysml/conda/share/jupyter/kernels/sysml/sysml.library/Systems Library/Constraints.sysml...\n",
      "Reading /home/sysml/conda/share/jupyter/kernels/sysml/sysml.library/Systems Library/Items.sysml...\n",
      "Reading /home/sysml/conda/share/jupyter/kernels/sysml/sysml.library/Systems Library/Calculations.sysml...\n",
      "Reading /home/sysml/conda/share/jupyter/kernels/sysml/sysml.library/Systems Library/StandardViewDefinitions.sysml...\n"
     ]
    },
    {
     "name": "stdout",
     "output_type": "stream",
     "text": [
      "Reading /home/sysml/conda/share/jupyter/kernels/sysml/sysml.library/Systems Library/Allocations.sysml...\n",
      "Reading /home/sysml/conda/share/jupyter/kernels/sysml/sysml.library/Domain Libraries/Geometry/SpatialItems.sysml...\n",
      "Reading /home/sysml/conda/share/jupyter/kernels/sysml/sysml.library/Domain Libraries/Geometry/ShapeItems.sysml...\n",
      "Reading /home/sysml/conda/share/jupyter/kernels/sysml/sysml.library/Domain Libraries/Analysis/TradeStudies.sysml...\n",
      "Reading /home/sysml/conda/share/jupyter/kernels/sysml/sysml.library/Domain Libraries/Analysis/StateSpaceRepresentation.sysml...\n",
      "Reading /home/sysml/conda/share/jupyter/kernels/sysml/sysml.library/Domain Libraries/Analysis/SampledFunctions.sysml...\n",
      "Reading /home/sysml/conda/share/jupyter/kernels/sysml/sysml.library/Domain Libraries/Analysis/AnalysisTooling.sysml...\n",
      "Reading /home/sysml/conda/share/jupyter/kernels/sysml/sysml.library/Domain Libraries/Cause and Effect/CausationConnections.sysml...\n",
      "Reading /home/sysml/conda/share/jupyter/kernels/sysml/sysml.library/Domain Libraries/Cause and Effect/CauseAndEffect.sysml...\n",
      "Reading /home/sysml/conda/share/jupyter/kernels/sysml/sysml.library/Domain Libraries/Quantities and Units/TensorCalculations.sysml...\n",
      "Reading /home/sysml/conda/share/jupyter/kernels/sysml/sysml.library/Domain Libraries/Quantities and Units/ISQSpaceTime.sysml...\n",
      "Reading /home/sysml/conda/share/jupyter/kernels/sysml/sysml.library/Domain Libraries/Quantities and Units/ISQElectromagnetism.sysml...\n"
     ]
    },
    {
     "name": "stdout",
     "output_type": "stream",
     "text": [
      "Reading /home/sysml/conda/share/jupyter/kernels/sysml/sysml.library/Domain Libraries/Quantities and Units/USCustomaryUnits.sysml...\n",
      "Reading /home/sysml/conda/share/jupyter/kernels/sysml/sysml.library/Domain Libraries/Quantities and Units/Time.sysml...\n",
      "Reading /home/sysml/conda/share/jupyter/kernels/sysml/sysml.library/Domain Libraries/Quantities and Units/MeasurementReferences.sysml...\n",
      "Reading /home/sysml/conda/share/jupyter/kernels/sysml/sysml.library/Domain Libraries/Quantities and Units/ISQBase.sysml...\n",
      "Reading /home/sysml/conda/share/jupyter/kernels/sysml/sysml.library/Domain Libraries/Quantities and Units/ISQCondensedMatter.sysml...\n",
      "Reading /home/sysml/conda/share/jupyter/kernels/sysml/sysml.library/Domain Libraries/Quantities and Units/ISQMechanics.sysml...\n",
      "Reading /home/sysml/conda/share/jupyter/kernels/sysml/sysml.library/Domain Libraries/Quantities and Units/SI.sysml...\n",
      "Reading /home/sysml/conda/share/jupyter/kernels/sysml/sysml.library/Domain Libraries/Quantities and Units/ISQCharacteristicNumbers.sysml...\n",
      "Reading /home/sysml/conda/share/jupyter/kernels/sysml/sysml.library/Domain Libraries/Quantities and Units/QuantityCalculations.sysml...\n",
      "Reading /home/sysml/conda/share/jupyter/kernels/sysml/sysml.library/Domain Libraries/Quantities and Units/MeasurementRefCalculations.sysml...\n",
      "Reading /home/sysml/conda/share/jupyter/kernels/sysml/sysml.library/Domain Libraries/Quantities and Units/ISQAtomicNuclear.sysml...\n"
     ]
    },
    {
     "name": "stdout",
     "output_type": "stream",
     "text": [
      "Reading /home/sysml/conda/share/jupyter/kernels/sysml/sysml.library/Domain Libraries/Quantities and Units/ISQ.sysml...\n",
      "Reading /home/sysml/conda/share/jupyter/kernels/sysml/sysml.library/Domain Libraries/Quantities and Units/ISQAcoustics.sysml...\n",
      "Reading /home/sysml/conda/share/jupyter/kernels/sysml/sysml.library/Domain Libraries/Quantities and Units/ISQLight.sysml...\n",
      "Reading /home/sysml/conda/share/jupyter/kernels/sysml/sysml.library/Domain Libraries/Quantities and Units/ISQInformation.sysml...\n",
      "Reading /home/sysml/conda/share/jupyter/kernels/sysml/sysml.library/Domain Libraries/Quantities and Units/ISQThermodynamics.sysml...\n",
      "Reading /home/sysml/conda/share/jupyter/kernels/sysml/sysml.library/Domain Libraries/Quantities and Units/SIPrefixes.sysml...\n",
      "Reading /home/sysml/conda/share/jupyter/kernels/sysml/sysml.library/Domain Libraries/Quantities and Units/VectorCalculations.sysml...\n",
      "Reading /home/sysml/conda/share/jupyter/kernels/sysml/sysml.library/Domain Libraries/Quantities and Units/ISQChemistryMolecular.sysml...\n",
      "Reading /home/sysml/conda/share/jupyter/kernels/sysml/sysml.library/Domain Libraries/Quantities and Units/Quantities.sysml...\n",
      "Reading /home/sysml/conda/share/jupyter/kernels/sysml/sysml.library/Domain Libraries/Metadata/ImageMetadata.sysml...\n",
      "Reading /home/sysml/conda/share/jupyter/kernels/sysml/sysml.library/Domain Libraries/Metadata/ModelingMetadata.sysml...\n",
      "Reading /home/sysml/conda/share/jupyter/kernels/sysml/sysml.library/Domain Libraries/Metadata/ParametersOfInterestMetadata.sysml...\n",
      "Reading /home/sysml/conda/share/jupyter/kernels/sysml/sysml.library/Domain Libraries/Metadata/RiskMetadata.sysml...\n",
      "Reading /home/sysml/conda/share/jupyter/kernels/sysml/sysml.library/Domain Libraries/Requirement Derivation/RequirementDerivation.sysml...\n",
      "Reading /home/sysml/conda/share/jupyter/kernels/sysml/sysml.library/Domain Libraries/Requirement Derivation/DerivationConnections.sysml...\n"
     ]
    },
    {
     "name": "stderr",
     "output_type": "stream",
     "text": [
      "Dec 16, 2024 3:24:44 AM io.github.spencerpark.jupyter.channels.Loop start\n",
      "INFO: Loop starting...\n",
      "Dec 16, 2024 3:24:44 AM io.github.spencerpark.jupyter.channels.Loop start\n",
      "INFO: Loop started.\n",
      "Dec 16, 2024 3:24:44 AM io.github.spencerpark.jupyter.channels.Loop start\n",
      "INFO: Loop starting...\n",
      "Dec 16, 2024 3:24:44 AM io.github.spencerpark.jupyter.channels.Loop start\n",
      "INFO: Loop started.\n",
      "Dec 16, 2024 3:24:44 AM io.github.spencerpark.jupyter.channels.Loop start\n",
      "INFO: Loop starting...\n",
      "Dec 16, 2024 3:24:44 AM io.github.spencerpark.jupyter.channels.Loop start\n",
      "INFO: Loop started.\n"
     ]
    },
    {
     "name": "stderr",
     "output_type": "stream",
     "text": [
      "Dec 16, 2024 3:24:53 AM io.github.spencerpark.jupyter.channels.Loop shutdown\n",
      "INFO: Loop shutdown.\n",
      "Dec 16, 2024 3:24:53 AM io.github.spencerpark.jupyter.channels.Loop shutdown\n",
      "INFO: Loop shutdown.\n",
      "Dec 16, 2024 3:24:53 AM io.github.spencerpark.jupyter.channels.Loop shutdown\n",
      "INFO: Loop shutdown.\n",
      "Dec 16, 2024 3:24:53 AM io.github.spencerpark.jupyter.channels.Loop run\n",
      "INFO: Running loop shutdown callback.\n",
      "Dec 16, 2024 3:24:53 AM io.github.spencerpark.jupyter.channels.Loop run\n",
      "INFO: Loop stopped.\n",
      "Dec 16, 2024 3:24:53 AM io.github.spencerpark.jupyter.channels.Loop run\n",
      "INFO: Running loop shutdown callback.\n",
      "Dec 16, 2024 3:24:53 AM io.github.spencerpark.jupyter.channels.Loop run\n",
      "INFO: Loop stopped.\n"
     ]
    },
    {
     "name": "stderr",
     "output_type": "stream",
     "text": [
      "Dec 16, 2024 3:24:53 AM io.github.spencerpark.jupyter.channels.Loop run\n",
      "INFO: Running loop shutdown callback.\n",
      "Dec 16, 2024 3:24:53 AM io.github.spencerpark.jupyter.channels.Loop run\n",
      "INFO: Loop stopped.\n"
     ]
    },
    {
     "name": "stdout",
     "output_type": "stream",
     "text": [
      "Signing notebook: TestSuite/ConstraintTest.ipynb\n",
      "Executing: TestSuite/AssignmentTest.ipynb\n"
     ]
    },
    {
     "name": "stderr",
     "output_type": "stream",
     "text": [
      "/home/sysml/conda/lib/python3.12/site-packages/nbformat/__init__.py:96: MissingIDFieldWarning: Cell is missing an id field, this will become a hard error in future nbformat versions. You may want to use `normalize()` on your notebooks before validations (available since nbformat 5.1.4). Previous versions of nbformat are fixing this issue transparently, and will stop doing so in the future.\n",
      "  validate(nb)\n"
     ]
    },
    {
     "name": "stdout",
     "output_type": "stream",
     "text": [
      "Reading /home/sysml/conda/share/jupyter/kernels/sysml/sysml.library/Kernel Libraries/Kernel Semantic Library/Observation.kerml...\n"
     ]
    },
    {
     "name": "stderr",
     "output_type": "stream",
     "text": [
      "log4j:WARN No appenders could be found for logger (org.eclipse.xtext.parser.antlr.AbstractInternalAntlrParser).\n",
      "log4j:WARN Please initialize the log4j system properly.\n",
      "log4j:WARN See http://logging.apache.org/log4j/1.2/faq.html#noconfig for more info.\n"
     ]
    },
    {
     "name": "stdout",
     "output_type": "stream",
     "text": [
      "Reading /home/sysml/conda/share/jupyter/kernels/sysml/sysml.library/Kernel Libraries/Kernel Semantic Library/Transfers.kerml...\n",
      "Reading /home/sysml/conda/share/jupyter/kernels/sysml/sysml.library/Kernel Libraries/Kernel Semantic Library/Metaobjects.kerml...\n",
      "Reading /home/sysml/conda/share/jupyter/kernels/sysml/sysml.library/Kernel Libraries/Kernel Semantic Library/Triggers.kerml...\n",
      "Reading /home/sysml/conda/share/jupyter/kernels/sysml/sysml.library/Kernel Libraries/Kernel Semantic Library/Links.kerml...\n",
      "Reading /home/sysml/conda/share/jupyter/kernels/sysml/sysml.library/Kernel Libraries/Kernel Semantic Library/Base.kerml...\n",
      "Reading /home/sysml/conda/share/jupyter/kernels/sysml/sysml.library/Kernel Libraries/Kernel Semantic Library/Objects.kerml...\n",
      "Reading /home/sysml/conda/share/jupyter/kernels/sysml/sysml.library/Kernel Libraries/Kernel Semantic Library/Clocks.kerml...\n",
      "Reading /home/sysml/conda/share/jupyter/kernels/sysml/sysml.library/Kernel Libraries/Kernel Semantic Library/KerML.kerml...\n"
     ]
    },
    {
     "name": "stdout",
     "output_type": "stream",
     "text": [
      "Reading /home/sysml/conda/share/jupyter/kernels/sysml/sysml.library/Kernel Libraries/Kernel Semantic Library/FeatureReferencingPerformances.kerml...\n",
      "Reading /home/sysml/conda/share/jupyter/kernels/sysml/sysml.library/Kernel Libraries/Kernel Semantic Library/Performances.kerml...\n",
      "Reading /home/sysml/conda/share/jupyter/kernels/sysml/sysml.library/Kernel Libraries/Kernel Semantic Library/Occurrences.kerml...\n",
      "Reading /home/sysml/conda/share/jupyter/kernels/sysml/sysml.library/Kernel Libraries/Kernel Semantic Library/ControlPerformances.kerml...\n",
      "Reading /home/sysml/conda/share/jupyter/kernels/sysml/sysml.library/Kernel Libraries/Kernel Semantic Library/StatePerformances.kerml...\n",
      "Reading /home/sysml/conda/share/jupyter/kernels/sysml/sysml.library/Kernel Libraries/Kernel Semantic Library/TransitionPerformances.kerml...\n",
      "Reading /home/sysml/conda/share/jupyter/kernels/sysml/sysml.library/Kernel Libraries/Kernel Semantic Library/SpatialFrames.kerml...\n",
      "Reading /home/sysml/conda/share/jupyter/kernels/sysml/sysml.library/Kernel Libraries/Kernel Data Type Library/VectorValues.kerml...\n",
      "Reading /home/sysml/conda/share/jupyter/kernels/sysml/sysml.library/Kernel Libraries/Kernel Data Type Library/Collections.kerml...\n",
      "Reading /home/sysml/conda/share/jupyter/kernels/sysml/sysml.library/Kernel Libraries/Kernel Data Type Library/ScalarValues.kerml...\n",
      "Reading /home/sysml/conda/share/jupyter/kernels/sysml/sysml.library/Kernel Libraries/Kernel Function Library/NaturalFunctions.kerml...\n",
      "Reading /home/sysml/conda/share/jupyter/kernels/sysml/sysml.library/Kernel Libraries/Kernel Function Library/BaseFunctions.kerml...\n",
      "Reading /home/sysml/conda/share/jupyter/kernels/sysml/sysml.library/Kernel Libraries/Kernel Function Library/DataFunctions.kerml...\n"
     ]
    },
    {
     "name": "stdout",
     "output_type": "stream",
     "text": [
      "Reading /home/sysml/conda/share/jupyter/kernels/sysml/sysml.library/Kernel Libraries/Kernel Function Library/IntegerFunctions.kerml...\n",
      "Reading /home/sysml/conda/share/jupyter/kernels/sysml/sysml.library/Kernel Libraries/Kernel Function Library/RealFunctions.kerml...\n",
      "Reading /home/sysml/conda/share/jupyter/kernels/sysml/sysml.library/Kernel Libraries/Kernel Function Library/NumericalFunctions.kerml...\n",
      "Reading /home/sysml/conda/share/jupyter/kernels/sysml/sysml.library/Kernel Libraries/Kernel Function Library/VectorFunctions.kerml...\n",
      "Reading /home/sysml/conda/share/jupyter/kernels/sysml/sysml.library/Kernel Libraries/Kernel Function Library/SequenceFunctions.kerml...\n",
      "Reading /home/sysml/conda/share/jupyter/kernels/sysml/sysml.library/Kernel Libraries/Kernel Function Library/ComplexFunctions.kerml...\n",
      "Reading /home/sysml/conda/share/jupyter/kernels/sysml/sysml.library/Kernel Libraries/Kernel Function Library/RationalFunctions.kerml...\n",
      "Reading /home/sysml/conda/share/jupyter/kernels/sysml/sysml.library/Kernel Libraries/Kernel Function Library/StringFunctions.kerml...\n",
      "Reading /home/sysml/conda/share/jupyter/kernels/sysml/sysml.library/Kernel Libraries/Kernel Function Library/ScalarFunctions.kerml...\n",
      "Reading /home/sysml/conda/share/jupyter/kernels/sysml/sysml.library/Kernel Libraries/Kernel Function Library/CollectionFunctions.kerml...\n",
      "Reading /home/sysml/conda/share/jupyter/kernels/sysml/sysml.library/Kernel Libraries/Kernel Function Library/BooleanFunctions.kerml...\n",
      "Reading /home/sysml/conda/share/jupyter/kernels/sysml/sysml.library/Kernel Libraries/Kernel Function Library/OccurrenceFunctions.kerml...\n",
      "Reading /home/sysml/conda/share/jupyter/kernels/sysml/sysml.library/Kernel Libraries/Kernel Function Library/TrigFunctions.kerml...\n",
      "Reading /home/sysml/conda/share/jupyter/kernels/sysml/sysml.library/Kernel Libraries/Kernel Function Library/ControlFunctions.kerml...\n",
      "Reading /home/sysml/conda/share/jupyter/kernels/sysml/sysml.library/Systems Library/Connections.sysml...\n"
     ]
    },
    {
     "name": "stdout",
     "output_type": "stream",
     "text": [
      "Reading /home/sysml/conda/share/jupyter/kernels/sysml/sysml.library/Systems Library/States.sysml...\n",
      "Reading /home/sysml/conda/share/jupyter/kernels/sysml/sysml.library/Systems Library/Actions.sysml...\n",
      "Reading /home/sysml/conda/share/jupyter/kernels/sysml/sysml.library/Systems Library/Metadata.sysml...\n",
      "Reading /home/sysml/conda/share/jupyter/kernels/sysml/sysml.library/Systems Library/Requirements.sysml...\n",
      "Reading /home/sysml/conda/share/jupyter/kernels/sysml/sysml.library/Systems Library/AnalysisCases.sysml...\n",
      "Reading /home/sysml/conda/share/jupyter/kernels/sysml/sysml.library/Systems Library/Attributes.sysml...\n",
      "Reading /home/sysml/conda/share/jupyter/kernels/sysml/sysml.library/Systems Library/Cases.sysml...\n",
      "Reading /home/sysml/conda/share/jupyter/kernels/sysml/sysml.library/Systems Library/VerificationCases.sysml...\n",
      "Reading /home/sysml/conda/share/jupyter/kernels/sysml/sysml.library/Systems Library/Interfaces.sysml...\n",
      "Reading /home/sysml/conda/share/jupyter/kernels/sysml/sysml.library/Systems Library/Ports.sysml...\n",
      "Reading /home/sysml/conda/share/jupyter/kernels/sysml/sysml.library/Systems Library/Views.sysml...\n",
      "Reading /home/sysml/conda/share/jupyter/kernels/sysml/sysml.library/Systems Library/UseCases.sysml...\n",
      "Reading /home/sysml/conda/share/jupyter/kernels/sysml/sysml.library/Systems Library/Parts.sysml...\n",
      "Reading /home/sysml/conda/share/jupyter/kernels/sysml/sysml.library/Systems Library/SysML.sysml...\n",
      "Reading /home/sysml/conda/share/jupyter/kernels/sysml/sysml.library/Systems Library/Constraints.sysml...\n",
      "Reading /home/sysml/conda/share/jupyter/kernels/sysml/sysml.library/Systems Library/Items.sysml...\n"
     ]
    },
    {
     "name": "stdout",
     "output_type": "stream",
     "text": [
      "Reading /home/sysml/conda/share/jupyter/kernels/sysml/sysml.library/Systems Library/Calculations.sysml...\n",
      "Reading /home/sysml/conda/share/jupyter/kernels/sysml/sysml.library/Systems Library/StandardViewDefinitions.sysml...\n",
      "Reading /home/sysml/conda/share/jupyter/kernels/sysml/sysml.library/Systems Library/Allocations.sysml...\n",
      "Reading /home/sysml/conda/share/jupyter/kernels/sysml/sysml.library/Domain Libraries/Geometry/SpatialItems.sysml...\n",
      "Reading /home/sysml/conda/share/jupyter/kernels/sysml/sysml.library/Domain Libraries/Geometry/ShapeItems.sysml...\n",
      "Reading /home/sysml/conda/share/jupyter/kernels/sysml/sysml.library/Domain Libraries/Analysis/TradeStudies.sysml...\n",
      "Reading /home/sysml/conda/share/jupyter/kernels/sysml/sysml.library/Domain Libraries/Analysis/StateSpaceRepresentation.sysml...\n",
      "Reading /home/sysml/conda/share/jupyter/kernels/sysml/sysml.library/Domain Libraries/Analysis/SampledFunctions.sysml...\n",
      "Reading /home/sysml/conda/share/jupyter/kernels/sysml/sysml.library/Domain Libraries/Analysis/AnalysisTooling.sysml...\n",
      "Reading /home/sysml/conda/share/jupyter/kernels/sysml/sysml.library/Domain Libraries/Cause and Effect/CausationConnections.sysml...\n",
      "Reading /home/sysml/conda/share/jupyter/kernels/sysml/sysml.library/Domain Libraries/Cause and Effect/CauseAndEffect.sysml...\n",
      "Reading /home/sysml/conda/share/jupyter/kernels/sysml/sysml.library/Domain Libraries/Quantities and Units/TensorCalculations.sysml...\n",
      "Reading /home/sysml/conda/share/jupyter/kernels/sysml/sysml.library/Domain Libraries/Quantities and Units/ISQSpaceTime.sysml...\n",
      "Reading /home/sysml/conda/share/jupyter/kernels/sysml/sysml.library/Domain Libraries/Quantities and Units/ISQElectromagnetism.sysml...\n"
     ]
    },
    {
     "name": "stdout",
     "output_type": "stream",
     "text": [
      "Reading /home/sysml/conda/share/jupyter/kernels/sysml/sysml.library/Domain Libraries/Quantities and Units/USCustomaryUnits.sysml...\n",
      "Reading /home/sysml/conda/share/jupyter/kernels/sysml/sysml.library/Domain Libraries/Quantities and Units/Time.sysml...\n",
      "Reading /home/sysml/conda/share/jupyter/kernels/sysml/sysml.library/Domain Libraries/Quantities and Units/MeasurementReferences.sysml...\n",
      "Reading /home/sysml/conda/share/jupyter/kernels/sysml/sysml.library/Domain Libraries/Quantities and Units/ISQBase.sysml...\n",
      "Reading /home/sysml/conda/share/jupyter/kernels/sysml/sysml.library/Domain Libraries/Quantities and Units/ISQCondensedMatter.sysml...\n",
      "Reading /home/sysml/conda/share/jupyter/kernels/sysml/sysml.library/Domain Libraries/Quantities and Units/ISQMechanics.sysml...\n",
      "Reading /home/sysml/conda/share/jupyter/kernels/sysml/sysml.library/Domain Libraries/Quantities and Units/SI.sysml...\n",
      "Reading /home/sysml/conda/share/jupyter/kernels/sysml/sysml.library/Domain Libraries/Quantities and Units/ISQCharacteristicNumbers.sysml...\n",
      "Reading /home/sysml/conda/share/jupyter/kernels/sysml/sysml.library/Domain Libraries/Quantities and Units/QuantityCalculations.sysml...\n",
      "Reading /home/sysml/conda/share/jupyter/kernels/sysml/sysml.library/Domain Libraries/Quantities and Units/MeasurementRefCalculations.sysml...\n"
     ]
    },
    {
     "name": "stdout",
     "output_type": "stream",
     "text": [
      "Reading /home/sysml/conda/share/jupyter/kernels/sysml/sysml.library/Domain Libraries/Quantities and Units/ISQAtomicNuclear.sysml...\n",
      "Reading /home/sysml/conda/share/jupyter/kernels/sysml/sysml.library/Domain Libraries/Quantities and Units/ISQ.sysml...\n",
      "Reading /home/sysml/conda/share/jupyter/kernels/sysml/sysml.library/Domain Libraries/Quantities and Units/ISQAcoustics.sysml...\n",
      "Reading /home/sysml/conda/share/jupyter/kernels/sysml/sysml.library/Domain Libraries/Quantities and Units/ISQLight.sysml...\n",
      "Reading /home/sysml/conda/share/jupyter/kernels/sysml/sysml.library/Domain Libraries/Quantities and Units/ISQInformation.sysml...\n",
      "Reading /home/sysml/conda/share/jupyter/kernels/sysml/sysml.library/Domain Libraries/Quantities and Units/ISQThermodynamics.sysml...\n"
     ]
    },
    {
     "name": "stdout",
     "output_type": "stream",
     "text": [
      "Reading /home/sysml/conda/share/jupyter/kernels/sysml/sysml.library/Domain Libraries/Quantities and Units/SIPrefixes.sysml...\n",
      "Reading /home/sysml/conda/share/jupyter/kernels/sysml/sysml.library/Domain Libraries/Quantities and Units/VectorCalculations.sysml...\n",
      "Reading /home/sysml/conda/share/jupyter/kernels/sysml/sysml.library/Domain Libraries/Quantities and Units/ISQChemistryMolecular.sysml...\n",
      "Reading /home/sysml/conda/share/jupyter/kernels/sysml/sysml.library/Domain Libraries/Quantities and Units/Quantities.sysml...\n",
      "Reading /home/sysml/conda/share/jupyter/kernels/sysml/sysml.library/Domain Libraries/Metadata/ImageMetadata.sysml...\n",
      "Reading /home/sysml/conda/share/jupyter/kernels/sysml/sysml.library/Domain Libraries/Metadata/ModelingMetadata.sysml...\n",
      "Reading /home/sysml/conda/share/jupyter/kernels/sysml/sysml.library/Domain Libraries/Metadata/ParametersOfInterestMetadata.sysml...\n",
      "Reading /home/sysml/conda/share/jupyter/kernels/sysml/sysml.library/Domain Libraries/Metadata/RiskMetadata.sysml...\n",
      "Reading /home/sysml/conda/share/jupyter/kernels/sysml/sysml.library/Domain Libraries/Requirement Derivation/RequirementDerivation.sysml...\n",
      "Reading /home/sysml/conda/share/jupyter/kernels/sysml/sysml.library/Domain Libraries/Requirement Derivation/DerivationConnections.sysml...\n"
     ]
    },
    {
     "name": "stderr",
     "output_type": "stream",
     "text": [
      "Dec 16, 2024 3:24:58 AM io.github.spencerpark.jupyter.channels.Loop start\n",
      "INFO: Loop starting...\n",
      "Dec 16, 2024 3:24:58 AM io.github.spencerpark.jupyter.channels.Loop start\n",
      "INFO: Loop started.\n",
      "Dec 16, 2024 3:24:58 AM io.github.spencerpark.jupyter.channels.Loop start\n",
      "INFO: Loop starting...\n",
      "Dec 16, 2024 3:24:58 AM io.github.spencerpark.jupyter.channels.Loop start\n",
      "INFO: Loop started.\n",
      "Dec 16, 2024 3:24:58 AM io.github.spencerpark.jupyter.channels.Loop start\n",
      "INFO: Loop starting...\n",
      "Dec 16, 2024 3:24:58 AM io.github.spencerpark.jupyter.channels.Loop start\n",
      "INFO: Loop started.\n"
     ]
    },
    {
     "name": "stderr",
     "output_type": "stream",
     "text": [
      "Dec 16, 2024 3:25:05 AM io.github.spencerpark.jupyter.channels.Loop shutdown\n",
      "INFO: Loop shutdown.\n",
      "Dec 16, 2024 3:25:05 AM io.github.spencerpark.jupyter.channels.Loop shutdown\n",
      "INFO: Loop shutdown.\n",
      "Dec 16, 2024 3:25:05 AM io.github.spencerpark.jupyter.channels.Loop shutdown\n",
      "INFO: Loop shutdown.\n",
      "Dec 16, 2024 3:25:05 AM io.github.spencerpark.jupyter.channels.Loop run\n",
      "INFO: Running loop shutdown callback.\n",
      "Dec 16, 2024 3:25:05 AM io.github.spencerpark.jupyter.channels.Loop run\n",
      "INFO: Loop stopped.\n",
      "Dec 16, 2024 3:25:05 AM io.github.spencerpark.jupyter.channels.Loop run\n",
      "INFO: Running loop shutdown callback.\n",
      "Dec 16, 2024 3:25:05 AM io.github.spencerpark.jupyter.channels.Loop run\n",
      "INFO: Loop stopped.\n"
     ]
    },
    {
     "name": "stderr",
     "output_type": "stream",
     "text": [
      "Dec 16, 2024 3:25:05 AM io.github.spencerpark.jupyter.channels.Loop run\n",
      "INFO: Running loop shutdown callback.\n",
      "Dec 16, 2024 3:25:05 AM io.github.spencerpark.jupyter.channels.Loop run\n",
      "INFO: Loop stopped.\n"
     ]
    },
    {
     "name": "stdout",
     "output_type": "stream",
     "text": [
      "Signing notebook: TestSuite/AssignmentTest.ipynb\n",
      "Executing: TestSuite/AliasTest.ipynb\n"
     ]
    },
    {
     "name": "stderr",
     "output_type": "stream",
     "text": [
      "/home/sysml/conda/lib/python3.12/site-packages/nbformat/__init__.py:96: MissingIDFieldWarning: Cell is missing an id field, this will become a hard error in future nbformat versions. You may want to use `normalize()` on your notebooks before validations (available since nbformat 5.1.4). Previous versions of nbformat are fixing this issue transparently, and will stop doing so in the future.\n",
      "  validate(nb)\n"
     ]
    },
    {
     "name": "stdout",
     "output_type": "stream",
     "text": [
      "Reading /home/sysml/conda/share/jupyter/kernels/sysml/sysml.library/Kernel Libraries/Kernel Semantic Library/Observation.kerml...\n"
     ]
    },
    {
     "name": "stderr",
     "output_type": "stream",
     "text": [
      "log4j:WARN No appenders could be found for logger (org.eclipse.xtext.parser.antlr.AbstractInternalAntlrParser).\n",
      "log4j:WARN Please initialize the log4j system properly.\n",
      "log4j:WARN See http://logging.apache.org/log4j/1.2/faq.html#noconfig for more info.\n"
     ]
    },
    {
     "name": "stdout",
     "output_type": "stream",
     "text": [
      "Reading /home/sysml/conda/share/jupyter/kernels/sysml/sysml.library/Kernel Libraries/Kernel Semantic Library/Transfers.kerml...\n",
      "Reading /home/sysml/conda/share/jupyter/kernels/sysml/sysml.library/Kernel Libraries/Kernel Semantic Library/Metaobjects.kerml...\n",
      "Reading /home/sysml/conda/share/jupyter/kernels/sysml/sysml.library/Kernel Libraries/Kernel Semantic Library/Triggers.kerml...\n",
      "Reading /home/sysml/conda/share/jupyter/kernels/sysml/sysml.library/Kernel Libraries/Kernel Semantic Library/Links.kerml...\n",
      "Reading /home/sysml/conda/share/jupyter/kernels/sysml/sysml.library/Kernel Libraries/Kernel Semantic Library/Base.kerml...\n",
      "Reading /home/sysml/conda/share/jupyter/kernels/sysml/sysml.library/Kernel Libraries/Kernel Semantic Library/Objects.kerml...\n",
      "Reading /home/sysml/conda/share/jupyter/kernels/sysml/sysml.library/Kernel Libraries/Kernel Semantic Library/Clocks.kerml...\n",
      "Reading /home/sysml/conda/share/jupyter/kernels/sysml/sysml.library/Kernel Libraries/Kernel Semantic Library/KerML.kerml...\n"
     ]
    },
    {
     "name": "stdout",
     "output_type": "stream",
     "text": [
      "Reading /home/sysml/conda/share/jupyter/kernels/sysml/sysml.library/Kernel Libraries/Kernel Semantic Library/FeatureReferencingPerformances.kerml...\n",
      "Reading /home/sysml/conda/share/jupyter/kernels/sysml/sysml.library/Kernel Libraries/Kernel Semantic Library/Performances.kerml...\n",
      "Reading /home/sysml/conda/share/jupyter/kernels/sysml/sysml.library/Kernel Libraries/Kernel Semantic Library/Occurrences.kerml...\n",
      "Reading /home/sysml/conda/share/jupyter/kernels/sysml/sysml.library/Kernel Libraries/Kernel Semantic Library/ControlPerformances.kerml...\n",
      "Reading /home/sysml/conda/share/jupyter/kernels/sysml/sysml.library/Kernel Libraries/Kernel Semantic Library/StatePerformances.kerml...\n",
      "Reading /home/sysml/conda/share/jupyter/kernels/sysml/sysml.library/Kernel Libraries/Kernel Semantic Library/TransitionPerformances.kerml...\n",
      "Reading /home/sysml/conda/share/jupyter/kernels/sysml/sysml.library/Kernel Libraries/Kernel Semantic Library/SpatialFrames.kerml...\n",
      "Reading /home/sysml/conda/share/jupyter/kernels/sysml/sysml.library/Kernel Libraries/Kernel Data Type Library/VectorValues.kerml...\n",
      "Reading /home/sysml/conda/share/jupyter/kernels/sysml/sysml.library/Kernel Libraries/Kernel Data Type Library/Collections.kerml...\n",
      "Reading /home/sysml/conda/share/jupyter/kernels/sysml/sysml.library/Kernel Libraries/Kernel Data Type Library/ScalarValues.kerml...\n",
      "Reading /home/sysml/conda/share/jupyter/kernels/sysml/sysml.library/Kernel Libraries/Kernel Function Library/NaturalFunctions.kerml...\n",
      "Reading /home/sysml/conda/share/jupyter/kernels/sysml/sysml.library/Kernel Libraries/Kernel Function Library/BaseFunctions.kerml...\n",
      "Reading /home/sysml/conda/share/jupyter/kernels/sysml/sysml.library/Kernel Libraries/Kernel Function Library/DataFunctions.kerml...\n",
      "Reading /home/sysml/conda/share/jupyter/kernels/sysml/sysml.library/Kernel Libraries/Kernel Function Library/IntegerFunctions.kerml...\n",
      "Reading /home/sysml/conda/share/jupyter/kernels/sysml/sysml.library/Kernel Libraries/Kernel Function Library/RealFunctions.kerml...\n",
      "Reading /home/sysml/conda/share/jupyter/kernels/sysml/sysml.library/Kernel Libraries/Kernel Function Library/NumericalFunctions.kerml...\n"
     ]
    },
    {
     "name": "stdout",
     "output_type": "stream",
     "text": [
      "Reading /home/sysml/conda/share/jupyter/kernels/sysml/sysml.library/Kernel Libraries/Kernel Function Library/VectorFunctions.kerml...\n",
      "Reading /home/sysml/conda/share/jupyter/kernels/sysml/sysml.library/Kernel Libraries/Kernel Function Library/SequenceFunctions.kerml...\n",
      "Reading /home/sysml/conda/share/jupyter/kernels/sysml/sysml.library/Kernel Libraries/Kernel Function Library/ComplexFunctions.kerml...\n",
      "Reading /home/sysml/conda/share/jupyter/kernels/sysml/sysml.library/Kernel Libraries/Kernel Function Library/RationalFunctions.kerml...\n",
      "Reading /home/sysml/conda/share/jupyter/kernels/sysml/sysml.library/Kernel Libraries/Kernel Function Library/StringFunctions.kerml...\n",
      "Reading /home/sysml/conda/share/jupyter/kernels/sysml/sysml.library/Kernel Libraries/Kernel Function Library/ScalarFunctions.kerml...\n",
      "Reading /home/sysml/conda/share/jupyter/kernels/sysml/sysml.library/Kernel Libraries/Kernel Function Library/CollectionFunctions.kerml...\n",
      "Reading /home/sysml/conda/share/jupyter/kernels/sysml/sysml.library/Kernel Libraries/Kernel Function Library/BooleanFunctions.kerml...\n",
      "Reading /home/sysml/conda/share/jupyter/kernels/sysml/sysml.library/Kernel Libraries/Kernel Function Library/OccurrenceFunctions.kerml...\n",
      "Reading /home/sysml/conda/share/jupyter/kernels/sysml/sysml.library/Kernel Libraries/Kernel Function Library/TrigFunctions.kerml...\n",
      "Reading /home/sysml/conda/share/jupyter/kernels/sysml/sysml.library/Kernel Libraries/Kernel Function Library/ControlFunctions.kerml...\n",
      "Reading /home/sysml/conda/share/jupyter/kernels/sysml/sysml.library/Systems Library/Connections.sysml...\n"
     ]
    },
    {
     "name": "stdout",
     "output_type": "stream",
     "text": [
      "Reading /home/sysml/conda/share/jupyter/kernels/sysml/sysml.library/Systems Library/States.sysml...\n",
      "Reading /home/sysml/conda/share/jupyter/kernels/sysml/sysml.library/Systems Library/Actions.sysml...\n",
      "Reading /home/sysml/conda/share/jupyter/kernels/sysml/sysml.library/Systems Library/Metadata.sysml...\n",
      "Reading /home/sysml/conda/share/jupyter/kernels/sysml/sysml.library/Systems Library/Requirements.sysml...\n",
      "Reading /home/sysml/conda/share/jupyter/kernels/sysml/sysml.library/Systems Library/AnalysisCases.sysml...\n",
      "Reading /home/sysml/conda/share/jupyter/kernels/sysml/sysml.library/Systems Library/Attributes.sysml...\n",
      "Reading /home/sysml/conda/share/jupyter/kernels/sysml/sysml.library/Systems Library/Cases.sysml...\n",
      "Reading /home/sysml/conda/share/jupyter/kernels/sysml/sysml.library/Systems Library/VerificationCases.sysml...\n",
      "Reading /home/sysml/conda/share/jupyter/kernels/sysml/sysml.library/Systems Library/Interfaces.sysml...\n",
      "Reading /home/sysml/conda/share/jupyter/kernels/sysml/sysml.library/Systems Library/Ports.sysml...\n",
      "Reading /home/sysml/conda/share/jupyter/kernels/sysml/sysml.library/Systems Library/Views.sysml...\n",
      "Reading /home/sysml/conda/share/jupyter/kernels/sysml/sysml.library/Systems Library/UseCases.sysml...\n",
      "Reading /home/sysml/conda/share/jupyter/kernels/sysml/sysml.library/Systems Library/Parts.sysml...\n",
      "Reading /home/sysml/conda/share/jupyter/kernels/sysml/sysml.library/Systems Library/SysML.sysml...\n",
      "Reading /home/sysml/conda/share/jupyter/kernels/sysml/sysml.library/Systems Library/Constraints.sysml...\n",
      "Reading /home/sysml/conda/share/jupyter/kernels/sysml/sysml.library/Systems Library/Items.sysml...\n",
      "Reading /home/sysml/conda/share/jupyter/kernels/sysml/sysml.library/Systems Library/Calculations.sysml...\n"
     ]
    },
    {
     "name": "stdout",
     "output_type": "stream",
     "text": [
      "Reading /home/sysml/conda/share/jupyter/kernels/sysml/sysml.library/Systems Library/StandardViewDefinitions.sysml...\n",
      "Reading /home/sysml/conda/share/jupyter/kernels/sysml/sysml.library/Systems Library/Allocations.sysml...\n",
      "Reading /home/sysml/conda/share/jupyter/kernels/sysml/sysml.library/Domain Libraries/Geometry/SpatialItems.sysml...\n",
      "Reading /home/sysml/conda/share/jupyter/kernels/sysml/sysml.library/Domain Libraries/Geometry/ShapeItems.sysml...\n",
      "Reading /home/sysml/conda/share/jupyter/kernels/sysml/sysml.library/Domain Libraries/Analysis/TradeStudies.sysml...\n",
      "Reading /home/sysml/conda/share/jupyter/kernels/sysml/sysml.library/Domain Libraries/Analysis/StateSpaceRepresentation.sysml...\n",
      "Reading /home/sysml/conda/share/jupyter/kernels/sysml/sysml.library/Domain Libraries/Analysis/SampledFunctions.sysml...\n",
      "Reading /home/sysml/conda/share/jupyter/kernels/sysml/sysml.library/Domain Libraries/Analysis/AnalysisTooling.sysml...\n",
      "Reading /home/sysml/conda/share/jupyter/kernels/sysml/sysml.library/Domain Libraries/Cause and Effect/CausationConnections.sysml...\n",
      "Reading /home/sysml/conda/share/jupyter/kernels/sysml/sysml.library/Domain Libraries/Cause and Effect/CauseAndEffect.sysml...\n",
      "Reading /home/sysml/conda/share/jupyter/kernels/sysml/sysml.library/Domain Libraries/Quantities and Units/TensorCalculations.sysml...\n",
      "Reading /home/sysml/conda/share/jupyter/kernels/sysml/sysml.library/Domain Libraries/Quantities and Units/ISQSpaceTime.sysml...\n",
      "Reading /home/sysml/conda/share/jupyter/kernels/sysml/sysml.library/Domain Libraries/Quantities and Units/ISQElectromagnetism.sysml...\n"
     ]
    },
    {
     "name": "stdout",
     "output_type": "stream",
     "text": [
      "Reading /home/sysml/conda/share/jupyter/kernels/sysml/sysml.library/Domain Libraries/Quantities and Units/USCustomaryUnits.sysml...\n",
      "Reading /home/sysml/conda/share/jupyter/kernels/sysml/sysml.library/Domain Libraries/Quantities and Units/Time.sysml...\n",
      "Reading /home/sysml/conda/share/jupyter/kernels/sysml/sysml.library/Domain Libraries/Quantities and Units/MeasurementReferences.sysml...\n",
      "Reading /home/sysml/conda/share/jupyter/kernels/sysml/sysml.library/Domain Libraries/Quantities and Units/ISQBase.sysml...\n",
      "Reading /home/sysml/conda/share/jupyter/kernels/sysml/sysml.library/Domain Libraries/Quantities and Units/ISQCondensedMatter.sysml...\n",
      "Reading /home/sysml/conda/share/jupyter/kernels/sysml/sysml.library/Domain Libraries/Quantities and Units/ISQMechanics.sysml...\n",
      "Reading /home/sysml/conda/share/jupyter/kernels/sysml/sysml.library/Domain Libraries/Quantities and Units/SI.sysml...\n",
      "Reading /home/sysml/conda/share/jupyter/kernels/sysml/sysml.library/Domain Libraries/Quantities and Units/ISQCharacteristicNumbers.sysml...\n",
      "Reading /home/sysml/conda/share/jupyter/kernels/sysml/sysml.library/Domain Libraries/Quantities and Units/QuantityCalculations.sysml...\n",
      "Reading /home/sysml/conda/share/jupyter/kernels/sysml/sysml.library/Domain Libraries/Quantities and Units/MeasurementRefCalculations.sysml...\n",
      "Reading /home/sysml/conda/share/jupyter/kernels/sysml/sysml.library/Domain Libraries/Quantities and Units/ISQAtomicNuclear.sysml...\n"
     ]
    },
    {
     "name": "stdout",
     "output_type": "stream",
     "text": [
      "Reading /home/sysml/conda/share/jupyter/kernels/sysml/sysml.library/Domain Libraries/Quantities and Units/ISQ.sysml...\n",
      "Reading /home/sysml/conda/share/jupyter/kernels/sysml/sysml.library/Domain Libraries/Quantities and Units/ISQAcoustics.sysml...\n",
      "Reading /home/sysml/conda/share/jupyter/kernels/sysml/sysml.library/Domain Libraries/Quantities and Units/ISQLight.sysml...\n",
      "Reading /home/sysml/conda/share/jupyter/kernels/sysml/sysml.library/Domain Libraries/Quantities and Units/ISQInformation.sysml...\n",
      "Reading /home/sysml/conda/share/jupyter/kernels/sysml/sysml.library/Domain Libraries/Quantities and Units/ISQThermodynamics.sysml...\n",
      "Reading /home/sysml/conda/share/jupyter/kernels/sysml/sysml.library/Domain Libraries/Quantities and Units/SIPrefixes.sysml...\n",
      "Reading /home/sysml/conda/share/jupyter/kernels/sysml/sysml.library/Domain Libraries/Quantities and Units/VectorCalculations.sysml...\n",
      "Reading /home/sysml/conda/share/jupyter/kernels/sysml/sysml.library/Domain Libraries/Quantities and Units/ISQChemistryMolecular.sysml...\n",
      "Reading /home/sysml/conda/share/jupyter/kernels/sysml/sysml.library/Domain Libraries/Quantities and Units/Quantities.sysml...\n",
      "Reading /home/sysml/conda/share/jupyter/kernels/sysml/sysml.library/Domain Libraries/Metadata/ImageMetadata.sysml...\n",
      "Reading /home/sysml/conda/share/jupyter/kernels/sysml/sysml.library/Domain Libraries/Metadata/ModelingMetadata.sysml...\n",
      "Reading /home/sysml/conda/share/jupyter/kernels/sysml/sysml.library/Domain Libraries/Metadata/ParametersOfInterestMetadata.sysml...\n",
      "Reading /home/sysml/conda/share/jupyter/kernels/sysml/sysml.library/Domain Libraries/Metadata/RiskMetadata.sysml...\n",
      "Reading /home/sysml/conda/share/jupyter/kernels/sysml/sysml.library/Domain Libraries/Requirement Derivation/RequirementDerivation.sysml...\n",
      "Reading /home/sysml/conda/share/jupyter/kernels/sysml/sysml.library/Domain Libraries/Requirement Derivation/DerivationConnections.sysml...\n"
     ]
    },
    {
     "name": "stderr",
     "output_type": "stream",
     "text": [
      "Dec 16, 2024 3:25:09 AM io.github.spencerpark.jupyter.channels.Loop start\n",
      "INFO: Loop starting...\n",
      "Dec 16, 2024 3:25:09 AM io.github.spencerpark.jupyter.channels.Loop start\n",
      "INFO: Loop started.\n",
      "Dec 16, 2024 3:25:09 AM io.github.spencerpark.jupyter.channels.Loop start\n",
      "INFO: Loop starting...\n",
      "Dec 16, 2024 3:25:09 AM io.github.spencerpark.jupyter.channels.Loop start\n",
      "INFO: Loop started.\n",
      "Dec 16, 2024 3:25:09 AM io.github.spencerpark.jupyter.channels.Loop start\n",
      "INFO: Loop starting...\n",
      "Dec 16, 2024 3:25:09 AM io.github.spencerpark.jupyter.channels.Loop start\n",
      "INFO: Loop started.\n"
     ]
    },
    {
     "name": "stderr",
     "output_type": "stream",
     "text": [
      "Dec 16, 2024 3:25:15 AM io.github.spencerpark.jupyter.channels.Loop shutdown\n",
      "INFO: Loop shutdown.\n",
      "Dec 16, 2024 3:25:15 AM io.github.spencerpark.jupyter.channels.Loop shutdown\n",
      "INFO: Loop shutdown.\n",
      "Dec 16, 2024 3:25:15 AM io.github.spencerpark.jupyter.channels.Loop shutdown\n",
      "INFO: Loop shutdown.\n",
      "Dec 16, 2024 3:25:15 AM io.github.spencerpark.jupyter.channels.Loop run\n",
      "INFO: Running loop shutdown callback.\n",
      "Dec 16, 2024 3:25:15 AM io.github.spencerpark.jupyter.channels.Loop run\n",
      "INFO: Loop stopped.\n",
      "Dec 16, 2024 3:25:15 AM io.github.spencerpark.jupyter.channels.Loop run\n",
      "INFO: Running loop shutdown callback.\n",
      "Dec 16, 2024 3:25:15 AM io.github.spencerpark.jupyter.channels.Loop run\n",
      "INFO: Loop stopped.\n",
      "Dec 16, 2024 3:25:15 AM io.github.spencerpark.jupyter.channels.Loop run\n",
      "INFO: Running loop shutdown callback.\n",
      "Dec 16, 2024 3:25:15 AM io.github.spencerpark.jupyter.channels.Loop run\n",
      "INFO: Loop stopped.\n"
     ]
    },
    {
     "name": "stdout",
     "output_type": "stream",
     "text": [
      "Signing notebook: TestSuite/AliasTest.ipynb\n",
      "Executing: TestSuite/VerificationTest.ipynb\n"
     ]
    },
    {
     "name": "stderr",
     "output_type": "stream",
     "text": [
      "/home/sysml/conda/lib/python3.12/site-packages/nbformat/__init__.py:96: MissingIDFieldWarning: Cell is missing an id field, this will become a hard error in future nbformat versions. You may want to use `normalize()` on your notebooks before validations (available since nbformat 5.1.4). Previous versions of nbformat are fixing this issue transparently, and will stop doing so in the future.\n",
      "  validate(nb)\n"
     ]
    },
    {
     "name": "stdout",
     "output_type": "stream",
     "text": [
      "Reading /home/sysml/conda/share/jupyter/kernels/sysml/sysml.library/Kernel Libraries/Kernel Semantic Library/Observation.kerml...\n"
     ]
    },
    {
     "name": "stderr",
     "output_type": "stream",
     "text": [
      "log4j:WARN No appenders could be found for logger (org.eclipse.xtext.parser.antlr.AbstractInternalAntlrParser).\n",
      "log4j:WARN Please initialize the log4j system properly.\n",
      "log4j:WARN See http://logging.apache.org/log4j/1.2/faq.html#noconfig for more info.\n"
     ]
    },
    {
     "name": "stdout",
     "output_type": "stream",
     "text": [
      "Reading /home/sysml/conda/share/jupyter/kernels/sysml/sysml.library/Kernel Libraries/Kernel Semantic Library/Transfers.kerml...\n",
      "Reading /home/sysml/conda/share/jupyter/kernels/sysml/sysml.library/Kernel Libraries/Kernel Semantic Library/Metaobjects.kerml...\n",
      "Reading /home/sysml/conda/share/jupyter/kernels/sysml/sysml.library/Kernel Libraries/Kernel Semantic Library/Triggers.kerml...\n",
      "Reading /home/sysml/conda/share/jupyter/kernels/sysml/sysml.library/Kernel Libraries/Kernel Semantic Library/Links.kerml...\n",
      "Reading /home/sysml/conda/share/jupyter/kernels/sysml/sysml.library/Kernel Libraries/Kernel Semantic Library/Base.kerml...\n",
      "Reading /home/sysml/conda/share/jupyter/kernels/sysml/sysml.library/Kernel Libraries/Kernel Semantic Library/Objects.kerml...\n",
      "Reading /home/sysml/conda/share/jupyter/kernels/sysml/sysml.library/Kernel Libraries/Kernel Semantic Library/Clocks.kerml...\n",
      "Reading /home/sysml/conda/share/jupyter/kernels/sysml/sysml.library/Kernel Libraries/Kernel Semantic Library/KerML.kerml...\n"
     ]
    },
    {
     "name": "stdout",
     "output_type": "stream",
     "text": [
      "Reading /home/sysml/conda/share/jupyter/kernels/sysml/sysml.library/Kernel Libraries/Kernel Semantic Library/FeatureReferencingPerformances.kerml...\n",
      "Reading /home/sysml/conda/share/jupyter/kernels/sysml/sysml.library/Kernel Libraries/Kernel Semantic Library/Performances.kerml...\n",
      "Reading /home/sysml/conda/share/jupyter/kernels/sysml/sysml.library/Kernel Libraries/Kernel Semantic Library/Occurrences.kerml...\n",
      "Reading /home/sysml/conda/share/jupyter/kernels/sysml/sysml.library/Kernel Libraries/Kernel Semantic Library/ControlPerformances.kerml...\n",
      "Reading /home/sysml/conda/share/jupyter/kernels/sysml/sysml.library/Kernel Libraries/Kernel Semantic Library/StatePerformances.kerml...\n",
      "Reading /home/sysml/conda/share/jupyter/kernels/sysml/sysml.library/Kernel Libraries/Kernel Semantic Library/TransitionPerformances.kerml...\n",
      "Reading /home/sysml/conda/share/jupyter/kernels/sysml/sysml.library/Kernel Libraries/Kernel Semantic Library/SpatialFrames.kerml...\n",
      "Reading /home/sysml/conda/share/jupyter/kernels/sysml/sysml.library/Kernel Libraries/Kernel Data Type Library/VectorValues.kerml...\n",
      "Reading /home/sysml/conda/share/jupyter/kernels/sysml/sysml.library/Kernel Libraries/Kernel Data Type Library/Collections.kerml...\n",
      "Reading /home/sysml/conda/share/jupyter/kernels/sysml/sysml.library/Kernel Libraries/Kernel Data Type Library/ScalarValues.kerml...\n",
      "Reading /home/sysml/conda/share/jupyter/kernels/sysml/sysml.library/Kernel Libraries/Kernel Function Library/NaturalFunctions.kerml...\n",
      "Reading /home/sysml/conda/share/jupyter/kernels/sysml/sysml.library/Kernel Libraries/Kernel Function Library/BaseFunctions.kerml...\n",
      "Reading /home/sysml/conda/share/jupyter/kernels/sysml/sysml.library/Kernel Libraries/Kernel Function Library/DataFunctions.kerml...\n",
      "Reading /home/sysml/conda/share/jupyter/kernels/sysml/sysml.library/Kernel Libraries/Kernel Function Library/IntegerFunctions.kerml...\n",
      "Reading /home/sysml/conda/share/jupyter/kernels/sysml/sysml.library/Kernel Libraries/Kernel Function Library/RealFunctions.kerml...\n",
      "Reading /home/sysml/conda/share/jupyter/kernels/sysml/sysml.library/Kernel Libraries/Kernel Function Library/NumericalFunctions.kerml...\n"
     ]
    },
    {
     "name": "stdout",
     "output_type": "stream",
     "text": [
      "Reading /home/sysml/conda/share/jupyter/kernels/sysml/sysml.library/Kernel Libraries/Kernel Function Library/VectorFunctions.kerml...\n",
      "Reading /home/sysml/conda/share/jupyter/kernels/sysml/sysml.library/Kernel Libraries/Kernel Function Library/SequenceFunctions.kerml...\n",
      "Reading /home/sysml/conda/share/jupyter/kernels/sysml/sysml.library/Kernel Libraries/Kernel Function Library/ComplexFunctions.kerml...\n",
      "Reading /home/sysml/conda/share/jupyter/kernels/sysml/sysml.library/Kernel Libraries/Kernel Function Library/RationalFunctions.kerml...\n",
      "Reading /home/sysml/conda/share/jupyter/kernels/sysml/sysml.library/Kernel Libraries/Kernel Function Library/StringFunctions.kerml...\n",
      "Reading /home/sysml/conda/share/jupyter/kernels/sysml/sysml.library/Kernel Libraries/Kernel Function Library/ScalarFunctions.kerml...\n",
      "Reading /home/sysml/conda/share/jupyter/kernels/sysml/sysml.library/Kernel Libraries/Kernel Function Library/CollectionFunctions.kerml...\n",
      "Reading /home/sysml/conda/share/jupyter/kernels/sysml/sysml.library/Kernel Libraries/Kernel Function Library/BooleanFunctions.kerml...\n",
      "Reading /home/sysml/conda/share/jupyter/kernels/sysml/sysml.library/Kernel Libraries/Kernel Function Library/OccurrenceFunctions.kerml...\n",
      "Reading /home/sysml/conda/share/jupyter/kernels/sysml/sysml.library/Kernel Libraries/Kernel Function Library/TrigFunctions.kerml...\n",
      "Reading /home/sysml/conda/share/jupyter/kernels/sysml/sysml.library/Kernel Libraries/Kernel Function Library/ControlFunctions.kerml...\n",
      "Reading /home/sysml/conda/share/jupyter/kernels/sysml/sysml.library/Systems Library/Connections.sysml...\n"
     ]
    },
    {
     "name": "stdout",
     "output_type": "stream",
     "text": [
      "Reading /home/sysml/conda/share/jupyter/kernels/sysml/sysml.library/Systems Library/States.sysml...\n",
      "Reading /home/sysml/conda/share/jupyter/kernels/sysml/sysml.library/Systems Library/Actions.sysml...\n",
      "Reading /home/sysml/conda/share/jupyter/kernels/sysml/sysml.library/Systems Library/Metadata.sysml...\n",
      "Reading /home/sysml/conda/share/jupyter/kernels/sysml/sysml.library/Systems Library/Requirements.sysml...\n",
      "Reading /home/sysml/conda/share/jupyter/kernels/sysml/sysml.library/Systems Library/AnalysisCases.sysml...\n",
      "Reading /home/sysml/conda/share/jupyter/kernels/sysml/sysml.library/Systems Library/Attributes.sysml...\n",
      "Reading /home/sysml/conda/share/jupyter/kernels/sysml/sysml.library/Systems Library/Cases.sysml...\n",
      "Reading /home/sysml/conda/share/jupyter/kernels/sysml/sysml.library/Systems Library/VerificationCases.sysml...\n",
      "Reading /home/sysml/conda/share/jupyter/kernels/sysml/sysml.library/Systems Library/Interfaces.sysml...\n",
      "Reading /home/sysml/conda/share/jupyter/kernels/sysml/sysml.library/Systems Library/Ports.sysml...\n",
      "Reading /home/sysml/conda/share/jupyter/kernels/sysml/sysml.library/Systems Library/Views.sysml...\n",
      "Reading /home/sysml/conda/share/jupyter/kernels/sysml/sysml.library/Systems Library/UseCases.sysml...\n",
      "Reading /home/sysml/conda/share/jupyter/kernels/sysml/sysml.library/Systems Library/Parts.sysml...\n",
      "Reading /home/sysml/conda/share/jupyter/kernels/sysml/sysml.library/Systems Library/SysML.sysml...\n",
      "Reading /home/sysml/conda/share/jupyter/kernels/sysml/sysml.library/Systems Library/Constraints.sysml...\n",
      "Reading /home/sysml/conda/share/jupyter/kernels/sysml/sysml.library/Systems Library/Items.sysml...\n"
     ]
    },
    {
     "name": "stdout",
     "output_type": "stream",
     "text": [
      "Reading /home/sysml/conda/share/jupyter/kernels/sysml/sysml.library/Systems Library/Calculations.sysml...\n",
      "Reading /home/sysml/conda/share/jupyter/kernels/sysml/sysml.library/Systems Library/StandardViewDefinitions.sysml...\n",
      "Reading /home/sysml/conda/share/jupyter/kernels/sysml/sysml.library/Systems Library/Allocations.sysml...\n",
      "Reading /home/sysml/conda/share/jupyter/kernels/sysml/sysml.library/Domain Libraries/Geometry/SpatialItems.sysml...\n",
      "Reading /home/sysml/conda/share/jupyter/kernels/sysml/sysml.library/Domain Libraries/Geometry/ShapeItems.sysml...\n",
      "Reading /home/sysml/conda/share/jupyter/kernels/sysml/sysml.library/Domain Libraries/Analysis/TradeStudies.sysml...\n",
      "Reading /home/sysml/conda/share/jupyter/kernels/sysml/sysml.library/Domain Libraries/Analysis/StateSpaceRepresentation.sysml...\n",
      "Reading /home/sysml/conda/share/jupyter/kernels/sysml/sysml.library/Domain Libraries/Analysis/SampledFunctions.sysml...\n",
      "Reading /home/sysml/conda/share/jupyter/kernels/sysml/sysml.library/Domain Libraries/Analysis/AnalysisTooling.sysml...\n",
      "Reading /home/sysml/conda/share/jupyter/kernels/sysml/sysml.library/Domain Libraries/Cause and Effect/CausationConnections.sysml...\n",
      "Reading /home/sysml/conda/share/jupyter/kernels/sysml/sysml.library/Domain Libraries/Cause and Effect/CauseAndEffect.sysml...\n",
      "Reading /home/sysml/conda/share/jupyter/kernels/sysml/sysml.library/Domain Libraries/Quantities and Units/TensorCalculations.sysml...\n",
      "Reading /home/sysml/conda/share/jupyter/kernels/sysml/sysml.library/Domain Libraries/Quantities and Units/ISQSpaceTime.sysml...\n",
      "Reading /home/sysml/conda/share/jupyter/kernels/sysml/sysml.library/Domain Libraries/Quantities and Units/ISQElectromagnetism.sysml...\n"
     ]
    },
    {
     "name": "stdout",
     "output_type": "stream",
     "text": [
      "Reading /home/sysml/conda/share/jupyter/kernels/sysml/sysml.library/Domain Libraries/Quantities and Units/USCustomaryUnits.sysml...\n",
      "Reading /home/sysml/conda/share/jupyter/kernels/sysml/sysml.library/Domain Libraries/Quantities and Units/Time.sysml...\n",
      "Reading /home/sysml/conda/share/jupyter/kernels/sysml/sysml.library/Domain Libraries/Quantities and Units/MeasurementReferences.sysml...\n",
      "Reading /home/sysml/conda/share/jupyter/kernels/sysml/sysml.library/Domain Libraries/Quantities and Units/ISQBase.sysml...\n",
      "Reading /home/sysml/conda/share/jupyter/kernels/sysml/sysml.library/Domain Libraries/Quantities and Units/ISQCondensedMatter.sysml...\n",
      "Reading /home/sysml/conda/share/jupyter/kernels/sysml/sysml.library/Domain Libraries/Quantities and Units/ISQMechanics.sysml...\n",
      "Reading /home/sysml/conda/share/jupyter/kernels/sysml/sysml.library/Domain Libraries/Quantities and Units/SI.sysml...\n",
      "Reading /home/sysml/conda/share/jupyter/kernels/sysml/sysml.library/Domain Libraries/Quantities and Units/ISQCharacteristicNumbers.sysml...\n",
      "Reading /home/sysml/conda/share/jupyter/kernels/sysml/sysml.library/Domain Libraries/Quantities and Units/QuantityCalculations.sysml...\n",
      "Reading /home/sysml/conda/share/jupyter/kernels/sysml/sysml.library/Domain Libraries/Quantities and Units/MeasurementRefCalculations.sysml...\n",
      "Reading /home/sysml/conda/share/jupyter/kernels/sysml/sysml.library/Domain Libraries/Quantities and Units/ISQAtomicNuclear.sysml...\n"
     ]
    },
    {
     "name": "stdout",
     "output_type": "stream",
     "text": [
      "Reading /home/sysml/conda/share/jupyter/kernels/sysml/sysml.library/Domain Libraries/Quantities and Units/ISQ.sysml...\n",
      "Reading /home/sysml/conda/share/jupyter/kernels/sysml/sysml.library/Domain Libraries/Quantities and Units/ISQAcoustics.sysml...\n",
      "Reading /home/sysml/conda/share/jupyter/kernels/sysml/sysml.library/Domain Libraries/Quantities and Units/ISQLight.sysml...\n",
      "Reading /home/sysml/conda/share/jupyter/kernels/sysml/sysml.library/Domain Libraries/Quantities and Units/ISQInformation.sysml...\n",
      "Reading /home/sysml/conda/share/jupyter/kernels/sysml/sysml.library/Domain Libraries/Quantities and Units/ISQThermodynamics.sysml...\n",
      "Reading /home/sysml/conda/share/jupyter/kernels/sysml/sysml.library/Domain Libraries/Quantities and Units/SIPrefixes.sysml...\n",
      "Reading /home/sysml/conda/share/jupyter/kernels/sysml/sysml.library/Domain Libraries/Quantities and Units/VectorCalculations.sysml...\n",
      "Reading /home/sysml/conda/share/jupyter/kernels/sysml/sysml.library/Domain Libraries/Quantities and Units/ISQChemistryMolecular.sysml...\n",
      "Reading /home/sysml/conda/share/jupyter/kernels/sysml/sysml.library/Domain Libraries/Quantities and Units/Quantities.sysml...\n",
      "Reading /home/sysml/conda/share/jupyter/kernels/sysml/sysml.library/Domain Libraries/Metadata/ImageMetadata.sysml...\n",
      "Reading /home/sysml/conda/share/jupyter/kernels/sysml/sysml.library/Domain Libraries/Metadata/ModelingMetadata.sysml...\n",
      "Reading /home/sysml/conda/share/jupyter/kernels/sysml/sysml.library/Domain Libraries/Metadata/ParametersOfInterestMetadata.sysml...\n",
      "Reading /home/sysml/conda/share/jupyter/kernels/sysml/sysml.library/Domain Libraries/Metadata/RiskMetadata.sysml...\n",
      "Reading /home/sysml/conda/share/jupyter/kernels/sysml/sysml.library/Domain Libraries/Requirement Derivation/RequirementDerivation.sysml...\n",
      "Reading /home/sysml/conda/share/jupyter/kernels/sysml/sysml.library/Domain Libraries/Requirement Derivation/DerivationConnections.sysml...\n"
     ]
    },
    {
     "name": "stderr",
     "output_type": "stream",
     "text": [
      "Dec 16, 2024 3:25:19 AM io.github.spencerpark.jupyter.channels.Loop start\n",
      "INFO: Loop starting...\n",
      "Dec 16, 2024 3:25:19 AM io.github.spencerpark.jupyter.channels.Loop start\n",
      "INFO: Loop started.\n",
      "Dec 16, 2024 3:25:19 AM io.github.spencerpark.jupyter.channels.Loop start\n",
      "INFO: Loop starting...\n",
      "Dec 16, 2024 3:25:19 AM io.github.spencerpark.jupyter.channels.Loop start\n",
      "INFO: Loop started.\n",
      "Dec 16, 2024 3:25:19 AM io.github.spencerpark.jupyter.channels.Loop start\n",
      "INFO: Loop starting...\n",
      "Dec 16, 2024 3:25:19 AM io.github.spencerpark.jupyter.channels.Loop start\n",
      "INFO: Loop started.\n"
     ]
    },
    {
     "name": "stderr",
     "output_type": "stream",
     "text": [
      "Dec 16, 2024 3:25:25 AM io.github.spencerpark.jupyter.channels.Loop shutdown\n",
      "INFO: Loop shutdown.\n",
      "Dec 16, 2024 3:25:25 AM io.github.spencerpark.jupyter.channels.Loop shutdown\n",
      "INFO: Loop shutdown.\n",
      "Dec 16, 2024 3:25:25 AM io.github.spencerpark.jupyter.channels.Loop shutdown\n",
      "INFO: Loop shutdown.\n",
      "Dec 16, 2024 3:25:25 AM io.github.spencerpark.jupyter.channels.Loop run\n",
      "INFO: Running loop shutdown callback.\n",
      "Dec 16, 2024 3:25:25 AM io.github.spencerpark.jupyter.channels.Loop run\n",
      "INFO: Running loop shutdown callback.\n",
      "Dec 16, 2024 3:25:25 AM io.github.spencerpark.jupyter.channels.Loop run\n",
      "INFO: Loop stopped.\n",
      "Dec 16, 2024 3:25:25 AM io.github.spencerpark.jupyter.channels.Loop run\n",
      "INFO: Loop stopped.\n",
      "Dec 16, 2024 3:25:26 AM io.github.spencerpark.jupyter.channels.Loop run\n",
      "INFO: Running loop shutdown callback.\n",
      "Dec 16, 2024 3:25:26 AM io.github.spencerpark.jupyter.channels.Loop run\n",
      "INFO: Loop stopped.\n"
     ]
    },
    {
     "name": "stdout",
     "output_type": "stream",
     "text": [
      "Signing notebook: TestSuite/VerificationTest.ipynb\n",
      "Executing: TestSuite/CircularImport.ipynb\n"
     ]
    },
    {
     "name": "stderr",
     "output_type": "stream",
     "text": [
      "/home/sysml/conda/lib/python3.12/site-packages/nbformat/__init__.py:96: MissingIDFieldWarning: Cell is missing an id field, this will become a hard error in future nbformat versions. You may want to use `normalize()` on your notebooks before validations (available since nbformat 5.1.4). Previous versions of nbformat are fixing this issue transparently, and will stop doing so in the future.\n",
      "  validate(nb)\n"
     ]
    },
    {
     "name": "stdout",
     "output_type": "stream",
     "text": [
      "Reading /home/sysml/conda/share/jupyter/kernels/sysml/sysml.library/Kernel Libraries/Kernel Semantic Library/Observation.kerml...\n"
     ]
    },
    {
     "name": "stderr",
     "output_type": "stream",
     "text": [
      "log4j:WARN No appenders could be found for logger (org.eclipse.xtext.parser.antlr.AbstractInternalAntlrParser).\n",
      "log4j:WARN Please initialize the log4j system properly.\n",
      "log4j:WARN See http://logging.apache.org/log4j/1.2/faq.html#noconfig for more info.\n"
     ]
    },
    {
     "name": "stdout",
     "output_type": "stream",
     "text": [
      "Reading /home/sysml/conda/share/jupyter/kernels/sysml/sysml.library/Kernel Libraries/Kernel Semantic Library/Transfers.kerml...\n",
      "Reading /home/sysml/conda/share/jupyter/kernels/sysml/sysml.library/Kernel Libraries/Kernel Semantic Library/Metaobjects.kerml...\n",
      "Reading /home/sysml/conda/share/jupyter/kernels/sysml/sysml.library/Kernel Libraries/Kernel Semantic Library/Triggers.kerml...\n",
      "Reading /home/sysml/conda/share/jupyter/kernels/sysml/sysml.library/Kernel Libraries/Kernel Semantic Library/Links.kerml...\n",
      "Reading /home/sysml/conda/share/jupyter/kernels/sysml/sysml.library/Kernel Libraries/Kernel Semantic Library/Base.kerml...\n",
      "Reading /home/sysml/conda/share/jupyter/kernels/sysml/sysml.library/Kernel Libraries/Kernel Semantic Library/Objects.kerml...\n",
      "Reading /home/sysml/conda/share/jupyter/kernels/sysml/sysml.library/Kernel Libraries/Kernel Semantic Library/Clocks.kerml...\n",
      "Reading /home/sysml/conda/share/jupyter/kernels/sysml/sysml.library/Kernel Libraries/Kernel Semantic Library/KerML.kerml...\n"
     ]
    },
    {
     "name": "stdout",
     "output_type": "stream",
     "text": [
      "Reading /home/sysml/conda/share/jupyter/kernels/sysml/sysml.library/Kernel Libraries/Kernel Semantic Library/FeatureReferencingPerformances.kerml...\n",
      "Reading /home/sysml/conda/share/jupyter/kernels/sysml/sysml.library/Kernel Libraries/Kernel Semantic Library/Performances.kerml...\n",
      "Reading /home/sysml/conda/share/jupyter/kernels/sysml/sysml.library/Kernel Libraries/Kernel Semantic Library/Occurrences.kerml...\n",
      "Reading /home/sysml/conda/share/jupyter/kernels/sysml/sysml.library/Kernel Libraries/Kernel Semantic Library/ControlPerformances.kerml...\n",
      "Reading /home/sysml/conda/share/jupyter/kernels/sysml/sysml.library/Kernel Libraries/Kernel Semantic Library/StatePerformances.kerml...\n",
      "Reading /home/sysml/conda/share/jupyter/kernels/sysml/sysml.library/Kernel Libraries/Kernel Semantic Library/TransitionPerformances.kerml...\n",
      "Reading /home/sysml/conda/share/jupyter/kernels/sysml/sysml.library/Kernel Libraries/Kernel Semantic Library/SpatialFrames.kerml...\n",
      "Reading /home/sysml/conda/share/jupyter/kernels/sysml/sysml.library/Kernel Libraries/Kernel Data Type Library/VectorValues.kerml...\n",
      "Reading /home/sysml/conda/share/jupyter/kernels/sysml/sysml.library/Kernel Libraries/Kernel Data Type Library/Collections.kerml...\n",
      "Reading /home/sysml/conda/share/jupyter/kernels/sysml/sysml.library/Kernel Libraries/Kernel Data Type Library/ScalarValues.kerml...\n",
      "Reading /home/sysml/conda/share/jupyter/kernels/sysml/sysml.library/Kernel Libraries/Kernel Function Library/NaturalFunctions.kerml...\n",
      "Reading /home/sysml/conda/share/jupyter/kernels/sysml/sysml.library/Kernel Libraries/Kernel Function Library/BaseFunctions.kerml...\n",
      "Reading /home/sysml/conda/share/jupyter/kernels/sysml/sysml.library/Kernel Libraries/Kernel Function Library/DataFunctions.kerml...\n",
      "Reading /home/sysml/conda/share/jupyter/kernels/sysml/sysml.library/Kernel Libraries/Kernel Function Library/IntegerFunctions.kerml...\n",
      "Reading /home/sysml/conda/share/jupyter/kernels/sysml/sysml.library/Kernel Libraries/Kernel Function Library/RealFunctions.kerml...\n",
      "Reading /home/sysml/conda/share/jupyter/kernels/sysml/sysml.library/Kernel Libraries/Kernel Function Library/NumericalFunctions.kerml...\n"
     ]
    },
    {
     "name": "stdout",
     "output_type": "stream",
     "text": [
      "Reading /home/sysml/conda/share/jupyter/kernels/sysml/sysml.library/Kernel Libraries/Kernel Function Library/VectorFunctions.kerml...\n",
      "Reading /home/sysml/conda/share/jupyter/kernels/sysml/sysml.library/Kernel Libraries/Kernel Function Library/SequenceFunctions.kerml...\n",
      "Reading /home/sysml/conda/share/jupyter/kernels/sysml/sysml.library/Kernel Libraries/Kernel Function Library/ComplexFunctions.kerml...\n",
      "Reading /home/sysml/conda/share/jupyter/kernels/sysml/sysml.library/Kernel Libraries/Kernel Function Library/RationalFunctions.kerml...\n",
      "Reading /home/sysml/conda/share/jupyter/kernels/sysml/sysml.library/Kernel Libraries/Kernel Function Library/StringFunctions.kerml...\n",
      "Reading /home/sysml/conda/share/jupyter/kernels/sysml/sysml.library/Kernel Libraries/Kernel Function Library/ScalarFunctions.kerml...\n",
      "Reading /home/sysml/conda/share/jupyter/kernels/sysml/sysml.library/Kernel Libraries/Kernel Function Library/CollectionFunctions.kerml...\n",
      "Reading /home/sysml/conda/share/jupyter/kernels/sysml/sysml.library/Kernel Libraries/Kernel Function Library/BooleanFunctions.kerml...\n",
      "Reading /home/sysml/conda/share/jupyter/kernels/sysml/sysml.library/Kernel Libraries/Kernel Function Library/OccurrenceFunctions.kerml...\n",
      "Reading /home/sysml/conda/share/jupyter/kernels/sysml/sysml.library/Kernel Libraries/Kernel Function Library/TrigFunctions.kerml...\n",
      "Reading /home/sysml/conda/share/jupyter/kernels/sysml/sysml.library/Kernel Libraries/Kernel Function Library/ControlFunctions.kerml...\n",
      "Reading /home/sysml/conda/share/jupyter/kernels/sysml/sysml.library/Systems Library/Connections.sysml...\n"
     ]
    },
    {
     "name": "stdout",
     "output_type": "stream",
     "text": [
      "Reading /home/sysml/conda/share/jupyter/kernels/sysml/sysml.library/Systems Library/States.sysml...\n",
      "Reading /home/sysml/conda/share/jupyter/kernels/sysml/sysml.library/Systems Library/Actions.sysml...\n",
      "Reading /home/sysml/conda/share/jupyter/kernels/sysml/sysml.library/Systems Library/Metadata.sysml...\n",
      "Reading /home/sysml/conda/share/jupyter/kernels/sysml/sysml.library/Systems Library/Requirements.sysml...\n",
      "Reading /home/sysml/conda/share/jupyter/kernels/sysml/sysml.library/Systems Library/AnalysisCases.sysml...\n",
      "Reading /home/sysml/conda/share/jupyter/kernels/sysml/sysml.library/Systems Library/Attributes.sysml...\n",
      "Reading /home/sysml/conda/share/jupyter/kernels/sysml/sysml.library/Systems Library/Cases.sysml...\n",
      "Reading /home/sysml/conda/share/jupyter/kernels/sysml/sysml.library/Systems Library/VerificationCases.sysml...\n",
      "Reading /home/sysml/conda/share/jupyter/kernels/sysml/sysml.library/Systems Library/Interfaces.sysml...\n",
      "Reading /home/sysml/conda/share/jupyter/kernels/sysml/sysml.library/Systems Library/Ports.sysml...\n",
      "Reading /home/sysml/conda/share/jupyter/kernels/sysml/sysml.library/Systems Library/Views.sysml...\n",
      "Reading /home/sysml/conda/share/jupyter/kernels/sysml/sysml.library/Systems Library/UseCases.sysml...\n",
      "Reading /home/sysml/conda/share/jupyter/kernels/sysml/sysml.library/Systems Library/Parts.sysml...\n",
      "Reading /home/sysml/conda/share/jupyter/kernels/sysml/sysml.library/Systems Library/SysML.sysml...\n",
      "Reading /home/sysml/conda/share/jupyter/kernels/sysml/sysml.library/Systems Library/Constraints.sysml...\n",
      "Reading /home/sysml/conda/share/jupyter/kernels/sysml/sysml.library/Systems Library/Items.sysml...\n",
      "Reading /home/sysml/conda/share/jupyter/kernels/sysml/sysml.library/Systems Library/Calculations.sysml...\n",
      "Reading /home/sysml/conda/share/jupyter/kernels/sysml/sysml.library/Systems Library/StandardViewDefinitions.sysml...\n",
      "Reading /home/sysml/conda/share/jupyter/kernels/sysml/sysml.library/Systems Library/Allocations.sysml...\n",
      "Reading /home/sysml/conda/share/jupyter/kernels/sysml/sysml.library/Domain Libraries/Geometry/SpatialItems.sysml...\n"
     ]
    },
    {
     "name": "stdout",
     "output_type": "stream",
     "text": [
      "Reading /home/sysml/conda/share/jupyter/kernels/sysml/sysml.library/Domain Libraries/Geometry/ShapeItems.sysml...\n",
      "Reading /home/sysml/conda/share/jupyter/kernels/sysml/sysml.library/Domain Libraries/Analysis/TradeStudies.sysml...\n",
      "Reading /home/sysml/conda/share/jupyter/kernels/sysml/sysml.library/Domain Libraries/Analysis/StateSpaceRepresentation.sysml...\n",
      "Reading /home/sysml/conda/share/jupyter/kernels/sysml/sysml.library/Domain Libraries/Analysis/SampledFunctions.sysml...\n",
      "Reading /home/sysml/conda/share/jupyter/kernels/sysml/sysml.library/Domain Libraries/Analysis/AnalysisTooling.sysml...\n",
      "Reading /home/sysml/conda/share/jupyter/kernels/sysml/sysml.library/Domain Libraries/Cause and Effect/CausationConnections.sysml...\n",
      "Reading /home/sysml/conda/share/jupyter/kernels/sysml/sysml.library/Domain Libraries/Cause and Effect/CauseAndEffect.sysml...\n",
      "Reading /home/sysml/conda/share/jupyter/kernels/sysml/sysml.library/Domain Libraries/Quantities and Units/TensorCalculations.sysml...\n",
      "Reading /home/sysml/conda/share/jupyter/kernels/sysml/sysml.library/Domain Libraries/Quantities and Units/ISQSpaceTime.sysml...\n",
      "Reading /home/sysml/conda/share/jupyter/kernels/sysml/sysml.library/Domain Libraries/Quantities and Units/ISQElectromagnetism.sysml...\n"
     ]
    },
    {
     "name": "stdout",
     "output_type": "stream",
     "text": [
      "Reading /home/sysml/conda/share/jupyter/kernels/sysml/sysml.library/Domain Libraries/Quantities and Units/USCustomaryUnits.sysml...\n",
      "Reading /home/sysml/conda/share/jupyter/kernels/sysml/sysml.library/Domain Libraries/Quantities and Units/Time.sysml...\n",
      "Reading /home/sysml/conda/share/jupyter/kernels/sysml/sysml.library/Domain Libraries/Quantities and Units/MeasurementReferences.sysml...\n",
      "Reading /home/sysml/conda/share/jupyter/kernels/sysml/sysml.library/Domain Libraries/Quantities and Units/ISQBase.sysml...\n",
      "Reading /home/sysml/conda/share/jupyter/kernels/sysml/sysml.library/Domain Libraries/Quantities and Units/ISQCondensedMatter.sysml...\n",
      "Reading /home/sysml/conda/share/jupyter/kernels/sysml/sysml.library/Domain Libraries/Quantities and Units/ISQMechanics.sysml...\n",
      "Reading /home/sysml/conda/share/jupyter/kernels/sysml/sysml.library/Domain Libraries/Quantities and Units/SI.sysml...\n",
      "Reading /home/sysml/conda/share/jupyter/kernels/sysml/sysml.library/Domain Libraries/Quantities and Units/ISQCharacteristicNumbers.sysml...\n",
      "Reading /home/sysml/conda/share/jupyter/kernels/sysml/sysml.library/Domain Libraries/Quantities and Units/QuantityCalculations.sysml...\n",
      "Reading /home/sysml/conda/share/jupyter/kernels/sysml/sysml.library/Domain Libraries/Quantities and Units/MeasurementRefCalculations.sysml...\n",
      "Reading /home/sysml/conda/share/jupyter/kernels/sysml/sysml.library/Domain Libraries/Quantities and Units/ISQAtomicNuclear.sysml...\n"
     ]
    },
    {
     "name": "stdout",
     "output_type": "stream",
     "text": [
      "Reading /home/sysml/conda/share/jupyter/kernels/sysml/sysml.library/Domain Libraries/Quantities and Units/ISQ.sysml...\n",
      "Reading /home/sysml/conda/share/jupyter/kernels/sysml/sysml.library/Domain Libraries/Quantities and Units/ISQAcoustics.sysml...\n",
      "Reading /home/sysml/conda/share/jupyter/kernels/sysml/sysml.library/Domain Libraries/Quantities and Units/ISQLight.sysml...\n",
      "Reading /home/sysml/conda/share/jupyter/kernels/sysml/sysml.library/Domain Libraries/Quantities and Units/ISQInformation.sysml...\n",
      "Reading /home/sysml/conda/share/jupyter/kernels/sysml/sysml.library/Domain Libraries/Quantities and Units/ISQThermodynamics.sysml...\n",
      "Reading /home/sysml/conda/share/jupyter/kernels/sysml/sysml.library/Domain Libraries/Quantities and Units/SIPrefixes.sysml...\n",
      "Reading /home/sysml/conda/share/jupyter/kernels/sysml/sysml.library/Domain Libraries/Quantities and Units/VectorCalculations.sysml...\n",
      "Reading /home/sysml/conda/share/jupyter/kernels/sysml/sysml.library/Domain Libraries/Quantities and Units/ISQChemistryMolecular.sysml...\n",
      "Reading /home/sysml/conda/share/jupyter/kernels/sysml/sysml.library/Domain Libraries/Quantities and Units/Quantities.sysml...\n",
      "Reading /home/sysml/conda/share/jupyter/kernels/sysml/sysml.library/Domain Libraries/Metadata/ImageMetadata.sysml...\n",
      "Reading /home/sysml/conda/share/jupyter/kernels/sysml/sysml.library/Domain Libraries/Metadata/ModelingMetadata.sysml...\n",
      "Reading /home/sysml/conda/share/jupyter/kernels/sysml/sysml.library/Domain Libraries/Metadata/ParametersOfInterestMetadata.sysml...\n",
      "Reading /home/sysml/conda/share/jupyter/kernels/sysml/sysml.library/Domain Libraries/Metadata/RiskMetadata.sysml...\n",
      "Reading /home/sysml/conda/share/jupyter/kernels/sysml/sysml.library/Domain Libraries/Requirement Derivation/RequirementDerivation.sysml...\n",
      "Reading /home/sysml/conda/share/jupyter/kernels/sysml/sysml.library/Domain Libraries/Requirement Derivation/DerivationConnections.sysml...\n"
     ]
    },
    {
     "name": "stderr",
     "output_type": "stream",
     "text": [
      "Dec 16, 2024 3:25:30 AM io.github.spencerpark.jupyter.channels.Loop start\n",
      "INFO: Loop starting...\n",
      "Dec 16, 2024 3:25:30 AM io.github.spencerpark.jupyter.channels.Loop start\n",
      "INFO: Loop started.\n",
      "Dec 16, 2024 3:25:30 AM io.github.spencerpark.jupyter.channels.Loop start\n",
      "INFO: Loop starting...\n",
      "Dec 16, 2024 3:25:30 AM io.github.spencerpark.jupyter.channels.Loop start\n",
      "INFO: Loop started.\n",
      "Dec 16, 2024 3:25:30 AM io.github.spencerpark.jupyter.channels.Loop start\n",
      "INFO: Loop starting...\n",
      "Dec 16, 2024 3:25:30 AM io.github.spencerpark.jupyter.channels.Loop start\n",
      "INFO: Loop started.\n"
     ]
    },
    {
     "name": "stderr",
     "output_type": "stream",
     "text": [
      "Dec 16, 2024 3:25:35 AM io.github.spencerpark.jupyter.channels.Loop shutdown\n",
      "INFO: Loop shutdown.\n",
      "Dec 16, 2024 3:25:35 AM io.github.spencerpark.jupyter.channels.Loop shutdown\n",
      "INFO: Loop shutdown.\n",
      "Dec 16, 2024 3:25:35 AM io.github.spencerpark.jupyter.channels.Loop shutdown\n",
      "INFO: Loop shutdown.\n",
      "Dec 16, 2024 3:25:35 AM io.github.spencerpark.jupyter.channels.Loop run\n",
      "INFO: Running loop shutdown callback.\n",
      "Dec 16, 2024 3:25:35 AM io.github.spencerpark.jupyter.channels.Loop run\n",
      "INFO: Loop stopped.\n",
      "Dec 16, 2024 3:25:35 AM io.github.spencerpark.jupyter.channels.Loop run\n",
      "INFO: Running loop shutdown callback.\n",
      "Dec 16, 2024 3:25:35 AM io.github.spencerpark.jupyter.channels.Loop run\n",
      "INFO: Loop stopped.\n",
      "Dec 16, 2024 3:25:35 AM io.github.spencerpark.jupyter.channels.Loop run\n",
      "INFO: Running loop shutdown callback.\n",
      "Dec 16, 2024 3:25:35 AM io.github.spencerpark.jupyter.channels.Loop run\n",
      "INFO: Loop stopped.\n"
     ]
    },
    {
     "name": "stdout",
     "output_type": "stream",
     "text": [
      "Signing notebook: TestSuite/CircularImport.ipynb\n",
      "Executing: TestSuite/QualifiedNameImportTest.ipynb\n"
     ]
    },
    {
     "name": "stderr",
     "output_type": "stream",
     "text": [
      "/home/sysml/conda/lib/python3.12/site-packages/nbformat/__init__.py:96: MissingIDFieldWarning: Cell is missing an id field, this will become a hard error in future nbformat versions. You may want to use `normalize()` on your notebooks before validations (available since nbformat 5.1.4). Previous versions of nbformat are fixing this issue transparently, and will stop doing so in the future.\n",
      "  validate(nb)\n"
     ]
    },
    {
     "name": "stdout",
     "output_type": "stream",
     "text": [
      "Reading /home/sysml/conda/share/jupyter/kernels/sysml/sysml.library/Kernel Libraries/Kernel Semantic Library/Observation.kerml...\n"
     ]
    },
    {
     "name": "stderr",
     "output_type": "stream",
     "text": [
      "log4j:WARN No appenders could be found for logger (org.eclipse.xtext.parser.antlr.AbstractInternalAntlrParser).\n",
      "log4j:WARN Please initialize the log4j system properly.\n",
      "log4j:WARN See http://logging.apache.org/log4j/1.2/faq.html#noconfig for more info.\n"
     ]
    },
    {
     "name": "stdout",
     "output_type": "stream",
     "text": [
      "Reading /home/sysml/conda/share/jupyter/kernels/sysml/sysml.library/Kernel Libraries/Kernel Semantic Library/Transfers.kerml...\n",
      "Reading /home/sysml/conda/share/jupyter/kernels/sysml/sysml.library/Kernel Libraries/Kernel Semantic Library/Metaobjects.kerml...\n",
      "Reading /home/sysml/conda/share/jupyter/kernels/sysml/sysml.library/Kernel Libraries/Kernel Semantic Library/Triggers.kerml...\n",
      "Reading /home/sysml/conda/share/jupyter/kernels/sysml/sysml.library/Kernel Libraries/Kernel Semantic Library/Links.kerml...\n",
      "Reading /home/sysml/conda/share/jupyter/kernels/sysml/sysml.library/Kernel Libraries/Kernel Semantic Library/Base.kerml...\n",
      "Reading /home/sysml/conda/share/jupyter/kernels/sysml/sysml.library/Kernel Libraries/Kernel Semantic Library/Objects.kerml...\n",
      "Reading /home/sysml/conda/share/jupyter/kernels/sysml/sysml.library/Kernel Libraries/Kernel Semantic Library/Clocks.kerml...\n",
      "Reading /home/sysml/conda/share/jupyter/kernels/sysml/sysml.library/Kernel Libraries/Kernel Semantic Library/KerML.kerml...\n"
     ]
    },
    {
     "name": "stdout",
     "output_type": "stream",
     "text": [
      "Reading /home/sysml/conda/share/jupyter/kernels/sysml/sysml.library/Kernel Libraries/Kernel Semantic Library/FeatureReferencingPerformances.kerml...\n",
      "Reading /home/sysml/conda/share/jupyter/kernels/sysml/sysml.library/Kernel Libraries/Kernel Semantic Library/Performances.kerml...\n",
      "Reading /home/sysml/conda/share/jupyter/kernels/sysml/sysml.library/Kernel Libraries/Kernel Semantic Library/Occurrences.kerml...\n",
      "Reading /home/sysml/conda/share/jupyter/kernels/sysml/sysml.library/Kernel Libraries/Kernel Semantic Library/ControlPerformances.kerml...\n",
      "Reading /home/sysml/conda/share/jupyter/kernels/sysml/sysml.library/Kernel Libraries/Kernel Semantic Library/StatePerformances.kerml...\n",
      "Reading /home/sysml/conda/share/jupyter/kernels/sysml/sysml.library/Kernel Libraries/Kernel Semantic Library/TransitionPerformances.kerml...\n",
      "Reading /home/sysml/conda/share/jupyter/kernels/sysml/sysml.library/Kernel Libraries/Kernel Semantic Library/SpatialFrames.kerml...\n",
      "Reading /home/sysml/conda/share/jupyter/kernels/sysml/sysml.library/Kernel Libraries/Kernel Data Type Library/VectorValues.kerml...\n",
      "Reading /home/sysml/conda/share/jupyter/kernels/sysml/sysml.library/Kernel Libraries/Kernel Data Type Library/Collections.kerml...\n",
      "Reading /home/sysml/conda/share/jupyter/kernels/sysml/sysml.library/Kernel Libraries/Kernel Data Type Library/ScalarValues.kerml...\n",
      "Reading /home/sysml/conda/share/jupyter/kernels/sysml/sysml.library/Kernel Libraries/Kernel Function Library/NaturalFunctions.kerml...\n",
      "Reading /home/sysml/conda/share/jupyter/kernels/sysml/sysml.library/Kernel Libraries/Kernel Function Library/BaseFunctions.kerml...\n",
      "Reading /home/sysml/conda/share/jupyter/kernels/sysml/sysml.library/Kernel Libraries/Kernel Function Library/DataFunctions.kerml...\n",
      "Reading /home/sysml/conda/share/jupyter/kernels/sysml/sysml.library/Kernel Libraries/Kernel Function Library/IntegerFunctions.kerml...\n"
     ]
    },
    {
     "name": "stdout",
     "output_type": "stream",
     "text": [
      "Reading /home/sysml/conda/share/jupyter/kernels/sysml/sysml.library/Kernel Libraries/Kernel Function Library/RealFunctions.kerml...\n",
      "Reading /home/sysml/conda/share/jupyter/kernels/sysml/sysml.library/Kernel Libraries/Kernel Function Library/NumericalFunctions.kerml...\n",
      "Reading /home/sysml/conda/share/jupyter/kernels/sysml/sysml.library/Kernel Libraries/Kernel Function Library/VectorFunctions.kerml...\n",
      "Reading /home/sysml/conda/share/jupyter/kernels/sysml/sysml.library/Kernel Libraries/Kernel Function Library/SequenceFunctions.kerml...\n",
      "Reading /home/sysml/conda/share/jupyter/kernels/sysml/sysml.library/Kernel Libraries/Kernel Function Library/ComplexFunctions.kerml...\n",
      "Reading /home/sysml/conda/share/jupyter/kernels/sysml/sysml.library/Kernel Libraries/Kernel Function Library/RationalFunctions.kerml...\n",
      "Reading /home/sysml/conda/share/jupyter/kernels/sysml/sysml.library/Kernel Libraries/Kernel Function Library/StringFunctions.kerml...\n",
      "Reading /home/sysml/conda/share/jupyter/kernels/sysml/sysml.library/Kernel Libraries/Kernel Function Library/ScalarFunctions.kerml...\n",
      "Reading /home/sysml/conda/share/jupyter/kernels/sysml/sysml.library/Kernel Libraries/Kernel Function Library/CollectionFunctions.kerml...\n",
      "Reading /home/sysml/conda/share/jupyter/kernels/sysml/sysml.library/Kernel Libraries/Kernel Function Library/BooleanFunctions.kerml...\n",
      "Reading /home/sysml/conda/share/jupyter/kernels/sysml/sysml.library/Kernel Libraries/Kernel Function Library/OccurrenceFunctions.kerml...\n",
      "Reading /home/sysml/conda/share/jupyter/kernels/sysml/sysml.library/Kernel Libraries/Kernel Function Library/TrigFunctions.kerml...\n",
      "Reading /home/sysml/conda/share/jupyter/kernels/sysml/sysml.library/Kernel Libraries/Kernel Function Library/ControlFunctions.kerml...\n",
      "Reading /home/sysml/conda/share/jupyter/kernels/sysml/sysml.library/Systems Library/Connections.sysml...\n"
     ]
    },
    {
     "name": "stdout",
     "output_type": "stream",
     "text": [
      "Reading /home/sysml/conda/share/jupyter/kernels/sysml/sysml.library/Systems Library/States.sysml...\n",
      "Reading /home/sysml/conda/share/jupyter/kernels/sysml/sysml.library/Systems Library/Actions.sysml...\n",
      "Reading /home/sysml/conda/share/jupyter/kernels/sysml/sysml.library/Systems Library/Metadata.sysml...\n",
      "Reading /home/sysml/conda/share/jupyter/kernels/sysml/sysml.library/Systems Library/Requirements.sysml...\n",
      "Reading /home/sysml/conda/share/jupyter/kernels/sysml/sysml.library/Systems Library/AnalysisCases.sysml...\n",
      "Reading /home/sysml/conda/share/jupyter/kernels/sysml/sysml.library/Systems Library/Attributes.sysml...\n",
      "Reading /home/sysml/conda/share/jupyter/kernels/sysml/sysml.library/Systems Library/Cases.sysml...\n",
      "Reading /home/sysml/conda/share/jupyter/kernels/sysml/sysml.library/Systems Library/VerificationCases.sysml...\n",
      "Reading /home/sysml/conda/share/jupyter/kernels/sysml/sysml.library/Systems Library/Interfaces.sysml...\n",
      "Reading /home/sysml/conda/share/jupyter/kernels/sysml/sysml.library/Systems Library/Ports.sysml...\n",
      "Reading /home/sysml/conda/share/jupyter/kernels/sysml/sysml.library/Systems Library/Views.sysml...\n",
      "Reading /home/sysml/conda/share/jupyter/kernels/sysml/sysml.library/Systems Library/UseCases.sysml...\n",
      "Reading /home/sysml/conda/share/jupyter/kernels/sysml/sysml.library/Systems Library/Parts.sysml...\n",
      "Reading /home/sysml/conda/share/jupyter/kernels/sysml/sysml.library/Systems Library/SysML.sysml...\n",
      "Reading /home/sysml/conda/share/jupyter/kernels/sysml/sysml.library/Systems Library/Constraints.sysml...\n",
      "Reading /home/sysml/conda/share/jupyter/kernels/sysml/sysml.library/Systems Library/Items.sysml...\n",
      "Reading /home/sysml/conda/share/jupyter/kernels/sysml/sysml.library/Systems Library/Calculations.sysml...\n",
      "Reading /home/sysml/conda/share/jupyter/kernels/sysml/sysml.library/Systems Library/StandardViewDefinitions.sysml...\n",
      "Reading /home/sysml/conda/share/jupyter/kernels/sysml/sysml.library/Systems Library/Allocations.sysml...\n",
      "Reading /home/sysml/conda/share/jupyter/kernels/sysml/sysml.library/Domain Libraries/Geometry/SpatialItems.sysml...\n"
     ]
    },
    {
     "name": "stdout",
     "output_type": "stream",
     "text": [
      "Reading /home/sysml/conda/share/jupyter/kernels/sysml/sysml.library/Domain Libraries/Geometry/ShapeItems.sysml...\n",
      "Reading /home/sysml/conda/share/jupyter/kernels/sysml/sysml.library/Domain Libraries/Analysis/TradeStudies.sysml...\n",
      "Reading /home/sysml/conda/share/jupyter/kernels/sysml/sysml.library/Domain Libraries/Analysis/StateSpaceRepresentation.sysml...\n",
      "Reading /home/sysml/conda/share/jupyter/kernels/sysml/sysml.library/Domain Libraries/Analysis/SampledFunctions.sysml...\n",
      "Reading /home/sysml/conda/share/jupyter/kernels/sysml/sysml.library/Domain Libraries/Analysis/AnalysisTooling.sysml...\n",
      "Reading /home/sysml/conda/share/jupyter/kernels/sysml/sysml.library/Domain Libraries/Cause and Effect/CausationConnections.sysml...\n",
      "Reading /home/sysml/conda/share/jupyter/kernels/sysml/sysml.library/Domain Libraries/Cause and Effect/CauseAndEffect.sysml...\n",
      "Reading /home/sysml/conda/share/jupyter/kernels/sysml/sysml.library/Domain Libraries/Quantities and Units/TensorCalculations.sysml...\n",
      "Reading /home/sysml/conda/share/jupyter/kernels/sysml/sysml.library/Domain Libraries/Quantities and Units/ISQSpaceTime.sysml...\n",
      "Reading /home/sysml/conda/share/jupyter/kernels/sysml/sysml.library/Domain Libraries/Quantities and Units/ISQElectromagnetism.sysml...\n"
     ]
    },
    {
     "name": "stdout",
     "output_type": "stream",
     "text": [
      "Reading /home/sysml/conda/share/jupyter/kernels/sysml/sysml.library/Domain Libraries/Quantities and Units/USCustomaryUnits.sysml...\n",
      "Reading /home/sysml/conda/share/jupyter/kernels/sysml/sysml.library/Domain Libraries/Quantities and Units/Time.sysml...\n",
      "Reading /home/sysml/conda/share/jupyter/kernels/sysml/sysml.library/Domain Libraries/Quantities and Units/MeasurementReferences.sysml...\n",
      "Reading /home/sysml/conda/share/jupyter/kernels/sysml/sysml.library/Domain Libraries/Quantities and Units/ISQBase.sysml...\n",
      "Reading /home/sysml/conda/share/jupyter/kernels/sysml/sysml.library/Domain Libraries/Quantities and Units/ISQCondensedMatter.sysml...\n",
      "Reading /home/sysml/conda/share/jupyter/kernels/sysml/sysml.library/Domain Libraries/Quantities and Units/ISQMechanics.sysml...\n",
      "Reading /home/sysml/conda/share/jupyter/kernels/sysml/sysml.library/Domain Libraries/Quantities and Units/SI.sysml...\n",
      "Reading /home/sysml/conda/share/jupyter/kernels/sysml/sysml.library/Domain Libraries/Quantities and Units/ISQCharacteristicNumbers.sysml...\n",
      "Reading /home/sysml/conda/share/jupyter/kernels/sysml/sysml.library/Domain Libraries/Quantities and Units/QuantityCalculations.sysml...\n",
      "Reading /home/sysml/conda/share/jupyter/kernels/sysml/sysml.library/Domain Libraries/Quantities and Units/MeasurementRefCalculations.sysml...\n",
      "Reading /home/sysml/conda/share/jupyter/kernels/sysml/sysml.library/Domain Libraries/Quantities and Units/ISQAtomicNuclear.sysml...\n"
     ]
    },
    {
     "name": "stdout",
     "output_type": "stream",
     "text": [
      "Reading /home/sysml/conda/share/jupyter/kernels/sysml/sysml.library/Domain Libraries/Quantities and Units/ISQ.sysml...\n",
      "Reading /home/sysml/conda/share/jupyter/kernels/sysml/sysml.library/Domain Libraries/Quantities and Units/ISQAcoustics.sysml...\n",
      "Reading /home/sysml/conda/share/jupyter/kernels/sysml/sysml.library/Domain Libraries/Quantities and Units/ISQLight.sysml...\n",
      "Reading /home/sysml/conda/share/jupyter/kernels/sysml/sysml.library/Domain Libraries/Quantities and Units/ISQInformation.sysml...\n",
      "Reading /home/sysml/conda/share/jupyter/kernels/sysml/sysml.library/Domain Libraries/Quantities and Units/ISQThermodynamics.sysml...\n",
      "Reading /home/sysml/conda/share/jupyter/kernels/sysml/sysml.library/Domain Libraries/Quantities and Units/SIPrefixes.sysml...\n",
      "Reading /home/sysml/conda/share/jupyter/kernels/sysml/sysml.library/Domain Libraries/Quantities and Units/VectorCalculations.sysml...\n",
      "Reading /home/sysml/conda/share/jupyter/kernels/sysml/sysml.library/Domain Libraries/Quantities and Units/ISQChemistryMolecular.sysml...\n",
      "Reading /home/sysml/conda/share/jupyter/kernels/sysml/sysml.library/Domain Libraries/Quantities and Units/Quantities.sysml...\n",
      "Reading /home/sysml/conda/share/jupyter/kernels/sysml/sysml.library/Domain Libraries/Metadata/ImageMetadata.sysml...\n",
      "Reading /home/sysml/conda/share/jupyter/kernels/sysml/sysml.library/Domain Libraries/Metadata/ModelingMetadata.sysml...\n",
      "Reading /home/sysml/conda/share/jupyter/kernels/sysml/sysml.library/Domain Libraries/Metadata/ParametersOfInterestMetadata.sysml...\n",
      "Reading /home/sysml/conda/share/jupyter/kernels/sysml/sysml.library/Domain Libraries/Metadata/RiskMetadata.sysml...\n",
      "Reading /home/sysml/conda/share/jupyter/kernels/sysml/sysml.library/Domain Libraries/Requirement Derivation/RequirementDerivation.sysml...\n",
      "Reading /home/sysml/conda/share/jupyter/kernels/sysml/sysml.library/Domain Libraries/Requirement Derivation/DerivationConnections.sysml...\n"
     ]
    },
    {
     "name": "stderr",
     "output_type": "stream",
     "text": [
      "Dec 16, 2024 3:25:39 AM io.github.spencerpark.jupyter.channels.Loop start\n",
      "INFO: Loop starting...\n",
      "Dec 16, 2024 3:25:39 AM io.github.spencerpark.jupyter.channels.Loop start\n",
      "INFO: Loop started.\n",
      "Dec 16, 2024 3:25:39 AM io.github.spencerpark.jupyter.channels.Loop start\n",
      "INFO: Loop starting...\n",
      "Dec 16, 2024 3:25:39 AM io.github.spencerpark.jupyter.channels.Loop start\n",
      "INFO: Loop started.\n",
      "Dec 16, 2024 3:25:39 AM io.github.spencerpark.jupyter.channels.Loop start\n",
      "INFO: Loop starting...\n",
      "Dec 16, 2024 3:25:39 AM io.github.spencerpark.jupyter.channels.Loop start\n",
      "INFO: Loop started.\n"
     ]
    },
    {
     "name": "stderr",
     "output_type": "stream",
     "text": [
      "Dec 16, 2024 3:25:44 AM io.github.spencerpark.jupyter.channels.Loop shutdown\n",
      "INFO: Loop shutdown.\n",
      "Dec 16, 2024 3:25:44 AM io.github.spencerpark.jupyter.channels.Loop shutdown\n",
      "INFO: Loop shutdown.\n",
      "Dec 16, 2024 3:25:44 AM io.github.spencerpark.jupyter.channels.Loop shutdown\n",
      "INFO: Loop shutdown.\n",
      "Dec 16, 2024 3:25:44 AM io.github.spencerpark.jupyter.channels.Loop run\n",
      "INFO: Running loop shutdown callback.\n",
      "Dec 16, 2024 3:25:44 AM io.github.spencerpark.jupyter.channels.Loop run\n",
      "INFO: Loop stopped.\n",
      "Dec 16, 2024 3:25:44 AM io.github.spencerpark.jupyter.channels.Loop run\n",
      "INFO: Running loop shutdown callback.\n",
      "Dec 16, 2024 3:25:44 AM io.github.spencerpark.jupyter.channels.Loop run\n",
      "INFO: Loop stopped.\n",
      "Dec 16, 2024 3:25:44 AM io.github.spencerpark.jupyter.channels.Loop run\n",
      "INFO: Running loop shutdown callback.\n",
      "Dec 16, 2024 3:25:44 AM io.github.spencerpark.jupyter.channels.Loop run\n",
      "INFO: Loop stopped.\n"
     ]
    },
    {
     "name": "stdout",
     "output_type": "stream",
     "text": [
      "Signing notebook: TestSuite/QualifiedNameImportTest.ipynb\n",
      "Executing: TestSuite/AnalysisTest.ipynb\n"
     ]
    },
    {
     "name": "stderr",
     "output_type": "stream",
     "text": [
      "/home/sysml/conda/lib/python3.12/site-packages/nbformat/__init__.py:96: MissingIDFieldWarning: Cell is missing an id field, this will become a hard error in future nbformat versions. You may want to use `normalize()` on your notebooks before validations (available since nbformat 5.1.4). Previous versions of nbformat are fixing this issue transparently, and will stop doing so in the future.\n",
      "  validate(nb)\n"
     ]
    },
    {
     "name": "stdout",
     "output_type": "stream",
     "text": [
      "Reading /home/sysml/conda/share/jupyter/kernels/sysml/sysml.library/Kernel Libraries/Kernel Semantic Library/Observation.kerml...\n"
     ]
    },
    {
     "name": "stderr",
     "output_type": "stream",
     "text": [
      "log4j:WARN No appenders could be found for logger (org.eclipse.xtext.parser.antlr.AbstractInternalAntlrParser).\n",
      "log4j:WARN Please initialize the log4j system properly.\n",
      "log4j:WARN See http://logging.apache.org/log4j/1.2/faq.html#noconfig for more info.\n"
     ]
    },
    {
     "name": "stdout",
     "output_type": "stream",
     "text": [
      "Reading /home/sysml/conda/share/jupyter/kernels/sysml/sysml.library/Kernel Libraries/Kernel Semantic Library/Transfers.kerml...\n",
      "Reading /home/sysml/conda/share/jupyter/kernels/sysml/sysml.library/Kernel Libraries/Kernel Semantic Library/Metaobjects.kerml...\n",
      "Reading /home/sysml/conda/share/jupyter/kernels/sysml/sysml.library/Kernel Libraries/Kernel Semantic Library/Triggers.kerml...\n",
      "Reading /home/sysml/conda/share/jupyter/kernels/sysml/sysml.library/Kernel Libraries/Kernel Semantic Library/Links.kerml...\n",
      "Reading /home/sysml/conda/share/jupyter/kernels/sysml/sysml.library/Kernel Libraries/Kernel Semantic Library/Base.kerml...\n",
      "Reading /home/sysml/conda/share/jupyter/kernels/sysml/sysml.library/Kernel Libraries/Kernel Semantic Library/Objects.kerml...\n",
      "Reading /home/sysml/conda/share/jupyter/kernels/sysml/sysml.library/Kernel Libraries/Kernel Semantic Library/Clocks.kerml...\n",
      "Reading /home/sysml/conda/share/jupyter/kernels/sysml/sysml.library/Kernel Libraries/Kernel Semantic Library/KerML.kerml...\n"
     ]
    },
    {
     "name": "stdout",
     "output_type": "stream",
     "text": [
      "Reading /home/sysml/conda/share/jupyter/kernels/sysml/sysml.library/Kernel Libraries/Kernel Semantic Library/FeatureReferencingPerformances.kerml...\n",
      "Reading /home/sysml/conda/share/jupyter/kernels/sysml/sysml.library/Kernel Libraries/Kernel Semantic Library/Performances.kerml...\n",
      "Reading /home/sysml/conda/share/jupyter/kernels/sysml/sysml.library/Kernel Libraries/Kernel Semantic Library/Occurrences.kerml...\n",
      "Reading /home/sysml/conda/share/jupyter/kernels/sysml/sysml.library/Kernel Libraries/Kernel Semantic Library/ControlPerformances.kerml...\n",
      "Reading /home/sysml/conda/share/jupyter/kernels/sysml/sysml.library/Kernel Libraries/Kernel Semantic Library/StatePerformances.kerml...\n",
      "Reading /home/sysml/conda/share/jupyter/kernels/sysml/sysml.library/Kernel Libraries/Kernel Semantic Library/TransitionPerformances.kerml...\n",
      "Reading /home/sysml/conda/share/jupyter/kernels/sysml/sysml.library/Kernel Libraries/Kernel Semantic Library/SpatialFrames.kerml...\n",
      "Reading /home/sysml/conda/share/jupyter/kernels/sysml/sysml.library/Kernel Libraries/Kernel Data Type Library/VectorValues.kerml...\n",
      "Reading /home/sysml/conda/share/jupyter/kernels/sysml/sysml.library/Kernel Libraries/Kernel Data Type Library/Collections.kerml...\n",
      "Reading /home/sysml/conda/share/jupyter/kernels/sysml/sysml.library/Kernel Libraries/Kernel Data Type Library/ScalarValues.kerml...\n",
      "Reading /home/sysml/conda/share/jupyter/kernels/sysml/sysml.library/Kernel Libraries/Kernel Function Library/NaturalFunctions.kerml...\n",
      "Reading /home/sysml/conda/share/jupyter/kernels/sysml/sysml.library/Kernel Libraries/Kernel Function Library/BaseFunctions.kerml...\n",
      "Reading /home/sysml/conda/share/jupyter/kernels/sysml/sysml.library/Kernel Libraries/Kernel Function Library/DataFunctions.kerml...\n",
      "Reading /home/sysml/conda/share/jupyter/kernels/sysml/sysml.library/Kernel Libraries/Kernel Function Library/IntegerFunctions.kerml...\n",
      "Reading /home/sysml/conda/share/jupyter/kernels/sysml/sysml.library/Kernel Libraries/Kernel Function Library/RealFunctions.kerml...\n",
      "Reading /home/sysml/conda/share/jupyter/kernels/sysml/sysml.library/Kernel Libraries/Kernel Function Library/NumericalFunctions.kerml...\n"
     ]
    },
    {
     "name": "stdout",
     "output_type": "stream",
     "text": [
      "Reading /home/sysml/conda/share/jupyter/kernels/sysml/sysml.library/Kernel Libraries/Kernel Function Library/VectorFunctions.kerml...\n",
      "Reading /home/sysml/conda/share/jupyter/kernels/sysml/sysml.library/Kernel Libraries/Kernel Function Library/SequenceFunctions.kerml...\n",
      "Reading /home/sysml/conda/share/jupyter/kernels/sysml/sysml.library/Kernel Libraries/Kernel Function Library/ComplexFunctions.kerml...\n",
      "Reading /home/sysml/conda/share/jupyter/kernels/sysml/sysml.library/Kernel Libraries/Kernel Function Library/RationalFunctions.kerml...\n",
      "Reading /home/sysml/conda/share/jupyter/kernels/sysml/sysml.library/Kernel Libraries/Kernel Function Library/StringFunctions.kerml...\n",
      "Reading /home/sysml/conda/share/jupyter/kernels/sysml/sysml.library/Kernel Libraries/Kernel Function Library/ScalarFunctions.kerml...\n",
      "Reading /home/sysml/conda/share/jupyter/kernels/sysml/sysml.library/Kernel Libraries/Kernel Function Library/CollectionFunctions.kerml...\n",
      "Reading /home/sysml/conda/share/jupyter/kernels/sysml/sysml.library/Kernel Libraries/Kernel Function Library/BooleanFunctions.kerml...\n",
      "Reading /home/sysml/conda/share/jupyter/kernels/sysml/sysml.library/Kernel Libraries/Kernel Function Library/OccurrenceFunctions.kerml...\n",
      "Reading /home/sysml/conda/share/jupyter/kernels/sysml/sysml.library/Kernel Libraries/Kernel Function Library/TrigFunctions.kerml...\n",
      "Reading /home/sysml/conda/share/jupyter/kernels/sysml/sysml.library/Kernel Libraries/Kernel Function Library/ControlFunctions.kerml...\n",
      "Reading /home/sysml/conda/share/jupyter/kernels/sysml/sysml.library/Systems Library/Connections.sysml...\n"
     ]
    },
    {
     "name": "stdout",
     "output_type": "stream",
     "text": [
      "Reading /home/sysml/conda/share/jupyter/kernels/sysml/sysml.library/Systems Library/States.sysml...\n",
      "Reading /home/sysml/conda/share/jupyter/kernels/sysml/sysml.library/Systems Library/Actions.sysml...\n",
      "Reading /home/sysml/conda/share/jupyter/kernels/sysml/sysml.library/Systems Library/Metadata.sysml...\n",
      "Reading /home/sysml/conda/share/jupyter/kernels/sysml/sysml.library/Systems Library/Requirements.sysml...\n",
      "Reading /home/sysml/conda/share/jupyter/kernels/sysml/sysml.library/Systems Library/AnalysisCases.sysml...\n",
      "Reading /home/sysml/conda/share/jupyter/kernels/sysml/sysml.library/Systems Library/Attributes.sysml...\n",
      "Reading /home/sysml/conda/share/jupyter/kernels/sysml/sysml.library/Systems Library/Cases.sysml...\n",
      "Reading /home/sysml/conda/share/jupyter/kernels/sysml/sysml.library/Systems Library/VerificationCases.sysml...\n",
      "Reading /home/sysml/conda/share/jupyter/kernels/sysml/sysml.library/Systems Library/Interfaces.sysml...\n",
      "Reading /home/sysml/conda/share/jupyter/kernels/sysml/sysml.library/Systems Library/Ports.sysml...\n",
      "Reading /home/sysml/conda/share/jupyter/kernels/sysml/sysml.library/Systems Library/Views.sysml...\n",
      "Reading /home/sysml/conda/share/jupyter/kernels/sysml/sysml.library/Systems Library/UseCases.sysml...\n",
      "Reading /home/sysml/conda/share/jupyter/kernels/sysml/sysml.library/Systems Library/Parts.sysml...\n",
      "Reading /home/sysml/conda/share/jupyter/kernels/sysml/sysml.library/Systems Library/SysML.sysml...\n"
     ]
    },
    {
     "name": "stdout",
     "output_type": "stream",
     "text": [
      "Reading /home/sysml/conda/share/jupyter/kernels/sysml/sysml.library/Systems Library/Constraints.sysml...\n",
      "Reading /home/sysml/conda/share/jupyter/kernels/sysml/sysml.library/Systems Library/Items.sysml...\n",
      "Reading /home/sysml/conda/share/jupyter/kernels/sysml/sysml.library/Systems Library/Calculations.sysml...\n",
      "Reading /home/sysml/conda/share/jupyter/kernels/sysml/sysml.library/Systems Library/StandardViewDefinitions.sysml...\n",
      "Reading /home/sysml/conda/share/jupyter/kernels/sysml/sysml.library/Systems Library/Allocations.sysml...\n",
      "Reading /home/sysml/conda/share/jupyter/kernels/sysml/sysml.library/Domain Libraries/Geometry/SpatialItems.sysml...\n",
      "Reading /home/sysml/conda/share/jupyter/kernels/sysml/sysml.library/Domain Libraries/Geometry/ShapeItems.sysml...\n",
      "Reading /home/sysml/conda/share/jupyter/kernels/sysml/sysml.library/Domain Libraries/Analysis/TradeStudies.sysml...\n",
      "Reading /home/sysml/conda/share/jupyter/kernels/sysml/sysml.library/Domain Libraries/Analysis/StateSpaceRepresentation.sysml...\n",
      "Reading /home/sysml/conda/share/jupyter/kernels/sysml/sysml.library/Domain Libraries/Analysis/SampledFunctions.sysml...\n",
      "Reading /home/sysml/conda/share/jupyter/kernels/sysml/sysml.library/Domain Libraries/Analysis/AnalysisTooling.sysml...\n",
      "Reading /home/sysml/conda/share/jupyter/kernels/sysml/sysml.library/Domain Libraries/Cause and Effect/CausationConnections.sysml...\n",
      "Reading /home/sysml/conda/share/jupyter/kernels/sysml/sysml.library/Domain Libraries/Cause and Effect/CauseAndEffect.sysml...\n",
      "Reading /home/sysml/conda/share/jupyter/kernels/sysml/sysml.library/Domain Libraries/Quantities and Units/TensorCalculations.sysml...\n",
      "Reading /home/sysml/conda/share/jupyter/kernels/sysml/sysml.library/Domain Libraries/Quantities and Units/ISQSpaceTime.sysml...\n",
      "Reading /home/sysml/conda/share/jupyter/kernels/sysml/sysml.library/Domain Libraries/Quantities and Units/ISQElectromagnetism.sysml...\n"
     ]
    },
    {
     "name": "stdout",
     "output_type": "stream",
     "text": [
      "Reading /home/sysml/conda/share/jupyter/kernels/sysml/sysml.library/Domain Libraries/Quantities and Units/USCustomaryUnits.sysml...\n",
      "Reading /home/sysml/conda/share/jupyter/kernels/sysml/sysml.library/Domain Libraries/Quantities and Units/Time.sysml...\n",
      "Reading /home/sysml/conda/share/jupyter/kernels/sysml/sysml.library/Domain Libraries/Quantities and Units/MeasurementReferences.sysml...\n",
      "Reading /home/sysml/conda/share/jupyter/kernels/sysml/sysml.library/Domain Libraries/Quantities and Units/ISQBase.sysml...\n",
      "Reading /home/sysml/conda/share/jupyter/kernels/sysml/sysml.library/Domain Libraries/Quantities and Units/ISQCondensedMatter.sysml...\n",
      "Reading /home/sysml/conda/share/jupyter/kernels/sysml/sysml.library/Domain Libraries/Quantities and Units/ISQMechanics.sysml...\n",
      "Reading /home/sysml/conda/share/jupyter/kernels/sysml/sysml.library/Domain Libraries/Quantities and Units/SI.sysml...\n",
      "Reading /home/sysml/conda/share/jupyter/kernels/sysml/sysml.library/Domain Libraries/Quantities and Units/ISQCharacteristicNumbers.sysml...\n",
      "Reading /home/sysml/conda/share/jupyter/kernels/sysml/sysml.library/Domain Libraries/Quantities and Units/QuantityCalculations.sysml...\n",
      "Reading /home/sysml/conda/share/jupyter/kernels/sysml/sysml.library/Domain Libraries/Quantities and Units/MeasurementRefCalculations.sysml...\n",
      "Reading /home/sysml/conda/share/jupyter/kernels/sysml/sysml.library/Domain Libraries/Quantities and Units/ISQAtomicNuclear.sysml...\n"
     ]
    },
    {
     "name": "stdout",
     "output_type": "stream",
     "text": [
      "Reading /home/sysml/conda/share/jupyter/kernels/sysml/sysml.library/Domain Libraries/Quantities and Units/ISQ.sysml...\n",
      "Reading /home/sysml/conda/share/jupyter/kernels/sysml/sysml.library/Domain Libraries/Quantities and Units/ISQAcoustics.sysml...\n",
      "Reading /home/sysml/conda/share/jupyter/kernels/sysml/sysml.library/Domain Libraries/Quantities and Units/ISQLight.sysml...\n",
      "Reading /home/sysml/conda/share/jupyter/kernels/sysml/sysml.library/Domain Libraries/Quantities and Units/ISQInformation.sysml...\n",
      "Reading /home/sysml/conda/share/jupyter/kernels/sysml/sysml.library/Domain Libraries/Quantities and Units/ISQThermodynamics.sysml...\n",
      "Reading /home/sysml/conda/share/jupyter/kernels/sysml/sysml.library/Domain Libraries/Quantities and Units/SIPrefixes.sysml...\n",
      "Reading /home/sysml/conda/share/jupyter/kernels/sysml/sysml.library/Domain Libraries/Quantities and Units/VectorCalculations.sysml...\n",
      "Reading /home/sysml/conda/share/jupyter/kernels/sysml/sysml.library/Domain Libraries/Quantities and Units/ISQChemistryMolecular.sysml...\n",
      "Reading /home/sysml/conda/share/jupyter/kernels/sysml/sysml.library/Domain Libraries/Quantities and Units/Quantities.sysml...\n",
      "Reading /home/sysml/conda/share/jupyter/kernels/sysml/sysml.library/Domain Libraries/Metadata/ImageMetadata.sysml...\n",
      "Reading /home/sysml/conda/share/jupyter/kernels/sysml/sysml.library/Domain Libraries/Metadata/ModelingMetadata.sysml...\n",
      "Reading /home/sysml/conda/share/jupyter/kernels/sysml/sysml.library/Domain Libraries/Metadata/ParametersOfInterestMetadata.sysml...\n",
      "Reading /home/sysml/conda/share/jupyter/kernels/sysml/sysml.library/Domain Libraries/Metadata/RiskMetadata.sysml...\n",
      "Reading /home/sysml/conda/share/jupyter/kernels/sysml/sysml.library/Domain Libraries/Requirement Derivation/RequirementDerivation.sysml...\n",
      "Reading /home/sysml/conda/share/jupyter/kernels/sysml/sysml.library/Domain Libraries/Requirement Derivation/DerivationConnections.sysml...\n"
     ]
    },
    {
     "name": "stderr",
     "output_type": "stream",
     "text": [
      "Dec 16, 2024 3:25:49 AM io.github.spencerpark.jupyter.channels.Loop start\n",
      "INFO: Loop starting...\n",
      "Dec 16, 2024 3:25:49 AM io.github.spencerpark.jupyter.channels.Loop start\n",
      "INFO: Loop started.\n",
      "Dec 16, 2024 3:25:49 AM io.github.spencerpark.jupyter.channels.Loop start\n",
      "INFO: Loop starting...\n",
      "Dec 16, 2024 3:25:49 AM io.github.spencerpark.jupyter.channels.Loop start\n",
      "INFO: Loop started.\n",
      "Dec 16, 2024 3:25:49 AM io.github.spencerpark.jupyter.channels.Loop start\n",
      "INFO: Loop starting...\n",
      "Dec 16, 2024 3:25:49 AM io.github.spencerpark.jupyter.channels.Loop start\n",
      "INFO: Loop started.\n"
     ]
    },
    {
     "name": "stderr",
     "output_type": "stream",
     "text": [
      "Dec 16, 2024 3:25:55 AM io.github.spencerpark.jupyter.channels.Loop shutdown\n",
      "INFO: Loop shutdown.\n",
      "Dec 16, 2024 3:25:55 AM io.github.spencerpark.jupyter.channels.Loop shutdown\n",
      "INFO: Loop shutdown.\n",
      "Dec 16, 2024 3:25:55 AM io.github.spencerpark.jupyter.channels.Loop shutdown\n",
      "INFO: Loop shutdown.\n",
      "Dec 16, 2024 3:25:55 AM io.github.spencerpark.jupyter.channels.Loop run\n",
      "INFO: Running loop shutdown callback.\n",
      "Dec 16, 2024 3:25:55 AM io.github.spencerpark.jupyter.channels.Loop run\n",
      "INFO: Loop stopped.\n",
      "Dec 16, 2024 3:25:55 AM io.github.spencerpark.jupyter.channels.Loop run\n",
      "INFO: Running loop shutdown callback.\n",
      "Dec 16, 2024 3:25:55 AM io.github.spencerpark.jupyter.channels.Loop run\n",
      "INFO: Loop stopped.\n"
     ]
    },
    {
     "name": "stderr",
     "output_type": "stream",
     "text": [
      "Dec 16, 2024 3:25:55 AM io.github.spencerpark.jupyter.channels.Loop run\n",
      "INFO: Running loop shutdown callback.\n",
      "Dec 16, 2024 3:25:55 AM io.github.spencerpark.jupyter.channels.Loop run\n",
      "INFO: Loop stopped.\n"
     ]
    },
    {
     "name": "stdout",
     "output_type": "stream",
     "text": [
      "Signing notebook: TestSuite/AnalysisTest.ipynb\n",
      "Executing: TestSuite/CalculationTest.ipynb\n"
     ]
    },
    {
     "name": "stderr",
     "output_type": "stream",
     "text": [
      "/home/sysml/conda/lib/python3.12/site-packages/nbformat/__init__.py:96: MissingIDFieldWarning: Cell is missing an id field, this will become a hard error in future nbformat versions. You may want to use `normalize()` on your notebooks before validations (available since nbformat 5.1.4). Previous versions of nbformat are fixing this issue transparently, and will stop doing so in the future.\n",
      "  validate(nb)\n"
     ]
    },
    {
     "name": "stdout",
     "output_type": "stream",
     "text": [
      "Reading /home/sysml/conda/share/jupyter/kernels/sysml/sysml.library/Kernel Libraries/Kernel Semantic Library/Observation.kerml...\n"
     ]
    },
    {
     "name": "stderr",
     "output_type": "stream",
     "text": [
      "log4j:WARN No appenders could be found for logger (org.eclipse.xtext.parser.antlr.AbstractInternalAntlrParser).\n",
      "log4j:WARN Please initialize the log4j system properly.\n",
      "log4j:WARN See http://logging.apache.org/log4j/1.2/faq.html#noconfig for more info.\n"
     ]
    },
    {
     "name": "stdout",
     "output_type": "stream",
     "text": [
      "Reading /home/sysml/conda/share/jupyter/kernels/sysml/sysml.library/Kernel Libraries/Kernel Semantic Library/Transfers.kerml...\n",
      "Reading /home/sysml/conda/share/jupyter/kernels/sysml/sysml.library/Kernel Libraries/Kernel Semantic Library/Metaobjects.kerml...\n",
      "Reading /home/sysml/conda/share/jupyter/kernels/sysml/sysml.library/Kernel Libraries/Kernel Semantic Library/Triggers.kerml...\n",
      "Reading /home/sysml/conda/share/jupyter/kernels/sysml/sysml.library/Kernel Libraries/Kernel Semantic Library/Links.kerml...\n",
      "Reading /home/sysml/conda/share/jupyter/kernels/sysml/sysml.library/Kernel Libraries/Kernel Semantic Library/Base.kerml...\n",
      "Reading /home/sysml/conda/share/jupyter/kernels/sysml/sysml.library/Kernel Libraries/Kernel Semantic Library/Objects.kerml...\n",
      "Reading /home/sysml/conda/share/jupyter/kernels/sysml/sysml.library/Kernel Libraries/Kernel Semantic Library/Clocks.kerml...\n",
      "Reading /home/sysml/conda/share/jupyter/kernels/sysml/sysml.library/Kernel Libraries/Kernel Semantic Library/KerML.kerml...\n"
     ]
    },
    {
     "name": "stdout",
     "output_type": "stream",
     "text": [
      "Reading /home/sysml/conda/share/jupyter/kernels/sysml/sysml.library/Kernel Libraries/Kernel Semantic Library/FeatureReferencingPerformances.kerml...\n",
      "Reading /home/sysml/conda/share/jupyter/kernels/sysml/sysml.library/Kernel Libraries/Kernel Semantic Library/Performances.kerml...\n",
      "Reading /home/sysml/conda/share/jupyter/kernels/sysml/sysml.library/Kernel Libraries/Kernel Semantic Library/Occurrences.kerml...\n",
      "Reading /home/sysml/conda/share/jupyter/kernels/sysml/sysml.library/Kernel Libraries/Kernel Semantic Library/ControlPerformances.kerml...\n",
      "Reading /home/sysml/conda/share/jupyter/kernels/sysml/sysml.library/Kernel Libraries/Kernel Semantic Library/StatePerformances.kerml...\n",
      "Reading /home/sysml/conda/share/jupyter/kernels/sysml/sysml.library/Kernel Libraries/Kernel Semantic Library/TransitionPerformances.kerml...\n",
      "Reading /home/sysml/conda/share/jupyter/kernels/sysml/sysml.library/Kernel Libraries/Kernel Semantic Library/SpatialFrames.kerml...\n",
      "Reading /home/sysml/conda/share/jupyter/kernels/sysml/sysml.library/Kernel Libraries/Kernel Data Type Library/VectorValues.kerml...\n",
      "Reading /home/sysml/conda/share/jupyter/kernels/sysml/sysml.library/Kernel Libraries/Kernel Data Type Library/Collections.kerml...\n",
      "Reading /home/sysml/conda/share/jupyter/kernels/sysml/sysml.library/Kernel Libraries/Kernel Data Type Library/ScalarValues.kerml...\n",
      "Reading /home/sysml/conda/share/jupyter/kernels/sysml/sysml.library/Kernel Libraries/Kernel Function Library/NaturalFunctions.kerml...\n",
      "Reading /home/sysml/conda/share/jupyter/kernels/sysml/sysml.library/Kernel Libraries/Kernel Function Library/BaseFunctions.kerml...\n",
      "Reading /home/sysml/conda/share/jupyter/kernels/sysml/sysml.library/Kernel Libraries/Kernel Function Library/DataFunctions.kerml...\n",
      "Reading /home/sysml/conda/share/jupyter/kernels/sysml/sysml.library/Kernel Libraries/Kernel Function Library/IntegerFunctions.kerml...\n",
      "Reading /home/sysml/conda/share/jupyter/kernels/sysml/sysml.library/Kernel Libraries/Kernel Function Library/RealFunctions.kerml...\n",
      "Reading /home/sysml/conda/share/jupyter/kernels/sysml/sysml.library/Kernel Libraries/Kernel Function Library/NumericalFunctions.kerml...\n"
     ]
    },
    {
     "name": "stdout",
     "output_type": "stream",
     "text": [
      "Reading /home/sysml/conda/share/jupyter/kernels/sysml/sysml.library/Kernel Libraries/Kernel Function Library/VectorFunctions.kerml...\n",
      "Reading /home/sysml/conda/share/jupyter/kernels/sysml/sysml.library/Kernel Libraries/Kernel Function Library/SequenceFunctions.kerml...\n",
      "Reading /home/sysml/conda/share/jupyter/kernels/sysml/sysml.library/Kernel Libraries/Kernel Function Library/ComplexFunctions.kerml...\n",
      "Reading /home/sysml/conda/share/jupyter/kernels/sysml/sysml.library/Kernel Libraries/Kernel Function Library/RationalFunctions.kerml...\n",
      "Reading /home/sysml/conda/share/jupyter/kernels/sysml/sysml.library/Kernel Libraries/Kernel Function Library/StringFunctions.kerml...\n",
      "Reading /home/sysml/conda/share/jupyter/kernels/sysml/sysml.library/Kernel Libraries/Kernel Function Library/ScalarFunctions.kerml...\n",
      "Reading /home/sysml/conda/share/jupyter/kernels/sysml/sysml.library/Kernel Libraries/Kernel Function Library/CollectionFunctions.kerml...\n",
      "Reading /home/sysml/conda/share/jupyter/kernels/sysml/sysml.library/Kernel Libraries/Kernel Function Library/BooleanFunctions.kerml...\n",
      "Reading /home/sysml/conda/share/jupyter/kernels/sysml/sysml.library/Kernel Libraries/Kernel Function Library/OccurrenceFunctions.kerml...\n",
      "Reading /home/sysml/conda/share/jupyter/kernels/sysml/sysml.library/Kernel Libraries/Kernel Function Library/TrigFunctions.kerml...\n",
      "Reading /home/sysml/conda/share/jupyter/kernels/sysml/sysml.library/Kernel Libraries/Kernel Function Library/ControlFunctions.kerml...\n",
      "Reading /home/sysml/conda/share/jupyter/kernels/sysml/sysml.library/Systems Library/Connections.sysml...\n"
     ]
    },
    {
     "name": "stdout",
     "output_type": "stream",
     "text": [
      "Reading /home/sysml/conda/share/jupyter/kernels/sysml/sysml.library/Systems Library/States.sysml...\n",
      "Reading /home/sysml/conda/share/jupyter/kernels/sysml/sysml.library/Systems Library/Actions.sysml...\n",
      "Reading /home/sysml/conda/share/jupyter/kernels/sysml/sysml.library/Systems Library/Metadata.sysml...\n",
      "Reading /home/sysml/conda/share/jupyter/kernels/sysml/sysml.library/Systems Library/Requirements.sysml...\n",
      "Reading /home/sysml/conda/share/jupyter/kernels/sysml/sysml.library/Systems Library/AnalysisCases.sysml...\n",
      "Reading /home/sysml/conda/share/jupyter/kernels/sysml/sysml.library/Systems Library/Attributes.sysml...\n",
      "Reading /home/sysml/conda/share/jupyter/kernels/sysml/sysml.library/Systems Library/Cases.sysml...\n",
      "Reading /home/sysml/conda/share/jupyter/kernels/sysml/sysml.library/Systems Library/VerificationCases.sysml...\n",
      "Reading /home/sysml/conda/share/jupyter/kernels/sysml/sysml.library/Systems Library/Interfaces.sysml...\n",
      "Reading /home/sysml/conda/share/jupyter/kernels/sysml/sysml.library/Systems Library/Ports.sysml...\n",
      "Reading /home/sysml/conda/share/jupyter/kernels/sysml/sysml.library/Systems Library/Views.sysml...\n",
      "Reading /home/sysml/conda/share/jupyter/kernels/sysml/sysml.library/Systems Library/UseCases.sysml...\n",
      "Reading /home/sysml/conda/share/jupyter/kernels/sysml/sysml.library/Systems Library/Parts.sysml...\n",
      "Reading /home/sysml/conda/share/jupyter/kernels/sysml/sysml.library/Systems Library/SysML.sysml...\n",
      "Reading /home/sysml/conda/share/jupyter/kernels/sysml/sysml.library/Systems Library/Constraints.sysml...\n",
      "Reading /home/sysml/conda/share/jupyter/kernels/sysml/sysml.library/Systems Library/Items.sysml...\n"
     ]
    },
    {
     "name": "stdout",
     "output_type": "stream",
     "text": [
      "Reading /home/sysml/conda/share/jupyter/kernels/sysml/sysml.library/Systems Library/Calculations.sysml...\n",
      "Reading /home/sysml/conda/share/jupyter/kernels/sysml/sysml.library/Systems Library/StandardViewDefinitions.sysml...\n",
      "Reading /home/sysml/conda/share/jupyter/kernels/sysml/sysml.library/Systems Library/Allocations.sysml...\n",
      "Reading /home/sysml/conda/share/jupyter/kernels/sysml/sysml.library/Domain Libraries/Geometry/SpatialItems.sysml...\n",
      "Reading /home/sysml/conda/share/jupyter/kernels/sysml/sysml.library/Domain Libraries/Geometry/ShapeItems.sysml...\n",
      "Reading /home/sysml/conda/share/jupyter/kernels/sysml/sysml.library/Domain Libraries/Analysis/TradeStudies.sysml...\n",
      "Reading /home/sysml/conda/share/jupyter/kernels/sysml/sysml.library/Domain Libraries/Analysis/StateSpaceRepresentation.sysml...\n",
      "Reading /home/sysml/conda/share/jupyter/kernels/sysml/sysml.library/Domain Libraries/Analysis/SampledFunctions.sysml...\n",
      "Reading /home/sysml/conda/share/jupyter/kernels/sysml/sysml.library/Domain Libraries/Analysis/AnalysisTooling.sysml...\n",
      "Reading /home/sysml/conda/share/jupyter/kernels/sysml/sysml.library/Domain Libraries/Cause and Effect/CausationConnections.sysml...\n",
      "Reading /home/sysml/conda/share/jupyter/kernels/sysml/sysml.library/Domain Libraries/Cause and Effect/CauseAndEffect.sysml...\n",
      "Reading /home/sysml/conda/share/jupyter/kernels/sysml/sysml.library/Domain Libraries/Quantities and Units/TensorCalculations.sysml...\n",
      "Reading /home/sysml/conda/share/jupyter/kernels/sysml/sysml.library/Domain Libraries/Quantities and Units/ISQSpaceTime.sysml...\n",
      "Reading /home/sysml/conda/share/jupyter/kernels/sysml/sysml.library/Domain Libraries/Quantities and Units/ISQElectromagnetism.sysml...\n"
     ]
    },
    {
     "name": "stdout",
     "output_type": "stream",
     "text": [
      "Reading /home/sysml/conda/share/jupyter/kernels/sysml/sysml.library/Domain Libraries/Quantities and Units/USCustomaryUnits.sysml...\n",
      "Reading /home/sysml/conda/share/jupyter/kernels/sysml/sysml.library/Domain Libraries/Quantities and Units/Time.sysml...\n",
      "Reading /home/sysml/conda/share/jupyter/kernels/sysml/sysml.library/Domain Libraries/Quantities and Units/MeasurementReferences.sysml...\n",
      "Reading /home/sysml/conda/share/jupyter/kernels/sysml/sysml.library/Domain Libraries/Quantities and Units/ISQBase.sysml...\n",
      "Reading /home/sysml/conda/share/jupyter/kernels/sysml/sysml.library/Domain Libraries/Quantities and Units/ISQCondensedMatter.sysml...\n",
      "Reading /home/sysml/conda/share/jupyter/kernels/sysml/sysml.library/Domain Libraries/Quantities and Units/ISQMechanics.sysml...\n",
      "Reading /home/sysml/conda/share/jupyter/kernels/sysml/sysml.library/Domain Libraries/Quantities and Units/SI.sysml...\n",
      "Reading /home/sysml/conda/share/jupyter/kernels/sysml/sysml.library/Domain Libraries/Quantities and Units/ISQCharacteristicNumbers.sysml...\n",
      "Reading /home/sysml/conda/share/jupyter/kernels/sysml/sysml.library/Domain Libraries/Quantities and Units/QuantityCalculations.sysml...\n",
      "Reading /home/sysml/conda/share/jupyter/kernels/sysml/sysml.library/Domain Libraries/Quantities and Units/MeasurementRefCalculations.sysml...\n",
      "Reading /home/sysml/conda/share/jupyter/kernels/sysml/sysml.library/Domain Libraries/Quantities and Units/ISQAtomicNuclear.sysml...\n"
     ]
    },
    {
     "name": "stdout",
     "output_type": "stream",
     "text": [
      "Reading /home/sysml/conda/share/jupyter/kernels/sysml/sysml.library/Domain Libraries/Quantities and Units/ISQ.sysml...\n",
      "Reading /home/sysml/conda/share/jupyter/kernels/sysml/sysml.library/Domain Libraries/Quantities and Units/ISQAcoustics.sysml...\n",
      "Reading /home/sysml/conda/share/jupyter/kernels/sysml/sysml.library/Domain Libraries/Quantities and Units/ISQLight.sysml...\n",
      "Reading /home/sysml/conda/share/jupyter/kernels/sysml/sysml.library/Domain Libraries/Quantities and Units/ISQInformation.sysml...\n",
      "Reading /home/sysml/conda/share/jupyter/kernels/sysml/sysml.library/Domain Libraries/Quantities and Units/ISQThermodynamics.sysml...\n",
      "Reading /home/sysml/conda/share/jupyter/kernels/sysml/sysml.library/Domain Libraries/Quantities and Units/SIPrefixes.sysml...\n",
      "Reading /home/sysml/conda/share/jupyter/kernels/sysml/sysml.library/Domain Libraries/Quantities and Units/VectorCalculations.sysml...\n",
      "Reading /home/sysml/conda/share/jupyter/kernels/sysml/sysml.library/Domain Libraries/Quantities and Units/ISQChemistryMolecular.sysml...\n",
      "Reading /home/sysml/conda/share/jupyter/kernels/sysml/sysml.library/Domain Libraries/Quantities and Units/Quantities.sysml...\n",
      "Reading /home/sysml/conda/share/jupyter/kernels/sysml/sysml.library/Domain Libraries/Metadata/ImageMetadata.sysml...\n",
      "Reading /home/sysml/conda/share/jupyter/kernels/sysml/sysml.library/Domain Libraries/Metadata/ModelingMetadata.sysml...\n",
      "Reading /home/sysml/conda/share/jupyter/kernels/sysml/sysml.library/Domain Libraries/Metadata/ParametersOfInterestMetadata.sysml...\n",
      "Reading /home/sysml/conda/share/jupyter/kernels/sysml/sysml.library/Domain Libraries/Metadata/RiskMetadata.sysml...\n",
      "Reading /home/sysml/conda/share/jupyter/kernels/sysml/sysml.library/Domain Libraries/Requirement Derivation/RequirementDerivation.sysml...\n",
      "Reading /home/sysml/conda/share/jupyter/kernels/sysml/sysml.library/Domain Libraries/Requirement Derivation/DerivationConnections.sysml...\n"
     ]
    },
    {
     "name": "stderr",
     "output_type": "stream",
     "text": [
      "Dec 16, 2024 3:25:59 AM io.github.spencerpark.jupyter.channels.Loop start\n",
      "INFO: Loop starting...\n",
      "Dec 16, 2024 3:25:59 AM io.github.spencerpark.jupyter.channels.Loop start\n",
      "INFO: Loop started.\n",
      "Dec 16, 2024 3:25:59 AM io.github.spencerpark.jupyter.channels.Loop start\n",
      "INFO: Loop starting...\n",
      "Dec 16, 2024 3:25:59 AM io.github.spencerpark.jupyter.channels.Loop start\n",
      "INFO: Loop started.\n",
      "Dec 16, 2024 3:25:59 AM io.github.spencerpark.jupyter.channels.Loop start\n",
      "INFO: Loop starting...\n",
      "Dec 16, 2024 3:25:59 AM io.github.spencerpark.jupyter.channels.Loop start\n",
      "INFO: Loop started.\n"
     ]
    },
    {
     "name": "stderr",
     "output_type": "stream",
     "text": [
      "Dec 16, 2024 3:26:06 AM io.github.spencerpark.jupyter.channels.Loop shutdown\n",
      "INFO: Loop shutdown.\n",
      "Dec 16, 2024 3:26:06 AM io.github.spencerpark.jupyter.channels.Loop shutdown\n",
      "INFO: Loop shutdown.\n",
      "Dec 16, 2024 3:26:06 AM io.github.spencerpark.jupyter.channels.Loop shutdown\n",
      "INFO: Loop shutdown.\n",
      "Dec 16, 2024 3:26:06 AM io.github.spencerpark.jupyter.channels.Loop run\n",
      "INFO: Running loop shutdown callback.\n",
      "Dec 16, 2024 3:26:06 AM io.github.spencerpark.jupyter.channels.Loop run\n",
      "INFO: Loop stopped.\n",
      "Dec 16, 2024 3:26:06 AM io.github.spencerpark.jupyter.channels.Loop run\n",
      "INFO: Running loop shutdown callback.\n",
      "Dec 16, 2024 3:26:06 AM io.github.spencerpark.jupyter.channels.Loop run\n",
      "INFO: Loop stopped.\n"
     ]
    },
    {
     "name": "stderr",
     "output_type": "stream",
     "text": [
      "Dec 16, 2024 3:26:06 AM io.github.spencerpark.jupyter.channels.Loop run\n",
      "INFO: Running loop shutdown callback.\n",
      "Dec 16, 2024 3:26:06 AM io.github.spencerpark.jupyter.channels.Loop run\n",
      "INFO: Loop stopped.\n"
     ]
    },
    {
     "name": "stdout",
     "output_type": "stream",
     "text": [
      "Signing notebook: TestSuite/CalculationTest.ipynb\n",
      "Executing: TestSuite/OccurrenceTest.ipynb\n"
     ]
    },
    {
     "name": "stderr",
     "output_type": "stream",
     "text": [
      "/home/sysml/conda/lib/python3.12/site-packages/nbformat/__init__.py:96: MissingIDFieldWarning: Cell is missing an id field, this will become a hard error in future nbformat versions. You may want to use `normalize()` on your notebooks before validations (available since nbformat 5.1.4). Previous versions of nbformat are fixing this issue transparently, and will stop doing so in the future.\n",
      "  validate(nb)\n"
     ]
    },
    {
     "name": "stdout",
     "output_type": "stream",
     "text": [
      "Reading /home/sysml/conda/share/jupyter/kernels/sysml/sysml.library/Kernel Libraries/Kernel Semantic Library/Observation.kerml...\n"
     ]
    },
    {
     "name": "stderr",
     "output_type": "stream",
     "text": [
      "log4j:WARN No appenders could be found for logger (org.eclipse.xtext.parser.antlr.AbstractInternalAntlrParser).\n",
      "log4j:WARN Please initialize the log4j system properly.\n",
      "log4j:WARN See http://logging.apache.org/log4j/1.2/faq.html#noconfig for more info.\n"
     ]
    },
    {
     "name": "stdout",
     "output_type": "stream",
     "text": [
      "Reading /home/sysml/conda/share/jupyter/kernels/sysml/sysml.library/Kernel Libraries/Kernel Semantic Library/Transfers.kerml...\n",
      "Reading /home/sysml/conda/share/jupyter/kernels/sysml/sysml.library/Kernel Libraries/Kernel Semantic Library/Metaobjects.kerml...\n",
      "Reading /home/sysml/conda/share/jupyter/kernels/sysml/sysml.library/Kernel Libraries/Kernel Semantic Library/Triggers.kerml...\n",
      "Reading /home/sysml/conda/share/jupyter/kernels/sysml/sysml.library/Kernel Libraries/Kernel Semantic Library/Links.kerml...\n",
      "Reading /home/sysml/conda/share/jupyter/kernels/sysml/sysml.library/Kernel Libraries/Kernel Semantic Library/Base.kerml...\n",
      "Reading /home/sysml/conda/share/jupyter/kernels/sysml/sysml.library/Kernel Libraries/Kernel Semantic Library/Objects.kerml...\n"
     ]
    },
    {
     "name": "stdout",
     "output_type": "stream",
     "text": [
      "Reading /home/sysml/conda/share/jupyter/kernels/sysml/sysml.library/Kernel Libraries/Kernel Semantic Library/Clocks.kerml...\n",
      "Reading /home/sysml/conda/share/jupyter/kernels/sysml/sysml.library/Kernel Libraries/Kernel Semantic Library/KerML.kerml...\n",
      "Reading /home/sysml/conda/share/jupyter/kernels/sysml/sysml.library/Kernel Libraries/Kernel Semantic Library/FeatureReferencingPerformances.kerml...\n",
      "Reading /home/sysml/conda/share/jupyter/kernels/sysml/sysml.library/Kernel Libraries/Kernel Semantic Library/Performances.kerml...\n",
      "Reading /home/sysml/conda/share/jupyter/kernels/sysml/sysml.library/Kernel Libraries/Kernel Semantic Library/Occurrences.kerml...\n",
      "Reading /home/sysml/conda/share/jupyter/kernels/sysml/sysml.library/Kernel Libraries/Kernel Semantic Library/ControlPerformances.kerml...\n",
      "Reading /home/sysml/conda/share/jupyter/kernels/sysml/sysml.library/Kernel Libraries/Kernel Semantic Library/StatePerformances.kerml...\n"
     ]
    },
    {
     "name": "stdout",
     "output_type": "stream",
     "text": [
      "Reading /home/sysml/conda/share/jupyter/kernels/sysml/sysml.library/Kernel Libraries/Kernel Semantic Library/TransitionPerformances.kerml...\n",
      "Reading /home/sysml/conda/share/jupyter/kernels/sysml/sysml.library/Kernel Libraries/Kernel Semantic Library/SpatialFrames.kerml...\n",
      "Reading /home/sysml/conda/share/jupyter/kernels/sysml/sysml.library/Kernel Libraries/Kernel Data Type Library/VectorValues.kerml...\n",
      "Reading /home/sysml/conda/share/jupyter/kernels/sysml/sysml.library/Kernel Libraries/Kernel Data Type Library/Collections.kerml...\n",
      "Reading /home/sysml/conda/share/jupyter/kernels/sysml/sysml.library/Kernel Libraries/Kernel Data Type Library/ScalarValues.kerml...\n",
      "Reading /home/sysml/conda/share/jupyter/kernels/sysml/sysml.library/Kernel Libraries/Kernel Function Library/NaturalFunctions.kerml...\n",
      "Reading /home/sysml/conda/share/jupyter/kernels/sysml/sysml.library/Kernel Libraries/Kernel Function Library/BaseFunctions.kerml...\n",
      "Reading /home/sysml/conda/share/jupyter/kernels/sysml/sysml.library/Kernel Libraries/Kernel Function Library/DataFunctions.kerml...\n",
      "Reading /home/sysml/conda/share/jupyter/kernels/sysml/sysml.library/Kernel Libraries/Kernel Function Library/IntegerFunctions.kerml...\n",
      "Reading /home/sysml/conda/share/jupyter/kernels/sysml/sysml.library/Kernel Libraries/Kernel Function Library/RealFunctions.kerml...\n",
      "Reading /home/sysml/conda/share/jupyter/kernels/sysml/sysml.library/Kernel Libraries/Kernel Function Library/NumericalFunctions.kerml...\n",
      "Reading /home/sysml/conda/share/jupyter/kernels/sysml/sysml.library/Kernel Libraries/Kernel Function Library/VectorFunctions.kerml...\n",
      "Reading /home/sysml/conda/share/jupyter/kernels/sysml/sysml.library/Kernel Libraries/Kernel Function Library/SequenceFunctions.kerml...\n",
      "Reading /home/sysml/conda/share/jupyter/kernels/sysml/sysml.library/Kernel Libraries/Kernel Function Library/ComplexFunctions.kerml...\n",
      "Reading /home/sysml/conda/share/jupyter/kernels/sysml/sysml.library/Kernel Libraries/Kernel Function Library/RationalFunctions.kerml...\n",
      "Reading /home/sysml/conda/share/jupyter/kernels/sysml/sysml.library/Kernel Libraries/Kernel Function Library/StringFunctions.kerml...\n",
      "Reading /home/sysml/conda/share/jupyter/kernels/sysml/sysml.library/Kernel Libraries/Kernel Function Library/ScalarFunctions.kerml...\n",
      "Reading /home/sysml/conda/share/jupyter/kernels/sysml/sysml.library/Kernel Libraries/Kernel Function Library/CollectionFunctions.kerml...\n",
      "Reading /home/sysml/conda/share/jupyter/kernels/sysml/sysml.library/Kernel Libraries/Kernel Function Library/BooleanFunctions.kerml...\n",
      "Reading /home/sysml/conda/share/jupyter/kernels/sysml/sysml.library/Kernel Libraries/Kernel Function Library/OccurrenceFunctions.kerml...\n",
      "Reading /home/sysml/conda/share/jupyter/kernels/sysml/sysml.library/Kernel Libraries/Kernel Function Library/TrigFunctions.kerml...\n",
      "Reading /home/sysml/conda/share/jupyter/kernels/sysml/sysml.library/Kernel Libraries/Kernel Function Library/ControlFunctions.kerml...\n"
     ]
    },
    {
     "name": "stdout",
     "output_type": "stream",
     "text": [
      "Reading /home/sysml/conda/share/jupyter/kernels/sysml/sysml.library/Systems Library/Connections.sysml...\n",
      "Reading /home/sysml/conda/share/jupyter/kernels/sysml/sysml.library/Systems Library/States.sysml...\n",
      "Reading /home/sysml/conda/share/jupyter/kernels/sysml/sysml.library/Systems Library/Actions.sysml...\n",
      "Reading /home/sysml/conda/share/jupyter/kernels/sysml/sysml.library/Systems Library/Metadata.sysml...\n",
      "Reading /home/sysml/conda/share/jupyter/kernels/sysml/sysml.library/Systems Library/Requirements.sysml...\n",
      "Reading /home/sysml/conda/share/jupyter/kernels/sysml/sysml.library/Systems Library/AnalysisCases.sysml...\n"
     ]
    },
    {
     "name": "stdout",
     "output_type": "stream",
     "text": [
      "Reading /home/sysml/conda/share/jupyter/kernels/sysml/sysml.library/Systems Library/Attributes.sysml...\n",
      "Reading /home/sysml/conda/share/jupyter/kernels/sysml/sysml.library/Systems Library/Cases.sysml...\n",
      "Reading /home/sysml/conda/share/jupyter/kernels/sysml/sysml.library/Systems Library/VerificationCases.sysml...\n",
      "Reading /home/sysml/conda/share/jupyter/kernels/sysml/sysml.library/Systems Library/Interfaces.sysml...\n",
      "Reading /home/sysml/conda/share/jupyter/kernels/sysml/sysml.library/Systems Library/Ports.sysml...\n",
      "Reading /home/sysml/conda/share/jupyter/kernels/sysml/sysml.library/Systems Library/Views.sysml...\n",
      "Reading /home/sysml/conda/share/jupyter/kernels/sysml/sysml.library/Systems Library/UseCases.sysml...\n",
      "Reading /home/sysml/conda/share/jupyter/kernels/sysml/sysml.library/Systems Library/Parts.sysml...\n",
      "Reading /home/sysml/conda/share/jupyter/kernels/sysml/sysml.library/Systems Library/SysML.sysml...\n",
      "Reading /home/sysml/conda/share/jupyter/kernels/sysml/sysml.library/Systems Library/Constraints.sysml...\n",
      "Reading /home/sysml/conda/share/jupyter/kernels/sysml/sysml.library/Systems Library/Items.sysml...\n",
      "Reading /home/sysml/conda/share/jupyter/kernels/sysml/sysml.library/Systems Library/Calculations.sysml...\n",
      "Reading /home/sysml/conda/share/jupyter/kernels/sysml/sysml.library/Systems Library/StandardViewDefinitions.sysml...\n",
      "Reading /home/sysml/conda/share/jupyter/kernels/sysml/sysml.library/Systems Library/Allocations.sysml...\n",
      "Reading /home/sysml/conda/share/jupyter/kernels/sysml/sysml.library/Domain Libraries/Geometry/SpatialItems.sysml...\n",
      "Reading /home/sysml/conda/share/jupyter/kernels/sysml/sysml.library/Domain Libraries/Geometry/ShapeItems.sysml...\n",
      "Reading /home/sysml/conda/share/jupyter/kernels/sysml/sysml.library/Domain Libraries/Analysis/TradeStudies.sysml...\n"
     ]
    },
    {
     "name": "stdout",
     "output_type": "stream",
     "text": [
      "Reading /home/sysml/conda/share/jupyter/kernels/sysml/sysml.library/Domain Libraries/Analysis/StateSpaceRepresentation.sysml...\n",
      "Reading /home/sysml/conda/share/jupyter/kernels/sysml/sysml.library/Domain Libraries/Analysis/SampledFunctions.sysml...\n",
      "Reading /home/sysml/conda/share/jupyter/kernels/sysml/sysml.library/Domain Libraries/Analysis/AnalysisTooling.sysml...\n",
      "Reading /home/sysml/conda/share/jupyter/kernels/sysml/sysml.library/Domain Libraries/Cause and Effect/CausationConnections.sysml...\n",
      "Reading /home/sysml/conda/share/jupyter/kernels/sysml/sysml.library/Domain Libraries/Cause and Effect/CauseAndEffect.sysml...\n",
      "Reading /home/sysml/conda/share/jupyter/kernels/sysml/sysml.library/Domain Libraries/Quantities and Units/TensorCalculations.sysml...\n",
      "Reading /home/sysml/conda/share/jupyter/kernels/sysml/sysml.library/Domain Libraries/Quantities and Units/ISQSpaceTime.sysml...\n",
      "Reading /home/sysml/conda/share/jupyter/kernels/sysml/sysml.library/Domain Libraries/Quantities and Units/ISQElectromagnetism.sysml...\n",
      "Reading /home/sysml/conda/share/jupyter/kernels/sysml/sysml.library/Domain Libraries/Quantities and Units/USCustomaryUnits.sysml...\n",
      "Reading /home/sysml/conda/share/jupyter/kernels/sysml/sysml.library/Domain Libraries/Quantities and Units/Time.sysml...\n",
      "Reading /home/sysml/conda/share/jupyter/kernels/sysml/sysml.library/Domain Libraries/Quantities and Units/MeasurementReferences.sysml...\n",
      "Reading /home/sysml/conda/share/jupyter/kernels/sysml/sysml.library/Domain Libraries/Quantities and Units/ISQBase.sysml...\n"
     ]
    },
    {
     "name": "stdout",
     "output_type": "stream",
     "text": [
      "Reading /home/sysml/conda/share/jupyter/kernels/sysml/sysml.library/Domain Libraries/Quantities and Units/ISQCondensedMatter.sysml...\n",
      "Reading /home/sysml/conda/share/jupyter/kernels/sysml/sysml.library/Domain Libraries/Quantities and Units/ISQMechanics.sysml...\n",
      "Reading /home/sysml/conda/share/jupyter/kernels/sysml/sysml.library/Domain Libraries/Quantities and Units/SI.sysml...\n",
      "Reading /home/sysml/conda/share/jupyter/kernels/sysml/sysml.library/Domain Libraries/Quantities and Units/ISQCharacteristicNumbers.sysml...\n",
      "Reading /home/sysml/conda/share/jupyter/kernels/sysml/sysml.library/Domain Libraries/Quantities and Units/QuantityCalculations.sysml...\n",
      "Reading /home/sysml/conda/share/jupyter/kernels/sysml/sysml.library/Domain Libraries/Quantities and Units/MeasurementRefCalculations.sysml...\n",
      "Reading /home/sysml/conda/share/jupyter/kernels/sysml/sysml.library/Domain Libraries/Quantities and Units/ISQAtomicNuclear.sysml...\n",
      "Reading /home/sysml/conda/share/jupyter/kernels/sysml/sysml.library/Domain Libraries/Quantities and Units/ISQ.sysml...\n",
      "Reading /home/sysml/conda/share/jupyter/kernels/sysml/sysml.library/Domain Libraries/Quantities and Units/ISQAcoustics.sysml...\n",
      "Reading /home/sysml/conda/share/jupyter/kernels/sysml/sysml.library/Domain Libraries/Quantities and Units/ISQLight.sysml...\n"
     ]
    },
    {
     "name": "stdout",
     "output_type": "stream",
     "text": [
      "Reading /home/sysml/conda/share/jupyter/kernels/sysml/sysml.library/Domain Libraries/Quantities and Units/ISQInformation.sysml...\n",
      "Reading /home/sysml/conda/share/jupyter/kernels/sysml/sysml.library/Domain Libraries/Quantities and Units/ISQThermodynamics.sysml...\n",
      "Reading /home/sysml/conda/share/jupyter/kernels/sysml/sysml.library/Domain Libraries/Quantities and Units/SIPrefixes.sysml...\n",
      "Reading /home/sysml/conda/share/jupyter/kernels/sysml/sysml.library/Domain Libraries/Quantities and Units/VectorCalculations.sysml...\n",
      "Reading /home/sysml/conda/share/jupyter/kernels/sysml/sysml.library/Domain Libraries/Quantities and Units/ISQChemistryMolecular.sysml...\n",
      "Reading /home/sysml/conda/share/jupyter/kernels/sysml/sysml.library/Domain Libraries/Quantities and Units/Quantities.sysml...\n",
      "Reading /home/sysml/conda/share/jupyter/kernels/sysml/sysml.library/Domain Libraries/Metadata/ImageMetadata.sysml...\n",
      "Reading /home/sysml/conda/share/jupyter/kernels/sysml/sysml.library/Domain Libraries/Metadata/ModelingMetadata.sysml...\n",
      "Reading /home/sysml/conda/share/jupyter/kernels/sysml/sysml.library/Domain Libraries/Metadata/ParametersOfInterestMetadata.sysml...\n",
      "Reading /home/sysml/conda/share/jupyter/kernels/sysml/sysml.library/Domain Libraries/Metadata/RiskMetadata.sysml...\n",
      "Reading /home/sysml/conda/share/jupyter/kernels/sysml/sysml.library/Domain Libraries/Requirement Derivation/RequirementDerivation.sysml...\n",
      "Reading /home/sysml/conda/share/jupyter/kernels/sysml/sysml.library/Domain Libraries/Requirement Derivation/DerivationConnections.sysml...\n"
     ]
    },
    {
     "name": "stderr",
     "output_type": "stream",
     "text": [
      "Dec 16, 2024 3:26:11 AM io.github.spencerpark.jupyter.channels.Loop start\n",
      "INFO: Loop starting...\n",
      "Dec 16, 2024 3:26:11 AM io.github.spencerpark.jupyter.channels.Loop start\n",
      "INFO: Loop started.\n",
      "Dec 16, 2024 3:26:11 AM io.github.spencerpark.jupyter.channels.Loop start\n",
      "INFO: Loop starting...\n",
      "Dec 16, 2024 3:26:11 AM io.github.spencerpark.jupyter.channels.Loop start\n",
      "INFO: Loop started.\n",
      "Dec 16, 2024 3:26:11 AM io.github.spencerpark.jupyter.channels.Loop start\n",
      "INFO: Loop starting...\n",
      "Dec 16, 2024 3:26:11 AM io.github.spencerpark.jupyter.channels.Loop start\n",
      "INFO: Loop started.\n"
     ]
    },
    {
     "name": "stderr",
     "output_type": "stream",
     "text": [
      "Dec 16, 2024 3:26:17 AM io.github.spencerpark.jupyter.channels.Loop shutdown\n",
      "INFO: Loop shutdown.\n",
      "Dec 16, 2024 3:26:17 AM io.github.spencerpark.jupyter.channels.Loop shutdown\n",
      "INFO: Loop shutdown.\n",
      "Dec 16, 2024 3:26:17 AM io.github.spencerpark.jupyter.channels.Loop shutdown\n",
      "INFO: Loop shutdown.\n",
      "Dec 16, 2024 3:26:17 AM io.github.spencerpark.jupyter.channels.Loop run\n",
      "INFO: Running loop shutdown callback.\n",
      "Dec 16, 2024 3:26:17 AM io.github.spencerpark.jupyter.channels.Loop run\n",
      "INFO: Loop stopped.\n",
      "Dec 16, 2024 3:26:17 AM io.github.spencerpark.jupyter.channels.Loop run\n",
      "INFO: Running loop shutdown callback.\n",
      "Dec 16, 2024 3:26:17 AM io.github.spencerpark.jupyter.channels.Loop run\n",
      "INFO: Loop stopped.\n",
      "Dec 16, 2024 3:26:17 AM io.github.spencerpark.jupyter.channels.Loop run\n",
      "INFO: Running loop shutdown callback.\n",
      "Dec 16, 2024 3:26:17 AM io.github.spencerpark.jupyter.channels.Loop run\n",
      "INFO: Loop stopped.\n"
     ]
    },
    {
     "name": "stdout",
     "output_type": "stream",
     "text": [
      "Signing notebook: TestSuite/OccurrenceTest.ipynb\n",
      "Executing: TestSuite/ConnectionTest.ipynb\n"
     ]
    },
    {
     "name": "stderr",
     "output_type": "stream",
     "text": [
      "/home/sysml/conda/lib/python3.12/site-packages/nbformat/__init__.py:96: MissingIDFieldWarning: Cell is missing an id field, this will become a hard error in future nbformat versions. You may want to use `normalize()` on your notebooks before validations (available since nbformat 5.1.4). Previous versions of nbformat are fixing this issue transparently, and will stop doing so in the future.\n",
      "  validate(nb)\n"
     ]
    },
    {
     "name": "stdout",
     "output_type": "stream",
     "text": [
      "Reading /home/sysml/conda/share/jupyter/kernels/sysml/sysml.library/Kernel Libraries/Kernel Semantic Library/Observation.kerml...\n"
     ]
    },
    {
     "name": "stderr",
     "output_type": "stream",
     "text": [
      "log4j:WARN No appenders could be found for logger (org.eclipse.xtext.parser.antlr.AbstractInternalAntlrParser).\n",
      "log4j:WARN Please initialize the log4j system properly.\n",
      "log4j:WARN See http://logging.apache.org/log4j/1.2/faq.html#noconfig for more info.\n"
     ]
    },
    {
     "name": "stdout",
     "output_type": "stream",
     "text": [
      "Reading /home/sysml/conda/share/jupyter/kernels/sysml/sysml.library/Kernel Libraries/Kernel Semantic Library/Transfers.kerml...\n",
      "Reading /home/sysml/conda/share/jupyter/kernels/sysml/sysml.library/Kernel Libraries/Kernel Semantic Library/Metaobjects.kerml...\n",
      "Reading /home/sysml/conda/share/jupyter/kernels/sysml/sysml.library/Kernel Libraries/Kernel Semantic Library/Triggers.kerml...\n",
      "Reading /home/sysml/conda/share/jupyter/kernels/sysml/sysml.library/Kernel Libraries/Kernel Semantic Library/Links.kerml...\n",
      "Reading /home/sysml/conda/share/jupyter/kernels/sysml/sysml.library/Kernel Libraries/Kernel Semantic Library/Base.kerml...\n",
      "Reading /home/sysml/conda/share/jupyter/kernels/sysml/sysml.library/Kernel Libraries/Kernel Semantic Library/Objects.kerml...\n",
      "Reading /home/sysml/conda/share/jupyter/kernels/sysml/sysml.library/Kernel Libraries/Kernel Semantic Library/Clocks.kerml...\n",
      "Reading /home/sysml/conda/share/jupyter/kernels/sysml/sysml.library/Kernel Libraries/Kernel Semantic Library/KerML.kerml...\n"
     ]
    },
    {
     "name": "stdout",
     "output_type": "stream",
     "text": [
      "Reading /home/sysml/conda/share/jupyter/kernels/sysml/sysml.library/Kernel Libraries/Kernel Semantic Library/FeatureReferencingPerformances.kerml...\n",
      "Reading /home/sysml/conda/share/jupyter/kernels/sysml/sysml.library/Kernel Libraries/Kernel Semantic Library/Performances.kerml...\n",
      "Reading /home/sysml/conda/share/jupyter/kernels/sysml/sysml.library/Kernel Libraries/Kernel Semantic Library/Occurrences.kerml...\n",
      "Reading /home/sysml/conda/share/jupyter/kernels/sysml/sysml.library/Kernel Libraries/Kernel Semantic Library/ControlPerformances.kerml...\n",
      "Reading /home/sysml/conda/share/jupyter/kernels/sysml/sysml.library/Kernel Libraries/Kernel Semantic Library/StatePerformances.kerml...\n",
      "Reading /home/sysml/conda/share/jupyter/kernels/sysml/sysml.library/Kernel Libraries/Kernel Semantic Library/TransitionPerformances.kerml...\n",
      "Reading /home/sysml/conda/share/jupyter/kernels/sysml/sysml.library/Kernel Libraries/Kernel Semantic Library/SpatialFrames.kerml...\n",
      "Reading /home/sysml/conda/share/jupyter/kernels/sysml/sysml.library/Kernel Libraries/Kernel Data Type Library/VectorValues.kerml...\n",
      "Reading /home/sysml/conda/share/jupyter/kernels/sysml/sysml.library/Kernel Libraries/Kernel Data Type Library/Collections.kerml...\n",
      "Reading /home/sysml/conda/share/jupyter/kernels/sysml/sysml.library/Kernel Libraries/Kernel Data Type Library/ScalarValues.kerml...\n",
      "Reading /home/sysml/conda/share/jupyter/kernels/sysml/sysml.library/Kernel Libraries/Kernel Function Library/NaturalFunctions.kerml...\n",
      "Reading /home/sysml/conda/share/jupyter/kernels/sysml/sysml.library/Kernel Libraries/Kernel Function Library/BaseFunctions.kerml...\n",
      "Reading /home/sysml/conda/share/jupyter/kernels/sysml/sysml.library/Kernel Libraries/Kernel Function Library/DataFunctions.kerml...\n",
      "Reading /home/sysml/conda/share/jupyter/kernels/sysml/sysml.library/Kernel Libraries/Kernel Function Library/IntegerFunctions.kerml...\n",
      "Reading /home/sysml/conda/share/jupyter/kernels/sysml/sysml.library/Kernel Libraries/Kernel Function Library/RealFunctions.kerml...\n",
      "Reading /home/sysml/conda/share/jupyter/kernels/sysml/sysml.library/Kernel Libraries/Kernel Function Library/NumericalFunctions.kerml...\n"
     ]
    },
    {
     "name": "stdout",
     "output_type": "stream",
     "text": [
      "Reading /home/sysml/conda/share/jupyter/kernels/sysml/sysml.library/Kernel Libraries/Kernel Function Library/VectorFunctions.kerml...\n",
      "Reading /home/sysml/conda/share/jupyter/kernels/sysml/sysml.library/Kernel Libraries/Kernel Function Library/SequenceFunctions.kerml...\n",
      "Reading /home/sysml/conda/share/jupyter/kernels/sysml/sysml.library/Kernel Libraries/Kernel Function Library/ComplexFunctions.kerml...\n",
      "Reading /home/sysml/conda/share/jupyter/kernels/sysml/sysml.library/Kernel Libraries/Kernel Function Library/RationalFunctions.kerml...\n",
      "Reading /home/sysml/conda/share/jupyter/kernels/sysml/sysml.library/Kernel Libraries/Kernel Function Library/StringFunctions.kerml...\n",
      "Reading /home/sysml/conda/share/jupyter/kernels/sysml/sysml.library/Kernel Libraries/Kernel Function Library/ScalarFunctions.kerml...\n",
      "Reading /home/sysml/conda/share/jupyter/kernels/sysml/sysml.library/Kernel Libraries/Kernel Function Library/CollectionFunctions.kerml...\n",
      "Reading /home/sysml/conda/share/jupyter/kernels/sysml/sysml.library/Kernel Libraries/Kernel Function Library/BooleanFunctions.kerml...\n",
      "Reading /home/sysml/conda/share/jupyter/kernels/sysml/sysml.library/Kernel Libraries/Kernel Function Library/OccurrenceFunctions.kerml...\n",
      "Reading /home/sysml/conda/share/jupyter/kernels/sysml/sysml.library/Kernel Libraries/Kernel Function Library/TrigFunctions.kerml...\n",
      "Reading /home/sysml/conda/share/jupyter/kernels/sysml/sysml.library/Kernel Libraries/Kernel Function Library/ControlFunctions.kerml...\n",
      "Reading /home/sysml/conda/share/jupyter/kernels/sysml/sysml.library/Systems Library/Connections.sysml...\n"
     ]
    },
    {
     "name": "stdout",
     "output_type": "stream",
     "text": [
      "Reading /home/sysml/conda/share/jupyter/kernels/sysml/sysml.library/Systems Library/States.sysml...\n",
      "Reading /home/sysml/conda/share/jupyter/kernels/sysml/sysml.library/Systems Library/Actions.sysml...\n",
      "Reading /home/sysml/conda/share/jupyter/kernels/sysml/sysml.library/Systems Library/Metadata.sysml...\n",
      "Reading /home/sysml/conda/share/jupyter/kernels/sysml/sysml.library/Systems Library/Requirements.sysml...\n",
      "Reading /home/sysml/conda/share/jupyter/kernels/sysml/sysml.library/Systems Library/AnalysisCases.sysml...\n",
      "Reading /home/sysml/conda/share/jupyter/kernels/sysml/sysml.library/Systems Library/Attributes.sysml...\n",
      "Reading /home/sysml/conda/share/jupyter/kernels/sysml/sysml.library/Systems Library/Cases.sysml...\n",
      "Reading /home/sysml/conda/share/jupyter/kernels/sysml/sysml.library/Systems Library/VerificationCases.sysml...\n",
      "Reading /home/sysml/conda/share/jupyter/kernels/sysml/sysml.library/Systems Library/Interfaces.sysml...\n",
      "Reading /home/sysml/conda/share/jupyter/kernels/sysml/sysml.library/Systems Library/Ports.sysml...\n",
      "Reading /home/sysml/conda/share/jupyter/kernels/sysml/sysml.library/Systems Library/Views.sysml...\n",
      "Reading /home/sysml/conda/share/jupyter/kernels/sysml/sysml.library/Systems Library/UseCases.sysml...\n",
      "Reading /home/sysml/conda/share/jupyter/kernels/sysml/sysml.library/Systems Library/Parts.sysml...\n",
      "Reading /home/sysml/conda/share/jupyter/kernels/sysml/sysml.library/Systems Library/SysML.sysml...\n",
      "Reading /home/sysml/conda/share/jupyter/kernels/sysml/sysml.library/Systems Library/Constraints.sysml...\n",
      "Reading /home/sysml/conda/share/jupyter/kernels/sysml/sysml.library/Systems Library/Items.sysml...\n"
     ]
    },
    {
     "name": "stdout",
     "output_type": "stream",
     "text": [
      "Reading /home/sysml/conda/share/jupyter/kernels/sysml/sysml.library/Systems Library/Calculations.sysml...\n",
      "Reading /home/sysml/conda/share/jupyter/kernels/sysml/sysml.library/Systems Library/StandardViewDefinitions.sysml...\n",
      "Reading /home/sysml/conda/share/jupyter/kernels/sysml/sysml.library/Systems Library/Allocations.sysml...\n",
      "Reading /home/sysml/conda/share/jupyter/kernels/sysml/sysml.library/Domain Libraries/Geometry/SpatialItems.sysml...\n",
      "Reading /home/sysml/conda/share/jupyter/kernels/sysml/sysml.library/Domain Libraries/Geometry/ShapeItems.sysml...\n",
      "Reading /home/sysml/conda/share/jupyter/kernels/sysml/sysml.library/Domain Libraries/Analysis/TradeStudies.sysml...\n",
      "Reading /home/sysml/conda/share/jupyter/kernels/sysml/sysml.library/Domain Libraries/Analysis/StateSpaceRepresentation.sysml...\n",
      "Reading /home/sysml/conda/share/jupyter/kernels/sysml/sysml.library/Domain Libraries/Analysis/SampledFunctions.sysml...\n",
      "Reading /home/sysml/conda/share/jupyter/kernels/sysml/sysml.library/Domain Libraries/Analysis/AnalysisTooling.sysml...\n",
      "Reading /home/sysml/conda/share/jupyter/kernels/sysml/sysml.library/Domain Libraries/Cause and Effect/CausationConnections.sysml...\n",
      "Reading /home/sysml/conda/share/jupyter/kernels/sysml/sysml.library/Domain Libraries/Cause and Effect/CauseAndEffect.sysml...\n",
      "Reading /home/sysml/conda/share/jupyter/kernels/sysml/sysml.library/Domain Libraries/Quantities and Units/TensorCalculations.sysml...\n",
      "Reading /home/sysml/conda/share/jupyter/kernels/sysml/sysml.library/Domain Libraries/Quantities and Units/ISQSpaceTime.sysml...\n",
      "Reading /home/sysml/conda/share/jupyter/kernels/sysml/sysml.library/Domain Libraries/Quantities and Units/ISQElectromagnetism.sysml...\n"
     ]
    },
    {
     "name": "stdout",
     "output_type": "stream",
     "text": [
      "Reading /home/sysml/conda/share/jupyter/kernels/sysml/sysml.library/Domain Libraries/Quantities and Units/USCustomaryUnits.sysml...\n",
      "Reading /home/sysml/conda/share/jupyter/kernels/sysml/sysml.library/Domain Libraries/Quantities and Units/Time.sysml...\n",
      "Reading /home/sysml/conda/share/jupyter/kernels/sysml/sysml.library/Domain Libraries/Quantities and Units/MeasurementReferences.sysml...\n",
      "Reading /home/sysml/conda/share/jupyter/kernels/sysml/sysml.library/Domain Libraries/Quantities and Units/ISQBase.sysml...\n",
      "Reading /home/sysml/conda/share/jupyter/kernels/sysml/sysml.library/Domain Libraries/Quantities and Units/ISQCondensedMatter.sysml...\n",
      "Reading /home/sysml/conda/share/jupyter/kernels/sysml/sysml.library/Domain Libraries/Quantities and Units/ISQMechanics.sysml...\n",
      "Reading /home/sysml/conda/share/jupyter/kernels/sysml/sysml.library/Domain Libraries/Quantities and Units/SI.sysml...\n",
      "Reading /home/sysml/conda/share/jupyter/kernels/sysml/sysml.library/Domain Libraries/Quantities and Units/ISQCharacteristicNumbers.sysml...\n",
      "Reading /home/sysml/conda/share/jupyter/kernels/sysml/sysml.library/Domain Libraries/Quantities and Units/QuantityCalculations.sysml...\n",
      "Reading /home/sysml/conda/share/jupyter/kernels/sysml/sysml.library/Domain Libraries/Quantities and Units/MeasurementRefCalculations.sysml...\n",
      "Reading /home/sysml/conda/share/jupyter/kernels/sysml/sysml.library/Domain Libraries/Quantities and Units/ISQAtomicNuclear.sysml...\n"
     ]
    },
    {
     "name": "stdout",
     "output_type": "stream",
     "text": [
      "Reading /home/sysml/conda/share/jupyter/kernels/sysml/sysml.library/Domain Libraries/Quantities and Units/ISQ.sysml...\n",
      "Reading /home/sysml/conda/share/jupyter/kernels/sysml/sysml.library/Domain Libraries/Quantities and Units/ISQAcoustics.sysml...\n",
      "Reading /home/sysml/conda/share/jupyter/kernels/sysml/sysml.library/Domain Libraries/Quantities and Units/ISQLight.sysml...\n",
      "Reading /home/sysml/conda/share/jupyter/kernels/sysml/sysml.library/Domain Libraries/Quantities and Units/ISQInformation.sysml...\n",
      "Reading /home/sysml/conda/share/jupyter/kernels/sysml/sysml.library/Domain Libraries/Quantities and Units/ISQThermodynamics.sysml...\n",
      "Reading /home/sysml/conda/share/jupyter/kernels/sysml/sysml.library/Domain Libraries/Quantities and Units/SIPrefixes.sysml...\n",
      "Reading /home/sysml/conda/share/jupyter/kernels/sysml/sysml.library/Domain Libraries/Quantities and Units/VectorCalculations.sysml...\n",
      "Reading /home/sysml/conda/share/jupyter/kernels/sysml/sysml.library/Domain Libraries/Quantities and Units/ISQChemistryMolecular.sysml...\n",
      "Reading /home/sysml/conda/share/jupyter/kernels/sysml/sysml.library/Domain Libraries/Quantities and Units/Quantities.sysml...\n",
      "Reading /home/sysml/conda/share/jupyter/kernels/sysml/sysml.library/Domain Libraries/Metadata/ImageMetadata.sysml...\n",
      "Reading /home/sysml/conda/share/jupyter/kernels/sysml/sysml.library/Domain Libraries/Metadata/ModelingMetadata.sysml...\n",
      "Reading /home/sysml/conda/share/jupyter/kernels/sysml/sysml.library/Domain Libraries/Metadata/ParametersOfInterestMetadata.sysml...\n",
      "Reading /home/sysml/conda/share/jupyter/kernels/sysml/sysml.library/Domain Libraries/Metadata/RiskMetadata.sysml...\n",
      "Reading /home/sysml/conda/share/jupyter/kernels/sysml/sysml.library/Domain Libraries/Requirement Derivation/RequirementDerivation.sysml...\n",
      "Reading /home/sysml/conda/share/jupyter/kernels/sysml/sysml.library/Domain Libraries/Requirement Derivation/DerivationConnections.sysml...\n"
     ]
    },
    {
     "name": "stderr",
     "output_type": "stream",
     "text": [
      "Dec 16, 2024 3:26:21 AM io.github.spencerpark.jupyter.channels.Loop start\n",
      "INFO: Loop starting...\n",
      "Dec 16, 2024 3:26:21 AM io.github.spencerpark.jupyter.channels.Loop start\n",
      "INFO: Loop started.\n",
      "Dec 16, 2024 3:26:21 AM io.github.spencerpark.jupyter.channels.Loop start\n",
      "INFO: Loop starting...\n",
      "Dec 16, 2024 3:26:21 AM io.github.spencerpark.jupyter.channels.Loop start\n",
      "INFO: Loop started.\n",
      "Dec 16, 2024 3:26:21 AM io.github.spencerpark.jupyter.channels.Loop start\n",
      "INFO: Loop starting...\n",
      "Dec 16, 2024 3:26:21 AM io.github.spencerpark.jupyter.channels.Loop start\n",
      "INFO: Loop started.\n"
     ]
    },
    {
     "name": "stderr",
     "output_type": "stream",
     "text": [
      "Dec 16, 2024 3:26:27 AM io.github.spencerpark.jupyter.channels.Loop shutdown\n",
      "INFO: Loop shutdown.\n",
      "Dec 16, 2024 3:26:27 AM io.github.spencerpark.jupyter.channels.Loop shutdown\n",
      "INFO: Loop shutdown.\n",
      "Dec 16, 2024 3:26:27 AM io.github.spencerpark.jupyter.channels.Loop shutdown\n",
      "INFO: Loop shutdown.\n",
      "Dec 16, 2024 3:26:27 AM io.github.spencerpark.jupyter.channels.Loop run\n",
      "INFO: Running loop shutdown callback.\n",
      "Dec 16, 2024 3:26:27 AM io.github.spencerpark.jupyter.channels.Loop run\n",
      "INFO: Loop stopped.\n",
      "Dec 16, 2024 3:26:27 AM io.github.spencerpark.jupyter.channels.Loop run\n",
      "INFO: Running loop shutdown callback.\n",
      "Dec 16, 2024 3:26:27 AM io.github.spencerpark.jupyter.channels.Loop run\n",
      "INFO: Loop stopped.\n"
     ]
    },
    {
     "name": "stderr",
     "output_type": "stream",
     "text": [
      "Dec 16, 2024 3:26:28 AM io.github.spencerpark.jupyter.channels.Loop run\n",
      "INFO: Running loop shutdown callback.\n",
      "Dec 16, 2024 3:26:28 AM io.github.spencerpark.jupyter.channels.Loop run\n",
      "INFO: Loop stopped.\n"
     ]
    },
    {
     "name": "stdout",
     "output_type": "stream",
     "text": [
      "Signing notebook: TestSuite/ConnectionTest.ipynb\n",
      "Executing: TestSuite/FeaturePathTest.ipynb\n"
     ]
    },
    {
     "name": "stderr",
     "output_type": "stream",
     "text": [
      "/home/sysml/conda/lib/python3.12/site-packages/nbformat/__init__.py:96: MissingIDFieldWarning: Cell is missing an id field, this will become a hard error in future nbformat versions. You may want to use `normalize()` on your notebooks before validations (available since nbformat 5.1.4). Previous versions of nbformat are fixing this issue transparently, and will stop doing so in the future.\n",
      "  validate(nb)\n"
     ]
    },
    {
     "name": "stdout",
     "output_type": "stream",
     "text": [
      "Reading /home/sysml/conda/share/jupyter/kernels/sysml/sysml.library/Kernel Libraries/Kernel Semantic Library/Observation.kerml...\n"
     ]
    },
    {
     "name": "stderr",
     "output_type": "stream",
     "text": [
      "log4j:WARN No appenders could be found for logger (org.eclipse.xtext.parser.antlr.AbstractInternalAntlrParser).\n",
      "log4j:WARN Please initialize the log4j system properly.\n",
      "log4j:WARN See http://logging.apache.org/log4j/1.2/faq.html#noconfig for more info.\n"
     ]
    },
    {
     "name": "stdout",
     "output_type": "stream",
     "text": [
      "Reading /home/sysml/conda/share/jupyter/kernels/sysml/sysml.library/Kernel Libraries/Kernel Semantic Library/Transfers.kerml...\n",
      "Reading /home/sysml/conda/share/jupyter/kernels/sysml/sysml.library/Kernel Libraries/Kernel Semantic Library/Metaobjects.kerml...\n",
      "Reading /home/sysml/conda/share/jupyter/kernels/sysml/sysml.library/Kernel Libraries/Kernel Semantic Library/Triggers.kerml...\n",
      "Reading /home/sysml/conda/share/jupyter/kernels/sysml/sysml.library/Kernel Libraries/Kernel Semantic Library/Links.kerml...\n",
      "Reading /home/sysml/conda/share/jupyter/kernels/sysml/sysml.library/Kernel Libraries/Kernel Semantic Library/Base.kerml...\n",
      "Reading /home/sysml/conda/share/jupyter/kernels/sysml/sysml.library/Kernel Libraries/Kernel Semantic Library/Objects.kerml...\n",
      "Reading /home/sysml/conda/share/jupyter/kernels/sysml/sysml.library/Kernel Libraries/Kernel Semantic Library/Clocks.kerml...\n",
      "Reading /home/sysml/conda/share/jupyter/kernels/sysml/sysml.library/Kernel Libraries/Kernel Semantic Library/KerML.kerml...\n"
     ]
    },
    {
     "name": "stdout",
     "output_type": "stream",
     "text": [
      "Reading /home/sysml/conda/share/jupyter/kernels/sysml/sysml.library/Kernel Libraries/Kernel Semantic Library/FeatureReferencingPerformances.kerml...\n",
      "Reading /home/sysml/conda/share/jupyter/kernels/sysml/sysml.library/Kernel Libraries/Kernel Semantic Library/Performances.kerml...\n",
      "Reading /home/sysml/conda/share/jupyter/kernels/sysml/sysml.library/Kernel Libraries/Kernel Semantic Library/Occurrences.kerml...\n",
      "Reading /home/sysml/conda/share/jupyter/kernels/sysml/sysml.library/Kernel Libraries/Kernel Semantic Library/ControlPerformances.kerml...\n",
      "Reading /home/sysml/conda/share/jupyter/kernels/sysml/sysml.library/Kernel Libraries/Kernel Semantic Library/StatePerformances.kerml...\n",
      "Reading /home/sysml/conda/share/jupyter/kernels/sysml/sysml.library/Kernel Libraries/Kernel Semantic Library/TransitionPerformances.kerml...\n",
      "Reading /home/sysml/conda/share/jupyter/kernels/sysml/sysml.library/Kernel Libraries/Kernel Semantic Library/SpatialFrames.kerml...\n",
      "Reading /home/sysml/conda/share/jupyter/kernels/sysml/sysml.library/Kernel Libraries/Kernel Data Type Library/VectorValues.kerml...\n",
      "Reading /home/sysml/conda/share/jupyter/kernels/sysml/sysml.library/Kernel Libraries/Kernel Data Type Library/Collections.kerml...\n",
      "Reading /home/sysml/conda/share/jupyter/kernels/sysml/sysml.library/Kernel Libraries/Kernel Data Type Library/ScalarValues.kerml...\n",
      "Reading /home/sysml/conda/share/jupyter/kernels/sysml/sysml.library/Kernel Libraries/Kernel Function Library/NaturalFunctions.kerml...\n",
      "Reading /home/sysml/conda/share/jupyter/kernels/sysml/sysml.library/Kernel Libraries/Kernel Function Library/BaseFunctions.kerml...\n",
      "Reading /home/sysml/conda/share/jupyter/kernels/sysml/sysml.library/Kernel Libraries/Kernel Function Library/DataFunctions.kerml...\n",
      "Reading /home/sysml/conda/share/jupyter/kernels/sysml/sysml.library/Kernel Libraries/Kernel Function Library/IntegerFunctions.kerml...\n",
      "Reading /home/sysml/conda/share/jupyter/kernels/sysml/sysml.library/Kernel Libraries/Kernel Function Library/RealFunctions.kerml...\n"
     ]
    },
    {
     "name": "stdout",
     "output_type": "stream",
     "text": [
      "Reading /home/sysml/conda/share/jupyter/kernels/sysml/sysml.library/Kernel Libraries/Kernel Function Library/NumericalFunctions.kerml...\n",
      "Reading /home/sysml/conda/share/jupyter/kernels/sysml/sysml.library/Kernel Libraries/Kernel Function Library/VectorFunctions.kerml...\n",
      "Reading /home/sysml/conda/share/jupyter/kernels/sysml/sysml.library/Kernel Libraries/Kernel Function Library/SequenceFunctions.kerml...\n",
      "Reading /home/sysml/conda/share/jupyter/kernels/sysml/sysml.library/Kernel Libraries/Kernel Function Library/ComplexFunctions.kerml...\n",
      "Reading /home/sysml/conda/share/jupyter/kernels/sysml/sysml.library/Kernel Libraries/Kernel Function Library/RationalFunctions.kerml...\n",
      "Reading /home/sysml/conda/share/jupyter/kernels/sysml/sysml.library/Kernel Libraries/Kernel Function Library/StringFunctions.kerml...\n",
      "Reading /home/sysml/conda/share/jupyter/kernels/sysml/sysml.library/Kernel Libraries/Kernel Function Library/ScalarFunctions.kerml...\n",
      "Reading /home/sysml/conda/share/jupyter/kernels/sysml/sysml.library/Kernel Libraries/Kernel Function Library/CollectionFunctions.kerml...\n",
      "Reading /home/sysml/conda/share/jupyter/kernels/sysml/sysml.library/Kernel Libraries/Kernel Function Library/BooleanFunctions.kerml...\n",
      "Reading /home/sysml/conda/share/jupyter/kernels/sysml/sysml.library/Kernel Libraries/Kernel Function Library/OccurrenceFunctions.kerml...\n",
      "Reading /home/sysml/conda/share/jupyter/kernels/sysml/sysml.library/Kernel Libraries/Kernel Function Library/TrigFunctions.kerml...\n",
      "Reading /home/sysml/conda/share/jupyter/kernels/sysml/sysml.library/Kernel Libraries/Kernel Function Library/ControlFunctions.kerml...\n",
      "Reading /home/sysml/conda/share/jupyter/kernels/sysml/sysml.library/Systems Library/Connections.sysml...\n"
     ]
    },
    {
     "name": "stdout",
     "output_type": "stream",
     "text": [
      "Reading /home/sysml/conda/share/jupyter/kernels/sysml/sysml.library/Systems Library/States.sysml...\n",
      "Reading /home/sysml/conda/share/jupyter/kernels/sysml/sysml.library/Systems Library/Actions.sysml...\n",
      "Reading /home/sysml/conda/share/jupyter/kernels/sysml/sysml.library/Systems Library/Metadata.sysml...\n",
      "Reading /home/sysml/conda/share/jupyter/kernels/sysml/sysml.library/Systems Library/Requirements.sysml...\n",
      "Reading /home/sysml/conda/share/jupyter/kernels/sysml/sysml.library/Systems Library/AnalysisCases.sysml...\n",
      "Reading /home/sysml/conda/share/jupyter/kernels/sysml/sysml.library/Systems Library/Attributes.sysml...\n",
      "Reading /home/sysml/conda/share/jupyter/kernels/sysml/sysml.library/Systems Library/Cases.sysml...\n",
      "Reading /home/sysml/conda/share/jupyter/kernels/sysml/sysml.library/Systems Library/VerificationCases.sysml...\n",
      "Reading /home/sysml/conda/share/jupyter/kernels/sysml/sysml.library/Systems Library/Interfaces.sysml...\n",
      "Reading /home/sysml/conda/share/jupyter/kernels/sysml/sysml.library/Systems Library/Ports.sysml...\n",
      "Reading /home/sysml/conda/share/jupyter/kernels/sysml/sysml.library/Systems Library/Views.sysml...\n",
      "Reading /home/sysml/conda/share/jupyter/kernels/sysml/sysml.library/Systems Library/UseCases.sysml...\n",
      "Reading /home/sysml/conda/share/jupyter/kernels/sysml/sysml.library/Systems Library/Parts.sysml...\n",
      "Reading /home/sysml/conda/share/jupyter/kernels/sysml/sysml.library/Systems Library/SysML.sysml...\n",
      "Reading /home/sysml/conda/share/jupyter/kernels/sysml/sysml.library/Systems Library/Constraints.sysml...\n",
      "Reading /home/sysml/conda/share/jupyter/kernels/sysml/sysml.library/Systems Library/Items.sysml...\n",
      "Reading /home/sysml/conda/share/jupyter/kernels/sysml/sysml.library/Systems Library/Calculations.sysml...\n",
      "Reading /home/sysml/conda/share/jupyter/kernels/sysml/sysml.library/Systems Library/StandardViewDefinitions.sysml...\n"
     ]
    },
    {
     "name": "stdout",
     "output_type": "stream",
     "text": [
      "Reading /home/sysml/conda/share/jupyter/kernels/sysml/sysml.library/Systems Library/Allocations.sysml...\n",
      "Reading /home/sysml/conda/share/jupyter/kernels/sysml/sysml.library/Domain Libraries/Geometry/SpatialItems.sysml...\n",
      "Reading /home/sysml/conda/share/jupyter/kernels/sysml/sysml.library/Domain Libraries/Geometry/ShapeItems.sysml...\n",
      "Reading /home/sysml/conda/share/jupyter/kernels/sysml/sysml.library/Domain Libraries/Analysis/TradeStudies.sysml...\n",
      "Reading /home/sysml/conda/share/jupyter/kernels/sysml/sysml.library/Domain Libraries/Analysis/StateSpaceRepresentation.sysml...\n",
      "Reading /home/sysml/conda/share/jupyter/kernels/sysml/sysml.library/Domain Libraries/Analysis/SampledFunctions.sysml...\n",
      "Reading /home/sysml/conda/share/jupyter/kernels/sysml/sysml.library/Domain Libraries/Analysis/AnalysisTooling.sysml...\n",
      "Reading /home/sysml/conda/share/jupyter/kernels/sysml/sysml.library/Domain Libraries/Cause and Effect/CausationConnections.sysml...\n",
      "Reading /home/sysml/conda/share/jupyter/kernels/sysml/sysml.library/Domain Libraries/Cause and Effect/CauseAndEffect.sysml...\n",
      "Reading /home/sysml/conda/share/jupyter/kernels/sysml/sysml.library/Domain Libraries/Quantities and Units/TensorCalculations.sysml...\n",
      "Reading /home/sysml/conda/share/jupyter/kernels/sysml/sysml.library/Domain Libraries/Quantities and Units/ISQSpaceTime.sysml...\n",
      "Reading /home/sysml/conda/share/jupyter/kernels/sysml/sysml.library/Domain Libraries/Quantities and Units/ISQElectromagnetism.sysml...\n"
     ]
    },
    {
     "name": "stdout",
     "output_type": "stream",
     "text": [
      "Reading /home/sysml/conda/share/jupyter/kernels/sysml/sysml.library/Domain Libraries/Quantities and Units/USCustomaryUnits.sysml...\n",
      "Reading /home/sysml/conda/share/jupyter/kernels/sysml/sysml.library/Domain Libraries/Quantities and Units/Time.sysml...\n",
      "Reading /home/sysml/conda/share/jupyter/kernels/sysml/sysml.library/Domain Libraries/Quantities and Units/MeasurementReferences.sysml...\n",
      "Reading /home/sysml/conda/share/jupyter/kernels/sysml/sysml.library/Domain Libraries/Quantities and Units/ISQBase.sysml...\n",
      "Reading /home/sysml/conda/share/jupyter/kernels/sysml/sysml.library/Domain Libraries/Quantities and Units/ISQCondensedMatter.sysml...\n",
      "Reading /home/sysml/conda/share/jupyter/kernels/sysml/sysml.library/Domain Libraries/Quantities and Units/ISQMechanics.sysml...\n",
      "Reading /home/sysml/conda/share/jupyter/kernels/sysml/sysml.library/Domain Libraries/Quantities and Units/SI.sysml...\n",
      "Reading /home/sysml/conda/share/jupyter/kernels/sysml/sysml.library/Domain Libraries/Quantities and Units/ISQCharacteristicNumbers.sysml...\n",
      "Reading /home/sysml/conda/share/jupyter/kernels/sysml/sysml.library/Domain Libraries/Quantities and Units/QuantityCalculations.sysml...\n",
      "Reading /home/sysml/conda/share/jupyter/kernels/sysml/sysml.library/Domain Libraries/Quantities and Units/MeasurementRefCalculations.sysml...\n",
      "Reading /home/sysml/conda/share/jupyter/kernels/sysml/sysml.library/Domain Libraries/Quantities and Units/ISQAtomicNuclear.sysml...\n"
     ]
    },
    {
     "name": "stdout",
     "output_type": "stream",
     "text": [
      "Reading /home/sysml/conda/share/jupyter/kernels/sysml/sysml.library/Domain Libraries/Quantities and Units/ISQ.sysml...\n",
      "Reading /home/sysml/conda/share/jupyter/kernels/sysml/sysml.library/Domain Libraries/Quantities and Units/ISQAcoustics.sysml...\n",
      "Reading /home/sysml/conda/share/jupyter/kernels/sysml/sysml.library/Domain Libraries/Quantities and Units/ISQLight.sysml...\n",
      "Reading /home/sysml/conda/share/jupyter/kernels/sysml/sysml.library/Domain Libraries/Quantities and Units/ISQInformation.sysml...\n",
      "Reading /home/sysml/conda/share/jupyter/kernels/sysml/sysml.library/Domain Libraries/Quantities and Units/ISQThermodynamics.sysml...\n",
      "Reading /home/sysml/conda/share/jupyter/kernels/sysml/sysml.library/Domain Libraries/Quantities and Units/SIPrefixes.sysml...\n",
      "Reading /home/sysml/conda/share/jupyter/kernels/sysml/sysml.library/Domain Libraries/Quantities and Units/VectorCalculations.sysml...\n",
      "Reading /home/sysml/conda/share/jupyter/kernels/sysml/sysml.library/Domain Libraries/Quantities and Units/ISQChemistryMolecular.sysml...\n",
      "Reading /home/sysml/conda/share/jupyter/kernels/sysml/sysml.library/Domain Libraries/Quantities and Units/Quantities.sysml...\n",
      "Reading /home/sysml/conda/share/jupyter/kernels/sysml/sysml.library/Domain Libraries/Metadata/ImageMetadata.sysml...\n",
      "Reading /home/sysml/conda/share/jupyter/kernels/sysml/sysml.library/Domain Libraries/Metadata/ModelingMetadata.sysml...\n",
      "Reading /home/sysml/conda/share/jupyter/kernels/sysml/sysml.library/Domain Libraries/Metadata/ParametersOfInterestMetadata.sysml...\n",
      "Reading /home/sysml/conda/share/jupyter/kernels/sysml/sysml.library/Domain Libraries/Metadata/RiskMetadata.sysml...\n",
      "Reading /home/sysml/conda/share/jupyter/kernels/sysml/sysml.library/Domain Libraries/Requirement Derivation/RequirementDerivation.sysml...\n",
      "Reading /home/sysml/conda/share/jupyter/kernels/sysml/sysml.library/Domain Libraries/Requirement Derivation/DerivationConnections.sysml...\n"
     ]
    },
    {
     "name": "stderr",
     "output_type": "stream",
     "text": [
      "Dec 16, 2024 3:26:32 AM io.github.spencerpark.jupyter.channels.Loop start\n",
      "INFO: Loop starting...\n",
      "Dec 16, 2024 3:26:32 AM io.github.spencerpark.jupyter.channels.Loop start\n",
      "INFO: Loop started.\n",
      "Dec 16, 2024 3:26:32 AM io.github.spencerpark.jupyter.channels.Loop start\n",
      "INFO: Loop starting...\n",
      "Dec 16, 2024 3:26:32 AM io.github.spencerpark.jupyter.channels.Loop start\n",
      "INFO: Loop started.\n",
      "Dec 16, 2024 3:26:32 AM io.github.spencerpark.jupyter.channels.Loop start\n",
      "INFO: Loop starting...\n",
      "Dec 16, 2024 3:26:32 AM io.github.spencerpark.jupyter.channels.Loop start\n",
      "INFO: Loop started.\n"
     ]
    },
    {
     "name": "stderr",
     "output_type": "stream",
     "text": [
      "Dec 16, 2024 3:26:38 AM io.github.spencerpark.jupyter.channels.Loop shutdown\n",
      "INFO: Loop shutdown.\n",
      "Dec 16, 2024 3:26:38 AM io.github.spencerpark.jupyter.channels.Loop shutdown\n",
      "INFO: Loop shutdown.\n",
      "Dec 16, 2024 3:26:38 AM io.github.spencerpark.jupyter.channels.Loop shutdown\n",
      "INFO: Loop shutdown.\n",
      "Dec 16, 2024 3:26:38 AM io.github.spencerpark.jupyter.channels.Loop run\n",
      "INFO: Running loop shutdown callback.\n",
      "Dec 16, 2024 3:26:38 AM io.github.spencerpark.jupyter.channels.Loop run\n",
      "INFO: Loop stopped.\n",
      "Dec 16, 2024 3:26:38 AM io.github.spencerpark.jupyter.channels.Loop run\n",
      "INFO: Running loop shutdown callback.\n",
      "Dec 16, 2024 3:26:38 AM io.github.spencerpark.jupyter.channels.Loop run\n",
      "INFO: Loop stopped.\n"
     ]
    },
    {
     "name": "stderr",
     "output_type": "stream",
     "text": [
      "Dec 16, 2024 3:26:39 AM io.github.spencerpark.jupyter.channels.Loop run\n",
      "INFO: Running loop shutdown callback.\n",
      "Dec 16, 2024 3:26:39 AM io.github.spencerpark.jupyter.channels.Loop run\n",
      "INFO: Loop stopped.\n"
     ]
    },
    {
     "name": "stdout",
     "output_type": "stream",
     "text": [
      "Signing notebook: TestSuite/FeaturePathTest.ipynb\n",
      "Executing: TestSuite/AliasImport.ipynb\n"
     ]
    },
    {
     "name": "stderr",
     "output_type": "stream",
     "text": [
      "/home/sysml/conda/lib/python3.12/site-packages/nbformat/__init__.py:96: MissingIDFieldWarning: Cell is missing an id field, this will become a hard error in future nbformat versions. You may want to use `normalize()` on your notebooks before validations (available since nbformat 5.1.4). Previous versions of nbformat are fixing this issue transparently, and will stop doing so in the future.\n",
      "  validate(nb)\n"
     ]
    },
    {
     "name": "stdout",
     "output_type": "stream",
     "text": [
      "Reading /home/sysml/conda/share/jupyter/kernels/sysml/sysml.library/Kernel Libraries/Kernel Semantic Library/Observation.kerml...\n"
     ]
    },
    {
     "name": "stderr",
     "output_type": "stream",
     "text": [
      "log4j:WARN No appenders could be found for logger (org.eclipse.xtext.parser.antlr.AbstractInternalAntlrParser).\n",
      "log4j:WARN Please initialize the log4j system properly.\n",
      "log4j:WARN See http://logging.apache.org/log4j/1.2/faq.html#noconfig for more info.\n"
     ]
    },
    {
     "name": "stdout",
     "output_type": "stream",
     "text": [
      "Reading /home/sysml/conda/share/jupyter/kernels/sysml/sysml.library/Kernel Libraries/Kernel Semantic Library/Transfers.kerml...\n",
      "Reading /home/sysml/conda/share/jupyter/kernels/sysml/sysml.library/Kernel Libraries/Kernel Semantic Library/Metaobjects.kerml...\n",
      "Reading /home/sysml/conda/share/jupyter/kernels/sysml/sysml.library/Kernel Libraries/Kernel Semantic Library/Triggers.kerml...\n",
      "Reading /home/sysml/conda/share/jupyter/kernels/sysml/sysml.library/Kernel Libraries/Kernel Semantic Library/Links.kerml...\n",
      "Reading /home/sysml/conda/share/jupyter/kernels/sysml/sysml.library/Kernel Libraries/Kernel Semantic Library/Base.kerml...\n",
      "Reading /home/sysml/conda/share/jupyter/kernels/sysml/sysml.library/Kernel Libraries/Kernel Semantic Library/Objects.kerml...\n",
      "Reading /home/sysml/conda/share/jupyter/kernels/sysml/sysml.library/Kernel Libraries/Kernel Semantic Library/Clocks.kerml...\n",
      "Reading /home/sysml/conda/share/jupyter/kernels/sysml/sysml.library/Kernel Libraries/Kernel Semantic Library/KerML.kerml...\n"
     ]
    },
    {
     "name": "stdout",
     "output_type": "stream",
     "text": [
      "Reading /home/sysml/conda/share/jupyter/kernels/sysml/sysml.library/Kernel Libraries/Kernel Semantic Library/FeatureReferencingPerformances.kerml...\n",
      "Reading /home/sysml/conda/share/jupyter/kernels/sysml/sysml.library/Kernel Libraries/Kernel Semantic Library/Performances.kerml...\n",
      "Reading /home/sysml/conda/share/jupyter/kernels/sysml/sysml.library/Kernel Libraries/Kernel Semantic Library/Occurrences.kerml...\n",
      "Reading /home/sysml/conda/share/jupyter/kernels/sysml/sysml.library/Kernel Libraries/Kernel Semantic Library/ControlPerformances.kerml...\n",
      "Reading /home/sysml/conda/share/jupyter/kernels/sysml/sysml.library/Kernel Libraries/Kernel Semantic Library/StatePerformances.kerml...\n",
      "Reading /home/sysml/conda/share/jupyter/kernels/sysml/sysml.library/Kernel Libraries/Kernel Semantic Library/TransitionPerformances.kerml...\n",
      "Reading /home/sysml/conda/share/jupyter/kernels/sysml/sysml.library/Kernel Libraries/Kernel Semantic Library/SpatialFrames.kerml...\n",
      "Reading /home/sysml/conda/share/jupyter/kernels/sysml/sysml.library/Kernel Libraries/Kernel Data Type Library/VectorValues.kerml...\n",
      "Reading /home/sysml/conda/share/jupyter/kernels/sysml/sysml.library/Kernel Libraries/Kernel Data Type Library/Collections.kerml...\n",
      "Reading /home/sysml/conda/share/jupyter/kernels/sysml/sysml.library/Kernel Libraries/Kernel Data Type Library/ScalarValues.kerml...\n",
      "Reading /home/sysml/conda/share/jupyter/kernels/sysml/sysml.library/Kernel Libraries/Kernel Function Library/NaturalFunctions.kerml...\n",
      "Reading /home/sysml/conda/share/jupyter/kernels/sysml/sysml.library/Kernel Libraries/Kernel Function Library/BaseFunctions.kerml...\n",
      "Reading /home/sysml/conda/share/jupyter/kernels/sysml/sysml.library/Kernel Libraries/Kernel Function Library/DataFunctions.kerml...\n",
      "Reading /home/sysml/conda/share/jupyter/kernels/sysml/sysml.library/Kernel Libraries/Kernel Function Library/IntegerFunctions.kerml...\n",
      "Reading /home/sysml/conda/share/jupyter/kernels/sysml/sysml.library/Kernel Libraries/Kernel Function Library/RealFunctions.kerml...\n"
     ]
    },
    {
     "name": "stdout",
     "output_type": "stream",
     "text": [
      "Reading /home/sysml/conda/share/jupyter/kernels/sysml/sysml.library/Kernel Libraries/Kernel Function Library/NumericalFunctions.kerml...\n",
      "Reading /home/sysml/conda/share/jupyter/kernels/sysml/sysml.library/Kernel Libraries/Kernel Function Library/VectorFunctions.kerml...\n",
      "Reading /home/sysml/conda/share/jupyter/kernels/sysml/sysml.library/Kernel Libraries/Kernel Function Library/SequenceFunctions.kerml...\n",
      "Reading /home/sysml/conda/share/jupyter/kernels/sysml/sysml.library/Kernel Libraries/Kernel Function Library/ComplexFunctions.kerml...\n",
      "Reading /home/sysml/conda/share/jupyter/kernels/sysml/sysml.library/Kernel Libraries/Kernel Function Library/RationalFunctions.kerml...\n",
      "Reading /home/sysml/conda/share/jupyter/kernels/sysml/sysml.library/Kernel Libraries/Kernel Function Library/StringFunctions.kerml...\n",
      "Reading /home/sysml/conda/share/jupyter/kernels/sysml/sysml.library/Kernel Libraries/Kernel Function Library/ScalarFunctions.kerml...\n",
      "Reading /home/sysml/conda/share/jupyter/kernels/sysml/sysml.library/Kernel Libraries/Kernel Function Library/CollectionFunctions.kerml...\n",
      "Reading /home/sysml/conda/share/jupyter/kernels/sysml/sysml.library/Kernel Libraries/Kernel Function Library/BooleanFunctions.kerml...\n",
      "Reading /home/sysml/conda/share/jupyter/kernels/sysml/sysml.library/Kernel Libraries/Kernel Function Library/OccurrenceFunctions.kerml...\n",
      "Reading /home/sysml/conda/share/jupyter/kernels/sysml/sysml.library/Kernel Libraries/Kernel Function Library/TrigFunctions.kerml...\n",
      "Reading /home/sysml/conda/share/jupyter/kernels/sysml/sysml.library/Kernel Libraries/Kernel Function Library/ControlFunctions.kerml...\n",
      "Reading /home/sysml/conda/share/jupyter/kernels/sysml/sysml.library/Systems Library/Connections.sysml...\n"
     ]
    },
    {
     "name": "stdout",
     "output_type": "stream",
     "text": [
      "Reading /home/sysml/conda/share/jupyter/kernels/sysml/sysml.library/Systems Library/States.sysml...\n",
      "Reading /home/sysml/conda/share/jupyter/kernels/sysml/sysml.library/Systems Library/Actions.sysml...\n",
      "Reading /home/sysml/conda/share/jupyter/kernels/sysml/sysml.library/Systems Library/Metadata.sysml...\n",
      "Reading /home/sysml/conda/share/jupyter/kernels/sysml/sysml.library/Systems Library/Requirements.sysml...\n",
      "Reading /home/sysml/conda/share/jupyter/kernels/sysml/sysml.library/Systems Library/AnalysisCases.sysml...\n",
      "Reading /home/sysml/conda/share/jupyter/kernels/sysml/sysml.library/Systems Library/Attributes.sysml...\n",
      "Reading /home/sysml/conda/share/jupyter/kernels/sysml/sysml.library/Systems Library/Cases.sysml...\n",
      "Reading /home/sysml/conda/share/jupyter/kernels/sysml/sysml.library/Systems Library/VerificationCases.sysml...\n",
      "Reading /home/sysml/conda/share/jupyter/kernels/sysml/sysml.library/Systems Library/Interfaces.sysml...\n",
      "Reading /home/sysml/conda/share/jupyter/kernels/sysml/sysml.library/Systems Library/Ports.sysml...\n",
      "Reading /home/sysml/conda/share/jupyter/kernels/sysml/sysml.library/Systems Library/Views.sysml...\n",
      "Reading /home/sysml/conda/share/jupyter/kernels/sysml/sysml.library/Systems Library/UseCases.sysml...\n",
      "Reading /home/sysml/conda/share/jupyter/kernels/sysml/sysml.library/Systems Library/Parts.sysml...\n",
      "Reading /home/sysml/conda/share/jupyter/kernels/sysml/sysml.library/Systems Library/SysML.sysml...\n",
      "Reading /home/sysml/conda/share/jupyter/kernels/sysml/sysml.library/Systems Library/Constraints.sysml...\n",
      "Reading /home/sysml/conda/share/jupyter/kernels/sysml/sysml.library/Systems Library/Items.sysml...\n",
      "Reading /home/sysml/conda/share/jupyter/kernels/sysml/sysml.library/Systems Library/Calculations.sysml...\n",
      "Reading /home/sysml/conda/share/jupyter/kernels/sysml/sysml.library/Systems Library/StandardViewDefinitions.sysml...\n",
      "Reading /home/sysml/conda/share/jupyter/kernels/sysml/sysml.library/Systems Library/Allocations.sysml...\n"
     ]
    },
    {
     "name": "stdout",
     "output_type": "stream",
     "text": [
      "Reading /home/sysml/conda/share/jupyter/kernels/sysml/sysml.library/Domain Libraries/Geometry/SpatialItems.sysml...\n",
      "Reading /home/sysml/conda/share/jupyter/kernels/sysml/sysml.library/Domain Libraries/Geometry/ShapeItems.sysml...\n",
      "Reading /home/sysml/conda/share/jupyter/kernels/sysml/sysml.library/Domain Libraries/Analysis/TradeStudies.sysml...\n",
      "Reading /home/sysml/conda/share/jupyter/kernels/sysml/sysml.library/Domain Libraries/Analysis/StateSpaceRepresentation.sysml...\n",
      "Reading /home/sysml/conda/share/jupyter/kernels/sysml/sysml.library/Domain Libraries/Analysis/SampledFunctions.sysml...\n",
      "Reading /home/sysml/conda/share/jupyter/kernels/sysml/sysml.library/Domain Libraries/Analysis/AnalysisTooling.sysml...\n",
      "Reading /home/sysml/conda/share/jupyter/kernels/sysml/sysml.library/Domain Libraries/Cause and Effect/CausationConnections.sysml...\n",
      "Reading /home/sysml/conda/share/jupyter/kernels/sysml/sysml.library/Domain Libraries/Cause and Effect/CauseAndEffect.sysml...\n",
      "Reading /home/sysml/conda/share/jupyter/kernels/sysml/sysml.library/Domain Libraries/Quantities and Units/TensorCalculations.sysml...\n",
      "Reading /home/sysml/conda/share/jupyter/kernels/sysml/sysml.library/Domain Libraries/Quantities and Units/ISQSpaceTime.sysml...\n",
      "Reading /home/sysml/conda/share/jupyter/kernels/sysml/sysml.library/Domain Libraries/Quantities and Units/ISQElectromagnetism.sysml...\n"
     ]
    },
    {
     "name": "stdout",
     "output_type": "stream",
     "text": [
      "Reading /home/sysml/conda/share/jupyter/kernels/sysml/sysml.library/Domain Libraries/Quantities and Units/USCustomaryUnits.sysml...\n",
      "Reading /home/sysml/conda/share/jupyter/kernels/sysml/sysml.library/Domain Libraries/Quantities and Units/Time.sysml...\n",
      "Reading /home/sysml/conda/share/jupyter/kernels/sysml/sysml.library/Domain Libraries/Quantities and Units/MeasurementReferences.sysml...\n",
      "Reading /home/sysml/conda/share/jupyter/kernels/sysml/sysml.library/Domain Libraries/Quantities and Units/ISQBase.sysml...\n",
      "Reading /home/sysml/conda/share/jupyter/kernels/sysml/sysml.library/Domain Libraries/Quantities and Units/ISQCondensedMatter.sysml...\n",
      "Reading /home/sysml/conda/share/jupyter/kernels/sysml/sysml.library/Domain Libraries/Quantities and Units/ISQMechanics.sysml...\n",
      "Reading /home/sysml/conda/share/jupyter/kernels/sysml/sysml.library/Domain Libraries/Quantities and Units/SI.sysml...\n",
      "Reading /home/sysml/conda/share/jupyter/kernels/sysml/sysml.library/Domain Libraries/Quantities and Units/ISQCharacteristicNumbers.sysml...\n",
      "Reading /home/sysml/conda/share/jupyter/kernels/sysml/sysml.library/Domain Libraries/Quantities and Units/QuantityCalculations.sysml...\n",
      "Reading /home/sysml/conda/share/jupyter/kernels/sysml/sysml.library/Domain Libraries/Quantities and Units/MeasurementRefCalculations.sysml...\n",
      "Reading /home/sysml/conda/share/jupyter/kernels/sysml/sysml.library/Domain Libraries/Quantities and Units/ISQAtomicNuclear.sysml...\n"
     ]
    },
    {
     "name": "stdout",
     "output_type": "stream",
     "text": [
      "Reading /home/sysml/conda/share/jupyter/kernels/sysml/sysml.library/Domain Libraries/Quantities and Units/ISQ.sysml...\n",
      "Reading /home/sysml/conda/share/jupyter/kernels/sysml/sysml.library/Domain Libraries/Quantities and Units/ISQAcoustics.sysml...\n",
      "Reading /home/sysml/conda/share/jupyter/kernels/sysml/sysml.library/Domain Libraries/Quantities and Units/ISQLight.sysml...\n",
      "Reading /home/sysml/conda/share/jupyter/kernels/sysml/sysml.library/Domain Libraries/Quantities and Units/ISQInformation.sysml...\n",
      "Reading /home/sysml/conda/share/jupyter/kernels/sysml/sysml.library/Domain Libraries/Quantities and Units/ISQThermodynamics.sysml...\n",
      "Reading /home/sysml/conda/share/jupyter/kernels/sysml/sysml.library/Domain Libraries/Quantities and Units/SIPrefixes.sysml...\n",
      "Reading /home/sysml/conda/share/jupyter/kernels/sysml/sysml.library/Domain Libraries/Quantities and Units/VectorCalculations.sysml...\n",
      "Reading /home/sysml/conda/share/jupyter/kernels/sysml/sysml.library/Domain Libraries/Quantities and Units/ISQChemistryMolecular.sysml...\n",
      "Reading /home/sysml/conda/share/jupyter/kernels/sysml/sysml.library/Domain Libraries/Quantities and Units/Quantities.sysml...\n",
      "Reading /home/sysml/conda/share/jupyter/kernels/sysml/sysml.library/Domain Libraries/Metadata/ImageMetadata.sysml...\n",
      "Reading /home/sysml/conda/share/jupyter/kernels/sysml/sysml.library/Domain Libraries/Metadata/ModelingMetadata.sysml...\n",
      "Reading /home/sysml/conda/share/jupyter/kernels/sysml/sysml.library/Domain Libraries/Metadata/ParametersOfInterestMetadata.sysml...\n",
      "Reading /home/sysml/conda/share/jupyter/kernels/sysml/sysml.library/Domain Libraries/Metadata/RiskMetadata.sysml...\n",
      "Reading /home/sysml/conda/share/jupyter/kernels/sysml/sysml.library/Domain Libraries/Requirement Derivation/RequirementDerivation.sysml...\n",
      "Reading /home/sysml/conda/share/jupyter/kernels/sysml/sysml.library/Domain Libraries/Requirement Derivation/DerivationConnections.sysml...\n"
     ]
    },
    {
     "name": "stderr",
     "output_type": "stream",
     "text": [
      "Dec 16, 2024 3:26:43 AM io.github.spencerpark.jupyter.channels.Loop start\n",
      "INFO: Loop starting...\n",
      "Dec 16, 2024 3:26:43 AM io.github.spencerpark.jupyter.channels.Loop start\n",
      "INFO: Loop started.\n",
      "Dec 16, 2024 3:26:43 AM io.github.spencerpark.jupyter.channels.Loop start\n",
      "INFO: Loop starting...\n",
      "Dec 16, 2024 3:26:43 AM io.github.spencerpark.jupyter.channels.Loop start\n",
      "INFO: Loop started.\n",
      "Dec 16, 2024 3:26:43 AM io.github.spencerpark.jupyter.channels.Loop start\n",
      "INFO: Loop starting...\n",
      "Dec 16, 2024 3:26:43 AM io.github.spencerpark.jupyter.channels.Loop start\n",
      "INFO: Loop started.\n"
     ]
    },
    {
     "name": "stderr",
     "output_type": "stream",
     "text": [
      "Dec 16, 2024 3:26:48 AM io.github.spencerpark.jupyter.channels.Loop shutdown\n",
      "INFO: Loop shutdown.\n",
      "Dec 16, 2024 3:26:48 AM io.github.spencerpark.jupyter.channels.Loop shutdown\n",
      "INFO: Loop shutdown.\n",
      "Dec 16, 2024 3:26:48 AM io.github.spencerpark.jupyter.channels.Loop shutdown\n",
      "INFO: Loop shutdown.\n",
      "Dec 16, 2024 3:26:48 AM io.github.spencerpark.jupyter.channels.Loop run\n",
      "INFO: Running loop shutdown callback.\n",
      "Dec 16, 2024 3:26:48 AM io.github.spencerpark.jupyter.channels.Loop run\n",
      "INFO: Loop stopped.\n",
      "Dec 16, 2024 3:26:48 AM io.github.spencerpark.jupyter.channels.Loop run\n",
      "INFO: Running loop shutdown callback.\n",
      "Dec 16, 2024 3:26:48 AM io.github.spencerpark.jupyter.channels.Loop run\n",
      "INFO: Loop stopped.\n"
     ]
    },
    {
     "name": "stderr",
     "output_type": "stream",
     "text": [
      "Dec 16, 2024 3:26:49 AM io.github.spencerpark.jupyter.channels.Loop run\n",
      "INFO: Running loop shutdown callback.\n",
      "Dec 16, 2024 3:26:49 AM io.github.spencerpark.jupyter.channels.Loop run\n",
      "INFO: Loop stopped.\n"
     ]
    },
    {
     "name": "stdout",
     "output_type": "stream",
     "text": [
      "Signing notebook: TestSuite/AliasImport.ipynb\n",
      "Executing: TestSuite/TextualRepresentationTest.ipynb\n"
     ]
    },
    {
     "name": "stderr",
     "output_type": "stream",
     "text": [
      "/home/sysml/conda/lib/python3.12/site-packages/nbformat/__init__.py:96: MissingIDFieldWarning: Cell is missing an id field, this will become a hard error in future nbformat versions. You may want to use `normalize()` on your notebooks before validations (available since nbformat 5.1.4). Previous versions of nbformat are fixing this issue transparently, and will stop doing so in the future.\n",
      "  validate(nb)\n"
     ]
    },
    {
     "name": "stdout",
     "output_type": "stream",
     "text": [
      "Reading /home/sysml/conda/share/jupyter/kernels/sysml/sysml.library/Kernel Libraries/Kernel Semantic Library/Observation.kerml...\n"
     ]
    },
    {
     "name": "stderr",
     "output_type": "stream",
     "text": [
      "log4j:WARN No appenders could be found for logger (org.eclipse.xtext.parser.antlr.AbstractInternalAntlrParser).\n",
      "log4j:WARN Please initialize the log4j system properly.\n",
      "log4j:WARN See http://logging.apache.org/log4j/1.2/faq.html#noconfig for more info.\n"
     ]
    },
    {
     "name": "stdout",
     "output_type": "stream",
     "text": [
      "Reading /home/sysml/conda/share/jupyter/kernels/sysml/sysml.library/Kernel Libraries/Kernel Semantic Library/Transfers.kerml...\n",
      "Reading /home/sysml/conda/share/jupyter/kernels/sysml/sysml.library/Kernel Libraries/Kernel Semantic Library/Metaobjects.kerml...\n",
      "Reading /home/sysml/conda/share/jupyter/kernels/sysml/sysml.library/Kernel Libraries/Kernel Semantic Library/Triggers.kerml...\n",
      "Reading /home/sysml/conda/share/jupyter/kernels/sysml/sysml.library/Kernel Libraries/Kernel Semantic Library/Links.kerml...\n",
      "Reading /home/sysml/conda/share/jupyter/kernels/sysml/sysml.library/Kernel Libraries/Kernel Semantic Library/Base.kerml...\n",
      "Reading /home/sysml/conda/share/jupyter/kernels/sysml/sysml.library/Kernel Libraries/Kernel Semantic Library/Objects.kerml...\n",
      "Reading /home/sysml/conda/share/jupyter/kernels/sysml/sysml.library/Kernel Libraries/Kernel Semantic Library/Clocks.kerml...\n",
      "Reading /home/sysml/conda/share/jupyter/kernels/sysml/sysml.library/Kernel Libraries/Kernel Semantic Library/KerML.kerml...\n"
     ]
    },
    {
     "name": "stdout",
     "output_type": "stream",
     "text": [
      "Reading /home/sysml/conda/share/jupyter/kernels/sysml/sysml.library/Kernel Libraries/Kernel Semantic Library/FeatureReferencingPerformances.kerml...\n",
      "Reading /home/sysml/conda/share/jupyter/kernels/sysml/sysml.library/Kernel Libraries/Kernel Semantic Library/Performances.kerml...\n",
      "Reading /home/sysml/conda/share/jupyter/kernels/sysml/sysml.library/Kernel Libraries/Kernel Semantic Library/Occurrences.kerml...\n",
      "Reading /home/sysml/conda/share/jupyter/kernels/sysml/sysml.library/Kernel Libraries/Kernel Semantic Library/ControlPerformances.kerml...\n",
      "Reading /home/sysml/conda/share/jupyter/kernels/sysml/sysml.library/Kernel Libraries/Kernel Semantic Library/StatePerformances.kerml...\n",
      "Reading /home/sysml/conda/share/jupyter/kernels/sysml/sysml.library/Kernel Libraries/Kernel Semantic Library/TransitionPerformances.kerml...\n",
      "Reading /home/sysml/conda/share/jupyter/kernels/sysml/sysml.library/Kernel Libraries/Kernel Semantic Library/SpatialFrames.kerml...\n",
      "Reading /home/sysml/conda/share/jupyter/kernels/sysml/sysml.library/Kernel Libraries/Kernel Data Type Library/VectorValues.kerml...\n",
      "Reading /home/sysml/conda/share/jupyter/kernels/sysml/sysml.library/Kernel Libraries/Kernel Data Type Library/Collections.kerml...\n",
      "Reading /home/sysml/conda/share/jupyter/kernels/sysml/sysml.library/Kernel Libraries/Kernel Data Type Library/ScalarValues.kerml...\n",
      "Reading /home/sysml/conda/share/jupyter/kernels/sysml/sysml.library/Kernel Libraries/Kernel Function Library/NaturalFunctions.kerml...\n",
      "Reading /home/sysml/conda/share/jupyter/kernels/sysml/sysml.library/Kernel Libraries/Kernel Function Library/BaseFunctions.kerml...\n",
      "Reading /home/sysml/conda/share/jupyter/kernels/sysml/sysml.library/Kernel Libraries/Kernel Function Library/DataFunctions.kerml...\n"
     ]
    },
    {
     "name": "stdout",
     "output_type": "stream",
     "text": [
      "Reading /home/sysml/conda/share/jupyter/kernels/sysml/sysml.library/Kernel Libraries/Kernel Function Library/IntegerFunctions.kerml...\n",
      "Reading /home/sysml/conda/share/jupyter/kernels/sysml/sysml.library/Kernel Libraries/Kernel Function Library/RealFunctions.kerml...\n",
      "Reading /home/sysml/conda/share/jupyter/kernels/sysml/sysml.library/Kernel Libraries/Kernel Function Library/NumericalFunctions.kerml...\n",
      "Reading /home/sysml/conda/share/jupyter/kernels/sysml/sysml.library/Kernel Libraries/Kernel Function Library/VectorFunctions.kerml...\n",
      "Reading /home/sysml/conda/share/jupyter/kernels/sysml/sysml.library/Kernel Libraries/Kernel Function Library/SequenceFunctions.kerml...\n",
      "Reading /home/sysml/conda/share/jupyter/kernels/sysml/sysml.library/Kernel Libraries/Kernel Function Library/ComplexFunctions.kerml...\n",
      "Reading /home/sysml/conda/share/jupyter/kernels/sysml/sysml.library/Kernel Libraries/Kernel Function Library/RationalFunctions.kerml...\n",
      "Reading /home/sysml/conda/share/jupyter/kernels/sysml/sysml.library/Kernel Libraries/Kernel Function Library/StringFunctions.kerml...\n",
      "Reading /home/sysml/conda/share/jupyter/kernels/sysml/sysml.library/Kernel Libraries/Kernel Function Library/ScalarFunctions.kerml...\n",
      "Reading /home/sysml/conda/share/jupyter/kernels/sysml/sysml.library/Kernel Libraries/Kernel Function Library/CollectionFunctions.kerml...\n",
      "Reading /home/sysml/conda/share/jupyter/kernels/sysml/sysml.library/Kernel Libraries/Kernel Function Library/BooleanFunctions.kerml...\n",
      "Reading /home/sysml/conda/share/jupyter/kernels/sysml/sysml.library/Kernel Libraries/Kernel Function Library/OccurrenceFunctions.kerml...\n",
      "Reading /home/sysml/conda/share/jupyter/kernels/sysml/sysml.library/Kernel Libraries/Kernel Function Library/TrigFunctions.kerml...\n",
      "Reading /home/sysml/conda/share/jupyter/kernels/sysml/sysml.library/Kernel Libraries/Kernel Function Library/ControlFunctions.kerml...\n",
      "Reading /home/sysml/conda/share/jupyter/kernels/sysml/sysml.library/Systems Library/Connections.sysml...\n"
     ]
    },
    {
     "name": "stdout",
     "output_type": "stream",
     "text": [
      "Reading /home/sysml/conda/share/jupyter/kernels/sysml/sysml.library/Systems Library/States.sysml...\n",
      "Reading /home/sysml/conda/share/jupyter/kernels/sysml/sysml.library/Systems Library/Actions.sysml...\n",
      "Reading /home/sysml/conda/share/jupyter/kernels/sysml/sysml.library/Systems Library/Metadata.sysml...\n",
      "Reading /home/sysml/conda/share/jupyter/kernels/sysml/sysml.library/Systems Library/Requirements.sysml...\n",
      "Reading /home/sysml/conda/share/jupyter/kernels/sysml/sysml.library/Systems Library/AnalysisCases.sysml...\n",
      "Reading /home/sysml/conda/share/jupyter/kernels/sysml/sysml.library/Systems Library/Attributes.sysml...\n",
      "Reading /home/sysml/conda/share/jupyter/kernels/sysml/sysml.library/Systems Library/Cases.sysml...\n",
      "Reading /home/sysml/conda/share/jupyter/kernels/sysml/sysml.library/Systems Library/VerificationCases.sysml...\n",
      "Reading /home/sysml/conda/share/jupyter/kernels/sysml/sysml.library/Systems Library/Interfaces.sysml...\n",
      "Reading /home/sysml/conda/share/jupyter/kernels/sysml/sysml.library/Systems Library/Ports.sysml...\n",
      "Reading /home/sysml/conda/share/jupyter/kernels/sysml/sysml.library/Systems Library/Views.sysml...\n",
      "Reading /home/sysml/conda/share/jupyter/kernels/sysml/sysml.library/Systems Library/UseCases.sysml...\n",
      "Reading /home/sysml/conda/share/jupyter/kernels/sysml/sysml.library/Systems Library/Parts.sysml...\n",
      "Reading /home/sysml/conda/share/jupyter/kernels/sysml/sysml.library/Systems Library/SysML.sysml...\n",
      "Reading /home/sysml/conda/share/jupyter/kernels/sysml/sysml.library/Systems Library/Constraints.sysml...\n",
      "Reading /home/sysml/conda/share/jupyter/kernels/sysml/sysml.library/Systems Library/Items.sysml...\n",
      "Reading /home/sysml/conda/share/jupyter/kernels/sysml/sysml.library/Systems Library/Calculations.sysml...\n",
      "Reading /home/sysml/conda/share/jupyter/kernels/sysml/sysml.library/Systems Library/StandardViewDefinitions.sysml...\n",
      "Reading /home/sysml/conda/share/jupyter/kernels/sysml/sysml.library/Systems Library/Allocations.sysml...\n",
      "Reading /home/sysml/conda/share/jupyter/kernels/sysml/sysml.library/Domain Libraries/Geometry/SpatialItems.sysml...\n"
     ]
    },
    {
     "name": "stdout",
     "output_type": "stream",
     "text": [
      "Reading /home/sysml/conda/share/jupyter/kernels/sysml/sysml.library/Domain Libraries/Geometry/ShapeItems.sysml...\n",
      "Reading /home/sysml/conda/share/jupyter/kernels/sysml/sysml.library/Domain Libraries/Analysis/TradeStudies.sysml...\n",
      "Reading /home/sysml/conda/share/jupyter/kernels/sysml/sysml.library/Domain Libraries/Analysis/StateSpaceRepresentation.sysml...\n",
      "Reading /home/sysml/conda/share/jupyter/kernels/sysml/sysml.library/Domain Libraries/Analysis/SampledFunctions.sysml...\n",
      "Reading /home/sysml/conda/share/jupyter/kernels/sysml/sysml.library/Domain Libraries/Analysis/AnalysisTooling.sysml...\n",
      "Reading /home/sysml/conda/share/jupyter/kernels/sysml/sysml.library/Domain Libraries/Cause and Effect/CausationConnections.sysml...\n",
      "Reading /home/sysml/conda/share/jupyter/kernels/sysml/sysml.library/Domain Libraries/Cause and Effect/CauseAndEffect.sysml...\n",
      "Reading /home/sysml/conda/share/jupyter/kernels/sysml/sysml.library/Domain Libraries/Quantities and Units/TensorCalculations.sysml...\n",
      "Reading /home/sysml/conda/share/jupyter/kernels/sysml/sysml.library/Domain Libraries/Quantities and Units/ISQSpaceTime.sysml...\n",
      "Reading /home/sysml/conda/share/jupyter/kernels/sysml/sysml.library/Domain Libraries/Quantities and Units/ISQElectromagnetism.sysml...\n"
     ]
    },
    {
     "name": "stdout",
     "output_type": "stream",
     "text": [
      "Reading /home/sysml/conda/share/jupyter/kernels/sysml/sysml.library/Domain Libraries/Quantities and Units/USCustomaryUnits.sysml...\n",
      "Reading /home/sysml/conda/share/jupyter/kernels/sysml/sysml.library/Domain Libraries/Quantities and Units/Time.sysml...\n",
      "Reading /home/sysml/conda/share/jupyter/kernels/sysml/sysml.library/Domain Libraries/Quantities and Units/MeasurementReferences.sysml...\n",
      "Reading /home/sysml/conda/share/jupyter/kernels/sysml/sysml.library/Domain Libraries/Quantities and Units/ISQBase.sysml...\n",
      "Reading /home/sysml/conda/share/jupyter/kernels/sysml/sysml.library/Domain Libraries/Quantities and Units/ISQCondensedMatter.sysml...\n",
      "Reading /home/sysml/conda/share/jupyter/kernels/sysml/sysml.library/Domain Libraries/Quantities and Units/ISQMechanics.sysml...\n",
      "Reading /home/sysml/conda/share/jupyter/kernels/sysml/sysml.library/Domain Libraries/Quantities and Units/SI.sysml...\n",
      "Reading /home/sysml/conda/share/jupyter/kernels/sysml/sysml.library/Domain Libraries/Quantities and Units/ISQCharacteristicNumbers.sysml...\n",
      "Reading /home/sysml/conda/share/jupyter/kernels/sysml/sysml.library/Domain Libraries/Quantities and Units/QuantityCalculations.sysml...\n",
      "Reading /home/sysml/conda/share/jupyter/kernels/sysml/sysml.library/Domain Libraries/Quantities and Units/MeasurementRefCalculations.sysml...\n",
      "Reading /home/sysml/conda/share/jupyter/kernels/sysml/sysml.library/Domain Libraries/Quantities and Units/ISQAtomicNuclear.sysml...\n"
     ]
    },
    {
     "name": "stdout",
     "output_type": "stream",
     "text": [
      "Reading /home/sysml/conda/share/jupyter/kernels/sysml/sysml.library/Domain Libraries/Quantities and Units/ISQ.sysml...\n",
      "Reading /home/sysml/conda/share/jupyter/kernels/sysml/sysml.library/Domain Libraries/Quantities and Units/ISQAcoustics.sysml...\n",
      "Reading /home/sysml/conda/share/jupyter/kernels/sysml/sysml.library/Domain Libraries/Quantities and Units/ISQLight.sysml...\n",
      "Reading /home/sysml/conda/share/jupyter/kernels/sysml/sysml.library/Domain Libraries/Quantities and Units/ISQInformation.sysml...\n",
      "Reading /home/sysml/conda/share/jupyter/kernels/sysml/sysml.library/Domain Libraries/Quantities and Units/ISQThermodynamics.sysml...\n",
      "Reading /home/sysml/conda/share/jupyter/kernels/sysml/sysml.library/Domain Libraries/Quantities and Units/SIPrefixes.sysml...\n",
      "Reading /home/sysml/conda/share/jupyter/kernels/sysml/sysml.library/Domain Libraries/Quantities and Units/VectorCalculations.sysml...\n",
      "Reading /home/sysml/conda/share/jupyter/kernels/sysml/sysml.library/Domain Libraries/Quantities and Units/ISQChemistryMolecular.sysml...\n",
      "Reading /home/sysml/conda/share/jupyter/kernels/sysml/sysml.library/Domain Libraries/Quantities and Units/Quantities.sysml...\n",
      "Reading /home/sysml/conda/share/jupyter/kernels/sysml/sysml.library/Domain Libraries/Metadata/ImageMetadata.sysml...\n",
      "Reading /home/sysml/conda/share/jupyter/kernels/sysml/sysml.library/Domain Libraries/Metadata/ModelingMetadata.sysml...\n",
      "Reading /home/sysml/conda/share/jupyter/kernels/sysml/sysml.library/Domain Libraries/Metadata/ParametersOfInterestMetadata.sysml...\n",
      "Reading /home/sysml/conda/share/jupyter/kernels/sysml/sysml.library/Domain Libraries/Metadata/RiskMetadata.sysml...\n",
      "Reading /home/sysml/conda/share/jupyter/kernels/sysml/sysml.library/Domain Libraries/Requirement Derivation/RequirementDerivation.sysml...\n",
      "Reading /home/sysml/conda/share/jupyter/kernels/sysml/sysml.library/Domain Libraries/Requirement Derivation/DerivationConnections.sysml...\n"
     ]
    },
    {
     "name": "stderr",
     "output_type": "stream",
     "text": [
      "Dec 16, 2024 3:26:53 AM io.github.spencerpark.jupyter.channels.Loop start\n",
      "INFO: Loop starting...\n",
      "Dec 16, 2024 3:26:53 AM io.github.spencerpark.jupyter.channels.Loop start\n",
      "INFO: Loop started.\n",
      "Dec 16, 2024 3:26:53 AM io.github.spencerpark.jupyter.channels.Loop start\n",
      "INFO: Loop starting...\n",
      "Dec 16, 2024 3:26:53 AM io.github.spencerpark.jupyter.channels.Loop start\n",
      "INFO: Loop started.\n",
      "Dec 16, 2024 3:26:53 AM io.github.spencerpark.jupyter.channels.Loop start\n",
      "INFO: Loop starting...\n",
      "Dec 16, 2024 3:26:53 AM io.github.spencerpark.jupyter.channels.Loop start\n",
      "INFO: Loop started.\n"
     ]
    },
    {
     "name": "stderr",
     "output_type": "stream",
     "text": [
      "Dec 16, 2024 3:26:58 AM io.github.spencerpark.jupyter.channels.Loop shutdown\n",
      "INFO: Loop shutdown.\n",
      "Dec 16, 2024 3:26:58 AM io.github.spencerpark.jupyter.channels.Loop shutdown\n",
      "INFO: Loop shutdown.\n",
      "Dec 16, 2024 3:26:58 AM io.github.spencerpark.jupyter.channels.Loop shutdown\n",
      "INFO: Loop shutdown.\n",
      "Dec 16, 2024 3:26:58 AM io.github.spencerpark.jupyter.channels.Loop run\n",
      "INFO: Running loop shutdown callback.\n",
      "Dec 16, 2024 3:26:58 AM io.github.spencerpark.jupyter.channels.Loop run\n",
      "INFO: Loop stopped.\n",
      "Dec 16, 2024 3:26:58 AM io.github.spencerpark.jupyter.channels.Loop run\n",
      "INFO: Running loop shutdown callback.\n",
      "Dec 16, 2024 3:26:58 AM io.github.spencerpark.jupyter.channels.Loop run\n",
      "INFO: Loop stopped.\n"
     ]
    },
    {
     "name": "stderr",
     "output_type": "stream",
     "text": [
      "Dec 16, 2024 3:26:58 AM io.github.spencerpark.jupyter.channels.Loop run\n",
      "INFO: Running loop shutdown callback.\n",
      "Dec 16, 2024 3:26:58 AM io.github.spencerpark.jupyter.channels.Loop run\n",
      "INFO: Loop stopped.\n"
     ]
    },
    {
     "name": "stdout",
     "output_type": "stream",
     "text": [
      "Signing notebook: TestSuite/TextualRepresentationTest.ipynb\n",
      "Executing: TestSuite/MultiplicityTest.ipynb\n"
     ]
    },
    {
     "name": "stderr",
     "output_type": "stream",
     "text": [
      "/home/sysml/conda/lib/python3.12/site-packages/nbformat/__init__.py:96: MissingIDFieldWarning: Cell is missing an id field, this will become a hard error in future nbformat versions. You may want to use `normalize()` on your notebooks before validations (available since nbformat 5.1.4). Previous versions of nbformat are fixing this issue transparently, and will stop doing so in the future.\n",
      "  validate(nb)\n"
     ]
    },
    {
     "name": "stdout",
     "output_type": "stream",
     "text": [
      "Reading /home/sysml/conda/share/jupyter/kernels/sysml/sysml.library/Kernel Libraries/Kernel Semantic Library/Observation.kerml...\n"
     ]
    },
    {
     "name": "stderr",
     "output_type": "stream",
     "text": [
      "log4j:WARN No appenders could be found for logger (org.eclipse.xtext.parser.antlr.AbstractInternalAntlrParser).\n",
      "log4j:WARN Please initialize the log4j system properly.\n",
      "log4j:WARN See http://logging.apache.org/log4j/1.2/faq.html#noconfig for more info.\n"
     ]
    },
    {
     "name": "stdout",
     "output_type": "stream",
     "text": [
      "Reading /home/sysml/conda/share/jupyter/kernels/sysml/sysml.library/Kernel Libraries/Kernel Semantic Library/Transfers.kerml...\n",
      "Reading /home/sysml/conda/share/jupyter/kernels/sysml/sysml.library/Kernel Libraries/Kernel Semantic Library/Metaobjects.kerml...\n",
      "Reading /home/sysml/conda/share/jupyter/kernels/sysml/sysml.library/Kernel Libraries/Kernel Semantic Library/Triggers.kerml...\n",
      "Reading /home/sysml/conda/share/jupyter/kernels/sysml/sysml.library/Kernel Libraries/Kernel Semantic Library/Links.kerml...\n",
      "Reading /home/sysml/conda/share/jupyter/kernels/sysml/sysml.library/Kernel Libraries/Kernel Semantic Library/Base.kerml...\n",
      "Reading /home/sysml/conda/share/jupyter/kernels/sysml/sysml.library/Kernel Libraries/Kernel Semantic Library/Objects.kerml...\n",
      "Reading /home/sysml/conda/share/jupyter/kernels/sysml/sysml.library/Kernel Libraries/Kernel Semantic Library/Clocks.kerml...\n",
      "Reading /home/sysml/conda/share/jupyter/kernels/sysml/sysml.library/Kernel Libraries/Kernel Semantic Library/KerML.kerml...\n"
     ]
    },
    {
     "name": "stdout",
     "output_type": "stream",
     "text": [
      "Reading /home/sysml/conda/share/jupyter/kernels/sysml/sysml.library/Kernel Libraries/Kernel Semantic Library/FeatureReferencingPerformances.kerml...\n",
      "Reading /home/sysml/conda/share/jupyter/kernels/sysml/sysml.library/Kernel Libraries/Kernel Semantic Library/Performances.kerml...\n",
      "Reading /home/sysml/conda/share/jupyter/kernels/sysml/sysml.library/Kernel Libraries/Kernel Semantic Library/Occurrences.kerml...\n",
      "Reading /home/sysml/conda/share/jupyter/kernels/sysml/sysml.library/Kernel Libraries/Kernel Semantic Library/ControlPerformances.kerml...\n",
      "Reading /home/sysml/conda/share/jupyter/kernels/sysml/sysml.library/Kernel Libraries/Kernel Semantic Library/StatePerformances.kerml...\n",
      "Reading /home/sysml/conda/share/jupyter/kernels/sysml/sysml.library/Kernel Libraries/Kernel Semantic Library/TransitionPerformances.kerml...\n",
      "Reading /home/sysml/conda/share/jupyter/kernels/sysml/sysml.library/Kernel Libraries/Kernel Semantic Library/SpatialFrames.kerml...\n",
      "Reading /home/sysml/conda/share/jupyter/kernels/sysml/sysml.library/Kernel Libraries/Kernel Data Type Library/VectorValues.kerml...\n",
      "Reading /home/sysml/conda/share/jupyter/kernels/sysml/sysml.library/Kernel Libraries/Kernel Data Type Library/Collections.kerml...\n",
      "Reading /home/sysml/conda/share/jupyter/kernels/sysml/sysml.library/Kernel Libraries/Kernel Data Type Library/ScalarValues.kerml...\n",
      "Reading /home/sysml/conda/share/jupyter/kernels/sysml/sysml.library/Kernel Libraries/Kernel Function Library/NaturalFunctions.kerml...\n",
      "Reading /home/sysml/conda/share/jupyter/kernels/sysml/sysml.library/Kernel Libraries/Kernel Function Library/BaseFunctions.kerml...\n",
      "Reading /home/sysml/conda/share/jupyter/kernels/sysml/sysml.library/Kernel Libraries/Kernel Function Library/DataFunctions.kerml...\n",
      "Reading /home/sysml/conda/share/jupyter/kernels/sysml/sysml.library/Kernel Libraries/Kernel Function Library/IntegerFunctions.kerml...\n",
      "Reading /home/sysml/conda/share/jupyter/kernels/sysml/sysml.library/Kernel Libraries/Kernel Function Library/RealFunctions.kerml...\n",
      "Reading /home/sysml/conda/share/jupyter/kernels/sysml/sysml.library/Kernel Libraries/Kernel Function Library/NumericalFunctions.kerml...\n"
     ]
    },
    {
     "name": "stdout",
     "output_type": "stream",
     "text": [
      "Reading /home/sysml/conda/share/jupyter/kernels/sysml/sysml.library/Kernel Libraries/Kernel Function Library/VectorFunctions.kerml...\n",
      "Reading /home/sysml/conda/share/jupyter/kernels/sysml/sysml.library/Kernel Libraries/Kernel Function Library/SequenceFunctions.kerml...\n",
      "Reading /home/sysml/conda/share/jupyter/kernels/sysml/sysml.library/Kernel Libraries/Kernel Function Library/ComplexFunctions.kerml...\n",
      "Reading /home/sysml/conda/share/jupyter/kernels/sysml/sysml.library/Kernel Libraries/Kernel Function Library/RationalFunctions.kerml...\n",
      "Reading /home/sysml/conda/share/jupyter/kernels/sysml/sysml.library/Kernel Libraries/Kernel Function Library/StringFunctions.kerml...\n",
      "Reading /home/sysml/conda/share/jupyter/kernels/sysml/sysml.library/Kernel Libraries/Kernel Function Library/ScalarFunctions.kerml...\n",
      "Reading /home/sysml/conda/share/jupyter/kernels/sysml/sysml.library/Kernel Libraries/Kernel Function Library/CollectionFunctions.kerml...\n",
      "Reading /home/sysml/conda/share/jupyter/kernels/sysml/sysml.library/Kernel Libraries/Kernel Function Library/BooleanFunctions.kerml...\n",
      "Reading /home/sysml/conda/share/jupyter/kernels/sysml/sysml.library/Kernel Libraries/Kernel Function Library/OccurrenceFunctions.kerml...\n",
      "Reading /home/sysml/conda/share/jupyter/kernels/sysml/sysml.library/Kernel Libraries/Kernel Function Library/TrigFunctions.kerml...\n",
      "Reading /home/sysml/conda/share/jupyter/kernels/sysml/sysml.library/Kernel Libraries/Kernel Function Library/ControlFunctions.kerml...\n",
      "Reading /home/sysml/conda/share/jupyter/kernels/sysml/sysml.library/Systems Library/Connections.sysml...\n"
     ]
    },
    {
     "name": "stdout",
     "output_type": "stream",
     "text": [
      "Reading /home/sysml/conda/share/jupyter/kernels/sysml/sysml.library/Systems Library/States.sysml...\n",
      "Reading /home/sysml/conda/share/jupyter/kernels/sysml/sysml.library/Systems Library/Actions.sysml...\n",
      "Reading /home/sysml/conda/share/jupyter/kernels/sysml/sysml.library/Systems Library/Metadata.sysml...\n",
      "Reading /home/sysml/conda/share/jupyter/kernels/sysml/sysml.library/Systems Library/Requirements.sysml...\n",
      "Reading /home/sysml/conda/share/jupyter/kernels/sysml/sysml.library/Systems Library/AnalysisCases.sysml...\n",
      "Reading /home/sysml/conda/share/jupyter/kernels/sysml/sysml.library/Systems Library/Attributes.sysml...\n",
      "Reading /home/sysml/conda/share/jupyter/kernels/sysml/sysml.library/Systems Library/Cases.sysml...\n",
      "Reading /home/sysml/conda/share/jupyter/kernels/sysml/sysml.library/Systems Library/VerificationCases.sysml...\n",
      "Reading /home/sysml/conda/share/jupyter/kernels/sysml/sysml.library/Systems Library/Interfaces.sysml...\n",
      "Reading /home/sysml/conda/share/jupyter/kernels/sysml/sysml.library/Systems Library/Ports.sysml...\n",
      "Reading /home/sysml/conda/share/jupyter/kernels/sysml/sysml.library/Systems Library/Views.sysml...\n",
      "Reading /home/sysml/conda/share/jupyter/kernels/sysml/sysml.library/Systems Library/UseCases.sysml...\n",
      "Reading /home/sysml/conda/share/jupyter/kernels/sysml/sysml.library/Systems Library/Parts.sysml...\n",
      "Reading /home/sysml/conda/share/jupyter/kernels/sysml/sysml.library/Systems Library/SysML.sysml...\n",
      "Reading /home/sysml/conda/share/jupyter/kernels/sysml/sysml.library/Systems Library/Constraints.sysml...\n",
      "Reading /home/sysml/conda/share/jupyter/kernels/sysml/sysml.library/Systems Library/Items.sysml...\n",
      "Reading /home/sysml/conda/share/jupyter/kernels/sysml/sysml.library/Systems Library/Calculations.sysml...\n",
      "Reading /home/sysml/conda/share/jupyter/kernels/sysml/sysml.library/Systems Library/StandardViewDefinitions.sysml...\n",
      "Reading /home/sysml/conda/share/jupyter/kernels/sysml/sysml.library/Systems Library/Allocations.sysml...\n",
      "Reading /home/sysml/conda/share/jupyter/kernels/sysml/sysml.library/Domain Libraries/Geometry/SpatialItems.sysml...\n"
     ]
    },
    {
     "name": "stdout",
     "output_type": "stream",
     "text": [
      "Reading /home/sysml/conda/share/jupyter/kernels/sysml/sysml.library/Domain Libraries/Geometry/ShapeItems.sysml...\n",
      "Reading /home/sysml/conda/share/jupyter/kernels/sysml/sysml.library/Domain Libraries/Analysis/TradeStudies.sysml...\n",
      "Reading /home/sysml/conda/share/jupyter/kernels/sysml/sysml.library/Domain Libraries/Analysis/StateSpaceRepresentation.sysml...\n",
      "Reading /home/sysml/conda/share/jupyter/kernels/sysml/sysml.library/Domain Libraries/Analysis/SampledFunctions.sysml...\n",
      "Reading /home/sysml/conda/share/jupyter/kernels/sysml/sysml.library/Domain Libraries/Analysis/AnalysisTooling.sysml...\n",
      "Reading /home/sysml/conda/share/jupyter/kernels/sysml/sysml.library/Domain Libraries/Cause and Effect/CausationConnections.sysml...\n",
      "Reading /home/sysml/conda/share/jupyter/kernels/sysml/sysml.library/Domain Libraries/Cause and Effect/CauseAndEffect.sysml...\n",
      "Reading /home/sysml/conda/share/jupyter/kernels/sysml/sysml.library/Domain Libraries/Quantities and Units/TensorCalculations.sysml...\n",
      "Reading /home/sysml/conda/share/jupyter/kernels/sysml/sysml.library/Domain Libraries/Quantities and Units/ISQSpaceTime.sysml...\n",
      "Reading /home/sysml/conda/share/jupyter/kernels/sysml/sysml.library/Domain Libraries/Quantities and Units/ISQElectromagnetism.sysml...\n"
     ]
    },
    {
     "name": "stdout",
     "output_type": "stream",
     "text": [
      "Reading /home/sysml/conda/share/jupyter/kernels/sysml/sysml.library/Domain Libraries/Quantities and Units/USCustomaryUnits.sysml...\n",
      "Reading /home/sysml/conda/share/jupyter/kernels/sysml/sysml.library/Domain Libraries/Quantities and Units/Time.sysml...\n",
      "Reading /home/sysml/conda/share/jupyter/kernels/sysml/sysml.library/Domain Libraries/Quantities and Units/MeasurementReferences.sysml...\n",
      "Reading /home/sysml/conda/share/jupyter/kernels/sysml/sysml.library/Domain Libraries/Quantities and Units/ISQBase.sysml...\n",
      "Reading /home/sysml/conda/share/jupyter/kernels/sysml/sysml.library/Domain Libraries/Quantities and Units/ISQCondensedMatter.sysml...\n",
      "Reading /home/sysml/conda/share/jupyter/kernels/sysml/sysml.library/Domain Libraries/Quantities and Units/ISQMechanics.sysml...\n",
      "Reading /home/sysml/conda/share/jupyter/kernels/sysml/sysml.library/Domain Libraries/Quantities and Units/SI.sysml...\n",
      "Reading /home/sysml/conda/share/jupyter/kernels/sysml/sysml.library/Domain Libraries/Quantities and Units/ISQCharacteristicNumbers.sysml...\n",
      "Reading /home/sysml/conda/share/jupyter/kernels/sysml/sysml.library/Domain Libraries/Quantities and Units/QuantityCalculations.sysml...\n",
      "Reading /home/sysml/conda/share/jupyter/kernels/sysml/sysml.library/Domain Libraries/Quantities and Units/MeasurementRefCalculations.sysml...\n",
      "Reading /home/sysml/conda/share/jupyter/kernels/sysml/sysml.library/Domain Libraries/Quantities and Units/ISQAtomicNuclear.sysml...\n"
     ]
    },
    {
     "name": "stdout",
     "output_type": "stream",
     "text": [
      "Reading /home/sysml/conda/share/jupyter/kernels/sysml/sysml.library/Domain Libraries/Quantities and Units/ISQ.sysml...\n",
      "Reading /home/sysml/conda/share/jupyter/kernels/sysml/sysml.library/Domain Libraries/Quantities and Units/ISQAcoustics.sysml...\n",
      "Reading /home/sysml/conda/share/jupyter/kernels/sysml/sysml.library/Domain Libraries/Quantities and Units/ISQLight.sysml...\n",
      "Reading /home/sysml/conda/share/jupyter/kernels/sysml/sysml.library/Domain Libraries/Quantities and Units/ISQInformation.sysml...\n",
      "Reading /home/sysml/conda/share/jupyter/kernels/sysml/sysml.library/Domain Libraries/Quantities and Units/ISQThermodynamics.sysml...\n",
      "Reading /home/sysml/conda/share/jupyter/kernels/sysml/sysml.library/Domain Libraries/Quantities and Units/SIPrefixes.sysml...\n",
      "Reading /home/sysml/conda/share/jupyter/kernels/sysml/sysml.library/Domain Libraries/Quantities and Units/VectorCalculations.sysml...\n",
      "Reading /home/sysml/conda/share/jupyter/kernels/sysml/sysml.library/Domain Libraries/Quantities and Units/ISQChemistryMolecular.sysml...\n",
      "Reading /home/sysml/conda/share/jupyter/kernels/sysml/sysml.library/Domain Libraries/Quantities and Units/Quantities.sysml...\n",
      "Reading /home/sysml/conda/share/jupyter/kernels/sysml/sysml.library/Domain Libraries/Metadata/ImageMetadata.sysml...\n",
      "Reading /home/sysml/conda/share/jupyter/kernels/sysml/sysml.library/Domain Libraries/Metadata/ModelingMetadata.sysml...\n",
      "Reading /home/sysml/conda/share/jupyter/kernels/sysml/sysml.library/Domain Libraries/Metadata/ParametersOfInterestMetadata.sysml...\n",
      "Reading /home/sysml/conda/share/jupyter/kernels/sysml/sysml.library/Domain Libraries/Metadata/RiskMetadata.sysml...\n",
      "Reading /home/sysml/conda/share/jupyter/kernels/sysml/sysml.library/Domain Libraries/Requirement Derivation/RequirementDerivation.sysml...\n",
      "Reading /home/sysml/conda/share/jupyter/kernels/sysml/sysml.library/Domain Libraries/Requirement Derivation/DerivationConnections.sysml...\n"
     ]
    },
    {
     "name": "stderr",
     "output_type": "stream",
     "text": [
      "Dec 16, 2024 3:27:02 AM io.github.spencerpark.jupyter.channels.Loop start\n",
      "INFO: Loop starting...\n",
      "Dec 16, 2024 3:27:02 AM io.github.spencerpark.jupyter.channels.Loop start\n",
      "INFO: Loop started.\n",
      "Dec 16, 2024 3:27:02 AM io.github.spencerpark.jupyter.channels.Loop start\n",
      "INFO: Loop starting...\n",
      "Dec 16, 2024 3:27:02 AM io.github.spencerpark.jupyter.channels.Loop start\n",
      "INFO: Loop started.\n",
      "Dec 16, 2024 3:27:02 AM io.github.spencerpark.jupyter.channels.Loop start\n",
      "INFO: Loop starting...\n",
      "Dec 16, 2024 3:27:02 AM io.github.spencerpark.jupyter.channels.Loop start\n",
      "INFO: Loop started.\n"
     ]
    },
    {
     "name": "stderr",
     "output_type": "stream",
     "text": [
      "Dec 16, 2024 3:27:08 AM io.github.spencerpark.jupyter.channels.Loop shutdown\n",
      "INFO: Loop shutdown.\n",
      "Dec 16, 2024 3:27:08 AM io.github.spencerpark.jupyter.channels.Loop shutdown\n",
      "INFO: Loop shutdown.\n",
      "Dec 16, 2024 3:27:08 AM io.github.spencerpark.jupyter.channels.Loop shutdown\n",
      "INFO: Loop shutdown.\n",
      "Dec 16, 2024 3:27:08 AM io.github.spencerpark.jupyter.channels.Loop run\n",
      "INFO: Running loop shutdown callback.\n",
      "Dec 16, 2024 3:27:08 AM io.github.spencerpark.jupyter.channels.Loop run\n",
      "INFO: Loop stopped.\n",
      "Dec 16, 2024 3:27:08 AM io.github.spencerpark.jupyter.channels.Loop run\n",
      "INFO: Running loop shutdown callback.\n",
      "Dec 16, 2024 3:27:08 AM io.github.spencerpark.jupyter.channels.Loop run\n",
      "INFO: Loop stopped.\n",
      "Dec 16, 2024 3:27:08 AM io.github.spencerpark.jupyter.channels.Loop run\n",
      "INFO: Running loop shutdown callback.\n",
      "Dec 16, 2024 3:27:08 AM io.github.spencerpark.jupyter.channels.Loop run\n",
      "INFO: Loop stopped.\n"
     ]
    },
    {
     "name": "stdout",
     "output_type": "stream",
     "text": [
      "Signing notebook: TestSuite/MultiplicityTest.ipynb\n",
      "Executing: TestSuite/PartTest.ipynb\n"
     ]
    },
    {
     "name": "stderr",
     "output_type": "stream",
     "text": [
      "/home/sysml/conda/lib/python3.12/site-packages/nbformat/__init__.py:96: MissingIDFieldWarning: Cell is missing an id field, this will become a hard error in future nbformat versions. You may want to use `normalize()` on your notebooks before validations (available since nbformat 5.1.4). Previous versions of nbformat are fixing this issue transparently, and will stop doing so in the future.\n",
      "  validate(nb)\n"
     ]
    },
    {
     "name": "stdout",
     "output_type": "stream",
     "text": [
      "Reading /home/sysml/conda/share/jupyter/kernels/sysml/sysml.library/Kernel Libraries/Kernel Semantic Library/Observation.kerml...\n"
     ]
    },
    {
     "name": "stderr",
     "output_type": "stream",
     "text": [
      "log4j:WARN No appenders could be found for logger (org.eclipse.xtext.parser.antlr.AbstractInternalAntlrParser).\n",
      "log4j:WARN Please initialize the log4j system properly.\n",
      "log4j:WARN See http://logging.apache.org/log4j/1.2/faq.html#noconfig for more info.\n"
     ]
    },
    {
     "name": "stdout",
     "output_type": "stream",
     "text": [
      "Reading /home/sysml/conda/share/jupyter/kernels/sysml/sysml.library/Kernel Libraries/Kernel Semantic Library/Transfers.kerml...\n",
      "Reading /home/sysml/conda/share/jupyter/kernels/sysml/sysml.library/Kernel Libraries/Kernel Semantic Library/Metaobjects.kerml...\n",
      "Reading /home/sysml/conda/share/jupyter/kernels/sysml/sysml.library/Kernel Libraries/Kernel Semantic Library/Triggers.kerml...\n",
      "Reading /home/sysml/conda/share/jupyter/kernels/sysml/sysml.library/Kernel Libraries/Kernel Semantic Library/Links.kerml...\n",
      "Reading /home/sysml/conda/share/jupyter/kernels/sysml/sysml.library/Kernel Libraries/Kernel Semantic Library/Base.kerml...\n",
      "Reading /home/sysml/conda/share/jupyter/kernels/sysml/sysml.library/Kernel Libraries/Kernel Semantic Library/Objects.kerml...\n",
      "Reading /home/sysml/conda/share/jupyter/kernels/sysml/sysml.library/Kernel Libraries/Kernel Semantic Library/Clocks.kerml...\n",
      "Reading /home/sysml/conda/share/jupyter/kernels/sysml/sysml.library/Kernel Libraries/Kernel Semantic Library/KerML.kerml...\n"
     ]
    },
    {
     "name": "stdout",
     "output_type": "stream",
     "text": [
      "Reading /home/sysml/conda/share/jupyter/kernels/sysml/sysml.library/Kernel Libraries/Kernel Semantic Library/FeatureReferencingPerformances.kerml...\n",
      "Reading /home/sysml/conda/share/jupyter/kernels/sysml/sysml.library/Kernel Libraries/Kernel Semantic Library/Performances.kerml...\n",
      "Reading /home/sysml/conda/share/jupyter/kernels/sysml/sysml.library/Kernel Libraries/Kernel Semantic Library/Occurrences.kerml...\n",
      "Reading /home/sysml/conda/share/jupyter/kernels/sysml/sysml.library/Kernel Libraries/Kernel Semantic Library/ControlPerformances.kerml...\n",
      "Reading /home/sysml/conda/share/jupyter/kernels/sysml/sysml.library/Kernel Libraries/Kernel Semantic Library/StatePerformances.kerml...\n",
      "Reading /home/sysml/conda/share/jupyter/kernels/sysml/sysml.library/Kernel Libraries/Kernel Semantic Library/TransitionPerformances.kerml...\n",
      "Reading /home/sysml/conda/share/jupyter/kernels/sysml/sysml.library/Kernel Libraries/Kernel Semantic Library/SpatialFrames.kerml...\n",
      "Reading /home/sysml/conda/share/jupyter/kernels/sysml/sysml.library/Kernel Libraries/Kernel Data Type Library/VectorValues.kerml...\n",
      "Reading /home/sysml/conda/share/jupyter/kernels/sysml/sysml.library/Kernel Libraries/Kernel Data Type Library/Collections.kerml...\n",
      "Reading /home/sysml/conda/share/jupyter/kernels/sysml/sysml.library/Kernel Libraries/Kernel Data Type Library/ScalarValues.kerml...\n",
      "Reading /home/sysml/conda/share/jupyter/kernels/sysml/sysml.library/Kernel Libraries/Kernel Function Library/NaturalFunctions.kerml...\n",
      "Reading /home/sysml/conda/share/jupyter/kernels/sysml/sysml.library/Kernel Libraries/Kernel Function Library/BaseFunctions.kerml...\n",
      "Reading /home/sysml/conda/share/jupyter/kernels/sysml/sysml.library/Kernel Libraries/Kernel Function Library/DataFunctions.kerml...\n",
      "Reading /home/sysml/conda/share/jupyter/kernels/sysml/sysml.library/Kernel Libraries/Kernel Function Library/IntegerFunctions.kerml...\n"
     ]
    },
    {
     "name": "stdout",
     "output_type": "stream",
     "text": [
      "Reading /home/sysml/conda/share/jupyter/kernels/sysml/sysml.library/Kernel Libraries/Kernel Function Library/RealFunctions.kerml...\n",
      "Reading /home/sysml/conda/share/jupyter/kernels/sysml/sysml.library/Kernel Libraries/Kernel Function Library/NumericalFunctions.kerml...\n",
      "Reading /home/sysml/conda/share/jupyter/kernels/sysml/sysml.library/Kernel Libraries/Kernel Function Library/VectorFunctions.kerml...\n",
      "Reading /home/sysml/conda/share/jupyter/kernels/sysml/sysml.library/Kernel Libraries/Kernel Function Library/SequenceFunctions.kerml...\n",
      "Reading /home/sysml/conda/share/jupyter/kernels/sysml/sysml.library/Kernel Libraries/Kernel Function Library/ComplexFunctions.kerml...\n",
      "Reading /home/sysml/conda/share/jupyter/kernels/sysml/sysml.library/Kernel Libraries/Kernel Function Library/RationalFunctions.kerml...\n",
      "Reading /home/sysml/conda/share/jupyter/kernels/sysml/sysml.library/Kernel Libraries/Kernel Function Library/StringFunctions.kerml...\n",
      "Reading /home/sysml/conda/share/jupyter/kernels/sysml/sysml.library/Kernel Libraries/Kernel Function Library/ScalarFunctions.kerml...\n",
      "Reading /home/sysml/conda/share/jupyter/kernels/sysml/sysml.library/Kernel Libraries/Kernel Function Library/CollectionFunctions.kerml...\n",
      "Reading /home/sysml/conda/share/jupyter/kernels/sysml/sysml.library/Kernel Libraries/Kernel Function Library/BooleanFunctions.kerml...\n",
      "Reading /home/sysml/conda/share/jupyter/kernels/sysml/sysml.library/Kernel Libraries/Kernel Function Library/OccurrenceFunctions.kerml...\n",
      "Reading /home/sysml/conda/share/jupyter/kernels/sysml/sysml.library/Kernel Libraries/Kernel Function Library/TrigFunctions.kerml...\n",
      "Reading /home/sysml/conda/share/jupyter/kernels/sysml/sysml.library/Kernel Libraries/Kernel Function Library/ControlFunctions.kerml...\n",
      "Reading /home/sysml/conda/share/jupyter/kernels/sysml/sysml.library/Systems Library/Connections.sysml...\n"
     ]
    },
    {
     "name": "stdout",
     "output_type": "stream",
     "text": [
      "Reading /home/sysml/conda/share/jupyter/kernels/sysml/sysml.library/Systems Library/States.sysml...\n",
      "Reading /home/sysml/conda/share/jupyter/kernels/sysml/sysml.library/Systems Library/Actions.sysml...\n",
      "Reading /home/sysml/conda/share/jupyter/kernels/sysml/sysml.library/Systems Library/Metadata.sysml...\n",
      "Reading /home/sysml/conda/share/jupyter/kernels/sysml/sysml.library/Systems Library/Requirements.sysml...\n",
      "Reading /home/sysml/conda/share/jupyter/kernels/sysml/sysml.library/Systems Library/AnalysisCases.sysml...\n",
      "Reading /home/sysml/conda/share/jupyter/kernels/sysml/sysml.library/Systems Library/Attributes.sysml...\n",
      "Reading /home/sysml/conda/share/jupyter/kernels/sysml/sysml.library/Systems Library/Cases.sysml...\n",
      "Reading /home/sysml/conda/share/jupyter/kernels/sysml/sysml.library/Systems Library/VerificationCases.sysml...\n",
      "Reading /home/sysml/conda/share/jupyter/kernels/sysml/sysml.library/Systems Library/Interfaces.sysml...\n",
      "Reading /home/sysml/conda/share/jupyter/kernels/sysml/sysml.library/Systems Library/Ports.sysml...\n",
      "Reading /home/sysml/conda/share/jupyter/kernels/sysml/sysml.library/Systems Library/Views.sysml...\n",
      "Reading /home/sysml/conda/share/jupyter/kernels/sysml/sysml.library/Systems Library/UseCases.sysml...\n",
      "Reading /home/sysml/conda/share/jupyter/kernels/sysml/sysml.library/Systems Library/Parts.sysml...\n",
      "Reading /home/sysml/conda/share/jupyter/kernels/sysml/sysml.library/Systems Library/SysML.sysml...\n",
      "Reading /home/sysml/conda/share/jupyter/kernels/sysml/sysml.library/Systems Library/Constraints.sysml...\n",
      "Reading /home/sysml/conda/share/jupyter/kernels/sysml/sysml.library/Systems Library/Items.sysml...\n",
      "Reading /home/sysml/conda/share/jupyter/kernels/sysml/sysml.library/Systems Library/Calculations.sysml...\n",
      "Reading /home/sysml/conda/share/jupyter/kernels/sysml/sysml.library/Systems Library/StandardViewDefinitions.sysml...\n",
      "Reading /home/sysml/conda/share/jupyter/kernels/sysml/sysml.library/Systems Library/Allocations.sysml...\n"
     ]
    },
    {
     "name": "stdout",
     "output_type": "stream",
     "text": [
      "Reading /home/sysml/conda/share/jupyter/kernels/sysml/sysml.library/Domain Libraries/Geometry/SpatialItems.sysml...\n",
      "Reading /home/sysml/conda/share/jupyter/kernels/sysml/sysml.library/Domain Libraries/Geometry/ShapeItems.sysml...\n",
      "Reading /home/sysml/conda/share/jupyter/kernels/sysml/sysml.library/Domain Libraries/Analysis/TradeStudies.sysml...\n",
      "Reading /home/sysml/conda/share/jupyter/kernels/sysml/sysml.library/Domain Libraries/Analysis/StateSpaceRepresentation.sysml...\n",
      "Reading /home/sysml/conda/share/jupyter/kernels/sysml/sysml.library/Domain Libraries/Analysis/SampledFunctions.sysml...\n",
      "Reading /home/sysml/conda/share/jupyter/kernels/sysml/sysml.library/Domain Libraries/Analysis/AnalysisTooling.sysml...\n",
      "Reading /home/sysml/conda/share/jupyter/kernels/sysml/sysml.library/Domain Libraries/Cause and Effect/CausationConnections.sysml...\n",
      "Reading /home/sysml/conda/share/jupyter/kernels/sysml/sysml.library/Domain Libraries/Cause and Effect/CauseAndEffect.sysml...\n",
      "Reading /home/sysml/conda/share/jupyter/kernels/sysml/sysml.library/Domain Libraries/Quantities and Units/TensorCalculations.sysml...\n",
      "Reading /home/sysml/conda/share/jupyter/kernels/sysml/sysml.library/Domain Libraries/Quantities and Units/ISQSpaceTime.sysml...\n",
      "Reading /home/sysml/conda/share/jupyter/kernels/sysml/sysml.library/Domain Libraries/Quantities and Units/ISQElectromagnetism.sysml...\n"
     ]
    },
    {
     "name": "stdout",
     "output_type": "stream",
     "text": [
      "Reading /home/sysml/conda/share/jupyter/kernels/sysml/sysml.library/Domain Libraries/Quantities and Units/USCustomaryUnits.sysml...\n",
      "Reading /home/sysml/conda/share/jupyter/kernels/sysml/sysml.library/Domain Libraries/Quantities and Units/Time.sysml...\n",
      "Reading /home/sysml/conda/share/jupyter/kernels/sysml/sysml.library/Domain Libraries/Quantities and Units/MeasurementReferences.sysml...\n",
      "Reading /home/sysml/conda/share/jupyter/kernels/sysml/sysml.library/Domain Libraries/Quantities and Units/ISQBase.sysml...\n",
      "Reading /home/sysml/conda/share/jupyter/kernels/sysml/sysml.library/Domain Libraries/Quantities and Units/ISQCondensedMatter.sysml...\n",
      "Reading /home/sysml/conda/share/jupyter/kernels/sysml/sysml.library/Domain Libraries/Quantities and Units/ISQMechanics.sysml...\n",
      "Reading /home/sysml/conda/share/jupyter/kernels/sysml/sysml.library/Domain Libraries/Quantities and Units/SI.sysml...\n",
      "Reading /home/sysml/conda/share/jupyter/kernels/sysml/sysml.library/Domain Libraries/Quantities and Units/ISQCharacteristicNumbers.sysml...\n",
      "Reading /home/sysml/conda/share/jupyter/kernels/sysml/sysml.library/Domain Libraries/Quantities and Units/QuantityCalculations.sysml...\n",
      "Reading /home/sysml/conda/share/jupyter/kernels/sysml/sysml.library/Domain Libraries/Quantities and Units/MeasurementRefCalculations.sysml...\n",
      "Reading /home/sysml/conda/share/jupyter/kernels/sysml/sysml.library/Domain Libraries/Quantities and Units/ISQAtomicNuclear.sysml...\n"
     ]
    },
    {
     "name": "stdout",
     "output_type": "stream",
     "text": [
      "Reading /home/sysml/conda/share/jupyter/kernels/sysml/sysml.library/Domain Libraries/Quantities and Units/ISQ.sysml...\n",
      "Reading /home/sysml/conda/share/jupyter/kernels/sysml/sysml.library/Domain Libraries/Quantities and Units/ISQAcoustics.sysml...\n",
      "Reading /home/sysml/conda/share/jupyter/kernels/sysml/sysml.library/Domain Libraries/Quantities and Units/ISQLight.sysml...\n",
      "Reading /home/sysml/conda/share/jupyter/kernels/sysml/sysml.library/Domain Libraries/Quantities and Units/ISQInformation.sysml...\n",
      "Reading /home/sysml/conda/share/jupyter/kernels/sysml/sysml.library/Domain Libraries/Quantities and Units/ISQThermodynamics.sysml...\n",
      "Reading /home/sysml/conda/share/jupyter/kernels/sysml/sysml.library/Domain Libraries/Quantities and Units/SIPrefixes.sysml...\n",
      "Reading /home/sysml/conda/share/jupyter/kernels/sysml/sysml.library/Domain Libraries/Quantities and Units/VectorCalculations.sysml...\n",
      "Reading /home/sysml/conda/share/jupyter/kernels/sysml/sysml.library/Domain Libraries/Quantities and Units/ISQChemistryMolecular.sysml...\n",
      "Reading /home/sysml/conda/share/jupyter/kernels/sysml/sysml.library/Domain Libraries/Quantities and Units/Quantities.sysml...\n",
      "Reading /home/sysml/conda/share/jupyter/kernels/sysml/sysml.library/Domain Libraries/Metadata/ImageMetadata.sysml...\n",
      "Reading /home/sysml/conda/share/jupyter/kernels/sysml/sysml.library/Domain Libraries/Metadata/ModelingMetadata.sysml...\n",
      "Reading /home/sysml/conda/share/jupyter/kernels/sysml/sysml.library/Domain Libraries/Metadata/ParametersOfInterestMetadata.sysml...\n",
      "Reading /home/sysml/conda/share/jupyter/kernels/sysml/sysml.library/Domain Libraries/Metadata/RiskMetadata.sysml...\n",
      "Reading /home/sysml/conda/share/jupyter/kernels/sysml/sysml.library/Domain Libraries/Requirement Derivation/RequirementDerivation.sysml...\n",
      "Reading /home/sysml/conda/share/jupyter/kernels/sysml/sysml.library/Domain Libraries/Requirement Derivation/DerivationConnections.sysml...\n"
     ]
    },
    {
     "name": "stderr",
     "output_type": "stream",
     "text": [
      "Dec 16, 2024 3:27:12 AM io.github.spencerpark.jupyter.channels.Loop start\n",
      "INFO: Loop starting...\n",
      "Dec 16, 2024 3:27:12 AM io.github.spencerpark.jupyter.channels.Loop start\n",
      "INFO: Loop started.\n",
      "Dec 16, 2024 3:27:12 AM io.github.spencerpark.jupyter.channels.Loop start\n",
      "INFO: Loop starting...\n",
      "Dec 16, 2024 3:27:12 AM io.github.spencerpark.jupyter.channels.Loop start\n",
      "INFO: Loop started.\n",
      "Dec 16, 2024 3:27:12 AM io.github.spencerpark.jupyter.channels.Loop start\n",
      "INFO: Loop starting...\n",
      "Dec 16, 2024 3:27:12 AM io.github.spencerpark.jupyter.channels.Loop start\n",
      "INFO: Loop started.\n"
     ]
    },
    {
     "name": "stderr",
     "output_type": "stream",
     "text": [
      "Dec 16, 2024 3:27:18 AM io.github.spencerpark.jupyter.channels.Loop shutdown\n",
      "INFO: Loop shutdown.\n",
      "Dec 16, 2024 3:27:18 AM io.github.spencerpark.jupyter.channels.Loop shutdown\n",
      "INFO: Loop shutdown.\n",
      "Dec 16, 2024 3:27:18 AM io.github.spencerpark.jupyter.channels.Loop shutdown\n",
      "INFO: Loop shutdown.\n",
      "Dec 16, 2024 3:27:18 AM io.github.spencerpark.jupyter.channels.Loop run\n",
      "INFO: Running loop shutdown callback.\n",
      "Dec 16, 2024 3:27:18 AM io.github.spencerpark.jupyter.channels.Loop run\n",
      "INFO: Loop stopped.\n",
      "Dec 16, 2024 3:27:18 AM io.github.spencerpark.jupyter.channels.Loop run\n",
      "INFO: Running loop shutdown callback.\n",
      "Dec 16, 2024 3:27:18 AM io.github.spencerpark.jupyter.channels.Loop run\n",
      "INFO: Loop stopped.\n"
     ]
    },
    {
     "name": "stderr",
     "output_type": "stream",
     "text": [
      "Dec 16, 2024 3:27:19 AM io.github.spencerpark.jupyter.channels.Loop run\n",
      "INFO: Running loop shutdown callback.\n",
      "Dec 16, 2024 3:27:19 AM io.github.spencerpark.jupyter.channels.Loop run\n",
      "INFO: Loop stopped.\n"
     ]
    },
    {
     "name": "stdout",
     "output_type": "stream",
     "text": [
      "Signing notebook: TestSuite/PartTest.ipynb\n",
      "Executing: TestSuite/CommentTest.ipynb\n"
     ]
    },
    {
     "name": "stderr",
     "output_type": "stream",
     "text": [
      "/home/sysml/conda/lib/python3.12/site-packages/nbformat/__init__.py:96: MissingIDFieldWarning: Cell is missing an id field, this will become a hard error in future nbformat versions. You may want to use `normalize()` on your notebooks before validations (available since nbformat 5.1.4). Previous versions of nbformat are fixing this issue transparently, and will stop doing so in the future.\n",
      "  validate(nb)\n"
     ]
    },
    {
     "name": "stdout",
     "output_type": "stream",
     "text": [
      "Reading /home/sysml/conda/share/jupyter/kernels/sysml/sysml.library/Kernel Libraries/Kernel Semantic Library/Observation.kerml...\n"
     ]
    },
    {
     "name": "stderr",
     "output_type": "stream",
     "text": [
      "log4j:WARN No appenders could be found for logger (org.eclipse.xtext.parser.antlr.AbstractInternalAntlrParser).\n",
      "log4j:WARN Please initialize the log4j system properly.\n",
      "log4j:WARN See http://logging.apache.org/log4j/1.2/faq.html#noconfig for more info.\n"
     ]
    },
    {
     "name": "stdout",
     "output_type": "stream",
     "text": [
      "Reading /home/sysml/conda/share/jupyter/kernels/sysml/sysml.library/Kernel Libraries/Kernel Semantic Library/Transfers.kerml...\n",
      "Reading /home/sysml/conda/share/jupyter/kernels/sysml/sysml.library/Kernel Libraries/Kernel Semantic Library/Metaobjects.kerml...\n",
      "Reading /home/sysml/conda/share/jupyter/kernels/sysml/sysml.library/Kernel Libraries/Kernel Semantic Library/Triggers.kerml...\n",
      "Reading /home/sysml/conda/share/jupyter/kernels/sysml/sysml.library/Kernel Libraries/Kernel Semantic Library/Links.kerml...\n",
      "Reading /home/sysml/conda/share/jupyter/kernels/sysml/sysml.library/Kernel Libraries/Kernel Semantic Library/Base.kerml...\n",
      "Reading /home/sysml/conda/share/jupyter/kernels/sysml/sysml.library/Kernel Libraries/Kernel Semantic Library/Objects.kerml...\n",
      "Reading /home/sysml/conda/share/jupyter/kernels/sysml/sysml.library/Kernel Libraries/Kernel Semantic Library/Clocks.kerml...\n",
      "Reading /home/sysml/conda/share/jupyter/kernels/sysml/sysml.library/Kernel Libraries/Kernel Semantic Library/KerML.kerml...\n"
     ]
    },
    {
     "name": "stdout",
     "output_type": "stream",
     "text": [
      "Reading /home/sysml/conda/share/jupyter/kernels/sysml/sysml.library/Kernel Libraries/Kernel Semantic Library/FeatureReferencingPerformances.kerml...\n",
      "Reading /home/sysml/conda/share/jupyter/kernels/sysml/sysml.library/Kernel Libraries/Kernel Semantic Library/Performances.kerml...\n",
      "Reading /home/sysml/conda/share/jupyter/kernels/sysml/sysml.library/Kernel Libraries/Kernel Semantic Library/Occurrences.kerml...\n",
      "Reading /home/sysml/conda/share/jupyter/kernels/sysml/sysml.library/Kernel Libraries/Kernel Semantic Library/ControlPerformances.kerml...\n",
      "Reading /home/sysml/conda/share/jupyter/kernels/sysml/sysml.library/Kernel Libraries/Kernel Semantic Library/StatePerformances.kerml...\n",
      "Reading /home/sysml/conda/share/jupyter/kernels/sysml/sysml.library/Kernel Libraries/Kernel Semantic Library/TransitionPerformances.kerml...\n",
      "Reading /home/sysml/conda/share/jupyter/kernels/sysml/sysml.library/Kernel Libraries/Kernel Semantic Library/SpatialFrames.kerml...\n",
      "Reading /home/sysml/conda/share/jupyter/kernels/sysml/sysml.library/Kernel Libraries/Kernel Data Type Library/VectorValues.kerml...\n",
      "Reading /home/sysml/conda/share/jupyter/kernels/sysml/sysml.library/Kernel Libraries/Kernel Data Type Library/Collections.kerml...\n",
      "Reading /home/sysml/conda/share/jupyter/kernels/sysml/sysml.library/Kernel Libraries/Kernel Data Type Library/ScalarValues.kerml...\n",
      "Reading /home/sysml/conda/share/jupyter/kernels/sysml/sysml.library/Kernel Libraries/Kernel Function Library/NaturalFunctions.kerml...\n",
      "Reading /home/sysml/conda/share/jupyter/kernels/sysml/sysml.library/Kernel Libraries/Kernel Function Library/BaseFunctions.kerml...\n",
      "Reading /home/sysml/conda/share/jupyter/kernels/sysml/sysml.library/Kernel Libraries/Kernel Function Library/DataFunctions.kerml...\n",
      "Reading /home/sysml/conda/share/jupyter/kernels/sysml/sysml.library/Kernel Libraries/Kernel Function Library/IntegerFunctions.kerml...\n",
      "Reading /home/sysml/conda/share/jupyter/kernels/sysml/sysml.library/Kernel Libraries/Kernel Function Library/RealFunctions.kerml...\n",
      "Reading /home/sysml/conda/share/jupyter/kernels/sysml/sysml.library/Kernel Libraries/Kernel Function Library/NumericalFunctions.kerml...\n"
     ]
    },
    {
     "name": "stdout",
     "output_type": "stream",
     "text": [
      "Reading /home/sysml/conda/share/jupyter/kernels/sysml/sysml.library/Kernel Libraries/Kernel Function Library/VectorFunctions.kerml...\n",
      "Reading /home/sysml/conda/share/jupyter/kernels/sysml/sysml.library/Kernel Libraries/Kernel Function Library/SequenceFunctions.kerml...\n",
      "Reading /home/sysml/conda/share/jupyter/kernels/sysml/sysml.library/Kernel Libraries/Kernel Function Library/ComplexFunctions.kerml...\n",
      "Reading /home/sysml/conda/share/jupyter/kernels/sysml/sysml.library/Kernel Libraries/Kernel Function Library/RationalFunctions.kerml...\n",
      "Reading /home/sysml/conda/share/jupyter/kernels/sysml/sysml.library/Kernel Libraries/Kernel Function Library/StringFunctions.kerml...\n",
      "Reading /home/sysml/conda/share/jupyter/kernels/sysml/sysml.library/Kernel Libraries/Kernel Function Library/ScalarFunctions.kerml...\n",
      "Reading /home/sysml/conda/share/jupyter/kernels/sysml/sysml.library/Kernel Libraries/Kernel Function Library/CollectionFunctions.kerml...\n",
      "Reading /home/sysml/conda/share/jupyter/kernels/sysml/sysml.library/Kernel Libraries/Kernel Function Library/BooleanFunctions.kerml...\n",
      "Reading /home/sysml/conda/share/jupyter/kernels/sysml/sysml.library/Kernel Libraries/Kernel Function Library/OccurrenceFunctions.kerml...\n",
      "Reading /home/sysml/conda/share/jupyter/kernels/sysml/sysml.library/Kernel Libraries/Kernel Function Library/TrigFunctions.kerml...\n",
      "Reading /home/sysml/conda/share/jupyter/kernels/sysml/sysml.library/Kernel Libraries/Kernel Function Library/ControlFunctions.kerml...\n",
      "Reading /home/sysml/conda/share/jupyter/kernels/sysml/sysml.library/Systems Library/Connections.sysml...\n"
     ]
    },
    {
     "name": "stdout",
     "output_type": "stream",
     "text": [
      "Reading /home/sysml/conda/share/jupyter/kernels/sysml/sysml.library/Systems Library/States.sysml...\n",
      "Reading /home/sysml/conda/share/jupyter/kernels/sysml/sysml.library/Systems Library/Actions.sysml...\n",
      "Reading /home/sysml/conda/share/jupyter/kernels/sysml/sysml.library/Systems Library/Metadata.sysml...\n",
      "Reading /home/sysml/conda/share/jupyter/kernels/sysml/sysml.library/Systems Library/Requirements.sysml...\n",
      "Reading /home/sysml/conda/share/jupyter/kernels/sysml/sysml.library/Systems Library/AnalysisCases.sysml...\n",
      "Reading /home/sysml/conda/share/jupyter/kernels/sysml/sysml.library/Systems Library/Attributes.sysml...\n",
      "Reading /home/sysml/conda/share/jupyter/kernels/sysml/sysml.library/Systems Library/Cases.sysml...\n",
      "Reading /home/sysml/conda/share/jupyter/kernels/sysml/sysml.library/Systems Library/VerificationCases.sysml...\n",
      "Reading /home/sysml/conda/share/jupyter/kernels/sysml/sysml.library/Systems Library/Interfaces.sysml...\n",
      "Reading /home/sysml/conda/share/jupyter/kernels/sysml/sysml.library/Systems Library/Ports.sysml...\n",
      "Reading /home/sysml/conda/share/jupyter/kernels/sysml/sysml.library/Systems Library/Views.sysml...\n",
      "Reading /home/sysml/conda/share/jupyter/kernels/sysml/sysml.library/Systems Library/UseCases.sysml...\n",
      "Reading /home/sysml/conda/share/jupyter/kernels/sysml/sysml.library/Systems Library/Parts.sysml...\n",
      "Reading /home/sysml/conda/share/jupyter/kernels/sysml/sysml.library/Systems Library/SysML.sysml...\n",
      "Reading /home/sysml/conda/share/jupyter/kernels/sysml/sysml.library/Systems Library/Constraints.sysml...\n",
      "Reading /home/sysml/conda/share/jupyter/kernels/sysml/sysml.library/Systems Library/Items.sysml...\n",
      "Reading /home/sysml/conda/share/jupyter/kernels/sysml/sysml.library/Systems Library/Calculations.sysml...\n",
      "Reading /home/sysml/conda/share/jupyter/kernels/sysml/sysml.library/Systems Library/StandardViewDefinitions.sysml...\n",
      "Reading /home/sysml/conda/share/jupyter/kernels/sysml/sysml.library/Systems Library/Allocations.sysml...\n",
      "Reading /home/sysml/conda/share/jupyter/kernels/sysml/sysml.library/Domain Libraries/Geometry/SpatialItems.sysml...\n"
     ]
    },
    {
     "name": "stdout",
     "output_type": "stream",
     "text": [
      "Reading /home/sysml/conda/share/jupyter/kernels/sysml/sysml.library/Domain Libraries/Geometry/ShapeItems.sysml...\n",
      "Reading /home/sysml/conda/share/jupyter/kernels/sysml/sysml.library/Domain Libraries/Analysis/TradeStudies.sysml...\n",
      "Reading /home/sysml/conda/share/jupyter/kernels/sysml/sysml.library/Domain Libraries/Analysis/StateSpaceRepresentation.sysml...\n",
      "Reading /home/sysml/conda/share/jupyter/kernels/sysml/sysml.library/Domain Libraries/Analysis/SampledFunctions.sysml...\n",
      "Reading /home/sysml/conda/share/jupyter/kernels/sysml/sysml.library/Domain Libraries/Analysis/AnalysisTooling.sysml...\n",
      "Reading /home/sysml/conda/share/jupyter/kernels/sysml/sysml.library/Domain Libraries/Cause and Effect/CausationConnections.sysml...\n",
      "Reading /home/sysml/conda/share/jupyter/kernels/sysml/sysml.library/Domain Libraries/Cause and Effect/CauseAndEffect.sysml...\n",
      "Reading /home/sysml/conda/share/jupyter/kernels/sysml/sysml.library/Domain Libraries/Quantities and Units/TensorCalculations.sysml...\n",
      "Reading /home/sysml/conda/share/jupyter/kernels/sysml/sysml.library/Domain Libraries/Quantities and Units/ISQSpaceTime.sysml...\n",
      "Reading /home/sysml/conda/share/jupyter/kernels/sysml/sysml.library/Domain Libraries/Quantities and Units/ISQElectromagnetism.sysml...\n"
     ]
    },
    {
     "name": "stdout",
     "output_type": "stream",
     "text": [
      "Reading /home/sysml/conda/share/jupyter/kernels/sysml/sysml.library/Domain Libraries/Quantities and Units/USCustomaryUnits.sysml...\n",
      "Reading /home/sysml/conda/share/jupyter/kernels/sysml/sysml.library/Domain Libraries/Quantities and Units/Time.sysml...\n",
      "Reading /home/sysml/conda/share/jupyter/kernels/sysml/sysml.library/Domain Libraries/Quantities and Units/MeasurementReferences.sysml...\n",
      "Reading /home/sysml/conda/share/jupyter/kernels/sysml/sysml.library/Domain Libraries/Quantities and Units/ISQBase.sysml...\n",
      "Reading /home/sysml/conda/share/jupyter/kernels/sysml/sysml.library/Domain Libraries/Quantities and Units/ISQCondensedMatter.sysml...\n",
      "Reading /home/sysml/conda/share/jupyter/kernels/sysml/sysml.library/Domain Libraries/Quantities and Units/ISQMechanics.sysml...\n",
      "Reading /home/sysml/conda/share/jupyter/kernels/sysml/sysml.library/Domain Libraries/Quantities and Units/SI.sysml...\n",
      "Reading /home/sysml/conda/share/jupyter/kernels/sysml/sysml.library/Domain Libraries/Quantities and Units/ISQCharacteristicNumbers.sysml...\n",
      "Reading /home/sysml/conda/share/jupyter/kernels/sysml/sysml.library/Domain Libraries/Quantities and Units/QuantityCalculations.sysml...\n",
      "Reading /home/sysml/conda/share/jupyter/kernels/sysml/sysml.library/Domain Libraries/Quantities and Units/MeasurementRefCalculations.sysml...\n",
      "Reading /home/sysml/conda/share/jupyter/kernels/sysml/sysml.library/Domain Libraries/Quantities and Units/ISQAtomicNuclear.sysml...\n"
     ]
    },
    {
     "name": "stdout",
     "output_type": "stream",
     "text": [
      "Reading /home/sysml/conda/share/jupyter/kernels/sysml/sysml.library/Domain Libraries/Quantities and Units/ISQ.sysml...\n",
      "Reading /home/sysml/conda/share/jupyter/kernels/sysml/sysml.library/Domain Libraries/Quantities and Units/ISQAcoustics.sysml...\n",
      "Reading /home/sysml/conda/share/jupyter/kernels/sysml/sysml.library/Domain Libraries/Quantities and Units/ISQLight.sysml...\n",
      "Reading /home/sysml/conda/share/jupyter/kernels/sysml/sysml.library/Domain Libraries/Quantities and Units/ISQInformation.sysml...\n",
      "Reading /home/sysml/conda/share/jupyter/kernels/sysml/sysml.library/Domain Libraries/Quantities and Units/ISQThermodynamics.sysml...\n",
      "Reading /home/sysml/conda/share/jupyter/kernels/sysml/sysml.library/Domain Libraries/Quantities and Units/SIPrefixes.sysml...\n",
      "Reading /home/sysml/conda/share/jupyter/kernels/sysml/sysml.library/Domain Libraries/Quantities and Units/VectorCalculations.sysml...\n",
      "Reading /home/sysml/conda/share/jupyter/kernels/sysml/sysml.library/Domain Libraries/Quantities and Units/ISQChemistryMolecular.sysml...\n",
      "Reading /home/sysml/conda/share/jupyter/kernels/sysml/sysml.library/Domain Libraries/Quantities and Units/Quantities.sysml...\n",
      "Reading /home/sysml/conda/share/jupyter/kernels/sysml/sysml.library/Domain Libraries/Metadata/ImageMetadata.sysml...\n",
      "Reading /home/sysml/conda/share/jupyter/kernels/sysml/sysml.library/Domain Libraries/Metadata/ModelingMetadata.sysml...\n",
      "Reading /home/sysml/conda/share/jupyter/kernels/sysml/sysml.library/Domain Libraries/Metadata/ParametersOfInterestMetadata.sysml...\n",
      "Reading /home/sysml/conda/share/jupyter/kernels/sysml/sysml.library/Domain Libraries/Metadata/RiskMetadata.sysml...\n",
      "Reading /home/sysml/conda/share/jupyter/kernels/sysml/sysml.library/Domain Libraries/Requirement Derivation/RequirementDerivation.sysml...\n",
      "Reading /home/sysml/conda/share/jupyter/kernels/sysml/sysml.library/Domain Libraries/Requirement Derivation/DerivationConnections.sysml...\n"
     ]
    },
    {
     "name": "stderr",
     "output_type": "stream",
     "text": [
      "Dec 16, 2024 3:27:23 AM io.github.spencerpark.jupyter.channels.Loop start\n",
      "INFO: Loop starting...\n",
      "Dec 16, 2024 3:27:23 AM io.github.spencerpark.jupyter.channels.Loop start\n",
      "INFO: Loop started.\n",
      "Dec 16, 2024 3:27:23 AM io.github.spencerpark.jupyter.channels.Loop start\n",
      "INFO: Loop starting...\n",
      "Dec 16, 2024 3:27:23 AM io.github.spencerpark.jupyter.channels.Loop start\n",
      "INFO: Loop started.\n",
      "Dec 16, 2024 3:27:23 AM io.github.spencerpark.jupyter.channels.Loop start\n",
      "INFO: Loop starting...\n",
      "Dec 16, 2024 3:27:23 AM io.github.spencerpark.jupyter.channels.Loop start\n",
      "INFO: Loop started.\n"
     ]
    },
    {
     "name": "stderr",
     "output_type": "stream",
     "text": [
      "Dec 16, 2024 3:27:24 AM io.github.spencerpark.jupyter.channels.Loop shutdown\n",
      "INFO: Loop shutdown.\n",
      "Dec 16, 2024 3:27:24 AM io.github.spencerpark.jupyter.channels.Loop shutdown\n",
      "INFO: Loop shutdown.\n",
      "Dec 16, 2024 3:27:24 AM io.github.spencerpark.jupyter.channels.Loop shutdown\n",
      "INFO: Loop shutdown.\n",
      "Dec 16, 2024 3:27:24 AM io.github.spencerpark.jupyter.channels.Loop run\n",
      "INFO: Running loop shutdown callback.\n",
      "Dec 16, 2024 3:27:24 AM io.github.spencerpark.jupyter.channels.Loop run\n",
      "INFO: Loop stopped.\n",
      "Dec 16, 2024 3:27:24 AM io.github.spencerpark.jupyter.channels.Loop run\n",
      "INFO: Running loop shutdown callback.\n",
      "Dec 16, 2024 3:27:24 AM io.github.spencerpark.jupyter.channels.Loop run\n",
      "INFO: Loop stopped.\n",
      "Dec 16, 2024 3:27:24 AM io.github.spencerpark.jupyter.channels.Loop run\n",
      "INFO: Running loop shutdown callback.\n",
      "Dec 16, 2024 3:27:24 AM io.github.spencerpark.jupyter.channels.Loop run\n",
      "INFO: Loop stopped.\n"
     ]
    },
    {
     "name": "stdout",
     "output_type": "stream",
     "text": [
      "Signing notebook: TestSuite/CommentTest.ipynb\n",
      "Executing: TestSuite/DependencyTest.ipynb\n"
     ]
    },
    {
     "name": "stderr",
     "output_type": "stream",
     "text": [
      "/home/sysml/conda/lib/python3.12/site-packages/nbformat/__init__.py:96: MissingIDFieldWarning: Cell is missing an id field, this will become a hard error in future nbformat versions. You may want to use `normalize()` on your notebooks before validations (available since nbformat 5.1.4). Previous versions of nbformat are fixing this issue transparently, and will stop doing so in the future.\n",
      "  validate(nb)\n"
     ]
    },
    {
     "name": "stdout",
     "output_type": "stream",
     "text": [
      "Reading /home/sysml/conda/share/jupyter/kernels/sysml/sysml.library/Kernel Libraries/Kernel Semantic Library/Observation.kerml...\n"
     ]
    },
    {
     "name": "stderr",
     "output_type": "stream",
     "text": [
      "log4j:WARN No appenders could be found for logger (org.eclipse.xtext.parser.antlr.AbstractInternalAntlrParser).\n",
      "log4j:WARN Please initialize the log4j system properly.\n",
      "log4j:WARN See http://logging.apache.org/log4j/1.2/faq.html#noconfig for more info.\n"
     ]
    },
    {
     "name": "stdout",
     "output_type": "stream",
     "text": [
      "Reading /home/sysml/conda/share/jupyter/kernels/sysml/sysml.library/Kernel Libraries/Kernel Semantic Library/Transfers.kerml...\n",
      "Reading /home/sysml/conda/share/jupyter/kernels/sysml/sysml.library/Kernel Libraries/Kernel Semantic Library/Metaobjects.kerml...\n",
      "Reading /home/sysml/conda/share/jupyter/kernels/sysml/sysml.library/Kernel Libraries/Kernel Semantic Library/Triggers.kerml...\n",
      "Reading /home/sysml/conda/share/jupyter/kernels/sysml/sysml.library/Kernel Libraries/Kernel Semantic Library/Links.kerml...\n",
      "Reading /home/sysml/conda/share/jupyter/kernels/sysml/sysml.library/Kernel Libraries/Kernel Semantic Library/Base.kerml...\n",
      "Reading /home/sysml/conda/share/jupyter/kernels/sysml/sysml.library/Kernel Libraries/Kernel Semantic Library/Objects.kerml...\n",
      "Reading /home/sysml/conda/share/jupyter/kernels/sysml/sysml.library/Kernel Libraries/Kernel Semantic Library/Clocks.kerml...\n",
      "Reading /home/sysml/conda/share/jupyter/kernels/sysml/sysml.library/Kernel Libraries/Kernel Semantic Library/KerML.kerml...\n"
     ]
    },
    {
     "name": "stdout",
     "output_type": "stream",
     "text": [
      "Reading /home/sysml/conda/share/jupyter/kernels/sysml/sysml.library/Kernel Libraries/Kernel Semantic Library/FeatureReferencingPerformances.kerml...\n",
      "Reading /home/sysml/conda/share/jupyter/kernels/sysml/sysml.library/Kernel Libraries/Kernel Semantic Library/Performances.kerml...\n",
      "Reading /home/sysml/conda/share/jupyter/kernels/sysml/sysml.library/Kernel Libraries/Kernel Semantic Library/Occurrences.kerml...\n",
      "Reading /home/sysml/conda/share/jupyter/kernels/sysml/sysml.library/Kernel Libraries/Kernel Semantic Library/ControlPerformances.kerml...\n",
      "Reading /home/sysml/conda/share/jupyter/kernels/sysml/sysml.library/Kernel Libraries/Kernel Semantic Library/StatePerformances.kerml...\n",
      "Reading /home/sysml/conda/share/jupyter/kernels/sysml/sysml.library/Kernel Libraries/Kernel Semantic Library/TransitionPerformances.kerml...\n",
      "Reading /home/sysml/conda/share/jupyter/kernels/sysml/sysml.library/Kernel Libraries/Kernel Semantic Library/SpatialFrames.kerml...\n",
      "Reading /home/sysml/conda/share/jupyter/kernels/sysml/sysml.library/Kernel Libraries/Kernel Data Type Library/VectorValues.kerml...\n",
      "Reading /home/sysml/conda/share/jupyter/kernels/sysml/sysml.library/Kernel Libraries/Kernel Data Type Library/Collections.kerml...\n",
      "Reading /home/sysml/conda/share/jupyter/kernels/sysml/sysml.library/Kernel Libraries/Kernel Data Type Library/ScalarValues.kerml...\n",
      "Reading /home/sysml/conda/share/jupyter/kernels/sysml/sysml.library/Kernel Libraries/Kernel Function Library/NaturalFunctions.kerml...\n",
      "Reading /home/sysml/conda/share/jupyter/kernels/sysml/sysml.library/Kernel Libraries/Kernel Function Library/BaseFunctions.kerml...\n",
      "Reading /home/sysml/conda/share/jupyter/kernels/sysml/sysml.library/Kernel Libraries/Kernel Function Library/DataFunctions.kerml...\n",
      "Reading /home/sysml/conda/share/jupyter/kernels/sysml/sysml.library/Kernel Libraries/Kernel Function Library/IntegerFunctions.kerml...\n",
      "Reading /home/sysml/conda/share/jupyter/kernels/sysml/sysml.library/Kernel Libraries/Kernel Function Library/RealFunctions.kerml...\n",
      "Reading /home/sysml/conda/share/jupyter/kernels/sysml/sysml.library/Kernel Libraries/Kernel Function Library/NumericalFunctions.kerml...\n"
     ]
    },
    {
     "name": "stdout",
     "output_type": "stream",
     "text": [
      "Reading /home/sysml/conda/share/jupyter/kernels/sysml/sysml.library/Kernel Libraries/Kernel Function Library/VectorFunctions.kerml...\n",
      "Reading /home/sysml/conda/share/jupyter/kernels/sysml/sysml.library/Kernel Libraries/Kernel Function Library/SequenceFunctions.kerml...\n",
      "Reading /home/sysml/conda/share/jupyter/kernels/sysml/sysml.library/Kernel Libraries/Kernel Function Library/ComplexFunctions.kerml...\n",
      "Reading /home/sysml/conda/share/jupyter/kernels/sysml/sysml.library/Kernel Libraries/Kernel Function Library/RationalFunctions.kerml...\n",
      "Reading /home/sysml/conda/share/jupyter/kernels/sysml/sysml.library/Kernel Libraries/Kernel Function Library/StringFunctions.kerml...\n",
      "Reading /home/sysml/conda/share/jupyter/kernels/sysml/sysml.library/Kernel Libraries/Kernel Function Library/ScalarFunctions.kerml...\n",
      "Reading /home/sysml/conda/share/jupyter/kernels/sysml/sysml.library/Kernel Libraries/Kernel Function Library/CollectionFunctions.kerml...\n",
      "Reading /home/sysml/conda/share/jupyter/kernels/sysml/sysml.library/Kernel Libraries/Kernel Function Library/BooleanFunctions.kerml...\n",
      "Reading /home/sysml/conda/share/jupyter/kernels/sysml/sysml.library/Kernel Libraries/Kernel Function Library/OccurrenceFunctions.kerml...\n",
      "Reading /home/sysml/conda/share/jupyter/kernels/sysml/sysml.library/Kernel Libraries/Kernel Function Library/TrigFunctions.kerml...\n",
      "Reading /home/sysml/conda/share/jupyter/kernels/sysml/sysml.library/Kernel Libraries/Kernel Function Library/ControlFunctions.kerml...\n",
      "Reading /home/sysml/conda/share/jupyter/kernels/sysml/sysml.library/Systems Library/Connections.sysml...\n"
     ]
    },
    {
     "name": "stdout",
     "output_type": "stream",
     "text": [
      "Reading /home/sysml/conda/share/jupyter/kernels/sysml/sysml.library/Systems Library/States.sysml...\n",
      "Reading /home/sysml/conda/share/jupyter/kernels/sysml/sysml.library/Systems Library/Actions.sysml...\n",
      "Reading /home/sysml/conda/share/jupyter/kernels/sysml/sysml.library/Systems Library/Metadata.sysml...\n",
      "Reading /home/sysml/conda/share/jupyter/kernels/sysml/sysml.library/Systems Library/Requirements.sysml...\n",
      "Reading /home/sysml/conda/share/jupyter/kernels/sysml/sysml.library/Systems Library/AnalysisCases.sysml...\n",
      "Reading /home/sysml/conda/share/jupyter/kernels/sysml/sysml.library/Systems Library/Attributes.sysml...\n",
      "Reading /home/sysml/conda/share/jupyter/kernels/sysml/sysml.library/Systems Library/Cases.sysml...\n",
      "Reading /home/sysml/conda/share/jupyter/kernels/sysml/sysml.library/Systems Library/VerificationCases.sysml...\n",
      "Reading /home/sysml/conda/share/jupyter/kernels/sysml/sysml.library/Systems Library/Interfaces.sysml...\n",
      "Reading /home/sysml/conda/share/jupyter/kernels/sysml/sysml.library/Systems Library/Ports.sysml...\n",
      "Reading /home/sysml/conda/share/jupyter/kernels/sysml/sysml.library/Systems Library/Views.sysml...\n",
      "Reading /home/sysml/conda/share/jupyter/kernels/sysml/sysml.library/Systems Library/UseCases.sysml...\n",
      "Reading /home/sysml/conda/share/jupyter/kernels/sysml/sysml.library/Systems Library/Parts.sysml...\n",
      "Reading /home/sysml/conda/share/jupyter/kernels/sysml/sysml.library/Systems Library/SysML.sysml...\n",
      "Reading /home/sysml/conda/share/jupyter/kernels/sysml/sysml.library/Systems Library/Constraints.sysml...\n",
      "Reading /home/sysml/conda/share/jupyter/kernels/sysml/sysml.library/Systems Library/Items.sysml...\n",
      "Reading /home/sysml/conda/share/jupyter/kernels/sysml/sysml.library/Systems Library/Calculations.sysml...\n",
      "Reading /home/sysml/conda/share/jupyter/kernels/sysml/sysml.library/Systems Library/StandardViewDefinitions.sysml...\n",
      "Reading /home/sysml/conda/share/jupyter/kernels/sysml/sysml.library/Systems Library/Allocations.sysml...\n"
     ]
    },
    {
     "name": "stdout",
     "output_type": "stream",
     "text": [
      "Reading /home/sysml/conda/share/jupyter/kernels/sysml/sysml.library/Domain Libraries/Geometry/SpatialItems.sysml...\n",
      "Reading /home/sysml/conda/share/jupyter/kernels/sysml/sysml.library/Domain Libraries/Geometry/ShapeItems.sysml...\n",
      "Reading /home/sysml/conda/share/jupyter/kernels/sysml/sysml.library/Domain Libraries/Analysis/TradeStudies.sysml...\n",
      "Reading /home/sysml/conda/share/jupyter/kernels/sysml/sysml.library/Domain Libraries/Analysis/StateSpaceRepresentation.sysml...\n",
      "Reading /home/sysml/conda/share/jupyter/kernels/sysml/sysml.library/Domain Libraries/Analysis/SampledFunctions.sysml...\n",
      "Reading /home/sysml/conda/share/jupyter/kernels/sysml/sysml.library/Domain Libraries/Analysis/AnalysisTooling.sysml...\n",
      "Reading /home/sysml/conda/share/jupyter/kernels/sysml/sysml.library/Domain Libraries/Cause and Effect/CausationConnections.sysml...\n",
      "Reading /home/sysml/conda/share/jupyter/kernels/sysml/sysml.library/Domain Libraries/Cause and Effect/CauseAndEffect.sysml...\n",
      "Reading /home/sysml/conda/share/jupyter/kernels/sysml/sysml.library/Domain Libraries/Quantities and Units/TensorCalculations.sysml...\n",
      "Reading /home/sysml/conda/share/jupyter/kernels/sysml/sysml.library/Domain Libraries/Quantities and Units/ISQSpaceTime.sysml...\n",
      "Reading /home/sysml/conda/share/jupyter/kernels/sysml/sysml.library/Domain Libraries/Quantities and Units/ISQElectromagnetism.sysml...\n"
     ]
    },
    {
     "name": "stdout",
     "output_type": "stream",
     "text": [
      "Reading /home/sysml/conda/share/jupyter/kernels/sysml/sysml.library/Domain Libraries/Quantities and Units/USCustomaryUnits.sysml...\n",
      "Reading /home/sysml/conda/share/jupyter/kernels/sysml/sysml.library/Domain Libraries/Quantities and Units/Time.sysml...\n",
      "Reading /home/sysml/conda/share/jupyter/kernels/sysml/sysml.library/Domain Libraries/Quantities and Units/MeasurementReferences.sysml...\n",
      "Reading /home/sysml/conda/share/jupyter/kernels/sysml/sysml.library/Domain Libraries/Quantities and Units/ISQBase.sysml...\n",
      "Reading /home/sysml/conda/share/jupyter/kernels/sysml/sysml.library/Domain Libraries/Quantities and Units/ISQCondensedMatter.sysml...\n",
      "Reading /home/sysml/conda/share/jupyter/kernels/sysml/sysml.library/Domain Libraries/Quantities and Units/ISQMechanics.sysml...\n",
      "Reading /home/sysml/conda/share/jupyter/kernels/sysml/sysml.library/Domain Libraries/Quantities and Units/SI.sysml...\n",
      "Reading /home/sysml/conda/share/jupyter/kernels/sysml/sysml.library/Domain Libraries/Quantities and Units/ISQCharacteristicNumbers.sysml...\n",
      "Reading /home/sysml/conda/share/jupyter/kernels/sysml/sysml.library/Domain Libraries/Quantities and Units/QuantityCalculations.sysml...\n",
      "Reading /home/sysml/conda/share/jupyter/kernels/sysml/sysml.library/Domain Libraries/Quantities and Units/MeasurementRefCalculations.sysml...\n",
      "Reading /home/sysml/conda/share/jupyter/kernels/sysml/sysml.library/Domain Libraries/Quantities and Units/ISQAtomicNuclear.sysml...\n"
     ]
    },
    {
     "name": "stdout",
     "output_type": "stream",
     "text": [
      "Reading /home/sysml/conda/share/jupyter/kernels/sysml/sysml.library/Domain Libraries/Quantities and Units/ISQ.sysml...\n",
      "Reading /home/sysml/conda/share/jupyter/kernels/sysml/sysml.library/Domain Libraries/Quantities and Units/ISQAcoustics.sysml...\n",
      "Reading /home/sysml/conda/share/jupyter/kernels/sysml/sysml.library/Domain Libraries/Quantities and Units/ISQLight.sysml...\n",
      "Reading /home/sysml/conda/share/jupyter/kernels/sysml/sysml.library/Domain Libraries/Quantities and Units/ISQInformation.sysml...\n",
      "Reading /home/sysml/conda/share/jupyter/kernels/sysml/sysml.library/Domain Libraries/Quantities and Units/ISQThermodynamics.sysml...\n",
      "Reading /home/sysml/conda/share/jupyter/kernels/sysml/sysml.library/Domain Libraries/Quantities and Units/SIPrefixes.sysml...\n",
      "Reading /home/sysml/conda/share/jupyter/kernels/sysml/sysml.library/Domain Libraries/Quantities and Units/VectorCalculations.sysml...\n",
      "Reading /home/sysml/conda/share/jupyter/kernels/sysml/sysml.library/Domain Libraries/Quantities and Units/ISQChemistryMolecular.sysml...\n",
      "Reading /home/sysml/conda/share/jupyter/kernels/sysml/sysml.library/Domain Libraries/Quantities and Units/Quantities.sysml...\n",
      "Reading /home/sysml/conda/share/jupyter/kernels/sysml/sysml.library/Domain Libraries/Metadata/ImageMetadata.sysml...\n",
      "Reading /home/sysml/conda/share/jupyter/kernels/sysml/sysml.library/Domain Libraries/Metadata/ModelingMetadata.sysml...\n",
      "Reading /home/sysml/conda/share/jupyter/kernels/sysml/sysml.library/Domain Libraries/Metadata/ParametersOfInterestMetadata.sysml...\n",
      "Reading /home/sysml/conda/share/jupyter/kernels/sysml/sysml.library/Domain Libraries/Metadata/RiskMetadata.sysml...\n",
      "Reading /home/sysml/conda/share/jupyter/kernels/sysml/sysml.library/Domain Libraries/Requirement Derivation/RequirementDerivation.sysml...\n",
      "Reading /home/sysml/conda/share/jupyter/kernels/sysml/sysml.library/Domain Libraries/Requirement Derivation/DerivationConnections.sysml...\n"
     ]
    },
    {
     "name": "stderr",
     "output_type": "stream",
     "text": [
      "Dec 16, 2024 3:27:28 AM io.github.spencerpark.jupyter.channels.Loop start\n",
      "INFO: Loop starting...\n",
      "Dec 16, 2024 3:27:28 AM io.github.spencerpark.jupyter.channels.Loop start\n",
      "INFO: Loop started.\n",
      "Dec 16, 2024 3:27:28 AM io.github.spencerpark.jupyter.channels.Loop start\n",
      "INFO: Loop starting...\n",
      "Dec 16, 2024 3:27:28 AM io.github.spencerpark.jupyter.channels.Loop start\n",
      "INFO: Loop started.\n",
      "Dec 16, 2024 3:27:28 AM io.github.spencerpark.jupyter.channels.Loop start\n",
      "INFO: Loop starting...\n",
      "Dec 16, 2024 3:27:28 AM io.github.spencerpark.jupyter.channels.Loop start\n",
      "INFO: Loop started.\n"
     ]
    },
    {
     "name": "stderr",
     "output_type": "stream",
     "text": [
      "Dec 16, 2024 3:27:33 AM io.github.spencerpark.jupyter.channels.Loop shutdown\n",
      "INFO: Loop shutdown.\n",
      "Dec 16, 2024 3:27:33 AM io.github.spencerpark.jupyter.channels.Loop shutdown\n",
      "INFO: Loop shutdown.\n",
      "Dec 16, 2024 3:27:33 AM io.github.spencerpark.jupyter.channels.Loop shutdown\n",
      "INFO: Loop shutdown.\n",
      "Dec 16, 2024 3:27:33 AM io.github.spencerpark.jupyter.channels.Loop run\n",
      "INFO: Running loop shutdown callback.\n",
      "Dec 16, 2024 3:27:33 AM io.github.spencerpark.jupyter.channels.Loop run\n",
      "INFO: Loop stopped.\n",
      "Dec 16, 2024 3:27:33 AM io.github.spencerpark.jupyter.channels.Loop run\n",
      "INFO: Running loop shutdown callback.\n",
      "Dec 16, 2024 3:27:33 AM io.github.spencerpark.jupyter.channels.Loop run\n",
      "INFO: Loop stopped.\n"
     ]
    },
    {
     "name": "stderr",
     "output_type": "stream",
     "text": [
      "Dec 16, 2024 3:27:34 AM io.github.spencerpark.jupyter.channels.Loop run\n",
      "INFO: Running loop shutdown callback.\n",
      "Dec 16, 2024 3:27:34 AM io.github.spencerpark.jupyter.channels.Loop run\n",
      "INFO: Loop stopped.\n"
     ]
    },
    {
     "name": "stdout",
     "output_type": "stream",
     "text": [
      "Signing notebook: TestSuite/DependencyTest.ipynb\n",
      "Executing: TestSuite/ViewTest.ipynb\n"
     ]
    },
    {
     "name": "stderr",
     "output_type": "stream",
     "text": [
      "/home/sysml/conda/lib/python3.12/site-packages/nbformat/__init__.py:96: MissingIDFieldWarning: Cell is missing an id field, this will become a hard error in future nbformat versions. You may want to use `normalize()` on your notebooks before validations (available since nbformat 5.1.4). Previous versions of nbformat are fixing this issue transparently, and will stop doing so in the future.\n",
      "  validate(nb)\n"
     ]
    },
    {
     "name": "stdout",
     "output_type": "stream",
     "text": [
      "Reading /home/sysml/conda/share/jupyter/kernels/sysml/sysml.library/Kernel Libraries/Kernel Semantic Library/Observation.kerml...\n"
     ]
    },
    {
     "name": "stderr",
     "output_type": "stream",
     "text": [
      "log4j:WARN No appenders could be found for logger (org.eclipse.xtext.parser.antlr.AbstractInternalAntlrParser).\n",
      "log4j:WARN Please initialize the log4j system properly.\n",
      "log4j:WARN See http://logging.apache.org/log4j/1.2/faq.html#noconfig for more info.\n"
     ]
    },
    {
     "name": "stdout",
     "output_type": "stream",
     "text": [
      "Reading /home/sysml/conda/share/jupyter/kernels/sysml/sysml.library/Kernel Libraries/Kernel Semantic Library/Transfers.kerml...\n",
      "Reading /home/sysml/conda/share/jupyter/kernels/sysml/sysml.library/Kernel Libraries/Kernel Semantic Library/Metaobjects.kerml...\n",
      "Reading /home/sysml/conda/share/jupyter/kernels/sysml/sysml.library/Kernel Libraries/Kernel Semantic Library/Triggers.kerml...\n",
      "Reading /home/sysml/conda/share/jupyter/kernels/sysml/sysml.library/Kernel Libraries/Kernel Semantic Library/Links.kerml...\n",
      "Reading /home/sysml/conda/share/jupyter/kernels/sysml/sysml.library/Kernel Libraries/Kernel Semantic Library/Base.kerml...\n",
      "Reading /home/sysml/conda/share/jupyter/kernels/sysml/sysml.library/Kernel Libraries/Kernel Semantic Library/Objects.kerml...\n",
      "Reading /home/sysml/conda/share/jupyter/kernels/sysml/sysml.library/Kernel Libraries/Kernel Semantic Library/Clocks.kerml...\n",
      "Reading /home/sysml/conda/share/jupyter/kernels/sysml/sysml.library/Kernel Libraries/Kernel Semantic Library/KerML.kerml...\n"
     ]
    },
    {
     "name": "stdout",
     "output_type": "stream",
     "text": [
      "Reading /home/sysml/conda/share/jupyter/kernels/sysml/sysml.library/Kernel Libraries/Kernel Semantic Library/FeatureReferencingPerformances.kerml...\n",
      "Reading /home/sysml/conda/share/jupyter/kernels/sysml/sysml.library/Kernel Libraries/Kernel Semantic Library/Performances.kerml...\n",
      "Reading /home/sysml/conda/share/jupyter/kernels/sysml/sysml.library/Kernel Libraries/Kernel Semantic Library/Occurrences.kerml...\n",
      "Reading /home/sysml/conda/share/jupyter/kernels/sysml/sysml.library/Kernel Libraries/Kernel Semantic Library/ControlPerformances.kerml...\n",
      "Reading /home/sysml/conda/share/jupyter/kernels/sysml/sysml.library/Kernel Libraries/Kernel Semantic Library/StatePerformances.kerml...\n",
      "Reading /home/sysml/conda/share/jupyter/kernels/sysml/sysml.library/Kernel Libraries/Kernel Semantic Library/TransitionPerformances.kerml...\n",
      "Reading /home/sysml/conda/share/jupyter/kernels/sysml/sysml.library/Kernel Libraries/Kernel Semantic Library/SpatialFrames.kerml...\n",
      "Reading /home/sysml/conda/share/jupyter/kernels/sysml/sysml.library/Kernel Libraries/Kernel Data Type Library/VectorValues.kerml...\n",
      "Reading /home/sysml/conda/share/jupyter/kernels/sysml/sysml.library/Kernel Libraries/Kernel Data Type Library/Collections.kerml...\n",
      "Reading /home/sysml/conda/share/jupyter/kernels/sysml/sysml.library/Kernel Libraries/Kernel Data Type Library/ScalarValues.kerml...\n",
      "Reading /home/sysml/conda/share/jupyter/kernels/sysml/sysml.library/Kernel Libraries/Kernel Function Library/NaturalFunctions.kerml...\n",
      "Reading /home/sysml/conda/share/jupyter/kernels/sysml/sysml.library/Kernel Libraries/Kernel Function Library/BaseFunctions.kerml...\n",
      "Reading /home/sysml/conda/share/jupyter/kernels/sysml/sysml.library/Kernel Libraries/Kernel Function Library/DataFunctions.kerml...\n",
      "Reading /home/sysml/conda/share/jupyter/kernels/sysml/sysml.library/Kernel Libraries/Kernel Function Library/IntegerFunctions.kerml...\n",
      "Reading /home/sysml/conda/share/jupyter/kernels/sysml/sysml.library/Kernel Libraries/Kernel Function Library/RealFunctions.kerml...\n",
      "Reading /home/sysml/conda/share/jupyter/kernels/sysml/sysml.library/Kernel Libraries/Kernel Function Library/NumericalFunctions.kerml...\n"
     ]
    },
    {
     "name": "stdout",
     "output_type": "stream",
     "text": [
      "Reading /home/sysml/conda/share/jupyter/kernels/sysml/sysml.library/Kernel Libraries/Kernel Function Library/VectorFunctions.kerml...\n",
      "Reading /home/sysml/conda/share/jupyter/kernels/sysml/sysml.library/Kernel Libraries/Kernel Function Library/SequenceFunctions.kerml...\n",
      "Reading /home/sysml/conda/share/jupyter/kernels/sysml/sysml.library/Kernel Libraries/Kernel Function Library/ComplexFunctions.kerml...\n",
      "Reading /home/sysml/conda/share/jupyter/kernels/sysml/sysml.library/Kernel Libraries/Kernel Function Library/RationalFunctions.kerml...\n",
      "Reading /home/sysml/conda/share/jupyter/kernels/sysml/sysml.library/Kernel Libraries/Kernel Function Library/StringFunctions.kerml...\n",
      "Reading /home/sysml/conda/share/jupyter/kernels/sysml/sysml.library/Kernel Libraries/Kernel Function Library/ScalarFunctions.kerml...\n",
      "Reading /home/sysml/conda/share/jupyter/kernels/sysml/sysml.library/Kernel Libraries/Kernel Function Library/CollectionFunctions.kerml...\n",
      "Reading /home/sysml/conda/share/jupyter/kernels/sysml/sysml.library/Kernel Libraries/Kernel Function Library/BooleanFunctions.kerml...\n",
      "Reading /home/sysml/conda/share/jupyter/kernels/sysml/sysml.library/Kernel Libraries/Kernel Function Library/OccurrenceFunctions.kerml...\n",
      "Reading /home/sysml/conda/share/jupyter/kernels/sysml/sysml.library/Kernel Libraries/Kernel Function Library/TrigFunctions.kerml...\n",
      "Reading /home/sysml/conda/share/jupyter/kernels/sysml/sysml.library/Kernel Libraries/Kernel Function Library/ControlFunctions.kerml...\n",
      "Reading /home/sysml/conda/share/jupyter/kernels/sysml/sysml.library/Systems Library/Connections.sysml...\n"
     ]
    },
    {
     "name": "stdout",
     "output_type": "stream",
     "text": [
      "Reading /home/sysml/conda/share/jupyter/kernels/sysml/sysml.library/Systems Library/States.sysml...\n",
      "Reading /home/sysml/conda/share/jupyter/kernels/sysml/sysml.library/Systems Library/Actions.sysml...\n",
      "Reading /home/sysml/conda/share/jupyter/kernels/sysml/sysml.library/Systems Library/Metadata.sysml...\n",
      "Reading /home/sysml/conda/share/jupyter/kernels/sysml/sysml.library/Systems Library/Requirements.sysml...\n",
      "Reading /home/sysml/conda/share/jupyter/kernels/sysml/sysml.library/Systems Library/AnalysisCases.sysml...\n",
      "Reading /home/sysml/conda/share/jupyter/kernels/sysml/sysml.library/Systems Library/Attributes.sysml...\n",
      "Reading /home/sysml/conda/share/jupyter/kernels/sysml/sysml.library/Systems Library/Cases.sysml...\n",
      "Reading /home/sysml/conda/share/jupyter/kernels/sysml/sysml.library/Systems Library/VerificationCases.sysml...\n",
      "Reading /home/sysml/conda/share/jupyter/kernels/sysml/sysml.library/Systems Library/Interfaces.sysml...\n",
      "Reading /home/sysml/conda/share/jupyter/kernels/sysml/sysml.library/Systems Library/Ports.sysml...\n",
      "Reading /home/sysml/conda/share/jupyter/kernels/sysml/sysml.library/Systems Library/Views.sysml...\n",
      "Reading /home/sysml/conda/share/jupyter/kernels/sysml/sysml.library/Systems Library/UseCases.sysml...\n",
      "Reading /home/sysml/conda/share/jupyter/kernels/sysml/sysml.library/Systems Library/Parts.sysml...\n",
      "Reading /home/sysml/conda/share/jupyter/kernels/sysml/sysml.library/Systems Library/SysML.sysml...\n",
      "Reading /home/sysml/conda/share/jupyter/kernels/sysml/sysml.library/Systems Library/Constraints.sysml...\n",
      "Reading /home/sysml/conda/share/jupyter/kernels/sysml/sysml.library/Systems Library/Items.sysml...\n",
      "Reading /home/sysml/conda/share/jupyter/kernels/sysml/sysml.library/Systems Library/Calculations.sysml...\n"
     ]
    },
    {
     "name": "stdout",
     "output_type": "stream",
     "text": [
      "Reading /home/sysml/conda/share/jupyter/kernels/sysml/sysml.library/Systems Library/StandardViewDefinitions.sysml...\n",
      "Reading /home/sysml/conda/share/jupyter/kernels/sysml/sysml.library/Systems Library/Allocations.sysml...\n",
      "Reading /home/sysml/conda/share/jupyter/kernels/sysml/sysml.library/Domain Libraries/Geometry/SpatialItems.sysml...\n",
      "Reading /home/sysml/conda/share/jupyter/kernels/sysml/sysml.library/Domain Libraries/Geometry/ShapeItems.sysml...\n",
      "Reading /home/sysml/conda/share/jupyter/kernels/sysml/sysml.library/Domain Libraries/Analysis/TradeStudies.sysml...\n",
      "Reading /home/sysml/conda/share/jupyter/kernels/sysml/sysml.library/Domain Libraries/Analysis/StateSpaceRepresentation.sysml...\n",
      "Reading /home/sysml/conda/share/jupyter/kernels/sysml/sysml.library/Domain Libraries/Analysis/SampledFunctions.sysml...\n",
      "Reading /home/sysml/conda/share/jupyter/kernels/sysml/sysml.library/Domain Libraries/Analysis/AnalysisTooling.sysml...\n",
      "Reading /home/sysml/conda/share/jupyter/kernels/sysml/sysml.library/Domain Libraries/Cause and Effect/CausationConnections.sysml...\n",
      "Reading /home/sysml/conda/share/jupyter/kernels/sysml/sysml.library/Domain Libraries/Cause and Effect/CauseAndEffect.sysml...\n",
      "Reading /home/sysml/conda/share/jupyter/kernels/sysml/sysml.library/Domain Libraries/Quantities and Units/TensorCalculations.sysml...\n",
      "Reading /home/sysml/conda/share/jupyter/kernels/sysml/sysml.library/Domain Libraries/Quantities and Units/ISQSpaceTime.sysml...\n",
      "Reading /home/sysml/conda/share/jupyter/kernels/sysml/sysml.library/Domain Libraries/Quantities and Units/ISQElectromagnetism.sysml...\n"
     ]
    },
    {
     "name": "stdout",
     "output_type": "stream",
     "text": [
      "Reading /home/sysml/conda/share/jupyter/kernels/sysml/sysml.library/Domain Libraries/Quantities and Units/USCustomaryUnits.sysml...\n",
      "Reading /home/sysml/conda/share/jupyter/kernels/sysml/sysml.library/Domain Libraries/Quantities and Units/Time.sysml...\n",
      "Reading /home/sysml/conda/share/jupyter/kernels/sysml/sysml.library/Domain Libraries/Quantities and Units/MeasurementReferences.sysml...\n",
      "Reading /home/sysml/conda/share/jupyter/kernels/sysml/sysml.library/Domain Libraries/Quantities and Units/ISQBase.sysml...\n",
      "Reading /home/sysml/conda/share/jupyter/kernels/sysml/sysml.library/Domain Libraries/Quantities and Units/ISQCondensedMatter.sysml...\n",
      "Reading /home/sysml/conda/share/jupyter/kernels/sysml/sysml.library/Domain Libraries/Quantities and Units/ISQMechanics.sysml...\n",
      "Reading /home/sysml/conda/share/jupyter/kernels/sysml/sysml.library/Domain Libraries/Quantities and Units/SI.sysml...\n",
      "Reading /home/sysml/conda/share/jupyter/kernels/sysml/sysml.library/Domain Libraries/Quantities and Units/ISQCharacteristicNumbers.sysml...\n",
      "Reading /home/sysml/conda/share/jupyter/kernels/sysml/sysml.library/Domain Libraries/Quantities and Units/QuantityCalculations.sysml...\n",
      "Reading /home/sysml/conda/share/jupyter/kernels/sysml/sysml.library/Domain Libraries/Quantities and Units/MeasurementRefCalculations.sysml...\n",
      "Reading /home/sysml/conda/share/jupyter/kernels/sysml/sysml.library/Domain Libraries/Quantities and Units/ISQAtomicNuclear.sysml...\n"
     ]
    },
    {
     "name": "stdout",
     "output_type": "stream",
     "text": [
      "Reading /home/sysml/conda/share/jupyter/kernels/sysml/sysml.library/Domain Libraries/Quantities and Units/ISQ.sysml...\n",
      "Reading /home/sysml/conda/share/jupyter/kernels/sysml/sysml.library/Domain Libraries/Quantities and Units/ISQAcoustics.sysml...\n",
      "Reading /home/sysml/conda/share/jupyter/kernels/sysml/sysml.library/Domain Libraries/Quantities and Units/ISQLight.sysml...\n",
      "Reading /home/sysml/conda/share/jupyter/kernels/sysml/sysml.library/Domain Libraries/Quantities and Units/ISQInformation.sysml...\n",
      "Reading /home/sysml/conda/share/jupyter/kernels/sysml/sysml.library/Domain Libraries/Quantities and Units/ISQThermodynamics.sysml...\n",
      "Reading /home/sysml/conda/share/jupyter/kernels/sysml/sysml.library/Domain Libraries/Quantities and Units/SIPrefixes.sysml...\n",
      "Reading /home/sysml/conda/share/jupyter/kernels/sysml/sysml.library/Domain Libraries/Quantities and Units/VectorCalculations.sysml...\n",
      "Reading /home/sysml/conda/share/jupyter/kernels/sysml/sysml.library/Domain Libraries/Quantities and Units/ISQChemistryMolecular.sysml...\n",
      "Reading /home/sysml/conda/share/jupyter/kernels/sysml/sysml.library/Domain Libraries/Quantities and Units/Quantities.sysml...\n",
      "Reading /home/sysml/conda/share/jupyter/kernels/sysml/sysml.library/Domain Libraries/Metadata/ImageMetadata.sysml...\n",
      "Reading /home/sysml/conda/share/jupyter/kernels/sysml/sysml.library/Domain Libraries/Metadata/ModelingMetadata.sysml...\n",
      "Reading /home/sysml/conda/share/jupyter/kernels/sysml/sysml.library/Domain Libraries/Metadata/ParametersOfInterestMetadata.sysml...\n",
      "Reading /home/sysml/conda/share/jupyter/kernels/sysml/sysml.library/Domain Libraries/Metadata/RiskMetadata.sysml...\n",
      "Reading /home/sysml/conda/share/jupyter/kernels/sysml/sysml.library/Domain Libraries/Requirement Derivation/RequirementDerivation.sysml...\n",
      "Reading /home/sysml/conda/share/jupyter/kernels/sysml/sysml.library/Domain Libraries/Requirement Derivation/DerivationConnections.sysml...\n"
     ]
    },
    {
     "name": "stderr",
     "output_type": "stream",
     "text": [
      "Dec 16, 2024 3:27:38 AM io.github.spencerpark.jupyter.channels.Loop start\n",
      "INFO: Loop starting...\n",
      "Dec 16, 2024 3:27:38 AM io.github.spencerpark.jupyter.channels.Loop start\n",
      "INFO: Loop started.\n",
      "Dec 16, 2024 3:27:38 AM io.github.spencerpark.jupyter.channels.Loop start\n",
      "INFO: Loop starting...\n",
      "Dec 16, 2024 3:27:38 AM io.github.spencerpark.jupyter.channels.Loop start\n",
      "INFO: Loop started.\n",
      "Dec 16, 2024 3:27:38 AM io.github.spencerpark.jupyter.channels.Loop start\n",
      "INFO: Loop starting...\n",
      "Dec 16, 2024 3:27:38 AM io.github.spencerpark.jupyter.channels.Loop start\n",
      "INFO: Loop started.\n"
     ]
    },
    {
     "name": "stderr",
     "output_type": "stream",
     "text": [
      "Dec 16, 2024 3:27:44 AM io.github.spencerpark.jupyter.channels.Loop shutdown\n",
      "INFO: Loop shutdown.\n",
      "Dec 16, 2024 3:27:44 AM io.github.spencerpark.jupyter.channels.Loop shutdown\n",
      "INFO: Loop shutdown.\n",
      "Dec 16, 2024 3:27:44 AM io.github.spencerpark.jupyter.channels.Loop shutdown\n",
      "INFO: Loop shutdown.\n",
      "Dec 16, 2024 3:27:44 AM io.github.spencerpark.jupyter.channels.Loop run\n",
      "INFO: Running loop shutdown callback.\n",
      "Dec 16, 2024 3:27:44 AM io.github.spencerpark.jupyter.channels.Loop run\n",
      "INFO: Loop stopped.\n",
      "Dec 16, 2024 3:27:44 AM io.github.spencerpark.jupyter.channels.Loop run\n",
      "INFO: Running loop shutdown callback.\n",
      "Dec 16, 2024 3:27:44 AM io.github.spencerpark.jupyter.channels.Loop run\n",
      "INFO: Loop stopped.\n"
     ]
    },
    {
     "name": "stderr",
     "output_type": "stream",
     "text": [
      "Dec 16, 2024 3:27:44 AM io.github.spencerpark.jupyter.channels.Loop run\n",
      "INFO: Running loop shutdown callback.\n",
      "Dec 16, 2024 3:27:44 AM io.github.spencerpark.jupyter.channels.Loop run\n",
      "INFO: Loop stopped.\n"
     ]
    },
    {
     "name": "stdout",
     "output_type": "stream",
     "text": [
      "Signing notebook: TestSuite/ViewTest.ipynb\n",
      "Executing: TestSuite/ControlNodeTest.ipynb\n"
     ]
    },
    {
     "name": "stderr",
     "output_type": "stream",
     "text": [
      "/home/sysml/conda/lib/python3.12/site-packages/nbformat/__init__.py:96: MissingIDFieldWarning: Cell is missing an id field, this will become a hard error in future nbformat versions. You may want to use `normalize()` on your notebooks before validations (available since nbformat 5.1.4). Previous versions of nbformat are fixing this issue transparently, and will stop doing so in the future.\n",
      "  validate(nb)\n"
     ]
    },
    {
     "name": "stdout",
     "output_type": "stream",
     "text": [
      "Reading /home/sysml/conda/share/jupyter/kernels/sysml/sysml.library/Kernel Libraries/Kernel Semantic Library/Observation.kerml...\n"
     ]
    },
    {
     "name": "stderr",
     "output_type": "stream",
     "text": [
      "log4j:WARN No appenders could be found for logger (org.eclipse.xtext.parser.antlr.AbstractInternalAntlrParser).\n",
      "log4j:WARN Please initialize the log4j system properly.\n",
      "log4j:WARN See http://logging.apache.org/log4j/1.2/faq.html#noconfig for more info.\n"
     ]
    },
    {
     "name": "stdout",
     "output_type": "stream",
     "text": [
      "Reading /home/sysml/conda/share/jupyter/kernels/sysml/sysml.library/Kernel Libraries/Kernel Semantic Library/Transfers.kerml...\n",
      "Reading /home/sysml/conda/share/jupyter/kernels/sysml/sysml.library/Kernel Libraries/Kernel Semantic Library/Metaobjects.kerml...\n",
      "Reading /home/sysml/conda/share/jupyter/kernels/sysml/sysml.library/Kernel Libraries/Kernel Semantic Library/Triggers.kerml...\n",
      "Reading /home/sysml/conda/share/jupyter/kernels/sysml/sysml.library/Kernel Libraries/Kernel Semantic Library/Links.kerml...\n",
      "Reading /home/sysml/conda/share/jupyter/kernels/sysml/sysml.library/Kernel Libraries/Kernel Semantic Library/Base.kerml...\n",
      "Reading /home/sysml/conda/share/jupyter/kernels/sysml/sysml.library/Kernel Libraries/Kernel Semantic Library/Objects.kerml...\n",
      "Reading /home/sysml/conda/share/jupyter/kernels/sysml/sysml.library/Kernel Libraries/Kernel Semantic Library/Clocks.kerml...\n"
     ]
    },
    {
     "name": "stdout",
     "output_type": "stream",
     "text": [
      "Reading /home/sysml/conda/share/jupyter/kernels/sysml/sysml.library/Kernel Libraries/Kernel Semantic Library/KerML.kerml...\n",
      "Reading /home/sysml/conda/share/jupyter/kernels/sysml/sysml.library/Kernel Libraries/Kernel Semantic Library/FeatureReferencingPerformances.kerml...\n",
      "Reading /home/sysml/conda/share/jupyter/kernels/sysml/sysml.library/Kernel Libraries/Kernel Semantic Library/Performances.kerml...\n",
      "Reading /home/sysml/conda/share/jupyter/kernels/sysml/sysml.library/Kernel Libraries/Kernel Semantic Library/Occurrences.kerml...\n",
      "Reading /home/sysml/conda/share/jupyter/kernels/sysml/sysml.library/Kernel Libraries/Kernel Semantic Library/ControlPerformances.kerml...\n",
      "Reading /home/sysml/conda/share/jupyter/kernels/sysml/sysml.library/Kernel Libraries/Kernel Semantic Library/StatePerformances.kerml...\n"
     ]
    },
    {
     "name": "stdout",
     "output_type": "stream",
     "text": [
      "Reading /home/sysml/conda/share/jupyter/kernels/sysml/sysml.library/Kernel Libraries/Kernel Semantic Library/TransitionPerformances.kerml...\n",
      "Reading /home/sysml/conda/share/jupyter/kernels/sysml/sysml.library/Kernel Libraries/Kernel Semantic Library/SpatialFrames.kerml...\n",
      "Reading /home/sysml/conda/share/jupyter/kernels/sysml/sysml.library/Kernel Libraries/Kernel Data Type Library/VectorValues.kerml...\n",
      "Reading /home/sysml/conda/share/jupyter/kernels/sysml/sysml.library/Kernel Libraries/Kernel Data Type Library/Collections.kerml...\n",
      "Reading /home/sysml/conda/share/jupyter/kernels/sysml/sysml.library/Kernel Libraries/Kernel Data Type Library/ScalarValues.kerml...\n",
      "Reading /home/sysml/conda/share/jupyter/kernels/sysml/sysml.library/Kernel Libraries/Kernel Function Library/NaturalFunctions.kerml...\n",
      "Reading /home/sysml/conda/share/jupyter/kernels/sysml/sysml.library/Kernel Libraries/Kernel Function Library/BaseFunctions.kerml...\n",
      "Reading /home/sysml/conda/share/jupyter/kernels/sysml/sysml.library/Kernel Libraries/Kernel Function Library/DataFunctions.kerml...\n",
      "Reading /home/sysml/conda/share/jupyter/kernels/sysml/sysml.library/Kernel Libraries/Kernel Function Library/IntegerFunctions.kerml...\n",
      "Reading /home/sysml/conda/share/jupyter/kernels/sysml/sysml.library/Kernel Libraries/Kernel Function Library/RealFunctions.kerml...\n",
      "Reading /home/sysml/conda/share/jupyter/kernels/sysml/sysml.library/Kernel Libraries/Kernel Function Library/NumericalFunctions.kerml...\n",
      "Reading /home/sysml/conda/share/jupyter/kernels/sysml/sysml.library/Kernel Libraries/Kernel Function Library/VectorFunctions.kerml...\n",
      "Reading /home/sysml/conda/share/jupyter/kernels/sysml/sysml.library/Kernel Libraries/Kernel Function Library/SequenceFunctions.kerml...\n",
      "Reading /home/sysml/conda/share/jupyter/kernels/sysml/sysml.library/Kernel Libraries/Kernel Function Library/ComplexFunctions.kerml...\n",
      "Reading /home/sysml/conda/share/jupyter/kernels/sysml/sysml.library/Kernel Libraries/Kernel Function Library/RationalFunctions.kerml...\n",
      "Reading /home/sysml/conda/share/jupyter/kernels/sysml/sysml.library/Kernel Libraries/Kernel Function Library/StringFunctions.kerml...\n",
      "Reading /home/sysml/conda/share/jupyter/kernels/sysml/sysml.library/Kernel Libraries/Kernel Function Library/ScalarFunctions.kerml...\n",
      "Reading /home/sysml/conda/share/jupyter/kernels/sysml/sysml.library/Kernel Libraries/Kernel Function Library/CollectionFunctions.kerml...\n",
      "Reading /home/sysml/conda/share/jupyter/kernels/sysml/sysml.library/Kernel Libraries/Kernel Function Library/BooleanFunctions.kerml...\n",
      "Reading /home/sysml/conda/share/jupyter/kernels/sysml/sysml.library/Kernel Libraries/Kernel Function Library/OccurrenceFunctions.kerml...\n",
      "Reading /home/sysml/conda/share/jupyter/kernels/sysml/sysml.library/Kernel Libraries/Kernel Function Library/TrigFunctions.kerml...\n",
      "Reading /home/sysml/conda/share/jupyter/kernels/sysml/sysml.library/Kernel Libraries/Kernel Function Library/ControlFunctions.kerml...\n",
      "Reading /home/sysml/conda/share/jupyter/kernels/sysml/sysml.library/Systems Library/Connections.sysml...\n"
     ]
    },
    {
     "name": "stdout",
     "output_type": "stream",
     "text": [
      "Reading /home/sysml/conda/share/jupyter/kernels/sysml/sysml.library/Systems Library/States.sysml...\n",
      "Reading /home/sysml/conda/share/jupyter/kernels/sysml/sysml.library/Systems Library/Actions.sysml...\n",
      "Reading /home/sysml/conda/share/jupyter/kernels/sysml/sysml.library/Systems Library/Metadata.sysml...\n",
      "Reading /home/sysml/conda/share/jupyter/kernels/sysml/sysml.library/Systems Library/Requirements.sysml...\n",
      "Reading /home/sysml/conda/share/jupyter/kernels/sysml/sysml.library/Systems Library/AnalysisCases.sysml...\n",
      "Reading /home/sysml/conda/share/jupyter/kernels/sysml/sysml.library/Systems Library/Attributes.sysml...\n",
      "Reading /home/sysml/conda/share/jupyter/kernels/sysml/sysml.library/Systems Library/Cases.sysml...\n",
      "Reading /home/sysml/conda/share/jupyter/kernels/sysml/sysml.library/Systems Library/VerificationCases.sysml...\n",
      "Reading /home/sysml/conda/share/jupyter/kernels/sysml/sysml.library/Systems Library/Interfaces.sysml...\n",
      "Reading /home/sysml/conda/share/jupyter/kernels/sysml/sysml.library/Systems Library/Ports.sysml...\n",
      "Reading /home/sysml/conda/share/jupyter/kernels/sysml/sysml.library/Systems Library/Views.sysml...\n",
      "Reading /home/sysml/conda/share/jupyter/kernels/sysml/sysml.library/Systems Library/UseCases.sysml...\n",
      "Reading /home/sysml/conda/share/jupyter/kernels/sysml/sysml.library/Systems Library/Parts.sysml...\n",
      "Reading /home/sysml/conda/share/jupyter/kernels/sysml/sysml.library/Systems Library/SysML.sysml...\n",
      "Reading /home/sysml/conda/share/jupyter/kernels/sysml/sysml.library/Systems Library/Constraints.sysml...\n",
      "Reading /home/sysml/conda/share/jupyter/kernels/sysml/sysml.library/Systems Library/Items.sysml...\n"
     ]
    },
    {
     "name": "stdout",
     "output_type": "stream",
     "text": [
      "Reading /home/sysml/conda/share/jupyter/kernels/sysml/sysml.library/Systems Library/Calculations.sysml...\n",
      "Reading /home/sysml/conda/share/jupyter/kernels/sysml/sysml.library/Systems Library/StandardViewDefinitions.sysml...\n",
      "Reading /home/sysml/conda/share/jupyter/kernels/sysml/sysml.library/Systems Library/Allocations.sysml...\n",
      "Reading /home/sysml/conda/share/jupyter/kernels/sysml/sysml.library/Domain Libraries/Geometry/SpatialItems.sysml...\n",
      "Reading /home/sysml/conda/share/jupyter/kernels/sysml/sysml.library/Domain Libraries/Geometry/ShapeItems.sysml...\n",
      "Reading /home/sysml/conda/share/jupyter/kernels/sysml/sysml.library/Domain Libraries/Analysis/TradeStudies.sysml...\n",
      "Reading /home/sysml/conda/share/jupyter/kernels/sysml/sysml.library/Domain Libraries/Analysis/StateSpaceRepresentation.sysml...\n",
      "Reading /home/sysml/conda/share/jupyter/kernels/sysml/sysml.library/Domain Libraries/Analysis/SampledFunctions.sysml...\n",
      "Reading /home/sysml/conda/share/jupyter/kernels/sysml/sysml.library/Domain Libraries/Analysis/AnalysisTooling.sysml...\n",
      "Reading /home/sysml/conda/share/jupyter/kernels/sysml/sysml.library/Domain Libraries/Cause and Effect/CausationConnections.sysml...\n",
      "Reading /home/sysml/conda/share/jupyter/kernels/sysml/sysml.library/Domain Libraries/Cause and Effect/CauseAndEffect.sysml...\n",
      "Reading /home/sysml/conda/share/jupyter/kernels/sysml/sysml.library/Domain Libraries/Quantities and Units/TensorCalculations.sysml...\n",
      "Reading /home/sysml/conda/share/jupyter/kernels/sysml/sysml.library/Domain Libraries/Quantities and Units/ISQSpaceTime.sysml...\n",
      "Reading /home/sysml/conda/share/jupyter/kernels/sysml/sysml.library/Domain Libraries/Quantities and Units/ISQElectromagnetism.sysml...\n"
     ]
    },
    {
     "name": "stdout",
     "output_type": "stream",
     "text": [
      "Reading /home/sysml/conda/share/jupyter/kernels/sysml/sysml.library/Domain Libraries/Quantities and Units/USCustomaryUnits.sysml...\n",
      "Reading /home/sysml/conda/share/jupyter/kernels/sysml/sysml.library/Domain Libraries/Quantities and Units/Time.sysml...\n",
      "Reading /home/sysml/conda/share/jupyter/kernels/sysml/sysml.library/Domain Libraries/Quantities and Units/MeasurementReferences.sysml...\n",
      "Reading /home/sysml/conda/share/jupyter/kernels/sysml/sysml.library/Domain Libraries/Quantities and Units/ISQBase.sysml...\n",
      "Reading /home/sysml/conda/share/jupyter/kernels/sysml/sysml.library/Domain Libraries/Quantities and Units/ISQCondensedMatter.sysml...\n",
      "Reading /home/sysml/conda/share/jupyter/kernels/sysml/sysml.library/Domain Libraries/Quantities and Units/ISQMechanics.sysml...\n",
      "Reading /home/sysml/conda/share/jupyter/kernels/sysml/sysml.library/Domain Libraries/Quantities and Units/SI.sysml...\n",
      "Reading /home/sysml/conda/share/jupyter/kernels/sysml/sysml.library/Domain Libraries/Quantities and Units/ISQCharacteristicNumbers.sysml...\n",
      "Reading /home/sysml/conda/share/jupyter/kernels/sysml/sysml.library/Domain Libraries/Quantities and Units/QuantityCalculations.sysml...\n",
      "Reading /home/sysml/conda/share/jupyter/kernels/sysml/sysml.library/Domain Libraries/Quantities and Units/MeasurementRefCalculations.sysml...\n",
      "Reading /home/sysml/conda/share/jupyter/kernels/sysml/sysml.library/Domain Libraries/Quantities and Units/ISQAtomicNuclear.sysml...\n"
     ]
    },
    {
     "name": "stdout",
     "output_type": "stream",
     "text": [
      "Reading /home/sysml/conda/share/jupyter/kernels/sysml/sysml.library/Domain Libraries/Quantities and Units/ISQ.sysml...\n",
      "Reading /home/sysml/conda/share/jupyter/kernels/sysml/sysml.library/Domain Libraries/Quantities and Units/ISQAcoustics.sysml...\n",
      "Reading /home/sysml/conda/share/jupyter/kernels/sysml/sysml.library/Domain Libraries/Quantities and Units/ISQLight.sysml...\n",
      "Reading /home/sysml/conda/share/jupyter/kernels/sysml/sysml.library/Domain Libraries/Quantities and Units/ISQInformation.sysml...\n",
      "Reading /home/sysml/conda/share/jupyter/kernels/sysml/sysml.library/Domain Libraries/Quantities and Units/ISQThermodynamics.sysml...\n",
      "Reading /home/sysml/conda/share/jupyter/kernels/sysml/sysml.library/Domain Libraries/Quantities and Units/SIPrefixes.sysml...\n",
      "Reading /home/sysml/conda/share/jupyter/kernels/sysml/sysml.library/Domain Libraries/Quantities and Units/VectorCalculations.sysml...\n",
      "Reading /home/sysml/conda/share/jupyter/kernels/sysml/sysml.library/Domain Libraries/Quantities and Units/ISQChemistryMolecular.sysml...\n",
      "Reading /home/sysml/conda/share/jupyter/kernels/sysml/sysml.library/Domain Libraries/Quantities and Units/Quantities.sysml...\n",
      "Reading /home/sysml/conda/share/jupyter/kernels/sysml/sysml.library/Domain Libraries/Metadata/ImageMetadata.sysml...\n",
      "Reading /home/sysml/conda/share/jupyter/kernels/sysml/sysml.library/Domain Libraries/Metadata/ModelingMetadata.sysml...\n",
      "Reading /home/sysml/conda/share/jupyter/kernels/sysml/sysml.library/Domain Libraries/Metadata/ParametersOfInterestMetadata.sysml...\n",
      "Reading /home/sysml/conda/share/jupyter/kernels/sysml/sysml.library/Domain Libraries/Metadata/RiskMetadata.sysml...\n",
      "Reading /home/sysml/conda/share/jupyter/kernels/sysml/sysml.library/Domain Libraries/Requirement Derivation/RequirementDerivation.sysml...\n",
      "Reading /home/sysml/conda/share/jupyter/kernels/sysml/sysml.library/Domain Libraries/Requirement Derivation/DerivationConnections.sysml...\n"
     ]
    },
    {
     "name": "stderr",
     "output_type": "stream",
     "text": [
      "Dec 16, 2024 3:27:48 AM io.github.spencerpark.jupyter.channels.Loop start\n",
      "INFO: Loop starting...\n",
      "Dec 16, 2024 3:27:48 AM io.github.spencerpark.jupyter.channels.Loop start\n",
      "INFO: Loop started.\n",
      "Dec 16, 2024 3:27:48 AM io.github.spencerpark.jupyter.channels.Loop start\n",
      "INFO: Loop starting...\n",
      "Dec 16, 2024 3:27:48 AM io.github.spencerpark.jupyter.channels.Loop start\n",
      "INFO: Loop started.\n",
      "Dec 16, 2024 3:27:48 AM io.github.spencerpark.jupyter.channels.Loop start\n",
      "INFO: Loop starting...\n",
      "Dec 16, 2024 3:27:48 AM io.github.spencerpark.jupyter.channels.Loop start\n",
      "INFO: Loop started.\n"
     ]
    },
    {
     "name": "stderr",
     "output_type": "stream",
     "text": [
      "Dec 16, 2024 3:27:54 AM io.github.spencerpark.jupyter.channels.Loop shutdown\n",
      "INFO: Loop shutdown.\n",
      "Dec 16, 2024 3:27:54 AM io.github.spencerpark.jupyter.channels.Loop shutdown\n",
      "INFO: Loop shutdown.\n",
      "Dec 16, 2024 3:27:54 AM io.github.spencerpark.jupyter.channels.Loop shutdown\n",
      "INFO: Loop shutdown.\n",
      "Dec 16, 2024 3:27:54 AM io.github.spencerpark.jupyter.channels.Loop run\n",
      "INFO: Running loop shutdown callback.\n",
      "Dec 16, 2024 3:27:54 AM io.github.spencerpark.jupyter.channels.Loop run\n",
      "INFO: Loop stopped.\n",
      "Dec 16, 2024 3:27:54 AM io.github.spencerpark.jupyter.channels.Loop run\n",
      "INFO: Running loop shutdown callback.\n",
      "Dec 16, 2024 3:27:54 AM io.github.spencerpark.jupyter.channels.Loop run\n",
      "INFO: Loop stopped.\n",
      "Dec 16, 2024 3:27:54 AM io.github.spencerpark.jupyter.channels.Loop run\n",
      "INFO: Running loop shutdown callback.\n",
      "Dec 16, 2024 3:27:54 AM io.github.spencerpark.jupyter.channels.Loop run\n",
      "INFO: Loop stopped.\n"
     ]
    },
    {
     "name": "stdout",
     "output_type": "stream",
     "text": [
      "Signing notebook: TestSuite/ControlNodeTest.ipynb\n",
      "Executing: TestSuite/DecisionTest.ipynb\n"
     ]
    },
    {
     "name": "stderr",
     "output_type": "stream",
     "text": [
      "/home/sysml/conda/lib/python3.12/site-packages/nbformat/__init__.py:96: MissingIDFieldWarning: Cell is missing an id field, this will become a hard error in future nbformat versions. You may want to use `normalize()` on your notebooks before validations (available since nbformat 5.1.4). Previous versions of nbformat are fixing this issue transparently, and will stop doing so in the future.\n",
      "  validate(nb)\n"
     ]
    },
    {
     "name": "stdout",
     "output_type": "stream",
     "text": [
      "Reading /home/sysml/conda/share/jupyter/kernels/sysml/sysml.library/Kernel Libraries/Kernel Semantic Library/Observation.kerml...\n"
     ]
    },
    {
     "name": "stderr",
     "output_type": "stream",
     "text": [
      "log4j:WARN No appenders could be found for logger (org.eclipse.xtext.parser.antlr.AbstractInternalAntlrParser).\n",
      "log4j:WARN Please initialize the log4j system properly.\n",
      "log4j:WARN See http://logging.apache.org/log4j/1.2/faq.html#noconfig for more info.\n"
     ]
    },
    {
     "name": "stdout",
     "output_type": "stream",
     "text": [
      "Reading /home/sysml/conda/share/jupyter/kernels/sysml/sysml.library/Kernel Libraries/Kernel Semantic Library/Transfers.kerml...\n",
      "Reading /home/sysml/conda/share/jupyter/kernels/sysml/sysml.library/Kernel Libraries/Kernel Semantic Library/Metaobjects.kerml...\n",
      "Reading /home/sysml/conda/share/jupyter/kernels/sysml/sysml.library/Kernel Libraries/Kernel Semantic Library/Triggers.kerml...\n",
      "Reading /home/sysml/conda/share/jupyter/kernels/sysml/sysml.library/Kernel Libraries/Kernel Semantic Library/Links.kerml...\n",
      "Reading /home/sysml/conda/share/jupyter/kernels/sysml/sysml.library/Kernel Libraries/Kernel Semantic Library/Base.kerml...\n",
      "Reading /home/sysml/conda/share/jupyter/kernels/sysml/sysml.library/Kernel Libraries/Kernel Semantic Library/Objects.kerml...\n",
      "Reading /home/sysml/conda/share/jupyter/kernels/sysml/sysml.library/Kernel Libraries/Kernel Semantic Library/Clocks.kerml...\n",
      "Reading /home/sysml/conda/share/jupyter/kernels/sysml/sysml.library/Kernel Libraries/Kernel Semantic Library/KerML.kerml...\n"
     ]
    },
    {
     "name": "stdout",
     "output_type": "stream",
     "text": [
      "Reading /home/sysml/conda/share/jupyter/kernels/sysml/sysml.library/Kernel Libraries/Kernel Semantic Library/FeatureReferencingPerformances.kerml...\n",
      "Reading /home/sysml/conda/share/jupyter/kernels/sysml/sysml.library/Kernel Libraries/Kernel Semantic Library/Performances.kerml...\n",
      "Reading /home/sysml/conda/share/jupyter/kernels/sysml/sysml.library/Kernel Libraries/Kernel Semantic Library/Occurrences.kerml...\n",
      "Reading /home/sysml/conda/share/jupyter/kernels/sysml/sysml.library/Kernel Libraries/Kernel Semantic Library/ControlPerformances.kerml...\n",
      "Reading /home/sysml/conda/share/jupyter/kernels/sysml/sysml.library/Kernel Libraries/Kernel Semantic Library/StatePerformances.kerml...\n",
      "Reading /home/sysml/conda/share/jupyter/kernels/sysml/sysml.library/Kernel Libraries/Kernel Semantic Library/TransitionPerformances.kerml...\n",
      "Reading /home/sysml/conda/share/jupyter/kernels/sysml/sysml.library/Kernel Libraries/Kernel Semantic Library/SpatialFrames.kerml...\n",
      "Reading /home/sysml/conda/share/jupyter/kernels/sysml/sysml.library/Kernel Libraries/Kernel Data Type Library/VectorValues.kerml...\n",
      "Reading /home/sysml/conda/share/jupyter/kernels/sysml/sysml.library/Kernel Libraries/Kernel Data Type Library/Collections.kerml...\n",
      "Reading /home/sysml/conda/share/jupyter/kernels/sysml/sysml.library/Kernel Libraries/Kernel Data Type Library/ScalarValues.kerml...\n",
      "Reading /home/sysml/conda/share/jupyter/kernels/sysml/sysml.library/Kernel Libraries/Kernel Function Library/NaturalFunctions.kerml...\n",
      "Reading /home/sysml/conda/share/jupyter/kernels/sysml/sysml.library/Kernel Libraries/Kernel Function Library/BaseFunctions.kerml...\n",
      "Reading /home/sysml/conda/share/jupyter/kernels/sysml/sysml.library/Kernel Libraries/Kernel Function Library/DataFunctions.kerml...\n",
      "Reading /home/sysml/conda/share/jupyter/kernels/sysml/sysml.library/Kernel Libraries/Kernel Function Library/IntegerFunctions.kerml...\n",
      "Reading /home/sysml/conda/share/jupyter/kernels/sysml/sysml.library/Kernel Libraries/Kernel Function Library/RealFunctions.kerml...\n"
     ]
    },
    {
     "name": "stdout",
     "output_type": "stream",
     "text": [
      "Reading /home/sysml/conda/share/jupyter/kernels/sysml/sysml.library/Kernel Libraries/Kernel Function Library/NumericalFunctions.kerml...\n",
      "Reading /home/sysml/conda/share/jupyter/kernels/sysml/sysml.library/Kernel Libraries/Kernel Function Library/VectorFunctions.kerml...\n",
      "Reading /home/sysml/conda/share/jupyter/kernels/sysml/sysml.library/Kernel Libraries/Kernel Function Library/SequenceFunctions.kerml...\n",
      "Reading /home/sysml/conda/share/jupyter/kernels/sysml/sysml.library/Kernel Libraries/Kernel Function Library/ComplexFunctions.kerml...\n",
      "Reading /home/sysml/conda/share/jupyter/kernels/sysml/sysml.library/Kernel Libraries/Kernel Function Library/RationalFunctions.kerml...\n",
      "Reading /home/sysml/conda/share/jupyter/kernels/sysml/sysml.library/Kernel Libraries/Kernel Function Library/StringFunctions.kerml...\n",
      "Reading /home/sysml/conda/share/jupyter/kernels/sysml/sysml.library/Kernel Libraries/Kernel Function Library/ScalarFunctions.kerml...\n",
      "Reading /home/sysml/conda/share/jupyter/kernels/sysml/sysml.library/Kernel Libraries/Kernel Function Library/CollectionFunctions.kerml...\n",
      "Reading /home/sysml/conda/share/jupyter/kernels/sysml/sysml.library/Kernel Libraries/Kernel Function Library/BooleanFunctions.kerml...\n",
      "Reading /home/sysml/conda/share/jupyter/kernels/sysml/sysml.library/Kernel Libraries/Kernel Function Library/OccurrenceFunctions.kerml...\n",
      "Reading /home/sysml/conda/share/jupyter/kernels/sysml/sysml.library/Kernel Libraries/Kernel Function Library/TrigFunctions.kerml...\n",
      "Reading /home/sysml/conda/share/jupyter/kernels/sysml/sysml.library/Kernel Libraries/Kernel Function Library/ControlFunctions.kerml...\n",
      "Reading /home/sysml/conda/share/jupyter/kernels/sysml/sysml.library/Systems Library/Connections.sysml...\n"
     ]
    },
    {
     "name": "stdout",
     "output_type": "stream",
     "text": [
      "Reading /home/sysml/conda/share/jupyter/kernels/sysml/sysml.library/Systems Library/States.sysml...\n",
      "Reading /home/sysml/conda/share/jupyter/kernels/sysml/sysml.library/Systems Library/Actions.sysml...\n",
      "Reading /home/sysml/conda/share/jupyter/kernels/sysml/sysml.library/Systems Library/Metadata.sysml...\n",
      "Reading /home/sysml/conda/share/jupyter/kernels/sysml/sysml.library/Systems Library/Requirements.sysml...\n",
      "Reading /home/sysml/conda/share/jupyter/kernels/sysml/sysml.library/Systems Library/AnalysisCases.sysml...\n",
      "Reading /home/sysml/conda/share/jupyter/kernels/sysml/sysml.library/Systems Library/Attributes.sysml...\n",
      "Reading /home/sysml/conda/share/jupyter/kernels/sysml/sysml.library/Systems Library/Cases.sysml...\n",
      "Reading /home/sysml/conda/share/jupyter/kernels/sysml/sysml.library/Systems Library/VerificationCases.sysml...\n",
      "Reading /home/sysml/conda/share/jupyter/kernels/sysml/sysml.library/Systems Library/Interfaces.sysml...\n",
      "Reading /home/sysml/conda/share/jupyter/kernels/sysml/sysml.library/Systems Library/Ports.sysml...\n",
      "Reading /home/sysml/conda/share/jupyter/kernels/sysml/sysml.library/Systems Library/Views.sysml...\n",
      "Reading /home/sysml/conda/share/jupyter/kernels/sysml/sysml.library/Systems Library/UseCases.sysml...\n",
      "Reading /home/sysml/conda/share/jupyter/kernels/sysml/sysml.library/Systems Library/Parts.sysml...\n",
      "Reading /home/sysml/conda/share/jupyter/kernels/sysml/sysml.library/Systems Library/SysML.sysml...\n",
      "Reading /home/sysml/conda/share/jupyter/kernels/sysml/sysml.library/Systems Library/Constraints.sysml...\n",
      "Reading /home/sysml/conda/share/jupyter/kernels/sysml/sysml.library/Systems Library/Items.sysml...\n"
     ]
    },
    {
     "name": "stdout",
     "output_type": "stream",
     "text": [
      "Reading /home/sysml/conda/share/jupyter/kernels/sysml/sysml.library/Systems Library/Calculations.sysml...\n",
      "Reading /home/sysml/conda/share/jupyter/kernels/sysml/sysml.library/Systems Library/StandardViewDefinitions.sysml...\n",
      "Reading /home/sysml/conda/share/jupyter/kernels/sysml/sysml.library/Systems Library/Allocations.sysml...\n",
      "Reading /home/sysml/conda/share/jupyter/kernels/sysml/sysml.library/Domain Libraries/Geometry/SpatialItems.sysml...\n",
      "Reading /home/sysml/conda/share/jupyter/kernels/sysml/sysml.library/Domain Libraries/Geometry/ShapeItems.sysml...\n",
      "Reading /home/sysml/conda/share/jupyter/kernels/sysml/sysml.library/Domain Libraries/Analysis/TradeStudies.sysml...\n",
      "Reading /home/sysml/conda/share/jupyter/kernels/sysml/sysml.library/Domain Libraries/Analysis/StateSpaceRepresentation.sysml...\n",
      "Reading /home/sysml/conda/share/jupyter/kernels/sysml/sysml.library/Domain Libraries/Analysis/SampledFunctions.sysml...\n",
      "Reading /home/sysml/conda/share/jupyter/kernels/sysml/sysml.library/Domain Libraries/Analysis/AnalysisTooling.sysml...\n",
      "Reading /home/sysml/conda/share/jupyter/kernels/sysml/sysml.library/Domain Libraries/Cause and Effect/CausationConnections.sysml...\n",
      "Reading /home/sysml/conda/share/jupyter/kernels/sysml/sysml.library/Domain Libraries/Cause and Effect/CauseAndEffect.sysml...\n",
      "Reading /home/sysml/conda/share/jupyter/kernels/sysml/sysml.library/Domain Libraries/Quantities and Units/TensorCalculations.sysml...\n",
      "Reading /home/sysml/conda/share/jupyter/kernels/sysml/sysml.library/Domain Libraries/Quantities and Units/ISQSpaceTime.sysml...\n",
      "Reading /home/sysml/conda/share/jupyter/kernels/sysml/sysml.library/Domain Libraries/Quantities and Units/ISQElectromagnetism.sysml...\n"
     ]
    },
    {
     "name": "stdout",
     "output_type": "stream",
     "text": [
      "Reading /home/sysml/conda/share/jupyter/kernels/sysml/sysml.library/Domain Libraries/Quantities and Units/USCustomaryUnits.sysml...\n",
      "Reading /home/sysml/conda/share/jupyter/kernels/sysml/sysml.library/Domain Libraries/Quantities and Units/Time.sysml...\n",
      "Reading /home/sysml/conda/share/jupyter/kernels/sysml/sysml.library/Domain Libraries/Quantities and Units/MeasurementReferences.sysml...\n",
      "Reading /home/sysml/conda/share/jupyter/kernels/sysml/sysml.library/Domain Libraries/Quantities and Units/ISQBase.sysml...\n",
      "Reading /home/sysml/conda/share/jupyter/kernels/sysml/sysml.library/Domain Libraries/Quantities and Units/ISQCondensedMatter.sysml...\n",
      "Reading /home/sysml/conda/share/jupyter/kernels/sysml/sysml.library/Domain Libraries/Quantities and Units/ISQMechanics.sysml...\n",
      "Reading /home/sysml/conda/share/jupyter/kernels/sysml/sysml.library/Domain Libraries/Quantities and Units/SI.sysml...\n",
      "Reading /home/sysml/conda/share/jupyter/kernels/sysml/sysml.library/Domain Libraries/Quantities and Units/ISQCharacteristicNumbers.sysml...\n",
      "Reading /home/sysml/conda/share/jupyter/kernels/sysml/sysml.library/Domain Libraries/Quantities and Units/QuantityCalculations.sysml...\n",
      "Reading /home/sysml/conda/share/jupyter/kernels/sysml/sysml.library/Domain Libraries/Quantities and Units/MeasurementRefCalculations.sysml...\n",
      "Reading /home/sysml/conda/share/jupyter/kernels/sysml/sysml.library/Domain Libraries/Quantities and Units/ISQAtomicNuclear.sysml...\n"
     ]
    },
    {
     "name": "stdout",
     "output_type": "stream",
     "text": [
      "Reading /home/sysml/conda/share/jupyter/kernels/sysml/sysml.library/Domain Libraries/Quantities and Units/ISQ.sysml...\n",
      "Reading /home/sysml/conda/share/jupyter/kernels/sysml/sysml.library/Domain Libraries/Quantities and Units/ISQAcoustics.sysml...\n",
      "Reading /home/sysml/conda/share/jupyter/kernels/sysml/sysml.library/Domain Libraries/Quantities and Units/ISQLight.sysml...\n",
      "Reading /home/sysml/conda/share/jupyter/kernels/sysml/sysml.library/Domain Libraries/Quantities and Units/ISQInformation.sysml...\n",
      "Reading /home/sysml/conda/share/jupyter/kernels/sysml/sysml.library/Domain Libraries/Quantities and Units/ISQThermodynamics.sysml...\n",
      "Reading /home/sysml/conda/share/jupyter/kernels/sysml/sysml.library/Domain Libraries/Quantities and Units/SIPrefixes.sysml...\n",
      "Reading /home/sysml/conda/share/jupyter/kernels/sysml/sysml.library/Domain Libraries/Quantities and Units/VectorCalculations.sysml...\n",
      "Reading /home/sysml/conda/share/jupyter/kernels/sysml/sysml.library/Domain Libraries/Quantities and Units/ISQChemistryMolecular.sysml...\n",
      "Reading /home/sysml/conda/share/jupyter/kernels/sysml/sysml.library/Domain Libraries/Quantities and Units/Quantities.sysml...\n",
      "Reading /home/sysml/conda/share/jupyter/kernels/sysml/sysml.library/Domain Libraries/Metadata/ImageMetadata.sysml...\n",
      "Reading /home/sysml/conda/share/jupyter/kernels/sysml/sysml.library/Domain Libraries/Metadata/ModelingMetadata.sysml...\n",
      "Reading /home/sysml/conda/share/jupyter/kernels/sysml/sysml.library/Domain Libraries/Metadata/ParametersOfInterestMetadata.sysml...\n",
      "Reading /home/sysml/conda/share/jupyter/kernels/sysml/sysml.library/Domain Libraries/Metadata/RiskMetadata.sysml...\n",
      "Reading /home/sysml/conda/share/jupyter/kernels/sysml/sysml.library/Domain Libraries/Requirement Derivation/RequirementDerivation.sysml...\n",
      "Reading /home/sysml/conda/share/jupyter/kernels/sysml/sysml.library/Domain Libraries/Requirement Derivation/DerivationConnections.sysml...\n"
     ]
    },
    {
     "name": "stderr",
     "output_type": "stream",
     "text": [
      "Dec 16, 2024 3:27:58 AM io.github.spencerpark.jupyter.channels.Loop start\n",
      "INFO: Loop starting...\n",
      "Dec 16, 2024 3:27:58 AM io.github.spencerpark.jupyter.channels.Loop start\n",
      "INFO: Loop started.\n",
      "Dec 16, 2024 3:27:58 AM io.github.spencerpark.jupyter.channels.Loop start\n",
      "INFO: Loop starting...\n",
      "Dec 16, 2024 3:27:58 AM io.github.spencerpark.jupyter.channels.Loop start\n",
      "INFO: Loop started.\n",
      "Dec 16, 2024 3:27:58 AM io.github.spencerpark.jupyter.channels.Loop start\n",
      "INFO: Loop starting...\n",
      "Dec 16, 2024 3:27:58 AM io.github.spencerpark.jupyter.channels.Loop start\n",
      "INFO: Loop started.\n"
     ]
    },
    {
     "name": "stderr",
     "output_type": "stream",
     "text": [
      "Dec 16, 2024 3:28:04 AM io.github.spencerpark.jupyter.channels.Loop shutdown\n",
      "INFO: Loop shutdown.\n",
      "Dec 16, 2024 3:28:04 AM io.github.spencerpark.jupyter.channels.Loop shutdown\n",
      "INFO: Loop shutdown.\n",
      "Dec 16, 2024 3:28:04 AM io.github.spencerpark.jupyter.channels.Loop shutdown\n",
      "INFO: Loop shutdown.\n",
      "Dec 16, 2024 3:28:04 AM io.github.spencerpark.jupyter.channels.Loop run\n",
      "INFO: Running loop shutdown callback.\n",
      "Dec 16, 2024 3:28:04 AM io.github.spencerpark.jupyter.channels.Loop run\n",
      "INFO: Loop stopped.\n",
      "Dec 16, 2024 3:28:04 AM io.github.spencerpark.jupyter.channels.Loop run\n",
      "INFO: Running loop shutdown callback.\n",
      "Dec 16, 2024 3:28:04 AM io.github.spencerpark.jupyter.channels.Loop run\n",
      "INFO: Loop stopped.\n",
      "Dec 16, 2024 3:28:04 AM io.github.spencerpark.jupyter.channels.Loop run\n",
      "INFO: Running loop shutdown callback.\n",
      "Dec 16, 2024 3:28:04 AM io.github.spencerpark.jupyter.channels.Loop run\n",
      "INFO: Loop stopped.\n"
     ]
    },
    {
     "name": "stdout",
     "output_type": "stream",
     "text": [
      "Signing notebook: TestSuite/DecisionTest.ipynb\n",
      "Executing: TestSuite/VariabilityTest.ipynb\n"
     ]
    },
    {
     "name": "stderr",
     "output_type": "stream",
     "text": [
      "/home/sysml/conda/lib/python3.12/site-packages/nbformat/__init__.py:96: MissingIDFieldWarning: Cell is missing an id field, this will become a hard error in future nbformat versions. You may want to use `normalize()` on your notebooks before validations (available since nbformat 5.1.4). Previous versions of nbformat are fixing this issue transparently, and will stop doing so in the future.\n",
      "  validate(nb)\n"
     ]
    },
    {
     "name": "stdout",
     "output_type": "stream",
     "text": [
      "Reading /home/sysml/conda/share/jupyter/kernels/sysml/sysml.library/Kernel Libraries/Kernel Semantic Library/Observation.kerml...\n"
     ]
    },
    {
     "name": "stderr",
     "output_type": "stream",
     "text": [
      "log4j:WARN No appenders could be found for logger (org.eclipse.xtext.parser.antlr.AbstractInternalAntlrParser).\n",
      "log4j:WARN Please initialize the log4j system properly.\n",
      "log4j:WARN See http://logging.apache.org/log4j/1.2/faq.html#noconfig for more info.\n"
     ]
    },
    {
     "name": "stdout",
     "output_type": "stream",
     "text": [
      "Reading /home/sysml/conda/share/jupyter/kernels/sysml/sysml.library/Kernel Libraries/Kernel Semantic Library/Transfers.kerml...\n",
      "Reading /home/sysml/conda/share/jupyter/kernels/sysml/sysml.library/Kernel Libraries/Kernel Semantic Library/Metaobjects.kerml...\n",
      "Reading /home/sysml/conda/share/jupyter/kernels/sysml/sysml.library/Kernel Libraries/Kernel Semantic Library/Triggers.kerml...\n",
      "Reading /home/sysml/conda/share/jupyter/kernels/sysml/sysml.library/Kernel Libraries/Kernel Semantic Library/Links.kerml...\n",
      "Reading /home/sysml/conda/share/jupyter/kernels/sysml/sysml.library/Kernel Libraries/Kernel Semantic Library/Base.kerml...\n",
      "Reading /home/sysml/conda/share/jupyter/kernels/sysml/sysml.library/Kernel Libraries/Kernel Semantic Library/Objects.kerml...\n",
      "Reading /home/sysml/conda/share/jupyter/kernels/sysml/sysml.library/Kernel Libraries/Kernel Semantic Library/Clocks.kerml...\n",
      "Reading /home/sysml/conda/share/jupyter/kernels/sysml/sysml.library/Kernel Libraries/Kernel Semantic Library/KerML.kerml...\n"
     ]
    },
    {
     "name": "stdout",
     "output_type": "stream",
     "text": [
      "Reading /home/sysml/conda/share/jupyter/kernels/sysml/sysml.library/Kernel Libraries/Kernel Semantic Library/FeatureReferencingPerformances.kerml...\n",
      "Reading /home/sysml/conda/share/jupyter/kernels/sysml/sysml.library/Kernel Libraries/Kernel Semantic Library/Performances.kerml...\n",
      "Reading /home/sysml/conda/share/jupyter/kernels/sysml/sysml.library/Kernel Libraries/Kernel Semantic Library/Occurrences.kerml...\n",
      "Reading /home/sysml/conda/share/jupyter/kernels/sysml/sysml.library/Kernel Libraries/Kernel Semantic Library/ControlPerformances.kerml...\n",
      "Reading /home/sysml/conda/share/jupyter/kernels/sysml/sysml.library/Kernel Libraries/Kernel Semantic Library/StatePerformances.kerml...\n",
      "Reading /home/sysml/conda/share/jupyter/kernels/sysml/sysml.library/Kernel Libraries/Kernel Semantic Library/TransitionPerformances.kerml...\n",
      "Reading /home/sysml/conda/share/jupyter/kernels/sysml/sysml.library/Kernel Libraries/Kernel Semantic Library/SpatialFrames.kerml...\n",
      "Reading /home/sysml/conda/share/jupyter/kernels/sysml/sysml.library/Kernel Libraries/Kernel Data Type Library/VectorValues.kerml...\n",
      "Reading /home/sysml/conda/share/jupyter/kernels/sysml/sysml.library/Kernel Libraries/Kernel Data Type Library/Collections.kerml...\n",
      "Reading /home/sysml/conda/share/jupyter/kernels/sysml/sysml.library/Kernel Libraries/Kernel Data Type Library/ScalarValues.kerml...\n",
      "Reading /home/sysml/conda/share/jupyter/kernels/sysml/sysml.library/Kernel Libraries/Kernel Function Library/NaturalFunctions.kerml...\n",
      "Reading /home/sysml/conda/share/jupyter/kernels/sysml/sysml.library/Kernel Libraries/Kernel Function Library/BaseFunctions.kerml...\n",
      "Reading /home/sysml/conda/share/jupyter/kernels/sysml/sysml.library/Kernel Libraries/Kernel Function Library/DataFunctions.kerml...\n"
     ]
    },
    {
     "name": "stdout",
     "output_type": "stream",
     "text": [
      "Reading /home/sysml/conda/share/jupyter/kernels/sysml/sysml.library/Kernel Libraries/Kernel Function Library/IntegerFunctions.kerml...\n",
      "Reading /home/sysml/conda/share/jupyter/kernels/sysml/sysml.library/Kernel Libraries/Kernel Function Library/RealFunctions.kerml...\n",
      "Reading /home/sysml/conda/share/jupyter/kernels/sysml/sysml.library/Kernel Libraries/Kernel Function Library/NumericalFunctions.kerml...\n",
      "Reading /home/sysml/conda/share/jupyter/kernels/sysml/sysml.library/Kernel Libraries/Kernel Function Library/VectorFunctions.kerml...\n",
      "Reading /home/sysml/conda/share/jupyter/kernels/sysml/sysml.library/Kernel Libraries/Kernel Function Library/SequenceFunctions.kerml...\n",
      "Reading /home/sysml/conda/share/jupyter/kernels/sysml/sysml.library/Kernel Libraries/Kernel Function Library/ComplexFunctions.kerml...\n",
      "Reading /home/sysml/conda/share/jupyter/kernels/sysml/sysml.library/Kernel Libraries/Kernel Function Library/RationalFunctions.kerml...\n",
      "Reading /home/sysml/conda/share/jupyter/kernels/sysml/sysml.library/Kernel Libraries/Kernel Function Library/StringFunctions.kerml...\n",
      "Reading /home/sysml/conda/share/jupyter/kernels/sysml/sysml.library/Kernel Libraries/Kernel Function Library/ScalarFunctions.kerml...\n",
      "Reading /home/sysml/conda/share/jupyter/kernels/sysml/sysml.library/Kernel Libraries/Kernel Function Library/CollectionFunctions.kerml...\n",
      "Reading /home/sysml/conda/share/jupyter/kernels/sysml/sysml.library/Kernel Libraries/Kernel Function Library/BooleanFunctions.kerml...\n",
      "Reading /home/sysml/conda/share/jupyter/kernels/sysml/sysml.library/Kernel Libraries/Kernel Function Library/OccurrenceFunctions.kerml...\n",
      "Reading /home/sysml/conda/share/jupyter/kernels/sysml/sysml.library/Kernel Libraries/Kernel Function Library/TrigFunctions.kerml...\n",
      "Reading /home/sysml/conda/share/jupyter/kernels/sysml/sysml.library/Kernel Libraries/Kernel Function Library/ControlFunctions.kerml...\n",
      "Reading /home/sysml/conda/share/jupyter/kernels/sysml/sysml.library/Systems Library/Connections.sysml...\n"
     ]
    },
    {
     "name": "stdout",
     "output_type": "stream",
     "text": [
      "Reading /home/sysml/conda/share/jupyter/kernels/sysml/sysml.library/Systems Library/States.sysml...\n",
      "Reading /home/sysml/conda/share/jupyter/kernels/sysml/sysml.library/Systems Library/Actions.sysml...\n",
      "Reading /home/sysml/conda/share/jupyter/kernels/sysml/sysml.library/Systems Library/Metadata.sysml...\n",
      "Reading /home/sysml/conda/share/jupyter/kernels/sysml/sysml.library/Systems Library/Requirements.sysml...\n",
      "Reading /home/sysml/conda/share/jupyter/kernels/sysml/sysml.library/Systems Library/AnalysisCases.sysml...\n",
      "Reading /home/sysml/conda/share/jupyter/kernels/sysml/sysml.library/Systems Library/Attributes.sysml...\n",
      "Reading /home/sysml/conda/share/jupyter/kernels/sysml/sysml.library/Systems Library/Cases.sysml...\n",
      "Reading /home/sysml/conda/share/jupyter/kernels/sysml/sysml.library/Systems Library/VerificationCases.sysml...\n",
      "Reading /home/sysml/conda/share/jupyter/kernels/sysml/sysml.library/Systems Library/Interfaces.sysml...\n",
      "Reading /home/sysml/conda/share/jupyter/kernels/sysml/sysml.library/Systems Library/Ports.sysml...\n",
      "Reading /home/sysml/conda/share/jupyter/kernels/sysml/sysml.library/Systems Library/Views.sysml...\n",
      "Reading /home/sysml/conda/share/jupyter/kernels/sysml/sysml.library/Systems Library/UseCases.sysml...\n",
      "Reading /home/sysml/conda/share/jupyter/kernels/sysml/sysml.library/Systems Library/Parts.sysml...\n",
      "Reading /home/sysml/conda/share/jupyter/kernels/sysml/sysml.library/Systems Library/SysML.sysml...\n",
      "Reading /home/sysml/conda/share/jupyter/kernels/sysml/sysml.library/Systems Library/Constraints.sysml...\n",
      "Reading /home/sysml/conda/share/jupyter/kernels/sysml/sysml.library/Systems Library/Items.sysml...\n",
      "Reading /home/sysml/conda/share/jupyter/kernels/sysml/sysml.library/Systems Library/Calculations.sysml...\n"
     ]
    },
    {
     "name": "stdout",
     "output_type": "stream",
     "text": [
      "Reading /home/sysml/conda/share/jupyter/kernels/sysml/sysml.library/Systems Library/StandardViewDefinitions.sysml...\n",
      "Reading /home/sysml/conda/share/jupyter/kernels/sysml/sysml.library/Systems Library/Allocations.sysml...\n",
      "Reading /home/sysml/conda/share/jupyter/kernels/sysml/sysml.library/Domain Libraries/Geometry/SpatialItems.sysml...\n",
      "Reading /home/sysml/conda/share/jupyter/kernels/sysml/sysml.library/Domain Libraries/Geometry/ShapeItems.sysml...\n",
      "Reading /home/sysml/conda/share/jupyter/kernels/sysml/sysml.library/Domain Libraries/Analysis/TradeStudies.sysml...\n",
      "Reading /home/sysml/conda/share/jupyter/kernels/sysml/sysml.library/Domain Libraries/Analysis/StateSpaceRepresentation.sysml...\n",
      "Reading /home/sysml/conda/share/jupyter/kernels/sysml/sysml.library/Domain Libraries/Analysis/SampledFunctions.sysml...\n",
      "Reading /home/sysml/conda/share/jupyter/kernels/sysml/sysml.library/Domain Libraries/Analysis/AnalysisTooling.sysml...\n",
      "Reading /home/sysml/conda/share/jupyter/kernels/sysml/sysml.library/Domain Libraries/Cause and Effect/CausationConnections.sysml...\n",
      "Reading /home/sysml/conda/share/jupyter/kernels/sysml/sysml.library/Domain Libraries/Cause and Effect/CauseAndEffect.sysml...\n",
      "Reading /home/sysml/conda/share/jupyter/kernels/sysml/sysml.library/Domain Libraries/Quantities and Units/TensorCalculations.sysml...\n",
      "Reading /home/sysml/conda/share/jupyter/kernels/sysml/sysml.library/Domain Libraries/Quantities and Units/ISQSpaceTime.sysml...\n",
      "Reading /home/sysml/conda/share/jupyter/kernels/sysml/sysml.library/Domain Libraries/Quantities and Units/ISQElectromagnetism.sysml...\n"
     ]
    },
    {
     "name": "stdout",
     "output_type": "stream",
     "text": [
      "Reading /home/sysml/conda/share/jupyter/kernels/sysml/sysml.library/Domain Libraries/Quantities and Units/USCustomaryUnits.sysml...\n",
      "Reading /home/sysml/conda/share/jupyter/kernels/sysml/sysml.library/Domain Libraries/Quantities and Units/Time.sysml...\n",
      "Reading /home/sysml/conda/share/jupyter/kernels/sysml/sysml.library/Domain Libraries/Quantities and Units/MeasurementReferences.sysml...\n",
      "Reading /home/sysml/conda/share/jupyter/kernels/sysml/sysml.library/Domain Libraries/Quantities and Units/ISQBase.sysml...\n",
      "Reading /home/sysml/conda/share/jupyter/kernels/sysml/sysml.library/Domain Libraries/Quantities and Units/ISQCondensedMatter.sysml...\n",
      "Reading /home/sysml/conda/share/jupyter/kernels/sysml/sysml.library/Domain Libraries/Quantities and Units/ISQMechanics.sysml...\n",
      "Reading /home/sysml/conda/share/jupyter/kernels/sysml/sysml.library/Domain Libraries/Quantities and Units/SI.sysml...\n",
      "Reading /home/sysml/conda/share/jupyter/kernels/sysml/sysml.library/Domain Libraries/Quantities and Units/ISQCharacteristicNumbers.sysml...\n",
      "Reading /home/sysml/conda/share/jupyter/kernels/sysml/sysml.library/Domain Libraries/Quantities and Units/QuantityCalculations.sysml...\n",
      "Reading /home/sysml/conda/share/jupyter/kernels/sysml/sysml.library/Domain Libraries/Quantities and Units/MeasurementRefCalculations.sysml...\n",
      "Reading /home/sysml/conda/share/jupyter/kernels/sysml/sysml.library/Domain Libraries/Quantities and Units/ISQAtomicNuclear.sysml...\n"
     ]
    },
    {
     "name": "stdout",
     "output_type": "stream",
     "text": [
      "Reading /home/sysml/conda/share/jupyter/kernels/sysml/sysml.library/Domain Libraries/Quantities and Units/ISQ.sysml...\n",
      "Reading /home/sysml/conda/share/jupyter/kernels/sysml/sysml.library/Domain Libraries/Quantities and Units/ISQAcoustics.sysml...\n",
      "Reading /home/sysml/conda/share/jupyter/kernels/sysml/sysml.library/Domain Libraries/Quantities and Units/ISQLight.sysml...\n",
      "Reading /home/sysml/conda/share/jupyter/kernels/sysml/sysml.library/Domain Libraries/Quantities and Units/ISQInformation.sysml...\n",
      "Reading /home/sysml/conda/share/jupyter/kernels/sysml/sysml.library/Domain Libraries/Quantities and Units/ISQThermodynamics.sysml...\n",
      "Reading /home/sysml/conda/share/jupyter/kernels/sysml/sysml.library/Domain Libraries/Quantities and Units/SIPrefixes.sysml...\n",
      "Reading /home/sysml/conda/share/jupyter/kernels/sysml/sysml.library/Domain Libraries/Quantities and Units/VectorCalculations.sysml...\n",
      "Reading /home/sysml/conda/share/jupyter/kernels/sysml/sysml.library/Domain Libraries/Quantities and Units/ISQChemistryMolecular.sysml...\n",
      "Reading /home/sysml/conda/share/jupyter/kernels/sysml/sysml.library/Domain Libraries/Quantities and Units/Quantities.sysml...\n",
      "Reading /home/sysml/conda/share/jupyter/kernels/sysml/sysml.library/Domain Libraries/Metadata/ImageMetadata.sysml...\n",
      "Reading /home/sysml/conda/share/jupyter/kernels/sysml/sysml.library/Domain Libraries/Metadata/ModelingMetadata.sysml...\n",
      "Reading /home/sysml/conda/share/jupyter/kernels/sysml/sysml.library/Domain Libraries/Metadata/ParametersOfInterestMetadata.sysml...\n",
      "Reading /home/sysml/conda/share/jupyter/kernels/sysml/sysml.library/Domain Libraries/Metadata/RiskMetadata.sysml...\n",
      "Reading /home/sysml/conda/share/jupyter/kernels/sysml/sysml.library/Domain Libraries/Requirement Derivation/RequirementDerivation.sysml...\n",
      "Reading /home/sysml/conda/share/jupyter/kernels/sysml/sysml.library/Domain Libraries/Requirement Derivation/DerivationConnections.sysml...\n"
     ]
    },
    {
     "name": "stderr",
     "output_type": "stream",
     "text": [
      "Dec 16, 2024 3:28:08 AM io.github.spencerpark.jupyter.channels.Loop start\n",
      "INFO: Loop starting...\n",
      "Dec 16, 2024 3:28:08 AM io.github.spencerpark.jupyter.channels.Loop start\n",
      "INFO: Loop started.\n",
      "Dec 16, 2024 3:28:08 AM io.github.spencerpark.jupyter.channels.Loop start\n",
      "INFO: Loop starting...\n",
      "Dec 16, 2024 3:28:08 AM io.github.spencerpark.jupyter.channels.Loop start\n",
      "INFO: Loop started.\n",
      "Dec 16, 2024 3:28:08 AM io.github.spencerpark.jupyter.channels.Loop start\n",
      "INFO: Loop starting...\n",
      "Dec 16, 2024 3:28:08 AM io.github.spencerpark.jupyter.channels.Loop start\n",
      "INFO: Loop started.\n"
     ]
    },
    {
     "name": "stderr",
     "output_type": "stream",
     "text": [
      "Dec 16, 2024 3:28:15 AM io.github.spencerpark.jupyter.channels.Loop shutdown\n",
      "INFO: Loop shutdown.\n",
      "Dec 16, 2024 3:28:15 AM io.github.spencerpark.jupyter.channels.Loop shutdown\n",
      "INFO: Loop shutdown.\n",
      "Dec 16, 2024 3:28:15 AM io.github.spencerpark.jupyter.channels.Loop shutdown\n",
      "INFO: Loop shutdown.\n",
      "Dec 16, 2024 3:28:15 AM io.github.spencerpark.jupyter.channels.Loop run\n",
      "INFO: Running loop shutdown callback.\n",
      "Dec 16, 2024 3:28:15 AM io.github.spencerpark.jupyter.channels.Loop run\n",
      "INFO: Loop stopped.\n",
      "Dec 16, 2024 3:28:15 AM io.github.spencerpark.jupyter.channels.Loop run\n",
      "INFO: Running loop shutdown callback.\n",
      "Dec 16, 2024 3:28:15 AM io.github.spencerpark.jupyter.channels.Loop run\n",
      "INFO: Loop stopped.\n"
     ]
    },
    {
     "name": "stderr",
     "output_type": "stream",
     "text": [
      "Dec 16, 2024 3:28:16 AM io.github.spencerpark.jupyter.channels.Loop run\n",
      "INFO: Running loop shutdown callback.\n",
      "Dec 16, 2024 3:28:16 AM io.github.spencerpark.jupyter.channels.Loop run\n",
      "INFO: Loop stopped.\n"
     ]
    },
    {
     "name": "stdout",
     "output_type": "stream",
     "text": [
      "Signing notebook: TestSuite/VariabilityTest.ipynb\n",
      "Executing: TestSuite/MetadataTest.ipynb\n"
     ]
    },
    {
     "name": "stderr",
     "output_type": "stream",
     "text": [
      "/home/sysml/conda/lib/python3.12/site-packages/nbformat/__init__.py:96: MissingIDFieldWarning: Cell is missing an id field, this will become a hard error in future nbformat versions. You may want to use `normalize()` on your notebooks before validations (available since nbformat 5.1.4). Previous versions of nbformat are fixing this issue transparently, and will stop doing so in the future.\n",
      "  validate(nb)\n"
     ]
    },
    {
     "name": "stdout",
     "output_type": "stream",
     "text": [
      "Reading /home/sysml/conda/share/jupyter/kernels/sysml/sysml.library/Kernel Libraries/Kernel Semantic Library/Observation.kerml...\n"
     ]
    },
    {
     "name": "stderr",
     "output_type": "stream",
     "text": [
      "log4j:WARN No appenders could be found for logger (org.eclipse.xtext.parser.antlr.AbstractInternalAntlrParser).\n",
      "log4j:WARN Please initialize the log4j system properly.\n",
      "log4j:WARN See http://logging.apache.org/log4j/1.2/faq.html#noconfig for more info.\n"
     ]
    },
    {
     "name": "stdout",
     "output_type": "stream",
     "text": [
      "Reading /home/sysml/conda/share/jupyter/kernels/sysml/sysml.library/Kernel Libraries/Kernel Semantic Library/Transfers.kerml...\n",
      "Reading /home/sysml/conda/share/jupyter/kernels/sysml/sysml.library/Kernel Libraries/Kernel Semantic Library/Metaobjects.kerml...\n",
      "Reading /home/sysml/conda/share/jupyter/kernels/sysml/sysml.library/Kernel Libraries/Kernel Semantic Library/Triggers.kerml...\n",
      "Reading /home/sysml/conda/share/jupyter/kernels/sysml/sysml.library/Kernel Libraries/Kernel Semantic Library/Links.kerml...\n",
      "Reading /home/sysml/conda/share/jupyter/kernels/sysml/sysml.library/Kernel Libraries/Kernel Semantic Library/Base.kerml...\n",
      "Reading /home/sysml/conda/share/jupyter/kernels/sysml/sysml.library/Kernel Libraries/Kernel Semantic Library/Objects.kerml...\n",
      "Reading /home/sysml/conda/share/jupyter/kernels/sysml/sysml.library/Kernel Libraries/Kernel Semantic Library/Clocks.kerml...\n",
      "Reading /home/sysml/conda/share/jupyter/kernels/sysml/sysml.library/Kernel Libraries/Kernel Semantic Library/KerML.kerml...\n"
     ]
    },
    {
     "name": "stdout",
     "output_type": "stream",
     "text": [
      "Reading /home/sysml/conda/share/jupyter/kernels/sysml/sysml.library/Kernel Libraries/Kernel Semantic Library/FeatureReferencingPerformances.kerml...\n",
      "Reading /home/sysml/conda/share/jupyter/kernels/sysml/sysml.library/Kernel Libraries/Kernel Semantic Library/Performances.kerml...\n",
      "Reading /home/sysml/conda/share/jupyter/kernels/sysml/sysml.library/Kernel Libraries/Kernel Semantic Library/Occurrences.kerml...\n",
      "Reading /home/sysml/conda/share/jupyter/kernels/sysml/sysml.library/Kernel Libraries/Kernel Semantic Library/ControlPerformances.kerml...\n",
      "Reading /home/sysml/conda/share/jupyter/kernels/sysml/sysml.library/Kernel Libraries/Kernel Semantic Library/StatePerformances.kerml...\n",
      "Reading /home/sysml/conda/share/jupyter/kernels/sysml/sysml.library/Kernel Libraries/Kernel Semantic Library/TransitionPerformances.kerml...\n",
      "Reading /home/sysml/conda/share/jupyter/kernels/sysml/sysml.library/Kernel Libraries/Kernel Semantic Library/SpatialFrames.kerml...\n",
      "Reading /home/sysml/conda/share/jupyter/kernels/sysml/sysml.library/Kernel Libraries/Kernel Data Type Library/VectorValues.kerml...\n",
      "Reading /home/sysml/conda/share/jupyter/kernels/sysml/sysml.library/Kernel Libraries/Kernel Data Type Library/Collections.kerml...\n",
      "Reading /home/sysml/conda/share/jupyter/kernels/sysml/sysml.library/Kernel Libraries/Kernel Data Type Library/ScalarValues.kerml...\n",
      "Reading /home/sysml/conda/share/jupyter/kernels/sysml/sysml.library/Kernel Libraries/Kernel Function Library/NaturalFunctions.kerml...\n",
      "Reading /home/sysml/conda/share/jupyter/kernels/sysml/sysml.library/Kernel Libraries/Kernel Function Library/BaseFunctions.kerml...\n",
      "Reading /home/sysml/conda/share/jupyter/kernels/sysml/sysml.library/Kernel Libraries/Kernel Function Library/DataFunctions.kerml...\n",
      "Reading /home/sysml/conda/share/jupyter/kernels/sysml/sysml.library/Kernel Libraries/Kernel Function Library/IntegerFunctions.kerml...\n"
     ]
    },
    {
     "name": "stdout",
     "output_type": "stream",
     "text": [
      "Reading /home/sysml/conda/share/jupyter/kernels/sysml/sysml.library/Kernel Libraries/Kernel Function Library/RealFunctions.kerml...\n",
      "Reading /home/sysml/conda/share/jupyter/kernels/sysml/sysml.library/Kernel Libraries/Kernel Function Library/NumericalFunctions.kerml...\n",
      "Reading /home/sysml/conda/share/jupyter/kernels/sysml/sysml.library/Kernel Libraries/Kernel Function Library/VectorFunctions.kerml...\n",
      "Reading /home/sysml/conda/share/jupyter/kernels/sysml/sysml.library/Kernel Libraries/Kernel Function Library/SequenceFunctions.kerml...\n",
      "Reading /home/sysml/conda/share/jupyter/kernels/sysml/sysml.library/Kernel Libraries/Kernel Function Library/ComplexFunctions.kerml...\n",
      "Reading /home/sysml/conda/share/jupyter/kernels/sysml/sysml.library/Kernel Libraries/Kernel Function Library/RationalFunctions.kerml...\n",
      "Reading /home/sysml/conda/share/jupyter/kernels/sysml/sysml.library/Kernel Libraries/Kernel Function Library/StringFunctions.kerml...\n",
      "Reading /home/sysml/conda/share/jupyter/kernels/sysml/sysml.library/Kernel Libraries/Kernel Function Library/ScalarFunctions.kerml...\n",
      "Reading /home/sysml/conda/share/jupyter/kernels/sysml/sysml.library/Kernel Libraries/Kernel Function Library/CollectionFunctions.kerml...\n",
      "Reading /home/sysml/conda/share/jupyter/kernels/sysml/sysml.library/Kernel Libraries/Kernel Function Library/BooleanFunctions.kerml...\n",
      "Reading /home/sysml/conda/share/jupyter/kernels/sysml/sysml.library/Kernel Libraries/Kernel Function Library/OccurrenceFunctions.kerml...\n",
      "Reading /home/sysml/conda/share/jupyter/kernels/sysml/sysml.library/Kernel Libraries/Kernel Function Library/TrigFunctions.kerml...\n",
      "Reading /home/sysml/conda/share/jupyter/kernels/sysml/sysml.library/Kernel Libraries/Kernel Function Library/ControlFunctions.kerml...\n",
      "Reading /home/sysml/conda/share/jupyter/kernels/sysml/sysml.library/Systems Library/Connections.sysml...\n"
     ]
    },
    {
     "name": "stdout",
     "output_type": "stream",
     "text": [
      "Reading /home/sysml/conda/share/jupyter/kernels/sysml/sysml.library/Systems Library/States.sysml...\n",
      "Reading /home/sysml/conda/share/jupyter/kernels/sysml/sysml.library/Systems Library/Actions.sysml...\n",
      "Reading /home/sysml/conda/share/jupyter/kernels/sysml/sysml.library/Systems Library/Metadata.sysml...\n",
      "Reading /home/sysml/conda/share/jupyter/kernels/sysml/sysml.library/Systems Library/Requirements.sysml...\n",
      "Reading /home/sysml/conda/share/jupyter/kernels/sysml/sysml.library/Systems Library/AnalysisCases.sysml...\n",
      "Reading /home/sysml/conda/share/jupyter/kernels/sysml/sysml.library/Systems Library/Attributes.sysml...\n",
      "Reading /home/sysml/conda/share/jupyter/kernels/sysml/sysml.library/Systems Library/Cases.sysml...\n",
      "Reading /home/sysml/conda/share/jupyter/kernels/sysml/sysml.library/Systems Library/VerificationCases.sysml...\n",
      "Reading /home/sysml/conda/share/jupyter/kernels/sysml/sysml.library/Systems Library/Interfaces.sysml...\n",
      "Reading /home/sysml/conda/share/jupyter/kernels/sysml/sysml.library/Systems Library/Ports.sysml...\n",
      "Reading /home/sysml/conda/share/jupyter/kernels/sysml/sysml.library/Systems Library/Views.sysml...\n",
      "Reading /home/sysml/conda/share/jupyter/kernels/sysml/sysml.library/Systems Library/UseCases.sysml...\n",
      "Reading /home/sysml/conda/share/jupyter/kernels/sysml/sysml.library/Systems Library/Parts.sysml...\n",
      "Reading /home/sysml/conda/share/jupyter/kernels/sysml/sysml.library/Systems Library/SysML.sysml...\n",
      "Reading /home/sysml/conda/share/jupyter/kernels/sysml/sysml.library/Systems Library/Constraints.sysml...\n",
      "Reading /home/sysml/conda/share/jupyter/kernels/sysml/sysml.library/Systems Library/Items.sysml...\n"
     ]
    },
    {
     "name": "stdout",
     "output_type": "stream",
     "text": [
      "Reading /home/sysml/conda/share/jupyter/kernels/sysml/sysml.library/Systems Library/Calculations.sysml...\n",
      "Reading /home/sysml/conda/share/jupyter/kernels/sysml/sysml.library/Systems Library/StandardViewDefinitions.sysml...\n",
      "Reading /home/sysml/conda/share/jupyter/kernels/sysml/sysml.library/Systems Library/Allocations.sysml...\n",
      "Reading /home/sysml/conda/share/jupyter/kernels/sysml/sysml.library/Domain Libraries/Geometry/SpatialItems.sysml...\n",
      "Reading /home/sysml/conda/share/jupyter/kernels/sysml/sysml.library/Domain Libraries/Geometry/ShapeItems.sysml...\n",
      "Reading /home/sysml/conda/share/jupyter/kernels/sysml/sysml.library/Domain Libraries/Analysis/TradeStudies.sysml...\n",
      "Reading /home/sysml/conda/share/jupyter/kernels/sysml/sysml.library/Domain Libraries/Analysis/StateSpaceRepresentation.sysml...\n",
      "Reading /home/sysml/conda/share/jupyter/kernels/sysml/sysml.library/Domain Libraries/Analysis/SampledFunctions.sysml...\n",
      "Reading /home/sysml/conda/share/jupyter/kernels/sysml/sysml.library/Domain Libraries/Analysis/AnalysisTooling.sysml...\n",
      "Reading /home/sysml/conda/share/jupyter/kernels/sysml/sysml.library/Domain Libraries/Cause and Effect/CausationConnections.sysml...\n",
      "Reading /home/sysml/conda/share/jupyter/kernels/sysml/sysml.library/Domain Libraries/Cause and Effect/CauseAndEffect.sysml...\n",
      "Reading /home/sysml/conda/share/jupyter/kernels/sysml/sysml.library/Domain Libraries/Quantities and Units/TensorCalculations.sysml...\n",
      "Reading /home/sysml/conda/share/jupyter/kernels/sysml/sysml.library/Domain Libraries/Quantities and Units/ISQSpaceTime.sysml...\n",
      "Reading /home/sysml/conda/share/jupyter/kernels/sysml/sysml.library/Domain Libraries/Quantities and Units/ISQElectromagnetism.sysml...\n"
     ]
    },
    {
     "name": "stdout",
     "output_type": "stream",
     "text": [
      "Reading /home/sysml/conda/share/jupyter/kernels/sysml/sysml.library/Domain Libraries/Quantities and Units/USCustomaryUnits.sysml...\n",
      "Reading /home/sysml/conda/share/jupyter/kernels/sysml/sysml.library/Domain Libraries/Quantities and Units/Time.sysml...\n",
      "Reading /home/sysml/conda/share/jupyter/kernels/sysml/sysml.library/Domain Libraries/Quantities and Units/MeasurementReferences.sysml...\n",
      "Reading /home/sysml/conda/share/jupyter/kernels/sysml/sysml.library/Domain Libraries/Quantities and Units/ISQBase.sysml...\n",
      "Reading /home/sysml/conda/share/jupyter/kernels/sysml/sysml.library/Domain Libraries/Quantities and Units/ISQCondensedMatter.sysml...\n",
      "Reading /home/sysml/conda/share/jupyter/kernels/sysml/sysml.library/Domain Libraries/Quantities and Units/ISQMechanics.sysml...\n",
      "Reading /home/sysml/conda/share/jupyter/kernels/sysml/sysml.library/Domain Libraries/Quantities and Units/SI.sysml...\n",
      "Reading /home/sysml/conda/share/jupyter/kernels/sysml/sysml.library/Domain Libraries/Quantities and Units/ISQCharacteristicNumbers.sysml...\n",
      "Reading /home/sysml/conda/share/jupyter/kernels/sysml/sysml.library/Domain Libraries/Quantities and Units/QuantityCalculations.sysml...\n",
      "Reading /home/sysml/conda/share/jupyter/kernels/sysml/sysml.library/Domain Libraries/Quantities and Units/MeasurementRefCalculations.sysml...\n",
      "Reading /home/sysml/conda/share/jupyter/kernels/sysml/sysml.library/Domain Libraries/Quantities and Units/ISQAtomicNuclear.sysml...\n"
     ]
    },
    {
     "name": "stdout",
     "output_type": "stream",
     "text": [
      "Reading /home/sysml/conda/share/jupyter/kernels/sysml/sysml.library/Domain Libraries/Quantities and Units/ISQ.sysml...\n",
      "Reading /home/sysml/conda/share/jupyter/kernels/sysml/sysml.library/Domain Libraries/Quantities and Units/ISQAcoustics.sysml...\n",
      "Reading /home/sysml/conda/share/jupyter/kernels/sysml/sysml.library/Domain Libraries/Quantities and Units/ISQLight.sysml...\n",
      "Reading /home/sysml/conda/share/jupyter/kernels/sysml/sysml.library/Domain Libraries/Quantities and Units/ISQInformation.sysml...\n",
      "Reading /home/sysml/conda/share/jupyter/kernels/sysml/sysml.library/Domain Libraries/Quantities and Units/ISQThermodynamics.sysml...\n",
      "Reading /home/sysml/conda/share/jupyter/kernels/sysml/sysml.library/Domain Libraries/Quantities and Units/SIPrefixes.sysml...\n",
      "Reading /home/sysml/conda/share/jupyter/kernels/sysml/sysml.library/Domain Libraries/Quantities and Units/VectorCalculations.sysml...\n",
      "Reading /home/sysml/conda/share/jupyter/kernels/sysml/sysml.library/Domain Libraries/Quantities and Units/ISQChemistryMolecular.sysml...\n",
      "Reading /home/sysml/conda/share/jupyter/kernels/sysml/sysml.library/Domain Libraries/Quantities and Units/Quantities.sysml...\n",
      "Reading /home/sysml/conda/share/jupyter/kernels/sysml/sysml.library/Domain Libraries/Metadata/ImageMetadata.sysml...\n",
      "Reading /home/sysml/conda/share/jupyter/kernels/sysml/sysml.library/Domain Libraries/Metadata/ModelingMetadata.sysml...\n",
      "Reading /home/sysml/conda/share/jupyter/kernels/sysml/sysml.library/Domain Libraries/Metadata/ParametersOfInterestMetadata.sysml...\n",
      "Reading /home/sysml/conda/share/jupyter/kernels/sysml/sysml.library/Domain Libraries/Metadata/RiskMetadata.sysml...\n",
      "Reading /home/sysml/conda/share/jupyter/kernels/sysml/sysml.library/Domain Libraries/Requirement Derivation/RequirementDerivation.sysml...\n",
      "Reading /home/sysml/conda/share/jupyter/kernels/sysml/sysml.library/Domain Libraries/Requirement Derivation/DerivationConnections.sysml...\n"
     ]
    },
    {
     "name": "stderr",
     "output_type": "stream",
     "text": [
      "Dec 16, 2024 3:28:20 AM io.github.spencerpark.jupyter.channels.Loop start\n",
      "INFO: Loop starting...\n",
      "Dec 16, 2024 3:28:20 AM io.github.spencerpark.jupyter.channels.Loop start\n",
      "INFO: Loop started.\n",
      "Dec 16, 2024 3:28:20 AM io.github.spencerpark.jupyter.channels.Loop start\n",
      "INFO: Loop starting...\n",
      "Dec 16, 2024 3:28:20 AM io.github.spencerpark.jupyter.channels.Loop start\n",
      "INFO: Loop started.\n",
      "Dec 16, 2024 3:28:20 AM io.github.spencerpark.jupyter.channels.Loop start\n",
      "INFO: Loop starting...\n",
      "Dec 16, 2024 3:28:20 AM io.github.spencerpark.jupyter.channels.Loop start\n",
      "INFO: Loop started.\n"
     ]
    },
    {
     "name": "stderr",
     "output_type": "stream",
     "text": [
      "Dec 16, 2024 3:28:26 AM io.github.spencerpark.jupyter.channels.Loop shutdown\n",
      "INFO: Loop shutdown.\n",
      "Dec 16, 2024 3:28:26 AM io.github.spencerpark.jupyter.channels.Loop shutdown\n",
      "INFO: Loop shutdown.\n",
      "Dec 16, 2024 3:28:26 AM io.github.spencerpark.jupyter.channels.Loop shutdown\n",
      "INFO: Loop shutdown.\n",
      "Dec 16, 2024 3:28:26 AM io.github.spencerpark.jupyter.channels.Loop run\n",
      "INFO: Running loop shutdown callback.\n",
      "Dec 16, 2024 3:28:26 AM io.github.spencerpark.jupyter.channels.Loop run\n",
      "INFO: Loop stopped.\n",
      "Dec 16, 2024 3:28:26 AM io.github.spencerpark.jupyter.channels.Loop run\n",
      "INFO: Running loop shutdown callback.\n",
      "Dec 16, 2024 3:28:26 AM io.github.spencerpark.jupyter.channels.Loop run\n",
      "INFO: Loop stopped.\n",
      "Dec 16, 2024 3:28:26 AM io.github.spencerpark.jupyter.channels.Loop run\n",
      "INFO: Running loop shutdown callback.\n",
      "Dec 16, 2024 3:28:26 AM io.github.spencerpark.jupyter.channels.Loop run\n",
      "INFO: Loop stopped.\n"
     ]
    },
    {
     "name": "stdout",
     "output_type": "stream",
     "text": [
      "Signing notebook: TestSuite/MetadataTest.ipynb\n",
      "Executing: TestSuite/TradeStudyTest.ipynb\n"
     ]
    },
    {
     "name": "stderr",
     "output_type": "stream",
     "text": [
      "/home/sysml/conda/lib/python3.12/site-packages/nbformat/__init__.py:96: MissingIDFieldWarning: Cell is missing an id field, this will become a hard error in future nbformat versions. You may want to use `normalize()` on your notebooks before validations (available since nbformat 5.1.4). Previous versions of nbformat are fixing this issue transparently, and will stop doing so in the future.\n",
      "  validate(nb)\n"
     ]
    },
    {
     "name": "stdout",
     "output_type": "stream",
     "text": [
      "Reading /home/sysml/conda/share/jupyter/kernels/sysml/sysml.library/Kernel Libraries/Kernel Semantic Library/Observation.kerml...\n"
     ]
    },
    {
     "name": "stderr",
     "output_type": "stream",
     "text": [
      "log4j:WARN No appenders could be found for logger (org.eclipse.xtext.parser.antlr.AbstractInternalAntlrParser).\n",
      "log4j:WARN Please initialize the log4j system properly.\n",
      "log4j:WARN See http://logging.apache.org/log4j/1.2/faq.html#noconfig for more info.\n"
     ]
    },
    {
     "name": "stdout",
     "output_type": "stream",
     "text": [
      "Reading /home/sysml/conda/share/jupyter/kernels/sysml/sysml.library/Kernel Libraries/Kernel Semantic Library/Transfers.kerml...\n",
      "Reading /home/sysml/conda/share/jupyter/kernels/sysml/sysml.library/Kernel Libraries/Kernel Semantic Library/Metaobjects.kerml...\n",
      "Reading /home/sysml/conda/share/jupyter/kernels/sysml/sysml.library/Kernel Libraries/Kernel Semantic Library/Triggers.kerml...\n",
      "Reading /home/sysml/conda/share/jupyter/kernels/sysml/sysml.library/Kernel Libraries/Kernel Semantic Library/Links.kerml...\n",
      "Reading /home/sysml/conda/share/jupyter/kernels/sysml/sysml.library/Kernel Libraries/Kernel Semantic Library/Base.kerml...\n",
      "Reading /home/sysml/conda/share/jupyter/kernels/sysml/sysml.library/Kernel Libraries/Kernel Semantic Library/Objects.kerml...\n",
      "Reading /home/sysml/conda/share/jupyter/kernels/sysml/sysml.library/Kernel Libraries/Kernel Semantic Library/Clocks.kerml...\n",
      "Reading /home/sysml/conda/share/jupyter/kernels/sysml/sysml.library/Kernel Libraries/Kernel Semantic Library/KerML.kerml...\n"
     ]
    },
    {
     "name": "stdout",
     "output_type": "stream",
     "text": [
      "Reading /home/sysml/conda/share/jupyter/kernels/sysml/sysml.library/Kernel Libraries/Kernel Semantic Library/FeatureReferencingPerformances.kerml...\n",
      "Reading /home/sysml/conda/share/jupyter/kernels/sysml/sysml.library/Kernel Libraries/Kernel Semantic Library/Performances.kerml...\n",
      "Reading /home/sysml/conda/share/jupyter/kernels/sysml/sysml.library/Kernel Libraries/Kernel Semantic Library/Occurrences.kerml...\n",
      "Reading /home/sysml/conda/share/jupyter/kernels/sysml/sysml.library/Kernel Libraries/Kernel Semantic Library/ControlPerformances.kerml...\n",
      "Reading /home/sysml/conda/share/jupyter/kernels/sysml/sysml.library/Kernel Libraries/Kernel Semantic Library/StatePerformances.kerml...\n",
      "Reading /home/sysml/conda/share/jupyter/kernels/sysml/sysml.library/Kernel Libraries/Kernel Semantic Library/TransitionPerformances.kerml...\n",
      "Reading /home/sysml/conda/share/jupyter/kernels/sysml/sysml.library/Kernel Libraries/Kernel Semantic Library/SpatialFrames.kerml...\n",
      "Reading /home/sysml/conda/share/jupyter/kernels/sysml/sysml.library/Kernel Libraries/Kernel Data Type Library/VectorValues.kerml...\n",
      "Reading /home/sysml/conda/share/jupyter/kernels/sysml/sysml.library/Kernel Libraries/Kernel Data Type Library/Collections.kerml...\n",
      "Reading /home/sysml/conda/share/jupyter/kernels/sysml/sysml.library/Kernel Libraries/Kernel Data Type Library/ScalarValues.kerml...\n",
      "Reading /home/sysml/conda/share/jupyter/kernels/sysml/sysml.library/Kernel Libraries/Kernel Function Library/NaturalFunctions.kerml...\n",
      "Reading /home/sysml/conda/share/jupyter/kernels/sysml/sysml.library/Kernel Libraries/Kernel Function Library/BaseFunctions.kerml...\n",
      "Reading /home/sysml/conda/share/jupyter/kernels/sysml/sysml.library/Kernel Libraries/Kernel Function Library/DataFunctions.kerml...\n",
      "Reading /home/sysml/conda/share/jupyter/kernels/sysml/sysml.library/Kernel Libraries/Kernel Function Library/IntegerFunctions.kerml...\n",
      "Reading /home/sysml/conda/share/jupyter/kernels/sysml/sysml.library/Kernel Libraries/Kernel Function Library/RealFunctions.kerml...\n",
      "Reading /home/sysml/conda/share/jupyter/kernels/sysml/sysml.library/Kernel Libraries/Kernel Function Library/NumericalFunctions.kerml...\n"
     ]
    },
    {
     "name": "stdout",
     "output_type": "stream",
     "text": [
      "Reading /home/sysml/conda/share/jupyter/kernels/sysml/sysml.library/Kernel Libraries/Kernel Function Library/VectorFunctions.kerml...\n",
      "Reading /home/sysml/conda/share/jupyter/kernels/sysml/sysml.library/Kernel Libraries/Kernel Function Library/SequenceFunctions.kerml...\n",
      "Reading /home/sysml/conda/share/jupyter/kernels/sysml/sysml.library/Kernel Libraries/Kernel Function Library/ComplexFunctions.kerml...\n",
      "Reading /home/sysml/conda/share/jupyter/kernels/sysml/sysml.library/Kernel Libraries/Kernel Function Library/RationalFunctions.kerml...\n",
      "Reading /home/sysml/conda/share/jupyter/kernels/sysml/sysml.library/Kernel Libraries/Kernel Function Library/StringFunctions.kerml...\n",
      "Reading /home/sysml/conda/share/jupyter/kernels/sysml/sysml.library/Kernel Libraries/Kernel Function Library/ScalarFunctions.kerml...\n",
      "Reading /home/sysml/conda/share/jupyter/kernels/sysml/sysml.library/Kernel Libraries/Kernel Function Library/CollectionFunctions.kerml...\n",
      "Reading /home/sysml/conda/share/jupyter/kernels/sysml/sysml.library/Kernel Libraries/Kernel Function Library/BooleanFunctions.kerml...\n",
      "Reading /home/sysml/conda/share/jupyter/kernels/sysml/sysml.library/Kernel Libraries/Kernel Function Library/OccurrenceFunctions.kerml...\n",
      "Reading /home/sysml/conda/share/jupyter/kernels/sysml/sysml.library/Kernel Libraries/Kernel Function Library/TrigFunctions.kerml...\n",
      "Reading /home/sysml/conda/share/jupyter/kernels/sysml/sysml.library/Kernel Libraries/Kernel Function Library/ControlFunctions.kerml...\n",
      "Reading /home/sysml/conda/share/jupyter/kernels/sysml/sysml.library/Systems Library/Connections.sysml...\n"
     ]
    },
    {
     "name": "stdout",
     "output_type": "stream",
     "text": [
      "Reading /home/sysml/conda/share/jupyter/kernels/sysml/sysml.library/Systems Library/States.sysml...\n",
      "Reading /home/sysml/conda/share/jupyter/kernels/sysml/sysml.library/Systems Library/Actions.sysml...\n",
      "Reading /home/sysml/conda/share/jupyter/kernels/sysml/sysml.library/Systems Library/Metadata.sysml...\n",
      "Reading /home/sysml/conda/share/jupyter/kernels/sysml/sysml.library/Systems Library/Requirements.sysml...\n",
      "Reading /home/sysml/conda/share/jupyter/kernels/sysml/sysml.library/Systems Library/AnalysisCases.sysml...\n",
      "Reading /home/sysml/conda/share/jupyter/kernels/sysml/sysml.library/Systems Library/Attributes.sysml...\n",
      "Reading /home/sysml/conda/share/jupyter/kernels/sysml/sysml.library/Systems Library/Cases.sysml...\n",
      "Reading /home/sysml/conda/share/jupyter/kernels/sysml/sysml.library/Systems Library/VerificationCases.sysml...\n",
      "Reading /home/sysml/conda/share/jupyter/kernels/sysml/sysml.library/Systems Library/Interfaces.sysml...\n",
      "Reading /home/sysml/conda/share/jupyter/kernels/sysml/sysml.library/Systems Library/Ports.sysml...\n",
      "Reading /home/sysml/conda/share/jupyter/kernels/sysml/sysml.library/Systems Library/Views.sysml...\n",
      "Reading /home/sysml/conda/share/jupyter/kernels/sysml/sysml.library/Systems Library/UseCases.sysml...\n",
      "Reading /home/sysml/conda/share/jupyter/kernels/sysml/sysml.library/Systems Library/Parts.sysml...\n",
      "Reading /home/sysml/conda/share/jupyter/kernels/sysml/sysml.library/Systems Library/SysML.sysml...\n",
      "Reading /home/sysml/conda/share/jupyter/kernels/sysml/sysml.library/Systems Library/Constraints.sysml...\n",
      "Reading /home/sysml/conda/share/jupyter/kernels/sysml/sysml.library/Systems Library/Items.sysml...\n",
      "Reading /home/sysml/conda/share/jupyter/kernels/sysml/sysml.library/Systems Library/Calculations.sysml...\n"
     ]
    },
    {
     "name": "stdout",
     "output_type": "stream",
     "text": [
      "Reading /home/sysml/conda/share/jupyter/kernels/sysml/sysml.library/Systems Library/StandardViewDefinitions.sysml...\n",
      "Reading /home/sysml/conda/share/jupyter/kernels/sysml/sysml.library/Systems Library/Allocations.sysml...\n",
      "Reading /home/sysml/conda/share/jupyter/kernels/sysml/sysml.library/Domain Libraries/Geometry/SpatialItems.sysml...\n",
      "Reading /home/sysml/conda/share/jupyter/kernels/sysml/sysml.library/Domain Libraries/Geometry/ShapeItems.sysml...\n",
      "Reading /home/sysml/conda/share/jupyter/kernels/sysml/sysml.library/Domain Libraries/Analysis/TradeStudies.sysml...\n",
      "Reading /home/sysml/conda/share/jupyter/kernels/sysml/sysml.library/Domain Libraries/Analysis/StateSpaceRepresentation.sysml...\n",
      "Reading /home/sysml/conda/share/jupyter/kernels/sysml/sysml.library/Domain Libraries/Analysis/SampledFunctions.sysml...\n",
      "Reading /home/sysml/conda/share/jupyter/kernels/sysml/sysml.library/Domain Libraries/Analysis/AnalysisTooling.sysml...\n",
      "Reading /home/sysml/conda/share/jupyter/kernels/sysml/sysml.library/Domain Libraries/Cause and Effect/CausationConnections.sysml...\n",
      "Reading /home/sysml/conda/share/jupyter/kernels/sysml/sysml.library/Domain Libraries/Cause and Effect/CauseAndEffect.sysml...\n",
      "Reading /home/sysml/conda/share/jupyter/kernels/sysml/sysml.library/Domain Libraries/Quantities and Units/TensorCalculations.sysml...\n",
      "Reading /home/sysml/conda/share/jupyter/kernels/sysml/sysml.library/Domain Libraries/Quantities and Units/ISQSpaceTime.sysml...\n",
      "Reading /home/sysml/conda/share/jupyter/kernels/sysml/sysml.library/Domain Libraries/Quantities and Units/ISQElectromagnetism.sysml...\n"
     ]
    },
    {
     "name": "stdout",
     "output_type": "stream",
     "text": [
      "Reading /home/sysml/conda/share/jupyter/kernels/sysml/sysml.library/Domain Libraries/Quantities and Units/USCustomaryUnits.sysml...\n",
      "Reading /home/sysml/conda/share/jupyter/kernels/sysml/sysml.library/Domain Libraries/Quantities and Units/Time.sysml...\n",
      "Reading /home/sysml/conda/share/jupyter/kernels/sysml/sysml.library/Domain Libraries/Quantities and Units/MeasurementReferences.sysml...\n",
      "Reading /home/sysml/conda/share/jupyter/kernels/sysml/sysml.library/Domain Libraries/Quantities and Units/ISQBase.sysml...\n",
      "Reading /home/sysml/conda/share/jupyter/kernels/sysml/sysml.library/Domain Libraries/Quantities and Units/ISQCondensedMatter.sysml...\n",
      "Reading /home/sysml/conda/share/jupyter/kernels/sysml/sysml.library/Domain Libraries/Quantities and Units/ISQMechanics.sysml...\n",
      "Reading /home/sysml/conda/share/jupyter/kernels/sysml/sysml.library/Domain Libraries/Quantities and Units/SI.sysml...\n",
      "Reading /home/sysml/conda/share/jupyter/kernels/sysml/sysml.library/Domain Libraries/Quantities and Units/ISQCharacteristicNumbers.sysml...\n",
      "Reading /home/sysml/conda/share/jupyter/kernels/sysml/sysml.library/Domain Libraries/Quantities and Units/QuantityCalculations.sysml...\n",
      "Reading /home/sysml/conda/share/jupyter/kernels/sysml/sysml.library/Domain Libraries/Quantities and Units/MeasurementRefCalculations.sysml...\n",
      "Reading /home/sysml/conda/share/jupyter/kernels/sysml/sysml.library/Domain Libraries/Quantities and Units/ISQAtomicNuclear.sysml...\n"
     ]
    },
    {
     "name": "stdout",
     "output_type": "stream",
     "text": [
      "Reading /home/sysml/conda/share/jupyter/kernels/sysml/sysml.library/Domain Libraries/Quantities and Units/ISQ.sysml...\n",
      "Reading /home/sysml/conda/share/jupyter/kernels/sysml/sysml.library/Domain Libraries/Quantities and Units/ISQAcoustics.sysml...\n",
      "Reading /home/sysml/conda/share/jupyter/kernels/sysml/sysml.library/Domain Libraries/Quantities and Units/ISQLight.sysml...\n",
      "Reading /home/sysml/conda/share/jupyter/kernels/sysml/sysml.library/Domain Libraries/Quantities and Units/ISQInformation.sysml...\n",
      "Reading /home/sysml/conda/share/jupyter/kernels/sysml/sysml.library/Domain Libraries/Quantities and Units/ISQThermodynamics.sysml...\n",
      "Reading /home/sysml/conda/share/jupyter/kernels/sysml/sysml.library/Domain Libraries/Quantities and Units/SIPrefixes.sysml...\n",
      "Reading /home/sysml/conda/share/jupyter/kernels/sysml/sysml.library/Domain Libraries/Quantities and Units/VectorCalculations.sysml...\n",
      "Reading /home/sysml/conda/share/jupyter/kernels/sysml/sysml.library/Domain Libraries/Quantities and Units/ISQChemistryMolecular.sysml...\n",
      "Reading /home/sysml/conda/share/jupyter/kernels/sysml/sysml.library/Domain Libraries/Quantities and Units/Quantities.sysml...\n",
      "Reading /home/sysml/conda/share/jupyter/kernels/sysml/sysml.library/Domain Libraries/Metadata/ImageMetadata.sysml...\n",
      "Reading /home/sysml/conda/share/jupyter/kernels/sysml/sysml.library/Domain Libraries/Metadata/ModelingMetadata.sysml...\n",
      "Reading /home/sysml/conda/share/jupyter/kernels/sysml/sysml.library/Domain Libraries/Metadata/ParametersOfInterestMetadata.sysml...\n",
      "Reading /home/sysml/conda/share/jupyter/kernels/sysml/sysml.library/Domain Libraries/Metadata/RiskMetadata.sysml...\n",
      "Reading /home/sysml/conda/share/jupyter/kernels/sysml/sysml.library/Domain Libraries/Requirement Derivation/RequirementDerivation.sysml...\n",
      "Reading /home/sysml/conda/share/jupyter/kernels/sysml/sysml.library/Domain Libraries/Requirement Derivation/DerivationConnections.sysml...\n"
     ]
    },
    {
     "name": "stderr",
     "output_type": "stream",
     "text": [
      "Dec 16, 2024 3:28:30 AM io.github.spencerpark.jupyter.channels.Loop start\n",
      "INFO: Loop starting...\n",
      "Dec 16, 2024 3:28:30 AM io.github.spencerpark.jupyter.channels.Loop start\n",
      "INFO: Loop started.\n",
      "Dec 16, 2024 3:28:30 AM io.github.spencerpark.jupyter.channels.Loop start\n",
      "INFO: Loop starting...\n",
      "Dec 16, 2024 3:28:30 AM io.github.spencerpark.jupyter.channels.Loop start\n",
      "INFO: Loop started.\n",
      "Dec 16, 2024 3:28:30 AM io.github.spencerpark.jupyter.channels.Loop start\n",
      "INFO: Loop starting...\n",
      "Dec 16, 2024 3:28:30 AM io.github.spencerpark.jupyter.channels.Loop start\n",
      "INFO: Loop started.\n"
     ]
    },
    {
     "name": "stderr",
     "output_type": "stream",
     "text": [
      "Dec 16, 2024 3:28:36 AM io.github.spencerpark.jupyter.channels.Loop shutdown\n",
      "INFO: Loop shutdown.\n",
      "Dec 16, 2024 3:28:36 AM io.github.spencerpark.jupyter.channels.Loop shutdown\n",
      "INFO: Loop shutdown.\n",
      "Dec 16, 2024 3:28:36 AM io.github.spencerpark.jupyter.channels.Loop shutdown\n",
      "INFO: Loop shutdown.\n",
      "Dec 16, 2024 3:28:36 AM io.github.spencerpark.jupyter.channels.Loop run\n",
      "INFO: Running loop shutdown callback.\n",
      "Dec 16, 2024 3:28:36 AM io.github.spencerpark.jupyter.channels.Loop run\n",
      "INFO: Loop stopped.\n",
      "Dec 16, 2024 3:28:36 AM io.github.spencerpark.jupyter.channels.Loop run\n",
      "INFO: Running loop shutdown callback.\n",
      "Dec 16, 2024 3:28:36 AM io.github.spencerpark.jupyter.channels.Loop run\n",
      "INFO: Loop stopped.\n",
      "Dec 16, 2024 3:28:36 AM io.github.spencerpark.jupyter.channels.Loop run\n",
      "INFO: Running loop shutdown callback.\n",
      "Dec 16, 2024 3:28:36 AM io.github.spencerpark.jupyter.channels.Loop run\n",
      "INFO: Loop stopped.\n"
     ]
    },
    {
     "name": "stdout",
     "output_type": "stream",
     "text": [
      "Signing notebook: TestSuite/TradeStudyTest.ipynb\n",
      "Executing: TestSuite/ActionTest.ipynb\n"
     ]
    },
    {
     "name": "stderr",
     "output_type": "stream",
     "text": [
      "/home/sysml/conda/lib/python3.12/site-packages/nbformat/__init__.py:96: MissingIDFieldWarning: Cell is missing an id field, this will become a hard error in future nbformat versions. You may want to use `normalize()` on your notebooks before validations (available since nbformat 5.1.4). Previous versions of nbformat are fixing this issue transparently, and will stop doing so in the future.\n",
      "  validate(nb)\n"
     ]
    },
    {
     "name": "stdout",
     "output_type": "stream",
     "text": [
      "Reading /home/sysml/conda/share/jupyter/kernels/sysml/sysml.library/Kernel Libraries/Kernel Semantic Library/Observation.kerml...\n"
     ]
    },
    {
     "name": "stderr",
     "output_type": "stream",
     "text": [
      "log4j:WARN No appenders could be found for logger (org.eclipse.xtext.parser.antlr.AbstractInternalAntlrParser).\n",
      "log4j:WARN Please initialize the log4j system properly.\n",
      "log4j:WARN See http://logging.apache.org/log4j/1.2/faq.html#noconfig for more info.\n"
     ]
    },
    {
     "name": "stdout",
     "output_type": "stream",
     "text": [
      "Reading /home/sysml/conda/share/jupyter/kernels/sysml/sysml.library/Kernel Libraries/Kernel Semantic Library/Transfers.kerml...\n",
      "Reading /home/sysml/conda/share/jupyter/kernels/sysml/sysml.library/Kernel Libraries/Kernel Semantic Library/Metaobjects.kerml...\n",
      "Reading /home/sysml/conda/share/jupyter/kernels/sysml/sysml.library/Kernel Libraries/Kernel Semantic Library/Triggers.kerml...\n",
      "Reading /home/sysml/conda/share/jupyter/kernels/sysml/sysml.library/Kernel Libraries/Kernel Semantic Library/Links.kerml...\n",
      "Reading /home/sysml/conda/share/jupyter/kernels/sysml/sysml.library/Kernel Libraries/Kernel Semantic Library/Base.kerml...\n",
      "Reading /home/sysml/conda/share/jupyter/kernels/sysml/sysml.library/Kernel Libraries/Kernel Semantic Library/Objects.kerml...\n"
     ]
    },
    {
     "name": "stdout",
     "output_type": "stream",
     "text": [
      "Reading /home/sysml/conda/share/jupyter/kernels/sysml/sysml.library/Kernel Libraries/Kernel Semantic Library/Clocks.kerml...\n",
      "Reading /home/sysml/conda/share/jupyter/kernels/sysml/sysml.library/Kernel Libraries/Kernel Semantic Library/KerML.kerml...\n",
      "Reading /home/sysml/conda/share/jupyter/kernels/sysml/sysml.library/Kernel Libraries/Kernel Semantic Library/FeatureReferencingPerformances.kerml...\n",
      "Reading /home/sysml/conda/share/jupyter/kernels/sysml/sysml.library/Kernel Libraries/Kernel Semantic Library/Performances.kerml...\n",
      "Reading /home/sysml/conda/share/jupyter/kernels/sysml/sysml.library/Kernel Libraries/Kernel Semantic Library/Occurrences.kerml...\n",
      "Reading /home/sysml/conda/share/jupyter/kernels/sysml/sysml.library/Kernel Libraries/Kernel Semantic Library/ControlPerformances.kerml...\n"
     ]
    },
    {
     "name": "stdout",
     "output_type": "stream",
     "text": [
      "Reading /home/sysml/conda/share/jupyter/kernels/sysml/sysml.library/Kernel Libraries/Kernel Semantic Library/StatePerformances.kerml...\n",
      "Reading /home/sysml/conda/share/jupyter/kernels/sysml/sysml.library/Kernel Libraries/Kernel Semantic Library/TransitionPerformances.kerml...\n",
      "Reading /home/sysml/conda/share/jupyter/kernels/sysml/sysml.library/Kernel Libraries/Kernel Semantic Library/SpatialFrames.kerml...\n",
      "Reading /home/sysml/conda/share/jupyter/kernels/sysml/sysml.library/Kernel Libraries/Kernel Data Type Library/VectorValues.kerml...\n",
      "Reading /home/sysml/conda/share/jupyter/kernels/sysml/sysml.library/Kernel Libraries/Kernel Data Type Library/Collections.kerml...\n",
      "Reading /home/sysml/conda/share/jupyter/kernels/sysml/sysml.library/Kernel Libraries/Kernel Data Type Library/ScalarValues.kerml...\n",
      "Reading /home/sysml/conda/share/jupyter/kernels/sysml/sysml.library/Kernel Libraries/Kernel Function Library/NaturalFunctions.kerml...\n",
      "Reading /home/sysml/conda/share/jupyter/kernels/sysml/sysml.library/Kernel Libraries/Kernel Function Library/BaseFunctions.kerml...\n",
      "Reading /home/sysml/conda/share/jupyter/kernels/sysml/sysml.library/Kernel Libraries/Kernel Function Library/DataFunctions.kerml...\n",
      "Reading /home/sysml/conda/share/jupyter/kernels/sysml/sysml.library/Kernel Libraries/Kernel Function Library/IntegerFunctions.kerml...\n",
      "Reading /home/sysml/conda/share/jupyter/kernels/sysml/sysml.library/Kernel Libraries/Kernel Function Library/RealFunctions.kerml...\n",
      "Reading /home/sysml/conda/share/jupyter/kernels/sysml/sysml.library/Kernel Libraries/Kernel Function Library/NumericalFunctions.kerml...\n",
      "Reading /home/sysml/conda/share/jupyter/kernels/sysml/sysml.library/Kernel Libraries/Kernel Function Library/VectorFunctions.kerml...\n",
      "Reading /home/sysml/conda/share/jupyter/kernels/sysml/sysml.library/Kernel Libraries/Kernel Function Library/SequenceFunctions.kerml...\n",
      "Reading /home/sysml/conda/share/jupyter/kernels/sysml/sysml.library/Kernel Libraries/Kernel Function Library/ComplexFunctions.kerml...\n",
      "Reading /home/sysml/conda/share/jupyter/kernels/sysml/sysml.library/Kernel Libraries/Kernel Function Library/RationalFunctions.kerml...\n",
      "Reading /home/sysml/conda/share/jupyter/kernels/sysml/sysml.library/Kernel Libraries/Kernel Function Library/StringFunctions.kerml...\n",
      "Reading /home/sysml/conda/share/jupyter/kernels/sysml/sysml.library/Kernel Libraries/Kernel Function Library/ScalarFunctions.kerml...\n"
     ]
    },
    {
     "name": "stdout",
     "output_type": "stream",
     "text": [
      "Reading /home/sysml/conda/share/jupyter/kernels/sysml/sysml.library/Kernel Libraries/Kernel Function Library/CollectionFunctions.kerml...\n",
      "Reading /home/sysml/conda/share/jupyter/kernels/sysml/sysml.library/Kernel Libraries/Kernel Function Library/BooleanFunctions.kerml...\n",
      "Reading /home/sysml/conda/share/jupyter/kernels/sysml/sysml.library/Kernel Libraries/Kernel Function Library/OccurrenceFunctions.kerml...\n",
      "Reading /home/sysml/conda/share/jupyter/kernels/sysml/sysml.library/Kernel Libraries/Kernel Function Library/TrigFunctions.kerml...\n",
      "Reading /home/sysml/conda/share/jupyter/kernels/sysml/sysml.library/Kernel Libraries/Kernel Function Library/ControlFunctions.kerml...\n",
      "Reading /home/sysml/conda/share/jupyter/kernels/sysml/sysml.library/Systems Library/Connections.sysml...\n",
      "Reading /home/sysml/conda/share/jupyter/kernels/sysml/sysml.library/Systems Library/States.sysml...\n",
      "Reading /home/sysml/conda/share/jupyter/kernels/sysml/sysml.library/Systems Library/Actions.sysml...\n",
      "Reading /home/sysml/conda/share/jupyter/kernels/sysml/sysml.library/Systems Library/Metadata.sysml...\n",
      "Reading /home/sysml/conda/share/jupyter/kernels/sysml/sysml.library/Systems Library/Requirements.sysml...\n"
     ]
    },
    {
     "name": "stdout",
     "output_type": "stream",
     "text": [
      "Reading /home/sysml/conda/share/jupyter/kernels/sysml/sysml.library/Systems Library/AnalysisCases.sysml...\n",
      "Reading /home/sysml/conda/share/jupyter/kernels/sysml/sysml.library/Systems Library/Attributes.sysml...\n",
      "Reading /home/sysml/conda/share/jupyter/kernels/sysml/sysml.library/Systems Library/Cases.sysml...\n",
      "Reading /home/sysml/conda/share/jupyter/kernels/sysml/sysml.library/Systems Library/VerificationCases.sysml...\n",
      "Reading /home/sysml/conda/share/jupyter/kernels/sysml/sysml.library/Systems Library/Interfaces.sysml...\n",
      "Reading /home/sysml/conda/share/jupyter/kernels/sysml/sysml.library/Systems Library/Ports.sysml...\n",
      "Reading /home/sysml/conda/share/jupyter/kernels/sysml/sysml.library/Systems Library/Views.sysml...\n",
      "Reading /home/sysml/conda/share/jupyter/kernels/sysml/sysml.library/Systems Library/UseCases.sysml...\n",
      "Reading /home/sysml/conda/share/jupyter/kernels/sysml/sysml.library/Systems Library/Parts.sysml...\n",
      "Reading /home/sysml/conda/share/jupyter/kernels/sysml/sysml.library/Systems Library/SysML.sysml...\n",
      "Reading /home/sysml/conda/share/jupyter/kernels/sysml/sysml.library/Systems Library/Constraints.sysml...\n",
      "Reading /home/sysml/conda/share/jupyter/kernels/sysml/sysml.library/Systems Library/Items.sysml...\n",
      "Reading /home/sysml/conda/share/jupyter/kernels/sysml/sysml.library/Systems Library/Calculations.sysml...\n",
      "Reading /home/sysml/conda/share/jupyter/kernels/sysml/sysml.library/Systems Library/StandardViewDefinitions.sysml...\n",
      "Reading /home/sysml/conda/share/jupyter/kernels/sysml/sysml.library/Systems Library/Allocations.sysml...\n",
      "Reading /home/sysml/conda/share/jupyter/kernels/sysml/sysml.library/Domain Libraries/Geometry/SpatialItems.sysml...\n",
      "Reading /home/sysml/conda/share/jupyter/kernels/sysml/sysml.library/Domain Libraries/Geometry/ShapeItems.sysml...\n"
     ]
    },
    {
     "name": "stdout",
     "output_type": "stream",
     "text": [
      "Reading /home/sysml/conda/share/jupyter/kernels/sysml/sysml.library/Domain Libraries/Analysis/TradeStudies.sysml...\n",
      "Reading /home/sysml/conda/share/jupyter/kernels/sysml/sysml.library/Domain Libraries/Analysis/StateSpaceRepresentation.sysml...\n",
      "Reading /home/sysml/conda/share/jupyter/kernels/sysml/sysml.library/Domain Libraries/Analysis/SampledFunctions.sysml...\n",
      "Reading /home/sysml/conda/share/jupyter/kernels/sysml/sysml.library/Domain Libraries/Analysis/AnalysisTooling.sysml...\n",
      "Reading /home/sysml/conda/share/jupyter/kernels/sysml/sysml.library/Domain Libraries/Cause and Effect/CausationConnections.sysml...\n",
      "Reading /home/sysml/conda/share/jupyter/kernels/sysml/sysml.library/Domain Libraries/Cause and Effect/CauseAndEffect.sysml...\n",
      "Reading /home/sysml/conda/share/jupyter/kernels/sysml/sysml.library/Domain Libraries/Quantities and Units/TensorCalculations.sysml...\n",
      "Reading /home/sysml/conda/share/jupyter/kernels/sysml/sysml.library/Domain Libraries/Quantities and Units/ISQSpaceTime.sysml...\n",
      "Reading /home/sysml/conda/share/jupyter/kernels/sysml/sysml.library/Domain Libraries/Quantities and Units/ISQElectromagnetism.sysml...\n",
      "Reading /home/sysml/conda/share/jupyter/kernels/sysml/sysml.library/Domain Libraries/Quantities and Units/USCustomaryUnits.sysml...\n"
     ]
    },
    {
     "name": "stdout",
     "output_type": "stream",
     "text": [
      "Reading /home/sysml/conda/share/jupyter/kernels/sysml/sysml.library/Domain Libraries/Quantities and Units/Time.sysml...\n",
      "Reading /home/sysml/conda/share/jupyter/kernels/sysml/sysml.library/Domain Libraries/Quantities and Units/MeasurementReferences.sysml...\n",
      "Reading /home/sysml/conda/share/jupyter/kernels/sysml/sysml.library/Domain Libraries/Quantities and Units/ISQBase.sysml...\n",
      "Reading /home/sysml/conda/share/jupyter/kernels/sysml/sysml.library/Domain Libraries/Quantities and Units/ISQCondensedMatter.sysml...\n",
      "Reading /home/sysml/conda/share/jupyter/kernels/sysml/sysml.library/Domain Libraries/Quantities and Units/ISQMechanics.sysml...\n",
      "Reading /home/sysml/conda/share/jupyter/kernels/sysml/sysml.library/Domain Libraries/Quantities and Units/SI.sysml...\n",
      "Reading /home/sysml/conda/share/jupyter/kernels/sysml/sysml.library/Domain Libraries/Quantities and Units/ISQCharacteristicNumbers.sysml...\n",
      "Reading /home/sysml/conda/share/jupyter/kernels/sysml/sysml.library/Domain Libraries/Quantities and Units/QuantityCalculations.sysml...\n",
      "Reading /home/sysml/conda/share/jupyter/kernels/sysml/sysml.library/Domain Libraries/Quantities and Units/MeasurementRefCalculations.sysml...\n",
      "Reading /home/sysml/conda/share/jupyter/kernels/sysml/sysml.library/Domain Libraries/Quantities and Units/ISQAtomicNuclear.sysml...\n",
      "Reading /home/sysml/conda/share/jupyter/kernels/sysml/sysml.library/Domain Libraries/Quantities and Units/ISQ.sysml...\n",
      "Reading /home/sysml/conda/share/jupyter/kernels/sysml/sysml.library/Domain Libraries/Quantities and Units/ISQAcoustics.sysml...\n",
      "Reading /home/sysml/conda/share/jupyter/kernels/sysml/sysml.library/Domain Libraries/Quantities and Units/ISQLight.sysml...\n"
     ]
    },
    {
     "name": "stdout",
     "output_type": "stream",
     "text": [
      "Reading /home/sysml/conda/share/jupyter/kernels/sysml/sysml.library/Domain Libraries/Quantities and Units/ISQInformation.sysml...\n",
      "Reading /home/sysml/conda/share/jupyter/kernels/sysml/sysml.library/Domain Libraries/Quantities and Units/ISQThermodynamics.sysml...\n",
      "Reading /home/sysml/conda/share/jupyter/kernels/sysml/sysml.library/Domain Libraries/Quantities and Units/SIPrefixes.sysml...\n",
      "Reading /home/sysml/conda/share/jupyter/kernels/sysml/sysml.library/Domain Libraries/Quantities and Units/VectorCalculations.sysml...\n",
      "Reading /home/sysml/conda/share/jupyter/kernels/sysml/sysml.library/Domain Libraries/Quantities and Units/ISQChemistryMolecular.sysml...\n",
      "Reading /home/sysml/conda/share/jupyter/kernels/sysml/sysml.library/Domain Libraries/Quantities and Units/Quantities.sysml...\n",
      "Reading /home/sysml/conda/share/jupyter/kernels/sysml/sysml.library/Domain Libraries/Metadata/ImageMetadata.sysml...\n",
      "Reading /home/sysml/conda/share/jupyter/kernels/sysml/sysml.library/Domain Libraries/Metadata/ModelingMetadata.sysml...\n",
      "Reading /home/sysml/conda/share/jupyter/kernels/sysml/sysml.library/Domain Libraries/Metadata/ParametersOfInterestMetadata.sysml...\n",
      "Reading /home/sysml/conda/share/jupyter/kernels/sysml/sysml.library/Domain Libraries/Metadata/RiskMetadata.sysml...\n",
      "Reading /home/sysml/conda/share/jupyter/kernels/sysml/sysml.library/Domain Libraries/Requirement Derivation/RequirementDerivation.sysml...\n",
      "Reading /home/sysml/conda/share/jupyter/kernels/sysml/sysml.library/Domain Libraries/Requirement Derivation/DerivationConnections.sysml...\n"
     ]
    },
    {
     "name": "stderr",
     "output_type": "stream",
     "text": [
      "Dec 16, 2024 3:28:40 AM io.github.spencerpark.jupyter.channels.Loop start\n",
      "INFO: Loop starting...\n",
      "Dec 16, 2024 3:28:40 AM io.github.spencerpark.jupyter.channels.Loop start\n",
      "INFO: Loop started.\n",
      "Dec 16, 2024 3:28:40 AM io.github.spencerpark.jupyter.channels.Loop start\n",
      "INFO: Loop starting...\n",
      "Dec 16, 2024 3:28:40 AM io.github.spencerpark.jupyter.channels.Loop start\n",
      "INFO: Loop started.\n",
      "Dec 16, 2024 3:28:40 AM io.github.spencerpark.jupyter.channels.Loop start\n",
      "INFO: Loop starting...\n",
      "Dec 16, 2024 3:28:40 AM io.github.spencerpark.jupyter.channels.Loop start\n",
      "INFO: Loop started.\n"
     ]
    },
    {
     "name": "stderr",
     "output_type": "stream",
     "text": [
      "Dec 16, 2024 3:28:48 AM io.github.spencerpark.jupyter.channels.Loop shutdown\n",
      "INFO: Loop shutdown.\n",
      "Dec 16, 2024 3:28:48 AM io.github.spencerpark.jupyter.channels.Loop shutdown\n",
      "INFO: Loop shutdown.\n",
      "Dec 16, 2024 3:28:48 AM io.github.spencerpark.jupyter.channels.Loop shutdown\n",
      "INFO: Loop shutdown.\n",
      "Dec 16, 2024 3:28:48 AM io.github.spencerpark.jupyter.channels.Loop run\n",
      "INFO: Running loop shutdown callback.\n",
      "Dec 16, 2024 3:28:48 AM io.github.spencerpark.jupyter.channels.Loop run\n",
      "INFO: Loop stopped.\n",
      "Dec 16, 2024 3:28:48 AM io.github.spencerpark.jupyter.channels.Loop run\n",
      "INFO: Running loop shutdown callback.\n",
      "Dec 16, 2024 3:28:48 AM io.github.spencerpark.jupyter.channels.Loop run\n",
      "INFO: Loop stopped.\n",
      "Dec 16, 2024 3:28:48 AM io.github.spencerpark.jupyter.channels.Loop run\n",
      "INFO: Running loop shutdown callback.\n",
      "Dec 16, 2024 3:28:48 AM io.github.spencerpark.jupyter.channels.Loop run\n",
      "INFO: Loop stopped.\n"
     ]
    },
    {
     "name": "stdout",
     "output_type": "stream",
     "text": [
      "Signing notebook: TestSuite/ActionTest.ipynb\n",
      "Executing: TestSuite/DefaultValueTest.ipynb\n"
     ]
    },
    {
     "name": "stderr",
     "output_type": "stream",
     "text": [
      "/home/sysml/conda/lib/python3.12/site-packages/nbformat/__init__.py:96: MissingIDFieldWarning: Cell is missing an id field, this will become a hard error in future nbformat versions. You may want to use `normalize()` on your notebooks before validations (available since nbformat 5.1.4). Previous versions of nbformat are fixing this issue transparently, and will stop doing so in the future.\n",
      "  validate(nb)\n"
     ]
    },
    {
     "name": "stdout",
     "output_type": "stream",
     "text": [
      "Reading /home/sysml/conda/share/jupyter/kernels/sysml/sysml.library/Kernel Libraries/Kernel Semantic Library/Observation.kerml...\n"
     ]
    },
    {
     "name": "stderr",
     "output_type": "stream",
     "text": [
      "log4j:WARN No appenders could be found for logger (org.eclipse.xtext.parser.antlr.AbstractInternalAntlrParser).\n",
      "log4j:WARN Please initialize the log4j system properly.\n",
      "log4j:WARN See http://logging.apache.org/log4j/1.2/faq.html#noconfig for more info.\n"
     ]
    },
    {
     "name": "stdout",
     "output_type": "stream",
     "text": [
      "Reading /home/sysml/conda/share/jupyter/kernels/sysml/sysml.library/Kernel Libraries/Kernel Semantic Library/Transfers.kerml...\n",
      "Reading /home/sysml/conda/share/jupyter/kernels/sysml/sysml.library/Kernel Libraries/Kernel Semantic Library/Metaobjects.kerml...\n",
      "Reading /home/sysml/conda/share/jupyter/kernels/sysml/sysml.library/Kernel Libraries/Kernel Semantic Library/Triggers.kerml...\n",
      "Reading /home/sysml/conda/share/jupyter/kernels/sysml/sysml.library/Kernel Libraries/Kernel Semantic Library/Links.kerml...\n",
      "Reading /home/sysml/conda/share/jupyter/kernels/sysml/sysml.library/Kernel Libraries/Kernel Semantic Library/Base.kerml...\n",
      "Reading /home/sysml/conda/share/jupyter/kernels/sysml/sysml.library/Kernel Libraries/Kernel Semantic Library/Objects.kerml...\n",
      "Reading /home/sysml/conda/share/jupyter/kernels/sysml/sysml.library/Kernel Libraries/Kernel Semantic Library/Clocks.kerml...\n",
      "Reading /home/sysml/conda/share/jupyter/kernels/sysml/sysml.library/Kernel Libraries/Kernel Semantic Library/KerML.kerml...\n"
     ]
    },
    {
     "name": "stdout",
     "output_type": "stream",
     "text": [
      "Reading /home/sysml/conda/share/jupyter/kernels/sysml/sysml.library/Kernel Libraries/Kernel Semantic Library/FeatureReferencingPerformances.kerml...\n",
      "Reading /home/sysml/conda/share/jupyter/kernels/sysml/sysml.library/Kernel Libraries/Kernel Semantic Library/Performances.kerml...\n",
      "Reading /home/sysml/conda/share/jupyter/kernels/sysml/sysml.library/Kernel Libraries/Kernel Semantic Library/Occurrences.kerml...\n",
      "Reading /home/sysml/conda/share/jupyter/kernels/sysml/sysml.library/Kernel Libraries/Kernel Semantic Library/ControlPerformances.kerml...\n",
      "Reading /home/sysml/conda/share/jupyter/kernels/sysml/sysml.library/Kernel Libraries/Kernel Semantic Library/StatePerformances.kerml...\n",
      "Reading /home/sysml/conda/share/jupyter/kernels/sysml/sysml.library/Kernel Libraries/Kernel Semantic Library/TransitionPerformances.kerml...\n",
      "Reading /home/sysml/conda/share/jupyter/kernels/sysml/sysml.library/Kernel Libraries/Kernel Semantic Library/SpatialFrames.kerml...\n",
      "Reading /home/sysml/conda/share/jupyter/kernels/sysml/sysml.library/Kernel Libraries/Kernel Data Type Library/VectorValues.kerml...\n",
      "Reading /home/sysml/conda/share/jupyter/kernels/sysml/sysml.library/Kernel Libraries/Kernel Data Type Library/Collections.kerml...\n",
      "Reading /home/sysml/conda/share/jupyter/kernels/sysml/sysml.library/Kernel Libraries/Kernel Data Type Library/ScalarValues.kerml...\n",
      "Reading /home/sysml/conda/share/jupyter/kernels/sysml/sysml.library/Kernel Libraries/Kernel Function Library/NaturalFunctions.kerml...\n",
      "Reading /home/sysml/conda/share/jupyter/kernels/sysml/sysml.library/Kernel Libraries/Kernel Function Library/BaseFunctions.kerml...\n",
      "Reading /home/sysml/conda/share/jupyter/kernels/sysml/sysml.library/Kernel Libraries/Kernel Function Library/DataFunctions.kerml...\n",
      "Reading /home/sysml/conda/share/jupyter/kernels/sysml/sysml.library/Kernel Libraries/Kernel Function Library/IntegerFunctions.kerml...\n",
      "Reading /home/sysml/conda/share/jupyter/kernels/sysml/sysml.library/Kernel Libraries/Kernel Function Library/RealFunctions.kerml...\n",
      "Reading /home/sysml/conda/share/jupyter/kernels/sysml/sysml.library/Kernel Libraries/Kernel Function Library/NumericalFunctions.kerml...\n"
     ]
    },
    {
     "name": "stdout",
     "output_type": "stream",
     "text": [
      "Reading /home/sysml/conda/share/jupyter/kernels/sysml/sysml.library/Kernel Libraries/Kernel Function Library/VectorFunctions.kerml...\n",
      "Reading /home/sysml/conda/share/jupyter/kernels/sysml/sysml.library/Kernel Libraries/Kernel Function Library/SequenceFunctions.kerml...\n",
      "Reading /home/sysml/conda/share/jupyter/kernels/sysml/sysml.library/Kernel Libraries/Kernel Function Library/ComplexFunctions.kerml...\n",
      "Reading /home/sysml/conda/share/jupyter/kernels/sysml/sysml.library/Kernel Libraries/Kernel Function Library/RationalFunctions.kerml...\n",
      "Reading /home/sysml/conda/share/jupyter/kernels/sysml/sysml.library/Kernel Libraries/Kernel Function Library/StringFunctions.kerml...\n",
      "Reading /home/sysml/conda/share/jupyter/kernels/sysml/sysml.library/Kernel Libraries/Kernel Function Library/ScalarFunctions.kerml...\n",
      "Reading /home/sysml/conda/share/jupyter/kernels/sysml/sysml.library/Kernel Libraries/Kernel Function Library/CollectionFunctions.kerml...\n",
      "Reading /home/sysml/conda/share/jupyter/kernels/sysml/sysml.library/Kernel Libraries/Kernel Function Library/BooleanFunctions.kerml...\n",
      "Reading /home/sysml/conda/share/jupyter/kernels/sysml/sysml.library/Kernel Libraries/Kernel Function Library/OccurrenceFunctions.kerml...\n",
      "Reading /home/sysml/conda/share/jupyter/kernels/sysml/sysml.library/Kernel Libraries/Kernel Function Library/TrigFunctions.kerml...\n",
      "Reading /home/sysml/conda/share/jupyter/kernels/sysml/sysml.library/Kernel Libraries/Kernel Function Library/ControlFunctions.kerml...\n",
      "Reading /home/sysml/conda/share/jupyter/kernels/sysml/sysml.library/Systems Library/Connections.sysml...\n"
     ]
    },
    {
     "name": "stdout",
     "output_type": "stream",
     "text": [
      "Reading /home/sysml/conda/share/jupyter/kernels/sysml/sysml.library/Systems Library/States.sysml...\n",
      "Reading /home/sysml/conda/share/jupyter/kernels/sysml/sysml.library/Systems Library/Actions.sysml...\n",
      "Reading /home/sysml/conda/share/jupyter/kernels/sysml/sysml.library/Systems Library/Metadata.sysml...\n",
      "Reading /home/sysml/conda/share/jupyter/kernels/sysml/sysml.library/Systems Library/Requirements.sysml...\n",
      "Reading /home/sysml/conda/share/jupyter/kernels/sysml/sysml.library/Systems Library/AnalysisCases.sysml...\n",
      "Reading /home/sysml/conda/share/jupyter/kernels/sysml/sysml.library/Systems Library/Attributes.sysml...\n",
      "Reading /home/sysml/conda/share/jupyter/kernels/sysml/sysml.library/Systems Library/Cases.sysml...\n",
      "Reading /home/sysml/conda/share/jupyter/kernels/sysml/sysml.library/Systems Library/VerificationCases.sysml...\n",
      "Reading /home/sysml/conda/share/jupyter/kernels/sysml/sysml.library/Systems Library/Interfaces.sysml...\n",
      "Reading /home/sysml/conda/share/jupyter/kernels/sysml/sysml.library/Systems Library/Ports.sysml...\n",
      "Reading /home/sysml/conda/share/jupyter/kernels/sysml/sysml.library/Systems Library/Views.sysml...\n",
      "Reading /home/sysml/conda/share/jupyter/kernels/sysml/sysml.library/Systems Library/UseCases.sysml...\n",
      "Reading /home/sysml/conda/share/jupyter/kernels/sysml/sysml.library/Systems Library/Parts.sysml...\n",
      "Reading /home/sysml/conda/share/jupyter/kernels/sysml/sysml.library/Systems Library/SysML.sysml...\n",
      "Reading /home/sysml/conda/share/jupyter/kernels/sysml/sysml.library/Systems Library/Constraints.sysml...\n",
      "Reading /home/sysml/conda/share/jupyter/kernels/sysml/sysml.library/Systems Library/Items.sysml...\n",
      "Reading /home/sysml/conda/share/jupyter/kernels/sysml/sysml.library/Systems Library/Calculations.sysml...\n",
      "Reading /home/sysml/conda/share/jupyter/kernels/sysml/sysml.library/Systems Library/StandardViewDefinitions.sysml...\n",
      "Reading /home/sysml/conda/share/jupyter/kernels/sysml/sysml.library/Systems Library/Allocations.sysml...\n"
     ]
    },
    {
     "name": "stdout",
     "output_type": "stream",
     "text": [
      "Reading /home/sysml/conda/share/jupyter/kernels/sysml/sysml.library/Domain Libraries/Geometry/SpatialItems.sysml...\n",
      "Reading /home/sysml/conda/share/jupyter/kernels/sysml/sysml.library/Domain Libraries/Geometry/ShapeItems.sysml...\n",
      "Reading /home/sysml/conda/share/jupyter/kernels/sysml/sysml.library/Domain Libraries/Analysis/TradeStudies.sysml...\n",
      "Reading /home/sysml/conda/share/jupyter/kernels/sysml/sysml.library/Domain Libraries/Analysis/StateSpaceRepresentation.sysml...\n",
      "Reading /home/sysml/conda/share/jupyter/kernels/sysml/sysml.library/Domain Libraries/Analysis/SampledFunctions.sysml...\n",
      "Reading /home/sysml/conda/share/jupyter/kernels/sysml/sysml.library/Domain Libraries/Analysis/AnalysisTooling.sysml...\n",
      "Reading /home/sysml/conda/share/jupyter/kernels/sysml/sysml.library/Domain Libraries/Cause and Effect/CausationConnections.sysml...\n",
      "Reading /home/sysml/conda/share/jupyter/kernels/sysml/sysml.library/Domain Libraries/Cause and Effect/CauseAndEffect.sysml...\n",
      "Reading /home/sysml/conda/share/jupyter/kernels/sysml/sysml.library/Domain Libraries/Quantities and Units/TensorCalculations.sysml...\n",
      "Reading /home/sysml/conda/share/jupyter/kernels/sysml/sysml.library/Domain Libraries/Quantities and Units/ISQSpaceTime.sysml...\n",
      "Reading /home/sysml/conda/share/jupyter/kernels/sysml/sysml.library/Domain Libraries/Quantities and Units/ISQElectromagnetism.sysml...\n"
     ]
    },
    {
     "name": "stdout",
     "output_type": "stream",
     "text": [
      "Reading /home/sysml/conda/share/jupyter/kernels/sysml/sysml.library/Domain Libraries/Quantities and Units/USCustomaryUnits.sysml...\n",
      "Reading /home/sysml/conda/share/jupyter/kernels/sysml/sysml.library/Domain Libraries/Quantities and Units/Time.sysml...\n",
      "Reading /home/sysml/conda/share/jupyter/kernels/sysml/sysml.library/Domain Libraries/Quantities and Units/MeasurementReferences.sysml...\n",
      "Reading /home/sysml/conda/share/jupyter/kernels/sysml/sysml.library/Domain Libraries/Quantities and Units/ISQBase.sysml...\n",
      "Reading /home/sysml/conda/share/jupyter/kernels/sysml/sysml.library/Domain Libraries/Quantities and Units/ISQCondensedMatter.sysml...\n",
      "Reading /home/sysml/conda/share/jupyter/kernels/sysml/sysml.library/Domain Libraries/Quantities and Units/ISQMechanics.sysml...\n",
      "Reading /home/sysml/conda/share/jupyter/kernels/sysml/sysml.library/Domain Libraries/Quantities and Units/SI.sysml...\n",
      "Reading /home/sysml/conda/share/jupyter/kernels/sysml/sysml.library/Domain Libraries/Quantities and Units/ISQCharacteristicNumbers.sysml...\n",
      "Reading /home/sysml/conda/share/jupyter/kernels/sysml/sysml.library/Domain Libraries/Quantities and Units/QuantityCalculations.sysml...\n",
      "Reading /home/sysml/conda/share/jupyter/kernels/sysml/sysml.library/Domain Libraries/Quantities and Units/MeasurementRefCalculations.sysml...\n",
      "Reading /home/sysml/conda/share/jupyter/kernels/sysml/sysml.library/Domain Libraries/Quantities and Units/ISQAtomicNuclear.sysml...\n"
     ]
    },
    {
     "name": "stdout",
     "output_type": "stream",
     "text": [
      "Reading /home/sysml/conda/share/jupyter/kernels/sysml/sysml.library/Domain Libraries/Quantities and Units/ISQ.sysml...\n",
      "Reading /home/sysml/conda/share/jupyter/kernels/sysml/sysml.library/Domain Libraries/Quantities and Units/ISQAcoustics.sysml...\n",
      "Reading /home/sysml/conda/share/jupyter/kernels/sysml/sysml.library/Domain Libraries/Quantities and Units/ISQLight.sysml...\n",
      "Reading /home/sysml/conda/share/jupyter/kernels/sysml/sysml.library/Domain Libraries/Quantities and Units/ISQInformation.sysml...\n",
      "Reading /home/sysml/conda/share/jupyter/kernels/sysml/sysml.library/Domain Libraries/Quantities and Units/ISQThermodynamics.sysml...\n",
      "Reading /home/sysml/conda/share/jupyter/kernels/sysml/sysml.library/Domain Libraries/Quantities and Units/SIPrefixes.sysml...\n",
      "Reading /home/sysml/conda/share/jupyter/kernels/sysml/sysml.library/Domain Libraries/Quantities and Units/VectorCalculations.sysml...\n",
      "Reading /home/sysml/conda/share/jupyter/kernels/sysml/sysml.library/Domain Libraries/Quantities and Units/ISQChemistryMolecular.sysml...\n",
      "Reading /home/sysml/conda/share/jupyter/kernels/sysml/sysml.library/Domain Libraries/Quantities and Units/Quantities.sysml...\n",
      "Reading /home/sysml/conda/share/jupyter/kernels/sysml/sysml.library/Domain Libraries/Metadata/ImageMetadata.sysml...\n",
      "Reading /home/sysml/conda/share/jupyter/kernels/sysml/sysml.library/Domain Libraries/Metadata/ModelingMetadata.sysml...\n",
      "Reading /home/sysml/conda/share/jupyter/kernels/sysml/sysml.library/Domain Libraries/Metadata/ParametersOfInterestMetadata.sysml...\n",
      "Reading /home/sysml/conda/share/jupyter/kernels/sysml/sysml.library/Domain Libraries/Metadata/RiskMetadata.sysml...\n",
      "Reading /home/sysml/conda/share/jupyter/kernels/sysml/sysml.library/Domain Libraries/Requirement Derivation/RequirementDerivation.sysml...\n",
      "Reading /home/sysml/conda/share/jupyter/kernels/sysml/sysml.library/Domain Libraries/Requirement Derivation/DerivationConnections.sysml...\n"
     ]
    },
    {
     "name": "stderr",
     "output_type": "stream",
     "text": [
      "Dec 16, 2024 3:28:52 AM io.github.spencerpark.jupyter.channels.Loop start\n",
      "INFO: Loop starting...\n",
      "Dec 16, 2024 3:28:52 AM io.github.spencerpark.jupyter.channels.Loop start\n",
      "INFO: Loop started.\n",
      "Dec 16, 2024 3:28:52 AM io.github.spencerpark.jupyter.channels.Loop start\n",
      "INFO: Loop starting...\n",
      "Dec 16, 2024 3:28:52 AM io.github.spencerpark.jupyter.channels.Loop start\n",
      "INFO: Loop started.\n",
      "Dec 16, 2024 3:28:52 AM io.github.spencerpark.jupyter.channels.Loop start\n",
      "INFO: Loop starting...\n",
      "Dec 16, 2024 3:28:52 AM io.github.spencerpark.jupyter.channels.Loop start\n",
      "INFO: Loop started.\n"
     ]
    },
    {
     "name": "stderr",
     "output_type": "stream",
     "text": [
      "Dec 16, 2024 3:28:57 AM io.github.spencerpark.jupyter.channels.Loop shutdown\n",
      "INFO: Loop shutdown.\n",
      "Dec 16, 2024 3:28:57 AM io.github.spencerpark.jupyter.channels.Loop shutdown\n",
      "INFO: Loop shutdown.\n",
      "Dec 16, 2024 3:28:57 AM io.github.spencerpark.jupyter.channels.Loop shutdown\n",
      "INFO: Loop shutdown.\n",
      "Dec 16, 2024 3:28:57 AM io.github.spencerpark.jupyter.channels.Loop run\n",
      "INFO: Running loop shutdown callback.\n",
      "Dec 16, 2024 3:28:57 AM io.github.spencerpark.jupyter.channels.Loop run\n",
      "INFO: Loop stopped.\n",
      "Dec 16, 2024 3:28:58 AM io.github.spencerpark.jupyter.channels.Loop run\n",
      "INFO: Running loop shutdown callback.\n",
      "Dec 16, 2024 3:28:58 AM io.github.spencerpark.jupyter.channels.Loop run\n",
      "INFO: Loop stopped.\n",
      "Dec 16, 2024 3:28:58 AM io.github.spencerpark.jupyter.channels.Loop run\n",
      "INFO: Running loop shutdown callback.\n",
      "Dec 16, 2024 3:28:58 AM io.github.spencerpark.jupyter.channels.Loop run\n",
      "INFO: Loop stopped.\n"
     ]
    },
    {
     "name": "stdout",
     "output_type": "stream",
     "text": [
      "Signing notebook: TestSuite/DefaultValueTest.ipynb\n",
      "Executing: TestSuite/UseCaseTest.ipynb\n"
     ]
    },
    {
     "name": "stderr",
     "output_type": "stream",
     "text": [
      "/home/sysml/conda/lib/python3.12/site-packages/nbformat/__init__.py:96: MissingIDFieldWarning: Cell is missing an id field, this will become a hard error in future nbformat versions. You may want to use `normalize()` on your notebooks before validations (available since nbformat 5.1.4). Previous versions of nbformat are fixing this issue transparently, and will stop doing so in the future.\n",
      "  validate(nb)\n"
     ]
    },
    {
     "name": "stdout",
     "output_type": "stream",
     "text": [
      "Reading /home/sysml/conda/share/jupyter/kernels/sysml/sysml.library/Kernel Libraries/Kernel Semantic Library/Observation.kerml...\n"
     ]
    },
    {
     "name": "stderr",
     "output_type": "stream",
     "text": [
      "log4j:WARN No appenders could be found for logger (org.eclipse.xtext.parser.antlr.AbstractInternalAntlrParser).\n",
      "log4j:WARN Please initialize the log4j system properly.\n",
      "log4j:WARN See http://logging.apache.org/log4j/1.2/faq.html#noconfig for more info.\n"
     ]
    },
    {
     "name": "stdout",
     "output_type": "stream",
     "text": [
      "Reading /home/sysml/conda/share/jupyter/kernels/sysml/sysml.library/Kernel Libraries/Kernel Semantic Library/Transfers.kerml...\n",
      "Reading /home/sysml/conda/share/jupyter/kernels/sysml/sysml.library/Kernel Libraries/Kernel Semantic Library/Metaobjects.kerml...\n",
      "Reading /home/sysml/conda/share/jupyter/kernels/sysml/sysml.library/Kernel Libraries/Kernel Semantic Library/Triggers.kerml...\n",
      "Reading /home/sysml/conda/share/jupyter/kernels/sysml/sysml.library/Kernel Libraries/Kernel Semantic Library/Links.kerml...\n",
      "Reading /home/sysml/conda/share/jupyter/kernels/sysml/sysml.library/Kernel Libraries/Kernel Semantic Library/Base.kerml...\n",
      "Reading /home/sysml/conda/share/jupyter/kernels/sysml/sysml.library/Kernel Libraries/Kernel Semantic Library/Objects.kerml...\n",
      "Reading /home/sysml/conda/share/jupyter/kernels/sysml/sysml.library/Kernel Libraries/Kernel Semantic Library/Clocks.kerml...\n",
      "Reading /home/sysml/conda/share/jupyter/kernels/sysml/sysml.library/Kernel Libraries/Kernel Semantic Library/KerML.kerml...\n"
     ]
    },
    {
     "name": "stdout",
     "output_type": "stream",
     "text": [
      "Reading /home/sysml/conda/share/jupyter/kernels/sysml/sysml.library/Kernel Libraries/Kernel Semantic Library/FeatureReferencingPerformances.kerml...\n",
      "Reading /home/sysml/conda/share/jupyter/kernels/sysml/sysml.library/Kernel Libraries/Kernel Semantic Library/Performances.kerml...\n",
      "Reading /home/sysml/conda/share/jupyter/kernels/sysml/sysml.library/Kernel Libraries/Kernel Semantic Library/Occurrences.kerml...\n",
      "Reading /home/sysml/conda/share/jupyter/kernels/sysml/sysml.library/Kernel Libraries/Kernel Semantic Library/ControlPerformances.kerml...\n",
      "Reading /home/sysml/conda/share/jupyter/kernels/sysml/sysml.library/Kernel Libraries/Kernel Semantic Library/StatePerformances.kerml...\n",
      "Reading /home/sysml/conda/share/jupyter/kernels/sysml/sysml.library/Kernel Libraries/Kernel Semantic Library/TransitionPerformances.kerml...\n",
      "Reading /home/sysml/conda/share/jupyter/kernels/sysml/sysml.library/Kernel Libraries/Kernel Semantic Library/SpatialFrames.kerml...\n",
      "Reading /home/sysml/conda/share/jupyter/kernels/sysml/sysml.library/Kernel Libraries/Kernel Data Type Library/VectorValues.kerml...\n",
      "Reading /home/sysml/conda/share/jupyter/kernels/sysml/sysml.library/Kernel Libraries/Kernel Data Type Library/Collections.kerml...\n",
      "Reading /home/sysml/conda/share/jupyter/kernels/sysml/sysml.library/Kernel Libraries/Kernel Data Type Library/ScalarValues.kerml...\n",
      "Reading /home/sysml/conda/share/jupyter/kernels/sysml/sysml.library/Kernel Libraries/Kernel Function Library/NaturalFunctions.kerml...\n",
      "Reading /home/sysml/conda/share/jupyter/kernels/sysml/sysml.library/Kernel Libraries/Kernel Function Library/BaseFunctions.kerml...\n",
      "Reading /home/sysml/conda/share/jupyter/kernels/sysml/sysml.library/Kernel Libraries/Kernel Function Library/DataFunctions.kerml...\n",
      "Reading /home/sysml/conda/share/jupyter/kernels/sysml/sysml.library/Kernel Libraries/Kernel Function Library/IntegerFunctions.kerml...\n",
      "Reading /home/sysml/conda/share/jupyter/kernels/sysml/sysml.library/Kernel Libraries/Kernel Function Library/RealFunctions.kerml...\n",
      "Reading /home/sysml/conda/share/jupyter/kernels/sysml/sysml.library/Kernel Libraries/Kernel Function Library/NumericalFunctions.kerml...\n"
     ]
    },
    {
     "name": "stdout",
     "output_type": "stream",
     "text": [
      "Reading /home/sysml/conda/share/jupyter/kernels/sysml/sysml.library/Kernel Libraries/Kernel Function Library/VectorFunctions.kerml...\n",
      "Reading /home/sysml/conda/share/jupyter/kernels/sysml/sysml.library/Kernel Libraries/Kernel Function Library/SequenceFunctions.kerml...\n",
      "Reading /home/sysml/conda/share/jupyter/kernels/sysml/sysml.library/Kernel Libraries/Kernel Function Library/ComplexFunctions.kerml...\n",
      "Reading /home/sysml/conda/share/jupyter/kernels/sysml/sysml.library/Kernel Libraries/Kernel Function Library/RationalFunctions.kerml...\n",
      "Reading /home/sysml/conda/share/jupyter/kernels/sysml/sysml.library/Kernel Libraries/Kernel Function Library/StringFunctions.kerml...\n",
      "Reading /home/sysml/conda/share/jupyter/kernels/sysml/sysml.library/Kernel Libraries/Kernel Function Library/ScalarFunctions.kerml...\n",
      "Reading /home/sysml/conda/share/jupyter/kernels/sysml/sysml.library/Kernel Libraries/Kernel Function Library/CollectionFunctions.kerml...\n",
      "Reading /home/sysml/conda/share/jupyter/kernels/sysml/sysml.library/Kernel Libraries/Kernel Function Library/BooleanFunctions.kerml...\n",
      "Reading /home/sysml/conda/share/jupyter/kernels/sysml/sysml.library/Kernel Libraries/Kernel Function Library/OccurrenceFunctions.kerml...\n",
      "Reading /home/sysml/conda/share/jupyter/kernels/sysml/sysml.library/Kernel Libraries/Kernel Function Library/TrigFunctions.kerml...\n",
      "Reading /home/sysml/conda/share/jupyter/kernels/sysml/sysml.library/Kernel Libraries/Kernel Function Library/ControlFunctions.kerml...\n",
      "Reading /home/sysml/conda/share/jupyter/kernels/sysml/sysml.library/Systems Library/Connections.sysml...\n"
     ]
    },
    {
     "name": "stdout",
     "output_type": "stream",
     "text": [
      "Reading /home/sysml/conda/share/jupyter/kernels/sysml/sysml.library/Systems Library/States.sysml...\n",
      "Reading /home/sysml/conda/share/jupyter/kernels/sysml/sysml.library/Systems Library/Actions.sysml...\n",
      "Reading /home/sysml/conda/share/jupyter/kernels/sysml/sysml.library/Systems Library/Metadata.sysml...\n",
      "Reading /home/sysml/conda/share/jupyter/kernels/sysml/sysml.library/Systems Library/Requirements.sysml...\n",
      "Reading /home/sysml/conda/share/jupyter/kernels/sysml/sysml.library/Systems Library/AnalysisCases.sysml...\n",
      "Reading /home/sysml/conda/share/jupyter/kernels/sysml/sysml.library/Systems Library/Attributes.sysml...\n",
      "Reading /home/sysml/conda/share/jupyter/kernels/sysml/sysml.library/Systems Library/Cases.sysml...\n",
      "Reading /home/sysml/conda/share/jupyter/kernels/sysml/sysml.library/Systems Library/VerificationCases.sysml...\n",
      "Reading /home/sysml/conda/share/jupyter/kernels/sysml/sysml.library/Systems Library/Interfaces.sysml...\n",
      "Reading /home/sysml/conda/share/jupyter/kernels/sysml/sysml.library/Systems Library/Ports.sysml...\n",
      "Reading /home/sysml/conda/share/jupyter/kernels/sysml/sysml.library/Systems Library/Views.sysml...\n",
      "Reading /home/sysml/conda/share/jupyter/kernels/sysml/sysml.library/Systems Library/UseCases.sysml...\n",
      "Reading /home/sysml/conda/share/jupyter/kernels/sysml/sysml.library/Systems Library/Parts.sysml...\n",
      "Reading /home/sysml/conda/share/jupyter/kernels/sysml/sysml.library/Systems Library/SysML.sysml...\n",
      "Reading /home/sysml/conda/share/jupyter/kernels/sysml/sysml.library/Systems Library/Constraints.sysml...\n",
      "Reading /home/sysml/conda/share/jupyter/kernels/sysml/sysml.library/Systems Library/Items.sysml...\n",
      "Reading /home/sysml/conda/share/jupyter/kernels/sysml/sysml.library/Systems Library/Calculations.sysml...\n",
      "Reading /home/sysml/conda/share/jupyter/kernels/sysml/sysml.library/Systems Library/StandardViewDefinitions.sysml...\n",
      "Reading /home/sysml/conda/share/jupyter/kernels/sysml/sysml.library/Systems Library/Allocations.sysml...\n"
     ]
    },
    {
     "name": "stdout",
     "output_type": "stream",
     "text": [
      "Reading /home/sysml/conda/share/jupyter/kernels/sysml/sysml.library/Domain Libraries/Geometry/SpatialItems.sysml...\n",
      "Reading /home/sysml/conda/share/jupyter/kernels/sysml/sysml.library/Domain Libraries/Geometry/ShapeItems.sysml...\n",
      "Reading /home/sysml/conda/share/jupyter/kernels/sysml/sysml.library/Domain Libraries/Analysis/TradeStudies.sysml...\n",
      "Reading /home/sysml/conda/share/jupyter/kernels/sysml/sysml.library/Domain Libraries/Analysis/StateSpaceRepresentation.sysml...\n",
      "Reading /home/sysml/conda/share/jupyter/kernels/sysml/sysml.library/Domain Libraries/Analysis/SampledFunctions.sysml...\n",
      "Reading /home/sysml/conda/share/jupyter/kernels/sysml/sysml.library/Domain Libraries/Analysis/AnalysisTooling.sysml...\n",
      "Reading /home/sysml/conda/share/jupyter/kernels/sysml/sysml.library/Domain Libraries/Cause and Effect/CausationConnections.sysml...\n",
      "Reading /home/sysml/conda/share/jupyter/kernels/sysml/sysml.library/Domain Libraries/Cause and Effect/CauseAndEffect.sysml...\n",
      "Reading /home/sysml/conda/share/jupyter/kernels/sysml/sysml.library/Domain Libraries/Quantities and Units/TensorCalculations.sysml...\n",
      "Reading /home/sysml/conda/share/jupyter/kernels/sysml/sysml.library/Domain Libraries/Quantities and Units/ISQSpaceTime.sysml...\n",
      "Reading /home/sysml/conda/share/jupyter/kernels/sysml/sysml.library/Domain Libraries/Quantities and Units/ISQElectromagnetism.sysml...\n"
     ]
    },
    {
     "name": "stdout",
     "output_type": "stream",
     "text": [
      "Reading /home/sysml/conda/share/jupyter/kernels/sysml/sysml.library/Domain Libraries/Quantities and Units/USCustomaryUnits.sysml...\n",
      "Reading /home/sysml/conda/share/jupyter/kernels/sysml/sysml.library/Domain Libraries/Quantities and Units/Time.sysml...\n",
      "Reading /home/sysml/conda/share/jupyter/kernels/sysml/sysml.library/Domain Libraries/Quantities and Units/MeasurementReferences.sysml...\n",
      "Reading /home/sysml/conda/share/jupyter/kernels/sysml/sysml.library/Domain Libraries/Quantities and Units/ISQBase.sysml...\n",
      "Reading /home/sysml/conda/share/jupyter/kernels/sysml/sysml.library/Domain Libraries/Quantities and Units/ISQCondensedMatter.sysml...\n",
      "Reading /home/sysml/conda/share/jupyter/kernels/sysml/sysml.library/Domain Libraries/Quantities and Units/ISQMechanics.sysml...\n",
      "Reading /home/sysml/conda/share/jupyter/kernels/sysml/sysml.library/Domain Libraries/Quantities and Units/SI.sysml...\n",
      "Reading /home/sysml/conda/share/jupyter/kernels/sysml/sysml.library/Domain Libraries/Quantities and Units/ISQCharacteristicNumbers.sysml...\n",
      "Reading /home/sysml/conda/share/jupyter/kernels/sysml/sysml.library/Domain Libraries/Quantities and Units/QuantityCalculations.sysml...\n",
      "Reading /home/sysml/conda/share/jupyter/kernels/sysml/sysml.library/Domain Libraries/Quantities and Units/MeasurementRefCalculations.sysml...\n",
      "Reading /home/sysml/conda/share/jupyter/kernels/sysml/sysml.library/Domain Libraries/Quantities and Units/ISQAtomicNuclear.sysml...\n"
     ]
    },
    {
     "name": "stdout",
     "output_type": "stream",
     "text": [
      "Reading /home/sysml/conda/share/jupyter/kernels/sysml/sysml.library/Domain Libraries/Quantities and Units/ISQ.sysml...\n",
      "Reading /home/sysml/conda/share/jupyter/kernels/sysml/sysml.library/Domain Libraries/Quantities and Units/ISQAcoustics.sysml...\n",
      "Reading /home/sysml/conda/share/jupyter/kernels/sysml/sysml.library/Domain Libraries/Quantities and Units/ISQLight.sysml...\n",
      "Reading /home/sysml/conda/share/jupyter/kernels/sysml/sysml.library/Domain Libraries/Quantities and Units/ISQInformation.sysml...\n",
      "Reading /home/sysml/conda/share/jupyter/kernels/sysml/sysml.library/Domain Libraries/Quantities and Units/ISQThermodynamics.sysml...\n",
      "Reading /home/sysml/conda/share/jupyter/kernels/sysml/sysml.library/Domain Libraries/Quantities and Units/SIPrefixes.sysml...\n",
      "Reading /home/sysml/conda/share/jupyter/kernels/sysml/sysml.library/Domain Libraries/Quantities and Units/VectorCalculations.sysml...\n",
      "Reading /home/sysml/conda/share/jupyter/kernels/sysml/sysml.library/Domain Libraries/Quantities and Units/ISQChemistryMolecular.sysml...\n",
      "Reading /home/sysml/conda/share/jupyter/kernels/sysml/sysml.library/Domain Libraries/Quantities and Units/Quantities.sysml...\n",
      "Reading /home/sysml/conda/share/jupyter/kernels/sysml/sysml.library/Domain Libraries/Metadata/ImageMetadata.sysml...\n",
      "Reading /home/sysml/conda/share/jupyter/kernels/sysml/sysml.library/Domain Libraries/Metadata/ModelingMetadata.sysml...\n",
      "Reading /home/sysml/conda/share/jupyter/kernels/sysml/sysml.library/Domain Libraries/Metadata/ParametersOfInterestMetadata.sysml...\n",
      "Reading /home/sysml/conda/share/jupyter/kernels/sysml/sysml.library/Domain Libraries/Metadata/RiskMetadata.sysml...\n",
      "Reading /home/sysml/conda/share/jupyter/kernels/sysml/sysml.library/Domain Libraries/Requirement Derivation/RequirementDerivation.sysml...\n",
      "Reading /home/sysml/conda/share/jupyter/kernels/sysml/sysml.library/Domain Libraries/Requirement Derivation/DerivationConnections.sysml...\n"
     ]
    },
    {
     "name": "stderr",
     "output_type": "stream",
     "text": [
      "Dec 16, 2024 3:29:02 AM io.github.spencerpark.jupyter.channels.Loop start\n",
      "INFO: Loop starting...\n",
      "Dec 16, 2024 3:29:02 AM io.github.spencerpark.jupyter.channels.Loop start\n",
      "INFO: Loop started.\n",
      "Dec 16, 2024 3:29:02 AM io.github.spencerpark.jupyter.channels.Loop start\n",
      "INFO: Loop starting...\n",
      "Dec 16, 2024 3:29:02 AM io.github.spencerpark.jupyter.channels.Loop start\n",
      "INFO: Loop started.\n",
      "Dec 16, 2024 3:29:02 AM io.github.spencerpark.jupyter.channels.Loop start\n",
      "INFO: Loop starting...\n",
      "Dec 16, 2024 3:29:02 AM io.github.spencerpark.jupyter.channels.Loop start\n",
      "INFO: Loop started.\n"
     ]
    },
    {
     "name": "stderr",
     "output_type": "stream",
     "text": [
      "Dec 16, 2024 3:29:08 AM io.github.spencerpark.jupyter.channels.Loop shutdown\n",
      "INFO: Loop shutdown.\n",
      "Dec 16, 2024 3:29:08 AM io.github.spencerpark.jupyter.channels.Loop shutdown\n",
      "INFO: Loop shutdown.\n",
      "Dec 16, 2024 3:29:08 AM io.github.spencerpark.jupyter.channels.Loop shutdown\n",
      "INFO: Loop shutdown.\n",
      "Dec 16, 2024 3:29:08 AM io.github.spencerpark.jupyter.channels.Loop run\n",
      "INFO: Running loop shutdown callback.\n",
      "Dec 16, 2024 3:29:08 AM io.github.spencerpark.jupyter.channels.Loop run\n",
      "INFO: Loop stopped.\n",
      "Dec 16, 2024 3:29:08 AM io.github.spencerpark.jupyter.channels.Loop run\n",
      "INFO: Running loop shutdown callback.\n",
      "Dec 16, 2024 3:29:08 AM io.github.spencerpark.jupyter.channels.Loop run\n",
      "INFO: Loop stopped.\n"
     ]
    },
    {
     "name": "stderr",
     "output_type": "stream",
     "text": [
      "Dec 16, 2024 3:29:09 AM io.github.spencerpark.jupyter.channels.Loop run\n",
      "INFO: Running loop shutdown callback.\n",
      "Dec 16, 2024 3:29:09 AM io.github.spencerpark.jupyter.channels.Loop run\n",
      "INFO: Loop stopped.\n"
     ]
    },
    {
     "name": "stdout",
     "output_type": "stream",
     "text": [
      "Signing notebook: TestSuite/UseCaseTest.ipynb\n",
      "Executing: TestSuite/Examples/Packet Example.ipynb\n"
     ]
    },
    {
     "name": "stderr",
     "output_type": "stream",
     "text": [
      "/home/sysml/conda/lib/python3.12/site-packages/nbformat/__init__.py:96: MissingIDFieldWarning: Cell is missing an id field, this will become a hard error in future nbformat versions. You may want to use `normalize()` on your notebooks before validations (available since nbformat 5.1.4). Previous versions of nbformat are fixing this issue transparently, and will stop doing so in the future.\n",
      "  validate(nb)\n"
     ]
    },
    {
     "name": "stdout",
     "output_type": "stream",
     "text": [
      "Reading /home/sysml/conda/share/jupyter/kernels/sysml/sysml.library/Kernel Libraries/Kernel Semantic Library/Observation.kerml...\n"
     ]
    },
    {
     "name": "stderr",
     "output_type": "stream",
     "text": [
      "log4j:WARN No appenders could be found for logger (org.eclipse.xtext.parser.antlr.AbstractInternalAntlrParser).\n",
      "log4j:WARN Please initialize the log4j system properly.\n",
      "log4j:WARN See http://logging.apache.org/log4j/1.2/faq.html#noconfig for more info.\n"
     ]
    },
    {
     "name": "stdout",
     "output_type": "stream",
     "text": [
      "Reading /home/sysml/conda/share/jupyter/kernels/sysml/sysml.library/Kernel Libraries/Kernel Semantic Library/Transfers.kerml...\n",
      "Reading /home/sysml/conda/share/jupyter/kernels/sysml/sysml.library/Kernel Libraries/Kernel Semantic Library/Metaobjects.kerml...\n",
      "Reading /home/sysml/conda/share/jupyter/kernels/sysml/sysml.library/Kernel Libraries/Kernel Semantic Library/Triggers.kerml...\n",
      "Reading /home/sysml/conda/share/jupyter/kernels/sysml/sysml.library/Kernel Libraries/Kernel Semantic Library/Links.kerml...\n",
      "Reading /home/sysml/conda/share/jupyter/kernels/sysml/sysml.library/Kernel Libraries/Kernel Semantic Library/Base.kerml...\n",
      "Reading /home/sysml/conda/share/jupyter/kernels/sysml/sysml.library/Kernel Libraries/Kernel Semantic Library/Objects.kerml...\n",
      "Reading /home/sysml/conda/share/jupyter/kernels/sysml/sysml.library/Kernel Libraries/Kernel Semantic Library/Clocks.kerml...\n",
      "Reading /home/sysml/conda/share/jupyter/kernels/sysml/sysml.library/Kernel Libraries/Kernel Semantic Library/KerML.kerml...\n"
     ]
    },
    {
     "name": "stdout",
     "output_type": "stream",
     "text": [
      "Reading /home/sysml/conda/share/jupyter/kernels/sysml/sysml.library/Kernel Libraries/Kernel Semantic Library/FeatureReferencingPerformances.kerml...\n",
      "Reading /home/sysml/conda/share/jupyter/kernels/sysml/sysml.library/Kernel Libraries/Kernel Semantic Library/Performances.kerml...\n",
      "Reading /home/sysml/conda/share/jupyter/kernels/sysml/sysml.library/Kernel Libraries/Kernel Semantic Library/Occurrences.kerml...\n",
      "Reading /home/sysml/conda/share/jupyter/kernels/sysml/sysml.library/Kernel Libraries/Kernel Semantic Library/ControlPerformances.kerml...\n",
      "Reading /home/sysml/conda/share/jupyter/kernels/sysml/sysml.library/Kernel Libraries/Kernel Semantic Library/StatePerformances.kerml...\n",
      "Reading /home/sysml/conda/share/jupyter/kernels/sysml/sysml.library/Kernel Libraries/Kernel Semantic Library/TransitionPerformances.kerml...\n",
      "Reading /home/sysml/conda/share/jupyter/kernels/sysml/sysml.library/Kernel Libraries/Kernel Semantic Library/SpatialFrames.kerml...\n",
      "Reading /home/sysml/conda/share/jupyter/kernels/sysml/sysml.library/Kernel Libraries/Kernel Data Type Library/VectorValues.kerml...\n",
      "Reading /home/sysml/conda/share/jupyter/kernels/sysml/sysml.library/Kernel Libraries/Kernel Data Type Library/Collections.kerml...\n",
      "Reading /home/sysml/conda/share/jupyter/kernels/sysml/sysml.library/Kernel Libraries/Kernel Data Type Library/ScalarValues.kerml...\n",
      "Reading /home/sysml/conda/share/jupyter/kernels/sysml/sysml.library/Kernel Libraries/Kernel Function Library/NaturalFunctions.kerml...\n",
      "Reading /home/sysml/conda/share/jupyter/kernels/sysml/sysml.library/Kernel Libraries/Kernel Function Library/BaseFunctions.kerml...\n",
      "Reading /home/sysml/conda/share/jupyter/kernels/sysml/sysml.library/Kernel Libraries/Kernel Function Library/DataFunctions.kerml...\n",
      "Reading /home/sysml/conda/share/jupyter/kernels/sysml/sysml.library/Kernel Libraries/Kernel Function Library/IntegerFunctions.kerml...\n",
      "Reading /home/sysml/conda/share/jupyter/kernels/sysml/sysml.library/Kernel Libraries/Kernel Function Library/RealFunctions.kerml...\n",
      "Reading /home/sysml/conda/share/jupyter/kernels/sysml/sysml.library/Kernel Libraries/Kernel Function Library/NumericalFunctions.kerml...\n"
     ]
    },
    {
     "name": "stdout",
     "output_type": "stream",
     "text": [
      "Reading /home/sysml/conda/share/jupyter/kernels/sysml/sysml.library/Kernel Libraries/Kernel Function Library/VectorFunctions.kerml...\n",
      "Reading /home/sysml/conda/share/jupyter/kernels/sysml/sysml.library/Kernel Libraries/Kernel Function Library/SequenceFunctions.kerml...\n",
      "Reading /home/sysml/conda/share/jupyter/kernels/sysml/sysml.library/Kernel Libraries/Kernel Function Library/ComplexFunctions.kerml...\n",
      "Reading /home/sysml/conda/share/jupyter/kernels/sysml/sysml.library/Kernel Libraries/Kernel Function Library/RationalFunctions.kerml...\n",
      "Reading /home/sysml/conda/share/jupyter/kernels/sysml/sysml.library/Kernel Libraries/Kernel Function Library/StringFunctions.kerml...\n",
      "Reading /home/sysml/conda/share/jupyter/kernels/sysml/sysml.library/Kernel Libraries/Kernel Function Library/ScalarFunctions.kerml...\n",
      "Reading /home/sysml/conda/share/jupyter/kernels/sysml/sysml.library/Kernel Libraries/Kernel Function Library/CollectionFunctions.kerml...\n",
      "Reading /home/sysml/conda/share/jupyter/kernels/sysml/sysml.library/Kernel Libraries/Kernel Function Library/BooleanFunctions.kerml...\n",
      "Reading /home/sysml/conda/share/jupyter/kernels/sysml/sysml.library/Kernel Libraries/Kernel Function Library/OccurrenceFunctions.kerml...\n",
      "Reading /home/sysml/conda/share/jupyter/kernels/sysml/sysml.library/Kernel Libraries/Kernel Function Library/TrigFunctions.kerml...\n",
      "Reading /home/sysml/conda/share/jupyter/kernels/sysml/sysml.library/Kernel Libraries/Kernel Function Library/ControlFunctions.kerml...\n",
      "Reading /home/sysml/conda/share/jupyter/kernels/sysml/sysml.library/Systems Library/Connections.sysml...\n"
     ]
    },
    {
     "name": "stdout",
     "output_type": "stream",
     "text": [
      "Reading /home/sysml/conda/share/jupyter/kernels/sysml/sysml.library/Systems Library/States.sysml...\n",
      "Reading /home/sysml/conda/share/jupyter/kernels/sysml/sysml.library/Systems Library/Actions.sysml...\n",
      "Reading /home/sysml/conda/share/jupyter/kernels/sysml/sysml.library/Systems Library/Metadata.sysml...\n",
      "Reading /home/sysml/conda/share/jupyter/kernels/sysml/sysml.library/Systems Library/Requirements.sysml...\n",
      "Reading /home/sysml/conda/share/jupyter/kernels/sysml/sysml.library/Systems Library/AnalysisCases.sysml...\n",
      "Reading /home/sysml/conda/share/jupyter/kernels/sysml/sysml.library/Systems Library/Attributes.sysml...\n",
      "Reading /home/sysml/conda/share/jupyter/kernels/sysml/sysml.library/Systems Library/Cases.sysml...\n",
      "Reading /home/sysml/conda/share/jupyter/kernels/sysml/sysml.library/Systems Library/VerificationCases.sysml...\n",
      "Reading /home/sysml/conda/share/jupyter/kernels/sysml/sysml.library/Systems Library/Interfaces.sysml...\n",
      "Reading /home/sysml/conda/share/jupyter/kernels/sysml/sysml.library/Systems Library/Ports.sysml...\n",
      "Reading /home/sysml/conda/share/jupyter/kernels/sysml/sysml.library/Systems Library/Views.sysml...\n",
      "Reading /home/sysml/conda/share/jupyter/kernels/sysml/sysml.library/Systems Library/UseCases.sysml...\n",
      "Reading /home/sysml/conda/share/jupyter/kernels/sysml/sysml.library/Systems Library/Parts.sysml...\n",
      "Reading /home/sysml/conda/share/jupyter/kernels/sysml/sysml.library/Systems Library/SysML.sysml...\n",
      "Reading /home/sysml/conda/share/jupyter/kernels/sysml/sysml.library/Systems Library/Constraints.sysml...\n",
      "Reading /home/sysml/conda/share/jupyter/kernels/sysml/sysml.library/Systems Library/Items.sysml...\n",
      "Reading /home/sysml/conda/share/jupyter/kernels/sysml/sysml.library/Systems Library/Calculations.sysml...\n",
      "Reading /home/sysml/conda/share/jupyter/kernels/sysml/sysml.library/Systems Library/StandardViewDefinitions.sysml...\n",
      "Reading /home/sysml/conda/share/jupyter/kernels/sysml/sysml.library/Systems Library/Allocations.sysml...\n"
     ]
    },
    {
     "name": "stdout",
     "output_type": "stream",
     "text": [
      "Reading /home/sysml/conda/share/jupyter/kernels/sysml/sysml.library/Domain Libraries/Geometry/SpatialItems.sysml...\n",
      "Reading /home/sysml/conda/share/jupyter/kernels/sysml/sysml.library/Domain Libraries/Geometry/ShapeItems.sysml...\n",
      "Reading /home/sysml/conda/share/jupyter/kernels/sysml/sysml.library/Domain Libraries/Analysis/TradeStudies.sysml...\n",
      "Reading /home/sysml/conda/share/jupyter/kernels/sysml/sysml.library/Domain Libraries/Analysis/StateSpaceRepresentation.sysml...\n",
      "Reading /home/sysml/conda/share/jupyter/kernels/sysml/sysml.library/Domain Libraries/Analysis/SampledFunctions.sysml...\n",
      "Reading /home/sysml/conda/share/jupyter/kernels/sysml/sysml.library/Domain Libraries/Analysis/AnalysisTooling.sysml...\n",
      "Reading /home/sysml/conda/share/jupyter/kernels/sysml/sysml.library/Domain Libraries/Cause and Effect/CausationConnections.sysml...\n",
      "Reading /home/sysml/conda/share/jupyter/kernels/sysml/sysml.library/Domain Libraries/Cause and Effect/CauseAndEffect.sysml...\n",
      "Reading /home/sysml/conda/share/jupyter/kernels/sysml/sysml.library/Domain Libraries/Quantities and Units/TensorCalculations.sysml...\n",
      "Reading /home/sysml/conda/share/jupyter/kernels/sysml/sysml.library/Domain Libraries/Quantities and Units/ISQSpaceTime.sysml...\n",
      "Reading /home/sysml/conda/share/jupyter/kernels/sysml/sysml.library/Domain Libraries/Quantities and Units/ISQElectromagnetism.sysml...\n"
     ]
    },
    {
     "name": "stdout",
     "output_type": "stream",
     "text": [
      "Reading /home/sysml/conda/share/jupyter/kernels/sysml/sysml.library/Domain Libraries/Quantities and Units/USCustomaryUnits.sysml...\n",
      "Reading /home/sysml/conda/share/jupyter/kernels/sysml/sysml.library/Domain Libraries/Quantities and Units/Time.sysml...\n",
      "Reading /home/sysml/conda/share/jupyter/kernels/sysml/sysml.library/Domain Libraries/Quantities and Units/MeasurementReferences.sysml...\n",
      "Reading /home/sysml/conda/share/jupyter/kernels/sysml/sysml.library/Domain Libraries/Quantities and Units/ISQBase.sysml...\n",
      "Reading /home/sysml/conda/share/jupyter/kernels/sysml/sysml.library/Domain Libraries/Quantities and Units/ISQCondensedMatter.sysml...\n",
      "Reading /home/sysml/conda/share/jupyter/kernels/sysml/sysml.library/Domain Libraries/Quantities and Units/ISQMechanics.sysml...\n",
      "Reading /home/sysml/conda/share/jupyter/kernels/sysml/sysml.library/Domain Libraries/Quantities and Units/SI.sysml...\n",
      "Reading /home/sysml/conda/share/jupyter/kernels/sysml/sysml.library/Domain Libraries/Quantities and Units/ISQCharacteristicNumbers.sysml...\n",
      "Reading /home/sysml/conda/share/jupyter/kernels/sysml/sysml.library/Domain Libraries/Quantities and Units/QuantityCalculations.sysml...\n",
      "Reading /home/sysml/conda/share/jupyter/kernels/sysml/sysml.library/Domain Libraries/Quantities and Units/MeasurementRefCalculations.sysml...\n",
      "Reading /home/sysml/conda/share/jupyter/kernels/sysml/sysml.library/Domain Libraries/Quantities and Units/ISQAtomicNuclear.sysml...\n"
     ]
    },
    {
     "name": "stdout",
     "output_type": "stream",
     "text": [
      "Reading /home/sysml/conda/share/jupyter/kernels/sysml/sysml.library/Domain Libraries/Quantities and Units/ISQ.sysml...\n",
      "Reading /home/sysml/conda/share/jupyter/kernels/sysml/sysml.library/Domain Libraries/Quantities and Units/ISQAcoustics.sysml...\n",
      "Reading /home/sysml/conda/share/jupyter/kernels/sysml/sysml.library/Domain Libraries/Quantities and Units/ISQLight.sysml...\n",
      "Reading /home/sysml/conda/share/jupyter/kernels/sysml/sysml.library/Domain Libraries/Quantities and Units/ISQInformation.sysml...\n",
      "Reading /home/sysml/conda/share/jupyter/kernels/sysml/sysml.library/Domain Libraries/Quantities and Units/ISQThermodynamics.sysml...\n",
      "Reading /home/sysml/conda/share/jupyter/kernels/sysml/sysml.library/Domain Libraries/Quantities and Units/SIPrefixes.sysml...\n",
      "Reading /home/sysml/conda/share/jupyter/kernels/sysml/sysml.library/Domain Libraries/Quantities and Units/VectorCalculations.sysml...\n",
      "Reading /home/sysml/conda/share/jupyter/kernels/sysml/sysml.library/Domain Libraries/Quantities and Units/ISQChemistryMolecular.sysml...\n",
      "Reading /home/sysml/conda/share/jupyter/kernels/sysml/sysml.library/Domain Libraries/Quantities and Units/Quantities.sysml...\n",
      "Reading /home/sysml/conda/share/jupyter/kernels/sysml/sysml.library/Domain Libraries/Metadata/ImageMetadata.sysml...\n",
      "Reading /home/sysml/conda/share/jupyter/kernels/sysml/sysml.library/Domain Libraries/Metadata/ModelingMetadata.sysml...\n",
      "Reading /home/sysml/conda/share/jupyter/kernels/sysml/sysml.library/Domain Libraries/Metadata/ParametersOfInterestMetadata.sysml...\n",
      "Reading /home/sysml/conda/share/jupyter/kernels/sysml/sysml.library/Domain Libraries/Metadata/RiskMetadata.sysml...\n",
      "Reading /home/sysml/conda/share/jupyter/kernels/sysml/sysml.library/Domain Libraries/Requirement Derivation/RequirementDerivation.sysml...\n",
      "Reading /home/sysml/conda/share/jupyter/kernels/sysml/sysml.library/Domain Libraries/Requirement Derivation/DerivationConnections.sysml...\n"
     ]
    },
    {
     "name": "stderr",
     "output_type": "stream",
     "text": [
      "Dec 16, 2024 3:29:13 AM io.github.spencerpark.jupyter.channels.Loop start\n",
      "INFO: Loop starting...\n",
      "Dec 16, 2024 3:29:13 AM io.github.spencerpark.jupyter.channels.Loop start\n",
      "INFO: Loop started.\n",
      "Dec 16, 2024 3:29:13 AM io.github.spencerpark.jupyter.channels.Loop start\n",
      "INFO: Loop starting...\n",
      "Dec 16, 2024 3:29:13 AM io.github.spencerpark.jupyter.channels.Loop start\n",
      "INFO: Loop started.\n",
      "Dec 16, 2024 3:29:13 AM io.github.spencerpark.jupyter.channels.Loop start\n",
      "INFO: Loop starting...\n",
      "Dec 16, 2024 3:29:13 AM io.github.spencerpark.jupyter.channels.Loop start\n",
      "INFO: Loop started.\n"
     ]
    },
    {
     "name": "stderr",
     "output_type": "stream",
     "text": [
      "Dec 16, 2024 3:29:14 AM io.github.spencerpark.jupyter.channels.Loop shutdown\n",
      "INFO: Loop shutdown.\n",
      "Dec 16, 2024 3:29:14 AM io.github.spencerpark.jupyter.channels.Loop shutdown\n",
      "INFO: Loop shutdown.\n",
      "Dec 16, 2024 3:29:14 AM io.github.spencerpark.jupyter.channels.Loop shutdown\n",
      "INFO: Loop shutdown.\n",
      "Dec 16, 2024 3:29:14 AM io.github.spencerpark.jupyter.channels.Loop run\n",
      "INFO: Running loop shutdown callback.\n",
      "Dec 16, 2024 3:29:14 AM io.github.spencerpark.jupyter.channels.Loop run\n",
      "INFO: Loop stopped.\n",
      "Dec 16, 2024 3:29:14 AM io.github.spencerpark.jupyter.channels.Loop run\n",
      "INFO: Running loop shutdown callback.\n",
      "Dec 16, 2024 3:29:14 AM io.github.spencerpark.jupyter.channels.Loop run\n",
      "INFO: Loop stopped.\n",
      "Dec 16, 2024 3:29:14 AM io.github.spencerpark.jupyter.channels.Loop run\n",
      "INFO: Running loop shutdown callback.\n",
      "Dec 16, 2024 3:29:14 AM io.github.spencerpark.jupyter.channels.Loop run\n",
      "INFO: Loop stopped.\n"
     ]
    },
    {
     "name": "stdout",
     "output_type": "stream",
     "text": [
      "Signing notebook: TestSuite/Examples/Packet Example.ipynb\n",
      "Executing: TestSuite/Examples/Mass Roll-up Example.ipynb\n"
     ]
    },
    {
     "name": "stderr",
     "output_type": "stream",
     "text": [
      "/home/sysml/conda/lib/python3.12/site-packages/nbformat/__init__.py:96: MissingIDFieldWarning: Cell is missing an id field, this will become a hard error in future nbformat versions. You may want to use `normalize()` on your notebooks before validations (available since nbformat 5.1.4). Previous versions of nbformat are fixing this issue transparently, and will stop doing so in the future.\n",
      "  validate(nb)\n"
     ]
    },
    {
     "name": "stdout",
     "output_type": "stream",
     "text": [
      "Reading /home/sysml/conda/share/jupyter/kernels/sysml/sysml.library/Kernel Libraries/Kernel Semantic Library/Observation.kerml...\n"
     ]
    },
    {
     "name": "stderr",
     "output_type": "stream",
     "text": [
      "log4j:WARN No appenders could be found for logger (org.eclipse.xtext.parser.antlr.AbstractInternalAntlrParser).\n",
      "log4j:WARN Please initialize the log4j system properly.\n",
      "log4j:WARN See http://logging.apache.org/log4j/1.2/faq.html#noconfig for more info.\n"
     ]
    },
    {
     "name": "stdout",
     "output_type": "stream",
     "text": [
      "Reading /home/sysml/conda/share/jupyter/kernels/sysml/sysml.library/Kernel Libraries/Kernel Semantic Library/Transfers.kerml...\n",
      "Reading /home/sysml/conda/share/jupyter/kernels/sysml/sysml.library/Kernel Libraries/Kernel Semantic Library/Metaobjects.kerml...\n",
      "Reading /home/sysml/conda/share/jupyter/kernels/sysml/sysml.library/Kernel Libraries/Kernel Semantic Library/Triggers.kerml...\n",
      "Reading /home/sysml/conda/share/jupyter/kernels/sysml/sysml.library/Kernel Libraries/Kernel Semantic Library/Links.kerml...\n",
      "Reading /home/sysml/conda/share/jupyter/kernels/sysml/sysml.library/Kernel Libraries/Kernel Semantic Library/Base.kerml...\n",
      "Reading /home/sysml/conda/share/jupyter/kernels/sysml/sysml.library/Kernel Libraries/Kernel Semantic Library/Objects.kerml...\n",
      "Reading /home/sysml/conda/share/jupyter/kernels/sysml/sysml.library/Kernel Libraries/Kernel Semantic Library/Clocks.kerml...\n",
      "Reading /home/sysml/conda/share/jupyter/kernels/sysml/sysml.library/Kernel Libraries/Kernel Semantic Library/KerML.kerml...\n"
     ]
    },
    {
     "name": "stdout",
     "output_type": "stream",
     "text": [
      "Reading /home/sysml/conda/share/jupyter/kernels/sysml/sysml.library/Kernel Libraries/Kernel Semantic Library/FeatureReferencingPerformances.kerml...\n",
      "Reading /home/sysml/conda/share/jupyter/kernels/sysml/sysml.library/Kernel Libraries/Kernel Semantic Library/Performances.kerml...\n",
      "Reading /home/sysml/conda/share/jupyter/kernels/sysml/sysml.library/Kernel Libraries/Kernel Semantic Library/Occurrences.kerml...\n",
      "Reading /home/sysml/conda/share/jupyter/kernels/sysml/sysml.library/Kernel Libraries/Kernel Semantic Library/ControlPerformances.kerml...\n",
      "Reading /home/sysml/conda/share/jupyter/kernels/sysml/sysml.library/Kernel Libraries/Kernel Semantic Library/StatePerformances.kerml...\n",
      "Reading /home/sysml/conda/share/jupyter/kernels/sysml/sysml.library/Kernel Libraries/Kernel Semantic Library/TransitionPerformances.kerml...\n",
      "Reading /home/sysml/conda/share/jupyter/kernels/sysml/sysml.library/Kernel Libraries/Kernel Semantic Library/SpatialFrames.kerml...\n",
      "Reading /home/sysml/conda/share/jupyter/kernels/sysml/sysml.library/Kernel Libraries/Kernel Data Type Library/VectorValues.kerml...\n",
      "Reading /home/sysml/conda/share/jupyter/kernels/sysml/sysml.library/Kernel Libraries/Kernel Data Type Library/Collections.kerml...\n",
      "Reading /home/sysml/conda/share/jupyter/kernels/sysml/sysml.library/Kernel Libraries/Kernel Data Type Library/ScalarValues.kerml...\n",
      "Reading /home/sysml/conda/share/jupyter/kernels/sysml/sysml.library/Kernel Libraries/Kernel Function Library/NaturalFunctions.kerml...\n",
      "Reading /home/sysml/conda/share/jupyter/kernels/sysml/sysml.library/Kernel Libraries/Kernel Function Library/BaseFunctions.kerml...\n",
      "Reading /home/sysml/conda/share/jupyter/kernels/sysml/sysml.library/Kernel Libraries/Kernel Function Library/DataFunctions.kerml...\n",
      "Reading /home/sysml/conda/share/jupyter/kernels/sysml/sysml.library/Kernel Libraries/Kernel Function Library/IntegerFunctions.kerml...\n",
      "Reading /home/sysml/conda/share/jupyter/kernels/sysml/sysml.library/Kernel Libraries/Kernel Function Library/RealFunctions.kerml...\n",
      "Reading /home/sysml/conda/share/jupyter/kernels/sysml/sysml.library/Kernel Libraries/Kernel Function Library/NumericalFunctions.kerml...\n"
     ]
    },
    {
     "name": "stdout",
     "output_type": "stream",
     "text": [
      "Reading /home/sysml/conda/share/jupyter/kernels/sysml/sysml.library/Kernel Libraries/Kernel Function Library/VectorFunctions.kerml...\n",
      "Reading /home/sysml/conda/share/jupyter/kernels/sysml/sysml.library/Kernel Libraries/Kernel Function Library/SequenceFunctions.kerml...\n",
      "Reading /home/sysml/conda/share/jupyter/kernels/sysml/sysml.library/Kernel Libraries/Kernel Function Library/ComplexFunctions.kerml...\n",
      "Reading /home/sysml/conda/share/jupyter/kernels/sysml/sysml.library/Kernel Libraries/Kernel Function Library/RationalFunctions.kerml...\n",
      "Reading /home/sysml/conda/share/jupyter/kernels/sysml/sysml.library/Kernel Libraries/Kernel Function Library/StringFunctions.kerml...\n",
      "Reading /home/sysml/conda/share/jupyter/kernels/sysml/sysml.library/Kernel Libraries/Kernel Function Library/ScalarFunctions.kerml...\n",
      "Reading /home/sysml/conda/share/jupyter/kernels/sysml/sysml.library/Kernel Libraries/Kernel Function Library/CollectionFunctions.kerml...\n",
      "Reading /home/sysml/conda/share/jupyter/kernels/sysml/sysml.library/Kernel Libraries/Kernel Function Library/BooleanFunctions.kerml...\n",
      "Reading /home/sysml/conda/share/jupyter/kernels/sysml/sysml.library/Kernel Libraries/Kernel Function Library/OccurrenceFunctions.kerml...\n",
      "Reading /home/sysml/conda/share/jupyter/kernels/sysml/sysml.library/Kernel Libraries/Kernel Function Library/TrigFunctions.kerml...\n",
      "Reading /home/sysml/conda/share/jupyter/kernels/sysml/sysml.library/Kernel Libraries/Kernel Function Library/ControlFunctions.kerml...\n",
      "Reading /home/sysml/conda/share/jupyter/kernels/sysml/sysml.library/Systems Library/Connections.sysml...\n"
     ]
    },
    {
     "name": "stdout",
     "output_type": "stream",
     "text": [
      "Reading /home/sysml/conda/share/jupyter/kernels/sysml/sysml.library/Systems Library/States.sysml...\n",
      "Reading /home/sysml/conda/share/jupyter/kernels/sysml/sysml.library/Systems Library/Actions.sysml...\n",
      "Reading /home/sysml/conda/share/jupyter/kernels/sysml/sysml.library/Systems Library/Metadata.sysml...\n",
      "Reading /home/sysml/conda/share/jupyter/kernels/sysml/sysml.library/Systems Library/Requirements.sysml...\n",
      "Reading /home/sysml/conda/share/jupyter/kernels/sysml/sysml.library/Systems Library/AnalysisCases.sysml...\n",
      "Reading /home/sysml/conda/share/jupyter/kernels/sysml/sysml.library/Systems Library/Attributes.sysml...\n",
      "Reading /home/sysml/conda/share/jupyter/kernels/sysml/sysml.library/Systems Library/Cases.sysml...\n",
      "Reading /home/sysml/conda/share/jupyter/kernels/sysml/sysml.library/Systems Library/VerificationCases.sysml...\n",
      "Reading /home/sysml/conda/share/jupyter/kernels/sysml/sysml.library/Systems Library/Interfaces.sysml...\n",
      "Reading /home/sysml/conda/share/jupyter/kernels/sysml/sysml.library/Systems Library/Ports.sysml...\n",
      "Reading /home/sysml/conda/share/jupyter/kernels/sysml/sysml.library/Systems Library/Views.sysml...\n",
      "Reading /home/sysml/conda/share/jupyter/kernels/sysml/sysml.library/Systems Library/UseCases.sysml...\n",
      "Reading /home/sysml/conda/share/jupyter/kernels/sysml/sysml.library/Systems Library/Parts.sysml...\n",
      "Reading /home/sysml/conda/share/jupyter/kernels/sysml/sysml.library/Systems Library/SysML.sysml...\n",
      "Reading /home/sysml/conda/share/jupyter/kernels/sysml/sysml.library/Systems Library/Constraints.sysml...\n",
      "Reading /home/sysml/conda/share/jupyter/kernels/sysml/sysml.library/Systems Library/Items.sysml...\n",
      "Reading /home/sysml/conda/share/jupyter/kernels/sysml/sysml.library/Systems Library/Calculations.sysml...\n",
      "Reading /home/sysml/conda/share/jupyter/kernels/sysml/sysml.library/Systems Library/StandardViewDefinitions.sysml...\n",
      "Reading /home/sysml/conda/share/jupyter/kernels/sysml/sysml.library/Systems Library/Allocations.sysml...\n",
      "Reading /home/sysml/conda/share/jupyter/kernels/sysml/sysml.library/Domain Libraries/Geometry/SpatialItems.sysml...\n"
     ]
    },
    {
     "name": "stdout",
     "output_type": "stream",
     "text": [
      "Reading /home/sysml/conda/share/jupyter/kernels/sysml/sysml.library/Domain Libraries/Geometry/ShapeItems.sysml...\n",
      "Reading /home/sysml/conda/share/jupyter/kernels/sysml/sysml.library/Domain Libraries/Analysis/TradeStudies.sysml...\n",
      "Reading /home/sysml/conda/share/jupyter/kernels/sysml/sysml.library/Domain Libraries/Analysis/StateSpaceRepresentation.sysml...\n",
      "Reading /home/sysml/conda/share/jupyter/kernels/sysml/sysml.library/Domain Libraries/Analysis/SampledFunctions.sysml...\n",
      "Reading /home/sysml/conda/share/jupyter/kernels/sysml/sysml.library/Domain Libraries/Analysis/AnalysisTooling.sysml...\n",
      "Reading /home/sysml/conda/share/jupyter/kernels/sysml/sysml.library/Domain Libraries/Cause and Effect/CausationConnections.sysml...\n",
      "Reading /home/sysml/conda/share/jupyter/kernels/sysml/sysml.library/Domain Libraries/Cause and Effect/CauseAndEffect.sysml...\n",
      "Reading /home/sysml/conda/share/jupyter/kernels/sysml/sysml.library/Domain Libraries/Quantities and Units/TensorCalculations.sysml...\n",
      "Reading /home/sysml/conda/share/jupyter/kernels/sysml/sysml.library/Domain Libraries/Quantities and Units/ISQSpaceTime.sysml...\n",
      "Reading /home/sysml/conda/share/jupyter/kernels/sysml/sysml.library/Domain Libraries/Quantities and Units/ISQElectromagnetism.sysml...\n"
     ]
    },
    {
     "name": "stdout",
     "output_type": "stream",
     "text": [
      "Reading /home/sysml/conda/share/jupyter/kernels/sysml/sysml.library/Domain Libraries/Quantities and Units/USCustomaryUnits.sysml...\n",
      "Reading /home/sysml/conda/share/jupyter/kernels/sysml/sysml.library/Domain Libraries/Quantities and Units/Time.sysml...\n",
      "Reading /home/sysml/conda/share/jupyter/kernels/sysml/sysml.library/Domain Libraries/Quantities and Units/MeasurementReferences.sysml...\n",
      "Reading /home/sysml/conda/share/jupyter/kernels/sysml/sysml.library/Domain Libraries/Quantities and Units/ISQBase.sysml...\n",
      "Reading /home/sysml/conda/share/jupyter/kernels/sysml/sysml.library/Domain Libraries/Quantities and Units/ISQCondensedMatter.sysml...\n",
      "Reading /home/sysml/conda/share/jupyter/kernels/sysml/sysml.library/Domain Libraries/Quantities and Units/ISQMechanics.sysml...\n",
      "Reading /home/sysml/conda/share/jupyter/kernels/sysml/sysml.library/Domain Libraries/Quantities and Units/SI.sysml...\n",
      "Reading /home/sysml/conda/share/jupyter/kernels/sysml/sysml.library/Domain Libraries/Quantities and Units/ISQCharacteristicNumbers.sysml...\n",
      "Reading /home/sysml/conda/share/jupyter/kernels/sysml/sysml.library/Domain Libraries/Quantities and Units/QuantityCalculations.sysml...\n",
      "Reading /home/sysml/conda/share/jupyter/kernels/sysml/sysml.library/Domain Libraries/Quantities and Units/MeasurementRefCalculations.sysml...\n",
      "Reading /home/sysml/conda/share/jupyter/kernels/sysml/sysml.library/Domain Libraries/Quantities and Units/ISQAtomicNuclear.sysml...\n"
     ]
    },
    {
     "name": "stdout",
     "output_type": "stream",
     "text": [
      "Reading /home/sysml/conda/share/jupyter/kernels/sysml/sysml.library/Domain Libraries/Quantities and Units/ISQ.sysml...\n",
      "Reading /home/sysml/conda/share/jupyter/kernels/sysml/sysml.library/Domain Libraries/Quantities and Units/ISQAcoustics.sysml...\n",
      "Reading /home/sysml/conda/share/jupyter/kernels/sysml/sysml.library/Domain Libraries/Quantities and Units/ISQLight.sysml...\n",
      "Reading /home/sysml/conda/share/jupyter/kernels/sysml/sysml.library/Domain Libraries/Quantities and Units/ISQInformation.sysml...\n",
      "Reading /home/sysml/conda/share/jupyter/kernels/sysml/sysml.library/Domain Libraries/Quantities and Units/ISQThermodynamics.sysml...\n",
      "Reading /home/sysml/conda/share/jupyter/kernels/sysml/sysml.library/Domain Libraries/Quantities and Units/SIPrefixes.sysml...\n",
      "Reading /home/sysml/conda/share/jupyter/kernels/sysml/sysml.library/Domain Libraries/Quantities and Units/VectorCalculations.sysml...\n",
      "Reading /home/sysml/conda/share/jupyter/kernels/sysml/sysml.library/Domain Libraries/Quantities and Units/ISQChemistryMolecular.sysml...\n",
      "Reading /home/sysml/conda/share/jupyter/kernels/sysml/sysml.library/Domain Libraries/Quantities and Units/Quantities.sysml...\n",
      "Reading /home/sysml/conda/share/jupyter/kernels/sysml/sysml.library/Domain Libraries/Metadata/ImageMetadata.sysml...\n",
      "Reading /home/sysml/conda/share/jupyter/kernels/sysml/sysml.library/Domain Libraries/Metadata/ModelingMetadata.sysml...\n",
      "Reading /home/sysml/conda/share/jupyter/kernels/sysml/sysml.library/Domain Libraries/Metadata/ParametersOfInterestMetadata.sysml...\n",
      "Reading /home/sysml/conda/share/jupyter/kernels/sysml/sysml.library/Domain Libraries/Metadata/RiskMetadata.sysml...\n",
      "Reading /home/sysml/conda/share/jupyter/kernels/sysml/sysml.library/Domain Libraries/Requirement Derivation/RequirementDerivation.sysml...\n",
      "Reading /home/sysml/conda/share/jupyter/kernels/sysml/sysml.library/Domain Libraries/Requirement Derivation/DerivationConnections.sysml...\n"
     ]
    },
    {
     "name": "stderr",
     "output_type": "stream",
     "text": [
      "Dec 16, 2024 3:29:18 AM io.github.spencerpark.jupyter.channels.Loop start\n",
      "INFO: Loop starting...\n",
      "Dec 16, 2024 3:29:18 AM io.github.spencerpark.jupyter.channels.Loop start\n",
      "INFO: Loop started.\n",
      "Dec 16, 2024 3:29:18 AM io.github.spencerpark.jupyter.channels.Loop start\n",
      "INFO: Loop starting...\n",
      "Dec 16, 2024 3:29:18 AM io.github.spencerpark.jupyter.channels.Loop start\n",
      "INFO: Loop started.\n",
      "Dec 16, 2024 3:29:18 AM io.github.spencerpark.jupyter.channels.Loop start\n",
      "INFO: Loop starting...\n",
      "Dec 16, 2024 3:29:18 AM io.github.spencerpark.jupyter.channels.Loop start\n",
      "INFO: Loop started.\n"
     ]
    },
    {
     "name": "stderr",
     "output_type": "stream",
     "text": [
      "Dec 16, 2024 3:29:20 AM io.github.spencerpark.jupyter.channels.Loop shutdown\n",
      "INFO: Loop shutdown.\n",
      "Dec 16, 2024 3:29:20 AM io.github.spencerpark.jupyter.channels.Loop shutdown\n",
      "INFO: Loop shutdown.\n",
      "Dec 16, 2024 3:29:20 AM io.github.spencerpark.jupyter.channels.Loop shutdown\n",
      "INFO: Loop shutdown.\n",
      "Dec 16, 2024 3:29:20 AM io.github.spencerpark.jupyter.channels.Loop run\n",
      "INFO: Running loop shutdown callback.\n",
      "Dec 16, 2024 3:29:20 AM io.github.spencerpark.jupyter.channels.Loop run\n",
      "INFO: Loop stopped.\n",
      "Dec 16, 2024 3:29:20 AM io.github.spencerpark.jupyter.channels.Loop run\n",
      "INFO: Running loop shutdown callback.\n",
      "Dec 16, 2024 3:29:20 AM io.github.spencerpark.jupyter.channels.Loop run\n",
      "INFO: Loop stopped.\n"
     ]
    },
    {
     "name": "stderr",
     "output_type": "stream",
     "text": [
      "Dec 16, 2024 3:29:20 AM io.github.spencerpark.jupyter.channels.Loop run\n",
      "INFO: Running loop shutdown callback.\n",
      "Dec 16, 2024 3:29:20 AM io.github.spencerpark.jupyter.channels.Loop run\n",
      "INFO: Loop stopped.\n"
     ]
    },
    {
     "name": "stdout",
     "output_type": "stream",
     "text": [
      "Signing notebook: TestSuite/Examples/Mass Roll-up Example.ipynb\n",
      "Executing: TestSuite/Examples/Room Model.ipynb\n"
     ]
    },
    {
     "name": "stderr",
     "output_type": "stream",
     "text": [
      "/home/sysml/conda/lib/python3.12/site-packages/nbformat/__init__.py:96: MissingIDFieldWarning: Cell is missing an id field, this will become a hard error in future nbformat versions. You may want to use `normalize()` on your notebooks before validations (available since nbformat 5.1.4). Previous versions of nbformat are fixing this issue transparently, and will stop doing so in the future.\n",
      "  validate(nb)\n"
     ]
    },
    {
     "name": "stdout",
     "output_type": "stream",
     "text": [
      "Reading /home/sysml/conda/share/jupyter/kernels/sysml/sysml.library/Kernel Libraries/Kernel Semantic Library/Observation.kerml...\n"
     ]
    },
    {
     "name": "stderr",
     "output_type": "stream",
     "text": [
      "log4j:WARN No appenders could be found for logger (org.eclipse.xtext.parser.antlr.AbstractInternalAntlrParser).\n",
      "log4j:WARN Please initialize the log4j system properly.\n",
      "log4j:WARN See http://logging.apache.org/log4j/1.2/faq.html#noconfig for more info.\n"
     ]
    },
    {
     "name": "stdout",
     "output_type": "stream",
     "text": [
      "Reading /home/sysml/conda/share/jupyter/kernels/sysml/sysml.library/Kernel Libraries/Kernel Semantic Library/Transfers.kerml...\n",
      "Reading /home/sysml/conda/share/jupyter/kernels/sysml/sysml.library/Kernel Libraries/Kernel Semantic Library/Metaobjects.kerml...\n",
      "Reading /home/sysml/conda/share/jupyter/kernels/sysml/sysml.library/Kernel Libraries/Kernel Semantic Library/Triggers.kerml...\n",
      "Reading /home/sysml/conda/share/jupyter/kernels/sysml/sysml.library/Kernel Libraries/Kernel Semantic Library/Links.kerml...\n",
      "Reading /home/sysml/conda/share/jupyter/kernels/sysml/sysml.library/Kernel Libraries/Kernel Semantic Library/Base.kerml...\n",
      "Reading /home/sysml/conda/share/jupyter/kernels/sysml/sysml.library/Kernel Libraries/Kernel Semantic Library/Objects.kerml...\n",
      "Reading /home/sysml/conda/share/jupyter/kernels/sysml/sysml.library/Kernel Libraries/Kernel Semantic Library/Clocks.kerml...\n",
      "Reading /home/sysml/conda/share/jupyter/kernels/sysml/sysml.library/Kernel Libraries/Kernel Semantic Library/KerML.kerml...\n"
     ]
    },
    {
     "name": "stdout",
     "output_type": "stream",
     "text": [
      "Reading /home/sysml/conda/share/jupyter/kernels/sysml/sysml.library/Kernel Libraries/Kernel Semantic Library/FeatureReferencingPerformances.kerml...\n",
      "Reading /home/sysml/conda/share/jupyter/kernels/sysml/sysml.library/Kernel Libraries/Kernel Semantic Library/Performances.kerml...\n",
      "Reading /home/sysml/conda/share/jupyter/kernels/sysml/sysml.library/Kernel Libraries/Kernel Semantic Library/Occurrences.kerml...\n",
      "Reading /home/sysml/conda/share/jupyter/kernels/sysml/sysml.library/Kernel Libraries/Kernel Semantic Library/ControlPerformances.kerml...\n",
      "Reading /home/sysml/conda/share/jupyter/kernels/sysml/sysml.library/Kernel Libraries/Kernel Semantic Library/StatePerformances.kerml...\n",
      "Reading /home/sysml/conda/share/jupyter/kernels/sysml/sysml.library/Kernel Libraries/Kernel Semantic Library/TransitionPerformances.kerml...\n",
      "Reading /home/sysml/conda/share/jupyter/kernels/sysml/sysml.library/Kernel Libraries/Kernel Semantic Library/SpatialFrames.kerml...\n",
      "Reading /home/sysml/conda/share/jupyter/kernels/sysml/sysml.library/Kernel Libraries/Kernel Data Type Library/VectorValues.kerml...\n",
      "Reading /home/sysml/conda/share/jupyter/kernels/sysml/sysml.library/Kernel Libraries/Kernel Data Type Library/Collections.kerml...\n",
      "Reading /home/sysml/conda/share/jupyter/kernels/sysml/sysml.library/Kernel Libraries/Kernel Data Type Library/ScalarValues.kerml...\n",
      "Reading /home/sysml/conda/share/jupyter/kernels/sysml/sysml.library/Kernel Libraries/Kernel Function Library/NaturalFunctions.kerml...\n",
      "Reading /home/sysml/conda/share/jupyter/kernels/sysml/sysml.library/Kernel Libraries/Kernel Function Library/BaseFunctions.kerml...\n",
      "Reading /home/sysml/conda/share/jupyter/kernels/sysml/sysml.library/Kernel Libraries/Kernel Function Library/DataFunctions.kerml...\n",
      "Reading /home/sysml/conda/share/jupyter/kernels/sysml/sysml.library/Kernel Libraries/Kernel Function Library/IntegerFunctions.kerml...\n",
      "Reading /home/sysml/conda/share/jupyter/kernels/sysml/sysml.library/Kernel Libraries/Kernel Function Library/RealFunctions.kerml...\n",
      "Reading /home/sysml/conda/share/jupyter/kernels/sysml/sysml.library/Kernel Libraries/Kernel Function Library/NumericalFunctions.kerml...\n"
     ]
    },
    {
     "name": "stdout",
     "output_type": "stream",
     "text": [
      "Reading /home/sysml/conda/share/jupyter/kernels/sysml/sysml.library/Kernel Libraries/Kernel Function Library/VectorFunctions.kerml...\n",
      "Reading /home/sysml/conda/share/jupyter/kernels/sysml/sysml.library/Kernel Libraries/Kernel Function Library/SequenceFunctions.kerml...\n",
      "Reading /home/sysml/conda/share/jupyter/kernels/sysml/sysml.library/Kernel Libraries/Kernel Function Library/ComplexFunctions.kerml...\n",
      "Reading /home/sysml/conda/share/jupyter/kernels/sysml/sysml.library/Kernel Libraries/Kernel Function Library/RationalFunctions.kerml...\n",
      "Reading /home/sysml/conda/share/jupyter/kernels/sysml/sysml.library/Kernel Libraries/Kernel Function Library/StringFunctions.kerml...\n",
      "Reading /home/sysml/conda/share/jupyter/kernels/sysml/sysml.library/Kernel Libraries/Kernel Function Library/ScalarFunctions.kerml...\n",
      "Reading /home/sysml/conda/share/jupyter/kernels/sysml/sysml.library/Kernel Libraries/Kernel Function Library/CollectionFunctions.kerml...\n",
      "Reading /home/sysml/conda/share/jupyter/kernels/sysml/sysml.library/Kernel Libraries/Kernel Function Library/BooleanFunctions.kerml...\n",
      "Reading /home/sysml/conda/share/jupyter/kernels/sysml/sysml.library/Kernel Libraries/Kernel Function Library/OccurrenceFunctions.kerml...\n",
      "Reading /home/sysml/conda/share/jupyter/kernels/sysml/sysml.library/Kernel Libraries/Kernel Function Library/TrigFunctions.kerml...\n",
      "Reading /home/sysml/conda/share/jupyter/kernels/sysml/sysml.library/Kernel Libraries/Kernel Function Library/ControlFunctions.kerml...\n",
      "Reading /home/sysml/conda/share/jupyter/kernels/sysml/sysml.library/Systems Library/Connections.sysml...\n"
     ]
    },
    {
     "name": "stdout",
     "output_type": "stream",
     "text": [
      "Reading /home/sysml/conda/share/jupyter/kernels/sysml/sysml.library/Systems Library/States.sysml...\n",
      "Reading /home/sysml/conda/share/jupyter/kernels/sysml/sysml.library/Systems Library/Actions.sysml...\n",
      "Reading /home/sysml/conda/share/jupyter/kernels/sysml/sysml.library/Systems Library/Metadata.sysml...\n",
      "Reading /home/sysml/conda/share/jupyter/kernels/sysml/sysml.library/Systems Library/Requirements.sysml...\n",
      "Reading /home/sysml/conda/share/jupyter/kernels/sysml/sysml.library/Systems Library/AnalysisCases.sysml...\n",
      "Reading /home/sysml/conda/share/jupyter/kernels/sysml/sysml.library/Systems Library/Attributes.sysml...\n",
      "Reading /home/sysml/conda/share/jupyter/kernels/sysml/sysml.library/Systems Library/Cases.sysml...\n",
      "Reading /home/sysml/conda/share/jupyter/kernels/sysml/sysml.library/Systems Library/VerificationCases.sysml...\n",
      "Reading /home/sysml/conda/share/jupyter/kernels/sysml/sysml.library/Systems Library/Interfaces.sysml...\n",
      "Reading /home/sysml/conda/share/jupyter/kernels/sysml/sysml.library/Systems Library/Ports.sysml...\n",
      "Reading /home/sysml/conda/share/jupyter/kernels/sysml/sysml.library/Systems Library/Views.sysml...\n",
      "Reading /home/sysml/conda/share/jupyter/kernels/sysml/sysml.library/Systems Library/UseCases.sysml...\n",
      "Reading /home/sysml/conda/share/jupyter/kernels/sysml/sysml.library/Systems Library/Parts.sysml...\n",
      "Reading /home/sysml/conda/share/jupyter/kernels/sysml/sysml.library/Systems Library/SysML.sysml...\n",
      "Reading /home/sysml/conda/share/jupyter/kernels/sysml/sysml.library/Systems Library/Constraints.sysml...\n",
      "Reading /home/sysml/conda/share/jupyter/kernels/sysml/sysml.library/Systems Library/Items.sysml...\n"
     ]
    },
    {
     "name": "stdout",
     "output_type": "stream",
     "text": [
      "Reading /home/sysml/conda/share/jupyter/kernels/sysml/sysml.library/Systems Library/Calculations.sysml...\n",
      "Reading /home/sysml/conda/share/jupyter/kernels/sysml/sysml.library/Systems Library/StandardViewDefinitions.sysml...\n",
      "Reading /home/sysml/conda/share/jupyter/kernels/sysml/sysml.library/Systems Library/Allocations.sysml...\n",
      "Reading /home/sysml/conda/share/jupyter/kernels/sysml/sysml.library/Domain Libraries/Geometry/SpatialItems.sysml...\n",
      "Reading /home/sysml/conda/share/jupyter/kernels/sysml/sysml.library/Domain Libraries/Geometry/ShapeItems.sysml...\n",
      "Reading /home/sysml/conda/share/jupyter/kernels/sysml/sysml.library/Domain Libraries/Analysis/TradeStudies.sysml...\n",
      "Reading /home/sysml/conda/share/jupyter/kernels/sysml/sysml.library/Domain Libraries/Analysis/StateSpaceRepresentation.sysml...\n",
      "Reading /home/sysml/conda/share/jupyter/kernels/sysml/sysml.library/Domain Libraries/Analysis/SampledFunctions.sysml...\n",
      "Reading /home/sysml/conda/share/jupyter/kernels/sysml/sysml.library/Domain Libraries/Analysis/AnalysisTooling.sysml...\n",
      "Reading /home/sysml/conda/share/jupyter/kernels/sysml/sysml.library/Domain Libraries/Cause and Effect/CausationConnections.sysml...\n",
      "Reading /home/sysml/conda/share/jupyter/kernels/sysml/sysml.library/Domain Libraries/Cause and Effect/CauseAndEffect.sysml...\n",
      "Reading /home/sysml/conda/share/jupyter/kernels/sysml/sysml.library/Domain Libraries/Quantities and Units/TensorCalculations.sysml...\n",
      "Reading /home/sysml/conda/share/jupyter/kernels/sysml/sysml.library/Domain Libraries/Quantities and Units/ISQSpaceTime.sysml...\n",
      "Reading /home/sysml/conda/share/jupyter/kernels/sysml/sysml.library/Domain Libraries/Quantities and Units/ISQElectromagnetism.sysml...\n"
     ]
    },
    {
     "name": "stdout",
     "output_type": "stream",
     "text": [
      "Reading /home/sysml/conda/share/jupyter/kernels/sysml/sysml.library/Domain Libraries/Quantities and Units/USCustomaryUnits.sysml...\n",
      "Reading /home/sysml/conda/share/jupyter/kernels/sysml/sysml.library/Domain Libraries/Quantities and Units/Time.sysml...\n",
      "Reading /home/sysml/conda/share/jupyter/kernels/sysml/sysml.library/Domain Libraries/Quantities and Units/MeasurementReferences.sysml...\n",
      "Reading /home/sysml/conda/share/jupyter/kernels/sysml/sysml.library/Domain Libraries/Quantities and Units/ISQBase.sysml...\n",
      "Reading /home/sysml/conda/share/jupyter/kernels/sysml/sysml.library/Domain Libraries/Quantities and Units/ISQCondensedMatter.sysml...\n",
      "Reading /home/sysml/conda/share/jupyter/kernels/sysml/sysml.library/Domain Libraries/Quantities and Units/ISQMechanics.sysml...\n",
      "Reading /home/sysml/conda/share/jupyter/kernels/sysml/sysml.library/Domain Libraries/Quantities and Units/SI.sysml...\n",
      "Reading /home/sysml/conda/share/jupyter/kernels/sysml/sysml.library/Domain Libraries/Quantities and Units/ISQCharacteristicNumbers.sysml...\n",
      "Reading /home/sysml/conda/share/jupyter/kernels/sysml/sysml.library/Domain Libraries/Quantities and Units/QuantityCalculations.sysml...\n",
      "Reading /home/sysml/conda/share/jupyter/kernels/sysml/sysml.library/Domain Libraries/Quantities and Units/MeasurementRefCalculations.sysml...\n",
      "Reading /home/sysml/conda/share/jupyter/kernels/sysml/sysml.library/Domain Libraries/Quantities and Units/ISQAtomicNuclear.sysml...\n"
     ]
    },
    {
     "name": "stdout",
     "output_type": "stream",
     "text": [
      "Reading /home/sysml/conda/share/jupyter/kernels/sysml/sysml.library/Domain Libraries/Quantities and Units/ISQ.sysml...\n",
      "Reading /home/sysml/conda/share/jupyter/kernels/sysml/sysml.library/Domain Libraries/Quantities and Units/ISQAcoustics.sysml...\n",
      "Reading /home/sysml/conda/share/jupyter/kernels/sysml/sysml.library/Domain Libraries/Quantities and Units/ISQLight.sysml...\n",
      "Reading /home/sysml/conda/share/jupyter/kernels/sysml/sysml.library/Domain Libraries/Quantities and Units/ISQInformation.sysml...\n",
      "Reading /home/sysml/conda/share/jupyter/kernels/sysml/sysml.library/Domain Libraries/Quantities and Units/ISQThermodynamics.sysml...\n",
      "Reading /home/sysml/conda/share/jupyter/kernels/sysml/sysml.library/Domain Libraries/Quantities and Units/SIPrefixes.sysml...\n",
      "Reading /home/sysml/conda/share/jupyter/kernels/sysml/sysml.library/Domain Libraries/Quantities and Units/VectorCalculations.sysml...\n",
      "Reading /home/sysml/conda/share/jupyter/kernels/sysml/sysml.library/Domain Libraries/Quantities and Units/ISQChemistryMolecular.sysml...\n",
      "Reading /home/sysml/conda/share/jupyter/kernels/sysml/sysml.library/Domain Libraries/Quantities and Units/Quantities.sysml...\n",
      "Reading /home/sysml/conda/share/jupyter/kernels/sysml/sysml.library/Domain Libraries/Metadata/ImageMetadata.sysml...\n",
      "Reading /home/sysml/conda/share/jupyter/kernels/sysml/sysml.library/Domain Libraries/Metadata/ModelingMetadata.sysml...\n",
      "Reading /home/sysml/conda/share/jupyter/kernels/sysml/sysml.library/Domain Libraries/Metadata/ParametersOfInterestMetadata.sysml...\n",
      "Reading /home/sysml/conda/share/jupyter/kernels/sysml/sysml.library/Domain Libraries/Metadata/RiskMetadata.sysml...\n",
      "Reading /home/sysml/conda/share/jupyter/kernels/sysml/sysml.library/Domain Libraries/Requirement Derivation/RequirementDerivation.sysml...\n",
      "Reading /home/sysml/conda/share/jupyter/kernels/sysml/sysml.library/Domain Libraries/Requirement Derivation/DerivationConnections.sysml...\n"
     ]
    },
    {
     "name": "stderr",
     "output_type": "stream",
     "text": [
      "Dec 16, 2024 3:29:24 AM io.github.spencerpark.jupyter.channels.Loop start\n",
      "INFO: Loop starting...\n",
      "Dec 16, 2024 3:29:24 AM io.github.spencerpark.jupyter.channels.Loop start\n",
      "INFO: Loop started.\n",
      "Dec 16, 2024 3:29:24 AM io.github.spencerpark.jupyter.channels.Loop start\n",
      "INFO: Loop starting...\n",
      "Dec 16, 2024 3:29:24 AM io.github.spencerpark.jupyter.channels.Loop start\n",
      "INFO: Loop started.\n",
      "Dec 16, 2024 3:29:24 AM io.github.spencerpark.jupyter.channels.Loop start\n",
      "INFO: Loop starting...\n",
      "Dec 16, 2024 3:29:24 AM io.github.spencerpark.jupyter.channels.Loop start\n",
      "INFO: Loop started.\n"
     ]
    },
    {
     "name": "stderr",
     "output_type": "stream",
     "text": [
      "Dec 16, 2024 3:29:25 AM io.github.spencerpark.jupyter.channels.Loop shutdown\n",
      "INFO: Loop shutdown.\n",
      "Dec 16, 2024 3:29:25 AM io.github.spencerpark.jupyter.channels.Loop shutdown\n",
      "INFO: Loop shutdown.\n",
      "Dec 16, 2024 3:29:25 AM io.github.spencerpark.jupyter.channels.Loop shutdown\n",
      "INFO: Loop shutdown.\n",
      "Dec 16, 2024 3:29:25 AM io.github.spencerpark.jupyter.channels.Loop run\n",
      "INFO: Running loop shutdown callback.\n",
      "Dec 16, 2024 3:29:25 AM io.github.spencerpark.jupyter.channels.Loop run\n",
      "INFO: Loop stopped.\n",
      "Dec 16, 2024 3:29:25 AM io.github.spencerpark.jupyter.channels.Loop run\n",
      "INFO: Running loop shutdown callback.\n",
      "Dec 16, 2024 3:29:25 AM io.github.spencerpark.jupyter.channels.Loop run\n",
      "INFO: Loop stopped.\n"
     ]
    },
    {
     "name": "stderr",
     "output_type": "stream",
     "text": [
      "Dec 16, 2024 3:29:26 AM io.github.spencerpark.jupyter.channels.Loop run\n",
      "INFO: Running loop shutdown callback.\n",
      "Dec 16, 2024 3:29:26 AM io.github.spencerpark.jupyter.channels.Loop run\n",
      "INFO: Loop stopped.\n"
     ]
    },
    {
     "name": "stdout",
     "output_type": "stream",
     "text": [
      "Signing notebook: TestSuite/Examples/Room Model.ipynb\n",
      "Executing: TestSuite/Examples/Comment Examples.ipynb\n"
     ]
    },
    {
     "name": "stderr",
     "output_type": "stream",
     "text": [
      "/home/sysml/conda/lib/python3.12/site-packages/nbformat/__init__.py:96: MissingIDFieldWarning: Cell is missing an id field, this will become a hard error in future nbformat versions. You may want to use `normalize()` on your notebooks before validations (available since nbformat 5.1.4). Previous versions of nbformat are fixing this issue transparently, and will stop doing so in the future.\n",
      "  validate(nb)\n"
     ]
    },
    {
     "name": "stdout",
     "output_type": "stream",
     "text": [
      "Reading /home/sysml/conda/share/jupyter/kernels/sysml/sysml.library/Kernel Libraries/Kernel Semantic Library/Observation.kerml...\n"
     ]
    },
    {
     "name": "stderr",
     "output_type": "stream",
     "text": [
      "log4j:WARN No appenders could be found for logger (org.eclipse.xtext.parser.antlr.AbstractInternalAntlrParser).\n",
      "log4j:WARN Please initialize the log4j system properly.\n",
      "log4j:WARN See http://logging.apache.org/log4j/1.2/faq.html#noconfig for more info.\n"
     ]
    },
    {
     "name": "stdout",
     "output_type": "stream",
     "text": [
      "Reading /home/sysml/conda/share/jupyter/kernels/sysml/sysml.library/Kernel Libraries/Kernel Semantic Library/Transfers.kerml...\n",
      "Reading /home/sysml/conda/share/jupyter/kernels/sysml/sysml.library/Kernel Libraries/Kernel Semantic Library/Metaobjects.kerml...\n",
      "Reading /home/sysml/conda/share/jupyter/kernels/sysml/sysml.library/Kernel Libraries/Kernel Semantic Library/Triggers.kerml...\n",
      "Reading /home/sysml/conda/share/jupyter/kernels/sysml/sysml.library/Kernel Libraries/Kernel Semantic Library/Links.kerml...\n",
      "Reading /home/sysml/conda/share/jupyter/kernels/sysml/sysml.library/Kernel Libraries/Kernel Semantic Library/Base.kerml...\n",
      "Reading /home/sysml/conda/share/jupyter/kernels/sysml/sysml.library/Kernel Libraries/Kernel Semantic Library/Objects.kerml...\n",
      "Reading /home/sysml/conda/share/jupyter/kernels/sysml/sysml.library/Kernel Libraries/Kernel Semantic Library/Clocks.kerml...\n",
      "Reading /home/sysml/conda/share/jupyter/kernels/sysml/sysml.library/Kernel Libraries/Kernel Semantic Library/KerML.kerml...\n"
     ]
    },
    {
     "name": "stdout",
     "output_type": "stream",
     "text": [
      "Reading /home/sysml/conda/share/jupyter/kernels/sysml/sysml.library/Kernel Libraries/Kernel Semantic Library/FeatureReferencingPerformances.kerml...\n",
      "Reading /home/sysml/conda/share/jupyter/kernels/sysml/sysml.library/Kernel Libraries/Kernel Semantic Library/Performances.kerml...\n",
      "Reading /home/sysml/conda/share/jupyter/kernels/sysml/sysml.library/Kernel Libraries/Kernel Semantic Library/Occurrences.kerml...\n",
      "Reading /home/sysml/conda/share/jupyter/kernels/sysml/sysml.library/Kernel Libraries/Kernel Semantic Library/ControlPerformances.kerml...\n",
      "Reading /home/sysml/conda/share/jupyter/kernels/sysml/sysml.library/Kernel Libraries/Kernel Semantic Library/StatePerformances.kerml...\n",
      "Reading /home/sysml/conda/share/jupyter/kernels/sysml/sysml.library/Kernel Libraries/Kernel Semantic Library/TransitionPerformances.kerml...\n",
      "Reading /home/sysml/conda/share/jupyter/kernels/sysml/sysml.library/Kernel Libraries/Kernel Semantic Library/SpatialFrames.kerml...\n",
      "Reading /home/sysml/conda/share/jupyter/kernels/sysml/sysml.library/Kernel Libraries/Kernel Data Type Library/VectorValues.kerml...\n",
      "Reading /home/sysml/conda/share/jupyter/kernels/sysml/sysml.library/Kernel Libraries/Kernel Data Type Library/Collections.kerml...\n",
      "Reading /home/sysml/conda/share/jupyter/kernels/sysml/sysml.library/Kernel Libraries/Kernel Data Type Library/ScalarValues.kerml...\n",
      "Reading /home/sysml/conda/share/jupyter/kernels/sysml/sysml.library/Kernel Libraries/Kernel Function Library/NaturalFunctions.kerml...\n",
      "Reading /home/sysml/conda/share/jupyter/kernels/sysml/sysml.library/Kernel Libraries/Kernel Function Library/BaseFunctions.kerml...\n",
      "Reading /home/sysml/conda/share/jupyter/kernels/sysml/sysml.library/Kernel Libraries/Kernel Function Library/DataFunctions.kerml...\n",
      "Reading /home/sysml/conda/share/jupyter/kernels/sysml/sysml.library/Kernel Libraries/Kernel Function Library/IntegerFunctions.kerml...\n",
      "Reading /home/sysml/conda/share/jupyter/kernels/sysml/sysml.library/Kernel Libraries/Kernel Function Library/RealFunctions.kerml...\n",
      "Reading /home/sysml/conda/share/jupyter/kernels/sysml/sysml.library/Kernel Libraries/Kernel Function Library/NumericalFunctions.kerml...\n"
     ]
    },
    {
     "name": "stdout",
     "output_type": "stream",
     "text": [
      "Reading /home/sysml/conda/share/jupyter/kernels/sysml/sysml.library/Kernel Libraries/Kernel Function Library/VectorFunctions.kerml...\n",
      "Reading /home/sysml/conda/share/jupyter/kernels/sysml/sysml.library/Kernel Libraries/Kernel Function Library/SequenceFunctions.kerml...\n",
      "Reading /home/sysml/conda/share/jupyter/kernels/sysml/sysml.library/Kernel Libraries/Kernel Function Library/ComplexFunctions.kerml...\n",
      "Reading /home/sysml/conda/share/jupyter/kernels/sysml/sysml.library/Kernel Libraries/Kernel Function Library/RationalFunctions.kerml...\n",
      "Reading /home/sysml/conda/share/jupyter/kernels/sysml/sysml.library/Kernel Libraries/Kernel Function Library/StringFunctions.kerml...\n",
      "Reading /home/sysml/conda/share/jupyter/kernels/sysml/sysml.library/Kernel Libraries/Kernel Function Library/ScalarFunctions.kerml...\n",
      "Reading /home/sysml/conda/share/jupyter/kernels/sysml/sysml.library/Kernel Libraries/Kernel Function Library/CollectionFunctions.kerml...\n",
      "Reading /home/sysml/conda/share/jupyter/kernels/sysml/sysml.library/Kernel Libraries/Kernel Function Library/BooleanFunctions.kerml...\n",
      "Reading /home/sysml/conda/share/jupyter/kernels/sysml/sysml.library/Kernel Libraries/Kernel Function Library/OccurrenceFunctions.kerml...\n",
      "Reading /home/sysml/conda/share/jupyter/kernels/sysml/sysml.library/Kernel Libraries/Kernel Function Library/TrigFunctions.kerml...\n",
      "Reading /home/sysml/conda/share/jupyter/kernels/sysml/sysml.library/Kernel Libraries/Kernel Function Library/ControlFunctions.kerml...\n",
      "Reading /home/sysml/conda/share/jupyter/kernels/sysml/sysml.library/Systems Library/Connections.sysml...\n"
     ]
    },
    {
     "name": "stdout",
     "output_type": "stream",
     "text": [
      "Reading /home/sysml/conda/share/jupyter/kernels/sysml/sysml.library/Systems Library/States.sysml...\n",
      "Reading /home/sysml/conda/share/jupyter/kernels/sysml/sysml.library/Systems Library/Actions.sysml...\n",
      "Reading /home/sysml/conda/share/jupyter/kernels/sysml/sysml.library/Systems Library/Metadata.sysml...\n",
      "Reading /home/sysml/conda/share/jupyter/kernels/sysml/sysml.library/Systems Library/Requirements.sysml...\n",
      "Reading /home/sysml/conda/share/jupyter/kernels/sysml/sysml.library/Systems Library/AnalysisCases.sysml...\n",
      "Reading /home/sysml/conda/share/jupyter/kernels/sysml/sysml.library/Systems Library/Attributes.sysml...\n",
      "Reading /home/sysml/conda/share/jupyter/kernels/sysml/sysml.library/Systems Library/Cases.sysml...\n",
      "Reading /home/sysml/conda/share/jupyter/kernels/sysml/sysml.library/Systems Library/VerificationCases.sysml...\n",
      "Reading /home/sysml/conda/share/jupyter/kernels/sysml/sysml.library/Systems Library/Interfaces.sysml...\n",
      "Reading /home/sysml/conda/share/jupyter/kernels/sysml/sysml.library/Systems Library/Ports.sysml...\n",
      "Reading /home/sysml/conda/share/jupyter/kernels/sysml/sysml.library/Systems Library/Views.sysml...\n",
      "Reading /home/sysml/conda/share/jupyter/kernels/sysml/sysml.library/Systems Library/UseCases.sysml...\n",
      "Reading /home/sysml/conda/share/jupyter/kernels/sysml/sysml.library/Systems Library/Parts.sysml...\n",
      "Reading /home/sysml/conda/share/jupyter/kernels/sysml/sysml.library/Systems Library/SysML.sysml...\n",
      "Reading /home/sysml/conda/share/jupyter/kernels/sysml/sysml.library/Systems Library/Constraints.sysml...\n",
      "Reading /home/sysml/conda/share/jupyter/kernels/sysml/sysml.library/Systems Library/Items.sysml...\n",
      "Reading /home/sysml/conda/share/jupyter/kernels/sysml/sysml.library/Systems Library/Calculations.sysml...\n",
      "Reading /home/sysml/conda/share/jupyter/kernels/sysml/sysml.library/Systems Library/StandardViewDefinitions.sysml...\n",
      "Reading /home/sysml/conda/share/jupyter/kernels/sysml/sysml.library/Systems Library/Allocations.sysml...\n",
      "Reading /home/sysml/conda/share/jupyter/kernels/sysml/sysml.library/Domain Libraries/Geometry/SpatialItems.sysml...\n"
     ]
    },
    {
     "name": "stdout",
     "output_type": "stream",
     "text": [
      "Reading /home/sysml/conda/share/jupyter/kernels/sysml/sysml.library/Domain Libraries/Geometry/ShapeItems.sysml...\n",
      "Reading /home/sysml/conda/share/jupyter/kernels/sysml/sysml.library/Domain Libraries/Analysis/TradeStudies.sysml...\n",
      "Reading /home/sysml/conda/share/jupyter/kernels/sysml/sysml.library/Domain Libraries/Analysis/StateSpaceRepresentation.sysml...\n",
      "Reading /home/sysml/conda/share/jupyter/kernels/sysml/sysml.library/Domain Libraries/Analysis/SampledFunctions.sysml...\n",
      "Reading /home/sysml/conda/share/jupyter/kernels/sysml/sysml.library/Domain Libraries/Analysis/AnalysisTooling.sysml...\n",
      "Reading /home/sysml/conda/share/jupyter/kernels/sysml/sysml.library/Domain Libraries/Cause and Effect/CausationConnections.sysml...\n",
      "Reading /home/sysml/conda/share/jupyter/kernels/sysml/sysml.library/Domain Libraries/Cause and Effect/CauseAndEffect.sysml...\n",
      "Reading /home/sysml/conda/share/jupyter/kernels/sysml/sysml.library/Domain Libraries/Quantities and Units/TensorCalculations.sysml...\n",
      "Reading /home/sysml/conda/share/jupyter/kernels/sysml/sysml.library/Domain Libraries/Quantities and Units/ISQSpaceTime.sysml...\n",
      "Reading /home/sysml/conda/share/jupyter/kernels/sysml/sysml.library/Domain Libraries/Quantities and Units/ISQElectromagnetism.sysml...\n"
     ]
    },
    {
     "name": "stdout",
     "output_type": "stream",
     "text": [
      "Reading /home/sysml/conda/share/jupyter/kernels/sysml/sysml.library/Domain Libraries/Quantities and Units/USCustomaryUnits.sysml...\n",
      "Reading /home/sysml/conda/share/jupyter/kernels/sysml/sysml.library/Domain Libraries/Quantities and Units/Time.sysml...\n",
      "Reading /home/sysml/conda/share/jupyter/kernels/sysml/sysml.library/Domain Libraries/Quantities and Units/MeasurementReferences.sysml...\n",
      "Reading /home/sysml/conda/share/jupyter/kernels/sysml/sysml.library/Domain Libraries/Quantities and Units/ISQBase.sysml...\n",
      "Reading /home/sysml/conda/share/jupyter/kernels/sysml/sysml.library/Domain Libraries/Quantities and Units/ISQCondensedMatter.sysml...\n",
      "Reading /home/sysml/conda/share/jupyter/kernels/sysml/sysml.library/Domain Libraries/Quantities and Units/ISQMechanics.sysml...\n",
      "Reading /home/sysml/conda/share/jupyter/kernels/sysml/sysml.library/Domain Libraries/Quantities and Units/SI.sysml...\n",
      "Reading /home/sysml/conda/share/jupyter/kernels/sysml/sysml.library/Domain Libraries/Quantities and Units/ISQCharacteristicNumbers.sysml...\n",
      "Reading /home/sysml/conda/share/jupyter/kernels/sysml/sysml.library/Domain Libraries/Quantities and Units/QuantityCalculations.sysml...\n",
      "Reading /home/sysml/conda/share/jupyter/kernels/sysml/sysml.library/Domain Libraries/Quantities and Units/MeasurementRefCalculations.sysml...\n",
      "Reading /home/sysml/conda/share/jupyter/kernels/sysml/sysml.library/Domain Libraries/Quantities and Units/ISQAtomicNuclear.sysml...\n"
     ]
    },
    {
     "name": "stdout",
     "output_type": "stream",
     "text": [
      "Reading /home/sysml/conda/share/jupyter/kernels/sysml/sysml.library/Domain Libraries/Quantities and Units/ISQ.sysml...\n",
      "Reading /home/sysml/conda/share/jupyter/kernels/sysml/sysml.library/Domain Libraries/Quantities and Units/ISQAcoustics.sysml...\n",
      "Reading /home/sysml/conda/share/jupyter/kernels/sysml/sysml.library/Domain Libraries/Quantities and Units/ISQLight.sysml...\n",
      "Reading /home/sysml/conda/share/jupyter/kernels/sysml/sysml.library/Domain Libraries/Quantities and Units/ISQInformation.sysml...\n",
      "Reading /home/sysml/conda/share/jupyter/kernels/sysml/sysml.library/Domain Libraries/Quantities and Units/ISQThermodynamics.sysml...\n",
      "Reading /home/sysml/conda/share/jupyter/kernels/sysml/sysml.library/Domain Libraries/Quantities and Units/SIPrefixes.sysml...\n",
      "Reading /home/sysml/conda/share/jupyter/kernels/sysml/sysml.library/Domain Libraries/Quantities and Units/VectorCalculations.sysml...\n",
      "Reading /home/sysml/conda/share/jupyter/kernels/sysml/sysml.library/Domain Libraries/Quantities and Units/ISQChemistryMolecular.sysml...\n",
      "Reading /home/sysml/conda/share/jupyter/kernels/sysml/sysml.library/Domain Libraries/Quantities and Units/Quantities.sysml...\n",
      "Reading /home/sysml/conda/share/jupyter/kernels/sysml/sysml.library/Domain Libraries/Metadata/ImageMetadata.sysml...\n",
      "Reading /home/sysml/conda/share/jupyter/kernels/sysml/sysml.library/Domain Libraries/Metadata/ModelingMetadata.sysml...\n",
      "Reading /home/sysml/conda/share/jupyter/kernels/sysml/sysml.library/Domain Libraries/Metadata/ParametersOfInterestMetadata.sysml...\n",
      "Reading /home/sysml/conda/share/jupyter/kernels/sysml/sysml.library/Domain Libraries/Metadata/RiskMetadata.sysml...\n",
      "Reading /home/sysml/conda/share/jupyter/kernels/sysml/sysml.library/Domain Libraries/Requirement Derivation/RequirementDerivation.sysml...\n",
      "Reading /home/sysml/conda/share/jupyter/kernels/sysml/sysml.library/Domain Libraries/Requirement Derivation/DerivationConnections.sysml...\n"
     ]
    },
    {
     "name": "stderr",
     "output_type": "stream",
     "text": [
      "Dec 16, 2024 3:29:30 AM io.github.spencerpark.jupyter.channels.Loop start\n",
      "INFO: Loop starting...\n",
      "Dec 16, 2024 3:29:30 AM io.github.spencerpark.jupyter.channels.Loop start\n",
      "INFO: Loop started.\n",
      "Dec 16, 2024 3:29:30 AM io.github.spencerpark.jupyter.channels.Loop start\n",
      "INFO: Loop starting...\n",
      "Dec 16, 2024 3:29:30 AM io.github.spencerpark.jupyter.channels.Loop start\n",
      "INFO: Loop started.\n",
      "Dec 16, 2024 3:29:30 AM io.github.spencerpark.jupyter.channels.Loop start\n",
      "INFO: Loop starting...\n",
      "Dec 16, 2024 3:29:30 AM io.github.spencerpark.jupyter.channels.Loop start\n",
      "INFO: Loop started.\n"
     ]
    },
    {
     "name": "stderr",
     "output_type": "stream",
     "text": [
      "Dec 16, 2024 3:29:31 AM io.github.spencerpark.jupyter.channels.Loop shutdown\n",
      "INFO: Loop shutdown.\n",
      "Dec 16, 2024 3:29:31 AM io.github.spencerpark.jupyter.channels.Loop shutdown\n",
      "INFO: Loop shutdown.\n",
      "Dec 16, 2024 3:29:31 AM io.github.spencerpark.jupyter.channels.Loop shutdown\n",
      "INFO: Loop shutdown.\n",
      "Dec 16, 2024 3:29:31 AM io.github.spencerpark.jupyter.channels.Loop run\n",
      "INFO: Running loop shutdown callback.\n",
      "Dec 16, 2024 3:29:31 AM io.github.spencerpark.jupyter.channels.Loop run\n",
      "INFO: Loop stopped.\n",
      "Dec 16, 2024 3:29:31 AM io.github.spencerpark.jupyter.channels.Loop run\n",
      "INFO: Running loop shutdown callback.\n",
      "Dec 16, 2024 3:29:31 AM io.github.spencerpark.jupyter.channels.Loop run\n",
      "INFO: Loop stopped.\n",
      "Dec 16, 2024 3:29:31 AM io.github.spencerpark.jupyter.channels.Loop run\n",
      "INFO: Running loop shutdown callback.\n",
      "Dec 16, 2024 3:29:31 AM io.github.spencerpark.jupyter.channels.Loop run\n",
      "INFO: Loop stopped.\n"
     ]
    },
    {
     "name": "stdout",
     "output_type": "stream",
     "text": [
      "Signing notebook: TestSuite/Examples/Comment Examples.ipynb\n",
      "Executing: TestSuite/Examples/Analysis Examples.ipynb\n"
     ]
    },
    {
     "name": "stderr",
     "output_type": "stream",
     "text": [
      "/home/sysml/conda/lib/python3.12/site-packages/nbformat/__init__.py:96: MissingIDFieldWarning: Cell is missing an id field, this will become a hard error in future nbformat versions. You may want to use `normalize()` on your notebooks before validations (available since nbformat 5.1.4). Previous versions of nbformat are fixing this issue transparently, and will stop doing so in the future.\n",
      "  validate(nb)\n"
     ]
    },
    {
     "name": "stdout",
     "output_type": "stream",
     "text": [
      "Reading /home/sysml/conda/share/jupyter/kernels/sysml/sysml.library/Kernel Libraries/Kernel Semantic Library/Observation.kerml...\n"
     ]
    },
    {
     "name": "stderr",
     "output_type": "stream",
     "text": [
      "log4j:WARN No appenders could be found for logger (org.eclipse.xtext.parser.antlr.AbstractInternalAntlrParser).\n",
      "log4j:WARN Please initialize the log4j system properly.\n",
      "log4j:WARN See http://logging.apache.org/log4j/1.2/faq.html#noconfig for more info.\n"
     ]
    },
    {
     "name": "stdout",
     "output_type": "stream",
     "text": [
      "Reading /home/sysml/conda/share/jupyter/kernels/sysml/sysml.library/Kernel Libraries/Kernel Semantic Library/Transfers.kerml...\n",
      "Reading /home/sysml/conda/share/jupyter/kernels/sysml/sysml.library/Kernel Libraries/Kernel Semantic Library/Metaobjects.kerml...\n",
      "Reading /home/sysml/conda/share/jupyter/kernels/sysml/sysml.library/Kernel Libraries/Kernel Semantic Library/Triggers.kerml...\n",
      "Reading /home/sysml/conda/share/jupyter/kernels/sysml/sysml.library/Kernel Libraries/Kernel Semantic Library/Links.kerml...\n",
      "Reading /home/sysml/conda/share/jupyter/kernels/sysml/sysml.library/Kernel Libraries/Kernel Semantic Library/Base.kerml...\n",
      "Reading /home/sysml/conda/share/jupyter/kernels/sysml/sysml.library/Kernel Libraries/Kernel Semantic Library/Objects.kerml...\n",
      "Reading /home/sysml/conda/share/jupyter/kernels/sysml/sysml.library/Kernel Libraries/Kernel Semantic Library/Clocks.kerml...\n",
      "Reading /home/sysml/conda/share/jupyter/kernels/sysml/sysml.library/Kernel Libraries/Kernel Semantic Library/KerML.kerml...\n"
     ]
    },
    {
     "name": "stdout",
     "output_type": "stream",
     "text": [
      "Reading /home/sysml/conda/share/jupyter/kernels/sysml/sysml.library/Kernel Libraries/Kernel Semantic Library/FeatureReferencingPerformances.kerml...\n",
      "Reading /home/sysml/conda/share/jupyter/kernels/sysml/sysml.library/Kernel Libraries/Kernel Semantic Library/Performances.kerml...\n",
      "Reading /home/sysml/conda/share/jupyter/kernels/sysml/sysml.library/Kernel Libraries/Kernel Semantic Library/Occurrences.kerml...\n",
      "Reading /home/sysml/conda/share/jupyter/kernels/sysml/sysml.library/Kernel Libraries/Kernel Semantic Library/ControlPerformances.kerml...\n",
      "Reading /home/sysml/conda/share/jupyter/kernels/sysml/sysml.library/Kernel Libraries/Kernel Semantic Library/StatePerformances.kerml...\n",
      "Reading /home/sysml/conda/share/jupyter/kernels/sysml/sysml.library/Kernel Libraries/Kernel Semantic Library/TransitionPerformances.kerml...\n",
      "Reading /home/sysml/conda/share/jupyter/kernels/sysml/sysml.library/Kernel Libraries/Kernel Semantic Library/SpatialFrames.kerml...\n",
      "Reading /home/sysml/conda/share/jupyter/kernels/sysml/sysml.library/Kernel Libraries/Kernel Data Type Library/VectorValues.kerml...\n",
      "Reading /home/sysml/conda/share/jupyter/kernels/sysml/sysml.library/Kernel Libraries/Kernel Data Type Library/Collections.kerml...\n",
      "Reading /home/sysml/conda/share/jupyter/kernels/sysml/sysml.library/Kernel Libraries/Kernel Data Type Library/ScalarValues.kerml...\n",
      "Reading /home/sysml/conda/share/jupyter/kernels/sysml/sysml.library/Kernel Libraries/Kernel Function Library/NaturalFunctions.kerml...\n",
      "Reading /home/sysml/conda/share/jupyter/kernels/sysml/sysml.library/Kernel Libraries/Kernel Function Library/BaseFunctions.kerml...\n",
      "Reading /home/sysml/conda/share/jupyter/kernels/sysml/sysml.library/Kernel Libraries/Kernel Function Library/DataFunctions.kerml...\n",
      "Reading /home/sysml/conda/share/jupyter/kernels/sysml/sysml.library/Kernel Libraries/Kernel Function Library/IntegerFunctions.kerml...\n",
      "Reading /home/sysml/conda/share/jupyter/kernels/sysml/sysml.library/Kernel Libraries/Kernel Function Library/RealFunctions.kerml...\n",
      "Reading /home/sysml/conda/share/jupyter/kernels/sysml/sysml.library/Kernel Libraries/Kernel Function Library/NumericalFunctions.kerml...\n"
     ]
    },
    {
     "name": "stdout",
     "output_type": "stream",
     "text": [
      "Reading /home/sysml/conda/share/jupyter/kernels/sysml/sysml.library/Kernel Libraries/Kernel Function Library/VectorFunctions.kerml...\n",
      "Reading /home/sysml/conda/share/jupyter/kernels/sysml/sysml.library/Kernel Libraries/Kernel Function Library/SequenceFunctions.kerml...\n",
      "Reading /home/sysml/conda/share/jupyter/kernels/sysml/sysml.library/Kernel Libraries/Kernel Function Library/ComplexFunctions.kerml...\n",
      "Reading /home/sysml/conda/share/jupyter/kernels/sysml/sysml.library/Kernel Libraries/Kernel Function Library/RationalFunctions.kerml...\n",
      "Reading /home/sysml/conda/share/jupyter/kernels/sysml/sysml.library/Kernel Libraries/Kernel Function Library/StringFunctions.kerml...\n",
      "Reading /home/sysml/conda/share/jupyter/kernels/sysml/sysml.library/Kernel Libraries/Kernel Function Library/ScalarFunctions.kerml...\n",
      "Reading /home/sysml/conda/share/jupyter/kernels/sysml/sysml.library/Kernel Libraries/Kernel Function Library/CollectionFunctions.kerml...\n",
      "Reading /home/sysml/conda/share/jupyter/kernels/sysml/sysml.library/Kernel Libraries/Kernel Function Library/BooleanFunctions.kerml...\n",
      "Reading /home/sysml/conda/share/jupyter/kernels/sysml/sysml.library/Kernel Libraries/Kernel Function Library/OccurrenceFunctions.kerml...\n",
      "Reading /home/sysml/conda/share/jupyter/kernels/sysml/sysml.library/Kernel Libraries/Kernel Function Library/TrigFunctions.kerml...\n",
      "Reading /home/sysml/conda/share/jupyter/kernels/sysml/sysml.library/Kernel Libraries/Kernel Function Library/ControlFunctions.kerml...\n",
      "Reading /home/sysml/conda/share/jupyter/kernels/sysml/sysml.library/Systems Library/Connections.sysml...\n"
     ]
    },
    {
     "name": "stdout",
     "output_type": "stream",
     "text": [
      "Reading /home/sysml/conda/share/jupyter/kernels/sysml/sysml.library/Systems Library/States.sysml...\n",
      "Reading /home/sysml/conda/share/jupyter/kernels/sysml/sysml.library/Systems Library/Actions.sysml...\n",
      "Reading /home/sysml/conda/share/jupyter/kernels/sysml/sysml.library/Systems Library/Metadata.sysml...\n",
      "Reading /home/sysml/conda/share/jupyter/kernels/sysml/sysml.library/Systems Library/Requirements.sysml...\n",
      "Reading /home/sysml/conda/share/jupyter/kernels/sysml/sysml.library/Systems Library/AnalysisCases.sysml...\n",
      "Reading /home/sysml/conda/share/jupyter/kernels/sysml/sysml.library/Systems Library/Attributes.sysml...\n",
      "Reading /home/sysml/conda/share/jupyter/kernels/sysml/sysml.library/Systems Library/Cases.sysml...\n",
      "Reading /home/sysml/conda/share/jupyter/kernels/sysml/sysml.library/Systems Library/VerificationCases.sysml...\n",
      "Reading /home/sysml/conda/share/jupyter/kernels/sysml/sysml.library/Systems Library/Interfaces.sysml...\n",
      "Reading /home/sysml/conda/share/jupyter/kernels/sysml/sysml.library/Systems Library/Ports.sysml...\n",
      "Reading /home/sysml/conda/share/jupyter/kernels/sysml/sysml.library/Systems Library/Views.sysml...\n",
      "Reading /home/sysml/conda/share/jupyter/kernels/sysml/sysml.library/Systems Library/UseCases.sysml...\n",
      "Reading /home/sysml/conda/share/jupyter/kernels/sysml/sysml.library/Systems Library/Parts.sysml...\n",
      "Reading /home/sysml/conda/share/jupyter/kernels/sysml/sysml.library/Systems Library/SysML.sysml...\n",
      "Reading /home/sysml/conda/share/jupyter/kernels/sysml/sysml.library/Systems Library/Constraints.sysml...\n",
      "Reading /home/sysml/conda/share/jupyter/kernels/sysml/sysml.library/Systems Library/Items.sysml...\n",
      "Reading /home/sysml/conda/share/jupyter/kernels/sysml/sysml.library/Systems Library/Calculations.sysml...\n",
      "Reading /home/sysml/conda/share/jupyter/kernels/sysml/sysml.library/Systems Library/StandardViewDefinitions.sysml...\n",
      "Reading /home/sysml/conda/share/jupyter/kernels/sysml/sysml.library/Systems Library/Allocations.sysml...\n"
     ]
    },
    {
     "name": "stdout",
     "output_type": "stream",
     "text": [
      "Reading /home/sysml/conda/share/jupyter/kernels/sysml/sysml.library/Domain Libraries/Geometry/SpatialItems.sysml...\n",
      "Reading /home/sysml/conda/share/jupyter/kernels/sysml/sysml.library/Domain Libraries/Geometry/ShapeItems.sysml...\n",
      "Reading /home/sysml/conda/share/jupyter/kernels/sysml/sysml.library/Domain Libraries/Analysis/TradeStudies.sysml...\n",
      "Reading /home/sysml/conda/share/jupyter/kernels/sysml/sysml.library/Domain Libraries/Analysis/StateSpaceRepresentation.sysml...\n",
      "Reading /home/sysml/conda/share/jupyter/kernels/sysml/sysml.library/Domain Libraries/Analysis/SampledFunctions.sysml...\n",
      "Reading /home/sysml/conda/share/jupyter/kernels/sysml/sysml.library/Domain Libraries/Analysis/AnalysisTooling.sysml...\n",
      "Reading /home/sysml/conda/share/jupyter/kernels/sysml/sysml.library/Domain Libraries/Cause and Effect/CausationConnections.sysml...\n",
      "Reading /home/sysml/conda/share/jupyter/kernels/sysml/sysml.library/Domain Libraries/Cause and Effect/CauseAndEffect.sysml...\n",
      "Reading /home/sysml/conda/share/jupyter/kernels/sysml/sysml.library/Domain Libraries/Quantities and Units/TensorCalculations.sysml...\n",
      "Reading /home/sysml/conda/share/jupyter/kernels/sysml/sysml.library/Domain Libraries/Quantities and Units/ISQSpaceTime.sysml...\n",
      "Reading /home/sysml/conda/share/jupyter/kernels/sysml/sysml.library/Domain Libraries/Quantities and Units/ISQElectromagnetism.sysml...\n"
     ]
    },
    {
     "name": "stdout",
     "output_type": "stream",
     "text": [
      "Reading /home/sysml/conda/share/jupyter/kernels/sysml/sysml.library/Domain Libraries/Quantities and Units/USCustomaryUnits.sysml...\n",
      "Reading /home/sysml/conda/share/jupyter/kernels/sysml/sysml.library/Domain Libraries/Quantities and Units/Time.sysml...\n",
      "Reading /home/sysml/conda/share/jupyter/kernels/sysml/sysml.library/Domain Libraries/Quantities and Units/MeasurementReferences.sysml...\n",
      "Reading /home/sysml/conda/share/jupyter/kernels/sysml/sysml.library/Domain Libraries/Quantities and Units/ISQBase.sysml...\n",
      "Reading /home/sysml/conda/share/jupyter/kernels/sysml/sysml.library/Domain Libraries/Quantities and Units/ISQCondensedMatter.sysml...\n",
      "Reading /home/sysml/conda/share/jupyter/kernels/sysml/sysml.library/Domain Libraries/Quantities and Units/ISQMechanics.sysml...\n",
      "Reading /home/sysml/conda/share/jupyter/kernels/sysml/sysml.library/Domain Libraries/Quantities and Units/SI.sysml...\n",
      "Reading /home/sysml/conda/share/jupyter/kernels/sysml/sysml.library/Domain Libraries/Quantities and Units/ISQCharacteristicNumbers.sysml...\n",
      "Reading /home/sysml/conda/share/jupyter/kernels/sysml/sysml.library/Domain Libraries/Quantities and Units/QuantityCalculations.sysml...\n",
      "Reading /home/sysml/conda/share/jupyter/kernels/sysml/sysml.library/Domain Libraries/Quantities and Units/MeasurementRefCalculations.sysml...\n",
      "Reading /home/sysml/conda/share/jupyter/kernels/sysml/sysml.library/Domain Libraries/Quantities and Units/ISQAtomicNuclear.sysml...\n"
     ]
    },
    {
     "name": "stdout",
     "output_type": "stream",
     "text": [
      "Reading /home/sysml/conda/share/jupyter/kernels/sysml/sysml.library/Domain Libraries/Quantities and Units/ISQ.sysml...\n",
      "Reading /home/sysml/conda/share/jupyter/kernels/sysml/sysml.library/Domain Libraries/Quantities and Units/ISQAcoustics.sysml...\n",
      "Reading /home/sysml/conda/share/jupyter/kernels/sysml/sysml.library/Domain Libraries/Quantities and Units/ISQLight.sysml...\n",
      "Reading /home/sysml/conda/share/jupyter/kernels/sysml/sysml.library/Domain Libraries/Quantities and Units/ISQInformation.sysml...\n",
      "Reading /home/sysml/conda/share/jupyter/kernels/sysml/sysml.library/Domain Libraries/Quantities and Units/ISQThermodynamics.sysml...\n",
      "Reading /home/sysml/conda/share/jupyter/kernels/sysml/sysml.library/Domain Libraries/Quantities and Units/SIPrefixes.sysml...\n",
      "Reading /home/sysml/conda/share/jupyter/kernels/sysml/sysml.library/Domain Libraries/Quantities and Units/VectorCalculations.sysml...\n",
      "Reading /home/sysml/conda/share/jupyter/kernels/sysml/sysml.library/Domain Libraries/Quantities and Units/ISQChemistryMolecular.sysml...\n",
      "Reading /home/sysml/conda/share/jupyter/kernels/sysml/sysml.library/Domain Libraries/Quantities and Units/Quantities.sysml...\n",
      "Reading /home/sysml/conda/share/jupyter/kernels/sysml/sysml.library/Domain Libraries/Metadata/ImageMetadata.sysml...\n",
      "Reading /home/sysml/conda/share/jupyter/kernels/sysml/sysml.library/Domain Libraries/Metadata/ModelingMetadata.sysml...\n",
      "Reading /home/sysml/conda/share/jupyter/kernels/sysml/sysml.library/Domain Libraries/Metadata/ParametersOfInterestMetadata.sysml...\n",
      "Reading /home/sysml/conda/share/jupyter/kernels/sysml/sysml.library/Domain Libraries/Metadata/RiskMetadata.sysml...\n",
      "Reading /home/sysml/conda/share/jupyter/kernels/sysml/sysml.library/Domain Libraries/Requirement Derivation/RequirementDerivation.sysml...\n",
      "Reading /home/sysml/conda/share/jupyter/kernels/sysml/sysml.library/Domain Libraries/Requirement Derivation/DerivationConnections.sysml...\n"
     ]
    },
    {
     "name": "stderr",
     "output_type": "stream",
     "text": [
      "Dec 16, 2024 3:29:35 AM io.github.spencerpark.jupyter.channels.Loop start\n",
      "INFO: Loop starting...\n",
      "Dec 16, 2024 3:29:35 AM io.github.spencerpark.jupyter.channels.Loop start\n",
      "INFO: Loop started.\n",
      "Dec 16, 2024 3:29:35 AM io.github.spencerpark.jupyter.channels.Loop start\n",
      "INFO: Loop starting...\n",
      "Dec 16, 2024 3:29:35 AM io.github.spencerpark.jupyter.channels.Loop start\n",
      "INFO: Loop started.\n",
      "Dec 16, 2024 3:29:35 AM io.github.spencerpark.jupyter.channels.Loop start\n",
      "INFO: Loop starting...\n",
      "Dec 16, 2024 3:29:35 AM io.github.spencerpark.jupyter.channels.Loop start\n",
      "INFO: Loop started.\n"
     ]
    },
    {
     "name": "stderr",
     "output_type": "stream",
     "text": [
      "Dec 16, 2024 3:29:37 AM io.github.spencerpark.jupyter.channels.Loop shutdown\n",
      "INFO: Loop shutdown.\n",
      "Dec 16, 2024 3:29:37 AM io.github.spencerpark.jupyter.channels.Loop shutdown\n",
      "INFO: Loop shutdown.\n",
      "Dec 16, 2024 3:29:37 AM io.github.spencerpark.jupyter.channels.Loop shutdown\n",
      "INFO: Loop shutdown.\n",
      "Dec 16, 2024 3:29:37 AM io.github.spencerpark.jupyter.channels.Loop run\n",
      "INFO: Running loop shutdown callback.\n",
      "Dec 16, 2024 3:29:37 AM io.github.spencerpark.jupyter.channels.Loop run\n",
      "INFO: Loop stopped.\n",
      "Dec 16, 2024 3:29:37 AM io.github.spencerpark.jupyter.channels.Loop run\n",
      "INFO: Running loop shutdown callback.\n",
      "Dec 16, 2024 3:29:37 AM io.github.spencerpark.jupyter.channels.Loop run\n",
      "INFO: Loop stopped.\n",
      "Dec 16, 2024 3:29:37 AM io.github.spencerpark.jupyter.channels.Loop run\n",
      "INFO: Running loop shutdown callback.\n",
      "Dec 16, 2024 3:29:37 AM io.github.spencerpark.jupyter.channels.Loop run\n",
      "INFO: Loop stopped.\n"
     ]
    },
    {
     "name": "stdout",
     "output_type": "stream",
     "text": [
      "Signing notebook: TestSuite/Examples/Analysis Examples.ipynb\n",
      "Executing: TestSuite/Examples/Requirements Examples.ipynb\n"
     ]
    },
    {
     "name": "stderr",
     "output_type": "stream",
     "text": [
      "/home/sysml/conda/lib/python3.12/site-packages/nbformat/__init__.py:96: MissingIDFieldWarning: Cell is missing an id field, this will become a hard error in future nbformat versions. You may want to use `normalize()` on your notebooks before validations (available since nbformat 5.1.4). Previous versions of nbformat are fixing this issue transparently, and will stop doing so in the future.\n",
      "  validate(nb)\n"
     ]
    },
    {
     "name": "stdout",
     "output_type": "stream",
     "text": [
      "Reading /home/sysml/conda/share/jupyter/kernels/sysml/sysml.library/Kernel Libraries/Kernel Semantic Library/Observation.kerml...\n"
     ]
    },
    {
     "name": "stderr",
     "output_type": "stream",
     "text": [
      "log4j:WARN No appenders could be found for logger (org.eclipse.xtext.parser.antlr.AbstractInternalAntlrParser).\n",
      "log4j:WARN Please initialize the log4j system properly.\n",
      "log4j:WARN See http://logging.apache.org/log4j/1.2/faq.html#noconfig for more info.\n"
     ]
    },
    {
     "name": "stdout",
     "output_type": "stream",
     "text": [
      "Reading /home/sysml/conda/share/jupyter/kernels/sysml/sysml.library/Kernel Libraries/Kernel Semantic Library/Transfers.kerml...\n",
      "Reading /home/sysml/conda/share/jupyter/kernels/sysml/sysml.library/Kernel Libraries/Kernel Semantic Library/Metaobjects.kerml...\n",
      "Reading /home/sysml/conda/share/jupyter/kernels/sysml/sysml.library/Kernel Libraries/Kernel Semantic Library/Triggers.kerml...\n",
      "Reading /home/sysml/conda/share/jupyter/kernels/sysml/sysml.library/Kernel Libraries/Kernel Semantic Library/Links.kerml...\n",
      "Reading /home/sysml/conda/share/jupyter/kernels/sysml/sysml.library/Kernel Libraries/Kernel Semantic Library/Base.kerml...\n",
      "Reading /home/sysml/conda/share/jupyter/kernels/sysml/sysml.library/Kernel Libraries/Kernel Semantic Library/Objects.kerml...\n",
      "Reading /home/sysml/conda/share/jupyter/kernels/sysml/sysml.library/Kernel Libraries/Kernel Semantic Library/Clocks.kerml...\n",
      "Reading /home/sysml/conda/share/jupyter/kernels/sysml/sysml.library/Kernel Libraries/Kernel Semantic Library/KerML.kerml...\n"
     ]
    },
    {
     "name": "stdout",
     "output_type": "stream",
     "text": [
      "Reading /home/sysml/conda/share/jupyter/kernels/sysml/sysml.library/Kernel Libraries/Kernel Semantic Library/FeatureReferencingPerformances.kerml...\n",
      "Reading /home/sysml/conda/share/jupyter/kernels/sysml/sysml.library/Kernel Libraries/Kernel Semantic Library/Performances.kerml...\n",
      "Reading /home/sysml/conda/share/jupyter/kernels/sysml/sysml.library/Kernel Libraries/Kernel Semantic Library/Occurrences.kerml...\n",
      "Reading /home/sysml/conda/share/jupyter/kernels/sysml/sysml.library/Kernel Libraries/Kernel Semantic Library/ControlPerformances.kerml...\n",
      "Reading /home/sysml/conda/share/jupyter/kernels/sysml/sysml.library/Kernel Libraries/Kernel Semantic Library/StatePerformances.kerml...\n",
      "Reading /home/sysml/conda/share/jupyter/kernels/sysml/sysml.library/Kernel Libraries/Kernel Semantic Library/TransitionPerformances.kerml...\n",
      "Reading /home/sysml/conda/share/jupyter/kernels/sysml/sysml.library/Kernel Libraries/Kernel Semantic Library/SpatialFrames.kerml...\n",
      "Reading /home/sysml/conda/share/jupyter/kernels/sysml/sysml.library/Kernel Libraries/Kernel Data Type Library/VectorValues.kerml...\n",
      "Reading /home/sysml/conda/share/jupyter/kernels/sysml/sysml.library/Kernel Libraries/Kernel Data Type Library/Collections.kerml...\n",
      "Reading /home/sysml/conda/share/jupyter/kernels/sysml/sysml.library/Kernel Libraries/Kernel Data Type Library/ScalarValues.kerml...\n",
      "Reading /home/sysml/conda/share/jupyter/kernels/sysml/sysml.library/Kernel Libraries/Kernel Function Library/NaturalFunctions.kerml...\n",
      "Reading /home/sysml/conda/share/jupyter/kernels/sysml/sysml.library/Kernel Libraries/Kernel Function Library/BaseFunctions.kerml...\n",
      "Reading /home/sysml/conda/share/jupyter/kernels/sysml/sysml.library/Kernel Libraries/Kernel Function Library/DataFunctions.kerml...\n",
      "Reading /home/sysml/conda/share/jupyter/kernels/sysml/sysml.library/Kernel Libraries/Kernel Function Library/IntegerFunctions.kerml...\n",
      "Reading /home/sysml/conda/share/jupyter/kernels/sysml/sysml.library/Kernel Libraries/Kernel Function Library/RealFunctions.kerml...\n"
     ]
    },
    {
     "name": "stdout",
     "output_type": "stream",
     "text": [
      "Reading /home/sysml/conda/share/jupyter/kernels/sysml/sysml.library/Kernel Libraries/Kernel Function Library/NumericalFunctions.kerml...\n",
      "Reading /home/sysml/conda/share/jupyter/kernels/sysml/sysml.library/Kernel Libraries/Kernel Function Library/VectorFunctions.kerml...\n",
      "Reading /home/sysml/conda/share/jupyter/kernels/sysml/sysml.library/Kernel Libraries/Kernel Function Library/SequenceFunctions.kerml...\n",
      "Reading /home/sysml/conda/share/jupyter/kernels/sysml/sysml.library/Kernel Libraries/Kernel Function Library/ComplexFunctions.kerml...\n",
      "Reading /home/sysml/conda/share/jupyter/kernels/sysml/sysml.library/Kernel Libraries/Kernel Function Library/RationalFunctions.kerml...\n",
      "Reading /home/sysml/conda/share/jupyter/kernels/sysml/sysml.library/Kernel Libraries/Kernel Function Library/StringFunctions.kerml...\n",
      "Reading /home/sysml/conda/share/jupyter/kernels/sysml/sysml.library/Kernel Libraries/Kernel Function Library/ScalarFunctions.kerml...\n",
      "Reading /home/sysml/conda/share/jupyter/kernels/sysml/sysml.library/Kernel Libraries/Kernel Function Library/CollectionFunctions.kerml...\n",
      "Reading /home/sysml/conda/share/jupyter/kernels/sysml/sysml.library/Kernel Libraries/Kernel Function Library/BooleanFunctions.kerml...\n",
      "Reading /home/sysml/conda/share/jupyter/kernels/sysml/sysml.library/Kernel Libraries/Kernel Function Library/OccurrenceFunctions.kerml...\n",
      "Reading /home/sysml/conda/share/jupyter/kernels/sysml/sysml.library/Kernel Libraries/Kernel Function Library/TrigFunctions.kerml...\n",
      "Reading /home/sysml/conda/share/jupyter/kernels/sysml/sysml.library/Kernel Libraries/Kernel Function Library/ControlFunctions.kerml...\n",
      "Reading /home/sysml/conda/share/jupyter/kernels/sysml/sysml.library/Systems Library/Connections.sysml...\n"
     ]
    },
    {
     "name": "stdout",
     "output_type": "stream",
     "text": [
      "Reading /home/sysml/conda/share/jupyter/kernels/sysml/sysml.library/Systems Library/States.sysml...\n",
      "Reading /home/sysml/conda/share/jupyter/kernels/sysml/sysml.library/Systems Library/Actions.sysml...\n",
      "Reading /home/sysml/conda/share/jupyter/kernels/sysml/sysml.library/Systems Library/Metadata.sysml...\n",
      "Reading /home/sysml/conda/share/jupyter/kernels/sysml/sysml.library/Systems Library/Requirements.sysml...\n",
      "Reading /home/sysml/conda/share/jupyter/kernels/sysml/sysml.library/Systems Library/AnalysisCases.sysml...\n",
      "Reading /home/sysml/conda/share/jupyter/kernels/sysml/sysml.library/Systems Library/Attributes.sysml...\n",
      "Reading /home/sysml/conda/share/jupyter/kernels/sysml/sysml.library/Systems Library/Cases.sysml...\n",
      "Reading /home/sysml/conda/share/jupyter/kernels/sysml/sysml.library/Systems Library/VerificationCases.sysml...\n",
      "Reading /home/sysml/conda/share/jupyter/kernels/sysml/sysml.library/Systems Library/Interfaces.sysml...\n",
      "Reading /home/sysml/conda/share/jupyter/kernels/sysml/sysml.library/Systems Library/Ports.sysml...\n",
      "Reading /home/sysml/conda/share/jupyter/kernels/sysml/sysml.library/Systems Library/Views.sysml...\n",
      "Reading /home/sysml/conda/share/jupyter/kernels/sysml/sysml.library/Systems Library/UseCases.sysml...\n",
      "Reading /home/sysml/conda/share/jupyter/kernels/sysml/sysml.library/Systems Library/Parts.sysml...\n",
      "Reading /home/sysml/conda/share/jupyter/kernels/sysml/sysml.library/Systems Library/SysML.sysml...\n",
      "Reading /home/sysml/conda/share/jupyter/kernels/sysml/sysml.library/Systems Library/Constraints.sysml...\n",
      "Reading /home/sysml/conda/share/jupyter/kernels/sysml/sysml.library/Systems Library/Items.sysml...\n",
      "Reading /home/sysml/conda/share/jupyter/kernels/sysml/sysml.library/Systems Library/Calculations.sysml...\n",
      "Reading /home/sysml/conda/share/jupyter/kernels/sysml/sysml.library/Systems Library/StandardViewDefinitions.sysml...\n"
     ]
    },
    {
     "name": "stdout",
     "output_type": "stream",
     "text": [
      "Reading /home/sysml/conda/share/jupyter/kernels/sysml/sysml.library/Systems Library/Allocations.sysml...\n",
      "Reading /home/sysml/conda/share/jupyter/kernels/sysml/sysml.library/Domain Libraries/Geometry/SpatialItems.sysml...\n",
      "Reading /home/sysml/conda/share/jupyter/kernels/sysml/sysml.library/Domain Libraries/Geometry/ShapeItems.sysml...\n",
      "Reading /home/sysml/conda/share/jupyter/kernels/sysml/sysml.library/Domain Libraries/Analysis/TradeStudies.sysml...\n",
      "Reading /home/sysml/conda/share/jupyter/kernels/sysml/sysml.library/Domain Libraries/Analysis/StateSpaceRepresentation.sysml...\n",
      "Reading /home/sysml/conda/share/jupyter/kernels/sysml/sysml.library/Domain Libraries/Analysis/SampledFunctions.sysml...\n",
      "Reading /home/sysml/conda/share/jupyter/kernels/sysml/sysml.library/Domain Libraries/Analysis/AnalysisTooling.sysml...\n",
      "Reading /home/sysml/conda/share/jupyter/kernels/sysml/sysml.library/Domain Libraries/Cause and Effect/CausationConnections.sysml...\n",
      "Reading /home/sysml/conda/share/jupyter/kernels/sysml/sysml.library/Domain Libraries/Cause and Effect/CauseAndEffect.sysml...\n",
      "Reading /home/sysml/conda/share/jupyter/kernels/sysml/sysml.library/Domain Libraries/Quantities and Units/TensorCalculations.sysml...\n",
      "Reading /home/sysml/conda/share/jupyter/kernels/sysml/sysml.library/Domain Libraries/Quantities and Units/ISQSpaceTime.sysml...\n",
      "Reading /home/sysml/conda/share/jupyter/kernels/sysml/sysml.library/Domain Libraries/Quantities and Units/ISQElectromagnetism.sysml...\n"
     ]
    },
    {
     "name": "stdout",
     "output_type": "stream",
     "text": [
      "Reading /home/sysml/conda/share/jupyter/kernels/sysml/sysml.library/Domain Libraries/Quantities and Units/USCustomaryUnits.sysml...\n",
      "Reading /home/sysml/conda/share/jupyter/kernels/sysml/sysml.library/Domain Libraries/Quantities and Units/Time.sysml...\n",
      "Reading /home/sysml/conda/share/jupyter/kernels/sysml/sysml.library/Domain Libraries/Quantities and Units/MeasurementReferences.sysml...\n",
      "Reading /home/sysml/conda/share/jupyter/kernels/sysml/sysml.library/Domain Libraries/Quantities and Units/ISQBase.sysml...\n",
      "Reading /home/sysml/conda/share/jupyter/kernels/sysml/sysml.library/Domain Libraries/Quantities and Units/ISQCondensedMatter.sysml...\n",
      "Reading /home/sysml/conda/share/jupyter/kernels/sysml/sysml.library/Domain Libraries/Quantities and Units/ISQMechanics.sysml...\n",
      "Reading /home/sysml/conda/share/jupyter/kernels/sysml/sysml.library/Domain Libraries/Quantities and Units/SI.sysml...\n",
      "Reading /home/sysml/conda/share/jupyter/kernels/sysml/sysml.library/Domain Libraries/Quantities and Units/ISQCharacteristicNumbers.sysml...\n",
      "Reading /home/sysml/conda/share/jupyter/kernels/sysml/sysml.library/Domain Libraries/Quantities and Units/QuantityCalculations.sysml...\n",
      "Reading /home/sysml/conda/share/jupyter/kernels/sysml/sysml.library/Domain Libraries/Quantities and Units/MeasurementRefCalculations.sysml...\n",
      "Reading /home/sysml/conda/share/jupyter/kernels/sysml/sysml.library/Domain Libraries/Quantities and Units/ISQAtomicNuclear.sysml...\n"
     ]
    },
    {
     "name": "stdout",
     "output_type": "stream",
     "text": [
      "Reading /home/sysml/conda/share/jupyter/kernels/sysml/sysml.library/Domain Libraries/Quantities and Units/ISQ.sysml...\n",
      "Reading /home/sysml/conda/share/jupyter/kernels/sysml/sysml.library/Domain Libraries/Quantities and Units/ISQAcoustics.sysml...\n",
      "Reading /home/sysml/conda/share/jupyter/kernels/sysml/sysml.library/Domain Libraries/Quantities and Units/ISQLight.sysml...\n",
      "Reading /home/sysml/conda/share/jupyter/kernels/sysml/sysml.library/Domain Libraries/Quantities and Units/ISQInformation.sysml...\n",
      "Reading /home/sysml/conda/share/jupyter/kernels/sysml/sysml.library/Domain Libraries/Quantities and Units/ISQThermodynamics.sysml...\n",
      "Reading /home/sysml/conda/share/jupyter/kernels/sysml/sysml.library/Domain Libraries/Quantities and Units/SIPrefixes.sysml...\n",
      "Reading /home/sysml/conda/share/jupyter/kernels/sysml/sysml.library/Domain Libraries/Quantities and Units/VectorCalculations.sysml...\n",
      "Reading /home/sysml/conda/share/jupyter/kernels/sysml/sysml.library/Domain Libraries/Quantities and Units/ISQChemistryMolecular.sysml...\n",
      "Reading /home/sysml/conda/share/jupyter/kernels/sysml/sysml.library/Domain Libraries/Quantities and Units/Quantities.sysml...\n",
      "Reading /home/sysml/conda/share/jupyter/kernels/sysml/sysml.library/Domain Libraries/Metadata/ImageMetadata.sysml...\n",
      "Reading /home/sysml/conda/share/jupyter/kernels/sysml/sysml.library/Domain Libraries/Metadata/ModelingMetadata.sysml...\n",
      "Reading /home/sysml/conda/share/jupyter/kernels/sysml/sysml.library/Domain Libraries/Metadata/ParametersOfInterestMetadata.sysml...\n",
      "Reading /home/sysml/conda/share/jupyter/kernels/sysml/sysml.library/Domain Libraries/Metadata/RiskMetadata.sysml...\n",
      "Reading /home/sysml/conda/share/jupyter/kernels/sysml/sysml.library/Domain Libraries/Requirement Derivation/RequirementDerivation.sysml...\n",
      "Reading /home/sysml/conda/share/jupyter/kernels/sysml/sysml.library/Domain Libraries/Requirement Derivation/DerivationConnections.sysml...\n"
     ]
    },
    {
     "name": "stderr",
     "output_type": "stream",
     "text": [
      "Dec 16, 2024 3:29:42 AM io.github.spencerpark.jupyter.channels.Loop start\n",
      "INFO: Loop starting...\n",
      "Dec 16, 2024 3:29:42 AM io.github.spencerpark.jupyter.channels.Loop start\n",
      "INFO: Loop started.\n",
      "Dec 16, 2024 3:29:42 AM io.github.spencerpark.jupyter.channels.Loop start\n",
      "INFO: Loop starting...\n",
      "Dec 16, 2024 3:29:42 AM io.github.spencerpark.jupyter.channels.Loop start\n",
      "INFO: Loop started.\n",
      "Dec 16, 2024 3:29:42 AM io.github.spencerpark.jupyter.channels.Loop start\n",
      "INFO: Loop starting...\n",
      "Dec 16, 2024 3:29:42 AM io.github.spencerpark.jupyter.channels.Loop start\n",
      "INFO: Loop started.\n"
     ]
    },
    {
     "name": "stderr",
     "output_type": "stream",
     "text": [
      "Dec 16, 2024 3:29:43 AM io.github.spencerpark.jupyter.channels.Loop shutdown\n",
      "INFO: Loop shutdown.\n",
      "Dec 16, 2024 3:29:43 AM io.github.spencerpark.jupyter.channels.Loop shutdown\n",
      "INFO: Loop shutdown.\n",
      "Dec 16, 2024 3:29:43 AM io.github.spencerpark.jupyter.channels.Loop shutdown\n",
      "INFO: Loop shutdown.\n",
      "Dec 16, 2024 3:29:43 AM io.github.spencerpark.jupyter.channels.Loop run\n",
      "INFO: Running loop shutdown callback.\n",
      "Dec 16, 2024 3:29:43 AM io.github.spencerpark.jupyter.channels.Loop run\n",
      "INFO: Loop stopped.\n",
      "Dec 16, 2024 3:29:43 AM io.github.spencerpark.jupyter.channels.Loop run\n",
      "INFO: Running loop shutdown callback.\n",
      "Dec 16, 2024 3:29:43 AM io.github.spencerpark.jupyter.channels.Loop run\n",
      "INFO: Loop stopped.\n",
      "Dec 16, 2024 3:29:43 AM io.github.spencerpark.jupyter.channels.Loop run\n",
      "INFO: Running loop shutdown callback.\n",
      "Dec 16, 2024 3:29:43 AM io.github.spencerpark.jupyter.channels.Loop run\n",
      "INFO: Loop stopped.\n"
     ]
    },
    {
     "name": "stdout",
     "output_type": "stream",
     "text": [
      "Signing notebook: TestSuite/Examples/Requirements Examples.ipynb\n",
      "Executing: TestSuite/Examples/Vehicle Example.ipynb\n"
     ]
    },
    {
     "name": "stderr",
     "output_type": "stream",
     "text": [
      "/home/sysml/conda/lib/python3.12/site-packages/nbformat/__init__.py:96: MissingIDFieldWarning: Cell is missing an id field, this will become a hard error in future nbformat versions. You may want to use `normalize()` on your notebooks before validations (available since nbformat 5.1.4). Previous versions of nbformat are fixing this issue transparently, and will stop doing so in the future.\n",
      "  validate(nb)\n"
     ]
    },
    {
     "name": "stdout",
     "output_type": "stream",
     "text": [
      "Reading /home/sysml/conda/share/jupyter/kernels/sysml/sysml.library/Kernel Libraries/Kernel Semantic Library/Observation.kerml...\n"
     ]
    },
    {
     "name": "stderr",
     "output_type": "stream",
     "text": [
      "log4j:WARN No appenders could be found for logger (org.eclipse.xtext.parser.antlr.AbstractInternalAntlrParser).\n",
      "log4j:WARN Please initialize the log4j system properly.\n",
      "log4j:WARN See http://logging.apache.org/log4j/1.2/faq.html#noconfig for more info.\n"
     ]
    },
    {
     "name": "stdout",
     "output_type": "stream",
     "text": [
      "Reading /home/sysml/conda/share/jupyter/kernels/sysml/sysml.library/Kernel Libraries/Kernel Semantic Library/Transfers.kerml...\n",
      "Reading /home/sysml/conda/share/jupyter/kernels/sysml/sysml.library/Kernel Libraries/Kernel Semantic Library/Metaobjects.kerml...\n",
      "Reading /home/sysml/conda/share/jupyter/kernels/sysml/sysml.library/Kernel Libraries/Kernel Semantic Library/Triggers.kerml...\n",
      "Reading /home/sysml/conda/share/jupyter/kernels/sysml/sysml.library/Kernel Libraries/Kernel Semantic Library/Links.kerml...\n",
      "Reading /home/sysml/conda/share/jupyter/kernels/sysml/sysml.library/Kernel Libraries/Kernel Semantic Library/Base.kerml...\n",
      "Reading /home/sysml/conda/share/jupyter/kernels/sysml/sysml.library/Kernel Libraries/Kernel Semantic Library/Objects.kerml...\n",
      "Reading /home/sysml/conda/share/jupyter/kernels/sysml/sysml.library/Kernel Libraries/Kernel Semantic Library/Clocks.kerml...\n",
      "Reading /home/sysml/conda/share/jupyter/kernels/sysml/sysml.library/Kernel Libraries/Kernel Semantic Library/KerML.kerml...\n"
     ]
    },
    {
     "name": "stdout",
     "output_type": "stream",
     "text": [
      "Reading /home/sysml/conda/share/jupyter/kernels/sysml/sysml.library/Kernel Libraries/Kernel Semantic Library/FeatureReferencingPerformances.kerml...\n",
      "Reading /home/sysml/conda/share/jupyter/kernels/sysml/sysml.library/Kernel Libraries/Kernel Semantic Library/Performances.kerml...\n",
      "Reading /home/sysml/conda/share/jupyter/kernels/sysml/sysml.library/Kernel Libraries/Kernel Semantic Library/Occurrences.kerml...\n",
      "Reading /home/sysml/conda/share/jupyter/kernels/sysml/sysml.library/Kernel Libraries/Kernel Semantic Library/ControlPerformances.kerml...\n",
      "Reading /home/sysml/conda/share/jupyter/kernels/sysml/sysml.library/Kernel Libraries/Kernel Semantic Library/StatePerformances.kerml...\n",
      "Reading /home/sysml/conda/share/jupyter/kernels/sysml/sysml.library/Kernel Libraries/Kernel Semantic Library/TransitionPerformances.kerml...\n",
      "Reading /home/sysml/conda/share/jupyter/kernels/sysml/sysml.library/Kernel Libraries/Kernel Semantic Library/SpatialFrames.kerml...\n",
      "Reading /home/sysml/conda/share/jupyter/kernels/sysml/sysml.library/Kernel Libraries/Kernel Data Type Library/VectorValues.kerml...\n",
      "Reading /home/sysml/conda/share/jupyter/kernels/sysml/sysml.library/Kernel Libraries/Kernel Data Type Library/Collections.kerml...\n",
      "Reading /home/sysml/conda/share/jupyter/kernels/sysml/sysml.library/Kernel Libraries/Kernel Data Type Library/ScalarValues.kerml...\n",
      "Reading /home/sysml/conda/share/jupyter/kernels/sysml/sysml.library/Kernel Libraries/Kernel Function Library/NaturalFunctions.kerml...\n",
      "Reading /home/sysml/conda/share/jupyter/kernels/sysml/sysml.library/Kernel Libraries/Kernel Function Library/BaseFunctions.kerml...\n",
      "Reading /home/sysml/conda/share/jupyter/kernels/sysml/sysml.library/Kernel Libraries/Kernel Function Library/DataFunctions.kerml...\n",
      "Reading /home/sysml/conda/share/jupyter/kernels/sysml/sysml.library/Kernel Libraries/Kernel Function Library/IntegerFunctions.kerml...\n",
      "Reading /home/sysml/conda/share/jupyter/kernels/sysml/sysml.library/Kernel Libraries/Kernel Function Library/RealFunctions.kerml...\n",
      "Reading /home/sysml/conda/share/jupyter/kernels/sysml/sysml.library/Kernel Libraries/Kernel Function Library/NumericalFunctions.kerml...\n"
     ]
    },
    {
     "name": "stdout",
     "output_type": "stream",
     "text": [
      "Reading /home/sysml/conda/share/jupyter/kernels/sysml/sysml.library/Kernel Libraries/Kernel Function Library/VectorFunctions.kerml...\n",
      "Reading /home/sysml/conda/share/jupyter/kernels/sysml/sysml.library/Kernel Libraries/Kernel Function Library/SequenceFunctions.kerml...\n",
      "Reading /home/sysml/conda/share/jupyter/kernels/sysml/sysml.library/Kernel Libraries/Kernel Function Library/ComplexFunctions.kerml...\n",
      "Reading /home/sysml/conda/share/jupyter/kernels/sysml/sysml.library/Kernel Libraries/Kernel Function Library/RationalFunctions.kerml...\n",
      "Reading /home/sysml/conda/share/jupyter/kernels/sysml/sysml.library/Kernel Libraries/Kernel Function Library/StringFunctions.kerml...\n",
      "Reading /home/sysml/conda/share/jupyter/kernels/sysml/sysml.library/Kernel Libraries/Kernel Function Library/ScalarFunctions.kerml...\n",
      "Reading /home/sysml/conda/share/jupyter/kernels/sysml/sysml.library/Kernel Libraries/Kernel Function Library/CollectionFunctions.kerml...\n",
      "Reading /home/sysml/conda/share/jupyter/kernels/sysml/sysml.library/Kernel Libraries/Kernel Function Library/BooleanFunctions.kerml...\n",
      "Reading /home/sysml/conda/share/jupyter/kernels/sysml/sysml.library/Kernel Libraries/Kernel Function Library/OccurrenceFunctions.kerml...\n",
      "Reading /home/sysml/conda/share/jupyter/kernels/sysml/sysml.library/Kernel Libraries/Kernel Function Library/TrigFunctions.kerml...\n",
      "Reading /home/sysml/conda/share/jupyter/kernels/sysml/sysml.library/Kernel Libraries/Kernel Function Library/ControlFunctions.kerml...\n",
      "Reading /home/sysml/conda/share/jupyter/kernels/sysml/sysml.library/Systems Library/Connections.sysml...\n"
     ]
    },
    {
     "name": "stdout",
     "output_type": "stream",
     "text": [
      "Reading /home/sysml/conda/share/jupyter/kernels/sysml/sysml.library/Systems Library/States.sysml...\n",
      "Reading /home/sysml/conda/share/jupyter/kernels/sysml/sysml.library/Systems Library/Actions.sysml...\n",
      "Reading /home/sysml/conda/share/jupyter/kernels/sysml/sysml.library/Systems Library/Metadata.sysml...\n",
      "Reading /home/sysml/conda/share/jupyter/kernels/sysml/sysml.library/Systems Library/Requirements.sysml...\n",
      "Reading /home/sysml/conda/share/jupyter/kernels/sysml/sysml.library/Systems Library/AnalysisCases.sysml...\n",
      "Reading /home/sysml/conda/share/jupyter/kernels/sysml/sysml.library/Systems Library/Attributes.sysml...\n",
      "Reading /home/sysml/conda/share/jupyter/kernels/sysml/sysml.library/Systems Library/Cases.sysml...\n",
      "Reading /home/sysml/conda/share/jupyter/kernels/sysml/sysml.library/Systems Library/VerificationCases.sysml...\n",
      "Reading /home/sysml/conda/share/jupyter/kernels/sysml/sysml.library/Systems Library/Interfaces.sysml...\n",
      "Reading /home/sysml/conda/share/jupyter/kernels/sysml/sysml.library/Systems Library/Ports.sysml...\n",
      "Reading /home/sysml/conda/share/jupyter/kernels/sysml/sysml.library/Systems Library/Views.sysml...\n",
      "Reading /home/sysml/conda/share/jupyter/kernels/sysml/sysml.library/Systems Library/UseCases.sysml...\n",
      "Reading /home/sysml/conda/share/jupyter/kernels/sysml/sysml.library/Systems Library/Parts.sysml...\n",
      "Reading /home/sysml/conda/share/jupyter/kernels/sysml/sysml.library/Systems Library/SysML.sysml...\n",
      "Reading /home/sysml/conda/share/jupyter/kernels/sysml/sysml.library/Systems Library/Constraints.sysml...\n",
      "Reading /home/sysml/conda/share/jupyter/kernels/sysml/sysml.library/Systems Library/Items.sysml...\n",
      "Reading /home/sysml/conda/share/jupyter/kernels/sysml/sysml.library/Systems Library/Calculations.sysml...\n",
      "Reading /home/sysml/conda/share/jupyter/kernels/sysml/sysml.library/Systems Library/StandardViewDefinitions.sysml...\n",
      "Reading /home/sysml/conda/share/jupyter/kernels/sysml/sysml.library/Systems Library/Allocations.sysml...\n",
      "Reading /home/sysml/conda/share/jupyter/kernels/sysml/sysml.library/Domain Libraries/Geometry/SpatialItems.sysml...\n"
     ]
    },
    {
     "name": "stdout",
     "output_type": "stream",
     "text": [
      "Reading /home/sysml/conda/share/jupyter/kernels/sysml/sysml.library/Domain Libraries/Geometry/ShapeItems.sysml...\n",
      "Reading /home/sysml/conda/share/jupyter/kernels/sysml/sysml.library/Domain Libraries/Analysis/TradeStudies.sysml...\n",
      "Reading /home/sysml/conda/share/jupyter/kernels/sysml/sysml.library/Domain Libraries/Analysis/StateSpaceRepresentation.sysml...\n",
      "Reading /home/sysml/conda/share/jupyter/kernels/sysml/sysml.library/Domain Libraries/Analysis/SampledFunctions.sysml...\n",
      "Reading /home/sysml/conda/share/jupyter/kernels/sysml/sysml.library/Domain Libraries/Analysis/AnalysisTooling.sysml...\n",
      "Reading /home/sysml/conda/share/jupyter/kernels/sysml/sysml.library/Domain Libraries/Cause and Effect/CausationConnections.sysml...\n",
      "Reading /home/sysml/conda/share/jupyter/kernels/sysml/sysml.library/Domain Libraries/Cause and Effect/CauseAndEffect.sysml...\n",
      "Reading /home/sysml/conda/share/jupyter/kernels/sysml/sysml.library/Domain Libraries/Quantities and Units/TensorCalculations.sysml...\n",
      "Reading /home/sysml/conda/share/jupyter/kernels/sysml/sysml.library/Domain Libraries/Quantities and Units/ISQSpaceTime.sysml...\n",
      "Reading /home/sysml/conda/share/jupyter/kernels/sysml/sysml.library/Domain Libraries/Quantities and Units/ISQElectromagnetism.sysml...\n",
      "Reading /home/sysml/conda/share/jupyter/kernels/sysml/sysml.library/Domain Libraries/Quantities and Units/USCustomaryUnits.sysml...\n"
     ]
    },
    {
     "name": "stdout",
     "output_type": "stream",
     "text": [
      "Reading /home/sysml/conda/share/jupyter/kernels/sysml/sysml.library/Domain Libraries/Quantities and Units/Time.sysml...\n",
      "Reading /home/sysml/conda/share/jupyter/kernels/sysml/sysml.library/Domain Libraries/Quantities and Units/MeasurementReferences.sysml...\n",
      "Reading /home/sysml/conda/share/jupyter/kernels/sysml/sysml.library/Domain Libraries/Quantities and Units/ISQBase.sysml...\n",
      "Reading /home/sysml/conda/share/jupyter/kernels/sysml/sysml.library/Domain Libraries/Quantities and Units/ISQCondensedMatter.sysml...\n",
      "Reading /home/sysml/conda/share/jupyter/kernels/sysml/sysml.library/Domain Libraries/Quantities and Units/ISQMechanics.sysml...\n",
      "Reading /home/sysml/conda/share/jupyter/kernels/sysml/sysml.library/Domain Libraries/Quantities and Units/SI.sysml...\n",
      "Reading /home/sysml/conda/share/jupyter/kernels/sysml/sysml.library/Domain Libraries/Quantities and Units/ISQCharacteristicNumbers.sysml...\n",
      "Reading /home/sysml/conda/share/jupyter/kernels/sysml/sysml.library/Domain Libraries/Quantities and Units/QuantityCalculations.sysml...\n",
      "Reading /home/sysml/conda/share/jupyter/kernels/sysml/sysml.library/Domain Libraries/Quantities and Units/MeasurementRefCalculations.sysml...\n",
      "Reading /home/sysml/conda/share/jupyter/kernels/sysml/sysml.library/Domain Libraries/Quantities and Units/ISQAtomicNuclear.sysml...\n",
      "Reading /home/sysml/conda/share/jupyter/kernels/sysml/sysml.library/Domain Libraries/Quantities and Units/ISQ.sysml...\n",
      "Reading /home/sysml/conda/share/jupyter/kernels/sysml/sysml.library/Domain Libraries/Quantities and Units/ISQAcoustics.sysml...\n",
      "Reading /home/sysml/conda/share/jupyter/kernels/sysml/sysml.library/Domain Libraries/Quantities and Units/ISQLight.sysml...\n"
     ]
    },
    {
     "name": "stdout",
     "output_type": "stream",
     "text": [
      "Reading /home/sysml/conda/share/jupyter/kernels/sysml/sysml.library/Domain Libraries/Quantities and Units/ISQInformation.sysml...\n",
      "Reading /home/sysml/conda/share/jupyter/kernels/sysml/sysml.library/Domain Libraries/Quantities and Units/ISQThermodynamics.sysml...\n",
      "Reading /home/sysml/conda/share/jupyter/kernels/sysml/sysml.library/Domain Libraries/Quantities and Units/SIPrefixes.sysml...\n",
      "Reading /home/sysml/conda/share/jupyter/kernels/sysml/sysml.library/Domain Libraries/Quantities and Units/VectorCalculations.sysml...\n",
      "Reading /home/sysml/conda/share/jupyter/kernels/sysml/sysml.library/Domain Libraries/Quantities and Units/ISQChemistryMolecular.sysml...\n",
      "Reading /home/sysml/conda/share/jupyter/kernels/sysml/sysml.library/Domain Libraries/Quantities and Units/Quantities.sysml...\n",
      "Reading /home/sysml/conda/share/jupyter/kernels/sysml/sysml.library/Domain Libraries/Metadata/ImageMetadata.sysml...\n",
      "Reading /home/sysml/conda/share/jupyter/kernels/sysml/sysml.library/Domain Libraries/Metadata/ModelingMetadata.sysml...\n",
      "Reading /home/sysml/conda/share/jupyter/kernels/sysml/sysml.library/Domain Libraries/Metadata/ParametersOfInterestMetadata.sysml...\n",
      "Reading /home/sysml/conda/share/jupyter/kernels/sysml/sysml.library/Domain Libraries/Metadata/RiskMetadata.sysml...\n",
      "Reading /home/sysml/conda/share/jupyter/kernels/sysml/sysml.library/Domain Libraries/Requirement Derivation/RequirementDerivation.sysml...\n",
      "Reading /home/sysml/conda/share/jupyter/kernels/sysml/sysml.library/Domain Libraries/Requirement Derivation/DerivationConnections.sysml...\n"
     ]
    },
    {
     "name": "stderr",
     "output_type": "stream",
     "text": [
      "Dec 16, 2024 3:29:47 AM io.github.spencerpark.jupyter.channels.Loop start\n",
      "INFO: Loop starting...\n",
      "Dec 16, 2024 3:29:47 AM io.github.spencerpark.jupyter.channels.Loop start\n",
      "INFO: Loop started.\n",
      "Dec 16, 2024 3:29:47 AM io.github.spencerpark.jupyter.channels.Loop start\n",
      "INFO: Loop starting...\n",
      "Dec 16, 2024 3:29:47 AM io.github.spencerpark.jupyter.channels.Loop start\n",
      "INFO: Loop started.\n",
      "Dec 16, 2024 3:29:47 AM io.github.spencerpark.jupyter.channels.Loop start\n",
      "INFO: Loop starting...\n",
      "Dec 16, 2024 3:29:47 AM io.github.spencerpark.jupyter.channels.Loop start\n",
      "INFO: Loop started.\n"
     ]
    },
    {
     "name": "stderr",
     "output_type": "stream",
     "text": [
      "Dec 16, 2024 3:29:48 AM io.github.spencerpark.jupyter.channels.Loop shutdown\n",
      "INFO: Loop shutdown.\n",
      "Dec 16, 2024 3:29:48 AM io.github.spencerpark.jupyter.channels.Loop shutdown\n",
      "INFO: Loop shutdown.\n",
      "Dec 16, 2024 3:29:48 AM io.github.spencerpark.jupyter.channels.Loop shutdown\n",
      "INFO: Loop shutdown.\n",
      "Dec 16, 2024 3:29:48 AM io.github.spencerpark.jupyter.channels.Loop run\n",
      "INFO: Running loop shutdown callback.\n",
      "Dec 16, 2024 3:29:48 AM io.github.spencerpark.jupyter.channels.Loop run\n",
      "INFO: Loop stopped.\n",
      "Dec 16, 2024 3:29:48 AM io.github.spencerpark.jupyter.channels.Loop run\n",
      "INFO: Running loop shutdown callback.\n",
      "Dec 16, 2024 3:29:48 AM io.github.spencerpark.jupyter.channels.Loop run\n",
      "INFO: Loop stopped.\n"
     ]
    },
    {
     "name": "stderr",
     "output_type": "stream",
     "text": [
      "Dec 16, 2024 3:29:49 AM io.github.spencerpark.jupyter.channels.Loop run\n",
      "INFO: Running loop shutdown callback.\n",
      "Dec 16, 2024 3:29:49 AM io.github.spencerpark.jupyter.channels.Loop run\n",
      "INFO: Loop stopped.\n"
     ]
    },
    {
     "name": "stdout",
     "output_type": "stream",
     "text": [
      "Signing notebook: TestSuite/Examples/Vehicle Example.ipynb\n",
      "Executing: TestSuite/Examples/Arrowhead Framework Example.ipynb\n"
     ]
    },
    {
     "name": "stderr",
     "output_type": "stream",
     "text": [
      "/home/sysml/conda/lib/python3.12/site-packages/nbformat/__init__.py:96: MissingIDFieldWarning: Cell is missing an id field, this will become a hard error in future nbformat versions. You may want to use `normalize()` on your notebooks before validations (available since nbformat 5.1.4). Previous versions of nbformat are fixing this issue transparently, and will stop doing so in the future.\n",
      "  validate(nb)\n"
     ]
    },
    {
     "name": "stdout",
     "output_type": "stream",
     "text": [
      "Reading /home/sysml/conda/share/jupyter/kernels/sysml/sysml.library/Kernel Libraries/Kernel Semantic Library/Observation.kerml...\n"
     ]
    },
    {
     "name": "stderr",
     "output_type": "stream",
     "text": [
      "log4j:WARN No appenders could be found for logger (org.eclipse.xtext.parser.antlr.AbstractInternalAntlrParser).\n",
      "log4j:WARN Please initialize the log4j system properly.\n",
      "log4j:WARN See http://logging.apache.org/log4j/1.2/faq.html#noconfig for more info.\n"
     ]
    },
    {
     "name": "stdout",
     "output_type": "stream",
     "text": [
      "Reading /home/sysml/conda/share/jupyter/kernels/sysml/sysml.library/Kernel Libraries/Kernel Semantic Library/Transfers.kerml...\n",
      "Reading /home/sysml/conda/share/jupyter/kernels/sysml/sysml.library/Kernel Libraries/Kernel Semantic Library/Metaobjects.kerml...\n",
      "Reading /home/sysml/conda/share/jupyter/kernels/sysml/sysml.library/Kernel Libraries/Kernel Semantic Library/Triggers.kerml...\n",
      "Reading /home/sysml/conda/share/jupyter/kernels/sysml/sysml.library/Kernel Libraries/Kernel Semantic Library/Links.kerml...\n",
      "Reading /home/sysml/conda/share/jupyter/kernels/sysml/sysml.library/Kernel Libraries/Kernel Semantic Library/Base.kerml...\n",
      "Reading /home/sysml/conda/share/jupyter/kernels/sysml/sysml.library/Kernel Libraries/Kernel Semantic Library/Objects.kerml...\n",
      "Reading /home/sysml/conda/share/jupyter/kernels/sysml/sysml.library/Kernel Libraries/Kernel Semantic Library/Clocks.kerml...\n",
      "Reading /home/sysml/conda/share/jupyter/kernels/sysml/sysml.library/Kernel Libraries/Kernel Semantic Library/KerML.kerml...\n"
     ]
    },
    {
     "name": "stdout",
     "output_type": "stream",
     "text": [
      "Reading /home/sysml/conda/share/jupyter/kernels/sysml/sysml.library/Kernel Libraries/Kernel Semantic Library/FeatureReferencingPerformances.kerml...\n",
      "Reading /home/sysml/conda/share/jupyter/kernels/sysml/sysml.library/Kernel Libraries/Kernel Semantic Library/Performances.kerml...\n",
      "Reading /home/sysml/conda/share/jupyter/kernels/sysml/sysml.library/Kernel Libraries/Kernel Semantic Library/Occurrences.kerml...\n",
      "Reading /home/sysml/conda/share/jupyter/kernels/sysml/sysml.library/Kernel Libraries/Kernel Semantic Library/ControlPerformances.kerml...\n",
      "Reading /home/sysml/conda/share/jupyter/kernels/sysml/sysml.library/Kernel Libraries/Kernel Semantic Library/StatePerformances.kerml...\n",
      "Reading /home/sysml/conda/share/jupyter/kernels/sysml/sysml.library/Kernel Libraries/Kernel Semantic Library/TransitionPerformances.kerml...\n",
      "Reading /home/sysml/conda/share/jupyter/kernels/sysml/sysml.library/Kernel Libraries/Kernel Semantic Library/SpatialFrames.kerml...\n",
      "Reading /home/sysml/conda/share/jupyter/kernels/sysml/sysml.library/Kernel Libraries/Kernel Data Type Library/VectorValues.kerml...\n",
      "Reading /home/sysml/conda/share/jupyter/kernels/sysml/sysml.library/Kernel Libraries/Kernel Data Type Library/Collections.kerml...\n",
      "Reading /home/sysml/conda/share/jupyter/kernels/sysml/sysml.library/Kernel Libraries/Kernel Data Type Library/ScalarValues.kerml...\n",
      "Reading /home/sysml/conda/share/jupyter/kernels/sysml/sysml.library/Kernel Libraries/Kernel Function Library/NaturalFunctions.kerml...\n",
      "Reading /home/sysml/conda/share/jupyter/kernels/sysml/sysml.library/Kernel Libraries/Kernel Function Library/BaseFunctions.kerml...\n",
      "Reading /home/sysml/conda/share/jupyter/kernels/sysml/sysml.library/Kernel Libraries/Kernel Function Library/DataFunctions.kerml...\n",
      "Reading /home/sysml/conda/share/jupyter/kernels/sysml/sysml.library/Kernel Libraries/Kernel Function Library/IntegerFunctions.kerml...\n",
      "Reading /home/sysml/conda/share/jupyter/kernels/sysml/sysml.library/Kernel Libraries/Kernel Function Library/RealFunctions.kerml...\n"
     ]
    },
    {
     "name": "stdout",
     "output_type": "stream",
     "text": [
      "Reading /home/sysml/conda/share/jupyter/kernels/sysml/sysml.library/Kernel Libraries/Kernel Function Library/NumericalFunctions.kerml...\n",
      "Reading /home/sysml/conda/share/jupyter/kernels/sysml/sysml.library/Kernel Libraries/Kernel Function Library/VectorFunctions.kerml...\n",
      "Reading /home/sysml/conda/share/jupyter/kernels/sysml/sysml.library/Kernel Libraries/Kernel Function Library/SequenceFunctions.kerml...\n",
      "Reading /home/sysml/conda/share/jupyter/kernels/sysml/sysml.library/Kernel Libraries/Kernel Function Library/ComplexFunctions.kerml...\n",
      "Reading /home/sysml/conda/share/jupyter/kernels/sysml/sysml.library/Kernel Libraries/Kernel Function Library/RationalFunctions.kerml...\n",
      "Reading /home/sysml/conda/share/jupyter/kernels/sysml/sysml.library/Kernel Libraries/Kernel Function Library/StringFunctions.kerml...\n",
      "Reading /home/sysml/conda/share/jupyter/kernels/sysml/sysml.library/Kernel Libraries/Kernel Function Library/ScalarFunctions.kerml...\n",
      "Reading /home/sysml/conda/share/jupyter/kernels/sysml/sysml.library/Kernel Libraries/Kernel Function Library/CollectionFunctions.kerml...\n",
      "Reading /home/sysml/conda/share/jupyter/kernels/sysml/sysml.library/Kernel Libraries/Kernel Function Library/BooleanFunctions.kerml...\n",
      "Reading /home/sysml/conda/share/jupyter/kernels/sysml/sysml.library/Kernel Libraries/Kernel Function Library/OccurrenceFunctions.kerml...\n",
      "Reading /home/sysml/conda/share/jupyter/kernels/sysml/sysml.library/Kernel Libraries/Kernel Function Library/TrigFunctions.kerml...\n",
      "Reading /home/sysml/conda/share/jupyter/kernels/sysml/sysml.library/Kernel Libraries/Kernel Function Library/ControlFunctions.kerml...\n",
      "Reading /home/sysml/conda/share/jupyter/kernels/sysml/sysml.library/Systems Library/Connections.sysml...\n"
     ]
    },
    {
     "name": "stdout",
     "output_type": "stream",
     "text": [
      "Reading /home/sysml/conda/share/jupyter/kernels/sysml/sysml.library/Systems Library/States.sysml...\n",
      "Reading /home/sysml/conda/share/jupyter/kernels/sysml/sysml.library/Systems Library/Actions.sysml...\n",
      "Reading /home/sysml/conda/share/jupyter/kernels/sysml/sysml.library/Systems Library/Metadata.sysml...\n",
      "Reading /home/sysml/conda/share/jupyter/kernels/sysml/sysml.library/Systems Library/Requirements.sysml...\n",
      "Reading /home/sysml/conda/share/jupyter/kernels/sysml/sysml.library/Systems Library/AnalysisCases.sysml...\n",
      "Reading /home/sysml/conda/share/jupyter/kernels/sysml/sysml.library/Systems Library/Attributes.sysml...\n",
      "Reading /home/sysml/conda/share/jupyter/kernels/sysml/sysml.library/Systems Library/Cases.sysml...\n",
      "Reading /home/sysml/conda/share/jupyter/kernels/sysml/sysml.library/Systems Library/VerificationCases.sysml...\n",
      "Reading /home/sysml/conda/share/jupyter/kernels/sysml/sysml.library/Systems Library/Interfaces.sysml...\n",
      "Reading /home/sysml/conda/share/jupyter/kernels/sysml/sysml.library/Systems Library/Ports.sysml...\n",
      "Reading /home/sysml/conda/share/jupyter/kernels/sysml/sysml.library/Systems Library/Views.sysml...\n",
      "Reading /home/sysml/conda/share/jupyter/kernels/sysml/sysml.library/Systems Library/UseCases.sysml...\n",
      "Reading /home/sysml/conda/share/jupyter/kernels/sysml/sysml.library/Systems Library/Parts.sysml...\n",
      "Reading /home/sysml/conda/share/jupyter/kernels/sysml/sysml.library/Systems Library/SysML.sysml...\n",
      "Reading /home/sysml/conda/share/jupyter/kernels/sysml/sysml.library/Systems Library/Constraints.sysml...\n",
      "Reading /home/sysml/conda/share/jupyter/kernels/sysml/sysml.library/Systems Library/Items.sysml...\n",
      "Reading /home/sysml/conda/share/jupyter/kernels/sysml/sysml.library/Systems Library/Calculations.sysml...\n",
      "Reading /home/sysml/conda/share/jupyter/kernels/sysml/sysml.library/Systems Library/StandardViewDefinitions.sysml...\n",
      "Reading /home/sysml/conda/share/jupyter/kernels/sysml/sysml.library/Systems Library/Allocations.sysml...\n"
     ]
    },
    {
     "name": "stdout",
     "output_type": "stream",
     "text": [
      "Reading /home/sysml/conda/share/jupyter/kernels/sysml/sysml.library/Domain Libraries/Geometry/SpatialItems.sysml...\n",
      "Reading /home/sysml/conda/share/jupyter/kernels/sysml/sysml.library/Domain Libraries/Geometry/ShapeItems.sysml...\n",
      "Reading /home/sysml/conda/share/jupyter/kernels/sysml/sysml.library/Domain Libraries/Analysis/TradeStudies.sysml...\n",
      "Reading /home/sysml/conda/share/jupyter/kernels/sysml/sysml.library/Domain Libraries/Analysis/StateSpaceRepresentation.sysml...\n",
      "Reading /home/sysml/conda/share/jupyter/kernels/sysml/sysml.library/Domain Libraries/Analysis/SampledFunctions.sysml...\n",
      "Reading /home/sysml/conda/share/jupyter/kernels/sysml/sysml.library/Domain Libraries/Analysis/AnalysisTooling.sysml...\n",
      "Reading /home/sysml/conda/share/jupyter/kernels/sysml/sysml.library/Domain Libraries/Cause and Effect/CausationConnections.sysml...\n",
      "Reading /home/sysml/conda/share/jupyter/kernels/sysml/sysml.library/Domain Libraries/Cause and Effect/CauseAndEffect.sysml...\n",
      "Reading /home/sysml/conda/share/jupyter/kernels/sysml/sysml.library/Domain Libraries/Quantities and Units/TensorCalculations.sysml...\n",
      "Reading /home/sysml/conda/share/jupyter/kernels/sysml/sysml.library/Domain Libraries/Quantities and Units/ISQSpaceTime.sysml...\n",
      "Reading /home/sysml/conda/share/jupyter/kernels/sysml/sysml.library/Domain Libraries/Quantities and Units/ISQElectromagnetism.sysml...\n"
     ]
    },
    {
     "name": "stdout",
     "output_type": "stream",
     "text": [
      "Reading /home/sysml/conda/share/jupyter/kernels/sysml/sysml.library/Domain Libraries/Quantities and Units/USCustomaryUnits.sysml...\n",
      "Reading /home/sysml/conda/share/jupyter/kernels/sysml/sysml.library/Domain Libraries/Quantities and Units/Time.sysml...\n",
      "Reading /home/sysml/conda/share/jupyter/kernels/sysml/sysml.library/Domain Libraries/Quantities and Units/MeasurementReferences.sysml...\n",
      "Reading /home/sysml/conda/share/jupyter/kernels/sysml/sysml.library/Domain Libraries/Quantities and Units/ISQBase.sysml...\n",
      "Reading /home/sysml/conda/share/jupyter/kernels/sysml/sysml.library/Domain Libraries/Quantities and Units/ISQCondensedMatter.sysml...\n",
      "Reading /home/sysml/conda/share/jupyter/kernels/sysml/sysml.library/Domain Libraries/Quantities and Units/ISQMechanics.sysml...\n",
      "Reading /home/sysml/conda/share/jupyter/kernels/sysml/sysml.library/Domain Libraries/Quantities and Units/SI.sysml...\n",
      "Reading /home/sysml/conda/share/jupyter/kernels/sysml/sysml.library/Domain Libraries/Quantities and Units/ISQCharacteristicNumbers.sysml...\n",
      "Reading /home/sysml/conda/share/jupyter/kernels/sysml/sysml.library/Domain Libraries/Quantities and Units/QuantityCalculations.sysml...\n",
      "Reading /home/sysml/conda/share/jupyter/kernels/sysml/sysml.library/Domain Libraries/Quantities and Units/MeasurementRefCalculations.sysml...\n",
      "Reading /home/sysml/conda/share/jupyter/kernels/sysml/sysml.library/Domain Libraries/Quantities and Units/ISQAtomicNuclear.sysml...\n"
     ]
    },
    {
     "name": "stdout",
     "output_type": "stream",
     "text": [
      "Reading /home/sysml/conda/share/jupyter/kernels/sysml/sysml.library/Domain Libraries/Quantities and Units/ISQ.sysml...\n",
      "Reading /home/sysml/conda/share/jupyter/kernels/sysml/sysml.library/Domain Libraries/Quantities and Units/ISQAcoustics.sysml...\n",
      "Reading /home/sysml/conda/share/jupyter/kernels/sysml/sysml.library/Domain Libraries/Quantities and Units/ISQLight.sysml...\n",
      "Reading /home/sysml/conda/share/jupyter/kernels/sysml/sysml.library/Domain Libraries/Quantities and Units/ISQInformation.sysml...\n",
      "Reading /home/sysml/conda/share/jupyter/kernels/sysml/sysml.library/Domain Libraries/Quantities and Units/ISQThermodynamics.sysml...\n",
      "Reading /home/sysml/conda/share/jupyter/kernels/sysml/sysml.library/Domain Libraries/Quantities and Units/SIPrefixes.sysml...\n",
      "Reading /home/sysml/conda/share/jupyter/kernels/sysml/sysml.library/Domain Libraries/Quantities and Units/VectorCalculations.sysml...\n",
      "Reading /home/sysml/conda/share/jupyter/kernels/sysml/sysml.library/Domain Libraries/Quantities and Units/ISQChemistryMolecular.sysml...\n",
      "Reading /home/sysml/conda/share/jupyter/kernels/sysml/sysml.library/Domain Libraries/Quantities and Units/Quantities.sysml...\n",
      "Reading /home/sysml/conda/share/jupyter/kernels/sysml/sysml.library/Domain Libraries/Metadata/ImageMetadata.sysml...\n",
      "Reading /home/sysml/conda/share/jupyter/kernels/sysml/sysml.library/Domain Libraries/Metadata/ModelingMetadata.sysml...\n",
      "Reading /home/sysml/conda/share/jupyter/kernels/sysml/sysml.library/Domain Libraries/Metadata/ParametersOfInterestMetadata.sysml...\n",
      "Reading /home/sysml/conda/share/jupyter/kernels/sysml/sysml.library/Domain Libraries/Metadata/RiskMetadata.sysml...\n",
      "Reading /home/sysml/conda/share/jupyter/kernels/sysml/sysml.library/Domain Libraries/Requirement Derivation/RequirementDerivation.sysml...\n",
      "Reading /home/sysml/conda/share/jupyter/kernels/sysml/sysml.library/Domain Libraries/Requirement Derivation/DerivationConnections.sysml...\n"
     ]
    },
    {
     "name": "stderr",
     "output_type": "stream",
     "text": [
      "Dec 16, 2024 3:29:53 AM io.github.spencerpark.jupyter.channels.Loop start\n",
      "INFO: Loop starting...\n",
      "Dec 16, 2024 3:29:53 AM io.github.spencerpark.jupyter.channels.Loop start\n",
      "INFO: Loop started.\n",
      "Dec 16, 2024 3:29:53 AM io.github.spencerpark.jupyter.channels.Loop start\n",
      "INFO: Loop starting...\n",
      "Dec 16, 2024 3:29:53 AM io.github.spencerpark.jupyter.channels.Loop start\n",
      "INFO: Loop started.\n",
      "Dec 16, 2024 3:29:53 AM io.github.spencerpark.jupyter.channels.Loop start\n",
      "INFO: Loop starting...\n",
      "Dec 16, 2024 3:29:53 AM io.github.spencerpark.jupyter.channels.Loop start\n",
      "INFO: Loop started.\n"
     ]
    },
    {
     "name": "stderr",
     "output_type": "stream",
     "text": [
      "Dec 16, 2024 3:29:55 AM io.github.spencerpark.jupyter.channels.Loop shutdown\n",
      "INFO: Loop shutdown.\n",
      "Dec 16, 2024 3:29:55 AM io.github.spencerpark.jupyter.channels.Loop shutdown\n",
      "INFO: Loop shutdown.\n",
      "Dec 16, 2024 3:29:55 AM io.github.spencerpark.jupyter.channels.Loop shutdown\n",
      "INFO: Loop shutdown.\n",
      "Dec 16, 2024 3:29:55 AM io.github.spencerpark.jupyter.channels.Loop run\n",
      "INFO: Running loop shutdown callback.\n",
      "Dec 16, 2024 3:29:55 AM io.github.spencerpark.jupyter.channels.Loop run\n",
      "INFO: Loop stopped.\n",
      "Dec 16, 2024 3:29:55 AM io.github.spencerpark.jupyter.channels.Loop run\n",
      "INFO: Running loop shutdown callback.\n",
      "Dec 16, 2024 3:29:55 AM io.github.spencerpark.jupyter.channels.Loop run\n",
      "INFO: Loop stopped.\n",
      "Dec 16, 2024 3:29:55 AM io.github.spencerpark.jupyter.channels.Loop run\n",
      "INFO: Running loop shutdown callback.\n",
      "Dec 16, 2024 3:29:55 AM io.github.spencerpark.jupyter.channels.Loop run\n",
      "INFO: Loop stopped.\n"
     ]
    },
    {
     "name": "stdout",
     "output_type": "stream",
     "text": [
      "Signing notebook: TestSuite/Examples/Arrowhead Framework Example.ipynb\n",
      "Executing: TestSuite/Examples/Camera Example.ipynb\n"
     ]
    },
    {
     "name": "stderr",
     "output_type": "stream",
     "text": [
      "/home/sysml/conda/lib/python3.12/site-packages/nbformat/__init__.py:96: MissingIDFieldWarning: Cell is missing an id field, this will become a hard error in future nbformat versions. You may want to use `normalize()` on your notebooks before validations (available since nbformat 5.1.4). Previous versions of nbformat are fixing this issue transparently, and will stop doing so in the future.\n",
      "  validate(nb)\n"
     ]
    },
    {
     "name": "stdout",
     "output_type": "stream",
     "text": [
      "Reading /home/sysml/conda/share/jupyter/kernels/sysml/sysml.library/Kernel Libraries/Kernel Semantic Library/Observation.kerml...\n"
     ]
    },
    {
     "name": "stderr",
     "output_type": "stream",
     "text": [
      "log4j:WARN No appenders could be found for logger (org.eclipse.xtext.parser.antlr.AbstractInternalAntlrParser).\n",
      "log4j:WARN Please initialize the log4j system properly.\n",
      "log4j:WARN See http://logging.apache.org/log4j/1.2/faq.html#noconfig for more info.\n"
     ]
    },
    {
     "name": "stdout",
     "output_type": "stream",
     "text": [
      "Reading /home/sysml/conda/share/jupyter/kernels/sysml/sysml.library/Kernel Libraries/Kernel Semantic Library/Transfers.kerml...\n",
      "Reading /home/sysml/conda/share/jupyter/kernels/sysml/sysml.library/Kernel Libraries/Kernel Semantic Library/Metaobjects.kerml...\n",
      "Reading /home/sysml/conda/share/jupyter/kernels/sysml/sysml.library/Kernel Libraries/Kernel Semantic Library/Triggers.kerml...\n",
      "Reading /home/sysml/conda/share/jupyter/kernels/sysml/sysml.library/Kernel Libraries/Kernel Semantic Library/Links.kerml...\n",
      "Reading /home/sysml/conda/share/jupyter/kernels/sysml/sysml.library/Kernel Libraries/Kernel Semantic Library/Base.kerml...\n",
      "Reading /home/sysml/conda/share/jupyter/kernels/sysml/sysml.library/Kernel Libraries/Kernel Semantic Library/Objects.kerml...\n",
      "Reading /home/sysml/conda/share/jupyter/kernels/sysml/sysml.library/Kernel Libraries/Kernel Semantic Library/Clocks.kerml...\n",
      "Reading /home/sysml/conda/share/jupyter/kernels/sysml/sysml.library/Kernel Libraries/Kernel Semantic Library/KerML.kerml...\n"
     ]
    },
    {
     "name": "stdout",
     "output_type": "stream",
     "text": [
      "Reading /home/sysml/conda/share/jupyter/kernels/sysml/sysml.library/Kernel Libraries/Kernel Semantic Library/FeatureReferencingPerformances.kerml...\n",
      "Reading /home/sysml/conda/share/jupyter/kernels/sysml/sysml.library/Kernel Libraries/Kernel Semantic Library/Performances.kerml...\n",
      "Reading /home/sysml/conda/share/jupyter/kernels/sysml/sysml.library/Kernel Libraries/Kernel Semantic Library/Occurrences.kerml...\n",
      "Reading /home/sysml/conda/share/jupyter/kernels/sysml/sysml.library/Kernel Libraries/Kernel Semantic Library/ControlPerformances.kerml...\n",
      "Reading /home/sysml/conda/share/jupyter/kernels/sysml/sysml.library/Kernel Libraries/Kernel Semantic Library/StatePerformances.kerml...\n",
      "Reading /home/sysml/conda/share/jupyter/kernels/sysml/sysml.library/Kernel Libraries/Kernel Semantic Library/TransitionPerformances.kerml...\n",
      "Reading /home/sysml/conda/share/jupyter/kernels/sysml/sysml.library/Kernel Libraries/Kernel Semantic Library/SpatialFrames.kerml...\n",
      "Reading /home/sysml/conda/share/jupyter/kernels/sysml/sysml.library/Kernel Libraries/Kernel Data Type Library/VectorValues.kerml...\n",
      "Reading /home/sysml/conda/share/jupyter/kernels/sysml/sysml.library/Kernel Libraries/Kernel Data Type Library/Collections.kerml...\n",
      "Reading /home/sysml/conda/share/jupyter/kernels/sysml/sysml.library/Kernel Libraries/Kernel Data Type Library/ScalarValues.kerml...\n",
      "Reading /home/sysml/conda/share/jupyter/kernels/sysml/sysml.library/Kernel Libraries/Kernel Function Library/NaturalFunctions.kerml...\n",
      "Reading /home/sysml/conda/share/jupyter/kernels/sysml/sysml.library/Kernel Libraries/Kernel Function Library/BaseFunctions.kerml...\n",
      "Reading /home/sysml/conda/share/jupyter/kernels/sysml/sysml.library/Kernel Libraries/Kernel Function Library/DataFunctions.kerml...\n",
      "Reading /home/sysml/conda/share/jupyter/kernels/sysml/sysml.library/Kernel Libraries/Kernel Function Library/IntegerFunctions.kerml...\n",
      "Reading /home/sysml/conda/share/jupyter/kernels/sysml/sysml.library/Kernel Libraries/Kernel Function Library/RealFunctions.kerml...\n",
      "Reading /home/sysml/conda/share/jupyter/kernels/sysml/sysml.library/Kernel Libraries/Kernel Function Library/NumericalFunctions.kerml...\n"
     ]
    },
    {
     "name": "stdout",
     "output_type": "stream",
     "text": [
      "Reading /home/sysml/conda/share/jupyter/kernels/sysml/sysml.library/Kernel Libraries/Kernel Function Library/VectorFunctions.kerml...\n",
      "Reading /home/sysml/conda/share/jupyter/kernels/sysml/sysml.library/Kernel Libraries/Kernel Function Library/SequenceFunctions.kerml...\n",
      "Reading /home/sysml/conda/share/jupyter/kernels/sysml/sysml.library/Kernel Libraries/Kernel Function Library/ComplexFunctions.kerml...\n",
      "Reading /home/sysml/conda/share/jupyter/kernels/sysml/sysml.library/Kernel Libraries/Kernel Function Library/RationalFunctions.kerml...\n",
      "Reading /home/sysml/conda/share/jupyter/kernels/sysml/sysml.library/Kernel Libraries/Kernel Function Library/StringFunctions.kerml...\n",
      "Reading /home/sysml/conda/share/jupyter/kernels/sysml/sysml.library/Kernel Libraries/Kernel Function Library/ScalarFunctions.kerml...\n",
      "Reading /home/sysml/conda/share/jupyter/kernels/sysml/sysml.library/Kernel Libraries/Kernel Function Library/CollectionFunctions.kerml...\n",
      "Reading /home/sysml/conda/share/jupyter/kernels/sysml/sysml.library/Kernel Libraries/Kernel Function Library/BooleanFunctions.kerml...\n",
      "Reading /home/sysml/conda/share/jupyter/kernels/sysml/sysml.library/Kernel Libraries/Kernel Function Library/OccurrenceFunctions.kerml...\n",
      "Reading /home/sysml/conda/share/jupyter/kernels/sysml/sysml.library/Kernel Libraries/Kernel Function Library/TrigFunctions.kerml...\n",
      "Reading /home/sysml/conda/share/jupyter/kernels/sysml/sysml.library/Kernel Libraries/Kernel Function Library/ControlFunctions.kerml...\n",
      "Reading /home/sysml/conda/share/jupyter/kernels/sysml/sysml.library/Systems Library/Connections.sysml...\n"
     ]
    },
    {
     "name": "stdout",
     "output_type": "stream",
     "text": [
      "Reading /home/sysml/conda/share/jupyter/kernels/sysml/sysml.library/Systems Library/States.sysml...\n",
      "Reading /home/sysml/conda/share/jupyter/kernels/sysml/sysml.library/Systems Library/Actions.sysml...\n",
      "Reading /home/sysml/conda/share/jupyter/kernels/sysml/sysml.library/Systems Library/Metadata.sysml...\n",
      "Reading /home/sysml/conda/share/jupyter/kernels/sysml/sysml.library/Systems Library/Requirements.sysml...\n",
      "Reading /home/sysml/conda/share/jupyter/kernels/sysml/sysml.library/Systems Library/AnalysisCases.sysml...\n",
      "Reading /home/sysml/conda/share/jupyter/kernels/sysml/sysml.library/Systems Library/Attributes.sysml...\n",
      "Reading /home/sysml/conda/share/jupyter/kernels/sysml/sysml.library/Systems Library/Cases.sysml...\n",
      "Reading /home/sysml/conda/share/jupyter/kernels/sysml/sysml.library/Systems Library/VerificationCases.sysml...\n",
      "Reading /home/sysml/conda/share/jupyter/kernels/sysml/sysml.library/Systems Library/Interfaces.sysml...\n",
      "Reading /home/sysml/conda/share/jupyter/kernels/sysml/sysml.library/Systems Library/Ports.sysml...\n",
      "Reading /home/sysml/conda/share/jupyter/kernels/sysml/sysml.library/Systems Library/Views.sysml...\n",
      "Reading /home/sysml/conda/share/jupyter/kernels/sysml/sysml.library/Systems Library/UseCases.sysml...\n",
      "Reading /home/sysml/conda/share/jupyter/kernels/sysml/sysml.library/Systems Library/Parts.sysml...\n",
      "Reading /home/sysml/conda/share/jupyter/kernels/sysml/sysml.library/Systems Library/SysML.sysml...\n",
      "Reading /home/sysml/conda/share/jupyter/kernels/sysml/sysml.library/Systems Library/Constraints.sysml...\n",
      "Reading /home/sysml/conda/share/jupyter/kernels/sysml/sysml.library/Systems Library/Items.sysml...\n",
      "Reading /home/sysml/conda/share/jupyter/kernels/sysml/sysml.library/Systems Library/Calculations.sysml...\n",
      "Reading /home/sysml/conda/share/jupyter/kernels/sysml/sysml.library/Systems Library/StandardViewDefinitions.sysml...\n",
      "Reading /home/sysml/conda/share/jupyter/kernels/sysml/sysml.library/Systems Library/Allocations.sysml...\n"
     ]
    },
    {
     "name": "stdout",
     "output_type": "stream",
     "text": [
      "Reading /home/sysml/conda/share/jupyter/kernels/sysml/sysml.library/Domain Libraries/Geometry/SpatialItems.sysml...\n",
      "Reading /home/sysml/conda/share/jupyter/kernels/sysml/sysml.library/Domain Libraries/Geometry/ShapeItems.sysml...\n",
      "Reading /home/sysml/conda/share/jupyter/kernels/sysml/sysml.library/Domain Libraries/Analysis/TradeStudies.sysml...\n",
      "Reading /home/sysml/conda/share/jupyter/kernels/sysml/sysml.library/Domain Libraries/Analysis/StateSpaceRepresentation.sysml...\n",
      "Reading /home/sysml/conda/share/jupyter/kernels/sysml/sysml.library/Domain Libraries/Analysis/SampledFunctions.sysml...\n",
      "Reading /home/sysml/conda/share/jupyter/kernels/sysml/sysml.library/Domain Libraries/Analysis/AnalysisTooling.sysml...\n",
      "Reading /home/sysml/conda/share/jupyter/kernels/sysml/sysml.library/Domain Libraries/Cause and Effect/CausationConnections.sysml...\n",
      "Reading /home/sysml/conda/share/jupyter/kernels/sysml/sysml.library/Domain Libraries/Cause and Effect/CauseAndEffect.sysml...\n",
      "Reading /home/sysml/conda/share/jupyter/kernels/sysml/sysml.library/Domain Libraries/Quantities and Units/TensorCalculations.sysml...\n",
      "Reading /home/sysml/conda/share/jupyter/kernels/sysml/sysml.library/Domain Libraries/Quantities and Units/ISQSpaceTime.sysml...\n",
      "Reading /home/sysml/conda/share/jupyter/kernels/sysml/sysml.library/Domain Libraries/Quantities and Units/ISQElectromagnetism.sysml...\n",
      "Reading /home/sysml/conda/share/jupyter/kernels/sysml/sysml.library/Domain Libraries/Quantities and Units/USCustomaryUnits.sysml...\n"
     ]
    },
    {
     "name": "stdout",
     "output_type": "stream",
     "text": [
      "Reading /home/sysml/conda/share/jupyter/kernels/sysml/sysml.library/Domain Libraries/Quantities and Units/Time.sysml...\n",
      "Reading /home/sysml/conda/share/jupyter/kernels/sysml/sysml.library/Domain Libraries/Quantities and Units/MeasurementReferences.sysml...\n",
      "Reading /home/sysml/conda/share/jupyter/kernels/sysml/sysml.library/Domain Libraries/Quantities and Units/ISQBase.sysml...\n",
      "Reading /home/sysml/conda/share/jupyter/kernels/sysml/sysml.library/Domain Libraries/Quantities and Units/ISQCondensedMatter.sysml...\n",
      "Reading /home/sysml/conda/share/jupyter/kernels/sysml/sysml.library/Domain Libraries/Quantities and Units/ISQMechanics.sysml...\n",
      "Reading /home/sysml/conda/share/jupyter/kernels/sysml/sysml.library/Domain Libraries/Quantities and Units/SI.sysml...\n",
      "Reading /home/sysml/conda/share/jupyter/kernels/sysml/sysml.library/Domain Libraries/Quantities and Units/ISQCharacteristicNumbers.sysml...\n",
      "Reading /home/sysml/conda/share/jupyter/kernels/sysml/sysml.library/Domain Libraries/Quantities and Units/QuantityCalculations.sysml...\n",
      "Reading /home/sysml/conda/share/jupyter/kernels/sysml/sysml.library/Domain Libraries/Quantities and Units/MeasurementRefCalculations.sysml...\n",
      "Reading /home/sysml/conda/share/jupyter/kernels/sysml/sysml.library/Domain Libraries/Quantities and Units/ISQAtomicNuclear.sysml...\n",
      "Reading /home/sysml/conda/share/jupyter/kernels/sysml/sysml.library/Domain Libraries/Quantities and Units/ISQ.sysml...\n",
      "Reading /home/sysml/conda/share/jupyter/kernels/sysml/sysml.library/Domain Libraries/Quantities and Units/ISQAcoustics.sysml...\n",
      "Reading /home/sysml/conda/share/jupyter/kernels/sysml/sysml.library/Domain Libraries/Quantities and Units/ISQLight.sysml...\n"
     ]
    },
    {
     "name": "stdout",
     "output_type": "stream",
     "text": [
      "Reading /home/sysml/conda/share/jupyter/kernels/sysml/sysml.library/Domain Libraries/Quantities and Units/ISQInformation.sysml...\n",
      "Reading /home/sysml/conda/share/jupyter/kernels/sysml/sysml.library/Domain Libraries/Quantities and Units/ISQThermodynamics.sysml...\n",
      "Reading /home/sysml/conda/share/jupyter/kernels/sysml/sysml.library/Domain Libraries/Quantities and Units/SIPrefixes.sysml...\n",
      "Reading /home/sysml/conda/share/jupyter/kernels/sysml/sysml.library/Domain Libraries/Quantities and Units/VectorCalculations.sysml...\n",
      "Reading /home/sysml/conda/share/jupyter/kernels/sysml/sysml.library/Domain Libraries/Quantities and Units/ISQChemistryMolecular.sysml...\n",
      "Reading /home/sysml/conda/share/jupyter/kernels/sysml/sysml.library/Domain Libraries/Quantities and Units/Quantities.sysml...\n",
      "Reading /home/sysml/conda/share/jupyter/kernels/sysml/sysml.library/Domain Libraries/Metadata/ImageMetadata.sysml...\n",
      "Reading /home/sysml/conda/share/jupyter/kernels/sysml/sysml.library/Domain Libraries/Metadata/ModelingMetadata.sysml...\n",
      "Reading /home/sysml/conda/share/jupyter/kernels/sysml/sysml.library/Domain Libraries/Metadata/ParametersOfInterestMetadata.sysml...\n",
      "Reading /home/sysml/conda/share/jupyter/kernels/sysml/sysml.library/Domain Libraries/Metadata/RiskMetadata.sysml...\n",
      "Reading /home/sysml/conda/share/jupyter/kernels/sysml/sysml.library/Domain Libraries/Requirement Derivation/RequirementDerivation.sysml...\n",
      "Reading /home/sysml/conda/share/jupyter/kernels/sysml/sysml.library/Domain Libraries/Requirement Derivation/DerivationConnections.sysml...\n"
     ]
    },
    {
     "name": "stderr",
     "output_type": "stream",
     "text": [
      "Dec 16, 2024 3:29:59 AM io.github.spencerpark.jupyter.channels.Loop start\n",
      "INFO: Loop starting...\n",
      "Dec 16, 2024 3:29:59 AM io.github.spencerpark.jupyter.channels.Loop start\n",
      "INFO: Loop started.\n",
      "Dec 16, 2024 3:29:59 AM io.github.spencerpark.jupyter.channels.Loop start\n",
      "INFO: Loop starting...\n",
      "Dec 16, 2024 3:29:59 AM io.github.spencerpark.jupyter.channels.Loop start\n",
      "INFO: Loop started.\n",
      "Dec 16, 2024 3:29:59 AM io.github.spencerpark.jupyter.channels.Loop start\n",
      "INFO: Loop starting...\n",
      "Dec 16, 2024 3:29:59 AM io.github.spencerpark.jupyter.channels.Loop start\n",
      "INFO: Loop started.\n"
     ]
    },
    {
     "name": "stderr",
     "output_type": "stream",
     "text": [
      "Dec 16, 2024 3:30:00 AM io.github.spencerpark.jupyter.channels.Loop shutdown\n",
      "INFO: Loop shutdown.\n",
      "Dec 16, 2024 3:30:00 AM io.github.spencerpark.jupyter.channels.Loop shutdown\n",
      "INFO: Loop shutdown.\n",
      "Dec 16, 2024 3:30:00 AM io.github.spencerpark.jupyter.channels.Loop shutdown\n",
      "INFO: Loop shutdown.\n",
      "Dec 16, 2024 3:30:00 AM io.github.spencerpark.jupyter.channels.Loop run\n",
      "INFO: Running loop shutdown callback.\n",
      "Dec 16, 2024 3:30:00 AM io.github.spencerpark.jupyter.channels.Loop run\n",
      "INFO: Loop stopped.\n",
      "Dec 16, 2024 3:30:00 AM io.github.spencerpark.jupyter.channels.Loop run\n",
      "INFO: Running loop shutdown callback.\n",
      "Dec 16, 2024 3:30:00 AM io.github.spencerpark.jupyter.channels.Loop run\n",
      "INFO: Loop stopped.\n"
     ]
    },
    {
     "name": "stderr",
     "output_type": "stream",
     "text": [
      "Dec 16, 2024 3:30:00 AM io.github.spencerpark.jupyter.channels.Loop run\n",
      "INFO: Running loop shutdown callback.\n",
      "Dec 16, 2024 3:30:00 AM io.github.spencerpark.jupyter.channels.Loop run\n",
      "INFO: Loop stopped.\n"
     ]
    },
    {
     "name": "stdout",
     "output_type": "stream",
     "text": [
      "Signing notebook: TestSuite/Examples/Camera Example.ipynb\n",
      "Executing: TestSuite/Examples/Variability Examples.ipynb\n"
     ]
    },
    {
     "name": "stderr",
     "output_type": "stream",
     "text": [
      "/home/sysml/conda/lib/python3.12/site-packages/nbformat/__init__.py:96: MissingIDFieldWarning: Cell is missing an id field, this will become a hard error in future nbformat versions. You may want to use `normalize()` on your notebooks before validations (available since nbformat 5.1.4). Previous versions of nbformat are fixing this issue transparently, and will stop doing so in the future.\n",
      "  validate(nb)\n"
     ]
    },
    {
     "name": "stdout",
     "output_type": "stream",
     "text": [
      "Reading /home/sysml/conda/share/jupyter/kernels/sysml/sysml.library/Kernel Libraries/Kernel Semantic Library/Observation.kerml...\n"
     ]
    },
    {
     "name": "stderr",
     "output_type": "stream",
     "text": [
      "log4j:WARN No appenders could be found for logger (org.eclipse.xtext.parser.antlr.AbstractInternalAntlrParser).\n",
      "log4j:WARN Please initialize the log4j system properly.\n",
      "log4j:WARN See http://logging.apache.org/log4j/1.2/faq.html#noconfig for more info.\n"
     ]
    },
    {
     "name": "stdout",
     "output_type": "stream",
     "text": [
      "Reading /home/sysml/conda/share/jupyter/kernels/sysml/sysml.library/Kernel Libraries/Kernel Semantic Library/Transfers.kerml...\n",
      "Reading /home/sysml/conda/share/jupyter/kernels/sysml/sysml.library/Kernel Libraries/Kernel Semantic Library/Metaobjects.kerml...\n"
     ]
    },
    {
     "name": "stdout",
     "output_type": "stream",
     "text": [
      "Reading /home/sysml/conda/share/jupyter/kernels/sysml/sysml.library/Kernel Libraries/Kernel Semantic Library/Triggers.kerml...\n",
      "Reading /home/sysml/conda/share/jupyter/kernels/sysml/sysml.library/Kernel Libraries/Kernel Semantic Library/Links.kerml...\n",
      "Reading /home/sysml/conda/share/jupyter/kernels/sysml/sysml.library/Kernel Libraries/Kernel Semantic Library/Base.kerml...\n",
      "Reading /home/sysml/conda/share/jupyter/kernels/sysml/sysml.library/Kernel Libraries/Kernel Semantic Library/Objects.kerml...\n"
     ]
    },
    {
     "name": "stdout",
     "output_type": "stream",
     "text": [
      "Reading /home/sysml/conda/share/jupyter/kernels/sysml/sysml.library/Kernel Libraries/Kernel Semantic Library/Clocks.kerml...\n",
      "Reading /home/sysml/conda/share/jupyter/kernels/sysml/sysml.library/Kernel Libraries/Kernel Semantic Library/KerML.kerml...\n"
     ]
    },
    {
     "name": "stdout",
     "output_type": "stream",
     "text": [
      "Reading /home/sysml/conda/share/jupyter/kernels/sysml/sysml.library/Kernel Libraries/Kernel Semantic Library/FeatureReferencingPerformances.kerml...\n",
      "Reading /home/sysml/conda/share/jupyter/kernels/sysml/sysml.library/Kernel Libraries/Kernel Semantic Library/Performances.kerml...\n",
      "Reading /home/sysml/conda/share/jupyter/kernels/sysml/sysml.library/Kernel Libraries/Kernel Semantic Library/Occurrences.kerml...\n"
     ]
    },
    {
     "name": "stdout",
     "output_type": "stream",
     "text": [
      "Reading /home/sysml/conda/share/jupyter/kernels/sysml/sysml.library/Kernel Libraries/Kernel Semantic Library/ControlPerformances.kerml...\n",
      "Reading /home/sysml/conda/share/jupyter/kernels/sysml/sysml.library/Kernel Libraries/Kernel Semantic Library/StatePerformances.kerml...\n",
      "Reading /home/sysml/conda/share/jupyter/kernels/sysml/sysml.library/Kernel Libraries/Kernel Semantic Library/TransitionPerformances.kerml...\n",
      "Reading /home/sysml/conda/share/jupyter/kernels/sysml/sysml.library/Kernel Libraries/Kernel Semantic Library/SpatialFrames.kerml...\n"
     ]
    },
    {
     "name": "stdout",
     "output_type": "stream",
     "text": [
      "Reading /home/sysml/conda/share/jupyter/kernels/sysml/sysml.library/Kernel Libraries/Kernel Data Type Library/VectorValues.kerml...\n",
      "Reading /home/sysml/conda/share/jupyter/kernels/sysml/sysml.library/Kernel Libraries/Kernel Data Type Library/Collections.kerml...\n",
      "Reading /home/sysml/conda/share/jupyter/kernels/sysml/sysml.library/Kernel Libraries/Kernel Data Type Library/ScalarValues.kerml...\n",
      "Reading /home/sysml/conda/share/jupyter/kernels/sysml/sysml.library/Kernel Libraries/Kernel Function Library/NaturalFunctions.kerml...\n",
      "Reading /home/sysml/conda/share/jupyter/kernels/sysml/sysml.library/Kernel Libraries/Kernel Function Library/BaseFunctions.kerml...\n",
      "Reading /home/sysml/conda/share/jupyter/kernels/sysml/sysml.library/Kernel Libraries/Kernel Function Library/DataFunctions.kerml...\n",
      "Reading /home/sysml/conda/share/jupyter/kernels/sysml/sysml.library/Kernel Libraries/Kernel Function Library/IntegerFunctions.kerml...\n",
      "Reading /home/sysml/conda/share/jupyter/kernels/sysml/sysml.library/Kernel Libraries/Kernel Function Library/RealFunctions.kerml...\n",
      "Reading /home/sysml/conda/share/jupyter/kernels/sysml/sysml.library/Kernel Libraries/Kernel Function Library/NumericalFunctions.kerml...\n"
     ]
    },
    {
     "name": "stdout",
     "output_type": "stream",
     "text": [
      "Reading /home/sysml/conda/share/jupyter/kernels/sysml/sysml.library/Kernel Libraries/Kernel Function Library/VectorFunctions.kerml...\n",
      "Reading /home/sysml/conda/share/jupyter/kernels/sysml/sysml.library/Kernel Libraries/Kernel Function Library/SequenceFunctions.kerml...\n",
      "Reading /home/sysml/conda/share/jupyter/kernels/sysml/sysml.library/Kernel Libraries/Kernel Function Library/ComplexFunctions.kerml...\n",
      "Reading /home/sysml/conda/share/jupyter/kernels/sysml/sysml.library/Kernel Libraries/Kernel Function Library/RationalFunctions.kerml...\n",
      "Reading /home/sysml/conda/share/jupyter/kernels/sysml/sysml.library/Kernel Libraries/Kernel Function Library/StringFunctions.kerml...\n",
      "Reading /home/sysml/conda/share/jupyter/kernels/sysml/sysml.library/Kernel Libraries/Kernel Function Library/ScalarFunctions.kerml...\n",
      "Reading /home/sysml/conda/share/jupyter/kernels/sysml/sysml.library/Kernel Libraries/Kernel Function Library/CollectionFunctions.kerml...\n"
     ]
    },
    {
     "name": "stdout",
     "output_type": "stream",
     "text": [
      "Reading /home/sysml/conda/share/jupyter/kernels/sysml/sysml.library/Kernel Libraries/Kernel Function Library/BooleanFunctions.kerml...\n",
      "Reading /home/sysml/conda/share/jupyter/kernels/sysml/sysml.library/Kernel Libraries/Kernel Function Library/OccurrenceFunctions.kerml...\n",
      "Reading /home/sysml/conda/share/jupyter/kernels/sysml/sysml.library/Kernel Libraries/Kernel Function Library/TrigFunctions.kerml...\n",
      "Reading /home/sysml/conda/share/jupyter/kernels/sysml/sysml.library/Kernel Libraries/Kernel Function Library/ControlFunctions.kerml...\n",
      "Reading /home/sysml/conda/share/jupyter/kernels/sysml/sysml.library/Systems Library/Connections.sysml...\n"
     ]
    },
    {
     "name": "stdout",
     "output_type": "stream",
     "text": [
      "Reading /home/sysml/conda/share/jupyter/kernels/sysml/sysml.library/Systems Library/States.sysml...\n",
      "Reading /home/sysml/conda/share/jupyter/kernels/sysml/sysml.library/Systems Library/Actions.sysml...\n",
      "Reading /home/sysml/conda/share/jupyter/kernels/sysml/sysml.library/Systems Library/Metadata.sysml...\n",
      "Reading /home/sysml/conda/share/jupyter/kernels/sysml/sysml.library/Systems Library/Requirements.sysml...\n"
     ]
    },
    {
     "name": "stdout",
     "output_type": "stream",
     "text": [
      "Reading /home/sysml/conda/share/jupyter/kernels/sysml/sysml.library/Systems Library/AnalysisCases.sysml...\n",
      "Reading /home/sysml/conda/share/jupyter/kernels/sysml/sysml.library/Systems Library/Attributes.sysml...\n",
      "Reading /home/sysml/conda/share/jupyter/kernels/sysml/sysml.library/Systems Library/Cases.sysml...\n",
      "Reading /home/sysml/conda/share/jupyter/kernels/sysml/sysml.library/Systems Library/VerificationCases.sysml...\n",
      "Reading /home/sysml/conda/share/jupyter/kernels/sysml/sysml.library/Systems Library/Interfaces.sysml...\n",
      "Reading /home/sysml/conda/share/jupyter/kernels/sysml/sysml.library/Systems Library/Ports.sysml...\n",
      "Reading /home/sysml/conda/share/jupyter/kernels/sysml/sysml.library/Systems Library/Views.sysml...\n",
      "Reading /home/sysml/conda/share/jupyter/kernels/sysml/sysml.library/Systems Library/UseCases.sysml...\n",
      "Reading /home/sysml/conda/share/jupyter/kernels/sysml/sysml.library/Systems Library/Parts.sysml...\n",
      "Reading /home/sysml/conda/share/jupyter/kernels/sysml/sysml.library/Systems Library/SysML.sysml...\n"
     ]
    },
    {
     "name": "stdout",
     "output_type": "stream",
     "text": [
      "Reading /home/sysml/conda/share/jupyter/kernels/sysml/sysml.library/Systems Library/Constraints.sysml...\n",
      "Reading /home/sysml/conda/share/jupyter/kernels/sysml/sysml.library/Systems Library/Items.sysml...\n",
      "Reading /home/sysml/conda/share/jupyter/kernels/sysml/sysml.library/Systems Library/Calculations.sysml...\n",
      "Reading /home/sysml/conda/share/jupyter/kernels/sysml/sysml.library/Systems Library/StandardViewDefinitions.sysml...\n",
      "Reading /home/sysml/conda/share/jupyter/kernels/sysml/sysml.library/Systems Library/Allocations.sysml...\n",
      "Reading /home/sysml/conda/share/jupyter/kernels/sysml/sysml.library/Domain Libraries/Geometry/SpatialItems.sysml...\n",
      "Reading /home/sysml/conda/share/jupyter/kernels/sysml/sysml.library/Domain Libraries/Geometry/ShapeItems.sysml...\n",
      "Reading /home/sysml/conda/share/jupyter/kernels/sysml/sysml.library/Domain Libraries/Analysis/TradeStudies.sysml...\n"
     ]
    },
    {
     "name": "stdout",
     "output_type": "stream",
     "text": [
      "Reading /home/sysml/conda/share/jupyter/kernels/sysml/sysml.library/Domain Libraries/Analysis/StateSpaceRepresentation.sysml...\n",
      "Reading /home/sysml/conda/share/jupyter/kernels/sysml/sysml.library/Domain Libraries/Analysis/SampledFunctions.sysml...\n",
      "Reading /home/sysml/conda/share/jupyter/kernels/sysml/sysml.library/Domain Libraries/Analysis/AnalysisTooling.sysml...\n",
      "Reading /home/sysml/conda/share/jupyter/kernels/sysml/sysml.library/Domain Libraries/Cause and Effect/CausationConnections.sysml...\n",
      "Reading /home/sysml/conda/share/jupyter/kernels/sysml/sysml.library/Domain Libraries/Cause and Effect/CauseAndEffect.sysml...\n",
      "Reading /home/sysml/conda/share/jupyter/kernels/sysml/sysml.library/Domain Libraries/Quantities and Units/TensorCalculations.sysml...\n",
      "Reading /home/sysml/conda/share/jupyter/kernels/sysml/sysml.library/Domain Libraries/Quantities and Units/ISQSpaceTime.sysml...\n",
      "Reading /home/sysml/conda/share/jupyter/kernels/sysml/sysml.library/Domain Libraries/Quantities and Units/ISQElectromagnetism.sysml...\n"
     ]
    },
    {
     "name": "stdout",
     "output_type": "stream",
     "text": [
      "Reading /home/sysml/conda/share/jupyter/kernels/sysml/sysml.library/Domain Libraries/Quantities and Units/USCustomaryUnits.sysml...\n",
      "Reading /home/sysml/conda/share/jupyter/kernels/sysml/sysml.library/Domain Libraries/Quantities and Units/Time.sysml...\n",
      "Reading /home/sysml/conda/share/jupyter/kernels/sysml/sysml.library/Domain Libraries/Quantities and Units/MeasurementReferences.sysml...\n",
      "Reading /home/sysml/conda/share/jupyter/kernels/sysml/sysml.library/Domain Libraries/Quantities and Units/ISQBase.sysml...\n",
      "Reading /home/sysml/conda/share/jupyter/kernels/sysml/sysml.library/Domain Libraries/Quantities and Units/ISQCondensedMatter.sysml...\n"
     ]
    },
    {
     "name": "stdout",
     "output_type": "stream",
     "text": [
      "Reading /home/sysml/conda/share/jupyter/kernels/sysml/sysml.library/Domain Libraries/Quantities and Units/ISQMechanics.sysml...\n",
      "Reading /home/sysml/conda/share/jupyter/kernels/sysml/sysml.library/Domain Libraries/Quantities and Units/SI.sysml...\n",
      "Reading /home/sysml/conda/share/jupyter/kernels/sysml/sysml.library/Domain Libraries/Quantities and Units/ISQCharacteristicNumbers.sysml...\n",
      "Reading /home/sysml/conda/share/jupyter/kernels/sysml/sysml.library/Domain Libraries/Quantities and Units/QuantityCalculations.sysml...\n",
      "Reading /home/sysml/conda/share/jupyter/kernels/sysml/sysml.library/Domain Libraries/Quantities and Units/MeasurementRefCalculations.sysml...\n"
     ]
    },
    {
     "name": "stdout",
     "output_type": "stream",
     "text": [
      "Reading /home/sysml/conda/share/jupyter/kernels/sysml/sysml.library/Domain Libraries/Quantities and Units/ISQAtomicNuclear.sysml...\n",
      "Reading /home/sysml/conda/share/jupyter/kernels/sysml/sysml.library/Domain Libraries/Quantities and Units/ISQ.sysml...\n",
      "Reading /home/sysml/conda/share/jupyter/kernels/sysml/sysml.library/Domain Libraries/Quantities and Units/ISQAcoustics.sysml...\n",
      "Reading /home/sysml/conda/share/jupyter/kernels/sysml/sysml.library/Domain Libraries/Quantities and Units/ISQLight.sysml...\n"
     ]
    },
    {
     "name": "stdout",
     "output_type": "stream",
     "text": [
      "Reading /home/sysml/conda/share/jupyter/kernels/sysml/sysml.library/Domain Libraries/Quantities and Units/ISQInformation.sysml...\n",
      "Reading /home/sysml/conda/share/jupyter/kernels/sysml/sysml.library/Domain Libraries/Quantities and Units/ISQThermodynamics.sysml...\n",
      "Reading /home/sysml/conda/share/jupyter/kernels/sysml/sysml.library/Domain Libraries/Quantities and Units/SIPrefixes.sysml...\n",
      "Reading /home/sysml/conda/share/jupyter/kernels/sysml/sysml.library/Domain Libraries/Quantities and Units/VectorCalculations.sysml...\n",
      "Reading /home/sysml/conda/share/jupyter/kernels/sysml/sysml.library/Domain Libraries/Quantities and Units/ISQChemistryMolecular.sysml...\n"
     ]
    },
    {
     "name": "stdout",
     "output_type": "stream",
     "text": [
      "Reading /home/sysml/conda/share/jupyter/kernels/sysml/sysml.library/Domain Libraries/Quantities and Units/Quantities.sysml...\n",
      "Reading /home/sysml/conda/share/jupyter/kernels/sysml/sysml.library/Domain Libraries/Metadata/ImageMetadata.sysml...\n",
      "Reading /home/sysml/conda/share/jupyter/kernels/sysml/sysml.library/Domain Libraries/Metadata/ModelingMetadata.sysml...\n",
      "Reading /home/sysml/conda/share/jupyter/kernels/sysml/sysml.library/Domain Libraries/Metadata/ParametersOfInterestMetadata.sysml...\n",
      "Reading /home/sysml/conda/share/jupyter/kernels/sysml/sysml.library/Domain Libraries/Metadata/RiskMetadata.sysml...\n",
      "Reading /home/sysml/conda/share/jupyter/kernels/sysml/sysml.library/Domain Libraries/Requirement Derivation/RequirementDerivation.sysml...\n",
      "Reading /home/sysml/conda/share/jupyter/kernels/sysml/sysml.library/Domain Libraries/Requirement Derivation/DerivationConnections.sysml...\n"
     ]
    },
    {
     "name": "stderr",
     "output_type": "stream",
     "text": [
      "Dec 16, 2024 3:30:08 AM io.github.spencerpark.jupyter.channels.Loop start\n",
      "INFO: Loop starting...\n",
      "Dec 16, 2024 3:30:08 AM io.github.spencerpark.jupyter.channels.Loop start\n",
      "INFO: Loop started.\n",
      "Dec 16, 2024 3:30:08 AM io.github.spencerpark.jupyter.channels.Loop start\n",
      "INFO: Loop starting...\n",
      "Dec 16, 2024 3:30:08 AM io.github.spencerpark.jupyter.channels.Loop start\n",
      "INFO: Loop started.\n",
      "Dec 16, 2024 3:30:08 AM io.github.spencerpark.jupyter.channels.Loop start\n",
      "INFO: Loop starting...\n",
      "Dec 16, 2024 3:30:08 AM io.github.spencerpark.jupyter.channels.Loop start\n",
      "INFO: Loop started.\n"
     ]
    },
    {
     "name": "stderr",
     "output_type": "stream",
     "text": [
      "Dec 16, 2024 3:30:09 AM io.github.spencerpark.jupyter.channels.Loop shutdown\n",
      "INFO: Loop shutdown.\n",
      "Dec 16, 2024 3:30:09 AM io.github.spencerpark.jupyter.channels.Loop shutdown\n",
      "INFO: Loop shutdown.\n",
      "Dec 16, 2024 3:30:09 AM io.github.spencerpark.jupyter.channels.Loop shutdown\n",
      "INFO: Loop shutdown.\n",
      "Dec 16, 2024 3:30:09 AM io.github.spencerpark.jupyter.channels.Loop run\n",
      "INFO: Running loop shutdown callback.\n",
      "Dec 16, 2024 3:30:09 AM io.github.spencerpark.jupyter.channels.Loop run\n",
      "INFO: Loop stopped.\n",
      "Dec 16, 2024 3:30:09 AM io.github.spencerpark.jupyter.channels.Loop run\n",
      "INFO: Running loop shutdown callback.\n",
      "Dec 16, 2024 3:30:09 AM io.github.spencerpark.jupyter.channels.Loop run\n",
      "INFO: Loop stopped.\n"
     ]
    },
    {
     "name": "stderr",
     "output_type": "stream",
     "text": [
      "Dec 16, 2024 3:30:10 AM io.github.spencerpark.jupyter.channels.Loop run\n",
      "INFO: Running loop shutdown callback.\n",
      "Dec 16, 2024 3:30:10 AM io.github.spencerpark.jupyter.channels.Loop run\n",
      "INFO: Loop stopped.\n"
     ]
    },
    {
     "name": "stdout",
     "output_type": "stream",
     "text": [
      "Signing notebook: TestSuite/Examples/Variability Examples.ipynb\n",
      "Done.\n"
     ]
    }
   ],
   "source": [
    "import glob, nbformat, subprocess\n",
    "\n",
    "from nbconvert.preprocessors import ExecutePreprocessor\n",
    "from nbconvert.preprocessors.execute import CellExecutionError\n",
    "\n",
    "ExecutePreprocessor.allow_errors = True\n",
    "\n",
    "for flname in ([\"KernelMagic.ipynb\"] + glob.glob(\"SysML*.ipynb\") + \n",
    "               glob.glob(\"TestSuite/*.ipynb\") + glob.glob(\"TestSuite/Examples/*.ipynb\")):\n",
    "    with open(flname) as f:\n",
    "        nb    = nbformat.read(f,as_version=4)\n",
    "        ep    = ExecutePreprocessor(timeout=None, kernel_name='sysml')\n",
    "        n_out = flname\n",
    "        try:\n",
    "            print(\"Executing: {}\".format(flname))\n",
    "            ep.preprocess(nb, {'metadata': {'path': 'TestSuite/'}})\n",
    "        except CellExecutionError:\n",
    "            msg = 'Error executing the notebook \"%s\".\\n' % f\n",
    "            msg += 'See notebook \"%s\" for the traceback.' % n_out\n",
    "            print(msg)\n",
    "        except TimeoutError:\n",
    "            msg = 'Timeout executing the notebook \"%s\".\\n' % n\n",
    "            print(msg)\n",
    "        finally:\n",
    "            # Write output file\n",
    "            with open(n_out, mode='wt') as out_file: nbformat.write(nb, out_file)            \n",
    "            subprocess.call(\"jupyter trust '{}'\".format(n_out), shell=True)\n",
    "            \n",
    "print(\"Done.\")"
   ]
  },
  {
   "cell_type": "markdown",
   "id": "cea6c783",
   "metadata": {},
   "source": [
    "## Running Locally\n",
    "\n",
    "This is intended to be run locally. The notebooks are then retrieved and stored in the repository. To this, the following should be done:\n",
    "\n",
    "```\n",
    "make spin-up\n",
    "```\n",
    "\n",
    "Will start the Jupyter and API servers locally in a Docker container.\n",
    "\n",
    "Start a section in the Jupyter server and run this notebook.\n",
    "\n",
    "After it completes, you can then copy all the notebooks to your local drive by doing:\n",
    "\n",
    "```\n",
    "make get-notebooks\n",
    "```\n",
    "\n",
    "**NOTE**: Ensure that the docker container is still running when getting the notebooks - these are retrieved from the docker container running the Jupyter server.\n",
    "\n",
    "And after that, they can all be checked in and pushed to github."
   ]
  }
 ],
 "metadata": {
  "kernelspec": {
   "display_name": "Python 3 (ipykernel)",
   "language": "python",
   "name": "python3"
  },
  "language_info": {
   "codemirror_mode": {
    "name": "ipython",
    "version": 3
   },
   "file_extension": ".py",
   "mimetype": "text/x-python",
   "name": "python",
   "nbconvert_exporter": "python",
   "pygments_lexer": "ipython3",
   "version": "3.12.7"
  }
 },
 "nbformat": 4,
 "nbformat_minor": 5
}
